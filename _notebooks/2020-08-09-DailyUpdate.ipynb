{
 "cells": [
  {
   "cell_type": "markdown",
   "metadata": {
    "papermill": {
     "duration": 0.018296,
     "end_time": "2020-08-15T19:10:24.948090",
     "exception": false,
     "start_time": "2020-08-15T19:10:24.929794",
     "status": "completed"
    },
    "tags": []
   },
   "source": [
    "# COVID-19 India Daily updates\n",
    "> Tracking coronavirus total cases, deaths and new cases in India on a daily basis\n",
    "\n",
    "- author: Vaibhav Mahapatra"
   ]
  },
  {
   "cell_type": "code",
   "execution_count": 1,
   "metadata": {
    "execution": {
     "iopub.execute_input": "2020-08-15T19:10:24.977963Z",
     "iopub.status.busy": "2020-08-15T19:10:24.977386Z",
     "iopub.status.idle": "2020-08-15T19:10:25.550625Z",
     "shell.execute_reply": "2020-08-15T19:10:25.550000Z"
    },
    "papermill": {
     "duration": 0.590766,
     "end_time": "2020-08-15T19:10:25.550803",
     "exception": false,
     "start_time": "2020-08-15T19:10:24.960037",
     "status": "completed"
    },
    "tags": []
   },
   "outputs": [],
   "source": [
    "#hide\n",
    "\n",
    "## Import essential packages below\n",
    "\n",
    "import pandas as pd\n",
    "import numpy as np\n",
    "import requests\n",
    "import json\n",
    "import matplotlib.pyplot as plt\n",
    "import matplotlib.dates as mdates\n",
    "import matplotlib as mpl\n",
    "from IPython.core.display import display,HTML\n",
    "%matplotlib inline"
   ]
  },
  {
   "cell_type": "code",
   "execution_count": 2,
   "metadata": {
    "execution": {
     "iopub.execute_input": "2020-08-15T19:10:25.581469Z",
     "iopub.status.busy": "2020-08-15T19:10:25.580912Z",
     "iopub.status.idle": "2020-08-15T19:10:25.667532Z",
     "shell.execute_reply": "2020-08-15T19:10:25.668001Z"
    },
    "papermill": {
     "duration": 0.105104,
     "end_time": "2020-08-15T19:10:25.668153",
     "exception": false,
     "start_time": "2020-08-15T19:10:25.563049",
     "status": "completed"
    },
    "tags": []
   },
   "outputs": [
    {
     "data": {
      "text/plain": [
       "(465, 41)"
      ]
     },
     "execution_count": 2,
     "metadata": {},
     "output_type": "execute_result"
    }
   ],
   "source": [
    "#hide\n",
    "url = 'https://api.covid19india.org/csv/latest/state_wise_daily.csv'\n",
    "df = pd.read_csv(url)\n",
    "df.shape"
   ]
  },
  {
   "cell_type": "code",
   "execution_count": 3,
   "metadata": {
    "execution": {
     "iopub.execute_input": "2020-08-15T19:10:25.745190Z",
     "iopub.status.busy": "2020-08-15T19:10:25.737051Z",
     "iopub.status.idle": "2020-08-15T19:10:25.755250Z",
     "shell.execute_reply": "2020-08-15T19:10:25.755689Z"
    },
    "papermill": {
     "duration": 0.076123,
     "end_time": "2020-08-15T19:10:25.755853",
     "exception": false,
     "start_time": "2020-08-15T19:10:25.679730",
     "status": "completed"
    },
    "tags": []
   },
   "outputs": [
    {
     "data": {
      "text/html": [
       "<div>\n",
       "<style scoped>\n",
       "    .dataframe tbody tr th:only-of-type {\n",
       "        vertical-align: middle;\n",
       "    }\n",
       "\n",
       "    .dataframe tbody tr th {\n",
       "        vertical-align: top;\n",
       "    }\n",
       "\n",
       "    .dataframe thead th {\n",
       "        text-align: right;\n",
       "    }\n",
       "</style>\n",
       "<table border=\"1\" class=\"dataframe\">\n",
       "  <thead>\n",
       "    <tr style=\"text-align: right;\">\n",
       "      <th></th>\n",
       "      <th>Date</th>\n",
       "      <th>Status</th>\n",
       "      <th>TT</th>\n",
       "      <th>AN</th>\n",
       "      <th>AP</th>\n",
       "      <th>AR</th>\n",
       "      <th>AS</th>\n",
       "      <th>BR</th>\n",
       "      <th>CH</th>\n",
       "      <th>CT</th>\n",
       "      <th>...</th>\n",
       "      <th>PB</th>\n",
       "      <th>RJ</th>\n",
       "      <th>SK</th>\n",
       "      <th>TN</th>\n",
       "      <th>TG</th>\n",
       "      <th>TR</th>\n",
       "      <th>UP</th>\n",
       "      <th>UT</th>\n",
       "      <th>WB</th>\n",
       "      <th>UN</th>\n",
       "    </tr>\n",
       "  </thead>\n",
       "  <tbody>\n",
       "    <tr>\n",
       "      <th>459</th>\n",
       "      <td>14-Aug-20</td>\n",
       "      <td>Confirmed</td>\n",
       "      <td>65610</td>\n",
       "      <td>149</td>\n",
       "      <td>8943</td>\n",
       "      <td>95</td>\n",
       "      <td>2706</td>\n",
       "      <td>3911</td>\n",
       "      <td>86</td>\n",
       "      <td>529</td>\n",
       "      <td>...</td>\n",
       "      <td>1077</td>\n",
       "      <td>1278</td>\n",
       "      <td>149</td>\n",
       "      <td>5890</td>\n",
       "      <td>1921</td>\n",
       "      <td>164</td>\n",
       "      <td>4512</td>\n",
       "      <td>313</td>\n",
       "      <td>3035</td>\n",
       "      <td>0</td>\n",
       "    </tr>\n",
       "    <tr>\n",
       "      <th>460</th>\n",
       "      <td>14-Aug-20</td>\n",
       "      <td>Recovered</td>\n",
       "      <td>56920</td>\n",
       "      <td>108</td>\n",
       "      <td>9779</td>\n",
       "      <td>32</td>\n",
       "      <td>2310</td>\n",
       "      <td>2800</td>\n",
       "      <td>15</td>\n",
       "      <td>199</td>\n",
       "      <td>...</td>\n",
       "      <td>489</td>\n",
       "      <td>2078</td>\n",
       "      <td>42</td>\n",
       "      <td>5556</td>\n",
       "      <td>1210</td>\n",
       "      <td>103</td>\n",
       "      <td>3740</td>\n",
       "      <td>488</td>\n",
       "      <td>2572</td>\n",
       "      <td>0</td>\n",
       "    </tr>\n",
       "    <tr>\n",
       "      <th>461</th>\n",
       "      <td>14-Aug-20</td>\n",
       "      <td>Deceased</td>\n",
       "      <td>989</td>\n",
       "      <td>2</td>\n",
       "      <td>97</td>\n",
       "      <td>1</td>\n",
       "      <td>6</td>\n",
       "      <td>16</td>\n",
       "      <td>0</td>\n",
       "      <td>13</td>\n",
       "      <td>...</td>\n",
       "      <td>25</td>\n",
       "      <td>13</td>\n",
       "      <td>0</td>\n",
       "      <td>117</td>\n",
       "      <td>9</td>\n",
       "      <td>2</td>\n",
       "      <td>55</td>\n",
       "      <td>4</td>\n",
       "      <td>60</td>\n",
       "      <td>0</td>\n",
       "    </tr>\n",
       "    <tr>\n",
       "      <th>462</th>\n",
       "      <td>15-Aug-20</td>\n",
       "      <td>Confirmed</td>\n",
       "      <td>63986</td>\n",
       "      <td>120</td>\n",
       "      <td>8732</td>\n",
       "      <td>51</td>\n",
       "      <td>1057</td>\n",
       "      <td>3536</td>\n",
       "      <td>81</td>\n",
       "      <td>486</td>\n",
       "      <td>...</td>\n",
       "      <td>1028</td>\n",
       "      <td>1287</td>\n",
       "      <td>68</td>\n",
       "      <td>5860</td>\n",
       "      <td>1863</td>\n",
       "      <td>167</td>\n",
       "      <td>4774</td>\n",
       "      <td>325</td>\n",
       "      <td>3074</td>\n",
       "      <td>0</td>\n",
       "    </tr>\n",
       "    <tr>\n",
       "      <th>463</th>\n",
       "      <td>15-Aug-20</td>\n",
       "      <td>Recovered</td>\n",
       "      <td>53116</td>\n",
       "      <td>96</td>\n",
       "      <td>10414</td>\n",
       "      <td>21</td>\n",
       "      <td>1593</td>\n",
       "      <td>3368</td>\n",
       "      <td>27</td>\n",
       "      <td>189</td>\n",
       "      <td>...</td>\n",
       "      <td>535</td>\n",
       "      <td>1357</td>\n",
       "      <td>38</td>\n",
       "      <td>5236</td>\n",
       "      <td>1912</td>\n",
       "      <td>73</td>\n",
       "      <td>3705</td>\n",
       "      <td>246</td>\n",
       "      <td>2647</td>\n",
       "      <td>0</td>\n",
       "    </tr>\n",
       "    <tr>\n",
       "      <th>464</th>\n",
       "      <td>15-Aug-20</td>\n",
       "      <td>Deceased</td>\n",
       "      <td>951</td>\n",
       "      <td>0</td>\n",
       "      <td>87</td>\n",
       "      <td>0</td>\n",
       "      <td>7</td>\n",
       "      <td>15</td>\n",
       "      <td>0</td>\n",
       "      <td>4</td>\n",
       "      <td>...</td>\n",
       "      <td>40</td>\n",
       "      <td>16</td>\n",
       "      <td>0</td>\n",
       "      <td>127</td>\n",
       "      <td>10</td>\n",
       "      <td>4</td>\n",
       "      <td>58</td>\n",
       "      <td>4</td>\n",
       "      <td>58</td>\n",
       "      <td>0</td>\n",
       "    </tr>\n",
       "  </tbody>\n",
       "</table>\n",
       "<p>6 rows × 41 columns</p>\n",
       "</div>"
      ],
      "text/plain": [
       "          Date     Status     TT   AN     AP  AR    AS    BR  CH   CT  ...  \\\n",
       "459  14-Aug-20  Confirmed  65610  149   8943  95  2706  3911  86  529  ...   \n",
       "460  14-Aug-20  Recovered  56920  108   9779  32  2310  2800  15  199  ...   \n",
       "461  14-Aug-20   Deceased    989    2     97   1     6    16   0   13  ...   \n",
       "462  15-Aug-20  Confirmed  63986  120   8732  51  1057  3536  81  486  ...   \n",
       "463  15-Aug-20  Recovered  53116   96  10414  21  1593  3368  27  189  ...   \n",
       "464  15-Aug-20   Deceased    951    0     87   0     7    15   0    4  ...   \n",
       "\n",
       "       PB    RJ   SK    TN    TG   TR    UP   UT    WB  UN  \n",
       "459  1077  1278  149  5890  1921  164  4512  313  3035   0  \n",
       "460   489  2078   42  5556  1210  103  3740  488  2572   0  \n",
       "461    25    13    0   117     9    2    55    4    60   0  \n",
       "462  1028  1287   68  5860  1863  167  4774  325  3074   0  \n",
       "463   535  1357   38  5236  1912   73  3705  246  2647   0  \n",
       "464    40    16    0   127    10    4    58    4    58   0  \n",
       "\n",
       "[6 rows x 41 columns]"
      ]
     },
     "execution_count": 3,
     "metadata": {},
     "output_type": "execute_result"
    }
   ],
   "source": [
    "#hide\n",
    "df.tail(6)"
   ]
  },
  {
   "cell_type": "code",
   "execution_count": 4,
   "metadata": {
    "execution": {
     "iopub.execute_input": "2020-08-15T19:10:25.788664Z",
     "iopub.status.busy": "2020-08-15T19:10:25.788056Z",
     "iopub.status.idle": "2020-08-15T19:10:25.790896Z",
     "shell.execute_reply": "2020-08-15T19:10:25.790457Z"
    },
    "papermill": {
     "duration": 0.021468,
     "end_time": "2020-08-15T19:10:25.791015",
     "exception": false,
     "start_time": "2020-08-15T19:10:25.769547",
     "status": "completed"
    },
    "tags": []
   },
   "outputs": [
    {
     "data": {
      "text/plain": [
       "('15-Aug-20', '14-Aug-20')"
      ]
     },
     "execution_count": 4,
     "metadata": {},
     "output_type": "execute_result"
    }
   ],
   "source": [
    "#hide\n",
    "dt_today = df.iloc[-1][0]\n",
    "dt_yday = df.iloc[-4][0]\n",
    "dt_today, dt_yday"
   ]
  },
  {
   "cell_type": "code",
   "execution_count": 5,
   "metadata": {
    "execution": {
     "iopub.execute_input": "2020-08-15T19:10:25.822144Z",
     "iopub.status.busy": "2020-08-15T19:10:25.821598Z",
     "iopub.status.idle": "2020-08-15T19:10:25.827583Z",
     "shell.execute_reply": "2020-08-15T19:10:25.827134Z"
    },
    "papermill": {
     "duration": 0.024405,
     "end_time": "2020-08-15T19:10:25.827705",
     "exception": false,
     "start_time": "2020-08-15T19:10:25.803300",
     "status": "completed"
    },
    "tags": []
   },
   "outputs": [],
   "source": [
    "#hide\n",
    "df_today = df.groupby('Status').sum()\n",
    "df_yday = df.iloc[:-3][:].groupby('Status').sum()"
   ]
  },
  {
   "cell_type": "code",
   "execution_count": 6,
   "metadata": {
    "execution": {
     "iopub.execute_input": "2020-08-15T19:10:25.861935Z",
     "iopub.status.busy": "2020-08-15T19:10:25.861396Z",
     "iopub.status.idle": "2020-08-15T19:10:25.871270Z",
     "shell.execute_reply": "2020-08-15T19:10:25.870758Z"
    },
    "papermill": {
     "duration": 0.031313,
     "end_time": "2020-08-15T19:10:25.871389",
     "exception": false,
     "start_time": "2020-08-15T19:10:25.840076",
     "status": "completed"
    },
    "tags": []
   },
   "outputs": [
    {
     "data": {
      "text/html": [
       "<div>\n",
       "<style scoped>\n",
       "    .dataframe tbody tr th:only-of-type {\n",
       "        vertical-align: middle;\n",
       "    }\n",
       "\n",
       "    .dataframe tbody tr th {\n",
       "        vertical-align: top;\n",
       "    }\n",
       "\n",
       "    .dataframe thead th {\n",
       "        text-align: right;\n",
       "    }\n",
       "</style>\n",
       "<table border=\"1\" class=\"dataframe\">\n",
       "  <thead>\n",
       "    <tr style=\"text-align: right;\">\n",
       "      <th></th>\n",
       "      <th>TT</th>\n",
       "      <th>AN</th>\n",
       "      <th>AP</th>\n",
       "      <th>AR</th>\n",
       "      <th>AS</th>\n",
       "      <th>BR</th>\n",
       "      <th>CH</th>\n",
       "      <th>CT</th>\n",
       "      <th>DN</th>\n",
       "      <th>DD</th>\n",
       "      <th>...</th>\n",
       "      <th>PB</th>\n",
       "      <th>RJ</th>\n",
       "      <th>SK</th>\n",
       "      <th>TN</th>\n",
       "      <th>TG</th>\n",
       "      <th>TR</th>\n",
       "      <th>UP</th>\n",
       "      <th>UT</th>\n",
       "      <th>WB</th>\n",
       "      <th>UN</th>\n",
       "    </tr>\n",
       "    <tr>\n",
       "      <th>Status</th>\n",
       "      <th></th>\n",
       "      <th></th>\n",
       "      <th></th>\n",
       "      <th></th>\n",
       "      <th></th>\n",
       "      <th></th>\n",
       "      <th></th>\n",
       "      <th></th>\n",
       "      <th></th>\n",
       "      <th></th>\n",
       "      <th></th>\n",
       "      <th></th>\n",
       "      <th></th>\n",
       "      <th></th>\n",
       "      <th></th>\n",
       "      <th></th>\n",
       "      <th></th>\n",
       "      <th></th>\n",
       "      <th></th>\n",
       "      <th></th>\n",
       "      <th></th>\n",
       "    </tr>\n",
       "  </thead>\n",
       "  <tbody>\n",
       "    <tr>\n",
       "      <th>Confirmed</th>\n",
       "      <td>2589116</td>\n",
       "      <td>2302</td>\n",
       "      <td>281817</td>\n",
       "      <td>2658</td>\n",
       "      <td>75457</td>\n",
       "      <td>101906</td>\n",
       "      <td>2009</td>\n",
       "      <td>15045</td>\n",
       "      <td>1848</td>\n",
       "      <td>0</td>\n",
       "      <td>...</td>\n",
       "      <td>30041</td>\n",
       "      <td>59979</td>\n",
       "      <td>1161</td>\n",
       "      <td>332105</td>\n",
       "      <td>90259</td>\n",
       "      <td>6949</td>\n",
       "      <td>150061</td>\n",
       "      <td>11940</td>\n",
       "      <td>113432</td>\n",
       "      <td>0</td>\n",
       "    </tr>\n",
       "    <tr>\n",
       "      <th>Deceased</th>\n",
       "      <td>50095</td>\n",
       "      <td>24</td>\n",
       "      <td>2562</td>\n",
       "      <td>5</td>\n",
       "      <td>186</td>\n",
       "      <td>515</td>\n",
       "      <td>28</td>\n",
       "      <td>134</td>\n",
       "      <td>2</td>\n",
       "      <td>0</td>\n",
       "      <td>...</td>\n",
       "      <td>771</td>\n",
       "      <td>862</td>\n",
       "      <td>1</td>\n",
       "      <td>5641</td>\n",
       "      <td>684</td>\n",
       "      <td>50</td>\n",
       "      <td>2393</td>\n",
       "      <td>151</td>\n",
       "      <td>2377</td>\n",
       "      <td>0</td>\n",
       "    </tr>\n",
       "    <tr>\n",
       "      <th>Recovered</th>\n",
       "      <td>1860665</td>\n",
       "      <td>1119</td>\n",
       "      <td>191117</td>\n",
       "      <td>1771</td>\n",
       "      <td>53287</td>\n",
       "      <td>68675</td>\n",
       "      <td>1118</td>\n",
       "      <td>10046</td>\n",
       "      <td>1384</td>\n",
       "      <td>0</td>\n",
       "      <td>...</td>\n",
       "      <td>18863</td>\n",
       "      <td>45254</td>\n",
       "      <td>662</td>\n",
       "      <td>272251</td>\n",
       "      <td>66196</td>\n",
       "      <td>5088</td>\n",
       "      <td>96231</td>\n",
       "      <td>7748</td>\n",
       "      <td>83836</td>\n",
       "      <td>0</td>\n",
       "    </tr>\n",
       "  </tbody>\n",
       "</table>\n",
       "<p>3 rows × 39 columns</p>\n",
       "</div>"
      ],
      "text/plain": [
       "                TT    AN      AP    AR     AS      BR    CH     CT    DN  DD  \\\n",
       "Status                                                                         \n",
       "Confirmed  2589116  2302  281817  2658  75457  101906  2009  15045  1848   0   \n",
       "Deceased     50095    24    2562     5    186     515    28    134     2   0   \n",
       "Recovered  1860665  1119  191117  1771  53287   68675  1118  10046  1384   0   \n",
       "\n",
       "           ...     PB     RJ    SK      TN     TG    TR      UP     UT  \\\n",
       "Status     ...                                                           \n",
       "Confirmed  ...  30041  59979  1161  332105  90259  6949  150061  11940   \n",
       "Deceased   ...    771    862     1    5641    684    50    2393    151   \n",
       "Recovered  ...  18863  45254   662  272251  66196  5088   96231   7748   \n",
       "\n",
       "               WB  UN  \n",
       "Status                 \n",
       "Confirmed  113432   0  \n",
       "Deceased     2377   0  \n",
       "Recovered   83836   0  \n",
       "\n",
       "[3 rows x 39 columns]"
      ]
     },
     "execution_count": 6,
     "metadata": {},
     "output_type": "execute_result"
    }
   ],
   "source": [
    "#hide\n",
    "df_today"
   ]
  },
  {
   "cell_type": "code",
   "execution_count": 7,
   "metadata": {
    "execution": {
     "iopub.execute_input": "2020-08-15T19:10:25.911644Z",
     "iopub.status.busy": "2020-08-15T19:10:25.911095Z",
     "iopub.status.idle": "2020-08-15T19:10:25.913476Z",
     "shell.execute_reply": "2020-08-15T19:10:25.914034Z"
    },
    "papermill": {
     "duration": 0.029939,
     "end_time": "2020-08-15T19:10:25.914187",
     "exception": false,
     "start_time": "2020-08-15T19:10:25.884248",
     "status": "completed"
    },
    "tags": []
   },
   "outputs": [
    {
     "data": {
      "text/html": [
       "<div>\n",
       "<style scoped>\n",
       "    .dataframe tbody tr th:only-of-type {\n",
       "        vertical-align: middle;\n",
       "    }\n",
       "\n",
       "    .dataframe tbody tr th {\n",
       "        vertical-align: top;\n",
       "    }\n",
       "\n",
       "    .dataframe thead th {\n",
       "        text-align: right;\n",
       "    }\n",
       "</style>\n",
       "<table border=\"1\" class=\"dataframe\">\n",
       "  <thead>\n",
       "    <tr style=\"text-align: right;\">\n",
       "      <th></th>\n",
       "      <th>TT</th>\n",
       "      <th>AN</th>\n",
       "      <th>AP</th>\n",
       "      <th>AR</th>\n",
       "      <th>AS</th>\n",
       "      <th>BR</th>\n",
       "      <th>CH</th>\n",
       "      <th>CT</th>\n",
       "      <th>DN</th>\n",
       "      <th>DD</th>\n",
       "      <th>...</th>\n",
       "      <th>PB</th>\n",
       "      <th>RJ</th>\n",
       "      <th>SK</th>\n",
       "      <th>TN</th>\n",
       "      <th>TG</th>\n",
       "      <th>TR</th>\n",
       "      <th>UP</th>\n",
       "      <th>UT</th>\n",
       "      <th>WB</th>\n",
       "      <th>UN</th>\n",
       "    </tr>\n",
       "    <tr>\n",
       "      <th>Status</th>\n",
       "      <th></th>\n",
       "      <th></th>\n",
       "      <th></th>\n",
       "      <th></th>\n",
       "      <th></th>\n",
       "      <th></th>\n",
       "      <th></th>\n",
       "      <th></th>\n",
       "      <th></th>\n",
       "      <th></th>\n",
       "      <th></th>\n",
       "      <th></th>\n",
       "      <th></th>\n",
       "      <th></th>\n",
       "      <th></th>\n",
       "      <th></th>\n",
       "      <th></th>\n",
       "      <th></th>\n",
       "      <th></th>\n",
       "      <th></th>\n",
       "      <th></th>\n",
       "    </tr>\n",
       "  </thead>\n",
       "  <tbody>\n",
       "    <tr>\n",
       "      <th>Confirmed</th>\n",
       "      <td>2525130</td>\n",
       "      <td>2182</td>\n",
       "      <td>273085</td>\n",
       "      <td>2607</td>\n",
       "      <td>74400</td>\n",
       "      <td>98370</td>\n",
       "      <td>1928</td>\n",
       "      <td>14559</td>\n",
       "      <td>1784</td>\n",
       "      <td>0</td>\n",
       "      <td>...</td>\n",
       "      <td>29013</td>\n",
       "      <td>58692</td>\n",
       "      <td>1093</td>\n",
       "      <td>326245</td>\n",
       "      <td>88396</td>\n",
       "      <td>6782</td>\n",
       "      <td>145287</td>\n",
       "      <td>11615</td>\n",
       "      <td>110358</td>\n",
       "      <td>0</td>\n",
       "    </tr>\n",
       "    <tr>\n",
       "      <th>Deceased</th>\n",
       "      <td>49144</td>\n",
       "      <td>24</td>\n",
       "      <td>2475</td>\n",
       "      <td>5</td>\n",
       "      <td>179</td>\n",
       "      <td>500</td>\n",
       "      <td>28</td>\n",
       "      <td>130</td>\n",
       "      <td>2</td>\n",
       "      <td>0</td>\n",
       "      <td>...</td>\n",
       "      <td>731</td>\n",
       "      <td>846</td>\n",
       "      <td>1</td>\n",
       "      <td>5514</td>\n",
       "      <td>674</td>\n",
       "      <td>46</td>\n",
       "      <td>2335</td>\n",
       "      <td>147</td>\n",
       "      <td>2319</td>\n",
       "      <td>0</td>\n",
       "    </tr>\n",
       "    <tr>\n",
       "      <th>Recovered</th>\n",
       "      <td>1807549</td>\n",
       "      <td>1023</td>\n",
       "      <td>180703</td>\n",
       "      <td>1750</td>\n",
       "      <td>51694</td>\n",
       "      <td>65307</td>\n",
       "      <td>1091</td>\n",
       "      <td>9857</td>\n",
       "      <td>1312</td>\n",
       "      <td>0</td>\n",
       "      <td>...</td>\n",
       "      <td>18328</td>\n",
       "      <td>43897</td>\n",
       "      <td>624</td>\n",
       "      <td>267015</td>\n",
       "      <td>64284</td>\n",
       "      <td>5015</td>\n",
       "      <td>92526</td>\n",
       "      <td>7502</td>\n",
       "      <td>81189</td>\n",
       "      <td>0</td>\n",
       "    </tr>\n",
       "  </tbody>\n",
       "</table>\n",
       "<p>3 rows × 39 columns</p>\n",
       "</div>"
      ],
      "text/plain": [
       "                TT    AN      AP    AR     AS     BR    CH     CT    DN  DD  \\\n",
       "Status                                                                        \n",
       "Confirmed  2525130  2182  273085  2607  74400  98370  1928  14559  1784   0   \n",
       "Deceased     49144    24    2475     5    179    500    28    130     2   0   \n",
       "Recovered  1807549  1023  180703  1750  51694  65307  1091   9857  1312   0   \n",
       "\n",
       "           ...     PB     RJ    SK      TN     TG    TR      UP     UT  \\\n",
       "Status     ...                                                           \n",
       "Confirmed  ...  29013  58692  1093  326245  88396  6782  145287  11615   \n",
       "Deceased   ...    731    846     1    5514    674    46    2335    147   \n",
       "Recovered  ...  18328  43897   624  267015  64284  5015   92526   7502   \n",
       "\n",
       "               WB  UN  \n",
       "Status                 \n",
       "Confirmed  110358   0  \n",
       "Deceased     2319   0  \n",
       "Recovered   81189   0  \n",
       "\n",
       "[3 rows x 39 columns]"
      ]
     },
     "execution_count": 7,
     "metadata": {},
     "output_type": "execute_result"
    }
   ],
   "source": [
    "#hide\n",
    "df_yday.head()"
   ]
  },
  {
   "cell_type": "code",
   "execution_count": 8,
   "metadata": {
    "execution": {
     "iopub.execute_input": "2020-08-15T19:10:25.950077Z",
     "iopub.status.busy": "2020-08-15T19:10:25.949526Z",
     "iopub.status.idle": "2020-08-15T19:10:25.952313Z",
     "shell.execute_reply": "2020-08-15T19:10:25.952728Z"
    },
    "papermill": {
     "duration": 0.025428,
     "end_time": "2020-08-15T19:10:25.952867",
     "exception": false,
     "start_time": "2020-08-15T19:10:25.927439",
     "status": "completed"
    },
    "tags": []
   },
   "outputs": [
    {
     "data": {
      "text/plain": [
       "{'updated': '15-Aug-20',\n",
       " 'since': '14-Aug-20',\n",
       " 'Cases': 2589116,\n",
       " 'Deaths': 50095,\n",
       " 'Recovered': 1860665,\n",
       " 'PCases': 2525130,\n",
       " 'PDeaths': 49144,\n",
       " 'PRecovered': 1807549,\n",
       " 'Cases (+)': 63986,\n",
       " 'Deaths (+)': 951,\n",
       " 'Recovered (+)': 53116}"
      ]
     },
     "execution_count": 8,
     "metadata": {},
     "output_type": "execute_result"
    }
   ],
   "source": [
    "#hide\n",
    "summary = {\n",
    "    'updated' : dt_today,\n",
    "    'since' : dt_yday,\n",
    "    'Cases' : df_today['TT'][0],\n",
    "    'Deaths' : df_today['TT'][1],\n",
    "    'Recovered' : df_today['TT'][2],\n",
    "    'PCases' : df_yday['TT'][0],\n",
    "    'PDeaths' : df_yday['TT'][1],\n",
    "    'PRecovered': df_yday['TT'][2],\n",
    "    'Cases (+)' : df_today['TT'][0] - df_yday['TT'][0],\n",
    "    'Deaths (+)' : df_today['TT'][1] - df_yday['TT'][1],\n",
    "    'Recovered (+)': df_today['TT'][2] - df_yday['TT'][2]\n",
    "}\n",
    "\n",
    "summary"
   ]
  },
  {
   "cell_type": "code",
   "execution_count": 9,
   "metadata": {
    "execution": {
     "iopub.execute_input": "2020-08-15T19:10:25.986063Z",
     "iopub.status.busy": "2020-08-15T19:10:25.985502Z",
     "iopub.status.idle": "2020-08-15T19:10:25.988227Z",
     "shell.execute_reply": "2020-08-15T19:10:25.988669Z"
    },
    "papermill": {
     "duration": 0.022319,
     "end_time": "2020-08-15T19:10:25.988802",
     "exception": false,
     "start_time": "2020-08-15T19:10:25.966483",
     "status": "completed"
    },
    "tags": []
   },
   "outputs": [],
   "source": [
    "#hide\n",
    "overview = '''\n",
    "<!-- #######  HTML!! #########-->\n",
    "<h1 style=\"color: #5e9ca0; text-align: center;\">India</h1>\n",
    "<p style=\"text-align: center;\">Last update: <strong>{update}</strong></p>\n",
    "<p style=\"text-align: center;\">Confirmed cases:</p>\n",
    "<p style=\"text-align: center;font-size:24px;\">{cases} (<span style=\"color: #ff0000;\">+{new}</span>)</p>\n",
    "<p style=\"text-align: center;\">Confirmed deaths:</p>\n",
    "<p style=\"text-align: center;font-size:24px;\">{deaths} (<span style=\"color: #ff0000;\">+{dnew}</span>)</p>\n",
    "<p style=\"text-align: center;\">Recovered cases:</p>\n",
    "<p style=\"text-align: center;font-size:24px;\">{recovered} (<span style=\"color: #00ff00;\">+{rnew}</span>)</p>\n",
    "'''"
   ]
  },
  {
   "cell_type": "code",
   "execution_count": 10,
   "metadata": {
    "execution": {
     "iopub.execute_input": "2020-08-15T19:10:26.023195Z",
     "iopub.status.busy": "2020-08-15T19:10:26.022590Z",
     "iopub.status.idle": "2020-08-15T19:10:26.025790Z",
     "shell.execute_reply": "2020-08-15T19:10:26.025329Z"
    },
    "papermill": {
     "duration": 0.023231,
     "end_time": "2020-08-15T19:10:26.025904",
     "exception": false,
     "start_time": "2020-08-15T19:10:26.002673",
     "status": "completed"
    },
    "tags": []
   },
   "outputs": [
    {
     "data": {
      "text/html": [
       "\n",
       "<!-- #######  HTML!! #########-->\n",
       "<h1 style=\"color: #5e9ca0; text-align: center;\">India</h1>\n",
       "<p style=\"text-align: center;\">Last update: <strong>15-Aug-20</strong></p>\n",
       "<p style=\"text-align: center;\">Confirmed cases:</p>\n",
       "<p style=\"text-align: center;font-size:24px;\">2589116 (<span style=\"color: #ff0000;\">+63986</span>)</p>\n",
       "<p style=\"text-align: center;\">Confirmed deaths:</p>\n",
       "<p style=\"text-align: center;font-size:24px;\">50095 (<span style=\"color: #ff0000;\">+951</span>)</p>\n",
       "<p style=\"text-align: center;\">Recovered cases:</p>\n",
       "<p style=\"text-align: center;font-size:24px;\">1860665 (<span style=\"color: #00ff00;\">+53116</span>)</p>\n"
      ],
      "text/plain": [
       "<IPython.core.display.HTML object>"
      ]
     },
     "metadata": {},
     "output_type": "display_data"
    }
   ],
   "source": [
    "#hide_input\n",
    "# Fill the above HTML with the information from the summary dictionary\n",
    "\n",
    "update = summary['updated']\n",
    "cases = summary['Cases']\n",
    "new = summary['Cases (+)']\n",
    "deaths = summary['Deaths']\n",
    "dnew = summary['Deaths (+)']\n",
    "recovered = summary['Recovered']\n",
    "rnew = summary['Recovered (+)']\n",
    "\n",
    "html = HTML(overview.format(update=update, cases=cases,new=new,deaths=deaths,dnew=dnew, recovered=recovered, rnew=rnew))\n",
    "\n",
    "display(html)"
   ]
  },
  {
   "cell_type": "code",
   "execution_count": 11,
   "metadata": {
    "execution": {
     "iopub.execute_input": "2020-08-15T19:10:26.067874Z",
     "iopub.status.busy": "2020-08-15T19:10:26.067022Z",
     "iopub.status.idle": "2020-08-15T19:10:26.068734Z",
     "shell.execute_reply": "2020-08-15T19:10:26.069492Z"
    },
    "papermill": {
     "duration": 0.029606,
     "end_time": "2020-08-15T19:10:26.069693",
     "exception": false,
     "start_time": "2020-08-15T19:10:26.040087",
     "status": "completed"
    },
    "tags": []
   },
   "outputs": [],
   "source": [
    "#hide\n",
    "df_cases = df[df['Status'] == 'Confirmed'].copy()\n",
    "df_cases.drop(columns = ['Status'], inplace=True)\n",
    "df_deaths = df[df['Status'] == 'Deceased'].copy()\n",
    "df_deaths.drop(columns = ['Status'], inplace=True)\n",
    "df_recovered = df[df['Status'] == 'Recovered'].copy()\n",
    "df_recovered.drop(columns = ['Status'], inplace=True)"
   ]
  },
  {
   "cell_type": "markdown",
   "metadata": {
    "papermill": {
     "duration": 0.014091,
     "end_time": "2020-08-15T19:10:26.102693",
     "exception": false,
     "start_time": "2020-08-15T19:10:26.088602",
     "status": "completed"
    },
    "tags": []
   },
   "source": [
    "Plot for India:"
   ]
  },
  {
   "cell_type": "code",
   "execution_count": 12,
   "metadata": {
    "execution": {
     "iopub.execute_input": "2020-08-15T19:10:26.142218Z",
     "iopub.status.busy": "2020-08-15T19:10:26.141618Z",
     "iopub.status.idle": "2020-08-15T19:10:26.389293Z",
     "shell.execute_reply": "2020-08-15T19:10:26.388773Z"
    },
    "papermill": {
     "duration": 0.272776,
     "end_time": "2020-08-15T19:10:26.389430",
     "exception": false,
     "start_time": "2020-08-15T19:10:26.116654",
     "status": "completed"
    },
    "tags": []
   },
   "outputs": [
    {
     "data": {
      "image/png": "[encoded data removed]",
      "text/plain": [
       "<Figure size 1296x432 with 1 Axes>"
      ]
     },
     "metadata": {
      "needs_background": "light"
     },
     "output_type": "display_data"
    }
   ],
   "source": [
    "#hide_input\n",
    "plt.figure(figsize = (18,6))\n",
    "plt.plot(df_cases['Date'], df_cases['TT'],'.-', alpha=0.7, color='b', label='Confirmed cases')\n",
    "plt.plot(df_recovered['Date'], df_recovered['TT'],'.-', alpha=0.7, color='g', label='Recovered')\n",
    "plt.plot(df_deaths['Date'], df_deaths['TT'],'.-', alpha=0.7, color='r', label='Deceased')\n",
    "plt.legend()\n",
    "plt.title(\"Cases per day in India\")\n",
    "plt.xticks(ticks=' ')\n",
    "plt.xlabel(f'{df_cases.iloc[0][0]} to {df_cases.iloc[-1][0]}')\n",
    "plt.ylabel('No. of cases');"
   ]
  },
  {
   "cell_type": "markdown",
   "metadata": {
    "papermill": {
     "duration": 0.015829,
     "end_time": "2020-08-15T19:10:26.422092",
     "exception": false,
     "start_time": "2020-08-15T19:10:26.406263",
     "status": "completed"
    },
    "tags": []
   },
   "source": [
    "Plots for the states with highest number of cases:"
   ]
  },
  {
   "cell_type": "code",
   "execution_count": 13,
   "metadata": {
    "execution": {
     "iopub.execute_input": "2020-08-15T19:10:26.497868Z",
     "iopub.status.busy": "2020-08-15T19:10:26.462783Z",
     "iopub.status.idle": "2020-08-15T19:10:26.987488Z",
     "shell.execute_reply": "2020-08-15T19:10:26.986559Z"
    },
    "papermill": {
     "duration": 0.549669,
     "end_time": "2020-08-15T19:10:26.987643",
     "exception": false,
     "start_time": "2020-08-15T19:10:26.437974",
     "status": "completed"
    },
    "tags": []
   },
   "outputs": [
    {
     "data": {
      "image/png": "[encoded data removed]",
      "text/plain": [
       "<Figure size 1512x432 with 3 Axes>"
      ]
     },
     "metadata": {
      "needs_background": "light"
     },
     "output_type": "display_data"
    }
   ],
   "source": [
    "#hide_input\n",
    "top_3 = sorted(df_cases.sum().values[1:], reverse=True)[1:4]\n",
    "top3_states=[]\n",
    "for i in top_3:\n",
    "    top3_states.append(df_cases.sum()[df_cases.sum() == i].index)\n",
    "\n",
    "\n",
    "fig, ax = plt.subplots(1,3,figsize = (21,6))\n",
    "for i in range(3):\n",
    "    state = top3_states[i].values[0]\n",
    "    ax[i].plot(df_cases['Date'], df_cases[state],'.-', color='b', alpha=0.7)\n",
    "    ax[i].plot(df_deaths['Date'], df_deaths[state],'.-', color='r', alpha=0.7)\n",
    "    ax[i].plot(df_recovered['Date'], df_recovered[state],'.-', color='g', alpha=0.7)\n",
    "    \n",
    "    ax[i].set_title(f\"Cases in {state}\")\n",
    "    ax[i].set_xticks(ticks=' ')\n",
    "    ax[i].set_xlabel(f'{df_cases.iloc[0][0]} to {df_cases.iloc[-1][0]}')\n",
    "    ax[i].set_ylabel('No. of cases');"
   ]
  },
  {
   "cell_type": "code",
   "execution_count": null,
   "metadata": {
    "papermill": {
     "duration": 0.01908,
     "end_time": "2020-08-15T19:10:27.025946",
     "exception": false,
     "start_time": "2020-08-15T19:10:27.006866",
     "status": "completed"
    },
    "tags": []
   },
   "outputs": [],
   "source": []
  },
  {
   "cell_type": "code",
   "execution_count": null,
   "metadata": {
    "papermill": {
     "duration": 0.031462,
     "end_time": "2020-08-15T19:10:27.077783",
     "exception": false,
     "start_time": "2020-08-15T19:10:27.046321",
     "status": "completed"
    },
    "tags": []
   },
   "outputs": [],
   "source": []
  },
  {
   "cell_type": "code",
   "execution_count": null,
   "metadata": {
    "papermill": {
     "duration": 0.019738,
     "end_time": "2020-08-15T19:10:27.117207",
     "exception": false,
     "start_time": "2020-08-15T19:10:27.097469",
     "status": "completed"
    },
    "tags": []
   },
   "outputs": [],
   "source": []
  }
 ],
 "metadata": {
  "kernelspec": {
   "display_name": "Python 3",
   "language": "python",
   "name": "python3"
  },
  "language_info": {
   "codemirror_mode": {
    "name": "ipython",
    "version": 3
   },
   "file_extension": ".py",
   "mimetype": "text/x-python",
   "name": "python",
   "nbconvert_exporter": "python",
   "pygments_lexer": "ipython3",
   "version": "3.6.11"
  },
  "papermill": {
   "duration": 3.67875,
   "end_time": "2020-08-15T19:10:27.546326",
   "environment_variables": {},
   "exception": null,
   "input_path": "2020-08-09-DailyUpdate.ipynb",
   "output_path": "2020-08-09-DailyUpdate.ipynb",
   "parameters": {},
   "start_time": "2020-08-15T19:10:23.867576",
   "version": "2.1.2"
  }
 },
 "nbformat": 4,
 "nbformat_minor": 4
}