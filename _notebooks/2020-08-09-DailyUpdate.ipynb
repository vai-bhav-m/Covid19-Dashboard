{
 "cells": [
  {
   "cell_type": "markdown",
   "metadata": {
    "papermill": {
     "duration": 0.021406,
     "end_time": "2020-08-21T19:11:05.170115",
     "exception": false,
     "start_time": "2020-08-21T19:11:05.148709",
     "status": "completed"
    },
    "tags": []
   },
   "source": [
    "# COVID-19 India Daily updates\n",
    "> Tracking coronavirus total cases, deaths and new cases in India on a daily basis\n",
    "\n",
    "- author: Vaibhav Mahapatra"
   ]
  },
  {
   "cell_type": "code",
   "execution_count": 1,
   "metadata": {
    "execution": {
     "iopub.execute_input": "2020-08-21T19:11:05.209187Z",
     "iopub.status.busy": "2020-08-21T19:11:05.208438Z",
     "iopub.status.idle": "2020-08-21T19:11:05.876866Z",
     "shell.execute_reply": "2020-08-21T19:11:05.875791Z"
    },
    "papermill": {
     "duration": 0.691229,
     "end_time": "2020-08-21T19:11:05.877056",
     "exception": false,
     "start_time": "2020-08-21T19:11:05.185827",
     "status": "completed"
    },
    "tags": []
   },
   "outputs": [],
   "source": [
    "#hide\n",
    "\n",
    "## Import essential packages below\n",
    "\n",
    "import pandas as pd\n",
    "import numpy as np\n",
    "import requests\n",
    "import json\n",
    "import matplotlib.pyplot as plt\n",
    "import matplotlib.dates as mdates\n",
    "import matplotlib as mpl\n",
    "from IPython.core.display import display,HTML\n",
    "%matplotlib inline"
   ]
  },
  {
   "cell_type": "code",
   "execution_count": 2,
   "metadata": {
    "execution": {
     "iopub.execute_input": "2020-08-21T19:11:06.073045Z",
     "iopub.status.busy": "2020-08-21T19:11:06.072296Z",
     "iopub.status.idle": "2020-08-21T19:11:06.147008Z",
     "shell.execute_reply": "2020-08-21T19:11:06.148685Z"
    },
    "papermill": {
     "duration": 0.101175,
     "end_time": "2020-08-21T19:11:06.148878",
     "exception": false,
     "start_time": "2020-08-21T19:11:06.047703",
     "status": "completed"
    },
    "tags": []
   },
   "outputs": [
    {
     "data": {
      "text/plain": [
       "(483, 41)"
      ]
     },
     "execution_count": 2,
     "metadata": {},
     "output_type": "execute_result"
    }
   ],
   "source": [
    "#hide\n",
    "url = 'https://api.covid19india.org/csv/latest/state_wise_daily.csv'\n",
    "df = pd.read_csv(url)\n",
    "df.shape"
   ]
  },
  {
   "cell_type": "code",
   "execution_count": 3,
   "metadata": {
    "execution": {
     "iopub.execute_input": "2020-08-21T19:11:06.246395Z",
     "iopub.status.busy": "2020-08-21T19:11:06.238766Z",
     "iopub.status.idle": "2020-08-21T19:11:06.252239Z",
     "shell.execute_reply": "2020-08-21T19:11:06.251614Z"
    },
    "papermill": {
     "duration": 0.087092,
     "end_time": "2020-08-21T19:11:06.252403",
     "exception": false,
     "start_time": "2020-08-21T19:11:06.165311",
     "status": "completed"
    },
    "tags": []
   },
   "outputs": [
    {
     "data": {
      "text/html": [
       "<div>\n",
       "<style scoped>\n",
       "    .dataframe tbody tr th:only-of-type {\n",
       "        vertical-align: middle;\n",
       "    }\n",
       "\n",
       "    .dataframe tbody tr th {\n",
       "        vertical-align: top;\n",
       "    }\n",
       "\n",
       "    .dataframe thead th {\n",
       "        text-align: right;\n",
       "    }\n",
       "</style>\n",
       "<table border=\"1\" class=\"dataframe\">\n",
       "  <thead>\n",
       "    <tr style=\"text-align: right;\">\n",
       "      <th></th>\n",
       "      <th>Date</th>\n",
       "      <th>Status</th>\n",
       "      <th>TT</th>\n",
       "      <th>AN</th>\n",
       "      <th>AP</th>\n",
       "      <th>AR</th>\n",
       "      <th>AS</th>\n",
       "      <th>BR</th>\n",
       "      <th>CH</th>\n",
       "      <th>CT</th>\n",
       "      <th>...</th>\n",
       "      <th>PB</th>\n",
       "      <th>RJ</th>\n",
       "      <th>SK</th>\n",
       "      <th>TN</th>\n",
       "      <th>TG</th>\n",
       "      <th>TR</th>\n",
       "      <th>UP</th>\n",
       "      <th>UT</th>\n",
       "      <th>WB</th>\n",
       "      <th>UN</th>\n",
       "    </tr>\n",
       "  </thead>\n",
       "  <tbody>\n",
       "    <tr>\n",
       "      <th>477</th>\n",
       "      <td>20-Aug-20</td>\n",
       "      <td>Confirmed</td>\n",
       "      <td>68518</td>\n",
       "      <td>76</td>\n",
       "      <td>9393</td>\n",
       "      <td>116</td>\n",
       "      <td>1735</td>\n",
       "      <td>2451</td>\n",
       "      <td>119</td>\n",
       "      <td>1052</td>\n",
       "      <td>...</td>\n",
       "      <td>1741</td>\n",
       "      <td>1330</td>\n",
       "      <td>58</td>\n",
       "      <td>5986</td>\n",
       "      <td>1724</td>\n",
       "      <td>190</td>\n",
       "      <td>4824</td>\n",
       "      <td>411</td>\n",
       "      <td>3197</td>\n",
       "      <td>0</td>\n",
       "    </tr>\n",
       "    <tr>\n",
       "      <th>478</th>\n",
       "      <td>20-Aug-20</td>\n",
       "      <td>Recovered</td>\n",
       "      <td>61873</td>\n",
       "      <td>109</td>\n",
       "      <td>8846</td>\n",
       "      <td>71</td>\n",
       "      <td>2772</td>\n",
       "      <td>3585</td>\n",
       "      <td>39</td>\n",
       "      <td>554</td>\n",
       "      <td>...</td>\n",
       "      <td>334</td>\n",
       "      <td>1227</td>\n",
       "      <td>38</td>\n",
       "      <td>5742</td>\n",
       "      <td>1195</td>\n",
       "      <td>68</td>\n",
       "      <td>5863</td>\n",
       "      <td>301</td>\n",
       "      <td>3126</td>\n",
       "      <td>0</td>\n",
       "    </tr>\n",
       "    <tr>\n",
       "      <th>479</th>\n",
       "      <td>20-Aug-20</td>\n",
       "      <td>Deceased</td>\n",
       "      <td>981</td>\n",
       "      <td>1</td>\n",
       "      <td>95</td>\n",
       "      <td>0</td>\n",
       "      <td>8</td>\n",
       "      <td>6</td>\n",
       "      <td>0</td>\n",
       "      <td>8</td>\n",
       "      <td>...</td>\n",
       "      <td>37</td>\n",
       "      <td>11</td>\n",
       "      <td>0</td>\n",
       "      <td>116</td>\n",
       "      <td>10</td>\n",
       "      <td>0</td>\n",
       "      <td>95</td>\n",
       "      <td>9</td>\n",
       "      <td>53</td>\n",
       "      <td>0</td>\n",
       "    </tr>\n",
       "    <tr>\n",
       "      <th>480</th>\n",
       "      <td>21-Aug-20</td>\n",
       "      <td>Confirmed</td>\n",
       "      <td>68518</td>\n",
       "      <td>67</td>\n",
       "      <td>9544</td>\n",
       "      <td>60</td>\n",
       "      <td>1856</td>\n",
       "      <td>2461</td>\n",
       "      <td>116</td>\n",
       "      <td>873</td>\n",
       "      <td>...</td>\n",
       "      <td>1503</td>\n",
       "      <td>1335</td>\n",
       "      <td>46</td>\n",
       "      <td>5995</td>\n",
       "      <td>1457</td>\n",
       "      <td>256</td>\n",
       "      <td>4905</td>\n",
       "      <td>447</td>\n",
       "      <td>3245</td>\n",
       "      <td>0</td>\n",
       "    </tr>\n",
       "    <tr>\n",
       "      <th>481</th>\n",
       "      <td>21-Aug-20</td>\n",
       "      <td>Recovered</td>\n",
       "      <td>62858</td>\n",
       "      <td>106</td>\n",
       "      <td>8827</td>\n",
       "      <td>32</td>\n",
       "      <td>2476</td>\n",
       "      <td>3678</td>\n",
       "      <td>36</td>\n",
       "      <td>283</td>\n",
       "      <td>...</td>\n",
       "      <td>856</td>\n",
       "      <td>1306</td>\n",
       "      <td>7</td>\n",
       "      <td>5764</td>\n",
       "      <td>1781</td>\n",
       "      <td>86</td>\n",
       "      <td>5567</td>\n",
       "      <td>243</td>\n",
       "      <td>3082</td>\n",
       "      <td>0</td>\n",
       "    </tr>\n",
       "    <tr>\n",
       "      <th>482</th>\n",
       "      <td>21-Aug-20</td>\n",
       "      <td>Deceased</td>\n",
       "      <td>953</td>\n",
       "      <td>1</td>\n",
       "      <td>91</td>\n",
       "      <td>0</td>\n",
       "      <td>6</td>\n",
       "      <td>14</td>\n",
       "      <td>2</td>\n",
       "      <td>8</td>\n",
       "      <td>...</td>\n",
       "      <td>34</td>\n",
       "      <td>12</td>\n",
       "      <td>0</td>\n",
       "      <td>101</td>\n",
       "      <td>8</td>\n",
       "      <td>4</td>\n",
       "      <td>64</td>\n",
       "      <td>5</td>\n",
       "      <td>55</td>\n",
       "      <td>0</td>\n",
       "    </tr>\n",
       "  </tbody>\n",
       "</table>\n",
       "<p>6 rows × 41 columns</p>\n",
       "</div>"
      ],
      "text/plain": [
       "          Date     Status     TT   AN    AP   AR    AS    BR   CH    CT  ...  \\\n",
       "477  20-Aug-20  Confirmed  68518   76  9393  116  1735  2451  119  1052  ...   \n",
       "478  20-Aug-20  Recovered  61873  109  8846   71  2772  3585   39   554  ...   \n",
       "479  20-Aug-20   Deceased    981    1    95    0     8     6    0     8  ...   \n",
       "480  21-Aug-20  Confirmed  68518   67  9544   60  1856  2461  116   873  ...   \n",
       "481  21-Aug-20  Recovered  62858  106  8827   32  2476  3678   36   283  ...   \n",
       "482  21-Aug-20   Deceased    953    1    91    0     6    14    2     8  ...   \n",
       "\n",
       "       PB    RJ  SK    TN    TG   TR    UP   UT    WB  UN  \n",
       "477  1741  1330  58  5986  1724  190  4824  411  3197   0  \n",
       "478   334  1227  38  5742  1195   68  5863  301  3126   0  \n",
       "479    37    11   0   116    10    0    95    9    53   0  \n",
       "480  1503  1335  46  5995  1457  256  4905  447  3245   0  \n",
       "481   856  1306   7  5764  1781   86  5567  243  3082   0  \n",
       "482    34    12   0   101     8    4    64    5    55   0  \n",
       "\n",
       "[6 rows x 41 columns]"
      ]
     },
     "execution_count": 3,
     "metadata": {},
     "output_type": "execute_result"
    }
   ],
   "source": [
    "#hide\n",
    "df.tail(6)"
   ]
  },
  {
   "cell_type": "code",
   "execution_count": 4,
   "metadata": {
    "execution": {
     "iopub.execute_input": "2020-08-21T19:11:06.287395Z",
     "iopub.status.busy": "2020-08-21T19:11:06.286745Z",
     "iopub.status.idle": "2020-08-21T19:11:06.291270Z",
     "shell.execute_reply": "2020-08-21T19:11:06.290783Z"
    },
    "papermill": {
     "duration": 0.023965,
     "end_time": "2020-08-21T19:11:06.291416",
     "exception": false,
     "start_time": "2020-08-21T19:11:06.267451",
     "status": "completed"
    },
    "tags": []
   },
   "outputs": [
    {
     "data": {
      "text/plain": [
       "('21-Aug-20', '20-Aug-20')"
      ]
     },
     "execution_count": 4,
     "metadata": {},
     "output_type": "execute_result"
    }
   ],
   "source": [
    "#hide\n",
    "dt_today = df.iloc[-1][0]\n",
    "dt_yday = df.iloc[-4][0]\n",
    "dt_today, dt_yday"
   ]
  },
  {
   "cell_type": "code",
   "execution_count": 5,
   "metadata": {
    "execution": {
     "iopub.execute_input": "2020-08-21T19:11:06.335382Z",
     "iopub.status.busy": "2020-08-21T19:11:06.334623Z",
     "iopub.status.idle": "2020-08-21T19:11:06.341798Z",
     "shell.execute_reply": "2020-08-21T19:11:06.341158Z"
    },
    "papermill": {
     "duration": 0.029322,
     "end_time": "2020-08-21T19:11:06.341953",
     "exception": false,
     "start_time": "2020-08-21T19:11:06.312631",
     "status": "completed"
    },
    "tags": []
   },
   "outputs": [],
   "source": [
    "#hide\n",
    "df_today = df.groupby('Status').sum()\n",
    "df_yday = df.iloc[:-3][:].groupby('Status').sum()"
   ]
  },
  {
   "cell_type": "code",
   "execution_count": 6,
   "metadata": {
    "execution": {
     "iopub.execute_input": "2020-08-21T19:11:06.391084Z",
     "iopub.status.busy": "2020-08-21T19:11:06.390436Z",
     "iopub.status.idle": "2020-08-21T19:11:06.393827Z",
     "shell.execute_reply": "2020-08-21T19:11:06.393195Z"
    },
    "papermill": {
     "duration": 0.034977,
     "end_time": "2020-08-21T19:11:06.393966",
     "exception": false,
     "start_time": "2020-08-21T19:11:06.358989",
     "status": "completed"
    },
    "tags": []
   },
   "outputs": [
    {
     "data": {
      "text/html": [
       "<div>\n",
       "<style scoped>\n",
       "    .dataframe tbody tr th:only-of-type {\n",
       "        vertical-align: middle;\n",
       "    }\n",
       "\n",
       "    .dataframe tbody tr th {\n",
       "        vertical-align: top;\n",
       "    }\n",
       "\n",
       "    .dataframe thead th {\n",
       "        text-align: right;\n",
       "    }\n",
       "</style>\n",
       "<table border=\"1\" class=\"dataframe\">\n",
       "  <thead>\n",
       "    <tr style=\"text-align: right;\">\n",
       "      <th></th>\n",
       "      <th>TT</th>\n",
       "      <th>AN</th>\n",
       "      <th>AP</th>\n",
       "      <th>AR</th>\n",
       "      <th>AS</th>\n",
       "      <th>BR</th>\n",
       "      <th>CH</th>\n",
       "      <th>CT</th>\n",
       "      <th>DN</th>\n",
       "      <th>DD</th>\n",
       "      <th>...</th>\n",
       "      <th>PB</th>\n",
       "      <th>RJ</th>\n",
       "      <th>SK</th>\n",
       "      <th>TN</th>\n",
       "      <th>TG</th>\n",
       "      <th>TR</th>\n",
       "      <th>UP</th>\n",
       "      <th>UT</th>\n",
       "      <th>WB</th>\n",
       "      <th>UN</th>\n",
       "    </tr>\n",
       "    <tr>\n",
       "      <th>Status</th>\n",
       "      <th></th>\n",
       "      <th></th>\n",
       "      <th></th>\n",
       "      <th></th>\n",
       "      <th></th>\n",
       "      <th></th>\n",
       "      <th></th>\n",
       "      <th></th>\n",
       "      <th></th>\n",
       "      <th></th>\n",
       "      <th></th>\n",
       "      <th></th>\n",
       "      <th></th>\n",
       "      <th></th>\n",
       "      <th></th>\n",
       "      <th></th>\n",
       "      <th></th>\n",
       "      <th></th>\n",
       "      <th></th>\n",
       "      <th></th>\n",
       "      <th></th>\n",
       "    </tr>\n",
       "  </thead>\n",
       "  <tbody>\n",
       "    <tr>\n",
       "      <th>Confirmed</th>\n",
       "      <td>2972741</td>\n",
       "      <td>2743</td>\n",
       "      <td>334940</td>\n",
       "      <td>3126</td>\n",
       "      <td>87807</td>\n",
       "      <td>117671</td>\n",
       "      <td>2631</td>\n",
       "      <td>19510</td>\n",
       "      <td>2085</td>\n",
       "      <td>0</td>\n",
       "      <td>...</td>\n",
       "      <td>39327</td>\n",
       "      <td>67954</td>\n",
       "      <td>1349</td>\n",
       "      <td>367430</td>\n",
       "      <td>98881</td>\n",
       "      <td>8106</td>\n",
       "      <td>177239</td>\n",
       "      <td>14083</td>\n",
       "      <td>132364</td>\n",
       "      <td>0</td>\n",
       "    </tr>\n",
       "    <tr>\n",
       "      <th>Deceased</th>\n",
       "      <td>55939</td>\n",
       "      <td>32</td>\n",
       "      <td>3092</td>\n",
       "      <td>5</td>\n",
       "      <td>231</td>\n",
       "      <td>588</td>\n",
       "      <td>33</td>\n",
       "      <td>180</td>\n",
       "      <td>2</td>\n",
       "      <td>0</td>\n",
       "      <td>...</td>\n",
       "      <td>991</td>\n",
       "      <td>933</td>\n",
       "      <td>3</td>\n",
       "      <td>6340</td>\n",
       "      <td>737</td>\n",
       "      <td>69</td>\n",
       "      <td>2797</td>\n",
       "      <td>192</td>\n",
       "      <td>2689</td>\n",
       "      <td>0</td>\n",
       "    </tr>\n",
       "    <tr>\n",
       "      <th>Recovered</th>\n",
       "      <td>2220792</td>\n",
       "      <td>1735</td>\n",
       "      <td>244045</td>\n",
       "      <td>2125</td>\n",
       "      <td>65597</td>\n",
       "      <td>91841</td>\n",
       "      <td>1426</td>\n",
       "      <td>12022</td>\n",
       "      <td>1652</td>\n",
       "      <td>0</td>\n",
       "      <td>...</td>\n",
       "      <td>23893</td>\n",
       "      <td>52496</td>\n",
       "      <td>835</td>\n",
       "      <td>307677</td>\n",
       "      <td>76967</td>\n",
       "      <td>5651</td>\n",
       "      <td>126657</td>\n",
       "      <td>9676</td>\n",
       "      <td>101871</td>\n",
       "      <td>0</td>\n",
       "    </tr>\n",
       "  </tbody>\n",
       "</table>\n",
       "<p>3 rows × 39 columns</p>\n",
       "</div>"
      ],
      "text/plain": [
       "                TT    AN      AP    AR     AS      BR    CH     CT    DN  DD  \\\n",
       "Status                                                                         \n",
       "Confirmed  2972741  2743  334940  3126  87807  117671  2631  19510  2085   0   \n",
       "Deceased     55939    32    3092     5    231     588    33    180     2   0   \n",
       "Recovered  2220792  1735  244045  2125  65597   91841  1426  12022  1652   0   \n",
       "\n",
       "           ...     PB     RJ    SK      TN     TG    TR      UP     UT  \\\n",
       "Status     ...                                                           \n",
       "Confirmed  ...  39327  67954  1349  367430  98881  8106  177239  14083   \n",
       "Deceased   ...    991    933     3    6340    737    69    2797    192   \n",
       "Recovered  ...  23893  52496   835  307677  76967  5651  126657   9676   \n",
       "\n",
       "               WB  UN  \n",
       "Status                 \n",
       "Confirmed  132364   0  \n",
       "Deceased     2689   0  \n",
       "Recovered  101871   0  \n",
       "\n",
       "[3 rows x 39 columns]"
      ]
     },
     "execution_count": 6,
     "metadata": {},
     "output_type": "execute_result"
    }
   ],
   "source": [
    "#hide\n",
    "df_today"
   ]
  },
  {
   "cell_type": "code",
   "execution_count": 7,
   "metadata": {
    "execution": {
     "iopub.execute_input": "2020-08-21T19:11:06.442787Z",
     "iopub.status.busy": "2020-08-21T19:11:06.442171Z",
     "iopub.status.idle": "2020-08-21T19:11:06.446706Z",
     "shell.execute_reply": "2020-08-21T19:11:06.446140Z"
    },
    "papermill": {
     "duration": 0.036727,
     "end_time": "2020-08-21T19:11:06.446844",
     "exception": false,
     "start_time": "2020-08-21T19:11:06.410117",
     "status": "completed"
    },
    "tags": []
   },
   "outputs": [
    {
     "data": {
      "text/html": [
       "<div>\n",
       "<style scoped>\n",
       "    .dataframe tbody tr th:only-of-type {\n",
       "        vertical-align: middle;\n",
       "    }\n",
       "\n",
       "    .dataframe tbody tr th {\n",
       "        vertical-align: top;\n",
       "    }\n",
       "\n",
       "    .dataframe thead th {\n",
       "        text-align: right;\n",
       "    }\n",
       "</style>\n",
       "<table border=\"1\" class=\"dataframe\">\n",
       "  <thead>\n",
       "    <tr style=\"text-align: right;\">\n",
       "      <th></th>\n",
       "      <th>TT</th>\n",
       "      <th>AN</th>\n",
       "      <th>AP</th>\n",
       "      <th>AR</th>\n",
       "      <th>AS</th>\n",
       "      <th>BR</th>\n",
       "      <th>CH</th>\n",
       "      <th>CT</th>\n",
       "      <th>DN</th>\n",
       "      <th>DD</th>\n",
       "      <th>...</th>\n",
       "      <th>PB</th>\n",
       "      <th>RJ</th>\n",
       "      <th>SK</th>\n",
       "      <th>TN</th>\n",
       "      <th>TG</th>\n",
       "      <th>TR</th>\n",
       "      <th>UP</th>\n",
       "      <th>UT</th>\n",
       "      <th>WB</th>\n",
       "      <th>UN</th>\n",
       "    </tr>\n",
       "    <tr>\n",
       "      <th>Status</th>\n",
       "      <th></th>\n",
       "      <th></th>\n",
       "      <th></th>\n",
       "      <th></th>\n",
       "      <th></th>\n",
       "      <th></th>\n",
       "      <th></th>\n",
       "      <th></th>\n",
       "      <th></th>\n",
       "      <th></th>\n",
       "      <th></th>\n",
       "      <th></th>\n",
       "      <th></th>\n",
       "      <th></th>\n",
       "      <th></th>\n",
       "      <th></th>\n",
       "      <th></th>\n",
       "      <th></th>\n",
       "      <th></th>\n",
       "      <th></th>\n",
       "      <th></th>\n",
       "    </tr>\n",
       "  </thead>\n",
       "  <tbody>\n",
       "    <tr>\n",
       "      <th>Confirmed</th>\n",
       "      <td>2904223</td>\n",
       "      <td>2676</td>\n",
       "      <td>325396</td>\n",
       "      <td>3066</td>\n",
       "      <td>85951</td>\n",
       "      <td>115210</td>\n",
       "      <td>2515</td>\n",
       "      <td>18637</td>\n",
       "      <td>2032</td>\n",
       "      <td>0</td>\n",
       "      <td>...</td>\n",
       "      <td>37824</td>\n",
       "      <td>66619</td>\n",
       "      <td>1303</td>\n",
       "      <td>361435</td>\n",
       "      <td>97424</td>\n",
       "      <td>7850</td>\n",
       "      <td>172334</td>\n",
       "      <td>13636</td>\n",
       "      <td>129119</td>\n",
       "      <td>0</td>\n",
       "    </tr>\n",
       "    <tr>\n",
       "      <th>Deceased</th>\n",
       "      <td>54986</td>\n",
       "      <td>31</td>\n",
       "      <td>3001</td>\n",
       "      <td>5</td>\n",
       "      <td>225</td>\n",
       "      <td>574</td>\n",
       "      <td>31</td>\n",
       "      <td>172</td>\n",
       "      <td>2</td>\n",
       "      <td>0</td>\n",
       "      <td>...</td>\n",
       "      <td>957</td>\n",
       "      <td>921</td>\n",
       "      <td>3</td>\n",
       "      <td>6239</td>\n",
       "      <td>729</td>\n",
       "      <td>65</td>\n",
       "      <td>2733</td>\n",
       "      <td>187</td>\n",
       "      <td>2634</td>\n",
       "      <td>0</td>\n",
       "    </tr>\n",
       "    <tr>\n",
       "      <th>Recovered</th>\n",
       "      <td>2157934</td>\n",
       "      <td>1629</td>\n",
       "      <td>235218</td>\n",
       "      <td>2093</td>\n",
       "      <td>63121</td>\n",
       "      <td>88163</td>\n",
       "      <td>1390</td>\n",
       "      <td>11739</td>\n",
       "      <td>1613</td>\n",
       "      <td>0</td>\n",
       "      <td>...</td>\n",
       "      <td>23037</td>\n",
       "      <td>51190</td>\n",
       "      <td>828</td>\n",
       "      <td>301913</td>\n",
       "      <td>75186</td>\n",
       "      <td>5565</td>\n",
       "      <td>121090</td>\n",
       "      <td>9433</td>\n",
       "      <td>98789</td>\n",
       "      <td>0</td>\n",
       "    </tr>\n",
       "  </tbody>\n",
       "</table>\n",
       "<p>3 rows × 39 columns</p>\n",
       "</div>"
      ],
      "text/plain": [
       "                TT    AN      AP    AR     AS      BR    CH     CT    DN  DD  \\\n",
       "Status                                                                         \n",
       "Confirmed  2904223  2676  325396  3066  85951  115210  2515  18637  2032   0   \n",
       "Deceased     54986    31    3001     5    225     574    31    172     2   0   \n",
       "Recovered  2157934  1629  235218  2093  63121   88163  1390  11739  1613   0   \n",
       "\n",
       "           ...     PB     RJ    SK      TN     TG    TR      UP     UT  \\\n",
       "Status     ...                                                           \n",
       "Confirmed  ...  37824  66619  1303  361435  97424  7850  172334  13636   \n",
       "Deceased   ...    957    921     3    6239    729    65    2733    187   \n",
       "Recovered  ...  23037  51190   828  301913  75186  5565  121090   9433   \n",
       "\n",
       "               WB  UN  \n",
       "Status                 \n",
       "Confirmed  129119   0  \n",
       "Deceased     2634   0  \n",
       "Recovered   98789   0  \n",
       "\n",
       "[3 rows x 39 columns]"
      ]
     },
     "execution_count": 7,
     "metadata": {},
     "output_type": "execute_result"
    }
   ],
   "source": [
    "#hide\n",
    "df_yday.head()"
   ]
  },
  {
   "cell_type": "code",
   "execution_count": 8,
   "metadata": {
    "execution": {
     "iopub.execute_input": "2020-08-21T19:11:06.486783Z",
     "iopub.status.busy": "2020-08-21T19:11:06.486129Z",
     "iopub.status.idle": "2020-08-21T19:11:06.489599Z",
     "shell.execute_reply": "2020-08-21T19:11:06.488968Z"
    },
    "papermill": {
     "duration": 0.027546,
     "end_time": "2020-08-21T19:11:06.489738",
     "exception": false,
     "start_time": "2020-08-21T19:11:06.462192",
     "status": "completed"
    },
    "tags": []
   },
   "outputs": [
    {
     "data": {
      "text/plain": [
       "{'updated': '21-Aug-20',\n",
       " 'since': '20-Aug-20',\n",
       " 'Cases': 2972741,\n",
       " 'Deaths': 55939,\n",
       " 'Recovered': 2220792,\n",
       " 'PCases': 2904223,\n",
       " 'PDeaths': 54986,\n",
       " 'PRecovered': 2157934,\n",
       " 'Cases (+)': 68518,\n",
       " 'Deaths (+)': 953,\n",
       " 'Recovered (+)': 62858}"
      ]
     },
     "execution_count": 8,
     "metadata": {},
     "output_type": "execute_result"
    }
   ],
   "source": [
    "#hide\n",
    "summary = {\n",
    "    'updated' : dt_today,\n",
    "    'since' : dt_yday,\n",
    "    'Cases' : df_today['TT'][0],\n",
    "    'Deaths' : df_today['TT'][1],\n",
    "    'Recovered' : df_today['TT'][2],\n",
    "    'PCases' : df_yday['TT'][0],\n",
    "    'PDeaths' : df_yday['TT'][1],\n",
    "    'PRecovered': df_yday['TT'][2],\n",
    "    'Cases (+)' : df_today['TT'][0] - df_yday['TT'][0],\n",
    "    'Deaths (+)' : df_today['TT'][1] - df_yday['TT'][1],\n",
    "    'Recovered (+)': df_today['TT'][2] - df_yday['TT'][2]\n",
    "}\n",
    "\n",
    "summary"
   ]
  },
  {
   "cell_type": "code",
   "execution_count": 9,
   "metadata": {
    "execution": {
     "iopub.execute_input": "2020-08-21T19:11:06.526745Z",
     "iopub.status.busy": "2020-08-21T19:11:06.526064Z",
     "iopub.status.idle": "2020-08-21T19:11:06.528841Z",
     "shell.execute_reply": "2020-08-21T19:11:06.528330Z"
    },
    "papermill": {
     "duration": 0.023354,
     "end_time": "2020-08-21T19:11:06.528991",
     "exception": false,
     "start_time": "2020-08-21T19:11:06.505637",
     "status": "completed"
    },
    "tags": []
   },
   "outputs": [],
   "source": [
    "#hide\n",
    "overview = '''\n",
    "<!-- #######  HTML!! #########-->\n",
    "<h1 style=\"color: #5e9ca0; text-align: center;\">India</h1>\n",
    "<p style=\"text-align: center;\">Last update: <strong>{update}</strong></p>\n",
    "<p style=\"text-align: center;\">Confirmed cases:</p>\n",
    "<p style=\"text-align: center;font-size:24px;\">{cases} (<span style=\"color: #ff0000;\">+{new}</span>)</p>\n",
    "<p style=\"text-align: center;\">Confirmed deaths:</p>\n",
    "<p style=\"text-align: center;font-size:24px;\">{deaths} (<span style=\"color: #ff0000;\">+{dnew}</span>)</p>\n",
    "<p style=\"text-align: center;\">Recovered cases:</p>\n",
    "<p style=\"text-align: center;font-size:24px;\">{recovered} (<span style=\"color: #00ff00;\">+{rnew}</span>)</p>\n",
    "'''"
   ]
  },
  {
   "cell_type": "code",
   "execution_count": 10,
   "metadata": {
    "execution": {
     "iopub.execute_input": "2020-08-21T19:11:06.566846Z",
     "iopub.status.busy": "2020-08-21T19:11:06.566192Z",
     "iopub.status.idle": "2020-08-21T19:11:06.569468Z",
     "shell.execute_reply": "2020-08-21T19:11:06.568870Z"
    },
    "papermill": {
     "duration": 0.0246,
     "end_time": "2020-08-21T19:11:06.569602",
     "exception": false,
     "start_time": "2020-08-21T19:11:06.545002",
     "status": "completed"
    },
    "tags": []
   },
   "outputs": [
    {
     "data": {
      "text/html": [
       "\n",
       "<!-- #######  HTML!! #########-->\n",
       "<h1 style=\"color: #5e9ca0; text-align: center;\">India</h1>\n",
       "<p style=\"text-align: center;\">Last update: <strong>21-Aug-20</strong></p>\n",
       "<p style=\"text-align: center;\">Confirmed cases:</p>\n",
       "<p style=\"text-align: center;font-size:24px;\">2972741 (<span style=\"color: #ff0000;\">+68518</span>)</p>\n",
       "<p style=\"text-align: center;\">Confirmed deaths:</p>\n",
       "<p style=\"text-align: center;font-size:24px;\">55939 (<span style=\"color: #ff0000;\">+953</span>)</p>\n",
       "<p style=\"text-align: center;\">Recovered cases:</p>\n",
       "<p style=\"text-align: center;font-size:24px;\">2220792 (<span style=\"color: #00ff00;\">+62858</span>)</p>\n"
      ],
      "text/plain": [
       "<IPython.core.display.HTML object>"
      ]
     },
     "metadata": {},
     "output_type": "display_data"
    }
   ],
   "source": [
    "#hide_input\n",
    "# Fill the above HTML with the information from the summary dictionary\n",
    "\n",
    "update = summary['updated']\n",
    "cases = summary['Cases']\n",
    "new = summary['Cases (+)']\n",
    "deaths = summary['Deaths']\n",
    "dnew = summary['Deaths (+)']\n",
    "recovered = summary['Recovered']\n",
    "rnew = summary['Recovered (+)']\n",
    "\n",
    "html = HTML(overview.format(update=update, cases=cases,new=new,deaths=deaths,dnew=dnew, recovered=recovered, rnew=rnew))\n",
    "\n",
    "display(html)"
   ]
  },
  {
   "cell_type": "code",
   "execution_count": 11,
   "metadata": {
    "execution": {
     "iopub.execute_input": "2020-08-21T19:11:06.612447Z",
     "iopub.status.busy": "2020-08-21T19:11:06.611760Z",
     "iopub.status.idle": "2020-08-21T19:11:06.614078Z",
     "shell.execute_reply": "2020-08-21T19:11:06.614679Z"
    },
    "papermill": {
     "duration": 0.030374,
     "end_time": "2020-08-21T19:11:06.614820",
     "exception": false,
     "start_time": "2020-08-21T19:11:06.584446",
     "status": "completed"
    },
    "tags": []
   },
   "outputs": [],
   "source": [
    "#hide\n",
    "df_cases = df[df['Status'] == 'Confirmed'].copy()\n",
    "df_cases.drop(columns = ['Status'], inplace=True)\n",
    "df_deaths = df[df['Status'] == 'Deceased'].copy()\n",
    "df_deaths.drop(columns = ['Status'], inplace=True)\n",
    "df_recovered = df[df['Status'] == 'Recovered'].copy()\n",
    "df_recovered.drop(columns = ['Status'], inplace=True)"
   ]
  },
  {
   "cell_type": "markdown",
   "metadata": {
    "papermill": {
     "duration": 0.015235,
     "end_time": "2020-08-21T19:11:06.645472",
     "exception": false,
     "start_time": "2020-08-21T19:11:06.630237",
     "status": "completed"
    },
    "tags": []
   },
   "source": [
    "Plot for India:"
   ]
  },
  {
   "cell_type": "code",
   "execution_count": 12,
   "metadata": {
    "execution": {
     "iopub.execute_input": "2020-08-21T19:11:06.703490Z",
     "iopub.status.busy": "2020-08-21T19:11:06.702830Z",
     "iopub.status.idle": "2020-08-21T19:11:06.978878Z",
     "shell.execute_reply": "2020-08-21T19:11:06.979477Z"
    },
    "papermill": {
     "duration": 0.318023,
     "end_time": "2020-08-21T19:11:06.979678",
     "exception": false,
     "start_time": "2020-08-21T19:11:06.661655",
     "status": "completed"
    },
    "tags": []
   },
   "outputs": [
    {
     "data": {
      "image/png": "[encoded data removed]",
      "text/plain": [
       "<Figure size 1296x432 with 1 Axes>"
      ]
     },
     "metadata": {
      "needs_background": "light"
     },
     "output_type": "display_data"
    }
   ],
   "source": [
    "#hide_input\n",
    "plt.figure(figsize = (18,6))\n",
    "plt.plot(df_cases['Date'], df_cases['TT'],'.-', alpha=0.7, color='b', label='Confirmed cases')\n",
    "plt.plot(df_recovered['Date'], df_recovered['TT'],'.-', alpha=0.7, color='g', label='Recovered')\n",
    "plt.plot(df_deaths['Date'], df_deaths['TT'],'.-', alpha=0.7, color='r', label='Deceased')\n",
    "plt.legend()\n",
    "plt.title(\"Cases per day in India\")\n",
    "plt.xticks(ticks=' ')\n",
    "plt.xlabel(f'{df_cases.iloc[0][0]} to {df_cases.iloc[-1][0]}')\n",
    "plt.ylabel('No. of cases');"
   ]
  },
  {
   "cell_type": "markdown",
   "metadata": {
    "papermill": {
     "duration": 0.019385,
     "end_time": "2020-08-21T19:11:07.019255",
     "exception": false,
     "start_time": "2020-08-21T19:11:06.999870",
     "status": "completed"
    },
    "tags": []
   },
   "source": [
    "Plots for the states with highest number of cases:"
   ]
  },
  {
   "cell_type": "code",
   "execution_count": 13,
   "metadata": {
    "execution": {
     "iopub.execute_input": "2020-08-21T19:11:07.066035Z",
     "iopub.status.busy": "2020-08-21T19:11:07.065351Z",
     "iopub.status.idle": "2020-08-21T19:11:07.695973Z",
     "shell.execute_reply": "2020-08-21T19:11:07.696575Z"
    },
    "papermill": {
     "duration": 0.659927,
     "end_time": "2020-08-21T19:11:07.696742",
     "exception": false,
     "start_time": "2020-08-21T19:11:07.036815",
     "status": "completed"
    },
    "tags": []
   },
   "outputs": [
    {
     "data": {
      "image/png": "[encoded data removed]",
      "text/plain": [
       "<Figure size 1512x432 with 3 Axes>"
      ]
     },
     "metadata": {
      "needs_background": "light"
     },
     "output_type": "display_data"
    }
   ],
   "source": [
    "#hide_input\n",
    "top_3 = sorted(df_cases.sum().values[1:], reverse=True)[1:4]\n",
    "top3_states=[]\n",
    "for i in top_3:\n",
    "    top3_states.append(df_cases.sum()[df_cases.sum() == i].index)\n",
    "\n",
    "\n",
    "fig, ax = plt.subplots(1,3,figsize = (21,6))\n",
    "for i in range(3):\n",
    "    state = top3_states[i].values[0]\n",
    "    ax[i].plot(df_cases['Date'], df_cases[state],'.-', color='b', alpha=0.7)\n",
    "    ax[i].plot(df_deaths['Date'], df_deaths[state],'.-', color='r', alpha=0.7)\n",
    "    ax[i].plot(df_recovered['Date'], df_recovered[state],'.-', color='g', alpha=0.7)\n",
    "    \n",
    "    ax[i].set_title(f\"Cases in {state}\")\n",
    "    ax[i].set_xticks(ticks=' ')\n",
    "    ax[i].set_xlabel(f'{df_cases.iloc[0][0]} to {df_cases.iloc[-1][0]}')\n",
    "    ax[i].set_ylabel('No. of cases');"
   ]
  },
  {
   "cell_type": "code",
   "execution_count": null,
   "metadata": {
    "papermill": {
     "duration": 0.019769,
     "end_time": "2020-08-21T19:11:07.736342",
     "exception": false,
     "start_time": "2020-08-21T19:11:07.716573",
     "status": "completed"
    },
    "tags": []
   },
   "outputs": [],
   "source": []
  },
  {
   "cell_type": "code",
   "execution_count": null,
   "metadata": {
    "papermill": {
     "duration": 0.02107,
     "end_time": "2020-08-21T19:11:07.777430",
     "exception": false,
     "start_time": "2020-08-21T19:11:07.756360",
     "status": "completed"
    },
    "tags": []
   },
   "outputs": [],
   "source": []
  },
  {
   "cell_type": "code",
   "execution_count": null,
   "metadata": {
    "papermill": {
     "duration": 0.020409,
     "end_time": "2020-08-21T19:11:07.817047",
     "exception": false,
     "start_time": "2020-08-21T19:11:07.796638",
     "status": "completed"
    },
    "tags": []
   },
   "outputs": [],
   "source": []
  }
 ],
 "metadata": {
  "kernelspec": {
   "display_name": "Python 3",
   "language": "python",
   "name": "python3"
  },
  "language_info": {
   "codemirror_mode": {
    "name": "ipython",
    "version": 3
   },
   "file_extension": ".py",
   "mimetype": "text/x-python",
   "name": "python",
   "nbconvert_exporter": "python",
   "pygments_lexer": "ipython3",
   "version": "3.6.11"
  },
  "papermill": {
   "duration": 4.264553,
   "end_time": "2020-08-21T19:11:08.243995",
   "environment_variables": {},
   "exception": null,
   "input_path": "2020-08-09-DailyUpdate.ipynb",
   "output_path": "2020-08-09-DailyUpdate.ipynb",
   "parameters": {},
   "start_time": "2020-08-21T19:11:03.979442",
   "version": "2.1.2"
  }
 },
 "nbformat": 4,
 "nbformat_minor": 4
}