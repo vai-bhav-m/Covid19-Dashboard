{
 "cells": [
  {
   "cell_type": "markdown",
   "metadata": {
    "papermill": {
     "duration": 0.017325,
     "end_time": "2020-09-20T19:12:56.132832",
     "exception": false,
     "start_time": "2020-09-20T19:12:56.115507",
     "status": "completed"
    },
    "tags": []
   },
   "source": [
    "# COVID-19 India Daily updates\n",
    "> Tracking coronavirus total cases, deaths and new cases in India on a daily basis\n",
    "\n",
    "- author: Vaibhav Mahapatra"
   ]
  },
  {
   "cell_type": "code",
   "execution_count": 1,
   "metadata": {
    "execution": {
     "iopub.execute_input": "2020-09-20T19:12:56.162228Z",
     "iopub.status.busy": "2020-09-20T19:12:56.161732Z",
     "iopub.status.idle": "2020-09-20T19:12:56.662180Z",
     "shell.execute_reply": "2020-09-20T19:12:56.661280Z"
    },
    "papermill": {
     "duration": 0.517751,
     "end_time": "2020-09-20T19:12:56.662310",
     "exception": false,
     "start_time": "2020-09-20T19:12:56.144559",
     "status": "completed"
    },
    "tags": []
   },
   "outputs": [],
   "source": [
    "#hide\n",
    "\n",
    "## Import essential packages below\n",
    "\n",
    "import pandas as pd\n",
    "import numpy as np\n",
    "import requests\n",
    "import json\n",
    "import matplotlib.pyplot as plt\n",
    "import matplotlib.dates as mdates\n",
    "import matplotlib as mpl\n",
    "from IPython.core.display import display,HTML\n",
    "%matplotlib inline"
   ]
  },
  {
   "cell_type": "code",
   "execution_count": 2,
   "metadata": {
    "execution": {
     "iopub.execute_input": "2020-09-20T19:12:56.688501Z",
     "iopub.status.busy": "2020-09-20T19:12:56.688016Z",
     "iopub.status.idle": "2020-09-20T19:12:56.763261Z",
     "shell.execute_reply": "2020-09-20T19:12:56.763837Z"
    },
    "papermill": {
     "duration": 0.091291,
     "end_time": "2020-09-20T19:12:56.763987",
     "exception": false,
     "start_time": "2020-09-20T19:12:56.672696",
     "status": "completed"
    },
    "tags": []
   },
   "outputs": [
    {
     "data": {
      "text/plain": [
       "(573, 41)"
      ]
     },
     "execution_count": 2,
     "metadata": {},
     "output_type": "execute_result"
    }
   ],
   "source": [
    "#hide\n",
    "url = 'https://api.covid19india.org/csv/latest/state_wise_daily.csv'\n",
    "df = pd.read_csv(url)\n",
    "df.shape"
   ]
  },
  {
   "cell_type": "code",
   "execution_count": 3,
   "metadata": {
    "execution": {
     "iopub.execute_input": "2020-09-20T19:12:56.836571Z",
     "iopub.status.busy": "2020-09-20T19:12:56.835930Z",
     "iopub.status.idle": "2020-09-20T19:12:56.846298Z",
     "shell.execute_reply": "2020-09-20T19:12:56.845729Z"
    },
    "papermill": {
     "duration": 0.070604,
     "end_time": "2020-09-20T19:12:56.846428",
     "exception": false,
     "start_time": "2020-09-20T19:12:56.775824",
     "status": "completed"
    },
    "tags": []
   },
   "outputs": [
    {
     "data": {
      "text/html": [
       "<div>\n",
       "<style scoped>\n",
       "    .dataframe tbody tr th:only-of-type {\n",
       "        vertical-align: middle;\n",
       "    }\n",
       "\n",
       "    .dataframe tbody tr th {\n",
       "        vertical-align: top;\n",
       "    }\n",
       "\n",
       "    .dataframe thead th {\n",
       "        text-align: right;\n",
       "    }\n",
       "</style>\n",
       "<table border=\"1\" class=\"dataframe\">\n",
       "  <thead>\n",
       "    <tr style=\"text-align: right;\">\n",
       "      <th></th>\n",
       "      <th>Date</th>\n",
       "      <th>Status</th>\n",
       "      <th>TT</th>\n",
       "      <th>AN</th>\n",
       "      <th>AP</th>\n",
       "      <th>AR</th>\n",
       "      <th>AS</th>\n",
       "      <th>BR</th>\n",
       "      <th>CH</th>\n",
       "      <th>CT</th>\n",
       "      <th>...</th>\n",
       "      <th>PB</th>\n",
       "      <th>RJ</th>\n",
       "      <th>SK</th>\n",
       "      <th>TN</th>\n",
       "      <th>TG</th>\n",
       "      <th>TR</th>\n",
       "      <th>UP</th>\n",
       "      <th>UT</th>\n",
       "      <th>WB</th>\n",
       "      <th>UN</th>\n",
       "    </tr>\n",
       "  </thead>\n",
       "  <tbody>\n",
       "    <tr>\n",
       "      <th>567</th>\n",
       "      <td>19-Sep-20</td>\n",
       "      <td>Confirmed</td>\n",
       "      <td>92574</td>\n",
       "      <td>13</td>\n",
       "      <td>8218</td>\n",
       "      <td>245</td>\n",
       "      <td>2595</td>\n",
       "      <td>1616</td>\n",
       "      <td>290</td>\n",
       "      <td>2617</td>\n",
       "      <td>...</td>\n",
       "      <td>2723</td>\n",
       "      <td>1834</td>\n",
       "      <td>39</td>\n",
       "      <td>5569</td>\n",
       "      <td>2123</td>\n",
       "      <td>535</td>\n",
       "      <td>5729</td>\n",
       "      <td>2078</td>\n",
       "      <td>3188</td>\n",
       "      <td>0</td>\n",
       "    </tr>\n",
       "    <tr>\n",
       "      <th>568</th>\n",
       "      <td>19-Sep-20</td>\n",
       "      <td>Recovered</td>\n",
       "      <td>94384</td>\n",
       "      <td>22</td>\n",
       "      <td>10820</td>\n",
       "      <td>174</td>\n",
       "      <td>1856</td>\n",
       "      <td>1556</td>\n",
       "      <td>351</td>\n",
       "      <td>1689</td>\n",
       "      <td>...</td>\n",
       "      <td>1915</td>\n",
       "      <td>1540</td>\n",
       "      <td>34</td>\n",
       "      <td>5556</td>\n",
       "      <td>2151</td>\n",
       "      <td>583</td>\n",
       "      <td>6596</td>\n",
       "      <td>878</td>\n",
       "      <td>2993</td>\n",
       "      <td>0</td>\n",
       "    </tr>\n",
       "    <tr>\n",
       "      <th>569</th>\n",
       "      <td>19-Sep-20</td>\n",
       "      <td>Deceased</td>\n",
       "      <td>1149</td>\n",
       "      <td>0</td>\n",
       "      <td>58</td>\n",
       "      <td>0</td>\n",
       "      <td>8</td>\n",
       "      <td>2</td>\n",
       "      <td>6</td>\n",
       "      <td>19</td>\n",
       "      <td>...</td>\n",
       "      <td>51</td>\n",
       "      <td>14</td>\n",
       "      <td>2</td>\n",
       "      <td>66</td>\n",
       "      <td>9</td>\n",
       "      <td>7</td>\n",
       "      <td>84</td>\n",
       "      <td>14</td>\n",
       "      <td>56</td>\n",
       "      <td>0</td>\n",
       "    </tr>\n",
       "    <tr>\n",
       "      <th>570</th>\n",
       "      <td>20-Sep-20</td>\n",
       "      <td>Confirmed</td>\n",
       "      <td>81347</td>\n",
       "      <td>7</td>\n",
       "      <td>7738</td>\n",
       "      <td>135</td>\n",
       "      <td>1227</td>\n",
       "      <td>1555</td>\n",
       "      <td>0</td>\n",
       "      <td>0</td>\n",
       "      <td>...</td>\n",
       "      <td>2160</td>\n",
       "      <td>1865</td>\n",
       "      <td>49</td>\n",
       "      <td>5516</td>\n",
       "      <td>2137</td>\n",
       "      <td>525</td>\n",
       "      <td>5758</td>\n",
       "      <td>878</td>\n",
       "      <td>3177</td>\n",
       "      <td>0</td>\n",
       "    </tr>\n",
       "    <tr>\n",
       "      <th>571</th>\n",
       "      <td>20-Sep-20</td>\n",
       "      <td>Recovered</td>\n",
       "      <td>87240</td>\n",
       "      <td>15</td>\n",
       "      <td>10608</td>\n",
       "      <td>128</td>\n",
       "      <td>1795</td>\n",
       "      <td>1487</td>\n",
       "      <td>0</td>\n",
       "      <td>0</td>\n",
       "      <td>...</td>\n",
       "      <td>2225</td>\n",
       "      <td>1664</td>\n",
       "      <td>3</td>\n",
       "      <td>5206</td>\n",
       "      <td>2192</td>\n",
       "      <td>645</td>\n",
       "      <td>6584</td>\n",
       "      <td>855</td>\n",
       "      <td>2958</td>\n",
       "      <td>0</td>\n",
       "    </tr>\n",
       "    <tr>\n",
       "      <th>572</th>\n",
       "      <td>20-Sep-20</td>\n",
       "      <td>Deceased</td>\n",
       "      <td>1080</td>\n",
       "      <td>0</td>\n",
       "      <td>57</td>\n",
       "      <td>0</td>\n",
       "      <td>13</td>\n",
       "      <td>3</td>\n",
       "      <td>0</td>\n",
       "      <td>0</td>\n",
       "      <td>...</td>\n",
       "      <td>56</td>\n",
       "      <td>14</td>\n",
       "      <td>1</td>\n",
       "      <td>60</td>\n",
       "      <td>8</td>\n",
       "      <td>4</td>\n",
       "      <td>94</td>\n",
       "      <td>13</td>\n",
       "      <td>61</td>\n",
       "      <td>0</td>\n",
       "    </tr>\n",
       "  </tbody>\n",
       "</table>\n",
       "<p>6 rows × 41 columns</p>\n",
       "</div>"
      ],
      "text/plain": [
       "          Date     Status     TT  AN     AP   AR    AS    BR   CH    CT  ...  \\\n",
       "567  19-Sep-20  Confirmed  92574  13   8218  245  2595  1616  290  2617  ...   \n",
       "568  19-Sep-20  Recovered  94384  22  10820  174  1856  1556  351  1689  ...   \n",
       "569  19-Sep-20   Deceased   1149   0     58    0     8     2    6    19  ...   \n",
       "570  20-Sep-20  Confirmed  81347   7   7738  135  1227  1555    0     0  ...   \n",
       "571  20-Sep-20  Recovered  87240  15  10608  128  1795  1487    0     0  ...   \n",
       "572  20-Sep-20   Deceased   1080   0     57    0    13     3    0     0  ...   \n",
       "\n",
       "       PB    RJ  SK    TN    TG   TR    UP    UT    WB  UN  \n",
       "567  2723  1834  39  5569  2123  535  5729  2078  3188   0  \n",
       "568  1915  1540  34  5556  2151  583  6596   878  2993   0  \n",
       "569    51    14   2    66     9    7    84    14    56   0  \n",
       "570  2160  1865  49  5516  2137  525  5758   878  3177   0  \n",
       "571  2225  1664   3  5206  2192  645  6584   855  2958   0  \n",
       "572    56    14   1    60     8    4    94    13    61   0  \n",
       "\n",
       "[6 rows x 41 columns]"
      ]
     },
     "execution_count": 3,
     "metadata": {},
     "output_type": "execute_result"
    }
   ],
   "source": [
    "#hide\n",
    "df.tail(6)"
   ]
  },
  {
   "cell_type": "code",
   "execution_count": 4,
   "metadata": {
    "execution": {
     "iopub.execute_input": "2020-09-20T19:12:57.636082Z",
     "iopub.status.busy": "2020-09-20T19:12:57.635594Z",
     "iopub.status.idle": "2020-09-20T19:12:57.640575Z",
     "shell.execute_reply": "2020-09-20T19:12:57.640195Z"
    },
    "papermill": {
     "duration": 0.782606,
     "end_time": "2020-09-20T19:12:57.640682",
     "exception": false,
     "start_time": "2020-09-20T19:12:56.858076",
     "status": "completed"
    },
    "tags": []
   },
   "outputs": [
    {
     "data": {
      "text/plain": [
       "('20-Sep-20', '19-Sep-20')"
      ]
     },
     "execution_count": 4,
     "metadata": {},
     "output_type": "execute_result"
    }
   ],
   "source": [
    "#hide\n",
    "dt_today = df.iloc[-1][0]\n",
    "dt_yday = df.iloc[-4][0]\n",
    "dt_today, dt_yday"
   ]
  },
  {
   "cell_type": "code",
   "execution_count": 5,
   "metadata": {
    "execution": {
     "iopub.execute_input": "2020-09-20T19:12:57.667324Z",
     "iopub.status.busy": "2020-09-20T19:12:57.666815Z",
     "iopub.status.idle": "2020-09-20T19:12:57.672445Z",
     "shell.execute_reply": "2020-09-20T19:12:57.672902Z"
    },
    "papermill": {
     "duration": 0.021616,
     "end_time": "2020-09-20T19:12:57.673024",
     "exception": false,
     "start_time": "2020-09-20T19:12:57.651408",
     "status": "completed"
    },
    "tags": []
   },
   "outputs": [],
   "source": [
    "#hide\n",
    "df_today = df.groupby('Status').sum()\n",
    "df_yday = df.iloc[:-3][:].groupby('Status').sum()"
   ]
  },
  {
   "cell_type": "code",
   "execution_count": 6,
   "metadata": {
    "execution": {
     "iopub.execute_input": "2020-09-20T19:12:57.708919Z",
     "iopub.status.busy": "2020-09-20T19:12:57.708380Z",
     "iopub.status.idle": "2020-09-20T19:12:57.710569Z",
     "shell.execute_reply": "2020-09-20T19:12:57.710947Z"
    },
    "papermill": {
     "duration": 0.027571,
     "end_time": "2020-09-20T19:12:57.711055",
     "exception": false,
     "start_time": "2020-09-20T19:12:57.683484",
     "status": "completed"
    },
    "tags": []
   },
   "outputs": [
    {
     "data": {
      "text/html": [
       "<div>\n",
       "<style scoped>\n",
       "    .dataframe tbody tr th:only-of-type {\n",
       "        vertical-align: middle;\n",
       "    }\n",
       "\n",
       "    .dataframe tbody tr th {\n",
       "        vertical-align: top;\n",
       "    }\n",
       "\n",
       "    .dataframe thead th {\n",
       "        text-align: right;\n",
       "    }\n",
       "</style>\n",
       "<table border=\"1\" class=\"dataframe\">\n",
       "  <thead>\n",
       "    <tr style=\"text-align: right;\">\n",
       "      <th></th>\n",
       "      <th>TT</th>\n",
       "      <th>AN</th>\n",
       "      <th>AP</th>\n",
       "      <th>AR</th>\n",
       "      <th>AS</th>\n",
       "      <th>BR</th>\n",
       "      <th>CH</th>\n",
       "      <th>CT</th>\n",
       "      <th>DN</th>\n",
       "      <th>DD</th>\n",
       "      <th>...</th>\n",
       "      <th>PB</th>\n",
       "      <th>RJ</th>\n",
       "      <th>SK</th>\n",
       "      <th>TN</th>\n",
       "      <th>TG</th>\n",
       "      <th>TR</th>\n",
       "      <th>UP</th>\n",
       "      <th>UT</th>\n",
       "      <th>WB</th>\n",
       "      <th>UN</th>\n",
       "    </tr>\n",
       "    <tr>\n",
       "      <th>Status</th>\n",
       "      <th></th>\n",
       "      <th></th>\n",
       "      <th></th>\n",
       "      <th></th>\n",
       "      <th></th>\n",
       "      <th></th>\n",
       "      <th></th>\n",
       "      <th></th>\n",
       "      <th></th>\n",
       "      <th></th>\n",
       "      <th></th>\n",
       "      <th></th>\n",
       "      <th></th>\n",
       "      <th></th>\n",
       "      <th></th>\n",
       "      <th></th>\n",
       "      <th></th>\n",
       "      <th></th>\n",
       "      <th></th>\n",
       "      <th></th>\n",
       "      <th></th>\n",
       "    </tr>\n",
       "  </thead>\n",
       "  <tbody>\n",
       "    <tr>\n",
       "      <th>Confirmed</th>\n",
       "      <td>5478933</td>\n",
       "      <td>3647</td>\n",
       "      <td>625514</td>\n",
       "      <td>7385</td>\n",
       "      <td>156578</td>\n",
       "      <td>168542</td>\n",
       "      <td>9796</td>\n",
       "      <td>84234</td>\n",
       "      <td>2909</td>\n",
       "      <td>0</td>\n",
       "      <td>...</td>\n",
       "      <td>97689</td>\n",
       "      <td>114989</td>\n",
       "      <td>2404</td>\n",
       "      <td>541993</td>\n",
       "      <td>170796</td>\n",
       "      <td>22029</td>\n",
       "      <td>354275</td>\n",
       "      <td>40963</td>\n",
       "      <td>225137</td>\n",
       "      <td>0</td>\n",
       "    </tr>\n",
       "    <tr>\n",
       "      <th>Deceased</th>\n",
       "      <td>87269</td>\n",
       "      <td>52</td>\n",
       "      <td>5359</td>\n",
       "      <td>13</td>\n",
       "      <td>565</td>\n",
       "      <td>864</td>\n",
       "      <td>116</td>\n",
       "      <td>664</td>\n",
       "      <td>2</td>\n",
       "      <td>0</td>\n",
       "      <td>...</td>\n",
       "      <td>2813</td>\n",
       "      <td>1336</td>\n",
       "      <td>29</td>\n",
       "      <td>8811</td>\n",
       "      <td>1033</td>\n",
       "      <td>239</td>\n",
       "      <td>5047</td>\n",
       "      <td>491</td>\n",
       "      <td>4359</td>\n",
       "      <td>0</td>\n",
       "    </tr>\n",
       "    <tr>\n",
       "      <th>Recovered</th>\n",
       "      <td>4386951</td>\n",
       "      <td>3442</td>\n",
       "      <td>541319</td>\n",
       "      <td>5408</td>\n",
       "      <td>127335</td>\n",
       "      <td>154443</td>\n",
       "      <td>6766</td>\n",
       "      <td>46081</td>\n",
       "      <td>2649</td>\n",
       "      <td>0</td>\n",
       "      <td>...</td>\n",
       "      <td>72598</td>\n",
       "      <td>95469</td>\n",
       "      <td>1895</td>\n",
       "      <td>486479</td>\n",
       "      <td>139700</td>\n",
       "      <td>14787</td>\n",
       "      <td>283274</td>\n",
       "      <td>27828</td>\n",
       "      <td>195972</td>\n",
       "      <td>0</td>\n",
       "    </tr>\n",
       "  </tbody>\n",
       "</table>\n",
       "<p>3 rows × 39 columns</p>\n",
       "</div>"
      ],
      "text/plain": [
       "                TT    AN      AP    AR      AS      BR    CH     CT    DN  DD  \\\n",
       "Status                                                                          \n",
       "Confirmed  5478933  3647  625514  7385  156578  168542  9796  84234  2909   0   \n",
       "Deceased     87269    52    5359    13     565     864   116    664     2   0   \n",
       "Recovered  4386951  3442  541319  5408  127335  154443  6766  46081  2649   0   \n",
       "\n",
       "           ...     PB      RJ    SK      TN      TG     TR      UP     UT  \\\n",
       "Status     ...                                                              \n",
       "Confirmed  ...  97689  114989  2404  541993  170796  22029  354275  40963   \n",
       "Deceased   ...   2813    1336    29    8811    1033    239    5047    491   \n",
       "Recovered  ...  72598   95469  1895  486479  139700  14787  283274  27828   \n",
       "\n",
       "               WB  UN  \n",
       "Status                 \n",
       "Confirmed  225137   0  \n",
       "Deceased     4359   0  \n",
       "Recovered  195972   0  \n",
       "\n",
       "[3 rows x 39 columns]"
      ]
     },
     "execution_count": 6,
     "metadata": {},
     "output_type": "execute_result"
    }
   ],
   "source": [
    "#hide\n",
    "df_today"
   ]
  },
  {
   "cell_type": "code",
   "execution_count": 7,
   "metadata": {
    "execution": {
     "iopub.execute_input": "2020-09-20T19:12:57.750221Z",
     "iopub.status.busy": "2020-09-20T19:12:57.749647Z",
     "iopub.status.idle": "2020-09-20T19:12:57.752211Z",
     "shell.execute_reply": "2020-09-20T19:12:57.752656Z"
    },
    "papermill": {
     "duration": 0.030428,
     "end_time": "2020-09-20T19:12:57.752790",
     "exception": false,
     "start_time": "2020-09-20T19:12:57.722362",
     "status": "completed"
    },
    "tags": []
   },
   "outputs": [
    {
     "data": {
      "text/html": [
       "<div>\n",
       "<style scoped>\n",
       "    .dataframe tbody tr th:only-of-type {\n",
       "        vertical-align: middle;\n",
       "    }\n",
       "\n",
       "    .dataframe tbody tr th {\n",
       "        vertical-align: top;\n",
       "    }\n",
       "\n",
       "    .dataframe thead th {\n",
       "        text-align: right;\n",
       "    }\n",
       "</style>\n",
       "<table border=\"1\" class=\"dataframe\">\n",
       "  <thead>\n",
       "    <tr style=\"text-align: right;\">\n",
       "      <th></th>\n",
       "      <th>TT</th>\n",
       "      <th>AN</th>\n",
       "      <th>AP</th>\n",
       "      <th>AR</th>\n",
       "      <th>AS</th>\n",
       "      <th>BR</th>\n",
       "      <th>CH</th>\n",
       "      <th>CT</th>\n",
       "      <th>DN</th>\n",
       "      <th>DD</th>\n",
       "      <th>...</th>\n",
       "      <th>PB</th>\n",
       "      <th>RJ</th>\n",
       "      <th>SK</th>\n",
       "      <th>TN</th>\n",
       "      <th>TG</th>\n",
       "      <th>TR</th>\n",
       "      <th>UP</th>\n",
       "      <th>UT</th>\n",
       "      <th>WB</th>\n",
       "      <th>UN</th>\n",
       "    </tr>\n",
       "    <tr>\n",
       "      <th>Status</th>\n",
       "      <th></th>\n",
       "      <th></th>\n",
       "      <th></th>\n",
       "      <th></th>\n",
       "      <th></th>\n",
       "      <th></th>\n",
       "      <th></th>\n",
       "      <th></th>\n",
       "      <th></th>\n",
       "      <th></th>\n",
       "      <th></th>\n",
       "      <th></th>\n",
       "      <th></th>\n",
       "      <th></th>\n",
       "      <th></th>\n",
       "      <th></th>\n",
       "      <th></th>\n",
       "      <th></th>\n",
       "      <th></th>\n",
       "      <th></th>\n",
       "      <th></th>\n",
       "    </tr>\n",
       "  </thead>\n",
       "  <tbody>\n",
       "    <tr>\n",
       "      <th>Confirmed</th>\n",
       "      <td>5397586</td>\n",
       "      <td>3640</td>\n",
       "      <td>617776</td>\n",
       "      <td>7250</td>\n",
       "      <td>155351</td>\n",
       "      <td>166987</td>\n",
       "      <td>9796</td>\n",
       "      <td>84234</td>\n",
       "      <td>2875</td>\n",
       "      <td>0</td>\n",
       "      <td>...</td>\n",
       "      <td>95529</td>\n",
       "      <td>113124</td>\n",
       "      <td>2355</td>\n",
       "      <td>536477</td>\n",
       "      <td>168659</td>\n",
       "      <td>21504</td>\n",
       "      <td>348517</td>\n",
       "      <td>40085</td>\n",
       "      <td>221960</td>\n",
       "      <td>0</td>\n",
       "    </tr>\n",
       "    <tr>\n",
       "      <th>Deceased</th>\n",
       "      <td>86189</td>\n",
       "      <td>52</td>\n",
       "      <td>5302</td>\n",
       "      <td>13</td>\n",
       "      <td>552</td>\n",
       "      <td>861</td>\n",
       "      <td>116</td>\n",
       "      <td>664</td>\n",
       "      <td>2</td>\n",
       "      <td>0</td>\n",
       "      <td>...</td>\n",
       "      <td>2757</td>\n",
       "      <td>1322</td>\n",
       "      <td>28</td>\n",
       "      <td>8751</td>\n",
       "      <td>1025</td>\n",
       "      <td>235</td>\n",
       "      <td>4953</td>\n",
       "      <td>478</td>\n",
       "      <td>4298</td>\n",
       "      <td>0</td>\n",
       "    </tr>\n",
       "    <tr>\n",
       "      <th>Recovered</th>\n",
       "      <td>4299711</td>\n",
       "      <td>3427</td>\n",
       "      <td>530711</td>\n",
       "      <td>5280</td>\n",
       "      <td>125540</td>\n",
       "      <td>152956</td>\n",
       "      <td>6766</td>\n",
       "      <td>46081</td>\n",
       "      <td>2633</td>\n",
       "      <td>0</td>\n",
       "      <td>...</td>\n",
       "      <td>70373</td>\n",
       "      <td>93805</td>\n",
       "      <td>1892</td>\n",
       "      <td>481273</td>\n",
       "      <td>137508</td>\n",
       "      <td>14142</td>\n",
       "      <td>276690</td>\n",
       "      <td>26973</td>\n",
       "      <td>193014</td>\n",
       "      <td>0</td>\n",
       "    </tr>\n",
       "  </tbody>\n",
       "</table>\n",
       "<p>3 rows × 39 columns</p>\n",
       "</div>"
      ],
      "text/plain": [
       "                TT    AN      AP    AR      AS      BR    CH     CT    DN  DD  \\\n",
       "Status                                                                          \n",
       "Confirmed  5397586  3640  617776  7250  155351  166987  9796  84234  2875   0   \n",
       "Deceased     86189    52    5302    13     552     861   116    664     2   0   \n",
       "Recovered  4299711  3427  530711  5280  125540  152956  6766  46081  2633   0   \n",
       "\n",
       "           ...     PB      RJ    SK      TN      TG     TR      UP     UT  \\\n",
       "Status     ...                                                              \n",
       "Confirmed  ...  95529  113124  2355  536477  168659  21504  348517  40085   \n",
       "Deceased   ...   2757    1322    28    8751    1025    235    4953    478   \n",
       "Recovered  ...  70373   93805  1892  481273  137508  14142  276690  26973   \n",
       "\n",
       "               WB  UN  \n",
       "Status                 \n",
       "Confirmed  221960   0  \n",
       "Deceased     4298   0  \n",
       "Recovered  193014   0  \n",
       "\n",
       "[3 rows x 39 columns]"
      ]
     },
     "execution_count": 7,
     "metadata": {},
     "output_type": "execute_result"
    }
   ],
   "source": [
    "#hide\n",
    "df_yday.head()"
   ]
  },
  {
   "cell_type": "code",
   "execution_count": 8,
   "metadata": {
    "execution": {
     "iopub.execute_input": "2020-09-20T19:12:57.785963Z",
     "iopub.status.busy": "2020-09-20T19:12:57.785406Z",
     "iopub.status.idle": "2020-09-20T19:12:57.787657Z",
     "shell.execute_reply": "2020-09-20T19:12:57.788111Z"
    },
    "papermill": {
     "duration": 0.022319,
     "end_time": "2020-09-20T19:12:57.788231",
     "exception": false,
     "start_time": "2020-09-20T19:12:57.765912",
     "status": "completed"
    },
    "tags": []
   },
   "outputs": [
    {
     "data": {
      "text/plain": [
       "{'updated': '20-Sep-20',\n",
       " 'since': '19-Sep-20',\n",
       " 'Cases': 5478933,\n",
       " 'Deaths': 87269,\n",
       " 'Recovered': 4386951,\n",
       " 'PCases': 5397586,\n",
       " 'PDeaths': 86189,\n",
       " 'PRecovered': 4299711,\n",
       " 'Cases (+)': 81347,\n",
       " 'Deaths (+)': 1080,\n",
       " 'Recovered (+)': 87240}"
      ]
     },
     "execution_count": 8,
     "metadata": {},
     "output_type": "execute_result"
    }
   ],
   "source": [
    "#hide\n",
    "summary = {\n",
    "    'updated' : dt_today,\n",
    "    'since' : dt_yday,\n",
    "    'Cases' : df_today['TT'][0],\n",
    "    'Deaths' : df_today['TT'][1],\n",
    "    'Recovered' : df_today['TT'][2],\n",
    "    'PCases' : df_yday['TT'][0],\n",
    "    'PDeaths' : df_yday['TT'][1],\n",
    "    'PRecovered': df_yday['TT'][2],\n",
    "    'Cases (+)' : df_today['TT'][0] - df_yday['TT'][0],\n",
    "    'Deaths (+)' : df_today['TT'][1] - df_yday['TT'][1],\n",
    "    'Recovered (+)': df_today['TT'][2] - df_yday['TT'][2]\n",
    "}\n",
    "\n",
    "summary"
   ]
  },
  {
   "cell_type": "code",
   "execution_count": 9,
   "metadata": {
    "execution": {
     "iopub.execute_input": "2020-09-20T19:12:57.819989Z",
     "iopub.status.busy": "2020-09-20T19:12:57.819407Z",
     "iopub.status.idle": "2020-09-20T19:12:57.821525Z",
     "shell.execute_reply": "2020-09-20T19:12:57.821080Z"
    },
    "papermill": {
     "duration": 0.019562,
     "end_time": "2020-09-20T19:12:57.821632",
     "exception": false,
     "start_time": "2020-09-20T19:12:57.802070",
     "status": "completed"
    },
    "tags": []
   },
   "outputs": [],
   "source": [
    "#hide\n",
    "overview = '''\n",
    "<!-- #######  HTML!! #########-->\n",
    "<h1 style=\"color: #5e9ca0; text-align: center;\">India</h1>\n",
    "<p style=\"text-align: center;\">Last update: <strong>{update}</strong></p>\n",
    "<p style=\"text-align: center;\">Confirmed cases:</p>\n",
    "<p style=\"text-align: center;font-size:24px;\">{cases} (<span style=\"color: #ff0000;\">+{new}</span>)</p>\n",
    "<p style=\"text-align: center;\">Confirmed deaths:</p>\n",
    "<p style=\"text-align: center;font-size:24px;\">{deaths} (<span style=\"color: #ff0000;\">+{dnew}</span>)</p>\n",
    "<p style=\"text-align: center;\">Recovered cases:</p>\n",
    "<p style=\"text-align: center;font-size:24px;\">{recovered} (<span style=\"color: #00ff00;\">+{rnew}</span>)</p>\n",
    "'''"
   ]
  },
  {
   "cell_type": "code",
   "execution_count": 10,
   "metadata": {
    "execution": {
     "iopub.execute_input": "2020-09-20T19:12:57.855727Z",
     "iopub.status.busy": "2020-09-20T19:12:57.855139Z",
     "iopub.status.idle": "2020-09-20T19:12:57.858401Z",
     "shell.execute_reply": "2020-09-20T19:12:57.858805Z"
    },
    "papermill": {
     "duration": 0.023385,
     "end_time": "2020-09-20T19:12:57.858928",
     "exception": false,
     "start_time": "2020-09-20T19:12:57.835543",
     "status": "completed"
    },
    "tags": []
   },
   "outputs": [
    {
     "data": {
      "text/html": [
       "\n",
       "<!-- #######  HTML!! #########-->\n",
       "<h1 style=\"color: #5e9ca0; text-align: center;\">India</h1>\n",
       "<p style=\"text-align: center;\">Last update: <strong>20-Sep-20</strong></p>\n",
       "<p style=\"text-align: center;\">Confirmed cases:</p>\n",
       "<p style=\"text-align: center;font-size:24px;\">5478933 (<span style=\"color: #ff0000;\">+81347</span>)</p>\n",
       "<p style=\"text-align: center;\">Confirmed deaths:</p>\n",
       "<p style=\"text-align: center;font-size:24px;\">87269 (<span style=\"color: #ff0000;\">+1080</span>)</p>\n",
       "<p style=\"text-align: center;\">Recovered cases:</p>\n",
       "<p style=\"text-align: center;font-size:24px;\">4386951 (<span style=\"color: #00ff00;\">+87240</span>)</p>\n"
      ],
      "text/plain": [
       "<IPython.core.display.HTML object>"
      ]
     },
     "metadata": {},
     "output_type": "display_data"
    }
   ],
   "source": [
    "#hide_input\n",
    "# Fill the above HTML with the information from the summary dictionary\n",
    "\n",
    "update = summary['updated']\n",
    "cases = summary['Cases']\n",
    "new = summary['Cases (+)']\n",
    "deaths = summary['Deaths']\n",
    "dnew = summary['Deaths (+)']\n",
    "recovered = summary['Recovered']\n",
    "rnew = summary['Recovered (+)']\n",
    "\n",
    "html = HTML(overview.format(update=update, cases=cases,new=new,deaths=deaths,dnew=dnew, recovered=recovered, rnew=rnew))\n",
    "\n",
    "display(html)"
   ]
  },
  {
   "cell_type": "code",
   "execution_count": 11,
   "metadata": {
    "execution": {
     "iopub.execute_input": "2020-09-20T19:12:57.894225Z",
     "iopub.status.busy": "2020-09-20T19:12:57.893650Z",
     "iopub.status.idle": "2020-09-20T19:12:57.900737Z",
     "shell.execute_reply": "2020-09-20T19:12:57.900309Z"
    },
    "papermill": {
     "duration": 0.027901,
     "end_time": "2020-09-20T19:12:57.900846",
     "exception": false,
     "start_time": "2020-09-20T19:12:57.872945",
     "status": "completed"
    },
    "tags": []
   },
   "outputs": [],
   "source": [
    "#hide\n",
    "df_cases = df[df['Status'] == 'Confirmed'].copy()\n",
    "df_cases.drop(columns = ['Status'], inplace=True)\n",
    "df_deaths = df[df['Status'] == 'Deceased'].copy()\n",
    "df_deaths.drop(columns = ['Status'], inplace=True)\n",
    "df_recovered = df[df['Status'] == 'Recovered'].copy()\n",
    "df_recovered.drop(columns = ['Status'], inplace=True)"
   ]
  },
  {
   "cell_type": "markdown",
   "metadata": {
    "papermill": {
     "duration": 0.013584,
     "end_time": "2020-09-20T19:12:57.928195",
     "exception": false,
     "start_time": "2020-09-20T19:12:57.914611",
     "status": "completed"
    },
    "tags": []
   },
   "source": [
    "Plot for India:"
   ]
  },
  {
   "cell_type": "code",
   "execution_count": 12,
   "metadata": {
    "execution": {
     "iopub.execute_input": "2020-09-20T19:12:57.974607Z",
     "iopub.status.busy": "2020-09-20T19:12:57.974138Z",
     "iopub.status.idle": "2020-09-20T19:12:58.182935Z",
     "shell.execute_reply": "2020-09-20T19:12:58.183418Z"
    },
    "papermill": {
     "duration": 0.242003,
     "end_time": "2020-09-20T19:12:58.183550",
     "exception": false,
     "start_time": "2020-09-20T19:12:57.941547",
     "status": "completed"
    },
    "tags": []
   },
   "outputs": [
    {
     "data": {
      "image/png": "[encoded data removed]",
      "text/plain": [
       "<Figure size 1296x432 with 1 Axes>"
      ]
     },
     "metadata": {
      "needs_background": "light"
     },
     "output_type": "display_data"
    }
   ],
   "source": [
    "#hide_input\n",
    "plt.figure(figsize = (18,6))\n",
    "plt.plot(df_cases['Date'], df_cases['TT'],'.-', alpha=0.7, color='b', label='Confirmed cases')\n",
    "plt.plot(df_recovered['Date'], df_recovered['TT'],'.-', alpha=0.7, color='g', label='Recovered')\n",
    "plt.plot(df_deaths['Date'], df_deaths['TT'],'.-', alpha=0.7, color='r', label='Deceased')\n",
    "plt.legend()\n",
    "plt.title(\"Cases per day in India\")\n",
    "plt.xticks(ticks=' ')\n",
    "plt.xlabel(f'{df_cases.iloc[0][0]} to {df_cases.iloc[-1][0]}')\n",
    "plt.ylabel('No. of cases');"
   ]
  },
  {
   "cell_type": "markdown",
   "metadata": {
    "papermill": {
     "duration": 0.014675,
     "end_time": "2020-09-20T19:12:58.212510",
     "exception": false,
     "start_time": "2020-09-20T19:12:58.197835",
     "status": "completed"
    },
    "tags": []
   },
   "source": [
    "Plots for the states with highest number of cases:"
   ]
  },
  {
   "cell_type": "code",
   "execution_count": 13,
   "metadata": {
    "execution": {
     "iopub.execute_input": "2020-09-20T19:12:58.252865Z",
     "iopub.status.busy": "2020-09-20T19:12:58.252384Z",
     "iopub.status.idle": "2020-09-20T19:12:58.760355Z",
     "shell.execute_reply": "2020-09-20T19:12:58.759850Z"
    },
    "papermill": {
     "duration": 0.533917,
     "end_time": "2020-09-20T19:12:58.760498",
     "exception": false,
     "start_time": "2020-09-20T19:12:58.226581",
     "status": "completed"
    },
    "tags": []
   },
   "outputs": [
    {
     "data": {
      "image/png": "[encoded data removed]",
      "text/plain": [
       "<Figure size 1512x432 with 3 Axes>"
      ]
     },
     "metadata": {
      "needs_background": "light"
     },
     "output_type": "display_data"
    }
   ],
   "source": [
    "#hide_input\n",
    "top_3 = sorted(df_cases.sum().values[1:], reverse=True)[1:4]\n",
    "top3_states=[]\n",
    "for i in top_3:\n",
    "    top3_states.append(df_cases.sum()[df_cases.sum() == i].index)\n",
    "\n",
    "\n",
    "fig, ax = plt.subplots(1,3,figsize = (21,6))\n",
    "for i in range(3):\n",
    "    state = top3_states[i].values[0]\n",
    "    ax[i].plot(df_cases['Date'], df_cases[state],'.-', color='b', alpha=0.7)\n",
    "    ax[i].plot(df_deaths['Date'], df_deaths[state],'.-', color='r', alpha=0.7)\n",
    "    ax[i].plot(df_recovered['Date'], df_recovered[state],'.-', color='g', alpha=0.7)\n",
    "    \n",
    "    ax[i].set_title(f\"Cases in {state}\")\n",
    "    ax[i].set_xticks(ticks=' ')\n",
    "    ax[i].set_xlabel(f'{df_cases.iloc[0][0]} to {df_cases.iloc[-1][0]}')\n",
    "    ax[i].set_ylabel('No. of cases');"
   ]
  },
  {
   "cell_type": "code",
   "execution_count": null,
   "metadata": {
    "papermill": {
     "duration": 0.018828,
     "end_time": "2020-09-20T19:12:58.801463",
     "exception": false,
     "start_time": "2020-09-20T19:12:58.782635",
     "status": "completed"
    },
    "tags": []
   },
   "outputs": [],
   "source": []
  },
  {
   "cell_type": "code",
   "execution_count": null,
   "metadata": {
    "papermill": {
     "duration": 0.017069,
     "end_time": "2020-09-20T19:12:58.836374",
     "exception": false,
     "start_time": "2020-09-20T19:12:58.819305",
     "status": "completed"
    },
    "tags": []
   },
   "outputs": [],
   "source": []
  },
  {
   "cell_type": "code",
   "execution_count": null,
   "metadata": {
    "papermill": {
     "duration": 0.016383,
     "end_time": "2020-09-20T19:12:58.869527",
     "exception": false,
     "start_time": "2020-09-20T19:12:58.853144",
     "status": "completed"
    },
    "tags": []
   },
   "outputs": [],
   "source": []
  }
 ],
 "metadata": {
  "kernelspec": {
   "display_name": "Python 3",
   "language": "python",
   "name": "python3"
  },
  "language_info": {
   "codemirror_mode": {
    "name": "ipython",
    "version": 3
   },
   "file_extension": ".py",
   "mimetype": "text/x-python",
   "name": "python",
   "nbconvert_exporter": "python",
   "pygments_lexer": "ipython3",
   "version": "3.6.12"
  },
  "papermill": {
   "duration": 4.12034,
   "end_time": "2020-09-20T19:12:59.194879",
   "environment_variables": {},
   "exception": null,
   "input_path": "2020-08-09-DailyUpdate.ipynb",
   "output_path": "2020-08-09-DailyUpdate.ipynb",
   "parameters": {},
   "start_time": "2020-09-20T19:12:55.074539",
   "version": "2.1.2"
  }
 },
 "nbformat": 4,
 "nbformat_minor": 4
}