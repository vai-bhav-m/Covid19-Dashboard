{
 "cells": [
  {
   "cell_type": "markdown",
   "metadata": {
    "papermill": {
     "duration": 0.020128,
     "end_time": "2020-09-05T19:11:53.962910",
     "exception": false,
     "start_time": "2020-09-05T19:11:53.942782",
     "status": "completed"
    },
    "tags": []
   },
   "source": [
    "# COVID-19 India Daily updates\n",
    "> Tracking coronavirus total cases, deaths and new cases in India on a daily basis\n",
    "\n",
    "- author: Vaibhav Mahapatra"
   ]
  },
  {
   "cell_type": "code",
   "execution_count": 1,
   "metadata": {
    "execution": {
     "iopub.execute_input": "2020-09-05T19:11:54.002245Z",
     "iopub.status.busy": "2020-09-05T19:11:54.001473Z",
     "iopub.status.idle": "2020-09-05T19:11:54.782673Z",
     "shell.execute_reply": "2020-09-05T19:11:54.782026Z"
    },
    "papermill": {
     "duration": 0.804155,
     "end_time": "2020-09-05T19:11:54.782856",
     "exception": false,
     "start_time": "2020-09-05T19:11:53.978701",
     "status": "completed"
    },
    "tags": []
   },
   "outputs": [],
   "source": [
    "#hide\n",
    "\n",
    "## Import essential packages below\n",
    "\n",
    "import pandas as pd\n",
    "import numpy as np\n",
    "import requests\n",
    "import json\n",
    "import matplotlib.pyplot as plt\n",
    "import matplotlib.dates as mdates\n",
    "import matplotlib as mpl\n",
    "from IPython.core.display import display,HTML\n",
    "%matplotlib inline"
   ]
  },
  {
   "cell_type": "code",
   "execution_count": 2,
   "metadata": {
    "execution": {
     "iopub.execute_input": "2020-09-05T19:11:54.826941Z",
     "iopub.status.busy": "2020-09-05T19:11:54.823280Z",
     "iopub.status.idle": "2020-09-05T19:11:54.977453Z",
     "shell.execute_reply": "2020-09-05T19:11:54.978076Z"
    },
    "papermill": {
     "duration": 0.175229,
     "end_time": "2020-09-05T19:11:54.978259",
     "exception": false,
     "start_time": "2020-09-05T19:11:54.803030",
     "status": "completed"
    },
    "tags": []
   },
   "outputs": [
    {
     "data": {
      "text/plain": [
       "(528, 41)"
      ]
     },
     "execution_count": 2,
     "metadata": {},
     "output_type": "execute_result"
    }
   ],
   "source": [
    "#hide\n",
    "url = 'https://api.covid19india.org/csv/latest/state_wise_daily.csv'\n",
    "df = pd.read_csv(url)\n",
    "df.shape"
   ]
  },
  {
   "cell_type": "code",
   "execution_count": 3,
   "metadata": {
    "execution": {
     "iopub.execute_input": "2020-09-05T19:11:55.084227Z",
     "iopub.status.busy": "2020-09-05T19:11:55.082332Z",
     "iopub.status.idle": "2020-09-05T19:11:55.096329Z",
     "shell.execute_reply": "2020-09-05T19:11:55.096916Z"
    },
    "papermill": {
     "duration": 0.102184,
     "end_time": "2020-09-05T19:11:55.097097",
     "exception": false,
     "start_time": "2020-09-05T19:11:54.994913",
     "status": "completed"
    },
    "tags": []
   },
   "outputs": [
    {
     "data": {
      "text/html": [
       "<div>\n",
       "<style scoped>\n",
       "    .dataframe tbody tr th:only-of-type {\n",
       "        vertical-align: middle;\n",
       "    }\n",
       "\n",
       "    .dataframe tbody tr th {\n",
       "        vertical-align: top;\n",
       "    }\n",
       "\n",
       "    .dataframe thead th {\n",
       "        text-align: right;\n",
       "    }\n",
       "</style>\n",
       "<table border=\"1\" class=\"dataframe\">\n",
       "  <thead>\n",
       "    <tr style=\"text-align: right;\">\n",
       "      <th></th>\n",
       "      <th>Date</th>\n",
       "      <th>Status</th>\n",
       "      <th>TT</th>\n",
       "      <th>AN</th>\n",
       "      <th>AP</th>\n",
       "      <th>AR</th>\n",
       "      <th>AS</th>\n",
       "      <th>BR</th>\n",
       "      <th>CH</th>\n",
       "      <th>CT</th>\n",
       "      <th>...</th>\n",
       "      <th>PB</th>\n",
       "      <th>RJ</th>\n",
       "      <th>SK</th>\n",
       "      <th>TN</th>\n",
       "      <th>TG</th>\n",
       "      <th>TR</th>\n",
       "      <th>UP</th>\n",
       "      <th>UT</th>\n",
       "      <th>WB</th>\n",
       "      <th>UN</th>\n",
       "    </tr>\n",
       "  </thead>\n",
       "  <tbody>\n",
       "    <tr>\n",
       "      <th>522</th>\n",
       "      <td>04-Sep-20</td>\n",
       "      <td>Confirmed</td>\n",
       "      <td>87059</td>\n",
       "      <td>34</td>\n",
       "      <td>10776</td>\n",
       "      <td>145</td>\n",
       "      <td>2891</td>\n",
       "      <td>1978</td>\n",
       "      <td>203</td>\n",
       "      <td>2667</td>\n",
       "      <td>...</td>\n",
       "      <td>1498</td>\n",
       "      <td>1570</td>\n",
       "      <td>105</td>\n",
       "      <td>5976</td>\n",
       "      <td>2478</td>\n",
       "      <td>524</td>\n",
       "      <td>6074</td>\n",
       "      <td>831</td>\n",
       "      <td>2978</td>\n",
       "      <td>0</td>\n",
       "    </tr>\n",
       "    <tr>\n",
       "      <th>523</th>\n",
       "      <td>04-Sep-20</td>\n",
       "      <td>Recovered</td>\n",
       "      <td>69625</td>\n",
       "      <td>40</td>\n",
       "      <td>12334</td>\n",
       "      <td>113</td>\n",
       "      <td>2020</td>\n",
       "      <td>1435</td>\n",
       "      <td>222</td>\n",
       "      <td>658</td>\n",
       "      <td>...</td>\n",
       "      <td>1272</td>\n",
       "      <td>679</td>\n",
       "      <td>17</td>\n",
       "      <td>6334</td>\n",
       "      <td>2011</td>\n",
       "      <td>179</td>\n",
       "      <td>5006</td>\n",
       "      <td>502</td>\n",
       "      <td>3305</td>\n",
       "      <td>0</td>\n",
       "    </tr>\n",
       "    <tr>\n",
       "      <th>524</th>\n",
       "      <td>04-Sep-20</td>\n",
       "      <td>Deceased</td>\n",
       "      <td>1066</td>\n",
       "      <td>1</td>\n",
       "      <td>76</td>\n",
       "      <td>0</td>\n",
       "      <td>15</td>\n",
       "      <td>13</td>\n",
       "      <td>5</td>\n",
       "      <td>22</td>\n",
       "      <td>...</td>\n",
       "      <td>49</td>\n",
       "      <td>13</td>\n",
       "      <td>0</td>\n",
       "      <td>79</td>\n",
       "      <td>10</td>\n",
       "      <td>3</td>\n",
       "      <td>71</td>\n",
       "      <td>12</td>\n",
       "      <td>58</td>\n",
       "      <td>0</td>\n",
       "    </tr>\n",
       "    <tr>\n",
       "      <th>525</th>\n",
       "      <td>05-Sep-20</td>\n",
       "      <td>Confirmed</td>\n",
       "      <td>89980</td>\n",
       "      <td>35</td>\n",
       "      <td>10825</td>\n",
       "      <td>133</td>\n",
       "      <td>2698</td>\n",
       "      <td>1727</td>\n",
       "      <td>230</td>\n",
       "      <td>2511</td>\n",
       "      <td>...</td>\n",
       "      <td>1514</td>\n",
       "      <td>1566</td>\n",
       "      <td>58</td>\n",
       "      <td>5870</td>\n",
       "      <td>2511</td>\n",
       "      <td>691</td>\n",
       "      <td>6590</td>\n",
       "      <td>950</td>\n",
       "      <td>3042</td>\n",
       "      <td>0</td>\n",
       "    </tr>\n",
       "    <tr>\n",
       "      <th>526</th>\n",
       "      <td>05-Sep-20</td>\n",
       "      <td>Recovered</td>\n",
       "      <td>72627</td>\n",
       "      <td>41</td>\n",
       "      <td>11941</td>\n",
       "      <td>101</td>\n",
       "      <td>2343</td>\n",
       "      <td>1965</td>\n",
       "      <td>185</td>\n",
       "      <td>879</td>\n",
       "      <td>...</td>\n",
       "      <td>1306</td>\n",
       "      <td>1346</td>\n",
       "      <td>26</td>\n",
       "      <td>5859</td>\n",
       "      <td>2579</td>\n",
       "      <td>271</td>\n",
       "      <td>5141</td>\n",
       "      <td>535</td>\n",
       "      <td>3248</td>\n",
       "      <td>0</td>\n",
       "    </tr>\n",
       "    <tr>\n",
       "      <th>527</th>\n",
       "      <td>05-Sep-20</td>\n",
       "      <td>Deceased</td>\n",
       "      <td>1034</td>\n",
       "      <td>1</td>\n",
       "      <td>71</td>\n",
       "      <td>0</td>\n",
       "      <td>7</td>\n",
       "      <td>9</td>\n",
       "      <td>1</td>\n",
       "      <td>19</td>\n",
       "      <td>...</td>\n",
       "      <td>69</td>\n",
       "      <td>14</td>\n",
       "      <td>0</td>\n",
       "      <td>64</td>\n",
       "      <td>11</td>\n",
       "      <td>7</td>\n",
       "      <td>81</td>\n",
       "      <td>18</td>\n",
       "      <td>58</td>\n",
       "      <td>0</td>\n",
       "    </tr>\n",
       "  </tbody>\n",
       "</table>\n",
       "<p>6 rows × 41 columns</p>\n",
       "</div>"
      ],
      "text/plain": [
       "          Date     Status     TT  AN     AP   AR    AS    BR   CH    CT  ...  \\\n",
       "522  04-Sep-20  Confirmed  87059  34  10776  145  2891  1978  203  2667  ...   \n",
       "523  04-Sep-20  Recovered  69625  40  12334  113  2020  1435  222   658  ...   \n",
       "524  04-Sep-20   Deceased   1066   1     76    0    15    13    5    22  ...   \n",
       "525  05-Sep-20  Confirmed  89980  35  10825  133  2698  1727  230  2511  ...   \n",
       "526  05-Sep-20  Recovered  72627  41  11941  101  2343  1965  185   879  ...   \n",
       "527  05-Sep-20   Deceased   1034   1     71    0     7     9    1    19  ...   \n",
       "\n",
       "       PB    RJ   SK    TN    TG   TR    UP   UT    WB  UN  \n",
       "522  1498  1570  105  5976  2478  524  6074  831  2978   0  \n",
       "523  1272   679   17  6334  2011  179  5006  502  3305   0  \n",
       "524    49    13    0    79    10    3    71   12    58   0  \n",
       "525  1514  1566   58  5870  2511  691  6590  950  3042   0  \n",
       "526  1306  1346   26  5859  2579  271  5141  535  3248   0  \n",
       "527    69    14    0    64    11    7    81   18    58   0  \n",
       "\n",
       "[6 rows x 41 columns]"
      ]
     },
     "execution_count": 3,
     "metadata": {},
     "output_type": "execute_result"
    }
   ],
   "source": [
    "#hide\n",
    "df.tail(6)"
   ]
  },
  {
   "cell_type": "code",
   "execution_count": 4,
   "metadata": {
    "execution": {
     "iopub.execute_input": "2020-09-05T19:11:55.518962Z",
     "iopub.status.busy": "2020-09-05T19:11:55.517883Z",
     "iopub.status.idle": "2020-09-05T19:11:55.520815Z",
     "shell.execute_reply": "2020-09-05T19:11:55.521447Z"
    },
    "papermill": {
     "duration": 0.407971,
     "end_time": "2020-09-05T19:11:55.521625",
     "exception": false,
     "start_time": "2020-09-05T19:11:55.113654",
     "status": "completed"
    },
    "tags": []
   },
   "outputs": [
    {
     "data": {
      "text/plain": [
       "('05-Sep-20', '04-Sep-20')"
      ]
     },
     "execution_count": 4,
     "metadata": {},
     "output_type": "execute_result"
    }
   ],
   "source": [
    "#hide\n",
    "dt_today = df.iloc[-1][0]\n",
    "dt_yday = df.iloc[-4][0]\n",
    "dt_today, dt_yday"
   ]
  },
  {
   "cell_type": "code",
   "execution_count": 5,
   "metadata": {
    "execution": {
     "iopub.execute_input": "2020-09-05T19:11:55.567623Z",
     "iopub.status.busy": "2020-09-05T19:11:55.566879Z",
     "iopub.status.idle": "2020-09-05T19:11:55.577958Z",
     "shell.execute_reply": "2020-09-05T19:11:55.578870Z"
    },
    "papermill": {
     "duration": 0.038731,
     "end_time": "2020-09-05T19:11:55.579048",
     "exception": false,
     "start_time": "2020-09-05T19:11:55.540317",
     "status": "completed"
    },
    "tags": []
   },
   "outputs": [],
   "source": [
    "#hide\n",
    "df_today = df.groupby('Status').sum()\n",
    "df_yday = df.iloc[:-3][:].groupby('Status').sum()"
   ]
  },
  {
   "cell_type": "code",
   "execution_count": 6,
   "metadata": {
    "execution": {
     "iopub.execute_input": "2020-09-05T19:11:55.623407Z",
     "iopub.status.busy": "2020-09-05T19:11:55.622725Z",
     "iopub.status.idle": "2020-09-05T19:11:55.635032Z",
     "shell.execute_reply": "2020-09-05T19:11:55.634377Z"
    },
    "papermill": {
     "duration": 0.040991,
     "end_time": "2020-09-05T19:11:55.635180",
     "exception": false,
     "start_time": "2020-09-05T19:11:55.594189",
     "status": "completed"
    },
    "tags": []
   },
   "outputs": [
    {
     "data": {
      "text/html": [
       "<div>\n",
       "<style scoped>\n",
       "    .dataframe tbody tr th:only-of-type {\n",
       "        vertical-align: middle;\n",
       "    }\n",
       "\n",
       "    .dataframe tbody tr th {\n",
       "        vertical-align: top;\n",
       "    }\n",
       "\n",
       "    .dataframe thead th {\n",
       "        text-align: right;\n",
       "    }\n",
       "</style>\n",
       "<table border=\"1\" class=\"dataframe\">\n",
       "  <thead>\n",
       "    <tr style=\"text-align: right;\">\n",
       "      <th></th>\n",
       "      <th>TT</th>\n",
       "      <th>AN</th>\n",
       "      <th>AP</th>\n",
       "      <th>AR</th>\n",
       "      <th>AS</th>\n",
       "      <th>BR</th>\n",
       "      <th>CH</th>\n",
       "      <th>CT</th>\n",
       "      <th>DN</th>\n",
       "      <th>DD</th>\n",
       "      <th>...</th>\n",
       "      <th>PB</th>\n",
       "      <th>RJ</th>\n",
       "      <th>SK</th>\n",
       "      <th>TN</th>\n",
       "      <th>TG</th>\n",
       "      <th>TR</th>\n",
       "      <th>UP</th>\n",
       "      <th>UT</th>\n",
       "      <th>WB</th>\n",
       "      <th>UN</th>\n",
       "    </tr>\n",
       "    <tr>\n",
       "      <th>Status</th>\n",
       "      <th></th>\n",
       "      <th></th>\n",
       "      <th></th>\n",
       "      <th></th>\n",
       "      <th></th>\n",
       "      <th></th>\n",
       "      <th></th>\n",
       "      <th></th>\n",
       "      <th></th>\n",
       "      <th></th>\n",
       "      <th></th>\n",
       "      <th></th>\n",
       "      <th></th>\n",
       "      <th></th>\n",
       "      <th></th>\n",
       "      <th></th>\n",
       "      <th></th>\n",
       "      <th></th>\n",
       "      <th></th>\n",
       "      <th></th>\n",
       "      <th></th>\n",
       "    </tr>\n",
       "  </thead>\n",
       "  <tbody>\n",
       "    <tr>\n",
       "      <th>Confirmed</th>\n",
       "      <td>4109535</td>\n",
       "      <td>3288</td>\n",
       "      <td>487331</td>\n",
       "      <td>4852</td>\n",
       "      <td>123821</td>\n",
       "      <td>145861</td>\n",
       "      <td>5498</td>\n",
       "      <td>43145</td>\n",
       "      <td>2533</td>\n",
       "      <td>0</td>\n",
       "      <td>...</td>\n",
       "      <td>61527</td>\n",
       "      <td>89363</td>\n",
       "      <td>1914</td>\n",
       "      <td>457697</td>\n",
       "      <td>137885</td>\n",
       "      <td>14524</td>\n",
       "      <td>259765</td>\n",
       "      <td>23961</td>\n",
       "      <td>177701</td>\n",
       "      <td>0</td>\n",
       "    </tr>\n",
       "    <tr>\n",
       "      <th>Deceased</th>\n",
       "      <td>70680</td>\n",
       "      <td>50</td>\n",
       "      <td>4347</td>\n",
       "      <td>8</td>\n",
       "      <td>356</td>\n",
       "      <td>750</td>\n",
       "      <td>69</td>\n",
       "      <td>356</td>\n",
       "      <td>2</td>\n",
       "      <td>0</td>\n",
       "      <td>...</td>\n",
       "      <td>1808</td>\n",
       "      <td>1122</td>\n",
       "      <td>5</td>\n",
       "      <td>7751</td>\n",
       "      <td>877</td>\n",
       "      <td>136</td>\n",
       "      <td>3843</td>\n",
       "      <td>330</td>\n",
       "      <td>3510</td>\n",
       "      <td>0</td>\n",
       "    </tr>\n",
       "    <tr>\n",
       "      <th>Recovered</th>\n",
       "      <td>3177132</td>\n",
       "      <td>2895</td>\n",
       "      <td>382104</td>\n",
       "      <td>3381</td>\n",
       "      <td>95061</td>\n",
       "      <td>128376</td>\n",
       "      <td>3290</td>\n",
       "      <td>20487</td>\n",
       "      <td>2230</td>\n",
       "      <td>0</td>\n",
       "      <td>...</td>\n",
       "      <td>43849</td>\n",
       "      <td>73245</td>\n",
       "      <td>1348</td>\n",
       "      <td>398366</td>\n",
       "      <td>104603</td>\n",
       "      <td>8483</td>\n",
       "      <td>195959</td>\n",
       "      <td>15982</td>\n",
       "      <td>150801</td>\n",
       "      <td>0</td>\n",
       "    </tr>\n",
       "  </tbody>\n",
       "</table>\n",
       "<p>3 rows × 39 columns</p>\n",
       "</div>"
      ],
      "text/plain": [
       "                TT    AN      AP    AR      AS      BR    CH     CT    DN  DD  \\\n",
       "Status                                                                          \n",
       "Confirmed  4109535  3288  487331  4852  123821  145861  5498  43145  2533   0   \n",
       "Deceased     70680    50    4347     8     356     750    69    356     2   0   \n",
       "Recovered  3177132  2895  382104  3381   95061  128376  3290  20487  2230   0   \n",
       "\n",
       "           ...     PB     RJ    SK      TN      TG     TR      UP     UT  \\\n",
       "Status     ...                                                             \n",
       "Confirmed  ...  61527  89363  1914  457697  137885  14524  259765  23961   \n",
       "Deceased   ...   1808   1122     5    7751     877    136    3843    330   \n",
       "Recovered  ...  43849  73245  1348  398366  104603   8483  195959  15982   \n",
       "\n",
       "               WB  UN  \n",
       "Status                 \n",
       "Confirmed  177701   0  \n",
       "Deceased     3510   0  \n",
       "Recovered  150801   0  \n",
       "\n",
       "[3 rows x 39 columns]"
      ]
     },
     "execution_count": 6,
     "metadata": {},
     "output_type": "execute_result"
    }
   ],
   "source": [
    "#hide\n",
    "df_today"
   ]
  },
  {
   "cell_type": "code",
   "execution_count": 7,
   "metadata": {
    "execution": {
     "iopub.execute_input": "2020-09-05T19:11:55.681357Z",
     "iopub.status.busy": "2020-09-05T19:11:55.680673Z",
     "iopub.status.idle": "2020-09-05T19:11:55.691868Z",
     "shell.execute_reply": "2020-09-05T19:11:55.691319Z"
    },
    "papermill": {
     "duration": 0.040779,
     "end_time": "2020-09-05T19:11:55.692019",
     "exception": false,
     "start_time": "2020-09-05T19:11:55.651240",
     "status": "completed"
    },
    "tags": []
   },
   "outputs": [
    {
     "data": {
      "text/html": [
       "<div>\n",
       "<style scoped>\n",
       "    .dataframe tbody tr th:only-of-type {\n",
       "        vertical-align: middle;\n",
       "    }\n",
       "\n",
       "    .dataframe tbody tr th {\n",
       "        vertical-align: top;\n",
       "    }\n",
       "\n",
       "    .dataframe thead th {\n",
       "        text-align: right;\n",
       "    }\n",
       "</style>\n",
       "<table border=\"1\" class=\"dataframe\">\n",
       "  <thead>\n",
       "    <tr style=\"text-align: right;\">\n",
       "      <th></th>\n",
       "      <th>TT</th>\n",
       "      <th>AN</th>\n",
       "      <th>AP</th>\n",
       "      <th>AR</th>\n",
       "      <th>AS</th>\n",
       "      <th>BR</th>\n",
       "      <th>CH</th>\n",
       "      <th>CT</th>\n",
       "      <th>DN</th>\n",
       "      <th>DD</th>\n",
       "      <th>...</th>\n",
       "      <th>PB</th>\n",
       "      <th>RJ</th>\n",
       "      <th>SK</th>\n",
       "      <th>TN</th>\n",
       "      <th>TG</th>\n",
       "      <th>TR</th>\n",
       "      <th>UP</th>\n",
       "      <th>UT</th>\n",
       "      <th>WB</th>\n",
       "      <th>UN</th>\n",
       "    </tr>\n",
       "    <tr>\n",
       "      <th>Status</th>\n",
       "      <th></th>\n",
       "      <th></th>\n",
       "      <th></th>\n",
       "      <th></th>\n",
       "      <th></th>\n",
       "      <th></th>\n",
       "      <th></th>\n",
       "      <th></th>\n",
       "      <th></th>\n",
       "      <th></th>\n",
       "      <th></th>\n",
       "      <th></th>\n",
       "      <th></th>\n",
       "      <th></th>\n",
       "      <th></th>\n",
       "      <th></th>\n",
       "      <th></th>\n",
       "      <th></th>\n",
       "      <th></th>\n",
       "      <th></th>\n",
       "      <th></th>\n",
       "    </tr>\n",
       "  </thead>\n",
       "  <tbody>\n",
       "    <tr>\n",
       "      <th>Confirmed</th>\n",
       "      <td>4019555</td>\n",
       "      <td>3253</td>\n",
       "      <td>476506</td>\n",
       "      <td>4719</td>\n",
       "      <td>121123</td>\n",
       "      <td>144134</td>\n",
       "      <td>5268</td>\n",
       "      <td>40634</td>\n",
       "      <td>2512</td>\n",
       "      <td>0</td>\n",
       "      <td>...</td>\n",
       "      <td>60013</td>\n",
       "      <td>87797</td>\n",
       "      <td>1856</td>\n",
       "      <td>451827</td>\n",
       "      <td>135374</td>\n",
       "      <td>13833</td>\n",
       "      <td>253175</td>\n",
       "      <td>23011</td>\n",
       "      <td>174659</td>\n",
       "      <td>0</td>\n",
       "    </tr>\n",
       "    <tr>\n",
       "      <th>Deceased</th>\n",
       "      <td>69646</td>\n",
       "      <td>49</td>\n",
       "      <td>4276</td>\n",
       "      <td>8</td>\n",
       "      <td>349</td>\n",
       "      <td>741</td>\n",
       "      <td>68</td>\n",
       "      <td>337</td>\n",
       "      <td>2</td>\n",
       "      <td>0</td>\n",
       "      <td>...</td>\n",
       "      <td>1739</td>\n",
       "      <td>1108</td>\n",
       "      <td>5</td>\n",
       "      <td>7687</td>\n",
       "      <td>866</td>\n",
       "      <td>129</td>\n",
       "      <td>3762</td>\n",
       "      <td>312</td>\n",
       "      <td>3452</td>\n",
       "      <td>0</td>\n",
       "    </tr>\n",
       "    <tr>\n",
       "      <th>Recovered</th>\n",
       "      <td>3104505</td>\n",
       "      <td>2854</td>\n",
       "      <td>370163</td>\n",
       "      <td>3280</td>\n",
       "      <td>92718</td>\n",
       "      <td>126411</td>\n",
       "      <td>3105</td>\n",
       "      <td>19608</td>\n",
       "      <td>2202</td>\n",
       "      <td>0</td>\n",
       "      <td>...</td>\n",
       "      <td>42543</td>\n",
       "      <td>71899</td>\n",
       "      <td>1322</td>\n",
       "      <td>392507</td>\n",
       "      <td>102024</td>\n",
       "      <td>8212</td>\n",
       "      <td>190818</td>\n",
       "      <td>15447</td>\n",
       "      <td>147553</td>\n",
       "      <td>0</td>\n",
       "    </tr>\n",
       "  </tbody>\n",
       "</table>\n",
       "<p>3 rows × 39 columns</p>\n",
       "</div>"
      ],
      "text/plain": [
       "                TT    AN      AP    AR      AS      BR    CH     CT    DN  DD  \\\n",
       "Status                                                                          \n",
       "Confirmed  4019555  3253  476506  4719  121123  144134  5268  40634  2512   0   \n",
       "Deceased     69646    49    4276     8     349     741    68    337     2   0   \n",
       "Recovered  3104505  2854  370163  3280   92718  126411  3105  19608  2202   0   \n",
       "\n",
       "           ...     PB     RJ    SK      TN      TG     TR      UP     UT  \\\n",
       "Status     ...                                                             \n",
       "Confirmed  ...  60013  87797  1856  451827  135374  13833  253175  23011   \n",
       "Deceased   ...   1739   1108     5    7687     866    129    3762    312   \n",
       "Recovered  ...  42543  71899  1322  392507  102024   8212  190818  15447   \n",
       "\n",
       "               WB  UN  \n",
       "Status                 \n",
       "Confirmed  174659   0  \n",
       "Deceased     3452   0  \n",
       "Recovered  147553   0  \n",
       "\n",
       "[3 rows x 39 columns]"
      ]
     },
     "execution_count": 7,
     "metadata": {},
     "output_type": "execute_result"
    }
   ],
   "source": [
    "#hide\n",
    "df_yday.head()"
   ]
  },
  {
   "cell_type": "code",
   "execution_count": 8,
   "metadata": {
    "execution": {
     "iopub.execute_input": "2020-09-05T19:11:55.738569Z",
     "iopub.status.busy": "2020-09-05T19:11:55.737811Z",
     "iopub.status.idle": "2020-09-05T19:11:55.741485Z",
     "shell.execute_reply": "2020-09-05T19:11:55.740758Z"
    },
    "papermill": {
     "duration": 0.032982,
     "end_time": "2020-09-05T19:11:55.741643",
     "exception": false,
     "start_time": "2020-09-05T19:11:55.708661",
     "status": "completed"
    },
    "tags": []
   },
   "outputs": [
    {
     "data": {
      "text/plain": [
       "{'updated': '05-Sep-20',\n",
       " 'since': '04-Sep-20',\n",
       " 'Cases': 4109535,\n",
       " 'Deaths': 70680,\n",
       " 'Recovered': 3177132,\n",
       " 'PCases': 4019555,\n",
       " 'PDeaths': 69646,\n",
       " 'PRecovered': 3104505,\n",
       " 'Cases (+)': 89980,\n",
       " 'Deaths (+)': 1034,\n",
       " 'Recovered (+)': 72627}"
      ]
     },
     "execution_count": 8,
     "metadata": {},
     "output_type": "execute_result"
    }
   ],
   "source": [
    "#hide\n",
    "summary = {\n",
    "    'updated' : dt_today,\n",
    "    'since' : dt_yday,\n",
    "    'Cases' : df_today['TT'][0],\n",
    "    'Deaths' : df_today['TT'][1],\n",
    "    'Recovered' : df_today['TT'][2],\n",
    "    'PCases' : df_yday['TT'][0],\n",
    "    'PDeaths' : df_yday['TT'][1],\n",
    "    'PRecovered': df_yday['TT'][2],\n",
    "    'Cases (+)' : df_today['TT'][0] - df_yday['TT'][0],\n",
    "    'Deaths (+)' : df_today['TT'][1] - df_yday['TT'][1],\n",
    "    'Recovered (+)': df_today['TT'][2] - df_yday['TT'][2]\n",
    "}\n",
    "\n",
    "summary"
   ]
  },
  {
   "cell_type": "code",
   "execution_count": 9,
   "metadata": {
    "execution": {
     "iopub.execute_input": "2020-09-05T19:11:55.786656Z",
     "iopub.status.busy": "2020-09-05T19:11:55.785865Z",
     "iopub.status.idle": "2020-09-05T19:11:55.788531Z",
     "shell.execute_reply": "2020-09-05T19:11:55.787817Z"
    },
    "papermill": {
     "duration": 0.0262,
     "end_time": "2020-09-05T19:11:55.788683",
     "exception": false,
     "start_time": "2020-09-05T19:11:55.762483",
     "status": "completed"
    },
    "tags": []
   },
   "outputs": [],
   "source": [
    "#hide\n",
    "overview = '''\n",
    "<!-- #######  HTML!! #########-->\n",
    "<h1 style=\"color: #5e9ca0; text-align: center;\">India</h1>\n",
    "<p style=\"text-align: center;\">Last update: <strong>{update}</strong></p>\n",
    "<p style=\"text-align: center;\">Confirmed cases:</p>\n",
    "<p style=\"text-align: center;font-size:24px;\">{cases} (<span style=\"color: #ff0000;\">+{new}</span>)</p>\n",
    "<p style=\"text-align: center;\">Confirmed deaths:</p>\n",
    "<p style=\"text-align: center;font-size:24px;\">{deaths} (<span style=\"color: #ff0000;\">+{dnew}</span>)</p>\n",
    "<p style=\"text-align: center;\">Recovered cases:</p>\n",
    "<p style=\"text-align: center;font-size:24px;\">{recovered} (<span style=\"color: #00ff00;\">+{rnew}</span>)</p>\n",
    "'''"
   ]
  },
  {
   "cell_type": "code",
   "execution_count": 10,
   "metadata": {
    "execution": {
     "iopub.execute_input": "2020-09-05T19:11:55.835339Z",
     "iopub.status.busy": "2020-09-05T19:11:55.834609Z",
     "iopub.status.idle": "2020-09-05T19:11:55.837801Z",
     "shell.execute_reply": "2020-09-05T19:11:55.838432Z"
    },
    "papermill": {
     "duration": 0.0309,
     "end_time": "2020-09-05T19:11:55.838603",
     "exception": false,
     "start_time": "2020-09-05T19:11:55.807703",
     "status": "completed"
    },
    "tags": []
   },
   "outputs": [
    {
     "data": {
      "text/html": [
       "\n",
       "<!-- #######  HTML!! #########-->\n",
       "<h1 style=\"color: #5e9ca0; text-align: center;\">India</h1>\n",
       "<p style=\"text-align: center;\">Last update: <strong>05-Sep-20</strong></p>\n",
       "<p style=\"text-align: center;\">Confirmed cases:</p>\n",
       "<p style=\"text-align: center;font-size:24px;\">4109535 (<span style=\"color: #ff0000;\">+89980</span>)</p>\n",
       "<p style=\"text-align: center;\">Confirmed deaths:</p>\n",
       "<p style=\"text-align: center;font-size:24px;\">70680 (<span style=\"color: #ff0000;\">+1034</span>)</p>\n",
       "<p style=\"text-align: center;\">Recovered cases:</p>\n",
       "<p style=\"text-align: center;font-size:24px;\">3177132 (<span style=\"color: #00ff00;\">+72627</span>)</p>\n"
      ],
      "text/plain": [
       "<IPython.core.display.HTML object>"
      ]
     },
     "metadata": {},
     "output_type": "display_data"
    }
   ],
   "source": [
    "#hide_input\n",
    "# Fill the above HTML with the information from the summary dictionary\n",
    "\n",
    "update = summary['updated']\n",
    "cases = summary['Cases']\n",
    "new = summary['Cases (+)']\n",
    "deaths = summary['Deaths']\n",
    "dnew = summary['Deaths (+)']\n",
    "recovered = summary['Recovered']\n",
    "rnew = summary['Recovered (+)']\n",
    "\n",
    "html = HTML(overview.format(update=update, cases=cases,new=new,deaths=deaths,dnew=dnew, recovered=recovered, rnew=rnew))\n",
    "\n",
    "display(html)"
   ]
  },
  {
   "cell_type": "code",
   "execution_count": 11,
   "metadata": {
    "execution": {
     "iopub.execute_input": "2020-09-05T19:11:55.885830Z",
     "iopub.status.busy": "2020-09-05T19:11:55.885071Z",
     "iopub.status.idle": "2020-09-05T19:11:55.893193Z",
     "shell.execute_reply": "2020-09-05T19:11:55.892545Z"
    },
    "papermill": {
     "duration": 0.035567,
     "end_time": "2020-09-05T19:11:55.893359",
     "exception": false,
     "start_time": "2020-09-05T19:11:55.857792",
     "status": "completed"
    },
    "tags": []
   },
   "outputs": [],
   "source": [
    "#hide\n",
    "df_cases = df[df['Status'] == 'Confirmed'].copy()\n",
    "df_cases.drop(columns = ['Status'], inplace=True)\n",
    "df_deaths = df[df['Status'] == 'Deceased'].copy()\n",
    "df_deaths.drop(columns = ['Status'], inplace=True)\n",
    "df_recovered = df[df['Status'] == 'Recovered'].copy()\n",
    "df_recovered.drop(columns = ['Status'], inplace=True)"
   ]
  },
  {
   "cell_type": "markdown",
   "metadata": {
    "papermill": {
     "duration": 0.020191,
     "end_time": "2020-09-05T19:11:55.933771",
     "exception": false,
     "start_time": "2020-09-05T19:11:55.913580",
     "status": "completed"
    },
    "tags": []
   },
   "source": [
    "Plot for India:"
   ]
  },
  {
   "cell_type": "code",
   "execution_count": 12,
   "metadata": {
    "execution": {
     "iopub.execute_input": "2020-09-05T19:11:55.987903Z",
     "iopub.status.busy": "2020-09-05T19:11:55.987070Z",
     "iopub.status.idle": "2020-09-05T19:11:56.336035Z",
     "shell.execute_reply": "2020-09-05T19:11:56.336759Z"
    },
    "papermill": {
     "duration": 0.383447,
     "end_time": "2020-09-05T19:11:56.336955",
     "exception": false,
     "start_time": "2020-09-05T19:11:55.953508",
     "status": "completed"
    },
    "tags": []
   },
   "outputs": [
    {
     "data": {
      "image/png": "[encoded data removed]",
      "text/plain": [
       "<Figure size 1296x432 with 1 Axes>"
      ]
     },
     "metadata": {
      "needs_background": "light"
     },
     "output_type": "display_data"
    }
   ],
   "source": [
    "#hide_input\n",
    "plt.figure(figsize = (18,6))\n",
    "plt.plot(df_cases['Date'], df_cases['TT'],'.-', alpha=0.7, color='b', label='Confirmed cases')\n",
    "plt.plot(df_recovered['Date'], df_recovered['TT'],'.-', alpha=0.7, color='g', label='Recovered')\n",
    "plt.plot(df_deaths['Date'], df_deaths['TT'],'.-', alpha=0.7, color='r', label='Deceased')\n",
    "plt.legend()\n",
    "plt.title(\"Cases per day in India\")\n",
    "plt.xticks(ticks=' ')\n",
    "plt.xlabel(f'{df_cases.iloc[0][0]} to {df_cases.iloc[-1][0]}')\n",
    "plt.ylabel('No. of cases');"
   ]
  },
  {
   "cell_type": "markdown",
   "metadata": {
    "papermill": {
     "duration": 0.022603,
     "end_time": "2020-09-05T19:11:56.383110",
     "exception": false,
     "start_time": "2020-09-05T19:11:56.360507",
     "status": "completed"
    },
    "tags": []
   },
   "source": [
    "Plots for the states with highest number of cases:"
   ]
  },
  {
   "cell_type": "code",
   "execution_count": 13,
   "metadata": {
    "execution": {
     "iopub.execute_input": "2020-09-05T19:11:56.437668Z",
     "iopub.status.busy": "2020-09-05T19:11:56.436908Z",
     "iopub.status.idle": "2020-09-05T19:11:57.197443Z",
     "shell.execute_reply": "2020-09-05T19:11:57.195811Z"
    },
    "papermill": {
     "duration": 0.793343,
     "end_time": "2020-09-05T19:11:57.197596",
     "exception": false,
     "start_time": "2020-09-05T19:11:56.404253",
     "status": "completed"
    },
    "tags": []
   },
   "outputs": [
    {
     "data": {
      "image/png": "[encoded data removed]",
      "text/plain": [
       "<Figure size 1512x432 with 3 Axes>"
      ]
     },
     "metadata": {
      "needs_background": "light"
     },
     "output_type": "display_data"
    }
   ],
   "source": [
    "#hide_input\n",
    "top_3 = sorted(df_cases.sum().values[1:], reverse=True)[1:4]\n",
    "top3_states=[]\n",
    "for i in top_3:\n",
    "    top3_states.append(df_cases.sum()[df_cases.sum() == i].index)\n",
    "\n",
    "\n",
    "fig, ax = plt.subplots(1,3,figsize = (21,6))\n",
    "for i in range(3):\n",
    "    state = top3_states[i].values[0]\n",
    "    ax[i].plot(df_cases['Date'], df_cases[state],'.-', color='b', alpha=0.7)\n",
    "    ax[i].plot(df_deaths['Date'], df_deaths[state],'.-', color='r', alpha=0.7)\n",
    "    ax[i].plot(df_recovered['Date'], df_recovered[state],'.-', color='g', alpha=0.7)\n",
    "    \n",
    "    ax[i].set_title(f\"Cases in {state}\")\n",
    "    ax[i].set_xticks(ticks=' ')\n",
    "    ax[i].set_xlabel(f'{df_cases.iloc[0][0]} to {df_cases.iloc[-1][0]}')\n",
    "    ax[i].set_ylabel('No. of cases');"
   ]
  },
  {
   "cell_type": "code",
   "execution_count": null,
   "metadata": {
    "papermill": {
     "duration": 0.020789,
     "end_time": "2020-09-05T19:11:57.244025",
     "exception": false,
     "start_time": "2020-09-05T19:11:57.223236",
     "status": "completed"
    },
    "tags": []
   },
   "outputs": [],
   "source": []
  },
  {
   "cell_type": "code",
   "execution_count": null,
   "metadata": {
    "papermill": {
     "duration": 0.021196,
     "end_time": "2020-09-05T19:11:57.286456",
     "exception": false,
     "start_time": "2020-09-05T19:11:57.265260",
     "status": "completed"
    },
    "tags": []
   },
   "outputs": [],
   "source": []
  },
  {
   "cell_type": "code",
   "execution_count": null,
   "metadata": {
    "papermill": {
     "duration": 0.023105,
     "end_time": "2020-09-05T19:11:57.330186",
     "exception": false,
     "start_time": "2020-09-05T19:11:57.307081",
     "status": "completed"
    },
    "tags": []
   },
   "outputs": [],
   "source": []
  }
 ],
 "metadata": {
  "kernelspec": {
   "display_name": "Python 3",
   "language": "python",
   "name": "python3"
  },
  "language_info": {
   "codemirror_mode": {
    "name": "ipython",
    "version": 3
   },
   "file_extension": ".py",
   "mimetype": "text/x-python",
   "name": "python",
   "nbconvert_exporter": "python",
   "pygments_lexer": "ipython3",
   "version": "3.6.12"
  },
  "papermill": {
   "duration": 5.068811,
   "end_time": "2020-09-05T19:11:57.762312",
   "environment_variables": {},
   "exception": null,
   "input_path": "2020-08-09-DailyUpdate.ipynb",
   "output_path": "2020-08-09-DailyUpdate.ipynb",
   "parameters": {},
   "start_time": "2020-09-05T19:11:52.693501",
   "version": "2.1.2"
  }
 },
 "nbformat": 4,
 "nbformat_minor": 4
}