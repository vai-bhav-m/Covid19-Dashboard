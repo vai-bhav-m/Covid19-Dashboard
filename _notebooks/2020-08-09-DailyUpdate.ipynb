{
 "cells": [
  {
   "cell_type": "markdown",
   "metadata": {
    "papermill": {
     "duration": 0.017871,
     "end_time": "2020-08-14T19:10:30.904009",
     "exception": false,
     "start_time": "2020-08-14T19:10:30.886138",
     "status": "completed"
    },
    "tags": []
   },
   "source": [
    "# COVID-19 India Daily updates\n",
    "> Tracking coronavirus total cases, deaths and new cases in India on a daily basis\n",
    "\n",
    "- author: Vaibhav Mahapatra"
   ]
  },
  {
   "cell_type": "code",
   "execution_count": 1,
   "metadata": {
    "execution": {
     "iopub.execute_input": "2020-08-14T19:10:30.935942Z",
     "iopub.status.busy": "2020-08-14T19:10:30.935346Z",
     "iopub.status.idle": "2020-08-14T19:10:31.517798Z",
     "shell.execute_reply": "2020-08-14T19:10:31.518414Z"
    },
    "papermill": {
     "duration": 0.601875,
     "end_time": "2020-08-14T19:10:31.518629",
     "exception": false,
     "start_time": "2020-08-14T19:10:30.916754",
     "status": "completed"
    },
    "tags": []
   },
   "outputs": [],
   "source": [
    "#hide\n",
    "\n",
    "## Import essential packages below\n",
    "\n",
    "import pandas as pd\n",
    "import numpy as np\n",
    "import requests\n",
    "import json\n",
    "import matplotlib.pyplot as plt\n",
    "import matplotlib.dates as mdates\n",
    "import matplotlib as mpl\n",
    "from IPython.core.display import display,HTML\n",
    "%matplotlib inline"
   ]
  },
  {
   "cell_type": "code",
   "execution_count": 2,
   "metadata": {
    "execution": {
     "iopub.execute_input": "2020-08-14T19:10:31.549944Z",
     "iopub.status.busy": "2020-08-14T19:10:31.549353Z",
     "iopub.status.idle": "2020-08-14T19:10:31.803366Z",
     "shell.execute_reply": "2020-08-14T19:10:31.802819Z"
    },
    "papermill": {
     "duration": 0.271911,
     "end_time": "2020-08-14T19:10:31.803502",
     "exception": false,
     "start_time": "2020-08-14T19:10:31.531591",
     "status": "completed"
    },
    "tags": []
   },
   "outputs": [
    {
     "data": {
      "text/plain": [
       "(462, 41)"
      ]
     },
     "execution_count": 2,
     "metadata": {},
     "output_type": "execute_result"
    }
   ],
   "source": [
    "#hide\n",
    "url = 'https://api.covid19india.org/csv/latest/state_wise_daily.csv'\n",
    "df = pd.read_csv(url)\n",
    "df.shape"
   ]
  },
  {
   "cell_type": "code",
   "execution_count": 3,
   "metadata": {
    "execution": {
     "iopub.execute_input": "2020-08-14T19:10:31.878208Z",
     "iopub.status.busy": "2020-08-14T19:10:31.869085Z",
     "iopub.status.idle": "2020-08-14T19:10:31.887364Z",
     "shell.execute_reply": "2020-08-14T19:10:31.887807Z"
    },
    "papermill": {
     "duration": 0.072311,
     "end_time": "2020-08-14T19:10:31.887948",
     "exception": false,
     "start_time": "2020-08-14T19:10:31.815637",
     "status": "completed"
    },
    "tags": []
   },
   "outputs": [
    {
     "data": {
      "text/html": [
       "<div>\n",
       "<style scoped>\n",
       "    .dataframe tbody tr th:only-of-type {\n",
       "        vertical-align: middle;\n",
       "    }\n",
       "\n",
       "    .dataframe tbody tr th {\n",
       "        vertical-align: top;\n",
       "    }\n",
       "\n",
       "    .dataframe thead th {\n",
       "        text-align: right;\n",
       "    }\n",
       "</style>\n",
       "<table border=\"1\" class=\"dataframe\">\n",
       "  <thead>\n",
       "    <tr style=\"text-align: right;\">\n",
       "      <th></th>\n",
       "      <th>Date</th>\n",
       "      <th>Status</th>\n",
       "      <th>TT</th>\n",
       "      <th>AN</th>\n",
       "      <th>AP</th>\n",
       "      <th>AR</th>\n",
       "      <th>AS</th>\n",
       "      <th>BR</th>\n",
       "      <th>CH</th>\n",
       "      <th>CT</th>\n",
       "      <th>...</th>\n",
       "      <th>PB</th>\n",
       "      <th>RJ</th>\n",
       "      <th>SK</th>\n",
       "      <th>TN</th>\n",
       "      <th>TG</th>\n",
       "      <th>TR</th>\n",
       "      <th>UP</th>\n",
       "      <th>UT</th>\n",
       "      <th>WB</th>\n",
       "      <th>UN</th>\n",
       "    </tr>\n",
       "  </thead>\n",
       "  <tbody>\n",
       "    <tr>\n",
       "      <th>456</th>\n",
       "      <td>13-Aug-20</td>\n",
       "      <td>Confirmed</td>\n",
       "      <td>64141</td>\n",
       "      <td>137</td>\n",
       "      <td>9996</td>\n",
       "      <td>82</td>\n",
       "      <td>2796</td>\n",
       "      <td>3906</td>\n",
       "      <td>91</td>\n",
       "      <td>478</td>\n",
       "      <td>...</td>\n",
       "      <td>1027</td>\n",
       "      <td>1314</td>\n",
       "      <td>1</td>\n",
       "      <td>5835</td>\n",
       "      <td>1931</td>\n",
       "      <td>121</td>\n",
       "      <td>4537</td>\n",
       "      <td>416</td>\n",
       "      <td>2997</td>\n",
       "      <td>0</td>\n",
       "    </tr>\n",
       "    <tr>\n",
       "      <th>457</th>\n",
       "      <td>13-Aug-20</td>\n",
       "      <td>Recovered</td>\n",
       "      <td>54776</td>\n",
       "      <td>95</td>\n",
       "      <td>9499</td>\n",
       "      <td>59</td>\n",
       "      <td>2174</td>\n",
       "      <td>2439</td>\n",
       "      <td>53</td>\n",
       "      <td>150</td>\n",
       "      <td>...</td>\n",
       "      <td>627</td>\n",
       "      <td>171</td>\n",
       "      <td>31</td>\n",
       "      <td>5146</td>\n",
       "      <td>1780</td>\n",
       "      <td>74</td>\n",
       "      <td>4125</td>\n",
       "      <td>327</td>\n",
       "      <td>2497</td>\n",
       "      <td>0</td>\n",
       "    </tr>\n",
       "    <tr>\n",
       "      <th>458</th>\n",
       "      <td>13-Aug-20</td>\n",
       "      <td>Deceased</td>\n",
       "      <td>1006</td>\n",
       "      <td>1</td>\n",
       "      <td>82</td>\n",
       "      <td>1</td>\n",
       "      <td>8</td>\n",
       "      <td>10</td>\n",
       "      <td>1</td>\n",
       "      <td>8</td>\n",
       "      <td>...</td>\n",
       "      <td>31</td>\n",
       "      <td>11</td>\n",
       "      <td>0</td>\n",
       "      <td>119</td>\n",
       "      <td>11</td>\n",
       "      <td>1</td>\n",
       "      <td>50</td>\n",
       "      <td>3</td>\n",
       "      <td>56</td>\n",
       "      <td>0</td>\n",
       "    </tr>\n",
       "    <tr>\n",
       "      <th>459</th>\n",
       "      <td>14-Aug-20</td>\n",
       "      <td>Confirmed</td>\n",
       "      <td>65610</td>\n",
       "      <td>149</td>\n",
       "      <td>8943</td>\n",
       "      <td>95</td>\n",
       "      <td>2706</td>\n",
       "      <td>3911</td>\n",
       "      <td>86</td>\n",
       "      <td>529</td>\n",
       "      <td>...</td>\n",
       "      <td>1077</td>\n",
       "      <td>1278</td>\n",
       "      <td>149</td>\n",
       "      <td>5890</td>\n",
       "      <td>1921</td>\n",
       "      <td>164</td>\n",
       "      <td>4512</td>\n",
       "      <td>313</td>\n",
       "      <td>3035</td>\n",
       "      <td>0</td>\n",
       "    </tr>\n",
       "    <tr>\n",
       "      <th>460</th>\n",
       "      <td>14-Aug-20</td>\n",
       "      <td>Recovered</td>\n",
       "      <td>56920</td>\n",
       "      <td>108</td>\n",
       "      <td>9779</td>\n",
       "      <td>32</td>\n",
       "      <td>2310</td>\n",
       "      <td>2800</td>\n",
       "      <td>15</td>\n",
       "      <td>199</td>\n",
       "      <td>...</td>\n",
       "      <td>489</td>\n",
       "      <td>2078</td>\n",
       "      <td>42</td>\n",
       "      <td>5556</td>\n",
       "      <td>1210</td>\n",
       "      <td>103</td>\n",
       "      <td>3740</td>\n",
       "      <td>488</td>\n",
       "      <td>2572</td>\n",
       "      <td>0</td>\n",
       "    </tr>\n",
       "    <tr>\n",
       "      <th>461</th>\n",
       "      <td>14-Aug-20</td>\n",
       "      <td>Deceased</td>\n",
       "      <td>990</td>\n",
       "      <td>2</td>\n",
       "      <td>97</td>\n",
       "      <td>1</td>\n",
       "      <td>6</td>\n",
       "      <td>16</td>\n",
       "      <td>1</td>\n",
       "      <td>13</td>\n",
       "      <td>...</td>\n",
       "      <td>25</td>\n",
       "      <td>13</td>\n",
       "      <td>0</td>\n",
       "      <td>117</td>\n",
       "      <td>9</td>\n",
       "      <td>2</td>\n",
       "      <td>55</td>\n",
       "      <td>4</td>\n",
       "      <td>60</td>\n",
       "      <td>0</td>\n",
       "    </tr>\n",
       "  </tbody>\n",
       "</table>\n",
       "<p>6 rows × 41 columns</p>\n",
       "</div>"
      ],
      "text/plain": [
       "          Date     Status     TT   AN    AP  AR    AS    BR  CH   CT  ...  \\\n",
       "456  13-Aug-20  Confirmed  64141  137  9996  82  2796  3906  91  478  ...   \n",
       "457  13-Aug-20  Recovered  54776   95  9499  59  2174  2439  53  150  ...   \n",
       "458  13-Aug-20   Deceased   1006    1    82   1     8    10   1    8  ...   \n",
       "459  14-Aug-20  Confirmed  65610  149  8943  95  2706  3911  86  529  ...   \n",
       "460  14-Aug-20  Recovered  56920  108  9779  32  2310  2800  15  199  ...   \n",
       "461  14-Aug-20   Deceased    990    2    97   1     6    16   1   13  ...   \n",
       "\n",
       "       PB    RJ   SK    TN    TG   TR    UP   UT    WB  UN  \n",
       "456  1027  1314    1  5835  1931  121  4537  416  2997   0  \n",
       "457   627   171   31  5146  1780   74  4125  327  2497   0  \n",
       "458    31    11    0   119    11    1    50    3    56   0  \n",
       "459  1077  1278  149  5890  1921  164  4512  313  3035   0  \n",
       "460   489  2078   42  5556  1210  103  3740  488  2572   0  \n",
       "461    25    13    0   117     9    2    55    4    60   0  \n",
       "\n",
       "[6 rows x 41 columns]"
      ]
     },
     "execution_count": 3,
     "metadata": {},
     "output_type": "execute_result"
    }
   ],
   "source": [
    "#hide\n",
    "df.tail(6)"
   ]
  },
  {
   "cell_type": "code",
   "execution_count": 4,
   "metadata": {
    "execution": {
     "iopub.execute_input": "2020-08-14T19:10:31.917934Z",
     "iopub.status.busy": "2020-08-14T19:10:31.917392Z",
     "iopub.status.idle": "2020-08-14T19:10:31.919674Z",
     "shell.execute_reply": "2020-08-14T19:10:31.920157Z"
    },
    "papermill": {
     "duration": 0.020068,
     "end_time": "2020-08-14T19:10:31.920290",
     "exception": false,
     "start_time": "2020-08-14T19:10:31.900222",
     "status": "completed"
    },
    "tags": []
   },
   "outputs": [
    {
     "data": {
      "text/plain": [
       "('14-Aug-20', '13-Aug-20')"
      ]
     },
     "execution_count": 4,
     "metadata": {},
     "output_type": "execute_result"
    }
   ],
   "source": [
    "#hide\n",
    "dt_today = df.iloc[-1][0]\n",
    "dt_yday = df.iloc[-4][0]\n",
    "dt_today, dt_yday"
   ]
  },
  {
   "cell_type": "code",
   "execution_count": 5,
   "metadata": {
    "execution": {
     "iopub.execute_input": "2020-08-14T19:10:31.954018Z",
     "iopub.status.busy": "2020-08-14T19:10:31.953421Z",
     "iopub.status.idle": "2020-08-14T19:10:31.958859Z",
     "shell.execute_reply": "2020-08-14T19:10:31.959548Z"
    },
    "papermill": {
     "duration": 0.025701,
     "end_time": "2020-08-14T19:10:31.959684",
     "exception": false,
     "start_time": "2020-08-14T19:10:31.933983",
     "status": "completed"
    },
    "tags": []
   },
   "outputs": [],
   "source": [
    "#hide\n",
    "df_today = df.groupby('Status').sum()\n",
    "df_yday = df.iloc[:-3][:].groupby('Status').sum()"
   ]
  },
  {
   "cell_type": "code",
   "execution_count": 6,
   "metadata": {
    "execution": {
     "iopub.execute_input": "2020-08-14T19:10:31.995297Z",
     "iopub.status.busy": "2020-08-14T19:10:31.993385Z",
     "iopub.status.idle": "2020-08-14T19:10:32.002239Z",
     "shell.execute_reply": "2020-08-14T19:10:32.002772Z"
    },
    "papermill": {
     "duration": 0.031038,
     "end_time": "2020-08-14T19:10:32.002908",
     "exception": false,
     "start_time": "2020-08-14T19:10:31.971870",
     "status": "completed"
    },
    "tags": []
   },
   "outputs": [
    {
     "data": {
      "text/html": [
       "<div>\n",
       "<style scoped>\n",
       "    .dataframe tbody tr th:only-of-type {\n",
       "        vertical-align: middle;\n",
       "    }\n",
       "\n",
       "    .dataframe tbody tr th {\n",
       "        vertical-align: top;\n",
       "    }\n",
       "\n",
       "    .dataframe thead th {\n",
       "        text-align: right;\n",
       "    }\n",
       "</style>\n",
       "<table border=\"1\" class=\"dataframe\">\n",
       "  <thead>\n",
       "    <tr style=\"text-align: right;\">\n",
       "      <th></th>\n",
       "      <th>TT</th>\n",
       "      <th>AN</th>\n",
       "      <th>AP</th>\n",
       "      <th>AR</th>\n",
       "      <th>AS</th>\n",
       "      <th>BR</th>\n",
       "      <th>CH</th>\n",
       "      <th>CT</th>\n",
       "      <th>DN</th>\n",
       "      <th>DD</th>\n",
       "      <th>...</th>\n",
       "      <th>PB</th>\n",
       "      <th>RJ</th>\n",
       "      <th>SK</th>\n",
       "      <th>TN</th>\n",
       "      <th>TG</th>\n",
       "      <th>TR</th>\n",
       "      <th>UP</th>\n",
       "      <th>UT</th>\n",
       "      <th>WB</th>\n",
       "      <th>UN</th>\n",
       "    </tr>\n",
       "    <tr>\n",
       "      <th>Status</th>\n",
       "      <th></th>\n",
       "      <th></th>\n",
       "      <th></th>\n",
       "      <th></th>\n",
       "      <th></th>\n",
       "      <th></th>\n",
       "      <th></th>\n",
       "      <th></th>\n",
       "      <th></th>\n",
       "      <th></th>\n",
       "      <th></th>\n",
       "      <th></th>\n",
       "      <th></th>\n",
       "      <th></th>\n",
       "      <th></th>\n",
       "      <th></th>\n",
       "      <th></th>\n",
       "      <th></th>\n",
       "      <th></th>\n",
       "      <th></th>\n",
       "      <th></th>\n",
       "    </tr>\n",
       "  </thead>\n",
       "  <tbody>\n",
       "    <tr>\n",
       "      <th>Confirmed</th>\n",
       "      <td>2525130</td>\n",
       "      <td>2182</td>\n",
       "      <td>273085</td>\n",
       "      <td>2607</td>\n",
       "      <td>74400</td>\n",
       "      <td>98370</td>\n",
       "      <td>1928</td>\n",
       "      <td>14559</td>\n",
       "      <td>1784</td>\n",
       "      <td>0</td>\n",
       "      <td>...</td>\n",
       "      <td>29013</td>\n",
       "      <td>58692</td>\n",
       "      <td>1093</td>\n",
       "      <td>326245</td>\n",
       "      <td>88396</td>\n",
       "      <td>6782</td>\n",
       "      <td>145287</td>\n",
       "      <td>11615</td>\n",
       "      <td>110358</td>\n",
       "      <td>0</td>\n",
       "    </tr>\n",
       "    <tr>\n",
       "      <th>Deceased</th>\n",
       "      <td>49145</td>\n",
       "      <td>24</td>\n",
       "      <td>2475</td>\n",
       "      <td>5</td>\n",
       "      <td>179</td>\n",
       "      <td>500</td>\n",
       "      <td>29</td>\n",
       "      <td>130</td>\n",
       "      <td>2</td>\n",
       "      <td>0</td>\n",
       "      <td>...</td>\n",
       "      <td>731</td>\n",
       "      <td>846</td>\n",
       "      <td>1</td>\n",
       "      <td>5514</td>\n",
       "      <td>674</td>\n",
       "      <td>46</td>\n",
       "      <td>2335</td>\n",
       "      <td>147</td>\n",
       "      <td>2319</td>\n",
       "      <td>0</td>\n",
       "    </tr>\n",
       "    <tr>\n",
       "      <th>Recovered</th>\n",
       "      <td>1807549</td>\n",
       "      <td>1023</td>\n",
       "      <td>180703</td>\n",
       "      <td>1750</td>\n",
       "      <td>51694</td>\n",
       "      <td>65307</td>\n",
       "      <td>1091</td>\n",
       "      <td>9857</td>\n",
       "      <td>1312</td>\n",
       "      <td>0</td>\n",
       "      <td>...</td>\n",
       "      <td>18328</td>\n",
       "      <td>43897</td>\n",
       "      <td>624</td>\n",
       "      <td>267015</td>\n",
       "      <td>64284</td>\n",
       "      <td>5015</td>\n",
       "      <td>92526</td>\n",
       "      <td>7502</td>\n",
       "      <td>81189</td>\n",
       "      <td>0</td>\n",
       "    </tr>\n",
       "  </tbody>\n",
       "</table>\n",
       "<p>3 rows × 39 columns</p>\n",
       "</div>"
      ],
      "text/plain": [
       "                TT    AN      AP    AR     AS     BR    CH     CT    DN  DD  \\\n",
       "Status                                                                        \n",
       "Confirmed  2525130  2182  273085  2607  74400  98370  1928  14559  1784   0   \n",
       "Deceased     49145    24    2475     5    179    500    29    130     2   0   \n",
       "Recovered  1807549  1023  180703  1750  51694  65307  1091   9857  1312   0   \n",
       "\n",
       "           ...     PB     RJ    SK      TN     TG    TR      UP     UT  \\\n",
       "Status     ...                                                           \n",
       "Confirmed  ...  29013  58692  1093  326245  88396  6782  145287  11615   \n",
       "Deceased   ...    731    846     1    5514    674    46    2335    147   \n",
       "Recovered  ...  18328  43897   624  267015  64284  5015   92526   7502   \n",
       "\n",
       "               WB  UN  \n",
       "Status                 \n",
       "Confirmed  110358   0  \n",
       "Deceased     2319   0  \n",
       "Recovered   81189   0  \n",
       "\n",
       "[3 rows x 39 columns]"
      ]
     },
     "execution_count": 6,
     "metadata": {},
     "output_type": "execute_result"
    }
   ],
   "source": [
    "#hide\n",
    "df_today"
   ]
  },
  {
   "cell_type": "code",
   "execution_count": 7,
   "metadata": {
    "execution": {
     "iopub.execute_input": "2020-08-14T19:10:32.046072Z",
     "iopub.status.busy": "2020-08-14T19:10:32.045498Z",
     "iopub.status.idle": "2020-08-14T19:10:32.048492Z",
     "shell.execute_reply": "2020-08-14T19:10:32.048000Z"
    },
    "papermill": {
     "duration": 0.032175,
     "end_time": "2020-08-14T19:10:32.048610",
     "exception": false,
     "start_time": "2020-08-14T19:10:32.016435",
     "status": "completed"
    },
    "tags": []
   },
   "outputs": [
    {
     "data": {
      "text/html": [
       "<div>\n",
       "<style scoped>\n",
       "    .dataframe tbody tr th:only-of-type {\n",
       "        vertical-align: middle;\n",
       "    }\n",
       "\n",
       "    .dataframe tbody tr th {\n",
       "        vertical-align: top;\n",
       "    }\n",
       "\n",
       "    .dataframe thead th {\n",
       "        text-align: right;\n",
       "    }\n",
       "</style>\n",
       "<table border=\"1\" class=\"dataframe\">\n",
       "  <thead>\n",
       "    <tr style=\"text-align: right;\">\n",
       "      <th></th>\n",
       "      <th>TT</th>\n",
       "      <th>AN</th>\n",
       "      <th>AP</th>\n",
       "      <th>AR</th>\n",
       "      <th>AS</th>\n",
       "      <th>BR</th>\n",
       "      <th>CH</th>\n",
       "      <th>CT</th>\n",
       "      <th>DN</th>\n",
       "      <th>DD</th>\n",
       "      <th>...</th>\n",
       "      <th>PB</th>\n",
       "      <th>RJ</th>\n",
       "      <th>SK</th>\n",
       "      <th>TN</th>\n",
       "      <th>TG</th>\n",
       "      <th>TR</th>\n",
       "      <th>UP</th>\n",
       "      <th>UT</th>\n",
       "      <th>WB</th>\n",
       "      <th>UN</th>\n",
       "    </tr>\n",
       "    <tr>\n",
       "      <th>Status</th>\n",
       "      <th></th>\n",
       "      <th></th>\n",
       "      <th></th>\n",
       "      <th></th>\n",
       "      <th></th>\n",
       "      <th></th>\n",
       "      <th></th>\n",
       "      <th></th>\n",
       "      <th></th>\n",
       "      <th></th>\n",
       "      <th></th>\n",
       "      <th></th>\n",
       "      <th></th>\n",
       "      <th></th>\n",
       "      <th></th>\n",
       "      <th></th>\n",
       "      <th></th>\n",
       "      <th></th>\n",
       "      <th></th>\n",
       "      <th></th>\n",
       "      <th></th>\n",
       "    </tr>\n",
       "  </thead>\n",
       "  <tbody>\n",
       "    <tr>\n",
       "      <th>Confirmed</th>\n",
       "      <td>2459520</td>\n",
       "      <td>2033</td>\n",
       "      <td>264142</td>\n",
       "      <td>2512</td>\n",
       "      <td>71694</td>\n",
       "      <td>94459</td>\n",
       "      <td>1842</td>\n",
       "      <td>14030</td>\n",
       "      <td>1743</td>\n",
       "      <td>0</td>\n",
       "      <td>...</td>\n",
       "      <td>27936</td>\n",
       "      <td>57414</td>\n",
       "      <td>944</td>\n",
       "      <td>320355</td>\n",
       "      <td>86475</td>\n",
       "      <td>6618</td>\n",
       "      <td>140775</td>\n",
       "      <td>11302</td>\n",
       "      <td>107323</td>\n",
       "      <td>0</td>\n",
       "    </tr>\n",
       "    <tr>\n",
       "      <th>Deceased</th>\n",
       "      <td>48155</td>\n",
       "      <td>22</td>\n",
       "      <td>2378</td>\n",
       "      <td>4</td>\n",
       "      <td>173</td>\n",
       "      <td>484</td>\n",
       "      <td>28</td>\n",
       "      <td>117</td>\n",
       "      <td>2</td>\n",
       "      <td>0</td>\n",
       "      <td>...</td>\n",
       "      <td>706</td>\n",
       "      <td>833</td>\n",
       "      <td>1</td>\n",
       "      <td>5397</td>\n",
       "      <td>665</td>\n",
       "      <td>44</td>\n",
       "      <td>2280</td>\n",
       "      <td>143</td>\n",
       "      <td>2259</td>\n",
       "      <td>0</td>\n",
       "    </tr>\n",
       "    <tr>\n",
       "      <th>Recovered</th>\n",
       "      <td>1750629</td>\n",
       "      <td>915</td>\n",
       "      <td>170924</td>\n",
       "      <td>1718</td>\n",
       "      <td>49384</td>\n",
       "      <td>62507</td>\n",
       "      <td>1076</td>\n",
       "      <td>9658</td>\n",
       "      <td>1281</td>\n",
       "      <td>0</td>\n",
       "      <td>...</td>\n",
       "      <td>17839</td>\n",
       "      <td>41819</td>\n",
       "      <td>582</td>\n",
       "      <td>261459</td>\n",
       "      <td>63074</td>\n",
       "      <td>4912</td>\n",
       "      <td>88786</td>\n",
       "      <td>7014</td>\n",
       "      <td>78617</td>\n",
       "      <td>0</td>\n",
       "    </tr>\n",
       "  </tbody>\n",
       "</table>\n",
       "<p>3 rows × 39 columns</p>\n",
       "</div>"
      ],
      "text/plain": [
       "                TT    AN      AP    AR     AS     BR    CH     CT    DN  DD  \\\n",
       "Status                                                                        \n",
       "Confirmed  2459520  2033  264142  2512  71694  94459  1842  14030  1743   0   \n",
       "Deceased     48155    22    2378     4    173    484    28    117     2   0   \n",
       "Recovered  1750629   915  170924  1718  49384  62507  1076   9658  1281   0   \n",
       "\n",
       "           ...     PB     RJ   SK      TN     TG    TR      UP     UT      WB  \\\n",
       "Status     ...                                                                  \n",
       "Confirmed  ...  27936  57414  944  320355  86475  6618  140775  11302  107323   \n",
       "Deceased   ...    706    833    1    5397    665    44    2280    143    2259   \n",
       "Recovered  ...  17839  41819  582  261459  63074  4912   88786   7014   78617   \n",
       "\n",
       "           UN  \n",
       "Status         \n",
       "Confirmed   0  \n",
       "Deceased    0  \n",
       "Recovered   0  \n",
       "\n",
       "[3 rows x 39 columns]"
      ]
     },
     "execution_count": 7,
     "metadata": {},
     "output_type": "execute_result"
    }
   ],
   "source": [
    "#hide\n",
    "df_yday.head()"
   ]
  },
  {
   "cell_type": "code",
   "execution_count": 8,
   "metadata": {
    "execution": {
     "iopub.execute_input": "2020-08-14T19:10:32.087026Z",
     "iopub.status.busy": "2020-08-14T19:10:32.086431Z",
     "iopub.status.idle": "2020-08-14T19:10:32.089385Z",
     "shell.execute_reply": "2020-08-14T19:10:32.088812Z"
    },
    "papermill": {
     "duration": 0.025239,
     "end_time": "2020-08-14T19:10:32.089504",
     "exception": false,
     "start_time": "2020-08-14T19:10:32.064265",
     "status": "completed"
    },
    "tags": []
   },
   "outputs": [
    {
     "data": {
      "text/plain": [
       "{'updated': '14-Aug-20',\n",
       " 'since': '13-Aug-20',\n",
       " 'Cases': 2525130,\n",
       " 'Deaths': 49145,\n",
       " 'Recovered': 1807549,\n",
       " 'PCases': 2459520,\n",
       " 'PDeaths': 48155,\n",
       " 'PRecovered': 1750629,\n",
       " 'Cases (+)': 65610,\n",
       " 'Deaths (+)': 990,\n",
       " 'Recovered (+)': 56920}"
      ]
     },
     "execution_count": 8,
     "metadata": {},
     "output_type": "execute_result"
    }
   ],
   "source": [
    "#hide\n",
    "summary = {\n",
    "    'updated' : dt_today,\n",
    "    'since' : dt_yday,\n",
    "    'Cases' : df_today['TT'][0],\n",
    "    'Deaths' : df_today['TT'][1],\n",
    "    'Recovered' : df_today['TT'][2],\n",
    "    'PCases' : df_yday['TT'][0],\n",
    "    'PDeaths' : df_yday['TT'][1],\n",
    "    'PRecovered': df_yday['TT'][2],\n",
    "    'Cases (+)' : df_today['TT'][0] - df_yday['TT'][0],\n",
    "    'Deaths (+)' : df_today['TT'][1] - df_yday['TT'][1],\n",
    "    'Recovered (+)': df_today['TT'][2] - df_yday['TT'][2]\n",
    "}\n",
    "\n",
    "summary"
   ]
  },
  {
   "cell_type": "code",
   "execution_count": 9,
   "metadata": {
    "execution": {
     "iopub.execute_input": "2020-08-14T19:10:32.123159Z",
     "iopub.status.busy": "2020-08-14T19:10:32.122570Z",
     "iopub.status.idle": "2020-08-14T19:10:32.124566Z",
     "shell.execute_reply": "2020-08-14T19:10:32.125105Z"
    },
    "papermill": {
     "duration": 0.021181,
     "end_time": "2020-08-14T19:10:32.125244",
     "exception": false,
     "start_time": "2020-08-14T19:10:32.104063",
     "status": "completed"
    },
    "tags": []
   },
   "outputs": [],
   "source": [
    "#hide\n",
    "overview = '''\n",
    "<!-- #######  HTML!! #########-->\n",
    "<h1 style=\"color: #5e9ca0; text-align: center;\">India</h1>\n",
    "<p style=\"text-align: center;\">Last update: <strong>{update}</strong></p>\n",
    "<p style=\"text-align: center;\">Confirmed cases:</p>\n",
    "<p style=\"text-align: center;font-size:24px;\">{cases} (<span style=\"color: #ff0000;\">+{new}</span>)</p>\n",
    "<p style=\"text-align: center;\">Confirmed deaths:</p>\n",
    "<p style=\"text-align: center;font-size:24px;\">{deaths} (<span style=\"color: #ff0000;\">+{dnew}</span>)</p>\n",
    "<p style=\"text-align: center;\">Recovered cases:</p>\n",
    "<p style=\"text-align: center;font-size:24px;\">{recovered} (<span style=\"color: #00ff00;\">+{rnew}</span>)</p>\n",
    "'''"
   ]
  },
  {
   "cell_type": "code",
   "execution_count": 10,
   "metadata": {
    "execution": {
     "iopub.execute_input": "2020-08-14T19:10:32.161066Z",
     "iopub.status.busy": "2020-08-14T19:10:32.160476Z",
     "iopub.status.idle": "2020-08-14T19:10:32.163794Z",
     "shell.execute_reply": "2020-08-14T19:10:32.163293Z"
    },
    "papermill": {
     "duration": 0.024398,
     "end_time": "2020-08-14T19:10:32.163914",
     "exception": false,
     "start_time": "2020-08-14T19:10:32.139516",
     "status": "completed"
    },
    "tags": []
   },
   "outputs": [
    {
     "data": {
      "text/html": [
       "\n",
       "<!-- #######  HTML!! #########-->\n",
       "<h1 style=\"color: #5e9ca0; text-align: center;\">India</h1>\n",
       "<p style=\"text-align: center;\">Last update: <strong>14-Aug-20</strong></p>\n",
       "<p style=\"text-align: center;\">Confirmed cases:</p>\n",
       "<p style=\"text-align: center;font-size:24px;\">2525130 (<span style=\"color: #ff0000;\">+65610</span>)</p>\n",
       "<p style=\"text-align: center;\">Confirmed deaths:</p>\n",
       "<p style=\"text-align: center;font-size:24px;\">49145 (<span style=\"color: #ff0000;\">+990</span>)</p>\n",
       "<p style=\"text-align: center;\">Recovered cases:</p>\n",
       "<p style=\"text-align: center;font-size:24px;\">1807549 (<span style=\"color: #00ff00;\">+56920</span>)</p>\n"
      ],
      "text/plain": [
       "<IPython.core.display.HTML object>"
      ]
     },
     "metadata": {},
     "output_type": "display_data"
    }
   ],
   "source": [
    "#hide_input\n",
    "# Fill the above HTML with the information from the summary dictionary\n",
    "\n",
    "update = summary['updated']\n",
    "cases = summary['Cases']\n",
    "new = summary['Cases (+)']\n",
    "deaths = summary['Deaths']\n",
    "dnew = summary['Deaths (+)']\n",
    "recovered = summary['Recovered']\n",
    "rnew = summary['Recovered (+)']\n",
    "\n",
    "html = HTML(overview.format(update=update, cases=cases,new=new,deaths=deaths,dnew=dnew, recovered=recovered, rnew=rnew))\n",
    "\n",
    "display(html)"
   ]
  },
  {
   "cell_type": "code",
   "execution_count": 11,
   "metadata": {
    "execution": {
     "iopub.execute_input": "2020-08-14T19:10:32.199952Z",
     "iopub.status.busy": "2020-08-14T19:10:32.199373Z",
     "iopub.status.idle": "2020-08-14T19:10:32.206187Z",
     "shell.execute_reply": "2020-08-14T19:10:32.205654Z"
    },
    "papermill": {
     "duration": 0.027311,
     "end_time": "2020-08-14T19:10:32.206310",
     "exception": false,
     "start_time": "2020-08-14T19:10:32.178999",
     "status": "completed"
    },
    "tags": []
   },
   "outputs": [],
   "source": [
    "#hide\n",
    "df_cases = df[df['Status'] == 'Confirmed'].copy()\n",
    "df_cases.drop(columns = ['Status'], inplace=True)\n",
    "df_deaths = df[df['Status'] == 'Deceased'].copy()\n",
    "df_deaths.drop(columns = ['Status'], inplace=True)\n",
    "df_recovered = df[df['Status'] == 'Recovered'].copy()\n",
    "df_recovered.drop(columns = ['Status'], inplace=True)"
   ]
  },
  {
   "cell_type": "markdown",
   "metadata": {
    "papermill": {
     "duration": 0.014833,
     "end_time": "2020-08-14T19:10:32.235766",
     "exception": false,
     "start_time": "2020-08-14T19:10:32.220933",
     "status": "completed"
    },
    "tags": []
   },
   "source": [
    "Plot for India:"
   ]
  },
  {
   "cell_type": "code",
   "execution_count": 12,
   "metadata": {
    "execution": {
     "iopub.execute_input": "2020-08-14T19:10:32.274043Z",
     "iopub.status.busy": "2020-08-14T19:10:32.273399Z",
     "iopub.status.idle": "2020-08-14T19:10:32.536149Z",
     "shell.execute_reply": "2020-08-14T19:10:32.536914Z"
    },
    "papermill": {
     "duration": 0.286336,
     "end_time": "2020-08-14T19:10:32.537123",
     "exception": false,
     "start_time": "2020-08-14T19:10:32.250787",
     "status": "completed"
    },
    "tags": []
   },
   "outputs": [
    {
     "data": {
      "image/png": "[encoded data removed]",
      "text/plain": [
       "<Figure size 1296x432 with 1 Axes>"
      ]
     },
     "metadata": {
      "needs_background": "light"
     },
     "output_type": "display_data"
    }
   ],
   "source": [
    "#hide_input\n",
    "plt.figure(figsize = (18,6))\n",
    "plt.plot(df_cases['Date'], df_cases['TT'],'.-', alpha=0.7, color='b', label='Confirmed cases')\n",
    "plt.plot(df_recovered['Date'], df_recovered['TT'],'.-', alpha=0.7, color='g', label='Recovered')\n",
    "plt.plot(df_deaths['Date'], df_deaths['TT'],'.-', alpha=0.7, color='r', label='Deceased')\n",
    "plt.legend()\n",
    "plt.title(\"Cases per day in India\")\n",
    "plt.xticks(ticks=' ')\n",
    "plt.xlabel(f'{df_cases.iloc[0][0]} to {df_cases.iloc[-1][0]}')\n",
    "plt.ylabel('No. of cases');"
   ]
  },
  {
   "cell_type": "markdown",
   "metadata": {
    "papermill": {
     "duration": 0.020264,
     "end_time": "2020-08-14T19:10:32.576002",
     "exception": false,
     "start_time": "2020-08-14T19:10:32.555738",
     "status": "completed"
    },
    "tags": []
   },
   "source": [
    "Plots for the states with highest number of cases:"
   ]
  },
  {
   "cell_type": "code",
   "execution_count": 13,
   "metadata": {
    "execution": {
     "iopub.execute_input": "2020-08-14T19:10:33.175551Z",
     "iopub.status.busy": "2020-08-14T19:10:33.174934Z",
     "iopub.status.idle": "2020-08-14T19:10:33.712635Z",
     "shell.execute_reply": "2020-08-14T19:10:33.713095Z"
    },
    "papermill": {
     "duration": 0.593303,
     "end_time": "2020-08-14T19:10:33.713269",
     "exception": false,
     "start_time": "2020-08-14T19:10:33.119966",
     "status": "completed"
    },
    "tags": []
   },
   "outputs": [
    {
     "data": {
      "image/png": "[encoded data removed]",
      "text/plain": [
       "<Figure size 1512x432 with 3 Axes>"
      ]
     },
     "metadata": {
      "needs_background": "light"
     },
     "output_type": "display_data"
    }
   ],
   "source": [
    "#hide_input\n",
    "top_3 = sorted(df_cases.sum().values[1:], reverse=True)[1:4]\n",
    "top3_states=[]\n",
    "for i in top_3:\n",
    "    top3_states.append(df_cases.sum()[df_cases.sum() == i].index)\n",
    "\n",
    "\n",
    "fig, ax = plt.subplots(1,3,figsize = (21,6))\n",
    "for i in range(3):\n",
    "    state = top3_states[i].values[0]\n",
    "    ax[i].plot(df_cases['Date'], df_cases[state],'.-', color='b', alpha=0.7)\n",
    "    ax[i].plot(df_deaths['Date'], df_deaths[state],'.-', color='r', alpha=0.7)\n",
    "    ax[i].plot(df_recovered['Date'], df_recovered[state],'.-', color='g', alpha=0.7)\n",
    "    \n",
    "    ax[i].set_title(f\"Cases in {state}\")\n",
    "    ax[i].set_xticks(ticks=' ')\n",
    "    ax[i].set_xlabel(f'{df_cases.iloc[0][0]} to {df_cases.iloc[-1][0]}')\n",
    "    ax[i].set_ylabel('No. of cases');"
   ]
  },
  {
   "cell_type": "code",
   "execution_count": null,
   "metadata": {
    "papermill": {
     "duration": 0.065337,
     "end_time": "2020-08-14T19:10:33.798323",
     "exception": false,
     "start_time": "2020-08-14T19:10:33.732986",
     "status": "completed"
    },
    "tags": []
   },
   "outputs": [],
   "source": []
  },
  {
   "cell_type": "code",
   "execution_count": null,
   "metadata": {
    "papermill": {
     "duration": 0.047123,
     "end_time": "2020-08-14T19:10:33.867818",
     "exception": false,
     "start_time": "2020-08-14T19:10:33.820695",
     "status": "completed"
    },
    "tags": []
   },
   "outputs": [],
   "source": []
  },
  {
   "cell_type": "code",
   "execution_count": null,
   "metadata": {
    "papermill": {
     "duration": 0.019737,
     "end_time": "2020-08-14T19:10:33.908859",
     "exception": false,
     "start_time": "2020-08-14T19:10:33.889122",
     "status": "completed"
    },
    "tags": []
   },
   "outputs": [],
   "source": []
  }
 ],
 "metadata": {
  "kernelspec": {
   "display_name": "Python 3",
   "language": "python",
   "name": "python3"
  },
  "language_info": {
   "codemirror_mode": {
    "name": "ipython",
    "version": 3
   },
   "file_extension": ".py",
   "mimetype": "text/x-python",
   "name": "python",
   "nbconvert_exporter": "python",
   "pygments_lexer": "ipython3",
   "version": "3.6.11"
  },
  "papermill": {
   "duration": 5.318162,
   "end_time": "2020-08-14T19:10:35.133337",
   "environment_variables": {},
   "exception": null,
   "input_path": "2020-08-09-DailyUpdate.ipynb",
   "output_path": "2020-08-09-DailyUpdate.ipynb",
   "parameters": {},
   "start_time": "2020-08-14T19:10:29.815175",
   "version": "2.1.2"
  }
 },
 "nbformat": 4,
 "nbformat_minor": 4
}