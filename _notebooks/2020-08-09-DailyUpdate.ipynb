{
 "cells": [
  {
   "cell_type": "markdown",
   "metadata": {
    "papermill": {
     "duration": 0.017491,
     "end_time": "2020-09-27T19:13:07.740512",
     "exception": false,
     "start_time": "2020-09-27T19:13:07.723021",
     "status": "completed"
    },
    "tags": []
   },
   "source": [
    "# COVID-19 India Daily updates\n",
    "> Tracking coronavirus total cases, deaths and new cases in India on a daily basis\n",
    "\n",
    "- author: Vaibhav Mahapatra"
   ]
  },
  {
   "cell_type": "code",
   "execution_count": 1,
   "metadata": {
    "execution": {
     "iopub.execute_input": "2020-09-27T19:13:07.773976Z",
     "iopub.status.busy": "2020-09-27T19:13:07.773381Z",
     "iopub.status.idle": "2020-09-27T19:13:08.385584Z",
     "shell.execute_reply": "2020-09-27T19:13:08.385013Z"
    },
    "papermill": {
     "duration": 0.631059,
     "end_time": "2020-09-27T19:13:08.385740",
     "exception": false,
     "start_time": "2020-09-27T19:13:07.754681",
     "status": "completed"
    },
    "tags": []
   },
   "outputs": [],
   "source": [
    "#hide\n",
    "\n",
    "## Import essential packages below\n",
    "\n",
    "import pandas as pd\n",
    "import numpy as np\n",
    "import requests\n",
    "import json\n",
    "import matplotlib.pyplot as plt\n",
    "import matplotlib.dates as mdates\n",
    "import matplotlib as mpl\n",
    "from IPython.core.display import display,HTML\n",
    "%matplotlib inline"
   ]
  },
  {
   "cell_type": "code",
   "execution_count": 2,
   "metadata": {
    "execution": {
     "iopub.execute_input": "2020-09-27T19:13:08.420014Z",
     "iopub.status.busy": "2020-09-27T19:13:08.419096Z",
     "iopub.status.idle": "2020-09-27T19:13:08.649128Z",
     "shell.execute_reply": "2020-09-27T19:13:08.649994Z"
    },
    "papermill": {
     "duration": 0.249919,
     "end_time": "2020-09-27T19:13:08.650156",
     "exception": false,
     "start_time": "2020-09-27T19:13:08.400237",
     "status": "completed"
    },
    "tags": []
   },
   "outputs": [
    {
     "data": {
      "text/plain": [
       "(594, 41)"
      ]
     },
     "execution_count": 2,
     "metadata": {},
     "output_type": "execute_result"
    }
   ],
   "source": [
    "#hide\n",
    "url = 'https://api.covid19india.org/csv/latest/state_wise_daily.csv'\n",
    "df = pd.read_csv(url)\n",
    "df.shape"
   ]
  },
  {
   "cell_type": "code",
   "execution_count": 3,
   "metadata": {
    "execution": {
     "iopub.execute_input": "2020-09-27T19:13:08.722210Z",
     "iopub.status.busy": "2020-09-27T19:13:08.721525Z",
     "iopub.status.idle": "2020-09-27T19:13:08.737774Z",
     "shell.execute_reply": "2020-09-27T19:13:08.738329Z"
    },
    "papermill": {
     "duration": 0.074363,
     "end_time": "2020-09-27T19:13:08.738504",
     "exception": false,
     "start_time": "2020-09-27T19:13:08.664141",
     "status": "completed"
    },
    "tags": []
   },
   "outputs": [
    {
     "data": {
      "text/html": [
       "<div>\n",
       "<style scoped>\n",
       "    .dataframe tbody tr th:only-of-type {\n",
       "        vertical-align: middle;\n",
       "    }\n",
       "\n",
       "    .dataframe tbody tr th {\n",
       "        vertical-align: top;\n",
       "    }\n",
       "\n",
       "    .dataframe thead th {\n",
       "        text-align: right;\n",
       "    }\n",
       "</style>\n",
       "<table border=\"1\" class=\"dataframe\">\n",
       "  <thead>\n",
       "    <tr style=\"text-align: right;\">\n",
       "      <th></th>\n",
       "      <th>Date</th>\n",
       "      <th>Status</th>\n",
       "      <th>TT</th>\n",
       "      <th>AN</th>\n",
       "      <th>AP</th>\n",
       "      <th>AR</th>\n",
       "      <th>AS</th>\n",
       "      <th>BR</th>\n",
       "      <th>CH</th>\n",
       "      <th>CT</th>\n",
       "      <th>...</th>\n",
       "      <th>PB</th>\n",
       "      <th>RJ</th>\n",
       "      <th>SK</th>\n",
       "      <th>TN</th>\n",
       "      <th>TG</th>\n",
       "      <th>TR</th>\n",
       "      <th>UP</th>\n",
       "      <th>UT</th>\n",
       "      <th>WB</th>\n",
       "      <th>UN</th>\n",
       "    </tr>\n",
       "  </thead>\n",
       "  <tbody>\n",
       "    <tr>\n",
       "      <th>588</th>\n",
       "      <td>26-Sep-20</td>\n",
       "      <td>Confirmed</td>\n",
       "      <td>88256</td>\n",
       "      <td>15</td>\n",
       "      <td>7293</td>\n",
       "      <td>198</td>\n",
       "      <td>1736</td>\n",
       "      <td>1457</td>\n",
       "      <td>168</td>\n",
       "      <td>3896</td>\n",
       "      <td>...</td>\n",
       "      <td>1588</td>\n",
       "      <td>2045</td>\n",
       "      <td>48</td>\n",
       "      <td>5647</td>\n",
       "      <td>2239</td>\n",
       "      <td>278</td>\n",
       "      <td>4302</td>\n",
       "      <td>949</td>\n",
       "      <td>3181</td>\n",
       "      <td>0</td>\n",
       "    </tr>\n",
       "    <tr>\n",
       "      <th>589</th>\n",
       "      <td>26-Sep-20</td>\n",
       "      <td>Recovered</td>\n",
       "      <td>92359</td>\n",
       "      <td>23</td>\n",
       "      <td>9125</td>\n",
       "      <td>167</td>\n",
       "      <td>1595</td>\n",
       "      <td>1622</td>\n",
       "      <td>260</td>\n",
       "      <td>4095</td>\n",
       "      <td>...</td>\n",
       "      <td>1988</td>\n",
       "      <td>1706</td>\n",
       "      <td>22</td>\n",
       "      <td>5612</td>\n",
       "      <td>2281</td>\n",
       "      <td>505</td>\n",
       "      <td>6546</td>\n",
       "      <td>1007</td>\n",
       "      <td>2955</td>\n",
       "      <td>0</td>\n",
       "    </tr>\n",
       "    <tr>\n",
       "      <th>590</th>\n",
       "      <td>26-Sep-20</td>\n",
       "      <td>Deceased</td>\n",
       "      <td>1124</td>\n",
       "      <td>0</td>\n",
       "      <td>57</td>\n",
       "      <td>0</td>\n",
       "      <td>13</td>\n",
       "      <td>5</td>\n",
       "      <td>0</td>\n",
       "      <td>40</td>\n",
       "      <td>...</td>\n",
       "      <td>54</td>\n",
       "      <td>14</td>\n",
       "      <td>0</td>\n",
       "      <td>85</td>\n",
       "      <td>11</td>\n",
       "      <td>3</td>\n",
       "      <td>67</td>\n",
       "      <td>11</td>\n",
       "      <td>56</td>\n",
       "      <td>0</td>\n",
       "    </tr>\n",
       "    <tr>\n",
       "      <th>591</th>\n",
       "      <td>27-Sep-20</td>\n",
       "      <td>Confirmed</td>\n",
       "      <td>57203</td>\n",
       "      <td>0</td>\n",
       "      <td>6923</td>\n",
       "      <td>135</td>\n",
       "      <td>0</td>\n",
       "      <td>1527</td>\n",
       "      <td>173</td>\n",
       "      <td>0</td>\n",
       "      <td>...</td>\n",
       "      <td>1422</td>\n",
       "      <td>2084</td>\n",
       "      <td>0</td>\n",
       "      <td>5791</td>\n",
       "      <td>1967</td>\n",
       "      <td>320</td>\n",
       "      <td>4250</td>\n",
       "      <td>764</td>\n",
       "      <td>3185</td>\n",
       "      <td>0</td>\n",
       "    </tr>\n",
       "    <tr>\n",
       "      <th>592</th>\n",
       "      <td>27-Sep-20</td>\n",
       "      <td>Recovered</td>\n",
       "      <td>52603</td>\n",
       "      <td>0</td>\n",
       "      <td>7796</td>\n",
       "      <td>98</td>\n",
       "      <td>0</td>\n",
       "      <td>1405</td>\n",
       "      <td>166</td>\n",
       "      <td>0</td>\n",
       "      <td>...</td>\n",
       "      <td>2299</td>\n",
       "      <td>1724</td>\n",
       "      <td>0</td>\n",
       "      <td>5706</td>\n",
       "      <td>2058</td>\n",
       "      <td>400</td>\n",
       "      <td>5656</td>\n",
       "      <td>813</td>\n",
       "      <td>2946</td>\n",
       "      <td>0</td>\n",
       "    </tr>\n",
       "    <tr>\n",
       "      <th>593</th>\n",
       "      <td>27-Sep-20</td>\n",
       "      <td>Deceased</td>\n",
       "      <td>526</td>\n",
       "      <td>0</td>\n",
       "      <td>45</td>\n",
       "      <td>0</td>\n",
       "      <td>0</td>\n",
       "      <td>2</td>\n",
       "      <td>2</td>\n",
       "      <td>0</td>\n",
       "      <td>...</td>\n",
       "      <td>50</td>\n",
       "      <td>15</td>\n",
       "      <td>0</td>\n",
       "      <td>80</td>\n",
       "      <td>9</td>\n",
       "      <td>2</td>\n",
       "      <td>77</td>\n",
       "      <td>8</td>\n",
       "      <td>60</td>\n",
       "      <td>0</td>\n",
       "    </tr>\n",
       "  </tbody>\n",
       "</table>\n",
       "<p>6 rows × 41 columns</p>\n",
       "</div>"
      ],
      "text/plain": [
       "          Date     Status     TT  AN    AP   AR    AS    BR   CH    CT  ...  \\\n",
       "588  26-Sep-20  Confirmed  88256  15  7293  198  1736  1457  168  3896  ...   \n",
       "589  26-Sep-20  Recovered  92359  23  9125  167  1595  1622  260  4095  ...   \n",
       "590  26-Sep-20   Deceased   1124   0    57    0    13     5    0    40  ...   \n",
       "591  27-Sep-20  Confirmed  57203   0  6923  135     0  1527  173     0  ...   \n",
       "592  27-Sep-20  Recovered  52603   0  7796   98     0  1405  166     0  ...   \n",
       "593  27-Sep-20   Deceased    526   0    45    0     0     2    2     0  ...   \n",
       "\n",
       "       PB    RJ  SK    TN    TG   TR    UP    UT    WB  UN  \n",
       "588  1588  2045  48  5647  2239  278  4302   949  3181   0  \n",
       "589  1988  1706  22  5612  2281  505  6546  1007  2955   0  \n",
       "590    54    14   0    85    11    3    67    11    56   0  \n",
       "591  1422  2084   0  5791  1967  320  4250   764  3185   0  \n",
       "592  2299  1724   0  5706  2058  400  5656   813  2946   0  \n",
       "593    50    15   0    80     9    2    77     8    60   0  \n",
       "\n",
       "[6 rows x 41 columns]"
      ]
     },
     "execution_count": 3,
     "metadata": {},
     "output_type": "execute_result"
    }
   ],
   "source": [
    "#hide\n",
    "df.tail(6)"
   ]
  },
  {
   "cell_type": "code",
   "execution_count": 4,
   "metadata": {
    "execution": {
     "iopub.execute_input": "2020-09-27T19:13:08.772968Z",
     "iopub.status.busy": "2020-09-27T19:13:08.772317Z",
     "iopub.status.idle": "2020-09-27T19:13:08.775775Z",
     "shell.execute_reply": "2020-09-27T19:13:08.775253Z"
    },
    "papermill": {
     "duration": 0.023119,
     "end_time": "2020-09-27T19:13:08.775930",
     "exception": false,
     "start_time": "2020-09-27T19:13:08.752811",
     "status": "completed"
    },
    "tags": []
   },
   "outputs": [
    {
     "data": {
      "text/plain": [
       "('27-Sep-20', '26-Sep-20')"
      ]
     },
     "execution_count": 4,
     "metadata": {},
     "output_type": "execute_result"
    }
   ],
   "source": [
    "#hide\n",
    "dt_today = df.iloc[-1][0]\n",
    "dt_yday = df.iloc[-4][0]\n",
    "dt_today, dt_yday"
   ]
  },
  {
   "cell_type": "code",
   "execution_count": 5,
   "metadata": {
    "execution": {
     "iopub.execute_input": "2020-09-27T19:13:08.810225Z",
     "iopub.status.busy": "2020-09-27T19:13:08.809652Z",
     "iopub.status.idle": "2020-09-27T19:13:08.816788Z",
     "shell.execute_reply": "2020-09-27T19:13:08.816057Z"
    },
    "papermill": {
     "duration": 0.026805,
     "end_time": "2020-09-27T19:13:08.816976",
     "exception": false,
     "start_time": "2020-09-27T19:13:08.790171",
     "status": "completed"
    },
    "tags": []
   },
   "outputs": [],
   "source": [
    "#hide\n",
    "df_today = df.groupby('Status').sum()\n",
    "df_yday = df.iloc[:-3][:].groupby('Status').sum()"
   ]
  },
  {
   "cell_type": "code",
   "execution_count": 6,
   "metadata": {
    "execution": {
     "iopub.execute_input": "2020-09-27T19:13:08.861646Z",
     "iopub.status.busy": "2020-09-27T19:13:08.860919Z",
     "iopub.status.idle": "2020-09-27T19:13:08.864165Z",
     "shell.execute_reply": "2020-09-27T19:13:08.864676Z"
    },
    "papermill": {
     "duration": 0.03319,
     "end_time": "2020-09-27T19:13:08.864819",
     "exception": false,
     "start_time": "2020-09-27T19:13:08.831629",
     "status": "completed"
    },
    "tags": []
   },
   "outputs": [
    {
     "data": {
      "text/html": [
       "<div>\n",
       "<style scoped>\n",
       "    .dataframe tbody tr th:only-of-type {\n",
       "        vertical-align: middle;\n",
       "    }\n",
       "\n",
       "    .dataframe tbody tr th {\n",
       "        vertical-align: top;\n",
       "    }\n",
       "\n",
       "    .dataframe thead th {\n",
       "        text-align: right;\n",
       "    }\n",
       "</style>\n",
       "<table border=\"1\" class=\"dataframe\">\n",
       "  <thead>\n",
       "    <tr style=\"text-align: right;\">\n",
       "      <th></th>\n",
       "      <th>TT</th>\n",
       "      <th>AN</th>\n",
       "      <th>AP</th>\n",
       "      <th>AR</th>\n",
       "      <th>AS</th>\n",
       "      <th>BR</th>\n",
       "      <th>CH</th>\n",
       "      <th>CT</th>\n",
       "      <th>DN</th>\n",
       "      <th>DD</th>\n",
       "      <th>...</th>\n",
       "      <th>PB</th>\n",
       "      <th>RJ</th>\n",
       "      <th>SK</th>\n",
       "      <th>TN</th>\n",
       "      <th>TG</th>\n",
       "      <th>TR</th>\n",
       "      <th>UP</th>\n",
       "      <th>UT</th>\n",
       "      <th>WB</th>\n",
       "      <th>UN</th>\n",
       "    </tr>\n",
       "    <tr>\n",
       "      <th>Status</th>\n",
       "      <th></th>\n",
       "      <th></th>\n",
       "      <th></th>\n",
       "      <th></th>\n",
       "      <th></th>\n",
       "      <th></th>\n",
       "      <th></th>\n",
       "      <th></th>\n",
       "      <th></th>\n",
       "      <th></th>\n",
       "      <th></th>\n",
       "      <th></th>\n",
       "      <th></th>\n",
       "      <th></th>\n",
       "      <th></th>\n",
       "      <th></th>\n",
       "      <th></th>\n",
       "      <th></th>\n",
       "      <th></th>\n",
       "      <th></th>\n",
       "      <th></th>\n",
       "    </tr>\n",
       "  </thead>\n",
       "  <tbody>\n",
       "    <tr>\n",
       "      <th>Confirmed</th>\n",
       "      <td>6046648</td>\n",
       "      <td>3770</td>\n",
       "      <td>675674</td>\n",
       "      <td>9004</td>\n",
       "      <td>169008</td>\n",
       "      <td>178882</td>\n",
       "      <td>11553</td>\n",
       "      <td>102461</td>\n",
       "      <td>2999</td>\n",
       "      <td>0</td>\n",
       "      <td>...</td>\n",
       "      <td>110106</td>\n",
       "      <td>128859</td>\n",
       "      <td>2765</td>\n",
       "      <td>580808</td>\n",
       "      <td>185323</td>\n",
       "      <td>24725</td>\n",
       "      <td>387085</td>\n",
       "      <td>47045</td>\n",
       "      <td>247425</td>\n",
       "      <td>0</td>\n",
       "    </tr>\n",
       "    <tr>\n",
       "      <th>Deceased</th>\n",
       "      <td>94475</td>\n",
       "      <td>52</td>\n",
       "      <td>5708</td>\n",
       "      <td>14</td>\n",
       "      <td>642</td>\n",
       "      <td>888</td>\n",
       "      <td>147</td>\n",
       "      <td>817</td>\n",
       "      <td>2</td>\n",
       "      <td>0</td>\n",
       "      <td>...</td>\n",
       "      <td>3238</td>\n",
       "      <td>1441</td>\n",
       "      <td>31</td>\n",
       "      <td>9313</td>\n",
       "      <td>1100</td>\n",
       "      <td>267</td>\n",
       "      <td>5594</td>\n",
       "      <td>574</td>\n",
       "      <td>4781</td>\n",
       "      <td>0</td>\n",
       "    </tr>\n",
       "    <tr>\n",
       "      <th>Recovered</th>\n",
       "      <td>4991273</td>\n",
       "      <td>3542</td>\n",
       "      <td>605090</td>\n",
       "      <td>6495</td>\n",
       "      <td>138307</td>\n",
       "      <td>164537</td>\n",
       "      <td>9103</td>\n",
       "      <td>70955</td>\n",
       "      <td>2787</td>\n",
       "      <td>0</td>\n",
       "      <td>...</td>\n",
       "      <td>88312</td>\n",
       "      <td>107718</td>\n",
       "      <td>2017</td>\n",
       "      <td>525154</td>\n",
       "      <td>154499</td>\n",
       "      <td>18369</td>\n",
       "      <td>325888</td>\n",
       "      <td>35462</td>\n",
       "      <td>216921</td>\n",
       "      <td>0</td>\n",
       "    </tr>\n",
       "  </tbody>\n",
       "</table>\n",
       "<p>3 rows × 39 columns</p>\n",
       "</div>"
      ],
      "text/plain": [
       "                TT    AN      AP    AR      AS      BR     CH      CT    DN  \\\n",
       "Status                                                                        \n",
       "Confirmed  6046648  3770  675674  9004  169008  178882  11553  102461  2999   \n",
       "Deceased     94475    52    5708    14     642     888    147     817     2   \n",
       "Recovered  4991273  3542  605090  6495  138307  164537   9103   70955  2787   \n",
       "\n",
       "           DD  ...      PB      RJ    SK      TN      TG     TR      UP  \\\n",
       "Status         ...                                                        \n",
       "Confirmed   0  ...  110106  128859  2765  580808  185323  24725  387085   \n",
       "Deceased    0  ...    3238    1441    31    9313    1100    267    5594   \n",
       "Recovered   0  ...   88312  107718  2017  525154  154499  18369  325888   \n",
       "\n",
       "              UT      WB  UN  \n",
       "Status                        \n",
       "Confirmed  47045  247425   0  \n",
       "Deceased     574    4781   0  \n",
       "Recovered  35462  216921   0  \n",
       "\n",
       "[3 rows x 39 columns]"
      ]
     },
     "execution_count": 6,
     "metadata": {},
     "output_type": "execute_result"
    }
   ],
   "source": [
    "#hide\n",
    "df_today"
   ]
  },
  {
   "cell_type": "code",
   "execution_count": 7,
   "metadata": {
    "execution": {
     "iopub.execute_input": "2020-09-27T19:13:08.909251Z",
     "iopub.status.busy": "2020-09-27T19:13:08.908568Z",
     "iopub.status.idle": "2020-09-27T19:13:08.911573Z",
     "shell.execute_reply": "2020-09-27T19:13:08.912060Z"
    },
    "papermill": {
     "duration": 0.033868,
     "end_time": "2020-09-27T19:13:08.912201",
     "exception": false,
     "start_time": "2020-09-27T19:13:08.878333",
     "status": "completed"
    },
    "tags": []
   },
   "outputs": [
    {
     "data": {
      "text/html": [
       "<div>\n",
       "<style scoped>\n",
       "    .dataframe tbody tr th:only-of-type {\n",
       "        vertical-align: middle;\n",
       "    }\n",
       "\n",
       "    .dataframe tbody tr th {\n",
       "        vertical-align: top;\n",
       "    }\n",
       "\n",
       "    .dataframe thead th {\n",
       "        text-align: right;\n",
       "    }\n",
       "</style>\n",
       "<table border=\"1\" class=\"dataframe\">\n",
       "  <thead>\n",
       "    <tr style=\"text-align: right;\">\n",
       "      <th></th>\n",
       "      <th>TT</th>\n",
       "      <th>AN</th>\n",
       "      <th>AP</th>\n",
       "      <th>AR</th>\n",
       "      <th>AS</th>\n",
       "      <th>BR</th>\n",
       "      <th>CH</th>\n",
       "      <th>CT</th>\n",
       "      <th>DN</th>\n",
       "      <th>DD</th>\n",
       "      <th>...</th>\n",
       "      <th>PB</th>\n",
       "      <th>RJ</th>\n",
       "      <th>SK</th>\n",
       "      <th>TN</th>\n",
       "      <th>TG</th>\n",
       "      <th>TR</th>\n",
       "      <th>UP</th>\n",
       "      <th>UT</th>\n",
       "      <th>WB</th>\n",
       "      <th>UN</th>\n",
       "    </tr>\n",
       "    <tr>\n",
       "      <th>Status</th>\n",
       "      <th></th>\n",
       "      <th></th>\n",
       "      <th></th>\n",
       "      <th></th>\n",
       "      <th></th>\n",
       "      <th></th>\n",
       "      <th></th>\n",
       "      <th></th>\n",
       "      <th></th>\n",
       "      <th></th>\n",
       "      <th></th>\n",
       "      <th></th>\n",
       "      <th></th>\n",
       "      <th></th>\n",
       "      <th></th>\n",
       "      <th></th>\n",
       "      <th></th>\n",
       "      <th></th>\n",
       "      <th></th>\n",
       "      <th></th>\n",
       "      <th></th>\n",
       "    </tr>\n",
       "  </thead>\n",
       "  <tbody>\n",
       "    <tr>\n",
       "      <th>Confirmed</th>\n",
       "      <td>5989445</td>\n",
       "      <td>3770</td>\n",
       "      <td>668751</td>\n",
       "      <td>8869</td>\n",
       "      <td>169008</td>\n",
       "      <td>177355</td>\n",
       "      <td>11380</td>\n",
       "      <td>102461</td>\n",
       "      <td>2996</td>\n",
       "      <td>0</td>\n",
       "      <td>...</td>\n",
       "      <td>108684</td>\n",
       "      <td>126775</td>\n",
       "      <td>2765</td>\n",
       "      <td>575017</td>\n",
       "      <td>183356</td>\n",
       "      <td>24405</td>\n",
       "      <td>382835</td>\n",
       "      <td>46281</td>\n",
       "      <td>244240</td>\n",
       "      <td>0</td>\n",
       "    </tr>\n",
       "    <tr>\n",
       "      <th>Deceased</th>\n",
       "      <td>93949</td>\n",
       "      <td>52</td>\n",
       "      <td>5663</td>\n",
       "      <td>14</td>\n",
       "      <td>642</td>\n",
       "      <td>886</td>\n",
       "      <td>145</td>\n",
       "      <td>817</td>\n",
       "      <td>2</td>\n",
       "      <td>0</td>\n",
       "      <td>...</td>\n",
       "      <td>3188</td>\n",
       "      <td>1426</td>\n",
       "      <td>31</td>\n",
       "      <td>9233</td>\n",
       "      <td>1091</td>\n",
       "      <td>265</td>\n",
       "      <td>5517</td>\n",
       "      <td>566</td>\n",
       "      <td>4721</td>\n",
       "      <td>0</td>\n",
       "    </tr>\n",
       "    <tr>\n",
       "      <th>Recovered</th>\n",
       "      <td>4938670</td>\n",
       "      <td>3542</td>\n",
       "      <td>597294</td>\n",
       "      <td>6397</td>\n",
       "      <td>138307</td>\n",
       "      <td>163132</td>\n",
       "      <td>8937</td>\n",
       "      <td>70955</td>\n",
       "      <td>2783</td>\n",
       "      <td>0</td>\n",
       "      <td>...</td>\n",
       "      <td>86013</td>\n",
       "      <td>105994</td>\n",
       "      <td>2017</td>\n",
       "      <td>519448</td>\n",
       "      <td>152441</td>\n",
       "      <td>17969</td>\n",
       "      <td>320232</td>\n",
       "      <td>34649</td>\n",
       "      <td>213975</td>\n",
       "      <td>0</td>\n",
       "    </tr>\n",
       "  </tbody>\n",
       "</table>\n",
       "<p>3 rows × 39 columns</p>\n",
       "</div>"
      ],
      "text/plain": [
       "                TT    AN      AP    AR      AS      BR     CH      CT    DN  \\\n",
       "Status                                                                        \n",
       "Confirmed  5989445  3770  668751  8869  169008  177355  11380  102461  2996   \n",
       "Deceased     93949    52    5663    14     642     886    145     817     2   \n",
       "Recovered  4938670  3542  597294  6397  138307  163132   8937   70955  2783   \n",
       "\n",
       "           DD  ...      PB      RJ    SK      TN      TG     TR      UP  \\\n",
       "Status         ...                                                        \n",
       "Confirmed   0  ...  108684  126775  2765  575017  183356  24405  382835   \n",
       "Deceased    0  ...    3188    1426    31    9233    1091    265    5517   \n",
       "Recovered   0  ...   86013  105994  2017  519448  152441  17969  320232   \n",
       "\n",
       "              UT      WB  UN  \n",
       "Status                        \n",
       "Confirmed  46281  244240   0  \n",
       "Deceased     566    4721   0  \n",
       "Recovered  34649  213975   0  \n",
       "\n",
       "[3 rows x 39 columns]"
      ]
     },
     "execution_count": 7,
     "metadata": {},
     "output_type": "execute_result"
    }
   ],
   "source": [
    "#hide\n",
    "df_yday.head()"
   ]
  },
  {
   "cell_type": "code",
   "execution_count": 8,
   "metadata": {
    "execution": {
     "iopub.execute_input": "2020-09-27T19:13:08.950798Z",
     "iopub.status.busy": "2020-09-27T19:13:08.950091Z",
     "iopub.status.idle": "2020-09-27T19:13:08.953642Z",
     "shell.execute_reply": "2020-09-27T19:13:08.952961Z"
    },
    "papermill": {
     "duration": 0.02672,
     "end_time": "2020-09-27T19:13:08.953769",
     "exception": false,
     "start_time": "2020-09-27T19:13:08.927049",
     "status": "completed"
    },
    "tags": []
   },
   "outputs": [
    {
     "data": {
      "text/plain": [
       "{'updated': '27-Sep-20',\n",
       " 'since': '26-Sep-20',\n",
       " 'Cases': 6046648,\n",
       " 'Deaths': 94475,\n",
       " 'Recovered': 4991273,\n",
       " 'PCases': 5989445,\n",
       " 'PDeaths': 93949,\n",
       " 'PRecovered': 4938670,\n",
       " 'Cases (+)': 57203,\n",
       " 'Deaths (+)': 526,\n",
       " 'Recovered (+)': 52603}"
      ]
     },
     "execution_count": 8,
     "metadata": {},
     "output_type": "execute_result"
    }
   ],
   "source": [
    "#hide\n",
    "summary = {\n",
    "    'updated' : dt_today,\n",
    "    'since' : dt_yday,\n",
    "    'Cases' : df_today['TT'][0],\n",
    "    'Deaths' : df_today['TT'][1],\n",
    "    'Recovered' : df_today['TT'][2],\n",
    "    'PCases' : df_yday['TT'][0],\n",
    "    'PDeaths' : df_yday['TT'][1],\n",
    "    'PRecovered': df_yday['TT'][2],\n",
    "    'Cases (+)' : df_today['TT'][0] - df_yday['TT'][0],\n",
    "    'Deaths (+)' : df_today['TT'][1] - df_yday['TT'][1],\n",
    "    'Recovered (+)': df_today['TT'][2] - df_yday['TT'][2]\n",
    "}\n",
    "\n",
    "summary"
   ]
  },
  {
   "cell_type": "code",
   "execution_count": 9,
   "metadata": {
    "execution": {
     "iopub.execute_input": "2020-09-27T19:13:08.989106Z",
     "iopub.status.busy": "2020-09-27T19:13:08.988507Z",
     "iopub.status.idle": "2020-09-27T19:13:08.990876Z",
     "shell.execute_reply": "2020-09-27T19:13:08.990382Z"
    },
    "papermill": {
     "duration": 0.021239,
     "end_time": "2020-09-27T19:13:08.990991",
     "exception": false,
     "start_time": "2020-09-27T19:13:08.969752",
     "status": "completed"
    },
    "tags": []
   },
   "outputs": [],
   "source": [
    "#hide\n",
    "overview = '''\n",
    "<!-- #######  HTML!! #########-->\n",
    "<h1 style=\"color: #5e9ca0; text-align: center;\">India</h1>\n",
    "<p style=\"text-align: center;\">Last update: <strong>{update}</strong></p>\n",
    "<p style=\"text-align: center;\">Confirmed cases:</p>\n",
    "<p style=\"text-align: center;font-size:24px;\">{cases} (<span style=\"color: #ff0000;\">+{new}</span>)</p>\n",
    "<p style=\"text-align: center;\">Confirmed deaths:</p>\n",
    "<p style=\"text-align: center;font-size:24px;\">{deaths} (<span style=\"color: #ff0000;\">+{dnew}</span>)</p>\n",
    "<p style=\"text-align: center;\">Recovered cases:</p>\n",
    "<p style=\"text-align: center;font-size:24px;\">{recovered} (<span style=\"color: #00ff00;\">+{rnew}</span>)</p>\n",
    "'''"
   ]
  },
  {
   "cell_type": "code",
   "execution_count": 10,
   "metadata": {
    "execution": {
     "iopub.execute_input": "2020-09-27T19:13:09.028310Z",
     "iopub.status.busy": "2020-09-27T19:13:09.027622Z",
     "iopub.status.idle": "2020-09-27T19:13:09.031047Z",
     "shell.execute_reply": "2020-09-27T19:13:09.030420Z"
    },
    "papermill": {
     "duration": 0.025228,
     "end_time": "2020-09-27T19:13:09.031175",
     "exception": false,
     "start_time": "2020-09-27T19:13:09.005947",
     "status": "completed"
    },
    "tags": []
   },
   "outputs": [
    {
     "data": {
      "text/html": [
       "\n",
       "<!-- #######  HTML!! #########-->\n",
       "<h1 style=\"color: #5e9ca0; text-align: center;\">India</h1>\n",
       "<p style=\"text-align: center;\">Last update: <strong>27-Sep-20</strong></p>\n",
       "<p style=\"text-align: center;\">Confirmed cases:</p>\n",
       "<p style=\"text-align: center;font-size:24px;\">6046648 (<span style=\"color: #ff0000;\">+57203</span>)</p>\n",
       "<p style=\"text-align: center;\">Confirmed deaths:</p>\n",
       "<p style=\"text-align: center;font-size:24px;\">94475 (<span style=\"color: #ff0000;\">+526</span>)</p>\n",
       "<p style=\"text-align: center;\">Recovered cases:</p>\n",
       "<p style=\"text-align: center;font-size:24px;\">4991273 (<span style=\"color: #00ff00;\">+52603</span>)</p>\n"
      ],
      "text/plain": [
       "<IPython.core.display.HTML object>"
      ]
     },
     "metadata": {},
     "output_type": "display_data"
    }
   ],
   "source": [
    "#hide_input\n",
    "# Fill the above HTML with the information from the summary dictionary\n",
    "\n",
    "update = summary['updated']\n",
    "cases = summary['Cases']\n",
    "new = summary['Cases (+)']\n",
    "deaths = summary['Deaths']\n",
    "dnew = summary['Deaths (+)']\n",
    "recovered = summary['Recovered']\n",
    "rnew = summary['Recovered (+)']\n",
    "\n",
    "html = HTML(overview.format(update=update, cases=cases,new=new,deaths=deaths,dnew=dnew, recovered=recovered, rnew=rnew))\n",
    "\n",
    "display(html)"
   ]
  },
  {
   "cell_type": "code",
   "execution_count": 11,
   "metadata": {
    "execution": {
     "iopub.execute_input": "2020-09-27T19:13:09.071040Z",
     "iopub.status.busy": "2020-09-27T19:13:09.070371Z",
     "iopub.status.idle": "2020-09-27T19:13:09.077019Z",
     "shell.execute_reply": "2020-09-27T19:13:09.077581Z"
    },
    "papermill": {
     "duration": 0.030002,
     "end_time": "2020-09-27T19:13:09.077719",
     "exception": false,
     "start_time": "2020-09-27T19:13:09.047717",
     "status": "completed"
    },
    "tags": []
   },
   "outputs": [],
   "source": [
    "#hide\n",
    "df_cases = df[df['Status'] == 'Confirmed'].copy()\n",
    "df_cases.drop(columns = ['Status'], inplace=True)\n",
    "df_deaths = df[df['Status'] == 'Deceased'].copy()\n",
    "df_deaths.drop(columns = ['Status'], inplace=True)\n",
    "df_recovered = df[df['Status'] == 'Recovered'].copy()\n",
    "df_recovered.drop(columns = ['Status'], inplace=True)"
   ]
  },
  {
   "cell_type": "markdown",
   "metadata": {
    "papermill": {
     "duration": 0.015648,
     "end_time": "2020-09-27T19:13:09.111524",
     "exception": false,
     "start_time": "2020-09-27T19:13:09.095876",
     "status": "completed"
    },
    "tags": []
   },
   "source": [
    "Plot for India:"
   ]
  },
  {
   "cell_type": "code",
   "execution_count": 12,
   "metadata": {
    "execution": {
     "iopub.execute_input": "2020-09-27T19:13:09.166601Z",
     "iopub.status.busy": "2020-09-27T19:13:09.165846Z",
     "iopub.status.idle": "2020-09-27T19:13:09.456832Z",
     "shell.execute_reply": "2020-09-27T19:13:09.457477Z"
    },
    "papermill": {
     "duration": 0.328626,
     "end_time": "2020-09-27T19:13:09.457664",
     "exception": false,
     "start_time": "2020-09-27T19:13:09.129038",
     "status": "completed"
    },
    "tags": []
   },
   "outputs": [
    {
     "data": {
      "image/png": "[encoded data removed]",
      "text/plain": [
       "<Figure size 1296x432 with 1 Axes>"
      ]
     },
     "metadata": {
      "needs_background": "light"
     },
     "output_type": "display_data"
    }
   ],
   "source": [
    "#hide_input\n",
    "plt.figure(figsize = (18,6))\n",
    "plt.plot(df_cases['Date'], df_cases['TT'],'.-', alpha=0.7, color='b', label='Confirmed cases')\n",
    "plt.plot(df_recovered['Date'], df_recovered['TT'],'.-', alpha=0.7, color='g', label='Recovered')\n",
    "plt.plot(df_deaths['Date'], df_deaths['TT'],'.-', alpha=0.7, color='r', label='Deceased')\n",
    "plt.legend()\n",
    "plt.title(\"Cases per day in India\")\n",
    "plt.xticks(ticks=' ')\n",
    "plt.xlabel(f'{df_cases.iloc[0][0]} to {df_cases.iloc[-1][0]}')\n",
    "plt.ylabel('No. of cases');"
   ]
  },
  {
   "cell_type": "markdown",
   "metadata": {
    "papermill": {
     "duration": 0.017703,
     "end_time": "2020-09-27T19:13:09.493607",
     "exception": false,
     "start_time": "2020-09-27T19:13:09.475904",
     "status": "completed"
    },
    "tags": []
   },
   "source": [
    "Plots for the states with highest number of cases:"
   ]
  },
  {
   "cell_type": "code",
   "execution_count": 13,
   "metadata": {
    "execution": {
     "iopub.execute_input": "2020-09-27T19:13:09.552494Z",
     "iopub.status.busy": "2020-09-27T19:13:09.538191Z",
     "iopub.status.idle": "2020-09-27T19:13:10.267165Z",
     "shell.execute_reply": "2020-09-27T19:13:10.267800Z"
    },
    "papermill": {
     "duration": 0.756597,
     "end_time": "2020-09-27T19:13:10.267966",
     "exception": false,
     "start_time": "2020-09-27T19:13:09.511369",
     "status": "completed"
    },
    "tags": []
   },
   "outputs": [
    {
     "data": {
      "image/png": "[encoded data removed]",
      "text/plain": [
       "<Figure size 1512x432 with 3 Axes>"
      ]
     },
     "metadata": {
      "needs_background": "light"
     },
     "output_type": "display_data"
    }
   ],
   "source": [
    "#hide_input\n",
    "top_3 = sorted(df_cases.sum().values[1:], reverse=True)[1:4]\n",
    "top3_states=[]\n",
    "for i in top_3:\n",
    "    top3_states.append(df_cases.sum()[df_cases.sum() == i].index)\n",
    "\n",
    "\n",
    "fig, ax = plt.subplots(1,3,figsize = (21,6))\n",
    "for i in range(3):\n",
    "    state = top3_states[i].values[0]\n",
    "    ax[i].plot(df_cases['Date'], df_cases[state],'.-', color='b', alpha=0.7)\n",
    "    ax[i].plot(df_deaths['Date'], df_deaths[state],'.-', color='r', alpha=0.7)\n",
    "    ax[i].plot(df_recovered['Date'], df_recovered[state],'.-', color='g', alpha=0.7)\n",
    "    \n",
    "    ax[i].set_title(f\"Cases in {state}\")\n",
    "    ax[i].set_xticks(ticks=' ')\n",
    "    ax[i].set_xlabel(f'{df_cases.iloc[0][0]} to {df_cases.iloc[-1][0]}')\n",
    "    ax[i].set_ylabel('No. of cases');"
   ]
  },
  {
   "cell_type": "code",
   "execution_count": null,
   "metadata": {
    "papermill": {
     "duration": 0.086242,
     "end_time": "2020-09-27T19:13:10.414034",
     "exception": false,
     "start_time": "2020-09-27T19:13:10.327792",
     "status": "completed"
    },
    "tags": []
   },
   "outputs": [],
   "source": []
  },
  {
   "cell_type": "code",
   "execution_count": null,
   "metadata": {
    "papermill": {
     "duration": 0.045494,
     "end_time": "2020-09-27T19:13:10.707467",
     "exception": false,
     "start_time": "2020-09-27T19:13:10.661973",
     "status": "completed"
    },
    "tags": []
   },
   "outputs": [],
   "source": []
  },
  {
   "cell_type": "code",
   "execution_count": null,
   "metadata": {
    "papermill": {
     "duration": 0.062496,
     "end_time": "2020-09-27T19:13:10.814712",
     "exception": false,
     "start_time": "2020-09-27T19:13:10.752216",
     "status": "completed"
    },
    "tags": []
   },
   "outputs": [],
   "source": []
  }
 ],
 "metadata": {
  "kernelspec": {
   "display_name": "Python 3",
   "language": "python",
   "name": "python3"
  },
  "language_info": {
   "codemirror_mode": {
    "name": "ipython",
    "version": 3
   },
   "file_extension": ".py",
   "mimetype": "text/x-python",
   "name": "python",
   "nbconvert_exporter": "python",
   "pygments_lexer": "ipython3",
   "version": "3.6.12"
  },
  "papermill": {
   "duration": 4.533039,
   "end_time": "2020-09-27T19:13:11.170352",
   "environment_variables": {},
   "exception": null,
   "input_path": "2020-08-09-DailyUpdate.ipynb",
   "output_path": "2020-08-09-DailyUpdate.ipynb",
   "parameters": {},
   "start_time": "2020-09-27T19:13:06.637313",
   "version": "2.1.2"
  }
 },
 "nbformat": 4,
 "nbformat_minor": 4
}