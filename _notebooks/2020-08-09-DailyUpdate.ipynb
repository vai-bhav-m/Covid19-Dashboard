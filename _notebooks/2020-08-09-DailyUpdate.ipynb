{
 "cells": [
  {
   "cell_type": "markdown",
   "metadata": {
    "papermill": {
     "duration": 0.014816,
     "end_time": "2020-08-26T19:10:51.959602",
     "exception": false,
     "start_time": "2020-08-26T19:10:51.944786",
     "status": "completed"
    },
    "tags": []
   },
   "source": [
    "# COVID-19 India Daily updates\n",
    "> Tracking coronavirus total cases, deaths and new cases in India on a daily basis\n",
    "\n",
    "- author: Vaibhav Mahapatra"
   ]
  },
  {
   "cell_type": "code",
   "execution_count": 1,
   "metadata": {
    "execution": {
     "iopub.execute_input": "2020-08-26T19:10:51.983620Z",
     "iopub.status.busy": "2020-08-26T19:10:51.983185Z",
     "iopub.status.idle": "2020-08-26T19:10:52.441383Z",
     "shell.execute_reply": "2020-08-26T19:10:52.440472Z"
    },
    "papermill": {
     "duration": 0.472053,
     "end_time": "2020-08-26T19:10:52.441523",
     "exception": false,
     "start_time": "2020-08-26T19:10:51.969470",
     "status": "completed"
    },
    "tags": []
   },
   "outputs": [],
   "source": [
    "#hide\n",
    "\n",
    "## Import essential packages below\n",
    "\n",
    "import pandas as pd\n",
    "import numpy as np\n",
    "import requests\n",
    "import json\n",
    "import matplotlib.pyplot as plt\n",
    "import matplotlib.dates as mdates\n",
    "import matplotlib as mpl\n",
    "from IPython.core.display import display,HTML\n",
    "%matplotlib inline"
   ]
  },
  {
   "cell_type": "code",
   "execution_count": 2,
   "metadata": {
    "execution": {
     "iopub.execute_input": "2020-08-26T19:10:52.463907Z",
     "iopub.status.busy": "2020-08-26T19:10:52.463415Z",
     "iopub.status.idle": "2020-08-26T19:10:52.650046Z",
     "shell.execute_reply": "2020-08-26T19:10:52.650423Z"
    },
    "papermill": {
     "duration": 0.200018,
     "end_time": "2020-08-26T19:10:52.650543",
     "exception": false,
     "start_time": "2020-08-26T19:10:52.450525",
     "status": "completed"
    },
    "tags": []
   },
   "outputs": [
    {
     "data": {
      "text/plain": [
       "(498, 41)"
      ]
     },
     "execution_count": 2,
     "metadata": {},
     "output_type": "execute_result"
    }
   ],
   "source": [
    "#hide\n",
    "url = 'https://api.covid19india.org/csv/latest/state_wise_daily.csv'\n",
    "df = pd.read_csv(url)\n",
    "df.shape"
   ]
  },
  {
   "cell_type": "code",
   "execution_count": 3,
   "metadata": {
    "execution": {
     "iopub.execute_input": "2020-08-26T19:10:52.716877Z",
     "iopub.status.busy": "2020-08-26T19:10:52.715506Z",
     "iopub.status.idle": "2020-08-26T19:10:52.725877Z",
     "shell.execute_reply": "2020-08-26T19:10:52.726277Z"
    },
    "papermill": {
     "duration": 0.06581,
     "end_time": "2020-08-26T19:10:52.726417",
     "exception": false,
     "start_time": "2020-08-26T19:10:52.660607",
     "status": "completed"
    },
    "tags": []
   },
   "outputs": [
    {
     "data": {
      "text/html": [
       "<div>\n",
       "<style scoped>\n",
       "    .dataframe tbody tr th:only-of-type {\n",
       "        vertical-align: middle;\n",
       "    }\n",
       "\n",
       "    .dataframe tbody tr th {\n",
       "        vertical-align: top;\n",
       "    }\n",
       "\n",
       "    .dataframe thead th {\n",
       "        text-align: right;\n",
       "    }\n",
       "</style>\n",
       "<table border=\"1\" class=\"dataframe\">\n",
       "  <thead>\n",
       "    <tr style=\"text-align: right;\">\n",
       "      <th></th>\n",
       "      <th>Date</th>\n",
       "      <th>Status</th>\n",
       "      <th>TT</th>\n",
       "      <th>AN</th>\n",
       "      <th>AP</th>\n",
       "      <th>AR</th>\n",
       "      <th>AS</th>\n",
       "      <th>BR</th>\n",
       "      <th>CH</th>\n",
       "      <th>CT</th>\n",
       "      <th>...</th>\n",
       "      <th>PB</th>\n",
       "      <th>RJ</th>\n",
       "      <th>SK</th>\n",
       "      <th>TN</th>\n",
       "      <th>TG</th>\n",
       "      <th>TR</th>\n",
       "      <th>UP</th>\n",
       "      <th>UT</th>\n",
       "      <th>WB</th>\n",
       "      <th>UN</th>\n",
       "    </tr>\n",
       "  </thead>\n",
       "  <tbody>\n",
       "    <tr>\n",
       "      <th>492</th>\n",
       "      <td>25-Aug-20</td>\n",
       "      <td>Confirmed</td>\n",
       "      <td>66850</td>\n",
       "      <td>41</td>\n",
       "      <td>9927</td>\n",
       "      <td>100</td>\n",
       "      <td>1973</td>\n",
       "      <td>1444</td>\n",
       "      <td>174</td>\n",
       "      <td>1287</td>\n",
       "      <td>...</td>\n",
       "      <td>1293</td>\n",
       "      <td>1370</td>\n",
       "      <td>29</td>\n",
       "      <td>5951</td>\n",
       "      <td>2579</td>\n",
       "      <td>293</td>\n",
       "      <td>5006</td>\n",
       "      <td>485</td>\n",
       "      <td>2964</td>\n",
       "      <td>0</td>\n",
       "    </tr>\n",
       "    <tr>\n",
       "      <th>493</th>\n",
       "      <td>25-Aug-20</td>\n",
       "      <td>Recovered</td>\n",
       "      <td>64151</td>\n",
       "      <td>139</td>\n",
       "      <td>9419</td>\n",
       "      <td>81</td>\n",
       "      <td>1724</td>\n",
       "      <td>3169</td>\n",
       "      <td>67</td>\n",
       "      <td>308</td>\n",
       "      <td>...</td>\n",
       "      <td>788</td>\n",
       "      <td>1526</td>\n",
       "      <td>120</td>\n",
       "      <td>6998</td>\n",
       "      <td>1752</td>\n",
       "      <td>73</td>\n",
       "      <td>4647</td>\n",
       "      <td>289</td>\n",
       "      <td>3251</td>\n",
       "      <td>0</td>\n",
       "    </tr>\n",
       "    <tr>\n",
       "      <th>494</th>\n",
       "      <td>25-Aug-20</td>\n",
       "      <td>Deceased</td>\n",
       "      <td>1066</td>\n",
       "      <td>2</td>\n",
       "      <td>92</td>\n",
       "      <td>0</td>\n",
       "      <td>8</td>\n",
       "      <td>17</td>\n",
       "      <td>3</td>\n",
       "      <td>15</td>\n",
       "      <td>...</td>\n",
       "      <td>49</td>\n",
       "      <td>13</td>\n",
       "      <td>0</td>\n",
       "      <td>107</td>\n",
       "      <td>9</td>\n",
       "      <td>6</td>\n",
       "      <td>72</td>\n",
       "      <td>6</td>\n",
       "      <td>58</td>\n",
       "      <td>0</td>\n",
       "    </tr>\n",
       "    <tr>\n",
       "      <th>495</th>\n",
       "      <td>26-Aug-20</td>\n",
       "      <td>Confirmed</td>\n",
       "      <td>75995</td>\n",
       "      <td>40</td>\n",
       "      <td>10830</td>\n",
       "      <td>143</td>\n",
       "      <td>2179</td>\n",
       "      <td>2163</td>\n",
       "      <td>167</td>\n",
       "      <td>1209</td>\n",
       "      <td>...</td>\n",
       "      <td>1513</td>\n",
       "      <td>1345</td>\n",
       "      <td>11</td>\n",
       "      <td>5958</td>\n",
       "      <td>3018</td>\n",
       "      <td>329</td>\n",
       "      <td>5640</td>\n",
       "      <td>535</td>\n",
       "      <td>2974</td>\n",
       "      <td>0</td>\n",
       "    </tr>\n",
       "    <tr>\n",
       "      <th>496</th>\n",
       "      <td>26-Aug-20</td>\n",
       "      <td>Recovered</td>\n",
       "      <td>56191</td>\n",
       "      <td>78</td>\n",
       "      <td>8473</td>\n",
       "      <td>55</td>\n",
       "      <td>2148</td>\n",
       "      <td>2234</td>\n",
       "      <td>87</td>\n",
       "      <td>413</td>\n",
       "      <td>...</td>\n",
       "      <td>1086</td>\n",
       "      <td>1453</td>\n",
       "      <td>22</td>\n",
       "      <td>5606</td>\n",
       "      <td>1060</td>\n",
       "      <td>160</td>\n",
       "      <td>3808</td>\n",
       "      <td>323</td>\n",
       "      <td>3314</td>\n",
       "      <td>0</td>\n",
       "    </tr>\n",
       "    <tr>\n",
       "      <th>497</th>\n",
       "      <td>26-Aug-20</td>\n",
       "      <td>Deceased</td>\n",
       "      <td>1017</td>\n",
       "      <td>4</td>\n",
       "      <td>81</td>\n",
       "      <td>0</td>\n",
       "      <td>14</td>\n",
       "      <td>9</td>\n",
       "      <td>1</td>\n",
       "      <td>10</td>\n",
       "      <td>...</td>\n",
       "      <td>41</td>\n",
       "      <td>12</td>\n",
       "      <td>0</td>\n",
       "      <td>118</td>\n",
       "      <td>10</td>\n",
       "      <td>4</td>\n",
       "      <td>82</td>\n",
       "      <td>6</td>\n",
       "      <td>55</td>\n",
       "      <td>0</td>\n",
       "    </tr>\n",
       "  </tbody>\n",
       "</table>\n",
       "<p>6 rows × 41 columns</p>\n",
       "</div>"
      ],
      "text/plain": [
       "          Date     Status     TT   AN     AP   AR    AS    BR   CH    CT  ...  \\\n",
       "492  25-Aug-20  Confirmed  66850   41   9927  100  1973  1444  174  1287  ...   \n",
       "493  25-Aug-20  Recovered  64151  139   9419   81  1724  3169   67   308  ...   \n",
       "494  25-Aug-20   Deceased   1066    2     92    0     8    17    3    15  ...   \n",
       "495  26-Aug-20  Confirmed  75995   40  10830  143  2179  2163  167  1209  ...   \n",
       "496  26-Aug-20  Recovered  56191   78   8473   55  2148  2234   87   413  ...   \n",
       "497  26-Aug-20   Deceased   1017    4     81    0    14     9    1    10  ...   \n",
       "\n",
       "       PB    RJ   SK    TN    TG   TR    UP   UT    WB  UN  \n",
       "492  1293  1370   29  5951  2579  293  5006  485  2964   0  \n",
       "493   788  1526  120  6998  1752   73  4647  289  3251   0  \n",
       "494    49    13    0   107     9    6    72    6    58   0  \n",
       "495  1513  1345   11  5958  3018  329  5640  535  2974   0  \n",
       "496  1086  1453   22  5606  1060  160  3808  323  3314   0  \n",
       "497    41    12    0   118    10    4    82    6    55   0  \n",
       "\n",
       "[6 rows x 41 columns]"
      ]
     },
     "execution_count": 3,
     "metadata": {},
     "output_type": "execute_result"
    }
   ],
   "source": [
    "#hide\n",
    "df.tail(6)"
   ]
  },
  {
   "cell_type": "code",
   "execution_count": 4,
   "metadata": {
    "execution": {
     "iopub.execute_input": "2020-08-26T19:10:52.752257Z",
     "iopub.status.busy": "2020-08-26T19:10:52.751774Z",
     "iopub.status.idle": "2020-08-26T19:10:52.754631Z",
     "shell.execute_reply": "2020-08-26T19:10:52.754167Z"
    },
    "papermill": {
     "duration": 0.01718,
     "end_time": "2020-08-26T19:10:52.754740",
     "exception": false,
     "start_time": "2020-08-26T19:10:52.737560",
     "status": "completed"
    },
    "tags": []
   },
   "outputs": [
    {
     "data": {
      "text/plain": [
       "('26-Aug-20', '25-Aug-20')"
      ]
     },
     "execution_count": 4,
     "metadata": {},
     "output_type": "execute_result"
    }
   ],
   "source": [
    "#hide\n",
    "dt_today = df.iloc[-1][0]\n",
    "dt_yday = df.iloc[-4][0]\n",
    "dt_today, dt_yday"
   ]
  },
  {
   "cell_type": "code",
   "execution_count": 5,
   "metadata": {
    "execution": {
     "iopub.execute_input": "2020-08-26T19:10:52.780999Z",
     "iopub.status.busy": "2020-08-26T19:10:52.780410Z",
     "iopub.status.idle": "2020-08-26T19:10:52.785949Z",
     "shell.execute_reply": "2020-08-26T19:10:52.786292Z"
    },
    "papermill": {
     "duration": 0.021357,
     "end_time": "2020-08-26T19:10:52.786391",
     "exception": false,
     "start_time": "2020-08-26T19:10:52.765034",
     "status": "completed"
    },
    "tags": []
   },
   "outputs": [],
   "source": [
    "#hide\n",
    "df_today = df.groupby('Status').sum()\n",
    "df_yday = df.iloc[:-3][:].groupby('Status').sum()"
   ]
  },
  {
   "cell_type": "code",
   "execution_count": 6,
   "metadata": {
    "execution": {
     "iopub.execute_input": "2020-08-26T19:10:52.817317Z",
     "iopub.status.busy": "2020-08-26T19:10:52.816765Z",
     "iopub.status.idle": "2020-08-26T19:10:52.820153Z",
     "shell.execute_reply": "2020-08-26T19:10:52.819763Z"
    },
    "papermill": {
     "duration": 0.023914,
     "end_time": "2020-08-26T19:10:52.820251",
     "exception": false,
     "start_time": "2020-08-26T19:10:52.796337",
     "status": "completed"
    },
    "tags": []
   },
   "outputs": [
    {
     "data": {
      "text/html": [
       "<div>\n",
       "<style scoped>\n",
       "    .dataframe tbody tr th:only-of-type {\n",
       "        vertical-align: middle;\n",
       "    }\n",
       "\n",
       "    .dataframe tbody tr th {\n",
       "        vertical-align: top;\n",
       "    }\n",
       "\n",
       "    .dataframe thead th {\n",
       "        text-align: right;\n",
       "    }\n",
       "</style>\n",
       "<table border=\"1\" class=\"dataframe\">\n",
       "  <thead>\n",
       "    <tr style=\"text-align: right;\">\n",
       "      <th></th>\n",
       "      <th>TT</th>\n",
       "      <th>AN</th>\n",
       "      <th>AP</th>\n",
       "      <th>AR</th>\n",
       "      <th>AS</th>\n",
       "      <th>BR</th>\n",
       "      <th>CH</th>\n",
       "      <th>CT</th>\n",
       "      <th>DN</th>\n",
       "      <th>DD</th>\n",
       "      <th>...</th>\n",
       "      <th>PB</th>\n",
       "      <th>RJ</th>\n",
       "      <th>SK</th>\n",
       "      <th>TN</th>\n",
       "      <th>TG</th>\n",
       "      <th>TR</th>\n",
       "      <th>UP</th>\n",
       "      <th>UT</th>\n",
       "      <th>WB</th>\n",
       "      <th>UN</th>\n",
       "    </tr>\n",
       "    <tr>\n",
       "      <th>Status</th>\n",
       "      <th></th>\n",
       "      <th></th>\n",
       "      <th></th>\n",
       "      <th></th>\n",
       "      <th></th>\n",
       "      <th></th>\n",
       "      <th></th>\n",
       "      <th></th>\n",
       "      <th></th>\n",
       "      <th></th>\n",
       "      <th></th>\n",
       "      <th></th>\n",
       "      <th></th>\n",
       "      <th></th>\n",
       "      <th></th>\n",
       "      <th></th>\n",
       "      <th></th>\n",
       "      <th></th>\n",
       "      <th></th>\n",
       "      <th></th>\n",
       "      <th></th>\n",
       "    </tr>\n",
       "  </thead>\n",
       "  <tbody>\n",
       "    <tr>\n",
       "      <th>Confirmed</th>\n",
       "      <td>3307099</td>\n",
       "      <td>2981</td>\n",
       "      <td>382469</td>\n",
       "      <td>3555</td>\n",
       "      <td>96670</td>\n",
       "      <td>126990</td>\n",
       "      <td>3376</td>\n",
       "      <td>24550</td>\n",
       "      <td>2222</td>\n",
       "      <td>0</td>\n",
       "      <td>...</td>\n",
       "      <td>46090</td>\n",
       "      <td>74670</td>\n",
       "      <td>1499</td>\n",
       "      <td>397261</td>\n",
       "      <td>111178</td>\n",
       "      <td>9539</td>\n",
       "      <td>203028</td>\n",
       "      <td>16549</td>\n",
       "      <td>147775</td>\n",
       "      <td>0</td>\n",
       "    </tr>\n",
       "    <tr>\n",
       "      <th>Deceased</th>\n",
       "      <td>60640</td>\n",
       "      <td>41</td>\n",
       "      <td>3541</td>\n",
       "      <td>5</td>\n",
       "      <td>278</td>\n",
       "      <td>653</td>\n",
       "      <td>41</td>\n",
       "      <td>231</td>\n",
       "      <td>2</td>\n",
       "      <td>0</td>\n",
       "      <td>...</td>\n",
       "      <td>1219</td>\n",
       "      <td>992</td>\n",
       "      <td>3</td>\n",
       "      <td>6839</td>\n",
       "      <td>780</td>\n",
       "      <td>83</td>\n",
       "      <td>3141</td>\n",
       "      <td>219</td>\n",
       "      <td>2964</td>\n",
       "      <td>0</td>\n",
       "    </tr>\n",
       "    <tr>\n",
       "      <th>Recovered</th>\n",
       "      <td>2523436</td>\n",
       "      <td>2300</td>\n",
       "      <td>286720</td>\n",
       "      <td>2563</td>\n",
       "      <td>76963</td>\n",
       "      <td>106765</td>\n",
       "      <td>1800</td>\n",
       "      <td>14145</td>\n",
       "      <td>1857</td>\n",
       "      <td>0</td>\n",
       "      <td>...</td>\n",
       "      <td>30231</td>\n",
       "      <td>59579</td>\n",
       "      <td>1077</td>\n",
       "      <td>338060</td>\n",
       "      <td>85223</td>\n",
       "      <td>6574</td>\n",
       "      <td>148562</td>\n",
       "      <td>11524</td>\n",
       "      <td>117857</td>\n",
       "      <td>0</td>\n",
       "    </tr>\n",
       "  </tbody>\n",
       "</table>\n",
       "<p>3 rows × 39 columns</p>\n",
       "</div>"
      ],
      "text/plain": [
       "                TT    AN      AP    AR     AS      BR    CH     CT    DN  DD  \\\n",
       "Status                                                                         \n",
       "Confirmed  3307099  2981  382469  3555  96670  126990  3376  24550  2222   0   \n",
       "Deceased     60640    41    3541     5    278     653    41    231     2   0   \n",
       "Recovered  2523436  2300  286720  2563  76963  106765  1800  14145  1857   0   \n",
       "\n",
       "           ...     PB     RJ    SK      TN      TG    TR      UP     UT  \\\n",
       "Status     ...                                                            \n",
       "Confirmed  ...  46090  74670  1499  397261  111178  9539  203028  16549   \n",
       "Deceased   ...   1219    992     3    6839     780    83    3141    219   \n",
       "Recovered  ...  30231  59579  1077  338060   85223  6574  148562  11524   \n",
       "\n",
       "               WB  UN  \n",
       "Status                 \n",
       "Confirmed  147775   0  \n",
       "Deceased     2964   0  \n",
       "Recovered  117857   0  \n",
       "\n",
       "[3 rows x 39 columns]"
      ]
     },
     "execution_count": 6,
     "metadata": {},
     "output_type": "execute_result"
    }
   ],
   "source": [
    "#hide\n",
    "df_today"
   ]
  },
  {
   "cell_type": "code",
   "execution_count": 7,
   "metadata": {
    "execution": {
     "iopub.execute_input": "2020-08-26T19:10:52.855248Z",
     "iopub.status.busy": "2020-08-26T19:10:52.854762Z",
     "iopub.status.idle": "2020-08-26T19:10:52.857800Z",
     "shell.execute_reply": "2020-08-26T19:10:52.857444Z"
    },
    "papermill": {
     "duration": 0.027576,
     "end_time": "2020-08-26T19:10:52.857884",
     "exception": false,
     "start_time": "2020-08-26T19:10:52.830308",
     "status": "completed"
    },
    "tags": []
   },
   "outputs": [
    {
     "data": {
      "text/html": [
       "<div>\n",
       "<style scoped>\n",
       "    .dataframe tbody tr th:only-of-type {\n",
       "        vertical-align: middle;\n",
       "    }\n",
       "\n",
       "    .dataframe tbody tr th {\n",
       "        vertical-align: top;\n",
       "    }\n",
       "\n",
       "    .dataframe thead th {\n",
       "        text-align: right;\n",
       "    }\n",
       "</style>\n",
       "<table border=\"1\" class=\"dataframe\">\n",
       "  <thead>\n",
       "    <tr style=\"text-align: right;\">\n",
       "      <th></th>\n",
       "      <th>TT</th>\n",
       "      <th>AN</th>\n",
       "      <th>AP</th>\n",
       "      <th>AR</th>\n",
       "      <th>AS</th>\n",
       "      <th>BR</th>\n",
       "      <th>CH</th>\n",
       "      <th>CT</th>\n",
       "      <th>DN</th>\n",
       "      <th>DD</th>\n",
       "      <th>...</th>\n",
       "      <th>PB</th>\n",
       "      <th>RJ</th>\n",
       "      <th>SK</th>\n",
       "      <th>TN</th>\n",
       "      <th>TG</th>\n",
       "      <th>TR</th>\n",
       "      <th>UP</th>\n",
       "      <th>UT</th>\n",
       "      <th>WB</th>\n",
       "      <th>UN</th>\n",
       "    </tr>\n",
       "    <tr>\n",
       "      <th>Status</th>\n",
       "      <th></th>\n",
       "      <th></th>\n",
       "      <th></th>\n",
       "      <th></th>\n",
       "      <th></th>\n",
       "      <th></th>\n",
       "      <th></th>\n",
       "      <th></th>\n",
       "      <th></th>\n",
       "      <th></th>\n",
       "      <th></th>\n",
       "      <th></th>\n",
       "      <th></th>\n",
       "      <th></th>\n",
       "      <th></th>\n",
       "      <th></th>\n",
       "      <th></th>\n",
       "      <th></th>\n",
       "      <th></th>\n",
       "      <th></th>\n",
       "      <th></th>\n",
       "    </tr>\n",
       "  </thead>\n",
       "  <tbody>\n",
       "    <tr>\n",
       "      <th>Confirmed</th>\n",
       "      <td>3231104</td>\n",
       "      <td>2941</td>\n",
       "      <td>371639</td>\n",
       "      <td>3412</td>\n",
       "      <td>94491</td>\n",
       "      <td>124827</td>\n",
       "      <td>3209</td>\n",
       "      <td>23341</td>\n",
       "      <td>2200</td>\n",
       "      <td>0</td>\n",
       "      <td>...</td>\n",
       "      <td>44577</td>\n",
       "      <td>73325</td>\n",
       "      <td>1488</td>\n",
       "      <td>391303</td>\n",
       "      <td>108160</td>\n",
       "      <td>9210</td>\n",
       "      <td>197388</td>\n",
       "      <td>16014</td>\n",
       "      <td>144801</td>\n",
       "      <td>0</td>\n",
       "    </tr>\n",
       "    <tr>\n",
       "      <th>Deceased</th>\n",
       "      <td>59623</td>\n",
       "      <td>37</td>\n",
       "      <td>3460</td>\n",
       "      <td>5</td>\n",
       "      <td>264</td>\n",
       "      <td>644</td>\n",
       "      <td>40</td>\n",
       "      <td>221</td>\n",
       "      <td>2</td>\n",
       "      <td>0</td>\n",
       "      <td>...</td>\n",
       "      <td>1178</td>\n",
       "      <td>980</td>\n",
       "      <td>3</td>\n",
       "      <td>6721</td>\n",
       "      <td>770</td>\n",
       "      <td>79</td>\n",
       "      <td>3059</td>\n",
       "      <td>213</td>\n",
       "      <td>2909</td>\n",
       "      <td>0</td>\n",
       "    </tr>\n",
       "    <tr>\n",
       "      <th>Recovered</th>\n",
       "      <td>2467245</td>\n",
       "      <td>2222</td>\n",
       "      <td>278247</td>\n",
       "      <td>2508</td>\n",
       "      <td>74815</td>\n",
       "      <td>104531</td>\n",
       "      <td>1713</td>\n",
       "      <td>13732</td>\n",
       "      <td>1816</td>\n",
       "      <td>0</td>\n",
       "      <td>...</td>\n",
       "      <td>29145</td>\n",
       "      <td>58126</td>\n",
       "      <td>1055</td>\n",
       "      <td>332454</td>\n",
       "      <td>84163</td>\n",
       "      <td>6414</td>\n",
       "      <td>144754</td>\n",
       "      <td>11201</td>\n",
       "      <td>114543</td>\n",
       "      <td>0</td>\n",
       "    </tr>\n",
       "  </tbody>\n",
       "</table>\n",
       "<p>3 rows × 39 columns</p>\n",
       "</div>"
      ],
      "text/plain": [
       "                TT    AN      AP    AR     AS      BR    CH     CT    DN  DD  \\\n",
       "Status                                                                         \n",
       "Confirmed  3231104  2941  371639  3412  94491  124827  3209  23341  2200   0   \n",
       "Deceased     59623    37    3460     5    264     644    40    221     2   0   \n",
       "Recovered  2467245  2222  278247  2508  74815  104531  1713  13732  1816   0   \n",
       "\n",
       "           ...     PB     RJ    SK      TN      TG    TR      UP     UT  \\\n",
       "Status     ...                                                            \n",
       "Confirmed  ...  44577  73325  1488  391303  108160  9210  197388  16014   \n",
       "Deceased   ...   1178    980     3    6721     770    79    3059    213   \n",
       "Recovered  ...  29145  58126  1055  332454   84163  6414  144754  11201   \n",
       "\n",
       "               WB  UN  \n",
       "Status                 \n",
       "Confirmed  144801   0  \n",
       "Deceased     2909   0  \n",
       "Recovered  114543   0  \n",
       "\n",
       "[3 rows x 39 columns]"
      ]
     },
     "execution_count": 7,
     "metadata": {},
     "output_type": "execute_result"
    }
   ],
   "source": [
    "#hide\n",
    "df_yday.head()"
   ]
  },
  {
   "cell_type": "code",
   "execution_count": 8,
   "metadata": {
    "execution": {
     "iopub.execute_input": "2020-08-26T19:10:52.890301Z",
     "iopub.status.busy": "2020-08-26T19:10:52.889575Z",
     "iopub.status.idle": "2020-08-26T19:10:52.891765Z",
     "shell.execute_reply": "2020-08-26T19:10:52.892103Z"
    },
    "papermill": {
     "duration": 0.023874,
     "end_time": "2020-08-26T19:10:52.892199",
     "exception": false,
     "start_time": "2020-08-26T19:10:52.868325",
     "status": "completed"
    },
    "tags": []
   },
   "outputs": [
    {
     "data": {
      "text/plain": [
       "{'updated': '26-Aug-20',\n",
       " 'since': '25-Aug-20',\n",
       " 'Cases': 3307099,\n",
       " 'Deaths': 60640,\n",
       " 'Recovered': 2523436,\n",
       " 'PCases': 3231104,\n",
       " 'PDeaths': 59623,\n",
       " 'PRecovered': 2467245,\n",
       " 'Cases (+)': 75995,\n",
       " 'Deaths (+)': 1017,\n",
       " 'Recovered (+)': 56191}"
      ]
     },
     "execution_count": 8,
     "metadata": {},
     "output_type": "execute_result"
    }
   ],
   "source": [
    "#hide\n",
    "summary = {\n",
    "    'updated' : dt_today,\n",
    "    'since' : dt_yday,\n",
    "    'Cases' : df_today['TT'][0],\n",
    "    'Deaths' : df_today['TT'][1],\n",
    "    'Recovered' : df_today['TT'][2],\n",
    "    'PCases' : df_yday['TT'][0],\n",
    "    'PDeaths' : df_yday['TT'][1],\n",
    "    'PRecovered': df_yday['TT'][2],\n",
    "    'Cases (+)' : df_today['TT'][0] - df_yday['TT'][0],\n",
    "    'Deaths (+)' : df_today['TT'][1] - df_yday['TT'][1],\n",
    "    'Recovered (+)': df_today['TT'][2] - df_yday['TT'][2]\n",
    "}\n",
    "\n",
    "summary"
   ]
  },
  {
   "cell_type": "code",
   "execution_count": 9,
   "metadata": {
    "execution": {
     "iopub.execute_input": "2020-08-26T19:10:52.919031Z",
     "iopub.status.busy": "2020-08-26T19:10:52.918436Z",
     "iopub.status.idle": "2020-08-26T19:10:52.920794Z",
     "shell.execute_reply": "2020-08-26T19:10:52.920373Z"
    },
    "papermill": {
     "duration": 0.017964,
     "end_time": "2020-08-26T19:10:52.920895",
     "exception": false,
     "start_time": "2020-08-26T19:10:52.902931",
     "status": "completed"
    },
    "tags": []
   },
   "outputs": [],
   "source": [
    "#hide\n",
    "overview = '''\n",
    "<!-- #######  HTML!! #########-->\n",
    "<h1 style=\"color: #5e9ca0; text-align: center;\">India</h1>\n",
    "<p style=\"text-align: center;\">Last update: <strong>{update}</strong></p>\n",
    "<p style=\"text-align: center;\">Confirmed cases:</p>\n",
    "<p style=\"text-align: center;font-size:24px;\">{cases} (<span style=\"color: #ff0000;\">+{new}</span>)</p>\n",
    "<p style=\"text-align: center;\">Confirmed deaths:</p>\n",
    "<p style=\"text-align: center;font-size:24px;\">{deaths} (<span style=\"color: #ff0000;\">+{dnew}</span>)</p>\n",
    "<p style=\"text-align: center;\">Recovered cases:</p>\n",
    "<p style=\"text-align: center;font-size:24px;\">{recovered} (<span style=\"color: #00ff00;\">+{rnew}</span>)</p>\n",
    "'''"
   ]
  },
  {
   "cell_type": "code",
   "execution_count": 10,
   "metadata": {
    "execution": {
     "iopub.execute_input": "2020-08-26T19:10:52.948336Z",
     "iopub.status.busy": "2020-08-26T19:10:52.947753Z",
     "iopub.status.idle": "2020-08-26T19:10:52.950149Z",
     "shell.execute_reply": "2020-08-26T19:10:52.950601Z"
    },
    "papermill": {
     "duration": 0.018898,
     "end_time": "2020-08-26T19:10:52.950719",
     "exception": false,
     "start_time": "2020-08-26T19:10:52.931821",
     "status": "completed"
    },
    "tags": []
   },
   "outputs": [
    {
     "data": {
      "text/html": [
       "\n",
       "<!-- #######  HTML!! #########-->\n",
       "<h1 style=\"color: #5e9ca0; text-align: center;\">India</h1>\n",
       "<p style=\"text-align: center;\">Last update: <strong>26-Aug-20</strong></p>\n",
       "<p style=\"text-align: center;\">Confirmed cases:</p>\n",
       "<p style=\"text-align: center;font-size:24px;\">3307099 (<span style=\"color: #ff0000;\">+75995</span>)</p>\n",
       "<p style=\"text-align: center;\">Confirmed deaths:</p>\n",
       "<p style=\"text-align: center;font-size:24px;\">60640 (<span style=\"color: #ff0000;\">+1017</span>)</p>\n",
       "<p style=\"text-align: center;\">Recovered cases:</p>\n",
       "<p style=\"text-align: center;font-size:24px;\">2523436 (<span style=\"color: #00ff00;\">+56191</span>)</p>\n"
      ],
      "text/plain": [
       "<IPython.core.display.HTML object>"
      ]
     },
     "metadata": {},
     "output_type": "display_data"
    }
   ],
   "source": [
    "#hide_input\n",
    "# Fill the above HTML with the information from the summary dictionary\n",
    "\n",
    "update = summary['updated']\n",
    "cases = summary['Cases']\n",
    "new = summary['Cases (+)']\n",
    "deaths = summary['Deaths']\n",
    "dnew = summary['Deaths (+)']\n",
    "recovered = summary['Recovered']\n",
    "rnew = summary['Recovered (+)']\n",
    "\n",
    "html = HTML(overview.format(update=update, cases=cases,new=new,deaths=deaths,dnew=dnew, recovered=recovered, rnew=rnew))\n",
    "\n",
    "display(html)"
   ]
  },
  {
   "cell_type": "code",
   "execution_count": 11,
   "metadata": {
    "execution": {
     "iopub.execute_input": "2020-08-26T19:10:52.981670Z",
     "iopub.status.busy": "2020-08-26T19:10:52.981118Z",
     "iopub.status.idle": "2020-08-26T19:10:52.985855Z",
     "shell.execute_reply": "2020-08-26T19:10:52.985497Z"
    },
    "papermill": {
     "duration": 0.024311,
     "end_time": "2020-08-26T19:10:52.985938",
     "exception": false,
     "start_time": "2020-08-26T19:10:52.961627",
     "status": "completed"
    },
    "tags": []
   },
   "outputs": [],
   "source": [
    "#hide\n",
    "df_cases = df[df['Status'] == 'Confirmed'].copy()\n",
    "df_cases.drop(columns = ['Status'], inplace=True)\n",
    "df_deaths = df[df['Status'] == 'Deceased'].copy()\n",
    "df_deaths.drop(columns = ['Status'], inplace=True)\n",
    "df_recovered = df[df['Status'] == 'Recovered'].copy()\n",
    "df_recovered.drop(columns = ['Status'], inplace=True)"
   ]
  },
  {
   "cell_type": "markdown",
   "metadata": {
    "papermill": {
     "duration": 0.010872,
     "end_time": "2020-08-26T19:10:53.007646",
     "exception": false,
     "start_time": "2020-08-26T19:10:52.996774",
     "status": "completed"
    },
    "tags": []
   },
   "source": [
    "Plot for India:"
   ]
  },
  {
   "cell_type": "code",
   "execution_count": 12,
   "metadata": {
    "execution": {
     "iopub.execute_input": "2020-08-26T19:10:53.047018Z",
     "iopub.status.busy": "2020-08-26T19:10:53.046490Z",
     "iopub.status.idle": "2020-08-26T19:10:53.242500Z",
     "shell.execute_reply": "2020-08-26T19:10:53.243576Z"
    },
    "papermill": {
     "duration": 0.225083,
     "end_time": "2020-08-26T19:10:53.243798",
     "exception": false,
     "start_time": "2020-08-26T19:10:53.018715",
     "status": "completed"
    },
    "tags": []
   },
   "outputs": [
    {
     "data": {
      "image/png": "[encoded data removed]",
      "text/plain": [
       "<Figure size 1296x432 with 1 Axes>"
      ]
     },
     "metadata": {
      "needs_background": "light"
     },
     "output_type": "display_data"
    }
   ],
   "source": [
    "#hide_input\n",
    "plt.figure(figsize = (18,6))\n",
    "plt.plot(df_cases['Date'], df_cases['TT'],'.-', alpha=0.7, color='b', label='Confirmed cases')\n",
    "plt.plot(df_recovered['Date'], df_recovered['TT'],'.-', alpha=0.7, color='g', label='Recovered')\n",
    "plt.plot(df_deaths['Date'], df_deaths['TT'],'.-', alpha=0.7, color='r', label='Deceased')\n",
    "plt.legend()\n",
    "plt.title(\"Cases per day in India\")\n",
    "plt.xticks(ticks=' ')\n",
    "plt.xlabel(f'{df_cases.iloc[0][0]} to {df_cases.iloc[-1][0]}')\n",
    "plt.ylabel('No. of cases');"
   ]
  },
  {
   "cell_type": "markdown",
   "metadata": {
    "papermill": {
     "duration": 0.012581,
     "end_time": "2020-08-26T19:10:53.270190",
     "exception": false,
     "start_time": "2020-08-26T19:10:53.257609",
     "status": "completed"
    },
    "tags": []
   },
   "source": [
    "Plots for the states with highest number of cases:"
   ]
  },
  {
   "cell_type": "code",
   "execution_count": 13,
   "metadata": {
    "execution": {
     "iopub.execute_input": "2020-08-26T19:10:53.342573Z",
     "iopub.status.busy": "2020-08-26T19:10:53.301960Z",
     "iopub.status.idle": "2020-08-26T19:10:53.723507Z",
     "shell.execute_reply": "2020-08-26T19:10:53.722975Z"
    },
    "papermill": {
     "duration": 0.440801,
     "end_time": "2020-08-26T19:10:53.723703",
     "exception": false,
     "start_time": "2020-08-26T19:10:53.282902",
     "status": "completed"
    },
    "tags": []
   },
   "outputs": [
    {
     "data": {
      "image/png": "[encoded data removed]",
      "text/plain": [
       "<Figure size 1512x432 with 3 Axes>"
      ]
     },
     "metadata": {
      "needs_background": "light"
     },
     "output_type": "display_data"
    }
   ],
   "source": [
    "#hide_input\n",
    "top_3 = sorted(df_cases.sum().values[1:], reverse=True)[1:4]\n",
    "top3_states=[]\n",
    "for i in top_3:\n",
    "    top3_states.append(df_cases.sum()[df_cases.sum() == i].index)\n",
    "\n",
    "\n",
    "fig, ax = plt.subplots(1,3,figsize = (21,6))\n",
    "for i in range(3):\n",
    "    state = top3_states[i].values[0]\n",
    "    ax[i].plot(df_cases['Date'], df_cases[state],'.-', color='b', alpha=0.7)\n",
    "    ax[i].plot(df_deaths['Date'], df_deaths[state],'.-', color='r', alpha=0.7)\n",
    "    ax[i].plot(df_recovered['Date'], df_recovered[state],'.-', color='g', alpha=0.7)\n",
    "    \n",
    "    ax[i].set_title(f\"Cases in {state}\")\n",
    "    ax[i].set_xticks(ticks=' ')\n",
    "    ax[i].set_xlabel(f'{df_cases.iloc[0][0]} to {df_cases.iloc[-1][0]}')\n",
    "    ax[i].set_ylabel('No. of cases');"
   ]
  },
  {
   "cell_type": "code",
   "execution_count": null,
   "metadata": {
    "papermill": {
     "duration": 0.015654,
     "end_time": "2020-08-26T19:10:53.754455",
     "exception": false,
     "start_time": "2020-08-26T19:10:53.738801",
     "status": "completed"
    },
    "tags": []
   },
   "outputs": [],
   "source": []
  },
  {
   "cell_type": "code",
   "execution_count": null,
   "metadata": {
    "papermill": {
     "duration": 0.01657,
     "end_time": "2020-08-26T19:10:53.787277",
     "exception": false,
     "start_time": "2020-08-26T19:10:53.770707",
     "status": "completed"
    },
    "tags": []
   },
   "outputs": [],
   "source": []
  },
  {
   "cell_type": "code",
   "execution_count": null,
   "metadata": {
    "papermill": {
     "duration": 0.014553,
     "end_time": "2020-08-26T19:10:53.817288",
     "exception": false,
     "start_time": "2020-08-26T19:10:53.802735",
     "status": "completed"
    },
    "tags": []
   },
   "outputs": [],
   "source": []
  }
 ],
 "metadata": {
  "kernelspec": {
   "display_name": "Python 3",
   "language": "python",
   "name": "python3"
  },
  "language_info": {
   "codemirror_mode": {
    "name": "ipython",
    "version": 3
   },
   "file_extension": ".py",
   "mimetype": "text/x-python",
   "name": "python",
   "nbconvert_exporter": "python",
   "pygments_lexer": "ipython3",
   "version": "3.6.11"
  },
  "papermill": {
   "duration": 3.04397,
   "end_time": "2020-08-26T19:10:54.138886",
   "environment_variables": {},
   "exception": null,
   "input_path": "2020-08-09-DailyUpdate.ipynb",
   "output_path": "2020-08-09-DailyUpdate.ipynb",
   "parameters": {},
   "start_time": "2020-08-26T19:10:51.094916",
   "version": "2.1.2"
  }
 },
 "nbformat": 4,
 "nbformat_minor": 4
}