{
 "cells": [
  {
   "cell_type": "markdown",
   "metadata": {
    "papermill": {
     "duration": 0.014168,
     "end_time": "2020-09-22T19:12:37.038736",
     "exception": false,
     "start_time": "2020-09-22T19:12:37.024568",
     "status": "completed"
    },
    "tags": []
   },
   "source": [
    "# COVID-19 India Daily updates\n",
    "> Tracking coronavirus total cases, deaths and new cases in India on a daily basis\n",
    "\n",
    "- author: Vaibhav Mahapatra"
   ]
  },
  {
   "cell_type": "code",
   "execution_count": 1,
   "metadata": {
    "execution": {
     "iopub.execute_input": "2020-09-22T19:12:37.067017Z",
     "iopub.status.busy": "2020-09-22T19:12:37.066398Z",
     "iopub.status.idle": "2020-09-22T19:12:37.590734Z",
     "shell.execute_reply": "2020-09-22T19:12:37.589792Z"
    },
    "papermill": {
     "duration": 0.541004,
     "end_time": "2020-09-22T19:12:37.590884",
     "exception": false,
     "start_time": "2020-09-22T19:12:37.049880",
     "status": "completed"
    },
    "tags": []
   },
   "outputs": [],
   "source": [
    "#hide\n",
    "\n",
    "## Import essential packages below\n",
    "\n",
    "import pandas as pd\n",
    "import numpy as np\n",
    "import requests\n",
    "import json\n",
    "import matplotlib.pyplot as plt\n",
    "import matplotlib.dates as mdates\n",
    "import matplotlib as mpl\n",
    "from IPython.core.display import display,HTML\n",
    "%matplotlib inline"
   ]
  },
  {
   "cell_type": "code",
   "execution_count": 2,
   "metadata": {
    "execution": {
     "iopub.execute_input": "2020-09-22T19:12:37.618200Z",
     "iopub.status.busy": "2020-09-22T19:12:37.617291Z",
     "iopub.status.idle": "2020-09-22T19:12:37.802190Z",
     "shell.execute_reply": "2020-09-22T19:12:37.802887Z"
    },
    "papermill": {
     "duration": 0.201387,
     "end_time": "2020-09-22T19:12:37.803034",
     "exception": false,
     "start_time": "2020-09-22T19:12:37.601647",
     "status": "completed"
    },
    "tags": []
   },
   "outputs": [
    {
     "data": {
      "text/plain": [
       "(579, 41)"
      ]
     },
     "execution_count": 2,
     "metadata": {},
     "output_type": "execute_result"
    }
   ],
   "source": [
    "#hide\n",
    "url = 'https://api.covid19india.org/csv/latest/state_wise_daily.csv'\n",
    "df = pd.read_csv(url)\n",
    "df.shape"
   ]
  },
  {
   "cell_type": "code",
   "execution_count": 3,
   "metadata": {
    "execution": {
     "iopub.execute_input": "2020-09-22T19:12:37.882669Z",
     "iopub.status.busy": "2020-09-22T19:12:37.881378Z",
     "iopub.status.idle": "2020-09-22T19:12:37.891440Z",
     "shell.execute_reply": "2020-09-22T19:12:37.891849Z"
    },
    "papermill": {
     "duration": 0.077629,
     "end_time": "2020-09-22T19:12:37.891995",
     "exception": false,
     "start_time": "2020-09-22T19:12:37.814366",
     "status": "completed"
    },
    "tags": []
   },
   "outputs": [
    {
     "data": {
      "text/html": [
       "<div>\n",
       "<style scoped>\n",
       "    .dataframe tbody tr th:only-of-type {\n",
       "        vertical-align: middle;\n",
       "    }\n",
       "\n",
       "    .dataframe tbody tr th {\n",
       "        vertical-align: top;\n",
       "    }\n",
       "\n",
       "    .dataframe thead th {\n",
       "        text-align: right;\n",
       "    }\n",
       "</style>\n",
       "<table border=\"1\" class=\"dataframe\">\n",
       "  <thead>\n",
       "    <tr style=\"text-align: right;\">\n",
       "      <th></th>\n",
       "      <th>Date</th>\n",
       "      <th>Status</th>\n",
       "      <th>TT</th>\n",
       "      <th>AN</th>\n",
       "      <th>AP</th>\n",
       "      <th>AR</th>\n",
       "      <th>AS</th>\n",
       "      <th>BR</th>\n",
       "      <th>CH</th>\n",
       "      <th>CT</th>\n",
       "      <th>...</th>\n",
       "      <th>PB</th>\n",
       "      <th>RJ</th>\n",
       "      <th>SK</th>\n",
       "      <th>TN</th>\n",
       "      <th>TG</th>\n",
       "      <th>TR</th>\n",
       "      <th>UP</th>\n",
       "      <th>UT</th>\n",
       "      <th>WB</th>\n",
       "      <th>UN</th>\n",
       "    </tr>\n",
       "  </thead>\n",
       "  <tbody>\n",
       "    <tr>\n",
       "      <th>573</th>\n",
       "      <td>21-Sep-20</td>\n",
       "      <td>Confirmed</td>\n",
       "      <td>71214</td>\n",
       "      <td>0</td>\n",
       "      <td>6235</td>\n",
       "      <td>210</td>\n",
       "      <td>0</td>\n",
       "      <td>1314</td>\n",
       "      <td>0</td>\n",
       "      <td>1998</td>\n",
       "      <td>...</td>\n",
       "      <td>2241</td>\n",
       "      <td>1892</td>\n",
       "      <td>56</td>\n",
       "      <td>5344</td>\n",
       "      <td>1302</td>\n",
       "      <td>243</td>\n",
       "      <td>4618</td>\n",
       "      <td>814</td>\n",
       "      <td>3165</td>\n",
       "      <td>0</td>\n",
       "    </tr>\n",
       "    <tr>\n",
       "      <th>574</th>\n",
       "      <td>21-Sep-20</td>\n",
       "      <td>Recovered</td>\n",
       "      <td>99696</td>\n",
       "      <td>0</td>\n",
       "      <td>10502</td>\n",
       "      <td>235</td>\n",
       "      <td>0</td>\n",
       "      <td>1381</td>\n",
       "      <td>0</td>\n",
       "      <td>1911</td>\n",
       "      <td>...</td>\n",
       "      <td>2811</td>\n",
       "      <td>1815</td>\n",
       "      <td>11</td>\n",
       "      <td>5492</td>\n",
       "      <td>2230</td>\n",
       "      <td>654</td>\n",
       "      <td>6320</td>\n",
       "      <td>1172</td>\n",
       "      <td>3011</td>\n",
       "      <td>0</td>\n",
       "    </tr>\n",
       "    <tr>\n",
       "      <th>575</th>\n",
       "      <td>21-Sep-20</td>\n",
       "      <td>Deceased</td>\n",
       "      <td>1030</td>\n",
       "      <td>0</td>\n",
       "      <td>51</td>\n",
       "      <td>0</td>\n",
       "      <td>0</td>\n",
       "      <td>6</td>\n",
       "      <td>0</td>\n",
       "      <td>13</td>\n",
       "      <td>...</td>\n",
       "      <td>47</td>\n",
       "      <td>16</td>\n",
       "      <td>0</td>\n",
       "      <td>60</td>\n",
       "      <td>9</td>\n",
       "      <td>6</td>\n",
       "      <td>88</td>\n",
       "      <td>10</td>\n",
       "      <td>62</td>\n",
       "      <td>0</td>\n",
       "    </tr>\n",
       "    <tr>\n",
       "      <th>576</th>\n",
       "      <td>22-Sep-20</td>\n",
       "      <td>Confirmed</td>\n",
       "      <td>78103</td>\n",
       "      <td>18</td>\n",
       "      <td>7553</td>\n",
       "      <td>0</td>\n",
       "      <td>2073</td>\n",
       "      <td>1609</td>\n",
       "      <td>248</td>\n",
       "      <td>0</td>\n",
       "      <td>...</td>\n",
       "      <td>1411</td>\n",
       "      <td>1912</td>\n",
       "      <td>66</td>\n",
       "      <td>5337</td>\n",
       "      <td>0</td>\n",
       "      <td>559</td>\n",
       "      <td>5650</td>\n",
       "      <td>874</td>\n",
       "      <td>3182</td>\n",
       "      <td>0</td>\n",
       "    </tr>\n",
       "    <tr>\n",
       "      <th>577</th>\n",
       "      <td>22-Sep-20</td>\n",
       "      <td>Recovered</td>\n",
       "      <td>84938</td>\n",
       "      <td>10</td>\n",
       "      <td>10555</td>\n",
       "      <td>0</td>\n",
       "      <td>1817</td>\n",
       "      <td>1232</td>\n",
       "      <td>383</td>\n",
       "      <td>0</td>\n",
       "      <td>...</td>\n",
       "      <td>1718</td>\n",
       "      <td>1528</td>\n",
       "      <td>23</td>\n",
       "      <td>5406</td>\n",
       "      <td>0</td>\n",
       "      <td>419</td>\n",
       "      <td>6589</td>\n",
       "      <td>1107</td>\n",
       "      <td>3047</td>\n",
       "      <td>0</td>\n",
       "    </tr>\n",
       "    <tr>\n",
       "      <th>578</th>\n",
       "      <td>22-Sep-20</td>\n",
       "      <td>Deceased</td>\n",
       "      <td>1046</td>\n",
       "      <td>0</td>\n",
       "      <td>51</td>\n",
       "      <td>0</td>\n",
       "      <td>8</td>\n",
       "      <td>3</td>\n",
       "      <td>4</td>\n",
       "      <td>0</td>\n",
       "      <td>...</td>\n",
       "      <td>66</td>\n",
       "      <td>15</td>\n",
       "      <td>0</td>\n",
       "      <td>76</td>\n",
       "      <td>0</td>\n",
       "      <td>3</td>\n",
       "      <td>77</td>\n",
       "      <td>11</td>\n",
       "      <td>62</td>\n",
       "      <td>0</td>\n",
       "    </tr>\n",
       "  </tbody>\n",
       "</table>\n",
       "<p>6 rows × 41 columns</p>\n",
       "</div>"
      ],
      "text/plain": [
       "          Date     Status     TT  AN     AP   AR    AS    BR   CH    CT  ...  \\\n",
       "573  21-Sep-20  Confirmed  71214   0   6235  210     0  1314    0  1998  ...   \n",
       "574  21-Sep-20  Recovered  99696   0  10502  235     0  1381    0  1911  ...   \n",
       "575  21-Sep-20   Deceased   1030   0     51    0     0     6    0    13  ...   \n",
       "576  22-Sep-20  Confirmed  78103  18   7553    0  2073  1609  248     0  ...   \n",
       "577  22-Sep-20  Recovered  84938  10  10555    0  1817  1232  383     0  ...   \n",
       "578  22-Sep-20   Deceased   1046   0     51    0     8     3    4     0  ...   \n",
       "\n",
       "       PB    RJ  SK    TN    TG   TR    UP    UT    WB  UN  \n",
       "573  2241  1892  56  5344  1302  243  4618   814  3165   0  \n",
       "574  2811  1815  11  5492  2230  654  6320  1172  3011   0  \n",
       "575    47    16   0    60     9    6    88    10    62   0  \n",
       "576  1411  1912  66  5337     0  559  5650   874  3182   0  \n",
       "577  1718  1528  23  5406     0  419  6589  1107  3047   0  \n",
       "578    66    15   0    76     0    3    77    11    62   0  \n",
       "\n",
       "[6 rows x 41 columns]"
      ]
     },
     "execution_count": 3,
     "metadata": {},
     "output_type": "execute_result"
    }
   ],
   "source": [
    "#hide\n",
    "df.tail(6)"
   ]
  },
  {
   "cell_type": "code",
   "execution_count": 4,
   "metadata": {
    "execution": {
     "iopub.execute_input": "2020-09-22T19:12:37.919879Z",
     "iopub.status.busy": "2020-09-22T19:12:37.919286Z",
     "iopub.status.idle": "2020-09-22T19:12:37.921475Z",
     "shell.execute_reply": "2020-09-22T19:12:37.921973Z"
    },
    "papermill": {
     "duration": 0.018917,
     "end_time": "2020-09-22T19:12:37.922115",
     "exception": false,
     "start_time": "2020-09-22T19:12:37.903198",
     "status": "completed"
    },
    "tags": []
   },
   "outputs": [
    {
     "data": {
      "text/plain": [
       "('22-Sep-20', '21-Sep-20')"
      ]
     },
     "execution_count": 4,
     "metadata": {},
     "output_type": "execute_result"
    }
   ],
   "source": [
    "#hide\n",
    "dt_today = df.iloc[-1][0]\n",
    "dt_yday = df.iloc[-4][0]\n",
    "dt_today, dt_yday"
   ]
  },
  {
   "cell_type": "code",
   "execution_count": 5,
   "metadata": {
    "execution": {
     "iopub.execute_input": "2020-09-22T19:12:37.951250Z",
     "iopub.status.busy": "2020-09-22T19:12:37.950745Z",
     "iopub.status.idle": "2020-09-22T19:12:37.956835Z",
     "shell.execute_reply": "2020-09-22T19:12:37.957321Z"
    },
    "papermill": {
     "duration": 0.023692,
     "end_time": "2020-09-22T19:12:37.957480",
     "exception": false,
     "start_time": "2020-09-22T19:12:37.933788",
     "status": "completed"
    },
    "tags": []
   },
   "outputs": [],
   "source": [
    "#hide\n",
    "df_today = df.groupby('Status').sum()\n",
    "df_yday = df.iloc[:-3][:].groupby('Status').sum()"
   ]
  },
  {
   "cell_type": "code",
   "execution_count": 6,
   "metadata": {
    "execution": {
     "iopub.execute_input": "2020-09-22T19:12:37.994713Z",
     "iopub.status.busy": "2020-09-22T19:12:37.994189Z",
     "iopub.status.idle": "2020-09-22T19:12:37.996501Z",
     "shell.execute_reply": "2020-09-22T19:12:37.996931Z"
    },
    "papermill": {
     "duration": 0.028155,
     "end_time": "2020-09-22T19:12:37.997069",
     "exception": false,
     "start_time": "2020-09-22T19:12:37.968914",
     "status": "completed"
    },
    "tags": []
   },
   "outputs": [
    {
     "data": {
      "text/html": [
       "<div>\n",
       "<style scoped>\n",
       "    .dataframe tbody tr th:only-of-type {\n",
       "        vertical-align: middle;\n",
       "    }\n",
       "\n",
       "    .dataframe tbody tr th {\n",
       "        vertical-align: top;\n",
       "    }\n",
       "\n",
       "    .dataframe thead th {\n",
       "        text-align: right;\n",
       "    }\n",
       "</style>\n",
       "<table border=\"1\" class=\"dataframe\">\n",
       "  <thead>\n",
       "    <tr style=\"text-align: right;\">\n",
       "      <th></th>\n",
       "      <th>TT</th>\n",
       "      <th>AN</th>\n",
       "      <th>AP</th>\n",
       "      <th>AR</th>\n",
       "      <th>AS</th>\n",
       "      <th>BR</th>\n",
       "      <th>CH</th>\n",
       "      <th>CT</th>\n",
       "      <th>DN</th>\n",
       "      <th>DD</th>\n",
       "      <th>...</th>\n",
       "      <th>PB</th>\n",
       "      <th>RJ</th>\n",
       "      <th>SK</th>\n",
       "      <th>TN</th>\n",
       "      <th>TG</th>\n",
       "      <th>TR</th>\n",
       "      <th>UP</th>\n",
       "      <th>UT</th>\n",
       "      <th>WB</th>\n",
       "      <th>UN</th>\n",
       "    </tr>\n",
       "    <tr>\n",
       "      <th>Status</th>\n",
       "      <th></th>\n",
       "      <th></th>\n",
       "      <th></th>\n",
       "      <th></th>\n",
       "      <th></th>\n",
       "      <th></th>\n",
       "      <th></th>\n",
       "      <th></th>\n",
       "      <th></th>\n",
       "      <th></th>\n",
       "      <th></th>\n",
       "      <th></th>\n",
       "      <th></th>\n",
       "      <th></th>\n",
       "      <th></th>\n",
       "      <th></th>\n",
       "      <th></th>\n",
       "      <th></th>\n",
       "      <th></th>\n",
       "      <th></th>\n",
       "      <th></th>\n",
       "    </tr>\n",
       "  </thead>\n",
       "  <tbody>\n",
       "    <tr>\n",
       "      <th>Confirmed</th>\n",
       "      <td>5630212</td>\n",
       "      <td>3665</td>\n",
       "      <td>639302</td>\n",
       "      <td>7595</td>\n",
       "      <td>158651</td>\n",
       "      <td>171465</td>\n",
       "      <td>10044</td>\n",
       "      <td>88181</td>\n",
       "      <td>2943</td>\n",
       "      <td>0</td>\n",
       "      <td>...</td>\n",
       "      <td>101341</td>\n",
       "      <td>118793</td>\n",
       "      <td>2526</td>\n",
       "      <td>552674</td>\n",
       "      <td>172098</td>\n",
       "      <td>22831</td>\n",
       "      <td>364543</td>\n",
       "      <td>42651</td>\n",
       "      <td>231484</td>\n",
       "      <td>0</td>\n",
       "    </tr>\n",
       "    <tr>\n",
       "      <th>Deceased</th>\n",
       "      <td>89359</td>\n",
       "      <td>52</td>\n",
       "      <td>5461</td>\n",
       "      <td>13</td>\n",
       "      <td>574</td>\n",
       "      <td>873</td>\n",
       "      <td>120</td>\n",
       "      <td>690</td>\n",
       "      <td>2</td>\n",
       "      <td>0</td>\n",
       "      <td>...</td>\n",
       "      <td>2926</td>\n",
       "      <td>1367</td>\n",
       "      <td>29</td>\n",
       "      <td>8947</td>\n",
       "      <td>1042</td>\n",
       "      <td>248</td>\n",
       "      <td>5212</td>\n",
       "      <td>512</td>\n",
       "      <td>4483</td>\n",
       "      <td>0</td>\n",
       "    </tr>\n",
       "    <tr>\n",
       "      <th>Recovered</th>\n",
       "      <td>4573176</td>\n",
       "      <td>3452</td>\n",
       "      <td>562376</td>\n",
       "      <td>5643</td>\n",
       "      <td>129152</td>\n",
       "      <td>157056</td>\n",
       "      <td>7149</td>\n",
       "      <td>49564</td>\n",
       "      <td>2710</td>\n",
       "      <td>0</td>\n",
       "      <td>...</td>\n",
       "      <td>77127</td>\n",
       "      <td>98812</td>\n",
       "      <td>1929</td>\n",
       "      <td>497377</td>\n",
       "      <td>141930</td>\n",
       "      <td>15860</td>\n",
       "      <td>296183</td>\n",
       "      <td>30107</td>\n",
       "      <td>202030</td>\n",
       "      <td>0</td>\n",
       "    </tr>\n",
       "  </tbody>\n",
       "</table>\n",
       "<p>3 rows × 39 columns</p>\n",
       "</div>"
      ],
      "text/plain": [
       "                TT    AN      AP    AR      AS      BR     CH     CT    DN  \\\n",
       "Status                                                                       \n",
       "Confirmed  5630212  3665  639302  7595  158651  171465  10044  88181  2943   \n",
       "Deceased     89359    52    5461    13     574     873    120    690     2   \n",
       "Recovered  4573176  3452  562376  5643  129152  157056   7149  49564  2710   \n",
       "\n",
       "           DD  ...      PB      RJ    SK      TN      TG     TR      UP  \\\n",
       "Status         ...                                                        \n",
       "Confirmed   0  ...  101341  118793  2526  552674  172098  22831  364543   \n",
       "Deceased    0  ...    2926    1367    29    8947    1042    248    5212   \n",
       "Recovered   0  ...   77127   98812  1929  497377  141930  15860  296183   \n",
       "\n",
       "              UT      WB  UN  \n",
       "Status                        \n",
       "Confirmed  42651  231484   0  \n",
       "Deceased     512    4483   0  \n",
       "Recovered  30107  202030   0  \n",
       "\n",
       "[3 rows x 39 columns]"
      ]
     },
     "execution_count": 6,
     "metadata": {},
     "output_type": "execute_result"
    }
   ],
   "source": [
    "#hide\n",
    "df_today"
   ]
  },
  {
   "cell_type": "code",
   "execution_count": 7,
   "metadata": {
    "execution": {
     "iopub.execute_input": "2020-09-22T19:12:38.035370Z",
     "iopub.status.busy": "2020-09-22T19:12:38.034832Z",
     "iopub.status.idle": "2020-09-22T19:12:38.037076Z",
     "shell.execute_reply": "2020-09-22T19:12:38.037573Z"
    },
    "papermill": {
     "duration": 0.028842,
     "end_time": "2020-09-22T19:12:38.037720",
     "exception": false,
     "start_time": "2020-09-22T19:12:38.008878",
     "status": "completed"
    },
    "tags": []
   },
   "outputs": [
    {
     "data": {
      "text/html": [
       "<div>\n",
       "<style scoped>\n",
       "    .dataframe tbody tr th:only-of-type {\n",
       "        vertical-align: middle;\n",
       "    }\n",
       "\n",
       "    .dataframe tbody tr th {\n",
       "        vertical-align: top;\n",
       "    }\n",
       "\n",
       "    .dataframe thead th {\n",
       "        text-align: right;\n",
       "    }\n",
       "</style>\n",
       "<table border=\"1\" class=\"dataframe\">\n",
       "  <thead>\n",
       "    <tr style=\"text-align: right;\">\n",
       "      <th></th>\n",
       "      <th>TT</th>\n",
       "      <th>AN</th>\n",
       "      <th>AP</th>\n",
       "      <th>AR</th>\n",
       "      <th>AS</th>\n",
       "      <th>BR</th>\n",
       "      <th>CH</th>\n",
       "      <th>CT</th>\n",
       "      <th>DN</th>\n",
       "      <th>DD</th>\n",
       "      <th>...</th>\n",
       "      <th>PB</th>\n",
       "      <th>RJ</th>\n",
       "      <th>SK</th>\n",
       "      <th>TN</th>\n",
       "      <th>TG</th>\n",
       "      <th>TR</th>\n",
       "      <th>UP</th>\n",
       "      <th>UT</th>\n",
       "      <th>WB</th>\n",
       "      <th>UN</th>\n",
       "    </tr>\n",
       "    <tr>\n",
       "      <th>Status</th>\n",
       "      <th></th>\n",
       "      <th></th>\n",
       "      <th></th>\n",
       "      <th></th>\n",
       "      <th></th>\n",
       "      <th></th>\n",
       "      <th></th>\n",
       "      <th></th>\n",
       "      <th></th>\n",
       "      <th></th>\n",
       "      <th></th>\n",
       "      <th></th>\n",
       "      <th></th>\n",
       "      <th></th>\n",
       "      <th></th>\n",
       "      <th></th>\n",
       "      <th></th>\n",
       "      <th></th>\n",
       "      <th></th>\n",
       "      <th></th>\n",
       "      <th></th>\n",
       "    </tr>\n",
       "  </thead>\n",
       "  <tbody>\n",
       "    <tr>\n",
       "      <th>Confirmed</th>\n",
       "      <td>5552109</td>\n",
       "      <td>3647</td>\n",
       "      <td>631749</td>\n",
       "      <td>7595</td>\n",
       "      <td>156578</td>\n",
       "      <td>169856</td>\n",
       "      <td>9796</td>\n",
       "      <td>88181</td>\n",
       "      <td>2933</td>\n",
       "      <td>0</td>\n",
       "      <td>...</td>\n",
       "      <td>99930</td>\n",
       "      <td>116881</td>\n",
       "      <td>2460</td>\n",
       "      <td>547337</td>\n",
       "      <td>172098</td>\n",
       "      <td>22272</td>\n",
       "      <td>358893</td>\n",
       "      <td>41777</td>\n",
       "      <td>228302</td>\n",
       "      <td>0</td>\n",
       "    </tr>\n",
       "    <tr>\n",
       "      <th>Deceased</th>\n",
       "      <td>88313</td>\n",
       "      <td>52</td>\n",
       "      <td>5410</td>\n",
       "      <td>13</td>\n",
       "      <td>566</td>\n",
       "      <td>870</td>\n",
       "      <td>116</td>\n",
       "      <td>690</td>\n",
       "      <td>2</td>\n",
       "      <td>0</td>\n",
       "      <td>...</td>\n",
       "      <td>2860</td>\n",
       "      <td>1352</td>\n",
       "      <td>29</td>\n",
       "      <td>8871</td>\n",
       "      <td>1042</td>\n",
       "      <td>245</td>\n",
       "      <td>5135</td>\n",
       "      <td>501</td>\n",
       "      <td>4421</td>\n",
       "      <td>0</td>\n",
       "    </tr>\n",
       "    <tr>\n",
       "      <th>Recovered</th>\n",
       "      <td>4488238</td>\n",
       "      <td>3442</td>\n",
       "      <td>551821</td>\n",
       "      <td>5643</td>\n",
       "      <td>127335</td>\n",
       "      <td>155824</td>\n",
       "      <td>6766</td>\n",
       "      <td>49564</td>\n",
       "      <td>2684</td>\n",
       "      <td>0</td>\n",
       "      <td>...</td>\n",
       "      <td>75409</td>\n",
       "      <td>97284</td>\n",
       "      <td>1906</td>\n",
       "      <td>491971</td>\n",
       "      <td>141930</td>\n",
       "      <td>15441</td>\n",
       "      <td>289594</td>\n",
       "      <td>29000</td>\n",
       "      <td>198983</td>\n",
       "      <td>0</td>\n",
       "    </tr>\n",
       "  </tbody>\n",
       "</table>\n",
       "<p>3 rows × 39 columns</p>\n",
       "</div>"
      ],
      "text/plain": [
       "                TT    AN      AP    AR      AS      BR    CH     CT    DN  DD  \\\n",
       "Status                                                                          \n",
       "Confirmed  5552109  3647  631749  7595  156578  169856  9796  88181  2933   0   \n",
       "Deceased     88313    52    5410    13     566     870   116    690     2   0   \n",
       "Recovered  4488238  3442  551821  5643  127335  155824  6766  49564  2684   0   \n",
       "\n",
       "           ...     PB      RJ    SK      TN      TG     TR      UP     UT  \\\n",
       "Status     ...                                                              \n",
       "Confirmed  ...  99930  116881  2460  547337  172098  22272  358893  41777   \n",
       "Deceased   ...   2860    1352    29    8871    1042    245    5135    501   \n",
       "Recovered  ...  75409   97284  1906  491971  141930  15441  289594  29000   \n",
       "\n",
       "               WB  UN  \n",
       "Status                 \n",
       "Confirmed  228302   0  \n",
       "Deceased     4421   0  \n",
       "Recovered  198983   0  \n",
       "\n",
       "[3 rows x 39 columns]"
      ]
     },
     "execution_count": 7,
     "metadata": {},
     "output_type": "execute_result"
    }
   ],
   "source": [
    "#hide\n",
    "df_yday.head()"
   ]
  },
  {
   "cell_type": "code",
   "execution_count": 8,
   "metadata": {
    "execution": {
     "iopub.execute_input": "2020-09-22T19:12:38.070639Z",
     "iopub.status.busy": "2020-09-22T19:12:38.070117Z",
     "iopub.status.idle": "2020-09-22T19:12:38.072695Z",
     "shell.execute_reply": "2020-09-22T19:12:38.072189Z"
    },
    "papermill": {
     "duration": 0.022603,
     "end_time": "2020-09-22T19:12:38.072812",
     "exception": false,
     "start_time": "2020-09-22T19:12:38.050209",
     "status": "completed"
    },
    "tags": []
   },
   "outputs": [
    {
     "data": {
      "text/plain": [
       "{'updated': '22-Sep-20',\n",
       " 'since': '21-Sep-20',\n",
       " 'Cases': 5630212,\n",
       " 'Deaths': 89359,\n",
       " 'Recovered': 4573176,\n",
       " 'PCases': 5552109,\n",
       " 'PDeaths': 88313,\n",
       " 'PRecovered': 4488238,\n",
       " 'Cases (+)': 78103,\n",
       " 'Deaths (+)': 1046,\n",
       " 'Recovered (+)': 84938}"
      ]
     },
     "execution_count": 8,
     "metadata": {},
     "output_type": "execute_result"
    }
   ],
   "source": [
    "#hide\n",
    "summary = {\n",
    "    'updated' : dt_today,\n",
    "    'since' : dt_yday,\n",
    "    'Cases' : df_today['TT'][0],\n",
    "    'Deaths' : df_today['TT'][1],\n",
    "    'Recovered' : df_today['TT'][2],\n",
    "    'PCases' : df_yday['TT'][0],\n",
    "    'PDeaths' : df_yday['TT'][1],\n",
    "    'PRecovered': df_yday['TT'][2],\n",
    "    'Cases (+)' : df_today['TT'][0] - df_yday['TT'][0],\n",
    "    'Deaths (+)' : df_today['TT'][1] - df_yday['TT'][1],\n",
    "    'Recovered (+)': df_today['TT'][2] - df_yday['TT'][2]\n",
    "}\n",
    "\n",
    "summary"
   ]
  },
  {
   "cell_type": "code",
   "execution_count": 9,
   "metadata": {
    "execution": {
     "iopub.execute_input": "2020-09-22T19:12:38.101991Z",
     "iopub.status.busy": "2020-09-22T19:12:38.101364Z",
     "iopub.status.idle": "2020-09-22T19:12:38.102845Z",
     "shell.execute_reply": "2020-09-22T19:12:38.103302Z"
    },
    "papermill": {
     "duration": 0.0181,
     "end_time": "2020-09-22T19:12:38.103446",
     "exception": false,
     "start_time": "2020-09-22T19:12:38.085346",
     "status": "completed"
    },
    "tags": []
   },
   "outputs": [],
   "source": [
    "#hide\n",
    "overview = '''\n",
    "<!-- #######  HTML!! #########-->\n",
    "<h1 style=\"color: #5e9ca0; text-align: center;\">India</h1>\n",
    "<p style=\"text-align: center;\">Last update: <strong>{update}</strong></p>\n",
    "<p style=\"text-align: center;\">Confirmed cases:</p>\n",
    "<p style=\"text-align: center;font-size:24px;\">{cases} (<span style=\"color: #ff0000;\">+{new}</span>)</p>\n",
    "<p style=\"text-align: center;\">Confirmed deaths:</p>\n",
    "<p style=\"text-align: center;font-size:24px;\">{deaths} (<span style=\"color: #ff0000;\">+{dnew}</span>)</p>\n",
    "<p style=\"text-align: center;\">Recovered cases:</p>\n",
    "<p style=\"text-align: center;font-size:24px;\">{recovered} (<span style=\"color: #00ff00;\">+{rnew}</span>)</p>\n",
    "'''"
   ]
  },
  {
   "cell_type": "code",
   "execution_count": 10,
   "metadata": {
    "execution": {
     "iopub.execute_input": "2020-09-22T19:12:38.134869Z",
     "iopub.status.busy": "2020-09-22T19:12:38.134283Z",
     "iopub.status.idle": "2020-09-22T19:12:38.136541Z",
     "shell.execute_reply": "2020-09-22T19:12:38.137031Z"
    },
    "papermill": {
     "duration": 0.02067,
     "end_time": "2020-09-22T19:12:38.137171",
     "exception": false,
     "start_time": "2020-09-22T19:12:38.116501",
     "status": "completed"
    },
    "tags": []
   },
   "outputs": [
    {
     "data": {
      "text/html": [
       "\n",
       "<!-- #######  HTML!! #########-->\n",
       "<h1 style=\"color: #5e9ca0; text-align: center;\">India</h1>\n",
       "<p style=\"text-align: center;\">Last update: <strong>22-Sep-20</strong></p>\n",
       "<p style=\"text-align: center;\">Confirmed cases:</p>\n",
       "<p style=\"text-align: center;font-size:24px;\">5630212 (<span style=\"color: #ff0000;\">+78103</span>)</p>\n",
       "<p style=\"text-align: center;\">Confirmed deaths:</p>\n",
       "<p style=\"text-align: center;font-size:24px;\">89359 (<span style=\"color: #ff0000;\">+1046</span>)</p>\n",
       "<p style=\"text-align: center;\">Recovered cases:</p>\n",
       "<p style=\"text-align: center;font-size:24px;\">4573176 (<span style=\"color: #00ff00;\">+84938</span>)</p>\n"
      ],
      "text/plain": [
       "<IPython.core.display.HTML object>"
      ]
     },
     "metadata": {},
     "output_type": "display_data"
    }
   ],
   "source": [
    "#hide_input\n",
    "# Fill the above HTML with the information from the summary dictionary\n",
    "\n",
    "update = summary['updated']\n",
    "cases = summary['Cases']\n",
    "new = summary['Cases (+)']\n",
    "deaths = summary['Deaths']\n",
    "dnew = summary['Deaths (+)']\n",
    "recovered = summary['Recovered']\n",
    "rnew = summary['Recovered (+)']\n",
    "\n",
    "html = HTML(overview.format(update=update, cases=cases,new=new,deaths=deaths,dnew=dnew, recovered=recovered, rnew=rnew))\n",
    "\n",
    "display(html)"
   ]
  },
  {
   "cell_type": "code",
   "execution_count": 11,
   "metadata": {
    "execution": {
     "iopub.execute_input": "2020-09-22T19:12:38.173165Z",
     "iopub.status.busy": "2020-09-22T19:12:38.172651Z",
     "iopub.status.idle": "2020-09-22T19:12:38.175047Z",
     "shell.execute_reply": "2020-09-22T19:12:38.174637Z"
    },
    "papermill": {
     "duration": 0.024862,
     "end_time": "2020-09-22T19:12:38.175164",
     "exception": false,
     "start_time": "2020-09-22T19:12:38.150302",
     "status": "completed"
    },
    "tags": []
   },
   "outputs": [],
   "source": [
    "#hide\n",
    "df_cases = df[df['Status'] == 'Confirmed'].copy()\n",
    "df_cases.drop(columns = ['Status'], inplace=True)\n",
    "df_deaths = df[df['Status'] == 'Deceased'].copy()\n",
    "df_deaths.drop(columns = ['Status'], inplace=True)\n",
    "df_recovered = df[df['Status'] == 'Recovered'].copy()\n",
    "df_recovered.drop(columns = ['Status'], inplace=True)"
   ]
  },
  {
   "cell_type": "markdown",
   "metadata": {
    "papermill": {
     "duration": 0.012869,
     "end_time": "2020-09-22T19:12:38.200922",
     "exception": false,
     "start_time": "2020-09-22T19:12:38.188053",
     "status": "completed"
    },
    "tags": []
   },
   "source": [
    "Plot for India:"
   ]
  },
  {
   "cell_type": "code",
   "execution_count": 12,
   "metadata": {
    "execution": {
     "iopub.execute_input": "2020-09-22T19:12:38.240190Z",
     "iopub.status.busy": "2020-09-22T19:12:38.239673Z",
     "iopub.status.idle": "2020-09-22T19:12:38.465556Z",
     "shell.execute_reply": "2020-09-22T19:12:38.466016Z"
    },
    "papermill": {
     "duration": 0.252348,
     "end_time": "2020-09-22T19:12:38.466164",
     "exception": false,
     "start_time": "2020-09-22T19:12:38.213816",
     "status": "completed"
    },
    "tags": []
   },
   "outputs": [
    {
     "data": {
      "image/png": "[encoded data removed]",
      "text/plain": [
       "<Figure size 1296x432 with 1 Axes>"
      ]
     },
     "metadata": {
      "needs_background": "light"
     },
     "output_type": "display_data"
    }
   ],
   "source": [
    "#hide_input\n",
    "plt.figure(figsize = (18,6))\n",
    "plt.plot(df_cases['Date'], df_cases['TT'],'.-', alpha=0.7, color='b', label='Confirmed cases')\n",
    "plt.plot(df_recovered['Date'], df_recovered['TT'],'.-', alpha=0.7, color='g', label='Recovered')\n",
    "plt.plot(df_deaths['Date'], df_deaths['TT'],'.-', alpha=0.7, color='r', label='Deceased')\n",
    "plt.legend()\n",
    "plt.title(\"Cases per day in India\")\n",
    "plt.xticks(ticks=' ')\n",
    "plt.xlabel(f'{df_cases.iloc[0][0]} to {df_cases.iloc[-1][0]}')\n",
    "plt.ylabel('No. of cases');"
   ]
  },
  {
   "cell_type": "markdown",
   "metadata": {
    "papermill": {
     "duration": 0.014835,
     "end_time": "2020-09-22T19:12:38.495942",
     "exception": false,
     "start_time": "2020-09-22T19:12:38.481107",
     "status": "completed"
    },
    "tags": []
   },
   "source": [
    "Plots for the states with highest number of cases:"
   ]
  },
  {
   "cell_type": "code",
   "execution_count": 13,
   "metadata": {
    "execution": {
     "iopub.execute_input": "2020-09-22T19:12:38.534418Z",
     "iopub.status.busy": "2020-09-22T19:12:38.533871Z",
     "iopub.status.idle": "2020-09-22T19:12:39.051391Z",
     "shell.execute_reply": "2020-09-22T19:12:39.051792Z"
    },
    "papermill": {
     "duration": 0.541178,
     "end_time": "2020-09-22T19:12:39.051940",
     "exception": false,
     "start_time": "2020-09-22T19:12:38.510762",
     "status": "completed"
    },
    "tags": []
   },
   "outputs": [
    {
     "data": {
      "image/png": "[encoded data removed]",
      "text/plain": [
       "<Figure size 1512x432 with 3 Axes>"
      ]
     },
     "metadata": {
      "needs_background": "light"
     },
     "output_type": "display_data"
    }
   ],
   "source": [
    "#hide_input\n",
    "top_3 = sorted(df_cases.sum().values[1:], reverse=True)[1:4]\n",
    "top3_states=[]\n",
    "for i in top_3:\n",
    "    top3_states.append(df_cases.sum()[df_cases.sum() == i].index)\n",
    "\n",
    "\n",
    "fig, ax = plt.subplots(1,3,figsize = (21,6))\n",
    "for i in range(3):\n",
    "    state = top3_states[i].values[0]\n",
    "    ax[i].plot(df_cases['Date'], df_cases[state],'.-', color='b', alpha=0.7)\n",
    "    ax[i].plot(df_deaths['Date'], df_deaths[state],'.-', color='r', alpha=0.7)\n",
    "    ax[i].plot(df_recovered['Date'], df_recovered[state],'.-', color='g', alpha=0.7)\n",
    "    \n",
    "    ax[i].set_title(f\"Cases in {state}\")\n",
    "    ax[i].set_xticks(ticks=' ')\n",
    "    ax[i].set_xlabel(f'{df_cases.iloc[0][0]} to {df_cases.iloc[-1][0]}')\n",
    "    ax[i].set_ylabel('No. of cases');"
   ]
  },
  {
   "cell_type": "code",
   "execution_count": null,
   "metadata": {
    "papermill": {
     "duration": 0.017333,
     "end_time": "2020-09-22T19:12:39.087127",
     "exception": false,
     "start_time": "2020-09-22T19:12:39.069794",
     "status": "completed"
    },
    "tags": []
   },
   "outputs": [],
   "source": []
  },
  {
   "cell_type": "code",
   "execution_count": null,
   "metadata": {
    "papermill": {
     "duration": 0.017124,
     "end_time": "2020-09-22T19:12:39.121379",
     "exception": false,
     "start_time": "2020-09-22T19:12:39.104255",
     "status": "completed"
    },
    "tags": []
   },
   "outputs": [],
   "source": []
  },
  {
   "cell_type": "code",
   "execution_count": null,
   "metadata": {
    "papermill": {
     "duration": 0.017117,
     "end_time": "2020-09-22T19:12:39.155703",
     "exception": false,
     "start_time": "2020-09-22T19:12:39.138586",
     "status": "completed"
    },
    "tags": []
   },
   "outputs": [],
   "source": []
  }
 ],
 "metadata": {
  "kernelspec": {
   "display_name": "Python 3",
   "language": "python",
   "name": "python3"
  },
  "language_info": {
   "codemirror_mode": {
    "name": "ipython",
    "version": 3
   },
   "file_extension": ".py",
   "mimetype": "text/x-python",
   "name": "python",
   "nbconvert_exporter": "python",
   "pygments_lexer": "ipython3",
   "version": "3.6.12"
  },
  "papermill": {
   "duration": 3.665742,
   "end_time": "2020-09-22T19:12:39.580423",
   "environment_variables": {},
   "exception": null,
   "input_path": "2020-08-09-DailyUpdate.ipynb",
   "output_path": "2020-08-09-DailyUpdate.ipynb",
   "parameters": {},
   "start_time": "2020-09-22T19:12:35.914681",
   "version": "2.1.2"
  }
 },
 "nbformat": 4,
 "nbformat_minor": 4
}