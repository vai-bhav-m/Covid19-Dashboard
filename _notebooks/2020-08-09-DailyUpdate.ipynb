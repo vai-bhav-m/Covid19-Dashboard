{
 "cells": [
  {
   "cell_type": "markdown",
   "metadata": {
    "papermill": {
     "duration": 0.015552,
     "end_time": "2020-08-30T19:07:35.715121",
     "exception": false,
     "start_time": "2020-08-30T19:07:35.699569",
     "status": "completed"
    },
    "tags": []
   },
   "source": [
    "# COVID-19 India Daily updates\n",
    "> Tracking coronavirus total cases, deaths and new cases in India on a daily basis\n",
    "\n",
    "- author: Vaibhav Mahapatra"
   ]
  },
  {
   "cell_type": "code",
   "execution_count": 1,
   "metadata": {
    "execution": {
     "iopub.execute_input": "2020-08-30T19:07:35.745005Z",
     "iopub.status.busy": "2020-08-30T19:07:35.744301Z",
     "iopub.status.idle": "2020-08-30T19:07:36.300461Z",
     "shell.execute_reply": "2020-08-30T19:07:36.301058Z"
    },
    "papermill": {
     "duration": 0.573936,
     "end_time": "2020-08-30T19:07:36.301229",
     "exception": false,
     "start_time": "2020-08-30T19:07:35.727293",
     "status": "completed"
    },
    "tags": []
   },
   "outputs": [],
   "source": [
    "#hide\n",
    "\n",
    "## Import essential packages below\n",
    "\n",
    "import pandas as pd\n",
    "import numpy as np\n",
    "import requests\n",
    "import json\n",
    "import matplotlib.pyplot as plt\n",
    "import matplotlib.dates as mdates\n",
    "import matplotlib as mpl\n",
    "from IPython.core.display import display,HTML\n",
    "%matplotlib inline"
   ]
  },
  {
   "cell_type": "code",
   "execution_count": 2,
   "metadata": {
    "execution": {
     "iopub.execute_input": "2020-08-30T19:07:36.332511Z",
     "iopub.status.busy": "2020-08-30T19:07:36.331888Z",
     "iopub.status.idle": "2020-08-30T19:07:36.834966Z",
     "shell.execute_reply": "2020-08-30T19:07:36.834447Z"
    },
    "papermill": {
     "duration": 0.521717,
     "end_time": "2020-08-30T19:07:36.835122",
     "exception": false,
     "start_time": "2020-08-30T19:07:36.313405",
     "status": "completed"
    },
    "tags": []
   },
   "outputs": [
    {
     "data": {
      "text/plain": [
       "(510, 41)"
      ]
     },
     "execution_count": 2,
     "metadata": {},
     "output_type": "execute_result"
    }
   ],
   "source": [
    "#hide\n",
    "url = 'https://api.covid19india.org/csv/latest/state_wise_daily.csv'\n",
    "df = pd.read_csv(url)\n",
    "df.shape"
   ]
  },
  {
   "cell_type": "code",
   "execution_count": 3,
   "metadata": {
    "execution": {
     "iopub.execute_input": "2020-08-30T19:07:36.903683Z",
     "iopub.status.busy": "2020-08-30T19:07:36.902961Z",
     "iopub.status.idle": "2020-08-30T19:07:36.913446Z",
     "shell.execute_reply": "2020-08-30T19:07:36.914019Z"
    },
    "papermill": {
     "duration": 0.066656,
     "end_time": "2020-08-30T19:07:36.914198",
     "exception": false,
     "start_time": "2020-08-30T19:07:36.847542",
     "status": "completed"
    },
    "tags": []
   },
   "outputs": [
    {
     "data": {
      "text/html": [
       "<div>\n",
       "<style scoped>\n",
       "    .dataframe tbody tr th:only-of-type {\n",
       "        vertical-align: middle;\n",
       "    }\n",
       "\n",
       "    .dataframe tbody tr th {\n",
       "        vertical-align: top;\n",
       "    }\n",
       "\n",
       "    .dataframe thead th {\n",
       "        text-align: right;\n",
       "    }\n",
       "</style>\n",
       "<table border=\"1\" class=\"dataframe\">\n",
       "  <thead>\n",
       "    <tr style=\"text-align: right;\">\n",
       "      <th></th>\n",
       "      <th>Date</th>\n",
       "      <th>Status</th>\n",
       "      <th>TT</th>\n",
       "      <th>AN</th>\n",
       "      <th>AP</th>\n",
       "      <th>AR</th>\n",
       "      <th>AS</th>\n",
       "      <th>BR</th>\n",
       "      <th>CH</th>\n",
       "      <th>CT</th>\n",
       "      <th>...</th>\n",
       "      <th>PB</th>\n",
       "      <th>RJ</th>\n",
       "      <th>SK</th>\n",
       "      <th>TN</th>\n",
       "      <th>TG</th>\n",
       "      <th>TR</th>\n",
       "      <th>UP</th>\n",
       "      <th>UT</th>\n",
       "      <th>WB</th>\n",
       "      <th>UN</th>\n",
       "    </tr>\n",
       "  </thead>\n",
       "  <tbody>\n",
       "    <tr>\n",
       "      <th>504</th>\n",
       "      <td>29-Aug-20</td>\n",
       "      <td>Confirmed</td>\n",
       "      <td>78479</td>\n",
       "      <td>31</td>\n",
       "      <td>10548</td>\n",
       "      <td>132</td>\n",
       "      <td>2427</td>\n",
       "      <td>2087</td>\n",
       "      <td>261</td>\n",
       "      <td>1513</td>\n",
       "      <td>...</td>\n",
       "      <td>1470</td>\n",
       "      <td>1407</td>\n",
       "      <td>26</td>\n",
       "      <td>6352</td>\n",
       "      <td>2751</td>\n",
       "      <td>443</td>\n",
       "      <td>5633</td>\n",
       "      <td>706</td>\n",
       "      <td>3012</td>\n",
       "      <td>0</td>\n",
       "    </tr>\n",
       "    <tr>\n",
       "      <th>505</th>\n",
       "      <td>29-Aug-20</td>\n",
       "      <td>Recovered</td>\n",
       "      <td>64982</td>\n",
       "      <td>75</td>\n",
       "      <td>8976</td>\n",
       "      <td>45</td>\n",
       "      <td>1440</td>\n",
       "      <td>2629</td>\n",
       "      <td>141</td>\n",
       "      <td>709</td>\n",
       "      <td>...</td>\n",
       "      <td>1083</td>\n",
       "      <td>938</td>\n",
       "      <td>11</td>\n",
       "      <td>6045</td>\n",
       "      <td>1675</td>\n",
       "      <td>198</td>\n",
       "      <td>4862</td>\n",
       "      <td>400</td>\n",
       "      <td>3312</td>\n",
       "      <td>0</td>\n",
       "    </tr>\n",
       "    <tr>\n",
       "      <th>506</th>\n",
       "      <td>29-Aug-20</td>\n",
       "      <td>Deceased</td>\n",
       "      <td>943</td>\n",
       "      <td>2</td>\n",
       "      <td>82</td>\n",
       "      <td>0</td>\n",
       "      <td>3</td>\n",
       "      <td>5</td>\n",
       "      <td>0</td>\n",
       "      <td>11</td>\n",
       "      <td>...</td>\n",
       "      <td>41</td>\n",
       "      <td>13</td>\n",
       "      <td>0</td>\n",
       "      <td>87</td>\n",
       "      <td>9</td>\n",
       "      <td>5</td>\n",
       "      <td>62</td>\n",
       "      <td>11</td>\n",
       "      <td>53</td>\n",
       "      <td>0</td>\n",
       "    </tr>\n",
       "    <tr>\n",
       "      <th>507</th>\n",
       "      <td>30-Aug-20</td>\n",
       "      <td>Confirmed</td>\n",
       "      <td>76854</td>\n",
       "      <td>23</td>\n",
       "      <td>10603</td>\n",
       "      <td>157</td>\n",
       "      <td>0</td>\n",
       "      <td>2078</td>\n",
       "      <td>170</td>\n",
       "      <td>1311</td>\n",
       "      <td>...</td>\n",
       "      <td>1678</td>\n",
       "      <td>1450</td>\n",
       "      <td>0</td>\n",
       "      <td>6495</td>\n",
       "      <td>2924</td>\n",
       "      <td>447</td>\n",
       "      <td>6175</td>\n",
       "      <td>664</td>\n",
       "      <td>3019</td>\n",
       "      <td>0</td>\n",
       "    </tr>\n",
       "    <tr>\n",
       "      <th>508</th>\n",
       "      <td>30-Aug-20</td>\n",
       "      <td>Recovered</td>\n",
       "      <td>58954</td>\n",
       "      <td>67</td>\n",
       "      <td>9067</td>\n",
       "      <td>68</td>\n",
       "      <td>0</td>\n",
       "      <td>2231</td>\n",
       "      <td>48</td>\n",
       "      <td>485</td>\n",
       "      <td>...</td>\n",
       "      <td>1656</td>\n",
       "      <td>2122</td>\n",
       "      <td>0</td>\n",
       "      <td>6406</td>\n",
       "      <td>1638</td>\n",
       "      <td>195</td>\n",
       "      <td>4802</td>\n",
       "      <td>480</td>\n",
       "      <td>3308</td>\n",
       "      <td>0</td>\n",
       "    </tr>\n",
       "    <tr>\n",
       "      <th>509</th>\n",
       "      <td>30-Aug-20</td>\n",
       "      <td>Deceased</td>\n",
       "      <td>958</td>\n",
       "      <td>1</td>\n",
       "      <td>88</td>\n",
       "      <td>0</td>\n",
       "      <td>7</td>\n",
       "      <td>9</td>\n",
       "      <td>7</td>\n",
       "      <td>7</td>\n",
       "      <td>...</td>\n",
       "      <td>56</td>\n",
       "      <td>13</td>\n",
       "      <td>0</td>\n",
       "      <td>94</td>\n",
       "      <td>10</td>\n",
       "      <td>4</td>\n",
       "      <td>67</td>\n",
       "      <td>7</td>\n",
       "      <td>50</td>\n",
       "      <td>0</td>\n",
       "    </tr>\n",
       "  </tbody>\n",
       "</table>\n",
       "<p>6 rows × 41 columns</p>\n",
       "</div>"
      ],
      "text/plain": [
       "          Date     Status     TT  AN     AP   AR    AS    BR   CH    CT  ...  \\\n",
       "504  29-Aug-20  Confirmed  78479  31  10548  132  2427  2087  261  1513  ...   \n",
       "505  29-Aug-20  Recovered  64982  75   8976   45  1440  2629  141   709  ...   \n",
       "506  29-Aug-20   Deceased    943   2     82    0     3     5    0    11  ...   \n",
       "507  30-Aug-20  Confirmed  76854  23  10603  157     0  2078  170  1311  ...   \n",
       "508  30-Aug-20  Recovered  58954  67   9067   68     0  2231   48   485  ...   \n",
       "509  30-Aug-20   Deceased    958   1     88    0     7     9    7     7  ...   \n",
       "\n",
       "       PB    RJ  SK    TN    TG   TR    UP   UT    WB  UN  \n",
       "504  1470  1407  26  6352  2751  443  5633  706  3012   0  \n",
       "505  1083   938  11  6045  1675  198  4862  400  3312   0  \n",
       "506    41    13   0    87     9    5    62   11    53   0  \n",
       "507  1678  1450   0  6495  2924  447  6175  664  3019   0  \n",
       "508  1656  2122   0  6406  1638  195  4802  480  3308   0  \n",
       "509    56    13   0    94    10    4    67    7    50   0  \n",
       "\n",
       "[6 rows x 41 columns]"
      ]
     },
     "execution_count": 3,
     "metadata": {},
     "output_type": "execute_result"
    }
   ],
   "source": [
    "#hide\n",
    "df.tail(6)"
   ]
  },
  {
   "cell_type": "code",
   "execution_count": 4,
   "metadata": {
    "execution": {
     "iopub.execute_input": "2020-08-30T19:07:36.949044Z",
     "iopub.status.busy": "2020-08-30T19:07:36.948435Z",
     "iopub.status.idle": "2020-08-30T19:07:36.951538Z",
     "shell.execute_reply": "2020-08-30T19:07:36.952021Z"
    },
    "papermill": {
     "duration": 0.02196,
     "end_time": "2020-08-30T19:07:36.952163",
     "exception": false,
     "start_time": "2020-08-30T19:07:36.930203",
     "status": "completed"
    },
    "tags": []
   },
   "outputs": [
    {
     "data": {
      "text/plain": [
       "('30-Aug-20', '29-Aug-20')"
      ]
     },
     "execution_count": 4,
     "metadata": {},
     "output_type": "execute_result"
    }
   ],
   "source": [
    "#hide\n",
    "dt_today = df.iloc[-1][0]\n",
    "dt_yday = df.iloc[-4][0]\n",
    "dt_today, dt_yday"
   ]
  },
  {
   "cell_type": "code",
   "execution_count": 5,
   "metadata": {
    "execution": {
     "iopub.execute_input": "2020-08-30T19:07:36.984618Z",
     "iopub.status.busy": "2020-08-30T19:07:36.984047Z",
     "iopub.status.idle": "2020-08-30T19:07:36.990301Z",
     "shell.execute_reply": "2020-08-30T19:07:36.989790Z"
    },
    "papermill": {
     "duration": 0.024581,
     "end_time": "2020-08-30T19:07:36.990414",
     "exception": false,
     "start_time": "2020-08-30T19:07:36.965833",
     "status": "completed"
    },
    "tags": []
   },
   "outputs": [],
   "source": [
    "#hide\n",
    "df_today = df.groupby('Status').sum()\n",
    "df_yday = df.iloc[:-3][:].groupby('Status').sum()"
   ]
  },
  {
   "cell_type": "code",
   "execution_count": 6,
   "metadata": {
    "execution": {
     "iopub.execute_input": "2020-08-30T19:07:37.032221Z",
     "iopub.status.busy": "2020-08-30T19:07:37.031596Z",
     "iopub.status.idle": "2020-08-30T19:07:37.034756Z",
     "shell.execute_reply": "2020-08-30T19:07:37.034208Z"
    },
    "papermill": {
     "duration": 0.031472,
     "end_time": "2020-08-30T19:07:37.034867",
     "exception": false,
     "start_time": "2020-08-30T19:07:37.003395",
     "status": "completed"
    },
    "tags": []
   },
   "outputs": [
    {
     "data": {
      "text/html": [
       "<div>\n",
       "<style scoped>\n",
       "    .dataframe tbody tr th:only-of-type {\n",
       "        vertical-align: middle;\n",
       "    }\n",
       "\n",
       "    .dataframe tbody tr th {\n",
       "        vertical-align: top;\n",
       "    }\n",
       "\n",
       "    .dataframe thead th {\n",
       "        text-align: right;\n",
       "    }\n",
       "</style>\n",
       "<table border=\"1\" class=\"dataframe\">\n",
       "  <thead>\n",
       "    <tr style=\"text-align: right;\">\n",
       "      <th></th>\n",
       "      <th>TT</th>\n",
       "      <th>AN</th>\n",
       "      <th>AP</th>\n",
       "      <th>AR</th>\n",
       "      <th>AS</th>\n",
       "      <th>BR</th>\n",
       "      <th>CH</th>\n",
       "      <th>CT</th>\n",
       "      <th>DN</th>\n",
       "      <th>DD</th>\n",
       "      <th>...</th>\n",
       "      <th>PB</th>\n",
       "      <th>RJ</th>\n",
       "      <th>SK</th>\n",
       "      <th>TN</th>\n",
       "      <th>TG</th>\n",
       "      <th>TR</th>\n",
       "      <th>UP</th>\n",
       "      <th>UT</th>\n",
       "      <th>WB</th>\n",
       "      <th>UN</th>\n",
       "    </tr>\n",
       "    <tr>\n",
       "      <th>Status</th>\n",
       "      <th></th>\n",
       "      <th></th>\n",
       "      <th></th>\n",
       "      <th></th>\n",
       "      <th></th>\n",
       "      <th></th>\n",
       "      <th></th>\n",
       "      <th></th>\n",
       "      <th></th>\n",
       "      <th></th>\n",
       "      <th></th>\n",
       "      <th></th>\n",
       "      <th></th>\n",
       "      <th></th>\n",
       "      <th></th>\n",
       "      <th></th>\n",
       "      <th></th>\n",
       "      <th></th>\n",
       "      <th></th>\n",
       "      <th></th>\n",
       "      <th></th>\n",
       "    </tr>\n",
       "  </thead>\n",
       "  <tbody>\n",
       "    <tr>\n",
       "      <th>Confirmed</th>\n",
       "      <td>3615939</td>\n",
       "      <td>3100</td>\n",
       "      <td>424767</td>\n",
       "      <td>4034</td>\n",
       "      <td>103693</td>\n",
       "      <td>135013</td>\n",
       "      <td>4155</td>\n",
       "      <td>30057</td>\n",
       "      <td>2338</td>\n",
       "      <td>0</td>\n",
       "      <td>...</td>\n",
       "      <td>52526</td>\n",
       "      <td>80227</td>\n",
       "      <td>1615</td>\n",
       "      <td>422085</td>\n",
       "      <td>122580</td>\n",
       "      <td>11323</td>\n",
       "      <td>225632</td>\n",
       "      <td>19235</td>\n",
       "      <td>159785</td>\n",
       "      <td>0</td>\n",
       "    </tr>\n",
       "    <tr>\n",
       "      <th>Deceased</th>\n",
       "      <td>64626</td>\n",
       "      <td>45</td>\n",
       "      <td>3884</td>\n",
       "      <td>7</td>\n",
       "      <td>300</td>\n",
       "      <td>688</td>\n",
       "      <td>52</td>\n",
       "      <td>269</td>\n",
       "      <td>2</td>\n",
       "      <td>0</td>\n",
       "      <td>...</td>\n",
       "      <td>1404</td>\n",
       "      <td>1043</td>\n",
       "      <td>3</td>\n",
       "      <td>7231</td>\n",
       "      <td>818</td>\n",
       "      <td>98</td>\n",
       "      <td>3423</td>\n",
       "      <td>257</td>\n",
       "      <td>3176</td>\n",
       "      <td>0</td>\n",
       "    </tr>\n",
       "    <tr>\n",
       "      <th>Recovered</th>\n",
       "      <td>2771467</td>\n",
       "      <td>2577</td>\n",
       "      <td>321754</td>\n",
       "      <td>2822</td>\n",
       "      <td>82511</td>\n",
       "      <td>117305</td>\n",
       "      <td>2296</td>\n",
       "      <td>16303</td>\n",
       "      <td>2028</td>\n",
       "      <td>0</td>\n",
       "      <td>...</td>\n",
       "      <td>35747</td>\n",
       "      <td>65093</td>\n",
       "      <td>1196</td>\n",
       "      <td>362133</td>\n",
       "      <td>90988</td>\n",
       "      <td>7232</td>\n",
       "      <td>167543</td>\n",
       "      <td>13004</td>\n",
       "      <td>130952</td>\n",
       "      <td>0</td>\n",
       "    </tr>\n",
       "  </tbody>\n",
       "</table>\n",
       "<p>3 rows × 39 columns</p>\n",
       "</div>"
      ],
      "text/plain": [
       "                TT    AN      AP    AR      AS      BR    CH     CT    DN  DD  \\\n",
       "Status                                                                          \n",
       "Confirmed  3615939  3100  424767  4034  103693  135013  4155  30057  2338   0   \n",
       "Deceased     64626    45    3884     7     300     688    52    269     2   0   \n",
       "Recovered  2771467  2577  321754  2822   82511  117305  2296  16303  2028   0   \n",
       "\n",
       "           ...     PB     RJ    SK      TN      TG     TR      UP     UT  \\\n",
       "Status     ...                                                             \n",
       "Confirmed  ...  52526  80227  1615  422085  122580  11323  225632  19235   \n",
       "Deceased   ...   1404   1043     3    7231     818     98    3423    257   \n",
       "Recovered  ...  35747  65093  1196  362133   90988   7232  167543  13004   \n",
       "\n",
       "               WB  UN  \n",
       "Status                 \n",
       "Confirmed  159785   0  \n",
       "Deceased     3176   0  \n",
       "Recovered  130952   0  \n",
       "\n",
       "[3 rows x 39 columns]"
      ]
     },
     "execution_count": 6,
     "metadata": {},
     "output_type": "execute_result"
    }
   ],
   "source": [
    "#hide\n",
    "df_today"
   ]
  },
  {
   "cell_type": "code",
   "execution_count": 7,
   "metadata": {
    "execution": {
     "iopub.execute_input": "2020-08-30T19:07:37.079428Z",
     "iopub.status.busy": "2020-08-30T19:07:37.078849Z",
     "iopub.status.idle": "2020-08-30T19:07:37.082202Z",
     "shell.execute_reply": "2020-08-30T19:07:37.081622Z"
    },
    "papermill": {
     "duration": 0.033405,
     "end_time": "2020-08-30T19:07:37.082381",
     "exception": false,
     "start_time": "2020-08-30T19:07:37.048976",
     "status": "completed"
    },
    "tags": []
   },
   "outputs": [
    {
     "data": {
      "text/html": [
       "<div>\n",
       "<style scoped>\n",
       "    .dataframe tbody tr th:only-of-type {\n",
       "        vertical-align: middle;\n",
       "    }\n",
       "\n",
       "    .dataframe tbody tr th {\n",
       "        vertical-align: top;\n",
       "    }\n",
       "\n",
       "    .dataframe thead th {\n",
       "        text-align: right;\n",
       "    }\n",
       "</style>\n",
       "<table border=\"1\" class=\"dataframe\">\n",
       "  <thead>\n",
       "    <tr style=\"text-align: right;\">\n",
       "      <th></th>\n",
       "      <th>TT</th>\n",
       "      <th>AN</th>\n",
       "      <th>AP</th>\n",
       "      <th>AR</th>\n",
       "      <th>AS</th>\n",
       "      <th>BR</th>\n",
       "      <th>CH</th>\n",
       "      <th>CT</th>\n",
       "      <th>DN</th>\n",
       "      <th>DD</th>\n",
       "      <th>...</th>\n",
       "      <th>PB</th>\n",
       "      <th>RJ</th>\n",
       "      <th>SK</th>\n",
       "      <th>TN</th>\n",
       "      <th>TG</th>\n",
       "      <th>TR</th>\n",
       "      <th>UP</th>\n",
       "      <th>UT</th>\n",
       "      <th>WB</th>\n",
       "      <th>UN</th>\n",
       "    </tr>\n",
       "    <tr>\n",
       "      <th>Status</th>\n",
       "      <th></th>\n",
       "      <th></th>\n",
       "      <th></th>\n",
       "      <th></th>\n",
       "      <th></th>\n",
       "      <th></th>\n",
       "      <th></th>\n",
       "      <th></th>\n",
       "      <th></th>\n",
       "      <th></th>\n",
       "      <th></th>\n",
       "      <th></th>\n",
       "      <th></th>\n",
       "      <th></th>\n",
       "      <th></th>\n",
       "      <th></th>\n",
       "      <th></th>\n",
       "      <th></th>\n",
       "      <th></th>\n",
       "      <th></th>\n",
       "      <th></th>\n",
       "    </tr>\n",
       "  </thead>\n",
       "  <tbody>\n",
       "    <tr>\n",
       "      <th>Confirmed</th>\n",
       "      <td>3539085</td>\n",
       "      <td>3077</td>\n",
       "      <td>414164</td>\n",
       "      <td>3877</td>\n",
       "      <td>103693</td>\n",
       "      <td>132935</td>\n",
       "      <td>3985</td>\n",
       "      <td>28746</td>\n",
       "      <td>2310</td>\n",
       "      <td>0</td>\n",
       "      <td>...</td>\n",
       "      <td>50848</td>\n",
       "      <td>78777</td>\n",
       "      <td>1615</td>\n",
       "      <td>415590</td>\n",
       "      <td>119656</td>\n",
       "      <td>10876</td>\n",
       "      <td>219457</td>\n",
       "      <td>18571</td>\n",
       "      <td>156766</td>\n",
       "      <td>0</td>\n",
       "    </tr>\n",
       "    <tr>\n",
       "      <th>Deceased</th>\n",
       "      <td>63668</td>\n",
       "      <td>44</td>\n",
       "      <td>3796</td>\n",
       "      <td>7</td>\n",
       "      <td>293</td>\n",
       "      <td>679</td>\n",
       "      <td>45</td>\n",
       "      <td>262</td>\n",
       "      <td>2</td>\n",
       "      <td>0</td>\n",
       "      <td>...</td>\n",
       "      <td>1348</td>\n",
       "      <td>1030</td>\n",
       "      <td>3</td>\n",
       "      <td>7137</td>\n",
       "      <td>808</td>\n",
       "      <td>94</td>\n",
       "      <td>3356</td>\n",
       "      <td>250</td>\n",
       "      <td>3126</td>\n",
       "      <td>0</td>\n",
       "    </tr>\n",
       "    <tr>\n",
       "      <th>Recovered</th>\n",
       "      <td>2712513</td>\n",
       "      <td>2510</td>\n",
       "      <td>312687</td>\n",
       "      <td>2754</td>\n",
       "      <td>82511</td>\n",
       "      <td>115074</td>\n",
       "      <td>2248</td>\n",
       "      <td>15818</td>\n",
       "      <td>1989</td>\n",
       "      <td>0</td>\n",
       "      <td>...</td>\n",
       "      <td>34091</td>\n",
       "      <td>62971</td>\n",
       "      <td>1196</td>\n",
       "      <td>355727</td>\n",
       "      <td>89350</td>\n",
       "      <td>7037</td>\n",
       "      <td>162741</td>\n",
       "      <td>12524</td>\n",
       "      <td>127644</td>\n",
       "      <td>0</td>\n",
       "    </tr>\n",
       "  </tbody>\n",
       "</table>\n",
       "<p>3 rows × 39 columns</p>\n",
       "</div>"
      ],
      "text/plain": [
       "                TT    AN      AP    AR      AS      BR    CH     CT    DN  DD  \\\n",
       "Status                                                                          \n",
       "Confirmed  3539085  3077  414164  3877  103693  132935  3985  28746  2310   0   \n",
       "Deceased     63668    44    3796     7     293     679    45    262     2   0   \n",
       "Recovered  2712513  2510  312687  2754   82511  115074  2248  15818  1989   0   \n",
       "\n",
       "           ...     PB     RJ    SK      TN      TG     TR      UP     UT  \\\n",
       "Status     ...                                                             \n",
       "Confirmed  ...  50848  78777  1615  415590  119656  10876  219457  18571   \n",
       "Deceased   ...   1348   1030     3    7137     808     94    3356    250   \n",
       "Recovered  ...  34091  62971  1196  355727   89350   7037  162741  12524   \n",
       "\n",
       "               WB  UN  \n",
       "Status                 \n",
       "Confirmed  156766   0  \n",
       "Deceased     3126   0  \n",
       "Recovered  127644   0  \n",
       "\n",
       "[3 rows x 39 columns]"
      ]
     },
     "execution_count": 7,
     "metadata": {},
     "output_type": "execute_result"
    }
   ],
   "source": [
    "#hide\n",
    "df_yday.head()"
   ]
  },
  {
   "cell_type": "code",
   "execution_count": 8,
   "metadata": {
    "execution": {
     "iopub.execute_input": "2020-08-30T19:07:37.117973Z",
     "iopub.status.busy": "2020-08-30T19:07:37.117305Z",
     "iopub.status.idle": "2020-08-30T19:07:37.120962Z",
     "shell.execute_reply": "2020-08-30T19:07:37.120476Z"
    },
    "papermill": {
     "duration": 0.024323,
     "end_time": "2020-08-30T19:07:37.121060",
     "exception": false,
     "start_time": "2020-08-30T19:07:37.096737",
     "status": "completed"
    },
    "tags": []
   },
   "outputs": [
    {
     "data": {
      "text/plain": [
       "{'updated': '30-Aug-20',\n",
       " 'since': '29-Aug-20',\n",
       " 'Cases': 3615939,\n",
       " 'Deaths': 64626,\n",
       " 'Recovered': 2771467,\n",
       " 'PCases': 3539085,\n",
       " 'PDeaths': 63668,\n",
       " 'PRecovered': 2712513,\n",
       " 'Cases (+)': 76854,\n",
       " 'Deaths (+)': 958,\n",
       " 'Recovered (+)': 58954}"
      ]
     },
     "execution_count": 8,
     "metadata": {},
     "output_type": "execute_result"
    }
   ],
   "source": [
    "#hide\n",
    "summary = {\n",
    "    'updated' : dt_today,\n",
    "    'since' : dt_yday,\n",
    "    'Cases' : df_today['TT'][0],\n",
    "    'Deaths' : df_today['TT'][1],\n",
    "    'Recovered' : df_today['TT'][2],\n",
    "    'PCases' : df_yday['TT'][0],\n",
    "    'PDeaths' : df_yday['TT'][1],\n",
    "    'PRecovered': df_yday['TT'][2],\n",
    "    'Cases (+)' : df_today['TT'][0] - df_yday['TT'][0],\n",
    "    'Deaths (+)' : df_today['TT'][1] - df_yday['TT'][1],\n",
    "    'Recovered (+)': df_today['TT'][2] - df_yday['TT'][2]\n",
    "}\n",
    "\n",
    "summary"
   ]
  },
  {
   "cell_type": "code",
   "execution_count": 9,
   "metadata": {
    "execution": {
     "iopub.execute_input": "2020-08-30T19:07:37.157047Z",
     "iopub.status.busy": "2020-08-30T19:07:37.156443Z",
     "iopub.status.idle": "2020-08-30T19:07:37.158202Z",
     "shell.execute_reply": "2020-08-30T19:07:37.158698Z"
    },
    "papermill": {
     "duration": 0.024155,
     "end_time": "2020-08-30T19:07:37.158823",
     "exception": false,
     "start_time": "2020-08-30T19:07:37.134668",
     "status": "completed"
    },
    "tags": []
   },
   "outputs": [],
   "source": [
    "#hide\n",
    "overview = '''\n",
    "<!-- #######  HTML!! #########-->\n",
    "<h1 style=\"color: #5e9ca0; text-align: center;\">India</h1>\n",
    "<p style=\"text-align: center;\">Last update: <strong>{update}</strong></p>\n",
    "<p style=\"text-align: center;\">Confirmed cases:</p>\n",
    "<p style=\"text-align: center;font-size:24px;\">{cases} (<span style=\"color: #ff0000;\">+{new}</span>)</p>\n",
    "<p style=\"text-align: center;\">Confirmed deaths:</p>\n",
    "<p style=\"text-align: center;font-size:24px;\">{deaths} (<span style=\"color: #ff0000;\">+{dnew}</span>)</p>\n",
    "<p style=\"text-align: center;\">Recovered cases:</p>\n",
    "<p style=\"text-align: center;font-size:24px;\">{recovered} (<span style=\"color: #00ff00;\">+{rnew}</span>)</p>\n",
    "'''"
   ]
  },
  {
   "cell_type": "code",
   "execution_count": 10,
   "metadata": {
    "execution": {
     "iopub.execute_input": "2020-08-30T19:07:37.196343Z",
     "iopub.status.busy": "2020-08-30T19:07:37.195661Z",
     "iopub.status.idle": "2020-08-30T19:07:37.199819Z",
     "shell.execute_reply": "2020-08-30T19:07:37.199058Z"
    },
    "papermill": {
     "duration": 0.023929,
     "end_time": "2020-08-30T19:07:37.199971",
     "exception": false,
     "start_time": "2020-08-30T19:07:37.176042",
     "status": "completed"
    },
    "tags": []
   },
   "outputs": [
    {
     "data": {
      "text/html": [
       "\n",
       "<!-- #######  HTML!! #########-->\n",
       "<h1 style=\"color: #5e9ca0; text-align: center;\">India</h1>\n",
       "<p style=\"text-align: center;\">Last update: <strong>30-Aug-20</strong></p>\n",
       "<p style=\"text-align: center;\">Confirmed cases:</p>\n",
       "<p style=\"text-align: center;font-size:24px;\">3615939 (<span style=\"color: #ff0000;\">+76854</span>)</p>\n",
       "<p style=\"text-align: center;\">Confirmed deaths:</p>\n",
       "<p style=\"text-align: center;font-size:24px;\">64626 (<span style=\"color: #ff0000;\">+958</span>)</p>\n",
       "<p style=\"text-align: center;\">Recovered cases:</p>\n",
       "<p style=\"text-align: center;font-size:24px;\">2771467 (<span style=\"color: #00ff00;\">+58954</span>)</p>\n"
      ],
      "text/plain": [
       "<IPython.core.display.HTML object>"
      ]
     },
     "metadata": {},
     "output_type": "display_data"
    }
   ],
   "source": [
    "#hide_input\n",
    "# Fill the above HTML with the information from the summary dictionary\n",
    "\n",
    "update = summary['updated']\n",
    "cases = summary['Cases']\n",
    "new = summary['Cases (+)']\n",
    "deaths = summary['Deaths']\n",
    "dnew = summary['Deaths (+)']\n",
    "recovered = summary['Recovered']\n",
    "rnew = summary['Recovered (+)']\n",
    "\n",
    "html = HTML(overview.format(update=update, cases=cases,new=new,deaths=deaths,dnew=dnew, recovered=recovered, rnew=rnew))\n",
    "\n",
    "display(html)"
   ]
  },
  {
   "cell_type": "code",
   "execution_count": 11,
   "metadata": {
    "execution": {
     "iopub.execute_input": "2020-08-30T19:07:37.239046Z",
     "iopub.status.busy": "2020-08-30T19:07:37.238234Z",
     "iopub.status.idle": "2020-08-30T19:07:37.244184Z",
     "shell.execute_reply": "2020-08-30T19:07:37.244849Z"
    },
    "papermill": {
     "duration": 0.029415,
     "end_time": "2020-08-30T19:07:37.245022",
     "exception": false,
     "start_time": "2020-08-30T19:07:37.215607",
     "status": "completed"
    },
    "tags": []
   },
   "outputs": [],
   "source": [
    "#hide\n",
    "df_cases = df[df['Status'] == 'Confirmed'].copy()\n",
    "df_cases.drop(columns = ['Status'], inplace=True)\n",
    "df_deaths = df[df['Status'] == 'Deceased'].copy()\n",
    "df_deaths.drop(columns = ['Status'], inplace=True)\n",
    "df_recovered = df[df['Status'] == 'Recovered'].copy()\n",
    "df_recovered.drop(columns = ['Status'], inplace=True)"
   ]
  },
  {
   "cell_type": "markdown",
   "metadata": {
    "papermill": {
     "duration": 0.016067,
     "end_time": "2020-08-30T19:07:37.276453",
     "exception": false,
     "start_time": "2020-08-30T19:07:37.260386",
     "status": "completed"
    },
    "tags": []
   },
   "source": [
    "Plot for India:"
   ]
  },
  {
   "cell_type": "code",
   "execution_count": 12,
   "metadata": {
    "execution": {
     "iopub.execute_input": "2020-08-30T19:07:37.327439Z",
     "iopub.status.busy": "2020-08-30T19:07:37.326587Z",
     "iopub.status.idle": "2020-08-30T19:07:37.608216Z",
     "shell.execute_reply": "2020-08-30T19:07:37.608693Z"
    },
    "papermill": {
     "duration": 0.31754,
     "end_time": "2020-08-30T19:07:37.608868",
     "exception": false,
     "start_time": "2020-08-30T19:07:37.291328",
     "status": "completed"
    },
    "tags": []
   },
   "outputs": [
    {
     "data": {
      "image/png": "[encoded data removed]",
      "text/plain": [
       "<Figure size 1296x432 with 1 Axes>"
      ]
     },
     "metadata": {
      "needs_background": "light"
     },
     "output_type": "display_data"
    }
   ],
   "source": [
    "#hide_input\n",
    "plt.figure(figsize = (18,6))\n",
    "plt.plot(df_cases['Date'], df_cases['TT'],'.-', alpha=0.7, color='b', label='Confirmed cases')\n",
    "plt.plot(df_recovered['Date'], df_recovered['TT'],'.-', alpha=0.7, color='g', label='Recovered')\n",
    "plt.plot(df_deaths['Date'], df_deaths['TT'],'.-', alpha=0.7, color='r', label='Deceased')\n",
    "plt.legend()\n",
    "plt.title(\"Cases per day in India\")\n",
    "plt.xticks(ticks=' ')\n",
    "plt.xlabel(f'{df_cases.iloc[0][0]} to {df_cases.iloc[-1][0]}')\n",
    "plt.ylabel('No. of cases');"
   ]
  },
  {
   "cell_type": "markdown",
   "metadata": {
    "papermill": {
     "duration": 0.016363,
     "end_time": "2020-08-30T19:07:37.641480",
     "exception": false,
     "start_time": "2020-08-30T19:07:37.625117",
     "status": "completed"
    },
    "tags": []
   },
   "source": [
    "Plots for the states with highest number of cases:"
   ]
  },
  {
   "cell_type": "code",
   "execution_count": 13,
   "metadata": {
    "execution": {
     "iopub.execute_input": "2020-08-30T19:07:37.722318Z",
     "iopub.status.busy": "2020-08-30T19:07:37.685343Z",
     "iopub.status.idle": "2020-08-30T19:07:38.333059Z",
     "shell.execute_reply": "2020-08-30T19:07:38.333515Z"
    },
    "papermill": {
     "duration": 0.672118,
     "end_time": "2020-08-30T19:07:38.333721",
     "exception": false,
     "start_time": "2020-08-30T19:07:37.661603",
     "status": "completed"
    },
    "tags": []
   },
   "outputs": [
    {
     "data": {
      "image/png": "[encoded data removed]",
      "text/plain": [
       "<Figure size 1512x432 with 3 Axes>"
      ]
     },
     "metadata": {
      "needs_background": "light"
     },
     "output_type": "display_data"
    }
   ],
   "source": [
    "#hide_input\n",
    "top_3 = sorted(df_cases.sum().values[1:], reverse=True)[1:4]\n",
    "top3_states=[]\n",
    "for i in top_3:\n",
    "    top3_states.append(df_cases.sum()[df_cases.sum() == i].index)\n",
    "\n",
    "\n",
    "fig, ax = plt.subplots(1,3,figsize = (21,6))\n",
    "for i in range(3):\n",
    "    state = top3_states[i].values[0]\n",
    "    ax[i].plot(df_cases['Date'], df_cases[state],'.-', color='b', alpha=0.7)\n",
    "    ax[i].plot(df_deaths['Date'], df_deaths[state],'.-', color='r', alpha=0.7)\n",
    "    ax[i].plot(df_recovered['Date'], df_recovered[state],'.-', color='g', alpha=0.7)\n",
    "    \n",
    "    ax[i].set_title(f\"Cases in {state}\")\n",
    "    ax[i].set_xticks(ticks=' ')\n",
    "    ax[i].set_xlabel(f'{df_cases.iloc[0][0]} to {df_cases.iloc[-1][0]}')\n",
    "    ax[i].set_ylabel('No. of cases');"
   ]
  },
  {
   "cell_type": "code",
   "execution_count": null,
   "metadata": {
    "papermill": {
     "duration": 0.019381,
     "end_time": "2020-08-30T19:07:38.373101",
     "exception": false,
     "start_time": "2020-08-30T19:07:38.353720",
     "status": "completed"
    },
    "tags": []
   },
   "outputs": [],
   "source": []
  },
  {
   "cell_type": "code",
   "execution_count": null,
   "metadata": {
    "papermill": {
     "duration": 0.019328,
     "end_time": "2020-08-30T19:07:38.410501",
     "exception": false,
     "start_time": "2020-08-30T19:07:38.391173",
     "status": "completed"
    },
    "tags": []
   },
   "outputs": [],
   "source": []
  },
  {
   "cell_type": "code",
   "execution_count": null,
   "metadata": {
    "papermill": {
     "duration": 0.020186,
     "end_time": "2020-08-30T19:07:38.448568",
     "exception": false,
     "start_time": "2020-08-30T19:07:38.428382",
     "status": "completed"
    },
    "tags": []
   },
   "outputs": [],
   "source": []
  }
 ],
 "metadata": {
  "kernelspec": {
   "display_name": "Python 3",
   "language": "python",
   "name": "python3"
  },
  "language_info": {
   "codemirror_mode": {
    "name": "ipython",
    "version": 3
   },
   "file_extension": ".py",
   "mimetype": "text/x-python",
   "name": "python",
   "nbconvert_exporter": "python",
   "pygments_lexer": "ipython3",
   "version": "3.6.11"
  },
  "papermill": {
   "duration": 4.143425,
   "end_time": "2020-08-30T19:07:38.773879",
   "environment_variables": {},
   "exception": null,
   "input_path": "2020-08-09-DailyUpdate.ipynb",
   "output_path": "2020-08-09-DailyUpdate.ipynb",
   "parameters": {},
   "start_time": "2020-08-30T19:07:34.630454",
   "version": "2.1.2"
  }
 },
 "nbformat": 4,
 "nbformat_minor": 4
}