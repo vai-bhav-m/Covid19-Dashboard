{
 "cells": [
  {
   "cell_type": "markdown",
   "metadata": {
    "papermill": {
     "duration": 0.017544,
     "end_time": "2020-09-29T19:12:45.873059",
     "exception": false,
     "start_time": "2020-09-29T19:12:45.855515",
     "status": "completed"
    },
    "tags": []
   },
   "source": [
    "# COVID-19 India Daily updates\n",
    "> Tracking coronavirus total cases, deaths and new cases in India on a daily basis\n",
    "\n",
    "- author: Vaibhav Mahapatra"
   ]
  },
  {
   "cell_type": "code",
   "execution_count": 1,
   "metadata": {
    "execution": {
     "iopub.execute_input": "2020-09-29T19:12:45.907911Z",
     "iopub.status.busy": "2020-09-29T19:12:45.907223Z",
     "iopub.status.idle": "2020-09-29T19:12:46.555129Z",
     "shell.execute_reply": "2020-09-29T19:12:46.554562Z"
    },
    "papermill": {
     "duration": 0.6677,
     "end_time": "2020-09-29T19:12:46.555298",
     "exception": false,
     "start_time": "2020-09-29T19:12:45.887598",
     "status": "completed"
    },
    "tags": []
   },
   "outputs": [],
   "source": [
    "#hide\n",
    "\n",
    "## Import essential packages below\n",
    "\n",
    "import pandas as pd\n",
    "import numpy as np\n",
    "import requests\n",
    "import json\n",
    "import matplotlib.pyplot as plt\n",
    "import matplotlib.dates as mdates\n",
    "import matplotlib as mpl\n",
    "from IPython.core.display import display,HTML\n",
    "%matplotlib inline"
   ]
  },
  {
   "cell_type": "code",
   "execution_count": 2,
   "metadata": {
    "execution": {
     "iopub.execute_input": "2020-09-29T19:12:46.591301Z",
     "iopub.status.busy": "2020-09-29T19:12:46.590294Z",
     "iopub.status.idle": "2020-09-29T19:12:46.836019Z",
     "shell.execute_reply": "2020-09-29T19:12:46.836558Z"
    },
    "papermill": {
     "duration": 0.266004,
     "end_time": "2020-09-29T19:12:46.836737",
     "exception": false,
     "start_time": "2020-09-29T19:12:46.570733",
     "status": "completed"
    },
    "tags": []
   },
   "outputs": [
    {
     "data": {
      "text/plain": [
       "(600, 41)"
      ]
     },
     "execution_count": 2,
     "metadata": {},
     "output_type": "execute_result"
    }
   ],
   "source": [
    "#hide\n",
    "url = 'https://api.covid19india.org/csv/latest/state_wise_daily.csv'\n",
    "df = pd.read_csv(url)\n",
    "df.shape"
   ]
  },
  {
   "cell_type": "code",
   "execution_count": 3,
   "metadata": {
    "execution": {
     "iopub.execute_input": "2020-09-29T19:12:46.925434Z",
     "iopub.status.busy": "2020-09-29T19:12:46.924621Z",
     "iopub.status.idle": "2020-09-29T19:12:46.936799Z",
     "shell.execute_reply": "2020-09-29T19:12:46.937338Z"
    },
    "papermill": {
     "duration": 0.085595,
     "end_time": "2020-09-29T19:12:46.937522",
     "exception": false,
     "start_time": "2020-09-29T19:12:46.851927",
     "status": "completed"
    },
    "tags": []
   },
   "outputs": [
    {
     "data": {
      "text/html": [
       "<div>\n",
       "<style scoped>\n",
       "    .dataframe tbody tr th:only-of-type {\n",
       "        vertical-align: middle;\n",
       "    }\n",
       "\n",
       "    .dataframe tbody tr th {\n",
       "        vertical-align: top;\n",
       "    }\n",
       "\n",
       "    .dataframe thead th {\n",
       "        text-align: right;\n",
       "    }\n",
       "</style>\n",
       "<table border=\"1\" class=\"dataframe\">\n",
       "  <thead>\n",
       "    <tr style=\"text-align: right;\">\n",
       "      <th></th>\n",
       "      <th>Date</th>\n",
       "      <th>Status</th>\n",
       "      <th>TT</th>\n",
       "      <th>AN</th>\n",
       "      <th>AP</th>\n",
       "      <th>AR</th>\n",
       "      <th>AS</th>\n",
       "      <th>BR</th>\n",
       "      <th>CH</th>\n",
       "      <th>CT</th>\n",
       "      <th>...</th>\n",
       "      <th>PB</th>\n",
       "      <th>RJ</th>\n",
       "      <th>SK</th>\n",
       "      <th>TN</th>\n",
       "      <th>TG</th>\n",
       "      <th>TR</th>\n",
       "      <th>UP</th>\n",
       "      <th>UT</th>\n",
       "      <th>WB</th>\n",
       "      <th>UN</th>\n",
       "    </tr>\n",
       "  </thead>\n",
       "  <tbody>\n",
       "    <tr>\n",
       "      <th>594</th>\n",
       "      <td>28-Sep-20</td>\n",
       "      <td>Confirmed</td>\n",
       "      <td>69668</td>\n",
       "      <td>9</td>\n",
       "      <td>5487</td>\n",
       "      <td>328</td>\n",
       "      <td>3644</td>\n",
       "      <td>1150</td>\n",
       "      <td>125</td>\n",
       "      <td>3725</td>\n",
       "      <td>...</td>\n",
       "      <td>1269</td>\n",
       "      <td>2112</td>\n",
       "      <td>25</td>\n",
       "      <td>5589</td>\n",
       "      <td>1378</td>\n",
       "      <td>193</td>\n",
       "      <td>3790</td>\n",
       "      <td>457</td>\n",
       "      <td>3155</td>\n",
       "      <td>0</td>\n",
       "    </tr>\n",
       "    <tr>\n",
       "      <th>595</th>\n",
       "      <td>28-Sep-20</td>\n",
       "      <td>Recovered</td>\n",
       "      <td>85194</td>\n",
       "      <td>29</td>\n",
       "      <td>7210</td>\n",
       "      <td>97</td>\n",
       "      <td>2320</td>\n",
       "      <td>1651</td>\n",
       "      <td>222</td>\n",
       "      <td>2313</td>\n",
       "      <td>...</td>\n",
       "      <td>2033</td>\n",
       "      <td>1754</td>\n",
       "      <td>18</td>\n",
       "      <td>5554</td>\n",
       "      <td>1932</td>\n",
       "      <td>567</td>\n",
       "      <td>5382</td>\n",
       "      <td>1184</td>\n",
       "      <td>2923</td>\n",
       "      <td>0</td>\n",
       "    </tr>\n",
       "    <tr>\n",
       "      <th>596</th>\n",
       "      <td>28-Sep-20</td>\n",
       "      <td>Deceased</td>\n",
       "      <td>775</td>\n",
       "      <td>0</td>\n",
       "      <td>37</td>\n",
       "      <td>1</td>\n",
       "      <td>12</td>\n",
       "      <td>4</td>\n",
       "      <td>6</td>\n",
       "      <td>29</td>\n",
       "      <td>...</td>\n",
       "      <td>46</td>\n",
       "      <td>15</td>\n",
       "      <td>2</td>\n",
       "      <td>70</td>\n",
       "      <td>7</td>\n",
       "      <td>3</td>\n",
       "      <td>58</td>\n",
       "      <td>6</td>\n",
       "      <td>56</td>\n",
       "      <td>0</td>\n",
       "    </tr>\n",
       "    <tr>\n",
       "      <th>597</th>\n",
       "      <td>29-Sep-20</td>\n",
       "      <td>Confirmed</td>\n",
       "      <td>80500</td>\n",
       "      <td>18</td>\n",
       "      <td>6190</td>\n",
       "      <td>221</td>\n",
       "      <td>3592</td>\n",
       "      <td>1439</td>\n",
       "      <td>138</td>\n",
       "      <td>2197</td>\n",
       "      <td>...</td>\n",
       "      <td>1085</td>\n",
       "      <td>2148</td>\n",
       "      <td>41</td>\n",
       "      <td>5546</td>\n",
       "      <td>2072</td>\n",
       "      <td>432</td>\n",
       "      <td>3981</td>\n",
       "      <td>493</td>\n",
       "      <td>3188</td>\n",
       "      <td>0</td>\n",
       "    </tr>\n",
       "    <tr>\n",
       "      <th>598</th>\n",
       "      <td>29-Sep-20</td>\n",
       "      <td>Recovered</td>\n",
       "      <td>86061</td>\n",
       "      <td>5</td>\n",
       "      <td>9836</td>\n",
       "      <td>151</td>\n",
       "      <td>1702</td>\n",
       "      <td>1702</td>\n",
       "      <td>273</td>\n",
       "      <td>3977</td>\n",
       "      <td>...</td>\n",
       "      <td>1932</td>\n",
       "      <td>1800</td>\n",
       "      <td>71</td>\n",
       "      <td>5501</td>\n",
       "      <td>2259</td>\n",
       "      <td>244</td>\n",
       "      <td>5711</td>\n",
       "      <td>1413</td>\n",
       "      <td>2961</td>\n",
       "      <td>0</td>\n",
       "    </tr>\n",
       "    <tr>\n",
       "      <th>599</th>\n",
       "      <td>29-Sep-20</td>\n",
       "      <td>Deceased</td>\n",
       "      <td>1178</td>\n",
       "      <td>0</td>\n",
       "      <td>35</td>\n",
       "      <td>1</td>\n",
       "      <td>13</td>\n",
       "      <td>2</td>\n",
       "      <td>5</td>\n",
       "      <td>39</td>\n",
       "      <td>...</td>\n",
       "      <td>75</td>\n",
       "      <td>15</td>\n",
       "      <td>0</td>\n",
       "      <td>70</td>\n",
       "      <td>9</td>\n",
       "      <td>3</td>\n",
       "      <td>63</td>\n",
       "      <td>11</td>\n",
       "      <td>62</td>\n",
       "      <td>0</td>\n",
       "    </tr>\n",
       "  </tbody>\n",
       "</table>\n",
       "<p>6 rows × 41 columns</p>\n",
       "</div>"
      ],
      "text/plain": [
       "          Date     Status     TT  AN    AP   AR    AS    BR   CH    CT  ...  \\\n",
       "594  28-Sep-20  Confirmed  69668   9  5487  328  3644  1150  125  3725  ...   \n",
       "595  28-Sep-20  Recovered  85194  29  7210   97  2320  1651  222  2313  ...   \n",
       "596  28-Sep-20   Deceased    775   0    37    1    12     4    6    29  ...   \n",
       "597  29-Sep-20  Confirmed  80500  18  6190  221  3592  1439  138  2197  ...   \n",
       "598  29-Sep-20  Recovered  86061   5  9836  151  1702  1702  273  3977  ...   \n",
       "599  29-Sep-20   Deceased   1178   0    35    1    13     2    5    39  ...   \n",
       "\n",
       "       PB    RJ  SK    TN    TG   TR    UP    UT    WB  UN  \n",
       "594  1269  2112  25  5589  1378  193  3790   457  3155   0  \n",
       "595  2033  1754  18  5554  1932  567  5382  1184  2923   0  \n",
       "596    46    15   2    70     7    3    58     6    56   0  \n",
       "597  1085  2148  41  5546  2072  432  3981   493  3188   0  \n",
       "598  1932  1800  71  5501  2259  244  5711  1413  2961   0  \n",
       "599    75    15   0    70     9    3    63    11    62   0  \n",
       "\n",
       "[6 rows x 41 columns]"
      ]
     },
     "execution_count": 3,
     "metadata": {},
     "output_type": "execute_result"
    }
   ],
   "source": [
    "#hide\n",
    "df.tail(6)"
   ]
  },
  {
   "cell_type": "code",
   "execution_count": 4,
   "metadata": {
    "execution": {
     "iopub.execute_input": "2020-09-29T19:12:46.974868Z",
     "iopub.status.busy": "2020-09-29T19:12:46.974207Z",
     "iopub.status.idle": "2020-09-29T19:12:46.977821Z",
     "shell.execute_reply": "2020-09-29T19:12:46.977142Z"
    },
    "papermill": {
     "duration": 0.024976,
     "end_time": "2020-09-29T19:12:46.978169",
     "exception": false,
     "start_time": "2020-09-29T19:12:46.953193",
     "status": "completed"
    },
    "tags": []
   },
   "outputs": [
    {
     "data": {
      "text/plain": [
       "('29-Sep-20', '28-Sep-20')"
      ]
     },
     "execution_count": 4,
     "metadata": {},
     "output_type": "execute_result"
    }
   ],
   "source": [
    "#hide\n",
    "dt_today = df.iloc[-1][0]\n",
    "dt_yday = df.iloc[-4][0]\n",
    "dt_today, dt_yday"
   ]
  },
  {
   "cell_type": "code",
   "execution_count": 5,
   "metadata": {
    "execution": {
     "iopub.execute_input": "2020-09-29T19:12:47.019932Z",
     "iopub.status.busy": "2020-09-29T19:12:47.019264Z",
     "iopub.status.idle": "2020-09-29T19:12:47.026052Z",
     "shell.execute_reply": "2020-09-29T19:12:47.026680Z"
    },
    "papermill": {
     "duration": 0.033742,
     "end_time": "2020-09-29T19:12:47.026852",
     "exception": false,
     "start_time": "2020-09-29T19:12:46.993110",
     "status": "completed"
    },
    "tags": []
   },
   "outputs": [],
   "source": [
    "#hide\n",
    "df_today = df.groupby('Status').sum()\n",
    "df_yday = df.iloc[:-3][:].groupby('Status').sum()"
   ]
  },
  {
   "cell_type": "code",
   "execution_count": 6,
   "metadata": {
    "execution": {
     "iopub.execute_input": "2020-09-29T19:12:47.073819Z",
     "iopub.status.busy": "2020-09-29T19:12:47.073136Z",
     "iopub.status.idle": "2020-09-29T19:12:47.076876Z",
     "shell.execute_reply": "2020-09-29T19:12:47.076316Z"
    },
    "papermill": {
     "duration": 0.034569,
     "end_time": "2020-09-29T19:12:47.077023",
     "exception": false,
     "start_time": "2020-09-29T19:12:47.042454",
     "status": "completed"
    },
    "tags": []
   },
   "outputs": [
    {
     "data": {
      "text/html": [
       "<div>\n",
       "<style scoped>\n",
       "    .dataframe tbody tr th:only-of-type {\n",
       "        vertical-align: middle;\n",
       "    }\n",
       "\n",
       "    .dataframe tbody tr th {\n",
       "        vertical-align: top;\n",
       "    }\n",
       "\n",
       "    .dataframe thead th {\n",
       "        text-align: right;\n",
       "    }\n",
       "</style>\n",
       "<table border=\"1\" class=\"dataframe\">\n",
       "  <thead>\n",
       "    <tr style=\"text-align: right;\">\n",
       "      <th></th>\n",
       "      <th>TT</th>\n",
       "      <th>AN</th>\n",
       "      <th>AP</th>\n",
       "      <th>AR</th>\n",
       "      <th>AS</th>\n",
       "      <th>BR</th>\n",
       "      <th>CH</th>\n",
       "      <th>CT</th>\n",
       "      <th>DN</th>\n",
       "      <th>DD</th>\n",
       "      <th>...</th>\n",
       "      <th>PB</th>\n",
       "      <th>RJ</th>\n",
       "      <th>SK</th>\n",
       "      <th>TN</th>\n",
       "      <th>TG</th>\n",
       "      <th>TR</th>\n",
       "      <th>UP</th>\n",
       "      <th>UT</th>\n",
       "      <th>WB</th>\n",
       "      <th>UN</th>\n",
       "    </tr>\n",
       "    <tr>\n",
       "      <th>Status</th>\n",
       "      <th></th>\n",
       "      <th></th>\n",
       "      <th></th>\n",
       "      <th></th>\n",
       "      <th></th>\n",
       "      <th></th>\n",
       "      <th></th>\n",
       "      <th></th>\n",
       "      <th></th>\n",
       "      <th></th>\n",
       "      <th></th>\n",
       "      <th></th>\n",
       "      <th></th>\n",
       "      <th></th>\n",
       "      <th></th>\n",
       "      <th></th>\n",
       "      <th></th>\n",
       "      <th></th>\n",
       "      <th></th>\n",
       "      <th></th>\n",
       "      <th></th>\n",
       "    </tr>\n",
       "  </thead>\n",
       "  <tbody>\n",
       "    <tr>\n",
       "      <th>Confirmed</th>\n",
       "      <td>6222886</td>\n",
       "      <td>3817</td>\n",
       "      <td>687351</td>\n",
       "      <td>9553</td>\n",
       "      <td>177119</td>\n",
       "      <td>181471</td>\n",
       "      <td>11816</td>\n",
       "      <td>110655</td>\n",
       "      <td>3031</td>\n",
       "      <td>0</td>\n",
       "      <td>...</td>\n",
       "      <td>112460</td>\n",
       "      <td>133119</td>\n",
       "      <td>2869</td>\n",
       "      <td>591943</td>\n",
       "      <td>188773</td>\n",
       "      <td>25350</td>\n",
       "      <td>394856</td>\n",
       "      <td>47995</td>\n",
       "      <td>253768</td>\n",
       "      <td>0</td>\n",
       "    </tr>\n",
       "    <tr>\n",
       "      <th>Deceased</th>\n",
       "      <td>96942</td>\n",
       "      <td>53</td>\n",
       "      <td>5780</td>\n",
       "      <td>16</td>\n",
       "      <td>684</td>\n",
       "      <td>894</td>\n",
       "      <td>158</td>\n",
       "      <td>916</td>\n",
       "      <td>2</td>\n",
       "      <td>0</td>\n",
       "      <td>...</td>\n",
       "      <td>3359</td>\n",
       "      <td>1471</td>\n",
       "      <td>35</td>\n",
       "      <td>9453</td>\n",
       "      <td>1116</td>\n",
       "      <td>273</td>\n",
       "      <td>5715</td>\n",
       "      <td>591</td>\n",
       "      <td>4899</td>\n",
       "      <td>0</td>\n",
       "    </tr>\n",
       "    <tr>\n",
       "      <th>Recovered</th>\n",
       "      <td>5184616</td>\n",
       "      <td>3578</td>\n",
       "      <td>622136</td>\n",
       "      <td>6743</td>\n",
       "      <td>143999</td>\n",
       "      <td>167890</td>\n",
       "      <td>9598</td>\n",
       "      <td>78514</td>\n",
       "      <td>2858</td>\n",
       "      <td>0</td>\n",
       "      <td>...</td>\n",
       "      <td>92277</td>\n",
       "      <td>111272</td>\n",
       "      <td>2155</td>\n",
       "      <td>536209</td>\n",
       "      <td>158690</td>\n",
       "      <td>19180</td>\n",
       "      <td>336981</td>\n",
       "      <td>38059</td>\n",
       "      <td>222805</td>\n",
       "      <td>0</td>\n",
       "    </tr>\n",
       "  </tbody>\n",
       "</table>\n",
       "<p>3 rows × 39 columns</p>\n",
       "</div>"
      ],
      "text/plain": [
       "                TT    AN      AP    AR      AS      BR     CH      CT    DN  \\\n",
       "Status                                                                        \n",
       "Confirmed  6222886  3817  687351  9553  177119  181471  11816  110655  3031   \n",
       "Deceased     96942    53    5780    16     684     894    158     916     2   \n",
       "Recovered  5184616  3578  622136  6743  143999  167890   9598   78514  2858   \n",
       "\n",
       "           DD  ...      PB      RJ    SK      TN      TG     TR      UP  \\\n",
       "Status         ...                                                        \n",
       "Confirmed   0  ...  112460  133119  2869  591943  188773  25350  394856   \n",
       "Deceased    0  ...    3359    1471    35    9453    1116    273    5715   \n",
       "Recovered   0  ...   92277  111272  2155  536209  158690  19180  336981   \n",
       "\n",
       "              UT      WB  UN  \n",
       "Status                        \n",
       "Confirmed  47995  253768   0  \n",
       "Deceased     591    4899   0  \n",
       "Recovered  38059  222805   0  \n",
       "\n",
       "[3 rows x 39 columns]"
      ]
     },
     "execution_count": 6,
     "metadata": {},
     "output_type": "execute_result"
    }
   ],
   "source": [
    "#hide\n",
    "df_today"
   ]
  },
  {
   "cell_type": "code",
   "execution_count": 7,
   "metadata": {
    "execution": {
     "iopub.execute_input": "2020-09-29T19:12:47.123749Z",
     "iopub.status.busy": "2020-09-29T19:12:47.123102Z",
     "iopub.status.idle": "2020-09-29T19:12:47.127134Z",
     "shell.execute_reply": "2020-09-29T19:12:47.126612Z"
    },
    "papermill": {
     "duration": 0.034793,
     "end_time": "2020-09-29T19:12:47.127267",
     "exception": false,
     "start_time": "2020-09-29T19:12:47.092474",
     "status": "completed"
    },
    "tags": []
   },
   "outputs": [
    {
     "data": {
      "text/html": [
       "<div>\n",
       "<style scoped>\n",
       "    .dataframe tbody tr th:only-of-type {\n",
       "        vertical-align: middle;\n",
       "    }\n",
       "\n",
       "    .dataframe tbody tr th {\n",
       "        vertical-align: top;\n",
       "    }\n",
       "\n",
       "    .dataframe thead th {\n",
       "        text-align: right;\n",
       "    }\n",
       "</style>\n",
       "<table border=\"1\" class=\"dataframe\">\n",
       "  <thead>\n",
       "    <tr style=\"text-align: right;\">\n",
       "      <th></th>\n",
       "      <th>TT</th>\n",
       "      <th>AN</th>\n",
       "      <th>AP</th>\n",
       "      <th>AR</th>\n",
       "      <th>AS</th>\n",
       "      <th>BR</th>\n",
       "      <th>CH</th>\n",
       "      <th>CT</th>\n",
       "      <th>DN</th>\n",
       "      <th>DD</th>\n",
       "      <th>...</th>\n",
       "      <th>PB</th>\n",
       "      <th>RJ</th>\n",
       "      <th>SK</th>\n",
       "      <th>TN</th>\n",
       "      <th>TG</th>\n",
       "      <th>TR</th>\n",
       "      <th>UP</th>\n",
       "      <th>UT</th>\n",
       "      <th>WB</th>\n",
       "      <th>UN</th>\n",
       "    </tr>\n",
       "    <tr>\n",
       "      <th>Status</th>\n",
       "      <th></th>\n",
       "      <th></th>\n",
       "      <th></th>\n",
       "      <th></th>\n",
       "      <th></th>\n",
       "      <th></th>\n",
       "      <th></th>\n",
       "      <th></th>\n",
       "      <th></th>\n",
       "      <th></th>\n",
       "      <th></th>\n",
       "      <th></th>\n",
       "      <th></th>\n",
       "      <th></th>\n",
       "      <th></th>\n",
       "      <th></th>\n",
       "      <th></th>\n",
       "      <th></th>\n",
       "      <th></th>\n",
       "      <th></th>\n",
       "      <th></th>\n",
       "    </tr>\n",
       "  </thead>\n",
       "  <tbody>\n",
       "    <tr>\n",
       "      <th>Confirmed</th>\n",
       "      <td>6142386</td>\n",
       "      <td>3799</td>\n",
       "      <td>681161</td>\n",
       "      <td>9332</td>\n",
       "      <td>173527</td>\n",
       "      <td>180032</td>\n",
       "      <td>11678</td>\n",
       "      <td>108458</td>\n",
       "      <td>3011</td>\n",
       "      <td>0</td>\n",
       "      <td>...</td>\n",
       "      <td>111375</td>\n",
       "      <td>130971</td>\n",
       "      <td>2828</td>\n",
       "      <td>586397</td>\n",
       "      <td>186701</td>\n",
       "      <td>24918</td>\n",
       "      <td>390875</td>\n",
       "      <td>47502</td>\n",
       "      <td>250580</td>\n",
       "      <td>0</td>\n",
       "    </tr>\n",
       "    <tr>\n",
       "      <th>Deceased</th>\n",
       "      <td>95764</td>\n",
       "      <td>53</td>\n",
       "      <td>5745</td>\n",
       "      <td>15</td>\n",
       "      <td>671</td>\n",
       "      <td>892</td>\n",
       "      <td>153</td>\n",
       "      <td>877</td>\n",
       "      <td>2</td>\n",
       "      <td>0</td>\n",
       "      <td>...</td>\n",
       "      <td>3284</td>\n",
       "      <td>1456</td>\n",
       "      <td>35</td>\n",
       "      <td>9383</td>\n",
       "      <td>1107</td>\n",
       "      <td>270</td>\n",
       "      <td>5652</td>\n",
       "      <td>580</td>\n",
       "      <td>4837</td>\n",
       "      <td>0</td>\n",
       "    </tr>\n",
       "    <tr>\n",
       "      <th>Recovered</th>\n",
       "      <td>5098555</td>\n",
       "      <td>3573</td>\n",
       "      <td>612300</td>\n",
       "      <td>6592</td>\n",
       "      <td>142297</td>\n",
       "      <td>166188</td>\n",
       "      <td>9325</td>\n",
       "      <td>74537</td>\n",
       "      <td>2825</td>\n",
       "      <td>0</td>\n",
       "      <td>...</td>\n",
       "      <td>90345</td>\n",
       "      <td>109472</td>\n",
       "      <td>2084</td>\n",
       "      <td>530708</td>\n",
       "      <td>156431</td>\n",
       "      <td>18936</td>\n",
       "      <td>331270</td>\n",
       "      <td>36646</td>\n",
       "      <td>219844</td>\n",
       "      <td>0</td>\n",
       "    </tr>\n",
       "  </tbody>\n",
       "</table>\n",
       "<p>3 rows × 39 columns</p>\n",
       "</div>"
      ],
      "text/plain": [
       "                TT    AN      AP    AR      AS      BR     CH      CT    DN  \\\n",
       "Status                                                                        \n",
       "Confirmed  6142386  3799  681161  9332  173527  180032  11678  108458  3011   \n",
       "Deceased     95764    53    5745    15     671     892    153     877     2   \n",
       "Recovered  5098555  3573  612300  6592  142297  166188   9325   74537  2825   \n",
       "\n",
       "           DD  ...      PB      RJ    SK      TN      TG     TR      UP  \\\n",
       "Status         ...                                                        \n",
       "Confirmed   0  ...  111375  130971  2828  586397  186701  24918  390875   \n",
       "Deceased    0  ...    3284    1456    35    9383    1107    270    5652   \n",
       "Recovered   0  ...   90345  109472  2084  530708  156431  18936  331270   \n",
       "\n",
       "              UT      WB  UN  \n",
       "Status                        \n",
       "Confirmed  47502  250580   0  \n",
       "Deceased     580    4837   0  \n",
       "Recovered  36646  219844   0  \n",
       "\n",
       "[3 rows x 39 columns]"
      ]
     },
     "execution_count": 7,
     "metadata": {},
     "output_type": "execute_result"
    }
   ],
   "source": [
    "#hide\n",
    "df_yday.head()"
   ]
  },
  {
   "cell_type": "code",
   "execution_count": 8,
   "metadata": {
    "execution": {
     "iopub.execute_input": "2020-09-29T19:12:47.165403Z",
     "iopub.status.busy": "2020-09-29T19:12:47.164684Z",
     "iopub.status.idle": "2020-09-29T19:12:47.167596Z",
     "shell.execute_reply": "2020-09-29T19:12:47.168094Z"
    },
    "papermill": {
     "duration": 0.025391,
     "end_time": "2020-09-29T19:12:47.168245",
     "exception": false,
     "start_time": "2020-09-29T19:12:47.142854",
     "status": "completed"
    },
    "tags": []
   },
   "outputs": [
    {
     "data": {
      "text/plain": [
       "{'updated': '29-Sep-20',\n",
       " 'since': '28-Sep-20',\n",
       " 'Cases': 6222886,\n",
       " 'Deaths': 96942,\n",
       " 'Recovered': 5184616,\n",
       " 'PCases': 6142386,\n",
       " 'PDeaths': 95764,\n",
       " 'PRecovered': 5098555,\n",
       " 'Cases (+)': 80500,\n",
       " 'Deaths (+)': 1178,\n",
       " 'Recovered (+)': 86061}"
      ]
     },
     "execution_count": 8,
     "metadata": {},
     "output_type": "execute_result"
    }
   ],
   "source": [
    "#hide\n",
    "summary = {\n",
    "    'updated' : dt_today,\n",
    "    'since' : dt_yday,\n",
    "    'Cases' : df_today['TT'][0],\n",
    "    'Deaths' : df_today['TT'][1],\n",
    "    'Recovered' : df_today['TT'][2],\n",
    "    'PCases' : df_yday['TT'][0],\n",
    "    'PDeaths' : df_yday['TT'][1],\n",
    "    'PRecovered': df_yday['TT'][2],\n",
    "    'Cases (+)' : df_today['TT'][0] - df_yday['TT'][0],\n",
    "    'Deaths (+)' : df_today['TT'][1] - df_yday['TT'][1],\n",
    "    'Recovered (+)': df_today['TT'][2] - df_yday['TT'][2]\n",
    "}\n",
    "\n",
    "summary"
   ]
  },
  {
   "cell_type": "code",
   "execution_count": 9,
   "metadata": {
    "execution": {
     "iopub.execute_input": "2020-09-29T19:12:47.203918Z",
     "iopub.status.busy": "2020-09-29T19:12:47.203195Z",
     "iopub.status.idle": "2020-09-29T19:12:47.205552Z",
     "shell.execute_reply": "2020-09-29T19:12:47.206111Z"
    },
    "papermill": {
     "duration": 0.022138,
     "end_time": "2020-09-29T19:12:47.206267",
     "exception": false,
     "start_time": "2020-09-29T19:12:47.184129",
     "status": "completed"
    },
    "tags": []
   },
   "outputs": [],
   "source": [
    "#hide\n",
    "overview = '''\n",
    "<!-- #######  HTML!! #########-->\n",
    "<h1 style=\"color: #5e9ca0; text-align: center;\">India</h1>\n",
    "<p style=\"text-align: center;\">Last update: <strong>{update}</strong></p>\n",
    "<p style=\"text-align: center;\">Confirmed cases:</p>\n",
    "<p style=\"text-align: center;font-size:24px;\">{cases} (<span style=\"color: #ff0000;\">+{new}</span>)</p>\n",
    "<p style=\"text-align: center;\">Confirmed deaths:</p>\n",
    "<p style=\"text-align: center;font-size:24px;\">{deaths} (<span style=\"color: #ff0000;\">+{dnew}</span>)</p>\n",
    "<p style=\"text-align: center;\">Recovered cases:</p>\n",
    "<p style=\"text-align: center;font-size:24px;\">{recovered} (<span style=\"color: #00ff00;\">+{rnew}</span>)</p>\n",
    "'''"
   ]
  },
  {
   "cell_type": "code",
   "execution_count": 10,
   "metadata": {
    "execution": {
     "iopub.execute_input": "2020-09-29T19:12:47.243252Z",
     "iopub.status.busy": "2020-09-29T19:12:47.242650Z",
     "iopub.status.idle": "2020-09-29T19:12:47.246427Z",
     "shell.execute_reply": "2020-09-29T19:12:47.246960Z"
    },
    "papermill": {
     "duration": 0.02516,
     "end_time": "2020-09-29T19:12:47.247128",
     "exception": false,
     "start_time": "2020-09-29T19:12:47.221968",
     "status": "completed"
    },
    "tags": []
   },
   "outputs": [
    {
     "data": {
      "text/html": [
       "\n",
       "<!-- #######  HTML!! #########-->\n",
       "<h1 style=\"color: #5e9ca0; text-align: center;\">India</h1>\n",
       "<p style=\"text-align: center;\">Last update: <strong>29-Sep-20</strong></p>\n",
       "<p style=\"text-align: center;\">Confirmed cases:</p>\n",
       "<p style=\"text-align: center;font-size:24px;\">6222886 (<span style=\"color: #ff0000;\">+80500</span>)</p>\n",
       "<p style=\"text-align: center;\">Confirmed deaths:</p>\n",
       "<p style=\"text-align: center;font-size:24px;\">96942 (<span style=\"color: #ff0000;\">+1178</span>)</p>\n",
       "<p style=\"text-align: center;\">Recovered cases:</p>\n",
       "<p style=\"text-align: center;font-size:24px;\">5184616 (<span style=\"color: #00ff00;\">+86061</span>)</p>\n"
      ],
      "text/plain": [
       "<IPython.core.display.HTML object>"
      ]
     },
     "metadata": {},
     "output_type": "display_data"
    }
   ],
   "source": [
    "#hide_input\n",
    "# Fill the above HTML with the information from the summary dictionary\n",
    "\n",
    "update = summary['updated']\n",
    "cases = summary['Cases']\n",
    "new = summary['Cases (+)']\n",
    "deaths = summary['Deaths']\n",
    "dnew = summary['Deaths (+)']\n",
    "recovered = summary['Recovered']\n",
    "rnew = summary['Recovered (+)']\n",
    "\n",
    "html = HTML(overview.format(update=update, cases=cases,new=new,deaths=deaths,dnew=dnew, recovered=recovered, rnew=rnew))\n",
    "\n",
    "display(html)"
   ]
  },
  {
   "cell_type": "code",
   "execution_count": 11,
   "metadata": {
    "execution": {
     "iopub.execute_input": "2020-09-29T19:12:47.285387Z",
     "iopub.status.busy": "2020-09-29T19:12:47.284639Z",
     "iopub.status.idle": "2020-09-29T19:12:47.292326Z",
     "shell.execute_reply": "2020-09-29T19:12:47.293002Z"
    },
    "papermill": {
     "duration": 0.029865,
     "end_time": "2020-09-29T19:12:47.293150",
     "exception": false,
     "start_time": "2020-09-29T19:12:47.263285",
     "status": "completed"
    },
    "tags": []
   },
   "outputs": [],
   "source": [
    "#hide\n",
    "df_cases = df[df['Status'] == 'Confirmed'].copy()\n",
    "df_cases.drop(columns = ['Status'], inplace=True)\n",
    "df_deaths = df[df['Status'] == 'Deceased'].copy()\n",
    "df_deaths.drop(columns = ['Status'], inplace=True)\n",
    "df_recovered = df[df['Status'] == 'Recovered'].copy()\n",
    "df_recovered.drop(columns = ['Status'], inplace=True)"
   ]
  },
  {
   "cell_type": "markdown",
   "metadata": {
    "papermill": {
     "duration": 0.016427,
     "end_time": "2020-09-29T19:12:47.326315",
     "exception": false,
     "start_time": "2020-09-29T19:12:47.309888",
     "status": "completed"
    },
    "tags": []
   },
   "source": [
    "Plot for India:"
   ]
  },
  {
   "cell_type": "code",
   "execution_count": 12,
   "metadata": {
    "execution": {
     "iopub.execute_input": "2020-09-29T19:12:47.381571Z",
     "iopub.status.busy": "2020-09-29T19:12:47.380899Z",
     "iopub.status.idle": "2020-09-29T19:12:47.668476Z",
     "shell.execute_reply": "2020-09-29T19:12:47.669042Z"
    },
    "papermill": {
     "duration": 0.326253,
     "end_time": "2020-09-29T19:12:47.669261",
     "exception": false,
     "start_time": "2020-09-29T19:12:47.343008",
     "status": "completed"
    },
    "tags": []
   },
   "outputs": [
    {
     "data": {
      "image/png": "[encoded data removed]",
      "text/plain": [
       "<Figure size 1296x432 with 1 Axes>"
      ]
     },
     "metadata": {
      "needs_background": "light"
     },
     "output_type": "display_data"
    }
   ],
   "source": [
    "#hide_input\n",
    "plt.figure(figsize = (18,6))\n",
    "plt.plot(df_cases['Date'], df_cases['TT'],'.-', alpha=0.7, color='b', label='Confirmed cases')\n",
    "plt.plot(df_recovered['Date'], df_recovered['TT'],'.-', alpha=0.7, color='g', label='Recovered')\n",
    "plt.plot(df_deaths['Date'], df_deaths['TT'],'.-', alpha=0.7, color='r', label='Deceased')\n",
    "plt.legend()\n",
    "plt.title(\"Cases per day in India\")\n",
    "plt.xticks(ticks=' ')\n",
    "plt.xlabel(f'{df_cases.iloc[0][0]} to {df_cases.iloc[-1][0]}')\n",
    "plt.ylabel('No. of cases');"
   ]
  },
  {
   "cell_type": "markdown",
   "metadata": {
    "papermill": {
     "duration": 0.018137,
     "end_time": "2020-09-29T19:12:47.705451",
     "exception": false,
     "start_time": "2020-09-29T19:12:47.687314",
     "status": "completed"
    },
    "tags": []
   },
   "source": [
    "Plots for the states with highest number of cases:"
   ]
  },
  {
   "cell_type": "code",
   "execution_count": 13,
   "metadata": {
    "execution": {
     "iopub.execute_input": "2020-09-29T19:12:47.751548Z",
     "iopub.status.busy": "2020-09-29T19:12:47.750864Z",
     "iopub.status.idle": "2020-09-29T19:12:48.467840Z",
     "shell.execute_reply": "2020-09-29T19:12:48.467258Z"
    },
    "papermill": {
     "duration": 0.744919,
     "end_time": "2020-09-29T19:12:48.467998",
     "exception": false,
     "start_time": "2020-09-29T19:12:47.723079",
     "status": "completed"
    },
    "tags": []
   },
   "outputs": [
    {
     "data": {
      "image/png": "[encoded data removed]",
      "text/plain": [
       "<Figure size 1512x432 with 3 Axes>"
      ]
     },
     "metadata": {
      "needs_background": "light"
     },
     "output_type": "display_data"
    }
   ],
   "source": [
    "#hide_input\n",
    "top_3 = sorted(df_cases.sum().values[1:], reverse=True)[1:4]\n",
    "top3_states=[]\n",
    "for i in top_3:\n",
    "    top3_states.append(df_cases.sum()[df_cases.sum() == i].index)\n",
    "\n",
    "\n",
    "fig, ax = plt.subplots(1,3,figsize = (21,6))\n",
    "for i in range(3):\n",
    "    state = top3_states[i].values[0]\n",
    "    ax[i].plot(df_cases['Date'], df_cases[state],'.-', color='b', alpha=0.7)\n",
    "    ax[i].plot(df_deaths['Date'], df_deaths[state],'.-', color='r', alpha=0.7)\n",
    "    ax[i].plot(df_recovered['Date'], df_recovered[state],'.-', color='g', alpha=0.7)\n",
    "    \n",
    "    ax[i].set_title(f\"Cases in {state}\")\n",
    "    ax[i].set_xticks(ticks=' ')\n",
    "    ax[i].set_xlabel(f'{df_cases.iloc[0][0]} to {df_cases.iloc[-1][0]}')\n",
    "    ax[i].set_ylabel('No. of cases');"
   ]
  },
  {
   "cell_type": "code",
   "execution_count": null,
   "metadata": {
    "papermill": {
     "duration": 0.100737,
     "end_time": "2020-09-29T19:12:48.589991",
     "exception": false,
     "start_time": "2020-09-29T19:12:48.489254",
     "status": "completed"
    },
    "tags": []
   },
   "outputs": [],
   "source": []
  },
  {
   "cell_type": "code",
   "execution_count": null,
   "metadata": {
    "papermill": {
     "duration": 0.019802,
     "end_time": "2020-09-29T19:12:48.630173",
     "exception": false,
     "start_time": "2020-09-29T19:12:48.610371",
     "status": "completed"
    },
    "tags": []
   },
   "outputs": [],
   "source": []
  },
  {
   "cell_type": "code",
   "execution_count": null,
   "metadata": {
    "papermill": {
     "duration": 0.022808,
     "end_time": "2020-09-29T19:12:48.678550",
     "exception": false,
     "start_time": "2020-09-29T19:12:48.655742",
     "status": "completed"
    },
    "tags": []
   },
   "outputs": [],
   "source": []
  }
 ],
 "metadata": {
  "kernelspec": {
   "display_name": "Python 3",
   "language": "python",
   "name": "python3"
  },
  "language_info": {
   "codemirror_mode": {
    "name": "ipython",
    "version": 3
   },
   "file_extension": ".py",
   "mimetype": "text/x-python",
   "name": "python",
   "nbconvert_exporter": "python",
   "pygments_lexer": "ipython3",
   "version": "3.6.12"
  },
  "papermill": {
   "duration": 4.259801,
   "end_time": "2020-09-29T19:12:49.009319",
   "environment_variables": {},
   "exception": null,
   "input_path": "2020-08-09-DailyUpdate.ipynb",
   "output_path": "2020-08-09-DailyUpdate.ipynb",
   "parameters": {},
   "start_time": "2020-09-29T19:12:44.749518",
   "version": "2.1.2"
  }
 },
 "nbformat": 4,
 "nbformat_minor": 4
}