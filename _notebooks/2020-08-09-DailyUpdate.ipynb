{
 "cells": [
  {
   "cell_type": "markdown",
   "metadata": {
    "tags": [
     "papermill-error-cell-tag"
    ]
   },
   "source": [
    "<span style=\"color:red; font-family:Helvetica Neue, Helvetica, Arial, sans-serif; font-size:2em;\">An Exception was encountered at '<a href=\"#papermill-error-cell\">In [13]</a>'.</span>"
   ]
  },
  {
   "cell_type": "markdown",
   "metadata": {
    "papermill": {
     "duration": 0.016235,
     "end_time": "2020-10-24T19:13:58.494842",
     "exception": false,
     "start_time": "2020-10-24T19:13:58.478607",
     "status": "completed"
    },
    "tags": []
   },
   "source": [
    "# COVID-19 India Daily updates\n",
    "> Tracking coronavirus total cases, deaths and new cases in India on a daily basis\n",
    "\n",
    "- author: Vaibhav Mahapatra"
   ]
  },
  {
   "cell_type": "code",
   "execution_count": 1,
   "metadata": {
    "execution": {
     "iopub.execute_input": "2020-10-24T19:13:58.526128Z",
     "iopub.status.busy": "2020-10-24T19:13:58.525418Z",
     "iopub.status.idle": "2020-10-24T19:13:59.110004Z",
     "shell.execute_reply": "2020-10-24T19:13:59.109435Z"
    },
    "papermill": {
     "duration": 0.602661,
     "end_time": "2020-10-24T19:13:59.110207",
     "exception": false,
     "start_time": "2020-10-24T19:13:58.507546",
     "status": "completed"
    },
    "tags": []
   },
   "outputs": [],
   "source": [
    "#hide\n",
    "\n",
    "## Import essential packages below\n",
    "\n",
    "import pandas as pd\n",
    "import numpy as np\n",
    "import requests\n",
    "import json\n",
    "import matplotlib.pyplot as plt\n",
    "import matplotlib.dates as mdates\n",
    "import matplotlib as mpl\n",
    "from IPython.core.display import display,HTML\n",
    "%matplotlib inline"
   ]
  },
  {
   "cell_type": "code",
   "execution_count": 2,
   "metadata": {
    "execution": {
     "iopub.execute_input": "2020-10-24T19:13:59.141163Z",
     "iopub.status.busy": "2020-10-24T19:13:59.140466Z",
     "iopub.status.idle": "2020-10-24T19:13:59.314421Z",
     "shell.execute_reply": "2020-10-24T19:13:59.314886Z"
    },
    "papermill": {
     "duration": 0.192778,
     "end_time": "2020-10-24T19:13:59.315053",
     "exception": false,
     "start_time": "2020-10-24T19:13:59.122275",
     "status": "completed"
    },
    "tags": []
   },
   "outputs": [
    {
     "data": {
      "text/plain": [
       "(675, 42)"
      ]
     },
     "execution_count": 2,
     "metadata": {},
     "output_type": "execute_result"
    }
   ],
   "source": [
    "#hide\n",
    "url = 'https://api.covid19india.org/csv/latest/state_wise_daily.csv'\n",
    "df = pd.read_csv(url)\n",
    "df.shape"
   ]
  },
  {
   "cell_type": "code",
   "execution_count": 3,
   "metadata": {
    "execution": {
     "iopub.execute_input": "2020-10-24T19:13:59.405171Z",
     "iopub.status.busy": "2020-10-24T19:13:59.397721Z",
     "iopub.status.idle": "2020-10-24T19:13:59.410437Z",
     "shell.execute_reply": "2020-10-24T19:13:59.410902Z"
    },
    "papermill": {
     "duration": 0.083307,
     "end_time": "2020-10-24T19:13:59.411069",
     "exception": false,
     "start_time": "2020-10-24T19:13:59.327762",
     "status": "completed"
    },
    "tags": []
   },
   "outputs": [
    {
     "data": {
      "text/html": [
       "<div>\n",
       "<style scoped>\n",
       "    .dataframe tbody tr th:only-of-type {\n",
       "        vertical-align: middle;\n",
       "    }\n",
       "\n",
       "    .dataframe tbody tr th {\n",
       "        vertical-align: top;\n",
       "    }\n",
       "\n",
       "    .dataframe thead th {\n",
       "        text-align: right;\n",
       "    }\n",
       "</style>\n",
       "<table border=\"1\" class=\"dataframe\">\n",
       "  <thead>\n",
       "    <tr style=\"text-align: right;\">\n",
       "      <th></th>\n",
       "      <th>Date</th>\n",
       "      <th>Date_YMD</th>\n",
       "      <th>Status</th>\n",
       "      <th>TT</th>\n",
       "      <th>AN</th>\n",
       "      <th>AP</th>\n",
       "      <th>AR</th>\n",
       "      <th>AS</th>\n",
       "      <th>BR</th>\n",
       "      <th>CH</th>\n",
       "      <th>...</th>\n",
       "      <th>PB</th>\n",
       "      <th>RJ</th>\n",
       "      <th>SK</th>\n",
       "      <th>TN</th>\n",
       "      <th>TG</th>\n",
       "      <th>TR</th>\n",
       "      <th>UP</th>\n",
       "      <th>UT</th>\n",
       "      <th>WB</th>\n",
       "      <th>UN</th>\n",
       "    </tr>\n",
       "  </thead>\n",
       "  <tbody>\n",
       "    <tr>\n",
       "      <th>669</th>\n",
       "      <td>23-Oct-20</td>\n",
       "      <td>2020-10-18</td>\n",
       "      <td>Confirmed</td>\n",
       "      <td>53935</td>\n",
       "      <td>23</td>\n",
       "      <td>3765</td>\n",
       "      <td>68</td>\n",
       "      <td>427</td>\n",
       "      <td>1093</td>\n",
       "      <td>72</td>\n",
       "      <td>...</td>\n",
       "      <td>464</td>\n",
       "      <td>1815</td>\n",
       "      <td>43</td>\n",
       "      <td>3057</td>\n",
       "      <td>1421</td>\n",
       "      <td>145</td>\n",
       "      <td>2202</td>\n",
       "      <td>288</td>\n",
       "      <td>4143</td>\n",
       "      <td>0</td>\n",
       "    </tr>\n",
       "    <tr>\n",
       "      <th>670</th>\n",
       "      <td>23-Oct-20</td>\n",
       "      <td>2020-10-18</td>\n",
       "      <td>Recovered</td>\n",
       "      <td>66994</td>\n",
       "      <td>8</td>\n",
       "      <td>4281</td>\n",
       "      <td>206</td>\n",
       "      <td>2184</td>\n",
       "      <td>1244</td>\n",
       "      <td>85</td>\n",
       "      <td>...</td>\n",
       "      <td>580</td>\n",
       "      <td>2367</td>\n",
       "      <td>55</td>\n",
       "      <td>4262</td>\n",
       "      <td>1221</td>\n",
       "      <td>250</td>\n",
       "      <td>3025</td>\n",
       "      <td>518</td>\n",
       "      <td>3676</td>\n",
       "      <td>0</td>\n",
       "    </tr>\n",
       "    <tr>\n",
       "      <th>671</th>\n",
       "      <td>23-Oct-20</td>\n",
       "      <td>2020-10-18</td>\n",
       "      <td>Deceased</td>\n",
       "      <td>655</td>\n",
       "      <td>1</td>\n",
       "      <td>20</td>\n",
       "      <td>1</td>\n",
       "      <td>4</td>\n",
       "      <td>8</td>\n",
       "      <td>2</td>\n",
       "      <td>...</td>\n",
       "      <td>23</td>\n",
       "      <td>14</td>\n",
       "      <td>0</td>\n",
       "      <td>33</td>\n",
       "      <td>6</td>\n",
       "      <td>5</td>\n",
       "      <td>40</td>\n",
       "      <td>11</td>\n",
       "      <td>60</td>\n",
       "      <td>0</td>\n",
       "    </tr>\n",
       "    <tr>\n",
       "      <th>672</th>\n",
       "      <td>24-Oct-20</td>\n",
       "      <td>2020-10-18</td>\n",
       "      <td>Confirmed</td>\n",
       "      <td>49782</td>\n",
       "      <td>0</td>\n",
       "      <td>3342</td>\n",
       "      <td>66</td>\n",
       "      <td>258</td>\n",
       "      <td>1054</td>\n",
       "      <td>57</td>\n",
       "      <td>...</td>\n",
       "      <td>483</td>\n",
       "      <td>1852</td>\n",
       "      <td>0</td>\n",
       "      <td>2886</td>\n",
       "      <td>1273</td>\n",
       "      <td>65</td>\n",
       "      <td>2178</td>\n",
       "      <td>0</td>\n",
       "      <td>4148</td>\n",
       "      <td>0</td>\n",
       "    </tr>\n",
       "    <tr>\n",
       "      <th>673</th>\n",
       "      <td>24-Oct-20</td>\n",
       "      <td>2020-10-18</td>\n",
       "      <td>Recovered</td>\n",
       "      <td>61548</td>\n",
       "      <td>0</td>\n",
       "      <td>3572</td>\n",
       "      <td>153</td>\n",
       "      <td>2948</td>\n",
       "      <td>1084</td>\n",
       "      <td>78</td>\n",
       "      <td>...</td>\n",
       "      <td>521</td>\n",
       "      <td>2515</td>\n",
       "      <td>0</td>\n",
       "      <td>4024</td>\n",
       "      <td>1708</td>\n",
       "      <td>238</td>\n",
       "      <td>2741</td>\n",
       "      <td>0</td>\n",
       "      <td>3753</td>\n",
       "      <td>0</td>\n",
       "    </tr>\n",
       "    <tr>\n",
       "      <th>674</th>\n",
       "      <td>24-Oct-20</td>\n",
       "      <td>2020-10-18</td>\n",
       "      <td>Deceased</td>\n",
       "      <td>566</td>\n",
       "      <td>0</td>\n",
       "      <td>22</td>\n",
       "      <td>0</td>\n",
       "      <td>2</td>\n",
       "      <td>8</td>\n",
       "      <td>2</td>\n",
       "      <td>...</td>\n",
       "      <td>12</td>\n",
       "      <td>12</td>\n",
       "      <td>0</td>\n",
       "      <td>35</td>\n",
       "      <td>5</td>\n",
       "      <td>1</td>\n",
       "      <td>24</td>\n",
       "      <td>0</td>\n",
       "      <td>59</td>\n",
       "      <td>0</td>\n",
       "    </tr>\n",
       "  </tbody>\n",
       "</table>\n",
       "<p>6 rows × 42 columns</p>\n",
       "</div>"
      ],
      "text/plain": [
       "          Date    Date_YMD     Status     TT  AN    AP   AR    AS    BR  CH  \\\n",
       "669  23-Oct-20  2020-10-18  Confirmed  53935  23  3765   68   427  1093  72   \n",
       "670  23-Oct-20  2020-10-18  Recovered  66994   8  4281  206  2184  1244  85   \n",
       "671  23-Oct-20  2020-10-18   Deceased    655   1    20    1     4     8   2   \n",
       "672  24-Oct-20  2020-10-18  Confirmed  49782   0  3342   66   258  1054  57   \n",
       "673  24-Oct-20  2020-10-18  Recovered  61548   0  3572  153  2948  1084  78   \n",
       "674  24-Oct-20  2020-10-18   Deceased    566   0    22    0     2     8   2   \n",
       "\n",
       "     ...   PB    RJ  SK    TN    TG   TR    UP   UT    WB  UN  \n",
       "669  ...  464  1815  43  3057  1421  145  2202  288  4143   0  \n",
       "670  ...  580  2367  55  4262  1221  250  3025  518  3676   0  \n",
       "671  ...   23    14   0    33     6    5    40   11    60   0  \n",
       "672  ...  483  1852   0  2886  1273   65  2178    0  4148   0  \n",
       "673  ...  521  2515   0  4024  1708  238  2741    0  3753   0  \n",
       "674  ...   12    12   0    35     5    1    24    0    59   0  \n",
       "\n",
       "[6 rows x 42 columns]"
      ]
     },
     "execution_count": 3,
     "metadata": {},
     "output_type": "execute_result"
    }
   ],
   "source": [
    "#hide\n",
    "df.tail(6)"
   ]
  },
  {
   "cell_type": "code",
   "execution_count": 4,
   "metadata": {
    "execution": {
     "iopub.execute_input": "2020-10-24T19:13:59.441880Z",
     "iopub.status.busy": "2020-10-24T19:13:59.441058Z",
     "iopub.status.idle": "2020-10-24T19:13:59.444216Z",
     "shell.execute_reply": "2020-10-24T19:13:59.444693Z"
    },
    "papermill": {
     "duration": 0.021182,
     "end_time": "2020-10-24T19:13:59.444823",
     "exception": false,
     "start_time": "2020-10-24T19:13:59.423641",
     "status": "completed"
    },
    "tags": []
   },
   "outputs": [
    {
     "data": {
      "text/plain": [
       "('24-Oct-20', '23-Oct-20')"
      ]
     },
     "execution_count": 4,
     "metadata": {},
     "output_type": "execute_result"
    }
   ],
   "source": [
    "#hide\n",
    "dt_today = df.iloc[-1][0]\n",
    "dt_yday = df.iloc[-4][0]\n",
    "dt_today, dt_yday"
   ]
  },
  {
   "cell_type": "code",
   "execution_count": 5,
   "metadata": {
    "execution": {
     "iopub.execute_input": "2020-10-24T19:13:59.475624Z",
     "iopub.status.busy": "2020-10-24T19:13:59.474998Z",
     "iopub.status.idle": "2020-10-24T19:13:59.481271Z",
     "shell.execute_reply": "2020-10-24T19:13:59.481751Z"
    },
    "papermill": {
     "duration": 0.024883,
     "end_time": "2020-10-24T19:13:59.481882",
     "exception": false,
     "start_time": "2020-10-24T19:13:59.456999",
     "status": "completed"
    },
    "tags": []
   },
   "outputs": [],
   "source": [
    "#hide\n",
    "df_today = df.groupby('Status').sum()\n",
    "df_yday = df.iloc[:-3][:].groupby('Status').sum()"
   ]
  },
  {
   "cell_type": "code",
   "execution_count": 6,
   "metadata": {
    "execution": {
     "iopub.execute_input": "2020-10-24T19:13:59.522817Z",
     "iopub.status.busy": "2020-10-24T19:13:59.522217Z",
     "iopub.status.idle": "2020-10-24T19:13:59.525070Z",
     "shell.execute_reply": "2020-10-24T19:13:59.525547Z"
    },
    "papermill": {
     "duration": 0.031578,
     "end_time": "2020-10-24T19:13:59.525678",
     "exception": false,
     "start_time": "2020-10-24T19:13:59.494100",
     "status": "completed"
    },
    "tags": []
   },
   "outputs": [
    {
     "data": {
      "text/html": [
       "<div>\n",
       "<style scoped>\n",
       "    .dataframe tbody tr th:only-of-type {\n",
       "        vertical-align: middle;\n",
       "    }\n",
       "\n",
       "    .dataframe tbody tr th {\n",
       "        vertical-align: top;\n",
       "    }\n",
       "\n",
       "    .dataframe thead th {\n",
       "        text-align: right;\n",
       "    }\n",
       "</style>\n",
       "<table border=\"1\" class=\"dataframe\">\n",
       "  <thead>\n",
       "    <tr style=\"text-align: right;\">\n",
       "      <th></th>\n",
       "      <th>TT</th>\n",
       "      <th>AN</th>\n",
       "      <th>AP</th>\n",
       "      <th>AR</th>\n",
       "      <th>AS</th>\n",
       "      <th>BR</th>\n",
       "      <th>CH</th>\n",
       "      <th>CT</th>\n",
       "      <th>DN</th>\n",
       "      <th>DD</th>\n",
       "      <th>...</th>\n",
       "      <th>PB</th>\n",
       "      <th>RJ</th>\n",
       "      <th>SK</th>\n",
       "      <th>TN</th>\n",
       "      <th>TG</th>\n",
       "      <th>TR</th>\n",
       "      <th>UP</th>\n",
       "      <th>UT</th>\n",
       "      <th>WB</th>\n",
       "      <th>UN</th>\n",
       "    </tr>\n",
       "    <tr>\n",
       "      <th>Status</th>\n",
       "      <th></th>\n",
       "      <th></th>\n",
       "      <th></th>\n",
       "      <th></th>\n",
       "      <th></th>\n",
       "      <th></th>\n",
       "      <th></th>\n",
       "      <th></th>\n",
       "      <th></th>\n",
       "      <th></th>\n",
       "      <th></th>\n",
       "      <th></th>\n",
       "      <th></th>\n",
       "      <th></th>\n",
       "      <th></th>\n",
       "      <th></th>\n",
       "      <th></th>\n",
       "      <th></th>\n",
       "      <th></th>\n",
       "      <th></th>\n",
       "      <th></th>\n",
       "    </tr>\n",
       "  </thead>\n",
       "  <tbody>\n",
       "    <tr>\n",
       "      <th>Confirmed</th>\n",
       "      <td>7862817</td>\n",
       "      <td>4203</td>\n",
       "      <td>804026</td>\n",
       "      <td>14211</td>\n",
       "      <td>203865</td>\n",
       "      <td>211443</td>\n",
       "      <td>13977</td>\n",
       "      <td>174591</td>\n",
       "      <td>3218</td>\n",
       "      <td>0</td>\n",
       "      <td>...</td>\n",
       "      <td>130640</td>\n",
       "      <td>184422</td>\n",
       "      <td>3783</td>\n",
       "      <td>706136</td>\n",
       "      <td>229764</td>\n",
       "      <td>30132</td>\n",
       "      <td>468238</td>\n",
       "      <td>59796</td>\n",
       "      <td>345574</td>\n",
       "      <td>0</td>\n",
       "    </tr>\n",
       "    <tr>\n",
       "      <th>Deceased</th>\n",
       "      <td>117971</td>\n",
       "      <td>58</td>\n",
       "      <td>6566</td>\n",
       "      <td>33</td>\n",
       "      <td>906</td>\n",
       "      <td>1042</td>\n",
       "      <td>216</td>\n",
       "      <td>1793</td>\n",
       "      <td>2</td>\n",
       "      <td>0</td>\n",
       "      <td>...</td>\n",
       "      <td>4107</td>\n",
       "      <td>1826</td>\n",
       "      <td>63</td>\n",
       "      <td>10893</td>\n",
       "      <td>1303</td>\n",
       "      <td>337</td>\n",
       "      <td>6854</td>\n",
       "      <td>979</td>\n",
       "      <td>6427</td>\n",
       "      <td>0</td>\n",
       "    </tr>\n",
       "    <tr>\n",
       "      <th>Recovered</th>\n",
       "      <td>7075089</td>\n",
       "      <td>3936</td>\n",
       "      <td>765991</td>\n",
       "      <td>11766</td>\n",
       "      <td>182791</td>\n",
       "      <td>199521</td>\n",
       "      <td>13087</td>\n",
       "      <td>148899</td>\n",
       "      <td>3123</td>\n",
       "      <td>0</td>\n",
       "      <td>...</td>\n",
       "      <td>122256</td>\n",
       "      <td>165496</td>\n",
       "      <td>3384</td>\n",
       "      <td>663456</td>\n",
       "      <td>209034</td>\n",
       "      <td>27717</td>\n",
       "      <td>433703</td>\n",
       "      <td>53718</td>\n",
       "      <td>302340</td>\n",
       "      <td>0</td>\n",
       "    </tr>\n",
       "  </tbody>\n",
       "</table>\n",
       "<p>3 rows × 39 columns</p>\n",
       "</div>"
      ],
      "text/plain": [
       "                TT    AN      AP     AR      AS      BR     CH      CT    DN  \\\n",
       "Status                                                                         \n",
       "Confirmed  7862817  4203  804026  14211  203865  211443  13977  174591  3218   \n",
       "Deceased    117971    58    6566     33     906    1042    216    1793     2   \n",
       "Recovered  7075089  3936  765991  11766  182791  199521  13087  148899  3123   \n",
       "\n",
       "           DD  ...      PB      RJ    SK      TN      TG     TR      UP  \\\n",
       "Status         ...                                                        \n",
       "Confirmed   0  ...  130640  184422  3783  706136  229764  30132  468238   \n",
       "Deceased    0  ...    4107    1826    63   10893    1303    337    6854   \n",
       "Recovered   0  ...  122256  165496  3384  663456  209034  27717  433703   \n",
       "\n",
       "              UT      WB  UN  \n",
       "Status                        \n",
       "Confirmed  59796  345574   0  \n",
       "Deceased     979    6427   0  \n",
       "Recovered  53718  302340   0  \n",
       "\n",
       "[3 rows x 39 columns]"
      ]
     },
     "execution_count": 6,
     "metadata": {},
     "output_type": "execute_result"
    }
   ],
   "source": [
    "#hide\n",
    "df_today"
   ]
  },
  {
   "cell_type": "code",
   "execution_count": 7,
   "metadata": {
    "execution": {
     "iopub.execute_input": "2020-10-24T19:13:59.556721Z",
     "iopub.status.busy": "2020-10-24T19:13:59.556095Z",
     "iopub.status.idle": "2020-10-24T19:13:59.570041Z",
     "shell.execute_reply": "2020-10-24T19:13:59.569569Z"
    },
    "papermill": {
     "duration": 0.031705,
     "end_time": "2020-10-24T19:13:59.570188",
     "exception": false,
     "start_time": "2020-10-24T19:13:59.538483",
     "status": "completed"
    },
    "tags": []
   },
   "outputs": [
    {
     "data": {
      "text/html": [
       "<div>\n",
       "<style scoped>\n",
       "    .dataframe tbody tr th:only-of-type {\n",
       "        vertical-align: middle;\n",
       "    }\n",
       "\n",
       "    .dataframe tbody tr th {\n",
       "        vertical-align: top;\n",
       "    }\n",
       "\n",
       "    .dataframe thead th {\n",
       "        text-align: right;\n",
       "    }\n",
       "</style>\n",
       "<table border=\"1\" class=\"dataframe\">\n",
       "  <thead>\n",
       "    <tr style=\"text-align: right;\">\n",
       "      <th></th>\n",
       "      <th>TT</th>\n",
       "      <th>AN</th>\n",
       "      <th>AP</th>\n",
       "      <th>AR</th>\n",
       "      <th>AS</th>\n",
       "      <th>BR</th>\n",
       "      <th>CH</th>\n",
       "      <th>CT</th>\n",
       "      <th>DN</th>\n",
       "      <th>DD</th>\n",
       "      <th>...</th>\n",
       "      <th>PB</th>\n",
       "      <th>RJ</th>\n",
       "      <th>SK</th>\n",
       "      <th>TN</th>\n",
       "      <th>TG</th>\n",
       "      <th>TR</th>\n",
       "      <th>UP</th>\n",
       "      <th>UT</th>\n",
       "      <th>WB</th>\n",
       "      <th>UN</th>\n",
       "    </tr>\n",
       "    <tr>\n",
       "      <th>Status</th>\n",
       "      <th></th>\n",
       "      <th></th>\n",
       "      <th></th>\n",
       "      <th></th>\n",
       "      <th></th>\n",
       "      <th></th>\n",
       "      <th></th>\n",
       "      <th></th>\n",
       "      <th></th>\n",
       "      <th></th>\n",
       "      <th></th>\n",
       "      <th></th>\n",
       "      <th></th>\n",
       "      <th></th>\n",
       "      <th></th>\n",
       "      <th></th>\n",
       "      <th></th>\n",
       "      <th></th>\n",
       "      <th></th>\n",
       "      <th></th>\n",
       "      <th></th>\n",
       "    </tr>\n",
       "  </thead>\n",
       "  <tbody>\n",
       "    <tr>\n",
       "      <th>Confirmed</th>\n",
       "      <td>7813035</td>\n",
       "      <td>4203</td>\n",
       "      <td>800684</td>\n",
       "      <td>14145</td>\n",
       "      <td>203607</td>\n",
       "      <td>210389</td>\n",
       "      <td>13920</td>\n",
       "      <td>172580</td>\n",
       "      <td>3216</td>\n",
       "      <td>0</td>\n",
       "      <td>...</td>\n",
       "      <td>130157</td>\n",
       "      <td>182570</td>\n",
       "      <td>3783</td>\n",
       "      <td>703250</td>\n",
       "      <td>228491</td>\n",
       "      <td>30067</td>\n",
       "      <td>466060</td>\n",
       "      <td>59796</td>\n",
       "      <td>341426</td>\n",
       "      <td>0</td>\n",
       "    </tr>\n",
       "    <tr>\n",
       "      <th>Deceased</th>\n",
       "      <td>117405</td>\n",
       "      <td>58</td>\n",
       "      <td>6544</td>\n",
       "      <td>33</td>\n",
       "      <td>904</td>\n",
       "      <td>1034</td>\n",
       "      <td>214</td>\n",
       "      <td>1738</td>\n",
       "      <td>2</td>\n",
       "      <td>0</td>\n",
       "      <td>...</td>\n",
       "      <td>4095</td>\n",
       "      <td>1814</td>\n",
       "      <td>63</td>\n",
       "      <td>10858</td>\n",
       "      <td>1298</td>\n",
       "      <td>336</td>\n",
       "      <td>6830</td>\n",
       "      <td>979</td>\n",
       "      <td>6368</td>\n",
       "      <td>0</td>\n",
       "    </tr>\n",
       "    <tr>\n",
       "      <th>Recovered</th>\n",
       "      <td>7013541</td>\n",
       "      <td>3936</td>\n",
       "      <td>762419</td>\n",
       "      <td>11613</td>\n",
       "      <td>179843</td>\n",
       "      <td>198437</td>\n",
       "      <td>13009</td>\n",
       "      <td>146222</td>\n",
       "      <td>3123</td>\n",
       "      <td>0</td>\n",
       "      <td>...</td>\n",
       "      <td>121735</td>\n",
       "      <td>162981</td>\n",
       "      <td>3384</td>\n",
       "      <td>659432</td>\n",
       "      <td>207326</td>\n",
       "      <td>27479</td>\n",
       "      <td>430962</td>\n",
       "      <td>53718</td>\n",
       "      <td>298587</td>\n",
       "      <td>0</td>\n",
       "    </tr>\n",
       "  </tbody>\n",
       "</table>\n",
       "<p>3 rows × 39 columns</p>\n",
       "</div>"
      ],
      "text/plain": [
       "                TT    AN      AP     AR      AS      BR     CH      CT    DN  \\\n",
       "Status                                                                         \n",
       "Confirmed  7813035  4203  800684  14145  203607  210389  13920  172580  3216   \n",
       "Deceased    117405    58    6544     33     904    1034    214    1738     2   \n",
       "Recovered  7013541  3936  762419  11613  179843  198437  13009  146222  3123   \n",
       "\n",
       "           DD  ...      PB      RJ    SK      TN      TG     TR      UP  \\\n",
       "Status         ...                                                        \n",
       "Confirmed   0  ...  130157  182570  3783  703250  228491  30067  466060   \n",
       "Deceased    0  ...    4095    1814    63   10858    1298    336    6830   \n",
       "Recovered   0  ...  121735  162981  3384  659432  207326  27479  430962   \n",
       "\n",
       "              UT      WB  UN  \n",
       "Status                        \n",
       "Confirmed  59796  341426   0  \n",
       "Deceased     979    6368   0  \n",
       "Recovered  53718  298587   0  \n",
       "\n",
       "[3 rows x 39 columns]"
      ]
     },
     "execution_count": 7,
     "metadata": {},
     "output_type": "execute_result"
    }
   ],
   "source": [
    "#hide\n",
    "df_yday.head()"
   ]
  },
  {
   "cell_type": "code",
   "execution_count": 8,
   "metadata": {
    "execution": {
     "iopub.execute_input": "2020-10-24T19:13:59.605823Z",
     "iopub.status.busy": "2020-10-24T19:13:59.605204Z",
     "iopub.status.idle": "2020-10-24T19:13:59.608350Z",
     "shell.execute_reply": "2020-10-24T19:13:59.607837Z"
    },
    "papermill": {
     "duration": 0.02506,
     "end_time": "2020-10-24T19:13:59.608489",
     "exception": false,
     "start_time": "2020-10-24T19:13:59.583429",
     "status": "completed"
    },
    "tags": []
   },
   "outputs": [
    {
     "data": {
      "text/plain": [
       "{'updated': '24-Oct-20',\n",
       " 'since': '23-Oct-20',\n",
       " 'Cases': 7862817,\n",
       " 'Deaths': 117971,\n",
       " 'Recovered': 7075089,\n",
       " 'PCases': 7813035,\n",
       " 'PDeaths': 117405,\n",
       " 'PRecovered': 7013541,\n",
       " 'Cases (+)': 49782,\n",
       " 'Deaths (+)': 566,\n",
       " 'Recovered (+)': 61548}"
      ]
     },
     "execution_count": 8,
     "metadata": {},
     "output_type": "execute_result"
    }
   ],
   "source": [
    "#hide\n",
    "summary = {\n",
    "    'updated' : dt_today,\n",
    "    'since' : dt_yday,\n",
    "    'Cases' : df_today['TT'][0],\n",
    "    'Deaths' : df_today['TT'][1],\n",
    "    'Recovered' : df_today['TT'][2],\n",
    "    'PCases' : df_yday['TT'][0],\n",
    "    'PDeaths' : df_yday['TT'][1],\n",
    "    'PRecovered': df_yday['TT'][2],\n",
    "    'Cases (+)' : df_today['TT'][0] - df_yday['TT'][0],\n",
    "    'Deaths (+)' : df_today['TT'][1] - df_yday['TT'][1],\n",
    "    'Recovered (+)': df_today['TT'][2] - df_yday['TT'][2]\n",
    "}\n",
    "\n",
    "summary"
   ]
  },
  {
   "cell_type": "code",
   "execution_count": 9,
   "metadata": {
    "execution": {
     "iopub.execute_input": "2020-10-24T19:13:59.641101Z",
     "iopub.status.busy": "2020-10-24T19:13:59.640474Z",
     "iopub.status.idle": "2020-10-24T19:13:59.642492Z",
     "shell.execute_reply": "2020-10-24T19:13:59.642972Z"
    },
    "papermill": {
     "duration": 0.020314,
     "end_time": "2020-10-24T19:13:59.643105",
     "exception": false,
     "start_time": "2020-10-24T19:13:59.622791",
     "status": "completed"
    },
    "tags": []
   },
   "outputs": [],
   "source": [
    "#hide\n",
    "overview = '''\n",
    "<!-- #######  HTML!! #########-->\n",
    "<h1 style=\"color: #5e9ca0; text-align: center;\">India</h1>\n",
    "<p style=\"text-align: center;\">Last update: <strong>{update}</strong></p>\n",
    "<p style=\"text-align: center;\">Confirmed cases:</p>\n",
    "<p style=\"text-align: center;font-size:24px;\">{cases} (<span style=\"color: #ff0000;\">+{new}</span>)</p>\n",
    "<p style=\"text-align: center;\">Confirmed deaths:</p>\n",
    "<p style=\"text-align: center;font-size:24px;\">{deaths} (<span style=\"color: #ff0000;\">+{dnew}</span>)</p>\n",
    "<p style=\"text-align: center;\">Recovered cases:</p>\n",
    "<p style=\"text-align: center;font-size:24px;\">{recovered} (<span style=\"color: #00ff00;\">+{rnew}</span>)</p>\n",
    "'''"
   ]
  },
  {
   "cell_type": "code",
   "execution_count": 10,
   "metadata": {
    "execution": {
     "iopub.execute_input": "2020-10-24T19:13:59.678801Z",
     "iopub.status.busy": "2020-10-24T19:13:59.678128Z",
     "iopub.status.idle": "2020-10-24T19:13:59.681817Z",
     "shell.execute_reply": "2020-10-24T19:13:59.681199Z"
    },
    "papermill": {
     "duration": 0.024823,
     "end_time": "2020-10-24T19:13:59.681947",
     "exception": false,
     "start_time": "2020-10-24T19:13:59.657124",
     "status": "completed"
    },
    "tags": []
   },
   "outputs": [
    {
     "data": {
      "text/html": [
       "\n",
       "<!-- #######  HTML!! #########-->\n",
       "<h1 style=\"color: #5e9ca0; text-align: center;\">India</h1>\n",
       "<p style=\"text-align: center;\">Last update: <strong>24-Oct-20</strong></p>\n",
       "<p style=\"text-align: center;\">Confirmed cases:</p>\n",
       "<p style=\"text-align: center;font-size:24px;\">7862817 (<span style=\"color: #ff0000;\">+49782</span>)</p>\n",
       "<p style=\"text-align: center;\">Confirmed deaths:</p>\n",
       "<p style=\"text-align: center;font-size:24px;\">117971 (<span style=\"color: #ff0000;\">+566</span>)</p>\n",
       "<p style=\"text-align: center;\">Recovered cases:</p>\n",
       "<p style=\"text-align: center;font-size:24px;\">7075089 (<span style=\"color: #00ff00;\">+61548</span>)</p>\n"
      ],
      "text/plain": [
       "<IPython.core.display.HTML object>"
      ]
     },
     "metadata": {},
     "output_type": "display_data"
    }
   ],
   "source": [
    "#hide_input\n",
    "# Fill the above HTML with the information from the summary dictionary\n",
    "\n",
    "update = summary['updated']\n",
    "cases = summary['Cases']\n",
    "new = summary['Cases (+)']\n",
    "deaths = summary['Deaths']\n",
    "dnew = summary['Deaths (+)']\n",
    "recovered = summary['Recovered']\n",
    "rnew = summary['Recovered (+)']\n",
    "\n",
    "html = HTML(overview.format(update=update, cases=cases,new=new,deaths=deaths,dnew=dnew, recovered=recovered, rnew=rnew))\n",
    "\n",
    "display(html)"
   ]
  },
  {
   "cell_type": "code",
   "execution_count": 11,
   "metadata": {
    "execution": {
     "iopub.execute_input": "2020-10-24T19:13:59.719710Z",
     "iopub.status.busy": "2020-10-24T19:13:59.719107Z",
     "iopub.status.idle": "2020-10-24T19:13:59.724685Z",
     "shell.execute_reply": "2020-10-24T19:13:59.723904Z"
    },
    "papermill": {
     "duration": 0.026876,
     "end_time": "2020-10-24T19:13:59.724838",
     "exception": false,
     "start_time": "2020-10-24T19:13:59.697962",
     "status": "completed"
    },
    "tags": []
   },
   "outputs": [],
   "source": [
    "#hide\n",
    "df_cases = df[df['Status'] == 'Confirmed'].copy()\n",
    "df_cases.drop(columns = ['Status'], inplace=True)\n",
    "df_deaths = df[df['Status'] == 'Deceased'].copy()\n",
    "df_deaths.drop(columns = ['Status'], inplace=True)\n",
    "df_recovered = df[df['Status'] == 'Recovered'].copy()\n",
    "df_recovered.drop(columns = ['Status'], inplace=True)"
   ]
  },
  {
   "cell_type": "markdown",
   "metadata": {
    "papermill": {
     "duration": 0.015089,
     "end_time": "2020-10-24T19:13:59.754709",
     "exception": false,
     "start_time": "2020-10-24T19:13:59.739620",
     "status": "completed"
    },
    "tags": []
   },
   "source": [
    "Plot for India:"
   ]
  },
  {
   "cell_type": "code",
   "execution_count": 12,
   "metadata": {
    "execution": {
     "iopub.execute_input": "2020-10-24T19:13:59.808305Z",
     "iopub.status.busy": "2020-10-24T19:13:59.807670Z",
     "iopub.status.idle": "2020-10-24T19:14:00.079356Z",
     "shell.execute_reply": "2020-10-24T19:14:00.079915Z"
    },
    "papermill": {
     "duration": 0.310139,
     "end_time": "2020-10-24T19:14:00.080084",
     "exception": false,
     "start_time": "2020-10-24T19:13:59.769945",
     "status": "completed"
    },
    "tags": []
   },
   "outputs": [
    {
     "data": {
      "image/png": "[encoded data removed]",
      "text/plain": [
       "<Figure size 1296x432 with 1 Axes>"
      ]
     },
     "metadata": {
      "needs_background": "light"
     },
     "output_type": "display_data"
    }
   ],
   "source": [
    "#hide_input\n",
    "plt.figure(figsize = (18,6))\n",
    "plt.plot(df_cases['Date'], df_cases['TT'],'.-', alpha=0.7, color='b', label='Confirmed cases')\n",
    "plt.plot(df_recovered['Date'], df_recovered['TT'],'.-', alpha=0.7, color='g', label='Recovered')\n",
    "plt.plot(df_deaths['Date'], df_deaths['TT'],'.-', alpha=0.7, color='r', label='Deceased')\n",
    "plt.legend()\n",
    "plt.title(\"Cases per day in India\")\n",
    "plt.xticks(ticks=' ')\n",
    "plt.xlabel(f'{df_cases.iloc[0][0]} to {df_cases.iloc[-1][0]}')\n",
    "plt.ylabel('No. of cases');"
   ]
  },
  {
   "cell_type": "markdown",
   "metadata": {
    "papermill": {
     "duration": 0.016049,
     "end_time": "2020-10-24T19:14:00.112476",
     "exception": false,
     "start_time": "2020-10-24T19:14:00.096427",
     "status": "completed"
    },
    "tags": []
   },
   "source": [
    "Plots for the states with highest number of cases:"
   ]
  },
  {
   "cell_type": "markdown",
   "metadata": {
    "tags": [
     "papermill-error-cell-tag"
    ]
   },
   "source": [
    "<span id=\"papermill-error-cell\" style=\"color:red; font-family:Helvetica Neue, Helvetica, Arial, sans-serif; font-size:2em;\">Execution using papermill encountered an exception here and stopped:</span>"
   ]
  },
  {
   "cell_type": "code",
   "execution_count": 13,
   "metadata": {
    "execution": {
     "iopub.execute_input": "2020-10-24T19:14:00.152706Z",
     "iopub.status.busy": "2020-10-24T19:14:00.152098Z",
     "iopub.status.idle": "2020-10-24T19:14:00.270718Z",
     "shell.execute_reply": "2020-10-24T19:14:00.270048Z"
    },
    "papermill": {
     "duration": 0.14219,
     "end_time": "2020-10-24T19:14:00.270903",
     "exception": true,
     "start_time": "2020-10-24T19:14:00.128713",
     "status": "failed"
    },
    "tags": []
   },
   "outputs": [
    {
     "ename": "TypeError",
     "evalue": "'>' not supported between instances of 'numpy.ndarray' and 'str'",
     "output_type": "error",
     "traceback": [
      "\u001b[0;31m---------------------------------------------------------------------------\u001b[0m",
      "\u001b[0;31mTypeError\u001b[0m                                 Traceback (most recent call last)",
      "\u001b[0;32m<ipython-input-13-9711672c0a2c>\u001b[0m in \u001b[0;36m<module>\u001b[0;34m\u001b[0m\n\u001b[1;32m      1\u001b[0m \u001b[0;31m#hide_input\u001b[0m\u001b[0;34m\u001b[0m\u001b[0;34m\u001b[0m\u001b[0;34m\u001b[0m\u001b[0m\n\u001b[0;32m----> 2\u001b[0;31m \u001b[0mtop_3\u001b[0m \u001b[0;34m=\u001b[0m \u001b[0msorted\u001b[0m\u001b[0;34m(\u001b[0m\u001b[0mdf_cases\u001b[0m\u001b[0;34m.\u001b[0m\u001b[0msum\u001b[0m\u001b[0;34m(\u001b[0m\u001b[0;34m)\u001b[0m\u001b[0;34m.\u001b[0m\u001b[0mvalues\u001b[0m\u001b[0;34m[\u001b[0m\u001b[0;36m1\u001b[0m\u001b[0;34m:\u001b[0m\u001b[0;34m]\u001b[0m\u001b[0;34m,\u001b[0m \u001b[0mreverse\u001b[0m\u001b[0;34m=\u001b[0m\u001b[0;32mTrue\u001b[0m\u001b[0;34m)\u001b[0m\u001b[0;34m[\u001b[0m\u001b[0;36m1\u001b[0m\u001b[0;34m:\u001b[0m\u001b[0;36m4\u001b[0m\u001b[0;34m]\u001b[0m\u001b[0;34m\u001b[0m\u001b[0;34m\u001b[0m\u001b[0m\n\u001b[0m\u001b[1;32m      3\u001b[0m \u001b[0mtop3_states\u001b[0m\u001b[0;34m=\u001b[0m\u001b[0;34m[\u001b[0m\u001b[0;34m]\u001b[0m\u001b[0;34m\u001b[0m\u001b[0;34m\u001b[0m\u001b[0m\n\u001b[1;32m      4\u001b[0m \u001b[0;32mfor\u001b[0m \u001b[0mi\u001b[0m \u001b[0;32min\u001b[0m \u001b[0mtop_3\u001b[0m\u001b[0;34m:\u001b[0m\u001b[0;34m\u001b[0m\u001b[0;34m\u001b[0m\u001b[0m\n\u001b[1;32m      5\u001b[0m     \u001b[0mtop3_states\u001b[0m\u001b[0;34m.\u001b[0m\u001b[0mappend\u001b[0m\u001b[0;34m(\u001b[0m\u001b[0mdf_cases\u001b[0m\u001b[0;34m.\u001b[0m\u001b[0msum\u001b[0m\u001b[0;34m(\u001b[0m\u001b[0;34m)\u001b[0m\u001b[0;34m[\u001b[0m\u001b[0mdf_cases\u001b[0m\u001b[0;34m.\u001b[0m\u001b[0msum\u001b[0m\u001b[0;34m(\u001b[0m\u001b[0;34m)\u001b[0m \u001b[0;34m==\u001b[0m \u001b[0mi\u001b[0m\u001b[0;34m]\u001b[0m\u001b[0;34m.\u001b[0m\u001b[0mindex\u001b[0m\u001b[0;34m)\u001b[0m\u001b[0;34m\u001b[0m\u001b[0;34m\u001b[0m\u001b[0m\n",
      "\u001b[0;31mTypeError\u001b[0m: '>' not supported between instances of 'numpy.ndarray' and 'str'"
     ]
    }
   ],
   "source": [
    "#hide_input\n",
    "top_3 = sorted(df_cases.sum().values[1:], reverse=True)[1:4]\n",
    "top3_states=[]\n",
    "for i in top_3:\n",
    "    top3_states.append(df_cases.sum()[df_cases.sum() == i].index)\n",
    "\n",
    "\n",
    "fig, ax = plt.subplots(1,3,figsize = (21,6))\n",
    "for i in range(3):\n",
    "    state = top3_states[i].values[0]\n",
    "    ax[i].plot(df_cases['Date'], df_cases[state],'.-', color='b', alpha=0.7)\n",
    "    ax[i].plot(df_deaths['Date'], df_deaths[state],'.-', color='r', alpha=0.7)\n",
    "    ax[i].plot(df_recovered['Date'], df_recovered[state],'.-', color='g', alpha=0.7)\n",
    "    \n",
    "    ax[i].set_title(f\"Cases in {state}\")\n",
    "    ax[i].set_xticks(ticks=' ')\n",
    "    ax[i].set_xlabel(f'{df_cases.iloc[0][0]} to {df_cases.iloc[-1][0]}')\n",
    "    ax[i].set_ylabel('No. of cases');"
   ]
  },
  {
   "cell_type": "code",
   "execution_count": null,
   "metadata": {
    "papermill": {
     "duration": null,
     "end_time": null,
     "exception": null,
     "start_time": null,
     "status": "pending"
    },
    "tags": []
   },
   "outputs": [],
   "source": []
  },
  {
   "cell_type": "code",
   "execution_count": null,
   "metadata": {
    "papermill": {
     "duration": null,
     "end_time": null,
     "exception": null,
     "start_time": null,
     "status": "pending"
    },
    "tags": []
   },
   "outputs": [],
   "source": []
  },
  {
   "cell_type": "code",
   "execution_count": null,
   "metadata": {
    "papermill": {
     "duration": null,
     "end_time": null,
     "exception": null,
     "start_time": null,
     "status": "pending"
    },
    "tags": []
   },
   "outputs": [],
   "source": []
  }
 ],
 "metadata": {
  "kernelspec": {
   "display_name": "Python 3",
   "language": "python",
   "name": "python3"
  },
  "language_info": {
   "codemirror_mode": {
    "name": "ipython",
    "version": 3
   },
   "file_extension": ".py",
   "mimetype": "text/x-python",
   "name": "python",
   "nbconvert_exporter": "python",
   "pygments_lexer": "ipython3",
   "version": "3.6.12"
  },
  "papermill": {
   "duration": 3.253847,
   "end_time": "2020-10-24T19:14:00.676992",
   "environment_variables": {},
   "exception": true,
   "input_path": "2020-08-09-DailyUpdate.ipynb",
   "output_path": "2020-08-09-DailyUpdate.ipynb",
   "parameters": {},
   "start_time": "2020-10-24T19:13:57.423145",
   "version": "2.1.2"
  }
 },
 "nbformat": 4,
 "nbformat_minor": 4
}