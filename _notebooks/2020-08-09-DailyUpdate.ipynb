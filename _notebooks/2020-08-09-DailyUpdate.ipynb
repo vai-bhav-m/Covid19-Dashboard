{
 "cells": [
  {
   "cell_type": "markdown",
   "metadata": {
    "papermill": {
     "duration": 0.018864,
     "end_time": "2020-08-22T19:11:24.395728",
     "exception": false,
     "start_time": "2020-08-22T19:11:24.376864",
     "status": "completed"
    },
    "tags": []
   },
   "source": [
    "# COVID-19 India Daily updates\n",
    "> Tracking coronavirus total cases, deaths and new cases in India on a daily basis\n",
    "\n",
    "- author: Vaibhav Mahapatra"
   ]
  },
  {
   "cell_type": "code",
   "execution_count": 1,
   "metadata": {
    "execution": {
     "iopub.execute_input": "2020-08-22T19:11:24.426881Z",
     "iopub.status.busy": "2020-08-22T19:11:24.426263Z",
     "iopub.status.idle": "2020-08-22T19:11:25.028842Z",
     "shell.execute_reply": "2020-08-22T19:11:25.028198Z"
    },
    "papermill": {
     "duration": 0.620585,
     "end_time": "2020-08-22T19:11:25.028999",
     "exception": false,
     "start_time": "2020-08-22T19:11:24.408414",
     "status": "completed"
    },
    "tags": []
   },
   "outputs": [],
   "source": [
    "#hide\n",
    "\n",
    "## Import essential packages below\n",
    "\n",
    "import pandas as pd\n",
    "import numpy as np\n",
    "import requests\n",
    "import json\n",
    "import matplotlib.pyplot as plt\n",
    "import matplotlib.dates as mdates\n",
    "import matplotlib as mpl\n",
    "from IPython.core.display import display,HTML\n",
    "%matplotlib inline"
   ]
  },
  {
   "cell_type": "code",
   "execution_count": 2,
   "metadata": {
    "execution": {
     "iopub.execute_input": "2020-08-22T19:11:25.061238Z",
     "iopub.status.busy": "2020-08-22T19:11:25.060573Z",
     "iopub.status.idle": "2020-08-22T19:11:25.248857Z",
     "shell.execute_reply": "2020-08-22T19:11:25.248366Z"
    },
    "papermill": {
     "duration": 0.207683,
     "end_time": "2020-08-22T19:11:25.248994",
     "exception": false,
     "start_time": "2020-08-22T19:11:25.041311",
     "status": "completed"
    },
    "tags": []
   },
   "outputs": [
    {
     "data": {
      "text/plain": [
       "(487, 41)"
      ]
     },
     "execution_count": 2,
     "metadata": {},
     "output_type": "execute_result"
    }
   ],
   "source": [
    "#hide\n",
    "url = 'https://api.covid19india.org/csv/latest/state_wise_daily.csv'\n",
    "df = pd.read_csv(url)\n",
    "df.shape"
   ]
  },
  {
   "cell_type": "code",
   "execution_count": 3,
   "metadata": {
    "execution": {
     "iopub.execute_input": "2020-08-22T19:11:25.329969Z",
     "iopub.status.busy": "2020-08-22T19:11:25.327947Z",
     "iopub.status.idle": "2020-08-22T19:11:25.346102Z",
     "shell.execute_reply": "2020-08-22T19:11:25.346517Z"
    },
    "papermill": {
     "duration": 0.085745,
     "end_time": "2020-08-22T19:11:25.346664",
     "exception": false,
     "start_time": "2020-08-22T19:11:25.260919",
     "status": "completed"
    },
    "tags": []
   },
   "outputs": [
    {
     "data": {
      "text/html": [
       "<div>\n",
       "<style scoped>\n",
       "    .dataframe tbody tr th:only-of-type {\n",
       "        vertical-align: middle;\n",
       "    }\n",
       "\n",
       "    .dataframe tbody tr th {\n",
       "        vertical-align: top;\n",
       "    }\n",
       "\n",
       "    .dataframe thead th {\n",
       "        text-align: right;\n",
       "    }\n",
       "</style>\n",
       "<table border=\"1\" class=\"dataframe\">\n",
       "  <thead>\n",
       "    <tr style=\"text-align: right;\">\n",
       "      <th></th>\n",
       "      <th>Date</th>\n",
       "      <th>Status</th>\n",
       "      <th>TT</th>\n",
       "      <th>AN</th>\n",
       "      <th>AP</th>\n",
       "      <th>AR</th>\n",
       "      <th>AS</th>\n",
       "      <th>BR</th>\n",
       "      <th>CH</th>\n",
       "      <th>CT</th>\n",
       "      <th>...</th>\n",
       "      <th>PB</th>\n",
       "      <th>RJ</th>\n",
       "      <th>SK</th>\n",
       "      <th>TN</th>\n",
       "      <th>TG</th>\n",
       "      <th>TR</th>\n",
       "      <th>UP</th>\n",
       "      <th>UT</th>\n",
       "      <th>WB</th>\n",
       "      <th>UN</th>\n",
       "    </tr>\n",
       "  </thead>\n",
       "  <tbody>\n",
       "    <tr>\n",
       "      <th>481</th>\n",
       "      <td>21-Aug-20</td>\n",
       "      <td>Recovered</td>\n",
       "      <td>62858.0</td>\n",
       "      <td>106.0</td>\n",
       "      <td>8827.0</td>\n",
       "      <td>32.0</td>\n",
       "      <td>2476.0</td>\n",
       "      <td>3678.0</td>\n",
       "      <td>36.0</td>\n",
       "      <td>283.0</td>\n",
       "      <td>...</td>\n",
       "      <td>856.0</td>\n",
       "      <td>1306.0</td>\n",
       "      <td>7.0</td>\n",
       "      <td>5764.0</td>\n",
       "      <td>1781.0</td>\n",
       "      <td>86.0</td>\n",
       "      <td>5567.0</td>\n",
       "      <td>243.0</td>\n",
       "      <td>3082.0</td>\n",
       "      <td>0.0</td>\n",
       "    </tr>\n",
       "    <tr>\n",
       "      <th>482</th>\n",
       "      <td>21-Aug-20</td>\n",
       "      <td>Deceased</td>\n",
       "      <td>953.0</td>\n",
       "      <td>1.0</td>\n",
       "      <td>91.0</td>\n",
       "      <td>0.0</td>\n",
       "      <td>6.0</td>\n",
       "      <td>14.0</td>\n",
       "      <td>2.0</td>\n",
       "      <td>8.0</td>\n",
       "      <td>...</td>\n",
       "      <td>34.0</td>\n",
       "      <td>12.0</td>\n",
       "      <td>0.0</td>\n",
       "      <td>101.0</td>\n",
       "      <td>8.0</td>\n",
       "      <td>4.0</td>\n",
       "      <td>64.0</td>\n",
       "      <td>5.0</td>\n",
       "      <td>55.0</td>\n",
       "      <td>0.0</td>\n",
       "    </tr>\n",
       "    <tr>\n",
       "      <th>483</th>\n",
       "      <td>NaN</td>\n",
       "      <td>NaN</td>\n",
       "      <td>NaN</td>\n",
       "      <td>NaN</td>\n",
       "      <td>NaN</td>\n",
       "      <td>NaN</td>\n",
       "      <td>NaN</td>\n",
       "      <td>NaN</td>\n",
       "      <td>NaN</td>\n",
       "      <td>NaN</td>\n",
       "      <td>...</td>\n",
       "      <td>NaN</td>\n",
       "      <td>NaN</td>\n",
       "      <td>NaN</td>\n",
       "      <td>NaN</td>\n",
       "      <td>NaN</td>\n",
       "      <td>NaN</td>\n",
       "      <td>NaN</td>\n",
       "      <td>NaN</td>\n",
       "      <td>NaN</td>\n",
       "      <td>NaN</td>\n",
       "    </tr>\n",
       "    <tr>\n",
       "      <th>484</th>\n",
       "      <td>22-Aug-20</td>\n",
       "      <td>Confirmed</td>\n",
       "      <td>70067.0</td>\n",
       "      <td>61.0</td>\n",
       "      <td>10276.0</td>\n",
       "      <td>97.0</td>\n",
       "      <td>1560.0</td>\n",
       "      <td>2238.0</td>\n",
       "      <td>145.0</td>\n",
       "      <td>704.0</td>\n",
       "      <td>...</td>\n",
       "      <td>1316.0</td>\n",
       "      <td>1310.0</td>\n",
       "      <td>45.0</td>\n",
       "      <td>5980.0</td>\n",
       "      <td>2474.0</td>\n",
       "      <td>280.0</td>\n",
       "      <td>5217.0</td>\n",
       "      <td>483.0</td>\n",
       "      <td>3232.0</td>\n",
       "      <td>0.0</td>\n",
       "    </tr>\n",
       "    <tr>\n",
       "      <th>485</th>\n",
       "      <td>22-Aug-20</td>\n",
       "      <td>Recovered</td>\n",
       "      <td>59101.0</td>\n",
       "      <td>109.0</td>\n",
       "      <td>8593.0</td>\n",
       "      <td>103.0</td>\n",
       "      <td>2045.0</td>\n",
       "      <td>3531.0</td>\n",
       "      <td>45.0</td>\n",
       "      <td>372.0</td>\n",
       "      <td>...</td>\n",
       "      <td>409.0</td>\n",
       "      <td>1648.0</td>\n",
       "      <td>37.0</td>\n",
       "      <td>5603.0</td>\n",
       "      <td>1768.0</td>\n",
       "      <td>410.0</td>\n",
       "      <td>4638.0</td>\n",
       "      <td>345.0</td>\n",
       "      <td>3088.0</td>\n",
       "      <td>0.0</td>\n",
       "    </tr>\n",
       "    <tr>\n",
       "      <th>486</th>\n",
       "      <td>22-Aug-20</td>\n",
       "      <td>Deceased</td>\n",
       "      <td>918.0</td>\n",
       "      <td>0.0</td>\n",
       "      <td>97.0</td>\n",
       "      <td>0.0</td>\n",
       "      <td>7.0</td>\n",
       "      <td>13.0</td>\n",
       "      <td>0.0</td>\n",
       "      <td>10.0</td>\n",
       "      <td>...</td>\n",
       "      <td>45.0</td>\n",
       "      <td>11.0</td>\n",
       "      <td>0.0</td>\n",
       "      <td>80.0</td>\n",
       "      <td>7.0</td>\n",
       "      <td>1.0</td>\n",
       "      <td>70.0</td>\n",
       "      <td>3.0</td>\n",
       "      <td>48.0</td>\n",
       "      <td>0.0</td>\n",
       "    </tr>\n",
       "  </tbody>\n",
       "</table>\n",
       "<p>6 rows × 41 columns</p>\n",
       "</div>"
      ],
      "text/plain": [
       "          Date     Status       TT     AN       AP     AR      AS      BR  \\\n",
       "481  21-Aug-20  Recovered  62858.0  106.0   8827.0   32.0  2476.0  3678.0   \n",
       "482  21-Aug-20   Deceased    953.0    1.0     91.0    0.0     6.0    14.0   \n",
       "483        NaN        NaN      NaN    NaN      NaN    NaN     NaN     NaN   \n",
       "484  22-Aug-20  Confirmed  70067.0   61.0  10276.0   97.0  1560.0  2238.0   \n",
       "485  22-Aug-20  Recovered  59101.0  109.0   8593.0  103.0  2045.0  3531.0   \n",
       "486  22-Aug-20   Deceased    918.0    0.0     97.0    0.0     7.0    13.0   \n",
       "\n",
       "        CH     CT  ...      PB      RJ    SK      TN      TG     TR      UP  \\\n",
       "481   36.0  283.0  ...   856.0  1306.0   7.0  5764.0  1781.0   86.0  5567.0   \n",
       "482    2.0    8.0  ...    34.0    12.0   0.0   101.0     8.0    4.0    64.0   \n",
       "483    NaN    NaN  ...     NaN     NaN   NaN     NaN     NaN    NaN     NaN   \n",
       "484  145.0  704.0  ...  1316.0  1310.0  45.0  5980.0  2474.0  280.0  5217.0   \n",
       "485   45.0  372.0  ...   409.0  1648.0  37.0  5603.0  1768.0  410.0  4638.0   \n",
       "486    0.0   10.0  ...    45.0    11.0   0.0    80.0     7.0    1.0    70.0   \n",
       "\n",
       "        UT      WB   UN  \n",
       "481  243.0  3082.0  0.0  \n",
       "482    5.0    55.0  0.0  \n",
       "483    NaN     NaN  NaN  \n",
       "484  483.0  3232.0  0.0  \n",
       "485  345.0  3088.0  0.0  \n",
       "486    3.0    48.0  0.0  \n",
       "\n",
       "[6 rows x 41 columns]"
      ]
     },
     "execution_count": 3,
     "metadata": {},
     "output_type": "execute_result"
    }
   ],
   "source": [
    "#hide\n",
    "df.tail(6)"
   ]
  },
  {
   "cell_type": "code",
   "execution_count": 4,
   "metadata": {
    "execution": {
     "iopub.execute_input": "2020-08-22T19:11:25.377807Z",
     "iopub.status.busy": "2020-08-22T19:11:25.377229Z",
     "iopub.status.idle": "2020-08-22T19:11:25.380479Z",
     "shell.execute_reply": "2020-08-22T19:11:25.379975Z"
    },
    "papermill": {
     "duration": 0.021493,
     "end_time": "2020-08-22T19:11:25.380595",
     "exception": false,
     "start_time": "2020-08-22T19:11:25.359102",
     "status": "completed"
    },
    "tags": []
   },
   "outputs": [
    {
     "data": {
      "text/plain": [
       "('22-Aug-20', nan)"
      ]
     },
     "execution_count": 4,
     "metadata": {},
     "output_type": "execute_result"
    }
   ],
   "source": [
    "#hide\n",
    "dt_today = df.iloc[-1][0]\n",
    "dt_yday = df.iloc[-4][0]\n",
    "dt_today, dt_yday"
   ]
  },
  {
   "cell_type": "code",
   "execution_count": 5,
   "metadata": {
    "execution": {
     "iopub.execute_input": "2020-08-22T19:11:25.417051Z",
     "iopub.status.busy": "2020-08-22T19:11:25.416340Z",
     "iopub.status.idle": "2020-08-22T19:11:25.417621Z",
     "shell.execute_reply": "2020-08-22T19:11:25.418044Z"
    },
    "papermill": {
     "duration": 0.024606,
     "end_time": "2020-08-22T19:11:25.418174",
     "exception": false,
     "start_time": "2020-08-22T19:11:25.393568",
     "status": "completed"
    },
    "tags": []
   },
   "outputs": [],
   "source": [
    "#hide\n",
    "df_today = df.groupby('Status').sum()\n",
    "df_yday = df.iloc[:-3][:].groupby('Status').sum()"
   ]
  },
  {
   "cell_type": "code",
   "execution_count": 6,
   "metadata": {
    "execution": {
     "iopub.execute_input": "2020-08-22T19:11:25.453266Z",
     "iopub.status.busy": "2020-08-22T19:11:25.452696Z",
     "iopub.status.idle": "2020-08-22T19:11:25.467744Z",
     "shell.execute_reply": "2020-08-22T19:11:25.468608Z"
    },
    "papermill": {
     "duration": 0.038766,
     "end_time": "2020-08-22T19:11:25.468754",
     "exception": false,
     "start_time": "2020-08-22T19:11:25.429988",
     "status": "completed"
    },
    "tags": []
   },
   "outputs": [
    {
     "data": {
      "text/html": [
       "<div>\n",
       "<style scoped>\n",
       "    .dataframe tbody tr th:only-of-type {\n",
       "        vertical-align: middle;\n",
       "    }\n",
       "\n",
       "    .dataframe tbody tr th {\n",
       "        vertical-align: top;\n",
       "    }\n",
       "\n",
       "    .dataframe thead th {\n",
       "        text-align: right;\n",
       "    }\n",
       "</style>\n",
       "<table border=\"1\" class=\"dataframe\">\n",
       "  <thead>\n",
       "    <tr style=\"text-align: right;\">\n",
       "      <th></th>\n",
       "      <th>TT</th>\n",
       "      <th>AN</th>\n",
       "      <th>AP</th>\n",
       "      <th>AR</th>\n",
       "      <th>AS</th>\n",
       "      <th>BR</th>\n",
       "      <th>CH</th>\n",
       "      <th>CT</th>\n",
       "      <th>DN</th>\n",
       "      <th>DD</th>\n",
       "      <th>...</th>\n",
       "      <th>PB</th>\n",
       "      <th>RJ</th>\n",
       "      <th>SK</th>\n",
       "      <th>TN</th>\n",
       "      <th>TG</th>\n",
       "      <th>TR</th>\n",
       "      <th>UP</th>\n",
       "      <th>UT</th>\n",
       "      <th>WB</th>\n",
       "      <th>UN</th>\n",
       "    </tr>\n",
       "    <tr>\n",
       "      <th>Status</th>\n",
       "      <th></th>\n",
       "      <th></th>\n",
       "      <th></th>\n",
       "      <th></th>\n",
       "      <th></th>\n",
       "      <th></th>\n",
       "      <th></th>\n",
       "      <th></th>\n",
       "      <th></th>\n",
       "      <th></th>\n",
       "      <th></th>\n",
       "      <th></th>\n",
       "      <th></th>\n",
       "      <th></th>\n",
       "      <th></th>\n",
       "      <th></th>\n",
       "      <th></th>\n",
       "      <th></th>\n",
       "      <th></th>\n",
       "      <th></th>\n",
       "      <th></th>\n",
       "    </tr>\n",
       "  </thead>\n",
       "  <tbody>\n",
       "    <tr>\n",
       "      <th>Confirmed</th>\n",
       "      <td>3042809.0</td>\n",
       "      <td>2804.0</td>\n",
       "      <td>345216.0</td>\n",
       "      <td>3223.0</td>\n",
       "      <td>89367.0</td>\n",
       "      <td>119909.0</td>\n",
       "      <td>2776.0</td>\n",
       "      <td>20214.0</td>\n",
       "      <td>2125.0</td>\n",
       "      <td>0.0</td>\n",
       "      <td>...</td>\n",
       "      <td>40643.0</td>\n",
       "      <td>69264.0</td>\n",
       "      <td>1394.0</td>\n",
       "      <td>373410.0</td>\n",
       "      <td>101355.0</td>\n",
       "      <td>8386.0</td>\n",
       "      <td>182456.0</td>\n",
       "      <td>14566.0</td>\n",
       "      <td>135596.0</td>\n",
       "      <td>0.0</td>\n",
       "    </tr>\n",
       "    <tr>\n",
       "      <th>Deceased</th>\n",
       "      <td>56857.0</td>\n",
       "      <td>32.0</td>\n",
       "      <td>3189.0</td>\n",
       "      <td>5.0</td>\n",
       "      <td>238.0</td>\n",
       "      <td>601.0</td>\n",
       "      <td>33.0</td>\n",
       "      <td>190.0</td>\n",
       "      <td>2.0</td>\n",
       "      <td>0.0</td>\n",
       "      <td>...</td>\n",
       "      <td>1036.0</td>\n",
       "      <td>944.0</td>\n",
       "      <td>3.0</td>\n",
       "      <td>6420.0</td>\n",
       "      <td>744.0</td>\n",
       "      <td>70.0</td>\n",
       "      <td>2867.0</td>\n",
       "      <td>195.0</td>\n",
       "      <td>2737.0</td>\n",
       "      <td>0.0</td>\n",
       "    </tr>\n",
       "    <tr>\n",
       "      <th>Recovered</th>\n",
       "      <td>2279893.0</td>\n",
       "      <td>1844.0</td>\n",
       "      <td>252638.0</td>\n",
       "      <td>2228.0</td>\n",
       "      <td>67642.0</td>\n",
       "      <td>95372.0</td>\n",
       "      <td>1471.0</td>\n",
       "      <td>12394.0</td>\n",
       "      <td>1702.0</td>\n",
       "      <td>0.0</td>\n",
       "      <td>...</td>\n",
       "      <td>24302.0</td>\n",
       "      <td>54144.0</td>\n",
       "      <td>872.0</td>\n",
       "      <td>313280.0</td>\n",
       "      <td>78735.0</td>\n",
       "      <td>6061.0</td>\n",
       "      <td>131295.0</td>\n",
       "      <td>10021.0</td>\n",
       "      <td>104959.0</td>\n",
       "      <td>0.0</td>\n",
       "    </tr>\n",
       "  </tbody>\n",
       "</table>\n",
       "<p>3 rows × 39 columns</p>\n",
       "</div>"
      ],
      "text/plain": [
       "                  TT      AN        AP      AR       AS        BR      CH  \\\n",
       "Status                                                                      \n",
       "Confirmed  3042809.0  2804.0  345216.0  3223.0  89367.0  119909.0  2776.0   \n",
       "Deceased     56857.0    32.0    3189.0     5.0    238.0     601.0    33.0   \n",
       "Recovered  2279893.0  1844.0  252638.0  2228.0  67642.0   95372.0  1471.0   \n",
       "\n",
       "                CT      DN   DD  ...       PB       RJ      SK        TN  \\\n",
       "Status                           ...                                       \n",
       "Confirmed  20214.0  2125.0  0.0  ...  40643.0  69264.0  1394.0  373410.0   \n",
       "Deceased     190.0     2.0  0.0  ...   1036.0    944.0     3.0    6420.0   \n",
       "Recovered  12394.0  1702.0  0.0  ...  24302.0  54144.0   872.0  313280.0   \n",
       "\n",
       "                 TG      TR        UP       UT        WB   UN  \n",
       "Status                                                         \n",
       "Confirmed  101355.0  8386.0  182456.0  14566.0  135596.0  0.0  \n",
       "Deceased      744.0    70.0    2867.0    195.0    2737.0  0.0  \n",
       "Recovered   78735.0  6061.0  131295.0  10021.0  104959.0  0.0  \n",
       "\n",
       "[3 rows x 39 columns]"
      ]
     },
     "execution_count": 6,
     "metadata": {},
     "output_type": "execute_result"
    }
   ],
   "source": [
    "#hide\n",
    "df_today"
   ]
  },
  {
   "cell_type": "code",
   "execution_count": 7,
   "metadata": {
    "execution": {
     "iopub.execute_input": "2020-08-22T19:11:26.192025Z",
     "iopub.status.busy": "2020-08-22T19:11:26.181084Z",
     "iopub.status.idle": "2020-08-22T19:11:26.195463Z",
     "shell.execute_reply": "2020-08-22T19:11:26.194984Z"
    },
    "papermill": {
     "duration": 0.529636,
     "end_time": "2020-08-22T19:11:26.195734",
     "exception": false,
     "start_time": "2020-08-22T19:11:25.666098",
     "status": "completed"
    },
    "tags": []
   },
   "outputs": [
    {
     "data": {
      "text/html": [
       "<div>\n",
       "<style scoped>\n",
       "    .dataframe tbody tr th:only-of-type {\n",
       "        vertical-align: middle;\n",
       "    }\n",
       "\n",
       "    .dataframe tbody tr th {\n",
       "        vertical-align: top;\n",
       "    }\n",
       "\n",
       "    .dataframe thead th {\n",
       "        text-align: right;\n",
       "    }\n",
       "</style>\n",
       "<table border=\"1\" class=\"dataframe\">\n",
       "  <thead>\n",
       "    <tr style=\"text-align: right;\">\n",
       "      <th></th>\n",
       "      <th>TT</th>\n",
       "      <th>AN</th>\n",
       "      <th>AP</th>\n",
       "      <th>AR</th>\n",
       "      <th>AS</th>\n",
       "      <th>BR</th>\n",
       "      <th>CH</th>\n",
       "      <th>CT</th>\n",
       "      <th>DN</th>\n",
       "      <th>DD</th>\n",
       "      <th>...</th>\n",
       "      <th>PB</th>\n",
       "      <th>RJ</th>\n",
       "      <th>SK</th>\n",
       "      <th>TN</th>\n",
       "      <th>TG</th>\n",
       "      <th>TR</th>\n",
       "      <th>UP</th>\n",
       "      <th>UT</th>\n",
       "      <th>WB</th>\n",
       "      <th>UN</th>\n",
       "    </tr>\n",
       "    <tr>\n",
       "      <th>Status</th>\n",
       "      <th></th>\n",
       "      <th></th>\n",
       "      <th></th>\n",
       "      <th></th>\n",
       "      <th></th>\n",
       "      <th></th>\n",
       "      <th></th>\n",
       "      <th></th>\n",
       "      <th></th>\n",
       "      <th></th>\n",
       "      <th></th>\n",
       "      <th></th>\n",
       "      <th></th>\n",
       "      <th></th>\n",
       "      <th></th>\n",
       "      <th></th>\n",
       "      <th></th>\n",
       "      <th></th>\n",
       "      <th></th>\n",
       "      <th></th>\n",
       "      <th></th>\n",
       "    </tr>\n",
       "  </thead>\n",
       "  <tbody>\n",
       "    <tr>\n",
       "      <th>Confirmed</th>\n",
       "      <td>2972742.0</td>\n",
       "      <td>2743.0</td>\n",
       "      <td>334940.0</td>\n",
       "      <td>3126.0</td>\n",
       "      <td>87807.0</td>\n",
       "      <td>117671.0</td>\n",
       "      <td>2631.0</td>\n",
       "      <td>19510.0</td>\n",
       "      <td>2085.0</td>\n",
       "      <td>0.0</td>\n",
       "      <td>...</td>\n",
       "      <td>39327.0</td>\n",
       "      <td>67954.0</td>\n",
       "      <td>1349.0</td>\n",
       "      <td>367430.0</td>\n",
       "      <td>98881.0</td>\n",
       "      <td>8106.0</td>\n",
       "      <td>177239.0</td>\n",
       "      <td>14083.0</td>\n",
       "      <td>132364.0</td>\n",
       "      <td>0.0</td>\n",
       "    </tr>\n",
       "    <tr>\n",
       "      <th>Deceased</th>\n",
       "      <td>55939.0</td>\n",
       "      <td>32.0</td>\n",
       "      <td>3092.0</td>\n",
       "      <td>5.0</td>\n",
       "      <td>231.0</td>\n",
       "      <td>588.0</td>\n",
       "      <td>33.0</td>\n",
       "      <td>180.0</td>\n",
       "      <td>2.0</td>\n",
       "      <td>0.0</td>\n",
       "      <td>...</td>\n",
       "      <td>991.0</td>\n",
       "      <td>933.0</td>\n",
       "      <td>3.0</td>\n",
       "      <td>6340.0</td>\n",
       "      <td>737.0</td>\n",
       "      <td>69.0</td>\n",
       "      <td>2797.0</td>\n",
       "      <td>192.0</td>\n",
       "      <td>2689.0</td>\n",
       "      <td>0.0</td>\n",
       "    </tr>\n",
       "    <tr>\n",
       "      <th>Recovered</th>\n",
       "      <td>2220792.0</td>\n",
       "      <td>1735.0</td>\n",
       "      <td>244045.0</td>\n",
       "      <td>2125.0</td>\n",
       "      <td>65597.0</td>\n",
       "      <td>91841.0</td>\n",
       "      <td>1426.0</td>\n",
       "      <td>12022.0</td>\n",
       "      <td>1652.0</td>\n",
       "      <td>0.0</td>\n",
       "      <td>...</td>\n",
       "      <td>23893.0</td>\n",
       "      <td>52496.0</td>\n",
       "      <td>835.0</td>\n",
       "      <td>307677.0</td>\n",
       "      <td>76967.0</td>\n",
       "      <td>5651.0</td>\n",
       "      <td>126657.0</td>\n",
       "      <td>9676.0</td>\n",
       "      <td>101871.0</td>\n",
       "      <td>0.0</td>\n",
       "    </tr>\n",
       "  </tbody>\n",
       "</table>\n",
       "<p>3 rows × 39 columns</p>\n",
       "</div>"
      ],
      "text/plain": [
       "                  TT      AN        AP      AR       AS        BR      CH  \\\n",
       "Status                                                                      \n",
       "Confirmed  2972742.0  2743.0  334940.0  3126.0  87807.0  117671.0  2631.0   \n",
       "Deceased     55939.0    32.0    3092.0     5.0    231.0     588.0    33.0   \n",
       "Recovered  2220792.0  1735.0  244045.0  2125.0  65597.0   91841.0  1426.0   \n",
       "\n",
       "                CT      DN   DD  ...       PB       RJ      SK        TN  \\\n",
       "Status                           ...                                       \n",
       "Confirmed  19510.0  2085.0  0.0  ...  39327.0  67954.0  1349.0  367430.0   \n",
       "Deceased     180.0     2.0  0.0  ...    991.0    933.0     3.0    6340.0   \n",
       "Recovered  12022.0  1652.0  0.0  ...  23893.0  52496.0   835.0  307677.0   \n",
       "\n",
       "                TG      TR        UP       UT        WB   UN  \n",
       "Status                                                        \n",
       "Confirmed  98881.0  8106.0  177239.0  14083.0  132364.0  0.0  \n",
       "Deceased     737.0    69.0    2797.0    192.0    2689.0  0.0  \n",
       "Recovered  76967.0  5651.0  126657.0   9676.0  101871.0  0.0  \n",
       "\n",
       "[3 rows x 39 columns]"
      ]
     },
     "execution_count": 7,
     "metadata": {},
     "output_type": "execute_result"
    }
   ],
   "source": [
    "#hide\n",
    "df_yday.head()"
   ]
  },
  {
   "cell_type": "code",
   "execution_count": 8,
   "metadata": {
    "execution": {
     "iopub.execute_input": "2020-08-22T19:11:26.238502Z",
     "iopub.status.busy": "2020-08-22T19:11:26.237851Z",
     "iopub.status.idle": "2020-08-22T19:11:26.239904Z",
     "shell.execute_reply": "2020-08-22T19:11:26.240338Z"
    },
    "papermill": {
     "duration": 0.02626,
     "end_time": "2020-08-22T19:11:26.240471",
     "exception": false,
     "start_time": "2020-08-22T19:11:26.214211",
     "status": "completed"
    },
    "tags": []
   },
   "outputs": [
    {
     "data": {
      "text/plain": [
       "{'updated': '22-Aug-20',\n",
       " 'since': nan,\n",
       " 'Cases': 3042809.0,\n",
       " 'Deaths': 56857.0,\n",
       " 'Recovered': 2279893.0,\n",
       " 'PCases': 2972742.0,\n",
       " 'PDeaths': 55939.0,\n",
       " 'PRecovered': 2220792.0,\n",
       " 'Cases (+)': 70067.0,\n",
       " 'Deaths (+)': 918.0,\n",
       " 'Recovered (+)': 59101.0}"
      ]
     },
     "execution_count": 8,
     "metadata": {},
     "output_type": "execute_result"
    }
   ],
   "source": [
    "#hide\n",
    "summary = {\n",
    "    'updated' : dt_today,\n",
    "    'since' : dt_yday,\n",
    "    'Cases' : df_today['TT'][0],\n",
    "    'Deaths' : df_today['TT'][1],\n",
    "    'Recovered' : df_today['TT'][2],\n",
    "    'PCases' : df_yday['TT'][0],\n",
    "    'PDeaths' : df_yday['TT'][1],\n",
    "    'PRecovered': df_yday['TT'][2],\n",
    "    'Cases (+)' : df_today['TT'][0] - df_yday['TT'][0],\n",
    "    'Deaths (+)' : df_today['TT'][1] - df_yday['TT'][1],\n",
    "    'Recovered (+)': df_today['TT'][2] - df_yday['TT'][2]\n",
    "}\n",
    "\n",
    "summary"
   ]
  },
  {
   "cell_type": "code",
   "execution_count": 9,
   "metadata": {
    "execution": {
     "iopub.execute_input": "2020-08-22T19:11:26.273202Z",
     "iopub.status.busy": "2020-08-22T19:11:26.272500Z",
     "iopub.status.idle": "2020-08-22T19:11:26.274375Z",
     "shell.execute_reply": "2020-08-22T19:11:26.275160Z"
    },
    "papermill": {
     "duration": 0.021102,
     "end_time": "2020-08-22T19:11:26.275330",
     "exception": false,
     "start_time": "2020-08-22T19:11:26.254228",
     "status": "completed"
    },
    "tags": []
   },
   "outputs": [],
   "source": [
    "#hide\n",
    "overview = '''\n",
    "<!-- #######  HTML!! #########-->\n",
    "<h1 style=\"color: #5e9ca0; text-align: center;\">India</h1>\n",
    "<p style=\"text-align: center;\">Last update: <strong>{update}</strong></p>\n",
    "<p style=\"text-align: center;\">Confirmed cases:</p>\n",
    "<p style=\"text-align: center;font-size:24px;\">{cases} (<span style=\"color: #ff0000;\">+{new}</span>)</p>\n",
    "<p style=\"text-align: center;\">Confirmed deaths:</p>\n",
    "<p style=\"text-align: center;font-size:24px;\">{deaths} (<span style=\"color: #ff0000;\">+{dnew}</span>)</p>\n",
    "<p style=\"text-align: center;\">Recovered cases:</p>\n",
    "<p style=\"text-align: center;font-size:24px;\">{recovered} (<span style=\"color: #00ff00;\">+{rnew}</span>)</p>\n",
    "'''"
   ]
  },
  {
   "cell_type": "code",
   "execution_count": 10,
   "metadata": {
    "execution": {
     "iopub.execute_input": "2020-08-22T19:11:26.311483Z",
     "iopub.status.busy": "2020-08-22T19:11:26.310925Z",
     "iopub.status.idle": "2020-08-22T19:11:26.313961Z",
     "shell.execute_reply": "2020-08-22T19:11:26.313434Z"
    },
    "papermill": {
     "duration": 0.023257,
     "end_time": "2020-08-22T19:11:26.314073",
     "exception": false,
     "start_time": "2020-08-22T19:11:26.290816",
     "status": "completed"
    },
    "tags": []
   },
   "outputs": [
    {
     "data": {
      "text/html": [
       "\n",
       "<!-- #######  HTML!! #########-->\n",
       "<h1 style=\"color: #5e9ca0; text-align: center;\">India</h1>\n",
       "<p style=\"text-align: center;\">Last update: <strong>22-Aug-20</strong></p>\n",
       "<p style=\"text-align: center;\">Confirmed cases:</p>\n",
       "<p style=\"text-align: center;font-size:24px;\">3042809.0 (<span style=\"color: #ff0000;\">+70067.0</span>)</p>\n",
       "<p style=\"text-align: center;\">Confirmed deaths:</p>\n",
       "<p style=\"text-align: center;font-size:24px;\">56857.0 (<span style=\"color: #ff0000;\">+918.0</span>)</p>\n",
       "<p style=\"text-align: center;\">Recovered cases:</p>\n",
       "<p style=\"text-align: center;font-size:24px;\">2279893.0 (<span style=\"color: #00ff00;\">+59101.0</span>)</p>\n"
      ],
      "text/plain": [
       "<IPython.core.display.HTML object>"
      ]
     },
     "metadata": {},
     "output_type": "display_data"
    }
   ],
   "source": [
    "#hide_input\n",
    "# Fill the above HTML with the information from the summary dictionary\n",
    "\n",
    "update = summary['updated']\n",
    "cases = summary['Cases']\n",
    "new = summary['Cases (+)']\n",
    "deaths = summary['Deaths']\n",
    "dnew = summary['Deaths (+)']\n",
    "recovered = summary['Recovered']\n",
    "rnew = summary['Recovered (+)']\n",
    "\n",
    "html = HTML(overview.format(update=update, cases=cases,new=new,deaths=deaths,dnew=dnew, recovered=recovered, rnew=rnew))\n",
    "\n",
    "display(html)"
   ]
  },
  {
   "cell_type": "code",
   "execution_count": 11,
   "metadata": {
    "execution": {
     "iopub.execute_input": "2020-08-22T19:11:26.350093Z",
     "iopub.status.busy": "2020-08-22T19:11:26.349553Z",
     "iopub.status.idle": "2020-08-22T19:11:26.356003Z",
     "shell.execute_reply": "2020-08-22T19:11:26.355514Z"
    },
    "papermill": {
     "duration": 0.026089,
     "end_time": "2020-08-22T19:11:26.356120",
     "exception": false,
     "start_time": "2020-08-22T19:11:26.330031",
     "status": "completed"
    },
    "tags": []
   },
   "outputs": [],
   "source": [
    "#hide\n",
    "df_cases = df[df['Status'] == 'Confirmed'].copy()\n",
    "df_cases.drop(columns = ['Status'], inplace=True)\n",
    "df_deaths = df[df['Status'] == 'Deceased'].copy()\n",
    "df_deaths.drop(columns = ['Status'], inplace=True)\n",
    "df_recovered = df[df['Status'] == 'Recovered'].copy()\n",
    "df_recovered.drop(columns = ['Status'], inplace=True)"
   ]
  },
  {
   "cell_type": "markdown",
   "metadata": {
    "papermill": {
     "duration": 0.014547,
     "end_time": "2020-08-22T19:11:26.385313",
     "exception": false,
     "start_time": "2020-08-22T19:11:26.370766",
     "status": "completed"
    },
    "tags": []
   },
   "source": [
    "Plot for India:"
   ]
  },
  {
   "cell_type": "code",
   "execution_count": 12,
   "metadata": {
    "execution": {
     "iopub.execute_input": "2020-08-22T19:11:26.431406Z",
     "iopub.status.busy": "2020-08-22T19:11:26.430809Z",
     "iopub.status.idle": "2020-08-22T19:11:26.683379Z",
     "shell.execute_reply": "2020-08-22T19:11:26.682815Z"
    },
    "papermill": {
     "duration": 0.283806,
     "end_time": "2020-08-22T19:11:26.683504",
     "exception": false,
     "start_time": "2020-08-22T19:11:26.399698",
     "status": "completed"
    },
    "tags": []
   },
   "outputs": [
    {
     "data": {
      "image/png": "[encoded data removed]",
      "text/plain": [
       "<Figure size 1296x432 with 1 Axes>"
      ]
     },
     "metadata": {
      "needs_background": "light"
     },
     "output_type": "display_data"
    }
   ],
   "source": [
    "#hide_input\n",
    "plt.figure(figsize = (18,6))\n",
    "plt.plot(df_cases['Date'], df_cases['TT'],'.-', alpha=0.7, color='b', label='Confirmed cases')\n",
    "plt.plot(df_recovered['Date'], df_recovered['TT'],'.-', alpha=0.7, color='g', label='Recovered')\n",
    "plt.plot(df_deaths['Date'], df_deaths['TT'],'.-', alpha=0.7, color='r', label='Deceased')\n",
    "plt.legend()\n",
    "plt.title(\"Cases per day in India\")\n",
    "plt.xticks(ticks=' ')\n",
    "plt.xlabel(f'{df_cases.iloc[0][0]} to {df_cases.iloc[-1][0]}')\n",
    "plt.ylabel('No. of cases');"
   ]
  },
  {
   "cell_type": "markdown",
   "metadata": {
    "papermill": {
     "duration": 0.017003,
     "end_time": "2020-08-22T19:11:26.738631",
     "exception": false,
     "start_time": "2020-08-22T19:11:26.721628",
     "status": "completed"
    },
    "tags": []
   },
   "source": [
    "Plots for the states with highest number of cases:"
   ]
  },
  {
   "cell_type": "code",
   "execution_count": 13,
   "metadata": {
    "execution": {
     "iopub.execute_input": "2020-08-22T19:11:26.789476Z",
     "iopub.status.busy": "2020-08-22T19:11:26.788857Z",
     "iopub.status.idle": "2020-08-22T19:11:27.346067Z",
     "shell.execute_reply": "2020-08-22T19:11:27.345560Z"
    },
    "papermill": {
     "duration": 0.589971,
     "end_time": "2020-08-22T19:11:27.346201",
     "exception": false,
     "start_time": "2020-08-22T19:11:26.756230",
     "status": "completed"
    },
    "tags": []
   },
   "outputs": [
    {
     "data": {
      "image/png": "[encoded data removed]",
      "text/plain": [
       "<Figure size 1512x432 with 3 Axes>"
      ]
     },
     "metadata": {
      "needs_background": "light"
     },
     "output_type": "display_data"
    }
   ],
   "source": [
    "#hide_input\n",
    "top_3 = sorted(df_cases.sum().values[1:], reverse=True)[1:4]\n",
    "top3_states=[]\n",
    "for i in top_3:\n",
    "    top3_states.append(df_cases.sum()[df_cases.sum() == i].index)\n",
    "\n",
    "\n",
    "fig, ax = plt.subplots(1,3,figsize = (21,6))\n",
    "for i in range(3):\n",
    "    state = top3_states[i].values[0]\n",
    "    ax[i].plot(df_cases['Date'], df_cases[state],'.-', color='b', alpha=0.7)\n",
    "    ax[i].plot(df_deaths['Date'], df_deaths[state],'.-', color='r', alpha=0.7)\n",
    "    ax[i].plot(df_recovered['Date'], df_recovered[state],'.-', color='g', alpha=0.7)\n",
    "    \n",
    "    ax[i].set_title(f\"Cases in {state}\")\n",
    "    ax[i].set_xticks(ticks=' ')\n",
    "    ax[i].set_xlabel(f'{df_cases.iloc[0][0]} to {df_cases.iloc[-1][0]}')\n",
    "    ax[i].set_ylabel('No. of cases');"
   ]
  },
  {
   "cell_type": "code",
   "execution_count": null,
   "metadata": {
    "papermill": {
     "duration": 0.019173,
     "end_time": "2020-08-22T19:11:27.383870",
     "exception": false,
     "start_time": "2020-08-22T19:11:27.364697",
     "status": "completed"
    },
    "tags": []
   },
   "outputs": [],
   "source": []
  },
  {
   "cell_type": "code",
   "execution_count": null,
   "metadata": {
    "papermill": {
     "duration": 0.018321,
     "end_time": "2020-08-22T19:11:27.421187",
     "exception": false,
     "start_time": "2020-08-22T19:11:27.402866",
     "status": "completed"
    },
    "tags": []
   },
   "outputs": [],
   "source": []
  },
  {
   "cell_type": "code",
   "execution_count": null,
   "metadata": {
    "papermill": {
     "duration": 0.019237,
     "end_time": "2020-08-22T19:11:27.462292",
     "exception": false,
     "start_time": "2020-08-22T19:11:27.443055",
     "status": "completed"
    },
    "tags": []
   },
   "outputs": [],
   "source": []
  }
 ],
 "metadata": {
  "kernelspec": {
   "display_name": "Python 3",
   "language": "python",
   "name": "python3"
  },
  "language_info": {
   "codemirror_mode": {
    "name": "ipython",
    "version": 3
   },
   "file_extension": ".py",
   "mimetype": "text/x-python",
   "name": "python",
   "nbconvert_exporter": "python",
   "pygments_lexer": "ipython3",
   "version": "3.6.11"
  },
  "papermill": {
   "duration": 4.5735,
   "end_time": "2020-08-22T19:11:27.889500",
   "environment_variables": {},
   "exception": null,
   "input_path": "2020-08-09-DailyUpdate.ipynb",
   "output_path": "2020-08-09-DailyUpdate.ipynb",
   "parameters": {},
   "start_time": "2020-08-22T19:11:23.316000",
   "version": "2.1.2"
  }
 },
 "nbformat": 4,
 "nbformat_minor": 4
}