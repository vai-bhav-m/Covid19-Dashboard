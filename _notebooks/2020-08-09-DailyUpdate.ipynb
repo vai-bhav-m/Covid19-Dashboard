{
 "cells": [
  {
   "cell_type": "markdown",
   "metadata": {
    "papermill": {
     "duration": 0.01891,
     "end_time": "2020-10-13T19:13:44.877835",
     "exception": false,
     "start_time": "2020-10-13T19:13:44.858925",
     "status": "completed"
    },
    "tags": []
   },
   "source": [
    "# COVID-19 India Daily updates\n",
    "> Tracking coronavirus total cases, deaths and new cases in India on a daily basis\n",
    "\n",
    "- author: Vaibhav Mahapatra"
   ]
  },
  {
   "cell_type": "code",
   "execution_count": 1,
   "metadata": {
    "execution": {
     "iopub.execute_input": "2020-10-13T19:13:44.908550Z",
     "iopub.status.busy": "2020-10-13T19:13:44.907953Z",
     "iopub.status.idle": "2020-10-13T19:13:45.517661Z",
     "shell.execute_reply": "2020-10-13T19:13:45.518489Z"
    },
    "papermill": {
     "duration": 0.628395,
     "end_time": "2020-10-13T19:13:45.518716",
     "exception": false,
     "start_time": "2020-10-13T19:13:44.890321",
     "status": "completed"
    },
    "tags": []
   },
   "outputs": [],
   "source": [
    "#hide\n",
    "\n",
    "## Import essential packages below\n",
    "\n",
    "import pandas as pd\n",
    "import numpy as np\n",
    "import requests\n",
    "import json\n",
    "import matplotlib.pyplot as plt\n",
    "import matplotlib.dates as mdates\n",
    "import matplotlib as mpl\n",
    "from IPython.core.display import display,HTML\n",
    "%matplotlib inline"
   ]
  },
  {
   "cell_type": "code",
   "execution_count": 2,
   "metadata": {
    "execution": {
     "iopub.execute_input": "2020-10-13T19:13:45.549496Z",
     "iopub.status.busy": "2020-10-13T19:13:45.548773Z",
     "iopub.status.idle": "2020-10-13T19:13:45.625021Z",
     "shell.execute_reply": "2020-10-13T19:13:45.623984Z"
    },
    "papermill": {
     "duration": 0.094246,
     "end_time": "2020-10-13T19:13:45.625214",
     "exception": false,
     "start_time": "2020-10-13T19:13:45.530968",
     "status": "completed"
    },
    "tags": []
   },
   "outputs": [
    {
     "data": {
      "text/plain": [
       "(642, 41)"
      ]
     },
     "execution_count": 2,
     "metadata": {},
     "output_type": "execute_result"
    }
   ],
   "source": [
    "#hide\n",
    "url = 'https://api.covid19india.org/csv/latest/state_wise_daily.csv'\n",
    "df = pd.read_csv(url)\n",
    "df.shape"
   ]
  },
  {
   "cell_type": "code",
   "execution_count": 3,
   "metadata": {
    "execution": {
     "iopub.execute_input": "2020-10-13T19:13:45.716465Z",
     "iopub.status.busy": "2020-10-13T19:13:45.709470Z",
     "iopub.status.idle": "2020-10-13T19:13:45.718837Z",
     "shell.execute_reply": "2020-10-13T19:13:45.719331Z"
    },
    "papermill": {
     "duration": 0.08101,
     "end_time": "2020-10-13T19:13:45.719489",
     "exception": false,
     "start_time": "2020-10-13T19:13:45.638479",
     "status": "completed"
    },
    "tags": []
   },
   "outputs": [
    {
     "data": {
      "text/html": [
       "<div>\n",
       "<style scoped>\n",
       "    .dataframe tbody tr th:only-of-type {\n",
       "        vertical-align: middle;\n",
       "    }\n",
       "\n",
       "    .dataframe tbody tr th {\n",
       "        vertical-align: top;\n",
       "    }\n",
       "\n",
       "    .dataframe thead th {\n",
       "        text-align: right;\n",
       "    }\n",
       "</style>\n",
       "<table border=\"1\" class=\"dataframe\">\n",
       "  <thead>\n",
       "    <tr style=\"text-align: right;\">\n",
       "      <th></th>\n",
       "      <th>Date</th>\n",
       "      <th>Status</th>\n",
       "      <th>TT</th>\n",
       "      <th>AN</th>\n",
       "      <th>AP</th>\n",
       "      <th>AR</th>\n",
       "      <th>AS</th>\n",
       "      <th>BR</th>\n",
       "      <th>CH</th>\n",
       "      <th>CT</th>\n",
       "      <th>...</th>\n",
       "      <th>PB</th>\n",
       "      <th>RJ</th>\n",
       "      <th>SK</th>\n",
       "      <th>TN</th>\n",
       "      <th>TG</th>\n",
       "      <th>TR</th>\n",
       "      <th>UP</th>\n",
       "      <th>UT</th>\n",
       "      <th>WB</th>\n",
       "      <th>UN</th>\n",
       "    </tr>\n",
       "  </thead>\n",
       "  <tbody>\n",
       "    <tr>\n",
       "      <th>636</th>\n",
       "      <td>12-Oct-20</td>\n",
       "      <td>Confirmed</td>\n",
       "      <td>54261</td>\n",
       "      <td>18</td>\n",
       "      <td>3224</td>\n",
       "      <td>220</td>\n",
       "      <td>1521</td>\n",
       "      <td>732</td>\n",
       "      <td>94</td>\n",
       "      <td>2875</td>\n",
       "      <td>...</td>\n",
       "      <td>562</td>\n",
       "      <td>2132</td>\n",
       "      <td>7</td>\n",
       "      <td>4879</td>\n",
       "      <td>1021</td>\n",
       "      <td>109</td>\n",
       "      <td>2182</td>\n",
       "      <td>296</td>\n",
       "      <td>3583</td>\n",
       "      <td>0</td>\n",
       "    </tr>\n",
       "    <tr>\n",
       "      <th>637</th>\n",
       "      <td>12-Oct-20</td>\n",
       "      <td>Recovered</td>\n",
       "      <td>78365</td>\n",
       "      <td>6</td>\n",
       "      <td>5504</td>\n",
       "      <td>171</td>\n",
       "      <td>1457</td>\n",
       "      <td>1369</td>\n",
       "      <td>111</td>\n",
       "      <td>2769</td>\n",
       "      <td>...</td>\n",
       "      <td>1552</td>\n",
       "      <td>1858</td>\n",
       "      <td>5</td>\n",
       "      <td>5165</td>\n",
       "      <td>2214</td>\n",
       "      <td>317</td>\n",
       "      <td>3342</td>\n",
       "      <td>664</td>\n",
       "      <td>3155</td>\n",
       "      <td>0</td>\n",
       "    </tr>\n",
       "    <tr>\n",
       "      <th>638</th>\n",
       "      <td>12-Oct-20</td>\n",
       "      <td>Deceased</td>\n",
       "      <td>710</td>\n",
       "      <td>0</td>\n",
       "      <td>32</td>\n",
       "      <td>0</td>\n",
       "      <td>10</td>\n",
       "      <td>9</td>\n",
       "      <td>1</td>\n",
       "      <td>33</td>\n",
       "      <td>...</td>\n",
       "      <td>27</td>\n",
       "      <td>15</td>\n",
       "      <td>1</td>\n",
       "      <td>62</td>\n",
       "      <td>6</td>\n",
       "      <td>1</td>\n",
       "      <td>44</td>\n",
       "      <td>15</td>\n",
       "      <td>60</td>\n",
       "      <td>0</td>\n",
       "    </tr>\n",
       "    <tr>\n",
       "      <th>639</th>\n",
       "      <td>13-Oct-20</td>\n",
       "      <td>Confirmed</td>\n",
       "      <td>63520</td>\n",
       "      <td>10</td>\n",
       "      <td>4622</td>\n",
       "      <td>0</td>\n",
       "      <td>1482</td>\n",
       "      <td>1223</td>\n",
       "      <td>71</td>\n",
       "      <td>2619</td>\n",
       "      <td>...</td>\n",
       "      <td>676</td>\n",
       "      <td>2035</td>\n",
       "      <td>50</td>\n",
       "      <td>4666</td>\n",
       "      <td>1708</td>\n",
       "      <td>217</td>\n",
       "      <td>2957</td>\n",
       "      <td>294</td>\n",
       "      <td>3631</td>\n",
       "      <td>0</td>\n",
       "    </tr>\n",
       "    <tr>\n",
       "      <th>640</th>\n",
       "      <td>13-Oct-20</td>\n",
       "      <td>Recovered</td>\n",
       "      <td>73903</td>\n",
       "      <td>13</td>\n",
       "      <td>5715</td>\n",
       "      <td>0</td>\n",
       "      <td>1020</td>\n",
       "      <td>1030</td>\n",
       "      <td>109</td>\n",
       "      <td>2810</td>\n",
       "      <td>...</td>\n",
       "      <td>688</td>\n",
       "      <td>1768</td>\n",
       "      <td>89</td>\n",
       "      <td>5117</td>\n",
       "      <td>2009</td>\n",
       "      <td>220</td>\n",
       "      <td>3662</td>\n",
       "      <td>665</td>\n",
       "      <td>3185</td>\n",
       "      <td>0</td>\n",
       "    </tr>\n",
       "    <tr>\n",
       "      <th>641</th>\n",
       "      <td>13-Oct-20</td>\n",
       "      <td>Deceased</td>\n",
       "      <td>723</td>\n",
       "      <td>0</td>\n",
       "      <td>35</td>\n",
       "      <td>0</td>\n",
       "      <td>4</td>\n",
       "      <td>6</td>\n",
       "      <td>5</td>\n",
       "      <td>20</td>\n",
       "      <td>...</td>\n",
       "      <td>34</td>\n",
       "      <td>14</td>\n",
       "      <td>2</td>\n",
       "      <td>57</td>\n",
       "      <td>5</td>\n",
       "      <td>1</td>\n",
       "      <td>28</td>\n",
       "      <td>20</td>\n",
       "      <td>62</td>\n",
       "      <td>0</td>\n",
       "    </tr>\n",
       "  </tbody>\n",
       "</table>\n",
       "<p>6 rows × 41 columns</p>\n",
       "</div>"
      ],
      "text/plain": [
       "          Date     Status     TT  AN    AP   AR    AS    BR   CH    CT  ...  \\\n",
       "636  12-Oct-20  Confirmed  54261  18  3224  220  1521   732   94  2875  ...   \n",
       "637  12-Oct-20  Recovered  78365   6  5504  171  1457  1369  111  2769  ...   \n",
       "638  12-Oct-20   Deceased    710   0    32    0    10     9    1    33  ...   \n",
       "639  13-Oct-20  Confirmed  63520  10  4622    0  1482  1223   71  2619  ...   \n",
       "640  13-Oct-20  Recovered  73903  13  5715    0  1020  1030  109  2810  ...   \n",
       "641  13-Oct-20   Deceased    723   0    35    0     4     6    5    20  ...   \n",
       "\n",
       "       PB    RJ  SK    TN    TG   TR    UP   UT    WB  UN  \n",
       "636   562  2132   7  4879  1021  109  2182  296  3583   0  \n",
       "637  1552  1858   5  5165  2214  317  3342  664  3155   0  \n",
       "638    27    15   1    62     6    1    44   15    60   0  \n",
       "639   676  2035  50  4666  1708  217  2957  294  3631   0  \n",
       "640   688  1768  89  5117  2009  220  3662  665  3185   0  \n",
       "641    34    14   2    57     5    1    28   20    62   0  \n",
       "\n",
       "[6 rows x 41 columns]"
      ]
     },
     "execution_count": 3,
     "metadata": {},
     "output_type": "execute_result"
    }
   ],
   "source": [
    "#hide\n",
    "df.tail(6)"
   ]
  },
  {
   "cell_type": "code",
   "execution_count": 4,
   "metadata": {
    "execution": {
     "iopub.execute_input": "2020-10-13T19:13:45.751919Z",
     "iopub.status.busy": "2020-10-13T19:13:45.751317Z",
     "iopub.status.idle": "2020-10-13T19:13:45.753775Z",
     "shell.execute_reply": "2020-10-13T19:13:45.754238Z"
    },
    "papermill": {
     "duration": 0.022219,
     "end_time": "2020-10-13T19:13:45.754392",
     "exception": false,
     "start_time": "2020-10-13T19:13:45.732173",
     "status": "completed"
    },
    "tags": []
   },
   "outputs": [
    {
     "data": {
      "text/plain": [
       "('13-Oct-20', '12-Oct-20')"
      ]
     },
     "execution_count": 4,
     "metadata": {},
     "output_type": "execute_result"
    }
   ],
   "source": [
    "#hide\n",
    "dt_today = df.iloc[-1][0]\n",
    "dt_yday = df.iloc[-4][0]\n",
    "dt_today, dt_yday"
   ]
  },
  {
   "cell_type": "code",
   "execution_count": 5,
   "metadata": {
    "execution": {
     "iopub.execute_input": "2020-10-13T19:13:45.793019Z",
     "iopub.status.busy": "2020-10-13T19:13:45.792433Z",
     "iopub.status.idle": "2020-10-13T19:13:45.800107Z",
     "shell.execute_reply": "2020-10-13T19:13:45.799542Z"
    },
    "papermill": {
     "duration": 0.026025,
     "end_time": "2020-10-13T19:13:45.800242",
     "exception": false,
     "start_time": "2020-10-13T19:13:45.774217",
     "status": "completed"
    },
    "tags": []
   },
   "outputs": [],
   "source": [
    "#hide\n",
    "df_today = df.groupby('Status').sum()\n",
    "df_yday = df.iloc[:-3][:].groupby('Status').sum()"
   ]
  },
  {
   "cell_type": "code",
   "execution_count": 6,
   "metadata": {
    "execution": {
     "iopub.execute_input": "2020-10-13T19:13:45.842219Z",
     "iopub.status.busy": "2020-10-13T19:13:45.841602Z",
     "iopub.status.idle": "2020-10-13T19:13:45.844513Z",
     "shell.execute_reply": "2020-10-13T19:13:45.844954Z"
    },
    "papermill": {
     "duration": 0.031842,
     "end_time": "2020-10-13T19:13:45.845110",
     "exception": false,
     "start_time": "2020-10-13T19:13:45.813268",
     "status": "completed"
    },
    "tags": []
   },
   "outputs": [
    {
     "data": {
      "text/html": [
       "<div>\n",
       "<style scoped>\n",
       "    .dataframe tbody tr th:only-of-type {\n",
       "        vertical-align: middle;\n",
       "    }\n",
       "\n",
       "    .dataframe tbody tr th {\n",
       "        vertical-align: top;\n",
       "    }\n",
       "\n",
       "    .dataframe thead th {\n",
       "        text-align: right;\n",
       "    }\n",
       "</style>\n",
       "<table border=\"1\" class=\"dataframe\">\n",
       "  <thead>\n",
       "    <tr style=\"text-align: right;\">\n",
       "      <th></th>\n",
       "      <th>TT</th>\n",
       "      <th>AN</th>\n",
       "      <th>AP</th>\n",
       "      <th>AR</th>\n",
       "      <th>AS</th>\n",
       "      <th>BR</th>\n",
       "      <th>CH</th>\n",
       "      <th>CT</th>\n",
       "      <th>DN</th>\n",
       "      <th>DD</th>\n",
       "      <th>...</th>\n",
       "      <th>PB</th>\n",
       "      <th>RJ</th>\n",
       "      <th>SK</th>\n",
       "      <th>TN</th>\n",
       "      <th>TG</th>\n",
       "      <th>TR</th>\n",
       "      <th>UP</th>\n",
       "      <th>UT</th>\n",
       "      <th>WB</th>\n",
       "      <th>UN</th>\n",
       "    </tr>\n",
       "    <tr>\n",
       "      <th>Status</th>\n",
       "      <th></th>\n",
       "      <th></th>\n",
       "      <th></th>\n",
       "      <th></th>\n",
       "      <th></th>\n",
       "      <th></th>\n",
       "      <th></th>\n",
       "      <th></th>\n",
       "      <th></th>\n",
       "      <th></th>\n",
       "      <th></th>\n",
       "      <th></th>\n",
       "      <th></th>\n",
       "      <th></th>\n",
       "      <th></th>\n",
       "      <th></th>\n",
       "      <th></th>\n",
       "      <th></th>\n",
       "      <th></th>\n",
       "      <th></th>\n",
       "      <th></th>\n",
       "    </tr>\n",
       "  </thead>\n",
       "  <tbody>\n",
       "    <tr>\n",
       "      <th>Confirmed</th>\n",
       "      <td>7236449</td>\n",
       "      <td>4029</td>\n",
       "      <td>763573</td>\n",
       "      <td>12367</td>\n",
       "      <td>196684</td>\n",
       "      <td>198223</td>\n",
       "      <td>13331</td>\n",
       "      <td>147866</td>\n",
       "      <td>3164</td>\n",
       "      <td>0</td>\n",
       "      <td>...</td>\n",
       "      <td>125211</td>\n",
       "      <td>163219</td>\n",
       "      <td>3430</td>\n",
       "      <td>665930</td>\n",
       "      <td>214282</td>\n",
       "      <td>28675</td>\n",
       "      <td>442118</td>\n",
       "      <td>55641</td>\n",
       "      <td>302020</td>\n",
       "      <td>0</td>\n",
       "    </tr>\n",
       "    <tr>\n",
       "      <th>Deceased</th>\n",
       "      <td>110030</td>\n",
       "      <td>55</td>\n",
       "      <td>6291</td>\n",
       "      <td>24</td>\n",
       "      <td>834</td>\n",
       "      <td>961</td>\n",
       "      <td>197</td>\n",
       "      <td>1306</td>\n",
       "      <td>2</td>\n",
       "      <td>0</td>\n",
       "      <td>...</td>\n",
       "      <td>3894</td>\n",
       "      <td>1679</td>\n",
       "      <td>59</td>\n",
       "      <td>10371</td>\n",
       "      <td>1233</td>\n",
       "      <td>314</td>\n",
       "      <td>6466</td>\n",
       "      <td>782</td>\n",
       "      <td>5744</td>\n",
       "      <td>0</td>\n",
       "    </tr>\n",
       "    <tr>\n",
       "      <th>Recovered</th>\n",
       "      <td>6298667</td>\n",
       "      <td>3774</td>\n",
       "      <td>714427</td>\n",
       "      <td>9403</td>\n",
       "      <td>167056</td>\n",
       "      <td>186623</td>\n",
       "      <td>12007</td>\n",
       "      <td>119350</td>\n",
       "      <td>3029</td>\n",
       "      <td>0</td>\n",
       "      <td>...</td>\n",
       "      <td>113105</td>\n",
       "      <td>139616</td>\n",
       "      <td>2934</td>\n",
       "      <td>612320</td>\n",
       "      <td>189351</td>\n",
       "      <td>24600</td>\n",
       "      <td>397570</td>\n",
       "      <td>47971</td>\n",
       "      <td>265288</td>\n",
       "      <td>0</td>\n",
       "    </tr>\n",
       "  </tbody>\n",
       "</table>\n",
       "<p>3 rows × 39 columns</p>\n",
       "</div>"
      ],
      "text/plain": [
       "                TT    AN      AP     AR      AS      BR     CH      CT    DN  \\\n",
       "Status                                                                         \n",
       "Confirmed  7236449  4029  763573  12367  196684  198223  13331  147866  3164   \n",
       "Deceased    110030    55    6291     24     834     961    197    1306     2   \n",
       "Recovered  6298667  3774  714427   9403  167056  186623  12007  119350  3029   \n",
       "\n",
       "           DD  ...      PB      RJ    SK      TN      TG     TR      UP  \\\n",
       "Status         ...                                                        \n",
       "Confirmed   0  ...  125211  163219  3430  665930  214282  28675  442118   \n",
       "Deceased    0  ...    3894    1679    59   10371    1233    314    6466   \n",
       "Recovered   0  ...  113105  139616  2934  612320  189351  24600  397570   \n",
       "\n",
       "              UT      WB  UN  \n",
       "Status                        \n",
       "Confirmed  55641  302020   0  \n",
       "Deceased     782    5744   0  \n",
       "Recovered  47971  265288   0  \n",
       "\n",
       "[3 rows x 39 columns]"
      ]
     },
     "execution_count": 6,
     "metadata": {},
     "output_type": "execute_result"
    }
   ],
   "source": [
    "#hide\n",
    "df_today"
   ]
  },
  {
   "cell_type": "code",
   "execution_count": 7,
   "metadata": {
    "execution": {
     "iopub.execute_input": "2020-10-13T19:13:45.892413Z",
     "iopub.status.busy": "2020-10-13T19:13:45.891818Z",
     "iopub.status.idle": "2020-10-13T19:13:45.894579Z",
     "shell.execute_reply": "2020-10-13T19:13:45.895111Z"
    },
    "papermill": {
     "duration": 0.0359,
     "end_time": "2020-10-13T19:13:45.895270",
     "exception": false,
     "start_time": "2020-10-13T19:13:45.859370",
     "status": "completed"
    },
    "tags": []
   },
   "outputs": [
    {
     "data": {
      "text/html": [
       "<div>\n",
       "<style scoped>\n",
       "    .dataframe tbody tr th:only-of-type {\n",
       "        vertical-align: middle;\n",
       "    }\n",
       "\n",
       "    .dataframe tbody tr th {\n",
       "        vertical-align: top;\n",
       "    }\n",
       "\n",
       "    .dataframe thead th {\n",
       "        text-align: right;\n",
       "    }\n",
       "</style>\n",
       "<table border=\"1\" class=\"dataframe\">\n",
       "  <thead>\n",
       "    <tr style=\"text-align: right;\">\n",
       "      <th></th>\n",
       "      <th>TT</th>\n",
       "      <th>AN</th>\n",
       "      <th>AP</th>\n",
       "      <th>AR</th>\n",
       "      <th>AS</th>\n",
       "      <th>BR</th>\n",
       "      <th>CH</th>\n",
       "      <th>CT</th>\n",
       "      <th>DN</th>\n",
       "      <th>DD</th>\n",
       "      <th>...</th>\n",
       "      <th>PB</th>\n",
       "      <th>RJ</th>\n",
       "      <th>SK</th>\n",
       "      <th>TN</th>\n",
       "      <th>TG</th>\n",
       "      <th>TR</th>\n",
       "      <th>UP</th>\n",
       "      <th>UT</th>\n",
       "      <th>WB</th>\n",
       "      <th>UN</th>\n",
       "    </tr>\n",
       "    <tr>\n",
       "      <th>Status</th>\n",
       "      <th></th>\n",
       "      <th></th>\n",
       "      <th></th>\n",
       "      <th></th>\n",
       "      <th></th>\n",
       "      <th></th>\n",
       "      <th></th>\n",
       "      <th></th>\n",
       "      <th></th>\n",
       "      <th></th>\n",
       "      <th></th>\n",
       "      <th></th>\n",
       "      <th></th>\n",
       "      <th></th>\n",
       "      <th></th>\n",
       "      <th></th>\n",
       "      <th></th>\n",
       "      <th></th>\n",
       "      <th></th>\n",
       "      <th></th>\n",
       "      <th></th>\n",
       "    </tr>\n",
       "  </thead>\n",
       "  <tbody>\n",
       "    <tr>\n",
       "      <th>Confirmed</th>\n",
       "      <td>7172929</td>\n",
       "      <td>4019</td>\n",
       "      <td>758951</td>\n",
       "      <td>12367</td>\n",
       "      <td>195202</td>\n",
       "      <td>197000</td>\n",
       "      <td>13260</td>\n",
       "      <td>145247</td>\n",
       "      <td>3164</td>\n",
       "      <td>0</td>\n",
       "      <td>...</td>\n",
       "      <td>124535</td>\n",
       "      <td>161184</td>\n",
       "      <td>3380</td>\n",
       "      <td>661264</td>\n",
       "      <td>212574</td>\n",
       "      <td>28458</td>\n",
       "      <td>439161</td>\n",
       "      <td>55347</td>\n",
       "      <td>298389</td>\n",
       "      <td>0</td>\n",
       "    </tr>\n",
       "    <tr>\n",
       "      <th>Deceased</th>\n",
       "      <td>109307</td>\n",
       "      <td>55</td>\n",
       "      <td>6256</td>\n",
       "      <td>24</td>\n",
       "      <td>830</td>\n",
       "      <td>955</td>\n",
       "      <td>192</td>\n",
       "      <td>1286</td>\n",
       "      <td>2</td>\n",
       "      <td>0</td>\n",
       "      <td>...</td>\n",
       "      <td>3860</td>\n",
       "      <td>1665</td>\n",
       "      <td>57</td>\n",
       "      <td>10314</td>\n",
       "      <td>1228</td>\n",
       "      <td>313</td>\n",
       "      <td>6438</td>\n",
       "      <td>762</td>\n",
       "      <td>5682</td>\n",
       "      <td>0</td>\n",
       "    </tr>\n",
       "    <tr>\n",
       "      <th>Recovered</th>\n",
       "      <td>6224764</td>\n",
       "      <td>3761</td>\n",
       "      <td>708712</td>\n",
       "      <td>9403</td>\n",
       "      <td>166036</td>\n",
       "      <td>185593</td>\n",
       "      <td>11898</td>\n",
       "      <td>116540</td>\n",
       "      <td>3019</td>\n",
       "      <td>0</td>\n",
       "      <td>...</td>\n",
       "      <td>112417</td>\n",
       "      <td>137848</td>\n",
       "      <td>2845</td>\n",
       "      <td>607203</td>\n",
       "      <td>187342</td>\n",
       "      <td>24380</td>\n",
       "      <td>393908</td>\n",
       "      <td>47306</td>\n",
       "      <td>262103</td>\n",
       "      <td>0</td>\n",
       "    </tr>\n",
       "  </tbody>\n",
       "</table>\n",
       "<p>3 rows × 39 columns</p>\n",
       "</div>"
      ],
      "text/plain": [
       "                TT    AN      AP     AR      AS      BR     CH      CT    DN  \\\n",
       "Status                                                                         \n",
       "Confirmed  7172929  4019  758951  12367  195202  197000  13260  145247  3164   \n",
       "Deceased    109307    55    6256     24     830     955    192    1286     2   \n",
       "Recovered  6224764  3761  708712   9403  166036  185593  11898  116540  3019   \n",
       "\n",
       "           DD  ...      PB      RJ    SK      TN      TG     TR      UP  \\\n",
       "Status         ...                                                        \n",
       "Confirmed   0  ...  124535  161184  3380  661264  212574  28458  439161   \n",
       "Deceased    0  ...    3860    1665    57   10314    1228    313    6438   \n",
       "Recovered   0  ...  112417  137848  2845  607203  187342  24380  393908   \n",
       "\n",
       "              UT      WB  UN  \n",
       "Status                        \n",
       "Confirmed  55347  298389   0  \n",
       "Deceased     762    5682   0  \n",
       "Recovered  47306  262103   0  \n",
       "\n",
       "[3 rows x 39 columns]"
      ]
     },
     "execution_count": 7,
     "metadata": {},
     "output_type": "execute_result"
    }
   ],
   "source": [
    "#hide\n",
    "df_yday.head()"
   ]
  },
  {
   "cell_type": "code",
   "execution_count": 8,
   "metadata": {
    "execution": {
     "iopub.execute_input": "2020-10-13T19:13:45.938676Z",
     "iopub.status.busy": "2020-10-13T19:13:45.938081Z",
     "iopub.status.idle": "2020-10-13T19:13:45.940594Z",
     "shell.execute_reply": "2020-10-13T19:13:45.941153Z"
    },
    "papermill": {
     "duration": 0.02971,
     "end_time": "2020-10-13T19:13:45.941338",
     "exception": false,
     "start_time": "2020-10-13T19:13:45.911628",
     "status": "completed"
    },
    "tags": []
   },
   "outputs": [
    {
     "data": {
      "text/plain": [
       "{'updated': '13-Oct-20',\n",
       " 'since': '12-Oct-20',\n",
       " 'Cases': 7236449,\n",
       " 'Deaths': 110030,\n",
       " 'Recovered': 6298667,\n",
       " 'PCases': 7172929,\n",
       " 'PDeaths': 109307,\n",
       " 'PRecovered': 6224764,\n",
       " 'Cases (+)': 63520,\n",
       " 'Deaths (+)': 723,\n",
       " 'Recovered (+)': 73903}"
      ]
     },
     "execution_count": 8,
     "metadata": {},
     "output_type": "execute_result"
    }
   ],
   "source": [
    "#hide\n",
    "summary = {\n",
    "    'updated' : dt_today,\n",
    "    'since' : dt_yday,\n",
    "    'Cases' : df_today['TT'][0],\n",
    "    'Deaths' : df_today['TT'][1],\n",
    "    'Recovered' : df_today['TT'][2],\n",
    "    'PCases' : df_yday['TT'][0],\n",
    "    'PDeaths' : df_yday['TT'][1],\n",
    "    'PRecovered': df_yday['TT'][2],\n",
    "    'Cases (+)' : df_today['TT'][0] - df_yday['TT'][0],\n",
    "    'Deaths (+)' : df_today['TT'][1] - df_yday['TT'][1],\n",
    "    'Recovered (+)': df_today['TT'][2] - df_yday['TT'][2]\n",
    "}\n",
    "\n",
    "summary"
   ]
  },
  {
   "cell_type": "code",
   "execution_count": 9,
   "metadata": {
    "execution": {
     "iopub.execute_input": "2020-10-13T19:13:45.975902Z",
     "iopub.status.busy": "2020-10-13T19:13:45.975297Z",
     "iopub.status.idle": "2020-10-13T19:13:45.978700Z",
     "shell.execute_reply": "2020-10-13T19:13:45.979143Z"
    },
    "papermill": {
     "duration": 0.023431,
     "end_time": "2020-10-13T19:13:45.979293",
     "exception": false,
     "start_time": "2020-10-13T19:13:45.955862",
     "status": "completed"
    },
    "tags": []
   },
   "outputs": [],
   "source": [
    "#hide\n",
    "overview = '''\n",
    "<!-- #######  HTML!! #########-->\n",
    "<h1 style=\"color: #5e9ca0; text-align: center;\">India</h1>\n",
    "<p style=\"text-align: center;\">Last update: <strong>{update}</strong></p>\n",
    "<p style=\"text-align: center;\">Confirmed cases:</p>\n",
    "<p style=\"text-align: center;font-size:24px;\">{cases} (<span style=\"color: #ff0000;\">+{new}</span>)</p>\n",
    "<p style=\"text-align: center;\">Confirmed deaths:</p>\n",
    "<p style=\"text-align: center;font-size:24px;\">{deaths} (<span style=\"color: #ff0000;\">+{dnew}</span>)</p>\n",
    "<p style=\"text-align: center;\">Recovered cases:</p>\n",
    "<p style=\"text-align: center;font-size:24px;\">{recovered} (<span style=\"color: #00ff00;\">+{rnew}</span>)</p>\n",
    "'''"
   ]
  },
  {
   "cell_type": "code",
   "execution_count": 10,
   "metadata": {
    "execution": {
     "iopub.execute_input": "2020-10-13T19:13:46.312799Z",
     "iopub.status.busy": "2020-10-13T19:13:46.311690Z",
     "iopub.status.idle": "2020-10-13T19:13:46.316479Z",
     "shell.execute_reply": "2020-10-13T19:13:46.315997Z"
    },
    "papermill": {
     "duration": 0.322357,
     "end_time": "2020-10-13T19:13:46.316614",
     "exception": false,
     "start_time": "2020-10-13T19:13:45.994257",
     "status": "completed"
    },
    "tags": []
   },
   "outputs": [
    {
     "data": {
      "text/html": [
       "\n",
       "<!-- #######  HTML!! #########-->\n",
       "<h1 style=\"color: #5e9ca0; text-align: center;\">India</h1>\n",
       "<p style=\"text-align: center;\">Last update: <strong>13-Oct-20</strong></p>\n",
       "<p style=\"text-align: center;\">Confirmed cases:</p>\n",
       "<p style=\"text-align: center;font-size:24px;\">7236449 (<span style=\"color: #ff0000;\">+63520</span>)</p>\n",
       "<p style=\"text-align: center;\">Confirmed deaths:</p>\n",
       "<p style=\"text-align: center;font-size:24px;\">110030 (<span style=\"color: #ff0000;\">+723</span>)</p>\n",
       "<p style=\"text-align: center;\">Recovered cases:</p>\n",
       "<p style=\"text-align: center;font-size:24px;\">6298667 (<span style=\"color: #00ff00;\">+73903</span>)</p>\n"
      ],
      "text/plain": [
       "<IPython.core.display.HTML object>"
      ]
     },
     "metadata": {},
     "output_type": "display_data"
    }
   ],
   "source": [
    "#hide_input\n",
    "# Fill the above HTML with the information from the summary dictionary\n",
    "\n",
    "update = summary['updated']\n",
    "cases = summary['Cases']\n",
    "new = summary['Cases (+)']\n",
    "deaths = summary['Deaths']\n",
    "dnew = summary['Deaths (+)']\n",
    "recovered = summary['Recovered']\n",
    "rnew = summary['Recovered (+)']\n",
    "\n",
    "html = HTML(overview.format(update=update, cases=cases,new=new,deaths=deaths,dnew=dnew, recovered=recovered, rnew=rnew))\n",
    "\n",
    "display(html)"
   ]
  },
  {
   "cell_type": "code",
   "execution_count": 11,
   "metadata": {
    "execution": {
     "iopub.execute_input": "2020-10-13T19:13:46.372961Z",
     "iopub.status.busy": "2020-10-13T19:13:46.372349Z",
     "iopub.status.idle": "2020-10-13T19:13:46.377608Z",
     "shell.execute_reply": "2020-10-13T19:13:46.377047Z"
    },
    "papermill": {
     "duration": 0.029117,
     "end_time": "2020-10-13T19:13:46.377744",
     "exception": false,
     "start_time": "2020-10-13T19:13:46.348627",
     "status": "completed"
    },
    "tags": []
   },
   "outputs": [],
   "source": [
    "#hide\n",
    "df_cases = df[df['Status'] == 'Confirmed'].copy()\n",
    "df_cases.drop(columns = ['Status'], inplace=True)\n",
    "df_deaths = df[df['Status'] == 'Deceased'].copy()\n",
    "df_deaths.drop(columns = ['Status'], inplace=True)\n",
    "df_recovered = df[df['Status'] == 'Recovered'].copy()\n",
    "df_recovered.drop(columns = ['Status'], inplace=True)"
   ]
  },
  {
   "cell_type": "markdown",
   "metadata": {
    "papermill": {
     "duration": 0.015667,
     "end_time": "2020-10-13T19:13:46.410560",
     "exception": false,
     "start_time": "2020-10-13T19:13:46.394893",
     "status": "completed"
    },
    "tags": []
   },
   "source": [
    "Plot for India:"
   ]
  },
  {
   "cell_type": "code",
   "execution_count": 12,
   "metadata": {
    "execution": {
     "iopub.execute_input": "2020-10-13T19:13:46.453060Z",
     "iopub.status.busy": "2020-10-13T19:13:46.452441Z",
     "iopub.status.idle": "2020-10-13T19:13:46.727276Z",
     "shell.execute_reply": "2020-10-13T19:13:46.727746Z"
    },
    "papermill": {
     "duration": 0.301612,
     "end_time": "2020-10-13T19:13:46.727902",
     "exception": false,
     "start_time": "2020-10-13T19:13:46.426290",
     "status": "completed"
    },
    "tags": []
   },
   "outputs": [
    {
     "data": {
      "image/png": "[encoded data removed]",
      "text/plain": [
       "<Figure size 1296x432 with 1 Axes>"
      ]
     },
     "metadata": {
      "needs_background": "light"
     },
     "output_type": "display_data"
    }
   ],
   "source": [
    "#hide_input\n",
    "plt.figure(figsize = (18,6))\n",
    "plt.plot(df_cases['Date'], df_cases['TT'],'.-', alpha=0.7, color='b', label='Confirmed cases')\n",
    "plt.plot(df_recovered['Date'], df_recovered['TT'],'.-', alpha=0.7, color='g', label='Recovered')\n",
    "plt.plot(df_deaths['Date'], df_deaths['TT'],'.-', alpha=0.7, color='r', label='Deceased')\n",
    "plt.legend()\n",
    "plt.title(\"Cases per day in India\")\n",
    "plt.xticks(ticks=' ')\n",
    "plt.xlabel(f'{df_cases.iloc[0][0]} to {df_cases.iloc[-1][0]}')\n",
    "plt.ylabel('No. of cases');"
   ]
  },
  {
   "cell_type": "markdown",
   "metadata": {
    "papermill": {
     "duration": 0.017392,
     "end_time": "2020-10-13T19:13:46.762918",
     "exception": false,
     "start_time": "2020-10-13T19:13:46.745526",
     "status": "completed"
    },
    "tags": []
   },
   "source": [
    "Plots for the states with highest number of cases:"
   ]
  },
  {
   "cell_type": "code",
   "execution_count": 13,
   "metadata": {
    "execution": {
     "iopub.execute_input": "2020-10-13T19:13:46.810103Z",
     "iopub.status.busy": "2020-10-13T19:13:46.809474Z",
     "iopub.status.idle": "2020-10-13T19:13:47.450146Z",
     "shell.execute_reply": "2020-10-13T19:13:47.450617Z"
    },
    "papermill": {
     "duration": 0.670725,
     "end_time": "2020-10-13T19:13:47.450772",
     "exception": false,
     "start_time": "2020-10-13T19:13:46.780047",
     "status": "completed"
    },
    "tags": []
   },
   "outputs": [
    {
     "data": {
      "image/png": "[encoded data removed]",
      "text/plain": [
       "<Figure size 1512x432 with 3 Axes>"
      ]
     },
     "metadata": {
      "needs_background": "light"
     },
     "output_type": "display_data"
    }
   ],
   "source": [
    "#hide_input\n",
    "top_3 = sorted(df_cases.sum().values[1:], reverse=True)[1:4]\n",
    "top3_states=[]\n",
    "for i in top_3:\n",
    "    top3_states.append(df_cases.sum()[df_cases.sum() == i].index)\n",
    "\n",
    "\n",
    "fig, ax = plt.subplots(1,3,figsize = (21,6))\n",
    "for i in range(3):\n",
    "    state = top3_states[i].values[0]\n",
    "    ax[i].plot(df_cases['Date'], df_cases[state],'.-', color='b', alpha=0.7)\n",
    "    ax[i].plot(df_deaths['Date'], df_deaths[state],'.-', color='r', alpha=0.7)\n",
    "    ax[i].plot(df_recovered['Date'], df_recovered[state],'.-', color='g', alpha=0.7)\n",
    "    \n",
    "    ax[i].set_title(f\"Cases in {state}\")\n",
    "    ax[i].set_xticks(ticks=' ')\n",
    "    ax[i].set_xlabel(f'{df_cases.iloc[0][0]} to {df_cases.iloc[-1][0]}')\n",
    "    ax[i].set_ylabel('No. of cases');"
   ]
  },
  {
   "cell_type": "code",
   "execution_count": null,
   "metadata": {
    "papermill": {
     "duration": 0.0204,
     "end_time": "2020-10-13T19:13:47.491429",
     "exception": false,
     "start_time": "2020-10-13T19:13:47.471029",
     "status": "completed"
    },
    "tags": []
   },
   "outputs": [],
   "source": []
  },
  {
   "cell_type": "code",
   "execution_count": null,
   "metadata": {
    "papermill": {
     "duration": 0.019766,
     "end_time": "2020-10-13T19:13:47.530996",
     "exception": false,
     "start_time": "2020-10-13T19:13:47.511230",
     "status": "completed"
    },
    "tags": []
   },
   "outputs": [],
   "source": []
  },
  {
   "cell_type": "code",
   "execution_count": null,
   "metadata": {
    "papermill": {
     "duration": 0.019729,
     "end_time": "2020-10-13T19:13:47.570497",
     "exception": false,
     "start_time": "2020-10-13T19:13:47.550768",
     "status": "completed"
    },
    "tags": []
   },
   "outputs": [],
   "source": []
  }
 ],
 "metadata": {
  "kernelspec": {
   "display_name": "Python 3",
   "language": "python",
   "name": "python3"
  },
  "language_info": {
   "codemirror_mode": {
    "name": "ipython",
    "version": 3
   },
   "file_extension": ".py",
   "mimetype": "text/x-python",
   "name": "python",
   "nbconvert_exporter": "python",
   "pygments_lexer": "ipython3",
   "version": "3.6.12"
  },
  "papermill": {
   "duration": 4.305811,
   "end_time": "2020-10-13T19:13:47.998827",
   "environment_variables": {},
   "exception": null,
   "input_path": "2020-08-09-DailyUpdate.ipynb",
   "output_path": "2020-08-09-DailyUpdate.ipynb",
   "parameters": {},
   "start_time": "2020-10-13T19:13:43.693016",
   "version": "2.1.2"
  }
 },
 "nbformat": 4,
 "nbformat_minor": 4
}