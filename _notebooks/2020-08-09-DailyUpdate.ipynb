{
 "cells": [
  {
   "cell_type": "markdown",
   "metadata": {
    "papermill": {
     "duration": 0.017792,
     "end_time": "2020-09-28T19:13:04.480726",
     "exception": false,
     "start_time": "2020-09-28T19:13:04.462934",
     "status": "completed"
    },
    "tags": []
   },
   "source": [
    "# COVID-19 India Daily updates\n",
    "> Tracking coronavirus total cases, deaths and new cases in India on a daily basis\n",
    "\n",
    "- author: Vaibhav Mahapatra"
   ]
  },
  {
   "cell_type": "code",
   "execution_count": 1,
   "metadata": {
    "execution": {
     "iopub.execute_input": "2020-09-28T19:13:04.579711Z",
     "iopub.status.busy": "2020-09-28T19:13:04.578956Z",
     "iopub.status.idle": "2020-09-28T19:13:05.225865Z",
     "shell.execute_reply": "2020-09-28T19:13:05.225301Z"
    },
    "papermill": {
     "duration": 0.667775,
     "end_time": "2020-09-28T19:13:05.226017",
     "exception": false,
     "start_time": "2020-09-28T19:13:04.558242",
     "status": "completed"
    },
    "tags": []
   },
   "outputs": [],
   "source": [
    "#hide\n",
    "\n",
    "## Import essential packages below\n",
    "\n",
    "import pandas as pd\n",
    "import numpy as np\n",
    "import requests\n",
    "import json\n",
    "import matplotlib.pyplot as plt\n",
    "import matplotlib.dates as mdates\n",
    "import matplotlib as mpl\n",
    "from IPython.core.display import display,HTML\n",
    "%matplotlib inline"
   ]
  },
  {
   "cell_type": "code",
   "execution_count": 2,
   "metadata": {
    "execution": {
     "iopub.execute_input": "2020-09-28T19:13:05.259457Z",
     "iopub.status.busy": "2020-09-28T19:13:05.258768Z",
     "iopub.status.idle": "2020-09-28T19:13:05.498752Z",
     "shell.execute_reply": "2020-09-28T19:13:05.497736Z"
    },
    "papermill": {
     "duration": 0.258795,
     "end_time": "2020-09-28T19:13:05.498896",
     "exception": false,
     "start_time": "2020-09-28T19:13:05.240101",
     "status": "completed"
    },
    "tags": []
   },
   "outputs": [
    {
     "data": {
      "text/plain": [
       "(597, 41)"
      ]
     },
     "execution_count": 2,
     "metadata": {},
     "output_type": "execute_result"
    }
   ],
   "source": [
    "#hide\n",
    "url = 'https://api.covid19india.org/csv/latest/state_wise_daily.csv'\n",
    "df = pd.read_csv(url)\n",
    "df.shape"
   ]
  },
  {
   "cell_type": "code",
   "execution_count": 3,
   "metadata": {
    "execution": {
     "iopub.execute_input": "2020-09-28T19:13:05.577680Z",
     "iopub.status.busy": "2020-09-28T19:13:05.577002Z",
     "iopub.status.idle": "2020-09-28T19:13:05.588935Z",
     "shell.execute_reply": "2020-09-28T19:13:05.589766Z"
    },
    "papermill": {
     "duration": 0.07554,
     "end_time": "2020-09-28T19:13:05.589950",
     "exception": false,
     "start_time": "2020-09-28T19:13:05.514410",
     "status": "completed"
    },
    "tags": []
   },
   "outputs": [
    {
     "data": {
      "text/html": [
       "<div>\n",
       "<style scoped>\n",
       "    .dataframe tbody tr th:only-of-type {\n",
       "        vertical-align: middle;\n",
       "    }\n",
       "\n",
       "    .dataframe tbody tr th {\n",
       "        vertical-align: top;\n",
       "    }\n",
       "\n",
       "    .dataframe thead th {\n",
       "        text-align: right;\n",
       "    }\n",
       "</style>\n",
       "<table border=\"1\" class=\"dataframe\">\n",
       "  <thead>\n",
       "    <tr style=\"text-align: right;\">\n",
       "      <th></th>\n",
       "      <th>Date</th>\n",
       "      <th>Status</th>\n",
       "      <th>TT</th>\n",
       "      <th>AN</th>\n",
       "      <th>AP</th>\n",
       "      <th>AR</th>\n",
       "      <th>AS</th>\n",
       "      <th>BR</th>\n",
       "      <th>CH</th>\n",
       "      <th>CT</th>\n",
       "      <th>...</th>\n",
       "      <th>PB</th>\n",
       "      <th>RJ</th>\n",
       "      <th>SK</th>\n",
       "      <th>TN</th>\n",
       "      <th>TG</th>\n",
       "      <th>TR</th>\n",
       "      <th>UP</th>\n",
       "      <th>UT</th>\n",
       "      <th>WB</th>\n",
       "      <th>UN</th>\n",
       "    </tr>\n",
       "  </thead>\n",
       "  <tbody>\n",
       "    <tr>\n",
       "      <th>591</th>\n",
       "      <td>27-Sep-20</td>\n",
       "      <td>Confirmed</td>\n",
       "      <td>82770</td>\n",
       "      <td>20</td>\n",
       "      <td>6923</td>\n",
       "      <td>135</td>\n",
       "      <td>875</td>\n",
       "      <td>1527</td>\n",
       "      <td>173</td>\n",
       "      <td>2272</td>\n",
       "      <td>...</td>\n",
       "      <td>1422</td>\n",
       "      <td>2084</td>\n",
       "      <td>38</td>\n",
       "      <td>5791</td>\n",
       "      <td>1967</td>\n",
       "      <td>320</td>\n",
       "      <td>4250</td>\n",
       "      <td>764</td>\n",
       "      <td>3185</td>\n",
       "      <td>0</td>\n",
       "    </tr>\n",
       "    <tr>\n",
       "      <th>592</th>\n",
       "      <td>27-Sep-20</td>\n",
       "      <td>Recovered</td>\n",
       "      <td>74691</td>\n",
       "      <td>2</td>\n",
       "      <td>7796</td>\n",
       "      <td>98</td>\n",
       "      <td>1670</td>\n",
       "      <td>1405</td>\n",
       "      <td>166</td>\n",
       "      <td>1269</td>\n",
       "      <td>...</td>\n",
       "      <td>2299</td>\n",
       "      <td>1724</td>\n",
       "      <td>49</td>\n",
       "      <td>5706</td>\n",
       "      <td>2058</td>\n",
       "      <td>400</td>\n",
       "      <td>5656</td>\n",
       "      <td>813</td>\n",
       "      <td>2946</td>\n",
       "      <td>0</td>\n",
       "    </tr>\n",
       "    <tr>\n",
       "      <th>593</th>\n",
       "      <td>27-Sep-20</td>\n",
       "      <td>Deceased</td>\n",
       "      <td>1040</td>\n",
       "      <td>1</td>\n",
       "      <td>45</td>\n",
       "      <td>0</td>\n",
       "      <td>17</td>\n",
       "      <td>2</td>\n",
       "      <td>2</td>\n",
       "      <td>31</td>\n",
       "      <td>...</td>\n",
       "      <td>50</td>\n",
       "      <td>15</td>\n",
       "      <td>2</td>\n",
       "      <td>80</td>\n",
       "      <td>9</td>\n",
       "      <td>2</td>\n",
       "      <td>77</td>\n",
       "      <td>8</td>\n",
       "      <td>60</td>\n",
       "      <td>0</td>\n",
       "    </tr>\n",
       "    <tr>\n",
       "      <th>594</th>\n",
       "      <td>28-Sep-20</td>\n",
       "      <td>Confirmed</td>\n",
       "      <td>65943</td>\n",
       "      <td>9</td>\n",
       "      <td>5487</td>\n",
       "      <td>328</td>\n",
       "      <td>3644</td>\n",
       "      <td>1150</td>\n",
       "      <td>125</td>\n",
       "      <td>0</td>\n",
       "      <td>...</td>\n",
       "      <td>1269</td>\n",
       "      <td>2112</td>\n",
       "      <td>25</td>\n",
       "      <td>5589</td>\n",
       "      <td>1378</td>\n",
       "      <td>193</td>\n",
       "      <td>3790</td>\n",
       "      <td>457</td>\n",
       "      <td>3155</td>\n",
       "      <td>0</td>\n",
       "    </tr>\n",
       "    <tr>\n",
       "      <th>595</th>\n",
       "      <td>28-Sep-20</td>\n",
       "      <td>Recovered</td>\n",
       "      <td>82881</td>\n",
       "      <td>29</td>\n",
       "      <td>7210</td>\n",
       "      <td>97</td>\n",
       "      <td>2320</td>\n",
       "      <td>1651</td>\n",
       "      <td>222</td>\n",
       "      <td>0</td>\n",
       "      <td>...</td>\n",
       "      <td>2033</td>\n",
       "      <td>1754</td>\n",
       "      <td>18</td>\n",
       "      <td>5554</td>\n",
       "      <td>1932</td>\n",
       "      <td>567</td>\n",
       "      <td>5382</td>\n",
       "      <td>1184</td>\n",
       "      <td>2923</td>\n",
       "      <td>0</td>\n",
       "    </tr>\n",
       "    <tr>\n",
       "      <th>596</th>\n",
       "      <td>28-Sep-20</td>\n",
       "      <td>Deceased</td>\n",
       "      <td>746</td>\n",
       "      <td>0</td>\n",
       "      <td>37</td>\n",
       "      <td>1</td>\n",
       "      <td>12</td>\n",
       "      <td>4</td>\n",
       "      <td>6</td>\n",
       "      <td>0</td>\n",
       "      <td>...</td>\n",
       "      <td>46</td>\n",
       "      <td>15</td>\n",
       "      <td>2</td>\n",
       "      <td>70</td>\n",
       "      <td>7</td>\n",
       "      <td>3</td>\n",
       "      <td>58</td>\n",
       "      <td>6</td>\n",
       "      <td>56</td>\n",
       "      <td>0</td>\n",
       "    </tr>\n",
       "  </tbody>\n",
       "</table>\n",
       "<p>6 rows × 41 columns</p>\n",
       "</div>"
      ],
      "text/plain": [
       "          Date     Status     TT  AN    AP   AR    AS    BR   CH    CT  ...  \\\n",
       "591  27-Sep-20  Confirmed  82770  20  6923  135   875  1527  173  2272  ...   \n",
       "592  27-Sep-20  Recovered  74691   2  7796   98  1670  1405  166  1269  ...   \n",
       "593  27-Sep-20   Deceased   1040   1    45    0    17     2    2    31  ...   \n",
       "594  28-Sep-20  Confirmed  65943   9  5487  328  3644  1150  125     0  ...   \n",
       "595  28-Sep-20  Recovered  82881  29  7210   97  2320  1651  222     0  ...   \n",
       "596  28-Sep-20   Deceased    746   0    37    1    12     4    6     0  ...   \n",
       "\n",
       "       PB    RJ  SK    TN    TG   TR    UP    UT    WB  UN  \n",
       "591  1422  2084  38  5791  1967  320  4250   764  3185   0  \n",
       "592  2299  1724  49  5706  2058  400  5656   813  2946   0  \n",
       "593    50    15   2    80     9    2    77     8    60   0  \n",
       "594  1269  2112  25  5589  1378  193  3790   457  3155   0  \n",
       "595  2033  1754  18  5554  1932  567  5382  1184  2923   0  \n",
       "596    46    15   2    70     7    3    58     6    56   0  \n",
       "\n",
       "[6 rows x 41 columns]"
      ]
     },
     "execution_count": 3,
     "metadata": {},
     "output_type": "execute_result"
    }
   ],
   "source": [
    "#hide\n",
    "df.tail(6)"
   ]
  },
  {
   "cell_type": "code",
   "execution_count": 4,
   "metadata": {
    "execution": {
     "iopub.execute_input": "2020-09-28T19:13:05.626427Z",
     "iopub.status.busy": "2020-09-28T19:13:05.625744Z",
     "iopub.status.idle": "2020-09-28T19:13:05.629400Z",
     "shell.execute_reply": "2020-09-28T19:13:05.628766Z"
    },
    "papermill": {
     "duration": 0.024613,
     "end_time": "2020-09-28T19:13:05.629531",
     "exception": false,
     "start_time": "2020-09-28T19:13:05.604918",
     "status": "completed"
    },
    "tags": []
   },
   "outputs": [
    {
     "data": {
      "text/plain": [
       "('28-Sep-20', '27-Sep-20')"
      ]
     },
     "execution_count": 4,
     "metadata": {},
     "output_type": "execute_result"
    }
   ],
   "source": [
    "#hide\n",
    "dt_today = df.iloc[-1][0]\n",
    "dt_yday = df.iloc[-4][0]\n",
    "dt_today, dt_yday"
   ]
  },
  {
   "cell_type": "code",
   "execution_count": 5,
   "metadata": {
    "execution": {
     "iopub.execute_input": "2020-09-28T19:13:05.665205Z",
     "iopub.status.busy": "2020-09-28T19:13:05.664604Z",
     "iopub.status.idle": "2020-09-28T19:13:05.672044Z",
     "shell.execute_reply": "2020-09-28T19:13:05.671499Z"
    },
    "papermill": {
     "duration": 0.028073,
     "end_time": "2020-09-28T19:13:05.672165",
     "exception": false,
     "start_time": "2020-09-28T19:13:05.644092",
     "status": "completed"
    },
    "tags": []
   },
   "outputs": [],
   "source": [
    "#hide\n",
    "df_today = df.groupby('Status').sum()\n",
    "df_yday = df.iloc[:-3][:].groupby('Status').sum()"
   ]
  },
  {
   "cell_type": "code",
   "execution_count": 6,
   "metadata": {
    "execution": {
     "iopub.execute_input": "2020-09-28T19:13:05.720020Z",
     "iopub.status.busy": "2020-09-28T19:13:05.719179Z",
     "iopub.status.idle": "2020-09-28T19:13:05.722006Z",
     "shell.execute_reply": "2020-09-28T19:13:05.722683Z"
    },
    "papermill": {
     "duration": 0.03503,
     "end_time": "2020-09-28T19:13:05.722865",
     "exception": false,
     "start_time": "2020-09-28T19:13:05.687835",
     "status": "completed"
    },
    "tags": []
   },
   "outputs": [
    {
     "data": {
      "text/html": [
       "<div>\n",
       "<style scoped>\n",
       "    .dataframe tbody tr th:only-of-type {\n",
       "        vertical-align: middle;\n",
       "    }\n",
       "\n",
       "    .dataframe tbody tr th {\n",
       "        vertical-align: top;\n",
       "    }\n",
       "\n",
       "    .dataframe thead th {\n",
       "        text-align: right;\n",
       "    }\n",
       "</style>\n",
       "<table border=\"1\" class=\"dataframe\">\n",
       "  <thead>\n",
       "    <tr style=\"text-align: right;\">\n",
       "      <th></th>\n",
       "      <th>TT</th>\n",
       "      <th>AN</th>\n",
       "      <th>AP</th>\n",
       "      <th>AR</th>\n",
       "      <th>AS</th>\n",
       "      <th>BR</th>\n",
       "      <th>CH</th>\n",
       "      <th>CT</th>\n",
       "      <th>DN</th>\n",
       "      <th>DD</th>\n",
       "      <th>...</th>\n",
       "      <th>PB</th>\n",
       "      <th>RJ</th>\n",
       "      <th>SK</th>\n",
       "      <th>TN</th>\n",
       "      <th>TG</th>\n",
       "      <th>TR</th>\n",
       "      <th>UP</th>\n",
       "      <th>UT</th>\n",
       "      <th>WB</th>\n",
       "      <th>UN</th>\n",
       "    </tr>\n",
       "    <tr>\n",
       "      <th>Status</th>\n",
       "      <th></th>\n",
       "      <th></th>\n",
       "      <th></th>\n",
       "      <th></th>\n",
       "      <th></th>\n",
       "      <th></th>\n",
       "      <th></th>\n",
       "      <th></th>\n",
       "      <th></th>\n",
       "      <th></th>\n",
       "      <th></th>\n",
       "      <th></th>\n",
       "      <th></th>\n",
       "      <th></th>\n",
       "      <th></th>\n",
       "      <th></th>\n",
       "      <th></th>\n",
       "      <th></th>\n",
       "      <th></th>\n",
       "      <th></th>\n",
       "      <th></th>\n",
       "    </tr>\n",
       "  </thead>\n",
       "  <tbody>\n",
       "    <tr>\n",
       "      <th>Confirmed</th>\n",
       "      <td>6138661</td>\n",
       "      <td>3799</td>\n",
       "      <td>681161</td>\n",
       "      <td>9332</td>\n",
       "      <td>173527</td>\n",
       "      <td>180032</td>\n",
       "      <td>11678</td>\n",
       "      <td>104733</td>\n",
       "      <td>3011</td>\n",
       "      <td>0</td>\n",
       "      <td>...</td>\n",
       "      <td>111375</td>\n",
       "      <td>130971</td>\n",
       "      <td>2828</td>\n",
       "      <td>586397</td>\n",
       "      <td>186701</td>\n",
       "      <td>24918</td>\n",
       "      <td>390875</td>\n",
       "      <td>47502</td>\n",
       "      <td>250580</td>\n",
       "      <td>0</td>\n",
       "    </tr>\n",
       "    <tr>\n",
       "      <th>Deceased</th>\n",
       "      <td>95735</td>\n",
       "      <td>53</td>\n",
       "      <td>5745</td>\n",
       "      <td>15</td>\n",
       "      <td>671</td>\n",
       "      <td>892</td>\n",
       "      <td>153</td>\n",
       "      <td>848</td>\n",
       "      <td>2</td>\n",
       "      <td>0</td>\n",
       "      <td>...</td>\n",
       "      <td>3284</td>\n",
       "      <td>1456</td>\n",
       "      <td>35</td>\n",
       "      <td>9383</td>\n",
       "      <td>1107</td>\n",
       "      <td>270</td>\n",
       "      <td>5652</td>\n",
       "      <td>580</td>\n",
       "      <td>4837</td>\n",
       "      <td>0</td>\n",
       "    </tr>\n",
       "    <tr>\n",
       "      <th>Recovered</th>\n",
       "      <td>5096242</td>\n",
       "      <td>3573</td>\n",
       "      <td>612300</td>\n",
       "      <td>6592</td>\n",
       "      <td>142297</td>\n",
       "      <td>166188</td>\n",
       "      <td>9325</td>\n",
       "      <td>72224</td>\n",
       "      <td>2825</td>\n",
       "      <td>0</td>\n",
       "      <td>...</td>\n",
       "      <td>90345</td>\n",
       "      <td>109472</td>\n",
       "      <td>2084</td>\n",
       "      <td>530708</td>\n",
       "      <td>156431</td>\n",
       "      <td>18936</td>\n",
       "      <td>331270</td>\n",
       "      <td>36646</td>\n",
       "      <td>219844</td>\n",
       "      <td>0</td>\n",
       "    </tr>\n",
       "  </tbody>\n",
       "</table>\n",
       "<p>3 rows × 39 columns</p>\n",
       "</div>"
      ],
      "text/plain": [
       "                TT    AN      AP    AR      AS      BR     CH      CT    DN  \\\n",
       "Status                                                                        \n",
       "Confirmed  6138661  3799  681161  9332  173527  180032  11678  104733  3011   \n",
       "Deceased     95735    53    5745    15     671     892    153     848     2   \n",
       "Recovered  5096242  3573  612300  6592  142297  166188   9325   72224  2825   \n",
       "\n",
       "           DD  ...      PB      RJ    SK      TN      TG     TR      UP  \\\n",
       "Status         ...                                                        \n",
       "Confirmed   0  ...  111375  130971  2828  586397  186701  24918  390875   \n",
       "Deceased    0  ...    3284    1456    35    9383    1107    270    5652   \n",
       "Recovered   0  ...   90345  109472  2084  530708  156431  18936  331270   \n",
       "\n",
       "              UT      WB  UN  \n",
       "Status                        \n",
       "Confirmed  47502  250580   0  \n",
       "Deceased     580    4837   0  \n",
       "Recovered  36646  219844   0  \n",
       "\n",
       "[3 rows x 39 columns]"
      ]
     },
     "execution_count": 6,
     "metadata": {},
     "output_type": "execute_result"
    }
   ],
   "source": [
    "#hide\n",
    "df_today"
   ]
  },
  {
   "cell_type": "code",
   "execution_count": 7,
   "metadata": {
    "execution": {
     "iopub.execute_input": "2020-09-28T19:13:05.771826Z",
     "iopub.status.busy": "2020-09-28T19:13:05.771138Z",
     "iopub.status.idle": "2020-09-28T19:13:05.775002Z",
     "shell.execute_reply": "2020-09-28T19:13:05.774392Z"
    },
    "papermill": {
     "duration": 0.036,
     "end_time": "2020-09-28T19:13:05.775154",
     "exception": false,
     "start_time": "2020-09-28T19:13:05.739154",
     "status": "completed"
    },
    "tags": []
   },
   "outputs": [
    {
     "data": {
      "text/html": [
       "<div>\n",
       "<style scoped>\n",
       "    .dataframe tbody tr th:only-of-type {\n",
       "        vertical-align: middle;\n",
       "    }\n",
       "\n",
       "    .dataframe tbody tr th {\n",
       "        vertical-align: top;\n",
       "    }\n",
       "\n",
       "    .dataframe thead th {\n",
       "        text-align: right;\n",
       "    }\n",
       "</style>\n",
       "<table border=\"1\" class=\"dataframe\">\n",
       "  <thead>\n",
       "    <tr style=\"text-align: right;\">\n",
       "      <th></th>\n",
       "      <th>TT</th>\n",
       "      <th>AN</th>\n",
       "      <th>AP</th>\n",
       "      <th>AR</th>\n",
       "      <th>AS</th>\n",
       "      <th>BR</th>\n",
       "      <th>CH</th>\n",
       "      <th>CT</th>\n",
       "      <th>DN</th>\n",
       "      <th>DD</th>\n",
       "      <th>...</th>\n",
       "      <th>PB</th>\n",
       "      <th>RJ</th>\n",
       "      <th>SK</th>\n",
       "      <th>TN</th>\n",
       "      <th>TG</th>\n",
       "      <th>TR</th>\n",
       "      <th>UP</th>\n",
       "      <th>UT</th>\n",
       "      <th>WB</th>\n",
       "      <th>UN</th>\n",
       "    </tr>\n",
       "    <tr>\n",
       "      <th>Status</th>\n",
       "      <th></th>\n",
       "      <th></th>\n",
       "      <th></th>\n",
       "      <th></th>\n",
       "      <th></th>\n",
       "      <th></th>\n",
       "      <th></th>\n",
       "      <th></th>\n",
       "      <th></th>\n",
       "      <th></th>\n",
       "      <th></th>\n",
       "      <th></th>\n",
       "      <th></th>\n",
       "      <th></th>\n",
       "      <th></th>\n",
       "      <th></th>\n",
       "      <th></th>\n",
       "      <th></th>\n",
       "      <th></th>\n",
       "      <th></th>\n",
       "      <th></th>\n",
       "    </tr>\n",
       "  </thead>\n",
       "  <tbody>\n",
       "    <tr>\n",
       "      <th>Confirmed</th>\n",
       "      <td>6072718</td>\n",
       "      <td>3790</td>\n",
       "      <td>675674</td>\n",
       "      <td>9004</td>\n",
       "      <td>169883</td>\n",
       "      <td>178882</td>\n",
       "      <td>11553</td>\n",
       "      <td>104733</td>\n",
       "      <td>3002</td>\n",
       "      <td>0</td>\n",
       "      <td>...</td>\n",
       "      <td>110106</td>\n",
       "      <td>128859</td>\n",
       "      <td>2803</td>\n",
       "      <td>580808</td>\n",
       "      <td>185323</td>\n",
       "      <td>24725</td>\n",
       "      <td>387085</td>\n",
       "      <td>47045</td>\n",
       "      <td>247425</td>\n",
       "      <td>0</td>\n",
       "    </tr>\n",
       "    <tr>\n",
       "      <th>Deceased</th>\n",
       "      <td>94989</td>\n",
       "      <td>53</td>\n",
       "      <td>5708</td>\n",
       "      <td>14</td>\n",
       "      <td>659</td>\n",
       "      <td>888</td>\n",
       "      <td>147</td>\n",
       "      <td>848</td>\n",
       "      <td>2</td>\n",
       "      <td>0</td>\n",
       "      <td>...</td>\n",
       "      <td>3238</td>\n",
       "      <td>1441</td>\n",
       "      <td>33</td>\n",
       "      <td>9313</td>\n",
       "      <td>1100</td>\n",
       "      <td>267</td>\n",
       "      <td>5594</td>\n",
       "      <td>574</td>\n",
       "      <td>4781</td>\n",
       "      <td>0</td>\n",
       "    </tr>\n",
       "    <tr>\n",
       "      <th>Recovered</th>\n",
       "      <td>5013361</td>\n",
       "      <td>3544</td>\n",
       "      <td>605090</td>\n",
       "      <td>6495</td>\n",
       "      <td>139977</td>\n",
       "      <td>164537</td>\n",
       "      <td>9103</td>\n",
       "      <td>72224</td>\n",
       "      <td>2799</td>\n",
       "      <td>0</td>\n",
       "      <td>...</td>\n",
       "      <td>88312</td>\n",
       "      <td>107718</td>\n",
       "      <td>2066</td>\n",
       "      <td>525154</td>\n",
       "      <td>154499</td>\n",
       "      <td>18369</td>\n",
       "      <td>325888</td>\n",
       "      <td>35462</td>\n",
       "      <td>216921</td>\n",
       "      <td>0</td>\n",
       "    </tr>\n",
       "  </tbody>\n",
       "</table>\n",
       "<p>3 rows × 39 columns</p>\n",
       "</div>"
      ],
      "text/plain": [
       "                TT    AN      AP    AR      AS      BR     CH      CT    DN  \\\n",
       "Status                                                                        \n",
       "Confirmed  6072718  3790  675674  9004  169883  178882  11553  104733  3002   \n",
       "Deceased     94989    53    5708    14     659     888    147     848     2   \n",
       "Recovered  5013361  3544  605090  6495  139977  164537   9103   72224  2799   \n",
       "\n",
       "           DD  ...      PB      RJ    SK      TN      TG     TR      UP  \\\n",
       "Status         ...                                                        \n",
       "Confirmed   0  ...  110106  128859  2803  580808  185323  24725  387085   \n",
       "Deceased    0  ...    3238    1441    33    9313    1100    267    5594   \n",
       "Recovered   0  ...   88312  107718  2066  525154  154499  18369  325888   \n",
       "\n",
       "              UT      WB  UN  \n",
       "Status                        \n",
       "Confirmed  47045  247425   0  \n",
       "Deceased     574    4781   0  \n",
       "Recovered  35462  216921   0  \n",
       "\n",
       "[3 rows x 39 columns]"
      ]
     },
     "execution_count": 7,
     "metadata": {},
     "output_type": "execute_result"
    }
   ],
   "source": [
    "#hide\n",
    "df_yday.head()"
   ]
  },
  {
   "cell_type": "code",
   "execution_count": 8,
   "metadata": {
    "execution": {
     "iopub.execute_input": "2020-09-28T19:13:05.818546Z",
     "iopub.status.busy": "2020-09-28T19:13:05.817795Z",
     "iopub.status.idle": "2020-09-28T19:13:05.821495Z",
     "shell.execute_reply": "2020-09-28T19:13:05.820844Z"
    },
    "papermill": {
     "duration": 0.029905,
     "end_time": "2020-09-28T19:13:05.821630",
     "exception": false,
     "start_time": "2020-09-28T19:13:05.791725",
     "status": "completed"
    },
    "tags": []
   },
   "outputs": [
    {
     "data": {
      "text/plain": [
       "{'updated': '28-Sep-20',\n",
       " 'since': '27-Sep-20',\n",
       " 'Cases': 6138661,\n",
       " 'Deaths': 95735,\n",
       " 'Recovered': 5096242,\n",
       " 'PCases': 6072718,\n",
       " 'PDeaths': 94989,\n",
       " 'PRecovered': 5013361,\n",
       " 'Cases (+)': 65943,\n",
       " 'Deaths (+)': 746,\n",
       " 'Recovered (+)': 82881}"
      ]
     },
     "execution_count": 8,
     "metadata": {},
     "output_type": "execute_result"
    }
   ],
   "source": [
    "#hide\n",
    "summary = {\n",
    "    'updated' : dt_today,\n",
    "    'since' : dt_yday,\n",
    "    'Cases' : df_today['TT'][0],\n",
    "    'Deaths' : df_today['TT'][1],\n",
    "    'Recovered' : df_today['TT'][2],\n",
    "    'PCases' : df_yday['TT'][0],\n",
    "    'PDeaths' : df_yday['TT'][1],\n",
    "    'PRecovered': df_yday['TT'][2],\n",
    "    'Cases (+)' : df_today['TT'][0] - df_yday['TT'][0],\n",
    "    'Deaths (+)' : df_today['TT'][1] - df_yday['TT'][1],\n",
    "    'Recovered (+)': df_today['TT'][2] - df_yday['TT'][2]\n",
    "}\n",
    "\n",
    "summary"
   ]
  },
  {
   "cell_type": "code",
   "execution_count": 9,
   "metadata": {
    "execution": {
     "iopub.execute_input": "2020-09-28T19:13:05.859806Z",
     "iopub.status.busy": "2020-09-28T19:13:05.859107Z",
     "iopub.status.idle": "2020-09-28T19:13:05.861952Z",
     "shell.execute_reply": "2020-09-28T19:13:05.861281Z"
    },
    "papermill": {
     "duration": 0.023148,
     "end_time": "2020-09-28T19:13:05.862110",
     "exception": false,
     "start_time": "2020-09-28T19:13:05.838962",
     "status": "completed"
    },
    "tags": []
   },
   "outputs": [],
   "source": [
    "#hide\n",
    "overview = '''\n",
    "<!-- #######  HTML!! #########-->\n",
    "<h1 style=\"color: #5e9ca0; text-align: center;\">India</h1>\n",
    "<p style=\"text-align: center;\">Last update: <strong>{update}</strong></p>\n",
    "<p style=\"text-align: center;\">Confirmed cases:</p>\n",
    "<p style=\"text-align: center;font-size:24px;\">{cases} (<span style=\"color: #ff0000;\">+{new}</span>)</p>\n",
    "<p style=\"text-align: center;\">Confirmed deaths:</p>\n",
    "<p style=\"text-align: center;font-size:24px;\">{deaths} (<span style=\"color: #ff0000;\">+{dnew}</span>)</p>\n",
    "<p style=\"text-align: center;\">Recovered cases:</p>\n",
    "<p style=\"text-align: center;font-size:24px;\">{recovered} (<span style=\"color: #00ff00;\">+{rnew}</span>)</p>\n",
    "'''"
   ]
  },
  {
   "cell_type": "code",
   "execution_count": 10,
   "metadata": {
    "execution": {
     "iopub.execute_input": "2020-09-28T19:13:05.902902Z",
     "iopub.status.busy": "2020-09-28T19:13:05.901919Z",
     "iopub.status.idle": "2020-09-28T19:13:05.905300Z",
     "shell.execute_reply": "2020-09-28T19:13:05.905930Z"
    },
    "papermill": {
     "duration": 0.027513,
     "end_time": "2020-09-28T19:13:05.906073",
     "exception": false,
     "start_time": "2020-09-28T19:13:05.878560",
     "status": "completed"
    },
    "tags": []
   },
   "outputs": [
    {
     "data": {
      "text/html": [
       "\n",
       "<!-- #######  HTML!! #########-->\n",
       "<h1 style=\"color: #5e9ca0; text-align: center;\">India</h1>\n",
       "<p style=\"text-align: center;\">Last update: <strong>28-Sep-20</strong></p>\n",
       "<p style=\"text-align: center;\">Confirmed cases:</p>\n",
       "<p style=\"text-align: center;font-size:24px;\">6138661 (<span style=\"color: #ff0000;\">+65943</span>)</p>\n",
       "<p style=\"text-align: center;\">Confirmed deaths:</p>\n",
       "<p style=\"text-align: center;font-size:24px;\">95735 (<span style=\"color: #ff0000;\">+746</span>)</p>\n",
       "<p style=\"text-align: center;\">Recovered cases:</p>\n",
       "<p style=\"text-align: center;font-size:24px;\">5096242 (<span style=\"color: #00ff00;\">+82881</span>)</p>\n"
      ],
      "text/plain": [
       "<IPython.core.display.HTML object>"
      ]
     },
     "metadata": {},
     "output_type": "display_data"
    }
   ],
   "source": [
    "#hide_input\n",
    "# Fill the above HTML with the information from the summary dictionary\n",
    "\n",
    "update = summary['updated']\n",
    "cases = summary['Cases']\n",
    "new = summary['Cases (+)']\n",
    "deaths = summary['Deaths']\n",
    "dnew = summary['Deaths (+)']\n",
    "recovered = summary['Recovered']\n",
    "rnew = summary['Recovered (+)']\n",
    "\n",
    "html = HTML(overview.format(update=update, cases=cases,new=new,deaths=deaths,dnew=dnew, recovered=recovered, rnew=rnew))\n",
    "\n",
    "display(html)"
   ]
  },
  {
   "cell_type": "code",
   "execution_count": 11,
   "metadata": {
    "execution": {
     "iopub.execute_input": "2020-09-28T19:13:05.955217Z",
     "iopub.status.busy": "2020-09-28T19:13:05.954405Z",
     "iopub.status.idle": "2020-09-28T19:13:05.958316Z",
     "shell.execute_reply": "2020-09-28T19:13:05.958945Z"
    },
    "papermill": {
     "duration": 0.033446,
     "end_time": "2020-09-28T19:13:05.959093",
     "exception": false,
     "start_time": "2020-09-28T19:13:05.925647",
     "status": "completed"
    },
    "tags": []
   },
   "outputs": [],
   "source": [
    "#hide\n",
    "df_cases = df[df['Status'] == 'Confirmed'].copy()\n",
    "df_cases.drop(columns = ['Status'], inplace=True)\n",
    "df_deaths = df[df['Status'] == 'Deceased'].copy()\n",
    "df_deaths.drop(columns = ['Status'], inplace=True)\n",
    "df_recovered = df[df['Status'] == 'Recovered'].copy()\n",
    "df_recovered.drop(columns = ['Status'], inplace=True)"
   ]
  },
  {
   "cell_type": "markdown",
   "metadata": {
    "papermill": {
     "duration": 0.017763,
     "end_time": "2020-09-28T19:13:05.994338",
     "exception": false,
     "start_time": "2020-09-28T19:13:05.976575",
     "status": "completed"
    },
    "tags": []
   },
   "source": [
    "Plot for India:"
   ]
  },
  {
   "cell_type": "code",
   "execution_count": 12,
   "metadata": {
    "execution": {
     "iopub.execute_input": "2020-09-28T19:13:06.083412Z",
     "iopub.status.busy": "2020-09-28T19:13:06.071520Z",
     "iopub.status.idle": "2020-09-28T19:13:06.359959Z",
     "shell.execute_reply": "2020-09-28T19:13:06.360551Z"
    },
    "papermill": {
     "duration": 0.348512,
     "end_time": "2020-09-28T19:13:06.360719",
     "exception": false,
     "start_time": "2020-09-28T19:13:06.012207",
     "status": "completed"
    },
    "tags": []
   },
   "outputs": [
    {
     "data": {
      "image/png": "[encoded data removed]",
      "text/plain": [
       "<Figure size 1296x432 with 1 Axes>"
      ]
     },
     "metadata": {
      "needs_background": "light"
     },
     "output_type": "display_data"
    }
   ],
   "source": [
    "#hide_input\n",
    "plt.figure(figsize = (18,6))\n",
    "plt.plot(df_cases['Date'], df_cases['TT'],'.-', alpha=0.7, color='b', label='Confirmed cases')\n",
    "plt.plot(df_recovered['Date'], df_recovered['TT'],'.-', alpha=0.7, color='g', label='Recovered')\n",
    "plt.plot(df_deaths['Date'], df_deaths['TT'],'.-', alpha=0.7, color='r', label='Deceased')\n",
    "plt.legend()\n",
    "plt.title(\"Cases per day in India\")\n",
    "plt.xticks(ticks=' ')\n",
    "plt.xlabel(f'{df_cases.iloc[0][0]} to {df_cases.iloc[-1][0]}')\n",
    "plt.ylabel('No. of cases');"
   ]
  },
  {
   "cell_type": "markdown",
   "metadata": {
    "papermill": {
     "duration": 0.021649,
     "end_time": "2020-09-28T19:13:06.403954",
     "exception": false,
     "start_time": "2020-09-28T19:13:06.382305",
     "status": "completed"
    },
    "tags": []
   },
   "source": [
    "Plots for the states with highest number of cases:"
   ]
  },
  {
   "cell_type": "code",
   "execution_count": 13,
   "metadata": {
    "execution": {
     "iopub.execute_input": "2020-09-28T19:13:06.455021Z",
     "iopub.status.busy": "2020-09-28T19:13:06.453243Z",
     "iopub.status.idle": "2020-09-28T19:13:07.200362Z",
     "shell.execute_reply": "2020-09-28T19:13:07.200972Z"
    },
    "papermill": {
     "duration": 0.77645,
     "end_time": "2020-09-28T19:13:07.201137",
     "exception": false,
     "start_time": "2020-09-28T19:13:06.424687",
     "status": "completed"
    },
    "tags": []
   },
   "outputs": [
    {
     "data": {
      "image/png": "[encoded data removed]",
      "text/plain": [
       "<Figure size 1512x432 with 3 Axes>"
      ]
     },
     "metadata": {
      "needs_background": "light"
     },
     "output_type": "display_data"
    }
   ],
   "source": [
    "#hide_input\n",
    "top_3 = sorted(df_cases.sum().values[1:], reverse=True)[1:4]\n",
    "top3_states=[]\n",
    "for i in top_3:\n",
    "    top3_states.append(df_cases.sum()[df_cases.sum() == i].index)\n",
    "\n",
    "\n",
    "fig, ax = plt.subplots(1,3,figsize = (21,6))\n",
    "for i in range(3):\n",
    "    state = top3_states[i].values[0]\n",
    "    ax[i].plot(df_cases['Date'], df_cases[state],'.-', color='b', alpha=0.7)\n",
    "    ax[i].plot(df_deaths['Date'], df_deaths[state],'.-', color='r', alpha=0.7)\n",
    "    ax[i].plot(df_recovered['Date'], df_recovered[state],'.-', color='g', alpha=0.7)\n",
    "    \n",
    "    ax[i].set_title(f\"Cases in {state}\")\n",
    "    ax[i].set_xticks(ticks=' ')\n",
    "    ax[i].set_xlabel(f'{df_cases.iloc[0][0]} to {df_cases.iloc[-1][0]}')\n",
    "    ax[i].set_ylabel('No. of cases');"
   ]
  },
  {
   "cell_type": "code",
   "execution_count": null,
   "metadata": {
    "papermill": {
     "duration": 0.021853,
     "end_time": "2020-09-28T19:13:07.245387",
     "exception": false,
     "start_time": "2020-09-28T19:13:07.223534",
     "status": "completed"
    },
    "tags": []
   },
   "outputs": [],
   "source": []
  },
  {
   "cell_type": "code",
   "execution_count": null,
   "metadata": {
    "papermill": {
     "duration": 0.021946,
     "end_time": "2020-09-28T19:13:07.289936",
     "exception": false,
     "start_time": "2020-09-28T19:13:07.267990",
     "status": "completed"
    },
    "tags": []
   },
   "outputs": [],
   "source": []
  },
  {
   "cell_type": "code",
   "execution_count": null,
   "metadata": {
    "papermill": {
     "duration": 0.02102,
     "end_time": "2020-09-28T19:13:07.332367",
     "exception": false,
     "start_time": "2020-09-28T19:13:07.311347",
     "status": "completed"
    },
    "tags": []
   },
   "outputs": [],
   "source": []
  }
 ],
 "metadata": {
  "kernelspec": {
   "display_name": "Python 3",
   "language": "python",
   "name": "python3"
  },
  "language_info": {
   "codemirror_mode": {
    "name": "ipython",
    "version": 3
   },
   "file_extension": ".py",
   "mimetype": "text/x-python",
   "name": "python",
   "nbconvert_exporter": "python",
   "pygments_lexer": "ipython3",
   "version": "3.6.12"
  },
  "papermill": {
   "duration": 4.336478,
   "end_time": "2020-09-28T19:13:07.660642",
   "environment_variables": {},
   "exception": null,
   "input_path": "2020-08-09-DailyUpdate.ipynb",
   "output_path": "2020-08-09-DailyUpdate.ipynb",
   "parameters": {},
   "start_time": "2020-09-28T19:13:03.324164",
   "version": "2.1.2"
  }
 },
 "nbformat": 4,
 "nbformat_minor": 4
}