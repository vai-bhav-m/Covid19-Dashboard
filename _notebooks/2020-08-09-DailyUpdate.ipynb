{
 "cells": [
  {
   "cell_type": "markdown",
   "metadata": {
    "papermill": {
     "duration": 0.015695,
     "end_time": "2020-10-07T19:13:08.604994",
     "exception": false,
     "start_time": "2020-10-07T19:13:08.589299",
     "status": "completed"
    },
    "tags": []
   },
   "source": [
    "# COVID-19 India Daily updates\n",
    "> Tracking coronavirus total cases, deaths and new cases in India on a daily basis\n",
    "\n",
    "- author: Vaibhav Mahapatra"
   ]
  },
  {
   "cell_type": "code",
   "execution_count": 1,
   "metadata": {
    "execution": {
     "iopub.execute_input": "2020-10-07T19:13:08.640118Z",
     "iopub.status.busy": "2020-10-07T19:13:08.639467Z",
     "iopub.status.idle": "2020-10-07T19:13:09.223902Z",
     "shell.execute_reply": "2020-10-07T19:13:09.223334Z"
    },
    "papermill": {
     "duration": 0.603545,
     "end_time": "2020-10-07T19:13:09.224070",
     "exception": false,
     "start_time": "2020-10-07T19:13:08.620525",
     "status": "completed"
    },
    "tags": []
   },
   "outputs": [],
   "source": [
    "#hide\n",
    "\n",
    "## Import essential packages below\n",
    "\n",
    "import pandas as pd\n",
    "import numpy as np\n",
    "import requests\n",
    "import json\n",
    "import matplotlib.pyplot as plt\n",
    "import matplotlib.dates as mdates\n",
    "import matplotlib as mpl\n",
    "from IPython.core.display import display,HTML\n",
    "%matplotlib inline"
   ]
  },
  {
   "cell_type": "code",
   "execution_count": 2,
   "metadata": {
    "execution": {
     "iopub.execute_input": "2020-10-07T19:13:09.254822Z",
     "iopub.status.busy": "2020-10-07T19:13:09.254153Z",
     "iopub.status.idle": "2020-10-07T19:13:09.294370Z",
     "shell.execute_reply": "2020-10-07T19:13:09.293525Z"
    },
    "papermill": {
     "duration": 0.057695,
     "end_time": "2020-10-07T19:13:09.294581",
     "exception": false,
     "start_time": "2020-10-07T19:13:09.236886",
     "status": "completed"
    },
    "tags": []
   },
   "outputs": [
    {
     "data": {
      "text/plain": [
       "(624, 41)"
      ]
     },
     "execution_count": 2,
     "metadata": {},
     "output_type": "execute_result"
    }
   ],
   "source": [
    "#hide\n",
    "url = 'https://api.covid19india.org/csv/latest/state_wise_daily.csv'\n",
    "df = pd.read_csv(url)\n",
    "df.shape"
   ]
  },
  {
   "cell_type": "code",
   "execution_count": 3,
   "metadata": {
    "execution": {
     "iopub.execute_input": "2020-10-07T19:13:09.369940Z",
     "iopub.status.busy": "2020-10-07T19:13:09.368454Z",
     "iopub.status.idle": "2020-10-07T19:13:09.381230Z",
     "shell.execute_reply": "2020-10-07T19:13:09.381707Z"
    },
    "papermill": {
     "duration": 0.073285,
     "end_time": "2020-10-07T19:13:09.381875",
     "exception": false,
     "start_time": "2020-10-07T19:13:09.308590",
     "status": "completed"
    },
    "tags": []
   },
   "outputs": [
    {
     "data": {
      "text/html": [
       "<div>\n",
       "<style scoped>\n",
       "    .dataframe tbody tr th:only-of-type {\n",
       "        vertical-align: middle;\n",
       "    }\n",
       "\n",
       "    .dataframe tbody tr th {\n",
       "        vertical-align: top;\n",
       "    }\n",
       "\n",
       "    .dataframe thead th {\n",
       "        text-align: right;\n",
       "    }\n",
       "</style>\n",
       "<table border=\"1\" class=\"dataframe\">\n",
       "  <thead>\n",
       "    <tr style=\"text-align: right;\">\n",
       "      <th></th>\n",
       "      <th>Date</th>\n",
       "      <th>Status</th>\n",
       "      <th>TT</th>\n",
       "      <th>AN</th>\n",
       "      <th>AP</th>\n",
       "      <th>AR</th>\n",
       "      <th>AS</th>\n",
       "      <th>BR</th>\n",
       "      <th>CH</th>\n",
       "      <th>CT</th>\n",
       "      <th>...</th>\n",
       "      <th>PB</th>\n",
       "      <th>RJ</th>\n",
       "      <th>SK</th>\n",
       "      <th>TN</th>\n",
       "      <th>TG</th>\n",
       "      <th>TR</th>\n",
       "      <th>UP</th>\n",
       "      <th>UT</th>\n",
       "      <th>WB</th>\n",
       "      <th>UN</th>\n",
       "    </tr>\n",
       "  </thead>\n",
       "  <tbody>\n",
       "    <tr>\n",
       "      <th>618</th>\n",
       "      <td>06-Oct-20</td>\n",
       "      <td>Confirmed</td>\n",
       "      <td>71869</td>\n",
       "      <td>13</td>\n",
       "      <td>5795</td>\n",
       "      <td>224</td>\n",
       "      <td>1184</td>\n",
       "      <td>1265</td>\n",
       "      <td>129</td>\n",
       "      <td>2888</td>\n",
       "      <td>...</td>\n",
       "      <td>830</td>\n",
       "      <td>2121</td>\n",
       "      <td>25</td>\n",
       "      <td>5017</td>\n",
       "      <td>1983</td>\n",
       "      <td>275</td>\n",
       "      <td>3500</td>\n",
       "      <td>338</td>\n",
       "      <td>3370</td>\n",
       "      <td>0</td>\n",
       "    </tr>\n",
       "    <tr>\n",
       "      <th>619</th>\n",
       "      <td>06-Oct-20</td>\n",
       "      <td>Recovered</td>\n",
       "      <td>81945</td>\n",
       "      <td>19</td>\n",
       "      <td>6046</td>\n",
       "      <td>190</td>\n",
       "      <td>1586</td>\n",
       "      <td>1255</td>\n",
       "      <td>238</td>\n",
       "      <td>3484</td>\n",
       "      <td>...</td>\n",
       "      <td>1707</td>\n",
       "      <td>2027</td>\n",
       "      <td>40</td>\n",
       "      <td>5548</td>\n",
       "      <td>2381</td>\n",
       "      <td>255</td>\n",
       "      <td>4432</td>\n",
       "      <td>600</td>\n",
       "      <td>3036</td>\n",
       "      <td>0</td>\n",
       "    </tr>\n",
       "    <tr>\n",
       "      <th>620</th>\n",
       "      <td>06-Oct-20</td>\n",
       "      <td>Deceased</td>\n",
       "      <td>990</td>\n",
       "      <td>0</td>\n",
       "      <td>33</td>\n",
       "      <td>1</td>\n",
       "      <td>18</td>\n",
       "      <td>1</td>\n",
       "      <td>3</td>\n",
       "      <td>23</td>\n",
       "      <td>...</td>\n",
       "      <td>38</td>\n",
       "      <td>15</td>\n",
       "      <td>3</td>\n",
       "      <td>71</td>\n",
       "      <td>10</td>\n",
       "      <td>2</td>\n",
       "      <td>61</td>\n",
       "      <td>8</td>\n",
       "      <td>63</td>\n",
       "      <td>0</td>\n",
       "    </tr>\n",
       "    <tr>\n",
       "      <th>621</th>\n",
       "      <td>07-Oct-20</td>\n",
       "      <td>Confirmed</td>\n",
       "      <td>78467</td>\n",
       "      <td>23</td>\n",
       "      <td>5120</td>\n",
       "      <td>0</td>\n",
       "      <td>1307</td>\n",
       "      <td>1304</td>\n",
       "      <td>113</td>\n",
       "      <td>2846</td>\n",
       "      <td>...</td>\n",
       "      <td>852</td>\n",
       "      <td>2151</td>\n",
       "      <td>99</td>\n",
       "      <td>5447</td>\n",
       "      <td>2154</td>\n",
       "      <td>237</td>\n",
       "      <td>3389</td>\n",
       "      <td>630</td>\n",
       "      <td>3455</td>\n",
       "      <td>0</td>\n",
       "    </tr>\n",
       "    <tr>\n",
       "      <th>622</th>\n",
       "      <td>07-Oct-20</td>\n",
       "      <td>Recovered</td>\n",
       "      <td>80170</td>\n",
       "      <td>18</td>\n",
       "      <td>6349</td>\n",
       "      <td>0</td>\n",
       "      <td>0</td>\n",
       "      <td>1422</td>\n",
       "      <td>155</td>\n",
       "      <td>3277</td>\n",
       "      <td>...</td>\n",
       "      <td>1230</td>\n",
       "      <td>2078</td>\n",
       "      <td>28</td>\n",
       "      <td>5524</td>\n",
       "      <td>2239</td>\n",
       "      <td>546</td>\n",
       "      <td>4219</td>\n",
       "      <td>663</td>\n",
       "      <td>3024</td>\n",
       "      <td>0</td>\n",
       "    </tr>\n",
       "    <tr>\n",
       "      <th>623</th>\n",
       "      <td>07-Oct-20</td>\n",
       "      <td>Deceased</td>\n",
       "      <td>960</td>\n",
       "      <td>0</td>\n",
       "      <td>34</td>\n",
       "      <td>0</td>\n",
       "      <td>7</td>\n",
       "      <td>2</td>\n",
       "      <td>2</td>\n",
       "      <td>30</td>\n",
       "      <td>...</td>\n",
       "      <td>33</td>\n",
       "      <td>16</td>\n",
       "      <td>2</td>\n",
       "      <td>67</td>\n",
       "      <td>8</td>\n",
       "      <td>0</td>\n",
       "      <td>47</td>\n",
       "      <td>11</td>\n",
       "      <td>58</td>\n",
       "      <td>0</td>\n",
       "    </tr>\n",
       "  </tbody>\n",
       "</table>\n",
       "<p>6 rows × 41 columns</p>\n",
       "</div>"
      ],
      "text/plain": [
       "          Date     Status     TT  AN    AP   AR    AS    BR   CH    CT  ...  \\\n",
       "618  06-Oct-20  Confirmed  71869  13  5795  224  1184  1265  129  2888  ...   \n",
       "619  06-Oct-20  Recovered  81945  19  6046  190  1586  1255  238  3484  ...   \n",
       "620  06-Oct-20   Deceased    990   0    33    1    18     1    3    23  ...   \n",
       "621  07-Oct-20  Confirmed  78467  23  5120    0  1307  1304  113  2846  ...   \n",
       "622  07-Oct-20  Recovered  80170  18  6349    0     0  1422  155  3277  ...   \n",
       "623  07-Oct-20   Deceased    960   0    34    0     7     2    2    30  ...   \n",
       "\n",
       "       PB    RJ  SK    TN    TG   TR    UP   UT    WB  UN  \n",
       "618   830  2121  25  5017  1983  275  3500  338  3370   0  \n",
       "619  1707  2027  40  5548  2381  255  4432  600  3036   0  \n",
       "620    38    15   3    71    10    2    61    8    63   0  \n",
       "621   852  2151  99  5447  2154  237  3389  630  3455   0  \n",
       "622  1230  2078  28  5524  2239  546  4219  663  3024   0  \n",
       "623    33    16   2    67     8    0    47   11    58   0  \n",
       "\n",
       "[6 rows x 41 columns]"
      ]
     },
     "execution_count": 3,
     "metadata": {},
     "output_type": "execute_result"
    }
   ],
   "source": [
    "#hide\n",
    "df.tail(6)"
   ]
  },
  {
   "cell_type": "code",
   "execution_count": 4,
   "metadata": {
    "execution": {
     "iopub.execute_input": "2020-10-07T19:13:09.414712Z",
     "iopub.status.busy": "2020-10-07T19:13:09.414080Z",
     "iopub.status.idle": "2020-10-07T19:13:09.418272Z",
     "shell.execute_reply": "2020-10-07T19:13:09.417716Z"
    },
    "papermill": {
     "duration": 0.022484,
     "end_time": "2020-10-07T19:13:09.418389",
     "exception": false,
     "start_time": "2020-10-07T19:13:09.395905",
     "status": "completed"
    },
    "tags": []
   },
   "outputs": [
    {
     "data": {
      "text/plain": [
       "('07-Oct-20', '06-Oct-20')"
      ]
     },
     "execution_count": 4,
     "metadata": {},
     "output_type": "execute_result"
    }
   ],
   "source": [
    "#hide\n",
    "dt_today = df.iloc[-1][0]\n",
    "dt_yday = df.iloc[-4][0]\n",
    "dt_today, dt_yday"
   ]
  },
  {
   "cell_type": "code",
   "execution_count": 5,
   "metadata": {
    "execution": {
     "iopub.execute_input": "2020-10-07T19:13:09.452565Z",
     "iopub.status.busy": "2020-10-07T19:13:09.451896Z",
     "iopub.status.idle": "2020-10-07T19:13:09.458928Z",
     "shell.execute_reply": "2020-10-07T19:13:09.458307Z"
    },
    "papermill": {
     "duration": 0.026801,
     "end_time": "2020-10-07T19:13:09.459069",
     "exception": false,
     "start_time": "2020-10-07T19:13:09.432268",
     "status": "completed"
    },
    "tags": []
   },
   "outputs": [],
   "source": [
    "#hide\n",
    "df_today = df.groupby('Status').sum()\n",
    "df_yday = df.iloc[:-3][:].groupby('Status').sum()"
   ]
  },
  {
   "cell_type": "code",
   "execution_count": 6,
   "metadata": {
    "execution": {
     "iopub.execute_input": "2020-10-07T19:13:09.504485Z",
     "iopub.status.busy": "2020-10-07T19:13:09.503824Z",
     "iopub.status.idle": "2020-10-07T19:13:09.508114Z",
     "shell.execute_reply": "2020-10-07T19:13:09.508940Z"
    },
    "papermill": {
     "duration": 0.036111,
     "end_time": "2020-10-07T19:13:09.509109",
     "exception": false,
     "start_time": "2020-10-07T19:13:09.472998",
     "status": "completed"
    },
    "tags": []
   },
   "outputs": [
    {
     "data": {
      "text/html": [
       "<div>\n",
       "<style scoped>\n",
       "    .dataframe tbody tr th:only-of-type {\n",
       "        vertical-align: middle;\n",
       "    }\n",
       "\n",
       "    .dataframe tbody tr th {\n",
       "        vertical-align: top;\n",
       "    }\n",
       "\n",
       "    .dataframe thead th {\n",
       "        text-align: right;\n",
       "    }\n",
       "</style>\n",
       "<table border=\"1\" class=\"dataframe\">\n",
       "  <thead>\n",
       "    <tr style=\"text-align: right;\">\n",
       "      <th></th>\n",
       "      <th>TT</th>\n",
       "      <th>AN</th>\n",
       "      <th>AP</th>\n",
       "      <th>AR</th>\n",
       "      <th>AS</th>\n",
       "      <th>BR</th>\n",
       "      <th>CH</th>\n",
       "      <th>CT</th>\n",
       "      <th>DN</th>\n",
       "      <th>DD</th>\n",
       "      <th>...</th>\n",
       "      <th>PB</th>\n",
       "      <th>RJ</th>\n",
       "      <th>SK</th>\n",
       "      <th>TN</th>\n",
       "      <th>TG</th>\n",
       "      <th>TR</th>\n",
       "      <th>UP</th>\n",
       "      <th>UT</th>\n",
       "      <th>WB</th>\n",
       "      <th>UN</th>\n",
       "    </tr>\n",
       "    <tr>\n",
       "      <th>Status</th>\n",
       "      <th></th>\n",
       "      <th></th>\n",
       "      <th></th>\n",
       "      <th></th>\n",
       "      <th></th>\n",
       "      <th></th>\n",
       "      <th></th>\n",
       "      <th></th>\n",
       "      <th></th>\n",
       "      <th></th>\n",
       "      <th></th>\n",
       "      <th></th>\n",
       "      <th></th>\n",
       "      <th></th>\n",
       "      <th></th>\n",
       "      <th></th>\n",
       "      <th></th>\n",
       "      <th></th>\n",
       "      <th></th>\n",
       "      <th></th>\n",
       "      <th></th>\n",
       "    </tr>\n",
       "  </thead>\n",
       "  <tbody>\n",
       "    <tr>\n",
       "      <th>Confirmed</th>\n",
       "      <td>6832017</td>\n",
       "      <td>3931</td>\n",
       "      <td>734427</td>\n",
       "      <td>11007</td>\n",
       "      <td>190107</td>\n",
       "      <td>191427</td>\n",
       "      <td>12820</td>\n",
       "      <td>131739</td>\n",
       "      <td>3118</td>\n",
       "      <td>0</td>\n",
       "      <td>...</td>\n",
       "      <td>120868</td>\n",
       "      <td>150467</td>\n",
       "      <td>3247</td>\n",
       "      <td>635855</td>\n",
       "      <td>204238</td>\n",
       "      <td>27542</td>\n",
       "      <td>424326</td>\n",
       "      <td>52959</td>\n",
       "      <td>280504</td>\n",
       "      <td>0</td>\n",
       "    </tr>\n",
       "    <tr>\n",
       "      <th>Deceased</th>\n",
       "      <td>104964</td>\n",
       "      <td>54</td>\n",
       "      <td>6086</td>\n",
       "      <td>20</td>\n",
       "      <td>789</td>\n",
       "      <td>927</td>\n",
       "      <td>182</td>\n",
       "      <td>1134</td>\n",
       "      <td>2</td>\n",
       "      <td>0</td>\n",
       "      <td>...</td>\n",
       "      <td>3712</td>\n",
       "      <td>1590</td>\n",
       "      <td>51</td>\n",
       "      <td>9984</td>\n",
       "      <td>1189</td>\n",
       "      <td>298</td>\n",
       "      <td>6200</td>\n",
       "      <td>688</td>\n",
       "      <td>5376</td>\n",
       "      <td>0</td>\n",
       "    </tr>\n",
       "    <tr>\n",
       "      <th>Recovered</th>\n",
       "      <td>5821401</td>\n",
       "      <td>3687</td>\n",
       "      <td>678828</td>\n",
       "      <td>7965</td>\n",
       "      <td>155074</td>\n",
       "      <td>179351</td>\n",
       "      <td>11190</td>\n",
       "      <td>103828</td>\n",
       "      <td>2968</td>\n",
       "      <td>0</td>\n",
       "      <td>...</td>\n",
       "      <td>105585</td>\n",
       "      <td>127526</td>\n",
       "      <td>2535</td>\n",
       "      <td>580736</td>\n",
       "      <td>177008</td>\n",
       "      <td>22654</td>\n",
       "      <td>374972</td>\n",
       "      <td>43631</td>\n",
       "      <td>246767</td>\n",
       "      <td>0</td>\n",
       "    </tr>\n",
       "  </tbody>\n",
       "</table>\n",
       "<p>3 rows × 39 columns</p>\n",
       "</div>"
      ],
      "text/plain": [
       "                TT    AN      AP     AR      AS      BR     CH      CT    DN  \\\n",
       "Status                                                                         \n",
       "Confirmed  6832017  3931  734427  11007  190107  191427  12820  131739  3118   \n",
       "Deceased    104964    54    6086     20     789     927    182    1134     2   \n",
       "Recovered  5821401  3687  678828   7965  155074  179351  11190  103828  2968   \n",
       "\n",
       "           DD  ...      PB      RJ    SK      TN      TG     TR      UP  \\\n",
       "Status         ...                                                        \n",
       "Confirmed   0  ...  120868  150467  3247  635855  204238  27542  424326   \n",
       "Deceased    0  ...    3712    1590    51    9984    1189    298    6200   \n",
       "Recovered   0  ...  105585  127526  2535  580736  177008  22654  374972   \n",
       "\n",
       "              UT      WB  UN  \n",
       "Status                        \n",
       "Confirmed  52959  280504   0  \n",
       "Deceased     688    5376   0  \n",
       "Recovered  43631  246767   0  \n",
       "\n",
       "[3 rows x 39 columns]"
      ]
     },
     "execution_count": 6,
     "metadata": {},
     "output_type": "execute_result"
    }
   ],
   "source": [
    "#hide\n",
    "df_today"
   ]
  },
  {
   "cell_type": "code",
   "execution_count": 7,
   "metadata": {
    "execution": {
     "iopub.execute_input": "2020-10-07T19:13:09.857336Z",
     "iopub.status.busy": "2020-10-07T19:13:09.856550Z",
     "iopub.status.idle": "2020-10-07T19:13:09.868805Z",
     "shell.execute_reply": "2020-10-07T19:13:09.869346Z"
    },
    "papermill": {
     "duration": 0.345117,
     "end_time": "2020-10-07T19:13:09.869500",
     "exception": false,
     "start_time": "2020-10-07T19:13:09.524383",
     "status": "completed"
    },
    "tags": []
   },
   "outputs": [
    {
     "data": {
      "text/html": [
       "<div>\n",
       "<style scoped>\n",
       "    .dataframe tbody tr th:only-of-type {\n",
       "        vertical-align: middle;\n",
       "    }\n",
       "\n",
       "    .dataframe tbody tr th {\n",
       "        vertical-align: top;\n",
       "    }\n",
       "\n",
       "    .dataframe thead th {\n",
       "        text-align: right;\n",
       "    }\n",
       "</style>\n",
       "<table border=\"1\" class=\"dataframe\">\n",
       "  <thead>\n",
       "    <tr style=\"text-align: right;\">\n",
       "      <th></th>\n",
       "      <th>TT</th>\n",
       "      <th>AN</th>\n",
       "      <th>AP</th>\n",
       "      <th>AR</th>\n",
       "      <th>AS</th>\n",
       "      <th>BR</th>\n",
       "      <th>CH</th>\n",
       "      <th>CT</th>\n",
       "      <th>DN</th>\n",
       "      <th>DD</th>\n",
       "      <th>...</th>\n",
       "      <th>PB</th>\n",
       "      <th>RJ</th>\n",
       "      <th>SK</th>\n",
       "      <th>TN</th>\n",
       "      <th>TG</th>\n",
       "      <th>TR</th>\n",
       "      <th>UP</th>\n",
       "      <th>UT</th>\n",
       "      <th>WB</th>\n",
       "      <th>UN</th>\n",
       "    </tr>\n",
       "    <tr>\n",
       "      <th>Status</th>\n",
       "      <th></th>\n",
       "      <th></th>\n",
       "      <th></th>\n",
       "      <th></th>\n",
       "      <th></th>\n",
       "      <th></th>\n",
       "      <th></th>\n",
       "      <th></th>\n",
       "      <th></th>\n",
       "      <th></th>\n",
       "      <th></th>\n",
       "      <th></th>\n",
       "      <th></th>\n",
       "      <th></th>\n",
       "      <th></th>\n",
       "      <th></th>\n",
       "      <th></th>\n",
       "      <th></th>\n",
       "      <th></th>\n",
       "      <th></th>\n",
       "      <th></th>\n",
       "    </tr>\n",
       "  </thead>\n",
       "  <tbody>\n",
       "    <tr>\n",
       "      <th>Confirmed</th>\n",
       "      <td>6753550</td>\n",
       "      <td>3908</td>\n",
       "      <td>729307</td>\n",
       "      <td>11007</td>\n",
       "      <td>188800</td>\n",
       "      <td>190123</td>\n",
       "      <td>12707</td>\n",
       "      <td>128893</td>\n",
       "      <td>3101</td>\n",
       "      <td>0</td>\n",
       "      <td>...</td>\n",
       "      <td>120016</td>\n",
       "      <td>148316</td>\n",
       "      <td>3148</td>\n",
       "      <td>630408</td>\n",
       "      <td>202084</td>\n",
       "      <td>27305</td>\n",
       "      <td>420937</td>\n",
       "      <td>52329</td>\n",
       "      <td>277049</td>\n",
       "      <td>0</td>\n",
       "    </tr>\n",
       "    <tr>\n",
       "      <th>Deceased</th>\n",
       "      <td>104004</td>\n",
       "      <td>54</td>\n",
       "      <td>6052</td>\n",
       "      <td>20</td>\n",
       "      <td>782</td>\n",
       "      <td>925</td>\n",
       "      <td>180</td>\n",
       "      <td>1104</td>\n",
       "      <td>2</td>\n",
       "      <td>0</td>\n",
       "      <td>...</td>\n",
       "      <td>3679</td>\n",
       "      <td>1574</td>\n",
       "      <td>49</td>\n",
       "      <td>9917</td>\n",
       "      <td>1181</td>\n",
       "      <td>298</td>\n",
       "      <td>6153</td>\n",
       "      <td>677</td>\n",
       "      <td>5318</td>\n",
       "      <td>0</td>\n",
       "    </tr>\n",
       "    <tr>\n",
       "      <th>Recovered</th>\n",
       "      <td>5741231</td>\n",
       "      <td>3669</td>\n",
       "      <td>672479</td>\n",
       "      <td>7965</td>\n",
       "      <td>155074</td>\n",
       "      <td>177929</td>\n",
       "      <td>11035</td>\n",
       "      <td>100551</td>\n",
       "      <td>2957</td>\n",
       "      <td>0</td>\n",
       "      <td>...</td>\n",
       "      <td>104355</td>\n",
       "      <td>125448</td>\n",
       "      <td>2507</td>\n",
       "      <td>575212</td>\n",
       "      <td>174769</td>\n",
       "      <td>22108</td>\n",
       "      <td>370753</td>\n",
       "      <td>42968</td>\n",
       "      <td>243743</td>\n",
       "      <td>0</td>\n",
       "    </tr>\n",
       "  </tbody>\n",
       "</table>\n",
       "<p>3 rows × 39 columns</p>\n",
       "</div>"
      ],
      "text/plain": [
       "                TT    AN      AP     AR      AS      BR     CH      CT    DN  \\\n",
       "Status                                                                         \n",
       "Confirmed  6753550  3908  729307  11007  188800  190123  12707  128893  3101   \n",
       "Deceased    104004    54    6052     20     782     925    180    1104     2   \n",
       "Recovered  5741231  3669  672479   7965  155074  177929  11035  100551  2957   \n",
       "\n",
       "           DD  ...      PB      RJ    SK      TN      TG     TR      UP  \\\n",
       "Status         ...                                                        \n",
       "Confirmed   0  ...  120016  148316  3148  630408  202084  27305  420937   \n",
       "Deceased    0  ...    3679    1574    49    9917    1181    298    6153   \n",
       "Recovered   0  ...  104355  125448  2507  575212  174769  22108  370753   \n",
       "\n",
       "              UT      WB  UN  \n",
       "Status                        \n",
       "Confirmed  52329  277049   0  \n",
       "Deceased     677    5318   0  \n",
       "Recovered  42968  243743   0  \n",
       "\n",
       "[3 rows x 39 columns]"
      ]
     },
     "execution_count": 7,
     "metadata": {},
     "output_type": "execute_result"
    }
   ],
   "source": [
    "#hide\n",
    "df_yday.head()"
   ]
  },
  {
   "cell_type": "code",
   "execution_count": 8,
   "metadata": {
    "execution": {
     "iopub.execute_input": "2020-10-07T19:13:10.557521Z",
     "iopub.status.busy": "2020-10-07T19:13:10.556820Z",
     "iopub.status.idle": "2020-10-07T19:13:10.560347Z",
     "shell.execute_reply": "2020-10-07T19:13:10.559617Z"
    },
    "papermill": {
     "duration": 0.153032,
     "end_time": "2020-10-07T19:13:10.560502",
     "exception": false,
     "start_time": "2020-10-07T19:13:10.407470",
     "status": "completed"
    },
    "tags": []
   },
   "outputs": [
    {
     "data": {
      "text/plain": [
       "{'updated': '07-Oct-20',\n",
       " 'since': '06-Oct-20',\n",
       " 'Cases': 6832017,\n",
       " 'Deaths': 104964,\n",
       " 'Recovered': 5821401,\n",
       " 'PCases': 6753550,\n",
       " 'PDeaths': 104004,\n",
       " 'PRecovered': 5741231,\n",
       " 'Cases (+)': 78467,\n",
       " 'Deaths (+)': 960,\n",
       " 'Recovered (+)': 80170}"
      ]
     },
     "execution_count": 8,
     "metadata": {},
     "output_type": "execute_result"
    }
   ],
   "source": [
    "#hide\n",
    "summary = {\n",
    "    'updated' : dt_today,\n",
    "    'since' : dt_yday,\n",
    "    'Cases' : df_today['TT'][0],\n",
    "    'Deaths' : df_today['TT'][1],\n",
    "    'Recovered' : df_today['TT'][2],\n",
    "    'PCases' : df_yday['TT'][0],\n",
    "    'PDeaths' : df_yday['TT'][1],\n",
    "    'PRecovered': df_yday['TT'][2],\n",
    "    'Cases (+)' : df_today['TT'][0] - df_yday['TT'][0],\n",
    "    'Deaths (+)' : df_today['TT'][1] - df_yday['TT'][1],\n",
    "    'Recovered (+)': df_today['TT'][2] - df_yday['TT'][2]\n",
    "}\n",
    "\n",
    "summary"
   ]
  },
  {
   "cell_type": "code",
   "execution_count": 9,
   "metadata": {
    "execution": {
     "iopub.execute_input": "2020-10-07T19:13:10.677546Z",
     "iopub.status.busy": "2020-10-07T19:13:10.676891Z",
     "iopub.status.idle": "2020-10-07T19:13:10.679450Z",
     "shell.execute_reply": "2020-10-07T19:13:10.678908Z"
    },
    "papermill": {
     "duration": 0.022321,
     "end_time": "2020-10-07T19:13:10.679573",
     "exception": false,
     "start_time": "2020-10-07T19:13:10.657252",
     "status": "completed"
    },
    "tags": []
   },
   "outputs": [],
   "source": [
    "#hide\n",
    "overview = '''\n",
    "<!-- #######  HTML!! #########-->\n",
    "<h1 style=\"color: #5e9ca0; text-align: center;\">India</h1>\n",
    "<p style=\"text-align: center;\">Last update: <strong>{update}</strong></p>\n",
    "<p style=\"text-align: center;\">Confirmed cases:</p>\n",
    "<p style=\"text-align: center;font-size:24px;\">{cases} (<span style=\"color: #ff0000;\">+{new}</span>)</p>\n",
    "<p style=\"text-align: center;\">Confirmed deaths:</p>\n",
    "<p style=\"text-align: center;font-size:24px;\">{deaths} (<span style=\"color: #ff0000;\">+{dnew}</span>)</p>\n",
    "<p style=\"text-align: center;\">Recovered cases:</p>\n",
    "<p style=\"text-align: center;font-size:24px;\">{recovered} (<span style=\"color: #00ff00;\">+{rnew}</span>)</p>\n",
    "'''"
   ]
  },
  {
   "cell_type": "code",
   "execution_count": 10,
   "metadata": {
    "execution": {
     "iopub.execute_input": "2020-10-07T19:13:10.716340Z",
     "iopub.status.busy": "2020-10-07T19:13:10.715698Z",
     "iopub.status.idle": "2020-10-07T19:13:10.719178Z",
     "shell.execute_reply": "2020-10-07T19:13:10.718588Z"
    },
    "papermill": {
     "duration": 0.024764,
     "end_time": "2020-10-07T19:13:10.719320",
     "exception": false,
     "start_time": "2020-10-07T19:13:10.694556",
     "status": "completed"
    },
    "tags": []
   },
   "outputs": [
    {
     "data": {
      "text/html": [
       "\n",
       "<!-- #######  HTML!! #########-->\n",
       "<h1 style=\"color: #5e9ca0; text-align: center;\">India</h1>\n",
       "<p style=\"text-align: center;\">Last update: <strong>07-Oct-20</strong></p>\n",
       "<p style=\"text-align: center;\">Confirmed cases:</p>\n",
       "<p style=\"text-align: center;font-size:24px;\">6832017 (<span style=\"color: #ff0000;\">+78467</span>)</p>\n",
       "<p style=\"text-align: center;\">Confirmed deaths:</p>\n",
       "<p style=\"text-align: center;font-size:24px;\">104964 (<span style=\"color: #ff0000;\">+960</span>)</p>\n",
       "<p style=\"text-align: center;\">Recovered cases:</p>\n",
       "<p style=\"text-align: center;font-size:24px;\">5821401 (<span style=\"color: #00ff00;\">+80170</span>)</p>\n"
      ],
      "text/plain": [
       "<IPython.core.display.HTML object>"
      ]
     },
     "metadata": {},
     "output_type": "display_data"
    }
   ],
   "source": [
    "#hide_input\n",
    "# Fill the above HTML with the information from the summary dictionary\n",
    "\n",
    "update = summary['updated']\n",
    "cases = summary['Cases']\n",
    "new = summary['Cases (+)']\n",
    "deaths = summary['Deaths']\n",
    "dnew = summary['Deaths (+)']\n",
    "recovered = summary['Recovered']\n",
    "rnew = summary['Recovered (+)']\n",
    "\n",
    "html = HTML(overview.format(update=update, cases=cases,new=new,deaths=deaths,dnew=dnew, recovered=recovered, rnew=rnew))\n",
    "\n",
    "display(html)"
   ]
  },
  {
   "cell_type": "code",
   "execution_count": 11,
   "metadata": {
    "execution": {
     "iopub.execute_input": "2020-10-07T19:13:10.758952Z",
     "iopub.status.busy": "2020-10-07T19:13:10.758288Z",
     "iopub.status.idle": "2020-10-07T19:13:10.763701Z",
     "shell.execute_reply": "2020-10-07T19:13:10.763035Z"
    },
    "papermill": {
     "duration": 0.028997,
     "end_time": "2020-10-07T19:13:10.763850",
     "exception": false,
     "start_time": "2020-10-07T19:13:10.734853",
     "status": "completed"
    },
    "tags": []
   },
   "outputs": [],
   "source": [
    "#hide\n",
    "df_cases = df[df['Status'] == 'Confirmed'].copy()\n",
    "df_cases.drop(columns = ['Status'], inplace=True)\n",
    "df_deaths = df[df['Status'] == 'Deceased'].copy()\n",
    "df_deaths.drop(columns = ['Status'], inplace=True)\n",
    "df_recovered = df[df['Status'] == 'Recovered'].copy()\n",
    "df_recovered.drop(columns = ['Status'], inplace=True)"
   ]
  },
  {
   "cell_type": "markdown",
   "metadata": {
    "papermill": {
     "duration": 0.015794,
     "end_time": "2020-10-07T19:13:10.795670",
     "exception": false,
     "start_time": "2020-10-07T19:13:10.779876",
     "status": "completed"
    },
    "tags": []
   },
   "source": [
    "Plot for India:"
   ]
  },
  {
   "cell_type": "code",
   "execution_count": 12,
   "metadata": {
    "execution": {
     "iopub.execute_input": "2020-10-07T19:13:10.840718Z",
     "iopub.status.busy": "2020-10-07T19:13:10.840017Z",
     "iopub.status.idle": "2020-10-07T19:13:11.133789Z",
     "shell.execute_reply": "2020-10-07T19:13:11.134358Z"
    },
    "papermill": {
     "duration": 0.323068,
     "end_time": "2020-10-07T19:13:11.134517",
     "exception": false,
     "start_time": "2020-10-07T19:13:10.811449",
     "status": "completed"
    },
    "tags": []
   },
   "outputs": [
    {
     "data": {
      "image/png": "[encoded data removed]",
      "text/plain": [
       "<Figure size 1296x432 with 1 Axes>"
      ]
     },
     "metadata": {
      "needs_background": "light"
     },
     "output_type": "display_data"
    }
   ],
   "source": [
    "#hide_input\n",
    "plt.figure(figsize = (18,6))\n",
    "plt.plot(df_cases['Date'], df_cases['TT'],'.-', alpha=0.7, color='b', label='Confirmed cases')\n",
    "plt.plot(df_recovered['Date'], df_recovered['TT'],'.-', alpha=0.7, color='g', label='Recovered')\n",
    "plt.plot(df_deaths['Date'], df_deaths['TT'],'.-', alpha=0.7, color='r', label='Deceased')\n",
    "plt.legend()\n",
    "plt.title(\"Cases per day in India\")\n",
    "plt.xticks(ticks=' ')\n",
    "plt.xlabel(f'{df_cases.iloc[0][0]} to {df_cases.iloc[-1][0]}')\n",
    "plt.ylabel('No. of cases');"
   ]
  },
  {
   "cell_type": "markdown",
   "metadata": {
    "papermill": {
     "duration": 0.018269,
     "end_time": "2020-10-07T19:13:11.170515",
     "exception": false,
     "start_time": "2020-10-07T19:13:11.152246",
     "status": "completed"
    },
    "tags": []
   },
   "source": [
    "Plots for the states with highest number of cases:"
   ]
  },
  {
   "cell_type": "code",
   "execution_count": 13,
   "metadata": {
    "execution": {
     "iopub.execute_input": "2020-10-07T19:13:11.213213Z",
     "iopub.status.busy": "2020-10-07T19:13:11.212589Z",
     "iopub.status.idle": "2020-10-07T19:13:11.860425Z",
     "shell.execute_reply": "2020-10-07T19:13:11.859870Z"
    },
    "papermill": {
     "duration": 0.672853,
     "end_time": "2020-10-07T19:13:11.860564",
     "exception": false,
     "start_time": "2020-10-07T19:13:11.187711",
     "status": "completed"
    },
    "tags": []
   },
   "outputs": [
    {
     "data": {
      "image/png": "[encoded data removed]",
      "text/plain": [
       "<Figure size 1512x432 with 3 Axes>"
      ]
     },
     "metadata": {
      "needs_background": "light"
     },
     "output_type": "display_data"
    }
   ],
   "source": [
    "#hide_input\n",
    "top_3 = sorted(df_cases.sum().values[1:], reverse=True)[1:4]\n",
    "top3_states=[]\n",
    "for i in top_3:\n",
    "    top3_states.append(df_cases.sum()[df_cases.sum() == i].index)\n",
    "\n",
    "\n",
    "fig, ax = plt.subplots(1,3,figsize = (21,6))\n",
    "for i in range(3):\n",
    "    state = top3_states[i].values[0]\n",
    "    ax[i].plot(df_cases['Date'], df_cases[state],'.-', color='b', alpha=0.7)\n",
    "    ax[i].plot(df_deaths['Date'], df_deaths[state],'.-', color='r', alpha=0.7)\n",
    "    ax[i].plot(df_recovered['Date'], df_recovered[state],'.-', color='g', alpha=0.7)\n",
    "    \n",
    "    ax[i].set_title(f\"Cases in {state}\")\n",
    "    ax[i].set_xticks(ticks=' ')\n",
    "    ax[i].set_xlabel(f'{df_cases.iloc[0][0]} to {df_cases.iloc[-1][0]}')\n",
    "    ax[i].set_ylabel('No. of cases');"
   ]
  },
  {
   "cell_type": "code",
   "execution_count": null,
   "metadata": {
    "papermill": {
     "duration": 0.020965,
     "end_time": "2020-10-07T19:13:11.901468",
     "exception": false,
     "start_time": "2020-10-07T19:13:11.880503",
     "status": "completed"
    },
    "tags": []
   },
   "outputs": [],
   "source": []
  },
  {
   "cell_type": "code",
   "execution_count": null,
   "metadata": {
    "papermill": {
     "duration": 0.019484,
     "end_time": "2020-10-07T19:13:11.940907",
     "exception": false,
     "start_time": "2020-10-07T19:13:11.921423",
     "status": "completed"
    },
    "tags": []
   },
   "outputs": [],
   "source": []
  },
  {
   "cell_type": "code",
   "execution_count": null,
   "metadata": {
    "papermill": {
     "duration": 0.019396,
     "end_time": "2020-10-07T19:13:11.979823",
     "exception": false,
     "start_time": "2020-10-07T19:13:11.960427",
     "status": "completed"
    },
    "tags": []
   },
   "outputs": [],
   "source": []
  }
 ],
 "metadata": {
  "kernelspec": {
   "display_name": "Python 3",
   "language": "python",
   "name": "python3"
  },
  "language_info": {
   "codemirror_mode": {
    "name": "ipython",
    "version": 3
   },
   "file_extension": ".py",
   "mimetype": "text/x-python",
   "name": "python",
   "nbconvert_exporter": "python",
   "pygments_lexer": "ipython3",
   "version": "3.6.12"
  },
  "papermill": {
   "duration": 4.782886,
   "end_time": "2020-10-07T19:13:12.306841",
   "environment_variables": {},
   "exception": null,
   "input_path": "2020-08-09-DailyUpdate.ipynb",
   "output_path": "2020-08-09-DailyUpdate.ipynb",
   "parameters": {},
   "start_time": "2020-10-07T19:13:07.523955",
   "version": "2.1.2"
  }
 },
 "nbformat": 4,
 "nbformat_minor": 4
}