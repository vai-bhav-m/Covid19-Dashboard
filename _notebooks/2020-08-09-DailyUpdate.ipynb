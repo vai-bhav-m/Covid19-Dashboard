{
 "cells": [
  {
   "cell_type": "markdown",
   "metadata": {
    "papermill": {
     "duration": 0.014689,
     "end_time": "2020-09-10T19:12:10.777524",
     "exception": false,
     "start_time": "2020-09-10T19:12:10.762835",
     "status": "completed"
    },
    "tags": []
   },
   "source": [
    "# COVID-19 India Daily updates\n",
    "> Tracking coronavirus total cases, deaths and new cases in India on a daily basis\n",
    "\n",
    "- author: Vaibhav Mahapatra"
   ]
  },
  {
   "cell_type": "code",
   "execution_count": 1,
   "metadata": {
    "execution": {
     "iopub.execute_input": "2020-09-10T19:12:10.807805Z",
     "iopub.status.busy": "2020-09-10T19:12:10.807241Z",
     "iopub.status.idle": "2020-09-10T19:12:11.423677Z",
     "shell.execute_reply": "2020-09-10T19:12:11.422844Z"
    },
    "papermill": {
     "duration": 0.63381,
     "end_time": "2020-09-10T19:12:11.423861",
     "exception": false,
     "start_time": "2020-09-10T19:12:10.790051",
     "status": "completed"
    },
    "tags": []
   },
   "outputs": [],
   "source": [
    "#hide\n",
    "\n",
    "## Import essential packages below\n",
    "\n",
    "import pandas as pd\n",
    "import numpy as np\n",
    "import requests\n",
    "import json\n",
    "import matplotlib.pyplot as plt\n",
    "import matplotlib.dates as mdates\n",
    "import matplotlib as mpl\n",
    "from IPython.core.display import display,HTML\n",
    "%matplotlib inline"
   ]
  },
  {
   "cell_type": "code",
   "execution_count": 2,
   "metadata": {
    "execution": {
     "iopub.execute_input": "2020-09-10T19:12:11.790935Z",
     "iopub.status.busy": "2020-09-10T19:12:11.790305Z",
     "iopub.status.idle": "2020-09-10T19:12:11.960759Z",
     "shell.execute_reply": "2020-09-10T19:12:11.959486Z"
    },
    "papermill": {
     "duration": 0.193154,
     "end_time": "2020-09-10T19:12:11.960971",
     "exception": false,
     "start_time": "2020-09-10T19:12:11.767817",
     "status": "completed"
    },
    "tags": []
   },
   "outputs": [
    {
     "data": {
      "text/plain": [
       "(543, 41)"
      ]
     },
     "execution_count": 2,
     "metadata": {},
     "output_type": "execute_result"
    }
   ],
   "source": [
    "#hide\n",
    "url = 'https://api.covid19india.org/csv/latest/state_wise_daily.csv'\n",
    "df = pd.read_csv(url)\n",
    "df.shape"
   ]
  },
  {
   "cell_type": "code",
   "execution_count": 3,
   "metadata": {
    "execution": {
     "iopub.execute_input": "2020-09-10T19:12:12.131130Z",
     "iopub.status.busy": "2020-09-10T19:12:12.122370Z",
     "iopub.status.idle": "2020-09-10T19:12:12.134464Z",
     "shell.execute_reply": "2020-09-10T19:12:12.134968Z"
    },
    "papermill": {
     "duration": 0.12812,
     "end_time": "2020-09-10T19:12:12.135143",
     "exception": false,
     "start_time": "2020-09-10T19:12:12.007023",
     "status": "completed"
    },
    "tags": []
   },
   "outputs": [
    {
     "data": {
      "text/html": [
       "<div>\n",
       "<style scoped>\n",
       "    .dataframe tbody tr th:only-of-type {\n",
       "        vertical-align: middle;\n",
       "    }\n",
       "\n",
       "    .dataframe tbody tr th {\n",
       "        vertical-align: top;\n",
       "    }\n",
       "\n",
       "    .dataframe thead th {\n",
       "        text-align: right;\n",
       "    }\n",
       "</style>\n",
       "<table border=\"1\" class=\"dataframe\">\n",
       "  <thead>\n",
       "    <tr style=\"text-align: right;\">\n",
       "      <th></th>\n",
       "      <th>Date</th>\n",
       "      <th>Status</th>\n",
       "      <th>TT</th>\n",
       "      <th>AN</th>\n",
       "      <th>AP</th>\n",
       "      <th>AR</th>\n",
       "      <th>AS</th>\n",
       "      <th>BR</th>\n",
       "      <th>CH</th>\n",
       "      <th>CT</th>\n",
       "      <th>...</th>\n",
       "      <th>PB</th>\n",
       "      <th>RJ</th>\n",
       "      <th>SK</th>\n",
       "      <th>TN</th>\n",
       "      <th>TG</th>\n",
       "      <th>TR</th>\n",
       "      <th>UP</th>\n",
       "      <th>UT</th>\n",
       "      <th>WB</th>\n",
       "      <th>UN</th>\n",
       "    </tr>\n",
       "  </thead>\n",
       "  <tbody>\n",
       "    <tr>\n",
       "      <th>537</th>\n",
       "      <td>09-Sep-20</td>\n",
       "      <td>Confirmed</td>\n",
       "      <td>95529</td>\n",
       "      <td>34</td>\n",
       "      <td>10418</td>\n",
       "      <td>144</td>\n",
       "      <td>2243</td>\n",
       "      <td>1498</td>\n",
       "      <td>332</td>\n",
       "      <td>2818</td>\n",
       "      <td>...</td>\n",
       "      <td>2137</td>\n",
       "      <td>1610</td>\n",
       "      <td>31</td>\n",
       "      <td>5584</td>\n",
       "      <td>2479</td>\n",
       "      <td>582</td>\n",
       "      <td>6568</td>\n",
       "      <td>1117</td>\n",
       "      <td>3107</td>\n",
       "      <td>0</td>\n",
       "    </tr>\n",
       "    <tr>\n",
       "      <th>538</th>\n",
       "      <td>09-Sep-20</td>\n",
       "      <td>Recovered</td>\n",
       "      <td>73057</td>\n",
       "      <td>43</td>\n",
       "      <td>9842</td>\n",
       "      <td>183</td>\n",
       "      <td>2265</td>\n",
       "      <td>1702</td>\n",
       "      <td>180</td>\n",
       "      <td>1146</td>\n",
       "      <td>...</td>\n",
       "      <td>1231</td>\n",
       "      <td>1578</td>\n",
       "      <td>16</td>\n",
       "      <td>6516</td>\n",
       "      <td>2485</td>\n",
       "      <td>311</td>\n",
       "      <td>5731</td>\n",
       "      <td>789</td>\n",
       "      <td>2967</td>\n",
       "      <td>0</td>\n",
       "    </tr>\n",
       "    <tr>\n",
       "      <th>539</th>\n",
       "      <td>09-Sep-20</td>\n",
       "      <td>Deceased</td>\n",
       "      <td>1168</td>\n",
       "      <td>1</td>\n",
       "      <td>74</td>\n",
       "      <td>0</td>\n",
       "      <td>18</td>\n",
       "      <td>10</td>\n",
       "      <td>2</td>\n",
       "      <td>70</td>\n",
       "      <td>...</td>\n",
       "      <td>71</td>\n",
       "      <td>14</td>\n",
       "      <td>0</td>\n",
       "      <td>78</td>\n",
       "      <td>10</td>\n",
       "      <td>9</td>\n",
       "      <td>65</td>\n",
       "      <td>12</td>\n",
       "      <td>53</td>\n",
       "      <td>0</td>\n",
       "    </tr>\n",
       "    <tr>\n",
       "      <th>540</th>\n",
       "      <td>10-Sep-20</td>\n",
       "      <td>Confirmed</td>\n",
       "      <td>96760</td>\n",
       "      <td>39</td>\n",
       "      <td>10175</td>\n",
       "      <td>127</td>\n",
       "      <td>2739</td>\n",
       "      <td>1543</td>\n",
       "      <td>283</td>\n",
       "      <td>2748</td>\n",
       "      <td>...</td>\n",
       "      <td>2459</td>\n",
       "      <td>1640</td>\n",
       "      <td>20</td>\n",
       "      <td>5528</td>\n",
       "      <td>2534</td>\n",
       "      <td>535</td>\n",
       "      <td>6988</td>\n",
       "      <td>1015</td>\n",
       "      <td>3112</td>\n",
       "      <td>0</td>\n",
       "    </tr>\n",
       "    <tr>\n",
       "      <th>541</th>\n",
       "      <td>10-Sep-20</td>\n",
       "      <td>Recovered</td>\n",
       "      <td>70899</td>\n",
       "      <td>43</td>\n",
       "      <td>10040</td>\n",
       "      <td>99</td>\n",
       "      <td>2197</td>\n",
       "      <td>1480</td>\n",
       "      <td>191</td>\n",
       "      <td>1917</td>\n",
       "      <td>...</td>\n",
       "      <td>1348</td>\n",
       "      <td>1032</td>\n",
       "      <td>41</td>\n",
       "      <td>6185</td>\n",
       "      <td>2071</td>\n",
       "      <td>340</td>\n",
       "      <td>4605</td>\n",
       "      <td>521</td>\n",
       "      <td>3035</td>\n",
       "      <td>0</td>\n",
       "    </tr>\n",
       "    <tr>\n",
       "      <th>542</th>\n",
       "      <td>10-Sep-20</td>\n",
       "      <td>Deceased</td>\n",
       "      <td>1212</td>\n",
       "      <td>0</td>\n",
       "      <td>68</td>\n",
       "      <td>0</td>\n",
       "      <td>18</td>\n",
       "      <td>10</td>\n",
       "      <td>3</td>\n",
       "      <td>16</td>\n",
       "      <td>...</td>\n",
       "      <td>88</td>\n",
       "      <td>14</td>\n",
       "      <td>0</td>\n",
       "      <td>64</td>\n",
       "      <td>11</td>\n",
       "      <td>6</td>\n",
       "      <td>94</td>\n",
       "      <td>5</td>\n",
       "      <td>41</td>\n",
       "      <td>0</td>\n",
       "    </tr>\n",
       "  </tbody>\n",
       "</table>\n",
       "<p>6 rows × 41 columns</p>\n",
       "</div>"
      ],
      "text/plain": [
       "          Date     Status     TT  AN     AP   AR    AS    BR   CH    CT  ...  \\\n",
       "537  09-Sep-20  Confirmed  95529  34  10418  144  2243  1498  332  2818  ...   \n",
       "538  09-Sep-20  Recovered  73057  43   9842  183  2265  1702  180  1146  ...   \n",
       "539  09-Sep-20   Deceased   1168   1     74    0    18    10    2    70  ...   \n",
       "540  10-Sep-20  Confirmed  96760  39  10175  127  2739  1543  283  2748  ...   \n",
       "541  10-Sep-20  Recovered  70899  43  10040   99  2197  1480  191  1917  ...   \n",
       "542  10-Sep-20   Deceased   1212   0     68    0    18    10    3    16  ...   \n",
       "\n",
       "       PB    RJ  SK    TN    TG   TR    UP    UT    WB  UN  \n",
       "537  2137  1610  31  5584  2479  582  6568  1117  3107   0  \n",
       "538  1231  1578  16  6516  2485  311  5731   789  2967   0  \n",
       "539    71    14   0    78    10    9    65    12    53   0  \n",
       "540  2459  1640  20  5528  2534  535  6988  1015  3112   0  \n",
       "541  1348  1032  41  6185  2071  340  4605   521  3035   0  \n",
       "542    88    14   0    64    11    6    94     5    41   0  \n",
       "\n",
       "[6 rows x 41 columns]"
      ]
     },
     "execution_count": 3,
     "metadata": {},
     "output_type": "execute_result"
    }
   ],
   "source": [
    "#hide\n",
    "df.tail(6)"
   ]
  },
  {
   "cell_type": "code",
   "execution_count": 4,
   "metadata": {
    "execution": {
     "iopub.execute_input": "2020-09-10T19:12:12.189890Z",
     "iopub.status.busy": "2020-09-10T19:12:12.189287Z",
     "iopub.status.idle": "2020-09-10T19:12:12.193084Z",
     "shell.execute_reply": "2020-09-10T19:12:12.192438Z"
    },
    "papermill": {
     "duration": 0.027731,
     "end_time": "2020-09-10T19:12:12.193208",
     "exception": false,
     "start_time": "2020-09-10T19:12:12.165477",
     "status": "completed"
    },
    "tags": []
   },
   "outputs": [
    {
     "data": {
      "text/plain": [
       "('10-Sep-20', '09-Sep-20')"
      ]
     },
     "execution_count": 4,
     "metadata": {},
     "output_type": "execute_result"
    }
   ],
   "source": [
    "#hide\n",
    "dt_today = df.iloc[-1][0]\n",
    "dt_yday = df.iloc[-4][0]\n",
    "dt_today, dt_yday"
   ]
  },
  {
   "cell_type": "code",
   "execution_count": 5,
   "metadata": {
    "execution": {
     "iopub.execute_input": "2020-09-10T19:12:12.228183Z",
     "iopub.status.busy": "2020-09-10T19:12:12.227414Z",
     "iopub.status.idle": "2020-09-10T19:12:12.234489Z",
     "shell.execute_reply": "2020-09-10T19:12:12.234998Z"
    },
    "papermill": {
     "duration": 0.027466,
     "end_time": "2020-09-10T19:12:12.235139",
     "exception": false,
     "start_time": "2020-09-10T19:12:12.207673",
     "status": "completed"
    },
    "tags": []
   },
   "outputs": [],
   "source": [
    "#hide\n",
    "df_today = df.groupby('Status').sum()\n",
    "df_yday = df.iloc[:-3][:].groupby('Status').sum()"
   ]
  },
  {
   "cell_type": "code",
   "execution_count": 6,
   "metadata": {
    "execution": {
     "iopub.execute_input": "2020-09-10T19:12:12.274126Z",
     "iopub.status.busy": "2020-09-10T19:12:12.273472Z",
     "iopub.status.idle": "2020-09-10T19:12:12.284029Z",
     "shell.execute_reply": "2020-09-10T19:12:12.283480Z"
    },
    "papermill": {
     "duration": 0.033783,
     "end_time": "2020-09-10T19:12:12.284159",
     "exception": false,
     "start_time": "2020-09-10T19:12:12.250376",
     "status": "completed"
    },
    "tags": []
   },
   "outputs": [
    {
     "data": {
      "text/html": [
       "<div>\n",
       "<style scoped>\n",
       "    .dataframe tbody tr th:only-of-type {\n",
       "        vertical-align: middle;\n",
       "    }\n",
       "\n",
       "    .dataframe tbody tr th {\n",
       "        vertical-align: top;\n",
       "    }\n",
       "\n",
       "    .dataframe thead th {\n",
       "        text-align: right;\n",
       "    }\n",
       "</style>\n",
       "<table border=\"1\" class=\"dataframe\">\n",
       "  <thead>\n",
       "    <tr style=\"text-align: right;\">\n",
       "      <th></th>\n",
       "      <th>TT</th>\n",
       "      <th>AN</th>\n",
       "      <th>AP</th>\n",
       "      <th>AR</th>\n",
       "      <th>AS</th>\n",
       "      <th>BR</th>\n",
       "      <th>CH</th>\n",
       "      <th>CT</th>\n",
       "      <th>DN</th>\n",
       "      <th>DD</th>\n",
       "      <th>...</th>\n",
       "      <th>PB</th>\n",
       "      <th>RJ</th>\n",
       "      <th>SK</th>\n",
       "      <th>TN</th>\n",
       "      <th>TG</th>\n",
       "      <th>TR</th>\n",
       "      <th>UP</th>\n",
       "      <th>UT</th>\n",
       "      <th>WB</th>\n",
       "      <th>UN</th>\n",
       "    </tr>\n",
       "    <tr>\n",
       "      <th>Status</th>\n",
       "      <th></th>\n",
       "      <th></th>\n",
       "      <th></th>\n",
       "      <th></th>\n",
       "      <th></th>\n",
       "      <th></th>\n",
       "      <th></th>\n",
       "      <th></th>\n",
       "      <th></th>\n",
       "      <th></th>\n",
       "      <th></th>\n",
       "      <th></th>\n",
       "      <th></th>\n",
       "      <th></th>\n",
       "      <th></th>\n",
       "      <th></th>\n",
       "      <th></th>\n",
       "      <th></th>\n",
       "      <th></th>\n",
       "      <th></th>\n",
       "      <th></th>\n",
       "    </tr>\n",
       "  </thead>\n",
       "  <tbody>\n",
       "    <tr>\n",
       "      <th>Confirmed</th>\n",
       "      <td>4558753</td>\n",
       "      <td>3461</td>\n",
       "      <td>537687</td>\n",
       "      <td>5672</td>\n",
       "      <td>135703</td>\n",
       "      <td>153735</td>\n",
       "      <td>6987</td>\n",
       "      <td>55680</td>\n",
       "      <td>2660</td>\n",
       "      <td>0</td>\n",
       "      <td>...</td>\n",
       "      <td>72143</td>\n",
       "      <td>97376</td>\n",
       "      <td>2022</td>\n",
       "      <td>486052</td>\n",
       "      <td>149666</td>\n",
       "      <td>17271</td>\n",
       "      <td>292029</td>\n",
       "      <td>28226</td>\n",
       "      <td>193175</td>\n",
       "      <td>0</td>\n",
       "    </tr>\n",
       "    <tr>\n",
       "      <th>Deceased</th>\n",
       "      <td>75706</td>\n",
       "      <td>51</td>\n",
       "      <td>4702</td>\n",
       "      <td>9</td>\n",
       "      <td>418</td>\n",
       "      <td>785</td>\n",
       "      <td>80</td>\n",
       "      <td>493</td>\n",
       "      <td>2</td>\n",
       "      <td>0</td>\n",
       "      <td>...</td>\n",
       "      <td>2149</td>\n",
       "      <td>1192</td>\n",
       "      <td>7</td>\n",
       "      <td>8157</td>\n",
       "      <td>927</td>\n",
       "      <td>167</td>\n",
       "      <td>4206</td>\n",
       "      <td>377</td>\n",
       "      <td>3771</td>\n",
       "      <td>0</td>\n",
       "    </tr>\n",
       "    <tr>\n",
       "      <th>Recovered</th>\n",
       "      <td>3539388</td>\n",
       "      <td>3112</td>\n",
       "      <td>435647</td>\n",
       "      <td>4005</td>\n",
       "      <td>105702</td>\n",
       "      <td>137271</td>\n",
       "      <td>4331</td>\n",
       "      <td>25855</td>\n",
       "      <td>2352</td>\n",
       "      <td>0</td>\n",
       "      <td>...</td>\n",
       "      <td>51906</td>\n",
       "      <td>80482</td>\n",
       "      <td>1471</td>\n",
       "      <td>429416</td>\n",
       "      <td>117143</td>\n",
       "      <td>9993</td>\n",
       "      <td>221506</td>\n",
       "      <td>18783</td>\n",
       "      <td>166027</td>\n",
       "      <td>0</td>\n",
       "    </tr>\n",
       "  </tbody>\n",
       "</table>\n",
       "<p>3 rows × 39 columns</p>\n",
       "</div>"
      ],
      "text/plain": [
       "                TT    AN      AP    AR      AS      BR    CH     CT    DN  DD  \\\n",
       "Status                                                                          \n",
       "Confirmed  4558753  3461  537687  5672  135703  153735  6987  55680  2660   0   \n",
       "Deceased     75706    51    4702     9     418     785    80    493     2   0   \n",
       "Recovered  3539388  3112  435647  4005  105702  137271  4331  25855  2352   0   \n",
       "\n",
       "           ...     PB     RJ    SK      TN      TG     TR      UP     UT  \\\n",
       "Status     ...                                                             \n",
       "Confirmed  ...  72143  97376  2022  486052  149666  17271  292029  28226   \n",
       "Deceased   ...   2149   1192     7    8157     927    167    4206    377   \n",
       "Recovered  ...  51906  80482  1471  429416  117143   9993  221506  18783   \n",
       "\n",
       "               WB  UN  \n",
       "Status                 \n",
       "Confirmed  193175   0  \n",
       "Deceased     3771   0  \n",
       "Recovered  166027   0  \n",
       "\n",
       "[3 rows x 39 columns]"
      ]
     },
     "execution_count": 6,
     "metadata": {},
     "output_type": "execute_result"
    }
   ],
   "source": [
    "#hide\n",
    "df_today"
   ]
  },
  {
   "cell_type": "code",
   "execution_count": 7,
   "metadata": {
    "execution": {
     "iopub.execute_input": "2020-09-10T19:12:12.328490Z",
     "iopub.status.busy": "2020-09-10T19:12:12.327935Z",
     "iopub.status.idle": "2020-09-10T19:12:12.331355Z",
     "shell.execute_reply": "2020-09-10T19:12:12.330863Z"
    },
    "papermill": {
     "duration": 0.033139,
     "end_time": "2020-09-10T19:12:12.331475",
     "exception": false,
     "start_time": "2020-09-10T19:12:12.298336",
     "status": "completed"
    },
    "tags": []
   },
   "outputs": [
    {
     "data": {
      "text/html": [
       "<div>\n",
       "<style scoped>\n",
       "    .dataframe tbody tr th:only-of-type {\n",
       "        vertical-align: middle;\n",
       "    }\n",
       "\n",
       "    .dataframe tbody tr th {\n",
       "        vertical-align: top;\n",
       "    }\n",
       "\n",
       "    .dataframe thead th {\n",
       "        text-align: right;\n",
       "    }\n",
       "</style>\n",
       "<table border=\"1\" class=\"dataframe\">\n",
       "  <thead>\n",
       "    <tr style=\"text-align: right;\">\n",
       "      <th></th>\n",
       "      <th>TT</th>\n",
       "      <th>AN</th>\n",
       "      <th>AP</th>\n",
       "      <th>AR</th>\n",
       "      <th>AS</th>\n",
       "      <th>BR</th>\n",
       "      <th>CH</th>\n",
       "      <th>CT</th>\n",
       "      <th>DN</th>\n",
       "      <th>DD</th>\n",
       "      <th>...</th>\n",
       "      <th>PB</th>\n",
       "      <th>RJ</th>\n",
       "      <th>SK</th>\n",
       "      <th>TN</th>\n",
       "      <th>TG</th>\n",
       "      <th>TR</th>\n",
       "      <th>UP</th>\n",
       "      <th>UT</th>\n",
       "      <th>WB</th>\n",
       "      <th>UN</th>\n",
       "    </tr>\n",
       "    <tr>\n",
       "      <th>Status</th>\n",
       "      <th></th>\n",
       "      <th></th>\n",
       "      <th></th>\n",
       "      <th></th>\n",
       "      <th></th>\n",
       "      <th></th>\n",
       "      <th></th>\n",
       "      <th></th>\n",
       "      <th></th>\n",
       "      <th></th>\n",
       "      <th></th>\n",
       "      <th></th>\n",
       "      <th></th>\n",
       "      <th></th>\n",
       "      <th></th>\n",
       "      <th></th>\n",
       "      <th></th>\n",
       "      <th></th>\n",
       "      <th></th>\n",
       "      <th></th>\n",
       "      <th></th>\n",
       "    </tr>\n",
       "  </thead>\n",
       "  <tbody>\n",
       "    <tr>\n",
       "      <th>Confirmed</th>\n",
       "      <td>4461993</td>\n",
       "      <td>3422</td>\n",
       "      <td>527512</td>\n",
       "      <td>5545</td>\n",
       "      <td>132964</td>\n",
       "      <td>152192</td>\n",
       "      <td>6704</td>\n",
       "      <td>52932</td>\n",
       "      <td>2634</td>\n",
       "      <td>0</td>\n",
       "      <td>...</td>\n",
       "      <td>69684</td>\n",
       "      <td>95736</td>\n",
       "      <td>2002</td>\n",
       "      <td>480524</td>\n",
       "      <td>147132</td>\n",
       "      <td>16736</td>\n",
       "      <td>285041</td>\n",
       "      <td>27211</td>\n",
       "      <td>190063</td>\n",
       "      <td>0</td>\n",
       "    </tr>\n",
       "    <tr>\n",
       "      <th>Deceased</th>\n",
       "      <td>74494</td>\n",
       "      <td>51</td>\n",
       "      <td>4634</td>\n",
       "      <td>9</td>\n",
       "      <td>400</td>\n",
       "      <td>775</td>\n",
       "      <td>77</td>\n",
       "      <td>477</td>\n",
       "      <td>2</td>\n",
       "      <td>0</td>\n",
       "      <td>...</td>\n",
       "      <td>2061</td>\n",
       "      <td>1178</td>\n",
       "      <td>7</td>\n",
       "      <td>8093</td>\n",
       "      <td>916</td>\n",
       "      <td>161</td>\n",
       "      <td>4112</td>\n",
       "      <td>372</td>\n",
       "      <td>3730</td>\n",
       "      <td>0</td>\n",
       "    </tr>\n",
       "    <tr>\n",
       "      <th>Recovered</th>\n",
       "      <td>3468489</td>\n",
       "      <td>3069</td>\n",
       "      <td>425607</td>\n",
       "      <td>3906</td>\n",
       "      <td>103505</td>\n",
       "      <td>135791</td>\n",
       "      <td>4140</td>\n",
       "      <td>23938</td>\n",
       "      <td>2328</td>\n",
       "      <td>0</td>\n",
       "      <td>...</td>\n",
       "      <td>50558</td>\n",
       "      <td>79450</td>\n",
       "      <td>1430</td>\n",
       "      <td>423231</td>\n",
       "      <td>115072</td>\n",
       "      <td>9653</td>\n",
       "      <td>216901</td>\n",
       "      <td>18262</td>\n",
       "      <td>162992</td>\n",
       "      <td>0</td>\n",
       "    </tr>\n",
       "  </tbody>\n",
       "</table>\n",
       "<p>3 rows × 39 columns</p>\n",
       "</div>"
      ],
      "text/plain": [
       "                TT    AN      AP    AR      AS      BR    CH     CT    DN  DD  \\\n",
       "Status                                                                          \n",
       "Confirmed  4461993  3422  527512  5545  132964  152192  6704  52932  2634   0   \n",
       "Deceased     74494    51    4634     9     400     775    77    477     2   0   \n",
       "Recovered  3468489  3069  425607  3906  103505  135791  4140  23938  2328   0   \n",
       "\n",
       "           ...     PB     RJ    SK      TN      TG     TR      UP     UT  \\\n",
       "Status     ...                                                             \n",
       "Confirmed  ...  69684  95736  2002  480524  147132  16736  285041  27211   \n",
       "Deceased   ...   2061   1178     7    8093     916    161    4112    372   \n",
       "Recovered  ...  50558  79450  1430  423231  115072   9653  216901  18262   \n",
       "\n",
       "               WB  UN  \n",
       "Status                 \n",
       "Confirmed  190063   0  \n",
       "Deceased     3730   0  \n",
       "Recovered  162992   0  \n",
       "\n",
       "[3 rows x 39 columns]"
      ]
     },
     "execution_count": 7,
     "metadata": {},
     "output_type": "execute_result"
    }
   ],
   "source": [
    "#hide\n",
    "df_yday.head()"
   ]
  },
  {
   "cell_type": "code",
   "execution_count": 8,
   "metadata": {
    "execution": {
     "iopub.execute_input": "2020-09-10T19:12:12.367403Z",
     "iopub.status.busy": "2020-09-10T19:12:12.366724Z",
     "iopub.status.idle": "2020-09-10T19:12:12.370413Z",
     "shell.execute_reply": "2020-09-10T19:12:12.369822Z"
    },
    "papermill": {
     "duration": 0.025731,
     "end_time": "2020-09-10T19:12:12.370529",
     "exception": false,
     "start_time": "2020-09-10T19:12:12.344798",
     "status": "completed"
    },
    "tags": []
   },
   "outputs": [
    {
     "data": {
      "text/plain": [
       "{'updated': '10-Sep-20',\n",
       " 'since': '09-Sep-20',\n",
       " 'Cases': 4558753,\n",
       " 'Deaths': 75706,\n",
       " 'Recovered': 3539388,\n",
       " 'PCases': 4461993,\n",
       " 'PDeaths': 74494,\n",
       " 'PRecovered': 3468489,\n",
       " 'Cases (+)': 96760,\n",
       " 'Deaths (+)': 1212,\n",
       " 'Recovered (+)': 70899}"
      ]
     },
     "execution_count": 8,
     "metadata": {},
     "output_type": "execute_result"
    }
   ],
   "source": [
    "#hide\n",
    "summary = {\n",
    "    'updated' : dt_today,\n",
    "    'since' : dt_yday,\n",
    "    'Cases' : df_today['TT'][0],\n",
    "    'Deaths' : df_today['TT'][1],\n",
    "    'Recovered' : df_today['TT'][2],\n",
    "    'PCases' : df_yday['TT'][0],\n",
    "    'PDeaths' : df_yday['TT'][1],\n",
    "    'PRecovered': df_yday['TT'][2],\n",
    "    'Cases (+)' : df_today['TT'][0] - df_yday['TT'][0],\n",
    "    'Deaths (+)' : df_today['TT'][1] - df_yday['TT'][1],\n",
    "    'Recovered (+)': df_today['TT'][2] - df_yday['TT'][2]\n",
    "}\n",
    "\n",
    "summary"
   ]
  },
  {
   "cell_type": "code",
   "execution_count": 9,
   "metadata": {
    "execution": {
     "iopub.execute_input": "2020-09-10T19:12:12.404631Z",
     "iopub.status.busy": "2020-09-10T19:12:12.403631Z",
     "iopub.status.idle": "2020-09-10T19:12:12.405967Z",
     "shell.execute_reply": "2020-09-10T19:12:12.406576Z"
    },
    "papermill": {
     "duration": 0.022313,
     "end_time": "2020-09-10T19:12:12.406763",
     "exception": false,
     "start_time": "2020-09-10T19:12:12.384450",
     "status": "completed"
    },
    "tags": []
   },
   "outputs": [],
   "source": [
    "#hide\n",
    "overview = '''\n",
    "<!-- #######  HTML!! #########-->\n",
    "<h1 style=\"color: #5e9ca0; text-align: center;\">India</h1>\n",
    "<p style=\"text-align: center;\">Last update: <strong>{update}</strong></p>\n",
    "<p style=\"text-align: center;\">Confirmed cases:</p>\n",
    "<p style=\"text-align: center;font-size:24px;\">{cases} (<span style=\"color: #ff0000;\">+{new}</span>)</p>\n",
    "<p style=\"text-align: center;\">Confirmed deaths:</p>\n",
    "<p style=\"text-align: center;font-size:24px;\">{deaths} (<span style=\"color: #ff0000;\">+{dnew}</span>)</p>\n",
    "<p style=\"text-align: center;\">Recovered cases:</p>\n",
    "<p style=\"text-align: center;font-size:24px;\">{recovered} (<span style=\"color: #00ff00;\">+{rnew}</span>)</p>\n",
    "'''"
   ]
  },
  {
   "cell_type": "code",
   "execution_count": 10,
   "metadata": {
    "execution": {
     "iopub.execute_input": "2020-09-10T19:12:12.444813Z",
     "iopub.status.busy": "2020-09-10T19:12:12.444113Z",
     "iopub.status.idle": "2020-09-10T19:12:12.447723Z",
     "shell.execute_reply": "2020-09-10T19:12:12.447218Z"
    },
    "papermill": {
     "duration": 0.02558,
     "end_time": "2020-09-10T19:12:12.447842",
     "exception": false,
     "start_time": "2020-09-10T19:12:12.422262",
     "status": "completed"
    },
    "tags": []
   },
   "outputs": [
    {
     "data": {
      "text/html": [
       "\n",
       "<!-- #######  HTML!! #########-->\n",
       "<h1 style=\"color: #5e9ca0; text-align: center;\">India</h1>\n",
       "<p style=\"text-align: center;\">Last update: <strong>10-Sep-20</strong></p>\n",
       "<p style=\"text-align: center;\">Confirmed cases:</p>\n",
       "<p style=\"text-align: center;font-size:24px;\">4558753 (<span style=\"color: #ff0000;\">+96760</span>)</p>\n",
       "<p style=\"text-align: center;\">Confirmed deaths:</p>\n",
       "<p style=\"text-align: center;font-size:24px;\">75706 (<span style=\"color: #ff0000;\">+1212</span>)</p>\n",
       "<p style=\"text-align: center;\">Recovered cases:</p>\n",
       "<p style=\"text-align: center;font-size:24px;\">3539388 (<span style=\"color: #00ff00;\">+70899</span>)</p>\n"
      ],
      "text/plain": [
       "<IPython.core.display.HTML object>"
      ]
     },
     "metadata": {},
     "output_type": "display_data"
    }
   ],
   "source": [
    "#hide_input\n",
    "# Fill the above HTML with the information from the summary dictionary\n",
    "\n",
    "update = summary['updated']\n",
    "cases = summary['Cases']\n",
    "new = summary['Cases (+)']\n",
    "deaths = summary['Deaths']\n",
    "dnew = summary['Deaths (+)']\n",
    "recovered = summary['Recovered']\n",
    "rnew = summary['Recovered (+)']\n",
    "\n",
    "html = HTML(overview.format(update=update, cases=cases,new=new,deaths=deaths,dnew=dnew, recovered=recovered, rnew=rnew))\n",
    "\n",
    "display(html)"
   ]
  },
  {
   "cell_type": "code",
   "execution_count": 11,
   "metadata": {
    "execution": {
     "iopub.execute_input": "2020-09-10T19:12:12.490657Z",
     "iopub.status.busy": "2020-09-10T19:12:12.489864Z",
     "iopub.status.idle": "2020-09-10T19:12:12.494399Z",
     "shell.execute_reply": "2020-09-10T19:12:12.493777Z"
    },
    "papermill": {
     "duration": 0.030638,
     "end_time": "2020-09-10T19:12:12.494547",
     "exception": false,
     "start_time": "2020-09-10T19:12:12.463909",
     "status": "completed"
    },
    "tags": []
   },
   "outputs": [],
   "source": [
    "#hide\n",
    "df_cases = df[df['Status'] == 'Confirmed'].copy()\n",
    "df_cases.drop(columns = ['Status'], inplace=True)\n",
    "df_deaths = df[df['Status'] == 'Deceased'].copy()\n",
    "df_deaths.drop(columns = ['Status'], inplace=True)\n",
    "df_recovered = df[df['Status'] == 'Recovered'].copy()\n",
    "df_recovered.drop(columns = ['Status'], inplace=True)"
   ]
  },
  {
   "cell_type": "markdown",
   "metadata": {
    "papermill": {
     "duration": 0.016855,
     "end_time": "2020-09-10T19:12:12.529602",
     "exception": false,
     "start_time": "2020-09-10T19:12:12.512747",
     "status": "completed"
    },
    "tags": []
   },
   "source": [
    "Plot for India:"
   ]
  },
  {
   "cell_type": "code",
   "execution_count": 12,
   "metadata": {
    "execution": {
     "iopub.execute_input": "2020-09-10T19:12:12.590369Z",
     "iopub.status.busy": "2020-09-10T19:12:12.589712Z",
     "iopub.status.idle": "2020-09-10T19:12:12.860272Z",
     "shell.execute_reply": "2020-09-10T19:12:12.860715Z"
    },
    "papermill": {
     "duration": 0.314499,
     "end_time": "2020-09-10T19:12:12.860857",
     "exception": false,
     "start_time": "2020-09-10T19:12:12.546358",
     "status": "completed"
    },
    "tags": []
   },
   "outputs": [
    {
     "data": {
      "image/png": "[encoded data removed]",
      "text/plain": [
       "<Figure size 1296x432 with 1 Axes>"
      ]
     },
     "metadata": {
      "needs_background": "light"
     },
     "output_type": "display_data"
    }
   ],
   "source": [
    "#hide_input\n",
    "plt.figure(figsize = (18,6))\n",
    "plt.plot(df_cases['Date'], df_cases['TT'],'.-', alpha=0.7, color='b', label='Confirmed cases')\n",
    "plt.plot(df_recovered['Date'], df_recovered['TT'],'.-', alpha=0.7, color='g', label='Recovered')\n",
    "plt.plot(df_deaths['Date'], df_deaths['TT'],'.-', alpha=0.7, color='r', label='Deceased')\n",
    "plt.legend()\n",
    "plt.title(\"Cases per day in India\")\n",
    "plt.xticks(ticks=' ')\n",
    "plt.xlabel(f'{df_cases.iloc[0][0]} to {df_cases.iloc[-1][0]}')\n",
    "plt.ylabel('No. of cases');"
   ]
  },
  {
   "cell_type": "markdown",
   "metadata": {
    "papermill": {
     "duration": 0.017317,
     "end_time": "2020-09-10T19:12:12.894535",
     "exception": false,
     "start_time": "2020-09-10T19:12:12.877218",
     "status": "completed"
    },
    "tags": []
   },
   "source": [
    "Plots for the states with highest number of cases:"
   ]
  },
  {
   "cell_type": "code",
   "execution_count": 13,
   "metadata": {
    "execution": {
     "iopub.execute_input": "2020-09-10T19:12:12.941459Z",
     "iopub.status.busy": "2020-09-10T19:12:12.940694Z",
     "iopub.status.idle": "2020-09-10T19:12:13.589499Z",
     "shell.execute_reply": "2020-09-10T19:12:13.588862Z"
    },
    "papermill": {
     "duration": 0.676739,
     "end_time": "2020-09-10T19:12:13.589646",
     "exception": false,
     "start_time": "2020-09-10T19:12:12.912907",
     "status": "completed"
    },
    "tags": []
   },
   "outputs": [
    {
     "data": {
      "image/png": "[encoded data removed]",
      "text/plain": [
       "<Figure size 1512x432 with 3 Axes>"
      ]
     },
     "metadata": {
      "needs_background": "light"
     },
     "output_type": "display_data"
    }
   ],
   "source": [
    "#hide_input\n",
    "top_3 = sorted(df_cases.sum().values[1:], reverse=True)[1:4]\n",
    "top3_states=[]\n",
    "for i in top_3:\n",
    "    top3_states.append(df_cases.sum()[df_cases.sum() == i].index)\n",
    "\n",
    "\n",
    "fig, ax = plt.subplots(1,3,figsize = (21,6))\n",
    "for i in range(3):\n",
    "    state = top3_states[i].values[0]\n",
    "    ax[i].plot(df_cases['Date'], df_cases[state],'.-', color='b', alpha=0.7)\n",
    "    ax[i].plot(df_deaths['Date'], df_deaths[state],'.-', color='r', alpha=0.7)\n",
    "    ax[i].plot(df_recovered['Date'], df_recovered[state],'.-', color='g', alpha=0.7)\n",
    "    \n",
    "    ax[i].set_title(f\"Cases in {state}\")\n",
    "    ax[i].set_xticks(ticks=' ')\n",
    "    ax[i].set_xlabel(f'{df_cases.iloc[0][0]} to {df_cases.iloc[-1][0]}')\n",
    "    ax[i].set_ylabel('No. of cases');"
   ]
  },
  {
   "cell_type": "code",
   "execution_count": null,
   "metadata": {
    "papermill": {
     "duration": 0.017485,
     "end_time": "2020-09-10T19:12:13.626517",
     "exception": false,
     "start_time": "2020-09-10T19:12:13.609032",
     "status": "completed"
    },
    "tags": []
   },
   "outputs": [],
   "source": []
  },
  {
   "cell_type": "code",
   "execution_count": null,
   "metadata": {
    "papermill": {
     "duration": 0.017528,
     "end_time": "2020-09-10T19:12:13.661899",
     "exception": false,
     "start_time": "2020-09-10T19:12:13.644371",
     "status": "completed"
    },
    "tags": []
   },
   "outputs": [],
   "source": []
  },
  {
   "cell_type": "code",
   "execution_count": null,
   "metadata": {
    "papermill": {
     "duration": 0.020171,
     "end_time": "2020-09-10T19:12:13.699828",
     "exception": false,
     "start_time": "2020-09-10T19:12:13.679657",
     "status": "completed"
    },
    "tags": []
   },
   "outputs": [],
   "source": []
  }
 ],
 "metadata": {
  "kernelspec": {
   "display_name": "Python 3",
   "language": "python",
   "name": "python3"
  },
  "language_info": {
   "codemirror_mode": {
    "name": "ipython",
    "version": 3
   },
   "file_extension": ".py",
   "mimetype": "text/x-python",
   "name": "python",
   "nbconvert_exporter": "python",
   "pygments_lexer": "ipython3",
   "version": "3.6.12"
  },
  "papermill": {
   "duration": 5.317836,
   "end_time": "2020-09-10T19:12:14.933630",
   "environment_variables": {},
   "exception": null,
   "input_path": "2020-08-09-DailyUpdate.ipynb",
   "output_path": "2020-08-09-DailyUpdate.ipynb",
   "parameters": {},
   "start_time": "2020-09-10T19:12:09.615794",
   "version": "2.1.2"
  }
 },
 "nbformat": 4,
 "nbformat_minor": 4
}