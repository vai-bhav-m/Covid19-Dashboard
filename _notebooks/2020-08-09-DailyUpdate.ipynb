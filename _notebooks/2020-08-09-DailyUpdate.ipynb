{
 "cells": [
  {
   "cell_type": "markdown",
   "metadata": {
    "papermill": {
     "duration": 0.020676,
     "end_time": "2020-08-16T19:11:20.554826",
     "exception": false,
     "start_time": "2020-08-16T19:11:20.534150",
     "status": "completed"
    },
    "tags": []
   },
   "source": [
    "# COVID-19 India Daily updates\n",
    "> Tracking coronavirus total cases, deaths and new cases in India on a daily basis\n",
    "\n",
    "- author: Vaibhav Mahapatra"
   ]
  },
  {
   "cell_type": "code",
   "execution_count": 1,
   "metadata": {
    "execution": {
     "iopub.execute_input": "2020-08-16T19:11:20.587098Z",
     "iopub.status.busy": "2020-08-16T19:11:20.586465Z",
     "iopub.status.idle": "2020-08-16T19:11:21.190719Z",
     "shell.execute_reply": "2020-08-16T19:11:21.189811Z"
    },
    "papermill": {
     "duration": 0.62305,
     "end_time": "2020-08-16T19:11:21.190966",
     "exception": false,
     "start_time": "2020-08-16T19:11:20.567916",
     "status": "completed"
    },
    "tags": []
   },
   "outputs": [],
   "source": [
    "#hide\n",
    "\n",
    "## Import essential packages below\n",
    "\n",
    "import pandas as pd\n",
    "import numpy as np\n",
    "import requests\n",
    "import json\n",
    "import matplotlib.pyplot as plt\n",
    "import matplotlib.dates as mdates\n",
    "import matplotlib as mpl\n",
    "from IPython.core.display import display,HTML\n",
    "%matplotlib inline"
   ]
  },
  {
   "cell_type": "code",
   "execution_count": 2,
   "metadata": {
    "execution": {
     "iopub.execute_input": "2020-08-16T19:11:21.223153Z",
     "iopub.status.busy": "2020-08-16T19:11:21.222545Z",
     "iopub.status.idle": "2020-08-16T19:11:21.327319Z",
     "shell.execute_reply": "2020-08-16T19:11:21.327824Z"
    },
    "papermill": {
     "duration": 0.123923,
     "end_time": "2020-08-16T19:11:21.327981",
     "exception": false,
     "start_time": "2020-08-16T19:11:21.204058",
     "status": "completed"
    },
    "tags": []
   },
   "outputs": [
    {
     "data": {
      "text/plain": [
       "(468, 41)"
      ]
     },
     "execution_count": 2,
     "metadata": {},
     "output_type": "execute_result"
    }
   ],
   "source": [
    "#hide\n",
    "url = 'https://api.covid19india.org/csv/latest/state_wise_daily.csv'\n",
    "df = pd.read_csv(url)\n",
    "df.shape"
   ]
  },
  {
   "cell_type": "code",
   "execution_count": 3,
   "metadata": {
    "execution": {
     "iopub.execute_input": "2020-08-16T19:11:21.406951Z",
     "iopub.status.busy": "2020-08-16T19:11:21.406292Z",
     "iopub.status.idle": "2020-08-16T19:11:21.416235Z",
     "shell.execute_reply": "2020-08-16T19:11:21.416726Z"
    },
    "papermill": {
     "duration": 0.076252,
     "end_time": "2020-08-16T19:11:21.416883",
     "exception": false,
     "start_time": "2020-08-16T19:11:21.340631",
     "status": "completed"
    },
    "tags": []
   },
   "outputs": [
    {
     "data": {
      "text/html": [
       "<div>\n",
       "<style scoped>\n",
       "    .dataframe tbody tr th:only-of-type {\n",
       "        vertical-align: middle;\n",
       "    }\n",
       "\n",
       "    .dataframe tbody tr th {\n",
       "        vertical-align: top;\n",
       "    }\n",
       "\n",
       "    .dataframe thead th {\n",
       "        text-align: right;\n",
       "    }\n",
       "</style>\n",
       "<table border=\"1\" class=\"dataframe\">\n",
       "  <thead>\n",
       "    <tr style=\"text-align: right;\">\n",
       "      <th></th>\n",
       "      <th>Date</th>\n",
       "      <th>Status</th>\n",
       "      <th>TT</th>\n",
       "      <th>AN</th>\n",
       "      <th>AP</th>\n",
       "      <th>AR</th>\n",
       "      <th>AS</th>\n",
       "      <th>BR</th>\n",
       "      <th>CH</th>\n",
       "      <th>CT</th>\n",
       "      <th>...</th>\n",
       "      <th>PB</th>\n",
       "      <th>RJ</th>\n",
       "      <th>SK</th>\n",
       "      <th>TN</th>\n",
       "      <th>TG</th>\n",
       "      <th>TR</th>\n",
       "      <th>UP</th>\n",
       "      <th>UT</th>\n",
       "      <th>WB</th>\n",
       "      <th>UN</th>\n",
       "    </tr>\n",
       "  </thead>\n",
       "  <tbody>\n",
       "    <tr>\n",
       "      <th>462</th>\n",
       "      <td>15-Aug-20</td>\n",
       "      <td>Confirmed</td>\n",
       "      <td>63986</td>\n",
       "      <td>120</td>\n",
       "      <td>8732</td>\n",
       "      <td>51</td>\n",
       "      <td>1057</td>\n",
       "      <td>3536</td>\n",
       "      <td>81</td>\n",
       "      <td>486</td>\n",
       "      <td>...</td>\n",
       "      <td>1028</td>\n",
       "      <td>1287</td>\n",
       "      <td>68</td>\n",
       "      <td>5860</td>\n",
       "      <td>1863</td>\n",
       "      <td>167</td>\n",
       "      <td>4774</td>\n",
       "      <td>325</td>\n",
       "      <td>3074</td>\n",
       "      <td>0</td>\n",
       "    </tr>\n",
       "    <tr>\n",
       "      <th>463</th>\n",
       "      <td>15-Aug-20</td>\n",
       "      <td>Recovered</td>\n",
       "      <td>53116</td>\n",
       "      <td>96</td>\n",
       "      <td>10414</td>\n",
       "      <td>21</td>\n",
       "      <td>1593</td>\n",
       "      <td>3368</td>\n",
       "      <td>27</td>\n",
       "      <td>189</td>\n",
       "      <td>...</td>\n",
       "      <td>535</td>\n",
       "      <td>1357</td>\n",
       "      <td>38</td>\n",
       "      <td>5236</td>\n",
       "      <td>1912</td>\n",
       "      <td>73</td>\n",
       "      <td>3705</td>\n",
       "      <td>246</td>\n",
       "      <td>2647</td>\n",
       "      <td>0</td>\n",
       "    </tr>\n",
       "    <tr>\n",
       "      <th>464</th>\n",
       "      <td>15-Aug-20</td>\n",
       "      <td>Deceased</td>\n",
       "      <td>952</td>\n",
       "      <td>0</td>\n",
       "      <td>87</td>\n",
       "      <td>0</td>\n",
       "      <td>7</td>\n",
       "      <td>15</td>\n",
       "      <td>0</td>\n",
       "      <td>4</td>\n",
       "      <td>...</td>\n",
       "      <td>40</td>\n",
       "      <td>16</td>\n",
       "      <td>0</td>\n",
       "      <td>127</td>\n",
       "      <td>10</td>\n",
       "      <td>4</td>\n",
       "      <td>58</td>\n",
       "      <td>4</td>\n",
       "      <td>58</td>\n",
       "      <td>0</td>\n",
       "    </tr>\n",
       "    <tr>\n",
       "      <th>465</th>\n",
       "      <td>16-Aug-20</td>\n",
       "      <td>Confirmed</td>\n",
       "      <td>58108</td>\n",
       "      <td>93</td>\n",
       "      <td>8012</td>\n",
       "      <td>43</td>\n",
       "      <td>1317</td>\n",
       "      <td>2187</td>\n",
       "      <td>93</td>\n",
       "      <td>576</td>\n",
       "      <td>...</td>\n",
       "      <td>1165</td>\n",
       "      <td>1317</td>\n",
       "      <td>19</td>\n",
       "      <td>5950</td>\n",
       "      <td>1102</td>\n",
       "      <td>127</td>\n",
       "      <td>4357</td>\n",
       "      <td>235</td>\n",
       "      <td>3066</td>\n",
       "      <td>0</td>\n",
       "    </tr>\n",
       "    <tr>\n",
       "      <th>466</th>\n",
       "      <td>16-Aug-20</td>\n",
       "      <td>Recovered</td>\n",
       "      <td>57404</td>\n",
       "      <td>98</td>\n",
       "      <td>10117</td>\n",
       "      <td>37</td>\n",
       "      <td>1929</td>\n",
       "      <td>3891</td>\n",
       "      <td>19</td>\n",
       "      <td>189</td>\n",
       "      <td>...</td>\n",
       "      <td>568</td>\n",
       "      <td>1350</td>\n",
       "      <td>12</td>\n",
       "      <td>6019</td>\n",
       "      <td>1930</td>\n",
       "      <td>63</td>\n",
       "      <td>4201</td>\n",
       "      <td>352</td>\n",
       "      <td>2935</td>\n",
       "      <td>0</td>\n",
       "    </tr>\n",
       "    <tr>\n",
       "      <th>467</th>\n",
       "      <td>16-Aug-20</td>\n",
       "      <td>Deceased</td>\n",
       "      <td>960</td>\n",
       "      <td>4</td>\n",
       "      <td>88</td>\n",
       "      <td>0</td>\n",
       "      <td>7</td>\n",
       "      <td>22</td>\n",
       "      <td>1</td>\n",
       "      <td>8</td>\n",
       "      <td>...</td>\n",
       "      <td>41</td>\n",
       "      <td>14</td>\n",
       "      <td>0</td>\n",
       "      <td>125</td>\n",
       "      <td>9</td>\n",
       "      <td>5</td>\n",
       "      <td>56</td>\n",
       "      <td>1</td>\n",
       "      <td>51</td>\n",
       "      <td>0</td>\n",
       "    </tr>\n",
       "  </tbody>\n",
       "</table>\n",
       "<p>6 rows × 41 columns</p>\n",
       "</div>"
      ],
      "text/plain": [
       "          Date     Status     TT   AN     AP  AR    AS    BR  CH   CT  ...  \\\n",
       "462  15-Aug-20  Confirmed  63986  120   8732  51  1057  3536  81  486  ...   \n",
       "463  15-Aug-20  Recovered  53116   96  10414  21  1593  3368  27  189  ...   \n",
       "464  15-Aug-20   Deceased    952    0     87   0     7    15   0    4  ...   \n",
       "465  16-Aug-20  Confirmed  58108   93   8012  43  1317  2187  93  576  ...   \n",
       "466  16-Aug-20  Recovered  57404   98  10117  37  1929  3891  19  189  ...   \n",
       "467  16-Aug-20   Deceased    960    4     88   0     7    22   1    8  ...   \n",
       "\n",
       "       PB    RJ  SK    TN    TG   TR    UP   UT    WB  UN  \n",
       "462  1028  1287  68  5860  1863  167  4774  325  3074   0  \n",
       "463   535  1357  38  5236  1912   73  3705  246  2647   0  \n",
       "464    40    16   0   127    10    4    58    4    58   0  \n",
       "465  1165  1317  19  5950  1102  127  4357  235  3066   0  \n",
       "466   568  1350  12  6019  1930   63  4201  352  2935   0  \n",
       "467    41    14   0   125     9    5    56    1    51   0  \n",
       "\n",
       "[6 rows x 41 columns]"
      ]
     },
     "execution_count": 3,
     "metadata": {},
     "output_type": "execute_result"
    }
   ],
   "source": [
    "#hide\n",
    "df.tail(6)"
   ]
  },
  {
   "cell_type": "code",
   "execution_count": 4,
   "metadata": {
    "execution": {
     "iopub.execute_input": "2020-08-16T19:11:21.449452Z",
     "iopub.status.busy": "2020-08-16T19:11:21.448850Z",
     "iopub.status.idle": "2020-08-16T19:11:21.451909Z",
     "shell.execute_reply": "2020-08-16T19:11:21.451305Z"
    },
    "papermill": {
     "duration": 0.021824,
     "end_time": "2020-08-16T19:11:21.452032",
     "exception": false,
     "start_time": "2020-08-16T19:11:21.430208",
     "status": "completed"
    },
    "tags": []
   },
   "outputs": [
    {
     "data": {
      "text/plain": [
       "('16-Aug-20', '15-Aug-20')"
      ]
     },
     "execution_count": 4,
     "metadata": {},
     "output_type": "execute_result"
    }
   ],
   "source": [
    "#hide\n",
    "dt_today = df.iloc[-1][0]\n",
    "dt_yday = df.iloc[-4][0]\n",
    "dt_today, dt_yday"
   ]
  },
  {
   "cell_type": "code",
   "execution_count": 5,
   "metadata": {
    "execution": {
     "iopub.execute_input": "2020-08-16T19:11:21.485661Z",
     "iopub.status.busy": "2020-08-16T19:11:21.485061Z",
     "iopub.status.idle": "2020-08-16T19:11:21.492281Z",
     "shell.execute_reply": "2020-08-16T19:11:21.491762Z"
    },
    "papermill": {
     "duration": 0.026622,
     "end_time": "2020-08-16T19:11:21.492403",
     "exception": false,
     "start_time": "2020-08-16T19:11:21.465781",
     "status": "completed"
    },
    "tags": []
   },
   "outputs": [],
   "source": [
    "#hide\n",
    "df_today = df.groupby('Status').sum()\n",
    "df_yday = df.iloc[:-3][:].groupby('Status').sum()"
   ]
  },
  {
   "cell_type": "code",
   "execution_count": 6,
   "metadata": {
    "execution": {
     "iopub.execute_input": "2020-08-16T19:11:21.536103Z",
     "iopub.status.busy": "2020-08-16T19:11:21.535034Z",
     "iopub.status.idle": "2020-08-16T19:11:21.538267Z",
     "shell.execute_reply": "2020-08-16T19:11:21.538747Z"
    },
    "papermill": {
     "duration": 0.032639,
     "end_time": "2020-08-16T19:11:21.538881",
     "exception": false,
     "start_time": "2020-08-16T19:11:21.506242",
     "status": "completed"
    },
    "tags": []
   },
   "outputs": [
    {
     "data": {
      "text/html": [
       "<div>\n",
       "<style scoped>\n",
       "    .dataframe tbody tr th:only-of-type {\n",
       "        vertical-align: middle;\n",
       "    }\n",
       "\n",
       "    .dataframe tbody tr th {\n",
       "        vertical-align: top;\n",
       "    }\n",
       "\n",
       "    .dataframe thead th {\n",
       "        text-align: right;\n",
       "    }\n",
       "</style>\n",
       "<table border=\"1\" class=\"dataframe\">\n",
       "  <thead>\n",
       "    <tr style=\"text-align: right;\">\n",
       "      <th></th>\n",
       "      <th>TT</th>\n",
       "      <th>AN</th>\n",
       "      <th>AP</th>\n",
       "      <th>AR</th>\n",
       "      <th>AS</th>\n",
       "      <th>BR</th>\n",
       "      <th>CH</th>\n",
       "      <th>CT</th>\n",
       "      <th>DN</th>\n",
       "      <th>DD</th>\n",
       "      <th>...</th>\n",
       "      <th>PB</th>\n",
       "      <th>RJ</th>\n",
       "      <th>SK</th>\n",
       "      <th>TN</th>\n",
       "      <th>TG</th>\n",
       "      <th>TR</th>\n",
       "      <th>UP</th>\n",
       "      <th>UT</th>\n",
       "      <th>WB</th>\n",
       "      <th>UN</th>\n",
       "    </tr>\n",
       "    <tr>\n",
       "      <th>Status</th>\n",
       "      <th></th>\n",
       "      <th></th>\n",
       "      <th></th>\n",
       "      <th></th>\n",
       "      <th></th>\n",
       "      <th></th>\n",
       "      <th></th>\n",
       "      <th></th>\n",
       "      <th></th>\n",
       "      <th></th>\n",
       "      <th></th>\n",
       "      <th></th>\n",
       "      <th></th>\n",
       "      <th></th>\n",
       "      <th></th>\n",
       "      <th></th>\n",
       "      <th></th>\n",
       "      <th></th>\n",
       "      <th></th>\n",
       "      <th></th>\n",
       "      <th></th>\n",
       "    </tr>\n",
       "  </thead>\n",
       "  <tbody>\n",
       "    <tr>\n",
       "      <th>Confirmed</th>\n",
       "      <td>2647224</td>\n",
       "      <td>2395</td>\n",
       "      <td>289829</td>\n",
       "      <td>2701</td>\n",
       "      <td>76774</td>\n",
       "      <td>104093</td>\n",
       "      <td>2102</td>\n",
       "      <td>15621</td>\n",
       "      <td>1883</td>\n",
       "      <td>0</td>\n",
       "      <td>...</td>\n",
       "      <td>31206</td>\n",
       "      <td>61296</td>\n",
       "      <td>1180</td>\n",
       "      <td>338055</td>\n",
       "      <td>91361</td>\n",
       "      <td>7076</td>\n",
       "      <td>154418</td>\n",
       "      <td>12175</td>\n",
       "      <td>116498</td>\n",
       "      <td>0</td>\n",
       "    </tr>\n",
       "    <tr>\n",
       "      <th>Deceased</th>\n",
       "      <td>51056</td>\n",
       "      <td>28</td>\n",
       "      <td>2650</td>\n",
       "      <td>5</td>\n",
       "      <td>193</td>\n",
       "      <td>537</td>\n",
       "      <td>29</td>\n",
       "      <td>142</td>\n",
       "      <td>2</td>\n",
       "      <td>0</td>\n",
       "      <td>...</td>\n",
       "      <td>812</td>\n",
       "      <td>876</td>\n",
       "      <td>1</td>\n",
       "      <td>5766</td>\n",
       "      <td>693</td>\n",
       "      <td>55</td>\n",
       "      <td>2449</td>\n",
       "      <td>152</td>\n",
       "      <td>2428</td>\n",
       "      <td>0</td>\n",
       "    </tr>\n",
       "    <tr>\n",
       "      <th>Recovered</th>\n",
       "      <td>1918069</td>\n",
       "      <td>1217</td>\n",
       "      <td>201234</td>\n",
       "      <td>1808</td>\n",
       "      <td>55216</td>\n",
       "      <td>72566</td>\n",
       "      <td>1137</td>\n",
       "      <td>10235</td>\n",
       "      <td>1431</td>\n",
       "      <td>0</td>\n",
       "      <td>...</td>\n",
       "      <td>19431</td>\n",
       "      <td>46604</td>\n",
       "      <td>674</td>\n",
       "      <td>278270</td>\n",
       "      <td>68126</td>\n",
       "      <td>5151</td>\n",
       "      <td>100432</td>\n",
       "      <td>8100</td>\n",
       "      <td>86771</td>\n",
       "      <td>0</td>\n",
       "    </tr>\n",
       "  </tbody>\n",
       "</table>\n",
       "<p>3 rows × 39 columns</p>\n",
       "</div>"
      ],
      "text/plain": [
       "                TT    AN      AP    AR     AS      BR    CH     CT    DN  DD  \\\n",
       "Status                                                                         \n",
       "Confirmed  2647224  2395  289829  2701  76774  104093  2102  15621  1883   0   \n",
       "Deceased     51056    28    2650     5    193     537    29    142     2   0   \n",
       "Recovered  1918069  1217  201234  1808  55216   72566  1137  10235  1431   0   \n",
       "\n",
       "           ...     PB     RJ    SK      TN     TG    TR      UP     UT  \\\n",
       "Status     ...                                                           \n",
       "Confirmed  ...  31206  61296  1180  338055  91361  7076  154418  12175   \n",
       "Deceased   ...    812    876     1    5766    693    55    2449    152   \n",
       "Recovered  ...  19431  46604   674  278270  68126  5151  100432   8100   \n",
       "\n",
       "               WB  UN  \n",
       "Status                 \n",
       "Confirmed  116498   0  \n",
       "Deceased     2428   0  \n",
       "Recovered   86771   0  \n",
       "\n",
       "[3 rows x 39 columns]"
      ]
     },
     "execution_count": 6,
     "metadata": {},
     "output_type": "execute_result"
    }
   ],
   "source": [
    "#hide\n",
    "df_today"
   ]
  },
  {
   "cell_type": "code",
   "execution_count": 7,
   "metadata": {
    "execution": {
     "iopub.execute_input": "2020-08-16T19:11:21.586206Z",
     "iopub.status.busy": "2020-08-16T19:11:21.585604Z",
     "iopub.status.idle": "2020-08-16T19:11:21.588095Z",
     "shell.execute_reply": "2020-08-16T19:11:21.588610Z"
    },
    "papermill": {
     "duration": 0.035436,
     "end_time": "2020-08-16T19:11:21.588755",
     "exception": false,
     "start_time": "2020-08-16T19:11:21.553319",
     "status": "completed"
    },
    "tags": []
   },
   "outputs": [
    {
     "data": {
      "text/html": [
       "<div>\n",
       "<style scoped>\n",
       "    .dataframe tbody tr th:only-of-type {\n",
       "        vertical-align: middle;\n",
       "    }\n",
       "\n",
       "    .dataframe tbody tr th {\n",
       "        vertical-align: top;\n",
       "    }\n",
       "\n",
       "    .dataframe thead th {\n",
       "        text-align: right;\n",
       "    }\n",
       "</style>\n",
       "<table border=\"1\" class=\"dataframe\">\n",
       "  <thead>\n",
       "    <tr style=\"text-align: right;\">\n",
       "      <th></th>\n",
       "      <th>TT</th>\n",
       "      <th>AN</th>\n",
       "      <th>AP</th>\n",
       "      <th>AR</th>\n",
       "      <th>AS</th>\n",
       "      <th>BR</th>\n",
       "      <th>CH</th>\n",
       "      <th>CT</th>\n",
       "      <th>DN</th>\n",
       "      <th>DD</th>\n",
       "      <th>...</th>\n",
       "      <th>PB</th>\n",
       "      <th>RJ</th>\n",
       "      <th>SK</th>\n",
       "      <th>TN</th>\n",
       "      <th>TG</th>\n",
       "      <th>TR</th>\n",
       "      <th>UP</th>\n",
       "      <th>UT</th>\n",
       "      <th>WB</th>\n",
       "      <th>UN</th>\n",
       "    </tr>\n",
       "    <tr>\n",
       "      <th>Status</th>\n",
       "      <th></th>\n",
       "      <th></th>\n",
       "      <th></th>\n",
       "      <th></th>\n",
       "      <th></th>\n",
       "      <th></th>\n",
       "      <th></th>\n",
       "      <th></th>\n",
       "      <th></th>\n",
       "      <th></th>\n",
       "      <th></th>\n",
       "      <th></th>\n",
       "      <th></th>\n",
       "      <th></th>\n",
       "      <th></th>\n",
       "      <th></th>\n",
       "      <th></th>\n",
       "      <th></th>\n",
       "      <th></th>\n",
       "      <th></th>\n",
       "      <th></th>\n",
       "    </tr>\n",
       "  </thead>\n",
       "  <tbody>\n",
       "    <tr>\n",
       "      <th>Confirmed</th>\n",
       "      <td>2589116</td>\n",
       "      <td>2302</td>\n",
       "      <td>281817</td>\n",
       "      <td>2658</td>\n",
       "      <td>75457</td>\n",
       "      <td>101906</td>\n",
       "      <td>2009</td>\n",
       "      <td>15045</td>\n",
       "      <td>1848</td>\n",
       "      <td>0</td>\n",
       "      <td>...</td>\n",
       "      <td>30041</td>\n",
       "      <td>59979</td>\n",
       "      <td>1161</td>\n",
       "      <td>332105</td>\n",
       "      <td>90259</td>\n",
       "      <td>6949</td>\n",
       "      <td>150061</td>\n",
       "      <td>11940</td>\n",
       "      <td>113432</td>\n",
       "      <td>0</td>\n",
       "    </tr>\n",
       "    <tr>\n",
       "      <th>Deceased</th>\n",
       "      <td>50096</td>\n",
       "      <td>24</td>\n",
       "      <td>2562</td>\n",
       "      <td>5</td>\n",
       "      <td>186</td>\n",
       "      <td>515</td>\n",
       "      <td>28</td>\n",
       "      <td>134</td>\n",
       "      <td>2</td>\n",
       "      <td>0</td>\n",
       "      <td>...</td>\n",
       "      <td>771</td>\n",
       "      <td>862</td>\n",
       "      <td>1</td>\n",
       "      <td>5641</td>\n",
       "      <td>684</td>\n",
       "      <td>50</td>\n",
       "      <td>2393</td>\n",
       "      <td>151</td>\n",
       "      <td>2377</td>\n",
       "      <td>0</td>\n",
       "    </tr>\n",
       "    <tr>\n",
       "      <th>Recovered</th>\n",
       "      <td>1860665</td>\n",
       "      <td>1119</td>\n",
       "      <td>191117</td>\n",
       "      <td>1771</td>\n",
       "      <td>53287</td>\n",
       "      <td>68675</td>\n",
       "      <td>1118</td>\n",
       "      <td>10046</td>\n",
       "      <td>1384</td>\n",
       "      <td>0</td>\n",
       "      <td>...</td>\n",
       "      <td>18863</td>\n",
       "      <td>45254</td>\n",
       "      <td>662</td>\n",
       "      <td>272251</td>\n",
       "      <td>66196</td>\n",
       "      <td>5088</td>\n",
       "      <td>96231</td>\n",
       "      <td>7748</td>\n",
       "      <td>83836</td>\n",
       "      <td>0</td>\n",
       "    </tr>\n",
       "  </tbody>\n",
       "</table>\n",
       "<p>3 rows × 39 columns</p>\n",
       "</div>"
      ],
      "text/plain": [
       "                TT    AN      AP    AR     AS      BR    CH     CT    DN  DD  \\\n",
       "Status                                                                         \n",
       "Confirmed  2589116  2302  281817  2658  75457  101906  2009  15045  1848   0   \n",
       "Deceased     50096    24    2562     5    186     515    28    134     2   0   \n",
       "Recovered  1860665  1119  191117  1771  53287   68675  1118  10046  1384   0   \n",
       "\n",
       "           ...     PB     RJ    SK      TN     TG    TR      UP     UT  \\\n",
       "Status     ...                                                           \n",
       "Confirmed  ...  30041  59979  1161  332105  90259  6949  150061  11940   \n",
       "Deceased   ...    771    862     1    5641    684    50    2393    151   \n",
       "Recovered  ...  18863  45254   662  272251  66196  5088   96231   7748   \n",
       "\n",
       "               WB  UN  \n",
       "Status                 \n",
       "Confirmed  113432   0  \n",
       "Deceased     2377   0  \n",
       "Recovered   83836   0  \n",
       "\n",
       "[3 rows x 39 columns]"
      ]
     },
     "execution_count": 7,
     "metadata": {},
     "output_type": "execute_result"
    }
   ],
   "source": [
    "#hide\n",
    "df_yday.head()"
   ]
  },
  {
   "cell_type": "code",
   "execution_count": 8,
   "metadata": {
    "execution": {
     "iopub.execute_input": "2020-08-16T19:11:21.629437Z",
     "iopub.status.busy": "2020-08-16T19:11:21.628800Z",
     "iopub.status.idle": "2020-08-16T19:11:21.630972Z",
     "shell.execute_reply": "2020-08-16T19:11:21.631566Z"
    },
    "papermill": {
     "duration": 0.027813,
     "end_time": "2020-08-16T19:11:21.631711",
     "exception": false,
     "start_time": "2020-08-16T19:11:21.603898",
     "status": "completed"
    },
    "tags": []
   },
   "outputs": [
    {
     "data": {
      "text/plain": [
       "{'updated': '16-Aug-20',\n",
       " 'since': '15-Aug-20',\n",
       " 'Cases': 2647224,\n",
       " 'Deaths': 51056,\n",
       " 'Recovered': 1918069,\n",
       " 'PCases': 2589116,\n",
       " 'PDeaths': 50096,\n",
       " 'PRecovered': 1860665,\n",
       " 'Cases (+)': 58108,\n",
       " 'Deaths (+)': 960,\n",
       " 'Recovered (+)': 57404}"
      ]
     },
     "execution_count": 8,
     "metadata": {},
     "output_type": "execute_result"
    }
   ],
   "source": [
    "#hide\n",
    "summary = {\n",
    "    'updated' : dt_today,\n",
    "    'since' : dt_yday,\n",
    "    'Cases' : df_today['TT'][0],\n",
    "    'Deaths' : df_today['TT'][1],\n",
    "    'Recovered' : df_today['TT'][2],\n",
    "    'PCases' : df_yday['TT'][0],\n",
    "    'PDeaths' : df_yday['TT'][1],\n",
    "    'PRecovered': df_yday['TT'][2],\n",
    "    'Cases (+)' : df_today['TT'][0] - df_yday['TT'][0],\n",
    "    'Deaths (+)' : df_today['TT'][1] - df_yday['TT'][1],\n",
    "    'Recovered (+)': df_today['TT'][2] - df_yday['TT'][2]\n",
    "}\n",
    "\n",
    "summary"
   ]
  },
  {
   "cell_type": "code",
   "execution_count": 9,
   "metadata": {
    "execution": {
     "iopub.execute_input": "2020-08-16T19:11:21.669910Z",
     "iopub.status.busy": "2020-08-16T19:11:21.669295Z",
     "iopub.status.idle": "2020-08-16T19:11:21.670545Z",
     "shell.execute_reply": "2020-08-16T19:11:21.671023Z"
    },
    "papermill": {
     "duration": 0.023248,
     "end_time": "2020-08-16T19:11:21.671164",
     "exception": false,
     "start_time": "2020-08-16T19:11:21.647916",
     "status": "completed"
    },
    "tags": []
   },
   "outputs": [],
   "source": [
    "#hide\n",
    "overview = '''\n",
    "<!-- #######  HTML!! #########-->\n",
    "<h1 style=\"color: #5e9ca0; text-align: center;\">India</h1>\n",
    "<p style=\"text-align: center;\">Last update: <strong>{update}</strong></p>\n",
    "<p style=\"text-align: center;\">Confirmed cases:</p>\n",
    "<p style=\"text-align: center;font-size:24px;\">{cases} (<span style=\"color: #ff0000;\">+{new}</span>)</p>\n",
    "<p style=\"text-align: center;\">Confirmed deaths:</p>\n",
    "<p style=\"text-align: center;font-size:24px;\">{deaths} (<span style=\"color: #ff0000;\">+{dnew}</span>)</p>\n",
    "<p style=\"text-align: center;\">Recovered cases:</p>\n",
    "<p style=\"text-align: center;font-size:24px;\">{recovered} (<span style=\"color: #00ff00;\">+{rnew}</span>)</p>\n",
    "'''"
   ]
  },
  {
   "cell_type": "code",
   "execution_count": 10,
   "metadata": {
    "execution": {
     "iopub.execute_input": "2020-08-16T19:11:21.711083Z",
     "iopub.status.busy": "2020-08-16T19:11:21.710468Z",
     "iopub.status.idle": "2020-08-16T19:11:21.713615Z",
     "shell.execute_reply": "2020-08-16T19:11:21.713131Z"
    },
    "papermill": {
     "duration": 0.0267,
     "end_time": "2020-08-16T19:11:21.713740",
     "exception": false,
     "start_time": "2020-08-16T19:11:21.687040",
     "status": "completed"
    },
    "tags": []
   },
   "outputs": [
    {
     "data": {
      "text/html": [
       "\n",
       "<!-- #######  HTML!! #########-->\n",
       "<h1 style=\"color: #5e9ca0; text-align: center;\">India</h1>\n",
       "<p style=\"text-align: center;\">Last update: <strong>16-Aug-20</strong></p>\n",
       "<p style=\"text-align: center;\">Confirmed cases:</p>\n",
       "<p style=\"text-align: center;font-size:24px;\">2647224 (<span style=\"color: #ff0000;\">+58108</span>)</p>\n",
       "<p style=\"text-align: center;\">Confirmed deaths:</p>\n",
       "<p style=\"text-align: center;font-size:24px;\">51056 (<span style=\"color: #ff0000;\">+960</span>)</p>\n",
       "<p style=\"text-align: center;\">Recovered cases:</p>\n",
       "<p style=\"text-align: center;font-size:24px;\">1918069 (<span style=\"color: #00ff00;\">+57404</span>)</p>\n"
      ],
      "text/plain": [
       "<IPython.core.display.HTML object>"
      ]
     },
     "metadata": {},
     "output_type": "display_data"
    }
   ],
   "source": [
    "#hide_input\n",
    "# Fill the above HTML with the information from the summary dictionary\n",
    "\n",
    "update = summary['updated']\n",
    "cases = summary['Cases']\n",
    "new = summary['Cases (+)']\n",
    "deaths = summary['Deaths']\n",
    "dnew = summary['Deaths (+)']\n",
    "recovered = summary['Recovered']\n",
    "rnew = summary['Recovered (+)']\n",
    "\n",
    "html = HTML(overview.format(update=update, cases=cases,new=new,deaths=deaths,dnew=dnew, recovered=recovered, rnew=rnew))\n",
    "\n",
    "display(html)"
   ]
  },
  {
   "cell_type": "code",
   "execution_count": 11,
   "metadata": {
    "execution": {
     "iopub.execute_input": "2020-08-16T19:11:21.752942Z",
     "iopub.status.busy": "2020-08-16T19:11:21.752333Z",
     "iopub.status.idle": "2020-08-16T19:11:21.757299Z",
     "shell.execute_reply": "2020-08-16T19:11:21.757794Z"
    },
    "papermill": {
     "duration": 0.028805,
     "end_time": "2020-08-16T19:11:21.757932",
     "exception": false,
     "start_time": "2020-08-16T19:11:21.729127",
     "status": "completed"
    },
    "tags": []
   },
   "outputs": [],
   "source": [
    "#hide\n",
    "df_cases = df[df['Status'] == 'Confirmed'].copy()\n",
    "df_cases.drop(columns = ['Status'], inplace=True)\n",
    "df_deaths = df[df['Status'] == 'Deceased'].copy()\n",
    "df_deaths.drop(columns = ['Status'], inplace=True)\n",
    "df_recovered = df[df['Status'] == 'Recovered'].copy()\n",
    "df_recovered.drop(columns = ['Status'], inplace=True)"
   ]
  },
  {
   "cell_type": "markdown",
   "metadata": {
    "papermill": {
     "duration": 0.015375,
     "end_time": "2020-08-16T19:11:21.788583",
     "exception": false,
     "start_time": "2020-08-16T19:11:21.773208",
     "status": "completed"
    },
    "tags": []
   },
   "source": [
    "Plot for India:"
   ]
  },
  {
   "cell_type": "code",
   "execution_count": 12,
   "metadata": {
    "execution": {
     "iopub.execute_input": "2020-08-16T19:11:21.845406Z",
     "iopub.status.busy": "2020-08-16T19:11:21.844770Z",
     "iopub.status.idle": "2020-08-16T19:11:22.105955Z",
     "shell.execute_reply": "2020-08-16T19:11:22.106425Z"
    },
    "papermill": {
     "duration": 0.302823,
     "end_time": "2020-08-16T19:11:22.106586",
     "exception": false,
     "start_time": "2020-08-16T19:11:21.803763",
     "status": "completed"
    },
    "tags": []
   },
   "outputs": [
    {
     "data": {
      "image/png": "[encoded data removed]",
      "text/plain": [
       "<Figure size 1296x432 with 1 Axes>"
      ]
     },
     "metadata": {
      "needs_background": "light"
     },
     "output_type": "display_data"
    }
   ],
   "source": [
    "#hide_input\n",
    "plt.figure(figsize = (18,6))\n",
    "plt.plot(df_cases['Date'], df_cases['TT'],'.-', alpha=0.7, color='b', label='Confirmed cases')\n",
    "plt.plot(df_recovered['Date'], df_recovered['TT'],'.-', alpha=0.7, color='g', label='Recovered')\n",
    "plt.plot(df_deaths['Date'], df_deaths['TT'],'.-', alpha=0.7, color='r', label='Deceased')\n",
    "plt.legend()\n",
    "plt.title(\"Cases per day in India\")\n",
    "plt.xticks(ticks=' ')\n",
    "plt.xlabel(f'{df_cases.iloc[0][0]} to {df_cases.iloc[-1][0]}')\n",
    "plt.ylabel('No. of cases');"
   ]
  },
  {
   "cell_type": "markdown",
   "metadata": {
    "papermill": {
     "duration": 0.018209,
     "end_time": "2020-08-16T19:11:22.142747",
     "exception": false,
     "start_time": "2020-08-16T19:11:22.124538",
     "status": "completed"
    },
    "tags": []
   },
   "source": [
    "Plots for the states with highest number of cases:"
   ]
  },
  {
   "cell_type": "code",
   "execution_count": 13,
   "metadata": {
    "execution": {
     "iopub.execute_input": "2020-08-16T19:11:22.185777Z",
     "iopub.status.busy": "2020-08-16T19:11:22.180643Z",
     "iopub.status.idle": "2020-08-16T19:11:22.762387Z",
     "shell.execute_reply": "2020-08-16T19:11:22.762864Z"
    },
    "papermill": {
     "duration": 0.602932,
     "end_time": "2020-08-16T19:11:22.763032",
     "exception": false,
     "start_time": "2020-08-16T19:11:22.160100",
     "status": "completed"
    },
    "tags": []
   },
   "outputs": [
    {
     "data": {
      "image/png": "[encoded data removed]",
      "text/plain": [
       "<Figure size 1512x432 with 3 Axes>"
      ]
     },
     "metadata": {
      "needs_background": "light"
     },
     "output_type": "display_data"
    }
   ],
   "source": [
    "#hide_input\n",
    "top_3 = sorted(df_cases.sum().values[1:], reverse=True)[1:4]\n",
    "top3_states=[]\n",
    "for i in top_3:\n",
    "    top3_states.append(df_cases.sum()[df_cases.sum() == i].index)\n",
    "\n",
    "\n",
    "fig, ax = plt.subplots(1,3,figsize = (21,6))\n",
    "for i in range(3):\n",
    "    state = top3_states[i].values[0]\n",
    "    ax[i].plot(df_cases['Date'], df_cases[state],'.-', color='b', alpha=0.7)\n",
    "    ax[i].plot(df_deaths['Date'], df_deaths[state],'.-', color='r', alpha=0.7)\n",
    "    ax[i].plot(df_recovered['Date'], df_recovered[state],'.-', color='g', alpha=0.7)\n",
    "    \n",
    "    ax[i].set_title(f\"Cases in {state}\")\n",
    "    ax[i].set_xticks(ticks=' ')\n",
    "    ax[i].set_xlabel(f'{df_cases.iloc[0][0]} to {df_cases.iloc[-1][0]}')\n",
    "    ax[i].set_ylabel('No. of cases');"
   ]
  },
  {
   "cell_type": "code",
   "execution_count": null,
   "metadata": {
    "papermill": {
     "duration": 0.019981,
     "end_time": "2020-08-16T19:11:22.803790",
     "exception": false,
     "start_time": "2020-08-16T19:11:22.783809",
     "status": "completed"
    },
    "tags": []
   },
   "outputs": [],
   "source": []
  },
  {
   "cell_type": "code",
   "execution_count": null,
   "metadata": {
    "papermill": {
     "duration": 0.019842,
     "end_time": "2020-08-16T19:11:22.843718",
     "exception": false,
     "start_time": "2020-08-16T19:11:22.823876",
     "status": "completed"
    },
    "tags": []
   },
   "outputs": [],
   "source": []
  },
  {
   "cell_type": "code",
   "execution_count": null,
   "metadata": {
    "papermill": {
     "duration": 0.019872,
     "end_time": "2020-08-16T19:11:22.884330",
     "exception": false,
     "start_time": "2020-08-16T19:11:22.864458",
     "status": "completed"
    },
    "tags": []
   },
   "outputs": [],
   "source": []
  }
 ],
 "metadata": {
  "kernelspec": {
   "display_name": "Python 3",
   "language": "python",
   "name": "python3"
  },
  "language_info": {
   "codemirror_mode": {
    "name": "ipython",
    "version": 3
   },
   "file_extension": ".py",
   "mimetype": "text/x-python",
   "name": "python",
   "nbconvert_exporter": "python",
   "pygments_lexer": "ipython3",
   "version": "3.6.11"
  },
  "papermill": {
   "duration": 3.757782,
   "end_time": "2020-08-16T19:11:23.212161",
   "environment_variables": {},
   "exception": null,
   "input_path": "2020-08-09-DailyUpdate.ipynb",
   "output_path": "2020-08-09-DailyUpdate.ipynb",
   "parameters": {},
   "start_time": "2020-08-16T19:11:19.454379",
   "version": "2.1.2"
  }
 },
 "nbformat": 4,
 "nbformat_minor": 4
}