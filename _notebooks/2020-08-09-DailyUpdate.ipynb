{
 "cells": [
  {
   "cell_type": "markdown",
   "metadata": {
    "papermill": {
     "duration": 0.019854,
     "end_time": "2020-09-11T19:12:22.118789",
     "exception": false,
     "start_time": "2020-09-11T19:12:22.098935",
     "status": "completed"
    },
    "tags": []
   },
   "source": [
    "# COVID-19 India Daily updates\n",
    "> Tracking coronavirus total cases, deaths and new cases in India on a daily basis\n",
    "\n",
    "- author: Vaibhav Mahapatra"
   ]
  },
  {
   "cell_type": "code",
   "execution_count": 1,
   "metadata": {
    "execution": {
     "iopub.execute_input": "2020-09-11T19:12:22.151005Z",
     "iopub.status.busy": "2020-09-11T19:12:22.150366Z",
     "iopub.status.idle": "2020-09-11T19:12:22.833635Z",
     "shell.execute_reply": "2020-09-11T19:12:22.832493Z"
    },
    "papermill": {
     "duration": 0.702259,
     "end_time": "2020-09-11T19:12:22.833797",
     "exception": false,
     "start_time": "2020-09-11T19:12:22.131538",
     "status": "completed"
    },
    "tags": []
   },
   "outputs": [],
   "source": [
    "#hide\n",
    "\n",
    "## Import essential packages below\n",
    "\n",
    "import pandas as pd\n",
    "import numpy as np\n",
    "import requests\n",
    "import json\n",
    "import matplotlib.pyplot as plt\n",
    "import matplotlib.dates as mdates\n",
    "import matplotlib as mpl\n",
    "from IPython.core.display import display,HTML\n",
    "%matplotlib inline"
   ]
  },
  {
   "cell_type": "code",
   "execution_count": 2,
   "metadata": {
    "execution": {
     "iopub.execute_input": "2020-09-11T19:12:23.062448Z",
     "iopub.status.busy": "2020-09-11T19:12:23.061373Z",
     "iopub.status.idle": "2020-09-11T19:12:23.134900Z",
     "shell.execute_reply": "2020-09-11T19:12:23.135602Z"
    },
    "papermill": {
     "duration": 0.290024,
     "end_time": "2020-09-11T19:12:23.135859",
     "exception": false,
     "start_time": "2020-09-11T19:12:22.845835",
     "status": "completed"
    },
    "tags": []
   },
   "outputs": [
    {
     "data": {
      "text/plain": [
       "(546, 41)"
      ]
     },
     "execution_count": 2,
     "metadata": {},
     "output_type": "execute_result"
    }
   ],
   "source": [
    "#hide\n",
    "url = 'https://api.covid19india.org/csv/latest/state_wise_daily.csv'\n",
    "df = pd.read_csv(url)\n",
    "df.shape"
   ]
  },
  {
   "cell_type": "code",
   "execution_count": 3,
   "metadata": {
    "execution": {
     "iopub.execute_input": "2020-09-11T19:12:23.322902Z",
     "iopub.status.busy": "2020-09-11T19:12:23.322000Z",
     "iopub.status.idle": "2020-09-11T19:12:23.331843Z",
     "shell.execute_reply": "2020-09-11T19:12:23.332328Z"
    },
    "papermill": {
     "duration": 0.090187,
     "end_time": "2020-09-11T19:12:23.332484",
     "exception": false,
     "start_time": "2020-09-11T19:12:23.242297",
     "status": "completed"
    },
    "tags": []
   },
   "outputs": [
    {
     "data": {
      "text/html": [
       "<div>\n",
       "<style scoped>\n",
       "    .dataframe tbody tr th:only-of-type {\n",
       "        vertical-align: middle;\n",
       "    }\n",
       "\n",
       "    .dataframe tbody tr th {\n",
       "        vertical-align: top;\n",
       "    }\n",
       "\n",
       "    .dataframe thead th {\n",
       "        text-align: right;\n",
       "    }\n",
       "</style>\n",
       "<table border=\"1\" class=\"dataframe\">\n",
       "  <thead>\n",
       "    <tr style=\"text-align: right;\">\n",
       "      <th></th>\n",
       "      <th>Date</th>\n",
       "      <th>Status</th>\n",
       "      <th>TT</th>\n",
       "      <th>AN</th>\n",
       "      <th>AP</th>\n",
       "      <th>AR</th>\n",
       "      <th>AS</th>\n",
       "      <th>BR</th>\n",
       "      <th>CH</th>\n",
       "      <th>CT</th>\n",
       "      <th>...</th>\n",
       "      <th>PB</th>\n",
       "      <th>RJ</th>\n",
       "      <th>SK</th>\n",
       "      <th>TN</th>\n",
       "      <th>TG</th>\n",
       "      <th>TR</th>\n",
       "      <th>UP</th>\n",
       "      <th>UT</th>\n",
       "      <th>WB</th>\n",
       "      <th>UN</th>\n",
       "    </tr>\n",
       "  </thead>\n",
       "  <tbody>\n",
       "    <tr>\n",
       "      <th>540</th>\n",
       "      <td>10-Sep-20</td>\n",
       "      <td>Confirmed</td>\n",
       "      <td>96760</td>\n",
       "      <td>39</td>\n",
       "      <td>10175</td>\n",
       "      <td>127</td>\n",
       "      <td>2739</td>\n",
       "      <td>1543</td>\n",
       "      <td>283</td>\n",
       "      <td>2748</td>\n",
       "      <td>...</td>\n",
       "      <td>2459</td>\n",
       "      <td>1640</td>\n",
       "      <td>20</td>\n",
       "      <td>5528</td>\n",
       "      <td>2534</td>\n",
       "      <td>535</td>\n",
       "      <td>6988</td>\n",
       "      <td>1015</td>\n",
       "      <td>3112</td>\n",
       "      <td>0</td>\n",
       "    </tr>\n",
       "    <tr>\n",
       "      <th>541</th>\n",
       "      <td>10-Sep-20</td>\n",
       "      <td>Recovered</td>\n",
       "      <td>70899</td>\n",
       "      <td>43</td>\n",
       "      <td>10040</td>\n",
       "      <td>99</td>\n",
       "      <td>2197</td>\n",
       "      <td>1480</td>\n",
       "      <td>191</td>\n",
       "      <td>1917</td>\n",
       "      <td>...</td>\n",
       "      <td>1348</td>\n",
       "      <td>1032</td>\n",
       "      <td>41</td>\n",
       "      <td>6185</td>\n",
       "      <td>2071</td>\n",
       "      <td>340</td>\n",
       "      <td>4605</td>\n",
       "      <td>521</td>\n",
       "      <td>3035</td>\n",
       "      <td>0</td>\n",
       "    </tr>\n",
       "    <tr>\n",
       "      <th>542</th>\n",
       "      <td>10-Sep-20</td>\n",
       "      <td>Deceased</td>\n",
       "      <td>1212</td>\n",
       "      <td>0</td>\n",
       "      <td>68</td>\n",
       "      <td>0</td>\n",
       "      <td>18</td>\n",
       "      <td>10</td>\n",
       "      <td>3</td>\n",
       "      <td>16</td>\n",
       "      <td>...</td>\n",
       "      <td>88</td>\n",
       "      <td>14</td>\n",
       "      <td>0</td>\n",
       "      <td>64</td>\n",
       "      <td>11</td>\n",
       "      <td>6</td>\n",
       "      <td>94</td>\n",
       "      <td>5</td>\n",
       "      <td>41</td>\n",
       "      <td>0</td>\n",
       "    </tr>\n",
       "    <tr>\n",
       "      <th>543</th>\n",
       "      <td>11-Sep-20</td>\n",
       "      <td>Confirmed</td>\n",
       "      <td>97397</td>\n",
       "      <td>29</td>\n",
       "      <td>9999</td>\n",
       "      <td>153</td>\n",
       "      <td>2534</td>\n",
       "      <td>1710</td>\n",
       "      <td>157</td>\n",
       "      <td>2963</td>\n",
       "      <td>...</td>\n",
       "      <td>2473</td>\n",
       "      <td>1660</td>\n",
       "      <td>17</td>\n",
       "      <td>5519</td>\n",
       "      <td>2426</td>\n",
       "      <td>559</td>\n",
       "      <td>7016</td>\n",
       "      <td>995</td>\n",
       "      <td>3157</td>\n",
       "      <td>0</td>\n",
       "    </tr>\n",
       "    <tr>\n",
       "      <th>544</th>\n",
       "      <td>11-Sep-20</td>\n",
       "      <td>Recovered</td>\n",
       "      <td>81246</td>\n",
       "      <td>36</td>\n",
       "      <td>11069</td>\n",
       "      <td>121</td>\n",
       "      <td>2628</td>\n",
       "      <td>2187</td>\n",
       "      <td>269</td>\n",
       "      <td>1268</td>\n",
       "      <td>...</td>\n",
       "      <td>1402</td>\n",
       "      <td>1488</td>\n",
       "      <td>16</td>\n",
       "      <td>6006</td>\n",
       "      <td>2324</td>\n",
       "      <td>262</td>\n",
       "      <td>5936</td>\n",
       "      <td>645</td>\n",
       "      <td>3016</td>\n",
       "      <td>0</td>\n",
       "    </tr>\n",
       "    <tr>\n",
       "      <th>545</th>\n",
       "      <td>11-Sep-20</td>\n",
       "      <td>Deceased</td>\n",
       "      <td>1200</td>\n",
       "      <td>0</td>\n",
       "      <td>77</td>\n",
       "      <td>1</td>\n",
       "      <td>16</td>\n",
       "      <td>12</td>\n",
       "      <td>3</td>\n",
       "      <td>25</td>\n",
       "      <td>...</td>\n",
       "      <td>63</td>\n",
       "      <td>15</td>\n",
       "      <td>4</td>\n",
       "      <td>77</td>\n",
       "      <td>13</td>\n",
       "      <td>5</td>\n",
       "      <td>76</td>\n",
       "      <td>11</td>\n",
       "      <td>57</td>\n",
       "      <td>0</td>\n",
       "    </tr>\n",
       "  </tbody>\n",
       "</table>\n",
       "<p>6 rows × 41 columns</p>\n",
       "</div>"
      ],
      "text/plain": [
       "          Date     Status     TT  AN     AP   AR    AS    BR   CH    CT  ...  \\\n",
       "540  10-Sep-20  Confirmed  96760  39  10175  127  2739  1543  283  2748  ...   \n",
       "541  10-Sep-20  Recovered  70899  43  10040   99  2197  1480  191  1917  ...   \n",
       "542  10-Sep-20   Deceased   1212   0     68    0    18    10    3    16  ...   \n",
       "543  11-Sep-20  Confirmed  97397  29   9999  153  2534  1710  157  2963  ...   \n",
       "544  11-Sep-20  Recovered  81246  36  11069  121  2628  2187  269  1268  ...   \n",
       "545  11-Sep-20   Deceased   1200   0     77    1    16    12    3    25  ...   \n",
       "\n",
       "       PB    RJ  SK    TN    TG   TR    UP    UT    WB  UN  \n",
       "540  2459  1640  20  5528  2534  535  6988  1015  3112   0  \n",
       "541  1348  1032  41  6185  2071  340  4605   521  3035   0  \n",
       "542    88    14   0    64    11    6    94     5    41   0  \n",
       "543  2473  1660  17  5519  2426  559  7016   995  3157   0  \n",
       "544  1402  1488  16  6006  2324  262  5936   645  3016   0  \n",
       "545    63    15   4    77    13    5    76    11    57   0  \n",
       "\n",
       "[6 rows x 41 columns]"
      ]
     },
     "execution_count": 3,
     "metadata": {},
     "output_type": "execute_result"
    }
   ],
   "source": [
    "#hide\n",
    "df.tail(6)"
   ]
  },
  {
   "cell_type": "code",
   "execution_count": 4,
   "metadata": {
    "execution": {
     "iopub.execute_input": "2020-09-11T19:12:23.366591Z",
     "iopub.status.busy": "2020-09-11T19:12:23.365959Z",
     "iopub.status.idle": "2020-09-11T19:12:23.368355Z",
     "shell.execute_reply": "2020-09-11T19:12:23.368800Z"
    },
    "papermill": {
     "duration": 0.023016,
     "end_time": "2020-09-11T19:12:23.368962",
     "exception": false,
     "start_time": "2020-09-11T19:12:23.345946",
     "status": "completed"
    },
    "tags": []
   },
   "outputs": [
    {
     "data": {
      "text/plain": [
       "('11-Sep-20', '10-Sep-20')"
      ]
     },
     "execution_count": 4,
     "metadata": {},
     "output_type": "execute_result"
    }
   ],
   "source": [
    "#hide\n",
    "dt_today = df.iloc[-1][0]\n",
    "dt_yday = df.iloc[-4][0]\n",
    "dt_today, dt_yday"
   ]
  },
  {
   "cell_type": "code",
   "execution_count": 5,
   "metadata": {
    "execution": {
     "iopub.execute_input": "2020-09-11T19:12:23.404898Z",
     "iopub.status.busy": "2020-09-11T19:12:23.404288Z",
     "iopub.status.idle": "2020-09-11T19:12:23.411057Z",
     "shell.execute_reply": "2020-09-11T19:12:23.411538Z"
    },
    "papermill": {
     "duration": 0.029448,
     "end_time": "2020-09-11T19:12:23.411695",
     "exception": false,
     "start_time": "2020-09-11T19:12:23.382247",
     "status": "completed"
    },
    "tags": []
   },
   "outputs": [],
   "source": [
    "#hide\n",
    "df_today = df.groupby('Status').sum()\n",
    "df_yday = df.iloc[:-3][:].groupby('Status').sum()"
   ]
  },
  {
   "cell_type": "code",
   "execution_count": 6,
   "metadata": {
    "execution": {
     "iopub.execute_input": "2020-09-11T19:12:23.457440Z",
     "iopub.status.busy": "2020-09-11T19:12:23.456676Z",
     "iopub.status.idle": "2020-09-11T19:12:23.459064Z",
     "shell.execute_reply": "2020-09-11T19:12:23.459616Z"
    },
    "papermill": {
     "duration": 0.03498,
     "end_time": "2020-09-11T19:12:23.459799",
     "exception": false,
     "start_time": "2020-09-11T19:12:23.424819",
     "status": "completed"
    },
    "tags": []
   },
   "outputs": [
    {
     "data": {
      "text/html": [
       "<div>\n",
       "<style scoped>\n",
       "    .dataframe tbody tr th:only-of-type {\n",
       "        vertical-align: middle;\n",
       "    }\n",
       "\n",
       "    .dataframe tbody tr th {\n",
       "        vertical-align: top;\n",
       "    }\n",
       "\n",
       "    .dataframe thead th {\n",
       "        text-align: right;\n",
       "    }\n",
       "</style>\n",
       "<table border=\"1\" class=\"dataframe\">\n",
       "  <thead>\n",
       "    <tr style=\"text-align: right;\">\n",
       "      <th></th>\n",
       "      <th>TT</th>\n",
       "      <th>AN</th>\n",
       "      <th>AP</th>\n",
       "      <th>AR</th>\n",
       "      <th>AS</th>\n",
       "      <th>BR</th>\n",
       "      <th>CH</th>\n",
       "      <th>CT</th>\n",
       "      <th>DN</th>\n",
       "      <th>DD</th>\n",
       "      <th>...</th>\n",
       "      <th>PB</th>\n",
       "      <th>RJ</th>\n",
       "      <th>SK</th>\n",
       "      <th>TN</th>\n",
       "      <th>TG</th>\n",
       "      <th>TR</th>\n",
       "      <th>UP</th>\n",
       "      <th>UT</th>\n",
       "      <th>WB</th>\n",
       "      <th>UN</th>\n",
       "    </tr>\n",
       "    <tr>\n",
       "      <th>Status</th>\n",
       "      <th></th>\n",
       "      <th></th>\n",
       "      <th></th>\n",
       "      <th></th>\n",
       "      <th></th>\n",
       "      <th></th>\n",
       "      <th></th>\n",
       "      <th></th>\n",
       "      <th></th>\n",
       "      <th></th>\n",
       "      <th></th>\n",
       "      <th></th>\n",
       "      <th></th>\n",
       "      <th></th>\n",
       "      <th></th>\n",
       "      <th></th>\n",
       "      <th></th>\n",
       "      <th></th>\n",
       "      <th></th>\n",
       "      <th></th>\n",
       "      <th></th>\n",
       "    </tr>\n",
       "  </thead>\n",
       "  <tbody>\n",
       "    <tr>\n",
       "      <th>Confirmed</th>\n",
       "      <td>4656150</td>\n",
       "      <td>3490</td>\n",
       "      <td>547686</td>\n",
       "      <td>5825</td>\n",
       "      <td>138237</td>\n",
       "      <td>155445</td>\n",
       "      <td>7144</td>\n",
       "      <td>58643</td>\n",
       "      <td>2684</td>\n",
       "      <td>0</td>\n",
       "      <td>...</td>\n",
       "      <td>74616</td>\n",
       "      <td>99036</td>\n",
       "      <td>2039</td>\n",
       "      <td>491571</td>\n",
       "      <td>152092</td>\n",
       "      <td>17830</td>\n",
       "      <td>299045</td>\n",
       "      <td>29221</td>\n",
       "      <td>196332</td>\n",
       "      <td>0</td>\n",
       "    </tr>\n",
       "    <tr>\n",
       "      <th>Deceased</th>\n",
       "      <td>76906</td>\n",
       "      <td>51</td>\n",
       "      <td>4779</td>\n",
       "      <td>10</td>\n",
       "      <td>434</td>\n",
       "      <td>797</td>\n",
       "      <td>83</td>\n",
       "      <td>518</td>\n",
       "      <td>2</td>\n",
       "      <td>0</td>\n",
       "      <td>...</td>\n",
       "      <td>2212</td>\n",
       "      <td>1207</td>\n",
       "      <td>11</td>\n",
       "      <td>8234</td>\n",
       "      <td>940</td>\n",
       "      <td>172</td>\n",
       "      <td>4282</td>\n",
       "      <td>388</td>\n",
       "      <td>3828</td>\n",
       "      <td>0</td>\n",
       "    </tr>\n",
       "    <tr>\n",
       "      <th>Recovered</th>\n",
       "      <td>3620634</td>\n",
       "      <td>3148</td>\n",
       "      <td>446716</td>\n",
       "      <td>4126</td>\n",
       "      <td>108330</td>\n",
       "      <td>139458</td>\n",
       "      <td>4600</td>\n",
       "      <td>27123</td>\n",
       "      <td>2390</td>\n",
       "      <td>0</td>\n",
       "      <td>...</td>\n",
       "      <td>53308</td>\n",
       "      <td>81970</td>\n",
       "      <td>1487</td>\n",
       "      <td>435422</td>\n",
       "      <td>119467</td>\n",
       "      <td>10255</td>\n",
       "      <td>227442</td>\n",
       "      <td>19428</td>\n",
       "      <td>169043</td>\n",
       "      <td>0</td>\n",
       "    </tr>\n",
       "  </tbody>\n",
       "</table>\n",
       "<p>3 rows × 39 columns</p>\n",
       "</div>"
      ],
      "text/plain": [
       "                TT    AN      AP    AR      AS      BR    CH     CT    DN  DD  \\\n",
       "Status                                                                          \n",
       "Confirmed  4656150  3490  547686  5825  138237  155445  7144  58643  2684   0   \n",
       "Deceased     76906    51    4779    10     434     797    83    518     2   0   \n",
       "Recovered  3620634  3148  446716  4126  108330  139458  4600  27123  2390   0   \n",
       "\n",
       "           ...     PB     RJ    SK      TN      TG     TR      UP     UT  \\\n",
       "Status     ...                                                             \n",
       "Confirmed  ...  74616  99036  2039  491571  152092  17830  299045  29221   \n",
       "Deceased   ...   2212   1207    11    8234     940    172    4282    388   \n",
       "Recovered  ...  53308  81970  1487  435422  119467  10255  227442  19428   \n",
       "\n",
       "               WB  UN  \n",
       "Status                 \n",
       "Confirmed  196332   0  \n",
       "Deceased     3828   0  \n",
       "Recovered  169043   0  \n",
       "\n",
       "[3 rows x 39 columns]"
      ]
     },
     "execution_count": 6,
     "metadata": {},
     "output_type": "execute_result"
    }
   ],
   "source": [
    "#hide\n",
    "df_today"
   ]
  },
  {
   "cell_type": "code",
   "execution_count": 7,
   "metadata": {
    "execution": {
     "iopub.execute_input": "2020-09-11T19:12:23.499354Z",
     "iopub.status.busy": "2020-09-11T19:12:23.498715Z",
     "iopub.status.idle": "2020-09-11T19:12:23.507161Z",
     "shell.execute_reply": "2020-09-11T19:12:23.506664Z"
    },
    "papermill": {
     "duration": 0.033445,
     "end_time": "2020-09-11T19:12:23.507295",
     "exception": false,
     "start_time": "2020-09-11T19:12:23.473850",
     "status": "completed"
    },
    "tags": []
   },
   "outputs": [
    {
     "data": {
      "text/html": [
       "<div>\n",
       "<style scoped>\n",
       "    .dataframe tbody tr th:only-of-type {\n",
       "        vertical-align: middle;\n",
       "    }\n",
       "\n",
       "    .dataframe tbody tr th {\n",
       "        vertical-align: top;\n",
       "    }\n",
       "\n",
       "    .dataframe thead th {\n",
       "        text-align: right;\n",
       "    }\n",
       "</style>\n",
       "<table border=\"1\" class=\"dataframe\">\n",
       "  <thead>\n",
       "    <tr style=\"text-align: right;\">\n",
       "      <th></th>\n",
       "      <th>TT</th>\n",
       "      <th>AN</th>\n",
       "      <th>AP</th>\n",
       "      <th>AR</th>\n",
       "      <th>AS</th>\n",
       "      <th>BR</th>\n",
       "      <th>CH</th>\n",
       "      <th>CT</th>\n",
       "      <th>DN</th>\n",
       "      <th>DD</th>\n",
       "      <th>...</th>\n",
       "      <th>PB</th>\n",
       "      <th>RJ</th>\n",
       "      <th>SK</th>\n",
       "      <th>TN</th>\n",
       "      <th>TG</th>\n",
       "      <th>TR</th>\n",
       "      <th>UP</th>\n",
       "      <th>UT</th>\n",
       "      <th>WB</th>\n",
       "      <th>UN</th>\n",
       "    </tr>\n",
       "    <tr>\n",
       "      <th>Status</th>\n",
       "      <th></th>\n",
       "      <th></th>\n",
       "      <th></th>\n",
       "      <th></th>\n",
       "      <th></th>\n",
       "      <th></th>\n",
       "      <th></th>\n",
       "      <th></th>\n",
       "      <th></th>\n",
       "      <th></th>\n",
       "      <th></th>\n",
       "      <th></th>\n",
       "      <th></th>\n",
       "      <th></th>\n",
       "      <th></th>\n",
       "      <th></th>\n",
       "      <th></th>\n",
       "      <th></th>\n",
       "      <th></th>\n",
       "      <th></th>\n",
       "      <th></th>\n",
       "    </tr>\n",
       "  </thead>\n",
       "  <tbody>\n",
       "    <tr>\n",
       "      <th>Confirmed</th>\n",
       "      <td>4558753</td>\n",
       "      <td>3461</td>\n",
       "      <td>537687</td>\n",
       "      <td>5672</td>\n",
       "      <td>135703</td>\n",
       "      <td>153735</td>\n",
       "      <td>6987</td>\n",
       "      <td>55680</td>\n",
       "      <td>2660</td>\n",
       "      <td>0</td>\n",
       "      <td>...</td>\n",
       "      <td>72143</td>\n",
       "      <td>97376</td>\n",
       "      <td>2022</td>\n",
       "      <td>486052</td>\n",
       "      <td>149666</td>\n",
       "      <td>17271</td>\n",
       "      <td>292029</td>\n",
       "      <td>28226</td>\n",
       "      <td>193175</td>\n",
       "      <td>0</td>\n",
       "    </tr>\n",
       "    <tr>\n",
       "      <th>Deceased</th>\n",
       "      <td>75706</td>\n",
       "      <td>51</td>\n",
       "      <td>4702</td>\n",
       "      <td>9</td>\n",
       "      <td>418</td>\n",
       "      <td>785</td>\n",
       "      <td>80</td>\n",
       "      <td>493</td>\n",
       "      <td>2</td>\n",
       "      <td>0</td>\n",
       "      <td>...</td>\n",
       "      <td>2149</td>\n",
       "      <td>1192</td>\n",
       "      <td>7</td>\n",
       "      <td>8157</td>\n",
       "      <td>927</td>\n",
       "      <td>167</td>\n",
       "      <td>4206</td>\n",
       "      <td>377</td>\n",
       "      <td>3771</td>\n",
       "      <td>0</td>\n",
       "    </tr>\n",
       "    <tr>\n",
       "      <th>Recovered</th>\n",
       "      <td>3539388</td>\n",
       "      <td>3112</td>\n",
       "      <td>435647</td>\n",
       "      <td>4005</td>\n",
       "      <td>105702</td>\n",
       "      <td>137271</td>\n",
       "      <td>4331</td>\n",
       "      <td>25855</td>\n",
       "      <td>2352</td>\n",
       "      <td>0</td>\n",
       "      <td>...</td>\n",
       "      <td>51906</td>\n",
       "      <td>80482</td>\n",
       "      <td>1471</td>\n",
       "      <td>429416</td>\n",
       "      <td>117143</td>\n",
       "      <td>9993</td>\n",
       "      <td>221506</td>\n",
       "      <td>18783</td>\n",
       "      <td>166027</td>\n",
       "      <td>0</td>\n",
       "    </tr>\n",
       "  </tbody>\n",
       "</table>\n",
       "<p>3 rows × 39 columns</p>\n",
       "</div>"
      ],
      "text/plain": [
       "                TT    AN      AP    AR      AS      BR    CH     CT    DN  DD  \\\n",
       "Status                                                                          \n",
       "Confirmed  4558753  3461  537687  5672  135703  153735  6987  55680  2660   0   \n",
       "Deceased     75706    51    4702     9     418     785    80    493     2   0   \n",
       "Recovered  3539388  3112  435647  4005  105702  137271  4331  25855  2352   0   \n",
       "\n",
       "           ...     PB     RJ    SK      TN      TG     TR      UP     UT  \\\n",
       "Status     ...                                                             \n",
       "Confirmed  ...  72143  97376  2022  486052  149666  17271  292029  28226   \n",
       "Deceased   ...   2149   1192     7    8157     927    167    4206    377   \n",
       "Recovered  ...  51906  80482  1471  429416  117143   9993  221506  18783   \n",
       "\n",
       "               WB  UN  \n",
       "Status                 \n",
       "Confirmed  193175   0  \n",
       "Deceased     3771   0  \n",
       "Recovered  166027   0  \n",
       "\n",
       "[3 rows x 39 columns]"
      ]
     },
     "execution_count": 7,
     "metadata": {},
     "output_type": "execute_result"
    }
   ],
   "source": [
    "#hide\n",
    "df_yday.head()"
   ]
  },
  {
   "cell_type": "code",
   "execution_count": 8,
   "metadata": {
    "execution": {
     "iopub.execute_input": "2020-09-11T19:12:23.545594Z",
     "iopub.status.busy": "2020-09-11T19:12:23.544985Z",
     "iopub.status.idle": "2020-09-11T19:12:23.548182Z",
     "shell.execute_reply": "2020-09-11T19:12:23.547555Z"
    },
    "papermill": {
     "duration": 0.026526,
     "end_time": "2020-09-11T19:12:23.548316",
     "exception": false,
     "start_time": "2020-09-11T19:12:23.521790",
     "status": "completed"
    },
    "tags": []
   },
   "outputs": [
    {
     "data": {
      "text/plain": [
       "{'updated': '11-Sep-20',\n",
       " 'since': '10-Sep-20',\n",
       " 'Cases': 4656150,\n",
       " 'Deaths': 76906,\n",
       " 'Recovered': 3620634,\n",
       " 'PCases': 4558753,\n",
       " 'PDeaths': 75706,\n",
       " 'PRecovered': 3539388,\n",
       " 'Cases (+)': 97397,\n",
       " 'Deaths (+)': 1200,\n",
       " 'Recovered (+)': 81246}"
      ]
     },
     "execution_count": 8,
     "metadata": {},
     "output_type": "execute_result"
    }
   ],
   "source": [
    "#hide\n",
    "summary = {\n",
    "    'updated' : dt_today,\n",
    "    'since' : dt_yday,\n",
    "    'Cases' : df_today['TT'][0],\n",
    "    'Deaths' : df_today['TT'][1],\n",
    "    'Recovered' : df_today['TT'][2],\n",
    "    'PCases' : df_yday['TT'][0],\n",
    "    'PDeaths' : df_yday['TT'][1],\n",
    "    'PRecovered': df_yday['TT'][2],\n",
    "    'Cases (+)' : df_today['TT'][0] - df_yday['TT'][0],\n",
    "    'Deaths (+)' : df_today['TT'][1] - df_yday['TT'][1],\n",
    "    'Recovered (+)': df_today['TT'][2] - df_yday['TT'][2]\n",
    "}\n",
    "\n",
    "summary"
   ]
  },
  {
   "cell_type": "code",
   "execution_count": 9,
   "metadata": {
    "execution": {
     "iopub.execute_input": "2020-09-11T19:12:23.583238Z",
     "iopub.status.busy": "2020-09-11T19:12:23.582594Z",
     "iopub.status.idle": "2020-09-11T19:12:23.584159Z",
     "shell.execute_reply": "2020-09-11T19:12:23.584714Z"
    },
    "papermill": {
     "duration": 0.021807,
     "end_time": "2020-09-11T19:12:23.584865",
     "exception": false,
     "start_time": "2020-09-11T19:12:23.563058",
     "status": "completed"
    },
    "tags": []
   },
   "outputs": [],
   "source": [
    "#hide\n",
    "overview = '''\n",
    "<!-- #######  HTML!! #########-->\n",
    "<h1 style=\"color: #5e9ca0; text-align: center;\">India</h1>\n",
    "<p style=\"text-align: center;\">Last update: <strong>{update}</strong></p>\n",
    "<p style=\"text-align: center;\">Confirmed cases:</p>\n",
    "<p style=\"text-align: center;font-size:24px;\">{cases} (<span style=\"color: #ff0000;\">+{new}</span>)</p>\n",
    "<p style=\"text-align: center;\">Confirmed deaths:</p>\n",
    "<p style=\"text-align: center;font-size:24px;\">{deaths} (<span style=\"color: #ff0000;\">+{dnew}</span>)</p>\n",
    "<p style=\"text-align: center;\">Recovered cases:</p>\n",
    "<p style=\"text-align: center;font-size:24px;\">{recovered} (<span style=\"color: #00ff00;\">+{rnew}</span>)</p>\n",
    "'''"
   ]
  },
  {
   "cell_type": "code",
   "execution_count": 10,
   "metadata": {
    "execution": {
     "iopub.execute_input": "2020-09-11T19:12:23.620505Z",
     "iopub.status.busy": "2020-09-11T19:12:23.619880Z",
     "iopub.status.idle": "2020-09-11T19:12:23.622744Z",
     "shell.execute_reply": "2020-09-11T19:12:23.623246Z"
    },
    "papermill": {
     "duration": 0.024035,
     "end_time": "2020-09-11T19:12:23.623394",
     "exception": false,
     "start_time": "2020-09-11T19:12:23.599359",
     "status": "completed"
    },
    "tags": []
   },
   "outputs": [
    {
     "data": {
      "text/html": [
       "\n",
       "<!-- #######  HTML!! #########-->\n",
       "<h1 style=\"color: #5e9ca0; text-align: center;\">India</h1>\n",
       "<p style=\"text-align: center;\">Last update: <strong>11-Sep-20</strong></p>\n",
       "<p style=\"text-align: center;\">Confirmed cases:</p>\n",
       "<p style=\"text-align: center;font-size:24px;\">4656150 (<span style=\"color: #ff0000;\">+97397</span>)</p>\n",
       "<p style=\"text-align: center;\">Confirmed deaths:</p>\n",
       "<p style=\"text-align: center;font-size:24px;\">76906 (<span style=\"color: #ff0000;\">+1200</span>)</p>\n",
       "<p style=\"text-align: center;\">Recovered cases:</p>\n",
       "<p style=\"text-align: center;font-size:24px;\">3620634 (<span style=\"color: #00ff00;\">+81246</span>)</p>\n"
      ],
      "text/plain": [
       "<IPython.core.display.HTML object>"
      ]
     },
     "metadata": {},
     "output_type": "display_data"
    }
   ],
   "source": [
    "#hide_input\n",
    "# Fill the above HTML with the information from the summary dictionary\n",
    "\n",
    "update = summary['updated']\n",
    "cases = summary['Cases']\n",
    "new = summary['Cases (+)']\n",
    "deaths = summary['Deaths']\n",
    "dnew = summary['Deaths (+)']\n",
    "recovered = summary['Recovered']\n",
    "rnew = summary['Recovered (+)']\n",
    "\n",
    "html = HTML(overview.format(update=update, cases=cases,new=new,deaths=deaths,dnew=dnew, recovered=recovered, rnew=rnew))\n",
    "\n",
    "display(html)"
   ]
  },
  {
   "cell_type": "code",
   "execution_count": 11,
   "metadata": {
    "execution": {
     "iopub.execute_input": "2020-09-11T19:12:23.664433Z",
     "iopub.status.busy": "2020-09-11T19:12:23.663796Z",
     "iopub.status.idle": "2020-09-11T19:12:23.666609Z",
     "shell.execute_reply": "2020-09-11T19:12:23.667172Z"
    },
    "papermill": {
     "duration": 0.029109,
     "end_time": "2020-09-11T19:12:23.667327",
     "exception": false,
     "start_time": "2020-09-11T19:12:23.638218",
     "status": "completed"
    },
    "tags": []
   },
   "outputs": [],
   "source": [
    "#hide\n",
    "df_cases = df[df['Status'] == 'Confirmed'].copy()\n",
    "df_cases.drop(columns = ['Status'], inplace=True)\n",
    "df_deaths = df[df['Status'] == 'Deceased'].copy()\n",
    "df_deaths.drop(columns = ['Status'], inplace=True)\n",
    "df_recovered = df[df['Status'] == 'Recovered'].copy()\n",
    "df_recovered.drop(columns = ['Status'], inplace=True)"
   ]
  },
  {
   "cell_type": "markdown",
   "metadata": {
    "papermill": {
     "duration": 0.0148,
     "end_time": "2020-09-11T19:12:23.696948",
     "exception": false,
     "start_time": "2020-09-11T19:12:23.682148",
     "status": "completed"
    },
    "tags": []
   },
   "source": [
    "Plot for India:"
   ]
  },
  {
   "cell_type": "code",
   "execution_count": 12,
   "metadata": {
    "execution": {
     "iopub.execute_input": "2020-09-11T19:12:23.738943Z",
     "iopub.status.busy": "2020-09-11T19:12:23.738054Z",
     "iopub.status.idle": "2020-09-11T19:12:24.000970Z",
     "shell.execute_reply": "2020-09-11T19:12:24.001447Z"
    },
    "papermill": {
     "duration": 0.289399,
     "end_time": "2020-09-11T19:12:24.001604",
     "exception": false,
     "start_time": "2020-09-11T19:12:23.712205",
     "status": "completed"
    },
    "tags": []
   },
   "outputs": [
    {
     "data": {
      "image/png": "[encoded data removed]",
      "text/plain": [
       "<Figure size 1296x432 with 1 Axes>"
      ]
     },
     "metadata": {
      "needs_background": "light"
     },
     "output_type": "display_data"
    }
   ],
   "source": [
    "#hide_input\n",
    "plt.figure(figsize = (18,6))\n",
    "plt.plot(df_cases['Date'], df_cases['TT'],'.-', alpha=0.7, color='b', label='Confirmed cases')\n",
    "plt.plot(df_recovered['Date'], df_recovered['TT'],'.-', alpha=0.7, color='g', label='Recovered')\n",
    "plt.plot(df_deaths['Date'], df_deaths['TT'],'.-', alpha=0.7, color='r', label='Deceased')\n",
    "plt.legend()\n",
    "plt.title(\"Cases per day in India\")\n",
    "plt.xticks(ticks=' ')\n",
    "plt.xlabel(f'{df_cases.iloc[0][0]} to {df_cases.iloc[-1][0]}')\n",
    "plt.ylabel('No. of cases');"
   ]
  },
  {
   "cell_type": "markdown",
   "metadata": {
    "papermill": {
     "duration": 0.017142,
     "end_time": "2020-09-11T19:12:24.037411",
     "exception": false,
     "start_time": "2020-09-11T19:12:24.020269",
     "status": "completed"
    },
    "tags": []
   },
   "source": [
    "Plots for the states with highest number of cases:"
   ]
  },
  {
   "cell_type": "code",
   "execution_count": 13,
   "metadata": {
    "execution": {
     "iopub.execute_input": "2020-09-11T19:12:24.085791Z",
     "iopub.status.busy": "2020-09-11T19:12:24.085181Z",
     "iopub.status.idle": "2020-09-11T19:12:24.673111Z",
     "shell.execute_reply": "2020-09-11T19:12:24.673551Z"
    },
    "papermill": {
     "duration": 0.618632,
     "end_time": "2020-09-11T19:12:24.673697",
     "exception": false,
     "start_time": "2020-09-11T19:12:24.055065",
     "status": "completed"
    },
    "tags": []
   },
   "outputs": [
    {
     "data": {
      "image/png": "[encoded data removed]",
      "text/plain": [
       "<Figure size 1512x432 with 3 Axes>"
      ]
     },
     "metadata": {
      "needs_background": "light"
     },
     "output_type": "display_data"
    }
   ],
   "source": [
    "#hide_input\n",
    "top_3 = sorted(df_cases.sum().values[1:], reverse=True)[1:4]\n",
    "top3_states=[]\n",
    "for i in top_3:\n",
    "    top3_states.append(df_cases.sum()[df_cases.sum() == i].index)\n",
    "\n",
    "\n",
    "fig, ax = plt.subplots(1,3,figsize = (21,6))\n",
    "for i in range(3):\n",
    "    state = top3_states[i].values[0]\n",
    "    ax[i].plot(df_cases['Date'], df_cases[state],'.-', color='b', alpha=0.7)\n",
    "    ax[i].plot(df_deaths['Date'], df_deaths[state],'.-', color='r', alpha=0.7)\n",
    "    ax[i].plot(df_recovered['Date'], df_recovered[state],'.-', color='g', alpha=0.7)\n",
    "    \n",
    "    ax[i].set_title(f\"Cases in {state}\")\n",
    "    ax[i].set_xticks(ticks=' ')\n",
    "    ax[i].set_xlabel(f'{df_cases.iloc[0][0]} to {df_cases.iloc[-1][0]}')\n",
    "    ax[i].set_ylabel('No. of cases');"
   ]
  },
  {
   "cell_type": "code",
   "execution_count": null,
   "metadata": {
    "papermill": {
     "duration": 0.019333,
     "end_time": "2020-09-11T19:12:24.712595",
     "exception": false,
     "start_time": "2020-09-11T19:12:24.693262",
     "status": "completed"
    },
    "tags": []
   },
   "outputs": [],
   "source": []
  },
  {
   "cell_type": "code",
   "execution_count": null,
   "metadata": {
    "papermill": {
     "duration": 0.020327,
     "end_time": "2020-09-11T19:12:24.752063",
     "exception": false,
     "start_time": "2020-09-11T19:12:24.731736",
     "status": "completed"
    },
    "tags": []
   },
   "outputs": [],
   "source": []
  },
  {
   "cell_type": "code",
   "execution_count": null,
   "metadata": {
    "papermill": {
     "duration": 0.01938,
     "end_time": "2020-09-11T19:12:24.790689",
     "exception": false,
     "start_time": "2020-09-11T19:12:24.771309",
     "status": "completed"
    },
    "tags": []
   },
   "outputs": [],
   "source": []
  }
 ],
 "metadata": {
  "kernelspec": {
   "display_name": "Python 3",
   "language": "python",
   "name": "python3"
  },
  "language_info": {
   "codemirror_mode": {
    "name": "ipython",
    "version": 3
   },
   "file_extension": ".py",
   "mimetype": "text/x-python",
   "name": "python",
   "nbconvert_exporter": "python",
   "pygments_lexer": "ipython3",
   "version": "3.6.12"
  },
  "papermill": {
   "duration": 4.222623,
   "end_time": "2020-09-11T19:12:25.219956",
   "environment_variables": {},
   "exception": null,
   "input_path": "2020-08-09-DailyUpdate.ipynb",
   "output_path": "2020-08-09-DailyUpdate.ipynb",
   "parameters": {},
   "start_time": "2020-09-11T19:12:20.997333",
   "version": "2.1.2"
  }
 },
 "nbformat": 4,
 "nbformat_minor": 4
}