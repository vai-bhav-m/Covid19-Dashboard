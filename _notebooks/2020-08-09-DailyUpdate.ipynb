{
 "cells": [
  {
   "cell_type": "markdown",
   "metadata": {
    "tags": [
     "papermill-error-cell-tag"
    ]
   },
   "source": [
    "<span style=\"color:red; font-family:Helvetica Neue, Helvetica, Arial, sans-serif; font-size:2em;\">An Exception was encountered at '<a href=\"#papermill-error-cell\">In [13]</a>'.</span>"
   ]
  },
  {
   "cell_type": "markdown",
   "metadata": {
    "papermill": {
     "duration": 0.016752,
     "end_time": "2020-11-02T19:09:42.638401",
     "exception": false,
     "start_time": "2020-11-02T19:09:42.621649",
     "status": "completed"
    },
    "tags": []
   },
   "source": [
    "# COVID-19 India Daily updates\n",
    "> Tracking coronavirus total cases, deaths and new cases in India on a daily basis\n",
    "\n",
    "- author: Vaibhav Mahapatra"
   ]
  },
  {
   "cell_type": "code",
   "execution_count": 1,
   "metadata": {
    "execution": {
     "iopub.execute_input": "2020-11-02T19:09:42.670300Z",
     "iopub.status.busy": "2020-11-02T19:09:42.669688Z",
     "iopub.status.idle": "2020-11-02T19:09:43.279900Z",
     "shell.execute_reply": "2020-11-02T19:09:43.279272Z"
    },
    "papermill": {
     "duration": 0.62881,
     "end_time": "2020-11-02T19:09:43.280078",
     "exception": false,
     "start_time": "2020-11-02T19:09:42.651268",
     "status": "completed"
    },
    "tags": []
   },
   "outputs": [],
   "source": [
    "#hide\n",
    "\n",
    "## Import essential packages below\n",
    "\n",
    "import pandas as pd\n",
    "import numpy as np\n",
    "import requests\n",
    "import json\n",
    "import matplotlib.pyplot as plt\n",
    "import matplotlib.dates as mdates\n",
    "import matplotlib as mpl\n",
    "from IPython.core.display import display,HTML\n",
    "%matplotlib inline"
   ]
  },
  {
   "cell_type": "code",
   "execution_count": 2,
   "metadata": {
    "execution": {
     "iopub.execute_input": "2020-11-02T19:09:43.310665Z",
     "iopub.status.busy": "2020-11-02T19:09:43.310092Z",
     "iopub.status.idle": "2020-11-02T19:09:43.373682Z",
     "shell.execute_reply": "2020-11-02T19:09:43.374131Z"
    },
    "papermill": {
     "duration": 0.081147,
     "end_time": "2020-11-02T19:09:43.374276",
     "exception": false,
     "start_time": "2020-11-02T19:09:43.293129",
     "status": "completed"
    },
    "tags": []
   },
   "outputs": [
    {
     "data": {
      "text/plain": [
       "(702, 42)"
      ]
     },
     "execution_count": 2,
     "metadata": {},
     "output_type": "execute_result"
    }
   ],
   "source": [
    "#hide\n",
    "url = 'https://api.covid19india.org/csv/latest/state_wise_daily.csv'\n",
    "df = pd.read_csv(url)\n",
    "df.shape"
   ]
  },
  {
   "cell_type": "code",
   "execution_count": 3,
   "metadata": {
    "execution": {
     "iopub.execute_input": "2020-11-02T19:09:43.439381Z",
     "iopub.status.busy": "2020-11-02T19:09:43.438652Z",
     "iopub.status.idle": "2020-11-02T19:09:43.458625Z",
     "shell.execute_reply": "2020-11-02T19:09:43.459434Z"
    },
    "papermill": {
     "duration": 0.073618,
     "end_time": "2020-11-02T19:09:43.459622",
     "exception": false,
     "start_time": "2020-11-02T19:09:43.386004",
     "status": "completed"
    },
    "tags": []
   },
   "outputs": [
    {
     "data": {
      "text/html": [
       "<div>\n",
       "<style scoped>\n",
       "    .dataframe tbody tr th:only-of-type {\n",
       "        vertical-align: middle;\n",
       "    }\n",
       "\n",
       "    .dataframe tbody tr th {\n",
       "        vertical-align: top;\n",
       "    }\n",
       "\n",
       "    .dataframe thead th {\n",
       "        text-align: right;\n",
       "    }\n",
       "</style>\n",
       "<table border=\"1\" class=\"dataframe\">\n",
       "  <thead>\n",
       "    <tr style=\"text-align: right;\">\n",
       "      <th></th>\n",
       "      <th>Date</th>\n",
       "      <th>Date_YMD</th>\n",
       "      <th>Status</th>\n",
       "      <th>TT</th>\n",
       "      <th>AN</th>\n",
       "      <th>AP</th>\n",
       "      <th>AR</th>\n",
       "      <th>AS</th>\n",
       "      <th>BR</th>\n",
       "      <th>CH</th>\n",
       "      <th>...</th>\n",
       "      <th>PB</th>\n",
       "      <th>RJ</th>\n",
       "      <th>SK</th>\n",
       "      <th>TN</th>\n",
       "      <th>TG</th>\n",
       "      <th>TR</th>\n",
       "      <th>UP</th>\n",
       "      <th>UT</th>\n",
       "      <th>WB</th>\n",
       "      <th>UN</th>\n",
       "    </tr>\n",
       "  </thead>\n",
       "  <tbody>\n",
       "    <tr>\n",
       "      <th>696</th>\n",
       "      <td>01-Nov-20</td>\n",
       "      <td>2020-11-01</td>\n",
       "      <td>Confirmed</td>\n",
       "      <td>45928</td>\n",
       "      <td>8</td>\n",
       "      <td>2618</td>\n",
       "      <td>29</td>\n",
       "      <td>166</td>\n",
       "      <td>777</td>\n",
       "      <td>58</td>\n",
       "      <td>...</td>\n",
       "      <td>317</td>\n",
       "      <td>1754</td>\n",
       "      <td>18</td>\n",
       "      <td>2504</td>\n",
       "      <td>1416</td>\n",
       "      <td>77</td>\n",
       "      <td>1969</td>\n",
       "      <td>222</td>\n",
       "      <td>3987</td>\n",
       "      <td>0</td>\n",
       "    </tr>\n",
       "    <tr>\n",
       "      <th>697</th>\n",
       "      <td>01-Nov-20</td>\n",
       "      <td>2020-11-01</td>\n",
       "      <td>Recovered</td>\n",
       "      <td>53312</td>\n",
       "      <td>12</td>\n",
       "      <td>3509</td>\n",
       "      <td>114</td>\n",
       "      <td>730</td>\n",
       "      <td>1195</td>\n",
       "      <td>81</td>\n",
       "      <td>...</td>\n",
       "      <td>368</td>\n",
       "      <td>1591</td>\n",
       "      <td>34</td>\n",
       "      <td>3644</td>\n",
       "      <td>1579</td>\n",
       "      <td>170</td>\n",
       "      <td>2388</td>\n",
       "      <td>178</td>\n",
       "      <td>4053</td>\n",
       "      <td>0</td>\n",
       "    </tr>\n",
       "    <tr>\n",
       "      <th>698</th>\n",
       "      <td>01-Nov-20</td>\n",
       "      <td>2020-11-01</td>\n",
       "      <td>Deceased</td>\n",
       "      <td>491</td>\n",
       "      <td>1</td>\n",
       "      <td>16</td>\n",
       "      <td>0</td>\n",
       "      <td>1</td>\n",
       "      <td>7</td>\n",
       "      <td>0</td>\n",
       "      <td>...</td>\n",
       "      <td>11</td>\n",
       "      <td>10</td>\n",
       "      <td>1</td>\n",
       "      <td>30</td>\n",
       "      <td>5</td>\n",
       "      <td>0</td>\n",
       "      <td>26</td>\n",
       "      <td>4</td>\n",
       "      <td>59</td>\n",
       "      <td>0</td>\n",
       "    </tr>\n",
       "    <tr>\n",
       "      <th>699</th>\n",
       "      <td>02-Nov-20</td>\n",
       "      <td>2020-11-02</td>\n",
       "      <td>Confirmed</td>\n",
       "      <td>37592</td>\n",
       "      <td>12</td>\n",
       "      <td>1916</td>\n",
       "      <td>117</td>\n",
       "      <td>465</td>\n",
       "      <td>577</td>\n",
       "      <td>52</td>\n",
       "      <td>...</td>\n",
       "      <td>396</td>\n",
       "      <td>1748</td>\n",
       "      <td>9</td>\n",
       "      <td>2481</td>\n",
       "      <td>922</td>\n",
       "      <td>58</td>\n",
       "      <td>1777</td>\n",
       "      <td>331</td>\n",
       "      <td>3957</td>\n",
       "      <td>0</td>\n",
       "    </tr>\n",
       "    <tr>\n",
       "      <th>700</th>\n",
       "      <td>02-Nov-20</td>\n",
       "      <td>2020-11-02</td>\n",
       "      <td>Recovered</td>\n",
       "      <td>58524</td>\n",
       "      <td>20</td>\n",
       "      <td>3033</td>\n",
       "      <td>165</td>\n",
       "      <td>785</td>\n",
       "      <td>974</td>\n",
       "      <td>76</td>\n",
       "      <td>...</td>\n",
       "      <td>395</td>\n",
       "      <td>1105</td>\n",
       "      <td>4</td>\n",
       "      <td>3940</td>\n",
       "      <td>1456</td>\n",
       "      <td>186</td>\n",
       "      <td>2040</td>\n",
       "      <td>441</td>\n",
       "      <td>4085</td>\n",
       "      <td>0</td>\n",
       "    </tr>\n",
       "    <tr>\n",
       "      <th>701</th>\n",
       "      <td>02-Nov-20</td>\n",
       "      <td>2020-11-02</td>\n",
       "      <td>Deceased</td>\n",
       "      <td>497</td>\n",
       "      <td>0</td>\n",
       "      <td>13</td>\n",
       "      <td>1</td>\n",
       "      <td>1</td>\n",
       "      <td>4</td>\n",
       "      <td>1</td>\n",
       "      <td>...</td>\n",
       "      <td>13</td>\n",
       "      <td>9</td>\n",
       "      <td>4</td>\n",
       "      <td>31</td>\n",
       "      <td>7</td>\n",
       "      <td>2</td>\n",
       "      <td>25</td>\n",
       "      <td>2</td>\n",
       "      <td>57</td>\n",
       "      <td>0</td>\n",
       "    </tr>\n",
       "  </tbody>\n",
       "</table>\n",
       "<p>6 rows × 42 columns</p>\n",
       "</div>"
      ],
      "text/plain": [
       "          Date    Date_YMD     Status     TT  AN    AP   AR   AS    BR  CH  \\\n",
       "696  01-Nov-20  2020-11-01  Confirmed  45928   8  2618   29  166   777  58   \n",
       "697  01-Nov-20  2020-11-01  Recovered  53312  12  3509  114  730  1195  81   \n",
       "698  01-Nov-20  2020-11-01   Deceased    491   1    16    0    1     7   0   \n",
       "699  02-Nov-20  2020-11-02  Confirmed  37592  12  1916  117  465   577  52   \n",
       "700  02-Nov-20  2020-11-02  Recovered  58524  20  3033  165  785   974  76   \n",
       "701  02-Nov-20  2020-11-02   Deceased    497   0    13    1    1     4   1   \n",
       "\n",
       "     ...   PB    RJ  SK    TN    TG   TR    UP   UT    WB  UN  \n",
       "696  ...  317  1754  18  2504  1416   77  1969  222  3987   0  \n",
       "697  ...  368  1591  34  3644  1579  170  2388  178  4053   0  \n",
       "698  ...   11    10   1    30     5    0    26    4    59   0  \n",
       "699  ...  396  1748   9  2481   922   58  1777  331  3957   0  \n",
       "700  ...  395  1105   4  3940  1456  186  2040  441  4085   0  \n",
       "701  ...   13     9   4    31     7    2    25    2    57   0  \n",
       "\n",
       "[6 rows x 42 columns]"
      ]
     },
     "execution_count": 3,
     "metadata": {},
     "output_type": "execute_result"
    }
   ],
   "source": [
    "#hide\n",
    "df.tail(6)"
   ]
  },
  {
   "cell_type": "code",
   "execution_count": 4,
   "metadata": {
    "execution": {
     "iopub.execute_input": "2020-11-02T19:09:43.491228Z",
     "iopub.status.busy": "2020-11-02T19:09:43.490643Z",
     "iopub.status.idle": "2020-11-02T19:09:43.493444Z",
     "shell.execute_reply": "2020-11-02T19:09:43.493873Z"
    },
    "papermill": {
     "duration": 0.021903,
     "end_time": "2020-11-02T19:09:43.494004",
     "exception": false,
     "start_time": "2020-11-02T19:09:43.472101",
     "status": "completed"
    },
    "tags": []
   },
   "outputs": [
    {
     "data": {
      "text/plain": [
       "('02-Nov-20', '01-Nov-20')"
      ]
     },
     "execution_count": 4,
     "metadata": {},
     "output_type": "execute_result"
    }
   ],
   "source": [
    "#hide\n",
    "dt_today = df.iloc[-1][0]\n",
    "dt_yday = df.iloc[-4][0]\n",
    "dt_today, dt_yday"
   ]
  },
  {
   "cell_type": "code",
   "execution_count": 5,
   "metadata": {
    "execution": {
     "iopub.execute_input": "2020-11-02T19:09:43.525663Z",
     "iopub.status.busy": "2020-11-02T19:09:43.525082Z",
     "iopub.status.idle": "2020-11-02T19:09:43.530927Z",
     "shell.execute_reply": "2020-11-02T19:09:43.531521Z"
    },
    "papermill": {
     "duration": 0.024991,
     "end_time": "2020-11-02T19:09:43.531674",
     "exception": false,
     "start_time": "2020-11-02T19:09:43.506683",
     "status": "completed"
    },
    "tags": []
   },
   "outputs": [],
   "source": [
    "#hide\n",
    "df_today = df.groupby('Status').sum()\n",
    "df_yday = df.iloc[:-3][:].groupby('Status').sum()"
   ]
  },
  {
   "cell_type": "code",
   "execution_count": 6,
   "metadata": {
    "execution": {
     "iopub.execute_input": "2020-11-02T19:09:43.566672Z",
     "iopub.status.busy": "2020-11-02T19:09:43.566092Z",
     "iopub.status.idle": "2020-11-02T19:09:43.581790Z",
     "shell.execute_reply": "2020-11-02T19:09:43.582247Z"
    },
    "papermill": {
     "duration": 0.037324,
     "end_time": "2020-11-02T19:09:43.582384",
     "exception": false,
     "start_time": "2020-11-02T19:09:43.545060",
     "status": "completed"
    },
    "tags": []
   },
   "outputs": [
    {
     "data": {
      "text/html": [
       "<div>\n",
       "<style scoped>\n",
       "    .dataframe tbody tr th:only-of-type {\n",
       "        vertical-align: middle;\n",
       "    }\n",
       "\n",
       "    .dataframe tbody tr th {\n",
       "        vertical-align: top;\n",
       "    }\n",
       "\n",
       "    .dataframe thead th {\n",
       "        text-align: right;\n",
       "    }\n",
       "</style>\n",
       "<table border=\"1\" class=\"dataframe\">\n",
       "  <thead>\n",
       "    <tr style=\"text-align: right;\">\n",
       "      <th></th>\n",
       "      <th>TT</th>\n",
       "      <th>AN</th>\n",
       "      <th>AP</th>\n",
       "      <th>AR</th>\n",
       "      <th>AS</th>\n",
       "      <th>BR</th>\n",
       "      <th>CH</th>\n",
       "      <th>CT</th>\n",
       "      <th>DN</th>\n",
       "      <th>DD</th>\n",
       "      <th>...</th>\n",
       "      <th>PB</th>\n",
       "      <th>RJ</th>\n",
       "      <th>SK</th>\n",
       "      <th>TN</th>\n",
       "      <th>TG</th>\n",
       "      <th>TR</th>\n",
       "      <th>UP</th>\n",
       "      <th>UT</th>\n",
       "      <th>WB</th>\n",
       "      <th>UN</th>\n",
       "    </tr>\n",
       "    <tr>\n",
       "      <th>Status</th>\n",
       "      <th></th>\n",
       "      <th></th>\n",
       "      <th></th>\n",
       "      <th></th>\n",
       "      <th></th>\n",
       "      <th></th>\n",
       "      <th></th>\n",
       "      <th></th>\n",
       "      <th></th>\n",
       "      <th></th>\n",
       "      <th></th>\n",
       "      <th></th>\n",
       "      <th></th>\n",
       "      <th></th>\n",
       "      <th></th>\n",
       "      <th></th>\n",
       "      <th></th>\n",
       "      <th></th>\n",
       "      <th></th>\n",
       "      <th></th>\n",
       "      <th></th>\n",
       "    </tr>\n",
       "  </thead>\n",
       "  <tbody>\n",
       "    <tr>\n",
       "      <th>Confirmed</th>\n",
       "      <td>8266196</td>\n",
       "      <td>4348</td>\n",
       "      <td>827882</td>\n",
       "      <td>14998</td>\n",
       "      <td>206880</td>\n",
       "      <td>218118</td>\n",
       "      <td>14528</td>\n",
       "      <td>190513</td>\n",
       "      <td>3252</td>\n",
       "      <td>0</td>\n",
       "      <td>...</td>\n",
       "      <td>134371</td>\n",
       "      <td>200495</td>\n",
       "      <td>3980</td>\n",
       "      <td>729507</td>\n",
       "      <td>240460</td>\n",
       "      <td>30849</td>\n",
       "      <td>485609</td>\n",
       "      <td>62881</td>\n",
       "      <td>381608</td>\n",
       "      <td>0</td>\n",
       "    </tr>\n",
       "    <tr>\n",
       "      <th>Deceased</th>\n",
       "      <td>123142</td>\n",
       "      <td>60</td>\n",
       "      <td>6719</td>\n",
       "      <td>38</td>\n",
       "      <td>936</td>\n",
       "      <td>1101</td>\n",
       "      <td>227</td>\n",
       "      <td>2208</td>\n",
       "      <td>2</td>\n",
       "      <td>0</td>\n",
       "      <td>...</td>\n",
       "      <td>4227</td>\n",
       "      <td>1926</td>\n",
       "      <td>73</td>\n",
       "      <td>11183</td>\n",
       "      <td>1348</td>\n",
       "      <td>345</td>\n",
       "      <td>7076</td>\n",
       "      <td>1029</td>\n",
       "      <td>6957</td>\n",
       "      <td>0</td>\n",
       "    </tr>\n",
       "    <tr>\n",
       "      <th>Recovered</th>\n",
       "      <td>7601262</td>\n",
       "      <td>4123</td>\n",
       "      <td>798625</td>\n",
       "      <td>13238</td>\n",
       "      <td>197566</td>\n",
       "      <td>209980</td>\n",
       "      <td>13708</td>\n",
       "      <td>166391</td>\n",
       "      <td>3176</td>\n",
       "      <td>0</td>\n",
       "      <td>...</td>\n",
       "      <td>125961</td>\n",
       "      <td>182680</td>\n",
       "      <td>3574</td>\n",
       "      <td>698820</td>\n",
       "      <td>221922</td>\n",
       "      <td>29211</td>\n",
       "      <td>455498</td>\n",
       "      <td>57542</td>\n",
       "      <td>338075</td>\n",
       "      <td>0</td>\n",
       "    </tr>\n",
       "  </tbody>\n",
       "</table>\n",
       "<p>3 rows × 39 columns</p>\n",
       "</div>"
      ],
      "text/plain": [
       "                TT    AN      AP     AR      AS      BR     CH      CT    DN  \\\n",
       "Status                                                                         \n",
       "Confirmed  8266196  4348  827882  14998  206880  218118  14528  190513  3252   \n",
       "Deceased    123142    60    6719     38     936    1101    227    2208     2   \n",
       "Recovered  7601262  4123  798625  13238  197566  209980  13708  166391  3176   \n",
       "\n",
       "           DD  ...      PB      RJ    SK      TN      TG     TR      UP  \\\n",
       "Status         ...                                                        \n",
       "Confirmed   0  ...  134371  200495  3980  729507  240460  30849  485609   \n",
       "Deceased    0  ...    4227    1926    73   11183    1348    345    7076   \n",
       "Recovered   0  ...  125961  182680  3574  698820  221922  29211  455498   \n",
       "\n",
       "              UT      WB  UN  \n",
       "Status                        \n",
       "Confirmed  62881  381608   0  \n",
       "Deceased    1029    6957   0  \n",
       "Recovered  57542  338075   0  \n",
       "\n",
       "[3 rows x 39 columns]"
      ]
     },
     "execution_count": 6,
     "metadata": {},
     "output_type": "execute_result"
    }
   ],
   "source": [
    "#hide\n",
    "df_today"
   ]
  },
  {
   "cell_type": "code",
   "execution_count": 7,
   "metadata": {
    "execution": {
     "iopub.execute_input": "2020-11-02T19:09:43.619533Z",
     "iopub.status.busy": "2020-11-02T19:09:43.618958Z",
     "iopub.status.idle": "2020-11-02T19:09:43.627939Z",
     "shell.execute_reply": "2020-11-02T19:09:43.628446Z"
    },
    "papermill": {
     "duration": 0.031054,
     "end_time": "2020-11-02T19:09:43.628577",
     "exception": false,
     "start_time": "2020-11-02T19:09:43.597523",
     "status": "completed"
    },
    "tags": []
   },
   "outputs": [
    {
     "data": {
      "text/html": [
       "<div>\n",
       "<style scoped>\n",
       "    .dataframe tbody tr th:only-of-type {\n",
       "        vertical-align: middle;\n",
       "    }\n",
       "\n",
       "    .dataframe tbody tr th {\n",
       "        vertical-align: top;\n",
       "    }\n",
       "\n",
       "    .dataframe thead th {\n",
       "        text-align: right;\n",
       "    }\n",
       "</style>\n",
       "<table border=\"1\" class=\"dataframe\">\n",
       "  <thead>\n",
       "    <tr style=\"text-align: right;\">\n",
       "      <th></th>\n",
       "      <th>TT</th>\n",
       "      <th>AN</th>\n",
       "      <th>AP</th>\n",
       "      <th>AR</th>\n",
       "      <th>AS</th>\n",
       "      <th>BR</th>\n",
       "      <th>CH</th>\n",
       "      <th>CT</th>\n",
       "      <th>DN</th>\n",
       "      <th>DD</th>\n",
       "      <th>...</th>\n",
       "      <th>PB</th>\n",
       "      <th>RJ</th>\n",
       "      <th>SK</th>\n",
       "      <th>TN</th>\n",
       "      <th>TG</th>\n",
       "      <th>TR</th>\n",
       "      <th>UP</th>\n",
       "      <th>UT</th>\n",
       "      <th>WB</th>\n",
       "      <th>UN</th>\n",
       "    </tr>\n",
       "    <tr>\n",
       "      <th>Status</th>\n",
       "      <th></th>\n",
       "      <th></th>\n",
       "      <th></th>\n",
       "      <th></th>\n",
       "      <th></th>\n",
       "      <th></th>\n",
       "      <th></th>\n",
       "      <th></th>\n",
       "      <th></th>\n",
       "      <th></th>\n",
       "      <th></th>\n",
       "      <th></th>\n",
       "      <th></th>\n",
       "      <th></th>\n",
       "      <th></th>\n",
       "      <th></th>\n",
       "      <th></th>\n",
       "      <th></th>\n",
       "      <th></th>\n",
       "      <th></th>\n",
       "      <th></th>\n",
       "    </tr>\n",
       "  </thead>\n",
       "  <tbody>\n",
       "    <tr>\n",
       "      <th>Confirmed</th>\n",
       "      <td>8228604</td>\n",
       "      <td>4336</td>\n",
       "      <td>825966</td>\n",
       "      <td>14881</td>\n",
       "      <td>206415</td>\n",
       "      <td>217541</td>\n",
       "      <td>14476</td>\n",
       "      <td>188813</td>\n",
       "      <td>3248</td>\n",
       "      <td>0</td>\n",
       "      <td>...</td>\n",
       "      <td>133975</td>\n",
       "      <td>198747</td>\n",
       "      <td>3971</td>\n",
       "      <td>727026</td>\n",
       "      <td>239538</td>\n",
       "      <td>30791</td>\n",
       "      <td>483832</td>\n",
       "      <td>62550</td>\n",
       "      <td>377651</td>\n",
       "      <td>0</td>\n",
       "    </tr>\n",
       "    <tr>\n",
       "      <th>Deceased</th>\n",
       "      <td>122645</td>\n",
       "      <td>60</td>\n",
       "      <td>6706</td>\n",
       "      <td>37</td>\n",
       "      <td>935</td>\n",
       "      <td>1097</td>\n",
       "      <td>226</td>\n",
       "      <td>2150</td>\n",
       "      <td>2</td>\n",
       "      <td>0</td>\n",
       "      <td>...</td>\n",
       "      <td>4214</td>\n",
       "      <td>1917</td>\n",
       "      <td>69</td>\n",
       "      <td>11152</td>\n",
       "      <td>1341</td>\n",
       "      <td>343</td>\n",
       "      <td>7051</td>\n",
       "      <td>1027</td>\n",
       "      <td>6900</td>\n",
       "      <td>0</td>\n",
       "    </tr>\n",
       "    <tr>\n",
       "      <th>Recovered</th>\n",
       "      <td>7542738</td>\n",
       "      <td>4103</td>\n",
       "      <td>795592</td>\n",
       "      <td>13073</td>\n",
       "      <td>196781</td>\n",
       "      <td>209006</td>\n",
       "      <td>13632</td>\n",
       "      <td>164537</td>\n",
       "      <td>3168</td>\n",
       "      <td>0</td>\n",
       "      <td>...</td>\n",
       "      <td>125566</td>\n",
       "      <td>181575</td>\n",
       "      <td>3570</td>\n",
       "      <td>694880</td>\n",
       "      <td>220466</td>\n",
       "      <td>29025</td>\n",
       "      <td>453458</td>\n",
       "      <td>57101</td>\n",
       "      <td>333990</td>\n",
       "      <td>0</td>\n",
       "    </tr>\n",
       "  </tbody>\n",
       "</table>\n",
       "<p>3 rows × 39 columns</p>\n",
       "</div>"
      ],
      "text/plain": [
       "                TT    AN      AP     AR      AS      BR     CH      CT    DN  \\\n",
       "Status                                                                         \n",
       "Confirmed  8228604  4336  825966  14881  206415  217541  14476  188813  3248   \n",
       "Deceased    122645    60    6706     37     935    1097    226    2150     2   \n",
       "Recovered  7542738  4103  795592  13073  196781  209006  13632  164537  3168   \n",
       "\n",
       "           DD  ...      PB      RJ    SK      TN      TG     TR      UP  \\\n",
       "Status         ...                                                        \n",
       "Confirmed   0  ...  133975  198747  3971  727026  239538  30791  483832   \n",
       "Deceased    0  ...    4214    1917    69   11152    1341    343    7051   \n",
       "Recovered   0  ...  125566  181575  3570  694880  220466  29025  453458   \n",
       "\n",
       "              UT      WB  UN  \n",
       "Status                        \n",
       "Confirmed  62550  377651   0  \n",
       "Deceased    1027    6900   0  \n",
       "Recovered  57101  333990   0  \n",
       "\n",
       "[3 rows x 39 columns]"
      ]
     },
     "execution_count": 7,
     "metadata": {},
     "output_type": "execute_result"
    }
   ],
   "source": [
    "#hide\n",
    "df_yday.head()"
   ]
  },
  {
   "cell_type": "code",
   "execution_count": 8,
   "metadata": {
    "execution": {
     "iopub.execute_input": "2020-11-02T19:09:43.664043Z",
     "iopub.status.busy": "2020-11-02T19:09:43.663456Z",
     "iopub.status.idle": "2020-11-02T19:09:43.667782Z",
     "shell.execute_reply": "2020-11-02T19:09:43.667340Z"
    },
    "papermill": {
     "duration": 0.025614,
     "end_time": "2020-11-02T19:09:43.667894",
     "exception": false,
     "start_time": "2020-11-02T19:09:43.642280",
     "status": "completed"
    },
    "tags": []
   },
   "outputs": [
    {
     "data": {
      "text/plain": [
       "{'updated': '02-Nov-20',\n",
       " 'since': '01-Nov-20',\n",
       " 'Cases': 8266196,\n",
       " 'Deaths': 123142,\n",
       " 'Recovered': 7601262,\n",
       " 'PCases': 8228604,\n",
       " 'PDeaths': 122645,\n",
       " 'PRecovered': 7542738,\n",
       " 'Cases (+)': 37592,\n",
       " 'Deaths (+)': 497,\n",
       " 'Recovered (+)': 58524}"
      ]
     },
     "execution_count": 8,
     "metadata": {},
     "output_type": "execute_result"
    }
   ],
   "source": [
    "#hide\n",
    "summary = {\n",
    "    'updated' : dt_today,\n",
    "    'since' : dt_yday,\n",
    "    'Cases' : df_today['TT'][0],\n",
    "    'Deaths' : df_today['TT'][1],\n",
    "    'Recovered' : df_today['TT'][2],\n",
    "    'PCases' : df_yday['TT'][0],\n",
    "    'PDeaths' : df_yday['TT'][1],\n",
    "    'PRecovered': df_yday['TT'][2],\n",
    "    'Cases (+)' : df_today['TT'][0] - df_yday['TT'][0],\n",
    "    'Deaths (+)' : df_today['TT'][1] - df_yday['TT'][1],\n",
    "    'Recovered (+)': df_today['TT'][2] - df_yday['TT'][2]\n",
    "}\n",
    "\n",
    "summary"
   ]
  },
  {
   "cell_type": "code",
   "execution_count": 9,
   "metadata": {
    "execution": {
     "iopub.execute_input": "2020-11-02T19:09:43.706675Z",
     "iopub.status.busy": "2020-11-02T19:09:43.705984Z",
     "iopub.status.idle": "2020-11-02T19:09:43.709014Z",
     "shell.execute_reply": "2020-11-02T19:09:43.708412Z"
    },
    "papermill": {
     "duration": 0.023317,
     "end_time": "2020-11-02T19:09:43.709275",
     "exception": false,
     "start_time": "2020-11-02T19:09:43.685958",
     "status": "completed"
    },
    "tags": []
   },
   "outputs": [],
   "source": [
    "#hide\n",
    "overview = '''\n",
    "<!-- #######  HTML!! #########-->\n",
    "<h1 style=\"color: #5e9ca0; text-align: center;\">India</h1>\n",
    "<p style=\"text-align: center;\">Last update: <strong>{update}</strong></p>\n",
    "<p style=\"text-align: center;\">Confirmed cases:</p>\n",
    "<p style=\"text-align: center;font-size:24px;\">{cases} (<span style=\"color: #ff0000;\">+{new}</span>)</p>\n",
    "<p style=\"text-align: center;\">Confirmed deaths:</p>\n",
    "<p style=\"text-align: center;font-size:24px;\">{deaths} (<span style=\"color: #ff0000;\">+{dnew}</span>)</p>\n",
    "<p style=\"text-align: center;\">Recovered cases:</p>\n",
    "<p style=\"text-align: center;font-size:24px;\">{recovered} (<span style=\"color: #00ff00;\">+{rnew}</span>)</p>\n",
    "'''"
   ]
  },
  {
   "cell_type": "code",
   "execution_count": 10,
   "metadata": {
    "execution": {
     "iopub.execute_input": "2020-11-02T19:09:43.744673Z",
     "iopub.status.busy": "2020-11-02T19:09:43.744061Z",
     "iopub.status.idle": "2020-11-02T19:09:43.746851Z",
     "shell.execute_reply": "2020-11-02T19:09:43.747300Z"
    },
    "papermill": {
     "duration": 0.023961,
     "end_time": "2020-11-02T19:09:43.747432",
     "exception": false,
     "start_time": "2020-11-02T19:09:43.723471",
     "status": "completed"
    },
    "tags": []
   },
   "outputs": [
    {
     "data": {
      "text/html": [
       "\n",
       "<!-- #######  HTML!! #########-->\n",
       "<h1 style=\"color: #5e9ca0; text-align: center;\">India</h1>\n",
       "<p style=\"text-align: center;\">Last update: <strong>02-Nov-20</strong></p>\n",
       "<p style=\"text-align: center;\">Confirmed cases:</p>\n",
       "<p style=\"text-align: center;font-size:24px;\">8266196 (<span style=\"color: #ff0000;\">+37592</span>)</p>\n",
       "<p style=\"text-align: center;\">Confirmed deaths:</p>\n",
       "<p style=\"text-align: center;font-size:24px;\">123142 (<span style=\"color: #ff0000;\">+497</span>)</p>\n",
       "<p style=\"text-align: center;\">Recovered cases:</p>\n",
       "<p style=\"text-align: center;font-size:24px;\">7601262 (<span style=\"color: #00ff00;\">+58524</span>)</p>\n"
      ],
      "text/plain": [
       "<IPython.core.display.HTML object>"
      ]
     },
     "metadata": {},
     "output_type": "display_data"
    }
   ],
   "source": [
    "#hide_input\n",
    "# Fill the above HTML with the information from the summary dictionary\n",
    "\n",
    "update = summary['updated']\n",
    "cases = summary['Cases']\n",
    "new = summary['Cases (+)']\n",
    "deaths = summary['Deaths']\n",
    "dnew = summary['Deaths (+)']\n",
    "recovered = summary['Recovered']\n",
    "rnew = summary['Recovered (+)']\n",
    "\n",
    "html = HTML(overview.format(update=update, cases=cases,new=new,deaths=deaths,dnew=dnew, recovered=recovered, rnew=rnew))\n",
    "\n",
    "display(html)"
   ]
  },
  {
   "cell_type": "code",
   "execution_count": 11,
   "metadata": {
    "execution": {
     "iopub.execute_input": "2020-11-02T19:09:43.787642Z",
     "iopub.status.busy": "2020-11-02T19:09:43.786957Z",
     "iopub.status.idle": "2020-11-02T19:09:43.790223Z",
     "shell.execute_reply": "2020-11-02T19:09:43.789764Z"
    },
    "papermill": {
     "duration": 0.028505,
     "end_time": "2020-11-02T19:09:43.790336",
     "exception": false,
     "start_time": "2020-11-02T19:09:43.761831",
     "status": "completed"
    },
    "tags": []
   },
   "outputs": [],
   "source": [
    "#hide\n",
    "df_cases = df[df['Status'] == 'Confirmed'].copy()\n",
    "df_cases.drop(columns = ['Status'], inplace=True)\n",
    "df_deaths = df[df['Status'] == 'Deceased'].copy()\n",
    "df_deaths.drop(columns = ['Status'], inplace=True)\n",
    "df_recovered = df[df['Status'] == 'Recovered'].copy()\n",
    "df_recovered.drop(columns = ['Status'], inplace=True)"
   ]
  },
  {
   "cell_type": "markdown",
   "metadata": {
    "papermill": {
     "duration": 0.014479,
     "end_time": "2020-11-02T19:09:43.820748",
     "exception": false,
     "start_time": "2020-11-02T19:09:43.806269",
     "status": "completed"
    },
    "tags": []
   },
   "source": [
    "Plot for India:"
   ]
  },
  {
   "cell_type": "code",
   "execution_count": 12,
   "metadata": {
    "execution": {
     "iopub.execute_input": "2020-11-02T19:09:43.871270Z",
     "iopub.status.busy": "2020-11-02T19:09:43.870695Z",
     "iopub.status.idle": "2020-11-02T19:09:44.150145Z",
     "shell.execute_reply": "2020-11-02T19:09:44.149635Z"
    },
    "papermill": {
     "duration": 0.314917,
     "end_time": "2020-11-02T19:09:44.150290",
     "exception": false,
     "start_time": "2020-11-02T19:09:43.835373",
     "status": "completed"
    },
    "tags": []
   },
   "outputs": [
    {
     "data": {
      "image/png": "[encoded data removed]",
      "text/plain": [
       "<Figure size 1296x432 with 1 Axes>"
      ]
     },
     "metadata": {
      "needs_background": "light"
     },
     "output_type": "display_data"
    }
   ],
   "source": [
    "#hide_input\n",
    "plt.figure(figsize = (18,6))\n",
    "plt.plot(df_cases['Date'], df_cases['TT'],'.-', alpha=0.7, color='b', label='Confirmed cases')\n",
    "plt.plot(df_recovered['Date'], df_recovered['TT'],'.-', alpha=0.7, color='g', label='Recovered')\n",
    "plt.plot(df_deaths['Date'], df_deaths['TT'],'.-', alpha=0.7, color='r', label='Deceased')\n",
    "plt.legend()\n",
    "plt.title(\"Cases per day in India\")\n",
    "plt.xticks(ticks=' ')\n",
    "plt.xlabel(f'{df_cases.iloc[0][0]} to {df_cases.iloc[-1][0]}')\n",
    "plt.ylabel('No. of cases');"
   ]
  },
  {
   "cell_type": "markdown",
   "metadata": {
    "papermill": {
     "duration": 0.023399,
     "end_time": "2020-11-02T19:09:44.190705",
     "exception": false,
     "start_time": "2020-11-02T19:09:44.167306",
     "status": "completed"
    },
    "tags": []
   },
   "source": [
    "Plots for the states with highest number of cases:"
   ]
  },
  {
   "cell_type": "markdown",
   "metadata": {
    "tags": [
     "papermill-error-cell-tag"
    ]
   },
   "source": [
    "<span id=\"papermill-error-cell\" style=\"color:red; font-family:Helvetica Neue, Helvetica, Arial, sans-serif; font-size:2em;\">Execution using papermill encountered an exception here and stopped:</span>"
   ]
  },
  {
   "cell_type": "code",
   "execution_count": 13,
   "metadata": {
    "execution": {
     "iopub.execute_input": "2020-11-02T19:09:44.234742Z",
     "iopub.status.busy": "2020-11-02T19:09:44.234153Z",
     "iopub.status.idle": "2020-11-02T19:09:44.348309Z",
     "shell.execute_reply": "2020-11-02T19:09:44.347567Z"
    },
    "papermill": {
     "duration": 0.140597,
     "end_time": "2020-11-02T19:09:44.348530",
     "exception": true,
     "start_time": "2020-11-02T19:09:44.207933",
     "status": "failed"
    },
    "tags": []
   },
   "outputs": [
    {
     "ename": "TypeError",
     "evalue": "'>' not supported between instances of 'numpy.ndarray' and 'str'",
     "output_type": "error",
     "traceback": [
      "\u001b[0;31m---------------------------------------------------------------------------\u001b[0m",
      "\u001b[0;31mTypeError\u001b[0m                                 Traceback (most recent call last)",
      "\u001b[0;32m<ipython-input-13-9711672c0a2c>\u001b[0m in \u001b[0;36m<module>\u001b[0;34m\u001b[0m\n\u001b[1;32m      1\u001b[0m \u001b[0;31m#hide_input\u001b[0m\u001b[0;34m\u001b[0m\u001b[0;34m\u001b[0m\u001b[0;34m\u001b[0m\u001b[0m\n\u001b[0;32m----> 2\u001b[0;31m \u001b[0mtop_3\u001b[0m \u001b[0;34m=\u001b[0m \u001b[0msorted\u001b[0m\u001b[0;34m(\u001b[0m\u001b[0mdf_cases\u001b[0m\u001b[0;34m.\u001b[0m\u001b[0msum\u001b[0m\u001b[0;34m(\u001b[0m\u001b[0;34m)\u001b[0m\u001b[0;34m.\u001b[0m\u001b[0mvalues\u001b[0m\u001b[0;34m[\u001b[0m\u001b[0;36m1\u001b[0m\u001b[0;34m:\u001b[0m\u001b[0;34m]\u001b[0m\u001b[0;34m,\u001b[0m \u001b[0mreverse\u001b[0m\u001b[0;34m=\u001b[0m\u001b[0;32mTrue\u001b[0m\u001b[0;34m)\u001b[0m\u001b[0;34m[\u001b[0m\u001b[0;36m1\u001b[0m\u001b[0;34m:\u001b[0m\u001b[0;36m4\u001b[0m\u001b[0;34m]\u001b[0m\u001b[0;34m\u001b[0m\u001b[0;34m\u001b[0m\u001b[0m\n\u001b[0m\u001b[1;32m      3\u001b[0m \u001b[0mtop3_states\u001b[0m\u001b[0;34m=\u001b[0m\u001b[0;34m[\u001b[0m\u001b[0;34m]\u001b[0m\u001b[0;34m\u001b[0m\u001b[0;34m\u001b[0m\u001b[0m\n\u001b[1;32m      4\u001b[0m \u001b[0;32mfor\u001b[0m \u001b[0mi\u001b[0m \u001b[0;32min\u001b[0m \u001b[0mtop_3\u001b[0m\u001b[0;34m:\u001b[0m\u001b[0;34m\u001b[0m\u001b[0;34m\u001b[0m\u001b[0m\n\u001b[1;32m      5\u001b[0m     \u001b[0mtop3_states\u001b[0m\u001b[0;34m.\u001b[0m\u001b[0mappend\u001b[0m\u001b[0;34m(\u001b[0m\u001b[0mdf_cases\u001b[0m\u001b[0;34m.\u001b[0m\u001b[0msum\u001b[0m\u001b[0;34m(\u001b[0m\u001b[0;34m)\u001b[0m\u001b[0;34m[\u001b[0m\u001b[0mdf_cases\u001b[0m\u001b[0;34m.\u001b[0m\u001b[0msum\u001b[0m\u001b[0;34m(\u001b[0m\u001b[0;34m)\u001b[0m \u001b[0;34m==\u001b[0m \u001b[0mi\u001b[0m\u001b[0;34m]\u001b[0m\u001b[0;34m.\u001b[0m\u001b[0mindex\u001b[0m\u001b[0;34m)\u001b[0m\u001b[0;34m\u001b[0m\u001b[0;34m\u001b[0m\u001b[0m\n",
      "\u001b[0;31mTypeError\u001b[0m: '>' not supported between instances of 'numpy.ndarray' and 'str'"
     ]
    }
   ],
   "source": [
    "#hide_input\n",
    "top_3 = sorted(df_cases.sum().values[1:], reverse=True)[1:4]\n",
    "top3_states=[]\n",
    "for i in top_3:\n",
    "    top3_states.append(df_cases.sum()[df_cases.sum() == i].index)\n",
    "\n",
    "\n",
    "fig, ax = plt.subplots(1,3,figsize = (21,6))\n",
    "for i in range(3):\n",
    "    state = top3_states[i].values[0]\n",
    "    ax[i].plot(df_cases['Date'], df_cases[state],'.-', color='b', alpha=0.7)\n",
    "    ax[i].plot(df_deaths['Date'], df_deaths[state],'.-', color='r', alpha=0.7)\n",
    "    ax[i].plot(df_recovered['Date'], df_recovered[state],'.-', color='g', alpha=0.7)\n",
    "    \n",
    "    ax[i].set_title(f\"Cases in {state}\")\n",
    "    ax[i].set_xticks(ticks=' ')\n",
    "    ax[i].set_xlabel(f'{df_cases.iloc[0][0]} to {df_cases.iloc[-1][0]}')\n",
    "    ax[i].set_ylabel('No. of cases');"
   ]
  },
  {
   "cell_type": "code",
   "execution_count": null,
   "metadata": {
    "papermill": {
     "duration": null,
     "end_time": null,
     "exception": null,
     "start_time": null,
     "status": "pending"
    },
    "tags": []
   },
   "outputs": [],
   "source": []
  },
  {
   "cell_type": "code",
   "execution_count": null,
   "metadata": {
    "papermill": {
     "duration": null,
     "end_time": null,
     "exception": null,
     "start_time": null,
     "status": "pending"
    },
    "tags": []
   },
   "outputs": [],
   "source": []
  },
  {
   "cell_type": "code",
   "execution_count": null,
   "metadata": {
    "papermill": {
     "duration": null,
     "end_time": null,
     "exception": null,
     "start_time": null,
     "status": "pending"
    },
    "tags": []
   },
   "outputs": [],
   "source": []
  }
 ],
 "metadata": {
  "kernelspec": {
   "display_name": "Python 3",
   "language": "python",
   "name": "python3"
  },
  "language_info": {
   "codemirror_mode": {
    "name": "ipython",
    "version": 3
   },
   "file_extension": ".py",
   "mimetype": "text/x-python",
   "name": "python",
   "nbconvert_exporter": "python",
   "pygments_lexer": "ipython3",
   "version": "3.6.12"
  },
  "papermill": {
   "duration": 3.212391,
   "end_time": "2020-11-02T19:09:44.754455",
   "environment_variables": {},
   "exception": true,
   "input_path": "2020-08-09-DailyUpdate.ipynb",
   "output_path": "2020-08-09-DailyUpdate.ipynb",
   "parameters": {},
   "start_time": "2020-11-02T19:09:41.542064",
   "version": "2.1.2"
  }
 },
 "nbformat": 4,
 "nbformat_minor": 4
}