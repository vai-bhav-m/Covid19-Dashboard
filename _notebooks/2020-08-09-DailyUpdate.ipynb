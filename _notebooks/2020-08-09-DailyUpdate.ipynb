{
 "cells": [
  {
   "cell_type": "markdown",
   "metadata": {
    "papermill": {
     "duration": 0.017361,
     "end_time": "2020-09-03T19:10:26.531293",
     "exception": false,
     "start_time": "2020-09-03T19:10:26.513932",
     "status": "completed"
    },
    "tags": []
   },
   "source": [
    "# COVID-19 India Daily updates\n",
    "> Tracking coronavirus total cases, deaths and new cases in India on a daily basis\n",
    "\n",
    "- author: Vaibhav Mahapatra"
   ]
  },
  {
   "cell_type": "code",
   "execution_count": 1,
   "metadata": {
    "execution": {
     "iopub.execute_input": "2020-09-03T19:10:26.565347Z",
     "iopub.status.busy": "2020-09-03T19:10:26.564638Z",
     "iopub.status.idle": "2020-09-03T19:10:27.165753Z",
     "shell.execute_reply": "2020-09-03T19:10:27.164851Z"
    },
    "papermill": {
     "duration": 0.621014,
     "end_time": "2020-09-03T19:10:27.165905",
     "exception": false,
     "start_time": "2020-09-03T19:10:26.544891",
     "status": "completed"
    },
    "tags": []
   },
   "outputs": [],
   "source": [
    "#hide\n",
    "\n",
    "## Import essential packages below\n",
    "\n",
    "import pandas as pd\n",
    "import numpy as np\n",
    "import requests\n",
    "import json\n",
    "import matplotlib.pyplot as plt\n",
    "import matplotlib.dates as mdates\n",
    "import matplotlib as mpl\n",
    "from IPython.core.display import display,HTML\n",
    "%matplotlib inline"
   ]
  },
  {
   "cell_type": "code",
   "execution_count": 2,
   "metadata": {
    "execution": {
     "iopub.execute_input": "2020-09-03T19:10:27.195985Z",
     "iopub.status.busy": "2020-09-03T19:10:27.195346Z",
     "iopub.status.idle": "2020-09-03T19:10:27.269409Z",
     "shell.execute_reply": "2020-09-03T19:10:27.268707Z"
    },
    "papermill": {
     "duration": 0.090439,
     "end_time": "2020-09-03T19:10:27.269550",
     "exception": false,
     "start_time": "2020-09-03T19:10:27.179111",
     "status": "completed"
    },
    "tags": []
   },
   "outputs": [
    {
     "data": {
      "text/plain": [
       "(522, 41)"
      ]
     },
     "execution_count": 2,
     "metadata": {},
     "output_type": "execute_result"
    }
   ],
   "source": [
    "#hide\n",
    "url = 'https://api.covid19india.org/csv/latest/state_wise_daily.csv'\n",
    "df = pd.read_csv(url)\n",
    "df.shape"
   ]
  },
  {
   "cell_type": "code",
   "execution_count": 3,
   "metadata": {
    "execution": {
     "iopub.execute_input": "2020-09-03T19:10:27.354243Z",
     "iopub.status.busy": "2020-09-03T19:10:27.351822Z",
     "iopub.status.idle": "2020-09-03T19:10:27.363677Z",
     "shell.execute_reply": "2020-09-03T19:10:27.364630Z"
    },
    "papermill": {
     "duration": 0.081171,
     "end_time": "2020-09-03T19:10:27.364804",
     "exception": false,
     "start_time": "2020-09-03T19:10:27.283633",
     "status": "completed"
    },
    "tags": []
   },
   "outputs": [
    {
     "data": {
      "text/html": [
       "<div>\n",
       "<style scoped>\n",
       "    .dataframe tbody tr th:only-of-type {\n",
       "        vertical-align: middle;\n",
       "    }\n",
       "\n",
       "    .dataframe tbody tr th {\n",
       "        vertical-align: top;\n",
       "    }\n",
       "\n",
       "    .dataframe thead th {\n",
       "        text-align: right;\n",
       "    }\n",
       "</style>\n",
       "<table border=\"1\" class=\"dataframe\">\n",
       "  <thead>\n",
       "    <tr style=\"text-align: right;\">\n",
       "      <th></th>\n",
       "      <th>Date</th>\n",
       "      <th>Status</th>\n",
       "      <th>TT</th>\n",
       "      <th>AN</th>\n",
       "      <th>AP</th>\n",
       "      <th>AR</th>\n",
       "      <th>AS</th>\n",
       "      <th>BR</th>\n",
       "      <th>CH</th>\n",
       "      <th>CT</th>\n",
       "      <th>...</th>\n",
       "      <th>PB</th>\n",
       "      <th>RJ</th>\n",
       "      <th>SK</th>\n",
       "      <th>TN</th>\n",
       "      <th>TG</th>\n",
       "      <th>TR</th>\n",
       "      <th>UP</th>\n",
       "      <th>UT</th>\n",
       "      <th>WB</th>\n",
       "      <th>UN</th>\n",
       "    </tr>\n",
       "  </thead>\n",
       "  <tbody>\n",
       "    <tr>\n",
       "      <th>516</th>\n",
       "      <td>02-Sep-20</td>\n",
       "      <td>Confirmed</td>\n",
       "      <td>82860</td>\n",
       "      <td>26</td>\n",
       "      <td>10392</td>\n",
       "      <td>148</td>\n",
       "      <td>3555</td>\n",
       "      <td>1969</td>\n",
       "      <td>239</td>\n",
       "      <td>2296</td>\n",
       "      <td>...</td>\n",
       "      <td>1481</td>\n",
       "      <td>1511</td>\n",
       "      <td>34</td>\n",
       "      <td>5990</td>\n",
       "      <td>2892</td>\n",
       "      <td>566</td>\n",
       "      <td>5682</td>\n",
       "      <td>836</td>\n",
       "      <td>2976</td>\n",
       "      <td>0</td>\n",
       "    </tr>\n",
       "    <tr>\n",
       "      <th>517</th>\n",
       "      <td>02-Sep-20</td>\n",
       "      <td>Recovered</td>\n",
       "      <td>67874</td>\n",
       "      <td>44</td>\n",
       "      <td>8454</td>\n",
       "      <td>96</td>\n",
       "      <td>1834</td>\n",
       "      <td>1803</td>\n",
       "      <td>119</td>\n",
       "      <td>653</td>\n",
       "      <td>...</td>\n",
       "      <td>1595</td>\n",
       "      <td>2550</td>\n",
       "      <td>23</td>\n",
       "      <td>5891</td>\n",
       "      <td>2240</td>\n",
       "      <td>193</td>\n",
       "      <td>4687</td>\n",
       "      <td>425</td>\n",
       "      <td>3297</td>\n",
       "      <td>0</td>\n",
       "    </tr>\n",
       "    <tr>\n",
       "      <th>518</th>\n",
       "      <td>02-Sep-20</td>\n",
       "      <td>Deceased</td>\n",
       "      <td>1026</td>\n",
       "      <td>1</td>\n",
       "      <td>72</td>\n",
       "      <td>0</td>\n",
       "      <td>8</td>\n",
       "      <td>13</td>\n",
       "      <td>2</td>\n",
       "      <td>12</td>\n",
       "      <td>...</td>\n",
       "      <td>106</td>\n",
       "      <td>12</td>\n",
       "      <td>0</td>\n",
       "      <td>98</td>\n",
       "      <td>10</td>\n",
       "      <td>5</td>\n",
       "      <td>74</td>\n",
       "      <td>11</td>\n",
       "      <td>56</td>\n",
       "      <td>0</td>\n",
       "    </tr>\n",
       "    <tr>\n",
       "      <th>519</th>\n",
       "      <td>03-Sep-20</td>\n",
       "      <td>Confirmed</td>\n",
       "      <td>82172</td>\n",
       "      <td>37</td>\n",
       "      <td>10199</td>\n",
       "      <td>214</td>\n",
       "      <td>3054</td>\n",
       "      <td>1922</td>\n",
       "      <td>276</td>\n",
       "      <td>2284</td>\n",
       "      <td>...</td>\n",
       "      <td>1526</td>\n",
       "      <td>1553</td>\n",
       "      <td>34</td>\n",
       "      <td>5892</td>\n",
       "      <td>2817</td>\n",
       "      <td>590</td>\n",
       "      <td>5662</td>\n",
       "      <td>946</td>\n",
       "      <td>2984</td>\n",
       "      <td>0</td>\n",
       "    </tr>\n",
       "    <tr>\n",
       "      <th>520</th>\n",
       "      <td>03-Sep-20</td>\n",
       "      <td>Recovered</td>\n",
       "      <td>63259</td>\n",
       "      <td>65</td>\n",
       "      <td>9499</td>\n",
       "      <td>92</td>\n",
       "      <td>0</td>\n",
       "      <td>1572</td>\n",
       "      <td>213</td>\n",
       "      <td>730</td>\n",
       "      <td>...</td>\n",
       "      <td>1529</td>\n",
       "      <td>546</td>\n",
       "      <td>44</td>\n",
       "      <td>6110</td>\n",
       "      <td>2611</td>\n",
       "      <td>186</td>\n",
       "      <td>4448</td>\n",
       "      <td>508</td>\n",
       "      <td>3335</td>\n",
       "      <td>0</td>\n",
       "    </tr>\n",
       "    <tr>\n",
       "      <th>521</th>\n",
       "      <td>03-Sep-20</td>\n",
       "      <td>Deceased</td>\n",
       "      <td>1066</td>\n",
       "      <td>1</td>\n",
       "      <td>75</td>\n",
       "      <td>1</td>\n",
       "      <td>7</td>\n",
       "      <td>6</td>\n",
       "      <td>4</td>\n",
       "      <td>16</td>\n",
       "      <td>...</td>\n",
       "      <td>72</td>\n",
       "      <td>14</td>\n",
       "      <td>1</td>\n",
       "      <td>92</td>\n",
       "      <td>10</td>\n",
       "      <td>8</td>\n",
       "      <td>75</td>\n",
       "      <td>9</td>\n",
       "      <td>55</td>\n",
       "      <td>0</td>\n",
       "    </tr>\n",
       "  </tbody>\n",
       "</table>\n",
       "<p>6 rows × 41 columns</p>\n",
       "</div>"
      ],
      "text/plain": [
       "          Date     Status     TT  AN     AP   AR    AS    BR   CH    CT  ...  \\\n",
       "516  02-Sep-20  Confirmed  82860  26  10392  148  3555  1969  239  2296  ...   \n",
       "517  02-Sep-20  Recovered  67874  44   8454   96  1834  1803  119   653  ...   \n",
       "518  02-Sep-20   Deceased   1026   1     72    0     8    13    2    12  ...   \n",
       "519  03-Sep-20  Confirmed  82172  37  10199  214  3054  1922  276  2284  ...   \n",
       "520  03-Sep-20  Recovered  63259  65   9499   92     0  1572  213   730  ...   \n",
       "521  03-Sep-20   Deceased   1066   1     75    1     7     6    4    16  ...   \n",
       "\n",
       "       PB    RJ  SK    TN    TG   TR    UP   UT    WB  UN  \n",
       "516  1481  1511  34  5990  2892  566  5682  836  2976   0  \n",
       "517  1595  2550  23  5891  2240  193  4687  425  3297   0  \n",
       "518   106    12   0    98    10    5    74   11    56   0  \n",
       "519  1526  1553  34  5892  2817  590  5662  946  2984   0  \n",
       "520  1529   546  44  6110  2611  186  4448  508  3335   0  \n",
       "521    72    14   1    92    10    8    75    9    55   0  \n",
       "\n",
       "[6 rows x 41 columns]"
      ]
     },
     "execution_count": 3,
     "metadata": {},
     "output_type": "execute_result"
    }
   ],
   "source": [
    "#hide\n",
    "df.tail(6)"
   ]
  },
  {
   "cell_type": "code",
   "execution_count": 4,
   "metadata": {
    "execution": {
     "iopub.execute_input": "2020-09-03T19:10:27.397129Z",
     "iopub.status.busy": "2020-09-03T19:10:27.396520Z",
     "iopub.status.idle": "2020-09-03T19:10:27.399981Z",
     "shell.execute_reply": "2020-09-03T19:10:27.399454Z"
    },
    "papermill": {
     "duration": 0.021666,
     "end_time": "2020-09-03T19:10:27.400101",
     "exception": false,
     "start_time": "2020-09-03T19:10:27.378435",
     "status": "completed"
    },
    "tags": []
   },
   "outputs": [
    {
     "data": {
      "text/plain": [
       "('03-Sep-20', '02-Sep-20')"
      ]
     },
     "execution_count": 4,
     "metadata": {},
     "output_type": "execute_result"
    }
   ],
   "source": [
    "#hide\n",
    "dt_today = df.iloc[-1][0]\n",
    "dt_yday = df.iloc[-4][0]\n",
    "dt_today, dt_yday"
   ]
  },
  {
   "cell_type": "code",
   "execution_count": 5,
   "metadata": {
    "execution": {
     "iopub.execute_input": "2020-09-03T19:10:27.434881Z",
     "iopub.status.busy": "2020-09-03T19:10:27.434229Z",
     "iopub.status.idle": "2020-09-03T19:10:27.440389Z",
     "shell.execute_reply": "2020-09-03T19:10:27.441003Z"
    },
    "papermill": {
     "duration": 0.02635,
     "end_time": "2020-09-03T19:10:27.441151",
     "exception": false,
     "start_time": "2020-09-03T19:10:27.414801",
     "status": "completed"
    },
    "tags": []
   },
   "outputs": [],
   "source": [
    "#hide\n",
    "df_today = df.groupby('Status').sum()\n",
    "df_yday = df.iloc[:-3][:].groupby('Status').sum()"
   ]
  },
  {
   "cell_type": "code",
   "execution_count": 6,
   "metadata": {
    "execution": {
     "iopub.execute_input": "2020-09-03T19:10:27.484379Z",
     "iopub.status.busy": "2020-09-03T19:10:27.483757Z",
     "iopub.status.idle": "2020-09-03T19:10:27.487047Z",
     "shell.execute_reply": "2020-09-03T19:10:27.486534Z"
    },
    "papermill": {
     "duration": 0.032099,
     "end_time": "2020-09-03T19:10:27.487175",
     "exception": false,
     "start_time": "2020-09-03T19:10:27.455076",
     "status": "completed"
    },
    "tags": []
   },
   "outputs": [
    {
     "data": {
      "text/html": [
       "<div>\n",
       "<style scoped>\n",
       "    .dataframe tbody tr th:only-of-type {\n",
       "        vertical-align: middle;\n",
       "    }\n",
       "\n",
       "    .dataframe tbody tr th {\n",
       "        vertical-align: top;\n",
       "    }\n",
       "\n",
       "    .dataframe thead th {\n",
       "        text-align: right;\n",
       "    }\n",
       "</style>\n",
       "<table border=\"1\" class=\"dataframe\">\n",
       "  <thead>\n",
       "    <tr style=\"text-align: right;\">\n",
       "      <th></th>\n",
       "      <th>TT</th>\n",
       "      <th>AN</th>\n",
       "      <th>AP</th>\n",
       "      <th>AR</th>\n",
       "      <th>AS</th>\n",
       "      <th>BR</th>\n",
       "      <th>CH</th>\n",
       "      <th>CT</th>\n",
       "      <th>DN</th>\n",
       "      <th>DD</th>\n",
       "      <th>...</th>\n",
       "      <th>PB</th>\n",
       "      <th>RJ</th>\n",
       "      <th>SK</th>\n",
       "      <th>TN</th>\n",
       "      <th>TG</th>\n",
       "      <th>TR</th>\n",
       "      <th>UP</th>\n",
       "      <th>UT</th>\n",
       "      <th>WB</th>\n",
       "      <th>UN</th>\n",
       "    </tr>\n",
       "    <tr>\n",
       "      <th>Status</th>\n",
       "      <th></th>\n",
       "      <th></th>\n",
       "      <th></th>\n",
       "      <th></th>\n",
       "      <th></th>\n",
       "      <th></th>\n",
       "      <th></th>\n",
       "      <th></th>\n",
       "      <th></th>\n",
       "      <th></th>\n",
       "      <th></th>\n",
       "      <th></th>\n",
       "      <th></th>\n",
       "      <th></th>\n",
       "      <th></th>\n",
       "      <th></th>\n",
       "      <th></th>\n",
       "      <th></th>\n",
       "      <th></th>\n",
       "      <th></th>\n",
       "      <th></th>\n",
       "    </tr>\n",
       "  </thead>\n",
       "  <tbody>\n",
       "    <tr>\n",
       "      <th>Confirmed</th>\n",
       "      <td>3930512</td>\n",
       "      <td>3219</td>\n",
       "      <td>465730</td>\n",
       "      <td>4574</td>\n",
       "      <td>118232</td>\n",
       "      <td>142156</td>\n",
       "      <td>5065</td>\n",
       "      <td>37967</td>\n",
       "      <td>2461</td>\n",
       "      <td>0</td>\n",
       "      <td>...</td>\n",
       "      <td>58515</td>\n",
       "      <td>86227</td>\n",
       "      <td>1751</td>\n",
       "      <td>445851</td>\n",
       "      <td>132896</td>\n",
       "      <td>13309</td>\n",
       "      <td>247101</td>\n",
       "      <td>22180</td>\n",
       "      <td>171681</td>\n",
       "      <td>0</td>\n",
       "    </tr>\n",
       "    <tr>\n",
       "      <th>Deceased</th>\n",
       "      <td>68563</td>\n",
       "      <td>48</td>\n",
       "      <td>4200</td>\n",
       "      <td>8</td>\n",
       "      <td>334</td>\n",
       "      <td>728</td>\n",
       "      <td>63</td>\n",
       "      <td>315</td>\n",
       "      <td>2</td>\n",
       "      <td>0</td>\n",
       "      <td>...</td>\n",
       "      <td>1690</td>\n",
       "      <td>1095</td>\n",
       "      <td>5</td>\n",
       "      <td>7608</td>\n",
       "      <td>856</td>\n",
       "      <td>126</td>\n",
       "      <td>3691</td>\n",
       "      <td>300</td>\n",
       "      <td>3394</td>\n",
       "      <td>0</td>\n",
       "    </tr>\n",
       "    <tr>\n",
       "      <th>Recovered</th>\n",
       "      <td>3030648</td>\n",
       "      <td>2814</td>\n",
       "      <td>357829</td>\n",
       "      <td>3167</td>\n",
       "      <td>88727</td>\n",
       "      <td>124976</td>\n",
       "      <td>2883</td>\n",
       "      <td>18950</td>\n",
       "      <td>2159</td>\n",
       "      <td>0</td>\n",
       "      <td>...</td>\n",
       "      <td>41271</td>\n",
       "      <td>71220</td>\n",
       "      <td>1305</td>\n",
       "      <td>386173</td>\n",
       "      <td>100013</td>\n",
       "      <td>8033</td>\n",
       "      <td>185812</td>\n",
       "      <td>14945</td>\n",
       "      <td>144248</td>\n",
       "      <td>0</td>\n",
       "    </tr>\n",
       "  </tbody>\n",
       "</table>\n",
       "<p>3 rows × 39 columns</p>\n",
       "</div>"
      ],
      "text/plain": [
       "                TT    AN      AP    AR      AS      BR    CH     CT    DN  DD  \\\n",
       "Status                                                                          \n",
       "Confirmed  3930512  3219  465730  4574  118232  142156  5065  37967  2461   0   \n",
       "Deceased     68563    48    4200     8     334     728    63    315     2   0   \n",
       "Recovered  3030648  2814  357829  3167   88727  124976  2883  18950  2159   0   \n",
       "\n",
       "           ...     PB     RJ    SK      TN      TG     TR      UP     UT  \\\n",
       "Status     ...                                                             \n",
       "Confirmed  ...  58515  86227  1751  445851  132896  13309  247101  22180   \n",
       "Deceased   ...   1690   1095     5    7608     856    126    3691    300   \n",
       "Recovered  ...  41271  71220  1305  386173  100013   8033  185812  14945   \n",
       "\n",
       "               WB  UN  \n",
       "Status                 \n",
       "Confirmed  171681   0  \n",
       "Deceased     3394   0  \n",
       "Recovered  144248   0  \n",
       "\n",
       "[3 rows x 39 columns]"
      ]
     },
     "execution_count": 6,
     "metadata": {},
     "output_type": "execute_result"
    }
   ],
   "source": [
    "#hide\n",
    "df_today"
   ]
  },
  {
   "cell_type": "code",
   "execution_count": 7,
   "metadata": {
    "execution": {
     "iopub.execute_input": "2020-09-03T19:10:27.540753Z",
     "iopub.status.busy": "2020-09-03T19:10:27.540001Z",
     "iopub.status.idle": "2020-09-03T19:10:27.543010Z",
     "shell.execute_reply": "2020-09-03T19:10:27.543615Z"
    },
    "papermill": {
     "duration": 0.036701,
     "end_time": "2020-09-03T19:10:27.543792",
     "exception": false,
     "start_time": "2020-09-03T19:10:27.507091",
     "status": "completed"
    },
    "tags": []
   },
   "outputs": [
    {
     "data": {
      "text/html": [
       "<div>\n",
       "<style scoped>\n",
       "    .dataframe tbody tr th:only-of-type {\n",
       "        vertical-align: middle;\n",
       "    }\n",
       "\n",
       "    .dataframe tbody tr th {\n",
       "        vertical-align: top;\n",
       "    }\n",
       "\n",
       "    .dataframe thead th {\n",
       "        text-align: right;\n",
       "    }\n",
       "</style>\n",
       "<table border=\"1\" class=\"dataframe\">\n",
       "  <thead>\n",
       "    <tr style=\"text-align: right;\">\n",
       "      <th></th>\n",
       "      <th>TT</th>\n",
       "      <th>AN</th>\n",
       "      <th>AP</th>\n",
       "      <th>AR</th>\n",
       "      <th>AS</th>\n",
       "      <th>BR</th>\n",
       "      <th>CH</th>\n",
       "      <th>CT</th>\n",
       "      <th>DN</th>\n",
       "      <th>DD</th>\n",
       "      <th>...</th>\n",
       "      <th>PB</th>\n",
       "      <th>RJ</th>\n",
       "      <th>SK</th>\n",
       "      <th>TN</th>\n",
       "      <th>TG</th>\n",
       "      <th>TR</th>\n",
       "      <th>UP</th>\n",
       "      <th>UT</th>\n",
       "      <th>WB</th>\n",
       "      <th>UN</th>\n",
       "    </tr>\n",
       "    <tr>\n",
       "      <th>Status</th>\n",
       "      <th></th>\n",
       "      <th></th>\n",
       "      <th></th>\n",
       "      <th></th>\n",
       "      <th></th>\n",
       "      <th></th>\n",
       "      <th></th>\n",
       "      <th></th>\n",
       "      <th></th>\n",
       "      <th></th>\n",
       "      <th></th>\n",
       "      <th></th>\n",
       "      <th></th>\n",
       "      <th></th>\n",
       "      <th></th>\n",
       "      <th></th>\n",
       "      <th></th>\n",
       "      <th></th>\n",
       "      <th></th>\n",
       "      <th></th>\n",
       "      <th></th>\n",
       "    </tr>\n",
       "  </thead>\n",
       "  <tbody>\n",
       "    <tr>\n",
       "      <th>Confirmed</th>\n",
       "      <td>3848340</td>\n",
       "      <td>3182</td>\n",
       "      <td>455531</td>\n",
       "      <td>4360</td>\n",
       "      <td>115178</td>\n",
       "      <td>140234</td>\n",
       "      <td>4789</td>\n",
       "      <td>35683</td>\n",
       "      <td>2432</td>\n",
       "      <td>0</td>\n",
       "      <td>...</td>\n",
       "      <td>56989</td>\n",
       "      <td>84674</td>\n",
       "      <td>1717</td>\n",
       "      <td>439959</td>\n",
       "      <td>130079</td>\n",
       "      <td>12719</td>\n",
       "      <td>241439</td>\n",
       "      <td>21234</td>\n",
       "      <td>168697</td>\n",
       "      <td>0</td>\n",
       "    </tr>\n",
       "    <tr>\n",
       "      <th>Deceased</th>\n",
       "      <td>67497</td>\n",
       "      <td>47</td>\n",
       "      <td>4125</td>\n",
       "      <td>7</td>\n",
       "      <td>327</td>\n",
       "      <td>722</td>\n",
       "      <td>59</td>\n",
       "      <td>299</td>\n",
       "      <td>2</td>\n",
       "      <td>0</td>\n",
       "      <td>...</td>\n",
       "      <td>1618</td>\n",
       "      <td>1081</td>\n",
       "      <td>4</td>\n",
       "      <td>7516</td>\n",
       "      <td>846</td>\n",
       "      <td>118</td>\n",
       "      <td>3616</td>\n",
       "      <td>291</td>\n",
       "      <td>3339</td>\n",
       "      <td>0</td>\n",
       "    </tr>\n",
       "    <tr>\n",
       "      <th>Recovered</th>\n",
       "      <td>2967389</td>\n",
       "      <td>2749</td>\n",
       "      <td>348330</td>\n",
       "      <td>3075</td>\n",
       "      <td>88727</td>\n",
       "      <td>123404</td>\n",
       "      <td>2670</td>\n",
       "      <td>18220</td>\n",
       "      <td>2139</td>\n",
       "      <td>0</td>\n",
       "      <td>...</td>\n",
       "      <td>39742</td>\n",
       "      <td>70674</td>\n",
       "      <td>1261</td>\n",
       "      <td>380063</td>\n",
       "      <td>97402</td>\n",
       "      <td>7847</td>\n",
       "      <td>181364</td>\n",
       "      <td>14437</td>\n",
       "      <td>140913</td>\n",
       "      <td>0</td>\n",
       "    </tr>\n",
       "  </tbody>\n",
       "</table>\n",
       "<p>3 rows × 39 columns</p>\n",
       "</div>"
      ],
      "text/plain": [
       "                TT    AN      AP    AR      AS      BR    CH     CT    DN  DD  \\\n",
       "Status                                                                          \n",
       "Confirmed  3848340  3182  455531  4360  115178  140234  4789  35683  2432   0   \n",
       "Deceased     67497    47    4125     7     327     722    59    299     2   0   \n",
       "Recovered  2967389  2749  348330  3075   88727  123404  2670  18220  2139   0   \n",
       "\n",
       "           ...     PB     RJ    SK      TN      TG     TR      UP     UT  \\\n",
       "Status     ...                                                             \n",
       "Confirmed  ...  56989  84674  1717  439959  130079  12719  241439  21234   \n",
       "Deceased   ...   1618   1081     4    7516     846    118    3616    291   \n",
       "Recovered  ...  39742  70674  1261  380063   97402   7847  181364  14437   \n",
       "\n",
       "               WB  UN  \n",
       "Status                 \n",
       "Confirmed  168697   0  \n",
       "Deceased     3339   0  \n",
       "Recovered  140913   0  \n",
       "\n",
       "[3 rows x 39 columns]"
      ]
     },
     "execution_count": 7,
     "metadata": {},
     "output_type": "execute_result"
    }
   ],
   "source": [
    "#hide\n",
    "df_yday.head()"
   ]
  },
  {
   "cell_type": "code",
   "execution_count": 8,
   "metadata": {
    "execution": {
     "iopub.execute_input": "2020-09-03T19:10:27.584324Z",
     "iopub.status.busy": "2020-09-03T19:10:27.583637Z",
     "iopub.status.idle": "2020-09-03T19:10:27.587053Z",
     "shell.execute_reply": "2020-09-03T19:10:27.586381Z"
    },
    "papermill": {
     "duration": 0.027576,
     "end_time": "2020-09-03T19:10:27.587193",
     "exception": false,
     "start_time": "2020-09-03T19:10:27.559617",
     "status": "completed"
    },
    "tags": []
   },
   "outputs": [
    {
     "data": {
      "text/plain": [
       "{'updated': '03-Sep-20',\n",
       " 'since': '02-Sep-20',\n",
       " 'Cases': 3930512,\n",
       " 'Deaths': 68563,\n",
       " 'Recovered': 3030648,\n",
       " 'PCases': 3848340,\n",
       " 'PDeaths': 67497,\n",
       " 'PRecovered': 2967389,\n",
       " 'Cases (+)': 82172,\n",
       " 'Deaths (+)': 1066,\n",
       " 'Recovered (+)': 63259}"
      ]
     },
     "execution_count": 8,
     "metadata": {},
     "output_type": "execute_result"
    }
   ],
   "source": [
    "#hide\n",
    "summary = {\n",
    "    'updated' : dt_today,\n",
    "    'since' : dt_yday,\n",
    "    'Cases' : df_today['TT'][0],\n",
    "    'Deaths' : df_today['TT'][1],\n",
    "    'Recovered' : df_today['TT'][2],\n",
    "    'PCases' : df_yday['TT'][0],\n",
    "    'PDeaths' : df_yday['TT'][1],\n",
    "    'PRecovered': df_yday['TT'][2],\n",
    "    'Cases (+)' : df_today['TT'][0] - df_yday['TT'][0],\n",
    "    'Deaths (+)' : df_today['TT'][1] - df_yday['TT'][1],\n",
    "    'Recovered (+)': df_today['TT'][2] - df_yday['TT'][2]\n",
    "}\n",
    "\n",
    "summary"
   ]
  },
  {
   "cell_type": "code",
   "execution_count": 9,
   "metadata": {
    "execution": {
     "iopub.execute_input": "2020-09-03T19:10:27.628232Z",
     "iopub.status.busy": "2020-09-03T19:10:27.627540Z",
     "iopub.status.idle": "2020-09-03T19:10:27.630017Z",
     "shell.execute_reply": "2020-09-03T19:10:27.629460Z"
    },
    "papermill": {
     "duration": 0.02531,
     "end_time": "2020-09-03T19:10:27.630161",
     "exception": false,
     "start_time": "2020-09-03T19:10:27.604851",
     "status": "completed"
    },
    "tags": []
   },
   "outputs": [],
   "source": [
    "#hide\n",
    "overview = '''\n",
    "<!-- #######  HTML!! #########-->\n",
    "<h1 style=\"color: #5e9ca0; text-align: center;\">India</h1>\n",
    "<p style=\"text-align: center;\">Last update: <strong>{update}</strong></p>\n",
    "<p style=\"text-align: center;\">Confirmed cases:</p>\n",
    "<p style=\"text-align: center;font-size:24px;\">{cases} (<span style=\"color: #ff0000;\">+{new}</span>)</p>\n",
    "<p style=\"text-align: center;\">Confirmed deaths:</p>\n",
    "<p style=\"text-align: center;font-size:24px;\">{deaths} (<span style=\"color: #ff0000;\">+{dnew}</span>)</p>\n",
    "<p style=\"text-align: center;\">Recovered cases:</p>\n",
    "<p style=\"text-align: center;font-size:24px;\">{recovered} (<span style=\"color: #00ff00;\">+{rnew}</span>)</p>\n",
    "'''"
   ]
  },
  {
   "cell_type": "code",
   "execution_count": 10,
   "metadata": {
    "execution": {
     "iopub.execute_input": "2020-09-03T19:10:27.668888Z",
     "iopub.status.busy": "2020-09-03T19:10:27.668185Z",
     "iopub.status.idle": "2020-09-03T19:10:27.671658Z",
     "shell.execute_reply": "2020-09-03T19:10:27.671013Z"
    },
    "papermill": {
     "duration": 0.025756,
     "end_time": "2020-09-03T19:10:27.671788",
     "exception": false,
     "start_time": "2020-09-03T19:10:27.646032",
     "status": "completed"
    },
    "tags": []
   },
   "outputs": [
    {
     "data": {
      "text/html": [
       "\n",
       "<!-- #######  HTML!! #########-->\n",
       "<h1 style=\"color: #5e9ca0; text-align: center;\">India</h1>\n",
       "<p style=\"text-align: center;\">Last update: <strong>03-Sep-20</strong></p>\n",
       "<p style=\"text-align: center;\">Confirmed cases:</p>\n",
       "<p style=\"text-align: center;font-size:24px;\">3930512 (<span style=\"color: #ff0000;\">+82172</span>)</p>\n",
       "<p style=\"text-align: center;\">Confirmed deaths:</p>\n",
       "<p style=\"text-align: center;font-size:24px;\">68563 (<span style=\"color: #ff0000;\">+1066</span>)</p>\n",
       "<p style=\"text-align: center;\">Recovered cases:</p>\n",
       "<p style=\"text-align: center;font-size:24px;\">3030648 (<span style=\"color: #00ff00;\">+63259</span>)</p>\n"
      ],
      "text/plain": [
       "<IPython.core.display.HTML object>"
      ]
     },
     "metadata": {},
     "output_type": "display_data"
    }
   ],
   "source": [
    "#hide_input\n",
    "# Fill the above HTML with the information from the summary dictionary\n",
    "\n",
    "update = summary['updated']\n",
    "cases = summary['Cases']\n",
    "new = summary['Cases (+)']\n",
    "deaths = summary['Deaths']\n",
    "dnew = summary['Deaths (+)']\n",
    "recovered = summary['Recovered']\n",
    "rnew = summary['Recovered (+)']\n",
    "\n",
    "html = HTML(overview.format(update=update, cases=cases,new=new,deaths=deaths,dnew=dnew, recovered=recovered, rnew=rnew))\n",
    "\n",
    "display(html)"
   ]
  },
  {
   "cell_type": "code",
   "execution_count": 11,
   "metadata": {
    "execution": {
     "iopub.execute_input": "2020-09-03T19:10:27.714780Z",
     "iopub.status.busy": "2020-09-03T19:10:27.714202Z",
     "iopub.status.idle": "2020-09-03T19:10:27.717968Z",
     "shell.execute_reply": "2020-09-03T19:10:27.718465Z"
    },
    "papermill": {
     "duration": 0.02998,
     "end_time": "2020-09-03T19:10:27.718589",
     "exception": false,
     "start_time": "2020-09-03T19:10:27.688609",
     "status": "completed"
    },
    "tags": []
   },
   "outputs": [],
   "source": [
    "#hide\n",
    "df_cases = df[df['Status'] == 'Confirmed'].copy()\n",
    "df_cases.drop(columns = ['Status'], inplace=True)\n",
    "df_deaths = df[df['Status'] == 'Deceased'].copy()\n",
    "df_deaths.drop(columns = ['Status'], inplace=True)\n",
    "df_recovered = df[df['Status'] == 'Recovered'].copy()\n",
    "df_recovered.drop(columns = ['Status'], inplace=True)"
   ]
  },
  {
   "cell_type": "markdown",
   "metadata": {
    "papermill": {
     "duration": 0.01538,
     "end_time": "2020-09-03T19:10:27.749114",
     "exception": false,
     "start_time": "2020-09-03T19:10:27.733734",
     "status": "completed"
    },
    "tags": []
   },
   "source": [
    "Plot for India:"
   ]
  },
  {
   "cell_type": "code",
   "execution_count": 12,
   "metadata": {
    "execution": {
     "iopub.execute_input": "2020-09-03T19:10:27.803378Z",
     "iopub.status.busy": "2020-09-03T19:10:27.802726Z",
     "iopub.status.idle": "2020-09-03T19:10:28.065554Z",
     "shell.execute_reply": "2020-09-03T19:10:28.064616Z"
    },
    "papermill": {
     "duration": 0.299773,
     "end_time": "2020-09-03T19:10:28.065706",
     "exception": false,
     "start_time": "2020-09-03T19:10:27.765933",
     "status": "completed"
    },
    "tags": []
   },
   "outputs": [
    {
     "data": {
      "image/png": "[encoded data removed]",
      "text/plain": [
       "<Figure size 1296x432 with 1 Axes>"
      ]
     },
     "metadata": {
      "needs_background": "light"
     },
     "output_type": "display_data"
    }
   ],
   "source": [
    "#hide_input\n",
    "plt.figure(figsize = (18,6))\n",
    "plt.plot(df_cases['Date'], df_cases['TT'],'.-', alpha=0.7, color='b', label='Confirmed cases')\n",
    "plt.plot(df_recovered['Date'], df_recovered['TT'],'.-', alpha=0.7, color='g', label='Recovered')\n",
    "plt.plot(df_deaths['Date'], df_deaths['TT'],'.-', alpha=0.7, color='r', label='Deceased')\n",
    "plt.legend()\n",
    "plt.title(\"Cases per day in India\")\n",
    "plt.xticks(ticks=' ')\n",
    "plt.xlabel(f'{df_cases.iloc[0][0]} to {df_cases.iloc[-1][0]}')\n",
    "plt.ylabel('No. of cases');"
   ]
  },
  {
   "cell_type": "markdown",
   "metadata": {
    "papermill": {
     "duration": 0.018283,
     "end_time": "2020-09-03T19:10:28.102371",
     "exception": false,
     "start_time": "2020-09-03T19:10:28.084088",
     "status": "completed"
    },
    "tags": []
   },
   "source": [
    "Plots for the states with highest number of cases:"
   ]
  },
  {
   "cell_type": "code",
   "execution_count": 13,
   "metadata": {
    "execution": {
     "iopub.execute_input": "2020-09-03T19:10:28.148579Z",
     "iopub.status.busy": "2020-09-03T19:10:28.147985Z",
     "iopub.status.idle": "2020-09-03T19:10:28.816432Z",
     "shell.execute_reply": "2020-09-03T19:10:28.815840Z"
    },
    "papermill": {
     "duration": 0.6945,
     "end_time": "2020-09-03T19:10:28.816577",
     "exception": false,
     "start_time": "2020-09-03T19:10:28.122077",
     "status": "completed"
    },
    "tags": []
   },
   "outputs": [
    {
     "data": {
      "image/png": "[encoded data removed]",
      "text/plain": [
       "<Figure size 1512x432 with 3 Axes>"
      ]
     },
     "metadata": {
      "needs_background": "light"
     },
     "output_type": "display_data"
    }
   ],
   "source": [
    "#hide_input\n",
    "top_3 = sorted(df_cases.sum().values[1:], reverse=True)[1:4]\n",
    "top3_states=[]\n",
    "for i in top_3:\n",
    "    top3_states.append(df_cases.sum()[df_cases.sum() == i].index)\n",
    "\n",
    "\n",
    "fig, ax = plt.subplots(1,3,figsize = (21,6))\n",
    "for i in range(3):\n",
    "    state = top3_states[i].values[0]\n",
    "    ax[i].plot(df_cases['Date'], df_cases[state],'.-', color='b', alpha=0.7)\n",
    "    ax[i].plot(df_deaths['Date'], df_deaths[state],'.-', color='r', alpha=0.7)\n",
    "    ax[i].plot(df_recovered['Date'], df_recovered[state],'.-', color='g', alpha=0.7)\n",
    "    \n",
    "    ax[i].set_title(f\"Cases in {state}\")\n",
    "    ax[i].set_xticks(ticks=' ')\n",
    "    ax[i].set_xlabel(f'{df_cases.iloc[0][0]} to {df_cases.iloc[-1][0]}')\n",
    "    ax[i].set_ylabel('No. of cases');"
   ]
  },
  {
   "cell_type": "code",
   "execution_count": null,
   "metadata": {
    "papermill": {
     "duration": 0.01975,
     "end_time": "2020-09-03T19:10:28.857646",
     "exception": false,
     "start_time": "2020-09-03T19:10:28.837896",
     "status": "completed"
    },
    "tags": []
   },
   "outputs": [],
   "source": []
  },
  {
   "cell_type": "code",
   "execution_count": null,
   "metadata": {
    "papermill": {
     "duration": 0.018633,
     "end_time": "2020-09-03T19:10:28.896612",
     "exception": false,
     "start_time": "2020-09-03T19:10:28.877979",
     "status": "completed"
    },
    "tags": []
   },
   "outputs": [],
   "source": []
  },
  {
   "cell_type": "code",
   "execution_count": null,
   "metadata": {
    "papermill": {
     "duration": 0.020022,
     "end_time": "2020-09-03T19:10:28.936957",
     "exception": false,
     "start_time": "2020-09-03T19:10:28.916935",
     "status": "completed"
    },
    "tags": []
   },
   "outputs": [],
   "source": []
  }
 ],
 "metadata": {
  "kernelspec": {
   "display_name": "Python 3",
   "language": "python",
   "name": "python3"
  },
  "language_info": {
   "codemirror_mode": {
    "name": "ipython",
    "version": 3
   },
   "file_extension": ".py",
   "mimetype": "text/x-python",
   "name": "python",
   "nbconvert_exporter": "python",
   "pygments_lexer": "ipython3",
   "version": "3.6.12"
  },
  "papermill": {
   "duration": 4.11187,
   "end_time": "2020-09-03T19:10:29.264713",
   "environment_variables": {},
   "exception": null,
   "input_path": "2020-08-09-DailyUpdate.ipynb",
   "output_path": "2020-08-09-DailyUpdate.ipynb",
   "parameters": {},
   "start_time": "2020-09-03T19:10:25.152843",
   "version": "2.1.2"
  }
 },
 "nbformat": 4,
 "nbformat_minor": 4
}