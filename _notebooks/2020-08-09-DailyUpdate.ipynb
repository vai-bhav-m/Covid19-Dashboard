{
 "cells": [
  {
   "cell_type": "markdown",
   "metadata": {
    "papermill": {
     "duration": 0.046473,
     "end_time": "2020-08-17T19:11:12.595504",
     "exception": false,
     "start_time": "2020-08-17T19:11:12.549031",
     "status": "completed"
    },
    "tags": []
   },
   "source": [
    "# COVID-19 India Daily updates\n",
    "> Tracking coronavirus total cases, deaths and new cases in India on a daily basis\n",
    "\n",
    "- author: Vaibhav Mahapatra"
   ]
  },
  {
   "cell_type": "code",
   "execution_count": 1,
   "metadata": {
    "execution": {
     "iopub.execute_input": "2020-08-17T19:11:12.825226Z",
     "iopub.status.busy": "2020-08-17T19:11:12.824496Z",
     "iopub.status.idle": "2020-08-17T19:11:13.394867Z",
     "shell.execute_reply": "2020-08-17T19:11:13.394113Z"
    },
    "papermill": {
     "duration": 0.694704,
     "end_time": "2020-08-17T19:11:13.395021",
     "exception": false,
     "start_time": "2020-08-17T19:11:12.700317",
     "status": "completed"
    },
    "tags": []
   },
   "outputs": [],
   "source": [
    "#hide\n",
    "\n",
    "## Import essential packages below\n",
    "\n",
    "import pandas as pd\n",
    "import numpy as np\n",
    "import requests\n",
    "import json\n",
    "import matplotlib.pyplot as plt\n",
    "import matplotlib.dates as mdates\n",
    "import matplotlib as mpl\n",
    "from IPython.core.display import display,HTML\n",
    "%matplotlib inline"
   ]
  },
  {
   "cell_type": "code",
   "execution_count": 2,
   "metadata": {
    "execution": {
     "iopub.execute_input": "2020-08-17T19:11:13.423021Z",
     "iopub.status.busy": "2020-08-17T19:11:13.422174Z",
     "iopub.status.idle": "2020-08-17T19:11:13.697725Z",
     "shell.execute_reply": "2020-08-17T19:11:13.698192Z"
    },
    "papermill": {
     "duration": 0.291855,
     "end_time": "2020-08-17T19:11:13.698330",
     "exception": false,
     "start_time": "2020-08-17T19:11:13.406475",
     "status": "completed"
    },
    "tags": []
   },
   "outputs": [
    {
     "data": {
      "text/plain": [
       "(471, 41)"
      ]
     },
     "execution_count": 2,
     "metadata": {},
     "output_type": "execute_result"
    }
   ],
   "source": [
    "#hide\n",
    "url = 'https://api.covid19india.org/csv/latest/state_wise_daily.csv'\n",
    "df = pd.read_csv(url)\n",
    "df.shape"
   ]
  },
  {
   "cell_type": "code",
   "execution_count": 3,
   "metadata": {
    "execution": {
     "iopub.execute_input": "2020-08-17T19:11:13.723970Z",
     "iopub.status.busy": "2020-08-17T19:11:13.723336Z",
     "iopub.status.idle": "2020-08-17T19:11:13.774174Z",
     "shell.execute_reply": "2020-08-17T19:11:13.774629Z"
    },
    "papermill": {
     "duration": 0.064949,
     "end_time": "2020-08-17T19:11:13.774777",
     "exception": false,
     "start_time": "2020-08-17T19:11:13.709828",
     "status": "completed"
    },
    "tags": []
   },
   "outputs": [
    {
     "data": {
      "text/html": [
       "<div>\n",
       "<style scoped>\n",
       "    .dataframe tbody tr th:only-of-type {\n",
       "        vertical-align: middle;\n",
       "    }\n",
       "\n",
       "    .dataframe tbody tr th {\n",
       "        vertical-align: top;\n",
       "    }\n",
       "\n",
       "    .dataframe thead th {\n",
       "        text-align: right;\n",
       "    }\n",
       "</style>\n",
       "<table border=\"1\" class=\"dataframe\">\n",
       "  <thead>\n",
       "    <tr style=\"text-align: right;\">\n",
       "      <th></th>\n",
       "      <th>Date</th>\n",
       "      <th>Status</th>\n",
       "      <th>TT</th>\n",
       "      <th>AN</th>\n",
       "      <th>AP</th>\n",
       "      <th>AR</th>\n",
       "      <th>AS</th>\n",
       "      <th>BR</th>\n",
       "      <th>CH</th>\n",
       "      <th>CT</th>\n",
       "      <th>...</th>\n",
       "      <th>PB</th>\n",
       "      <th>RJ</th>\n",
       "      <th>SK</th>\n",
       "      <th>TN</th>\n",
       "      <th>TG</th>\n",
       "      <th>TR</th>\n",
       "      <th>UP</th>\n",
       "      <th>UT</th>\n",
       "      <th>WB</th>\n",
       "      <th>UN</th>\n",
       "    </tr>\n",
       "  </thead>\n",
       "  <tbody>\n",
       "    <tr>\n",
       "      <th>465</th>\n",
       "      <td>16-Aug-20</td>\n",
       "      <td>Confirmed</td>\n",
       "      <td>58096</td>\n",
       "      <td>93</td>\n",
       "      <td>8012</td>\n",
       "      <td>43</td>\n",
       "      <td>1317</td>\n",
       "      <td>2187</td>\n",
       "      <td>93</td>\n",
       "      <td>576</td>\n",
       "      <td>...</td>\n",
       "      <td>1165</td>\n",
       "      <td>1317</td>\n",
       "      <td>19</td>\n",
       "      <td>5950</td>\n",
       "      <td>1102</td>\n",
       "      <td>127</td>\n",
       "      <td>4357</td>\n",
       "      <td>235</td>\n",
       "      <td>3066</td>\n",
       "      <td>0</td>\n",
       "    </tr>\n",
       "    <tr>\n",
       "      <th>466</th>\n",
       "      <td>16-Aug-20</td>\n",
       "      <td>Recovered</td>\n",
       "      <td>57404</td>\n",
       "      <td>98</td>\n",
       "      <td>10117</td>\n",
       "      <td>37</td>\n",
       "      <td>1929</td>\n",
       "      <td>3891</td>\n",
       "      <td>19</td>\n",
       "      <td>189</td>\n",
       "      <td>...</td>\n",
       "      <td>568</td>\n",
       "      <td>1350</td>\n",
       "      <td>12</td>\n",
       "      <td>6019</td>\n",
       "      <td>1930</td>\n",
       "      <td>63</td>\n",
       "      <td>4201</td>\n",
       "      <td>352</td>\n",
       "      <td>2935</td>\n",
       "      <td>0</td>\n",
       "    </tr>\n",
       "    <tr>\n",
       "      <th>467</th>\n",
       "      <td>16-Aug-20</td>\n",
       "      <td>Deceased</td>\n",
       "      <td>960</td>\n",
       "      <td>4</td>\n",
       "      <td>88</td>\n",
       "      <td>0</td>\n",
       "      <td>7</td>\n",
       "      <td>22</td>\n",
       "      <td>1</td>\n",
       "      <td>8</td>\n",
       "      <td>...</td>\n",
       "      <td>41</td>\n",
       "      <td>14</td>\n",
       "      <td>0</td>\n",
       "      <td>125</td>\n",
       "      <td>9</td>\n",
       "      <td>5</td>\n",
       "      <td>56</td>\n",
       "      <td>1</td>\n",
       "      <td>51</td>\n",
       "      <td>0</td>\n",
       "    </tr>\n",
       "    <tr>\n",
       "      <th>468</th>\n",
       "      <td>17-Aug-20</td>\n",
       "      <td>Confirmed</td>\n",
       "      <td>54163</td>\n",
       "      <td>46</td>\n",
       "      <td>6780</td>\n",
       "      <td>40</td>\n",
       "      <td>2792</td>\n",
       "      <td>2525</td>\n",
       "      <td>114</td>\n",
       "      <td>404</td>\n",
       "      <td>...</td>\n",
       "      <td>1489</td>\n",
       "      <td>1334</td>\n",
       "      <td>20</td>\n",
       "      <td>5890</td>\n",
       "      <td>894</td>\n",
       "      <td>143</td>\n",
       "      <td>3798</td>\n",
       "      <td>318</td>\n",
       "      <td>3080</td>\n",
       "      <td>0</td>\n",
       "    </tr>\n",
       "    <tr>\n",
       "      <th>469</th>\n",
       "      <td>17-Aug-20</td>\n",
       "      <td>Recovered</td>\n",
       "      <td>58172</td>\n",
       "      <td>99</td>\n",
       "      <td>7866</td>\n",
       "      <td>85</td>\n",
       "      <td>1519</td>\n",
       "      <td>4140</td>\n",
       "      <td>46</td>\n",
       "      <td>363</td>\n",
       "      <td>...</td>\n",
       "      <td>749</td>\n",
       "      <td>1050</td>\n",
       "      <td>28</td>\n",
       "      <td>5667</td>\n",
       "      <td>2006</td>\n",
       "      <td>135</td>\n",
       "      <td>4376</td>\n",
       "      <td>385</td>\n",
       "      <td>2932</td>\n",
       "      <td>0</td>\n",
       "    </tr>\n",
       "    <tr>\n",
       "      <th>470</th>\n",
       "      <td>17-Aug-20</td>\n",
       "      <td>Deceased</td>\n",
       "      <td>880</td>\n",
       "      <td>1</td>\n",
       "      <td>82</td>\n",
       "      <td>0</td>\n",
       "      <td>8</td>\n",
       "      <td>5</td>\n",
       "      <td>1</td>\n",
       "      <td>8</td>\n",
       "      <td>...</td>\n",
       "      <td>50</td>\n",
       "      <td>11</td>\n",
       "      <td>0</td>\n",
       "      <td>120</td>\n",
       "      <td>10</td>\n",
       "      <td>4</td>\n",
       "      <td>66</td>\n",
       "      <td>6</td>\n",
       "      <td>45</td>\n",
       "      <td>0</td>\n",
       "    </tr>\n",
       "  </tbody>\n",
       "</table>\n",
       "<p>6 rows × 41 columns</p>\n",
       "</div>"
      ],
      "text/plain": [
       "          Date     Status     TT  AN     AP  AR    AS    BR   CH   CT  ...  \\\n",
       "465  16-Aug-20  Confirmed  58096  93   8012  43  1317  2187   93  576  ...   \n",
       "466  16-Aug-20  Recovered  57404  98  10117  37  1929  3891   19  189  ...   \n",
       "467  16-Aug-20   Deceased    960   4     88   0     7    22    1    8  ...   \n",
       "468  17-Aug-20  Confirmed  54163  46   6780  40  2792  2525  114  404  ...   \n",
       "469  17-Aug-20  Recovered  58172  99   7866  85  1519  4140   46  363  ...   \n",
       "470  17-Aug-20   Deceased    880   1     82   0     8     5    1    8  ...   \n",
       "\n",
       "       PB    RJ  SK    TN    TG   TR    UP   UT    WB  UN  \n",
       "465  1165  1317  19  5950  1102  127  4357  235  3066   0  \n",
       "466   568  1350  12  6019  1930   63  4201  352  2935   0  \n",
       "467    41    14   0   125     9    5    56    1    51   0  \n",
       "468  1489  1334  20  5890   894  143  3798  318  3080   0  \n",
       "469   749  1050  28  5667  2006  135  4376  385  2932   0  \n",
       "470    50    11   0   120    10    4    66    6    45   0  \n",
       "\n",
       "[6 rows x 41 columns]"
      ]
     },
     "execution_count": 3,
     "metadata": {},
     "output_type": "execute_result"
    }
   ],
   "source": [
    "#hide\n",
    "df.tail(6)"
   ]
  },
  {
   "cell_type": "code",
   "execution_count": 4,
   "metadata": {
    "execution": {
     "iopub.execute_input": "2020-08-17T19:11:13.805281Z",
     "iopub.status.busy": "2020-08-17T19:11:13.804668Z",
     "iopub.status.idle": "2020-08-17T19:11:13.807912Z",
     "shell.execute_reply": "2020-08-17T19:11:13.807410Z"
    },
    "papermill": {
     "duration": 0.020525,
     "end_time": "2020-08-17T19:11:13.808033",
     "exception": false,
     "start_time": "2020-08-17T19:11:13.787508",
     "status": "completed"
    },
    "tags": []
   },
   "outputs": [
    {
     "data": {
      "text/plain": [
       "('17-Aug-20', '16-Aug-20')"
      ]
     },
     "execution_count": 4,
     "metadata": {},
     "output_type": "execute_result"
    }
   ],
   "source": [
    "#hide\n",
    "dt_today = df.iloc[-1][0]\n",
    "dt_yday = df.iloc[-4][0]\n",
    "dt_today, dt_yday"
   ]
  },
  {
   "cell_type": "code",
   "execution_count": 5,
   "metadata": {
    "execution": {
     "iopub.execute_input": "2020-08-17T19:11:13.840774Z",
     "iopub.status.busy": "2020-08-17T19:11:13.840168Z",
     "iopub.status.idle": "2020-08-17T19:11:13.846344Z",
     "shell.execute_reply": "2020-08-17T19:11:13.845590Z"
    },
    "papermill": {
     "duration": 0.025217,
     "end_time": "2020-08-17T19:11:13.846481",
     "exception": false,
     "start_time": "2020-08-17T19:11:13.821264",
     "status": "completed"
    },
    "tags": []
   },
   "outputs": [],
   "source": [
    "#hide\n",
    "df_today = df.groupby('Status').sum()\n",
    "df_yday = df.iloc[:-3][:].groupby('Status').sum()"
   ]
  },
  {
   "cell_type": "code",
   "execution_count": 6,
   "metadata": {
    "execution": {
     "iopub.execute_input": "2020-08-17T19:11:13.901583Z",
     "iopub.status.busy": "2020-08-17T19:11:13.900965Z",
     "iopub.status.idle": "2020-08-17T19:11:13.904302Z",
     "shell.execute_reply": "2020-08-17T19:11:13.903736Z"
    },
    "papermill": {
     "duration": 0.03445,
     "end_time": "2020-08-17T19:11:13.904431",
     "exception": false,
     "start_time": "2020-08-17T19:11:13.869981",
     "status": "completed"
    },
    "tags": []
   },
   "outputs": [
    {
     "data": {
      "text/html": [
       "<div>\n",
       "<style scoped>\n",
       "    .dataframe tbody tr th:only-of-type {\n",
       "        vertical-align: middle;\n",
       "    }\n",
       "\n",
       "    .dataframe tbody tr th {\n",
       "        vertical-align: top;\n",
       "    }\n",
       "\n",
       "    .dataframe thead th {\n",
       "        text-align: right;\n",
       "    }\n",
       "</style>\n",
       "<table border=\"1\" class=\"dataframe\">\n",
       "  <thead>\n",
       "    <tr style=\"text-align: right;\">\n",
       "      <th></th>\n",
       "      <th>TT</th>\n",
       "      <th>AN</th>\n",
       "      <th>AP</th>\n",
       "      <th>AR</th>\n",
       "      <th>AS</th>\n",
       "      <th>BR</th>\n",
       "      <th>CH</th>\n",
       "      <th>CT</th>\n",
       "      <th>DN</th>\n",
       "      <th>DD</th>\n",
       "      <th>...</th>\n",
       "      <th>PB</th>\n",
       "      <th>RJ</th>\n",
       "      <th>SK</th>\n",
       "      <th>TN</th>\n",
       "      <th>TG</th>\n",
       "      <th>TR</th>\n",
       "      <th>UP</th>\n",
       "      <th>UT</th>\n",
       "      <th>WB</th>\n",
       "      <th>UN</th>\n",
       "    </tr>\n",
       "    <tr>\n",
       "      <th>Status</th>\n",
       "      <th></th>\n",
       "      <th></th>\n",
       "      <th></th>\n",
       "      <th></th>\n",
       "      <th></th>\n",
       "      <th></th>\n",
       "      <th></th>\n",
       "      <th></th>\n",
       "      <th></th>\n",
       "      <th></th>\n",
       "      <th></th>\n",
       "      <th></th>\n",
       "      <th></th>\n",
       "      <th></th>\n",
       "      <th></th>\n",
       "      <th></th>\n",
       "      <th></th>\n",
       "      <th></th>\n",
       "      <th></th>\n",
       "      <th></th>\n",
       "      <th></th>\n",
       "    </tr>\n",
       "  </thead>\n",
       "  <tbody>\n",
       "    <tr>\n",
       "      <th>Confirmed</th>\n",
       "      <td>2701375</td>\n",
       "      <td>2441</td>\n",
       "      <td>296609</td>\n",
       "      <td>2741</td>\n",
       "      <td>79566</td>\n",
       "      <td>106618</td>\n",
       "      <td>2216</td>\n",
       "      <td>16025</td>\n",
       "      <td>1910</td>\n",
       "      <td>0</td>\n",
       "      <td>...</td>\n",
       "      <td>32695</td>\n",
       "      <td>62630</td>\n",
       "      <td>1200</td>\n",
       "      <td>343945</td>\n",
       "      <td>92255</td>\n",
       "      <td>7219</td>\n",
       "      <td>158216</td>\n",
       "      <td>12493</td>\n",
       "      <td>119578</td>\n",
       "      <td>0</td>\n",
       "    </tr>\n",
       "    <tr>\n",
       "      <th>Deceased</th>\n",
       "      <td>51936</td>\n",
       "      <td>29</td>\n",
       "      <td>2732</td>\n",
       "      <td>5</td>\n",
       "      <td>201</td>\n",
       "      <td>542</td>\n",
       "      <td>30</td>\n",
       "      <td>150</td>\n",
       "      <td>2</td>\n",
       "      <td>0</td>\n",
       "      <td>...</td>\n",
       "      <td>862</td>\n",
       "      <td>887</td>\n",
       "      <td>1</td>\n",
       "      <td>5886</td>\n",
       "      <td>703</td>\n",
       "      <td>59</td>\n",
       "      <td>2515</td>\n",
       "      <td>158</td>\n",
       "      <td>2473</td>\n",
       "      <td>0</td>\n",
       "    </tr>\n",
       "    <tr>\n",
       "      <th>Recovered</th>\n",
       "      <td>1976241</td>\n",
       "      <td>1316</td>\n",
       "      <td>209100</td>\n",
       "      <td>1893</td>\n",
       "      <td>56735</td>\n",
       "      <td>76706</td>\n",
       "      <td>1183</td>\n",
       "      <td>10598</td>\n",
       "      <td>1480</td>\n",
       "      <td>0</td>\n",
       "      <td>...</td>\n",
       "      <td>20180</td>\n",
       "      <td>47654</td>\n",
       "      <td>702</td>\n",
       "      <td>283937</td>\n",
       "      <td>70132</td>\n",
       "      <td>5286</td>\n",
       "      <td>104808</td>\n",
       "      <td>8485</td>\n",
       "      <td>89703</td>\n",
       "      <td>0</td>\n",
       "    </tr>\n",
       "  </tbody>\n",
       "</table>\n",
       "<p>3 rows × 39 columns</p>\n",
       "</div>"
      ],
      "text/plain": [
       "                TT    AN      AP    AR     AS      BR    CH     CT    DN  DD  \\\n",
       "Status                                                                         \n",
       "Confirmed  2701375  2441  296609  2741  79566  106618  2216  16025  1910   0   \n",
       "Deceased     51936    29    2732     5    201     542    30    150     2   0   \n",
       "Recovered  1976241  1316  209100  1893  56735   76706  1183  10598  1480   0   \n",
       "\n",
       "           ...     PB     RJ    SK      TN     TG    TR      UP     UT  \\\n",
       "Status     ...                                                           \n",
       "Confirmed  ...  32695  62630  1200  343945  92255  7219  158216  12493   \n",
       "Deceased   ...    862    887     1    5886    703    59    2515    158   \n",
       "Recovered  ...  20180  47654   702  283937  70132  5286  104808   8485   \n",
       "\n",
       "               WB  UN  \n",
       "Status                 \n",
       "Confirmed  119578   0  \n",
       "Deceased     2473   0  \n",
       "Recovered   89703   0  \n",
       "\n",
       "[3 rows x 39 columns]"
      ]
     },
     "execution_count": 6,
     "metadata": {},
     "output_type": "execute_result"
    }
   ],
   "source": [
    "#hide\n",
    "df_today"
   ]
  },
  {
   "cell_type": "code",
   "execution_count": 7,
   "metadata": {
    "execution": {
     "iopub.execute_input": "2020-08-17T19:11:13.940752Z",
     "iopub.status.busy": "2020-08-17T19:11:13.940149Z",
     "iopub.status.idle": "2020-08-17T19:11:13.949089Z",
     "shell.execute_reply": "2020-08-17T19:11:13.949548Z"
    },
    "papermill": {
     "duration": 0.030243,
     "end_time": "2020-08-17T19:11:13.949671",
     "exception": false,
     "start_time": "2020-08-17T19:11:13.919428",
     "status": "completed"
    },
    "tags": []
   },
   "outputs": [
    {
     "data": {
      "text/html": [
       "<div>\n",
       "<style scoped>\n",
       "    .dataframe tbody tr th:only-of-type {\n",
       "        vertical-align: middle;\n",
       "    }\n",
       "\n",
       "    .dataframe tbody tr th {\n",
       "        vertical-align: top;\n",
       "    }\n",
       "\n",
       "    .dataframe thead th {\n",
       "        text-align: right;\n",
       "    }\n",
       "</style>\n",
       "<table border=\"1\" class=\"dataframe\">\n",
       "  <thead>\n",
       "    <tr style=\"text-align: right;\">\n",
       "      <th></th>\n",
       "      <th>TT</th>\n",
       "      <th>AN</th>\n",
       "      <th>AP</th>\n",
       "      <th>AR</th>\n",
       "      <th>AS</th>\n",
       "      <th>BR</th>\n",
       "      <th>CH</th>\n",
       "      <th>CT</th>\n",
       "      <th>DN</th>\n",
       "      <th>DD</th>\n",
       "      <th>...</th>\n",
       "      <th>PB</th>\n",
       "      <th>RJ</th>\n",
       "      <th>SK</th>\n",
       "      <th>TN</th>\n",
       "      <th>TG</th>\n",
       "      <th>TR</th>\n",
       "      <th>UP</th>\n",
       "      <th>UT</th>\n",
       "      <th>WB</th>\n",
       "      <th>UN</th>\n",
       "    </tr>\n",
       "    <tr>\n",
       "      <th>Status</th>\n",
       "      <th></th>\n",
       "      <th></th>\n",
       "      <th></th>\n",
       "      <th></th>\n",
       "      <th></th>\n",
       "      <th></th>\n",
       "      <th></th>\n",
       "      <th></th>\n",
       "      <th></th>\n",
       "      <th></th>\n",
       "      <th></th>\n",
       "      <th></th>\n",
       "      <th></th>\n",
       "      <th></th>\n",
       "      <th></th>\n",
       "      <th></th>\n",
       "      <th></th>\n",
       "      <th></th>\n",
       "      <th></th>\n",
       "      <th></th>\n",
       "      <th></th>\n",
       "    </tr>\n",
       "  </thead>\n",
       "  <tbody>\n",
       "    <tr>\n",
       "      <th>Confirmed</th>\n",
       "      <td>2647212</td>\n",
       "      <td>2395</td>\n",
       "      <td>289829</td>\n",
       "      <td>2701</td>\n",
       "      <td>76774</td>\n",
       "      <td>104093</td>\n",
       "      <td>2102</td>\n",
       "      <td>15621</td>\n",
       "      <td>1883</td>\n",
       "      <td>0</td>\n",
       "      <td>...</td>\n",
       "      <td>31206</td>\n",
       "      <td>61296</td>\n",
       "      <td>1180</td>\n",
       "      <td>338055</td>\n",
       "      <td>91361</td>\n",
       "      <td>7076</td>\n",
       "      <td>154418</td>\n",
       "      <td>12175</td>\n",
       "      <td>116498</td>\n",
       "      <td>0</td>\n",
       "    </tr>\n",
       "    <tr>\n",
       "      <th>Deceased</th>\n",
       "      <td>51056</td>\n",
       "      <td>28</td>\n",
       "      <td>2650</td>\n",
       "      <td>5</td>\n",
       "      <td>193</td>\n",
       "      <td>537</td>\n",
       "      <td>29</td>\n",
       "      <td>142</td>\n",
       "      <td>2</td>\n",
       "      <td>0</td>\n",
       "      <td>...</td>\n",
       "      <td>812</td>\n",
       "      <td>876</td>\n",
       "      <td>1</td>\n",
       "      <td>5766</td>\n",
       "      <td>693</td>\n",
       "      <td>55</td>\n",
       "      <td>2449</td>\n",
       "      <td>152</td>\n",
       "      <td>2428</td>\n",
       "      <td>0</td>\n",
       "    </tr>\n",
       "    <tr>\n",
       "      <th>Recovered</th>\n",
       "      <td>1918069</td>\n",
       "      <td>1217</td>\n",
       "      <td>201234</td>\n",
       "      <td>1808</td>\n",
       "      <td>55216</td>\n",
       "      <td>72566</td>\n",
       "      <td>1137</td>\n",
       "      <td>10235</td>\n",
       "      <td>1431</td>\n",
       "      <td>0</td>\n",
       "      <td>...</td>\n",
       "      <td>19431</td>\n",
       "      <td>46604</td>\n",
       "      <td>674</td>\n",
       "      <td>278270</td>\n",
       "      <td>68126</td>\n",
       "      <td>5151</td>\n",
       "      <td>100432</td>\n",
       "      <td>8100</td>\n",
       "      <td>86771</td>\n",
       "      <td>0</td>\n",
       "    </tr>\n",
       "  </tbody>\n",
       "</table>\n",
       "<p>3 rows × 39 columns</p>\n",
       "</div>"
      ],
      "text/plain": [
       "                TT    AN      AP    AR     AS      BR    CH     CT    DN  DD  \\\n",
       "Status                                                                         \n",
       "Confirmed  2647212  2395  289829  2701  76774  104093  2102  15621  1883   0   \n",
       "Deceased     51056    28    2650     5    193     537    29    142     2   0   \n",
       "Recovered  1918069  1217  201234  1808  55216   72566  1137  10235  1431   0   \n",
       "\n",
       "           ...     PB     RJ    SK      TN     TG    TR      UP     UT  \\\n",
       "Status     ...                                                           \n",
       "Confirmed  ...  31206  61296  1180  338055  91361  7076  154418  12175   \n",
       "Deceased   ...    812    876     1    5766    693    55    2449    152   \n",
       "Recovered  ...  19431  46604   674  278270  68126  5151  100432   8100   \n",
       "\n",
       "               WB  UN  \n",
       "Status                 \n",
       "Confirmed  116498   0  \n",
       "Deceased     2428   0  \n",
       "Recovered   86771   0  \n",
       "\n",
       "[3 rows x 39 columns]"
      ]
     },
     "execution_count": 7,
     "metadata": {},
     "output_type": "execute_result"
    }
   ],
   "source": [
    "#hide\n",
    "df_yday.head()"
   ]
  },
  {
   "cell_type": "code",
   "execution_count": 8,
   "metadata": {
    "execution": {
     "iopub.execute_input": "2020-08-17T19:11:13.984501Z",
     "iopub.status.busy": "2020-08-17T19:11:13.983908Z",
     "iopub.status.idle": "2020-08-17T19:11:13.986607Z",
     "shell.execute_reply": "2020-08-17T19:11:13.987255Z"
    },
    "papermill": {
     "duration": 0.023773,
     "end_time": "2020-08-17T19:11:13.987387",
     "exception": false,
     "start_time": "2020-08-17T19:11:13.963614",
     "status": "completed"
    },
    "tags": []
   },
   "outputs": [
    {
     "data": {
      "text/plain": [
       "{'updated': '17-Aug-20',\n",
       " 'since': '16-Aug-20',\n",
       " 'Cases': 2701375,\n",
       " 'Deaths': 51936,\n",
       " 'Recovered': 1976241,\n",
       " 'PCases': 2647212,\n",
       " 'PDeaths': 51056,\n",
       " 'PRecovered': 1918069,\n",
       " 'Cases (+)': 54163,\n",
       " 'Deaths (+)': 880,\n",
       " 'Recovered (+)': 58172}"
      ]
     },
     "execution_count": 8,
     "metadata": {},
     "output_type": "execute_result"
    }
   ],
   "source": [
    "#hide\n",
    "summary = {\n",
    "    'updated' : dt_today,\n",
    "    'since' : dt_yday,\n",
    "    'Cases' : df_today['TT'][0],\n",
    "    'Deaths' : df_today['TT'][1],\n",
    "    'Recovered' : df_today['TT'][2],\n",
    "    'PCases' : df_yday['TT'][0],\n",
    "    'PDeaths' : df_yday['TT'][1],\n",
    "    'PRecovered': df_yday['TT'][2],\n",
    "    'Cases (+)' : df_today['TT'][0] - df_yday['TT'][0],\n",
    "    'Deaths (+)' : df_today['TT'][1] - df_yday['TT'][1],\n",
    "    'Recovered (+)': df_today['TT'][2] - df_yday['TT'][2]\n",
    "}\n",
    "\n",
    "summary"
   ]
  },
  {
   "cell_type": "code",
   "execution_count": 9,
   "metadata": {
    "execution": {
     "iopub.execute_input": "2020-08-17T19:11:14.020456Z",
     "iopub.status.busy": "2020-08-17T19:11:14.019875Z",
     "iopub.status.idle": "2020-08-17T19:11:14.021965Z",
     "shell.execute_reply": "2020-08-17T19:11:14.022476Z"
    },
    "papermill": {
     "duration": 0.020703,
     "end_time": "2020-08-17T19:11:14.022596",
     "exception": false,
     "start_time": "2020-08-17T19:11:14.001893",
     "status": "completed"
    },
    "tags": []
   },
   "outputs": [],
   "source": [
    "#hide\n",
    "overview = '''\n",
    "<!-- #######  HTML!! #########-->\n",
    "<h1 style=\"color: #5e9ca0; text-align: center;\">India</h1>\n",
    "<p style=\"text-align: center;\">Last update: <strong>{update}</strong></p>\n",
    "<p style=\"text-align: center;\">Confirmed cases:</p>\n",
    "<p style=\"text-align: center;font-size:24px;\">{cases} (<span style=\"color: #ff0000;\">+{new}</span>)</p>\n",
    "<p style=\"text-align: center;\">Confirmed deaths:</p>\n",
    "<p style=\"text-align: center;font-size:24px;\">{deaths} (<span style=\"color: #ff0000;\">+{dnew}</span>)</p>\n",
    "<p style=\"text-align: center;\">Recovered cases:</p>\n",
    "<p style=\"text-align: center;font-size:24px;\">{recovered} (<span style=\"color: #00ff00;\">+{rnew}</span>)</p>\n",
    "'''"
   ]
  },
  {
   "cell_type": "code",
   "execution_count": 10,
   "metadata": {
    "execution": {
     "iopub.execute_input": "2020-08-17T19:11:14.058600Z",
     "iopub.status.busy": "2020-08-17T19:11:14.058009Z",
     "iopub.status.idle": "2020-08-17T19:11:14.061020Z",
     "shell.execute_reply": "2020-08-17T19:11:14.061558Z"
    },
    "papermill": {
     "duration": 0.024304,
     "end_time": "2020-08-17T19:11:14.061686",
     "exception": false,
     "start_time": "2020-08-17T19:11:14.037382",
     "status": "completed"
    },
    "tags": []
   },
   "outputs": [
    {
     "data": {
      "text/html": [
       "\n",
       "<!-- #######  HTML!! #########-->\n",
       "<h1 style=\"color: #5e9ca0; text-align: center;\">India</h1>\n",
       "<p style=\"text-align: center;\">Last update: <strong>17-Aug-20</strong></p>\n",
       "<p style=\"text-align: center;\">Confirmed cases:</p>\n",
       "<p style=\"text-align: center;font-size:24px;\">2701375 (<span style=\"color: #ff0000;\">+54163</span>)</p>\n",
       "<p style=\"text-align: center;\">Confirmed deaths:</p>\n",
       "<p style=\"text-align: center;font-size:24px;\">51936 (<span style=\"color: #ff0000;\">+880</span>)</p>\n",
       "<p style=\"text-align: center;\">Recovered cases:</p>\n",
       "<p style=\"text-align: center;font-size:24px;\">1976241 (<span style=\"color: #00ff00;\">+58172</span>)</p>\n"
      ],
      "text/plain": [
       "<IPython.core.display.HTML object>"
      ]
     },
     "metadata": {},
     "output_type": "display_data"
    }
   ],
   "source": [
    "#hide_input\n",
    "# Fill the above HTML with the information from the summary dictionary\n",
    "\n",
    "update = summary['updated']\n",
    "cases = summary['Cases']\n",
    "new = summary['Cases (+)']\n",
    "deaths = summary['Deaths']\n",
    "dnew = summary['Deaths (+)']\n",
    "recovered = summary['Recovered']\n",
    "rnew = summary['Recovered (+)']\n",
    "\n",
    "html = HTML(overview.format(update=update, cases=cases,new=new,deaths=deaths,dnew=dnew, recovered=recovered, rnew=rnew))\n",
    "\n",
    "display(html)"
   ]
  },
  {
   "cell_type": "code",
   "execution_count": 11,
   "metadata": {
    "execution": {
     "iopub.execute_input": "2020-08-17T19:11:14.102305Z",
     "iopub.status.busy": "2020-08-17T19:11:14.101588Z",
     "iopub.status.idle": "2020-08-17T19:11:14.105937Z",
     "shell.execute_reply": "2020-08-17T19:11:14.106439Z"
    },
    "papermill": {
     "duration": 0.029767,
     "end_time": "2020-08-17T19:11:14.106573",
     "exception": false,
     "start_time": "2020-08-17T19:11:14.076806",
     "status": "completed"
    },
    "tags": []
   },
   "outputs": [],
   "source": [
    "#hide\n",
    "df_cases = df[df['Status'] == 'Confirmed'].copy()\n",
    "df_cases.drop(columns = ['Status'], inplace=True)\n",
    "df_deaths = df[df['Status'] == 'Deceased'].copy()\n",
    "df_deaths.drop(columns = ['Status'], inplace=True)\n",
    "df_recovered = df[df['Status'] == 'Recovered'].copy()\n",
    "df_recovered.drop(columns = ['Status'], inplace=True)"
   ]
  },
  {
   "cell_type": "markdown",
   "metadata": {
    "papermill": {
     "duration": 0.016169,
     "end_time": "2020-08-17T19:11:14.139397",
     "exception": false,
     "start_time": "2020-08-17T19:11:14.123228",
     "status": "completed"
    },
    "tags": []
   },
   "source": [
    "Plot for India:"
   ]
  },
  {
   "cell_type": "code",
   "execution_count": 12,
   "metadata": {
    "execution": {
     "iopub.execute_input": "2020-08-17T19:11:14.190900Z",
     "iopub.status.busy": "2020-08-17T19:11:14.190318Z",
     "iopub.status.idle": "2020-08-17T19:11:14.463336Z",
     "shell.execute_reply": "2020-08-17T19:11:14.463808Z"
    },
    "papermill": {
     "duration": 0.309097,
     "end_time": "2020-08-17T19:11:14.463957",
     "exception": false,
     "start_time": "2020-08-17T19:11:14.154860",
     "status": "completed"
    },
    "tags": []
   },
   "outputs": [
    {
     "data": {
      "image/png": "[encoded data removed]",
      "text/plain": [
       "<Figure size 1296x432 with 1 Axes>"
      ]
     },
     "metadata": {
      "needs_background": "light"
     },
     "output_type": "display_data"
    }
   ],
   "source": [
    "#hide_input\n",
    "plt.figure(figsize = (18,6))\n",
    "plt.plot(df_cases['Date'], df_cases['TT'],'.-', alpha=0.7, color='b', label='Confirmed cases')\n",
    "plt.plot(df_recovered['Date'], df_recovered['TT'],'.-', alpha=0.7, color='g', label='Recovered')\n",
    "plt.plot(df_deaths['Date'], df_deaths['TT'],'.-', alpha=0.7, color='r', label='Deceased')\n",
    "plt.legend()\n",
    "plt.title(\"Cases per day in India\")\n",
    "plt.xticks(ticks=' ')\n",
    "plt.xlabel(f'{df_cases.iloc[0][0]} to {df_cases.iloc[-1][0]}')\n",
    "plt.ylabel('No. of cases');"
   ]
  },
  {
   "cell_type": "markdown",
   "metadata": {
    "papermill": {
     "duration": 0.015294,
     "end_time": "2020-08-17T19:11:14.494905",
     "exception": false,
     "start_time": "2020-08-17T19:11:14.479611",
     "status": "completed"
    },
    "tags": []
   },
   "source": [
    "Plots for the states with highest number of cases:"
   ]
  },
  {
   "cell_type": "code",
   "execution_count": 13,
   "metadata": {
    "execution": {
     "iopub.execute_input": "2020-08-17T19:11:14.533221Z",
     "iopub.status.busy": "2020-08-17T19:11:14.532652Z",
     "iopub.status.idle": "2020-08-17T19:11:15.137539Z",
     "shell.execute_reply": "2020-08-17T19:11:15.137061Z"
    },
    "papermill": {
     "duration": 0.627231,
     "end_time": "2020-08-17T19:11:15.137672",
     "exception": false,
     "start_time": "2020-08-17T19:11:14.510441",
     "status": "completed"
    },
    "tags": []
   },
   "outputs": [
    {
     "data": {
      "image/png": "[encoded data removed]",
      "text/plain": [
       "<Figure size 1512x432 with 3 Axes>"
      ]
     },
     "metadata": {
      "needs_background": "light"
     },
     "output_type": "display_data"
    }
   ],
   "source": [
    "#hide_input\n",
    "top_3 = sorted(df_cases.sum().values[1:], reverse=True)[1:4]\n",
    "top3_states=[]\n",
    "for i in top_3:\n",
    "    top3_states.append(df_cases.sum()[df_cases.sum() == i].index)\n",
    "\n",
    "\n",
    "fig, ax = plt.subplots(1,3,figsize = (21,6))\n",
    "for i in range(3):\n",
    "    state = top3_states[i].values[0]\n",
    "    ax[i].plot(df_cases['Date'], df_cases[state],'.-', color='b', alpha=0.7)\n",
    "    ax[i].plot(df_deaths['Date'], df_deaths[state],'.-', color='r', alpha=0.7)\n",
    "    ax[i].plot(df_recovered['Date'], df_recovered[state],'.-', color='g', alpha=0.7)\n",
    "    \n",
    "    ax[i].set_title(f\"Cases in {state}\")\n",
    "    ax[i].set_xticks(ticks=' ')\n",
    "    ax[i].set_xlabel(f'{df_cases.iloc[0][0]} to {df_cases.iloc[-1][0]}')\n",
    "    ax[i].set_ylabel('No. of cases');"
   ]
  },
  {
   "cell_type": "code",
   "execution_count": null,
   "metadata": {
    "papermill": {
     "duration": 0.0175,
     "end_time": "2020-08-17T19:11:15.294814",
     "exception": false,
     "start_time": "2020-08-17T19:11:15.277314",
     "status": "completed"
    },
    "tags": []
   },
   "outputs": [],
   "source": []
  },
  {
   "cell_type": "code",
   "execution_count": null,
   "metadata": {
    "papermill": {
     "duration": 0.017394,
     "end_time": "2020-08-17T19:11:15.329076",
     "exception": false,
     "start_time": "2020-08-17T19:11:15.311682",
     "status": "completed"
    },
    "tags": []
   },
   "outputs": [],
   "source": []
  },
  {
   "cell_type": "code",
   "execution_count": null,
   "metadata": {
    "papermill": {
     "duration": 0.021226,
     "end_time": "2020-08-17T19:11:15.368020",
     "exception": false,
     "start_time": "2020-08-17T19:11:15.346794",
     "status": "completed"
    },
    "tags": []
   },
   "outputs": [],
   "source": []
  }
 ],
 "metadata": {
  "kernelspec": {
   "display_name": "Python 3",
   "language": "python",
   "name": "python3"
  },
  "language_info": {
   "codemirror_mode": {
    "name": "ipython",
    "version": 3
   },
   "file_extension": ".py",
   "mimetype": "text/x-python",
   "name": "python",
   "nbconvert_exporter": "python",
   "pygments_lexer": "ipython3",
   "version": "3.6.11"
  },
  "papermill": {
   "duration": 4.183177,
   "end_time": "2020-08-17T19:11:15.694570",
   "environment_variables": {},
   "exception": null,
   "input_path": "2020-08-09-DailyUpdate.ipynb",
   "output_path": "2020-08-09-DailyUpdate.ipynb",
   "parameters": {},
   "start_time": "2020-08-17T19:11:11.511393",
   "version": "2.1.2"
  }
 },
 "nbformat": 4,
 "nbformat_minor": 4
}