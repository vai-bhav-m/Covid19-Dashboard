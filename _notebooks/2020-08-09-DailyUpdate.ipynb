{
 "cells": [
  {
   "cell_type": "markdown",
   "metadata": {
    "papermill": {
     "duration": 0.017786,
     "end_time": "2020-09-18T19:12:21.222703",
     "exception": false,
     "start_time": "2020-09-18T19:12:21.204917",
     "status": "completed"
    },
    "tags": []
   },
   "source": [
    "# COVID-19 India Daily updates\n",
    "> Tracking coronavirus total cases, deaths and new cases in India on a daily basis\n",
    "\n",
    "- author: Vaibhav Mahapatra"
   ]
  },
  {
   "cell_type": "code",
   "execution_count": 1,
   "metadata": {
    "execution": {
     "iopub.execute_input": "2020-09-18T19:12:21.257817Z",
     "iopub.status.busy": "2020-09-18T19:12:21.257098Z",
     "iopub.status.idle": "2020-09-18T19:12:21.915327Z",
     "shell.execute_reply": "2020-09-18T19:12:21.914375Z"
    },
    "papermill": {
     "duration": 0.678454,
     "end_time": "2020-09-18T19:12:21.915511",
     "exception": false,
     "start_time": "2020-09-18T19:12:21.237057",
     "status": "completed"
    },
    "tags": []
   },
   "outputs": [],
   "source": [
    "#hide\n",
    "\n",
    "## Import essential packages below\n",
    "\n",
    "import pandas as pd\n",
    "import numpy as np\n",
    "import requests\n",
    "import json\n",
    "import matplotlib.pyplot as plt\n",
    "import matplotlib.dates as mdates\n",
    "import matplotlib as mpl\n",
    "from IPython.core.display import display,HTML\n",
    "%matplotlib inline"
   ]
  },
  {
   "cell_type": "code",
   "execution_count": 2,
   "metadata": {
    "execution": {
     "iopub.execute_input": "2020-09-18T19:12:21.950776Z",
     "iopub.status.busy": "2020-09-18T19:12:21.950118Z",
     "iopub.status.idle": "2020-09-18T19:12:22.119150Z",
     "shell.execute_reply": "2020-09-18T19:12:22.119674Z"
    },
    "papermill": {
     "duration": 0.189686,
     "end_time": "2020-09-18T19:12:22.119869",
     "exception": false,
     "start_time": "2020-09-18T19:12:21.930183",
     "status": "completed"
    },
    "tags": []
   },
   "outputs": [
    {
     "data": {
      "text/plain": [
       "(567, 41)"
      ]
     },
     "execution_count": 2,
     "metadata": {},
     "output_type": "execute_result"
    }
   ],
   "source": [
    "#hide\n",
    "url = 'https://api.covid19india.org/csv/latest/state_wise_daily.csv'\n",
    "df = pd.read_csv(url)\n",
    "df.shape"
   ]
  },
  {
   "cell_type": "code",
   "execution_count": 3,
   "metadata": {
    "execution": {
     "iopub.execute_input": "2020-09-18T19:12:22.200269Z",
     "iopub.status.busy": "2020-09-18T19:12:22.198285Z",
     "iopub.status.idle": "2020-09-18T19:12:22.212268Z",
     "shell.execute_reply": "2020-09-18T19:12:22.212841Z"
    },
    "papermill": {
     "duration": 0.079274,
     "end_time": "2020-09-18T19:12:22.213016",
     "exception": false,
     "start_time": "2020-09-18T19:12:22.133742",
     "status": "completed"
    },
    "tags": []
   },
   "outputs": [
    {
     "data": {
      "text/html": [
       "<div>\n",
       "<style scoped>\n",
       "    .dataframe tbody tr th:only-of-type {\n",
       "        vertical-align: middle;\n",
       "    }\n",
       "\n",
       "    .dataframe tbody tr th {\n",
       "        vertical-align: top;\n",
       "    }\n",
       "\n",
       "    .dataframe thead th {\n",
       "        text-align: right;\n",
       "    }\n",
       "</style>\n",
       "<table border=\"1\" class=\"dataframe\">\n",
       "  <thead>\n",
       "    <tr style=\"text-align: right;\">\n",
       "      <th></th>\n",
       "      <th>Date</th>\n",
       "      <th>Status</th>\n",
       "      <th>TT</th>\n",
       "      <th>AN</th>\n",
       "      <th>AP</th>\n",
       "      <th>AR</th>\n",
       "      <th>AS</th>\n",
       "      <th>BR</th>\n",
       "      <th>CH</th>\n",
       "      <th>CT</th>\n",
       "      <th>...</th>\n",
       "      <th>PB</th>\n",
       "      <th>RJ</th>\n",
       "      <th>SK</th>\n",
       "      <th>TN</th>\n",
       "      <th>TG</th>\n",
       "      <th>TR</th>\n",
       "      <th>UP</th>\n",
       "      <th>UT</th>\n",
       "      <th>WB</th>\n",
       "      <th>UN</th>\n",
       "    </tr>\n",
       "  </thead>\n",
       "  <tbody>\n",
       "    <tr>\n",
       "      <th>561</th>\n",
       "      <td>17-Sep-20</td>\n",
       "      <td>Confirmed</td>\n",
       "      <td>96793</td>\n",
       "      <td>11</td>\n",
       "      <td>8702</td>\n",
       "      <td>159</td>\n",
       "      <td>1380</td>\n",
       "      <td>1592</td>\n",
       "      <td>298</td>\n",
       "      <td>3809</td>\n",
       "      <td>...</td>\n",
       "      <td>2848</td>\n",
       "      <td>1793</td>\n",
       "      <td>53</td>\n",
       "      <td>5560</td>\n",
       "      <td>2159</td>\n",
       "      <td>527</td>\n",
       "      <td>6029</td>\n",
       "      <td>1192</td>\n",
       "      <td>3197</td>\n",
       "      <td>0</td>\n",
       "    </tr>\n",
       "    <tr>\n",
       "      <th>562</th>\n",
       "      <td>17-Sep-20</td>\n",
       "      <td>Recovered</td>\n",
       "      <td>87778</td>\n",
       "      <td>33</td>\n",
       "      <td>10712</td>\n",
       "      <td>180</td>\n",
       "      <td>2246</td>\n",
       "      <td>1465</td>\n",
       "      <td>379</td>\n",
       "      <td>5226</td>\n",
       "      <td>...</td>\n",
       "      <td>2248</td>\n",
       "      <td>1333</td>\n",
       "      <td>67</td>\n",
       "      <td>5524</td>\n",
       "      <td>2108</td>\n",
       "      <td>521</td>\n",
       "      <td>4715</td>\n",
       "      <td>533</td>\n",
       "      <td>2948</td>\n",
       "      <td>0</td>\n",
       "    </tr>\n",
       "    <tr>\n",
       "      <th>563</th>\n",
       "      <td>17-Sep-20</td>\n",
       "      <td>Deceased</td>\n",
       "      <td>1175</td>\n",
       "      <td>0</td>\n",
       "      <td>72</td>\n",
       "      <td>0</td>\n",
       "      <td>17</td>\n",
       "      <td>7</td>\n",
       "      <td>5</td>\n",
       "      <td>17</td>\n",
       "      <td>...</td>\n",
       "      <td>54</td>\n",
       "      <td>14</td>\n",
       "      <td>4</td>\n",
       "      <td>59</td>\n",
       "      <td>9</td>\n",
       "      <td>5</td>\n",
       "      <td>81</td>\n",
       "      <td>13</td>\n",
       "      <td>60</td>\n",
       "      <td>0</td>\n",
       "    </tr>\n",
       "    <tr>\n",
       "      <th>564</th>\n",
       "      <td>18-Sep-20</td>\n",
       "      <td>Confirmed</td>\n",
       "      <td>84215</td>\n",
       "      <td>0</td>\n",
       "      <td>8096</td>\n",
       "      <td>0</td>\n",
       "      <td>0</td>\n",
       "      <td>1147</td>\n",
       "      <td>260</td>\n",
       "      <td>3842</td>\n",
       "      <td>...</td>\n",
       "      <td>2774</td>\n",
       "      <td>1776</td>\n",
       "      <td>29</td>\n",
       "      <td>5488</td>\n",
       "      <td>2043</td>\n",
       "      <td>273</td>\n",
       "      <td>6494</td>\n",
       "      <td>0</td>\n",
       "      <td>3192</td>\n",
       "      <td>0</td>\n",
       "    </tr>\n",
       "    <tr>\n",
       "      <th>565</th>\n",
       "      <td>18-Sep-20</td>\n",
       "      <td>Recovered</td>\n",
       "      <td>89866</td>\n",
       "      <td>0</td>\n",
       "      <td>11803</td>\n",
       "      <td>0</td>\n",
       "      <td>2074</td>\n",
       "      <td>1678</td>\n",
       "      <td>353</td>\n",
       "      <td>3281</td>\n",
       "      <td>...</td>\n",
       "      <td>2640</td>\n",
       "      <td>1567</td>\n",
       "      <td>68</td>\n",
       "      <td>5525</td>\n",
       "      <td>1802</td>\n",
       "      <td>603</td>\n",
       "      <td>6806</td>\n",
       "      <td>0</td>\n",
       "      <td>2960</td>\n",
       "      <td>0</td>\n",
       "    </tr>\n",
       "    <tr>\n",
       "      <th>566</th>\n",
       "      <td>18-Sep-20</td>\n",
       "      <td>Deceased</td>\n",
       "      <td>1162</td>\n",
       "      <td>0</td>\n",
       "      <td>67</td>\n",
       "      <td>0</td>\n",
       "      <td>0</td>\n",
       "      <td>4</td>\n",
       "      <td>4</td>\n",
       "      <td>17</td>\n",
       "      <td>...</td>\n",
       "      <td>60</td>\n",
       "      <td>14</td>\n",
       "      <td>3</td>\n",
       "      <td>67</td>\n",
       "      <td>11</td>\n",
       "      <td>6</td>\n",
       "      <td>98</td>\n",
       "      <td>0</td>\n",
       "      <td>59</td>\n",
       "      <td>0</td>\n",
       "    </tr>\n",
       "  </tbody>\n",
       "</table>\n",
       "<p>6 rows × 41 columns</p>\n",
       "</div>"
      ],
      "text/plain": [
       "          Date     Status     TT  AN     AP   AR    AS    BR   CH    CT  ...  \\\n",
       "561  17-Sep-20  Confirmed  96793  11   8702  159  1380  1592  298  3809  ...   \n",
       "562  17-Sep-20  Recovered  87778  33  10712  180  2246  1465  379  5226  ...   \n",
       "563  17-Sep-20   Deceased   1175   0     72    0    17     7    5    17  ...   \n",
       "564  18-Sep-20  Confirmed  84215   0   8096    0     0  1147  260  3842  ...   \n",
       "565  18-Sep-20  Recovered  89866   0  11803    0  2074  1678  353  3281  ...   \n",
       "566  18-Sep-20   Deceased   1162   0     67    0     0     4    4    17  ...   \n",
       "\n",
       "       PB    RJ  SK    TN    TG   TR    UP    UT    WB  UN  \n",
       "561  2848  1793  53  5560  2159  527  6029  1192  3197   0  \n",
       "562  2248  1333  67  5524  2108  521  4715   533  2948   0  \n",
       "563    54    14   4    59     9    5    81    13    60   0  \n",
       "564  2774  1776  29  5488  2043  273  6494     0  3192   0  \n",
       "565  2640  1567  68  5525  1802  603  6806     0  2960   0  \n",
       "566    60    14   3    67    11    6    98     0    59   0  \n",
       "\n",
       "[6 rows x 41 columns]"
      ]
     },
     "execution_count": 3,
     "metadata": {},
     "output_type": "execute_result"
    }
   ],
   "source": [
    "#hide\n",
    "df.tail(6)"
   ]
  },
  {
   "cell_type": "code",
   "execution_count": 4,
   "metadata": {
    "execution": {
     "iopub.execute_input": "2020-09-18T19:12:22.255528Z",
     "iopub.status.busy": "2020-09-18T19:12:22.254639Z",
     "iopub.status.idle": "2020-09-18T19:12:22.258855Z",
     "shell.execute_reply": "2020-09-18T19:12:22.258018Z"
    },
    "papermill": {
     "duration": 0.030808,
     "end_time": "2020-09-18T19:12:22.259002",
     "exception": false,
     "start_time": "2020-09-18T19:12:22.228194",
     "status": "completed"
    },
    "tags": []
   },
   "outputs": [
    {
     "data": {
      "text/plain": [
       "('18-Sep-20', '17-Sep-20')"
      ]
     },
     "execution_count": 4,
     "metadata": {},
     "output_type": "execute_result"
    }
   ],
   "source": [
    "#hide\n",
    "dt_today = df.iloc[-1][0]\n",
    "dt_yday = df.iloc[-4][0]\n",
    "dt_today, dt_yday"
   ]
  },
  {
   "cell_type": "code",
   "execution_count": 5,
   "metadata": {
    "execution": {
     "iopub.execute_input": "2020-09-18T19:12:22.292853Z",
     "iopub.status.busy": "2020-09-18T19:12:22.292137Z",
     "iopub.status.idle": "2020-09-18T19:12:22.303495Z",
     "shell.execute_reply": "2020-09-18T19:12:22.302803Z"
    },
    "papermill": {
     "duration": 0.02873,
     "end_time": "2020-09-18T19:12:22.303648",
     "exception": false,
     "start_time": "2020-09-18T19:12:22.274918",
     "status": "completed"
    },
    "tags": []
   },
   "outputs": [],
   "source": [
    "#hide\n",
    "df_today = df.groupby('Status').sum()\n",
    "df_yday = df.iloc[:-3][:].groupby('Status').sum()"
   ]
  },
  {
   "cell_type": "code",
   "execution_count": 6,
   "metadata": {
    "execution": {
     "iopub.execute_input": "2020-09-18T19:12:22.524091Z",
     "iopub.status.busy": "2020-09-18T19:12:22.523327Z",
     "iopub.status.idle": "2020-09-18T19:12:22.539610Z",
     "shell.execute_reply": "2020-09-18T19:12:22.540195Z"
    },
    "papermill": {
     "duration": 0.220056,
     "end_time": "2020-09-18T19:12:22.540358",
     "exception": false,
     "start_time": "2020-09-18T19:12:22.320302",
     "status": "completed"
    },
    "tags": []
   },
   "outputs": [
    {
     "data": {
      "text/html": [
       "<div>\n",
       "<style scoped>\n",
       "    .dataframe tbody tr th:only-of-type {\n",
       "        vertical-align: middle;\n",
       "    }\n",
       "\n",
       "    .dataframe tbody tr th {\n",
       "        vertical-align: top;\n",
       "    }\n",
       "\n",
       "    .dataframe thead th {\n",
       "        text-align: right;\n",
       "    }\n",
       "</style>\n",
       "<table border=\"1\" class=\"dataframe\">\n",
       "  <thead>\n",
       "    <tr style=\"text-align: right;\">\n",
       "      <th></th>\n",
       "      <th>TT</th>\n",
       "      <th>AN</th>\n",
       "      <th>AP</th>\n",
       "      <th>AR</th>\n",
       "      <th>AS</th>\n",
       "      <th>BR</th>\n",
       "      <th>CH</th>\n",
       "      <th>CT</th>\n",
       "      <th>DN</th>\n",
       "      <th>DD</th>\n",
       "      <th>...</th>\n",
       "      <th>PB</th>\n",
       "      <th>RJ</th>\n",
       "      <th>SK</th>\n",
       "      <th>TN</th>\n",
       "      <th>TG</th>\n",
       "      <th>TR</th>\n",
       "      <th>UP</th>\n",
       "      <th>UT</th>\n",
       "      <th>WB</th>\n",
       "      <th>UN</th>\n",
       "    </tr>\n",
       "    <tr>\n",
       "      <th>Status</th>\n",
       "      <th></th>\n",
       "      <th></th>\n",
       "      <th></th>\n",
       "      <th></th>\n",
       "      <th></th>\n",
       "      <th></th>\n",
       "      <th></th>\n",
       "      <th></th>\n",
       "      <th></th>\n",
       "      <th></th>\n",
       "      <th></th>\n",
       "      <th></th>\n",
       "      <th></th>\n",
       "      <th></th>\n",
       "      <th></th>\n",
       "      <th></th>\n",
       "      <th></th>\n",
       "      <th></th>\n",
       "      <th></th>\n",
       "      <th></th>\n",
       "      <th></th>\n",
       "    </tr>\n",
       "  </thead>\n",
       "  <tbody>\n",
       "    <tr>\n",
       "      <th>Confirmed</th>\n",
       "      <td>5292868</td>\n",
       "      <td>3600</td>\n",
       "      <td>609558</td>\n",
       "      <td>6851</td>\n",
       "      <td>150247</td>\n",
       "      <td>165371</td>\n",
       "      <td>9516</td>\n",
       "      <td>81617</td>\n",
       "      <td>2847</td>\n",
       "      <td>0</td>\n",
       "      <td>...</td>\n",
       "      <td>92806</td>\n",
       "      <td>111249</td>\n",
       "      <td>2285</td>\n",
       "      <td>530908</td>\n",
       "      <td>166536</td>\n",
       "      <td>20969</td>\n",
       "      <td>342788</td>\n",
       "      <td>37139</td>\n",
       "      <td>218772</td>\n",
       "      <td>0</td>\n",
       "    </tr>\n",
       "    <tr>\n",
       "      <th>Deceased</th>\n",
       "      <td>84948</td>\n",
       "      <td>52</td>\n",
       "      <td>5244</td>\n",
       "      <td>13</td>\n",
       "      <td>516</td>\n",
       "      <td>859</td>\n",
       "      <td>110</td>\n",
       "      <td>645</td>\n",
       "      <td>2</td>\n",
       "      <td>0</td>\n",
       "      <td>...</td>\n",
       "      <td>2706</td>\n",
       "      <td>1307</td>\n",
       "      <td>23</td>\n",
       "      <td>8685</td>\n",
       "      <td>1016</td>\n",
       "      <td>228</td>\n",
       "      <td>4869</td>\n",
       "      <td>460</td>\n",
       "      <td>4242</td>\n",
       "      <td>0</td>\n",
       "    </tr>\n",
       "    <tr>\n",
       "      <th>Recovered</th>\n",
       "      <td>4197824</td>\n",
       "      <td>3369</td>\n",
       "      <td>519891</td>\n",
       "      <td>4967</td>\n",
       "      <td>123684</td>\n",
       "      <td>151400</td>\n",
       "      <td>6415</td>\n",
       "      <td>44392</td>\n",
       "      <td>2610</td>\n",
       "      <td>0</td>\n",
       "      <td>...</td>\n",
       "      <td>68458</td>\n",
       "      <td>92252</td>\n",
       "      <td>1856</td>\n",
       "      <td>475717</td>\n",
       "      <td>135357</td>\n",
       "      <td>13559</td>\n",
       "      <td>270094</td>\n",
       "      <td>24810</td>\n",
       "      <td>190021</td>\n",
       "      <td>0</td>\n",
       "    </tr>\n",
       "  </tbody>\n",
       "</table>\n",
       "<p>3 rows × 39 columns</p>\n",
       "</div>"
      ],
      "text/plain": [
       "                TT    AN      AP    AR      AS      BR    CH     CT    DN  DD  \\\n",
       "Status                                                                          \n",
       "Confirmed  5292868  3600  609558  6851  150247  165371  9516  81617  2847   0   \n",
       "Deceased     84948    52    5244    13     516     859   110    645     2   0   \n",
       "Recovered  4197824  3369  519891  4967  123684  151400  6415  44392  2610   0   \n",
       "\n",
       "           ...     PB      RJ    SK      TN      TG     TR      UP     UT  \\\n",
       "Status     ...                                                              \n",
       "Confirmed  ...  92806  111249  2285  530908  166536  20969  342788  37139   \n",
       "Deceased   ...   2706    1307    23    8685    1016    228    4869    460   \n",
       "Recovered  ...  68458   92252  1856  475717  135357  13559  270094  24810   \n",
       "\n",
       "               WB  UN  \n",
       "Status                 \n",
       "Confirmed  218772   0  \n",
       "Deceased     4242   0  \n",
       "Recovered  190021   0  \n",
       "\n",
       "[3 rows x 39 columns]"
      ]
     },
     "execution_count": 6,
     "metadata": {},
     "output_type": "execute_result"
    }
   ],
   "source": [
    "#hide\n",
    "df_today"
   ]
  },
  {
   "cell_type": "code",
   "execution_count": 7,
   "metadata": {
    "execution": {
     "iopub.execute_input": "2020-09-18T19:12:22.731114Z",
     "iopub.status.busy": "2020-09-18T19:12:22.730421Z",
     "iopub.status.idle": "2020-09-18T19:12:22.737416Z",
     "shell.execute_reply": "2020-09-18T19:12:22.736871Z"
    },
    "papermill": {
     "duration": 0.122307,
     "end_time": "2020-09-18T19:12:22.737560",
     "exception": false,
     "start_time": "2020-09-18T19:12:22.615253",
     "status": "completed"
    },
    "tags": []
   },
   "outputs": [
    {
     "data": {
      "text/html": [
       "<div>\n",
       "<style scoped>\n",
       "    .dataframe tbody tr th:only-of-type {\n",
       "        vertical-align: middle;\n",
       "    }\n",
       "\n",
       "    .dataframe tbody tr th {\n",
       "        vertical-align: top;\n",
       "    }\n",
       "\n",
       "    .dataframe thead th {\n",
       "        text-align: right;\n",
       "    }\n",
       "</style>\n",
       "<table border=\"1\" class=\"dataframe\">\n",
       "  <thead>\n",
       "    <tr style=\"text-align: right;\">\n",
       "      <th></th>\n",
       "      <th>TT</th>\n",
       "      <th>AN</th>\n",
       "      <th>AP</th>\n",
       "      <th>AR</th>\n",
       "      <th>AS</th>\n",
       "      <th>BR</th>\n",
       "      <th>CH</th>\n",
       "      <th>CT</th>\n",
       "      <th>DN</th>\n",
       "      <th>DD</th>\n",
       "      <th>...</th>\n",
       "      <th>PB</th>\n",
       "      <th>RJ</th>\n",
       "      <th>SK</th>\n",
       "      <th>TN</th>\n",
       "      <th>TG</th>\n",
       "      <th>TR</th>\n",
       "      <th>UP</th>\n",
       "      <th>UT</th>\n",
       "      <th>WB</th>\n",
       "      <th>UN</th>\n",
       "    </tr>\n",
       "    <tr>\n",
       "      <th>Status</th>\n",
       "      <th></th>\n",
       "      <th></th>\n",
       "      <th></th>\n",
       "      <th></th>\n",
       "      <th></th>\n",
       "      <th></th>\n",
       "      <th></th>\n",
       "      <th></th>\n",
       "      <th></th>\n",
       "      <th></th>\n",
       "      <th></th>\n",
       "      <th></th>\n",
       "      <th></th>\n",
       "      <th></th>\n",
       "      <th></th>\n",
       "      <th></th>\n",
       "      <th></th>\n",
       "      <th></th>\n",
       "      <th></th>\n",
       "      <th></th>\n",
       "      <th></th>\n",
       "    </tr>\n",
       "  </thead>\n",
       "  <tbody>\n",
       "    <tr>\n",
       "      <th>Confirmed</th>\n",
       "      <td>5208653</td>\n",
       "      <td>3600</td>\n",
       "      <td>601462</td>\n",
       "      <td>6851</td>\n",
       "      <td>150247</td>\n",
       "      <td>164224</td>\n",
       "      <td>9256</td>\n",
       "      <td>77775</td>\n",
       "      <td>2823</td>\n",
       "      <td>0</td>\n",
       "      <td>...</td>\n",
       "      <td>90032</td>\n",
       "      <td>109473</td>\n",
       "      <td>2256</td>\n",
       "      <td>525420</td>\n",
       "      <td>164493</td>\n",
       "      <td>20696</td>\n",
       "      <td>336294</td>\n",
       "      <td>37139</td>\n",
       "      <td>215580</td>\n",
       "      <td>0</td>\n",
       "    </tr>\n",
       "    <tr>\n",
       "      <th>Deceased</th>\n",
       "      <td>83786</td>\n",
       "      <td>52</td>\n",
       "      <td>5177</td>\n",
       "      <td>13</td>\n",
       "      <td>516</td>\n",
       "      <td>855</td>\n",
       "      <td>106</td>\n",
       "      <td>628</td>\n",
       "      <td>2</td>\n",
       "      <td>0</td>\n",
       "      <td>...</td>\n",
       "      <td>2646</td>\n",
       "      <td>1293</td>\n",
       "      <td>20</td>\n",
       "      <td>8618</td>\n",
       "      <td>1005</td>\n",
       "      <td>222</td>\n",
       "      <td>4771</td>\n",
       "      <td>460</td>\n",
       "      <td>4183</td>\n",
       "      <td>0</td>\n",
       "    </tr>\n",
       "    <tr>\n",
       "      <th>Recovered</th>\n",
       "      <td>4107958</td>\n",
       "      <td>3369</td>\n",
       "      <td>508088</td>\n",
       "      <td>4967</td>\n",
       "      <td>121610</td>\n",
       "      <td>149722</td>\n",
       "      <td>6062</td>\n",
       "      <td>41111</td>\n",
       "      <td>2582</td>\n",
       "      <td>0</td>\n",
       "      <td>...</td>\n",
       "      <td>65818</td>\n",
       "      <td>90685</td>\n",
       "      <td>1788</td>\n",
       "      <td>470192</td>\n",
       "      <td>133555</td>\n",
       "      <td>12956</td>\n",
       "      <td>263288</td>\n",
       "      <td>24810</td>\n",
       "      <td>187061</td>\n",
       "      <td>0</td>\n",
       "    </tr>\n",
       "  </tbody>\n",
       "</table>\n",
       "<p>3 rows × 39 columns</p>\n",
       "</div>"
      ],
      "text/plain": [
       "                TT    AN      AP    AR      AS      BR    CH     CT    DN  DD  \\\n",
       "Status                                                                          \n",
       "Confirmed  5208653  3600  601462  6851  150247  164224  9256  77775  2823   0   \n",
       "Deceased     83786    52    5177    13     516     855   106    628     2   0   \n",
       "Recovered  4107958  3369  508088  4967  121610  149722  6062  41111  2582   0   \n",
       "\n",
       "           ...     PB      RJ    SK      TN      TG     TR      UP     UT  \\\n",
       "Status     ...                                                              \n",
       "Confirmed  ...  90032  109473  2256  525420  164493  20696  336294  37139   \n",
       "Deceased   ...   2646    1293    20    8618    1005    222    4771    460   \n",
       "Recovered  ...  65818   90685  1788  470192  133555  12956  263288  24810   \n",
       "\n",
       "               WB  UN  \n",
       "Status                 \n",
       "Confirmed  215580   0  \n",
       "Deceased     4183   0  \n",
       "Recovered  187061   0  \n",
       "\n",
       "[3 rows x 39 columns]"
      ]
     },
     "execution_count": 7,
     "metadata": {},
     "output_type": "execute_result"
    }
   ],
   "source": [
    "#hide\n",
    "df_yday.head()"
   ]
  },
  {
   "cell_type": "code",
   "execution_count": 8,
   "metadata": {
    "execution": {
     "iopub.execute_input": "2020-09-18T19:12:22.782622Z",
     "iopub.status.busy": "2020-09-18T19:12:22.781831Z",
     "iopub.status.idle": "2020-09-18T19:12:22.784941Z",
     "shell.execute_reply": "2020-09-18T19:12:22.786476Z"
    },
    "papermill": {
     "duration": 0.032431,
     "end_time": "2020-09-18T19:12:22.786637",
     "exception": false,
     "start_time": "2020-09-18T19:12:22.754206",
     "status": "completed"
    },
    "tags": []
   },
   "outputs": [
    {
     "data": {
      "text/plain": [
       "{'updated': '18-Sep-20',\n",
       " 'since': '17-Sep-20',\n",
       " 'Cases': 5292868,\n",
       " 'Deaths': 84948,\n",
       " 'Recovered': 4197824,\n",
       " 'PCases': 5208653,\n",
       " 'PDeaths': 83786,\n",
       " 'PRecovered': 4107958,\n",
       " 'Cases (+)': 84215,\n",
       " 'Deaths (+)': 1162,\n",
       " 'Recovered (+)': 89866}"
      ]
     },
     "execution_count": 8,
     "metadata": {},
     "output_type": "execute_result"
    }
   ],
   "source": [
    "#hide\n",
    "summary = {\n",
    "    'updated' : dt_today,\n",
    "    'since' : dt_yday,\n",
    "    'Cases' : df_today['TT'][0],\n",
    "    'Deaths' : df_today['TT'][1],\n",
    "    'Recovered' : df_today['TT'][2],\n",
    "    'PCases' : df_yday['TT'][0],\n",
    "    'PDeaths' : df_yday['TT'][1],\n",
    "    'PRecovered': df_yday['TT'][2],\n",
    "    'Cases (+)' : df_today['TT'][0] - df_yday['TT'][0],\n",
    "    'Deaths (+)' : df_today['TT'][1] - df_yday['TT'][1],\n",
    "    'Recovered (+)': df_today['TT'][2] - df_yday['TT'][2]\n",
    "}\n",
    "\n",
    "summary"
   ]
  },
  {
   "cell_type": "code",
   "execution_count": 9,
   "metadata": {
    "execution": {
     "iopub.execute_input": "2020-09-18T19:12:22.828476Z",
     "iopub.status.busy": "2020-09-18T19:12:22.827578Z",
     "iopub.status.idle": "2020-09-18T19:12:22.829758Z",
     "shell.execute_reply": "2020-09-18T19:12:22.830352Z"
    },
    "papermill": {
     "duration": 0.026149,
     "end_time": "2020-09-18T19:12:22.830541",
     "exception": false,
     "start_time": "2020-09-18T19:12:22.804392",
     "status": "completed"
    },
    "tags": []
   },
   "outputs": [],
   "source": [
    "#hide\n",
    "overview = '''\n",
    "<!-- #######  HTML!! #########-->\n",
    "<h1 style=\"color: #5e9ca0; text-align: center;\">India</h1>\n",
    "<p style=\"text-align: center;\">Last update: <strong>{update}</strong></p>\n",
    "<p style=\"text-align: center;\">Confirmed cases:</p>\n",
    "<p style=\"text-align: center;font-size:24px;\">{cases} (<span style=\"color: #ff0000;\">+{new}</span>)</p>\n",
    "<p style=\"text-align: center;\">Confirmed deaths:</p>\n",
    "<p style=\"text-align: center;font-size:24px;\">{deaths} (<span style=\"color: #ff0000;\">+{dnew}</span>)</p>\n",
    "<p style=\"text-align: center;\">Recovered cases:</p>\n",
    "<p style=\"text-align: center;font-size:24px;\">{recovered} (<span style=\"color: #00ff00;\">+{rnew}</span>)</p>\n",
    "'''"
   ]
  },
  {
   "cell_type": "code",
   "execution_count": 10,
   "metadata": {
    "execution": {
     "iopub.execute_input": "2020-09-18T19:12:22.873086Z",
     "iopub.status.busy": "2020-09-18T19:12:22.872408Z",
     "iopub.status.idle": "2020-09-18T19:12:22.875554Z",
     "shell.execute_reply": "2020-09-18T19:12:22.876316Z"
    },
    "papermill": {
     "duration": 0.02825,
     "end_time": "2020-09-18T19:12:22.876493",
     "exception": false,
     "start_time": "2020-09-18T19:12:22.848243",
     "status": "completed"
    },
    "tags": []
   },
   "outputs": [
    {
     "data": {
      "text/html": [
       "\n",
       "<!-- #######  HTML!! #########-->\n",
       "<h1 style=\"color: #5e9ca0; text-align: center;\">India</h1>\n",
       "<p style=\"text-align: center;\">Last update: <strong>18-Sep-20</strong></p>\n",
       "<p style=\"text-align: center;\">Confirmed cases:</p>\n",
       "<p style=\"text-align: center;font-size:24px;\">5292868 (<span style=\"color: #ff0000;\">+84215</span>)</p>\n",
       "<p style=\"text-align: center;\">Confirmed deaths:</p>\n",
       "<p style=\"text-align: center;font-size:24px;\">84948 (<span style=\"color: #ff0000;\">+1162</span>)</p>\n",
       "<p style=\"text-align: center;\">Recovered cases:</p>\n",
       "<p style=\"text-align: center;font-size:24px;\">4197824 (<span style=\"color: #00ff00;\">+89866</span>)</p>\n"
      ],
      "text/plain": [
       "<IPython.core.display.HTML object>"
      ]
     },
     "metadata": {},
     "output_type": "display_data"
    }
   ],
   "source": [
    "#hide_input\n",
    "# Fill the above HTML with the information from the summary dictionary\n",
    "\n",
    "update = summary['updated']\n",
    "cases = summary['Cases']\n",
    "new = summary['Cases (+)']\n",
    "deaths = summary['Deaths']\n",
    "dnew = summary['Deaths (+)']\n",
    "recovered = summary['Recovered']\n",
    "rnew = summary['Recovered (+)']\n",
    "\n",
    "html = HTML(overview.format(update=update, cases=cases,new=new,deaths=deaths,dnew=dnew, recovered=recovered, rnew=rnew))\n",
    "\n",
    "display(html)"
   ]
  },
  {
   "cell_type": "code",
   "execution_count": 11,
   "metadata": {
    "execution": {
     "iopub.execute_input": "2020-09-18T19:12:22.921707Z",
     "iopub.status.busy": "2020-09-18T19:12:22.920393Z",
     "iopub.status.idle": "2020-09-18T19:12:22.924494Z",
     "shell.execute_reply": "2020-09-18T19:12:22.923758Z"
    },
    "papermill": {
     "duration": 0.031343,
     "end_time": "2020-09-18T19:12:22.924636",
     "exception": false,
     "start_time": "2020-09-18T19:12:22.893293",
     "status": "completed"
    },
    "tags": []
   },
   "outputs": [],
   "source": [
    "#hide\n",
    "df_cases = df[df['Status'] == 'Confirmed'].copy()\n",
    "df_cases.drop(columns = ['Status'], inplace=True)\n",
    "df_deaths = df[df['Status'] == 'Deceased'].copy()\n",
    "df_deaths.drop(columns = ['Status'], inplace=True)\n",
    "df_recovered = df[df['Status'] == 'Recovered'].copy()\n",
    "df_recovered.drop(columns = ['Status'], inplace=True)"
   ]
  },
  {
   "cell_type": "markdown",
   "metadata": {
    "papermill": {
     "duration": 0.016872,
     "end_time": "2020-09-18T19:12:22.959050",
     "exception": false,
     "start_time": "2020-09-18T19:12:22.942178",
     "status": "completed"
    },
    "tags": []
   },
   "source": [
    "Plot for India:"
   ]
  },
  {
   "cell_type": "code",
   "execution_count": 12,
   "metadata": {
    "execution": {
     "iopub.execute_input": "2020-09-18T19:12:23.031615Z",
     "iopub.status.busy": "2020-09-18T19:12:23.016823Z",
     "iopub.status.idle": "2020-09-18T19:12:23.315294Z",
     "shell.execute_reply": "2020-09-18T19:12:23.315900Z"
    },
    "papermill": {
     "duration": 0.340456,
     "end_time": "2020-09-18T19:12:23.316070",
     "exception": false,
     "start_time": "2020-09-18T19:12:22.975614",
     "status": "completed"
    },
    "tags": []
   },
   "outputs": [
    {
     "data": {
      "image/png": "[encoded data removed]",
      "text/plain": [
       "<Figure size 1296x432 with 1 Axes>"
      ]
     },
     "metadata": {
      "needs_background": "light"
     },
     "output_type": "display_data"
    }
   ],
   "source": [
    "#hide_input\n",
    "plt.figure(figsize = (18,6))\n",
    "plt.plot(df_cases['Date'], df_cases['TT'],'.-', alpha=0.7, color='b', label='Confirmed cases')\n",
    "plt.plot(df_recovered['Date'], df_recovered['TT'],'.-', alpha=0.7, color='g', label='Recovered')\n",
    "plt.plot(df_deaths['Date'], df_deaths['TT'],'.-', alpha=0.7, color='r', label='Deceased')\n",
    "plt.legend()\n",
    "plt.title(\"Cases per day in India\")\n",
    "plt.xticks(ticks=' ')\n",
    "plt.xlabel(f'{df_cases.iloc[0][0]} to {df_cases.iloc[-1][0]}')\n",
    "plt.ylabel('No. of cases');"
   ]
  },
  {
   "cell_type": "markdown",
   "metadata": {
    "papermill": {
     "duration": 0.019711,
     "end_time": "2020-09-18T19:12:23.356024",
     "exception": false,
     "start_time": "2020-09-18T19:12:23.336313",
     "status": "completed"
    },
    "tags": []
   },
   "source": [
    "Plots for the states with highest number of cases:"
   ]
  },
  {
   "cell_type": "code",
   "execution_count": 13,
   "metadata": {
    "execution": {
     "iopub.execute_input": "2020-09-18T19:12:23.404371Z",
     "iopub.status.busy": "2020-09-18T19:12:23.402788Z",
     "iopub.status.idle": "2020-09-18T19:12:24.134976Z",
     "shell.execute_reply": "2020-09-18T19:12:24.134395Z"
    },
    "papermill": {
     "duration": 0.759875,
     "end_time": "2020-09-18T19:12:24.135168",
     "exception": false,
     "start_time": "2020-09-18T19:12:23.375293",
     "status": "completed"
    },
    "tags": []
   },
   "outputs": [
    {
     "data": {
      "image/png": "[encoded data removed]",
      "text/plain": [
       "<Figure size 1512x432 with 3 Axes>"
      ]
     },
     "metadata": {
      "needs_background": "light"
     },
     "output_type": "display_data"
    }
   ],
   "source": [
    "#hide_input\n",
    "top_3 = sorted(df_cases.sum().values[1:], reverse=True)[1:4]\n",
    "top3_states=[]\n",
    "for i in top_3:\n",
    "    top3_states.append(df_cases.sum()[df_cases.sum() == i].index)\n",
    "\n",
    "\n",
    "fig, ax = plt.subplots(1,3,figsize = (21,6))\n",
    "for i in range(3):\n",
    "    state = top3_states[i].values[0]\n",
    "    ax[i].plot(df_cases['Date'], df_cases[state],'.-', color='b', alpha=0.7)\n",
    "    ax[i].plot(df_deaths['Date'], df_deaths[state],'.-', color='r', alpha=0.7)\n",
    "    ax[i].plot(df_recovered['Date'], df_recovered[state],'.-', color='g', alpha=0.7)\n",
    "    \n",
    "    ax[i].set_title(f\"Cases in {state}\")\n",
    "    ax[i].set_xticks(ticks=' ')\n",
    "    ax[i].set_xlabel(f'{df_cases.iloc[0][0]} to {df_cases.iloc[-1][0]}')\n",
    "    ax[i].set_ylabel('No. of cases');"
   ]
  },
  {
   "cell_type": "code",
   "execution_count": null,
   "metadata": {
    "papermill": {
     "duration": 0.023656,
     "end_time": "2020-09-18T19:12:24.182937",
     "exception": false,
     "start_time": "2020-09-18T19:12:24.159281",
     "status": "completed"
    },
    "tags": []
   },
   "outputs": [],
   "source": []
  },
  {
   "cell_type": "code",
   "execution_count": null,
   "metadata": {
    "papermill": {
     "duration": 0.023427,
     "end_time": "2020-09-18T19:12:24.229295",
     "exception": false,
     "start_time": "2020-09-18T19:12:24.205868",
     "status": "completed"
    },
    "tags": []
   },
   "outputs": [],
   "source": []
  },
  {
   "cell_type": "code",
   "execution_count": null,
   "metadata": {
    "papermill": {
     "duration": 0.022544,
     "end_time": "2020-09-18T19:12:24.275389",
     "exception": false,
     "start_time": "2020-09-18T19:12:24.252845",
     "status": "completed"
    },
    "tags": []
   },
   "outputs": [],
   "source": []
  }
 ],
 "metadata": {
  "kernelspec": {
   "display_name": "Python 3",
   "language": "python",
   "name": "python3"
  },
  "language_info": {
   "codemirror_mode": {
    "name": "ipython",
    "version": 3
   },
   "file_extension": ".py",
   "mimetype": "text/x-python",
   "name": "python",
   "nbconvert_exporter": "python",
   "pygments_lexer": "ipython3",
   "version": "3.6.12"
  },
  "papermill": {
   "duration": 4.566442,
   "end_time": "2020-09-18T19:12:24.605320",
   "environment_variables": {},
   "exception": null,
   "input_path": "2020-08-09-DailyUpdate.ipynb",
   "output_path": "2020-08-09-DailyUpdate.ipynb",
   "parameters": {},
   "start_time": "2020-09-18T19:12:20.038878",
   "version": "2.1.2"
  }
 },
 "nbformat": 4,
 "nbformat_minor": 4
}