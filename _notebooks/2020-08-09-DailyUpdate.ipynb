{
 "cells": [
  {
   "cell_type": "markdown",
   "metadata": {
    "papermill": {
     "duration": 0.018609,
     "end_time": "2020-09-24T19:12:43.603031",
     "exception": false,
     "start_time": "2020-09-24T19:12:43.584422",
     "status": "completed"
    },
    "tags": []
   },
   "source": [
    "# COVID-19 India Daily updates\n",
    "> Tracking coronavirus total cases, deaths and new cases in India on a daily basis\n",
    "\n",
    "- author: Vaibhav Mahapatra"
   ]
  },
  {
   "cell_type": "code",
   "execution_count": 1,
   "metadata": {
    "execution": {
     "iopub.execute_input": "2020-09-24T19:12:43.635999Z",
     "iopub.status.busy": "2020-09-24T19:12:43.635387Z",
     "iopub.status.idle": "2020-09-24T19:12:44.194443Z",
     "shell.execute_reply": "2020-09-24T19:12:44.193901Z"
    },
    "papermill": {
     "duration": 0.579364,
     "end_time": "2020-09-24T19:12:44.194598",
     "exception": false,
     "start_time": "2020-09-24T19:12:43.615234",
     "status": "completed"
    },
    "tags": []
   },
   "outputs": [],
   "source": [
    "#hide\n",
    "\n",
    "## Import essential packages below\n",
    "\n",
    "import pandas as pd\n",
    "import numpy as np\n",
    "import requests\n",
    "import json\n",
    "import matplotlib.pyplot as plt\n",
    "import matplotlib.dates as mdates\n",
    "import matplotlib as mpl\n",
    "from IPython.core.display import display,HTML\n",
    "%matplotlib inline"
   ]
  },
  {
   "cell_type": "code",
   "execution_count": 2,
   "metadata": {
    "execution": {
     "iopub.execute_input": "2020-09-24T19:12:44.225290Z",
     "iopub.status.busy": "2020-09-24T19:12:44.224674Z",
     "iopub.status.idle": "2020-09-24T19:12:44.312013Z",
     "shell.execute_reply": "2020-09-24T19:12:44.311125Z"
    },
    "papermill": {
     "duration": 0.105592,
     "end_time": "2020-09-24T19:12:44.312243",
     "exception": false,
     "start_time": "2020-09-24T19:12:44.206651",
     "status": "completed"
    },
    "tags": []
   },
   "outputs": [
    {
     "data": {
      "text/plain": [
       "(585, 41)"
      ]
     },
     "execution_count": 2,
     "metadata": {},
     "output_type": "execute_result"
    }
   ],
   "source": [
    "#hide\n",
    "url = 'https://api.covid19india.org/csv/latest/state_wise_daily.csv'\n",
    "df = pd.read_csv(url)\n",
    "df.shape"
   ]
  },
  {
   "cell_type": "code",
   "execution_count": 3,
   "metadata": {
    "execution": {
     "iopub.execute_input": "2020-09-24T19:12:44.394954Z",
     "iopub.status.busy": "2020-09-24T19:12:44.394316Z",
     "iopub.status.idle": "2020-09-24T19:12:44.410258Z",
     "shell.execute_reply": "2020-09-24T19:12:44.409122Z"
    },
    "papermill": {
     "duration": 0.084536,
     "end_time": "2020-09-24T19:12:44.410403",
     "exception": false,
     "start_time": "2020-09-24T19:12:44.325867",
     "status": "completed"
    },
    "tags": []
   },
   "outputs": [
    {
     "data": {
      "text/html": [
       "<div>\n",
       "<style scoped>\n",
       "    .dataframe tbody tr th:only-of-type {\n",
       "        vertical-align: middle;\n",
       "    }\n",
       "\n",
       "    .dataframe tbody tr th {\n",
       "        vertical-align: top;\n",
       "    }\n",
       "\n",
       "    .dataframe thead th {\n",
       "        text-align: right;\n",
       "    }\n",
       "</style>\n",
       "<table border=\"1\" class=\"dataframe\">\n",
       "  <thead>\n",
       "    <tr style=\"text-align: right;\">\n",
       "      <th></th>\n",
       "      <th>Date</th>\n",
       "      <th>Status</th>\n",
       "      <th>TT</th>\n",
       "      <th>AN</th>\n",
       "      <th>AP</th>\n",
       "      <th>AR</th>\n",
       "      <th>AS</th>\n",
       "      <th>BR</th>\n",
       "      <th>CH</th>\n",
       "      <th>CT</th>\n",
       "      <th>...</th>\n",
       "      <th>PB</th>\n",
       "      <th>RJ</th>\n",
       "      <th>SK</th>\n",
       "      <th>TN</th>\n",
       "      <th>TG</th>\n",
       "      <th>TR</th>\n",
       "      <th>UP</th>\n",
       "      <th>UT</th>\n",
       "      <th>WB</th>\n",
       "      <th>UN</th>\n",
       "    </tr>\n",
       "  </thead>\n",
       "  <tbody>\n",
       "    <tr>\n",
       "      <th>579</th>\n",
       "      <td>23-Sep-20</td>\n",
       "      <td>Confirmed</td>\n",
       "      <td>86703</td>\n",
       "      <td>21</td>\n",
       "      <td>7228</td>\n",
       "      <td>289</td>\n",
       "      <td>2098</td>\n",
       "      <td>1598</td>\n",
       "      <td>180</td>\n",
       "      <td>2434</td>\n",
       "      <td>...</td>\n",
       "      <td>2123</td>\n",
       "      <td>1946</td>\n",
       "      <td>35</td>\n",
       "      <td>5325</td>\n",
       "      <td>2296</td>\n",
       "      <td>504</td>\n",
       "      <td>5143</td>\n",
       "      <td>1069</td>\n",
       "      <td>3189</td>\n",
       "      <td>0</td>\n",
       "    </tr>\n",
       "    <tr>\n",
       "      <th>580</th>\n",
       "      <td>23-Sep-20</td>\n",
       "      <td>Recovered</td>\n",
       "      <td>87458</td>\n",
       "      <td>15</td>\n",
       "      <td>8291</td>\n",
       "      <td>125</td>\n",
       "      <td>1762</td>\n",
       "      <td>1490</td>\n",
       "      <td>255</td>\n",
       "      <td>4772</td>\n",
       "      <td>...</td>\n",
       "      <td>2117</td>\n",
       "      <td>1553</td>\n",
       "      <td>14</td>\n",
       "      <td>5363</td>\n",
       "      <td>2062</td>\n",
       "      <td>603</td>\n",
       "      <td>6506</td>\n",
       "      <td>1016</td>\n",
       "      <td>2998</td>\n",
       "      <td>0</td>\n",
       "    </tr>\n",
       "    <tr>\n",
       "      <th>581</th>\n",
       "      <td>23-Sep-20</td>\n",
       "      <td>Deceased</td>\n",
       "      <td>1123</td>\n",
       "      <td>0</td>\n",
       "      <td>45</td>\n",
       "      <td>0</td>\n",
       "      <td>11</td>\n",
       "      <td>1</td>\n",
       "      <td>10</td>\n",
       "      <td>10</td>\n",
       "      <td>...</td>\n",
       "      <td>64</td>\n",
       "      <td>15</td>\n",
       "      <td>1</td>\n",
       "      <td>63</td>\n",
       "      <td>10</td>\n",
       "      <td>2</td>\n",
       "      <td>87</td>\n",
       "      <td>17</td>\n",
       "      <td>61</td>\n",
       "      <td>0</td>\n",
       "    </tr>\n",
       "    <tr>\n",
       "      <th>582</th>\n",
       "      <td>24-Sep-20</td>\n",
       "      <td>Confirmed</td>\n",
       "      <td>85919</td>\n",
       "      <td>32</td>\n",
       "      <td>7855</td>\n",
       "      <td>283</td>\n",
       "      <td>2091</td>\n",
       "      <td>1203</td>\n",
       "      <td>242</td>\n",
       "      <td>2272</td>\n",
       "      <td>...</td>\n",
       "      <td>1756</td>\n",
       "      <td>1981</td>\n",
       "      <td>64</td>\n",
       "      <td>5692</td>\n",
       "      <td>2176</td>\n",
       "      <td>451</td>\n",
       "      <td>4591</td>\n",
       "      <td>684</td>\n",
       "      <td>3196</td>\n",
       "      <td>0</td>\n",
       "    </tr>\n",
       "    <tr>\n",
       "      <th>583</th>\n",
       "      <td>24-Sep-20</td>\n",
       "      <td>Recovered</td>\n",
       "      <td>81141</td>\n",
       "      <td>9</td>\n",
       "      <td>8807</td>\n",
       "      <td>168</td>\n",
       "      <td>2432</td>\n",
       "      <td>1154</td>\n",
       "      <td>293</td>\n",
       "      <td>2060</td>\n",
       "      <td>...</td>\n",
       "      <td>2231</td>\n",
       "      <td>1965</td>\n",
       "      <td>31</td>\n",
       "      <td>5470</td>\n",
       "      <td>2004</td>\n",
       "      <td>492</td>\n",
       "      <td>4922</td>\n",
       "      <td>1031</td>\n",
       "      <td>3014</td>\n",
       "      <td>0</td>\n",
       "    </tr>\n",
       "    <tr>\n",
       "      <th>584</th>\n",
       "      <td>24-Sep-20</td>\n",
       "      <td>Deceased</td>\n",
       "      <td>1144</td>\n",
       "      <td>0</td>\n",
       "      <td>52</td>\n",
       "      <td>0</td>\n",
       "      <td>11</td>\n",
       "      <td>4</td>\n",
       "      <td>7</td>\n",
       "      <td>24</td>\n",
       "      <td>...</td>\n",
       "      <td>76</td>\n",
       "      <td>15</td>\n",
       "      <td>1</td>\n",
       "      <td>66</td>\n",
       "      <td>8</td>\n",
       "      <td>7</td>\n",
       "      <td>67</td>\n",
       "      <td>13</td>\n",
       "      <td>62</td>\n",
       "      <td>0</td>\n",
       "    </tr>\n",
       "  </tbody>\n",
       "</table>\n",
       "<p>6 rows × 41 columns</p>\n",
       "</div>"
      ],
      "text/plain": [
       "          Date     Status     TT  AN    AP   AR    AS    BR   CH    CT  ...  \\\n",
       "579  23-Sep-20  Confirmed  86703  21  7228  289  2098  1598  180  2434  ...   \n",
       "580  23-Sep-20  Recovered  87458  15  8291  125  1762  1490  255  4772  ...   \n",
       "581  23-Sep-20   Deceased   1123   0    45    0    11     1   10    10  ...   \n",
       "582  24-Sep-20  Confirmed  85919  32  7855  283  2091  1203  242  2272  ...   \n",
       "583  24-Sep-20  Recovered  81141   9  8807  168  2432  1154  293  2060  ...   \n",
       "584  24-Sep-20   Deceased   1144   0    52    0    11     4    7    24  ...   \n",
       "\n",
       "       PB    RJ  SK    TN    TG   TR    UP    UT    WB  UN  \n",
       "579  2123  1946  35  5325  2296  504  5143  1069  3189   0  \n",
       "580  2117  1553  14  5363  2062  603  6506  1016  2998   0  \n",
       "581    64    15   1    63    10    2    87    17    61   0  \n",
       "582  1756  1981  64  5692  2176  451  4591   684  3196   0  \n",
       "583  2231  1965  31  5470  2004  492  4922  1031  3014   0  \n",
       "584    76    15   1    66     8    7    67    13    62   0  \n",
       "\n",
       "[6 rows x 41 columns]"
      ]
     },
     "execution_count": 3,
     "metadata": {},
     "output_type": "execute_result"
    }
   ],
   "source": [
    "#hide\n",
    "df.tail(6)"
   ]
  },
  {
   "cell_type": "code",
   "execution_count": 4,
   "metadata": {
    "execution": {
     "iopub.execute_input": "2020-09-24T19:12:44.442671Z",
     "iopub.status.busy": "2020-09-24T19:12:44.442114Z",
     "iopub.status.idle": "2020-09-24T19:12:44.446000Z",
     "shell.execute_reply": "2020-09-24T19:12:44.446503Z"
    },
    "papermill": {
     "duration": 0.023182,
     "end_time": "2020-09-24T19:12:44.446654",
     "exception": false,
     "start_time": "2020-09-24T19:12:44.423472",
     "status": "completed"
    },
    "tags": []
   },
   "outputs": [
    {
     "data": {
      "text/plain": [
       "('24-Sep-20', '23-Sep-20')"
      ]
     },
     "execution_count": 4,
     "metadata": {},
     "output_type": "execute_result"
    }
   ],
   "source": [
    "#hide\n",
    "dt_today = df.iloc[-1][0]\n",
    "dt_yday = df.iloc[-4][0]\n",
    "dt_today, dt_yday"
   ]
  },
  {
   "cell_type": "code",
   "execution_count": 5,
   "metadata": {
    "execution": {
     "iopub.execute_input": "2020-09-24T19:12:44.481599Z",
     "iopub.status.busy": "2020-09-24T19:12:44.481010Z",
     "iopub.status.idle": "2020-09-24T19:12:44.487206Z",
     "shell.execute_reply": "2020-09-24T19:12:44.486708Z"
    },
    "papermill": {
     "duration": 0.027095,
     "end_time": "2020-09-24T19:12:44.487341",
     "exception": false,
     "start_time": "2020-09-24T19:12:44.460246",
     "status": "completed"
    },
    "tags": []
   },
   "outputs": [],
   "source": [
    "#hide\n",
    "df_today = df.groupby('Status').sum()\n",
    "df_yday = df.iloc[:-3][:].groupby('Status').sum()"
   ]
  },
  {
   "cell_type": "code",
   "execution_count": 6,
   "metadata": {
    "execution": {
     "iopub.execute_input": "2020-09-24T19:12:44.528709Z",
     "iopub.status.busy": "2020-09-24T19:12:44.528074Z",
     "iopub.status.idle": "2020-09-24T19:12:44.532175Z",
     "shell.execute_reply": "2020-09-24T19:12:44.531636Z"
    },
    "papermill": {
     "duration": 0.031909,
     "end_time": "2020-09-24T19:12:44.532306",
     "exception": false,
     "start_time": "2020-09-24T19:12:44.500397",
     "status": "completed"
    },
    "tags": []
   },
   "outputs": [
    {
     "data": {
      "text/html": [
       "<div>\n",
       "<style scoped>\n",
       "    .dataframe tbody tr th:only-of-type {\n",
       "        vertical-align: middle;\n",
       "    }\n",
       "\n",
       "    .dataframe tbody tr th {\n",
       "        vertical-align: top;\n",
       "    }\n",
       "\n",
       "    .dataframe thead th {\n",
       "        text-align: right;\n",
       "    }\n",
       "</style>\n",
       "<table border=\"1\" class=\"dataframe\">\n",
       "  <thead>\n",
       "    <tr style=\"text-align: right;\">\n",
       "      <th></th>\n",
       "      <th>TT</th>\n",
       "      <th>AN</th>\n",
       "      <th>AP</th>\n",
       "      <th>AR</th>\n",
       "      <th>AS</th>\n",
       "      <th>BR</th>\n",
       "      <th>CH</th>\n",
       "      <th>CT</th>\n",
       "      <th>DN</th>\n",
       "      <th>DD</th>\n",
       "      <th>...</th>\n",
       "      <th>PB</th>\n",
       "      <th>RJ</th>\n",
       "      <th>SK</th>\n",
       "      <th>TN</th>\n",
       "      <th>TG</th>\n",
       "      <th>TR</th>\n",
       "      <th>UP</th>\n",
       "      <th>UT</th>\n",
       "      <th>WB</th>\n",
       "      <th>UN</th>\n",
       "    </tr>\n",
       "    <tr>\n",
       "      <th>Status</th>\n",
       "      <th></th>\n",
       "      <th></th>\n",
       "      <th></th>\n",
       "      <th></th>\n",
       "      <th></th>\n",
       "      <th></th>\n",
       "      <th></th>\n",
       "      <th></th>\n",
       "      <th></th>\n",
       "      <th></th>\n",
       "      <th></th>\n",
       "      <th></th>\n",
       "      <th></th>\n",
       "      <th></th>\n",
       "      <th></th>\n",
       "      <th></th>\n",
       "      <th></th>\n",
       "      <th></th>\n",
       "      <th></th>\n",
       "      <th></th>\n",
       "      <th></th>\n",
       "    </tr>\n",
       "  </thead>\n",
       "  <tbody>\n",
       "    <tr>\n",
       "      <th>Confirmed</th>\n",
       "      <td>5815469</td>\n",
       "      <td>3740</td>\n",
       "      <td>654385</td>\n",
       "      <td>8416</td>\n",
       "      <td>165480</td>\n",
       "      <td>174266</td>\n",
       "      <td>10968</td>\n",
       "      <td>95623</td>\n",
       "      <td>2974</td>\n",
       "      <td>0</td>\n",
       "      <td>...</td>\n",
       "      <td>105220</td>\n",
       "      <td>122720</td>\n",
       "      <td>2625</td>\n",
       "      <td>563691</td>\n",
       "      <td>178736</td>\n",
       "      <td>23786</td>\n",
       "      <td>374277</td>\n",
       "      <td>44404</td>\n",
       "      <td>237869</td>\n",
       "      <td>0</td>\n",
       "    </tr>\n",
       "    <tr>\n",
       "      <th>Deceased</th>\n",
       "      <td>91732</td>\n",
       "      <td>52</td>\n",
       "      <td>5558</td>\n",
       "      <td>14</td>\n",
       "      <td>612</td>\n",
       "      <td>878</td>\n",
       "      <td>144</td>\n",
       "      <td>752</td>\n",
       "      <td>2</td>\n",
       "      <td>0</td>\n",
       "      <td>...</td>\n",
       "      <td>3066</td>\n",
       "      <td>1397</td>\n",
       "      <td>31</td>\n",
       "      <td>9076</td>\n",
       "      <td>1070</td>\n",
       "      <td>257</td>\n",
       "      <td>5366</td>\n",
       "      <td>542</td>\n",
       "      <td>4606</td>\n",
       "      <td>0</td>\n",
       "    </tr>\n",
       "    <tr>\n",
       "      <th>Recovered</th>\n",
       "      <td>4752978</td>\n",
       "      <td>3494</td>\n",
       "      <td>579474</td>\n",
       "      <td>6071</td>\n",
       "      <td>135141</td>\n",
       "      <td>159700</td>\n",
       "      <td>8342</td>\n",
       "      <td>58833</td>\n",
       "      <td>2743</td>\n",
       "      <td>0</td>\n",
       "      <td>...</td>\n",
       "      <td>81475</td>\n",
       "      <td>102330</td>\n",
       "      <td>1974</td>\n",
       "      <td>508210</td>\n",
       "      <td>148139</td>\n",
       "      <td>16955</td>\n",
       "      <td>307611</td>\n",
       "      <td>32154</td>\n",
       "      <td>208042</td>\n",
       "      <td>0</td>\n",
       "    </tr>\n",
       "  </tbody>\n",
       "</table>\n",
       "<p>3 rows × 39 columns</p>\n",
       "</div>"
      ],
      "text/plain": [
       "                TT    AN      AP    AR      AS      BR     CH     CT    DN  \\\n",
       "Status                                                                       \n",
       "Confirmed  5815469  3740  654385  8416  165480  174266  10968  95623  2974   \n",
       "Deceased     91732    52    5558    14     612     878    144    752     2   \n",
       "Recovered  4752978  3494  579474  6071  135141  159700   8342  58833  2743   \n",
       "\n",
       "           DD  ...      PB      RJ    SK      TN      TG     TR      UP  \\\n",
       "Status         ...                                                        \n",
       "Confirmed   0  ...  105220  122720  2625  563691  178736  23786  374277   \n",
       "Deceased    0  ...    3066    1397    31    9076    1070    257    5366   \n",
       "Recovered   0  ...   81475  102330  1974  508210  148139  16955  307611   \n",
       "\n",
       "              UT      WB  UN  \n",
       "Status                        \n",
       "Confirmed  44404  237869   0  \n",
       "Deceased     542    4606   0  \n",
       "Recovered  32154  208042   0  \n",
       "\n",
       "[3 rows x 39 columns]"
      ]
     },
     "execution_count": 6,
     "metadata": {},
     "output_type": "execute_result"
    }
   ],
   "source": [
    "#hide\n",
    "df_today"
   ]
  },
  {
   "cell_type": "code",
   "execution_count": 7,
   "metadata": {
    "execution": {
     "iopub.execute_input": "2020-09-24T19:12:44.576849Z",
     "iopub.status.busy": "2020-09-24T19:12:44.576237Z",
     "iopub.status.idle": "2020-09-24T19:12:44.584410Z",
     "shell.execute_reply": "2020-09-24T19:12:44.584971Z"
    },
    "papermill": {
     "duration": 0.039258,
     "end_time": "2020-09-24T19:12:44.585125",
     "exception": false,
     "start_time": "2020-09-24T19:12:44.545867",
     "status": "completed"
    },
    "tags": []
   },
   "outputs": [
    {
     "data": {
      "text/html": [
       "<div>\n",
       "<style scoped>\n",
       "    .dataframe tbody tr th:only-of-type {\n",
       "        vertical-align: middle;\n",
       "    }\n",
       "\n",
       "    .dataframe tbody tr th {\n",
       "        vertical-align: top;\n",
       "    }\n",
       "\n",
       "    .dataframe thead th {\n",
       "        text-align: right;\n",
       "    }\n",
       "</style>\n",
       "<table border=\"1\" class=\"dataframe\">\n",
       "  <thead>\n",
       "    <tr style=\"text-align: right;\">\n",
       "      <th></th>\n",
       "      <th>TT</th>\n",
       "      <th>AN</th>\n",
       "      <th>AP</th>\n",
       "      <th>AR</th>\n",
       "      <th>AS</th>\n",
       "      <th>BR</th>\n",
       "      <th>CH</th>\n",
       "      <th>CT</th>\n",
       "      <th>DN</th>\n",
       "      <th>DD</th>\n",
       "      <th>...</th>\n",
       "      <th>PB</th>\n",
       "      <th>RJ</th>\n",
       "      <th>SK</th>\n",
       "      <th>TN</th>\n",
       "      <th>TG</th>\n",
       "      <th>TR</th>\n",
       "      <th>UP</th>\n",
       "      <th>UT</th>\n",
       "      <th>WB</th>\n",
       "      <th>UN</th>\n",
       "    </tr>\n",
       "    <tr>\n",
       "      <th>Status</th>\n",
       "      <th></th>\n",
       "      <th></th>\n",
       "      <th></th>\n",
       "      <th></th>\n",
       "      <th></th>\n",
       "      <th></th>\n",
       "      <th></th>\n",
       "      <th></th>\n",
       "      <th></th>\n",
       "      <th></th>\n",
       "      <th></th>\n",
       "      <th></th>\n",
       "      <th></th>\n",
       "      <th></th>\n",
       "      <th></th>\n",
       "      <th></th>\n",
       "      <th></th>\n",
       "      <th></th>\n",
       "      <th></th>\n",
       "      <th></th>\n",
       "      <th></th>\n",
       "    </tr>\n",
       "  </thead>\n",
       "  <tbody>\n",
       "    <tr>\n",
       "      <th>Confirmed</th>\n",
       "      <td>5729550</td>\n",
       "      <td>3708</td>\n",
       "      <td>646530</td>\n",
       "      <td>8133</td>\n",
       "      <td>163389</td>\n",
       "      <td>173063</td>\n",
       "      <td>10726</td>\n",
       "      <td>93351</td>\n",
       "      <td>2961</td>\n",
       "      <td>0</td>\n",
       "      <td>...</td>\n",
       "      <td>103464</td>\n",
       "      <td>120739</td>\n",
       "      <td>2561</td>\n",
       "      <td>557999</td>\n",
       "      <td>176560</td>\n",
       "      <td>23335</td>\n",
       "      <td>369686</td>\n",
       "      <td>43720</td>\n",
       "      <td>234673</td>\n",
       "      <td>0</td>\n",
       "    </tr>\n",
       "    <tr>\n",
       "      <th>Deceased</th>\n",
       "      <td>90588</td>\n",
       "      <td>52</td>\n",
       "      <td>5506</td>\n",
       "      <td>14</td>\n",
       "      <td>601</td>\n",
       "      <td>874</td>\n",
       "      <td>137</td>\n",
       "      <td>728</td>\n",
       "      <td>2</td>\n",
       "      <td>0</td>\n",
       "      <td>...</td>\n",
       "      <td>2990</td>\n",
       "      <td>1382</td>\n",
       "      <td>30</td>\n",
       "      <td>9010</td>\n",
       "      <td>1062</td>\n",
       "      <td>250</td>\n",
       "      <td>5299</td>\n",
       "      <td>529</td>\n",
       "      <td>4544</td>\n",
       "      <td>0</td>\n",
       "    </tr>\n",
       "    <tr>\n",
       "      <th>Recovered</th>\n",
       "      <td>4671837</td>\n",
       "      <td>3485</td>\n",
       "      <td>570667</td>\n",
       "      <td>5903</td>\n",
       "      <td>132709</td>\n",
       "      <td>158546</td>\n",
       "      <td>8049</td>\n",
       "      <td>56773</td>\n",
       "      <td>2718</td>\n",
       "      <td>0</td>\n",
       "      <td>...</td>\n",
       "      <td>79244</td>\n",
       "      <td>100365</td>\n",
       "      <td>1943</td>\n",
       "      <td>502740</td>\n",
       "      <td>146135</td>\n",
       "      <td>16463</td>\n",
       "      <td>302689</td>\n",
       "      <td>31123</td>\n",
       "      <td>205028</td>\n",
       "      <td>0</td>\n",
       "    </tr>\n",
       "  </tbody>\n",
       "</table>\n",
       "<p>3 rows × 39 columns</p>\n",
       "</div>"
      ],
      "text/plain": [
       "                TT    AN      AP    AR      AS      BR     CH     CT    DN  \\\n",
       "Status                                                                       \n",
       "Confirmed  5729550  3708  646530  8133  163389  173063  10726  93351  2961   \n",
       "Deceased     90588    52    5506    14     601     874    137    728     2   \n",
       "Recovered  4671837  3485  570667  5903  132709  158546   8049  56773  2718   \n",
       "\n",
       "           DD  ...      PB      RJ    SK      TN      TG     TR      UP  \\\n",
       "Status         ...                                                        \n",
       "Confirmed   0  ...  103464  120739  2561  557999  176560  23335  369686   \n",
       "Deceased    0  ...    2990    1382    30    9010    1062    250    5299   \n",
       "Recovered   0  ...   79244  100365  1943  502740  146135  16463  302689   \n",
       "\n",
       "              UT      WB  UN  \n",
       "Status                        \n",
       "Confirmed  43720  234673   0  \n",
       "Deceased     529    4544   0  \n",
       "Recovered  31123  205028   0  \n",
       "\n",
       "[3 rows x 39 columns]"
      ]
     },
     "execution_count": 7,
     "metadata": {},
     "output_type": "execute_result"
    }
   ],
   "source": [
    "#hide\n",
    "df_yday.head()"
   ]
  },
  {
   "cell_type": "code",
   "execution_count": 8,
   "metadata": {
    "execution": {
     "iopub.execute_input": "2020-09-24T19:12:44.855101Z",
     "iopub.status.busy": "2020-09-24T19:12:44.854487Z",
     "iopub.status.idle": "2020-09-24T19:12:44.860296Z",
     "shell.execute_reply": "2020-09-24T19:12:44.859842Z"
    },
    "papermill": {
     "duration": 0.260277,
     "end_time": "2020-09-24T19:12:44.860424",
     "exception": false,
     "start_time": "2020-09-24T19:12:44.600147",
     "status": "completed"
    },
    "tags": []
   },
   "outputs": [
    {
     "data": {
      "text/plain": [
       "{'updated': '24-Sep-20',\n",
       " 'since': '23-Sep-20',\n",
       " 'Cases': 5815469,\n",
       " 'Deaths': 91732,\n",
       " 'Recovered': 4752978,\n",
       " 'PCases': 5729550,\n",
       " 'PDeaths': 90588,\n",
       " 'PRecovered': 4671837,\n",
       " 'Cases (+)': 85919,\n",
       " 'Deaths (+)': 1144,\n",
       " 'Recovered (+)': 81141}"
      ]
     },
     "execution_count": 8,
     "metadata": {},
     "output_type": "execute_result"
    }
   ],
   "source": [
    "#hide\n",
    "summary = {\n",
    "    'updated' : dt_today,\n",
    "    'since' : dt_yday,\n",
    "    'Cases' : df_today['TT'][0],\n",
    "    'Deaths' : df_today['TT'][1],\n",
    "    'Recovered' : df_today['TT'][2],\n",
    "    'PCases' : df_yday['TT'][0],\n",
    "    'PDeaths' : df_yday['TT'][1],\n",
    "    'PRecovered': df_yday['TT'][2],\n",
    "    'Cases (+)' : df_today['TT'][0] - df_yday['TT'][0],\n",
    "    'Deaths (+)' : df_today['TT'][1] - df_yday['TT'][1],\n",
    "    'Recovered (+)': df_today['TT'][2] - df_yday['TT'][2]\n",
    "}\n",
    "\n",
    "summary"
   ]
  },
  {
   "cell_type": "code",
   "execution_count": 9,
   "metadata": {
    "execution": {
     "iopub.execute_input": "2020-09-24T19:12:44.892531Z",
     "iopub.status.busy": "2020-09-24T19:12:44.891969Z",
     "iopub.status.idle": "2020-09-24T19:12:44.893723Z",
     "shell.execute_reply": "2020-09-24T19:12:44.894186Z"
    },
    "papermill": {
     "duration": 0.020019,
     "end_time": "2020-09-24T19:12:44.894353",
     "exception": false,
     "start_time": "2020-09-24T19:12:44.874334",
     "status": "completed"
    },
    "tags": []
   },
   "outputs": [],
   "source": [
    "#hide\n",
    "overview = '''\n",
    "<!-- #######  HTML!! #########-->\n",
    "<h1 style=\"color: #5e9ca0; text-align: center;\">India</h1>\n",
    "<p style=\"text-align: center;\">Last update: <strong>{update}</strong></p>\n",
    "<p style=\"text-align: center;\">Confirmed cases:</p>\n",
    "<p style=\"text-align: center;font-size:24px;\">{cases} (<span style=\"color: #ff0000;\">+{new}</span>)</p>\n",
    "<p style=\"text-align: center;\">Confirmed deaths:</p>\n",
    "<p style=\"text-align: center;font-size:24px;\">{deaths} (<span style=\"color: #ff0000;\">+{dnew}</span>)</p>\n",
    "<p style=\"text-align: center;\">Recovered cases:</p>\n",
    "<p style=\"text-align: center;font-size:24px;\">{recovered} (<span style=\"color: #00ff00;\">+{rnew}</span>)</p>\n",
    "'''"
   ]
  },
  {
   "cell_type": "code",
   "execution_count": 10,
   "metadata": {
    "execution": {
     "iopub.execute_input": "2020-09-24T19:12:44.927093Z",
     "iopub.status.busy": "2020-09-24T19:12:44.926603Z",
     "iopub.status.idle": "2020-09-24T19:12:44.929736Z",
     "shell.execute_reply": "2020-09-24T19:12:44.929251Z"
    },
    "papermill": {
     "duration": 0.021736,
     "end_time": "2020-09-24T19:12:44.929850",
     "exception": false,
     "start_time": "2020-09-24T19:12:44.908114",
     "status": "completed"
    },
    "tags": []
   },
   "outputs": [
    {
     "data": {
      "text/html": [
       "\n",
       "<!-- #######  HTML!! #########-->\n",
       "<h1 style=\"color: #5e9ca0; text-align: center;\">India</h1>\n",
       "<p style=\"text-align: center;\">Last update: <strong>24-Sep-20</strong></p>\n",
       "<p style=\"text-align: center;\">Confirmed cases:</p>\n",
       "<p style=\"text-align: center;font-size:24px;\">5815469 (<span style=\"color: #ff0000;\">+85919</span>)</p>\n",
       "<p style=\"text-align: center;\">Confirmed deaths:</p>\n",
       "<p style=\"text-align: center;font-size:24px;\">91732 (<span style=\"color: #ff0000;\">+1144</span>)</p>\n",
       "<p style=\"text-align: center;\">Recovered cases:</p>\n",
       "<p style=\"text-align: center;font-size:24px;\">4752978 (<span style=\"color: #00ff00;\">+81141</span>)</p>\n"
      ],
      "text/plain": [
       "<IPython.core.display.HTML object>"
      ]
     },
     "metadata": {},
     "output_type": "display_data"
    }
   ],
   "source": [
    "#hide_input\n",
    "# Fill the above HTML with the information from the summary dictionary\n",
    "\n",
    "update = summary['updated']\n",
    "cases = summary['Cases']\n",
    "new = summary['Cases (+)']\n",
    "deaths = summary['Deaths']\n",
    "dnew = summary['Deaths (+)']\n",
    "recovered = summary['Recovered']\n",
    "rnew = summary['Recovered (+)']\n",
    "\n",
    "html = HTML(overview.format(update=update, cases=cases,new=new,deaths=deaths,dnew=dnew, recovered=recovered, rnew=rnew))\n",
    "\n",
    "display(html)"
   ]
  },
  {
   "cell_type": "code",
   "execution_count": 11,
   "metadata": {
    "execution": {
     "iopub.execute_input": "2020-09-24T19:12:44.964655Z",
     "iopub.status.busy": "2020-09-24T19:12:44.964109Z",
     "iopub.status.idle": "2020-09-24T19:12:44.970330Z",
     "shell.execute_reply": "2020-09-24T19:12:44.969892Z"
    },
    "papermill": {
     "duration": 0.026427,
     "end_time": "2020-09-24T19:12:44.970445",
     "exception": false,
     "start_time": "2020-09-24T19:12:44.944018",
     "status": "completed"
    },
    "tags": []
   },
   "outputs": [],
   "source": [
    "#hide\n",
    "df_cases = df[df['Status'] == 'Confirmed'].copy()\n",
    "df_cases.drop(columns = ['Status'], inplace=True)\n",
    "df_deaths = df[df['Status'] == 'Deceased'].copy()\n",
    "df_deaths.drop(columns = ['Status'], inplace=True)\n",
    "df_recovered = df[df['Status'] == 'Recovered'].copy()\n",
    "df_recovered.drop(columns = ['Status'], inplace=True)"
   ]
  },
  {
   "cell_type": "markdown",
   "metadata": {
    "papermill": {
     "duration": 0.013776,
     "end_time": "2020-09-24T19:12:44.997925",
     "exception": false,
     "start_time": "2020-09-24T19:12:44.984149",
     "status": "completed"
    },
    "tags": []
   },
   "source": [
    "Plot for India:"
   ]
  },
  {
   "cell_type": "code",
   "execution_count": 12,
   "metadata": {
    "execution": {
     "iopub.execute_input": "2020-09-24T19:12:45.070587Z",
     "iopub.status.busy": "2020-09-24T19:12:45.062638Z",
     "iopub.status.idle": "2020-09-24T19:12:45.285348Z",
     "shell.execute_reply": "2020-09-24T19:12:45.285804Z"
    },
    "papermill": {
     "duration": 0.274056,
     "end_time": "2020-09-24T19:12:45.285967",
     "exception": false,
     "start_time": "2020-09-24T19:12:45.011911",
     "status": "completed"
    },
    "tags": []
   },
   "outputs": [
    {
     "data": {
      "image/png": "[encoded data removed]",
      "text/plain": [
       "<Figure size 1296x432 with 1 Axes>"
      ]
     },
     "metadata": {
      "needs_background": "light"
     },
     "output_type": "display_data"
    }
   ],
   "source": [
    "#hide_input\n",
    "plt.figure(figsize = (18,6))\n",
    "plt.plot(df_cases['Date'], df_cases['TT'],'.-', alpha=0.7, color='b', label='Confirmed cases')\n",
    "plt.plot(df_recovered['Date'], df_recovered['TT'],'.-', alpha=0.7, color='g', label='Recovered')\n",
    "plt.plot(df_deaths['Date'], df_deaths['TT'],'.-', alpha=0.7, color='r', label='Deceased')\n",
    "plt.legend()\n",
    "plt.title(\"Cases per day in India\")\n",
    "plt.xticks(ticks=' ')\n",
    "plt.xlabel(f'{df_cases.iloc[0][0]} to {df_cases.iloc[-1][0]}')\n",
    "plt.ylabel('No. of cases');"
   ]
  },
  {
   "cell_type": "markdown",
   "metadata": {
    "papermill": {
     "duration": 0.016168,
     "end_time": "2020-09-24T19:12:45.318157",
     "exception": false,
     "start_time": "2020-09-24T19:12:45.301989",
     "status": "completed"
    },
    "tags": []
   },
   "source": [
    "Plots for the states with highest number of cases:"
   ]
  },
  {
   "cell_type": "code",
   "execution_count": 13,
   "metadata": {
    "execution": {
     "iopub.execute_input": "2020-09-24T19:12:45.359009Z",
     "iopub.status.busy": "2020-09-24T19:12:45.358398Z",
     "iopub.status.idle": "2020-09-24T19:12:45.917748Z",
     "shell.execute_reply": "2020-09-24T19:12:45.917307Z"
    },
    "papermill": {
     "duration": 0.58419,
     "end_time": "2020-09-24T19:12:45.917881",
     "exception": false,
     "start_time": "2020-09-24T19:12:45.333691",
     "status": "completed"
    },
    "tags": []
   },
   "outputs": [
    {
     "data": {
      "image/png": "[encoded data removed]",
      "text/plain": [
       "<Figure size 1512x432 with 3 Axes>"
      ]
     },
     "metadata": {
      "needs_background": "light"
     },
     "output_type": "display_data"
    }
   ],
   "source": [
    "#hide_input\n",
    "top_3 = sorted(df_cases.sum().values[1:], reverse=True)[1:4]\n",
    "top3_states=[]\n",
    "for i in top_3:\n",
    "    top3_states.append(df_cases.sum()[df_cases.sum() == i].index)\n",
    "\n",
    "\n",
    "fig, ax = plt.subplots(1,3,figsize = (21,6))\n",
    "for i in range(3):\n",
    "    state = top3_states[i].values[0]\n",
    "    ax[i].plot(df_cases['Date'], df_cases[state],'.-', color='b', alpha=0.7)\n",
    "    ax[i].plot(df_deaths['Date'], df_deaths[state],'.-', color='r', alpha=0.7)\n",
    "    ax[i].plot(df_recovered['Date'], df_recovered[state],'.-', color='g', alpha=0.7)\n",
    "    \n",
    "    ax[i].set_title(f\"Cases in {state}\")\n",
    "    ax[i].set_xticks(ticks=' ')\n",
    "    ax[i].set_xlabel(f'{df_cases.iloc[0][0]} to {df_cases.iloc[-1][0]}')\n",
    "    ax[i].set_ylabel('No. of cases');"
   ]
  },
  {
   "cell_type": "code",
   "execution_count": null,
   "metadata": {
    "papermill": {
     "duration": 0.019108,
     "end_time": "2020-09-24T19:12:45.956013",
     "exception": false,
     "start_time": "2020-09-24T19:12:45.936905",
     "status": "completed"
    },
    "tags": []
   },
   "outputs": [],
   "source": []
  },
  {
   "cell_type": "code",
   "execution_count": null,
   "metadata": {
    "papermill": {
     "duration": 0.018909,
     "end_time": "2020-09-24T19:12:45.993731",
     "exception": false,
     "start_time": "2020-09-24T19:12:45.974822",
     "status": "completed"
    },
    "tags": []
   },
   "outputs": [],
   "source": []
  },
  {
   "cell_type": "code",
   "execution_count": null,
   "metadata": {
    "papermill": {
     "duration": 0.018202,
     "end_time": "2020-09-24T19:12:46.031102",
     "exception": false,
     "start_time": "2020-09-24T19:12:46.012900",
     "status": "completed"
    },
    "tags": []
   },
   "outputs": [],
   "source": []
  }
 ],
 "metadata": {
  "kernelspec": {
   "display_name": "Python 3",
   "language": "python",
   "name": "python3"
  },
  "language_info": {
   "codemirror_mode": {
    "name": "ipython",
    "version": 3
   },
   "file_extension": ".py",
   "mimetype": "text/x-python",
   "name": "python",
   "nbconvert_exporter": "python",
   "pygments_lexer": "ipython3",
   "version": "3.6.12"
  },
  "papermill": {
   "duration": 3.845678,
   "end_time": "2020-09-24T19:12:46.358663",
   "environment_variables": {},
   "exception": null,
   "input_path": "2020-08-09-DailyUpdate.ipynb",
   "output_path": "2020-08-09-DailyUpdate.ipynb",
   "parameters": {},
   "start_time": "2020-09-24T19:12:42.512985",
   "version": "2.1.2"
  }
 },
 "nbformat": 4,
 "nbformat_minor": 4
}