{
 "cells": [
  {
   "cell_type": "markdown",
   "metadata": {
    "papermill": {
     "duration": 0.016898,
     "end_time": "2020-08-28T19:11:56.909848",
     "exception": false,
     "start_time": "2020-08-28T19:11:56.892950",
     "status": "completed"
    },
    "tags": []
   },
   "source": [
    "# COVID-19 India Daily updates\n",
    "> Tracking coronavirus total cases, deaths and new cases in India on a daily basis\n",
    "\n",
    "- author: Vaibhav Mahapatra"
   ]
  },
  {
   "cell_type": "code",
   "execution_count": 1,
   "metadata": {
    "execution": {
     "iopub.execute_input": "2020-08-28T19:11:56.941375Z",
     "iopub.status.busy": "2020-08-28T19:11:56.940773Z",
     "iopub.status.idle": "2020-08-28T19:11:57.522232Z",
     "shell.execute_reply": "2020-08-28T19:11:57.522726Z"
    },
    "papermill": {
     "duration": 0.600515,
     "end_time": "2020-08-28T19:11:57.522909",
     "exception": false,
     "start_time": "2020-08-28T19:11:56.922394",
     "status": "completed"
    },
    "tags": []
   },
   "outputs": [],
   "source": [
    "#hide\n",
    "\n",
    "## Import essential packages below\n",
    "\n",
    "import pandas as pd\n",
    "import numpy as np\n",
    "import requests\n",
    "import json\n",
    "import matplotlib.pyplot as plt\n",
    "import matplotlib.dates as mdates\n",
    "import matplotlib as mpl\n",
    "from IPython.core.display import display,HTML\n",
    "%matplotlib inline"
   ]
  },
  {
   "cell_type": "code",
   "execution_count": 2,
   "metadata": {
    "execution": {
     "iopub.execute_input": "2020-08-28T19:11:58.023060Z",
     "iopub.status.busy": "2020-08-28T19:11:58.022454Z",
     "iopub.status.idle": "2020-08-28T19:11:58.354169Z",
     "shell.execute_reply": "2020-08-28T19:11:58.354740Z"
    },
    "papermill": {
     "duration": 0.819755,
     "end_time": "2020-08-28T19:11:58.354915",
     "exception": false,
     "start_time": "2020-08-28T19:11:57.535160",
     "status": "completed"
    },
    "tags": []
   },
   "outputs": [
    {
     "data": {
      "text/plain": [
       "(504, 41)"
      ]
     },
     "execution_count": 2,
     "metadata": {},
     "output_type": "execute_result"
    }
   ],
   "source": [
    "#hide\n",
    "url = 'https://api.covid19india.org/csv/latest/state_wise_daily.csv'\n",
    "df = pd.read_csv(url)\n",
    "df.shape"
   ]
  },
  {
   "cell_type": "code",
   "execution_count": 3,
   "metadata": {
    "execution": {
     "iopub.execute_input": "2020-08-28T19:11:58.576601Z",
     "iopub.status.busy": "2020-08-28T19:11:58.569072Z",
     "iopub.status.idle": "2020-08-28T19:11:58.579159Z",
     "shell.execute_reply": "2020-08-28T19:11:58.579633Z"
    },
    "papermill": {
     "duration": 0.211909,
     "end_time": "2020-08-28T19:11:58.579788",
     "exception": false,
     "start_time": "2020-08-28T19:11:58.367879",
     "status": "completed"
    },
    "tags": []
   },
   "outputs": [
    {
     "data": {
      "text/html": [
       "<div>\n",
       "<style scoped>\n",
       "    .dataframe tbody tr th:only-of-type {\n",
       "        vertical-align: middle;\n",
       "    }\n",
       "\n",
       "    .dataframe tbody tr th {\n",
       "        vertical-align: top;\n",
       "    }\n",
       "\n",
       "    .dataframe thead th {\n",
       "        text-align: right;\n",
       "    }\n",
       "</style>\n",
       "<table border=\"1\" class=\"dataframe\">\n",
       "  <thead>\n",
       "    <tr style=\"text-align: right;\">\n",
       "      <th></th>\n",
       "      <th>Date</th>\n",
       "      <th>Status</th>\n",
       "      <th>TT</th>\n",
       "      <th>AN</th>\n",
       "      <th>AP</th>\n",
       "      <th>AR</th>\n",
       "      <th>AS</th>\n",
       "      <th>BR</th>\n",
       "      <th>CH</th>\n",
       "      <th>CT</th>\n",
       "      <th>...</th>\n",
       "      <th>PB</th>\n",
       "      <th>RJ</th>\n",
       "      <th>SK</th>\n",
       "      <th>TN</th>\n",
       "      <th>TG</th>\n",
       "      <th>TR</th>\n",
       "      <th>UP</th>\n",
       "      <th>UT</th>\n",
       "      <th>WB</th>\n",
       "      <th>UN</th>\n",
       "    </tr>\n",
       "  </thead>\n",
       "  <tbody>\n",
       "    <tr>\n",
       "      <th>498</th>\n",
       "      <td>27-Aug-20</td>\n",
       "      <td>Confirmed</td>\n",
       "      <td>76827</td>\n",
       "      <td>33</td>\n",
       "      <td>10621</td>\n",
       "      <td>78</td>\n",
       "      <td>2036</td>\n",
       "      <td>1860</td>\n",
       "      <td>188</td>\n",
       "      <td>1438</td>\n",
       "      <td>...</td>\n",
       "      <td>1746</td>\n",
       "      <td>1345</td>\n",
       "      <td>56</td>\n",
       "      <td>5981</td>\n",
       "      <td>2795</td>\n",
       "      <td>385</td>\n",
       "      <td>5391</td>\n",
       "      <td>728</td>\n",
       "      <td>2997</td>\n",
       "      <td>0</td>\n",
       "    </tr>\n",
       "    <tr>\n",
       "      <th>499</th>\n",
       "      <td>27-Aug-20</td>\n",
       "      <td>Recovered</td>\n",
       "      <td>59620</td>\n",
       "      <td>65</td>\n",
       "      <td>8528</td>\n",
       "      <td>58</td>\n",
       "      <td>2345</td>\n",
       "      <td>2931</td>\n",
       "      <td>177</td>\n",
       "      <td>462</td>\n",
       "      <td>...</td>\n",
       "      <td>741</td>\n",
       "      <td>1006</td>\n",
       "      <td>75</td>\n",
       "      <td>5870</td>\n",
       "      <td>872</td>\n",
       "      <td>123</td>\n",
       "      <td>4331</td>\n",
       "      <td>251</td>\n",
       "      <td>3189</td>\n",
       "      <td>0</td>\n",
       "    </tr>\n",
       "    <tr>\n",
       "      <th>500</th>\n",
       "      <td>27-Aug-20</td>\n",
       "      <td>Deceased</td>\n",
       "      <td>1066</td>\n",
       "      <td>1</td>\n",
       "      <td>92</td>\n",
       "      <td>0</td>\n",
       "      <td>4</td>\n",
       "      <td>9</td>\n",
       "      <td>2</td>\n",
       "      <td>14</td>\n",
       "      <td>...</td>\n",
       "      <td>37</td>\n",
       "      <td>13</td>\n",
       "      <td>0</td>\n",
       "      <td>109</td>\n",
       "      <td>8</td>\n",
       "      <td>2</td>\n",
       "      <td>76</td>\n",
       "      <td>9</td>\n",
       "      <td>53</td>\n",
       "      <td>0</td>\n",
       "    </tr>\n",
       "    <tr>\n",
       "      <th>501</th>\n",
       "      <td>28-Aug-20</td>\n",
       "      <td>Confirmed</td>\n",
       "      <td>76457</td>\n",
       "      <td>32</td>\n",
       "      <td>10526</td>\n",
       "      <td>112</td>\n",
       "      <td>2560</td>\n",
       "      <td>1998</td>\n",
       "      <td>160</td>\n",
       "      <td>1245</td>\n",
       "      <td>...</td>\n",
       "      <td>1542</td>\n",
       "      <td>1355</td>\n",
       "      <td>0</td>\n",
       "      <td>5996</td>\n",
       "      <td>2942</td>\n",
       "      <td>509</td>\n",
       "      <td>5405</td>\n",
       "      <td>588</td>\n",
       "      <td>2982</td>\n",
       "      <td>0</td>\n",
       "    </tr>\n",
       "    <tr>\n",
       "      <th>502</th>\n",
       "      <td>28-Aug-20</td>\n",
       "      <td>Recovered</td>\n",
       "      <td>64382</td>\n",
       "      <td>70</td>\n",
       "      <td>8463</td>\n",
       "      <td>88</td>\n",
       "      <td>1763</td>\n",
       "      <td>2749</td>\n",
       "      <td>130</td>\n",
       "      <td>502</td>\n",
       "      <td>...</td>\n",
       "      <td>2036</td>\n",
       "      <td>1448</td>\n",
       "      <td>0</td>\n",
       "      <td>5752</td>\n",
       "      <td>1580</td>\n",
       "      <td>142</td>\n",
       "      <td>4986</td>\n",
       "      <td>349</td>\n",
       "      <td>3286</td>\n",
       "      <td>0</td>\n",
       "    </tr>\n",
       "    <tr>\n",
       "      <th>503</th>\n",
       "      <td>28-Aug-20</td>\n",
       "      <td>Deceased</td>\n",
       "      <td>1018</td>\n",
       "      <td>0</td>\n",
       "      <td>81</td>\n",
       "      <td>2</td>\n",
       "      <td>8</td>\n",
       "      <td>12</td>\n",
       "      <td>2</td>\n",
       "      <td>6</td>\n",
       "      <td>...</td>\n",
       "      <td>51</td>\n",
       "      <td>12</td>\n",
       "      <td>0</td>\n",
       "      <td>102</td>\n",
       "      <td>11</td>\n",
       "      <td>4</td>\n",
       "      <td>77</td>\n",
       "      <td>11</td>\n",
       "      <td>56</td>\n",
       "      <td>0</td>\n",
       "    </tr>\n",
       "  </tbody>\n",
       "</table>\n",
       "<p>6 rows × 41 columns</p>\n",
       "</div>"
      ],
      "text/plain": [
       "          Date     Status     TT  AN     AP   AR    AS    BR   CH    CT  ...  \\\n",
       "498  27-Aug-20  Confirmed  76827  33  10621   78  2036  1860  188  1438  ...   \n",
       "499  27-Aug-20  Recovered  59620  65   8528   58  2345  2931  177   462  ...   \n",
       "500  27-Aug-20   Deceased   1066   1     92    0     4     9    2    14  ...   \n",
       "501  28-Aug-20  Confirmed  76457  32  10526  112  2560  1998  160  1245  ...   \n",
       "502  28-Aug-20  Recovered  64382  70   8463   88  1763  2749  130   502  ...   \n",
       "503  28-Aug-20   Deceased   1018   0     81    2     8    12    2     6  ...   \n",
       "\n",
       "       PB    RJ  SK    TN    TG   TR    UP   UT    WB  UN  \n",
       "498  1746  1345  56  5981  2795  385  5391  728  2997   0  \n",
       "499   741  1006  75  5870   872  123  4331  251  3189   0  \n",
       "500    37    13   0   109     8    2    76    9    53   0  \n",
       "501  1542  1355   0  5996  2942  509  5405  588  2982   0  \n",
       "502  2036  1448   0  5752  1580  142  4986  349  3286   0  \n",
       "503    51    12   0   102    11    4    77   11    56   0  \n",
       "\n",
       "[6 rows x 41 columns]"
      ]
     },
     "execution_count": 3,
     "metadata": {},
     "output_type": "execute_result"
    }
   ],
   "source": [
    "#hide\n",
    "df.tail(6)"
   ]
  },
  {
   "cell_type": "code",
   "execution_count": 4,
   "metadata": {
    "execution": {
     "iopub.execute_input": "2020-08-28T19:11:58.611183Z",
     "iopub.status.busy": "2020-08-28T19:11:58.610552Z",
     "iopub.status.idle": "2020-08-28T19:11:58.612869Z",
     "shell.execute_reply": "2020-08-28T19:11:58.613393Z"
    },
    "papermill": {
     "duration": 0.020671,
     "end_time": "2020-08-28T19:11:58.613526",
     "exception": false,
     "start_time": "2020-08-28T19:11:58.592855",
     "status": "completed"
    },
    "tags": []
   },
   "outputs": [
    {
     "data": {
      "text/plain": [
       "('28-Aug-20', '27-Aug-20')"
      ]
     },
     "execution_count": 4,
     "metadata": {},
     "output_type": "execute_result"
    }
   ],
   "source": [
    "#hide\n",
    "dt_today = df.iloc[-1][0]\n",
    "dt_yday = df.iloc[-4][0]\n",
    "dt_today, dt_yday"
   ]
  },
  {
   "cell_type": "code",
   "execution_count": 5,
   "metadata": {
    "execution": {
     "iopub.execute_input": "2020-08-28T19:11:58.646237Z",
     "iopub.status.busy": "2020-08-28T19:11:58.645622Z",
     "iopub.status.idle": "2020-08-28T19:11:58.651640Z",
     "shell.execute_reply": "2020-08-28T19:11:58.651062Z"
    },
    "papermill": {
     "duration": 0.025147,
     "end_time": "2020-08-28T19:11:58.651756",
     "exception": false,
     "start_time": "2020-08-28T19:11:58.626609",
     "status": "completed"
    },
    "tags": []
   },
   "outputs": [],
   "source": [
    "#hide\n",
    "df_today = df.groupby('Status').sum()\n",
    "df_yday = df.iloc[:-3][:].groupby('Status').sum()"
   ]
  },
  {
   "cell_type": "code",
   "execution_count": 6,
   "metadata": {
    "execution": {
     "iopub.execute_input": "2020-08-28T19:11:58.693389Z",
     "iopub.status.busy": "2020-08-28T19:11:58.692804Z",
     "iopub.status.idle": "2020-08-28T19:11:58.695242Z",
     "shell.execute_reply": "2020-08-28T19:11:58.695713Z"
    },
    "papermill": {
     "duration": 0.030811,
     "end_time": "2020-08-28T19:11:58.695845",
     "exception": false,
     "start_time": "2020-08-28T19:11:58.665034",
     "status": "completed"
    },
    "tags": []
   },
   "outputs": [
    {
     "data": {
      "text/html": [
       "<div>\n",
       "<style scoped>\n",
       "    .dataframe tbody tr th:only-of-type {\n",
       "        vertical-align: middle;\n",
       "    }\n",
       "\n",
       "    .dataframe tbody tr th {\n",
       "        vertical-align: top;\n",
       "    }\n",
       "\n",
       "    .dataframe thead th {\n",
       "        text-align: right;\n",
       "    }\n",
       "</style>\n",
       "<table border=\"1\" class=\"dataframe\">\n",
       "  <thead>\n",
       "    <tr style=\"text-align: right;\">\n",
       "      <th></th>\n",
       "      <th>TT</th>\n",
       "      <th>AN</th>\n",
       "      <th>AP</th>\n",
       "      <th>AR</th>\n",
       "      <th>AS</th>\n",
       "      <th>BR</th>\n",
       "      <th>CH</th>\n",
       "      <th>CT</th>\n",
       "      <th>DN</th>\n",
       "      <th>DD</th>\n",
       "      <th>...</th>\n",
       "      <th>PB</th>\n",
       "      <th>RJ</th>\n",
       "      <th>SK</th>\n",
       "      <th>TN</th>\n",
       "      <th>TG</th>\n",
       "      <th>TR</th>\n",
       "      <th>UP</th>\n",
       "      <th>UT</th>\n",
       "      <th>WB</th>\n",
       "      <th>UN</th>\n",
       "    </tr>\n",
       "    <tr>\n",
       "      <th>Status</th>\n",
       "      <th></th>\n",
       "      <th></th>\n",
       "      <th></th>\n",
       "      <th></th>\n",
       "      <th></th>\n",
       "      <th></th>\n",
       "      <th></th>\n",
       "      <th></th>\n",
       "      <th></th>\n",
       "      <th></th>\n",
       "      <th></th>\n",
       "      <th></th>\n",
       "      <th></th>\n",
       "      <th></th>\n",
       "      <th></th>\n",
       "      <th></th>\n",
       "      <th></th>\n",
       "      <th></th>\n",
       "      <th></th>\n",
       "      <th></th>\n",
       "      <th></th>\n",
       "    </tr>\n",
       "  </thead>\n",
       "  <tbody>\n",
       "    <tr>\n",
       "      <th>Confirmed</th>\n",
       "      <td>3460383</td>\n",
       "      <td>3046</td>\n",
       "      <td>403616</td>\n",
       "      <td>3745</td>\n",
       "      <td>101266</td>\n",
       "      <td>130848</td>\n",
       "      <td>3724</td>\n",
       "      <td>27233</td>\n",
       "      <td>2293</td>\n",
       "      <td>0</td>\n",
       "      <td>...</td>\n",
       "      <td>49378</td>\n",
       "      <td>77370</td>\n",
       "      <td>1555</td>\n",
       "      <td>409238</td>\n",
       "      <td>116915</td>\n",
       "      <td>10433</td>\n",
       "      <td>213824</td>\n",
       "      <td>17865</td>\n",
       "      <td>153754</td>\n",
       "      <td>0</td>\n",
       "    </tr>\n",
       "    <tr>\n",
       "      <th>Deceased</th>\n",
       "      <td>62724</td>\n",
       "      <td>42</td>\n",
       "      <td>3714</td>\n",
       "      <td>7</td>\n",
       "      <td>290</td>\n",
       "      <td>674</td>\n",
       "      <td>45</td>\n",
       "      <td>251</td>\n",
       "      <td>2</td>\n",
       "      <td>0</td>\n",
       "      <td>...</td>\n",
       "      <td>1307</td>\n",
       "      <td>1017</td>\n",
       "      <td>3</td>\n",
       "      <td>7050</td>\n",
       "      <td>799</td>\n",
       "      <td>89</td>\n",
       "      <td>3294</td>\n",
       "      <td>239</td>\n",
       "      <td>3073</td>\n",
       "      <td>0</td>\n",
       "    </tr>\n",
       "    <tr>\n",
       "      <th>Recovered</th>\n",
       "      <td>2647438</td>\n",
       "      <td>2435</td>\n",
       "      <td>303711</td>\n",
       "      <td>2709</td>\n",
       "      <td>81071</td>\n",
       "      <td>112445</td>\n",
       "      <td>2107</td>\n",
       "      <td>15109</td>\n",
       "      <td>1960</td>\n",
       "      <td>0</td>\n",
       "      <td>...</td>\n",
       "      <td>33008</td>\n",
       "      <td>62033</td>\n",
       "      <td>1152</td>\n",
       "      <td>349682</td>\n",
       "      <td>87675</td>\n",
       "      <td>6839</td>\n",
       "      <td>157879</td>\n",
       "      <td>12124</td>\n",
       "      <td>124332</td>\n",
       "      <td>0</td>\n",
       "    </tr>\n",
       "  </tbody>\n",
       "</table>\n",
       "<p>3 rows × 39 columns</p>\n",
       "</div>"
      ],
      "text/plain": [
       "                TT    AN      AP    AR      AS      BR    CH     CT    DN  DD  \\\n",
       "Status                                                                          \n",
       "Confirmed  3460383  3046  403616  3745  101266  130848  3724  27233  2293   0   \n",
       "Deceased     62724    42    3714     7     290     674    45    251     2   0   \n",
       "Recovered  2647438  2435  303711  2709   81071  112445  2107  15109  1960   0   \n",
       "\n",
       "           ...     PB     RJ    SK      TN      TG     TR      UP     UT  \\\n",
       "Status     ...                                                             \n",
       "Confirmed  ...  49378  77370  1555  409238  116915  10433  213824  17865   \n",
       "Deceased   ...   1307   1017     3    7050     799     89    3294    239   \n",
       "Recovered  ...  33008  62033  1152  349682   87675   6839  157879  12124   \n",
       "\n",
       "               WB  UN  \n",
       "Status                 \n",
       "Confirmed  153754   0  \n",
       "Deceased     3073   0  \n",
       "Recovered  124332   0  \n",
       "\n",
       "[3 rows x 39 columns]"
      ]
     },
     "execution_count": 6,
     "metadata": {},
     "output_type": "execute_result"
    }
   ],
   "source": [
    "#hide\n",
    "df_today"
   ]
  },
  {
   "cell_type": "code",
   "execution_count": 7,
   "metadata": {
    "execution": {
     "iopub.execute_input": "2020-08-28T19:11:58.740449Z",
     "iopub.status.busy": "2020-08-28T19:11:58.739844Z",
     "iopub.status.idle": "2020-08-28T19:11:58.742357Z",
     "shell.execute_reply": "2020-08-28T19:11:58.742833Z"
    },
    "papermill": {
     "duration": 0.03297,
     "end_time": "2020-08-28T19:11:58.742975",
     "exception": false,
     "start_time": "2020-08-28T19:11:58.710005",
     "status": "completed"
    },
    "tags": []
   },
   "outputs": [
    {
     "data": {
      "text/html": [
       "<div>\n",
       "<style scoped>\n",
       "    .dataframe tbody tr th:only-of-type {\n",
       "        vertical-align: middle;\n",
       "    }\n",
       "\n",
       "    .dataframe tbody tr th {\n",
       "        vertical-align: top;\n",
       "    }\n",
       "\n",
       "    .dataframe thead th {\n",
       "        text-align: right;\n",
       "    }\n",
       "</style>\n",
       "<table border=\"1\" class=\"dataframe\">\n",
       "  <thead>\n",
       "    <tr style=\"text-align: right;\">\n",
       "      <th></th>\n",
       "      <th>TT</th>\n",
       "      <th>AN</th>\n",
       "      <th>AP</th>\n",
       "      <th>AR</th>\n",
       "      <th>AS</th>\n",
       "      <th>BR</th>\n",
       "      <th>CH</th>\n",
       "      <th>CT</th>\n",
       "      <th>DN</th>\n",
       "      <th>DD</th>\n",
       "      <th>...</th>\n",
       "      <th>PB</th>\n",
       "      <th>RJ</th>\n",
       "      <th>SK</th>\n",
       "      <th>TN</th>\n",
       "      <th>TG</th>\n",
       "      <th>TR</th>\n",
       "      <th>UP</th>\n",
       "      <th>UT</th>\n",
       "      <th>WB</th>\n",
       "      <th>UN</th>\n",
       "    </tr>\n",
       "    <tr>\n",
       "      <th>Status</th>\n",
       "      <th></th>\n",
       "      <th></th>\n",
       "      <th></th>\n",
       "      <th></th>\n",
       "      <th></th>\n",
       "      <th></th>\n",
       "      <th></th>\n",
       "      <th></th>\n",
       "      <th></th>\n",
       "      <th></th>\n",
       "      <th></th>\n",
       "      <th></th>\n",
       "      <th></th>\n",
       "      <th></th>\n",
       "      <th></th>\n",
       "      <th></th>\n",
       "      <th></th>\n",
       "      <th></th>\n",
       "      <th></th>\n",
       "      <th></th>\n",
       "      <th></th>\n",
       "    </tr>\n",
       "  </thead>\n",
       "  <tbody>\n",
       "    <tr>\n",
       "      <th>Confirmed</th>\n",
       "      <td>3383926</td>\n",
       "      <td>3014</td>\n",
       "      <td>393090</td>\n",
       "      <td>3633</td>\n",
       "      <td>98706</td>\n",
       "      <td>128850</td>\n",
       "      <td>3564</td>\n",
       "      <td>25988</td>\n",
       "      <td>2264</td>\n",
       "      <td>0</td>\n",
       "      <td>...</td>\n",
       "      <td>47836</td>\n",
       "      <td>76015</td>\n",
       "      <td>1555</td>\n",
       "      <td>403242</td>\n",
       "      <td>113973</td>\n",
       "      <td>9924</td>\n",
       "      <td>208419</td>\n",
       "      <td>17277</td>\n",
       "      <td>150772</td>\n",
       "      <td>0</td>\n",
       "    </tr>\n",
       "    <tr>\n",
       "      <th>Deceased</th>\n",
       "      <td>61706</td>\n",
       "      <td>42</td>\n",
       "      <td>3633</td>\n",
       "      <td>5</td>\n",
       "      <td>282</td>\n",
       "      <td>662</td>\n",
       "      <td>43</td>\n",
       "      <td>245</td>\n",
       "      <td>2</td>\n",
       "      <td>0</td>\n",
       "      <td>...</td>\n",
       "      <td>1256</td>\n",
       "      <td>1005</td>\n",
       "      <td>3</td>\n",
       "      <td>6948</td>\n",
       "      <td>788</td>\n",
       "      <td>85</td>\n",
       "      <td>3217</td>\n",
       "      <td>228</td>\n",
       "      <td>3017</td>\n",
       "      <td>0</td>\n",
       "    </tr>\n",
       "    <tr>\n",
       "      <th>Recovered</th>\n",
       "      <td>2583056</td>\n",
       "      <td>2365</td>\n",
       "      <td>295248</td>\n",
       "      <td>2621</td>\n",
       "      <td>79308</td>\n",
       "      <td>109696</td>\n",
       "      <td>1977</td>\n",
       "      <td>14607</td>\n",
       "      <td>1913</td>\n",
       "      <td>0</td>\n",
       "      <td>...</td>\n",
       "      <td>30972</td>\n",
       "      <td>60585</td>\n",
       "      <td>1152</td>\n",
       "      <td>343930</td>\n",
       "      <td>86095</td>\n",
       "      <td>6697</td>\n",
       "      <td>152893</td>\n",
       "      <td>11775</td>\n",
       "      <td>121046</td>\n",
       "      <td>0</td>\n",
       "    </tr>\n",
       "  </tbody>\n",
       "</table>\n",
       "<p>3 rows × 39 columns</p>\n",
       "</div>"
      ],
      "text/plain": [
       "                TT    AN      AP    AR     AS      BR    CH     CT    DN  DD  \\\n",
       "Status                                                                         \n",
       "Confirmed  3383926  3014  393090  3633  98706  128850  3564  25988  2264   0   \n",
       "Deceased     61706    42    3633     5    282     662    43    245     2   0   \n",
       "Recovered  2583056  2365  295248  2621  79308  109696  1977  14607  1913   0   \n",
       "\n",
       "           ...     PB     RJ    SK      TN      TG    TR      UP     UT  \\\n",
       "Status     ...                                                            \n",
       "Confirmed  ...  47836  76015  1555  403242  113973  9924  208419  17277   \n",
       "Deceased   ...   1256   1005     3    6948     788    85    3217    228   \n",
       "Recovered  ...  30972  60585  1152  343930   86095  6697  152893  11775   \n",
       "\n",
       "               WB  UN  \n",
       "Status                 \n",
       "Confirmed  150772   0  \n",
       "Deceased     3017   0  \n",
       "Recovered  121046   0  \n",
       "\n",
       "[3 rows x 39 columns]"
      ]
     },
     "execution_count": 7,
     "metadata": {},
     "output_type": "execute_result"
    }
   ],
   "source": [
    "#hide\n",
    "df_yday.head()"
   ]
  },
  {
   "cell_type": "code",
   "execution_count": 8,
   "metadata": {
    "execution": {
     "iopub.execute_input": "2020-08-28T19:11:58.779386Z",
     "iopub.status.busy": "2020-08-28T19:11:58.778799Z",
     "iopub.status.idle": "2020-08-28T19:11:58.781258Z",
     "shell.execute_reply": "2020-08-28T19:11:58.781823Z"
    },
    "papermill": {
     "duration": 0.024867,
     "end_time": "2020-08-28T19:11:58.781964",
     "exception": false,
     "start_time": "2020-08-28T19:11:58.757097",
     "status": "completed"
    },
    "tags": []
   },
   "outputs": [
    {
     "data": {
      "text/plain": [
       "{'updated': '28-Aug-20',\n",
       " 'since': '27-Aug-20',\n",
       " 'Cases': 3460383,\n",
       " 'Deaths': 62724,\n",
       " 'Recovered': 2647438,\n",
       " 'PCases': 3383926,\n",
       " 'PDeaths': 61706,\n",
       " 'PRecovered': 2583056,\n",
       " 'Cases (+)': 76457,\n",
       " 'Deaths (+)': 1018,\n",
       " 'Recovered (+)': 64382}"
      ]
     },
     "execution_count": 8,
     "metadata": {},
     "output_type": "execute_result"
    }
   ],
   "source": [
    "#hide\n",
    "summary = {\n",
    "    'updated' : dt_today,\n",
    "    'since' : dt_yday,\n",
    "    'Cases' : df_today['TT'][0],\n",
    "    'Deaths' : df_today['TT'][1],\n",
    "    'Recovered' : df_today['TT'][2],\n",
    "    'PCases' : df_yday['TT'][0],\n",
    "    'PDeaths' : df_yday['TT'][1],\n",
    "    'PRecovered': df_yday['TT'][2],\n",
    "    'Cases (+)' : df_today['TT'][0] - df_yday['TT'][0],\n",
    "    'Deaths (+)' : df_today['TT'][1] - df_yday['TT'][1],\n",
    "    'Recovered (+)': df_today['TT'][2] - df_yday['TT'][2]\n",
    "}\n",
    "\n",
    "summary"
   ]
  },
  {
   "cell_type": "code",
   "execution_count": 9,
   "metadata": {
    "execution": {
     "iopub.execute_input": "2020-08-28T19:11:58.814846Z",
     "iopub.status.busy": "2020-08-28T19:11:58.814260Z",
     "iopub.status.idle": "2020-08-28T19:11:58.816676Z",
     "shell.execute_reply": "2020-08-28T19:11:58.816187Z"
    },
    "papermill": {
     "duration": 0.02052,
     "end_time": "2020-08-28T19:11:58.816790",
     "exception": false,
     "start_time": "2020-08-28T19:11:58.796270",
     "status": "completed"
    },
    "tags": []
   },
   "outputs": [],
   "source": [
    "#hide\n",
    "overview = '''\n",
    "<!-- #######  HTML!! #########-->\n",
    "<h1 style=\"color: #5e9ca0; text-align: center;\">India</h1>\n",
    "<p style=\"text-align: center;\">Last update: <strong>{update}</strong></p>\n",
    "<p style=\"text-align: center;\">Confirmed cases:</p>\n",
    "<p style=\"text-align: center;font-size:24px;\">{cases} (<span style=\"color: #ff0000;\">+{new}</span>)</p>\n",
    "<p style=\"text-align: center;\">Confirmed deaths:</p>\n",
    "<p style=\"text-align: center;font-size:24px;\">{deaths} (<span style=\"color: #ff0000;\">+{dnew}</span>)</p>\n",
    "<p style=\"text-align: center;\">Recovered cases:</p>\n",
    "<p style=\"text-align: center;font-size:24px;\">{recovered} (<span style=\"color: #00ff00;\">+{rnew}</span>)</p>\n",
    "'''"
   ]
  },
  {
   "cell_type": "code",
   "execution_count": 10,
   "metadata": {
    "execution": {
     "iopub.execute_input": "2020-08-28T19:11:58.851687Z",
     "iopub.status.busy": "2020-08-28T19:11:58.851102Z",
     "iopub.status.idle": "2020-08-28T19:11:58.854310Z",
     "shell.execute_reply": "2020-08-28T19:11:58.853798Z"
    },
    "papermill": {
     "duration": 0.022998,
     "end_time": "2020-08-28T19:11:58.854425",
     "exception": false,
     "start_time": "2020-08-28T19:11:58.831427",
     "status": "completed"
    },
    "tags": []
   },
   "outputs": [
    {
     "data": {
      "text/html": [
       "\n",
       "<!-- #######  HTML!! #########-->\n",
       "<h1 style=\"color: #5e9ca0; text-align: center;\">India</h1>\n",
       "<p style=\"text-align: center;\">Last update: <strong>28-Aug-20</strong></p>\n",
       "<p style=\"text-align: center;\">Confirmed cases:</p>\n",
       "<p style=\"text-align: center;font-size:24px;\">3460383 (<span style=\"color: #ff0000;\">+76457</span>)</p>\n",
       "<p style=\"text-align: center;\">Confirmed deaths:</p>\n",
       "<p style=\"text-align: center;font-size:24px;\">62724 (<span style=\"color: #ff0000;\">+1018</span>)</p>\n",
       "<p style=\"text-align: center;\">Recovered cases:</p>\n",
       "<p style=\"text-align: center;font-size:24px;\">2647438 (<span style=\"color: #00ff00;\">+64382</span>)</p>\n"
      ],
      "text/plain": [
       "<IPython.core.display.HTML object>"
      ]
     },
     "metadata": {},
     "output_type": "display_data"
    }
   ],
   "source": [
    "#hide_input\n",
    "# Fill the above HTML with the information from the summary dictionary\n",
    "\n",
    "update = summary['updated']\n",
    "cases = summary['Cases']\n",
    "new = summary['Cases (+)']\n",
    "deaths = summary['Deaths']\n",
    "dnew = summary['Deaths (+)']\n",
    "recovered = summary['Recovered']\n",
    "rnew = summary['Recovered (+)']\n",
    "\n",
    "html = HTML(overview.format(update=update, cases=cases,new=new,deaths=deaths,dnew=dnew, recovered=recovered, rnew=rnew))\n",
    "\n",
    "display(html)"
   ]
  },
  {
   "cell_type": "code",
   "execution_count": 11,
   "metadata": {
    "execution": {
     "iopub.execute_input": "2020-08-28T19:11:58.893475Z",
     "iopub.status.busy": "2020-08-28T19:11:58.892895Z",
     "iopub.status.idle": "2020-08-28T19:11:58.896367Z",
     "shell.execute_reply": "2020-08-28T19:11:58.896837Z"
    },
    "papermill": {
     "duration": 0.027562,
     "end_time": "2020-08-28T19:11:58.896965",
     "exception": false,
     "start_time": "2020-08-28T19:11:58.869403",
     "status": "completed"
    },
    "tags": []
   },
   "outputs": [],
   "source": [
    "#hide\n",
    "df_cases = df[df['Status'] == 'Confirmed'].copy()\n",
    "df_cases.drop(columns = ['Status'], inplace=True)\n",
    "df_deaths = df[df['Status'] == 'Deceased'].copy()\n",
    "df_deaths.drop(columns = ['Status'], inplace=True)\n",
    "df_recovered = df[df['Status'] == 'Recovered'].copy()\n",
    "df_recovered.drop(columns = ['Status'], inplace=True)"
   ]
  },
  {
   "cell_type": "markdown",
   "metadata": {
    "papermill": {
     "duration": 0.014734,
     "end_time": "2020-08-28T19:11:58.926518",
     "exception": false,
     "start_time": "2020-08-28T19:11:58.911784",
     "status": "completed"
    },
    "tags": []
   },
   "source": [
    "Plot for India:"
   ]
  },
  {
   "cell_type": "code",
   "execution_count": 12,
   "metadata": {
    "execution": {
     "iopub.execute_input": "2020-08-28T19:11:58.980109Z",
     "iopub.status.busy": "2020-08-28T19:11:58.979517Z",
     "iopub.status.idle": "2020-08-28T19:11:59.238282Z",
     "shell.execute_reply": "2020-08-28T19:11:59.238847Z"
    },
    "papermill": {
     "duration": 0.297527,
     "end_time": "2020-08-28T19:11:59.239021",
     "exception": false,
     "start_time": "2020-08-28T19:11:58.941494",
     "status": "completed"
    },
    "tags": []
   },
   "outputs": [
    {
     "data": {
      "image/png": "[encoded data removed]",
      "text/plain": [
       "<Figure size 1296x432 with 1 Axes>"
      ]
     },
     "metadata": {
      "needs_background": "light"
     },
     "output_type": "display_data"
    }
   ],
   "source": [
    "#hide_input\n",
    "plt.figure(figsize = (18,6))\n",
    "plt.plot(df_cases['Date'], df_cases['TT'],'.-', alpha=0.7, color='b', label='Confirmed cases')\n",
    "plt.plot(df_recovered['Date'], df_recovered['TT'],'.-', alpha=0.7, color='g', label='Recovered')\n",
    "plt.plot(df_deaths['Date'], df_deaths['TT'],'.-', alpha=0.7, color='r', label='Deceased')\n",
    "plt.legend()\n",
    "plt.title(\"Cases per day in India\")\n",
    "plt.xticks(ticks=' ')\n",
    "plt.xlabel(f'{df_cases.iloc[0][0]} to {df_cases.iloc[-1][0]}')\n",
    "plt.ylabel('No. of cases');"
   ]
  },
  {
   "cell_type": "markdown",
   "metadata": {
    "papermill": {
     "duration": 0.018061,
     "end_time": "2020-08-28T19:11:59.274071",
     "exception": false,
     "start_time": "2020-08-28T19:11:59.256010",
     "status": "completed"
    },
    "tags": []
   },
   "source": [
    "Plots for the states with highest number of cases:"
   ]
  },
  {
   "cell_type": "code",
   "execution_count": 13,
   "metadata": {
    "execution": {
     "iopub.execute_input": "2020-08-28T19:11:59.316827Z",
     "iopub.status.busy": "2020-08-28T19:11:59.315015Z",
     "iopub.status.idle": "2020-08-28T19:11:59.884506Z",
     "shell.execute_reply": "2020-08-28T19:11:59.883798Z"
    },
    "papermill": {
     "duration": 0.59374,
     "end_time": "2020-08-28T19:11:59.884660",
     "exception": false,
     "start_time": "2020-08-28T19:11:59.290920",
     "status": "completed"
    },
    "tags": []
   },
   "outputs": [
    {
     "data": {
      "image/png": "[encoded data removed]",
      "text/plain": [
       "<Figure size 1512x432 with 3 Axes>"
      ]
     },
     "metadata": {
      "needs_background": "light"
     },
     "output_type": "display_data"
    }
   ],
   "source": [
    "#hide_input\n",
    "top_3 = sorted(df_cases.sum().values[1:], reverse=True)[1:4]\n",
    "top3_states=[]\n",
    "for i in top_3:\n",
    "    top3_states.append(df_cases.sum()[df_cases.sum() == i].index)\n",
    "\n",
    "\n",
    "fig, ax = plt.subplots(1,3,figsize = (21,6))\n",
    "for i in range(3):\n",
    "    state = top3_states[i].values[0]\n",
    "    ax[i].plot(df_cases['Date'], df_cases[state],'.-', color='b', alpha=0.7)\n",
    "    ax[i].plot(df_deaths['Date'], df_deaths[state],'.-', color='r', alpha=0.7)\n",
    "    ax[i].plot(df_recovered['Date'], df_recovered[state],'.-', color='g', alpha=0.7)\n",
    "    \n",
    "    ax[i].set_title(f\"Cases in {state}\")\n",
    "    ax[i].set_xticks(ticks=' ')\n",
    "    ax[i].set_xlabel(f'{df_cases.iloc[0][0]} to {df_cases.iloc[-1][0]}')\n",
    "    ax[i].set_ylabel('No. of cases');"
   ]
  },
  {
   "cell_type": "code",
   "execution_count": null,
   "metadata": {
    "papermill": {
     "duration": 0.019618,
     "end_time": "2020-08-28T19:11:59.924866",
     "exception": false,
     "start_time": "2020-08-28T19:11:59.905248",
     "status": "completed"
    },
    "tags": []
   },
   "outputs": [],
   "source": []
  },
  {
   "cell_type": "code",
   "execution_count": null,
   "metadata": {
    "papermill": {
     "duration": 0.01989,
     "end_time": "2020-08-28T19:11:59.964485",
     "exception": false,
     "start_time": "2020-08-28T19:11:59.944595",
     "status": "completed"
    },
    "tags": []
   },
   "outputs": [],
   "source": []
  },
  {
   "cell_type": "code",
   "execution_count": null,
   "metadata": {
    "papermill": {
     "duration": 0.019826,
     "end_time": "2020-08-28T19:12:00.003984",
     "exception": false,
     "start_time": "2020-08-28T19:11:59.984158",
     "status": "completed"
    },
    "tags": []
   },
   "outputs": [],
   "source": []
  }
 ],
 "metadata": {
  "kernelspec": {
   "display_name": "Python 3",
   "language": "python",
   "name": "python3"
  },
  "language_info": {
   "codemirror_mode": {
    "name": "ipython",
    "version": 3
   },
   "file_extension": ".py",
   "mimetype": "text/x-python",
   "name": "python",
   "nbconvert_exporter": "python",
   "pygments_lexer": "ipython3",
   "version": "3.6.11"
  },
  "papermill": {
   "duration": 4.503874,
   "end_time": "2020-08-28T19:12:00.333591",
   "environment_variables": {},
   "exception": null,
   "input_path": "2020-08-09-DailyUpdate.ipynb",
   "output_path": "2020-08-09-DailyUpdate.ipynb",
   "parameters": {},
   "start_time": "2020-08-28T19:11:55.829717",
   "version": "2.1.2"
  }
 },
 "nbformat": 4,
 "nbformat_minor": 4
}