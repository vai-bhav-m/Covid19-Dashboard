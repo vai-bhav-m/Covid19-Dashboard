{
 "cells": [
  {
   "cell_type": "markdown",
   "metadata": {
    "papermill": {
     "duration": 0.013189,
     "end_time": "2020-08-24T19:11:16.924891",
     "exception": false,
     "start_time": "2020-08-24T19:11:16.911702",
     "status": "completed"
    },
    "tags": []
   },
   "source": [
    "# COVID-19 India Daily updates\n",
    "> Tracking coronavirus total cases, deaths and new cases in India on a daily basis\n",
    "\n",
    "- author: Vaibhav Mahapatra"
   ]
  },
  {
   "cell_type": "code",
   "execution_count": 1,
   "metadata": {
    "execution": {
     "iopub.execute_input": "2020-08-24T19:11:16.951657Z",
     "iopub.status.busy": "2020-08-24T19:11:16.951121Z",
     "iopub.status.idle": "2020-08-24T19:11:17.468664Z",
     "shell.execute_reply": "2020-08-24T19:11:17.468191Z"
    },
    "papermill": {
     "duration": 0.532752,
     "end_time": "2020-08-24T19:11:17.468806",
     "exception": false,
     "start_time": "2020-08-24T19:11:16.936054",
     "status": "completed"
    },
    "tags": []
   },
   "outputs": [],
   "source": [
    "#hide\n",
    "\n",
    "## Import essential packages below\n",
    "\n",
    "import pandas as pd\n",
    "import numpy as np\n",
    "import requests\n",
    "import json\n",
    "import matplotlib.pyplot as plt\n",
    "import matplotlib.dates as mdates\n",
    "import matplotlib as mpl\n",
    "from IPython.core.display import display,HTML\n",
    "%matplotlib inline"
   ]
  },
  {
   "cell_type": "code",
   "execution_count": 2,
   "metadata": {
    "execution": {
     "iopub.execute_input": "2020-08-24T19:11:17.495021Z",
     "iopub.status.busy": "2020-08-24T19:11:17.494157Z",
     "iopub.status.idle": "2020-08-24T19:11:17.808604Z",
     "shell.execute_reply": "2020-08-24T19:11:17.809092Z"
    },
    "papermill": {
     "duration": 0.330152,
     "end_time": "2020-08-24T19:11:17.809353",
     "exception": false,
     "start_time": "2020-08-24T19:11:17.479201",
     "status": "completed"
    },
    "tags": []
   },
   "outputs": [
    {
     "data": {
      "text/plain": [
       "(492, 41)"
      ]
     },
     "execution_count": 2,
     "metadata": {},
     "output_type": "execute_result"
    }
   ],
   "source": [
    "#hide\n",
    "url = 'https://api.covid19india.org/csv/latest/state_wise_daily.csv'\n",
    "df = pd.read_csv(url)\n",
    "df.shape"
   ]
  },
  {
   "cell_type": "code",
   "execution_count": 3,
   "metadata": {
    "execution": {
     "iopub.execute_input": "2020-08-24T19:11:17.873698Z",
     "iopub.status.busy": "2020-08-24T19:11:17.872472Z",
     "iopub.status.idle": "2020-08-24T19:11:17.885227Z",
     "shell.execute_reply": "2020-08-24T19:11:17.884702Z"
    },
    "papermill": {
     "duration": 0.060871,
     "end_time": "2020-08-24T19:11:17.885357",
     "exception": false,
     "start_time": "2020-08-24T19:11:17.824486",
     "status": "completed"
    },
    "tags": []
   },
   "outputs": [
    {
     "data": {
      "text/html": [
       "<div>\n",
       "<style scoped>\n",
       "    .dataframe tbody tr th:only-of-type {\n",
       "        vertical-align: middle;\n",
       "    }\n",
       "\n",
       "    .dataframe tbody tr th {\n",
       "        vertical-align: top;\n",
       "    }\n",
       "\n",
       "    .dataframe thead th {\n",
       "        text-align: right;\n",
       "    }\n",
       "</style>\n",
       "<table border=\"1\" class=\"dataframe\">\n",
       "  <thead>\n",
       "    <tr style=\"text-align: right;\">\n",
       "      <th></th>\n",
       "      <th>Date</th>\n",
       "      <th>Status</th>\n",
       "      <th>TT</th>\n",
       "      <th>AN</th>\n",
       "      <th>AP</th>\n",
       "      <th>AR</th>\n",
       "      <th>AS</th>\n",
       "      <th>BR</th>\n",
       "      <th>CH</th>\n",
       "      <th>CT</th>\n",
       "      <th>...</th>\n",
       "      <th>PB</th>\n",
       "      <th>RJ</th>\n",
       "      <th>SK</th>\n",
       "      <th>TN</th>\n",
       "      <th>TG</th>\n",
       "      <th>TR</th>\n",
       "      <th>UP</th>\n",
       "      <th>UT</th>\n",
       "      <th>WB</th>\n",
       "      <th>UN</th>\n",
       "    </tr>\n",
       "  </thead>\n",
       "  <tbody>\n",
       "    <tr>\n",
       "      <th>486</th>\n",
       "      <td>23-Aug-20</td>\n",
       "      <td>Confirmed</td>\n",
       "      <td>61749</td>\n",
       "      <td>52</td>\n",
       "      <td>7895</td>\n",
       "      <td>40</td>\n",
       "      <td>1272</td>\n",
       "      <td>2247</td>\n",
       "      <td>142</td>\n",
       "      <td>704</td>\n",
       "      <td>...</td>\n",
       "      <td>1136</td>\n",
       "      <td>1345</td>\n",
       "      <td>22</td>\n",
       "      <td>5975</td>\n",
       "      <td>2384</td>\n",
       "      <td>331</td>\n",
       "      <td>5325</td>\n",
       "      <td>558</td>\n",
       "      <td>3274</td>\n",
       "      <td>0</td>\n",
       "    </tr>\n",
       "    <tr>\n",
       "      <th>487</th>\n",
       "      <td>23-Aug-20</td>\n",
       "      <td>Recovered</td>\n",
       "      <td>56896</td>\n",
       "      <td>110</td>\n",
       "      <td>7449</td>\n",
       "      <td>69</td>\n",
       "      <td>3259</td>\n",
       "      <td>3082</td>\n",
       "      <td>21</td>\n",
       "      <td>537</td>\n",
       "      <td>...</td>\n",
       "      <td>2226</td>\n",
       "      <td>1180</td>\n",
       "      <td>0</td>\n",
       "      <td>6047</td>\n",
       "      <td>1851</td>\n",
       "      <td>121</td>\n",
       "      <td>4318</td>\n",
       "      <td>459</td>\n",
       "      <td>3048</td>\n",
       "      <td>0</td>\n",
       "    </tr>\n",
       "    <tr>\n",
       "      <th>488</th>\n",
       "      <td>23-Aug-20</td>\n",
       "      <td>Deceased</td>\n",
       "      <td>846</td>\n",
       "      <td>1</td>\n",
       "      <td>93</td>\n",
       "      <td>0</td>\n",
       "      <td>8</td>\n",
       "      <td>9</td>\n",
       "      <td>4</td>\n",
       "      <td>7</td>\n",
       "      <td>...</td>\n",
       "      <td>50</td>\n",
       "      <td>11</td>\n",
       "      <td>0</td>\n",
       "      <td>97</td>\n",
       "      <td>11</td>\n",
       "      <td>2</td>\n",
       "      <td>59</td>\n",
       "      <td>5</td>\n",
       "      <td>57</td>\n",
       "      <td>0</td>\n",
       "    </tr>\n",
       "    <tr>\n",
       "      <th>489</th>\n",
       "      <td>24-Aug-20</td>\n",
       "      <td>Confirmed</td>\n",
       "      <td>59696</td>\n",
       "      <td>44</td>\n",
       "      <td>8601</td>\n",
       "      <td>49</td>\n",
       "      <td>1879</td>\n",
       "      <td>1227</td>\n",
       "      <td>117</td>\n",
       "      <td>1136</td>\n",
       "      <td>...</td>\n",
       "      <td>1505</td>\n",
       "      <td>1346</td>\n",
       "      <td>43</td>\n",
       "      <td>5967</td>\n",
       "      <td>1842</td>\n",
       "      <td>200</td>\n",
       "      <td>4601</td>\n",
       "      <td>405</td>\n",
       "      <td>2967</td>\n",
       "      <td>0</td>\n",
       "    </tr>\n",
       "    <tr>\n",
       "      <th>490</th>\n",
       "      <td>24-Aug-20</td>\n",
       "      <td>Recovered</td>\n",
       "      <td>66305</td>\n",
       "      <td>129</td>\n",
       "      <td>8741</td>\n",
       "      <td>130</td>\n",
       "      <td>2190</td>\n",
       "      <td>2908</td>\n",
       "      <td>154</td>\n",
       "      <td>493</td>\n",
       "      <td>...</td>\n",
       "      <td>1829</td>\n",
       "      <td>1276</td>\n",
       "      <td>63</td>\n",
       "      <td>6129</td>\n",
       "      <td>1825</td>\n",
       "      <td>159</td>\n",
       "      <td>4494</td>\n",
       "      <td>432</td>\n",
       "      <td>3285</td>\n",
       "      <td>0</td>\n",
       "    </tr>\n",
       "    <tr>\n",
       "      <th>491</th>\n",
       "      <td>24-Aug-20</td>\n",
       "      <td>Deceased</td>\n",
       "      <td>854</td>\n",
       "      <td>2</td>\n",
       "      <td>86</td>\n",
       "      <td>0</td>\n",
       "      <td>10</td>\n",
       "      <td>17</td>\n",
       "      <td>0</td>\n",
       "      <td>9</td>\n",
       "      <td>...</td>\n",
       "      <td>43</td>\n",
       "      <td>12</td>\n",
       "      <td>0</td>\n",
       "      <td>97</td>\n",
       "      <td>6</td>\n",
       "      <td>1</td>\n",
       "      <td>61</td>\n",
       "      <td>7</td>\n",
       "      <td>57</td>\n",
       "      <td>0</td>\n",
       "    </tr>\n",
       "  </tbody>\n",
       "</table>\n",
       "<p>6 rows × 41 columns</p>\n",
       "</div>"
      ],
      "text/plain": [
       "          Date     Status     TT   AN    AP   AR    AS    BR   CH    CT  ...  \\\n",
       "486  23-Aug-20  Confirmed  61749   52  7895   40  1272  2247  142   704  ...   \n",
       "487  23-Aug-20  Recovered  56896  110  7449   69  3259  3082   21   537  ...   \n",
       "488  23-Aug-20   Deceased    846    1    93    0     8     9    4     7  ...   \n",
       "489  24-Aug-20  Confirmed  59696   44  8601   49  1879  1227  117  1136  ...   \n",
       "490  24-Aug-20  Recovered  66305  129  8741  130  2190  2908  154   493  ...   \n",
       "491  24-Aug-20   Deceased    854    2    86    0    10    17    0     9  ...   \n",
       "\n",
       "       PB    RJ  SK    TN    TG   TR    UP   UT    WB  UN  \n",
       "486  1136  1345  22  5975  2384  331  5325  558  3274   0  \n",
       "487  2226  1180   0  6047  1851  121  4318  459  3048   0  \n",
       "488    50    11   0    97    11    2    59    5    57   0  \n",
       "489  1505  1346  43  5967  1842  200  4601  405  2967   0  \n",
       "490  1829  1276  63  6129  1825  159  4494  432  3285   0  \n",
       "491    43    12   0    97     6    1    61    7    57   0  \n",
       "\n",
       "[6 rows x 41 columns]"
      ]
     },
     "execution_count": 3,
     "metadata": {},
     "output_type": "execute_result"
    }
   ],
   "source": [
    "#hide\n",
    "df.tail(6)"
   ]
  },
  {
   "cell_type": "code",
   "execution_count": 4,
   "metadata": {
    "execution": {
     "iopub.execute_input": "2020-08-24T19:11:17.917518Z",
     "iopub.status.busy": "2020-08-24T19:11:17.917004Z",
     "iopub.status.idle": "2020-08-24T19:11:17.919895Z",
     "shell.execute_reply": "2020-08-24T19:11:17.920378Z"
    },
    "papermill": {
     "duration": 0.021908,
     "end_time": "2020-08-24T19:11:17.920497",
     "exception": false,
     "start_time": "2020-08-24T19:11:17.898589",
     "status": "completed"
    },
    "tags": []
   },
   "outputs": [
    {
     "data": {
      "text/plain": [
       "('24-Aug-20', '23-Aug-20')"
      ]
     },
     "execution_count": 4,
     "metadata": {},
     "output_type": "execute_result"
    }
   ],
   "source": [
    "#hide\n",
    "dt_today = df.iloc[-1][0]\n",
    "dt_yday = df.iloc[-4][0]\n",
    "dt_today, dt_yday"
   ]
  },
  {
   "cell_type": "code",
   "execution_count": 5,
   "metadata": {
    "execution": {
     "iopub.execute_input": "2020-08-24T19:11:17.948749Z",
     "iopub.status.busy": "2020-08-24T19:11:17.948131Z",
     "iopub.status.idle": "2020-08-24T19:11:17.954117Z",
     "shell.execute_reply": "2020-08-24T19:11:17.953658Z"
    },
    "papermill": {
     "duration": 0.022603,
     "end_time": "2020-08-24T19:11:17.954258",
     "exception": false,
     "start_time": "2020-08-24T19:11:17.931655",
     "status": "completed"
    },
    "tags": []
   },
   "outputs": [],
   "source": [
    "#hide\n",
    "df_today = df.groupby('Status').sum()\n",
    "df_yday = df.iloc[:-3][:].groupby('Status').sum()"
   ]
  },
  {
   "cell_type": "code",
   "execution_count": 6,
   "metadata": {
    "execution": {
     "iopub.execute_input": "2020-08-24T19:11:17.991503Z",
     "iopub.status.busy": "2020-08-24T19:11:17.990980Z",
     "iopub.status.idle": "2020-08-24T19:11:17.994481Z",
     "shell.execute_reply": "2020-08-24T19:11:17.993776Z"
    },
    "papermill": {
     "duration": 0.028251,
     "end_time": "2020-08-24T19:11:17.994669",
     "exception": false,
     "start_time": "2020-08-24T19:11:17.966418",
     "status": "completed"
    },
    "tags": []
   },
   "outputs": [
    {
     "data": {
      "text/html": [
       "<div>\n",
       "<style scoped>\n",
       "    .dataframe tbody tr th:only-of-type {\n",
       "        vertical-align: middle;\n",
       "    }\n",
       "\n",
       "    .dataframe tbody tr th {\n",
       "        vertical-align: top;\n",
       "    }\n",
       "\n",
       "    .dataframe thead th {\n",
       "        text-align: right;\n",
       "    }\n",
       "</style>\n",
       "<table border=\"1\" class=\"dataframe\">\n",
       "  <thead>\n",
       "    <tr style=\"text-align: right;\">\n",
       "      <th></th>\n",
       "      <th>TT</th>\n",
       "      <th>AN</th>\n",
       "      <th>AP</th>\n",
       "      <th>AR</th>\n",
       "      <th>AS</th>\n",
       "      <th>BR</th>\n",
       "      <th>CH</th>\n",
       "      <th>CT</th>\n",
       "      <th>DN</th>\n",
       "      <th>DD</th>\n",
       "      <th>...</th>\n",
       "      <th>PB</th>\n",
       "      <th>RJ</th>\n",
       "      <th>SK</th>\n",
       "      <th>TN</th>\n",
       "      <th>TG</th>\n",
       "      <th>TR</th>\n",
       "      <th>UP</th>\n",
       "      <th>UT</th>\n",
       "      <th>WB</th>\n",
       "      <th>UN</th>\n",
       "    </tr>\n",
       "    <tr>\n",
       "      <th>Status</th>\n",
       "      <th></th>\n",
       "      <th></th>\n",
       "      <th></th>\n",
       "      <th></th>\n",
       "      <th></th>\n",
       "      <th></th>\n",
       "      <th></th>\n",
       "      <th></th>\n",
       "      <th></th>\n",
       "      <th></th>\n",
       "      <th></th>\n",
       "      <th></th>\n",
       "      <th></th>\n",
       "      <th></th>\n",
       "      <th></th>\n",
       "      <th></th>\n",
       "      <th></th>\n",
       "      <th></th>\n",
       "      <th></th>\n",
       "      <th></th>\n",
       "      <th></th>\n",
       "    </tr>\n",
       "  </thead>\n",
       "  <tbody>\n",
       "    <tr>\n",
       "      <th>Confirmed</th>\n",
       "      <td>3164254</td>\n",
       "      <td>2900</td>\n",
       "      <td>361712</td>\n",
       "      <td>3312</td>\n",
       "      <td>92518</td>\n",
       "      <td>123383</td>\n",
       "      <td>3035</td>\n",
       "      <td>22054</td>\n",
       "      <td>2179</td>\n",
       "      <td>0</td>\n",
       "      <td>...</td>\n",
       "      <td>43284</td>\n",
       "      <td>71955</td>\n",
       "      <td>1459</td>\n",
       "      <td>385352</td>\n",
       "      <td>105581</td>\n",
       "      <td>8917</td>\n",
       "      <td>192382</td>\n",
       "      <td>15529</td>\n",
       "      <td>141837</td>\n",
       "      <td>0</td>\n",
       "    </tr>\n",
       "    <tr>\n",
       "      <th>Deceased</th>\n",
       "      <td>58557</td>\n",
       "      <td>35</td>\n",
       "      <td>3368</td>\n",
       "      <td>5</td>\n",
       "      <td>256</td>\n",
       "      <td>627</td>\n",
       "      <td>37</td>\n",
       "      <td>206</td>\n",
       "      <td>2</td>\n",
       "      <td>0</td>\n",
       "      <td>...</td>\n",
       "      <td>1129</td>\n",
       "      <td>967</td>\n",
       "      <td>3</td>\n",
       "      <td>6614</td>\n",
       "      <td>761</td>\n",
       "      <td>73</td>\n",
       "      <td>2987</td>\n",
       "      <td>207</td>\n",
       "      <td>2851</td>\n",
       "      <td>0</td>\n",
       "    </tr>\n",
       "    <tr>\n",
       "      <th>Recovered</th>\n",
       "      <td>2403094</td>\n",
       "      <td>2083</td>\n",
       "      <td>268828</td>\n",
       "      <td>2427</td>\n",
       "      <td>73091</td>\n",
       "      <td>101362</td>\n",
       "      <td>1646</td>\n",
       "      <td>13424</td>\n",
       "      <td>1783</td>\n",
       "      <td>0</td>\n",
       "      <td>...</td>\n",
       "      <td>28357</td>\n",
       "      <td>56600</td>\n",
       "      <td>935</td>\n",
       "      <td>325456</td>\n",
       "      <td>82411</td>\n",
       "      <td>6341</td>\n",
       "      <td>140107</td>\n",
       "      <td>10912</td>\n",
       "      <td>111292</td>\n",
       "      <td>0</td>\n",
       "    </tr>\n",
       "  </tbody>\n",
       "</table>\n",
       "<p>3 rows × 39 columns</p>\n",
       "</div>"
      ],
      "text/plain": [
       "                TT    AN      AP    AR     AS      BR    CH     CT    DN  DD  \\\n",
       "Status                                                                         \n",
       "Confirmed  3164254  2900  361712  3312  92518  123383  3035  22054  2179   0   \n",
       "Deceased     58557    35    3368     5    256     627    37    206     2   0   \n",
       "Recovered  2403094  2083  268828  2427  73091  101362  1646  13424  1783   0   \n",
       "\n",
       "           ...     PB     RJ    SK      TN      TG    TR      UP     UT  \\\n",
       "Status     ...                                                            \n",
       "Confirmed  ...  43284  71955  1459  385352  105581  8917  192382  15529   \n",
       "Deceased   ...   1129    967     3    6614     761    73    2987    207   \n",
       "Recovered  ...  28357  56600   935  325456   82411  6341  140107  10912   \n",
       "\n",
       "               WB  UN  \n",
       "Status                 \n",
       "Confirmed  141837   0  \n",
       "Deceased     2851   0  \n",
       "Recovered  111292   0  \n",
       "\n",
       "[3 rows x 39 columns]"
      ]
     },
     "execution_count": 6,
     "metadata": {},
     "output_type": "execute_result"
    }
   ],
   "source": [
    "#hide\n",
    "df_today"
   ]
  },
  {
   "cell_type": "code",
   "execution_count": 7,
   "metadata": {
    "execution": {
     "iopub.execute_input": "2020-08-24T19:11:18.038574Z",
     "iopub.status.busy": "2020-08-24T19:11:18.031733Z",
     "iopub.status.idle": "2020-08-24T19:11:18.041979Z",
     "shell.execute_reply": "2020-08-24T19:11:18.041537Z"
    },
    "papermill": {
     "duration": 0.03278,
     "end_time": "2020-08-24T19:11:18.042082",
     "exception": false,
     "start_time": "2020-08-24T19:11:18.009302",
     "status": "completed"
    },
    "tags": []
   },
   "outputs": [
    {
     "data": {
      "text/html": [
       "<div>\n",
       "<style scoped>\n",
       "    .dataframe tbody tr th:only-of-type {\n",
       "        vertical-align: middle;\n",
       "    }\n",
       "\n",
       "    .dataframe tbody tr th {\n",
       "        vertical-align: top;\n",
       "    }\n",
       "\n",
       "    .dataframe thead th {\n",
       "        text-align: right;\n",
       "    }\n",
       "</style>\n",
       "<table border=\"1\" class=\"dataframe\">\n",
       "  <thead>\n",
       "    <tr style=\"text-align: right;\">\n",
       "      <th></th>\n",
       "      <th>TT</th>\n",
       "      <th>AN</th>\n",
       "      <th>AP</th>\n",
       "      <th>AR</th>\n",
       "      <th>AS</th>\n",
       "      <th>BR</th>\n",
       "      <th>CH</th>\n",
       "      <th>CT</th>\n",
       "      <th>DN</th>\n",
       "      <th>DD</th>\n",
       "      <th>...</th>\n",
       "      <th>PB</th>\n",
       "      <th>RJ</th>\n",
       "      <th>SK</th>\n",
       "      <th>TN</th>\n",
       "      <th>TG</th>\n",
       "      <th>TR</th>\n",
       "      <th>UP</th>\n",
       "      <th>UT</th>\n",
       "      <th>WB</th>\n",
       "      <th>UN</th>\n",
       "    </tr>\n",
       "    <tr>\n",
       "      <th>Status</th>\n",
       "      <th></th>\n",
       "      <th></th>\n",
       "      <th></th>\n",
       "      <th></th>\n",
       "      <th></th>\n",
       "      <th></th>\n",
       "      <th></th>\n",
       "      <th></th>\n",
       "      <th></th>\n",
       "      <th></th>\n",
       "      <th></th>\n",
       "      <th></th>\n",
       "      <th></th>\n",
       "      <th></th>\n",
       "      <th></th>\n",
       "      <th></th>\n",
       "      <th></th>\n",
       "      <th></th>\n",
       "      <th></th>\n",
       "      <th></th>\n",
       "      <th></th>\n",
       "    </tr>\n",
       "  </thead>\n",
       "  <tbody>\n",
       "    <tr>\n",
       "      <th>Confirmed</th>\n",
       "      <td>3104558</td>\n",
       "      <td>2856</td>\n",
       "      <td>353111</td>\n",
       "      <td>3263</td>\n",
       "      <td>90639</td>\n",
       "      <td>122156</td>\n",
       "      <td>2918</td>\n",
       "      <td>20918</td>\n",
       "      <td>2161</td>\n",
       "      <td>0</td>\n",
       "      <td>...</td>\n",
       "      <td>41779</td>\n",
       "      <td>70609</td>\n",
       "      <td>1416</td>\n",
       "      <td>379385</td>\n",
       "      <td>103739</td>\n",
       "      <td>8717</td>\n",
       "      <td>187781</td>\n",
       "      <td>15124</td>\n",
       "      <td>138870</td>\n",
       "      <td>0</td>\n",
       "    </tr>\n",
       "    <tr>\n",
       "      <th>Deceased</th>\n",
       "      <td>57703</td>\n",
       "      <td>33</td>\n",
       "      <td>3282</td>\n",
       "      <td>5</td>\n",
       "      <td>246</td>\n",
       "      <td>610</td>\n",
       "      <td>37</td>\n",
       "      <td>197</td>\n",
       "      <td>2</td>\n",
       "      <td>0</td>\n",
       "      <td>...</td>\n",
       "      <td>1086</td>\n",
       "      <td>955</td>\n",
       "      <td>3</td>\n",
       "      <td>6517</td>\n",
       "      <td>755</td>\n",
       "      <td>72</td>\n",
       "      <td>2926</td>\n",
       "      <td>200</td>\n",
       "      <td>2794</td>\n",
       "      <td>0</td>\n",
       "    </tr>\n",
       "    <tr>\n",
       "      <th>Recovered</th>\n",
       "      <td>2336789</td>\n",
       "      <td>1954</td>\n",
       "      <td>260087</td>\n",
       "      <td>2297</td>\n",
       "      <td>70901</td>\n",
       "      <td>98454</td>\n",
       "      <td>1492</td>\n",
       "      <td>12931</td>\n",
       "      <td>1744</td>\n",
       "      <td>0</td>\n",
       "      <td>...</td>\n",
       "      <td>26528</td>\n",
       "      <td>55324</td>\n",
       "      <td>872</td>\n",
       "      <td>319327</td>\n",
       "      <td>80586</td>\n",
       "      <td>6182</td>\n",
       "      <td>135613</td>\n",
       "      <td>10480</td>\n",
       "      <td>108007</td>\n",
       "      <td>0</td>\n",
       "    </tr>\n",
       "  </tbody>\n",
       "</table>\n",
       "<p>3 rows × 39 columns</p>\n",
       "</div>"
      ],
      "text/plain": [
       "                TT    AN      AP    AR     AS      BR    CH     CT    DN  DD  \\\n",
       "Status                                                                         \n",
       "Confirmed  3104558  2856  353111  3263  90639  122156  2918  20918  2161   0   \n",
       "Deceased     57703    33    3282     5    246     610    37    197     2   0   \n",
       "Recovered  2336789  1954  260087  2297  70901   98454  1492  12931  1744   0   \n",
       "\n",
       "           ...     PB     RJ    SK      TN      TG    TR      UP     UT  \\\n",
       "Status     ...                                                            \n",
       "Confirmed  ...  41779  70609  1416  379385  103739  8717  187781  15124   \n",
       "Deceased   ...   1086    955     3    6517     755    72    2926    200   \n",
       "Recovered  ...  26528  55324   872  319327   80586  6182  135613  10480   \n",
       "\n",
       "               WB  UN  \n",
       "Status                 \n",
       "Confirmed  138870   0  \n",
       "Deceased     2794   0  \n",
       "Recovered  108007   0  \n",
       "\n",
       "[3 rows x 39 columns]"
      ]
     },
     "execution_count": 7,
     "metadata": {},
     "output_type": "execute_result"
    }
   ],
   "source": [
    "#hide\n",
    "df_yday.head()"
   ]
  },
  {
   "cell_type": "code",
   "execution_count": 8,
   "metadata": {
    "execution": {
     "iopub.execute_input": "2020-08-24T19:11:18.076798Z",
     "iopub.status.busy": "2020-08-24T19:11:18.076206Z",
     "iopub.status.idle": "2020-08-24T19:11:18.079345Z",
     "shell.execute_reply": "2020-08-24T19:11:18.078843Z"
    },
    "papermill": {
     "duration": 0.024739,
     "end_time": "2020-08-24T19:11:18.079456",
     "exception": false,
     "start_time": "2020-08-24T19:11:18.054717",
     "status": "completed"
    },
    "tags": []
   },
   "outputs": [
    {
     "data": {
      "text/plain": [
       "{'updated': '24-Aug-20',\n",
       " 'since': '23-Aug-20',\n",
       " 'Cases': 3164254,\n",
       " 'Deaths': 58557,\n",
       " 'Recovered': 2403094,\n",
       " 'PCases': 3104558,\n",
       " 'PDeaths': 57703,\n",
       " 'PRecovered': 2336789,\n",
       " 'Cases (+)': 59696,\n",
       " 'Deaths (+)': 854,\n",
       " 'Recovered (+)': 66305}"
      ]
     },
     "execution_count": 8,
     "metadata": {},
     "output_type": "execute_result"
    }
   ],
   "source": [
    "#hide\n",
    "summary = {\n",
    "    'updated' : dt_today,\n",
    "    'since' : dt_yday,\n",
    "    'Cases' : df_today['TT'][0],\n",
    "    'Deaths' : df_today['TT'][1],\n",
    "    'Recovered' : df_today['TT'][2],\n",
    "    'PCases' : df_yday['TT'][0],\n",
    "    'PDeaths' : df_yday['TT'][1],\n",
    "    'PRecovered': df_yday['TT'][2],\n",
    "    'Cases (+)' : df_today['TT'][0] - df_yday['TT'][0],\n",
    "    'Deaths (+)' : df_today['TT'][1] - df_yday['TT'][1],\n",
    "    'Recovered (+)': df_today['TT'][2] - df_yday['TT'][2]\n",
    "}\n",
    "\n",
    "summary"
   ]
  },
  {
   "cell_type": "code",
   "execution_count": 9,
   "metadata": {
    "execution": {
     "iopub.execute_input": "2020-08-24T19:11:18.108929Z",
     "iopub.status.busy": "2020-08-24T19:11:18.108321Z",
     "iopub.status.idle": "2020-08-24T19:11:18.111042Z",
     "shell.execute_reply": "2020-08-24T19:11:18.110435Z"
    },
    "papermill": {
     "duration": 0.018891,
     "end_time": "2020-08-24T19:11:18.111145",
     "exception": false,
     "start_time": "2020-08-24T19:11:18.092254",
     "status": "completed"
    },
    "tags": []
   },
   "outputs": [],
   "source": [
    "#hide\n",
    "overview = '''\n",
    "<!-- #######  HTML!! #########-->\n",
    "<h1 style=\"color: #5e9ca0; text-align: center;\">India</h1>\n",
    "<p style=\"text-align: center;\">Last update: <strong>{update}</strong></p>\n",
    "<p style=\"text-align: center;\">Confirmed cases:</p>\n",
    "<p style=\"text-align: center;font-size:24px;\">{cases} (<span style=\"color: #ff0000;\">+{new}</span>)</p>\n",
    "<p style=\"text-align: center;\">Confirmed deaths:</p>\n",
    "<p style=\"text-align: center;font-size:24px;\">{deaths} (<span style=\"color: #ff0000;\">+{dnew}</span>)</p>\n",
    "<p style=\"text-align: center;\">Recovered cases:</p>\n",
    "<p style=\"text-align: center;font-size:24px;\">{recovered} (<span style=\"color: #00ff00;\">+{rnew}</span>)</p>\n",
    "'''"
   ]
  },
  {
   "cell_type": "code",
   "execution_count": 10,
   "metadata": {
    "execution": {
     "iopub.execute_input": "2020-08-24T19:11:18.146201Z",
     "iopub.status.busy": "2020-08-24T19:11:18.145669Z",
     "iopub.status.idle": "2020-08-24T19:11:18.148722Z",
     "shell.execute_reply": "2020-08-24T19:11:18.148200Z"
    },
    "papermill": {
     "duration": 0.022879,
     "end_time": "2020-08-24T19:11:18.148827",
     "exception": false,
     "start_time": "2020-08-24T19:11:18.125948",
     "status": "completed"
    },
    "tags": []
   },
   "outputs": [
    {
     "data": {
      "text/html": [
       "\n",
       "<!-- #######  HTML!! #########-->\n",
       "<h1 style=\"color: #5e9ca0; text-align: center;\">India</h1>\n",
       "<p style=\"text-align: center;\">Last update: <strong>24-Aug-20</strong></p>\n",
       "<p style=\"text-align: center;\">Confirmed cases:</p>\n",
       "<p style=\"text-align: center;font-size:24px;\">3164254 (<span style=\"color: #ff0000;\">+59696</span>)</p>\n",
       "<p style=\"text-align: center;\">Confirmed deaths:</p>\n",
       "<p style=\"text-align: center;font-size:24px;\">58557 (<span style=\"color: #ff0000;\">+854</span>)</p>\n",
       "<p style=\"text-align: center;\">Recovered cases:</p>\n",
       "<p style=\"text-align: center;font-size:24px;\">2403094 (<span style=\"color: #00ff00;\">+66305</span>)</p>\n"
      ],
      "text/plain": [
       "<IPython.core.display.HTML object>"
      ]
     },
     "metadata": {},
     "output_type": "display_data"
    }
   ],
   "source": [
    "#hide_input\n",
    "# Fill the above HTML with the information from the summary dictionary\n",
    "\n",
    "update = summary['updated']\n",
    "cases = summary['Cases']\n",
    "new = summary['Cases (+)']\n",
    "deaths = summary['Deaths']\n",
    "dnew = summary['Deaths (+)']\n",
    "recovered = summary['Recovered']\n",
    "rnew = summary['Recovered (+)']\n",
    "\n",
    "html = HTML(overview.format(update=update, cases=cases,new=new,deaths=deaths,dnew=dnew, recovered=recovered, rnew=rnew))\n",
    "\n",
    "display(html)"
   ]
  },
  {
   "cell_type": "code",
   "execution_count": 11,
   "metadata": {
    "execution": {
     "iopub.execute_input": "2020-08-24T19:11:18.184429Z",
     "iopub.status.busy": "2020-08-24T19:11:18.183735Z",
     "iopub.status.idle": "2020-08-24T19:11:18.186325Z",
     "shell.execute_reply": "2020-08-24T19:11:18.185858Z"
    },
    "papermill": {
     "duration": 0.024176,
     "end_time": "2020-08-24T19:11:18.186424",
     "exception": false,
     "start_time": "2020-08-24T19:11:18.162248",
     "status": "completed"
    },
    "tags": []
   },
   "outputs": [],
   "source": [
    "#hide\n",
    "df_cases = df[df['Status'] == 'Confirmed'].copy()\n",
    "df_cases.drop(columns = ['Status'], inplace=True)\n",
    "df_deaths = df[df['Status'] == 'Deceased'].copy()\n",
    "df_deaths.drop(columns = ['Status'], inplace=True)\n",
    "df_recovered = df[df['Status'] == 'Recovered'].copy()\n",
    "df_recovered.drop(columns = ['Status'], inplace=True)"
   ]
  },
  {
   "cell_type": "markdown",
   "metadata": {
    "papermill": {
     "duration": 0.012715,
     "end_time": "2020-08-24T19:11:18.211306",
     "exception": false,
     "start_time": "2020-08-24T19:11:18.198591",
     "status": "completed"
    },
    "tags": []
   },
   "source": [
    "Plot for India:"
   ]
  },
  {
   "cell_type": "code",
   "execution_count": 12,
   "metadata": {
    "execution": {
     "iopub.execute_input": "2020-08-24T19:11:18.259328Z",
     "iopub.status.busy": "2020-08-24T19:11:18.258701Z",
     "iopub.status.idle": "2020-08-24T19:11:18.543373Z",
     "shell.execute_reply": "2020-08-24T19:11:18.544308Z"
    },
    "papermill": {
     "duration": 0.320389,
     "end_time": "2020-08-24T19:11:18.544481",
     "exception": false,
     "start_time": "2020-08-24T19:11:18.224092",
     "status": "completed"
    },
    "tags": []
   },
   "outputs": [
    {
     "data": {
      "image/png": "[encoded data removed]",
      "text/plain": [
       "<Figure size 1296x432 with 1 Axes>"
      ]
     },
     "metadata": {
      "needs_background": "light"
     },
     "output_type": "display_data"
    }
   ],
   "source": [
    "#hide_input\n",
    "plt.figure(figsize = (18,6))\n",
    "plt.plot(df_cases['Date'], df_cases['TT'],'.-', alpha=0.7, color='b', label='Confirmed cases')\n",
    "plt.plot(df_recovered['Date'], df_recovered['TT'],'.-', alpha=0.7, color='g', label='Recovered')\n",
    "plt.plot(df_deaths['Date'], df_deaths['TT'],'.-', alpha=0.7, color='r', label='Deceased')\n",
    "plt.legend()\n",
    "plt.title(\"Cases per day in India\")\n",
    "plt.xticks(ticks=' ')\n",
    "plt.xlabel(f'{df_cases.iloc[0][0]} to {df_cases.iloc[-1][0]}')\n",
    "plt.ylabel('No. of cases');"
   ]
  },
  {
   "cell_type": "markdown",
   "metadata": {
    "papermill": {
     "duration": 0.017266,
     "end_time": "2020-08-24T19:11:18.577086",
     "exception": false,
     "start_time": "2020-08-24T19:11:18.559820",
     "status": "completed"
    },
    "tags": []
   },
   "source": [
    "Plots for the states with highest number of cases:"
   ]
  },
  {
   "cell_type": "code",
   "execution_count": 13,
   "metadata": {
    "execution": {
     "iopub.execute_input": "2020-08-24T19:11:18.887680Z",
     "iopub.status.busy": "2020-08-24T19:11:18.886980Z",
     "iopub.status.idle": "2020-08-24T19:11:19.508956Z",
     "shell.execute_reply": "2020-08-24T19:11:19.509414Z"
    },
    "papermill": {
     "duration": 0.914302,
     "end_time": "2020-08-24T19:11:19.509565",
     "exception": false,
     "start_time": "2020-08-24T19:11:18.595263",
     "status": "completed"
    },
    "tags": []
   },
   "outputs": [
    {
     "data": {
      "image/png": "[encoded data removed]",
      "text/plain": [
       "<Figure size 1512x432 with 3 Axes>"
      ]
     },
     "metadata": {
      "needs_background": "light"
     },
     "output_type": "display_data"
    }
   ],
   "source": [
    "#hide_input\n",
    "top_3 = sorted(df_cases.sum().values[1:], reverse=True)[1:4]\n",
    "top3_states=[]\n",
    "for i in top_3:\n",
    "    top3_states.append(df_cases.sum()[df_cases.sum() == i].index)\n",
    "\n",
    "\n",
    "fig, ax = plt.subplots(1,3,figsize = (21,6))\n",
    "for i in range(3):\n",
    "    state = top3_states[i].values[0]\n",
    "    ax[i].plot(df_cases['Date'], df_cases[state],'.-', color='b', alpha=0.7)\n",
    "    ax[i].plot(df_deaths['Date'], df_deaths[state],'.-', color='r', alpha=0.7)\n",
    "    ax[i].plot(df_recovered['Date'], df_recovered[state],'.-', color='g', alpha=0.7)\n",
    "    \n",
    "    ax[i].set_title(f\"Cases in {state}\")\n",
    "    ax[i].set_xticks(ticks=' ')\n",
    "    ax[i].set_xlabel(f'{df_cases.iloc[0][0]} to {df_cases.iloc[-1][0]}')\n",
    "    ax[i].set_ylabel('No. of cases');"
   ]
  },
  {
   "cell_type": "code",
   "execution_count": null,
   "metadata": {
    "papermill": {
     "duration": 0.158833,
     "end_time": "2020-08-24T19:11:19.687148",
     "exception": false,
     "start_time": "2020-08-24T19:11:19.528315",
     "status": "completed"
    },
    "tags": []
   },
   "outputs": [],
   "source": []
  },
  {
   "cell_type": "code",
   "execution_count": null,
   "metadata": {
    "papermill": {
     "duration": 0.018005,
     "end_time": "2020-08-24T19:11:19.723350",
     "exception": false,
     "start_time": "2020-08-24T19:11:19.705345",
     "status": "completed"
    },
    "tags": []
   },
   "outputs": [],
   "source": []
  },
  {
   "cell_type": "code",
   "execution_count": null,
   "metadata": {
    "papermill": {
     "duration": 0.017553,
     "end_time": "2020-08-24T19:11:19.759168",
     "exception": false,
     "start_time": "2020-08-24T19:11:19.741615",
     "status": "completed"
    },
    "tags": []
   },
   "outputs": [],
   "source": []
  }
 ],
 "metadata": {
  "kernelspec": {
   "display_name": "Python 3",
   "language": "python",
   "name": "python3"
  },
  "language_info": {
   "codemirror_mode": {
    "name": "ipython",
    "version": 3
   },
   "file_extension": ".py",
   "mimetype": "text/x-python",
   "name": "python",
   "nbconvert_exporter": "python",
   "pygments_lexer": "ipython3",
   "version": "3.6.11"
  },
  "papermill": {
   "duration": 4.198916,
   "end_time": "2020-08-24T19:11:20.084072",
   "environment_variables": {},
   "exception": null,
   "input_path": "2020-08-09-DailyUpdate.ipynb",
   "output_path": "2020-08-09-DailyUpdate.ipynb",
   "parameters": {},
   "start_time": "2020-08-24T19:11:15.885156",
   "version": "2.1.2"
  }
 },
 "nbformat": 4,
 "nbformat_minor": 4
}