{
 "cells": [
  {
   "cell_type": "markdown",
   "metadata": {
    "tags": [
     "papermill-error-cell-tag"
    ]
   },
   "source": [
    "<span style=\"color:red; font-family:Helvetica Neue, Helvetica, Arial, sans-serif; font-size:2em;\">An Exception was encountered at '<a href=\"#papermill-error-cell\">In [13]</a>'.</span>"
   ]
  },
  {
   "cell_type": "markdown",
   "metadata": {
    "papermill": {
     "duration": 0.016815,
     "end_time": "2020-10-20T19:13:43.508679",
     "exception": false,
     "start_time": "2020-10-20T19:13:43.491864",
     "status": "completed"
    },
    "tags": []
   },
   "source": [
    "# COVID-19 India Daily updates\n",
    "> Tracking coronavirus total cases, deaths and new cases in India on a daily basis\n",
    "\n",
    "- author: Vaibhav Mahapatra"
   ]
  },
  {
   "cell_type": "code",
   "execution_count": 1,
   "metadata": {
    "execution": {
     "iopub.execute_input": "2020-10-20T19:13:43.537824Z",
     "iopub.status.busy": "2020-10-20T19:13:43.537270Z",
     "iopub.status.idle": "2020-10-20T19:13:44.084830Z",
     "shell.execute_reply": "2020-10-20T19:13:44.083924Z"
    },
    "papermill": {
     "duration": 0.564676,
     "end_time": "2020-10-20T19:13:44.085087",
     "exception": false,
     "start_time": "2020-10-20T19:13:43.520411",
     "status": "completed"
    },
    "tags": []
   },
   "outputs": [],
   "source": [
    "#hide\n",
    "\n",
    "## Import essential packages below\n",
    "\n",
    "import pandas as pd\n",
    "import numpy as np\n",
    "import requests\n",
    "import json\n",
    "import matplotlib.pyplot as plt\n",
    "import matplotlib.dates as mdates\n",
    "import matplotlib as mpl\n",
    "from IPython.core.display import display,HTML\n",
    "%matplotlib inline"
   ]
  },
  {
   "cell_type": "code",
   "execution_count": 2,
   "metadata": {
    "execution": {
     "iopub.execute_input": "2020-10-20T19:13:44.114578Z",
     "iopub.status.busy": "2020-10-20T19:13:44.113984Z",
     "iopub.status.idle": "2020-10-20T19:13:44.254928Z",
     "shell.execute_reply": "2020-10-20T19:13:44.255747Z"
    },
    "papermill": {
     "duration": 0.158988,
     "end_time": "2020-10-20T19:13:44.255975",
     "exception": false,
     "start_time": "2020-10-20T19:13:44.096987",
     "status": "completed"
    },
    "tags": []
   },
   "outputs": [
    {
     "data": {
      "text/plain": [
       "(663, 42)"
      ]
     },
     "execution_count": 2,
     "metadata": {},
     "output_type": "execute_result"
    }
   ],
   "source": [
    "#hide\n",
    "url = 'https://api.covid19india.org/csv/latest/state_wise_daily.csv'\n",
    "df = pd.read_csv(url)\n",
    "df.shape"
   ]
  },
  {
   "cell_type": "code",
   "execution_count": 3,
   "metadata": {
    "execution": {
     "iopub.execute_input": "2020-10-20T19:13:44.332842Z",
     "iopub.status.busy": "2020-10-20T19:13:44.331807Z",
     "iopub.status.idle": "2020-10-20T19:13:44.340622Z",
     "shell.execute_reply": "2020-10-20T19:13:44.341059Z"
    },
    "papermill": {
     "duration": 0.071832,
     "end_time": "2020-10-20T19:13:44.341196",
     "exception": false,
     "start_time": "2020-10-20T19:13:44.269364",
     "status": "completed"
    },
    "tags": []
   },
   "outputs": [
    {
     "data": {
      "text/html": [
       "<div>\n",
       "<style scoped>\n",
       "    .dataframe tbody tr th:only-of-type {\n",
       "        vertical-align: middle;\n",
       "    }\n",
       "\n",
       "    .dataframe tbody tr th {\n",
       "        vertical-align: top;\n",
       "    }\n",
       "\n",
       "    .dataframe thead th {\n",
       "        text-align: right;\n",
       "    }\n",
       "</style>\n",
       "<table border=\"1\" class=\"dataframe\">\n",
       "  <thead>\n",
       "    <tr style=\"text-align: right;\">\n",
       "      <th></th>\n",
       "      <th>Date</th>\n",
       "      <th>Date_YMD</th>\n",
       "      <th>Status</th>\n",
       "      <th>TT</th>\n",
       "      <th>AN</th>\n",
       "      <th>AP</th>\n",
       "      <th>AR</th>\n",
       "      <th>AS</th>\n",
       "      <th>BR</th>\n",
       "      <th>CH</th>\n",
       "      <th>...</th>\n",
       "      <th>PB</th>\n",
       "      <th>RJ</th>\n",
       "      <th>SK</th>\n",
       "      <th>TN</th>\n",
       "      <th>TG</th>\n",
       "      <th>TR</th>\n",
       "      <th>UP</th>\n",
       "      <th>UT</th>\n",
       "      <th>WB</th>\n",
       "      <th>UN</th>\n",
       "    </tr>\n",
       "  </thead>\n",
       "  <tbody>\n",
       "    <tr>\n",
       "      <th>657</th>\n",
       "      <td>19-Oct-20</td>\n",
       "      <td>2020-10-18</td>\n",
       "      <td>Confirmed</td>\n",
       "      <td>45490</td>\n",
       "      <td>18</td>\n",
       "      <td>2918</td>\n",
       "      <td>238</td>\n",
       "      <td>698</td>\n",
       "      <td>912</td>\n",
       "      <td>40</td>\n",
       "      <td>...</td>\n",
       "      <td>473</td>\n",
       "      <td>1960</td>\n",
       "      <td>4</td>\n",
       "      <td>3536</td>\n",
       "      <td>948</td>\n",
       "      <td>85</td>\n",
       "      <td>1719</td>\n",
       "      <td>336</td>\n",
       "      <td>3992</td>\n",
       "      <td>0</td>\n",
       "    </tr>\n",
       "    <tr>\n",
       "      <th>658</th>\n",
       "      <td>19-Oct-20</td>\n",
       "      <td>2020-10-18</td>\n",
       "      <td>Recovered</td>\n",
       "      <td>69800</td>\n",
       "      <td>24</td>\n",
       "      <td>4303</td>\n",
       "      <td>228</td>\n",
       "      <td>1530</td>\n",
       "      <td>1195</td>\n",
       "      <td>63</td>\n",
       "      <td>...</td>\n",
       "      <td>884</td>\n",
       "      <td>2194</td>\n",
       "      <td>11</td>\n",
       "      <td>4515</td>\n",
       "      <td>1896</td>\n",
       "      <td>328</td>\n",
       "      <td>3093</td>\n",
       "      <td>504</td>\n",
       "      <td>3272</td>\n",
       "      <td>0</td>\n",
       "    </tr>\n",
       "    <tr>\n",
       "      <th>659</th>\n",
       "      <td>19-Oct-20</td>\n",
       "      <td>2020-10-18</td>\n",
       "      <td>Deceased</td>\n",
       "      <td>589</td>\n",
       "      <td>0</td>\n",
       "      <td>24</td>\n",
       "      <td>0</td>\n",
       "      <td>7</td>\n",
       "      <td>7</td>\n",
       "      <td>0</td>\n",
       "      <td>...</td>\n",
       "      <td>17</td>\n",
       "      <td>12</td>\n",
       "      <td>2</td>\n",
       "      <td>52</td>\n",
       "      <td>4</td>\n",
       "      <td>2</td>\n",
       "      <td>27</td>\n",
       "      <td>6</td>\n",
       "      <td>63</td>\n",
       "      <td>0</td>\n",
       "    </tr>\n",
       "    <tr>\n",
       "      <th>660</th>\n",
       "      <td>20-Oct-20</td>\n",
       "      <td>2020-10-18</td>\n",
       "      <td>Confirmed</td>\n",
       "      <td>53560</td>\n",
       "      <td>15</td>\n",
       "      <td>3503</td>\n",
       "      <td>0</td>\n",
       "      <td>666</td>\n",
       "      <td>1837</td>\n",
       "      <td>57</td>\n",
       "      <td>...</td>\n",
       "      <td>0</td>\n",
       "      <td>1897</td>\n",
       "      <td>42</td>\n",
       "      <td>3094</td>\n",
       "      <td>1486</td>\n",
       "      <td>135</td>\n",
       "      <td>2289</td>\n",
       "      <td>241</td>\n",
       "      <td>4029</td>\n",
       "      <td>0</td>\n",
       "    </tr>\n",
       "    <tr>\n",
       "      <th>661</th>\n",
       "      <td>20-Oct-20</td>\n",
       "      <td>2020-10-18</td>\n",
       "      <td>Recovered</td>\n",
       "      <td>60571</td>\n",
       "      <td>10</td>\n",
       "      <td>5144</td>\n",
       "      <td>0</td>\n",
       "      <td>1201</td>\n",
       "      <td>1100</td>\n",
       "      <td>107</td>\n",
       "      <td>...</td>\n",
       "      <td>0</td>\n",
       "      <td>2522</td>\n",
       "      <td>50</td>\n",
       "      <td>4403</td>\n",
       "      <td>1891</td>\n",
       "      <td>198</td>\n",
       "      <td>3339</td>\n",
       "      <td>376</td>\n",
       "      <td>3382</td>\n",
       "      <td>0</td>\n",
       "    </tr>\n",
       "    <tr>\n",
       "      <th>662</th>\n",
       "      <td>20-Oct-20</td>\n",
       "      <td>2020-10-18</td>\n",
       "      <td>Deceased</td>\n",
       "      <td>703</td>\n",
       "      <td>0</td>\n",
       "      <td>28</td>\n",
       "      <td>0</td>\n",
       "      <td>9</td>\n",
       "      <td>8</td>\n",
       "      <td>1</td>\n",
       "      <td>...</td>\n",
       "      <td>0</td>\n",
       "      <td>14</td>\n",
       "      <td>1</td>\n",
       "      <td>47</td>\n",
       "      <td>7</td>\n",
       "      <td>0</td>\n",
       "      <td>29</td>\n",
       "      <td>13</td>\n",
       "      <td>61</td>\n",
       "      <td>0</td>\n",
       "    </tr>\n",
       "  </tbody>\n",
       "</table>\n",
       "<p>6 rows × 42 columns</p>\n",
       "</div>"
      ],
      "text/plain": [
       "          Date    Date_YMD     Status     TT  AN    AP   AR    AS    BR   CH  \\\n",
       "657  19-Oct-20  2020-10-18  Confirmed  45490  18  2918  238   698   912   40   \n",
       "658  19-Oct-20  2020-10-18  Recovered  69800  24  4303  228  1530  1195   63   \n",
       "659  19-Oct-20  2020-10-18   Deceased    589   0    24    0     7     7    0   \n",
       "660  20-Oct-20  2020-10-18  Confirmed  53560  15  3503    0   666  1837   57   \n",
       "661  20-Oct-20  2020-10-18  Recovered  60571  10  5144    0  1201  1100  107   \n",
       "662  20-Oct-20  2020-10-18   Deceased    703   0    28    0     9     8    1   \n",
       "\n",
       "     ...   PB    RJ  SK    TN    TG   TR    UP   UT    WB  UN  \n",
       "657  ...  473  1960   4  3536   948   85  1719  336  3992   0  \n",
       "658  ...  884  2194  11  4515  1896  328  3093  504  3272   0  \n",
       "659  ...   17    12   2    52     4    2    27    6    63   0  \n",
       "660  ...    0  1897  42  3094  1486  135  2289  241  4029   0  \n",
       "661  ...    0  2522  50  4403  1891  198  3339  376  3382   0  \n",
       "662  ...    0    14   1    47     7    0    29   13    61   0  \n",
       "\n",
       "[6 rows x 42 columns]"
      ]
     },
     "execution_count": 3,
     "metadata": {},
     "output_type": "execute_result"
    }
   ],
   "source": [
    "#hide\n",
    "df.tail(6)"
   ]
  },
  {
   "cell_type": "code",
   "execution_count": 4,
   "metadata": {
    "execution": {
     "iopub.execute_input": "2020-10-20T19:13:44.370628Z",
     "iopub.status.busy": "2020-10-20T19:13:44.370033Z",
     "iopub.status.idle": "2020-10-20T19:13:44.372821Z",
     "shell.execute_reply": "2020-10-20T19:13:44.372371Z"
    },
    "papermill": {
     "duration": 0.019683,
     "end_time": "2020-10-20T19:13:44.372928",
     "exception": false,
     "start_time": "2020-10-20T19:13:44.353245",
     "status": "completed"
    },
    "tags": []
   },
   "outputs": [
    {
     "data": {
      "text/plain": [
       "('20-Oct-20', '19-Oct-20')"
      ]
     },
     "execution_count": 4,
     "metadata": {},
     "output_type": "execute_result"
    }
   ],
   "source": [
    "#hide\n",
    "dt_today = df.iloc[-1][0]\n",
    "dt_yday = df.iloc[-4][0]\n",
    "dt_today, dt_yday"
   ]
  },
  {
   "cell_type": "code",
   "execution_count": 5,
   "metadata": {
    "execution": {
     "iopub.execute_input": "2020-10-20T19:13:44.402183Z",
     "iopub.status.busy": "2020-10-20T19:13:44.401634Z",
     "iopub.status.idle": "2020-10-20T19:13:44.407958Z",
     "shell.execute_reply": "2020-10-20T19:13:44.407528Z"
    },
    "papermill": {
     "duration": 0.023028,
     "end_time": "2020-10-20T19:13:44.408066",
     "exception": false,
     "start_time": "2020-10-20T19:13:44.385038",
     "status": "completed"
    },
    "tags": []
   },
   "outputs": [],
   "source": [
    "#hide\n",
    "df_today = df.groupby('Status').sum()\n",
    "df_yday = df.iloc[:-3][:].groupby('Status').sum()"
   ]
  },
  {
   "cell_type": "code",
   "execution_count": 6,
   "metadata": {
    "execution": {
     "iopub.execute_input": "2020-10-20T19:13:44.447004Z",
     "iopub.status.busy": "2020-10-20T19:13:44.446466Z",
     "iopub.status.idle": "2020-10-20T19:13:44.449277Z",
     "shell.execute_reply": "2020-10-20T19:13:44.448824Z"
    },
    "papermill": {
     "duration": 0.029174,
     "end_time": "2020-10-20T19:13:44.449381",
     "exception": false,
     "start_time": "2020-10-20T19:13:44.420207",
     "status": "completed"
    },
    "tags": []
   },
   "outputs": [
    {
     "data": {
      "text/html": [
       "<div>\n",
       "<style scoped>\n",
       "    .dataframe tbody tr th:only-of-type {\n",
       "        vertical-align: middle;\n",
       "    }\n",
       "\n",
       "    .dataframe tbody tr th {\n",
       "        vertical-align: top;\n",
       "    }\n",
       "\n",
       "    .dataframe thead th {\n",
       "        text-align: right;\n",
       "    }\n",
       "</style>\n",
       "<table border=\"1\" class=\"dataframe\">\n",
       "  <thead>\n",
       "    <tr style=\"text-align: right;\">\n",
       "      <th></th>\n",
       "      <th>TT</th>\n",
       "      <th>AN</th>\n",
       "      <th>AP</th>\n",
       "      <th>AR</th>\n",
       "      <th>AS</th>\n",
       "      <th>BR</th>\n",
       "      <th>CH</th>\n",
       "      <th>CT</th>\n",
       "      <th>DN</th>\n",
       "      <th>DD</th>\n",
       "      <th>...</th>\n",
       "      <th>PB</th>\n",
       "      <th>RJ</th>\n",
       "      <th>SK</th>\n",
       "      <th>TN</th>\n",
       "      <th>TG</th>\n",
       "      <th>TR</th>\n",
       "      <th>UP</th>\n",
       "      <th>UT</th>\n",
       "      <th>WB</th>\n",
       "      <th>UN</th>\n",
       "    </tr>\n",
       "    <tr>\n",
       "      <th>Status</th>\n",
       "      <th></th>\n",
       "      <th></th>\n",
       "      <th></th>\n",
       "      <th></th>\n",
       "      <th></th>\n",
       "      <th></th>\n",
       "      <th></th>\n",
       "      <th></th>\n",
       "      <th></th>\n",
       "      <th></th>\n",
       "      <th></th>\n",
       "      <th></th>\n",
       "      <th></th>\n",
       "      <th></th>\n",
       "      <th></th>\n",
       "      <th></th>\n",
       "      <th></th>\n",
       "      <th></th>\n",
       "      <th></th>\n",
       "      <th></th>\n",
       "      <th></th>\n",
       "    </tr>\n",
       "  </thead>\n",
       "  <tbody>\n",
       "    <tr>\n",
       "      <th>Confirmed</th>\n",
       "      <td>7647665</td>\n",
       "      <td>4137</td>\n",
       "      <td>789553</td>\n",
       "      <td>13643</td>\n",
       "      <td>201971</td>\n",
       "      <td>206961</td>\n",
       "      <td>13743</td>\n",
       "      <td>165279</td>\n",
       "      <td>3191</td>\n",
       "      <td>0</td>\n",
       "      <td>...</td>\n",
       "      <td>128103</td>\n",
       "      <td>177123</td>\n",
       "      <td>3656</td>\n",
       "      <td>694030</td>\n",
       "      <td>224035</td>\n",
       "      <td>29685</td>\n",
       "      <td>459154</td>\n",
       "      <td>58601</td>\n",
       "      <td>329057</td>\n",
       "      <td>0</td>\n",
       "    </tr>\n",
       "    <tr>\n",
       "      <th>Deceased</th>\n",
       "      <td>115352</td>\n",
       "      <td>56</td>\n",
       "      <td>6481</td>\n",
       "      <td>30</td>\n",
       "      <td>888</td>\n",
       "      <td>1011</td>\n",
       "      <td>209</td>\n",
       "      <td>1584</td>\n",
       "      <td>2</td>\n",
       "      <td>0</td>\n",
       "      <td>...</td>\n",
       "      <td>4029</td>\n",
       "      <td>1774</td>\n",
       "      <td>63</td>\n",
       "      <td>10741</td>\n",
       "      <td>1282</td>\n",
       "      <td>328</td>\n",
       "      <td>6714</td>\n",
       "      <td>946</td>\n",
       "      <td>6180</td>\n",
       "      <td>0</td>\n",
       "    </tr>\n",
       "    <tr>\n",
       "      <th>Recovered</th>\n",
       "      <td>6791160</td>\n",
       "      <td>3893</td>\n",
       "      <td>749676</td>\n",
       "      <td>10780</td>\n",
       "      <td>174411</td>\n",
       "      <td>194889</td>\n",
       "      <td>12724</td>\n",
       "      <td>137986</td>\n",
       "      <td>3111</td>\n",
       "      <td>0</td>\n",
       "      <td>...</td>\n",
       "      <td>118767</td>\n",
       "      <td>155095</td>\n",
       "      <td>3246</td>\n",
       "      <td>646555</td>\n",
       "      <td>202577</td>\n",
       "      <td>26725</td>\n",
       "      <td>422024</td>\n",
       "      <td>51862</td>\n",
       "      <td>287707</td>\n",
       "      <td>0</td>\n",
       "    </tr>\n",
       "  </tbody>\n",
       "</table>\n",
       "<p>3 rows × 39 columns</p>\n",
       "</div>"
      ],
      "text/plain": [
       "                TT    AN      AP     AR      AS      BR     CH      CT    DN  \\\n",
       "Status                                                                         \n",
       "Confirmed  7647665  4137  789553  13643  201971  206961  13743  165279  3191   \n",
       "Deceased    115352    56    6481     30     888    1011    209    1584     2   \n",
       "Recovered  6791160  3893  749676  10780  174411  194889  12724  137986  3111   \n",
       "\n",
       "           DD  ...      PB      RJ    SK      TN      TG     TR      UP  \\\n",
       "Status         ...                                                        \n",
       "Confirmed   0  ...  128103  177123  3656  694030  224035  29685  459154   \n",
       "Deceased    0  ...    4029    1774    63   10741    1282    328    6714   \n",
       "Recovered   0  ...  118767  155095  3246  646555  202577  26725  422024   \n",
       "\n",
       "              UT      WB  UN  \n",
       "Status                        \n",
       "Confirmed  58601  329057   0  \n",
       "Deceased     946    6180   0  \n",
       "Recovered  51862  287707   0  \n",
       "\n",
       "[3 rows x 39 columns]"
      ]
     },
     "execution_count": 6,
     "metadata": {},
     "output_type": "execute_result"
    }
   ],
   "source": [
    "#hide\n",
    "df_today"
   ]
  },
  {
   "cell_type": "code",
   "execution_count": 7,
   "metadata": {
    "execution": {
     "iopub.execute_input": "2020-10-20T19:13:44.489843Z",
     "iopub.status.busy": "2020-10-20T19:13:44.489313Z",
     "iopub.status.idle": "2020-10-20T19:13:44.491714Z",
     "shell.execute_reply": "2020-10-20T19:13:44.492169Z"
    },
    "papermill": {
     "duration": 0.03041,
     "end_time": "2020-10-20T19:13:44.492284",
     "exception": false,
     "start_time": "2020-10-20T19:13:44.461874",
     "status": "completed"
    },
    "tags": []
   },
   "outputs": [
    {
     "data": {
      "text/html": [
       "<div>\n",
       "<style scoped>\n",
       "    .dataframe tbody tr th:only-of-type {\n",
       "        vertical-align: middle;\n",
       "    }\n",
       "\n",
       "    .dataframe tbody tr th {\n",
       "        vertical-align: top;\n",
       "    }\n",
       "\n",
       "    .dataframe thead th {\n",
       "        text-align: right;\n",
       "    }\n",
       "</style>\n",
       "<table border=\"1\" class=\"dataframe\">\n",
       "  <thead>\n",
       "    <tr style=\"text-align: right;\">\n",
       "      <th></th>\n",
       "      <th>TT</th>\n",
       "      <th>AN</th>\n",
       "      <th>AP</th>\n",
       "      <th>AR</th>\n",
       "      <th>AS</th>\n",
       "      <th>BR</th>\n",
       "      <th>CH</th>\n",
       "      <th>CT</th>\n",
       "      <th>DN</th>\n",
       "      <th>DD</th>\n",
       "      <th>...</th>\n",
       "      <th>PB</th>\n",
       "      <th>RJ</th>\n",
       "      <th>SK</th>\n",
       "      <th>TN</th>\n",
       "      <th>TG</th>\n",
       "      <th>TR</th>\n",
       "      <th>UP</th>\n",
       "      <th>UT</th>\n",
       "      <th>WB</th>\n",
       "      <th>UN</th>\n",
       "    </tr>\n",
       "    <tr>\n",
       "      <th>Status</th>\n",
       "      <th></th>\n",
       "      <th></th>\n",
       "      <th></th>\n",
       "      <th></th>\n",
       "      <th></th>\n",
       "      <th></th>\n",
       "      <th></th>\n",
       "      <th></th>\n",
       "      <th></th>\n",
       "      <th></th>\n",
       "      <th></th>\n",
       "      <th></th>\n",
       "      <th></th>\n",
       "      <th></th>\n",
       "      <th></th>\n",
       "      <th></th>\n",
       "      <th></th>\n",
       "      <th></th>\n",
       "      <th></th>\n",
       "      <th></th>\n",
       "      <th></th>\n",
       "    </tr>\n",
       "  </thead>\n",
       "  <tbody>\n",
       "    <tr>\n",
       "      <th>Confirmed</th>\n",
       "      <td>7594105</td>\n",
       "      <td>4122</td>\n",
       "      <td>786050</td>\n",
       "      <td>13643</td>\n",
       "      <td>201305</td>\n",
       "      <td>205124</td>\n",
       "      <td>13686</td>\n",
       "      <td>162772</td>\n",
       "      <td>3182</td>\n",
       "      <td>0</td>\n",
       "      <td>...</td>\n",
       "      <td>128103</td>\n",
       "      <td>175226</td>\n",
       "      <td>3614</td>\n",
       "      <td>690936</td>\n",
       "      <td>222549</td>\n",
       "      <td>29550</td>\n",
       "      <td>456865</td>\n",
       "      <td>58360</td>\n",
       "      <td>325028</td>\n",
       "      <td>0</td>\n",
       "    </tr>\n",
       "    <tr>\n",
       "      <th>Deceased</th>\n",
       "      <td>114649</td>\n",
       "      <td>56</td>\n",
       "      <td>6453</td>\n",
       "      <td>30</td>\n",
       "      <td>879</td>\n",
       "      <td>1003</td>\n",
       "      <td>208</td>\n",
       "      <td>1534</td>\n",
       "      <td>2</td>\n",
       "      <td>0</td>\n",
       "      <td>...</td>\n",
       "      <td>4029</td>\n",
       "      <td>1760</td>\n",
       "      <td>62</td>\n",
       "      <td>10694</td>\n",
       "      <td>1275</td>\n",
       "      <td>328</td>\n",
       "      <td>6685</td>\n",
       "      <td>933</td>\n",
       "      <td>6119</td>\n",
       "      <td>0</td>\n",
       "    </tr>\n",
       "    <tr>\n",
       "      <th>Recovered</th>\n",
       "      <td>6730589</td>\n",
       "      <td>3883</td>\n",
       "      <td>744532</td>\n",
       "      <td>10780</td>\n",
       "      <td>173210</td>\n",
       "      <td>193789</td>\n",
       "      <td>12617</td>\n",
       "      <td>135259</td>\n",
       "      <td>3098</td>\n",
       "      <td>0</td>\n",
       "      <td>...</td>\n",
       "      <td>118767</td>\n",
       "      <td>152573</td>\n",
       "      <td>3196</td>\n",
       "      <td>642152</td>\n",
       "      <td>200686</td>\n",
       "      <td>26527</td>\n",
       "      <td>418685</td>\n",
       "      <td>51486</td>\n",
       "      <td>284325</td>\n",
       "      <td>0</td>\n",
       "    </tr>\n",
       "  </tbody>\n",
       "</table>\n",
       "<p>3 rows × 39 columns</p>\n",
       "</div>"
      ],
      "text/plain": [
       "                TT    AN      AP     AR      AS      BR     CH      CT    DN  \\\n",
       "Status                                                                         \n",
       "Confirmed  7594105  4122  786050  13643  201305  205124  13686  162772  3182   \n",
       "Deceased    114649    56    6453     30     879    1003    208    1534     2   \n",
       "Recovered  6730589  3883  744532  10780  173210  193789  12617  135259  3098   \n",
       "\n",
       "           DD  ...      PB      RJ    SK      TN      TG     TR      UP  \\\n",
       "Status         ...                                                        \n",
       "Confirmed   0  ...  128103  175226  3614  690936  222549  29550  456865   \n",
       "Deceased    0  ...    4029    1760    62   10694    1275    328    6685   \n",
       "Recovered   0  ...  118767  152573  3196  642152  200686  26527  418685   \n",
       "\n",
       "              UT      WB  UN  \n",
       "Status                        \n",
       "Confirmed  58360  325028   0  \n",
       "Deceased     933    6119   0  \n",
       "Recovered  51486  284325   0  \n",
       "\n",
       "[3 rows x 39 columns]"
      ]
     },
     "execution_count": 7,
     "metadata": {},
     "output_type": "execute_result"
    }
   ],
   "source": [
    "#hide\n",
    "df_yday.head()"
   ]
  },
  {
   "cell_type": "code",
   "execution_count": 8,
   "metadata": {
    "execution": {
     "iopub.execute_input": "2020-10-20T19:13:44.526031Z",
     "iopub.status.busy": "2020-10-20T19:13:44.525499Z",
     "iopub.status.idle": "2020-10-20T19:13:44.528211Z",
     "shell.execute_reply": "2020-10-20T19:13:44.527760Z"
    },
    "papermill": {
     "duration": 0.0228,
     "end_time": "2020-10-20T19:13:44.528313",
     "exception": false,
     "start_time": "2020-10-20T19:13:44.505513",
     "status": "completed"
    },
    "tags": []
   },
   "outputs": [
    {
     "data": {
      "text/plain": [
       "{'updated': '20-Oct-20',\n",
       " 'since': '19-Oct-20',\n",
       " 'Cases': 7647665,\n",
       " 'Deaths': 115352,\n",
       " 'Recovered': 6791160,\n",
       " 'PCases': 7594105,\n",
       " 'PDeaths': 114649,\n",
       " 'PRecovered': 6730589,\n",
       " 'Cases (+)': 53560,\n",
       " 'Deaths (+)': 703,\n",
       " 'Recovered (+)': 60571}"
      ]
     },
     "execution_count": 8,
     "metadata": {},
     "output_type": "execute_result"
    }
   ],
   "source": [
    "#hide\n",
    "summary = {\n",
    "    'updated' : dt_today,\n",
    "    'since' : dt_yday,\n",
    "    'Cases' : df_today['TT'][0],\n",
    "    'Deaths' : df_today['TT'][1],\n",
    "    'Recovered' : df_today['TT'][2],\n",
    "    'PCases' : df_yday['TT'][0],\n",
    "    'PDeaths' : df_yday['TT'][1],\n",
    "    'PRecovered': df_yday['TT'][2],\n",
    "    'Cases (+)' : df_today['TT'][0] - df_yday['TT'][0],\n",
    "    'Deaths (+)' : df_today['TT'][1] - df_yday['TT'][1],\n",
    "    'Recovered (+)': df_today['TT'][2] - df_yday['TT'][2]\n",
    "}\n",
    "\n",
    "summary"
   ]
  },
  {
   "cell_type": "code",
   "execution_count": 9,
   "metadata": {
    "execution": {
     "iopub.execute_input": "2020-10-20T19:13:44.560362Z",
     "iopub.status.busy": "2020-10-20T19:13:44.559830Z",
     "iopub.status.idle": "2020-10-20T19:13:44.562260Z",
     "shell.execute_reply": "2020-10-20T19:13:44.562669Z"
    },
    "papermill": {
     "duration": 0.020702,
     "end_time": "2020-10-20T19:13:44.562788",
     "exception": false,
     "start_time": "2020-10-20T19:13:44.542086",
     "status": "completed"
    },
    "tags": []
   },
   "outputs": [],
   "source": [
    "#hide\n",
    "overview = '''\n",
    "<!-- #######  HTML!! #########-->\n",
    "<h1 style=\"color: #5e9ca0; text-align: center;\">India</h1>\n",
    "<p style=\"text-align: center;\">Last update: <strong>{update}</strong></p>\n",
    "<p style=\"text-align: center;\">Confirmed cases:</p>\n",
    "<p style=\"text-align: center;font-size:24px;\">{cases} (<span style=\"color: #ff0000;\">+{new}</span>)</p>\n",
    "<p style=\"text-align: center;\">Confirmed deaths:</p>\n",
    "<p style=\"text-align: center;font-size:24px;\">{deaths} (<span style=\"color: #ff0000;\">+{dnew}</span>)</p>\n",
    "<p style=\"text-align: center;\">Recovered cases:</p>\n",
    "<p style=\"text-align: center;font-size:24px;\">{recovered} (<span style=\"color: #00ff00;\">+{rnew}</span>)</p>\n",
    "'''"
   ]
  },
  {
   "cell_type": "code",
   "execution_count": 10,
   "metadata": {
    "execution": {
     "iopub.execute_input": "2020-10-20T19:13:44.595749Z",
     "iopub.status.busy": "2020-10-20T19:13:44.595215Z",
     "iopub.status.idle": "2020-10-20T19:13:44.598256Z",
     "shell.execute_reply": "2020-10-20T19:13:44.597784Z"
    },
    "papermill": {
     "duration": 0.021911,
     "end_time": "2020-10-20T19:13:44.598361",
     "exception": false,
     "start_time": "2020-10-20T19:13:44.576450",
     "status": "completed"
    },
    "tags": []
   },
   "outputs": [
    {
     "data": {
      "text/html": [
       "\n",
       "<!-- #######  HTML!! #########-->\n",
       "<h1 style=\"color: #5e9ca0; text-align: center;\">India</h1>\n",
       "<p style=\"text-align: center;\">Last update: <strong>20-Oct-20</strong></p>\n",
       "<p style=\"text-align: center;\">Confirmed cases:</p>\n",
       "<p style=\"text-align: center;font-size:24px;\">7647665 (<span style=\"color: #ff0000;\">+53560</span>)</p>\n",
       "<p style=\"text-align: center;\">Confirmed deaths:</p>\n",
       "<p style=\"text-align: center;font-size:24px;\">115352 (<span style=\"color: #ff0000;\">+703</span>)</p>\n",
       "<p style=\"text-align: center;\">Recovered cases:</p>\n",
       "<p style=\"text-align: center;font-size:24px;\">6791160 (<span style=\"color: #00ff00;\">+60571</span>)</p>\n"
      ],
      "text/plain": [
       "<IPython.core.display.HTML object>"
      ]
     },
     "metadata": {},
     "output_type": "display_data"
    }
   ],
   "source": [
    "#hide_input\n",
    "# Fill the above HTML with the information from the summary dictionary\n",
    "\n",
    "update = summary['updated']\n",
    "cases = summary['Cases']\n",
    "new = summary['Cases (+)']\n",
    "deaths = summary['Deaths']\n",
    "dnew = summary['Deaths (+)']\n",
    "recovered = summary['Recovered']\n",
    "rnew = summary['Recovered (+)']\n",
    "\n",
    "html = HTML(overview.format(update=update, cases=cases,new=new,deaths=deaths,dnew=dnew, recovered=recovered, rnew=rnew))\n",
    "\n",
    "display(html)"
   ]
  },
  {
   "cell_type": "code",
   "execution_count": 11,
   "metadata": {
    "execution": {
     "iopub.execute_input": "2020-10-20T19:13:44.634340Z",
     "iopub.status.busy": "2020-10-20T19:13:44.633743Z",
     "iopub.status.idle": "2020-10-20T19:13:44.638554Z",
     "shell.execute_reply": "2020-10-20T19:13:44.638102Z"
    },
    "papermill": {
     "duration": 0.02663,
     "end_time": "2020-10-20T19:13:44.638662",
     "exception": false,
     "start_time": "2020-10-20T19:13:44.612032",
     "status": "completed"
    },
    "tags": []
   },
   "outputs": [],
   "source": [
    "#hide\n",
    "df_cases = df[df['Status'] == 'Confirmed'].copy()\n",
    "df_cases.drop(columns = ['Status'], inplace=True)\n",
    "df_deaths = df[df['Status'] == 'Deceased'].copy()\n",
    "df_deaths.drop(columns = ['Status'], inplace=True)\n",
    "df_recovered = df[df['Status'] == 'Recovered'].copy()\n",
    "df_recovered.drop(columns = ['Status'], inplace=True)"
   ]
  },
  {
   "cell_type": "markdown",
   "metadata": {
    "papermill": {
     "duration": 0.013656,
     "end_time": "2020-10-20T19:13:44.665981",
     "exception": false,
     "start_time": "2020-10-20T19:13:44.652325",
     "status": "completed"
    },
    "tags": []
   },
   "source": [
    "Plot for India:"
   ]
  },
  {
   "cell_type": "code",
   "execution_count": 12,
   "metadata": {
    "execution": {
     "iopub.execute_input": "2020-10-20T19:13:44.716035Z",
     "iopub.status.busy": "2020-10-20T19:13:44.715503Z",
     "iopub.status.idle": "2020-10-20T19:13:44.964010Z",
     "shell.execute_reply": "2020-10-20T19:13:44.964426Z"
    },
    "papermill": {
     "duration": 0.284788,
     "end_time": "2020-10-20T19:13:44.964559",
     "exception": false,
     "start_time": "2020-10-20T19:13:44.679771",
     "status": "completed"
    },
    "tags": []
   },
   "outputs": [
    {
     "data": {
      "image/png": "[encoded data removed]",
      "text/plain": [
       "<Figure size 1296x432 with 1 Axes>"
      ]
     },
     "metadata": {
      "needs_background": "light"
     },
     "output_type": "display_data"
    }
   ],
   "source": [
    "#hide_input\n",
    "plt.figure(figsize = (18,6))\n",
    "plt.plot(df_cases['Date'], df_cases['TT'],'.-', alpha=0.7, color='b', label='Confirmed cases')\n",
    "plt.plot(df_recovered['Date'], df_recovered['TT'],'.-', alpha=0.7, color='g', label='Recovered')\n",
    "plt.plot(df_deaths['Date'], df_deaths['TT'],'.-', alpha=0.7, color='r', label='Deceased')\n",
    "plt.legend()\n",
    "plt.title(\"Cases per day in India\")\n",
    "plt.xticks(ticks=' ')\n",
    "plt.xlabel(f'{df_cases.iloc[0][0]} to {df_cases.iloc[-1][0]}')\n",
    "plt.ylabel('No. of cases');"
   ]
  },
  {
   "cell_type": "markdown",
   "metadata": {
    "papermill": {
     "duration": 0.015782,
     "end_time": "2020-10-20T19:13:44.996264",
     "exception": false,
     "start_time": "2020-10-20T19:13:44.980482",
     "status": "completed"
    },
    "tags": []
   },
   "source": [
    "Plots for the states with highest number of cases:"
   ]
  },
  {
   "cell_type": "markdown",
   "metadata": {
    "tags": [
     "papermill-error-cell-tag"
    ]
   },
   "source": [
    "<span id=\"papermill-error-cell\" style=\"color:red; font-family:Helvetica Neue, Helvetica, Arial, sans-serif; font-size:2em;\">Execution using papermill encountered an exception here and stopped:</span>"
   ]
  },
  {
   "cell_type": "code",
   "execution_count": 13,
   "metadata": {
    "execution": {
     "iopub.execute_input": "2020-10-20T19:13:45.039749Z",
     "iopub.status.busy": "2020-10-20T19:13:45.039208Z",
     "iopub.status.idle": "2020-10-20T19:13:45.148190Z",
     "shell.execute_reply": "2020-10-20T19:13:45.148664Z"
    },
    "papermill": {
     "duration": 0.136755,
     "end_time": "2020-10-20T19:13:45.148837",
     "exception": true,
     "start_time": "2020-10-20T19:13:45.012082",
     "status": "failed"
    },
    "tags": []
   },
   "outputs": [
    {
     "ename": "TypeError",
     "evalue": "'>' not supported between instances of 'numpy.ndarray' and 'str'",
     "output_type": "error",
     "traceback": [
      "\u001b[0;31m---------------------------------------------------------------------------\u001b[0m",
      "\u001b[0;31mTypeError\u001b[0m                                 Traceback (most recent call last)",
      "\u001b[0;32m<ipython-input-13-9711672c0a2c>\u001b[0m in \u001b[0;36m<module>\u001b[0;34m\u001b[0m\n\u001b[1;32m      1\u001b[0m \u001b[0;31m#hide_input\u001b[0m\u001b[0;34m\u001b[0m\u001b[0;34m\u001b[0m\u001b[0;34m\u001b[0m\u001b[0m\n\u001b[0;32m----> 2\u001b[0;31m \u001b[0mtop_3\u001b[0m \u001b[0;34m=\u001b[0m \u001b[0msorted\u001b[0m\u001b[0;34m(\u001b[0m\u001b[0mdf_cases\u001b[0m\u001b[0;34m.\u001b[0m\u001b[0msum\u001b[0m\u001b[0;34m(\u001b[0m\u001b[0;34m)\u001b[0m\u001b[0;34m.\u001b[0m\u001b[0mvalues\u001b[0m\u001b[0;34m[\u001b[0m\u001b[0;36m1\u001b[0m\u001b[0;34m:\u001b[0m\u001b[0;34m]\u001b[0m\u001b[0;34m,\u001b[0m \u001b[0mreverse\u001b[0m\u001b[0;34m=\u001b[0m\u001b[0;32mTrue\u001b[0m\u001b[0;34m)\u001b[0m\u001b[0;34m[\u001b[0m\u001b[0;36m1\u001b[0m\u001b[0;34m:\u001b[0m\u001b[0;36m4\u001b[0m\u001b[0;34m]\u001b[0m\u001b[0;34m\u001b[0m\u001b[0;34m\u001b[0m\u001b[0m\n\u001b[0m\u001b[1;32m      3\u001b[0m \u001b[0mtop3_states\u001b[0m\u001b[0;34m=\u001b[0m\u001b[0;34m[\u001b[0m\u001b[0;34m]\u001b[0m\u001b[0;34m\u001b[0m\u001b[0;34m\u001b[0m\u001b[0m\n\u001b[1;32m      4\u001b[0m \u001b[0;32mfor\u001b[0m \u001b[0mi\u001b[0m \u001b[0;32min\u001b[0m \u001b[0mtop_3\u001b[0m\u001b[0;34m:\u001b[0m\u001b[0;34m\u001b[0m\u001b[0;34m\u001b[0m\u001b[0m\n\u001b[1;32m      5\u001b[0m     \u001b[0mtop3_states\u001b[0m\u001b[0;34m.\u001b[0m\u001b[0mappend\u001b[0m\u001b[0;34m(\u001b[0m\u001b[0mdf_cases\u001b[0m\u001b[0;34m.\u001b[0m\u001b[0msum\u001b[0m\u001b[0;34m(\u001b[0m\u001b[0;34m)\u001b[0m\u001b[0;34m[\u001b[0m\u001b[0mdf_cases\u001b[0m\u001b[0;34m.\u001b[0m\u001b[0msum\u001b[0m\u001b[0;34m(\u001b[0m\u001b[0;34m)\u001b[0m \u001b[0;34m==\u001b[0m \u001b[0mi\u001b[0m\u001b[0;34m]\u001b[0m\u001b[0;34m.\u001b[0m\u001b[0mindex\u001b[0m\u001b[0;34m)\u001b[0m\u001b[0;34m\u001b[0m\u001b[0;34m\u001b[0m\u001b[0m\n",
      "\u001b[0;31mTypeError\u001b[0m: '>' not supported between instances of 'numpy.ndarray' and 'str'"
     ]
    }
   ],
   "source": [
    "#hide_input\n",
    "top_3 = sorted(df_cases.sum().values[1:], reverse=True)[1:4]\n",
    "top3_states=[]\n",
    "for i in top_3:\n",
    "    top3_states.append(df_cases.sum()[df_cases.sum() == i].index)\n",
    "\n",
    "\n",
    "fig, ax = plt.subplots(1,3,figsize = (21,6))\n",
    "for i in range(3):\n",
    "    state = top3_states[i].values[0]\n",
    "    ax[i].plot(df_cases['Date'], df_cases[state],'.-', color='b', alpha=0.7)\n",
    "    ax[i].plot(df_deaths['Date'], df_deaths[state],'.-', color='r', alpha=0.7)\n",
    "    ax[i].plot(df_recovered['Date'], df_recovered[state],'.-', color='g', alpha=0.7)\n",
    "    \n",
    "    ax[i].set_title(f\"Cases in {state}\")\n",
    "    ax[i].set_xticks(ticks=' ')\n",
    "    ax[i].set_xlabel(f'{df_cases.iloc[0][0]} to {df_cases.iloc[-1][0]}')\n",
    "    ax[i].set_ylabel('No. of cases');"
   ]
  },
  {
   "cell_type": "code",
   "execution_count": null,
   "metadata": {
    "papermill": {
     "duration": null,
     "end_time": null,
     "exception": null,
     "start_time": null,
     "status": "pending"
    },
    "tags": []
   },
   "outputs": [],
   "source": []
  },
  {
   "cell_type": "code",
   "execution_count": null,
   "metadata": {
    "papermill": {
     "duration": null,
     "end_time": null,
     "exception": null,
     "start_time": null,
     "status": "pending"
    },
    "tags": []
   },
   "outputs": [],
   "source": []
  },
  {
   "cell_type": "code",
   "execution_count": null,
   "metadata": {
    "papermill": {
     "duration": null,
     "end_time": null,
     "exception": null,
     "start_time": null,
     "status": "pending"
    },
    "tags": []
   },
   "outputs": [],
   "source": []
  }
 ],
 "metadata": {
  "kernelspec": {
   "display_name": "Python 3",
   "language": "python",
   "name": "python3"
  },
  "language_info": {
   "codemirror_mode": {
    "name": "ipython",
    "version": 3
   },
   "file_extension": ".py",
   "mimetype": "text/x-python",
   "name": "python",
   "nbconvert_exporter": "python",
   "pygments_lexer": "ipython3",
   "version": "3.6.12"
  },
  "papermill": {
   "duration": 3.101378,
   "end_time": "2020-10-20T19:13:45.556701",
   "environment_variables": {},
   "exception": true,
   "input_path": "2020-08-09-DailyUpdate.ipynb",
   "output_path": "2020-08-09-DailyUpdate.ipynb",
   "parameters": {},
   "start_time": "2020-10-20T19:13:42.455323",
   "version": "2.1.2"
  }
 },
 "nbformat": 4,
 "nbformat_minor": 4
}