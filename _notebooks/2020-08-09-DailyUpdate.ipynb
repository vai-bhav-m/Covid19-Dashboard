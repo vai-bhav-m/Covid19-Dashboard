{
 "cells": [
  {
   "cell_type": "markdown",
   "metadata": {
    "papermill": {
     "duration": 0.020026,
     "end_time": "2020-09-07T19:12:41.082081",
     "exception": false,
     "start_time": "2020-09-07T19:12:41.062055",
     "status": "completed"
    },
    "tags": []
   },
   "source": [
    "# COVID-19 India Daily updates\n",
    "> Tracking coronavirus total cases, deaths and new cases in India on a daily basis\n",
    "\n",
    "- author: Vaibhav Mahapatra"
   ]
  },
  {
   "cell_type": "code",
   "execution_count": 1,
   "metadata": {
    "execution": {
     "iopub.execute_input": "2020-09-07T19:12:41.121118Z",
     "iopub.status.busy": "2020-09-07T19:12:41.120329Z",
     "iopub.status.idle": "2020-09-07T19:12:41.761329Z",
     "shell.execute_reply": "2020-09-07T19:12:41.760411Z"
    },
    "papermill": {
     "duration": 0.662652,
     "end_time": "2020-09-07T19:12:41.761486",
     "exception": false,
     "start_time": "2020-09-07T19:12:41.098834",
     "status": "completed"
    },
    "tags": []
   },
   "outputs": [],
   "source": [
    "#hide\n",
    "\n",
    "## Import essential packages below\n",
    "\n",
    "import pandas as pd\n",
    "import numpy as np\n",
    "import requests\n",
    "import json\n",
    "import matplotlib.pyplot as plt\n",
    "import matplotlib.dates as mdates\n",
    "import matplotlib as mpl\n",
    "from IPython.core.display import display,HTML\n",
    "%matplotlib inline"
   ]
  },
  {
   "cell_type": "code",
   "execution_count": 2,
   "metadata": {
    "execution": {
     "iopub.execute_input": "2020-09-07T19:12:41.791723Z",
     "iopub.status.busy": "2020-09-07T19:12:41.790652Z",
     "iopub.status.idle": "2020-09-07T19:12:41.936486Z",
     "shell.execute_reply": "2020-09-07T19:12:41.935866Z"
    },
    "papermill": {
     "duration": 0.162703,
     "end_time": "2020-09-07T19:12:41.936637",
     "exception": false,
     "start_time": "2020-09-07T19:12:41.773934",
     "status": "completed"
    },
    "tags": []
   },
   "outputs": [
    {
     "data": {
      "text/plain": [
       "(534, 41)"
      ]
     },
     "execution_count": 2,
     "metadata": {},
     "output_type": "execute_result"
    }
   ],
   "source": [
    "#hide\n",
    "url = 'https://api.covid19india.org/csv/latest/state_wise_daily.csv'\n",
    "df = pd.read_csv(url)\n",
    "df.shape"
   ]
  },
  {
   "cell_type": "code",
   "execution_count": 3,
   "metadata": {
    "execution": {
     "iopub.execute_input": "2020-09-07T19:12:42.022989Z",
     "iopub.status.busy": "2020-09-07T19:12:42.015960Z",
     "iopub.status.idle": "2020-09-07T19:12:42.027936Z",
     "shell.execute_reply": "2020-09-07T19:12:42.028412Z"
    },
    "papermill": {
     "duration": 0.0781,
     "end_time": "2020-09-07T19:12:42.028583",
     "exception": false,
     "start_time": "2020-09-07T19:12:41.950483",
     "status": "completed"
    },
    "tags": []
   },
   "outputs": [
    {
     "data": {
      "text/html": [
       "<div>\n",
       "<style scoped>\n",
       "    .dataframe tbody tr th:only-of-type {\n",
       "        vertical-align: middle;\n",
       "    }\n",
       "\n",
       "    .dataframe tbody tr th {\n",
       "        vertical-align: top;\n",
       "    }\n",
       "\n",
       "    .dataframe thead th {\n",
       "        text-align: right;\n",
       "    }\n",
       "</style>\n",
       "<table border=\"1\" class=\"dataframe\">\n",
       "  <thead>\n",
       "    <tr style=\"text-align: right;\">\n",
       "      <th></th>\n",
       "      <th>Date</th>\n",
       "      <th>Status</th>\n",
       "      <th>TT</th>\n",
       "      <th>AN</th>\n",
       "      <th>AP</th>\n",
       "      <th>AR</th>\n",
       "      <th>AS</th>\n",
       "      <th>BR</th>\n",
       "      <th>CH</th>\n",
       "      <th>CT</th>\n",
       "      <th>...</th>\n",
       "      <th>PB</th>\n",
       "      <th>RJ</th>\n",
       "      <th>SK</th>\n",
       "      <th>TN</th>\n",
       "      <th>TG</th>\n",
       "      <th>TR</th>\n",
       "      <th>UP</th>\n",
       "      <th>UT</th>\n",
       "      <th>WB</th>\n",
       "      <th>UN</th>\n",
       "    </tr>\n",
       "  </thead>\n",
       "  <tbody>\n",
       "    <tr>\n",
       "      <th>528</th>\n",
       "      <td>06-Sep-20</td>\n",
       "      <td>Confirmed</td>\n",
       "      <td>91707</td>\n",
       "      <td>40</td>\n",
       "      <td>10794</td>\n",
       "      <td>71</td>\n",
       "      <td>1537</td>\n",
       "      <td>1797</td>\n",
       "      <td>261</td>\n",
       "      <td>2100</td>\n",
       "      <td>...</td>\n",
       "      <td>1946</td>\n",
       "      <td>1593</td>\n",
       "      <td>9</td>\n",
       "      <td>5783</td>\n",
       "      <td>2574</td>\n",
       "      <td>603</td>\n",
       "      <td>6518</td>\n",
       "      <td>668</td>\n",
       "      <td>3087</td>\n",
       "      <td>0</td>\n",
       "    </tr>\n",
       "    <tr>\n",
       "      <th>529</th>\n",
       "      <td>06-Sep-20</td>\n",
       "      <td>Recovered</td>\n",
       "      <td>69624</td>\n",
       "      <td>47</td>\n",
       "      <td>11915</td>\n",
       "      <td>91</td>\n",
       "      <td>1763</td>\n",
       "      <td>1924</td>\n",
       "      <td>149</td>\n",
       "      <td>711</td>\n",
       "      <td>...</td>\n",
       "      <td>1606</td>\n",
       "      <td>1616</td>\n",
       "      <td>24</td>\n",
       "      <td>5820</td>\n",
       "      <td>2927</td>\n",
       "      <td>262</td>\n",
       "      <td>4779</td>\n",
       "      <td>591</td>\n",
       "      <td>3207</td>\n",
       "      <td>0</td>\n",
       "    </tr>\n",
       "    <tr>\n",
       "      <th>530</th>\n",
       "      <td>06-Sep-20</td>\n",
       "      <td>Deceased</td>\n",
       "      <td>1008</td>\n",
       "      <td>0</td>\n",
       "      <td>70</td>\n",
       "      <td>0</td>\n",
       "      <td>8</td>\n",
       "      <td>4</td>\n",
       "      <td>2</td>\n",
       "      <td>24</td>\n",
       "      <td>...</td>\n",
       "      <td>54</td>\n",
       "      <td>15</td>\n",
       "      <td>0</td>\n",
       "      <td>88</td>\n",
       "      <td>9</td>\n",
       "      <td>8</td>\n",
       "      <td>77</td>\n",
       "      <td>11</td>\n",
       "      <td>52</td>\n",
       "      <td>0</td>\n",
       "    </tr>\n",
       "    <tr>\n",
       "      <th>531</th>\n",
       "      <td>07-Sep-20</td>\n",
       "      <td>Confirmed</td>\n",
       "      <td>74677</td>\n",
       "      <td>27</td>\n",
       "      <td>8368</td>\n",
       "      <td>179</td>\n",
       "      <td>2785</td>\n",
       "      <td>1369</td>\n",
       "      <td>232</td>\n",
       "      <td>2017</td>\n",
       "      <td>...</td>\n",
       "      <td>2110</td>\n",
       "      <td>1580</td>\n",
       "      <td>29</td>\n",
       "      <td>5776</td>\n",
       "      <td>1802</td>\n",
       "      <td>399</td>\n",
       "      <td>5568</td>\n",
       "      <td>807</td>\n",
       "      <td>3077</td>\n",
       "      <td>0</td>\n",
       "    </tr>\n",
       "    <tr>\n",
       "      <th>532</th>\n",
       "      <td>07-Sep-20</td>\n",
       "      <td>Recovered</td>\n",
       "      <td>73535</td>\n",
       "      <td>46</td>\n",
       "      <td>10055</td>\n",
       "      <td>124</td>\n",
       "      <td>2250</td>\n",
       "      <td>1845</td>\n",
       "      <td>295</td>\n",
       "      <td>979</td>\n",
       "      <td>...</td>\n",
       "      <td>1565</td>\n",
       "      <td>1566</td>\n",
       "      <td>25</td>\n",
       "      <td>5930</td>\n",
       "      <td>2711</td>\n",
       "      <td>303</td>\n",
       "      <td>4993</td>\n",
       "      <td>473</td>\n",
       "      <td>3021</td>\n",
       "      <td>0</td>\n",
       "    </tr>\n",
       "    <tr>\n",
       "      <th>533</th>\n",
       "      <td>07-Sep-20</td>\n",
       "      <td>Deceased</td>\n",
       "      <td>1120</td>\n",
       "      <td>0</td>\n",
       "      <td>70</td>\n",
       "      <td>0</td>\n",
       "      <td>10</td>\n",
       "      <td>7</td>\n",
       "      <td>3</td>\n",
       "      <td>15</td>\n",
       "      <td>...</td>\n",
       "      <td>61</td>\n",
       "      <td>14</td>\n",
       "      <td>0</td>\n",
       "      <td>89</td>\n",
       "      <td>9</td>\n",
       "      <td>5</td>\n",
       "      <td>56</td>\n",
       "      <td>7</td>\n",
       "      <td>58</td>\n",
       "      <td>0</td>\n",
       "    </tr>\n",
       "  </tbody>\n",
       "</table>\n",
       "<p>6 rows × 41 columns</p>\n",
       "</div>"
      ],
      "text/plain": [
       "          Date     Status     TT  AN     AP   AR    AS    BR   CH    CT  ...  \\\n",
       "528  06-Sep-20  Confirmed  91707  40  10794   71  1537  1797  261  2100  ...   \n",
       "529  06-Sep-20  Recovered  69624  47  11915   91  1763  1924  149   711  ...   \n",
       "530  06-Sep-20   Deceased   1008   0     70    0     8     4    2    24  ...   \n",
       "531  07-Sep-20  Confirmed  74677  27   8368  179  2785  1369  232  2017  ...   \n",
       "532  07-Sep-20  Recovered  73535  46  10055  124  2250  1845  295   979  ...   \n",
       "533  07-Sep-20   Deceased   1120   0     70    0    10     7    3    15  ...   \n",
       "\n",
       "       PB    RJ  SK    TN    TG   TR    UP   UT    WB  UN  \n",
       "528  1946  1593   9  5783  2574  603  6518  668  3087   0  \n",
       "529  1606  1616  24  5820  2927  262  4779  591  3207   0  \n",
       "530    54    15   0    88     9    8    77   11    52   0  \n",
       "531  2110  1580  29  5776  1802  399  5568  807  3077   0  \n",
       "532  1565  1566  25  5930  2711  303  4993  473  3021   0  \n",
       "533    61    14   0    89     9    5    56    7    58   0  \n",
       "\n",
       "[6 rows x 41 columns]"
      ]
     },
     "execution_count": 3,
     "metadata": {},
     "output_type": "execute_result"
    }
   ],
   "source": [
    "#hide\n",
    "df.tail(6)"
   ]
  },
  {
   "cell_type": "code",
   "execution_count": 4,
   "metadata": {
    "execution": {
     "iopub.execute_input": "2020-09-07T19:12:42.064550Z",
     "iopub.status.busy": "2020-09-07T19:12:42.063806Z",
     "iopub.status.idle": "2020-09-07T19:12:42.069449Z",
     "shell.execute_reply": "2020-09-07T19:12:42.068783Z"
    },
    "papermill": {
     "duration": 0.028019,
     "end_time": "2020-09-07T19:12:42.069615",
     "exception": false,
     "start_time": "2020-09-07T19:12:42.041596",
     "status": "completed"
    },
    "tags": []
   },
   "outputs": [
    {
     "data": {
      "text/plain": [
       "('07-Sep-20', '06-Sep-20')"
      ]
     },
     "execution_count": 4,
     "metadata": {},
     "output_type": "execute_result"
    }
   ],
   "source": [
    "#hide\n",
    "dt_today = df.iloc[-1][0]\n",
    "dt_yday = df.iloc[-4][0]\n",
    "dt_today, dt_yday"
   ]
  },
  {
   "cell_type": "code",
   "execution_count": 5,
   "metadata": {
    "execution": {
     "iopub.execute_input": "2020-09-07T19:12:42.110082Z",
     "iopub.status.busy": "2020-09-07T19:12:42.109329Z",
     "iopub.status.idle": "2020-09-07T19:12:42.119056Z",
     "shell.execute_reply": "2020-09-07T19:12:42.118356Z"
    },
    "papermill": {
     "duration": 0.033196,
     "end_time": "2020-09-07T19:12:42.119235",
     "exception": false,
     "start_time": "2020-09-07T19:12:42.086039",
     "status": "completed"
    },
    "tags": []
   },
   "outputs": [],
   "source": [
    "#hide\n",
    "df_today = df.groupby('Status').sum()\n",
    "df_yday = df.iloc[:-3][:].groupby('Status').sum()"
   ]
  },
  {
   "cell_type": "code",
   "execution_count": 6,
   "metadata": {
    "execution": {
     "iopub.execute_input": "2020-09-07T19:12:42.171942Z",
     "iopub.status.busy": "2020-09-07T19:12:42.171193Z",
     "iopub.status.idle": "2020-09-07T19:12:42.174147Z",
     "shell.execute_reply": "2020-09-07T19:12:42.175164Z"
    },
    "papermill": {
     "duration": 0.039062,
     "end_time": "2020-09-07T19:12:42.175358",
     "exception": false,
     "start_time": "2020-09-07T19:12:42.136296",
     "status": "completed"
    },
    "tags": []
   },
   "outputs": [
    {
     "data": {
      "text/html": [
       "<div>\n",
       "<style scoped>\n",
       "    .dataframe tbody tr th:only-of-type {\n",
       "        vertical-align: middle;\n",
       "    }\n",
       "\n",
       "    .dataframe tbody tr th {\n",
       "        vertical-align: top;\n",
       "    }\n",
       "\n",
       "    .dataframe thead th {\n",
       "        text-align: right;\n",
       "    }\n",
       "</style>\n",
       "<table border=\"1\" class=\"dataframe\">\n",
       "  <thead>\n",
       "    <tr style=\"text-align: right;\">\n",
       "      <th></th>\n",
       "      <th>TT</th>\n",
       "      <th>AN</th>\n",
       "      <th>AP</th>\n",
       "      <th>AR</th>\n",
       "      <th>AS</th>\n",
       "      <th>BR</th>\n",
       "      <th>CH</th>\n",
       "      <th>CT</th>\n",
       "      <th>DN</th>\n",
       "      <th>DD</th>\n",
       "      <th>...</th>\n",
       "      <th>PB</th>\n",
       "      <th>RJ</th>\n",
       "      <th>SK</th>\n",
       "      <th>TN</th>\n",
       "      <th>TG</th>\n",
       "      <th>TR</th>\n",
       "      <th>UP</th>\n",
       "      <th>UT</th>\n",
       "      <th>WB</th>\n",
       "      <th>UN</th>\n",
       "    </tr>\n",
       "    <tr>\n",
       "      <th>Status</th>\n",
       "      <th></th>\n",
       "      <th></th>\n",
       "      <th></th>\n",
       "      <th></th>\n",
       "      <th></th>\n",
       "      <th></th>\n",
       "      <th></th>\n",
       "      <th></th>\n",
       "      <th></th>\n",
       "      <th></th>\n",
       "      <th></th>\n",
       "      <th></th>\n",
       "      <th></th>\n",
       "      <th></th>\n",
       "      <th></th>\n",
       "      <th></th>\n",
       "      <th></th>\n",
       "      <th></th>\n",
       "      <th></th>\n",
       "      <th></th>\n",
       "      <th></th>\n",
       "    </tr>\n",
       "  </thead>\n",
       "  <tbody>\n",
       "    <tr>\n",
       "      <th>Confirmed</th>\n",
       "      <td>4276595</td>\n",
       "      <td>3355</td>\n",
       "      <td>506493</td>\n",
       "      <td>5164</td>\n",
       "      <td>128143</td>\n",
       "      <td>149027</td>\n",
       "      <td>5995</td>\n",
       "      <td>47280</td>\n",
       "      <td>2591</td>\n",
       "      <td>0</td>\n",
       "      <td>...</td>\n",
       "      <td>65583</td>\n",
       "      <td>92536</td>\n",
       "      <td>1952</td>\n",
       "      <td>469256</td>\n",
       "      <td>142261</td>\n",
       "      <td>15526</td>\n",
       "      <td>271851</td>\n",
       "      <td>25436</td>\n",
       "      <td>183865</td>\n",
       "      <td>0</td>\n",
       "    </tr>\n",
       "    <tr>\n",
       "      <th>Deceased</th>\n",
       "      <td>72222</td>\n",
       "      <td>50</td>\n",
       "      <td>4487</td>\n",
       "      <td>8</td>\n",
       "      <td>374</td>\n",
       "      <td>761</td>\n",
       "      <td>74</td>\n",
       "      <td>395</td>\n",
       "      <td>2</td>\n",
       "      <td>0</td>\n",
       "      <td>...</td>\n",
       "      <td>1923</td>\n",
       "      <td>1151</td>\n",
       "      <td>5</td>\n",
       "      <td>7928</td>\n",
       "      <td>895</td>\n",
       "      <td>149</td>\n",
       "      <td>3976</td>\n",
       "      <td>348</td>\n",
       "      <td>3620</td>\n",
       "      <td>0</td>\n",
       "    </tr>\n",
       "    <tr>\n",
       "      <th>Recovered</th>\n",
       "      <td>3320825</td>\n",
       "      <td>2988</td>\n",
       "      <td>404074</td>\n",
       "      <td>3596</td>\n",
       "      <td>99074</td>\n",
       "      <td>132145</td>\n",
       "      <td>3734</td>\n",
       "      <td>22177</td>\n",
       "      <td>2278</td>\n",
       "      <td>0</td>\n",
       "      <td>...</td>\n",
       "      <td>47020</td>\n",
       "      <td>76427</td>\n",
       "      <td>1397</td>\n",
       "      <td>410116</td>\n",
       "      <td>110241</td>\n",
       "      <td>9048</td>\n",
       "      <td>205731</td>\n",
       "      <td>17046</td>\n",
       "      <td>157029</td>\n",
       "      <td>0</td>\n",
       "    </tr>\n",
       "  </tbody>\n",
       "</table>\n",
       "<p>3 rows × 39 columns</p>\n",
       "</div>"
      ],
      "text/plain": [
       "                TT    AN      AP    AR      AS      BR    CH     CT    DN  DD  \\\n",
       "Status                                                                          \n",
       "Confirmed  4276595  3355  506493  5164  128143  149027  5995  47280  2591   0   \n",
       "Deceased     72222    50    4487     8     374     761    74    395     2   0   \n",
       "Recovered  3320825  2988  404074  3596   99074  132145  3734  22177  2278   0   \n",
       "\n",
       "           ...     PB     RJ    SK      TN      TG     TR      UP     UT  \\\n",
       "Status     ...                                                             \n",
       "Confirmed  ...  65583  92536  1952  469256  142261  15526  271851  25436   \n",
       "Deceased   ...   1923   1151     5    7928     895    149    3976    348   \n",
       "Recovered  ...  47020  76427  1397  410116  110241   9048  205731  17046   \n",
       "\n",
       "               WB  UN  \n",
       "Status                 \n",
       "Confirmed  183865   0  \n",
       "Deceased     3620   0  \n",
       "Recovered  157029   0  \n",
       "\n",
       "[3 rows x 39 columns]"
      ]
     },
     "execution_count": 6,
     "metadata": {},
     "output_type": "execute_result"
    }
   ],
   "source": [
    "#hide\n",
    "df_today"
   ]
  },
  {
   "cell_type": "code",
   "execution_count": 7,
   "metadata": {
    "execution": {
     "iopub.execute_input": "2020-09-07T19:12:42.231929Z",
     "iopub.status.busy": "2020-09-07T19:12:42.231244Z",
     "iopub.status.idle": "2020-09-07T19:12:42.234302Z",
     "shell.execute_reply": "2020-09-07T19:12:42.234875Z"
    },
    "papermill": {
     "duration": 0.039932,
     "end_time": "2020-09-07T19:12:42.235050",
     "exception": false,
     "start_time": "2020-09-07T19:12:42.195118",
     "status": "completed"
    },
    "tags": []
   },
   "outputs": [
    {
     "data": {
      "text/html": [
       "<div>\n",
       "<style scoped>\n",
       "    .dataframe tbody tr th:only-of-type {\n",
       "        vertical-align: middle;\n",
       "    }\n",
       "\n",
       "    .dataframe tbody tr th {\n",
       "        vertical-align: top;\n",
       "    }\n",
       "\n",
       "    .dataframe thead th {\n",
       "        text-align: right;\n",
       "    }\n",
       "</style>\n",
       "<table border=\"1\" class=\"dataframe\">\n",
       "  <thead>\n",
       "    <tr style=\"text-align: right;\">\n",
       "      <th></th>\n",
       "      <th>TT</th>\n",
       "      <th>AN</th>\n",
       "      <th>AP</th>\n",
       "      <th>AR</th>\n",
       "      <th>AS</th>\n",
       "      <th>BR</th>\n",
       "      <th>CH</th>\n",
       "      <th>CT</th>\n",
       "      <th>DN</th>\n",
       "      <th>DD</th>\n",
       "      <th>...</th>\n",
       "      <th>PB</th>\n",
       "      <th>RJ</th>\n",
       "      <th>SK</th>\n",
       "      <th>TN</th>\n",
       "      <th>TG</th>\n",
       "      <th>TR</th>\n",
       "      <th>UP</th>\n",
       "      <th>UT</th>\n",
       "      <th>WB</th>\n",
       "      <th>UN</th>\n",
       "    </tr>\n",
       "    <tr>\n",
       "      <th>Status</th>\n",
       "      <th></th>\n",
       "      <th></th>\n",
       "      <th></th>\n",
       "      <th></th>\n",
       "      <th></th>\n",
       "      <th></th>\n",
       "      <th></th>\n",
       "      <th></th>\n",
       "      <th></th>\n",
       "      <th></th>\n",
       "      <th></th>\n",
       "      <th></th>\n",
       "      <th></th>\n",
       "      <th></th>\n",
       "      <th></th>\n",
       "      <th></th>\n",
       "      <th></th>\n",
       "      <th></th>\n",
       "      <th></th>\n",
       "      <th></th>\n",
       "      <th></th>\n",
       "    </tr>\n",
       "  </thead>\n",
       "  <tbody>\n",
       "    <tr>\n",
       "      <th>Confirmed</th>\n",
       "      <td>4201918</td>\n",
       "      <td>3328</td>\n",
       "      <td>498125</td>\n",
       "      <td>4985</td>\n",
       "      <td>125358</td>\n",
       "      <td>147658</td>\n",
       "      <td>5763</td>\n",
       "      <td>45263</td>\n",
       "      <td>2569</td>\n",
       "      <td>0</td>\n",
       "      <td>...</td>\n",
       "      <td>63473</td>\n",
       "      <td>90956</td>\n",
       "      <td>1923</td>\n",
       "      <td>463480</td>\n",
       "      <td>140459</td>\n",
       "      <td>15127</td>\n",
       "      <td>266283</td>\n",
       "      <td>24629</td>\n",
       "      <td>180788</td>\n",
       "      <td>0</td>\n",
       "    </tr>\n",
       "    <tr>\n",
       "      <th>Deceased</th>\n",
       "      <td>71102</td>\n",
       "      <td>50</td>\n",
       "      <td>4417</td>\n",
       "      <td>8</td>\n",
       "      <td>364</td>\n",
       "      <td>754</td>\n",
       "      <td>71</td>\n",
       "      <td>380</td>\n",
       "      <td>2</td>\n",
       "      <td>0</td>\n",
       "      <td>...</td>\n",
       "      <td>1862</td>\n",
       "      <td>1137</td>\n",
       "      <td>5</td>\n",
       "      <td>7839</td>\n",
       "      <td>886</td>\n",
       "      <td>144</td>\n",
       "      <td>3920</td>\n",
       "      <td>341</td>\n",
       "      <td>3562</td>\n",
       "      <td>0</td>\n",
       "    </tr>\n",
       "    <tr>\n",
       "      <th>Recovered</th>\n",
       "      <td>3247290</td>\n",
       "      <td>2942</td>\n",
       "      <td>394019</td>\n",
       "      <td>3472</td>\n",
       "      <td>96824</td>\n",
       "      <td>130300</td>\n",
       "      <td>3439</td>\n",
       "      <td>21198</td>\n",
       "      <td>2251</td>\n",
       "      <td>0</td>\n",
       "      <td>...</td>\n",
       "      <td>45455</td>\n",
       "      <td>74861</td>\n",
       "      <td>1372</td>\n",
       "      <td>404186</td>\n",
       "      <td>107530</td>\n",
       "      <td>8745</td>\n",
       "      <td>200738</td>\n",
       "      <td>16573</td>\n",
       "      <td>154008</td>\n",
       "      <td>0</td>\n",
       "    </tr>\n",
       "  </tbody>\n",
       "</table>\n",
       "<p>3 rows × 39 columns</p>\n",
       "</div>"
      ],
      "text/plain": [
       "                TT    AN      AP    AR      AS      BR    CH     CT    DN  DD  \\\n",
       "Status                                                                          \n",
       "Confirmed  4201918  3328  498125  4985  125358  147658  5763  45263  2569   0   \n",
       "Deceased     71102    50    4417     8     364     754    71    380     2   0   \n",
       "Recovered  3247290  2942  394019  3472   96824  130300  3439  21198  2251   0   \n",
       "\n",
       "           ...     PB     RJ    SK      TN      TG     TR      UP     UT  \\\n",
       "Status     ...                                                             \n",
       "Confirmed  ...  63473  90956  1923  463480  140459  15127  266283  24629   \n",
       "Deceased   ...   1862   1137     5    7839     886    144    3920    341   \n",
       "Recovered  ...  45455  74861  1372  404186  107530   8745  200738  16573   \n",
       "\n",
       "               WB  UN  \n",
       "Status                 \n",
       "Confirmed  180788   0  \n",
       "Deceased     3562   0  \n",
       "Recovered  154008   0  \n",
       "\n",
       "[3 rows x 39 columns]"
      ]
     },
     "execution_count": 7,
     "metadata": {},
     "output_type": "execute_result"
    }
   ],
   "source": [
    "#hide\n",
    "df_yday.head()"
   ]
  },
  {
   "cell_type": "code",
   "execution_count": 8,
   "metadata": {
    "execution": {
     "iopub.execute_input": "2020-09-07T19:12:42.278280Z",
     "iopub.status.busy": "2020-09-07T19:12:42.277542Z",
     "iopub.status.idle": "2020-09-07T19:12:42.280507Z",
     "shell.execute_reply": "2020-09-07T19:12:42.281159Z"
    },
    "papermill": {
     "duration": 0.030815,
     "end_time": "2020-09-07T19:12:42.281338",
     "exception": false,
     "start_time": "2020-09-07T19:12:42.250523",
     "status": "completed"
    },
    "tags": []
   },
   "outputs": [
    {
     "data": {
      "text/plain": [
       "{'updated': '07-Sep-20',\n",
       " 'since': '06-Sep-20',\n",
       " 'Cases': 4276595,\n",
       " 'Deaths': 72222,\n",
       " 'Recovered': 3320825,\n",
       " 'PCases': 4201918,\n",
       " 'PDeaths': 71102,\n",
       " 'PRecovered': 3247290,\n",
       " 'Cases (+)': 74677,\n",
       " 'Deaths (+)': 1120,\n",
       " 'Recovered (+)': 73535}"
      ]
     },
     "execution_count": 8,
     "metadata": {},
     "output_type": "execute_result"
    }
   ],
   "source": [
    "#hide\n",
    "summary = {\n",
    "    'updated' : dt_today,\n",
    "    'since' : dt_yday,\n",
    "    'Cases' : df_today['TT'][0],\n",
    "    'Deaths' : df_today['TT'][1],\n",
    "    'Recovered' : df_today['TT'][2],\n",
    "    'PCases' : df_yday['TT'][0],\n",
    "    'PDeaths' : df_yday['TT'][1],\n",
    "    'PRecovered': df_yday['TT'][2],\n",
    "    'Cases (+)' : df_today['TT'][0] - df_yday['TT'][0],\n",
    "    'Deaths (+)' : df_today['TT'][1] - df_yday['TT'][1],\n",
    "    'Recovered (+)': df_today['TT'][2] - df_yday['TT'][2]\n",
    "}\n",
    "\n",
    "summary"
   ]
  },
  {
   "cell_type": "code",
   "execution_count": 9,
   "metadata": {
    "execution": {
     "iopub.execute_input": "2020-09-07T19:12:42.322806Z",
     "iopub.status.busy": "2020-09-07T19:12:42.322133Z",
     "iopub.status.idle": "2020-09-07T19:12:42.324257Z",
     "shell.execute_reply": "2020-09-07T19:12:42.324797Z"
    },
    "papermill": {
     "duration": 0.025863,
     "end_time": "2020-09-07T19:12:42.324957",
     "exception": false,
     "start_time": "2020-09-07T19:12:42.299094",
     "status": "completed"
    },
    "tags": []
   },
   "outputs": [],
   "source": [
    "#hide\n",
    "overview = '''\n",
    "<!-- #######  HTML!! #########-->\n",
    "<h1 style=\"color: #5e9ca0; text-align: center;\">India</h1>\n",
    "<p style=\"text-align: center;\">Last update: <strong>{update}</strong></p>\n",
    "<p style=\"text-align: center;\">Confirmed cases:</p>\n",
    "<p style=\"text-align: center;font-size:24px;\">{cases} (<span style=\"color: #ff0000;\">+{new}</span>)</p>\n",
    "<p style=\"text-align: center;\">Confirmed deaths:</p>\n",
    "<p style=\"text-align: center;font-size:24px;\">{deaths} (<span style=\"color: #ff0000;\">+{dnew}</span>)</p>\n",
    "<p style=\"text-align: center;\">Recovered cases:</p>\n",
    "<p style=\"text-align: center;font-size:24px;\">{recovered} (<span style=\"color: #00ff00;\">+{rnew}</span>)</p>\n",
    "'''"
   ]
  },
  {
   "cell_type": "code",
   "execution_count": 10,
   "metadata": {
    "execution": {
     "iopub.execute_input": "2020-09-07T19:12:42.363777Z",
     "iopub.status.busy": "2020-09-07T19:12:42.363050Z",
     "iopub.status.idle": "2020-09-07T19:12:42.366585Z",
     "shell.execute_reply": "2020-09-07T19:12:42.365876Z"
    },
    "papermill": {
     "duration": 0.026281,
     "end_time": "2020-09-07T19:12:42.366737",
     "exception": false,
     "start_time": "2020-09-07T19:12:42.340456",
     "status": "completed"
    },
    "tags": []
   },
   "outputs": [
    {
     "data": {
      "text/html": [
       "\n",
       "<!-- #######  HTML!! #########-->\n",
       "<h1 style=\"color: #5e9ca0; text-align: center;\">India</h1>\n",
       "<p style=\"text-align: center;\">Last update: <strong>07-Sep-20</strong></p>\n",
       "<p style=\"text-align: center;\">Confirmed cases:</p>\n",
       "<p style=\"text-align: center;font-size:24px;\">4276595 (<span style=\"color: #ff0000;\">+74677</span>)</p>\n",
       "<p style=\"text-align: center;\">Confirmed deaths:</p>\n",
       "<p style=\"text-align: center;font-size:24px;\">72222 (<span style=\"color: #ff0000;\">+1120</span>)</p>\n",
       "<p style=\"text-align: center;\">Recovered cases:</p>\n",
       "<p style=\"text-align: center;font-size:24px;\">3320825 (<span style=\"color: #00ff00;\">+73535</span>)</p>\n"
      ],
      "text/plain": [
       "<IPython.core.display.HTML object>"
      ]
     },
     "metadata": {},
     "output_type": "display_data"
    }
   ],
   "source": [
    "#hide_input\n",
    "# Fill the above HTML with the information from the summary dictionary\n",
    "\n",
    "update = summary['updated']\n",
    "cases = summary['Cases']\n",
    "new = summary['Cases (+)']\n",
    "deaths = summary['Deaths']\n",
    "dnew = summary['Deaths (+)']\n",
    "recovered = summary['Recovered']\n",
    "rnew = summary['Recovered (+)']\n",
    "\n",
    "html = HTML(overview.format(update=update, cases=cases,new=new,deaths=deaths,dnew=dnew, recovered=recovered, rnew=rnew))\n",
    "\n",
    "display(html)"
   ]
  },
  {
   "cell_type": "code",
   "execution_count": 11,
   "metadata": {
    "execution": {
     "iopub.execute_input": "2020-09-07T19:12:42.417786Z",
     "iopub.status.busy": "2020-09-07T19:12:42.417047Z",
     "iopub.status.idle": "2020-09-07T19:12:42.419869Z",
     "shell.execute_reply": "2020-09-07T19:12:42.419163Z"
    },
    "papermill": {
     "duration": 0.032839,
     "end_time": "2020-09-07T19:12:42.420021",
     "exception": false,
     "start_time": "2020-09-07T19:12:42.387182",
     "status": "completed"
    },
    "tags": []
   },
   "outputs": [],
   "source": [
    "#hide\n",
    "df_cases = df[df['Status'] == 'Confirmed'].copy()\n",
    "df_cases.drop(columns = ['Status'], inplace=True)\n",
    "df_deaths = df[df['Status'] == 'Deceased'].copy()\n",
    "df_deaths.drop(columns = ['Status'], inplace=True)\n",
    "df_recovered = df[df['Status'] == 'Recovered'].copy()\n",
    "df_recovered.drop(columns = ['Status'], inplace=True)"
   ]
  },
  {
   "cell_type": "markdown",
   "metadata": {
    "papermill": {
     "duration": 0.019889,
     "end_time": "2020-09-07T19:12:42.458733",
     "exception": false,
     "start_time": "2020-09-07T19:12:42.438844",
     "status": "completed"
    },
    "tags": []
   },
   "source": [
    "Plot for India:"
   ]
  },
  {
   "cell_type": "code",
   "execution_count": 12,
   "metadata": {
    "execution": {
     "iopub.execute_input": "2020-09-07T19:12:42.557270Z",
     "iopub.status.busy": "2020-09-07T19:12:42.516215Z",
     "iopub.status.idle": "2020-09-07T19:12:42.779583Z",
     "shell.execute_reply": "2020-09-07T19:12:42.780197Z"
    },
    "papermill": {
     "duration": 0.303882,
     "end_time": "2020-09-07T19:12:42.780387",
     "exception": false,
     "start_time": "2020-09-07T19:12:42.476505",
     "status": "completed"
    },
    "tags": []
   },
   "outputs": [
    {
     "data": {
      "image/png": "[encoded data removed]",
      "text/plain": [
       "<Figure size 1296x432 with 1 Axes>"
      ]
     },
     "metadata": {
      "needs_background": "light"
     },
     "output_type": "display_data"
    }
   ],
   "source": [
    "#hide_input\n",
    "plt.figure(figsize = (18,6))\n",
    "plt.plot(df_cases['Date'], df_cases['TT'],'.-', alpha=0.7, color='b', label='Confirmed cases')\n",
    "plt.plot(df_recovered['Date'], df_recovered['TT'],'.-', alpha=0.7, color='g', label='Recovered')\n",
    "plt.plot(df_deaths['Date'], df_deaths['TT'],'.-', alpha=0.7, color='r', label='Deceased')\n",
    "plt.legend()\n",
    "plt.title(\"Cases per day in India\")\n",
    "plt.xticks(ticks=' ')\n",
    "plt.xlabel(f'{df_cases.iloc[0][0]} to {df_cases.iloc[-1][0]}')\n",
    "plt.ylabel('No. of cases');"
   ]
  },
  {
   "cell_type": "markdown",
   "metadata": {
    "papermill": {
     "duration": 0.017905,
     "end_time": "2020-09-07T19:12:42.819319",
     "exception": false,
     "start_time": "2020-09-07T19:12:42.801414",
     "status": "completed"
    },
    "tags": []
   },
   "source": [
    "Plots for the states with highest number of cases:"
   ]
  },
  {
   "cell_type": "code",
   "execution_count": 13,
   "metadata": {
    "execution": {
     "iopub.execute_input": "2020-09-07T19:12:42.860803Z",
     "iopub.status.busy": "2020-09-07T19:12:42.860180Z",
     "iopub.status.idle": "2020-09-07T19:12:43.500422Z",
     "shell.execute_reply": "2020-09-07T19:12:43.499879Z"
    },
    "papermill": {
     "duration": 0.665416,
     "end_time": "2020-09-07T19:12:43.500573",
     "exception": false,
     "start_time": "2020-09-07T19:12:42.835157",
     "status": "completed"
    },
    "tags": []
   },
   "outputs": [
    {
     "data": {
      "image/png": "[encoded data removed]",
      "text/plain": [
       "<Figure size 1512x432 with 3 Axes>"
      ]
     },
     "metadata": {
      "needs_background": "light"
     },
     "output_type": "display_data"
    }
   ],
   "source": [
    "#hide_input\n",
    "top_3 = sorted(df_cases.sum().values[1:], reverse=True)[1:4]\n",
    "top3_states=[]\n",
    "for i in top_3:\n",
    "    top3_states.append(df_cases.sum()[df_cases.sum() == i].index)\n",
    "\n",
    "\n",
    "fig, ax = plt.subplots(1,3,figsize = (21,6))\n",
    "for i in range(3):\n",
    "    state = top3_states[i].values[0]\n",
    "    ax[i].plot(df_cases['Date'], df_cases[state],'.-', color='b', alpha=0.7)\n",
    "    ax[i].plot(df_deaths['Date'], df_deaths[state],'.-', color='r', alpha=0.7)\n",
    "    ax[i].plot(df_recovered['Date'], df_recovered[state],'.-', color='g', alpha=0.7)\n",
    "    \n",
    "    ax[i].set_title(f\"Cases in {state}\")\n",
    "    ax[i].set_xticks(ticks=' ')\n",
    "    ax[i].set_xlabel(f'{df_cases.iloc[0][0]} to {df_cases.iloc[-1][0]}')\n",
    "    ax[i].set_ylabel('No. of cases');"
   ]
  },
  {
   "cell_type": "code",
   "execution_count": null,
   "metadata": {
    "papermill": {
     "duration": 0.019815,
     "end_time": "2020-09-07T19:12:43.541532",
     "exception": false,
     "start_time": "2020-09-07T19:12:43.521717",
     "status": "completed"
    },
    "tags": []
   },
   "outputs": [],
   "source": []
  },
  {
   "cell_type": "code",
   "execution_count": null,
   "metadata": {
    "papermill": {
     "duration": 0.019672,
     "end_time": "2020-09-07T19:12:43.582420",
     "exception": false,
     "start_time": "2020-09-07T19:12:43.562748",
     "status": "completed"
    },
    "tags": []
   },
   "outputs": [],
   "source": []
  },
  {
   "cell_type": "code",
   "execution_count": null,
   "metadata": {
    "papermill": {
     "duration": 0.020355,
     "end_time": "2020-09-07T19:12:43.623950",
     "exception": false,
     "start_time": "2020-09-07T19:12:43.603595",
     "status": "completed"
    },
    "tags": []
   },
   "outputs": [],
   "source": []
  }
 ],
 "metadata": {
  "kernelspec": {
   "display_name": "Python 3",
   "language": "python",
   "name": "python3"
  },
  "language_info": {
   "codemirror_mode": {
    "name": "ipython",
    "version": 3
   },
   "file_extension": ".py",
   "mimetype": "text/x-python",
   "name": "python",
   "nbconvert_exporter": "python",
   "pygments_lexer": "ipython3",
   "version": "3.6.12"
  },
  "papermill": {
   "duration": 4.130841,
   "end_time": "2020-09-07T19:12:44.053459",
   "environment_variables": {},
   "exception": null,
   "input_path": "2020-08-09-DailyUpdate.ipynb",
   "output_path": "2020-08-09-DailyUpdate.ipynb",
   "parameters": {},
   "start_time": "2020-09-07T19:12:39.922618",
   "version": "2.1.2"
  }
 },
 "nbformat": 4,
 "nbformat_minor": 4
}