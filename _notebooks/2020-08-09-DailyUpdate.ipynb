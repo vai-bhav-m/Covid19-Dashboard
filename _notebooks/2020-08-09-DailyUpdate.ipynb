{
 "cells": [
  {
   "cell_type": "markdown",
   "metadata": {
    "papermill": {
     "duration": 0.016228,
     "end_time": "2020-10-05T19:13:10.867068",
     "exception": false,
     "start_time": "2020-10-05T19:13:10.850840",
     "status": "completed"
    },
    "tags": []
   },
   "source": [
    "# COVID-19 India Daily updates\n",
    "> Tracking coronavirus total cases, deaths and new cases in India on a daily basis\n",
    "\n",
    "- author: Vaibhav Mahapatra"
   ]
  },
  {
   "cell_type": "code",
   "execution_count": 1,
   "metadata": {
    "execution": {
     "iopub.execute_input": "2020-10-05T19:13:10.899062Z",
     "iopub.status.busy": "2020-10-05T19:13:10.898466Z",
     "iopub.status.idle": "2020-10-05T19:13:11.511638Z",
     "shell.execute_reply": "2020-10-05T19:13:11.512485Z"
    },
    "papermill": {
     "duration": 0.633005,
     "end_time": "2020-10-05T19:13:11.512673",
     "exception": false,
     "start_time": "2020-10-05T19:13:10.879668",
     "status": "completed"
    },
    "tags": []
   },
   "outputs": [],
   "source": [
    "#hide\n",
    "\n",
    "## Import essential packages below\n",
    "\n",
    "import pandas as pd\n",
    "import numpy as np\n",
    "import requests\n",
    "import json\n",
    "import matplotlib.pyplot as plt\n",
    "import matplotlib.dates as mdates\n",
    "import matplotlib as mpl\n",
    "from IPython.core.display import display,HTML\n",
    "%matplotlib inline"
   ]
  },
  {
   "cell_type": "code",
   "execution_count": 2,
   "metadata": {
    "execution": {
     "iopub.execute_input": "2020-10-05T19:13:11.543109Z",
     "iopub.status.busy": "2020-10-05T19:13:11.541275Z",
     "iopub.status.idle": "2020-10-05T19:13:11.936216Z",
     "shell.execute_reply": "2020-10-05T19:13:11.937091Z"
    },
    "papermill": {
     "duration": 0.412727,
     "end_time": "2020-10-05T19:13:11.937313",
     "exception": false,
     "start_time": "2020-10-05T19:13:11.524586",
     "status": "completed"
    },
    "tags": []
   },
   "outputs": [
    {
     "data": {
      "text/plain": [
       "(618, 41)"
      ]
     },
     "execution_count": 2,
     "metadata": {},
     "output_type": "execute_result"
    }
   ],
   "source": [
    "#hide\n",
    "url = 'https://api.covid19india.org/csv/latest/state_wise_daily.csv'\n",
    "df = pd.read_csv(url)\n",
    "df.shape"
   ]
  },
  {
   "cell_type": "code",
   "execution_count": 3,
   "metadata": {
    "execution": {
     "iopub.execute_input": "2020-10-05T19:13:12.039241Z",
     "iopub.status.busy": "2020-10-05T19:13:12.031386Z",
     "iopub.status.idle": "2020-10-05T19:13:12.045614Z",
     "shell.execute_reply": "2020-10-05T19:13:12.045003Z"
    },
    "papermill": {
     "duration": 0.092472,
     "end_time": "2020-10-05T19:13:12.045782",
     "exception": false,
     "start_time": "2020-10-05T19:13:11.953310",
     "status": "completed"
    },
    "tags": []
   },
   "outputs": [
    {
     "data": {
      "text/html": [
       "<div>\n",
       "<style scoped>\n",
       "    .dataframe tbody tr th:only-of-type {\n",
       "        vertical-align: middle;\n",
       "    }\n",
       "\n",
       "    .dataframe tbody tr th {\n",
       "        vertical-align: top;\n",
       "    }\n",
       "\n",
       "    .dataframe thead th {\n",
       "        text-align: right;\n",
       "    }\n",
       "</style>\n",
       "<table border=\"1\" class=\"dataframe\">\n",
       "  <thead>\n",
       "    <tr style=\"text-align: right;\">\n",
       "      <th></th>\n",
       "      <th>Date</th>\n",
       "      <th>Status</th>\n",
       "      <th>TT</th>\n",
       "      <th>AN</th>\n",
       "      <th>AP</th>\n",
       "      <th>AR</th>\n",
       "      <th>AS</th>\n",
       "      <th>BR</th>\n",
       "      <th>CH</th>\n",
       "      <th>CT</th>\n",
       "      <th>...</th>\n",
       "      <th>PB</th>\n",
       "      <th>RJ</th>\n",
       "      <th>SK</th>\n",
       "      <th>TN</th>\n",
       "      <th>TG</th>\n",
       "      <th>TR</th>\n",
       "      <th>UP</th>\n",
       "      <th>UT</th>\n",
       "      <th>WB</th>\n",
       "      <th>UN</th>\n",
       "    </tr>\n",
       "  </thead>\n",
       "  <tbody>\n",
       "    <tr>\n",
       "      <th>612</th>\n",
       "      <td>04-Oct-20</td>\n",
       "      <td>Confirmed</td>\n",
       "      <td>74770</td>\n",
       "      <td>16</td>\n",
       "      <td>6242</td>\n",
       "      <td>127</td>\n",
       "      <td>756</td>\n",
       "      <td>1261</td>\n",
       "      <td>85</td>\n",
       "      <td>1924</td>\n",
       "      <td>...</td>\n",
       "      <td>838</td>\n",
       "      <td>2184</td>\n",
       "      <td>43</td>\n",
       "      <td>5489</td>\n",
       "      <td>1949</td>\n",
       "      <td>322</td>\n",
       "      <td>3840</td>\n",
       "      <td>1419</td>\n",
       "      <td>3357</td>\n",
       "      <td>0</td>\n",
       "    </tr>\n",
       "    <tr>\n",
       "      <th>613</th>\n",
       "      <td>04-Oct-20</td>\n",
       "      <td>Recovered</td>\n",
       "      <td>76713</td>\n",
       "      <td>7</td>\n",
       "      <td>7084</td>\n",
       "      <td>189</td>\n",
       "      <td>1351</td>\n",
       "      <td>1314</td>\n",
       "      <td>202</td>\n",
       "      <td>2654</td>\n",
       "      <td>...</td>\n",
       "      <td>1509</td>\n",
       "      <td>2090</td>\n",
       "      <td>32</td>\n",
       "      <td>5558</td>\n",
       "      <td>2366</td>\n",
       "      <td>513</td>\n",
       "      <td>5226</td>\n",
       "      <td>392</td>\n",
       "      <td>2986</td>\n",
       "      <td>0</td>\n",
       "    </tr>\n",
       "    <tr>\n",
       "      <th>614</th>\n",
       "      <td>04-Oct-20</td>\n",
       "      <td>Deceased</td>\n",
       "      <td>903</td>\n",
       "      <td>0</td>\n",
       "      <td>40</td>\n",
       "      <td>0</td>\n",
       "      <td>14</td>\n",
       "      <td>3</td>\n",
       "      <td>2</td>\n",
       "      <td>14</td>\n",
       "      <td>...</td>\n",
       "      <td>41</td>\n",
       "      <td>15</td>\n",
       "      <td>2</td>\n",
       "      <td>66</td>\n",
       "      <td>10</td>\n",
       "      <td>4</td>\n",
       "      <td>52</td>\n",
       "      <td>4</td>\n",
       "      <td>62</td>\n",
       "      <td>0</td>\n",
       "    </tr>\n",
       "    <tr>\n",
       "      <th>615</th>\n",
       "      <td>05-Oct-20</td>\n",
       "      <td>Confirmed</td>\n",
       "      <td>59773</td>\n",
       "      <td>15</td>\n",
       "      <td>4256</td>\n",
       "      <td>0</td>\n",
       "      <td>1518</td>\n",
       "      <td>907</td>\n",
       "      <td>133</td>\n",
       "      <td>2681</td>\n",
       "      <td>...</td>\n",
       "      <td>1029</td>\n",
       "      <td>2165</td>\n",
       "      <td>17</td>\n",
       "      <td>5395</td>\n",
       "      <td>1335</td>\n",
       "      <td>159</td>\n",
       "      <td>2971</td>\n",
       "      <td>510</td>\n",
       "      <td>3348</td>\n",
       "      <td>0</td>\n",
       "    </tr>\n",
       "    <tr>\n",
       "      <th>616</th>\n",
       "      <td>05-Oct-20</td>\n",
       "      <td>Recovered</td>\n",
       "      <td>74233</td>\n",
       "      <td>10</td>\n",
       "      <td>7558</td>\n",
       "      <td>0</td>\n",
       "      <td>0</td>\n",
       "      <td>1565</td>\n",
       "      <td>199</td>\n",
       "      <td>3336</td>\n",
       "      <td>...</td>\n",
       "      <td>1671</td>\n",
       "      <td>2090</td>\n",
       "      <td>67</td>\n",
       "      <td>5572</td>\n",
       "      <td>2176</td>\n",
       "      <td>466</td>\n",
       "      <td>4269</td>\n",
       "      <td>881</td>\n",
       "      <td>3009</td>\n",
       "      <td>0</td>\n",
       "    </tr>\n",
       "    <tr>\n",
       "      <th>617</th>\n",
       "      <td>05-Oct-20</td>\n",
       "      <td>Deceased</td>\n",
       "      <td>885</td>\n",
       "      <td>1</td>\n",
       "      <td>38</td>\n",
       "      <td>0</td>\n",
       "      <td>11</td>\n",
       "      <td>9</td>\n",
       "      <td>3</td>\n",
       "      <td>36</td>\n",
       "      <td>...</td>\n",
       "      <td>38</td>\n",
       "      <td>14</td>\n",
       "      <td>1</td>\n",
       "      <td>62</td>\n",
       "      <td>8</td>\n",
       "      <td>6</td>\n",
       "      <td>63</td>\n",
       "      <td>17</td>\n",
       "      <td>61</td>\n",
       "      <td>0</td>\n",
       "    </tr>\n",
       "  </tbody>\n",
       "</table>\n",
       "<p>6 rows × 41 columns</p>\n",
       "</div>"
      ],
      "text/plain": [
       "          Date     Status     TT  AN    AP   AR    AS    BR   CH    CT  ...  \\\n",
       "612  04-Oct-20  Confirmed  74770  16  6242  127   756  1261   85  1924  ...   \n",
       "613  04-Oct-20  Recovered  76713   7  7084  189  1351  1314  202  2654  ...   \n",
       "614  04-Oct-20   Deceased    903   0    40    0    14     3    2    14  ...   \n",
       "615  05-Oct-20  Confirmed  59773  15  4256    0  1518   907  133  2681  ...   \n",
       "616  05-Oct-20  Recovered  74233  10  7558    0     0  1565  199  3336  ...   \n",
       "617  05-Oct-20   Deceased    885   1    38    0    11     9    3    36  ...   \n",
       "\n",
       "       PB    RJ  SK    TN    TG   TR    UP    UT    WB  UN  \n",
       "612   838  2184  43  5489  1949  322  3840  1419  3357   0  \n",
       "613  1509  2090  32  5558  2366  513  5226   392  2986   0  \n",
       "614    41    15   2    66    10    4    52     4    62   0  \n",
       "615  1029  2165  17  5395  1335  159  2971   510  3348   0  \n",
       "616  1671  2090  67  5572  2176  466  4269   881  3009   0  \n",
       "617    38    14   1    62     8    6    63    17    61   0  \n",
       "\n",
       "[6 rows x 41 columns]"
      ]
     },
     "execution_count": 3,
     "metadata": {},
     "output_type": "execute_result"
    }
   ],
   "source": [
    "#hide\n",
    "df.tail(6)"
   ]
  },
  {
   "cell_type": "code",
   "execution_count": 4,
   "metadata": {
    "execution": {
     "iopub.execute_input": "2020-10-05T19:13:12.082040Z",
     "iopub.status.busy": "2020-10-05T19:13:12.080614Z",
     "iopub.status.idle": "2020-10-05T19:13:12.083822Z",
     "shell.execute_reply": "2020-10-05T19:13:12.084588Z"
    },
    "papermill": {
     "duration": 0.021766,
     "end_time": "2020-10-05T19:13:12.084719",
     "exception": false,
     "start_time": "2020-10-05T19:13:12.062953",
     "status": "completed"
    },
    "tags": []
   },
   "outputs": [
    {
     "data": {
      "text/plain": [
       "('05-Oct-20', '04-Oct-20')"
      ]
     },
     "execution_count": 4,
     "metadata": {},
     "output_type": "execute_result"
    }
   ],
   "source": [
    "#hide\n",
    "dt_today = df.iloc[-1][0]\n",
    "dt_yday = df.iloc[-4][0]\n",
    "dt_today, dt_yday"
   ]
  },
  {
   "cell_type": "code",
   "execution_count": 5,
   "metadata": {
    "execution": {
     "iopub.execute_input": "2020-10-05T19:13:12.116643Z",
     "iopub.status.busy": "2020-10-05T19:13:12.116062Z",
     "iopub.status.idle": "2020-10-05T19:13:12.122617Z",
     "shell.execute_reply": "2020-10-05T19:13:12.123151Z"
    },
    "papermill": {
     "duration": 0.02491,
     "end_time": "2020-10-05T19:13:12.123275",
     "exception": false,
     "start_time": "2020-10-05T19:13:12.098365",
     "status": "completed"
    },
    "tags": []
   },
   "outputs": [],
   "source": [
    "#hide\n",
    "df_today = df.groupby('Status').sum()\n",
    "df_yday = df.iloc[:-3][:].groupby('Status').sum()"
   ]
  },
  {
   "cell_type": "code",
   "execution_count": 6,
   "metadata": {
    "execution": {
     "iopub.execute_input": "2020-10-05T19:13:12.165211Z",
     "iopub.status.busy": "2020-10-05T19:13:12.164587Z",
     "iopub.status.idle": "2020-10-05T19:13:12.169357Z",
     "shell.execute_reply": "2020-10-05T19:13:12.168872Z"
    },
    "papermill": {
     "duration": 0.032628,
     "end_time": "2020-10-05T19:13:12.169473",
     "exception": false,
     "start_time": "2020-10-05T19:13:12.136845",
     "status": "completed"
    },
    "tags": []
   },
   "outputs": [
    {
     "data": {
      "text/html": [
       "<div>\n",
       "<style scoped>\n",
       "    .dataframe tbody tr th:only-of-type {\n",
       "        vertical-align: middle;\n",
       "    }\n",
       "\n",
       "    .dataframe tbody tr th {\n",
       "        vertical-align: top;\n",
       "    }\n",
       "\n",
       "    .dataframe thead th {\n",
       "        text-align: right;\n",
       "    }\n",
       "</style>\n",
       "<table border=\"1\" class=\"dataframe\">\n",
       "  <thead>\n",
       "    <tr style=\"text-align: right;\">\n",
       "      <th></th>\n",
       "      <th>TT</th>\n",
       "      <th>AN</th>\n",
       "      <th>AP</th>\n",
       "      <th>AR</th>\n",
       "      <th>AS</th>\n",
       "      <th>BR</th>\n",
       "      <th>CH</th>\n",
       "      <th>CT</th>\n",
       "      <th>DN</th>\n",
       "      <th>DD</th>\n",
       "      <th>...</th>\n",
       "      <th>PB</th>\n",
       "      <th>RJ</th>\n",
       "      <th>SK</th>\n",
       "      <th>TN</th>\n",
       "      <th>TG</th>\n",
       "      <th>TR</th>\n",
       "      <th>UP</th>\n",
       "      <th>UT</th>\n",
       "      <th>WB</th>\n",
       "      <th>UN</th>\n",
       "    </tr>\n",
       "    <tr>\n",
       "      <th>Status</th>\n",
       "      <th></th>\n",
       "      <th></th>\n",
       "      <th></th>\n",
       "      <th></th>\n",
       "      <th></th>\n",
       "      <th></th>\n",
       "      <th></th>\n",
       "      <th></th>\n",
       "      <th></th>\n",
       "      <th></th>\n",
       "      <th></th>\n",
       "      <th></th>\n",
       "      <th></th>\n",
       "      <th></th>\n",
       "      <th></th>\n",
       "      <th></th>\n",
       "      <th></th>\n",
       "      <th></th>\n",
       "      <th></th>\n",
       "      <th></th>\n",
       "      <th></th>\n",
       "    </tr>\n",
       "  </thead>\n",
       "  <tbody>\n",
       "    <tr>\n",
       "      <th>Confirmed</th>\n",
       "      <td>6681324</td>\n",
       "      <td>3895</td>\n",
       "      <td>723512</td>\n",
       "      <td>10548</td>\n",
       "      <td>187616</td>\n",
       "      <td>188858</td>\n",
       "      <td>12578</td>\n",
       "      <td>126005</td>\n",
       "      <td>3090</td>\n",
       "      <td>0</td>\n",
       "      <td>...</td>\n",
       "      <td>119186</td>\n",
       "      <td>146195</td>\n",
       "      <td>3123</td>\n",
       "      <td>625391</td>\n",
       "      <td>200101</td>\n",
       "      <td>27030</td>\n",
       "      <td>417437</td>\n",
       "      <td>51991</td>\n",
       "      <td>273679</td>\n",
       "      <td>0</td>\n",
       "    </tr>\n",
       "    <tr>\n",
       "      <th>Deceased</th>\n",
       "      <td>103013</td>\n",
       "      <td>54</td>\n",
       "      <td>6019</td>\n",
       "      <td>18</td>\n",
       "      <td>764</td>\n",
       "      <td>924</td>\n",
       "      <td>177</td>\n",
       "      <td>1081</td>\n",
       "      <td>2</td>\n",
       "      <td>0</td>\n",
       "      <td>...</td>\n",
       "      <td>3641</td>\n",
       "      <td>1559</td>\n",
       "      <td>46</td>\n",
       "      <td>9846</td>\n",
       "      <td>1171</td>\n",
       "      <td>296</td>\n",
       "      <td>6092</td>\n",
       "      <td>669</td>\n",
       "      <td>5255</td>\n",
       "      <td>0</td>\n",
       "    </tr>\n",
       "    <tr>\n",
       "      <th>Recovered</th>\n",
       "      <td>5657664</td>\n",
       "      <td>3650</td>\n",
       "      <td>666433</td>\n",
       "      <td>7577</td>\n",
       "      <td>152124</td>\n",
       "      <td>176674</td>\n",
       "      <td>10797</td>\n",
       "      <td>97067</td>\n",
       "      <td>2948</td>\n",
       "      <td>0</td>\n",
       "      <td>...</td>\n",
       "      <td>102648</td>\n",
       "      <td>123421</td>\n",
       "      <td>2467</td>\n",
       "      <td>569664</td>\n",
       "      <td>172388</td>\n",
       "      <td>21853</td>\n",
       "      <td>366321</td>\n",
       "      <td>42368</td>\n",
       "      <td>240707</td>\n",
       "      <td>0</td>\n",
       "    </tr>\n",
       "  </tbody>\n",
       "</table>\n",
       "<p>3 rows × 39 columns</p>\n",
       "</div>"
      ],
      "text/plain": [
       "                TT    AN      AP     AR      AS      BR     CH      CT    DN  \\\n",
       "Status                                                                         \n",
       "Confirmed  6681324  3895  723512  10548  187616  188858  12578  126005  3090   \n",
       "Deceased    103013    54    6019     18     764     924    177    1081     2   \n",
       "Recovered  5657664  3650  666433   7577  152124  176674  10797   97067  2948   \n",
       "\n",
       "           DD  ...      PB      RJ    SK      TN      TG     TR      UP  \\\n",
       "Status         ...                                                        \n",
       "Confirmed   0  ...  119186  146195  3123  625391  200101  27030  417437   \n",
       "Deceased    0  ...    3641    1559    46    9846    1171    296    6092   \n",
       "Recovered   0  ...  102648  123421  2467  569664  172388  21853  366321   \n",
       "\n",
       "              UT      WB  UN  \n",
       "Status                        \n",
       "Confirmed  51991  273679   0  \n",
       "Deceased     669    5255   0  \n",
       "Recovered  42368  240707   0  \n",
       "\n",
       "[3 rows x 39 columns]"
      ]
     },
     "execution_count": 6,
     "metadata": {},
     "output_type": "execute_result"
    }
   ],
   "source": [
    "#hide\n",
    "df_today"
   ]
  },
  {
   "cell_type": "code",
   "execution_count": 7,
   "metadata": {
    "execution": {
     "iopub.execute_input": "2020-10-05T19:13:12.215713Z",
     "iopub.status.busy": "2020-10-05T19:13:12.214511Z",
     "iopub.status.idle": "2020-10-05T19:13:12.217614Z",
     "shell.execute_reply": "2020-10-05T19:13:12.218194Z"
    },
    "papermill": {
     "duration": 0.034864,
     "end_time": "2020-10-05T19:13:12.218354",
     "exception": false,
     "start_time": "2020-10-05T19:13:12.183490",
     "status": "completed"
    },
    "tags": []
   },
   "outputs": [
    {
     "data": {
      "text/html": [
       "<div>\n",
       "<style scoped>\n",
       "    .dataframe tbody tr th:only-of-type {\n",
       "        vertical-align: middle;\n",
       "    }\n",
       "\n",
       "    .dataframe tbody tr th {\n",
       "        vertical-align: top;\n",
       "    }\n",
       "\n",
       "    .dataframe thead th {\n",
       "        text-align: right;\n",
       "    }\n",
       "</style>\n",
       "<table border=\"1\" class=\"dataframe\">\n",
       "  <thead>\n",
       "    <tr style=\"text-align: right;\">\n",
       "      <th></th>\n",
       "      <th>TT</th>\n",
       "      <th>AN</th>\n",
       "      <th>AP</th>\n",
       "      <th>AR</th>\n",
       "      <th>AS</th>\n",
       "      <th>BR</th>\n",
       "      <th>CH</th>\n",
       "      <th>CT</th>\n",
       "      <th>DN</th>\n",
       "      <th>DD</th>\n",
       "      <th>...</th>\n",
       "      <th>PB</th>\n",
       "      <th>RJ</th>\n",
       "      <th>SK</th>\n",
       "      <th>TN</th>\n",
       "      <th>TG</th>\n",
       "      <th>TR</th>\n",
       "      <th>UP</th>\n",
       "      <th>UT</th>\n",
       "      <th>WB</th>\n",
       "      <th>UN</th>\n",
       "    </tr>\n",
       "    <tr>\n",
       "      <th>Status</th>\n",
       "      <th></th>\n",
       "      <th></th>\n",
       "      <th></th>\n",
       "      <th></th>\n",
       "      <th></th>\n",
       "      <th></th>\n",
       "      <th></th>\n",
       "      <th></th>\n",
       "      <th></th>\n",
       "      <th></th>\n",
       "      <th></th>\n",
       "      <th></th>\n",
       "      <th></th>\n",
       "      <th></th>\n",
       "      <th></th>\n",
       "      <th></th>\n",
       "      <th></th>\n",
       "      <th></th>\n",
       "      <th></th>\n",
       "      <th></th>\n",
       "      <th></th>\n",
       "    </tr>\n",
       "  </thead>\n",
       "  <tbody>\n",
       "    <tr>\n",
       "      <th>Confirmed</th>\n",
       "      <td>6621551</td>\n",
       "      <td>3880</td>\n",
       "      <td>719256</td>\n",
       "      <td>10548</td>\n",
       "      <td>186098</td>\n",
       "      <td>187951</td>\n",
       "      <td>12445</td>\n",
       "      <td>123324</td>\n",
       "      <td>3085</td>\n",
       "      <td>0</td>\n",
       "      <td>...</td>\n",
       "      <td>118157</td>\n",
       "      <td>144030</td>\n",
       "      <td>3106</td>\n",
       "      <td>619996</td>\n",
       "      <td>198766</td>\n",
       "      <td>26871</td>\n",
       "      <td>414466</td>\n",
       "      <td>51481</td>\n",
       "      <td>270331</td>\n",
       "      <td>0</td>\n",
       "    </tr>\n",
       "    <tr>\n",
       "      <th>Deceased</th>\n",
       "      <td>102128</td>\n",
       "      <td>53</td>\n",
       "      <td>5981</td>\n",
       "      <td>18</td>\n",
       "      <td>753</td>\n",
       "      <td>915</td>\n",
       "      <td>174</td>\n",
       "      <td>1045</td>\n",
       "      <td>2</td>\n",
       "      <td>0</td>\n",
       "      <td>...</td>\n",
       "      <td>3603</td>\n",
       "      <td>1545</td>\n",
       "      <td>45</td>\n",
       "      <td>9784</td>\n",
       "      <td>1163</td>\n",
       "      <td>290</td>\n",
       "      <td>6029</td>\n",
       "      <td>652</td>\n",
       "      <td>5194</td>\n",
       "      <td>0</td>\n",
       "    </tr>\n",
       "    <tr>\n",
       "      <th>Recovered</th>\n",
       "      <td>5583431</td>\n",
       "      <td>3640</td>\n",
       "      <td>658875</td>\n",
       "      <td>7577</td>\n",
       "      <td>152124</td>\n",
       "      <td>175109</td>\n",
       "      <td>10598</td>\n",
       "      <td>93731</td>\n",
       "      <td>2940</td>\n",
       "      <td>0</td>\n",
       "      <td>...</td>\n",
       "      <td>100977</td>\n",
       "      <td>121331</td>\n",
       "      <td>2400</td>\n",
       "      <td>564092</td>\n",
       "      <td>170212</td>\n",
       "      <td>21387</td>\n",
       "      <td>362052</td>\n",
       "      <td>41487</td>\n",
       "      <td>237698</td>\n",
       "      <td>0</td>\n",
       "    </tr>\n",
       "  </tbody>\n",
       "</table>\n",
       "<p>3 rows × 39 columns</p>\n",
       "</div>"
      ],
      "text/plain": [
       "                TT    AN      AP     AR      AS      BR     CH      CT    DN  \\\n",
       "Status                                                                         \n",
       "Confirmed  6621551  3880  719256  10548  186098  187951  12445  123324  3085   \n",
       "Deceased    102128    53    5981     18     753     915    174    1045     2   \n",
       "Recovered  5583431  3640  658875   7577  152124  175109  10598   93731  2940   \n",
       "\n",
       "           DD  ...      PB      RJ    SK      TN      TG     TR      UP  \\\n",
       "Status         ...                                                        \n",
       "Confirmed   0  ...  118157  144030  3106  619996  198766  26871  414466   \n",
       "Deceased    0  ...    3603    1545    45    9784    1163    290    6029   \n",
       "Recovered   0  ...  100977  121331  2400  564092  170212  21387  362052   \n",
       "\n",
       "              UT      WB  UN  \n",
       "Status                        \n",
       "Confirmed  51481  270331   0  \n",
       "Deceased     652    5194   0  \n",
       "Recovered  41487  237698   0  \n",
       "\n",
       "[3 rows x 39 columns]"
      ]
     },
     "execution_count": 7,
     "metadata": {},
     "output_type": "execute_result"
    }
   ],
   "source": [
    "#hide\n",
    "df_yday.head()"
   ]
  },
  {
   "cell_type": "code",
   "execution_count": 8,
   "metadata": {
    "execution": {
     "iopub.execute_input": "2020-10-05T19:13:12.261650Z",
     "iopub.status.busy": "2020-10-05T19:13:12.259891Z",
     "iopub.status.idle": "2020-10-05T19:13:12.263403Z",
     "shell.execute_reply": "2020-10-05T19:13:12.264019Z"
    },
    "papermill": {
     "duration": 0.028626,
     "end_time": "2020-10-05T19:13:12.264175",
     "exception": false,
     "start_time": "2020-10-05T19:13:12.235549",
     "status": "completed"
    },
    "tags": []
   },
   "outputs": [
    {
     "data": {
      "text/plain": [
       "{'updated': '05-Oct-20',\n",
       " 'since': '04-Oct-20',\n",
       " 'Cases': 6681324,\n",
       " 'Deaths': 103013,\n",
       " 'Recovered': 5657664,\n",
       " 'PCases': 6621551,\n",
       " 'PDeaths': 102128,\n",
       " 'PRecovered': 5583431,\n",
       " 'Cases (+)': 59773,\n",
       " 'Deaths (+)': 885,\n",
       " 'Recovered (+)': 74233}"
      ]
     },
     "execution_count": 8,
     "metadata": {},
     "output_type": "execute_result"
    }
   ],
   "source": [
    "#hide\n",
    "summary = {\n",
    "    'updated' : dt_today,\n",
    "    'since' : dt_yday,\n",
    "    'Cases' : df_today['TT'][0],\n",
    "    'Deaths' : df_today['TT'][1],\n",
    "    'Recovered' : df_today['TT'][2],\n",
    "    'PCases' : df_yday['TT'][0],\n",
    "    'PDeaths' : df_yday['TT'][1],\n",
    "    'PRecovered': df_yday['TT'][2],\n",
    "    'Cases (+)' : df_today['TT'][0] - df_yday['TT'][0],\n",
    "    'Deaths (+)' : df_today['TT'][1] - df_yday['TT'][1],\n",
    "    'Recovered (+)': df_today['TT'][2] - df_yday['TT'][2]\n",
    "}\n",
    "\n",
    "summary"
   ]
  },
  {
   "cell_type": "code",
   "execution_count": 9,
   "metadata": {
    "execution": {
     "iopub.execute_input": "2020-10-05T19:13:12.302590Z",
     "iopub.status.busy": "2020-10-05T19:13:12.301873Z",
     "iopub.status.idle": "2020-10-05T19:13:12.303585Z",
     "shell.execute_reply": "2020-10-05T19:13:12.304229Z"
    },
    "papermill": {
     "duration": 0.023002,
     "end_time": "2020-10-05T19:13:12.304382",
     "exception": false,
     "start_time": "2020-10-05T19:13:12.281380",
     "status": "completed"
    },
    "tags": []
   },
   "outputs": [],
   "source": [
    "#hide\n",
    "overview = '''\n",
    "<!-- #######  HTML!! #########-->\n",
    "<h1 style=\"color: #5e9ca0; text-align: center;\">India</h1>\n",
    "<p style=\"text-align: center;\">Last update: <strong>{update}</strong></p>\n",
    "<p style=\"text-align: center;\">Confirmed cases:</p>\n",
    "<p style=\"text-align: center;font-size:24px;\">{cases} (<span style=\"color: #ff0000;\">+{new}</span>)</p>\n",
    "<p style=\"text-align: center;\">Confirmed deaths:</p>\n",
    "<p style=\"text-align: center;font-size:24px;\">{deaths} (<span style=\"color: #ff0000;\">+{dnew}</span>)</p>\n",
    "<p style=\"text-align: center;\">Recovered cases:</p>\n",
    "<p style=\"text-align: center;font-size:24px;\">{recovered} (<span style=\"color: #00ff00;\">+{rnew}</span>)</p>\n",
    "'''"
   ]
  },
  {
   "cell_type": "code",
   "execution_count": 10,
   "metadata": {
    "execution": {
     "iopub.execute_input": "2020-10-05T19:13:12.349082Z",
     "iopub.status.busy": "2020-10-05T19:13:12.348371Z",
     "iopub.status.idle": "2020-10-05T19:13:12.350939Z",
     "shell.execute_reply": "2020-10-05T19:13:12.351553Z"
    },
    "papermill": {
     "duration": 0.027256,
     "end_time": "2020-10-05T19:13:12.351708",
     "exception": false,
     "start_time": "2020-10-05T19:13:12.324452",
     "status": "completed"
    },
    "tags": []
   },
   "outputs": [
    {
     "data": {
      "text/html": [
       "\n",
       "<!-- #######  HTML!! #########-->\n",
       "<h1 style=\"color: #5e9ca0; text-align: center;\">India</h1>\n",
       "<p style=\"text-align: center;\">Last update: <strong>05-Oct-20</strong></p>\n",
       "<p style=\"text-align: center;\">Confirmed cases:</p>\n",
       "<p style=\"text-align: center;font-size:24px;\">6681324 (<span style=\"color: #ff0000;\">+59773</span>)</p>\n",
       "<p style=\"text-align: center;\">Confirmed deaths:</p>\n",
       "<p style=\"text-align: center;font-size:24px;\">103013 (<span style=\"color: #ff0000;\">+885</span>)</p>\n",
       "<p style=\"text-align: center;\">Recovered cases:</p>\n",
       "<p style=\"text-align: center;font-size:24px;\">5657664 (<span style=\"color: #00ff00;\">+74233</span>)</p>\n"
      ],
      "text/plain": [
       "<IPython.core.display.HTML object>"
      ]
     },
     "metadata": {},
     "output_type": "display_data"
    }
   ],
   "source": [
    "#hide_input\n",
    "# Fill the above HTML with the information from the summary dictionary\n",
    "\n",
    "update = summary['updated']\n",
    "cases = summary['Cases']\n",
    "new = summary['Cases (+)']\n",
    "deaths = summary['Deaths']\n",
    "dnew = summary['Deaths (+)']\n",
    "recovered = summary['Recovered']\n",
    "rnew = summary['Recovered (+)']\n",
    "\n",
    "html = HTML(overview.format(update=update, cases=cases,new=new,deaths=deaths,dnew=dnew, recovered=recovered, rnew=rnew))\n",
    "\n",
    "display(html)"
   ]
  },
  {
   "cell_type": "code",
   "execution_count": 11,
   "metadata": {
    "execution": {
     "iopub.execute_input": "2020-10-05T19:13:12.398608Z",
     "iopub.status.busy": "2020-10-05T19:13:12.397888Z",
     "iopub.status.idle": "2020-10-05T19:13:12.401817Z",
     "shell.execute_reply": "2020-10-05T19:13:12.402421Z"
    },
    "papermill": {
     "duration": 0.033321,
     "end_time": "2020-10-05T19:13:12.402577",
     "exception": false,
     "start_time": "2020-10-05T19:13:12.369256",
     "status": "completed"
    },
    "tags": []
   },
   "outputs": [],
   "source": [
    "#hide\n",
    "df_cases = df[df['Status'] == 'Confirmed'].copy()\n",
    "df_cases.drop(columns = ['Status'], inplace=True)\n",
    "df_deaths = df[df['Status'] == 'Deceased'].copy()\n",
    "df_deaths.drop(columns = ['Status'], inplace=True)\n",
    "df_recovered = df[df['Status'] == 'Recovered'].copy()\n",
    "df_recovered.drop(columns = ['Status'], inplace=True)"
   ]
  },
  {
   "cell_type": "markdown",
   "metadata": {
    "papermill": {
     "duration": 0.019302,
     "end_time": "2020-10-05T19:13:12.441920",
     "exception": false,
     "start_time": "2020-10-05T19:13:12.422618",
     "status": "completed"
    },
    "tags": []
   },
   "source": [
    "Plot for India:"
   ]
  },
  {
   "cell_type": "code",
   "execution_count": 12,
   "metadata": {
    "execution": {
     "iopub.execute_input": "2020-10-05T19:13:12.501305Z",
     "iopub.status.busy": "2020-10-05T19:13:12.500578Z",
     "iopub.status.idle": "2020-10-05T19:13:12.772705Z",
     "shell.execute_reply": "2020-10-05T19:13:12.773186Z"
    },
    "papermill": {
     "duration": 0.311994,
     "end_time": "2020-10-05T19:13:12.773371",
     "exception": false,
     "start_time": "2020-10-05T19:13:12.461377",
     "status": "completed"
    },
    "tags": []
   },
   "outputs": [
    {
     "data": {
      "image/png": "[encoded data removed]",
      "text/plain": [
       "<Figure size 1296x432 with 1 Axes>"
      ]
     },
     "metadata": {
      "needs_background": "light"
     },
     "output_type": "display_data"
    }
   ],
   "source": [
    "#hide_input\n",
    "plt.figure(figsize = (18,6))\n",
    "plt.plot(df_cases['Date'], df_cases['TT'],'.-', alpha=0.7, color='b', label='Confirmed cases')\n",
    "plt.plot(df_recovered['Date'], df_recovered['TT'],'.-', alpha=0.7, color='g', label='Recovered')\n",
    "plt.plot(df_deaths['Date'], df_deaths['TT'],'.-', alpha=0.7, color='r', label='Deceased')\n",
    "plt.legend()\n",
    "plt.title(\"Cases per day in India\")\n",
    "plt.xticks(ticks=' ')\n",
    "plt.xlabel(f'{df_cases.iloc[0][0]} to {df_cases.iloc[-1][0]}')\n",
    "plt.ylabel('No. of cases');"
   ]
  },
  {
   "cell_type": "markdown",
   "metadata": {
    "papermill": {
     "duration": 0.015677,
     "end_time": "2020-10-05T19:13:12.805715",
     "exception": false,
     "start_time": "2020-10-05T19:13:12.790038",
     "status": "completed"
    },
    "tags": []
   },
   "source": [
    "Plots for the states with highest number of cases:"
   ]
  },
  {
   "cell_type": "code",
   "execution_count": 13,
   "metadata": {
    "execution": {
     "iopub.execute_input": "2020-10-05T19:13:12.848053Z",
     "iopub.status.busy": "2020-10-05T19:13:12.847443Z",
     "iopub.status.idle": "2020-10-05T19:13:13.490776Z",
     "shell.execute_reply": "2020-10-05T19:13:13.490297Z"
    },
    "papermill": {
     "duration": 0.667221,
     "end_time": "2020-10-05T19:13:13.490912",
     "exception": false,
     "start_time": "2020-10-05T19:13:12.823691",
     "status": "completed"
    },
    "tags": []
   },
   "outputs": [
    {
     "data": {
      "image/png": "[encoded data removed]",
      "text/plain": [
       "<Figure size 1512x432 with 3 Axes>"
      ]
     },
     "metadata": {
      "needs_background": "light"
     },
     "output_type": "display_data"
    }
   ],
   "source": [
    "#hide_input\n",
    "top_3 = sorted(df_cases.sum().values[1:], reverse=True)[1:4]\n",
    "top3_states=[]\n",
    "for i in top_3:\n",
    "    top3_states.append(df_cases.sum()[df_cases.sum() == i].index)\n",
    "\n",
    "\n",
    "fig, ax = plt.subplots(1,3,figsize = (21,6))\n",
    "for i in range(3):\n",
    "    state = top3_states[i].values[0]\n",
    "    ax[i].plot(df_cases['Date'], df_cases[state],'.-', color='b', alpha=0.7)\n",
    "    ax[i].plot(df_deaths['Date'], df_deaths[state],'.-', color='r', alpha=0.7)\n",
    "    ax[i].plot(df_recovered['Date'], df_recovered[state],'.-', color='g', alpha=0.7)\n",
    "    \n",
    "    ax[i].set_title(f\"Cases in {state}\")\n",
    "    ax[i].set_xticks(ticks=' ')\n",
    "    ax[i].set_xlabel(f'{df_cases.iloc[0][0]} to {df_cases.iloc[-1][0]}')\n",
    "    ax[i].set_ylabel('No. of cases');"
   ]
  },
  {
   "cell_type": "code",
   "execution_count": null,
   "metadata": {
    "papermill": {
     "duration": 0.019627,
     "end_time": "2020-10-05T19:13:13.528859",
     "exception": false,
     "start_time": "2020-10-05T19:13:13.509232",
     "status": "completed"
    },
    "tags": []
   },
   "outputs": [],
   "source": []
  },
  {
   "cell_type": "code",
   "execution_count": null,
   "metadata": {
    "papermill": {
     "duration": 0.018966,
     "end_time": "2020-10-05T19:13:13.567631",
     "exception": false,
     "start_time": "2020-10-05T19:13:13.548665",
     "status": "completed"
    },
    "tags": []
   },
   "outputs": [],
   "source": []
  },
  {
   "cell_type": "code",
   "execution_count": null,
   "metadata": {
    "papermill": {
     "duration": 0.017489,
     "end_time": "2020-10-05T19:13:13.603876",
     "exception": false,
     "start_time": "2020-10-05T19:13:13.586387",
     "status": "completed"
    },
    "tags": []
   },
   "outputs": [],
   "source": []
  }
 ],
 "metadata": {
  "kernelspec": {
   "display_name": "Python 3",
   "language": "python",
   "name": "python3"
  },
  "language_info": {
   "codemirror_mode": {
    "name": "ipython",
    "version": 3
   },
   "file_extension": ".py",
   "mimetype": "text/x-python",
   "name": "python",
   "nbconvert_exporter": "python",
   "pygments_lexer": "ipython3",
   "version": "3.6.12"
  },
  "papermill": {
   "duration": 4.143927,
   "end_time": "2020-10-05T19:13:13.929005",
   "environment_variables": {},
   "exception": null,
   "input_path": "2020-08-09-DailyUpdate.ipynb",
   "output_path": "2020-08-09-DailyUpdate.ipynb",
   "parameters": {},
   "start_time": "2020-10-05T19:13:09.785078",
   "version": "2.1.2"
  }
 },
 "nbformat": 4,
 "nbformat_minor": 4
}