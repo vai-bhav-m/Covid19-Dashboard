{
 "cells": [
  {
   "cell_type": "markdown",
   "metadata": {
    "papermill": {
     "duration": 0.015482,
     "end_time": "2020-10-01T19:13:03.849672",
     "exception": false,
     "start_time": "2020-10-01T19:13:03.834190",
     "status": "completed"
    },
    "tags": []
   },
   "source": [
    "# COVID-19 India Daily updates\n",
    "> Tracking coronavirus total cases, deaths and new cases in India on a daily basis\n",
    "\n",
    "- author: Vaibhav Mahapatra"
   ]
  },
  {
   "cell_type": "code",
   "execution_count": 1,
   "metadata": {
    "execution": {
     "iopub.execute_input": "2020-10-01T19:13:03.882938Z",
     "iopub.status.busy": "2020-10-01T19:13:03.882282Z",
     "iopub.status.idle": "2020-10-01T19:13:04.461955Z",
     "shell.execute_reply": "2020-10-01T19:13:04.460862Z"
    },
    "papermill": {
     "duration": 0.599835,
     "end_time": "2020-10-01T19:13:04.462120",
     "exception": false,
     "start_time": "2020-10-01T19:13:03.862285",
     "status": "completed"
    },
    "tags": []
   },
   "outputs": [],
   "source": [
    "#hide\n",
    "\n",
    "## Import essential packages below\n",
    "\n",
    "import pandas as pd\n",
    "import numpy as np\n",
    "import requests\n",
    "import json\n",
    "import matplotlib.pyplot as plt\n",
    "import matplotlib.dates as mdates\n",
    "import matplotlib as mpl\n",
    "from IPython.core.display import display,HTML\n",
    "%matplotlib inline"
   ]
  },
  {
   "cell_type": "code",
   "execution_count": 2,
   "metadata": {
    "execution": {
     "iopub.execute_input": "2020-10-01T19:13:04.491736Z",
     "iopub.status.busy": "2020-10-01T19:13:04.491125Z",
     "iopub.status.idle": "2020-10-01T19:13:04.745918Z",
     "shell.execute_reply": "2020-10-01T19:13:04.744957Z"
    },
    "papermill": {
     "duration": 0.272104,
     "end_time": "2020-10-01T19:13:04.746089",
     "exception": false,
     "start_time": "2020-10-01T19:13:04.473985",
     "status": "completed"
    },
    "tags": []
   },
   "outputs": [
    {
     "data": {
      "text/plain": [
       "(606, 41)"
      ]
     },
     "execution_count": 2,
     "metadata": {},
     "output_type": "execute_result"
    }
   ],
   "source": [
    "#hide\n",
    "url = 'https://api.covid19india.org/csv/latest/state_wise_daily.csv'\n",
    "df = pd.read_csv(url)\n",
    "df.shape"
   ]
  },
  {
   "cell_type": "code",
   "execution_count": 3,
   "metadata": {
    "execution": {
     "iopub.execute_input": "2020-10-01T19:13:04.820901Z",
     "iopub.status.busy": "2020-10-01T19:13:04.819470Z",
     "iopub.status.idle": "2020-10-01T19:13:04.830526Z",
     "shell.execute_reply": "2020-10-01T19:13:04.830976Z"
    },
    "papermill": {
     "duration": 0.072961,
     "end_time": "2020-10-01T19:13:04.831121",
     "exception": false,
     "start_time": "2020-10-01T19:13:04.758160",
     "status": "completed"
    },
    "tags": []
   },
   "outputs": [
    {
     "data": {
      "text/html": [
       "<div>\n",
       "<style scoped>\n",
       "    .dataframe tbody tr th:only-of-type {\n",
       "        vertical-align: middle;\n",
       "    }\n",
       "\n",
       "    .dataframe tbody tr th {\n",
       "        vertical-align: top;\n",
       "    }\n",
       "\n",
       "    .dataframe thead th {\n",
       "        text-align: right;\n",
       "    }\n",
       "</style>\n",
       "<table border=\"1\" class=\"dataframe\">\n",
       "  <thead>\n",
       "    <tr style=\"text-align: right;\">\n",
       "      <th></th>\n",
       "      <th>Date</th>\n",
       "      <th>Status</th>\n",
       "      <th>TT</th>\n",
       "      <th>AN</th>\n",
       "      <th>AP</th>\n",
       "      <th>AR</th>\n",
       "      <th>AS</th>\n",
       "      <th>BR</th>\n",
       "      <th>CH</th>\n",
       "      <th>CT</th>\n",
       "      <th>...</th>\n",
       "      <th>PB</th>\n",
       "      <th>RJ</th>\n",
       "      <th>SK</th>\n",
       "      <th>TN</th>\n",
       "      <th>TG</th>\n",
       "      <th>TR</th>\n",
       "      <th>UP</th>\n",
       "      <th>UT</th>\n",
       "      <th>WB</th>\n",
       "      <th>UN</th>\n",
       "    </tr>\n",
       "  </thead>\n",
       "  <tbody>\n",
       "    <tr>\n",
       "      <th>600</th>\n",
       "      <td>30-Sep-20</td>\n",
       "      <td>Confirmed</td>\n",
       "      <td>86748</td>\n",
       "      <td>14</td>\n",
       "      <td>6133</td>\n",
       "      <td>243</td>\n",
       "      <td>3590</td>\n",
       "      <td>1435</td>\n",
       "      <td>122</td>\n",
       "      <td>2947</td>\n",
       "      <td>...</td>\n",
       "      <td>1426</td>\n",
       "      <td>2173</td>\n",
       "      <td>75</td>\n",
       "      <td>5659</td>\n",
       "      <td>2103</td>\n",
       "      <td>381</td>\n",
       "      <td>4226</td>\n",
       "      <td>1005</td>\n",
       "      <td>3281</td>\n",
       "      <td>0</td>\n",
       "    </tr>\n",
       "    <tr>\n",
       "      <th>601</th>\n",
       "      <td>30-Sep-20</td>\n",
       "      <td>Recovered</td>\n",
       "      <td>85274</td>\n",
       "      <td>21</td>\n",
       "      <td>7075</td>\n",
       "      <td>147</td>\n",
       "      <td>1616</td>\n",
       "      <td>1735</td>\n",
       "      <td>215</td>\n",
       "      <td>3204</td>\n",
       "      <td>...</td>\n",
       "      <td>1389</td>\n",
       "      <td>1953</td>\n",
       "      <td>68</td>\n",
       "      <td>5610</td>\n",
       "      <td>2243</td>\n",
       "      <td>489</td>\n",
       "      <td>5434</td>\n",
       "      <td>976</td>\n",
       "      <td>2954</td>\n",
       "      <td>0</td>\n",
       "    </tr>\n",
       "    <tr>\n",
       "      <th>602</th>\n",
       "      <td>30-Sep-20</td>\n",
       "      <td>Deceased</td>\n",
       "      <td>1179</td>\n",
       "      <td>0</td>\n",
       "      <td>48</td>\n",
       "      <td>0</td>\n",
       "      <td>17</td>\n",
       "      <td>10</td>\n",
       "      <td>4</td>\n",
       "      <td>41</td>\n",
       "      <td>...</td>\n",
       "      <td>47</td>\n",
       "      <td>15</td>\n",
       "      <td>2</td>\n",
       "      <td>67</td>\n",
       "      <td>11</td>\n",
       "      <td>1</td>\n",
       "      <td>69</td>\n",
       "      <td>20</td>\n",
       "      <td>59</td>\n",
       "      <td>0</td>\n",
       "    </tr>\n",
       "    <tr>\n",
       "      <th>603</th>\n",
       "      <td>01-Oct-20</td>\n",
       "      <td>Confirmed</td>\n",
       "      <td>81693</td>\n",
       "      <td>13</td>\n",
       "      <td>6751</td>\n",
       "      <td>224</td>\n",
       "      <td>1585</td>\n",
       "      <td>1370</td>\n",
       "      <td>119</td>\n",
       "      <td>2551</td>\n",
       "      <td>...</td>\n",
       "      <td>1265</td>\n",
       "      <td>2193</td>\n",
       "      <td>38</td>\n",
       "      <td>5688</td>\n",
       "      <td>2214</td>\n",
       "      <td>332</td>\n",
       "      <td>4019</td>\n",
       "      <td>248</td>\n",
       "      <td>3275</td>\n",
       "      <td>0</td>\n",
       "    </tr>\n",
       "    <tr>\n",
       "      <th>604</th>\n",
       "      <td>01-Oct-20</td>\n",
       "      <td>Recovered</td>\n",
       "      <td>78646</td>\n",
       "      <td>15</td>\n",
       "      <td>7297</td>\n",
       "      <td>159</td>\n",
       "      <td>1904</td>\n",
       "      <td>1242</td>\n",
       "      <td>196</td>\n",
       "      <td>2981</td>\n",
       "      <td>...</td>\n",
       "      <td>2271</td>\n",
       "      <td>1953</td>\n",
       "      <td>72</td>\n",
       "      <td>5516</td>\n",
       "      <td>2474</td>\n",
       "      <td>400</td>\n",
       "      <td>4444</td>\n",
       "      <td>801</td>\n",
       "      <td>2996</td>\n",
       "      <td>0</td>\n",
       "    </tr>\n",
       "    <tr>\n",
       "      <th>605</th>\n",
       "      <td>01-Oct-20</td>\n",
       "      <td>Deceased</td>\n",
       "      <td>1096</td>\n",
       "      <td>0</td>\n",
       "      <td>41</td>\n",
       "      <td>0</td>\n",
       "      <td>14</td>\n",
       "      <td>2</td>\n",
       "      <td>2</td>\n",
       "      <td>29</td>\n",
       "      <td>...</td>\n",
       "      <td>45</td>\n",
       "      <td>14</td>\n",
       "      <td>3</td>\n",
       "      <td>66</td>\n",
       "      <td>8</td>\n",
       "      <td>6</td>\n",
       "      <td>80</td>\n",
       "      <td>14</td>\n",
       "      <td>59</td>\n",
       "      <td>0</td>\n",
       "    </tr>\n",
       "  </tbody>\n",
       "</table>\n",
       "<p>6 rows × 41 columns</p>\n",
       "</div>"
      ],
      "text/plain": [
       "          Date     Status     TT  AN    AP   AR    AS    BR   CH    CT  ...  \\\n",
       "600  30-Sep-20  Confirmed  86748  14  6133  243  3590  1435  122  2947  ...   \n",
       "601  30-Sep-20  Recovered  85274  21  7075  147  1616  1735  215  3204  ...   \n",
       "602  30-Sep-20   Deceased   1179   0    48    0    17    10    4    41  ...   \n",
       "603  01-Oct-20  Confirmed  81693  13  6751  224  1585  1370  119  2551  ...   \n",
       "604  01-Oct-20  Recovered  78646  15  7297  159  1904  1242  196  2981  ...   \n",
       "605  01-Oct-20   Deceased   1096   0    41    0    14     2    2    29  ...   \n",
       "\n",
       "       PB    RJ  SK    TN    TG   TR    UP    UT    WB  UN  \n",
       "600  1426  2173  75  5659  2103  381  4226  1005  3281   0  \n",
       "601  1389  1953  68  5610  2243  489  5434   976  2954   0  \n",
       "602    47    15   2    67    11    1    69    20    59   0  \n",
       "603  1265  2193  38  5688  2214  332  4019   248  3275   0  \n",
       "604  2271  1953  72  5516  2474  400  4444   801  2996   0  \n",
       "605    45    14   3    66     8    6    80    14    59   0  \n",
       "\n",
       "[6 rows x 41 columns]"
      ]
     },
     "execution_count": 3,
     "metadata": {},
     "output_type": "execute_result"
    }
   ],
   "source": [
    "#hide\n",
    "df.tail(6)"
   ]
  },
  {
   "cell_type": "code",
   "execution_count": 4,
   "metadata": {
    "execution": {
     "iopub.execute_input": "2020-10-01T19:13:04.863135Z",
     "iopub.status.busy": "2020-10-01T19:13:04.862469Z",
     "iopub.status.idle": "2020-10-01T19:13:04.864494Z",
     "shell.execute_reply": "2020-10-01T19:13:04.865026Z"
    },
    "papermill": {
     "duration": 0.021272,
     "end_time": "2020-10-01T19:13:04.865160",
     "exception": false,
     "start_time": "2020-10-01T19:13:04.843888",
     "status": "completed"
    },
    "tags": []
   },
   "outputs": [
    {
     "data": {
      "text/plain": [
       "('01-Oct-20', '30-Sep-20')"
      ]
     },
     "execution_count": 4,
     "metadata": {},
     "output_type": "execute_result"
    }
   ],
   "source": [
    "#hide\n",
    "dt_today = df.iloc[-1][0]\n",
    "dt_yday = df.iloc[-4][0]\n",
    "dt_today, dt_yday"
   ]
  },
  {
   "cell_type": "code",
   "execution_count": 5,
   "metadata": {
    "execution": {
     "iopub.execute_input": "2020-10-01T19:13:04.897839Z",
     "iopub.status.busy": "2020-10-01T19:13:04.897259Z",
     "iopub.status.idle": "2020-10-01T19:13:04.903694Z",
     "shell.execute_reply": "2020-10-01T19:13:04.903193Z"
    },
    "papermill": {
     "duration": 0.025694,
     "end_time": "2020-10-01T19:13:04.903821",
     "exception": false,
     "start_time": "2020-10-01T19:13:04.878127",
     "status": "completed"
    },
    "tags": []
   },
   "outputs": [],
   "source": [
    "#hide\n",
    "df_today = df.groupby('Status').sum()\n",
    "df_yday = df.iloc[:-3][:].groupby('Status').sum()"
   ]
  },
  {
   "cell_type": "code",
   "execution_count": 6,
   "metadata": {
    "execution": {
     "iopub.execute_input": "2020-10-01T19:13:04.944674Z",
     "iopub.status.busy": "2020-10-01T19:13:04.937542Z",
     "iopub.status.idle": "2020-10-01T19:13:04.948541Z",
     "shell.execute_reply": "2020-10-01T19:13:04.948049Z"
    },
    "papermill": {
     "duration": 0.032072,
     "end_time": "2020-10-01T19:13:04.948668",
     "exception": false,
     "start_time": "2020-10-01T19:13:04.916596",
     "status": "completed"
    },
    "tags": []
   },
   "outputs": [
    {
     "data": {
      "text/html": [
       "<div>\n",
       "<style scoped>\n",
       "    .dataframe tbody tr th:only-of-type {\n",
       "        vertical-align: middle;\n",
       "    }\n",
       "\n",
       "    .dataframe tbody tr th {\n",
       "        vertical-align: top;\n",
       "    }\n",
       "\n",
       "    .dataframe thead th {\n",
       "        text-align: right;\n",
       "    }\n",
       "</style>\n",
       "<table border=\"1\" class=\"dataframe\">\n",
       "  <thead>\n",
       "    <tr style=\"text-align: right;\">\n",
       "      <th></th>\n",
       "      <th>TT</th>\n",
       "      <th>AN</th>\n",
       "      <th>AP</th>\n",
       "      <th>AR</th>\n",
       "      <th>AS</th>\n",
       "      <th>BR</th>\n",
       "      <th>CH</th>\n",
       "      <th>CT</th>\n",
       "      <th>DN</th>\n",
       "      <th>DD</th>\n",
       "      <th>...</th>\n",
       "      <th>PB</th>\n",
       "      <th>RJ</th>\n",
       "      <th>SK</th>\n",
       "      <th>TN</th>\n",
       "      <th>TG</th>\n",
       "      <th>TR</th>\n",
       "      <th>UP</th>\n",
       "      <th>UT</th>\n",
       "      <th>WB</th>\n",
       "      <th>UN</th>\n",
       "    </tr>\n",
       "    <tr>\n",
       "      <th>Status</th>\n",
       "      <th></th>\n",
       "      <th></th>\n",
       "      <th></th>\n",
       "      <th></th>\n",
       "      <th></th>\n",
       "      <th></th>\n",
       "      <th></th>\n",
       "      <th></th>\n",
       "      <th></th>\n",
       "      <th></th>\n",
       "      <th></th>\n",
       "      <th></th>\n",
       "      <th></th>\n",
       "      <th></th>\n",
       "      <th></th>\n",
       "      <th></th>\n",
       "      <th></th>\n",
       "      <th></th>\n",
       "      <th></th>\n",
       "      <th></th>\n",
       "      <th></th>\n",
       "    </tr>\n",
       "  </thead>\n",
       "  <tbody>\n",
       "    <tr>\n",
       "      <th>Confirmed</th>\n",
       "      <td>6391327</td>\n",
       "      <td>3844</td>\n",
       "      <td>700235</td>\n",
       "      <td>10020</td>\n",
       "      <td>182294</td>\n",
       "      <td>184276</td>\n",
       "      <td>12057</td>\n",
       "      <td>116153</td>\n",
       "      <td>3053</td>\n",
       "      <td>0</td>\n",
       "      <td>...</td>\n",
       "      <td>115151</td>\n",
       "      <td>137485</td>\n",
       "      <td>2982</td>\n",
       "      <td>603290</td>\n",
       "      <td>193090</td>\n",
       "      <td>26063</td>\n",
       "      <td>403101</td>\n",
       "      <td>49248</td>\n",
       "      <td>260324</td>\n",
       "      <td>0</td>\n",
       "    </tr>\n",
       "    <tr>\n",
       "      <th>Deceased</th>\n",
       "      <td>99217</td>\n",
       "      <td>53</td>\n",
       "      <td>5869</td>\n",
       "      <td>16</td>\n",
       "      <td>715</td>\n",
       "      <td>906</td>\n",
       "      <td>164</td>\n",
       "      <td>986</td>\n",
       "      <td>2</td>\n",
       "      <td>0</td>\n",
       "      <td>...</td>\n",
       "      <td>3451</td>\n",
       "      <td>1500</td>\n",
       "      <td>40</td>\n",
       "      <td>9586</td>\n",
       "      <td>1135</td>\n",
       "      <td>280</td>\n",
       "      <td>5864</td>\n",
       "      <td>625</td>\n",
       "      <td>5017</td>\n",
       "      <td>0</td>\n",
       "    </tr>\n",
       "    <tr>\n",
       "      <th>Recovered</th>\n",
       "      <td>5348635</td>\n",
       "      <td>3614</td>\n",
       "      <td>636508</td>\n",
       "      <td>7049</td>\n",
       "      <td>147519</td>\n",
       "      <td>170867</td>\n",
       "      <td>10009</td>\n",
       "      <td>84699</td>\n",
       "      <td>2897</td>\n",
       "      <td>0</td>\n",
       "      <td>...</td>\n",
       "      <td>95937</td>\n",
       "      <td>115178</td>\n",
       "      <td>2295</td>\n",
       "      <td>547335</td>\n",
       "      <td>163407</td>\n",
       "      <td>20069</td>\n",
       "      <td>346859</td>\n",
       "      <td>39836</td>\n",
       "      <td>228755</td>\n",
       "      <td>0</td>\n",
       "    </tr>\n",
       "  </tbody>\n",
       "</table>\n",
       "<p>3 rows × 39 columns</p>\n",
       "</div>"
      ],
      "text/plain": [
       "                TT    AN      AP     AR      AS      BR     CH      CT    DN  \\\n",
       "Status                                                                         \n",
       "Confirmed  6391327  3844  700235  10020  182294  184276  12057  116153  3053   \n",
       "Deceased     99217    53    5869     16     715     906    164     986     2   \n",
       "Recovered  5348635  3614  636508   7049  147519  170867  10009   84699  2897   \n",
       "\n",
       "           DD  ...      PB      RJ    SK      TN      TG     TR      UP  \\\n",
       "Status         ...                                                        \n",
       "Confirmed   0  ...  115151  137485  2982  603290  193090  26063  403101   \n",
       "Deceased    0  ...    3451    1500    40    9586    1135    280    5864   \n",
       "Recovered   0  ...   95937  115178  2295  547335  163407  20069  346859   \n",
       "\n",
       "              UT      WB  UN  \n",
       "Status                        \n",
       "Confirmed  49248  260324   0  \n",
       "Deceased     625    5017   0  \n",
       "Recovered  39836  228755   0  \n",
       "\n",
       "[3 rows x 39 columns]"
      ]
     },
     "execution_count": 6,
     "metadata": {},
     "output_type": "execute_result"
    }
   ],
   "source": [
    "#hide\n",
    "df_today"
   ]
  },
  {
   "cell_type": "code",
   "execution_count": 7,
   "metadata": {
    "execution": {
     "iopub.execute_input": "2020-10-01T19:13:04.994541Z",
     "iopub.status.busy": "2020-10-01T19:13:04.993920Z",
     "iopub.status.idle": "2020-10-01T19:13:04.997201Z",
     "shell.execute_reply": "2020-10-01T19:13:04.996705Z"
    },
    "papermill": {
     "duration": 0.035315,
     "end_time": "2020-10-01T19:13:04.997331",
     "exception": false,
     "start_time": "2020-10-01T19:13:04.962016",
     "status": "completed"
    },
    "tags": []
   },
   "outputs": [
    {
     "data": {
      "text/html": [
       "<div>\n",
       "<style scoped>\n",
       "    .dataframe tbody tr th:only-of-type {\n",
       "        vertical-align: middle;\n",
       "    }\n",
       "\n",
       "    .dataframe tbody tr th {\n",
       "        vertical-align: top;\n",
       "    }\n",
       "\n",
       "    .dataframe thead th {\n",
       "        text-align: right;\n",
       "    }\n",
       "</style>\n",
       "<table border=\"1\" class=\"dataframe\">\n",
       "  <thead>\n",
       "    <tr style=\"text-align: right;\">\n",
       "      <th></th>\n",
       "      <th>TT</th>\n",
       "      <th>AN</th>\n",
       "      <th>AP</th>\n",
       "      <th>AR</th>\n",
       "      <th>AS</th>\n",
       "      <th>BR</th>\n",
       "      <th>CH</th>\n",
       "      <th>CT</th>\n",
       "      <th>DN</th>\n",
       "      <th>DD</th>\n",
       "      <th>...</th>\n",
       "      <th>PB</th>\n",
       "      <th>RJ</th>\n",
       "      <th>SK</th>\n",
       "      <th>TN</th>\n",
       "      <th>TG</th>\n",
       "      <th>TR</th>\n",
       "      <th>UP</th>\n",
       "      <th>UT</th>\n",
       "      <th>WB</th>\n",
       "      <th>UN</th>\n",
       "    </tr>\n",
       "    <tr>\n",
       "      <th>Status</th>\n",
       "      <th></th>\n",
       "      <th></th>\n",
       "      <th></th>\n",
       "      <th></th>\n",
       "      <th></th>\n",
       "      <th></th>\n",
       "      <th></th>\n",
       "      <th></th>\n",
       "      <th></th>\n",
       "      <th></th>\n",
       "      <th></th>\n",
       "      <th></th>\n",
       "      <th></th>\n",
       "      <th></th>\n",
       "      <th></th>\n",
       "      <th></th>\n",
       "      <th></th>\n",
       "      <th></th>\n",
       "      <th></th>\n",
       "      <th></th>\n",
       "      <th></th>\n",
       "    </tr>\n",
       "  </thead>\n",
       "  <tbody>\n",
       "    <tr>\n",
       "      <th>Confirmed</th>\n",
       "      <td>6309634</td>\n",
       "      <td>3831</td>\n",
       "      <td>693484</td>\n",
       "      <td>9796</td>\n",
       "      <td>180709</td>\n",
       "      <td>182906</td>\n",
       "      <td>11938</td>\n",
       "      <td>113602</td>\n",
       "      <td>3039</td>\n",
       "      <td>0</td>\n",
       "      <td>...</td>\n",
       "      <td>113886</td>\n",
       "      <td>135292</td>\n",
       "      <td>2944</td>\n",
       "      <td>597602</td>\n",
       "      <td>190876</td>\n",
       "      <td>25731</td>\n",
       "      <td>399082</td>\n",
       "      <td>49000</td>\n",
       "      <td>257049</td>\n",
       "      <td>0</td>\n",
       "    </tr>\n",
       "    <tr>\n",
       "      <th>Deceased</th>\n",
       "      <td>98121</td>\n",
       "      <td>53</td>\n",
       "      <td>5828</td>\n",
       "      <td>16</td>\n",
       "      <td>701</td>\n",
       "      <td>904</td>\n",
       "      <td>162</td>\n",
       "      <td>957</td>\n",
       "      <td>2</td>\n",
       "      <td>0</td>\n",
       "      <td>...</td>\n",
       "      <td>3406</td>\n",
       "      <td>1486</td>\n",
       "      <td>37</td>\n",
       "      <td>9520</td>\n",
       "      <td>1127</td>\n",
       "      <td>274</td>\n",
       "      <td>5784</td>\n",
       "      <td>611</td>\n",
       "      <td>4958</td>\n",
       "      <td>0</td>\n",
       "    </tr>\n",
       "    <tr>\n",
       "      <th>Recovered</th>\n",
       "      <td>5269989</td>\n",
       "      <td>3599</td>\n",
       "      <td>629211</td>\n",
       "      <td>6890</td>\n",
       "      <td>145615</td>\n",
       "      <td>169625</td>\n",
       "      <td>9813</td>\n",
       "      <td>81718</td>\n",
       "      <td>2887</td>\n",
       "      <td>0</td>\n",
       "      <td>...</td>\n",
       "      <td>93666</td>\n",
       "      <td>113225</td>\n",
       "      <td>2223</td>\n",
       "      <td>541819</td>\n",
       "      <td>160933</td>\n",
       "      <td>19669</td>\n",
       "      <td>342415</td>\n",
       "      <td>39035</td>\n",
       "      <td>225759</td>\n",
       "      <td>0</td>\n",
       "    </tr>\n",
       "  </tbody>\n",
       "</table>\n",
       "<p>3 rows × 39 columns</p>\n",
       "</div>"
      ],
      "text/plain": [
       "                TT    AN      AP    AR      AS      BR     CH      CT    DN  \\\n",
       "Status                                                                        \n",
       "Confirmed  6309634  3831  693484  9796  180709  182906  11938  113602  3039   \n",
       "Deceased     98121    53    5828    16     701     904    162     957     2   \n",
       "Recovered  5269989  3599  629211  6890  145615  169625   9813   81718  2887   \n",
       "\n",
       "           DD  ...      PB      RJ    SK      TN      TG     TR      UP  \\\n",
       "Status         ...                                                        \n",
       "Confirmed   0  ...  113886  135292  2944  597602  190876  25731  399082   \n",
       "Deceased    0  ...    3406    1486    37    9520    1127    274    5784   \n",
       "Recovered   0  ...   93666  113225  2223  541819  160933  19669  342415   \n",
       "\n",
       "              UT      WB  UN  \n",
       "Status                        \n",
       "Confirmed  49000  257049   0  \n",
       "Deceased     611    4958   0  \n",
       "Recovered  39035  225759   0  \n",
       "\n",
       "[3 rows x 39 columns]"
      ]
     },
     "execution_count": 7,
     "metadata": {},
     "output_type": "execute_result"
    }
   ],
   "source": [
    "#hide\n",
    "df_yday.head()"
   ]
  },
  {
   "cell_type": "code",
   "execution_count": 8,
   "metadata": {
    "execution": {
     "iopub.execute_input": "2020-10-01T19:13:05.036833Z",
     "iopub.status.busy": "2020-10-01T19:13:05.036231Z",
     "iopub.status.idle": "2020-10-01T19:13:05.038516Z",
     "shell.execute_reply": "2020-10-01T19:13:05.039017Z"
    },
    "papermill": {
     "duration": 0.027365,
     "end_time": "2020-10-01T19:13:05.039165",
     "exception": false,
     "start_time": "2020-10-01T19:13:05.011800",
     "status": "completed"
    },
    "tags": []
   },
   "outputs": [
    {
     "data": {
      "text/plain": [
       "{'updated': '01-Oct-20',\n",
       " 'since': '30-Sep-20',\n",
       " 'Cases': 6391327,\n",
       " 'Deaths': 99217,\n",
       " 'Recovered': 5348635,\n",
       " 'PCases': 6309634,\n",
       " 'PDeaths': 98121,\n",
       " 'PRecovered': 5269989,\n",
       " 'Cases (+)': 81693,\n",
       " 'Deaths (+)': 1096,\n",
       " 'Recovered (+)': 78646}"
      ]
     },
     "execution_count": 8,
     "metadata": {},
     "output_type": "execute_result"
    }
   ],
   "source": [
    "#hide\n",
    "summary = {\n",
    "    'updated' : dt_today,\n",
    "    'since' : dt_yday,\n",
    "    'Cases' : df_today['TT'][0],\n",
    "    'Deaths' : df_today['TT'][1],\n",
    "    'Recovered' : df_today['TT'][2],\n",
    "    'PCases' : df_yday['TT'][0],\n",
    "    'PDeaths' : df_yday['TT'][1],\n",
    "    'PRecovered': df_yday['TT'][2],\n",
    "    'Cases (+)' : df_today['TT'][0] - df_yday['TT'][0],\n",
    "    'Deaths (+)' : df_today['TT'][1] - df_yday['TT'][1],\n",
    "    'Recovered (+)': df_today['TT'][2] - df_yday['TT'][2]\n",
    "}\n",
    "\n",
    "summary"
   ]
  },
  {
   "cell_type": "code",
   "execution_count": 9,
   "metadata": {
    "execution": {
     "iopub.execute_input": "2020-10-01T19:13:05.074864Z",
     "iopub.status.busy": "2020-10-01T19:13:05.074228Z",
     "iopub.status.idle": "2020-10-01T19:13:05.076516Z",
     "shell.execute_reply": "2020-10-01T19:13:05.077239Z"
    },
    "papermill": {
     "duration": 0.023546,
     "end_time": "2020-10-01T19:13:05.077397",
     "exception": false,
     "start_time": "2020-10-01T19:13:05.053851",
     "status": "completed"
    },
    "tags": []
   },
   "outputs": [],
   "source": [
    "#hide\n",
    "overview = '''\n",
    "<!-- #######  HTML!! #########-->\n",
    "<h1 style=\"color: #5e9ca0; text-align: center;\">India</h1>\n",
    "<p style=\"text-align: center;\">Last update: <strong>{update}</strong></p>\n",
    "<p style=\"text-align: center;\">Confirmed cases:</p>\n",
    "<p style=\"text-align: center;font-size:24px;\">{cases} (<span style=\"color: #ff0000;\">+{new}</span>)</p>\n",
    "<p style=\"text-align: center;\">Confirmed deaths:</p>\n",
    "<p style=\"text-align: center;font-size:24px;\">{deaths} (<span style=\"color: #ff0000;\">+{dnew}</span>)</p>\n",
    "<p style=\"text-align: center;\">Recovered cases:</p>\n",
    "<p style=\"text-align: center;font-size:24px;\">{recovered} (<span style=\"color: #00ff00;\">+{rnew}</span>)</p>\n",
    "'''"
   ]
  },
  {
   "cell_type": "code",
   "execution_count": 10,
   "metadata": {
    "execution": {
     "iopub.execute_input": "2020-10-01T19:13:05.115516Z",
     "iopub.status.busy": "2020-10-01T19:13:05.114745Z",
     "iopub.status.idle": "2020-10-01T19:13:05.119471Z",
     "shell.execute_reply": "2020-10-01T19:13:05.118969Z"
    },
    "papermill": {
     "duration": 0.027538,
     "end_time": "2020-10-01T19:13:05.119598",
     "exception": false,
     "start_time": "2020-10-01T19:13:05.092060",
     "status": "completed"
    },
    "tags": []
   },
   "outputs": [
    {
     "data": {
      "text/html": [
       "\n",
       "<!-- #######  HTML!! #########-->\n",
       "<h1 style=\"color: #5e9ca0; text-align: center;\">India</h1>\n",
       "<p style=\"text-align: center;\">Last update: <strong>01-Oct-20</strong></p>\n",
       "<p style=\"text-align: center;\">Confirmed cases:</p>\n",
       "<p style=\"text-align: center;font-size:24px;\">6391327 (<span style=\"color: #ff0000;\">+81693</span>)</p>\n",
       "<p style=\"text-align: center;\">Confirmed deaths:</p>\n",
       "<p style=\"text-align: center;font-size:24px;\">99217 (<span style=\"color: #ff0000;\">+1096</span>)</p>\n",
       "<p style=\"text-align: center;\">Recovered cases:</p>\n",
       "<p style=\"text-align: center;font-size:24px;\">5348635 (<span style=\"color: #00ff00;\">+78646</span>)</p>\n"
      ],
      "text/plain": [
       "<IPython.core.display.HTML object>"
      ]
     },
     "metadata": {},
     "output_type": "display_data"
    }
   ],
   "source": [
    "#hide_input\n",
    "# Fill the above HTML with the information from the summary dictionary\n",
    "\n",
    "update = summary['updated']\n",
    "cases = summary['Cases']\n",
    "new = summary['Cases (+)']\n",
    "deaths = summary['Deaths']\n",
    "dnew = summary['Deaths (+)']\n",
    "recovered = summary['Recovered']\n",
    "rnew = summary['Recovered (+)']\n",
    "\n",
    "html = HTML(overview.format(update=update, cases=cases,new=new,deaths=deaths,dnew=dnew, recovered=recovered, rnew=rnew))\n",
    "\n",
    "display(html)"
   ]
  },
  {
   "cell_type": "code",
   "execution_count": 11,
   "metadata": {
    "execution": {
     "iopub.execute_input": "2020-10-01T19:13:05.159170Z",
     "iopub.status.busy": "2020-10-01T19:13:05.158570Z",
     "iopub.status.idle": "2020-10-01T19:13:05.163718Z",
     "shell.execute_reply": "2020-10-01T19:13:05.163220Z"
    },
    "papermill": {
     "duration": 0.029214,
     "end_time": "2020-10-01T19:13:05.163844",
     "exception": false,
     "start_time": "2020-10-01T19:13:05.134630",
     "status": "completed"
    },
    "tags": []
   },
   "outputs": [],
   "source": [
    "#hide\n",
    "df_cases = df[df['Status'] == 'Confirmed'].copy()\n",
    "df_cases.drop(columns = ['Status'], inplace=True)\n",
    "df_deaths = df[df['Status'] == 'Deceased'].copy()\n",
    "df_deaths.drop(columns = ['Status'], inplace=True)\n",
    "df_recovered = df[df['Status'] == 'Recovered'].copy()\n",
    "df_recovered.drop(columns = ['Status'], inplace=True)"
   ]
  },
  {
   "cell_type": "markdown",
   "metadata": {
    "papermill": {
     "duration": 0.014708,
     "end_time": "2020-10-01T19:13:05.193187",
     "exception": false,
     "start_time": "2020-10-01T19:13:05.178479",
     "status": "completed"
    },
    "tags": []
   },
   "source": [
    "Plot for India:"
   ]
  },
  {
   "cell_type": "code",
   "execution_count": 12,
   "metadata": {
    "execution": {
     "iopub.execute_input": "2020-10-01T19:13:05.245638Z",
     "iopub.status.busy": "2020-10-01T19:13:05.245027Z",
     "iopub.status.idle": "2020-10-01T19:13:05.507974Z",
     "shell.execute_reply": "2020-10-01T19:13:05.507365Z"
    },
    "papermill": {
     "duration": 0.300235,
     "end_time": "2020-10-01T19:13:05.508104",
     "exception": false,
     "start_time": "2020-10-01T19:13:05.207869",
     "status": "completed"
    },
    "tags": []
   },
   "outputs": [
    {
     "data": {
      "image/png": "[encoded data removed]",
      "text/plain": [
       "<Figure size 1296x432 with 1 Axes>"
      ]
     },
     "metadata": {
      "needs_background": "light"
     },
     "output_type": "display_data"
    }
   ],
   "source": [
    "#hide_input\n",
    "plt.figure(figsize = (18,6))\n",
    "plt.plot(df_cases['Date'], df_cases['TT'],'.-', alpha=0.7, color='b', label='Confirmed cases')\n",
    "plt.plot(df_recovered['Date'], df_recovered['TT'],'.-', alpha=0.7, color='g', label='Recovered')\n",
    "plt.plot(df_deaths['Date'], df_deaths['TT'],'.-', alpha=0.7, color='r', label='Deceased')\n",
    "plt.legend()\n",
    "plt.title(\"Cases per day in India\")\n",
    "plt.xticks(ticks=' ')\n",
    "plt.xlabel(f'{df_cases.iloc[0][0]} to {df_cases.iloc[-1][0]}')\n",
    "plt.ylabel('No. of cases');"
   ]
  },
  {
   "cell_type": "markdown",
   "metadata": {
    "papermill": {
     "duration": 0.016646,
     "end_time": "2020-10-01T19:13:05.541422",
     "exception": false,
     "start_time": "2020-10-01T19:13:05.524776",
     "status": "completed"
    },
    "tags": []
   },
   "source": [
    "Plots for the states with highest number of cases:"
   ]
  },
  {
   "cell_type": "code",
   "execution_count": 13,
   "metadata": {
    "execution": {
     "iopub.execute_input": "2020-10-01T19:13:05.587751Z",
     "iopub.status.busy": "2020-10-01T19:13:05.587132Z",
     "iopub.status.idle": "2020-10-01T19:13:06.172347Z",
     "shell.execute_reply": "2020-10-01T19:13:06.171768Z"
    },
    "papermill": {
     "duration": 0.614547,
     "end_time": "2020-10-01T19:13:06.172480",
     "exception": false,
     "start_time": "2020-10-01T19:13:05.557933",
     "status": "completed"
    },
    "tags": []
   },
   "outputs": [
    {
     "data": {
      "image/png": "[encoded data removed]",
      "text/plain": [
       "<Figure size 1512x432 with 3 Axes>"
      ]
     },
     "metadata": {
      "needs_background": "light"
     },
     "output_type": "display_data"
    }
   ],
   "source": [
    "#hide_input\n",
    "top_3 = sorted(df_cases.sum().values[1:], reverse=True)[1:4]\n",
    "top3_states=[]\n",
    "for i in top_3:\n",
    "    top3_states.append(df_cases.sum()[df_cases.sum() == i].index)\n",
    "\n",
    "\n",
    "fig, ax = plt.subplots(1,3,figsize = (21,6))\n",
    "for i in range(3):\n",
    "    state = top3_states[i].values[0]\n",
    "    ax[i].plot(df_cases['Date'], df_cases[state],'.-', color='b', alpha=0.7)\n",
    "    ax[i].plot(df_deaths['Date'], df_deaths[state],'.-', color='r', alpha=0.7)\n",
    "    ax[i].plot(df_recovered['Date'], df_recovered[state],'.-', color='g', alpha=0.7)\n",
    "    \n",
    "    ax[i].set_title(f\"Cases in {state}\")\n",
    "    ax[i].set_xticks(ticks=' ')\n",
    "    ax[i].set_xlabel(f'{df_cases.iloc[0][0]} to {df_cases.iloc[-1][0]}')\n",
    "    ax[i].set_ylabel('No. of cases');"
   ]
  },
  {
   "cell_type": "code",
   "execution_count": null,
   "metadata": {
    "papermill": {
     "duration": 0.019026,
     "end_time": "2020-10-01T19:13:06.211340",
     "exception": false,
     "start_time": "2020-10-01T19:13:06.192314",
     "status": "completed"
    },
    "tags": []
   },
   "outputs": [],
   "source": []
  },
  {
   "cell_type": "code",
   "execution_count": null,
   "metadata": {
    "papermill": {
     "duration": 0.019643,
     "end_time": "2020-10-01T19:13:06.250805",
     "exception": false,
     "start_time": "2020-10-01T19:13:06.231162",
     "status": "completed"
    },
    "tags": []
   },
   "outputs": [],
   "source": []
  },
  {
   "cell_type": "code",
   "execution_count": null,
   "metadata": {
    "papermill": {
     "duration": 0.019412,
     "end_time": "2020-10-01T19:13:06.289238",
     "exception": false,
     "start_time": "2020-10-01T19:13:06.269826",
     "status": "completed"
    },
    "tags": []
   },
   "outputs": [],
   "source": []
  }
 ],
 "metadata": {
  "kernelspec": {
   "display_name": "Python 3",
   "language": "python",
   "name": "python3"
  },
  "language_info": {
   "codemirror_mode": {
    "name": "ipython",
    "version": 3
   },
   "file_extension": ".py",
   "mimetype": "text/x-python",
   "name": "python",
   "nbconvert_exporter": "python",
   "pygments_lexer": "ipython3",
   "version": "3.6.12"
  },
  "papermill": {
   "duration": 3.961759,
   "end_time": "2020-10-01T19:13:06.720295",
   "environment_variables": {},
   "exception": null,
   "input_path": "2020-08-09-DailyUpdate.ipynb",
   "output_path": "2020-08-09-DailyUpdate.ipynb",
   "parameters": {},
   "start_time": "2020-10-01T19:13:02.758536",
   "version": "2.1.2"
  }
 },
 "nbformat": 4,
 "nbformat_minor": 4
}