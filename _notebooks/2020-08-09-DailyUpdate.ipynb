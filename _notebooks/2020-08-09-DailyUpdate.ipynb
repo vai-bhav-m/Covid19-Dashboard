{
 "cells": [
  {
   "cell_type": "markdown",
   "metadata": {
    "papermill": {
     "duration": 0.020612,
     "end_time": "2020-09-09T19:12:06.208309",
     "exception": false,
     "start_time": "2020-09-09T19:12:06.187697",
     "status": "completed"
    },
    "tags": []
   },
   "source": [
    "# COVID-19 India Daily updates\n",
    "> Tracking coronavirus total cases, deaths and new cases in India on a daily basis\n",
    "\n",
    "- author: Vaibhav Mahapatra"
   ]
  },
  {
   "cell_type": "code",
   "execution_count": 1,
   "metadata": {
    "execution": {
     "iopub.execute_input": "2020-09-09T19:12:06.239156Z",
     "iopub.status.busy": "2020-09-09T19:12:06.238614Z",
     "iopub.status.idle": "2020-09-09T19:12:06.795551Z",
     "shell.execute_reply": "2020-09-09T19:12:06.796306Z"
    },
    "papermill": {
     "duration": 0.576075,
     "end_time": "2020-09-09T19:12:06.796573",
     "exception": false,
     "start_time": "2020-09-09T19:12:06.220498",
     "status": "completed"
    },
    "tags": []
   },
   "outputs": [],
   "source": [
    "#hide\n",
    "\n",
    "## Import essential packages below\n",
    "\n",
    "import pandas as pd\n",
    "import numpy as np\n",
    "import requests\n",
    "import json\n",
    "import matplotlib.pyplot as plt\n",
    "import matplotlib.dates as mdates\n",
    "import matplotlib as mpl\n",
    "from IPython.core.display import display,HTML\n",
    "%matplotlib inline"
   ]
  },
  {
   "cell_type": "code",
   "execution_count": 2,
   "metadata": {
    "execution": {
     "iopub.execute_input": "2020-09-09T19:12:06.826627Z",
     "iopub.status.busy": "2020-09-09T19:12:06.823820Z",
     "iopub.status.idle": "2020-09-09T19:12:07.002178Z",
     "shell.execute_reply": "2020-09-09T19:12:07.003023Z"
    },
    "papermill": {
     "duration": 0.193654,
     "end_time": "2020-09-09T19:12:07.003192",
     "exception": false,
     "start_time": "2020-09-09T19:12:06.809538",
     "status": "completed"
    },
    "tags": []
   },
   "outputs": [
    {
     "data": {
      "text/plain": [
       "(540, 41)"
      ]
     },
     "execution_count": 2,
     "metadata": {},
     "output_type": "execute_result"
    }
   ],
   "source": [
    "#hide\n",
    "url = 'https://api.covid19india.org/csv/latest/state_wise_daily.csv'\n",
    "df = pd.read_csv(url)\n",
    "df.shape"
   ]
  },
  {
   "cell_type": "code",
   "execution_count": 3,
   "metadata": {
    "execution": {
     "iopub.execute_input": "2020-09-09T19:12:07.080635Z",
     "iopub.status.busy": "2020-09-09T19:12:07.079988Z",
     "iopub.status.idle": "2020-09-09T19:12:07.089586Z",
     "shell.execute_reply": "2020-09-09T19:12:07.090056Z"
    },
    "papermill": {
     "duration": 0.07469,
     "end_time": "2020-09-09T19:12:07.090211",
     "exception": false,
     "start_time": "2020-09-09T19:12:07.015521",
     "status": "completed"
    },
    "tags": []
   },
   "outputs": [
    {
     "data": {
      "text/html": [
       "<div>\n",
       "<style scoped>\n",
       "    .dataframe tbody tr th:only-of-type {\n",
       "        vertical-align: middle;\n",
       "    }\n",
       "\n",
       "    .dataframe tbody tr th {\n",
       "        vertical-align: top;\n",
       "    }\n",
       "\n",
       "    .dataframe thead th {\n",
       "        text-align: right;\n",
       "    }\n",
       "</style>\n",
       "<table border=\"1\" class=\"dataframe\">\n",
       "  <thead>\n",
       "    <tr style=\"text-align: right;\">\n",
       "      <th></th>\n",
       "      <th>Date</th>\n",
       "      <th>Status</th>\n",
       "      <th>TT</th>\n",
       "      <th>AN</th>\n",
       "      <th>AP</th>\n",
       "      <th>AR</th>\n",
       "      <th>AS</th>\n",
       "      <th>BR</th>\n",
       "      <th>CH</th>\n",
       "      <th>CT</th>\n",
       "      <th>...</th>\n",
       "      <th>PB</th>\n",
       "      <th>RJ</th>\n",
       "      <th>SK</th>\n",
       "      <th>TN</th>\n",
       "      <th>TG</th>\n",
       "      <th>TR</th>\n",
       "      <th>UP</th>\n",
       "      <th>UT</th>\n",
       "      <th>WB</th>\n",
       "      <th>UN</th>\n",
       "    </tr>\n",
       "  </thead>\n",
       "  <tbody>\n",
       "    <tr>\n",
       "      <th>534</th>\n",
       "      <td>08-Sep-20</td>\n",
       "      <td>Confirmed</td>\n",
       "      <td>89852</td>\n",
       "      <td>33</td>\n",
       "      <td>10601</td>\n",
       "      <td>221</td>\n",
       "      <td>2578</td>\n",
       "      <td>1667</td>\n",
       "      <td>377</td>\n",
       "      <td>2834</td>\n",
       "      <td>...</td>\n",
       "      <td>1964</td>\n",
       "      <td>1590</td>\n",
       "      <td>19</td>\n",
       "      <td>5684</td>\n",
       "      <td>2392</td>\n",
       "      <td>628</td>\n",
       "      <td>6622</td>\n",
       "      <td>658</td>\n",
       "      <td>3091</td>\n",
       "      <td>0</td>\n",
       "    </tr>\n",
       "    <tr>\n",
       "      <th>535</th>\n",
       "      <td>08-Sep-20</td>\n",
       "      <td>Recovered</td>\n",
       "      <td>74607</td>\n",
       "      <td>38</td>\n",
       "      <td>11691</td>\n",
       "      <td>127</td>\n",
       "      <td>2166</td>\n",
       "      <td>1944</td>\n",
       "      <td>226</td>\n",
       "      <td>615</td>\n",
       "      <td>...</td>\n",
       "      <td>2307</td>\n",
       "      <td>1445</td>\n",
       "      <td>17</td>\n",
       "      <td>6599</td>\n",
       "      <td>2346</td>\n",
       "      <td>294</td>\n",
       "      <td>5439</td>\n",
       "      <td>427</td>\n",
       "      <td>2996</td>\n",
       "      <td>0</td>\n",
       "    </tr>\n",
       "    <tr>\n",
       "      <th>536</th>\n",
       "      <td>08-Sep-20</td>\n",
       "      <td>Deceased</td>\n",
       "      <td>1104</td>\n",
       "      <td>0</td>\n",
       "      <td>73</td>\n",
       "      <td>1</td>\n",
       "      <td>8</td>\n",
       "      <td>4</td>\n",
       "      <td>1</td>\n",
       "      <td>12</td>\n",
       "      <td>...</td>\n",
       "      <td>67</td>\n",
       "      <td>13</td>\n",
       "      <td>2</td>\n",
       "      <td>87</td>\n",
       "      <td>11</td>\n",
       "      <td>3</td>\n",
       "      <td>71</td>\n",
       "      <td>12</td>\n",
       "      <td>57</td>\n",
       "      <td>0</td>\n",
       "    </tr>\n",
       "    <tr>\n",
       "      <th>537</th>\n",
       "      <td>09-Sep-20</td>\n",
       "      <td>Confirmed</td>\n",
       "      <td>95529</td>\n",
       "      <td>34</td>\n",
       "      <td>10418</td>\n",
       "      <td>144</td>\n",
       "      <td>2243</td>\n",
       "      <td>1498</td>\n",
       "      <td>332</td>\n",
       "      <td>2818</td>\n",
       "      <td>...</td>\n",
       "      <td>2137</td>\n",
       "      <td>1610</td>\n",
       "      <td>31</td>\n",
       "      <td>5584</td>\n",
       "      <td>2479</td>\n",
       "      <td>582</td>\n",
       "      <td>6568</td>\n",
       "      <td>1117</td>\n",
       "      <td>3107</td>\n",
       "      <td>0</td>\n",
       "    </tr>\n",
       "    <tr>\n",
       "      <th>538</th>\n",
       "      <td>09-Sep-20</td>\n",
       "      <td>Recovered</td>\n",
       "      <td>73057</td>\n",
       "      <td>43</td>\n",
       "      <td>9842</td>\n",
       "      <td>183</td>\n",
       "      <td>2265</td>\n",
       "      <td>1702</td>\n",
       "      <td>180</td>\n",
       "      <td>1146</td>\n",
       "      <td>...</td>\n",
       "      <td>1231</td>\n",
       "      <td>1578</td>\n",
       "      <td>16</td>\n",
       "      <td>6516</td>\n",
       "      <td>2485</td>\n",
       "      <td>311</td>\n",
       "      <td>5731</td>\n",
       "      <td>789</td>\n",
       "      <td>2967</td>\n",
       "      <td>0</td>\n",
       "    </tr>\n",
       "    <tr>\n",
       "      <th>539</th>\n",
       "      <td>09-Sep-20</td>\n",
       "      <td>Deceased</td>\n",
       "      <td>1168</td>\n",
       "      <td>1</td>\n",
       "      <td>74</td>\n",
       "      <td>0</td>\n",
       "      <td>18</td>\n",
       "      <td>10</td>\n",
       "      <td>2</td>\n",
       "      <td>70</td>\n",
       "      <td>...</td>\n",
       "      <td>71</td>\n",
       "      <td>14</td>\n",
       "      <td>0</td>\n",
       "      <td>78</td>\n",
       "      <td>10</td>\n",
       "      <td>9</td>\n",
       "      <td>65</td>\n",
       "      <td>12</td>\n",
       "      <td>53</td>\n",
       "      <td>0</td>\n",
       "    </tr>\n",
       "  </tbody>\n",
       "</table>\n",
       "<p>6 rows × 41 columns</p>\n",
       "</div>"
      ],
      "text/plain": [
       "          Date     Status     TT  AN     AP   AR    AS    BR   CH    CT  ...  \\\n",
       "534  08-Sep-20  Confirmed  89852  33  10601  221  2578  1667  377  2834  ...   \n",
       "535  08-Sep-20  Recovered  74607  38  11691  127  2166  1944  226   615  ...   \n",
       "536  08-Sep-20   Deceased   1104   0     73    1     8     4    1    12  ...   \n",
       "537  09-Sep-20  Confirmed  95529  34  10418  144  2243  1498  332  2818  ...   \n",
       "538  09-Sep-20  Recovered  73057  43   9842  183  2265  1702  180  1146  ...   \n",
       "539  09-Sep-20   Deceased   1168   1     74    0    18    10    2    70  ...   \n",
       "\n",
       "       PB    RJ  SK    TN    TG   TR    UP    UT    WB  UN  \n",
       "534  1964  1590  19  5684  2392  628  6622   658  3091   0  \n",
       "535  2307  1445  17  6599  2346  294  5439   427  2996   0  \n",
       "536    67    13   2    87    11    3    71    12    57   0  \n",
       "537  2137  1610  31  5584  2479  582  6568  1117  3107   0  \n",
       "538  1231  1578  16  6516  2485  311  5731   789  2967   0  \n",
       "539    71    14   0    78    10    9    65    12    53   0  \n",
       "\n",
       "[6 rows x 41 columns]"
      ]
     },
     "execution_count": 3,
     "metadata": {},
     "output_type": "execute_result"
    }
   ],
   "source": [
    "#hide\n",
    "df.tail(6)"
   ]
  },
  {
   "cell_type": "code",
   "execution_count": 4,
   "metadata": {
    "execution": {
     "iopub.execute_input": "2020-09-09T19:12:07.125502Z",
     "iopub.status.busy": "2020-09-09T19:12:07.124908Z",
     "iopub.status.idle": "2020-09-09T19:12:07.127385Z",
     "shell.execute_reply": "2020-09-09T19:12:07.127818Z"
    },
    "papermill": {
     "duration": 0.025411,
     "end_time": "2020-09-09T19:12:07.127960",
     "exception": false,
     "start_time": "2020-09-09T19:12:07.102549",
     "status": "completed"
    },
    "tags": []
   },
   "outputs": [
    {
     "data": {
      "text/plain": [
       "('09-Sep-20', '08-Sep-20')"
      ]
     },
     "execution_count": 4,
     "metadata": {},
     "output_type": "execute_result"
    }
   ],
   "source": [
    "#hide\n",
    "dt_today = df.iloc[-1][0]\n",
    "dt_yday = df.iloc[-4][0]\n",
    "dt_today, dt_yday"
   ]
  },
  {
   "cell_type": "code",
   "execution_count": 5,
   "metadata": {
    "execution": {
     "iopub.execute_input": "2020-09-09T19:12:07.160043Z",
     "iopub.status.busy": "2020-09-09T19:12:07.159485Z",
     "iopub.status.idle": "2020-09-09T19:12:07.167819Z",
     "shell.execute_reply": "2020-09-09T19:12:07.167317Z"
    },
    "papermill": {
     "duration": 0.027067,
     "end_time": "2020-09-09T19:12:07.167946",
     "exception": false,
     "start_time": "2020-09-09T19:12:07.140879",
     "status": "completed"
    },
    "tags": []
   },
   "outputs": [],
   "source": [
    "#hide\n",
    "df_today = df.groupby('Status').sum()\n",
    "df_yday = df.iloc[:-3][:].groupby('Status').sum()"
   ]
  },
  {
   "cell_type": "code",
   "execution_count": 6,
   "metadata": {
    "execution": {
     "iopub.execute_input": "2020-09-09T19:12:07.206357Z",
     "iopub.status.busy": "2020-09-09T19:12:07.205825Z",
     "iopub.status.idle": "2020-09-09T19:12:07.214936Z",
     "shell.execute_reply": "2020-09-09T19:12:07.215444Z"
    },
    "papermill": {
     "duration": 0.034805,
     "end_time": "2020-09-09T19:12:07.215587",
     "exception": false,
     "start_time": "2020-09-09T19:12:07.180782",
     "status": "completed"
    },
    "tags": []
   },
   "outputs": [
    {
     "data": {
      "text/html": [
       "<div>\n",
       "<style scoped>\n",
       "    .dataframe tbody tr th:only-of-type {\n",
       "        vertical-align: middle;\n",
       "    }\n",
       "\n",
       "    .dataframe tbody tr th {\n",
       "        vertical-align: top;\n",
       "    }\n",
       "\n",
       "    .dataframe thead th {\n",
       "        text-align: right;\n",
       "    }\n",
       "</style>\n",
       "<table border=\"1\" class=\"dataframe\">\n",
       "  <thead>\n",
       "    <tr style=\"text-align: right;\">\n",
       "      <th></th>\n",
       "      <th>TT</th>\n",
       "      <th>AN</th>\n",
       "      <th>AP</th>\n",
       "      <th>AR</th>\n",
       "      <th>AS</th>\n",
       "      <th>BR</th>\n",
       "      <th>CH</th>\n",
       "      <th>CT</th>\n",
       "      <th>DN</th>\n",
       "      <th>DD</th>\n",
       "      <th>...</th>\n",
       "      <th>PB</th>\n",
       "      <th>RJ</th>\n",
       "      <th>SK</th>\n",
       "      <th>TN</th>\n",
       "      <th>TG</th>\n",
       "      <th>TR</th>\n",
       "      <th>UP</th>\n",
       "      <th>UT</th>\n",
       "      <th>WB</th>\n",
       "      <th>UN</th>\n",
       "    </tr>\n",
       "    <tr>\n",
       "      <th>Status</th>\n",
       "      <th></th>\n",
       "      <th></th>\n",
       "      <th></th>\n",
       "      <th></th>\n",
       "      <th></th>\n",
       "      <th></th>\n",
       "      <th></th>\n",
       "      <th></th>\n",
       "      <th></th>\n",
       "      <th></th>\n",
       "      <th></th>\n",
       "      <th></th>\n",
       "      <th></th>\n",
       "      <th></th>\n",
       "      <th></th>\n",
       "      <th></th>\n",
       "      <th></th>\n",
       "      <th></th>\n",
       "      <th></th>\n",
       "      <th></th>\n",
       "      <th></th>\n",
       "    </tr>\n",
       "  </thead>\n",
       "  <tbody>\n",
       "    <tr>\n",
       "      <th>Confirmed</th>\n",
       "      <td>4461993</td>\n",
       "      <td>3422</td>\n",
       "      <td>527512</td>\n",
       "      <td>5545</td>\n",
       "      <td>132964</td>\n",
       "      <td>152192</td>\n",
       "      <td>6704</td>\n",
       "      <td>52932</td>\n",
       "      <td>2634</td>\n",
       "      <td>0</td>\n",
       "      <td>...</td>\n",
       "      <td>69684</td>\n",
       "      <td>95736</td>\n",
       "      <td>2002</td>\n",
       "      <td>480524</td>\n",
       "      <td>147132</td>\n",
       "      <td>16736</td>\n",
       "      <td>285041</td>\n",
       "      <td>27211</td>\n",
       "      <td>190063</td>\n",
       "      <td>0</td>\n",
       "    </tr>\n",
       "    <tr>\n",
       "      <th>Deceased</th>\n",
       "      <td>74494</td>\n",
       "      <td>51</td>\n",
       "      <td>4634</td>\n",
       "      <td>9</td>\n",
       "      <td>400</td>\n",
       "      <td>775</td>\n",
       "      <td>77</td>\n",
       "      <td>477</td>\n",
       "      <td>2</td>\n",
       "      <td>0</td>\n",
       "      <td>...</td>\n",
       "      <td>2061</td>\n",
       "      <td>1178</td>\n",
       "      <td>7</td>\n",
       "      <td>8093</td>\n",
       "      <td>916</td>\n",
       "      <td>161</td>\n",
       "      <td>4112</td>\n",
       "      <td>372</td>\n",
       "      <td>3730</td>\n",
       "      <td>0</td>\n",
       "    </tr>\n",
       "    <tr>\n",
       "      <th>Recovered</th>\n",
       "      <td>3468489</td>\n",
       "      <td>3069</td>\n",
       "      <td>425607</td>\n",
       "      <td>3906</td>\n",
       "      <td>103505</td>\n",
       "      <td>135791</td>\n",
       "      <td>4140</td>\n",
       "      <td>23938</td>\n",
       "      <td>2328</td>\n",
       "      <td>0</td>\n",
       "      <td>...</td>\n",
       "      <td>50558</td>\n",
       "      <td>79450</td>\n",
       "      <td>1430</td>\n",
       "      <td>423231</td>\n",
       "      <td>115072</td>\n",
       "      <td>9653</td>\n",
       "      <td>216901</td>\n",
       "      <td>18262</td>\n",
       "      <td>162992</td>\n",
       "      <td>0</td>\n",
       "    </tr>\n",
       "  </tbody>\n",
       "</table>\n",
       "<p>3 rows × 39 columns</p>\n",
       "</div>"
      ],
      "text/plain": [
       "                TT    AN      AP    AR      AS      BR    CH     CT    DN  DD  \\\n",
       "Status                                                                          \n",
       "Confirmed  4461993  3422  527512  5545  132964  152192  6704  52932  2634   0   \n",
       "Deceased     74494    51    4634     9     400     775    77    477     2   0   \n",
       "Recovered  3468489  3069  425607  3906  103505  135791  4140  23938  2328   0   \n",
       "\n",
       "           ...     PB     RJ    SK      TN      TG     TR      UP     UT  \\\n",
       "Status     ...                                                             \n",
       "Confirmed  ...  69684  95736  2002  480524  147132  16736  285041  27211   \n",
       "Deceased   ...   2061   1178     7    8093     916    161    4112    372   \n",
       "Recovered  ...  50558  79450  1430  423231  115072   9653  216901  18262   \n",
       "\n",
       "               WB  UN  \n",
       "Status                 \n",
       "Confirmed  190063   0  \n",
       "Deceased     3730   0  \n",
       "Recovered  162992   0  \n",
       "\n",
       "[3 rows x 39 columns]"
      ]
     },
     "execution_count": 6,
     "metadata": {},
     "output_type": "execute_result"
    }
   ],
   "source": [
    "#hide\n",
    "df_today"
   ]
  },
  {
   "cell_type": "code",
   "execution_count": 7,
   "metadata": {
    "execution": {
     "iopub.execute_input": "2020-09-09T19:12:07.251195Z",
     "iopub.status.busy": "2020-09-09T19:12:07.250678Z",
     "iopub.status.idle": "2020-09-09T19:12:07.260166Z",
     "shell.execute_reply": "2020-09-09T19:12:07.259673Z"
    },
    "papermill": {
     "duration": 0.031757,
     "end_time": "2020-09-09T19:12:07.260283",
     "exception": false,
     "start_time": "2020-09-09T19:12:07.228526",
     "status": "completed"
    },
    "tags": []
   },
   "outputs": [
    {
     "data": {
      "text/html": [
       "<div>\n",
       "<style scoped>\n",
       "    .dataframe tbody tr th:only-of-type {\n",
       "        vertical-align: middle;\n",
       "    }\n",
       "\n",
       "    .dataframe tbody tr th {\n",
       "        vertical-align: top;\n",
       "    }\n",
       "\n",
       "    .dataframe thead th {\n",
       "        text-align: right;\n",
       "    }\n",
       "</style>\n",
       "<table border=\"1\" class=\"dataframe\">\n",
       "  <thead>\n",
       "    <tr style=\"text-align: right;\">\n",
       "      <th></th>\n",
       "      <th>TT</th>\n",
       "      <th>AN</th>\n",
       "      <th>AP</th>\n",
       "      <th>AR</th>\n",
       "      <th>AS</th>\n",
       "      <th>BR</th>\n",
       "      <th>CH</th>\n",
       "      <th>CT</th>\n",
       "      <th>DN</th>\n",
       "      <th>DD</th>\n",
       "      <th>...</th>\n",
       "      <th>PB</th>\n",
       "      <th>RJ</th>\n",
       "      <th>SK</th>\n",
       "      <th>TN</th>\n",
       "      <th>TG</th>\n",
       "      <th>TR</th>\n",
       "      <th>UP</th>\n",
       "      <th>UT</th>\n",
       "      <th>WB</th>\n",
       "      <th>UN</th>\n",
       "    </tr>\n",
       "    <tr>\n",
       "      <th>Status</th>\n",
       "      <th></th>\n",
       "      <th></th>\n",
       "      <th></th>\n",
       "      <th></th>\n",
       "      <th></th>\n",
       "      <th></th>\n",
       "      <th></th>\n",
       "      <th></th>\n",
       "      <th></th>\n",
       "      <th></th>\n",
       "      <th></th>\n",
       "      <th></th>\n",
       "      <th></th>\n",
       "      <th></th>\n",
       "      <th></th>\n",
       "      <th></th>\n",
       "      <th></th>\n",
       "      <th></th>\n",
       "      <th></th>\n",
       "      <th></th>\n",
       "      <th></th>\n",
       "    </tr>\n",
       "  </thead>\n",
       "  <tbody>\n",
       "    <tr>\n",
       "      <th>Confirmed</th>\n",
       "      <td>4366464</td>\n",
       "      <td>3388</td>\n",
       "      <td>517094</td>\n",
       "      <td>5401</td>\n",
       "      <td>130721</td>\n",
       "      <td>150694</td>\n",
       "      <td>6372</td>\n",
       "      <td>50114</td>\n",
       "      <td>2615</td>\n",
       "      <td>0</td>\n",
       "      <td>...</td>\n",
       "      <td>67547</td>\n",
       "      <td>94126</td>\n",
       "      <td>1971</td>\n",
       "      <td>474940</td>\n",
       "      <td>144653</td>\n",
       "      <td>16154</td>\n",
       "      <td>278473</td>\n",
       "      <td>26094</td>\n",
       "      <td>186956</td>\n",
       "      <td>0</td>\n",
       "    </tr>\n",
       "    <tr>\n",
       "      <th>Deceased</th>\n",
       "      <td>73326</td>\n",
       "      <td>50</td>\n",
       "      <td>4560</td>\n",
       "      <td>9</td>\n",
       "      <td>382</td>\n",
       "      <td>765</td>\n",
       "      <td>75</td>\n",
       "      <td>407</td>\n",
       "      <td>2</td>\n",
       "      <td>0</td>\n",
       "      <td>...</td>\n",
       "      <td>1990</td>\n",
       "      <td>1164</td>\n",
       "      <td>7</td>\n",
       "      <td>8015</td>\n",
       "      <td>906</td>\n",
       "      <td>152</td>\n",
       "      <td>4047</td>\n",
       "      <td>360</td>\n",
       "      <td>3677</td>\n",
       "      <td>0</td>\n",
       "    </tr>\n",
       "    <tr>\n",
       "      <th>Recovered</th>\n",
       "      <td>3395432</td>\n",
       "      <td>3026</td>\n",
       "      <td>415765</td>\n",
       "      <td>3723</td>\n",
       "      <td>101240</td>\n",
       "      <td>134089</td>\n",
       "      <td>3960</td>\n",
       "      <td>22792</td>\n",
       "      <td>2309</td>\n",
       "      <td>0</td>\n",
       "      <td>...</td>\n",
       "      <td>49327</td>\n",
       "      <td>77872</td>\n",
       "      <td>1414</td>\n",
       "      <td>416715</td>\n",
       "      <td>112587</td>\n",
       "      <td>9342</td>\n",
       "      <td>211170</td>\n",
       "      <td>17473</td>\n",
       "      <td>160025</td>\n",
       "      <td>0</td>\n",
       "    </tr>\n",
       "  </tbody>\n",
       "</table>\n",
       "<p>3 rows × 39 columns</p>\n",
       "</div>"
      ],
      "text/plain": [
       "                TT    AN      AP    AR      AS      BR    CH     CT    DN  DD  \\\n",
       "Status                                                                          \n",
       "Confirmed  4366464  3388  517094  5401  130721  150694  6372  50114  2615   0   \n",
       "Deceased     73326    50    4560     9     382     765    75    407     2   0   \n",
       "Recovered  3395432  3026  415765  3723  101240  134089  3960  22792  2309   0   \n",
       "\n",
       "           ...     PB     RJ    SK      TN      TG     TR      UP     UT  \\\n",
       "Status     ...                                                             \n",
       "Confirmed  ...  67547  94126  1971  474940  144653  16154  278473  26094   \n",
       "Deceased   ...   1990   1164     7    8015     906    152    4047    360   \n",
       "Recovered  ...  49327  77872  1414  416715  112587   9342  211170  17473   \n",
       "\n",
       "               WB  UN  \n",
       "Status                 \n",
       "Confirmed  186956   0  \n",
       "Deceased     3677   0  \n",
       "Recovered  160025   0  \n",
       "\n",
       "[3 rows x 39 columns]"
      ]
     },
     "execution_count": 7,
     "metadata": {},
     "output_type": "execute_result"
    }
   ],
   "source": [
    "#hide\n",
    "df_yday.head()"
   ]
  },
  {
   "cell_type": "code",
   "execution_count": 8,
   "metadata": {
    "execution": {
     "iopub.execute_input": "2020-09-09T19:12:07.297524Z",
     "iopub.status.busy": "2020-09-09T19:12:07.296954Z",
     "iopub.status.idle": "2020-09-09T19:12:07.299440Z",
     "shell.execute_reply": "2020-09-09T19:12:07.299894Z"
    },
    "papermill": {
     "duration": 0.025728,
     "end_time": "2020-09-09T19:12:07.300021",
     "exception": false,
     "start_time": "2020-09-09T19:12:07.274293",
     "status": "completed"
    },
    "tags": []
   },
   "outputs": [
    {
     "data": {
      "text/plain": [
       "{'updated': '09-Sep-20',\n",
       " 'since': '08-Sep-20',\n",
       " 'Cases': 4461993,\n",
       " 'Deaths': 74494,\n",
       " 'Recovered': 3468489,\n",
       " 'PCases': 4366464,\n",
       " 'PDeaths': 73326,\n",
       " 'PRecovered': 3395432,\n",
       " 'Cases (+)': 95529,\n",
       " 'Deaths (+)': 1168,\n",
       " 'Recovered (+)': 73057}"
      ]
     },
     "execution_count": 8,
     "metadata": {},
     "output_type": "execute_result"
    }
   ],
   "source": [
    "#hide\n",
    "summary = {\n",
    "    'updated' : dt_today,\n",
    "    'since' : dt_yday,\n",
    "    'Cases' : df_today['TT'][0],\n",
    "    'Deaths' : df_today['TT'][1],\n",
    "    'Recovered' : df_today['TT'][2],\n",
    "    'PCases' : df_yday['TT'][0],\n",
    "    'PDeaths' : df_yday['TT'][1],\n",
    "    'PRecovered': df_yday['TT'][2],\n",
    "    'Cases (+)' : df_today['TT'][0] - df_yday['TT'][0],\n",
    "    'Deaths (+)' : df_today['TT'][1] - df_yday['TT'][1],\n",
    "    'Recovered (+)': df_today['TT'][2] - df_yday['TT'][2]\n",
    "}\n",
    "\n",
    "summary"
   ]
  },
  {
   "cell_type": "code",
   "execution_count": 9,
   "metadata": {
    "execution": {
     "iopub.execute_input": "2020-09-09T19:12:07.332092Z",
     "iopub.status.busy": "2020-09-09T19:12:07.331556Z",
     "iopub.status.idle": "2020-09-09T19:12:07.334304Z",
     "shell.execute_reply": "2020-09-09T19:12:07.333852Z"
    },
    "papermill": {
     "duration": 0.021018,
     "end_time": "2020-09-09T19:12:07.334411",
     "exception": false,
     "start_time": "2020-09-09T19:12:07.313393",
     "status": "completed"
    },
    "tags": []
   },
   "outputs": [],
   "source": [
    "#hide\n",
    "overview = '''\n",
    "<!-- #######  HTML!! #########-->\n",
    "<h1 style=\"color: #5e9ca0; text-align: center;\">India</h1>\n",
    "<p style=\"text-align: center;\">Last update: <strong>{update}</strong></p>\n",
    "<p style=\"text-align: center;\">Confirmed cases:</p>\n",
    "<p style=\"text-align: center;font-size:24px;\">{cases} (<span style=\"color: #ff0000;\">+{new}</span>)</p>\n",
    "<p style=\"text-align: center;\">Confirmed deaths:</p>\n",
    "<p style=\"text-align: center;font-size:24px;\">{deaths} (<span style=\"color: #ff0000;\">+{dnew}</span>)</p>\n",
    "<p style=\"text-align: center;\">Recovered cases:</p>\n",
    "<p style=\"text-align: center;font-size:24px;\">{recovered} (<span style=\"color: #00ff00;\">+{rnew}</span>)</p>\n",
    "'''"
   ]
  },
  {
   "cell_type": "code",
   "execution_count": 10,
   "metadata": {
    "execution": {
     "iopub.execute_input": "2020-09-09T19:12:07.368946Z",
     "iopub.status.busy": "2020-09-09T19:12:07.368303Z",
     "iopub.status.idle": "2020-09-09T19:12:07.370772Z",
     "shell.execute_reply": "2020-09-09T19:12:07.371211Z"
    },
    "papermill": {
     "duration": 0.023673,
     "end_time": "2020-09-09T19:12:07.371329",
     "exception": false,
     "start_time": "2020-09-09T19:12:07.347656",
     "status": "completed"
    },
    "tags": []
   },
   "outputs": [
    {
     "data": {
      "text/html": [
       "\n",
       "<!-- #######  HTML!! #########-->\n",
       "<h1 style=\"color: #5e9ca0; text-align: center;\">India</h1>\n",
       "<p style=\"text-align: center;\">Last update: <strong>09-Sep-20</strong></p>\n",
       "<p style=\"text-align: center;\">Confirmed cases:</p>\n",
       "<p style=\"text-align: center;font-size:24px;\">4461993 (<span style=\"color: #ff0000;\">+95529</span>)</p>\n",
       "<p style=\"text-align: center;\">Confirmed deaths:</p>\n",
       "<p style=\"text-align: center;font-size:24px;\">74494 (<span style=\"color: #ff0000;\">+1168</span>)</p>\n",
       "<p style=\"text-align: center;\">Recovered cases:</p>\n",
       "<p style=\"text-align: center;font-size:24px;\">3468489 (<span style=\"color: #00ff00;\">+73057</span>)</p>\n"
      ],
      "text/plain": [
       "<IPython.core.display.HTML object>"
      ]
     },
     "metadata": {},
     "output_type": "display_data"
    }
   ],
   "source": [
    "#hide_input\n",
    "# Fill the above HTML with the information from the summary dictionary\n",
    "\n",
    "update = summary['updated']\n",
    "cases = summary['Cases']\n",
    "new = summary['Cases (+)']\n",
    "deaths = summary['Deaths']\n",
    "dnew = summary['Deaths (+)']\n",
    "recovered = summary['Recovered']\n",
    "rnew = summary['Recovered (+)']\n",
    "\n",
    "html = HTML(overview.format(update=update, cases=cases,new=new,deaths=deaths,dnew=dnew, recovered=recovered, rnew=rnew))\n",
    "\n",
    "display(html)"
   ]
  },
  {
   "cell_type": "code",
   "execution_count": 11,
   "metadata": {
    "execution": {
     "iopub.execute_input": "2020-09-09T19:12:07.405662Z",
     "iopub.status.busy": "2020-09-09T19:12:07.405069Z",
     "iopub.status.idle": "2020-09-09T19:12:07.412412Z",
     "shell.execute_reply": "2020-09-09T19:12:07.411917Z"
    },
    "papermill": {
     "duration": 0.027835,
     "end_time": "2020-09-09T19:12:07.412521",
     "exception": false,
     "start_time": "2020-09-09T19:12:07.384686",
     "status": "completed"
    },
    "tags": []
   },
   "outputs": [],
   "source": [
    "#hide\n",
    "df_cases = df[df['Status'] == 'Confirmed'].copy()\n",
    "df_cases.drop(columns = ['Status'], inplace=True)\n",
    "df_deaths = df[df['Status'] == 'Deceased'].copy()\n",
    "df_deaths.drop(columns = ['Status'], inplace=True)\n",
    "df_recovered = df[df['Status'] == 'Recovered'].copy()\n",
    "df_recovered.drop(columns = ['Status'], inplace=True)"
   ]
  },
  {
   "cell_type": "markdown",
   "metadata": {
    "papermill": {
     "duration": 0.014421,
     "end_time": "2020-09-09T19:12:07.441078",
     "exception": false,
     "start_time": "2020-09-09T19:12:07.426657",
     "status": "completed"
    },
    "tags": []
   },
   "source": [
    "Plot for India:"
   ]
  },
  {
   "cell_type": "code",
   "execution_count": 12,
   "metadata": {
    "execution": {
     "iopub.execute_input": "2020-09-09T19:12:07.475374Z",
     "iopub.status.busy": "2020-09-09T19:12:07.474585Z",
     "iopub.status.idle": "2020-09-09T19:12:07.724416Z",
     "shell.execute_reply": "2020-09-09T19:12:07.724894Z"
    },
    "papermill": {
     "duration": 0.270672,
     "end_time": "2020-09-09T19:12:07.725051",
     "exception": false,
     "start_time": "2020-09-09T19:12:07.454379",
     "status": "completed"
    },
    "tags": []
   },
   "outputs": [
    {
     "data": {
      "image/png": "[encoded data removed]",
      "text/plain": [
       "<Figure size 1296x432 with 1 Axes>"
      ]
     },
     "metadata": {
      "needs_background": "light"
     },
     "output_type": "display_data"
    }
   ],
   "source": [
    "#hide_input\n",
    "plt.figure(figsize = (18,6))\n",
    "plt.plot(df_cases['Date'], df_cases['TT'],'.-', alpha=0.7, color='b', label='Confirmed cases')\n",
    "plt.plot(df_recovered['Date'], df_recovered['TT'],'.-', alpha=0.7, color='g', label='Recovered')\n",
    "plt.plot(df_deaths['Date'], df_deaths['TT'],'.-', alpha=0.7, color='r', label='Deceased')\n",
    "plt.legend()\n",
    "plt.title(\"Cases per day in India\")\n",
    "plt.xticks(ticks=' ')\n",
    "plt.xlabel(f'{df_cases.iloc[0][0]} to {df_cases.iloc[-1][0]}')\n",
    "plt.ylabel('No. of cases');"
   ]
  },
  {
   "cell_type": "markdown",
   "metadata": {
    "papermill": {
     "duration": 0.01769,
     "end_time": "2020-09-09T19:12:07.759976",
     "exception": false,
     "start_time": "2020-09-09T19:12:07.742286",
     "status": "completed"
    },
    "tags": []
   },
   "source": [
    "Plots for the states with highest number of cases:"
   ]
  },
  {
   "cell_type": "code",
   "execution_count": 13,
   "metadata": {
    "execution": {
     "iopub.execute_input": "2020-09-09T19:12:07.802188Z",
     "iopub.status.busy": "2020-09-09T19:12:07.800367Z",
     "iopub.status.idle": "2020-09-09T19:12:08.356455Z",
     "shell.execute_reply": "2020-09-09T19:12:08.355373Z"
    },
    "papermill": {
     "duration": 0.579684,
     "end_time": "2020-09-09T19:12:08.356589",
     "exception": false,
     "start_time": "2020-09-09T19:12:07.776905",
     "status": "completed"
    },
    "tags": []
   },
   "outputs": [
    {
     "data": {
      "image/png": "[encoded data removed]",
      "text/plain": [
       "<Figure size 1512x432 with 3 Axes>"
      ]
     },
     "metadata": {
      "needs_background": "light"
     },
     "output_type": "display_data"
    }
   ],
   "source": [
    "#hide_input\n",
    "top_3 = sorted(df_cases.sum().values[1:], reverse=True)[1:4]\n",
    "top3_states=[]\n",
    "for i in top_3:\n",
    "    top3_states.append(df_cases.sum()[df_cases.sum() == i].index)\n",
    "\n",
    "\n",
    "fig, ax = plt.subplots(1,3,figsize = (21,6))\n",
    "for i in range(3):\n",
    "    state = top3_states[i].values[0]\n",
    "    ax[i].plot(df_cases['Date'], df_cases[state],'.-', color='b', alpha=0.7)\n",
    "    ax[i].plot(df_deaths['Date'], df_deaths[state],'.-', color='r', alpha=0.7)\n",
    "    ax[i].plot(df_recovered['Date'], df_recovered[state],'.-', color='g', alpha=0.7)\n",
    "    \n",
    "    ax[i].set_title(f\"Cases in {state}\")\n",
    "    ax[i].set_xticks(ticks=' ')\n",
    "    ax[i].set_xlabel(f'{df_cases.iloc[0][0]} to {df_cases.iloc[-1][0]}')\n",
    "    ax[i].set_ylabel('No. of cases');"
   ]
  },
  {
   "cell_type": "code",
   "execution_count": null,
   "metadata": {
    "papermill": {
     "duration": 0.019098,
     "end_time": "2020-09-09T19:12:08.393485",
     "exception": false,
     "start_time": "2020-09-09T19:12:08.374387",
     "status": "completed"
    },
    "tags": []
   },
   "outputs": [],
   "source": []
  },
  {
   "cell_type": "code",
   "execution_count": null,
   "metadata": {
    "papermill": {
     "duration": 0.018849,
     "end_time": "2020-09-09T19:12:08.430454",
     "exception": false,
     "start_time": "2020-09-09T19:12:08.411605",
     "status": "completed"
    },
    "tags": []
   },
   "outputs": [],
   "source": []
  },
  {
   "cell_type": "code",
   "execution_count": null,
   "metadata": {
    "papermill": {
     "duration": 0.01798,
     "end_time": "2020-09-09T19:12:08.468212",
     "exception": false,
     "start_time": "2020-09-09T19:12:08.450232",
     "status": "completed"
    },
    "tags": []
   },
   "outputs": [],
   "source": []
  }
 ],
 "metadata": {
  "kernelspec": {
   "display_name": "Python 3",
   "language": "python",
   "name": "python3"
  },
  "language_info": {
   "codemirror_mode": {
    "name": "ipython",
    "version": 3
   },
   "file_extension": ".py",
   "mimetype": "text/x-python",
   "name": "python",
   "nbconvert_exporter": "python",
   "pygments_lexer": "ipython3",
   "version": "3.6.12"
  },
  "papermill": {
   "duration": 3.650838,
   "end_time": "2020-09-09T19:12:08.794251",
   "environment_variables": {},
   "exception": null,
   "input_path": "2020-08-09-DailyUpdate.ipynb",
   "output_path": "2020-08-09-DailyUpdate.ipynb",
   "parameters": {},
   "start_time": "2020-09-09T19:12:05.143413",
   "version": "2.1.2"
  }
 },
 "nbformat": 4,
 "nbformat_minor": 4
}