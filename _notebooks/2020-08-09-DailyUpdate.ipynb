{
 "cells": [
  {
   "cell_type": "markdown",
   "metadata": {
    "papermill": {
     "duration": 0.016334,
     "end_time": "2020-09-13T19:12:50.601488",
     "exception": false,
     "start_time": "2020-09-13T19:12:50.585154",
     "status": "completed"
    },
    "tags": []
   },
   "source": [
    "# COVID-19 India Daily updates\n",
    "> Tracking coronavirus total cases, deaths and new cases in India on a daily basis\n",
    "\n",
    "- author: Vaibhav Mahapatra"
   ]
  },
  {
   "cell_type": "code",
   "execution_count": 1,
   "metadata": {
    "execution": {
     "iopub.execute_input": "2020-09-13T19:12:50.633728Z",
     "iopub.status.busy": "2020-09-13T19:12:50.633051Z",
     "iopub.status.idle": "2020-09-13T19:12:51.278365Z",
     "shell.execute_reply": "2020-09-13T19:12:51.278887Z"
    },
    "papermill": {
     "duration": 0.665002,
     "end_time": "2020-09-13T19:12:51.279098",
     "exception": false,
     "start_time": "2020-09-13T19:12:50.614096",
     "status": "completed"
    },
    "tags": []
   },
   "outputs": [],
   "source": [
    "#hide\n",
    "\n",
    "## Import essential packages below\n",
    "\n",
    "import pandas as pd\n",
    "import numpy as np\n",
    "import requests\n",
    "import json\n",
    "import matplotlib.pyplot as plt\n",
    "import matplotlib.dates as mdates\n",
    "import matplotlib as mpl\n",
    "from IPython.core.display import display,HTML\n",
    "%matplotlib inline"
   ]
  },
  {
   "cell_type": "code",
   "execution_count": 2,
   "metadata": {
    "execution": {
     "iopub.execute_input": "2020-09-13T19:12:51.311300Z",
     "iopub.status.busy": "2020-09-13T19:12:51.310677Z",
     "iopub.status.idle": "2020-09-13T19:12:51.500821Z",
     "shell.execute_reply": "2020-09-13T19:12:51.500298Z"
    },
    "papermill": {
     "duration": 0.208581,
     "end_time": "2020-09-13T19:12:51.500954",
     "exception": false,
     "start_time": "2020-09-13T19:12:51.292373",
     "status": "completed"
    },
    "tags": []
   },
   "outputs": [
    {
     "data": {
      "text/plain": [
       "(552, 41)"
      ]
     },
     "execution_count": 2,
     "metadata": {},
     "output_type": "execute_result"
    }
   ],
   "source": [
    "#hide\n",
    "url = 'https://api.covid19india.org/csv/latest/state_wise_daily.csv'\n",
    "df = pd.read_csv(url)\n",
    "df.shape"
   ]
  },
  {
   "cell_type": "code",
   "execution_count": 3,
   "metadata": {
    "execution": {
     "iopub.execute_input": "2020-09-13T19:12:51.584404Z",
     "iopub.status.busy": "2020-09-13T19:12:51.576916Z",
     "iopub.status.idle": "2020-09-13T19:12:51.588610Z",
     "shell.execute_reply": "2020-09-13T19:12:51.587784Z"
    },
    "papermill": {
     "duration": 0.073776,
     "end_time": "2020-09-13T19:12:51.588759",
     "exception": false,
     "start_time": "2020-09-13T19:12:51.514983",
     "status": "completed"
    },
    "tags": []
   },
   "outputs": [
    {
     "data": {
      "text/html": [
       "<div>\n",
       "<style scoped>\n",
       "    .dataframe tbody tr th:only-of-type {\n",
       "        vertical-align: middle;\n",
       "    }\n",
       "\n",
       "    .dataframe tbody tr th {\n",
       "        vertical-align: top;\n",
       "    }\n",
       "\n",
       "    .dataframe thead th {\n",
       "        text-align: right;\n",
       "    }\n",
       "</style>\n",
       "<table border=\"1\" class=\"dataframe\">\n",
       "  <thead>\n",
       "    <tr style=\"text-align: right;\">\n",
       "      <th></th>\n",
       "      <th>Date</th>\n",
       "      <th>Status</th>\n",
       "      <th>TT</th>\n",
       "      <th>AN</th>\n",
       "      <th>AP</th>\n",
       "      <th>AR</th>\n",
       "      <th>AS</th>\n",
       "      <th>BR</th>\n",
       "      <th>CH</th>\n",
       "      <th>CT</th>\n",
       "      <th>...</th>\n",
       "      <th>PB</th>\n",
       "      <th>RJ</th>\n",
       "      <th>SK</th>\n",
       "      <th>TN</th>\n",
       "      <th>TG</th>\n",
       "      <th>TR</th>\n",
       "      <th>UP</th>\n",
       "      <th>UT</th>\n",
       "      <th>WB</th>\n",
       "      <th>UN</th>\n",
       "    </tr>\n",
       "  </thead>\n",
       "  <tbody>\n",
       "    <tr>\n",
       "      <th>546</th>\n",
       "      <td>12-Sep-20</td>\n",
       "      <td>Confirmed</td>\n",
       "      <td>94409</td>\n",
       "      <td>27</td>\n",
       "      <td>9901</td>\n",
       "      <td>136</td>\n",
       "      <td>2132</td>\n",
       "      <td>1421</td>\n",
       "      <td>250</td>\n",
       "      <td>3120</td>\n",
       "      <td>...</td>\n",
       "      <td>2441</td>\n",
       "      <td>1669</td>\n",
       "      <td>29</td>\n",
       "      <td>5495</td>\n",
       "      <td>2278</td>\n",
       "      <td>470</td>\n",
       "      <td>6786</td>\n",
       "      <td>1115</td>\n",
       "      <td>3161</td>\n",
       "      <td>0</td>\n",
       "    </tr>\n",
       "    <tr>\n",
       "      <th>547</th>\n",
       "      <td>12-Sep-20</td>\n",
       "      <td>Recovered</td>\n",
       "      <td>77860</td>\n",
       "      <td>45</td>\n",
       "      <td>10292</td>\n",
       "      <td>127</td>\n",
       "      <td>2553</td>\n",
       "      <td>1700</td>\n",
       "      <td>264</td>\n",
       "      <td>855</td>\n",
       "      <td>...</td>\n",
       "      <td>2077</td>\n",
       "      <td>932</td>\n",
       "      <td>17</td>\n",
       "      <td>6227</td>\n",
       "      <td>2458</td>\n",
       "      <td>479</td>\n",
       "      <td>6085</td>\n",
       "      <td>603</td>\n",
       "      <td>3042</td>\n",
       "      <td>0</td>\n",
       "    </tr>\n",
       "    <tr>\n",
       "      <th>548</th>\n",
       "      <td>12-Sep-20</td>\n",
       "      <td>Deceased</td>\n",
       "      <td>1111</td>\n",
       "      <td>0</td>\n",
       "      <td>67</td>\n",
       "      <td>0</td>\n",
       "      <td>23</td>\n",
       "      <td>11</td>\n",
       "      <td>6</td>\n",
       "      <td>21</td>\n",
       "      <td>...</td>\n",
       "      <td>76</td>\n",
       "      <td>14</td>\n",
       "      <td>2</td>\n",
       "      <td>76</td>\n",
       "      <td>10</td>\n",
       "      <td>10</td>\n",
       "      <td>67</td>\n",
       "      <td>14</td>\n",
       "      <td>59</td>\n",
       "      <td>0</td>\n",
       "    </tr>\n",
       "    <tr>\n",
       "      <th>549</th>\n",
       "      <td>13-Sep-20</td>\n",
       "      <td>Confirmed</td>\n",
       "      <td>89815</td>\n",
       "      <td>25</td>\n",
       "      <td>9536</td>\n",
       "      <td>160</td>\n",
       "      <td>1292</td>\n",
       "      <td>1523</td>\n",
       "      <td>449</td>\n",
       "      <td>2228</td>\n",
       "      <td>...</td>\n",
       "      <td>2622</td>\n",
       "      <td>1703</td>\n",
       "      <td>0</td>\n",
       "      <td>5693</td>\n",
       "      <td>2216</td>\n",
       "      <td>629</td>\n",
       "      <td>6205</td>\n",
       "      <td>1637</td>\n",
       "      <td>3215</td>\n",
       "      <td>0</td>\n",
       "    </tr>\n",
       "    <tr>\n",
       "      <th>550</th>\n",
       "      <td>13-Sep-20</td>\n",
       "      <td>Recovered</td>\n",
       "      <td>72951</td>\n",
       "      <td>41</td>\n",
       "      <td>10131</td>\n",
       "      <td>126</td>\n",
       "      <td>2251</td>\n",
       "      <td>1895</td>\n",
       "      <td>306</td>\n",
       "      <td>1015</td>\n",
       "      <td>...</td>\n",
       "      <td>2151</td>\n",
       "      <td>1616</td>\n",
       "      <td>0</td>\n",
       "      <td>5717</td>\n",
       "      <td>2603</td>\n",
       "      <td>398</td>\n",
       "      <td>5958</td>\n",
       "      <td>1009</td>\n",
       "      <td>3054</td>\n",
       "      <td>0</td>\n",
       "    </tr>\n",
       "    <tr>\n",
       "      <th>551</th>\n",
       "      <td>13-Sep-20</td>\n",
       "      <td>Deceased</td>\n",
       "      <td>1092</td>\n",
       "      <td>0</td>\n",
       "      <td>66</td>\n",
       "      <td>0</td>\n",
       "      <td>0</td>\n",
       "      <td>14</td>\n",
       "      <td>1</td>\n",
       "      <td>1</td>\n",
       "      <td>...</td>\n",
       "      <td>68</td>\n",
       "      <td>15</td>\n",
       "      <td>0</td>\n",
       "      <td>74</td>\n",
       "      <td>11</td>\n",
       "      <td>12</td>\n",
       "      <td>80</td>\n",
       "      <td>12</td>\n",
       "      <td>58</td>\n",
       "      <td>0</td>\n",
       "    </tr>\n",
       "  </tbody>\n",
       "</table>\n",
       "<p>6 rows × 41 columns</p>\n",
       "</div>"
      ],
      "text/plain": [
       "          Date     Status     TT  AN     AP   AR    AS    BR   CH    CT  ...  \\\n",
       "546  12-Sep-20  Confirmed  94409  27   9901  136  2132  1421  250  3120  ...   \n",
       "547  12-Sep-20  Recovered  77860  45  10292  127  2553  1700  264   855  ...   \n",
       "548  12-Sep-20   Deceased   1111   0     67    0    23    11    6    21  ...   \n",
       "549  13-Sep-20  Confirmed  89815  25   9536  160  1292  1523  449  2228  ...   \n",
       "550  13-Sep-20  Recovered  72951  41  10131  126  2251  1895  306  1015  ...   \n",
       "551  13-Sep-20   Deceased   1092   0     66    0     0    14    1     1  ...   \n",
       "\n",
       "       PB    RJ  SK    TN    TG   TR    UP    UT    WB  UN  \n",
       "546  2441  1669  29  5495  2278  470  6786  1115  3161   0  \n",
       "547  2077   932  17  6227  2458  479  6085   603  3042   0  \n",
       "548    76    14   2    76    10   10    67    14    59   0  \n",
       "549  2622  1703   0  5693  2216  629  6205  1637  3215   0  \n",
       "550  2151  1616   0  5717  2603  398  5958  1009  3054   0  \n",
       "551    68    15   0    74    11   12    80    12    58   0  \n",
       "\n",
       "[6 rows x 41 columns]"
      ]
     },
     "execution_count": 3,
     "metadata": {},
     "output_type": "execute_result"
    }
   ],
   "source": [
    "#hide\n",
    "df.tail(6)"
   ]
  },
  {
   "cell_type": "code",
   "execution_count": 4,
   "metadata": {
    "execution": {
     "iopub.execute_input": "2020-09-13T19:12:51.622323Z",
     "iopub.status.busy": "2020-09-13T19:12:51.621639Z",
     "iopub.status.idle": "2020-09-13T19:12:51.624626Z",
     "shell.execute_reply": "2020-09-13T19:12:51.625197Z"
    },
    "papermill": {
     "duration": 0.023033,
     "end_time": "2020-09-13T19:12:51.625359",
     "exception": false,
     "start_time": "2020-09-13T19:12:51.602326",
     "status": "completed"
    },
    "tags": []
   },
   "outputs": [
    {
     "data": {
      "text/plain": [
       "('13-Sep-20', '12-Sep-20')"
      ]
     },
     "execution_count": 4,
     "metadata": {},
     "output_type": "execute_result"
    }
   ],
   "source": [
    "#hide\n",
    "dt_today = df.iloc[-1][0]\n",
    "dt_yday = df.iloc[-4][0]\n",
    "dt_today, dt_yday"
   ]
  },
  {
   "cell_type": "code",
   "execution_count": 5,
   "metadata": {
    "execution": {
     "iopub.execute_input": "2020-09-13T19:12:51.660875Z",
     "iopub.status.busy": "2020-09-13T19:12:51.660174Z",
     "iopub.status.idle": "2020-09-13T19:12:51.666382Z",
     "shell.execute_reply": "2020-09-13T19:12:51.667107Z"
    },
    "papermill": {
     "duration": 0.027232,
     "end_time": "2020-09-13T19:12:51.667249",
     "exception": false,
     "start_time": "2020-09-13T19:12:51.640017",
     "status": "completed"
    },
    "tags": []
   },
   "outputs": [],
   "source": [
    "#hide\n",
    "df_today = df.groupby('Status').sum()\n",
    "df_yday = df.iloc[:-3][:].groupby('Status').sum()"
   ]
  },
  {
   "cell_type": "code",
   "execution_count": 6,
   "metadata": {
    "execution": {
     "iopub.execute_input": "2020-09-13T19:12:51.711233Z",
     "iopub.status.busy": "2020-09-13T19:12:51.710489Z",
     "iopub.status.idle": "2020-09-13T19:12:51.722035Z",
     "shell.execute_reply": "2020-09-13T19:12:51.721401Z"
    },
    "papermill": {
     "duration": 0.041408,
     "end_time": "2020-09-13T19:12:51.722183",
     "exception": false,
     "start_time": "2020-09-13T19:12:51.680775",
     "status": "completed"
    },
    "tags": []
   },
   "outputs": [
    {
     "data": {
      "text/html": [
       "<div>\n",
       "<style scoped>\n",
       "    .dataframe tbody tr th:only-of-type {\n",
       "        vertical-align: middle;\n",
       "    }\n",
       "\n",
       "    .dataframe tbody tr th {\n",
       "        vertical-align: top;\n",
       "    }\n",
       "\n",
       "    .dataframe thead th {\n",
       "        text-align: right;\n",
       "    }\n",
       "</style>\n",
       "<table border=\"1\" class=\"dataframe\">\n",
       "  <thead>\n",
       "    <tr style=\"text-align: right;\">\n",
       "      <th></th>\n",
       "      <th>TT</th>\n",
       "      <th>AN</th>\n",
       "      <th>AP</th>\n",
       "      <th>AR</th>\n",
       "      <th>AS</th>\n",
       "      <th>BR</th>\n",
       "      <th>CH</th>\n",
       "      <th>CT</th>\n",
       "      <th>DN</th>\n",
       "      <th>DD</th>\n",
       "      <th>...</th>\n",
       "      <th>PB</th>\n",
       "      <th>RJ</th>\n",
       "      <th>SK</th>\n",
       "      <th>TN</th>\n",
       "      <th>TG</th>\n",
       "      <th>TR</th>\n",
       "      <th>UP</th>\n",
       "      <th>UT</th>\n",
       "      <th>WB</th>\n",
       "      <th>UN</th>\n",
       "    </tr>\n",
       "    <tr>\n",
       "      <th>Status</th>\n",
       "      <th></th>\n",
       "      <th></th>\n",
       "      <th></th>\n",
       "      <th></th>\n",
       "      <th></th>\n",
       "      <th></th>\n",
       "      <th></th>\n",
       "      <th></th>\n",
       "      <th></th>\n",
       "      <th></th>\n",
       "      <th></th>\n",
       "      <th></th>\n",
       "      <th></th>\n",
       "      <th></th>\n",
       "      <th></th>\n",
       "      <th></th>\n",
       "      <th></th>\n",
       "      <th></th>\n",
       "      <th></th>\n",
       "      <th></th>\n",
       "      <th></th>\n",
       "    </tr>\n",
       "  </thead>\n",
       "  <tbody>\n",
       "    <tr>\n",
       "      <th>Confirmed</th>\n",
       "      <td>4840975</td>\n",
       "      <td>3542</td>\n",
       "      <td>567123</td>\n",
       "      <td>6121</td>\n",
       "      <td>141661</td>\n",
       "      <td>158389</td>\n",
       "      <td>7991</td>\n",
       "      <td>63991</td>\n",
       "      <td>2723</td>\n",
       "      <td>0</td>\n",
       "      <td>...</td>\n",
       "      <td>79679</td>\n",
       "      <td>102408</td>\n",
       "      <td>2068</td>\n",
       "      <td>502759</td>\n",
       "      <td>156586</td>\n",
       "      <td>18929</td>\n",
       "      <td>312036</td>\n",
       "      <td>31973</td>\n",
       "      <td>202708</td>\n",
       "      <td>0</td>\n",
       "    </tr>\n",
       "    <tr>\n",
       "      <th>Deceased</th>\n",
       "      <td>79121</td>\n",
       "      <td>51</td>\n",
       "      <td>4912</td>\n",
       "      <td>10</td>\n",
       "      <td>457</td>\n",
       "      <td>822</td>\n",
       "      <td>90</td>\n",
       "      <td>540</td>\n",
       "      <td>2</td>\n",
       "      <td>0</td>\n",
       "      <td>...</td>\n",
       "      <td>2356</td>\n",
       "      <td>1236</td>\n",
       "      <td>13</td>\n",
       "      <td>8381</td>\n",
       "      <td>961</td>\n",
       "      <td>194</td>\n",
       "      <td>4429</td>\n",
       "      <td>414</td>\n",
       "      <td>3945</td>\n",
       "      <td>0</td>\n",
       "    </tr>\n",
       "    <tr>\n",
       "      <th>Recovered</th>\n",
       "      <td>3772242</td>\n",
       "      <td>3234</td>\n",
       "      <td>467139</td>\n",
       "      <td>4379</td>\n",
       "      <td>113134</td>\n",
       "      <td>143053</td>\n",
       "      <td>5170</td>\n",
       "      <td>28993</td>\n",
       "      <td>2460</td>\n",
       "      <td>0</td>\n",
       "      <td>...</td>\n",
       "      <td>57536</td>\n",
       "      <td>84518</td>\n",
       "      <td>1504</td>\n",
       "      <td>447366</td>\n",
       "      <td>124528</td>\n",
       "      <td>11132</td>\n",
       "      <td>239485</td>\n",
       "      <td>21040</td>\n",
       "      <td>175139</td>\n",
       "      <td>0</td>\n",
       "    </tr>\n",
       "  </tbody>\n",
       "</table>\n",
       "<p>3 rows × 39 columns</p>\n",
       "</div>"
      ],
      "text/plain": [
       "                TT    AN      AP    AR      AS      BR    CH     CT    DN  DD  \\\n",
       "Status                                                                          \n",
       "Confirmed  4840975  3542  567123  6121  141661  158389  7991  63991  2723   0   \n",
       "Deceased     79121    51    4912    10     457     822    90    540     2   0   \n",
       "Recovered  3772242  3234  467139  4379  113134  143053  5170  28993  2460   0   \n",
       "\n",
       "           ...     PB      RJ    SK      TN      TG     TR      UP     UT  \\\n",
       "Status     ...                                                              \n",
       "Confirmed  ...  79679  102408  2068  502759  156586  18929  312036  31973   \n",
       "Deceased   ...   2356    1236    13    8381     961    194    4429    414   \n",
       "Recovered  ...  57536   84518  1504  447366  124528  11132  239485  21040   \n",
       "\n",
       "               WB  UN  \n",
       "Status                 \n",
       "Confirmed  202708   0  \n",
       "Deceased     3945   0  \n",
       "Recovered  175139   0  \n",
       "\n",
       "[3 rows x 39 columns]"
      ]
     },
     "execution_count": 6,
     "metadata": {},
     "output_type": "execute_result"
    }
   ],
   "source": [
    "#hide\n",
    "df_today"
   ]
  },
  {
   "cell_type": "code",
   "execution_count": 7,
   "metadata": {
    "execution": {
     "iopub.execute_input": "2020-09-13T19:12:51.772555Z",
     "iopub.status.busy": "2020-09-13T19:12:51.771314Z",
     "iopub.status.idle": "2020-09-13T19:12:51.775223Z",
     "shell.execute_reply": "2020-09-13T19:12:51.774680Z"
    },
    "papermill": {
     "duration": 0.037091,
     "end_time": "2020-09-13T19:12:51.775383",
     "exception": false,
     "start_time": "2020-09-13T19:12:51.738292",
     "status": "completed"
    },
    "tags": []
   },
   "outputs": [
    {
     "data": {
      "text/html": [
       "<div>\n",
       "<style scoped>\n",
       "    .dataframe tbody tr th:only-of-type {\n",
       "        vertical-align: middle;\n",
       "    }\n",
       "\n",
       "    .dataframe tbody tr th {\n",
       "        vertical-align: top;\n",
       "    }\n",
       "\n",
       "    .dataframe thead th {\n",
       "        text-align: right;\n",
       "    }\n",
       "</style>\n",
       "<table border=\"1\" class=\"dataframe\">\n",
       "  <thead>\n",
       "    <tr style=\"text-align: right;\">\n",
       "      <th></th>\n",
       "      <th>TT</th>\n",
       "      <th>AN</th>\n",
       "      <th>AP</th>\n",
       "      <th>AR</th>\n",
       "      <th>AS</th>\n",
       "      <th>BR</th>\n",
       "      <th>CH</th>\n",
       "      <th>CT</th>\n",
       "      <th>DN</th>\n",
       "      <th>DD</th>\n",
       "      <th>...</th>\n",
       "      <th>PB</th>\n",
       "      <th>RJ</th>\n",
       "      <th>SK</th>\n",
       "      <th>TN</th>\n",
       "      <th>TG</th>\n",
       "      <th>TR</th>\n",
       "      <th>UP</th>\n",
       "      <th>UT</th>\n",
       "      <th>WB</th>\n",
       "      <th>UN</th>\n",
       "    </tr>\n",
       "    <tr>\n",
       "      <th>Status</th>\n",
       "      <th></th>\n",
       "      <th></th>\n",
       "      <th></th>\n",
       "      <th></th>\n",
       "      <th></th>\n",
       "      <th></th>\n",
       "      <th></th>\n",
       "      <th></th>\n",
       "      <th></th>\n",
       "      <th></th>\n",
       "      <th></th>\n",
       "      <th></th>\n",
       "      <th></th>\n",
       "      <th></th>\n",
       "      <th></th>\n",
       "      <th></th>\n",
       "      <th></th>\n",
       "      <th></th>\n",
       "      <th></th>\n",
       "      <th></th>\n",
       "      <th></th>\n",
       "    </tr>\n",
       "  </thead>\n",
       "  <tbody>\n",
       "    <tr>\n",
       "      <th>Confirmed</th>\n",
       "      <td>4751160</td>\n",
       "      <td>3517</td>\n",
       "      <td>557587</td>\n",
       "      <td>5961</td>\n",
       "      <td>140369</td>\n",
       "      <td>156866</td>\n",
       "      <td>7542</td>\n",
       "      <td>61763</td>\n",
       "      <td>2708</td>\n",
       "      <td>0</td>\n",
       "      <td>...</td>\n",
       "      <td>77057</td>\n",
       "      <td>100705</td>\n",
       "      <td>2068</td>\n",
       "      <td>497066</td>\n",
       "      <td>154370</td>\n",
       "      <td>18300</td>\n",
       "      <td>305831</td>\n",
       "      <td>30336</td>\n",
       "      <td>199493</td>\n",
       "      <td>0</td>\n",
       "    </tr>\n",
       "    <tr>\n",
       "      <th>Deceased</th>\n",
       "      <td>78029</td>\n",
       "      <td>51</td>\n",
       "      <td>4846</td>\n",
       "      <td>10</td>\n",
       "      <td>457</td>\n",
       "      <td>808</td>\n",
       "      <td>89</td>\n",
       "      <td>539</td>\n",
       "      <td>2</td>\n",
       "      <td>0</td>\n",
       "      <td>...</td>\n",
       "      <td>2288</td>\n",
       "      <td>1221</td>\n",
       "      <td>13</td>\n",
       "      <td>8307</td>\n",
       "      <td>950</td>\n",
       "      <td>182</td>\n",
       "      <td>4349</td>\n",
       "      <td>402</td>\n",
       "      <td>3887</td>\n",
       "      <td>0</td>\n",
       "    </tr>\n",
       "    <tr>\n",
       "      <th>Recovered</th>\n",
       "      <td>3699291</td>\n",
       "      <td>3193</td>\n",
       "      <td>457008</td>\n",
       "      <td>4253</td>\n",
       "      <td>110883</td>\n",
       "      <td>141158</td>\n",
       "      <td>4864</td>\n",
       "      <td>27978</td>\n",
       "      <td>2418</td>\n",
       "      <td>0</td>\n",
       "      <td>...</td>\n",
       "      <td>55385</td>\n",
       "      <td>82902</td>\n",
       "      <td>1504</td>\n",
       "      <td>441649</td>\n",
       "      <td>121925</td>\n",
       "      <td>10734</td>\n",
       "      <td>233527</td>\n",
       "      <td>20031</td>\n",
       "      <td>172085</td>\n",
       "      <td>0</td>\n",
       "    </tr>\n",
       "  </tbody>\n",
       "</table>\n",
       "<p>3 rows × 39 columns</p>\n",
       "</div>"
      ],
      "text/plain": [
       "                TT    AN      AP    AR      AS      BR    CH     CT    DN  DD  \\\n",
       "Status                                                                          \n",
       "Confirmed  4751160  3517  557587  5961  140369  156866  7542  61763  2708   0   \n",
       "Deceased     78029    51    4846    10     457     808    89    539     2   0   \n",
       "Recovered  3699291  3193  457008  4253  110883  141158  4864  27978  2418   0   \n",
       "\n",
       "           ...     PB      RJ    SK      TN      TG     TR      UP     UT  \\\n",
       "Status     ...                                                              \n",
       "Confirmed  ...  77057  100705  2068  497066  154370  18300  305831  30336   \n",
       "Deceased   ...   2288    1221    13    8307     950    182    4349    402   \n",
       "Recovered  ...  55385   82902  1504  441649  121925  10734  233527  20031   \n",
       "\n",
       "               WB  UN  \n",
       "Status                 \n",
       "Confirmed  199493   0  \n",
       "Deceased     3887   0  \n",
       "Recovered  172085   0  \n",
       "\n",
       "[3 rows x 39 columns]"
      ]
     },
     "execution_count": 7,
     "metadata": {},
     "output_type": "execute_result"
    }
   ],
   "source": [
    "#hide\n",
    "df_yday.head()"
   ]
  },
  {
   "cell_type": "code",
   "execution_count": 8,
   "metadata": {
    "execution": {
     "iopub.execute_input": "2020-09-13T19:12:51.816259Z",
     "iopub.status.busy": "2020-09-13T19:12:51.815538Z",
     "iopub.status.idle": "2020-09-13T19:12:51.818943Z",
     "shell.execute_reply": "2020-09-13T19:12:51.818306Z"
    },
    "papermill": {
     "duration": 0.028244,
     "end_time": "2020-09-13T19:12:51.819125",
     "exception": false,
     "start_time": "2020-09-13T19:12:51.790881",
     "status": "completed"
    },
    "tags": []
   },
   "outputs": [
    {
     "data": {
      "text/plain": [
       "{'updated': '13-Sep-20',\n",
       " 'since': '12-Sep-20',\n",
       " 'Cases': 4840975,\n",
       " 'Deaths': 79121,\n",
       " 'Recovered': 3772242,\n",
       " 'PCases': 4751160,\n",
       " 'PDeaths': 78029,\n",
       " 'PRecovered': 3699291,\n",
       " 'Cases (+)': 89815,\n",
       " 'Deaths (+)': 1092,\n",
       " 'Recovered (+)': 72951}"
      ]
     },
     "execution_count": 8,
     "metadata": {},
     "output_type": "execute_result"
    }
   ],
   "source": [
    "#hide\n",
    "summary = {\n",
    "    'updated' : dt_today,\n",
    "    'since' : dt_yday,\n",
    "    'Cases' : df_today['TT'][0],\n",
    "    'Deaths' : df_today['TT'][1],\n",
    "    'Recovered' : df_today['TT'][2],\n",
    "    'PCases' : df_yday['TT'][0],\n",
    "    'PDeaths' : df_yday['TT'][1],\n",
    "    'PRecovered': df_yday['TT'][2],\n",
    "    'Cases (+)' : df_today['TT'][0] - df_yday['TT'][0],\n",
    "    'Deaths (+)' : df_today['TT'][1] - df_yday['TT'][1],\n",
    "    'Recovered (+)': df_today['TT'][2] - df_yday['TT'][2]\n",
    "}\n",
    "\n",
    "summary"
   ]
  },
  {
   "cell_type": "code",
   "execution_count": 9,
   "metadata": {
    "execution": {
     "iopub.execute_input": "2020-09-13T19:12:51.858856Z",
     "iopub.status.busy": "2020-09-13T19:12:51.858081Z",
     "iopub.status.idle": "2020-09-13T19:12:51.860773Z",
     "shell.execute_reply": "2020-09-13T19:12:51.860214Z"
    },
    "papermill": {
     "duration": 0.025073,
     "end_time": "2020-09-13T19:12:51.860914",
     "exception": false,
     "start_time": "2020-09-13T19:12:51.835841",
     "status": "completed"
    },
    "tags": []
   },
   "outputs": [],
   "source": [
    "#hide\n",
    "overview = '''\n",
    "<!-- #######  HTML!! #########-->\n",
    "<h1 style=\"color: #5e9ca0; text-align: center;\">India</h1>\n",
    "<p style=\"text-align: center;\">Last update: <strong>{update}</strong></p>\n",
    "<p style=\"text-align: center;\">Confirmed cases:</p>\n",
    "<p style=\"text-align: center;font-size:24px;\">{cases} (<span style=\"color: #ff0000;\">+{new}</span>)</p>\n",
    "<p style=\"text-align: center;\">Confirmed deaths:</p>\n",
    "<p style=\"text-align: center;font-size:24px;\">{deaths} (<span style=\"color: #ff0000;\">+{dnew}</span>)</p>\n",
    "<p style=\"text-align: center;\">Recovered cases:</p>\n",
    "<p style=\"text-align: center;font-size:24px;\">{recovered} (<span style=\"color: #00ff00;\">+{rnew}</span>)</p>\n",
    "'''"
   ]
  },
  {
   "cell_type": "code",
   "execution_count": 10,
   "metadata": {
    "execution": {
     "iopub.execute_input": "2020-09-13T19:12:51.900109Z",
     "iopub.status.busy": "2020-09-13T19:12:51.899451Z",
     "iopub.status.idle": "2020-09-13T19:12:51.903580Z",
     "shell.execute_reply": "2020-09-13T19:12:51.904284Z"
    },
    "papermill": {
     "duration": 0.027219,
     "end_time": "2020-09-13T19:12:51.904457",
     "exception": false,
     "start_time": "2020-09-13T19:12:51.877238",
     "status": "completed"
    },
    "tags": []
   },
   "outputs": [
    {
     "data": {
      "text/html": [
       "\n",
       "<!-- #######  HTML!! #########-->\n",
       "<h1 style=\"color: #5e9ca0; text-align: center;\">India</h1>\n",
       "<p style=\"text-align: center;\">Last update: <strong>13-Sep-20</strong></p>\n",
       "<p style=\"text-align: center;\">Confirmed cases:</p>\n",
       "<p style=\"text-align: center;font-size:24px;\">4840975 (<span style=\"color: #ff0000;\">+89815</span>)</p>\n",
       "<p style=\"text-align: center;\">Confirmed deaths:</p>\n",
       "<p style=\"text-align: center;font-size:24px;\">79121 (<span style=\"color: #ff0000;\">+1092</span>)</p>\n",
       "<p style=\"text-align: center;\">Recovered cases:</p>\n",
       "<p style=\"text-align: center;font-size:24px;\">3772242 (<span style=\"color: #00ff00;\">+72951</span>)</p>\n"
      ],
      "text/plain": [
       "<IPython.core.display.HTML object>"
      ]
     },
     "metadata": {},
     "output_type": "display_data"
    }
   ],
   "source": [
    "#hide_input\n",
    "# Fill the above HTML with the information from the summary dictionary\n",
    "\n",
    "update = summary['updated']\n",
    "cases = summary['Cases']\n",
    "new = summary['Cases (+)']\n",
    "deaths = summary['Deaths']\n",
    "dnew = summary['Deaths (+)']\n",
    "recovered = summary['Recovered']\n",
    "rnew = summary['Recovered (+)']\n",
    "\n",
    "html = HTML(overview.format(update=update, cases=cases,new=new,deaths=deaths,dnew=dnew, recovered=recovered, rnew=rnew))\n",
    "\n",
    "display(html)"
   ]
  },
  {
   "cell_type": "code",
   "execution_count": 11,
   "metadata": {
    "execution": {
     "iopub.execute_input": "2020-09-13T19:12:51.944442Z",
     "iopub.status.busy": "2020-09-13T19:12:51.943712Z",
     "iopub.status.idle": "2020-09-13T19:12:51.951531Z",
     "shell.execute_reply": "2020-09-13T19:12:51.952073Z"
    },
    "papermill": {
     "duration": 0.031178,
     "end_time": "2020-09-13T19:12:51.952248",
     "exception": false,
     "start_time": "2020-09-13T19:12:51.921070",
     "status": "completed"
    },
    "tags": []
   },
   "outputs": [],
   "source": [
    "#hide\n",
    "df_cases = df[df['Status'] == 'Confirmed'].copy()\n",
    "df_cases.drop(columns = ['Status'], inplace=True)\n",
    "df_deaths = df[df['Status'] == 'Deceased'].copy()\n",
    "df_deaths.drop(columns = ['Status'], inplace=True)\n",
    "df_recovered = df[df['Status'] == 'Recovered'].copy()\n",
    "df_recovered.drop(columns = ['Status'], inplace=True)"
   ]
  },
  {
   "cell_type": "markdown",
   "metadata": {
    "papermill": {
     "duration": 0.017704,
     "end_time": "2020-09-13T19:12:51.987730",
     "exception": false,
     "start_time": "2020-09-13T19:12:51.970026",
     "status": "completed"
    },
    "tags": []
   },
   "source": [
    "Plot for India:"
   ]
  },
  {
   "cell_type": "code",
   "execution_count": 12,
   "metadata": {
    "execution": {
     "iopub.execute_input": "2020-09-13T19:12:52.031980Z",
     "iopub.status.busy": "2020-09-13T19:12:52.031266Z",
     "iopub.status.idle": "2020-09-13T19:12:52.337444Z",
     "shell.execute_reply": "2020-09-13T19:12:52.338156Z"
    },
    "papermill": {
     "duration": 0.332853,
     "end_time": "2020-09-13T19:12:52.338344",
     "exception": false,
     "start_time": "2020-09-13T19:12:52.005491",
     "status": "completed"
    },
    "tags": []
   },
   "outputs": [
    {
     "data": {
      "image/png": "[encoded data removed]",
      "text/plain": [
       "<Figure size 1296x432 with 1 Axes>"
      ]
     },
     "metadata": {
      "needs_background": "light"
     },
     "output_type": "display_data"
    }
   ],
   "source": [
    "#hide_input\n",
    "plt.figure(figsize = (18,6))\n",
    "plt.plot(df_cases['Date'], df_cases['TT'],'.-', alpha=0.7, color='b', label='Confirmed cases')\n",
    "plt.plot(df_recovered['Date'], df_recovered['TT'],'.-', alpha=0.7, color='g', label='Recovered')\n",
    "plt.plot(df_deaths['Date'], df_deaths['TT'],'.-', alpha=0.7, color='r', label='Deceased')\n",
    "plt.legend()\n",
    "plt.title(\"Cases per day in India\")\n",
    "plt.xticks(ticks=' ')\n",
    "plt.xlabel(f'{df_cases.iloc[0][0]} to {df_cases.iloc[-1][0]}')\n",
    "plt.ylabel('No. of cases');"
   ]
  },
  {
   "cell_type": "markdown",
   "metadata": {
    "papermill": {
     "duration": 0.01852,
     "end_time": "2020-09-13T19:12:52.375269",
     "exception": false,
     "start_time": "2020-09-13T19:12:52.356749",
     "status": "completed"
    },
    "tags": []
   },
   "source": [
    "Plots for the states with highest number of cases:"
   ]
  },
  {
   "cell_type": "code",
   "execution_count": 13,
   "metadata": {
    "execution": {
     "iopub.execute_input": "2020-09-13T19:12:52.422781Z",
     "iopub.status.busy": "2020-09-13T19:12:52.422087Z",
     "iopub.status.idle": "2020-09-13T19:12:53.137899Z",
     "shell.execute_reply": "2020-09-13T19:12:53.138402Z"
    },
    "papermill": {
     "duration": 0.745334,
     "end_time": "2020-09-13T19:12:53.138577",
     "exception": false,
     "start_time": "2020-09-13T19:12:52.393243",
     "status": "completed"
    },
    "tags": []
   },
   "outputs": [
    {
     "data": {
      "image/png": "[encoded data removed]",
      "text/plain": [
       "<Figure size 1512x432 with 3 Axes>"
      ]
     },
     "metadata": {
      "needs_background": "light"
     },
     "output_type": "display_data"
    }
   ],
   "source": [
    "#hide_input\n",
    "top_3 = sorted(df_cases.sum().values[1:], reverse=True)[1:4]\n",
    "top3_states=[]\n",
    "for i in top_3:\n",
    "    top3_states.append(df_cases.sum()[df_cases.sum() == i].index)\n",
    "\n",
    "\n",
    "fig, ax = plt.subplots(1,3,figsize = (21,6))\n",
    "for i in range(3):\n",
    "    state = top3_states[i].values[0]\n",
    "    ax[i].plot(df_cases['Date'], df_cases[state],'.-', color='b', alpha=0.7)\n",
    "    ax[i].plot(df_deaths['Date'], df_deaths[state],'.-', color='r', alpha=0.7)\n",
    "    ax[i].plot(df_recovered['Date'], df_recovered[state],'.-', color='g', alpha=0.7)\n",
    "    \n",
    "    ax[i].set_title(f\"Cases in {state}\")\n",
    "    ax[i].set_xticks(ticks=' ')\n",
    "    ax[i].set_xlabel(f'{df_cases.iloc[0][0]} to {df_cases.iloc[-1][0]}')\n",
    "    ax[i].set_ylabel('No. of cases');"
   ]
  },
  {
   "cell_type": "code",
   "execution_count": null,
   "metadata": {
    "papermill": {
     "duration": 0.020247,
     "end_time": "2020-09-13T19:12:53.179470",
     "exception": false,
     "start_time": "2020-09-13T19:12:53.159223",
     "status": "completed"
    },
    "tags": []
   },
   "outputs": [],
   "source": []
  },
  {
   "cell_type": "code",
   "execution_count": null,
   "metadata": {
    "papermill": {
     "duration": 0.020461,
     "end_time": "2020-09-13T19:12:53.220235",
     "exception": false,
     "start_time": "2020-09-13T19:12:53.199774",
     "status": "completed"
    },
    "tags": []
   },
   "outputs": [],
   "source": []
  },
  {
   "cell_type": "code",
   "execution_count": null,
   "metadata": {
    "papermill": {
     "duration": 0.021744,
     "end_time": "2020-09-13T19:12:53.262112",
     "exception": false,
     "start_time": "2020-09-13T19:12:53.240368",
     "status": "completed"
    },
    "tags": []
   },
   "outputs": [],
   "source": []
  }
 ],
 "metadata": {
  "kernelspec": {
   "display_name": "Python 3",
   "language": "python",
   "name": "python3"
  },
  "language_info": {
   "codemirror_mode": {
    "name": "ipython",
    "version": 3
   },
   "file_extension": ".py",
   "mimetype": "text/x-python",
   "name": "python",
   "nbconvert_exporter": "python",
   "pygments_lexer": "ipython3",
   "version": "3.6.12"
  },
  "papermill": {
   "duration": 4.131393,
   "end_time": "2020-09-13T19:12:53.590547",
   "environment_variables": {},
   "exception": null,
   "input_path": "2020-08-09-DailyUpdate.ipynb",
   "output_path": "2020-08-09-DailyUpdate.ipynb",
   "parameters": {},
   "start_time": "2020-09-13T19:12:49.459154",
   "version": "2.1.2"
  }
 },
 "nbformat": 4,
 "nbformat_minor": 4
}