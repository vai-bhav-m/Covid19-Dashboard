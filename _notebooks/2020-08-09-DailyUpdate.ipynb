{
 "cells": [
  {
   "cell_type": "markdown",
   "metadata": {
    "tags": [
     "papermill-error-cell-tag"
    ]
   },
   "source": [
    "<span style=\"color:red; font-family:Helvetica Neue, Helvetica, Arial, sans-serif; font-size:2em;\">An Exception was encountered at '<a href=\"#papermill-error-cell\">In [13]</a>'.</span>"
   ]
  },
  {
   "cell_type": "markdown",
   "metadata": {
    "papermill": {
     "duration": 0.018515,
     "end_time": "2020-10-21T19:14:34.867209",
     "exception": false,
     "start_time": "2020-10-21T19:14:34.848694",
     "status": "completed"
    },
    "tags": []
   },
   "source": [
    "# COVID-19 India Daily updates\n",
    "> Tracking coronavirus total cases, deaths and new cases in India on a daily basis\n",
    "\n",
    "- author: Vaibhav Mahapatra"
   ]
  },
  {
   "cell_type": "code",
   "execution_count": 1,
   "metadata": {
    "execution": {
     "iopub.execute_input": "2020-10-21T19:14:34.905494Z",
     "iopub.status.busy": "2020-10-21T19:14:34.904771Z",
     "iopub.status.idle": "2020-10-21T19:14:35.577562Z",
     "shell.execute_reply": "2020-10-21T19:14:35.576873Z"
    },
    "papermill": {
     "duration": 0.693809,
     "end_time": "2020-10-21T19:14:35.577829",
     "exception": false,
     "start_time": "2020-10-21T19:14:34.884020",
     "status": "completed"
    },
    "tags": []
   },
   "outputs": [],
   "source": [
    "#hide\n",
    "\n",
    "## Import essential packages below\n",
    "\n",
    "import pandas as pd\n",
    "import numpy as np\n",
    "import requests\n",
    "import json\n",
    "import matplotlib.pyplot as plt\n",
    "import matplotlib.dates as mdates\n",
    "import matplotlib as mpl\n",
    "from IPython.core.display import display,HTML\n",
    "%matplotlib inline"
   ]
  },
  {
   "cell_type": "code",
   "execution_count": 2,
   "metadata": {
    "execution": {
     "iopub.execute_input": "2020-10-21T19:14:35.612779Z",
     "iopub.status.busy": "2020-10-21T19:14:35.611813Z",
     "iopub.status.idle": "2020-10-21T19:14:35.875788Z",
     "shell.execute_reply": "2020-10-21T19:14:35.876320Z"
    },
    "papermill": {
     "duration": 0.284454,
     "end_time": "2020-10-21T19:14:35.876499",
     "exception": false,
     "start_time": "2020-10-21T19:14:35.592045",
     "status": "completed"
    },
    "tags": []
   },
   "outputs": [
    {
     "data": {
      "text/plain": [
       "(666, 42)"
      ]
     },
     "execution_count": 2,
     "metadata": {},
     "output_type": "execute_result"
    }
   ],
   "source": [
    "#hide\n",
    "url = 'https://api.covid19india.org/csv/latest/state_wise_daily.csv'\n",
    "df = pd.read_csv(url)\n",
    "df.shape"
   ]
  },
  {
   "cell_type": "code",
   "execution_count": 3,
   "metadata": {
    "execution": {
     "iopub.execute_input": "2020-10-21T19:14:35.959648Z",
     "iopub.status.busy": "2020-10-21T19:14:35.958887Z",
     "iopub.status.idle": "2020-10-21T19:14:35.973272Z",
     "shell.execute_reply": "2020-10-21T19:14:35.973809Z"
    },
    "papermill": {
     "duration": 0.082858,
     "end_time": "2020-10-21T19:14:35.973988",
     "exception": false,
     "start_time": "2020-10-21T19:14:35.891130",
     "status": "completed"
    },
    "tags": []
   },
   "outputs": [
    {
     "data": {
      "text/html": [
       "<div>\n",
       "<style scoped>\n",
       "    .dataframe tbody tr th:only-of-type {\n",
       "        vertical-align: middle;\n",
       "    }\n",
       "\n",
       "    .dataframe tbody tr th {\n",
       "        vertical-align: top;\n",
       "    }\n",
       "\n",
       "    .dataframe thead th {\n",
       "        text-align: right;\n",
       "    }\n",
       "</style>\n",
       "<table border=\"1\" class=\"dataframe\">\n",
       "  <thead>\n",
       "    <tr style=\"text-align: right;\">\n",
       "      <th></th>\n",
       "      <th>Date</th>\n",
       "      <th>Date_YMD</th>\n",
       "      <th>Status</th>\n",
       "      <th>TT</th>\n",
       "      <th>AN</th>\n",
       "      <th>AP</th>\n",
       "      <th>AR</th>\n",
       "      <th>AS</th>\n",
       "      <th>BR</th>\n",
       "      <th>CH</th>\n",
       "      <th>...</th>\n",
       "      <th>PB</th>\n",
       "      <th>RJ</th>\n",
       "      <th>SK</th>\n",
       "      <th>TN</th>\n",
       "      <th>TG</th>\n",
       "      <th>TR</th>\n",
       "      <th>UP</th>\n",
       "      <th>UT</th>\n",
       "      <th>WB</th>\n",
       "      <th>UN</th>\n",
       "    </tr>\n",
       "  </thead>\n",
       "  <tbody>\n",
       "    <tr>\n",
       "      <th>660</th>\n",
       "      <td>20-Oct-20</td>\n",
       "      <td>2020-10-18</td>\n",
       "      <td>Confirmed</td>\n",
       "      <td>54404</td>\n",
       "      <td>15</td>\n",
       "      <td>3503</td>\n",
       "      <td>135</td>\n",
       "      <td>666</td>\n",
       "      <td>1837</td>\n",
       "      <td>57</td>\n",
       "      <td>...</td>\n",
       "      <td>487</td>\n",
       "      <td>1897</td>\n",
       "      <td>42</td>\n",
       "      <td>3094</td>\n",
       "      <td>1486</td>\n",
       "      <td>135</td>\n",
       "      <td>2289</td>\n",
       "      <td>241</td>\n",
       "      <td>4029</td>\n",
       "      <td>0</td>\n",
       "    </tr>\n",
       "    <tr>\n",
       "      <th>661</th>\n",
       "      <td>20-Oct-20</td>\n",
       "      <td>2020-10-18</td>\n",
       "      <td>Recovered</td>\n",
       "      <td>61933</td>\n",
       "      <td>10</td>\n",
       "      <td>5144</td>\n",
       "      <td>255</td>\n",
       "      <td>1201</td>\n",
       "      <td>1100</td>\n",
       "      <td>107</td>\n",
       "      <td>...</td>\n",
       "      <td>891</td>\n",
       "      <td>2522</td>\n",
       "      <td>50</td>\n",
       "      <td>4403</td>\n",
       "      <td>1891</td>\n",
       "      <td>198</td>\n",
       "      <td>3339</td>\n",
       "      <td>376</td>\n",
       "      <td>3382</td>\n",
       "      <td>0</td>\n",
       "    </tr>\n",
       "    <tr>\n",
       "      <th>662</th>\n",
       "      <td>20-Oct-20</td>\n",
       "      <td>2020-10-18</td>\n",
       "      <td>Deceased</td>\n",
       "      <td>714</td>\n",
       "      <td>0</td>\n",
       "      <td>28</td>\n",
       "      <td>1</td>\n",
       "      <td>9</td>\n",
       "      <td>8</td>\n",
       "      <td>1</td>\n",
       "      <td>...</td>\n",
       "      <td>8</td>\n",
       "      <td>14</td>\n",
       "      <td>1</td>\n",
       "      <td>47</td>\n",
       "      <td>7</td>\n",
       "      <td>0</td>\n",
       "      <td>29</td>\n",
       "      <td>13</td>\n",
       "      <td>61</td>\n",
       "      <td>0</td>\n",
       "    </tr>\n",
       "    <tr>\n",
       "      <th>663</th>\n",
       "      <td>21-Oct-20</td>\n",
       "      <td>2020-10-18</td>\n",
       "      <td>Confirmed</td>\n",
       "      <td>56000</td>\n",
       "      <td>27</td>\n",
       "      <td>3746</td>\n",
       "      <td>134</td>\n",
       "      <td>701</td>\n",
       "      <td>1277</td>\n",
       "      <td>54</td>\n",
       "      <td>...</td>\n",
       "      <td>498</td>\n",
       "      <td>1810</td>\n",
       "      <td>34</td>\n",
       "      <td>3086</td>\n",
       "      <td>1579</td>\n",
       "      <td>112</td>\n",
       "      <td>2321</td>\n",
       "      <td>505</td>\n",
       "      <td>4069</td>\n",
       "      <td>0</td>\n",
       "    </tr>\n",
       "    <tr>\n",
       "      <th>664</th>\n",
       "      <td>21-Oct-20</td>\n",
       "      <td>2020-10-18</td>\n",
       "      <td>Recovered</td>\n",
       "      <td>79342</td>\n",
       "      <td>11</td>\n",
       "      <td>4739</td>\n",
       "      <td>164</td>\n",
       "      <td>1664</td>\n",
       "      <td>1319</td>\n",
       "      <td>118</td>\n",
       "      <td>...</td>\n",
       "      <td>562</td>\n",
       "      <td>2865</td>\n",
       "      <td>35</td>\n",
       "      <td>4301</td>\n",
       "      <td>1811</td>\n",
       "      <td>265</td>\n",
       "      <td>3332</td>\n",
       "      <td>770</td>\n",
       "      <td>3596</td>\n",
       "      <td>0</td>\n",
       "    </tr>\n",
       "    <tr>\n",
       "      <th>665</th>\n",
       "      <td>21-Oct-20</td>\n",
       "      <td>2020-10-18</td>\n",
       "      <td>Deceased</td>\n",
       "      <td>703</td>\n",
       "      <td>0</td>\n",
       "      <td>27</td>\n",
       "      <td>0</td>\n",
       "      <td>5</td>\n",
       "      <td>8</td>\n",
       "      <td>0</td>\n",
       "      <td>...</td>\n",
       "      <td>23</td>\n",
       "      <td>14</td>\n",
       "      <td>0</td>\n",
       "      <td>39</td>\n",
       "      <td>5</td>\n",
       "      <td>1</td>\n",
       "      <td>41</td>\n",
       "      <td>14</td>\n",
       "      <td>64</td>\n",
       "      <td>0</td>\n",
       "    </tr>\n",
       "  </tbody>\n",
       "</table>\n",
       "<p>6 rows × 42 columns</p>\n",
       "</div>"
      ],
      "text/plain": [
       "          Date    Date_YMD     Status     TT  AN    AP   AR    AS    BR   CH  \\\n",
       "660  20-Oct-20  2020-10-18  Confirmed  54404  15  3503  135   666  1837   57   \n",
       "661  20-Oct-20  2020-10-18  Recovered  61933  10  5144  255  1201  1100  107   \n",
       "662  20-Oct-20  2020-10-18   Deceased    714   0    28    1     9     8    1   \n",
       "663  21-Oct-20  2020-10-18  Confirmed  56000  27  3746  134   701  1277   54   \n",
       "664  21-Oct-20  2020-10-18  Recovered  79342  11  4739  164  1664  1319  118   \n",
       "665  21-Oct-20  2020-10-18   Deceased    703   0    27    0     5     8    0   \n",
       "\n",
       "     ...   PB    RJ  SK    TN    TG   TR    UP   UT    WB  UN  \n",
       "660  ...  487  1897  42  3094  1486  135  2289  241  4029   0  \n",
       "661  ...  891  2522  50  4403  1891  198  3339  376  3382   0  \n",
       "662  ...    8    14   1    47     7    0    29   13    61   0  \n",
       "663  ...  498  1810  34  3086  1579  112  2321  505  4069   0  \n",
       "664  ...  562  2865  35  4301  1811  265  3332  770  3596   0  \n",
       "665  ...   23    14   0    39     5    1    41   14    64   0  \n",
       "\n",
       "[6 rows x 42 columns]"
      ]
     },
     "execution_count": 3,
     "metadata": {},
     "output_type": "execute_result"
    }
   ],
   "source": [
    "#hide\n",
    "df.tail(6)"
   ]
  },
  {
   "cell_type": "code",
   "execution_count": 4,
   "metadata": {
    "execution": {
     "iopub.execute_input": "2020-10-21T19:14:36.012887Z",
     "iopub.status.busy": "2020-10-21T19:14:36.012107Z",
     "iopub.status.idle": "2020-10-21T19:14:36.014901Z",
     "shell.execute_reply": "2020-10-21T19:14:36.015554Z"
    },
    "papermill": {
     "duration": 0.027359,
     "end_time": "2020-10-21T19:14:36.015941",
     "exception": false,
     "start_time": "2020-10-21T19:14:35.988582",
     "status": "completed"
    },
    "tags": []
   },
   "outputs": [
    {
     "data": {
      "text/plain": [
       "('21-Oct-20', '20-Oct-20')"
      ]
     },
     "execution_count": 4,
     "metadata": {},
     "output_type": "execute_result"
    }
   ],
   "source": [
    "#hide\n",
    "dt_today = df.iloc[-1][0]\n",
    "dt_yday = df.iloc[-4][0]\n",
    "dt_today, dt_yday"
   ]
  },
  {
   "cell_type": "code",
   "execution_count": 5,
   "metadata": {
    "execution": {
     "iopub.execute_input": "2020-10-21T19:14:36.054837Z",
     "iopub.status.busy": "2020-10-21T19:14:36.054135Z",
     "iopub.status.idle": "2020-10-21T19:14:36.062266Z",
     "shell.execute_reply": "2020-10-21T19:14:36.061678Z"
    },
    "papermill": {
     "duration": 0.030556,
     "end_time": "2020-10-21T19:14:36.062429",
     "exception": false,
     "start_time": "2020-10-21T19:14:36.031873",
     "status": "completed"
    },
    "tags": []
   },
   "outputs": [],
   "source": [
    "#hide\n",
    "df_today = df.groupby('Status').sum()\n",
    "df_yday = df.iloc[:-3][:].groupby('Status').sum()"
   ]
  },
  {
   "cell_type": "code",
   "execution_count": 6,
   "metadata": {
    "execution": {
     "iopub.execute_input": "2020-10-21T19:14:36.104011Z",
     "iopub.status.busy": "2020-10-21T19:14:36.103285Z",
     "iopub.status.idle": "2020-10-21T19:14:36.114910Z",
     "shell.execute_reply": "2020-10-21T19:14:36.114249Z"
    },
    "papermill": {
     "duration": 0.036382,
     "end_time": "2020-10-21T19:14:36.115060",
     "exception": false,
     "start_time": "2020-10-21T19:14:36.078678",
     "status": "completed"
    },
    "tags": []
   },
   "outputs": [
    {
     "data": {
      "text/html": [
       "<div>\n",
       "<style scoped>\n",
       "    .dataframe tbody tr th:only-of-type {\n",
       "        vertical-align: middle;\n",
       "    }\n",
       "\n",
       "    .dataframe tbody tr th {\n",
       "        vertical-align: top;\n",
       "    }\n",
       "\n",
       "    .dataframe thead th {\n",
       "        text-align: right;\n",
       "    }\n",
       "</style>\n",
       "<table border=\"1\" class=\"dataframe\">\n",
       "  <thead>\n",
       "    <tr style=\"text-align: right;\">\n",
       "      <th></th>\n",
       "      <th>TT</th>\n",
       "      <th>AN</th>\n",
       "      <th>AP</th>\n",
       "      <th>AR</th>\n",
       "      <th>AS</th>\n",
       "      <th>BR</th>\n",
       "      <th>CH</th>\n",
       "      <th>CT</th>\n",
       "      <th>DN</th>\n",
       "      <th>DD</th>\n",
       "      <th>...</th>\n",
       "      <th>PB</th>\n",
       "      <th>RJ</th>\n",
       "      <th>SK</th>\n",
       "      <th>TN</th>\n",
       "      <th>TG</th>\n",
       "      <th>TR</th>\n",
       "      <th>UP</th>\n",
       "      <th>UT</th>\n",
       "      <th>WB</th>\n",
       "      <th>UN</th>\n",
       "    </tr>\n",
       "    <tr>\n",
       "      <th>Status</th>\n",
       "      <th></th>\n",
       "      <th></th>\n",
       "      <th></th>\n",
       "      <th></th>\n",
       "      <th></th>\n",
       "      <th></th>\n",
       "      <th></th>\n",
       "      <th></th>\n",
       "      <th></th>\n",
       "      <th></th>\n",
       "      <th></th>\n",
       "      <th></th>\n",
       "      <th></th>\n",
       "      <th></th>\n",
       "      <th></th>\n",
       "      <th></th>\n",
       "      <th></th>\n",
       "      <th></th>\n",
       "      <th></th>\n",
       "      <th></th>\n",
       "      <th></th>\n",
       "    </tr>\n",
       "  </thead>\n",
       "  <tbody>\n",
       "    <tr>\n",
       "      <th>Confirmed</th>\n",
       "      <td>7704525</td>\n",
       "      <td>4164</td>\n",
       "      <td>793299</td>\n",
       "      <td>13912</td>\n",
       "      <td>202672</td>\n",
       "      <td>208238</td>\n",
       "      <td>13797</td>\n",
       "      <td>167639</td>\n",
       "      <td>3204</td>\n",
       "      <td>0</td>\n",
       "      <td>...</td>\n",
       "      <td>129088</td>\n",
       "      <td>178933</td>\n",
       "      <td>3690</td>\n",
       "      <td>697116</td>\n",
       "      <td>225614</td>\n",
       "      <td>29797</td>\n",
       "      <td>461475</td>\n",
       "      <td>59106</td>\n",
       "      <td>333126</td>\n",
       "      <td>0</td>\n",
       "    </tr>\n",
       "    <tr>\n",
       "      <th>Deceased</th>\n",
       "      <td>116066</td>\n",
       "      <td>56</td>\n",
       "      <td>6508</td>\n",
       "      <td>31</td>\n",
       "      <td>893</td>\n",
       "      <td>1019</td>\n",
       "      <td>209</td>\n",
       "      <td>1636</td>\n",
       "      <td>2</td>\n",
       "      <td>0</td>\n",
       "      <td>...</td>\n",
       "      <td>4060</td>\n",
       "      <td>1788</td>\n",
       "      <td>63</td>\n",
       "      <td>10780</td>\n",
       "      <td>1287</td>\n",
       "      <td>329</td>\n",
       "      <td>6755</td>\n",
       "      <td>960</td>\n",
       "      <td>6244</td>\n",
       "      <td>0</td>\n",
       "    </tr>\n",
       "    <tr>\n",
       "      <th>Recovered</th>\n",
       "      <td>6871864</td>\n",
       "      <td>3904</td>\n",
       "      <td>754415</td>\n",
       "      <td>11199</td>\n",
       "      <td>176075</td>\n",
       "      <td>196208</td>\n",
       "      <td>12842</td>\n",
       "      <td>140216</td>\n",
       "      <td>3119</td>\n",
       "      <td>0</td>\n",
       "      <td>...</td>\n",
       "      <td>120220</td>\n",
       "      <td>157960</td>\n",
       "      <td>3281</td>\n",
       "      <td>650856</td>\n",
       "      <td>204388</td>\n",
       "      <td>26990</td>\n",
       "      <td>425356</td>\n",
       "      <td>52632</td>\n",
       "      <td>291303</td>\n",
       "      <td>0</td>\n",
       "    </tr>\n",
       "  </tbody>\n",
       "</table>\n",
       "<p>3 rows × 39 columns</p>\n",
       "</div>"
      ],
      "text/plain": [
       "                TT    AN      AP     AR      AS      BR     CH      CT    DN  \\\n",
       "Status                                                                         \n",
       "Confirmed  7704525  4164  793299  13912  202672  208238  13797  167639  3204   \n",
       "Deceased    116066    56    6508     31     893    1019    209    1636     2   \n",
       "Recovered  6871864  3904  754415  11199  176075  196208  12842  140216  3119   \n",
       "\n",
       "           DD  ...      PB      RJ    SK      TN      TG     TR      UP  \\\n",
       "Status         ...                                                        \n",
       "Confirmed   0  ...  129088  178933  3690  697116  225614  29797  461475   \n",
       "Deceased    0  ...    4060    1788    63   10780    1287    329    6755   \n",
       "Recovered   0  ...  120220  157960  3281  650856  204388  26990  425356   \n",
       "\n",
       "              UT      WB  UN  \n",
       "Status                        \n",
       "Confirmed  59106  333126   0  \n",
       "Deceased     960    6244   0  \n",
       "Recovered  52632  291303   0  \n",
       "\n",
       "[3 rows x 39 columns]"
      ]
     },
     "execution_count": 6,
     "metadata": {},
     "output_type": "execute_result"
    }
   ],
   "source": [
    "#hide\n",
    "df_today"
   ]
  },
  {
   "cell_type": "code",
   "execution_count": 7,
   "metadata": {
    "execution": {
     "iopub.execute_input": "2020-10-21T19:14:36.167863Z",
     "iopub.status.busy": "2020-10-21T19:14:36.167149Z",
     "iopub.status.idle": "2020-10-21T19:14:36.173201Z",
     "shell.execute_reply": "2020-10-21T19:14:36.172592Z"
    },
    "papermill": {
     "duration": 0.04236,
     "end_time": "2020-10-21T19:14:36.173361",
     "exception": false,
     "start_time": "2020-10-21T19:14:36.131001",
     "status": "completed"
    },
    "tags": []
   },
   "outputs": [
    {
     "data": {
      "text/html": [
       "<div>\n",
       "<style scoped>\n",
       "    .dataframe tbody tr th:only-of-type {\n",
       "        vertical-align: middle;\n",
       "    }\n",
       "\n",
       "    .dataframe tbody tr th {\n",
       "        vertical-align: top;\n",
       "    }\n",
       "\n",
       "    .dataframe thead th {\n",
       "        text-align: right;\n",
       "    }\n",
       "</style>\n",
       "<table border=\"1\" class=\"dataframe\">\n",
       "  <thead>\n",
       "    <tr style=\"text-align: right;\">\n",
       "      <th></th>\n",
       "      <th>TT</th>\n",
       "      <th>AN</th>\n",
       "      <th>AP</th>\n",
       "      <th>AR</th>\n",
       "      <th>AS</th>\n",
       "      <th>BR</th>\n",
       "      <th>CH</th>\n",
       "      <th>CT</th>\n",
       "      <th>DN</th>\n",
       "      <th>DD</th>\n",
       "      <th>...</th>\n",
       "      <th>PB</th>\n",
       "      <th>RJ</th>\n",
       "      <th>SK</th>\n",
       "      <th>TN</th>\n",
       "      <th>TG</th>\n",
       "      <th>TR</th>\n",
       "      <th>UP</th>\n",
       "      <th>UT</th>\n",
       "      <th>WB</th>\n",
       "      <th>UN</th>\n",
       "    </tr>\n",
       "    <tr>\n",
       "      <th>Status</th>\n",
       "      <th></th>\n",
       "      <th></th>\n",
       "      <th></th>\n",
       "      <th></th>\n",
       "      <th></th>\n",
       "      <th></th>\n",
       "      <th></th>\n",
       "      <th></th>\n",
       "      <th></th>\n",
       "      <th></th>\n",
       "      <th></th>\n",
       "      <th></th>\n",
       "      <th></th>\n",
       "      <th></th>\n",
       "      <th></th>\n",
       "      <th></th>\n",
       "      <th></th>\n",
       "      <th></th>\n",
       "      <th></th>\n",
       "      <th></th>\n",
       "      <th></th>\n",
       "    </tr>\n",
       "  </thead>\n",
       "  <tbody>\n",
       "    <tr>\n",
       "      <th>Confirmed</th>\n",
       "      <td>7648525</td>\n",
       "      <td>4137</td>\n",
       "      <td>789553</td>\n",
       "      <td>13778</td>\n",
       "      <td>201971</td>\n",
       "      <td>206961</td>\n",
       "      <td>13743</td>\n",
       "      <td>165279</td>\n",
       "      <td>3191</td>\n",
       "      <td>0</td>\n",
       "      <td>...</td>\n",
       "      <td>128590</td>\n",
       "      <td>177123</td>\n",
       "      <td>3656</td>\n",
       "      <td>694030</td>\n",
       "      <td>224035</td>\n",
       "      <td>29685</td>\n",
       "      <td>459154</td>\n",
       "      <td>58601</td>\n",
       "      <td>329057</td>\n",
       "      <td>0</td>\n",
       "    </tr>\n",
       "    <tr>\n",
       "      <th>Deceased</th>\n",
       "      <td>115363</td>\n",
       "      <td>56</td>\n",
       "      <td>6481</td>\n",
       "      <td>31</td>\n",
       "      <td>888</td>\n",
       "      <td>1011</td>\n",
       "      <td>209</td>\n",
       "      <td>1584</td>\n",
       "      <td>2</td>\n",
       "      <td>0</td>\n",
       "      <td>...</td>\n",
       "      <td>4037</td>\n",
       "      <td>1774</td>\n",
       "      <td>63</td>\n",
       "      <td>10741</td>\n",
       "      <td>1282</td>\n",
       "      <td>328</td>\n",
       "      <td>6714</td>\n",
       "      <td>946</td>\n",
       "      <td>6180</td>\n",
       "      <td>0</td>\n",
       "    </tr>\n",
       "    <tr>\n",
       "      <th>Recovered</th>\n",
       "      <td>6792522</td>\n",
       "      <td>3893</td>\n",
       "      <td>749676</td>\n",
       "      <td>11035</td>\n",
       "      <td>174411</td>\n",
       "      <td>194889</td>\n",
       "      <td>12724</td>\n",
       "      <td>137986</td>\n",
       "      <td>3111</td>\n",
       "      <td>0</td>\n",
       "      <td>...</td>\n",
       "      <td>119658</td>\n",
       "      <td>155095</td>\n",
       "      <td>3246</td>\n",
       "      <td>646555</td>\n",
       "      <td>202577</td>\n",
       "      <td>26725</td>\n",
       "      <td>422024</td>\n",
       "      <td>51862</td>\n",
       "      <td>287707</td>\n",
       "      <td>0</td>\n",
       "    </tr>\n",
       "  </tbody>\n",
       "</table>\n",
       "<p>3 rows × 39 columns</p>\n",
       "</div>"
      ],
      "text/plain": [
       "                TT    AN      AP     AR      AS      BR     CH      CT    DN  \\\n",
       "Status                                                                         \n",
       "Confirmed  7648525  4137  789553  13778  201971  206961  13743  165279  3191   \n",
       "Deceased    115363    56    6481     31     888    1011    209    1584     2   \n",
       "Recovered  6792522  3893  749676  11035  174411  194889  12724  137986  3111   \n",
       "\n",
       "           DD  ...      PB      RJ    SK      TN      TG     TR      UP  \\\n",
       "Status         ...                                                        \n",
       "Confirmed   0  ...  128590  177123  3656  694030  224035  29685  459154   \n",
       "Deceased    0  ...    4037    1774    63   10741    1282    328    6714   \n",
       "Recovered   0  ...  119658  155095  3246  646555  202577  26725  422024   \n",
       "\n",
       "              UT      WB  UN  \n",
       "Status                        \n",
       "Confirmed  58601  329057   0  \n",
       "Deceased     946    6180   0  \n",
       "Recovered  51862  287707   0  \n",
       "\n",
       "[3 rows x 39 columns]"
      ]
     },
     "execution_count": 7,
     "metadata": {},
     "output_type": "execute_result"
    }
   ],
   "source": [
    "#hide\n",
    "df_yday.head()"
   ]
  },
  {
   "cell_type": "code",
   "execution_count": 8,
   "metadata": {
    "execution": {
     "iopub.execute_input": "2020-10-21T19:14:36.219438Z",
     "iopub.status.busy": "2020-10-21T19:14:36.218426Z",
     "iopub.status.idle": "2020-10-21T19:14:36.221642Z",
     "shell.execute_reply": "2020-10-21T19:14:36.222433Z"
    },
    "papermill": {
     "duration": 0.031028,
     "end_time": "2020-10-21T19:14:36.222610",
     "exception": false,
     "start_time": "2020-10-21T19:14:36.191582",
     "status": "completed"
    },
    "tags": []
   },
   "outputs": [
    {
     "data": {
      "text/plain": [
       "{'updated': '21-Oct-20',\n",
       " 'since': '20-Oct-20',\n",
       " 'Cases': 7704525,\n",
       " 'Deaths': 116066,\n",
       " 'Recovered': 6871864,\n",
       " 'PCases': 7648525,\n",
       " 'PDeaths': 115363,\n",
       " 'PRecovered': 6792522,\n",
       " 'Cases (+)': 56000,\n",
       " 'Deaths (+)': 703,\n",
       " 'Recovered (+)': 79342}"
      ]
     },
     "execution_count": 8,
     "metadata": {},
     "output_type": "execute_result"
    }
   ],
   "source": [
    "#hide\n",
    "summary = {\n",
    "    'updated' : dt_today,\n",
    "    'since' : dt_yday,\n",
    "    'Cases' : df_today['TT'][0],\n",
    "    'Deaths' : df_today['TT'][1],\n",
    "    'Recovered' : df_today['TT'][2],\n",
    "    'PCases' : df_yday['TT'][0],\n",
    "    'PDeaths' : df_yday['TT'][1],\n",
    "    'PRecovered': df_yday['TT'][2],\n",
    "    'Cases (+)' : df_today['TT'][0] - df_yday['TT'][0],\n",
    "    'Deaths (+)' : df_today['TT'][1] - df_yday['TT'][1],\n",
    "    'Recovered (+)': df_today['TT'][2] - df_yday['TT'][2]\n",
    "}\n",
    "\n",
    "summary"
   ]
  },
  {
   "cell_type": "code",
   "execution_count": 9,
   "metadata": {
    "execution": {
     "iopub.execute_input": "2020-10-21T19:14:36.261899Z",
     "iopub.status.busy": "2020-10-21T19:14:36.261173Z",
     "iopub.status.idle": "2020-10-21T19:14:36.264025Z",
     "shell.execute_reply": "2020-10-21T19:14:36.263444Z"
    },
    "papermill": {
     "duration": 0.024312,
     "end_time": "2020-10-21T19:14:36.264169",
     "exception": false,
     "start_time": "2020-10-21T19:14:36.239857",
     "status": "completed"
    },
    "tags": []
   },
   "outputs": [],
   "source": [
    "#hide\n",
    "overview = '''\n",
    "<!-- #######  HTML!! #########-->\n",
    "<h1 style=\"color: #5e9ca0; text-align: center;\">India</h1>\n",
    "<p style=\"text-align: center;\">Last update: <strong>{update}</strong></p>\n",
    "<p style=\"text-align: center;\">Confirmed cases:</p>\n",
    "<p style=\"text-align: center;font-size:24px;\">{cases} (<span style=\"color: #ff0000;\">+{new}</span>)</p>\n",
    "<p style=\"text-align: center;\">Confirmed deaths:</p>\n",
    "<p style=\"text-align: center;font-size:24px;\">{deaths} (<span style=\"color: #ff0000;\">+{dnew}</span>)</p>\n",
    "<p style=\"text-align: center;\">Recovered cases:</p>\n",
    "<p style=\"text-align: center;font-size:24px;\">{recovered} (<span style=\"color: #00ff00;\">+{rnew}</span>)</p>\n",
    "'''"
   ]
  },
  {
   "cell_type": "code",
   "execution_count": 10,
   "metadata": {
    "execution": {
     "iopub.execute_input": "2020-10-21T19:14:36.305529Z",
     "iopub.status.busy": "2020-10-21T19:14:36.304828Z",
     "iopub.status.idle": "2020-10-21T19:14:36.308492Z",
     "shell.execute_reply": "2020-10-21T19:14:36.307733Z"
    },
    "papermill": {
     "duration": 0.027846,
     "end_time": "2020-10-21T19:14:36.308642",
     "exception": false,
     "start_time": "2020-10-21T19:14:36.280796",
     "status": "completed"
    },
    "tags": []
   },
   "outputs": [
    {
     "data": {
      "text/html": [
       "\n",
       "<!-- #######  HTML!! #########-->\n",
       "<h1 style=\"color: #5e9ca0; text-align: center;\">India</h1>\n",
       "<p style=\"text-align: center;\">Last update: <strong>21-Oct-20</strong></p>\n",
       "<p style=\"text-align: center;\">Confirmed cases:</p>\n",
       "<p style=\"text-align: center;font-size:24px;\">7704525 (<span style=\"color: #ff0000;\">+56000</span>)</p>\n",
       "<p style=\"text-align: center;\">Confirmed deaths:</p>\n",
       "<p style=\"text-align: center;font-size:24px;\">116066 (<span style=\"color: #ff0000;\">+703</span>)</p>\n",
       "<p style=\"text-align: center;\">Recovered cases:</p>\n",
       "<p style=\"text-align: center;font-size:24px;\">6871864 (<span style=\"color: #00ff00;\">+79342</span>)</p>\n"
      ],
      "text/plain": [
       "<IPython.core.display.HTML object>"
      ]
     },
     "metadata": {},
     "output_type": "display_data"
    }
   ],
   "source": [
    "#hide_input\n",
    "# Fill the above HTML with the information from the summary dictionary\n",
    "\n",
    "update = summary['updated']\n",
    "cases = summary['Cases']\n",
    "new = summary['Cases (+)']\n",
    "deaths = summary['Deaths']\n",
    "dnew = summary['Deaths (+)']\n",
    "recovered = summary['Recovered']\n",
    "rnew = summary['Recovered (+)']\n",
    "\n",
    "html = HTML(overview.format(update=update, cases=cases,new=new,deaths=deaths,dnew=dnew, recovered=recovered, rnew=rnew))\n",
    "\n",
    "display(html)"
   ]
  },
  {
   "cell_type": "code",
   "execution_count": 11,
   "metadata": {
    "execution": {
     "iopub.execute_input": "2020-10-21T19:14:36.352825Z",
     "iopub.status.busy": "2020-10-21T19:14:36.352126Z",
     "iopub.status.idle": "2020-10-21T19:14:36.358496Z",
     "shell.execute_reply": "2020-10-21T19:14:36.359129Z"
    },
    "papermill": {
     "duration": 0.032348,
     "end_time": "2020-10-21T19:14:36.359313",
     "exception": false,
     "start_time": "2020-10-21T19:14:36.326965",
     "status": "completed"
    },
    "tags": []
   },
   "outputs": [],
   "source": [
    "#hide\n",
    "df_cases = df[df['Status'] == 'Confirmed'].copy()\n",
    "df_cases.drop(columns = ['Status'], inplace=True)\n",
    "df_deaths = df[df['Status'] == 'Deceased'].copy()\n",
    "df_deaths.drop(columns = ['Status'], inplace=True)\n",
    "df_recovered = df[df['Status'] == 'Recovered'].copy()\n",
    "df_recovered.drop(columns = ['Status'], inplace=True)"
   ]
  },
  {
   "cell_type": "markdown",
   "metadata": {
    "papermill": {
     "duration": 0.017487,
     "end_time": "2020-10-21T19:14:36.394155",
     "exception": false,
     "start_time": "2020-10-21T19:14:36.376668",
     "status": "completed"
    },
    "tags": []
   },
   "source": [
    "Plot for India:"
   ]
  },
  {
   "cell_type": "code",
   "execution_count": 12,
   "metadata": {
    "execution": {
     "iopub.execute_input": "2020-10-21T19:14:36.480386Z",
     "iopub.status.busy": "2020-10-21T19:14:36.472160Z",
     "iopub.status.idle": "2020-10-21T19:14:36.785265Z",
     "shell.execute_reply": "2020-10-21T19:14:36.785835Z"
    },
    "papermill": {
     "duration": 0.374465,
     "end_time": "2020-10-21T19:14:36.786015",
     "exception": false,
     "start_time": "2020-10-21T19:14:36.411550",
     "status": "completed"
    },
    "tags": []
   },
   "outputs": [
    {
     "data": {
      "image/png": "[encoded data removed]",
      "text/plain": [
       "<Figure size 1296x432 with 1 Axes>"
      ]
     },
     "metadata": {
      "needs_background": "light"
     },
     "output_type": "display_data"
    }
   ],
   "source": [
    "#hide_input\n",
    "plt.figure(figsize = (18,6))\n",
    "plt.plot(df_cases['Date'], df_cases['TT'],'.-', alpha=0.7, color='b', label='Confirmed cases')\n",
    "plt.plot(df_recovered['Date'], df_recovered['TT'],'.-', alpha=0.7, color='g', label='Recovered')\n",
    "plt.plot(df_deaths['Date'], df_deaths['TT'],'.-', alpha=0.7, color='r', label='Deceased')\n",
    "plt.legend()\n",
    "plt.title(\"Cases per day in India\")\n",
    "plt.xticks(ticks=' ')\n",
    "plt.xlabel(f'{df_cases.iloc[0][0]} to {df_cases.iloc[-1][0]}')\n",
    "plt.ylabel('No. of cases');"
   ]
  },
  {
   "cell_type": "markdown",
   "metadata": {
    "papermill": {
     "duration": 0.020198,
     "end_time": "2020-10-21T19:14:36.826914",
     "exception": false,
     "start_time": "2020-10-21T19:14:36.806716",
     "status": "completed"
    },
    "tags": []
   },
   "source": [
    "Plots for the states with highest number of cases:"
   ]
  },
  {
   "cell_type": "markdown",
   "metadata": {
    "tags": [
     "papermill-error-cell-tag"
    ]
   },
   "source": [
    "<span id=\"papermill-error-cell\" style=\"color:red; font-family:Helvetica Neue, Helvetica, Arial, sans-serif; font-size:2em;\">Execution using papermill encountered an exception here and stopped:</span>"
   ]
  },
  {
   "cell_type": "code",
   "execution_count": 13,
   "metadata": {
    "execution": {
     "iopub.execute_input": "2020-10-21T19:14:36.878007Z",
     "iopub.status.busy": "2020-10-21T19:14:36.877269Z",
     "iopub.status.idle": "2020-10-21T19:14:37.011710Z",
     "shell.execute_reply": "2020-10-21T19:14:37.010976Z"
    },
    "papermill": {
     "duration": 0.165254,
     "end_time": "2020-10-21T19:14:37.011977",
     "exception": true,
     "start_time": "2020-10-21T19:14:36.846723",
     "status": "failed"
    },
    "tags": []
   },
   "outputs": [
    {
     "ename": "TypeError",
     "evalue": "'>' not supported between instances of 'numpy.ndarray' and 'str'",
     "output_type": "error",
     "traceback": [
      "\u001b[0;31m---------------------------------------------------------------------------\u001b[0m",
      "\u001b[0;31mTypeError\u001b[0m                                 Traceback (most recent call last)",
      "\u001b[0;32m<ipython-input-13-9711672c0a2c>\u001b[0m in \u001b[0;36m<module>\u001b[0;34m\u001b[0m\n\u001b[1;32m      1\u001b[0m \u001b[0;31m#hide_input\u001b[0m\u001b[0;34m\u001b[0m\u001b[0;34m\u001b[0m\u001b[0;34m\u001b[0m\u001b[0m\n\u001b[0;32m----> 2\u001b[0;31m \u001b[0mtop_3\u001b[0m \u001b[0;34m=\u001b[0m \u001b[0msorted\u001b[0m\u001b[0;34m(\u001b[0m\u001b[0mdf_cases\u001b[0m\u001b[0;34m.\u001b[0m\u001b[0msum\u001b[0m\u001b[0;34m(\u001b[0m\u001b[0;34m)\u001b[0m\u001b[0;34m.\u001b[0m\u001b[0mvalues\u001b[0m\u001b[0;34m[\u001b[0m\u001b[0;36m1\u001b[0m\u001b[0;34m:\u001b[0m\u001b[0;34m]\u001b[0m\u001b[0;34m,\u001b[0m \u001b[0mreverse\u001b[0m\u001b[0;34m=\u001b[0m\u001b[0;32mTrue\u001b[0m\u001b[0;34m)\u001b[0m\u001b[0;34m[\u001b[0m\u001b[0;36m1\u001b[0m\u001b[0;34m:\u001b[0m\u001b[0;36m4\u001b[0m\u001b[0;34m]\u001b[0m\u001b[0;34m\u001b[0m\u001b[0;34m\u001b[0m\u001b[0m\n\u001b[0m\u001b[1;32m      3\u001b[0m \u001b[0mtop3_states\u001b[0m\u001b[0;34m=\u001b[0m\u001b[0;34m[\u001b[0m\u001b[0;34m]\u001b[0m\u001b[0;34m\u001b[0m\u001b[0;34m\u001b[0m\u001b[0m\n\u001b[1;32m      4\u001b[0m \u001b[0;32mfor\u001b[0m \u001b[0mi\u001b[0m \u001b[0;32min\u001b[0m \u001b[0mtop_3\u001b[0m\u001b[0;34m:\u001b[0m\u001b[0;34m\u001b[0m\u001b[0;34m\u001b[0m\u001b[0m\n\u001b[1;32m      5\u001b[0m     \u001b[0mtop3_states\u001b[0m\u001b[0;34m.\u001b[0m\u001b[0mappend\u001b[0m\u001b[0;34m(\u001b[0m\u001b[0mdf_cases\u001b[0m\u001b[0;34m.\u001b[0m\u001b[0msum\u001b[0m\u001b[0;34m(\u001b[0m\u001b[0;34m)\u001b[0m\u001b[0;34m[\u001b[0m\u001b[0mdf_cases\u001b[0m\u001b[0;34m.\u001b[0m\u001b[0msum\u001b[0m\u001b[0;34m(\u001b[0m\u001b[0;34m)\u001b[0m \u001b[0;34m==\u001b[0m \u001b[0mi\u001b[0m\u001b[0;34m]\u001b[0m\u001b[0;34m.\u001b[0m\u001b[0mindex\u001b[0m\u001b[0;34m)\u001b[0m\u001b[0;34m\u001b[0m\u001b[0;34m\u001b[0m\u001b[0m\n",
      "\u001b[0;31mTypeError\u001b[0m: '>' not supported between instances of 'numpy.ndarray' and 'str'"
     ]
    }
   ],
   "source": [
    "#hide_input\n",
    "top_3 = sorted(df_cases.sum().values[1:], reverse=True)[1:4]\n",
    "top3_states=[]\n",
    "for i in top_3:\n",
    "    top3_states.append(df_cases.sum()[df_cases.sum() == i].index)\n",
    "\n",
    "\n",
    "fig, ax = plt.subplots(1,3,figsize = (21,6))\n",
    "for i in range(3):\n",
    "    state = top3_states[i].values[0]\n",
    "    ax[i].plot(df_cases['Date'], df_cases[state],'.-', color='b', alpha=0.7)\n",
    "    ax[i].plot(df_deaths['Date'], df_deaths[state],'.-', color='r', alpha=0.7)\n",
    "    ax[i].plot(df_recovered['Date'], df_recovered[state],'.-', color='g', alpha=0.7)\n",
    "    \n",
    "    ax[i].set_title(f\"Cases in {state}\")\n",
    "    ax[i].set_xticks(ticks=' ')\n",
    "    ax[i].set_xlabel(f'{df_cases.iloc[0][0]} to {df_cases.iloc[-1][0]}')\n",
    "    ax[i].set_ylabel('No. of cases');"
   ]
  },
  {
   "cell_type": "code",
   "execution_count": null,
   "metadata": {
    "papermill": {
     "duration": null,
     "end_time": null,
     "exception": null,
     "start_time": null,
     "status": "pending"
    },
    "tags": []
   },
   "outputs": [],
   "source": []
  },
  {
   "cell_type": "code",
   "execution_count": null,
   "metadata": {
    "papermill": {
     "duration": null,
     "end_time": null,
     "exception": null,
     "start_time": null,
     "status": "pending"
    },
    "tags": []
   },
   "outputs": [],
   "source": []
  },
  {
   "cell_type": "code",
   "execution_count": null,
   "metadata": {
    "papermill": {
     "duration": null,
     "end_time": null,
     "exception": null,
     "start_time": null,
     "status": "pending"
    },
    "tags": []
   },
   "outputs": [],
   "source": []
  }
 ],
 "metadata": {
  "kernelspec": {
   "display_name": "Python 3",
   "language": "python",
   "name": "python3"
  },
  "language_info": {
   "codemirror_mode": {
    "name": "ipython",
    "version": 3
   },
   "file_extension": ".py",
   "mimetype": "text/x-python",
   "name": "python",
   "nbconvert_exporter": "python",
   "pygments_lexer": "ipython3",
   "version": "3.6.12"
  },
  "papermill": {
   "duration": 3.868782,
   "end_time": "2020-10-21T19:14:37.518962",
   "environment_variables": {},
   "exception": true,
   "input_path": "2020-08-09-DailyUpdate.ipynb",
   "output_path": "2020-08-09-DailyUpdate.ipynb",
   "parameters": {},
   "start_time": "2020-10-21T19:14:33.650180",
   "version": "2.1.2"
  }
 },
 "nbformat": 4,
 "nbformat_minor": 4
}