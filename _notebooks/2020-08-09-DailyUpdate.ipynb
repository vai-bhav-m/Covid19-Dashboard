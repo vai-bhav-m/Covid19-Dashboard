{
 "cells": [
  {
   "cell_type": "markdown",
   "metadata": {
    "tags": [
     "papermill-error-cell-tag"
    ]
   },
   "source": [
    "<span style=\"color:red; font-family:Helvetica Neue, Helvetica, Arial, sans-serif; font-size:2em;\">An Exception was encountered at '<a href=\"#papermill-error-cell\">In [13]</a>'.</span>"
   ]
  },
  {
   "cell_type": "markdown",
   "metadata": {
    "papermill": {
     "duration": 0.023675,
     "end_time": "2020-11-01T19:11:06.105074",
     "exception": false,
     "start_time": "2020-11-01T19:11:06.081399",
     "status": "completed"
    },
    "tags": []
   },
   "source": [
    "# COVID-19 India Daily updates\n",
    "> Tracking coronavirus total cases, deaths and new cases in India on a daily basis\n",
    "\n",
    "- author: Vaibhav Mahapatra"
   ]
  },
  {
   "cell_type": "code",
   "execution_count": 1,
   "metadata": {
    "execution": {
     "iopub.execute_input": "2020-11-01T19:11:06.136952Z",
     "iopub.status.busy": "2020-11-01T19:11:06.135982Z",
     "iopub.status.idle": "2020-11-01T19:11:06.731554Z",
     "shell.execute_reply": "2020-11-01T19:11:06.730412Z"
    },
    "papermill": {
     "duration": 0.61408,
     "end_time": "2020-11-01T19:11:06.731713",
     "exception": false,
     "start_time": "2020-11-01T19:11:06.117633",
     "status": "completed"
    },
    "tags": []
   },
   "outputs": [],
   "source": [
    "#hide\n",
    "\n",
    "## Import essential packages below\n",
    "\n",
    "import pandas as pd\n",
    "import numpy as np\n",
    "import requests\n",
    "import json\n",
    "import matplotlib.pyplot as plt\n",
    "import matplotlib.dates as mdates\n",
    "import matplotlib as mpl\n",
    "from IPython.core.display import display,HTML\n",
    "%matplotlib inline"
   ]
  },
  {
   "cell_type": "code",
   "execution_count": 2,
   "metadata": {
    "execution": {
     "iopub.execute_input": "2020-11-01T19:11:06.763151Z",
     "iopub.status.busy": "2020-11-01T19:11:06.762521Z",
     "iopub.status.idle": "2020-11-01T19:11:07.076144Z",
     "shell.execute_reply": "2020-11-01T19:11:07.076575Z"
    },
    "papermill": {
     "duration": 0.332449,
     "end_time": "2020-11-01T19:11:07.076722",
     "exception": false,
     "start_time": "2020-11-01T19:11:06.744273",
     "status": "completed"
    },
    "tags": []
   },
   "outputs": [
    {
     "data": {
      "text/plain": [
       "(699, 42)"
      ]
     },
     "execution_count": 2,
     "metadata": {},
     "output_type": "execute_result"
    }
   ],
   "source": [
    "#hide\n",
    "url = 'https://api.covid19india.org/csv/latest/state_wise_daily.csv'\n",
    "df = pd.read_csv(url)\n",
    "df.shape"
   ]
  },
  {
   "cell_type": "code",
   "execution_count": 3,
   "metadata": {
    "execution": {
     "iopub.execute_input": "2020-11-01T19:11:07.164732Z",
     "iopub.status.busy": "2020-11-01T19:11:07.157057Z",
     "iopub.status.idle": "2020-11-01T19:11:07.167352Z",
     "shell.execute_reply": "2020-11-01T19:11:07.167849Z"
    },
    "papermill": {
     "duration": 0.07903,
     "end_time": "2020-11-01T19:11:07.168005",
     "exception": false,
     "start_time": "2020-11-01T19:11:07.088975",
     "status": "completed"
    },
    "tags": []
   },
   "outputs": [
    {
     "data": {
      "text/html": [
       "<div>\n",
       "<style scoped>\n",
       "    .dataframe tbody tr th:only-of-type {\n",
       "        vertical-align: middle;\n",
       "    }\n",
       "\n",
       "    .dataframe tbody tr th {\n",
       "        vertical-align: top;\n",
       "    }\n",
       "\n",
       "    .dataframe thead th {\n",
       "        text-align: right;\n",
       "    }\n",
       "</style>\n",
       "<table border=\"1\" class=\"dataframe\">\n",
       "  <thead>\n",
       "    <tr style=\"text-align: right;\">\n",
       "      <th></th>\n",
       "      <th>Date</th>\n",
       "      <th>Date_YMD</th>\n",
       "      <th>Status</th>\n",
       "      <th>TT</th>\n",
       "      <th>AN</th>\n",
       "      <th>AP</th>\n",
       "      <th>AR</th>\n",
       "      <th>AS</th>\n",
       "      <th>BR</th>\n",
       "      <th>CH</th>\n",
       "      <th>...</th>\n",
       "      <th>PB</th>\n",
       "      <th>RJ</th>\n",
       "      <th>SK</th>\n",
       "      <th>TN</th>\n",
       "      <th>TG</th>\n",
       "      <th>TR</th>\n",
       "      <th>UP</th>\n",
       "      <th>UT</th>\n",
       "      <th>WB</th>\n",
       "      <th>UN</th>\n",
       "    </tr>\n",
       "  </thead>\n",
       "  <tbody>\n",
       "    <tr>\n",
       "      <th>693</th>\n",
       "      <td>31-Oct-20</td>\n",
       "      <td>2020-10-31</td>\n",
       "      <td>Confirmed</td>\n",
       "      <td>47228</td>\n",
       "      <td>15</td>\n",
       "      <td>2783</td>\n",
       "      <td>100</td>\n",
       "      <td>336</td>\n",
       "      <td>800</td>\n",
       "      <td>67</td>\n",
       "      <td>...</td>\n",
       "      <td>500</td>\n",
       "      <td>1780</td>\n",
       "      <td>27</td>\n",
       "      <td>2511</td>\n",
       "      <td>1445</td>\n",
       "      <td>54</td>\n",
       "      <td>1781</td>\n",
       "      <td>413</td>\n",
       "      <td>3993</td>\n",
       "      <td>0</td>\n",
       "    </tr>\n",
       "    <tr>\n",
       "      <th>694</th>\n",
       "      <td>31-Oct-20</td>\n",
       "      <td>2020-10-31</td>\n",
       "      <td>Recovered</td>\n",
       "      <td>58682</td>\n",
       "      <td>24</td>\n",
       "      <td>3708</td>\n",
       "      <td>182</td>\n",
       "      <td>1386</td>\n",
       "      <td>1186</td>\n",
       "      <td>82</td>\n",
       "      <td>...</td>\n",
       "      <td>328</td>\n",
       "      <td>1920</td>\n",
       "      <td>26</td>\n",
       "      <td>3848</td>\n",
       "      <td>1486</td>\n",
       "      <td>141</td>\n",
       "      <td>2426</td>\n",
       "      <td>152</td>\n",
       "      <td>4049</td>\n",
       "      <td>0</td>\n",
       "    </tr>\n",
       "    <tr>\n",
       "      <th>695</th>\n",
       "      <td>31-Oct-20</td>\n",
       "      <td>2020-10-31</td>\n",
       "      <td>Deceased</td>\n",
       "      <td>469</td>\n",
       "      <td>0</td>\n",
       "      <td>14</td>\n",
       "      <td>0</td>\n",
       "      <td>4</td>\n",
       "      <td>6</td>\n",
       "      <td>1</td>\n",
       "      <td>...</td>\n",
       "      <td>16</td>\n",
       "      <td>9</td>\n",
       "      <td>1</td>\n",
       "      <td>31</td>\n",
       "      <td>6</td>\n",
       "      <td>0</td>\n",
       "      <td>18</td>\n",
       "      <td>12</td>\n",
       "      <td>57</td>\n",
       "      <td>0</td>\n",
       "    </tr>\n",
       "    <tr>\n",
       "      <th>696</th>\n",
       "      <td>01-Nov-20</td>\n",
       "      <td>2020-11-01</td>\n",
       "      <td>Confirmed</td>\n",
       "      <td>45900</td>\n",
       "      <td>8</td>\n",
       "      <td>2618</td>\n",
       "      <td>29</td>\n",
       "      <td>166</td>\n",
       "      <td>777</td>\n",
       "      <td>58</td>\n",
       "      <td>...</td>\n",
       "      <td>317</td>\n",
       "      <td>1754</td>\n",
       "      <td>18</td>\n",
       "      <td>2504</td>\n",
       "      <td>1416</td>\n",
       "      <td>77</td>\n",
       "      <td>1969</td>\n",
       "      <td>222</td>\n",
       "      <td>3987</td>\n",
       "      <td>0</td>\n",
       "    </tr>\n",
       "    <tr>\n",
       "      <th>697</th>\n",
       "      <td>01-Nov-20</td>\n",
       "      <td>2020-11-01</td>\n",
       "      <td>Recovered</td>\n",
       "      <td>53225</td>\n",
       "      <td>12</td>\n",
       "      <td>3509</td>\n",
       "      <td>114</td>\n",
       "      <td>730</td>\n",
       "      <td>1195</td>\n",
       "      <td>81</td>\n",
       "      <td>...</td>\n",
       "      <td>368</td>\n",
       "      <td>1591</td>\n",
       "      <td>34</td>\n",
       "      <td>3644</td>\n",
       "      <td>1579</td>\n",
       "      <td>170</td>\n",
       "      <td>2388</td>\n",
       "      <td>178</td>\n",
       "      <td>4053</td>\n",
       "      <td>0</td>\n",
       "    </tr>\n",
       "    <tr>\n",
       "      <th>698</th>\n",
       "      <td>01-Nov-20</td>\n",
       "      <td>2020-11-01</td>\n",
       "      <td>Deceased</td>\n",
       "      <td>491</td>\n",
       "      <td>1</td>\n",
       "      <td>16</td>\n",
       "      <td>0</td>\n",
       "      <td>1</td>\n",
       "      <td>7</td>\n",
       "      <td>0</td>\n",
       "      <td>...</td>\n",
       "      <td>11</td>\n",
       "      <td>10</td>\n",
       "      <td>1</td>\n",
       "      <td>30</td>\n",
       "      <td>5</td>\n",
       "      <td>0</td>\n",
       "      <td>26</td>\n",
       "      <td>4</td>\n",
       "      <td>59</td>\n",
       "      <td>0</td>\n",
       "    </tr>\n",
       "  </tbody>\n",
       "</table>\n",
       "<p>6 rows × 42 columns</p>\n",
       "</div>"
      ],
      "text/plain": [
       "          Date    Date_YMD     Status     TT  AN    AP   AR    AS    BR  CH  \\\n",
       "693  31-Oct-20  2020-10-31  Confirmed  47228  15  2783  100   336   800  67   \n",
       "694  31-Oct-20  2020-10-31  Recovered  58682  24  3708  182  1386  1186  82   \n",
       "695  31-Oct-20  2020-10-31   Deceased    469   0    14    0     4     6   1   \n",
       "696  01-Nov-20  2020-11-01  Confirmed  45900   8  2618   29   166   777  58   \n",
       "697  01-Nov-20  2020-11-01  Recovered  53225  12  3509  114   730  1195  81   \n",
       "698  01-Nov-20  2020-11-01   Deceased    491   1    16    0     1     7   0   \n",
       "\n",
       "     ...   PB    RJ  SK    TN    TG   TR    UP   UT    WB  UN  \n",
       "693  ...  500  1780  27  2511  1445   54  1781  413  3993   0  \n",
       "694  ...  328  1920  26  3848  1486  141  2426  152  4049   0  \n",
       "695  ...   16     9   1    31     6    0    18   12    57   0  \n",
       "696  ...  317  1754  18  2504  1416   77  1969  222  3987   0  \n",
       "697  ...  368  1591  34  3644  1579  170  2388  178  4053   0  \n",
       "698  ...   11    10   1    30     5    0    26    4    59   0  \n",
       "\n",
       "[6 rows x 42 columns]"
      ]
     },
     "execution_count": 3,
     "metadata": {},
     "output_type": "execute_result"
    }
   ],
   "source": [
    "#hide\n",
    "df.tail(6)"
   ]
  },
  {
   "cell_type": "code",
   "execution_count": 4,
   "metadata": {
    "execution": {
     "iopub.execute_input": "2020-11-01T19:11:07.199312Z",
     "iopub.status.busy": "2020-11-01T19:11:07.198695Z",
     "iopub.status.idle": "2020-11-01T19:11:07.201135Z",
     "shell.execute_reply": "2020-11-01T19:11:07.201623Z"
    },
    "papermill": {
     "duration": 0.021129,
     "end_time": "2020-11-01T19:11:07.201760",
     "exception": false,
     "start_time": "2020-11-01T19:11:07.180631",
     "status": "completed"
    },
    "tags": []
   },
   "outputs": [
    {
     "data": {
      "text/plain": [
       "('01-Nov-20', '31-Oct-20')"
      ]
     },
     "execution_count": 4,
     "metadata": {},
     "output_type": "execute_result"
    }
   ],
   "source": [
    "#hide\n",
    "dt_today = df.iloc[-1][0]\n",
    "dt_yday = df.iloc[-4][0]\n",
    "dt_today, dt_yday"
   ]
  },
  {
   "cell_type": "code",
   "execution_count": 5,
   "metadata": {
    "execution": {
     "iopub.execute_input": "2020-11-01T19:11:07.236257Z",
     "iopub.status.busy": "2020-11-01T19:11:07.235693Z",
     "iopub.status.idle": "2020-11-01T19:11:07.242590Z",
     "shell.execute_reply": "2020-11-01T19:11:07.243096Z"
    },
    "papermill": {
     "duration": 0.028075,
     "end_time": "2020-11-01T19:11:07.243244",
     "exception": false,
     "start_time": "2020-11-01T19:11:07.215169",
     "status": "completed"
    },
    "tags": []
   },
   "outputs": [],
   "source": [
    "#hide\n",
    "df_today = df.groupby('Status').sum()\n",
    "df_yday = df.iloc[:-3][:].groupby('Status').sum()"
   ]
  },
  {
   "cell_type": "code",
   "execution_count": 6,
   "metadata": {
    "execution": {
     "iopub.execute_input": "2020-11-01T19:11:07.285507Z",
     "iopub.status.busy": "2020-11-01T19:11:07.284801Z",
     "iopub.status.idle": "2020-11-01T19:11:07.287329Z",
     "shell.execute_reply": "2020-11-01T19:11:07.287822Z"
    },
    "papermill": {
     "duration": 0.032051,
     "end_time": "2020-11-01T19:11:07.287959",
     "exception": false,
     "start_time": "2020-11-01T19:11:07.255908",
     "status": "completed"
    },
    "tags": []
   },
   "outputs": [
    {
     "data": {
      "text/html": [
       "<div>\n",
       "<style scoped>\n",
       "    .dataframe tbody tr th:only-of-type {\n",
       "        vertical-align: middle;\n",
       "    }\n",
       "\n",
       "    .dataframe tbody tr th {\n",
       "        vertical-align: top;\n",
       "    }\n",
       "\n",
       "    .dataframe thead th {\n",
       "        text-align: right;\n",
       "    }\n",
       "</style>\n",
       "<table border=\"1\" class=\"dataframe\">\n",
       "  <thead>\n",
       "    <tr style=\"text-align: right;\">\n",
       "      <th></th>\n",
       "      <th>TT</th>\n",
       "      <th>AN</th>\n",
       "      <th>AP</th>\n",
       "      <th>AR</th>\n",
       "      <th>AS</th>\n",
       "      <th>BR</th>\n",
       "      <th>CH</th>\n",
       "      <th>CT</th>\n",
       "      <th>DN</th>\n",
       "      <th>DD</th>\n",
       "      <th>...</th>\n",
       "      <th>PB</th>\n",
       "      <th>RJ</th>\n",
       "      <th>SK</th>\n",
       "      <th>TN</th>\n",
       "      <th>TG</th>\n",
       "      <th>TR</th>\n",
       "      <th>UP</th>\n",
       "      <th>UT</th>\n",
       "      <th>WB</th>\n",
       "      <th>UN</th>\n",
       "    </tr>\n",
       "    <tr>\n",
       "      <th>Status</th>\n",
       "      <th></th>\n",
       "      <th></th>\n",
       "      <th></th>\n",
       "      <th></th>\n",
       "      <th></th>\n",
       "      <th></th>\n",
       "      <th></th>\n",
       "      <th></th>\n",
       "      <th></th>\n",
       "      <th></th>\n",
       "      <th></th>\n",
       "      <th></th>\n",
       "      <th></th>\n",
       "      <th></th>\n",
       "      <th></th>\n",
       "      <th></th>\n",
       "      <th></th>\n",
       "      <th></th>\n",
       "      <th></th>\n",
       "      <th></th>\n",
       "      <th></th>\n",
       "    </tr>\n",
       "  </thead>\n",
       "  <tbody>\n",
       "    <tr>\n",
       "      <th>Confirmed</th>\n",
       "      <td>8228576</td>\n",
       "      <td>4336</td>\n",
       "      <td>825966</td>\n",
       "      <td>14881</td>\n",
       "      <td>206415</td>\n",
       "      <td>217541</td>\n",
       "      <td>14476</td>\n",
       "      <td>188813</td>\n",
       "      <td>3248</td>\n",
       "      <td>0</td>\n",
       "      <td>...</td>\n",
       "      <td>133975</td>\n",
       "      <td>198747</td>\n",
       "      <td>3971</td>\n",
       "      <td>727026</td>\n",
       "      <td>239538</td>\n",
       "      <td>30791</td>\n",
       "      <td>483832</td>\n",
       "      <td>62550</td>\n",
       "      <td>377651</td>\n",
       "      <td>0</td>\n",
       "    </tr>\n",
       "    <tr>\n",
       "      <th>Deceased</th>\n",
       "      <td>122049</td>\n",
       "      <td>60</td>\n",
       "      <td>6706</td>\n",
       "      <td>37</td>\n",
       "      <td>935</td>\n",
       "      <td>1097</td>\n",
       "      <td>226</td>\n",
       "      <td>2150</td>\n",
       "      <td>2</td>\n",
       "      <td>0</td>\n",
       "      <td>...</td>\n",
       "      <td>4214</td>\n",
       "      <td>1917</td>\n",
       "      <td>69</td>\n",
       "      <td>11152</td>\n",
       "      <td>1341</td>\n",
       "      <td>343</td>\n",
       "      <td>7051</td>\n",
       "      <td>1027</td>\n",
       "      <td>6900</td>\n",
       "      <td>0</td>\n",
       "    </tr>\n",
       "    <tr>\n",
       "      <th>Recovered</th>\n",
       "      <td>7542651</td>\n",
       "      <td>4103</td>\n",
       "      <td>795592</td>\n",
       "      <td>13073</td>\n",
       "      <td>196781</td>\n",
       "      <td>209006</td>\n",
       "      <td>13632</td>\n",
       "      <td>164537</td>\n",
       "      <td>3168</td>\n",
       "      <td>0</td>\n",
       "      <td>...</td>\n",
       "      <td>125566</td>\n",
       "      <td>181575</td>\n",
       "      <td>3570</td>\n",
       "      <td>694880</td>\n",
       "      <td>220466</td>\n",
       "      <td>29025</td>\n",
       "      <td>453458</td>\n",
       "      <td>57101</td>\n",
       "      <td>333990</td>\n",
       "      <td>0</td>\n",
       "    </tr>\n",
       "  </tbody>\n",
       "</table>\n",
       "<p>3 rows × 39 columns</p>\n",
       "</div>"
      ],
      "text/plain": [
       "                TT    AN      AP     AR      AS      BR     CH      CT    DN  \\\n",
       "Status                                                                         \n",
       "Confirmed  8228576  4336  825966  14881  206415  217541  14476  188813  3248   \n",
       "Deceased    122049    60    6706     37     935    1097    226    2150     2   \n",
       "Recovered  7542651  4103  795592  13073  196781  209006  13632  164537  3168   \n",
       "\n",
       "           DD  ...      PB      RJ    SK      TN      TG     TR      UP  \\\n",
       "Status         ...                                                        \n",
       "Confirmed   0  ...  133975  198747  3971  727026  239538  30791  483832   \n",
       "Deceased    0  ...    4214    1917    69   11152    1341    343    7051   \n",
       "Recovered   0  ...  125566  181575  3570  694880  220466  29025  453458   \n",
       "\n",
       "              UT      WB  UN  \n",
       "Status                        \n",
       "Confirmed  62550  377651   0  \n",
       "Deceased    1027    6900   0  \n",
       "Recovered  57101  333990   0  \n",
       "\n",
       "[3 rows x 39 columns]"
      ]
     },
     "execution_count": 6,
     "metadata": {},
     "output_type": "execute_result"
    }
   ],
   "source": [
    "#hide\n",
    "df_today"
   ]
  },
  {
   "cell_type": "code",
   "execution_count": 7,
   "metadata": {
    "execution": {
     "iopub.execute_input": "2020-11-01T19:11:07.323156Z",
     "iopub.status.busy": "2020-11-01T19:11:07.322558Z",
     "iopub.status.idle": "2020-11-01T19:11:07.331799Z",
     "shell.execute_reply": "2020-11-01T19:11:07.331312Z"
    },
    "papermill": {
     "duration": 0.030411,
     "end_time": "2020-11-01T19:11:07.331918",
     "exception": false,
     "start_time": "2020-11-01T19:11:07.301507",
     "status": "completed"
    },
    "tags": []
   },
   "outputs": [
    {
     "data": {
      "text/html": [
       "<div>\n",
       "<style scoped>\n",
       "    .dataframe tbody tr th:only-of-type {\n",
       "        vertical-align: middle;\n",
       "    }\n",
       "\n",
       "    .dataframe tbody tr th {\n",
       "        vertical-align: top;\n",
       "    }\n",
       "\n",
       "    .dataframe thead th {\n",
       "        text-align: right;\n",
       "    }\n",
       "</style>\n",
       "<table border=\"1\" class=\"dataframe\">\n",
       "  <thead>\n",
       "    <tr style=\"text-align: right;\">\n",
       "      <th></th>\n",
       "      <th>TT</th>\n",
       "      <th>AN</th>\n",
       "      <th>AP</th>\n",
       "      <th>AR</th>\n",
       "      <th>AS</th>\n",
       "      <th>BR</th>\n",
       "      <th>CH</th>\n",
       "      <th>CT</th>\n",
       "      <th>DN</th>\n",
       "      <th>DD</th>\n",
       "      <th>...</th>\n",
       "      <th>PB</th>\n",
       "      <th>RJ</th>\n",
       "      <th>SK</th>\n",
       "      <th>TN</th>\n",
       "      <th>TG</th>\n",
       "      <th>TR</th>\n",
       "      <th>UP</th>\n",
       "      <th>UT</th>\n",
       "      <th>WB</th>\n",
       "      <th>UN</th>\n",
       "    </tr>\n",
       "    <tr>\n",
       "      <th>Status</th>\n",
       "      <th></th>\n",
       "      <th></th>\n",
       "      <th></th>\n",
       "      <th></th>\n",
       "      <th></th>\n",
       "      <th></th>\n",
       "      <th></th>\n",
       "      <th></th>\n",
       "      <th></th>\n",
       "      <th></th>\n",
       "      <th></th>\n",
       "      <th></th>\n",
       "      <th></th>\n",
       "      <th></th>\n",
       "      <th></th>\n",
       "      <th></th>\n",
       "      <th></th>\n",
       "      <th></th>\n",
       "      <th></th>\n",
       "      <th></th>\n",
       "      <th></th>\n",
       "    </tr>\n",
       "  </thead>\n",
       "  <tbody>\n",
       "    <tr>\n",
       "      <th>Confirmed</th>\n",
       "      <td>8182676</td>\n",
       "      <td>4328</td>\n",
       "      <td>823348</td>\n",
       "      <td>14852</td>\n",
       "      <td>206249</td>\n",
       "      <td>216764</td>\n",
       "      <td>14418</td>\n",
       "      <td>187270</td>\n",
       "      <td>3246</td>\n",
       "      <td>0</td>\n",
       "      <td>...</td>\n",
       "      <td>133658</td>\n",
       "      <td>196993</td>\n",
       "      <td>3953</td>\n",
       "      <td>724522</td>\n",
       "      <td>238122</td>\n",
       "      <td>30714</td>\n",
       "      <td>481863</td>\n",
       "      <td>62328</td>\n",
       "      <td>373664</td>\n",
       "      <td>0</td>\n",
       "    </tr>\n",
       "    <tr>\n",
       "      <th>Deceased</th>\n",
       "      <td>121558</td>\n",
       "      <td>59</td>\n",
       "      <td>6690</td>\n",
       "      <td>37</td>\n",
       "      <td>934</td>\n",
       "      <td>1090</td>\n",
       "      <td>226</td>\n",
       "      <td>2101</td>\n",
       "      <td>2</td>\n",
       "      <td>0</td>\n",
       "      <td>...</td>\n",
       "      <td>4203</td>\n",
       "      <td>1907</td>\n",
       "      <td>68</td>\n",
       "      <td>11122</td>\n",
       "      <td>1336</td>\n",
       "      <td>343</td>\n",
       "      <td>7025</td>\n",
       "      <td>1023</td>\n",
       "      <td>6841</td>\n",
       "      <td>0</td>\n",
       "    </tr>\n",
       "    <tr>\n",
       "      <th>Recovered</th>\n",
       "      <td>7489426</td>\n",
       "      <td>4091</td>\n",
       "      <td>792083</td>\n",
       "      <td>12959</td>\n",
       "      <td>196051</td>\n",
       "      <td>207811</td>\n",
       "      <td>13551</td>\n",
       "      <td>163079</td>\n",
       "      <td>3164</td>\n",
       "      <td>0</td>\n",
       "      <td>...</td>\n",
       "      <td>125198</td>\n",
       "      <td>179984</td>\n",
       "      <td>3536</td>\n",
       "      <td>691236</td>\n",
       "      <td>218887</td>\n",
       "      <td>28855</td>\n",
       "      <td>451070</td>\n",
       "      <td>56923</td>\n",
       "      <td>329937</td>\n",
       "      <td>0</td>\n",
       "    </tr>\n",
       "  </tbody>\n",
       "</table>\n",
       "<p>3 rows × 39 columns</p>\n",
       "</div>"
      ],
      "text/plain": [
       "                TT    AN      AP     AR      AS      BR     CH      CT    DN  \\\n",
       "Status                                                                         \n",
       "Confirmed  8182676  4328  823348  14852  206249  216764  14418  187270  3246   \n",
       "Deceased    121558    59    6690     37     934    1090    226    2101     2   \n",
       "Recovered  7489426  4091  792083  12959  196051  207811  13551  163079  3164   \n",
       "\n",
       "           DD  ...      PB      RJ    SK      TN      TG     TR      UP  \\\n",
       "Status         ...                                                        \n",
       "Confirmed   0  ...  133658  196993  3953  724522  238122  30714  481863   \n",
       "Deceased    0  ...    4203    1907    68   11122    1336    343    7025   \n",
       "Recovered   0  ...  125198  179984  3536  691236  218887  28855  451070   \n",
       "\n",
       "              UT      WB  UN  \n",
       "Status                        \n",
       "Confirmed  62328  373664   0  \n",
       "Deceased    1023    6841   0  \n",
       "Recovered  56923  329937   0  \n",
       "\n",
       "[3 rows x 39 columns]"
      ]
     },
     "execution_count": 7,
     "metadata": {},
     "output_type": "execute_result"
    }
   ],
   "source": [
    "#hide\n",
    "df_yday.head()"
   ]
  },
  {
   "cell_type": "code",
   "execution_count": 8,
   "metadata": {
    "execution": {
     "iopub.execute_input": "2020-11-01T19:11:07.368904Z",
     "iopub.status.busy": "2020-11-01T19:11:07.368313Z",
     "iopub.status.idle": "2020-11-01T19:11:07.370810Z",
     "shell.execute_reply": "2020-11-01T19:11:07.371332Z"
    },
    "papermill": {
     "duration": 0.025405,
     "end_time": "2020-11-01T19:11:07.371479",
     "exception": false,
     "start_time": "2020-11-01T19:11:07.346074",
     "status": "completed"
    },
    "tags": []
   },
   "outputs": [
    {
     "data": {
      "text/plain": [
       "{'updated': '01-Nov-20',\n",
       " 'since': '31-Oct-20',\n",
       " 'Cases': 8228576,\n",
       " 'Deaths': 122049,\n",
       " 'Recovered': 7542651,\n",
       " 'PCases': 8182676,\n",
       " 'PDeaths': 121558,\n",
       " 'PRecovered': 7489426,\n",
       " 'Cases (+)': 45900,\n",
       " 'Deaths (+)': 491,\n",
       " 'Recovered (+)': 53225}"
      ]
     },
     "execution_count": 8,
     "metadata": {},
     "output_type": "execute_result"
    }
   ],
   "source": [
    "#hide\n",
    "summary = {\n",
    "    'updated' : dt_today,\n",
    "    'since' : dt_yday,\n",
    "    'Cases' : df_today['TT'][0],\n",
    "    'Deaths' : df_today['TT'][1],\n",
    "    'Recovered' : df_today['TT'][2],\n",
    "    'PCases' : df_yday['TT'][0],\n",
    "    'PDeaths' : df_yday['TT'][1],\n",
    "    'PRecovered': df_yday['TT'][2],\n",
    "    'Cases (+)' : df_today['TT'][0] - df_yday['TT'][0],\n",
    "    'Deaths (+)' : df_today['TT'][1] - df_yday['TT'][1],\n",
    "    'Recovered (+)': df_today['TT'][2] - df_yday['TT'][2]\n",
    "}\n",
    "\n",
    "summary"
   ]
  },
  {
   "cell_type": "code",
   "execution_count": 9,
   "metadata": {
    "execution": {
     "iopub.execute_input": "2020-11-01T19:11:07.405542Z",
     "iopub.status.busy": "2020-11-01T19:11:07.404963Z",
     "iopub.status.idle": "2020-11-01T19:11:07.407673Z",
     "shell.execute_reply": "2020-11-01T19:11:07.408206Z"
    },
    "papermill": {
     "duration": 0.022269,
     "end_time": "2020-11-01T19:11:07.408345",
     "exception": false,
     "start_time": "2020-11-01T19:11:07.386076",
     "status": "completed"
    },
    "tags": []
   },
   "outputs": [],
   "source": [
    "#hide\n",
    "overview = '''\n",
    "<!-- #######  HTML!! #########-->\n",
    "<h1 style=\"color: #5e9ca0; text-align: center;\">India</h1>\n",
    "<p style=\"text-align: center;\">Last update: <strong>{update}</strong></p>\n",
    "<p style=\"text-align: center;\">Confirmed cases:</p>\n",
    "<p style=\"text-align: center;font-size:24px;\">{cases} (<span style=\"color: #ff0000;\">+{new}</span>)</p>\n",
    "<p style=\"text-align: center;\">Confirmed deaths:</p>\n",
    "<p style=\"text-align: center;font-size:24px;\">{deaths} (<span style=\"color: #ff0000;\">+{dnew}</span>)</p>\n",
    "<p style=\"text-align: center;\">Recovered cases:</p>\n",
    "<p style=\"text-align: center;font-size:24px;\">{recovered} (<span style=\"color: #00ff00;\">+{rnew}</span>)</p>\n",
    "'''"
   ]
  },
  {
   "cell_type": "code",
   "execution_count": 10,
   "metadata": {
    "execution": {
     "iopub.execute_input": "2020-11-01T19:11:07.444646Z",
     "iopub.status.busy": "2020-11-01T19:11:07.444056Z",
     "iopub.status.idle": "2020-11-01T19:11:07.448008Z",
     "shell.execute_reply": "2020-11-01T19:11:07.448557Z"
    },
    "papermill": {
     "duration": 0.024956,
     "end_time": "2020-11-01T19:11:07.448697",
     "exception": false,
     "start_time": "2020-11-01T19:11:07.423741",
     "status": "completed"
    },
    "tags": []
   },
   "outputs": [
    {
     "data": {
      "text/html": [
       "\n",
       "<!-- #######  HTML!! #########-->\n",
       "<h1 style=\"color: #5e9ca0; text-align: center;\">India</h1>\n",
       "<p style=\"text-align: center;\">Last update: <strong>01-Nov-20</strong></p>\n",
       "<p style=\"text-align: center;\">Confirmed cases:</p>\n",
       "<p style=\"text-align: center;font-size:24px;\">8228576 (<span style=\"color: #ff0000;\">+45900</span>)</p>\n",
       "<p style=\"text-align: center;\">Confirmed deaths:</p>\n",
       "<p style=\"text-align: center;font-size:24px;\">122049 (<span style=\"color: #ff0000;\">+491</span>)</p>\n",
       "<p style=\"text-align: center;\">Recovered cases:</p>\n",
       "<p style=\"text-align: center;font-size:24px;\">7542651 (<span style=\"color: #00ff00;\">+53225</span>)</p>\n"
      ],
      "text/plain": [
       "<IPython.core.display.HTML object>"
      ]
     },
     "metadata": {},
     "output_type": "display_data"
    }
   ],
   "source": [
    "#hide_input\n",
    "# Fill the above HTML with the information from the summary dictionary\n",
    "\n",
    "update = summary['updated']\n",
    "cases = summary['Cases']\n",
    "new = summary['Cases (+)']\n",
    "deaths = summary['Deaths']\n",
    "dnew = summary['Deaths (+)']\n",
    "recovered = summary['Recovered']\n",
    "rnew = summary['Recovered (+)']\n",
    "\n",
    "html = HTML(overview.format(update=update, cases=cases,new=new,deaths=deaths,dnew=dnew, recovered=recovered, rnew=rnew))\n",
    "\n",
    "display(html)"
   ]
  },
  {
   "cell_type": "code",
   "execution_count": 11,
   "metadata": {
    "execution": {
     "iopub.execute_input": "2020-11-01T19:11:07.488798Z",
     "iopub.status.busy": "2020-11-01T19:11:07.487843Z",
     "iopub.status.idle": "2020-11-01T19:11:07.491754Z",
     "shell.execute_reply": "2020-11-01T19:11:07.491279Z"
    },
    "papermill": {
     "duration": 0.027899,
     "end_time": "2020-11-01T19:11:07.491876",
     "exception": false,
     "start_time": "2020-11-01T19:11:07.463977",
     "status": "completed"
    },
    "tags": []
   },
   "outputs": [],
   "source": [
    "#hide\n",
    "df_cases = df[df['Status'] == 'Confirmed'].copy()\n",
    "df_cases.drop(columns = ['Status'], inplace=True)\n",
    "df_deaths = df[df['Status'] == 'Deceased'].copy()\n",
    "df_deaths.drop(columns = ['Status'], inplace=True)\n",
    "df_recovered = df[df['Status'] == 'Recovered'].copy()\n",
    "df_recovered.drop(columns = ['Status'], inplace=True)"
   ]
  },
  {
   "cell_type": "markdown",
   "metadata": {
    "papermill": {
     "duration": 0.014615,
     "end_time": "2020-11-01T19:11:07.521236",
     "exception": false,
     "start_time": "2020-11-01T19:11:07.506621",
     "status": "completed"
    },
    "tags": []
   },
   "source": [
    "Plot for India:"
   ]
  },
  {
   "cell_type": "code",
   "execution_count": 12,
   "metadata": {
    "execution": {
     "iopub.execute_input": "2020-11-01T19:11:07.572533Z",
     "iopub.status.busy": "2020-11-01T19:11:07.571931Z",
     "iopub.status.idle": "2020-11-01T19:11:07.843682Z",
     "shell.execute_reply": "2020-11-01T19:11:07.843105Z"
    },
    "papermill": {
     "duration": 0.30815,
     "end_time": "2020-11-01T19:11:07.843828",
     "exception": false,
     "start_time": "2020-11-01T19:11:07.535678",
     "status": "completed"
    },
    "tags": []
   },
   "outputs": [
    {
     "data": {
      "image/png": "[encoded data removed]",
      "text/plain": [
       "<Figure size 1296x432 with 1 Axes>"
      ]
     },
     "metadata": {
      "needs_background": "light"
     },
     "output_type": "display_data"
    }
   ],
   "source": [
    "#hide_input\n",
    "plt.figure(figsize = (18,6))\n",
    "plt.plot(df_cases['Date'], df_cases['TT'],'.-', alpha=0.7, color='b', label='Confirmed cases')\n",
    "plt.plot(df_recovered['Date'], df_recovered['TT'],'.-', alpha=0.7, color='g', label='Recovered')\n",
    "plt.plot(df_deaths['Date'], df_deaths['TT'],'.-', alpha=0.7, color='r', label='Deceased')\n",
    "plt.legend()\n",
    "plt.title(\"Cases per day in India\")\n",
    "plt.xticks(ticks=' ')\n",
    "plt.xlabel(f'{df_cases.iloc[0][0]} to {df_cases.iloc[-1][0]}')\n",
    "plt.ylabel('No. of cases');"
   ]
  },
  {
   "cell_type": "markdown",
   "metadata": {
    "papermill": {
     "duration": 0.017843,
     "end_time": "2020-11-01T19:11:07.879464",
     "exception": false,
     "start_time": "2020-11-01T19:11:07.861621",
     "status": "completed"
    },
    "tags": []
   },
   "source": [
    "Plots for the states with highest number of cases:"
   ]
  },
  {
   "cell_type": "markdown",
   "metadata": {
    "tags": [
     "papermill-error-cell-tag"
    ]
   },
   "source": [
    "<span id=\"papermill-error-cell\" style=\"color:red; font-family:Helvetica Neue, Helvetica, Arial, sans-serif; font-size:2em;\">Execution using papermill encountered an exception here and stopped:</span>"
   ]
  },
  {
   "cell_type": "code",
   "execution_count": 13,
   "metadata": {
    "execution": {
     "iopub.execute_input": "2020-11-01T19:11:07.935674Z",
     "iopub.status.busy": "2020-11-01T19:11:07.934953Z",
     "iopub.status.idle": "2020-11-01T19:11:08.048494Z",
     "shell.execute_reply": "2020-11-01T19:11:08.049400Z"
    },
    "papermill": {
     "duration": 0.152435,
     "end_time": "2020-11-01T19:11:08.049730",
     "exception": true,
     "start_time": "2020-11-01T19:11:07.897295",
     "status": "failed"
    },
    "tags": []
   },
   "outputs": [
    {
     "ename": "TypeError",
     "evalue": "'>' not supported between instances of 'numpy.ndarray' and 'str'",
     "output_type": "error",
     "traceback": [
      "\u001b[0;31m---------------------------------------------------------------------------\u001b[0m",
      "\u001b[0;31mTypeError\u001b[0m                                 Traceback (most recent call last)",
      "\u001b[0;32m<ipython-input-13-9711672c0a2c>\u001b[0m in \u001b[0;36m<module>\u001b[0;34m\u001b[0m\n\u001b[1;32m      1\u001b[0m \u001b[0;31m#hide_input\u001b[0m\u001b[0;34m\u001b[0m\u001b[0;34m\u001b[0m\u001b[0;34m\u001b[0m\u001b[0m\n\u001b[0;32m----> 2\u001b[0;31m \u001b[0mtop_3\u001b[0m \u001b[0;34m=\u001b[0m \u001b[0msorted\u001b[0m\u001b[0;34m(\u001b[0m\u001b[0mdf_cases\u001b[0m\u001b[0;34m.\u001b[0m\u001b[0msum\u001b[0m\u001b[0;34m(\u001b[0m\u001b[0;34m)\u001b[0m\u001b[0;34m.\u001b[0m\u001b[0mvalues\u001b[0m\u001b[0;34m[\u001b[0m\u001b[0;36m1\u001b[0m\u001b[0;34m:\u001b[0m\u001b[0;34m]\u001b[0m\u001b[0;34m,\u001b[0m \u001b[0mreverse\u001b[0m\u001b[0;34m=\u001b[0m\u001b[0;32mTrue\u001b[0m\u001b[0;34m)\u001b[0m\u001b[0;34m[\u001b[0m\u001b[0;36m1\u001b[0m\u001b[0;34m:\u001b[0m\u001b[0;36m4\u001b[0m\u001b[0;34m]\u001b[0m\u001b[0;34m\u001b[0m\u001b[0;34m\u001b[0m\u001b[0m\n\u001b[0m\u001b[1;32m      3\u001b[0m \u001b[0mtop3_states\u001b[0m\u001b[0;34m=\u001b[0m\u001b[0;34m[\u001b[0m\u001b[0;34m]\u001b[0m\u001b[0;34m\u001b[0m\u001b[0;34m\u001b[0m\u001b[0m\n\u001b[1;32m      4\u001b[0m \u001b[0;32mfor\u001b[0m \u001b[0mi\u001b[0m \u001b[0;32min\u001b[0m \u001b[0mtop_3\u001b[0m\u001b[0;34m:\u001b[0m\u001b[0;34m\u001b[0m\u001b[0;34m\u001b[0m\u001b[0m\n\u001b[1;32m      5\u001b[0m     \u001b[0mtop3_states\u001b[0m\u001b[0;34m.\u001b[0m\u001b[0mappend\u001b[0m\u001b[0;34m(\u001b[0m\u001b[0mdf_cases\u001b[0m\u001b[0;34m.\u001b[0m\u001b[0msum\u001b[0m\u001b[0;34m(\u001b[0m\u001b[0;34m)\u001b[0m\u001b[0;34m[\u001b[0m\u001b[0mdf_cases\u001b[0m\u001b[0;34m.\u001b[0m\u001b[0msum\u001b[0m\u001b[0;34m(\u001b[0m\u001b[0;34m)\u001b[0m \u001b[0;34m==\u001b[0m \u001b[0mi\u001b[0m\u001b[0;34m]\u001b[0m\u001b[0;34m.\u001b[0m\u001b[0mindex\u001b[0m\u001b[0;34m)\u001b[0m\u001b[0;34m\u001b[0m\u001b[0;34m\u001b[0m\u001b[0m\n",
      "\u001b[0;31mTypeError\u001b[0m: '>' not supported between instances of 'numpy.ndarray' and 'str'"
     ]
    }
   ],
   "source": [
    "#hide_input\n",
    "top_3 = sorted(df_cases.sum().values[1:], reverse=True)[1:4]\n",
    "top3_states=[]\n",
    "for i in top_3:\n",
    "    top3_states.append(df_cases.sum()[df_cases.sum() == i].index)\n",
    "\n",
    "\n",
    "fig, ax = plt.subplots(1,3,figsize = (21,6))\n",
    "for i in range(3):\n",
    "    state = top3_states[i].values[0]\n",
    "    ax[i].plot(df_cases['Date'], df_cases[state],'.-', color='b', alpha=0.7)\n",
    "    ax[i].plot(df_deaths['Date'], df_deaths[state],'.-', color='r', alpha=0.7)\n",
    "    ax[i].plot(df_recovered['Date'], df_recovered[state],'.-', color='g', alpha=0.7)\n",
    "    \n",
    "    ax[i].set_title(f\"Cases in {state}\")\n",
    "    ax[i].set_xticks(ticks=' ')\n",
    "    ax[i].set_xlabel(f'{df_cases.iloc[0][0]} to {df_cases.iloc[-1][0]}')\n",
    "    ax[i].set_ylabel('No. of cases');"
   ]
  },
  {
   "cell_type": "code",
   "execution_count": null,
   "metadata": {
    "papermill": {
     "duration": null,
     "end_time": null,
     "exception": null,
     "start_time": null,
     "status": "pending"
    },
    "tags": []
   },
   "outputs": [],
   "source": []
  },
  {
   "cell_type": "code",
   "execution_count": null,
   "metadata": {
    "papermill": {
     "duration": null,
     "end_time": null,
     "exception": null,
     "start_time": null,
     "status": "pending"
    },
    "tags": []
   },
   "outputs": [],
   "source": []
  },
  {
   "cell_type": "code",
   "execution_count": null,
   "metadata": {
    "papermill": {
     "duration": null,
     "end_time": null,
     "exception": null,
     "start_time": null,
     "status": "pending"
    },
    "tags": []
   },
   "outputs": [],
   "source": []
  }
 ],
 "metadata": {
  "kernelspec": {
   "display_name": "Python 3",
   "language": "python",
   "name": "python3"
  },
  "language_info": {
   "codemirror_mode": {
    "name": "ipython",
    "version": 3
   },
   "file_extension": ".py",
   "mimetype": "text/x-python",
   "name": "python",
   "nbconvert_exporter": "python",
   "pygments_lexer": "ipython3",
   "version": "3.6.12"
  },
  "papermill": {
   "duration": 4.321381,
   "end_time": "2020-11-01T19:11:09.322457",
   "environment_variables": {},
   "exception": true,
   "input_path": "2020-08-09-DailyUpdate.ipynb",
   "output_path": "2020-08-09-DailyUpdate.ipynb",
   "parameters": {},
   "start_time": "2020-11-01T19:11:05.001076",
   "version": "2.1.2"
  }
 },
 "nbformat": 4,
 "nbformat_minor": 4
}