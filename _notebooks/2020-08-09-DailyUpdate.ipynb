{
 "cells": [
  {
   "cell_type": "markdown",
   "metadata": {
    "papermill": {
     "duration": 0.017618,
     "end_time": "2020-08-13T19:10:32.769681",
     "exception": false,
     "start_time": "2020-08-13T19:10:32.752063",
     "status": "completed"
    },
    "tags": []
   },
   "source": [
    "# COVID-19 India Daily updates\n",
    "> Tracking coronavirus total cases, deaths and new cases in India on a daily basis\n",
    "\n",
    "- author: Vaibhav Mahapatra"
   ]
  },
  {
   "cell_type": "code",
   "execution_count": 1,
   "metadata": {
    "execution": {
     "iopub.execute_input": "2020-08-13T19:10:32.804610Z",
     "iopub.status.busy": "2020-08-13T19:10:32.803875Z",
     "iopub.status.idle": "2020-08-13T19:10:33.452107Z",
     "shell.execute_reply": "2020-08-13T19:10:33.452689Z"
    },
    "papermill": {
     "duration": 0.668764,
     "end_time": "2020-08-13T19:10:33.452963",
     "exception": false,
     "start_time": "2020-08-13T19:10:32.784199",
     "status": "completed"
    },
    "tags": []
   },
   "outputs": [],
   "source": [
    "#hide\n",
    "\n",
    "## Import essential packages below\n",
    "\n",
    "import pandas as pd\n",
    "import numpy as np\n",
    "import requests\n",
    "import json\n",
    "import matplotlib.pyplot as plt\n",
    "import matplotlib.dates as mdates\n",
    "import matplotlib as mpl\n",
    "from IPython.core.display import display,HTML\n",
    "%matplotlib inline"
   ]
  },
  {
   "cell_type": "code",
   "execution_count": 2,
   "metadata": {
    "execution": {
     "iopub.execute_input": "2020-08-13T19:10:33.568699Z",
     "iopub.status.busy": "2020-08-13T19:10:33.567917Z",
     "iopub.status.idle": "2020-08-13T19:10:33.646922Z",
     "shell.execute_reply": "2020-08-13T19:10:33.645947Z"
    },
    "papermill": {
     "duration": 0.153677,
     "end_time": "2020-08-13T19:10:33.647083",
     "exception": false,
     "start_time": "2020-08-13T19:10:33.493406",
     "status": "completed"
    },
    "tags": []
   },
   "outputs": [
    {
     "data": {
      "text/plain": [
       "(459, 41)"
      ]
     },
     "execution_count": 2,
     "metadata": {},
     "output_type": "execute_result"
    }
   ],
   "source": [
    "#hide\n",
    "url = 'https://api.covid19india.org/csv/latest/state_wise_daily.csv'\n",
    "df = pd.read_csv(url)\n",
    "df.shape"
   ]
  },
  {
   "cell_type": "code",
   "execution_count": 3,
   "metadata": {
    "execution": {
     "iopub.execute_input": "2020-08-13T19:10:33.864869Z",
     "iopub.status.busy": "2020-08-13T19:10:33.864145Z",
     "iopub.status.idle": "2020-08-13T19:10:33.875783Z",
     "shell.execute_reply": "2020-08-13T19:10:33.876409Z"
    },
    "papermill": {
     "duration": 0.106387,
     "end_time": "2020-08-13T19:10:33.876652",
     "exception": false,
     "start_time": "2020-08-13T19:10:33.770265",
     "status": "completed"
    },
    "tags": []
   },
   "outputs": [
    {
     "data": {
      "text/html": [
       "<div>\n",
       "<style scoped>\n",
       "    .dataframe tbody tr th:only-of-type {\n",
       "        vertical-align: middle;\n",
       "    }\n",
       "\n",
       "    .dataframe tbody tr th {\n",
       "        vertical-align: top;\n",
       "    }\n",
       "\n",
       "    .dataframe thead th {\n",
       "        text-align: right;\n",
       "    }\n",
       "</style>\n",
       "<table border=\"1\" class=\"dataframe\">\n",
       "  <thead>\n",
       "    <tr style=\"text-align: right;\">\n",
       "      <th></th>\n",
       "      <th>Date</th>\n",
       "      <th>Status</th>\n",
       "      <th>TT</th>\n",
       "      <th>AN</th>\n",
       "      <th>AP</th>\n",
       "      <th>AR</th>\n",
       "      <th>AS</th>\n",
       "      <th>BR</th>\n",
       "      <th>CH</th>\n",
       "      <th>CT</th>\n",
       "      <th>...</th>\n",
       "      <th>PB</th>\n",
       "      <th>RJ</th>\n",
       "      <th>SK</th>\n",
       "      <th>TN</th>\n",
       "      <th>TG</th>\n",
       "      <th>TR</th>\n",
       "      <th>UP</th>\n",
       "      <th>UT</th>\n",
       "      <th>WB</th>\n",
       "      <th>UN</th>\n",
       "    </tr>\n",
       "  </thead>\n",
       "  <tbody>\n",
       "    <tr>\n",
       "      <th>453</th>\n",
       "      <td>12-Aug-20</td>\n",
       "      <td>Confirmed</td>\n",
       "      <td>67066</td>\n",
       "      <td>136</td>\n",
       "      <td>9597</td>\n",
       "      <td>103</td>\n",
       "      <td>4593</td>\n",
       "      <td>3741</td>\n",
       "      <td>81</td>\n",
       "      <td>567</td>\n",
       "      <td>...</td>\n",
       "      <td>1020</td>\n",
       "      <td>1213</td>\n",
       "      <td>17</td>\n",
       "      <td>5871</td>\n",
       "      <td>1897</td>\n",
       "      <td>110</td>\n",
       "      <td>4475</td>\n",
       "      <td>454</td>\n",
       "      <td>2936</td>\n",
       "      <td>0</td>\n",
       "    </tr>\n",
       "    <tr>\n",
       "      <th>454</th>\n",
       "      <td>12-Aug-20</td>\n",
       "      <td>Recovered</td>\n",
       "      <td>57759</td>\n",
       "      <td>80</td>\n",
       "      <td>6676</td>\n",
       "      <td>25</td>\n",
       "      <td>2136</td>\n",
       "      <td>3029</td>\n",
       "      <td>8</td>\n",
       "      <td>269</td>\n",
       "      <td>...</td>\n",
       "      <td>422</td>\n",
       "      <td>1249</td>\n",
       "      <td>16</td>\n",
       "      <td>5633</td>\n",
       "      <td>1920</td>\n",
       "      <td>182</td>\n",
       "      <td>4072</td>\n",
       "      <td>217</td>\n",
       "      <td>2725</td>\n",
       "      <td>0</td>\n",
       "    </tr>\n",
       "    <tr>\n",
       "      <th>455</th>\n",
       "      <td>12-Aug-20</td>\n",
       "      <td>Deceased</td>\n",
       "      <td>950</td>\n",
       "      <td>0</td>\n",
       "      <td>93</td>\n",
       "      <td>0</td>\n",
       "      <td>6</td>\n",
       "      <td>9</td>\n",
       "      <td>1</td>\n",
       "      <td>5</td>\n",
       "      <td>...</td>\n",
       "      <td>39</td>\n",
       "      <td>11</td>\n",
       "      <td>0</td>\n",
       "      <td>119</td>\n",
       "      <td>9</td>\n",
       "      <td>0</td>\n",
       "      <td>54</td>\n",
       "      <td>4</td>\n",
       "      <td>54</td>\n",
       "      <td>0</td>\n",
       "    </tr>\n",
       "    <tr>\n",
       "      <th>456</th>\n",
       "      <td>13-Aug-20</td>\n",
       "      <td>Confirmed</td>\n",
       "      <td>64142</td>\n",
       "      <td>137</td>\n",
       "      <td>9996</td>\n",
       "      <td>82</td>\n",
       "      <td>2796</td>\n",
       "      <td>3906</td>\n",
       "      <td>91</td>\n",
       "      <td>478</td>\n",
       "      <td>...</td>\n",
       "      <td>1027</td>\n",
       "      <td>1314</td>\n",
       "      <td>2</td>\n",
       "      <td>5835</td>\n",
       "      <td>1931</td>\n",
       "      <td>121</td>\n",
       "      <td>4537</td>\n",
       "      <td>416</td>\n",
       "      <td>2997</td>\n",
       "      <td>0</td>\n",
       "    </tr>\n",
       "    <tr>\n",
       "      <th>457</th>\n",
       "      <td>13-Aug-20</td>\n",
       "      <td>Recovered</td>\n",
       "      <td>54776</td>\n",
       "      <td>95</td>\n",
       "      <td>9499</td>\n",
       "      <td>59</td>\n",
       "      <td>2174</td>\n",
       "      <td>2439</td>\n",
       "      <td>53</td>\n",
       "      <td>150</td>\n",
       "      <td>...</td>\n",
       "      <td>627</td>\n",
       "      <td>171</td>\n",
       "      <td>31</td>\n",
       "      <td>5146</td>\n",
       "      <td>1780</td>\n",
       "      <td>74</td>\n",
       "      <td>4125</td>\n",
       "      <td>327</td>\n",
       "      <td>2497</td>\n",
       "      <td>0</td>\n",
       "    </tr>\n",
       "    <tr>\n",
       "      <th>458</th>\n",
       "      <td>13-Aug-20</td>\n",
       "      <td>Deceased</td>\n",
       "      <td>1006</td>\n",
       "      <td>1</td>\n",
       "      <td>82</td>\n",
       "      <td>1</td>\n",
       "      <td>8</td>\n",
       "      <td>10</td>\n",
       "      <td>1</td>\n",
       "      <td>8</td>\n",
       "      <td>...</td>\n",
       "      <td>31</td>\n",
       "      <td>11</td>\n",
       "      <td>0</td>\n",
       "      <td>119</td>\n",
       "      <td>11</td>\n",
       "      <td>1</td>\n",
       "      <td>50</td>\n",
       "      <td>3</td>\n",
       "      <td>56</td>\n",
       "      <td>0</td>\n",
       "    </tr>\n",
       "  </tbody>\n",
       "</table>\n",
       "<p>6 rows × 41 columns</p>\n",
       "</div>"
      ],
      "text/plain": [
       "          Date     Status     TT   AN    AP   AR    AS    BR  CH   CT  ...  \\\n",
       "453  12-Aug-20  Confirmed  67066  136  9597  103  4593  3741  81  567  ...   \n",
       "454  12-Aug-20  Recovered  57759   80  6676   25  2136  3029   8  269  ...   \n",
       "455  12-Aug-20   Deceased    950    0    93    0     6     9   1    5  ...   \n",
       "456  13-Aug-20  Confirmed  64142  137  9996   82  2796  3906  91  478  ...   \n",
       "457  13-Aug-20  Recovered  54776   95  9499   59  2174  2439  53  150  ...   \n",
       "458  13-Aug-20   Deceased   1006    1    82    1     8    10   1    8  ...   \n",
       "\n",
       "       PB    RJ  SK    TN    TG   TR    UP   UT    WB  UN  \n",
       "453  1020  1213  17  5871  1897  110  4475  454  2936   0  \n",
       "454   422  1249  16  5633  1920  182  4072  217  2725   0  \n",
       "455    39    11   0   119     9    0    54    4    54   0  \n",
       "456  1027  1314   2  5835  1931  121  4537  416  2997   0  \n",
       "457   627   171  31  5146  1780   74  4125  327  2497   0  \n",
       "458    31    11   0   119    11    1    50    3    56   0  \n",
       "\n",
       "[6 rows x 41 columns]"
      ]
     },
     "execution_count": 3,
     "metadata": {},
     "output_type": "execute_result"
    }
   ],
   "source": [
    "#hide\n",
    "df.tail(6)"
   ]
  },
  {
   "cell_type": "code",
   "execution_count": 4,
   "metadata": {
    "execution": {
     "iopub.execute_input": "2020-08-13T19:10:34.020149Z",
     "iopub.status.busy": "2020-08-13T19:10:34.015440Z",
     "iopub.status.idle": "2020-08-13T19:10:34.025676Z",
     "shell.execute_reply": "2020-08-13T19:10:34.026155Z"
    },
    "papermill": {
     "duration": 0.117195,
     "end_time": "2020-08-13T19:10:34.026565",
     "exception": false,
     "start_time": "2020-08-13T19:10:33.909370",
     "status": "completed"
    },
    "tags": []
   },
   "outputs": [
    {
     "data": {
      "text/plain": [
       "('13-Aug-20', '12-Aug-20')"
      ]
     },
     "execution_count": 4,
     "metadata": {},
     "output_type": "execute_result"
    }
   ],
   "source": [
    "#hide\n",
    "dt_today = df.iloc[-1][0]\n",
    "dt_yday = df.iloc[-4][0]\n",
    "dt_today, dt_yday"
   ]
  },
  {
   "cell_type": "code",
   "execution_count": 5,
   "metadata": {
    "execution": {
     "iopub.execute_input": "2020-08-13T19:10:34.117605Z",
     "iopub.status.busy": "2020-08-13T19:10:34.116802Z",
     "iopub.status.idle": "2020-08-13T19:10:34.121694Z",
     "shell.execute_reply": "2020-08-13T19:10:34.121052Z"
    },
    "papermill": {
     "duration": 0.080305,
     "end_time": "2020-08-13T19:10:34.121916",
     "exception": false,
     "start_time": "2020-08-13T19:10:34.041611",
     "status": "completed"
    },
    "tags": []
   },
   "outputs": [],
   "source": [
    "#hide\n",
    "df_today = df.groupby('Status').sum()\n",
    "df_yday = df.iloc[:-3][:].groupby('Status').sum()"
   ]
  },
  {
   "cell_type": "code",
   "execution_count": 6,
   "metadata": {
    "execution": {
     "iopub.execute_input": "2020-08-13T19:10:34.165903Z",
     "iopub.status.busy": "2020-08-13T19:10:34.165253Z",
     "iopub.status.idle": "2020-08-13T19:10:34.176209Z",
     "shell.execute_reply": "2020-08-13T19:10:34.176854Z"
    },
    "papermill": {
     "duration": 0.038026,
     "end_time": "2020-08-13T19:10:34.177034",
     "exception": false,
     "start_time": "2020-08-13T19:10:34.139008",
     "status": "completed"
    },
    "tags": []
   },
   "outputs": [
    {
     "data": {
      "text/html": [
       "<div>\n",
       "<style scoped>\n",
       "    .dataframe tbody tr th:only-of-type {\n",
       "        vertical-align: middle;\n",
       "    }\n",
       "\n",
       "    .dataframe tbody tr th {\n",
       "        vertical-align: top;\n",
       "    }\n",
       "\n",
       "    .dataframe thead th {\n",
       "        text-align: right;\n",
       "    }\n",
       "</style>\n",
       "<table border=\"1\" class=\"dataframe\">\n",
       "  <thead>\n",
       "    <tr style=\"text-align: right;\">\n",
       "      <th></th>\n",
       "      <th>TT</th>\n",
       "      <th>AN</th>\n",
       "      <th>AP</th>\n",
       "      <th>AR</th>\n",
       "      <th>AS</th>\n",
       "      <th>BR</th>\n",
       "      <th>CH</th>\n",
       "      <th>CT</th>\n",
       "      <th>DN</th>\n",
       "      <th>DD</th>\n",
       "      <th>...</th>\n",
       "      <th>PB</th>\n",
       "      <th>RJ</th>\n",
       "      <th>SK</th>\n",
       "      <th>TN</th>\n",
       "      <th>TG</th>\n",
       "      <th>TR</th>\n",
       "      <th>UP</th>\n",
       "      <th>UT</th>\n",
       "      <th>WB</th>\n",
       "      <th>UN</th>\n",
       "    </tr>\n",
       "    <tr>\n",
       "      <th>Status</th>\n",
       "      <th></th>\n",
       "      <th></th>\n",
       "      <th></th>\n",
       "      <th></th>\n",
       "      <th></th>\n",
       "      <th></th>\n",
       "      <th></th>\n",
       "      <th></th>\n",
       "      <th></th>\n",
       "      <th></th>\n",
       "      <th></th>\n",
       "      <th></th>\n",
       "      <th></th>\n",
       "      <th></th>\n",
       "      <th></th>\n",
       "      <th></th>\n",
       "      <th></th>\n",
       "      <th></th>\n",
       "      <th></th>\n",
       "      <th></th>\n",
       "      <th></th>\n",
       "    </tr>\n",
       "  </thead>\n",
       "  <tbody>\n",
       "    <tr>\n",
       "      <th>Confirmed</th>\n",
       "      <td>2459521</td>\n",
       "      <td>2033</td>\n",
       "      <td>264142</td>\n",
       "      <td>2512</td>\n",
       "      <td>71694</td>\n",
       "      <td>94459</td>\n",
       "      <td>1842</td>\n",
       "      <td>14030</td>\n",
       "      <td>1743</td>\n",
       "      <td>0</td>\n",
       "      <td>...</td>\n",
       "      <td>27936</td>\n",
       "      <td>57414</td>\n",
       "      <td>945</td>\n",
       "      <td>320355</td>\n",
       "      <td>86475</td>\n",
       "      <td>6618</td>\n",
       "      <td>140775</td>\n",
       "      <td>11302</td>\n",
       "      <td>107323</td>\n",
       "      <td>0</td>\n",
       "    </tr>\n",
       "    <tr>\n",
       "      <th>Deceased</th>\n",
       "      <td>48155</td>\n",
       "      <td>22</td>\n",
       "      <td>2378</td>\n",
       "      <td>4</td>\n",
       "      <td>173</td>\n",
       "      <td>484</td>\n",
       "      <td>28</td>\n",
       "      <td>117</td>\n",
       "      <td>2</td>\n",
       "      <td>0</td>\n",
       "      <td>...</td>\n",
       "      <td>706</td>\n",
       "      <td>833</td>\n",
       "      <td>1</td>\n",
       "      <td>5397</td>\n",
       "      <td>665</td>\n",
       "      <td>44</td>\n",
       "      <td>2280</td>\n",
       "      <td>143</td>\n",
       "      <td>2259</td>\n",
       "      <td>0</td>\n",
       "    </tr>\n",
       "    <tr>\n",
       "      <th>Recovered</th>\n",
       "      <td>1750629</td>\n",
       "      <td>915</td>\n",
       "      <td>170924</td>\n",
       "      <td>1718</td>\n",
       "      <td>49384</td>\n",
       "      <td>62507</td>\n",
       "      <td>1076</td>\n",
       "      <td>9658</td>\n",
       "      <td>1281</td>\n",
       "      <td>0</td>\n",
       "      <td>...</td>\n",
       "      <td>17839</td>\n",
       "      <td>41819</td>\n",
       "      <td>582</td>\n",
       "      <td>261459</td>\n",
       "      <td>63074</td>\n",
       "      <td>4912</td>\n",
       "      <td>88786</td>\n",
       "      <td>7014</td>\n",
       "      <td>78617</td>\n",
       "      <td>0</td>\n",
       "    </tr>\n",
       "  </tbody>\n",
       "</table>\n",
       "<p>3 rows × 39 columns</p>\n",
       "</div>"
      ],
      "text/plain": [
       "                TT    AN      AP    AR     AS     BR    CH     CT    DN  DD  \\\n",
       "Status                                                                        \n",
       "Confirmed  2459521  2033  264142  2512  71694  94459  1842  14030  1743   0   \n",
       "Deceased     48155    22    2378     4    173    484    28    117     2   0   \n",
       "Recovered  1750629   915  170924  1718  49384  62507  1076   9658  1281   0   \n",
       "\n",
       "           ...     PB     RJ   SK      TN     TG    TR      UP     UT      WB  \\\n",
       "Status     ...                                                                  \n",
       "Confirmed  ...  27936  57414  945  320355  86475  6618  140775  11302  107323   \n",
       "Deceased   ...    706    833    1    5397    665    44    2280    143    2259   \n",
       "Recovered  ...  17839  41819  582  261459  63074  4912   88786   7014   78617   \n",
       "\n",
       "           UN  \n",
       "Status         \n",
       "Confirmed   0  \n",
       "Deceased    0  \n",
       "Recovered   0  \n",
       "\n",
       "[3 rows x 39 columns]"
      ]
     },
     "execution_count": 6,
     "metadata": {},
     "output_type": "execute_result"
    }
   ],
   "source": [
    "#hide\n",
    "df_today"
   ]
  },
  {
   "cell_type": "code",
   "execution_count": 7,
   "metadata": {
    "execution": {
     "iopub.execute_input": "2020-08-13T19:10:34.226176Z",
     "iopub.status.busy": "2020-08-13T19:10:34.225503Z",
     "iopub.status.idle": "2020-08-13T19:10:34.228146Z",
     "shell.execute_reply": "2020-08-13T19:10:34.228694Z"
    },
    "papermill": {
     "duration": 0.036129,
     "end_time": "2020-08-13T19:10:34.228930",
     "exception": false,
     "start_time": "2020-08-13T19:10:34.192801",
     "status": "completed"
    },
    "tags": []
   },
   "outputs": [
    {
     "data": {
      "text/html": [
       "<div>\n",
       "<style scoped>\n",
       "    .dataframe tbody tr th:only-of-type {\n",
       "        vertical-align: middle;\n",
       "    }\n",
       "\n",
       "    .dataframe tbody tr th {\n",
       "        vertical-align: top;\n",
       "    }\n",
       "\n",
       "    .dataframe thead th {\n",
       "        text-align: right;\n",
       "    }\n",
       "</style>\n",
       "<table border=\"1\" class=\"dataframe\">\n",
       "  <thead>\n",
       "    <tr style=\"text-align: right;\">\n",
       "      <th></th>\n",
       "      <th>TT</th>\n",
       "      <th>AN</th>\n",
       "      <th>AP</th>\n",
       "      <th>AR</th>\n",
       "      <th>AS</th>\n",
       "      <th>BR</th>\n",
       "      <th>CH</th>\n",
       "      <th>CT</th>\n",
       "      <th>DN</th>\n",
       "      <th>DD</th>\n",
       "      <th>...</th>\n",
       "      <th>PB</th>\n",
       "      <th>RJ</th>\n",
       "      <th>SK</th>\n",
       "      <th>TN</th>\n",
       "      <th>TG</th>\n",
       "      <th>TR</th>\n",
       "      <th>UP</th>\n",
       "      <th>UT</th>\n",
       "      <th>WB</th>\n",
       "      <th>UN</th>\n",
       "    </tr>\n",
       "    <tr>\n",
       "      <th>Status</th>\n",
       "      <th></th>\n",
       "      <th></th>\n",
       "      <th></th>\n",
       "      <th></th>\n",
       "      <th></th>\n",
       "      <th></th>\n",
       "      <th></th>\n",
       "      <th></th>\n",
       "      <th></th>\n",
       "      <th></th>\n",
       "      <th></th>\n",
       "      <th></th>\n",
       "      <th></th>\n",
       "      <th></th>\n",
       "      <th></th>\n",
       "      <th></th>\n",
       "      <th></th>\n",
       "      <th></th>\n",
       "      <th></th>\n",
       "      <th></th>\n",
       "      <th></th>\n",
       "    </tr>\n",
       "  </thead>\n",
       "  <tbody>\n",
       "    <tr>\n",
       "      <th>Confirmed</th>\n",
       "      <td>2395379</td>\n",
       "      <td>1896</td>\n",
       "      <td>254146</td>\n",
       "      <td>2430</td>\n",
       "      <td>68898</td>\n",
       "      <td>90553</td>\n",
       "      <td>1751</td>\n",
       "      <td>13552</td>\n",
       "      <td>1697</td>\n",
       "      <td>0</td>\n",
       "      <td>...</td>\n",
       "      <td>26909</td>\n",
       "      <td>56100</td>\n",
       "      <td>943</td>\n",
       "      <td>314520</td>\n",
       "      <td>84544</td>\n",
       "      <td>6497</td>\n",
       "      <td>136238</td>\n",
       "      <td>10886</td>\n",
       "      <td>104326</td>\n",
       "      <td>0</td>\n",
       "    </tr>\n",
       "    <tr>\n",
       "      <th>Deceased</th>\n",
       "      <td>47149</td>\n",
       "      <td>21</td>\n",
       "      <td>2296</td>\n",
       "      <td>3</td>\n",
       "      <td>165</td>\n",
       "      <td>474</td>\n",
       "      <td>27</td>\n",
       "      <td>109</td>\n",
       "      <td>2</td>\n",
       "      <td>0</td>\n",
       "      <td>...</td>\n",
       "      <td>675</td>\n",
       "      <td>822</td>\n",
       "      <td>1</td>\n",
       "      <td>5278</td>\n",
       "      <td>654</td>\n",
       "      <td>43</td>\n",
       "      <td>2230</td>\n",
       "      <td>140</td>\n",
       "      <td>2203</td>\n",
       "      <td>0</td>\n",
       "    </tr>\n",
       "    <tr>\n",
       "      <th>Recovered</th>\n",
       "      <td>1695853</td>\n",
       "      <td>820</td>\n",
       "      <td>161425</td>\n",
       "      <td>1659</td>\n",
       "      <td>47210</td>\n",
       "      <td>60068</td>\n",
       "      <td>1023</td>\n",
       "      <td>9508</td>\n",
       "      <td>1243</td>\n",
       "      <td>0</td>\n",
       "      <td>...</td>\n",
       "      <td>17212</td>\n",
       "      <td>41648</td>\n",
       "      <td>551</td>\n",
       "      <td>256313</td>\n",
       "      <td>61294</td>\n",
       "      <td>4838</td>\n",
       "      <td>84661</td>\n",
       "      <td>6687</td>\n",
       "      <td>76120</td>\n",
       "      <td>0</td>\n",
       "    </tr>\n",
       "  </tbody>\n",
       "</table>\n",
       "<p>3 rows × 39 columns</p>\n",
       "</div>"
      ],
      "text/plain": [
       "                TT    AN      AP    AR     AS     BR    CH     CT    DN  DD  \\\n",
       "Status                                                                        \n",
       "Confirmed  2395379  1896  254146  2430  68898  90553  1751  13552  1697   0   \n",
       "Deceased     47149    21    2296     3    165    474    27    109     2   0   \n",
       "Recovered  1695853   820  161425  1659  47210  60068  1023   9508  1243   0   \n",
       "\n",
       "           ...     PB     RJ   SK      TN     TG    TR      UP     UT      WB  \\\n",
       "Status     ...                                                                  \n",
       "Confirmed  ...  26909  56100  943  314520  84544  6497  136238  10886  104326   \n",
       "Deceased   ...    675    822    1    5278    654    43    2230    140    2203   \n",
       "Recovered  ...  17212  41648  551  256313  61294  4838   84661   6687   76120   \n",
       "\n",
       "           UN  \n",
       "Status         \n",
       "Confirmed   0  \n",
       "Deceased    0  \n",
       "Recovered   0  \n",
       "\n",
       "[3 rows x 39 columns]"
      ]
     },
     "execution_count": 7,
     "metadata": {},
     "output_type": "execute_result"
    }
   ],
   "source": [
    "#hide\n",
    "df_yday.head()"
   ]
  },
  {
   "cell_type": "code",
   "execution_count": 8,
   "metadata": {
    "execution": {
     "iopub.execute_input": "2020-08-13T19:10:34.269339Z",
     "iopub.status.busy": "2020-08-13T19:10:34.268531Z",
     "iopub.status.idle": "2020-08-13T19:10:34.271433Z",
     "shell.execute_reply": "2020-08-13T19:10:34.272051Z"
    },
    "papermill": {
     "duration": 0.02757,
     "end_time": "2020-08-13T19:10:34.272252",
     "exception": false,
     "start_time": "2020-08-13T19:10:34.244682",
     "status": "completed"
    },
    "tags": []
   },
   "outputs": [
    {
     "data": {
      "text/plain": [
       "{'updated': '13-Aug-20',\n",
       " 'since': '12-Aug-20',\n",
       " 'Cases': 2459521,\n",
       " 'Deaths': 48155,\n",
       " 'Recovered': 1750629,\n",
       " 'PCases': 2395379,\n",
       " 'PDeaths': 47149,\n",
       " 'PRecovered': 1695853,\n",
       " 'Cases (+)': 64142,\n",
       " 'Deaths (+)': 1006,\n",
       " 'Recovered (+)': 54776}"
      ]
     },
     "execution_count": 8,
     "metadata": {},
     "output_type": "execute_result"
    }
   ],
   "source": [
    "#hide\n",
    "summary = {\n",
    "    'updated' : dt_today,\n",
    "    'since' : dt_yday,\n",
    "    'Cases' : df_today['TT'][0],\n",
    "    'Deaths' : df_today['TT'][1],\n",
    "    'Recovered' : df_today['TT'][2],\n",
    "    'PCases' : df_yday['TT'][0],\n",
    "    'PDeaths' : df_yday['TT'][1],\n",
    "    'PRecovered': df_yday['TT'][2],\n",
    "    'Cases (+)' : df_today['TT'][0] - df_yday['TT'][0],\n",
    "    'Deaths (+)' : df_today['TT'][1] - df_yday['TT'][1],\n",
    "    'Recovered (+)': df_today['TT'][2] - df_yday['TT'][2]\n",
    "}\n",
    "\n",
    "summary"
   ]
  },
  {
   "cell_type": "code",
   "execution_count": 9,
   "metadata": {
    "execution": {
     "iopub.execute_input": "2020-08-13T19:10:34.311420Z",
     "iopub.status.busy": "2020-08-13T19:10:34.310764Z",
     "iopub.status.idle": "2020-08-13T19:10:34.313315Z",
     "shell.execute_reply": "2020-08-13T19:10:34.313880Z"
    },
    "papermill": {
     "duration": 0.024126,
     "end_time": "2020-08-13T19:10:34.314032",
     "exception": false,
     "start_time": "2020-08-13T19:10:34.289906",
     "status": "completed"
    },
    "tags": []
   },
   "outputs": [],
   "source": [
    "#hide\n",
    "overview = '''\n",
    "<!-- #######  HTML!! #########-->\n",
    "<h1 style=\"color: #5e9ca0; text-align: center;\">India</h1>\n",
    "<p style=\"text-align: center;\">Last update: <strong>{update}</strong></p>\n",
    "<p style=\"text-align: center;\">Confirmed cases:</p>\n",
    "<p style=\"text-align: center;font-size:24px;\">{cases} (<span style=\"color: #ff0000;\">+{new}</span>)</p>\n",
    "<p style=\"text-align: center;\">Confirmed deaths:</p>\n",
    "<p style=\"text-align: center;font-size:24px;\">{deaths} (<span style=\"color: #ff0000;\">+{dnew}</span>)</p>\n",
    "<p style=\"text-align: center;\">Recovered cases:</p>\n",
    "<p style=\"text-align: center;font-size:24px;\">{recovered} (<span style=\"color: #00ff00;\">+{rnew}</span>)</p>\n",
    "'''"
   ]
  },
  {
   "cell_type": "code",
   "execution_count": 10,
   "metadata": {
    "execution": {
     "iopub.execute_input": "2020-08-13T19:10:34.353618Z",
     "iopub.status.busy": "2020-08-13T19:10:34.353003Z",
     "iopub.status.idle": "2020-08-13T19:10:34.356219Z",
     "shell.execute_reply": "2020-08-13T19:10:34.356734Z"
    },
    "papermill": {
     "duration": 0.026821,
     "end_time": "2020-08-13T19:10:34.356971",
     "exception": false,
     "start_time": "2020-08-13T19:10:34.330150",
     "status": "completed"
    },
    "tags": []
   },
   "outputs": [
    {
     "data": {
      "text/html": [
       "\n",
       "<!-- #######  HTML!! #########-->\n",
       "<h1 style=\"color: #5e9ca0; text-align: center;\">India</h1>\n",
       "<p style=\"text-align: center;\">Last update: <strong>13-Aug-20</strong></p>\n",
       "<p style=\"text-align: center;\">Confirmed cases:</p>\n",
       "<p style=\"text-align: center;font-size:24px;\">2459521 (<span style=\"color: #ff0000;\">+64142</span>)</p>\n",
       "<p style=\"text-align: center;\">Confirmed deaths:</p>\n",
       "<p style=\"text-align: center;font-size:24px;\">48155 (<span style=\"color: #ff0000;\">+1006</span>)</p>\n",
       "<p style=\"text-align: center;\">Recovered cases:</p>\n",
       "<p style=\"text-align: center;font-size:24px;\">1750629 (<span style=\"color: #00ff00;\">+54776</span>)</p>\n"
      ],
      "text/plain": [
       "<IPython.core.display.HTML object>"
      ]
     },
     "metadata": {},
     "output_type": "display_data"
    }
   ],
   "source": [
    "#hide_input\n",
    "# Fill the above HTML with the information from the summary dictionary\n",
    "\n",
    "update = summary['updated']\n",
    "cases = summary['Cases']\n",
    "new = summary['Cases (+)']\n",
    "deaths = summary['Deaths']\n",
    "dnew = summary['Deaths (+)']\n",
    "recovered = summary['Recovered']\n",
    "rnew = summary['Recovered (+)']\n",
    "\n",
    "html = HTML(overview.format(update=update, cases=cases,new=new,deaths=deaths,dnew=dnew, recovered=recovered, rnew=rnew))\n",
    "\n",
    "display(html)"
   ]
  },
  {
   "cell_type": "code",
   "execution_count": 11,
   "metadata": {
    "execution": {
     "iopub.execute_input": "2020-08-13T19:10:34.401279Z",
     "iopub.status.busy": "2020-08-13T19:10:34.400492Z",
     "iopub.status.idle": "2020-08-13T19:10:34.404410Z",
     "shell.execute_reply": "2020-08-13T19:10:34.405003Z"
    },
    "papermill": {
     "duration": 0.031722,
     "end_time": "2020-08-13T19:10:34.405168",
     "exception": false,
     "start_time": "2020-08-13T19:10:34.373446",
     "status": "completed"
    },
    "tags": []
   },
   "outputs": [],
   "source": [
    "#hide\n",
    "df_cases = df[df['Status'] == 'Confirmed'].copy()\n",
    "df_cases.drop(columns = ['Status'], inplace=True)\n",
    "df_deaths = df[df['Status'] == 'Deceased'].copy()\n",
    "df_deaths.drop(columns = ['Status'], inplace=True)\n",
    "df_recovered = df[df['Status'] == 'Recovered'].copy()\n",
    "df_recovered.drop(columns = ['Status'], inplace=True)"
   ]
  },
  {
   "cell_type": "markdown",
   "metadata": {
    "papermill": {
     "duration": 0.01578,
     "end_time": "2020-08-13T19:10:34.437114",
     "exception": false,
     "start_time": "2020-08-13T19:10:34.421334",
     "status": "completed"
    },
    "tags": []
   },
   "source": [
    "Plot for India:"
   ]
  },
  {
   "cell_type": "code",
   "execution_count": 12,
   "metadata": {
    "execution": {
     "iopub.execute_input": "2020-08-13T19:10:34.493981Z",
     "iopub.status.busy": "2020-08-13T19:10:34.493262Z",
     "iopub.status.idle": "2020-08-13T19:10:34.833351Z",
     "shell.execute_reply": "2020-08-13T19:10:34.833871Z"
    },
    "papermill": {
     "duration": 0.381172,
     "end_time": "2020-08-13T19:10:34.834050",
     "exception": false,
     "start_time": "2020-08-13T19:10:34.452878",
     "status": "completed"
    },
    "tags": []
   },
   "outputs": [
    {
     "data": {
      "image/png": "[encoded data removed]",
      "text/plain": [
       "<Figure size 1296x432 with 1 Axes>"
      ]
     },
     "metadata": {
      "needs_background": "light"
     },
     "output_type": "display_data"
    }
   ],
   "source": [
    "#hide_input\n",
    "plt.figure(figsize = (18,6))\n",
    "plt.plot(df_cases['Date'], df_cases['TT'],'.-', alpha=0.7, color='b', label='Confirmed cases')\n",
    "plt.plot(df_recovered['Date'], df_recovered['TT'],'.-', alpha=0.7, color='g', label='Recovered')\n",
    "plt.plot(df_deaths['Date'], df_deaths['TT'],'.-', alpha=0.7, color='r', label='Deceased')\n",
    "plt.legend()\n",
    "plt.title(\"Cases per day in India\")\n",
    "plt.xticks(ticks=' ')\n",
    "plt.xlabel(f'{df_cases.iloc[0][0]} to {df_cases.iloc[-1][0]}')\n",
    "plt.ylabel('No. of cases');"
   ]
  },
  {
   "cell_type": "markdown",
   "metadata": {
    "papermill": {
     "duration": 0.019395,
     "end_time": "2020-08-13T19:10:34.871626",
     "exception": false,
     "start_time": "2020-08-13T19:10:34.852231",
     "status": "completed"
    },
    "tags": []
   },
   "source": [
    "Plots for the states with highest number of cases:"
   ]
  },
  {
   "cell_type": "code",
   "execution_count": 13,
   "metadata": {
    "execution": {
     "iopub.execute_input": "2020-08-13T19:10:34.919021Z",
     "iopub.status.busy": "2020-08-13T19:10:34.918271Z",
     "iopub.status.idle": "2020-08-13T19:10:35.655129Z",
     "shell.execute_reply": "2020-08-13T19:10:35.655681Z"
    },
    "papermill": {
     "duration": 0.764914,
     "end_time": "2020-08-13T19:10:35.655856",
     "exception": false,
     "start_time": "2020-08-13T19:10:34.890942",
     "status": "completed"
    },
    "tags": []
   },
   "outputs": [
    {
     "data": {
      "image/png": "[encoded data removed]",
      "text/plain": [
       "<Figure size 1512x432 with 3 Axes>"
      ]
     },
     "metadata": {
      "needs_background": "light"
     },
     "output_type": "display_data"
    }
   ],
   "source": [
    "#hide_input\n",
    "top_3 = sorted(df_cases.sum().values[1:], reverse=True)[1:4]\n",
    "top3_states=[]\n",
    "for i in top_3:\n",
    "    top3_states.append(df_cases.sum()[df_cases.sum() == i].index)\n",
    "\n",
    "\n",
    "fig, ax = plt.subplots(1,3,figsize = (21,6))\n",
    "for i in range(3):\n",
    "    state = top3_states[i].values[0]\n",
    "    ax[i].plot(df_cases['Date'], df_cases[state],'.-', color='b', alpha=0.7)\n",
    "    ax[i].plot(df_deaths['Date'], df_deaths[state],'.-', color='r', alpha=0.7)\n",
    "    ax[i].plot(df_recovered['Date'], df_recovered[state],'.-', color='g', alpha=0.7)\n",
    "    \n",
    "    ax[i].set_title(f\"Cases in {state}\")\n",
    "    ax[i].set_xticks(ticks=' ')\n",
    "    ax[i].set_xlabel(f'{df_cases.iloc[0][0]} to {df_cases.iloc[-1][0]}')\n",
    "    ax[i].set_ylabel('No. of cases');"
   ]
  },
  {
   "cell_type": "code",
   "execution_count": null,
   "metadata": {
    "papermill": {
     "duration": 0.020226,
     "end_time": "2020-08-13T19:10:35.697153",
     "exception": false,
     "start_time": "2020-08-13T19:10:35.676927",
     "status": "completed"
    },
    "tags": []
   },
   "outputs": [],
   "source": []
  },
  {
   "cell_type": "code",
   "execution_count": null,
   "metadata": {
    "papermill": {
     "duration": 0.020749,
     "end_time": "2020-08-13T19:10:35.739216",
     "exception": false,
     "start_time": "2020-08-13T19:10:35.718467",
     "status": "completed"
    },
    "tags": []
   },
   "outputs": [],
   "source": []
  },
  {
   "cell_type": "code",
   "execution_count": null,
   "metadata": {
    "papermill": {
     "duration": 0.021841,
     "end_time": "2020-08-13T19:10:35.780947",
     "exception": false,
     "start_time": "2020-08-13T19:10:35.759106",
     "status": "completed"
    },
    "tags": []
   },
   "outputs": [],
   "source": []
  }
 ],
 "metadata": {
  "kernelspec": {
   "display_name": "Python 3",
   "language": "python",
   "name": "python3"
  },
  "language_info": {
   "codemirror_mode": {
    "name": "ipython",
    "version": 3
   },
   "file_extension": ".py",
   "mimetype": "text/x-python",
   "name": "python",
   "nbconvert_exporter": "python",
   "pygments_lexer": "ipython3",
   "version": "3.6.11"
  },
  "papermill": {
   "duration": 5.334598,
   "end_time": "2020-08-13T19:10:36.965020",
   "environment_variables": {},
   "exception": null,
   "input_path": "2020-08-09-DailyUpdate.ipynb",
   "output_path": "2020-08-09-DailyUpdate.ipynb",
   "parameters": {},
   "start_time": "2020-08-13T19:10:31.630422",
   "version": "2.1.2"
  }
 },
 "nbformat": 4,
 "nbformat_minor": 4
}