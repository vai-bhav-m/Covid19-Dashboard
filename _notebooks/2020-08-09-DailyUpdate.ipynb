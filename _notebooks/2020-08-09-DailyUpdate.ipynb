{
 "cells": [
  {
   "cell_type": "markdown",
   "metadata": {
    "tags": [
     "papermill-error-cell-tag"
    ]
   },
   "source": [
    "<span style=\"color:red; font-family:Helvetica Neue, Helvetica, Arial, sans-serif; font-size:2em;\">An Exception was encountered at '<a href=\"#papermill-error-cell\">In [13]</a>'.</span>"
   ]
  },
  {
   "cell_type": "markdown",
   "metadata": {
    "papermill": {
     "duration": 0.017048,
     "end_time": "2020-10-29T19:09:55.385600",
     "exception": false,
     "start_time": "2020-10-29T19:09:55.368552",
     "status": "completed"
    },
    "tags": []
   },
   "source": [
    "# COVID-19 India Daily updates\n",
    "> Tracking coronavirus total cases, deaths and new cases in India on a daily basis\n",
    "\n",
    "- author: Vaibhav Mahapatra"
   ]
  },
  {
   "cell_type": "code",
   "execution_count": 1,
   "metadata": {
    "execution": {
     "iopub.execute_input": "2020-10-29T19:09:55.417847Z",
     "iopub.status.busy": "2020-10-29T19:09:55.417199Z",
     "iopub.status.idle": "2020-10-29T19:09:56.053264Z",
     "shell.execute_reply": "2020-10-29T19:09:56.052236Z"
    },
    "papermill": {
     "duration": 0.655056,
     "end_time": "2020-10-29T19:09:56.053449",
     "exception": false,
     "start_time": "2020-10-29T19:09:55.398393",
     "status": "completed"
    },
    "tags": []
   },
   "outputs": [],
   "source": [
    "#hide\n",
    "\n",
    "## Import essential packages below\n",
    "\n",
    "import pandas as pd\n",
    "import numpy as np\n",
    "import requests\n",
    "import json\n",
    "import matplotlib.pyplot as plt\n",
    "import matplotlib.dates as mdates\n",
    "import matplotlib as mpl\n",
    "from IPython.core.display import display,HTML\n",
    "%matplotlib inline"
   ]
  },
  {
   "cell_type": "code",
   "execution_count": 2,
   "metadata": {
    "execution": {
     "iopub.execute_input": "2020-10-29T19:09:56.084089Z",
     "iopub.status.busy": "2020-10-29T19:09:56.083481Z",
     "iopub.status.idle": "2020-10-29T19:09:56.207148Z",
     "shell.execute_reply": "2020-10-29T19:09:56.207577Z"
    },
    "papermill": {
     "duration": 0.14203,
     "end_time": "2020-10-29T19:09:56.207759",
     "exception": false,
     "start_time": "2020-10-29T19:09:56.065729",
     "status": "completed"
    },
    "tags": []
   },
   "outputs": [
    {
     "data": {
      "text/plain": [
       "(690, 42)"
      ]
     },
     "execution_count": 2,
     "metadata": {},
     "output_type": "execute_result"
    }
   ],
   "source": [
    "#hide\n",
    "url = 'https://api.covid19india.org/csv/latest/state_wise_daily.csv'\n",
    "df = pd.read_csv(url)\n",
    "df.shape"
   ]
  },
  {
   "cell_type": "code",
   "execution_count": 3,
   "metadata": {
    "execution": {
     "iopub.execute_input": "2020-10-29T19:09:56.324691Z",
     "iopub.status.busy": "2020-10-29T19:09:56.317313Z",
     "iopub.status.idle": "2020-10-29T19:09:56.327833Z",
     "shell.execute_reply": "2020-10-29T19:09:56.327347Z"
    },
    "papermill": {
     "duration": 0.108091,
     "end_time": "2020-10-29T19:09:56.327988",
     "exception": false,
     "start_time": "2020-10-29T19:09:56.219897",
     "status": "completed"
    },
    "tags": []
   },
   "outputs": [
    {
     "data": {
      "text/html": [
       "<div>\n",
       "<style scoped>\n",
       "    .dataframe tbody tr th:only-of-type {\n",
       "        vertical-align: middle;\n",
       "    }\n",
       "\n",
       "    .dataframe tbody tr th {\n",
       "        vertical-align: top;\n",
       "    }\n",
       "\n",
       "    .dataframe thead th {\n",
       "        text-align: right;\n",
       "    }\n",
       "</style>\n",
       "<table border=\"1\" class=\"dataframe\">\n",
       "  <thead>\n",
       "    <tr style=\"text-align: right;\">\n",
       "      <th></th>\n",
       "      <th>Date</th>\n",
       "      <th>Date_YMD</th>\n",
       "      <th>Status</th>\n",
       "      <th>TT</th>\n",
       "      <th>AN</th>\n",
       "      <th>AP</th>\n",
       "      <th>AR</th>\n",
       "      <th>AS</th>\n",
       "      <th>BR</th>\n",
       "      <th>CH</th>\n",
       "      <th>...</th>\n",
       "      <th>PB</th>\n",
       "      <th>RJ</th>\n",
       "      <th>SK</th>\n",
       "      <th>TN</th>\n",
       "      <th>TG</th>\n",
       "      <th>TR</th>\n",
       "      <th>UP</th>\n",
       "      <th>UT</th>\n",
       "      <th>WB</th>\n",
       "      <th>UN</th>\n",
       "    </tr>\n",
       "  </thead>\n",
       "  <tbody>\n",
       "    <tr>\n",
       "      <th>684</th>\n",
       "      <td>28-Oct-20</td>\n",
       "      <td>2020-10-28</td>\n",
       "      <td>Confirmed</td>\n",
       "      <td>50188</td>\n",
       "      <td>15</td>\n",
       "      <td>2949</td>\n",
       "      <td>108</td>\n",
       "      <td>448</td>\n",
       "      <td>780</td>\n",
       "      <td>60</td>\n",
       "      <td>...</td>\n",
       "      <td>526</td>\n",
       "      <td>1785</td>\n",
       "      <td>12</td>\n",
       "      <td>2516</td>\n",
       "      <td>1481</td>\n",
       "      <td>160</td>\n",
       "      <td>1980</td>\n",
       "      <td>304</td>\n",
       "      <td>3924</td>\n",
       "      <td>0</td>\n",
       "    </tr>\n",
       "    <tr>\n",
       "      <th>685</th>\n",
       "      <td>28-Oct-20</td>\n",
       "      <td>2020-10-28</td>\n",
       "      <td>Recovered</td>\n",
       "      <td>56594</td>\n",
       "      <td>20</td>\n",
       "      <td>3609</td>\n",
       "      <td>183</td>\n",
       "      <td>1487</td>\n",
       "      <td>1073</td>\n",
       "      <td>80</td>\n",
       "      <td>...</td>\n",
       "      <td>356</td>\n",
       "      <td>2016</td>\n",
       "      <td>11</td>\n",
       "      <td>3859</td>\n",
       "      <td>1451</td>\n",
       "      <td>202</td>\n",
       "      <td>2742</td>\n",
       "      <td>463</td>\n",
       "      <td>3925</td>\n",
       "      <td>0</td>\n",
       "    </tr>\n",
       "    <tr>\n",
       "      <th>686</th>\n",
       "      <td>28-Oct-20</td>\n",
       "      <td>2020-10-28</td>\n",
       "      <td>Deceased</td>\n",
       "      <td>514</td>\n",
       "      <td>0</td>\n",
       "      <td>18</td>\n",
       "      <td>0</td>\n",
       "      <td>3</td>\n",
       "      <td>4</td>\n",
       "      <td>1</td>\n",
       "      <td>...</td>\n",
       "      <td>20</td>\n",
       "      <td>10</td>\n",
       "      <td>0</td>\n",
       "      <td>35</td>\n",
       "      <td>4</td>\n",
       "      <td>0</td>\n",
       "      <td>18</td>\n",
       "      <td>2</td>\n",
       "      <td>60</td>\n",
       "      <td>0</td>\n",
       "    </tr>\n",
       "    <tr>\n",
       "      <th>687</th>\n",
       "      <td>29-Oct-20</td>\n",
       "      <td>2020-10-29</td>\n",
       "      <td>Confirmed</td>\n",
       "      <td>48210</td>\n",
       "      <td>16</td>\n",
       "      <td>2905</td>\n",
       "      <td>88</td>\n",
       "      <td>398</td>\n",
       "      <td>783</td>\n",
       "      <td>80</td>\n",
       "      <td>...</td>\n",
       "      <td>0</td>\n",
       "      <td>1790</td>\n",
       "      <td>0</td>\n",
       "      <td>2652</td>\n",
       "      <td>1504</td>\n",
       "      <td>113</td>\n",
       "      <td>1861</td>\n",
       "      <td>305</td>\n",
       "      <td>3989</td>\n",
       "      <td>0</td>\n",
       "    </tr>\n",
       "    <tr>\n",
       "      <th>688</th>\n",
       "      <td>29-Oct-20</td>\n",
       "      <td>2020-10-29</td>\n",
       "      <td>Recovered</td>\n",
       "      <td>57269</td>\n",
       "      <td>15</td>\n",
       "      <td>3243</td>\n",
       "      <td>143</td>\n",
       "      <td>1057</td>\n",
       "      <td>1068</td>\n",
       "      <td>43</td>\n",
       "      <td>...</td>\n",
       "      <td>0</td>\n",
       "      <td>1933</td>\n",
       "      <td>0</td>\n",
       "      <td>4087</td>\n",
       "      <td>1436</td>\n",
       "      <td>170</td>\n",
       "      <td>2465</td>\n",
       "      <td>456</td>\n",
       "      <td>3945</td>\n",
       "      <td>0</td>\n",
       "    </tr>\n",
       "    <tr>\n",
       "      <th>689</th>\n",
       "      <td>29-Oct-20</td>\n",
       "      <td>2020-10-29</td>\n",
       "      <td>Deceased</td>\n",
       "      <td>551</td>\n",
       "      <td>1</td>\n",
       "      <td>16</td>\n",
       "      <td>1</td>\n",
       "      <td>6</td>\n",
       "      <td>7</td>\n",
       "      <td>1</td>\n",
       "      <td>...</td>\n",
       "      <td>0</td>\n",
       "      <td>11</td>\n",
       "      <td>0</td>\n",
       "      <td>35</td>\n",
       "      <td>5</td>\n",
       "      <td>1</td>\n",
       "      <td>25</td>\n",
       "      <td>0</td>\n",
       "      <td>61</td>\n",
       "      <td>0</td>\n",
       "    </tr>\n",
       "  </tbody>\n",
       "</table>\n",
       "<p>6 rows × 42 columns</p>\n",
       "</div>"
      ],
      "text/plain": [
       "          Date    Date_YMD     Status     TT  AN    AP   AR    AS    BR  CH  \\\n",
       "684  28-Oct-20  2020-10-28  Confirmed  50188  15  2949  108   448   780  60   \n",
       "685  28-Oct-20  2020-10-28  Recovered  56594  20  3609  183  1487  1073  80   \n",
       "686  28-Oct-20  2020-10-28   Deceased    514   0    18    0     3     4   1   \n",
       "687  29-Oct-20  2020-10-29  Confirmed  48210  16  2905   88   398   783  80   \n",
       "688  29-Oct-20  2020-10-29  Recovered  57269  15  3243  143  1057  1068  43   \n",
       "689  29-Oct-20  2020-10-29   Deceased    551   1    16    1     6     7   1   \n",
       "\n",
       "     ...   PB    RJ  SK    TN    TG   TR    UP   UT    WB  UN  \n",
       "684  ...  526  1785  12  2516  1481  160  1980  304  3924   0  \n",
       "685  ...  356  2016  11  3859  1451  202  2742  463  3925   0  \n",
       "686  ...   20    10   0    35     4    0    18    2    60   0  \n",
       "687  ...    0  1790   0  2652  1504  113  1861  305  3989   0  \n",
       "688  ...    0  1933   0  4087  1436  170  2465  456  3945   0  \n",
       "689  ...    0    11   0    35     5    1    25    0    61   0  \n",
       "\n",
       "[6 rows x 42 columns]"
      ]
     },
     "execution_count": 3,
     "metadata": {},
     "output_type": "execute_result"
    }
   ],
   "source": [
    "#hide\n",
    "df.tail(6)"
   ]
  },
  {
   "cell_type": "code",
   "execution_count": 4,
   "metadata": {
    "execution": {
     "iopub.execute_input": "2020-10-29T19:09:56.362919Z",
     "iopub.status.busy": "2020-10-29T19:09:56.362247Z",
     "iopub.status.idle": "2020-10-29T19:09:56.365324Z",
     "shell.execute_reply": "2020-10-29T19:09:56.365795Z"
    },
    "papermill": {
     "duration": 0.024795,
     "end_time": "2020-10-29T19:09:56.365973",
     "exception": false,
     "start_time": "2020-10-29T19:09:56.341178",
     "status": "completed"
    },
    "tags": []
   },
   "outputs": [
    {
     "data": {
      "text/plain": [
       "('29-Oct-20', '28-Oct-20')"
      ]
     },
     "execution_count": 4,
     "metadata": {},
     "output_type": "execute_result"
    }
   ],
   "source": [
    "#hide\n",
    "dt_today = df.iloc[-1][0]\n",
    "dt_yday = df.iloc[-4][0]\n",
    "dt_today, dt_yday"
   ]
  },
  {
   "cell_type": "code",
   "execution_count": 5,
   "metadata": {
    "execution": {
     "iopub.execute_input": "2020-10-29T19:09:56.399747Z",
     "iopub.status.busy": "2020-10-29T19:09:56.399144Z",
     "iopub.status.idle": "2020-10-29T19:09:56.405659Z",
     "shell.execute_reply": "2020-10-29T19:09:56.406220Z"
    },
    "papermill": {
     "duration": 0.027161,
     "end_time": "2020-10-29T19:09:56.406388",
     "exception": false,
     "start_time": "2020-10-29T19:09:56.379227",
     "status": "completed"
    },
    "tags": []
   },
   "outputs": [],
   "source": [
    "#hide\n",
    "df_today = df.groupby('Status').sum()\n",
    "df_yday = df.iloc[:-3][:].groupby('Status').sum()"
   ]
  },
  {
   "cell_type": "code",
   "execution_count": 6,
   "metadata": {
    "execution": {
     "iopub.execute_input": "2020-10-29T19:09:56.448789Z",
     "iopub.status.busy": "2020-10-29T19:09:56.448138Z",
     "iopub.status.idle": "2020-10-29T19:09:56.450570Z",
     "shell.execute_reply": "2020-10-29T19:09:56.451133Z"
    },
    "papermill": {
     "duration": 0.031742,
     "end_time": "2020-10-29T19:09:56.451302",
     "exception": false,
     "start_time": "2020-10-29T19:09:56.419560",
     "status": "completed"
    },
    "tags": []
   },
   "outputs": [
    {
     "data": {
      "text/html": [
       "<div>\n",
       "<style scoped>\n",
       "    .dataframe tbody tr th:only-of-type {\n",
       "        vertical-align: middle;\n",
       "    }\n",
       "\n",
       "    .dataframe tbody tr th {\n",
       "        vertical-align: top;\n",
       "    }\n",
       "\n",
       "    .dataframe thead th {\n",
       "        text-align: right;\n",
       "    }\n",
       "</style>\n",
       "<table border=\"1\" class=\"dataframe\">\n",
       "  <thead>\n",
       "    <tr style=\"text-align: right;\">\n",
       "      <th></th>\n",
       "      <th>TT</th>\n",
       "      <th>AN</th>\n",
       "      <th>AP</th>\n",
       "      <th>AR</th>\n",
       "      <th>AS</th>\n",
       "      <th>BR</th>\n",
       "      <th>CH</th>\n",
       "      <th>CT</th>\n",
       "      <th>DN</th>\n",
       "      <th>DD</th>\n",
       "      <th>...</th>\n",
       "      <th>PB</th>\n",
       "      <th>RJ</th>\n",
       "      <th>SK</th>\n",
       "      <th>TN</th>\n",
       "      <th>TG</th>\n",
       "      <th>TR</th>\n",
       "      <th>UP</th>\n",
       "      <th>UT</th>\n",
       "      <th>WB</th>\n",
       "      <th>UN</th>\n",
       "    </tr>\n",
       "    <tr>\n",
       "      <th>Status</th>\n",
       "      <th></th>\n",
       "      <th></th>\n",
       "      <th></th>\n",
       "      <th></th>\n",
       "      <th></th>\n",
       "      <th></th>\n",
       "      <th></th>\n",
       "      <th></th>\n",
       "      <th></th>\n",
       "      <th></th>\n",
       "      <th></th>\n",
       "      <th></th>\n",
       "      <th></th>\n",
       "      <th></th>\n",
       "      <th></th>\n",
       "      <th></th>\n",
       "      <th></th>\n",
       "      <th></th>\n",
       "      <th></th>\n",
       "      <th></th>\n",
       "      <th></th>\n",
       "    </tr>\n",
       "  </thead>\n",
       "  <tbody>\n",
       "    <tr>\n",
       "      <th>Confirmed</th>\n",
       "      <td>8086776</td>\n",
       "      <td>4301</td>\n",
       "      <td>817679</td>\n",
       "      <td>14668</td>\n",
       "      <td>205533</td>\n",
       "      <td>214946</td>\n",
       "      <td>14292</td>\n",
       "      <td>183588</td>\n",
       "      <td>3235</td>\n",
       "      <td>0</td>\n",
       "      <td>...</td>\n",
       "      <td>132263</td>\n",
       "      <td>193419</td>\n",
       "      <td>3888</td>\n",
       "      <td>719403</td>\n",
       "      <td>235146</td>\n",
       "      <td>30563</td>\n",
       "      <td>477895</td>\n",
       "      <td>61566</td>\n",
       "      <td>365692</td>\n",
       "      <td>0</td>\n",
       "    </tr>\n",
       "    <tr>\n",
       "      <th>Deceased</th>\n",
       "      <td>120527</td>\n",
       "      <td>59</td>\n",
       "      <td>6659</td>\n",
       "      <td>37</td>\n",
       "      <td>927</td>\n",
       "      <td>1076</td>\n",
       "      <td>225</td>\n",
       "      <td>1989</td>\n",
       "      <td>2</td>\n",
       "      <td>0</td>\n",
       "      <td>...</td>\n",
       "      <td>4158</td>\n",
       "      <td>1888</td>\n",
       "      <td>67</td>\n",
       "      <td>11053</td>\n",
       "      <td>1324</td>\n",
       "      <td>342</td>\n",
       "      <td>6983</td>\n",
       "      <td>1009</td>\n",
       "      <td>6725</td>\n",
       "      <td>0</td>\n",
       "    </tr>\n",
       "    <tr>\n",
       "      <th>Recovered</th>\n",
       "      <td>7371141</td>\n",
       "      <td>4045</td>\n",
       "      <td>784752</td>\n",
       "      <td>12623</td>\n",
       "      <td>193571</td>\n",
       "      <td>205385</td>\n",
       "      <td>13402</td>\n",
       "      <td>159268</td>\n",
       "      <td>3138</td>\n",
       "      <td>0</td>\n",
       "      <td>...</td>\n",
       "      <td>123866</td>\n",
       "      <td>175977</td>\n",
       "      <td>3464</td>\n",
       "      <td>683464</td>\n",
       "      <td>216353</td>\n",
       "      <td>28502</td>\n",
       "      <td>446054</td>\n",
       "      <td>56529</td>\n",
       "      <td>321873</td>\n",
       "      <td>0</td>\n",
       "    </tr>\n",
       "  </tbody>\n",
       "</table>\n",
       "<p>3 rows × 39 columns</p>\n",
       "</div>"
      ],
      "text/plain": [
       "                TT    AN      AP     AR      AS      BR     CH      CT    DN  \\\n",
       "Status                                                                         \n",
       "Confirmed  8086776  4301  817679  14668  205533  214946  14292  183588  3235   \n",
       "Deceased    120527    59    6659     37     927    1076    225    1989     2   \n",
       "Recovered  7371141  4045  784752  12623  193571  205385  13402  159268  3138   \n",
       "\n",
       "           DD  ...      PB      RJ    SK      TN      TG     TR      UP  \\\n",
       "Status         ...                                                        \n",
       "Confirmed   0  ...  132263  193419  3888  719403  235146  30563  477895   \n",
       "Deceased    0  ...    4158    1888    67   11053    1324    342    6983   \n",
       "Recovered   0  ...  123866  175977  3464  683464  216353  28502  446054   \n",
       "\n",
       "              UT      WB  UN  \n",
       "Status                        \n",
       "Confirmed  61566  365692   0  \n",
       "Deceased    1009    6725   0  \n",
       "Recovered  56529  321873   0  \n",
       "\n",
       "[3 rows x 39 columns]"
      ]
     },
     "execution_count": 6,
     "metadata": {},
     "output_type": "execute_result"
    }
   ],
   "source": [
    "#hide\n",
    "df_today"
   ]
  },
  {
   "cell_type": "code",
   "execution_count": 7,
   "metadata": {
    "execution": {
     "iopub.execute_input": "2020-10-29T19:09:56.481895Z",
     "iopub.status.busy": "2020-10-29T19:09:56.481226Z",
     "iopub.status.idle": "2020-10-29T19:09:56.496816Z",
     "shell.execute_reply": "2020-10-29T19:09:56.497289Z"
    },
    "papermill": {
     "duration": 0.032017,
     "end_time": "2020-10-29T19:09:56.497460",
     "exception": false,
     "start_time": "2020-10-29T19:09:56.465443",
     "status": "completed"
    },
    "tags": []
   },
   "outputs": [
    {
     "data": {
      "text/html": [
       "<div>\n",
       "<style scoped>\n",
       "    .dataframe tbody tr th:only-of-type {\n",
       "        vertical-align: middle;\n",
       "    }\n",
       "\n",
       "    .dataframe tbody tr th {\n",
       "        vertical-align: top;\n",
       "    }\n",
       "\n",
       "    .dataframe thead th {\n",
       "        text-align: right;\n",
       "    }\n",
       "</style>\n",
       "<table border=\"1\" class=\"dataframe\">\n",
       "  <thead>\n",
       "    <tr style=\"text-align: right;\">\n",
       "      <th></th>\n",
       "      <th>TT</th>\n",
       "      <th>AN</th>\n",
       "      <th>AP</th>\n",
       "      <th>AR</th>\n",
       "      <th>AS</th>\n",
       "      <th>BR</th>\n",
       "      <th>CH</th>\n",
       "      <th>CT</th>\n",
       "      <th>DN</th>\n",
       "      <th>DD</th>\n",
       "      <th>...</th>\n",
       "      <th>PB</th>\n",
       "      <th>RJ</th>\n",
       "      <th>SK</th>\n",
       "      <th>TN</th>\n",
       "      <th>TG</th>\n",
       "      <th>TR</th>\n",
       "      <th>UP</th>\n",
       "      <th>UT</th>\n",
       "      <th>WB</th>\n",
       "      <th>UN</th>\n",
       "    </tr>\n",
       "    <tr>\n",
       "      <th>Status</th>\n",
       "      <th></th>\n",
       "      <th></th>\n",
       "      <th></th>\n",
       "      <th></th>\n",
       "      <th></th>\n",
       "      <th></th>\n",
       "      <th></th>\n",
       "      <th></th>\n",
       "      <th></th>\n",
       "      <th></th>\n",
       "      <th></th>\n",
       "      <th></th>\n",
       "      <th></th>\n",
       "      <th></th>\n",
       "      <th></th>\n",
       "      <th></th>\n",
       "      <th></th>\n",
       "      <th></th>\n",
       "      <th></th>\n",
       "      <th></th>\n",
       "      <th></th>\n",
       "    </tr>\n",
       "  </thead>\n",
       "  <tbody>\n",
       "    <tr>\n",
       "      <th>Confirmed</th>\n",
       "      <td>8038566</td>\n",
       "      <td>4285</td>\n",
       "      <td>814774</td>\n",
       "      <td>14580</td>\n",
       "      <td>205135</td>\n",
       "      <td>214163</td>\n",
       "      <td>14212</td>\n",
       "      <td>181583</td>\n",
       "      <td>3232</td>\n",
       "      <td>0</td>\n",
       "      <td>...</td>\n",
       "      <td>132263</td>\n",
       "      <td>191629</td>\n",
       "      <td>3888</td>\n",
       "      <td>716751</td>\n",
       "      <td>233642</td>\n",
       "      <td>30450</td>\n",
       "      <td>476034</td>\n",
       "      <td>61261</td>\n",
       "      <td>361703</td>\n",
       "      <td>0</td>\n",
       "    </tr>\n",
       "    <tr>\n",
       "      <th>Deceased</th>\n",
       "      <td>119976</td>\n",
       "      <td>58</td>\n",
       "      <td>6643</td>\n",
       "      <td>36</td>\n",
       "      <td>921</td>\n",
       "      <td>1069</td>\n",
       "      <td>224</td>\n",
       "      <td>1936</td>\n",
       "      <td>2</td>\n",
       "      <td>0</td>\n",
       "      <td>...</td>\n",
       "      <td>4158</td>\n",
       "      <td>1877</td>\n",
       "      <td>67</td>\n",
       "      <td>11018</td>\n",
       "      <td>1319</td>\n",
       "      <td>341</td>\n",
       "      <td>6958</td>\n",
       "      <td>1009</td>\n",
       "      <td>6664</td>\n",
       "      <td>0</td>\n",
       "    </tr>\n",
       "    <tr>\n",
       "      <th>Recovered</th>\n",
       "      <td>7313872</td>\n",
       "      <td>4030</td>\n",
       "      <td>781509</td>\n",
       "      <td>12480</td>\n",
       "      <td>192514</td>\n",
       "      <td>204317</td>\n",
       "      <td>13359</td>\n",
       "      <td>157480</td>\n",
       "      <td>3138</td>\n",
       "      <td>0</td>\n",
       "      <td>...</td>\n",
       "      <td>123866</td>\n",
       "      <td>174044</td>\n",
       "      <td>3464</td>\n",
       "      <td>679377</td>\n",
       "      <td>214917</td>\n",
       "      <td>28332</td>\n",
       "      <td>443589</td>\n",
       "      <td>56073</td>\n",
       "      <td>317928</td>\n",
       "      <td>0</td>\n",
       "    </tr>\n",
       "  </tbody>\n",
       "</table>\n",
       "<p>3 rows × 39 columns</p>\n",
       "</div>"
      ],
      "text/plain": [
       "                TT    AN      AP     AR      AS      BR     CH      CT    DN  \\\n",
       "Status                                                                         \n",
       "Confirmed  8038566  4285  814774  14580  205135  214163  14212  181583  3232   \n",
       "Deceased    119976    58    6643     36     921    1069    224    1936     2   \n",
       "Recovered  7313872  4030  781509  12480  192514  204317  13359  157480  3138   \n",
       "\n",
       "           DD  ...      PB      RJ    SK      TN      TG     TR      UP  \\\n",
       "Status         ...                                                        \n",
       "Confirmed   0  ...  132263  191629  3888  716751  233642  30450  476034   \n",
       "Deceased    0  ...    4158    1877    67   11018    1319    341    6958   \n",
       "Recovered   0  ...  123866  174044  3464  679377  214917  28332  443589   \n",
       "\n",
       "              UT      WB  UN  \n",
       "Status                        \n",
       "Confirmed  61261  361703   0  \n",
       "Deceased    1009    6664   0  \n",
       "Recovered  56073  317928   0  \n",
       "\n",
       "[3 rows x 39 columns]"
      ]
     },
     "execution_count": 7,
     "metadata": {},
     "output_type": "execute_result"
    }
   ],
   "source": [
    "#hide\n",
    "df_yday.head()"
   ]
  },
  {
   "cell_type": "code",
   "execution_count": 8,
   "metadata": {
    "execution": {
     "iopub.execute_input": "2020-10-29T19:09:56.542569Z",
     "iopub.status.busy": "2020-10-29T19:09:56.541920Z",
     "iopub.status.idle": "2020-10-29T19:09:56.545250Z",
     "shell.execute_reply": "2020-10-29T19:09:56.545692Z"
    },
    "papermill": {
     "duration": 0.03046,
     "end_time": "2020-10-29T19:09:56.545842",
     "exception": false,
     "start_time": "2020-10-29T19:09:56.515382",
     "status": "completed"
    },
    "tags": []
   },
   "outputs": [
    {
     "data": {
      "text/plain": [
       "{'updated': '29-Oct-20',\n",
       " 'since': '28-Oct-20',\n",
       " 'Cases': 8086776,\n",
       " 'Deaths': 120527,\n",
       " 'Recovered': 7371141,\n",
       " 'PCases': 8038566,\n",
       " 'PDeaths': 119976,\n",
       " 'PRecovered': 7313872,\n",
       " 'Cases (+)': 48210,\n",
       " 'Deaths (+)': 551,\n",
       " 'Recovered (+)': 57269}"
      ]
     },
     "execution_count": 8,
     "metadata": {},
     "output_type": "execute_result"
    }
   ],
   "source": [
    "#hide\n",
    "summary = {\n",
    "    'updated' : dt_today,\n",
    "    'since' : dt_yday,\n",
    "    'Cases' : df_today['TT'][0],\n",
    "    'Deaths' : df_today['TT'][1],\n",
    "    'Recovered' : df_today['TT'][2],\n",
    "    'PCases' : df_yday['TT'][0],\n",
    "    'PDeaths' : df_yday['TT'][1],\n",
    "    'PRecovered': df_yday['TT'][2],\n",
    "    'Cases (+)' : df_today['TT'][0] - df_yday['TT'][0],\n",
    "    'Deaths (+)' : df_today['TT'][1] - df_yday['TT'][1],\n",
    "    'Recovered (+)': df_today['TT'][2] - df_yday['TT'][2]\n",
    "}\n",
    "\n",
    "summary"
   ]
  },
  {
   "cell_type": "code",
   "execution_count": 9,
   "metadata": {
    "execution": {
     "iopub.execute_input": "2020-10-29T19:09:56.579642Z",
     "iopub.status.busy": "2020-10-29T19:09:56.579012Z",
     "iopub.status.idle": "2020-10-29T19:09:56.580886Z",
     "shell.execute_reply": "2020-10-29T19:09:56.581332Z"
    },
    "papermill": {
     "duration": 0.022371,
     "end_time": "2020-10-29T19:09:56.581495",
     "exception": false,
     "start_time": "2020-10-29T19:09:56.559124",
     "status": "completed"
    },
    "tags": []
   },
   "outputs": [],
   "source": [
    "#hide\n",
    "overview = '''\n",
    "<!-- #######  HTML!! #########-->\n",
    "<h1 style=\"color: #5e9ca0; text-align: center;\">India</h1>\n",
    "<p style=\"text-align: center;\">Last update: <strong>{update}</strong></p>\n",
    "<p style=\"text-align: center;\">Confirmed cases:</p>\n",
    "<p style=\"text-align: center;font-size:24px;\">{cases} (<span style=\"color: #ff0000;\">+{new}</span>)</p>\n",
    "<p style=\"text-align: center;\">Confirmed deaths:</p>\n",
    "<p style=\"text-align: center;font-size:24px;\">{deaths} (<span style=\"color: #ff0000;\">+{dnew}</span>)</p>\n",
    "<p style=\"text-align: center;\">Recovered cases:</p>\n",
    "<p style=\"text-align: center;font-size:24px;\">{recovered} (<span style=\"color: #00ff00;\">+{rnew}</span>)</p>\n",
    "'''"
   ]
  },
  {
   "cell_type": "code",
   "execution_count": 10,
   "metadata": {
    "execution": {
     "iopub.execute_input": "2020-10-29T19:09:56.619525Z",
     "iopub.status.busy": "2020-10-29T19:09:56.618874Z",
     "iopub.status.idle": "2020-10-29T19:09:56.621030Z",
     "shell.execute_reply": "2020-10-29T19:09:56.621589Z"
    },
    "papermill": {
     "duration": 0.025406,
     "end_time": "2020-10-29T19:09:56.621886",
     "exception": false,
     "start_time": "2020-10-29T19:09:56.596480",
     "status": "completed"
    },
    "tags": []
   },
   "outputs": [
    {
     "data": {
      "text/html": [
       "\n",
       "<!-- #######  HTML!! #########-->\n",
       "<h1 style=\"color: #5e9ca0; text-align: center;\">India</h1>\n",
       "<p style=\"text-align: center;\">Last update: <strong>29-Oct-20</strong></p>\n",
       "<p style=\"text-align: center;\">Confirmed cases:</p>\n",
       "<p style=\"text-align: center;font-size:24px;\">8086776 (<span style=\"color: #ff0000;\">+48210</span>)</p>\n",
       "<p style=\"text-align: center;\">Confirmed deaths:</p>\n",
       "<p style=\"text-align: center;font-size:24px;\">120527 (<span style=\"color: #ff0000;\">+551</span>)</p>\n",
       "<p style=\"text-align: center;\">Recovered cases:</p>\n",
       "<p style=\"text-align: center;font-size:24px;\">7371141 (<span style=\"color: #00ff00;\">+57269</span>)</p>\n"
      ],
      "text/plain": [
       "<IPython.core.display.HTML object>"
      ]
     },
     "metadata": {},
     "output_type": "display_data"
    }
   ],
   "source": [
    "#hide_input\n",
    "# Fill the above HTML with the information from the summary dictionary\n",
    "\n",
    "update = summary['updated']\n",
    "cases = summary['Cases']\n",
    "new = summary['Cases (+)']\n",
    "deaths = summary['Deaths']\n",
    "dnew = summary['Deaths (+)']\n",
    "recovered = summary['Recovered']\n",
    "rnew = summary['Recovered (+)']\n",
    "\n",
    "html = HTML(overview.format(update=update, cases=cases,new=new,deaths=deaths,dnew=dnew, recovered=recovered, rnew=rnew))\n",
    "\n",
    "display(html)"
   ]
  },
  {
   "cell_type": "code",
   "execution_count": 11,
   "metadata": {
    "execution": {
     "iopub.execute_input": "2020-10-29T19:09:56.661219Z",
     "iopub.status.busy": "2020-10-29T19:09:56.660728Z",
     "iopub.status.idle": "2020-10-29T19:09:56.665648Z",
     "shell.execute_reply": "2020-10-29T19:09:56.665174Z"
    },
    "papermill": {
     "duration": 0.02889,
     "end_time": "2020-10-29T19:09:56.665787",
     "exception": false,
     "start_time": "2020-10-29T19:09:56.636897",
     "status": "completed"
    },
    "tags": []
   },
   "outputs": [],
   "source": [
    "#hide\n",
    "df_cases = df[df['Status'] == 'Confirmed'].copy()\n",
    "df_cases.drop(columns = ['Status'], inplace=True)\n",
    "df_deaths = df[df['Status'] == 'Deceased'].copy()\n",
    "df_deaths.drop(columns = ['Status'], inplace=True)\n",
    "df_recovered = df[df['Status'] == 'Recovered'].copy()\n",
    "df_recovered.drop(columns = ['Status'], inplace=True)"
   ]
  },
  {
   "cell_type": "markdown",
   "metadata": {
    "papermill": {
     "duration": 0.013807,
     "end_time": "2020-10-29T19:09:56.693307",
     "exception": false,
     "start_time": "2020-10-29T19:09:56.679500",
     "status": "completed"
    },
    "tags": []
   },
   "source": [
    "Plot for India:"
   ]
  },
  {
   "cell_type": "code",
   "execution_count": 12,
   "metadata": {
    "execution": {
     "iopub.execute_input": "2020-10-29T19:09:56.743211Z",
     "iopub.status.busy": "2020-10-29T19:09:56.742599Z",
     "iopub.status.idle": "2020-10-29T19:09:57.007339Z",
     "shell.execute_reply": "2020-10-29T19:09:57.007769Z"
    },
    "papermill": {
     "duration": 0.300943,
     "end_time": "2020-10-29T19:09:57.007946",
     "exception": false,
     "start_time": "2020-10-29T19:09:56.707003",
     "status": "completed"
    },
    "tags": []
   },
   "outputs": [
    {
     "data": {
      "image/png": "[encoded data removed]",
      "text/plain": [
       "<Figure size 1296x432 with 1 Axes>"
      ]
     },
     "metadata": {
      "needs_background": "light"
     },
     "output_type": "display_data"
    }
   ],
   "source": [
    "#hide_input\n",
    "plt.figure(figsize = (18,6))\n",
    "plt.plot(df_cases['Date'], df_cases['TT'],'.-', alpha=0.7, color='b', label='Confirmed cases')\n",
    "plt.plot(df_recovered['Date'], df_recovered['TT'],'.-', alpha=0.7, color='g', label='Recovered')\n",
    "plt.plot(df_deaths['Date'], df_deaths['TT'],'.-', alpha=0.7, color='r', label='Deceased')\n",
    "plt.legend()\n",
    "plt.title(\"Cases per day in India\")\n",
    "plt.xticks(ticks=' ')\n",
    "plt.xlabel(f'{df_cases.iloc[0][0]} to {df_cases.iloc[-1][0]}')\n",
    "plt.ylabel('No. of cases');"
   ]
  },
  {
   "cell_type": "markdown",
   "metadata": {
    "papermill": {
     "duration": 0.040802,
     "end_time": "2020-10-29T19:09:57.404289",
     "exception": false,
     "start_time": "2020-10-29T19:09:57.363487",
     "status": "completed"
    },
    "tags": []
   },
   "source": [
    "Plots for the states with highest number of cases:"
   ]
  },
  {
   "cell_type": "markdown",
   "metadata": {
    "tags": [
     "papermill-error-cell-tag"
    ]
   },
   "source": [
    "<span id=\"papermill-error-cell\" style=\"color:red; font-family:Helvetica Neue, Helvetica, Arial, sans-serif; font-size:2em;\">Execution using papermill encountered an exception here and stopped:</span>"
   ]
  },
  {
   "cell_type": "code",
   "execution_count": 13,
   "metadata": {
    "execution": {
     "iopub.execute_input": "2020-10-29T19:09:57.480368Z",
     "iopub.status.busy": "2020-10-29T19:09:57.479674Z",
     "iopub.status.idle": "2020-10-29T19:09:57.601126Z",
     "shell.execute_reply": "2020-10-29T19:09:57.600461Z"
    },
    "papermill": {
     "duration": 0.150136,
     "end_time": "2020-10-29T19:09:57.601348",
     "exception": true,
     "start_time": "2020-10-29T19:09:57.451212",
     "status": "failed"
    },
    "tags": []
   },
   "outputs": [
    {
     "ename": "TypeError",
     "evalue": "'>' not supported between instances of 'numpy.ndarray' and 'str'",
     "output_type": "error",
     "traceback": [
      "\u001b[0;31m---------------------------------------------------------------------------\u001b[0m",
      "\u001b[0;31mTypeError\u001b[0m                                 Traceback (most recent call last)",
      "\u001b[0;32m<ipython-input-13-9711672c0a2c>\u001b[0m in \u001b[0;36m<module>\u001b[0;34m\u001b[0m\n\u001b[1;32m      1\u001b[0m \u001b[0;31m#hide_input\u001b[0m\u001b[0;34m\u001b[0m\u001b[0;34m\u001b[0m\u001b[0;34m\u001b[0m\u001b[0m\n\u001b[0;32m----> 2\u001b[0;31m \u001b[0mtop_3\u001b[0m \u001b[0;34m=\u001b[0m \u001b[0msorted\u001b[0m\u001b[0;34m(\u001b[0m\u001b[0mdf_cases\u001b[0m\u001b[0;34m.\u001b[0m\u001b[0msum\u001b[0m\u001b[0;34m(\u001b[0m\u001b[0;34m)\u001b[0m\u001b[0;34m.\u001b[0m\u001b[0mvalues\u001b[0m\u001b[0;34m[\u001b[0m\u001b[0;36m1\u001b[0m\u001b[0;34m:\u001b[0m\u001b[0;34m]\u001b[0m\u001b[0;34m,\u001b[0m \u001b[0mreverse\u001b[0m\u001b[0;34m=\u001b[0m\u001b[0;32mTrue\u001b[0m\u001b[0;34m)\u001b[0m\u001b[0;34m[\u001b[0m\u001b[0;36m1\u001b[0m\u001b[0;34m:\u001b[0m\u001b[0;36m4\u001b[0m\u001b[0;34m]\u001b[0m\u001b[0;34m\u001b[0m\u001b[0;34m\u001b[0m\u001b[0m\n\u001b[0m\u001b[1;32m      3\u001b[0m \u001b[0mtop3_states\u001b[0m\u001b[0;34m=\u001b[0m\u001b[0;34m[\u001b[0m\u001b[0;34m]\u001b[0m\u001b[0;34m\u001b[0m\u001b[0;34m\u001b[0m\u001b[0m\n\u001b[1;32m      4\u001b[0m \u001b[0;32mfor\u001b[0m \u001b[0mi\u001b[0m \u001b[0;32min\u001b[0m \u001b[0mtop_3\u001b[0m\u001b[0;34m:\u001b[0m\u001b[0;34m\u001b[0m\u001b[0;34m\u001b[0m\u001b[0m\n\u001b[1;32m      5\u001b[0m     \u001b[0mtop3_states\u001b[0m\u001b[0;34m.\u001b[0m\u001b[0mappend\u001b[0m\u001b[0;34m(\u001b[0m\u001b[0mdf_cases\u001b[0m\u001b[0;34m.\u001b[0m\u001b[0msum\u001b[0m\u001b[0;34m(\u001b[0m\u001b[0;34m)\u001b[0m\u001b[0;34m[\u001b[0m\u001b[0mdf_cases\u001b[0m\u001b[0;34m.\u001b[0m\u001b[0msum\u001b[0m\u001b[0;34m(\u001b[0m\u001b[0;34m)\u001b[0m \u001b[0;34m==\u001b[0m \u001b[0mi\u001b[0m\u001b[0;34m]\u001b[0m\u001b[0;34m.\u001b[0m\u001b[0mindex\u001b[0m\u001b[0;34m)\u001b[0m\u001b[0;34m\u001b[0m\u001b[0;34m\u001b[0m\u001b[0m\n",
      "\u001b[0;31mTypeError\u001b[0m: '>' not supported between instances of 'numpy.ndarray' and 'str'"
     ]
    }
   ],
   "source": [
    "#hide_input\n",
    "top_3 = sorted(df_cases.sum().values[1:], reverse=True)[1:4]\n",
    "top3_states=[]\n",
    "for i in top_3:\n",
    "    top3_states.append(df_cases.sum()[df_cases.sum() == i].index)\n",
    "\n",
    "\n",
    "fig, ax = plt.subplots(1,3,figsize = (21,6))\n",
    "for i in range(3):\n",
    "    state = top3_states[i].values[0]\n",
    "    ax[i].plot(df_cases['Date'], df_cases[state],'.-', color='b', alpha=0.7)\n",
    "    ax[i].plot(df_deaths['Date'], df_deaths[state],'.-', color='r', alpha=0.7)\n",
    "    ax[i].plot(df_recovered['Date'], df_recovered[state],'.-', color='g', alpha=0.7)\n",
    "    \n",
    "    ax[i].set_title(f\"Cases in {state}\")\n",
    "    ax[i].set_xticks(ticks=' ')\n",
    "    ax[i].set_xlabel(f'{df_cases.iloc[0][0]} to {df_cases.iloc[-1][0]}')\n",
    "    ax[i].set_ylabel('No. of cases');"
   ]
  },
  {
   "cell_type": "code",
   "execution_count": null,
   "metadata": {
    "papermill": {
     "duration": null,
     "end_time": null,
     "exception": null,
     "start_time": null,
     "status": "pending"
    },
    "tags": []
   },
   "outputs": [],
   "source": []
  },
  {
   "cell_type": "code",
   "execution_count": null,
   "metadata": {
    "papermill": {
     "duration": null,
     "end_time": null,
     "exception": null,
     "start_time": null,
     "status": "pending"
    },
    "tags": []
   },
   "outputs": [],
   "source": []
  },
  {
   "cell_type": "code",
   "execution_count": null,
   "metadata": {
    "papermill": {
     "duration": null,
     "end_time": null,
     "exception": null,
     "start_time": null,
     "status": "pending"
    },
    "tags": []
   },
   "outputs": [],
   "source": []
  }
 ],
 "metadata": {
  "kernelspec": {
   "display_name": "Python 3",
   "language": "python",
   "name": "python3"
  },
  "language_info": {
   "codemirror_mode": {
    "name": "ipython",
    "version": 3
   },
   "file_extension": ".py",
   "mimetype": "text/x-python",
   "name": "python",
   "nbconvert_exporter": "python",
   "pygments_lexer": "ipython3",
   "version": "3.6.12"
  },
  "papermill": {
   "duration": 3.832491,
   "end_time": "2020-10-29T19:09:58.111792",
   "environment_variables": {},
   "exception": true,
   "input_path": "2020-08-09-DailyUpdate.ipynb",
   "output_path": "2020-08-09-DailyUpdate.ipynb",
   "parameters": {},
   "start_time": "2020-10-29T19:09:54.279301",
   "version": "2.1.2"
  }
 },
 "nbformat": 4,
 "nbformat_minor": 4
}