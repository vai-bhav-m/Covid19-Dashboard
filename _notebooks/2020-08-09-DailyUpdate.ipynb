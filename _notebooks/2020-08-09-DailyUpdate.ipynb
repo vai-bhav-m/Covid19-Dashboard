{
 "cells": [
  {
   "cell_type": "markdown",
   "metadata": {
    "papermill": {
     "duration": 0.018105,
     "end_time": "2020-09-15T19:12:00.115405",
     "exception": false,
     "start_time": "2020-09-15T19:12:00.097300",
     "status": "completed"
    },
    "tags": []
   },
   "source": [
    "# COVID-19 India Daily updates\n",
    "> Tracking coronavirus total cases, deaths and new cases in India on a daily basis\n",
    "\n",
    "- author: Vaibhav Mahapatra"
   ]
  },
  {
   "cell_type": "code",
   "execution_count": 1,
   "metadata": {
    "execution": {
     "iopub.execute_input": "2020-09-15T19:12:00.151081Z",
     "iopub.status.busy": "2020-09-15T19:12:00.150255Z",
     "iopub.status.idle": "2020-09-15T19:12:00.748322Z",
     "shell.execute_reply": "2020-09-15T19:12:00.747741Z"
    },
    "papermill": {
     "duration": 0.618516,
     "end_time": "2020-09-15T19:12:00.748488",
     "exception": false,
     "start_time": "2020-09-15T19:12:00.129972",
     "status": "completed"
    },
    "tags": []
   },
   "outputs": [],
   "source": [
    "#hide\n",
    "\n",
    "## Import essential packages below\n",
    "\n",
    "import pandas as pd\n",
    "import numpy as np\n",
    "import requests\n",
    "import json\n",
    "import matplotlib.pyplot as plt\n",
    "import matplotlib.dates as mdates\n",
    "import matplotlib as mpl\n",
    "from IPython.core.display import display,HTML\n",
    "%matplotlib inline"
   ]
  },
  {
   "cell_type": "code",
   "execution_count": 2,
   "metadata": {
    "execution": {
     "iopub.execute_input": "2020-09-15T19:12:00.781440Z",
     "iopub.status.busy": "2020-09-15T19:12:00.780501Z",
     "iopub.status.idle": "2020-09-15T19:12:01.006229Z",
     "shell.execute_reply": "2020-09-15T19:12:01.006759Z"
    },
    "papermill": {
     "duration": 0.245419,
     "end_time": "2020-09-15T19:12:01.006941",
     "exception": false,
     "start_time": "2020-09-15T19:12:00.761522",
     "status": "completed"
    },
    "tags": []
   },
   "outputs": [
    {
     "data": {
      "text/plain": [
       "(558, 41)"
      ]
     },
     "execution_count": 2,
     "metadata": {},
     "output_type": "execute_result"
    }
   ],
   "source": [
    "#hide\n",
    "url = 'https://api.covid19india.org/csv/latest/state_wise_daily.csv'\n",
    "df = pd.read_csv(url)\n",
    "df.shape"
   ]
  },
  {
   "cell_type": "code",
   "execution_count": 3,
   "metadata": {
    "execution": {
     "iopub.execute_input": "2020-09-15T19:12:01.081655Z",
     "iopub.status.busy": "2020-09-15T19:12:01.080906Z",
     "iopub.status.idle": "2020-09-15T19:12:01.092180Z",
     "shell.execute_reply": "2020-09-15T19:12:01.092735Z"
    },
    "papermill": {
     "duration": 0.072343,
     "end_time": "2020-09-15T19:12:01.092909",
     "exception": false,
     "start_time": "2020-09-15T19:12:01.020566",
     "status": "completed"
    },
    "tags": []
   },
   "outputs": [
    {
     "data": {
      "text/html": [
       "<div>\n",
       "<style scoped>\n",
       "    .dataframe tbody tr th:only-of-type {\n",
       "        vertical-align: middle;\n",
       "    }\n",
       "\n",
       "    .dataframe tbody tr th {\n",
       "        vertical-align: top;\n",
       "    }\n",
       "\n",
       "    .dataframe thead th {\n",
       "        text-align: right;\n",
       "    }\n",
       "</style>\n",
       "<table border=\"1\" class=\"dataframe\">\n",
       "  <thead>\n",
       "    <tr style=\"text-align: right;\">\n",
       "      <th></th>\n",
       "      <th>Date</th>\n",
       "      <th>Status</th>\n",
       "      <th>TT</th>\n",
       "      <th>AN</th>\n",
       "      <th>AP</th>\n",
       "      <th>AR</th>\n",
       "      <th>AS</th>\n",
       "      <th>BR</th>\n",
       "      <th>CH</th>\n",
       "      <th>CT</th>\n",
       "      <th>...</th>\n",
       "      <th>PB</th>\n",
       "      <th>RJ</th>\n",
       "      <th>SK</th>\n",
       "      <th>TN</th>\n",
       "      <th>TG</th>\n",
       "      <th>TR</th>\n",
       "      <th>UP</th>\n",
       "      <th>UT</th>\n",
       "      <th>WB</th>\n",
       "      <th>UN</th>\n",
       "    </tr>\n",
       "  </thead>\n",
       "  <tbody>\n",
       "    <tr>\n",
       "      <th>552</th>\n",
       "      <td>14-Sep-20</td>\n",
       "      <td>Confirmed</td>\n",
       "      <td>81911</td>\n",
       "      <td>11</td>\n",
       "      <td>7956</td>\n",
       "      <td>176</td>\n",
       "      <td>2403</td>\n",
       "      <td>1137</td>\n",
       "      <td>254</td>\n",
       "      <td>3336</td>\n",
       "      <td>...</td>\n",
       "      <td>2421</td>\n",
       "      <td>1730</td>\n",
       "      <td>33</td>\n",
       "      <td>5752</td>\n",
       "      <td>1417</td>\n",
       "      <td>255</td>\n",
       "      <td>5159</td>\n",
       "      <td>1043</td>\n",
       "      <td>3211</td>\n",
       "      <td>0</td>\n",
       "    </tr>\n",
       "    <tr>\n",
       "      <th>553</th>\n",
       "      <td>14-Sep-20</td>\n",
       "      <td>Recovered</td>\n",
       "      <td>79202</td>\n",
       "      <td>35</td>\n",
       "      <td>9764</td>\n",
       "      <td>152</td>\n",
       "      <td>1918</td>\n",
       "      <td>1966</td>\n",
       "      <td>130</td>\n",
       "      <td>1178</td>\n",
       "      <td>...</td>\n",
       "      <td>1448</td>\n",
       "      <td>1644</td>\n",
       "      <td>16</td>\n",
       "      <td>5799</td>\n",
       "      <td>2479</td>\n",
       "      <td>404</td>\n",
       "      <td>5932</td>\n",
       "      <td>1037</td>\n",
       "      <td>3084</td>\n",
       "      <td>0</td>\n",
       "    </tr>\n",
       "    <tr>\n",
       "      <th>554</th>\n",
       "      <td>14-Sep-20</td>\n",
       "      <td>Deceased</td>\n",
       "      <td>1054</td>\n",
       "      <td>1</td>\n",
       "      <td>60</td>\n",
       "      <td>1</td>\n",
       "      <td>13</td>\n",
       "      <td>9</td>\n",
       "      <td>5</td>\n",
       "      <td>18</td>\n",
       "      <td>...</td>\n",
       "      <td>67</td>\n",
       "      <td>14</td>\n",
       "      <td>0</td>\n",
       "      <td>53</td>\n",
       "      <td>13</td>\n",
       "      <td>6</td>\n",
       "      <td>62</td>\n",
       "      <td>15</td>\n",
       "      <td>58</td>\n",
       "      <td>0</td>\n",
       "    </tr>\n",
       "    <tr>\n",
       "      <th>555</th>\n",
       "      <td>15-Sep-20</td>\n",
       "      <td>Confirmed</td>\n",
       "      <td>91096</td>\n",
       "      <td>17</td>\n",
       "      <td>8846</td>\n",
       "      <td>169</td>\n",
       "      <td>2409</td>\n",
       "      <td>1575</td>\n",
       "      <td>347</td>\n",
       "      <td>3450</td>\n",
       "      <td>...</td>\n",
       "      <td>2382</td>\n",
       "      <td>1760</td>\n",
       "      <td>54</td>\n",
       "      <td>5697</td>\n",
       "      <td>2058</td>\n",
       "      <td>531</td>\n",
       "      <td>6841</td>\n",
       "      <td>1391</td>\n",
       "      <td>3227</td>\n",
       "      <td>0</td>\n",
       "    </tr>\n",
       "    <tr>\n",
       "      <th>556</th>\n",
       "      <td>15-Sep-20</td>\n",
       "      <td>Recovered</td>\n",
       "      <td>82844</td>\n",
       "      <td>40</td>\n",
       "      <td>9628</td>\n",
       "      <td>127</td>\n",
       "      <td>1848</td>\n",
       "      <td>1514</td>\n",
       "      <td>202</td>\n",
       "      <td>1129</td>\n",
       "      <td>...</td>\n",
       "      <td>1830</td>\n",
       "      <td>1711</td>\n",
       "      <td>169</td>\n",
       "      <td>5735</td>\n",
       "      <td>2180</td>\n",
       "      <td>389</td>\n",
       "      <td>6680</td>\n",
       "      <td>1008</td>\n",
       "      <td>2919</td>\n",
       "      <td>0</td>\n",
       "    </tr>\n",
       "    <tr>\n",
       "      <th>557</th>\n",
       "      <td>15-Sep-20</td>\n",
       "      <td>Deceased</td>\n",
       "      <td>1280</td>\n",
       "      <td>0</td>\n",
       "      <td>69</td>\n",
       "      <td>2</td>\n",
       "      <td>10</td>\n",
       "      <td>5</td>\n",
       "      <td>1</td>\n",
       "      <td>15</td>\n",
       "      <td>...</td>\n",
       "      <td>91</td>\n",
       "      <td>14</td>\n",
       "      <td>4</td>\n",
       "      <td>68</td>\n",
       "      <td>10</td>\n",
       "      <td>7</td>\n",
       "      <td>113</td>\n",
       "      <td>9</td>\n",
       "      <td>59</td>\n",
       "      <td>0</td>\n",
       "    </tr>\n",
       "  </tbody>\n",
       "</table>\n",
       "<p>6 rows × 41 columns</p>\n",
       "</div>"
      ],
      "text/plain": [
       "          Date     Status     TT  AN    AP   AR    AS    BR   CH    CT  ...  \\\n",
       "552  14-Sep-20  Confirmed  81911  11  7956  176  2403  1137  254  3336  ...   \n",
       "553  14-Sep-20  Recovered  79202  35  9764  152  1918  1966  130  1178  ...   \n",
       "554  14-Sep-20   Deceased   1054   1    60    1    13     9    5    18  ...   \n",
       "555  15-Sep-20  Confirmed  91096  17  8846  169  2409  1575  347  3450  ...   \n",
       "556  15-Sep-20  Recovered  82844  40  9628  127  1848  1514  202  1129  ...   \n",
       "557  15-Sep-20   Deceased   1280   0    69    2    10     5    1    15  ...   \n",
       "\n",
       "       PB    RJ   SK    TN    TG   TR    UP    UT    WB  UN  \n",
       "552  2421  1730   33  5752  1417  255  5159  1043  3211   0  \n",
       "553  1448  1644   16  5799  2479  404  5932  1037  3084   0  \n",
       "554    67    14    0    53    13    6    62    15    58   0  \n",
       "555  2382  1760   54  5697  2058  531  6841  1391  3227   0  \n",
       "556  1830  1711  169  5735  2180  389  6680  1008  2919   0  \n",
       "557    91    14    4    68    10    7   113     9    59   0  \n",
       "\n",
       "[6 rows x 41 columns]"
      ]
     },
     "execution_count": 3,
     "metadata": {},
     "output_type": "execute_result"
    }
   ],
   "source": [
    "#hide\n",
    "df.tail(6)"
   ]
  },
  {
   "cell_type": "code",
   "execution_count": 4,
   "metadata": {
    "execution": {
     "iopub.execute_input": "2020-09-15T19:12:01.128567Z",
     "iopub.status.busy": "2020-09-15T19:12:01.127901Z",
     "iopub.status.idle": "2020-09-15T19:12:01.131283Z",
     "shell.execute_reply": "2020-09-15T19:12:01.130717Z"
    },
    "papermill": {
     "duration": 0.022649,
     "end_time": "2020-09-15T19:12:01.131419",
     "exception": false,
     "start_time": "2020-09-15T19:12:01.108770",
     "status": "completed"
    },
    "tags": []
   },
   "outputs": [
    {
     "data": {
      "text/plain": [
       "('15-Sep-20', '14-Sep-20')"
      ]
     },
     "execution_count": 4,
     "metadata": {},
     "output_type": "execute_result"
    }
   ],
   "source": [
    "#hide\n",
    "dt_today = df.iloc[-1][0]\n",
    "dt_yday = df.iloc[-4][0]\n",
    "dt_today, dt_yday"
   ]
  },
  {
   "cell_type": "code",
   "execution_count": 5,
   "metadata": {
    "execution": {
     "iopub.execute_input": "2020-09-15T19:12:01.165046Z",
     "iopub.status.busy": "2020-09-15T19:12:01.164395Z",
     "iopub.status.idle": "2020-09-15T19:12:01.171254Z",
     "shell.execute_reply": "2020-09-15T19:12:01.170697Z"
    },
    "papermill": {
     "duration": 0.026071,
     "end_time": "2020-09-15T19:12:01.171383",
     "exception": false,
     "start_time": "2020-09-15T19:12:01.145312",
     "status": "completed"
    },
    "tags": []
   },
   "outputs": [],
   "source": [
    "#hide\n",
    "df_today = df.groupby('Status').sum()\n",
    "df_yday = df.iloc[:-3][:].groupby('Status').sum()"
   ]
  },
  {
   "cell_type": "code",
   "execution_count": 6,
   "metadata": {
    "execution": {
     "iopub.execute_input": "2020-09-15T19:12:01.216823Z",
     "iopub.status.busy": "2020-09-15T19:12:01.216162Z",
     "iopub.status.idle": "2020-09-15T19:12:01.219526Z",
     "shell.execute_reply": "2020-09-15T19:12:01.218970Z"
    },
    "papermill": {
     "duration": 0.034557,
     "end_time": "2020-09-15T19:12:01.219681",
     "exception": false,
     "start_time": "2020-09-15T19:12:01.185124",
     "status": "completed"
    },
    "tags": []
   },
   "outputs": [
    {
     "data": {
      "text/html": [
       "<div>\n",
       "<style scoped>\n",
       "    .dataframe tbody tr th:only-of-type {\n",
       "        vertical-align: middle;\n",
       "    }\n",
       "\n",
       "    .dataframe tbody tr th {\n",
       "        vertical-align: top;\n",
       "    }\n",
       "\n",
       "    .dataframe thead th {\n",
       "        text-align: right;\n",
       "    }\n",
       "</style>\n",
       "<table border=\"1\" class=\"dataframe\">\n",
       "  <thead>\n",
       "    <tr style=\"text-align: right;\">\n",
       "      <th></th>\n",
       "      <th>TT</th>\n",
       "      <th>AN</th>\n",
       "      <th>AP</th>\n",
       "      <th>AR</th>\n",
       "      <th>AS</th>\n",
       "      <th>BR</th>\n",
       "      <th>CH</th>\n",
       "      <th>CT</th>\n",
       "      <th>DN</th>\n",
       "      <th>DD</th>\n",
       "      <th>...</th>\n",
       "      <th>PB</th>\n",
       "      <th>RJ</th>\n",
       "      <th>SK</th>\n",
       "      <th>TN</th>\n",
       "      <th>TG</th>\n",
       "      <th>TR</th>\n",
       "      <th>UP</th>\n",
       "      <th>UT</th>\n",
       "      <th>WB</th>\n",
       "      <th>UN</th>\n",
       "    </tr>\n",
       "    <tr>\n",
       "      <th>Status</th>\n",
       "      <th></th>\n",
       "      <th></th>\n",
       "      <th></th>\n",
       "      <th></th>\n",
       "      <th></th>\n",
       "      <th></th>\n",
       "      <th></th>\n",
       "      <th></th>\n",
       "      <th></th>\n",
       "      <th></th>\n",
       "      <th></th>\n",
       "      <th></th>\n",
       "      <th></th>\n",
       "      <th></th>\n",
       "      <th></th>\n",
       "      <th></th>\n",
       "      <th></th>\n",
       "      <th></th>\n",
       "      <th></th>\n",
       "      <th></th>\n",
       "      <th></th>\n",
       "    </tr>\n",
       "  </thead>\n",
       "  <tbody>\n",
       "    <tr>\n",
       "      <th>Confirmed</th>\n",
       "      <td>5014000</td>\n",
       "      <td>3570</td>\n",
       "      <td>583925</td>\n",
       "      <td>6466</td>\n",
       "      <td>146473</td>\n",
       "      <td>161101</td>\n",
       "      <td>8592</td>\n",
       "      <td>70777</td>\n",
       "      <td>2780</td>\n",
       "      <td>0</td>\n",
       "      <td>...</td>\n",
       "      <td>84482</td>\n",
       "      <td>105898</td>\n",
       "      <td>2155</td>\n",
       "      <td>514208</td>\n",
       "      <td>160061</td>\n",
       "      <td>19715</td>\n",
       "      <td>324036</td>\n",
       "      <td>34407</td>\n",
       "      <td>209146</td>\n",
       "      <td>0</td>\n",
       "    </tr>\n",
       "    <tr>\n",
       "      <th>Deceased</th>\n",
       "      <td>81470</td>\n",
       "      <td>52</td>\n",
       "      <td>5041</td>\n",
       "      <td>13</td>\n",
       "      <td>480</td>\n",
       "      <td>836</td>\n",
       "      <td>96</td>\n",
       "      <td>588</td>\n",
       "      <td>2</td>\n",
       "      <td>0</td>\n",
       "      <td>...</td>\n",
       "      <td>2514</td>\n",
       "      <td>1264</td>\n",
       "      <td>17</td>\n",
       "      <td>8502</td>\n",
       "      <td>984</td>\n",
       "      <td>207</td>\n",
       "      <td>4604</td>\n",
       "      <td>438</td>\n",
       "      <td>4062</td>\n",
       "      <td>0</td>\n",
       "    </tr>\n",
       "    <tr>\n",
       "      <th>Recovered</th>\n",
       "      <td>3937241</td>\n",
       "      <td>3309</td>\n",
       "      <td>486531</td>\n",
       "      <td>4658</td>\n",
       "      <td>116900</td>\n",
       "      <td>146533</td>\n",
       "      <td>5502</td>\n",
       "      <td>34238</td>\n",
       "      <td>2521</td>\n",
       "      <td>0</td>\n",
       "      <td>...</td>\n",
       "      <td>60814</td>\n",
       "      <td>87873</td>\n",
       "      <td>1689</td>\n",
       "      <td>458900</td>\n",
       "      <td>129187</td>\n",
       "      <td>11925</td>\n",
       "      <td>252097</td>\n",
       "      <td>23085</td>\n",
       "      <td>181142</td>\n",
       "      <td>0</td>\n",
       "    </tr>\n",
       "  </tbody>\n",
       "</table>\n",
       "<p>3 rows × 39 columns</p>\n",
       "</div>"
      ],
      "text/plain": [
       "                TT    AN      AP    AR      AS      BR    CH     CT    DN  DD  \\\n",
       "Status                                                                          \n",
       "Confirmed  5014000  3570  583925  6466  146473  161101  8592  70777  2780   0   \n",
       "Deceased     81470    52    5041    13     480     836    96    588     2   0   \n",
       "Recovered  3937241  3309  486531  4658  116900  146533  5502  34238  2521   0   \n",
       "\n",
       "           ...     PB      RJ    SK      TN      TG     TR      UP     UT  \\\n",
       "Status     ...                                                              \n",
       "Confirmed  ...  84482  105898  2155  514208  160061  19715  324036  34407   \n",
       "Deceased   ...   2514    1264    17    8502     984    207    4604    438   \n",
       "Recovered  ...  60814   87873  1689  458900  129187  11925  252097  23085   \n",
       "\n",
       "               WB  UN  \n",
       "Status                 \n",
       "Confirmed  209146   0  \n",
       "Deceased     4062   0  \n",
       "Recovered  181142   0  \n",
       "\n",
       "[3 rows x 39 columns]"
      ]
     },
     "execution_count": 6,
     "metadata": {},
     "output_type": "execute_result"
    }
   ],
   "source": [
    "#hide\n",
    "df_today"
   ]
  },
  {
   "cell_type": "code",
   "execution_count": 7,
   "metadata": {
    "execution": {
     "iopub.execute_input": "2020-09-15T19:12:01.264564Z",
     "iopub.status.busy": "2020-09-15T19:12:01.263911Z",
     "iopub.status.idle": "2020-09-15T19:12:01.267530Z",
     "shell.execute_reply": "2020-09-15T19:12:01.268098Z"
    },
    "papermill": {
     "duration": 0.033689,
     "end_time": "2020-09-15T19:12:01.268242",
     "exception": false,
     "start_time": "2020-09-15T19:12:01.234553",
     "status": "completed"
    },
    "tags": []
   },
   "outputs": [
    {
     "data": {
      "text/html": [
       "<div>\n",
       "<style scoped>\n",
       "    .dataframe tbody tr th:only-of-type {\n",
       "        vertical-align: middle;\n",
       "    }\n",
       "\n",
       "    .dataframe tbody tr th {\n",
       "        vertical-align: top;\n",
       "    }\n",
       "\n",
       "    .dataframe thead th {\n",
       "        text-align: right;\n",
       "    }\n",
       "</style>\n",
       "<table border=\"1\" class=\"dataframe\">\n",
       "  <thead>\n",
       "    <tr style=\"text-align: right;\">\n",
       "      <th></th>\n",
       "      <th>TT</th>\n",
       "      <th>AN</th>\n",
       "      <th>AP</th>\n",
       "      <th>AR</th>\n",
       "      <th>AS</th>\n",
       "      <th>BR</th>\n",
       "      <th>CH</th>\n",
       "      <th>CT</th>\n",
       "      <th>DN</th>\n",
       "      <th>DD</th>\n",
       "      <th>...</th>\n",
       "      <th>PB</th>\n",
       "      <th>RJ</th>\n",
       "      <th>SK</th>\n",
       "      <th>TN</th>\n",
       "      <th>TG</th>\n",
       "      <th>TR</th>\n",
       "      <th>UP</th>\n",
       "      <th>UT</th>\n",
       "      <th>WB</th>\n",
       "      <th>UN</th>\n",
       "    </tr>\n",
       "    <tr>\n",
       "      <th>Status</th>\n",
       "      <th></th>\n",
       "      <th></th>\n",
       "      <th></th>\n",
       "      <th></th>\n",
       "      <th></th>\n",
       "      <th></th>\n",
       "      <th></th>\n",
       "      <th></th>\n",
       "      <th></th>\n",
       "      <th></th>\n",
       "      <th></th>\n",
       "      <th></th>\n",
       "      <th></th>\n",
       "      <th></th>\n",
       "      <th></th>\n",
       "      <th></th>\n",
       "      <th></th>\n",
       "      <th></th>\n",
       "      <th></th>\n",
       "      <th></th>\n",
       "      <th></th>\n",
       "    </tr>\n",
       "  </thead>\n",
       "  <tbody>\n",
       "    <tr>\n",
       "      <th>Confirmed</th>\n",
       "      <td>4922904</td>\n",
       "      <td>3553</td>\n",
       "      <td>575079</td>\n",
       "      <td>6297</td>\n",
       "      <td>144064</td>\n",
       "      <td>159526</td>\n",
       "      <td>8245</td>\n",
       "      <td>67327</td>\n",
       "      <td>2763</td>\n",
       "      <td>0</td>\n",
       "      <td>...</td>\n",
       "      <td>82100</td>\n",
       "      <td>104138</td>\n",
       "      <td>2101</td>\n",
       "      <td>508511</td>\n",
       "      <td>158003</td>\n",
       "      <td>19184</td>\n",
       "      <td>317195</td>\n",
       "      <td>33016</td>\n",
       "      <td>205919</td>\n",
       "      <td>0</td>\n",
       "    </tr>\n",
       "    <tr>\n",
       "      <th>Deceased</th>\n",
       "      <td>80190</td>\n",
       "      <td>52</td>\n",
       "      <td>4972</td>\n",
       "      <td>11</td>\n",
       "      <td>470</td>\n",
       "      <td>831</td>\n",
       "      <td>95</td>\n",
       "      <td>573</td>\n",
       "      <td>2</td>\n",
       "      <td>0</td>\n",
       "      <td>...</td>\n",
       "      <td>2423</td>\n",
       "      <td>1250</td>\n",
       "      <td>13</td>\n",
       "      <td>8434</td>\n",
       "      <td>974</td>\n",
       "      <td>200</td>\n",
       "      <td>4491</td>\n",
       "      <td>429</td>\n",
       "      <td>4003</td>\n",
       "      <td>0</td>\n",
       "    </tr>\n",
       "    <tr>\n",
       "      <th>Recovered</th>\n",
       "      <td>3854397</td>\n",
       "      <td>3269</td>\n",
       "      <td>476903</td>\n",
       "      <td>4531</td>\n",
       "      <td>115052</td>\n",
       "      <td>145019</td>\n",
       "      <td>5300</td>\n",
       "      <td>33109</td>\n",
       "      <td>2494</td>\n",
       "      <td>0</td>\n",
       "      <td>...</td>\n",
       "      <td>58984</td>\n",
       "      <td>86162</td>\n",
       "      <td>1520</td>\n",
       "      <td>453165</td>\n",
       "      <td>127007</td>\n",
       "      <td>11536</td>\n",
       "      <td>245417</td>\n",
       "      <td>22077</td>\n",
       "      <td>178223</td>\n",
       "      <td>0</td>\n",
       "    </tr>\n",
       "  </tbody>\n",
       "</table>\n",
       "<p>3 rows × 39 columns</p>\n",
       "</div>"
      ],
      "text/plain": [
       "                TT    AN      AP    AR      AS      BR    CH     CT    DN  DD  \\\n",
       "Status                                                                          \n",
       "Confirmed  4922904  3553  575079  6297  144064  159526  8245  67327  2763   0   \n",
       "Deceased     80190    52    4972    11     470     831    95    573     2   0   \n",
       "Recovered  3854397  3269  476903  4531  115052  145019  5300  33109  2494   0   \n",
       "\n",
       "           ...     PB      RJ    SK      TN      TG     TR      UP     UT  \\\n",
       "Status     ...                                                              \n",
       "Confirmed  ...  82100  104138  2101  508511  158003  19184  317195  33016   \n",
       "Deceased   ...   2423    1250    13    8434     974    200    4491    429   \n",
       "Recovered  ...  58984   86162  1520  453165  127007  11536  245417  22077   \n",
       "\n",
       "               WB  UN  \n",
       "Status                 \n",
       "Confirmed  205919   0  \n",
       "Deceased     4003   0  \n",
       "Recovered  178223   0  \n",
       "\n",
       "[3 rows x 39 columns]"
      ]
     },
     "execution_count": 7,
     "metadata": {},
     "output_type": "execute_result"
    }
   ],
   "source": [
    "#hide\n",
    "df_yday.head()"
   ]
  },
  {
   "cell_type": "code",
   "execution_count": 8,
   "metadata": {
    "execution": {
     "iopub.execute_input": "2020-09-15T19:12:01.308177Z",
     "iopub.status.busy": "2020-09-15T19:12:01.307520Z",
     "iopub.status.idle": "2020-09-15T19:12:01.310662Z",
     "shell.execute_reply": "2020-09-15T19:12:01.311199Z"
    },
    "papermill": {
     "duration": 0.02656,
     "end_time": "2020-09-15T19:12:01.311342",
     "exception": false,
     "start_time": "2020-09-15T19:12:01.284782",
     "status": "completed"
    },
    "tags": []
   },
   "outputs": [
    {
     "data": {
      "text/plain": [
       "{'updated': '15-Sep-20',\n",
       " 'since': '14-Sep-20',\n",
       " 'Cases': 5014000,\n",
       " 'Deaths': 81470,\n",
       " 'Recovered': 3937241,\n",
       " 'PCases': 4922904,\n",
       " 'PDeaths': 80190,\n",
       " 'PRecovered': 3854397,\n",
       " 'Cases (+)': 91096,\n",
       " 'Deaths (+)': 1280,\n",
       " 'Recovered (+)': 82844}"
      ]
     },
     "execution_count": 8,
     "metadata": {},
     "output_type": "execute_result"
    }
   ],
   "source": [
    "#hide\n",
    "summary = {\n",
    "    'updated' : dt_today,\n",
    "    'since' : dt_yday,\n",
    "    'Cases' : df_today['TT'][0],\n",
    "    'Deaths' : df_today['TT'][1],\n",
    "    'Recovered' : df_today['TT'][2],\n",
    "    'PCases' : df_yday['TT'][0],\n",
    "    'PDeaths' : df_yday['TT'][1],\n",
    "    'PRecovered': df_yday['TT'][2],\n",
    "    'Cases (+)' : df_today['TT'][0] - df_yday['TT'][0],\n",
    "    'Deaths (+)' : df_today['TT'][1] - df_yday['TT'][1],\n",
    "    'Recovered (+)': df_today['TT'][2] - df_yday['TT'][2]\n",
    "}\n",
    "\n",
    "summary"
   ]
  },
  {
   "cell_type": "code",
   "execution_count": 9,
   "metadata": {
    "execution": {
     "iopub.execute_input": "2020-09-15T19:12:01.348024Z",
     "iopub.status.busy": "2020-09-15T19:12:01.347368Z",
     "iopub.status.idle": "2020-09-15T19:12:01.349655Z",
     "shell.execute_reply": "2020-09-15T19:12:01.350246Z"
    },
    "papermill": {
     "duration": 0.022605,
     "end_time": "2020-09-15T19:12:01.350388",
     "exception": false,
     "start_time": "2020-09-15T19:12:01.327783",
     "status": "completed"
    },
    "tags": []
   },
   "outputs": [],
   "source": [
    "#hide\n",
    "overview = '''\n",
    "<!-- #######  HTML!! #########-->\n",
    "<h1 style=\"color: #5e9ca0; text-align: center;\">India</h1>\n",
    "<p style=\"text-align: center;\">Last update: <strong>{update}</strong></p>\n",
    "<p style=\"text-align: center;\">Confirmed cases:</p>\n",
    "<p style=\"text-align: center;font-size:24px;\">{cases} (<span style=\"color: #ff0000;\">+{new}</span>)</p>\n",
    "<p style=\"text-align: center;\">Confirmed deaths:</p>\n",
    "<p style=\"text-align: center;font-size:24px;\">{deaths} (<span style=\"color: #ff0000;\">+{dnew}</span>)</p>\n",
    "<p style=\"text-align: center;\">Recovered cases:</p>\n",
    "<p style=\"text-align: center;font-size:24px;\">{recovered} (<span style=\"color: #00ff00;\">+{rnew}</span>)</p>\n",
    "'''"
   ]
  },
  {
   "cell_type": "code",
   "execution_count": 10,
   "metadata": {
    "execution": {
     "iopub.execute_input": "2020-09-15T19:12:01.388306Z",
     "iopub.status.busy": "2020-09-15T19:12:01.387638Z",
     "iopub.status.idle": "2020-09-15T19:12:01.391909Z",
     "shell.execute_reply": "2020-09-15T19:12:01.391262Z"
    },
    "papermill": {
     "duration": 0.025286,
     "end_time": "2020-09-15T19:12:01.392039",
     "exception": false,
     "start_time": "2020-09-15T19:12:01.366753",
     "status": "completed"
    },
    "tags": []
   },
   "outputs": [
    {
     "data": {
      "text/html": [
       "\n",
       "<!-- #######  HTML!! #########-->\n",
       "<h1 style=\"color: #5e9ca0; text-align: center;\">India</h1>\n",
       "<p style=\"text-align: center;\">Last update: <strong>15-Sep-20</strong></p>\n",
       "<p style=\"text-align: center;\">Confirmed cases:</p>\n",
       "<p style=\"text-align: center;font-size:24px;\">5014000 (<span style=\"color: #ff0000;\">+91096</span>)</p>\n",
       "<p style=\"text-align: center;\">Confirmed deaths:</p>\n",
       "<p style=\"text-align: center;font-size:24px;\">81470 (<span style=\"color: #ff0000;\">+1280</span>)</p>\n",
       "<p style=\"text-align: center;\">Recovered cases:</p>\n",
       "<p style=\"text-align: center;font-size:24px;\">3937241 (<span style=\"color: #00ff00;\">+82844</span>)</p>\n"
      ],
      "text/plain": [
       "<IPython.core.display.HTML object>"
      ]
     },
     "metadata": {},
     "output_type": "display_data"
    }
   ],
   "source": [
    "#hide_input\n",
    "# Fill the above HTML with the information from the summary dictionary\n",
    "\n",
    "update = summary['updated']\n",
    "cases = summary['Cases']\n",
    "new = summary['Cases (+)']\n",
    "deaths = summary['Deaths']\n",
    "dnew = summary['Deaths (+)']\n",
    "recovered = summary['Recovered']\n",
    "rnew = summary['Recovered (+)']\n",
    "\n",
    "html = HTML(overview.format(update=update, cases=cases,new=new,deaths=deaths,dnew=dnew, recovered=recovered, rnew=rnew))\n",
    "\n",
    "display(html)"
   ]
  },
  {
   "cell_type": "code",
   "execution_count": 11,
   "metadata": {
    "execution": {
     "iopub.execute_input": "2020-09-15T19:12:01.429906Z",
     "iopub.status.busy": "2020-09-15T19:12:01.429222Z",
     "iopub.status.idle": "2020-09-15T19:12:01.435978Z",
     "shell.execute_reply": "2020-09-15T19:12:01.436612Z"
    },
    "papermill": {
     "duration": 0.028356,
     "end_time": "2020-09-15T19:12:01.436755",
     "exception": false,
     "start_time": "2020-09-15T19:12:01.408399",
     "status": "completed"
    },
    "tags": []
   },
   "outputs": [],
   "source": [
    "#hide\n",
    "df_cases = df[df['Status'] == 'Confirmed'].copy()\n",
    "df_cases.drop(columns = ['Status'], inplace=True)\n",
    "df_deaths = df[df['Status'] == 'Deceased'].copy()\n",
    "df_deaths.drop(columns = ['Status'], inplace=True)\n",
    "df_recovered = df[df['Status'] == 'Recovered'].copy()\n",
    "df_recovered.drop(columns = ['Status'], inplace=True)"
   ]
  },
  {
   "cell_type": "markdown",
   "metadata": {
    "papermill": {
     "duration": 0.015827,
     "end_time": "2020-09-15T19:12:01.468300",
     "exception": false,
     "start_time": "2020-09-15T19:12:01.452473",
     "status": "completed"
    },
    "tags": []
   },
   "source": [
    "Plot for India:"
   ]
  },
  {
   "cell_type": "code",
   "execution_count": 12,
   "metadata": {
    "execution": {
     "iopub.execute_input": "2020-09-15T19:12:01.522017Z",
     "iopub.status.busy": "2020-09-15T19:12:01.521325Z",
     "iopub.status.idle": "2020-09-15T19:12:01.794308Z",
     "shell.execute_reply": "2020-09-15T19:12:01.794851Z"
    },
    "papermill": {
     "duration": 0.311062,
     "end_time": "2020-09-15T19:12:01.795024",
     "exception": false,
     "start_time": "2020-09-15T19:12:01.483962",
     "status": "completed"
    },
    "tags": []
   },
   "outputs": [
    {
     "data": {
      "image/png": "[encoded data removed]",
      "text/plain": [
       "<Figure size 1296x432 with 1 Axes>"
      ]
     },
     "metadata": {
      "needs_background": "light"
     },
     "output_type": "display_data"
    }
   ],
   "source": [
    "#hide_input\n",
    "plt.figure(figsize = (18,6))\n",
    "plt.plot(df_cases['Date'], df_cases['TT'],'.-', alpha=0.7, color='b', label='Confirmed cases')\n",
    "plt.plot(df_recovered['Date'], df_recovered['TT'],'.-', alpha=0.7, color='g', label='Recovered')\n",
    "plt.plot(df_deaths['Date'], df_deaths['TT'],'.-', alpha=0.7, color='r', label='Deceased')\n",
    "plt.legend()\n",
    "plt.title(\"Cases per day in India\")\n",
    "plt.xticks(ticks=' ')\n",
    "plt.xlabel(f'{df_cases.iloc[0][0]} to {df_cases.iloc[-1][0]}')\n",
    "plt.ylabel('No. of cases');"
   ]
  },
  {
   "cell_type": "markdown",
   "metadata": {
    "papermill": {
     "duration": 0.01722,
     "end_time": "2020-09-15T19:12:01.829947",
     "exception": false,
     "start_time": "2020-09-15T19:12:01.812727",
     "status": "completed"
    },
    "tags": []
   },
   "source": [
    "Plots for the states with highest number of cases:"
   ]
  },
  {
   "cell_type": "code",
   "execution_count": 13,
   "metadata": {
    "execution": {
     "iopub.execute_input": "2020-09-15T19:12:01.872686Z",
     "iopub.status.busy": "2020-09-15T19:12:01.872026Z",
     "iopub.status.idle": "2020-09-15T19:12:02.533273Z",
     "shell.execute_reply": "2020-09-15T19:12:02.532593Z"
    },
    "papermill": {
     "duration": 0.686276,
     "end_time": "2020-09-15T19:12:02.533428",
     "exception": false,
     "start_time": "2020-09-15T19:12:01.847152",
     "status": "completed"
    },
    "tags": []
   },
   "outputs": [
    {
     "data": {
      "image/png": "[encoded data removed]",
      "text/plain": [
       "<Figure size 1512x432 with 3 Axes>"
      ]
     },
     "metadata": {
      "needs_background": "light"
     },
     "output_type": "display_data"
    }
   ],
   "source": [
    "#hide_input\n",
    "top_3 = sorted(df_cases.sum().values[1:], reverse=True)[1:4]\n",
    "top3_states=[]\n",
    "for i in top_3:\n",
    "    top3_states.append(df_cases.sum()[df_cases.sum() == i].index)\n",
    "\n",
    "\n",
    "fig, ax = plt.subplots(1,3,figsize = (21,6))\n",
    "for i in range(3):\n",
    "    state = top3_states[i].values[0]\n",
    "    ax[i].plot(df_cases['Date'], df_cases[state],'.-', color='b', alpha=0.7)\n",
    "    ax[i].plot(df_deaths['Date'], df_deaths[state],'.-', color='r', alpha=0.7)\n",
    "    ax[i].plot(df_recovered['Date'], df_recovered[state],'.-', color='g', alpha=0.7)\n",
    "    \n",
    "    ax[i].set_title(f\"Cases in {state}\")\n",
    "    ax[i].set_xticks(ticks=' ')\n",
    "    ax[i].set_xlabel(f'{df_cases.iloc[0][0]} to {df_cases.iloc[-1][0]}')\n",
    "    ax[i].set_ylabel('No. of cases');"
   ]
  },
  {
   "cell_type": "code",
   "execution_count": null,
   "metadata": {
    "papermill": {
     "duration": 0.020114,
     "end_time": "2020-09-15T19:12:02.574362",
     "exception": false,
     "start_time": "2020-09-15T19:12:02.554248",
     "status": "completed"
    },
    "tags": []
   },
   "outputs": [],
   "source": []
  },
  {
   "cell_type": "code",
   "execution_count": null,
   "metadata": {
    "papermill": {
     "duration": 0.019565,
     "end_time": "2020-09-15T19:12:02.613366",
     "exception": false,
     "start_time": "2020-09-15T19:12:02.593801",
     "status": "completed"
    },
    "tags": []
   },
   "outputs": [],
   "source": []
  },
  {
   "cell_type": "code",
   "execution_count": null,
   "metadata": {
    "papermill": {
     "duration": 0.019851,
     "end_time": "2020-09-15T19:12:02.652910",
     "exception": false,
     "start_time": "2020-09-15T19:12:02.633059",
     "status": "completed"
    },
    "tags": []
   },
   "outputs": [],
   "source": []
  }
 ],
 "metadata": {
  "kernelspec": {
   "display_name": "Python 3",
   "language": "python",
   "name": "python3"
  },
  "language_info": {
   "codemirror_mode": {
    "name": "ipython",
    "version": 3
   },
   "file_extension": ".py",
   "mimetype": "text/x-python",
   "name": "python",
   "nbconvert_exporter": "python",
   "pygments_lexer": "ipython3",
   "version": "3.6.12"
  },
  "papermill": {
   "duration": 3.958997,
   "end_time": "2020-09-15T19:12:02.989490",
   "environment_variables": {},
   "exception": null,
   "input_path": "2020-08-09-DailyUpdate.ipynb",
   "output_path": "2020-08-09-DailyUpdate.ipynb",
   "parameters": {},
   "start_time": "2020-09-15T19:11:59.030493",
   "version": "2.1.2"
  }
 },
 "nbformat": 4,
 "nbformat_minor": 4
}