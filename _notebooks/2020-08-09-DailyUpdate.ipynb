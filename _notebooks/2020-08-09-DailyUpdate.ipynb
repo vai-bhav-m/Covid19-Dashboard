{
 "cells": [
  {
   "cell_type": "markdown",
   "metadata": {
    "papermill": {
     "duration": 0.019384,
     "end_time": "2020-10-09T19:14:00.041955",
     "exception": false,
     "start_time": "2020-10-09T19:14:00.022571",
     "status": "completed"
    },
    "tags": []
   },
   "source": [
    "# COVID-19 India Daily updates\n",
    "> Tracking coronavirus total cases, deaths and new cases in India on a daily basis\n",
    "\n",
    "- author: Vaibhav Mahapatra"
   ]
  },
  {
   "cell_type": "code",
   "execution_count": 1,
   "metadata": {
    "execution": {
     "iopub.execute_input": "2020-10-09T19:14:00.080724Z",
     "iopub.status.busy": "2020-10-09T19:14:00.079703Z",
     "iopub.status.idle": "2020-10-09T19:14:00.745599Z",
     "shell.execute_reply": "2020-10-09T19:14:00.744946Z"
    },
    "papermill": {
     "duration": 0.688221,
     "end_time": "2020-10-09T19:14:00.745790",
     "exception": false,
     "start_time": "2020-10-09T19:14:00.057569",
     "status": "completed"
    },
    "tags": []
   },
   "outputs": [],
   "source": [
    "#hide\n",
    "\n",
    "## Import essential packages below\n",
    "\n",
    "import pandas as pd\n",
    "import numpy as np\n",
    "import requests\n",
    "import json\n",
    "import matplotlib.pyplot as plt\n",
    "import matplotlib.dates as mdates\n",
    "import matplotlib as mpl\n",
    "from IPython.core.display import display,HTML\n",
    "%matplotlib inline"
   ]
  },
  {
   "cell_type": "code",
   "execution_count": 2,
   "metadata": {
    "execution": {
     "iopub.execute_input": "2020-10-09T19:14:00.783437Z",
     "iopub.status.busy": "2020-10-09T19:14:00.782218Z",
     "iopub.status.idle": "2020-10-09T19:14:01.038546Z",
     "shell.execute_reply": "2020-10-09T19:14:01.039175Z"
    },
    "papermill": {
     "duration": 0.279016,
     "end_time": "2020-10-09T19:14:01.039380",
     "exception": false,
     "start_time": "2020-10-09T19:14:00.760364",
     "status": "completed"
    },
    "tags": []
   },
   "outputs": [
    {
     "data": {
      "text/plain": [
       "(630, 41)"
      ]
     },
     "execution_count": 2,
     "metadata": {},
     "output_type": "execute_result"
    }
   ],
   "source": [
    "#hide\n",
    "url = 'https://api.covid19india.org/csv/latest/state_wise_daily.csv'\n",
    "df = pd.read_csv(url)\n",
    "df.shape"
   ]
  },
  {
   "cell_type": "code",
   "execution_count": 3,
   "metadata": {
    "execution": {
     "iopub.execute_input": "2020-10-09T19:14:01.139648Z",
     "iopub.status.busy": "2020-10-09T19:14:01.131010Z",
     "iopub.status.idle": "2020-10-09T19:14:01.142789Z",
     "shell.execute_reply": "2020-10-09T19:14:01.143391Z"
    },
    "papermill": {
     "duration": 0.08778,
     "end_time": "2020-10-09T19:14:01.143581",
     "exception": false,
     "start_time": "2020-10-09T19:14:01.055801",
     "status": "completed"
    },
    "tags": []
   },
   "outputs": [
    {
     "data": {
      "text/html": [
       "<div>\n",
       "<style scoped>\n",
       "    .dataframe tbody tr th:only-of-type {\n",
       "        vertical-align: middle;\n",
       "    }\n",
       "\n",
       "    .dataframe tbody tr th {\n",
       "        vertical-align: top;\n",
       "    }\n",
       "\n",
       "    .dataframe thead th {\n",
       "        text-align: right;\n",
       "    }\n",
       "</style>\n",
       "<table border=\"1\" class=\"dataframe\">\n",
       "  <thead>\n",
       "    <tr style=\"text-align: right;\">\n",
       "      <th></th>\n",
       "      <th>Date</th>\n",
       "      <th>Status</th>\n",
       "      <th>TT</th>\n",
       "      <th>AN</th>\n",
       "      <th>AP</th>\n",
       "      <th>AR</th>\n",
       "      <th>AS</th>\n",
       "      <th>BR</th>\n",
       "      <th>CH</th>\n",
       "      <th>CT</th>\n",
       "      <th>...</th>\n",
       "      <th>PB</th>\n",
       "      <th>RJ</th>\n",
       "      <th>SK</th>\n",
       "      <th>TN</th>\n",
       "      <th>TG</th>\n",
       "      <th>TR</th>\n",
       "      <th>UP</th>\n",
       "      <th>UT</th>\n",
       "      <th>WB</th>\n",
       "      <th>UN</th>\n",
       "    </tr>\n",
       "  </thead>\n",
       "  <tbody>\n",
       "    <tr>\n",
       "      <th>624</th>\n",
       "      <td>08-Oct-20</td>\n",
       "      <td>Confirmed</td>\n",
       "      <td>70797</td>\n",
       "      <td>17</td>\n",
       "      <td>5292</td>\n",
       "      <td>212</td>\n",
       "      <td>1188</td>\n",
       "      <td>1244</td>\n",
       "      <td>102</td>\n",
       "      <td>2873</td>\n",
       "      <td>...</td>\n",
       "      <td>848</td>\n",
       "      <td>2138</td>\n",
       "      <td>12</td>\n",
       "      <td>5088</td>\n",
       "      <td>1896</td>\n",
       "      <td>214</td>\n",
       "      <td>3133</td>\n",
       "      <td>400</td>\n",
       "      <td>3526</td>\n",
       "      <td>0</td>\n",
       "    </tr>\n",
       "    <tr>\n",
       "      <th>625</th>\n",
       "      <td>08-Oct-20</td>\n",
       "      <td>Recovered</td>\n",
       "      <td>78745</td>\n",
       "      <td>11</td>\n",
       "      <td>6102</td>\n",
       "      <td>283</td>\n",
       "      <td>2198</td>\n",
       "      <td>1006</td>\n",
       "      <td>154</td>\n",
       "      <td>2199</td>\n",
       "      <td>...</td>\n",
       "      <td>1615</td>\n",
       "      <td>2092</td>\n",
       "      <td>35</td>\n",
       "      <td>5718</td>\n",
       "      <td>2067</td>\n",
       "      <td>389</td>\n",
       "      <td>3690</td>\n",
       "      <td>904</td>\n",
       "      <td>2970</td>\n",
       "      <td>0</td>\n",
       "    </tr>\n",
       "    <tr>\n",
       "      <th>626</th>\n",
       "      <td>08-Oct-20</td>\n",
       "      <td>Deceased</td>\n",
       "      <td>967</td>\n",
       "      <td>1</td>\n",
       "      <td>42</td>\n",
       "      <td>1</td>\n",
       "      <td>9</td>\n",
       "      <td>2</td>\n",
       "      <td>4</td>\n",
       "      <td>24</td>\n",
       "      <td>...</td>\n",
       "      <td>29</td>\n",
       "      <td>15</td>\n",
       "      <td>1</td>\n",
       "      <td>68</td>\n",
       "      <td>12</td>\n",
       "      <td>3</td>\n",
       "      <td>45</td>\n",
       "      <td>14</td>\n",
       "      <td>63</td>\n",
       "      <td>0</td>\n",
       "    </tr>\n",
       "    <tr>\n",
       "      <th>627</th>\n",
       "      <td>09-Oct-20</td>\n",
       "      <td>Confirmed</td>\n",
       "      <td>73220</td>\n",
       "      <td>24</td>\n",
       "      <td>5145</td>\n",
       "      <td>281</td>\n",
       "      <td>1019</td>\n",
       "      <td>1155</td>\n",
       "      <td>63</td>\n",
       "      <td>2958</td>\n",
       "      <td>...</td>\n",
       "      <td>743</td>\n",
       "      <td>2180</td>\n",
       "      <td>33</td>\n",
       "      <td>5185</td>\n",
       "      <td>1891</td>\n",
       "      <td>223</td>\n",
       "      <td>3207</td>\n",
       "      <td>704</td>\n",
       "      <td>3573</td>\n",
       "      <td>0</td>\n",
       "    </tr>\n",
       "    <tr>\n",
       "      <th>628</th>\n",
       "      <td>09-Oct-20</td>\n",
       "      <td>Recovered</td>\n",
       "      <td>82292</td>\n",
       "      <td>17</td>\n",
       "      <td>6110</td>\n",
       "      <td>198</td>\n",
       "      <td>2068</td>\n",
       "      <td>1424</td>\n",
       "      <td>161</td>\n",
       "      <td>2908</td>\n",
       "      <td>...</td>\n",
       "      <td>1333</td>\n",
       "      <td>2148</td>\n",
       "      <td>71</td>\n",
       "      <td>5357</td>\n",
       "      <td>1878</td>\n",
       "      <td>408</td>\n",
       "      <td>4424</td>\n",
       "      <td>1239</td>\n",
       "      <td>3069</td>\n",
       "      <td>0</td>\n",
       "    </tr>\n",
       "    <tr>\n",
       "      <th>629</th>\n",
       "      <td>09-Oct-20</td>\n",
       "      <td>Deceased</td>\n",
       "      <td>929</td>\n",
       "      <td>0</td>\n",
       "      <td>31</td>\n",
       "      <td>1</td>\n",
       "      <td>8</td>\n",
       "      <td>5</td>\n",
       "      <td>2</td>\n",
       "      <td>38</td>\n",
       "      <td>...</td>\n",
       "      <td>32</td>\n",
       "      <td>16</td>\n",
       "      <td>2</td>\n",
       "      <td>68</td>\n",
       "      <td>7</td>\n",
       "      <td>7</td>\n",
       "      <td>48</td>\n",
       "      <td>14</td>\n",
       "      <td>62</td>\n",
       "      <td>0</td>\n",
       "    </tr>\n",
       "  </tbody>\n",
       "</table>\n",
       "<p>6 rows × 41 columns</p>\n",
       "</div>"
      ],
      "text/plain": [
       "          Date     Status     TT  AN    AP   AR    AS    BR   CH    CT  ...  \\\n",
       "624  08-Oct-20  Confirmed  70797  17  5292  212  1188  1244  102  2873  ...   \n",
       "625  08-Oct-20  Recovered  78745  11  6102  283  2198  1006  154  2199  ...   \n",
       "626  08-Oct-20   Deceased    967   1    42    1     9     2    4    24  ...   \n",
       "627  09-Oct-20  Confirmed  73220  24  5145  281  1019  1155   63  2958  ...   \n",
       "628  09-Oct-20  Recovered  82292  17  6110  198  2068  1424  161  2908  ...   \n",
       "629  09-Oct-20   Deceased    929   0    31    1     8     5    2    38  ...   \n",
       "\n",
       "       PB    RJ  SK    TN    TG   TR    UP    UT    WB  UN  \n",
       "624   848  2138  12  5088  1896  214  3133   400  3526   0  \n",
       "625  1615  2092  35  5718  2067  389  3690   904  2970   0  \n",
       "626    29    15   1    68    12    3    45    14    63   0  \n",
       "627   743  2180  33  5185  1891  223  3207   704  3573   0  \n",
       "628  1333  2148  71  5357  1878  408  4424  1239  3069   0  \n",
       "629    32    16   2    68     7    7    48    14    62   0  \n",
       "\n",
       "[6 rows x 41 columns]"
      ]
     },
     "execution_count": 3,
     "metadata": {},
     "output_type": "execute_result"
    }
   ],
   "source": [
    "#hide\n",
    "df.tail(6)"
   ]
  },
  {
   "cell_type": "code",
   "execution_count": 4,
   "metadata": {
    "execution": {
     "iopub.execute_input": "2020-10-09T19:14:01.181929Z",
     "iopub.status.busy": "2020-10-09T19:14:01.181195Z",
     "iopub.status.idle": "2020-10-09T19:14:01.184200Z",
     "shell.execute_reply": "2020-10-09T19:14:01.184829Z"
    },
    "papermill": {
     "duration": 0.024578,
     "end_time": "2020-10-09T19:14:01.184996",
     "exception": false,
     "start_time": "2020-10-09T19:14:01.160418",
     "status": "completed"
    },
    "tags": []
   },
   "outputs": [
    {
     "data": {
      "text/plain": [
       "('09-Oct-20', '08-Oct-20')"
      ]
     },
     "execution_count": 4,
     "metadata": {},
     "output_type": "execute_result"
    }
   ],
   "source": [
    "#hide\n",
    "dt_today = df.iloc[-1][0]\n",
    "dt_yday = df.iloc[-4][0]\n",
    "dt_today, dt_yday"
   ]
  },
  {
   "cell_type": "code",
   "execution_count": 5,
   "metadata": {
    "execution": {
     "iopub.execute_input": "2020-10-09T19:14:01.226275Z",
     "iopub.status.busy": "2020-10-09T19:14:01.225565Z",
     "iopub.status.idle": "2020-10-09T19:14:01.233284Z",
     "shell.execute_reply": "2020-10-09T19:14:01.232675Z"
    },
    "papermill": {
     "duration": 0.032356,
     "end_time": "2020-10-09T19:14:01.233432",
     "exception": false,
     "start_time": "2020-10-09T19:14:01.201076",
     "status": "completed"
    },
    "tags": []
   },
   "outputs": [],
   "source": [
    "#hide\n",
    "df_today = df.groupby('Status').sum()\n",
    "df_yday = df.iloc[:-3][:].groupby('Status').sum()"
   ]
  },
  {
   "cell_type": "code",
   "execution_count": 6,
   "metadata": {
    "execution": {
     "iopub.execute_input": "2020-10-09T19:14:01.284627Z",
     "iopub.status.busy": "2020-10-09T19:14:01.283863Z",
     "iopub.status.idle": "2020-10-09T19:14:01.286542Z",
     "shell.execute_reply": "2020-10-09T19:14:01.287118Z"
    },
    "papermill": {
     "duration": 0.038121,
     "end_time": "2020-10-09T19:14:01.287285",
     "exception": false,
     "start_time": "2020-10-09T19:14:01.249164",
     "status": "completed"
    },
    "tags": []
   },
   "outputs": [
    {
     "data": {
      "text/html": [
       "<div>\n",
       "<style scoped>\n",
       "    .dataframe tbody tr th:only-of-type {\n",
       "        vertical-align: middle;\n",
       "    }\n",
       "\n",
       "    .dataframe tbody tr th {\n",
       "        vertical-align: top;\n",
       "    }\n",
       "\n",
       "    .dataframe thead th {\n",
       "        text-align: right;\n",
       "    }\n",
       "</style>\n",
       "<table border=\"1\" class=\"dataframe\">\n",
       "  <thead>\n",
       "    <tr style=\"text-align: right;\">\n",
       "      <th></th>\n",
       "      <th>TT</th>\n",
       "      <th>AN</th>\n",
       "      <th>AP</th>\n",
       "      <th>AR</th>\n",
       "      <th>AS</th>\n",
       "      <th>BR</th>\n",
       "      <th>CH</th>\n",
       "      <th>CT</th>\n",
       "      <th>DN</th>\n",
       "      <th>DD</th>\n",
       "      <th>...</th>\n",
       "      <th>PB</th>\n",
       "      <th>RJ</th>\n",
       "      <th>SK</th>\n",
       "      <th>TN</th>\n",
       "      <th>TG</th>\n",
       "      <th>TR</th>\n",
       "      <th>UP</th>\n",
       "      <th>UT</th>\n",
       "      <th>WB</th>\n",
       "      <th>UN</th>\n",
       "    </tr>\n",
       "    <tr>\n",
       "      <th>Status</th>\n",
       "      <th></th>\n",
       "      <th></th>\n",
       "      <th></th>\n",
       "      <th></th>\n",
       "      <th></th>\n",
       "      <th></th>\n",
       "      <th></th>\n",
       "      <th></th>\n",
       "      <th></th>\n",
       "      <th></th>\n",
       "      <th></th>\n",
       "      <th></th>\n",
       "      <th></th>\n",
       "      <th></th>\n",
       "      <th></th>\n",
       "      <th></th>\n",
       "      <th></th>\n",
       "      <th></th>\n",
       "      <th></th>\n",
       "      <th></th>\n",
       "      <th></th>\n",
       "    </tr>\n",
       "  </thead>\n",
       "  <tbody>\n",
       "    <tr>\n",
       "      <th>Confirmed</th>\n",
       "      <td>6976376</td>\n",
       "      <td>3972</td>\n",
       "      <td>744864</td>\n",
       "      <td>11760</td>\n",
       "      <td>192314</td>\n",
       "      <td>193826</td>\n",
       "      <td>12985</td>\n",
       "      <td>137570</td>\n",
       "      <td>3137</td>\n",
       "      <td>0</td>\n",
       "      <td>...</td>\n",
       "      <td>122459</td>\n",
       "      <td>154785</td>\n",
       "      <td>3292</td>\n",
       "      <td>646128</td>\n",
       "      <td>208025</td>\n",
       "      <td>27979</td>\n",
       "      <td>430666</td>\n",
       "      <td>54063</td>\n",
       "      <td>287603</td>\n",
       "      <td>0</td>\n",
       "    </tr>\n",
       "    <tr>\n",
       "      <th>Deceased</th>\n",
       "      <td>106863</td>\n",
       "      <td>55</td>\n",
       "      <td>6159</td>\n",
       "      <td>23</td>\n",
       "      <td>806</td>\n",
       "      <td>934</td>\n",
       "      <td>188</td>\n",
       "      <td>1196</td>\n",
       "      <td>2</td>\n",
       "      <td>0</td>\n",
       "      <td>...</td>\n",
       "      <td>3773</td>\n",
       "      <td>1621</td>\n",
       "      <td>54</td>\n",
       "      <td>10120</td>\n",
       "      <td>1208</td>\n",
       "      <td>308</td>\n",
       "      <td>6293</td>\n",
       "      <td>716</td>\n",
       "      <td>5501</td>\n",
       "      <td>0</td>\n",
       "    </tr>\n",
       "    <tr>\n",
       "      <th>Recovered</th>\n",
       "      <td>5985477</td>\n",
       "      <td>3715</td>\n",
       "      <td>691040</td>\n",
       "      <td>8877</td>\n",
       "      <td>161901</td>\n",
       "      <td>181781</td>\n",
       "      <td>11505</td>\n",
       "      <td>108935</td>\n",
       "      <td>2995</td>\n",
       "      <td>0</td>\n",
       "      <td>...</td>\n",
       "      <td>108533</td>\n",
       "      <td>131766</td>\n",
       "      <td>2641</td>\n",
       "      <td>591811</td>\n",
       "      <td>180953</td>\n",
       "      <td>23451</td>\n",
       "      <td>383086</td>\n",
       "      <td>45774</td>\n",
       "      <td>252806</td>\n",
       "      <td>0</td>\n",
       "    </tr>\n",
       "  </tbody>\n",
       "</table>\n",
       "<p>3 rows × 39 columns</p>\n",
       "</div>"
      ],
      "text/plain": [
       "                TT    AN      AP     AR      AS      BR     CH      CT    DN  \\\n",
       "Status                                                                         \n",
       "Confirmed  6976376  3972  744864  11760  192314  193826  12985  137570  3137   \n",
       "Deceased    106863    55    6159     23     806     934    188    1196     2   \n",
       "Recovered  5985477  3715  691040   8877  161901  181781  11505  108935  2995   \n",
       "\n",
       "           DD  ...      PB      RJ    SK      TN      TG     TR      UP  \\\n",
       "Status         ...                                                        \n",
       "Confirmed   0  ...  122459  154785  3292  646128  208025  27979  430666   \n",
       "Deceased    0  ...    3773    1621    54   10120    1208    308    6293   \n",
       "Recovered   0  ...  108533  131766  2641  591811  180953  23451  383086   \n",
       "\n",
       "              UT      WB  UN  \n",
       "Status                        \n",
       "Confirmed  54063  287603   0  \n",
       "Deceased     716    5501   0  \n",
       "Recovered  45774  252806   0  \n",
       "\n",
       "[3 rows x 39 columns]"
      ]
     },
     "execution_count": 6,
     "metadata": {},
     "output_type": "execute_result"
    }
   ],
   "source": [
    "#hide\n",
    "df_today"
   ]
  },
  {
   "cell_type": "code",
   "execution_count": 7,
   "metadata": {
    "execution": {
     "iopub.execute_input": "2020-10-09T19:14:01.333004Z",
     "iopub.status.busy": "2020-10-09T19:14:01.332335Z",
     "iopub.status.idle": "2020-10-09T19:14:01.336397Z",
     "shell.execute_reply": "2020-10-09T19:14:01.335824Z"
    },
    "papermill": {
     "duration": 0.034349,
     "end_time": "2020-10-09T19:14:01.336543",
     "exception": false,
     "start_time": "2020-10-09T19:14:01.302194",
     "status": "completed"
    },
    "tags": []
   },
   "outputs": [
    {
     "data": {
      "text/html": [
       "<div>\n",
       "<style scoped>\n",
       "    .dataframe tbody tr th:only-of-type {\n",
       "        vertical-align: middle;\n",
       "    }\n",
       "\n",
       "    .dataframe tbody tr th {\n",
       "        vertical-align: top;\n",
       "    }\n",
       "\n",
       "    .dataframe thead th {\n",
       "        text-align: right;\n",
       "    }\n",
       "</style>\n",
       "<table border=\"1\" class=\"dataframe\">\n",
       "  <thead>\n",
       "    <tr style=\"text-align: right;\">\n",
       "      <th></th>\n",
       "      <th>TT</th>\n",
       "      <th>AN</th>\n",
       "      <th>AP</th>\n",
       "      <th>AR</th>\n",
       "      <th>AS</th>\n",
       "      <th>BR</th>\n",
       "      <th>CH</th>\n",
       "      <th>CT</th>\n",
       "      <th>DN</th>\n",
       "      <th>DD</th>\n",
       "      <th>...</th>\n",
       "      <th>PB</th>\n",
       "      <th>RJ</th>\n",
       "      <th>SK</th>\n",
       "      <th>TN</th>\n",
       "      <th>TG</th>\n",
       "      <th>TR</th>\n",
       "      <th>UP</th>\n",
       "      <th>UT</th>\n",
       "      <th>WB</th>\n",
       "      <th>UN</th>\n",
       "    </tr>\n",
       "    <tr>\n",
       "      <th>Status</th>\n",
       "      <th></th>\n",
       "      <th></th>\n",
       "      <th></th>\n",
       "      <th></th>\n",
       "      <th></th>\n",
       "      <th></th>\n",
       "      <th></th>\n",
       "      <th></th>\n",
       "      <th></th>\n",
       "      <th></th>\n",
       "      <th></th>\n",
       "      <th></th>\n",
       "      <th></th>\n",
       "      <th></th>\n",
       "      <th></th>\n",
       "      <th></th>\n",
       "      <th></th>\n",
       "      <th></th>\n",
       "      <th></th>\n",
       "      <th></th>\n",
       "      <th></th>\n",
       "    </tr>\n",
       "  </thead>\n",
       "  <tbody>\n",
       "    <tr>\n",
       "      <th>Confirmed</th>\n",
       "      <td>6903156</td>\n",
       "      <td>3948</td>\n",
       "      <td>739719</td>\n",
       "      <td>11479</td>\n",
       "      <td>191295</td>\n",
       "      <td>192671</td>\n",
       "      <td>12922</td>\n",
       "      <td>134612</td>\n",
       "      <td>3129</td>\n",
       "      <td>0</td>\n",
       "      <td>...</td>\n",
       "      <td>121716</td>\n",
       "      <td>152605</td>\n",
       "      <td>3259</td>\n",
       "      <td>640943</td>\n",
       "      <td>206134</td>\n",
       "      <td>27756</td>\n",
       "      <td>427459</td>\n",
       "      <td>53359</td>\n",
       "      <td>284030</td>\n",
       "      <td>0</td>\n",
       "    </tr>\n",
       "    <tr>\n",
       "      <th>Deceased</th>\n",
       "      <td>105934</td>\n",
       "      <td>55</td>\n",
       "      <td>6128</td>\n",
       "      <td>22</td>\n",
       "      <td>798</td>\n",
       "      <td>929</td>\n",
       "      <td>186</td>\n",
       "      <td>1158</td>\n",
       "      <td>2</td>\n",
       "      <td>0</td>\n",
       "      <td>...</td>\n",
       "      <td>3741</td>\n",
       "      <td>1605</td>\n",
       "      <td>52</td>\n",
       "      <td>10052</td>\n",
       "      <td>1201</td>\n",
       "      <td>301</td>\n",
       "      <td>6245</td>\n",
       "      <td>702</td>\n",
       "      <td>5439</td>\n",
       "      <td>0</td>\n",
       "    </tr>\n",
       "    <tr>\n",
       "      <th>Recovered</th>\n",
       "      <td>5903185</td>\n",
       "      <td>3698</td>\n",
       "      <td>684930</td>\n",
       "      <td>8679</td>\n",
       "      <td>159833</td>\n",
       "      <td>180357</td>\n",
       "      <td>11344</td>\n",
       "      <td>106027</td>\n",
       "      <td>2983</td>\n",
       "      <td>0</td>\n",
       "      <td>...</td>\n",
       "      <td>107200</td>\n",
       "      <td>129618</td>\n",
       "      <td>2570</td>\n",
       "      <td>586454</td>\n",
       "      <td>179075</td>\n",
       "      <td>23043</td>\n",
       "      <td>378662</td>\n",
       "      <td>44535</td>\n",
       "      <td>249737</td>\n",
       "      <td>0</td>\n",
       "    </tr>\n",
       "  </tbody>\n",
       "</table>\n",
       "<p>3 rows × 39 columns</p>\n",
       "</div>"
      ],
      "text/plain": [
       "                TT    AN      AP     AR      AS      BR     CH      CT    DN  \\\n",
       "Status                                                                         \n",
       "Confirmed  6903156  3948  739719  11479  191295  192671  12922  134612  3129   \n",
       "Deceased    105934    55    6128     22     798     929    186    1158     2   \n",
       "Recovered  5903185  3698  684930   8679  159833  180357  11344  106027  2983   \n",
       "\n",
       "           DD  ...      PB      RJ    SK      TN      TG     TR      UP  \\\n",
       "Status         ...                                                        \n",
       "Confirmed   0  ...  121716  152605  3259  640943  206134  27756  427459   \n",
       "Deceased    0  ...    3741    1605    52   10052    1201    301    6245   \n",
       "Recovered   0  ...  107200  129618  2570  586454  179075  23043  378662   \n",
       "\n",
       "              UT      WB  UN  \n",
       "Status                        \n",
       "Confirmed  53359  284030   0  \n",
       "Deceased     702    5439   0  \n",
       "Recovered  44535  249737   0  \n",
       "\n",
       "[3 rows x 39 columns]"
      ]
     },
     "execution_count": 7,
     "metadata": {},
     "output_type": "execute_result"
    }
   ],
   "source": [
    "#hide\n",
    "df_yday.head()"
   ]
  },
  {
   "cell_type": "code",
   "execution_count": 8,
   "metadata": {
    "execution": {
     "iopub.execute_input": "2020-10-09T19:14:01.380034Z",
     "iopub.status.busy": "2020-10-09T19:14:01.379381Z",
     "iopub.status.idle": "2020-10-09T19:14:01.382656Z",
     "shell.execute_reply": "2020-10-09T19:14:01.382035Z"
    },
    "papermill": {
     "duration": 0.029639,
     "end_time": "2020-10-09T19:14:01.382785",
     "exception": false,
     "start_time": "2020-10-09T19:14:01.353146",
     "status": "completed"
    },
    "tags": []
   },
   "outputs": [
    {
     "data": {
      "text/plain": [
       "{'updated': '09-Oct-20',\n",
       " 'since': '08-Oct-20',\n",
       " 'Cases': 6976376,\n",
       " 'Deaths': 106863,\n",
       " 'Recovered': 5985477,\n",
       " 'PCases': 6903156,\n",
       " 'PDeaths': 105934,\n",
       " 'PRecovered': 5903185,\n",
       " 'Cases (+)': 73220,\n",
       " 'Deaths (+)': 929,\n",
       " 'Recovered (+)': 82292}"
      ]
     },
     "execution_count": 8,
     "metadata": {},
     "output_type": "execute_result"
    }
   ],
   "source": [
    "#hide\n",
    "summary = {\n",
    "    'updated' : dt_today,\n",
    "    'since' : dt_yday,\n",
    "    'Cases' : df_today['TT'][0],\n",
    "    'Deaths' : df_today['TT'][1],\n",
    "    'Recovered' : df_today['TT'][2],\n",
    "    'PCases' : df_yday['TT'][0],\n",
    "    'PDeaths' : df_yday['TT'][1],\n",
    "    'PRecovered': df_yday['TT'][2],\n",
    "    'Cases (+)' : df_today['TT'][0] - df_yday['TT'][0],\n",
    "    'Deaths (+)' : df_today['TT'][1] - df_yday['TT'][1],\n",
    "    'Recovered (+)': df_today['TT'][2] - df_yday['TT'][2]\n",
    "}\n",
    "\n",
    "summary"
   ]
  },
  {
   "cell_type": "code",
   "execution_count": 9,
   "metadata": {
    "execution": {
     "iopub.execute_input": "2020-10-09T19:14:01.421423Z",
     "iopub.status.busy": "2020-10-09T19:14:01.420738Z",
     "iopub.status.idle": "2020-10-09T19:14:01.422724Z",
     "shell.execute_reply": "2020-10-09T19:14:01.423293Z"
    },
    "papermill": {
     "duration": 0.025637,
     "end_time": "2020-10-09T19:14:01.423474",
     "exception": false,
     "start_time": "2020-10-09T19:14:01.397837",
     "status": "completed"
    },
    "tags": []
   },
   "outputs": [],
   "source": [
    "#hide\n",
    "overview = '''\n",
    "<!-- #######  HTML!! #########-->\n",
    "<h1 style=\"color: #5e9ca0; text-align: center;\">India</h1>\n",
    "<p style=\"text-align: center;\">Last update: <strong>{update}</strong></p>\n",
    "<p style=\"text-align: center;\">Confirmed cases:</p>\n",
    "<p style=\"text-align: center;font-size:24px;\">{cases} (<span style=\"color: #ff0000;\">+{new}</span>)</p>\n",
    "<p style=\"text-align: center;\">Confirmed deaths:</p>\n",
    "<p style=\"text-align: center;font-size:24px;\">{deaths} (<span style=\"color: #ff0000;\">+{dnew}</span>)</p>\n",
    "<p style=\"text-align: center;\">Recovered cases:</p>\n",
    "<p style=\"text-align: center;font-size:24px;\">{recovered} (<span style=\"color: #00ff00;\">+{rnew}</span>)</p>\n",
    "'''"
   ]
  },
  {
   "cell_type": "code",
   "execution_count": 10,
   "metadata": {
    "execution": {
     "iopub.execute_input": "2020-10-09T19:14:01.462772Z",
     "iopub.status.busy": "2020-10-09T19:14:01.462111Z",
     "iopub.status.idle": "2020-10-09T19:14:01.465198Z",
     "shell.execute_reply": "2020-10-09T19:14:01.465781Z"
    },
    "papermill": {
     "duration": 0.025827,
     "end_time": "2020-10-09T19:14:01.465968",
     "exception": false,
     "start_time": "2020-10-09T19:14:01.440141",
     "status": "completed"
    },
    "tags": []
   },
   "outputs": [
    {
     "data": {
      "text/html": [
       "\n",
       "<!-- #######  HTML!! #########-->\n",
       "<h1 style=\"color: #5e9ca0; text-align: center;\">India</h1>\n",
       "<p style=\"text-align: center;\">Last update: <strong>09-Oct-20</strong></p>\n",
       "<p style=\"text-align: center;\">Confirmed cases:</p>\n",
       "<p style=\"text-align: center;font-size:24px;\">6976376 (<span style=\"color: #ff0000;\">+73220</span>)</p>\n",
       "<p style=\"text-align: center;\">Confirmed deaths:</p>\n",
       "<p style=\"text-align: center;font-size:24px;\">106863 (<span style=\"color: #ff0000;\">+929</span>)</p>\n",
       "<p style=\"text-align: center;\">Recovered cases:</p>\n",
       "<p style=\"text-align: center;font-size:24px;\">5985477 (<span style=\"color: #00ff00;\">+82292</span>)</p>\n"
      ],
      "text/plain": [
       "<IPython.core.display.HTML object>"
      ]
     },
     "metadata": {},
     "output_type": "display_data"
    }
   ],
   "source": [
    "#hide_input\n",
    "# Fill the above HTML with the information from the summary dictionary\n",
    "\n",
    "update = summary['updated']\n",
    "cases = summary['Cases']\n",
    "new = summary['Cases (+)']\n",
    "deaths = summary['Deaths']\n",
    "dnew = summary['Deaths (+)']\n",
    "recovered = summary['Recovered']\n",
    "rnew = summary['Recovered (+)']\n",
    "\n",
    "html = HTML(overview.format(update=update, cases=cases,new=new,deaths=deaths,dnew=dnew, recovered=recovered, rnew=rnew))\n",
    "\n",
    "display(html)"
   ]
  },
  {
   "cell_type": "code",
   "execution_count": 11,
   "metadata": {
    "execution": {
     "iopub.execute_input": "2020-10-09T19:14:01.508815Z",
     "iopub.status.busy": "2020-10-09T19:14:01.508182Z",
     "iopub.status.idle": "2020-10-09T19:14:01.511398Z",
     "shell.execute_reply": "2020-10-09T19:14:01.511978Z"
    },
    "papermill": {
     "duration": 0.029717,
     "end_time": "2020-10-09T19:14:01.512163",
     "exception": false,
     "start_time": "2020-10-09T19:14:01.482446",
     "status": "completed"
    },
    "tags": []
   },
   "outputs": [],
   "source": [
    "#hide\n",
    "df_cases = df[df['Status'] == 'Confirmed'].copy()\n",
    "df_cases.drop(columns = ['Status'], inplace=True)\n",
    "df_deaths = df[df['Status'] == 'Deceased'].copy()\n",
    "df_deaths.drop(columns = ['Status'], inplace=True)\n",
    "df_recovered = df[df['Status'] == 'Recovered'].copy()\n",
    "df_recovered.drop(columns = ['Status'], inplace=True)"
   ]
  },
  {
   "cell_type": "markdown",
   "metadata": {
    "papermill": {
     "duration": 0.016262,
     "end_time": "2020-10-09T19:14:01.544320",
     "exception": false,
     "start_time": "2020-10-09T19:14:01.528058",
     "status": "completed"
    },
    "tags": []
   },
   "source": [
    "Plot for India:"
   ]
  },
  {
   "cell_type": "code",
   "execution_count": 12,
   "metadata": {
    "execution": {
     "iopub.execute_input": "2020-10-09T19:14:01.597757Z",
     "iopub.status.busy": "2020-10-09T19:14:01.597116Z",
     "iopub.status.idle": "2020-10-09T19:14:01.882976Z",
     "shell.execute_reply": "2020-10-09T19:14:01.883470Z"
    },
    "papermill": {
     "duration": 0.323971,
     "end_time": "2020-10-09T19:14:01.883630",
     "exception": false,
     "start_time": "2020-10-09T19:14:01.559659",
     "status": "completed"
    },
    "tags": []
   },
   "outputs": [
    {
     "data": {
      "image/png": "[encoded data removed]",
      "text/plain": [
       "<Figure size 1296x432 with 1 Axes>"
      ]
     },
     "metadata": {
      "needs_background": "light"
     },
     "output_type": "display_data"
    }
   ],
   "source": [
    "#hide_input\n",
    "plt.figure(figsize = (18,6))\n",
    "plt.plot(df_cases['Date'], df_cases['TT'],'.-', alpha=0.7, color='b', label='Confirmed cases')\n",
    "plt.plot(df_recovered['Date'], df_recovered['TT'],'.-', alpha=0.7, color='g', label='Recovered')\n",
    "plt.plot(df_deaths['Date'], df_deaths['TT'],'.-', alpha=0.7, color='r', label='Deceased')\n",
    "plt.legend()\n",
    "plt.title(\"Cases per day in India\")\n",
    "plt.xticks(ticks=' ')\n",
    "plt.xlabel(f'{df_cases.iloc[0][0]} to {df_cases.iloc[-1][0]}')\n",
    "plt.ylabel('No. of cases');"
   ]
  },
  {
   "cell_type": "markdown",
   "metadata": {
    "papermill": {
     "duration": 0.017709,
     "end_time": "2020-10-09T19:14:01.918602",
     "exception": false,
     "start_time": "2020-10-09T19:14:01.900893",
     "status": "completed"
    },
    "tags": []
   },
   "source": [
    "Plots for the states with highest number of cases:"
   ]
  },
  {
   "cell_type": "code",
   "execution_count": 13,
   "metadata": {
    "execution": {
     "iopub.execute_input": "2020-10-09T19:14:01.962055Z",
     "iopub.status.busy": "2020-10-09T19:14:01.960346Z",
     "iopub.status.idle": "2020-10-09T19:14:02.663602Z",
     "shell.execute_reply": "2020-10-09T19:14:02.662963Z"
    },
    "papermill": {
     "duration": 0.728372,
     "end_time": "2020-10-09T19:14:02.663770",
     "exception": false,
     "start_time": "2020-10-09T19:14:01.935398",
     "status": "completed"
    },
    "tags": []
   },
   "outputs": [
    {
     "data": {
      "image/png": "[encoded data removed]",
      "text/plain": [
       "<Figure size 1512x432 with 3 Axes>"
      ]
     },
     "metadata": {
      "needs_background": "light"
     },
     "output_type": "display_data"
    }
   ],
   "source": [
    "#hide_input\n",
    "top_3 = sorted(df_cases.sum().values[1:], reverse=True)[1:4]\n",
    "top3_states=[]\n",
    "for i in top_3:\n",
    "    top3_states.append(df_cases.sum()[df_cases.sum() == i].index)\n",
    "\n",
    "\n",
    "fig, ax = plt.subplots(1,3,figsize = (21,6))\n",
    "for i in range(3):\n",
    "    state = top3_states[i].values[0]\n",
    "    ax[i].plot(df_cases['Date'], df_cases[state],'.-', color='b', alpha=0.7)\n",
    "    ax[i].plot(df_deaths['Date'], df_deaths[state],'.-', color='r', alpha=0.7)\n",
    "    ax[i].plot(df_recovered['Date'], df_recovered[state],'.-', color='g', alpha=0.7)\n",
    "    \n",
    "    ax[i].set_title(f\"Cases in {state}\")\n",
    "    ax[i].set_xticks(ticks=' ')\n",
    "    ax[i].set_xlabel(f'{df_cases.iloc[0][0]} to {df_cases.iloc[-1][0]}')\n",
    "    ax[i].set_ylabel('No. of cases');"
   ]
  },
  {
   "cell_type": "code",
   "execution_count": null,
   "metadata": {
    "papermill": {
     "duration": 0.021996,
     "end_time": "2020-10-09T19:14:02.708152",
     "exception": false,
     "start_time": "2020-10-09T19:14:02.686156",
     "status": "completed"
    },
    "tags": []
   },
   "outputs": [],
   "source": []
  },
  {
   "cell_type": "code",
   "execution_count": null,
   "metadata": {
    "papermill": {
     "duration": 0.021959,
     "end_time": "2020-10-09T19:14:02.752917",
     "exception": false,
     "start_time": "2020-10-09T19:14:02.730958",
     "status": "completed"
    },
    "tags": []
   },
   "outputs": [],
   "source": []
  },
  {
   "cell_type": "code",
   "execution_count": null,
   "metadata": {
    "papermill": {
     "duration": 0.023256,
     "end_time": "2020-10-09T19:14:02.798774",
     "exception": false,
     "start_time": "2020-10-09T19:14:02.775518",
     "status": "completed"
    },
    "tags": []
   },
   "outputs": [],
   "source": []
  }
 ],
 "metadata": {
  "kernelspec": {
   "display_name": "Python 3",
   "language": "python",
   "name": "python3"
  },
  "language_info": {
   "codemirror_mode": {
    "name": "ipython",
    "version": 3
   },
   "file_extension": ".py",
   "mimetype": "text/x-python",
   "name": "python",
   "nbconvert_exporter": "python",
   "pygments_lexer": "ipython3",
   "version": "3.6.12"
  },
  "papermill": {
   "duration": 4.339048,
   "end_time": "2020-10-09T19:14:03.238324",
   "environment_variables": {},
   "exception": null,
   "input_path": "2020-08-09-DailyUpdate.ipynb",
   "output_path": "2020-08-09-DailyUpdate.ipynb",
   "parameters": {},
   "start_time": "2020-10-09T19:13:58.899276",
   "version": "2.1.2"
  }
 },
 "nbformat": 4,
 "nbformat_minor": 4
}