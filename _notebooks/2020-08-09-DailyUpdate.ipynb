{
 "cells": [
  {
   "cell_type": "markdown",
   "metadata": {
    "tags": [
     "papermill-error-cell-tag"
    ]
   },
   "source": [
    "<span style=\"color:red; font-family:Helvetica Neue, Helvetica, Arial, sans-serif; font-size:2em;\">An Exception was encountered at '<a href=\"#papermill-error-cell\">In [13]</a>'.</span>"
   ]
  },
  {
   "cell_type": "markdown",
   "metadata": {
    "papermill": {
     "duration": 0.012895,
     "end_time": "2020-10-26T19:14:11.886067",
     "exception": false,
     "start_time": "2020-10-26T19:14:11.873172",
     "status": "completed"
    },
    "tags": []
   },
   "source": [
    "# COVID-19 India Daily updates\n",
    "> Tracking coronavirus total cases, deaths and new cases in India on a daily basis\n",
    "\n",
    "- author: Vaibhav Mahapatra"
   ]
  },
  {
   "cell_type": "code",
   "execution_count": 1,
   "metadata": {
    "execution": {
     "iopub.execute_input": "2020-10-26T19:14:11.914788Z",
     "iopub.status.busy": "2020-10-26T19:14:11.914240Z",
     "iopub.status.idle": "2020-10-26T19:14:12.410262Z",
     "shell.execute_reply": "2020-10-26T19:14:12.409775Z"
    },
    "papermill": {
     "duration": 0.512449,
     "end_time": "2020-10-26T19:14:12.410408",
     "exception": false,
     "start_time": "2020-10-26T19:14:11.897959",
     "status": "completed"
    },
    "tags": []
   },
   "outputs": [],
   "source": [
    "#hide\n",
    "\n",
    "## Import essential packages below\n",
    "\n",
    "import pandas as pd\n",
    "import numpy as np\n",
    "import requests\n",
    "import json\n",
    "import matplotlib.pyplot as plt\n",
    "import matplotlib.dates as mdates\n",
    "import matplotlib as mpl\n",
    "from IPython.core.display import display,HTML\n",
    "%matplotlib inline"
   ]
  },
  {
   "cell_type": "code",
   "execution_count": 2,
   "metadata": {
    "execution": {
     "iopub.execute_input": "2020-10-26T19:14:12.437329Z",
     "iopub.status.busy": "2020-10-26T19:14:12.436355Z",
     "iopub.status.idle": "2020-10-26T19:14:12.485119Z",
     "shell.execute_reply": "2020-10-26T19:14:12.485556Z"
    },
    "papermill": {
     "duration": 0.064468,
     "end_time": "2020-10-26T19:14:12.485679",
     "exception": false,
     "start_time": "2020-10-26T19:14:12.421211",
     "status": "completed"
    },
    "tags": []
   },
   "outputs": [
    {
     "data": {
      "text/plain": [
       "(681, 42)"
      ]
     },
     "execution_count": 2,
     "metadata": {},
     "output_type": "execute_result"
    }
   ],
   "source": [
    "#hide\n",
    "url = 'https://api.covid19india.org/csv/latest/state_wise_daily.csv'\n",
    "df = pd.read_csv(url)\n",
    "df.shape"
   ]
  },
  {
   "cell_type": "code",
   "execution_count": 3,
   "metadata": {
    "execution": {
     "iopub.execute_input": "2020-10-26T19:14:12.544462Z",
     "iopub.status.busy": "2020-10-26T19:14:12.542794Z",
     "iopub.status.idle": "2020-10-26T19:14:12.553621Z",
     "shell.execute_reply": "2020-10-26T19:14:12.554059Z"
    },
    "papermill": {
     "duration": 0.058315,
     "end_time": "2020-10-26T19:14:12.554197",
     "exception": false,
     "start_time": "2020-10-26T19:14:12.495882",
     "status": "completed"
    },
    "tags": []
   },
   "outputs": [
    {
     "data": {
      "text/html": [
       "<div>\n",
       "<style scoped>\n",
       "    .dataframe tbody tr th:only-of-type {\n",
       "        vertical-align: middle;\n",
       "    }\n",
       "\n",
       "    .dataframe tbody tr th {\n",
       "        vertical-align: top;\n",
       "    }\n",
       "\n",
       "    .dataframe thead th {\n",
       "        text-align: right;\n",
       "    }\n",
       "</style>\n",
       "<table border=\"1\" class=\"dataframe\">\n",
       "  <thead>\n",
       "    <tr style=\"text-align: right;\">\n",
       "      <th></th>\n",
       "      <th>Date</th>\n",
       "      <th>Date_YMD</th>\n",
       "      <th>Status</th>\n",
       "      <th>TT</th>\n",
       "      <th>AN</th>\n",
       "      <th>AP</th>\n",
       "      <th>AR</th>\n",
       "      <th>AS</th>\n",
       "      <th>BR</th>\n",
       "      <th>CH</th>\n",
       "      <th>...</th>\n",
       "      <th>PB</th>\n",
       "      <th>RJ</th>\n",
       "      <th>SK</th>\n",
       "      <th>TN</th>\n",
       "      <th>TG</th>\n",
       "      <th>TR</th>\n",
       "      <th>UP</th>\n",
       "      <th>UT</th>\n",
       "      <th>WB</th>\n",
       "      <th>UN</th>\n",
       "    </tr>\n",
       "  </thead>\n",
       "  <tbody>\n",
       "    <tr>\n",
       "      <th>675</th>\n",
       "      <td>25-Oct-20</td>\n",
       "      <td>2020-10-25</td>\n",
       "      <td>Confirmed</td>\n",
       "      <td>45811</td>\n",
       "      <td>20</td>\n",
       "      <td>2997</td>\n",
       "      <td>33</td>\n",
       "      <td>204</td>\n",
       "      <td>749</td>\n",
       "      <td>61</td>\n",
       "      <td>...</td>\n",
       "      <td>415</td>\n",
       "      <td>1821</td>\n",
       "      <td>16</td>\n",
       "      <td>2869</td>\n",
       "      <td>978</td>\n",
       "      <td>86</td>\n",
       "      <td>2032</td>\n",
       "      <td>221</td>\n",
       "      <td>4127</td>\n",
       "      <td>0</td>\n",
       "    </tr>\n",
       "    <tr>\n",
       "      <th>676</th>\n",
       "      <td>25-Oct-20</td>\n",
       "      <td>2020-10-25</td>\n",
       "      <td>Recovered</td>\n",
       "      <td>59249</td>\n",
       "      <td>15</td>\n",
       "      <td>3585</td>\n",
       "      <td>170</td>\n",
       "      <td>2961</td>\n",
       "      <td>1399</td>\n",
       "      <td>80</td>\n",
       "      <td>...</td>\n",
       "      <td>465</td>\n",
       "      <td>2240</td>\n",
       "      <td>35</td>\n",
       "      <td>4019</td>\n",
       "      <td>1446</td>\n",
       "      <td>146</td>\n",
       "      <td>2368</td>\n",
       "      <td>319</td>\n",
       "      <td>3857</td>\n",
       "      <td>0</td>\n",
       "    </tr>\n",
       "    <tr>\n",
       "      <th>677</th>\n",
       "      <td>25-Oct-20</td>\n",
       "      <td>2020-10-25</td>\n",
       "      <td>Deceased</td>\n",
       "      <td>482</td>\n",
       "      <td>0</td>\n",
       "      <td>21</td>\n",
       "      <td>0</td>\n",
       "      <td>4</td>\n",
       "      <td>7</td>\n",
       "      <td>2</td>\n",
       "      <td>...</td>\n",
       "      <td>10</td>\n",
       "      <td>13</td>\n",
       "      <td>1</td>\n",
       "      <td>31</td>\n",
       "      <td>4</td>\n",
       "      <td>3</td>\n",
       "      <td>28</td>\n",
       "      <td>9</td>\n",
       "      <td>60</td>\n",
       "      <td>0</td>\n",
       "    </tr>\n",
       "    <tr>\n",
       "      <th>678</th>\n",
       "      <td>26-Oct-20</td>\n",
       "      <td>2020-10-26</td>\n",
       "      <td>Confirmed</td>\n",
       "      <td>35932</td>\n",
       "      <td>8</td>\n",
       "      <td>1901</td>\n",
       "      <td>147</td>\n",
       "      <td>215</td>\n",
       "      <td>513</td>\n",
       "      <td>47</td>\n",
       "      <td>...</td>\n",
       "      <td>336</td>\n",
       "      <td>1805</td>\n",
       "      <td>0</td>\n",
       "      <td>2708</td>\n",
       "      <td>582</td>\n",
       "      <td>36</td>\n",
       "      <td>1798</td>\n",
       "      <td>368</td>\n",
       "      <td>4121</td>\n",
       "      <td>0</td>\n",
       "    </tr>\n",
       "    <tr>\n",
       "      <th>679</th>\n",
       "      <td>26-Oct-20</td>\n",
       "      <td>2020-10-26</td>\n",
       "      <td>Recovered</td>\n",
       "      <td>63572</td>\n",
       "      <td>14</td>\n",
       "      <td>3972</td>\n",
       "      <td>231</td>\n",
       "      <td>2832</td>\n",
       "      <td>1087</td>\n",
       "      <td>63</td>\n",
       "      <td>...</td>\n",
       "      <td>326</td>\n",
       "      <td>2226</td>\n",
       "      <td>0</td>\n",
       "      <td>4014</td>\n",
       "      <td>1432</td>\n",
       "      <td>183</td>\n",
       "      <td>2441</td>\n",
       "      <td>700</td>\n",
       "      <td>3889</td>\n",
       "      <td>0</td>\n",
       "    </tr>\n",
       "    <tr>\n",
       "      <th>680</th>\n",
       "      <td>26-Oct-20</td>\n",
       "      <td>2020-10-26</td>\n",
       "      <td>Deceased</td>\n",
       "      <td>482</td>\n",
       "      <td>0</td>\n",
       "      <td>19</td>\n",
       "      <td>2</td>\n",
       "      <td>2</td>\n",
       "      <td>9</td>\n",
       "      <td>4</td>\n",
       "      <td>...</td>\n",
       "      <td>8</td>\n",
       "      <td>14</td>\n",
       "      <td>0</td>\n",
       "      <td>32</td>\n",
       "      <td>4</td>\n",
       "      <td>0</td>\n",
       "      <td>20</td>\n",
       "      <td>8</td>\n",
       "      <td>59</td>\n",
       "      <td>0</td>\n",
       "    </tr>\n",
       "  </tbody>\n",
       "</table>\n",
       "<p>6 rows × 42 columns</p>\n",
       "</div>"
      ],
      "text/plain": [
       "          Date    Date_YMD     Status     TT  AN    AP   AR    AS    BR  CH  \\\n",
       "675  25-Oct-20  2020-10-25  Confirmed  45811  20  2997   33   204   749  61   \n",
       "676  25-Oct-20  2020-10-25  Recovered  59249  15  3585  170  2961  1399  80   \n",
       "677  25-Oct-20  2020-10-25   Deceased    482   0    21    0     4     7   2   \n",
       "678  26-Oct-20  2020-10-26  Confirmed  35932   8  1901  147   215   513  47   \n",
       "679  26-Oct-20  2020-10-26  Recovered  63572  14  3972  231  2832  1087  63   \n",
       "680  26-Oct-20  2020-10-26   Deceased    482   0    19    2     2     9   4   \n",
       "\n",
       "     ...   PB    RJ  SK    TN    TG   TR    UP   UT    WB  UN  \n",
       "675  ...  415  1821  16  2869   978   86  2032  221  4127   0  \n",
       "676  ...  465  2240  35  4019  1446  146  2368  319  3857   0  \n",
       "677  ...   10    13   1    31     4    3    28    9    60   0  \n",
       "678  ...  336  1805   0  2708   582   36  1798  368  4121   0  \n",
       "679  ...  326  2226   0  4014  1432  183  2441  700  3889   0  \n",
       "680  ...    8    14   0    32     4    0    20    8    59   0  \n",
       "\n",
       "[6 rows x 42 columns]"
      ]
     },
     "execution_count": 3,
     "metadata": {},
     "output_type": "execute_result"
    }
   ],
   "source": [
    "#hide\n",
    "df.tail(6)"
   ]
  },
  {
   "cell_type": "code",
   "execution_count": 4,
   "metadata": {
    "execution": {
     "iopub.execute_input": "2020-10-26T19:14:12.581438Z",
     "iopub.status.busy": "2020-10-26T19:14:12.580859Z",
     "iopub.status.idle": "2020-10-26T19:14:12.583372Z",
     "shell.execute_reply": "2020-10-26T19:14:12.583866Z"
    },
    "papermill": {
     "duration": 0.018412,
     "end_time": "2020-10-26T19:14:12.583985",
     "exception": false,
     "start_time": "2020-10-26T19:14:12.565573",
     "status": "completed"
    },
    "tags": []
   },
   "outputs": [
    {
     "data": {
      "text/plain": [
       "('26-Oct-20', '25-Oct-20')"
      ]
     },
     "execution_count": 4,
     "metadata": {},
     "output_type": "execute_result"
    }
   ],
   "source": [
    "#hide\n",
    "dt_today = df.iloc[-1][0]\n",
    "dt_yday = df.iloc[-4][0]\n",
    "dt_today, dt_yday"
   ]
  },
  {
   "cell_type": "code",
   "execution_count": 5,
   "metadata": {
    "execution": {
     "iopub.execute_input": "2020-10-26T19:14:12.611836Z",
     "iopub.status.busy": "2020-10-26T19:14:12.611245Z",
     "iopub.status.idle": "2020-10-26T19:14:12.617595Z",
     "shell.execute_reply": "2020-10-26T19:14:12.618089Z"
    },
    "papermill": {
     "duration": 0.022763,
     "end_time": "2020-10-26T19:14:12.618208",
     "exception": false,
     "start_time": "2020-10-26T19:14:12.595445",
     "status": "completed"
    },
    "tags": []
   },
   "outputs": [],
   "source": [
    "#hide\n",
    "df_today = df.groupby('Status').sum()\n",
    "df_yday = df.iloc[:-3][:].groupby('Status').sum()"
   ]
  },
  {
   "cell_type": "code",
   "execution_count": 6,
   "metadata": {
    "execution": {
     "iopub.execute_input": "2020-10-26T19:14:12.653664Z",
     "iopub.status.busy": "2020-10-26T19:14:12.652965Z",
     "iopub.status.idle": "2020-10-26T19:14:12.656106Z",
     "shell.execute_reply": "2020-10-26T19:14:12.656564Z"
    },
    "papermill": {
     "duration": 0.027443,
     "end_time": "2020-10-26T19:14:12.656683",
     "exception": false,
     "start_time": "2020-10-26T19:14:12.629240",
     "status": "completed"
    },
    "tags": []
   },
   "outputs": [
    {
     "data": {
      "text/html": [
       "<div>\n",
       "<style scoped>\n",
       "    .dataframe tbody tr th:only-of-type {\n",
       "        vertical-align: middle;\n",
       "    }\n",
       "\n",
       "    .dataframe tbody tr th {\n",
       "        vertical-align: top;\n",
       "    }\n",
       "\n",
       "    .dataframe thead th {\n",
       "        text-align: right;\n",
       "    }\n",
       "</style>\n",
       "<table border=\"1\" class=\"dataframe\">\n",
       "  <thead>\n",
       "    <tr style=\"text-align: right;\">\n",
       "      <th></th>\n",
       "      <th>TT</th>\n",
       "      <th>AN</th>\n",
       "      <th>AP</th>\n",
       "      <th>AR</th>\n",
       "      <th>AS</th>\n",
       "      <th>BR</th>\n",
       "      <th>CH</th>\n",
       "      <th>CT</th>\n",
       "      <th>DN</th>\n",
       "      <th>DD</th>\n",
       "      <th>...</th>\n",
       "      <th>PB</th>\n",
       "      <th>RJ</th>\n",
       "      <th>SK</th>\n",
       "      <th>TN</th>\n",
       "      <th>TG</th>\n",
       "      <th>TR</th>\n",
       "      <th>UP</th>\n",
       "      <th>UT</th>\n",
       "      <th>WB</th>\n",
       "      <th>UN</th>\n",
       "    </tr>\n",
       "    <tr>\n",
       "      <th>Status</th>\n",
       "      <th></th>\n",
       "      <th></th>\n",
       "      <th></th>\n",
       "      <th></th>\n",
       "      <th></th>\n",
       "      <th></th>\n",
       "      <th></th>\n",
       "      <th></th>\n",
       "      <th></th>\n",
       "      <th></th>\n",
       "      <th></th>\n",
       "      <th></th>\n",
       "      <th></th>\n",
       "      <th></th>\n",
       "      <th></th>\n",
       "      <th></th>\n",
       "      <th></th>\n",
       "      <th></th>\n",
       "      <th></th>\n",
       "      <th></th>\n",
       "      <th></th>\n",
       "    </tr>\n",
       "  </thead>\n",
       "  <tbody>\n",
       "    <tr>\n",
       "      <th>Confirmed</th>\n",
       "      <td>7945144</td>\n",
       "      <td>4249</td>\n",
       "      <td>808924</td>\n",
       "      <td>14391</td>\n",
       "      <td>204284</td>\n",
       "      <td>212705</td>\n",
       "      <td>14085</td>\n",
       "      <td>177608</td>\n",
       "      <td>3223</td>\n",
       "      <td>0</td>\n",
       "      <td>...</td>\n",
       "      <td>131391</td>\n",
       "      <td>188048</td>\n",
       "      <td>3848</td>\n",
       "      <td>711713</td>\n",
       "      <td>231324</td>\n",
       "      <td>30254</td>\n",
       "      <td>472068</td>\n",
       "      <td>60744</td>\n",
       "      <td>353822</td>\n",
       "      <td>0</td>\n",
       "    </tr>\n",
       "    <tr>\n",
       "      <th>Deceased</th>\n",
       "      <td>118947</td>\n",
       "      <td>58</td>\n",
       "      <td>6606</td>\n",
       "      <td>35</td>\n",
       "      <td>912</td>\n",
       "      <td>1058</td>\n",
       "      <td>222</td>\n",
       "      <td>1861</td>\n",
       "      <td>2</td>\n",
       "      <td>0</td>\n",
       "      <td>...</td>\n",
       "      <td>4125</td>\n",
       "      <td>1853</td>\n",
       "      <td>64</td>\n",
       "      <td>10956</td>\n",
       "      <td>1311</td>\n",
       "      <td>340</td>\n",
       "      <td>6902</td>\n",
       "      <td>1001</td>\n",
       "      <td>6546</td>\n",
       "      <td>0</td>\n",
       "    </tr>\n",
       "    <tr>\n",
       "      <th>Recovered</th>\n",
       "      <td>7198632</td>\n",
       "      <td>3988</td>\n",
       "      <td>773548</td>\n",
       "      <td>12182</td>\n",
       "      <td>188584</td>\n",
       "      <td>202007</td>\n",
       "      <td>13230</td>\n",
       "      <td>153654</td>\n",
       "      <td>3130</td>\n",
       "      <td>0</td>\n",
       "      <td>...</td>\n",
       "      <td>123047</td>\n",
       "      <td>169962</td>\n",
       "      <td>3444</td>\n",
       "      <td>671489</td>\n",
       "      <td>211912</td>\n",
       "      <td>28046</td>\n",
       "      <td>438512</td>\n",
       "      <td>55188</td>\n",
       "      <td>310086</td>\n",
       "      <td>0</td>\n",
       "    </tr>\n",
       "  </tbody>\n",
       "</table>\n",
       "<p>3 rows × 39 columns</p>\n",
       "</div>"
      ],
      "text/plain": [
       "                TT    AN      AP     AR      AS      BR     CH      CT    DN  \\\n",
       "Status                                                                         \n",
       "Confirmed  7945144  4249  808924  14391  204284  212705  14085  177608  3223   \n",
       "Deceased    118947    58    6606     35     912    1058    222    1861     2   \n",
       "Recovered  7198632  3988  773548  12182  188584  202007  13230  153654  3130   \n",
       "\n",
       "           DD  ...      PB      RJ    SK      TN      TG     TR      UP  \\\n",
       "Status         ...                                                        \n",
       "Confirmed   0  ...  131391  188048  3848  711713  231324  30254  472068   \n",
       "Deceased    0  ...    4125    1853    64   10956    1311    340    6902   \n",
       "Recovered   0  ...  123047  169962  3444  671489  211912  28046  438512   \n",
       "\n",
       "              UT      WB  UN  \n",
       "Status                        \n",
       "Confirmed  60744  353822   0  \n",
       "Deceased    1001    6546   0  \n",
       "Recovered  55188  310086   0  \n",
       "\n",
       "[3 rows x 39 columns]"
      ]
     },
     "execution_count": 6,
     "metadata": {},
     "output_type": "execute_result"
    }
   ],
   "source": [
    "#hide\n",
    "df_today"
   ]
  },
  {
   "cell_type": "code",
   "execution_count": 7,
   "metadata": {
    "execution": {
     "iopub.execute_input": "2020-10-26T19:14:12.693678Z",
     "iopub.status.busy": "2020-10-26T19:14:12.693114Z",
     "iopub.status.idle": "2020-10-26T19:14:12.695938Z",
     "shell.execute_reply": "2020-10-26T19:14:12.695411Z"
    },
    "papermill": {
     "duration": 0.027898,
     "end_time": "2020-10-26T19:14:12.696048",
     "exception": false,
     "start_time": "2020-10-26T19:14:12.668150",
     "status": "completed"
    },
    "tags": []
   },
   "outputs": [
    {
     "data": {
      "text/html": [
       "<div>\n",
       "<style scoped>\n",
       "    .dataframe tbody tr th:only-of-type {\n",
       "        vertical-align: middle;\n",
       "    }\n",
       "\n",
       "    .dataframe tbody tr th {\n",
       "        vertical-align: top;\n",
       "    }\n",
       "\n",
       "    .dataframe thead th {\n",
       "        text-align: right;\n",
       "    }\n",
       "</style>\n",
       "<table border=\"1\" class=\"dataframe\">\n",
       "  <thead>\n",
       "    <tr style=\"text-align: right;\">\n",
       "      <th></th>\n",
       "      <th>TT</th>\n",
       "      <th>AN</th>\n",
       "      <th>AP</th>\n",
       "      <th>AR</th>\n",
       "      <th>AS</th>\n",
       "      <th>BR</th>\n",
       "      <th>CH</th>\n",
       "      <th>CT</th>\n",
       "      <th>DN</th>\n",
       "      <th>DD</th>\n",
       "      <th>...</th>\n",
       "      <th>PB</th>\n",
       "      <th>RJ</th>\n",
       "      <th>SK</th>\n",
       "      <th>TN</th>\n",
       "      <th>TG</th>\n",
       "      <th>TR</th>\n",
       "      <th>UP</th>\n",
       "      <th>UT</th>\n",
       "      <th>WB</th>\n",
       "      <th>UN</th>\n",
       "    </tr>\n",
       "    <tr>\n",
       "      <th>Status</th>\n",
       "      <th></th>\n",
       "      <th></th>\n",
       "      <th></th>\n",
       "      <th></th>\n",
       "      <th></th>\n",
       "      <th></th>\n",
       "      <th></th>\n",
       "      <th></th>\n",
       "      <th></th>\n",
       "      <th></th>\n",
       "      <th></th>\n",
       "      <th></th>\n",
       "      <th></th>\n",
       "      <th></th>\n",
       "      <th></th>\n",
       "      <th></th>\n",
       "      <th></th>\n",
       "      <th></th>\n",
       "      <th></th>\n",
       "      <th></th>\n",
       "      <th></th>\n",
       "    </tr>\n",
       "  </thead>\n",
       "  <tbody>\n",
       "    <tr>\n",
       "      <th>Confirmed</th>\n",
       "      <td>7909212</td>\n",
       "      <td>4241</td>\n",
       "      <td>807023</td>\n",
       "      <td>14244</td>\n",
       "      <td>204069</td>\n",
       "      <td>212192</td>\n",
       "      <td>14038</td>\n",
       "      <td>175959</td>\n",
       "      <td>3223</td>\n",
       "      <td>0</td>\n",
       "      <td>...</td>\n",
       "      <td>131055</td>\n",
       "      <td>186243</td>\n",
       "      <td>3848</td>\n",
       "      <td>709005</td>\n",
       "      <td>230742</td>\n",
       "      <td>30218</td>\n",
       "      <td>470270</td>\n",
       "      <td>60376</td>\n",
       "      <td>349701</td>\n",
       "      <td>0</td>\n",
       "    </tr>\n",
       "    <tr>\n",
       "      <th>Deceased</th>\n",
       "      <td>118465</td>\n",
       "      <td>58</td>\n",
       "      <td>6587</td>\n",
       "      <td>33</td>\n",
       "      <td>910</td>\n",
       "      <td>1049</td>\n",
       "      <td>218</td>\n",
       "      <td>1818</td>\n",
       "      <td>2</td>\n",
       "      <td>0</td>\n",
       "      <td>...</td>\n",
       "      <td>4117</td>\n",
       "      <td>1839</td>\n",
       "      <td>64</td>\n",
       "      <td>10924</td>\n",
       "      <td>1307</td>\n",
       "      <td>340</td>\n",
       "      <td>6882</td>\n",
       "      <td>993</td>\n",
       "      <td>6487</td>\n",
       "      <td>0</td>\n",
       "    </tr>\n",
       "    <tr>\n",
       "      <th>Recovered</th>\n",
       "      <td>7135060</td>\n",
       "      <td>3974</td>\n",
       "      <td>769576</td>\n",
       "      <td>11951</td>\n",
       "      <td>185752</td>\n",
       "      <td>200920</td>\n",
       "      <td>13167</td>\n",
       "      <td>150398</td>\n",
       "      <td>3129</td>\n",
       "      <td>0</td>\n",
       "      <td>...</td>\n",
       "      <td>122721</td>\n",
       "      <td>167736</td>\n",
       "      <td>3444</td>\n",
       "      <td>667475</td>\n",
       "      <td>210480</td>\n",
       "      <td>27863</td>\n",
       "      <td>436071</td>\n",
       "      <td>54488</td>\n",
       "      <td>306197</td>\n",
       "      <td>0</td>\n",
       "    </tr>\n",
       "  </tbody>\n",
       "</table>\n",
       "<p>3 rows × 39 columns</p>\n",
       "</div>"
      ],
      "text/plain": [
       "                TT    AN      AP     AR      AS      BR     CH      CT    DN  \\\n",
       "Status                                                                         \n",
       "Confirmed  7909212  4241  807023  14244  204069  212192  14038  175959  3223   \n",
       "Deceased    118465    58    6587     33     910    1049    218    1818     2   \n",
       "Recovered  7135060  3974  769576  11951  185752  200920  13167  150398  3129   \n",
       "\n",
       "           DD  ...      PB      RJ    SK      TN      TG     TR      UP  \\\n",
       "Status         ...                                                        \n",
       "Confirmed   0  ...  131055  186243  3848  709005  230742  30218  470270   \n",
       "Deceased    0  ...    4117    1839    64   10924    1307    340    6882   \n",
       "Recovered   0  ...  122721  167736  3444  667475  210480  27863  436071   \n",
       "\n",
       "              UT      WB  UN  \n",
       "Status                        \n",
       "Confirmed  60376  349701   0  \n",
       "Deceased     993    6487   0  \n",
       "Recovered  54488  306197   0  \n",
       "\n",
       "[3 rows x 39 columns]"
      ]
     },
     "execution_count": 7,
     "metadata": {},
     "output_type": "execute_result"
    }
   ],
   "source": [
    "#hide\n",
    "df_yday.head()"
   ]
  },
  {
   "cell_type": "code",
   "execution_count": 8,
   "metadata": {
    "execution": {
     "iopub.execute_input": "2020-10-26T19:14:12.726676Z",
     "iopub.status.busy": "2020-10-26T19:14:12.726141Z",
     "iopub.status.idle": "2020-10-26T19:14:12.729175Z",
     "shell.execute_reply": "2020-10-26T19:14:12.728693Z"
    },
    "papermill": {
     "duration": 0.021215,
     "end_time": "2020-10-26T19:14:12.729307",
     "exception": false,
     "start_time": "2020-10-26T19:14:12.708092",
     "status": "completed"
    },
    "tags": []
   },
   "outputs": [
    {
     "data": {
      "text/plain": [
       "{'updated': '26-Oct-20',\n",
       " 'since': '25-Oct-20',\n",
       " 'Cases': 7945144,\n",
       " 'Deaths': 118947,\n",
       " 'Recovered': 7198632,\n",
       " 'PCases': 7909212,\n",
       " 'PDeaths': 118465,\n",
       " 'PRecovered': 7135060,\n",
       " 'Cases (+)': 35932,\n",
       " 'Deaths (+)': 482,\n",
       " 'Recovered (+)': 63572}"
      ]
     },
     "execution_count": 8,
     "metadata": {},
     "output_type": "execute_result"
    }
   ],
   "source": [
    "#hide\n",
    "summary = {\n",
    "    'updated' : dt_today,\n",
    "    'since' : dt_yday,\n",
    "    'Cases' : df_today['TT'][0],\n",
    "    'Deaths' : df_today['TT'][1],\n",
    "    'Recovered' : df_today['TT'][2],\n",
    "    'PCases' : df_yday['TT'][0],\n",
    "    'PDeaths' : df_yday['TT'][1],\n",
    "    'PRecovered': df_yday['TT'][2],\n",
    "    'Cases (+)' : df_today['TT'][0] - df_yday['TT'][0],\n",
    "    'Deaths (+)' : df_today['TT'][1] - df_yday['TT'][1],\n",
    "    'Recovered (+)': df_today['TT'][2] - df_yday['TT'][2]\n",
    "}\n",
    "\n",
    "summary"
   ]
  },
  {
   "cell_type": "code",
   "execution_count": 9,
   "metadata": {
    "execution": {
     "iopub.execute_input": "2020-10-26T19:14:12.758333Z",
     "iopub.status.busy": "2020-10-26T19:14:12.757800Z",
     "iopub.status.idle": "2020-10-26T19:14:12.760061Z",
     "shell.execute_reply": "2020-10-26T19:14:12.759634Z"
    },
    "papermill": {
     "duration": 0.018405,
     "end_time": "2020-10-26T19:14:12.760170",
     "exception": false,
     "start_time": "2020-10-26T19:14:12.741765",
     "status": "completed"
    },
    "tags": []
   },
   "outputs": [],
   "source": [
    "#hide\n",
    "overview = '''\n",
    "<!-- #######  HTML!! #########-->\n",
    "<h1 style=\"color: #5e9ca0; text-align: center;\">India</h1>\n",
    "<p style=\"text-align: center;\">Last update: <strong>{update}</strong></p>\n",
    "<p style=\"text-align: center;\">Confirmed cases:</p>\n",
    "<p style=\"text-align: center;font-size:24px;\">{cases} (<span style=\"color: #ff0000;\">+{new}</span>)</p>\n",
    "<p style=\"text-align: center;\">Confirmed deaths:</p>\n",
    "<p style=\"text-align: center;font-size:24px;\">{deaths} (<span style=\"color: #ff0000;\">+{dnew}</span>)</p>\n",
    "<p style=\"text-align: center;\">Recovered cases:</p>\n",
    "<p style=\"text-align: center;font-size:24px;\">{recovered} (<span style=\"color: #00ff00;\">+{rnew}</span>)</p>\n",
    "'''"
   ]
  },
  {
   "cell_type": "code",
   "execution_count": 10,
   "metadata": {
    "execution": {
     "iopub.execute_input": "2020-10-26T19:14:12.794043Z",
     "iopub.status.busy": "2020-10-26T19:14:12.793416Z",
     "iopub.status.idle": "2020-10-26T19:14:12.796602Z",
     "shell.execute_reply": "2020-10-26T19:14:12.796004Z"
    },
    "papermill": {
     "duration": 0.022289,
     "end_time": "2020-10-26T19:14:12.796710",
     "exception": false,
     "start_time": "2020-10-26T19:14:12.774421",
     "status": "completed"
    },
    "tags": []
   },
   "outputs": [
    {
     "data": {
      "text/html": [
       "\n",
       "<!-- #######  HTML!! #########-->\n",
       "<h1 style=\"color: #5e9ca0; text-align: center;\">India</h1>\n",
       "<p style=\"text-align: center;\">Last update: <strong>26-Oct-20</strong></p>\n",
       "<p style=\"text-align: center;\">Confirmed cases:</p>\n",
       "<p style=\"text-align: center;font-size:24px;\">7945144 (<span style=\"color: #ff0000;\">+35932</span>)</p>\n",
       "<p style=\"text-align: center;\">Confirmed deaths:</p>\n",
       "<p style=\"text-align: center;font-size:24px;\">118947 (<span style=\"color: #ff0000;\">+482</span>)</p>\n",
       "<p style=\"text-align: center;\">Recovered cases:</p>\n",
       "<p style=\"text-align: center;font-size:24px;\">7198632 (<span style=\"color: #00ff00;\">+63572</span>)</p>\n"
      ],
      "text/plain": [
       "<IPython.core.display.HTML object>"
      ]
     },
     "metadata": {},
     "output_type": "display_data"
    }
   ],
   "source": [
    "#hide_input\n",
    "# Fill the above HTML with the information from the summary dictionary\n",
    "\n",
    "update = summary['updated']\n",
    "cases = summary['Cases']\n",
    "new = summary['Cases (+)']\n",
    "deaths = summary['Deaths']\n",
    "dnew = summary['Deaths (+)']\n",
    "recovered = summary['Recovered']\n",
    "rnew = summary['Recovered (+)']\n",
    "\n",
    "html = HTML(overview.format(update=update, cases=cases,new=new,deaths=deaths,dnew=dnew, recovered=recovered, rnew=rnew))\n",
    "\n",
    "display(html)"
   ]
  },
  {
   "cell_type": "code",
   "execution_count": 11,
   "metadata": {
    "execution": {
     "iopub.execute_input": "2020-10-26T19:14:12.830939Z",
     "iopub.status.busy": "2020-10-26T19:14:12.830350Z",
     "iopub.status.idle": "2020-10-26T19:14:12.833950Z",
     "shell.execute_reply": "2020-10-26T19:14:12.834515Z"
    },
    "papermill": {
     "duration": 0.025496,
     "end_time": "2020-10-26T19:14:12.834642",
     "exception": false,
     "start_time": "2020-10-26T19:14:12.809146",
     "status": "completed"
    },
    "tags": []
   },
   "outputs": [],
   "source": [
    "#hide\n",
    "df_cases = df[df['Status'] == 'Confirmed'].copy()\n",
    "df_cases.drop(columns = ['Status'], inplace=True)\n",
    "df_deaths = df[df['Status'] == 'Deceased'].copy()\n",
    "df_deaths.drop(columns = ['Status'], inplace=True)\n",
    "df_recovered = df[df['Status'] == 'Recovered'].copy()\n",
    "df_recovered.drop(columns = ['Status'], inplace=True)"
   ]
  },
  {
   "cell_type": "markdown",
   "metadata": {
    "papermill": {
     "duration": 0.015366,
     "end_time": "2020-10-26T19:14:12.864525",
     "exception": false,
     "start_time": "2020-10-26T19:14:12.849159",
     "status": "completed"
    },
    "tags": []
   },
   "source": [
    "Plot for India:"
   ]
  },
  {
   "cell_type": "code",
   "execution_count": 12,
   "metadata": {
    "execution": {
     "iopub.execute_input": "2020-10-26T19:14:12.896568Z",
     "iopub.status.busy": "2020-10-26T19:14:12.896035Z",
     "iopub.status.idle": "2020-10-26T19:14:13.185791Z",
     "shell.execute_reply": "2020-10-26T19:14:13.186235Z"
    },
    "papermill": {
     "duration": 0.308577,
     "end_time": "2020-10-26T19:14:13.186383",
     "exception": false,
     "start_time": "2020-10-26T19:14:12.877806",
     "status": "completed"
    },
    "tags": []
   },
   "outputs": [
    {
     "data": {
      "image/png": "[encoded data removed]",
      "text/plain": [
       "<Figure size 1296x432 with 1 Axes>"
      ]
     },
     "metadata": {
      "needs_background": "light"
     },
     "output_type": "display_data"
    }
   ],
   "source": [
    "#hide_input\n",
    "plt.figure(figsize = (18,6))\n",
    "plt.plot(df_cases['Date'], df_cases['TT'],'.-', alpha=0.7, color='b', label='Confirmed cases')\n",
    "plt.plot(df_recovered['Date'], df_recovered['TT'],'.-', alpha=0.7, color='g', label='Recovered')\n",
    "plt.plot(df_deaths['Date'], df_deaths['TT'],'.-', alpha=0.7, color='r', label='Deceased')\n",
    "plt.legend()\n",
    "plt.title(\"Cases per day in India\")\n",
    "plt.xticks(ticks=' ')\n",
    "plt.xlabel(f'{df_cases.iloc[0][0]} to {df_cases.iloc[-1][0]}')\n",
    "plt.ylabel('No. of cases');"
   ]
  },
  {
   "cell_type": "markdown",
   "metadata": {
    "papermill": {
     "duration": 1.095592,
     "end_time": "2020-10-26T19:14:14.295997",
     "exception": false,
     "start_time": "2020-10-26T19:14:13.200405",
     "status": "completed"
    },
    "tags": []
   },
   "source": [
    "Plots for the states with highest number of cases:"
   ]
  },
  {
   "cell_type": "markdown",
   "metadata": {
    "tags": [
     "papermill-error-cell-tag"
    ]
   },
   "source": [
    "<span id=\"papermill-error-cell\" style=\"color:red; font-family:Helvetica Neue, Helvetica, Arial, sans-serif; font-size:2em;\">Execution using papermill encountered an exception here and stopped:</span>"
   ]
  },
  {
   "cell_type": "code",
   "execution_count": 13,
   "metadata": {
    "execution": {
     "iopub.execute_input": "2020-10-26T19:14:14.759556Z",
     "iopub.status.busy": "2020-10-26T19:14:14.758947Z",
     "iopub.status.idle": "2020-10-26T19:14:14.858098Z",
     "shell.execute_reply": "2020-10-26T19:14:14.857380Z"
    },
    "papermill": {
     "duration": 0.265817,
     "end_time": "2020-10-26T19:14:14.858266",
     "exception": true,
     "start_time": "2020-10-26T19:14:14.592449",
     "status": "failed"
    },
    "tags": []
   },
   "outputs": [
    {
     "ename": "TypeError",
     "evalue": "'>' not supported between instances of 'numpy.ndarray' and 'str'",
     "output_type": "error",
     "traceback": [
      "\u001b[0;31m---------------------------------------------------------------------------\u001b[0m",
      "\u001b[0;31mTypeError\u001b[0m                                 Traceback (most recent call last)",
      "\u001b[0;32m<ipython-input-13-9711672c0a2c>\u001b[0m in \u001b[0;36m<module>\u001b[0;34m\u001b[0m\n\u001b[1;32m      1\u001b[0m \u001b[0;31m#hide_input\u001b[0m\u001b[0;34m\u001b[0m\u001b[0;34m\u001b[0m\u001b[0;34m\u001b[0m\u001b[0m\n\u001b[0;32m----> 2\u001b[0;31m \u001b[0mtop_3\u001b[0m \u001b[0;34m=\u001b[0m \u001b[0msorted\u001b[0m\u001b[0;34m(\u001b[0m\u001b[0mdf_cases\u001b[0m\u001b[0;34m.\u001b[0m\u001b[0msum\u001b[0m\u001b[0;34m(\u001b[0m\u001b[0;34m)\u001b[0m\u001b[0;34m.\u001b[0m\u001b[0mvalues\u001b[0m\u001b[0;34m[\u001b[0m\u001b[0;36m1\u001b[0m\u001b[0;34m:\u001b[0m\u001b[0;34m]\u001b[0m\u001b[0;34m,\u001b[0m \u001b[0mreverse\u001b[0m\u001b[0;34m=\u001b[0m\u001b[0;32mTrue\u001b[0m\u001b[0;34m)\u001b[0m\u001b[0;34m[\u001b[0m\u001b[0;36m1\u001b[0m\u001b[0;34m:\u001b[0m\u001b[0;36m4\u001b[0m\u001b[0;34m]\u001b[0m\u001b[0;34m\u001b[0m\u001b[0;34m\u001b[0m\u001b[0m\n\u001b[0m\u001b[1;32m      3\u001b[0m \u001b[0mtop3_states\u001b[0m\u001b[0;34m=\u001b[0m\u001b[0;34m[\u001b[0m\u001b[0;34m]\u001b[0m\u001b[0;34m\u001b[0m\u001b[0;34m\u001b[0m\u001b[0m\n\u001b[1;32m      4\u001b[0m \u001b[0;32mfor\u001b[0m \u001b[0mi\u001b[0m \u001b[0;32min\u001b[0m \u001b[0mtop_3\u001b[0m\u001b[0;34m:\u001b[0m\u001b[0;34m\u001b[0m\u001b[0;34m\u001b[0m\u001b[0m\n\u001b[1;32m      5\u001b[0m     \u001b[0mtop3_states\u001b[0m\u001b[0;34m.\u001b[0m\u001b[0mappend\u001b[0m\u001b[0;34m(\u001b[0m\u001b[0mdf_cases\u001b[0m\u001b[0;34m.\u001b[0m\u001b[0msum\u001b[0m\u001b[0;34m(\u001b[0m\u001b[0;34m)\u001b[0m\u001b[0;34m[\u001b[0m\u001b[0mdf_cases\u001b[0m\u001b[0;34m.\u001b[0m\u001b[0msum\u001b[0m\u001b[0;34m(\u001b[0m\u001b[0;34m)\u001b[0m \u001b[0;34m==\u001b[0m \u001b[0mi\u001b[0m\u001b[0;34m]\u001b[0m\u001b[0;34m.\u001b[0m\u001b[0mindex\u001b[0m\u001b[0;34m)\u001b[0m\u001b[0;34m\u001b[0m\u001b[0;34m\u001b[0m\u001b[0m\n",
      "\u001b[0;31mTypeError\u001b[0m: '>' not supported between instances of 'numpy.ndarray' and 'str'"
     ]
    }
   ],
   "source": [
    "#hide_input\n",
    "top_3 = sorted(df_cases.sum().values[1:], reverse=True)[1:4]\n",
    "top3_states=[]\n",
    "for i in top_3:\n",
    "    top3_states.append(df_cases.sum()[df_cases.sum() == i].index)\n",
    "\n",
    "\n",
    "fig, ax = plt.subplots(1,3,figsize = (21,6))\n",
    "for i in range(3):\n",
    "    state = top3_states[i].values[0]\n",
    "    ax[i].plot(df_cases['Date'], df_cases[state],'.-', color='b', alpha=0.7)\n",
    "    ax[i].plot(df_deaths['Date'], df_deaths[state],'.-', color='r', alpha=0.7)\n",
    "    ax[i].plot(df_recovered['Date'], df_recovered[state],'.-', color='g', alpha=0.7)\n",
    "    \n",
    "    ax[i].set_title(f\"Cases in {state}\")\n",
    "    ax[i].set_xticks(ticks=' ')\n",
    "    ax[i].set_xlabel(f'{df_cases.iloc[0][0]} to {df_cases.iloc[-1][0]}')\n",
    "    ax[i].set_ylabel('No. of cases');"
   ]
  },
  {
   "cell_type": "code",
   "execution_count": null,
   "metadata": {
    "papermill": {
     "duration": null,
     "end_time": null,
     "exception": null,
     "start_time": null,
     "status": "pending"
    },
    "tags": []
   },
   "outputs": [],
   "source": []
  },
  {
   "cell_type": "code",
   "execution_count": null,
   "metadata": {
    "papermill": {
     "duration": null,
     "end_time": null,
     "exception": null,
     "start_time": null,
     "status": "pending"
    },
    "tags": []
   },
   "outputs": [],
   "source": []
  },
  {
   "cell_type": "code",
   "execution_count": null,
   "metadata": {
    "papermill": {
     "duration": null,
     "end_time": null,
     "exception": null,
     "start_time": null,
     "status": "pending"
    },
    "tags": []
   },
   "outputs": [],
   "source": []
  }
 ],
 "metadata": {
  "kernelspec": {
   "display_name": "Python 3",
   "language": "python",
   "name": "python3"
  },
  "language_info": {
   "codemirror_mode": {
    "name": "ipython",
    "version": 3
   },
   "file_extension": ".py",
   "mimetype": "text/x-python",
   "name": "python",
   "nbconvert_exporter": "python",
   "pygments_lexer": "ipython3",
   "version": "3.6.12"
  },
  "papermill": {
   "duration": 5.282253,
   "end_time": "2020-10-26T19:14:16.109946",
   "environment_variables": {},
   "exception": true,
   "input_path": "2020-08-09-DailyUpdate.ipynb",
   "output_path": "2020-08-09-DailyUpdate.ipynb",
   "parameters": {},
   "start_time": "2020-10-26T19:14:10.827693",
   "version": "2.1.2"
  }
 },
 "nbformat": 4,
 "nbformat_minor": 4
}