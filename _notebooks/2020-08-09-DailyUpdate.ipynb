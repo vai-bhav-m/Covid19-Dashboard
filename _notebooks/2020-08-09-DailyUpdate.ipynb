{
 "cells": [
  {
   "cell_type": "markdown",
   "metadata": {
    "papermill": {
     "duration": 0.013751,
     "end_time": "2020-09-30T19:13:51.140468",
     "exception": false,
     "start_time": "2020-09-30T19:13:51.126717",
     "status": "completed"
    },
    "tags": []
   },
   "source": [
    "# COVID-19 India Daily updates\n",
    "> Tracking coronavirus total cases, deaths and new cases in India on a daily basis\n",
    "\n",
    "- author: Vaibhav Mahapatra"
   ]
  },
  {
   "cell_type": "code",
   "execution_count": 1,
   "metadata": {
    "execution": {
     "iopub.execute_input": "2020-09-30T19:13:51.170474Z",
     "iopub.status.busy": "2020-09-30T19:13:51.169902Z",
     "iopub.status.idle": "2020-09-30T19:13:51.723329Z",
     "shell.execute_reply": "2020-09-30T19:13:51.722270Z"
    },
    "papermill": {
     "duration": 0.570671,
     "end_time": "2020-09-30T19:13:51.723487",
     "exception": false,
     "start_time": "2020-09-30T19:13:51.152816",
     "status": "completed"
    },
    "tags": []
   },
   "outputs": [],
   "source": [
    "#hide\n",
    "\n",
    "## Import essential packages below\n",
    "\n",
    "import pandas as pd\n",
    "import numpy as np\n",
    "import requests\n",
    "import json\n",
    "import matplotlib.pyplot as plt\n",
    "import matplotlib.dates as mdates\n",
    "import matplotlib as mpl\n",
    "from IPython.core.display import display,HTML\n",
    "%matplotlib inline"
   ]
  },
  {
   "cell_type": "code",
   "execution_count": 2,
   "metadata": {
    "execution": {
     "iopub.execute_input": "2020-09-30T19:13:51.751540Z",
     "iopub.status.busy": "2020-09-30T19:13:51.750958Z",
     "iopub.status.idle": "2020-09-30T19:13:51.966404Z",
     "shell.execute_reply": "2020-09-30T19:13:51.965594Z"
    },
    "papermill": {
     "duration": 0.23148,
     "end_time": "2020-09-30T19:13:51.966535",
     "exception": false,
     "start_time": "2020-09-30T19:13:51.735055",
     "status": "completed"
    },
    "tags": []
   },
   "outputs": [
    {
     "data": {
      "text/plain": [
       "(603, 41)"
      ]
     },
     "execution_count": 2,
     "metadata": {},
     "output_type": "execute_result"
    }
   ],
   "source": [
    "#hide\n",
    "url = 'https://api.covid19india.org/csv/latest/state_wise_daily.csv'\n",
    "df = pd.read_csv(url)\n",
    "df.shape"
   ]
  },
  {
   "cell_type": "code",
   "execution_count": 3,
   "metadata": {
    "execution": {
     "iopub.execute_input": "2020-09-30T19:13:52.155067Z",
     "iopub.status.busy": "2020-09-30T19:13:52.154297Z",
     "iopub.status.idle": "2020-09-30T19:13:52.218617Z",
     "shell.execute_reply": "2020-09-30T19:13:52.218064Z"
    },
    "papermill": {
     "duration": 0.227515,
     "end_time": "2020-09-30T19:13:52.218745",
     "exception": false,
     "start_time": "2020-09-30T19:13:51.991230",
     "status": "completed"
    },
    "tags": []
   },
   "outputs": [
    {
     "data": {
      "text/html": [
       "<div>\n",
       "<style scoped>\n",
       "    .dataframe tbody tr th:only-of-type {\n",
       "        vertical-align: middle;\n",
       "    }\n",
       "\n",
       "    .dataframe tbody tr th {\n",
       "        vertical-align: top;\n",
       "    }\n",
       "\n",
       "    .dataframe thead th {\n",
       "        text-align: right;\n",
       "    }\n",
       "</style>\n",
       "<table border=\"1\" class=\"dataframe\">\n",
       "  <thead>\n",
       "    <tr style=\"text-align: right;\">\n",
       "      <th></th>\n",
       "      <th>Date</th>\n",
       "      <th>Status</th>\n",
       "      <th>TT</th>\n",
       "      <th>AN</th>\n",
       "      <th>AP</th>\n",
       "      <th>AR</th>\n",
       "      <th>AS</th>\n",
       "      <th>BR</th>\n",
       "      <th>CH</th>\n",
       "      <th>CT</th>\n",
       "      <th>...</th>\n",
       "      <th>PB</th>\n",
       "      <th>RJ</th>\n",
       "      <th>SK</th>\n",
       "      <th>TN</th>\n",
       "      <th>TG</th>\n",
       "      <th>TR</th>\n",
       "      <th>UP</th>\n",
       "      <th>UT</th>\n",
       "      <th>WB</th>\n",
       "      <th>UN</th>\n",
       "    </tr>\n",
       "  </thead>\n",
       "  <tbody>\n",
       "    <tr>\n",
       "      <th>597</th>\n",
       "      <td>29-Sep-20</td>\n",
       "      <td>Confirmed</td>\n",
       "      <td>80500</td>\n",
       "      <td>18</td>\n",
       "      <td>6190</td>\n",
       "      <td>221</td>\n",
       "      <td>3592</td>\n",
       "      <td>1439</td>\n",
       "      <td>138</td>\n",
       "      <td>2197</td>\n",
       "      <td>...</td>\n",
       "      <td>1085</td>\n",
       "      <td>2148</td>\n",
       "      <td>41</td>\n",
       "      <td>5546</td>\n",
       "      <td>2072</td>\n",
       "      <td>432</td>\n",
       "      <td>3981</td>\n",
       "      <td>493</td>\n",
       "      <td>3188</td>\n",
       "      <td>0</td>\n",
       "    </tr>\n",
       "    <tr>\n",
       "      <th>598</th>\n",
       "      <td>29-Sep-20</td>\n",
       "      <td>Recovered</td>\n",
       "      <td>86150</td>\n",
       "      <td>5</td>\n",
       "      <td>9836</td>\n",
       "      <td>151</td>\n",
       "      <td>1702</td>\n",
       "      <td>1702</td>\n",
       "      <td>273</td>\n",
       "      <td>3977</td>\n",
       "      <td>...</td>\n",
       "      <td>1932</td>\n",
       "      <td>1800</td>\n",
       "      <td>71</td>\n",
       "      <td>5501</td>\n",
       "      <td>2259</td>\n",
       "      <td>244</td>\n",
       "      <td>5711</td>\n",
       "      <td>1413</td>\n",
       "      <td>2961</td>\n",
       "      <td>0</td>\n",
       "    </tr>\n",
       "    <tr>\n",
       "      <th>599</th>\n",
       "      <td>29-Sep-20</td>\n",
       "      <td>Deceased</td>\n",
       "      <td>1178</td>\n",
       "      <td>0</td>\n",
       "      <td>35</td>\n",
       "      <td>1</td>\n",
       "      <td>13</td>\n",
       "      <td>2</td>\n",
       "      <td>5</td>\n",
       "      <td>39</td>\n",
       "      <td>...</td>\n",
       "      <td>75</td>\n",
       "      <td>15</td>\n",
       "      <td>0</td>\n",
       "      <td>70</td>\n",
       "      <td>9</td>\n",
       "      <td>3</td>\n",
       "      <td>63</td>\n",
       "      <td>11</td>\n",
       "      <td>62</td>\n",
       "      <td>0</td>\n",
       "    </tr>\n",
       "    <tr>\n",
       "      <th>600</th>\n",
       "      <td>30-Sep-20</td>\n",
       "      <td>Confirmed</td>\n",
       "      <td>86748</td>\n",
       "      <td>14</td>\n",
       "      <td>6133</td>\n",
       "      <td>243</td>\n",
       "      <td>3590</td>\n",
       "      <td>1435</td>\n",
       "      <td>122</td>\n",
       "      <td>2947</td>\n",
       "      <td>...</td>\n",
       "      <td>1426</td>\n",
       "      <td>2173</td>\n",
       "      <td>75</td>\n",
       "      <td>5659</td>\n",
       "      <td>2103</td>\n",
       "      <td>381</td>\n",
       "      <td>4226</td>\n",
       "      <td>1005</td>\n",
       "      <td>3281</td>\n",
       "      <td>0</td>\n",
       "    </tr>\n",
       "    <tr>\n",
       "      <th>601</th>\n",
       "      <td>30-Sep-20</td>\n",
       "      <td>Recovered</td>\n",
       "      <td>85274</td>\n",
       "      <td>21</td>\n",
       "      <td>7075</td>\n",
       "      <td>147</td>\n",
       "      <td>1616</td>\n",
       "      <td>1735</td>\n",
       "      <td>215</td>\n",
       "      <td>3204</td>\n",
       "      <td>...</td>\n",
       "      <td>1389</td>\n",
       "      <td>1953</td>\n",
       "      <td>68</td>\n",
       "      <td>5610</td>\n",
       "      <td>2243</td>\n",
       "      <td>489</td>\n",
       "      <td>5434</td>\n",
       "      <td>976</td>\n",
       "      <td>2954</td>\n",
       "      <td>0</td>\n",
       "    </tr>\n",
       "    <tr>\n",
       "      <th>602</th>\n",
       "      <td>30-Sep-20</td>\n",
       "      <td>Deceased</td>\n",
       "      <td>1179</td>\n",
       "      <td>0</td>\n",
       "      <td>48</td>\n",
       "      <td>0</td>\n",
       "      <td>17</td>\n",
       "      <td>10</td>\n",
       "      <td>4</td>\n",
       "      <td>41</td>\n",
       "      <td>...</td>\n",
       "      <td>47</td>\n",
       "      <td>15</td>\n",
       "      <td>2</td>\n",
       "      <td>67</td>\n",
       "      <td>11</td>\n",
       "      <td>1</td>\n",
       "      <td>69</td>\n",
       "      <td>20</td>\n",
       "      <td>59</td>\n",
       "      <td>0</td>\n",
       "    </tr>\n",
       "  </tbody>\n",
       "</table>\n",
       "<p>6 rows × 41 columns</p>\n",
       "</div>"
      ],
      "text/plain": [
       "          Date     Status     TT  AN    AP   AR    AS    BR   CH    CT  ...  \\\n",
       "597  29-Sep-20  Confirmed  80500  18  6190  221  3592  1439  138  2197  ...   \n",
       "598  29-Sep-20  Recovered  86150   5  9836  151  1702  1702  273  3977  ...   \n",
       "599  29-Sep-20   Deceased   1178   0    35    1    13     2    5    39  ...   \n",
       "600  30-Sep-20  Confirmed  86748  14  6133  243  3590  1435  122  2947  ...   \n",
       "601  30-Sep-20  Recovered  85274  21  7075  147  1616  1735  215  3204  ...   \n",
       "602  30-Sep-20   Deceased   1179   0    48    0    17    10    4    41  ...   \n",
       "\n",
       "       PB    RJ  SK    TN    TG   TR    UP    UT    WB  UN  \n",
       "597  1085  2148  41  5546  2072  432  3981   493  3188   0  \n",
       "598  1932  1800  71  5501  2259  244  5711  1413  2961   0  \n",
       "599    75    15   0    70     9    3    63    11    62   0  \n",
       "600  1426  2173  75  5659  2103  381  4226  1005  3281   0  \n",
       "601  1389  1953  68  5610  2243  489  5434   976  2954   0  \n",
       "602    47    15   2    67    11    1    69    20    59   0  \n",
       "\n",
       "[6 rows x 41 columns]"
      ]
     },
     "execution_count": 3,
     "metadata": {},
     "output_type": "execute_result"
    }
   ],
   "source": [
    "#hide\n",
    "df.tail(6)"
   ]
  },
  {
   "cell_type": "code",
   "execution_count": 4,
   "metadata": {
    "execution": {
     "iopub.execute_input": "2020-09-30T19:13:52.250213Z",
     "iopub.status.busy": "2020-09-30T19:13:52.249287Z",
     "iopub.status.idle": "2020-09-30T19:13:52.252340Z",
     "shell.execute_reply": "2020-09-30T19:13:52.252796Z"
    },
    "papermill": {
     "duration": 0.021967,
     "end_time": "2020-09-30T19:13:52.252932",
     "exception": false,
     "start_time": "2020-09-30T19:13:52.230965",
     "status": "completed"
    },
    "tags": []
   },
   "outputs": [
    {
     "data": {
      "text/plain": [
       "('30-Sep-20', '29-Sep-20')"
      ]
     },
     "execution_count": 4,
     "metadata": {},
     "output_type": "execute_result"
    }
   ],
   "source": [
    "#hide\n",
    "dt_today = df.iloc[-1][0]\n",
    "dt_yday = df.iloc[-4][0]\n",
    "dt_today, dt_yday"
   ]
  },
  {
   "cell_type": "code",
   "execution_count": 5,
   "metadata": {
    "execution": {
     "iopub.execute_input": "2020-09-30T19:13:52.285713Z",
     "iopub.status.busy": "2020-09-30T19:13:52.285142Z",
     "iopub.status.idle": "2020-09-30T19:13:52.291037Z",
     "shell.execute_reply": "2020-09-30T19:13:52.290537Z"
    },
    "papermill": {
     "duration": 0.025572,
     "end_time": "2020-09-30T19:13:52.291158",
     "exception": false,
     "start_time": "2020-09-30T19:13:52.265586",
     "status": "completed"
    },
    "tags": []
   },
   "outputs": [],
   "source": [
    "#hide\n",
    "df_today = df.groupby('Status').sum()\n",
    "df_yday = df.iloc[:-3][:].groupby('Status').sum()"
   ]
  },
  {
   "cell_type": "code",
   "execution_count": 6,
   "metadata": {
    "execution": {
     "iopub.execute_input": "2020-09-30T19:13:52.331373Z",
     "iopub.status.busy": "2020-09-30T19:13:52.330772Z",
     "iopub.status.idle": "2020-09-30T19:13:52.334004Z",
     "shell.execute_reply": "2020-09-30T19:13:52.333453Z"
    },
    "papermill": {
     "duration": 0.030678,
     "end_time": "2020-09-30T19:13:52.334141",
     "exception": false,
     "start_time": "2020-09-30T19:13:52.303463",
     "status": "completed"
    },
    "tags": []
   },
   "outputs": [
    {
     "data": {
      "text/html": [
       "<div>\n",
       "<style scoped>\n",
       "    .dataframe tbody tr th:only-of-type {\n",
       "        vertical-align: middle;\n",
       "    }\n",
       "\n",
       "    .dataframe tbody tr th {\n",
       "        vertical-align: top;\n",
       "    }\n",
       "\n",
       "    .dataframe thead th {\n",
       "        text-align: right;\n",
       "    }\n",
       "</style>\n",
       "<table border=\"1\" class=\"dataframe\">\n",
       "  <thead>\n",
       "    <tr style=\"text-align: right;\">\n",
       "      <th></th>\n",
       "      <th>TT</th>\n",
       "      <th>AN</th>\n",
       "      <th>AP</th>\n",
       "      <th>AR</th>\n",
       "      <th>AS</th>\n",
       "      <th>BR</th>\n",
       "      <th>CH</th>\n",
       "      <th>CT</th>\n",
       "      <th>DN</th>\n",
       "      <th>DD</th>\n",
       "      <th>...</th>\n",
       "      <th>PB</th>\n",
       "      <th>RJ</th>\n",
       "      <th>SK</th>\n",
       "      <th>TN</th>\n",
       "      <th>TG</th>\n",
       "      <th>TR</th>\n",
       "      <th>UP</th>\n",
       "      <th>UT</th>\n",
       "      <th>WB</th>\n",
       "      <th>UN</th>\n",
       "    </tr>\n",
       "    <tr>\n",
       "      <th>Status</th>\n",
       "      <th></th>\n",
       "      <th></th>\n",
       "      <th></th>\n",
       "      <th></th>\n",
       "      <th></th>\n",
       "      <th></th>\n",
       "      <th></th>\n",
       "      <th></th>\n",
       "      <th></th>\n",
       "      <th></th>\n",
       "      <th></th>\n",
       "      <th></th>\n",
       "      <th></th>\n",
       "      <th></th>\n",
       "      <th></th>\n",
       "      <th></th>\n",
       "      <th></th>\n",
       "      <th></th>\n",
       "      <th></th>\n",
       "      <th></th>\n",
       "      <th></th>\n",
       "    </tr>\n",
       "  </thead>\n",
       "  <tbody>\n",
       "    <tr>\n",
       "      <th>Confirmed</th>\n",
       "      <td>6309634</td>\n",
       "      <td>3831</td>\n",
       "      <td>693484</td>\n",
       "      <td>9796</td>\n",
       "      <td>180709</td>\n",
       "      <td>182906</td>\n",
       "      <td>11938</td>\n",
       "      <td>113602</td>\n",
       "      <td>3039</td>\n",
       "      <td>0</td>\n",
       "      <td>...</td>\n",
       "      <td>113886</td>\n",
       "      <td>135292</td>\n",
       "      <td>2944</td>\n",
       "      <td>597602</td>\n",
       "      <td>190876</td>\n",
       "      <td>25731</td>\n",
       "      <td>399082</td>\n",
       "      <td>49000</td>\n",
       "      <td>257049</td>\n",
       "      <td>0</td>\n",
       "    </tr>\n",
       "    <tr>\n",
       "      <th>Deceased</th>\n",
       "      <td>98121</td>\n",
       "      <td>53</td>\n",
       "      <td>5828</td>\n",
       "      <td>16</td>\n",
       "      <td>701</td>\n",
       "      <td>904</td>\n",
       "      <td>162</td>\n",
       "      <td>957</td>\n",
       "      <td>2</td>\n",
       "      <td>0</td>\n",
       "      <td>...</td>\n",
       "      <td>3406</td>\n",
       "      <td>1486</td>\n",
       "      <td>37</td>\n",
       "      <td>9520</td>\n",
       "      <td>1127</td>\n",
       "      <td>274</td>\n",
       "      <td>5784</td>\n",
       "      <td>611</td>\n",
       "      <td>4958</td>\n",
       "      <td>0</td>\n",
       "    </tr>\n",
       "    <tr>\n",
       "      <th>Recovered</th>\n",
       "      <td>5269989</td>\n",
       "      <td>3599</td>\n",
       "      <td>629211</td>\n",
       "      <td>6890</td>\n",
       "      <td>145615</td>\n",
       "      <td>169625</td>\n",
       "      <td>9813</td>\n",
       "      <td>81718</td>\n",
       "      <td>2887</td>\n",
       "      <td>0</td>\n",
       "      <td>...</td>\n",
       "      <td>93666</td>\n",
       "      <td>113225</td>\n",
       "      <td>2223</td>\n",
       "      <td>541819</td>\n",
       "      <td>160933</td>\n",
       "      <td>19669</td>\n",
       "      <td>342415</td>\n",
       "      <td>39035</td>\n",
       "      <td>225759</td>\n",
       "      <td>0</td>\n",
       "    </tr>\n",
       "  </tbody>\n",
       "</table>\n",
       "<p>3 rows × 39 columns</p>\n",
       "</div>"
      ],
      "text/plain": [
       "                TT    AN      AP    AR      AS      BR     CH      CT    DN  \\\n",
       "Status                                                                        \n",
       "Confirmed  6309634  3831  693484  9796  180709  182906  11938  113602  3039   \n",
       "Deceased     98121    53    5828    16     701     904    162     957     2   \n",
       "Recovered  5269989  3599  629211  6890  145615  169625   9813   81718  2887   \n",
       "\n",
       "           DD  ...      PB      RJ    SK      TN      TG     TR      UP  \\\n",
       "Status         ...                                                        \n",
       "Confirmed   0  ...  113886  135292  2944  597602  190876  25731  399082   \n",
       "Deceased    0  ...    3406    1486    37    9520    1127    274    5784   \n",
       "Recovered   0  ...   93666  113225  2223  541819  160933  19669  342415   \n",
       "\n",
       "              UT      WB  UN  \n",
       "Status                        \n",
       "Confirmed  49000  257049   0  \n",
       "Deceased     611    4958   0  \n",
       "Recovered  39035  225759   0  \n",
       "\n",
       "[3 rows x 39 columns]"
      ]
     },
     "execution_count": 6,
     "metadata": {},
     "output_type": "execute_result"
    }
   ],
   "source": [
    "#hide\n",
    "df_today"
   ]
  },
  {
   "cell_type": "code",
   "execution_count": 7,
   "metadata": {
    "execution": {
     "iopub.execute_input": "2020-09-30T19:13:52.374759Z",
     "iopub.status.busy": "2020-09-30T19:13:52.374203Z",
     "iopub.status.idle": "2020-09-30T19:13:52.377157Z",
     "shell.execute_reply": "2020-09-30T19:13:52.376697Z"
    },
    "papermill": {
     "duration": 0.029901,
     "end_time": "2020-09-30T19:13:52.377274",
     "exception": false,
     "start_time": "2020-09-30T19:13:52.347373",
     "status": "completed"
    },
    "tags": []
   },
   "outputs": [
    {
     "data": {
      "text/html": [
       "<div>\n",
       "<style scoped>\n",
       "    .dataframe tbody tr th:only-of-type {\n",
       "        vertical-align: middle;\n",
       "    }\n",
       "\n",
       "    .dataframe tbody tr th {\n",
       "        vertical-align: top;\n",
       "    }\n",
       "\n",
       "    .dataframe thead th {\n",
       "        text-align: right;\n",
       "    }\n",
       "</style>\n",
       "<table border=\"1\" class=\"dataframe\">\n",
       "  <thead>\n",
       "    <tr style=\"text-align: right;\">\n",
       "      <th></th>\n",
       "      <th>TT</th>\n",
       "      <th>AN</th>\n",
       "      <th>AP</th>\n",
       "      <th>AR</th>\n",
       "      <th>AS</th>\n",
       "      <th>BR</th>\n",
       "      <th>CH</th>\n",
       "      <th>CT</th>\n",
       "      <th>DN</th>\n",
       "      <th>DD</th>\n",
       "      <th>...</th>\n",
       "      <th>PB</th>\n",
       "      <th>RJ</th>\n",
       "      <th>SK</th>\n",
       "      <th>TN</th>\n",
       "      <th>TG</th>\n",
       "      <th>TR</th>\n",
       "      <th>UP</th>\n",
       "      <th>UT</th>\n",
       "      <th>WB</th>\n",
       "      <th>UN</th>\n",
       "    </tr>\n",
       "    <tr>\n",
       "      <th>Status</th>\n",
       "      <th></th>\n",
       "      <th></th>\n",
       "      <th></th>\n",
       "      <th></th>\n",
       "      <th></th>\n",
       "      <th></th>\n",
       "      <th></th>\n",
       "      <th></th>\n",
       "      <th></th>\n",
       "      <th></th>\n",
       "      <th></th>\n",
       "      <th></th>\n",
       "      <th></th>\n",
       "      <th></th>\n",
       "      <th></th>\n",
       "      <th></th>\n",
       "      <th></th>\n",
       "      <th></th>\n",
       "      <th></th>\n",
       "      <th></th>\n",
       "      <th></th>\n",
       "    </tr>\n",
       "  </thead>\n",
       "  <tbody>\n",
       "    <tr>\n",
       "      <th>Confirmed</th>\n",
       "      <td>6222886</td>\n",
       "      <td>3817</td>\n",
       "      <td>687351</td>\n",
       "      <td>9553</td>\n",
       "      <td>177119</td>\n",
       "      <td>181471</td>\n",
       "      <td>11816</td>\n",
       "      <td>110655</td>\n",
       "      <td>3031</td>\n",
       "      <td>0</td>\n",
       "      <td>...</td>\n",
       "      <td>112460</td>\n",
       "      <td>133119</td>\n",
       "      <td>2869</td>\n",
       "      <td>591943</td>\n",
       "      <td>188773</td>\n",
       "      <td>25350</td>\n",
       "      <td>394856</td>\n",
       "      <td>47995</td>\n",
       "      <td>253768</td>\n",
       "      <td>0</td>\n",
       "    </tr>\n",
       "    <tr>\n",
       "      <th>Deceased</th>\n",
       "      <td>96942</td>\n",
       "      <td>53</td>\n",
       "      <td>5780</td>\n",
       "      <td>16</td>\n",
       "      <td>684</td>\n",
       "      <td>894</td>\n",
       "      <td>158</td>\n",
       "      <td>916</td>\n",
       "      <td>2</td>\n",
       "      <td>0</td>\n",
       "      <td>...</td>\n",
       "      <td>3359</td>\n",
       "      <td>1471</td>\n",
       "      <td>35</td>\n",
       "      <td>9453</td>\n",
       "      <td>1116</td>\n",
       "      <td>273</td>\n",
       "      <td>5715</td>\n",
       "      <td>591</td>\n",
       "      <td>4899</td>\n",
       "      <td>0</td>\n",
       "    </tr>\n",
       "    <tr>\n",
       "      <th>Recovered</th>\n",
       "      <td>5184715</td>\n",
       "      <td>3578</td>\n",
       "      <td>622136</td>\n",
       "      <td>6743</td>\n",
       "      <td>143999</td>\n",
       "      <td>167890</td>\n",
       "      <td>9598</td>\n",
       "      <td>78514</td>\n",
       "      <td>2868</td>\n",
       "      <td>0</td>\n",
       "      <td>...</td>\n",
       "      <td>92277</td>\n",
       "      <td>111272</td>\n",
       "      <td>2155</td>\n",
       "      <td>536209</td>\n",
       "      <td>158690</td>\n",
       "      <td>19180</td>\n",
       "      <td>336981</td>\n",
       "      <td>38059</td>\n",
       "      <td>222805</td>\n",
       "      <td>0</td>\n",
       "    </tr>\n",
       "  </tbody>\n",
       "</table>\n",
       "<p>3 rows × 39 columns</p>\n",
       "</div>"
      ],
      "text/plain": [
       "                TT    AN      AP    AR      AS      BR     CH      CT    DN  \\\n",
       "Status                                                                        \n",
       "Confirmed  6222886  3817  687351  9553  177119  181471  11816  110655  3031   \n",
       "Deceased     96942    53    5780    16     684     894    158     916     2   \n",
       "Recovered  5184715  3578  622136  6743  143999  167890   9598   78514  2868   \n",
       "\n",
       "           DD  ...      PB      RJ    SK      TN      TG     TR      UP  \\\n",
       "Status         ...                                                        \n",
       "Confirmed   0  ...  112460  133119  2869  591943  188773  25350  394856   \n",
       "Deceased    0  ...    3359    1471    35    9453    1116    273    5715   \n",
       "Recovered   0  ...   92277  111272  2155  536209  158690  19180  336981   \n",
       "\n",
       "              UT      WB  UN  \n",
       "Status                        \n",
       "Confirmed  47995  253768   0  \n",
       "Deceased     591    4899   0  \n",
       "Recovered  38059  222805   0  \n",
       "\n",
       "[3 rows x 39 columns]"
      ]
     },
     "execution_count": 7,
     "metadata": {},
     "output_type": "execute_result"
    }
   ],
   "source": [
    "#hide\n",
    "df_yday.head()"
   ]
  },
  {
   "cell_type": "code",
   "execution_count": 8,
   "metadata": {
    "execution": {
     "iopub.execute_input": "2020-09-30T19:13:52.416496Z",
     "iopub.status.busy": "2020-09-30T19:13:52.415919Z",
     "iopub.status.idle": "2020-09-30T19:13:52.419227Z",
     "shell.execute_reply": "2020-09-30T19:13:52.418759Z"
    },
    "papermill": {
     "duration": 0.028234,
     "end_time": "2020-09-30T19:13:52.419352",
     "exception": false,
     "start_time": "2020-09-30T19:13:52.391118",
     "status": "completed"
    },
    "tags": []
   },
   "outputs": [
    {
     "data": {
      "text/plain": [
       "{'updated': '30-Sep-20',\n",
       " 'since': '29-Sep-20',\n",
       " 'Cases': 6309634,\n",
       " 'Deaths': 98121,\n",
       " 'Recovered': 5269989,\n",
       " 'PCases': 6222886,\n",
       " 'PDeaths': 96942,\n",
       " 'PRecovered': 5184715,\n",
       " 'Cases (+)': 86748,\n",
       " 'Deaths (+)': 1179,\n",
       " 'Recovered (+)': 85274}"
      ]
     },
     "execution_count": 8,
     "metadata": {},
     "output_type": "execute_result"
    }
   ],
   "source": [
    "#hide\n",
    "summary = {\n",
    "    'updated' : dt_today,\n",
    "    'since' : dt_yday,\n",
    "    'Cases' : df_today['TT'][0],\n",
    "    'Deaths' : df_today['TT'][1],\n",
    "    'Recovered' : df_today['TT'][2],\n",
    "    'PCases' : df_yday['TT'][0],\n",
    "    'PDeaths' : df_yday['TT'][1],\n",
    "    'PRecovered': df_yday['TT'][2],\n",
    "    'Cases (+)' : df_today['TT'][0] - df_yday['TT'][0],\n",
    "    'Deaths (+)' : df_today['TT'][1] - df_yday['TT'][1],\n",
    "    'Recovered (+)': df_today['TT'][2] - df_yday['TT'][2]\n",
    "}\n",
    "\n",
    "summary"
   ]
  },
  {
   "cell_type": "code",
   "execution_count": 9,
   "metadata": {
    "execution": {
     "iopub.execute_input": "2020-09-30T19:13:52.452611Z",
     "iopub.status.busy": "2020-09-30T19:13:52.451808Z",
     "iopub.status.idle": "2020-09-30T19:13:52.453440Z",
     "shell.execute_reply": "2020-09-30T19:13:52.454096Z"
    },
    "papermill": {
     "duration": 0.020928,
     "end_time": "2020-09-30T19:13:52.454276",
     "exception": false,
     "start_time": "2020-09-30T19:13:52.433348",
     "status": "completed"
    },
    "tags": []
   },
   "outputs": [],
   "source": [
    "#hide\n",
    "overview = '''\n",
    "<!-- #######  HTML!! #########-->\n",
    "<h1 style=\"color: #5e9ca0; text-align: center;\">India</h1>\n",
    "<p style=\"text-align: center;\">Last update: <strong>{update}</strong></p>\n",
    "<p style=\"text-align: center;\">Confirmed cases:</p>\n",
    "<p style=\"text-align: center;font-size:24px;\">{cases} (<span style=\"color: #ff0000;\">+{new}</span>)</p>\n",
    "<p style=\"text-align: center;\">Confirmed deaths:</p>\n",
    "<p style=\"text-align: center;font-size:24px;\">{deaths} (<span style=\"color: #ff0000;\">+{dnew}</span>)</p>\n",
    "<p style=\"text-align: center;\">Recovered cases:</p>\n",
    "<p style=\"text-align: center;font-size:24px;\">{recovered} (<span style=\"color: #00ff00;\">+{rnew}</span>)</p>\n",
    "'''"
   ]
  },
  {
   "cell_type": "code",
   "execution_count": 10,
   "metadata": {
    "execution": {
     "iopub.execute_input": "2020-09-30T19:13:52.488736Z",
     "iopub.status.busy": "2020-09-30T19:13:52.488163Z",
     "iopub.status.idle": "2020-09-30T19:13:52.491282Z",
     "shell.execute_reply": "2020-09-30T19:13:52.490793Z"
    },
    "papermill": {
     "duration": 0.02265,
     "end_time": "2020-09-30T19:13:52.491400",
     "exception": false,
     "start_time": "2020-09-30T19:13:52.468750",
     "status": "completed"
    },
    "tags": []
   },
   "outputs": [
    {
     "data": {
      "text/html": [
       "\n",
       "<!-- #######  HTML!! #########-->\n",
       "<h1 style=\"color: #5e9ca0; text-align: center;\">India</h1>\n",
       "<p style=\"text-align: center;\">Last update: <strong>30-Sep-20</strong></p>\n",
       "<p style=\"text-align: center;\">Confirmed cases:</p>\n",
       "<p style=\"text-align: center;font-size:24px;\">6309634 (<span style=\"color: #ff0000;\">+86748</span>)</p>\n",
       "<p style=\"text-align: center;\">Confirmed deaths:</p>\n",
       "<p style=\"text-align: center;font-size:24px;\">98121 (<span style=\"color: #ff0000;\">+1179</span>)</p>\n",
       "<p style=\"text-align: center;\">Recovered cases:</p>\n",
       "<p style=\"text-align: center;font-size:24px;\">5269989 (<span style=\"color: #00ff00;\">+85274</span>)</p>\n"
      ],
      "text/plain": [
       "<IPython.core.display.HTML object>"
      ]
     },
     "metadata": {},
     "output_type": "display_data"
    }
   ],
   "source": [
    "#hide_input\n",
    "# Fill the above HTML with the information from the summary dictionary\n",
    "\n",
    "update = summary['updated']\n",
    "cases = summary['Cases']\n",
    "new = summary['Cases (+)']\n",
    "deaths = summary['Deaths']\n",
    "dnew = summary['Deaths (+)']\n",
    "recovered = summary['Recovered']\n",
    "rnew = summary['Recovered (+)']\n",
    "\n",
    "html = HTML(overview.format(update=update, cases=cases,new=new,deaths=deaths,dnew=dnew, recovered=recovered, rnew=rnew))\n",
    "\n",
    "display(html)"
   ]
  },
  {
   "cell_type": "code",
   "execution_count": 11,
   "metadata": {
    "execution": {
     "iopub.execute_input": "2020-09-30T19:13:52.531212Z",
     "iopub.status.busy": "2020-09-30T19:13:52.530735Z",
     "iopub.status.idle": "2020-09-30T19:13:52.532780Z",
     "shell.execute_reply": "2020-09-30T19:13:52.532382Z"
    },
    "papermill": {
     "duration": 0.027415,
     "end_time": "2020-09-30T19:13:52.532875",
     "exception": false,
     "start_time": "2020-09-30T19:13:52.505460",
     "status": "completed"
    },
    "tags": []
   },
   "outputs": [],
   "source": [
    "#hide\n",
    "df_cases = df[df['Status'] == 'Confirmed'].copy()\n",
    "df_cases.drop(columns = ['Status'], inplace=True)\n",
    "df_deaths = df[df['Status'] == 'Deceased'].copy()\n",
    "df_deaths.drop(columns = ['Status'], inplace=True)\n",
    "df_recovered = df[df['Status'] == 'Recovered'].copy()\n",
    "df_recovered.drop(columns = ['Status'], inplace=True)"
   ]
  },
  {
   "cell_type": "markdown",
   "metadata": {
    "papermill": {
     "duration": 0.014054,
     "end_time": "2020-09-30T19:13:52.560442",
     "exception": false,
     "start_time": "2020-09-30T19:13:52.546388",
     "status": "completed"
    },
    "tags": []
   },
   "source": [
    "Plot for India:"
   ]
  },
  {
   "cell_type": "code",
   "execution_count": 12,
   "metadata": {
    "execution": {
     "iopub.execute_input": "2020-09-30T19:13:52.612358Z",
     "iopub.status.busy": "2020-09-30T19:13:52.611781Z",
     "iopub.status.idle": "2020-09-30T19:13:52.853623Z",
     "shell.execute_reply": "2020-09-30T19:13:52.854129Z"
    },
    "papermill": {
     "duration": 0.279616,
     "end_time": "2020-09-30T19:13:52.854291",
     "exception": false,
     "start_time": "2020-09-30T19:13:52.574675",
     "status": "completed"
    },
    "tags": []
   },
   "outputs": [
    {
     "data": {
      "image/png": "[encoded data removed]",
      "text/plain": [
       "<Figure size 1296x432 with 1 Axes>"
      ]
     },
     "metadata": {
      "needs_background": "light"
     },
     "output_type": "display_data"
    }
   ],
   "source": [
    "#hide_input\n",
    "plt.figure(figsize = (18,6))\n",
    "plt.plot(df_cases['Date'], df_cases['TT'],'.-', alpha=0.7, color='b', label='Confirmed cases')\n",
    "plt.plot(df_recovered['Date'], df_recovered['TT'],'.-', alpha=0.7, color='g', label='Recovered')\n",
    "plt.plot(df_deaths['Date'], df_deaths['TT'],'.-', alpha=0.7, color='r', label='Deceased')\n",
    "plt.legend()\n",
    "plt.title(\"Cases per day in India\")\n",
    "plt.xticks(ticks=' ')\n",
    "plt.xlabel(f'{df_cases.iloc[0][0]} to {df_cases.iloc[-1][0]}')\n",
    "plt.ylabel('No. of cases');"
   ]
  },
  {
   "cell_type": "markdown",
   "metadata": {
    "papermill": {
     "duration": 0.015561,
     "end_time": "2020-09-30T19:13:52.886586",
     "exception": false,
     "start_time": "2020-09-30T19:13:52.871025",
     "status": "completed"
    },
    "tags": []
   },
   "source": [
    "Plots for the states with highest number of cases:"
   ]
  },
  {
   "cell_type": "code",
   "execution_count": 13,
   "metadata": {
    "execution": {
     "iopub.execute_input": "2020-09-30T19:13:52.928437Z",
     "iopub.status.busy": "2020-09-30T19:13:52.927881Z",
     "iopub.status.idle": "2020-09-30T19:13:53.512428Z",
     "shell.execute_reply": "2020-09-30T19:13:53.511873Z"
    },
    "papermill": {
     "duration": 0.610395,
     "end_time": "2020-09-30T19:13:53.512562",
     "exception": false,
     "start_time": "2020-09-30T19:13:52.902167",
     "status": "completed"
    },
    "tags": []
   },
   "outputs": [
    {
     "data": {
      "image/png": "[encoded data removed]",
      "text/plain": [
       "<Figure size 1512x432 with 3 Axes>"
      ]
     },
     "metadata": {
      "needs_background": "light"
     },
     "output_type": "display_data"
    }
   ],
   "source": [
    "#hide_input\n",
    "top_3 = sorted(df_cases.sum().values[1:], reverse=True)[1:4]\n",
    "top3_states=[]\n",
    "for i in top_3:\n",
    "    top3_states.append(df_cases.sum()[df_cases.sum() == i].index)\n",
    "\n",
    "\n",
    "fig, ax = plt.subplots(1,3,figsize = (21,6))\n",
    "for i in range(3):\n",
    "    state = top3_states[i].values[0]\n",
    "    ax[i].plot(df_cases['Date'], df_cases[state],'.-', color='b', alpha=0.7)\n",
    "    ax[i].plot(df_deaths['Date'], df_deaths[state],'.-', color='r', alpha=0.7)\n",
    "    ax[i].plot(df_recovered['Date'], df_recovered[state],'.-', color='g', alpha=0.7)\n",
    "    \n",
    "    ax[i].set_title(f\"Cases in {state}\")\n",
    "    ax[i].set_xticks(ticks=' ')\n",
    "    ax[i].set_xlabel(f'{df_cases.iloc[0][0]} to {df_cases.iloc[-1][0]}')\n",
    "    ax[i].set_ylabel('No. of cases');"
   ]
  },
  {
   "cell_type": "code",
   "execution_count": null,
   "metadata": {
    "papermill": {
     "duration": 0.019033,
     "end_time": "2020-09-30T19:13:53.550828",
     "exception": false,
     "start_time": "2020-09-30T19:13:53.531795",
     "status": "completed"
    },
    "tags": []
   },
   "outputs": [],
   "source": []
  },
  {
   "cell_type": "code",
   "execution_count": null,
   "metadata": {
    "papermill": {
     "duration": 0.018827,
     "end_time": "2020-09-30T19:13:53.588340",
     "exception": false,
     "start_time": "2020-09-30T19:13:53.569513",
     "status": "completed"
    },
    "tags": []
   },
   "outputs": [],
   "source": []
  },
  {
   "cell_type": "code",
   "execution_count": null,
   "metadata": {
    "papermill": {
     "duration": 0.019275,
     "end_time": "2020-09-30T19:13:53.627137",
     "exception": false,
     "start_time": "2020-09-30T19:13:53.607862",
     "status": "completed"
    },
    "tags": []
   },
   "outputs": [],
   "source": []
  }
 ],
 "metadata": {
  "kernelspec": {
   "display_name": "Python 3",
   "language": "python",
   "name": "python3"
  },
  "language_info": {
   "codemirror_mode": {
    "name": "ipython",
    "version": 3
   },
   "file_extension": ".py",
   "mimetype": "text/x-python",
   "name": "python",
   "nbconvert_exporter": "python",
   "pygments_lexer": "ipython3",
   "version": "3.6.12"
  },
  "papermill": {
   "duration": 3.884452,
   "end_time": "2020-09-30T19:13:53.955820",
   "environment_variables": {},
   "exception": null,
   "input_path": "2020-08-09-DailyUpdate.ipynb",
   "output_path": "2020-08-09-DailyUpdate.ipynb",
   "parameters": {},
   "start_time": "2020-09-30T19:13:50.071368",
   "version": "2.1.2"
  }
 },
 "nbformat": 4,
 "nbformat_minor": 4
}