{
 "cells": [
  {
   "cell_type": "markdown",
   "metadata": {
    "papermill": {
     "duration": 0.013199,
     "end_time": "2020-10-04T19:13:13.783650",
     "exception": false,
     "start_time": "2020-10-04T19:13:13.770451",
     "status": "completed"
    },
    "tags": []
   },
   "source": [
    "# COVID-19 India Daily updates\n",
    "> Tracking coronavirus total cases, deaths and new cases in India on a daily basis\n",
    "\n",
    "- author: Vaibhav Mahapatra"
   ]
  },
  {
   "cell_type": "code",
   "execution_count": 1,
   "metadata": {
    "execution": {
     "iopub.execute_input": "2020-10-04T19:13:13.812964Z",
     "iopub.status.busy": "2020-10-04T19:13:13.812321Z",
     "iopub.status.idle": "2020-10-04T19:13:14.339141Z",
     "shell.execute_reply": "2020-10-04T19:13:14.338417Z"
    },
    "papermill": {
     "duration": 0.542807,
     "end_time": "2020-10-04T19:13:14.339279",
     "exception": false,
     "start_time": "2020-10-04T19:13:13.796472",
     "status": "completed"
    },
    "tags": []
   },
   "outputs": [],
   "source": [
    "#hide\n",
    "\n",
    "## Import essential packages below\n",
    "\n",
    "import pandas as pd\n",
    "import numpy as np\n",
    "import requests\n",
    "import json\n",
    "import matplotlib.pyplot as plt\n",
    "import matplotlib.dates as mdates\n",
    "import matplotlib as mpl\n",
    "from IPython.core.display import display,HTML\n",
    "%matplotlib inline"
   ]
  },
  {
   "cell_type": "code",
   "execution_count": 2,
   "metadata": {
    "execution": {
     "iopub.execute_input": "2020-10-04T19:13:14.366516Z",
     "iopub.status.busy": "2020-10-04T19:13:14.366004Z",
     "iopub.status.idle": "2020-10-04T19:13:14.601048Z",
     "shell.execute_reply": "2020-10-04T19:13:14.601519Z"
    },
    "papermill": {
     "duration": 0.25132,
     "end_time": "2020-10-04T19:13:14.601693",
     "exception": false,
     "start_time": "2020-10-04T19:13:14.350373",
     "status": "completed"
    },
    "tags": []
   },
   "outputs": [
    {
     "data": {
      "text/plain": [
       "(615, 41)"
      ]
     },
     "execution_count": 2,
     "metadata": {},
     "output_type": "execute_result"
    }
   ],
   "source": [
    "#hide\n",
    "url = 'https://api.covid19india.org/csv/latest/state_wise_daily.csv'\n",
    "df = pd.read_csv(url)\n",
    "df.shape"
   ]
  },
  {
   "cell_type": "code",
   "execution_count": 3,
   "metadata": {
    "execution": {
     "iopub.execute_input": "2020-10-04T19:13:14.666533Z",
     "iopub.status.busy": "2020-10-04T19:13:14.665982Z",
     "iopub.status.idle": "2020-10-04T19:13:14.675419Z",
     "shell.execute_reply": "2020-10-04T19:13:14.674890Z"
    },
    "papermill": {
     "duration": 0.06261,
     "end_time": "2020-10-04T19:13:14.675536",
     "exception": false,
     "start_time": "2020-10-04T19:13:14.612926",
     "status": "completed"
    },
    "tags": []
   },
   "outputs": [
    {
     "data": {
      "text/html": [
       "<div>\n",
       "<style scoped>\n",
       "    .dataframe tbody tr th:only-of-type {\n",
       "        vertical-align: middle;\n",
       "    }\n",
       "\n",
       "    .dataframe tbody tr th {\n",
       "        vertical-align: top;\n",
       "    }\n",
       "\n",
       "    .dataframe thead th {\n",
       "        text-align: right;\n",
       "    }\n",
       "</style>\n",
       "<table border=\"1\" class=\"dataframe\">\n",
       "  <thead>\n",
       "    <tr style=\"text-align: right;\">\n",
       "      <th></th>\n",
       "      <th>Date</th>\n",
       "      <th>Status</th>\n",
       "      <th>TT</th>\n",
       "      <th>AN</th>\n",
       "      <th>AP</th>\n",
       "      <th>AR</th>\n",
       "      <th>AS</th>\n",
       "      <th>BR</th>\n",
       "      <th>CH</th>\n",
       "      <th>CT</th>\n",
       "      <th>...</th>\n",
       "      <th>PB</th>\n",
       "      <th>RJ</th>\n",
       "      <th>SK</th>\n",
       "      <th>TN</th>\n",
       "      <th>TG</th>\n",
       "      <th>TR</th>\n",
       "      <th>UP</th>\n",
       "      <th>UT</th>\n",
       "      <th>WB</th>\n",
       "      <th>UN</th>\n",
       "    </tr>\n",
       "  </thead>\n",
       "  <tbody>\n",
       "    <tr>\n",
       "      <th>609</th>\n",
       "      <td>03-Oct-20</td>\n",
       "      <td>Confirmed</td>\n",
       "      <td>75479</td>\n",
       "      <td>10</td>\n",
       "      <td>6224</td>\n",
       "      <td>201</td>\n",
       "      <td>1632</td>\n",
       "      <td>983</td>\n",
       "      <td>148</td>\n",
       "      <td>2610</td>\n",
       "      <td>...</td>\n",
       "      <td>1106</td>\n",
       "      <td>2150</td>\n",
       "      <td>39</td>\n",
       "      <td>5622</td>\n",
       "      <td>1718</td>\n",
       "      <td>190</td>\n",
       "      <td>3631</td>\n",
       "      <td>503</td>\n",
       "      <td>3340</td>\n",
       "      <td>0</td>\n",
       "    </tr>\n",
       "    <tr>\n",
       "      <th>610</th>\n",
       "      <td>03-Oct-20</td>\n",
       "      <td>Recovered</td>\n",
       "      <td>81655</td>\n",
       "      <td>11</td>\n",
       "      <td>7798</td>\n",
       "      <td>205</td>\n",
       "      <td>1813</td>\n",
       "      <td>1431</td>\n",
       "      <td>234</td>\n",
       "      <td>2982</td>\n",
       "      <td>...</td>\n",
       "      <td>1691</td>\n",
       "      <td>2003</td>\n",
       "      <td>39</td>\n",
       "      <td>5596</td>\n",
       "      <td>2002</td>\n",
       "      <td>301</td>\n",
       "      <td>4860</td>\n",
       "      <td>919</td>\n",
       "      <td>3013</td>\n",
       "      <td>0</td>\n",
       "    </tr>\n",
       "    <tr>\n",
       "      <th>611</th>\n",
       "      <td>03-Oct-20</td>\n",
       "      <td>Deceased</td>\n",
       "      <td>937</td>\n",
       "      <td>0</td>\n",
       "      <td>41</td>\n",
       "      <td>0</td>\n",
       "      <td>14</td>\n",
       "      <td>2</td>\n",
       "      <td>3</td>\n",
       "      <td>29</td>\n",
       "      <td>...</td>\n",
       "      <td>61</td>\n",
       "      <td>14</td>\n",
       "      <td>2</td>\n",
       "      <td>65</td>\n",
       "      <td>8</td>\n",
       "      <td>3</td>\n",
       "      <td>60</td>\n",
       "      <td>12</td>\n",
       "      <td>62</td>\n",
       "      <td>0</td>\n",
       "    </tr>\n",
       "    <tr>\n",
       "      <th>612</th>\n",
       "      <td>04-Oct-20</td>\n",
       "      <td>Confirmed</td>\n",
       "      <td>74726</td>\n",
       "      <td>16</td>\n",
       "      <td>6242</td>\n",
       "      <td>127</td>\n",
       "      <td>756</td>\n",
       "      <td>1261</td>\n",
       "      <td>85</td>\n",
       "      <td>1924</td>\n",
       "      <td>...</td>\n",
       "      <td>838</td>\n",
       "      <td>2184</td>\n",
       "      <td>43</td>\n",
       "      <td>5489</td>\n",
       "      <td>1949</td>\n",
       "      <td>322</td>\n",
       "      <td>3840</td>\n",
       "      <td>1419</td>\n",
       "      <td>3357</td>\n",
       "      <td>0</td>\n",
       "    </tr>\n",
       "    <tr>\n",
       "      <th>613</th>\n",
       "      <td>04-Oct-20</td>\n",
       "      <td>Recovered</td>\n",
       "      <td>76674</td>\n",
       "      <td>7</td>\n",
       "      <td>7084</td>\n",
       "      <td>189</td>\n",
       "      <td>1351</td>\n",
       "      <td>1314</td>\n",
       "      <td>202</td>\n",
       "      <td>2654</td>\n",
       "      <td>...</td>\n",
       "      <td>1509</td>\n",
       "      <td>2090</td>\n",
       "      <td>32</td>\n",
       "      <td>5558</td>\n",
       "      <td>2366</td>\n",
       "      <td>513</td>\n",
       "      <td>5226</td>\n",
       "      <td>392</td>\n",
       "      <td>2986</td>\n",
       "      <td>0</td>\n",
       "    </tr>\n",
       "    <tr>\n",
       "      <th>614</th>\n",
       "      <td>04-Oct-20</td>\n",
       "      <td>Deceased</td>\n",
       "      <td>902</td>\n",
       "      <td>0</td>\n",
       "      <td>40</td>\n",
       "      <td>0</td>\n",
       "      <td>14</td>\n",
       "      <td>3</td>\n",
       "      <td>2</td>\n",
       "      <td>13</td>\n",
       "      <td>...</td>\n",
       "      <td>41</td>\n",
       "      <td>15</td>\n",
       "      <td>2</td>\n",
       "      <td>66</td>\n",
       "      <td>10</td>\n",
       "      <td>4</td>\n",
       "      <td>52</td>\n",
       "      <td>4</td>\n",
       "      <td>62</td>\n",
       "      <td>0</td>\n",
       "    </tr>\n",
       "  </tbody>\n",
       "</table>\n",
       "<p>6 rows × 41 columns</p>\n",
       "</div>"
      ],
      "text/plain": [
       "          Date     Status     TT  AN    AP   AR    AS    BR   CH    CT  ...  \\\n",
       "609  03-Oct-20  Confirmed  75479  10  6224  201  1632   983  148  2610  ...   \n",
       "610  03-Oct-20  Recovered  81655  11  7798  205  1813  1431  234  2982  ...   \n",
       "611  03-Oct-20   Deceased    937   0    41    0    14     2    3    29  ...   \n",
       "612  04-Oct-20  Confirmed  74726  16  6242  127   756  1261   85  1924  ...   \n",
       "613  04-Oct-20  Recovered  76674   7  7084  189  1351  1314  202  2654  ...   \n",
       "614  04-Oct-20   Deceased    902   0    40    0    14     3    2    13  ...   \n",
       "\n",
       "       PB    RJ  SK    TN    TG   TR    UP    UT    WB  UN  \n",
       "609  1106  2150  39  5622  1718  190  3631   503  3340   0  \n",
       "610  1691  2003  39  5596  2002  301  4860   919  3013   0  \n",
       "611    61    14   2    65     8    3    60    12    62   0  \n",
       "612   838  2184  43  5489  1949  322  3840  1419  3357   0  \n",
       "613  1509  2090  32  5558  2366  513  5226   392  2986   0  \n",
       "614    41    15   2    66    10    4    52     4    62   0  \n",
       "\n",
       "[6 rows x 41 columns]"
      ]
     },
     "execution_count": 3,
     "metadata": {},
     "output_type": "execute_result"
    }
   ],
   "source": [
    "#hide\n",
    "df.tail(6)"
   ]
  },
  {
   "cell_type": "code",
   "execution_count": 4,
   "metadata": {
    "execution": {
     "iopub.execute_input": "2020-10-04T19:13:14.703271Z",
     "iopub.status.busy": "2020-10-04T19:13:14.702722Z",
     "iopub.status.idle": "2020-10-04T19:13:14.705531Z",
     "shell.execute_reply": "2020-10-04T19:13:14.705122Z"
    },
    "papermill": {
     "duration": 0.018479,
     "end_time": "2020-10-04T19:13:14.705637",
     "exception": false,
     "start_time": "2020-10-04T19:13:14.687158",
     "status": "completed"
    },
    "tags": []
   },
   "outputs": [
    {
     "data": {
      "text/plain": [
       "('04-Oct-20', '03-Oct-20')"
      ]
     },
     "execution_count": 4,
     "metadata": {},
     "output_type": "execute_result"
    }
   ],
   "source": [
    "#hide\n",
    "dt_today = df.iloc[-1][0]\n",
    "dt_yday = df.iloc[-4][0]\n",
    "dt_today, dt_yday"
   ]
  },
  {
   "cell_type": "code",
   "execution_count": 5,
   "metadata": {
    "execution": {
     "iopub.execute_input": "2020-10-04T19:13:14.734371Z",
     "iopub.status.busy": "2020-10-04T19:13:14.733825Z",
     "iopub.status.idle": "2020-10-04T19:13:14.740354Z",
     "shell.execute_reply": "2020-10-04T19:13:14.739917Z"
    },
    "papermill": {
     "duration": 0.023586,
     "end_time": "2020-10-04T19:13:14.740466",
     "exception": false,
     "start_time": "2020-10-04T19:13:14.716880",
     "status": "completed"
    },
    "tags": []
   },
   "outputs": [],
   "source": [
    "#hide\n",
    "df_today = df.groupby('Status').sum()\n",
    "df_yday = df.iloc[:-3][:].groupby('Status').sum()"
   ]
  },
  {
   "cell_type": "code",
   "execution_count": 6,
   "metadata": {
    "execution": {
     "iopub.execute_input": "2020-10-04T19:13:14.776402Z",
     "iopub.status.busy": "2020-10-04T19:13:14.775891Z",
     "iopub.status.idle": "2020-10-04T19:13:14.778693Z",
     "shell.execute_reply": "2020-10-04T19:13:14.778263Z"
    },
    "papermill": {
     "duration": 0.027226,
     "end_time": "2020-10-04T19:13:14.778794",
     "exception": false,
     "start_time": "2020-10-04T19:13:14.751568",
     "status": "completed"
    },
    "tags": []
   },
   "outputs": [
    {
     "data": {
      "text/html": [
       "<div>\n",
       "<style scoped>\n",
       "    .dataframe tbody tr th:only-of-type {\n",
       "        vertical-align: middle;\n",
       "    }\n",
       "\n",
       "    .dataframe tbody tr th {\n",
       "        vertical-align: top;\n",
       "    }\n",
       "\n",
       "    .dataframe thead th {\n",
       "        text-align: right;\n",
       "    }\n",
       "</style>\n",
       "<table border=\"1\" class=\"dataframe\">\n",
       "  <thead>\n",
       "    <tr style=\"text-align: right;\">\n",
       "      <th></th>\n",
       "      <th>TT</th>\n",
       "      <th>AN</th>\n",
       "      <th>AP</th>\n",
       "      <th>AR</th>\n",
       "      <th>AS</th>\n",
       "      <th>BR</th>\n",
       "      <th>CH</th>\n",
       "      <th>CT</th>\n",
       "      <th>DN</th>\n",
       "      <th>DD</th>\n",
       "      <th>...</th>\n",
       "      <th>PB</th>\n",
       "      <th>RJ</th>\n",
       "      <th>SK</th>\n",
       "      <th>TN</th>\n",
       "      <th>TG</th>\n",
       "      <th>TR</th>\n",
       "      <th>UP</th>\n",
       "      <th>UT</th>\n",
       "      <th>WB</th>\n",
       "      <th>UN</th>\n",
       "    </tr>\n",
       "    <tr>\n",
       "      <th>Status</th>\n",
       "      <th></th>\n",
       "      <th></th>\n",
       "      <th></th>\n",
       "      <th></th>\n",
       "      <th></th>\n",
       "      <th></th>\n",
       "      <th></th>\n",
       "      <th></th>\n",
       "      <th></th>\n",
       "      <th></th>\n",
       "      <th></th>\n",
       "      <th></th>\n",
       "      <th></th>\n",
       "      <th></th>\n",
       "      <th></th>\n",
       "      <th></th>\n",
       "      <th></th>\n",
       "      <th></th>\n",
       "      <th></th>\n",
       "      <th></th>\n",
       "      <th></th>\n",
       "    </tr>\n",
       "  </thead>\n",
       "  <tbody>\n",
       "    <tr>\n",
       "      <th>Confirmed</th>\n",
       "      <td>6621507</td>\n",
       "      <td>3880</td>\n",
       "      <td>719256</td>\n",
       "      <td>10548</td>\n",
       "      <td>186098</td>\n",
       "      <td>187951</td>\n",
       "      <td>12445</td>\n",
       "      <td>123324</td>\n",
       "      <td>3085</td>\n",
       "      <td>0</td>\n",
       "      <td>...</td>\n",
       "      <td>118157</td>\n",
       "      <td>144030</td>\n",
       "      <td>3106</td>\n",
       "      <td>619996</td>\n",
       "      <td>198766</td>\n",
       "      <td>26871</td>\n",
       "      <td>414466</td>\n",
       "      <td>51481</td>\n",
       "      <td>270331</td>\n",
       "      <td>0</td>\n",
       "    </tr>\n",
       "    <tr>\n",
       "      <th>Deceased</th>\n",
       "      <td>102127</td>\n",
       "      <td>53</td>\n",
       "      <td>5981</td>\n",
       "      <td>18</td>\n",
       "      <td>753</td>\n",
       "      <td>915</td>\n",
       "      <td>174</td>\n",
       "      <td>1044</td>\n",
       "      <td>2</td>\n",
       "      <td>0</td>\n",
       "      <td>...</td>\n",
       "      <td>3603</td>\n",
       "      <td>1545</td>\n",
       "      <td>45</td>\n",
       "      <td>9784</td>\n",
       "      <td>1163</td>\n",
       "      <td>290</td>\n",
       "      <td>6029</td>\n",
       "      <td>652</td>\n",
       "      <td>5194</td>\n",
       "      <td>0</td>\n",
       "    </tr>\n",
       "    <tr>\n",
       "      <th>Recovered</th>\n",
       "      <td>5583392</td>\n",
       "      <td>3640</td>\n",
       "      <td>658875</td>\n",
       "      <td>7577</td>\n",
       "      <td>152124</td>\n",
       "      <td>175109</td>\n",
       "      <td>10598</td>\n",
       "      <td>93731</td>\n",
       "      <td>2940</td>\n",
       "      <td>0</td>\n",
       "      <td>...</td>\n",
       "      <td>100977</td>\n",
       "      <td>121331</td>\n",
       "      <td>2400</td>\n",
       "      <td>564092</td>\n",
       "      <td>170212</td>\n",
       "      <td>21387</td>\n",
       "      <td>362052</td>\n",
       "      <td>41487</td>\n",
       "      <td>237698</td>\n",
       "      <td>0</td>\n",
       "    </tr>\n",
       "  </tbody>\n",
       "</table>\n",
       "<p>3 rows × 39 columns</p>\n",
       "</div>"
      ],
      "text/plain": [
       "                TT    AN      AP     AR      AS      BR     CH      CT    DN  \\\n",
       "Status                                                                         \n",
       "Confirmed  6621507  3880  719256  10548  186098  187951  12445  123324  3085   \n",
       "Deceased    102127    53    5981     18     753     915    174    1044     2   \n",
       "Recovered  5583392  3640  658875   7577  152124  175109  10598   93731  2940   \n",
       "\n",
       "           DD  ...      PB      RJ    SK      TN      TG     TR      UP  \\\n",
       "Status         ...                                                        \n",
       "Confirmed   0  ...  118157  144030  3106  619996  198766  26871  414466   \n",
       "Deceased    0  ...    3603    1545    45    9784    1163    290    6029   \n",
       "Recovered   0  ...  100977  121331  2400  564092  170212  21387  362052   \n",
       "\n",
       "              UT      WB  UN  \n",
       "Status                        \n",
       "Confirmed  51481  270331   0  \n",
       "Deceased     652    5194   0  \n",
       "Recovered  41487  237698   0  \n",
       "\n",
       "[3 rows x 39 columns]"
      ]
     },
     "execution_count": 6,
     "metadata": {},
     "output_type": "execute_result"
    }
   ],
   "source": [
    "#hide\n",
    "df_today"
   ]
  },
  {
   "cell_type": "code",
   "execution_count": 7,
   "metadata": {
    "execution": {
     "iopub.execute_input": "2020-10-04T19:13:14.807961Z",
     "iopub.status.busy": "2020-10-04T19:13:14.807434Z",
     "iopub.status.idle": "2020-10-04T19:13:14.820091Z",
     "shell.execute_reply": "2020-10-04T19:13:14.819610Z"
    },
    "papermill": {
     "duration": 0.029029,
     "end_time": "2020-10-04T19:13:14.820194",
     "exception": false,
     "start_time": "2020-10-04T19:13:14.791165",
     "status": "completed"
    },
    "tags": []
   },
   "outputs": [
    {
     "data": {
      "text/html": [
       "<div>\n",
       "<style scoped>\n",
       "    .dataframe tbody tr th:only-of-type {\n",
       "        vertical-align: middle;\n",
       "    }\n",
       "\n",
       "    .dataframe tbody tr th {\n",
       "        vertical-align: top;\n",
       "    }\n",
       "\n",
       "    .dataframe thead th {\n",
       "        text-align: right;\n",
       "    }\n",
       "</style>\n",
       "<table border=\"1\" class=\"dataframe\">\n",
       "  <thead>\n",
       "    <tr style=\"text-align: right;\">\n",
       "      <th></th>\n",
       "      <th>TT</th>\n",
       "      <th>AN</th>\n",
       "      <th>AP</th>\n",
       "      <th>AR</th>\n",
       "      <th>AS</th>\n",
       "      <th>BR</th>\n",
       "      <th>CH</th>\n",
       "      <th>CT</th>\n",
       "      <th>DN</th>\n",
       "      <th>DD</th>\n",
       "      <th>...</th>\n",
       "      <th>PB</th>\n",
       "      <th>RJ</th>\n",
       "      <th>SK</th>\n",
       "      <th>TN</th>\n",
       "      <th>TG</th>\n",
       "      <th>TR</th>\n",
       "      <th>UP</th>\n",
       "      <th>UT</th>\n",
       "      <th>WB</th>\n",
       "      <th>UN</th>\n",
       "    </tr>\n",
       "    <tr>\n",
       "      <th>Status</th>\n",
       "      <th></th>\n",
       "      <th></th>\n",
       "      <th></th>\n",
       "      <th></th>\n",
       "      <th></th>\n",
       "      <th></th>\n",
       "      <th></th>\n",
       "      <th></th>\n",
       "      <th></th>\n",
       "      <th></th>\n",
       "      <th></th>\n",
       "      <th></th>\n",
       "      <th></th>\n",
       "      <th></th>\n",
       "      <th></th>\n",
       "      <th></th>\n",
       "      <th></th>\n",
       "      <th></th>\n",
       "      <th></th>\n",
       "      <th></th>\n",
       "      <th></th>\n",
       "    </tr>\n",
       "  </thead>\n",
       "  <tbody>\n",
       "    <tr>\n",
       "      <th>Confirmed</th>\n",
       "      <td>6546781</td>\n",
       "      <td>3864</td>\n",
       "      <td>713014</td>\n",
       "      <td>10421</td>\n",
       "      <td>185342</td>\n",
       "      <td>186690</td>\n",
       "      <td>12360</td>\n",
       "      <td>121400</td>\n",
       "      <td>3068</td>\n",
       "      <td>0</td>\n",
       "      <td>...</td>\n",
       "      <td>117319</td>\n",
       "      <td>141846</td>\n",
       "      <td>3063</td>\n",
       "      <td>614507</td>\n",
       "      <td>196817</td>\n",
       "      <td>26549</td>\n",
       "      <td>410626</td>\n",
       "      <td>50062</td>\n",
       "      <td>266974</td>\n",
       "      <td>0</td>\n",
       "    </tr>\n",
       "    <tr>\n",
       "      <th>Deceased</th>\n",
       "      <td>101225</td>\n",
       "      <td>53</td>\n",
       "      <td>5941</td>\n",
       "      <td>18</td>\n",
       "      <td>739</td>\n",
       "      <td>912</td>\n",
       "      <td>172</td>\n",
       "      <td>1031</td>\n",
       "      <td>2</td>\n",
       "      <td>0</td>\n",
       "      <td>...</td>\n",
       "      <td>3562</td>\n",
       "      <td>1530</td>\n",
       "      <td>43</td>\n",
       "      <td>9718</td>\n",
       "      <td>1153</td>\n",
       "      <td>286</td>\n",
       "      <td>5977</td>\n",
       "      <td>648</td>\n",
       "      <td>5132</td>\n",
       "      <td>0</td>\n",
       "    </tr>\n",
       "    <tr>\n",
       "      <th>Recovered</th>\n",
       "      <td>5506718</td>\n",
       "      <td>3633</td>\n",
       "      <td>651791</td>\n",
       "      <td>7388</td>\n",
       "      <td>150773</td>\n",
       "      <td>173795</td>\n",
       "      <td>10396</td>\n",
       "      <td>91077</td>\n",
       "      <td>2929</td>\n",
       "      <td>0</td>\n",
       "      <td>...</td>\n",
       "      <td>99468</td>\n",
       "      <td>119241</td>\n",
       "      <td>2368</td>\n",
       "      <td>558534</td>\n",
       "      <td>167846</td>\n",
       "      <td>20874</td>\n",
       "      <td>356826</td>\n",
       "      <td>41095</td>\n",
       "      <td>234712</td>\n",
       "      <td>0</td>\n",
       "    </tr>\n",
       "  </tbody>\n",
       "</table>\n",
       "<p>3 rows × 39 columns</p>\n",
       "</div>"
      ],
      "text/plain": [
       "                TT    AN      AP     AR      AS      BR     CH      CT    DN  \\\n",
       "Status                                                                         \n",
       "Confirmed  6546781  3864  713014  10421  185342  186690  12360  121400  3068   \n",
       "Deceased    101225    53    5941     18     739     912    172    1031     2   \n",
       "Recovered  5506718  3633  651791   7388  150773  173795  10396   91077  2929   \n",
       "\n",
       "           DD  ...      PB      RJ    SK      TN      TG     TR      UP  \\\n",
       "Status         ...                                                        \n",
       "Confirmed   0  ...  117319  141846  3063  614507  196817  26549  410626   \n",
       "Deceased    0  ...    3562    1530    43    9718    1153    286    5977   \n",
       "Recovered   0  ...   99468  119241  2368  558534  167846  20874  356826   \n",
       "\n",
       "              UT      WB  UN  \n",
       "Status                        \n",
       "Confirmed  50062  266974   0  \n",
       "Deceased     648    5132   0  \n",
       "Recovered  41095  234712   0  \n",
       "\n",
       "[3 rows x 39 columns]"
      ]
     },
     "execution_count": 7,
     "metadata": {},
     "output_type": "execute_result"
    }
   ],
   "source": [
    "#hide\n",
    "df_yday.head()"
   ]
  },
  {
   "cell_type": "code",
   "execution_count": 8,
   "metadata": {
    "execution": {
     "iopub.execute_input": "2020-10-04T19:13:14.851970Z",
     "iopub.status.busy": "2020-10-04T19:13:14.851432Z",
     "iopub.status.idle": "2020-10-04T19:13:14.854053Z",
     "shell.execute_reply": "2020-10-04T19:13:14.854534Z"
    },
    "papermill": {
     "duration": 0.021369,
     "end_time": "2020-10-04T19:13:14.854645",
     "exception": false,
     "start_time": "2020-10-04T19:13:14.833276",
     "status": "completed"
    },
    "tags": []
   },
   "outputs": [
    {
     "data": {
      "text/plain": [
       "{'updated': '04-Oct-20',\n",
       " 'since': '03-Oct-20',\n",
       " 'Cases': 6621507,\n",
       " 'Deaths': 102127,\n",
       " 'Recovered': 5583392,\n",
       " 'PCases': 6546781,\n",
       " 'PDeaths': 101225,\n",
       " 'PRecovered': 5506718,\n",
       " 'Cases (+)': 74726,\n",
       " 'Deaths (+)': 902,\n",
       " 'Recovered (+)': 76674}"
      ]
     },
     "execution_count": 8,
     "metadata": {},
     "output_type": "execute_result"
    }
   ],
   "source": [
    "#hide\n",
    "summary = {\n",
    "    'updated' : dt_today,\n",
    "    'since' : dt_yday,\n",
    "    'Cases' : df_today['TT'][0],\n",
    "    'Deaths' : df_today['TT'][1],\n",
    "    'Recovered' : df_today['TT'][2],\n",
    "    'PCases' : df_yday['TT'][0],\n",
    "    'PDeaths' : df_yday['TT'][1],\n",
    "    'PRecovered': df_yday['TT'][2],\n",
    "    'Cases (+)' : df_today['TT'][0] - df_yday['TT'][0],\n",
    "    'Deaths (+)' : df_today['TT'][1] - df_yday['TT'][1],\n",
    "    'Recovered (+)': df_today['TT'][2] - df_yday['TT'][2]\n",
    "}\n",
    "\n",
    "summary"
   ]
  },
  {
   "cell_type": "code",
   "execution_count": 9,
   "metadata": {
    "execution": {
     "iopub.execute_input": "2020-10-04T19:13:14.883276Z",
     "iopub.status.busy": "2020-10-04T19:13:14.882758Z",
     "iopub.status.idle": "2020-10-04T19:13:14.884535Z",
     "shell.execute_reply": "2020-10-04T19:13:14.884947Z"
    },
    "papermill": {
     "duration": 0.017724,
     "end_time": "2020-10-04T19:13:14.885065",
     "exception": false,
     "start_time": "2020-10-04T19:13:14.867341",
     "status": "completed"
    },
    "tags": []
   },
   "outputs": [],
   "source": [
    "#hide\n",
    "overview = '''\n",
    "<!-- #######  HTML!! #########-->\n",
    "<h1 style=\"color: #5e9ca0; text-align: center;\">India</h1>\n",
    "<p style=\"text-align: center;\">Last update: <strong>{update}</strong></p>\n",
    "<p style=\"text-align: center;\">Confirmed cases:</p>\n",
    "<p style=\"text-align: center;font-size:24px;\">{cases} (<span style=\"color: #ff0000;\">+{new}</span>)</p>\n",
    "<p style=\"text-align: center;\">Confirmed deaths:</p>\n",
    "<p style=\"text-align: center;font-size:24px;\">{deaths} (<span style=\"color: #ff0000;\">+{dnew}</span>)</p>\n",
    "<p style=\"text-align: center;\">Recovered cases:</p>\n",
    "<p style=\"text-align: center;font-size:24px;\">{recovered} (<span style=\"color: #00ff00;\">+{rnew}</span>)</p>\n",
    "'''"
   ]
  },
  {
   "cell_type": "code",
   "execution_count": 10,
   "metadata": {
    "execution": {
     "iopub.execute_input": "2020-10-04T19:13:14.915964Z",
     "iopub.status.busy": "2020-10-04T19:13:14.915347Z",
     "iopub.status.idle": "2020-10-04T19:13:14.918318Z",
     "shell.execute_reply": "2020-10-04T19:13:14.917821Z"
    },
    "papermill": {
     "duration": 0.020484,
     "end_time": "2020-10-04T19:13:14.918420",
     "exception": false,
     "start_time": "2020-10-04T19:13:14.897936",
     "status": "completed"
    },
    "tags": []
   },
   "outputs": [
    {
     "data": {
      "text/html": [
       "\n",
       "<!-- #######  HTML!! #########-->\n",
       "<h1 style=\"color: #5e9ca0; text-align: center;\">India</h1>\n",
       "<p style=\"text-align: center;\">Last update: <strong>04-Oct-20</strong></p>\n",
       "<p style=\"text-align: center;\">Confirmed cases:</p>\n",
       "<p style=\"text-align: center;font-size:24px;\">6621507 (<span style=\"color: #ff0000;\">+74726</span>)</p>\n",
       "<p style=\"text-align: center;\">Confirmed deaths:</p>\n",
       "<p style=\"text-align: center;font-size:24px;\">102127 (<span style=\"color: #ff0000;\">+902</span>)</p>\n",
       "<p style=\"text-align: center;\">Recovered cases:</p>\n",
       "<p style=\"text-align: center;font-size:24px;\">5583392 (<span style=\"color: #00ff00;\">+76674</span>)</p>\n"
      ],
      "text/plain": [
       "<IPython.core.display.HTML object>"
      ]
     },
     "metadata": {},
     "output_type": "display_data"
    }
   ],
   "source": [
    "#hide_input\n",
    "# Fill the above HTML with the information from the summary dictionary\n",
    "\n",
    "update = summary['updated']\n",
    "cases = summary['Cases']\n",
    "new = summary['Cases (+)']\n",
    "deaths = summary['Deaths']\n",
    "dnew = summary['Deaths (+)']\n",
    "recovered = summary['Recovered']\n",
    "rnew = summary['Recovered (+)']\n",
    "\n",
    "html = HTML(overview.format(update=update, cases=cases,new=new,deaths=deaths,dnew=dnew, recovered=recovered, rnew=rnew))\n",
    "\n",
    "display(html)"
   ]
  },
  {
   "cell_type": "code",
   "execution_count": 11,
   "metadata": {
    "execution": {
     "iopub.execute_input": "2020-10-04T19:13:14.953785Z",
     "iopub.status.busy": "2020-10-04T19:13:14.953271Z",
     "iopub.status.idle": "2020-10-04T19:13:14.955719Z",
     "shell.execute_reply": "2020-10-04T19:13:14.955271Z"
    },
    "papermill": {
     "duration": 0.023728,
     "end_time": "2020-10-04T19:13:14.955821",
     "exception": false,
     "start_time": "2020-10-04T19:13:14.932093",
     "status": "completed"
    },
    "tags": []
   },
   "outputs": [],
   "source": [
    "#hide\n",
    "df_cases = df[df['Status'] == 'Confirmed'].copy()\n",
    "df_cases.drop(columns = ['Status'], inplace=True)\n",
    "df_deaths = df[df['Status'] == 'Deceased'].copy()\n",
    "df_deaths.drop(columns = ['Status'], inplace=True)\n",
    "df_recovered = df[df['Status'] == 'Recovered'].copy()\n",
    "df_recovered.drop(columns = ['Status'], inplace=True)"
   ]
  },
  {
   "cell_type": "markdown",
   "metadata": {
    "papermill": {
     "duration": 0.012566,
     "end_time": "2020-10-04T19:13:14.981032",
     "exception": false,
     "start_time": "2020-10-04T19:13:14.968466",
     "status": "completed"
    },
    "tags": []
   },
   "source": [
    "Plot for India:"
   ]
  },
  {
   "cell_type": "code",
   "execution_count": 12,
   "metadata": {
    "execution": {
     "iopub.execute_input": "2020-10-04T19:13:15.030264Z",
     "iopub.status.busy": "2020-10-04T19:13:15.029559Z",
     "iopub.status.idle": "2020-10-04T19:13:15.298000Z",
     "shell.execute_reply": "2020-10-04T19:13:15.298525Z"
    },
    "papermill": {
     "duration": 0.303975,
     "end_time": "2020-10-04T19:13:15.298710",
     "exception": false,
     "start_time": "2020-10-04T19:13:14.994735",
     "status": "completed"
    },
    "tags": []
   },
   "outputs": [
    {
     "data": {
      "image/png": "[encoded data removed]",
      "text/plain": [
       "<Figure size 1296x432 with 1 Axes>"
      ]
     },
     "metadata": {
      "needs_background": "light"
     },
     "output_type": "display_data"
    }
   ],
   "source": [
    "#hide_input\n",
    "plt.figure(figsize = (18,6))\n",
    "plt.plot(df_cases['Date'], df_cases['TT'],'.-', alpha=0.7, color='b', label='Confirmed cases')\n",
    "plt.plot(df_recovered['Date'], df_recovered['TT'],'.-', alpha=0.7, color='g', label='Recovered')\n",
    "plt.plot(df_deaths['Date'], df_deaths['TT'],'.-', alpha=0.7, color='r', label='Deceased')\n",
    "plt.legend()\n",
    "plt.title(\"Cases per day in India\")\n",
    "plt.xticks(ticks=' ')\n",
    "plt.xlabel(f'{df_cases.iloc[0][0]} to {df_cases.iloc[-1][0]}')\n",
    "plt.ylabel('No. of cases');"
   ]
  },
  {
   "cell_type": "markdown",
   "metadata": {
    "papermill": {
     "duration": 0.01534,
     "end_time": "2020-10-04T19:13:15.330596",
     "exception": false,
     "start_time": "2020-10-04T19:13:15.315256",
     "status": "completed"
    },
    "tags": []
   },
   "source": [
    "Plots for the states with highest number of cases:"
   ]
  },
  {
   "cell_type": "code",
   "execution_count": 13,
   "metadata": {
    "execution": {
     "iopub.execute_input": "2020-10-04T19:13:15.369812Z",
     "iopub.status.busy": "2020-10-04T19:13:15.369248Z",
     "iopub.status.idle": "2020-10-04T19:13:15.989155Z",
     "shell.execute_reply": "2020-10-04T19:13:15.989581Z"
    },
    "papermill": {
     "duration": 0.643892,
     "end_time": "2020-10-04T19:13:15.989725",
     "exception": false,
     "start_time": "2020-10-04T19:13:15.345833",
     "status": "completed"
    },
    "tags": []
   },
   "outputs": [
    {
     "data": {
      "image/png": "[encoded data removed]",
      "text/plain": [
       "<Figure size 1512x432 with 3 Axes>"
      ]
     },
     "metadata": {
      "needs_background": "light"
     },
     "output_type": "display_data"
    }
   ],
   "source": [
    "#hide_input\n",
    "top_3 = sorted(df_cases.sum().values[1:], reverse=True)[1:4]\n",
    "top3_states=[]\n",
    "for i in top_3:\n",
    "    top3_states.append(df_cases.sum()[df_cases.sum() == i].index)\n",
    "\n",
    "\n",
    "fig, ax = plt.subplots(1,3,figsize = (21,6))\n",
    "for i in range(3):\n",
    "    state = top3_states[i].values[0]\n",
    "    ax[i].plot(df_cases['Date'], df_cases[state],'.-', color='b', alpha=0.7)\n",
    "    ax[i].plot(df_deaths['Date'], df_deaths[state],'.-', color='r', alpha=0.7)\n",
    "    ax[i].plot(df_recovered['Date'], df_recovered[state],'.-', color='g', alpha=0.7)\n",
    "    \n",
    "    ax[i].set_title(f\"Cases in {state}\")\n",
    "    ax[i].set_xticks(ticks=' ')\n",
    "    ax[i].set_xlabel(f'{df_cases.iloc[0][0]} to {df_cases.iloc[-1][0]}')\n",
    "    ax[i].set_ylabel('No. of cases');"
   ]
  },
  {
   "cell_type": "code",
   "execution_count": null,
   "metadata": {
    "papermill": {
     "duration": 0.016864,
     "end_time": "2020-10-04T19:13:16.024414",
     "exception": false,
     "start_time": "2020-10-04T19:13:16.007550",
     "status": "completed"
    },
    "tags": []
   },
   "outputs": [],
   "source": []
  },
  {
   "cell_type": "code",
   "execution_count": null,
   "metadata": {
    "papermill": {
     "duration": 0.01579,
     "end_time": "2020-10-04T19:13:16.055859",
     "exception": false,
     "start_time": "2020-10-04T19:13:16.040069",
     "status": "completed"
    },
    "tags": []
   },
   "outputs": [],
   "source": []
  },
  {
   "cell_type": "code",
   "execution_count": null,
   "metadata": {
    "papermill": {
     "duration": 0.015505,
     "end_time": "2020-10-04T19:13:16.087684",
     "exception": false,
     "start_time": "2020-10-04T19:13:16.072179",
     "status": "completed"
    },
    "tags": []
   },
   "outputs": [],
   "source": []
  }
 ],
 "metadata": {
  "kernelspec": {
   "display_name": "Python 3",
   "language": "python",
   "name": "python3"
  },
  "language_info": {
   "codemirror_mode": {
    "name": "ipython",
    "version": 3
   },
   "file_extension": ".py",
   "mimetype": "text/x-python",
   "name": "python",
   "nbconvert_exporter": "python",
   "pygments_lexer": "ipython3",
   "version": "3.6.12"
  },
  "papermill": {
   "duration": 3.674057,
   "end_time": "2020-10-04T19:13:16.412034",
   "environment_variables": {},
   "exception": null,
   "input_path": "2020-08-09-DailyUpdate.ipynb",
   "output_path": "2020-08-09-DailyUpdate.ipynb",
   "parameters": {},
   "start_time": "2020-10-04T19:13:12.737977",
   "version": "2.1.2"
  }
 },
 "nbformat": 4,
 "nbformat_minor": 4
}