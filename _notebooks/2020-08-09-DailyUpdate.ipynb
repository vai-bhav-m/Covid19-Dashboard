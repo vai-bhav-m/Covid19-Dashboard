{
 "cells": [
  {
   "cell_type": "markdown",
   "metadata": {
    "papermill": {
     "duration": 0.018358,
     "end_time": "2020-08-25T19:10:48.375605",
     "exception": false,
     "start_time": "2020-08-25T19:10:48.357247",
     "status": "completed"
    },
    "tags": []
   },
   "source": [
    "# COVID-19 India Daily updates\n",
    "> Tracking coronavirus total cases, deaths and new cases in India on a daily basis\n",
    "\n",
    "- author: Vaibhav Mahapatra"
   ]
  },
  {
   "cell_type": "code",
   "execution_count": 1,
   "metadata": {
    "execution": {
     "iopub.execute_input": "2020-08-25T19:10:48.405919Z",
     "iopub.status.busy": "2020-08-25T19:10:48.405292Z",
     "iopub.status.idle": "2020-08-25T19:10:48.953441Z",
     "shell.execute_reply": "2020-08-25T19:10:48.952868Z"
    },
    "papermill": {
     "duration": 0.565143,
     "end_time": "2020-08-25T19:10:48.953596",
     "exception": false,
     "start_time": "2020-08-25T19:10:48.388453",
     "status": "completed"
    },
    "tags": []
   },
   "outputs": [],
   "source": [
    "#hide\n",
    "\n",
    "## Import essential packages below\n",
    "\n",
    "import pandas as pd\n",
    "import numpy as np\n",
    "import requests\n",
    "import json\n",
    "import matplotlib.pyplot as plt\n",
    "import matplotlib.dates as mdates\n",
    "import matplotlib as mpl\n",
    "from IPython.core.display import display,HTML\n",
    "%matplotlib inline"
   ]
  },
  {
   "cell_type": "code",
   "execution_count": 2,
   "metadata": {
    "execution": {
     "iopub.execute_input": "2020-08-25T19:10:48.982724Z",
     "iopub.status.busy": "2020-08-25T19:10:48.981813Z",
     "iopub.status.idle": "2020-08-25T19:10:49.152309Z",
     "shell.execute_reply": "2020-08-25T19:10:49.152729Z"
    },
    "papermill": {
     "duration": 0.18732,
     "end_time": "2020-08-25T19:10:49.152868",
     "exception": false,
     "start_time": "2020-08-25T19:10:48.965548",
     "status": "completed"
    },
    "tags": []
   },
   "outputs": [
    {
     "data": {
      "text/plain": [
       "(495, 41)"
      ]
     },
     "execution_count": 2,
     "metadata": {},
     "output_type": "execute_result"
    }
   ],
   "source": [
    "#hide\n",
    "url = 'https://api.covid19india.org/csv/latest/state_wise_daily.csv'\n",
    "df = pd.read_csv(url)\n",
    "df.shape"
   ]
  },
  {
   "cell_type": "code",
   "execution_count": 3,
   "metadata": {
    "execution": {
     "iopub.execute_input": "2020-08-25T19:10:49.216100Z",
     "iopub.status.busy": "2020-08-25T19:10:49.204260Z",
     "iopub.status.idle": "2020-08-25T19:10:49.229221Z",
     "shell.execute_reply": "2020-08-25T19:10:49.228708Z"
    },
    "papermill": {
     "duration": 0.065561,
     "end_time": "2020-08-25T19:10:49.229393",
     "exception": false,
     "start_time": "2020-08-25T19:10:49.163832",
     "status": "completed"
    },
    "tags": []
   },
   "outputs": [
    {
     "data": {
      "text/html": [
       "<div>\n",
       "<style scoped>\n",
       "    .dataframe tbody tr th:only-of-type {\n",
       "        vertical-align: middle;\n",
       "    }\n",
       "\n",
       "    .dataframe tbody tr th {\n",
       "        vertical-align: top;\n",
       "    }\n",
       "\n",
       "    .dataframe thead th {\n",
       "        text-align: right;\n",
       "    }\n",
       "</style>\n",
       "<table border=\"1\" class=\"dataframe\">\n",
       "  <thead>\n",
       "    <tr style=\"text-align: right;\">\n",
       "      <th></th>\n",
       "      <th>Date</th>\n",
       "      <th>Status</th>\n",
       "      <th>TT</th>\n",
       "      <th>AN</th>\n",
       "      <th>AP</th>\n",
       "      <th>AR</th>\n",
       "      <th>AS</th>\n",
       "      <th>BR</th>\n",
       "      <th>CH</th>\n",
       "      <th>CT</th>\n",
       "      <th>...</th>\n",
       "      <th>PB</th>\n",
       "      <th>RJ</th>\n",
       "      <th>SK</th>\n",
       "      <th>TN</th>\n",
       "      <th>TG</th>\n",
       "      <th>TR</th>\n",
       "      <th>UP</th>\n",
       "      <th>UT</th>\n",
       "      <th>WB</th>\n",
       "      <th>UN</th>\n",
       "    </tr>\n",
       "  </thead>\n",
       "  <tbody>\n",
       "    <tr>\n",
       "      <th>489</th>\n",
       "      <td>24-Aug-20</td>\n",
       "      <td>Confirmed</td>\n",
       "      <td>59696</td>\n",
       "      <td>44</td>\n",
       "      <td>8601</td>\n",
       "      <td>49</td>\n",
       "      <td>1879</td>\n",
       "      <td>1227</td>\n",
       "      <td>117</td>\n",
       "      <td>1136</td>\n",
       "      <td>...</td>\n",
       "      <td>1505</td>\n",
       "      <td>1346</td>\n",
       "      <td>43</td>\n",
       "      <td>5967</td>\n",
       "      <td>1842</td>\n",
       "      <td>200</td>\n",
       "      <td>4601</td>\n",
       "      <td>405</td>\n",
       "      <td>2967</td>\n",
       "      <td>0</td>\n",
       "    </tr>\n",
       "    <tr>\n",
       "      <th>490</th>\n",
       "      <td>24-Aug-20</td>\n",
       "      <td>Recovered</td>\n",
       "      <td>66305</td>\n",
       "      <td>129</td>\n",
       "      <td>8741</td>\n",
       "      <td>130</td>\n",
       "      <td>2190</td>\n",
       "      <td>2908</td>\n",
       "      <td>154</td>\n",
       "      <td>493</td>\n",
       "      <td>...</td>\n",
       "      <td>1829</td>\n",
       "      <td>1276</td>\n",
       "      <td>63</td>\n",
       "      <td>6129</td>\n",
       "      <td>1825</td>\n",
       "      <td>159</td>\n",
       "      <td>4494</td>\n",
       "      <td>432</td>\n",
       "      <td>3285</td>\n",
       "      <td>0</td>\n",
       "    </tr>\n",
       "    <tr>\n",
       "      <th>491</th>\n",
       "      <td>24-Aug-20</td>\n",
       "      <td>Deceased</td>\n",
       "      <td>854</td>\n",
       "      <td>2</td>\n",
       "      <td>86</td>\n",
       "      <td>0</td>\n",
       "      <td>10</td>\n",
       "      <td>17</td>\n",
       "      <td>0</td>\n",
       "      <td>9</td>\n",
       "      <td>...</td>\n",
       "      <td>43</td>\n",
       "      <td>12</td>\n",
       "      <td>0</td>\n",
       "      <td>97</td>\n",
       "      <td>6</td>\n",
       "      <td>1</td>\n",
       "      <td>61</td>\n",
       "      <td>7</td>\n",
       "      <td>57</td>\n",
       "      <td>0</td>\n",
       "    </tr>\n",
       "    <tr>\n",
       "      <th>492</th>\n",
       "      <td>25-Aug-20</td>\n",
       "      <td>Confirmed</td>\n",
       "      <td>66850</td>\n",
       "      <td>41</td>\n",
       "      <td>9927</td>\n",
       "      <td>100</td>\n",
       "      <td>1973</td>\n",
       "      <td>1444</td>\n",
       "      <td>174</td>\n",
       "      <td>1287</td>\n",
       "      <td>...</td>\n",
       "      <td>1293</td>\n",
       "      <td>1370</td>\n",
       "      <td>29</td>\n",
       "      <td>5951</td>\n",
       "      <td>2579</td>\n",
       "      <td>293</td>\n",
       "      <td>5006</td>\n",
       "      <td>485</td>\n",
       "      <td>2964</td>\n",
       "      <td>0</td>\n",
       "    </tr>\n",
       "    <tr>\n",
       "      <th>493</th>\n",
       "      <td>25-Aug-20</td>\n",
       "      <td>Recovered</td>\n",
       "      <td>64151</td>\n",
       "      <td>139</td>\n",
       "      <td>9419</td>\n",
       "      <td>81</td>\n",
       "      <td>1724</td>\n",
       "      <td>3169</td>\n",
       "      <td>67</td>\n",
       "      <td>308</td>\n",
       "      <td>...</td>\n",
       "      <td>788</td>\n",
       "      <td>1526</td>\n",
       "      <td>120</td>\n",
       "      <td>6998</td>\n",
       "      <td>1752</td>\n",
       "      <td>73</td>\n",
       "      <td>4647</td>\n",
       "      <td>289</td>\n",
       "      <td>3251</td>\n",
       "      <td>0</td>\n",
       "    </tr>\n",
       "    <tr>\n",
       "      <th>494</th>\n",
       "      <td>25-Aug-20</td>\n",
       "      <td>Deceased</td>\n",
       "      <td>1066</td>\n",
       "      <td>2</td>\n",
       "      <td>92</td>\n",
       "      <td>0</td>\n",
       "      <td>8</td>\n",
       "      <td>17</td>\n",
       "      <td>3</td>\n",
       "      <td>15</td>\n",
       "      <td>...</td>\n",
       "      <td>49</td>\n",
       "      <td>13</td>\n",
       "      <td>0</td>\n",
       "      <td>107</td>\n",
       "      <td>9</td>\n",
       "      <td>6</td>\n",
       "      <td>72</td>\n",
       "      <td>6</td>\n",
       "      <td>58</td>\n",
       "      <td>0</td>\n",
       "    </tr>\n",
       "  </tbody>\n",
       "</table>\n",
       "<p>6 rows × 41 columns</p>\n",
       "</div>"
      ],
      "text/plain": [
       "          Date     Status     TT   AN    AP   AR    AS    BR   CH    CT  ...  \\\n",
       "489  24-Aug-20  Confirmed  59696   44  8601   49  1879  1227  117  1136  ...   \n",
       "490  24-Aug-20  Recovered  66305  129  8741  130  2190  2908  154   493  ...   \n",
       "491  24-Aug-20   Deceased    854    2    86    0    10    17    0     9  ...   \n",
       "492  25-Aug-20  Confirmed  66850   41  9927  100  1973  1444  174  1287  ...   \n",
       "493  25-Aug-20  Recovered  64151  139  9419   81  1724  3169   67   308  ...   \n",
       "494  25-Aug-20   Deceased   1066    2    92    0     8    17    3    15  ...   \n",
       "\n",
       "       PB    RJ   SK    TN    TG   TR    UP   UT    WB  UN  \n",
       "489  1505  1346   43  5967  1842  200  4601  405  2967   0  \n",
       "490  1829  1276   63  6129  1825  159  4494  432  3285   0  \n",
       "491    43    12    0    97     6    1    61    7    57   0  \n",
       "492  1293  1370   29  5951  2579  293  5006  485  2964   0  \n",
       "493   788  1526  120  6998  1752   73  4647  289  3251   0  \n",
       "494    49    13    0   107     9    6    72    6    58   0  \n",
       "\n",
       "[6 rows x 41 columns]"
      ]
     },
     "execution_count": 3,
     "metadata": {},
     "output_type": "execute_result"
    }
   ],
   "source": [
    "#hide\n",
    "df.tail(6)"
   ]
  },
  {
   "cell_type": "code",
   "execution_count": 4,
   "metadata": {
    "execution": {
     "iopub.execute_input": "2020-08-25T19:10:49.264201Z",
     "iopub.status.busy": "2020-08-25T19:10:49.263534Z",
     "iopub.status.idle": "2020-08-25T19:10:49.267021Z",
     "shell.execute_reply": "2020-08-25T19:10:49.266545Z"
    },
    "papermill": {
     "duration": 0.023799,
     "end_time": "2020-08-25T19:10:49.267167",
     "exception": false,
     "start_time": "2020-08-25T19:10:49.243368",
     "status": "completed"
    },
    "tags": []
   },
   "outputs": [
    {
     "data": {
      "text/plain": [
       "('25-Aug-20', '24-Aug-20')"
      ]
     },
     "execution_count": 4,
     "metadata": {},
     "output_type": "execute_result"
    }
   ],
   "source": [
    "#hide\n",
    "dt_today = df.iloc[-1][0]\n",
    "dt_yday = df.iloc[-4][0]\n",
    "dt_today, dt_yday"
   ]
  },
  {
   "cell_type": "code",
   "execution_count": 5,
   "metadata": {
    "execution": {
     "iopub.execute_input": "2020-08-25T19:10:49.301477Z",
     "iopub.status.busy": "2020-08-25T19:10:49.300847Z",
     "iopub.status.idle": "2020-08-25T19:10:49.307313Z",
     "shell.execute_reply": "2020-08-25T19:10:49.306758Z"
    },
    "papermill": {
     "duration": 0.026991,
     "end_time": "2020-08-25T19:10:49.307453",
     "exception": false,
     "start_time": "2020-08-25T19:10:49.280462",
     "status": "completed"
    },
    "tags": []
   },
   "outputs": [],
   "source": [
    "#hide\n",
    "df_today = df.groupby('Status').sum()\n",
    "df_yday = df.iloc[:-3][:].groupby('Status').sum()"
   ]
  },
  {
   "cell_type": "code",
   "execution_count": 6,
   "metadata": {
    "execution": {
     "iopub.execute_input": "2020-08-25T19:10:49.344220Z",
     "iopub.status.busy": "2020-08-25T19:10:49.343604Z",
     "iopub.status.idle": "2020-08-25T19:10:49.353823Z",
     "shell.execute_reply": "2020-08-25T19:10:49.353311Z"
    },
    "papermill": {
     "duration": 0.032853,
     "end_time": "2020-08-25T19:10:49.353958",
     "exception": false,
     "start_time": "2020-08-25T19:10:49.321105",
     "status": "completed"
    },
    "tags": []
   },
   "outputs": [
    {
     "data": {
      "text/html": [
       "<div>\n",
       "<style scoped>\n",
       "    .dataframe tbody tr th:only-of-type {\n",
       "        vertical-align: middle;\n",
       "    }\n",
       "\n",
       "    .dataframe tbody tr th {\n",
       "        vertical-align: top;\n",
       "    }\n",
       "\n",
       "    .dataframe thead th {\n",
       "        text-align: right;\n",
       "    }\n",
       "</style>\n",
       "<table border=\"1\" class=\"dataframe\">\n",
       "  <thead>\n",
       "    <tr style=\"text-align: right;\">\n",
       "      <th></th>\n",
       "      <th>TT</th>\n",
       "      <th>AN</th>\n",
       "      <th>AP</th>\n",
       "      <th>AR</th>\n",
       "      <th>AS</th>\n",
       "      <th>BR</th>\n",
       "      <th>CH</th>\n",
       "      <th>CT</th>\n",
       "      <th>DN</th>\n",
       "      <th>DD</th>\n",
       "      <th>...</th>\n",
       "      <th>PB</th>\n",
       "      <th>RJ</th>\n",
       "      <th>SK</th>\n",
       "      <th>TN</th>\n",
       "      <th>TG</th>\n",
       "      <th>TR</th>\n",
       "      <th>UP</th>\n",
       "      <th>UT</th>\n",
       "      <th>WB</th>\n",
       "      <th>UN</th>\n",
       "    </tr>\n",
       "    <tr>\n",
       "      <th>Status</th>\n",
       "      <th></th>\n",
       "      <th></th>\n",
       "      <th></th>\n",
       "      <th></th>\n",
       "      <th></th>\n",
       "      <th></th>\n",
       "      <th></th>\n",
       "      <th></th>\n",
       "      <th></th>\n",
       "      <th></th>\n",
       "      <th></th>\n",
       "      <th></th>\n",
       "      <th></th>\n",
       "      <th></th>\n",
       "      <th></th>\n",
       "      <th></th>\n",
       "      <th></th>\n",
       "      <th></th>\n",
       "      <th></th>\n",
       "      <th></th>\n",
       "      <th></th>\n",
       "    </tr>\n",
       "  </thead>\n",
       "  <tbody>\n",
       "    <tr>\n",
       "      <th>Confirmed</th>\n",
       "      <td>3231104</td>\n",
       "      <td>2941</td>\n",
       "      <td>371639</td>\n",
       "      <td>3412</td>\n",
       "      <td>94491</td>\n",
       "      <td>124827</td>\n",
       "      <td>3209</td>\n",
       "      <td>23341</td>\n",
       "      <td>2200</td>\n",
       "      <td>0</td>\n",
       "      <td>...</td>\n",
       "      <td>44577</td>\n",
       "      <td>73325</td>\n",
       "      <td>1488</td>\n",
       "      <td>391303</td>\n",
       "      <td>108160</td>\n",
       "      <td>9210</td>\n",
       "      <td>197388</td>\n",
       "      <td>16014</td>\n",
       "      <td>144801</td>\n",
       "      <td>0</td>\n",
       "    </tr>\n",
       "    <tr>\n",
       "      <th>Deceased</th>\n",
       "      <td>59623</td>\n",
       "      <td>37</td>\n",
       "      <td>3460</td>\n",
       "      <td>5</td>\n",
       "      <td>264</td>\n",
       "      <td>644</td>\n",
       "      <td>40</td>\n",
       "      <td>221</td>\n",
       "      <td>2</td>\n",
       "      <td>0</td>\n",
       "      <td>...</td>\n",
       "      <td>1178</td>\n",
       "      <td>980</td>\n",
       "      <td>3</td>\n",
       "      <td>6721</td>\n",
       "      <td>770</td>\n",
       "      <td>79</td>\n",
       "      <td>3059</td>\n",
       "      <td>213</td>\n",
       "      <td>2909</td>\n",
       "      <td>0</td>\n",
       "    </tr>\n",
       "    <tr>\n",
       "      <th>Recovered</th>\n",
       "      <td>2467245</td>\n",
       "      <td>2222</td>\n",
       "      <td>278247</td>\n",
       "      <td>2508</td>\n",
       "      <td>74815</td>\n",
       "      <td>104531</td>\n",
       "      <td>1713</td>\n",
       "      <td>13732</td>\n",
       "      <td>1816</td>\n",
       "      <td>0</td>\n",
       "      <td>...</td>\n",
       "      <td>29145</td>\n",
       "      <td>58126</td>\n",
       "      <td>1055</td>\n",
       "      <td>332454</td>\n",
       "      <td>84163</td>\n",
       "      <td>6414</td>\n",
       "      <td>144754</td>\n",
       "      <td>11201</td>\n",
       "      <td>114543</td>\n",
       "      <td>0</td>\n",
       "    </tr>\n",
       "  </tbody>\n",
       "</table>\n",
       "<p>3 rows × 39 columns</p>\n",
       "</div>"
      ],
      "text/plain": [
       "                TT    AN      AP    AR     AS      BR    CH     CT    DN  DD  \\\n",
       "Status                                                                         \n",
       "Confirmed  3231104  2941  371639  3412  94491  124827  3209  23341  2200   0   \n",
       "Deceased     59623    37    3460     5    264     644    40    221     2   0   \n",
       "Recovered  2467245  2222  278247  2508  74815  104531  1713  13732  1816   0   \n",
       "\n",
       "           ...     PB     RJ    SK      TN      TG    TR      UP     UT  \\\n",
       "Status     ...                                                            \n",
       "Confirmed  ...  44577  73325  1488  391303  108160  9210  197388  16014   \n",
       "Deceased   ...   1178    980     3    6721     770    79    3059    213   \n",
       "Recovered  ...  29145  58126  1055  332454   84163  6414  144754  11201   \n",
       "\n",
       "               WB  UN  \n",
       "Status                 \n",
       "Confirmed  144801   0  \n",
       "Deceased     2909   0  \n",
       "Recovered  114543   0  \n",
       "\n",
       "[3 rows x 39 columns]"
      ]
     },
     "execution_count": 6,
     "metadata": {},
     "output_type": "execute_result"
    }
   ],
   "source": [
    "#hide\n",
    "df_today"
   ]
  },
  {
   "cell_type": "code",
   "execution_count": 7,
   "metadata": {
    "execution": {
     "iopub.execute_input": "2020-08-25T19:10:49.390586Z",
     "iopub.status.busy": "2020-08-25T19:10:49.390014Z",
     "iopub.status.idle": "2020-08-25T19:10:49.398794Z",
     "shell.execute_reply": "2020-08-25T19:10:49.399389Z"
    },
    "papermill": {
     "duration": 0.032572,
     "end_time": "2020-08-25T19:10:49.399558",
     "exception": false,
     "start_time": "2020-08-25T19:10:49.366986",
     "status": "completed"
    },
    "tags": []
   },
   "outputs": [
    {
     "data": {
      "text/html": [
       "<div>\n",
       "<style scoped>\n",
       "    .dataframe tbody tr th:only-of-type {\n",
       "        vertical-align: middle;\n",
       "    }\n",
       "\n",
       "    .dataframe tbody tr th {\n",
       "        vertical-align: top;\n",
       "    }\n",
       "\n",
       "    .dataframe thead th {\n",
       "        text-align: right;\n",
       "    }\n",
       "</style>\n",
       "<table border=\"1\" class=\"dataframe\">\n",
       "  <thead>\n",
       "    <tr style=\"text-align: right;\">\n",
       "      <th></th>\n",
       "      <th>TT</th>\n",
       "      <th>AN</th>\n",
       "      <th>AP</th>\n",
       "      <th>AR</th>\n",
       "      <th>AS</th>\n",
       "      <th>BR</th>\n",
       "      <th>CH</th>\n",
       "      <th>CT</th>\n",
       "      <th>DN</th>\n",
       "      <th>DD</th>\n",
       "      <th>...</th>\n",
       "      <th>PB</th>\n",
       "      <th>RJ</th>\n",
       "      <th>SK</th>\n",
       "      <th>TN</th>\n",
       "      <th>TG</th>\n",
       "      <th>TR</th>\n",
       "      <th>UP</th>\n",
       "      <th>UT</th>\n",
       "      <th>WB</th>\n",
       "      <th>UN</th>\n",
       "    </tr>\n",
       "    <tr>\n",
       "      <th>Status</th>\n",
       "      <th></th>\n",
       "      <th></th>\n",
       "      <th></th>\n",
       "      <th></th>\n",
       "      <th></th>\n",
       "      <th></th>\n",
       "      <th></th>\n",
       "      <th></th>\n",
       "      <th></th>\n",
       "      <th></th>\n",
       "      <th></th>\n",
       "      <th></th>\n",
       "      <th></th>\n",
       "      <th></th>\n",
       "      <th></th>\n",
       "      <th></th>\n",
       "      <th></th>\n",
       "      <th></th>\n",
       "      <th></th>\n",
       "      <th></th>\n",
       "      <th></th>\n",
       "    </tr>\n",
       "  </thead>\n",
       "  <tbody>\n",
       "    <tr>\n",
       "      <th>Confirmed</th>\n",
       "      <td>3164254</td>\n",
       "      <td>2900</td>\n",
       "      <td>361712</td>\n",
       "      <td>3312</td>\n",
       "      <td>92518</td>\n",
       "      <td>123383</td>\n",
       "      <td>3035</td>\n",
       "      <td>22054</td>\n",
       "      <td>2179</td>\n",
       "      <td>0</td>\n",
       "      <td>...</td>\n",
       "      <td>43284</td>\n",
       "      <td>71955</td>\n",
       "      <td>1459</td>\n",
       "      <td>385352</td>\n",
       "      <td>105581</td>\n",
       "      <td>8917</td>\n",
       "      <td>192382</td>\n",
       "      <td>15529</td>\n",
       "      <td>141837</td>\n",
       "      <td>0</td>\n",
       "    </tr>\n",
       "    <tr>\n",
       "      <th>Deceased</th>\n",
       "      <td>58557</td>\n",
       "      <td>35</td>\n",
       "      <td>3368</td>\n",
       "      <td>5</td>\n",
       "      <td>256</td>\n",
       "      <td>627</td>\n",
       "      <td>37</td>\n",
       "      <td>206</td>\n",
       "      <td>2</td>\n",
       "      <td>0</td>\n",
       "      <td>...</td>\n",
       "      <td>1129</td>\n",
       "      <td>967</td>\n",
       "      <td>3</td>\n",
       "      <td>6614</td>\n",
       "      <td>761</td>\n",
       "      <td>73</td>\n",
       "      <td>2987</td>\n",
       "      <td>207</td>\n",
       "      <td>2851</td>\n",
       "      <td>0</td>\n",
       "    </tr>\n",
       "    <tr>\n",
       "      <th>Recovered</th>\n",
       "      <td>2403094</td>\n",
       "      <td>2083</td>\n",
       "      <td>268828</td>\n",
       "      <td>2427</td>\n",
       "      <td>73091</td>\n",
       "      <td>101362</td>\n",
       "      <td>1646</td>\n",
       "      <td>13424</td>\n",
       "      <td>1783</td>\n",
       "      <td>0</td>\n",
       "      <td>...</td>\n",
       "      <td>28357</td>\n",
       "      <td>56600</td>\n",
       "      <td>935</td>\n",
       "      <td>325456</td>\n",
       "      <td>82411</td>\n",
       "      <td>6341</td>\n",
       "      <td>140107</td>\n",
       "      <td>10912</td>\n",
       "      <td>111292</td>\n",
       "      <td>0</td>\n",
       "    </tr>\n",
       "  </tbody>\n",
       "</table>\n",
       "<p>3 rows × 39 columns</p>\n",
       "</div>"
      ],
      "text/plain": [
       "                TT    AN      AP    AR     AS      BR    CH     CT    DN  DD  \\\n",
       "Status                                                                         \n",
       "Confirmed  3164254  2900  361712  3312  92518  123383  3035  22054  2179   0   \n",
       "Deceased     58557    35    3368     5    256     627    37    206     2   0   \n",
       "Recovered  2403094  2083  268828  2427  73091  101362  1646  13424  1783   0   \n",
       "\n",
       "           ...     PB     RJ    SK      TN      TG    TR      UP     UT  \\\n",
       "Status     ...                                                            \n",
       "Confirmed  ...  43284  71955  1459  385352  105581  8917  192382  15529   \n",
       "Deceased   ...   1129    967     3    6614     761    73    2987    207   \n",
       "Recovered  ...  28357  56600   935  325456   82411  6341  140107  10912   \n",
       "\n",
       "               WB  UN  \n",
       "Status                 \n",
       "Confirmed  141837   0  \n",
       "Deceased     2851   0  \n",
       "Recovered  111292   0  \n",
       "\n",
       "[3 rows x 39 columns]"
      ]
     },
     "execution_count": 7,
     "metadata": {},
     "output_type": "execute_result"
    }
   ],
   "source": [
    "#hide\n",
    "df_yday.head()"
   ]
  },
  {
   "cell_type": "code",
   "execution_count": 8,
   "metadata": {
    "execution": {
     "iopub.execute_input": "2020-08-25T19:10:49.434271Z",
     "iopub.status.busy": "2020-08-25T19:10:49.433673Z",
     "iopub.status.idle": "2020-08-25T19:10:49.436803Z",
     "shell.execute_reply": "2020-08-25T19:10:49.436241Z"
    },
    "papermill": {
     "duration": 0.023807,
     "end_time": "2020-08-25T19:10:49.436942",
     "exception": false,
     "start_time": "2020-08-25T19:10:49.413135",
     "status": "completed"
    },
    "tags": []
   },
   "outputs": [
    {
     "data": {
      "text/plain": [
       "{'updated': '25-Aug-20',\n",
       " 'since': '24-Aug-20',\n",
       " 'Cases': 3231104,\n",
       " 'Deaths': 59623,\n",
       " 'Recovered': 2467245,\n",
       " 'PCases': 3164254,\n",
       " 'PDeaths': 58557,\n",
       " 'PRecovered': 2403094,\n",
       " 'Cases (+)': 66850,\n",
       " 'Deaths (+)': 1066,\n",
       " 'Recovered (+)': 64151}"
      ]
     },
     "execution_count": 8,
     "metadata": {},
     "output_type": "execute_result"
    }
   ],
   "source": [
    "#hide\n",
    "summary = {\n",
    "    'updated' : dt_today,\n",
    "    'since' : dt_yday,\n",
    "    'Cases' : df_today['TT'][0],\n",
    "    'Deaths' : df_today['TT'][1],\n",
    "    'Recovered' : df_today['TT'][2],\n",
    "    'PCases' : df_yday['TT'][0],\n",
    "    'PDeaths' : df_yday['TT'][1],\n",
    "    'PRecovered': df_yday['TT'][2],\n",
    "    'Cases (+)' : df_today['TT'][0] - df_yday['TT'][0],\n",
    "    'Deaths (+)' : df_today['TT'][1] - df_yday['TT'][1],\n",
    "    'Recovered (+)': df_today['TT'][2] - df_yday['TT'][2]\n",
    "}\n",
    "\n",
    "summary"
   ]
  },
  {
   "cell_type": "code",
   "execution_count": 9,
   "metadata": {
    "execution": {
     "iopub.execute_input": "2020-08-25T19:10:49.469050Z",
     "iopub.status.busy": "2020-08-25T19:10:49.468500Z",
     "iopub.status.idle": "2020-08-25T19:10:49.470366Z",
     "shell.execute_reply": "2020-08-25T19:10:49.470786Z"
    },
    "papermill": {
     "duration": 0.01936,
     "end_time": "2020-08-25T19:10:49.470912",
     "exception": false,
     "start_time": "2020-08-25T19:10:49.451552",
     "status": "completed"
    },
    "tags": []
   },
   "outputs": [],
   "source": [
    "#hide\n",
    "overview = '''\n",
    "<!-- #######  HTML!! #########-->\n",
    "<h1 style=\"color: #5e9ca0; text-align: center;\">India</h1>\n",
    "<p style=\"text-align: center;\">Last update: <strong>{update}</strong></p>\n",
    "<p style=\"text-align: center;\">Confirmed cases:</p>\n",
    "<p style=\"text-align: center;font-size:24px;\">{cases} (<span style=\"color: #ff0000;\">+{new}</span>)</p>\n",
    "<p style=\"text-align: center;\">Confirmed deaths:</p>\n",
    "<p style=\"text-align: center;font-size:24px;\">{deaths} (<span style=\"color: #ff0000;\">+{dnew}</span>)</p>\n",
    "<p style=\"text-align: center;\">Recovered cases:</p>\n",
    "<p style=\"text-align: center;font-size:24px;\">{recovered} (<span style=\"color: #00ff00;\">+{rnew}</span>)</p>\n",
    "'''"
   ]
  },
  {
   "cell_type": "code",
   "execution_count": 10,
   "metadata": {
    "execution": {
     "iopub.execute_input": "2020-08-25T19:10:49.505347Z",
     "iopub.status.busy": "2020-08-25T19:10:49.504626Z",
     "iopub.status.idle": "2020-08-25T19:10:49.508304Z",
     "shell.execute_reply": "2020-08-25T19:10:49.507780Z"
    },
    "papermill": {
     "duration": 0.024017,
     "end_time": "2020-08-25T19:10:49.508427",
     "exception": false,
     "start_time": "2020-08-25T19:10:49.484410",
     "status": "completed"
    },
    "tags": []
   },
   "outputs": [
    {
     "data": {
      "text/html": [
       "\n",
       "<!-- #######  HTML!! #########-->\n",
       "<h1 style=\"color: #5e9ca0; text-align: center;\">India</h1>\n",
       "<p style=\"text-align: center;\">Last update: <strong>25-Aug-20</strong></p>\n",
       "<p style=\"text-align: center;\">Confirmed cases:</p>\n",
       "<p style=\"text-align: center;font-size:24px;\">3231104 (<span style=\"color: #ff0000;\">+66850</span>)</p>\n",
       "<p style=\"text-align: center;\">Confirmed deaths:</p>\n",
       "<p style=\"text-align: center;font-size:24px;\">59623 (<span style=\"color: #ff0000;\">+1066</span>)</p>\n",
       "<p style=\"text-align: center;\">Recovered cases:</p>\n",
       "<p style=\"text-align: center;font-size:24px;\">2467245 (<span style=\"color: #00ff00;\">+64151</span>)</p>\n"
      ],
      "text/plain": [
       "<IPython.core.display.HTML object>"
      ]
     },
     "metadata": {},
     "output_type": "display_data"
    }
   ],
   "source": [
    "#hide_input\n",
    "# Fill the above HTML with the information from the summary dictionary\n",
    "\n",
    "update = summary['updated']\n",
    "cases = summary['Cases']\n",
    "new = summary['Cases (+)']\n",
    "deaths = summary['Deaths']\n",
    "dnew = summary['Deaths (+)']\n",
    "recovered = summary['Recovered']\n",
    "rnew = summary['Recovered (+)']\n",
    "\n",
    "html = HTML(overview.format(update=update, cases=cases,new=new,deaths=deaths,dnew=dnew, recovered=recovered, rnew=rnew))\n",
    "\n",
    "display(html)"
   ]
  },
  {
   "cell_type": "code",
   "execution_count": 11,
   "metadata": {
    "execution": {
     "iopub.execute_input": "2020-08-25T19:10:49.544892Z",
     "iopub.status.busy": "2020-08-25T19:10:49.544336Z",
     "iopub.status.idle": "2020-08-25T19:10:49.550476Z",
     "shell.execute_reply": "2020-08-25T19:10:49.550040Z"
    },
    "papermill": {
     "duration": 0.026881,
     "end_time": "2020-08-25T19:10:49.550579",
     "exception": false,
     "start_time": "2020-08-25T19:10:49.523698",
     "status": "completed"
    },
    "tags": []
   },
   "outputs": [],
   "source": [
    "#hide\n",
    "df_cases = df[df['Status'] == 'Confirmed'].copy()\n",
    "df_cases.drop(columns = ['Status'], inplace=True)\n",
    "df_deaths = df[df['Status'] == 'Deceased'].copy()\n",
    "df_deaths.drop(columns = ['Status'], inplace=True)\n",
    "df_recovered = df[df['Status'] == 'Recovered'].copy()\n",
    "df_recovered.drop(columns = ['Status'], inplace=True)"
   ]
  },
  {
   "cell_type": "markdown",
   "metadata": {
    "papermill": {
     "duration": 0.01589,
     "end_time": "2020-08-25T19:10:49.581425",
     "exception": false,
     "start_time": "2020-08-25T19:10:49.565535",
     "status": "completed"
    },
    "tags": []
   },
   "source": [
    "Plot for India:"
   ]
  },
  {
   "cell_type": "code",
   "execution_count": 12,
   "metadata": {
    "execution": {
     "iopub.execute_input": "2020-08-25T19:10:49.660280Z",
     "iopub.status.busy": "2020-08-25T19:10:49.651957Z",
     "iopub.status.idle": "2020-08-25T19:10:49.904699Z",
     "shell.execute_reply": "2020-08-25T19:10:49.905214Z"
    },
    "papermill": {
     "duration": 0.30833,
     "end_time": "2020-08-25T19:10:49.905380",
     "exception": false,
     "start_time": "2020-08-25T19:10:49.597050",
     "status": "completed"
    },
    "tags": []
   },
   "outputs": [
    {
     "data": {
      "image/png": "[encoded data removed]",
      "text/plain": [
       "<Figure size 1296x432 with 1 Axes>"
      ]
     },
     "metadata": {
      "needs_background": "light"
     },
     "output_type": "display_data"
    }
   ],
   "source": [
    "#hide_input\n",
    "plt.figure(figsize = (18,6))\n",
    "plt.plot(df_cases['Date'], df_cases['TT'],'.-', alpha=0.7, color='b', label='Confirmed cases')\n",
    "plt.plot(df_recovered['Date'], df_recovered['TT'],'.-', alpha=0.7, color='g', label='Recovered')\n",
    "plt.plot(df_deaths['Date'], df_deaths['TT'],'.-', alpha=0.7, color='r', label='Deceased')\n",
    "plt.legend()\n",
    "plt.title(\"Cases per day in India\")\n",
    "plt.xticks(ticks=' ')\n",
    "plt.xlabel(f'{df_cases.iloc[0][0]} to {df_cases.iloc[-1][0]}')\n",
    "plt.ylabel('No. of cases');"
   ]
  },
  {
   "cell_type": "markdown",
   "metadata": {
    "papermill": {
     "duration": 0.015844,
     "end_time": "2020-08-25T19:10:49.937016",
     "exception": false,
     "start_time": "2020-08-25T19:10:49.921172",
     "status": "completed"
    },
    "tags": []
   },
   "source": [
    "Plots for the states with highest number of cases:"
   ]
  },
  {
   "cell_type": "code",
   "execution_count": 13,
   "metadata": {
    "execution": {
     "iopub.execute_input": "2020-08-25T19:10:49.977504Z",
     "iopub.status.busy": "2020-08-25T19:10:49.976922Z",
     "iopub.status.idle": "2020-08-25T19:10:50.616238Z",
     "shell.execute_reply": "2020-08-25T19:10:50.616717Z"
    },
    "papermill": {
     "duration": 0.663992,
     "end_time": "2020-08-25T19:10:50.616868",
     "exception": false,
     "start_time": "2020-08-25T19:10:49.952876",
     "status": "completed"
    },
    "tags": []
   },
   "outputs": [
    {
     "data": {
      "image/png": "[encoded data removed]",
      "text/plain": [
       "<Figure size 1512x432 with 3 Axes>"
      ]
     },
     "metadata": {
      "needs_background": "light"
     },
     "output_type": "display_data"
    }
   ],
   "source": [
    "#hide_input\n",
    "top_3 = sorted(df_cases.sum().values[1:], reverse=True)[1:4]\n",
    "top3_states=[]\n",
    "for i in top_3:\n",
    "    top3_states.append(df_cases.sum()[df_cases.sum() == i].index)\n",
    "\n",
    "\n",
    "fig, ax = plt.subplots(1,3,figsize = (21,6))\n",
    "for i in range(3):\n",
    "    state = top3_states[i].values[0]\n",
    "    ax[i].plot(df_cases['Date'], df_cases[state],'.-', color='b', alpha=0.7)\n",
    "    ax[i].plot(df_deaths['Date'], df_deaths[state],'.-', color='r', alpha=0.7)\n",
    "    ax[i].plot(df_recovered['Date'], df_recovered[state],'.-', color='g', alpha=0.7)\n",
    "    \n",
    "    ax[i].set_title(f\"Cases in {state}\")\n",
    "    ax[i].set_xticks(ticks=' ')\n",
    "    ax[i].set_xlabel(f'{df_cases.iloc[0][0]} to {df_cases.iloc[-1][0]}')\n",
    "    ax[i].set_ylabel('No. of cases');"
   ]
  },
  {
   "cell_type": "code",
   "execution_count": null,
   "metadata": {
    "papermill": {
     "duration": 0.018396,
     "end_time": "2020-08-25T19:10:50.655103",
     "exception": false,
     "start_time": "2020-08-25T19:10:50.636707",
     "status": "completed"
    },
    "tags": []
   },
   "outputs": [],
   "source": []
  },
  {
   "cell_type": "code",
   "execution_count": null,
   "metadata": {
    "papermill": {
     "duration": 0.018513,
     "end_time": "2020-08-25T19:10:50.692459",
     "exception": false,
     "start_time": "2020-08-25T19:10:50.673946",
     "status": "completed"
    },
    "tags": []
   },
   "outputs": [],
   "source": []
  },
  {
   "cell_type": "code",
   "execution_count": null,
   "metadata": {
    "papermill": {
     "duration": 0.020322,
     "end_time": "2020-08-25T19:10:50.732373",
     "exception": false,
     "start_time": "2020-08-25T19:10:50.712051",
     "status": "completed"
    },
    "tags": []
   },
   "outputs": [],
   "source": []
  }
 ],
 "metadata": {
  "kernelspec": {
   "display_name": "Python 3",
   "language": "python",
   "name": "python3"
  },
  "language_info": {
   "codemirror_mode": {
    "name": "ipython",
    "version": 3
   },
   "file_extension": ".py",
   "mimetype": "text/x-python",
   "name": "python",
   "nbconvert_exporter": "python",
   "pygments_lexer": "ipython3",
   "version": "3.6.11"
  },
  "papermill": {
   "duration": 3.77832,
   "end_time": "2020-08-25T19:10:51.064577",
   "environment_variables": {},
   "exception": null,
   "input_path": "2020-08-09-DailyUpdate.ipynb",
   "output_path": "2020-08-09-DailyUpdate.ipynb",
   "parameters": {},
   "start_time": "2020-08-25T19:10:47.286257",
   "version": "2.1.2"
  }
 },
 "nbformat": 4,
 "nbformat_minor": 4
}