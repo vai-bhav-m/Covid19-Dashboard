{
 "cells": [
  {
   "cell_type": "markdown",
   "metadata": {
    "tags": [
     "papermill-error-cell-tag"
    ]
   },
   "source": [
    "<span style=\"color:red; font-family:Helvetica Neue, Helvetica, Arial, sans-serif; font-size:2em;\">An Exception was encountered at '<a href=\"#papermill-error-cell\">In [13]</a>'.</span>"
   ]
  },
  {
   "cell_type": "markdown",
   "metadata": {
    "papermill": {
     "duration": 0.013555,
     "end_time": "2020-10-30T19:09:28.029861",
     "exception": false,
     "start_time": "2020-10-30T19:09:28.016306",
     "status": "completed"
    },
    "tags": []
   },
   "source": [
    "# COVID-19 India Daily updates\n",
    "> Tracking coronavirus total cases, deaths and new cases in India on a daily basis\n",
    "\n",
    "- author: Vaibhav Mahapatra"
   ]
  },
  {
   "cell_type": "code",
   "execution_count": 1,
   "metadata": {
    "execution": {
     "iopub.execute_input": "2020-10-30T19:09:28.060096Z",
     "iopub.status.busy": "2020-10-30T19:09:28.059485Z",
     "iopub.status.idle": "2020-10-30T19:09:28.533853Z",
     "shell.execute_reply": "2020-10-30T19:09:28.533000Z"
    },
    "papermill": {
     "duration": 0.493309,
     "end_time": "2020-10-30T19:09:28.533995",
     "exception": false,
     "start_time": "2020-10-30T19:09:28.040686",
     "status": "completed"
    },
    "tags": []
   },
   "outputs": [],
   "source": [
    "#hide\n",
    "\n",
    "## Import essential packages below\n",
    "\n",
    "import pandas as pd\n",
    "import numpy as np\n",
    "import requests\n",
    "import json\n",
    "import matplotlib.pyplot as plt\n",
    "import matplotlib.dates as mdates\n",
    "import matplotlib as mpl\n",
    "from IPython.core.display import display,HTML\n",
    "%matplotlib inline"
   ]
  },
  {
   "cell_type": "code",
   "execution_count": 2,
   "metadata": {
    "execution": {
     "iopub.execute_input": "2020-10-30T19:09:28.556907Z",
     "iopub.status.busy": "2020-10-30T19:09:28.556391Z",
     "iopub.status.idle": "2020-10-30T19:09:28.705603Z",
     "shell.execute_reply": "2020-10-30T19:09:28.704987Z"
    },
    "papermill": {
     "duration": 0.162317,
     "end_time": "2020-10-30T19:09:28.705743",
     "exception": false,
     "start_time": "2020-10-30T19:09:28.543426",
     "status": "completed"
    },
    "tags": []
   },
   "outputs": [
    {
     "data": {
      "text/plain": [
       "(693, 42)"
      ]
     },
     "execution_count": 2,
     "metadata": {},
     "output_type": "execute_result"
    }
   ],
   "source": [
    "#hide\n",
    "url = 'https://api.covid19india.org/csv/latest/state_wise_daily.csv'\n",
    "df = pd.read_csv(url)\n",
    "df.shape"
   ]
  },
  {
   "cell_type": "code",
   "execution_count": 3,
   "metadata": {
    "execution": {
     "iopub.execute_input": "2020-10-30T19:09:28.781058Z",
     "iopub.status.busy": "2020-10-30T19:09:28.774890Z",
     "iopub.status.idle": "2020-10-30T19:09:28.782990Z",
     "shell.execute_reply": "2020-10-30T19:09:28.783401Z"
    },
    "papermill": {
     "duration": 0.066061,
     "end_time": "2020-10-30T19:09:28.783526",
     "exception": false,
     "start_time": "2020-10-30T19:09:28.717465",
     "status": "completed"
    },
    "tags": []
   },
   "outputs": [
    {
     "data": {
      "text/html": [
       "<div>\n",
       "<style scoped>\n",
       "    .dataframe tbody tr th:only-of-type {\n",
       "        vertical-align: middle;\n",
       "    }\n",
       "\n",
       "    .dataframe tbody tr th {\n",
       "        vertical-align: top;\n",
       "    }\n",
       "\n",
       "    .dataframe thead th {\n",
       "        text-align: right;\n",
       "    }\n",
       "</style>\n",
       "<table border=\"1\" class=\"dataframe\">\n",
       "  <thead>\n",
       "    <tr style=\"text-align: right;\">\n",
       "      <th></th>\n",
       "      <th>Date</th>\n",
       "      <th>Date_YMD</th>\n",
       "      <th>Status</th>\n",
       "      <th>TT</th>\n",
       "      <th>AN</th>\n",
       "      <th>AP</th>\n",
       "      <th>AR</th>\n",
       "      <th>AS</th>\n",
       "      <th>BR</th>\n",
       "      <th>CH</th>\n",
       "      <th>...</th>\n",
       "      <th>PB</th>\n",
       "      <th>RJ</th>\n",
       "      <th>SK</th>\n",
       "      <th>TN</th>\n",
       "      <th>TG</th>\n",
       "      <th>TR</th>\n",
       "      <th>UP</th>\n",
       "      <th>UT</th>\n",
       "      <th>WB</th>\n",
       "      <th>UN</th>\n",
       "    </tr>\n",
       "  </thead>\n",
       "  <tbody>\n",
       "    <tr>\n",
       "      <th>687</th>\n",
       "      <td>29-Oct-20</td>\n",
       "      <td>2020-10-29</td>\n",
       "      <td>Confirmed</td>\n",
       "      <td>48765</td>\n",
       "      <td>16</td>\n",
       "      <td>2905</td>\n",
       "      <td>88</td>\n",
       "      <td>398</td>\n",
       "      <td>783</td>\n",
       "      <td>80</td>\n",
       "      <td>...</td>\n",
       "      <td>464</td>\n",
       "      <td>1790</td>\n",
       "      <td>18</td>\n",
       "      <td>2652</td>\n",
       "      <td>1504</td>\n",
       "      <td>113</td>\n",
       "      <td>1861</td>\n",
       "      <td>305</td>\n",
       "      <td>3989</td>\n",
       "      <td>0</td>\n",
       "    </tr>\n",
       "    <tr>\n",
       "      <th>688</th>\n",
       "      <td>29-Oct-20</td>\n",
       "      <td>2020-10-29</td>\n",
       "      <td>Recovered</td>\n",
       "      <td>57867</td>\n",
       "      <td>15</td>\n",
       "      <td>3243</td>\n",
       "      <td>143</td>\n",
       "      <td>1057</td>\n",
       "      <td>1068</td>\n",
       "      <td>43</td>\n",
       "      <td>...</td>\n",
       "      <td>427</td>\n",
       "      <td>1933</td>\n",
       "      <td>13</td>\n",
       "      <td>4087</td>\n",
       "      <td>1436</td>\n",
       "      <td>170</td>\n",
       "      <td>2465</td>\n",
       "      <td>456</td>\n",
       "      <td>3945</td>\n",
       "      <td>0</td>\n",
       "    </tr>\n",
       "    <tr>\n",
       "      <th>689</th>\n",
       "      <td>29-Oct-20</td>\n",
       "      <td>2020-10-29</td>\n",
       "      <td>Deceased</td>\n",
       "      <td>562</td>\n",
       "      <td>1</td>\n",
       "      <td>16</td>\n",
       "      <td>1</td>\n",
       "      <td>6</td>\n",
       "      <td>7</td>\n",
       "      <td>1</td>\n",
       "      <td>...</td>\n",
       "      <td>10</td>\n",
       "      <td>11</td>\n",
       "      <td>0</td>\n",
       "      <td>35</td>\n",
       "      <td>5</td>\n",
       "      <td>1</td>\n",
       "      <td>25</td>\n",
       "      <td>0</td>\n",
       "      <td>61</td>\n",
       "      <td>0</td>\n",
       "    </tr>\n",
       "    <tr>\n",
       "      <th>690</th>\n",
       "      <td>30-Oct-20</td>\n",
       "      <td>2020-10-30</td>\n",
       "      <td>Confirmed</td>\n",
       "      <td>48117</td>\n",
       "      <td>12</td>\n",
       "      <td>2886</td>\n",
       "      <td>84</td>\n",
       "      <td>380</td>\n",
       "      <td>1018</td>\n",
       "      <td>59</td>\n",
       "      <td>...</td>\n",
       "      <td>431</td>\n",
       "      <td>1794</td>\n",
       "      <td>20</td>\n",
       "      <td>2608</td>\n",
       "      <td>1531</td>\n",
       "      <td>97</td>\n",
       "      <td>2187</td>\n",
       "      <td>349</td>\n",
       "      <td>3979</td>\n",
       "      <td>0</td>\n",
       "    </tr>\n",
       "    <tr>\n",
       "      <th>691</th>\n",
       "      <td>30-Oct-20</td>\n",
       "      <td>2020-10-30</td>\n",
       "      <td>Recovered</td>\n",
       "      <td>59005</td>\n",
       "      <td>22</td>\n",
       "      <td>3623</td>\n",
       "      <td>154</td>\n",
       "      <td>1094</td>\n",
       "      <td>1240</td>\n",
       "      <td>67</td>\n",
       "      <td>...</td>\n",
       "      <td>577</td>\n",
       "      <td>2087</td>\n",
       "      <td>33</td>\n",
       "      <td>3924</td>\n",
       "      <td>1048</td>\n",
       "      <td>212</td>\n",
       "      <td>2590</td>\n",
       "      <td>242</td>\n",
       "      <td>4015</td>\n",
       "      <td>0</td>\n",
       "    </tr>\n",
       "    <tr>\n",
       "      <th>692</th>\n",
       "      <td>30-Oct-20</td>\n",
       "      <td>2020-10-30</td>\n",
       "      <td>Deceased</td>\n",
       "      <td>550</td>\n",
       "      <td>0</td>\n",
       "      <td>17</td>\n",
       "      <td>0</td>\n",
       "      <td>3</td>\n",
       "      <td>8</td>\n",
       "      <td>0</td>\n",
       "      <td>...</td>\n",
       "      <td>19</td>\n",
       "      <td>10</td>\n",
       "      <td>0</td>\n",
       "      <td>38</td>\n",
       "      <td>6</td>\n",
       "      <td>1</td>\n",
       "      <td>24</td>\n",
       "      <td>2</td>\n",
       "      <td>59</td>\n",
       "      <td>0</td>\n",
       "    </tr>\n",
       "  </tbody>\n",
       "</table>\n",
       "<p>6 rows × 42 columns</p>\n",
       "</div>"
      ],
      "text/plain": [
       "          Date    Date_YMD     Status     TT  AN    AP   AR    AS    BR  CH  \\\n",
       "687  29-Oct-20  2020-10-29  Confirmed  48765  16  2905   88   398   783  80   \n",
       "688  29-Oct-20  2020-10-29  Recovered  57867  15  3243  143  1057  1068  43   \n",
       "689  29-Oct-20  2020-10-29   Deceased    562   1    16    1     6     7   1   \n",
       "690  30-Oct-20  2020-10-30  Confirmed  48117  12  2886   84   380  1018  59   \n",
       "691  30-Oct-20  2020-10-30  Recovered  59005  22  3623  154  1094  1240  67   \n",
       "692  30-Oct-20  2020-10-30   Deceased    550   0    17    0     3     8   0   \n",
       "\n",
       "     ...   PB    RJ  SK    TN    TG   TR    UP   UT    WB  UN  \n",
       "687  ...  464  1790  18  2652  1504  113  1861  305  3989   0  \n",
       "688  ...  427  1933  13  4087  1436  170  2465  456  3945   0  \n",
       "689  ...   10    11   0    35     5    1    25    0    61   0  \n",
       "690  ...  431  1794  20  2608  1531   97  2187  349  3979   0  \n",
       "691  ...  577  2087  33  3924  1048  212  2590  242  4015   0  \n",
       "692  ...   19    10   0    38     6    1    24    2    59   0  \n",
       "\n",
       "[6 rows x 42 columns]"
      ]
     },
     "execution_count": 3,
     "metadata": {},
     "output_type": "execute_result"
    }
   ],
   "source": [
    "#hide\n",
    "df.tail(6)"
   ]
  },
  {
   "cell_type": "code",
   "execution_count": 4,
   "metadata": {
    "execution": {
     "iopub.execute_input": "2020-10-30T19:09:28.812018Z",
     "iopub.status.busy": "2020-10-30T19:09:28.811276Z",
     "iopub.status.idle": "2020-10-30T19:09:28.813765Z",
     "shell.execute_reply": "2020-10-30T19:09:28.814334Z"
    },
    "papermill": {
     "duration": 0.019348,
     "end_time": "2020-10-30T19:09:28.814496",
     "exception": false,
     "start_time": "2020-10-30T19:09:28.795148",
     "status": "completed"
    },
    "tags": []
   },
   "outputs": [
    {
     "data": {
      "text/plain": [
       "('30-Oct-20', '29-Oct-20')"
      ]
     },
     "execution_count": 4,
     "metadata": {},
     "output_type": "execute_result"
    }
   ],
   "source": [
    "#hide\n",
    "dt_today = df.iloc[-1][0]\n",
    "dt_yday = df.iloc[-4][0]\n",
    "dt_today, dt_yday"
   ]
  },
  {
   "cell_type": "code",
   "execution_count": 5,
   "metadata": {
    "execution": {
     "iopub.execute_input": "2020-10-30T19:09:28.842628Z",
     "iopub.status.busy": "2020-10-30T19:09:28.842167Z",
     "iopub.status.idle": "2020-10-30T19:09:28.849123Z",
     "shell.execute_reply": "2020-10-30T19:09:28.848641Z"
    },
    "papermill": {
     "duration": 0.023182,
     "end_time": "2020-10-30T19:09:28.849240",
     "exception": false,
     "start_time": "2020-10-30T19:09:28.826058",
     "status": "completed"
    },
    "tags": []
   },
   "outputs": [],
   "source": [
    "#hide\n",
    "df_today = df.groupby('Status').sum()\n",
    "df_yday = df.iloc[:-3][:].groupby('Status').sum()"
   ]
  },
  {
   "cell_type": "code",
   "execution_count": 6,
   "metadata": {
    "execution": {
     "iopub.execute_input": "2020-10-30T19:09:28.880626Z",
     "iopub.status.busy": "2020-10-30T19:09:28.880054Z",
     "iopub.status.idle": "2020-10-30T19:09:28.884257Z",
     "shell.execute_reply": "2020-10-30T19:09:28.884638Z"
    },
    "papermill": {
     "duration": 0.025483,
     "end_time": "2020-10-30T19:09:28.884743",
     "exception": false,
     "start_time": "2020-10-30T19:09:28.859260",
     "status": "completed"
    },
    "tags": []
   },
   "outputs": [
    {
     "data": {
      "text/html": [
       "<div>\n",
       "<style scoped>\n",
       "    .dataframe tbody tr th:only-of-type {\n",
       "        vertical-align: middle;\n",
       "    }\n",
       "\n",
       "    .dataframe tbody tr th {\n",
       "        vertical-align: top;\n",
       "    }\n",
       "\n",
       "    .dataframe thead th {\n",
       "        text-align: right;\n",
       "    }\n",
       "</style>\n",
       "<table border=\"1\" class=\"dataframe\">\n",
       "  <thead>\n",
       "    <tr style=\"text-align: right;\">\n",
       "      <th></th>\n",
       "      <th>TT</th>\n",
       "      <th>AN</th>\n",
       "      <th>AP</th>\n",
       "      <th>AR</th>\n",
       "      <th>AS</th>\n",
       "      <th>BR</th>\n",
       "      <th>CH</th>\n",
       "      <th>CT</th>\n",
       "      <th>DN</th>\n",
       "      <th>DD</th>\n",
       "      <th>...</th>\n",
       "      <th>PB</th>\n",
       "      <th>RJ</th>\n",
       "      <th>SK</th>\n",
       "      <th>TN</th>\n",
       "      <th>TG</th>\n",
       "      <th>TR</th>\n",
       "      <th>UP</th>\n",
       "      <th>UT</th>\n",
       "      <th>WB</th>\n",
       "      <th>UN</th>\n",
       "    </tr>\n",
       "    <tr>\n",
       "      <th>Status</th>\n",
       "      <th></th>\n",
       "      <th></th>\n",
       "      <th></th>\n",
       "      <th></th>\n",
       "      <th></th>\n",
       "      <th></th>\n",
       "      <th></th>\n",
       "      <th></th>\n",
       "      <th></th>\n",
       "      <th></th>\n",
       "      <th></th>\n",
       "      <th></th>\n",
       "      <th></th>\n",
       "      <th></th>\n",
       "      <th></th>\n",
       "      <th></th>\n",
       "      <th></th>\n",
       "      <th></th>\n",
       "      <th></th>\n",
       "      <th></th>\n",
       "      <th></th>\n",
       "    </tr>\n",
       "  </thead>\n",
       "  <tbody>\n",
       "    <tr>\n",
       "      <th>Confirmed</th>\n",
       "      <td>8135448</td>\n",
       "      <td>4313</td>\n",
       "      <td>820565</td>\n",
       "      <td>14752</td>\n",
       "      <td>205913</td>\n",
       "      <td>215964</td>\n",
       "      <td>14351</td>\n",
       "      <td>185306</td>\n",
       "      <td>3243</td>\n",
       "      <td>0</td>\n",
       "      <td>...</td>\n",
       "      <td>133158</td>\n",
       "      <td>195213</td>\n",
       "      <td>3926</td>\n",
       "      <td>722011</td>\n",
       "      <td>236677</td>\n",
       "      <td>30660</td>\n",
       "      <td>480082</td>\n",
       "      <td>61915</td>\n",
       "      <td>369671</td>\n",
       "      <td>0</td>\n",
       "    </tr>\n",
       "    <tr>\n",
       "      <th>Deceased</th>\n",
       "      <td>121088</td>\n",
       "      <td>59</td>\n",
       "      <td>6676</td>\n",
       "      <td>37</td>\n",
       "      <td>930</td>\n",
       "      <td>1084</td>\n",
       "      <td>225</td>\n",
       "      <td>2038</td>\n",
       "      <td>2</td>\n",
       "      <td>0</td>\n",
       "      <td>...</td>\n",
       "      <td>4187</td>\n",
       "      <td>1898</td>\n",
       "      <td>67</td>\n",
       "      <td>11091</td>\n",
       "      <td>1330</td>\n",
       "      <td>343</td>\n",
       "      <td>7007</td>\n",
       "      <td>1011</td>\n",
       "      <td>6784</td>\n",
       "      <td>0</td>\n",
       "    </tr>\n",
       "    <tr>\n",
       "      <th>Recovered</th>\n",
       "      <td>7430744</td>\n",
       "      <td>4067</td>\n",
       "      <td>788375</td>\n",
       "      <td>12777</td>\n",
       "      <td>194665</td>\n",
       "      <td>206625</td>\n",
       "      <td>13469</td>\n",
       "      <td>160918</td>\n",
       "      <td>3151</td>\n",
       "      <td>0</td>\n",
       "      <td>...</td>\n",
       "      <td>124870</td>\n",
       "      <td>178064</td>\n",
       "      <td>3510</td>\n",
       "      <td>687388</td>\n",
       "      <td>217401</td>\n",
       "      <td>28714</td>\n",
       "      <td>448644</td>\n",
       "      <td>56771</td>\n",
       "      <td>325888</td>\n",
       "      <td>0</td>\n",
       "    </tr>\n",
       "  </tbody>\n",
       "</table>\n",
       "<p>3 rows × 39 columns</p>\n",
       "</div>"
      ],
      "text/plain": [
       "                TT    AN      AP     AR      AS      BR     CH      CT    DN  \\\n",
       "Status                                                                         \n",
       "Confirmed  8135448  4313  820565  14752  205913  215964  14351  185306  3243   \n",
       "Deceased    121088    59    6676     37     930    1084    225    2038     2   \n",
       "Recovered  7430744  4067  788375  12777  194665  206625  13469  160918  3151   \n",
       "\n",
       "           DD  ...      PB      RJ    SK      TN      TG     TR      UP  \\\n",
       "Status         ...                                                        \n",
       "Confirmed   0  ...  133158  195213  3926  722011  236677  30660  480082   \n",
       "Deceased    0  ...    4187    1898    67   11091    1330    343    7007   \n",
       "Recovered   0  ...  124870  178064  3510  687388  217401  28714  448644   \n",
       "\n",
       "              UT      WB  UN  \n",
       "Status                        \n",
       "Confirmed  61915  369671   0  \n",
       "Deceased    1011    6784   0  \n",
       "Recovered  56771  325888   0  \n",
       "\n",
       "[3 rows x 39 columns]"
      ]
     },
     "execution_count": 6,
     "metadata": {},
     "output_type": "execute_result"
    }
   ],
   "source": [
    "#hide\n",
    "df_today"
   ]
  },
  {
   "cell_type": "code",
   "execution_count": 7,
   "metadata": {
    "execution": {
     "iopub.execute_input": "2020-10-30T19:09:28.916812Z",
     "iopub.status.busy": "2020-10-30T19:09:28.916345Z",
     "iopub.status.idle": "2020-10-30T19:09:28.919065Z",
     "shell.execute_reply": "2020-10-30T19:09:28.918659Z"
    },
    "papermill": {
     "duration": 0.025023,
     "end_time": "2020-10-30T19:09:28.919146",
     "exception": false,
     "start_time": "2020-10-30T19:09:28.894123",
     "status": "completed"
    },
    "tags": []
   },
   "outputs": [
    {
     "data": {
      "text/html": [
       "<div>\n",
       "<style scoped>\n",
       "    .dataframe tbody tr th:only-of-type {\n",
       "        vertical-align: middle;\n",
       "    }\n",
       "\n",
       "    .dataframe tbody tr th {\n",
       "        vertical-align: top;\n",
       "    }\n",
       "\n",
       "    .dataframe thead th {\n",
       "        text-align: right;\n",
       "    }\n",
       "</style>\n",
       "<table border=\"1\" class=\"dataframe\">\n",
       "  <thead>\n",
       "    <tr style=\"text-align: right;\">\n",
       "      <th></th>\n",
       "      <th>TT</th>\n",
       "      <th>AN</th>\n",
       "      <th>AP</th>\n",
       "      <th>AR</th>\n",
       "      <th>AS</th>\n",
       "      <th>BR</th>\n",
       "      <th>CH</th>\n",
       "      <th>CT</th>\n",
       "      <th>DN</th>\n",
       "      <th>DD</th>\n",
       "      <th>...</th>\n",
       "      <th>PB</th>\n",
       "      <th>RJ</th>\n",
       "      <th>SK</th>\n",
       "      <th>TN</th>\n",
       "      <th>TG</th>\n",
       "      <th>TR</th>\n",
       "      <th>UP</th>\n",
       "      <th>UT</th>\n",
       "      <th>WB</th>\n",
       "      <th>UN</th>\n",
       "    </tr>\n",
       "    <tr>\n",
       "      <th>Status</th>\n",
       "      <th></th>\n",
       "      <th></th>\n",
       "      <th></th>\n",
       "      <th></th>\n",
       "      <th></th>\n",
       "      <th></th>\n",
       "      <th></th>\n",
       "      <th></th>\n",
       "      <th></th>\n",
       "      <th></th>\n",
       "      <th></th>\n",
       "      <th></th>\n",
       "      <th></th>\n",
       "      <th></th>\n",
       "      <th></th>\n",
       "      <th></th>\n",
       "      <th></th>\n",
       "      <th></th>\n",
       "      <th></th>\n",
       "      <th></th>\n",
       "      <th></th>\n",
       "    </tr>\n",
       "  </thead>\n",
       "  <tbody>\n",
       "    <tr>\n",
       "      <th>Confirmed</th>\n",
       "      <td>8087331</td>\n",
       "      <td>4301</td>\n",
       "      <td>817679</td>\n",
       "      <td>14668</td>\n",
       "      <td>205533</td>\n",
       "      <td>214946</td>\n",
       "      <td>14292</td>\n",
       "      <td>183588</td>\n",
       "      <td>3238</td>\n",
       "      <td>0</td>\n",
       "      <td>...</td>\n",
       "      <td>132727</td>\n",
       "      <td>193419</td>\n",
       "      <td>3906</td>\n",
       "      <td>719403</td>\n",
       "      <td>235146</td>\n",
       "      <td>30563</td>\n",
       "      <td>477895</td>\n",
       "      <td>61566</td>\n",
       "      <td>365692</td>\n",
       "      <td>0</td>\n",
       "    </tr>\n",
       "    <tr>\n",
       "      <th>Deceased</th>\n",
       "      <td>120538</td>\n",
       "      <td>59</td>\n",
       "      <td>6659</td>\n",
       "      <td>37</td>\n",
       "      <td>927</td>\n",
       "      <td>1076</td>\n",
       "      <td>225</td>\n",
       "      <td>1989</td>\n",
       "      <td>2</td>\n",
       "      <td>0</td>\n",
       "      <td>...</td>\n",
       "      <td>4168</td>\n",
       "      <td>1888</td>\n",
       "      <td>67</td>\n",
       "      <td>11053</td>\n",
       "      <td>1324</td>\n",
       "      <td>342</td>\n",
       "      <td>6983</td>\n",
       "      <td>1009</td>\n",
       "      <td>6725</td>\n",
       "      <td>0</td>\n",
       "    </tr>\n",
       "    <tr>\n",
       "      <th>Recovered</th>\n",
       "      <td>7371739</td>\n",
       "      <td>4045</td>\n",
       "      <td>784752</td>\n",
       "      <td>12623</td>\n",
       "      <td>193571</td>\n",
       "      <td>205385</td>\n",
       "      <td>13402</td>\n",
       "      <td>159268</td>\n",
       "      <td>3146</td>\n",
       "      <td>0</td>\n",
       "      <td>...</td>\n",
       "      <td>124293</td>\n",
       "      <td>175977</td>\n",
       "      <td>3477</td>\n",
       "      <td>683464</td>\n",
       "      <td>216353</td>\n",
       "      <td>28502</td>\n",
       "      <td>446054</td>\n",
       "      <td>56529</td>\n",
       "      <td>321873</td>\n",
       "      <td>0</td>\n",
       "    </tr>\n",
       "  </tbody>\n",
       "</table>\n",
       "<p>3 rows × 39 columns</p>\n",
       "</div>"
      ],
      "text/plain": [
       "                TT    AN      AP     AR      AS      BR     CH      CT    DN  \\\n",
       "Status                                                                         \n",
       "Confirmed  8087331  4301  817679  14668  205533  214946  14292  183588  3238   \n",
       "Deceased    120538    59    6659     37     927    1076    225    1989     2   \n",
       "Recovered  7371739  4045  784752  12623  193571  205385  13402  159268  3146   \n",
       "\n",
       "           DD  ...      PB      RJ    SK      TN      TG     TR      UP  \\\n",
       "Status         ...                                                        \n",
       "Confirmed   0  ...  132727  193419  3906  719403  235146  30563  477895   \n",
       "Deceased    0  ...    4168    1888    67   11053    1324    342    6983   \n",
       "Recovered   0  ...  124293  175977  3477  683464  216353  28502  446054   \n",
       "\n",
       "              UT      WB  UN  \n",
       "Status                        \n",
       "Confirmed  61566  365692   0  \n",
       "Deceased    1009    6725   0  \n",
       "Recovered  56529  321873   0  \n",
       "\n",
       "[3 rows x 39 columns]"
      ]
     },
     "execution_count": 7,
     "metadata": {},
     "output_type": "execute_result"
    }
   ],
   "source": [
    "#hide\n",
    "df_yday.head()"
   ]
  },
  {
   "cell_type": "code",
   "execution_count": 8,
   "metadata": {
    "execution": {
     "iopub.execute_input": "2020-10-30T19:09:28.949944Z",
     "iopub.status.busy": "2020-10-30T19:09:28.949535Z",
     "iopub.status.idle": "2020-10-30T19:09:28.952115Z",
     "shell.execute_reply": "2020-10-30T19:09:28.951719Z"
    },
    "papermill": {
     "duration": 0.021993,
     "end_time": "2020-10-30T19:09:28.952208",
     "exception": false,
     "start_time": "2020-10-30T19:09:28.930215",
     "status": "completed"
    },
    "tags": []
   },
   "outputs": [
    {
     "data": {
      "text/plain": [
       "{'updated': '30-Oct-20',\n",
       " 'since': '29-Oct-20',\n",
       " 'Cases': 8135448,\n",
       " 'Deaths': 121088,\n",
       " 'Recovered': 7430744,\n",
       " 'PCases': 8087331,\n",
       " 'PDeaths': 120538,\n",
       " 'PRecovered': 7371739,\n",
       " 'Cases (+)': 48117,\n",
       " 'Deaths (+)': 550,\n",
       " 'Recovered (+)': 59005}"
      ]
     },
     "execution_count": 8,
     "metadata": {},
     "output_type": "execute_result"
    }
   ],
   "source": [
    "#hide\n",
    "summary = {\n",
    "    'updated' : dt_today,\n",
    "    'since' : dt_yday,\n",
    "    'Cases' : df_today['TT'][0],\n",
    "    'Deaths' : df_today['TT'][1],\n",
    "    'Recovered' : df_today['TT'][2],\n",
    "    'PCases' : df_yday['TT'][0],\n",
    "    'PDeaths' : df_yday['TT'][1],\n",
    "    'PRecovered': df_yday['TT'][2],\n",
    "    'Cases (+)' : df_today['TT'][0] - df_yday['TT'][0],\n",
    "    'Deaths (+)' : df_today['TT'][1] - df_yday['TT'][1],\n",
    "    'Recovered (+)': df_today['TT'][2] - df_yday['TT'][2]\n",
    "}\n",
    "\n",
    "summary"
   ]
  },
  {
   "cell_type": "code",
   "execution_count": 9,
   "metadata": {
    "execution": {
     "iopub.execute_input": "2020-10-30T19:09:28.979965Z",
     "iopub.status.busy": "2020-10-30T19:09:28.979426Z",
     "iopub.status.idle": "2020-10-30T19:09:28.981005Z",
     "shell.execute_reply": "2020-10-30T19:09:28.981357Z"
    },
    "papermill": {
     "duration": 0.017466,
     "end_time": "2020-10-30T19:09:28.981464",
     "exception": false,
     "start_time": "2020-10-30T19:09:28.963998",
     "status": "completed"
    },
    "tags": []
   },
   "outputs": [],
   "source": [
    "#hide\n",
    "overview = '''\n",
    "<!-- #######  HTML!! #########-->\n",
    "<h1 style=\"color: #5e9ca0; text-align: center;\">India</h1>\n",
    "<p style=\"text-align: center;\">Last update: <strong>{update}</strong></p>\n",
    "<p style=\"text-align: center;\">Confirmed cases:</p>\n",
    "<p style=\"text-align: center;font-size:24px;\">{cases} (<span style=\"color: #ff0000;\">+{new}</span>)</p>\n",
    "<p style=\"text-align: center;\">Confirmed deaths:</p>\n",
    "<p style=\"text-align: center;font-size:24px;\">{deaths} (<span style=\"color: #ff0000;\">+{dnew}</span>)</p>\n",
    "<p style=\"text-align: center;\">Recovered cases:</p>\n",
    "<p style=\"text-align: center;font-size:24px;\">{recovered} (<span style=\"color: #00ff00;\">+{rnew}</span>)</p>\n",
    "'''"
   ]
  },
  {
   "cell_type": "code",
   "execution_count": 10,
   "metadata": {
    "execution": {
     "iopub.execute_input": "2020-10-30T19:09:29.009697Z",
     "iopub.status.busy": "2020-10-30T19:09:29.009159Z",
     "iopub.status.idle": "2020-10-30T19:09:29.011767Z",
     "shell.execute_reply": "2020-10-30T19:09:29.011366Z"
    },
    "papermill": {
     "duration": 0.017824,
     "end_time": "2020-10-30T19:09:29.011859",
     "exception": false,
     "start_time": "2020-10-30T19:09:28.994035",
     "status": "completed"
    },
    "tags": []
   },
   "outputs": [
    {
     "data": {
      "text/html": [
       "\n",
       "<!-- #######  HTML!! #########-->\n",
       "<h1 style=\"color: #5e9ca0; text-align: center;\">India</h1>\n",
       "<p style=\"text-align: center;\">Last update: <strong>30-Oct-20</strong></p>\n",
       "<p style=\"text-align: center;\">Confirmed cases:</p>\n",
       "<p style=\"text-align: center;font-size:24px;\">8135448 (<span style=\"color: #ff0000;\">+48117</span>)</p>\n",
       "<p style=\"text-align: center;\">Confirmed deaths:</p>\n",
       "<p style=\"text-align: center;font-size:24px;\">121088 (<span style=\"color: #ff0000;\">+550</span>)</p>\n",
       "<p style=\"text-align: center;\">Recovered cases:</p>\n",
       "<p style=\"text-align: center;font-size:24px;\">7430744 (<span style=\"color: #00ff00;\">+59005</span>)</p>\n"
      ],
      "text/plain": [
       "<IPython.core.display.HTML object>"
      ]
     },
     "metadata": {},
     "output_type": "display_data"
    }
   ],
   "source": [
    "#hide_input\n",
    "# Fill the above HTML with the information from the summary dictionary\n",
    "\n",
    "update = summary['updated']\n",
    "cases = summary['Cases']\n",
    "new = summary['Cases (+)']\n",
    "deaths = summary['Deaths']\n",
    "dnew = summary['Deaths (+)']\n",
    "recovered = summary['Recovered']\n",
    "rnew = summary['Recovered (+)']\n",
    "\n",
    "html = HTML(overview.format(update=update, cases=cases,new=new,deaths=deaths,dnew=dnew, recovered=recovered, rnew=rnew))\n",
    "\n",
    "display(html)"
   ]
  },
  {
   "cell_type": "code",
   "execution_count": 11,
   "metadata": {
    "execution": {
     "iopub.execute_input": "2020-10-30T19:09:29.040694Z",
     "iopub.status.busy": "2020-10-30T19:09:29.040101Z",
     "iopub.status.idle": "2020-10-30T19:09:29.045448Z",
     "shell.execute_reply": "2020-10-30T19:09:29.045801Z"
    },
    "papermill": {
     "duration": 0.022095,
     "end_time": "2020-10-30T19:09:29.045892",
     "exception": false,
     "start_time": "2020-10-30T19:09:29.023797",
     "status": "completed"
    },
    "tags": []
   },
   "outputs": [],
   "source": [
    "#hide\n",
    "df_cases = df[df['Status'] == 'Confirmed'].copy()\n",
    "df_cases.drop(columns = ['Status'], inplace=True)\n",
    "df_deaths = df[df['Status'] == 'Deceased'].copy()\n",
    "df_deaths.drop(columns = ['Status'], inplace=True)\n",
    "df_recovered = df[df['Status'] == 'Recovered'].copy()\n",
    "df_recovered.drop(columns = ['Status'], inplace=True)"
   ]
  },
  {
   "cell_type": "markdown",
   "metadata": {
    "papermill": {
     "duration": 0.013921,
     "end_time": "2020-10-30T19:09:29.072808",
     "exception": false,
     "start_time": "2020-10-30T19:09:29.058887",
     "status": "completed"
    },
    "tags": []
   },
   "source": [
    "Plot for India:"
   ]
  },
  {
   "cell_type": "code",
   "execution_count": 12,
   "metadata": {
    "execution": {
     "iopub.execute_input": "2020-10-30T19:09:29.104475Z",
     "iopub.status.busy": "2020-10-30T19:09:29.104007Z",
     "iopub.status.idle": "2020-10-30T19:09:29.370739Z",
     "shell.execute_reply": "2020-10-30T19:09:29.371177Z"
    },
    "papermill": {
     "duration": 0.287573,
     "end_time": "2020-10-30T19:09:29.371331",
     "exception": false,
     "start_time": "2020-10-30T19:09:29.083758",
     "status": "completed"
    },
    "tags": []
   },
   "outputs": [
    {
     "data": {
      "image/png": "[encoded data removed]",
      "text/plain": [
       "<Figure size 1296x432 with 1 Axes>"
      ]
     },
     "metadata": {
      "needs_background": "light"
     },
     "output_type": "display_data"
    }
   ],
   "source": [
    "#hide_input\n",
    "plt.figure(figsize = (18,6))\n",
    "plt.plot(df_cases['Date'], df_cases['TT'],'.-', alpha=0.7, color='b', label='Confirmed cases')\n",
    "plt.plot(df_recovered['Date'], df_recovered['TT'],'.-', alpha=0.7, color='g', label='Recovered')\n",
    "plt.plot(df_deaths['Date'], df_deaths['TT'],'.-', alpha=0.7, color='r', label='Deceased')\n",
    "plt.legend()\n",
    "plt.title(\"Cases per day in India\")\n",
    "plt.xticks(ticks=' ')\n",
    "plt.xlabel(f'{df_cases.iloc[0][0]} to {df_cases.iloc[-1][0]}')\n",
    "plt.ylabel('No. of cases');"
   ]
  },
  {
   "cell_type": "markdown",
   "metadata": {
    "papermill": {
     "duration": 0.01312,
     "end_time": "2020-10-30T19:09:29.398258",
     "exception": false,
     "start_time": "2020-10-30T19:09:29.385138",
     "status": "completed"
    },
    "tags": []
   },
   "source": [
    "Plots for the states with highest number of cases:"
   ]
  },
  {
   "cell_type": "markdown",
   "metadata": {
    "tags": [
     "papermill-error-cell-tag"
    ]
   },
   "source": [
    "<span id=\"papermill-error-cell\" style=\"color:red; font-family:Helvetica Neue, Helvetica, Arial, sans-serif; font-size:2em;\">Execution using papermill encountered an exception here and stopped:</span>"
   ]
  },
  {
   "cell_type": "code",
   "execution_count": 13,
   "metadata": {
    "execution": {
     "iopub.execute_input": "2020-10-30T19:09:29.436996Z",
     "iopub.status.busy": "2020-10-30T19:09:29.436447Z",
     "iopub.status.idle": "2020-10-30T19:09:29.532135Z",
     "shell.execute_reply": "2020-10-30T19:09:29.533037Z"
    },
    "papermill": {
     "duration": 0.122449,
     "end_time": "2020-10-30T19:09:29.533356",
     "exception": true,
     "start_time": "2020-10-30T19:09:29.410907",
     "status": "failed"
    },
    "tags": []
   },
   "outputs": [
    {
     "ename": "TypeError",
     "evalue": "'>' not supported between instances of 'numpy.ndarray' and 'str'",
     "output_type": "error",
     "traceback": [
      "\u001b[0;31m---------------------------------------------------------------------------\u001b[0m",
      "\u001b[0;31mTypeError\u001b[0m                                 Traceback (most recent call last)",
      "\u001b[0;32m<ipython-input-13-9711672c0a2c>\u001b[0m in \u001b[0;36m<module>\u001b[0;34m\u001b[0m\n\u001b[1;32m      1\u001b[0m \u001b[0;31m#hide_input\u001b[0m\u001b[0;34m\u001b[0m\u001b[0;34m\u001b[0m\u001b[0;34m\u001b[0m\u001b[0m\n\u001b[0;32m----> 2\u001b[0;31m \u001b[0mtop_3\u001b[0m \u001b[0;34m=\u001b[0m \u001b[0msorted\u001b[0m\u001b[0;34m(\u001b[0m\u001b[0mdf_cases\u001b[0m\u001b[0;34m.\u001b[0m\u001b[0msum\u001b[0m\u001b[0;34m(\u001b[0m\u001b[0;34m)\u001b[0m\u001b[0;34m.\u001b[0m\u001b[0mvalues\u001b[0m\u001b[0;34m[\u001b[0m\u001b[0;36m1\u001b[0m\u001b[0;34m:\u001b[0m\u001b[0;34m]\u001b[0m\u001b[0;34m,\u001b[0m \u001b[0mreverse\u001b[0m\u001b[0;34m=\u001b[0m\u001b[0;32mTrue\u001b[0m\u001b[0;34m)\u001b[0m\u001b[0;34m[\u001b[0m\u001b[0;36m1\u001b[0m\u001b[0;34m:\u001b[0m\u001b[0;36m4\u001b[0m\u001b[0;34m]\u001b[0m\u001b[0;34m\u001b[0m\u001b[0;34m\u001b[0m\u001b[0m\n\u001b[0m\u001b[1;32m      3\u001b[0m \u001b[0mtop3_states\u001b[0m\u001b[0;34m=\u001b[0m\u001b[0;34m[\u001b[0m\u001b[0;34m]\u001b[0m\u001b[0;34m\u001b[0m\u001b[0;34m\u001b[0m\u001b[0m\n\u001b[1;32m      4\u001b[0m \u001b[0;32mfor\u001b[0m \u001b[0mi\u001b[0m \u001b[0;32min\u001b[0m \u001b[0mtop_3\u001b[0m\u001b[0;34m:\u001b[0m\u001b[0;34m\u001b[0m\u001b[0;34m\u001b[0m\u001b[0m\n\u001b[1;32m      5\u001b[0m     \u001b[0mtop3_states\u001b[0m\u001b[0;34m.\u001b[0m\u001b[0mappend\u001b[0m\u001b[0;34m(\u001b[0m\u001b[0mdf_cases\u001b[0m\u001b[0;34m.\u001b[0m\u001b[0msum\u001b[0m\u001b[0;34m(\u001b[0m\u001b[0;34m)\u001b[0m\u001b[0;34m[\u001b[0m\u001b[0mdf_cases\u001b[0m\u001b[0;34m.\u001b[0m\u001b[0msum\u001b[0m\u001b[0;34m(\u001b[0m\u001b[0;34m)\u001b[0m \u001b[0;34m==\u001b[0m \u001b[0mi\u001b[0m\u001b[0;34m]\u001b[0m\u001b[0;34m.\u001b[0m\u001b[0mindex\u001b[0m\u001b[0;34m)\u001b[0m\u001b[0;34m\u001b[0m\u001b[0;34m\u001b[0m\u001b[0m\n",
      "\u001b[0;31mTypeError\u001b[0m: '>' not supported between instances of 'numpy.ndarray' and 'str'"
     ]
    }
   ],
   "source": [
    "#hide_input\n",
    "top_3 = sorted(df_cases.sum().values[1:], reverse=True)[1:4]\n",
    "top3_states=[]\n",
    "for i in top_3:\n",
    "    top3_states.append(df_cases.sum()[df_cases.sum() == i].index)\n",
    "\n",
    "\n",
    "fig, ax = plt.subplots(1,3,figsize = (21,6))\n",
    "for i in range(3):\n",
    "    state = top3_states[i].values[0]\n",
    "    ax[i].plot(df_cases['Date'], df_cases[state],'.-', color='b', alpha=0.7)\n",
    "    ax[i].plot(df_deaths['Date'], df_deaths[state],'.-', color='r', alpha=0.7)\n",
    "    ax[i].plot(df_recovered['Date'], df_recovered[state],'.-', color='g', alpha=0.7)\n",
    "    \n",
    "    ax[i].set_title(f\"Cases in {state}\")\n",
    "    ax[i].set_xticks(ticks=' ')\n",
    "    ax[i].set_xlabel(f'{df_cases.iloc[0][0]} to {df_cases.iloc[-1][0]}')\n",
    "    ax[i].set_ylabel('No. of cases');"
   ]
  },
  {
   "cell_type": "code",
   "execution_count": null,
   "metadata": {
    "papermill": {
     "duration": null,
     "end_time": null,
     "exception": null,
     "start_time": null,
     "status": "pending"
    },
    "tags": []
   },
   "outputs": [],
   "source": []
  },
  {
   "cell_type": "code",
   "execution_count": null,
   "metadata": {
    "papermill": {
     "duration": null,
     "end_time": null,
     "exception": null,
     "start_time": null,
     "status": "pending"
    },
    "tags": []
   },
   "outputs": [],
   "source": []
  },
  {
   "cell_type": "code",
   "execution_count": null,
   "metadata": {
    "papermill": {
     "duration": null,
     "end_time": null,
     "exception": null,
     "start_time": null,
     "status": "pending"
    },
    "tags": []
   },
   "outputs": [],
   "source": []
  }
 ],
 "metadata": {
  "kernelspec": {
   "display_name": "Python 3",
   "language": "python",
   "name": "python3"
  },
  "language_info": {
   "codemirror_mode": {
    "name": "ipython",
    "version": 3
   },
   "file_extension": ".py",
   "mimetype": "text/x-python",
   "name": "python",
   "nbconvert_exporter": "python",
   "pygments_lexer": "ipython3",
   "version": "3.6.12"
  },
  "papermill": {
   "duration": 2.944988,
   "end_time": "2020-10-30T19:09:29.940362",
   "environment_variables": {},
   "exception": true,
   "input_path": "2020-08-09-DailyUpdate.ipynb",
   "output_path": "2020-08-09-DailyUpdate.ipynb",
   "parameters": {},
   "start_time": "2020-10-30T19:09:26.995374",
   "version": "2.1.2"
  }
 },
 "nbformat": 4,
 "nbformat_minor": 4
}