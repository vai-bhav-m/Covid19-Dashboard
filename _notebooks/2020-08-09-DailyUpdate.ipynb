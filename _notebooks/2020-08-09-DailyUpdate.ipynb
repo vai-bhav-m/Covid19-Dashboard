{
 "cells": [
  {
   "cell_type": "markdown",
   "metadata": {
    "tags": [
     "papermill-error-cell-tag"
    ]
   },
   "source": [
    "<span style=\"color:red; font-family:Helvetica Neue, Helvetica, Arial, sans-serif; font-size:2em;\">An Exception was encountered at '<a href=\"#papermill-error-cell\">In [13]</a>'.</span>"
   ]
  },
  {
   "cell_type": "markdown",
   "metadata": {
    "papermill": {
     "duration": 0.01821,
     "end_time": "2020-10-22T19:14:08.946174",
     "exception": false,
     "start_time": "2020-10-22T19:14:08.927964",
     "status": "completed"
    },
    "tags": []
   },
   "source": [
    "# COVID-19 India Daily updates\n",
    "> Tracking coronavirus total cases, deaths and new cases in India on a daily basis\n",
    "\n",
    "- author: Vaibhav Mahapatra"
   ]
  },
  {
   "cell_type": "code",
   "execution_count": 1,
   "metadata": {
    "execution": {
     "iopub.execute_input": "2020-10-22T19:14:08.983024Z",
     "iopub.status.busy": "2020-10-22T19:14:08.982398Z",
     "iopub.status.idle": "2020-10-22T19:14:09.573376Z",
     "shell.execute_reply": "2020-10-22T19:14:09.572262Z"
    },
    "papermill": {
     "duration": 0.614147,
     "end_time": "2020-10-22T19:14:09.573556",
     "exception": false,
     "start_time": "2020-10-22T19:14:08.959409",
     "status": "completed"
    },
    "tags": []
   },
   "outputs": [],
   "source": [
    "#hide\n",
    "\n",
    "## Import essential packages below\n",
    "\n",
    "import pandas as pd\n",
    "import numpy as np\n",
    "import requests\n",
    "import json\n",
    "import matplotlib.pyplot as plt\n",
    "import matplotlib.dates as mdates\n",
    "import matplotlib as mpl\n",
    "from IPython.core.display import display,HTML\n",
    "%matplotlib inline"
   ]
  },
  {
   "cell_type": "code",
   "execution_count": 2,
   "metadata": {
    "execution": {
     "iopub.execute_input": "2020-10-22T19:14:09.604034Z",
     "iopub.status.busy": "2020-10-22T19:14:09.603438Z",
     "iopub.status.idle": "2020-10-22T19:14:09.686684Z",
     "shell.execute_reply": "2020-10-22T19:14:09.687324Z"
    },
    "papermill": {
     "duration": 0.102117,
     "end_time": "2020-10-22T19:14:09.687526",
     "exception": false,
     "start_time": "2020-10-22T19:14:09.585409",
     "status": "completed"
    },
    "tags": []
   },
   "outputs": [
    {
     "data": {
      "text/plain": [
       "(669, 42)"
      ]
     },
     "execution_count": 2,
     "metadata": {},
     "output_type": "execute_result"
    }
   ],
   "source": [
    "#hide\n",
    "url = 'https://api.covid19india.org/csv/latest/state_wise_daily.csv'\n",
    "df = pd.read_csv(url)\n",
    "df.shape"
   ]
  },
  {
   "cell_type": "code",
   "execution_count": 3,
   "metadata": {
    "execution": {
     "iopub.execute_input": "2020-10-22T19:14:09.777816Z",
     "iopub.status.busy": "2020-10-22T19:14:09.769833Z",
     "iopub.status.idle": "2020-10-22T19:14:09.780278Z",
     "shell.execute_reply": "2020-10-22T19:14:09.780773Z"
    },
    "papermill": {
     "duration": 0.080404,
     "end_time": "2020-10-22T19:14:09.780923",
     "exception": false,
     "start_time": "2020-10-22T19:14:09.700519",
     "status": "completed"
    },
    "tags": []
   },
   "outputs": [
    {
     "data": {
      "text/html": [
       "<div>\n",
       "<style scoped>\n",
       "    .dataframe tbody tr th:only-of-type {\n",
       "        vertical-align: middle;\n",
       "    }\n",
       "\n",
       "    .dataframe tbody tr th {\n",
       "        vertical-align: top;\n",
       "    }\n",
       "\n",
       "    .dataframe thead th {\n",
       "        text-align: right;\n",
       "    }\n",
       "</style>\n",
       "<table border=\"1\" class=\"dataframe\">\n",
       "  <thead>\n",
       "    <tr style=\"text-align: right;\">\n",
       "      <th></th>\n",
       "      <th>Date</th>\n",
       "      <th>Date_YMD</th>\n",
       "      <th>Status</th>\n",
       "      <th>TT</th>\n",
       "      <th>AN</th>\n",
       "      <th>AP</th>\n",
       "      <th>AR</th>\n",
       "      <th>AS</th>\n",
       "      <th>BR</th>\n",
       "      <th>CH</th>\n",
       "      <th>...</th>\n",
       "      <th>PB</th>\n",
       "      <th>RJ</th>\n",
       "      <th>SK</th>\n",
       "      <th>TN</th>\n",
       "      <th>TG</th>\n",
       "      <th>TR</th>\n",
       "      <th>UP</th>\n",
       "      <th>UT</th>\n",
       "      <th>WB</th>\n",
       "      <th>UN</th>\n",
       "    </tr>\n",
       "  </thead>\n",
       "  <tbody>\n",
       "    <tr>\n",
       "      <th>663</th>\n",
       "      <td>21-Oct-20</td>\n",
       "      <td>2020-10-18</td>\n",
       "      <td>Confirmed</td>\n",
       "      <td>56264</td>\n",
       "      <td>27</td>\n",
       "      <td>3746</td>\n",
       "      <td>134</td>\n",
       "      <td>701</td>\n",
       "      <td>1277</td>\n",
       "      <td>54</td>\n",
       "      <td>...</td>\n",
       "      <td>498</td>\n",
       "      <td>1810</td>\n",
       "      <td>34</td>\n",
       "      <td>3086</td>\n",
       "      <td>1579</td>\n",
       "      <td>112</td>\n",
       "      <td>2321</td>\n",
       "      <td>505</td>\n",
       "      <td>4069</td>\n",
       "      <td>0</td>\n",
       "    </tr>\n",
       "    <tr>\n",
       "      <th>664</th>\n",
       "      <td>21-Oct-20</td>\n",
       "      <td>2020-10-18</td>\n",
       "      <td>Recovered</td>\n",
       "      <td>79561</td>\n",
       "      <td>11</td>\n",
       "      <td>4739</td>\n",
       "      <td>164</td>\n",
       "      <td>1664</td>\n",
       "      <td>1319</td>\n",
       "      <td>118</td>\n",
       "      <td>...</td>\n",
       "      <td>562</td>\n",
       "      <td>2865</td>\n",
       "      <td>35</td>\n",
       "      <td>4301</td>\n",
       "      <td>1811</td>\n",
       "      <td>265</td>\n",
       "      <td>3332</td>\n",
       "      <td>770</td>\n",
       "      <td>3596</td>\n",
       "      <td>0</td>\n",
       "    </tr>\n",
       "    <tr>\n",
       "      <th>665</th>\n",
       "      <td>21-Oct-20</td>\n",
       "      <td>2020-10-18</td>\n",
       "      <td>Deceased</td>\n",
       "      <td>701</td>\n",
       "      <td>0</td>\n",
       "      <td>27</td>\n",
       "      <td>0</td>\n",
       "      <td>5</td>\n",
       "      <td>8</td>\n",
       "      <td>0</td>\n",
       "      <td>...</td>\n",
       "      <td>23</td>\n",
       "      <td>14</td>\n",
       "      <td>0</td>\n",
       "      <td>39</td>\n",
       "      <td>5</td>\n",
       "      <td>1</td>\n",
       "      <td>41</td>\n",
       "      <td>14</td>\n",
       "      <td>64</td>\n",
       "      <td>0</td>\n",
       "    </tr>\n",
       "    <tr>\n",
       "      <th>666</th>\n",
       "      <td>22-Oct-20</td>\n",
       "      <td>2020-10-18</td>\n",
       "      <td>Confirmed</td>\n",
       "      <td>53830</td>\n",
       "      <td>16</td>\n",
       "      <td>3620</td>\n",
       "      <td>0</td>\n",
       "      <td>508</td>\n",
       "      <td>1058</td>\n",
       "      <td>51</td>\n",
       "      <td>...</td>\n",
       "      <td>605</td>\n",
       "      <td>1822</td>\n",
       "      <td>0</td>\n",
       "      <td>3077</td>\n",
       "      <td>1456</td>\n",
       "      <td>125</td>\n",
       "      <td>2383</td>\n",
       "      <td>402</td>\n",
       "      <td>4157</td>\n",
       "      <td>0</td>\n",
       "    </tr>\n",
       "    <tr>\n",
       "      <th>667</th>\n",
       "      <td>22-Oct-20</td>\n",
       "      <td>2020-10-18</td>\n",
       "      <td>Recovered</td>\n",
       "      <td>73768</td>\n",
       "      <td>24</td>\n",
       "      <td>3723</td>\n",
       "      <td>0</td>\n",
       "      <td>1584</td>\n",
       "      <td>985</td>\n",
       "      <td>82</td>\n",
       "      <td>...</td>\n",
       "      <td>935</td>\n",
       "      <td>2654</td>\n",
       "      <td>0</td>\n",
       "      <td>4314</td>\n",
       "      <td>1717</td>\n",
       "      <td>239</td>\n",
       "      <td>2581</td>\n",
       "      <td>568</td>\n",
       "      <td>3608</td>\n",
       "      <td>0</td>\n",
       "    </tr>\n",
       "    <tr>\n",
       "      <th>668</th>\n",
       "      <td>22-Oct-20</td>\n",
       "      <td>2020-10-18</td>\n",
       "      <td>Deceased</td>\n",
       "      <td>679</td>\n",
       "      <td>1</td>\n",
       "      <td>16</td>\n",
       "      <td>0</td>\n",
       "      <td>7</td>\n",
       "      <td>7</td>\n",
       "      <td>3</td>\n",
       "      <td>...</td>\n",
       "      <td>12</td>\n",
       "      <td>12</td>\n",
       "      <td>0</td>\n",
       "      <td>45</td>\n",
       "      <td>5</td>\n",
       "      <td>2</td>\n",
       "      <td>35</td>\n",
       "      <td>8</td>\n",
       "      <td>64</td>\n",
       "      <td>0</td>\n",
       "    </tr>\n",
       "  </tbody>\n",
       "</table>\n",
       "<p>6 rows × 42 columns</p>\n",
       "</div>"
      ],
      "text/plain": [
       "          Date    Date_YMD     Status     TT  AN    AP   AR    AS    BR   CH  \\\n",
       "663  21-Oct-20  2020-10-18  Confirmed  56264  27  3746  134   701  1277   54   \n",
       "664  21-Oct-20  2020-10-18  Recovered  79561  11  4739  164  1664  1319  118   \n",
       "665  21-Oct-20  2020-10-18   Deceased    701   0    27    0     5     8    0   \n",
       "666  22-Oct-20  2020-10-18  Confirmed  53830  16  3620    0   508  1058   51   \n",
       "667  22-Oct-20  2020-10-18  Recovered  73768  24  3723    0  1584   985   82   \n",
       "668  22-Oct-20  2020-10-18   Deceased    679   1    16    0     7     7    3   \n",
       "\n",
       "     ...   PB    RJ  SK    TN    TG   TR    UP   UT    WB  UN  \n",
       "663  ...  498  1810  34  3086  1579  112  2321  505  4069   0  \n",
       "664  ...  562  2865  35  4301  1811  265  3332  770  3596   0  \n",
       "665  ...   23    14   0    39     5    1    41   14    64   0  \n",
       "666  ...  605  1822   0  3077  1456  125  2383  402  4157   0  \n",
       "667  ...  935  2654   0  4314  1717  239  2581  568  3608   0  \n",
       "668  ...   12    12   0    45     5    2    35    8    64   0  \n",
       "\n",
       "[6 rows x 42 columns]"
      ]
     },
     "execution_count": 3,
     "metadata": {},
     "output_type": "execute_result"
    }
   ],
   "source": [
    "#hide\n",
    "df.tail(6)"
   ]
  },
  {
   "cell_type": "code",
   "execution_count": 4,
   "metadata": {
    "execution": {
     "iopub.execute_input": "2020-10-22T19:14:09.813209Z",
     "iopub.status.busy": "2020-10-22T19:14:09.812408Z",
     "iopub.status.idle": "2020-10-22T19:14:09.814632Z",
     "shell.execute_reply": "2020-10-22T19:14:09.815094Z"
    },
    "papermill": {
     "duration": 0.021679,
     "end_time": "2020-10-22T19:14:09.815240",
     "exception": false,
     "start_time": "2020-10-22T19:14:09.793561",
     "status": "completed"
    },
    "tags": []
   },
   "outputs": [
    {
     "data": {
      "text/plain": [
       "('22-Oct-20', '21-Oct-20')"
      ]
     },
     "execution_count": 4,
     "metadata": {},
     "output_type": "execute_result"
    }
   ],
   "source": [
    "#hide\n",
    "dt_today = df.iloc[-1][0]\n",
    "dt_yday = df.iloc[-4][0]\n",
    "dt_today, dt_yday"
   ]
  },
  {
   "cell_type": "code",
   "execution_count": 5,
   "metadata": {
    "execution": {
     "iopub.execute_input": "2020-10-22T19:14:09.847627Z",
     "iopub.status.busy": "2020-10-22T19:14:09.847046Z",
     "iopub.status.idle": "2020-10-22T19:14:09.853402Z",
     "shell.execute_reply": "2020-10-22T19:14:09.853904Z"
    },
    "papermill": {
     "duration": 0.025768,
     "end_time": "2020-10-22T19:14:09.854053",
     "exception": false,
     "start_time": "2020-10-22T19:14:09.828285",
     "status": "completed"
    },
    "tags": []
   },
   "outputs": [],
   "source": [
    "#hide\n",
    "df_today = df.groupby('Status').sum()\n",
    "df_yday = df.iloc[:-3][:].groupby('Status').sum()"
   ]
  },
  {
   "cell_type": "code",
   "execution_count": 6,
   "metadata": {
    "execution": {
     "iopub.execute_input": "2020-10-22T19:14:09.899092Z",
     "iopub.status.busy": "2020-10-22T19:14:09.898470Z",
     "iopub.status.idle": "2020-10-22T19:14:09.909460Z",
     "shell.execute_reply": "2020-10-22T19:14:09.908949Z"
    },
    "papermill": {
     "duration": 0.04055,
     "end_time": "2020-10-22T19:14:09.909591",
     "exception": false,
     "start_time": "2020-10-22T19:14:09.869041",
     "status": "completed"
    },
    "tags": []
   },
   "outputs": [
    {
     "data": {
      "text/html": [
       "<div>\n",
       "<style scoped>\n",
       "    .dataframe tbody tr th:only-of-type {\n",
       "        vertical-align: middle;\n",
       "    }\n",
       "\n",
       "    .dataframe tbody tr th {\n",
       "        vertical-align: top;\n",
       "    }\n",
       "\n",
       "    .dataframe thead th {\n",
       "        text-align: right;\n",
       "    }\n",
       "</style>\n",
       "<table border=\"1\" class=\"dataframe\">\n",
       "  <thead>\n",
       "    <tr style=\"text-align: right;\">\n",
       "      <th></th>\n",
       "      <th>TT</th>\n",
       "      <th>AN</th>\n",
       "      <th>AP</th>\n",
       "      <th>AR</th>\n",
       "      <th>AS</th>\n",
       "      <th>BR</th>\n",
       "      <th>CH</th>\n",
       "      <th>CT</th>\n",
       "      <th>DN</th>\n",
       "      <th>DD</th>\n",
       "      <th>...</th>\n",
       "      <th>PB</th>\n",
       "      <th>RJ</th>\n",
       "      <th>SK</th>\n",
       "      <th>TN</th>\n",
       "      <th>TG</th>\n",
       "      <th>TR</th>\n",
       "      <th>UP</th>\n",
       "      <th>UT</th>\n",
       "      <th>WB</th>\n",
       "      <th>UN</th>\n",
       "    </tr>\n",
       "    <tr>\n",
       "      <th>Status</th>\n",
       "      <th></th>\n",
       "      <th></th>\n",
       "      <th></th>\n",
       "      <th></th>\n",
       "      <th></th>\n",
       "      <th></th>\n",
       "      <th></th>\n",
       "      <th></th>\n",
       "      <th></th>\n",
       "      <th></th>\n",
       "      <th></th>\n",
       "      <th></th>\n",
       "      <th></th>\n",
       "      <th></th>\n",
       "      <th></th>\n",
       "      <th></th>\n",
       "      <th></th>\n",
       "      <th></th>\n",
       "      <th></th>\n",
       "      <th></th>\n",
       "      <th></th>\n",
       "    </tr>\n",
       "  </thead>\n",
       "  <tbody>\n",
       "    <tr>\n",
       "      <th>Confirmed</th>\n",
       "      <td>7758619</td>\n",
       "      <td>4180</td>\n",
       "      <td>796919</td>\n",
       "      <td>13912</td>\n",
       "      <td>203180</td>\n",
       "      <td>209296</td>\n",
       "      <td>13848</td>\n",
       "      <td>170130</td>\n",
       "      <td>3206</td>\n",
       "      <td>0</td>\n",
       "      <td>...</td>\n",
       "      <td>129693</td>\n",
       "      <td>180755</td>\n",
       "      <td>3690</td>\n",
       "      <td>700193</td>\n",
       "      <td>227070</td>\n",
       "      <td>29922</td>\n",
       "      <td>463858</td>\n",
       "      <td>59508</td>\n",
       "      <td>337283</td>\n",
       "      <td>0</td>\n",
       "    </tr>\n",
       "    <tr>\n",
       "      <th>Deceased</th>\n",
       "      <td>116743</td>\n",
       "      <td>57</td>\n",
       "      <td>6524</td>\n",
       "      <td>31</td>\n",
       "      <td>900</td>\n",
       "      <td>1026</td>\n",
       "      <td>212</td>\n",
       "      <td>1680</td>\n",
       "      <td>2</td>\n",
       "      <td>0</td>\n",
       "      <td>...</td>\n",
       "      <td>4072</td>\n",
       "      <td>1800</td>\n",
       "      <td>63</td>\n",
       "      <td>10825</td>\n",
       "      <td>1292</td>\n",
       "      <td>331</td>\n",
       "      <td>6790</td>\n",
       "      <td>968</td>\n",
       "      <td>6308</td>\n",
       "      <td>0</td>\n",
       "    </tr>\n",
       "    <tr>\n",
       "      <th>Recovered</th>\n",
       "      <td>6945851</td>\n",
       "      <td>3928</td>\n",
       "      <td>758138</td>\n",
       "      <td>11199</td>\n",
       "      <td>177659</td>\n",
       "      <td>197193</td>\n",
       "      <td>12924</td>\n",
       "      <td>143212</td>\n",
       "      <td>3120</td>\n",
       "      <td>0</td>\n",
       "      <td>...</td>\n",
       "      <td>121155</td>\n",
       "      <td>160614</td>\n",
       "      <td>3281</td>\n",
       "      <td>655170</td>\n",
       "      <td>206105</td>\n",
       "      <td>27229</td>\n",
       "      <td>427937</td>\n",
       "      <td>53200</td>\n",
       "      <td>294911</td>\n",
       "      <td>0</td>\n",
       "    </tr>\n",
       "  </tbody>\n",
       "</table>\n",
       "<p>3 rows × 39 columns</p>\n",
       "</div>"
      ],
      "text/plain": [
       "                TT    AN      AP     AR      AS      BR     CH      CT    DN  \\\n",
       "Status                                                                         \n",
       "Confirmed  7758619  4180  796919  13912  203180  209296  13848  170130  3206   \n",
       "Deceased    116743    57    6524     31     900    1026    212    1680     2   \n",
       "Recovered  6945851  3928  758138  11199  177659  197193  12924  143212  3120   \n",
       "\n",
       "           DD  ...      PB      RJ    SK      TN      TG     TR      UP  \\\n",
       "Status         ...                                                        \n",
       "Confirmed   0  ...  129693  180755  3690  700193  227070  29922  463858   \n",
       "Deceased    0  ...    4072    1800    63   10825    1292    331    6790   \n",
       "Recovered   0  ...  121155  160614  3281  655170  206105  27229  427937   \n",
       "\n",
       "              UT      WB  UN  \n",
       "Status                        \n",
       "Confirmed  59508  337283   0  \n",
       "Deceased     968    6308   0  \n",
       "Recovered  53200  294911   0  \n",
       "\n",
       "[3 rows x 39 columns]"
      ]
     },
     "execution_count": 6,
     "metadata": {},
     "output_type": "execute_result"
    }
   ],
   "source": [
    "#hide\n",
    "df_today"
   ]
  },
  {
   "cell_type": "code",
   "execution_count": 7,
   "metadata": {
    "execution": {
     "iopub.execute_input": "2020-10-22T19:14:09.985461Z",
     "iopub.status.busy": "2020-10-22T19:14:09.984854Z",
     "iopub.status.idle": "2020-10-22T19:14:09.997369Z",
     "shell.execute_reply": "2020-10-22T19:14:09.996879Z"
    },
    "papermill": {
     "duration": 0.03602,
     "end_time": "2020-10-22T19:14:09.997505",
     "exception": false,
     "start_time": "2020-10-22T19:14:09.961485",
     "status": "completed"
    },
    "tags": []
   },
   "outputs": [
    {
     "data": {
      "text/html": [
       "<div>\n",
       "<style scoped>\n",
       "    .dataframe tbody tr th:only-of-type {\n",
       "        vertical-align: middle;\n",
       "    }\n",
       "\n",
       "    .dataframe tbody tr th {\n",
       "        vertical-align: top;\n",
       "    }\n",
       "\n",
       "    .dataframe thead th {\n",
       "        text-align: right;\n",
       "    }\n",
       "</style>\n",
       "<table border=\"1\" class=\"dataframe\">\n",
       "  <thead>\n",
       "    <tr style=\"text-align: right;\">\n",
       "      <th></th>\n",
       "      <th>TT</th>\n",
       "      <th>AN</th>\n",
       "      <th>AP</th>\n",
       "      <th>AR</th>\n",
       "      <th>AS</th>\n",
       "      <th>BR</th>\n",
       "      <th>CH</th>\n",
       "      <th>CT</th>\n",
       "      <th>DN</th>\n",
       "      <th>DD</th>\n",
       "      <th>...</th>\n",
       "      <th>PB</th>\n",
       "      <th>RJ</th>\n",
       "      <th>SK</th>\n",
       "      <th>TN</th>\n",
       "      <th>TG</th>\n",
       "      <th>TR</th>\n",
       "      <th>UP</th>\n",
       "      <th>UT</th>\n",
       "      <th>WB</th>\n",
       "      <th>UN</th>\n",
       "    </tr>\n",
       "    <tr>\n",
       "      <th>Status</th>\n",
       "      <th></th>\n",
       "      <th></th>\n",
       "      <th></th>\n",
       "      <th></th>\n",
       "      <th></th>\n",
       "      <th></th>\n",
       "      <th></th>\n",
       "      <th></th>\n",
       "      <th></th>\n",
       "      <th></th>\n",
       "      <th></th>\n",
       "      <th></th>\n",
       "      <th></th>\n",
       "      <th></th>\n",
       "      <th></th>\n",
       "      <th></th>\n",
       "      <th></th>\n",
       "      <th></th>\n",
       "      <th></th>\n",
       "      <th></th>\n",
       "      <th></th>\n",
       "    </tr>\n",
       "  </thead>\n",
       "  <tbody>\n",
       "    <tr>\n",
       "      <th>Confirmed</th>\n",
       "      <td>7704789</td>\n",
       "      <td>4164</td>\n",
       "      <td>793299</td>\n",
       "      <td>13912</td>\n",
       "      <td>202672</td>\n",
       "      <td>208238</td>\n",
       "      <td>13797</td>\n",
       "      <td>167639</td>\n",
       "      <td>3204</td>\n",
       "      <td>0</td>\n",
       "      <td>...</td>\n",
       "      <td>129088</td>\n",
       "      <td>178933</td>\n",
       "      <td>3690</td>\n",
       "      <td>697116</td>\n",
       "      <td>225614</td>\n",
       "      <td>29797</td>\n",
       "      <td>461475</td>\n",
       "      <td>59106</td>\n",
       "      <td>333126</td>\n",
       "      <td>0</td>\n",
       "    </tr>\n",
       "    <tr>\n",
       "      <th>Deceased</th>\n",
       "      <td>116064</td>\n",
       "      <td>56</td>\n",
       "      <td>6508</td>\n",
       "      <td>31</td>\n",
       "      <td>893</td>\n",
       "      <td>1019</td>\n",
       "      <td>209</td>\n",
       "      <td>1628</td>\n",
       "      <td>2</td>\n",
       "      <td>0</td>\n",
       "      <td>...</td>\n",
       "      <td>4060</td>\n",
       "      <td>1788</td>\n",
       "      <td>63</td>\n",
       "      <td>10780</td>\n",
       "      <td>1287</td>\n",
       "      <td>329</td>\n",
       "      <td>6755</td>\n",
       "      <td>960</td>\n",
       "      <td>6244</td>\n",
       "      <td>0</td>\n",
       "    </tr>\n",
       "    <tr>\n",
       "      <th>Recovered</th>\n",
       "      <td>6872083</td>\n",
       "      <td>3904</td>\n",
       "      <td>754415</td>\n",
       "      <td>11199</td>\n",
       "      <td>176075</td>\n",
       "      <td>196208</td>\n",
       "      <td>12842</td>\n",
       "      <td>140216</td>\n",
       "      <td>3119</td>\n",
       "      <td>0</td>\n",
       "      <td>...</td>\n",
       "      <td>120220</td>\n",
       "      <td>157960</td>\n",
       "      <td>3281</td>\n",
       "      <td>650856</td>\n",
       "      <td>204388</td>\n",
       "      <td>26990</td>\n",
       "      <td>425356</td>\n",
       "      <td>52632</td>\n",
       "      <td>291303</td>\n",
       "      <td>0</td>\n",
       "    </tr>\n",
       "  </tbody>\n",
       "</table>\n",
       "<p>3 rows × 39 columns</p>\n",
       "</div>"
      ],
      "text/plain": [
       "                TT    AN      AP     AR      AS      BR     CH      CT    DN  \\\n",
       "Status                                                                         \n",
       "Confirmed  7704789  4164  793299  13912  202672  208238  13797  167639  3204   \n",
       "Deceased    116064    56    6508     31     893    1019    209    1628     2   \n",
       "Recovered  6872083  3904  754415  11199  176075  196208  12842  140216  3119   \n",
       "\n",
       "           DD  ...      PB      RJ    SK      TN      TG     TR      UP  \\\n",
       "Status         ...                                                        \n",
       "Confirmed   0  ...  129088  178933  3690  697116  225614  29797  461475   \n",
       "Deceased    0  ...    4060    1788    63   10780    1287    329    6755   \n",
       "Recovered   0  ...  120220  157960  3281  650856  204388  26990  425356   \n",
       "\n",
       "              UT      WB  UN  \n",
       "Status                        \n",
       "Confirmed  59106  333126   0  \n",
       "Deceased     960    6244   0  \n",
       "Recovered  52632  291303   0  \n",
       "\n",
       "[3 rows x 39 columns]"
      ]
     },
     "execution_count": 7,
     "metadata": {},
     "output_type": "execute_result"
    }
   ],
   "source": [
    "#hide\n",
    "df_yday.head()"
   ]
  },
  {
   "cell_type": "code",
   "execution_count": 8,
   "metadata": {
    "execution": {
     "iopub.execute_input": "2020-10-22T19:14:10.173113Z",
     "iopub.status.busy": "2020-10-22T19:14:10.172414Z",
     "iopub.status.idle": "2020-10-22T19:14:10.178491Z",
     "shell.execute_reply": "2020-10-22T19:14:10.177983Z"
    },
    "papermill": {
     "duration": 0.060029,
     "end_time": "2020-10-22T19:14:10.178623",
     "exception": false,
     "start_time": "2020-10-22T19:14:10.118594",
     "status": "completed"
    },
    "tags": []
   },
   "outputs": [
    {
     "data": {
      "text/plain": [
       "{'updated': '22-Oct-20',\n",
       " 'since': '21-Oct-20',\n",
       " 'Cases': 7758619,\n",
       " 'Deaths': 116743,\n",
       " 'Recovered': 6945851,\n",
       " 'PCases': 7704789,\n",
       " 'PDeaths': 116064,\n",
       " 'PRecovered': 6872083,\n",
       " 'Cases (+)': 53830,\n",
       " 'Deaths (+)': 679,\n",
       " 'Recovered (+)': 73768}"
      ]
     },
     "execution_count": 8,
     "metadata": {},
     "output_type": "execute_result"
    }
   ],
   "source": [
    "#hide\n",
    "summary = {\n",
    "    'updated' : dt_today,\n",
    "    'since' : dt_yday,\n",
    "    'Cases' : df_today['TT'][0],\n",
    "    'Deaths' : df_today['TT'][1],\n",
    "    'Recovered' : df_today['TT'][2],\n",
    "    'PCases' : df_yday['TT'][0],\n",
    "    'PDeaths' : df_yday['TT'][1],\n",
    "    'PRecovered': df_yday['TT'][2],\n",
    "    'Cases (+)' : df_today['TT'][0] - df_yday['TT'][0],\n",
    "    'Deaths (+)' : df_today['TT'][1] - df_yday['TT'][1],\n",
    "    'Recovered (+)': df_today['TT'][2] - df_yday['TT'][2]\n",
    "}\n",
    "\n",
    "summary"
   ]
  },
  {
   "cell_type": "code",
   "execution_count": 9,
   "metadata": {
    "execution": {
     "iopub.execute_input": "2020-10-22T19:14:10.262284Z",
     "iopub.status.busy": "2020-10-22T19:14:10.259279Z",
     "iopub.status.idle": "2020-10-22T19:14:10.264754Z",
     "shell.execute_reply": "2020-10-22T19:14:10.265800Z"
    },
    "papermill": {
     "duration": 0.06528,
     "end_time": "2020-10-22T19:14:10.265960",
     "exception": false,
     "start_time": "2020-10-22T19:14:10.200680",
     "status": "completed"
    },
    "tags": []
   },
   "outputs": [],
   "source": [
    "#hide\n",
    "overview = '''\n",
    "<!-- #######  HTML!! #########-->\n",
    "<h1 style=\"color: #5e9ca0; text-align: center;\">India</h1>\n",
    "<p style=\"text-align: center;\">Last update: <strong>{update}</strong></p>\n",
    "<p style=\"text-align: center;\">Confirmed cases:</p>\n",
    "<p style=\"text-align: center;font-size:24px;\">{cases} (<span style=\"color: #ff0000;\">+{new}</span>)</p>\n",
    "<p style=\"text-align: center;\">Confirmed deaths:</p>\n",
    "<p style=\"text-align: center;font-size:24px;\">{deaths} (<span style=\"color: #ff0000;\">+{dnew}</span>)</p>\n",
    "<p style=\"text-align: center;\">Recovered cases:</p>\n",
    "<p style=\"text-align: center;font-size:24px;\">{recovered} (<span style=\"color: #00ff00;\">+{rnew}</span>)</p>\n",
    "'''"
   ]
  },
  {
   "cell_type": "code",
   "execution_count": 10,
   "metadata": {
    "execution": {
     "iopub.execute_input": "2020-10-22T19:14:10.373300Z",
     "iopub.status.busy": "2020-10-22T19:14:10.372668Z",
     "iopub.status.idle": "2020-10-22T19:14:10.374778Z",
     "shell.execute_reply": "2020-10-22T19:14:10.375321Z"
    },
    "papermill": {
     "duration": 0.070553,
     "end_time": "2020-10-22T19:14:10.375469",
     "exception": false,
     "start_time": "2020-10-22T19:14:10.304916",
     "status": "completed"
    },
    "tags": []
   },
   "outputs": [
    {
     "data": {
      "text/html": [
       "\n",
       "<!-- #######  HTML!! #########-->\n",
       "<h1 style=\"color: #5e9ca0; text-align: center;\">India</h1>\n",
       "<p style=\"text-align: center;\">Last update: <strong>22-Oct-20</strong></p>\n",
       "<p style=\"text-align: center;\">Confirmed cases:</p>\n",
       "<p style=\"text-align: center;font-size:24px;\">7758619 (<span style=\"color: #ff0000;\">+53830</span>)</p>\n",
       "<p style=\"text-align: center;\">Confirmed deaths:</p>\n",
       "<p style=\"text-align: center;font-size:24px;\">116743 (<span style=\"color: #ff0000;\">+679</span>)</p>\n",
       "<p style=\"text-align: center;\">Recovered cases:</p>\n",
       "<p style=\"text-align: center;font-size:24px;\">6945851 (<span style=\"color: #00ff00;\">+73768</span>)</p>\n"
      ],
      "text/plain": [
       "<IPython.core.display.HTML object>"
      ]
     },
     "metadata": {},
     "output_type": "display_data"
    }
   ],
   "source": [
    "#hide_input\n",
    "# Fill the above HTML with the information from the summary dictionary\n",
    "\n",
    "update = summary['updated']\n",
    "cases = summary['Cases']\n",
    "new = summary['Cases (+)']\n",
    "deaths = summary['Deaths']\n",
    "dnew = summary['Deaths (+)']\n",
    "recovered = summary['Recovered']\n",
    "rnew = summary['Recovered (+)']\n",
    "\n",
    "html = HTML(overview.format(update=update, cases=cases,new=new,deaths=deaths,dnew=dnew, recovered=recovered, rnew=rnew))\n",
    "\n",
    "display(html)"
   ]
  },
  {
   "cell_type": "code",
   "execution_count": 11,
   "metadata": {
    "execution": {
     "iopub.execute_input": "2020-10-22T19:14:10.466083Z",
     "iopub.status.busy": "2020-10-22T19:14:10.465411Z",
     "iopub.status.idle": "2020-10-22T19:14:10.475867Z",
     "shell.execute_reply": "2020-10-22T19:14:10.474821Z"
    },
    "papermill": {
     "duration": 0.0652,
     "end_time": "2020-10-22T19:14:10.476092",
     "exception": false,
     "start_time": "2020-10-22T19:14:10.410892",
     "status": "completed"
    },
    "tags": []
   },
   "outputs": [],
   "source": [
    "#hide\n",
    "df_cases = df[df['Status'] == 'Confirmed'].copy()\n",
    "df_cases.drop(columns = ['Status'], inplace=True)\n",
    "df_deaths = df[df['Status'] == 'Deceased'].copy()\n",
    "df_deaths.drop(columns = ['Status'], inplace=True)\n",
    "df_recovered = df[df['Status'] == 'Recovered'].copy()\n",
    "df_recovered.drop(columns = ['Status'], inplace=True)"
   ]
  },
  {
   "cell_type": "markdown",
   "metadata": {
    "papermill": {
     "duration": 0.059988,
     "end_time": "2020-10-22T19:14:10.572997",
     "exception": false,
     "start_time": "2020-10-22T19:14:10.513009",
     "status": "completed"
    },
    "tags": []
   },
   "source": [
    "Plot for India:"
   ]
  },
  {
   "cell_type": "code",
   "execution_count": 12,
   "metadata": {
    "execution": {
     "iopub.execute_input": "2020-10-22T19:14:11.125802Z",
     "iopub.status.busy": "2020-10-22T19:14:11.092595Z",
     "iopub.status.idle": "2020-10-22T19:14:11.362364Z",
     "shell.execute_reply": "2020-10-22T19:14:11.363054Z"
    },
    "papermill": {
     "duration": 0.341483,
     "end_time": "2020-10-22T19:14:11.363264",
     "exception": false,
     "start_time": "2020-10-22T19:14:11.021781",
     "status": "completed"
    },
    "tags": []
   },
   "outputs": [
    {
     "data": {
      "image/png": "[encoded data removed]",
      "text/plain": [
       "<Figure size 1296x432 with 1 Axes>"
      ]
     },
     "metadata": {
      "needs_background": "light"
     },
     "output_type": "display_data"
    }
   ],
   "source": [
    "#hide_input\n",
    "plt.figure(figsize = (18,6))\n",
    "plt.plot(df_cases['Date'], df_cases['TT'],'.-', alpha=0.7, color='b', label='Confirmed cases')\n",
    "plt.plot(df_recovered['Date'], df_recovered['TT'],'.-', alpha=0.7, color='g', label='Recovered')\n",
    "plt.plot(df_deaths['Date'], df_deaths['TT'],'.-', alpha=0.7, color='r', label='Deceased')\n",
    "plt.legend()\n",
    "plt.title(\"Cases per day in India\")\n",
    "plt.xticks(ticks=' ')\n",
    "plt.xlabel(f'{df_cases.iloc[0][0]} to {df_cases.iloc[-1][0]}')\n",
    "plt.ylabel('No. of cases');"
   ]
  },
  {
   "cell_type": "markdown",
   "metadata": {
    "papermill": {
     "duration": 0.017699,
     "end_time": "2020-10-22T19:14:11.399092",
     "exception": false,
     "start_time": "2020-10-22T19:14:11.381393",
     "status": "completed"
    },
    "tags": []
   },
   "source": [
    "Plots for the states with highest number of cases:"
   ]
  },
  {
   "cell_type": "markdown",
   "metadata": {
    "tags": [
     "papermill-error-cell-tag"
    ]
   },
   "source": [
    "<span id=\"papermill-error-cell\" style=\"color:red; font-family:Helvetica Neue, Helvetica, Arial, sans-serif; font-size:2em;\">Execution using papermill encountered an exception here and stopped:</span>"
   ]
  },
  {
   "cell_type": "code",
   "execution_count": 13,
   "metadata": {
    "execution": {
     "iopub.execute_input": "2020-10-22T19:14:11.443225Z",
     "iopub.status.busy": "2020-10-22T19:14:11.442605Z",
     "iopub.status.idle": "2020-10-22T19:14:11.558135Z",
     "shell.execute_reply": "2020-10-22T19:14:11.558656Z"
    },
    "papermill": {
     "duration": 0.142537,
     "end_time": "2020-10-22T19:14:11.558870",
     "exception": true,
     "start_time": "2020-10-22T19:14:11.416333",
     "status": "failed"
    },
    "tags": []
   },
   "outputs": [
    {
     "ename": "TypeError",
     "evalue": "'>' not supported between instances of 'numpy.ndarray' and 'str'",
     "output_type": "error",
     "traceback": [
      "\u001b[0;31m---------------------------------------------------------------------------\u001b[0m",
      "\u001b[0;31mTypeError\u001b[0m                                 Traceback (most recent call last)",
      "\u001b[0;32m<ipython-input-13-9711672c0a2c>\u001b[0m in \u001b[0;36m<module>\u001b[0;34m\u001b[0m\n\u001b[1;32m      1\u001b[0m \u001b[0;31m#hide_input\u001b[0m\u001b[0;34m\u001b[0m\u001b[0;34m\u001b[0m\u001b[0;34m\u001b[0m\u001b[0m\n\u001b[0;32m----> 2\u001b[0;31m \u001b[0mtop_3\u001b[0m \u001b[0;34m=\u001b[0m \u001b[0msorted\u001b[0m\u001b[0;34m(\u001b[0m\u001b[0mdf_cases\u001b[0m\u001b[0;34m.\u001b[0m\u001b[0msum\u001b[0m\u001b[0;34m(\u001b[0m\u001b[0;34m)\u001b[0m\u001b[0;34m.\u001b[0m\u001b[0mvalues\u001b[0m\u001b[0;34m[\u001b[0m\u001b[0;36m1\u001b[0m\u001b[0;34m:\u001b[0m\u001b[0;34m]\u001b[0m\u001b[0;34m,\u001b[0m \u001b[0mreverse\u001b[0m\u001b[0;34m=\u001b[0m\u001b[0;32mTrue\u001b[0m\u001b[0;34m)\u001b[0m\u001b[0;34m[\u001b[0m\u001b[0;36m1\u001b[0m\u001b[0;34m:\u001b[0m\u001b[0;36m4\u001b[0m\u001b[0;34m]\u001b[0m\u001b[0;34m\u001b[0m\u001b[0;34m\u001b[0m\u001b[0m\n\u001b[0m\u001b[1;32m      3\u001b[0m \u001b[0mtop3_states\u001b[0m\u001b[0;34m=\u001b[0m\u001b[0;34m[\u001b[0m\u001b[0;34m]\u001b[0m\u001b[0;34m\u001b[0m\u001b[0;34m\u001b[0m\u001b[0m\n\u001b[1;32m      4\u001b[0m \u001b[0;32mfor\u001b[0m \u001b[0mi\u001b[0m \u001b[0;32min\u001b[0m \u001b[0mtop_3\u001b[0m\u001b[0;34m:\u001b[0m\u001b[0;34m\u001b[0m\u001b[0;34m\u001b[0m\u001b[0m\n\u001b[1;32m      5\u001b[0m     \u001b[0mtop3_states\u001b[0m\u001b[0;34m.\u001b[0m\u001b[0mappend\u001b[0m\u001b[0;34m(\u001b[0m\u001b[0mdf_cases\u001b[0m\u001b[0;34m.\u001b[0m\u001b[0msum\u001b[0m\u001b[0;34m(\u001b[0m\u001b[0;34m)\u001b[0m\u001b[0;34m[\u001b[0m\u001b[0mdf_cases\u001b[0m\u001b[0;34m.\u001b[0m\u001b[0msum\u001b[0m\u001b[0;34m(\u001b[0m\u001b[0;34m)\u001b[0m \u001b[0;34m==\u001b[0m \u001b[0mi\u001b[0m\u001b[0;34m]\u001b[0m\u001b[0;34m.\u001b[0m\u001b[0mindex\u001b[0m\u001b[0;34m)\u001b[0m\u001b[0;34m\u001b[0m\u001b[0;34m\u001b[0m\u001b[0m\n",
      "\u001b[0;31mTypeError\u001b[0m: '>' not supported between instances of 'numpy.ndarray' and 'str'"
     ]
    }
   ],
   "source": [
    "#hide_input\n",
    "top_3 = sorted(df_cases.sum().values[1:], reverse=True)[1:4]\n",
    "top3_states=[]\n",
    "for i in top_3:\n",
    "    top3_states.append(df_cases.sum()[df_cases.sum() == i].index)\n",
    "\n",
    "\n",
    "fig, ax = plt.subplots(1,3,figsize = (21,6))\n",
    "for i in range(3):\n",
    "    state = top3_states[i].values[0]\n",
    "    ax[i].plot(df_cases['Date'], df_cases[state],'.-', color='b', alpha=0.7)\n",
    "    ax[i].plot(df_deaths['Date'], df_deaths[state],'.-', color='r', alpha=0.7)\n",
    "    ax[i].plot(df_recovered['Date'], df_recovered[state],'.-', color='g', alpha=0.7)\n",
    "    \n",
    "    ax[i].set_title(f\"Cases in {state}\")\n",
    "    ax[i].set_xticks(ticks=' ')\n",
    "    ax[i].set_xlabel(f'{df_cases.iloc[0][0]} to {df_cases.iloc[-1][0]}')\n",
    "    ax[i].set_ylabel('No. of cases');"
   ]
  },
  {
   "cell_type": "code",
   "execution_count": null,
   "metadata": {
    "papermill": {
     "duration": null,
     "end_time": null,
     "exception": null,
     "start_time": null,
     "status": "pending"
    },
    "tags": []
   },
   "outputs": [],
   "source": []
  },
  {
   "cell_type": "code",
   "execution_count": null,
   "metadata": {
    "papermill": {
     "duration": null,
     "end_time": null,
     "exception": null,
     "start_time": null,
     "status": "pending"
    },
    "tags": []
   },
   "outputs": [],
   "source": []
  },
  {
   "cell_type": "code",
   "execution_count": null,
   "metadata": {
    "papermill": {
     "duration": null,
     "end_time": null,
     "exception": null,
     "start_time": null,
     "status": "pending"
    },
    "tags": []
   },
   "outputs": [],
   "source": []
  }
 ],
 "metadata": {
  "kernelspec": {
   "display_name": "Python 3",
   "language": "python",
   "name": "python3"
  },
  "language_info": {
   "codemirror_mode": {
    "name": "ipython",
    "version": 3
   },
   "file_extension": ".py",
   "mimetype": "text/x-python",
   "name": "python",
   "nbconvert_exporter": "python",
   "pygments_lexer": "ipython3",
   "version": "3.6.12"
  },
  "papermill": {
   "duration": 4.234122,
   "end_time": "2020-10-22T19:14:12.068272",
   "environment_variables": {},
   "exception": true,
   "input_path": "2020-08-09-DailyUpdate.ipynb",
   "output_path": "2020-08-09-DailyUpdate.ipynb",
   "parameters": {},
   "start_time": "2020-10-22T19:14:07.834150",
   "version": "2.1.2"
  }
 },
 "nbformat": 4,
 "nbformat_minor": 4
}