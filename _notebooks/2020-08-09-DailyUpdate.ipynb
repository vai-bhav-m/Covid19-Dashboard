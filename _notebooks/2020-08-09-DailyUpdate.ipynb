{
 "cells": [
  {
   "cell_type": "markdown",
   "metadata": {
    "papermill": {
     "duration": 0.016896,
     "end_time": "2020-09-14T19:12:08.785860",
     "exception": false,
     "start_time": "2020-09-14T19:12:08.768964",
     "status": "completed"
    },
    "tags": []
   },
   "source": [
    "# COVID-19 India Daily updates\n",
    "> Tracking coronavirus total cases, deaths and new cases in India on a daily basis\n",
    "\n",
    "- author: Vaibhav Mahapatra"
   ]
  },
  {
   "cell_type": "code",
   "execution_count": 1,
   "metadata": {
    "execution": {
     "iopub.execute_input": "2020-09-14T19:12:08.817501Z",
     "iopub.status.busy": "2020-09-14T19:12:08.816912Z",
     "iopub.status.idle": "2020-09-14T19:12:09.392726Z",
     "shell.execute_reply": "2020-09-14T19:12:09.392113Z"
    },
    "papermill": {
     "duration": 0.594143,
     "end_time": "2020-09-14T19:12:09.392901",
     "exception": false,
     "start_time": "2020-09-14T19:12:08.798758",
     "status": "completed"
    },
    "tags": []
   },
   "outputs": [],
   "source": [
    "#hide\n",
    "\n",
    "## Import essential packages below\n",
    "\n",
    "import pandas as pd\n",
    "import numpy as np\n",
    "import requests\n",
    "import json\n",
    "import matplotlib.pyplot as plt\n",
    "import matplotlib.dates as mdates\n",
    "import matplotlib as mpl\n",
    "from IPython.core.display import display,HTML\n",
    "%matplotlib inline"
   ]
  },
  {
   "cell_type": "code",
   "execution_count": 2,
   "metadata": {
    "execution": {
     "iopub.execute_input": "2020-09-14T19:12:09.423350Z",
     "iopub.status.busy": "2020-09-14T19:12:09.422699Z",
     "iopub.status.idle": "2020-09-14T19:12:09.642938Z",
     "shell.execute_reply": "2020-09-14T19:12:09.643360Z"
    },
    "papermill": {
     "duration": 0.237749,
     "end_time": "2020-09-14T19:12:09.643517",
     "exception": false,
     "start_time": "2020-09-14T19:12:09.405768",
     "status": "completed"
    },
    "tags": []
   },
   "outputs": [
    {
     "data": {
      "text/plain": [
       "(555, 41)"
      ]
     },
     "execution_count": 2,
     "metadata": {},
     "output_type": "execute_result"
    }
   ],
   "source": [
    "#hide\n",
    "url = 'https://api.covid19india.org/csv/latest/state_wise_daily.csv'\n",
    "df = pd.read_csv(url)\n",
    "df.shape"
   ]
  },
  {
   "cell_type": "code",
   "execution_count": 3,
   "metadata": {
    "execution": {
     "iopub.execute_input": "2020-09-14T19:12:09.705938Z",
     "iopub.status.busy": "2020-09-14T19:12:09.704454Z",
     "iopub.status.idle": "2020-09-14T19:12:09.715868Z",
     "shell.execute_reply": "2020-09-14T19:12:09.716563Z"
    },
    "papermill": {
     "duration": 0.061525,
     "end_time": "2020-09-14T19:12:09.716816",
     "exception": false,
     "start_time": "2020-09-14T19:12:09.655291",
     "status": "completed"
    },
    "tags": []
   },
   "outputs": [
    {
     "data": {
      "text/html": [
       "<div>\n",
       "<style scoped>\n",
       "    .dataframe tbody tr th:only-of-type {\n",
       "        vertical-align: middle;\n",
       "    }\n",
       "\n",
       "    .dataframe tbody tr th {\n",
       "        vertical-align: top;\n",
       "    }\n",
       "\n",
       "    .dataframe thead th {\n",
       "        text-align: right;\n",
       "    }\n",
       "</style>\n",
       "<table border=\"1\" class=\"dataframe\">\n",
       "  <thead>\n",
       "    <tr style=\"text-align: right;\">\n",
       "      <th></th>\n",
       "      <th>Date</th>\n",
       "      <th>Status</th>\n",
       "      <th>TT</th>\n",
       "      <th>AN</th>\n",
       "      <th>AP</th>\n",
       "      <th>AR</th>\n",
       "      <th>AS</th>\n",
       "      <th>BR</th>\n",
       "      <th>CH</th>\n",
       "      <th>CT</th>\n",
       "      <th>...</th>\n",
       "      <th>PB</th>\n",
       "      <th>RJ</th>\n",
       "      <th>SK</th>\n",
       "      <th>TN</th>\n",
       "      <th>TG</th>\n",
       "      <th>TR</th>\n",
       "      <th>UP</th>\n",
       "      <th>UT</th>\n",
       "      <th>WB</th>\n",
       "      <th>UN</th>\n",
       "    </tr>\n",
       "  </thead>\n",
       "  <tbody>\n",
       "    <tr>\n",
       "      <th>549</th>\n",
       "      <td>13-Sep-20</td>\n",
       "      <td>Confirmed</td>\n",
       "      <td>89815</td>\n",
       "      <td>25</td>\n",
       "      <td>9536</td>\n",
       "      <td>160</td>\n",
       "      <td>1292</td>\n",
       "      <td>1523</td>\n",
       "      <td>449</td>\n",
       "      <td>2228</td>\n",
       "      <td>...</td>\n",
       "      <td>2622</td>\n",
       "      <td>1703</td>\n",
       "      <td>0</td>\n",
       "      <td>5693</td>\n",
       "      <td>2216</td>\n",
       "      <td>629</td>\n",
       "      <td>6205</td>\n",
       "      <td>1637</td>\n",
       "      <td>3215</td>\n",
       "      <td>0</td>\n",
       "    </tr>\n",
       "    <tr>\n",
       "      <th>550</th>\n",
       "      <td>13-Sep-20</td>\n",
       "      <td>Recovered</td>\n",
       "      <td>75889</td>\n",
       "      <td>41</td>\n",
       "      <td>10131</td>\n",
       "      <td>126</td>\n",
       "      <td>2251</td>\n",
       "      <td>1895</td>\n",
       "      <td>306</td>\n",
       "      <td>3953</td>\n",
       "      <td>...</td>\n",
       "      <td>2151</td>\n",
       "      <td>1616</td>\n",
       "      <td>0</td>\n",
       "      <td>5717</td>\n",
       "      <td>2603</td>\n",
       "      <td>398</td>\n",
       "      <td>5958</td>\n",
       "      <td>1009</td>\n",
       "      <td>3054</td>\n",
       "      <td>0</td>\n",
       "    </tr>\n",
       "    <tr>\n",
       "      <th>551</th>\n",
       "      <td>13-Sep-20</td>\n",
       "      <td>Deceased</td>\n",
       "      <td>1107</td>\n",
       "      <td>0</td>\n",
       "      <td>66</td>\n",
       "      <td>0</td>\n",
       "      <td>0</td>\n",
       "      <td>14</td>\n",
       "      <td>1</td>\n",
       "      <td>16</td>\n",
       "      <td>...</td>\n",
       "      <td>68</td>\n",
       "      <td>15</td>\n",
       "      <td>0</td>\n",
       "      <td>74</td>\n",
       "      <td>11</td>\n",
       "      <td>12</td>\n",
       "      <td>80</td>\n",
       "      <td>12</td>\n",
       "      <td>58</td>\n",
       "      <td>0</td>\n",
       "    </tr>\n",
       "    <tr>\n",
       "      <th>552</th>\n",
       "      <td>14-Sep-20</td>\n",
       "      <td>Confirmed</td>\n",
       "      <td>81911</td>\n",
       "      <td>11</td>\n",
       "      <td>7956</td>\n",
       "      <td>176</td>\n",
       "      <td>2403</td>\n",
       "      <td>1137</td>\n",
       "      <td>254</td>\n",
       "      <td>3336</td>\n",
       "      <td>...</td>\n",
       "      <td>2421</td>\n",
       "      <td>1730</td>\n",
       "      <td>33</td>\n",
       "      <td>5752</td>\n",
       "      <td>1417</td>\n",
       "      <td>255</td>\n",
       "      <td>5159</td>\n",
       "      <td>1043</td>\n",
       "      <td>3211</td>\n",
       "      <td>0</td>\n",
       "    </tr>\n",
       "    <tr>\n",
       "      <th>553</th>\n",
       "      <td>14-Sep-20</td>\n",
       "      <td>Recovered</td>\n",
       "      <td>79202</td>\n",
       "      <td>35</td>\n",
       "      <td>9764</td>\n",
       "      <td>152</td>\n",
       "      <td>1918</td>\n",
       "      <td>1966</td>\n",
       "      <td>130</td>\n",
       "      <td>1178</td>\n",
       "      <td>...</td>\n",
       "      <td>1448</td>\n",
       "      <td>1644</td>\n",
       "      <td>16</td>\n",
       "      <td>5799</td>\n",
       "      <td>2479</td>\n",
       "      <td>404</td>\n",
       "      <td>5932</td>\n",
       "      <td>1037</td>\n",
       "      <td>3084</td>\n",
       "      <td>0</td>\n",
       "    </tr>\n",
       "    <tr>\n",
       "      <th>554</th>\n",
       "      <td>14-Sep-20</td>\n",
       "      <td>Deceased</td>\n",
       "      <td>1054</td>\n",
       "      <td>1</td>\n",
       "      <td>60</td>\n",
       "      <td>1</td>\n",
       "      <td>13</td>\n",
       "      <td>9</td>\n",
       "      <td>5</td>\n",
       "      <td>18</td>\n",
       "      <td>...</td>\n",
       "      <td>67</td>\n",
       "      <td>14</td>\n",
       "      <td>0</td>\n",
       "      <td>53</td>\n",
       "      <td>13</td>\n",
       "      <td>6</td>\n",
       "      <td>62</td>\n",
       "      <td>15</td>\n",
       "      <td>58</td>\n",
       "      <td>0</td>\n",
       "    </tr>\n",
       "  </tbody>\n",
       "</table>\n",
       "<p>6 rows × 41 columns</p>\n",
       "</div>"
      ],
      "text/plain": [
       "          Date     Status     TT  AN     AP   AR    AS    BR   CH    CT  ...  \\\n",
       "549  13-Sep-20  Confirmed  89815  25   9536  160  1292  1523  449  2228  ...   \n",
       "550  13-Sep-20  Recovered  75889  41  10131  126  2251  1895  306  3953  ...   \n",
       "551  13-Sep-20   Deceased   1107   0     66    0     0    14    1    16  ...   \n",
       "552  14-Sep-20  Confirmed  81911  11   7956  176  2403  1137  254  3336  ...   \n",
       "553  14-Sep-20  Recovered  79202  35   9764  152  1918  1966  130  1178  ...   \n",
       "554  14-Sep-20   Deceased   1054   1     60    1    13     9    5    18  ...   \n",
       "\n",
       "       PB    RJ  SK    TN    TG   TR    UP    UT    WB  UN  \n",
       "549  2622  1703   0  5693  2216  629  6205  1637  3215   0  \n",
       "550  2151  1616   0  5717  2603  398  5958  1009  3054   0  \n",
       "551    68    15   0    74    11   12    80    12    58   0  \n",
       "552  2421  1730  33  5752  1417  255  5159  1043  3211   0  \n",
       "553  1448  1644  16  5799  2479  404  5932  1037  3084   0  \n",
       "554    67    14   0    53    13    6    62    15    58   0  \n",
       "\n",
       "[6 rows x 41 columns]"
      ]
     },
     "execution_count": 3,
     "metadata": {},
     "output_type": "execute_result"
    }
   ],
   "source": [
    "#hide\n",
    "df.tail(6)"
   ]
  },
  {
   "cell_type": "code",
   "execution_count": 4,
   "metadata": {
    "execution": {
     "iopub.execute_input": "2020-09-14T19:12:09.749926Z",
     "iopub.status.busy": "2020-09-14T19:12:09.749080Z",
     "iopub.status.idle": "2020-09-14T19:12:09.752961Z",
     "shell.execute_reply": "2020-09-14T19:12:09.752484Z"
    },
    "papermill": {
     "duration": 0.021745,
     "end_time": "2020-09-14T19:12:09.753087",
     "exception": false,
     "start_time": "2020-09-14T19:12:09.731342",
     "status": "completed"
    },
    "tags": []
   },
   "outputs": [
    {
     "data": {
      "text/plain": [
       "('14-Sep-20', '13-Sep-20')"
      ]
     },
     "execution_count": 4,
     "metadata": {},
     "output_type": "execute_result"
    }
   ],
   "source": [
    "#hide\n",
    "dt_today = df.iloc[-1][0]\n",
    "dt_yday = df.iloc[-4][0]\n",
    "dt_today, dt_yday"
   ]
  },
  {
   "cell_type": "code",
   "execution_count": 5,
   "metadata": {
    "execution": {
     "iopub.execute_input": "2020-09-14T19:12:09.785482Z",
     "iopub.status.busy": "2020-09-14T19:12:09.784863Z",
     "iopub.status.idle": "2020-09-14T19:12:09.791272Z",
     "shell.execute_reply": "2020-09-14T19:12:09.790789Z"
    },
    "papermill": {
     "duration": 0.025048,
     "end_time": "2020-09-14T19:12:09.791397",
     "exception": false,
     "start_time": "2020-09-14T19:12:09.766349",
     "status": "completed"
    },
    "tags": []
   },
   "outputs": [],
   "source": [
    "#hide\n",
    "df_today = df.groupby('Status').sum()\n",
    "df_yday = df.iloc[:-3][:].groupby('Status').sum()"
   ]
  },
  {
   "cell_type": "code",
   "execution_count": 6,
   "metadata": {
    "execution": {
     "iopub.execute_input": "2020-09-14T19:12:09.834102Z",
     "iopub.status.busy": "2020-09-14T19:12:09.833350Z",
     "iopub.status.idle": "2020-09-14T19:12:09.836713Z",
     "shell.execute_reply": "2020-09-14T19:12:09.836242Z"
    },
    "papermill": {
     "duration": 0.033403,
     "end_time": "2020-09-14T19:12:09.836880",
     "exception": false,
     "start_time": "2020-09-14T19:12:09.803477",
     "status": "completed"
    },
    "tags": []
   },
   "outputs": [
    {
     "data": {
      "text/html": [
       "<div>\n",
       "<style scoped>\n",
       "    .dataframe tbody tr th:only-of-type {\n",
       "        vertical-align: middle;\n",
       "    }\n",
       "\n",
       "    .dataframe tbody tr th {\n",
       "        vertical-align: top;\n",
       "    }\n",
       "\n",
       "    .dataframe thead th {\n",
       "        text-align: right;\n",
       "    }\n",
       "</style>\n",
       "<table border=\"1\" class=\"dataframe\">\n",
       "  <thead>\n",
       "    <tr style=\"text-align: right;\">\n",
       "      <th></th>\n",
       "      <th>TT</th>\n",
       "      <th>AN</th>\n",
       "      <th>AP</th>\n",
       "      <th>AR</th>\n",
       "      <th>AS</th>\n",
       "      <th>BR</th>\n",
       "      <th>CH</th>\n",
       "      <th>CT</th>\n",
       "      <th>DN</th>\n",
       "      <th>DD</th>\n",
       "      <th>...</th>\n",
       "      <th>PB</th>\n",
       "      <th>RJ</th>\n",
       "      <th>SK</th>\n",
       "      <th>TN</th>\n",
       "      <th>TG</th>\n",
       "      <th>TR</th>\n",
       "      <th>UP</th>\n",
       "      <th>UT</th>\n",
       "      <th>WB</th>\n",
       "      <th>UN</th>\n",
       "    </tr>\n",
       "    <tr>\n",
       "      <th>Status</th>\n",
       "      <th></th>\n",
       "      <th></th>\n",
       "      <th></th>\n",
       "      <th></th>\n",
       "      <th></th>\n",
       "      <th></th>\n",
       "      <th></th>\n",
       "      <th></th>\n",
       "      <th></th>\n",
       "      <th></th>\n",
       "      <th></th>\n",
       "      <th></th>\n",
       "      <th></th>\n",
       "      <th></th>\n",
       "      <th></th>\n",
       "      <th></th>\n",
       "      <th></th>\n",
       "      <th></th>\n",
       "      <th></th>\n",
       "      <th></th>\n",
       "      <th></th>\n",
       "    </tr>\n",
       "  </thead>\n",
       "  <tbody>\n",
       "    <tr>\n",
       "      <th>Confirmed</th>\n",
       "      <td>4922886</td>\n",
       "      <td>3553</td>\n",
       "      <td>575079</td>\n",
       "      <td>6297</td>\n",
       "      <td>144064</td>\n",
       "      <td>159526</td>\n",
       "      <td>8245</td>\n",
       "      <td>67327</td>\n",
       "      <td>2745</td>\n",
       "      <td>0</td>\n",
       "      <td>...</td>\n",
       "      <td>82100</td>\n",
       "      <td>104138</td>\n",
       "      <td>2101</td>\n",
       "      <td>508511</td>\n",
       "      <td>158003</td>\n",
       "      <td>19184</td>\n",
       "      <td>317195</td>\n",
       "      <td>33016</td>\n",
       "      <td>205919</td>\n",
       "      <td>0</td>\n",
       "    </tr>\n",
       "    <tr>\n",
       "      <th>Deceased</th>\n",
       "      <td>80190</td>\n",
       "      <td>52</td>\n",
       "      <td>4972</td>\n",
       "      <td>11</td>\n",
       "      <td>470</td>\n",
       "      <td>831</td>\n",
       "      <td>95</td>\n",
       "      <td>573</td>\n",
       "      <td>2</td>\n",
       "      <td>0</td>\n",
       "      <td>...</td>\n",
       "      <td>2423</td>\n",
       "      <td>1250</td>\n",
       "      <td>13</td>\n",
       "      <td>8434</td>\n",
       "      <td>974</td>\n",
       "      <td>200</td>\n",
       "      <td>4491</td>\n",
       "      <td>429</td>\n",
       "      <td>4003</td>\n",
       "      <td>0</td>\n",
       "    </tr>\n",
       "    <tr>\n",
       "      <th>Recovered</th>\n",
       "      <td>3854382</td>\n",
       "      <td>3269</td>\n",
       "      <td>476903</td>\n",
       "      <td>4531</td>\n",
       "      <td>115052</td>\n",
       "      <td>145019</td>\n",
       "      <td>5300</td>\n",
       "      <td>33109</td>\n",
       "      <td>2479</td>\n",
       "      <td>0</td>\n",
       "      <td>...</td>\n",
       "      <td>58984</td>\n",
       "      <td>86162</td>\n",
       "      <td>1520</td>\n",
       "      <td>453165</td>\n",
       "      <td>127007</td>\n",
       "      <td>11536</td>\n",
       "      <td>245417</td>\n",
       "      <td>22077</td>\n",
       "      <td>178223</td>\n",
       "      <td>0</td>\n",
       "    </tr>\n",
       "  </tbody>\n",
       "</table>\n",
       "<p>3 rows × 39 columns</p>\n",
       "</div>"
      ],
      "text/plain": [
       "                TT    AN      AP    AR      AS      BR    CH     CT    DN  DD  \\\n",
       "Status                                                                          \n",
       "Confirmed  4922886  3553  575079  6297  144064  159526  8245  67327  2745   0   \n",
       "Deceased     80190    52    4972    11     470     831    95    573     2   0   \n",
       "Recovered  3854382  3269  476903  4531  115052  145019  5300  33109  2479   0   \n",
       "\n",
       "           ...     PB      RJ    SK      TN      TG     TR      UP     UT  \\\n",
       "Status     ...                                                              \n",
       "Confirmed  ...  82100  104138  2101  508511  158003  19184  317195  33016   \n",
       "Deceased   ...   2423    1250    13    8434     974    200    4491    429   \n",
       "Recovered  ...  58984   86162  1520  453165  127007  11536  245417  22077   \n",
       "\n",
       "               WB  UN  \n",
       "Status                 \n",
       "Confirmed  205919   0  \n",
       "Deceased     4003   0  \n",
       "Recovered  178223   0  \n",
       "\n",
       "[3 rows x 39 columns]"
      ]
     },
     "execution_count": 6,
     "metadata": {},
     "output_type": "execute_result"
    }
   ],
   "source": [
    "#hide\n",
    "df_today"
   ]
  },
  {
   "cell_type": "code",
   "execution_count": 7,
   "metadata": {
    "execution": {
     "iopub.execute_input": "2020-09-14T19:12:09.882483Z",
     "iopub.status.busy": "2020-09-14T19:12:09.881885Z",
     "iopub.status.idle": "2020-09-14T19:12:09.885043Z",
     "shell.execute_reply": "2020-09-14T19:12:09.885494Z"
    },
    "papermill": {
     "duration": 0.033672,
     "end_time": "2020-09-14T19:12:09.885619",
     "exception": false,
     "start_time": "2020-09-14T19:12:09.851947",
     "status": "completed"
    },
    "tags": []
   },
   "outputs": [
    {
     "data": {
      "text/html": [
       "<div>\n",
       "<style scoped>\n",
       "    .dataframe tbody tr th:only-of-type {\n",
       "        vertical-align: middle;\n",
       "    }\n",
       "\n",
       "    .dataframe tbody tr th {\n",
       "        vertical-align: top;\n",
       "    }\n",
       "\n",
       "    .dataframe thead th {\n",
       "        text-align: right;\n",
       "    }\n",
       "</style>\n",
       "<table border=\"1\" class=\"dataframe\">\n",
       "  <thead>\n",
       "    <tr style=\"text-align: right;\">\n",
       "      <th></th>\n",
       "      <th>TT</th>\n",
       "      <th>AN</th>\n",
       "      <th>AP</th>\n",
       "      <th>AR</th>\n",
       "      <th>AS</th>\n",
       "      <th>BR</th>\n",
       "      <th>CH</th>\n",
       "      <th>CT</th>\n",
       "      <th>DN</th>\n",
       "      <th>DD</th>\n",
       "      <th>...</th>\n",
       "      <th>PB</th>\n",
       "      <th>RJ</th>\n",
       "      <th>SK</th>\n",
       "      <th>TN</th>\n",
       "      <th>TG</th>\n",
       "      <th>TR</th>\n",
       "      <th>UP</th>\n",
       "      <th>UT</th>\n",
       "      <th>WB</th>\n",
       "      <th>UN</th>\n",
       "    </tr>\n",
       "    <tr>\n",
       "      <th>Status</th>\n",
       "      <th></th>\n",
       "      <th></th>\n",
       "      <th></th>\n",
       "      <th></th>\n",
       "      <th></th>\n",
       "      <th></th>\n",
       "      <th></th>\n",
       "      <th></th>\n",
       "      <th></th>\n",
       "      <th></th>\n",
       "      <th></th>\n",
       "      <th></th>\n",
       "      <th></th>\n",
       "      <th></th>\n",
       "      <th></th>\n",
       "      <th></th>\n",
       "      <th></th>\n",
       "      <th></th>\n",
       "      <th></th>\n",
       "      <th></th>\n",
       "      <th></th>\n",
       "    </tr>\n",
       "  </thead>\n",
       "  <tbody>\n",
       "    <tr>\n",
       "      <th>Confirmed</th>\n",
       "      <td>4840975</td>\n",
       "      <td>3542</td>\n",
       "      <td>567123</td>\n",
       "      <td>6121</td>\n",
       "      <td>141661</td>\n",
       "      <td>158389</td>\n",
       "      <td>7991</td>\n",
       "      <td>63991</td>\n",
       "      <td>2723</td>\n",
       "      <td>0</td>\n",
       "      <td>...</td>\n",
       "      <td>79679</td>\n",
       "      <td>102408</td>\n",
       "      <td>2068</td>\n",
       "      <td>502759</td>\n",
       "      <td>156586</td>\n",
       "      <td>18929</td>\n",
       "      <td>312036</td>\n",
       "      <td>31973</td>\n",
       "      <td>202708</td>\n",
       "      <td>0</td>\n",
       "    </tr>\n",
       "    <tr>\n",
       "      <th>Deceased</th>\n",
       "      <td>79136</td>\n",
       "      <td>51</td>\n",
       "      <td>4912</td>\n",
       "      <td>10</td>\n",
       "      <td>457</td>\n",
       "      <td>822</td>\n",
       "      <td>90</td>\n",
       "      <td>555</td>\n",
       "      <td>2</td>\n",
       "      <td>0</td>\n",
       "      <td>...</td>\n",
       "      <td>2356</td>\n",
       "      <td>1236</td>\n",
       "      <td>13</td>\n",
       "      <td>8381</td>\n",
       "      <td>961</td>\n",
       "      <td>194</td>\n",
       "      <td>4429</td>\n",
       "      <td>414</td>\n",
       "      <td>3945</td>\n",
       "      <td>0</td>\n",
       "    </tr>\n",
       "    <tr>\n",
       "      <th>Recovered</th>\n",
       "      <td>3775180</td>\n",
       "      <td>3234</td>\n",
       "      <td>467139</td>\n",
       "      <td>4379</td>\n",
       "      <td>113134</td>\n",
       "      <td>143053</td>\n",
       "      <td>5170</td>\n",
       "      <td>31931</td>\n",
       "      <td>2460</td>\n",
       "      <td>0</td>\n",
       "      <td>...</td>\n",
       "      <td>57536</td>\n",
       "      <td>84518</td>\n",
       "      <td>1504</td>\n",
       "      <td>447366</td>\n",
       "      <td>124528</td>\n",
       "      <td>11132</td>\n",
       "      <td>239485</td>\n",
       "      <td>21040</td>\n",
       "      <td>175139</td>\n",
       "      <td>0</td>\n",
       "    </tr>\n",
       "  </tbody>\n",
       "</table>\n",
       "<p>3 rows × 39 columns</p>\n",
       "</div>"
      ],
      "text/plain": [
       "                TT    AN      AP    AR      AS      BR    CH     CT    DN  DD  \\\n",
       "Status                                                                          \n",
       "Confirmed  4840975  3542  567123  6121  141661  158389  7991  63991  2723   0   \n",
       "Deceased     79136    51    4912    10     457     822    90    555     2   0   \n",
       "Recovered  3775180  3234  467139  4379  113134  143053  5170  31931  2460   0   \n",
       "\n",
       "           ...     PB      RJ    SK      TN      TG     TR      UP     UT  \\\n",
       "Status     ...                                                              \n",
       "Confirmed  ...  79679  102408  2068  502759  156586  18929  312036  31973   \n",
       "Deceased   ...   2356    1236    13    8381     961    194    4429    414   \n",
       "Recovered  ...  57536   84518  1504  447366  124528  11132  239485  21040   \n",
       "\n",
       "               WB  UN  \n",
       "Status                 \n",
       "Confirmed  202708   0  \n",
       "Deceased     3945   0  \n",
       "Recovered  175139   0  \n",
       "\n",
       "[3 rows x 39 columns]"
      ]
     },
     "execution_count": 7,
     "metadata": {},
     "output_type": "execute_result"
    }
   ],
   "source": [
    "#hide\n",
    "df_yday.head()"
   ]
  },
  {
   "cell_type": "code",
   "execution_count": 8,
   "metadata": {
    "execution": {
     "iopub.execute_input": "2020-09-14T19:12:09.921689Z",
     "iopub.status.busy": "2020-09-14T19:12:09.921061Z",
     "iopub.status.idle": "2020-09-14T19:12:09.923654Z",
     "shell.execute_reply": "2020-09-14T19:12:09.924263Z"
    },
    "papermill": {
     "duration": 0.024551,
     "end_time": "2020-09-14T19:12:09.924397",
     "exception": false,
     "start_time": "2020-09-14T19:12:09.899846",
     "status": "completed"
    },
    "tags": []
   },
   "outputs": [
    {
     "data": {
      "text/plain": [
       "{'updated': '14-Sep-20',\n",
       " 'since': '13-Sep-20',\n",
       " 'Cases': 4922886,\n",
       " 'Deaths': 80190,\n",
       " 'Recovered': 3854382,\n",
       " 'PCases': 4840975,\n",
       " 'PDeaths': 79136,\n",
       " 'PRecovered': 3775180,\n",
       " 'Cases (+)': 81911,\n",
       " 'Deaths (+)': 1054,\n",
       " 'Recovered (+)': 79202}"
      ]
     },
     "execution_count": 8,
     "metadata": {},
     "output_type": "execute_result"
    }
   ],
   "source": [
    "#hide\n",
    "summary = {\n",
    "    'updated' : dt_today,\n",
    "    'since' : dt_yday,\n",
    "    'Cases' : df_today['TT'][0],\n",
    "    'Deaths' : df_today['TT'][1],\n",
    "    'Recovered' : df_today['TT'][2],\n",
    "    'PCases' : df_yday['TT'][0],\n",
    "    'PDeaths' : df_yday['TT'][1],\n",
    "    'PRecovered': df_yday['TT'][2],\n",
    "    'Cases (+)' : df_today['TT'][0] - df_yday['TT'][0],\n",
    "    'Deaths (+)' : df_today['TT'][1] - df_yday['TT'][1],\n",
    "    'Recovered (+)': df_today['TT'][2] - df_yday['TT'][2]\n",
    "}\n",
    "\n",
    "summary"
   ]
  },
  {
   "cell_type": "code",
   "execution_count": 9,
   "metadata": {
    "execution": {
     "iopub.execute_input": "2020-09-14T19:12:09.955287Z",
     "iopub.status.busy": "2020-09-14T19:12:09.954713Z",
     "iopub.status.idle": "2020-09-14T19:12:09.957036Z",
     "shell.execute_reply": "2020-09-14T19:12:09.956557Z"
    },
    "papermill": {
     "duration": 0.019174,
     "end_time": "2020-09-14T19:12:09.957137",
     "exception": false,
     "start_time": "2020-09-14T19:12:09.937963",
     "status": "completed"
    },
    "tags": []
   },
   "outputs": [],
   "source": [
    "#hide\n",
    "overview = '''\n",
    "<!-- #######  HTML!! #########-->\n",
    "<h1 style=\"color: #5e9ca0; text-align: center;\">India</h1>\n",
    "<p style=\"text-align: center;\">Last update: <strong>{update}</strong></p>\n",
    "<p style=\"text-align: center;\">Confirmed cases:</p>\n",
    "<p style=\"text-align: center;font-size:24px;\">{cases} (<span style=\"color: #ff0000;\">+{new}</span>)</p>\n",
    "<p style=\"text-align: center;\">Confirmed deaths:</p>\n",
    "<p style=\"text-align: center;font-size:24px;\">{deaths} (<span style=\"color: #ff0000;\">+{dnew}</span>)</p>\n",
    "<p style=\"text-align: center;\">Recovered cases:</p>\n",
    "<p style=\"text-align: center;font-size:24px;\">{recovered} (<span style=\"color: #00ff00;\">+{rnew}</span>)</p>\n",
    "'''"
   ]
  },
  {
   "cell_type": "code",
   "execution_count": 10,
   "metadata": {
    "execution": {
     "iopub.execute_input": "2020-09-14T19:12:09.991100Z",
     "iopub.status.busy": "2020-09-14T19:12:09.990405Z",
     "iopub.status.idle": "2020-09-14T19:12:09.993561Z",
     "shell.execute_reply": "2020-09-14T19:12:09.994100Z"
    },
    "papermill": {
     "duration": 0.023814,
     "end_time": "2020-09-14T19:12:09.994238",
     "exception": false,
     "start_time": "2020-09-14T19:12:09.970424",
     "status": "completed"
    },
    "tags": []
   },
   "outputs": [
    {
     "data": {
      "text/html": [
       "\n",
       "<!-- #######  HTML!! #########-->\n",
       "<h1 style=\"color: #5e9ca0; text-align: center;\">India</h1>\n",
       "<p style=\"text-align: center;\">Last update: <strong>14-Sep-20</strong></p>\n",
       "<p style=\"text-align: center;\">Confirmed cases:</p>\n",
       "<p style=\"text-align: center;font-size:24px;\">4922886 (<span style=\"color: #ff0000;\">+81911</span>)</p>\n",
       "<p style=\"text-align: center;\">Confirmed deaths:</p>\n",
       "<p style=\"text-align: center;font-size:24px;\">80190 (<span style=\"color: #ff0000;\">+1054</span>)</p>\n",
       "<p style=\"text-align: center;\">Recovered cases:</p>\n",
       "<p style=\"text-align: center;font-size:24px;\">3854382 (<span style=\"color: #00ff00;\">+79202</span>)</p>\n"
      ],
      "text/plain": [
       "<IPython.core.display.HTML object>"
      ]
     },
     "metadata": {},
     "output_type": "display_data"
    }
   ],
   "source": [
    "#hide_input\n",
    "# Fill the above HTML with the information from the summary dictionary\n",
    "\n",
    "update = summary['updated']\n",
    "cases = summary['Cases']\n",
    "new = summary['Cases (+)']\n",
    "deaths = summary['Deaths']\n",
    "dnew = summary['Deaths (+)']\n",
    "recovered = summary['Recovered']\n",
    "rnew = summary['Recovered (+)']\n",
    "\n",
    "html = HTML(overview.format(update=update, cases=cases,new=new,deaths=deaths,dnew=dnew, recovered=recovered, rnew=rnew))\n",
    "\n",
    "display(html)"
   ]
  },
  {
   "cell_type": "code",
   "execution_count": 11,
   "metadata": {
    "execution": {
     "iopub.execute_input": "2020-09-14T19:12:10.032123Z",
     "iopub.status.busy": "2020-09-14T19:12:10.031542Z",
     "iopub.status.idle": "2020-09-14T19:12:10.044629Z",
     "shell.execute_reply": "2020-09-14T19:12:10.043916Z"
    },
    "papermill": {
     "duration": 0.03542,
     "end_time": "2020-09-14T19:12:10.044750",
     "exception": false,
     "start_time": "2020-09-14T19:12:10.009330",
     "status": "completed"
    },
    "tags": []
   },
   "outputs": [],
   "source": [
    "#hide\n",
    "df_cases = df[df['Status'] == 'Confirmed'].copy()\n",
    "df_cases.drop(columns = ['Status'], inplace=True)\n",
    "df_deaths = df[df['Status'] == 'Deceased'].copy()\n",
    "df_deaths.drop(columns = ['Status'], inplace=True)\n",
    "df_recovered = df[df['Status'] == 'Recovered'].copy()\n",
    "df_recovered.drop(columns = ['Status'], inplace=True)"
   ]
  },
  {
   "cell_type": "markdown",
   "metadata": {
    "papermill": {
     "duration": 0.047706,
     "end_time": "2020-09-14T19:12:10.107162",
     "exception": false,
     "start_time": "2020-09-14T19:12:10.059456",
     "status": "completed"
    },
    "tags": []
   },
   "source": [
    "Plot for India:"
   ]
  },
  {
   "cell_type": "code",
   "execution_count": 12,
   "metadata": {
    "execution": {
     "iopub.execute_input": "2020-09-14T19:12:10.475381Z",
     "iopub.status.busy": "2020-09-14T19:12:10.474717Z",
     "iopub.status.idle": "2020-09-14T19:12:10.736250Z",
     "shell.execute_reply": "2020-09-14T19:12:10.736908Z"
    },
    "papermill": {
     "duration": 0.613099,
     "end_time": "2020-09-14T19:12:10.737080",
     "exception": false,
     "start_time": "2020-09-14T19:12:10.123981",
     "status": "completed"
    },
    "tags": []
   },
   "outputs": [
    {
     "data": {
      "image/png": "[encoded data removed]",
      "text/plain": [
       "<Figure size 1296x432 with 1 Axes>"
      ]
     },
     "metadata": {
      "needs_background": "light"
     },
     "output_type": "display_data"
    }
   ],
   "source": [
    "#hide_input\n",
    "plt.figure(figsize = (18,6))\n",
    "plt.plot(df_cases['Date'], df_cases['TT'],'.-', alpha=0.7, color='b', label='Confirmed cases')\n",
    "plt.plot(df_recovered['Date'], df_recovered['TT'],'.-', alpha=0.7, color='g', label='Recovered')\n",
    "plt.plot(df_deaths['Date'], df_deaths['TT'],'.-', alpha=0.7, color='r', label='Deceased')\n",
    "plt.legend()\n",
    "plt.title(\"Cases per day in India\")\n",
    "plt.xticks(ticks=' ')\n",
    "plt.xlabel(f'{df_cases.iloc[0][0]} to {df_cases.iloc[-1][0]}')\n",
    "plt.ylabel('No. of cases');"
   ]
  },
  {
   "cell_type": "markdown",
   "metadata": {
    "papermill": {
     "duration": 0.017709,
     "end_time": "2020-09-14T19:12:10.771755",
     "exception": false,
     "start_time": "2020-09-14T19:12:10.754046",
     "status": "completed"
    },
    "tags": []
   },
   "source": [
    "Plots for the states with highest number of cases:"
   ]
  },
  {
   "cell_type": "code",
   "execution_count": 13,
   "metadata": {
    "execution": {
     "iopub.execute_input": "2020-09-14T19:12:10.814225Z",
     "iopub.status.busy": "2020-09-14T19:12:10.813624Z",
     "iopub.status.idle": "2020-09-14T19:12:11.472983Z",
     "shell.execute_reply": "2020-09-14T19:12:11.473409Z"
    },
    "papermill": {
     "duration": 0.685569,
     "end_time": "2020-09-14T19:12:11.473552",
     "exception": false,
     "start_time": "2020-09-14T19:12:10.787983",
     "status": "completed"
    },
    "tags": []
   },
   "outputs": [
    {
     "data": {
      "image/png": "[encoded data removed]",
      "text/plain": [
       "<Figure size 1512x432 with 3 Axes>"
      ]
     },
     "metadata": {
      "needs_background": "light"
     },
     "output_type": "display_data"
    }
   ],
   "source": [
    "#hide_input\n",
    "top_3 = sorted(df_cases.sum().values[1:], reverse=True)[1:4]\n",
    "top3_states=[]\n",
    "for i in top_3:\n",
    "    top3_states.append(df_cases.sum()[df_cases.sum() == i].index)\n",
    "\n",
    "\n",
    "fig, ax = plt.subplots(1,3,figsize = (21,6))\n",
    "for i in range(3):\n",
    "    state = top3_states[i].values[0]\n",
    "    ax[i].plot(df_cases['Date'], df_cases[state],'.-', color='b', alpha=0.7)\n",
    "    ax[i].plot(df_deaths['Date'], df_deaths[state],'.-', color='r', alpha=0.7)\n",
    "    ax[i].plot(df_recovered['Date'], df_recovered[state],'.-', color='g', alpha=0.7)\n",
    "    \n",
    "    ax[i].set_title(f\"Cases in {state}\")\n",
    "    ax[i].set_xticks(ticks=' ')\n",
    "    ax[i].set_xlabel(f'{df_cases.iloc[0][0]} to {df_cases.iloc[-1][0]}')\n",
    "    ax[i].set_ylabel('No. of cases');"
   ]
  },
  {
   "cell_type": "code",
   "execution_count": null,
   "metadata": {
    "papermill": {
     "duration": 0.017409,
     "end_time": "2020-09-14T19:12:11.508648",
     "exception": false,
     "start_time": "2020-09-14T19:12:11.491239",
     "status": "completed"
    },
    "tags": []
   },
   "outputs": [],
   "source": []
  },
  {
   "cell_type": "code",
   "execution_count": null,
   "metadata": {
    "papermill": {
     "duration": 0.017021,
     "end_time": "2020-09-14T19:12:11.543372",
     "exception": false,
     "start_time": "2020-09-14T19:12:11.526351",
     "status": "completed"
    },
    "tags": []
   },
   "outputs": [],
   "source": []
  },
  {
   "cell_type": "code",
   "execution_count": null,
   "metadata": {
    "papermill": {
     "duration": 0.01717,
     "end_time": "2020-09-14T19:12:11.578993",
     "exception": false,
     "start_time": "2020-09-14T19:12:11.561823",
     "status": "completed"
    },
    "tags": []
   },
   "outputs": [],
   "source": []
  }
 ],
 "metadata": {
  "kernelspec": {
   "display_name": "Python 3",
   "language": "python",
   "name": "python3"
  },
  "language_info": {
   "codemirror_mode": {
    "name": "ipython",
    "version": 3
   },
   "file_extension": ".py",
   "mimetype": "text/x-python",
   "name": "python",
   "nbconvert_exporter": "python",
   "pygments_lexer": "ipython3",
   "version": "3.6.12"
  },
  "papermill": {
   "duration": 4.198945,
   "end_time": "2020-09-14T19:12:11.904714",
   "environment_variables": {},
   "exception": null,
   "input_path": "2020-08-09-DailyUpdate.ipynb",
   "output_path": "2020-08-09-DailyUpdate.ipynb",
   "parameters": {},
   "start_time": "2020-09-14T19:12:07.705769",
   "version": "2.1.2"
  }
 },
 "nbformat": 4,
 "nbformat_minor": 4
}