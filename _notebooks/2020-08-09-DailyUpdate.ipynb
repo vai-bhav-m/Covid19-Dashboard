{
 "cells": [
  {
   "cell_type": "markdown",
   "metadata": {
    "tags": [
     "papermill-error-cell-tag"
    ]
   },
   "source": [
    "<span style=\"color:red; font-family:Helvetica Neue, Helvetica, Arial, sans-serif; font-size:2em;\">An Exception was encountered at '<a href=\"#papermill-error-cell\">In [13]</a>'.</span>"
   ]
  },
  {
   "cell_type": "markdown",
   "metadata": {
    "papermill": {
     "duration": 0.015604,
     "end_time": "2020-10-31T19:13:01.726600",
     "exception": false,
     "start_time": "2020-10-31T19:13:01.710996",
     "status": "completed"
    },
    "tags": []
   },
   "source": [
    "# COVID-19 India Daily updates\n",
    "> Tracking coronavirus total cases, deaths and new cases in India on a daily basis\n",
    "\n",
    "- author: Vaibhav Mahapatra"
   ]
  },
  {
   "cell_type": "code",
   "execution_count": 1,
   "metadata": {
    "execution": {
     "iopub.execute_input": "2020-10-31T19:13:01.858570Z",
     "iopub.status.busy": "2020-10-31T19:13:01.857952Z",
     "iopub.status.idle": "2020-10-31T19:13:02.441013Z",
     "shell.execute_reply": "2020-10-31T19:13:02.439954Z"
    },
    "papermill": {
     "duration": 0.601958,
     "end_time": "2020-10-31T19:13:02.441177",
     "exception": false,
     "start_time": "2020-10-31T19:13:01.839219",
     "status": "completed"
    },
    "tags": []
   },
   "outputs": [],
   "source": [
    "#hide\n",
    "\n",
    "## Import essential packages below\n",
    "\n",
    "import pandas as pd\n",
    "import numpy as np\n",
    "import requests\n",
    "import json\n",
    "import matplotlib.pyplot as plt\n",
    "import matplotlib.dates as mdates\n",
    "import matplotlib as mpl\n",
    "from IPython.core.display import display,HTML\n",
    "%matplotlib inline"
   ]
  },
  {
   "cell_type": "code",
   "execution_count": 2,
   "metadata": {
    "execution": {
     "iopub.execute_input": "2020-10-31T19:13:02.470989Z",
     "iopub.status.busy": "2020-10-31T19:13:02.470319Z",
     "iopub.status.idle": "2020-10-31T19:13:02.529060Z",
     "shell.execute_reply": "2020-10-31T19:13:02.529526Z"
    },
    "papermill": {
     "duration": 0.076503,
     "end_time": "2020-10-31T19:13:02.529684",
     "exception": false,
     "start_time": "2020-10-31T19:13:02.453181",
     "status": "completed"
    },
    "tags": []
   },
   "outputs": [
    {
     "data": {
      "text/plain": [
       "(696, 42)"
      ]
     },
     "execution_count": 2,
     "metadata": {},
     "output_type": "execute_result"
    }
   ],
   "source": [
    "#hide\n",
    "url = 'https://api.covid19india.org/csv/latest/state_wise_daily.csv'\n",
    "df = pd.read_csv(url)\n",
    "df.shape"
   ]
  },
  {
   "cell_type": "code",
   "execution_count": 3,
   "metadata": {
    "execution": {
     "iopub.execute_input": "2020-10-31T19:13:02.610236Z",
     "iopub.status.busy": "2020-10-31T19:13:02.608679Z",
     "iopub.status.idle": "2020-10-31T19:13:02.620302Z",
     "shell.execute_reply": "2020-10-31T19:13:02.620774Z"
    },
    "papermill": {
     "duration": 0.079292,
     "end_time": "2020-10-31T19:13:02.620932",
     "exception": false,
     "start_time": "2020-10-31T19:13:02.541640",
     "status": "completed"
    },
    "tags": []
   },
   "outputs": [
    {
     "data": {
      "text/html": [
       "<div>\n",
       "<style scoped>\n",
       "    .dataframe tbody tr th:only-of-type {\n",
       "        vertical-align: middle;\n",
       "    }\n",
       "\n",
       "    .dataframe tbody tr th {\n",
       "        vertical-align: top;\n",
       "    }\n",
       "\n",
       "    .dataframe thead th {\n",
       "        text-align: right;\n",
       "    }\n",
       "</style>\n",
       "<table border=\"1\" class=\"dataframe\">\n",
       "  <thead>\n",
       "    <tr style=\"text-align: right;\">\n",
       "      <th></th>\n",
       "      <th>Date</th>\n",
       "      <th>Date_YMD</th>\n",
       "      <th>Status</th>\n",
       "      <th>TT</th>\n",
       "      <th>AN</th>\n",
       "      <th>AP</th>\n",
       "      <th>AR</th>\n",
       "      <th>AS</th>\n",
       "      <th>BR</th>\n",
       "      <th>CH</th>\n",
       "      <th>...</th>\n",
       "      <th>PB</th>\n",
       "      <th>RJ</th>\n",
       "      <th>SK</th>\n",
       "      <th>TN</th>\n",
       "      <th>TG</th>\n",
       "      <th>TR</th>\n",
       "      <th>UP</th>\n",
       "      <th>UT</th>\n",
       "      <th>WB</th>\n",
       "      <th>UN</th>\n",
       "    </tr>\n",
       "  </thead>\n",
       "  <tbody>\n",
       "    <tr>\n",
       "      <th>690</th>\n",
       "      <td>30-Oct-20</td>\n",
       "      <td>2020-10-30</td>\n",
       "      <td>Confirmed</td>\n",
       "      <td>48117</td>\n",
       "      <td>12</td>\n",
       "      <td>2886</td>\n",
       "      <td>84</td>\n",
       "      <td>380</td>\n",
       "      <td>1018</td>\n",
       "      <td>59</td>\n",
       "      <td>...</td>\n",
       "      <td>431</td>\n",
       "      <td>1794</td>\n",
       "      <td>20</td>\n",
       "      <td>2608</td>\n",
       "      <td>1531</td>\n",
       "      <td>97</td>\n",
       "      <td>2187</td>\n",
       "      <td>349</td>\n",
       "      <td>3979</td>\n",
       "      <td>0</td>\n",
       "    </tr>\n",
       "    <tr>\n",
       "      <th>691</th>\n",
       "      <td>30-Oct-20</td>\n",
       "      <td>2020-10-30</td>\n",
       "      <td>Recovered</td>\n",
       "      <td>59005</td>\n",
       "      <td>22</td>\n",
       "      <td>3623</td>\n",
       "      <td>154</td>\n",
       "      <td>1094</td>\n",
       "      <td>1240</td>\n",
       "      <td>67</td>\n",
       "      <td>...</td>\n",
       "      <td>577</td>\n",
       "      <td>2087</td>\n",
       "      <td>33</td>\n",
       "      <td>3924</td>\n",
       "      <td>1048</td>\n",
       "      <td>212</td>\n",
       "      <td>2590</td>\n",
       "      <td>242</td>\n",
       "      <td>4015</td>\n",
       "      <td>0</td>\n",
       "    </tr>\n",
       "    <tr>\n",
       "      <th>692</th>\n",
       "      <td>30-Oct-20</td>\n",
       "      <td>2020-10-30</td>\n",
       "      <td>Deceased</td>\n",
       "      <td>550</td>\n",
       "      <td>0</td>\n",
       "      <td>17</td>\n",
       "      <td>0</td>\n",
       "      <td>3</td>\n",
       "      <td>8</td>\n",
       "      <td>0</td>\n",
       "      <td>...</td>\n",
       "      <td>19</td>\n",
       "      <td>10</td>\n",
       "      <td>0</td>\n",
       "      <td>38</td>\n",
       "      <td>6</td>\n",
       "      <td>1</td>\n",
       "      <td>24</td>\n",
       "      <td>2</td>\n",
       "      <td>59</td>\n",
       "      <td>0</td>\n",
       "    </tr>\n",
       "    <tr>\n",
       "      <th>693</th>\n",
       "      <td>31-Oct-20</td>\n",
       "      <td>2020-10-31</td>\n",
       "      <td>Confirmed</td>\n",
       "      <td>43084</td>\n",
       "      <td>0</td>\n",
       "      <td>2783</td>\n",
       "      <td>0</td>\n",
       "      <td>0</td>\n",
       "      <td>800</td>\n",
       "      <td>67</td>\n",
       "      <td>...</td>\n",
       "      <td>500</td>\n",
       "      <td>1780</td>\n",
       "      <td>0</td>\n",
       "      <td>2511</td>\n",
       "      <td>1445</td>\n",
       "      <td>54</td>\n",
       "      <td>1781</td>\n",
       "      <td>413</td>\n",
       "      <td>3993</td>\n",
       "      <td>0</td>\n",
       "    </tr>\n",
       "    <tr>\n",
       "      <th>694</th>\n",
       "      <td>31-Oct-20</td>\n",
       "      <td>2020-10-31</td>\n",
       "      <td>Recovered</td>\n",
       "      <td>53426</td>\n",
       "      <td>0</td>\n",
       "      <td>3708</td>\n",
       "      <td>0</td>\n",
       "      <td>0</td>\n",
       "      <td>1186</td>\n",
       "      <td>82</td>\n",
       "      <td>...</td>\n",
       "      <td>328</td>\n",
       "      <td>1920</td>\n",
       "      <td>0</td>\n",
       "      <td>3848</td>\n",
       "      <td>1486</td>\n",
       "      <td>141</td>\n",
       "      <td>2426</td>\n",
       "      <td>152</td>\n",
       "      <td>4049</td>\n",
       "      <td>0</td>\n",
       "    </tr>\n",
       "    <tr>\n",
       "      <th>695</th>\n",
       "      <td>31-Oct-20</td>\n",
       "      <td>2020-10-31</td>\n",
       "      <td>Deceased</td>\n",
       "      <td>390</td>\n",
       "      <td>0</td>\n",
       "      <td>14</td>\n",
       "      <td>0</td>\n",
       "      <td>0</td>\n",
       "      <td>6</td>\n",
       "      <td>1</td>\n",
       "      <td>...</td>\n",
       "      <td>16</td>\n",
       "      <td>9</td>\n",
       "      <td>0</td>\n",
       "      <td>31</td>\n",
       "      <td>6</td>\n",
       "      <td>0</td>\n",
       "      <td>18</td>\n",
       "      <td>12</td>\n",
       "      <td>57</td>\n",
       "      <td>0</td>\n",
       "    </tr>\n",
       "  </tbody>\n",
       "</table>\n",
       "<p>6 rows × 42 columns</p>\n",
       "</div>"
      ],
      "text/plain": [
       "          Date    Date_YMD     Status     TT  AN    AP   AR    AS    BR  CH  \\\n",
       "690  30-Oct-20  2020-10-30  Confirmed  48117  12  2886   84   380  1018  59   \n",
       "691  30-Oct-20  2020-10-30  Recovered  59005  22  3623  154  1094  1240  67   \n",
       "692  30-Oct-20  2020-10-30   Deceased    550   0    17    0     3     8   0   \n",
       "693  31-Oct-20  2020-10-31  Confirmed  43084   0  2783    0     0   800  67   \n",
       "694  31-Oct-20  2020-10-31  Recovered  53426   0  3708    0     0  1186  82   \n",
       "695  31-Oct-20  2020-10-31   Deceased    390   0    14    0     0     6   1   \n",
       "\n",
       "     ...   PB    RJ  SK    TN    TG   TR    UP   UT    WB  UN  \n",
       "690  ...  431  1794  20  2608  1531   97  2187  349  3979   0  \n",
       "691  ...  577  2087  33  3924  1048  212  2590  242  4015   0  \n",
       "692  ...   19    10   0    38     6    1    24    2    59   0  \n",
       "693  ...  500  1780   0  2511  1445   54  1781  413  3993   0  \n",
       "694  ...  328  1920   0  3848  1486  141  2426  152  4049   0  \n",
       "695  ...   16     9   0    31     6    0    18   12    57   0  \n",
       "\n",
       "[6 rows x 42 columns]"
      ]
     },
     "execution_count": 3,
     "metadata": {},
     "output_type": "execute_result"
    }
   ],
   "source": [
    "#hide\n",
    "df.tail(6)"
   ]
  },
  {
   "cell_type": "code",
   "execution_count": 4,
   "metadata": {
    "execution": {
     "iopub.execute_input": "2020-10-31T19:13:02.652567Z",
     "iopub.status.busy": "2020-10-31T19:13:02.651971Z",
     "iopub.status.idle": "2020-10-31T19:13:02.654533Z",
     "shell.execute_reply": "2020-10-31T19:13:02.655037Z"
    },
    "papermill": {
     "duration": 0.02139,
     "end_time": "2020-10-31T19:13:02.655179",
     "exception": false,
     "start_time": "2020-10-31T19:13:02.633789",
     "status": "completed"
    },
    "tags": []
   },
   "outputs": [
    {
     "data": {
      "text/plain": [
       "('31-Oct-20', '30-Oct-20')"
      ]
     },
     "execution_count": 4,
     "metadata": {},
     "output_type": "execute_result"
    }
   ],
   "source": [
    "#hide\n",
    "dt_today = df.iloc[-1][0]\n",
    "dt_yday = df.iloc[-4][0]\n",
    "dt_today, dt_yday"
   ]
  },
  {
   "cell_type": "code",
   "execution_count": 5,
   "metadata": {
    "execution": {
     "iopub.execute_input": "2020-10-31T19:13:02.689103Z",
     "iopub.status.busy": "2020-10-31T19:13:02.683644Z",
     "iopub.status.idle": "2020-10-31T19:13:02.696088Z",
     "shell.execute_reply": "2020-10-31T19:13:02.695615Z"
    },
    "papermill": {
     "duration": 0.02824,
     "end_time": "2020-10-31T19:13:02.696217",
     "exception": false,
     "start_time": "2020-10-31T19:13:02.667977",
     "status": "completed"
    },
    "tags": []
   },
   "outputs": [],
   "source": [
    "#hide\n",
    "df_today = df.groupby('Status').sum()\n",
    "df_yday = df.iloc[:-3][:].groupby('Status').sum()"
   ]
  },
  {
   "cell_type": "code",
   "execution_count": 6,
   "metadata": {
    "execution": {
     "iopub.execute_input": "2020-10-31T19:13:02.739673Z",
     "iopub.status.busy": "2020-10-31T19:13:02.739082Z",
     "iopub.status.idle": "2020-10-31T19:13:02.741546Z",
     "shell.execute_reply": "2020-10-31T19:13:02.742046Z"
    },
    "papermill": {
     "duration": 0.033059,
     "end_time": "2020-10-31T19:13:02.742194",
     "exception": false,
     "start_time": "2020-10-31T19:13:02.709135",
     "status": "completed"
    },
    "tags": []
   },
   "outputs": [
    {
     "data": {
      "text/html": [
       "<div>\n",
       "<style scoped>\n",
       "    .dataframe tbody tr th:only-of-type {\n",
       "        vertical-align: middle;\n",
       "    }\n",
       "\n",
       "    .dataframe tbody tr th {\n",
       "        vertical-align: top;\n",
       "    }\n",
       "\n",
       "    .dataframe thead th {\n",
       "        text-align: right;\n",
       "    }\n",
       "</style>\n",
       "<table border=\"1\" class=\"dataframe\">\n",
       "  <thead>\n",
       "    <tr style=\"text-align: right;\">\n",
       "      <th></th>\n",
       "      <th>TT</th>\n",
       "      <th>AN</th>\n",
       "      <th>AP</th>\n",
       "      <th>AR</th>\n",
       "      <th>AS</th>\n",
       "      <th>BR</th>\n",
       "      <th>CH</th>\n",
       "      <th>CT</th>\n",
       "      <th>DN</th>\n",
       "      <th>DD</th>\n",
       "      <th>...</th>\n",
       "      <th>PB</th>\n",
       "      <th>RJ</th>\n",
       "      <th>SK</th>\n",
       "      <th>TN</th>\n",
       "      <th>TG</th>\n",
       "      <th>TR</th>\n",
       "      <th>UP</th>\n",
       "      <th>UT</th>\n",
       "      <th>WB</th>\n",
       "      <th>UN</th>\n",
       "    </tr>\n",
       "    <tr>\n",
       "      <th>Status</th>\n",
       "      <th></th>\n",
       "      <th></th>\n",
       "      <th></th>\n",
       "      <th></th>\n",
       "      <th></th>\n",
       "      <th></th>\n",
       "      <th></th>\n",
       "      <th></th>\n",
       "      <th></th>\n",
       "      <th></th>\n",
       "      <th></th>\n",
       "      <th></th>\n",
       "      <th></th>\n",
       "      <th></th>\n",
       "      <th></th>\n",
       "      <th></th>\n",
       "      <th></th>\n",
       "      <th></th>\n",
       "      <th></th>\n",
       "      <th></th>\n",
       "      <th></th>\n",
       "    </tr>\n",
       "  </thead>\n",
       "  <tbody>\n",
       "    <tr>\n",
       "      <th>Confirmed</th>\n",
       "      <td>8178532</td>\n",
       "      <td>4313</td>\n",
       "      <td>823348</td>\n",
       "      <td>14752</td>\n",
       "      <td>205913</td>\n",
       "      <td>216764</td>\n",
       "      <td>14418</td>\n",
       "      <td>185306</td>\n",
       "      <td>3246</td>\n",
       "      <td>0</td>\n",
       "      <td>...</td>\n",
       "      <td>133658</td>\n",
       "      <td>196993</td>\n",
       "      <td>3926</td>\n",
       "      <td>724522</td>\n",
       "      <td>238122</td>\n",
       "      <td>30714</td>\n",
       "      <td>481863</td>\n",
       "      <td>62328</td>\n",
       "      <td>373664</td>\n",
       "      <td>0</td>\n",
       "    </tr>\n",
       "    <tr>\n",
       "      <th>Deceased</th>\n",
       "      <td>121478</td>\n",
       "      <td>59</td>\n",
       "      <td>6690</td>\n",
       "      <td>37</td>\n",
       "      <td>930</td>\n",
       "      <td>1090</td>\n",
       "      <td>226</td>\n",
       "      <td>2038</td>\n",
       "      <td>2</td>\n",
       "      <td>0</td>\n",
       "      <td>...</td>\n",
       "      <td>4203</td>\n",
       "      <td>1907</td>\n",
       "      <td>67</td>\n",
       "      <td>11122</td>\n",
       "      <td>1336</td>\n",
       "      <td>343</td>\n",
       "      <td>7025</td>\n",
       "      <td>1023</td>\n",
       "      <td>6841</td>\n",
       "      <td>0</td>\n",
       "    </tr>\n",
       "    <tr>\n",
       "      <th>Recovered</th>\n",
       "      <td>7484170</td>\n",
       "      <td>4067</td>\n",
       "      <td>792083</td>\n",
       "      <td>12777</td>\n",
       "      <td>194665</td>\n",
       "      <td>207811</td>\n",
       "      <td>13551</td>\n",
       "      <td>160918</td>\n",
       "      <td>3153</td>\n",
       "      <td>0</td>\n",
       "      <td>...</td>\n",
       "      <td>125198</td>\n",
       "      <td>179984</td>\n",
       "      <td>3510</td>\n",
       "      <td>691236</td>\n",
       "      <td>218887</td>\n",
       "      <td>28855</td>\n",
       "      <td>451070</td>\n",
       "      <td>56923</td>\n",
       "      <td>329937</td>\n",
       "      <td>0</td>\n",
       "    </tr>\n",
       "  </tbody>\n",
       "</table>\n",
       "<p>3 rows × 39 columns</p>\n",
       "</div>"
      ],
      "text/plain": [
       "                TT    AN      AP     AR      AS      BR     CH      CT    DN  \\\n",
       "Status                                                                         \n",
       "Confirmed  8178532  4313  823348  14752  205913  216764  14418  185306  3246   \n",
       "Deceased    121478    59    6690     37     930    1090    226    2038     2   \n",
       "Recovered  7484170  4067  792083  12777  194665  207811  13551  160918  3153   \n",
       "\n",
       "           DD  ...      PB      RJ    SK      TN      TG     TR      UP  \\\n",
       "Status         ...                                                        \n",
       "Confirmed   0  ...  133658  196993  3926  724522  238122  30714  481863   \n",
       "Deceased    0  ...    4203    1907    67   11122    1336    343    7025   \n",
       "Recovered   0  ...  125198  179984  3510  691236  218887  28855  451070   \n",
       "\n",
       "              UT      WB  UN  \n",
       "Status                        \n",
       "Confirmed  62328  373664   0  \n",
       "Deceased    1023    6841   0  \n",
       "Recovered  56923  329937   0  \n",
       "\n",
       "[3 rows x 39 columns]"
      ]
     },
     "execution_count": 6,
     "metadata": {},
     "output_type": "execute_result"
    }
   ],
   "source": [
    "#hide\n",
    "df_today"
   ]
  },
  {
   "cell_type": "code",
   "execution_count": 7,
   "metadata": {
    "execution": {
     "iopub.execute_input": "2020-10-31T19:13:02.784517Z",
     "iopub.status.busy": "2020-10-31T19:13:02.783927Z",
     "iopub.status.idle": "2020-10-31T19:13:02.788492Z",
     "shell.execute_reply": "2020-10-31T19:13:02.787996Z"
    },
    "papermill": {
     "duration": 0.032624,
     "end_time": "2020-10-31T19:13:02.788616",
     "exception": false,
     "start_time": "2020-10-31T19:13:02.755992",
     "status": "completed"
    },
    "tags": []
   },
   "outputs": [
    {
     "data": {
      "text/html": [
       "<div>\n",
       "<style scoped>\n",
       "    .dataframe tbody tr th:only-of-type {\n",
       "        vertical-align: middle;\n",
       "    }\n",
       "\n",
       "    .dataframe tbody tr th {\n",
       "        vertical-align: top;\n",
       "    }\n",
       "\n",
       "    .dataframe thead th {\n",
       "        text-align: right;\n",
       "    }\n",
       "</style>\n",
       "<table border=\"1\" class=\"dataframe\">\n",
       "  <thead>\n",
       "    <tr style=\"text-align: right;\">\n",
       "      <th></th>\n",
       "      <th>TT</th>\n",
       "      <th>AN</th>\n",
       "      <th>AP</th>\n",
       "      <th>AR</th>\n",
       "      <th>AS</th>\n",
       "      <th>BR</th>\n",
       "      <th>CH</th>\n",
       "      <th>CT</th>\n",
       "      <th>DN</th>\n",
       "      <th>DD</th>\n",
       "      <th>...</th>\n",
       "      <th>PB</th>\n",
       "      <th>RJ</th>\n",
       "      <th>SK</th>\n",
       "      <th>TN</th>\n",
       "      <th>TG</th>\n",
       "      <th>TR</th>\n",
       "      <th>UP</th>\n",
       "      <th>UT</th>\n",
       "      <th>WB</th>\n",
       "      <th>UN</th>\n",
       "    </tr>\n",
       "    <tr>\n",
       "      <th>Status</th>\n",
       "      <th></th>\n",
       "      <th></th>\n",
       "      <th></th>\n",
       "      <th></th>\n",
       "      <th></th>\n",
       "      <th></th>\n",
       "      <th></th>\n",
       "      <th></th>\n",
       "      <th></th>\n",
       "      <th></th>\n",
       "      <th></th>\n",
       "      <th></th>\n",
       "      <th></th>\n",
       "      <th></th>\n",
       "      <th></th>\n",
       "      <th></th>\n",
       "      <th></th>\n",
       "      <th></th>\n",
       "      <th></th>\n",
       "      <th></th>\n",
       "      <th></th>\n",
       "    </tr>\n",
       "  </thead>\n",
       "  <tbody>\n",
       "    <tr>\n",
       "      <th>Confirmed</th>\n",
       "      <td>8135448</td>\n",
       "      <td>4313</td>\n",
       "      <td>820565</td>\n",
       "      <td>14752</td>\n",
       "      <td>205913</td>\n",
       "      <td>215964</td>\n",
       "      <td>14351</td>\n",
       "      <td>185306</td>\n",
       "      <td>3243</td>\n",
       "      <td>0</td>\n",
       "      <td>...</td>\n",
       "      <td>133158</td>\n",
       "      <td>195213</td>\n",
       "      <td>3926</td>\n",
       "      <td>722011</td>\n",
       "      <td>236677</td>\n",
       "      <td>30660</td>\n",
       "      <td>480082</td>\n",
       "      <td>61915</td>\n",
       "      <td>369671</td>\n",
       "      <td>0</td>\n",
       "    </tr>\n",
       "    <tr>\n",
       "      <th>Deceased</th>\n",
       "      <td>121088</td>\n",
       "      <td>59</td>\n",
       "      <td>6676</td>\n",
       "      <td>37</td>\n",
       "      <td>930</td>\n",
       "      <td>1084</td>\n",
       "      <td>225</td>\n",
       "      <td>2038</td>\n",
       "      <td>2</td>\n",
       "      <td>0</td>\n",
       "      <td>...</td>\n",
       "      <td>4187</td>\n",
       "      <td>1898</td>\n",
       "      <td>67</td>\n",
       "      <td>11091</td>\n",
       "      <td>1330</td>\n",
       "      <td>343</td>\n",
       "      <td>7007</td>\n",
       "      <td>1011</td>\n",
       "      <td>6784</td>\n",
       "      <td>0</td>\n",
       "    </tr>\n",
       "    <tr>\n",
       "      <th>Recovered</th>\n",
       "      <td>7430744</td>\n",
       "      <td>4067</td>\n",
       "      <td>788375</td>\n",
       "      <td>12777</td>\n",
       "      <td>194665</td>\n",
       "      <td>206625</td>\n",
       "      <td>13469</td>\n",
       "      <td>160918</td>\n",
       "      <td>3151</td>\n",
       "      <td>0</td>\n",
       "      <td>...</td>\n",
       "      <td>124870</td>\n",
       "      <td>178064</td>\n",
       "      <td>3510</td>\n",
       "      <td>687388</td>\n",
       "      <td>217401</td>\n",
       "      <td>28714</td>\n",
       "      <td>448644</td>\n",
       "      <td>56771</td>\n",
       "      <td>325888</td>\n",
       "      <td>0</td>\n",
       "    </tr>\n",
       "  </tbody>\n",
       "</table>\n",
       "<p>3 rows × 39 columns</p>\n",
       "</div>"
      ],
      "text/plain": [
       "                TT    AN      AP     AR      AS      BR     CH      CT    DN  \\\n",
       "Status                                                                         \n",
       "Confirmed  8135448  4313  820565  14752  205913  215964  14351  185306  3243   \n",
       "Deceased    121088    59    6676     37     930    1084    225    2038     2   \n",
       "Recovered  7430744  4067  788375  12777  194665  206625  13469  160918  3151   \n",
       "\n",
       "           DD  ...      PB      RJ    SK      TN      TG     TR      UP  \\\n",
       "Status         ...                                                        \n",
       "Confirmed   0  ...  133158  195213  3926  722011  236677  30660  480082   \n",
       "Deceased    0  ...    4187    1898    67   11091    1330    343    7007   \n",
       "Recovered   0  ...  124870  178064  3510  687388  217401  28714  448644   \n",
       "\n",
       "              UT      WB  UN  \n",
       "Status                        \n",
       "Confirmed  61915  369671   0  \n",
       "Deceased    1011    6784   0  \n",
       "Recovered  56771  325888   0  \n",
       "\n",
       "[3 rows x 39 columns]"
      ]
     },
     "execution_count": 7,
     "metadata": {},
     "output_type": "execute_result"
    }
   ],
   "source": [
    "#hide\n",
    "df_yday.head()"
   ]
  },
  {
   "cell_type": "code",
   "execution_count": 8,
   "metadata": {
    "execution": {
     "iopub.execute_input": "2020-10-31T19:13:02.826254Z",
     "iopub.status.busy": "2020-10-31T19:13:02.825666Z",
     "iopub.status.idle": "2020-10-31T19:13:02.828635Z",
     "shell.execute_reply": "2020-10-31T19:13:02.828167Z"
    },
    "papermill": {
     "duration": 0.026274,
     "end_time": "2020-10-31T19:13:02.828761",
     "exception": false,
     "start_time": "2020-10-31T19:13:02.802487",
     "status": "completed"
    },
    "tags": []
   },
   "outputs": [
    {
     "data": {
      "text/plain": [
       "{'updated': '31-Oct-20',\n",
       " 'since': '30-Oct-20',\n",
       " 'Cases': 8178532,\n",
       " 'Deaths': 121478,\n",
       " 'Recovered': 7484170,\n",
       " 'PCases': 8135448,\n",
       " 'PDeaths': 121088,\n",
       " 'PRecovered': 7430744,\n",
       " 'Cases (+)': 43084,\n",
       " 'Deaths (+)': 390,\n",
       " 'Recovered (+)': 53426}"
      ]
     },
     "execution_count": 8,
     "metadata": {},
     "output_type": "execute_result"
    }
   ],
   "source": [
    "#hide\n",
    "summary = {\n",
    "    'updated' : dt_today,\n",
    "    'since' : dt_yday,\n",
    "    'Cases' : df_today['TT'][0],\n",
    "    'Deaths' : df_today['TT'][1],\n",
    "    'Recovered' : df_today['TT'][2],\n",
    "    'PCases' : df_yday['TT'][0],\n",
    "    'PDeaths' : df_yday['TT'][1],\n",
    "    'PRecovered': df_yday['TT'][2],\n",
    "    'Cases (+)' : df_today['TT'][0] - df_yday['TT'][0],\n",
    "    'Deaths (+)' : df_today['TT'][1] - df_yday['TT'][1],\n",
    "    'Recovered (+)': df_today['TT'][2] - df_yday['TT'][2]\n",
    "}\n",
    "\n",
    "summary"
   ]
  },
  {
   "cell_type": "code",
   "execution_count": 9,
   "metadata": {
    "execution": {
     "iopub.execute_input": "2020-10-31T19:13:02.862742Z",
     "iopub.status.busy": "2020-10-31T19:13:02.862127Z",
     "iopub.status.idle": "2020-10-31T19:13:02.864524Z",
     "shell.execute_reply": "2020-10-31T19:13:02.864037Z"
    },
    "papermill": {
     "duration": 0.02179,
     "end_time": "2020-10-31T19:13:02.864643",
     "exception": false,
     "start_time": "2020-10-31T19:13:02.842853",
     "status": "completed"
    },
    "tags": []
   },
   "outputs": [],
   "source": [
    "#hide\n",
    "overview = '''\n",
    "<!-- #######  HTML!! #########-->\n",
    "<h1 style=\"color: #5e9ca0; text-align: center;\">India</h1>\n",
    "<p style=\"text-align: center;\">Last update: <strong>{update}</strong></p>\n",
    "<p style=\"text-align: center;\">Confirmed cases:</p>\n",
    "<p style=\"text-align: center;font-size:24px;\">{cases} (<span style=\"color: #ff0000;\">+{new}</span>)</p>\n",
    "<p style=\"text-align: center;\">Confirmed deaths:</p>\n",
    "<p style=\"text-align: center;font-size:24px;\">{deaths} (<span style=\"color: #ff0000;\">+{dnew}</span>)</p>\n",
    "<p style=\"text-align: center;\">Recovered cases:</p>\n",
    "<p style=\"text-align: center;font-size:24px;\">{recovered} (<span style=\"color: #00ff00;\">+{rnew}</span>)</p>\n",
    "'''"
   ]
  },
  {
   "cell_type": "code",
   "execution_count": 10,
   "metadata": {
    "execution": {
     "iopub.execute_input": "2020-10-31T19:13:02.900374Z",
     "iopub.status.busy": "2020-10-31T19:13:02.899799Z",
     "iopub.status.idle": "2020-10-31T19:13:02.903443Z",
     "shell.execute_reply": "2020-10-31T19:13:02.903935Z"
    },
    "papermill": {
     "duration": 0.025227,
     "end_time": "2020-10-31T19:13:02.904073",
     "exception": false,
     "start_time": "2020-10-31T19:13:02.878846",
     "status": "completed"
    },
    "tags": []
   },
   "outputs": [
    {
     "data": {
      "text/html": [
       "\n",
       "<!-- #######  HTML!! #########-->\n",
       "<h1 style=\"color: #5e9ca0; text-align: center;\">India</h1>\n",
       "<p style=\"text-align: center;\">Last update: <strong>31-Oct-20</strong></p>\n",
       "<p style=\"text-align: center;\">Confirmed cases:</p>\n",
       "<p style=\"text-align: center;font-size:24px;\">8178532 (<span style=\"color: #ff0000;\">+43084</span>)</p>\n",
       "<p style=\"text-align: center;\">Confirmed deaths:</p>\n",
       "<p style=\"text-align: center;font-size:24px;\">121478 (<span style=\"color: #ff0000;\">+390</span>)</p>\n",
       "<p style=\"text-align: center;\">Recovered cases:</p>\n",
       "<p style=\"text-align: center;font-size:24px;\">7484170 (<span style=\"color: #00ff00;\">+53426</span>)</p>\n"
      ],
      "text/plain": [
       "<IPython.core.display.HTML object>"
      ]
     },
     "metadata": {},
     "output_type": "display_data"
    }
   ],
   "source": [
    "#hide_input\n",
    "# Fill the above HTML with the information from the summary dictionary\n",
    "\n",
    "update = summary['updated']\n",
    "cases = summary['Cases']\n",
    "new = summary['Cases (+)']\n",
    "deaths = summary['Deaths']\n",
    "dnew = summary['Deaths (+)']\n",
    "recovered = summary['Recovered']\n",
    "rnew = summary['Recovered (+)']\n",
    "\n",
    "html = HTML(overview.format(update=update, cases=cases,new=new,deaths=deaths,dnew=dnew, recovered=recovered, rnew=rnew))\n",
    "\n",
    "display(html)"
   ]
  },
  {
   "cell_type": "code",
   "execution_count": 11,
   "metadata": {
    "execution": {
     "iopub.execute_input": "2020-10-31T19:13:02.942930Z",
     "iopub.status.busy": "2020-10-31T19:13:02.942303Z",
     "iopub.status.idle": "2020-10-31T19:13:02.949121Z",
     "shell.execute_reply": "2020-10-31T19:13:02.949567Z"
    },
    "papermill": {
     "duration": 0.031026,
     "end_time": "2020-10-31T19:13:02.949750",
     "exception": false,
     "start_time": "2020-10-31T19:13:02.918724",
     "status": "completed"
    },
    "tags": []
   },
   "outputs": [],
   "source": [
    "#hide\n",
    "df_cases = df[df['Status'] == 'Confirmed'].copy()\n",
    "df_cases.drop(columns = ['Status'], inplace=True)\n",
    "df_deaths = df[df['Status'] == 'Deceased'].copy()\n",
    "df_deaths.drop(columns = ['Status'], inplace=True)\n",
    "df_recovered = df[df['Status'] == 'Recovered'].copy()\n",
    "df_recovered.drop(columns = ['Status'], inplace=True)"
   ]
  },
  {
   "cell_type": "markdown",
   "metadata": {
    "papermill": {
     "duration": 0.014773,
     "end_time": "2020-10-31T19:13:02.979786",
     "exception": false,
     "start_time": "2020-10-31T19:13:02.965013",
     "status": "completed"
    },
    "tags": []
   },
   "source": [
    "Plot for India:"
   ]
  },
  {
   "cell_type": "code",
   "execution_count": 12,
   "metadata": {
    "execution": {
     "iopub.execute_input": "2020-10-31T19:13:03.031326Z",
     "iopub.status.busy": "2020-10-31T19:13:03.030710Z",
     "iopub.status.idle": "2020-10-31T19:13:03.298214Z",
     "shell.execute_reply": "2020-10-31T19:13:03.298698Z"
    },
    "papermill": {
     "duration": 0.304111,
     "end_time": "2020-10-31T19:13:03.298864",
     "exception": false,
     "start_time": "2020-10-31T19:13:02.994753",
     "status": "completed"
    },
    "tags": []
   },
   "outputs": [
    {
     "data": {
      "image/png": "[encoded data removed]",
      "text/plain": [
       "<Figure size 1296x432 with 1 Axes>"
      ]
     },
     "metadata": {
      "needs_background": "light"
     },
     "output_type": "display_data"
    }
   ],
   "source": [
    "#hide_input\n",
    "plt.figure(figsize = (18,6))\n",
    "plt.plot(df_cases['Date'], df_cases['TT'],'.-', alpha=0.7, color='b', label='Confirmed cases')\n",
    "plt.plot(df_recovered['Date'], df_recovered['TT'],'.-', alpha=0.7, color='g', label='Recovered')\n",
    "plt.plot(df_deaths['Date'], df_deaths['TT'],'.-', alpha=0.7, color='r', label='Deceased')\n",
    "plt.legend()\n",
    "plt.title(\"Cases per day in India\")\n",
    "plt.xticks(ticks=' ')\n",
    "plt.xlabel(f'{df_cases.iloc[0][0]} to {df_cases.iloc[-1][0]}')\n",
    "plt.ylabel('No. of cases');"
   ]
  },
  {
   "cell_type": "markdown",
   "metadata": {
    "papermill": {
     "duration": 0.016826,
     "end_time": "2020-10-31T19:13:03.332596",
     "exception": false,
     "start_time": "2020-10-31T19:13:03.315770",
     "status": "completed"
    },
    "tags": []
   },
   "source": [
    "Plots for the states with highest number of cases:"
   ]
  },
  {
   "cell_type": "markdown",
   "metadata": {
    "tags": [
     "papermill-error-cell-tag"
    ]
   },
   "source": [
    "<span id=\"papermill-error-cell\" style=\"color:red; font-family:Helvetica Neue, Helvetica, Arial, sans-serif; font-size:2em;\">Execution using papermill encountered an exception here and stopped:</span>"
   ]
  },
  {
   "cell_type": "code",
   "execution_count": 13,
   "metadata": {
    "execution": {
     "iopub.execute_input": "2020-10-31T19:13:03.380600Z",
     "iopub.status.busy": "2020-10-31T19:13:03.379985Z",
     "iopub.status.idle": "2020-10-31T19:13:03.494383Z",
     "shell.execute_reply": "2020-10-31T19:13:03.495301Z"
    },
    "papermill": {
     "duration": 0.145571,
     "end_time": "2020-10-31T19:13:03.495638",
     "exception": true,
     "start_time": "2020-10-31T19:13:03.350067",
     "status": "failed"
    },
    "tags": []
   },
   "outputs": [
    {
     "ename": "TypeError",
     "evalue": "'>' not supported between instances of 'numpy.ndarray' and 'str'",
     "output_type": "error",
     "traceback": [
      "\u001b[0;31m---------------------------------------------------------------------------\u001b[0m",
      "\u001b[0;31mTypeError\u001b[0m                                 Traceback (most recent call last)",
      "\u001b[0;32m<ipython-input-13-9711672c0a2c>\u001b[0m in \u001b[0;36m<module>\u001b[0;34m\u001b[0m\n\u001b[1;32m      1\u001b[0m \u001b[0;31m#hide_input\u001b[0m\u001b[0;34m\u001b[0m\u001b[0;34m\u001b[0m\u001b[0;34m\u001b[0m\u001b[0m\n\u001b[0;32m----> 2\u001b[0;31m \u001b[0mtop_3\u001b[0m \u001b[0;34m=\u001b[0m \u001b[0msorted\u001b[0m\u001b[0;34m(\u001b[0m\u001b[0mdf_cases\u001b[0m\u001b[0;34m.\u001b[0m\u001b[0msum\u001b[0m\u001b[0;34m(\u001b[0m\u001b[0;34m)\u001b[0m\u001b[0;34m.\u001b[0m\u001b[0mvalues\u001b[0m\u001b[0;34m[\u001b[0m\u001b[0;36m1\u001b[0m\u001b[0;34m:\u001b[0m\u001b[0;34m]\u001b[0m\u001b[0;34m,\u001b[0m \u001b[0mreverse\u001b[0m\u001b[0;34m=\u001b[0m\u001b[0;32mTrue\u001b[0m\u001b[0;34m)\u001b[0m\u001b[0;34m[\u001b[0m\u001b[0;36m1\u001b[0m\u001b[0;34m:\u001b[0m\u001b[0;36m4\u001b[0m\u001b[0;34m]\u001b[0m\u001b[0;34m\u001b[0m\u001b[0;34m\u001b[0m\u001b[0m\n\u001b[0m\u001b[1;32m      3\u001b[0m \u001b[0mtop3_states\u001b[0m\u001b[0;34m=\u001b[0m\u001b[0;34m[\u001b[0m\u001b[0;34m]\u001b[0m\u001b[0;34m\u001b[0m\u001b[0;34m\u001b[0m\u001b[0m\n\u001b[1;32m      4\u001b[0m \u001b[0;32mfor\u001b[0m \u001b[0mi\u001b[0m \u001b[0;32min\u001b[0m \u001b[0mtop_3\u001b[0m\u001b[0;34m:\u001b[0m\u001b[0;34m\u001b[0m\u001b[0;34m\u001b[0m\u001b[0m\n\u001b[1;32m      5\u001b[0m     \u001b[0mtop3_states\u001b[0m\u001b[0;34m.\u001b[0m\u001b[0mappend\u001b[0m\u001b[0;34m(\u001b[0m\u001b[0mdf_cases\u001b[0m\u001b[0;34m.\u001b[0m\u001b[0msum\u001b[0m\u001b[0;34m(\u001b[0m\u001b[0;34m)\u001b[0m\u001b[0;34m[\u001b[0m\u001b[0mdf_cases\u001b[0m\u001b[0;34m.\u001b[0m\u001b[0msum\u001b[0m\u001b[0;34m(\u001b[0m\u001b[0;34m)\u001b[0m \u001b[0;34m==\u001b[0m \u001b[0mi\u001b[0m\u001b[0;34m]\u001b[0m\u001b[0;34m.\u001b[0m\u001b[0mindex\u001b[0m\u001b[0;34m)\u001b[0m\u001b[0;34m\u001b[0m\u001b[0;34m\u001b[0m\u001b[0m\n",
      "\u001b[0;31mTypeError\u001b[0m: '>' not supported between instances of 'numpy.ndarray' and 'str'"
     ]
    }
   ],
   "source": [
    "#hide_input\n",
    "top_3 = sorted(df_cases.sum().values[1:], reverse=True)[1:4]\n",
    "top3_states=[]\n",
    "for i in top_3:\n",
    "    top3_states.append(df_cases.sum()[df_cases.sum() == i].index)\n",
    "\n",
    "\n",
    "fig, ax = plt.subplots(1,3,figsize = (21,6))\n",
    "for i in range(3):\n",
    "    state = top3_states[i].values[0]\n",
    "    ax[i].plot(df_cases['Date'], df_cases[state],'.-', color='b', alpha=0.7)\n",
    "    ax[i].plot(df_deaths['Date'], df_deaths[state],'.-', color='r', alpha=0.7)\n",
    "    ax[i].plot(df_recovered['Date'], df_recovered[state],'.-', color='g', alpha=0.7)\n",
    "    \n",
    "    ax[i].set_title(f\"Cases in {state}\")\n",
    "    ax[i].set_xticks(ticks=' ')\n",
    "    ax[i].set_xlabel(f'{df_cases.iloc[0][0]} to {df_cases.iloc[-1][0]}')\n",
    "    ax[i].set_ylabel('No. of cases');"
   ]
  },
  {
   "cell_type": "code",
   "execution_count": null,
   "metadata": {
    "papermill": {
     "duration": null,
     "end_time": null,
     "exception": null,
     "start_time": null,
     "status": "pending"
    },
    "tags": []
   },
   "outputs": [],
   "source": []
  },
  {
   "cell_type": "code",
   "execution_count": null,
   "metadata": {
    "papermill": {
     "duration": null,
     "end_time": null,
     "exception": null,
     "start_time": null,
     "status": "pending"
    },
    "tags": []
   },
   "outputs": [],
   "source": []
  },
  {
   "cell_type": "code",
   "execution_count": null,
   "metadata": {
    "papermill": {
     "duration": null,
     "end_time": null,
     "exception": null,
     "start_time": null,
     "status": "pending"
    },
    "tags": []
   },
   "outputs": [],
   "source": []
  }
 ],
 "metadata": {
  "kernelspec": {
   "display_name": "Python 3",
   "language": "python",
   "name": "python3"
  },
  "language_info": {
   "codemirror_mode": {
    "name": "ipython",
    "version": 3
   },
   "file_extension": ".py",
   "mimetype": "text/x-python",
   "name": "python",
   "nbconvert_exporter": "python",
   "pygments_lexer": "ipython3",
   "version": "3.6.12"
  },
  "papermill": {
   "duration": 4.320655,
   "end_time": "2020-10-31T19:13:04.962096",
   "environment_variables": {},
   "exception": true,
   "input_path": "2020-08-09-DailyUpdate.ipynb",
   "output_path": "2020-08-09-DailyUpdate.ipynb",
   "parameters": {},
   "start_time": "2020-10-31T19:13:00.641441",
   "version": "2.1.2"
  }
 },
 "nbformat": 4,
 "nbformat_minor": 4
}