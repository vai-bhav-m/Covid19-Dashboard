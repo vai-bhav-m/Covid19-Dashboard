{
 "cells": [
  {
   "cell_type": "markdown",
   "metadata": {
    "papermill": {
     "duration": 0.017754,
     "end_time": "2020-09-23T19:13:12.813086",
     "exception": false,
     "start_time": "2020-09-23T19:13:12.795332",
     "status": "completed"
    },
    "tags": []
   },
   "source": [
    "# COVID-19 India Daily updates\n",
    "> Tracking coronavirus total cases, deaths and new cases in India on a daily basis\n",
    "\n",
    "- author: Vaibhav Mahapatra"
   ]
  },
  {
   "cell_type": "code",
   "execution_count": 1,
   "metadata": {
    "execution": {
     "iopub.execute_input": "2020-09-23T19:13:12.849149Z",
     "iopub.status.busy": "2020-09-23T19:13:12.848448Z",
     "iopub.status.idle": "2020-09-23T19:13:13.504670Z",
     "shell.execute_reply": "2020-09-23T19:13:13.504046Z"
    },
    "papermill": {
     "duration": 0.677143,
     "end_time": "2020-09-23T19:13:13.504861",
     "exception": false,
     "start_time": "2020-09-23T19:13:12.827718",
     "status": "completed"
    },
    "tags": []
   },
   "outputs": [],
   "source": [
    "#hide\n",
    "\n",
    "## Import essential packages below\n",
    "\n",
    "import pandas as pd\n",
    "import numpy as np\n",
    "import requests\n",
    "import json\n",
    "import matplotlib.pyplot as plt\n",
    "import matplotlib.dates as mdates\n",
    "import matplotlib as mpl\n",
    "from IPython.core.display import display,HTML\n",
    "%matplotlib inline"
   ]
  },
  {
   "cell_type": "code",
   "execution_count": 2,
   "metadata": {
    "execution": {
     "iopub.execute_input": "2020-09-23T19:13:13.541153Z",
     "iopub.status.busy": "2020-09-23T19:13:13.540330Z",
     "iopub.status.idle": "2020-09-23T19:13:13.809127Z",
     "shell.execute_reply": "2020-09-23T19:13:13.808493Z"
    },
    "papermill": {
     "duration": 0.290052,
     "end_time": "2020-09-23T19:13:13.809275",
     "exception": false,
     "start_time": "2020-09-23T19:13:13.519223",
     "status": "completed"
    },
    "tags": []
   },
   "outputs": [
    {
     "data": {
      "text/plain": [
       "(582, 41)"
      ]
     },
     "execution_count": 2,
     "metadata": {},
     "output_type": "execute_result"
    }
   ],
   "source": [
    "#hide\n",
    "url = 'https://api.covid19india.org/csv/latest/state_wise_daily.csv'\n",
    "df = pd.read_csv(url)\n",
    "df.shape"
   ]
  },
  {
   "cell_type": "code",
   "execution_count": 3,
   "metadata": {
    "execution": {
     "iopub.execute_input": "2020-09-23T19:13:13.891677Z",
     "iopub.status.busy": "2020-09-23T19:13:13.879739Z",
     "iopub.status.idle": "2020-09-23T19:13:13.905540Z",
     "shell.execute_reply": "2020-09-23T19:13:13.904954Z"
    },
    "papermill": {
     "duration": 0.082078,
     "end_time": "2020-09-23T19:13:13.905699",
     "exception": false,
     "start_time": "2020-09-23T19:13:13.823621",
     "status": "completed"
    },
    "tags": []
   },
   "outputs": [
    {
     "data": {
      "text/html": [
       "<div>\n",
       "<style scoped>\n",
       "    .dataframe tbody tr th:only-of-type {\n",
       "        vertical-align: middle;\n",
       "    }\n",
       "\n",
       "    .dataframe tbody tr th {\n",
       "        vertical-align: top;\n",
       "    }\n",
       "\n",
       "    .dataframe thead th {\n",
       "        text-align: right;\n",
       "    }\n",
       "</style>\n",
       "<table border=\"1\" class=\"dataframe\">\n",
       "  <thead>\n",
       "    <tr style=\"text-align: right;\">\n",
       "      <th></th>\n",
       "      <th>Date</th>\n",
       "      <th>Status</th>\n",
       "      <th>TT</th>\n",
       "      <th>AN</th>\n",
       "      <th>AP</th>\n",
       "      <th>AR</th>\n",
       "      <th>AS</th>\n",
       "      <th>BR</th>\n",
       "      <th>CH</th>\n",
       "      <th>CT</th>\n",
       "      <th>...</th>\n",
       "      <th>PB</th>\n",
       "      <th>RJ</th>\n",
       "      <th>SK</th>\n",
       "      <th>TN</th>\n",
       "      <th>TG</th>\n",
       "      <th>TR</th>\n",
       "      <th>UP</th>\n",
       "      <th>UT</th>\n",
       "      <th>WB</th>\n",
       "      <th>UN</th>\n",
       "    </tr>\n",
       "  </thead>\n",
       "  <tbody>\n",
       "    <tr>\n",
       "      <th>576</th>\n",
       "      <td>22-Sep-20</td>\n",
       "      <td>Confirmed</td>\n",
       "      <td>83361</td>\n",
       "      <td>18</td>\n",
       "      <td>7553</td>\n",
       "      <td>249</td>\n",
       "      <td>2073</td>\n",
       "      <td>1609</td>\n",
       "      <td>248</td>\n",
       "      <td>2736</td>\n",
       "      <td>...</td>\n",
       "      <td>1411</td>\n",
       "      <td>1912</td>\n",
       "      <td>66</td>\n",
       "      <td>5337</td>\n",
       "      <td>2166</td>\n",
       "      <td>559</td>\n",
       "      <td>5650</td>\n",
       "      <td>874</td>\n",
       "      <td>3182</td>\n",
       "      <td>0</td>\n",
       "    </tr>\n",
       "    <tr>\n",
       "      <th>577</th>\n",
       "      <td>22-Sep-20</td>\n",
       "      <td>Recovered</td>\n",
       "      <td>89653</td>\n",
       "      <td>10</td>\n",
       "      <td>10555</td>\n",
       "      <td>135</td>\n",
       "      <td>1817</td>\n",
       "      <td>1232</td>\n",
       "      <td>383</td>\n",
       "      <td>2437</td>\n",
       "      <td>...</td>\n",
       "      <td>1718</td>\n",
       "      <td>1528</td>\n",
       "      <td>23</td>\n",
       "      <td>5406</td>\n",
       "      <td>2143</td>\n",
       "      <td>419</td>\n",
       "      <td>6589</td>\n",
       "      <td>1107</td>\n",
       "      <td>3047</td>\n",
       "      <td>0</td>\n",
       "    </tr>\n",
       "    <tr>\n",
       "      <th>578</th>\n",
       "      <td>22-Sep-20</td>\n",
       "      <td>Deceased</td>\n",
       "      <td>1085</td>\n",
       "      <td>0</td>\n",
       "      <td>51</td>\n",
       "      <td>1</td>\n",
       "      <td>8</td>\n",
       "      <td>3</td>\n",
       "      <td>4</td>\n",
       "      <td>28</td>\n",
       "      <td>...</td>\n",
       "      <td>66</td>\n",
       "      <td>15</td>\n",
       "      <td>0</td>\n",
       "      <td>76</td>\n",
       "      <td>10</td>\n",
       "      <td>3</td>\n",
       "      <td>77</td>\n",
       "      <td>11</td>\n",
       "      <td>62</td>\n",
       "      <td>0</td>\n",
       "    </tr>\n",
       "    <tr>\n",
       "      <th>579</th>\n",
       "      <td>23-Sep-20</td>\n",
       "      <td>Confirmed</td>\n",
       "      <td>84269</td>\n",
       "      <td>21</td>\n",
       "      <td>7228</td>\n",
       "      <td>289</td>\n",
       "      <td>2098</td>\n",
       "      <td>1598</td>\n",
       "      <td>180</td>\n",
       "      <td>0</td>\n",
       "      <td>...</td>\n",
       "      <td>2123</td>\n",
       "      <td>1946</td>\n",
       "      <td>35</td>\n",
       "      <td>5325</td>\n",
       "      <td>2296</td>\n",
       "      <td>504</td>\n",
       "      <td>5143</td>\n",
       "      <td>1069</td>\n",
       "      <td>3189</td>\n",
       "      <td>0</td>\n",
       "    </tr>\n",
       "    <tr>\n",
       "      <th>580</th>\n",
       "      <td>23-Sep-20</td>\n",
       "      <td>Recovered</td>\n",
       "      <td>82686</td>\n",
       "      <td>15</td>\n",
       "      <td>8291</td>\n",
       "      <td>125</td>\n",
       "      <td>1762</td>\n",
       "      <td>1490</td>\n",
       "      <td>255</td>\n",
       "      <td>0</td>\n",
       "      <td>...</td>\n",
       "      <td>2117</td>\n",
       "      <td>1553</td>\n",
       "      <td>14</td>\n",
       "      <td>5363</td>\n",
       "      <td>2062</td>\n",
       "      <td>603</td>\n",
       "      <td>6506</td>\n",
       "      <td>1016</td>\n",
       "      <td>2998</td>\n",
       "      <td>0</td>\n",
       "    </tr>\n",
       "    <tr>\n",
       "      <th>581</th>\n",
       "      <td>23-Sep-20</td>\n",
       "      <td>Deceased</td>\n",
       "      <td>1113</td>\n",
       "      <td>0</td>\n",
       "      <td>45</td>\n",
       "      <td>0</td>\n",
       "      <td>11</td>\n",
       "      <td>1</td>\n",
       "      <td>10</td>\n",
       "      <td>0</td>\n",
       "      <td>...</td>\n",
       "      <td>64</td>\n",
       "      <td>15</td>\n",
       "      <td>1</td>\n",
       "      <td>63</td>\n",
       "      <td>10</td>\n",
       "      <td>2</td>\n",
       "      <td>87</td>\n",
       "      <td>17</td>\n",
       "      <td>61</td>\n",
       "      <td>0</td>\n",
       "    </tr>\n",
       "  </tbody>\n",
       "</table>\n",
       "<p>6 rows × 41 columns</p>\n",
       "</div>"
      ],
      "text/plain": [
       "          Date     Status     TT  AN     AP   AR    AS    BR   CH    CT  ...  \\\n",
       "576  22-Sep-20  Confirmed  83361  18   7553  249  2073  1609  248  2736  ...   \n",
       "577  22-Sep-20  Recovered  89653  10  10555  135  1817  1232  383  2437  ...   \n",
       "578  22-Sep-20   Deceased   1085   0     51    1     8     3    4    28  ...   \n",
       "579  23-Sep-20  Confirmed  84269  21   7228  289  2098  1598  180     0  ...   \n",
       "580  23-Sep-20  Recovered  82686  15   8291  125  1762  1490  255     0  ...   \n",
       "581  23-Sep-20   Deceased   1113   0     45    0    11     1   10     0  ...   \n",
       "\n",
       "       PB    RJ  SK    TN    TG   TR    UP    UT    WB  UN  \n",
       "576  1411  1912  66  5337  2166  559  5650   874  3182   0  \n",
       "577  1718  1528  23  5406  2143  419  6589  1107  3047   0  \n",
       "578    66    15   0    76    10    3    77    11    62   0  \n",
       "579  2123  1946  35  5325  2296  504  5143  1069  3189   0  \n",
       "580  2117  1553  14  5363  2062  603  6506  1016  2998   0  \n",
       "581    64    15   1    63    10    2    87    17    61   0  \n",
       "\n",
       "[6 rows x 41 columns]"
      ]
     },
     "execution_count": 3,
     "metadata": {},
     "output_type": "execute_result"
    }
   ],
   "source": [
    "#hide\n",
    "df.tail(6)"
   ]
  },
  {
   "cell_type": "code",
   "execution_count": 4,
   "metadata": {
    "execution": {
     "iopub.execute_input": "2020-09-23T19:13:13.941885Z",
     "iopub.status.busy": "2020-09-23T19:13:13.941183Z",
     "iopub.status.idle": "2020-09-23T19:13:13.944689Z",
     "shell.execute_reply": "2020-09-23T19:13:13.944123Z"
    },
    "papermill": {
     "duration": 0.024656,
     "end_time": "2020-09-23T19:13:13.944846",
     "exception": false,
     "start_time": "2020-09-23T19:13:13.920190",
     "status": "completed"
    },
    "tags": []
   },
   "outputs": [
    {
     "data": {
      "text/plain": [
       "('23-Sep-20', '22-Sep-20')"
      ]
     },
     "execution_count": 4,
     "metadata": {},
     "output_type": "execute_result"
    }
   ],
   "source": [
    "#hide\n",
    "dt_today = df.iloc[-1][0]\n",
    "dt_yday = df.iloc[-4][0]\n",
    "dt_today, dt_yday"
   ]
  },
  {
   "cell_type": "code",
   "execution_count": 5,
   "metadata": {
    "execution": {
     "iopub.execute_input": "2020-09-23T19:13:13.981341Z",
     "iopub.status.busy": "2020-09-23T19:13:13.980653Z",
     "iopub.status.idle": "2020-09-23T19:13:13.988284Z",
     "shell.execute_reply": "2020-09-23T19:13:13.987605Z"
    },
    "papermill": {
     "duration": 0.028629,
     "end_time": "2020-09-23T19:13:13.988434",
     "exception": false,
     "start_time": "2020-09-23T19:13:13.959805",
     "status": "completed"
    },
    "tags": []
   },
   "outputs": [],
   "source": [
    "#hide\n",
    "df_today = df.groupby('Status').sum()\n",
    "df_yday = df.iloc[:-3][:].groupby('Status').sum()"
   ]
  },
  {
   "cell_type": "code",
   "execution_count": 6,
   "metadata": {
    "execution": {
     "iopub.execute_input": "2020-09-23T19:13:14.026652Z",
     "iopub.status.busy": "2020-09-23T19:13:14.025996Z",
     "iopub.status.idle": "2020-09-23T19:13:14.045428Z",
     "shell.execute_reply": "2020-09-23T19:13:14.046025Z"
    },
    "papermill": {
     "duration": 0.043175,
     "end_time": "2020-09-23T19:13:14.046208",
     "exception": false,
     "start_time": "2020-09-23T19:13:14.003033",
     "status": "completed"
    },
    "tags": []
   },
   "outputs": [
    {
     "data": {
      "text/html": [
       "<div>\n",
       "<style scoped>\n",
       "    .dataframe tbody tr th:only-of-type {\n",
       "        vertical-align: middle;\n",
       "    }\n",
       "\n",
       "    .dataframe tbody tr th {\n",
       "        vertical-align: top;\n",
       "    }\n",
       "\n",
       "    .dataframe thead th {\n",
       "        text-align: right;\n",
       "    }\n",
       "</style>\n",
       "<table border=\"1\" class=\"dataframe\">\n",
       "  <thead>\n",
       "    <tr style=\"text-align: right;\">\n",
       "      <th></th>\n",
       "      <th>TT</th>\n",
       "      <th>AN</th>\n",
       "      <th>AP</th>\n",
       "      <th>AR</th>\n",
       "      <th>AS</th>\n",
       "      <th>BR</th>\n",
       "      <th>CH</th>\n",
       "      <th>CT</th>\n",
       "      <th>DN</th>\n",
       "      <th>DD</th>\n",
       "      <th>...</th>\n",
       "      <th>PB</th>\n",
       "      <th>RJ</th>\n",
       "      <th>SK</th>\n",
       "      <th>TN</th>\n",
       "      <th>TG</th>\n",
       "      <th>TR</th>\n",
       "      <th>UP</th>\n",
       "      <th>UT</th>\n",
       "      <th>WB</th>\n",
       "      <th>UN</th>\n",
       "    </tr>\n",
       "    <tr>\n",
       "      <th>Status</th>\n",
       "      <th></th>\n",
       "      <th></th>\n",
       "      <th></th>\n",
       "      <th></th>\n",
       "      <th></th>\n",
       "      <th></th>\n",
       "      <th></th>\n",
       "      <th></th>\n",
       "      <th></th>\n",
       "      <th></th>\n",
       "      <th></th>\n",
       "      <th></th>\n",
       "      <th></th>\n",
       "      <th></th>\n",
       "      <th></th>\n",
       "      <th></th>\n",
       "      <th></th>\n",
       "      <th></th>\n",
       "      <th></th>\n",
       "      <th></th>\n",
       "      <th></th>\n",
       "    </tr>\n",
       "  </thead>\n",
       "  <tbody>\n",
       "    <tr>\n",
       "      <th>Confirmed</th>\n",
       "      <td>5727116</td>\n",
       "      <td>3708</td>\n",
       "      <td>646530</td>\n",
       "      <td>8133</td>\n",
       "      <td>163389</td>\n",
       "      <td>173063</td>\n",
       "      <td>10726</td>\n",
       "      <td>90917</td>\n",
       "      <td>2961</td>\n",
       "      <td>0</td>\n",
       "      <td>...</td>\n",
       "      <td>103464</td>\n",
       "      <td>120739</td>\n",
       "      <td>2561</td>\n",
       "      <td>557999</td>\n",
       "      <td>176560</td>\n",
       "      <td>23335</td>\n",
       "      <td>369686</td>\n",
       "      <td>43720</td>\n",
       "      <td>234673</td>\n",
       "      <td>0</td>\n",
       "    </tr>\n",
       "    <tr>\n",
       "      <th>Deceased</th>\n",
       "      <td>90578</td>\n",
       "      <td>52</td>\n",
       "      <td>5506</td>\n",
       "      <td>14</td>\n",
       "      <td>601</td>\n",
       "      <td>874</td>\n",
       "      <td>137</td>\n",
       "      <td>718</td>\n",
       "      <td>2</td>\n",
       "      <td>0</td>\n",
       "      <td>...</td>\n",
       "      <td>2990</td>\n",
       "      <td>1382</td>\n",
       "      <td>30</td>\n",
       "      <td>9010</td>\n",
       "      <td>1062</td>\n",
       "      <td>250</td>\n",
       "      <td>5299</td>\n",
       "      <td>529</td>\n",
       "      <td>4544</td>\n",
       "      <td>0</td>\n",
       "    </tr>\n",
       "    <tr>\n",
       "      <th>Recovered</th>\n",
       "      <td>4667065</td>\n",
       "      <td>3485</td>\n",
       "      <td>570667</td>\n",
       "      <td>5903</td>\n",
       "      <td>132709</td>\n",
       "      <td>158546</td>\n",
       "      <td>8049</td>\n",
       "      <td>52001</td>\n",
       "      <td>2718</td>\n",
       "      <td>0</td>\n",
       "      <td>...</td>\n",
       "      <td>79244</td>\n",
       "      <td>100365</td>\n",
       "      <td>1943</td>\n",
       "      <td>502740</td>\n",
       "      <td>146135</td>\n",
       "      <td>16463</td>\n",
       "      <td>302689</td>\n",
       "      <td>31123</td>\n",
       "      <td>205028</td>\n",
       "      <td>0</td>\n",
       "    </tr>\n",
       "  </tbody>\n",
       "</table>\n",
       "<p>3 rows × 39 columns</p>\n",
       "</div>"
      ],
      "text/plain": [
       "                TT    AN      AP    AR      AS      BR     CH     CT    DN  \\\n",
       "Status                                                                       \n",
       "Confirmed  5727116  3708  646530  8133  163389  173063  10726  90917  2961   \n",
       "Deceased     90578    52    5506    14     601     874    137    718     2   \n",
       "Recovered  4667065  3485  570667  5903  132709  158546   8049  52001  2718   \n",
       "\n",
       "           DD  ...      PB      RJ    SK      TN      TG     TR      UP  \\\n",
       "Status         ...                                                        \n",
       "Confirmed   0  ...  103464  120739  2561  557999  176560  23335  369686   \n",
       "Deceased    0  ...    2990    1382    30    9010    1062    250    5299   \n",
       "Recovered   0  ...   79244  100365  1943  502740  146135  16463  302689   \n",
       "\n",
       "              UT      WB  UN  \n",
       "Status                        \n",
       "Confirmed  43720  234673   0  \n",
       "Deceased     529    4544   0  \n",
       "Recovered  31123  205028   0  \n",
       "\n",
       "[3 rows x 39 columns]"
      ]
     },
     "execution_count": 6,
     "metadata": {},
     "output_type": "execute_result"
    }
   ],
   "source": [
    "#hide\n",
    "df_today"
   ]
  },
  {
   "cell_type": "code",
   "execution_count": 7,
   "metadata": {
    "execution": {
     "iopub.execute_input": "2020-09-23T19:13:14.522208Z",
     "iopub.status.busy": "2020-09-23T19:13:14.521501Z",
     "iopub.status.idle": "2020-09-23T19:13:14.525237Z",
     "shell.execute_reply": "2020-09-23T19:13:14.524649Z"
    },
    "papermill": {
     "duration": 0.037503,
     "end_time": "2020-09-23T19:13:14.525391",
     "exception": false,
     "start_time": "2020-09-23T19:13:14.487888",
     "status": "completed"
    },
    "tags": []
   },
   "outputs": [
    {
     "data": {
      "text/html": [
       "<div>\n",
       "<style scoped>\n",
       "    .dataframe tbody tr th:only-of-type {\n",
       "        vertical-align: middle;\n",
       "    }\n",
       "\n",
       "    .dataframe tbody tr th {\n",
       "        vertical-align: top;\n",
       "    }\n",
       "\n",
       "    .dataframe thead th {\n",
       "        text-align: right;\n",
       "    }\n",
       "</style>\n",
       "<table border=\"1\" class=\"dataframe\">\n",
       "  <thead>\n",
       "    <tr style=\"text-align: right;\">\n",
       "      <th></th>\n",
       "      <th>TT</th>\n",
       "      <th>AN</th>\n",
       "      <th>AP</th>\n",
       "      <th>AR</th>\n",
       "      <th>AS</th>\n",
       "      <th>BR</th>\n",
       "      <th>CH</th>\n",
       "      <th>CT</th>\n",
       "      <th>DN</th>\n",
       "      <th>DD</th>\n",
       "      <th>...</th>\n",
       "      <th>PB</th>\n",
       "      <th>RJ</th>\n",
       "      <th>SK</th>\n",
       "      <th>TN</th>\n",
       "      <th>TG</th>\n",
       "      <th>TR</th>\n",
       "      <th>UP</th>\n",
       "      <th>UT</th>\n",
       "      <th>WB</th>\n",
       "      <th>UN</th>\n",
       "    </tr>\n",
       "    <tr>\n",
       "      <th>Status</th>\n",
       "      <th></th>\n",
       "      <th></th>\n",
       "      <th></th>\n",
       "      <th></th>\n",
       "      <th></th>\n",
       "      <th></th>\n",
       "      <th></th>\n",
       "      <th></th>\n",
       "      <th></th>\n",
       "      <th></th>\n",
       "      <th></th>\n",
       "      <th></th>\n",
       "      <th></th>\n",
       "      <th></th>\n",
       "      <th></th>\n",
       "      <th></th>\n",
       "      <th></th>\n",
       "      <th></th>\n",
       "      <th></th>\n",
       "      <th></th>\n",
       "      <th></th>\n",
       "    </tr>\n",
       "  </thead>\n",
       "  <tbody>\n",
       "    <tr>\n",
       "      <th>Confirmed</th>\n",
       "      <td>5642847</td>\n",
       "      <td>3687</td>\n",
       "      <td>639302</td>\n",
       "      <td>7844</td>\n",
       "      <td>161291</td>\n",
       "      <td>171465</td>\n",
       "      <td>10546</td>\n",
       "      <td>90917</td>\n",
       "      <td>2943</td>\n",
       "      <td>0</td>\n",
       "      <td>...</td>\n",
       "      <td>101341</td>\n",
       "      <td>118793</td>\n",
       "      <td>2526</td>\n",
       "      <td>552674</td>\n",
       "      <td>174264</td>\n",
       "      <td>22831</td>\n",
       "      <td>364543</td>\n",
       "      <td>42651</td>\n",
       "      <td>231484</td>\n",
       "      <td>0</td>\n",
       "    </tr>\n",
       "    <tr>\n",
       "      <th>Deceased</th>\n",
       "      <td>89465</td>\n",
       "      <td>52</td>\n",
       "      <td>5461</td>\n",
       "      <td>14</td>\n",
       "      <td>590</td>\n",
       "      <td>873</td>\n",
       "      <td>127</td>\n",
       "      <td>718</td>\n",
       "      <td>2</td>\n",
       "      <td>0</td>\n",
       "      <td>...</td>\n",
       "      <td>2926</td>\n",
       "      <td>1367</td>\n",
       "      <td>29</td>\n",
       "      <td>8947</td>\n",
       "      <td>1052</td>\n",
       "      <td>248</td>\n",
       "      <td>5212</td>\n",
       "      <td>512</td>\n",
       "      <td>4483</td>\n",
       "      <td>0</td>\n",
       "    </tr>\n",
       "    <tr>\n",
       "      <th>Recovered</th>\n",
       "      <td>4584379</td>\n",
       "      <td>3470</td>\n",
       "      <td>562376</td>\n",
       "      <td>5778</td>\n",
       "      <td>130947</td>\n",
       "      <td>157056</td>\n",
       "      <td>7794</td>\n",
       "      <td>52001</td>\n",
       "      <td>2710</td>\n",
       "      <td>0</td>\n",
       "      <td>...</td>\n",
       "      <td>77127</td>\n",
       "      <td>98812</td>\n",
       "      <td>1929</td>\n",
       "      <td>497377</td>\n",
       "      <td>144073</td>\n",
       "      <td>15860</td>\n",
       "      <td>296183</td>\n",
       "      <td>30107</td>\n",
       "      <td>202030</td>\n",
       "      <td>0</td>\n",
       "    </tr>\n",
       "  </tbody>\n",
       "</table>\n",
       "<p>3 rows × 39 columns</p>\n",
       "</div>"
      ],
      "text/plain": [
       "                TT    AN      AP    AR      AS      BR     CH     CT    DN  \\\n",
       "Status                                                                       \n",
       "Confirmed  5642847  3687  639302  7844  161291  171465  10546  90917  2943   \n",
       "Deceased     89465    52    5461    14     590     873    127    718     2   \n",
       "Recovered  4584379  3470  562376  5778  130947  157056   7794  52001  2710   \n",
       "\n",
       "           DD  ...      PB      RJ    SK      TN      TG     TR      UP  \\\n",
       "Status         ...                                                        \n",
       "Confirmed   0  ...  101341  118793  2526  552674  174264  22831  364543   \n",
       "Deceased    0  ...    2926    1367    29    8947    1052    248    5212   \n",
       "Recovered   0  ...   77127   98812  1929  497377  144073  15860  296183   \n",
       "\n",
       "              UT      WB  UN  \n",
       "Status                        \n",
       "Confirmed  42651  231484   0  \n",
       "Deceased     512    4483   0  \n",
       "Recovered  30107  202030   0  \n",
       "\n",
       "[3 rows x 39 columns]"
      ]
     },
     "execution_count": 7,
     "metadata": {},
     "output_type": "execute_result"
    }
   ],
   "source": [
    "#hide\n",
    "df_yday.head()"
   ]
  },
  {
   "cell_type": "code",
   "execution_count": 8,
   "metadata": {
    "execution": {
     "iopub.execute_input": "2020-09-23T19:13:14.567179Z",
     "iopub.status.busy": "2020-09-23T19:13:14.566467Z",
     "iopub.status.idle": "2020-09-23T19:13:14.569292Z",
     "shell.execute_reply": "2020-09-23T19:13:14.569843Z"
    },
    "papermill": {
     "duration": 0.028049,
     "end_time": "2020-09-23T19:13:14.570026",
     "exception": false,
     "start_time": "2020-09-23T19:13:14.541977",
     "status": "completed"
    },
    "tags": []
   },
   "outputs": [
    {
     "data": {
      "text/plain": [
       "{'updated': '23-Sep-20',\n",
       " 'since': '22-Sep-20',\n",
       " 'Cases': 5727116,\n",
       " 'Deaths': 90578,\n",
       " 'Recovered': 4667065,\n",
       " 'PCases': 5642847,\n",
       " 'PDeaths': 89465,\n",
       " 'PRecovered': 4584379,\n",
       " 'Cases (+)': 84269,\n",
       " 'Deaths (+)': 1113,\n",
       " 'Recovered (+)': 82686}"
      ]
     },
     "execution_count": 8,
     "metadata": {},
     "output_type": "execute_result"
    }
   ],
   "source": [
    "#hide\n",
    "summary = {\n",
    "    'updated' : dt_today,\n",
    "    'since' : dt_yday,\n",
    "    'Cases' : df_today['TT'][0],\n",
    "    'Deaths' : df_today['TT'][1],\n",
    "    'Recovered' : df_today['TT'][2],\n",
    "    'PCases' : df_yday['TT'][0],\n",
    "    'PDeaths' : df_yday['TT'][1],\n",
    "    'PRecovered': df_yday['TT'][2],\n",
    "    'Cases (+)' : df_today['TT'][0] - df_yday['TT'][0],\n",
    "    'Deaths (+)' : df_today['TT'][1] - df_yday['TT'][1],\n",
    "    'Recovered (+)': df_today['TT'][2] - df_yday['TT'][2]\n",
    "}\n",
    "\n",
    "summary"
   ]
  },
  {
   "cell_type": "code",
   "execution_count": 9,
   "metadata": {
    "execution": {
     "iopub.execute_input": "2020-09-23T19:13:14.608916Z",
     "iopub.status.busy": "2020-09-23T19:13:14.608177Z",
     "iopub.status.idle": "2020-09-23T19:13:14.610842Z",
     "shell.execute_reply": "2020-09-23T19:13:14.610244Z"
    },
    "papermill": {
     "duration": 0.024253,
     "end_time": "2020-09-23T19:13:14.611002",
     "exception": false,
     "start_time": "2020-09-23T19:13:14.586749",
     "status": "completed"
    },
    "tags": []
   },
   "outputs": [],
   "source": [
    "#hide\n",
    "overview = '''\n",
    "<!-- #######  HTML!! #########-->\n",
    "<h1 style=\"color: #5e9ca0; text-align: center;\">India</h1>\n",
    "<p style=\"text-align: center;\">Last update: <strong>{update}</strong></p>\n",
    "<p style=\"text-align: center;\">Confirmed cases:</p>\n",
    "<p style=\"text-align: center;font-size:24px;\">{cases} (<span style=\"color: #ff0000;\">+{new}</span>)</p>\n",
    "<p style=\"text-align: center;\">Confirmed deaths:</p>\n",
    "<p style=\"text-align: center;font-size:24px;\">{deaths} (<span style=\"color: #ff0000;\">+{dnew}</span>)</p>\n",
    "<p style=\"text-align: center;\">Recovered cases:</p>\n",
    "<p style=\"text-align: center;font-size:24px;\">{recovered} (<span style=\"color: #00ff00;\">+{rnew}</span>)</p>\n",
    "'''"
   ]
  },
  {
   "cell_type": "code",
   "execution_count": 10,
   "metadata": {
    "execution": {
     "iopub.execute_input": "2020-09-23T19:13:14.653221Z",
     "iopub.status.busy": "2020-09-23T19:13:14.652495Z",
     "iopub.status.idle": "2020-09-23T19:13:14.655409Z",
     "shell.execute_reply": "2020-09-23T19:13:14.656012Z"
    },
    "papermill": {
     "duration": 0.027599,
     "end_time": "2020-09-23T19:13:14.656200",
     "exception": false,
     "start_time": "2020-09-23T19:13:14.628601",
     "status": "completed"
    },
    "tags": []
   },
   "outputs": [
    {
     "data": {
      "text/html": [
       "\n",
       "<!-- #######  HTML!! #########-->\n",
       "<h1 style=\"color: #5e9ca0; text-align: center;\">India</h1>\n",
       "<p style=\"text-align: center;\">Last update: <strong>23-Sep-20</strong></p>\n",
       "<p style=\"text-align: center;\">Confirmed cases:</p>\n",
       "<p style=\"text-align: center;font-size:24px;\">5727116 (<span style=\"color: #ff0000;\">+84269</span>)</p>\n",
       "<p style=\"text-align: center;\">Confirmed deaths:</p>\n",
       "<p style=\"text-align: center;font-size:24px;\">90578 (<span style=\"color: #ff0000;\">+1113</span>)</p>\n",
       "<p style=\"text-align: center;\">Recovered cases:</p>\n",
       "<p style=\"text-align: center;font-size:24px;\">4667065 (<span style=\"color: #00ff00;\">+82686</span>)</p>\n"
      ],
      "text/plain": [
       "<IPython.core.display.HTML object>"
      ]
     },
     "metadata": {},
     "output_type": "display_data"
    }
   ],
   "source": [
    "#hide_input\n",
    "# Fill the above HTML with the information from the summary dictionary\n",
    "\n",
    "update = summary['updated']\n",
    "cases = summary['Cases']\n",
    "new = summary['Cases (+)']\n",
    "deaths = summary['Deaths']\n",
    "dnew = summary['Deaths (+)']\n",
    "recovered = summary['Recovered']\n",
    "rnew = summary['Recovered (+)']\n",
    "\n",
    "html = HTML(overview.format(update=update, cases=cases,new=new,deaths=deaths,dnew=dnew, recovered=recovered, rnew=rnew))\n",
    "\n",
    "display(html)"
   ]
  },
  {
   "cell_type": "code",
   "execution_count": 11,
   "metadata": {
    "execution": {
     "iopub.execute_input": "2020-09-23T19:13:14.703101Z",
     "iopub.status.busy": "2020-09-23T19:13:14.702309Z",
     "iopub.status.idle": "2020-09-23T19:13:14.706696Z",
     "shell.execute_reply": "2020-09-23T19:13:14.706097Z"
    },
    "papermill": {
     "duration": 0.033577,
     "end_time": "2020-09-23T19:13:14.706868",
     "exception": false,
     "start_time": "2020-09-23T19:13:14.673291",
     "status": "completed"
    },
    "tags": []
   },
   "outputs": [],
   "source": [
    "#hide\n",
    "df_cases = df[df['Status'] == 'Confirmed'].copy()\n",
    "df_cases.drop(columns = ['Status'], inplace=True)\n",
    "df_deaths = df[df['Status'] == 'Deceased'].copy()\n",
    "df_deaths.drop(columns = ['Status'], inplace=True)\n",
    "df_recovered = df[df['Status'] == 'Recovered'].copy()\n",
    "df_recovered.drop(columns = ['Status'], inplace=True)"
   ]
  },
  {
   "cell_type": "markdown",
   "metadata": {
    "papermill": {
     "duration": 0.017094,
     "end_time": "2020-09-23T19:13:14.741331",
     "exception": false,
     "start_time": "2020-09-23T19:13:14.724237",
     "status": "completed"
    },
    "tags": []
   },
   "source": [
    "Plot for India:"
   ]
  },
  {
   "cell_type": "code",
   "execution_count": 12,
   "metadata": {
    "execution": {
     "iopub.execute_input": "2020-09-23T19:13:14.803228Z",
     "iopub.status.busy": "2020-09-23T19:13:14.802496Z",
     "iopub.status.idle": "2020-09-23T19:13:15.103038Z",
     "shell.execute_reply": "2020-09-23T19:13:15.103606Z"
    },
    "papermill": {
     "duration": 0.344995,
     "end_time": "2020-09-23T19:13:15.103800",
     "exception": false,
     "start_time": "2020-09-23T19:13:14.758805",
     "status": "completed"
    },
    "tags": []
   },
   "outputs": [
    {
     "data": {
      "image/png": "[encoded data removed]",
      "text/plain": [
       "<Figure size 1296x432 with 1 Axes>"
      ]
     },
     "metadata": {
      "needs_background": "light"
     },
     "output_type": "display_data"
    }
   ],
   "source": [
    "#hide_input\n",
    "plt.figure(figsize = (18,6))\n",
    "plt.plot(df_cases['Date'], df_cases['TT'],'.-', alpha=0.7, color='b', label='Confirmed cases')\n",
    "plt.plot(df_recovered['Date'], df_recovered['TT'],'.-', alpha=0.7, color='g', label='Recovered')\n",
    "plt.plot(df_deaths['Date'], df_deaths['TT'],'.-', alpha=0.7, color='r', label='Deceased')\n",
    "plt.legend()\n",
    "plt.title(\"Cases per day in India\")\n",
    "plt.xticks(ticks=' ')\n",
    "plt.xlabel(f'{df_cases.iloc[0][0]} to {df_cases.iloc[-1][0]}')\n",
    "plt.ylabel('No. of cases');"
   ]
  },
  {
   "cell_type": "markdown",
   "metadata": {
    "papermill": {
     "duration": 0.019202,
     "end_time": "2020-09-23T19:13:15.141909",
     "exception": false,
     "start_time": "2020-09-23T19:13:15.122707",
     "status": "completed"
    },
    "tags": []
   },
   "source": [
    "Plots for the states with highest number of cases:"
   ]
  },
  {
   "cell_type": "code",
   "execution_count": 13,
   "metadata": {
    "execution": {
     "iopub.execute_input": "2020-09-23T19:13:15.189018Z",
     "iopub.status.busy": "2020-09-23T19:13:15.188302Z",
     "iopub.status.idle": "2020-09-23T19:13:15.926301Z",
     "shell.execute_reply": "2020-09-23T19:13:15.926858Z"
    },
    "papermill": {
     "duration": 0.765779,
     "end_time": "2020-09-23T19:13:15.927059",
     "exception": false,
     "start_time": "2020-09-23T19:13:15.161280",
     "status": "completed"
    },
    "tags": []
   },
   "outputs": [
    {
     "data": {
      "image/png": "[encoded data removed]",
      "text/plain": [
       "<Figure size 1512x432 with 3 Axes>"
      ]
     },
     "metadata": {
      "needs_background": "light"
     },
     "output_type": "display_data"
    }
   ],
   "source": [
    "#hide_input\n",
    "top_3 = sorted(df_cases.sum().values[1:], reverse=True)[1:4]\n",
    "top3_states=[]\n",
    "for i in top_3:\n",
    "    top3_states.append(df_cases.sum()[df_cases.sum() == i].index)\n",
    "\n",
    "\n",
    "fig, ax = plt.subplots(1,3,figsize = (21,6))\n",
    "for i in range(3):\n",
    "    state = top3_states[i].values[0]\n",
    "    ax[i].plot(df_cases['Date'], df_cases[state],'.-', color='b', alpha=0.7)\n",
    "    ax[i].plot(df_deaths['Date'], df_deaths[state],'.-', color='r', alpha=0.7)\n",
    "    ax[i].plot(df_recovered['Date'], df_recovered[state],'.-', color='g', alpha=0.7)\n",
    "    \n",
    "    ax[i].set_title(f\"Cases in {state}\")\n",
    "    ax[i].set_xticks(ticks=' ')\n",
    "    ax[i].set_xlabel(f'{df_cases.iloc[0][0]} to {df_cases.iloc[-1][0]}')\n",
    "    ax[i].set_ylabel('No. of cases');"
   ]
  },
  {
   "cell_type": "code",
   "execution_count": null,
   "metadata": {
    "papermill": {
     "duration": 0.021357,
     "end_time": "2020-09-23T19:13:15.969687",
     "exception": false,
     "start_time": "2020-09-23T19:13:15.948330",
     "status": "completed"
    },
    "tags": []
   },
   "outputs": [],
   "source": []
  },
  {
   "cell_type": "code",
   "execution_count": null,
   "metadata": {
    "papermill": {
     "duration": 0.021502,
     "end_time": "2020-09-23T19:13:16.013410",
     "exception": false,
     "start_time": "2020-09-23T19:13:15.991908",
     "status": "completed"
    },
    "tags": []
   },
   "outputs": [],
   "source": []
  },
  {
   "cell_type": "code",
   "execution_count": null,
   "metadata": {
    "papermill": {
     "duration": 0.021335,
     "end_time": "2020-09-23T19:13:16.056939",
     "exception": false,
     "start_time": "2020-09-23T19:13:16.035604",
     "status": "completed"
    },
    "tags": []
   },
   "outputs": [],
   "source": []
  }
 ],
 "metadata": {
  "kernelspec": {
   "display_name": "Python 3",
   "language": "python",
   "name": "python3"
  },
  "language_info": {
   "codemirror_mode": {
    "name": "ipython",
    "version": 3
   },
   "file_extension": ".py",
   "mimetype": "text/x-python",
   "name": "python",
   "nbconvert_exporter": "python",
   "pygments_lexer": "ipython3",
   "version": "3.6.12"
  },
  "papermill": {
   "duration": 4.818563,
   "end_time": "2020-09-23T19:13:16.487830",
   "environment_variables": {},
   "exception": null,
   "input_path": "2020-08-09-DailyUpdate.ipynb",
   "output_path": "2020-08-09-DailyUpdate.ipynb",
   "parameters": {},
   "start_time": "2020-09-23T19:13:11.669267",
   "version": "2.1.2"
  }
 },
 "nbformat": 4,
 "nbformat_minor": 4
}