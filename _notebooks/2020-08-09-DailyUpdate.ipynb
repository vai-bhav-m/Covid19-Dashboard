{
 "cells": [
  {
   "cell_type": "markdown",
   "metadata": {
    "papermill": {
     "duration": 0.016229,
     "end_time": "2020-10-15T19:14:04.367129",
     "exception": false,
     "start_time": "2020-10-15T19:14:04.350900",
     "status": "completed"
    },
    "tags": []
   },
   "source": [
    "# COVID-19 India Daily updates\n",
    "> Tracking coronavirus total cases, deaths and new cases in India on a daily basis\n",
    "\n",
    "- author: Vaibhav Mahapatra"
   ]
  },
  {
   "cell_type": "code",
   "execution_count": 1,
   "metadata": {
    "execution": {
     "iopub.execute_input": "2020-10-15T19:14:04.400711Z",
     "iopub.status.busy": "2020-10-15T19:14:04.400044Z",
     "iopub.status.idle": "2020-10-15T19:14:05.014813Z",
     "shell.execute_reply": "2020-10-15T19:14:05.014244Z"
    },
    "papermill": {
     "duration": 0.63349,
     "end_time": "2020-10-15T19:14:05.014979",
     "exception": false,
     "start_time": "2020-10-15T19:14:04.381489",
     "status": "completed"
    },
    "tags": []
   },
   "outputs": [],
   "source": [
    "#hide\n",
    "\n",
    "## Import essential packages below\n",
    "\n",
    "import pandas as pd\n",
    "import numpy as np\n",
    "import requests\n",
    "import json\n",
    "import matplotlib.pyplot as plt\n",
    "import matplotlib.dates as mdates\n",
    "import matplotlib as mpl\n",
    "from IPython.core.display import display,HTML\n",
    "%matplotlib inline"
   ]
  },
  {
   "cell_type": "code",
   "execution_count": 2,
   "metadata": {
    "execution": {
     "iopub.execute_input": "2020-10-15T19:14:05.048163Z",
     "iopub.status.busy": "2020-10-15T19:14:05.047508Z",
     "iopub.status.idle": "2020-10-15T19:14:05.142587Z",
     "shell.execute_reply": "2020-10-15T19:14:05.142030Z"
    },
    "papermill": {
     "duration": 0.114162,
     "end_time": "2020-10-15T19:14:05.142749",
     "exception": false,
     "start_time": "2020-10-15T19:14:05.028587",
     "status": "completed"
    },
    "tags": []
   },
   "outputs": [
    {
     "data": {
      "text/plain": [
       "(648, 41)"
      ]
     },
     "execution_count": 2,
     "metadata": {},
     "output_type": "execute_result"
    }
   ],
   "source": [
    "#hide\n",
    "url = 'https://api.covid19india.org/csv/latest/state_wise_daily.csv'\n",
    "df = pd.read_csv(url)\n",
    "df.shape"
   ]
  },
  {
   "cell_type": "code",
   "execution_count": 3,
   "metadata": {
    "execution": {
     "iopub.execute_input": "2020-10-15T19:14:05.233314Z",
     "iopub.status.busy": "2020-10-15T19:14:05.232573Z",
     "iopub.status.idle": "2020-10-15T19:14:05.243986Z",
     "shell.execute_reply": "2020-10-15T19:14:05.244512Z"
    },
    "papermill": {
     "duration": 0.086879,
     "end_time": "2020-10-15T19:14:05.244682",
     "exception": false,
     "start_time": "2020-10-15T19:14:05.157803",
     "status": "completed"
    },
    "tags": []
   },
   "outputs": [
    {
     "data": {
      "text/html": [
       "<div>\n",
       "<style scoped>\n",
       "    .dataframe tbody tr th:only-of-type {\n",
       "        vertical-align: middle;\n",
       "    }\n",
       "\n",
       "    .dataframe tbody tr th {\n",
       "        vertical-align: top;\n",
       "    }\n",
       "\n",
       "    .dataframe thead th {\n",
       "        text-align: right;\n",
       "    }\n",
       "</style>\n",
       "<table border=\"1\" class=\"dataframe\">\n",
       "  <thead>\n",
       "    <tr style=\"text-align: right;\">\n",
       "      <th></th>\n",
       "      <th>Date</th>\n",
       "      <th>Status</th>\n",
       "      <th>TT</th>\n",
       "      <th>AN</th>\n",
       "      <th>AP</th>\n",
       "      <th>AR</th>\n",
       "      <th>AS</th>\n",
       "      <th>BR</th>\n",
       "      <th>CH</th>\n",
       "      <th>CT</th>\n",
       "      <th>...</th>\n",
       "      <th>PB</th>\n",
       "      <th>RJ</th>\n",
       "      <th>SK</th>\n",
       "      <th>TN</th>\n",
       "      <th>TG</th>\n",
       "      <th>TR</th>\n",
       "      <th>UP</th>\n",
       "      <th>UT</th>\n",
       "      <th>WB</th>\n",
       "      <th>UN</th>\n",
       "    </tr>\n",
       "  </thead>\n",
       "  <tbody>\n",
       "    <tr>\n",
       "      <th>642</th>\n",
       "      <td>14-Oct-20</td>\n",
       "      <td>Confirmed</td>\n",
       "      <td>67811</td>\n",
       "      <td>10</td>\n",
       "      <td>3892</td>\n",
       "      <td>207</td>\n",
       "      <td>1427</td>\n",
       "      <td>1326</td>\n",
       "      <td>72</td>\n",
       "      <td>2830</td>\n",
       "      <td>...</td>\n",
       "      <td>549</td>\n",
       "      <td>2021</td>\n",
       "      <td>42</td>\n",
       "      <td>4462</td>\n",
       "      <td>1446</td>\n",
       "      <td>181</td>\n",
       "      <td>2593</td>\n",
       "      <td>429</td>\n",
       "      <td>3677</td>\n",
       "      <td>0</td>\n",
       "    </tr>\n",
       "    <tr>\n",
       "      <th>643</th>\n",
       "      <td>14-Oct-20</td>\n",
       "      <td>Recovered</td>\n",
       "      <td>81582</td>\n",
       "      <td>14</td>\n",
       "      <td>5050</td>\n",
       "      <td>121</td>\n",
       "      <td>1013</td>\n",
       "      <td>1375</td>\n",
       "      <td>112</td>\n",
       "      <td>2198</td>\n",
       "      <td>...</td>\n",
       "      <td>970</td>\n",
       "      <td>2219</td>\n",
       "      <td>61</td>\n",
       "      <td>5083</td>\n",
       "      <td>1918</td>\n",
       "      <td>418</td>\n",
       "      <td>3736</td>\n",
       "      <td>827</td>\n",
       "      <td>3096</td>\n",
       "      <td>0</td>\n",
       "    </tr>\n",
       "    <tr>\n",
       "      <th>644</th>\n",
       "      <td>14-Oct-20</td>\n",
       "      <td>Deceased</td>\n",
       "      <td>690</td>\n",
       "      <td>0</td>\n",
       "      <td>28</td>\n",
       "      <td>1</td>\n",
       "      <td>4</td>\n",
       "      <td>6</td>\n",
       "      <td>2</td>\n",
       "      <td>33</td>\n",
       "      <td>...</td>\n",
       "      <td>31</td>\n",
       "      <td>15</td>\n",
       "      <td>0</td>\n",
       "      <td>52</td>\n",
       "      <td>8</td>\n",
       "      <td>1</td>\n",
       "      <td>41</td>\n",
       "      <td>14</td>\n",
       "      <td>64</td>\n",
       "      <td>0</td>\n",
       "    </tr>\n",
       "    <tr>\n",
       "      <th>645</th>\n",
       "      <td>15-Oct-20</td>\n",
       "      <td>Confirmed</td>\n",
       "      <td>60419</td>\n",
       "      <td>16</td>\n",
       "      <td>4038</td>\n",
       "      <td>0</td>\n",
       "      <td>769</td>\n",
       "      <td>1276</td>\n",
       "      <td>74</td>\n",
       "      <td>0</td>\n",
       "      <td>...</td>\n",
       "      <td>470</td>\n",
       "      <td>2039</td>\n",
       "      <td>41</td>\n",
       "      <td>4410</td>\n",
       "      <td>1432</td>\n",
       "      <td>172</td>\n",
       "      <td>2672</td>\n",
       "      <td>423</td>\n",
       "      <td>3720</td>\n",
       "      <td>0</td>\n",
       "    </tr>\n",
       "    <tr>\n",
       "      <th>646</th>\n",
       "      <td>15-Oct-20</td>\n",
       "      <td>Recovered</td>\n",
       "      <td>68202</td>\n",
       "      <td>21</td>\n",
       "      <td>5622</td>\n",
       "      <td>0</td>\n",
       "      <td>1263</td>\n",
       "      <td>804</td>\n",
       "      <td>113</td>\n",
       "      <td>0</td>\n",
       "      <td>...</td>\n",
       "      <td>1111</td>\n",
       "      <td>2149</td>\n",
       "      <td>54</td>\n",
       "      <td>5055</td>\n",
       "      <td>1949</td>\n",
       "      <td>353</td>\n",
       "      <td>3239</td>\n",
       "      <td>833</td>\n",
       "      <td>3179</td>\n",
       "      <td>0</td>\n",
       "    </tr>\n",
       "    <tr>\n",
       "      <th>647</th>\n",
       "      <td>15-Oct-20</td>\n",
       "      <td>Deceased</td>\n",
       "      <td>835</td>\n",
       "      <td>0</td>\n",
       "      <td>38</td>\n",
       "      <td>0</td>\n",
       "      <td>9</td>\n",
       "      <td>5</td>\n",
       "      <td>2</td>\n",
       "      <td>0</td>\n",
       "      <td>...</td>\n",
       "      <td>29</td>\n",
       "      <td>14</td>\n",
       "      <td>0</td>\n",
       "      <td>49</td>\n",
       "      <td>8</td>\n",
       "      <td>1</td>\n",
       "      <td>36</td>\n",
       "      <td>18</td>\n",
       "      <td>62</td>\n",
       "      <td>0</td>\n",
       "    </tr>\n",
       "  </tbody>\n",
       "</table>\n",
       "<p>6 rows × 41 columns</p>\n",
       "</div>"
      ],
      "text/plain": [
       "          Date     Status     TT  AN    AP   AR    AS    BR   CH    CT  ...  \\\n",
       "642  14-Oct-20  Confirmed  67811  10  3892  207  1427  1326   72  2830  ...   \n",
       "643  14-Oct-20  Recovered  81582  14  5050  121  1013  1375  112  2198  ...   \n",
       "644  14-Oct-20   Deceased    690   0    28    1     4     6    2    33  ...   \n",
       "645  15-Oct-20  Confirmed  60419  16  4038    0   769  1276   74     0  ...   \n",
       "646  15-Oct-20  Recovered  68202  21  5622    0  1263   804  113     0  ...   \n",
       "647  15-Oct-20   Deceased    835   0    38    0     9     5    2     0  ...   \n",
       "\n",
       "       PB    RJ  SK    TN    TG   TR    UP   UT    WB  UN  \n",
       "642   549  2021  42  4462  1446  181  2593  429  3677   0  \n",
       "643   970  2219  61  5083  1918  418  3736  827  3096   0  \n",
       "644    31    15   0    52     8    1    41   14    64   0  \n",
       "645   470  2039  41  4410  1432  172  2672  423  3720   0  \n",
       "646  1111  2149  54  5055  1949  353  3239  833  3179   0  \n",
       "647    29    14   0    49     8    1    36   18    62   0  \n",
       "\n",
       "[6 rows x 41 columns]"
      ]
     },
     "execution_count": 3,
     "metadata": {},
     "output_type": "execute_result"
    }
   ],
   "source": [
    "#hide\n",
    "df.tail(6)"
   ]
  },
  {
   "cell_type": "code",
   "execution_count": 4,
   "metadata": {
    "execution": {
     "iopub.execute_input": "2020-10-15T19:14:05.281005Z",
     "iopub.status.busy": "2020-10-15T19:14:05.280252Z",
     "iopub.status.idle": "2020-10-15T19:14:05.283578Z",
     "shell.execute_reply": "2020-10-15T19:14:05.282944Z"
    },
    "papermill": {
     "duration": 0.023491,
     "end_time": "2020-10-15T19:14:05.283719",
     "exception": false,
     "start_time": "2020-10-15T19:14:05.260228",
     "status": "completed"
    },
    "tags": []
   },
   "outputs": [
    {
     "data": {
      "text/plain": [
       "('15-Oct-20', '14-Oct-20')"
      ]
     },
     "execution_count": 4,
     "metadata": {},
     "output_type": "execute_result"
    }
   ],
   "source": [
    "#hide\n",
    "dt_today = df.iloc[-1][0]\n",
    "dt_yday = df.iloc[-4][0]\n",
    "dt_today, dt_yday"
   ]
  },
  {
   "cell_type": "code",
   "execution_count": 5,
   "metadata": {
    "execution": {
     "iopub.execute_input": "2020-10-15T19:14:05.319632Z",
     "iopub.status.busy": "2020-10-15T19:14:05.318977Z",
     "iopub.status.idle": "2020-10-15T19:14:05.326313Z",
     "shell.execute_reply": "2020-10-15T19:14:05.325751Z"
    },
    "papermill": {
     "duration": 0.028739,
     "end_time": "2020-10-15T19:14:05.326460",
     "exception": false,
     "start_time": "2020-10-15T19:14:05.297721",
     "status": "completed"
    },
    "tags": []
   },
   "outputs": [],
   "source": [
    "#hide\n",
    "df_today = df.groupby('Status').sum()\n",
    "df_yday = df.iloc[:-3][:].groupby('Status').sum()"
   ]
  },
  {
   "cell_type": "code",
   "execution_count": 6,
   "metadata": {
    "execution": {
     "iopub.execute_input": "2020-10-15T19:14:05.374880Z",
     "iopub.status.busy": "2020-10-15T19:14:05.374142Z",
     "iopub.status.idle": "2020-10-15T19:14:05.377651Z",
     "shell.execute_reply": "2020-10-15T19:14:05.377068Z"
    },
    "papermill": {
     "duration": 0.035843,
     "end_time": "2020-10-15T19:14:05.377792",
     "exception": false,
     "start_time": "2020-10-15T19:14:05.341949",
     "status": "completed"
    },
    "tags": []
   },
   "outputs": [
    {
     "data": {
      "text/html": [
       "<div>\n",
       "<style scoped>\n",
       "    .dataframe tbody tr th:only-of-type {\n",
       "        vertical-align: middle;\n",
       "    }\n",
       "\n",
       "    .dataframe tbody tr th {\n",
       "        vertical-align: top;\n",
       "    }\n",
       "\n",
       "    .dataframe thead th {\n",
       "        text-align: right;\n",
       "    }\n",
       "</style>\n",
       "<table border=\"1\" class=\"dataframe\">\n",
       "  <thead>\n",
       "    <tr style=\"text-align: right;\">\n",
       "      <th></th>\n",
       "      <th>TT</th>\n",
       "      <th>AN</th>\n",
       "      <th>AP</th>\n",
       "      <th>AR</th>\n",
       "      <th>AS</th>\n",
       "      <th>BR</th>\n",
       "      <th>CH</th>\n",
       "      <th>CT</th>\n",
       "      <th>DN</th>\n",
       "      <th>DD</th>\n",
       "      <th>...</th>\n",
       "      <th>PB</th>\n",
       "      <th>RJ</th>\n",
       "      <th>SK</th>\n",
       "      <th>TN</th>\n",
       "      <th>TG</th>\n",
       "      <th>TR</th>\n",
       "      <th>UP</th>\n",
       "      <th>UT</th>\n",
       "      <th>WB</th>\n",
       "      <th>UN</th>\n",
       "    </tr>\n",
       "    <tr>\n",
       "      <th>Status</th>\n",
       "      <th></th>\n",
       "      <th></th>\n",
       "      <th></th>\n",
       "      <th></th>\n",
       "      <th></th>\n",
       "      <th></th>\n",
       "      <th></th>\n",
       "      <th></th>\n",
       "      <th></th>\n",
       "      <th></th>\n",
       "      <th></th>\n",
       "      <th></th>\n",
       "      <th></th>\n",
       "      <th></th>\n",
       "      <th></th>\n",
       "      <th></th>\n",
       "      <th></th>\n",
       "      <th></th>\n",
       "      <th></th>\n",
       "      <th></th>\n",
       "      <th></th>\n",
       "    </tr>\n",
       "  </thead>\n",
       "  <tbody>\n",
       "    <tr>\n",
       "      <th>Confirmed</th>\n",
       "      <td>7364876</td>\n",
       "      <td>4058</td>\n",
       "      <td>771503</td>\n",
       "      <td>12768</td>\n",
       "      <td>198880</td>\n",
       "      <td>200825</td>\n",
       "      <td>13477</td>\n",
       "      <td>150696</td>\n",
       "      <td>3168</td>\n",
       "      <td>0</td>\n",
       "      <td>...</td>\n",
       "      <td>126230</td>\n",
       "      <td>167279</td>\n",
       "      <td>3513</td>\n",
       "      <td>674802</td>\n",
       "      <td>217160</td>\n",
       "      <td>29028</td>\n",
       "      <td>447383</td>\n",
       "      <td>56493</td>\n",
       "      <td>309417</td>\n",
       "      <td>0</td>\n",
       "    </tr>\n",
       "    <tr>\n",
       "      <th>Deceased</th>\n",
       "      <td>111559</td>\n",
       "      <td>55</td>\n",
       "      <td>6357</td>\n",
       "      <td>29</td>\n",
       "      <td>847</td>\n",
       "      <td>972</td>\n",
       "      <td>201</td>\n",
       "      <td>1339</td>\n",
       "      <td>2</td>\n",
       "      <td>0</td>\n",
       "      <td>...</td>\n",
       "      <td>3954</td>\n",
       "      <td>1708</td>\n",
       "      <td>59</td>\n",
       "      <td>10472</td>\n",
       "      <td>1249</td>\n",
       "      <td>316</td>\n",
       "      <td>6543</td>\n",
       "      <td>814</td>\n",
       "      <td>5870</td>\n",
       "      <td>0</td>\n",
       "    </tr>\n",
       "    <tr>\n",
       "      <th>Recovered</th>\n",
       "      <td>6448630</td>\n",
       "      <td>3808</td>\n",
       "      <td>725099</td>\n",
       "      <td>9694</td>\n",
       "      <td>169332</td>\n",
       "      <td>188802</td>\n",
       "      <td>12232</td>\n",
       "      <td>121548</td>\n",
       "      <td>3056</td>\n",
       "      <td>0</td>\n",
       "      <td>...</td>\n",
       "      <td>115186</td>\n",
       "      <td>143984</td>\n",
       "      <td>3049</td>\n",
       "      <td>622458</td>\n",
       "      <td>193218</td>\n",
       "      <td>25371</td>\n",
       "      <td>404545</td>\n",
       "      <td>49631</td>\n",
       "      <td>271563</td>\n",
       "      <td>0</td>\n",
       "    </tr>\n",
       "  </tbody>\n",
       "</table>\n",
       "<p>3 rows × 39 columns</p>\n",
       "</div>"
      ],
      "text/plain": [
       "                TT    AN      AP     AR      AS      BR     CH      CT    DN  \\\n",
       "Status                                                                         \n",
       "Confirmed  7364876  4058  771503  12768  198880  200825  13477  150696  3168   \n",
       "Deceased    111559    55    6357     29     847     972    201    1339     2   \n",
       "Recovered  6448630  3808  725099   9694  169332  188802  12232  121548  3056   \n",
       "\n",
       "           DD  ...      PB      RJ    SK      TN      TG     TR      UP  \\\n",
       "Status         ...                                                        \n",
       "Confirmed   0  ...  126230  167279  3513  674802  217160  29028  447383   \n",
       "Deceased    0  ...    3954    1708    59   10472    1249    316    6543   \n",
       "Recovered   0  ...  115186  143984  3049  622458  193218  25371  404545   \n",
       "\n",
       "              UT      WB  UN  \n",
       "Status                        \n",
       "Confirmed  56493  309417   0  \n",
       "Deceased     814    5870   0  \n",
       "Recovered  49631  271563   0  \n",
       "\n",
       "[3 rows x 39 columns]"
      ]
     },
     "execution_count": 6,
     "metadata": {},
     "output_type": "execute_result"
    }
   ],
   "source": [
    "#hide\n",
    "df_today"
   ]
  },
  {
   "cell_type": "code",
   "execution_count": 7,
   "metadata": {
    "execution": {
     "iopub.execute_input": "2020-10-15T19:14:05.417616Z",
     "iopub.status.busy": "2020-10-15T19:14:05.416930Z",
     "iopub.status.idle": "2020-10-15T19:14:05.427515Z",
     "shell.execute_reply": "2020-10-15T19:14:05.428020Z"
    },
    "papermill": {
     "duration": 0.034857,
     "end_time": "2020-10-15T19:14:05.428172",
     "exception": false,
     "start_time": "2020-10-15T19:14:05.393315",
     "status": "completed"
    },
    "tags": []
   },
   "outputs": [
    {
     "data": {
      "text/html": [
       "<div>\n",
       "<style scoped>\n",
       "    .dataframe tbody tr th:only-of-type {\n",
       "        vertical-align: middle;\n",
       "    }\n",
       "\n",
       "    .dataframe tbody tr th {\n",
       "        vertical-align: top;\n",
       "    }\n",
       "\n",
       "    .dataframe thead th {\n",
       "        text-align: right;\n",
       "    }\n",
       "</style>\n",
       "<table border=\"1\" class=\"dataframe\">\n",
       "  <thead>\n",
       "    <tr style=\"text-align: right;\">\n",
       "      <th></th>\n",
       "      <th>TT</th>\n",
       "      <th>AN</th>\n",
       "      <th>AP</th>\n",
       "      <th>AR</th>\n",
       "      <th>AS</th>\n",
       "      <th>BR</th>\n",
       "      <th>CH</th>\n",
       "      <th>CT</th>\n",
       "      <th>DN</th>\n",
       "      <th>DD</th>\n",
       "      <th>...</th>\n",
       "      <th>PB</th>\n",
       "      <th>RJ</th>\n",
       "      <th>SK</th>\n",
       "      <th>TN</th>\n",
       "      <th>TG</th>\n",
       "      <th>TR</th>\n",
       "      <th>UP</th>\n",
       "      <th>UT</th>\n",
       "      <th>WB</th>\n",
       "      <th>UN</th>\n",
       "    </tr>\n",
       "    <tr>\n",
       "      <th>Status</th>\n",
       "      <th></th>\n",
       "      <th></th>\n",
       "      <th></th>\n",
       "      <th></th>\n",
       "      <th></th>\n",
       "      <th></th>\n",
       "      <th></th>\n",
       "      <th></th>\n",
       "      <th></th>\n",
       "      <th></th>\n",
       "      <th></th>\n",
       "      <th></th>\n",
       "      <th></th>\n",
       "      <th></th>\n",
       "      <th></th>\n",
       "      <th></th>\n",
       "      <th></th>\n",
       "      <th></th>\n",
       "      <th></th>\n",
       "      <th></th>\n",
       "      <th></th>\n",
       "    </tr>\n",
       "  </thead>\n",
       "  <tbody>\n",
       "    <tr>\n",
       "      <th>Confirmed</th>\n",
       "      <td>7304457</td>\n",
       "      <td>4042</td>\n",
       "      <td>767465</td>\n",
       "      <td>12768</td>\n",
       "      <td>198111</td>\n",
       "      <td>199549</td>\n",
       "      <td>13403</td>\n",
       "      <td>150696</td>\n",
       "      <td>3167</td>\n",
       "      <td>0</td>\n",
       "      <td>...</td>\n",
       "      <td>125760</td>\n",
       "      <td>165240</td>\n",
       "      <td>3472</td>\n",
       "      <td>670392</td>\n",
       "      <td>215728</td>\n",
       "      <td>28856</td>\n",
       "      <td>444711</td>\n",
       "      <td>56070</td>\n",
       "      <td>305697</td>\n",
       "      <td>0</td>\n",
       "    </tr>\n",
       "    <tr>\n",
       "      <th>Deceased</th>\n",
       "      <td>110724</td>\n",
       "      <td>55</td>\n",
       "      <td>6319</td>\n",
       "      <td>29</td>\n",
       "      <td>838</td>\n",
       "      <td>967</td>\n",
       "      <td>199</td>\n",
       "      <td>1339</td>\n",
       "      <td>2</td>\n",
       "      <td>0</td>\n",
       "      <td>...</td>\n",
       "      <td>3925</td>\n",
       "      <td>1694</td>\n",
       "      <td>59</td>\n",
       "      <td>10423</td>\n",
       "      <td>1241</td>\n",
       "      <td>315</td>\n",
       "      <td>6507</td>\n",
       "      <td>796</td>\n",
       "      <td>5808</td>\n",
       "      <td>0</td>\n",
       "    </tr>\n",
       "    <tr>\n",
       "      <th>Recovered</th>\n",
       "      <td>6380428</td>\n",
       "      <td>3787</td>\n",
       "      <td>719477</td>\n",
       "      <td>9694</td>\n",
       "      <td>168069</td>\n",
       "      <td>187998</td>\n",
       "      <td>12119</td>\n",
       "      <td>121548</td>\n",
       "      <td>3048</td>\n",
       "      <td>0</td>\n",
       "      <td>...</td>\n",
       "      <td>114075</td>\n",
       "      <td>141835</td>\n",
       "      <td>2995</td>\n",
       "      <td>617403</td>\n",
       "      <td>191269</td>\n",
       "      <td>25018</td>\n",
       "      <td>401306</td>\n",
       "      <td>48798</td>\n",
       "      <td>268384</td>\n",
       "      <td>0</td>\n",
       "    </tr>\n",
       "  </tbody>\n",
       "</table>\n",
       "<p>3 rows × 39 columns</p>\n",
       "</div>"
      ],
      "text/plain": [
       "                TT    AN      AP     AR      AS      BR     CH      CT    DN  \\\n",
       "Status                                                                         \n",
       "Confirmed  7304457  4042  767465  12768  198111  199549  13403  150696  3167   \n",
       "Deceased    110724    55    6319     29     838     967    199    1339     2   \n",
       "Recovered  6380428  3787  719477   9694  168069  187998  12119  121548  3048   \n",
       "\n",
       "           DD  ...      PB      RJ    SK      TN      TG     TR      UP  \\\n",
       "Status         ...                                                        \n",
       "Confirmed   0  ...  125760  165240  3472  670392  215728  28856  444711   \n",
       "Deceased    0  ...    3925    1694    59   10423    1241    315    6507   \n",
       "Recovered   0  ...  114075  141835  2995  617403  191269  25018  401306   \n",
       "\n",
       "              UT      WB  UN  \n",
       "Status                        \n",
       "Confirmed  56070  305697   0  \n",
       "Deceased     796    5808   0  \n",
       "Recovered  48798  268384   0  \n",
       "\n",
       "[3 rows x 39 columns]"
      ]
     },
     "execution_count": 7,
     "metadata": {},
     "output_type": "execute_result"
    }
   ],
   "source": [
    "#hide\n",
    "df_yday.head()"
   ]
  },
  {
   "cell_type": "code",
   "execution_count": 8,
   "metadata": {
    "execution": {
     "iopub.execute_input": "2020-10-15T19:14:05.469051Z",
     "iopub.status.busy": "2020-10-15T19:14:05.468383Z",
     "iopub.status.idle": "2020-10-15T19:14:05.471745Z",
     "shell.execute_reply": "2020-10-15T19:14:05.471106Z"
    },
    "papermill": {
     "duration": 0.026801,
     "end_time": "2020-10-15T19:14:05.471878",
     "exception": false,
     "start_time": "2020-10-15T19:14:05.445077",
     "status": "completed"
    },
    "tags": []
   },
   "outputs": [
    {
     "data": {
      "text/plain": [
       "{'updated': '15-Oct-20',\n",
       " 'since': '14-Oct-20',\n",
       " 'Cases': 7364876,\n",
       " 'Deaths': 111559,\n",
       " 'Recovered': 6448630,\n",
       " 'PCases': 7304457,\n",
       " 'PDeaths': 110724,\n",
       " 'PRecovered': 6380428,\n",
       " 'Cases (+)': 60419,\n",
       " 'Deaths (+)': 835,\n",
       " 'Recovered (+)': 68202}"
      ]
     },
     "execution_count": 8,
     "metadata": {},
     "output_type": "execute_result"
    }
   ],
   "source": [
    "#hide\n",
    "summary = {\n",
    "    'updated' : dt_today,\n",
    "    'since' : dt_yday,\n",
    "    'Cases' : df_today['TT'][0],\n",
    "    'Deaths' : df_today['TT'][1],\n",
    "    'Recovered' : df_today['TT'][2],\n",
    "    'PCases' : df_yday['TT'][0],\n",
    "    'PDeaths' : df_yday['TT'][1],\n",
    "    'PRecovered': df_yday['TT'][2],\n",
    "    'Cases (+)' : df_today['TT'][0] - df_yday['TT'][0],\n",
    "    'Deaths (+)' : df_today['TT'][1] - df_yday['TT'][1],\n",
    "    'Recovered (+)': df_today['TT'][2] - df_yday['TT'][2]\n",
    "}\n",
    "\n",
    "summary"
   ]
  },
  {
   "cell_type": "code",
   "execution_count": 9,
   "metadata": {
    "execution": {
     "iopub.execute_input": "2020-10-15T19:14:05.508199Z",
     "iopub.status.busy": "2020-10-15T19:14:05.507536Z",
     "iopub.status.idle": "2020-10-15T19:14:05.509825Z",
     "shell.execute_reply": "2020-10-15T19:14:05.510383Z"
    },
    "papermill": {
     "duration": 0.023031,
     "end_time": "2020-10-15T19:14:05.510522",
     "exception": false,
     "start_time": "2020-10-15T19:14:05.487491",
     "status": "completed"
    },
    "tags": []
   },
   "outputs": [],
   "source": [
    "#hide\n",
    "overview = '''\n",
    "<!-- #######  HTML!! #########-->\n",
    "<h1 style=\"color: #5e9ca0; text-align: center;\">India</h1>\n",
    "<p style=\"text-align: center;\">Last update: <strong>{update}</strong></p>\n",
    "<p style=\"text-align: center;\">Confirmed cases:</p>\n",
    "<p style=\"text-align: center;font-size:24px;\">{cases} (<span style=\"color: #ff0000;\">+{new}</span>)</p>\n",
    "<p style=\"text-align: center;\">Confirmed deaths:</p>\n",
    "<p style=\"text-align: center;font-size:24px;\">{deaths} (<span style=\"color: #ff0000;\">+{dnew}</span>)</p>\n",
    "<p style=\"text-align: center;\">Recovered cases:</p>\n",
    "<p style=\"text-align: center;font-size:24px;\">{recovered} (<span style=\"color: #00ff00;\">+{rnew}</span>)</p>\n",
    "'''"
   ]
  },
  {
   "cell_type": "code",
   "execution_count": 10,
   "metadata": {
    "execution": {
     "iopub.execute_input": "2020-10-15T19:14:05.548300Z",
     "iopub.status.busy": "2020-10-15T19:14:05.547641Z",
     "iopub.status.idle": "2020-10-15T19:14:05.551481Z",
     "shell.execute_reply": "2020-10-15T19:14:05.550927Z"
    },
    "papermill": {
     "duration": 0.02549,
     "end_time": "2020-10-15T19:14:05.551618",
     "exception": false,
     "start_time": "2020-10-15T19:14:05.526128",
     "status": "completed"
    },
    "tags": []
   },
   "outputs": [
    {
     "data": {
      "text/html": [
       "\n",
       "<!-- #######  HTML!! #########-->\n",
       "<h1 style=\"color: #5e9ca0; text-align: center;\">India</h1>\n",
       "<p style=\"text-align: center;\">Last update: <strong>15-Oct-20</strong></p>\n",
       "<p style=\"text-align: center;\">Confirmed cases:</p>\n",
       "<p style=\"text-align: center;font-size:24px;\">7364876 (<span style=\"color: #ff0000;\">+60419</span>)</p>\n",
       "<p style=\"text-align: center;\">Confirmed deaths:</p>\n",
       "<p style=\"text-align: center;font-size:24px;\">111559 (<span style=\"color: #ff0000;\">+835</span>)</p>\n",
       "<p style=\"text-align: center;\">Recovered cases:</p>\n",
       "<p style=\"text-align: center;font-size:24px;\">6448630 (<span style=\"color: #00ff00;\">+68202</span>)</p>\n"
      ],
      "text/plain": [
       "<IPython.core.display.HTML object>"
      ]
     },
     "metadata": {},
     "output_type": "display_data"
    }
   ],
   "source": [
    "#hide_input\n",
    "# Fill the above HTML with the information from the summary dictionary\n",
    "\n",
    "update = summary['updated']\n",
    "cases = summary['Cases']\n",
    "new = summary['Cases (+)']\n",
    "deaths = summary['Deaths']\n",
    "dnew = summary['Deaths (+)']\n",
    "recovered = summary['Recovered']\n",
    "rnew = summary['Recovered (+)']\n",
    "\n",
    "html = HTML(overview.format(update=update, cases=cases,new=new,deaths=deaths,dnew=dnew, recovered=recovered, rnew=rnew))\n",
    "\n",
    "display(html)"
   ]
  },
  {
   "cell_type": "code",
   "execution_count": 11,
   "metadata": {
    "execution": {
     "iopub.execute_input": "2020-10-15T19:14:05.592855Z",
     "iopub.status.busy": "2020-10-15T19:14:05.592005Z",
     "iopub.status.idle": "2020-10-15T19:14:05.596175Z",
     "shell.execute_reply": "2020-10-15T19:14:05.596677Z"
    },
    "papermill": {
     "duration": 0.029238,
     "end_time": "2020-10-15T19:14:05.596823",
     "exception": false,
     "start_time": "2020-10-15T19:14:05.567585",
     "status": "completed"
    },
    "tags": []
   },
   "outputs": [],
   "source": [
    "#hide\n",
    "df_cases = df[df['Status'] == 'Confirmed'].copy()\n",
    "df_cases.drop(columns = ['Status'], inplace=True)\n",
    "df_deaths = df[df['Status'] == 'Deceased'].copy()\n",
    "df_deaths.drop(columns = ['Status'], inplace=True)\n",
    "df_recovered = df[df['Status'] == 'Recovered'].copy()\n",
    "df_recovered.drop(columns = ['Status'], inplace=True)"
   ]
  },
  {
   "cell_type": "markdown",
   "metadata": {
    "papermill": {
     "duration": 0.016114,
     "end_time": "2020-10-15T19:14:05.628921",
     "exception": false,
     "start_time": "2020-10-15T19:14:05.612807",
     "status": "completed"
    },
    "tags": []
   },
   "source": [
    "Plot for India:"
   ]
  },
  {
   "cell_type": "code",
   "execution_count": 12,
   "metadata": {
    "execution": {
     "iopub.execute_input": "2020-10-15T19:14:05.695106Z",
     "iopub.status.busy": "2020-10-15T19:14:05.690018Z",
     "iopub.status.idle": "2020-10-15T19:14:05.985617Z",
     "shell.execute_reply": "2020-10-15T19:14:05.985015Z"
    },
    "papermill": {
     "duration": 0.340809,
     "end_time": "2020-10-15T19:14:05.985772",
     "exception": false,
     "start_time": "2020-10-15T19:14:05.644963",
     "status": "completed"
    },
    "tags": []
   },
   "outputs": [
    {
     "data": {
      "image/png": "[encoded data removed]",
      "text/plain": [
       "<Figure size 1296x432 with 1 Axes>"
      ]
     },
     "metadata": {
      "needs_background": "light"
     },
     "output_type": "display_data"
    }
   ],
   "source": [
    "#hide_input\n",
    "plt.figure(figsize = (18,6))\n",
    "plt.plot(df_cases['Date'], df_cases['TT'],'.-', alpha=0.7, color='b', label='Confirmed cases')\n",
    "plt.plot(df_recovered['Date'], df_recovered['TT'],'.-', alpha=0.7, color='g', label='Recovered')\n",
    "plt.plot(df_deaths['Date'], df_deaths['TT'],'.-', alpha=0.7, color='r', label='Deceased')\n",
    "plt.legend()\n",
    "plt.title(\"Cases per day in India\")\n",
    "plt.xticks(ticks=' ')\n",
    "plt.xlabel(f'{df_cases.iloc[0][0]} to {df_cases.iloc[-1][0]}')\n",
    "plt.ylabel('No. of cases');"
   ]
  },
  {
   "cell_type": "markdown",
   "metadata": {
    "papermill": {
     "duration": 0.048573,
     "end_time": "2020-10-15T19:14:06.109787",
     "exception": false,
     "start_time": "2020-10-15T19:14:06.061214",
     "status": "completed"
    },
    "tags": []
   },
   "source": [
    "Plots for the states with highest number of cases:"
   ]
  },
  {
   "cell_type": "code",
   "execution_count": 13,
   "metadata": {
    "execution": {
     "iopub.execute_input": "2020-10-15T19:14:06.188766Z",
     "iopub.status.busy": "2020-10-15T19:14:06.166911Z",
     "iopub.status.idle": "2020-10-15T19:14:06.874797Z",
     "shell.execute_reply": "2020-10-15T19:14:06.874079Z"
    },
    "papermill": {
     "duration": 0.737557,
     "end_time": "2020-10-15T19:14:06.874948",
     "exception": false,
     "start_time": "2020-10-15T19:14:06.137391",
     "status": "completed"
    },
    "tags": []
   },
   "outputs": [
    {
     "data": {
      "image/png": "[encoded data removed]",
      "text/plain": [
       "<Figure size 1512x432 with 3 Axes>"
      ]
     },
     "metadata": {
      "needs_background": "light"
     },
     "output_type": "display_data"
    }
   ],
   "source": [
    "#hide_input\n",
    "top_3 = sorted(df_cases.sum().values[1:], reverse=True)[1:4]\n",
    "top3_states=[]\n",
    "for i in top_3:\n",
    "    top3_states.append(df_cases.sum()[df_cases.sum() == i].index)\n",
    "\n",
    "\n",
    "fig, ax = plt.subplots(1,3,figsize = (21,6))\n",
    "for i in range(3):\n",
    "    state = top3_states[i].values[0]\n",
    "    ax[i].plot(df_cases['Date'], df_cases[state],'.-', color='b', alpha=0.7)\n",
    "    ax[i].plot(df_deaths['Date'], df_deaths[state],'.-', color='r', alpha=0.7)\n",
    "    ax[i].plot(df_recovered['Date'], df_recovered[state],'.-', color='g', alpha=0.7)\n",
    "    \n",
    "    ax[i].set_title(f\"Cases in {state}\")\n",
    "    ax[i].set_xticks(ticks=' ')\n",
    "    ax[i].set_xlabel(f'{df_cases.iloc[0][0]} to {df_cases.iloc[-1][0]}')\n",
    "    ax[i].set_ylabel('No. of cases');"
   ]
  },
  {
   "cell_type": "code",
   "execution_count": null,
   "metadata": {
    "papermill": {
     "duration": 0.019969,
     "end_time": "2020-10-15T19:14:06.915016",
     "exception": false,
     "start_time": "2020-10-15T19:14:06.895047",
     "status": "completed"
    },
    "tags": []
   },
   "outputs": [],
   "source": []
  },
  {
   "cell_type": "code",
   "execution_count": null,
   "metadata": {
    "papermill": {
     "duration": 0.019815,
     "end_time": "2020-10-15T19:14:06.954996",
     "exception": false,
     "start_time": "2020-10-15T19:14:06.935181",
     "status": "completed"
    },
    "tags": []
   },
   "outputs": [],
   "source": []
  },
  {
   "cell_type": "code",
   "execution_count": null,
   "metadata": {
    "papermill": {
     "duration": 0.01989,
     "end_time": "2020-10-15T19:14:06.995290",
     "exception": false,
     "start_time": "2020-10-15T19:14:06.975400",
     "status": "completed"
    },
    "tags": []
   },
   "outputs": [],
   "source": []
  }
 ],
 "metadata": {
  "kernelspec": {
   "display_name": "Python 3",
   "language": "python",
   "name": "python3"
  },
  "language_info": {
   "codemirror_mode": {
    "name": "ipython",
    "version": 3
   },
   "file_extension": ".py",
   "mimetype": "text/x-python",
   "name": "python",
   "nbconvert_exporter": "python",
   "pygments_lexer": "ipython3",
   "version": "3.6.12"
  },
  "papermill": {
   "duration": 4.064098,
   "end_time": "2020-10-15T19:14:07.322988",
   "environment_variables": {},
   "exception": null,
   "input_path": "2020-08-09-DailyUpdate.ipynb",
   "output_path": "2020-08-09-DailyUpdate.ipynb",
   "parameters": {},
   "start_time": "2020-10-15T19:14:03.258890",
   "version": "2.1.2"
  }
 },
 "nbformat": 4,
 "nbformat_minor": 4
}