{
 "cells": [
  {
   "cell_type": "markdown",
   "metadata": {
    "papermill": {
     "duration": 0.017853,
     "end_time": "2020-08-19T19:09:29.429810",
     "exception": false,
     "start_time": "2020-08-19T19:09:29.411957",
     "status": "completed"
    },
    "tags": []
   },
   "source": [
    "# COVID-19 India Daily updates\n",
    "> Tracking coronavirus total cases, deaths and new cases in India on a daily basis\n",
    "\n",
    "- author: Vaibhav Mahapatra"
   ]
  },
  {
   "cell_type": "code",
   "execution_count": 1,
   "metadata": {
    "execution": {
     "iopub.execute_input": "2020-08-19T19:09:29.463211Z",
     "iopub.status.busy": "2020-08-19T19:09:29.462520Z",
     "iopub.status.idle": "2020-08-19T19:09:30.025360Z",
     "shell.execute_reply": "2020-08-19T19:09:30.024422Z"
    },
    "papermill": {
     "duration": 0.583349,
     "end_time": "2020-08-19T19:09:30.025611",
     "exception": false,
     "start_time": "2020-08-19T19:09:29.442262",
     "status": "completed"
    },
    "tags": []
   },
   "outputs": [],
   "source": [
    "#hide\n",
    "\n",
    "## Import essential packages below\n",
    "\n",
    "import pandas as pd\n",
    "import numpy as np\n",
    "import requests\n",
    "import json\n",
    "import matplotlib.pyplot as plt\n",
    "import matplotlib.dates as mdates\n",
    "import matplotlib as mpl\n",
    "from IPython.core.display import display,HTML\n",
    "%matplotlib inline"
   ]
  },
  {
   "cell_type": "code",
   "execution_count": 2,
   "metadata": {
    "execution": {
     "iopub.execute_input": "2020-08-19T19:09:30.057845Z",
     "iopub.status.busy": "2020-08-19T19:09:30.057197Z",
     "iopub.status.idle": "2020-08-19T19:09:30.247131Z",
     "shell.execute_reply": "2020-08-19T19:09:30.247950Z"
    },
    "papermill": {
     "duration": 0.20974,
     "end_time": "2020-08-19T19:09:30.248193",
     "exception": false,
     "start_time": "2020-08-19T19:09:30.038453",
     "status": "completed"
    },
    "tags": []
   },
   "outputs": [
    {
     "data": {
      "text/plain": [
       "(477, 41)"
      ]
     },
     "execution_count": 2,
     "metadata": {},
     "output_type": "execute_result"
    }
   ],
   "source": [
    "#hide\n",
    "url = 'https://api.covid19india.org/csv/latest/state_wise_daily.csv'\n",
    "df = pd.read_csv(url)\n",
    "df.shape"
   ]
  },
  {
   "cell_type": "code",
   "execution_count": 3,
   "metadata": {
    "execution": {
     "iopub.execute_input": "2020-08-19T19:09:30.338807Z",
     "iopub.status.busy": "2020-08-19T19:09:30.337417Z",
     "iopub.status.idle": "2020-08-19T19:09:30.358261Z",
     "shell.execute_reply": "2020-08-19T19:09:30.358850Z"
    },
    "papermill": {
     "duration": 0.097609,
     "end_time": "2020-08-19T19:09:30.359030",
     "exception": false,
     "start_time": "2020-08-19T19:09:30.261421",
     "status": "completed"
    },
    "tags": []
   },
   "outputs": [
    {
     "data": {
      "text/html": [
       "<div>\n",
       "<style scoped>\n",
       "    .dataframe tbody tr th:only-of-type {\n",
       "        vertical-align: middle;\n",
       "    }\n",
       "\n",
       "    .dataframe tbody tr th {\n",
       "        vertical-align: top;\n",
       "    }\n",
       "\n",
       "    .dataframe thead th {\n",
       "        text-align: right;\n",
       "    }\n",
       "</style>\n",
       "<table border=\"1\" class=\"dataframe\">\n",
       "  <thead>\n",
       "    <tr style=\"text-align: right;\">\n",
       "      <th></th>\n",
       "      <th>Date</th>\n",
       "      <th>Status</th>\n",
       "      <th>TT</th>\n",
       "      <th>AN</th>\n",
       "      <th>AP</th>\n",
       "      <th>AR</th>\n",
       "      <th>AS</th>\n",
       "      <th>BR</th>\n",
       "      <th>CH</th>\n",
       "      <th>CT</th>\n",
       "      <th>...</th>\n",
       "      <th>PB</th>\n",
       "      <th>RJ</th>\n",
       "      <th>SK</th>\n",
       "      <th>TN</th>\n",
       "      <th>TG</th>\n",
       "      <th>TR</th>\n",
       "      <th>UP</th>\n",
       "      <th>UT</th>\n",
       "      <th>WB</th>\n",
       "      <th>UN</th>\n",
       "    </tr>\n",
       "  </thead>\n",
       "  <tbody>\n",
       "    <tr>\n",
       "      <th>471</th>\n",
       "      <td>18-Aug-20</td>\n",
       "      <td>Confirmed</td>\n",
       "      <td>64999</td>\n",
       "      <td>84</td>\n",
       "      <td>9652</td>\n",
       "      <td>134</td>\n",
       "      <td>2534</td>\n",
       "      <td>3257</td>\n",
       "      <td>89</td>\n",
       "      <td>808</td>\n",
       "      <td>...</td>\n",
       "      <td>1705</td>\n",
       "      <td>1347</td>\n",
       "      <td>20</td>\n",
       "      <td>5709</td>\n",
       "      <td>1682</td>\n",
       "      <td>205</td>\n",
       "      <td>4218</td>\n",
       "      <td>468</td>\n",
       "      <td>3175</td>\n",
       "      <td>0</td>\n",
       "    </tr>\n",
       "    <tr>\n",
       "      <th>472</th>\n",
       "      <td>18-Aug-20</td>\n",
       "      <td>Recovered</td>\n",
       "      <td>60455</td>\n",
       "      <td>96</td>\n",
       "      <td>9211</td>\n",
       "      <td>56</td>\n",
       "      <td>1560</td>\n",
       "      <td>4034</td>\n",
       "      <td>60</td>\n",
       "      <td>249</td>\n",
       "      <td>...</td>\n",
       "      <td>1582</td>\n",
       "      <td>1306</td>\n",
       "      <td>54</td>\n",
       "      <td>5850</td>\n",
       "      <td>2070</td>\n",
       "      <td>118</td>\n",
       "      <td>4799</td>\n",
       "      <td>239</td>\n",
       "      <td>2987</td>\n",
       "      <td>0</td>\n",
       "    </tr>\n",
       "    <tr>\n",
       "      <th>473</th>\n",
       "      <td>18-Aug-20</td>\n",
       "      <td>Deceased</td>\n",
       "      <td>1099</td>\n",
       "      <td>1</td>\n",
       "      <td>88</td>\n",
       "      <td>0</td>\n",
       "      <td>6</td>\n",
       "      <td>16</td>\n",
       "      <td>0</td>\n",
       "      <td>8</td>\n",
       "      <td>...</td>\n",
       "      <td>36</td>\n",
       "      <td>11</td>\n",
       "      <td>1</td>\n",
       "      <td>121</td>\n",
       "      <td>8</td>\n",
       "      <td>3</td>\n",
       "      <td>70</td>\n",
       "      <td>6</td>\n",
       "      <td>55</td>\n",
       "      <td>0</td>\n",
       "    </tr>\n",
       "    <tr>\n",
       "      <th>474</th>\n",
       "      <td>19-Aug-20</td>\n",
       "      <td>Confirmed</td>\n",
       "      <td>69196</td>\n",
       "      <td>75</td>\n",
       "      <td>9742</td>\n",
       "      <td>75</td>\n",
       "      <td>2116</td>\n",
       "      <td>2884</td>\n",
       "      <td>91</td>\n",
       "      <td>752</td>\n",
       "      <td>...</td>\n",
       "      <td>1683</td>\n",
       "      <td>1312</td>\n",
       "      <td>25</td>\n",
       "      <td>5795</td>\n",
       "      <td>1763</td>\n",
       "      <td>236</td>\n",
       "      <td>5076</td>\n",
       "      <td>264</td>\n",
       "      <td>3169</td>\n",
       "      <td>0</td>\n",
       "    </tr>\n",
       "    <tr>\n",
       "      <th>475</th>\n",
       "      <td>19-Aug-20</td>\n",
       "      <td>Recovered</td>\n",
       "      <td>59365</td>\n",
       "      <td>108</td>\n",
       "      <td>8061</td>\n",
       "      <td>73</td>\n",
       "      <td>2054</td>\n",
       "      <td>3838</td>\n",
       "      <td>108</td>\n",
       "      <td>338</td>\n",
       "      <td>...</td>\n",
       "      <td>941</td>\n",
       "      <td>1003</td>\n",
       "      <td>34</td>\n",
       "      <td>6384</td>\n",
       "      <td>1789</td>\n",
       "      <td>93</td>\n",
       "      <td>5620</td>\n",
       "      <td>408</td>\n",
       "      <td>2973</td>\n",
       "      <td>0</td>\n",
       "    </tr>\n",
       "    <tr>\n",
       "      <th>476</th>\n",
       "      <td>19-Aug-20</td>\n",
       "      <td>Deceased</td>\n",
       "      <td>979</td>\n",
       "      <td>0</td>\n",
       "      <td>86</td>\n",
       "      <td>0</td>\n",
       "      <td>10</td>\n",
       "      <td>10</td>\n",
       "      <td>1</td>\n",
       "      <td>6</td>\n",
       "      <td>...</td>\n",
       "      <td>22</td>\n",
       "      <td>12</td>\n",
       "      <td>1</td>\n",
       "      <td>116</td>\n",
       "      <td>8</td>\n",
       "      <td>3</td>\n",
       "      <td>53</td>\n",
       "      <td>14</td>\n",
       "      <td>53</td>\n",
       "      <td>0</td>\n",
       "    </tr>\n",
       "  </tbody>\n",
       "</table>\n",
       "<p>6 rows × 41 columns</p>\n",
       "</div>"
      ],
      "text/plain": [
       "          Date     Status     TT   AN    AP   AR    AS    BR   CH   CT  ...  \\\n",
       "471  18-Aug-20  Confirmed  64999   84  9652  134  2534  3257   89  808  ...   \n",
       "472  18-Aug-20  Recovered  60455   96  9211   56  1560  4034   60  249  ...   \n",
       "473  18-Aug-20   Deceased   1099    1    88    0     6    16    0    8  ...   \n",
       "474  19-Aug-20  Confirmed  69196   75  9742   75  2116  2884   91  752  ...   \n",
       "475  19-Aug-20  Recovered  59365  108  8061   73  2054  3838  108  338  ...   \n",
       "476  19-Aug-20   Deceased    979    0    86    0    10    10    1    6  ...   \n",
       "\n",
       "       PB    RJ  SK    TN    TG   TR    UP   UT    WB  UN  \n",
       "471  1705  1347  20  5709  1682  205  4218  468  3175   0  \n",
       "472  1582  1306  54  5850  2070  118  4799  239  2987   0  \n",
       "473    36    11   1   121     8    3    70    6    55   0  \n",
       "474  1683  1312  25  5795  1763  236  5076  264  3169   0  \n",
       "475   941  1003  34  6384  1789   93  5620  408  2973   0  \n",
       "476    22    12   1   116     8    3    53   14    53   0  \n",
       "\n",
       "[6 rows x 41 columns]"
      ]
     },
     "execution_count": 3,
     "metadata": {},
     "output_type": "execute_result"
    }
   ],
   "source": [
    "#hide\n",
    "df.tail(6)"
   ]
  },
  {
   "cell_type": "code",
   "execution_count": 4,
   "metadata": {
    "execution": {
     "iopub.execute_input": "2020-08-19T19:09:30.391213Z",
     "iopub.status.busy": "2020-08-19T19:09:30.390461Z",
     "iopub.status.idle": "2020-08-19T19:09:30.392903Z",
     "shell.execute_reply": "2020-08-19T19:09:30.393376Z"
    },
    "papermill": {
     "duration": 0.021899,
     "end_time": "2020-08-19T19:09:30.393524",
     "exception": false,
     "start_time": "2020-08-19T19:09:30.371625",
     "status": "completed"
    },
    "tags": []
   },
   "outputs": [
    {
     "data": {
      "text/plain": [
       "('19-Aug-20', '18-Aug-20')"
      ]
     },
     "execution_count": 4,
     "metadata": {},
     "output_type": "execute_result"
    }
   ],
   "source": [
    "#hide\n",
    "dt_today = df.iloc[-1][0]\n",
    "dt_yday = df.iloc[-4][0]\n",
    "dt_today, dt_yday"
   ]
  },
  {
   "cell_type": "code",
   "execution_count": 5,
   "metadata": {
    "execution": {
     "iopub.execute_input": "2020-08-19T19:09:30.425393Z",
     "iopub.status.busy": "2020-08-19T19:09:30.424835Z",
     "iopub.status.idle": "2020-08-19T19:09:30.430456Z",
     "shell.execute_reply": "2020-08-19T19:09:30.430922Z"
    },
    "papermill": {
     "duration": 0.02436,
     "end_time": "2020-08-19T19:09:30.431056",
     "exception": false,
     "start_time": "2020-08-19T19:09:30.406696",
     "status": "completed"
    },
    "tags": []
   },
   "outputs": [],
   "source": [
    "#hide\n",
    "df_today = df.groupby('Status').sum()\n",
    "df_yday = df.iloc[:-3][:].groupby('Status').sum()"
   ]
  },
  {
   "cell_type": "code",
   "execution_count": 6,
   "metadata": {
    "execution": {
     "iopub.execute_input": "2020-08-19T19:09:30.467436Z",
     "iopub.status.busy": "2020-08-19T19:09:30.466881Z",
     "iopub.status.idle": "2020-08-19T19:09:30.475373Z",
     "shell.execute_reply": "2020-08-19T19:09:30.475817Z"
    },
    "papermill": {
     "duration": 0.03177,
     "end_time": "2020-08-19T19:09:30.475953",
     "exception": false,
     "start_time": "2020-08-19T19:09:30.444183",
     "status": "completed"
    },
    "tags": []
   },
   "outputs": [
    {
     "data": {
      "text/html": [
       "<div>\n",
       "<style scoped>\n",
       "    .dataframe tbody tr th:only-of-type {\n",
       "        vertical-align: middle;\n",
       "    }\n",
       "\n",
       "    .dataframe tbody tr th {\n",
       "        vertical-align: top;\n",
       "    }\n",
       "\n",
       "    .dataframe thead th {\n",
       "        text-align: right;\n",
       "    }\n",
       "</style>\n",
       "<table border=\"1\" class=\"dataframe\">\n",
       "  <thead>\n",
       "    <tr style=\"text-align: right;\">\n",
       "      <th></th>\n",
       "      <th>TT</th>\n",
       "      <th>AN</th>\n",
       "      <th>AP</th>\n",
       "      <th>AR</th>\n",
       "      <th>AS</th>\n",
       "      <th>BR</th>\n",
       "      <th>CH</th>\n",
       "      <th>CT</th>\n",
       "      <th>DN</th>\n",
       "      <th>DD</th>\n",
       "      <th>...</th>\n",
       "      <th>PB</th>\n",
       "      <th>RJ</th>\n",
       "      <th>SK</th>\n",
       "      <th>TN</th>\n",
       "      <th>TG</th>\n",
       "      <th>TR</th>\n",
       "      <th>UP</th>\n",
       "      <th>UT</th>\n",
       "      <th>WB</th>\n",
       "      <th>UN</th>\n",
       "    </tr>\n",
       "    <tr>\n",
       "      <th>Status</th>\n",
       "      <th></th>\n",
       "      <th></th>\n",
       "      <th></th>\n",
       "      <th></th>\n",
       "      <th></th>\n",
       "      <th></th>\n",
       "      <th></th>\n",
       "      <th></th>\n",
       "      <th></th>\n",
       "      <th></th>\n",
       "      <th></th>\n",
       "      <th></th>\n",
       "      <th></th>\n",
       "      <th></th>\n",
       "      <th></th>\n",
       "      <th></th>\n",
       "      <th></th>\n",
       "      <th></th>\n",
       "      <th></th>\n",
       "      <th></th>\n",
       "      <th></th>\n",
       "    </tr>\n",
       "  </thead>\n",
       "  <tbody>\n",
       "    <tr>\n",
       "      <th>Confirmed</th>\n",
       "      <td>2835705</td>\n",
       "      <td>2600</td>\n",
       "      <td>316003</td>\n",
       "      <td>2950</td>\n",
       "      <td>84216</td>\n",
       "      <td>112759</td>\n",
       "      <td>2396</td>\n",
       "      <td>17585</td>\n",
       "      <td>1998</td>\n",
       "      <td>0</td>\n",
       "      <td>...</td>\n",
       "      <td>36083</td>\n",
       "      <td>65289</td>\n",
       "      <td>1245</td>\n",
       "      <td>355449</td>\n",
       "      <td>95700</td>\n",
       "      <td>7660</td>\n",
       "      <td>167510</td>\n",
       "      <td>13225</td>\n",
       "      <td>125922</td>\n",
       "      <td>0</td>\n",
       "    </tr>\n",
       "    <tr>\n",
       "      <th>Deceased</th>\n",
       "      <td>54005</td>\n",
       "      <td>30</td>\n",
       "      <td>2906</td>\n",
       "      <td>5</td>\n",
       "      <td>217</td>\n",
       "      <td>568</td>\n",
       "      <td>31</td>\n",
       "      <td>164</td>\n",
       "      <td>2</td>\n",
       "      <td>0</td>\n",
       "      <td>...</td>\n",
       "      <td>920</td>\n",
       "      <td>910</td>\n",
       "      <td>3</td>\n",
       "      <td>6123</td>\n",
       "      <td>719</td>\n",
       "      <td>65</td>\n",
       "      <td>2638</td>\n",
       "      <td>178</td>\n",
       "      <td>2581</td>\n",
       "      <td>0</td>\n",
       "    </tr>\n",
       "    <tr>\n",
       "      <th>Recovered</th>\n",
       "      <td>2096061</td>\n",
       "      <td>1520</td>\n",
       "      <td>226372</td>\n",
       "      <td>2022</td>\n",
       "      <td>60349</td>\n",
       "      <td>84578</td>\n",
       "      <td>1351</td>\n",
       "      <td>11185</td>\n",
       "      <td>1567</td>\n",
       "      <td>0</td>\n",
       "      <td>...</td>\n",
       "      <td>22703</td>\n",
       "      <td>49963</td>\n",
       "      <td>790</td>\n",
       "      <td>296171</td>\n",
       "      <td>73991</td>\n",
       "      <td>5497</td>\n",
       "      <td>115227</td>\n",
       "      <td>9132</td>\n",
       "      <td>95663</td>\n",
       "      <td>0</td>\n",
       "    </tr>\n",
       "  </tbody>\n",
       "</table>\n",
       "<p>3 rows × 39 columns</p>\n",
       "</div>"
      ],
      "text/plain": [
       "                TT    AN      AP    AR     AS      BR    CH     CT    DN  DD  \\\n",
       "Status                                                                         \n",
       "Confirmed  2835705  2600  316003  2950  84216  112759  2396  17585  1998   0   \n",
       "Deceased     54005    30    2906     5    217     568    31    164     2   0   \n",
       "Recovered  2096061  1520  226372  2022  60349   84578  1351  11185  1567   0   \n",
       "\n",
       "           ...     PB     RJ    SK      TN     TG    TR      UP     UT  \\\n",
       "Status     ...                                                           \n",
       "Confirmed  ...  36083  65289  1245  355449  95700  7660  167510  13225   \n",
       "Deceased   ...    920    910     3    6123    719    65    2638    178   \n",
       "Recovered  ...  22703  49963   790  296171  73991  5497  115227   9132   \n",
       "\n",
       "               WB  UN  \n",
       "Status                 \n",
       "Confirmed  125922   0  \n",
       "Deceased     2581   0  \n",
       "Recovered   95663   0  \n",
       "\n",
       "[3 rows x 39 columns]"
      ]
     },
     "execution_count": 6,
     "metadata": {},
     "output_type": "execute_result"
    }
   ],
   "source": [
    "#hide\n",
    "df_today"
   ]
  },
  {
   "cell_type": "code",
   "execution_count": 7,
   "metadata": {
    "execution": {
     "iopub.execute_input": "2020-08-19T19:09:30.519490Z",
     "iopub.status.busy": "2020-08-19T19:09:30.518939Z",
     "iopub.status.idle": "2020-08-19T19:09:30.521505Z",
     "shell.execute_reply": "2020-08-19T19:09:30.521995Z"
    },
    "papermill": {
     "duration": 0.032594,
     "end_time": "2020-08-19T19:09:30.522135",
     "exception": false,
     "start_time": "2020-08-19T19:09:30.489541",
     "status": "completed"
    },
    "tags": []
   },
   "outputs": [
    {
     "data": {
      "text/html": [
       "<div>\n",
       "<style scoped>\n",
       "    .dataframe tbody tr th:only-of-type {\n",
       "        vertical-align: middle;\n",
       "    }\n",
       "\n",
       "    .dataframe tbody tr th {\n",
       "        vertical-align: top;\n",
       "    }\n",
       "\n",
       "    .dataframe thead th {\n",
       "        text-align: right;\n",
       "    }\n",
       "</style>\n",
       "<table border=\"1\" class=\"dataframe\">\n",
       "  <thead>\n",
       "    <tr style=\"text-align: right;\">\n",
       "      <th></th>\n",
       "      <th>TT</th>\n",
       "      <th>AN</th>\n",
       "      <th>AP</th>\n",
       "      <th>AR</th>\n",
       "      <th>AS</th>\n",
       "      <th>BR</th>\n",
       "      <th>CH</th>\n",
       "      <th>CT</th>\n",
       "      <th>DN</th>\n",
       "      <th>DD</th>\n",
       "      <th>...</th>\n",
       "      <th>PB</th>\n",
       "      <th>RJ</th>\n",
       "      <th>SK</th>\n",
       "      <th>TN</th>\n",
       "      <th>TG</th>\n",
       "      <th>TR</th>\n",
       "      <th>UP</th>\n",
       "      <th>UT</th>\n",
       "      <th>WB</th>\n",
       "      <th>UN</th>\n",
       "    </tr>\n",
       "    <tr>\n",
       "      <th>Status</th>\n",
       "      <th></th>\n",
       "      <th></th>\n",
       "      <th></th>\n",
       "      <th></th>\n",
       "      <th></th>\n",
       "      <th></th>\n",
       "      <th></th>\n",
       "      <th></th>\n",
       "      <th></th>\n",
       "      <th></th>\n",
       "      <th></th>\n",
       "      <th></th>\n",
       "      <th></th>\n",
       "      <th></th>\n",
       "      <th></th>\n",
       "      <th></th>\n",
       "      <th></th>\n",
       "      <th></th>\n",
       "      <th></th>\n",
       "      <th></th>\n",
       "      <th></th>\n",
       "    </tr>\n",
       "  </thead>\n",
       "  <tbody>\n",
       "    <tr>\n",
       "      <th>Confirmed</th>\n",
       "      <td>2766509</td>\n",
       "      <td>2525</td>\n",
       "      <td>306261</td>\n",
       "      <td>2875</td>\n",
       "      <td>82100</td>\n",
       "      <td>109875</td>\n",
       "      <td>2305</td>\n",
       "      <td>16833</td>\n",
       "      <td>1961</td>\n",
       "      <td>0</td>\n",
       "      <td>...</td>\n",
       "      <td>34400</td>\n",
       "      <td>63977</td>\n",
       "      <td>1220</td>\n",
       "      <td>349654</td>\n",
       "      <td>93937</td>\n",
       "      <td>7424</td>\n",
       "      <td>162434</td>\n",
       "      <td>12961</td>\n",
       "      <td>122753</td>\n",
       "      <td>0</td>\n",
       "    </tr>\n",
       "    <tr>\n",
       "      <th>Deceased</th>\n",
       "      <td>53026</td>\n",
       "      <td>30</td>\n",
       "      <td>2820</td>\n",
       "      <td>5</td>\n",
       "      <td>207</td>\n",
       "      <td>558</td>\n",
       "      <td>30</td>\n",
       "      <td>158</td>\n",
       "      <td>2</td>\n",
       "      <td>0</td>\n",
       "      <td>...</td>\n",
       "      <td>898</td>\n",
       "      <td>898</td>\n",
       "      <td>2</td>\n",
       "      <td>6007</td>\n",
       "      <td>711</td>\n",
       "      <td>62</td>\n",
       "      <td>2585</td>\n",
       "      <td>164</td>\n",
       "      <td>2528</td>\n",
       "      <td>0</td>\n",
       "    </tr>\n",
       "    <tr>\n",
       "      <th>Recovered</th>\n",
       "      <td>2036696</td>\n",
       "      <td>1412</td>\n",
       "      <td>218311</td>\n",
       "      <td>1949</td>\n",
       "      <td>58295</td>\n",
       "      <td>80740</td>\n",
       "      <td>1243</td>\n",
       "      <td>10847</td>\n",
       "      <td>1519</td>\n",
       "      <td>0</td>\n",
       "      <td>...</td>\n",
       "      <td>21762</td>\n",
       "      <td>48960</td>\n",
       "      <td>756</td>\n",
       "      <td>289787</td>\n",
       "      <td>72202</td>\n",
       "      <td>5404</td>\n",
       "      <td>109607</td>\n",
       "      <td>8724</td>\n",
       "      <td>92690</td>\n",
       "      <td>0</td>\n",
       "    </tr>\n",
       "  </tbody>\n",
       "</table>\n",
       "<p>3 rows × 39 columns</p>\n",
       "</div>"
      ],
      "text/plain": [
       "                TT    AN      AP    AR     AS      BR    CH     CT    DN  DD  \\\n",
       "Status                                                                         \n",
       "Confirmed  2766509  2525  306261  2875  82100  109875  2305  16833  1961   0   \n",
       "Deceased     53026    30    2820     5    207     558    30    158     2   0   \n",
       "Recovered  2036696  1412  218311  1949  58295   80740  1243  10847  1519   0   \n",
       "\n",
       "           ...     PB     RJ    SK      TN     TG    TR      UP     UT  \\\n",
       "Status     ...                                                           \n",
       "Confirmed  ...  34400  63977  1220  349654  93937  7424  162434  12961   \n",
       "Deceased   ...    898    898     2    6007    711    62    2585    164   \n",
       "Recovered  ...  21762  48960   756  289787  72202  5404  109607   8724   \n",
       "\n",
       "               WB  UN  \n",
       "Status                 \n",
       "Confirmed  122753   0  \n",
       "Deceased     2528   0  \n",
       "Recovered   92690   0  \n",
       "\n",
       "[3 rows x 39 columns]"
      ]
     },
     "execution_count": 7,
     "metadata": {},
     "output_type": "execute_result"
    }
   ],
   "source": [
    "#hide\n",
    "df_yday.head()"
   ]
  },
  {
   "cell_type": "code",
   "execution_count": 8,
   "metadata": {
    "execution": {
     "iopub.execute_input": "2020-08-19T19:09:30.558941Z",
     "iopub.status.busy": "2020-08-19T19:09:30.558387Z",
     "iopub.status.idle": "2020-08-19T19:09:30.561159Z",
     "shell.execute_reply": "2020-08-19T19:09:30.560694Z"
    },
    "papermill": {
     "duration": 0.025297,
     "end_time": "2020-08-19T19:09:30.561277",
     "exception": false,
     "start_time": "2020-08-19T19:09:30.535980",
     "status": "completed"
    },
    "tags": []
   },
   "outputs": [
    {
     "data": {
      "text/plain": [
       "{'updated': '19-Aug-20',\n",
       " 'since': '18-Aug-20',\n",
       " 'Cases': 2835705,\n",
       " 'Deaths': 54005,\n",
       " 'Recovered': 2096061,\n",
       " 'PCases': 2766509,\n",
       " 'PDeaths': 53026,\n",
       " 'PRecovered': 2036696,\n",
       " 'Cases (+)': 69196,\n",
       " 'Deaths (+)': 979,\n",
       " 'Recovered (+)': 59365}"
      ]
     },
     "execution_count": 8,
     "metadata": {},
     "output_type": "execute_result"
    }
   ],
   "source": [
    "#hide\n",
    "summary = {\n",
    "    'updated' : dt_today,\n",
    "    'since' : dt_yday,\n",
    "    'Cases' : df_today['TT'][0],\n",
    "    'Deaths' : df_today['TT'][1],\n",
    "    'Recovered' : df_today['TT'][2],\n",
    "    'PCases' : df_yday['TT'][0],\n",
    "    'PDeaths' : df_yday['TT'][1],\n",
    "    'PRecovered': df_yday['TT'][2],\n",
    "    'Cases (+)' : df_today['TT'][0] - df_yday['TT'][0],\n",
    "    'Deaths (+)' : df_today['TT'][1] - df_yday['TT'][1],\n",
    "    'Recovered (+)': df_today['TT'][2] - df_yday['TT'][2]\n",
    "}\n",
    "\n",
    "summary"
   ]
  },
  {
   "cell_type": "code",
   "execution_count": 9,
   "metadata": {
    "execution": {
     "iopub.execute_input": "2020-08-19T19:09:30.594753Z",
     "iopub.status.busy": "2020-08-19T19:09:30.594108Z",
     "iopub.status.idle": "2020-08-19T19:09:30.595980Z",
     "shell.execute_reply": "2020-08-19T19:09:30.596463Z"
    },
    "papermill": {
     "duration": 0.02146,
     "end_time": "2020-08-19T19:09:30.596613",
     "exception": false,
     "start_time": "2020-08-19T19:09:30.575153",
     "status": "completed"
    },
    "tags": []
   },
   "outputs": [],
   "source": [
    "#hide\n",
    "overview = '''\n",
    "<!-- #######  HTML!! #########-->\n",
    "<h1 style=\"color: #5e9ca0; text-align: center;\">India</h1>\n",
    "<p style=\"text-align: center;\">Last update: <strong>{update}</strong></p>\n",
    "<p style=\"text-align: center;\">Confirmed cases:</p>\n",
    "<p style=\"text-align: center;font-size:24px;\">{cases} (<span style=\"color: #ff0000;\">+{new}</span>)</p>\n",
    "<p style=\"text-align: center;\">Confirmed deaths:</p>\n",
    "<p style=\"text-align: center;font-size:24px;\">{deaths} (<span style=\"color: #ff0000;\">+{dnew}</span>)</p>\n",
    "<p style=\"text-align: center;\">Recovered cases:</p>\n",
    "<p style=\"text-align: center;font-size:24px;\">{recovered} (<span style=\"color: #00ff00;\">+{rnew}</span>)</p>\n",
    "'''"
   ]
  },
  {
   "cell_type": "code",
   "execution_count": 10,
   "metadata": {
    "execution": {
     "iopub.execute_input": "2020-08-19T19:09:30.632446Z",
     "iopub.status.busy": "2020-08-19T19:09:30.631895Z",
     "iopub.status.idle": "2020-08-19T19:09:30.635478Z",
     "shell.execute_reply": "2020-08-19T19:09:30.634992Z"
    },
    "papermill": {
     "duration": 0.024404,
     "end_time": "2020-08-19T19:09:30.635610",
     "exception": false,
     "start_time": "2020-08-19T19:09:30.611206",
     "status": "completed"
    },
    "tags": []
   },
   "outputs": [
    {
     "data": {
      "text/html": [
       "\n",
       "<!-- #######  HTML!! #########-->\n",
       "<h1 style=\"color: #5e9ca0; text-align: center;\">India</h1>\n",
       "<p style=\"text-align: center;\">Last update: <strong>19-Aug-20</strong></p>\n",
       "<p style=\"text-align: center;\">Confirmed cases:</p>\n",
       "<p style=\"text-align: center;font-size:24px;\">2835705 (<span style=\"color: #ff0000;\">+69196</span>)</p>\n",
       "<p style=\"text-align: center;\">Confirmed deaths:</p>\n",
       "<p style=\"text-align: center;font-size:24px;\">54005 (<span style=\"color: #ff0000;\">+979</span>)</p>\n",
       "<p style=\"text-align: center;\">Recovered cases:</p>\n",
       "<p style=\"text-align: center;font-size:24px;\">2096061 (<span style=\"color: #00ff00;\">+59365</span>)</p>\n"
      ],
      "text/plain": [
       "<IPython.core.display.HTML object>"
      ]
     },
     "metadata": {},
     "output_type": "display_data"
    }
   ],
   "source": [
    "#hide_input\n",
    "# Fill the above HTML with the information from the summary dictionary\n",
    "\n",
    "update = summary['updated']\n",
    "cases = summary['Cases']\n",
    "new = summary['Cases (+)']\n",
    "deaths = summary['Deaths']\n",
    "dnew = summary['Deaths (+)']\n",
    "recovered = summary['Recovered']\n",
    "rnew = summary['Recovered (+)']\n",
    "\n",
    "html = HTML(overview.format(update=update, cases=cases,new=new,deaths=deaths,dnew=dnew, recovered=recovered, rnew=rnew))\n",
    "\n",
    "display(html)"
   ]
  },
  {
   "cell_type": "code",
   "execution_count": 11,
   "metadata": {
    "execution": {
     "iopub.execute_input": "2020-08-19T19:09:30.672977Z",
     "iopub.status.busy": "2020-08-19T19:09:30.672383Z",
     "iopub.status.idle": "2020-08-19T19:09:30.678825Z",
     "shell.execute_reply": "2020-08-19T19:09:30.679301Z"
    },
    "papermill": {
     "duration": 0.028711,
     "end_time": "2020-08-19T19:09:30.679452",
     "exception": false,
     "start_time": "2020-08-19T19:09:30.650741",
     "status": "completed"
    },
    "tags": []
   },
   "outputs": [],
   "source": [
    "#hide\n",
    "df_cases = df[df['Status'] == 'Confirmed'].copy()\n",
    "df_cases.drop(columns = ['Status'], inplace=True)\n",
    "df_deaths = df[df['Status'] == 'Deceased'].copy()\n",
    "df_deaths.drop(columns = ['Status'], inplace=True)\n",
    "df_recovered = df[df['Status'] == 'Recovered'].copy()\n",
    "df_recovered.drop(columns = ['Status'], inplace=True)"
   ]
  },
  {
   "cell_type": "markdown",
   "metadata": {
    "papermill": {
     "duration": 0.01498,
     "end_time": "2020-08-19T19:09:30.709422",
     "exception": false,
     "start_time": "2020-08-19T19:09:30.694442",
     "status": "completed"
    },
    "tags": []
   },
   "source": [
    "Plot for India:"
   ]
  },
  {
   "cell_type": "code",
   "execution_count": 12,
   "metadata": {
    "execution": {
     "iopub.execute_input": "2020-08-19T19:09:30.797665Z",
     "iopub.status.busy": "2020-08-19T19:09:30.773064Z",
     "iopub.status.idle": "2020-08-19T19:09:31.011826Z",
     "shell.execute_reply": "2020-08-19T19:09:31.012445Z"
    },
    "papermill": {
     "duration": 0.287897,
     "end_time": "2020-08-19T19:09:31.012601",
     "exception": false,
     "start_time": "2020-08-19T19:09:30.724704",
     "status": "completed"
    },
    "tags": []
   },
   "outputs": [
    {
     "data": {
      "image/png": "[encoded data removed]",
      "text/plain": [
       "<Figure size 1296x432 with 1 Axes>"
      ]
     },
     "metadata": {
      "needs_background": "light"
     },
     "output_type": "display_data"
    }
   ],
   "source": [
    "#hide_input\n",
    "plt.figure(figsize = (18,6))\n",
    "plt.plot(df_cases['Date'], df_cases['TT'],'.-', alpha=0.7, color='b', label='Confirmed cases')\n",
    "plt.plot(df_recovered['Date'], df_recovered['TT'],'.-', alpha=0.7, color='g', label='Recovered')\n",
    "plt.plot(df_deaths['Date'], df_deaths['TT'],'.-', alpha=0.7, color='r', label='Deceased')\n",
    "plt.legend()\n",
    "plt.title(\"Cases per day in India\")\n",
    "plt.xticks(ticks=' ')\n",
    "plt.xlabel(f'{df_cases.iloc[0][0]} to {df_cases.iloc[-1][0]}')\n",
    "plt.ylabel('No. of cases');"
   ]
  },
  {
   "cell_type": "markdown",
   "metadata": {
    "papermill": {
     "duration": 0.016628,
     "end_time": "2020-08-19T19:09:31.044897",
     "exception": false,
     "start_time": "2020-08-19T19:09:31.028269",
     "status": "completed"
    },
    "tags": []
   },
   "source": [
    "Plots for the states with highest number of cases:"
   ]
  },
  {
   "cell_type": "code",
   "execution_count": 13,
   "metadata": {
    "execution": {
     "iopub.execute_input": "2020-08-19T19:09:31.092386Z",
     "iopub.status.busy": "2020-08-19T19:09:31.091729Z",
     "iopub.status.idle": "2020-08-19T19:09:31.643859Z",
     "shell.execute_reply": "2020-08-19T19:09:31.643320Z"
    },
    "papermill": {
     "duration": 0.582132,
     "end_time": "2020-08-19T19:09:31.643999",
     "exception": false,
     "start_time": "2020-08-19T19:09:31.061867",
     "status": "completed"
    },
    "tags": []
   },
   "outputs": [
    {
     "data": {
      "image/png": "[encoded data removed]",
      "text/plain": [
       "<Figure size 1512x432 with 3 Axes>"
      ]
     },
     "metadata": {
      "needs_background": "light"
     },
     "output_type": "display_data"
    }
   ],
   "source": [
    "#hide_input\n",
    "top_3 = sorted(df_cases.sum().values[1:], reverse=True)[1:4]\n",
    "top3_states=[]\n",
    "for i in top_3:\n",
    "    top3_states.append(df_cases.sum()[df_cases.sum() == i].index)\n",
    "\n",
    "\n",
    "fig, ax = plt.subplots(1,3,figsize = (21,6))\n",
    "for i in range(3):\n",
    "    state = top3_states[i].values[0]\n",
    "    ax[i].plot(df_cases['Date'], df_cases[state],'.-', color='b', alpha=0.7)\n",
    "    ax[i].plot(df_deaths['Date'], df_deaths[state],'.-', color='r', alpha=0.7)\n",
    "    ax[i].plot(df_recovered['Date'], df_recovered[state],'.-', color='g', alpha=0.7)\n",
    "    \n",
    "    ax[i].set_title(f\"Cases in {state}\")\n",
    "    ax[i].set_xticks(ticks=' ')\n",
    "    ax[i].set_xlabel(f'{df_cases.iloc[0][0]} to {df_cases.iloc[-1][0]}')\n",
    "    ax[i].set_ylabel('No. of cases');"
   ]
  },
  {
   "cell_type": "code",
   "execution_count": null,
   "metadata": {
    "papermill": {
     "duration": 0.017666,
     "end_time": "2020-08-19T19:09:31.680048",
     "exception": false,
     "start_time": "2020-08-19T19:09:31.662382",
     "status": "completed"
    },
    "tags": []
   },
   "outputs": [],
   "source": []
  },
  {
   "cell_type": "code",
   "execution_count": null,
   "metadata": {
    "papermill": {
     "duration": 0.017298,
     "end_time": "2020-08-19T19:09:31.716588",
     "exception": false,
     "start_time": "2020-08-19T19:09:31.699290",
     "status": "completed"
    },
    "tags": []
   },
   "outputs": [],
   "source": []
  },
  {
   "cell_type": "code",
   "execution_count": null,
   "metadata": {
    "papermill": {
     "duration": 0.018701,
     "end_time": "2020-08-19T19:09:31.754092",
     "exception": false,
     "start_time": "2020-08-19T19:09:31.735391",
     "status": "completed"
    },
    "tags": []
   },
   "outputs": [],
   "source": []
  }
 ],
 "metadata": {
  "kernelspec": {
   "display_name": "Python 3",
   "language": "python",
   "name": "python3"
  },
  "language_info": {
   "codemirror_mode": {
    "name": "ipython",
    "version": 3
   },
   "file_extension": ".py",
   "mimetype": "text/x-python",
   "name": "python",
   "nbconvert_exporter": "python",
   "pygments_lexer": "ipython3",
   "version": "3.6.11"
  },
  "papermill": {
   "duration": 3.837718,
   "end_time": "2020-08-19T19:09:32.181432",
   "environment_variables": {},
   "exception": null,
   "input_path": "2020-08-09-DailyUpdate.ipynb",
   "output_path": "2020-08-09-DailyUpdate.ipynb",
   "parameters": {},
   "start_time": "2020-08-19T19:09:28.343714",
   "version": "2.1.2"
  }
 },
 "nbformat": 4,
 "nbformat_minor": 4
}