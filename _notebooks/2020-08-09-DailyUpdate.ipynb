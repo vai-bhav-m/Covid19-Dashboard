{
 "cells": [
  {
   "cell_type": "markdown",
   "metadata": {
    "tags": [
     "papermill-error-cell-tag"
    ]
   },
   "source": [
    "<span style=\"color:red; font-family:Helvetica Neue, Helvetica, Arial, sans-serif; font-size:2em;\">An Exception was encountered at '<a href=\"#papermill-error-cell\">In [13]</a>'.</span>"
   ]
  },
  {
   "cell_type": "markdown",
   "metadata": {
    "papermill": {
     "duration": 0.018083,
     "end_time": "2020-10-27T19:14:34.972784",
     "exception": false,
     "start_time": "2020-10-27T19:14:34.954701",
     "status": "completed"
    },
    "tags": []
   },
   "source": [
    "# COVID-19 India Daily updates\n",
    "> Tracking coronavirus total cases, deaths and new cases in India on a daily basis\n",
    "\n",
    "- author: Vaibhav Mahapatra"
   ]
  },
  {
   "cell_type": "code",
   "execution_count": 1,
   "metadata": {
    "execution": {
     "iopub.execute_input": "2020-10-27T19:14:35.088816Z",
     "iopub.status.busy": "2020-10-27T19:14:35.088199Z",
     "iopub.status.idle": "2020-10-27T19:14:35.624829Z",
     "shell.execute_reply": "2020-10-27T19:14:35.623779Z"
    },
    "papermill": {
     "duration": 0.555453,
     "end_time": "2020-10-27T19:14:35.624995",
     "exception": false,
     "start_time": "2020-10-27T19:14:35.069542",
     "status": "completed"
    },
    "tags": []
   },
   "outputs": [],
   "source": [
    "#hide\n",
    "\n",
    "## Import essential packages below\n",
    "\n",
    "import pandas as pd\n",
    "import numpy as np\n",
    "import requests\n",
    "import json\n",
    "import matplotlib.pyplot as plt\n",
    "import matplotlib.dates as mdates\n",
    "import matplotlib as mpl\n",
    "from IPython.core.display import display,HTML\n",
    "%matplotlib inline"
   ]
  },
  {
   "cell_type": "code",
   "execution_count": 2,
   "metadata": {
    "execution": {
     "iopub.execute_input": "2020-10-27T19:14:35.653635Z",
     "iopub.status.busy": "2020-10-27T19:14:35.652549Z",
     "iopub.status.idle": "2020-10-27T19:14:35.765453Z",
     "shell.execute_reply": "2020-10-27T19:14:35.765894Z"
    },
    "papermill": {
     "duration": 0.129999,
     "end_time": "2020-10-27T19:14:35.766025",
     "exception": false,
     "start_time": "2020-10-27T19:14:35.636026",
     "status": "completed"
    },
    "tags": []
   },
   "outputs": [
    {
     "data": {
      "text/plain": [
       "(684, 42)"
      ]
     },
     "execution_count": 2,
     "metadata": {},
     "output_type": "execute_result"
    }
   ],
   "source": [
    "#hide\n",
    "url = 'https://api.covid19india.org/csv/latest/state_wise_daily.csv'\n",
    "df = pd.read_csv(url)\n",
    "df.shape"
   ]
  },
  {
   "cell_type": "code",
   "execution_count": 3,
   "metadata": {
    "execution": {
     "iopub.execute_input": "2020-10-27T19:14:35.844367Z",
     "iopub.status.busy": "2020-10-27T19:14:35.837886Z",
     "iopub.status.idle": "2020-10-27T19:14:35.846519Z",
     "shell.execute_reply": "2020-10-27T19:14:35.846897Z"
    },
    "papermill": {
     "duration": 0.068986,
     "end_time": "2020-10-27T19:14:35.847028",
     "exception": false,
     "start_time": "2020-10-27T19:14:35.778042",
     "status": "completed"
    },
    "tags": []
   },
   "outputs": [
    {
     "data": {
      "text/html": [
       "<div>\n",
       "<style scoped>\n",
       "    .dataframe tbody tr th:only-of-type {\n",
       "        vertical-align: middle;\n",
       "    }\n",
       "\n",
       "    .dataframe tbody tr th {\n",
       "        vertical-align: top;\n",
       "    }\n",
       "\n",
       "    .dataframe thead th {\n",
       "        text-align: right;\n",
       "    }\n",
       "</style>\n",
       "<table border=\"1\" class=\"dataframe\">\n",
       "  <thead>\n",
       "    <tr style=\"text-align: right;\">\n",
       "      <th></th>\n",
       "      <th>Date</th>\n",
       "      <th>Date_YMD</th>\n",
       "      <th>Status</th>\n",
       "      <th>TT</th>\n",
       "      <th>AN</th>\n",
       "      <th>AP</th>\n",
       "      <th>AR</th>\n",
       "      <th>AS</th>\n",
       "      <th>BR</th>\n",
       "      <th>CH</th>\n",
       "      <th>...</th>\n",
       "      <th>PB</th>\n",
       "      <th>RJ</th>\n",
       "      <th>SK</th>\n",
       "      <th>TN</th>\n",
       "      <th>TG</th>\n",
       "      <th>TR</th>\n",
       "      <th>UP</th>\n",
       "      <th>UT</th>\n",
       "      <th>WB</th>\n",
       "      <th>UN</th>\n",
       "    </tr>\n",
       "  </thead>\n",
       "  <tbody>\n",
       "    <tr>\n",
       "      <th>678</th>\n",
       "      <td>26-Oct-20</td>\n",
       "      <td>2020-10-26</td>\n",
       "      <td>Confirmed</td>\n",
       "      <td>36019</td>\n",
       "      <td>8</td>\n",
       "      <td>1901</td>\n",
       "      <td>147</td>\n",
       "      <td>215</td>\n",
       "      <td>513</td>\n",
       "      <td>47</td>\n",
       "      <td>...</td>\n",
       "      <td>336</td>\n",
       "      <td>1805</td>\n",
       "      <td>5</td>\n",
       "      <td>2708</td>\n",
       "      <td>582</td>\n",
       "      <td>36</td>\n",
       "      <td>1798</td>\n",
       "      <td>368</td>\n",
       "      <td>4121</td>\n",
       "      <td>0</td>\n",
       "    </tr>\n",
       "    <tr>\n",
       "      <th>679</th>\n",
       "      <td>26-Oct-20</td>\n",
       "      <td>2020-10-26</td>\n",
       "      <td>Recovered</td>\n",
       "      <td>63734</td>\n",
       "      <td>14</td>\n",
       "      <td>3972</td>\n",
       "      <td>231</td>\n",
       "      <td>2832</td>\n",
       "      <td>1087</td>\n",
       "      <td>63</td>\n",
       "      <td>...</td>\n",
       "      <td>326</td>\n",
       "      <td>2226</td>\n",
       "      <td>5</td>\n",
       "      <td>4014</td>\n",
       "      <td>1432</td>\n",
       "      <td>183</td>\n",
       "      <td>2441</td>\n",
       "      <td>700</td>\n",
       "      <td>3889</td>\n",
       "      <td>0</td>\n",
       "    </tr>\n",
       "    <tr>\n",
       "      <th>680</th>\n",
       "      <td>26-Oct-20</td>\n",
       "      <td>2020-10-26</td>\n",
       "      <td>Deceased</td>\n",
       "      <td>485</td>\n",
       "      <td>0</td>\n",
       "      <td>19</td>\n",
       "      <td>2</td>\n",
       "      <td>2</td>\n",
       "      <td>9</td>\n",
       "      <td>4</td>\n",
       "      <td>...</td>\n",
       "      <td>8</td>\n",
       "      <td>14</td>\n",
       "      <td>1</td>\n",
       "      <td>32</td>\n",
       "      <td>4</td>\n",
       "      <td>0</td>\n",
       "      <td>20</td>\n",
       "      <td>8</td>\n",
       "      <td>59</td>\n",
       "      <td>0</td>\n",
       "    </tr>\n",
       "    <tr>\n",
       "      <th>681</th>\n",
       "      <td>27-Oct-20</td>\n",
       "      <td>2020-10-27</td>\n",
       "      <td>Confirmed</td>\n",
       "      <td>42714</td>\n",
       "      <td>21</td>\n",
       "      <td>2901</td>\n",
       "      <td>81</td>\n",
       "      <td>403</td>\n",
       "      <td>678</td>\n",
       "      <td>67</td>\n",
       "      <td>...</td>\n",
       "      <td>346</td>\n",
       "      <td>1796</td>\n",
       "      <td>23</td>\n",
       "      <td>2522</td>\n",
       "      <td>837</td>\n",
       "      <td>0</td>\n",
       "      <td>1986</td>\n",
       "      <td>213</td>\n",
       "      <td>3957</td>\n",
       "      <td>0</td>\n",
       "    </tr>\n",
       "    <tr>\n",
       "      <th>682</th>\n",
       "      <td>27-Oct-20</td>\n",
       "      <td>2020-10-27</td>\n",
       "      <td>Recovered</td>\n",
       "      <td>58006</td>\n",
       "      <td>22</td>\n",
       "      <td>4352</td>\n",
       "      <td>115</td>\n",
       "      <td>2443</td>\n",
       "      <td>1237</td>\n",
       "      <td>49</td>\n",
       "      <td>...</td>\n",
       "      <td>463</td>\n",
       "      <td>2066</td>\n",
       "      <td>4</td>\n",
       "      <td>4029</td>\n",
       "      <td>1554</td>\n",
       "      <td>0</td>\n",
       "      <td>2335</td>\n",
       "      <td>422</td>\n",
       "      <td>3917</td>\n",
       "      <td>0</td>\n",
       "    </tr>\n",
       "    <tr>\n",
       "      <th>683</th>\n",
       "      <td>27-Oct-20</td>\n",
       "      <td>2020-10-27</td>\n",
       "      <td>Deceased</td>\n",
       "      <td>509</td>\n",
       "      <td>0</td>\n",
       "      <td>19</td>\n",
       "      <td>1</td>\n",
       "      <td>6</td>\n",
       "      <td>7</td>\n",
       "      <td>1</td>\n",
       "      <td>...</td>\n",
       "      <td>13</td>\n",
       "      <td>14</td>\n",
       "      <td>2</td>\n",
       "      <td>27</td>\n",
       "      <td>4</td>\n",
       "      <td>0</td>\n",
       "      <td>38</td>\n",
       "      <td>6</td>\n",
       "      <td>58</td>\n",
       "      <td>0</td>\n",
       "    </tr>\n",
       "  </tbody>\n",
       "</table>\n",
       "<p>6 rows × 42 columns</p>\n",
       "</div>"
      ],
      "text/plain": [
       "          Date    Date_YMD     Status     TT  AN    AP   AR    AS    BR  CH  \\\n",
       "678  26-Oct-20  2020-10-26  Confirmed  36019   8  1901  147   215   513  47   \n",
       "679  26-Oct-20  2020-10-26  Recovered  63734  14  3972  231  2832  1087  63   \n",
       "680  26-Oct-20  2020-10-26   Deceased    485   0    19    2     2     9   4   \n",
       "681  27-Oct-20  2020-10-27  Confirmed  42714  21  2901   81   403   678  67   \n",
       "682  27-Oct-20  2020-10-27  Recovered  58006  22  4352  115  2443  1237  49   \n",
       "683  27-Oct-20  2020-10-27   Deceased    509   0    19    1     6     7   1   \n",
       "\n",
       "     ...   PB    RJ  SK    TN    TG   TR    UP   UT    WB  UN  \n",
       "678  ...  336  1805   5  2708   582   36  1798  368  4121   0  \n",
       "679  ...  326  2226   5  4014  1432  183  2441  700  3889   0  \n",
       "680  ...    8    14   1    32     4    0    20    8    59   0  \n",
       "681  ...  346  1796  23  2522   837    0  1986  213  3957   0  \n",
       "682  ...  463  2066   4  4029  1554    0  2335  422  3917   0  \n",
       "683  ...   13    14   2    27     4    0    38    6    58   0  \n",
       "\n",
       "[6 rows x 42 columns]"
      ]
     },
     "execution_count": 3,
     "metadata": {},
     "output_type": "execute_result"
    }
   ],
   "source": [
    "#hide\n",
    "df.tail(6)"
   ]
  },
  {
   "cell_type": "code",
   "execution_count": 4,
   "metadata": {
    "execution": {
     "iopub.execute_input": "2020-10-27T19:14:35.876304Z",
     "iopub.status.busy": "2020-10-27T19:14:35.875813Z",
     "iopub.status.idle": "2020-10-27T19:14:35.878557Z",
     "shell.execute_reply": "2020-10-27T19:14:35.879021Z"
    },
    "papermill": {
     "duration": 0.02007,
     "end_time": "2020-10-27T19:14:35.879149",
     "exception": false,
     "start_time": "2020-10-27T19:14:35.859079",
     "status": "completed"
    },
    "tags": []
   },
   "outputs": [
    {
     "data": {
      "text/plain": [
       "('27-Oct-20', '26-Oct-20')"
      ]
     },
     "execution_count": 4,
     "metadata": {},
     "output_type": "execute_result"
    }
   ],
   "source": [
    "#hide\n",
    "dt_today = df.iloc[-1][0]\n",
    "dt_yday = df.iloc[-4][0]\n",
    "dt_today, dt_yday"
   ]
  },
  {
   "cell_type": "code",
   "execution_count": 5,
   "metadata": {
    "execution": {
     "iopub.execute_input": "2020-10-27T19:14:35.908566Z",
     "iopub.status.busy": "2020-10-27T19:14:35.908012Z",
     "iopub.status.idle": "2020-10-27T19:14:35.914368Z",
     "shell.execute_reply": "2020-10-27T19:14:35.913917Z"
    },
    "papermill": {
     "duration": 0.023235,
     "end_time": "2020-10-27T19:14:35.914475",
     "exception": false,
     "start_time": "2020-10-27T19:14:35.891240",
     "status": "completed"
    },
    "tags": []
   },
   "outputs": [],
   "source": [
    "#hide\n",
    "df_today = df.groupby('Status').sum()\n",
    "df_yday = df.iloc[:-3][:].groupby('Status').sum()"
   ]
  },
  {
   "cell_type": "code",
   "execution_count": 6,
   "metadata": {
    "execution": {
     "iopub.execute_input": "2020-10-27T19:14:35.954537Z",
     "iopub.status.busy": "2020-10-27T19:14:35.954001Z",
     "iopub.status.idle": "2020-10-27T19:14:35.956845Z",
     "shell.execute_reply": "2020-10-27T19:14:35.956367Z"
    },
    "papermill": {
     "duration": 0.030351,
     "end_time": "2020-10-27T19:14:35.956952",
     "exception": false,
     "start_time": "2020-10-27T19:14:35.926601",
     "status": "completed"
    },
    "tags": []
   },
   "outputs": [
    {
     "data": {
      "text/html": [
       "<div>\n",
       "<style scoped>\n",
       "    .dataframe tbody tr th:only-of-type {\n",
       "        vertical-align: middle;\n",
       "    }\n",
       "\n",
       "    .dataframe tbody tr th {\n",
       "        vertical-align: top;\n",
       "    }\n",
       "\n",
       "    .dataframe thead th {\n",
       "        text-align: right;\n",
       "    }\n",
       "</style>\n",
       "<table border=\"1\" class=\"dataframe\">\n",
       "  <thead>\n",
       "    <tr style=\"text-align: right;\">\n",
       "      <th></th>\n",
       "      <th>TT</th>\n",
       "      <th>AN</th>\n",
       "      <th>AP</th>\n",
       "      <th>AR</th>\n",
       "      <th>AS</th>\n",
       "      <th>BR</th>\n",
       "      <th>CH</th>\n",
       "      <th>CT</th>\n",
       "      <th>DN</th>\n",
       "      <th>DD</th>\n",
       "      <th>...</th>\n",
       "      <th>PB</th>\n",
       "      <th>RJ</th>\n",
       "      <th>SK</th>\n",
       "      <th>TN</th>\n",
       "      <th>TG</th>\n",
       "      <th>TR</th>\n",
       "      <th>UP</th>\n",
       "      <th>UT</th>\n",
       "      <th>WB</th>\n",
       "      <th>UN</th>\n",
       "    </tr>\n",
       "    <tr>\n",
       "      <th>Status</th>\n",
       "      <th></th>\n",
       "      <th></th>\n",
       "      <th></th>\n",
       "      <th></th>\n",
       "      <th></th>\n",
       "      <th></th>\n",
       "      <th></th>\n",
       "      <th></th>\n",
       "      <th></th>\n",
       "      <th></th>\n",
       "      <th></th>\n",
       "      <th></th>\n",
       "      <th></th>\n",
       "      <th></th>\n",
       "      <th></th>\n",
       "      <th></th>\n",
       "      <th></th>\n",
       "      <th></th>\n",
       "      <th></th>\n",
       "      <th></th>\n",
       "      <th></th>\n",
       "    </tr>\n",
       "  </thead>\n",
       "  <tbody>\n",
       "    <tr>\n",
       "      <th>Confirmed</th>\n",
       "      <td>7988056</td>\n",
       "      <td>4270</td>\n",
       "      <td>811825</td>\n",
       "      <td>14472</td>\n",
       "      <td>204687</td>\n",
       "      <td>213383</td>\n",
       "      <td>14152</td>\n",
       "      <td>179654</td>\n",
       "      <td>3224</td>\n",
       "      <td>0</td>\n",
       "      <td>...</td>\n",
       "      <td>131737</td>\n",
       "      <td>189844</td>\n",
       "      <td>3876</td>\n",
       "      <td>714235</td>\n",
       "      <td>232161</td>\n",
       "      <td>30254</td>\n",
       "      <td>474054</td>\n",
       "      <td>60957</td>\n",
       "      <td>357779</td>\n",
       "      <td>0</td>\n",
       "    </tr>\n",
       "    <tr>\n",
       "      <th>Deceased</th>\n",
       "      <td>119460</td>\n",
       "      <td>58</td>\n",
       "      <td>6625</td>\n",
       "      <td>36</td>\n",
       "      <td>918</td>\n",
       "      <td>1065</td>\n",
       "      <td>223</td>\n",
       "      <td>1881</td>\n",
       "      <td>2</td>\n",
       "      <td>0</td>\n",
       "      <td>...</td>\n",
       "      <td>4138</td>\n",
       "      <td>1867</td>\n",
       "      <td>67</td>\n",
       "      <td>10983</td>\n",
       "      <td>1315</td>\n",
       "      <td>340</td>\n",
       "      <td>6940</td>\n",
       "      <td>1007</td>\n",
       "      <td>6604</td>\n",
       "      <td>0</td>\n",
       "    </tr>\n",
       "    <tr>\n",
       "      <th>Recovered</th>\n",
       "      <td>7256855</td>\n",
       "      <td>4010</td>\n",
       "      <td>777900</td>\n",
       "      <td>12297</td>\n",
       "      <td>191027</td>\n",
       "      <td>203244</td>\n",
       "      <td>13279</td>\n",
       "      <td>156080</td>\n",
       "      <td>3134</td>\n",
       "      <td>0</td>\n",
       "      <td>...</td>\n",
       "      <td>123510</td>\n",
       "      <td>172028</td>\n",
       "      <td>3453</td>\n",
       "      <td>675518</td>\n",
       "      <td>213466</td>\n",
       "      <td>28046</td>\n",
       "      <td>440847</td>\n",
       "      <td>55610</td>\n",
       "      <td>314003</td>\n",
       "      <td>0</td>\n",
       "    </tr>\n",
       "  </tbody>\n",
       "</table>\n",
       "<p>3 rows × 39 columns</p>\n",
       "</div>"
      ],
      "text/plain": [
       "                TT    AN      AP     AR      AS      BR     CH      CT    DN  \\\n",
       "Status                                                                         \n",
       "Confirmed  7988056  4270  811825  14472  204687  213383  14152  179654  3224   \n",
       "Deceased    119460    58    6625     36     918    1065    223    1881     2   \n",
       "Recovered  7256855  4010  777900  12297  191027  203244  13279  156080  3134   \n",
       "\n",
       "           DD  ...      PB      RJ    SK      TN      TG     TR      UP  \\\n",
       "Status         ...                                                        \n",
       "Confirmed   0  ...  131737  189844  3876  714235  232161  30254  474054   \n",
       "Deceased    0  ...    4138    1867    67   10983    1315    340    6940   \n",
       "Recovered   0  ...  123510  172028  3453  675518  213466  28046  440847   \n",
       "\n",
       "              UT      WB  UN  \n",
       "Status                        \n",
       "Confirmed  60957  357779   0  \n",
       "Deceased    1007    6604   0  \n",
       "Recovered  55610  314003   0  \n",
       "\n",
       "[3 rows x 39 columns]"
      ]
     },
     "execution_count": 6,
     "metadata": {},
     "output_type": "execute_result"
    }
   ],
   "source": [
    "#hide\n",
    "df_today"
   ]
  },
  {
   "cell_type": "code",
   "execution_count": 7,
   "metadata": {
    "execution": {
     "iopub.execute_input": "2020-10-27T19:14:35.996469Z",
     "iopub.status.busy": "2020-10-27T19:14:35.995910Z",
     "iopub.status.idle": "2020-10-27T19:14:35.998600Z",
     "shell.execute_reply": "2020-10-27T19:14:35.999095Z"
    },
    "papermill": {
     "duration": 0.029343,
     "end_time": "2020-10-27T19:14:35.999216",
     "exception": false,
     "start_time": "2020-10-27T19:14:35.969873",
     "status": "completed"
    },
    "tags": []
   },
   "outputs": [
    {
     "data": {
      "text/html": [
       "<div>\n",
       "<style scoped>\n",
       "    .dataframe tbody tr th:only-of-type {\n",
       "        vertical-align: middle;\n",
       "    }\n",
       "\n",
       "    .dataframe tbody tr th {\n",
       "        vertical-align: top;\n",
       "    }\n",
       "\n",
       "    .dataframe thead th {\n",
       "        text-align: right;\n",
       "    }\n",
       "</style>\n",
       "<table border=\"1\" class=\"dataframe\">\n",
       "  <thead>\n",
       "    <tr style=\"text-align: right;\">\n",
       "      <th></th>\n",
       "      <th>TT</th>\n",
       "      <th>AN</th>\n",
       "      <th>AP</th>\n",
       "      <th>AR</th>\n",
       "      <th>AS</th>\n",
       "      <th>BR</th>\n",
       "      <th>CH</th>\n",
       "      <th>CT</th>\n",
       "      <th>DN</th>\n",
       "      <th>DD</th>\n",
       "      <th>...</th>\n",
       "      <th>PB</th>\n",
       "      <th>RJ</th>\n",
       "      <th>SK</th>\n",
       "      <th>TN</th>\n",
       "      <th>TG</th>\n",
       "      <th>TR</th>\n",
       "      <th>UP</th>\n",
       "      <th>UT</th>\n",
       "      <th>WB</th>\n",
       "      <th>UN</th>\n",
       "    </tr>\n",
       "    <tr>\n",
       "      <th>Status</th>\n",
       "      <th></th>\n",
       "      <th></th>\n",
       "      <th></th>\n",
       "      <th></th>\n",
       "      <th></th>\n",
       "      <th></th>\n",
       "      <th></th>\n",
       "      <th></th>\n",
       "      <th></th>\n",
       "      <th></th>\n",
       "      <th></th>\n",
       "      <th></th>\n",
       "      <th></th>\n",
       "      <th></th>\n",
       "      <th></th>\n",
       "      <th></th>\n",
       "      <th></th>\n",
       "      <th></th>\n",
       "      <th></th>\n",
       "      <th></th>\n",
       "      <th></th>\n",
       "    </tr>\n",
       "  </thead>\n",
       "  <tbody>\n",
       "    <tr>\n",
       "      <th>Confirmed</th>\n",
       "      <td>7945342</td>\n",
       "      <td>4249</td>\n",
       "      <td>808924</td>\n",
       "      <td>14391</td>\n",
       "      <td>204284</td>\n",
       "      <td>212705</td>\n",
       "      <td>14085</td>\n",
       "      <td>177608</td>\n",
       "      <td>3223</td>\n",
       "      <td>0</td>\n",
       "      <td>...</td>\n",
       "      <td>131391</td>\n",
       "      <td>188048</td>\n",
       "      <td>3853</td>\n",
       "      <td>711713</td>\n",
       "      <td>231324</td>\n",
       "      <td>30254</td>\n",
       "      <td>472068</td>\n",
       "      <td>60744</td>\n",
       "      <td>353822</td>\n",
       "      <td>0</td>\n",
       "    </tr>\n",
       "    <tr>\n",
       "      <th>Deceased</th>\n",
       "      <td>118951</td>\n",
       "      <td>58</td>\n",
       "      <td>6606</td>\n",
       "      <td>35</td>\n",
       "      <td>912</td>\n",
       "      <td>1058</td>\n",
       "      <td>222</td>\n",
       "      <td>1861</td>\n",
       "      <td>2</td>\n",
       "      <td>0</td>\n",
       "      <td>...</td>\n",
       "      <td>4125</td>\n",
       "      <td>1853</td>\n",
       "      <td>65</td>\n",
       "      <td>10956</td>\n",
       "      <td>1311</td>\n",
       "      <td>340</td>\n",
       "      <td>6902</td>\n",
       "      <td>1001</td>\n",
       "      <td>6546</td>\n",
       "      <td>0</td>\n",
       "    </tr>\n",
       "    <tr>\n",
       "      <th>Recovered</th>\n",
       "      <td>7198849</td>\n",
       "      <td>3988</td>\n",
       "      <td>773548</td>\n",
       "      <td>12182</td>\n",
       "      <td>188584</td>\n",
       "      <td>202007</td>\n",
       "      <td>13230</td>\n",
       "      <td>153654</td>\n",
       "      <td>3130</td>\n",
       "      <td>0</td>\n",
       "      <td>...</td>\n",
       "      <td>123047</td>\n",
       "      <td>169962</td>\n",
       "      <td>3449</td>\n",
       "      <td>671489</td>\n",
       "      <td>211912</td>\n",
       "      <td>28046</td>\n",
       "      <td>438512</td>\n",
       "      <td>55188</td>\n",
       "      <td>310086</td>\n",
       "      <td>0</td>\n",
       "    </tr>\n",
       "  </tbody>\n",
       "</table>\n",
       "<p>3 rows × 39 columns</p>\n",
       "</div>"
      ],
      "text/plain": [
       "                TT    AN      AP     AR      AS      BR     CH      CT    DN  \\\n",
       "Status                                                                         \n",
       "Confirmed  7945342  4249  808924  14391  204284  212705  14085  177608  3223   \n",
       "Deceased    118951    58    6606     35     912    1058    222    1861     2   \n",
       "Recovered  7198849  3988  773548  12182  188584  202007  13230  153654  3130   \n",
       "\n",
       "           DD  ...      PB      RJ    SK      TN      TG     TR      UP  \\\n",
       "Status         ...                                                        \n",
       "Confirmed   0  ...  131391  188048  3853  711713  231324  30254  472068   \n",
       "Deceased    0  ...    4125    1853    65   10956    1311    340    6902   \n",
       "Recovered   0  ...  123047  169962  3449  671489  211912  28046  438512   \n",
       "\n",
       "              UT      WB  UN  \n",
       "Status                        \n",
       "Confirmed  60744  353822   0  \n",
       "Deceased    1001    6546   0  \n",
       "Recovered  55188  310086   0  \n",
       "\n",
       "[3 rows x 39 columns]"
      ]
     },
     "execution_count": 7,
     "metadata": {},
     "output_type": "execute_result"
    }
   ],
   "source": [
    "#hide\n",
    "df_yday.head()"
   ]
  },
  {
   "cell_type": "code",
   "execution_count": 8,
   "metadata": {
    "execution": {
     "iopub.execute_input": "2020-10-27T19:14:36.034710Z",
     "iopub.status.busy": "2020-10-27T19:14:36.034180Z",
     "iopub.status.idle": "2020-10-27T19:14:36.040172Z",
     "shell.execute_reply": "2020-10-27T19:14:36.039740Z"
    },
    "papermill": {
     "duration": 0.027991,
     "end_time": "2020-10-27T19:14:36.040280",
     "exception": false,
     "start_time": "2020-10-27T19:14:36.012289",
     "status": "completed"
    },
    "tags": []
   },
   "outputs": [
    {
     "data": {
      "text/plain": [
       "{'updated': '27-Oct-20',\n",
       " 'since': '26-Oct-20',\n",
       " 'Cases': 7988056,\n",
       " 'Deaths': 119460,\n",
       " 'Recovered': 7256855,\n",
       " 'PCases': 7945342,\n",
       " 'PDeaths': 118951,\n",
       " 'PRecovered': 7198849,\n",
       " 'Cases (+)': 42714,\n",
       " 'Deaths (+)': 509,\n",
       " 'Recovered (+)': 58006}"
      ]
     },
     "execution_count": 8,
     "metadata": {},
     "output_type": "execute_result"
    }
   ],
   "source": [
    "#hide\n",
    "summary = {\n",
    "    'updated' : dt_today,\n",
    "    'since' : dt_yday,\n",
    "    'Cases' : df_today['TT'][0],\n",
    "    'Deaths' : df_today['TT'][1],\n",
    "    'Recovered' : df_today['TT'][2],\n",
    "    'PCases' : df_yday['TT'][0],\n",
    "    'PDeaths' : df_yday['TT'][1],\n",
    "    'PRecovered': df_yday['TT'][2],\n",
    "    'Cases (+)' : df_today['TT'][0] - df_yday['TT'][0],\n",
    "    'Deaths (+)' : df_today['TT'][1] - df_yday['TT'][1],\n",
    "    'Recovered (+)': df_today['TT'][2] - df_yday['TT'][2]\n",
    "}\n",
    "\n",
    "summary"
   ]
  },
  {
   "cell_type": "code",
   "execution_count": 9,
   "metadata": {
    "execution": {
     "iopub.execute_input": "2020-10-27T19:14:36.071074Z",
     "iopub.status.busy": "2020-10-27T19:14:36.070521Z",
     "iopub.status.idle": "2020-10-27T19:14:36.073668Z",
     "shell.execute_reply": "2020-10-27T19:14:36.073244Z"
    },
    "papermill": {
     "duration": 0.020621,
     "end_time": "2020-10-27T19:14:36.073786",
     "exception": false,
     "start_time": "2020-10-27T19:14:36.053165",
     "status": "completed"
    },
    "tags": []
   },
   "outputs": [],
   "source": [
    "#hide\n",
    "overview = '''\n",
    "<!-- #######  HTML!! #########-->\n",
    "<h1 style=\"color: #5e9ca0; text-align: center;\">India</h1>\n",
    "<p style=\"text-align: center;\">Last update: <strong>{update}</strong></p>\n",
    "<p style=\"text-align: center;\">Confirmed cases:</p>\n",
    "<p style=\"text-align: center;font-size:24px;\">{cases} (<span style=\"color: #ff0000;\">+{new}</span>)</p>\n",
    "<p style=\"text-align: center;\">Confirmed deaths:</p>\n",
    "<p style=\"text-align: center;font-size:24px;\">{deaths} (<span style=\"color: #ff0000;\">+{dnew}</span>)</p>\n",
    "<p style=\"text-align: center;\">Recovered cases:</p>\n",
    "<p style=\"text-align: center;font-size:24px;\">{recovered} (<span style=\"color: #00ff00;\">+{rnew}</span>)</p>\n",
    "'''"
   ]
  },
  {
   "cell_type": "code",
   "execution_count": 10,
   "metadata": {
    "execution": {
     "iopub.execute_input": "2020-10-27T19:14:36.109318Z",
     "iopub.status.busy": "2020-10-27T19:14:36.108782Z",
     "iopub.status.idle": "2020-10-27T19:14:36.111812Z",
     "shell.execute_reply": "2020-10-27T19:14:36.111361Z"
    },
    "papermill": {
     "duration": 0.024201,
     "end_time": "2020-10-27T19:14:36.111915",
     "exception": false,
     "start_time": "2020-10-27T19:14:36.087714",
     "status": "completed"
    },
    "tags": []
   },
   "outputs": [
    {
     "data": {
      "text/html": [
       "\n",
       "<!-- #######  HTML!! #########-->\n",
       "<h1 style=\"color: #5e9ca0; text-align: center;\">India</h1>\n",
       "<p style=\"text-align: center;\">Last update: <strong>27-Oct-20</strong></p>\n",
       "<p style=\"text-align: center;\">Confirmed cases:</p>\n",
       "<p style=\"text-align: center;font-size:24px;\">7988056 (<span style=\"color: #ff0000;\">+42714</span>)</p>\n",
       "<p style=\"text-align: center;\">Confirmed deaths:</p>\n",
       "<p style=\"text-align: center;font-size:24px;\">119460 (<span style=\"color: #ff0000;\">+509</span>)</p>\n",
       "<p style=\"text-align: center;\">Recovered cases:</p>\n",
       "<p style=\"text-align: center;font-size:24px;\">7256855 (<span style=\"color: #00ff00;\">+58006</span>)</p>\n"
      ],
      "text/plain": [
       "<IPython.core.display.HTML object>"
      ]
     },
     "metadata": {},
     "output_type": "display_data"
    }
   ],
   "source": [
    "#hide_input\n",
    "# Fill the above HTML with the information from the summary dictionary\n",
    "\n",
    "update = summary['updated']\n",
    "cases = summary['Cases']\n",
    "new = summary['Cases (+)']\n",
    "deaths = summary['Deaths']\n",
    "dnew = summary['Deaths (+)']\n",
    "recovered = summary['Recovered']\n",
    "rnew = summary['Recovered (+)']\n",
    "\n",
    "html = HTML(overview.format(update=update, cases=cases,new=new,deaths=deaths,dnew=dnew, recovered=recovered, rnew=rnew))\n",
    "\n",
    "display(html)"
   ]
  },
  {
   "cell_type": "code",
   "execution_count": 11,
   "metadata": {
    "execution": {
     "iopub.execute_input": "2020-10-27T19:14:36.149141Z",
     "iopub.status.busy": "2020-10-27T19:14:36.148599Z",
     "iopub.status.idle": "2020-10-27T19:14:36.152697Z",
     "shell.execute_reply": "2020-10-27T19:14:36.152237Z"
    },
    "papermill": {
     "duration": 0.027482,
     "end_time": "2020-10-27T19:14:36.152809",
     "exception": false,
     "start_time": "2020-10-27T19:14:36.125327",
     "status": "completed"
    },
    "tags": []
   },
   "outputs": [],
   "source": [
    "#hide\n",
    "df_cases = df[df['Status'] == 'Confirmed'].copy()\n",
    "df_cases.drop(columns = ['Status'], inplace=True)\n",
    "df_deaths = df[df['Status'] == 'Deceased'].copy()\n",
    "df_deaths.drop(columns = ['Status'], inplace=True)\n",
    "df_recovered = df[df['Status'] == 'Recovered'].copy()\n",
    "df_recovered.drop(columns = ['Status'], inplace=True)"
   ]
  },
  {
   "cell_type": "markdown",
   "metadata": {
    "papermill": {
     "duration": 0.013648,
     "end_time": "2020-10-27T19:14:36.180027",
     "exception": false,
     "start_time": "2020-10-27T19:14:36.166379",
     "status": "completed"
    },
    "tags": []
   },
   "source": [
    "Plot for India:"
   ]
  },
  {
   "cell_type": "code",
   "execution_count": 12,
   "metadata": {
    "execution": {
     "iopub.execute_input": "2020-10-27T19:14:36.229448Z",
     "iopub.status.busy": "2020-10-27T19:14:36.228840Z",
     "iopub.status.idle": "2020-10-27T19:14:36.474063Z",
     "shell.execute_reply": "2020-10-27T19:14:36.474534Z"
    },
    "papermill": {
     "duration": 0.280253,
     "end_time": "2020-10-27T19:14:36.474689",
     "exception": false,
     "start_time": "2020-10-27T19:14:36.194436",
     "status": "completed"
    },
    "tags": []
   },
   "outputs": [
    {
     "data": {
      "image/png": "[encoded data removed]",
      "text/plain": [
       "<Figure size 1296x432 with 1 Axes>"
      ]
     },
     "metadata": {
      "needs_background": "light"
     },
     "output_type": "display_data"
    }
   ],
   "source": [
    "#hide_input\n",
    "plt.figure(figsize = (18,6))\n",
    "plt.plot(df_cases['Date'], df_cases['TT'],'.-', alpha=0.7, color='b', label='Confirmed cases')\n",
    "plt.plot(df_recovered['Date'], df_recovered['TT'],'.-', alpha=0.7, color='g', label='Recovered')\n",
    "plt.plot(df_deaths['Date'], df_deaths['TT'],'.-', alpha=0.7, color='r', label='Deceased')\n",
    "plt.legend()\n",
    "plt.title(\"Cases per day in India\")\n",
    "plt.xticks(ticks=' ')\n",
    "plt.xlabel(f'{df_cases.iloc[0][0]} to {df_cases.iloc[-1][0]}')\n",
    "plt.ylabel('No. of cases');"
   ]
  },
  {
   "cell_type": "markdown",
   "metadata": {
    "papermill": {
     "duration": 0.016028,
     "end_time": "2020-10-27T19:14:36.507244",
     "exception": false,
     "start_time": "2020-10-27T19:14:36.491216",
     "status": "completed"
    },
    "tags": []
   },
   "source": [
    "Plots for the states with highest number of cases:"
   ]
  },
  {
   "cell_type": "markdown",
   "metadata": {
    "tags": [
     "papermill-error-cell-tag"
    ]
   },
   "source": [
    "<span id=\"papermill-error-cell\" style=\"color:red; font-family:Helvetica Neue, Helvetica, Arial, sans-serif; font-size:2em;\">Execution using papermill encountered an exception here and stopped:</span>"
   ]
  },
  {
   "cell_type": "code",
   "execution_count": 13,
   "metadata": {
    "execution": {
     "iopub.execute_input": "2020-10-27T19:14:36.555192Z",
     "iopub.status.busy": "2020-10-27T19:14:36.547773Z",
     "iopub.status.idle": "2020-10-27T19:14:36.652084Z",
     "shell.execute_reply": "2020-10-27T19:14:36.653303Z"
    },
    "papermill": {
     "duration": 0.13073,
     "end_time": "2020-10-27T19:14:36.653635",
     "exception": true,
     "start_time": "2020-10-27T19:14:36.522905",
     "status": "failed"
    },
    "tags": []
   },
   "outputs": [
    {
     "ename": "TypeError",
     "evalue": "'>' not supported between instances of 'numpy.ndarray' and 'str'",
     "output_type": "error",
     "traceback": [
      "\u001b[0;31m---------------------------------------------------------------------------\u001b[0m",
      "\u001b[0;31mTypeError\u001b[0m                                 Traceback (most recent call last)",
      "\u001b[0;32m<ipython-input-13-9711672c0a2c>\u001b[0m in \u001b[0;36m<module>\u001b[0;34m\u001b[0m\n\u001b[1;32m      1\u001b[0m \u001b[0;31m#hide_input\u001b[0m\u001b[0;34m\u001b[0m\u001b[0;34m\u001b[0m\u001b[0;34m\u001b[0m\u001b[0m\n\u001b[0;32m----> 2\u001b[0;31m \u001b[0mtop_3\u001b[0m \u001b[0;34m=\u001b[0m \u001b[0msorted\u001b[0m\u001b[0;34m(\u001b[0m\u001b[0mdf_cases\u001b[0m\u001b[0;34m.\u001b[0m\u001b[0msum\u001b[0m\u001b[0;34m(\u001b[0m\u001b[0;34m)\u001b[0m\u001b[0;34m.\u001b[0m\u001b[0mvalues\u001b[0m\u001b[0;34m[\u001b[0m\u001b[0;36m1\u001b[0m\u001b[0;34m:\u001b[0m\u001b[0;34m]\u001b[0m\u001b[0;34m,\u001b[0m \u001b[0mreverse\u001b[0m\u001b[0;34m=\u001b[0m\u001b[0;32mTrue\u001b[0m\u001b[0;34m)\u001b[0m\u001b[0;34m[\u001b[0m\u001b[0;36m1\u001b[0m\u001b[0;34m:\u001b[0m\u001b[0;36m4\u001b[0m\u001b[0;34m]\u001b[0m\u001b[0;34m\u001b[0m\u001b[0;34m\u001b[0m\u001b[0m\n\u001b[0m\u001b[1;32m      3\u001b[0m \u001b[0mtop3_states\u001b[0m\u001b[0;34m=\u001b[0m\u001b[0;34m[\u001b[0m\u001b[0;34m]\u001b[0m\u001b[0;34m\u001b[0m\u001b[0;34m\u001b[0m\u001b[0m\n\u001b[1;32m      4\u001b[0m \u001b[0;32mfor\u001b[0m \u001b[0mi\u001b[0m \u001b[0;32min\u001b[0m \u001b[0mtop_3\u001b[0m\u001b[0;34m:\u001b[0m\u001b[0;34m\u001b[0m\u001b[0;34m\u001b[0m\u001b[0m\n\u001b[1;32m      5\u001b[0m     \u001b[0mtop3_states\u001b[0m\u001b[0;34m.\u001b[0m\u001b[0mappend\u001b[0m\u001b[0;34m(\u001b[0m\u001b[0mdf_cases\u001b[0m\u001b[0;34m.\u001b[0m\u001b[0msum\u001b[0m\u001b[0;34m(\u001b[0m\u001b[0;34m)\u001b[0m\u001b[0;34m[\u001b[0m\u001b[0mdf_cases\u001b[0m\u001b[0;34m.\u001b[0m\u001b[0msum\u001b[0m\u001b[0;34m(\u001b[0m\u001b[0;34m)\u001b[0m \u001b[0;34m==\u001b[0m \u001b[0mi\u001b[0m\u001b[0;34m]\u001b[0m\u001b[0;34m.\u001b[0m\u001b[0mindex\u001b[0m\u001b[0;34m)\u001b[0m\u001b[0;34m\u001b[0m\u001b[0;34m\u001b[0m\u001b[0m\n",
      "\u001b[0;31mTypeError\u001b[0m: '>' not supported between instances of 'numpy.ndarray' and 'str'"
     ]
    }
   ],
   "source": [
    "#hide_input\n",
    "top_3 = sorted(df_cases.sum().values[1:], reverse=True)[1:4]\n",
    "top3_states=[]\n",
    "for i in top_3:\n",
    "    top3_states.append(df_cases.sum()[df_cases.sum() == i].index)\n",
    "\n",
    "\n",
    "fig, ax = plt.subplots(1,3,figsize = (21,6))\n",
    "for i in range(3):\n",
    "    state = top3_states[i].values[0]\n",
    "    ax[i].plot(df_cases['Date'], df_cases[state],'.-', color='b', alpha=0.7)\n",
    "    ax[i].plot(df_deaths['Date'], df_deaths[state],'.-', color='r', alpha=0.7)\n",
    "    ax[i].plot(df_recovered['Date'], df_recovered[state],'.-', color='g', alpha=0.7)\n",
    "    \n",
    "    ax[i].set_title(f\"Cases in {state}\")\n",
    "    ax[i].set_xticks(ticks=' ')\n",
    "    ax[i].set_xlabel(f'{df_cases.iloc[0][0]} to {df_cases.iloc[-1][0]}')\n",
    "    ax[i].set_ylabel('No. of cases');"
   ]
  },
  {
   "cell_type": "code",
   "execution_count": null,
   "metadata": {
    "papermill": {
     "duration": null,
     "end_time": null,
     "exception": null,
     "start_time": null,
     "status": "pending"
    },
    "tags": []
   },
   "outputs": [],
   "source": []
  },
  {
   "cell_type": "code",
   "execution_count": null,
   "metadata": {
    "papermill": {
     "duration": null,
     "end_time": null,
     "exception": null,
     "start_time": null,
     "status": "pending"
    },
    "tags": []
   },
   "outputs": [],
   "source": []
  },
  {
   "cell_type": "code",
   "execution_count": null,
   "metadata": {
    "papermill": {
     "duration": null,
     "end_time": null,
     "exception": null,
     "start_time": null,
     "status": "pending"
    },
    "tags": []
   },
   "outputs": [],
   "source": []
  }
 ],
 "metadata": {
  "kernelspec": {
   "display_name": "Python 3",
   "language": "python",
   "name": "python3"
  },
  "language_info": {
   "codemirror_mode": {
    "name": "ipython",
    "version": 3
   },
   "file_extension": ".py",
   "mimetype": "text/x-python",
   "name": "python",
   "nbconvert_exporter": "python",
   "pygments_lexer": "ipython3",
   "version": "3.6.12"
  },
  "papermill": {
   "duration": 3.199144,
   "end_time": "2020-10-27T19:14:37.059086",
   "environment_variables": {},
   "exception": true,
   "input_path": "2020-08-09-DailyUpdate.ipynb",
   "output_path": "2020-08-09-DailyUpdate.ipynb",
   "parameters": {},
   "start_time": "2020-10-27T19:14:33.859942",
   "version": "2.1.2"
  }
 },
 "nbformat": 4,
 "nbformat_minor": 4
}