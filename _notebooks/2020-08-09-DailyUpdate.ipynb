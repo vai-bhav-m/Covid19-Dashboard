{
 "cells": [
  {
   "cell_type": "markdown",
   "metadata": {
    "papermill": {
     "duration": 0.016337,
     "end_time": "2020-10-11T19:13:56.905951",
     "exception": false,
     "start_time": "2020-10-11T19:13:56.889614",
     "status": "completed"
    },
    "tags": []
   },
   "source": [
    "# COVID-19 India Daily updates\n",
    "> Tracking coronavirus total cases, deaths and new cases in India on a daily basis\n",
    "\n",
    "- author: Vaibhav Mahapatra"
   ]
  },
  {
   "cell_type": "code",
   "execution_count": 1,
   "metadata": {
    "execution": {
     "iopub.execute_input": "2020-10-11T19:13:56.939012Z",
     "iopub.status.busy": "2020-10-11T19:13:56.938340Z",
     "iopub.status.idle": "2020-10-11T19:13:57.555806Z",
     "shell.execute_reply": "2020-10-11T19:13:57.555230Z"
    },
    "papermill": {
     "duration": 0.636361,
     "end_time": "2020-10-11T19:13:57.555956",
     "exception": false,
     "start_time": "2020-10-11T19:13:56.919595",
     "status": "completed"
    },
    "tags": []
   },
   "outputs": [],
   "source": [
    "#hide\n",
    "\n",
    "## Import essential packages below\n",
    "\n",
    "import pandas as pd\n",
    "import numpy as np\n",
    "import requests\n",
    "import json\n",
    "import matplotlib.pyplot as plt\n",
    "import matplotlib.dates as mdates\n",
    "import matplotlib as mpl\n",
    "from IPython.core.display import display,HTML\n",
    "%matplotlib inline"
   ]
  },
  {
   "cell_type": "code",
   "execution_count": 2,
   "metadata": {
    "execution": {
     "iopub.execute_input": "2020-10-11T19:13:57.590621Z",
     "iopub.status.busy": "2020-10-11T19:13:57.589986Z",
     "iopub.status.idle": "2020-10-11T19:13:57.678400Z",
     "shell.execute_reply": "2020-10-11T19:13:57.678940Z"
    },
    "papermill": {
     "duration": 0.109421,
     "end_time": "2020-10-11T19:13:57.679094",
     "exception": false,
     "start_time": "2020-10-11T19:13:57.569673",
     "status": "completed"
    },
    "tags": []
   },
   "outputs": [
    {
     "data": {
      "text/plain": [
       "(633, 41)"
      ]
     },
     "execution_count": 2,
     "metadata": {},
     "output_type": "execute_result"
    }
   ],
   "source": [
    "#hide\n",
    "url = 'https://api.covid19india.org/csv/latest/state_wise_daily.csv'\n",
    "df = pd.read_csv(url)\n",
    "df.shape"
   ]
  },
  {
   "cell_type": "code",
   "execution_count": 3,
   "metadata": {
    "execution": {
     "iopub.execute_input": "2020-10-11T19:13:57.750499Z",
     "iopub.status.busy": "2020-10-11T19:13:57.749015Z",
     "iopub.status.idle": "2020-10-11T19:13:57.761746Z",
     "shell.execute_reply": "2020-10-11T19:13:57.762250Z"
    },
    "papermill": {
     "duration": 0.070287,
     "end_time": "2020-10-11T19:13:57.762433",
     "exception": false,
     "start_time": "2020-10-11T19:13:57.692146",
     "status": "completed"
    },
    "tags": []
   },
   "outputs": [
    {
     "data": {
      "text/html": [
       "<div>\n",
       "<style scoped>\n",
       "    .dataframe tbody tr th:only-of-type {\n",
       "        vertical-align: middle;\n",
       "    }\n",
       "\n",
       "    .dataframe tbody tr th {\n",
       "        vertical-align: top;\n",
       "    }\n",
       "\n",
       "    .dataframe thead th {\n",
       "        text-align: right;\n",
       "    }\n",
       "</style>\n",
       "<table border=\"1\" class=\"dataframe\">\n",
       "  <thead>\n",
       "    <tr style=\"text-align: right;\">\n",
       "      <th></th>\n",
       "      <th>Date</th>\n",
       "      <th>Status</th>\n",
       "      <th>TT</th>\n",
       "      <th>AN</th>\n",
       "      <th>AP</th>\n",
       "      <th>AR</th>\n",
       "      <th>AS</th>\n",
       "      <th>BR</th>\n",
       "      <th>CH</th>\n",
       "      <th>CT</th>\n",
       "      <th>...</th>\n",
       "      <th>PB</th>\n",
       "      <th>RJ</th>\n",
       "      <th>SK</th>\n",
       "      <th>TN</th>\n",
       "      <th>TG</th>\n",
       "      <th>TR</th>\n",
       "      <th>UP</th>\n",
       "      <th>UT</th>\n",
       "      <th>WB</th>\n",
       "      <th>UN</th>\n",
       "    </tr>\n",
       "  </thead>\n",
       "  <tbody>\n",
       "    <tr>\n",
       "      <th>627</th>\n",
       "      <td>09-Oct-20</td>\n",
       "      <td>Confirmed</td>\n",
       "      <td>73305</td>\n",
       "      <td>24</td>\n",
       "      <td>5145</td>\n",
       "      <td>281</td>\n",
       "      <td>1019</td>\n",
       "      <td>1155</td>\n",
       "      <td>63</td>\n",
       "      <td>2958</td>\n",
       "      <td>...</td>\n",
       "      <td>743</td>\n",
       "      <td>2180</td>\n",
       "      <td>33</td>\n",
       "      <td>5185</td>\n",
       "      <td>1891</td>\n",
       "      <td>223</td>\n",
       "      <td>3207</td>\n",
       "      <td>704</td>\n",
       "      <td>3573</td>\n",
       "      <td>0</td>\n",
       "    </tr>\n",
       "    <tr>\n",
       "      <th>628</th>\n",
       "      <td>09-Oct-20</td>\n",
       "      <td>Recovered</td>\n",
       "      <td>82628</td>\n",
       "      <td>17</td>\n",
       "      <td>6110</td>\n",
       "      <td>198</td>\n",
       "      <td>2068</td>\n",
       "      <td>1424</td>\n",
       "      <td>161</td>\n",
       "      <td>2908</td>\n",
       "      <td>...</td>\n",
       "      <td>1333</td>\n",
       "      <td>2148</td>\n",
       "      <td>71</td>\n",
       "      <td>5357</td>\n",
       "      <td>1878</td>\n",
       "      <td>408</td>\n",
       "      <td>4424</td>\n",
       "      <td>1239</td>\n",
       "      <td>3069</td>\n",
       "      <td>0</td>\n",
       "    </tr>\n",
       "    <tr>\n",
       "      <th>629</th>\n",
       "      <td>09-Oct-20</td>\n",
       "      <td>Deceased</td>\n",
       "      <td>929</td>\n",
       "      <td>0</td>\n",
       "      <td>31</td>\n",
       "      <td>1</td>\n",
       "      <td>8</td>\n",
       "      <td>5</td>\n",
       "      <td>2</td>\n",
       "      <td>38</td>\n",
       "      <td>...</td>\n",
       "      <td>32</td>\n",
       "      <td>16</td>\n",
       "      <td>2</td>\n",
       "      <td>68</td>\n",
       "      <td>7</td>\n",
       "      <td>7</td>\n",
       "      <td>48</td>\n",
       "      <td>14</td>\n",
       "      <td>62</td>\n",
       "      <td>0</td>\n",
       "    </tr>\n",
       "    <tr>\n",
       "      <th>630</th>\n",
       "      <td>10-Oct-20</td>\n",
       "      <td>Confirmed</td>\n",
       "      <td>74418</td>\n",
       "      <td>16</td>\n",
       "      <td>5653</td>\n",
       "      <td>238</td>\n",
       "      <td>971</td>\n",
       "      <td>1140</td>\n",
       "      <td>96</td>\n",
       "      <td>2688</td>\n",
       "      <td>...</td>\n",
       "      <td>858</td>\n",
       "      <td>2123</td>\n",
       "      <td>42</td>\n",
       "      <td>5242</td>\n",
       "      <td>1811</td>\n",
       "      <td>171</td>\n",
       "      <td>3046</td>\n",
       "      <td>462</td>\n",
       "      <td>3591</td>\n",
       "      <td>0</td>\n",
       "    </tr>\n",
       "    <tr>\n",
       "      <th>631</th>\n",
       "      <td>10-Oct-20</td>\n",
       "      <td>Recovered</td>\n",
       "      <td>89022</td>\n",
       "      <td>20</td>\n",
       "      <td>6659</td>\n",
       "      <td>158</td>\n",
       "      <td>1451</td>\n",
       "      <td>1226</td>\n",
       "      <td>157</td>\n",
       "      <td>2719</td>\n",
       "      <td>...</td>\n",
       "      <td>1234</td>\n",
       "      <td>2152</td>\n",
       "      <td>95</td>\n",
       "      <td>5222</td>\n",
       "      <td>2072</td>\n",
       "      <td>327</td>\n",
       "      <td>4063</td>\n",
       "      <td>412</td>\n",
       "      <td>3032</td>\n",
       "      <td>0</td>\n",
       "    </tr>\n",
       "    <tr>\n",
       "      <th>632</th>\n",
       "      <td>10-Oct-20</td>\n",
       "      <td>Deceased</td>\n",
       "      <td>921</td>\n",
       "      <td>0</td>\n",
       "      <td>35</td>\n",
       "      <td>0</td>\n",
       "      <td>9</td>\n",
       "      <td>10</td>\n",
       "      <td>2</td>\n",
       "      <td>39</td>\n",
       "      <td>...</td>\n",
       "      <td>25</td>\n",
       "      <td>15</td>\n",
       "      <td>1</td>\n",
       "      <td>67</td>\n",
       "      <td>9</td>\n",
       "      <td>2</td>\n",
       "      <td>60</td>\n",
       "      <td>18</td>\n",
       "      <td>62</td>\n",
       "      <td>0</td>\n",
       "    </tr>\n",
       "  </tbody>\n",
       "</table>\n",
       "<p>6 rows × 41 columns</p>\n",
       "</div>"
      ],
      "text/plain": [
       "          Date     Status     TT  AN    AP   AR    AS    BR   CH    CT  ...  \\\n",
       "627  09-Oct-20  Confirmed  73305  24  5145  281  1019  1155   63  2958  ...   \n",
       "628  09-Oct-20  Recovered  82628  17  6110  198  2068  1424  161  2908  ...   \n",
       "629  09-Oct-20   Deceased    929   0    31    1     8     5    2    38  ...   \n",
       "630  10-Oct-20  Confirmed  74418  16  5653  238   971  1140   96  2688  ...   \n",
       "631  10-Oct-20  Recovered  89022  20  6659  158  1451  1226  157  2719  ...   \n",
       "632  10-Oct-20   Deceased    921   0    35    0     9    10    2    39  ...   \n",
       "\n",
       "       PB    RJ  SK    TN    TG   TR    UP    UT    WB  UN  \n",
       "627   743  2180  33  5185  1891  223  3207   704  3573   0  \n",
       "628  1333  2148  71  5357  1878  408  4424  1239  3069   0  \n",
       "629    32    16   2    68     7    7    48    14    62   0  \n",
       "630   858  2123  42  5242  1811  171  3046   462  3591   0  \n",
       "631  1234  2152  95  5222  2072  327  4063   412  3032   0  \n",
       "632    25    15   1    67     9    2    60    18    62   0  \n",
       "\n",
       "[6 rows x 41 columns]"
      ]
     },
     "execution_count": 3,
     "metadata": {},
     "output_type": "execute_result"
    }
   ],
   "source": [
    "#hide\n",
    "df.tail(6)"
   ]
  },
  {
   "cell_type": "code",
   "execution_count": 4,
   "metadata": {
    "execution": {
     "iopub.execute_input": "2020-10-11T19:13:57.795816Z",
     "iopub.status.busy": "2020-10-11T19:13:57.795085Z",
     "iopub.status.idle": "2020-10-11T19:13:57.798026Z",
     "shell.execute_reply": "2020-10-11T19:13:57.798585Z"
    },
    "papermill": {
     "duration": 0.022537,
     "end_time": "2020-10-11T19:13:57.798759",
     "exception": false,
     "start_time": "2020-10-11T19:13:57.776222",
     "status": "completed"
    },
    "tags": []
   },
   "outputs": [
    {
     "data": {
      "text/plain": [
       "('10-Oct-20', '09-Oct-20')"
      ]
     },
     "execution_count": 4,
     "metadata": {},
     "output_type": "execute_result"
    }
   ],
   "source": [
    "#hide\n",
    "dt_today = df.iloc[-1][0]\n",
    "dt_yday = df.iloc[-4][0]\n",
    "dt_today, dt_yday"
   ]
  },
  {
   "cell_type": "code",
   "execution_count": 5,
   "metadata": {
    "execution": {
     "iopub.execute_input": "2020-10-11T19:13:57.833419Z",
     "iopub.status.busy": "2020-10-11T19:13:57.832156Z",
     "iopub.status.idle": "2020-10-11T19:13:57.839686Z",
     "shell.execute_reply": "2020-10-11T19:13:57.839116Z"
    },
    "papermill": {
     "duration": 0.027139,
     "end_time": "2020-10-11T19:13:57.839843",
     "exception": false,
     "start_time": "2020-10-11T19:13:57.812704",
     "status": "completed"
    },
    "tags": []
   },
   "outputs": [],
   "source": [
    "#hide\n",
    "df_today = df.groupby('Status').sum()\n",
    "df_yday = df.iloc[:-3][:].groupby('Status').sum()"
   ]
  },
  {
   "cell_type": "code",
   "execution_count": 6,
   "metadata": {
    "execution": {
     "iopub.execute_input": "2020-10-11T19:13:57.884112Z",
     "iopub.status.busy": "2020-10-11T19:13:57.883496Z",
     "iopub.status.idle": "2020-10-11T19:13:57.886873Z",
     "shell.execute_reply": "2020-10-11T19:13:57.886267Z"
    },
    "papermill": {
     "duration": 0.033186,
     "end_time": "2020-10-11T19:13:57.886992",
     "exception": false,
     "start_time": "2020-10-11T19:13:57.853806",
     "status": "completed"
    },
    "tags": []
   },
   "outputs": [
    {
     "data": {
      "text/html": [
       "<div>\n",
       "<style scoped>\n",
       "    .dataframe tbody tr th:only-of-type {\n",
       "        vertical-align: middle;\n",
       "    }\n",
       "\n",
       "    .dataframe tbody tr th {\n",
       "        vertical-align: top;\n",
       "    }\n",
       "\n",
       "    .dataframe thead th {\n",
       "        text-align: right;\n",
       "    }\n",
       "</style>\n",
       "<table border=\"1\" class=\"dataframe\">\n",
       "  <thead>\n",
       "    <tr style=\"text-align: right;\">\n",
       "      <th></th>\n",
       "      <th>TT</th>\n",
       "      <th>AN</th>\n",
       "      <th>AP</th>\n",
       "      <th>AR</th>\n",
       "      <th>AS</th>\n",
       "      <th>BR</th>\n",
       "      <th>CH</th>\n",
       "      <th>CT</th>\n",
       "      <th>DN</th>\n",
       "      <th>DD</th>\n",
       "      <th>...</th>\n",
       "      <th>PB</th>\n",
       "      <th>RJ</th>\n",
       "      <th>SK</th>\n",
       "      <th>TN</th>\n",
       "      <th>TG</th>\n",
       "      <th>TR</th>\n",
       "      <th>UP</th>\n",
       "      <th>UT</th>\n",
       "      <th>WB</th>\n",
       "      <th>UN</th>\n",
       "    </tr>\n",
       "    <tr>\n",
       "      <th>Status</th>\n",
       "      <th></th>\n",
       "      <th></th>\n",
       "      <th></th>\n",
       "      <th></th>\n",
       "      <th></th>\n",
       "      <th></th>\n",
       "      <th></th>\n",
       "      <th></th>\n",
       "      <th></th>\n",
       "      <th></th>\n",
       "      <th></th>\n",
       "      <th></th>\n",
       "      <th></th>\n",
       "      <th></th>\n",
       "      <th></th>\n",
       "      <th></th>\n",
       "      <th></th>\n",
       "      <th></th>\n",
       "      <th></th>\n",
       "      <th></th>\n",
       "      <th></th>\n",
       "    </tr>\n",
       "  </thead>\n",
       "  <tbody>\n",
       "    <tr>\n",
       "      <th>Confirmed</th>\n",
       "      <td>7050879</td>\n",
       "      <td>3988</td>\n",
       "      <td>750517</td>\n",
       "      <td>11998</td>\n",
       "      <td>193285</td>\n",
       "      <td>194966</td>\n",
       "      <td>13081</td>\n",
       "      <td>140258</td>\n",
       "      <td>3149</td>\n",
       "      <td>0</td>\n",
       "      <td>...</td>\n",
       "      <td>123317</td>\n",
       "      <td>156908</td>\n",
       "      <td>3334</td>\n",
       "      <td>651370</td>\n",
       "      <td>209836</td>\n",
       "      <td>28150</td>\n",
       "      <td>433712</td>\n",
       "      <td>54525</td>\n",
       "      <td>291194</td>\n",
       "      <td>0</td>\n",
       "    </tr>\n",
       "    <tr>\n",
       "      <th>Deceased</th>\n",
       "      <td>107784</td>\n",
       "      <td>55</td>\n",
       "      <td>6194</td>\n",
       "      <td>23</td>\n",
       "      <td>815</td>\n",
       "      <td>944</td>\n",
       "      <td>190</td>\n",
       "      <td>1235</td>\n",
       "      <td>2</td>\n",
       "      <td>0</td>\n",
       "      <td>...</td>\n",
       "      <td>3798</td>\n",
       "      <td>1636</td>\n",
       "      <td>55</td>\n",
       "      <td>10187</td>\n",
       "      <td>1217</td>\n",
       "      <td>310</td>\n",
       "      <td>6353</td>\n",
       "      <td>734</td>\n",
       "      <td>5563</td>\n",
       "      <td>0</td>\n",
       "    </tr>\n",
       "    <tr>\n",
       "      <th>Recovered</th>\n",
       "      <td>6074835</td>\n",
       "      <td>3735</td>\n",
       "      <td>697699</td>\n",
       "      <td>9035</td>\n",
       "      <td>163352</td>\n",
       "      <td>183007</td>\n",
       "      <td>11662</td>\n",
       "      <td>111654</td>\n",
       "      <td>3006</td>\n",
       "      <td>0</td>\n",
       "      <td>...</td>\n",
       "      <td>109767</td>\n",
       "      <td>133918</td>\n",
       "      <td>2736</td>\n",
       "      <td>597033</td>\n",
       "      <td>183025</td>\n",
       "      <td>23778</td>\n",
       "      <td>387149</td>\n",
       "      <td>46186</td>\n",
       "      <td>255838</td>\n",
       "      <td>0</td>\n",
       "    </tr>\n",
       "  </tbody>\n",
       "</table>\n",
       "<p>3 rows × 39 columns</p>\n",
       "</div>"
      ],
      "text/plain": [
       "                TT    AN      AP     AR      AS      BR     CH      CT    DN  \\\n",
       "Status                                                                         \n",
       "Confirmed  7050879  3988  750517  11998  193285  194966  13081  140258  3149   \n",
       "Deceased    107784    55    6194     23     815     944    190    1235     2   \n",
       "Recovered  6074835  3735  697699   9035  163352  183007  11662  111654  3006   \n",
       "\n",
       "           DD  ...      PB      RJ    SK      TN      TG     TR      UP  \\\n",
       "Status         ...                                                        \n",
       "Confirmed   0  ...  123317  156908  3334  651370  209836  28150  433712   \n",
       "Deceased    0  ...    3798    1636    55   10187    1217    310    6353   \n",
       "Recovered   0  ...  109767  133918  2736  597033  183025  23778  387149   \n",
       "\n",
       "              UT      WB  UN  \n",
       "Status                        \n",
       "Confirmed  54525  291194   0  \n",
       "Deceased     734    5563   0  \n",
       "Recovered  46186  255838   0  \n",
       "\n",
       "[3 rows x 39 columns]"
      ]
     },
     "execution_count": 6,
     "metadata": {},
     "output_type": "execute_result"
    }
   ],
   "source": [
    "#hide\n",
    "df_today"
   ]
  },
  {
   "cell_type": "code",
   "execution_count": 7,
   "metadata": {
    "execution": {
     "iopub.execute_input": "2020-10-11T19:13:57.931492Z",
     "iopub.status.busy": "2020-10-11T19:13:57.930786Z",
     "iopub.status.idle": "2020-10-11T19:13:57.934169Z",
     "shell.execute_reply": "2020-10-11T19:13:57.933650Z"
    },
    "papermill": {
     "duration": 0.03307,
     "end_time": "2020-10-11T19:13:57.934286",
     "exception": false,
     "start_time": "2020-10-11T19:13:57.901216",
     "status": "completed"
    },
    "tags": []
   },
   "outputs": [
    {
     "data": {
      "text/html": [
       "<div>\n",
       "<style scoped>\n",
       "    .dataframe tbody tr th:only-of-type {\n",
       "        vertical-align: middle;\n",
       "    }\n",
       "\n",
       "    .dataframe tbody tr th {\n",
       "        vertical-align: top;\n",
       "    }\n",
       "\n",
       "    .dataframe thead th {\n",
       "        text-align: right;\n",
       "    }\n",
       "</style>\n",
       "<table border=\"1\" class=\"dataframe\">\n",
       "  <thead>\n",
       "    <tr style=\"text-align: right;\">\n",
       "      <th></th>\n",
       "      <th>TT</th>\n",
       "      <th>AN</th>\n",
       "      <th>AP</th>\n",
       "      <th>AR</th>\n",
       "      <th>AS</th>\n",
       "      <th>BR</th>\n",
       "      <th>CH</th>\n",
       "      <th>CT</th>\n",
       "      <th>DN</th>\n",
       "      <th>DD</th>\n",
       "      <th>...</th>\n",
       "      <th>PB</th>\n",
       "      <th>RJ</th>\n",
       "      <th>SK</th>\n",
       "      <th>TN</th>\n",
       "      <th>TG</th>\n",
       "      <th>TR</th>\n",
       "      <th>UP</th>\n",
       "      <th>UT</th>\n",
       "      <th>WB</th>\n",
       "      <th>UN</th>\n",
       "    </tr>\n",
       "    <tr>\n",
       "      <th>Status</th>\n",
       "      <th></th>\n",
       "      <th></th>\n",
       "      <th></th>\n",
       "      <th></th>\n",
       "      <th></th>\n",
       "      <th></th>\n",
       "      <th></th>\n",
       "      <th></th>\n",
       "      <th></th>\n",
       "      <th></th>\n",
       "      <th></th>\n",
       "      <th></th>\n",
       "      <th></th>\n",
       "      <th></th>\n",
       "      <th></th>\n",
       "      <th></th>\n",
       "      <th></th>\n",
       "      <th></th>\n",
       "      <th></th>\n",
       "      <th></th>\n",
       "      <th></th>\n",
       "    </tr>\n",
       "  </thead>\n",
       "  <tbody>\n",
       "    <tr>\n",
       "      <th>Confirmed</th>\n",
       "      <td>6976461</td>\n",
       "      <td>3972</td>\n",
       "      <td>744864</td>\n",
       "      <td>11760</td>\n",
       "      <td>192314</td>\n",
       "      <td>193826</td>\n",
       "      <td>12985</td>\n",
       "      <td>137570</td>\n",
       "      <td>3137</td>\n",
       "      <td>0</td>\n",
       "      <td>...</td>\n",
       "      <td>122459</td>\n",
       "      <td>154785</td>\n",
       "      <td>3292</td>\n",
       "      <td>646128</td>\n",
       "      <td>208025</td>\n",
       "      <td>27979</td>\n",
       "      <td>430666</td>\n",
       "      <td>54063</td>\n",
       "      <td>287603</td>\n",
       "      <td>0</td>\n",
       "    </tr>\n",
       "    <tr>\n",
       "      <th>Deceased</th>\n",
       "      <td>106863</td>\n",
       "      <td>55</td>\n",
       "      <td>6159</td>\n",
       "      <td>23</td>\n",
       "      <td>806</td>\n",
       "      <td>934</td>\n",
       "      <td>188</td>\n",
       "      <td>1196</td>\n",
       "      <td>2</td>\n",
       "      <td>0</td>\n",
       "      <td>...</td>\n",
       "      <td>3773</td>\n",
       "      <td>1621</td>\n",
       "      <td>54</td>\n",
       "      <td>10120</td>\n",
       "      <td>1208</td>\n",
       "      <td>308</td>\n",
       "      <td>6293</td>\n",
       "      <td>716</td>\n",
       "      <td>5501</td>\n",
       "      <td>0</td>\n",
       "    </tr>\n",
       "    <tr>\n",
       "      <th>Recovered</th>\n",
       "      <td>5985813</td>\n",
       "      <td>3715</td>\n",
       "      <td>691040</td>\n",
       "      <td>8877</td>\n",
       "      <td>161901</td>\n",
       "      <td>181781</td>\n",
       "      <td>11505</td>\n",
       "      <td>108935</td>\n",
       "      <td>2995</td>\n",
       "      <td>0</td>\n",
       "      <td>...</td>\n",
       "      <td>108533</td>\n",
       "      <td>131766</td>\n",
       "      <td>2641</td>\n",
       "      <td>591811</td>\n",
       "      <td>180953</td>\n",
       "      <td>23451</td>\n",
       "      <td>383086</td>\n",
       "      <td>45774</td>\n",
       "      <td>252806</td>\n",
       "      <td>0</td>\n",
       "    </tr>\n",
       "  </tbody>\n",
       "</table>\n",
       "<p>3 rows × 39 columns</p>\n",
       "</div>"
      ],
      "text/plain": [
       "                TT    AN      AP     AR      AS      BR     CH      CT    DN  \\\n",
       "Status                                                                         \n",
       "Confirmed  6976461  3972  744864  11760  192314  193826  12985  137570  3137   \n",
       "Deceased    106863    55    6159     23     806     934    188    1196     2   \n",
       "Recovered  5985813  3715  691040   8877  161901  181781  11505  108935  2995   \n",
       "\n",
       "           DD  ...      PB      RJ    SK      TN      TG     TR      UP  \\\n",
       "Status         ...                                                        \n",
       "Confirmed   0  ...  122459  154785  3292  646128  208025  27979  430666   \n",
       "Deceased    0  ...    3773    1621    54   10120    1208    308    6293   \n",
       "Recovered   0  ...  108533  131766  2641  591811  180953  23451  383086   \n",
       "\n",
       "              UT      WB  UN  \n",
       "Status                        \n",
       "Confirmed  54063  287603   0  \n",
       "Deceased     716    5501   0  \n",
       "Recovered  45774  252806   0  \n",
       "\n",
       "[3 rows x 39 columns]"
      ]
     },
     "execution_count": 7,
     "metadata": {},
     "output_type": "execute_result"
    }
   ],
   "source": [
    "#hide\n",
    "df_yday.head()"
   ]
  },
  {
   "cell_type": "code",
   "execution_count": 8,
   "metadata": {
    "execution": {
     "iopub.execute_input": "2020-10-11T19:13:57.971691Z",
     "iopub.status.busy": "2020-10-11T19:13:57.970958Z",
     "iopub.status.idle": "2020-10-11T19:13:57.974446Z",
     "shell.execute_reply": "2020-10-11T19:13:57.973803Z"
    },
    "papermill": {
     "duration": 0.025909,
     "end_time": "2020-10-11T19:13:57.974648",
     "exception": false,
     "start_time": "2020-10-11T19:13:57.948739",
     "status": "completed"
    },
    "tags": []
   },
   "outputs": [
    {
     "data": {
      "text/plain": [
       "{'updated': '10-Oct-20',\n",
       " 'since': '09-Oct-20',\n",
       " 'Cases': 7050879,\n",
       " 'Deaths': 107784,\n",
       " 'Recovered': 6074835,\n",
       " 'PCases': 6976461,\n",
       " 'PDeaths': 106863,\n",
       " 'PRecovered': 5985813,\n",
       " 'Cases (+)': 74418,\n",
       " 'Deaths (+)': 921,\n",
       " 'Recovered (+)': 89022}"
      ]
     },
     "execution_count": 8,
     "metadata": {},
     "output_type": "execute_result"
    }
   ],
   "source": [
    "#hide\n",
    "summary = {\n",
    "    'updated' : dt_today,\n",
    "    'since' : dt_yday,\n",
    "    'Cases' : df_today['TT'][0],\n",
    "    'Deaths' : df_today['TT'][1],\n",
    "    'Recovered' : df_today['TT'][2],\n",
    "    'PCases' : df_yday['TT'][0],\n",
    "    'PDeaths' : df_yday['TT'][1],\n",
    "    'PRecovered': df_yday['TT'][2],\n",
    "    'Cases (+)' : df_today['TT'][0] - df_yday['TT'][0],\n",
    "    'Deaths (+)' : df_today['TT'][1] - df_yday['TT'][1],\n",
    "    'Recovered (+)': df_today['TT'][2] - df_yday['TT'][2]\n",
    "}\n",
    "\n",
    "summary"
   ]
  },
  {
   "cell_type": "code",
   "execution_count": 9,
   "metadata": {
    "execution": {
     "iopub.execute_input": "2020-10-11T19:13:58.011483Z",
     "iopub.status.busy": "2020-10-11T19:13:58.010740Z",
     "iopub.status.idle": "2020-10-11T19:13:58.012862Z",
     "shell.execute_reply": "2020-10-11T19:13:58.013376Z"
    },
    "papermill": {
     "duration": 0.023867,
     "end_time": "2020-10-11T19:13:58.013523",
     "exception": false,
     "start_time": "2020-10-11T19:13:57.989656",
     "status": "completed"
    },
    "tags": []
   },
   "outputs": [],
   "source": [
    "#hide\n",
    "overview = '''\n",
    "<!-- #######  HTML!! #########-->\n",
    "<h1 style=\"color: #5e9ca0; text-align: center;\">India</h1>\n",
    "<p style=\"text-align: center;\">Last update: <strong>{update}</strong></p>\n",
    "<p style=\"text-align: center;\">Confirmed cases:</p>\n",
    "<p style=\"text-align: center;font-size:24px;\">{cases} (<span style=\"color: #ff0000;\">+{new}</span>)</p>\n",
    "<p style=\"text-align: center;\">Confirmed deaths:</p>\n",
    "<p style=\"text-align: center;font-size:24px;\">{deaths} (<span style=\"color: #ff0000;\">+{dnew}</span>)</p>\n",
    "<p style=\"text-align: center;\">Recovered cases:</p>\n",
    "<p style=\"text-align: center;font-size:24px;\">{recovered} (<span style=\"color: #00ff00;\">+{rnew}</span>)</p>\n",
    "'''"
   ]
  },
  {
   "cell_type": "code",
   "execution_count": 10,
   "metadata": {
    "execution": {
     "iopub.execute_input": "2020-10-11T19:13:58.049670Z",
     "iopub.status.busy": "2020-10-11T19:13:58.048949Z",
     "iopub.status.idle": "2020-10-11T19:13:58.052740Z",
     "shell.execute_reply": "2020-10-11T19:13:58.051972Z"
    },
    "papermill": {
     "duration": 0.024554,
     "end_time": "2020-10-11T19:13:58.052882",
     "exception": false,
     "start_time": "2020-10-11T19:13:58.028328",
     "status": "completed"
    },
    "tags": []
   },
   "outputs": [
    {
     "data": {
      "text/html": [
       "\n",
       "<!-- #######  HTML!! #########-->\n",
       "<h1 style=\"color: #5e9ca0; text-align: center;\">India</h1>\n",
       "<p style=\"text-align: center;\">Last update: <strong>10-Oct-20</strong></p>\n",
       "<p style=\"text-align: center;\">Confirmed cases:</p>\n",
       "<p style=\"text-align: center;font-size:24px;\">7050879 (<span style=\"color: #ff0000;\">+74418</span>)</p>\n",
       "<p style=\"text-align: center;\">Confirmed deaths:</p>\n",
       "<p style=\"text-align: center;font-size:24px;\">107784 (<span style=\"color: #ff0000;\">+921</span>)</p>\n",
       "<p style=\"text-align: center;\">Recovered cases:</p>\n",
       "<p style=\"text-align: center;font-size:24px;\">6074835 (<span style=\"color: #00ff00;\">+89022</span>)</p>\n"
      ],
      "text/plain": [
       "<IPython.core.display.HTML object>"
      ]
     },
     "metadata": {},
     "output_type": "display_data"
    }
   ],
   "source": [
    "#hide_input\n",
    "# Fill the above HTML with the information from the summary dictionary\n",
    "\n",
    "update = summary['updated']\n",
    "cases = summary['Cases']\n",
    "new = summary['Cases (+)']\n",
    "deaths = summary['Deaths']\n",
    "dnew = summary['Deaths (+)']\n",
    "recovered = summary['Recovered']\n",
    "rnew = summary['Recovered (+)']\n",
    "\n",
    "html = HTML(overview.format(update=update, cases=cases,new=new,deaths=deaths,dnew=dnew, recovered=recovered, rnew=rnew))\n",
    "\n",
    "display(html)"
   ]
  },
  {
   "cell_type": "code",
   "execution_count": 11,
   "metadata": {
    "execution": {
     "iopub.execute_input": "2020-10-11T19:13:58.098038Z",
     "iopub.status.busy": "2020-10-11T19:13:58.097350Z",
     "iopub.status.idle": "2020-10-11T19:13:58.104533Z",
     "shell.execute_reply": "2020-10-11T19:13:58.105168Z"
    },
    "papermill": {
     "duration": 0.035786,
     "end_time": "2020-10-11T19:13:58.105332",
     "exception": false,
     "start_time": "2020-10-11T19:13:58.069546",
     "status": "completed"
    },
    "tags": []
   },
   "outputs": [],
   "source": [
    "#hide\n",
    "df_cases = df[df['Status'] == 'Confirmed'].copy()\n",
    "df_cases.drop(columns = ['Status'], inplace=True)\n",
    "df_deaths = df[df['Status'] == 'Deceased'].copy()\n",
    "df_deaths.drop(columns = ['Status'], inplace=True)\n",
    "df_recovered = df[df['Status'] == 'Recovered'].copy()\n",
    "df_recovered.drop(columns = ['Status'], inplace=True)"
   ]
  },
  {
   "cell_type": "markdown",
   "metadata": {
    "papermill": {
     "duration": 0.015103,
     "end_time": "2020-10-11T19:13:58.137026",
     "exception": false,
     "start_time": "2020-10-11T19:13:58.121923",
     "status": "completed"
    },
    "tags": []
   },
   "source": [
    "Plot for India:"
   ]
  },
  {
   "cell_type": "code",
   "execution_count": 12,
   "metadata": {
    "execution": {
     "iopub.execute_input": "2020-10-11T19:13:58.185802Z",
     "iopub.status.busy": "2020-10-11T19:13:58.185222Z",
     "iopub.status.idle": "2020-10-11T19:13:58.451054Z",
     "shell.execute_reply": "2020-10-11T19:13:58.451539Z"
    },
    "papermill": {
     "duration": 0.30078,
     "end_time": "2020-10-11T19:13:58.451686",
     "exception": false,
     "start_time": "2020-10-11T19:13:58.150906",
     "status": "completed"
    },
    "tags": []
   },
   "outputs": [
    {
     "data": {
      "image/png": "[encoded data removed]",
      "text/plain": [
       "<Figure size 1296x432 with 1 Axes>"
      ]
     },
     "metadata": {
      "needs_background": "light"
     },
     "output_type": "display_data"
    }
   ],
   "source": [
    "#hide_input\n",
    "plt.figure(figsize = (18,6))\n",
    "plt.plot(df_cases['Date'], df_cases['TT'],'.-', alpha=0.7, color='b', label='Confirmed cases')\n",
    "plt.plot(df_recovered['Date'], df_recovered['TT'],'.-', alpha=0.7, color='g', label='Recovered')\n",
    "plt.plot(df_deaths['Date'], df_deaths['TT'],'.-', alpha=0.7, color='r', label='Deceased')\n",
    "plt.legend()\n",
    "plt.title(\"Cases per day in India\")\n",
    "plt.xticks(ticks=' ')\n",
    "plt.xlabel(f'{df_cases.iloc[0][0]} to {df_cases.iloc[-1][0]}')\n",
    "plt.ylabel('No. of cases');"
   ]
  },
  {
   "cell_type": "markdown",
   "metadata": {
    "papermill": {
     "duration": 0.01575,
     "end_time": "2020-10-11T19:13:58.483140",
     "exception": false,
     "start_time": "2020-10-11T19:13:58.467390",
     "status": "completed"
    },
    "tags": []
   },
   "source": [
    "Plots for the states with highest number of cases:"
   ]
  },
  {
   "cell_type": "code",
   "execution_count": 13,
   "metadata": {
    "execution": {
     "iopub.execute_input": "2020-10-11T19:13:58.524094Z",
     "iopub.status.busy": "2020-10-11T19:13:58.523457Z",
     "iopub.status.idle": "2020-10-11T19:13:59.168157Z",
     "shell.execute_reply": "2020-10-11T19:13:59.167626Z"
    },
    "papermill": {
     "duration": 0.669806,
     "end_time": "2020-10-11T19:13:59.168318",
     "exception": false,
     "start_time": "2020-10-11T19:13:58.498512",
     "status": "completed"
    },
    "tags": []
   },
   "outputs": [
    {
     "data": {
      "image/png": "[encoded data removed]",
      "text/plain": [
       "<Figure size 1512x432 with 3 Axes>"
      ]
     },
     "metadata": {
      "needs_background": "light"
     },
     "output_type": "display_data"
    }
   ],
   "source": [
    "#hide_input\n",
    "top_3 = sorted(df_cases.sum().values[1:], reverse=True)[1:4]\n",
    "top3_states=[]\n",
    "for i in top_3:\n",
    "    top3_states.append(df_cases.sum()[df_cases.sum() == i].index)\n",
    "\n",
    "\n",
    "fig, ax = plt.subplots(1,3,figsize = (21,6))\n",
    "for i in range(3):\n",
    "    state = top3_states[i].values[0]\n",
    "    ax[i].plot(df_cases['Date'], df_cases[state],'.-', color='b', alpha=0.7)\n",
    "    ax[i].plot(df_deaths['Date'], df_deaths[state],'.-', color='r', alpha=0.7)\n",
    "    ax[i].plot(df_recovered['Date'], df_recovered[state],'.-', color='g', alpha=0.7)\n",
    "    \n",
    "    ax[i].set_title(f\"Cases in {state}\")\n",
    "    ax[i].set_xticks(ticks=' ')\n",
    "    ax[i].set_xlabel(f'{df_cases.iloc[0][0]} to {df_cases.iloc[-1][0]}')\n",
    "    ax[i].set_ylabel('No. of cases');"
   ]
  },
  {
   "cell_type": "code",
   "execution_count": null,
   "metadata": {
    "papermill": {
     "duration": 0.017089,
     "end_time": "2020-10-11T19:13:59.204403",
     "exception": false,
     "start_time": "2020-10-11T19:13:59.187314",
     "status": "completed"
    },
    "tags": []
   },
   "outputs": [],
   "source": []
  },
  {
   "cell_type": "code",
   "execution_count": null,
   "metadata": {
    "papermill": {
     "duration": 0.017091,
     "end_time": "2020-10-11T19:13:59.238501",
     "exception": false,
     "start_time": "2020-10-11T19:13:59.221410",
     "status": "completed"
    },
    "tags": []
   },
   "outputs": [],
   "source": []
  },
  {
   "cell_type": "code",
   "execution_count": null,
   "metadata": {
    "papermill": {
     "duration": 0.485028,
     "end_time": "2020-10-11T19:13:59.741828",
     "exception": false,
     "start_time": "2020-10-11T19:13:59.256800",
     "status": "completed"
    },
    "tags": []
   },
   "outputs": [],
   "source": []
  }
 ],
 "metadata": {
  "kernelspec": {
   "display_name": "Python 3",
   "language": "python",
   "name": "python3"
  },
  "language_info": {
   "codemirror_mode": {
    "name": "ipython",
    "version": 3
   },
   "file_extension": ".py",
   "mimetype": "text/x-python",
   "name": "python",
   "nbconvert_exporter": "python",
   "pygments_lexer": "ipython3",
   "version": "3.6.12"
  },
  "papermill": {
   "duration": 4.253935,
   "end_time": "2020-10-11T19:14:00.067011",
   "environment_variables": {},
   "exception": null,
   "input_path": "2020-08-09-DailyUpdate.ipynb",
   "output_path": "2020-08-09-DailyUpdate.ipynb",
   "parameters": {},
   "start_time": "2020-10-11T19:13:55.813076",
   "version": "2.1.2"
  }
 },
 "nbformat": 4,
 "nbformat_minor": 4
}