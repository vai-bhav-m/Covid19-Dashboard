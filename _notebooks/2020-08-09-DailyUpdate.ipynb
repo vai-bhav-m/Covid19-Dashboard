{
 "cells": [
  {
   "cell_type": "markdown",
   "metadata": {
    "papermill": {
     "duration": 0.016616,
     "end_time": "2020-08-20T19:11:33.368672",
     "exception": false,
     "start_time": "2020-08-20T19:11:33.352056",
     "status": "completed"
    },
    "tags": []
   },
   "source": [
    "# COVID-19 India Daily updates\n",
    "> Tracking coronavirus total cases, deaths and new cases in India on a daily basis\n",
    "\n",
    "- author: Vaibhav Mahapatra"
   ]
  },
  {
   "cell_type": "code",
   "execution_count": 1,
   "metadata": {
    "execution": {
     "iopub.execute_input": "2020-08-20T19:11:33.409565Z",
     "iopub.status.busy": "2020-08-20T19:11:33.403028Z",
     "iopub.status.idle": "2020-08-20T19:11:34.050696Z",
     "shell.execute_reply": "2020-08-20T19:11:34.049716Z"
    },
    "papermill": {
     "duration": 0.668053,
     "end_time": "2020-08-20T19:11:34.050917",
     "exception": false,
     "start_time": "2020-08-20T19:11:33.382864",
     "status": "completed"
    },
    "tags": []
   },
   "outputs": [],
   "source": [
    "#hide\n",
    "\n",
    "## Import essential packages below\n",
    "\n",
    "import pandas as pd\n",
    "import numpy as np\n",
    "import requests\n",
    "import json\n",
    "import matplotlib.pyplot as plt\n",
    "import matplotlib.dates as mdates\n",
    "import matplotlib as mpl\n",
    "from IPython.core.display import display,HTML\n",
    "%matplotlib inline"
   ]
  },
  {
   "cell_type": "code",
   "execution_count": 2,
   "metadata": {
    "execution": {
     "iopub.execute_input": "2020-08-20T19:11:34.085477Z",
     "iopub.status.busy": "2020-08-20T19:11:34.084795Z",
     "iopub.status.idle": "2020-08-20T19:11:34.273168Z",
     "shell.execute_reply": "2020-08-20T19:11:34.273656Z"
    },
    "papermill": {
     "duration": 0.208291,
     "end_time": "2020-08-20T19:11:34.273922",
     "exception": false,
     "start_time": "2020-08-20T19:11:34.065631",
     "status": "completed"
    },
    "tags": []
   },
   "outputs": [
    {
     "data": {
      "text/plain": [
       "(480, 41)"
      ]
     },
     "execution_count": 2,
     "metadata": {},
     "output_type": "execute_result"
    }
   ],
   "source": [
    "#hide\n",
    "url = 'https://api.covid19india.org/csv/latest/state_wise_daily.csv'\n",
    "df = pd.read_csv(url)\n",
    "df.shape"
   ]
  },
  {
   "cell_type": "code",
   "execution_count": 3,
   "metadata": {
    "execution": {
     "iopub.execute_input": "2020-08-20T19:11:34.359162Z",
     "iopub.status.busy": "2020-08-20T19:11:34.351831Z",
     "iopub.status.idle": "2020-08-20T19:11:34.365430Z",
     "shell.execute_reply": "2020-08-20T19:11:34.364908Z"
    },
    "papermill": {
     "duration": 0.078975,
     "end_time": "2020-08-20T19:11:34.365564",
     "exception": false,
     "start_time": "2020-08-20T19:11:34.286589",
     "status": "completed"
    },
    "tags": []
   },
   "outputs": [
    {
     "data": {
      "text/html": [
       "<div>\n",
       "<style scoped>\n",
       "    .dataframe tbody tr th:only-of-type {\n",
       "        vertical-align: middle;\n",
       "    }\n",
       "\n",
       "    .dataframe tbody tr th {\n",
       "        vertical-align: top;\n",
       "    }\n",
       "\n",
       "    .dataframe thead th {\n",
       "        text-align: right;\n",
       "    }\n",
       "</style>\n",
       "<table border=\"1\" class=\"dataframe\">\n",
       "  <thead>\n",
       "    <tr style=\"text-align: right;\">\n",
       "      <th></th>\n",
       "      <th>Date</th>\n",
       "      <th>Status</th>\n",
       "      <th>TT</th>\n",
       "      <th>AN</th>\n",
       "      <th>AP</th>\n",
       "      <th>AR</th>\n",
       "      <th>AS</th>\n",
       "      <th>BR</th>\n",
       "      <th>CH</th>\n",
       "      <th>CT</th>\n",
       "      <th>...</th>\n",
       "      <th>PB</th>\n",
       "      <th>RJ</th>\n",
       "      <th>SK</th>\n",
       "      <th>TN</th>\n",
       "      <th>TG</th>\n",
       "      <th>TR</th>\n",
       "      <th>UP</th>\n",
       "      <th>UT</th>\n",
       "      <th>WB</th>\n",
       "      <th>UN</th>\n",
       "    </tr>\n",
       "  </thead>\n",
       "  <tbody>\n",
       "    <tr>\n",
       "      <th>474</th>\n",
       "      <td>19-Aug-20</td>\n",
       "      <td>Confirmed</td>\n",
       "      <td>69196</td>\n",
       "      <td>75</td>\n",
       "      <td>9742</td>\n",
       "      <td>75</td>\n",
       "      <td>2116</td>\n",
       "      <td>2884</td>\n",
       "      <td>91</td>\n",
       "      <td>752</td>\n",
       "      <td>...</td>\n",
       "      <td>1683</td>\n",
       "      <td>1312</td>\n",
       "      <td>25</td>\n",
       "      <td>5795</td>\n",
       "      <td>1763</td>\n",
       "      <td>236</td>\n",
       "      <td>5076</td>\n",
       "      <td>264</td>\n",
       "      <td>3169</td>\n",
       "      <td>0</td>\n",
       "    </tr>\n",
       "    <tr>\n",
       "      <th>475</th>\n",
       "      <td>19-Aug-20</td>\n",
       "      <td>Recovered</td>\n",
       "      <td>59365</td>\n",
       "      <td>108</td>\n",
       "      <td>8061</td>\n",
       "      <td>73</td>\n",
       "      <td>2054</td>\n",
       "      <td>3838</td>\n",
       "      <td>108</td>\n",
       "      <td>338</td>\n",
       "      <td>...</td>\n",
       "      <td>941</td>\n",
       "      <td>1003</td>\n",
       "      <td>34</td>\n",
       "      <td>6384</td>\n",
       "      <td>1789</td>\n",
       "      <td>93</td>\n",
       "      <td>5620</td>\n",
       "      <td>408</td>\n",
       "      <td>2973</td>\n",
       "      <td>0</td>\n",
       "    </tr>\n",
       "    <tr>\n",
       "      <th>476</th>\n",
       "      <td>19-Aug-20</td>\n",
       "      <td>Deceased</td>\n",
       "      <td>979</td>\n",
       "      <td>0</td>\n",
       "      <td>86</td>\n",
       "      <td>0</td>\n",
       "      <td>10</td>\n",
       "      <td>10</td>\n",
       "      <td>1</td>\n",
       "      <td>6</td>\n",
       "      <td>...</td>\n",
       "      <td>22</td>\n",
       "      <td>12</td>\n",
       "      <td>1</td>\n",
       "      <td>116</td>\n",
       "      <td>8</td>\n",
       "      <td>3</td>\n",
       "      <td>53</td>\n",
       "      <td>14</td>\n",
       "      <td>53</td>\n",
       "      <td>0</td>\n",
       "    </tr>\n",
       "    <tr>\n",
       "      <th>477</th>\n",
       "      <td>20-Aug-20</td>\n",
       "      <td>Confirmed</td>\n",
       "      <td>68507</td>\n",
       "      <td>76</td>\n",
       "      <td>9393</td>\n",
       "      <td>116</td>\n",
       "      <td>1735</td>\n",
       "      <td>2451</td>\n",
       "      <td>119</td>\n",
       "      <td>1052</td>\n",
       "      <td>...</td>\n",
       "      <td>1741</td>\n",
       "      <td>1328</td>\n",
       "      <td>58</td>\n",
       "      <td>5986</td>\n",
       "      <td>1724</td>\n",
       "      <td>190</td>\n",
       "      <td>4824</td>\n",
       "      <td>411</td>\n",
       "      <td>3197</td>\n",
       "      <td>0</td>\n",
       "    </tr>\n",
       "    <tr>\n",
       "      <th>478</th>\n",
       "      <td>20-Aug-20</td>\n",
       "      <td>Recovered</td>\n",
       "      <td>61873</td>\n",
       "      <td>109</td>\n",
       "      <td>8846</td>\n",
       "      <td>71</td>\n",
       "      <td>2772</td>\n",
       "      <td>3585</td>\n",
       "      <td>39</td>\n",
       "      <td>554</td>\n",
       "      <td>...</td>\n",
       "      <td>334</td>\n",
       "      <td>1227</td>\n",
       "      <td>38</td>\n",
       "      <td>5742</td>\n",
       "      <td>1195</td>\n",
       "      <td>68</td>\n",
       "      <td>5863</td>\n",
       "      <td>301</td>\n",
       "      <td>3126</td>\n",
       "      <td>0</td>\n",
       "    </tr>\n",
       "    <tr>\n",
       "      <th>479</th>\n",
       "      <td>20-Aug-20</td>\n",
       "      <td>Deceased</td>\n",
       "      <td>981</td>\n",
       "      <td>1</td>\n",
       "      <td>95</td>\n",
       "      <td>0</td>\n",
       "      <td>8</td>\n",
       "      <td>6</td>\n",
       "      <td>0</td>\n",
       "      <td>8</td>\n",
       "      <td>...</td>\n",
       "      <td>37</td>\n",
       "      <td>11</td>\n",
       "      <td>0</td>\n",
       "      <td>116</td>\n",
       "      <td>10</td>\n",
       "      <td>0</td>\n",
       "      <td>95</td>\n",
       "      <td>9</td>\n",
       "      <td>53</td>\n",
       "      <td>0</td>\n",
       "    </tr>\n",
       "  </tbody>\n",
       "</table>\n",
       "<p>6 rows × 41 columns</p>\n",
       "</div>"
      ],
      "text/plain": [
       "          Date     Status     TT   AN    AP   AR    AS    BR   CH    CT  ...  \\\n",
       "474  19-Aug-20  Confirmed  69196   75  9742   75  2116  2884   91   752  ...   \n",
       "475  19-Aug-20  Recovered  59365  108  8061   73  2054  3838  108   338  ...   \n",
       "476  19-Aug-20   Deceased    979    0    86    0    10    10    1     6  ...   \n",
       "477  20-Aug-20  Confirmed  68507   76  9393  116  1735  2451  119  1052  ...   \n",
       "478  20-Aug-20  Recovered  61873  109  8846   71  2772  3585   39   554  ...   \n",
       "479  20-Aug-20   Deceased    981    1    95    0     8     6    0     8  ...   \n",
       "\n",
       "       PB    RJ  SK    TN    TG   TR    UP   UT    WB  UN  \n",
       "474  1683  1312  25  5795  1763  236  5076  264  3169   0  \n",
       "475   941  1003  34  6384  1789   93  5620  408  2973   0  \n",
       "476    22    12   1   116     8    3    53   14    53   0  \n",
       "477  1741  1328  58  5986  1724  190  4824  411  3197   0  \n",
       "478   334  1227  38  5742  1195   68  5863  301  3126   0  \n",
       "479    37    11   0   116    10    0    95    9    53   0  \n",
       "\n",
       "[6 rows x 41 columns]"
      ]
     },
     "execution_count": 3,
     "metadata": {},
     "output_type": "execute_result"
    }
   ],
   "source": [
    "#hide\n",
    "df.tail(6)"
   ]
  },
  {
   "cell_type": "code",
   "execution_count": 4,
   "metadata": {
    "execution": {
     "iopub.execute_input": "2020-08-20T19:11:34.399580Z",
     "iopub.status.busy": "2020-08-20T19:11:34.398919Z",
     "iopub.status.idle": "2020-08-20T19:11:34.402118Z",
     "shell.execute_reply": "2020-08-20T19:11:34.401579Z"
    },
    "papermill": {
     "duration": 0.023062,
     "end_time": "2020-08-20T19:11:34.402237",
     "exception": false,
     "start_time": "2020-08-20T19:11:34.379175",
     "status": "completed"
    },
    "tags": []
   },
   "outputs": [
    {
     "data": {
      "text/plain": [
       "('20-Aug-20', '19-Aug-20')"
      ]
     },
     "execution_count": 4,
     "metadata": {},
     "output_type": "execute_result"
    }
   ],
   "source": [
    "#hide\n",
    "dt_today = df.iloc[-1][0]\n",
    "dt_yday = df.iloc[-4][0]\n",
    "dt_today, dt_yday"
   ]
  },
  {
   "cell_type": "code",
   "execution_count": 5,
   "metadata": {
    "execution": {
     "iopub.execute_input": "2020-08-20T19:11:34.440680Z",
     "iopub.status.busy": "2020-08-20T19:11:34.439997Z",
     "iopub.status.idle": "2020-08-20T19:11:34.447972Z",
     "shell.execute_reply": "2020-08-20T19:11:34.447249Z"
    },
    "papermill": {
     "duration": 0.030626,
     "end_time": "2020-08-20T19:11:34.448102",
     "exception": false,
     "start_time": "2020-08-20T19:11:34.417476",
     "status": "completed"
    },
    "tags": []
   },
   "outputs": [],
   "source": [
    "#hide\n",
    "df_today = df.groupby('Status').sum()\n",
    "df_yday = df.iloc[:-3][:].groupby('Status').sum()"
   ]
  },
  {
   "cell_type": "code",
   "execution_count": 6,
   "metadata": {
    "execution": {
     "iopub.execute_input": "2020-08-20T19:11:34.500376Z",
     "iopub.status.busy": "2020-08-20T19:11:34.499707Z",
     "iopub.status.idle": "2020-08-20T19:11:34.502687Z",
     "shell.execute_reply": "2020-08-20T19:11:34.503325Z"
    },
    "papermill": {
     "duration": 0.037073,
     "end_time": "2020-08-20T19:11:34.503506",
     "exception": false,
     "start_time": "2020-08-20T19:11:34.466433",
     "status": "completed"
    },
    "tags": []
   },
   "outputs": [
    {
     "data": {
      "text/html": [
       "<div>\n",
       "<style scoped>\n",
       "    .dataframe tbody tr th:only-of-type {\n",
       "        vertical-align: middle;\n",
       "    }\n",
       "\n",
       "    .dataframe tbody tr th {\n",
       "        vertical-align: top;\n",
       "    }\n",
       "\n",
       "    .dataframe thead th {\n",
       "        text-align: right;\n",
       "    }\n",
       "</style>\n",
       "<table border=\"1\" class=\"dataframe\">\n",
       "  <thead>\n",
       "    <tr style=\"text-align: right;\">\n",
       "      <th></th>\n",
       "      <th>TT</th>\n",
       "      <th>AN</th>\n",
       "      <th>AP</th>\n",
       "      <th>AR</th>\n",
       "      <th>AS</th>\n",
       "      <th>BR</th>\n",
       "      <th>CH</th>\n",
       "      <th>CT</th>\n",
       "      <th>DN</th>\n",
       "      <th>DD</th>\n",
       "      <th>...</th>\n",
       "      <th>PB</th>\n",
       "      <th>RJ</th>\n",
       "      <th>SK</th>\n",
       "      <th>TN</th>\n",
       "      <th>TG</th>\n",
       "      <th>TR</th>\n",
       "      <th>UP</th>\n",
       "      <th>UT</th>\n",
       "      <th>WB</th>\n",
       "      <th>UN</th>\n",
       "    </tr>\n",
       "    <tr>\n",
       "      <th>Status</th>\n",
       "      <th></th>\n",
       "      <th></th>\n",
       "      <th></th>\n",
       "      <th></th>\n",
       "      <th></th>\n",
       "      <th></th>\n",
       "      <th></th>\n",
       "      <th></th>\n",
       "      <th></th>\n",
       "      <th></th>\n",
       "      <th></th>\n",
       "      <th></th>\n",
       "      <th></th>\n",
       "      <th></th>\n",
       "      <th></th>\n",
       "      <th></th>\n",
       "      <th></th>\n",
       "      <th></th>\n",
       "      <th></th>\n",
       "      <th></th>\n",
       "      <th></th>\n",
       "    </tr>\n",
       "  </thead>\n",
       "  <tbody>\n",
       "    <tr>\n",
       "      <th>Confirmed</th>\n",
       "      <td>2904212</td>\n",
       "      <td>2676</td>\n",
       "      <td>325396</td>\n",
       "      <td>3066</td>\n",
       "      <td>85951</td>\n",
       "      <td>115210</td>\n",
       "      <td>2515</td>\n",
       "      <td>18637</td>\n",
       "      <td>2032</td>\n",
       "      <td>0</td>\n",
       "      <td>...</td>\n",
       "      <td>37824</td>\n",
       "      <td>66617</td>\n",
       "      <td>1303</td>\n",
       "      <td>361435</td>\n",
       "      <td>97424</td>\n",
       "      <td>7850</td>\n",
       "      <td>172334</td>\n",
       "      <td>13636</td>\n",
       "      <td>129119</td>\n",
       "      <td>0</td>\n",
       "    </tr>\n",
       "    <tr>\n",
       "      <th>Deceased</th>\n",
       "      <td>54986</td>\n",
       "      <td>31</td>\n",
       "      <td>3001</td>\n",
       "      <td>5</td>\n",
       "      <td>225</td>\n",
       "      <td>574</td>\n",
       "      <td>31</td>\n",
       "      <td>172</td>\n",
       "      <td>2</td>\n",
       "      <td>0</td>\n",
       "      <td>...</td>\n",
       "      <td>957</td>\n",
       "      <td>921</td>\n",
       "      <td>3</td>\n",
       "      <td>6239</td>\n",
       "      <td>729</td>\n",
       "      <td>65</td>\n",
       "      <td>2733</td>\n",
       "      <td>187</td>\n",
       "      <td>2634</td>\n",
       "      <td>0</td>\n",
       "    </tr>\n",
       "    <tr>\n",
       "      <th>Recovered</th>\n",
       "      <td>2157934</td>\n",
       "      <td>1629</td>\n",
       "      <td>235218</td>\n",
       "      <td>2093</td>\n",
       "      <td>63121</td>\n",
       "      <td>88163</td>\n",
       "      <td>1390</td>\n",
       "      <td>11739</td>\n",
       "      <td>1613</td>\n",
       "      <td>0</td>\n",
       "      <td>...</td>\n",
       "      <td>23037</td>\n",
       "      <td>51190</td>\n",
       "      <td>828</td>\n",
       "      <td>301913</td>\n",
       "      <td>75186</td>\n",
       "      <td>5565</td>\n",
       "      <td>121090</td>\n",
       "      <td>9433</td>\n",
       "      <td>98789</td>\n",
       "      <td>0</td>\n",
       "    </tr>\n",
       "  </tbody>\n",
       "</table>\n",
       "<p>3 rows × 39 columns</p>\n",
       "</div>"
      ],
      "text/plain": [
       "                TT    AN      AP    AR     AS      BR    CH     CT    DN  DD  \\\n",
       "Status                                                                         \n",
       "Confirmed  2904212  2676  325396  3066  85951  115210  2515  18637  2032   0   \n",
       "Deceased     54986    31    3001     5    225     574    31    172     2   0   \n",
       "Recovered  2157934  1629  235218  2093  63121   88163  1390  11739  1613   0   \n",
       "\n",
       "           ...     PB     RJ    SK      TN     TG    TR      UP     UT  \\\n",
       "Status     ...                                                           \n",
       "Confirmed  ...  37824  66617  1303  361435  97424  7850  172334  13636   \n",
       "Deceased   ...    957    921     3    6239    729    65    2733    187   \n",
       "Recovered  ...  23037  51190   828  301913  75186  5565  121090   9433   \n",
       "\n",
       "               WB  UN  \n",
       "Status                 \n",
       "Confirmed  129119   0  \n",
       "Deceased     2634   0  \n",
       "Recovered   98789   0  \n",
       "\n",
       "[3 rows x 39 columns]"
      ]
     },
     "execution_count": 6,
     "metadata": {},
     "output_type": "execute_result"
    }
   ],
   "source": [
    "#hide\n",
    "df_today"
   ]
  },
  {
   "cell_type": "code",
   "execution_count": 7,
   "metadata": {
    "execution": {
     "iopub.execute_input": "2020-08-20T19:11:34.559909Z",
     "iopub.status.busy": "2020-08-20T19:11:34.559262Z",
     "iopub.status.idle": "2020-08-20T19:11:34.569809Z",
     "shell.execute_reply": "2020-08-20T19:11:34.570471Z"
    },
    "papermill": {
     "duration": 0.048545,
     "end_time": "2020-08-20T19:11:34.570631",
     "exception": false,
     "start_time": "2020-08-20T19:11:34.522086",
     "status": "completed"
    },
    "tags": []
   },
   "outputs": [
    {
     "data": {
      "text/html": [
       "<div>\n",
       "<style scoped>\n",
       "    .dataframe tbody tr th:only-of-type {\n",
       "        vertical-align: middle;\n",
       "    }\n",
       "\n",
       "    .dataframe tbody tr th {\n",
       "        vertical-align: top;\n",
       "    }\n",
       "\n",
       "    .dataframe thead th {\n",
       "        text-align: right;\n",
       "    }\n",
       "</style>\n",
       "<table border=\"1\" class=\"dataframe\">\n",
       "  <thead>\n",
       "    <tr style=\"text-align: right;\">\n",
       "      <th></th>\n",
       "      <th>TT</th>\n",
       "      <th>AN</th>\n",
       "      <th>AP</th>\n",
       "      <th>AR</th>\n",
       "      <th>AS</th>\n",
       "      <th>BR</th>\n",
       "      <th>CH</th>\n",
       "      <th>CT</th>\n",
       "      <th>DN</th>\n",
       "      <th>DD</th>\n",
       "      <th>...</th>\n",
       "      <th>PB</th>\n",
       "      <th>RJ</th>\n",
       "      <th>SK</th>\n",
       "      <th>TN</th>\n",
       "      <th>TG</th>\n",
       "      <th>TR</th>\n",
       "      <th>UP</th>\n",
       "      <th>UT</th>\n",
       "      <th>WB</th>\n",
       "      <th>UN</th>\n",
       "    </tr>\n",
       "    <tr>\n",
       "      <th>Status</th>\n",
       "      <th></th>\n",
       "      <th></th>\n",
       "      <th></th>\n",
       "      <th></th>\n",
       "      <th></th>\n",
       "      <th></th>\n",
       "      <th></th>\n",
       "      <th></th>\n",
       "      <th></th>\n",
       "      <th></th>\n",
       "      <th></th>\n",
       "      <th></th>\n",
       "      <th></th>\n",
       "      <th></th>\n",
       "      <th></th>\n",
       "      <th></th>\n",
       "      <th></th>\n",
       "      <th></th>\n",
       "      <th></th>\n",
       "      <th></th>\n",
       "      <th></th>\n",
       "    </tr>\n",
       "  </thead>\n",
       "  <tbody>\n",
       "    <tr>\n",
       "      <th>Confirmed</th>\n",
       "      <td>2835705</td>\n",
       "      <td>2600</td>\n",
       "      <td>316003</td>\n",
       "      <td>2950</td>\n",
       "      <td>84216</td>\n",
       "      <td>112759</td>\n",
       "      <td>2396</td>\n",
       "      <td>17585</td>\n",
       "      <td>1998</td>\n",
       "      <td>0</td>\n",
       "      <td>...</td>\n",
       "      <td>36083</td>\n",
       "      <td>65289</td>\n",
       "      <td>1245</td>\n",
       "      <td>355449</td>\n",
       "      <td>95700</td>\n",
       "      <td>7660</td>\n",
       "      <td>167510</td>\n",
       "      <td>13225</td>\n",
       "      <td>125922</td>\n",
       "      <td>0</td>\n",
       "    </tr>\n",
       "    <tr>\n",
       "      <th>Deceased</th>\n",
       "      <td>54005</td>\n",
       "      <td>30</td>\n",
       "      <td>2906</td>\n",
       "      <td>5</td>\n",
       "      <td>217</td>\n",
       "      <td>568</td>\n",
       "      <td>31</td>\n",
       "      <td>164</td>\n",
       "      <td>2</td>\n",
       "      <td>0</td>\n",
       "      <td>...</td>\n",
       "      <td>920</td>\n",
       "      <td>910</td>\n",
       "      <td>3</td>\n",
       "      <td>6123</td>\n",
       "      <td>719</td>\n",
       "      <td>65</td>\n",
       "      <td>2638</td>\n",
       "      <td>178</td>\n",
       "      <td>2581</td>\n",
       "      <td>0</td>\n",
       "    </tr>\n",
       "    <tr>\n",
       "      <th>Recovered</th>\n",
       "      <td>2096061</td>\n",
       "      <td>1520</td>\n",
       "      <td>226372</td>\n",
       "      <td>2022</td>\n",
       "      <td>60349</td>\n",
       "      <td>84578</td>\n",
       "      <td>1351</td>\n",
       "      <td>11185</td>\n",
       "      <td>1567</td>\n",
       "      <td>0</td>\n",
       "      <td>...</td>\n",
       "      <td>22703</td>\n",
       "      <td>49963</td>\n",
       "      <td>790</td>\n",
       "      <td>296171</td>\n",
       "      <td>73991</td>\n",
       "      <td>5497</td>\n",
       "      <td>115227</td>\n",
       "      <td>9132</td>\n",
       "      <td>95663</td>\n",
       "      <td>0</td>\n",
       "    </tr>\n",
       "  </tbody>\n",
       "</table>\n",
       "<p>3 rows × 39 columns</p>\n",
       "</div>"
      ],
      "text/plain": [
       "                TT    AN      AP    AR     AS      BR    CH     CT    DN  DD  \\\n",
       "Status                                                                         \n",
       "Confirmed  2835705  2600  316003  2950  84216  112759  2396  17585  1998   0   \n",
       "Deceased     54005    30    2906     5    217     568    31    164     2   0   \n",
       "Recovered  2096061  1520  226372  2022  60349   84578  1351  11185  1567   0   \n",
       "\n",
       "           ...     PB     RJ    SK      TN     TG    TR      UP     UT  \\\n",
       "Status     ...                                                           \n",
       "Confirmed  ...  36083  65289  1245  355449  95700  7660  167510  13225   \n",
       "Deceased   ...    920    910     3    6123    719    65    2638    178   \n",
       "Recovered  ...  22703  49963   790  296171  73991  5497  115227   9132   \n",
       "\n",
       "               WB  UN  \n",
       "Status                 \n",
       "Confirmed  125922   0  \n",
       "Deceased     2581   0  \n",
       "Recovered   95663   0  \n",
       "\n",
       "[3 rows x 39 columns]"
      ]
     },
     "execution_count": 7,
     "metadata": {},
     "output_type": "execute_result"
    }
   ],
   "source": [
    "#hide\n",
    "df_yday.head()"
   ]
  },
  {
   "cell_type": "code",
   "execution_count": 8,
   "metadata": {
    "execution": {
     "iopub.execute_input": "2020-08-20T19:11:34.610351Z",
     "iopub.status.busy": "2020-08-20T19:11:34.609719Z",
     "iopub.status.idle": "2020-08-20T19:11:34.613306Z",
     "shell.execute_reply": "2020-08-20T19:11:34.612699Z"
    },
    "papermill": {
     "duration": 0.026203,
     "end_time": "2020-08-20T19:11:34.613455",
     "exception": false,
     "start_time": "2020-08-20T19:11:34.587252",
     "status": "completed"
    },
    "tags": []
   },
   "outputs": [
    {
     "data": {
      "text/plain": [
       "{'updated': '20-Aug-20',\n",
       " 'since': '19-Aug-20',\n",
       " 'Cases': 2904212,\n",
       " 'Deaths': 54986,\n",
       " 'Recovered': 2157934,\n",
       " 'PCases': 2835705,\n",
       " 'PDeaths': 54005,\n",
       " 'PRecovered': 2096061,\n",
       " 'Cases (+)': 68507,\n",
       " 'Deaths (+)': 981,\n",
       " 'Recovered (+)': 61873}"
      ]
     },
     "execution_count": 8,
     "metadata": {},
     "output_type": "execute_result"
    }
   ],
   "source": [
    "#hide\n",
    "summary = {\n",
    "    'updated' : dt_today,\n",
    "    'since' : dt_yday,\n",
    "    'Cases' : df_today['TT'][0],\n",
    "    'Deaths' : df_today['TT'][1],\n",
    "    'Recovered' : df_today['TT'][2],\n",
    "    'PCases' : df_yday['TT'][0],\n",
    "    'PDeaths' : df_yday['TT'][1],\n",
    "    'PRecovered': df_yday['TT'][2],\n",
    "    'Cases (+)' : df_today['TT'][0] - df_yday['TT'][0],\n",
    "    'Deaths (+)' : df_today['TT'][1] - df_yday['TT'][1],\n",
    "    'Recovered (+)': df_today['TT'][2] - df_yday['TT'][2]\n",
    "}\n",
    "\n",
    "summary"
   ]
  },
  {
   "cell_type": "code",
   "execution_count": 9,
   "metadata": {
    "execution": {
     "iopub.execute_input": "2020-08-20T19:11:34.650500Z",
     "iopub.status.busy": "2020-08-20T19:11:34.649799Z",
     "iopub.status.idle": "2020-08-20T19:11:34.651918Z",
     "shell.execute_reply": "2020-08-20T19:11:34.652424Z"
    },
    "papermill": {
     "duration": 0.022767,
     "end_time": "2020-08-20T19:11:34.652576",
     "exception": false,
     "start_time": "2020-08-20T19:11:34.629809",
     "status": "completed"
    },
    "tags": []
   },
   "outputs": [],
   "source": [
    "#hide\n",
    "overview = '''\n",
    "<!-- #######  HTML!! #########-->\n",
    "<h1 style=\"color: #5e9ca0; text-align: center;\">India</h1>\n",
    "<p style=\"text-align: center;\">Last update: <strong>{update}</strong></p>\n",
    "<p style=\"text-align: center;\">Confirmed cases:</p>\n",
    "<p style=\"text-align: center;font-size:24px;\">{cases} (<span style=\"color: #ff0000;\">+{new}</span>)</p>\n",
    "<p style=\"text-align: center;\">Confirmed deaths:</p>\n",
    "<p style=\"text-align: center;font-size:24px;\">{deaths} (<span style=\"color: #ff0000;\">+{dnew}</span>)</p>\n",
    "<p style=\"text-align: center;\">Recovered cases:</p>\n",
    "<p style=\"text-align: center;font-size:24px;\">{recovered} (<span style=\"color: #00ff00;\">+{rnew}</span>)</p>\n",
    "'''"
   ]
  },
  {
   "cell_type": "code",
   "execution_count": 10,
   "metadata": {
    "execution": {
     "iopub.execute_input": "2020-08-20T19:11:34.700163Z",
     "iopub.status.busy": "2020-08-20T19:11:34.699436Z",
     "iopub.status.idle": "2020-08-20T19:11:34.703150Z",
     "shell.execute_reply": "2020-08-20T19:11:34.702560Z"
    },
    "papermill": {
     "duration": 0.027369,
     "end_time": "2020-08-20T19:11:34.703305",
     "exception": false,
     "start_time": "2020-08-20T19:11:34.675936",
     "status": "completed"
    },
    "tags": []
   },
   "outputs": [
    {
     "data": {
      "text/html": [
       "\n",
       "<!-- #######  HTML!! #########-->\n",
       "<h1 style=\"color: #5e9ca0; text-align: center;\">India</h1>\n",
       "<p style=\"text-align: center;\">Last update: <strong>20-Aug-20</strong></p>\n",
       "<p style=\"text-align: center;\">Confirmed cases:</p>\n",
       "<p style=\"text-align: center;font-size:24px;\">2904212 (<span style=\"color: #ff0000;\">+68507</span>)</p>\n",
       "<p style=\"text-align: center;\">Confirmed deaths:</p>\n",
       "<p style=\"text-align: center;font-size:24px;\">54986 (<span style=\"color: #ff0000;\">+981</span>)</p>\n",
       "<p style=\"text-align: center;\">Recovered cases:</p>\n",
       "<p style=\"text-align: center;font-size:24px;\">2157934 (<span style=\"color: #00ff00;\">+61873</span>)</p>\n"
      ],
      "text/plain": [
       "<IPython.core.display.HTML object>"
      ]
     },
     "metadata": {},
     "output_type": "display_data"
    }
   ],
   "source": [
    "#hide_input\n",
    "# Fill the above HTML with the information from the summary dictionary\n",
    "\n",
    "update = summary['updated']\n",
    "cases = summary['Cases']\n",
    "new = summary['Cases (+)']\n",
    "deaths = summary['Deaths']\n",
    "dnew = summary['Deaths (+)']\n",
    "recovered = summary['Recovered']\n",
    "rnew = summary['Recovered (+)']\n",
    "\n",
    "html = HTML(overview.format(update=update, cases=cases,new=new,deaths=deaths,dnew=dnew, recovered=recovered, rnew=rnew))\n",
    "\n",
    "display(html)"
   ]
  },
  {
   "cell_type": "code",
   "execution_count": 11,
   "metadata": {
    "execution": {
     "iopub.execute_input": "2020-08-20T19:11:34.750226Z",
     "iopub.status.busy": "2020-08-20T19:11:34.749491Z",
     "iopub.status.idle": "2020-08-20T19:11:34.751609Z",
     "shell.execute_reply": "2020-08-20T19:11:34.752158Z"
    },
    "papermill": {
     "duration": 0.032934,
     "end_time": "2020-08-20T19:11:34.752336",
     "exception": false,
     "start_time": "2020-08-20T19:11:34.719402",
     "status": "completed"
    },
    "tags": []
   },
   "outputs": [],
   "source": [
    "#hide\n",
    "df_cases = df[df['Status'] == 'Confirmed'].copy()\n",
    "df_cases.drop(columns = ['Status'], inplace=True)\n",
    "df_deaths = df[df['Status'] == 'Deceased'].copy()\n",
    "df_deaths.drop(columns = ['Status'], inplace=True)\n",
    "df_recovered = df[df['Status'] == 'Recovered'].copy()\n",
    "df_recovered.drop(columns = ['Status'], inplace=True)"
   ]
  },
  {
   "cell_type": "markdown",
   "metadata": {
    "papermill": {
     "duration": 0.017124,
     "end_time": "2020-08-20T19:11:34.785813",
     "exception": false,
     "start_time": "2020-08-20T19:11:34.768689",
     "status": "completed"
    },
    "tags": []
   },
   "source": [
    "Plot for India:"
   ]
  },
  {
   "cell_type": "code",
   "execution_count": 12,
   "metadata": {
    "execution": {
     "iopub.execute_input": "2020-08-20T19:11:34.829709Z",
     "iopub.status.busy": "2020-08-20T19:11:34.829056Z",
     "iopub.status.idle": "2020-08-20T19:11:35.148454Z",
     "shell.execute_reply": "2020-08-20T19:11:35.149088Z"
    },
    "papermill": {
     "duration": 0.346382,
     "end_time": "2020-08-20T19:11:35.149283",
     "exception": false,
     "start_time": "2020-08-20T19:11:34.802901",
     "status": "completed"
    },
    "tags": []
   },
   "outputs": [
    {
     "data": {
      "image/png": "[encoded data removed]",
      "text/plain": [
       "<Figure size 1296x432 with 1 Axes>"
      ]
     },
     "metadata": {
      "needs_background": "light"
     },
     "output_type": "display_data"
    }
   ],
   "source": [
    "#hide_input\n",
    "plt.figure(figsize = (18,6))\n",
    "plt.plot(df_cases['Date'], df_cases['TT'],'.-', alpha=0.7, color='b', label='Confirmed cases')\n",
    "plt.plot(df_recovered['Date'], df_recovered['TT'],'.-', alpha=0.7, color='g', label='Recovered')\n",
    "plt.plot(df_deaths['Date'], df_deaths['TT'],'.-', alpha=0.7, color='r', label='Deceased')\n",
    "plt.legend()\n",
    "plt.title(\"Cases per day in India\")\n",
    "plt.xticks(ticks=' ')\n",
    "plt.xlabel(f'{df_cases.iloc[0][0]} to {df_cases.iloc[-1][0]}')\n",
    "plt.ylabel('No. of cases');"
   ]
  },
  {
   "cell_type": "markdown",
   "metadata": {
    "papermill": {
     "duration": 0.01798,
     "end_time": "2020-08-20T19:11:35.185251",
     "exception": false,
     "start_time": "2020-08-20T19:11:35.167271",
     "status": "completed"
    },
    "tags": []
   },
   "source": [
    "Plots for the states with highest number of cases:"
   ]
  },
  {
   "cell_type": "code",
   "execution_count": 13,
   "metadata": {
    "execution": {
     "iopub.execute_input": "2020-08-20T19:11:35.230359Z",
     "iopub.status.busy": "2020-08-20T19:11:35.228744Z",
     "iopub.status.idle": "2020-08-20T19:11:35.913471Z",
     "shell.execute_reply": "2020-08-20T19:11:35.912734Z"
    },
    "papermill": {
     "duration": 0.710677,
     "end_time": "2020-08-20T19:11:35.913638",
     "exception": false,
     "start_time": "2020-08-20T19:11:35.202961",
     "status": "completed"
    },
    "tags": []
   },
   "outputs": [
    {
     "data": {
      "image/png": "[encoded data removed]",
      "text/plain": [
       "<Figure size 1512x432 with 3 Axes>"
      ]
     },
     "metadata": {
      "needs_background": "light"
     },
     "output_type": "display_data"
    }
   ],
   "source": [
    "#hide_input\n",
    "top_3 = sorted(df_cases.sum().values[1:], reverse=True)[1:4]\n",
    "top3_states=[]\n",
    "for i in top_3:\n",
    "    top3_states.append(df_cases.sum()[df_cases.sum() == i].index)\n",
    "\n",
    "\n",
    "fig, ax = plt.subplots(1,3,figsize = (21,6))\n",
    "for i in range(3):\n",
    "    state = top3_states[i].values[0]\n",
    "    ax[i].plot(df_cases['Date'], df_cases[state],'.-', color='b', alpha=0.7)\n",
    "    ax[i].plot(df_deaths['Date'], df_deaths[state],'.-', color='r', alpha=0.7)\n",
    "    ax[i].plot(df_recovered['Date'], df_recovered[state],'.-', color='g', alpha=0.7)\n",
    "    \n",
    "    ax[i].set_title(f\"Cases in {state}\")\n",
    "    ax[i].set_xticks(ticks=' ')\n",
    "    ax[i].set_xlabel(f'{df_cases.iloc[0][0]} to {df_cases.iloc[-1][0]}')\n",
    "    ax[i].set_ylabel('No. of cases');"
   ]
  },
  {
   "cell_type": "code",
   "execution_count": null,
   "metadata": {
    "papermill": {
     "duration": 0.021371,
     "end_time": "2020-08-20T19:11:35.959438",
     "exception": false,
     "start_time": "2020-08-20T19:11:35.938067",
     "status": "completed"
    },
    "tags": []
   },
   "outputs": [],
   "source": []
  },
  {
   "cell_type": "code",
   "execution_count": null,
   "metadata": {
    "papermill": {
     "duration": 0.021055,
     "end_time": "2020-08-20T19:11:36.002412",
     "exception": false,
     "start_time": "2020-08-20T19:11:35.981357",
     "status": "completed"
    },
    "tags": []
   },
   "outputs": [],
   "source": []
  },
  {
   "cell_type": "code",
   "execution_count": null,
   "metadata": {
    "papermill": {
     "duration": 0.021081,
     "end_time": "2020-08-20T19:11:36.044585",
     "exception": false,
     "start_time": "2020-08-20T19:11:36.023504",
     "status": "completed"
    },
    "tags": []
   },
   "outputs": [],
   "source": []
  }
 ],
 "metadata": {
  "kernelspec": {
   "display_name": "Python 3",
   "language": "python",
   "name": "python3"
  },
  "language_info": {
   "codemirror_mode": {
    "name": "ipython",
    "version": 3
   },
   "file_extension": ".py",
   "mimetype": "text/x-python",
   "name": "python",
   "nbconvert_exporter": "python",
   "pygments_lexer": "ipython3",
   "version": "3.6.11"
  },
  "papermill": {
   "duration": 4.234606,
   "end_time": "2020-08-20T19:11:36.475898",
   "environment_variables": {},
   "exception": null,
   "input_path": "2020-08-09-DailyUpdate.ipynb",
   "output_path": "2020-08-09-DailyUpdate.ipynb",
   "parameters": {},
   "start_time": "2020-08-20T19:11:32.241292",
   "version": "2.1.2"
  }
 },
 "nbformat": 4,
 "nbformat_minor": 4
}