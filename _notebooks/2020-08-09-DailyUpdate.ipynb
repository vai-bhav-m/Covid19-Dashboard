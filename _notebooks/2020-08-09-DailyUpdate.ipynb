{
 "cells": [
  {
   "cell_type": "markdown",
   "metadata": {
    "papermill": {
     "duration": 0.018184,
     "end_time": "2020-10-14T19:14:31.579469",
     "exception": false,
     "start_time": "2020-10-14T19:14:31.561285",
     "status": "completed"
    },
    "tags": []
   },
   "source": [
    "# COVID-19 India Daily updates\n",
    "> Tracking coronavirus total cases, deaths and new cases in India on a daily basis\n",
    "\n",
    "- author: Vaibhav Mahapatra"
   ]
  },
  {
   "cell_type": "code",
   "execution_count": 1,
   "metadata": {
    "execution": {
     "iopub.execute_input": "2020-10-14T19:14:31.612190Z",
     "iopub.status.busy": "2020-10-14T19:14:31.611545Z",
     "iopub.status.idle": "2020-10-14T19:14:32.222236Z",
     "shell.execute_reply": "2020-10-14T19:14:32.221316Z"
    },
    "papermill": {
     "duration": 0.630062,
     "end_time": "2020-10-14T19:14:32.222484",
     "exception": false,
     "start_time": "2020-10-14T19:14:31.592422",
     "status": "completed"
    },
    "tags": []
   },
   "outputs": [],
   "source": [
    "#hide\n",
    "\n",
    "## Import essential packages below\n",
    "\n",
    "import pandas as pd\n",
    "import numpy as np\n",
    "import requests\n",
    "import json\n",
    "import matplotlib.pyplot as plt\n",
    "import matplotlib.dates as mdates\n",
    "import matplotlib as mpl\n",
    "from IPython.core.display import display,HTML\n",
    "%matplotlib inline"
   ]
  },
  {
   "cell_type": "code",
   "execution_count": 2,
   "metadata": {
    "execution": {
     "iopub.execute_input": "2020-10-14T19:14:32.269876Z",
     "iopub.status.busy": "2020-10-14T19:14:32.269246Z",
     "iopub.status.idle": "2020-10-14T19:14:32.497719Z",
     "shell.execute_reply": "2020-10-14T19:14:32.498544Z"
    },
    "papermill": {
     "duration": 0.250767,
     "end_time": "2020-10-14T19:14:32.498793",
     "exception": false,
     "start_time": "2020-10-14T19:14:32.248026",
     "status": "completed"
    },
    "tags": []
   },
   "outputs": [
    {
     "data": {
      "text/plain": [
       "(645, 41)"
      ]
     },
     "execution_count": 2,
     "metadata": {},
     "output_type": "execute_result"
    }
   ],
   "source": [
    "#hide\n",
    "url = 'https://api.covid19india.org/csv/latest/state_wise_daily.csv'\n",
    "df = pd.read_csv(url)\n",
    "df.shape"
   ]
  },
  {
   "cell_type": "code",
   "execution_count": 3,
   "metadata": {
    "execution": {
     "iopub.execute_input": "2020-10-14T19:14:32.588894Z",
     "iopub.status.busy": "2020-10-14T19:14:32.581566Z",
     "iopub.status.idle": "2020-10-14T19:14:32.591706Z",
     "shell.execute_reply": "2020-10-14T19:14:32.592174Z"
    },
    "papermill": {
     "duration": 0.080832,
     "end_time": "2020-10-14T19:14:32.592331",
     "exception": false,
     "start_time": "2020-10-14T19:14:32.511499",
     "status": "completed"
    },
    "tags": []
   },
   "outputs": [
    {
     "data": {
      "text/html": [
       "<div>\n",
       "<style scoped>\n",
       "    .dataframe tbody tr th:only-of-type {\n",
       "        vertical-align: middle;\n",
       "    }\n",
       "\n",
       "    .dataframe tbody tr th {\n",
       "        vertical-align: top;\n",
       "    }\n",
       "\n",
       "    .dataframe thead th {\n",
       "        text-align: right;\n",
       "    }\n",
       "</style>\n",
       "<table border=\"1\" class=\"dataframe\">\n",
       "  <thead>\n",
       "    <tr style=\"text-align: right;\">\n",
       "      <th></th>\n",
       "      <th>Date</th>\n",
       "      <th>Status</th>\n",
       "      <th>TT</th>\n",
       "      <th>AN</th>\n",
       "      <th>AP</th>\n",
       "      <th>AR</th>\n",
       "      <th>AS</th>\n",
       "      <th>BR</th>\n",
       "      <th>CH</th>\n",
       "      <th>CT</th>\n",
       "      <th>...</th>\n",
       "      <th>PB</th>\n",
       "      <th>RJ</th>\n",
       "      <th>SK</th>\n",
       "      <th>TN</th>\n",
       "      <th>TG</th>\n",
       "      <th>TR</th>\n",
       "      <th>UP</th>\n",
       "      <th>UT</th>\n",
       "      <th>WB</th>\n",
       "      <th>UN</th>\n",
       "    </tr>\n",
       "  </thead>\n",
       "  <tbody>\n",
       "    <tr>\n",
       "      <th>639</th>\n",
       "      <td>13-Oct-20</td>\n",
       "      <td>Confirmed</td>\n",
       "      <td>63717</td>\n",
       "      <td>13</td>\n",
       "      <td>4622</td>\n",
       "      <td>194</td>\n",
       "      <td>1482</td>\n",
       "      <td>1223</td>\n",
       "      <td>71</td>\n",
       "      <td>2619</td>\n",
       "      <td>...</td>\n",
       "      <td>676</td>\n",
       "      <td>2035</td>\n",
       "      <td>50</td>\n",
       "      <td>4666</td>\n",
       "      <td>1708</td>\n",
       "      <td>217</td>\n",
       "      <td>2957</td>\n",
       "      <td>294</td>\n",
       "      <td>3631</td>\n",
       "      <td>0</td>\n",
       "    </tr>\n",
       "    <tr>\n",
       "      <th>640</th>\n",
       "      <td>13-Oct-20</td>\n",
       "      <td>Recovered</td>\n",
       "      <td>74079</td>\n",
       "      <td>12</td>\n",
       "      <td>5715</td>\n",
       "      <td>170</td>\n",
       "      <td>1020</td>\n",
       "      <td>1030</td>\n",
       "      <td>109</td>\n",
       "      <td>2810</td>\n",
       "      <td>...</td>\n",
       "      <td>688</td>\n",
       "      <td>1768</td>\n",
       "      <td>89</td>\n",
       "      <td>5117</td>\n",
       "      <td>2009</td>\n",
       "      <td>220</td>\n",
       "      <td>3662</td>\n",
       "      <td>665</td>\n",
       "      <td>3185</td>\n",
       "      <td>0</td>\n",
       "    </tr>\n",
       "    <tr>\n",
       "      <th>641</th>\n",
       "      <td>13-Oct-20</td>\n",
       "      <td>Deceased</td>\n",
       "      <td>727</td>\n",
       "      <td>0</td>\n",
       "      <td>35</td>\n",
       "      <td>4</td>\n",
       "      <td>4</td>\n",
       "      <td>6</td>\n",
       "      <td>5</td>\n",
       "      <td>20</td>\n",
       "      <td>...</td>\n",
       "      <td>34</td>\n",
       "      <td>14</td>\n",
       "      <td>2</td>\n",
       "      <td>57</td>\n",
       "      <td>5</td>\n",
       "      <td>1</td>\n",
       "      <td>28</td>\n",
       "      <td>20</td>\n",
       "      <td>62</td>\n",
       "      <td>0</td>\n",
       "    </tr>\n",
       "    <tr>\n",
       "      <th>642</th>\n",
       "      <td>14-Oct-20</td>\n",
       "      <td>Confirmed</td>\n",
       "      <td>64591</td>\n",
       "      <td>0</td>\n",
       "      <td>3892</td>\n",
       "      <td>0</td>\n",
       "      <td>1427</td>\n",
       "      <td>1326</td>\n",
       "      <td>72</td>\n",
       "      <td>0</td>\n",
       "      <td>...</td>\n",
       "      <td>549</td>\n",
       "      <td>2021</td>\n",
       "      <td>42</td>\n",
       "      <td>4462</td>\n",
       "      <td>1446</td>\n",
       "      <td>181</td>\n",
       "      <td>2593</td>\n",
       "      <td>429</td>\n",
       "      <td>3677</td>\n",
       "      <td>0</td>\n",
       "    </tr>\n",
       "    <tr>\n",
       "      <th>643</th>\n",
       "      <td>14-Oct-20</td>\n",
       "      <td>Recovered</td>\n",
       "      <td>78045</td>\n",
       "      <td>0</td>\n",
       "      <td>5050</td>\n",
       "      <td>0</td>\n",
       "      <td>0</td>\n",
       "      <td>1375</td>\n",
       "      <td>112</td>\n",
       "      <td>0</td>\n",
       "      <td>...</td>\n",
       "      <td>970</td>\n",
       "      <td>2219</td>\n",
       "      <td>61</td>\n",
       "      <td>5083</td>\n",
       "      <td>1918</td>\n",
       "      <td>418</td>\n",
       "      <td>3736</td>\n",
       "      <td>827</td>\n",
       "      <td>3096</td>\n",
       "      <td>0</td>\n",
       "    </tr>\n",
       "    <tr>\n",
       "      <th>644</th>\n",
       "      <td>14-Oct-20</td>\n",
       "      <td>Deceased</td>\n",
       "      <td>651</td>\n",
       "      <td>0</td>\n",
       "      <td>28</td>\n",
       "      <td>0</td>\n",
       "      <td>4</td>\n",
       "      <td>6</td>\n",
       "      <td>2</td>\n",
       "      <td>0</td>\n",
       "      <td>...</td>\n",
       "      <td>31</td>\n",
       "      <td>15</td>\n",
       "      <td>0</td>\n",
       "      <td>52</td>\n",
       "      <td>8</td>\n",
       "      <td>1</td>\n",
       "      <td>41</td>\n",
       "      <td>14</td>\n",
       "      <td>64</td>\n",
       "      <td>0</td>\n",
       "    </tr>\n",
       "  </tbody>\n",
       "</table>\n",
       "<p>6 rows × 41 columns</p>\n",
       "</div>"
      ],
      "text/plain": [
       "          Date     Status     TT  AN    AP   AR    AS    BR   CH    CT  ...  \\\n",
       "639  13-Oct-20  Confirmed  63717  13  4622  194  1482  1223   71  2619  ...   \n",
       "640  13-Oct-20  Recovered  74079  12  5715  170  1020  1030  109  2810  ...   \n",
       "641  13-Oct-20   Deceased    727   0    35    4     4     6    5    20  ...   \n",
       "642  14-Oct-20  Confirmed  64591   0  3892    0  1427  1326   72     0  ...   \n",
       "643  14-Oct-20  Recovered  78045   0  5050    0     0  1375  112     0  ...   \n",
       "644  14-Oct-20   Deceased    651   0    28    0     4     6    2     0  ...   \n",
       "\n",
       "      PB    RJ  SK    TN    TG   TR    UP   UT    WB  UN  \n",
       "639  676  2035  50  4666  1708  217  2957  294  3631   0  \n",
       "640  688  1768  89  5117  2009  220  3662  665  3185   0  \n",
       "641   34    14   2    57     5    1    28   20    62   0  \n",
       "642  549  2021  42  4462  1446  181  2593  429  3677   0  \n",
       "643  970  2219  61  5083  1918  418  3736  827  3096   0  \n",
       "644   31    15   0    52     8    1    41   14    64   0  \n",
       "\n",
       "[6 rows x 41 columns]"
      ]
     },
     "execution_count": 3,
     "metadata": {},
     "output_type": "execute_result"
    }
   ],
   "source": [
    "#hide\n",
    "df.tail(6)"
   ]
  },
  {
   "cell_type": "code",
   "execution_count": 4,
   "metadata": {
    "execution": {
     "iopub.execute_input": "2020-10-14T19:14:32.623900Z",
     "iopub.status.busy": "2020-10-14T19:14:32.623331Z",
     "iopub.status.idle": "2020-10-14T19:14:32.626862Z",
     "shell.execute_reply": "2020-10-14T19:14:32.627419Z"
    },
    "papermill": {
     "duration": 0.022704,
     "end_time": "2020-10-14T19:14:32.627565",
     "exception": false,
     "start_time": "2020-10-14T19:14:32.604861",
     "status": "completed"
    },
    "tags": []
   },
   "outputs": [
    {
     "data": {
      "text/plain": [
       "('14-Oct-20', '13-Oct-20')"
      ]
     },
     "execution_count": 4,
     "metadata": {},
     "output_type": "execute_result"
    }
   ],
   "source": [
    "#hide\n",
    "dt_today = df.iloc[-1][0]\n",
    "dt_yday = df.iloc[-4][0]\n",
    "dt_today, dt_yday"
   ]
  },
  {
   "cell_type": "code",
   "execution_count": 5,
   "metadata": {
    "execution": {
     "iopub.execute_input": "2020-10-14T19:14:32.660080Z",
     "iopub.status.busy": "2020-10-14T19:14:32.659493Z",
     "iopub.status.idle": "2020-10-14T19:14:32.665588Z",
     "shell.execute_reply": "2020-10-14T19:14:32.665127Z"
    },
    "papermill": {
     "duration": 0.025202,
     "end_time": "2020-10-14T19:14:32.665716",
     "exception": false,
     "start_time": "2020-10-14T19:14:32.640514",
     "status": "completed"
    },
    "tags": []
   },
   "outputs": [],
   "source": [
    "#hide\n",
    "df_today = df.groupby('Status').sum()\n",
    "df_yday = df.iloc[:-3][:].groupby('Status').sum()"
   ]
  },
  {
   "cell_type": "code",
   "execution_count": 6,
   "metadata": {
    "execution": {
     "iopub.execute_input": "2020-10-14T19:14:32.708066Z",
     "iopub.status.busy": "2020-10-14T19:14:32.707440Z",
     "iopub.status.idle": "2020-10-14T19:14:32.710141Z",
     "shell.execute_reply": "2020-10-14T19:14:32.710667Z"
    },
    "papermill": {
     "duration": 0.032324,
     "end_time": "2020-10-14T19:14:32.710824",
     "exception": false,
     "start_time": "2020-10-14T19:14:32.678500",
     "status": "completed"
    },
    "tags": []
   },
   "outputs": [
    {
     "data": {
      "text/html": [
       "<div>\n",
       "<style scoped>\n",
       "    .dataframe tbody tr th:only-of-type {\n",
       "        vertical-align: middle;\n",
       "    }\n",
       "\n",
       "    .dataframe tbody tr th {\n",
       "        vertical-align: top;\n",
       "    }\n",
       "\n",
       "    .dataframe thead th {\n",
       "        text-align: right;\n",
       "    }\n",
       "</style>\n",
       "<table border=\"1\" class=\"dataframe\">\n",
       "  <thead>\n",
       "    <tr style=\"text-align: right;\">\n",
       "      <th></th>\n",
       "      <th>TT</th>\n",
       "      <th>AN</th>\n",
       "      <th>AP</th>\n",
       "      <th>AR</th>\n",
       "      <th>AS</th>\n",
       "      <th>BR</th>\n",
       "      <th>CH</th>\n",
       "      <th>CT</th>\n",
       "      <th>DN</th>\n",
       "      <th>DD</th>\n",
       "      <th>...</th>\n",
       "      <th>PB</th>\n",
       "      <th>RJ</th>\n",
       "      <th>SK</th>\n",
       "      <th>TN</th>\n",
       "      <th>TG</th>\n",
       "      <th>TR</th>\n",
       "      <th>UP</th>\n",
       "      <th>UT</th>\n",
       "      <th>WB</th>\n",
       "      <th>UN</th>\n",
       "    </tr>\n",
       "    <tr>\n",
       "      <th>Status</th>\n",
       "      <th></th>\n",
       "      <th></th>\n",
       "      <th></th>\n",
       "      <th></th>\n",
       "      <th></th>\n",
       "      <th></th>\n",
       "      <th></th>\n",
       "      <th></th>\n",
       "      <th></th>\n",
       "      <th></th>\n",
       "      <th></th>\n",
       "      <th></th>\n",
       "      <th></th>\n",
       "      <th></th>\n",
       "      <th></th>\n",
       "      <th></th>\n",
       "      <th></th>\n",
       "      <th></th>\n",
       "      <th></th>\n",
       "      <th></th>\n",
       "      <th></th>\n",
       "    </tr>\n",
       "  </thead>\n",
       "  <tbody>\n",
       "    <tr>\n",
       "      <th>Confirmed</th>\n",
       "      <td>7301237</td>\n",
       "      <td>4032</td>\n",
       "      <td>767465</td>\n",
       "      <td>12561</td>\n",
       "      <td>198111</td>\n",
       "      <td>199549</td>\n",
       "      <td>13403</td>\n",
       "      <td>147866</td>\n",
       "      <td>3167</td>\n",
       "      <td>0</td>\n",
       "      <td>...</td>\n",
       "      <td>125760</td>\n",
       "      <td>165240</td>\n",
       "      <td>3472</td>\n",
       "      <td>670392</td>\n",
       "      <td>215728</td>\n",
       "      <td>28856</td>\n",
       "      <td>444711</td>\n",
       "      <td>56070</td>\n",
       "      <td>305697</td>\n",
       "      <td>0</td>\n",
       "    </tr>\n",
       "    <tr>\n",
       "      <th>Deceased</th>\n",
       "      <td>110685</td>\n",
       "      <td>55</td>\n",
       "      <td>6319</td>\n",
       "      <td>28</td>\n",
       "      <td>838</td>\n",
       "      <td>967</td>\n",
       "      <td>199</td>\n",
       "      <td>1306</td>\n",
       "      <td>2</td>\n",
       "      <td>0</td>\n",
       "      <td>...</td>\n",
       "      <td>3925</td>\n",
       "      <td>1694</td>\n",
       "      <td>59</td>\n",
       "      <td>10423</td>\n",
       "      <td>1241</td>\n",
       "      <td>315</td>\n",
       "      <td>6507</td>\n",
       "      <td>796</td>\n",
       "      <td>5808</td>\n",
       "      <td>0</td>\n",
       "    </tr>\n",
       "    <tr>\n",
       "      <th>Recovered</th>\n",
       "      <td>6376891</td>\n",
       "      <td>3773</td>\n",
       "      <td>719477</td>\n",
       "      <td>9573</td>\n",
       "      <td>167056</td>\n",
       "      <td>187998</td>\n",
       "      <td>12119</td>\n",
       "      <td>119350</td>\n",
       "      <td>3048</td>\n",
       "      <td>0</td>\n",
       "      <td>...</td>\n",
       "      <td>114075</td>\n",
       "      <td>141835</td>\n",
       "      <td>2995</td>\n",
       "      <td>617403</td>\n",
       "      <td>191269</td>\n",
       "      <td>25018</td>\n",
       "      <td>401306</td>\n",
       "      <td>48798</td>\n",
       "      <td>268384</td>\n",
       "      <td>0</td>\n",
       "    </tr>\n",
       "  </tbody>\n",
       "</table>\n",
       "<p>3 rows × 39 columns</p>\n",
       "</div>"
      ],
      "text/plain": [
       "                TT    AN      AP     AR      AS      BR     CH      CT    DN  \\\n",
       "Status                                                                         \n",
       "Confirmed  7301237  4032  767465  12561  198111  199549  13403  147866  3167   \n",
       "Deceased    110685    55    6319     28     838     967    199    1306     2   \n",
       "Recovered  6376891  3773  719477   9573  167056  187998  12119  119350  3048   \n",
       "\n",
       "           DD  ...      PB      RJ    SK      TN      TG     TR      UP  \\\n",
       "Status         ...                                                        \n",
       "Confirmed   0  ...  125760  165240  3472  670392  215728  28856  444711   \n",
       "Deceased    0  ...    3925    1694    59   10423    1241    315    6507   \n",
       "Recovered   0  ...  114075  141835  2995  617403  191269  25018  401306   \n",
       "\n",
       "              UT      WB  UN  \n",
       "Status                        \n",
       "Confirmed  56070  305697   0  \n",
       "Deceased     796    5808   0  \n",
       "Recovered  48798  268384   0  \n",
       "\n",
       "[3 rows x 39 columns]"
      ]
     },
     "execution_count": 6,
     "metadata": {},
     "output_type": "execute_result"
    }
   ],
   "source": [
    "#hide\n",
    "df_today"
   ]
  },
  {
   "cell_type": "code",
   "execution_count": 7,
   "metadata": {
    "execution": {
     "iopub.execute_input": "2020-10-14T19:14:32.749896Z",
     "iopub.status.busy": "2020-10-14T19:14:32.749278Z",
     "iopub.status.idle": "2020-10-14T19:14:32.758719Z",
     "shell.execute_reply": "2020-10-14T19:14:32.758195Z"
    },
    "papermill": {
     "duration": 0.033762,
     "end_time": "2020-10-14T19:14:32.758853",
     "exception": false,
     "start_time": "2020-10-14T19:14:32.725091",
     "status": "completed"
    },
    "tags": []
   },
   "outputs": [
    {
     "data": {
      "text/html": [
       "<div>\n",
       "<style scoped>\n",
       "    .dataframe tbody tr th:only-of-type {\n",
       "        vertical-align: middle;\n",
       "    }\n",
       "\n",
       "    .dataframe tbody tr th {\n",
       "        vertical-align: top;\n",
       "    }\n",
       "\n",
       "    .dataframe thead th {\n",
       "        text-align: right;\n",
       "    }\n",
       "</style>\n",
       "<table border=\"1\" class=\"dataframe\">\n",
       "  <thead>\n",
       "    <tr style=\"text-align: right;\">\n",
       "      <th></th>\n",
       "      <th>TT</th>\n",
       "      <th>AN</th>\n",
       "      <th>AP</th>\n",
       "      <th>AR</th>\n",
       "      <th>AS</th>\n",
       "      <th>BR</th>\n",
       "      <th>CH</th>\n",
       "      <th>CT</th>\n",
       "      <th>DN</th>\n",
       "      <th>DD</th>\n",
       "      <th>...</th>\n",
       "      <th>PB</th>\n",
       "      <th>RJ</th>\n",
       "      <th>SK</th>\n",
       "      <th>TN</th>\n",
       "      <th>TG</th>\n",
       "      <th>TR</th>\n",
       "      <th>UP</th>\n",
       "      <th>UT</th>\n",
       "      <th>WB</th>\n",
       "      <th>UN</th>\n",
       "    </tr>\n",
       "    <tr>\n",
       "      <th>Status</th>\n",
       "      <th></th>\n",
       "      <th></th>\n",
       "      <th></th>\n",
       "      <th></th>\n",
       "      <th></th>\n",
       "      <th></th>\n",
       "      <th></th>\n",
       "      <th></th>\n",
       "      <th></th>\n",
       "      <th></th>\n",
       "      <th></th>\n",
       "      <th></th>\n",
       "      <th></th>\n",
       "      <th></th>\n",
       "      <th></th>\n",
       "      <th></th>\n",
       "      <th></th>\n",
       "      <th></th>\n",
       "      <th></th>\n",
       "      <th></th>\n",
       "      <th></th>\n",
       "    </tr>\n",
       "  </thead>\n",
       "  <tbody>\n",
       "    <tr>\n",
       "      <th>Confirmed</th>\n",
       "      <td>7236646</td>\n",
       "      <td>4032</td>\n",
       "      <td>763573</td>\n",
       "      <td>12561</td>\n",
       "      <td>196684</td>\n",
       "      <td>198223</td>\n",
       "      <td>13331</td>\n",
       "      <td>147866</td>\n",
       "      <td>3164</td>\n",
       "      <td>0</td>\n",
       "      <td>...</td>\n",
       "      <td>125211</td>\n",
       "      <td>163219</td>\n",
       "      <td>3430</td>\n",
       "      <td>665930</td>\n",
       "      <td>214282</td>\n",
       "      <td>28675</td>\n",
       "      <td>442118</td>\n",
       "      <td>55641</td>\n",
       "      <td>302020</td>\n",
       "      <td>0</td>\n",
       "    </tr>\n",
       "    <tr>\n",
       "      <th>Deceased</th>\n",
       "      <td>110034</td>\n",
       "      <td>55</td>\n",
       "      <td>6291</td>\n",
       "      <td>28</td>\n",
       "      <td>834</td>\n",
       "      <td>961</td>\n",
       "      <td>197</td>\n",
       "      <td>1306</td>\n",
       "      <td>2</td>\n",
       "      <td>0</td>\n",
       "      <td>...</td>\n",
       "      <td>3894</td>\n",
       "      <td>1679</td>\n",
       "      <td>59</td>\n",
       "      <td>10371</td>\n",
       "      <td>1233</td>\n",
       "      <td>314</td>\n",
       "      <td>6466</td>\n",
       "      <td>782</td>\n",
       "      <td>5744</td>\n",
       "      <td>0</td>\n",
       "    </tr>\n",
       "    <tr>\n",
       "      <th>Recovered</th>\n",
       "      <td>6298846</td>\n",
       "      <td>3773</td>\n",
       "      <td>714427</td>\n",
       "      <td>9573</td>\n",
       "      <td>167056</td>\n",
       "      <td>186623</td>\n",
       "      <td>12007</td>\n",
       "      <td>119350</td>\n",
       "      <td>3039</td>\n",
       "      <td>0</td>\n",
       "      <td>...</td>\n",
       "      <td>113105</td>\n",
       "      <td>139616</td>\n",
       "      <td>2934</td>\n",
       "      <td>612320</td>\n",
       "      <td>189351</td>\n",
       "      <td>24600</td>\n",
       "      <td>397570</td>\n",
       "      <td>47971</td>\n",
       "      <td>265288</td>\n",
       "      <td>0</td>\n",
       "    </tr>\n",
       "  </tbody>\n",
       "</table>\n",
       "<p>3 rows × 39 columns</p>\n",
       "</div>"
      ],
      "text/plain": [
       "                TT    AN      AP     AR      AS      BR     CH      CT    DN  \\\n",
       "Status                                                                         \n",
       "Confirmed  7236646  4032  763573  12561  196684  198223  13331  147866  3164   \n",
       "Deceased    110034    55    6291     28     834     961    197    1306     2   \n",
       "Recovered  6298846  3773  714427   9573  167056  186623  12007  119350  3039   \n",
       "\n",
       "           DD  ...      PB      RJ    SK      TN      TG     TR      UP  \\\n",
       "Status         ...                                                        \n",
       "Confirmed   0  ...  125211  163219  3430  665930  214282  28675  442118   \n",
       "Deceased    0  ...    3894    1679    59   10371    1233    314    6466   \n",
       "Recovered   0  ...  113105  139616  2934  612320  189351  24600  397570   \n",
       "\n",
       "              UT      WB  UN  \n",
       "Status                        \n",
       "Confirmed  55641  302020   0  \n",
       "Deceased     782    5744   0  \n",
       "Recovered  47971  265288   0  \n",
       "\n",
       "[3 rows x 39 columns]"
      ]
     },
     "execution_count": 7,
     "metadata": {},
     "output_type": "execute_result"
    }
   ],
   "source": [
    "#hide\n",
    "df_yday.head()"
   ]
  },
  {
   "cell_type": "code",
   "execution_count": 8,
   "metadata": {
    "execution": {
     "iopub.execute_input": "2020-10-14T19:14:32.796369Z",
     "iopub.status.busy": "2020-10-14T19:14:32.795744Z",
     "iopub.status.idle": "2020-10-14T19:14:32.798901Z",
     "shell.execute_reply": "2020-10-14T19:14:32.798401Z"
    },
    "papermill": {
     "duration": 0.025717,
     "end_time": "2020-10-14T19:14:32.799037",
     "exception": false,
     "start_time": "2020-10-14T19:14:32.773320",
     "status": "completed"
    },
    "tags": []
   },
   "outputs": [
    {
     "data": {
      "text/plain": [
       "{'updated': '14-Oct-20',\n",
       " 'since': '13-Oct-20',\n",
       " 'Cases': 7301237,\n",
       " 'Deaths': 110685,\n",
       " 'Recovered': 6376891,\n",
       " 'PCases': 7236646,\n",
       " 'PDeaths': 110034,\n",
       " 'PRecovered': 6298846,\n",
       " 'Cases (+)': 64591,\n",
       " 'Deaths (+)': 651,\n",
       " 'Recovered (+)': 78045}"
      ]
     },
     "execution_count": 8,
     "metadata": {},
     "output_type": "execute_result"
    }
   ],
   "source": [
    "#hide\n",
    "summary = {\n",
    "    'updated' : dt_today,\n",
    "    'since' : dt_yday,\n",
    "    'Cases' : df_today['TT'][0],\n",
    "    'Deaths' : df_today['TT'][1],\n",
    "    'Recovered' : df_today['TT'][2],\n",
    "    'PCases' : df_yday['TT'][0],\n",
    "    'PDeaths' : df_yday['TT'][1],\n",
    "    'PRecovered': df_yday['TT'][2],\n",
    "    'Cases (+)' : df_today['TT'][0] - df_yday['TT'][0],\n",
    "    'Deaths (+)' : df_today['TT'][1] - df_yday['TT'][1],\n",
    "    'Recovered (+)': df_today['TT'][2] - df_yday['TT'][2]\n",
    "}\n",
    "\n",
    "summary"
   ]
  },
  {
   "cell_type": "code",
   "execution_count": 9,
   "metadata": {
    "execution": {
     "iopub.execute_input": "2020-10-14T19:14:32.833989Z",
     "iopub.status.busy": "2020-10-14T19:14:32.833378Z",
     "iopub.status.idle": "2020-10-14T19:14:32.835323Z",
     "shell.execute_reply": "2020-10-14T19:14:32.835741Z"
    },
    "papermill": {
     "duration": 0.022051,
     "end_time": "2020-10-14T19:14:32.835885",
     "exception": false,
     "start_time": "2020-10-14T19:14:32.813834",
     "status": "completed"
    },
    "tags": []
   },
   "outputs": [],
   "source": [
    "#hide\n",
    "overview = '''\n",
    "<!-- #######  HTML!! #########-->\n",
    "<h1 style=\"color: #5e9ca0; text-align: center;\">India</h1>\n",
    "<p style=\"text-align: center;\">Last update: <strong>{update}</strong></p>\n",
    "<p style=\"text-align: center;\">Confirmed cases:</p>\n",
    "<p style=\"text-align: center;font-size:24px;\">{cases} (<span style=\"color: #ff0000;\">+{new}</span>)</p>\n",
    "<p style=\"text-align: center;\">Confirmed deaths:</p>\n",
    "<p style=\"text-align: center;font-size:24px;\">{deaths} (<span style=\"color: #ff0000;\">+{dnew}</span>)</p>\n",
    "<p style=\"text-align: center;\">Recovered cases:</p>\n",
    "<p style=\"text-align: center;font-size:24px;\">{recovered} (<span style=\"color: #00ff00;\">+{rnew}</span>)</p>\n",
    "'''"
   ]
  },
  {
   "cell_type": "code",
   "execution_count": 10,
   "metadata": {
    "execution": {
     "iopub.execute_input": "2020-10-14T19:14:32.872241Z",
     "iopub.status.busy": "2020-10-14T19:14:32.871587Z",
     "iopub.status.idle": "2020-10-14T19:14:32.875165Z",
     "shell.execute_reply": "2020-10-14T19:14:32.875595Z"
    },
    "papermill": {
     "duration": 0.025791,
     "end_time": "2020-10-14T19:14:32.875746",
     "exception": false,
     "start_time": "2020-10-14T19:14:32.849955",
     "status": "completed"
    },
    "tags": []
   },
   "outputs": [
    {
     "data": {
      "text/html": [
       "\n",
       "<!-- #######  HTML!! #########-->\n",
       "<h1 style=\"color: #5e9ca0; text-align: center;\">India</h1>\n",
       "<p style=\"text-align: center;\">Last update: <strong>14-Oct-20</strong></p>\n",
       "<p style=\"text-align: center;\">Confirmed cases:</p>\n",
       "<p style=\"text-align: center;font-size:24px;\">7301237 (<span style=\"color: #ff0000;\">+64591</span>)</p>\n",
       "<p style=\"text-align: center;\">Confirmed deaths:</p>\n",
       "<p style=\"text-align: center;font-size:24px;\">110685 (<span style=\"color: #ff0000;\">+651</span>)</p>\n",
       "<p style=\"text-align: center;\">Recovered cases:</p>\n",
       "<p style=\"text-align: center;font-size:24px;\">6376891 (<span style=\"color: #00ff00;\">+78045</span>)</p>\n"
      ],
      "text/plain": [
       "<IPython.core.display.HTML object>"
      ]
     },
     "metadata": {},
     "output_type": "display_data"
    }
   ],
   "source": [
    "#hide_input\n",
    "# Fill the above HTML with the information from the summary dictionary\n",
    "\n",
    "update = summary['updated']\n",
    "cases = summary['Cases']\n",
    "new = summary['Cases (+)']\n",
    "deaths = summary['Deaths']\n",
    "dnew = summary['Deaths (+)']\n",
    "recovered = summary['Recovered']\n",
    "rnew = summary['Recovered (+)']\n",
    "\n",
    "html = HTML(overview.format(update=update, cases=cases,new=new,deaths=deaths,dnew=dnew, recovered=recovered, rnew=rnew))\n",
    "\n",
    "display(html)"
   ]
  },
  {
   "cell_type": "code",
   "execution_count": 11,
   "metadata": {
    "execution": {
     "iopub.execute_input": "2020-10-14T19:14:32.917555Z",
     "iopub.status.busy": "2020-10-14T19:14:32.916962Z",
     "iopub.status.idle": "2020-10-14T19:14:32.920834Z",
     "shell.execute_reply": "2020-10-14T19:14:32.920315Z"
    },
    "papermill": {
     "duration": 0.030491,
     "end_time": "2020-10-14T19:14:32.920970",
     "exception": false,
     "start_time": "2020-10-14T19:14:32.890479",
     "status": "completed"
    },
    "tags": []
   },
   "outputs": [],
   "source": [
    "#hide\n",
    "df_cases = df[df['Status'] == 'Confirmed'].copy()\n",
    "df_cases.drop(columns = ['Status'], inplace=True)\n",
    "df_deaths = df[df['Status'] == 'Deceased'].copy()\n",
    "df_deaths.drop(columns = ['Status'], inplace=True)\n",
    "df_recovered = df[df['Status'] == 'Recovered'].copy()\n",
    "df_recovered.drop(columns = ['Status'], inplace=True)"
   ]
  },
  {
   "cell_type": "markdown",
   "metadata": {
    "papermill": {
     "duration": 0.015351,
     "end_time": "2020-10-14T19:14:32.951673",
     "exception": false,
     "start_time": "2020-10-14T19:14:32.936322",
     "status": "completed"
    },
    "tags": []
   },
   "source": [
    "Plot for India:"
   ]
  },
  {
   "cell_type": "code",
   "execution_count": 12,
   "metadata": {
    "execution": {
     "iopub.execute_input": "2020-10-14T19:14:33.071966Z",
     "iopub.status.busy": "2020-10-14T19:14:33.025756Z",
     "iopub.status.idle": "2020-10-14T19:14:33.271313Z",
     "shell.execute_reply": "2020-10-14T19:14:33.271780Z"
    },
    "papermill": {
     "duration": 0.305048,
     "end_time": "2020-10-14T19:14:33.271935",
     "exception": false,
     "start_time": "2020-10-14T19:14:32.966887",
     "status": "completed"
    },
    "tags": []
   },
   "outputs": [
    {
     "data": {
      "image/png": "[encoded data removed]",
      "text/plain": [
       "<Figure size 1296x432 with 1 Axes>"
      ]
     },
     "metadata": {
      "needs_background": "light"
     },
     "output_type": "display_data"
    }
   ],
   "source": [
    "#hide_input\n",
    "plt.figure(figsize = (18,6))\n",
    "plt.plot(df_cases['Date'], df_cases['TT'],'.-', alpha=0.7, color='b', label='Confirmed cases')\n",
    "plt.plot(df_recovered['Date'], df_recovered['TT'],'.-', alpha=0.7, color='g', label='Recovered')\n",
    "plt.plot(df_deaths['Date'], df_deaths['TT'],'.-', alpha=0.7, color='r', label='Deceased')\n",
    "plt.legend()\n",
    "plt.title(\"Cases per day in India\")\n",
    "plt.xticks(ticks=' ')\n",
    "plt.xlabel(f'{df_cases.iloc[0][0]} to {df_cases.iloc[-1][0]}')\n",
    "plt.ylabel('No. of cases');"
   ]
  },
  {
   "cell_type": "markdown",
   "metadata": {
    "papermill": {
     "duration": 0.017189,
     "end_time": "2020-10-14T19:14:33.306814",
     "exception": false,
     "start_time": "2020-10-14T19:14:33.289625",
     "status": "completed"
    },
    "tags": []
   },
   "source": [
    "Plots for the states with highest number of cases:"
   ]
  },
  {
   "cell_type": "code",
   "execution_count": 13,
   "metadata": {
    "execution": {
     "iopub.execute_input": "2020-10-14T19:14:33.354219Z",
     "iopub.status.busy": "2020-10-14T19:14:33.353577Z",
     "iopub.status.idle": "2020-10-14T19:14:33.982266Z",
     "shell.execute_reply": "2020-10-14T19:14:33.981757Z"
    },
    "papermill": {
     "duration": 0.658173,
     "end_time": "2020-10-14T19:14:33.982410",
     "exception": false,
     "start_time": "2020-10-14T19:14:33.324237",
     "status": "completed"
    },
    "tags": []
   },
   "outputs": [
    {
     "data": {
      "image/png": "[encoded data removed]",
      "text/plain": [
       "<Figure size 1512x432 with 3 Axes>"
      ]
     },
     "metadata": {
      "needs_background": "light"
     },
     "output_type": "display_data"
    }
   ],
   "source": [
    "#hide_input\n",
    "top_3 = sorted(df_cases.sum().values[1:], reverse=True)[1:4]\n",
    "top3_states=[]\n",
    "for i in top_3:\n",
    "    top3_states.append(df_cases.sum()[df_cases.sum() == i].index)\n",
    "\n",
    "\n",
    "fig, ax = plt.subplots(1,3,figsize = (21,6))\n",
    "for i in range(3):\n",
    "    state = top3_states[i].values[0]\n",
    "    ax[i].plot(df_cases['Date'], df_cases[state],'.-', color='b', alpha=0.7)\n",
    "    ax[i].plot(df_deaths['Date'], df_deaths[state],'.-', color='r', alpha=0.7)\n",
    "    ax[i].plot(df_recovered['Date'], df_recovered[state],'.-', color='g', alpha=0.7)\n",
    "    \n",
    "    ax[i].set_title(f\"Cases in {state}\")\n",
    "    ax[i].set_xticks(ticks=' ')\n",
    "    ax[i].set_xlabel(f'{df_cases.iloc[0][0]} to {df_cases.iloc[-1][0]}')\n",
    "    ax[i].set_ylabel('No. of cases');"
   ]
  },
  {
   "cell_type": "code",
   "execution_count": null,
   "metadata": {
    "papermill": {
     "duration": 0.020464,
     "end_time": "2020-10-14T19:14:34.023779",
     "exception": false,
     "start_time": "2020-10-14T19:14:34.003315",
     "status": "completed"
    },
    "tags": []
   },
   "outputs": [],
   "source": []
  },
  {
   "cell_type": "code",
   "execution_count": null,
   "metadata": {
    "papermill": {
     "duration": 0.020503,
     "end_time": "2020-10-14T19:14:34.064624",
     "exception": false,
     "start_time": "2020-10-14T19:14:34.044121",
     "status": "completed"
    },
    "tags": []
   },
   "outputs": [],
   "source": []
  },
  {
   "cell_type": "code",
   "execution_count": null,
   "metadata": {
    "papermill": {
     "duration": 0.020169,
     "end_time": "2020-10-14T19:14:34.105273",
     "exception": false,
     "start_time": "2020-10-14T19:14:34.085104",
     "status": "completed"
    },
    "tags": []
   },
   "outputs": [],
   "source": []
  }
 ],
 "metadata": {
  "kernelspec": {
   "display_name": "Python 3",
   "language": "python",
   "name": "python3"
  },
  "language_info": {
   "codemirror_mode": {
    "name": "ipython",
    "version": 3
   },
   "file_extension": ".py",
   "mimetype": "text/x-python",
   "name": "python",
   "nbconvert_exporter": "python",
   "pygments_lexer": "ipython3",
   "version": "3.6.12"
  },
  "papermill": {
   "duration": 4.052412,
   "end_time": "2020-10-14T19:14:34.535155",
   "environment_variables": {},
   "exception": null,
   "input_path": "2020-08-09-DailyUpdate.ipynb",
   "output_path": "2020-08-09-DailyUpdate.ipynb",
   "parameters": {},
   "start_time": "2020-10-14T19:14:30.482743",
   "version": "2.1.2"
  }
 },
 "nbformat": 4,
 "nbformat_minor": 4
}