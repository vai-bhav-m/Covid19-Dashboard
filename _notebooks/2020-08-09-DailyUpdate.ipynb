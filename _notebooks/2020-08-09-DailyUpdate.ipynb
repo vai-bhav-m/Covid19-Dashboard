{
 "cells": [
  {
   "cell_type": "markdown",
   "metadata": {
    "papermill": {
     "duration": 0.016809,
     "end_time": "2020-09-26T19:13:08.952344",
     "exception": false,
     "start_time": "2020-09-26T19:13:08.935535",
     "status": "completed"
    },
    "tags": []
   },
   "source": [
    "# COVID-19 India Daily updates\n",
    "> Tracking coronavirus total cases, deaths and new cases in India on a daily basis\n",
    "\n",
    "- author: Vaibhav Mahapatra"
   ]
  },
  {
   "cell_type": "code",
   "execution_count": 1,
   "metadata": {
    "execution": {
     "iopub.execute_input": "2020-09-26T19:13:08.984211Z",
     "iopub.status.busy": "2020-09-26T19:13:08.983587Z",
     "iopub.status.idle": "2020-09-26T19:13:09.597997Z",
     "shell.execute_reply": "2020-09-26T19:13:09.597468Z"
    },
    "papermill": {
     "duration": 0.633511,
     "end_time": "2020-09-26T19:13:09.598157",
     "exception": false,
     "start_time": "2020-09-26T19:13:08.964646",
     "status": "completed"
    },
    "tags": []
   },
   "outputs": [],
   "source": [
    "#hide\n",
    "\n",
    "## Import essential packages below\n",
    "\n",
    "import pandas as pd\n",
    "import numpy as np\n",
    "import requests\n",
    "import json\n",
    "import matplotlib.pyplot as plt\n",
    "import matplotlib.dates as mdates\n",
    "import matplotlib as mpl\n",
    "from IPython.core.display import display,HTML\n",
    "%matplotlib inline"
   ]
  },
  {
   "cell_type": "code",
   "execution_count": 2,
   "metadata": {
    "execution": {
     "iopub.execute_input": "2020-09-26T19:13:09.630265Z",
     "iopub.status.busy": "2020-09-26T19:13:09.629657Z",
     "iopub.status.idle": "2020-09-26T19:13:09.694589Z",
     "shell.execute_reply": "2020-09-26T19:13:09.695309Z"
    },
    "papermill": {
     "duration": 0.084369,
     "end_time": "2020-09-26T19:13:09.695473",
     "exception": false,
     "start_time": "2020-09-26T19:13:09.611104",
     "status": "completed"
    },
    "tags": []
   },
   "outputs": [
    {
     "data": {
      "text/plain": [
       "(591, 41)"
      ]
     },
     "execution_count": 2,
     "metadata": {},
     "output_type": "execute_result"
    }
   ],
   "source": [
    "#hide\n",
    "url = 'https://api.covid19india.org/csv/latest/state_wise_daily.csv'\n",
    "df = pd.read_csv(url)\n",
    "df.shape"
   ]
  },
  {
   "cell_type": "code",
   "execution_count": 3,
   "metadata": {
    "execution": {
     "iopub.execute_input": "2020-09-26T19:13:09.777727Z",
     "iopub.status.busy": "2020-09-26T19:13:09.775781Z",
     "iopub.status.idle": "2020-09-26T19:13:09.790032Z",
     "shell.execute_reply": "2020-09-26T19:13:09.789189Z"
    },
    "papermill": {
     "duration": 0.082474,
     "end_time": "2020-09-26T19:13:09.790177",
     "exception": false,
     "start_time": "2020-09-26T19:13:09.707703",
     "status": "completed"
    },
    "tags": []
   },
   "outputs": [
    {
     "data": {
      "text/html": [
       "<div>\n",
       "<style scoped>\n",
       "    .dataframe tbody tr th:only-of-type {\n",
       "        vertical-align: middle;\n",
       "    }\n",
       "\n",
       "    .dataframe tbody tr th {\n",
       "        vertical-align: top;\n",
       "    }\n",
       "\n",
       "    .dataframe thead th {\n",
       "        text-align: right;\n",
       "    }\n",
       "</style>\n",
       "<table border=\"1\" class=\"dataframe\">\n",
       "  <thead>\n",
       "    <tr style=\"text-align: right;\">\n",
       "      <th></th>\n",
       "      <th>Date</th>\n",
       "      <th>Status</th>\n",
       "      <th>TT</th>\n",
       "      <th>AN</th>\n",
       "      <th>AP</th>\n",
       "      <th>AR</th>\n",
       "      <th>AS</th>\n",
       "      <th>BR</th>\n",
       "      <th>CH</th>\n",
       "      <th>CT</th>\n",
       "      <th>...</th>\n",
       "      <th>PB</th>\n",
       "      <th>RJ</th>\n",
       "      <th>SK</th>\n",
       "      <th>TN</th>\n",
       "      <th>TG</th>\n",
       "      <th>TR</th>\n",
       "      <th>UP</th>\n",
       "      <th>UT</th>\n",
       "      <th>WB</th>\n",
       "      <th>UN</th>\n",
       "    </tr>\n",
       "  </thead>\n",
       "  <tbody>\n",
       "    <tr>\n",
       "      <th>585</th>\n",
       "      <td>25-Sep-20</td>\n",
       "      <td>Confirmed</td>\n",
       "      <td>85717</td>\n",
       "      <td>15</td>\n",
       "      <td>7073</td>\n",
       "      <td>255</td>\n",
       "      <td>1792</td>\n",
       "      <td>1632</td>\n",
       "      <td>244</td>\n",
       "      <td>2942</td>\n",
       "      <td>...</td>\n",
       "      <td>1876</td>\n",
       "      <td>2010</td>\n",
       "      <td>92</td>\n",
       "      <td>5679</td>\n",
       "      <td>2381</td>\n",
       "      <td>341</td>\n",
       "      <td>4256</td>\n",
       "      <td>928</td>\n",
       "      <td>3190</td>\n",
       "      <td>0</td>\n",
       "    </tr>\n",
       "    <tr>\n",
       "      <th>586</th>\n",
       "      <td>25-Sep-20</td>\n",
       "      <td>Recovered</td>\n",
       "      <td>93327</td>\n",
       "      <td>25</td>\n",
       "      <td>8695</td>\n",
       "      <td>159</td>\n",
       "      <td>1571</td>\n",
       "      <td>1810</td>\n",
       "      <td>335</td>\n",
       "      <td>8027</td>\n",
       "      <td>...</td>\n",
       "      <td>2550</td>\n",
       "      <td>1958</td>\n",
       "      <td>21</td>\n",
       "      <td>5626</td>\n",
       "      <td>2021</td>\n",
       "      <td>509</td>\n",
       "      <td>6075</td>\n",
       "      <td>1488</td>\n",
       "      <td>2978</td>\n",
       "      <td>0</td>\n",
       "    </tr>\n",
       "    <tr>\n",
       "      <th>587</th>\n",
       "      <td>25-Sep-20</td>\n",
       "      <td>Deceased</td>\n",
       "      <td>1093</td>\n",
       "      <td>0</td>\n",
       "      <td>48</td>\n",
       "      <td>0</td>\n",
       "      <td>17</td>\n",
       "      <td>3</td>\n",
       "      <td>1</td>\n",
       "      <td>25</td>\n",
       "      <td>...</td>\n",
       "      <td>68</td>\n",
       "      <td>15</td>\n",
       "      <td>0</td>\n",
       "      <td>72</td>\n",
       "      <td>10</td>\n",
       "      <td>5</td>\n",
       "      <td>84</td>\n",
       "      <td>13</td>\n",
       "      <td>59</td>\n",
       "      <td>0</td>\n",
       "    </tr>\n",
       "    <tr>\n",
       "      <th>588</th>\n",
       "      <td>26-Sep-20</td>\n",
       "      <td>Confirmed</td>\n",
       "      <td>84292</td>\n",
       "      <td>15</td>\n",
       "      <td>7293</td>\n",
       "      <td>198</td>\n",
       "      <td>1736</td>\n",
       "      <td>1457</td>\n",
       "      <td>168</td>\n",
       "      <td>0</td>\n",
       "      <td>...</td>\n",
       "      <td>1588</td>\n",
       "      <td>2045</td>\n",
       "      <td>48</td>\n",
       "      <td>5647</td>\n",
       "      <td>2239</td>\n",
       "      <td>278</td>\n",
       "      <td>4302</td>\n",
       "      <td>949</td>\n",
       "      <td>3181</td>\n",
       "      <td>0</td>\n",
       "    </tr>\n",
       "    <tr>\n",
       "      <th>589</th>\n",
       "      <td>26-Sep-20</td>\n",
       "      <td>Recovered</td>\n",
       "      <td>88217</td>\n",
       "      <td>23</td>\n",
       "      <td>9125</td>\n",
       "      <td>167</td>\n",
       "      <td>1595</td>\n",
       "      <td>1622</td>\n",
       "      <td>260</td>\n",
       "      <td>0</td>\n",
       "      <td>...</td>\n",
       "      <td>1988</td>\n",
       "      <td>1706</td>\n",
       "      <td>22</td>\n",
       "      <td>5612</td>\n",
       "      <td>2281</td>\n",
       "      <td>505</td>\n",
       "      <td>6546</td>\n",
       "      <td>1007</td>\n",
       "      <td>2955</td>\n",
       "      <td>0</td>\n",
       "    </tr>\n",
       "    <tr>\n",
       "      <th>590</th>\n",
       "      <td>26-Sep-20</td>\n",
       "      <td>Deceased</td>\n",
       "      <td>1083</td>\n",
       "      <td>0</td>\n",
       "      <td>57</td>\n",
       "      <td>0</td>\n",
       "      <td>13</td>\n",
       "      <td>5</td>\n",
       "      <td>0</td>\n",
       "      <td>0</td>\n",
       "      <td>...</td>\n",
       "      <td>54</td>\n",
       "      <td>14</td>\n",
       "      <td>0</td>\n",
       "      <td>85</td>\n",
       "      <td>11</td>\n",
       "      <td>3</td>\n",
       "      <td>67</td>\n",
       "      <td>11</td>\n",
       "      <td>56</td>\n",
       "      <td>0</td>\n",
       "    </tr>\n",
       "  </tbody>\n",
       "</table>\n",
       "<p>6 rows × 41 columns</p>\n",
       "</div>"
      ],
      "text/plain": [
       "          Date     Status     TT  AN    AP   AR    AS    BR   CH    CT  ...  \\\n",
       "585  25-Sep-20  Confirmed  85717  15  7073  255  1792  1632  244  2942  ...   \n",
       "586  25-Sep-20  Recovered  93327  25  8695  159  1571  1810  335  8027  ...   \n",
       "587  25-Sep-20   Deceased   1093   0    48    0    17     3    1    25  ...   \n",
       "588  26-Sep-20  Confirmed  84292  15  7293  198  1736  1457  168     0  ...   \n",
       "589  26-Sep-20  Recovered  88217  23  9125  167  1595  1622  260     0  ...   \n",
       "590  26-Sep-20   Deceased   1083   0    57    0    13     5    0     0  ...   \n",
       "\n",
       "       PB    RJ  SK    TN    TG   TR    UP    UT    WB  UN  \n",
       "585  1876  2010  92  5679  2381  341  4256   928  3190   0  \n",
       "586  2550  1958  21  5626  2021  509  6075  1488  2978   0  \n",
       "587    68    15   0    72    10    5    84    13    59   0  \n",
       "588  1588  2045  48  5647  2239  278  4302   949  3181   0  \n",
       "589  1988  1706  22  5612  2281  505  6546  1007  2955   0  \n",
       "590    54    14   0    85    11    3    67    11    56   0  \n",
       "\n",
       "[6 rows x 41 columns]"
      ]
     },
     "execution_count": 3,
     "metadata": {},
     "output_type": "execute_result"
    }
   ],
   "source": [
    "#hide\n",
    "df.tail(6)"
   ]
  },
  {
   "cell_type": "code",
   "execution_count": 4,
   "metadata": {
    "execution": {
     "iopub.execute_input": "2020-09-26T19:13:09.821663Z",
     "iopub.status.busy": "2020-09-26T19:13:09.821058Z",
     "iopub.status.idle": "2020-09-26T19:13:09.824410Z",
     "shell.execute_reply": "2020-09-26T19:13:09.824855Z"
    },
    "papermill": {
     "duration": 0.021965,
     "end_time": "2020-09-26T19:13:09.825006",
     "exception": false,
     "start_time": "2020-09-26T19:13:09.803041",
     "status": "completed"
    },
    "tags": []
   },
   "outputs": [
    {
     "data": {
      "text/plain": [
       "('26-Sep-20', '25-Sep-20')"
      ]
     },
     "execution_count": 4,
     "metadata": {},
     "output_type": "execute_result"
    }
   ],
   "source": [
    "#hide\n",
    "dt_today = df.iloc[-1][0]\n",
    "dt_yday = df.iloc[-4][0]\n",
    "dt_today, dt_yday"
   ]
  },
  {
   "cell_type": "code",
   "execution_count": 5,
   "metadata": {
    "execution": {
     "iopub.execute_input": "2020-09-26T19:13:09.857833Z",
     "iopub.status.busy": "2020-09-26T19:13:09.857171Z",
     "iopub.status.idle": "2020-09-26T19:13:09.864450Z",
     "shell.execute_reply": "2020-09-26T19:13:09.865192Z"
    },
    "papermill": {
     "duration": 0.027028,
     "end_time": "2020-09-26T19:13:09.865354",
     "exception": false,
     "start_time": "2020-09-26T19:13:09.838326",
     "status": "completed"
    },
    "tags": []
   },
   "outputs": [],
   "source": [
    "#hide\n",
    "df_today = df.groupby('Status').sum()\n",
    "df_yday = df.iloc[:-3][:].groupby('Status').sum()"
   ]
  },
  {
   "cell_type": "code",
   "execution_count": 6,
   "metadata": {
    "execution": {
     "iopub.execute_input": "2020-09-26T19:13:09.908488Z",
     "iopub.status.busy": "2020-09-26T19:13:09.907822Z",
     "iopub.status.idle": "2020-09-26T19:13:09.911776Z",
     "shell.execute_reply": "2020-09-26T19:13:09.911123Z"
    },
    "papermill": {
     "duration": 0.033662,
     "end_time": "2020-09-26T19:13:09.911918",
     "exception": false,
     "start_time": "2020-09-26T19:13:09.878256",
     "status": "completed"
    },
    "tags": []
   },
   "outputs": [
    {
     "data": {
      "text/html": [
       "<div>\n",
       "<style scoped>\n",
       "    .dataframe tbody tr th:only-of-type {\n",
       "        vertical-align: middle;\n",
       "    }\n",
       "\n",
       "    .dataframe tbody tr th {\n",
       "        vertical-align: top;\n",
       "    }\n",
       "\n",
       "    .dataframe thead th {\n",
       "        text-align: right;\n",
       "    }\n",
       "</style>\n",
       "<table border=\"1\" class=\"dataframe\">\n",
       "  <thead>\n",
       "    <tr style=\"text-align: right;\">\n",
       "      <th></th>\n",
       "      <th>TT</th>\n",
       "      <th>AN</th>\n",
       "      <th>AP</th>\n",
       "      <th>AR</th>\n",
       "      <th>AS</th>\n",
       "      <th>BR</th>\n",
       "      <th>CH</th>\n",
       "      <th>CT</th>\n",
       "      <th>DN</th>\n",
       "      <th>DD</th>\n",
       "      <th>...</th>\n",
       "      <th>PB</th>\n",
       "      <th>RJ</th>\n",
       "      <th>SK</th>\n",
       "      <th>TN</th>\n",
       "      <th>TG</th>\n",
       "      <th>TR</th>\n",
       "      <th>UP</th>\n",
       "      <th>UT</th>\n",
       "      <th>WB</th>\n",
       "      <th>UN</th>\n",
       "    </tr>\n",
       "    <tr>\n",
       "      <th>Status</th>\n",
       "      <th></th>\n",
       "      <th></th>\n",
       "      <th></th>\n",
       "      <th></th>\n",
       "      <th></th>\n",
       "      <th></th>\n",
       "      <th></th>\n",
       "      <th></th>\n",
       "      <th></th>\n",
       "      <th></th>\n",
       "      <th></th>\n",
       "      <th></th>\n",
       "      <th></th>\n",
       "      <th></th>\n",
       "      <th></th>\n",
       "      <th></th>\n",
       "      <th></th>\n",
       "      <th></th>\n",
       "      <th></th>\n",
       "      <th></th>\n",
       "      <th></th>\n",
       "    </tr>\n",
       "  </thead>\n",
       "  <tbody>\n",
       "    <tr>\n",
       "      <th>Confirmed</th>\n",
       "      <td>5985481</td>\n",
       "      <td>3770</td>\n",
       "      <td>668751</td>\n",
       "      <td>8869</td>\n",
       "      <td>169008</td>\n",
       "      <td>177355</td>\n",
       "      <td>11380</td>\n",
       "      <td>98565</td>\n",
       "      <td>2996</td>\n",
       "      <td>0</td>\n",
       "      <td>...</td>\n",
       "      <td>108684</td>\n",
       "      <td>126775</td>\n",
       "      <td>2765</td>\n",
       "      <td>575017</td>\n",
       "      <td>183356</td>\n",
       "      <td>24405</td>\n",
       "      <td>382835</td>\n",
       "      <td>46281</td>\n",
       "      <td>244240</td>\n",
       "      <td>0</td>\n",
       "    </tr>\n",
       "    <tr>\n",
       "      <th>Deceased</th>\n",
       "      <td>93908</td>\n",
       "      <td>52</td>\n",
       "      <td>5663</td>\n",
       "      <td>14</td>\n",
       "      <td>642</td>\n",
       "      <td>886</td>\n",
       "      <td>145</td>\n",
       "      <td>777</td>\n",
       "      <td>2</td>\n",
       "      <td>0</td>\n",
       "      <td>...</td>\n",
       "      <td>3188</td>\n",
       "      <td>1426</td>\n",
       "      <td>31</td>\n",
       "      <td>9233</td>\n",
       "      <td>1091</td>\n",
       "      <td>265</td>\n",
       "      <td>5517</td>\n",
       "      <td>566</td>\n",
       "      <td>4721</td>\n",
       "      <td>0</td>\n",
       "    </tr>\n",
       "    <tr>\n",
       "      <th>Recovered</th>\n",
       "      <td>4934528</td>\n",
       "      <td>3542</td>\n",
       "      <td>597294</td>\n",
       "      <td>6397</td>\n",
       "      <td>138307</td>\n",
       "      <td>163132</td>\n",
       "      <td>8937</td>\n",
       "      <td>66860</td>\n",
       "      <td>2783</td>\n",
       "      <td>0</td>\n",
       "      <td>...</td>\n",
       "      <td>86013</td>\n",
       "      <td>105994</td>\n",
       "      <td>2017</td>\n",
       "      <td>519448</td>\n",
       "      <td>152441</td>\n",
       "      <td>17969</td>\n",
       "      <td>320232</td>\n",
       "      <td>34649</td>\n",
       "      <td>213975</td>\n",
       "      <td>0</td>\n",
       "    </tr>\n",
       "  </tbody>\n",
       "</table>\n",
       "<p>3 rows × 39 columns</p>\n",
       "</div>"
      ],
      "text/plain": [
       "                TT    AN      AP    AR      AS      BR     CH     CT    DN  \\\n",
       "Status                                                                       \n",
       "Confirmed  5985481  3770  668751  8869  169008  177355  11380  98565  2996   \n",
       "Deceased     93908    52    5663    14     642     886    145    777     2   \n",
       "Recovered  4934528  3542  597294  6397  138307  163132   8937  66860  2783   \n",
       "\n",
       "           DD  ...      PB      RJ    SK      TN      TG     TR      UP  \\\n",
       "Status         ...                                                        \n",
       "Confirmed   0  ...  108684  126775  2765  575017  183356  24405  382835   \n",
       "Deceased    0  ...    3188    1426    31    9233    1091    265    5517   \n",
       "Recovered   0  ...   86013  105994  2017  519448  152441  17969  320232   \n",
       "\n",
       "              UT      WB  UN  \n",
       "Status                        \n",
       "Confirmed  46281  244240   0  \n",
       "Deceased     566    4721   0  \n",
       "Recovered  34649  213975   0  \n",
       "\n",
       "[3 rows x 39 columns]"
      ]
     },
     "execution_count": 6,
     "metadata": {},
     "output_type": "execute_result"
    }
   ],
   "source": [
    "#hide\n",
    "df_today"
   ]
  },
  {
   "cell_type": "code",
   "execution_count": 7,
   "metadata": {
    "execution": {
     "iopub.execute_input": "2020-09-26T19:13:09.955948Z",
     "iopub.status.busy": "2020-09-26T19:13:09.955378Z",
     "iopub.status.idle": "2020-09-26T19:13:09.958998Z",
     "shell.execute_reply": "2020-09-26T19:13:09.958075Z"
    },
    "papermill": {
     "duration": 0.033868,
     "end_time": "2020-09-26T19:13:09.959640",
     "exception": false,
     "start_time": "2020-09-26T19:13:09.925772",
     "status": "completed"
    },
    "tags": []
   },
   "outputs": [
    {
     "data": {
      "text/html": [
       "<div>\n",
       "<style scoped>\n",
       "    .dataframe tbody tr th:only-of-type {\n",
       "        vertical-align: middle;\n",
       "    }\n",
       "\n",
       "    .dataframe tbody tr th {\n",
       "        vertical-align: top;\n",
       "    }\n",
       "\n",
       "    .dataframe thead th {\n",
       "        text-align: right;\n",
       "    }\n",
       "</style>\n",
       "<table border=\"1\" class=\"dataframe\">\n",
       "  <thead>\n",
       "    <tr style=\"text-align: right;\">\n",
       "      <th></th>\n",
       "      <th>TT</th>\n",
       "      <th>AN</th>\n",
       "      <th>AP</th>\n",
       "      <th>AR</th>\n",
       "      <th>AS</th>\n",
       "      <th>BR</th>\n",
       "      <th>CH</th>\n",
       "      <th>CT</th>\n",
       "      <th>DN</th>\n",
       "      <th>DD</th>\n",
       "      <th>...</th>\n",
       "      <th>PB</th>\n",
       "      <th>RJ</th>\n",
       "      <th>SK</th>\n",
       "      <th>TN</th>\n",
       "      <th>TG</th>\n",
       "      <th>TR</th>\n",
       "      <th>UP</th>\n",
       "      <th>UT</th>\n",
       "      <th>WB</th>\n",
       "      <th>UN</th>\n",
       "    </tr>\n",
       "    <tr>\n",
       "      <th>Status</th>\n",
       "      <th></th>\n",
       "      <th></th>\n",
       "      <th></th>\n",
       "      <th></th>\n",
       "      <th></th>\n",
       "      <th></th>\n",
       "      <th></th>\n",
       "      <th></th>\n",
       "      <th></th>\n",
       "      <th></th>\n",
       "      <th></th>\n",
       "      <th></th>\n",
       "      <th></th>\n",
       "      <th></th>\n",
       "      <th></th>\n",
       "      <th></th>\n",
       "      <th></th>\n",
       "      <th></th>\n",
       "      <th></th>\n",
       "      <th></th>\n",
       "      <th></th>\n",
       "    </tr>\n",
       "  </thead>\n",
       "  <tbody>\n",
       "    <tr>\n",
       "      <th>Confirmed</th>\n",
       "      <td>5901189</td>\n",
       "      <td>3755</td>\n",
       "      <td>661458</td>\n",
       "      <td>8671</td>\n",
       "      <td>167272</td>\n",
       "      <td>175898</td>\n",
       "      <td>11212</td>\n",
       "      <td>98565</td>\n",
       "      <td>2989</td>\n",
       "      <td>0</td>\n",
       "      <td>...</td>\n",
       "      <td>107096</td>\n",
       "      <td>124730</td>\n",
       "      <td>2717</td>\n",
       "      <td>569370</td>\n",
       "      <td>181117</td>\n",
       "      <td>24127</td>\n",
       "      <td>378533</td>\n",
       "      <td>45332</td>\n",
       "      <td>241059</td>\n",
       "      <td>0</td>\n",
       "    </tr>\n",
       "    <tr>\n",
       "      <th>Deceased</th>\n",
       "      <td>92825</td>\n",
       "      <td>52</td>\n",
       "      <td>5606</td>\n",
       "      <td>14</td>\n",
       "      <td>629</td>\n",
       "      <td>881</td>\n",
       "      <td>145</td>\n",
       "      <td>777</td>\n",
       "      <td>2</td>\n",
       "      <td>0</td>\n",
       "      <td>...</td>\n",
       "      <td>3134</td>\n",
       "      <td>1412</td>\n",
       "      <td>31</td>\n",
       "      <td>9148</td>\n",
       "      <td>1080</td>\n",
       "      <td>262</td>\n",
       "      <td>5450</td>\n",
       "      <td>555</td>\n",
       "      <td>4665</td>\n",
       "      <td>0</td>\n",
       "    </tr>\n",
       "    <tr>\n",
       "      <th>Recovered</th>\n",
       "      <td>4846311</td>\n",
       "      <td>3519</td>\n",
       "      <td>588169</td>\n",
       "      <td>6230</td>\n",
       "      <td>136712</td>\n",
       "      <td>161510</td>\n",
       "      <td>8677</td>\n",
       "      <td>66860</td>\n",
       "      <td>2764</td>\n",
       "      <td>0</td>\n",
       "      <td>...</td>\n",
       "      <td>84025</td>\n",
       "      <td>104288</td>\n",
       "      <td>1995</td>\n",
       "      <td>513836</td>\n",
       "      <td>150160</td>\n",
       "      <td>17464</td>\n",
       "      <td>313686</td>\n",
       "      <td>33642</td>\n",
       "      <td>211020</td>\n",
       "      <td>0</td>\n",
       "    </tr>\n",
       "  </tbody>\n",
       "</table>\n",
       "<p>3 rows × 39 columns</p>\n",
       "</div>"
      ],
      "text/plain": [
       "                TT    AN      AP    AR      AS      BR     CH     CT    DN  \\\n",
       "Status                                                                       \n",
       "Confirmed  5901189  3755  661458  8671  167272  175898  11212  98565  2989   \n",
       "Deceased     92825    52    5606    14     629     881    145    777     2   \n",
       "Recovered  4846311  3519  588169  6230  136712  161510   8677  66860  2764   \n",
       "\n",
       "           DD  ...      PB      RJ    SK      TN      TG     TR      UP  \\\n",
       "Status         ...                                                        \n",
       "Confirmed   0  ...  107096  124730  2717  569370  181117  24127  378533   \n",
       "Deceased    0  ...    3134    1412    31    9148    1080    262    5450   \n",
       "Recovered   0  ...   84025  104288  1995  513836  150160  17464  313686   \n",
       "\n",
       "              UT      WB  UN  \n",
       "Status                        \n",
       "Confirmed  45332  241059   0  \n",
       "Deceased     555    4665   0  \n",
       "Recovered  33642  211020   0  \n",
       "\n",
       "[3 rows x 39 columns]"
      ]
     },
     "execution_count": 7,
     "metadata": {},
     "output_type": "execute_result"
    }
   ],
   "source": [
    "#hide\n",
    "df_yday.head()"
   ]
  },
  {
   "cell_type": "code",
   "execution_count": 8,
   "metadata": {
    "execution": {
     "iopub.execute_input": "2020-09-26T19:13:09.999014Z",
     "iopub.status.busy": "2020-09-26T19:13:09.998404Z",
     "iopub.status.idle": "2020-09-26T19:13:10.001246Z",
     "shell.execute_reply": "2020-09-26T19:13:10.000710Z"
    },
    "papermill": {
     "duration": 0.026938,
     "end_time": "2020-09-26T19:13:10.001364",
     "exception": false,
     "start_time": "2020-09-26T19:13:09.974426",
     "status": "completed"
    },
    "tags": []
   },
   "outputs": [
    {
     "data": {
      "text/plain": [
       "{'updated': '26-Sep-20',\n",
       " 'since': '25-Sep-20',\n",
       " 'Cases': 5985481,\n",
       " 'Deaths': 93908,\n",
       " 'Recovered': 4934528,\n",
       " 'PCases': 5901189,\n",
       " 'PDeaths': 92825,\n",
       " 'PRecovered': 4846311,\n",
       " 'Cases (+)': 84292,\n",
       " 'Deaths (+)': 1083,\n",
       " 'Recovered (+)': 88217}"
      ]
     },
     "execution_count": 8,
     "metadata": {},
     "output_type": "execute_result"
    }
   ],
   "source": [
    "#hide\n",
    "summary = {\n",
    "    'updated' : dt_today,\n",
    "    'since' : dt_yday,\n",
    "    'Cases' : df_today['TT'][0],\n",
    "    'Deaths' : df_today['TT'][1],\n",
    "    'Recovered' : df_today['TT'][2],\n",
    "    'PCases' : df_yday['TT'][0],\n",
    "    'PDeaths' : df_yday['TT'][1],\n",
    "    'PRecovered': df_yday['TT'][2],\n",
    "    'Cases (+)' : df_today['TT'][0] - df_yday['TT'][0],\n",
    "    'Deaths (+)' : df_today['TT'][1] - df_yday['TT'][1],\n",
    "    'Recovered (+)': df_today['TT'][2] - df_yday['TT'][2]\n",
    "}\n",
    "\n",
    "summary"
   ]
  },
  {
   "cell_type": "code",
   "execution_count": 9,
   "metadata": {
    "execution": {
     "iopub.execute_input": "2020-09-26T19:13:10.035258Z",
     "iopub.status.busy": "2020-09-26T19:13:10.034666Z",
     "iopub.status.idle": "2020-09-26T19:13:10.036480Z",
     "shell.execute_reply": "2020-09-26T19:13:10.037080Z"
    },
    "papermill": {
     "duration": 0.02135,
     "end_time": "2020-09-26T19:13:10.037226",
     "exception": false,
     "start_time": "2020-09-26T19:13:10.015876",
     "status": "completed"
    },
    "tags": []
   },
   "outputs": [],
   "source": [
    "#hide\n",
    "overview = '''\n",
    "<!-- #######  HTML!! #########-->\n",
    "<h1 style=\"color: #5e9ca0; text-align: center;\">India</h1>\n",
    "<p style=\"text-align: center;\">Last update: <strong>{update}</strong></p>\n",
    "<p style=\"text-align: center;\">Confirmed cases:</p>\n",
    "<p style=\"text-align: center;font-size:24px;\">{cases} (<span style=\"color: #ff0000;\">+{new}</span>)</p>\n",
    "<p style=\"text-align: center;\">Confirmed deaths:</p>\n",
    "<p style=\"text-align: center;font-size:24px;\">{deaths} (<span style=\"color: #ff0000;\">+{dnew}</span>)</p>\n",
    "<p style=\"text-align: center;\">Recovered cases:</p>\n",
    "<p style=\"text-align: center;font-size:24px;\">{recovered} (<span style=\"color: #00ff00;\">+{rnew}</span>)</p>\n",
    "'''"
   ]
  },
  {
   "cell_type": "code",
   "execution_count": 10,
   "metadata": {
    "execution": {
     "iopub.execute_input": "2020-09-26T19:13:10.077674Z",
     "iopub.status.busy": "2020-09-26T19:13:10.077069Z",
     "iopub.status.idle": "2020-09-26T19:13:10.080740Z",
     "shell.execute_reply": "2020-09-26T19:13:10.080195Z"
    },
    "papermill": {
     "duration": 0.027093,
     "end_time": "2020-09-26T19:13:10.080866",
     "exception": false,
     "start_time": "2020-09-26T19:13:10.053773",
     "status": "completed"
    },
    "tags": []
   },
   "outputs": [
    {
     "data": {
      "text/html": [
       "\n",
       "<!-- #######  HTML!! #########-->\n",
       "<h1 style=\"color: #5e9ca0; text-align: center;\">India</h1>\n",
       "<p style=\"text-align: center;\">Last update: <strong>26-Sep-20</strong></p>\n",
       "<p style=\"text-align: center;\">Confirmed cases:</p>\n",
       "<p style=\"text-align: center;font-size:24px;\">5985481 (<span style=\"color: #ff0000;\">+84292</span>)</p>\n",
       "<p style=\"text-align: center;\">Confirmed deaths:</p>\n",
       "<p style=\"text-align: center;font-size:24px;\">93908 (<span style=\"color: #ff0000;\">+1083</span>)</p>\n",
       "<p style=\"text-align: center;\">Recovered cases:</p>\n",
       "<p style=\"text-align: center;font-size:24px;\">4934528 (<span style=\"color: #00ff00;\">+88217</span>)</p>\n"
      ],
      "text/plain": [
       "<IPython.core.display.HTML object>"
      ]
     },
     "metadata": {},
     "output_type": "display_data"
    }
   ],
   "source": [
    "#hide_input\n",
    "# Fill the above HTML with the information from the summary dictionary\n",
    "\n",
    "update = summary['updated']\n",
    "cases = summary['Cases']\n",
    "new = summary['Cases (+)']\n",
    "deaths = summary['Deaths']\n",
    "dnew = summary['Deaths (+)']\n",
    "recovered = summary['Recovered']\n",
    "rnew = summary['Recovered (+)']\n",
    "\n",
    "html = HTML(overview.format(update=update, cases=cases,new=new,deaths=deaths,dnew=dnew, recovered=recovered, rnew=rnew))\n",
    "\n",
    "display(html)"
   ]
  },
  {
   "cell_type": "code",
   "execution_count": 11,
   "metadata": {
    "execution": {
     "iopub.execute_input": "2020-09-26T19:13:10.123200Z",
     "iopub.status.busy": "2020-09-26T19:13:10.122592Z",
     "iopub.status.idle": "2020-09-26T19:13:10.126175Z",
     "shell.execute_reply": "2020-09-26T19:13:10.125672Z"
    },
    "papermill": {
     "duration": 0.029806,
     "end_time": "2020-09-26T19:13:10.126395",
     "exception": false,
     "start_time": "2020-09-26T19:13:10.096589",
     "status": "completed"
    },
    "tags": []
   },
   "outputs": [],
   "source": [
    "#hide\n",
    "df_cases = df[df['Status'] == 'Confirmed'].copy()\n",
    "df_cases.drop(columns = ['Status'], inplace=True)\n",
    "df_deaths = df[df['Status'] == 'Deceased'].copy()\n",
    "df_deaths.drop(columns = ['Status'], inplace=True)\n",
    "df_recovered = df[df['Status'] == 'Recovered'].copy()\n",
    "df_recovered.drop(columns = ['Status'], inplace=True)"
   ]
  },
  {
   "cell_type": "markdown",
   "metadata": {
    "papermill": {
     "duration": 0.015274,
     "end_time": "2020-09-26T19:13:10.156509",
     "exception": false,
     "start_time": "2020-09-26T19:13:10.141235",
     "status": "completed"
    },
    "tags": []
   },
   "source": [
    "Plot for India:"
   ]
  },
  {
   "cell_type": "code",
   "execution_count": 12,
   "metadata": {
    "execution": {
     "iopub.execute_input": "2020-09-26T19:13:10.243997Z",
     "iopub.status.busy": "2020-09-26T19:13:10.226390Z",
     "iopub.status.idle": "2020-09-26T19:13:10.470220Z",
     "shell.execute_reply": "2020-09-26T19:13:10.470765Z"
    },
    "papermill": {
     "duration": 0.298507,
     "end_time": "2020-09-26T19:13:10.470938",
     "exception": false,
     "start_time": "2020-09-26T19:13:10.172431",
     "status": "completed"
    },
    "tags": []
   },
   "outputs": [
    {
     "data": {
      "image/png": "[encoded data removed]",
      "text/plain": [
       "<Figure size 1296x432 with 1 Axes>"
      ]
     },
     "metadata": {
      "needs_background": "light"
     },
     "output_type": "display_data"
    }
   ],
   "source": [
    "#hide_input\n",
    "plt.figure(figsize = (18,6))\n",
    "plt.plot(df_cases['Date'], df_cases['TT'],'.-', alpha=0.7, color='b', label='Confirmed cases')\n",
    "plt.plot(df_recovered['Date'], df_recovered['TT'],'.-', alpha=0.7, color='g', label='Recovered')\n",
    "plt.plot(df_deaths['Date'], df_deaths['TT'],'.-', alpha=0.7, color='r', label='Deceased')\n",
    "plt.legend()\n",
    "plt.title(\"Cases per day in India\")\n",
    "plt.xticks(ticks=' ')\n",
    "plt.xlabel(f'{df_cases.iloc[0][0]} to {df_cases.iloc[-1][0]}')\n",
    "plt.ylabel('No. of cases');"
   ]
  },
  {
   "cell_type": "markdown",
   "metadata": {
    "papermill": {
     "duration": 0.018265,
     "end_time": "2020-09-26T19:13:10.506319",
     "exception": false,
     "start_time": "2020-09-26T19:13:10.488054",
     "status": "completed"
    },
    "tags": []
   },
   "source": [
    "Plots for the states with highest number of cases:"
   ]
  },
  {
   "cell_type": "code",
   "execution_count": 13,
   "metadata": {
    "execution": {
     "iopub.execute_input": "2020-09-26T19:13:10.549468Z",
     "iopub.status.busy": "2020-09-26T19:13:10.548773Z",
     "iopub.status.idle": "2020-09-26T19:13:11.158960Z",
     "shell.execute_reply": "2020-09-26T19:13:11.159648Z"
    },
    "papermill": {
     "duration": 0.636611,
     "end_time": "2020-09-26T19:13:11.159858",
     "exception": false,
     "start_time": "2020-09-26T19:13:10.523247",
     "status": "completed"
    },
    "tags": []
   },
   "outputs": [
    {
     "data": {
      "image/png": "[encoded data removed]",
      "text/plain": [
       "<Figure size 1512x432 with 3 Axes>"
      ]
     },
     "metadata": {
      "needs_background": "light"
     },
     "output_type": "display_data"
    }
   ],
   "source": [
    "#hide_input\n",
    "top_3 = sorted(df_cases.sum().values[1:], reverse=True)[1:4]\n",
    "top3_states=[]\n",
    "for i in top_3:\n",
    "    top3_states.append(df_cases.sum()[df_cases.sum() == i].index)\n",
    "\n",
    "\n",
    "fig, ax = plt.subplots(1,3,figsize = (21,6))\n",
    "for i in range(3):\n",
    "    state = top3_states[i].values[0]\n",
    "    ax[i].plot(df_cases['Date'], df_cases[state],'.-', color='b', alpha=0.7)\n",
    "    ax[i].plot(df_deaths['Date'], df_deaths[state],'.-', color='r', alpha=0.7)\n",
    "    ax[i].plot(df_recovered['Date'], df_recovered[state],'.-', color='g', alpha=0.7)\n",
    "    \n",
    "    ax[i].set_title(f\"Cases in {state}\")\n",
    "    ax[i].set_xticks(ticks=' ')\n",
    "    ax[i].set_xlabel(f'{df_cases.iloc[0][0]} to {df_cases.iloc[-1][0]}')\n",
    "    ax[i].set_ylabel('No. of cases');"
   ]
  },
  {
   "cell_type": "code",
   "execution_count": null,
   "metadata": {
    "papermill": {
     "duration": 0.020554,
     "end_time": "2020-09-26T19:13:11.202495",
     "exception": false,
     "start_time": "2020-09-26T19:13:11.181941",
     "status": "completed"
    },
    "tags": []
   },
   "outputs": [],
   "source": []
  },
  {
   "cell_type": "code",
   "execution_count": null,
   "metadata": {
    "papermill": {
     "duration": 0.02037,
     "end_time": "2020-09-26T19:13:11.243766",
     "exception": false,
     "start_time": "2020-09-26T19:13:11.223396",
     "status": "completed"
    },
    "tags": []
   },
   "outputs": [],
   "source": []
  },
  {
   "cell_type": "code",
   "execution_count": null,
   "metadata": {
    "papermill": {
     "duration": 0.020549,
     "end_time": "2020-09-26T19:13:11.283891",
     "exception": false,
     "start_time": "2020-09-26T19:13:11.263342",
     "status": "completed"
    },
    "tags": []
   },
   "outputs": [],
   "source": []
  }
 ],
 "metadata": {
  "kernelspec": {
   "display_name": "Python 3",
   "language": "python",
   "name": "python3"
  },
  "language_info": {
   "codemirror_mode": {
    "name": "ipython",
    "version": 3
   },
   "file_extension": ".py",
   "mimetype": "text/x-python",
   "name": "python",
   "nbconvert_exporter": "python",
   "pygments_lexer": "ipython3",
   "version": "3.6.12"
  },
  "papermill": {
   "duration": 3.742714,
   "end_time": "2020-09-26T19:13:11.613179",
   "environment_variables": {},
   "exception": null,
   "input_path": "2020-08-09-DailyUpdate.ipynb",
   "output_path": "2020-08-09-DailyUpdate.ipynb",
   "parameters": {},
   "start_time": "2020-09-26T19:13:07.870465",
   "version": "2.1.2"
  }
 },
 "nbformat": 4,
 "nbformat_minor": 4
}