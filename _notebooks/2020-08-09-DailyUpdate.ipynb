{
 "cells": [
  {
   "cell_type": "markdown",
   "metadata": {
    "papermill": {
     "duration": 0.019624,
     "end_time": "2020-09-21T19:12:31.081769",
     "exception": false,
     "start_time": "2020-09-21T19:12:31.062145",
     "status": "completed"
    },
    "tags": []
   },
   "source": [
    "# COVID-19 India Daily updates\n",
    "> Tracking coronavirus total cases, deaths and new cases in India on a daily basis\n",
    "\n",
    "- author: Vaibhav Mahapatra"
   ]
  },
  {
   "cell_type": "code",
   "execution_count": 1,
   "metadata": {
    "execution": {
     "iopub.execute_input": "2020-09-21T19:12:31.114894Z",
     "iopub.status.busy": "2020-09-21T19:12:31.114278Z",
     "iopub.status.idle": "2020-09-21T19:12:31.779662Z",
     "shell.execute_reply": "2020-09-21T19:12:31.778779Z"
    },
    "papermill": {
     "duration": 0.684543,
     "end_time": "2020-09-21T19:12:31.779898",
     "exception": false,
     "start_time": "2020-09-21T19:12:31.095355",
     "status": "completed"
    },
    "tags": []
   },
   "outputs": [],
   "source": [
    "#hide\n",
    "\n",
    "## Import essential packages below\n",
    "\n",
    "import pandas as pd\n",
    "import numpy as np\n",
    "import requests\n",
    "import json\n",
    "import matplotlib.pyplot as plt\n",
    "import matplotlib.dates as mdates\n",
    "import matplotlib as mpl\n",
    "from IPython.core.display import display,HTML\n",
    "%matplotlib inline"
   ]
  },
  {
   "cell_type": "code",
   "execution_count": 2,
   "metadata": {
    "execution": {
     "iopub.execute_input": "2020-09-21T19:12:31.947179Z",
     "iopub.status.busy": "2020-09-21T19:12:31.946030Z",
     "iopub.status.idle": "2020-09-21T19:12:32.147060Z",
     "shell.execute_reply": "2020-09-21T19:12:32.147942Z"
    },
    "papermill": {
     "duration": 0.312036,
     "end_time": "2020-09-21T19:12:32.148391",
     "exception": false,
     "start_time": "2020-09-21T19:12:31.836355",
     "status": "completed"
    },
    "tags": []
   },
   "outputs": [
    {
     "data": {
      "text/plain": [
       "(576, 41)"
      ]
     },
     "execution_count": 2,
     "metadata": {},
     "output_type": "execute_result"
    }
   ],
   "source": [
    "#hide\n",
    "url = 'https://api.covid19india.org/csv/latest/state_wise_daily.csv'\n",
    "df = pd.read_csv(url)\n",
    "df.shape"
   ]
  },
  {
   "cell_type": "code",
   "execution_count": 3,
   "metadata": {
    "execution": {
     "iopub.execute_input": "2020-09-21T19:12:32.243589Z",
     "iopub.status.busy": "2020-09-21T19:12:32.235593Z",
     "iopub.status.idle": "2020-09-21T19:12:32.246209Z",
     "shell.execute_reply": "2020-09-21T19:12:32.246673Z"
    },
    "papermill": {
     "duration": 0.082054,
     "end_time": "2020-09-21T19:12:32.246827",
     "exception": false,
     "start_time": "2020-09-21T19:12:32.164773",
     "status": "completed"
    },
    "tags": []
   },
   "outputs": [
    {
     "data": {
      "text/html": [
       "<div>\n",
       "<style scoped>\n",
       "    .dataframe tbody tr th:only-of-type {\n",
       "        vertical-align: middle;\n",
       "    }\n",
       "\n",
       "    .dataframe tbody tr th {\n",
       "        vertical-align: top;\n",
       "    }\n",
       "\n",
       "    .dataframe thead th {\n",
       "        text-align: right;\n",
       "    }\n",
       "</style>\n",
       "<table border=\"1\" class=\"dataframe\">\n",
       "  <thead>\n",
       "    <tr style=\"text-align: right;\">\n",
       "      <th></th>\n",
       "      <th>Date</th>\n",
       "      <th>Status</th>\n",
       "      <th>TT</th>\n",
       "      <th>AN</th>\n",
       "      <th>AP</th>\n",
       "      <th>AR</th>\n",
       "      <th>AS</th>\n",
       "      <th>BR</th>\n",
       "      <th>CH</th>\n",
       "      <th>CT</th>\n",
       "      <th>...</th>\n",
       "      <th>PB</th>\n",
       "      <th>RJ</th>\n",
       "      <th>SK</th>\n",
       "      <th>TN</th>\n",
       "      <th>TG</th>\n",
       "      <th>TR</th>\n",
       "      <th>UP</th>\n",
       "      <th>UT</th>\n",
       "      <th>WB</th>\n",
       "      <th>UN</th>\n",
       "    </tr>\n",
       "  </thead>\n",
       "  <tbody>\n",
       "    <tr>\n",
       "      <th>570</th>\n",
       "      <td>20-Sep-20</td>\n",
       "      <td>Confirmed</td>\n",
       "      <td>83294</td>\n",
       "      <td>7</td>\n",
       "      <td>7738</td>\n",
       "      <td>135</td>\n",
       "      <td>1227</td>\n",
       "      <td>1555</td>\n",
       "      <td>0</td>\n",
       "      <td>1949</td>\n",
       "      <td>...</td>\n",
       "      <td>2160</td>\n",
       "      <td>1865</td>\n",
       "      <td>49</td>\n",
       "      <td>5516</td>\n",
       "      <td>2137</td>\n",
       "      <td>525</td>\n",
       "      <td>5758</td>\n",
       "      <td>878</td>\n",
       "      <td>3177</td>\n",
       "      <td>0</td>\n",
       "    </tr>\n",
       "    <tr>\n",
       "      <th>571</th>\n",
       "      <td>20-Sep-20</td>\n",
       "      <td>Recovered</td>\n",
       "      <td>88812</td>\n",
       "      <td>15</td>\n",
       "      <td>10608</td>\n",
       "      <td>128</td>\n",
       "      <td>1795</td>\n",
       "      <td>1487</td>\n",
       "      <td>0</td>\n",
       "      <td>1572</td>\n",
       "      <td>...</td>\n",
       "      <td>2225</td>\n",
       "      <td>1664</td>\n",
       "      <td>3</td>\n",
       "      <td>5206</td>\n",
       "      <td>2192</td>\n",
       "      <td>645</td>\n",
       "      <td>6584</td>\n",
       "      <td>855</td>\n",
       "      <td>2958</td>\n",
       "      <td>0</td>\n",
       "    </tr>\n",
       "    <tr>\n",
       "      <th>572</th>\n",
       "      <td>20-Sep-20</td>\n",
       "      <td>Deceased</td>\n",
       "      <td>1094</td>\n",
       "      <td>0</td>\n",
       "      <td>57</td>\n",
       "      <td>0</td>\n",
       "      <td>14</td>\n",
       "      <td>3</td>\n",
       "      <td>0</td>\n",
       "      <td>13</td>\n",
       "      <td>...</td>\n",
       "      <td>56</td>\n",
       "      <td>14</td>\n",
       "      <td>1</td>\n",
       "      <td>60</td>\n",
       "      <td>8</td>\n",
       "      <td>4</td>\n",
       "      <td>94</td>\n",
       "      <td>13</td>\n",
       "      <td>61</td>\n",
       "      <td>0</td>\n",
       "    </tr>\n",
       "    <tr>\n",
       "      <th>573</th>\n",
       "      <td>21-Sep-20</td>\n",
       "      <td>Confirmed</td>\n",
       "      <td>69006</td>\n",
       "      <td>0</td>\n",
       "      <td>6235</td>\n",
       "      <td>0</td>\n",
       "      <td>0</td>\n",
       "      <td>1314</td>\n",
       "      <td>0</td>\n",
       "      <td>0</td>\n",
       "      <td>...</td>\n",
       "      <td>2241</td>\n",
       "      <td>1892</td>\n",
       "      <td>56</td>\n",
       "      <td>5344</td>\n",
       "      <td>1302</td>\n",
       "      <td>243</td>\n",
       "      <td>4618</td>\n",
       "      <td>814</td>\n",
       "      <td>3165</td>\n",
       "      <td>0</td>\n",
       "    </tr>\n",
       "    <tr>\n",
       "      <th>574</th>\n",
       "      <td>21-Sep-20</td>\n",
       "      <td>Recovered</td>\n",
       "      <td>97550</td>\n",
       "      <td>0</td>\n",
       "      <td>10502</td>\n",
       "      <td>0</td>\n",
       "      <td>0</td>\n",
       "      <td>1381</td>\n",
       "      <td>0</td>\n",
       "      <td>0</td>\n",
       "      <td>...</td>\n",
       "      <td>2811</td>\n",
       "      <td>1815</td>\n",
       "      <td>11</td>\n",
       "      <td>5492</td>\n",
       "      <td>2230</td>\n",
       "      <td>654</td>\n",
       "      <td>6320</td>\n",
       "      <td>1172</td>\n",
       "      <td>3011</td>\n",
       "      <td>0</td>\n",
       "    </tr>\n",
       "    <tr>\n",
       "      <th>575</th>\n",
       "      <td>21-Sep-20</td>\n",
       "      <td>Deceased</td>\n",
       "      <td>1017</td>\n",
       "      <td>0</td>\n",
       "      <td>51</td>\n",
       "      <td>0</td>\n",
       "      <td>0</td>\n",
       "      <td>6</td>\n",
       "      <td>0</td>\n",
       "      <td>0</td>\n",
       "      <td>...</td>\n",
       "      <td>47</td>\n",
       "      <td>16</td>\n",
       "      <td>0</td>\n",
       "      <td>60</td>\n",
       "      <td>9</td>\n",
       "      <td>6</td>\n",
       "      <td>88</td>\n",
       "      <td>10</td>\n",
       "      <td>62</td>\n",
       "      <td>0</td>\n",
       "    </tr>\n",
       "  </tbody>\n",
       "</table>\n",
       "<p>6 rows × 41 columns</p>\n",
       "</div>"
      ],
      "text/plain": [
       "          Date     Status     TT  AN     AP   AR    AS    BR  CH    CT  ...  \\\n",
       "570  20-Sep-20  Confirmed  83294   7   7738  135  1227  1555   0  1949  ...   \n",
       "571  20-Sep-20  Recovered  88812  15  10608  128  1795  1487   0  1572  ...   \n",
       "572  20-Sep-20   Deceased   1094   0     57    0    14     3   0    13  ...   \n",
       "573  21-Sep-20  Confirmed  69006   0   6235    0     0  1314   0     0  ...   \n",
       "574  21-Sep-20  Recovered  97550   0  10502    0     0  1381   0     0  ...   \n",
       "575  21-Sep-20   Deceased   1017   0     51    0     0     6   0     0  ...   \n",
       "\n",
       "       PB    RJ  SK    TN    TG   TR    UP    UT    WB  UN  \n",
       "570  2160  1865  49  5516  2137  525  5758   878  3177   0  \n",
       "571  2225  1664   3  5206  2192  645  6584   855  2958   0  \n",
       "572    56    14   1    60     8    4    94    13    61   0  \n",
       "573  2241  1892  56  5344  1302  243  4618   814  3165   0  \n",
       "574  2811  1815  11  5492  2230  654  6320  1172  3011   0  \n",
       "575    47    16   0    60     9    6    88    10    62   0  \n",
       "\n",
       "[6 rows x 41 columns]"
      ]
     },
     "execution_count": 3,
     "metadata": {},
     "output_type": "execute_result"
    }
   ],
   "source": [
    "#hide\n",
    "df.tail(6)"
   ]
  },
  {
   "cell_type": "code",
   "execution_count": 4,
   "metadata": {
    "execution": {
     "iopub.execute_input": "2020-09-21T19:12:32.279220Z",
     "iopub.status.busy": "2020-09-21T19:12:32.278506Z",
     "iopub.status.idle": "2020-09-21T19:12:32.281088Z",
     "shell.execute_reply": "2020-09-21T19:12:32.281570Z"
    },
    "papermill": {
     "duration": 0.021618,
     "end_time": "2020-09-21T19:12:32.281722",
     "exception": false,
     "start_time": "2020-09-21T19:12:32.260104",
     "status": "completed"
    },
    "tags": []
   },
   "outputs": [
    {
     "data": {
      "text/plain": [
       "('21-Sep-20', '20-Sep-20')"
      ]
     },
     "execution_count": 4,
     "metadata": {},
     "output_type": "execute_result"
    }
   ],
   "source": [
    "#hide\n",
    "dt_today = df.iloc[-1][0]\n",
    "dt_yday = df.iloc[-4][0]\n",
    "dt_today, dt_yday"
   ]
  },
  {
   "cell_type": "code",
   "execution_count": 5,
   "metadata": {
    "execution": {
     "iopub.execute_input": "2020-09-21T19:12:32.313880Z",
     "iopub.status.busy": "2020-09-21T19:12:32.313305Z",
     "iopub.status.idle": "2020-09-21T19:12:32.320856Z",
     "shell.execute_reply": "2020-09-21T19:12:32.320266Z"
    },
    "papermill": {
     "duration": 0.025664,
     "end_time": "2020-09-21T19:12:32.321083",
     "exception": false,
     "start_time": "2020-09-21T19:12:32.295419",
     "status": "completed"
    },
    "tags": []
   },
   "outputs": [],
   "source": [
    "#hide\n",
    "df_today = df.groupby('Status').sum()\n",
    "df_yday = df.iloc[:-3][:].groupby('Status').sum()"
   ]
  },
  {
   "cell_type": "code",
   "execution_count": 6,
   "metadata": {
    "execution": {
     "iopub.execute_input": "2020-09-21T19:12:32.363204Z",
     "iopub.status.busy": "2020-09-21T19:12:32.362601Z",
     "iopub.status.idle": "2020-09-21T19:12:32.365063Z",
     "shell.execute_reply": "2020-09-21T19:12:32.365525Z"
    },
    "papermill": {
     "duration": 0.031318,
     "end_time": "2020-09-21T19:12:32.365672",
     "exception": false,
     "start_time": "2020-09-21T19:12:32.334354",
     "status": "completed"
    },
    "tags": []
   },
   "outputs": [
    {
     "data": {
      "text/html": [
       "<div>\n",
       "<style scoped>\n",
       "    .dataframe tbody tr th:only-of-type {\n",
       "        vertical-align: middle;\n",
       "    }\n",
       "\n",
       "    .dataframe tbody tr th {\n",
       "        vertical-align: top;\n",
       "    }\n",
       "\n",
       "    .dataframe thead th {\n",
       "        text-align: right;\n",
       "    }\n",
       "</style>\n",
       "<table border=\"1\" class=\"dataframe\">\n",
       "  <thead>\n",
       "    <tr style=\"text-align: right;\">\n",
       "      <th></th>\n",
       "      <th>TT</th>\n",
       "      <th>AN</th>\n",
       "      <th>AP</th>\n",
       "      <th>AR</th>\n",
       "      <th>AS</th>\n",
       "      <th>BR</th>\n",
       "      <th>CH</th>\n",
       "      <th>CT</th>\n",
       "      <th>DN</th>\n",
       "      <th>DD</th>\n",
       "      <th>...</th>\n",
       "      <th>PB</th>\n",
       "      <th>RJ</th>\n",
       "      <th>SK</th>\n",
       "      <th>TN</th>\n",
       "      <th>TG</th>\n",
       "      <th>TR</th>\n",
       "      <th>UP</th>\n",
       "      <th>UT</th>\n",
       "      <th>WB</th>\n",
       "      <th>UN</th>\n",
       "    </tr>\n",
       "    <tr>\n",
       "      <th>Status</th>\n",
       "      <th></th>\n",
       "      <th></th>\n",
       "      <th></th>\n",
       "      <th></th>\n",
       "      <th></th>\n",
       "      <th></th>\n",
       "      <th></th>\n",
       "      <th></th>\n",
       "      <th></th>\n",
       "      <th></th>\n",
       "      <th></th>\n",
       "      <th></th>\n",
       "      <th></th>\n",
       "      <th></th>\n",
       "      <th></th>\n",
       "      <th></th>\n",
       "      <th></th>\n",
       "      <th></th>\n",
       "      <th></th>\n",
       "      <th></th>\n",
       "      <th></th>\n",
       "    </tr>\n",
       "  </thead>\n",
       "  <tbody>\n",
       "    <tr>\n",
       "      <th>Confirmed</th>\n",
       "      <td>5549886</td>\n",
       "      <td>3647</td>\n",
       "      <td>631749</td>\n",
       "      <td>7385</td>\n",
       "      <td>156578</td>\n",
       "      <td>169856</td>\n",
       "      <td>9796</td>\n",
       "      <td>86183</td>\n",
       "      <td>2918</td>\n",
       "      <td>0</td>\n",
       "      <td>...</td>\n",
       "      <td>99930</td>\n",
       "      <td>116881</td>\n",
       "      <td>2460</td>\n",
       "      <td>547337</td>\n",
       "      <td>172098</td>\n",
       "      <td>22272</td>\n",
       "      <td>358893</td>\n",
       "      <td>41777</td>\n",
       "      <td>228302</td>\n",
       "      <td>0</td>\n",
       "    </tr>\n",
       "    <tr>\n",
       "      <th>Deceased</th>\n",
       "      <td>88300</td>\n",
       "      <td>52</td>\n",
       "      <td>5410</td>\n",
       "      <td>13</td>\n",
       "      <td>566</td>\n",
       "      <td>870</td>\n",
       "      <td>116</td>\n",
       "      <td>677</td>\n",
       "      <td>2</td>\n",
       "      <td>0</td>\n",
       "      <td>...</td>\n",
       "      <td>2860</td>\n",
       "      <td>1352</td>\n",
       "      <td>29</td>\n",
       "      <td>8871</td>\n",
       "      <td>1042</td>\n",
       "      <td>245</td>\n",
       "      <td>5135</td>\n",
       "      <td>501</td>\n",
       "      <td>4421</td>\n",
       "      <td>0</td>\n",
       "    </tr>\n",
       "    <tr>\n",
       "      <th>Recovered</th>\n",
       "      <td>4486073</td>\n",
       "      <td>3442</td>\n",
       "      <td>551821</td>\n",
       "      <td>5408</td>\n",
       "      <td>127335</td>\n",
       "      <td>155824</td>\n",
       "      <td>6766</td>\n",
       "      <td>47653</td>\n",
       "      <td>2665</td>\n",
       "      <td>0</td>\n",
       "      <td>...</td>\n",
       "      <td>75409</td>\n",
       "      <td>97284</td>\n",
       "      <td>1906</td>\n",
       "      <td>491971</td>\n",
       "      <td>141930</td>\n",
       "      <td>15441</td>\n",
       "      <td>289594</td>\n",
       "      <td>29000</td>\n",
       "      <td>198983</td>\n",
       "      <td>0</td>\n",
       "    </tr>\n",
       "  </tbody>\n",
       "</table>\n",
       "<p>3 rows × 39 columns</p>\n",
       "</div>"
      ],
      "text/plain": [
       "                TT    AN      AP    AR      AS      BR    CH     CT    DN  DD  \\\n",
       "Status                                                                          \n",
       "Confirmed  5549886  3647  631749  7385  156578  169856  9796  86183  2918   0   \n",
       "Deceased     88300    52    5410    13     566     870   116    677     2   0   \n",
       "Recovered  4486073  3442  551821  5408  127335  155824  6766  47653  2665   0   \n",
       "\n",
       "           ...     PB      RJ    SK      TN      TG     TR      UP     UT  \\\n",
       "Status     ...                                                              \n",
       "Confirmed  ...  99930  116881  2460  547337  172098  22272  358893  41777   \n",
       "Deceased   ...   2860    1352    29    8871    1042    245    5135    501   \n",
       "Recovered  ...  75409   97284  1906  491971  141930  15441  289594  29000   \n",
       "\n",
       "               WB  UN  \n",
       "Status                 \n",
       "Confirmed  228302   0  \n",
       "Deceased     4421   0  \n",
       "Recovered  198983   0  \n",
       "\n",
       "[3 rows x 39 columns]"
      ]
     },
     "execution_count": 6,
     "metadata": {},
     "output_type": "execute_result"
    }
   ],
   "source": [
    "#hide\n",
    "df_today"
   ]
  },
  {
   "cell_type": "code",
   "execution_count": 7,
   "metadata": {
    "execution": {
     "iopub.execute_input": "2020-09-21T19:12:32.407601Z",
     "iopub.status.busy": "2020-09-21T19:12:32.406951Z",
     "iopub.status.idle": "2020-09-21T19:12:32.409621Z",
     "shell.execute_reply": "2020-09-21T19:12:32.410200Z"
    },
    "papermill": {
     "duration": 0.031331,
     "end_time": "2020-09-21T19:12:32.410348",
     "exception": false,
     "start_time": "2020-09-21T19:12:32.379017",
     "status": "completed"
    },
    "tags": []
   },
   "outputs": [
    {
     "data": {
      "text/html": [
       "<div>\n",
       "<style scoped>\n",
       "    .dataframe tbody tr th:only-of-type {\n",
       "        vertical-align: middle;\n",
       "    }\n",
       "\n",
       "    .dataframe tbody tr th {\n",
       "        vertical-align: top;\n",
       "    }\n",
       "\n",
       "    .dataframe thead th {\n",
       "        text-align: right;\n",
       "    }\n",
       "</style>\n",
       "<table border=\"1\" class=\"dataframe\">\n",
       "  <thead>\n",
       "    <tr style=\"text-align: right;\">\n",
       "      <th></th>\n",
       "      <th>TT</th>\n",
       "      <th>AN</th>\n",
       "      <th>AP</th>\n",
       "      <th>AR</th>\n",
       "      <th>AS</th>\n",
       "      <th>BR</th>\n",
       "      <th>CH</th>\n",
       "      <th>CT</th>\n",
       "      <th>DN</th>\n",
       "      <th>DD</th>\n",
       "      <th>...</th>\n",
       "      <th>PB</th>\n",
       "      <th>RJ</th>\n",
       "      <th>SK</th>\n",
       "      <th>TN</th>\n",
       "      <th>TG</th>\n",
       "      <th>TR</th>\n",
       "      <th>UP</th>\n",
       "      <th>UT</th>\n",
       "      <th>WB</th>\n",
       "      <th>UN</th>\n",
       "    </tr>\n",
       "    <tr>\n",
       "      <th>Status</th>\n",
       "      <th></th>\n",
       "      <th></th>\n",
       "      <th></th>\n",
       "      <th></th>\n",
       "      <th></th>\n",
       "      <th></th>\n",
       "      <th></th>\n",
       "      <th></th>\n",
       "      <th></th>\n",
       "      <th></th>\n",
       "      <th></th>\n",
       "      <th></th>\n",
       "      <th></th>\n",
       "      <th></th>\n",
       "      <th></th>\n",
       "      <th></th>\n",
       "      <th></th>\n",
       "      <th></th>\n",
       "      <th></th>\n",
       "      <th></th>\n",
       "      <th></th>\n",
       "    </tr>\n",
       "  </thead>\n",
       "  <tbody>\n",
       "    <tr>\n",
       "      <th>Confirmed</th>\n",
       "      <td>5480880</td>\n",
       "      <td>3647</td>\n",
       "      <td>625514</td>\n",
       "      <td>7385</td>\n",
       "      <td>156578</td>\n",
       "      <td>168542</td>\n",
       "      <td>9796</td>\n",
       "      <td>86183</td>\n",
       "      <td>2909</td>\n",
       "      <td>0</td>\n",
       "      <td>...</td>\n",
       "      <td>97689</td>\n",
       "      <td>114989</td>\n",
       "      <td>2404</td>\n",
       "      <td>541993</td>\n",
       "      <td>170796</td>\n",
       "      <td>22029</td>\n",
       "      <td>354275</td>\n",
       "      <td>40963</td>\n",
       "      <td>225137</td>\n",
       "      <td>0</td>\n",
       "    </tr>\n",
       "    <tr>\n",
       "      <th>Deceased</th>\n",
       "      <td>87283</td>\n",
       "      <td>52</td>\n",
       "      <td>5359</td>\n",
       "      <td>13</td>\n",
       "      <td>566</td>\n",
       "      <td>864</td>\n",
       "      <td>116</td>\n",
       "      <td>677</td>\n",
       "      <td>2</td>\n",
       "      <td>0</td>\n",
       "      <td>...</td>\n",
       "      <td>2813</td>\n",
       "      <td>1336</td>\n",
       "      <td>29</td>\n",
       "      <td>8811</td>\n",
       "      <td>1033</td>\n",
       "      <td>239</td>\n",
       "      <td>5047</td>\n",
       "      <td>491</td>\n",
       "      <td>4359</td>\n",
       "      <td>0</td>\n",
       "    </tr>\n",
       "    <tr>\n",
       "      <th>Recovered</th>\n",
       "      <td>4388523</td>\n",
       "      <td>3442</td>\n",
       "      <td>541319</td>\n",
       "      <td>5408</td>\n",
       "      <td>127335</td>\n",
       "      <td>154443</td>\n",
       "      <td>6766</td>\n",
       "      <td>47653</td>\n",
       "      <td>2649</td>\n",
       "      <td>0</td>\n",
       "      <td>...</td>\n",
       "      <td>72598</td>\n",
       "      <td>95469</td>\n",
       "      <td>1895</td>\n",
       "      <td>486479</td>\n",
       "      <td>139700</td>\n",
       "      <td>14787</td>\n",
       "      <td>283274</td>\n",
       "      <td>27828</td>\n",
       "      <td>195972</td>\n",
       "      <td>0</td>\n",
       "    </tr>\n",
       "  </tbody>\n",
       "</table>\n",
       "<p>3 rows × 39 columns</p>\n",
       "</div>"
      ],
      "text/plain": [
       "                TT    AN      AP    AR      AS      BR    CH     CT    DN  DD  \\\n",
       "Status                                                                          \n",
       "Confirmed  5480880  3647  625514  7385  156578  168542  9796  86183  2909   0   \n",
       "Deceased     87283    52    5359    13     566     864   116    677     2   0   \n",
       "Recovered  4388523  3442  541319  5408  127335  154443  6766  47653  2649   0   \n",
       "\n",
       "           ...     PB      RJ    SK      TN      TG     TR      UP     UT  \\\n",
       "Status     ...                                                              \n",
       "Confirmed  ...  97689  114989  2404  541993  170796  22029  354275  40963   \n",
       "Deceased   ...   2813    1336    29    8811    1033    239    5047    491   \n",
       "Recovered  ...  72598   95469  1895  486479  139700  14787  283274  27828   \n",
       "\n",
       "               WB  UN  \n",
       "Status                 \n",
       "Confirmed  225137   0  \n",
       "Deceased     4359   0  \n",
       "Recovered  195972   0  \n",
       "\n",
       "[3 rows x 39 columns]"
      ]
     },
     "execution_count": 7,
     "metadata": {},
     "output_type": "execute_result"
    }
   ],
   "source": [
    "#hide\n",
    "df_yday.head()"
   ]
  },
  {
   "cell_type": "code",
   "execution_count": 8,
   "metadata": {
    "execution": {
     "iopub.execute_input": "2020-09-21T19:12:32.449347Z",
     "iopub.status.busy": "2020-09-21T19:12:32.448558Z",
     "iopub.status.idle": "2020-09-21T19:12:32.452655Z",
     "shell.execute_reply": "2020-09-21T19:12:32.452145Z"
    },
    "papermill": {
     "duration": 0.027889,
     "end_time": "2020-09-21T19:12:32.452782",
     "exception": false,
     "start_time": "2020-09-21T19:12:32.424893",
     "status": "completed"
    },
    "tags": []
   },
   "outputs": [
    {
     "data": {
      "text/plain": [
       "{'updated': '21-Sep-20',\n",
       " 'since': '20-Sep-20',\n",
       " 'Cases': 5549886,\n",
       " 'Deaths': 88300,\n",
       " 'Recovered': 4486073,\n",
       " 'PCases': 5480880,\n",
       " 'PDeaths': 87283,\n",
       " 'PRecovered': 4388523,\n",
       " 'Cases (+)': 69006,\n",
       " 'Deaths (+)': 1017,\n",
       " 'Recovered (+)': 97550}"
      ]
     },
     "execution_count": 8,
     "metadata": {},
     "output_type": "execute_result"
    }
   ],
   "source": [
    "#hide\n",
    "summary = {\n",
    "    'updated' : dt_today,\n",
    "    'since' : dt_yday,\n",
    "    'Cases' : df_today['TT'][0],\n",
    "    'Deaths' : df_today['TT'][1],\n",
    "    'Recovered' : df_today['TT'][2],\n",
    "    'PCases' : df_yday['TT'][0],\n",
    "    'PDeaths' : df_yday['TT'][1],\n",
    "    'PRecovered': df_yday['TT'][2],\n",
    "    'Cases (+)' : df_today['TT'][0] - df_yday['TT'][0],\n",
    "    'Deaths (+)' : df_today['TT'][1] - df_yday['TT'][1],\n",
    "    'Recovered (+)': df_today['TT'][2] - df_yday['TT'][2]\n",
    "}\n",
    "\n",
    "summary"
   ]
  },
  {
   "cell_type": "code",
   "execution_count": 9,
   "metadata": {
    "execution": {
     "iopub.execute_input": "2020-09-21T19:12:32.494657Z",
     "iopub.status.busy": "2020-09-21T19:12:32.494068Z",
     "iopub.status.idle": "2020-09-21T19:12:32.496391Z",
     "shell.execute_reply": "2020-09-21T19:12:32.495895Z"
    },
    "papermill": {
     "duration": 0.02768,
     "end_time": "2020-09-21T19:12:32.496519",
     "exception": false,
     "start_time": "2020-09-21T19:12:32.468839",
     "status": "completed"
    },
    "tags": []
   },
   "outputs": [],
   "source": [
    "#hide\n",
    "overview = '''\n",
    "<!-- #######  HTML!! #########-->\n",
    "<h1 style=\"color: #5e9ca0; text-align: center;\">India</h1>\n",
    "<p style=\"text-align: center;\">Last update: <strong>{update}</strong></p>\n",
    "<p style=\"text-align: center;\">Confirmed cases:</p>\n",
    "<p style=\"text-align: center;font-size:24px;\">{cases} (<span style=\"color: #ff0000;\">+{new}</span>)</p>\n",
    "<p style=\"text-align: center;\">Confirmed deaths:</p>\n",
    "<p style=\"text-align: center;font-size:24px;\">{deaths} (<span style=\"color: #ff0000;\">+{dnew}</span>)</p>\n",
    "<p style=\"text-align: center;\">Recovered cases:</p>\n",
    "<p style=\"text-align: center;font-size:24px;\">{recovered} (<span style=\"color: #00ff00;\">+{rnew}</span>)</p>\n",
    "'''"
   ]
  },
  {
   "cell_type": "code",
   "execution_count": 10,
   "metadata": {
    "execution": {
     "iopub.execute_input": "2020-09-21T19:12:32.532891Z",
     "iopub.status.busy": "2020-09-21T19:12:32.532245Z",
     "iopub.status.idle": "2020-09-21T19:12:32.535678Z",
     "shell.execute_reply": "2020-09-21T19:12:32.535192Z"
    },
    "papermill": {
     "duration": 0.023923,
     "end_time": "2020-09-21T19:12:32.535800",
     "exception": false,
     "start_time": "2020-09-21T19:12:32.511877",
     "status": "completed"
    },
    "tags": []
   },
   "outputs": [
    {
     "data": {
      "text/html": [
       "\n",
       "<!-- #######  HTML!! #########-->\n",
       "<h1 style=\"color: #5e9ca0; text-align: center;\">India</h1>\n",
       "<p style=\"text-align: center;\">Last update: <strong>21-Sep-20</strong></p>\n",
       "<p style=\"text-align: center;\">Confirmed cases:</p>\n",
       "<p style=\"text-align: center;font-size:24px;\">5549886 (<span style=\"color: #ff0000;\">+69006</span>)</p>\n",
       "<p style=\"text-align: center;\">Confirmed deaths:</p>\n",
       "<p style=\"text-align: center;font-size:24px;\">88300 (<span style=\"color: #ff0000;\">+1017</span>)</p>\n",
       "<p style=\"text-align: center;\">Recovered cases:</p>\n",
       "<p style=\"text-align: center;font-size:24px;\">4486073 (<span style=\"color: #00ff00;\">+97550</span>)</p>\n"
      ],
      "text/plain": [
       "<IPython.core.display.HTML object>"
      ]
     },
     "metadata": {},
     "output_type": "display_data"
    }
   ],
   "source": [
    "#hide_input\n",
    "# Fill the above HTML with the information from the summary dictionary\n",
    "\n",
    "update = summary['updated']\n",
    "cases = summary['Cases']\n",
    "new = summary['Cases (+)']\n",
    "deaths = summary['Deaths']\n",
    "dnew = summary['Deaths (+)']\n",
    "recovered = summary['Recovered']\n",
    "rnew = summary['Recovered (+)']\n",
    "\n",
    "html = HTML(overview.format(update=update, cases=cases,new=new,deaths=deaths,dnew=dnew, recovered=recovered, rnew=rnew))\n",
    "\n",
    "display(html)"
   ]
  },
  {
   "cell_type": "code",
   "execution_count": 11,
   "metadata": {
    "execution": {
     "iopub.execute_input": "2020-09-21T19:12:32.576964Z",
     "iopub.status.busy": "2020-09-21T19:12:32.575275Z",
     "iopub.status.idle": "2020-09-21T19:12:32.580919Z",
     "shell.execute_reply": "2020-09-21T19:12:32.579905Z"
    },
    "papermill": {
     "duration": 0.029968,
     "end_time": "2020-09-21T19:12:32.581048",
     "exception": false,
     "start_time": "2020-09-21T19:12:32.551080",
     "status": "completed"
    },
    "tags": []
   },
   "outputs": [],
   "source": [
    "#hide\n",
    "df_cases = df[df['Status'] == 'Confirmed'].copy()\n",
    "df_cases.drop(columns = ['Status'], inplace=True)\n",
    "df_deaths = df[df['Status'] == 'Deceased'].copy()\n",
    "df_deaths.drop(columns = ['Status'], inplace=True)\n",
    "df_recovered = df[df['Status'] == 'Recovered'].copy()\n",
    "df_recovered.drop(columns = ['Status'], inplace=True)"
   ]
  },
  {
   "cell_type": "markdown",
   "metadata": {
    "papermill": {
     "duration": 0.014591,
     "end_time": "2020-09-21T19:12:32.610321",
     "exception": false,
     "start_time": "2020-09-21T19:12:32.595730",
     "status": "completed"
    },
    "tags": []
   },
   "source": [
    "Plot for India:"
   ]
  },
  {
   "cell_type": "code",
   "execution_count": 12,
   "metadata": {
    "execution": {
     "iopub.execute_input": "2020-09-21T19:12:32.666761Z",
     "iopub.status.busy": "2020-09-21T19:12:32.666145Z",
     "iopub.status.idle": "2020-09-21T19:12:32.930029Z",
     "shell.execute_reply": "2020-09-21T19:12:32.930614Z"
    },
    "papermill": {
     "duration": 0.305737,
     "end_time": "2020-09-21T19:12:32.930776",
     "exception": false,
     "start_time": "2020-09-21T19:12:32.625039",
     "status": "completed"
    },
    "tags": []
   },
   "outputs": [
    {
     "data": {
      "image/png": "[encoded data removed]",
      "text/plain": [
       "<Figure size 1296x432 with 1 Axes>"
      ]
     },
     "metadata": {
      "needs_background": "light"
     },
     "output_type": "display_data"
    }
   ],
   "source": [
    "#hide_input\n",
    "plt.figure(figsize = (18,6))\n",
    "plt.plot(df_cases['Date'], df_cases['TT'],'.-', alpha=0.7, color='b', label='Confirmed cases')\n",
    "plt.plot(df_recovered['Date'], df_recovered['TT'],'.-', alpha=0.7, color='g', label='Recovered')\n",
    "plt.plot(df_deaths['Date'], df_deaths['TT'],'.-', alpha=0.7, color='r', label='Deceased')\n",
    "plt.legend()\n",
    "plt.title(\"Cases per day in India\")\n",
    "plt.xticks(ticks=' ')\n",
    "plt.xlabel(f'{df_cases.iloc[0][0]} to {df_cases.iloc[-1][0]}')\n",
    "plt.ylabel('No. of cases');"
   ]
  },
  {
   "cell_type": "markdown",
   "metadata": {
    "papermill": {
     "duration": 0.018172,
     "end_time": "2020-09-21T19:12:32.967157",
     "exception": false,
     "start_time": "2020-09-21T19:12:32.948985",
     "status": "completed"
    },
    "tags": []
   },
   "source": [
    "Plots for the states with highest number of cases:"
   ]
  },
  {
   "cell_type": "code",
   "execution_count": 13,
   "metadata": {
    "execution": {
     "iopub.execute_input": "2020-09-21T19:12:33.014862Z",
     "iopub.status.busy": "2020-09-21T19:12:33.014114Z",
     "iopub.status.idle": "2020-09-21T19:12:33.622609Z",
     "shell.execute_reply": "2020-09-21T19:12:33.623058Z"
    },
    "papermill": {
     "duration": 0.637685,
     "end_time": "2020-09-21T19:12:33.623307",
     "exception": false,
     "start_time": "2020-09-21T19:12:32.985622",
     "status": "completed"
    },
    "tags": []
   },
   "outputs": [
    {
     "data": {
      "image/png": "[encoded data removed]",
      "text/plain": [
       "<Figure size 1512x432 with 3 Axes>"
      ]
     },
     "metadata": {
      "needs_background": "light"
     },
     "output_type": "display_data"
    }
   ],
   "source": [
    "#hide_input\n",
    "top_3 = sorted(df_cases.sum().values[1:], reverse=True)[1:4]\n",
    "top3_states=[]\n",
    "for i in top_3:\n",
    "    top3_states.append(df_cases.sum()[df_cases.sum() == i].index)\n",
    "\n",
    "\n",
    "fig, ax = plt.subplots(1,3,figsize = (21,6))\n",
    "for i in range(3):\n",
    "    state = top3_states[i].values[0]\n",
    "    ax[i].plot(df_cases['Date'], df_cases[state],'.-', color='b', alpha=0.7)\n",
    "    ax[i].plot(df_deaths['Date'], df_deaths[state],'.-', color='r', alpha=0.7)\n",
    "    ax[i].plot(df_recovered['Date'], df_recovered[state],'.-', color='g', alpha=0.7)\n",
    "    \n",
    "    ax[i].set_title(f\"Cases in {state}\")\n",
    "    ax[i].set_xticks(ticks=' ')\n",
    "    ax[i].set_xlabel(f'{df_cases.iloc[0][0]} to {df_cases.iloc[-1][0]}')\n",
    "    ax[i].set_ylabel('No. of cases');"
   ]
  },
  {
   "cell_type": "code",
   "execution_count": null,
   "metadata": {
    "papermill": {
     "duration": 0.020785,
     "end_time": "2020-09-21T19:12:33.665304",
     "exception": false,
     "start_time": "2020-09-21T19:12:33.644519",
     "status": "completed"
    },
    "tags": []
   },
   "outputs": [],
   "source": []
  },
  {
   "cell_type": "code",
   "execution_count": null,
   "metadata": {
    "papermill": {
     "duration": 0.021579,
     "end_time": "2020-09-21T19:12:33.708019",
     "exception": false,
     "start_time": "2020-09-21T19:12:33.686440",
     "status": "completed"
    },
    "tags": []
   },
   "outputs": [],
   "source": []
  },
  {
   "cell_type": "code",
   "execution_count": null,
   "metadata": {
    "papermill": {
     "duration": 0.020463,
     "end_time": "2020-09-21T19:12:33.751063",
     "exception": false,
     "start_time": "2020-09-21T19:12:33.730600",
     "status": "completed"
    },
    "tags": []
   },
   "outputs": [],
   "source": []
  }
 ],
 "metadata": {
  "kernelspec": {
   "display_name": "Python 3",
   "language": "python",
   "name": "python3"
  },
  "language_info": {
   "codemirror_mode": {
    "name": "ipython",
    "version": 3
   },
   "file_extension": ".py",
   "mimetype": "text/x-python",
   "name": "python",
   "nbconvert_exporter": "python",
   "pygments_lexer": "ipython3",
   "version": "3.6.12"
  },
  "papermill": {
   "duration": 4.223954,
   "end_time": "2020-09-21T19:12:34.181100",
   "environment_variables": {},
   "exception": null,
   "input_path": "2020-08-09-DailyUpdate.ipynb",
   "output_path": "2020-08-09-DailyUpdate.ipynb",
   "parameters": {},
   "start_time": "2020-09-21T19:12:29.957146",
   "version": "2.1.2"
  }
 },
 "nbformat": 4,
 "nbformat_minor": 4
}