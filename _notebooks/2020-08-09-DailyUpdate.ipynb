{
 "cells": [
  {
   "cell_type": "markdown",
   "metadata": {
    "papermill": {
     "duration": 0.016048,
     "end_time": "2020-09-17T19:12:26.962345",
     "exception": false,
     "start_time": "2020-09-17T19:12:26.946297",
     "status": "completed"
    },
    "tags": []
   },
   "source": [
    "# COVID-19 India Daily updates\n",
    "> Tracking coronavirus total cases, deaths and new cases in India on a daily basis\n",
    "\n",
    "- author: Vaibhav Mahapatra"
   ]
  },
  {
   "cell_type": "code",
   "execution_count": 1,
   "metadata": {
    "execution": {
     "iopub.execute_input": "2020-09-17T19:12:26.994997Z",
     "iopub.status.busy": "2020-09-17T19:12:26.994319Z",
     "iopub.status.idle": "2020-09-17T19:12:27.613477Z",
     "shell.execute_reply": "2020-09-17T19:12:27.612906Z"
    },
    "papermill": {
     "duration": 0.637944,
     "end_time": "2020-09-17T19:12:27.613635",
     "exception": false,
     "start_time": "2020-09-17T19:12:26.975691",
     "status": "completed"
    },
    "tags": []
   },
   "outputs": [],
   "source": [
    "#hide\n",
    "\n",
    "## Import essential packages below\n",
    "\n",
    "import pandas as pd\n",
    "import numpy as np\n",
    "import requests\n",
    "import json\n",
    "import matplotlib.pyplot as plt\n",
    "import matplotlib.dates as mdates\n",
    "import matplotlib as mpl\n",
    "from IPython.core.display import display,HTML\n",
    "%matplotlib inline"
   ]
  },
  {
   "cell_type": "code",
   "execution_count": 2,
   "metadata": {
    "execution": {
     "iopub.execute_input": "2020-09-17T19:12:27.647212Z",
     "iopub.status.busy": "2020-09-17T19:12:27.646218Z",
     "iopub.status.idle": "2020-09-17T19:12:27.696960Z",
     "shell.execute_reply": "2020-09-17T19:12:27.697495Z"
    },
    "papermill": {
     "duration": 0.070514,
     "end_time": "2020-09-17T19:12:27.697662",
     "exception": false,
     "start_time": "2020-09-17T19:12:27.627148",
     "status": "completed"
    },
    "tags": []
   },
   "outputs": [
    {
     "data": {
      "text/plain": [
       "(564, 41)"
      ]
     },
     "execution_count": 2,
     "metadata": {},
     "output_type": "execute_result"
    }
   ],
   "source": [
    "#hide\n",
    "url = 'https://api.covid19india.org/csv/latest/state_wise_daily.csv'\n",
    "df = pd.read_csv(url)\n",
    "df.shape"
   ]
  },
  {
   "cell_type": "code",
   "execution_count": 3,
   "metadata": {
    "execution": {
     "iopub.execute_input": "2020-09-17T19:12:27.775692Z",
     "iopub.status.busy": "2020-09-17T19:12:27.767091Z",
     "iopub.status.idle": "2020-09-17T19:12:27.786448Z",
     "shell.execute_reply": "2020-09-17T19:12:27.786981Z"
    },
    "papermill": {
     "duration": 0.076422,
     "end_time": "2020-09-17T19:12:27.787150",
     "exception": false,
     "start_time": "2020-09-17T19:12:27.710728",
     "status": "completed"
    },
    "tags": []
   },
   "outputs": [
    {
     "data": {
      "text/html": [
       "<div>\n",
       "<style scoped>\n",
       "    .dataframe tbody tr th:only-of-type {\n",
       "        vertical-align: middle;\n",
       "    }\n",
       "\n",
       "    .dataframe tbody tr th {\n",
       "        vertical-align: top;\n",
       "    }\n",
       "\n",
       "    .dataframe thead th {\n",
       "        text-align: right;\n",
       "    }\n",
       "</style>\n",
       "<table border=\"1\" class=\"dataframe\">\n",
       "  <thead>\n",
       "    <tr style=\"text-align: right;\">\n",
       "      <th></th>\n",
       "      <th>Date</th>\n",
       "      <th>Status</th>\n",
       "      <th>TT</th>\n",
       "      <th>AN</th>\n",
       "      <th>AP</th>\n",
       "      <th>AR</th>\n",
       "      <th>AS</th>\n",
       "      <th>BR</th>\n",
       "      <th>CH</th>\n",
       "      <th>CT</th>\n",
       "      <th>...</th>\n",
       "      <th>PB</th>\n",
       "      <th>RJ</th>\n",
       "      <th>SK</th>\n",
       "      <th>TN</th>\n",
       "      <th>TG</th>\n",
       "      <th>TR</th>\n",
       "      <th>UP</th>\n",
       "      <th>UT</th>\n",
       "      <th>WB</th>\n",
       "      <th>UN</th>\n",
       "    </tr>\n",
       "  </thead>\n",
       "  <tbody>\n",
       "    <tr>\n",
       "      <th>558</th>\n",
       "      <td>16-Sep-20</td>\n",
       "      <td>Confirmed</td>\n",
       "      <td>97856</td>\n",
       "      <td>19</td>\n",
       "      <td>8835</td>\n",
       "      <td>226</td>\n",
       "      <td>2394</td>\n",
       "      <td>1531</td>\n",
       "      <td>366</td>\n",
       "      <td>3189</td>\n",
       "      <td>...</td>\n",
       "      <td>2702</td>\n",
       "      <td>1782</td>\n",
       "      <td>48</td>\n",
       "      <td>5652</td>\n",
       "      <td>2273</td>\n",
       "      <td>454</td>\n",
       "      <td>6229</td>\n",
       "      <td>1540</td>\n",
       "      <td>3237</td>\n",
       "      <td>0</td>\n",
       "    </tr>\n",
       "    <tr>\n",
       "      <th>559</th>\n",
       "      <td>16-Sep-20</td>\n",
       "      <td>Recovered</td>\n",
       "      <td>82923</td>\n",
       "      <td>27</td>\n",
       "      <td>10845</td>\n",
       "      <td>129</td>\n",
       "      <td>2464</td>\n",
       "      <td>1724</td>\n",
       "      <td>181</td>\n",
       "      <td>1647</td>\n",
       "      <td>...</td>\n",
       "      <td>2756</td>\n",
       "      <td>1479</td>\n",
       "      <td>32</td>\n",
       "      <td>5768</td>\n",
       "      <td>2260</td>\n",
       "      <td>510</td>\n",
       "      <td>6476</td>\n",
       "      <td>1192</td>\n",
       "      <td>2971</td>\n",
       "      <td>0</td>\n",
       "    </tr>\n",
       "    <tr>\n",
       "      <th>560</th>\n",
       "      <td>16-Sep-20</td>\n",
       "      <td>Deceased</td>\n",
       "      <td>1140</td>\n",
       "      <td>0</td>\n",
       "      <td>64</td>\n",
       "      <td>0</td>\n",
       "      <td>19</td>\n",
       "      <td>12</td>\n",
       "      <td>5</td>\n",
       "      <td>23</td>\n",
       "      <td>...</td>\n",
       "      <td>78</td>\n",
       "      <td>15</td>\n",
       "      <td>0</td>\n",
       "      <td>57</td>\n",
       "      <td>12</td>\n",
       "      <td>10</td>\n",
       "      <td>86</td>\n",
       "      <td>9</td>\n",
       "      <td>61</td>\n",
       "      <td>0</td>\n",
       "    </tr>\n",
       "    <tr>\n",
       "      <th>561</th>\n",
       "      <td>17-Sep-20</td>\n",
       "      <td>Confirmed</td>\n",
       "      <td>96632</td>\n",
       "      <td>11</td>\n",
       "      <td>8702</td>\n",
       "      <td>9</td>\n",
       "      <td>1380</td>\n",
       "      <td>1592</td>\n",
       "      <td>288</td>\n",
       "      <td>3809</td>\n",
       "      <td>...</td>\n",
       "      <td>2848</td>\n",
       "      <td>1793</td>\n",
       "      <td>53</td>\n",
       "      <td>5560</td>\n",
       "      <td>2159</td>\n",
       "      <td>527</td>\n",
       "      <td>6029</td>\n",
       "      <td>1192</td>\n",
       "      <td>3197</td>\n",
       "      <td>0</td>\n",
       "    </tr>\n",
       "    <tr>\n",
       "      <th>562</th>\n",
       "      <td>17-Sep-20</td>\n",
       "      <td>Recovered</td>\n",
       "      <td>87778</td>\n",
       "      <td>33</td>\n",
       "      <td>10712</td>\n",
       "      <td>180</td>\n",
       "      <td>2246</td>\n",
       "      <td>1465</td>\n",
       "      <td>379</td>\n",
       "      <td>5226</td>\n",
       "      <td>...</td>\n",
       "      <td>2248</td>\n",
       "      <td>1333</td>\n",
       "      <td>67</td>\n",
       "      <td>5524</td>\n",
       "      <td>2108</td>\n",
       "      <td>521</td>\n",
       "      <td>4715</td>\n",
       "      <td>533</td>\n",
       "      <td>2948</td>\n",
       "      <td>0</td>\n",
       "    </tr>\n",
       "    <tr>\n",
       "      <th>563</th>\n",
       "      <td>17-Sep-20</td>\n",
       "      <td>Deceased</td>\n",
       "      <td>1175</td>\n",
       "      <td>0</td>\n",
       "      <td>72</td>\n",
       "      <td>0</td>\n",
       "      <td>17</td>\n",
       "      <td>7</td>\n",
       "      <td>5</td>\n",
       "      <td>17</td>\n",
       "      <td>...</td>\n",
       "      <td>54</td>\n",
       "      <td>14</td>\n",
       "      <td>4</td>\n",
       "      <td>59</td>\n",
       "      <td>9</td>\n",
       "      <td>5</td>\n",
       "      <td>81</td>\n",
       "      <td>13</td>\n",
       "      <td>60</td>\n",
       "      <td>0</td>\n",
       "    </tr>\n",
       "  </tbody>\n",
       "</table>\n",
       "<p>6 rows × 41 columns</p>\n",
       "</div>"
      ],
      "text/plain": [
       "          Date     Status     TT  AN     AP   AR    AS    BR   CH    CT  ...  \\\n",
       "558  16-Sep-20  Confirmed  97856  19   8835  226  2394  1531  366  3189  ...   \n",
       "559  16-Sep-20  Recovered  82923  27  10845  129  2464  1724  181  1647  ...   \n",
       "560  16-Sep-20   Deceased   1140   0     64    0    19    12    5    23  ...   \n",
       "561  17-Sep-20  Confirmed  96632  11   8702    9  1380  1592  288  3809  ...   \n",
       "562  17-Sep-20  Recovered  87778  33  10712  180  2246  1465  379  5226  ...   \n",
       "563  17-Sep-20   Deceased   1175   0     72    0    17     7    5    17  ...   \n",
       "\n",
       "       PB    RJ  SK    TN    TG   TR    UP    UT    WB  UN  \n",
       "558  2702  1782  48  5652  2273  454  6229  1540  3237   0  \n",
       "559  2756  1479  32  5768  2260  510  6476  1192  2971   0  \n",
       "560    78    15   0    57    12   10    86     9    61   0  \n",
       "561  2848  1793  53  5560  2159  527  6029  1192  3197   0  \n",
       "562  2248  1333  67  5524  2108  521  4715   533  2948   0  \n",
       "563    54    14   4    59     9    5    81    13    60   0  \n",
       "\n",
       "[6 rows x 41 columns]"
      ]
     },
     "execution_count": 3,
     "metadata": {},
     "output_type": "execute_result"
    }
   ],
   "source": [
    "#hide\n",
    "df.tail(6)"
   ]
  },
  {
   "cell_type": "code",
   "execution_count": 4,
   "metadata": {
    "execution": {
     "iopub.execute_input": "2020-09-17T19:12:27.822366Z",
     "iopub.status.busy": "2020-09-17T19:12:27.821717Z",
     "iopub.status.idle": "2020-09-17T19:12:27.824780Z",
     "shell.execute_reply": "2020-09-17T19:12:27.825307Z"
    },
    "papermill": {
     "duration": 0.024429,
     "end_time": "2020-09-17T19:12:27.825459",
     "exception": false,
     "start_time": "2020-09-17T19:12:27.801030",
     "status": "completed"
    },
    "tags": []
   },
   "outputs": [
    {
     "data": {
      "text/plain": [
       "('17-Sep-20', '16-Sep-20')"
      ]
     },
     "execution_count": 4,
     "metadata": {},
     "output_type": "execute_result"
    }
   ],
   "source": [
    "#hide\n",
    "dt_today = df.iloc[-1][0]\n",
    "dt_yday = df.iloc[-4][0]\n",
    "dt_today, dt_yday"
   ]
  },
  {
   "cell_type": "code",
   "execution_count": 5,
   "metadata": {
    "execution": {
     "iopub.execute_input": "2020-09-17T19:12:27.860724Z",
     "iopub.status.busy": "2020-09-17T19:12:27.860088Z",
     "iopub.status.idle": "2020-09-17T19:12:27.865528Z",
     "shell.execute_reply": "2020-09-17T19:12:27.866181Z"
    },
    "papermill": {
     "duration": 0.026108,
     "end_time": "2020-09-17T19:12:27.866328",
     "exception": false,
     "start_time": "2020-09-17T19:12:27.840220",
     "status": "completed"
    },
    "tags": []
   },
   "outputs": [],
   "source": [
    "#hide\n",
    "df_today = df.groupby('Status').sum()\n",
    "df_yday = df.iloc[:-3][:].groupby('Status').sum()"
   ]
  },
  {
   "cell_type": "code",
   "execution_count": 6,
   "metadata": {
    "execution": {
     "iopub.execute_input": "2020-09-17T19:12:27.909539Z",
     "iopub.status.busy": "2020-09-17T19:12:27.908885Z",
     "iopub.status.idle": "2020-09-17T19:12:27.912637Z",
     "shell.execute_reply": "2020-09-17T19:12:27.913203Z"
    },
    "papermill": {
     "duration": 0.033578,
     "end_time": "2020-09-17T19:12:27.913355",
     "exception": false,
     "start_time": "2020-09-17T19:12:27.879777",
     "status": "completed"
    },
    "tags": []
   },
   "outputs": [
    {
     "data": {
      "text/html": [
       "<div>\n",
       "<style scoped>\n",
       "    .dataframe tbody tr th:only-of-type {\n",
       "        vertical-align: middle;\n",
       "    }\n",
       "\n",
       "    .dataframe tbody tr th {\n",
       "        vertical-align: top;\n",
       "    }\n",
       "\n",
       "    .dataframe thead th {\n",
       "        text-align: right;\n",
       "    }\n",
       "</style>\n",
       "<table border=\"1\" class=\"dataframe\">\n",
       "  <thead>\n",
       "    <tr style=\"text-align: right;\">\n",
       "      <th></th>\n",
       "      <th>TT</th>\n",
       "      <th>AN</th>\n",
       "      <th>AP</th>\n",
       "      <th>AR</th>\n",
       "      <th>AS</th>\n",
       "      <th>BR</th>\n",
       "      <th>CH</th>\n",
       "      <th>CT</th>\n",
       "      <th>DN</th>\n",
       "      <th>DD</th>\n",
       "      <th>...</th>\n",
       "      <th>PB</th>\n",
       "      <th>RJ</th>\n",
       "      <th>SK</th>\n",
       "      <th>TN</th>\n",
       "      <th>TG</th>\n",
       "      <th>TR</th>\n",
       "      <th>UP</th>\n",
       "      <th>UT</th>\n",
       "      <th>WB</th>\n",
       "      <th>UN</th>\n",
       "    </tr>\n",
       "    <tr>\n",
       "      <th>Status</th>\n",
       "      <th></th>\n",
       "      <th></th>\n",
       "      <th></th>\n",
       "      <th></th>\n",
       "      <th></th>\n",
       "      <th></th>\n",
       "      <th></th>\n",
       "      <th></th>\n",
       "      <th></th>\n",
       "      <th></th>\n",
       "      <th></th>\n",
       "      <th></th>\n",
       "      <th></th>\n",
       "      <th></th>\n",
       "      <th></th>\n",
       "      <th></th>\n",
       "      <th></th>\n",
       "      <th></th>\n",
       "      <th></th>\n",
       "      <th></th>\n",
       "      <th></th>\n",
       "    </tr>\n",
       "  </thead>\n",
       "  <tbody>\n",
       "    <tr>\n",
       "      <th>Confirmed</th>\n",
       "      <td>5208492</td>\n",
       "      <td>3600</td>\n",
       "      <td>601462</td>\n",
       "      <td>6701</td>\n",
       "      <td>150247</td>\n",
       "      <td>164224</td>\n",
       "      <td>9246</td>\n",
       "      <td>77775</td>\n",
       "      <td>2823</td>\n",
       "      <td>0</td>\n",
       "      <td>...</td>\n",
       "      <td>90032</td>\n",
       "      <td>109473</td>\n",
       "      <td>2256</td>\n",
       "      <td>525420</td>\n",
       "      <td>164493</td>\n",
       "      <td>20696</td>\n",
       "      <td>336294</td>\n",
       "      <td>37139</td>\n",
       "      <td>215580</td>\n",
       "      <td>0</td>\n",
       "    </tr>\n",
       "    <tr>\n",
       "      <th>Deceased</th>\n",
       "      <td>83786</td>\n",
       "      <td>52</td>\n",
       "      <td>5177</td>\n",
       "      <td>13</td>\n",
       "      <td>516</td>\n",
       "      <td>855</td>\n",
       "      <td>106</td>\n",
       "      <td>628</td>\n",
       "      <td>2</td>\n",
       "      <td>0</td>\n",
       "      <td>...</td>\n",
       "      <td>2646</td>\n",
       "      <td>1293</td>\n",
       "      <td>20</td>\n",
       "      <td>8618</td>\n",
       "      <td>1005</td>\n",
       "      <td>222</td>\n",
       "      <td>4771</td>\n",
       "      <td>460</td>\n",
       "      <td>4183</td>\n",
       "      <td>0</td>\n",
       "    </tr>\n",
       "    <tr>\n",
       "      <th>Recovered</th>\n",
       "      <td>4107958</td>\n",
       "      <td>3369</td>\n",
       "      <td>508088</td>\n",
       "      <td>4967</td>\n",
       "      <td>121610</td>\n",
       "      <td>149722</td>\n",
       "      <td>6062</td>\n",
       "      <td>41111</td>\n",
       "      <td>2582</td>\n",
       "      <td>0</td>\n",
       "      <td>...</td>\n",
       "      <td>65818</td>\n",
       "      <td>90685</td>\n",
       "      <td>1788</td>\n",
       "      <td>470192</td>\n",
       "      <td>133555</td>\n",
       "      <td>12956</td>\n",
       "      <td>263288</td>\n",
       "      <td>24810</td>\n",
       "      <td>187061</td>\n",
       "      <td>0</td>\n",
       "    </tr>\n",
       "  </tbody>\n",
       "</table>\n",
       "<p>3 rows × 39 columns</p>\n",
       "</div>"
      ],
      "text/plain": [
       "                TT    AN      AP    AR      AS      BR    CH     CT    DN  DD  \\\n",
       "Status                                                                          \n",
       "Confirmed  5208492  3600  601462  6701  150247  164224  9246  77775  2823   0   \n",
       "Deceased     83786    52    5177    13     516     855   106    628     2   0   \n",
       "Recovered  4107958  3369  508088  4967  121610  149722  6062  41111  2582   0   \n",
       "\n",
       "           ...     PB      RJ    SK      TN      TG     TR      UP     UT  \\\n",
       "Status     ...                                                              \n",
       "Confirmed  ...  90032  109473  2256  525420  164493  20696  336294  37139   \n",
       "Deceased   ...   2646    1293    20    8618    1005    222    4771    460   \n",
       "Recovered  ...  65818   90685  1788  470192  133555  12956  263288  24810   \n",
       "\n",
       "               WB  UN  \n",
       "Status                 \n",
       "Confirmed  215580   0  \n",
       "Deceased     4183   0  \n",
       "Recovered  187061   0  \n",
       "\n",
       "[3 rows x 39 columns]"
      ]
     },
     "execution_count": 6,
     "metadata": {},
     "output_type": "execute_result"
    }
   ],
   "source": [
    "#hide\n",
    "df_today"
   ]
  },
  {
   "cell_type": "code",
   "execution_count": 7,
   "metadata": {
    "execution": {
     "iopub.execute_input": "2020-09-17T19:12:27.961796Z",
     "iopub.status.busy": "2020-09-17T19:12:27.961104Z",
     "iopub.status.idle": "2020-09-17T19:12:27.963735Z",
     "shell.execute_reply": "2020-09-17T19:12:27.964361Z"
    },
    "papermill": {
     "duration": 0.036513,
     "end_time": "2020-09-17T19:12:27.964512",
     "exception": false,
     "start_time": "2020-09-17T19:12:27.927999",
     "status": "completed"
    },
    "tags": []
   },
   "outputs": [
    {
     "data": {
      "text/html": [
       "<div>\n",
       "<style scoped>\n",
       "    .dataframe tbody tr th:only-of-type {\n",
       "        vertical-align: middle;\n",
       "    }\n",
       "\n",
       "    .dataframe tbody tr th {\n",
       "        vertical-align: top;\n",
       "    }\n",
       "\n",
       "    .dataframe thead th {\n",
       "        text-align: right;\n",
       "    }\n",
       "</style>\n",
       "<table border=\"1\" class=\"dataframe\">\n",
       "  <thead>\n",
       "    <tr style=\"text-align: right;\">\n",
       "      <th></th>\n",
       "      <th>TT</th>\n",
       "      <th>AN</th>\n",
       "      <th>AP</th>\n",
       "      <th>AR</th>\n",
       "      <th>AS</th>\n",
       "      <th>BR</th>\n",
       "      <th>CH</th>\n",
       "      <th>CT</th>\n",
       "      <th>DN</th>\n",
       "      <th>DD</th>\n",
       "      <th>...</th>\n",
       "      <th>PB</th>\n",
       "      <th>RJ</th>\n",
       "      <th>SK</th>\n",
       "      <th>TN</th>\n",
       "      <th>TG</th>\n",
       "      <th>TR</th>\n",
       "      <th>UP</th>\n",
       "      <th>UT</th>\n",
       "      <th>WB</th>\n",
       "      <th>UN</th>\n",
       "    </tr>\n",
       "    <tr>\n",
       "      <th>Status</th>\n",
       "      <th></th>\n",
       "      <th></th>\n",
       "      <th></th>\n",
       "      <th></th>\n",
       "      <th></th>\n",
       "      <th></th>\n",
       "      <th></th>\n",
       "      <th></th>\n",
       "      <th></th>\n",
       "      <th></th>\n",
       "      <th></th>\n",
       "      <th></th>\n",
       "      <th></th>\n",
       "      <th></th>\n",
       "      <th></th>\n",
       "      <th></th>\n",
       "      <th></th>\n",
       "      <th></th>\n",
       "      <th></th>\n",
       "      <th></th>\n",
       "      <th></th>\n",
       "    </tr>\n",
       "  </thead>\n",
       "  <tbody>\n",
       "    <tr>\n",
       "      <th>Confirmed</th>\n",
       "      <td>5111860</td>\n",
       "      <td>3589</td>\n",
       "      <td>592760</td>\n",
       "      <td>6692</td>\n",
       "      <td>148867</td>\n",
       "      <td>162632</td>\n",
       "      <td>8958</td>\n",
       "      <td>73966</td>\n",
       "      <td>2806</td>\n",
       "      <td>0</td>\n",
       "      <td>...</td>\n",
       "      <td>87184</td>\n",
       "      <td>107680</td>\n",
       "      <td>2203</td>\n",
       "      <td>519860</td>\n",
       "      <td>162334</td>\n",
       "      <td>20169</td>\n",
       "      <td>330265</td>\n",
       "      <td>35947</td>\n",
       "      <td>212383</td>\n",
       "      <td>0</td>\n",
       "    </tr>\n",
       "    <tr>\n",
       "      <th>Deceased</th>\n",
       "      <td>82611</td>\n",
       "      <td>52</td>\n",
       "      <td>5105</td>\n",
       "      <td>13</td>\n",
       "      <td>499</td>\n",
       "      <td>848</td>\n",
       "      <td>101</td>\n",
       "      <td>611</td>\n",
       "      <td>2</td>\n",
       "      <td>0</td>\n",
       "      <td>...</td>\n",
       "      <td>2592</td>\n",
       "      <td>1279</td>\n",
       "      <td>16</td>\n",
       "      <td>8559</td>\n",
       "      <td>996</td>\n",
       "      <td>217</td>\n",
       "      <td>4690</td>\n",
       "      <td>447</td>\n",
       "      <td>4123</td>\n",
       "      <td>0</td>\n",
       "    </tr>\n",
       "    <tr>\n",
       "      <th>Recovered</th>\n",
       "      <td>4020180</td>\n",
       "      <td>3336</td>\n",
       "      <td>497376</td>\n",
       "      <td>4787</td>\n",
       "      <td>119364</td>\n",
       "      <td>148257</td>\n",
       "      <td>5683</td>\n",
       "      <td>35885</td>\n",
       "      <td>2559</td>\n",
       "      <td>0</td>\n",
       "      <td>...</td>\n",
       "      <td>63570</td>\n",
       "      <td>89352</td>\n",
       "      <td>1721</td>\n",
       "      <td>464668</td>\n",
       "      <td>131447</td>\n",
       "      <td>12435</td>\n",
       "      <td>258573</td>\n",
       "      <td>24277</td>\n",
       "      <td>184113</td>\n",
       "      <td>0</td>\n",
       "    </tr>\n",
       "  </tbody>\n",
       "</table>\n",
       "<p>3 rows × 39 columns</p>\n",
       "</div>"
      ],
      "text/plain": [
       "                TT    AN      AP    AR      AS      BR    CH     CT    DN  DD  \\\n",
       "Status                                                                          \n",
       "Confirmed  5111860  3589  592760  6692  148867  162632  8958  73966  2806   0   \n",
       "Deceased     82611    52    5105    13     499     848   101    611     2   0   \n",
       "Recovered  4020180  3336  497376  4787  119364  148257  5683  35885  2559   0   \n",
       "\n",
       "           ...     PB      RJ    SK      TN      TG     TR      UP     UT  \\\n",
       "Status     ...                                                              \n",
       "Confirmed  ...  87184  107680  2203  519860  162334  20169  330265  35947   \n",
       "Deceased   ...   2592    1279    16    8559     996    217    4690    447   \n",
       "Recovered  ...  63570   89352  1721  464668  131447  12435  258573  24277   \n",
       "\n",
       "               WB  UN  \n",
       "Status                 \n",
       "Confirmed  212383   0  \n",
       "Deceased     4123   0  \n",
       "Recovered  184113   0  \n",
       "\n",
       "[3 rows x 39 columns]"
      ]
     },
     "execution_count": 7,
     "metadata": {},
     "output_type": "execute_result"
    }
   ],
   "source": [
    "#hide\n",
    "df_yday.head()"
   ]
  },
  {
   "cell_type": "code",
   "execution_count": 8,
   "metadata": {
    "execution": {
     "iopub.execute_input": "2020-09-17T19:12:28.002120Z",
     "iopub.status.busy": "2020-09-17T19:12:28.001474Z",
     "iopub.status.idle": "2020-09-17T19:12:28.004831Z",
     "shell.execute_reply": "2020-09-17T19:12:28.004286Z"
    },
    "papermill": {
     "duration": 0.025495,
     "end_time": "2020-09-17T19:12:28.004962",
     "exception": false,
     "start_time": "2020-09-17T19:12:27.979467",
     "status": "completed"
    },
    "tags": []
   },
   "outputs": [
    {
     "data": {
      "text/plain": [
       "{'updated': '17-Sep-20',\n",
       " 'since': '16-Sep-20',\n",
       " 'Cases': 5208492,\n",
       " 'Deaths': 83786,\n",
       " 'Recovered': 4107958,\n",
       " 'PCases': 5111860,\n",
       " 'PDeaths': 82611,\n",
       " 'PRecovered': 4020180,\n",
       " 'Cases (+)': 96632,\n",
       " 'Deaths (+)': 1175,\n",
       " 'Recovered (+)': 87778}"
      ]
     },
     "execution_count": 8,
     "metadata": {},
     "output_type": "execute_result"
    }
   ],
   "source": [
    "#hide\n",
    "summary = {\n",
    "    'updated' : dt_today,\n",
    "    'since' : dt_yday,\n",
    "    'Cases' : df_today['TT'][0],\n",
    "    'Deaths' : df_today['TT'][1],\n",
    "    'Recovered' : df_today['TT'][2],\n",
    "    'PCases' : df_yday['TT'][0],\n",
    "    'PDeaths' : df_yday['TT'][1],\n",
    "    'PRecovered': df_yday['TT'][2],\n",
    "    'Cases (+)' : df_today['TT'][0] - df_yday['TT'][0],\n",
    "    'Deaths (+)' : df_today['TT'][1] - df_yday['TT'][1],\n",
    "    'Recovered (+)': df_today['TT'][2] - df_yday['TT'][2]\n",
    "}\n",
    "\n",
    "summary"
   ]
  },
  {
   "cell_type": "code",
   "execution_count": 9,
   "metadata": {
    "execution": {
     "iopub.execute_input": "2020-09-17T19:12:28.046133Z",
     "iopub.status.busy": "2020-09-17T19:12:28.045485Z",
     "iopub.status.idle": "2020-09-17T19:12:28.047288Z",
     "shell.execute_reply": "2020-09-17T19:12:28.047922Z"
    },
    "papermill": {
     "duration": 0.022392,
     "end_time": "2020-09-17T19:12:28.048077",
     "exception": false,
     "start_time": "2020-09-17T19:12:28.025685",
     "status": "completed"
    },
    "tags": []
   },
   "outputs": [],
   "source": [
    "#hide\n",
    "overview = '''\n",
    "<!-- #######  HTML!! #########-->\n",
    "<h1 style=\"color: #5e9ca0; text-align: center;\">India</h1>\n",
    "<p style=\"text-align: center;\">Last update: <strong>{update}</strong></p>\n",
    "<p style=\"text-align: center;\">Confirmed cases:</p>\n",
    "<p style=\"text-align: center;font-size:24px;\">{cases} (<span style=\"color: #ff0000;\">+{new}</span>)</p>\n",
    "<p style=\"text-align: center;\">Confirmed deaths:</p>\n",
    "<p style=\"text-align: center;font-size:24px;\">{deaths} (<span style=\"color: #ff0000;\">+{dnew}</span>)</p>\n",
    "<p style=\"text-align: center;\">Recovered cases:</p>\n",
    "<p style=\"text-align: center;font-size:24px;\">{recovered} (<span style=\"color: #00ff00;\">+{rnew}</span>)</p>\n",
    "'''"
   ]
  },
  {
   "cell_type": "code",
   "execution_count": 10,
   "metadata": {
    "execution": {
     "iopub.execute_input": "2020-09-17T19:12:28.088366Z",
     "iopub.status.busy": "2020-09-17T19:12:28.087687Z",
     "iopub.status.idle": "2020-09-17T19:12:28.090971Z",
     "shell.execute_reply": "2020-09-17T19:12:28.090416Z"
    },
    "papermill": {
     "duration": 0.025578,
     "end_time": "2020-09-17T19:12:28.091113",
     "exception": false,
     "start_time": "2020-09-17T19:12:28.065535",
     "status": "completed"
    },
    "tags": []
   },
   "outputs": [
    {
     "data": {
      "text/html": [
       "\n",
       "<!-- #######  HTML!! #########-->\n",
       "<h1 style=\"color: #5e9ca0; text-align: center;\">India</h1>\n",
       "<p style=\"text-align: center;\">Last update: <strong>17-Sep-20</strong></p>\n",
       "<p style=\"text-align: center;\">Confirmed cases:</p>\n",
       "<p style=\"text-align: center;font-size:24px;\">5208492 (<span style=\"color: #ff0000;\">+96632</span>)</p>\n",
       "<p style=\"text-align: center;\">Confirmed deaths:</p>\n",
       "<p style=\"text-align: center;font-size:24px;\">83786 (<span style=\"color: #ff0000;\">+1175</span>)</p>\n",
       "<p style=\"text-align: center;\">Recovered cases:</p>\n",
       "<p style=\"text-align: center;font-size:24px;\">4107958 (<span style=\"color: #00ff00;\">+87778</span>)</p>\n"
      ],
      "text/plain": [
       "<IPython.core.display.HTML object>"
      ]
     },
     "metadata": {},
     "output_type": "display_data"
    }
   ],
   "source": [
    "#hide_input\n",
    "# Fill the above HTML with the information from the summary dictionary\n",
    "\n",
    "update = summary['updated']\n",
    "cases = summary['Cases']\n",
    "new = summary['Cases (+)']\n",
    "deaths = summary['Deaths']\n",
    "dnew = summary['Deaths (+)']\n",
    "recovered = summary['Recovered']\n",
    "rnew = summary['Recovered (+)']\n",
    "\n",
    "html = HTML(overview.format(update=update, cases=cases,new=new,deaths=deaths,dnew=dnew, recovered=recovered, rnew=rnew))\n",
    "\n",
    "display(html)"
   ]
  },
  {
   "cell_type": "code",
   "execution_count": 11,
   "metadata": {
    "execution": {
     "iopub.execute_input": "2020-09-17T19:12:28.134198Z",
     "iopub.status.busy": "2020-09-17T19:12:28.133543Z",
     "iopub.status.idle": "2020-09-17T19:12:28.135723Z",
     "shell.execute_reply": "2020-09-17T19:12:28.136347Z"
    },
    "papermill": {
     "duration": 0.029482,
     "end_time": "2020-09-17T19:12:28.136498",
     "exception": false,
     "start_time": "2020-09-17T19:12:28.107016",
     "status": "completed"
    },
    "tags": []
   },
   "outputs": [],
   "source": [
    "#hide\n",
    "df_cases = df[df['Status'] == 'Confirmed'].copy()\n",
    "df_cases.drop(columns = ['Status'], inplace=True)\n",
    "df_deaths = df[df['Status'] == 'Deceased'].copy()\n",
    "df_deaths.drop(columns = ['Status'], inplace=True)\n",
    "df_recovered = df[df['Status'] == 'Recovered'].copy()\n",
    "df_recovered.drop(columns = ['Status'], inplace=True)"
   ]
  },
  {
   "cell_type": "markdown",
   "metadata": {
    "papermill": {
     "duration": 0.015816,
     "end_time": "2020-09-17T19:12:28.167950",
     "exception": false,
     "start_time": "2020-09-17T19:12:28.152134",
     "status": "completed"
    },
    "tags": []
   },
   "source": [
    "Plot for India:"
   ]
  },
  {
   "cell_type": "code",
   "execution_count": 12,
   "metadata": {
    "execution": {
     "iopub.execute_input": "2020-09-17T19:12:28.222553Z",
     "iopub.status.busy": "2020-09-17T19:12:28.221887Z",
     "iopub.status.idle": "2020-09-17T19:12:28.491517Z",
     "shell.execute_reply": "2020-09-17T19:12:28.492089Z"
    },
    "papermill": {
     "duration": 0.308102,
     "end_time": "2020-09-17T19:12:28.492256",
     "exception": false,
     "start_time": "2020-09-17T19:12:28.184154",
     "status": "completed"
    },
    "tags": []
   },
   "outputs": [
    {
     "data": {
      "image/png": "[encoded data removed]",
      "text/plain": [
       "<Figure size 1296x432 with 1 Axes>"
      ]
     },
     "metadata": {
      "needs_background": "light"
     },
     "output_type": "display_data"
    }
   ],
   "source": [
    "#hide_input\n",
    "plt.figure(figsize = (18,6))\n",
    "plt.plot(df_cases['Date'], df_cases['TT'],'.-', alpha=0.7, color='b', label='Confirmed cases')\n",
    "plt.plot(df_recovered['Date'], df_recovered['TT'],'.-', alpha=0.7, color='g', label='Recovered')\n",
    "plt.plot(df_deaths['Date'], df_deaths['TT'],'.-', alpha=0.7, color='r', label='Deceased')\n",
    "plt.legend()\n",
    "plt.title(\"Cases per day in India\")\n",
    "plt.xticks(ticks=' ')\n",
    "plt.xlabel(f'{df_cases.iloc[0][0]} to {df_cases.iloc[-1][0]}')\n",
    "plt.ylabel('No. of cases');"
   ]
  },
  {
   "cell_type": "markdown",
   "metadata": {
    "papermill": {
     "duration": 0.017064,
     "end_time": "2020-09-17T19:12:28.526640",
     "exception": false,
     "start_time": "2020-09-17T19:12:28.509576",
     "status": "completed"
    },
    "tags": []
   },
   "source": [
    "Plots for the states with highest number of cases:"
   ]
  },
  {
   "cell_type": "code",
   "execution_count": 13,
   "metadata": {
    "execution": {
     "iopub.execute_input": "2020-09-17T19:12:28.578553Z",
     "iopub.status.busy": "2020-09-17T19:12:28.577775Z",
     "iopub.status.idle": "2020-09-17T19:12:29.213950Z",
     "shell.execute_reply": "2020-09-17T19:12:29.214484Z"
    },
    "papermill": {
     "duration": 0.670651,
     "end_time": "2020-09-17T19:12:29.214652",
     "exception": false,
     "start_time": "2020-09-17T19:12:28.544001",
     "status": "completed"
    },
    "tags": []
   },
   "outputs": [
    {
     "data": {
      "image/png": "[encoded data removed]",
      "text/plain": [
       "<Figure size 1512x432 with 3 Axes>"
      ]
     },
     "metadata": {
      "needs_background": "light"
     },
     "output_type": "display_data"
    }
   ],
   "source": [
    "#hide_input\n",
    "top_3 = sorted(df_cases.sum().values[1:], reverse=True)[1:4]\n",
    "top3_states=[]\n",
    "for i in top_3:\n",
    "    top3_states.append(df_cases.sum()[df_cases.sum() == i].index)\n",
    "\n",
    "\n",
    "fig, ax = plt.subplots(1,3,figsize = (21,6))\n",
    "for i in range(3):\n",
    "    state = top3_states[i].values[0]\n",
    "    ax[i].plot(df_cases['Date'], df_cases[state],'.-', color='b', alpha=0.7)\n",
    "    ax[i].plot(df_deaths['Date'], df_deaths[state],'.-', color='r', alpha=0.7)\n",
    "    ax[i].plot(df_recovered['Date'], df_recovered[state],'.-', color='g', alpha=0.7)\n",
    "    \n",
    "    ax[i].set_title(f\"Cases in {state}\")\n",
    "    ax[i].set_xticks(ticks=' ')\n",
    "    ax[i].set_xlabel(f'{df_cases.iloc[0][0]} to {df_cases.iloc[-1][0]}')\n",
    "    ax[i].set_ylabel('No. of cases');"
   ]
  },
  {
   "cell_type": "code",
   "execution_count": null,
   "metadata": {
    "papermill": {
     "duration": 0.020605,
     "end_time": "2020-09-17T19:12:29.255025",
     "exception": false,
     "start_time": "2020-09-17T19:12:29.234420",
     "status": "completed"
    },
    "tags": []
   },
   "outputs": [],
   "source": []
  },
  {
   "cell_type": "code",
   "execution_count": null,
   "metadata": {
    "papermill": {
     "duration": 0.020456,
     "end_time": "2020-09-17T19:12:29.295786",
     "exception": false,
     "start_time": "2020-09-17T19:12:29.275330",
     "status": "completed"
    },
    "tags": []
   },
   "outputs": [],
   "source": []
  },
  {
   "cell_type": "code",
   "execution_count": null,
   "metadata": {
    "papermill": {
     "duration": 0.019866,
     "end_time": "2020-09-17T19:12:29.335558",
     "exception": false,
     "start_time": "2020-09-17T19:12:29.315692",
     "status": "completed"
    },
    "tags": []
   },
   "outputs": [],
   "source": []
  }
 ],
 "metadata": {
  "kernelspec": {
   "display_name": "Python 3",
   "language": "python",
   "name": "python3"
  },
  "language_info": {
   "codemirror_mode": {
    "name": "ipython",
    "version": 3
   },
   "file_extension": ".py",
   "mimetype": "text/x-python",
   "name": "python",
   "nbconvert_exporter": "python",
   "pygments_lexer": "ipython3",
   "version": "3.6.12"
  },
  "papermill": {
   "duration": 3.782504,
   "end_time": "2020-09-17T19:12:29.662137",
   "environment_variables": {},
   "exception": null,
   "input_path": "2020-08-09-DailyUpdate.ipynb",
   "output_path": "2020-08-09-DailyUpdate.ipynb",
   "parameters": {},
   "start_time": "2020-09-17T19:12:25.879633",
   "version": "2.1.2"
  }
 },
 "nbformat": 4,
 "nbformat_minor": 4
}