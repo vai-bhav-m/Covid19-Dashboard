{
 "cells": [
  {
   "cell_type": "markdown",
   "metadata": {
    "tags": [
     "papermill-error-cell-tag"
    ]
   },
   "source": [
    "<span style=\"color:red; font-family:Helvetica Neue, Helvetica, Arial, sans-serif; font-size:2em;\">An Exception was encountered at '<a href=\"#papermill-error-cell\">In [13]</a>'.</span>"
   ]
  },
  {
   "cell_type": "markdown",
   "metadata": {
    "papermill": {
     "duration": 0.026566,
     "end_time": "2020-10-25T19:14:36.814655",
     "exception": false,
     "start_time": "2020-10-25T19:14:36.788089",
     "status": "completed"
    },
    "tags": []
   },
   "source": [
    "# COVID-19 India Daily updates\n",
    "> Tracking coronavirus total cases, deaths and new cases in India on a daily basis\n",
    "\n",
    "- author: Vaibhav Mahapatra"
   ]
  },
  {
   "cell_type": "code",
   "execution_count": 1,
   "metadata": {
    "execution": {
     "iopub.execute_input": "2020-10-25T19:14:36.847401Z",
     "iopub.status.busy": "2020-10-25T19:14:36.846777Z",
     "iopub.status.idle": "2020-10-25T19:14:37.425808Z",
     "shell.execute_reply": "2020-10-25T19:14:37.425277Z"
    },
    "papermill": {
     "duration": 0.597333,
     "end_time": "2020-10-25T19:14:37.425965",
     "exception": false,
     "start_time": "2020-10-25T19:14:36.828632",
     "status": "completed"
    },
    "tags": []
   },
   "outputs": [],
   "source": [
    "#hide\n",
    "\n",
    "## Import essential packages below\n",
    "\n",
    "import pandas as pd\n",
    "import numpy as np\n",
    "import requests\n",
    "import json\n",
    "import matplotlib.pyplot as plt\n",
    "import matplotlib.dates as mdates\n",
    "import matplotlib as mpl\n",
    "from IPython.core.display import display,HTML\n",
    "%matplotlib inline"
   ]
  },
  {
   "cell_type": "code",
   "execution_count": 2,
   "metadata": {
    "execution": {
     "iopub.execute_input": "2020-10-25T19:14:37.455631Z",
     "iopub.status.busy": "2020-10-25T19:14:37.454762Z",
     "iopub.status.idle": "2020-10-25T19:14:37.580136Z",
     "shell.execute_reply": "2020-10-25T19:14:37.580668Z"
    },
    "papermill": {
     "duration": 0.142505,
     "end_time": "2020-10-25T19:14:37.580867",
     "exception": false,
     "start_time": "2020-10-25T19:14:37.438362",
     "status": "completed"
    },
    "tags": []
   },
   "outputs": [
    {
     "data": {
      "text/plain": [
       "(678, 42)"
      ]
     },
     "execution_count": 2,
     "metadata": {},
     "output_type": "execute_result"
    }
   ],
   "source": [
    "#hide\n",
    "url = 'https://api.covid19india.org/csv/latest/state_wise_daily.csv'\n",
    "df = pd.read_csv(url)\n",
    "df.shape"
   ]
  },
  {
   "cell_type": "code",
   "execution_count": 3,
   "metadata": {
    "execution": {
     "iopub.execute_input": "2020-10-25T19:14:37.657024Z",
     "iopub.status.busy": "2020-10-25T19:14:37.656393Z",
     "iopub.status.idle": "2020-10-25T19:14:37.666391Z",
     "shell.execute_reply": "2020-10-25T19:14:37.666861Z"
    },
    "papermill": {
     "duration": 0.074357,
     "end_time": "2020-10-25T19:14:37.667024",
     "exception": false,
     "start_time": "2020-10-25T19:14:37.592667",
     "status": "completed"
    },
    "tags": []
   },
   "outputs": [
    {
     "data": {
      "text/html": [
       "<div>\n",
       "<style scoped>\n",
       "    .dataframe tbody tr th:only-of-type {\n",
       "        vertical-align: middle;\n",
       "    }\n",
       "\n",
       "    .dataframe tbody tr th {\n",
       "        vertical-align: top;\n",
       "    }\n",
       "\n",
       "    .dataframe thead th {\n",
       "        text-align: right;\n",
       "    }\n",
       "</style>\n",
       "<table border=\"1\" class=\"dataframe\">\n",
       "  <thead>\n",
       "    <tr style=\"text-align: right;\">\n",
       "      <th></th>\n",
       "      <th>Date</th>\n",
       "      <th>Date_YMD</th>\n",
       "      <th>Status</th>\n",
       "      <th>TT</th>\n",
       "      <th>AN</th>\n",
       "      <th>AP</th>\n",
       "      <th>AR</th>\n",
       "      <th>AS</th>\n",
       "      <th>BR</th>\n",
       "      <th>CH</th>\n",
       "      <th>...</th>\n",
       "      <th>PB</th>\n",
       "      <th>RJ</th>\n",
       "      <th>SK</th>\n",
       "      <th>TN</th>\n",
       "      <th>TG</th>\n",
       "      <th>TR</th>\n",
       "      <th>UP</th>\n",
       "      <th>UT</th>\n",
       "      <th>WB</th>\n",
       "      <th>UN</th>\n",
       "    </tr>\n",
       "  </thead>\n",
       "  <tbody>\n",
       "    <tr>\n",
       "      <th>672</th>\n",
       "      <td>24-Oct-20</td>\n",
       "      <td>2020-10-18</td>\n",
       "      <td>Confirmed</td>\n",
       "      <td>50317</td>\n",
       "      <td>18</td>\n",
       "      <td>3342</td>\n",
       "      <td>66</td>\n",
       "      <td>258</td>\n",
       "      <td>1054</td>\n",
       "      <td>57</td>\n",
       "      <td>...</td>\n",
       "      <td>483</td>\n",
       "      <td>1852</td>\n",
       "      <td>0</td>\n",
       "      <td>2886</td>\n",
       "      <td>1273</td>\n",
       "      <td>65</td>\n",
       "      <td>2178</td>\n",
       "      <td>359</td>\n",
       "      <td>4148</td>\n",
       "      <td>0</td>\n",
       "    </tr>\n",
       "    <tr>\n",
       "      <th>673</th>\n",
       "      <td>24-Oct-20</td>\n",
       "      <td>2020-10-18</td>\n",
       "      <td>Recovered</td>\n",
       "      <td>62245</td>\n",
       "      <td>23</td>\n",
       "      <td>3572</td>\n",
       "      <td>168</td>\n",
       "      <td>2948</td>\n",
       "      <td>1084</td>\n",
       "      <td>78</td>\n",
       "      <td>...</td>\n",
       "      <td>521</td>\n",
       "      <td>2515</td>\n",
       "      <td>0</td>\n",
       "      <td>4024</td>\n",
       "      <td>1708</td>\n",
       "      <td>238</td>\n",
       "      <td>2741</td>\n",
       "      <td>451</td>\n",
       "      <td>3753</td>\n",
       "      <td>0</td>\n",
       "    </tr>\n",
       "    <tr>\n",
       "      <th>674</th>\n",
       "      <td>24-Oct-20</td>\n",
       "      <td>2020-10-18</td>\n",
       "      <td>Deceased</td>\n",
       "      <td>578</td>\n",
       "      <td>0</td>\n",
       "      <td>22</td>\n",
       "      <td>0</td>\n",
       "      <td>2</td>\n",
       "      <td>8</td>\n",
       "      <td>2</td>\n",
       "      <td>...</td>\n",
       "      <td>12</td>\n",
       "      <td>12</td>\n",
       "      <td>0</td>\n",
       "      <td>35</td>\n",
       "      <td>5</td>\n",
       "      <td>1</td>\n",
       "      <td>24</td>\n",
       "      <td>5</td>\n",
       "      <td>59</td>\n",
       "      <td>0</td>\n",
       "    </tr>\n",
       "    <tr>\n",
       "      <th>675</th>\n",
       "      <td>25-Oct-20</td>\n",
       "      <td>2020-10-18</td>\n",
       "      <td>Confirmed</td>\n",
       "      <td>45065</td>\n",
       "      <td>20</td>\n",
       "      <td>2997</td>\n",
       "      <td>0</td>\n",
       "      <td>204</td>\n",
       "      <td>749</td>\n",
       "      <td>0</td>\n",
       "      <td>...</td>\n",
       "      <td>0</td>\n",
       "      <td>1821</td>\n",
       "      <td>0</td>\n",
       "      <td>2869</td>\n",
       "      <td>978</td>\n",
       "      <td>86</td>\n",
       "      <td>2032</td>\n",
       "      <td>0</td>\n",
       "      <td>4127</td>\n",
       "      <td>0</td>\n",
       "    </tr>\n",
       "    <tr>\n",
       "      <th>676</th>\n",
       "      <td>25-Oct-20</td>\n",
       "      <td>2020-10-18</td>\n",
       "      <td>Recovered</td>\n",
       "      <td>58180</td>\n",
       "      <td>15</td>\n",
       "      <td>3585</td>\n",
       "      <td>0</td>\n",
       "      <td>2961</td>\n",
       "      <td>1399</td>\n",
       "      <td>0</td>\n",
       "      <td>...</td>\n",
       "      <td>0</td>\n",
       "      <td>2240</td>\n",
       "      <td>0</td>\n",
       "      <td>4019</td>\n",
       "      <td>1446</td>\n",
       "      <td>146</td>\n",
       "      <td>2368</td>\n",
       "      <td>0</td>\n",
       "      <td>3857</td>\n",
       "      <td>0</td>\n",
       "    </tr>\n",
       "    <tr>\n",
       "      <th>677</th>\n",
       "      <td>25-Oct-20</td>\n",
       "      <td>2020-10-18</td>\n",
       "      <td>Deceased</td>\n",
       "      <td>460</td>\n",
       "      <td>0</td>\n",
       "      <td>21</td>\n",
       "      <td>0</td>\n",
       "      <td>4</td>\n",
       "      <td>7</td>\n",
       "      <td>0</td>\n",
       "      <td>...</td>\n",
       "      <td>0</td>\n",
       "      <td>13</td>\n",
       "      <td>0</td>\n",
       "      <td>31</td>\n",
       "      <td>4</td>\n",
       "      <td>3</td>\n",
       "      <td>28</td>\n",
       "      <td>0</td>\n",
       "      <td>60</td>\n",
       "      <td>0</td>\n",
       "    </tr>\n",
       "  </tbody>\n",
       "</table>\n",
       "<p>6 rows × 42 columns</p>\n",
       "</div>"
      ],
      "text/plain": [
       "          Date    Date_YMD     Status     TT  AN    AP   AR    AS    BR  CH  \\\n",
       "672  24-Oct-20  2020-10-18  Confirmed  50317  18  3342   66   258  1054  57   \n",
       "673  24-Oct-20  2020-10-18  Recovered  62245  23  3572  168  2948  1084  78   \n",
       "674  24-Oct-20  2020-10-18   Deceased    578   0    22    0     2     8   2   \n",
       "675  25-Oct-20  2020-10-18  Confirmed  45065  20  2997    0   204   749   0   \n",
       "676  25-Oct-20  2020-10-18  Recovered  58180  15  3585    0  2961  1399   0   \n",
       "677  25-Oct-20  2020-10-18   Deceased    460   0    21    0     4     7   0   \n",
       "\n",
       "     ...   PB    RJ  SK    TN    TG   TR    UP   UT    WB  UN  \n",
       "672  ...  483  1852   0  2886  1273   65  2178  359  4148   0  \n",
       "673  ...  521  2515   0  4024  1708  238  2741  451  3753   0  \n",
       "674  ...   12    12   0    35     5    1    24    5    59   0  \n",
       "675  ...    0  1821   0  2869   978   86  2032    0  4127   0  \n",
       "676  ...    0  2240   0  4019  1446  146  2368    0  3857   0  \n",
       "677  ...    0    13   0    31     4    3    28    0    60   0  \n",
       "\n",
       "[6 rows x 42 columns]"
      ]
     },
     "execution_count": 3,
     "metadata": {},
     "output_type": "execute_result"
    }
   ],
   "source": [
    "#hide\n",
    "df.tail(6)"
   ]
  },
  {
   "cell_type": "code",
   "execution_count": 4,
   "metadata": {
    "execution": {
     "iopub.execute_input": "2020-10-25T19:14:37.697579Z",
     "iopub.status.busy": "2020-10-25T19:14:37.696946Z",
     "iopub.status.idle": "2020-10-25T19:14:37.700308Z",
     "shell.execute_reply": "2020-10-25T19:14:37.699825Z"
    },
    "papermill": {
     "duration": 0.021185,
     "end_time": "2020-10-25T19:14:37.700421",
     "exception": false,
     "start_time": "2020-10-25T19:14:37.679236",
     "status": "completed"
    },
    "tags": []
   },
   "outputs": [
    {
     "data": {
      "text/plain": [
       "('25-Oct-20', '24-Oct-20')"
      ]
     },
     "execution_count": 4,
     "metadata": {},
     "output_type": "execute_result"
    }
   ],
   "source": [
    "#hide\n",
    "dt_today = df.iloc[-1][0]\n",
    "dt_yday = df.iloc[-4][0]\n",
    "dt_today, dt_yday"
   ]
  },
  {
   "cell_type": "code",
   "execution_count": 5,
   "metadata": {
    "execution": {
     "iopub.execute_input": "2020-10-25T19:14:37.732922Z",
     "iopub.status.busy": "2020-10-25T19:14:37.732340Z",
     "iopub.status.idle": "2020-10-25T19:14:37.738604Z",
     "shell.execute_reply": "2020-10-25T19:14:37.739733Z"
    },
    "papermill": {
     "duration": 0.026197,
     "end_time": "2020-10-25T19:14:37.739949",
     "exception": false,
     "start_time": "2020-10-25T19:14:37.713752",
     "status": "completed"
    },
    "tags": []
   },
   "outputs": [],
   "source": [
    "#hide\n",
    "df_today = df.groupby('Status').sum()\n",
    "df_yday = df.iloc[:-3][:].groupby('Status').sum()"
   ]
  },
  {
   "cell_type": "code",
   "execution_count": 6,
   "metadata": {
    "execution": {
     "iopub.execute_input": "2020-10-25T19:14:37.783120Z",
     "iopub.status.busy": "2020-10-25T19:14:37.782543Z",
     "iopub.status.idle": "2020-10-25T19:14:37.786089Z",
     "shell.execute_reply": "2020-10-25T19:14:37.785220Z"
    },
    "papermill": {
     "duration": 0.033707,
     "end_time": "2020-10-25T19:14:37.786239",
     "exception": false,
     "start_time": "2020-10-25T19:14:37.752532",
     "status": "completed"
    },
    "tags": []
   },
   "outputs": [
    {
     "data": {
      "text/html": [
       "<div>\n",
       "<style scoped>\n",
       "    .dataframe tbody tr th:only-of-type {\n",
       "        vertical-align: middle;\n",
       "    }\n",
       "\n",
       "    .dataframe tbody tr th {\n",
       "        vertical-align: top;\n",
       "    }\n",
       "\n",
       "    .dataframe thead th {\n",
       "        text-align: right;\n",
       "    }\n",
       "</style>\n",
       "<table border=\"1\" class=\"dataframe\">\n",
       "  <thead>\n",
       "    <tr style=\"text-align: right;\">\n",
       "      <th></th>\n",
       "      <th>TT</th>\n",
       "      <th>AN</th>\n",
       "      <th>AP</th>\n",
       "      <th>AR</th>\n",
       "      <th>AS</th>\n",
       "      <th>BR</th>\n",
       "      <th>CH</th>\n",
       "      <th>CT</th>\n",
       "      <th>DN</th>\n",
       "      <th>DD</th>\n",
       "      <th>...</th>\n",
       "      <th>PB</th>\n",
       "      <th>RJ</th>\n",
       "      <th>SK</th>\n",
       "      <th>TN</th>\n",
       "      <th>TG</th>\n",
       "      <th>TR</th>\n",
       "      <th>UP</th>\n",
       "      <th>UT</th>\n",
       "      <th>WB</th>\n",
       "      <th>UN</th>\n",
       "    </tr>\n",
       "    <tr>\n",
       "      <th>Status</th>\n",
       "      <th></th>\n",
       "      <th></th>\n",
       "      <th></th>\n",
       "      <th></th>\n",
       "      <th></th>\n",
       "      <th></th>\n",
       "      <th></th>\n",
       "      <th></th>\n",
       "      <th></th>\n",
       "      <th></th>\n",
       "      <th></th>\n",
       "      <th></th>\n",
       "      <th></th>\n",
       "      <th></th>\n",
       "      <th></th>\n",
       "      <th></th>\n",
       "      <th></th>\n",
       "      <th></th>\n",
       "      <th></th>\n",
       "      <th></th>\n",
       "      <th></th>\n",
       "    </tr>\n",
       "  </thead>\n",
       "  <tbody>\n",
       "    <tr>\n",
       "      <th>Confirmed</th>\n",
       "      <td>7908417</td>\n",
       "      <td>4241</td>\n",
       "      <td>807023</td>\n",
       "      <td>14211</td>\n",
       "      <td>204069</td>\n",
       "      <td>212192</td>\n",
       "      <td>13977</td>\n",
       "      <td>175959</td>\n",
       "      <td>3223</td>\n",
       "      <td>0</td>\n",
       "      <td>...</td>\n",
       "      <td>130640</td>\n",
       "      <td>186243</td>\n",
       "      <td>3783</td>\n",
       "      <td>709005</td>\n",
       "      <td>230742</td>\n",
       "      <td>30218</td>\n",
       "      <td>470270</td>\n",
       "      <td>60155</td>\n",
       "      <td>349701</td>\n",
       "      <td>0</td>\n",
       "    </tr>\n",
       "    <tr>\n",
       "      <th>Deceased</th>\n",
       "      <td>118443</td>\n",
       "      <td>58</td>\n",
       "      <td>6587</td>\n",
       "      <td>33</td>\n",
       "      <td>910</td>\n",
       "      <td>1049</td>\n",
       "      <td>216</td>\n",
       "      <td>1818</td>\n",
       "      <td>2</td>\n",
       "      <td>0</td>\n",
       "      <td>...</td>\n",
       "      <td>4107</td>\n",
       "      <td>1839</td>\n",
       "      <td>63</td>\n",
       "      <td>10924</td>\n",
       "      <td>1307</td>\n",
       "      <td>340</td>\n",
       "      <td>6882</td>\n",
       "      <td>984</td>\n",
       "      <td>6487</td>\n",
       "      <td>0</td>\n",
       "    </tr>\n",
       "    <tr>\n",
       "      <th>Recovered</th>\n",
       "      <td>7133966</td>\n",
       "      <td>3974</td>\n",
       "      <td>769576</td>\n",
       "      <td>11781</td>\n",
       "      <td>185752</td>\n",
       "      <td>200920</td>\n",
       "      <td>13087</td>\n",
       "      <td>150398</td>\n",
       "      <td>3129</td>\n",
       "      <td>0</td>\n",
       "      <td>...</td>\n",
       "      <td>122256</td>\n",
       "      <td>167736</td>\n",
       "      <td>3384</td>\n",
       "      <td>667475</td>\n",
       "      <td>210480</td>\n",
       "      <td>27863</td>\n",
       "      <td>436071</td>\n",
       "      <td>54169</td>\n",
       "      <td>306197</td>\n",
       "      <td>0</td>\n",
       "    </tr>\n",
       "  </tbody>\n",
       "</table>\n",
       "<p>3 rows × 39 columns</p>\n",
       "</div>"
      ],
      "text/plain": [
       "                TT    AN      AP     AR      AS      BR     CH      CT    DN  \\\n",
       "Status                                                                         \n",
       "Confirmed  7908417  4241  807023  14211  204069  212192  13977  175959  3223   \n",
       "Deceased    118443    58    6587     33     910    1049    216    1818     2   \n",
       "Recovered  7133966  3974  769576  11781  185752  200920  13087  150398  3129   \n",
       "\n",
       "           DD  ...      PB      RJ    SK      TN      TG     TR      UP  \\\n",
       "Status         ...                                                        \n",
       "Confirmed   0  ...  130640  186243  3783  709005  230742  30218  470270   \n",
       "Deceased    0  ...    4107    1839    63   10924    1307    340    6882   \n",
       "Recovered   0  ...  122256  167736  3384  667475  210480  27863  436071   \n",
       "\n",
       "              UT      WB  UN  \n",
       "Status                        \n",
       "Confirmed  60155  349701   0  \n",
       "Deceased     984    6487   0  \n",
       "Recovered  54169  306197   0  \n",
       "\n",
       "[3 rows x 39 columns]"
      ]
     },
     "execution_count": 6,
     "metadata": {},
     "output_type": "execute_result"
    }
   ],
   "source": [
    "#hide\n",
    "df_today"
   ]
  },
  {
   "cell_type": "code",
   "execution_count": 7,
   "metadata": {
    "execution": {
     "iopub.execute_input": "2020-10-25T19:14:37.831068Z",
     "iopub.status.busy": "2020-10-25T19:14:37.830454Z",
     "iopub.status.idle": "2020-10-25T19:14:37.833817Z",
     "shell.execute_reply": "2020-10-25T19:14:37.833103Z"
    },
    "papermill": {
     "duration": 0.033487,
     "end_time": "2020-10-25T19:14:37.833939",
     "exception": false,
     "start_time": "2020-10-25T19:14:37.800452",
     "status": "completed"
    },
    "tags": []
   },
   "outputs": [
    {
     "data": {
      "text/html": [
       "<div>\n",
       "<style scoped>\n",
       "    .dataframe tbody tr th:only-of-type {\n",
       "        vertical-align: middle;\n",
       "    }\n",
       "\n",
       "    .dataframe tbody tr th {\n",
       "        vertical-align: top;\n",
       "    }\n",
       "\n",
       "    .dataframe thead th {\n",
       "        text-align: right;\n",
       "    }\n",
       "</style>\n",
       "<table border=\"1\" class=\"dataframe\">\n",
       "  <thead>\n",
       "    <tr style=\"text-align: right;\">\n",
       "      <th></th>\n",
       "      <th>TT</th>\n",
       "      <th>AN</th>\n",
       "      <th>AP</th>\n",
       "      <th>AR</th>\n",
       "      <th>AS</th>\n",
       "      <th>BR</th>\n",
       "      <th>CH</th>\n",
       "      <th>CT</th>\n",
       "      <th>DN</th>\n",
       "      <th>DD</th>\n",
       "      <th>...</th>\n",
       "      <th>PB</th>\n",
       "      <th>RJ</th>\n",
       "      <th>SK</th>\n",
       "      <th>TN</th>\n",
       "      <th>TG</th>\n",
       "      <th>TR</th>\n",
       "      <th>UP</th>\n",
       "      <th>UT</th>\n",
       "      <th>WB</th>\n",
       "      <th>UN</th>\n",
       "    </tr>\n",
       "    <tr>\n",
       "      <th>Status</th>\n",
       "      <th></th>\n",
       "      <th></th>\n",
       "      <th></th>\n",
       "      <th></th>\n",
       "      <th></th>\n",
       "      <th></th>\n",
       "      <th></th>\n",
       "      <th></th>\n",
       "      <th></th>\n",
       "      <th></th>\n",
       "      <th></th>\n",
       "      <th></th>\n",
       "      <th></th>\n",
       "      <th></th>\n",
       "      <th></th>\n",
       "      <th></th>\n",
       "      <th></th>\n",
       "      <th></th>\n",
       "      <th></th>\n",
       "      <th></th>\n",
       "      <th></th>\n",
       "    </tr>\n",
       "  </thead>\n",
       "  <tbody>\n",
       "    <tr>\n",
       "      <th>Confirmed</th>\n",
       "      <td>7863352</td>\n",
       "      <td>4221</td>\n",
       "      <td>804026</td>\n",
       "      <td>14211</td>\n",
       "      <td>203865</td>\n",
       "      <td>211443</td>\n",
       "      <td>13977</td>\n",
       "      <td>174591</td>\n",
       "      <td>3220</td>\n",
       "      <td>0</td>\n",
       "      <td>...</td>\n",
       "      <td>130640</td>\n",
       "      <td>184422</td>\n",
       "      <td>3783</td>\n",
       "      <td>706136</td>\n",
       "      <td>229764</td>\n",
       "      <td>30132</td>\n",
       "      <td>468238</td>\n",
       "      <td>60155</td>\n",
       "      <td>345574</td>\n",
       "      <td>0</td>\n",
       "    </tr>\n",
       "    <tr>\n",
       "      <th>Deceased</th>\n",
       "      <td>117983</td>\n",
       "      <td>58</td>\n",
       "      <td>6566</td>\n",
       "      <td>33</td>\n",
       "      <td>906</td>\n",
       "      <td>1042</td>\n",
       "      <td>216</td>\n",
       "      <td>1793</td>\n",
       "      <td>2</td>\n",
       "      <td>0</td>\n",
       "      <td>...</td>\n",
       "      <td>4107</td>\n",
       "      <td>1826</td>\n",
       "      <td>63</td>\n",
       "      <td>10893</td>\n",
       "      <td>1303</td>\n",
       "      <td>337</td>\n",
       "      <td>6854</td>\n",
       "      <td>984</td>\n",
       "      <td>6427</td>\n",
       "      <td>0</td>\n",
       "    </tr>\n",
       "    <tr>\n",
       "      <th>Recovered</th>\n",
       "      <td>7075786</td>\n",
       "      <td>3959</td>\n",
       "      <td>765991</td>\n",
       "      <td>11781</td>\n",
       "      <td>182791</td>\n",
       "      <td>199521</td>\n",
       "      <td>13087</td>\n",
       "      <td>148899</td>\n",
       "      <td>3127</td>\n",
       "      <td>0</td>\n",
       "      <td>...</td>\n",
       "      <td>122256</td>\n",
       "      <td>165496</td>\n",
       "      <td>3384</td>\n",
       "      <td>663456</td>\n",
       "      <td>209034</td>\n",
       "      <td>27717</td>\n",
       "      <td>433703</td>\n",
       "      <td>54169</td>\n",
       "      <td>302340</td>\n",
       "      <td>0</td>\n",
       "    </tr>\n",
       "  </tbody>\n",
       "</table>\n",
       "<p>3 rows × 39 columns</p>\n",
       "</div>"
      ],
      "text/plain": [
       "                TT    AN      AP     AR      AS      BR     CH      CT    DN  \\\n",
       "Status                                                                         \n",
       "Confirmed  7863352  4221  804026  14211  203865  211443  13977  174591  3220   \n",
       "Deceased    117983    58    6566     33     906    1042    216    1793     2   \n",
       "Recovered  7075786  3959  765991  11781  182791  199521  13087  148899  3127   \n",
       "\n",
       "           DD  ...      PB      RJ    SK      TN      TG     TR      UP  \\\n",
       "Status         ...                                                        \n",
       "Confirmed   0  ...  130640  184422  3783  706136  229764  30132  468238   \n",
       "Deceased    0  ...    4107    1826    63   10893    1303    337    6854   \n",
       "Recovered   0  ...  122256  165496  3384  663456  209034  27717  433703   \n",
       "\n",
       "              UT      WB  UN  \n",
       "Status                        \n",
       "Confirmed  60155  345574   0  \n",
       "Deceased     984    6427   0  \n",
       "Recovered  54169  302340   0  \n",
       "\n",
       "[3 rows x 39 columns]"
      ]
     },
     "execution_count": 7,
     "metadata": {},
     "output_type": "execute_result"
    }
   ],
   "source": [
    "#hide\n",
    "df_yday.head()"
   ]
  },
  {
   "cell_type": "code",
   "execution_count": 8,
   "metadata": {
    "execution": {
     "iopub.execute_input": "2020-10-25T19:14:37.870579Z",
     "iopub.status.busy": "2020-10-25T19:14:37.869934Z",
     "iopub.status.idle": "2020-10-25T19:14:37.872653Z",
     "shell.execute_reply": "2020-10-25T19:14:37.873172Z"
    },
    "papermill": {
     "duration": 0.025301,
     "end_time": "2020-10-25T19:14:37.873315",
     "exception": false,
     "start_time": "2020-10-25T19:14:37.848014",
     "status": "completed"
    },
    "tags": []
   },
   "outputs": [
    {
     "data": {
      "text/plain": [
       "{'updated': '25-Oct-20',\n",
       " 'since': '24-Oct-20',\n",
       " 'Cases': 7908417,\n",
       " 'Deaths': 118443,\n",
       " 'Recovered': 7133966,\n",
       " 'PCases': 7863352,\n",
       " 'PDeaths': 117983,\n",
       " 'PRecovered': 7075786,\n",
       " 'Cases (+)': 45065,\n",
       " 'Deaths (+)': 460,\n",
       " 'Recovered (+)': 58180}"
      ]
     },
     "execution_count": 8,
     "metadata": {},
     "output_type": "execute_result"
    }
   ],
   "source": [
    "#hide\n",
    "summary = {\n",
    "    'updated' : dt_today,\n",
    "    'since' : dt_yday,\n",
    "    'Cases' : df_today['TT'][0],\n",
    "    'Deaths' : df_today['TT'][1],\n",
    "    'Recovered' : df_today['TT'][2],\n",
    "    'PCases' : df_yday['TT'][0],\n",
    "    'PDeaths' : df_yday['TT'][1],\n",
    "    'PRecovered': df_yday['TT'][2],\n",
    "    'Cases (+)' : df_today['TT'][0] - df_yday['TT'][0],\n",
    "    'Deaths (+)' : df_today['TT'][1] - df_yday['TT'][1],\n",
    "    'Recovered (+)': df_today['TT'][2] - df_yday['TT'][2]\n",
    "}\n",
    "\n",
    "summary"
   ]
  },
  {
   "cell_type": "code",
   "execution_count": 9,
   "metadata": {
    "execution": {
     "iopub.execute_input": "2020-10-25T19:14:37.908167Z",
     "iopub.status.busy": "2020-10-25T19:14:37.907548Z",
     "iopub.status.idle": "2020-10-25T19:14:37.910114Z",
     "shell.execute_reply": "2020-10-25T19:14:37.909578Z"
    },
    "papermill": {
     "duration": 0.021896,
     "end_time": "2020-10-25T19:14:37.910263",
     "exception": false,
     "start_time": "2020-10-25T19:14:37.888367",
     "status": "completed"
    },
    "tags": []
   },
   "outputs": [],
   "source": [
    "#hide\n",
    "overview = '''\n",
    "<!-- #######  HTML!! #########-->\n",
    "<h1 style=\"color: #5e9ca0; text-align: center;\">India</h1>\n",
    "<p style=\"text-align: center;\">Last update: <strong>{update}</strong></p>\n",
    "<p style=\"text-align: center;\">Confirmed cases:</p>\n",
    "<p style=\"text-align: center;font-size:24px;\">{cases} (<span style=\"color: #ff0000;\">+{new}</span>)</p>\n",
    "<p style=\"text-align: center;\">Confirmed deaths:</p>\n",
    "<p style=\"text-align: center;font-size:24px;\">{deaths} (<span style=\"color: #ff0000;\">+{dnew}</span>)</p>\n",
    "<p style=\"text-align: center;\">Recovered cases:</p>\n",
    "<p style=\"text-align: center;font-size:24px;\">{recovered} (<span style=\"color: #00ff00;\">+{rnew}</span>)</p>\n",
    "'''"
   ]
  },
  {
   "cell_type": "code",
   "execution_count": 10,
   "metadata": {
    "execution": {
     "iopub.execute_input": "2020-10-25T19:14:37.947171Z",
     "iopub.status.busy": "2020-10-25T19:14:37.946519Z",
     "iopub.status.idle": "2020-10-25T19:14:37.950008Z",
     "shell.execute_reply": "2020-10-25T19:14:37.949393Z"
    },
    "papermill": {
     "duration": 0.025129,
     "end_time": "2020-10-25T19:14:37.950132",
     "exception": false,
     "start_time": "2020-10-25T19:14:37.925003",
     "status": "completed"
    },
    "tags": []
   },
   "outputs": [
    {
     "data": {
      "text/html": [
       "\n",
       "<!-- #######  HTML!! #########-->\n",
       "<h1 style=\"color: #5e9ca0; text-align: center;\">India</h1>\n",
       "<p style=\"text-align: center;\">Last update: <strong>25-Oct-20</strong></p>\n",
       "<p style=\"text-align: center;\">Confirmed cases:</p>\n",
       "<p style=\"text-align: center;font-size:24px;\">7908417 (<span style=\"color: #ff0000;\">+45065</span>)</p>\n",
       "<p style=\"text-align: center;\">Confirmed deaths:</p>\n",
       "<p style=\"text-align: center;font-size:24px;\">118443 (<span style=\"color: #ff0000;\">+460</span>)</p>\n",
       "<p style=\"text-align: center;\">Recovered cases:</p>\n",
       "<p style=\"text-align: center;font-size:24px;\">7133966 (<span style=\"color: #00ff00;\">+58180</span>)</p>\n"
      ],
      "text/plain": [
       "<IPython.core.display.HTML object>"
      ]
     },
     "metadata": {},
     "output_type": "display_data"
    }
   ],
   "source": [
    "#hide_input\n",
    "# Fill the above HTML with the information from the summary dictionary\n",
    "\n",
    "update = summary['updated']\n",
    "cases = summary['Cases']\n",
    "new = summary['Cases (+)']\n",
    "deaths = summary['Deaths']\n",
    "dnew = summary['Deaths (+)']\n",
    "recovered = summary['Recovered']\n",
    "rnew = summary['Recovered (+)']\n",
    "\n",
    "html = HTML(overview.format(update=update, cases=cases,new=new,deaths=deaths,dnew=dnew, recovered=recovered, rnew=rnew))\n",
    "\n",
    "display(html)"
   ]
  },
  {
   "cell_type": "code",
   "execution_count": 11,
   "metadata": {
    "execution": {
     "iopub.execute_input": "2020-10-25T19:14:37.988613Z",
     "iopub.status.busy": "2020-10-25T19:14:37.987623Z",
     "iopub.status.idle": "2020-10-25T19:14:37.990529Z",
     "shell.execute_reply": "2020-10-25T19:14:37.990951Z"
    },
    "papermill": {
     "duration": 0.026304,
     "end_time": "2020-10-25T19:14:37.991080",
     "exception": false,
     "start_time": "2020-10-25T19:14:37.964776",
     "status": "completed"
    },
    "tags": []
   },
   "outputs": [],
   "source": [
    "#hide\n",
    "df_cases = df[df['Status'] == 'Confirmed'].copy()\n",
    "df_cases.drop(columns = ['Status'], inplace=True)\n",
    "df_deaths = df[df['Status'] == 'Deceased'].copy()\n",
    "df_deaths.drop(columns = ['Status'], inplace=True)\n",
    "df_recovered = df[df['Status'] == 'Recovered'].copy()\n",
    "df_recovered.drop(columns = ['Status'], inplace=True)"
   ]
  },
  {
   "cell_type": "markdown",
   "metadata": {
    "papermill": {
     "duration": 0.017699,
     "end_time": "2020-10-25T19:14:38.023664",
     "exception": false,
     "start_time": "2020-10-25T19:14:38.005965",
     "status": "completed"
    },
    "tags": []
   },
   "source": [
    "Plot for India:"
   ]
  },
  {
   "cell_type": "code",
   "execution_count": 12,
   "metadata": {
    "execution": {
     "iopub.execute_input": "2020-10-25T19:14:38.076579Z",
     "iopub.status.busy": "2020-10-25T19:14:38.075996Z",
     "iopub.status.idle": "2020-10-25T19:14:38.373380Z",
     "shell.execute_reply": "2020-10-25T19:14:38.373831Z"
    },
    "papermill": {
     "duration": 0.334249,
     "end_time": "2020-10-25T19:14:38.373983",
     "exception": false,
     "start_time": "2020-10-25T19:14:38.039734",
     "status": "completed"
    },
    "tags": []
   },
   "outputs": [
    {
     "data": {
      "image/png": "[encoded data removed]",
      "text/plain": [
       "<Figure size 1296x432 with 1 Axes>"
      ]
     },
     "metadata": {
      "needs_background": "light"
     },
     "output_type": "display_data"
    }
   ],
   "source": [
    "#hide_input\n",
    "plt.figure(figsize = (18,6))\n",
    "plt.plot(df_cases['Date'], df_cases['TT'],'.-', alpha=0.7, color='b', label='Confirmed cases')\n",
    "plt.plot(df_recovered['Date'], df_recovered['TT'],'.-', alpha=0.7, color='g', label='Recovered')\n",
    "plt.plot(df_deaths['Date'], df_deaths['TT'],'.-', alpha=0.7, color='r', label='Deceased')\n",
    "plt.legend()\n",
    "plt.title(\"Cases per day in India\")\n",
    "plt.xticks(ticks=' ')\n",
    "plt.xlabel(f'{df_cases.iloc[0][0]} to {df_cases.iloc[-1][0]}')\n",
    "plt.ylabel('No. of cases');"
   ]
  },
  {
   "cell_type": "markdown",
   "metadata": {
    "papermill": {
     "duration": 0.017374,
     "end_time": "2020-10-25T19:14:38.407468",
     "exception": false,
     "start_time": "2020-10-25T19:14:38.390094",
     "status": "completed"
    },
    "tags": []
   },
   "source": [
    "Plots for the states with highest number of cases:"
   ]
  },
  {
   "cell_type": "markdown",
   "metadata": {
    "tags": [
     "papermill-error-cell-tag"
    ]
   },
   "source": [
    "<span id=\"papermill-error-cell\" style=\"color:red; font-family:Helvetica Neue, Helvetica, Arial, sans-serif; font-size:2em;\">Execution using papermill encountered an exception here and stopped:</span>"
   ]
  },
  {
   "cell_type": "code",
   "execution_count": 13,
   "metadata": {
    "execution": {
     "iopub.execute_input": "2020-10-25T19:14:38.451005Z",
     "iopub.status.busy": "2020-10-25T19:14:38.450416Z",
     "iopub.status.idle": "2020-10-25T19:14:38.557056Z",
     "shell.execute_reply": "2020-10-25T19:14:38.556433Z"
    },
    "papermill": {
     "duration": 0.131766,
     "end_time": "2020-10-25T19:14:38.557236",
     "exception": true,
     "start_time": "2020-10-25T19:14:38.425470",
     "status": "failed"
    },
    "tags": []
   },
   "outputs": [
    {
     "ename": "TypeError",
     "evalue": "'>' not supported between instances of 'numpy.ndarray' and 'str'",
     "output_type": "error",
     "traceback": [
      "\u001b[0;31m---------------------------------------------------------------------------\u001b[0m",
      "\u001b[0;31mTypeError\u001b[0m                                 Traceback (most recent call last)",
      "\u001b[0;32m<ipython-input-13-9711672c0a2c>\u001b[0m in \u001b[0;36m<module>\u001b[0;34m\u001b[0m\n\u001b[1;32m      1\u001b[0m \u001b[0;31m#hide_input\u001b[0m\u001b[0;34m\u001b[0m\u001b[0;34m\u001b[0m\u001b[0;34m\u001b[0m\u001b[0m\n\u001b[0;32m----> 2\u001b[0;31m \u001b[0mtop_3\u001b[0m \u001b[0;34m=\u001b[0m \u001b[0msorted\u001b[0m\u001b[0;34m(\u001b[0m\u001b[0mdf_cases\u001b[0m\u001b[0;34m.\u001b[0m\u001b[0msum\u001b[0m\u001b[0;34m(\u001b[0m\u001b[0;34m)\u001b[0m\u001b[0;34m.\u001b[0m\u001b[0mvalues\u001b[0m\u001b[0;34m[\u001b[0m\u001b[0;36m1\u001b[0m\u001b[0;34m:\u001b[0m\u001b[0;34m]\u001b[0m\u001b[0;34m,\u001b[0m \u001b[0mreverse\u001b[0m\u001b[0;34m=\u001b[0m\u001b[0;32mTrue\u001b[0m\u001b[0;34m)\u001b[0m\u001b[0;34m[\u001b[0m\u001b[0;36m1\u001b[0m\u001b[0;34m:\u001b[0m\u001b[0;36m4\u001b[0m\u001b[0;34m]\u001b[0m\u001b[0;34m\u001b[0m\u001b[0;34m\u001b[0m\u001b[0m\n\u001b[0m\u001b[1;32m      3\u001b[0m \u001b[0mtop3_states\u001b[0m\u001b[0;34m=\u001b[0m\u001b[0;34m[\u001b[0m\u001b[0;34m]\u001b[0m\u001b[0;34m\u001b[0m\u001b[0;34m\u001b[0m\u001b[0m\n\u001b[1;32m      4\u001b[0m \u001b[0;32mfor\u001b[0m \u001b[0mi\u001b[0m \u001b[0;32min\u001b[0m \u001b[0mtop_3\u001b[0m\u001b[0;34m:\u001b[0m\u001b[0;34m\u001b[0m\u001b[0;34m\u001b[0m\u001b[0m\n\u001b[1;32m      5\u001b[0m     \u001b[0mtop3_states\u001b[0m\u001b[0;34m.\u001b[0m\u001b[0mappend\u001b[0m\u001b[0;34m(\u001b[0m\u001b[0mdf_cases\u001b[0m\u001b[0;34m.\u001b[0m\u001b[0msum\u001b[0m\u001b[0;34m(\u001b[0m\u001b[0;34m)\u001b[0m\u001b[0;34m[\u001b[0m\u001b[0mdf_cases\u001b[0m\u001b[0;34m.\u001b[0m\u001b[0msum\u001b[0m\u001b[0;34m(\u001b[0m\u001b[0;34m)\u001b[0m \u001b[0;34m==\u001b[0m \u001b[0mi\u001b[0m\u001b[0;34m]\u001b[0m\u001b[0;34m.\u001b[0m\u001b[0mindex\u001b[0m\u001b[0;34m)\u001b[0m\u001b[0;34m\u001b[0m\u001b[0;34m\u001b[0m\u001b[0m\n",
      "\u001b[0;31mTypeError\u001b[0m: '>' not supported between instances of 'numpy.ndarray' and 'str'"
     ]
    }
   ],
   "source": [
    "#hide_input\n",
    "top_3 = sorted(df_cases.sum().values[1:], reverse=True)[1:4]\n",
    "top3_states=[]\n",
    "for i in top_3:\n",
    "    top3_states.append(df_cases.sum()[df_cases.sum() == i].index)\n",
    "\n",
    "\n",
    "fig, ax = plt.subplots(1,3,figsize = (21,6))\n",
    "for i in range(3):\n",
    "    state = top3_states[i].values[0]\n",
    "    ax[i].plot(df_cases['Date'], df_cases[state],'.-', color='b', alpha=0.7)\n",
    "    ax[i].plot(df_deaths['Date'], df_deaths[state],'.-', color='r', alpha=0.7)\n",
    "    ax[i].plot(df_recovered['Date'], df_recovered[state],'.-', color='g', alpha=0.7)\n",
    "    \n",
    "    ax[i].set_title(f\"Cases in {state}\")\n",
    "    ax[i].set_xticks(ticks=' ')\n",
    "    ax[i].set_xlabel(f'{df_cases.iloc[0][0]} to {df_cases.iloc[-1][0]}')\n",
    "    ax[i].set_ylabel('No. of cases');"
   ]
  },
  {
   "cell_type": "code",
   "execution_count": null,
   "metadata": {
    "papermill": {
     "duration": null,
     "end_time": null,
     "exception": null,
     "start_time": null,
     "status": "pending"
    },
    "tags": []
   },
   "outputs": [],
   "source": []
  },
  {
   "cell_type": "code",
   "execution_count": null,
   "metadata": {
    "papermill": {
     "duration": null,
     "end_time": null,
     "exception": null,
     "start_time": null,
     "status": "pending"
    },
    "tags": []
   },
   "outputs": [],
   "source": []
  },
  {
   "cell_type": "code",
   "execution_count": null,
   "metadata": {
    "papermill": {
     "duration": null,
     "end_time": null,
     "exception": null,
     "start_time": null,
     "status": "pending"
    },
    "tags": []
   },
   "outputs": [],
   "source": []
  }
 ],
 "metadata": {
  "kernelspec": {
   "display_name": "Python 3",
   "language": "python",
   "name": "python3"
  },
  "language_info": {
   "codemirror_mode": {
    "name": "ipython",
    "version": 3
   },
   "file_extension": ".py",
   "mimetype": "text/x-python",
   "name": "python",
   "nbconvert_exporter": "python",
   "pygments_lexer": "ipython3",
   "version": "3.6.12"
  },
  "papermill": {
   "duration": 3.253238,
   "end_time": "2020-10-25T19:14:38.963583",
   "environment_variables": {},
   "exception": true,
   "input_path": "2020-08-09-DailyUpdate.ipynb",
   "output_path": "2020-08-09-DailyUpdate.ipynb",
   "parameters": {},
   "start_time": "2020-10-25T19:14:35.710345",
   "version": "2.1.2"
  }
 },
 "nbformat": 4,
 "nbformat_minor": 4
}