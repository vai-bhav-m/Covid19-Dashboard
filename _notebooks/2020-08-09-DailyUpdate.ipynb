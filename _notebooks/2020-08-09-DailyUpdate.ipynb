{
 "cells": [
  {
   "cell_type": "markdown",
   "metadata": {
    "papermill": {
     "duration": 0.016218,
     "end_time": "2020-08-18T19:10:43.912720",
     "exception": false,
     "start_time": "2020-08-18T19:10:43.896502",
     "status": "completed"
    },
    "tags": []
   },
   "source": [
    "# COVID-19 India Daily updates\n",
    "> Tracking coronavirus total cases, deaths and new cases in India on a daily basis\n",
    "\n",
    "- author: Vaibhav Mahapatra"
   ]
  },
  {
   "cell_type": "code",
   "execution_count": 1,
   "metadata": {
    "execution": {
     "iopub.execute_input": "2020-08-18T19:10:43.943578Z",
     "iopub.status.busy": "2020-08-18T19:10:43.942882Z",
     "iopub.status.idle": "2020-08-18T19:10:44.513721Z",
     "shell.execute_reply": "2020-08-18T19:10:44.513203Z"
    },
    "papermill": {
     "duration": 0.588487,
     "end_time": "2020-08-18T19:10:44.513881",
     "exception": false,
     "start_time": "2020-08-18T19:10:43.925394",
     "status": "completed"
    },
    "tags": []
   },
   "outputs": [],
   "source": [
    "#hide\n",
    "\n",
    "## Import essential packages below\n",
    "\n",
    "import pandas as pd\n",
    "import numpy as np\n",
    "import requests\n",
    "import json\n",
    "import matplotlib.pyplot as plt\n",
    "import matplotlib.dates as mdates\n",
    "import matplotlib as mpl\n",
    "from IPython.core.display import display,HTML\n",
    "%matplotlib inline"
   ]
  },
  {
   "cell_type": "code",
   "execution_count": 2,
   "metadata": {
    "execution": {
     "iopub.execute_input": "2020-08-18T19:10:44.545859Z",
     "iopub.status.busy": "2020-08-18T19:10:44.545234Z",
     "iopub.status.idle": "2020-08-18T19:10:44.718140Z",
     "shell.execute_reply": "2020-08-18T19:10:44.718653Z"
    },
    "papermill": {
     "duration": 0.192192,
     "end_time": "2020-08-18T19:10:44.718811",
     "exception": false,
     "start_time": "2020-08-18T19:10:44.526619",
     "status": "completed"
    },
    "tags": []
   },
   "outputs": [
    {
     "data": {
      "text/plain": [
       "(474, 41)"
      ]
     },
     "execution_count": 2,
     "metadata": {},
     "output_type": "execute_result"
    }
   ],
   "source": [
    "#hide\n",
    "url = 'https://api.covid19india.org/csv/latest/state_wise_daily.csv'\n",
    "df = pd.read_csv(url)\n",
    "df.shape"
   ]
  },
  {
   "cell_type": "code",
   "execution_count": 3,
   "metadata": {
    "execution": {
     "iopub.execute_input": "2020-08-18T19:10:44.790307Z",
     "iopub.status.busy": "2020-08-18T19:10:44.780946Z",
     "iopub.status.idle": "2020-08-18T19:10:44.802762Z",
     "shell.execute_reply": "2020-08-18T19:10:44.803451Z"
    },
    "papermill": {
     "duration": 0.070368,
     "end_time": "2020-08-18T19:10:44.803625",
     "exception": false,
     "start_time": "2020-08-18T19:10:44.733257",
     "status": "completed"
    },
    "tags": []
   },
   "outputs": [
    {
     "data": {
      "text/html": [
       "<div>\n",
       "<style scoped>\n",
       "    .dataframe tbody tr th:only-of-type {\n",
       "        vertical-align: middle;\n",
       "    }\n",
       "\n",
       "    .dataframe tbody tr th {\n",
       "        vertical-align: top;\n",
       "    }\n",
       "\n",
       "    .dataframe thead th {\n",
       "        text-align: right;\n",
       "    }\n",
       "</style>\n",
       "<table border=\"1\" class=\"dataframe\">\n",
       "  <thead>\n",
       "    <tr style=\"text-align: right;\">\n",
       "      <th></th>\n",
       "      <th>Date</th>\n",
       "      <th>Status</th>\n",
       "      <th>TT</th>\n",
       "      <th>AN</th>\n",
       "      <th>AP</th>\n",
       "      <th>AR</th>\n",
       "      <th>AS</th>\n",
       "      <th>BR</th>\n",
       "      <th>CH</th>\n",
       "      <th>CT</th>\n",
       "      <th>...</th>\n",
       "      <th>PB</th>\n",
       "      <th>RJ</th>\n",
       "      <th>SK</th>\n",
       "      <th>TN</th>\n",
       "      <th>TG</th>\n",
       "      <th>TR</th>\n",
       "      <th>UP</th>\n",
       "      <th>UT</th>\n",
       "      <th>WB</th>\n",
       "      <th>UN</th>\n",
       "    </tr>\n",
       "  </thead>\n",
       "  <tbody>\n",
       "    <tr>\n",
       "      <th>468</th>\n",
       "      <td>17-Aug-20</td>\n",
       "      <td>Confirmed</td>\n",
       "      <td>54298</td>\n",
       "      <td>46</td>\n",
       "      <td>6780</td>\n",
       "      <td>40</td>\n",
       "      <td>2792</td>\n",
       "      <td>2525</td>\n",
       "      <td>114</td>\n",
       "      <td>404</td>\n",
       "      <td>...</td>\n",
       "      <td>1489</td>\n",
       "      <td>1334</td>\n",
       "      <td>20</td>\n",
       "      <td>5890</td>\n",
       "      <td>894</td>\n",
       "      <td>143</td>\n",
       "      <td>3798</td>\n",
       "      <td>318</td>\n",
       "      <td>3080</td>\n",
       "      <td>0</td>\n",
       "    </tr>\n",
       "    <tr>\n",
       "      <th>469</th>\n",
       "      <td>17-Aug-20</td>\n",
       "      <td>Recovered</td>\n",
       "      <td>58172</td>\n",
       "      <td>99</td>\n",
       "      <td>7866</td>\n",
       "      <td>85</td>\n",
       "      <td>1519</td>\n",
       "      <td>4140</td>\n",
       "      <td>46</td>\n",
       "      <td>363</td>\n",
       "      <td>...</td>\n",
       "      <td>749</td>\n",
       "      <td>1050</td>\n",
       "      <td>28</td>\n",
       "      <td>5667</td>\n",
       "      <td>2006</td>\n",
       "      <td>135</td>\n",
       "      <td>4376</td>\n",
       "      <td>385</td>\n",
       "      <td>2932</td>\n",
       "      <td>0</td>\n",
       "    </tr>\n",
       "    <tr>\n",
       "      <th>470</th>\n",
       "      <td>17-Aug-20</td>\n",
       "      <td>Deceased</td>\n",
       "      <td>880</td>\n",
       "      <td>1</td>\n",
       "      <td>82</td>\n",
       "      <td>0</td>\n",
       "      <td>8</td>\n",
       "      <td>5</td>\n",
       "      <td>1</td>\n",
       "      <td>8</td>\n",
       "      <td>...</td>\n",
       "      <td>50</td>\n",
       "      <td>11</td>\n",
       "      <td>0</td>\n",
       "      <td>120</td>\n",
       "      <td>10</td>\n",
       "      <td>4</td>\n",
       "      <td>66</td>\n",
       "      <td>6</td>\n",
       "      <td>45</td>\n",
       "      <td>0</td>\n",
       "    </tr>\n",
       "    <tr>\n",
       "      <th>471</th>\n",
       "      <td>18-Aug-20</td>\n",
       "      <td>Confirmed</td>\n",
       "      <td>64999</td>\n",
       "      <td>84</td>\n",
       "      <td>9652</td>\n",
       "      <td>134</td>\n",
       "      <td>2534</td>\n",
       "      <td>3257</td>\n",
       "      <td>89</td>\n",
       "      <td>808</td>\n",
       "      <td>...</td>\n",
       "      <td>1705</td>\n",
       "      <td>1347</td>\n",
       "      <td>20</td>\n",
       "      <td>5709</td>\n",
       "      <td>1682</td>\n",
       "      <td>205</td>\n",
       "      <td>4218</td>\n",
       "      <td>468</td>\n",
       "      <td>3175</td>\n",
       "      <td>0</td>\n",
       "    </tr>\n",
       "    <tr>\n",
       "      <th>472</th>\n",
       "      <td>18-Aug-20</td>\n",
       "      <td>Recovered</td>\n",
       "      <td>60455</td>\n",
       "      <td>96</td>\n",
       "      <td>9211</td>\n",
       "      <td>56</td>\n",
       "      <td>1560</td>\n",
       "      <td>4034</td>\n",
       "      <td>60</td>\n",
       "      <td>249</td>\n",
       "      <td>...</td>\n",
       "      <td>1582</td>\n",
       "      <td>1306</td>\n",
       "      <td>54</td>\n",
       "      <td>5850</td>\n",
       "      <td>2070</td>\n",
       "      <td>118</td>\n",
       "      <td>4799</td>\n",
       "      <td>239</td>\n",
       "      <td>2987</td>\n",
       "      <td>0</td>\n",
       "    </tr>\n",
       "    <tr>\n",
       "      <th>473</th>\n",
       "      <td>18-Aug-20</td>\n",
       "      <td>Deceased</td>\n",
       "      <td>1098</td>\n",
       "      <td>1</td>\n",
       "      <td>88</td>\n",
       "      <td>0</td>\n",
       "      <td>5</td>\n",
       "      <td>16</td>\n",
       "      <td>0</td>\n",
       "      <td>8</td>\n",
       "      <td>...</td>\n",
       "      <td>36</td>\n",
       "      <td>11</td>\n",
       "      <td>1</td>\n",
       "      <td>121</td>\n",
       "      <td>8</td>\n",
       "      <td>3</td>\n",
       "      <td>70</td>\n",
       "      <td>6</td>\n",
       "      <td>55</td>\n",
       "      <td>0</td>\n",
       "    </tr>\n",
       "  </tbody>\n",
       "</table>\n",
       "<p>6 rows × 41 columns</p>\n",
       "</div>"
      ],
      "text/plain": [
       "          Date     Status     TT  AN    AP   AR    AS    BR   CH   CT  ...  \\\n",
       "468  17-Aug-20  Confirmed  54298  46  6780   40  2792  2525  114  404  ...   \n",
       "469  17-Aug-20  Recovered  58172  99  7866   85  1519  4140   46  363  ...   \n",
       "470  17-Aug-20   Deceased    880   1    82    0     8     5    1    8  ...   \n",
       "471  18-Aug-20  Confirmed  64999  84  9652  134  2534  3257   89  808  ...   \n",
       "472  18-Aug-20  Recovered  60455  96  9211   56  1560  4034   60  249  ...   \n",
       "473  18-Aug-20   Deceased   1098   1    88    0     5    16    0    8  ...   \n",
       "\n",
       "       PB    RJ  SK    TN    TG   TR    UP   UT    WB  UN  \n",
       "468  1489  1334  20  5890   894  143  3798  318  3080   0  \n",
       "469   749  1050  28  5667  2006  135  4376  385  2932   0  \n",
       "470    50    11   0   120    10    4    66    6    45   0  \n",
       "471  1705  1347  20  5709  1682  205  4218  468  3175   0  \n",
       "472  1582  1306  54  5850  2070  118  4799  239  2987   0  \n",
       "473    36    11   1   121     8    3    70    6    55   0  \n",
       "\n",
       "[6 rows x 41 columns]"
      ]
     },
     "execution_count": 3,
     "metadata": {},
     "output_type": "execute_result"
    }
   ],
   "source": [
    "#hide\n",
    "df.tail(6)"
   ]
  },
  {
   "cell_type": "code",
   "execution_count": 4,
   "metadata": {
    "execution": {
     "iopub.execute_input": "2020-08-18T19:10:45.124899Z",
     "iopub.status.busy": "2020-08-18T19:10:45.124156Z",
     "iopub.status.idle": "2020-08-18T19:10:45.129793Z",
     "shell.execute_reply": "2020-08-18T19:10:45.129213Z"
    },
    "papermill": {
     "duration": 0.058997,
     "end_time": "2020-08-18T19:10:45.129932",
     "exception": false,
     "start_time": "2020-08-18T19:10:45.070935",
     "status": "completed"
    },
    "tags": []
   },
   "outputs": [
    {
     "data": {
      "text/plain": [
       "('18-Aug-20', '17-Aug-20')"
      ]
     },
     "execution_count": 4,
     "metadata": {},
     "output_type": "execute_result"
    }
   ],
   "source": [
    "#hide\n",
    "dt_today = df.iloc[-1][0]\n",
    "dt_yday = df.iloc[-4][0]\n",
    "dt_today, dt_yday"
   ]
  },
  {
   "cell_type": "code",
   "execution_count": 5,
   "metadata": {
    "execution": {
     "iopub.execute_input": "2020-08-18T19:10:45.226675Z",
     "iopub.status.busy": "2020-08-18T19:10:45.225136Z",
     "iopub.status.idle": "2020-08-18T19:10:45.234114Z",
     "shell.execute_reply": "2020-08-18T19:10:45.233581Z"
    },
    "papermill": {
     "duration": 0.071138,
     "end_time": "2020-08-18T19:10:45.234226",
     "exception": false,
     "start_time": "2020-08-18T19:10:45.163088",
     "status": "completed"
    },
    "tags": []
   },
   "outputs": [],
   "source": [
    "#hide\n",
    "df_today = df.groupby('Status').sum()\n",
    "df_yday = df.iloc[:-3][:].groupby('Status').sum()"
   ]
  },
  {
   "cell_type": "code",
   "execution_count": 6,
   "metadata": {
    "execution": {
     "iopub.execute_input": "2020-08-18T19:10:45.336982Z",
     "iopub.status.busy": "2020-08-18T19:10:45.336368Z",
     "iopub.status.idle": "2020-08-18T19:10:45.339328Z",
     "shell.execute_reply": "2020-08-18T19:10:45.339759Z"
    },
    "papermill": {
     "duration": 0.067366,
     "end_time": "2020-08-18T19:10:45.339886",
     "exception": false,
     "start_time": "2020-08-18T19:10:45.272520",
     "status": "completed"
    },
    "tags": []
   },
   "outputs": [
    {
     "data": {
      "text/html": [
       "<div>\n",
       "<style scoped>\n",
       "    .dataframe tbody tr th:only-of-type {\n",
       "        vertical-align: middle;\n",
       "    }\n",
       "\n",
       "    .dataframe tbody tr th {\n",
       "        vertical-align: top;\n",
       "    }\n",
       "\n",
       "    .dataframe thead th {\n",
       "        text-align: right;\n",
       "    }\n",
       "</style>\n",
       "<table border=\"1\" class=\"dataframe\">\n",
       "  <thead>\n",
       "    <tr style=\"text-align: right;\">\n",
       "      <th></th>\n",
       "      <th>TT</th>\n",
       "      <th>AN</th>\n",
       "      <th>AP</th>\n",
       "      <th>AR</th>\n",
       "      <th>AS</th>\n",
       "      <th>BR</th>\n",
       "      <th>CH</th>\n",
       "      <th>CT</th>\n",
       "      <th>DN</th>\n",
       "      <th>DD</th>\n",
       "      <th>...</th>\n",
       "      <th>PB</th>\n",
       "      <th>RJ</th>\n",
       "      <th>SK</th>\n",
       "      <th>TN</th>\n",
       "      <th>TG</th>\n",
       "      <th>TR</th>\n",
       "      <th>UP</th>\n",
       "      <th>UT</th>\n",
       "      <th>WB</th>\n",
       "      <th>UN</th>\n",
       "    </tr>\n",
       "    <tr>\n",
       "      <th>Status</th>\n",
       "      <th></th>\n",
       "      <th></th>\n",
       "      <th></th>\n",
       "      <th></th>\n",
       "      <th></th>\n",
       "      <th></th>\n",
       "      <th></th>\n",
       "      <th></th>\n",
       "      <th></th>\n",
       "      <th></th>\n",
       "      <th></th>\n",
       "      <th></th>\n",
       "      <th></th>\n",
       "      <th></th>\n",
       "      <th></th>\n",
       "      <th></th>\n",
       "      <th></th>\n",
       "      <th></th>\n",
       "      <th></th>\n",
       "      <th></th>\n",
       "      <th></th>\n",
       "    </tr>\n",
       "  </thead>\n",
       "  <tbody>\n",
       "    <tr>\n",
       "      <th>Confirmed</th>\n",
       "      <td>2766509</td>\n",
       "      <td>2525</td>\n",
       "      <td>306261</td>\n",
       "      <td>2875</td>\n",
       "      <td>82100</td>\n",
       "      <td>109875</td>\n",
       "      <td>2305</td>\n",
       "      <td>16833</td>\n",
       "      <td>1961</td>\n",
       "      <td>0</td>\n",
       "      <td>...</td>\n",
       "      <td>34400</td>\n",
       "      <td>63977</td>\n",
       "      <td>1220</td>\n",
       "      <td>349654</td>\n",
       "      <td>93937</td>\n",
       "      <td>7424</td>\n",
       "      <td>162434</td>\n",
       "      <td>12961</td>\n",
       "      <td>122753</td>\n",
       "      <td>0</td>\n",
       "    </tr>\n",
       "    <tr>\n",
       "      <th>Deceased</th>\n",
       "      <td>53034</td>\n",
       "      <td>30</td>\n",
       "      <td>2820</td>\n",
       "      <td>5</td>\n",
       "      <td>206</td>\n",
       "      <td>558</td>\n",
       "      <td>30</td>\n",
       "      <td>158</td>\n",
       "      <td>2</td>\n",
       "      <td>0</td>\n",
       "      <td>...</td>\n",
       "      <td>898</td>\n",
       "      <td>898</td>\n",
       "      <td>2</td>\n",
       "      <td>6007</td>\n",
       "      <td>711</td>\n",
       "      <td>62</td>\n",
       "      <td>2585</td>\n",
       "      <td>164</td>\n",
       "      <td>2528</td>\n",
       "      <td>0</td>\n",
       "    </tr>\n",
       "    <tr>\n",
       "      <th>Recovered</th>\n",
       "      <td>2036696</td>\n",
       "      <td>1412</td>\n",
       "      <td>218311</td>\n",
       "      <td>1949</td>\n",
       "      <td>58295</td>\n",
       "      <td>80740</td>\n",
       "      <td>1243</td>\n",
       "      <td>10847</td>\n",
       "      <td>1519</td>\n",
       "      <td>0</td>\n",
       "      <td>...</td>\n",
       "      <td>21762</td>\n",
       "      <td>48960</td>\n",
       "      <td>756</td>\n",
       "      <td>289787</td>\n",
       "      <td>72202</td>\n",
       "      <td>5404</td>\n",
       "      <td>109607</td>\n",
       "      <td>8724</td>\n",
       "      <td>92690</td>\n",
       "      <td>0</td>\n",
       "    </tr>\n",
       "  </tbody>\n",
       "</table>\n",
       "<p>3 rows × 39 columns</p>\n",
       "</div>"
      ],
      "text/plain": [
       "                TT    AN      AP    AR     AS      BR    CH     CT    DN  DD  \\\n",
       "Status                                                                         \n",
       "Confirmed  2766509  2525  306261  2875  82100  109875  2305  16833  1961   0   \n",
       "Deceased     53034    30    2820     5    206     558    30    158     2   0   \n",
       "Recovered  2036696  1412  218311  1949  58295   80740  1243  10847  1519   0   \n",
       "\n",
       "           ...     PB     RJ    SK      TN     TG    TR      UP     UT  \\\n",
       "Status     ...                                                           \n",
       "Confirmed  ...  34400  63977  1220  349654  93937  7424  162434  12961   \n",
       "Deceased   ...    898    898     2    6007    711    62    2585    164   \n",
       "Recovered  ...  21762  48960   756  289787  72202  5404  109607   8724   \n",
       "\n",
       "               WB  UN  \n",
       "Status                 \n",
       "Confirmed  122753   0  \n",
       "Deceased     2528   0  \n",
       "Recovered   92690   0  \n",
       "\n",
       "[3 rows x 39 columns]"
      ]
     },
     "execution_count": 6,
     "metadata": {},
     "output_type": "execute_result"
    }
   ],
   "source": [
    "#hide\n",
    "df_today"
   ]
  },
  {
   "cell_type": "code",
   "execution_count": 7,
   "metadata": {
    "execution": {
     "iopub.execute_input": "2020-08-18T19:10:45.429345Z",
     "iopub.status.busy": "2020-08-18T19:10:45.428734Z",
     "iopub.status.idle": "2020-08-18T19:10:45.433543Z",
     "shell.execute_reply": "2020-08-18T19:10:45.432581Z"
    },
    "papermill": {
     "duration": 0.067167,
     "end_time": "2020-08-18T19:10:45.433655",
     "exception": false,
     "start_time": "2020-08-18T19:10:45.366488",
     "status": "completed"
    },
    "tags": []
   },
   "outputs": [
    {
     "data": {
      "text/html": [
       "<div>\n",
       "<style scoped>\n",
       "    .dataframe tbody tr th:only-of-type {\n",
       "        vertical-align: middle;\n",
       "    }\n",
       "\n",
       "    .dataframe tbody tr th {\n",
       "        vertical-align: top;\n",
       "    }\n",
       "\n",
       "    .dataframe thead th {\n",
       "        text-align: right;\n",
       "    }\n",
       "</style>\n",
       "<table border=\"1\" class=\"dataframe\">\n",
       "  <thead>\n",
       "    <tr style=\"text-align: right;\">\n",
       "      <th></th>\n",
       "      <th>TT</th>\n",
       "      <th>AN</th>\n",
       "      <th>AP</th>\n",
       "      <th>AR</th>\n",
       "      <th>AS</th>\n",
       "      <th>BR</th>\n",
       "      <th>CH</th>\n",
       "      <th>CT</th>\n",
       "      <th>DN</th>\n",
       "      <th>DD</th>\n",
       "      <th>...</th>\n",
       "      <th>PB</th>\n",
       "      <th>RJ</th>\n",
       "      <th>SK</th>\n",
       "      <th>TN</th>\n",
       "      <th>TG</th>\n",
       "      <th>TR</th>\n",
       "      <th>UP</th>\n",
       "      <th>UT</th>\n",
       "      <th>WB</th>\n",
       "      <th>UN</th>\n",
       "    </tr>\n",
       "    <tr>\n",
       "      <th>Status</th>\n",
       "      <th></th>\n",
       "      <th></th>\n",
       "      <th></th>\n",
       "      <th></th>\n",
       "      <th></th>\n",
       "      <th></th>\n",
       "      <th></th>\n",
       "      <th></th>\n",
       "      <th></th>\n",
       "      <th></th>\n",
       "      <th></th>\n",
       "      <th></th>\n",
       "      <th></th>\n",
       "      <th></th>\n",
       "      <th></th>\n",
       "      <th></th>\n",
       "      <th></th>\n",
       "      <th></th>\n",
       "      <th></th>\n",
       "      <th></th>\n",
       "      <th></th>\n",
       "    </tr>\n",
       "  </thead>\n",
       "  <tbody>\n",
       "    <tr>\n",
       "      <th>Confirmed</th>\n",
       "      <td>2701510</td>\n",
       "      <td>2441</td>\n",
       "      <td>296609</td>\n",
       "      <td>2741</td>\n",
       "      <td>79566</td>\n",
       "      <td>106618</td>\n",
       "      <td>2216</td>\n",
       "      <td>16025</td>\n",
       "      <td>1910</td>\n",
       "      <td>0</td>\n",
       "      <td>...</td>\n",
       "      <td>32695</td>\n",
       "      <td>62630</td>\n",
       "      <td>1200</td>\n",
       "      <td>343945</td>\n",
       "      <td>92255</td>\n",
       "      <td>7219</td>\n",
       "      <td>158216</td>\n",
       "      <td>12493</td>\n",
       "      <td>119578</td>\n",
       "      <td>0</td>\n",
       "    </tr>\n",
       "    <tr>\n",
       "      <th>Deceased</th>\n",
       "      <td>51936</td>\n",
       "      <td>29</td>\n",
       "      <td>2732</td>\n",
       "      <td>5</td>\n",
       "      <td>201</td>\n",
       "      <td>542</td>\n",
       "      <td>30</td>\n",
       "      <td>150</td>\n",
       "      <td>2</td>\n",
       "      <td>0</td>\n",
       "      <td>...</td>\n",
       "      <td>862</td>\n",
       "      <td>887</td>\n",
       "      <td>1</td>\n",
       "      <td>5886</td>\n",
       "      <td>703</td>\n",
       "      <td>59</td>\n",
       "      <td>2515</td>\n",
       "      <td>158</td>\n",
       "      <td>2473</td>\n",
       "      <td>0</td>\n",
       "    </tr>\n",
       "    <tr>\n",
       "      <th>Recovered</th>\n",
       "      <td>1976241</td>\n",
       "      <td>1316</td>\n",
       "      <td>209100</td>\n",
       "      <td>1893</td>\n",
       "      <td>56735</td>\n",
       "      <td>76706</td>\n",
       "      <td>1183</td>\n",
       "      <td>10598</td>\n",
       "      <td>1480</td>\n",
       "      <td>0</td>\n",
       "      <td>...</td>\n",
       "      <td>20180</td>\n",
       "      <td>47654</td>\n",
       "      <td>702</td>\n",
       "      <td>283937</td>\n",
       "      <td>70132</td>\n",
       "      <td>5286</td>\n",
       "      <td>104808</td>\n",
       "      <td>8485</td>\n",
       "      <td>89703</td>\n",
       "      <td>0</td>\n",
       "    </tr>\n",
       "  </tbody>\n",
       "</table>\n",
       "<p>3 rows × 39 columns</p>\n",
       "</div>"
      ],
      "text/plain": [
       "                TT    AN      AP    AR     AS      BR    CH     CT    DN  DD  \\\n",
       "Status                                                                         \n",
       "Confirmed  2701510  2441  296609  2741  79566  106618  2216  16025  1910   0   \n",
       "Deceased     51936    29    2732     5    201     542    30    150     2   0   \n",
       "Recovered  1976241  1316  209100  1893  56735   76706  1183  10598  1480   0   \n",
       "\n",
       "           ...     PB     RJ    SK      TN     TG    TR      UP     UT  \\\n",
       "Status     ...                                                           \n",
       "Confirmed  ...  32695  62630  1200  343945  92255  7219  158216  12493   \n",
       "Deceased   ...    862    887     1    5886    703    59    2515    158   \n",
       "Recovered  ...  20180  47654   702  283937  70132  5286  104808   8485   \n",
       "\n",
       "               WB  UN  \n",
       "Status                 \n",
       "Confirmed  119578   0  \n",
       "Deceased     2473   0  \n",
       "Recovered   89703   0  \n",
       "\n",
       "[3 rows x 39 columns]"
      ]
     },
     "execution_count": 7,
     "metadata": {},
     "output_type": "execute_result"
    }
   ],
   "source": [
    "#hide\n",
    "df_yday.head()"
   ]
  },
  {
   "cell_type": "code",
   "execution_count": 8,
   "metadata": {
    "execution": {
     "iopub.execute_input": "2020-08-18T19:10:45.533029Z",
     "iopub.status.busy": "2020-08-18T19:10:45.530512Z",
     "iopub.status.idle": "2020-08-18T19:10:45.535000Z",
     "shell.execute_reply": "2020-08-18T19:10:45.534464Z"
    },
    "papermill": {
     "duration": 0.057696,
     "end_time": "2020-08-18T19:10:45.535119",
     "exception": false,
     "start_time": "2020-08-18T19:10:45.477423",
     "status": "completed"
    },
    "tags": []
   },
   "outputs": [
    {
     "data": {
      "text/plain": [
       "{'updated': '18-Aug-20',\n",
       " 'since': '17-Aug-20',\n",
       " 'Cases': 2766509,\n",
       " 'Deaths': 53034,\n",
       " 'Recovered': 2036696,\n",
       " 'PCases': 2701510,\n",
       " 'PDeaths': 51936,\n",
       " 'PRecovered': 1976241,\n",
       " 'Cases (+)': 64999,\n",
       " 'Deaths (+)': 1098,\n",
       " 'Recovered (+)': 60455}"
      ]
     },
     "execution_count": 8,
     "metadata": {},
     "output_type": "execute_result"
    }
   ],
   "source": [
    "#hide\n",
    "summary = {\n",
    "    'updated' : dt_today,\n",
    "    'since' : dt_yday,\n",
    "    'Cases' : df_today['TT'][0],\n",
    "    'Deaths' : df_today['TT'][1],\n",
    "    'Recovered' : df_today['TT'][2],\n",
    "    'PCases' : df_yday['TT'][0],\n",
    "    'PDeaths' : df_yday['TT'][1],\n",
    "    'PRecovered': df_yday['TT'][2],\n",
    "    'Cases (+)' : df_today['TT'][0] - df_yday['TT'][0],\n",
    "    'Deaths (+)' : df_today['TT'][1] - df_yday['TT'][1],\n",
    "    'Recovered (+)': df_today['TT'][2] - df_yday['TT'][2]\n",
    "}\n",
    "\n",
    "summary"
   ]
  },
  {
   "cell_type": "code",
   "execution_count": 9,
   "metadata": {
    "execution": {
     "iopub.execute_input": "2020-08-18T19:10:45.666322Z",
     "iopub.status.busy": "2020-08-18T19:10:45.665749Z",
     "iopub.status.idle": "2020-08-18T19:10:45.669896Z",
     "shell.execute_reply": "2020-08-18T19:10:45.669400Z"
    },
    "papermill": {
     "duration": 0.100578,
     "end_time": "2020-08-18T19:10:45.670024",
     "exception": false,
     "start_time": "2020-08-18T19:10:45.569446",
     "status": "completed"
    },
    "tags": []
   },
   "outputs": [],
   "source": [
    "#hide\n",
    "overview = '''\n",
    "<!-- #######  HTML!! #########-->\n",
    "<h1 style=\"color: #5e9ca0; text-align: center;\">India</h1>\n",
    "<p style=\"text-align: center;\">Last update: <strong>{update}</strong></p>\n",
    "<p style=\"text-align: center;\">Confirmed cases:</p>\n",
    "<p style=\"text-align: center;font-size:24px;\">{cases} (<span style=\"color: #ff0000;\">+{new}</span>)</p>\n",
    "<p style=\"text-align: center;\">Confirmed deaths:</p>\n",
    "<p style=\"text-align: center;font-size:24px;\">{deaths} (<span style=\"color: #ff0000;\">+{dnew}</span>)</p>\n",
    "<p style=\"text-align: center;\">Recovered cases:</p>\n",
    "<p style=\"text-align: center;font-size:24px;\">{recovered} (<span style=\"color: #00ff00;\">+{rnew}</span>)</p>\n",
    "'''"
   ]
  },
  {
   "cell_type": "code",
   "execution_count": 10,
   "metadata": {
    "execution": {
     "iopub.execute_input": "2020-08-18T19:10:45.707848Z",
     "iopub.status.busy": "2020-08-18T19:10:45.707278Z",
     "iopub.status.idle": "2020-08-18T19:10:45.711096Z",
     "shell.execute_reply": "2020-08-18T19:10:45.710450Z"
    },
    "papermill": {
     "duration": 0.024797,
     "end_time": "2020-08-18T19:10:45.711213",
     "exception": false,
     "start_time": "2020-08-18T19:10:45.686416",
     "status": "completed"
    },
    "tags": []
   },
   "outputs": [
    {
     "data": {
      "text/html": [
       "\n",
       "<!-- #######  HTML!! #########-->\n",
       "<h1 style=\"color: #5e9ca0; text-align: center;\">India</h1>\n",
       "<p style=\"text-align: center;\">Last update: <strong>18-Aug-20</strong></p>\n",
       "<p style=\"text-align: center;\">Confirmed cases:</p>\n",
       "<p style=\"text-align: center;font-size:24px;\">2766509 (<span style=\"color: #ff0000;\">+64999</span>)</p>\n",
       "<p style=\"text-align: center;\">Confirmed deaths:</p>\n",
       "<p style=\"text-align: center;font-size:24px;\">53034 (<span style=\"color: #ff0000;\">+1098</span>)</p>\n",
       "<p style=\"text-align: center;\">Recovered cases:</p>\n",
       "<p style=\"text-align: center;font-size:24px;\">2036696 (<span style=\"color: #00ff00;\">+60455</span>)</p>\n"
      ],
      "text/plain": [
       "<IPython.core.display.HTML object>"
      ]
     },
     "metadata": {},
     "output_type": "display_data"
    }
   ],
   "source": [
    "#hide_input\n",
    "# Fill the above HTML with the information from the summary dictionary\n",
    "\n",
    "update = summary['updated']\n",
    "cases = summary['Cases']\n",
    "new = summary['Cases (+)']\n",
    "deaths = summary['Deaths']\n",
    "dnew = summary['Deaths (+)']\n",
    "recovered = summary['Recovered']\n",
    "rnew = summary['Recovered (+)']\n",
    "\n",
    "html = HTML(overview.format(update=update, cases=cases,new=new,deaths=deaths,dnew=dnew, recovered=recovered, rnew=rnew))\n",
    "\n",
    "display(html)"
   ]
  },
  {
   "cell_type": "code",
   "execution_count": 11,
   "metadata": {
    "execution": {
     "iopub.execute_input": "2020-08-18T19:10:45.753954Z",
     "iopub.status.busy": "2020-08-18T19:10:45.753242Z",
     "iopub.status.idle": "2020-08-18T19:10:45.755960Z",
     "shell.execute_reply": "2020-08-18T19:10:45.755353Z"
    },
    "papermill": {
     "duration": 0.029134,
     "end_time": "2020-08-18T19:10:45.756093",
     "exception": false,
     "start_time": "2020-08-18T19:10:45.726959",
     "status": "completed"
    },
    "tags": []
   },
   "outputs": [],
   "source": [
    "#hide\n",
    "df_cases = df[df['Status'] == 'Confirmed'].copy()\n",
    "df_cases.drop(columns = ['Status'], inplace=True)\n",
    "df_deaths = df[df['Status'] == 'Deceased'].copy()\n",
    "df_deaths.drop(columns = ['Status'], inplace=True)\n",
    "df_recovered = df[df['Status'] == 'Recovered'].copy()\n",
    "df_recovered.drop(columns = ['Status'], inplace=True)"
   ]
  },
  {
   "cell_type": "markdown",
   "metadata": {
    "papermill": {
     "duration": 0.014984,
     "end_time": "2020-08-18T19:10:45.786183",
     "exception": false,
     "start_time": "2020-08-18T19:10:45.771199",
     "status": "completed"
    },
    "tags": []
   },
   "source": [
    "Plot for India:"
   ]
  },
  {
   "cell_type": "code",
   "execution_count": 12,
   "metadata": {
    "execution": {
     "iopub.execute_input": "2020-08-18T19:10:45.836244Z",
     "iopub.status.busy": "2020-08-18T19:10:45.835585Z",
     "iopub.status.idle": "2020-08-18T19:10:46.123972Z",
     "shell.execute_reply": "2020-08-18T19:10:46.124443Z"
    },
    "papermill": {
     "duration": 0.322686,
     "end_time": "2020-08-18T19:10:46.124611",
     "exception": false,
     "start_time": "2020-08-18T19:10:45.801925",
     "status": "completed"
    },
    "tags": []
   },
   "outputs": [
    {
     "data": {
      "image/png": "[encoded data removed]",
      "text/plain": [
       "<Figure size 1296x432 with 1 Axes>"
      ]
     },
     "metadata": {
      "needs_background": "light"
     },
     "output_type": "display_data"
    }
   ],
   "source": [
    "#hide_input\n",
    "plt.figure(figsize = (18,6))\n",
    "plt.plot(df_cases['Date'], df_cases['TT'],'.-', alpha=0.7, color='b', label='Confirmed cases')\n",
    "plt.plot(df_recovered['Date'], df_recovered['TT'],'.-', alpha=0.7, color='g', label='Recovered')\n",
    "plt.plot(df_deaths['Date'], df_deaths['TT'],'.-', alpha=0.7, color='r', label='Deceased')\n",
    "plt.legend()\n",
    "plt.title(\"Cases per day in India\")\n",
    "plt.xticks(ticks=' ')\n",
    "plt.xlabel(f'{df_cases.iloc[0][0]} to {df_cases.iloc[-1][0]}')\n",
    "plt.ylabel('No. of cases');"
   ]
  },
  {
   "cell_type": "markdown",
   "metadata": {
    "papermill": {
     "duration": 0.017149,
     "end_time": "2020-08-18T19:10:46.159235",
     "exception": false,
     "start_time": "2020-08-18T19:10:46.142086",
     "status": "completed"
    },
    "tags": []
   },
   "source": [
    "Plots for the states with highest number of cases:"
   ]
  },
  {
   "cell_type": "code",
   "execution_count": 13,
   "metadata": {
    "execution": {
     "iopub.execute_input": "2020-08-18T19:10:46.202246Z",
     "iopub.status.busy": "2020-08-18T19:10:46.201547Z",
     "iopub.status.idle": "2020-08-18T19:10:46.818515Z",
     "shell.execute_reply": "2020-08-18T19:10:46.819557Z"
    },
    "papermill": {
     "duration": 0.643456,
     "end_time": "2020-08-18T19:10:46.819723",
     "exception": false,
     "start_time": "2020-08-18T19:10:46.176267",
     "status": "completed"
    },
    "tags": []
   },
   "outputs": [
    {
     "data": {
      "image/png": "[encoded data removed]",
      "text/plain": [
       "<Figure size 1512x432 with 3 Axes>"
      ]
     },
     "metadata": {
      "needs_background": "light"
     },
     "output_type": "display_data"
    }
   ],
   "source": [
    "#hide_input\n",
    "top_3 = sorted(df_cases.sum().values[1:], reverse=True)[1:4]\n",
    "top3_states=[]\n",
    "for i in top_3:\n",
    "    top3_states.append(df_cases.sum()[df_cases.sum() == i].index)\n",
    "\n",
    "\n",
    "fig, ax = plt.subplots(1,3,figsize = (21,6))\n",
    "for i in range(3):\n",
    "    state = top3_states[i].values[0]\n",
    "    ax[i].plot(df_cases['Date'], df_cases[state],'.-', color='b', alpha=0.7)\n",
    "    ax[i].plot(df_deaths['Date'], df_deaths[state],'.-', color='r', alpha=0.7)\n",
    "    ax[i].plot(df_recovered['Date'], df_recovered[state],'.-', color='g', alpha=0.7)\n",
    "    \n",
    "    ax[i].set_title(f\"Cases in {state}\")\n",
    "    ax[i].set_xticks(ticks=' ')\n",
    "    ax[i].set_xlabel(f'{df_cases.iloc[0][0]} to {df_cases.iloc[-1][0]}')\n",
    "    ax[i].set_ylabel('No. of cases');"
   ]
  },
  {
   "cell_type": "code",
   "execution_count": null,
   "metadata": {
    "papermill": {
     "duration": 0.019179,
     "end_time": "2020-08-18T19:10:46.858705",
     "exception": false,
     "start_time": "2020-08-18T19:10:46.839526",
     "status": "completed"
    },
    "tags": []
   },
   "outputs": [],
   "source": []
  },
  {
   "cell_type": "code",
   "execution_count": null,
   "metadata": {
    "papermill": {
     "duration": 0.023923,
     "end_time": "2020-08-18T19:10:46.903173",
     "exception": false,
     "start_time": "2020-08-18T19:10:46.879250",
     "status": "completed"
    },
    "tags": []
   },
   "outputs": [],
   "source": []
  },
  {
   "cell_type": "code",
   "execution_count": null,
   "metadata": {
    "papermill": {
     "duration": 0.018623,
     "end_time": "2020-08-18T19:10:46.939777",
     "exception": false,
     "start_time": "2020-08-18T19:10:46.921154",
     "status": "completed"
    },
    "tags": []
   },
   "outputs": [],
   "source": []
  }
 ],
 "metadata": {
  "kernelspec": {
   "display_name": "Python 3",
   "language": "python",
   "name": "python3"
  },
  "language_info": {
   "codemirror_mode": {
    "name": "ipython",
    "version": 3
   },
   "file_extension": ".py",
   "mimetype": "text/x-python",
   "name": "python",
   "nbconvert_exporter": "python",
   "pygments_lexer": "ipython3",
   "version": "3.6.11"
  },
  "papermill": {
   "duration": 5.317087,
   "end_time": "2020-08-18T19:10:48.156872",
   "environment_variables": {},
   "exception": null,
   "input_path": "2020-08-09-DailyUpdate.ipynb",
   "output_path": "2020-08-09-DailyUpdate.ipynb",
   "parameters": {},
   "start_time": "2020-08-18T19:10:42.839785",
   "version": "2.1.2"
  }
 },
 "nbformat": 4,
 "nbformat_minor": 4
}