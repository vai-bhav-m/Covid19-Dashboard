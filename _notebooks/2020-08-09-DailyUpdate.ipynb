{
 "cells": [
  {
   "cell_type": "markdown",
   "metadata": {
    "papermill": {
     "duration": 0.016954,
     "end_time": "2020-10-02T19:12:53.461027",
     "exception": false,
     "start_time": "2020-10-02T19:12:53.444073",
     "status": "completed"
    },
    "tags": []
   },
   "source": [
    "# COVID-19 India Daily updates\n",
    "> Tracking coronavirus total cases, deaths and new cases in India on a daily basis\n",
    "\n",
    "- author: Vaibhav Mahapatra"
   ]
  },
  {
   "cell_type": "code",
   "execution_count": 1,
   "metadata": {
    "execution": {
     "iopub.execute_input": "2020-10-02T19:12:53.494871Z",
     "iopub.status.busy": "2020-10-02T19:12:53.494195Z",
     "iopub.status.idle": "2020-10-02T19:12:54.072373Z",
     "shell.execute_reply": "2020-10-02T19:12:54.071699Z"
    },
    "papermill": {
     "duration": 0.59794,
     "end_time": "2020-10-02T19:12:54.072560",
     "exception": false,
     "start_time": "2020-10-02T19:12:53.474620",
     "status": "completed"
    },
    "tags": []
   },
   "outputs": [],
   "source": [
    "#hide\n",
    "\n",
    "## Import essential packages below\n",
    "\n",
    "import pandas as pd\n",
    "import numpy as np\n",
    "import requests\n",
    "import json\n",
    "import matplotlib.pyplot as plt\n",
    "import matplotlib.dates as mdates\n",
    "import matplotlib as mpl\n",
    "from IPython.core.display import display,HTML\n",
    "%matplotlib inline"
   ]
  },
  {
   "cell_type": "code",
   "execution_count": 2,
   "metadata": {
    "execution": {
     "iopub.execute_input": "2020-10-02T19:12:54.104525Z",
     "iopub.status.busy": "2020-10-02T19:12:54.103914Z",
     "iopub.status.idle": "2020-10-02T19:12:54.286323Z",
     "shell.execute_reply": "2020-10-02T19:12:54.286861Z"
    },
    "papermill": {
     "duration": 0.201749,
     "end_time": "2020-10-02T19:12:54.287023",
     "exception": false,
     "start_time": "2020-10-02T19:12:54.085274",
     "status": "completed"
    },
    "tags": []
   },
   "outputs": [
    {
     "data": {
      "text/plain": [
       "(609, 41)"
      ]
     },
     "execution_count": 2,
     "metadata": {},
     "output_type": "execute_result"
    }
   ],
   "source": [
    "#hide\n",
    "url = 'https://api.covid19india.org/csv/latest/state_wise_daily.csv'\n",
    "df = pd.read_csv(url)\n",
    "df.shape"
   ]
  },
  {
   "cell_type": "code",
   "execution_count": 3,
   "metadata": {
    "execution": {
     "iopub.execute_input": "2020-10-02T19:12:54.366628Z",
     "iopub.status.busy": "2020-10-02T19:12:54.358722Z",
     "iopub.status.idle": "2020-10-02T19:12:54.369368Z",
     "shell.execute_reply": "2020-10-02T19:12:54.369903Z"
    },
    "papermill": {
     "duration": 0.070523,
     "end_time": "2020-10-02T19:12:54.370071",
     "exception": false,
     "start_time": "2020-10-02T19:12:54.299548",
     "status": "completed"
    },
    "tags": []
   },
   "outputs": [
    {
     "data": {
      "text/html": [
       "<div>\n",
       "<style scoped>\n",
       "    .dataframe tbody tr th:only-of-type {\n",
       "        vertical-align: middle;\n",
       "    }\n",
       "\n",
       "    .dataframe tbody tr th {\n",
       "        vertical-align: top;\n",
       "    }\n",
       "\n",
       "    .dataframe thead th {\n",
       "        text-align: right;\n",
       "    }\n",
       "</style>\n",
       "<table border=\"1\" class=\"dataframe\">\n",
       "  <thead>\n",
       "    <tr style=\"text-align: right;\">\n",
       "      <th></th>\n",
       "      <th>Date</th>\n",
       "      <th>Status</th>\n",
       "      <th>TT</th>\n",
       "      <th>AN</th>\n",
       "      <th>AP</th>\n",
       "      <th>AR</th>\n",
       "      <th>AS</th>\n",
       "      <th>BR</th>\n",
       "      <th>CH</th>\n",
       "      <th>CT</th>\n",
       "      <th>...</th>\n",
       "      <th>PB</th>\n",
       "      <th>RJ</th>\n",
       "      <th>SK</th>\n",
       "      <th>TN</th>\n",
       "      <th>TG</th>\n",
       "      <th>TR</th>\n",
       "      <th>UP</th>\n",
       "      <th>UT</th>\n",
       "      <th>WB</th>\n",
       "      <th>UN</th>\n",
       "    </tr>\n",
       "  </thead>\n",
       "  <tbody>\n",
       "    <tr>\n",
       "      <th>603</th>\n",
       "      <td>01-Oct-20</td>\n",
       "      <td>Confirmed</td>\n",
       "      <td>81784</td>\n",
       "      <td>13</td>\n",
       "      <td>6751</td>\n",
       "      <td>224</td>\n",
       "      <td>1585</td>\n",
       "      <td>1370</td>\n",
       "      <td>119</td>\n",
       "      <td>2551</td>\n",
       "      <td>...</td>\n",
       "      <td>1265</td>\n",
       "      <td>2193</td>\n",
       "      <td>38</td>\n",
       "      <td>5688</td>\n",
       "      <td>2214</td>\n",
       "      <td>332</td>\n",
       "      <td>4019</td>\n",
       "      <td>248</td>\n",
       "      <td>3275</td>\n",
       "      <td>0</td>\n",
       "    </tr>\n",
       "    <tr>\n",
       "      <th>604</th>\n",
       "      <td>01-Oct-20</td>\n",
       "      <td>Recovered</td>\n",
       "      <td>78731</td>\n",
       "      <td>15</td>\n",
       "      <td>7297</td>\n",
       "      <td>159</td>\n",
       "      <td>1904</td>\n",
       "      <td>1242</td>\n",
       "      <td>196</td>\n",
       "      <td>2981</td>\n",
       "      <td>...</td>\n",
       "      <td>2271</td>\n",
       "      <td>1953</td>\n",
       "      <td>72</td>\n",
       "      <td>5516</td>\n",
       "      <td>2474</td>\n",
       "      <td>400</td>\n",
       "      <td>4444</td>\n",
       "      <td>801</td>\n",
       "      <td>2996</td>\n",
       "      <td>0</td>\n",
       "    </tr>\n",
       "    <tr>\n",
       "      <th>605</th>\n",
       "      <td>01-Oct-20</td>\n",
       "      <td>Deceased</td>\n",
       "      <td>1099</td>\n",
       "      <td>0</td>\n",
       "      <td>41</td>\n",
       "      <td>0</td>\n",
       "      <td>14</td>\n",
       "      <td>2</td>\n",
       "      <td>2</td>\n",
       "      <td>29</td>\n",
       "      <td>...</td>\n",
       "      <td>45</td>\n",
       "      <td>14</td>\n",
       "      <td>3</td>\n",
       "      <td>66</td>\n",
       "      <td>8</td>\n",
       "      <td>6</td>\n",
       "      <td>80</td>\n",
       "      <td>14</td>\n",
       "      <td>59</td>\n",
       "      <td>0</td>\n",
       "    </tr>\n",
       "    <tr>\n",
       "      <th>606</th>\n",
       "      <td>02-Oct-20</td>\n",
       "      <td>Confirmed</td>\n",
       "      <td>79683</td>\n",
       "      <td>10</td>\n",
       "      <td>6555</td>\n",
       "      <td>0</td>\n",
       "      <td>1416</td>\n",
       "      <td>1431</td>\n",
       "      <td>155</td>\n",
       "      <td>2637</td>\n",
       "      <td>...</td>\n",
       "      <td>1062</td>\n",
       "      <td>2211</td>\n",
       "      <td>42</td>\n",
       "      <td>5595</td>\n",
       "      <td>2009</td>\n",
       "      <td>296</td>\n",
       "      <td>3894</td>\n",
       "      <td>311</td>\n",
       "      <td>3310</td>\n",
       "      <td>0</td>\n",
       "    </tr>\n",
       "    <tr>\n",
       "      <th>607</th>\n",
       "      <td>02-Oct-20</td>\n",
       "      <td>Recovered</td>\n",
       "      <td>76205</td>\n",
       "      <td>8</td>\n",
       "      <td>7485</td>\n",
       "      <td>0</td>\n",
       "      <td>1441</td>\n",
       "      <td>1497</td>\n",
       "      <td>153</td>\n",
       "      <td>3396</td>\n",
       "      <td>...</td>\n",
       "      <td>1840</td>\n",
       "      <td>2060</td>\n",
       "      <td>34</td>\n",
       "      <td>5603</td>\n",
       "      <td>2437</td>\n",
       "      <td>504</td>\n",
       "      <td>5107</td>\n",
       "      <td>340</td>\n",
       "      <td>2944</td>\n",
       "      <td>0</td>\n",
       "    </tr>\n",
       "    <tr>\n",
       "      <th>608</th>\n",
       "      <td>02-Oct-20</td>\n",
       "      <td>Deceased</td>\n",
       "      <td>1066</td>\n",
       "      <td>0</td>\n",
       "      <td>31</td>\n",
       "      <td>0</td>\n",
       "      <td>10</td>\n",
       "      <td>4</td>\n",
       "      <td>5</td>\n",
       "      <td>16</td>\n",
       "      <td>...</td>\n",
       "      <td>50</td>\n",
       "      <td>16</td>\n",
       "      <td>1</td>\n",
       "      <td>67</td>\n",
       "      <td>10</td>\n",
       "      <td>3</td>\n",
       "      <td>53</td>\n",
       "      <td>11</td>\n",
       "      <td>53</td>\n",
       "      <td>0</td>\n",
       "    </tr>\n",
       "  </tbody>\n",
       "</table>\n",
       "<p>6 rows × 41 columns</p>\n",
       "</div>"
      ],
      "text/plain": [
       "          Date     Status     TT  AN    AP   AR    AS    BR   CH    CT  ...  \\\n",
       "603  01-Oct-20  Confirmed  81784  13  6751  224  1585  1370  119  2551  ...   \n",
       "604  01-Oct-20  Recovered  78731  15  7297  159  1904  1242  196  2981  ...   \n",
       "605  01-Oct-20   Deceased   1099   0    41    0    14     2    2    29  ...   \n",
       "606  02-Oct-20  Confirmed  79683  10  6555    0  1416  1431  155  2637  ...   \n",
       "607  02-Oct-20  Recovered  76205   8  7485    0  1441  1497  153  3396  ...   \n",
       "608  02-Oct-20   Deceased   1066   0    31    0    10     4    5    16  ...   \n",
       "\n",
       "       PB    RJ  SK    TN    TG   TR    UP   UT    WB  UN  \n",
       "603  1265  2193  38  5688  2214  332  4019  248  3275   0  \n",
       "604  2271  1953  72  5516  2474  400  4444  801  2996   0  \n",
       "605    45    14   3    66     8    6    80   14    59   0  \n",
       "606  1062  2211  42  5595  2009  296  3894  311  3310   0  \n",
       "607  1840  2060  34  5603  2437  504  5107  340  2944   0  \n",
       "608    50    16   1    67    10    3    53   11    53   0  \n",
       "\n",
       "[6 rows x 41 columns]"
      ]
     },
     "execution_count": 3,
     "metadata": {},
     "output_type": "execute_result"
    }
   ],
   "source": [
    "#hide\n",
    "df.tail(6)"
   ]
  },
  {
   "cell_type": "code",
   "execution_count": 4,
   "metadata": {
    "execution": {
     "iopub.execute_input": "2020-10-02T19:12:54.406400Z",
     "iopub.status.busy": "2020-10-02T19:12:54.405786Z",
     "iopub.status.idle": "2020-10-02T19:12:54.408522Z",
     "shell.execute_reply": "2020-10-02T19:12:54.409038Z"
    },
    "papermill": {
     "duration": 0.024876,
     "end_time": "2020-10-02T19:12:54.409185",
     "exception": false,
     "start_time": "2020-10-02T19:12:54.384309",
     "status": "completed"
    },
    "tags": []
   },
   "outputs": [
    {
     "data": {
      "text/plain": [
       "('02-Oct-20', '01-Oct-20')"
      ]
     },
     "execution_count": 4,
     "metadata": {},
     "output_type": "execute_result"
    }
   ],
   "source": [
    "#hide\n",
    "dt_today = df.iloc[-1][0]\n",
    "dt_yday = df.iloc[-4][0]\n",
    "dt_today, dt_yday"
   ]
  },
  {
   "cell_type": "code",
   "execution_count": 5,
   "metadata": {
    "execution": {
     "iopub.execute_input": "2020-10-02T19:12:54.445537Z",
     "iopub.status.busy": "2020-10-02T19:12:54.444887Z",
     "iopub.status.idle": "2020-10-02T19:12:54.450441Z",
     "shell.execute_reply": "2020-10-02T19:12:54.451062Z"
    },
    "papermill": {
     "duration": 0.027426,
     "end_time": "2020-10-02T19:12:54.451223",
     "exception": false,
     "start_time": "2020-10-02T19:12:54.423797",
     "status": "completed"
    },
    "tags": []
   },
   "outputs": [],
   "source": [
    "#hide\n",
    "df_today = df.groupby('Status').sum()\n",
    "df_yday = df.iloc[:-3][:].groupby('Status').sum()"
   ]
  },
  {
   "cell_type": "code",
   "execution_count": 6,
   "metadata": {
    "execution": {
     "iopub.execute_input": "2020-10-02T19:12:54.497790Z",
     "iopub.status.busy": "2020-10-02T19:12:54.497143Z",
     "iopub.status.idle": "2020-10-02T19:12:54.500506Z",
     "shell.execute_reply": "2020-10-02T19:12:54.499864Z"
    },
    "papermill": {
     "duration": 0.034289,
     "end_time": "2020-10-02T19:12:54.500647",
     "exception": false,
     "start_time": "2020-10-02T19:12:54.466358",
     "status": "completed"
    },
    "tags": []
   },
   "outputs": [
    {
     "data": {
      "text/html": [
       "<div>\n",
       "<style scoped>\n",
       "    .dataframe tbody tr th:only-of-type {\n",
       "        vertical-align: middle;\n",
       "    }\n",
       "\n",
       "    .dataframe tbody tr th {\n",
       "        vertical-align: top;\n",
       "    }\n",
       "\n",
       "    .dataframe thead th {\n",
       "        text-align: right;\n",
       "    }\n",
       "</style>\n",
       "<table border=\"1\" class=\"dataframe\">\n",
       "  <thead>\n",
       "    <tr style=\"text-align: right;\">\n",
       "      <th></th>\n",
       "      <th>TT</th>\n",
       "      <th>AN</th>\n",
       "      <th>AP</th>\n",
       "      <th>AR</th>\n",
       "      <th>AS</th>\n",
       "      <th>BR</th>\n",
       "      <th>CH</th>\n",
       "      <th>CT</th>\n",
       "      <th>DN</th>\n",
       "      <th>DD</th>\n",
       "      <th>...</th>\n",
       "      <th>PB</th>\n",
       "      <th>RJ</th>\n",
       "      <th>SK</th>\n",
       "      <th>TN</th>\n",
       "      <th>TG</th>\n",
       "      <th>TR</th>\n",
       "      <th>UP</th>\n",
       "      <th>UT</th>\n",
       "      <th>WB</th>\n",
       "      <th>UN</th>\n",
       "    </tr>\n",
       "    <tr>\n",
       "      <th>Status</th>\n",
       "      <th></th>\n",
       "      <th></th>\n",
       "      <th></th>\n",
       "      <th></th>\n",
       "      <th></th>\n",
       "      <th></th>\n",
       "      <th></th>\n",
       "      <th></th>\n",
       "      <th></th>\n",
       "      <th></th>\n",
       "      <th></th>\n",
       "      <th></th>\n",
       "      <th></th>\n",
       "      <th></th>\n",
       "      <th></th>\n",
       "      <th></th>\n",
       "      <th></th>\n",
       "      <th></th>\n",
       "      <th></th>\n",
       "      <th></th>\n",
       "      <th></th>\n",
       "    </tr>\n",
       "  </thead>\n",
       "  <tbody>\n",
       "    <tr>\n",
       "      <th>Confirmed</th>\n",
       "      <td>6471101</td>\n",
       "      <td>3854</td>\n",
       "      <td>706790</td>\n",
       "      <td>10020</td>\n",
       "      <td>183710</td>\n",
       "      <td>185707</td>\n",
       "      <td>12212</td>\n",
       "      <td>118790</td>\n",
       "      <td>3060</td>\n",
       "      <td>0</td>\n",
       "      <td>...</td>\n",
       "      <td>116213</td>\n",
       "      <td>139696</td>\n",
       "      <td>3024</td>\n",
       "      <td>608885</td>\n",
       "      <td>195099</td>\n",
       "      <td>26359</td>\n",
       "      <td>406995</td>\n",
       "      <td>49559</td>\n",
       "      <td>263634</td>\n",
       "      <td>0</td>\n",
       "    </tr>\n",
       "    <tr>\n",
       "      <th>Deceased</th>\n",
       "      <td>100286</td>\n",
       "      <td>53</td>\n",
       "      <td>5900</td>\n",
       "      <td>16</td>\n",
       "      <td>725</td>\n",
       "      <td>910</td>\n",
       "      <td>169</td>\n",
       "      <td>1002</td>\n",
       "      <td>2</td>\n",
       "      <td>0</td>\n",
       "      <td>...</td>\n",
       "      <td>3501</td>\n",
       "      <td>1516</td>\n",
       "      <td>41</td>\n",
       "      <td>9653</td>\n",
       "      <td>1145</td>\n",
       "      <td>283</td>\n",
       "      <td>5917</td>\n",
       "      <td>636</td>\n",
       "      <td>5070</td>\n",
       "      <td>0</td>\n",
       "    </tr>\n",
       "    <tr>\n",
       "      <th>Recovered</th>\n",
       "      <td>5424925</td>\n",
       "      <td>3622</td>\n",
       "      <td>643993</td>\n",
       "      <td>7049</td>\n",
       "      <td>148960</td>\n",
       "      <td>172364</td>\n",
       "      <td>10162</td>\n",
       "      <td>88095</td>\n",
       "      <td>2917</td>\n",
       "      <td>0</td>\n",
       "      <td>...</td>\n",
       "      <td>97777</td>\n",
       "      <td>117238</td>\n",
       "      <td>2329</td>\n",
       "      <td>552938</td>\n",
       "      <td>165844</td>\n",
       "      <td>20573</td>\n",
       "      <td>351966</td>\n",
       "      <td>40176</td>\n",
       "      <td>231699</td>\n",
       "      <td>0</td>\n",
       "    </tr>\n",
       "  </tbody>\n",
       "</table>\n",
       "<p>3 rows × 39 columns</p>\n",
       "</div>"
      ],
      "text/plain": [
       "                TT    AN      AP     AR      AS      BR     CH      CT    DN  \\\n",
       "Status                                                                         \n",
       "Confirmed  6471101  3854  706790  10020  183710  185707  12212  118790  3060   \n",
       "Deceased    100286    53    5900     16     725     910    169    1002     2   \n",
       "Recovered  5424925  3622  643993   7049  148960  172364  10162   88095  2917   \n",
       "\n",
       "           DD  ...      PB      RJ    SK      TN      TG     TR      UP  \\\n",
       "Status         ...                                                        \n",
       "Confirmed   0  ...  116213  139696  3024  608885  195099  26359  406995   \n",
       "Deceased    0  ...    3501    1516    41    9653    1145    283    5917   \n",
       "Recovered   0  ...   97777  117238  2329  552938  165844  20573  351966   \n",
       "\n",
       "              UT      WB  UN  \n",
       "Status                        \n",
       "Confirmed  49559  263634   0  \n",
       "Deceased     636    5070   0  \n",
       "Recovered  40176  231699   0  \n",
       "\n",
       "[3 rows x 39 columns]"
      ]
     },
     "execution_count": 6,
     "metadata": {},
     "output_type": "execute_result"
    }
   ],
   "source": [
    "#hide\n",
    "df_today"
   ]
  },
  {
   "cell_type": "code",
   "execution_count": 7,
   "metadata": {
    "execution": {
     "iopub.execute_input": "2020-10-02T19:12:54.549193Z",
     "iopub.status.busy": "2020-10-02T19:12:54.548530Z",
     "iopub.status.idle": "2020-10-02T19:12:54.551853Z",
     "shell.execute_reply": "2020-10-02T19:12:54.551180Z"
    },
    "papermill": {
     "duration": 0.035375,
     "end_time": "2020-10-02T19:12:54.551996",
     "exception": false,
     "start_time": "2020-10-02T19:12:54.516621",
     "status": "completed"
    },
    "tags": []
   },
   "outputs": [
    {
     "data": {
      "text/html": [
       "<div>\n",
       "<style scoped>\n",
       "    .dataframe tbody tr th:only-of-type {\n",
       "        vertical-align: middle;\n",
       "    }\n",
       "\n",
       "    .dataframe tbody tr th {\n",
       "        vertical-align: top;\n",
       "    }\n",
       "\n",
       "    .dataframe thead th {\n",
       "        text-align: right;\n",
       "    }\n",
       "</style>\n",
       "<table border=\"1\" class=\"dataframe\">\n",
       "  <thead>\n",
       "    <tr style=\"text-align: right;\">\n",
       "      <th></th>\n",
       "      <th>TT</th>\n",
       "      <th>AN</th>\n",
       "      <th>AP</th>\n",
       "      <th>AR</th>\n",
       "      <th>AS</th>\n",
       "      <th>BR</th>\n",
       "      <th>CH</th>\n",
       "      <th>CT</th>\n",
       "      <th>DN</th>\n",
       "      <th>DD</th>\n",
       "      <th>...</th>\n",
       "      <th>PB</th>\n",
       "      <th>RJ</th>\n",
       "      <th>SK</th>\n",
       "      <th>TN</th>\n",
       "      <th>TG</th>\n",
       "      <th>TR</th>\n",
       "      <th>UP</th>\n",
       "      <th>UT</th>\n",
       "      <th>WB</th>\n",
       "      <th>UN</th>\n",
       "    </tr>\n",
       "    <tr>\n",
       "      <th>Status</th>\n",
       "      <th></th>\n",
       "      <th></th>\n",
       "      <th></th>\n",
       "      <th></th>\n",
       "      <th></th>\n",
       "      <th></th>\n",
       "      <th></th>\n",
       "      <th></th>\n",
       "      <th></th>\n",
       "      <th></th>\n",
       "      <th></th>\n",
       "      <th></th>\n",
       "      <th></th>\n",
       "      <th></th>\n",
       "      <th></th>\n",
       "      <th></th>\n",
       "      <th></th>\n",
       "      <th></th>\n",
       "      <th></th>\n",
       "      <th></th>\n",
       "      <th></th>\n",
       "    </tr>\n",
       "  </thead>\n",
       "  <tbody>\n",
       "    <tr>\n",
       "      <th>Confirmed</th>\n",
       "      <td>6391418</td>\n",
       "      <td>3844</td>\n",
       "      <td>700235</td>\n",
       "      <td>10020</td>\n",
       "      <td>182294</td>\n",
       "      <td>184276</td>\n",
       "      <td>12057</td>\n",
       "      <td>116153</td>\n",
       "      <td>3053</td>\n",
       "      <td>0</td>\n",
       "      <td>...</td>\n",
       "      <td>115151</td>\n",
       "      <td>137485</td>\n",
       "      <td>2982</td>\n",
       "      <td>603290</td>\n",
       "      <td>193090</td>\n",
       "      <td>26063</td>\n",
       "      <td>403101</td>\n",
       "      <td>49248</td>\n",
       "      <td>260324</td>\n",
       "      <td>0</td>\n",
       "    </tr>\n",
       "    <tr>\n",
       "      <th>Deceased</th>\n",
       "      <td>99220</td>\n",
       "      <td>53</td>\n",
       "      <td>5869</td>\n",
       "      <td>16</td>\n",
       "      <td>715</td>\n",
       "      <td>906</td>\n",
       "      <td>164</td>\n",
       "      <td>986</td>\n",
       "      <td>2</td>\n",
       "      <td>0</td>\n",
       "      <td>...</td>\n",
       "      <td>3451</td>\n",
       "      <td>1500</td>\n",
       "      <td>40</td>\n",
       "      <td>9586</td>\n",
       "      <td>1135</td>\n",
       "      <td>280</td>\n",
       "      <td>5864</td>\n",
       "      <td>625</td>\n",
       "      <td>5017</td>\n",
       "      <td>0</td>\n",
       "    </tr>\n",
       "    <tr>\n",
       "      <th>Recovered</th>\n",
       "      <td>5348720</td>\n",
       "      <td>3614</td>\n",
       "      <td>636508</td>\n",
       "      <td>7049</td>\n",
       "      <td>147519</td>\n",
       "      <td>170867</td>\n",
       "      <td>10009</td>\n",
       "      <td>84699</td>\n",
       "      <td>2897</td>\n",
       "      <td>0</td>\n",
       "      <td>...</td>\n",
       "      <td>95937</td>\n",
       "      <td>115178</td>\n",
       "      <td>2295</td>\n",
       "      <td>547335</td>\n",
       "      <td>163407</td>\n",
       "      <td>20069</td>\n",
       "      <td>346859</td>\n",
       "      <td>39836</td>\n",
       "      <td>228755</td>\n",
       "      <td>0</td>\n",
       "    </tr>\n",
       "  </tbody>\n",
       "</table>\n",
       "<p>3 rows × 39 columns</p>\n",
       "</div>"
      ],
      "text/plain": [
       "                TT    AN      AP     AR      AS      BR     CH      CT    DN  \\\n",
       "Status                                                                         \n",
       "Confirmed  6391418  3844  700235  10020  182294  184276  12057  116153  3053   \n",
       "Deceased     99220    53    5869     16     715     906    164     986     2   \n",
       "Recovered  5348720  3614  636508   7049  147519  170867  10009   84699  2897   \n",
       "\n",
       "           DD  ...      PB      RJ    SK      TN      TG     TR      UP  \\\n",
       "Status         ...                                                        \n",
       "Confirmed   0  ...  115151  137485  2982  603290  193090  26063  403101   \n",
       "Deceased    0  ...    3451    1500    40    9586    1135    280    5864   \n",
       "Recovered   0  ...   95937  115178  2295  547335  163407  20069  346859   \n",
       "\n",
       "              UT      WB  UN  \n",
       "Status                        \n",
       "Confirmed  49248  260324   0  \n",
       "Deceased     625    5017   0  \n",
       "Recovered  39836  228755   0  \n",
       "\n",
       "[3 rows x 39 columns]"
      ]
     },
     "execution_count": 7,
     "metadata": {},
     "output_type": "execute_result"
    }
   ],
   "source": [
    "#hide\n",
    "df_yday.head()"
   ]
  },
  {
   "cell_type": "code",
   "execution_count": 8,
   "metadata": {
    "execution": {
     "iopub.execute_input": "2020-10-02T19:12:54.590599Z",
     "iopub.status.busy": "2020-10-02T19:12:54.589964Z",
     "iopub.status.idle": "2020-10-02T19:12:54.592767Z",
     "shell.execute_reply": "2020-10-02T19:12:54.593312Z"
    },
    "papermill": {
     "duration": 0.026393,
     "end_time": "2020-10-02T19:12:54.593464",
     "exception": false,
     "start_time": "2020-10-02T19:12:54.567071",
     "status": "completed"
    },
    "tags": []
   },
   "outputs": [
    {
     "data": {
      "text/plain": [
       "{'updated': '02-Oct-20',\n",
       " 'since': '01-Oct-20',\n",
       " 'Cases': 6471101,\n",
       " 'Deaths': 100286,\n",
       " 'Recovered': 5424925,\n",
       " 'PCases': 6391418,\n",
       " 'PDeaths': 99220,\n",
       " 'PRecovered': 5348720,\n",
       " 'Cases (+)': 79683,\n",
       " 'Deaths (+)': 1066,\n",
       " 'Recovered (+)': 76205}"
      ]
     },
     "execution_count": 8,
     "metadata": {},
     "output_type": "execute_result"
    }
   ],
   "source": [
    "#hide\n",
    "summary = {\n",
    "    'updated' : dt_today,\n",
    "    'since' : dt_yday,\n",
    "    'Cases' : df_today['TT'][0],\n",
    "    'Deaths' : df_today['TT'][1],\n",
    "    'Recovered' : df_today['TT'][2],\n",
    "    'PCases' : df_yday['TT'][0],\n",
    "    'PDeaths' : df_yday['TT'][1],\n",
    "    'PRecovered': df_yday['TT'][2],\n",
    "    'Cases (+)' : df_today['TT'][0] - df_yday['TT'][0],\n",
    "    'Deaths (+)' : df_today['TT'][1] - df_yday['TT'][1],\n",
    "    'Recovered (+)': df_today['TT'][2] - df_yday['TT'][2]\n",
    "}\n",
    "\n",
    "summary"
   ]
  },
  {
   "cell_type": "code",
   "execution_count": 9,
   "metadata": {
    "execution": {
     "iopub.execute_input": "2020-10-02T19:12:54.628094Z",
     "iopub.status.busy": "2020-10-02T19:12:54.627386Z",
     "iopub.status.idle": "2020-10-02T19:12:54.629402Z",
     "shell.execute_reply": "2020-10-02T19:12:54.629921Z"
    },
    "papermill": {
     "duration": 0.021342,
     "end_time": "2020-10-02T19:12:54.630059",
     "exception": false,
     "start_time": "2020-10-02T19:12:54.608717",
     "status": "completed"
    },
    "tags": []
   },
   "outputs": [],
   "source": [
    "#hide\n",
    "overview = '''\n",
    "<!-- #######  HTML!! #########-->\n",
    "<h1 style=\"color: #5e9ca0; text-align: center;\">India</h1>\n",
    "<p style=\"text-align: center;\">Last update: <strong>{update}</strong></p>\n",
    "<p style=\"text-align: center;\">Confirmed cases:</p>\n",
    "<p style=\"text-align: center;font-size:24px;\">{cases} (<span style=\"color: #ff0000;\">+{new}</span>)</p>\n",
    "<p style=\"text-align: center;\">Confirmed deaths:</p>\n",
    "<p style=\"text-align: center;font-size:24px;\">{deaths} (<span style=\"color: #ff0000;\">+{dnew}</span>)</p>\n",
    "<p style=\"text-align: center;\">Recovered cases:</p>\n",
    "<p style=\"text-align: center;font-size:24px;\">{recovered} (<span style=\"color: #00ff00;\">+{rnew}</span>)</p>\n",
    "'''"
   ]
  },
  {
   "cell_type": "code",
   "execution_count": 10,
   "metadata": {
    "execution": {
     "iopub.execute_input": "2020-10-02T19:12:54.667897Z",
     "iopub.status.busy": "2020-10-02T19:12:54.667234Z",
     "iopub.status.idle": "2020-10-02T19:12:54.670567Z",
     "shell.execute_reply": "2020-10-02T19:12:54.670075Z"
    },
    "papermill": {
     "duration": 0.025223,
     "end_time": "2020-10-02T19:12:54.670692",
     "exception": false,
     "start_time": "2020-10-02T19:12:54.645469",
     "status": "completed"
    },
    "tags": []
   },
   "outputs": [
    {
     "data": {
      "text/html": [
       "\n",
       "<!-- #######  HTML!! #########-->\n",
       "<h1 style=\"color: #5e9ca0; text-align: center;\">India</h1>\n",
       "<p style=\"text-align: center;\">Last update: <strong>02-Oct-20</strong></p>\n",
       "<p style=\"text-align: center;\">Confirmed cases:</p>\n",
       "<p style=\"text-align: center;font-size:24px;\">6471101 (<span style=\"color: #ff0000;\">+79683</span>)</p>\n",
       "<p style=\"text-align: center;\">Confirmed deaths:</p>\n",
       "<p style=\"text-align: center;font-size:24px;\">100286 (<span style=\"color: #ff0000;\">+1066</span>)</p>\n",
       "<p style=\"text-align: center;\">Recovered cases:</p>\n",
       "<p style=\"text-align: center;font-size:24px;\">5424925 (<span style=\"color: #00ff00;\">+76205</span>)</p>\n"
      ],
      "text/plain": [
       "<IPython.core.display.HTML object>"
      ]
     },
     "metadata": {},
     "output_type": "display_data"
    }
   ],
   "source": [
    "#hide_input\n",
    "# Fill the above HTML with the information from the summary dictionary\n",
    "\n",
    "update = summary['updated']\n",
    "cases = summary['Cases']\n",
    "new = summary['Cases (+)']\n",
    "deaths = summary['Deaths']\n",
    "dnew = summary['Deaths (+)']\n",
    "recovered = summary['Recovered']\n",
    "rnew = summary['Recovered (+)']\n",
    "\n",
    "html = HTML(overview.format(update=update, cases=cases,new=new,deaths=deaths,dnew=dnew, recovered=recovered, rnew=rnew))\n",
    "\n",
    "display(html)"
   ]
  },
  {
   "cell_type": "code",
   "execution_count": 11,
   "metadata": {
    "execution": {
     "iopub.execute_input": "2020-10-02T19:12:54.709097Z",
     "iopub.status.busy": "2020-10-02T19:12:54.708442Z",
     "iopub.status.idle": "2020-10-02T19:12:54.716127Z",
     "shell.execute_reply": "2020-10-02T19:12:54.716723Z"
    },
    "papermill": {
     "duration": 0.02977,
     "end_time": "2020-10-02T19:12:54.716876",
     "exception": false,
     "start_time": "2020-10-02T19:12:54.687106",
     "status": "completed"
    },
    "tags": []
   },
   "outputs": [],
   "source": [
    "#hide\n",
    "df_cases = df[df['Status'] == 'Confirmed'].copy()\n",
    "df_cases.drop(columns = ['Status'], inplace=True)\n",
    "df_deaths = df[df['Status'] == 'Deceased'].copy()\n",
    "df_deaths.drop(columns = ['Status'], inplace=True)\n",
    "df_recovered = df[df['Status'] == 'Recovered'].copy()\n",
    "df_recovered.drop(columns = ['Status'], inplace=True)"
   ]
  },
  {
   "cell_type": "markdown",
   "metadata": {
    "papermill": {
     "duration": 0.014821,
     "end_time": "2020-10-02T19:12:54.746442",
     "exception": false,
     "start_time": "2020-10-02T19:12:54.731621",
     "status": "completed"
    },
    "tags": []
   },
   "source": [
    "Plot for India:"
   ]
  },
  {
   "cell_type": "code",
   "execution_count": 12,
   "metadata": {
    "execution": {
     "iopub.execute_input": "2020-10-02T19:12:54.799107Z",
     "iopub.status.busy": "2020-10-02T19:12:54.798453Z",
     "iopub.status.idle": "2020-10-02T19:12:55.068502Z",
     "shell.execute_reply": "2020-10-02T19:12:55.069035Z"
    },
    "papermill": {
     "duration": 0.307991,
     "end_time": "2020-10-02T19:12:55.069198",
     "exception": false,
     "start_time": "2020-10-02T19:12:54.761207",
     "status": "completed"
    },
    "tags": []
   },
   "outputs": [
    {
     "data": {
      "image/png": "[encoded data removed]",
      "text/plain": [
       "<Figure size 1296x432 with 1 Axes>"
      ]
     },
     "metadata": {
      "needs_background": "light"
     },
     "output_type": "display_data"
    }
   ],
   "source": [
    "#hide_input\n",
    "plt.figure(figsize = (18,6))\n",
    "plt.plot(df_cases['Date'], df_cases['TT'],'.-', alpha=0.7, color='b', label='Confirmed cases')\n",
    "plt.plot(df_recovered['Date'], df_recovered['TT'],'.-', alpha=0.7, color='g', label='Recovered')\n",
    "plt.plot(df_deaths['Date'], df_deaths['TT'],'.-', alpha=0.7, color='r', label='Deceased')\n",
    "plt.legend()\n",
    "plt.title(\"Cases per day in India\")\n",
    "plt.xticks(ticks=' ')\n",
    "plt.xlabel(f'{df_cases.iloc[0][0]} to {df_cases.iloc[-1][0]}')\n",
    "plt.ylabel('No. of cases');"
   ]
  },
  {
   "cell_type": "markdown",
   "metadata": {
    "papermill": {
     "duration": 0.017092,
     "end_time": "2020-10-02T19:12:55.104573",
     "exception": false,
     "start_time": "2020-10-02T19:12:55.087481",
     "status": "completed"
    },
    "tags": []
   },
   "source": [
    "Plots for the states with highest number of cases:"
   ]
  },
  {
   "cell_type": "code",
   "execution_count": 13,
   "metadata": {
    "execution": {
     "iopub.execute_input": "2020-10-02T19:12:55.146889Z",
     "iopub.status.busy": "2020-10-02T19:12:55.146271Z",
     "iopub.status.idle": "2020-10-02T19:12:55.790143Z",
     "shell.execute_reply": "2020-10-02T19:12:55.790589Z"
    },
    "papermill": {
     "duration": 0.668854,
     "end_time": "2020-10-02T19:12:55.790743",
     "exception": false,
     "start_time": "2020-10-02T19:12:55.121889",
     "status": "completed"
    },
    "tags": []
   },
   "outputs": [
    {
     "data": {
      "image/png": "[encoded data removed]",
      "text/plain": [
       "<Figure size 1512x432 with 3 Axes>"
      ]
     },
     "metadata": {
      "needs_background": "light"
     },
     "output_type": "display_data"
    }
   ],
   "source": [
    "#hide_input\n",
    "top_3 = sorted(df_cases.sum().values[1:], reverse=True)[1:4]\n",
    "top3_states=[]\n",
    "for i in top_3:\n",
    "    top3_states.append(df_cases.sum()[df_cases.sum() == i].index)\n",
    "\n",
    "\n",
    "fig, ax = plt.subplots(1,3,figsize = (21,6))\n",
    "for i in range(3):\n",
    "    state = top3_states[i].values[0]\n",
    "    ax[i].plot(df_cases['Date'], df_cases[state],'.-', color='b', alpha=0.7)\n",
    "    ax[i].plot(df_deaths['Date'], df_deaths[state],'.-', color='r', alpha=0.7)\n",
    "    ax[i].plot(df_recovered['Date'], df_recovered[state],'.-', color='g', alpha=0.7)\n",
    "    \n",
    "    ax[i].set_title(f\"Cases in {state}\")\n",
    "    ax[i].set_xticks(ticks=' ')\n",
    "    ax[i].set_xlabel(f'{df_cases.iloc[0][0]} to {df_cases.iloc[-1][0]}')\n",
    "    ax[i].set_ylabel('No. of cases');"
   ]
  },
  {
   "cell_type": "code",
   "execution_count": null,
   "metadata": {
    "papermill": {
     "duration": 0.019007,
     "end_time": "2020-10-02T19:12:55.828145",
     "exception": false,
     "start_time": "2020-10-02T19:12:55.809138",
     "status": "completed"
    },
    "tags": []
   },
   "outputs": [],
   "source": []
  },
  {
   "cell_type": "code",
   "execution_count": null,
   "metadata": {
    "papermill": {
     "duration": 0.017613,
     "end_time": "2020-10-02T19:12:55.864233",
     "exception": false,
     "start_time": "2020-10-02T19:12:55.846620",
     "status": "completed"
    },
    "tags": []
   },
   "outputs": [],
   "source": []
  },
  {
   "cell_type": "code",
   "execution_count": null,
   "metadata": {
    "papermill": {
     "duration": 0.017656,
     "end_time": "2020-10-02T19:12:55.901383",
     "exception": false,
     "start_time": "2020-10-02T19:12:55.883727",
     "status": "completed"
    },
    "tags": []
   },
   "outputs": [],
   "source": []
  }
 ],
 "metadata": {
  "kernelspec": {
   "display_name": "Python 3",
   "language": "python",
   "name": "python3"
  },
  "language_info": {
   "codemirror_mode": {
    "name": "ipython",
    "version": 3
   },
   "file_extension": ".py",
   "mimetype": "text/x-python",
   "name": "python",
   "nbconvert_exporter": "python",
   "pygments_lexer": "ipython3",
   "version": "3.6.12"
  },
  "papermill": {
   "duration": 3.861545,
   "end_time": "2020-10-02T19:12:56.228846",
   "environment_variables": {},
   "exception": null,
   "input_path": "2020-08-09-DailyUpdate.ipynb",
   "output_path": "2020-08-09-DailyUpdate.ipynb",
   "parameters": {},
   "start_time": "2020-10-02T19:12:52.367301",
   "version": "2.1.2"
  }
 },
 "nbformat": 4,
 "nbformat_minor": 4
}