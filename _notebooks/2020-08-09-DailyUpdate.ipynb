{
 "cells": [
  {
   "cell_type": "markdown",
   "metadata": {
    "papermill": {
     "duration": 0.018639,
     "end_time": "2020-10-03T19:13:09.307212",
     "exception": false,
     "start_time": "2020-10-03T19:13:09.288573",
     "status": "completed"
    },
    "tags": []
   },
   "source": [
    "# COVID-19 India Daily updates\n",
    "> Tracking coronavirus total cases, deaths and new cases in India on a daily basis\n",
    "\n",
    "- author: Vaibhav Mahapatra"
   ]
  },
  {
   "cell_type": "code",
   "execution_count": 1,
   "metadata": {
    "execution": {
     "iopub.execute_input": "2020-10-03T19:13:09.343977Z",
     "iopub.status.busy": "2020-10-03T19:13:09.342859Z",
     "iopub.status.idle": "2020-10-03T19:13:10.030706Z",
     "shell.execute_reply": "2020-10-03T19:13:10.030052Z"
    },
    "papermill": {
     "duration": 0.708653,
     "end_time": "2020-10-03T19:13:10.030892",
     "exception": false,
     "start_time": "2020-10-03T19:13:09.322239",
     "status": "completed"
    },
    "tags": []
   },
   "outputs": [],
   "source": [
    "#hide\n",
    "\n",
    "## Import essential packages below\n",
    "\n",
    "import pandas as pd\n",
    "import numpy as np\n",
    "import requests\n",
    "import json\n",
    "import matplotlib.pyplot as plt\n",
    "import matplotlib.dates as mdates\n",
    "import matplotlib as mpl\n",
    "from IPython.core.display import display,HTML\n",
    "%matplotlib inline"
   ]
  },
  {
   "cell_type": "code",
   "execution_count": 2,
   "metadata": {
    "execution": {
     "iopub.execute_input": "2020-10-03T19:13:10.072864Z",
     "iopub.status.busy": "2020-10-03T19:13:10.072104Z",
     "iopub.status.idle": "2020-10-03T19:13:10.308060Z",
     "shell.execute_reply": "2020-10-03T19:13:10.308629Z"
    },
    "papermill": {
     "duration": 0.262269,
     "end_time": "2020-10-03T19:13:10.308818",
     "exception": false,
     "start_time": "2020-10-03T19:13:10.046549",
     "status": "completed"
    },
    "tags": []
   },
   "outputs": [
    {
     "data": {
      "text/plain": [
       "(612, 41)"
      ]
     },
     "execution_count": 2,
     "metadata": {},
     "output_type": "execute_result"
    }
   ],
   "source": [
    "#hide\n",
    "url = 'https://api.covid19india.org/csv/latest/state_wise_daily.csv'\n",
    "df = pd.read_csv(url)\n",
    "df.shape"
   ]
  },
  {
   "cell_type": "code",
   "execution_count": 3,
   "metadata": {
    "execution": {
     "iopub.execute_input": "2020-10-03T19:13:10.408647Z",
     "iopub.status.busy": "2020-10-03T19:13:10.400008Z",
     "iopub.status.idle": "2020-10-03T19:13:10.411716Z",
     "shell.execute_reply": "2020-10-03T19:13:10.412305Z"
    },
    "papermill": {
     "duration": 0.088775,
     "end_time": "2020-10-03T19:13:10.412490",
     "exception": false,
     "start_time": "2020-10-03T19:13:10.323715",
     "status": "completed"
    },
    "tags": []
   },
   "outputs": [
    {
     "data": {
      "text/html": [
       "<div>\n",
       "<style scoped>\n",
       "    .dataframe tbody tr th:only-of-type {\n",
       "        vertical-align: middle;\n",
       "    }\n",
       "\n",
       "    .dataframe tbody tr th {\n",
       "        vertical-align: top;\n",
       "    }\n",
       "\n",
       "    .dataframe thead th {\n",
       "        text-align: right;\n",
       "    }\n",
       "</style>\n",
       "<table border=\"1\" class=\"dataframe\">\n",
       "  <thead>\n",
       "    <tr style=\"text-align: right;\">\n",
       "      <th></th>\n",
       "      <th>Date</th>\n",
       "      <th>Status</th>\n",
       "      <th>TT</th>\n",
       "      <th>AN</th>\n",
       "      <th>AP</th>\n",
       "      <th>AR</th>\n",
       "      <th>AS</th>\n",
       "      <th>BR</th>\n",
       "      <th>CH</th>\n",
       "      <th>CT</th>\n",
       "      <th>...</th>\n",
       "      <th>PB</th>\n",
       "      <th>RJ</th>\n",
       "      <th>SK</th>\n",
       "      <th>TN</th>\n",
       "      <th>TG</th>\n",
       "      <th>TR</th>\n",
       "      <th>UP</th>\n",
       "      <th>UT</th>\n",
       "      <th>WB</th>\n",
       "      <th>UN</th>\n",
       "    </tr>\n",
       "  </thead>\n",
       "  <tbody>\n",
       "    <tr>\n",
       "      <th>606</th>\n",
       "      <td>02-Oct-20</td>\n",
       "      <td>Confirmed</td>\n",
       "      <td>79883</td>\n",
       "      <td>10</td>\n",
       "      <td>6555</td>\n",
       "      <td>200</td>\n",
       "      <td>1416</td>\n",
       "      <td>1431</td>\n",
       "      <td>155</td>\n",
       "      <td>2637</td>\n",
       "      <td>...</td>\n",
       "      <td>1062</td>\n",
       "      <td>2211</td>\n",
       "      <td>42</td>\n",
       "      <td>5595</td>\n",
       "      <td>2009</td>\n",
       "      <td>296</td>\n",
       "      <td>3894</td>\n",
       "      <td>311</td>\n",
       "      <td>3310</td>\n",
       "      <td>0</td>\n",
       "    </tr>\n",
       "    <tr>\n",
       "      <th>607</th>\n",
       "      <td>02-Oct-20</td>\n",
       "      <td>Recovered</td>\n",
       "      <td>76339</td>\n",
       "      <td>8</td>\n",
       "      <td>7485</td>\n",
       "      <td>134</td>\n",
       "      <td>1441</td>\n",
       "      <td>1497</td>\n",
       "      <td>153</td>\n",
       "      <td>3396</td>\n",
       "      <td>...</td>\n",
       "      <td>1840</td>\n",
       "      <td>2060</td>\n",
       "      <td>34</td>\n",
       "      <td>5603</td>\n",
       "      <td>2437</td>\n",
       "      <td>504</td>\n",
       "      <td>5107</td>\n",
       "      <td>340</td>\n",
       "      <td>2944</td>\n",
       "      <td>0</td>\n",
       "    </tr>\n",
       "    <tr>\n",
       "      <th>608</th>\n",
       "      <td>02-Oct-20</td>\n",
       "      <td>Deceased</td>\n",
       "      <td>1068</td>\n",
       "      <td>0</td>\n",
       "      <td>31</td>\n",
       "      <td>2</td>\n",
       "      <td>10</td>\n",
       "      <td>4</td>\n",
       "      <td>5</td>\n",
       "      <td>16</td>\n",
       "      <td>...</td>\n",
       "      <td>50</td>\n",
       "      <td>16</td>\n",
       "      <td>1</td>\n",
       "      <td>67</td>\n",
       "      <td>10</td>\n",
       "      <td>3</td>\n",
       "      <td>53</td>\n",
       "      <td>11</td>\n",
       "      <td>53</td>\n",
       "      <td>0</td>\n",
       "    </tr>\n",
       "    <tr>\n",
       "      <th>609</th>\n",
       "      <td>03-Oct-20</td>\n",
       "      <td>Confirmed</td>\n",
       "      <td>75479</td>\n",
       "      <td>10</td>\n",
       "      <td>6224</td>\n",
       "      <td>201</td>\n",
       "      <td>1632</td>\n",
       "      <td>983</td>\n",
       "      <td>148</td>\n",
       "      <td>2610</td>\n",
       "      <td>...</td>\n",
       "      <td>1106</td>\n",
       "      <td>2150</td>\n",
       "      <td>39</td>\n",
       "      <td>5622</td>\n",
       "      <td>1718</td>\n",
       "      <td>190</td>\n",
       "      <td>3631</td>\n",
       "      <td>503</td>\n",
       "      <td>3340</td>\n",
       "      <td>0</td>\n",
       "    </tr>\n",
       "    <tr>\n",
       "      <th>610</th>\n",
       "      <td>03-Oct-20</td>\n",
       "      <td>Recovered</td>\n",
       "      <td>81655</td>\n",
       "      <td>11</td>\n",
       "      <td>7798</td>\n",
       "      <td>205</td>\n",
       "      <td>1813</td>\n",
       "      <td>1431</td>\n",
       "      <td>234</td>\n",
       "      <td>2982</td>\n",
       "      <td>...</td>\n",
       "      <td>1691</td>\n",
       "      <td>2003</td>\n",
       "      <td>39</td>\n",
       "      <td>5596</td>\n",
       "      <td>2002</td>\n",
       "      <td>301</td>\n",
       "      <td>4860</td>\n",
       "      <td>919</td>\n",
       "      <td>3013</td>\n",
       "      <td>0</td>\n",
       "    </tr>\n",
       "    <tr>\n",
       "      <th>611</th>\n",
       "      <td>03-Oct-20</td>\n",
       "      <td>Deceased</td>\n",
       "      <td>937</td>\n",
       "      <td>0</td>\n",
       "      <td>41</td>\n",
       "      <td>0</td>\n",
       "      <td>14</td>\n",
       "      <td>2</td>\n",
       "      <td>3</td>\n",
       "      <td>29</td>\n",
       "      <td>...</td>\n",
       "      <td>61</td>\n",
       "      <td>14</td>\n",
       "      <td>2</td>\n",
       "      <td>65</td>\n",
       "      <td>8</td>\n",
       "      <td>3</td>\n",
       "      <td>60</td>\n",
       "      <td>12</td>\n",
       "      <td>62</td>\n",
       "      <td>0</td>\n",
       "    </tr>\n",
       "  </tbody>\n",
       "</table>\n",
       "<p>6 rows × 41 columns</p>\n",
       "</div>"
      ],
      "text/plain": [
       "          Date     Status     TT  AN    AP   AR    AS    BR   CH    CT  ...  \\\n",
       "606  02-Oct-20  Confirmed  79883  10  6555  200  1416  1431  155  2637  ...   \n",
       "607  02-Oct-20  Recovered  76339   8  7485  134  1441  1497  153  3396  ...   \n",
       "608  02-Oct-20   Deceased   1068   0    31    2    10     4    5    16  ...   \n",
       "609  03-Oct-20  Confirmed  75479  10  6224  201  1632   983  148  2610  ...   \n",
       "610  03-Oct-20  Recovered  81655  11  7798  205  1813  1431  234  2982  ...   \n",
       "611  03-Oct-20   Deceased    937   0    41    0    14     2    3    29  ...   \n",
       "\n",
       "       PB    RJ  SK    TN    TG   TR    UP   UT    WB  UN  \n",
       "606  1062  2211  42  5595  2009  296  3894  311  3310   0  \n",
       "607  1840  2060  34  5603  2437  504  5107  340  2944   0  \n",
       "608    50    16   1    67    10    3    53   11    53   0  \n",
       "609  1106  2150  39  5622  1718  190  3631  503  3340   0  \n",
       "610  1691  2003  39  5596  2002  301  4860  919  3013   0  \n",
       "611    61    14   2    65     8    3    60   12    62   0  \n",
       "\n",
       "[6 rows x 41 columns]"
      ]
     },
     "execution_count": 3,
     "metadata": {},
     "output_type": "execute_result"
    }
   ],
   "source": [
    "#hide\n",
    "df.tail(6)"
   ]
  },
  {
   "cell_type": "code",
   "execution_count": 4,
   "metadata": {
    "execution": {
     "iopub.execute_input": "2020-10-03T19:13:10.677735Z",
     "iopub.status.busy": "2020-10-03T19:13:10.676941Z",
     "iopub.status.idle": "2020-10-03T19:13:10.681919Z",
     "shell.execute_reply": "2020-10-03T19:13:10.682491Z"
    },
    "papermill": {
     "duration": 0.253888,
     "end_time": "2020-10-03T19:13:10.682672",
     "exception": false,
     "start_time": "2020-10-03T19:13:10.428784",
     "status": "completed"
    },
    "tags": []
   },
   "outputs": [
    {
     "data": {
      "text/plain": [
       "('03-Oct-20', '02-Oct-20')"
      ]
     },
     "execution_count": 4,
     "metadata": {},
     "output_type": "execute_result"
    }
   ],
   "source": [
    "#hide\n",
    "dt_today = df.iloc[-1][0]\n",
    "dt_yday = df.iloc[-4][0]\n",
    "dt_today, dt_yday"
   ]
  },
  {
   "cell_type": "code",
   "execution_count": 5,
   "metadata": {
    "execution": {
     "iopub.execute_input": "2020-10-03T19:13:10.733788Z",
     "iopub.status.busy": "2020-10-03T19:13:10.733026Z",
     "iopub.status.idle": "2020-10-03T19:13:10.740605Z",
     "shell.execute_reply": "2020-10-03T19:13:10.739979Z"
    },
    "papermill": {
     "duration": 0.032937,
     "end_time": "2020-10-03T19:13:10.740766",
     "exception": false,
     "start_time": "2020-10-03T19:13:10.707829",
     "status": "completed"
    },
    "tags": []
   },
   "outputs": [],
   "source": [
    "#hide\n",
    "df_today = df.groupby('Status').sum()\n",
    "df_yday = df.iloc[:-3][:].groupby('Status').sum()"
   ]
  },
  {
   "cell_type": "code",
   "execution_count": 6,
   "metadata": {
    "execution": {
     "iopub.execute_input": "2020-10-03T19:13:10.806240Z",
     "iopub.status.busy": "2020-10-03T19:13:10.805361Z",
     "iopub.status.idle": "2020-10-03T19:13:10.808108Z",
     "shell.execute_reply": "2020-10-03T19:13:10.808829Z"
    },
    "papermill": {
     "duration": 0.039916,
     "end_time": "2020-10-03T19:13:10.809003",
     "exception": false,
     "start_time": "2020-10-03T19:13:10.769087",
     "status": "completed"
    },
    "tags": []
   },
   "outputs": [
    {
     "data": {
      "text/html": [
       "<div>\n",
       "<style scoped>\n",
       "    .dataframe tbody tr th:only-of-type {\n",
       "        vertical-align: middle;\n",
       "    }\n",
       "\n",
       "    .dataframe tbody tr th {\n",
       "        vertical-align: top;\n",
       "    }\n",
       "\n",
       "    .dataframe thead th {\n",
       "        text-align: right;\n",
       "    }\n",
       "</style>\n",
       "<table border=\"1\" class=\"dataframe\">\n",
       "  <thead>\n",
       "    <tr style=\"text-align: right;\">\n",
       "      <th></th>\n",
       "      <th>TT</th>\n",
       "      <th>AN</th>\n",
       "      <th>AP</th>\n",
       "      <th>AR</th>\n",
       "      <th>AS</th>\n",
       "      <th>BR</th>\n",
       "      <th>CH</th>\n",
       "      <th>CT</th>\n",
       "      <th>DN</th>\n",
       "      <th>DD</th>\n",
       "      <th>...</th>\n",
       "      <th>PB</th>\n",
       "      <th>RJ</th>\n",
       "      <th>SK</th>\n",
       "      <th>TN</th>\n",
       "      <th>TG</th>\n",
       "      <th>TR</th>\n",
       "      <th>UP</th>\n",
       "      <th>UT</th>\n",
       "      <th>WB</th>\n",
       "      <th>UN</th>\n",
       "    </tr>\n",
       "    <tr>\n",
       "      <th>Status</th>\n",
       "      <th></th>\n",
       "      <th></th>\n",
       "      <th></th>\n",
       "      <th></th>\n",
       "      <th></th>\n",
       "      <th></th>\n",
       "      <th></th>\n",
       "      <th></th>\n",
       "      <th></th>\n",
       "      <th></th>\n",
       "      <th></th>\n",
       "      <th></th>\n",
       "      <th></th>\n",
       "      <th></th>\n",
       "      <th></th>\n",
       "      <th></th>\n",
       "      <th></th>\n",
       "      <th></th>\n",
       "      <th></th>\n",
       "      <th></th>\n",
       "      <th></th>\n",
       "    </tr>\n",
       "  </thead>\n",
       "  <tbody>\n",
       "    <tr>\n",
       "      <th>Confirmed</th>\n",
       "      <td>6546780</td>\n",
       "      <td>3864</td>\n",
       "      <td>713014</td>\n",
       "      <td>10421</td>\n",
       "      <td>185342</td>\n",
       "      <td>186690</td>\n",
       "      <td>12360</td>\n",
       "      <td>121400</td>\n",
       "      <td>3067</td>\n",
       "      <td>0</td>\n",
       "      <td>...</td>\n",
       "      <td>117319</td>\n",
       "      <td>141846</td>\n",
       "      <td>3063</td>\n",
       "      <td>614507</td>\n",
       "      <td>196817</td>\n",
       "      <td>26549</td>\n",
       "      <td>410626</td>\n",
       "      <td>50062</td>\n",
       "      <td>266974</td>\n",
       "      <td>0</td>\n",
       "    </tr>\n",
       "    <tr>\n",
       "      <th>Deceased</th>\n",
       "      <td>101225</td>\n",
       "      <td>53</td>\n",
       "      <td>5941</td>\n",
       "      <td>18</td>\n",
       "      <td>739</td>\n",
       "      <td>912</td>\n",
       "      <td>172</td>\n",
       "      <td>1031</td>\n",
       "      <td>2</td>\n",
       "      <td>0</td>\n",
       "      <td>...</td>\n",
       "      <td>3562</td>\n",
       "      <td>1530</td>\n",
       "      <td>43</td>\n",
       "      <td>9718</td>\n",
       "      <td>1153</td>\n",
       "      <td>286</td>\n",
       "      <td>5977</td>\n",
       "      <td>648</td>\n",
       "      <td>5132</td>\n",
       "      <td>0</td>\n",
       "    </tr>\n",
       "    <tr>\n",
       "      <th>Recovered</th>\n",
       "      <td>5506714</td>\n",
       "      <td>3633</td>\n",
       "      <td>651791</td>\n",
       "      <td>7388</td>\n",
       "      <td>150773</td>\n",
       "      <td>173795</td>\n",
       "      <td>10396</td>\n",
       "      <td>91077</td>\n",
       "      <td>2925</td>\n",
       "      <td>0</td>\n",
       "      <td>...</td>\n",
       "      <td>99468</td>\n",
       "      <td>119241</td>\n",
       "      <td>2368</td>\n",
       "      <td>558534</td>\n",
       "      <td>167846</td>\n",
       "      <td>20874</td>\n",
       "      <td>356826</td>\n",
       "      <td>41095</td>\n",
       "      <td>234712</td>\n",
       "      <td>0</td>\n",
       "    </tr>\n",
       "  </tbody>\n",
       "</table>\n",
       "<p>3 rows × 39 columns</p>\n",
       "</div>"
      ],
      "text/plain": [
       "                TT    AN      AP     AR      AS      BR     CH      CT    DN  \\\n",
       "Status                                                                         \n",
       "Confirmed  6546780  3864  713014  10421  185342  186690  12360  121400  3067   \n",
       "Deceased    101225    53    5941     18     739     912    172    1031     2   \n",
       "Recovered  5506714  3633  651791   7388  150773  173795  10396   91077  2925   \n",
       "\n",
       "           DD  ...      PB      RJ    SK      TN      TG     TR      UP  \\\n",
       "Status         ...                                                        \n",
       "Confirmed   0  ...  117319  141846  3063  614507  196817  26549  410626   \n",
       "Deceased    0  ...    3562    1530    43    9718    1153    286    5977   \n",
       "Recovered   0  ...   99468  119241  2368  558534  167846  20874  356826   \n",
       "\n",
       "              UT      WB  UN  \n",
       "Status                        \n",
       "Confirmed  50062  266974   0  \n",
       "Deceased     648    5132   0  \n",
       "Recovered  41095  234712   0  \n",
       "\n",
       "[3 rows x 39 columns]"
      ]
     },
     "execution_count": 6,
     "metadata": {},
     "output_type": "execute_result"
    }
   ],
   "source": [
    "#hide\n",
    "df_today"
   ]
  },
  {
   "cell_type": "code",
   "execution_count": 7,
   "metadata": {
    "execution": {
     "iopub.execute_input": "2020-10-03T19:13:10.883252Z",
     "iopub.status.busy": "2020-10-03T19:13:10.882555Z",
     "iopub.status.idle": "2020-10-03T19:13:10.885355Z",
     "shell.execute_reply": "2020-10-03T19:13:10.885921Z"
    },
    "papermill": {
     "duration": 0.057955,
     "end_time": "2020-10-03T19:13:10.886088",
     "exception": false,
     "start_time": "2020-10-03T19:13:10.828133",
     "status": "completed"
    },
    "tags": []
   },
   "outputs": [
    {
     "data": {
      "text/html": [
       "<div>\n",
       "<style scoped>\n",
       "    .dataframe tbody tr th:only-of-type {\n",
       "        vertical-align: middle;\n",
       "    }\n",
       "\n",
       "    .dataframe tbody tr th {\n",
       "        vertical-align: top;\n",
       "    }\n",
       "\n",
       "    .dataframe thead th {\n",
       "        text-align: right;\n",
       "    }\n",
       "</style>\n",
       "<table border=\"1\" class=\"dataframe\">\n",
       "  <thead>\n",
       "    <tr style=\"text-align: right;\">\n",
       "      <th></th>\n",
       "      <th>TT</th>\n",
       "      <th>AN</th>\n",
       "      <th>AP</th>\n",
       "      <th>AR</th>\n",
       "      <th>AS</th>\n",
       "      <th>BR</th>\n",
       "      <th>CH</th>\n",
       "      <th>CT</th>\n",
       "      <th>DN</th>\n",
       "      <th>DD</th>\n",
       "      <th>...</th>\n",
       "      <th>PB</th>\n",
       "      <th>RJ</th>\n",
       "      <th>SK</th>\n",
       "      <th>TN</th>\n",
       "      <th>TG</th>\n",
       "      <th>TR</th>\n",
       "      <th>UP</th>\n",
       "      <th>UT</th>\n",
       "      <th>WB</th>\n",
       "      <th>UN</th>\n",
       "    </tr>\n",
       "    <tr>\n",
       "      <th>Status</th>\n",
       "      <th></th>\n",
       "      <th></th>\n",
       "      <th></th>\n",
       "      <th></th>\n",
       "      <th></th>\n",
       "      <th></th>\n",
       "      <th></th>\n",
       "      <th></th>\n",
       "      <th></th>\n",
       "      <th></th>\n",
       "      <th></th>\n",
       "      <th></th>\n",
       "      <th></th>\n",
       "      <th></th>\n",
       "      <th></th>\n",
       "      <th></th>\n",
       "      <th></th>\n",
       "      <th></th>\n",
       "      <th></th>\n",
       "      <th></th>\n",
       "      <th></th>\n",
       "    </tr>\n",
       "  </thead>\n",
       "  <tbody>\n",
       "    <tr>\n",
       "      <th>Confirmed</th>\n",
       "      <td>6471301</td>\n",
       "      <td>3854</td>\n",
       "      <td>706790</td>\n",
       "      <td>10220</td>\n",
       "      <td>183710</td>\n",
       "      <td>185707</td>\n",
       "      <td>12212</td>\n",
       "      <td>118790</td>\n",
       "      <td>3060</td>\n",
       "      <td>0</td>\n",
       "      <td>...</td>\n",
       "      <td>116213</td>\n",
       "      <td>139696</td>\n",
       "      <td>3024</td>\n",
       "      <td>608885</td>\n",
       "      <td>195099</td>\n",
       "      <td>26359</td>\n",
       "      <td>406995</td>\n",
       "      <td>49559</td>\n",
       "      <td>263634</td>\n",
       "      <td>0</td>\n",
       "    </tr>\n",
       "    <tr>\n",
       "      <th>Deceased</th>\n",
       "      <td>100288</td>\n",
       "      <td>53</td>\n",
       "      <td>5900</td>\n",
       "      <td>18</td>\n",
       "      <td>725</td>\n",
       "      <td>910</td>\n",
       "      <td>169</td>\n",
       "      <td>1002</td>\n",
       "      <td>2</td>\n",
       "      <td>0</td>\n",
       "      <td>...</td>\n",
       "      <td>3501</td>\n",
       "      <td>1516</td>\n",
       "      <td>41</td>\n",
       "      <td>9653</td>\n",
       "      <td>1145</td>\n",
       "      <td>283</td>\n",
       "      <td>5917</td>\n",
       "      <td>636</td>\n",
       "      <td>5070</td>\n",
       "      <td>0</td>\n",
       "    </tr>\n",
       "    <tr>\n",
       "      <th>Recovered</th>\n",
       "      <td>5425059</td>\n",
       "      <td>3622</td>\n",
       "      <td>643993</td>\n",
       "      <td>7183</td>\n",
       "      <td>148960</td>\n",
       "      <td>172364</td>\n",
       "      <td>10162</td>\n",
       "      <td>88095</td>\n",
       "      <td>2917</td>\n",
       "      <td>0</td>\n",
       "      <td>...</td>\n",
       "      <td>97777</td>\n",
       "      <td>117238</td>\n",
       "      <td>2329</td>\n",
       "      <td>552938</td>\n",
       "      <td>165844</td>\n",
       "      <td>20573</td>\n",
       "      <td>351966</td>\n",
       "      <td>40176</td>\n",
       "      <td>231699</td>\n",
       "      <td>0</td>\n",
       "    </tr>\n",
       "  </tbody>\n",
       "</table>\n",
       "<p>3 rows × 39 columns</p>\n",
       "</div>"
      ],
      "text/plain": [
       "                TT    AN      AP     AR      AS      BR     CH      CT    DN  \\\n",
       "Status                                                                         \n",
       "Confirmed  6471301  3854  706790  10220  183710  185707  12212  118790  3060   \n",
       "Deceased    100288    53    5900     18     725     910    169    1002     2   \n",
       "Recovered  5425059  3622  643993   7183  148960  172364  10162   88095  2917   \n",
       "\n",
       "           DD  ...      PB      RJ    SK      TN      TG     TR      UP  \\\n",
       "Status         ...                                                        \n",
       "Confirmed   0  ...  116213  139696  3024  608885  195099  26359  406995   \n",
       "Deceased    0  ...    3501    1516    41    9653    1145    283    5917   \n",
       "Recovered   0  ...   97777  117238  2329  552938  165844  20573  351966   \n",
       "\n",
       "              UT      WB  UN  \n",
       "Status                        \n",
       "Confirmed  49559  263634   0  \n",
       "Deceased     636    5070   0  \n",
       "Recovered  40176  231699   0  \n",
       "\n",
       "[3 rows x 39 columns]"
      ]
     },
     "execution_count": 7,
     "metadata": {},
     "output_type": "execute_result"
    }
   ],
   "source": [
    "#hide\n",
    "df_yday.head()"
   ]
  },
  {
   "cell_type": "code",
   "execution_count": 8,
   "metadata": {
    "execution": {
     "iopub.execute_input": "2020-10-03T19:13:10.928057Z",
     "iopub.status.busy": "2020-10-03T19:13:10.927331Z",
     "iopub.status.idle": "2020-10-03T19:13:10.929886Z",
     "shell.execute_reply": "2020-10-03T19:13:10.930571Z"
    },
    "papermill": {
     "duration": 0.028626,
     "end_time": "2020-10-03T19:13:10.930745",
     "exception": false,
     "start_time": "2020-10-03T19:13:10.902119",
     "status": "completed"
    },
    "tags": []
   },
   "outputs": [
    {
     "data": {
      "text/plain": [
       "{'updated': '03-Oct-20',\n",
       " 'since': '02-Oct-20',\n",
       " 'Cases': 6546780,\n",
       " 'Deaths': 101225,\n",
       " 'Recovered': 5506714,\n",
       " 'PCases': 6471301,\n",
       " 'PDeaths': 100288,\n",
       " 'PRecovered': 5425059,\n",
       " 'Cases (+)': 75479,\n",
       " 'Deaths (+)': 937,\n",
       " 'Recovered (+)': 81655}"
      ]
     },
     "execution_count": 8,
     "metadata": {},
     "output_type": "execute_result"
    }
   ],
   "source": [
    "#hide\n",
    "summary = {\n",
    "    'updated' : dt_today,\n",
    "    'since' : dt_yday,\n",
    "    'Cases' : df_today['TT'][0],\n",
    "    'Deaths' : df_today['TT'][1],\n",
    "    'Recovered' : df_today['TT'][2],\n",
    "    'PCases' : df_yday['TT'][0],\n",
    "    'PDeaths' : df_yday['TT'][1],\n",
    "    'PRecovered': df_yday['TT'][2],\n",
    "    'Cases (+)' : df_today['TT'][0] - df_yday['TT'][0],\n",
    "    'Deaths (+)' : df_today['TT'][1] - df_yday['TT'][1],\n",
    "    'Recovered (+)': df_today['TT'][2] - df_yday['TT'][2]\n",
    "}\n",
    "\n",
    "summary"
   ]
  },
  {
   "cell_type": "code",
   "execution_count": 9,
   "metadata": {
    "execution": {
     "iopub.execute_input": "2020-10-03T19:13:10.973663Z",
     "iopub.status.busy": "2020-10-03T19:13:10.972994Z",
     "iopub.status.idle": "2020-10-03T19:13:10.974941Z",
     "shell.execute_reply": "2020-10-03T19:13:10.975471Z"
    },
    "papermill": {
     "duration": 0.024675,
     "end_time": "2020-10-03T19:13:10.975632",
     "exception": false,
     "start_time": "2020-10-03T19:13:10.950957",
     "status": "completed"
    },
    "tags": []
   },
   "outputs": [],
   "source": [
    "#hide\n",
    "overview = '''\n",
    "<!-- #######  HTML!! #########-->\n",
    "<h1 style=\"color: #5e9ca0; text-align: center;\">India</h1>\n",
    "<p style=\"text-align: center;\">Last update: <strong>{update}</strong></p>\n",
    "<p style=\"text-align: center;\">Confirmed cases:</p>\n",
    "<p style=\"text-align: center;font-size:24px;\">{cases} (<span style=\"color: #ff0000;\">+{new}</span>)</p>\n",
    "<p style=\"text-align: center;\">Confirmed deaths:</p>\n",
    "<p style=\"text-align: center;font-size:24px;\">{deaths} (<span style=\"color: #ff0000;\">+{dnew}</span>)</p>\n",
    "<p style=\"text-align: center;\">Recovered cases:</p>\n",
    "<p style=\"text-align: center;font-size:24px;\">{recovered} (<span style=\"color: #00ff00;\">+{rnew}</span>)</p>\n",
    "'''"
   ]
  },
  {
   "cell_type": "code",
   "execution_count": 10,
   "metadata": {
    "execution": {
     "iopub.execute_input": "2020-10-03T19:13:11.014949Z",
     "iopub.status.busy": "2020-10-03T19:13:11.014293Z",
     "iopub.status.idle": "2020-10-03T19:13:11.017443Z",
     "shell.execute_reply": "2020-10-03T19:13:11.017984Z"
    },
    "papermill": {
     "duration": 0.026529,
     "end_time": "2020-10-03T19:13:11.018146",
     "exception": false,
     "start_time": "2020-10-03T19:13:10.991617",
     "status": "completed"
    },
    "tags": []
   },
   "outputs": [
    {
     "data": {
      "text/html": [
       "\n",
       "<!-- #######  HTML!! #########-->\n",
       "<h1 style=\"color: #5e9ca0; text-align: center;\">India</h1>\n",
       "<p style=\"text-align: center;\">Last update: <strong>03-Oct-20</strong></p>\n",
       "<p style=\"text-align: center;\">Confirmed cases:</p>\n",
       "<p style=\"text-align: center;font-size:24px;\">6546780 (<span style=\"color: #ff0000;\">+75479</span>)</p>\n",
       "<p style=\"text-align: center;\">Confirmed deaths:</p>\n",
       "<p style=\"text-align: center;font-size:24px;\">101225 (<span style=\"color: #ff0000;\">+937</span>)</p>\n",
       "<p style=\"text-align: center;\">Recovered cases:</p>\n",
       "<p style=\"text-align: center;font-size:24px;\">5506714 (<span style=\"color: #00ff00;\">+81655</span>)</p>\n"
      ],
      "text/plain": [
       "<IPython.core.display.HTML object>"
      ]
     },
     "metadata": {},
     "output_type": "display_data"
    }
   ],
   "source": [
    "#hide_input\n",
    "# Fill the above HTML with the information from the summary dictionary\n",
    "\n",
    "update = summary['updated']\n",
    "cases = summary['Cases']\n",
    "new = summary['Cases (+)']\n",
    "deaths = summary['Deaths']\n",
    "dnew = summary['Deaths (+)']\n",
    "recovered = summary['Recovered']\n",
    "rnew = summary['Recovered (+)']\n",
    "\n",
    "html = HTML(overview.format(update=update, cases=cases,new=new,deaths=deaths,dnew=dnew, recovered=recovered, rnew=rnew))\n",
    "\n",
    "display(html)"
   ]
  },
  {
   "cell_type": "code",
   "execution_count": 11,
   "metadata": {
    "execution": {
     "iopub.execute_input": "2020-10-03T19:13:11.061074Z",
     "iopub.status.busy": "2020-10-03T19:13:11.060387Z",
     "iopub.status.idle": "2020-10-03T19:13:11.068172Z",
     "shell.execute_reply": "2020-10-03T19:13:11.068829Z"
    },
    "papermill": {
     "duration": 0.034274,
     "end_time": "2020-10-03T19:13:11.069054",
     "exception": false,
     "start_time": "2020-10-03T19:13:11.034780",
     "status": "completed"
    },
    "tags": []
   },
   "outputs": [],
   "source": [
    "#hide\n",
    "df_cases = df[df['Status'] == 'Confirmed'].copy()\n",
    "df_cases.drop(columns = ['Status'], inplace=True)\n",
    "df_deaths = df[df['Status'] == 'Deceased'].copy()\n",
    "df_deaths.drop(columns = ['Status'], inplace=True)\n",
    "df_recovered = df[df['Status'] == 'Recovered'].copy()\n",
    "df_recovered.drop(columns = ['Status'], inplace=True)"
   ]
  },
  {
   "cell_type": "markdown",
   "metadata": {
    "papermill": {
     "duration": 0.018476,
     "end_time": "2020-10-03T19:13:11.105024",
     "exception": false,
     "start_time": "2020-10-03T19:13:11.086548",
     "status": "completed"
    },
    "tags": []
   },
   "source": [
    "Plot for India:"
   ]
  },
  {
   "cell_type": "code",
   "execution_count": 12,
   "metadata": {
    "execution": {
     "iopub.execute_input": "2020-10-03T19:13:11.164474Z",
     "iopub.status.busy": "2020-10-03T19:13:11.163715Z",
     "iopub.status.idle": "2020-10-03T19:13:11.466796Z",
     "shell.execute_reply": "2020-10-03T19:13:11.467388Z"
    },
    "papermill": {
     "duration": 0.344863,
     "end_time": "2020-10-03T19:13:11.467583",
     "exception": false,
     "start_time": "2020-10-03T19:13:11.122720",
     "status": "completed"
    },
    "tags": []
   },
   "outputs": [
    {
     "data": {
      "image/png": "[encoded data removed]",
      "text/plain": [
       "<Figure size 1296x432 with 1 Axes>"
      ]
     },
     "metadata": {
      "needs_background": "light"
     },
     "output_type": "display_data"
    }
   ],
   "source": [
    "#hide_input\n",
    "plt.figure(figsize = (18,6))\n",
    "plt.plot(df_cases['Date'], df_cases['TT'],'.-', alpha=0.7, color='b', label='Confirmed cases')\n",
    "plt.plot(df_recovered['Date'], df_recovered['TT'],'.-', alpha=0.7, color='g', label='Recovered')\n",
    "plt.plot(df_deaths['Date'], df_deaths['TT'],'.-', alpha=0.7, color='r', label='Deceased')\n",
    "plt.legend()\n",
    "plt.title(\"Cases per day in India\")\n",
    "plt.xticks(ticks=' ')\n",
    "plt.xlabel(f'{df_cases.iloc[0][0]} to {df_cases.iloc[-1][0]}')\n",
    "plt.ylabel('No. of cases');"
   ]
  },
  {
   "cell_type": "markdown",
   "metadata": {
    "papermill": {
     "duration": 0.020729,
     "end_time": "2020-10-03T19:13:11.509717",
     "exception": false,
     "start_time": "2020-10-03T19:13:11.488988",
     "status": "completed"
    },
    "tags": []
   },
   "source": [
    "Plots for the states with highest number of cases:"
   ]
  },
  {
   "cell_type": "code",
   "execution_count": 13,
   "metadata": {
    "execution": {
     "iopub.execute_input": "2020-10-03T19:13:11.560438Z",
     "iopub.status.busy": "2020-10-03T19:13:11.559716Z",
     "iopub.status.idle": "2020-10-03T19:13:12.321262Z",
     "shell.execute_reply": "2020-10-03T19:13:12.320596Z"
    },
    "papermill": {
     "duration": 0.791769,
     "end_time": "2020-10-03T19:13:12.321426",
     "exception": false,
     "start_time": "2020-10-03T19:13:11.529657",
     "status": "completed"
    },
    "tags": []
   },
   "outputs": [
    {
     "data": {
      "image/png": "[encoded data removed]",
      "text/plain": [
       "<Figure size 1512x432 with 3 Axes>"
      ]
     },
     "metadata": {
      "needs_background": "light"
     },
     "output_type": "display_data"
    }
   ],
   "source": [
    "#hide_input\n",
    "top_3 = sorted(df_cases.sum().values[1:], reverse=True)[1:4]\n",
    "top3_states=[]\n",
    "for i in top_3:\n",
    "    top3_states.append(df_cases.sum()[df_cases.sum() == i].index)\n",
    "\n",
    "\n",
    "fig, ax = plt.subplots(1,3,figsize = (21,6))\n",
    "for i in range(3):\n",
    "    state = top3_states[i].values[0]\n",
    "    ax[i].plot(df_cases['Date'], df_cases[state],'.-', color='b', alpha=0.7)\n",
    "    ax[i].plot(df_deaths['Date'], df_deaths[state],'.-', color='r', alpha=0.7)\n",
    "    ax[i].plot(df_recovered['Date'], df_recovered[state],'.-', color='g', alpha=0.7)\n",
    "    \n",
    "    ax[i].set_title(f\"Cases in {state}\")\n",
    "    ax[i].set_xticks(ticks=' ')\n",
    "    ax[i].set_xlabel(f'{df_cases.iloc[0][0]} to {df_cases.iloc[-1][0]}')\n",
    "    ax[i].set_ylabel('No. of cases');"
   ]
  },
  {
   "cell_type": "code",
   "execution_count": null,
   "metadata": {
    "papermill": {
     "duration": 0.023186,
     "end_time": "2020-10-03T19:13:12.367471",
     "exception": false,
     "start_time": "2020-10-03T19:13:12.344285",
     "status": "completed"
    },
    "tags": []
   },
   "outputs": [],
   "source": []
  },
  {
   "cell_type": "code",
   "execution_count": null,
   "metadata": {
    "papermill": {
     "duration": 0.02261,
     "end_time": "2020-10-03T19:13:12.411860",
     "exception": false,
     "start_time": "2020-10-03T19:13:12.389250",
     "status": "completed"
    },
    "tags": []
   },
   "outputs": [],
   "source": []
  },
  {
   "cell_type": "code",
   "execution_count": null,
   "metadata": {
    "papermill": {
     "duration": 0.023069,
     "end_time": "2020-10-03T19:13:12.456960",
     "exception": false,
     "start_time": "2020-10-03T19:13:12.433891",
     "status": "completed"
    },
    "tags": []
   },
   "outputs": [],
   "source": []
  }
 ],
 "metadata": {
  "kernelspec": {
   "display_name": "Python 3",
   "language": "python",
   "name": "python3"
  },
  "language_info": {
   "codemirror_mode": {
    "name": "ipython",
    "version": 3
   },
   "file_extension": ".py",
   "mimetype": "text/x-python",
   "name": "python",
   "nbconvert_exporter": "python",
   "pygments_lexer": "ipython3",
   "version": "3.6.12"
  },
  "papermill": {
   "duration": 4.780066,
   "end_time": "2020-10-03T19:13:12.889945",
   "environment_variables": {},
   "exception": null,
   "input_path": "2020-08-09-DailyUpdate.ipynb",
   "output_path": "2020-08-09-DailyUpdate.ipynb",
   "parameters": {},
   "start_time": "2020-10-03T19:13:08.109879",
   "version": "2.1.2"
  }
 },
 "nbformat": 4,
 "nbformat_minor": 4
}