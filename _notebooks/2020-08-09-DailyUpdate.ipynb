{
 "cells": [
  {
   "cell_type": "markdown",
   "metadata": {
    "papermill": {
     "duration": 0.018301,
     "end_time": "2020-09-06T19:12:56.646250",
     "exception": false,
     "start_time": "2020-09-06T19:12:56.627949",
     "status": "completed"
    },
    "tags": []
   },
   "source": [
    "# COVID-19 India Daily updates\n",
    "> Tracking coronavirus total cases, deaths and new cases in India on a daily basis\n",
    "\n",
    "- author: Vaibhav Mahapatra"
   ]
  },
  {
   "cell_type": "code",
   "execution_count": 1,
   "metadata": {
    "execution": {
     "iopub.execute_input": "2020-09-06T19:12:56.683335Z",
     "iopub.status.busy": "2020-09-06T19:12:56.682604Z",
     "iopub.status.idle": "2020-09-06T19:12:57.380412Z",
     "shell.execute_reply": "2020-09-06T19:12:57.379739Z"
    },
    "papermill": {
     "duration": 0.71931,
     "end_time": "2020-09-06T19:12:57.380591",
     "exception": false,
     "start_time": "2020-09-06T19:12:56.661281",
     "status": "completed"
    },
    "tags": []
   },
   "outputs": [],
   "source": [
    "#hide\n",
    "\n",
    "## Import essential packages below\n",
    "\n",
    "import pandas as pd\n",
    "import numpy as np\n",
    "import requests\n",
    "import json\n",
    "import matplotlib.pyplot as plt\n",
    "import matplotlib.dates as mdates\n",
    "import matplotlib as mpl\n",
    "from IPython.core.display import display,HTML\n",
    "%matplotlib inline"
   ]
  },
  {
   "cell_type": "code",
   "execution_count": 2,
   "metadata": {
    "execution": {
     "iopub.execute_input": "2020-09-06T19:12:57.417461Z",
     "iopub.status.busy": "2020-09-06T19:12:57.416728Z",
     "iopub.status.idle": "2020-09-06T19:12:57.534476Z",
     "shell.execute_reply": "2020-09-06T19:12:57.534983Z"
    },
    "papermill": {
     "duration": 0.139394,
     "end_time": "2020-09-06T19:12:57.535159",
     "exception": false,
     "start_time": "2020-09-06T19:12:57.395765",
     "status": "completed"
    },
    "tags": []
   },
   "outputs": [
    {
     "data": {
      "text/plain": [
       "(531, 41)"
      ]
     },
     "execution_count": 2,
     "metadata": {},
     "output_type": "execute_result"
    }
   ],
   "source": [
    "#hide\n",
    "url = 'https://api.covid19india.org/csv/latest/state_wise_daily.csv'\n",
    "df = pd.read_csv(url)\n",
    "df.shape"
   ]
  },
  {
   "cell_type": "code",
   "execution_count": 3,
   "metadata": {
    "execution": {
     "iopub.execute_input": "2020-09-06T19:12:57.624854Z",
     "iopub.status.busy": "2020-09-06T19:12:57.624170Z",
     "iopub.status.idle": "2020-09-06T19:12:57.636719Z",
     "shell.execute_reply": "2020-09-06T19:12:57.637223Z"
    },
    "papermill": {
     "duration": 0.088302,
     "end_time": "2020-09-06T19:12:57.637401",
     "exception": false,
     "start_time": "2020-09-06T19:12:57.549099",
     "status": "completed"
    },
    "tags": []
   },
   "outputs": [
    {
     "data": {
      "text/html": [
       "<div>\n",
       "<style scoped>\n",
       "    .dataframe tbody tr th:only-of-type {\n",
       "        vertical-align: middle;\n",
       "    }\n",
       "\n",
       "    .dataframe tbody tr th {\n",
       "        vertical-align: top;\n",
       "    }\n",
       "\n",
       "    .dataframe thead th {\n",
       "        text-align: right;\n",
       "    }\n",
       "</style>\n",
       "<table border=\"1\" class=\"dataframe\">\n",
       "  <thead>\n",
       "    <tr style=\"text-align: right;\">\n",
       "      <th></th>\n",
       "      <th>Date</th>\n",
       "      <th>Status</th>\n",
       "      <th>TT</th>\n",
       "      <th>AN</th>\n",
       "      <th>AP</th>\n",
       "      <th>AR</th>\n",
       "      <th>AS</th>\n",
       "      <th>BR</th>\n",
       "      <th>CH</th>\n",
       "      <th>CT</th>\n",
       "      <th>...</th>\n",
       "      <th>PB</th>\n",
       "      <th>RJ</th>\n",
       "      <th>SK</th>\n",
       "      <th>TN</th>\n",
       "      <th>TG</th>\n",
       "      <th>TR</th>\n",
       "      <th>UP</th>\n",
       "      <th>UT</th>\n",
       "      <th>WB</th>\n",
       "      <th>UN</th>\n",
       "    </tr>\n",
       "  </thead>\n",
       "  <tbody>\n",
       "    <tr>\n",
       "      <th>525</th>\n",
       "      <td>05-Sep-20</td>\n",
       "      <td>Confirmed</td>\n",
       "      <td>90600</td>\n",
       "      <td>35</td>\n",
       "      <td>10825</td>\n",
       "      <td>139</td>\n",
       "      <td>2698</td>\n",
       "      <td>1727</td>\n",
       "      <td>234</td>\n",
       "      <td>2529</td>\n",
       "      <td>...</td>\n",
       "      <td>1514</td>\n",
       "      <td>1566</td>\n",
       "      <td>58</td>\n",
       "      <td>5870</td>\n",
       "      <td>2511</td>\n",
       "      <td>691</td>\n",
       "      <td>6590</td>\n",
       "      <td>950</td>\n",
       "      <td>3042</td>\n",
       "      <td>0</td>\n",
       "    </tr>\n",
       "    <tr>\n",
       "      <th>526</th>\n",
       "      <td>05-Sep-20</td>\n",
       "      <td>Recovered</td>\n",
       "      <td>73161</td>\n",
       "      <td>41</td>\n",
       "      <td>11941</td>\n",
       "      <td>101</td>\n",
       "      <td>2343</td>\n",
       "      <td>1965</td>\n",
       "      <td>185</td>\n",
       "      <td>879</td>\n",
       "      <td>...</td>\n",
       "      <td>1306</td>\n",
       "      <td>1346</td>\n",
       "      <td>26</td>\n",
       "      <td>5859</td>\n",
       "      <td>2579</td>\n",
       "      <td>271</td>\n",
       "      <td>5141</td>\n",
       "      <td>535</td>\n",
       "      <td>3248</td>\n",
       "      <td>0</td>\n",
       "    </tr>\n",
       "    <tr>\n",
       "      <th>527</th>\n",
       "      <td>05-Sep-20</td>\n",
       "      <td>Deceased</td>\n",
       "      <td>916</td>\n",
       "      <td>1</td>\n",
       "      <td>71</td>\n",
       "      <td>0</td>\n",
       "      <td>7</td>\n",
       "      <td>9</td>\n",
       "      <td>1</td>\n",
       "      <td>19</td>\n",
       "      <td>...</td>\n",
       "      <td>69</td>\n",
       "      <td>14</td>\n",
       "      <td>0</td>\n",
       "      <td>64</td>\n",
       "      <td>11</td>\n",
       "      <td>7</td>\n",
       "      <td>81</td>\n",
       "      <td>18</td>\n",
       "      <td>58</td>\n",
       "      <td>0</td>\n",
       "    </tr>\n",
       "    <tr>\n",
       "      <th>528</th>\n",
       "      <td>06-Sep-20</td>\n",
       "      <td>Confirmed</td>\n",
       "      <td>91707</td>\n",
       "      <td>40</td>\n",
       "      <td>10794</td>\n",
       "      <td>71</td>\n",
       "      <td>1537</td>\n",
       "      <td>1797</td>\n",
       "      <td>261</td>\n",
       "      <td>2100</td>\n",
       "      <td>...</td>\n",
       "      <td>1946</td>\n",
       "      <td>1593</td>\n",
       "      <td>9</td>\n",
       "      <td>5783</td>\n",
       "      <td>2574</td>\n",
       "      <td>603</td>\n",
       "      <td>6518</td>\n",
       "      <td>668</td>\n",
       "      <td>3087</td>\n",
       "      <td>0</td>\n",
       "    </tr>\n",
       "    <tr>\n",
       "      <th>529</th>\n",
       "      <td>06-Sep-20</td>\n",
       "      <td>Recovered</td>\n",
       "      <td>69624</td>\n",
       "      <td>47</td>\n",
       "      <td>11915</td>\n",
       "      <td>91</td>\n",
       "      <td>1763</td>\n",
       "      <td>1924</td>\n",
       "      <td>149</td>\n",
       "      <td>711</td>\n",
       "      <td>...</td>\n",
       "      <td>1606</td>\n",
       "      <td>1616</td>\n",
       "      <td>24</td>\n",
       "      <td>5820</td>\n",
       "      <td>2927</td>\n",
       "      <td>262</td>\n",
       "      <td>4779</td>\n",
       "      <td>591</td>\n",
       "      <td>3207</td>\n",
       "      <td>0</td>\n",
       "    </tr>\n",
       "    <tr>\n",
       "      <th>530</th>\n",
       "      <td>06-Sep-20</td>\n",
       "      <td>Deceased</td>\n",
       "      <td>1008</td>\n",
       "      <td>0</td>\n",
       "      <td>70</td>\n",
       "      <td>0</td>\n",
       "      <td>8</td>\n",
       "      <td>4</td>\n",
       "      <td>2</td>\n",
       "      <td>24</td>\n",
       "      <td>...</td>\n",
       "      <td>54</td>\n",
       "      <td>15</td>\n",
       "      <td>0</td>\n",
       "      <td>88</td>\n",
       "      <td>9</td>\n",
       "      <td>8</td>\n",
       "      <td>77</td>\n",
       "      <td>11</td>\n",
       "      <td>52</td>\n",
       "      <td>0</td>\n",
       "    </tr>\n",
       "  </tbody>\n",
       "</table>\n",
       "<p>6 rows × 41 columns</p>\n",
       "</div>"
      ],
      "text/plain": [
       "          Date     Status     TT  AN     AP   AR    AS    BR   CH    CT  ...  \\\n",
       "525  05-Sep-20  Confirmed  90600  35  10825  139  2698  1727  234  2529  ...   \n",
       "526  05-Sep-20  Recovered  73161  41  11941  101  2343  1965  185   879  ...   \n",
       "527  05-Sep-20   Deceased    916   1     71    0     7     9    1    19  ...   \n",
       "528  06-Sep-20  Confirmed  91707  40  10794   71  1537  1797  261  2100  ...   \n",
       "529  06-Sep-20  Recovered  69624  47  11915   91  1763  1924  149   711  ...   \n",
       "530  06-Sep-20   Deceased   1008   0     70    0     8     4    2    24  ...   \n",
       "\n",
       "       PB    RJ  SK    TN    TG   TR    UP   UT    WB  UN  \n",
       "525  1514  1566  58  5870  2511  691  6590  950  3042   0  \n",
       "526  1306  1346  26  5859  2579  271  5141  535  3248   0  \n",
       "527    69    14   0    64    11    7    81   18    58   0  \n",
       "528  1946  1593   9  5783  2574  603  6518  668  3087   0  \n",
       "529  1606  1616  24  5820  2927  262  4779  591  3207   0  \n",
       "530    54    15   0    88     9    8    77   11    52   0  \n",
       "\n",
       "[6 rows x 41 columns]"
      ]
     },
     "execution_count": 3,
     "metadata": {},
     "output_type": "execute_result"
    }
   ],
   "source": [
    "#hide\n",
    "df.tail(6)"
   ]
  },
  {
   "cell_type": "code",
   "execution_count": 4,
   "metadata": {
    "execution": {
     "iopub.execute_input": "2020-09-06T19:12:57.672457Z",
     "iopub.status.busy": "2020-09-06T19:12:57.671775Z",
     "iopub.status.idle": "2020-09-06T19:12:57.675230Z",
     "shell.execute_reply": "2020-09-06T19:12:57.674677Z"
    },
    "papermill": {
     "duration": 0.023373,
     "end_time": "2020-09-06T19:12:57.675374",
     "exception": false,
     "start_time": "2020-09-06T19:12:57.652001",
     "status": "completed"
    },
    "tags": []
   },
   "outputs": [
    {
     "data": {
      "text/plain": [
       "('06-Sep-20', '05-Sep-20')"
      ]
     },
     "execution_count": 4,
     "metadata": {},
     "output_type": "execute_result"
    }
   ],
   "source": [
    "#hide\n",
    "dt_today = df.iloc[-1][0]\n",
    "dt_yday = df.iloc[-4][0]\n",
    "dt_today, dt_yday"
   ]
  },
  {
   "cell_type": "code",
   "execution_count": 5,
   "metadata": {
    "execution": {
     "iopub.execute_input": "2020-09-06T19:12:57.712031Z",
     "iopub.status.busy": "2020-09-06T19:12:57.711363Z",
     "iopub.status.idle": "2020-09-06T19:12:57.717692Z",
     "shell.execute_reply": "2020-09-06T19:12:57.718315Z"
    },
    "papermill": {
     "duration": 0.028107,
     "end_time": "2020-09-06T19:12:57.718484",
     "exception": false,
     "start_time": "2020-09-06T19:12:57.690377",
     "status": "completed"
    },
    "tags": []
   },
   "outputs": [],
   "source": [
    "#hide\n",
    "df_today = df.groupby('Status').sum()\n",
    "df_yday = df.iloc[:-3][:].groupby('Status').sum()"
   ]
  },
  {
   "cell_type": "code",
   "execution_count": 6,
   "metadata": {
    "execution": {
     "iopub.execute_input": "2020-09-06T19:12:57.767897Z",
     "iopub.status.busy": "2020-09-06T19:12:57.767143Z",
     "iopub.status.idle": "2020-09-06T19:12:57.769871Z",
     "shell.execute_reply": "2020-09-06T19:12:57.770450Z"
    },
    "papermill": {
     "duration": 0.036484,
     "end_time": "2020-09-06T19:12:57.770637",
     "exception": false,
     "start_time": "2020-09-06T19:12:57.734153",
     "status": "completed"
    },
    "tags": []
   },
   "outputs": [
    {
     "data": {
      "text/html": [
       "<div>\n",
       "<style scoped>\n",
       "    .dataframe tbody tr th:only-of-type {\n",
       "        vertical-align: middle;\n",
       "    }\n",
       "\n",
       "    .dataframe tbody tr th {\n",
       "        vertical-align: top;\n",
       "    }\n",
       "\n",
       "    .dataframe thead th {\n",
       "        text-align: right;\n",
       "    }\n",
       "</style>\n",
       "<table border=\"1\" class=\"dataframe\">\n",
       "  <thead>\n",
       "    <tr style=\"text-align: right;\">\n",
       "      <th></th>\n",
       "      <th>TT</th>\n",
       "      <th>AN</th>\n",
       "      <th>AP</th>\n",
       "      <th>AR</th>\n",
       "      <th>AS</th>\n",
       "      <th>BR</th>\n",
       "      <th>CH</th>\n",
       "      <th>CT</th>\n",
       "      <th>DN</th>\n",
       "      <th>DD</th>\n",
       "      <th>...</th>\n",
       "      <th>PB</th>\n",
       "      <th>RJ</th>\n",
       "      <th>SK</th>\n",
       "      <th>TN</th>\n",
       "      <th>TG</th>\n",
       "      <th>TR</th>\n",
       "      <th>UP</th>\n",
       "      <th>UT</th>\n",
       "      <th>WB</th>\n",
       "      <th>UN</th>\n",
       "    </tr>\n",
       "    <tr>\n",
       "      <th>Status</th>\n",
       "      <th></th>\n",
       "      <th></th>\n",
       "      <th></th>\n",
       "      <th></th>\n",
       "      <th></th>\n",
       "      <th></th>\n",
       "      <th></th>\n",
       "      <th></th>\n",
       "      <th></th>\n",
       "      <th></th>\n",
       "      <th></th>\n",
       "      <th></th>\n",
       "      <th></th>\n",
       "      <th></th>\n",
       "      <th></th>\n",
       "      <th></th>\n",
       "      <th></th>\n",
       "      <th></th>\n",
       "      <th></th>\n",
       "      <th></th>\n",
       "      <th></th>\n",
       "    </tr>\n",
       "  </thead>\n",
       "  <tbody>\n",
       "    <tr>\n",
       "      <th>Confirmed</th>\n",
       "      <td>4201918</td>\n",
       "      <td>3328</td>\n",
       "      <td>498125</td>\n",
       "      <td>4985</td>\n",
       "      <td>125358</td>\n",
       "      <td>147658</td>\n",
       "      <td>5763</td>\n",
       "      <td>45263</td>\n",
       "      <td>2569</td>\n",
       "      <td>0</td>\n",
       "      <td>...</td>\n",
       "      <td>63473</td>\n",
       "      <td>90956</td>\n",
       "      <td>1923</td>\n",
       "      <td>463480</td>\n",
       "      <td>140459</td>\n",
       "      <td>15127</td>\n",
       "      <td>266283</td>\n",
       "      <td>24629</td>\n",
       "      <td>180788</td>\n",
       "      <td>0</td>\n",
       "    </tr>\n",
       "    <tr>\n",
       "      <th>Deceased</th>\n",
       "      <td>71102</td>\n",
       "      <td>50</td>\n",
       "      <td>4417</td>\n",
       "      <td>8</td>\n",
       "      <td>364</td>\n",
       "      <td>754</td>\n",
       "      <td>71</td>\n",
       "      <td>380</td>\n",
       "      <td>2</td>\n",
       "      <td>0</td>\n",
       "      <td>...</td>\n",
       "      <td>1862</td>\n",
       "      <td>1137</td>\n",
       "      <td>5</td>\n",
       "      <td>7839</td>\n",
       "      <td>886</td>\n",
       "      <td>144</td>\n",
       "      <td>3920</td>\n",
       "      <td>341</td>\n",
       "      <td>3562</td>\n",
       "      <td>0</td>\n",
       "    </tr>\n",
       "    <tr>\n",
       "      <th>Recovered</th>\n",
       "      <td>3247290</td>\n",
       "      <td>2942</td>\n",
       "      <td>394019</td>\n",
       "      <td>3472</td>\n",
       "      <td>96824</td>\n",
       "      <td>130300</td>\n",
       "      <td>3439</td>\n",
       "      <td>21198</td>\n",
       "      <td>2251</td>\n",
       "      <td>0</td>\n",
       "      <td>...</td>\n",
       "      <td>45455</td>\n",
       "      <td>74861</td>\n",
       "      <td>1372</td>\n",
       "      <td>404186</td>\n",
       "      <td>107530</td>\n",
       "      <td>8745</td>\n",
       "      <td>200738</td>\n",
       "      <td>16573</td>\n",
       "      <td>154008</td>\n",
       "      <td>0</td>\n",
       "    </tr>\n",
       "  </tbody>\n",
       "</table>\n",
       "<p>3 rows × 39 columns</p>\n",
       "</div>"
      ],
      "text/plain": [
       "                TT    AN      AP    AR      AS      BR    CH     CT    DN  DD  \\\n",
       "Status                                                                          \n",
       "Confirmed  4201918  3328  498125  4985  125358  147658  5763  45263  2569   0   \n",
       "Deceased     71102    50    4417     8     364     754    71    380     2   0   \n",
       "Recovered  3247290  2942  394019  3472   96824  130300  3439  21198  2251   0   \n",
       "\n",
       "           ...     PB     RJ    SK      TN      TG     TR      UP     UT  \\\n",
       "Status     ...                                                             \n",
       "Confirmed  ...  63473  90956  1923  463480  140459  15127  266283  24629   \n",
       "Deceased   ...   1862   1137     5    7839     886    144    3920    341   \n",
       "Recovered  ...  45455  74861  1372  404186  107530   8745  200738  16573   \n",
       "\n",
       "               WB  UN  \n",
       "Status                 \n",
       "Confirmed  180788   0  \n",
       "Deceased     3562   0  \n",
       "Recovered  154008   0  \n",
       "\n",
       "[3 rows x 39 columns]"
      ]
     },
     "execution_count": 6,
     "metadata": {},
     "output_type": "execute_result"
    }
   ],
   "source": [
    "#hide\n",
    "df_today"
   ]
  },
  {
   "cell_type": "code",
   "execution_count": 7,
   "metadata": {
    "execution": {
     "iopub.execute_input": "2020-09-06T19:12:57.823633Z",
     "iopub.status.busy": "2020-09-06T19:12:57.822843Z",
     "iopub.status.idle": "2020-09-06T19:12:57.827391Z",
     "shell.execute_reply": "2020-09-06T19:12:57.828001Z"
    },
    "papermill": {
     "duration": 0.040089,
     "end_time": "2020-09-06T19:12:57.828194",
     "exception": false,
     "start_time": "2020-09-06T19:12:57.788105",
     "status": "completed"
    },
    "tags": []
   },
   "outputs": [
    {
     "data": {
      "text/html": [
       "<div>\n",
       "<style scoped>\n",
       "    .dataframe tbody tr th:only-of-type {\n",
       "        vertical-align: middle;\n",
       "    }\n",
       "\n",
       "    .dataframe tbody tr th {\n",
       "        vertical-align: top;\n",
       "    }\n",
       "\n",
       "    .dataframe thead th {\n",
       "        text-align: right;\n",
       "    }\n",
       "</style>\n",
       "<table border=\"1\" class=\"dataframe\">\n",
       "  <thead>\n",
       "    <tr style=\"text-align: right;\">\n",
       "      <th></th>\n",
       "      <th>TT</th>\n",
       "      <th>AN</th>\n",
       "      <th>AP</th>\n",
       "      <th>AR</th>\n",
       "      <th>AS</th>\n",
       "      <th>BR</th>\n",
       "      <th>CH</th>\n",
       "      <th>CT</th>\n",
       "      <th>DN</th>\n",
       "      <th>DD</th>\n",
       "      <th>...</th>\n",
       "      <th>PB</th>\n",
       "      <th>RJ</th>\n",
       "      <th>SK</th>\n",
       "      <th>TN</th>\n",
       "      <th>TG</th>\n",
       "      <th>TR</th>\n",
       "      <th>UP</th>\n",
       "      <th>UT</th>\n",
       "      <th>WB</th>\n",
       "      <th>UN</th>\n",
       "    </tr>\n",
       "    <tr>\n",
       "      <th>Status</th>\n",
       "      <th></th>\n",
       "      <th></th>\n",
       "      <th></th>\n",
       "      <th></th>\n",
       "      <th></th>\n",
       "      <th></th>\n",
       "      <th></th>\n",
       "      <th></th>\n",
       "      <th></th>\n",
       "      <th></th>\n",
       "      <th></th>\n",
       "      <th></th>\n",
       "      <th></th>\n",
       "      <th></th>\n",
       "      <th></th>\n",
       "      <th></th>\n",
       "      <th></th>\n",
       "      <th></th>\n",
       "      <th></th>\n",
       "      <th></th>\n",
       "      <th></th>\n",
       "    </tr>\n",
       "  </thead>\n",
       "  <tbody>\n",
       "    <tr>\n",
       "      <th>Confirmed</th>\n",
       "      <td>4110211</td>\n",
       "      <td>3288</td>\n",
       "      <td>487331</td>\n",
       "      <td>4914</td>\n",
       "      <td>123821</td>\n",
       "      <td>145861</td>\n",
       "      <td>5502</td>\n",
       "      <td>43163</td>\n",
       "      <td>2533</td>\n",
       "      <td>0</td>\n",
       "      <td>...</td>\n",
       "      <td>61527</td>\n",
       "      <td>89363</td>\n",
       "      <td>1914</td>\n",
       "      <td>457697</td>\n",
       "      <td>137885</td>\n",
       "      <td>14524</td>\n",
       "      <td>259765</td>\n",
       "      <td>23961</td>\n",
       "      <td>177701</td>\n",
       "      <td>0</td>\n",
       "    </tr>\n",
       "    <tr>\n",
       "      <th>Deceased</th>\n",
       "      <td>70094</td>\n",
       "      <td>50</td>\n",
       "      <td>4347</td>\n",
       "      <td>8</td>\n",
       "      <td>356</td>\n",
       "      <td>750</td>\n",
       "      <td>69</td>\n",
       "      <td>356</td>\n",
       "      <td>2</td>\n",
       "      <td>0</td>\n",
       "      <td>...</td>\n",
       "      <td>1808</td>\n",
       "      <td>1122</td>\n",
       "      <td>5</td>\n",
       "      <td>7751</td>\n",
       "      <td>877</td>\n",
       "      <td>136</td>\n",
       "      <td>3843</td>\n",
       "      <td>330</td>\n",
       "      <td>3510</td>\n",
       "      <td>0</td>\n",
       "    </tr>\n",
       "    <tr>\n",
       "      <th>Recovered</th>\n",
       "      <td>3177666</td>\n",
       "      <td>2895</td>\n",
       "      <td>382104</td>\n",
       "      <td>3381</td>\n",
       "      <td>95061</td>\n",
       "      <td>128376</td>\n",
       "      <td>3290</td>\n",
       "      <td>20487</td>\n",
       "      <td>2230</td>\n",
       "      <td>0</td>\n",
       "      <td>...</td>\n",
       "      <td>43849</td>\n",
       "      <td>73245</td>\n",
       "      <td>1348</td>\n",
       "      <td>398366</td>\n",
       "      <td>104603</td>\n",
       "      <td>8483</td>\n",
       "      <td>195959</td>\n",
       "      <td>15982</td>\n",
       "      <td>150801</td>\n",
       "      <td>0</td>\n",
       "    </tr>\n",
       "  </tbody>\n",
       "</table>\n",
       "<p>3 rows × 39 columns</p>\n",
       "</div>"
      ],
      "text/plain": [
       "                TT    AN      AP    AR      AS      BR    CH     CT    DN  DD  \\\n",
       "Status                                                                          \n",
       "Confirmed  4110211  3288  487331  4914  123821  145861  5502  43163  2533   0   \n",
       "Deceased     70094    50    4347     8     356     750    69    356     2   0   \n",
       "Recovered  3177666  2895  382104  3381   95061  128376  3290  20487  2230   0   \n",
       "\n",
       "           ...     PB     RJ    SK      TN      TG     TR      UP     UT  \\\n",
       "Status     ...                                                             \n",
       "Confirmed  ...  61527  89363  1914  457697  137885  14524  259765  23961   \n",
       "Deceased   ...   1808   1122     5    7751     877    136    3843    330   \n",
       "Recovered  ...  43849  73245  1348  398366  104603   8483  195959  15982   \n",
       "\n",
       "               WB  UN  \n",
       "Status                 \n",
       "Confirmed  177701   0  \n",
       "Deceased     3510   0  \n",
       "Recovered  150801   0  \n",
       "\n",
       "[3 rows x 39 columns]"
      ]
     },
     "execution_count": 7,
     "metadata": {},
     "output_type": "execute_result"
    }
   ],
   "source": [
    "#hide\n",
    "df_yday.head()"
   ]
  },
  {
   "cell_type": "code",
   "execution_count": 8,
   "metadata": {
    "execution": {
     "iopub.execute_input": "2020-09-06T19:12:57.870121Z",
     "iopub.status.busy": "2020-09-06T19:12:57.869373Z",
     "iopub.status.idle": "2020-09-06T19:12:57.878432Z",
     "shell.execute_reply": "2020-09-06T19:12:57.878987Z"
    },
    "papermill": {
     "duration": 0.033182,
     "end_time": "2020-09-06T19:12:57.879179",
     "exception": false,
     "start_time": "2020-09-06T19:12:57.845997",
     "status": "completed"
    },
    "tags": []
   },
   "outputs": [
    {
     "data": {
      "text/plain": [
       "{'updated': '06-Sep-20',\n",
       " 'since': '05-Sep-20',\n",
       " 'Cases': 4201918,\n",
       " 'Deaths': 71102,\n",
       " 'Recovered': 3247290,\n",
       " 'PCases': 4110211,\n",
       " 'PDeaths': 70094,\n",
       " 'PRecovered': 3177666,\n",
       " 'Cases (+)': 91707,\n",
       " 'Deaths (+)': 1008,\n",
       " 'Recovered (+)': 69624}"
      ]
     },
     "execution_count": 8,
     "metadata": {},
     "output_type": "execute_result"
    }
   ],
   "source": [
    "#hide\n",
    "summary = {\n",
    "    'updated' : dt_today,\n",
    "    'since' : dt_yday,\n",
    "    'Cases' : df_today['TT'][0],\n",
    "    'Deaths' : df_today['TT'][1],\n",
    "    'Recovered' : df_today['TT'][2],\n",
    "    'PCases' : df_yday['TT'][0],\n",
    "    'PDeaths' : df_yday['TT'][1],\n",
    "    'PRecovered': df_yday['TT'][2],\n",
    "    'Cases (+)' : df_today['TT'][0] - df_yday['TT'][0],\n",
    "    'Deaths (+)' : df_today['TT'][1] - df_yday['TT'][1],\n",
    "    'Recovered (+)': df_today['TT'][2] - df_yday['TT'][2]\n",
    "}\n",
    "\n",
    "summary"
   ]
  },
  {
   "cell_type": "code",
   "execution_count": 9,
   "metadata": {
    "execution": {
     "iopub.execute_input": "2020-09-06T19:12:58.318466Z",
     "iopub.status.busy": "2020-09-06T19:12:58.317716Z",
     "iopub.status.idle": "2020-09-06T19:12:58.320400Z",
     "shell.execute_reply": "2020-09-06T19:12:58.319747Z"
    },
    "papermill": {
     "duration": 0.024078,
     "end_time": "2020-09-06T19:12:58.320550",
     "exception": false,
     "start_time": "2020-09-06T19:12:58.296472",
     "status": "completed"
    },
    "tags": []
   },
   "outputs": [],
   "source": [
    "#hide\n",
    "overview = '''\n",
    "<!-- #######  HTML!! #########-->\n",
    "<h1 style=\"color: #5e9ca0; text-align: center;\">India</h1>\n",
    "<p style=\"text-align: center;\">Last update: <strong>{update}</strong></p>\n",
    "<p style=\"text-align: center;\">Confirmed cases:</p>\n",
    "<p style=\"text-align: center;font-size:24px;\">{cases} (<span style=\"color: #ff0000;\">+{new}</span>)</p>\n",
    "<p style=\"text-align: center;\">Confirmed deaths:</p>\n",
    "<p style=\"text-align: center;font-size:24px;\">{deaths} (<span style=\"color: #ff0000;\">+{dnew}</span>)</p>\n",
    "<p style=\"text-align: center;\">Recovered cases:</p>\n",
    "<p style=\"text-align: center;font-size:24px;\">{recovered} (<span style=\"color: #00ff00;\">+{rnew}</span>)</p>\n",
    "'''"
   ]
  },
  {
   "cell_type": "code",
   "execution_count": 10,
   "metadata": {
    "execution": {
     "iopub.execute_input": "2020-09-06T19:12:58.382915Z",
     "iopub.status.busy": "2020-09-06T19:12:58.382164Z",
     "iopub.status.idle": "2020-09-06T19:12:58.385803Z",
     "shell.execute_reply": "2020-09-06T19:12:58.385191Z"
    },
    "papermill": {
     "duration": 0.028791,
     "end_time": "2020-09-06T19:12:58.385950",
     "exception": false,
     "start_time": "2020-09-06T19:12:58.357159",
     "status": "completed"
    },
    "tags": []
   },
   "outputs": [
    {
     "data": {
      "text/html": [
       "\n",
       "<!-- #######  HTML!! #########-->\n",
       "<h1 style=\"color: #5e9ca0; text-align: center;\">India</h1>\n",
       "<p style=\"text-align: center;\">Last update: <strong>06-Sep-20</strong></p>\n",
       "<p style=\"text-align: center;\">Confirmed cases:</p>\n",
       "<p style=\"text-align: center;font-size:24px;\">4201918 (<span style=\"color: #ff0000;\">+91707</span>)</p>\n",
       "<p style=\"text-align: center;\">Confirmed deaths:</p>\n",
       "<p style=\"text-align: center;font-size:24px;\">71102 (<span style=\"color: #ff0000;\">+1008</span>)</p>\n",
       "<p style=\"text-align: center;\">Recovered cases:</p>\n",
       "<p style=\"text-align: center;font-size:24px;\">3247290 (<span style=\"color: #00ff00;\">+69624</span>)</p>\n"
      ],
      "text/plain": [
       "<IPython.core.display.HTML object>"
      ]
     },
     "metadata": {},
     "output_type": "display_data"
    }
   ],
   "source": [
    "#hide_input\n",
    "# Fill the above HTML with the information from the summary dictionary\n",
    "\n",
    "update = summary['updated']\n",
    "cases = summary['Cases']\n",
    "new = summary['Cases (+)']\n",
    "deaths = summary['Deaths']\n",
    "dnew = summary['Deaths (+)']\n",
    "recovered = summary['Recovered']\n",
    "rnew = summary['Recovered (+)']\n",
    "\n",
    "html = HTML(overview.format(update=update, cases=cases,new=new,deaths=deaths,dnew=dnew, recovered=recovered, rnew=rnew))\n",
    "\n",
    "display(html)"
   ]
  },
  {
   "cell_type": "code",
   "execution_count": 11,
   "metadata": {
    "execution": {
     "iopub.execute_input": "2020-09-06T19:12:58.436519Z",
     "iopub.status.busy": "2020-09-06T19:12:58.434729Z",
     "iopub.status.idle": "2020-09-06T19:12:58.441411Z",
     "shell.execute_reply": "2020-09-06T19:12:58.440862Z"
    },
    "papermill": {
     "duration": 0.035585,
     "end_time": "2020-09-06T19:12:58.441549",
     "exception": false,
     "start_time": "2020-09-06T19:12:58.405964",
     "status": "completed"
    },
    "tags": []
   },
   "outputs": [],
   "source": [
    "#hide\n",
    "df_cases = df[df['Status'] == 'Confirmed'].copy()\n",
    "df_cases.drop(columns = ['Status'], inplace=True)\n",
    "df_deaths = df[df['Status'] == 'Deceased'].copy()\n",
    "df_deaths.drop(columns = ['Status'], inplace=True)\n",
    "df_recovered = df[df['Status'] == 'Recovered'].copy()\n",
    "df_recovered.drop(columns = ['Status'], inplace=True)"
   ]
  },
  {
   "cell_type": "markdown",
   "metadata": {
    "papermill": {
     "duration": 0.015921,
     "end_time": "2020-09-06T19:12:58.473849",
     "exception": false,
     "start_time": "2020-09-06T19:12:58.457928",
     "status": "completed"
    },
    "tags": []
   },
   "source": [
    "Plot for India:"
   ]
  },
  {
   "cell_type": "code",
   "execution_count": 12,
   "metadata": {
    "execution": {
     "iopub.execute_input": "2020-09-06T19:12:58.516594Z",
     "iopub.status.busy": "2020-09-06T19:12:58.515795Z",
     "iopub.status.idle": "2020-09-06T19:12:58.824167Z",
     "shell.execute_reply": "2020-09-06T19:12:58.823548Z"
    },
    "papermill": {
     "duration": 0.333295,
     "end_time": "2020-09-06T19:12:58.824341",
     "exception": false,
     "start_time": "2020-09-06T19:12:58.491046",
     "status": "completed"
    },
    "tags": []
   },
   "outputs": [
    {
     "data": {
      "image/png": "[encoded data removed]",
      "text/plain": [
       "<Figure size 1296x432 with 1 Axes>"
      ]
     },
     "metadata": {
      "needs_background": "light"
     },
     "output_type": "display_data"
    }
   ],
   "source": [
    "#hide_input\n",
    "plt.figure(figsize = (18,6))\n",
    "plt.plot(df_cases['Date'], df_cases['TT'],'.-', alpha=0.7, color='b', label='Confirmed cases')\n",
    "plt.plot(df_recovered['Date'], df_recovered['TT'],'.-', alpha=0.7, color='g', label='Recovered')\n",
    "plt.plot(df_deaths['Date'], df_deaths['TT'],'.-', alpha=0.7, color='r', label='Deceased')\n",
    "plt.legend()\n",
    "plt.title(\"Cases per day in India\")\n",
    "plt.xticks(ticks=' ')\n",
    "plt.xlabel(f'{df_cases.iloc[0][0]} to {df_cases.iloc[-1][0]}')\n",
    "plt.ylabel('No. of cases');"
   ]
  },
  {
   "cell_type": "markdown",
   "metadata": {
    "papermill": {
     "duration": 0.019386,
     "end_time": "2020-09-06T19:12:58.865505",
     "exception": false,
     "start_time": "2020-09-06T19:12:58.846119",
     "status": "completed"
    },
    "tags": []
   },
   "source": [
    "Plots for the states with highest number of cases:"
   ]
  },
  {
   "cell_type": "code",
   "execution_count": 13,
   "metadata": {
    "execution": {
     "iopub.execute_input": "2020-09-06T19:12:58.916233Z",
     "iopub.status.busy": "2020-09-06T19:12:58.915470Z",
     "iopub.status.idle": "2020-09-06T19:12:59.584041Z",
     "shell.execute_reply": "2020-09-06T19:12:59.584629Z"
    },
    "papermill": {
     "duration": 0.69888,
     "end_time": "2020-09-06T19:12:59.584811",
     "exception": false,
     "start_time": "2020-09-06T19:12:58.885931",
     "status": "completed"
    },
    "tags": []
   },
   "outputs": [
    {
     "data": {
      "image/png": "[encoded data removed]",
      "text/plain": [
       "<Figure size 1512x432 with 3 Axes>"
      ]
     },
     "metadata": {
      "needs_background": "light"
     },
     "output_type": "display_data"
    }
   ],
   "source": [
    "#hide_input\n",
    "top_3 = sorted(df_cases.sum().values[1:], reverse=True)[1:4]\n",
    "top3_states=[]\n",
    "for i in top_3:\n",
    "    top3_states.append(df_cases.sum()[df_cases.sum() == i].index)\n",
    "\n",
    "\n",
    "fig, ax = plt.subplots(1,3,figsize = (21,6))\n",
    "for i in range(3):\n",
    "    state = top3_states[i].values[0]\n",
    "    ax[i].plot(df_cases['Date'], df_cases[state],'.-', color='b', alpha=0.7)\n",
    "    ax[i].plot(df_deaths['Date'], df_deaths[state],'.-', color='r', alpha=0.7)\n",
    "    ax[i].plot(df_recovered['Date'], df_recovered[state],'.-', color='g', alpha=0.7)\n",
    "    \n",
    "    ax[i].set_title(f\"Cases in {state}\")\n",
    "    ax[i].set_xticks(ticks=' ')\n",
    "    ax[i].set_xlabel(f'{df_cases.iloc[0][0]} to {df_cases.iloc[-1][0]}')\n",
    "    ax[i].set_ylabel('No. of cases');"
   ]
  },
  {
   "cell_type": "code",
   "execution_count": null,
   "metadata": {
    "papermill": {
     "duration": 0.025176,
     "end_time": "2020-09-06T19:12:59.635219",
     "exception": false,
     "start_time": "2020-09-06T19:12:59.610043",
     "status": "completed"
    },
    "tags": []
   },
   "outputs": [],
   "source": []
  },
  {
   "cell_type": "code",
   "execution_count": null,
   "metadata": {
    "papermill": {
     "duration": 0.028403,
     "end_time": "2020-09-06T19:12:59.685871",
     "exception": false,
     "start_time": "2020-09-06T19:12:59.657468",
     "status": "completed"
    },
    "tags": []
   },
   "outputs": [],
   "source": []
  },
  {
   "cell_type": "code",
   "execution_count": null,
   "metadata": {
    "papermill": {
     "duration": 0.032583,
     "end_time": "2020-09-06T19:12:59.742138",
     "exception": false,
     "start_time": "2020-09-06T19:12:59.709555",
     "status": "completed"
    },
    "tags": []
   },
   "outputs": [],
   "source": []
  }
 ],
 "metadata": {
  "kernelspec": {
   "display_name": "Python 3",
   "language": "python",
   "name": "python3"
  },
  "language_info": {
   "codemirror_mode": {
    "name": "ipython",
    "version": 3
   },
   "file_extension": ".py",
   "mimetype": "text/x-python",
   "name": "python",
   "nbconvert_exporter": "python",
   "pygments_lexer": "ipython3",
   "version": "3.6.12"
  },
  "papermill": {
   "duration": 4.710496,
   "end_time": "2020-09-06T19:13:00.172233",
   "environment_variables": {},
   "exception": null,
   "input_path": "2020-08-09-DailyUpdate.ipynb",
   "output_path": "2020-08-09-DailyUpdate.ipynb",
   "parameters": {},
   "start_time": "2020-09-06T19:12:55.461737",
   "version": "2.1.2"
  }
 },
 "nbformat": 4,
 "nbformat_minor": 4
}