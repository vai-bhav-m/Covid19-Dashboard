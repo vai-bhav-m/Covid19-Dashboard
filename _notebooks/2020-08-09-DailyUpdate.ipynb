{
 "cells": [
  {
   "cell_type": "markdown",
   "metadata": {
    "papermill": {
     "duration": 0.017143,
     "end_time": "2020-09-02T19:11:54.604993",
     "exception": false,
     "start_time": "2020-09-02T19:11:54.587850",
     "status": "completed"
    },
    "tags": []
   },
   "source": [
    "# COVID-19 India Daily updates\n",
    "> Tracking coronavirus total cases, deaths and new cases in India on a daily basis\n",
    "\n",
    "- author: Vaibhav Mahapatra"
   ]
  },
  {
   "cell_type": "code",
   "execution_count": 1,
   "metadata": {
    "execution": {
     "iopub.execute_input": "2020-09-02T19:11:54.639542Z",
     "iopub.status.busy": "2020-09-02T19:11:54.638921Z",
     "iopub.status.idle": "2020-09-02T19:11:55.242847Z",
     "shell.execute_reply": "2020-09-02T19:11:55.242257Z"
    },
    "papermill": {
     "duration": 0.625026,
     "end_time": "2020-09-02T19:11:55.243015",
     "exception": false,
     "start_time": "2020-09-02T19:11:54.617989",
     "status": "completed"
    },
    "tags": []
   },
   "outputs": [],
   "source": [
    "#hide\n",
    "\n",
    "## Import essential packages below\n",
    "\n",
    "import pandas as pd\n",
    "import numpy as np\n",
    "import requests\n",
    "import json\n",
    "import matplotlib.pyplot as plt\n",
    "import matplotlib.dates as mdates\n",
    "import matplotlib as mpl\n",
    "from IPython.core.display import display,HTML\n",
    "%matplotlib inline"
   ]
  },
  {
   "cell_type": "code",
   "execution_count": 2,
   "metadata": {
    "execution": {
     "iopub.execute_input": "2020-09-02T19:11:55.276452Z",
     "iopub.status.busy": "2020-09-02T19:11:55.275842Z",
     "iopub.status.idle": "2020-09-02T19:11:55.507615Z",
     "shell.execute_reply": "2020-09-02T19:11:55.508078Z"
    },
    "papermill": {
     "duration": 0.25206,
     "end_time": "2020-09-02T19:11:55.508241",
     "exception": false,
     "start_time": "2020-09-02T19:11:55.256181",
     "status": "completed"
    },
    "tags": []
   },
   "outputs": [
    {
     "data": {
      "text/plain": [
       "(519, 41)"
      ]
     },
     "execution_count": 2,
     "metadata": {},
     "output_type": "execute_result"
    }
   ],
   "source": [
    "#hide\n",
    "url = 'https://api.covid19india.org/csv/latest/state_wise_daily.csv'\n",
    "df = pd.read_csv(url)\n",
    "df.shape"
   ]
  },
  {
   "cell_type": "code",
   "execution_count": 3,
   "metadata": {
    "execution": {
     "iopub.execute_input": "2020-09-02T19:11:55.594512Z",
     "iopub.status.busy": "2020-09-02T19:11:55.593857Z",
     "iopub.status.idle": "2020-09-02T19:11:55.604036Z",
     "shell.execute_reply": "2020-09-02T19:11:55.604519Z"
    },
    "papermill": {
     "duration": 0.083608,
     "end_time": "2020-09-02T19:11:55.604702",
     "exception": false,
     "start_time": "2020-09-02T19:11:55.521094",
     "status": "completed"
    },
    "tags": []
   },
   "outputs": [
    {
     "data": {
      "text/html": [
       "<div>\n",
       "<style scoped>\n",
       "    .dataframe tbody tr th:only-of-type {\n",
       "        vertical-align: middle;\n",
       "    }\n",
       "\n",
       "    .dataframe tbody tr th {\n",
       "        vertical-align: top;\n",
       "    }\n",
       "\n",
       "    .dataframe thead th {\n",
       "        text-align: right;\n",
       "    }\n",
       "</style>\n",
       "<table border=\"1\" class=\"dataframe\">\n",
       "  <thead>\n",
       "    <tr style=\"text-align: right;\">\n",
       "      <th></th>\n",
       "      <th>Date</th>\n",
       "      <th>Status</th>\n",
       "      <th>TT</th>\n",
       "      <th>AN</th>\n",
       "      <th>AP</th>\n",
       "      <th>AR</th>\n",
       "      <th>AS</th>\n",
       "      <th>BR</th>\n",
       "      <th>CH</th>\n",
       "      <th>CT</th>\n",
       "      <th>...</th>\n",
       "      <th>PB</th>\n",
       "      <th>RJ</th>\n",
       "      <th>SK</th>\n",
       "      <th>TN</th>\n",
       "      <th>TG</th>\n",
       "      <th>TR</th>\n",
       "      <th>UP</th>\n",
       "      <th>UT</th>\n",
       "      <th>WB</th>\n",
       "      <th>UN</th>\n",
       "    </tr>\n",
       "  </thead>\n",
       "  <tbody>\n",
       "    <tr>\n",
       "      <th>513</th>\n",
       "      <td>01-Sep-20</td>\n",
       "      <td>Confirmed</td>\n",
       "      <td>78168</td>\n",
       "      <td>28</td>\n",
       "      <td>10368</td>\n",
       "      <td>100</td>\n",
       "      <td>2684</td>\n",
       "      <td>1928</td>\n",
       "      <td>204</td>\n",
       "      <td>1884</td>\n",
       "      <td>...</td>\n",
       "      <td>1516</td>\n",
       "      <td>1470</td>\n",
       "      <td>18</td>\n",
       "      <td>5928</td>\n",
       "      <td>2734</td>\n",
       "      <td>509</td>\n",
       "      <td>5343</td>\n",
       "      <td>571</td>\n",
       "      <td>2943</td>\n",
       "      <td>0</td>\n",
       "    </tr>\n",
       "    <tr>\n",
       "      <th>514</th>\n",
       "      <td>01-Sep-20</td>\n",
       "      <td>Recovered</td>\n",
       "      <td>62145</td>\n",
       "      <td>67</td>\n",
       "      <td>9350</td>\n",
       "      <td>94</td>\n",
       "      <td>1434</td>\n",
       "      <td>2029</td>\n",
       "      <td>120</td>\n",
       "      <td>578</td>\n",
       "      <td>...</td>\n",
       "      <td>1120</td>\n",
       "      <td>1312</td>\n",
       "      <td>12</td>\n",
       "      <td>6031</td>\n",
       "      <td>2325</td>\n",
       "      <td>221</td>\n",
       "      <td>4537</td>\n",
       "      <td>404</td>\n",
       "      <td>3346</td>\n",
       "      <td>0</td>\n",
       "    </tr>\n",
       "    <tr>\n",
       "      <th>515</th>\n",
       "      <td>01-Sep-20</td>\n",
       "      <td>Deceased</td>\n",
       "      <td>1027</td>\n",
       "      <td>0</td>\n",
       "      <td>84</td>\n",
       "      <td>0</td>\n",
       "      <td>9</td>\n",
       "      <td>15</td>\n",
       "      <td>1</td>\n",
       "      <td>10</td>\n",
       "      <td>...</td>\n",
       "      <td>59</td>\n",
       "      <td>13</td>\n",
       "      <td>1</td>\n",
       "      <td>96</td>\n",
       "      <td>9</td>\n",
       "      <td>10</td>\n",
       "      <td>56</td>\n",
       "      <td>11</td>\n",
       "      <td>55</td>\n",
       "      <td>0</td>\n",
       "    </tr>\n",
       "    <tr>\n",
       "      <th>516</th>\n",
       "      <td>02-Sep-20</td>\n",
       "      <td>Confirmed</td>\n",
       "      <td>82860</td>\n",
       "      <td>26</td>\n",
       "      <td>10392</td>\n",
       "      <td>148</td>\n",
       "      <td>3555</td>\n",
       "      <td>1969</td>\n",
       "      <td>239</td>\n",
       "      <td>2296</td>\n",
       "      <td>...</td>\n",
       "      <td>1481</td>\n",
       "      <td>1511</td>\n",
       "      <td>34</td>\n",
       "      <td>5990</td>\n",
       "      <td>2892</td>\n",
       "      <td>566</td>\n",
       "      <td>5682</td>\n",
       "      <td>836</td>\n",
       "      <td>2976</td>\n",
       "      <td>0</td>\n",
       "    </tr>\n",
       "    <tr>\n",
       "      <th>517</th>\n",
       "      <td>02-Sep-20</td>\n",
       "      <td>Recovered</td>\n",
       "      <td>67874</td>\n",
       "      <td>44</td>\n",
       "      <td>8454</td>\n",
       "      <td>96</td>\n",
       "      <td>1834</td>\n",
       "      <td>1803</td>\n",
       "      <td>119</td>\n",
       "      <td>653</td>\n",
       "      <td>...</td>\n",
       "      <td>1595</td>\n",
       "      <td>2550</td>\n",
       "      <td>23</td>\n",
       "      <td>5891</td>\n",
       "      <td>2240</td>\n",
       "      <td>193</td>\n",
       "      <td>4687</td>\n",
       "      <td>425</td>\n",
       "      <td>3297</td>\n",
       "      <td>0</td>\n",
       "    </tr>\n",
       "    <tr>\n",
       "      <th>518</th>\n",
       "      <td>02-Sep-20</td>\n",
       "      <td>Deceased</td>\n",
       "      <td>1026</td>\n",
       "      <td>1</td>\n",
       "      <td>72</td>\n",
       "      <td>0</td>\n",
       "      <td>8</td>\n",
       "      <td>13</td>\n",
       "      <td>2</td>\n",
       "      <td>12</td>\n",
       "      <td>...</td>\n",
       "      <td>106</td>\n",
       "      <td>12</td>\n",
       "      <td>0</td>\n",
       "      <td>98</td>\n",
       "      <td>10</td>\n",
       "      <td>5</td>\n",
       "      <td>74</td>\n",
       "      <td>11</td>\n",
       "      <td>56</td>\n",
       "      <td>0</td>\n",
       "    </tr>\n",
       "  </tbody>\n",
       "</table>\n",
       "<p>6 rows × 41 columns</p>\n",
       "</div>"
      ],
      "text/plain": [
       "          Date     Status     TT  AN     AP   AR    AS    BR   CH    CT  ...  \\\n",
       "513  01-Sep-20  Confirmed  78168  28  10368  100  2684  1928  204  1884  ...   \n",
       "514  01-Sep-20  Recovered  62145  67   9350   94  1434  2029  120   578  ...   \n",
       "515  01-Sep-20   Deceased   1027   0     84    0     9    15    1    10  ...   \n",
       "516  02-Sep-20  Confirmed  82860  26  10392  148  3555  1969  239  2296  ...   \n",
       "517  02-Sep-20  Recovered  67874  44   8454   96  1834  1803  119   653  ...   \n",
       "518  02-Sep-20   Deceased   1026   1     72    0     8    13    2    12  ...   \n",
       "\n",
       "       PB    RJ  SK    TN    TG   TR    UP   UT    WB  UN  \n",
       "513  1516  1470  18  5928  2734  509  5343  571  2943   0  \n",
       "514  1120  1312  12  6031  2325  221  4537  404  3346   0  \n",
       "515    59    13   1    96     9   10    56   11    55   0  \n",
       "516  1481  1511  34  5990  2892  566  5682  836  2976   0  \n",
       "517  1595  2550  23  5891  2240  193  4687  425  3297   0  \n",
       "518   106    12   0    98    10    5    74   11    56   0  \n",
       "\n",
       "[6 rows x 41 columns]"
      ]
     },
     "execution_count": 3,
     "metadata": {},
     "output_type": "execute_result"
    }
   ],
   "source": [
    "#hide\n",
    "df.tail(6)"
   ]
  },
  {
   "cell_type": "code",
   "execution_count": 4,
   "metadata": {
    "execution": {
     "iopub.execute_input": "2020-09-02T19:11:55.638488Z",
     "iopub.status.busy": "2020-09-02T19:11:55.637885Z",
     "iopub.status.idle": "2020-09-02T19:11:55.641015Z",
     "shell.execute_reply": "2020-09-02T19:11:55.640390Z"
    },
    "papermill": {
     "duration": 0.022289,
     "end_time": "2020-09-02T19:11:55.641144",
     "exception": false,
     "start_time": "2020-09-02T19:11:55.618855",
     "status": "completed"
    },
    "tags": []
   },
   "outputs": [
    {
     "data": {
      "text/plain": [
       "('02-Sep-20', '01-Sep-20')"
      ]
     },
     "execution_count": 4,
     "metadata": {},
     "output_type": "execute_result"
    }
   ],
   "source": [
    "#hide\n",
    "dt_today = df.iloc[-1][0]\n",
    "dt_yday = df.iloc[-4][0]\n",
    "dt_today, dt_yday"
   ]
  },
  {
   "cell_type": "code",
   "execution_count": 5,
   "metadata": {
    "execution": {
     "iopub.execute_input": "2020-09-02T19:11:55.674630Z",
     "iopub.status.busy": "2020-09-02T19:11:55.674005Z",
     "iopub.status.idle": "2020-09-02T19:11:55.682051Z",
     "shell.execute_reply": "2020-09-02T19:11:55.681562Z"
    },
    "papermill": {
     "duration": 0.027191,
     "end_time": "2020-09-02T19:11:55.682187",
     "exception": false,
     "start_time": "2020-09-02T19:11:55.654996",
     "status": "completed"
    },
    "tags": []
   },
   "outputs": [],
   "source": [
    "#hide\n",
    "df_today = df.groupby('Status').sum()\n",
    "df_yday = df.iloc[:-3][:].groupby('Status').sum()"
   ]
  },
  {
   "cell_type": "code",
   "execution_count": 6,
   "metadata": {
    "execution": {
     "iopub.execute_input": "2020-09-02T19:11:55.778331Z",
     "iopub.status.busy": "2020-09-02T19:11:55.777066Z",
     "iopub.status.idle": "2020-09-02T19:11:55.795222Z",
     "shell.execute_reply": "2020-09-02T19:11:55.795679Z"
    },
    "papermill": {
     "duration": 0.099825,
     "end_time": "2020-09-02T19:11:55.795842",
     "exception": false,
     "start_time": "2020-09-02T19:11:55.696017",
     "status": "completed"
    },
    "tags": []
   },
   "outputs": [
    {
     "data": {
      "text/html": [
       "<div>\n",
       "<style scoped>\n",
       "    .dataframe tbody tr th:only-of-type {\n",
       "        vertical-align: middle;\n",
       "    }\n",
       "\n",
       "    .dataframe tbody tr th {\n",
       "        vertical-align: top;\n",
       "    }\n",
       "\n",
       "    .dataframe thead th {\n",
       "        text-align: right;\n",
       "    }\n",
       "</style>\n",
       "<table border=\"1\" class=\"dataframe\">\n",
       "  <thead>\n",
       "    <tr style=\"text-align: right;\">\n",
       "      <th></th>\n",
       "      <th>TT</th>\n",
       "      <th>AN</th>\n",
       "      <th>AP</th>\n",
       "      <th>AR</th>\n",
       "      <th>AS</th>\n",
       "      <th>BR</th>\n",
       "      <th>CH</th>\n",
       "      <th>CT</th>\n",
       "      <th>DN</th>\n",
       "      <th>DD</th>\n",
       "      <th>...</th>\n",
       "      <th>PB</th>\n",
       "      <th>RJ</th>\n",
       "      <th>SK</th>\n",
       "      <th>TN</th>\n",
       "      <th>TG</th>\n",
       "      <th>TR</th>\n",
       "      <th>UP</th>\n",
       "      <th>UT</th>\n",
       "      <th>WB</th>\n",
       "      <th>UN</th>\n",
       "    </tr>\n",
       "    <tr>\n",
       "      <th>Status</th>\n",
       "      <th></th>\n",
       "      <th></th>\n",
       "      <th></th>\n",
       "      <th></th>\n",
       "      <th></th>\n",
       "      <th></th>\n",
       "      <th></th>\n",
       "      <th></th>\n",
       "      <th></th>\n",
       "      <th></th>\n",
       "      <th></th>\n",
       "      <th></th>\n",
       "      <th></th>\n",
       "      <th></th>\n",
       "      <th></th>\n",
       "      <th></th>\n",
       "      <th></th>\n",
       "      <th></th>\n",
       "      <th></th>\n",
       "      <th></th>\n",
       "      <th></th>\n",
       "    </tr>\n",
       "  </thead>\n",
       "  <tbody>\n",
       "    <tr>\n",
       "      <th>Confirmed</th>\n",
       "      <td>3848340</td>\n",
       "      <td>3182</td>\n",
       "      <td>455531</td>\n",
       "      <td>4360</td>\n",
       "      <td>115178</td>\n",
       "      <td>140234</td>\n",
       "      <td>4789</td>\n",
       "      <td>35683</td>\n",
       "      <td>2432</td>\n",
       "      <td>0</td>\n",
       "      <td>...</td>\n",
       "      <td>56989</td>\n",
       "      <td>84674</td>\n",
       "      <td>1717</td>\n",
       "      <td>439959</td>\n",
       "      <td>130079</td>\n",
       "      <td>12719</td>\n",
       "      <td>241439</td>\n",
       "      <td>21234</td>\n",
       "      <td>168697</td>\n",
       "      <td>0</td>\n",
       "    </tr>\n",
       "    <tr>\n",
       "      <th>Deceased</th>\n",
       "      <td>67497</td>\n",
       "      <td>47</td>\n",
       "      <td>4125</td>\n",
       "      <td>7</td>\n",
       "      <td>327</td>\n",
       "      <td>722</td>\n",
       "      <td>59</td>\n",
       "      <td>299</td>\n",
       "      <td>2</td>\n",
       "      <td>0</td>\n",
       "      <td>...</td>\n",
       "      <td>1618</td>\n",
       "      <td>1081</td>\n",
       "      <td>4</td>\n",
       "      <td>7516</td>\n",
       "      <td>846</td>\n",
       "      <td>118</td>\n",
       "      <td>3616</td>\n",
       "      <td>291</td>\n",
       "      <td>3339</td>\n",
       "      <td>0</td>\n",
       "    </tr>\n",
       "    <tr>\n",
       "      <th>Recovered</th>\n",
       "      <td>2967389</td>\n",
       "      <td>2749</td>\n",
       "      <td>348330</td>\n",
       "      <td>3075</td>\n",
       "      <td>88727</td>\n",
       "      <td>123404</td>\n",
       "      <td>2670</td>\n",
       "      <td>18220</td>\n",
       "      <td>2139</td>\n",
       "      <td>0</td>\n",
       "      <td>...</td>\n",
       "      <td>39742</td>\n",
       "      <td>70674</td>\n",
       "      <td>1261</td>\n",
       "      <td>380063</td>\n",
       "      <td>97402</td>\n",
       "      <td>7847</td>\n",
       "      <td>181364</td>\n",
       "      <td>14437</td>\n",
       "      <td>140913</td>\n",
       "      <td>0</td>\n",
       "    </tr>\n",
       "  </tbody>\n",
       "</table>\n",
       "<p>3 rows × 39 columns</p>\n",
       "</div>"
      ],
      "text/plain": [
       "                TT    AN      AP    AR      AS      BR    CH     CT    DN  DD  \\\n",
       "Status                                                                          \n",
       "Confirmed  3848340  3182  455531  4360  115178  140234  4789  35683  2432   0   \n",
       "Deceased     67497    47    4125     7     327     722    59    299     2   0   \n",
       "Recovered  2967389  2749  348330  3075   88727  123404  2670  18220  2139   0   \n",
       "\n",
       "           ...     PB     RJ    SK      TN      TG     TR      UP     UT  \\\n",
       "Status     ...                                                             \n",
       "Confirmed  ...  56989  84674  1717  439959  130079  12719  241439  21234   \n",
       "Deceased   ...   1618   1081     4    7516     846    118    3616    291   \n",
       "Recovered  ...  39742  70674  1261  380063   97402   7847  181364  14437   \n",
       "\n",
       "               WB  UN  \n",
       "Status                 \n",
       "Confirmed  168697   0  \n",
       "Deceased     3339   0  \n",
       "Recovered  140913   0  \n",
       "\n",
       "[3 rows x 39 columns]"
      ]
     },
     "execution_count": 6,
     "metadata": {},
     "output_type": "execute_result"
    }
   ],
   "source": [
    "#hide\n",
    "df_today"
   ]
  },
  {
   "cell_type": "code",
   "execution_count": 7,
   "metadata": {
    "execution": {
     "iopub.execute_input": "2020-09-02T19:11:56.428791Z",
     "iopub.status.busy": "2020-09-02T19:11:56.428127Z",
     "iopub.status.idle": "2020-09-02T19:11:56.432213Z",
     "shell.execute_reply": "2020-09-02T19:11:56.432724Z"
    },
    "papermill": {
     "duration": 0.272696,
     "end_time": "2020-09-02T19:11:56.432876",
     "exception": false,
     "start_time": "2020-09-02T19:11:56.160180",
     "status": "completed"
    },
    "tags": []
   },
   "outputs": [
    {
     "data": {
      "text/html": [
       "<div>\n",
       "<style scoped>\n",
       "    .dataframe tbody tr th:only-of-type {\n",
       "        vertical-align: middle;\n",
       "    }\n",
       "\n",
       "    .dataframe tbody tr th {\n",
       "        vertical-align: top;\n",
       "    }\n",
       "\n",
       "    .dataframe thead th {\n",
       "        text-align: right;\n",
       "    }\n",
       "</style>\n",
       "<table border=\"1\" class=\"dataframe\">\n",
       "  <thead>\n",
       "    <tr style=\"text-align: right;\">\n",
       "      <th></th>\n",
       "      <th>TT</th>\n",
       "      <th>AN</th>\n",
       "      <th>AP</th>\n",
       "      <th>AR</th>\n",
       "      <th>AS</th>\n",
       "      <th>BR</th>\n",
       "      <th>CH</th>\n",
       "      <th>CT</th>\n",
       "      <th>DN</th>\n",
       "      <th>DD</th>\n",
       "      <th>...</th>\n",
       "      <th>PB</th>\n",
       "      <th>RJ</th>\n",
       "      <th>SK</th>\n",
       "      <th>TN</th>\n",
       "      <th>TG</th>\n",
       "      <th>TR</th>\n",
       "      <th>UP</th>\n",
       "      <th>UT</th>\n",
       "      <th>WB</th>\n",
       "      <th>UN</th>\n",
       "    </tr>\n",
       "    <tr>\n",
       "      <th>Status</th>\n",
       "      <th></th>\n",
       "      <th></th>\n",
       "      <th></th>\n",
       "      <th></th>\n",
       "      <th></th>\n",
       "      <th></th>\n",
       "      <th></th>\n",
       "      <th></th>\n",
       "      <th></th>\n",
       "      <th></th>\n",
       "      <th></th>\n",
       "      <th></th>\n",
       "      <th></th>\n",
       "      <th></th>\n",
       "      <th></th>\n",
       "      <th></th>\n",
       "      <th></th>\n",
       "      <th></th>\n",
       "      <th></th>\n",
       "      <th></th>\n",
       "      <th></th>\n",
       "    </tr>\n",
       "  </thead>\n",
       "  <tbody>\n",
       "    <tr>\n",
       "      <th>Confirmed</th>\n",
       "      <td>3765480</td>\n",
       "      <td>3156</td>\n",
       "      <td>445139</td>\n",
       "      <td>4212</td>\n",
       "      <td>111623</td>\n",
       "      <td>138265</td>\n",
       "      <td>4550</td>\n",
       "      <td>33387</td>\n",
       "      <td>2388</td>\n",
       "      <td>0</td>\n",
       "      <td>...</td>\n",
       "      <td>55508</td>\n",
       "      <td>83163</td>\n",
       "      <td>1683</td>\n",
       "      <td>433969</td>\n",
       "      <td>127187</td>\n",
       "      <td>12153</td>\n",
       "      <td>235757</td>\n",
       "      <td>20398</td>\n",
       "      <td>165721</td>\n",
       "      <td>0</td>\n",
       "    </tr>\n",
       "    <tr>\n",
       "      <th>Deceased</th>\n",
       "      <td>66471</td>\n",
       "      <td>46</td>\n",
       "      <td>4053</td>\n",
       "      <td>7</td>\n",
       "      <td>319</td>\n",
       "      <td>709</td>\n",
       "      <td>57</td>\n",
       "      <td>287</td>\n",
       "      <td>2</td>\n",
       "      <td>0</td>\n",
       "      <td>...</td>\n",
       "      <td>1512</td>\n",
       "      <td>1069</td>\n",
       "      <td>4</td>\n",
       "      <td>7418</td>\n",
       "      <td>836</td>\n",
       "      <td>113</td>\n",
       "      <td>3542</td>\n",
       "      <td>280</td>\n",
       "      <td>3283</td>\n",
       "      <td>0</td>\n",
       "    </tr>\n",
       "    <tr>\n",
       "      <th>Recovered</th>\n",
       "      <td>2899515</td>\n",
       "      <td>2705</td>\n",
       "      <td>339876</td>\n",
       "      <td>2979</td>\n",
       "      <td>86893</td>\n",
       "      <td>121601</td>\n",
       "      <td>2551</td>\n",
       "      <td>17567</td>\n",
       "      <td>2122</td>\n",
       "      <td>0</td>\n",
       "      <td>...</td>\n",
       "      <td>38147</td>\n",
       "      <td>68124</td>\n",
       "      <td>1238</td>\n",
       "      <td>374172</td>\n",
       "      <td>95162</td>\n",
       "      <td>7654</td>\n",
       "      <td>176677</td>\n",
       "      <td>14012</td>\n",
       "      <td>137616</td>\n",
       "      <td>0</td>\n",
       "    </tr>\n",
       "  </tbody>\n",
       "</table>\n",
       "<p>3 rows × 39 columns</p>\n",
       "</div>"
      ],
      "text/plain": [
       "                TT    AN      AP    AR      AS      BR    CH     CT    DN  DD  \\\n",
       "Status                                                                          \n",
       "Confirmed  3765480  3156  445139  4212  111623  138265  4550  33387  2388   0   \n",
       "Deceased     66471    46    4053     7     319     709    57    287     2   0   \n",
       "Recovered  2899515  2705  339876  2979   86893  121601  2551  17567  2122   0   \n",
       "\n",
       "           ...     PB     RJ    SK      TN      TG     TR      UP     UT  \\\n",
       "Status     ...                                                             \n",
       "Confirmed  ...  55508  83163  1683  433969  127187  12153  235757  20398   \n",
       "Deceased   ...   1512   1069     4    7418     836    113    3542    280   \n",
       "Recovered  ...  38147  68124  1238  374172   95162   7654  176677  14012   \n",
       "\n",
       "               WB  UN  \n",
       "Status                 \n",
       "Confirmed  165721   0  \n",
       "Deceased     3283   0  \n",
       "Recovered  137616   0  \n",
       "\n",
       "[3 rows x 39 columns]"
      ]
     },
     "execution_count": 7,
     "metadata": {},
     "output_type": "execute_result"
    }
   ],
   "source": [
    "#hide\n",
    "df_yday.head()"
   ]
  },
  {
   "cell_type": "code",
   "execution_count": 8,
   "metadata": {
    "execution": {
     "iopub.execute_input": "2020-09-02T19:11:56.530211Z",
     "iopub.status.busy": "2020-09-02T19:11:56.529599Z",
     "iopub.status.idle": "2020-09-02T19:11:56.531887Z",
     "shell.execute_reply": "2020-09-02T19:11:56.532454Z"
    },
    "papermill": {
     "duration": 0.027669,
     "end_time": "2020-09-02T19:11:56.532621",
     "exception": false,
     "start_time": "2020-09-02T19:11:56.504952",
     "status": "completed"
    },
    "tags": []
   },
   "outputs": [
    {
     "data": {
      "text/plain": [
       "{'updated': '02-Sep-20',\n",
       " 'since': '01-Sep-20',\n",
       " 'Cases': 3848340,\n",
       " 'Deaths': 67497,\n",
       " 'Recovered': 2967389,\n",
       " 'PCases': 3765480,\n",
       " 'PDeaths': 66471,\n",
       " 'PRecovered': 2899515,\n",
       " 'Cases (+)': 82860,\n",
       " 'Deaths (+)': 1026,\n",
       " 'Recovered (+)': 67874}"
      ]
     },
     "execution_count": 8,
     "metadata": {},
     "output_type": "execute_result"
    }
   ],
   "source": [
    "#hide\n",
    "summary = {\n",
    "    'updated' : dt_today,\n",
    "    'since' : dt_yday,\n",
    "    'Cases' : df_today['TT'][0],\n",
    "    'Deaths' : df_today['TT'][1],\n",
    "    'Recovered' : df_today['TT'][2],\n",
    "    'PCases' : df_yday['TT'][0],\n",
    "    'PDeaths' : df_yday['TT'][1],\n",
    "    'PRecovered': df_yday['TT'][2],\n",
    "    'Cases (+)' : df_today['TT'][0] - df_yday['TT'][0],\n",
    "    'Deaths (+)' : df_today['TT'][1] - df_yday['TT'][1],\n",
    "    'Recovered (+)': df_today['TT'][2] - df_yday['TT'][2]\n",
    "}\n",
    "\n",
    "summary"
   ]
  },
  {
   "cell_type": "code",
   "execution_count": 9,
   "metadata": {
    "execution": {
     "iopub.execute_input": "2020-09-02T19:11:56.569817Z",
     "iopub.status.busy": "2020-09-02T19:11:56.569209Z",
     "iopub.status.idle": "2020-09-02T19:11:56.571525Z",
     "shell.execute_reply": "2020-09-02T19:11:56.571047Z"
    },
    "papermill": {
     "duration": 0.024249,
     "end_time": "2020-09-02T19:11:56.571650",
     "exception": false,
     "start_time": "2020-09-02T19:11:56.547401",
     "status": "completed"
    },
    "tags": []
   },
   "outputs": [],
   "source": [
    "#hide\n",
    "overview = '''\n",
    "<!-- #######  HTML!! #########-->\n",
    "<h1 style=\"color: #5e9ca0; text-align: center;\">India</h1>\n",
    "<p style=\"text-align: center;\">Last update: <strong>{update}</strong></p>\n",
    "<p style=\"text-align: center;\">Confirmed cases:</p>\n",
    "<p style=\"text-align: center;font-size:24px;\">{cases} (<span style=\"color: #ff0000;\">+{new}</span>)</p>\n",
    "<p style=\"text-align: center;\">Confirmed deaths:</p>\n",
    "<p style=\"text-align: center;font-size:24px;\">{deaths} (<span style=\"color: #ff0000;\">+{dnew}</span>)</p>\n",
    "<p style=\"text-align: center;\">Recovered cases:</p>\n",
    "<p style=\"text-align: center;font-size:24px;\">{recovered} (<span style=\"color: #00ff00;\">+{rnew}</span>)</p>\n",
    "'''"
   ]
  },
  {
   "cell_type": "code",
   "execution_count": 10,
   "metadata": {
    "execution": {
     "iopub.execute_input": "2020-09-02T19:11:56.612635Z",
     "iopub.status.busy": "2020-09-02T19:11:56.611622Z",
     "iopub.status.idle": "2020-09-02T19:11:56.615246Z",
     "shell.execute_reply": "2020-09-02T19:11:56.616045Z"
    },
    "papermill": {
     "duration": 0.02782,
     "end_time": "2020-09-02T19:11:56.616273",
     "exception": false,
     "start_time": "2020-09-02T19:11:56.588453",
     "status": "completed"
    },
    "tags": []
   },
   "outputs": [
    {
     "data": {
      "text/html": [
       "\n",
       "<!-- #######  HTML!! #########-->\n",
       "<h1 style=\"color: #5e9ca0; text-align: center;\">India</h1>\n",
       "<p style=\"text-align: center;\">Last update: <strong>02-Sep-20</strong></p>\n",
       "<p style=\"text-align: center;\">Confirmed cases:</p>\n",
       "<p style=\"text-align: center;font-size:24px;\">3848340 (<span style=\"color: #ff0000;\">+82860</span>)</p>\n",
       "<p style=\"text-align: center;\">Confirmed deaths:</p>\n",
       "<p style=\"text-align: center;font-size:24px;\">67497 (<span style=\"color: #ff0000;\">+1026</span>)</p>\n",
       "<p style=\"text-align: center;\">Recovered cases:</p>\n",
       "<p style=\"text-align: center;font-size:24px;\">2967389 (<span style=\"color: #00ff00;\">+67874</span>)</p>\n"
      ],
      "text/plain": [
       "<IPython.core.display.HTML object>"
      ]
     },
     "metadata": {},
     "output_type": "display_data"
    }
   ],
   "source": [
    "#hide_input\n",
    "# Fill the above HTML with the information from the summary dictionary\n",
    "\n",
    "update = summary['updated']\n",
    "cases = summary['Cases']\n",
    "new = summary['Cases (+)']\n",
    "deaths = summary['Deaths']\n",
    "dnew = summary['Deaths (+)']\n",
    "recovered = summary['Recovered']\n",
    "rnew = summary['Recovered (+)']\n",
    "\n",
    "html = HTML(overview.format(update=update, cases=cases,new=new,deaths=deaths,dnew=dnew, recovered=recovered, rnew=rnew))\n",
    "\n",
    "display(html)"
   ]
  },
  {
   "cell_type": "code",
   "execution_count": 11,
   "metadata": {
    "execution": {
     "iopub.execute_input": "2020-09-02T19:11:56.659915Z",
     "iopub.status.busy": "2020-09-02T19:11:56.659307Z",
     "iopub.status.idle": "2020-09-02T19:11:56.664077Z",
     "shell.execute_reply": "2020-09-02T19:11:56.664552Z"
    },
    "papermill": {
     "duration": 0.031718,
     "end_time": "2020-09-02T19:11:56.664706",
     "exception": false,
     "start_time": "2020-09-02T19:11:56.632988",
     "status": "completed"
    },
    "tags": []
   },
   "outputs": [],
   "source": [
    "#hide\n",
    "df_cases = df[df['Status'] == 'Confirmed'].copy()\n",
    "df_cases.drop(columns = ['Status'], inplace=True)\n",
    "df_deaths = df[df['Status'] == 'Deceased'].copy()\n",
    "df_deaths.drop(columns = ['Status'], inplace=True)\n",
    "df_recovered = df[df['Status'] == 'Recovered'].copy()\n",
    "df_recovered.drop(columns = ['Status'], inplace=True)"
   ]
  },
  {
   "cell_type": "markdown",
   "metadata": {
    "papermill": {
     "duration": 0.015278,
     "end_time": "2020-09-02T19:11:56.695540",
     "exception": false,
     "start_time": "2020-09-02T19:11:56.680262",
     "status": "completed"
    },
    "tags": []
   },
   "source": [
    "Plot for India:"
   ]
  },
  {
   "cell_type": "code",
   "execution_count": 12,
   "metadata": {
    "execution": {
     "iopub.execute_input": "2020-09-02T19:11:56.748863Z",
     "iopub.status.busy": "2020-09-02T19:11:56.748226Z",
     "iopub.status.idle": "2020-09-02T19:11:56.996850Z",
     "shell.execute_reply": "2020-09-02T19:11:56.996297Z"
    },
    "papermill": {
     "duration": 0.28602,
     "end_time": "2020-09-02T19:11:56.996991",
     "exception": false,
     "start_time": "2020-09-02T19:11:56.710971",
     "status": "completed"
    },
    "tags": []
   },
   "outputs": [
    {
     "data": {
      "image/png": "[encoded data removed]",
      "text/plain": [
       "<Figure size 1296x432 with 1 Axes>"
      ]
     },
     "metadata": {
      "needs_background": "light"
     },
     "output_type": "display_data"
    }
   ],
   "source": [
    "#hide_input\n",
    "plt.figure(figsize = (18,6))\n",
    "plt.plot(df_cases['Date'], df_cases['TT'],'.-', alpha=0.7, color='b', label='Confirmed cases')\n",
    "plt.plot(df_recovered['Date'], df_recovered['TT'],'.-', alpha=0.7, color='g', label='Recovered')\n",
    "plt.plot(df_deaths['Date'], df_deaths['TT'],'.-', alpha=0.7, color='r', label='Deceased')\n",
    "plt.legend()\n",
    "plt.title(\"Cases per day in India\")\n",
    "plt.xticks(ticks=' ')\n",
    "plt.xlabel(f'{df_cases.iloc[0][0]} to {df_cases.iloc[-1][0]}')\n",
    "plt.ylabel('No. of cases');"
   ]
  },
  {
   "cell_type": "markdown",
   "metadata": {
    "papermill": {
     "duration": 0.017335,
     "end_time": "2020-09-02T19:11:57.032001",
     "exception": false,
     "start_time": "2020-09-02T19:11:57.014666",
     "status": "completed"
    },
    "tags": []
   },
   "source": [
    "Plots for the states with highest number of cases:"
   ]
  },
  {
   "cell_type": "code",
   "execution_count": 13,
   "metadata": {
    "execution": {
     "iopub.execute_input": "2020-09-02T19:11:57.076694Z",
     "iopub.status.busy": "2020-09-02T19:11:57.075065Z",
     "iopub.status.idle": "2020-09-02T19:11:57.675273Z",
     "shell.execute_reply": "2020-09-02T19:11:57.675753Z"
    },
    "papermill": {
     "duration": 0.626442,
     "end_time": "2020-09-02T19:11:57.675917",
     "exception": false,
     "start_time": "2020-09-02T19:11:57.049475",
     "status": "completed"
    },
    "tags": []
   },
   "outputs": [
    {
     "data": {
      "image/png": "[encoded data removed]",
      "text/plain": [
       "<Figure size 1512x432 with 3 Axes>"
      ]
     },
     "metadata": {
      "needs_background": "light"
     },
     "output_type": "display_data"
    }
   ],
   "source": [
    "#hide_input\n",
    "top_3 = sorted(df_cases.sum().values[1:], reverse=True)[1:4]\n",
    "top3_states=[]\n",
    "for i in top_3:\n",
    "    top3_states.append(df_cases.sum()[df_cases.sum() == i].index)\n",
    "\n",
    "\n",
    "fig, ax = plt.subplots(1,3,figsize = (21,6))\n",
    "for i in range(3):\n",
    "    state = top3_states[i].values[0]\n",
    "    ax[i].plot(df_cases['Date'], df_cases[state],'.-', color='b', alpha=0.7)\n",
    "    ax[i].plot(df_deaths['Date'], df_deaths[state],'.-', color='r', alpha=0.7)\n",
    "    ax[i].plot(df_recovered['Date'], df_recovered[state],'.-', color='g', alpha=0.7)\n",
    "    \n",
    "    ax[i].set_title(f\"Cases in {state}\")\n",
    "    ax[i].set_xticks(ticks=' ')\n",
    "    ax[i].set_xlabel(f'{df_cases.iloc[0][0]} to {df_cases.iloc[-1][0]}')\n",
    "    ax[i].set_ylabel('No. of cases');"
   ]
  },
  {
   "cell_type": "code",
   "execution_count": null,
   "metadata": {
    "papermill": {
     "duration": 0.020753,
     "end_time": "2020-09-02T19:11:57.717553",
     "exception": false,
     "start_time": "2020-09-02T19:11:57.696800",
     "status": "completed"
    },
    "tags": []
   },
   "outputs": [],
   "source": []
  },
  {
   "cell_type": "code",
   "execution_count": null,
   "metadata": {
    "papermill": {
     "duration": 0.020337,
     "end_time": "2020-09-02T19:11:57.758603",
     "exception": false,
     "start_time": "2020-09-02T19:11:57.738266",
     "status": "completed"
    },
    "tags": []
   },
   "outputs": [],
   "source": []
  },
  {
   "cell_type": "code",
   "execution_count": null,
   "metadata": {
    "papermill": {
     "duration": 0.020356,
     "end_time": "2020-09-02T19:11:57.799272",
     "exception": false,
     "start_time": "2020-09-02T19:11:57.778916",
     "status": "completed"
    },
    "tags": []
   },
   "outputs": [],
   "source": []
  }
 ],
 "metadata": {
  "kernelspec": {
   "display_name": "Python 3",
   "language": "python",
   "name": "python3"
  },
  "language_info": {
   "codemirror_mode": {
    "name": "ipython",
    "version": 3
   },
   "file_extension": ".py",
   "mimetype": "text/x-python",
   "name": "python",
   "nbconvert_exporter": "python",
   "pygments_lexer": "ipython3",
   "version": "3.6.12"
  },
  "papermill": {
   "duration": 4.619973,
   "end_time": "2020-09-02T19:11:58.129433",
   "environment_variables": {},
   "exception": null,
   "input_path": "2020-08-09-DailyUpdate.ipynb",
   "output_path": "2020-08-09-DailyUpdate.ipynb",
   "parameters": {},
   "start_time": "2020-09-02T19:11:53.509460",
   "version": "2.1.2"
  }
 },
 "nbformat": 4,
 "nbformat_minor": 4
}