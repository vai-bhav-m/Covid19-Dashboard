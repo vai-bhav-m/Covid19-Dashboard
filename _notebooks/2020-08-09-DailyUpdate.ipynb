{
 "cells": [
  {
   "cell_type": "markdown",
   "metadata": {
    "papermill": {
     "duration": 0.018498,
     "end_time": "2020-09-16T19:12:55.804908",
     "exception": false,
     "start_time": "2020-09-16T19:12:55.786410",
     "status": "completed"
    },
    "tags": []
   },
   "source": [
    "# COVID-19 India Daily updates\n",
    "> Tracking coronavirus total cases, deaths and new cases in India on a daily basis\n",
    "\n",
    "- author: Vaibhav Mahapatra"
   ]
  },
  {
   "cell_type": "code",
   "execution_count": 1,
   "metadata": {
    "execution": {
     "iopub.execute_input": "2020-09-16T19:12:55.839865Z",
     "iopub.status.busy": "2020-09-16T19:12:55.839172Z",
     "iopub.status.idle": "2020-09-16T19:12:56.524443Z",
     "shell.execute_reply": "2020-09-16T19:12:56.523733Z"
    },
    "papermill": {
     "duration": 0.7051,
     "end_time": "2020-09-16T19:12:56.524634",
     "exception": false,
     "start_time": "2020-09-16T19:12:55.819534",
     "status": "completed"
    },
    "tags": []
   },
   "outputs": [],
   "source": [
    "#hide\n",
    "\n",
    "## Import essential packages below\n",
    "\n",
    "import pandas as pd\n",
    "import numpy as np\n",
    "import requests\n",
    "import json\n",
    "import matplotlib.pyplot as plt\n",
    "import matplotlib.dates as mdates\n",
    "import matplotlib as mpl\n",
    "from IPython.core.display import display,HTML\n",
    "%matplotlib inline"
   ]
  },
  {
   "cell_type": "code",
   "execution_count": 2,
   "metadata": {
    "execution": {
     "iopub.execute_input": "2020-09-16T19:12:56.564846Z",
     "iopub.status.busy": "2020-09-16T19:12:56.563644Z",
     "iopub.status.idle": "2020-09-16T19:12:56.719905Z",
     "shell.execute_reply": "2020-09-16T19:12:56.720548Z"
    },
    "papermill": {
     "duration": 0.181123,
     "end_time": "2020-09-16T19:12:56.720743",
     "exception": false,
     "start_time": "2020-09-16T19:12:56.539620",
     "status": "completed"
    },
    "tags": []
   },
   "outputs": [
    {
     "data": {
      "text/plain": [
       "(561, 41)"
      ]
     },
     "execution_count": 2,
     "metadata": {},
     "output_type": "execute_result"
    }
   ],
   "source": [
    "#hide\n",
    "url = 'https://api.covid19india.org/csv/latest/state_wise_daily.csv'\n",
    "df = pd.read_csv(url)\n",
    "df.shape"
   ]
  },
  {
   "cell_type": "code",
   "execution_count": 3,
   "metadata": {
    "execution": {
     "iopub.execute_input": "2020-09-16T19:12:56.801667Z",
     "iopub.status.busy": "2020-09-16T19:12:56.790194Z",
     "iopub.status.idle": "2020-09-16T19:12:56.814829Z",
     "shell.execute_reply": "2020-09-16T19:12:56.815380Z"
    },
    "papermill": {
     "duration": 0.077362,
     "end_time": "2020-09-16T19:12:56.815545",
     "exception": false,
     "start_time": "2020-09-16T19:12:56.738183",
     "status": "completed"
    },
    "tags": []
   },
   "outputs": [
    {
     "data": {
      "text/html": [
       "<div>\n",
       "<style scoped>\n",
       "    .dataframe tbody tr th:only-of-type {\n",
       "        vertical-align: middle;\n",
       "    }\n",
       "\n",
       "    .dataframe tbody tr th {\n",
       "        vertical-align: top;\n",
       "    }\n",
       "\n",
       "    .dataframe thead th {\n",
       "        text-align: right;\n",
       "    }\n",
       "</style>\n",
       "<table border=\"1\" class=\"dataframe\">\n",
       "  <thead>\n",
       "    <tr style=\"text-align: right;\">\n",
       "      <th></th>\n",
       "      <th>Date</th>\n",
       "      <th>Status</th>\n",
       "      <th>TT</th>\n",
       "      <th>AN</th>\n",
       "      <th>AP</th>\n",
       "      <th>AR</th>\n",
       "      <th>AS</th>\n",
       "      <th>BR</th>\n",
       "      <th>CH</th>\n",
       "      <th>CT</th>\n",
       "      <th>...</th>\n",
       "      <th>PB</th>\n",
       "      <th>RJ</th>\n",
       "      <th>SK</th>\n",
       "      <th>TN</th>\n",
       "      <th>TG</th>\n",
       "      <th>TR</th>\n",
       "      <th>UP</th>\n",
       "      <th>UT</th>\n",
       "      <th>WB</th>\n",
       "      <th>UN</th>\n",
       "    </tr>\n",
       "  </thead>\n",
       "  <tbody>\n",
       "    <tr>\n",
       "      <th>555</th>\n",
       "      <td>15-Sep-20</td>\n",
       "      <td>Confirmed</td>\n",
       "      <td>91097</td>\n",
       "      <td>17</td>\n",
       "      <td>8846</td>\n",
       "      <td>169</td>\n",
       "      <td>2409</td>\n",
       "      <td>1575</td>\n",
       "      <td>347</td>\n",
       "      <td>3450</td>\n",
       "      <td>...</td>\n",
       "      <td>2382</td>\n",
       "      <td>1760</td>\n",
       "      <td>54</td>\n",
       "      <td>5697</td>\n",
       "      <td>2058</td>\n",
       "      <td>531</td>\n",
       "      <td>6841</td>\n",
       "      <td>1391</td>\n",
       "      <td>3227</td>\n",
       "      <td>0</td>\n",
       "    </tr>\n",
       "    <tr>\n",
       "      <th>556</th>\n",
       "      <td>15-Sep-20</td>\n",
       "      <td>Recovered</td>\n",
       "      <td>82849</td>\n",
       "      <td>40</td>\n",
       "      <td>9628</td>\n",
       "      <td>127</td>\n",
       "      <td>1848</td>\n",
       "      <td>1514</td>\n",
       "      <td>202</td>\n",
       "      <td>1129</td>\n",
       "      <td>...</td>\n",
       "      <td>1830</td>\n",
       "      <td>1711</td>\n",
       "      <td>169</td>\n",
       "      <td>5735</td>\n",
       "      <td>2180</td>\n",
       "      <td>389</td>\n",
       "      <td>6680</td>\n",
       "      <td>1008</td>\n",
       "      <td>2919</td>\n",
       "      <td>0</td>\n",
       "    </tr>\n",
       "    <tr>\n",
       "      <th>557</th>\n",
       "      <td>15-Sep-20</td>\n",
       "      <td>Deceased</td>\n",
       "      <td>1282</td>\n",
       "      <td>0</td>\n",
       "      <td>69</td>\n",
       "      <td>2</td>\n",
       "      <td>10</td>\n",
       "      <td>5</td>\n",
       "      <td>1</td>\n",
       "      <td>15</td>\n",
       "      <td>...</td>\n",
       "      <td>91</td>\n",
       "      <td>14</td>\n",
       "      <td>3</td>\n",
       "      <td>68</td>\n",
       "      <td>10</td>\n",
       "      <td>7</td>\n",
       "      <td>113</td>\n",
       "      <td>9</td>\n",
       "      <td>59</td>\n",
       "      <td>0</td>\n",
       "    </tr>\n",
       "    <tr>\n",
       "      <th>558</th>\n",
       "      <td>16-Sep-20</td>\n",
       "      <td>Confirmed</td>\n",
       "      <td>97856</td>\n",
       "      <td>19</td>\n",
       "      <td>8835</td>\n",
       "      <td>226</td>\n",
       "      <td>2394</td>\n",
       "      <td>1531</td>\n",
       "      <td>366</td>\n",
       "      <td>3188</td>\n",
       "      <td>...</td>\n",
       "      <td>2702</td>\n",
       "      <td>1782</td>\n",
       "      <td>48</td>\n",
       "      <td>5652</td>\n",
       "      <td>2273</td>\n",
       "      <td>454</td>\n",
       "      <td>6229</td>\n",
       "      <td>1540</td>\n",
       "      <td>3237</td>\n",
       "      <td>0</td>\n",
       "    </tr>\n",
       "    <tr>\n",
       "      <th>559</th>\n",
       "      <td>16-Sep-20</td>\n",
       "      <td>Recovered</td>\n",
       "      <td>82922</td>\n",
       "      <td>27</td>\n",
       "      <td>10845</td>\n",
       "      <td>129</td>\n",
       "      <td>2464</td>\n",
       "      <td>1724</td>\n",
       "      <td>181</td>\n",
       "      <td>1646</td>\n",
       "      <td>...</td>\n",
       "      <td>2756</td>\n",
       "      <td>1479</td>\n",
       "      <td>32</td>\n",
       "      <td>5768</td>\n",
       "      <td>2260</td>\n",
       "      <td>510</td>\n",
       "      <td>6476</td>\n",
       "      <td>1192</td>\n",
       "      <td>2971</td>\n",
       "      <td>0</td>\n",
       "    </tr>\n",
       "    <tr>\n",
       "      <th>560</th>\n",
       "      <td>16-Sep-20</td>\n",
       "      <td>Deceased</td>\n",
       "      <td>1140</td>\n",
       "      <td>0</td>\n",
       "      <td>64</td>\n",
       "      <td>0</td>\n",
       "      <td>19</td>\n",
       "      <td>12</td>\n",
       "      <td>5</td>\n",
       "      <td>23</td>\n",
       "      <td>...</td>\n",
       "      <td>78</td>\n",
       "      <td>15</td>\n",
       "      <td>0</td>\n",
       "      <td>57</td>\n",
       "      <td>12</td>\n",
       "      <td>10</td>\n",
       "      <td>86</td>\n",
       "      <td>9</td>\n",
       "      <td>61</td>\n",
       "      <td>0</td>\n",
       "    </tr>\n",
       "  </tbody>\n",
       "</table>\n",
       "<p>6 rows × 41 columns</p>\n",
       "</div>"
      ],
      "text/plain": [
       "          Date     Status     TT  AN     AP   AR    AS    BR   CH    CT  ...  \\\n",
       "555  15-Sep-20  Confirmed  91097  17   8846  169  2409  1575  347  3450  ...   \n",
       "556  15-Sep-20  Recovered  82849  40   9628  127  1848  1514  202  1129  ...   \n",
       "557  15-Sep-20   Deceased   1282   0     69    2    10     5    1    15  ...   \n",
       "558  16-Sep-20  Confirmed  97856  19   8835  226  2394  1531  366  3188  ...   \n",
       "559  16-Sep-20  Recovered  82922  27  10845  129  2464  1724  181  1646  ...   \n",
       "560  16-Sep-20   Deceased   1140   0     64    0    19    12    5    23  ...   \n",
       "\n",
       "       PB    RJ   SK    TN    TG   TR    UP    UT    WB  UN  \n",
       "555  2382  1760   54  5697  2058  531  6841  1391  3227   0  \n",
       "556  1830  1711  169  5735  2180  389  6680  1008  2919   0  \n",
       "557    91    14    3    68    10    7   113     9    59   0  \n",
       "558  2702  1782   48  5652  2273  454  6229  1540  3237   0  \n",
       "559  2756  1479   32  5768  2260  510  6476  1192  2971   0  \n",
       "560    78    15    0    57    12   10    86     9    61   0  \n",
       "\n",
       "[6 rows x 41 columns]"
      ]
     },
     "execution_count": 3,
     "metadata": {},
     "output_type": "execute_result"
    }
   ],
   "source": [
    "#hide\n",
    "df.tail(6)"
   ]
  },
  {
   "cell_type": "code",
   "execution_count": 4,
   "metadata": {
    "execution": {
     "iopub.execute_input": "2020-09-16T19:12:56.852471Z",
     "iopub.status.busy": "2020-09-16T19:12:56.851749Z",
     "iopub.status.idle": "2020-09-16T19:12:56.855066Z",
     "shell.execute_reply": "2020-09-16T19:12:56.854520Z"
    },
    "papermill": {
     "duration": 0.025567,
     "end_time": "2020-09-16T19:12:56.855199",
     "exception": false,
     "start_time": "2020-09-16T19:12:56.829632",
     "status": "completed"
    },
    "tags": []
   },
   "outputs": [
    {
     "data": {
      "text/plain": [
       "('16-Sep-20', '15-Sep-20')"
      ]
     },
     "execution_count": 4,
     "metadata": {},
     "output_type": "execute_result"
    }
   ],
   "source": [
    "#hide\n",
    "dt_today = df.iloc[-1][0]\n",
    "dt_yday = df.iloc[-4][0]\n",
    "dt_today, dt_yday"
   ]
  },
  {
   "cell_type": "code",
   "execution_count": 5,
   "metadata": {
    "execution": {
     "iopub.execute_input": "2020-09-16T19:12:56.892667Z",
     "iopub.status.busy": "2020-09-16T19:12:56.891865Z",
     "iopub.status.idle": "2020-09-16T19:12:56.899282Z",
     "shell.execute_reply": "2020-09-16T19:12:56.898706Z"
    },
    "papermill": {
     "duration": 0.029725,
     "end_time": "2020-09-16T19:12:56.899427",
     "exception": false,
     "start_time": "2020-09-16T19:12:56.869702",
     "status": "completed"
    },
    "tags": []
   },
   "outputs": [],
   "source": [
    "#hide\n",
    "df_today = df.groupby('Status').sum()\n",
    "df_yday = df.iloc[:-3][:].groupby('Status').sum()"
   ]
  },
  {
   "cell_type": "code",
   "execution_count": 6,
   "metadata": {
    "execution": {
     "iopub.execute_input": "2020-09-16T19:12:56.954152Z",
     "iopub.status.busy": "2020-09-16T19:12:56.953407Z",
     "iopub.status.idle": "2020-09-16T19:12:56.957352Z",
     "shell.execute_reply": "2020-09-16T19:12:56.956782Z"
    },
    "papermill": {
     "duration": 0.04243,
     "end_time": "2020-09-16T19:12:56.957506",
     "exception": false,
     "start_time": "2020-09-16T19:12:56.915076",
     "status": "completed"
    },
    "tags": []
   },
   "outputs": [
    {
     "data": {
      "text/html": [
       "<div>\n",
       "<style scoped>\n",
       "    .dataframe tbody tr th:only-of-type {\n",
       "        vertical-align: middle;\n",
       "    }\n",
       "\n",
       "    .dataframe tbody tr th {\n",
       "        vertical-align: top;\n",
       "    }\n",
       "\n",
       "    .dataframe thead th {\n",
       "        text-align: right;\n",
       "    }\n",
       "</style>\n",
       "<table border=\"1\" class=\"dataframe\">\n",
       "  <thead>\n",
       "    <tr style=\"text-align: right;\">\n",
       "      <th></th>\n",
       "      <th>TT</th>\n",
       "      <th>AN</th>\n",
       "      <th>AP</th>\n",
       "      <th>AR</th>\n",
       "      <th>AS</th>\n",
       "      <th>BR</th>\n",
       "      <th>CH</th>\n",
       "      <th>CT</th>\n",
       "      <th>DN</th>\n",
       "      <th>DD</th>\n",
       "      <th>...</th>\n",
       "      <th>PB</th>\n",
       "      <th>RJ</th>\n",
       "      <th>SK</th>\n",
       "      <th>TN</th>\n",
       "      <th>TG</th>\n",
       "      <th>TR</th>\n",
       "      <th>UP</th>\n",
       "      <th>UT</th>\n",
       "      <th>WB</th>\n",
       "      <th>UN</th>\n",
       "    </tr>\n",
       "    <tr>\n",
       "      <th>Status</th>\n",
       "      <th></th>\n",
       "      <th></th>\n",
       "      <th></th>\n",
       "      <th></th>\n",
       "      <th></th>\n",
       "      <th></th>\n",
       "      <th></th>\n",
       "      <th></th>\n",
       "      <th></th>\n",
       "      <th></th>\n",
       "      <th></th>\n",
       "      <th></th>\n",
       "      <th></th>\n",
       "      <th></th>\n",
       "      <th></th>\n",
       "      <th></th>\n",
       "      <th></th>\n",
       "      <th></th>\n",
       "      <th></th>\n",
       "      <th></th>\n",
       "      <th></th>\n",
       "    </tr>\n",
       "  </thead>\n",
       "  <tbody>\n",
       "    <tr>\n",
       "      <th>Confirmed</th>\n",
       "      <td>5111859</td>\n",
       "      <td>3589</td>\n",
       "      <td>592760</td>\n",
       "      <td>6692</td>\n",
       "      <td>148867</td>\n",
       "      <td>162632</td>\n",
       "      <td>8958</td>\n",
       "      <td>73965</td>\n",
       "      <td>2806</td>\n",
       "      <td>0</td>\n",
       "      <td>...</td>\n",
       "      <td>87184</td>\n",
       "      <td>107680</td>\n",
       "      <td>2203</td>\n",
       "      <td>519860</td>\n",
       "      <td>162334</td>\n",
       "      <td>20169</td>\n",
       "      <td>330265</td>\n",
       "      <td>35947</td>\n",
       "      <td>212383</td>\n",
       "      <td>0</td>\n",
       "    </tr>\n",
       "    <tr>\n",
       "      <th>Deceased</th>\n",
       "      <td>82612</td>\n",
       "      <td>52</td>\n",
       "      <td>5105</td>\n",
       "      <td>13</td>\n",
       "      <td>499</td>\n",
       "      <td>848</td>\n",
       "      <td>101</td>\n",
       "      <td>611</td>\n",
       "      <td>2</td>\n",
       "      <td>0</td>\n",
       "      <td>...</td>\n",
       "      <td>2592</td>\n",
       "      <td>1279</td>\n",
       "      <td>16</td>\n",
       "      <td>8559</td>\n",
       "      <td>996</td>\n",
       "      <td>217</td>\n",
       "      <td>4690</td>\n",
       "      <td>447</td>\n",
       "      <td>4123</td>\n",
       "      <td>0</td>\n",
       "    </tr>\n",
       "    <tr>\n",
       "      <th>Recovered</th>\n",
       "      <td>4020179</td>\n",
       "      <td>3336</td>\n",
       "      <td>497376</td>\n",
       "      <td>4787</td>\n",
       "      <td>119364</td>\n",
       "      <td>148257</td>\n",
       "      <td>5683</td>\n",
       "      <td>35884</td>\n",
       "      <td>2559</td>\n",
       "      <td>0</td>\n",
       "      <td>...</td>\n",
       "      <td>63570</td>\n",
       "      <td>89352</td>\n",
       "      <td>1721</td>\n",
       "      <td>464668</td>\n",
       "      <td>131447</td>\n",
       "      <td>12435</td>\n",
       "      <td>258573</td>\n",
       "      <td>24277</td>\n",
       "      <td>184113</td>\n",
       "      <td>0</td>\n",
       "    </tr>\n",
       "  </tbody>\n",
       "</table>\n",
       "<p>3 rows × 39 columns</p>\n",
       "</div>"
      ],
      "text/plain": [
       "                TT    AN      AP    AR      AS      BR    CH     CT    DN  DD  \\\n",
       "Status                                                                          \n",
       "Confirmed  5111859  3589  592760  6692  148867  162632  8958  73965  2806   0   \n",
       "Deceased     82612    52    5105    13     499     848   101    611     2   0   \n",
       "Recovered  4020179  3336  497376  4787  119364  148257  5683  35884  2559   0   \n",
       "\n",
       "           ...     PB      RJ    SK      TN      TG     TR      UP     UT  \\\n",
       "Status     ...                                                              \n",
       "Confirmed  ...  87184  107680  2203  519860  162334  20169  330265  35947   \n",
       "Deceased   ...   2592    1279    16    8559     996    217    4690    447   \n",
       "Recovered  ...  63570   89352  1721  464668  131447  12435  258573  24277   \n",
       "\n",
       "               WB  UN  \n",
       "Status                 \n",
       "Confirmed  212383   0  \n",
       "Deceased     4123   0  \n",
       "Recovered  184113   0  \n",
       "\n",
       "[3 rows x 39 columns]"
      ]
     },
     "execution_count": 6,
     "metadata": {},
     "output_type": "execute_result"
    }
   ],
   "source": [
    "#hide\n",
    "df_today"
   ]
  },
  {
   "cell_type": "code",
   "execution_count": 7,
   "metadata": {
    "execution": {
     "iopub.execute_input": "2020-09-16T19:12:57.008074Z",
     "iopub.status.busy": "2020-09-16T19:12:57.007047Z",
     "iopub.status.idle": "2020-09-16T19:12:57.019551Z",
     "shell.execute_reply": "2020-09-16T19:12:57.018774Z"
    },
    "papermill": {
     "duration": 0.045615,
     "end_time": "2020-09-16T19:12:57.019703",
     "exception": false,
     "start_time": "2020-09-16T19:12:56.974088",
     "status": "completed"
    },
    "tags": []
   },
   "outputs": [
    {
     "data": {
      "text/html": [
       "<div>\n",
       "<style scoped>\n",
       "    .dataframe tbody tr th:only-of-type {\n",
       "        vertical-align: middle;\n",
       "    }\n",
       "\n",
       "    .dataframe tbody tr th {\n",
       "        vertical-align: top;\n",
       "    }\n",
       "\n",
       "    .dataframe thead th {\n",
       "        text-align: right;\n",
       "    }\n",
       "</style>\n",
       "<table border=\"1\" class=\"dataframe\">\n",
       "  <thead>\n",
       "    <tr style=\"text-align: right;\">\n",
       "      <th></th>\n",
       "      <th>TT</th>\n",
       "      <th>AN</th>\n",
       "      <th>AP</th>\n",
       "      <th>AR</th>\n",
       "      <th>AS</th>\n",
       "      <th>BR</th>\n",
       "      <th>CH</th>\n",
       "      <th>CT</th>\n",
       "      <th>DN</th>\n",
       "      <th>DD</th>\n",
       "      <th>...</th>\n",
       "      <th>PB</th>\n",
       "      <th>RJ</th>\n",
       "      <th>SK</th>\n",
       "      <th>TN</th>\n",
       "      <th>TG</th>\n",
       "      <th>TR</th>\n",
       "      <th>UP</th>\n",
       "      <th>UT</th>\n",
       "      <th>WB</th>\n",
       "      <th>UN</th>\n",
       "    </tr>\n",
       "    <tr>\n",
       "      <th>Status</th>\n",
       "      <th></th>\n",
       "      <th></th>\n",
       "      <th></th>\n",
       "      <th></th>\n",
       "      <th></th>\n",
       "      <th></th>\n",
       "      <th></th>\n",
       "      <th></th>\n",
       "      <th></th>\n",
       "      <th></th>\n",
       "      <th></th>\n",
       "      <th></th>\n",
       "      <th></th>\n",
       "      <th></th>\n",
       "      <th></th>\n",
       "      <th></th>\n",
       "      <th></th>\n",
       "      <th></th>\n",
       "      <th></th>\n",
       "      <th></th>\n",
       "      <th></th>\n",
       "    </tr>\n",
       "  </thead>\n",
       "  <tbody>\n",
       "    <tr>\n",
       "      <th>Confirmed</th>\n",
       "      <td>5014003</td>\n",
       "      <td>3570</td>\n",
       "      <td>583925</td>\n",
       "      <td>6466</td>\n",
       "      <td>146473</td>\n",
       "      <td>161101</td>\n",
       "      <td>8592</td>\n",
       "      <td>70777</td>\n",
       "      <td>2783</td>\n",
       "      <td>0</td>\n",
       "      <td>...</td>\n",
       "      <td>84482</td>\n",
       "      <td>105898</td>\n",
       "      <td>2155</td>\n",
       "      <td>514208</td>\n",
       "      <td>160061</td>\n",
       "      <td>19715</td>\n",
       "      <td>324036</td>\n",
       "      <td>34407</td>\n",
       "      <td>209146</td>\n",
       "      <td>0</td>\n",
       "    </tr>\n",
       "    <tr>\n",
       "      <th>Deceased</th>\n",
       "      <td>81472</td>\n",
       "      <td>52</td>\n",
       "      <td>5041</td>\n",
       "      <td>13</td>\n",
       "      <td>480</td>\n",
       "      <td>836</td>\n",
       "      <td>96</td>\n",
       "      <td>588</td>\n",
       "      <td>2</td>\n",
       "      <td>0</td>\n",
       "      <td>...</td>\n",
       "      <td>2514</td>\n",
       "      <td>1264</td>\n",
       "      <td>16</td>\n",
       "      <td>8502</td>\n",
       "      <td>984</td>\n",
       "      <td>207</td>\n",
       "      <td>4604</td>\n",
       "      <td>438</td>\n",
       "      <td>4062</td>\n",
       "      <td>0</td>\n",
       "    </tr>\n",
       "    <tr>\n",
       "      <th>Recovered</th>\n",
       "      <td>3937257</td>\n",
       "      <td>3309</td>\n",
       "      <td>486531</td>\n",
       "      <td>4658</td>\n",
       "      <td>116900</td>\n",
       "      <td>146533</td>\n",
       "      <td>5502</td>\n",
       "      <td>34238</td>\n",
       "      <td>2537</td>\n",
       "      <td>0</td>\n",
       "      <td>...</td>\n",
       "      <td>60814</td>\n",
       "      <td>87873</td>\n",
       "      <td>1689</td>\n",
       "      <td>458900</td>\n",
       "      <td>129187</td>\n",
       "      <td>11925</td>\n",
       "      <td>252097</td>\n",
       "      <td>23085</td>\n",
       "      <td>181142</td>\n",
       "      <td>0</td>\n",
       "    </tr>\n",
       "  </tbody>\n",
       "</table>\n",
       "<p>3 rows × 39 columns</p>\n",
       "</div>"
      ],
      "text/plain": [
       "                TT    AN      AP    AR      AS      BR    CH     CT    DN  DD  \\\n",
       "Status                                                                          \n",
       "Confirmed  5014003  3570  583925  6466  146473  161101  8592  70777  2783   0   \n",
       "Deceased     81472    52    5041    13     480     836    96    588     2   0   \n",
       "Recovered  3937257  3309  486531  4658  116900  146533  5502  34238  2537   0   \n",
       "\n",
       "           ...     PB      RJ    SK      TN      TG     TR      UP     UT  \\\n",
       "Status     ...                                                              \n",
       "Confirmed  ...  84482  105898  2155  514208  160061  19715  324036  34407   \n",
       "Deceased   ...   2514    1264    16    8502     984    207    4604    438   \n",
       "Recovered  ...  60814   87873  1689  458900  129187  11925  252097  23085   \n",
       "\n",
       "               WB  UN  \n",
       "Status                 \n",
       "Confirmed  209146   0  \n",
       "Deceased     4062   0  \n",
       "Recovered  181142   0  \n",
       "\n",
       "[3 rows x 39 columns]"
      ]
     },
     "execution_count": 7,
     "metadata": {},
     "output_type": "execute_result"
    }
   ],
   "source": [
    "#hide\n",
    "df_yday.head()"
   ]
  },
  {
   "cell_type": "code",
   "execution_count": 8,
   "metadata": {
    "execution": {
     "iopub.execute_input": "2020-09-16T19:12:57.063886Z",
     "iopub.status.busy": "2020-09-16T19:12:57.063180Z",
     "iopub.status.idle": "2020-09-16T19:12:57.065987Z",
     "shell.execute_reply": "2020-09-16T19:12:57.066662Z"
    },
    "papermill": {
     "duration": 0.031103,
     "end_time": "2020-09-16T19:12:57.066838",
     "exception": false,
     "start_time": "2020-09-16T19:12:57.035735",
     "status": "completed"
    },
    "tags": []
   },
   "outputs": [
    {
     "data": {
      "text/plain": [
       "{'updated': '16-Sep-20',\n",
       " 'since': '15-Sep-20',\n",
       " 'Cases': 5111859,\n",
       " 'Deaths': 82612,\n",
       " 'Recovered': 4020179,\n",
       " 'PCases': 5014003,\n",
       " 'PDeaths': 81472,\n",
       " 'PRecovered': 3937257,\n",
       " 'Cases (+)': 97856,\n",
       " 'Deaths (+)': 1140,\n",
       " 'Recovered (+)': 82922}"
      ]
     },
     "execution_count": 8,
     "metadata": {},
     "output_type": "execute_result"
    }
   ],
   "source": [
    "#hide\n",
    "summary = {\n",
    "    'updated' : dt_today,\n",
    "    'since' : dt_yday,\n",
    "    'Cases' : df_today['TT'][0],\n",
    "    'Deaths' : df_today['TT'][1],\n",
    "    'Recovered' : df_today['TT'][2],\n",
    "    'PCases' : df_yday['TT'][0],\n",
    "    'PDeaths' : df_yday['TT'][1],\n",
    "    'PRecovered': df_yday['TT'][2],\n",
    "    'Cases (+)' : df_today['TT'][0] - df_yday['TT'][0],\n",
    "    'Deaths (+)' : df_today['TT'][1] - df_yday['TT'][1],\n",
    "    'Recovered (+)': df_today['TT'][2] - df_yday['TT'][2]\n",
    "}\n",
    "\n",
    "summary"
   ]
  },
  {
   "cell_type": "code",
   "execution_count": 9,
   "metadata": {
    "execution": {
     "iopub.execute_input": "2020-09-16T19:12:57.110643Z",
     "iopub.status.busy": "2020-09-16T19:12:57.109764Z",
     "iopub.status.idle": "2020-09-16T19:12:57.111804Z",
     "shell.execute_reply": "2020-09-16T19:12:57.112361Z"
    },
    "papermill": {
     "duration": 0.02809,
     "end_time": "2020-09-16T19:12:57.112572",
     "exception": false,
     "start_time": "2020-09-16T19:12:57.084482",
     "status": "completed"
    },
    "tags": []
   },
   "outputs": [],
   "source": [
    "#hide\n",
    "overview = '''\n",
    "<!-- #######  HTML!! #########-->\n",
    "<h1 style=\"color: #5e9ca0; text-align: center;\">India</h1>\n",
    "<p style=\"text-align: center;\">Last update: <strong>{update}</strong></p>\n",
    "<p style=\"text-align: center;\">Confirmed cases:</p>\n",
    "<p style=\"text-align: center;font-size:24px;\">{cases} (<span style=\"color: #ff0000;\">+{new}</span>)</p>\n",
    "<p style=\"text-align: center;\">Confirmed deaths:</p>\n",
    "<p style=\"text-align: center;font-size:24px;\">{deaths} (<span style=\"color: #ff0000;\">+{dnew}</span>)</p>\n",
    "<p style=\"text-align: center;\">Recovered cases:</p>\n",
    "<p style=\"text-align: center;font-size:24px;\">{recovered} (<span style=\"color: #00ff00;\">+{rnew}</span>)</p>\n",
    "'''"
   ]
  },
  {
   "cell_type": "code",
   "execution_count": 10,
   "metadata": {
    "execution": {
     "iopub.execute_input": "2020-09-16T19:12:57.158508Z",
     "iopub.status.busy": "2020-09-16T19:12:57.157792Z",
     "iopub.status.idle": "2020-09-16T19:12:57.161154Z",
     "shell.execute_reply": "2020-09-16T19:12:57.161722Z"
    },
    "papermill": {
     "duration": 0.029284,
     "end_time": "2020-09-16T19:12:57.161898",
     "exception": false,
     "start_time": "2020-09-16T19:12:57.132614",
     "status": "completed"
    },
    "tags": []
   },
   "outputs": [
    {
     "data": {
      "text/html": [
       "\n",
       "<!-- #######  HTML!! #########-->\n",
       "<h1 style=\"color: #5e9ca0; text-align: center;\">India</h1>\n",
       "<p style=\"text-align: center;\">Last update: <strong>16-Sep-20</strong></p>\n",
       "<p style=\"text-align: center;\">Confirmed cases:</p>\n",
       "<p style=\"text-align: center;font-size:24px;\">5111859 (<span style=\"color: #ff0000;\">+97856</span>)</p>\n",
       "<p style=\"text-align: center;\">Confirmed deaths:</p>\n",
       "<p style=\"text-align: center;font-size:24px;\">82612 (<span style=\"color: #ff0000;\">+1140</span>)</p>\n",
       "<p style=\"text-align: center;\">Recovered cases:</p>\n",
       "<p style=\"text-align: center;font-size:24px;\">4020179 (<span style=\"color: #00ff00;\">+82922</span>)</p>\n"
      ],
      "text/plain": [
       "<IPython.core.display.HTML object>"
      ]
     },
     "metadata": {},
     "output_type": "display_data"
    }
   ],
   "source": [
    "#hide_input\n",
    "# Fill the above HTML with the information from the summary dictionary\n",
    "\n",
    "update = summary['updated']\n",
    "cases = summary['Cases']\n",
    "new = summary['Cases (+)']\n",
    "deaths = summary['Deaths']\n",
    "dnew = summary['Deaths (+)']\n",
    "recovered = summary['Recovered']\n",
    "rnew = summary['Recovered (+)']\n",
    "\n",
    "html = HTML(overview.format(update=update, cases=cases,new=new,deaths=deaths,dnew=dnew, recovered=recovered, rnew=rnew))\n",
    "\n",
    "display(html)"
   ]
  },
  {
   "cell_type": "code",
   "execution_count": 11,
   "metadata": {
    "execution": {
     "iopub.execute_input": "2020-09-16T19:12:57.215006Z",
     "iopub.status.busy": "2020-09-16T19:12:57.214308Z",
     "iopub.status.idle": "2020-09-16T19:12:57.218473Z",
     "shell.execute_reply": "2020-09-16T19:12:57.219059Z"
    },
    "papermill": {
     "duration": 0.038278,
     "end_time": "2020-09-16T19:12:57.219271",
     "exception": false,
     "start_time": "2020-09-16T19:12:57.180993",
     "status": "completed"
    },
    "tags": []
   },
   "outputs": [],
   "source": [
    "#hide\n",
    "df_cases = df[df['Status'] == 'Confirmed'].copy()\n",
    "df_cases.drop(columns = ['Status'], inplace=True)\n",
    "df_deaths = df[df['Status'] == 'Deceased'].copy()\n",
    "df_deaths.drop(columns = ['Status'], inplace=True)\n",
    "df_recovered = df[df['Status'] == 'Recovered'].copy()\n",
    "df_recovered.drop(columns = ['Status'], inplace=True)"
   ]
  },
  {
   "cell_type": "markdown",
   "metadata": {
    "papermill": {
     "duration": 0.01823,
     "end_time": "2020-09-16T19:12:57.255259",
     "exception": false,
     "start_time": "2020-09-16T19:12:57.237029",
     "status": "completed"
    },
    "tags": []
   },
   "source": [
    "Plot for India:"
   ]
  },
  {
   "cell_type": "code",
   "execution_count": 12,
   "metadata": {
    "execution": {
     "iopub.execute_input": "2020-09-16T19:12:57.315755Z",
     "iopub.status.busy": "2020-09-16T19:12:57.315124Z",
     "iopub.status.idle": "2020-09-16T19:12:57.617771Z",
     "shell.execute_reply": "2020-09-16T19:12:57.618327Z"
    },
    "papermill": {
     "duration": 0.345361,
     "end_time": "2020-09-16T19:12:57.618500",
     "exception": false,
     "start_time": "2020-09-16T19:12:57.273139",
     "status": "completed"
    },
    "tags": []
   },
   "outputs": [
    {
     "data": {
      "image/png": "[encoded data removed]",
      "text/plain": [
       "<Figure size 1296x432 with 1 Axes>"
      ]
     },
     "metadata": {
      "needs_background": "light"
     },
     "output_type": "display_data"
    }
   ],
   "source": [
    "#hide_input\n",
    "plt.figure(figsize = (18,6))\n",
    "plt.plot(df_cases['Date'], df_cases['TT'],'.-', alpha=0.7, color='b', label='Confirmed cases')\n",
    "plt.plot(df_recovered['Date'], df_recovered['TT'],'.-', alpha=0.7, color='g', label='Recovered')\n",
    "plt.plot(df_deaths['Date'], df_deaths['TT'],'.-', alpha=0.7, color='r', label='Deceased')\n",
    "plt.legend()\n",
    "plt.title(\"Cases per day in India\")\n",
    "plt.xticks(ticks=' ')\n",
    "plt.xlabel(f'{df_cases.iloc[0][0]} to {df_cases.iloc[-1][0]}')\n",
    "plt.ylabel('No. of cases');"
   ]
  },
  {
   "cell_type": "markdown",
   "metadata": {
    "papermill": {
     "duration": 0.019954,
     "end_time": "2020-09-16T19:12:57.659522",
     "exception": false,
     "start_time": "2020-09-16T19:12:57.639568",
     "status": "completed"
    },
    "tags": []
   },
   "source": [
    "Plots for the states with highest number of cases:"
   ]
  },
  {
   "cell_type": "code",
   "execution_count": 13,
   "metadata": {
    "execution": {
     "iopub.execute_input": "2020-09-16T19:12:57.706874Z",
     "iopub.status.busy": "2020-09-16T19:12:57.706165Z",
     "iopub.status.idle": "2020-09-16T19:12:58.431400Z",
     "shell.execute_reply": "2020-09-16T19:12:58.431903Z"
    },
    "papermill": {
     "duration": 0.75428,
     "end_time": "2020-09-16T19:12:58.432077",
     "exception": false,
     "start_time": "2020-09-16T19:12:57.677797",
     "status": "completed"
    },
    "tags": []
   },
   "outputs": [
    {
     "data": {
      "image/png": "[encoded data removed]",
      "text/plain": [
       "<Figure size 1512x432 with 3 Axes>"
      ]
     },
     "metadata": {
      "needs_background": "light"
     },
     "output_type": "display_data"
    }
   ],
   "source": [
    "#hide_input\n",
    "top_3 = sorted(df_cases.sum().values[1:], reverse=True)[1:4]\n",
    "top3_states=[]\n",
    "for i in top_3:\n",
    "    top3_states.append(df_cases.sum()[df_cases.sum() == i].index)\n",
    "\n",
    "\n",
    "fig, ax = plt.subplots(1,3,figsize = (21,6))\n",
    "for i in range(3):\n",
    "    state = top3_states[i].values[0]\n",
    "    ax[i].plot(df_cases['Date'], df_cases[state],'.-', color='b', alpha=0.7)\n",
    "    ax[i].plot(df_deaths['Date'], df_deaths[state],'.-', color='r', alpha=0.7)\n",
    "    ax[i].plot(df_recovered['Date'], df_recovered[state],'.-', color='g', alpha=0.7)\n",
    "    \n",
    "    ax[i].set_title(f\"Cases in {state}\")\n",
    "    ax[i].set_xticks(ticks=' ')\n",
    "    ax[i].set_xlabel(f'{df_cases.iloc[0][0]} to {df_cases.iloc[-1][0]}')\n",
    "    ax[i].set_ylabel('No. of cases');"
   ]
  },
  {
   "cell_type": "code",
   "execution_count": null,
   "metadata": {
    "papermill": {
     "duration": 0.021675,
     "end_time": "2020-09-16T19:12:58.475644",
     "exception": false,
     "start_time": "2020-09-16T19:12:58.453969",
     "status": "completed"
    },
    "tags": []
   },
   "outputs": [],
   "source": []
  },
  {
   "cell_type": "code",
   "execution_count": null,
   "metadata": {
    "papermill": {
     "duration": 0.022659,
     "end_time": "2020-09-16T19:12:58.519612",
     "exception": false,
     "start_time": "2020-09-16T19:12:58.496953",
     "status": "completed"
    },
    "tags": []
   },
   "outputs": [],
   "source": []
  },
  {
   "cell_type": "code",
   "execution_count": null,
   "metadata": {
    "papermill": {
     "duration": 0.02385,
     "end_time": "2020-09-16T19:12:59.169066",
     "exception": false,
     "start_time": "2020-09-16T19:12:59.145216",
     "status": "completed"
    },
    "tags": []
   },
   "outputs": [],
   "source": []
  }
 ],
 "metadata": {
  "kernelspec": {
   "display_name": "Python 3",
   "language": "python",
   "name": "python3"
  },
  "language_info": {
   "codemirror_mode": {
    "name": "ipython",
    "version": 3
   },
   "file_extension": ".py",
   "mimetype": "text/x-python",
   "name": "python",
   "nbconvert_exporter": "python",
   "pygments_lexer": "ipython3",
   "version": "3.6.12"
  },
  "papermill": {
   "duration": 4.940519,
   "end_time": "2020-09-16T19:12:59.610749",
   "environment_variables": {},
   "exception": null,
   "input_path": "2020-08-09-DailyUpdate.ipynb",
   "output_path": "2020-08-09-DailyUpdate.ipynb",
   "parameters": {},
   "start_time": "2020-09-16T19:12:54.670230",
   "version": "2.1.2"
  }
 },
 "nbformat": 4,
 "nbformat_minor": 4
}