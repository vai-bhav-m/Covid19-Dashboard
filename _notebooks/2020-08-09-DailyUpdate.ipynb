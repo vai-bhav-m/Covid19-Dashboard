{
 "cells": [
  {
   "cell_type": "markdown",
   "metadata": {
    "papermill": {
     "duration": 0.011677,
     "end_time": "2020-08-12T08:26:23.952454",
     "exception": false,
     "start_time": "2020-08-12T08:26:23.940777",
     "status": "completed"
    },
    "tags": []
   },
   "source": [
    "# COVID-19 India Daily updates\n",
    "> Tracking coronavirus total cases, deaths and new cases in India on a daily basis\n",
    "\n",
    "- author: Vaibhav Mahapatra"
   ]
  },
  {
   "cell_type": "code",
   "execution_count": 1,
   "metadata": {
    "execution": {
     "iopub.execute_input": "2020-08-12T08:26:23.978634Z",
     "iopub.status.busy": "2020-08-12T08:26:23.978059Z",
     "iopub.status.idle": "2020-08-12T08:26:24.461515Z",
     "shell.execute_reply": "2020-08-12T08:26:24.460899Z"
    },
    "papermill": {
     "duration": 0.499378,
     "end_time": "2020-08-12T08:26:24.461688",
     "exception": false,
     "start_time": "2020-08-12T08:26:23.962310",
     "status": "completed"
    },
    "tags": []
   },
   "outputs": [],
   "source": [
    "#hide\n",
    "\n",
    "## Import essential packages below\n",
    "\n",
    "import pandas as pd\n",
    "import numpy as np\n",
    "import requests\n",
    "import json\n",
    "import matplotlib.pyplot as plt\n",
    "import matplotlib.dates as mdates\n",
    "import matplotlib as mpl\n",
    "from IPython.core.display import display,HTML\n",
    "%matplotlib inline"
   ]
  },
  {
   "cell_type": "code",
   "execution_count": 2,
   "metadata": {
    "execution": {
     "iopub.execute_input": "2020-08-12T08:26:24.486979Z",
     "iopub.status.busy": "2020-08-12T08:26:24.486490Z",
     "iopub.status.idle": "2020-08-12T08:26:24.582164Z",
     "shell.execute_reply": "2020-08-12T08:26:24.581684Z"
    },
    "papermill": {
     "duration": 0.109358,
     "end_time": "2020-08-12T08:26:24.582299",
     "exception": false,
     "start_time": "2020-08-12T08:26:24.472941",
     "status": "completed"
    },
    "tags": []
   },
   "outputs": [
    {
     "data": {
      "text/plain": [
       "(453, 41)"
      ]
     },
     "execution_count": 2,
     "metadata": {},
     "output_type": "execute_result"
    }
   ],
   "source": [
    "#hide\n",
    "url = 'https://api.covid19india.org/csv/latest/state_wise_daily.csv'\n",
    "df = pd.read_csv(url)\n",
    "df.shape"
   ]
  },
  {
   "cell_type": "code",
   "execution_count": 3,
   "metadata": {
    "execution": {
     "iopub.execute_input": "2020-08-12T08:26:24.655051Z",
     "iopub.status.busy": "2020-08-12T08:26:24.653456Z",
     "iopub.status.idle": "2020-08-12T08:26:24.665795Z",
     "shell.execute_reply": "2020-08-12T08:26:24.665144Z"
    },
    "papermill": {
     "duration": 0.07243,
     "end_time": "2020-08-12T08:26:24.665912",
     "exception": false,
     "start_time": "2020-08-12T08:26:24.593482",
     "status": "completed"
    },
    "tags": []
   },
   "outputs": [
    {
     "data": {
      "text/html": [
       "<div>\n",
       "<style scoped>\n",
       "    .dataframe tbody tr th:only-of-type {\n",
       "        vertical-align: middle;\n",
       "    }\n",
       "\n",
       "    .dataframe tbody tr th {\n",
       "        vertical-align: top;\n",
       "    }\n",
       "\n",
       "    .dataframe thead th {\n",
       "        text-align: right;\n",
       "    }\n",
       "</style>\n",
       "<table border=\"1\" class=\"dataframe\">\n",
       "  <thead>\n",
       "    <tr style=\"text-align: right;\">\n",
       "      <th></th>\n",
       "      <th>Date</th>\n",
       "      <th>Status</th>\n",
       "      <th>TT</th>\n",
       "      <th>AN</th>\n",
       "      <th>AP</th>\n",
       "      <th>AR</th>\n",
       "      <th>AS</th>\n",
       "      <th>BR</th>\n",
       "      <th>CH</th>\n",
       "      <th>CT</th>\n",
       "      <th>...</th>\n",
       "      <th>PB</th>\n",
       "      <th>RJ</th>\n",
       "      <th>SK</th>\n",
       "      <th>TN</th>\n",
       "      <th>TG</th>\n",
       "      <th>TR</th>\n",
       "      <th>UP</th>\n",
       "      <th>UT</th>\n",
       "      <th>WB</th>\n",
       "      <th>UN</th>\n",
       "    </tr>\n",
       "  </thead>\n",
       "  <tbody>\n",
       "    <tr>\n",
       "      <th>447</th>\n",
       "      <td>10-Aug-20</td>\n",
       "      <td>Confirmed</td>\n",
       "      <td>53016</td>\n",
       "      <td>135</td>\n",
       "      <td>7665</td>\n",
       "      <td>76</td>\n",
       "      <td>2900</td>\n",
       "      <td>3021</td>\n",
       "      <td>80</td>\n",
       "      <td>477</td>\n",
       "      <td>...</td>\n",
       "      <td>986</td>\n",
       "      <td>1173</td>\n",
       "      <td>44</td>\n",
       "      <td>5914</td>\n",
       "      <td>1256</td>\n",
       "      <td>62</td>\n",
       "      <td>4113</td>\n",
       "      <td>389</td>\n",
       "      <td>2905</td>\n",
       "      <td>0</td>\n",
       "    </tr>\n",
       "    <tr>\n",
       "      <th>448</th>\n",
       "      <td>10-Aug-20</td>\n",
       "      <td>Recovered</td>\n",
       "      <td>47362</td>\n",
       "      <td>61</td>\n",
       "      <td>6924</td>\n",
       "      <td>110</td>\n",
       "      <td>1261</td>\n",
       "      <td>2824</td>\n",
       "      <td>100</td>\n",
       "      <td>208</td>\n",
       "      <td>...</td>\n",
       "      <td>416</td>\n",
       "      <td>825</td>\n",
       "      <td>13</td>\n",
       "      <td>6037</td>\n",
       "      <td>1587</td>\n",
       "      <td>267</td>\n",
       "      <td>4074</td>\n",
       "      <td>167</td>\n",
       "      <td>3208</td>\n",
       "      <td>0</td>\n",
       "    </tr>\n",
       "    <tr>\n",
       "      <th>449</th>\n",
       "      <td>10-Aug-20</td>\n",
       "      <td>Deceased</td>\n",
       "      <td>887</td>\n",
       "      <td>0</td>\n",
       "      <td>80</td>\n",
       "      <td>0</td>\n",
       "      <td>6</td>\n",
       "      <td>21</td>\n",
       "      <td>0</td>\n",
       "      <td>3</td>\n",
       "      <td>...</td>\n",
       "      <td>18</td>\n",
       "      <td>11</td>\n",
       "      <td>0</td>\n",
       "      <td>114</td>\n",
       "      <td>10</td>\n",
       "      <td>1</td>\n",
       "      <td>51</td>\n",
       "      <td>9</td>\n",
       "      <td>41</td>\n",
       "      <td>0</td>\n",
       "    </tr>\n",
       "    <tr>\n",
       "      <th>450</th>\n",
       "      <td>11-Aug-20</td>\n",
       "      <td>Confirmed</td>\n",
       "      <td>61252</td>\n",
       "      <td>139</td>\n",
       "      <td>9024</td>\n",
       "      <td>96</td>\n",
       "      <td>2669</td>\n",
       "      <td>4071</td>\n",
       "      <td>75</td>\n",
       "      <td>360</td>\n",
       "      <td>...</td>\n",
       "      <td>1000</td>\n",
       "      <td>1217</td>\n",
       "      <td>3</td>\n",
       "      <td>5834</td>\n",
       "      <td>1896</td>\n",
       "      <td>164</td>\n",
       "      <td>5041</td>\n",
       "      <td>411</td>\n",
       "      <td>2931</td>\n",
       "      <td>0</td>\n",
       "    </tr>\n",
       "    <tr>\n",
       "      <th>451</th>\n",
       "      <td>11-Aug-20</td>\n",
       "      <td>Recovered</td>\n",
       "      <td>56461</td>\n",
       "      <td>40</td>\n",
       "      <td>9113</td>\n",
       "      <td>42</td>\n",
       "      <td>1487</td>\n",
       "      <td>2900</td>\n",
       "      <td>11</td>\n",
       "      <td>222</td>\n",
       "      <td>...</td>\n",
       "      <td>1055</td>\n",
       "      <td>1339</td>\n",
       "      <td>24</td>\n",
       "      <td>6005</td>\n",
       "      <td>1788</td>\n",
       "      <td>213</td>\n",
       "      <td>3865</td>\n",
       "      <td>169</td>\n",
       "      <td>3067</td>\n",
       "      <td>0</td>\n",
       "    </tr>\n",
       "    <tr>\n",
       "      <th>452</th>\n",
       "      <td>11-Aug-20</td>\n",
       "      <td>Deceased</td>\n",
       "      <td>835</td>\n",
       "      <td>1</td>\n",
       "      <td>87</td>\n",
       "      <td>0</td>\n",
       "      <td>4</td>\n",
       "      <td>15</td>\n",
       "      <td>1</td>\n",
       "      <td>5</td>\n",
       "      <td>...</td>\n",
       "      <td>32</td>\n",
       "      <td>11</td>\n",
       "      <td>0</td>\n",
       "      <td>118</td>\n",
       "      <td>8</td>\n",
       "      <td>1</td>\n",
       "      <td>56</td>\n",
       "      <td>2</td>\n",
       "      <td>49</td>\n",
       "      <td>0</td>\n",
       "    </tr>\n",
       "  </tbody>\n",
       "</table>\n",
       "<p>6 rows × 41 columns</p>\n",
       "</div>"
      ],
      "text/plain": [
       "          Date     Status     TT   AN    AP   AR    AS    BR   CH   CT  ...  \\\n",
       "447  10-Aug-20  Confirmed  53016  135  7665   76  2900  3021   80  477  ...   \n",
       "448  10-Aug-20  Recovered  47362   61  6924  110  1261  2824  100  208  ...   \n",
       "449  10-Aug-20   Deceased    887    0    80    0     6    21    0    3  ...   \n",
       "450  11-Aug-20  Confirmed  61252  139  9024   96  2669  4071   75  360  ...   \n",
       "451  11-Aug-20  Recovered  56461   40  9113   42  1487  2900   11  222  ...   \n",
       "452  11-Aug-20   Deceased    835    1    87    0     4    15    1    5  ...   \n",
       "\n",
       "       PB    RJ  SK    TN    TG   TR    UP   UT    WB  UN  \n",
       "447   986  1173  44  5914  1256   62  4113  389  2905   0  \n",
       "448   416   825  13  6037  1587  267  4074  167  3208   0  \n",
       "449    18    11   0   114    10    1    51    9    41   0  \n",
       "450  1000  1217   3  5834  1896  164  5041  411  2931   0  \n",
       "451  1055  1339  24  6005  1788  213  3865  169  3067   0  \n",
       "452    32    11   0   118     8    1    56    2    49   0  \n",
       "\n",
       "[6 rows x 41 columns]"
      ]
     },
     "execution_count": 3,
     "metadata": {},
     "output_type": "execute_result"
    }
   ],
   "source": [
    "#hide\n",
    "df.tail(6)"
   ]
  },
  {
   "cell_type": "code",
   "execution_count": 4,
   "metadata": {
    "execution": {
     "iopub.execute_input": "2020-08-12T08:26:24.689333Z",
     "iopub.status.busy": "2020-08-12T08:26:24.688802Z",
     "iopub.status.idle": "2020-08-12T08:26:24.691227Z",
     "shell.execute_reply": "2020-08-12T08:26:24.690900Z"
    },
    "papermill": {
     "duration": 0.015927,
     "end_time": "2020-08-12T08:26:24.691311",
     "exception": false,
     "start_time": "2020-08-12T08:26:24.675384",
     "status": "completed"
    },
    "tags": []
   },
   "outputs": [
    {
     "data": {
      "text/plain": [
       "('11-Aug-20', '10-Aug-20')"
      ]
     },
     "execution_count": 4,
     "metadata": {},
     "output_type": "execute_result"
    }
   ],
   "source": [
    "#hide\n",
    "dt_today = df.iloc[-1][0]\n",
    "dt_yday = df.iloc[-4][0]\n",
    "dt_today, dt_yday"
   ]
  },
  {
   "cell_type": "code",
   "execution_count": 5,
   "metadata": {
    "execution": {
     "iopub.execute_input": "2020-08-12T08:26:24.715811Z",
     "iopub.status.busy": "2020-08-12T08:26:24.715273Z",
     "iopub.status.idle": "2020-08-12T08:26:24.721295Z",
     "shell.execute_reply": "2020-08-12T08:26:24.720889Z"
    },
    "papermill": {
     "duration": 0.021094,
     "end_time": "2020-08-12T08:26:24.721378",
     "exception": false,
     "start_time": "2020-08-12T08:26:24.700284",
     "status": "completed"
    },
    "tags": []
   },
   "outputs": [],
   "source": [
    "#hide\n",
    "df_today = df.groupby('Status').sum()\n",
    "df_yday = df.iloc[:-3][:].groupby('Status').sum()"
   ]
  },
  {
   "cell_type": "code",
   "execution_count": 6,
   "metadata": {
    "execution": {
     "iopub.execute_input": "2020-08-12T08:26:24.754553Z",
     "iopub.status.busy": "2020-08-12T08:26:24.754128Z",
     "iopub.status.idle": "2020-08-12T08:26:24.756581Z",
     "shell.execute_reply": "2020-08-12T08:26:24.757025Z"
    },
    "papermill": {
     "duration": 0.026932,
     "end_time": "2020-08-12T08:26:24.757127",
     "exception": false,
     "start_time": "2020-08-12T08:26:24.730195",
     "status": "completed"
    },
    "tags": []
   },
   "outputs": [
    {
     "data": {
      "text/html": [
       "<div>\n",
       "<style scoped>\n",
       "    .dataframe tbody tr th:only-of-type {\n",
       "        vertical-align: middle;\n",
       "    }\n",
       "\n",
       "    .dataframe tbody tr th {\n",
       "        vertical-align: top;\n",
       "    }\n",
       "\n",
       "    .dataframe thead th {\n",
       "        text-align: right;\n",
       "    }\n",
       "</style>\n",
       "<table border=\"1\" class=\"dataframe\">\n",
       "  <thead>\n",
       "    <tr style=\"text-align: right;\">\n",
       "      <th></th>\n",
       "      <th>TT</th>\n",
       "      <th>AN</th>\n",
       "      <th>AP</th>\n",
       "      <th>AR</th>\n",
       "      <th>AS</th>\n",
       "      <th>BR</th>\n",
       "      <th>CH</th>\n",
       "      <th>CT</th>\n",
       "      <th>DN</th>\n",
       "      <th>DD</th>\n",
       "      <th>...</th>\n",
       "      <th>PB</th>\n",
       "      <th>RJ</th>\n",
       "      <th>SK</th>\n",
       "      <th>TN</th>\n",
       "      <th>TG</th>\n",
       "      <th>TR</th>\n",
       "      <th>UP</th>\n",
       "      <th>UT</th>\n",
       "      <th>WB</th>\n",
       "      <th>UN</th>\n",
       "    </tr>\n",
       "    <tr>\n",
       "      <th>Status</th>\n",
       "      <th></th>\n",
       "      <th></th>\n",
       "      <th></th>\n",
       "      <th></th>\n",
       "      <th></th>\n",
       "      <th></th>\n",
       "      <th></th>\n",
       "      <th></th>\n",
       "      <th></th>\n",
       "      <th></th>\n",
       "      <th></th>\n",
       "      <th></th>\n",
       "      <th></th>\n",
       "      <th></th>\n",
       "      <th></th>\n",
       "      <th></th>\n",
       "      <th></th>\n",
       "      <th></th>\n",
       "      <th></th>\n",
       "      <th></th>\n",
       "      <th></th>\n",
       "    </tr>\n",
       "  </thead>\n",
       "  <tbody>\n",
       "    <tr>\n",
       "      <th>Confirmed</th>\n",
       "      <td>2328313</td>\n",
       "      <td>1760</td>\n",
       "      <td>244549</td>\n",
       "      <td>2327</td>\n",
       "      <td>64305</td>\n",
       "      <td>86812</td>\n",
       "      <td>1670</td>\n",
       "      <td>12985</td>\n",
       "      <td>1658</td>\n",
       "      <td>0</td>\n",
       "      <td>...</td>\n",
       "      <td>25889</td>\n",
       "      <td>54887</td>\n",
       "      <td>926</td>\n",
       "      <td>308649</td>\n",
       "      <td>82647</td>\n",
       "      <td>6387</td>\n",
       "      <td>131763</td>\n",
       "      <td>10432</td>\n",
       "      <td>101390</td>\n",
       "      <td>0</td>\n",
       "    </tr>\n",
       "    <tr>\n",
       "      <th>Deceased</th>\n",
       "      <td>46199</td>\n",
       "      <td>21</td>\n",
       "      <td>2203</td>\n",
       "      <td>3</td>\n",
       "      <td>159</td>\n",
       "      <td>465</td>\n",
       "      <td>26</td>\n",
       "      <td>104</td>\n",
       "      <td>2</td>\n",
       "      <td>0</td>\n",
       "      <td>...</td>\n",
       "      <td>636</td>\n",
       "      <td>811</td>\n",
       "      <td>1</td>\n",
       "      <td>5159</td>\n",
       "      <td>645</td>\n",
       "      <td>43</td>\n",
       "      <td>2176</td>\n",
       "      <td>136</td>\n",
       "      <td>2149</td>\n",
       "      <td>0</td>\n",
       "    </tr>\n",
       "    <tr>\n",
       "      <th>Recovered</th>\n",
       "      <td>1638094</td>\n",
       "      <td>740</td>\n",
       "      <td>154749</td>\n",
       "      <td>1634</td>\n",
       "      <td>45074</td>\n",
       "      <td>57039</td>\n",
       "      <td>1015</td>\n",
       "      <td>9239</td>\n",
       "      <td>1208</td>\n",
       "      <td>0</td>\n",
       "      <td>...</td>\n",
       "      <td>16790</td>\n",
       "      <td>40399</td>\n",
       "      <td>535</td>\n",
       "      <td>250680</td>\n",
       "      <td>59374</td>\n",
       "      <td>4656</td>\n",
       "      <td>80589</td>\n",
       "      <td>6470</td>\n",
       "      <td>73395</td>\n",
       "      <td>0</td>\n",
       "    </tr>\n",
       "  </tbody>\n",
       "</table>\n",
       "<p>3 rows × 39 columns</p>\n",
       "</div>"
      ],
      "text/plain": [
       "                TT    AN      AP    AR     AS     BR    CH     CT    DN  DD  \\\n",
       "Status                                                                        \n",
       "Confirmed  2328313  1760  244549  2327  64305  86812  1670  12985  1658   0   \n",
       "Deceased     46199    21    2203     3    159    465    26    104     2   0   \n",
       "Recovered  1638094   740  154749  1634  45074  57039  1015   9239  1208   0   \n",
       "\n",
       "           ...     PB     RJ   SK      TN     TG    TR      UP     UT      WB  \\\n",
       "Status     ...                                                                  \n",
       "Confirmed  ...  25889  54887  926  308649  82647  6387  131763  10432  101390   \n",
       "Deceased   ...    636    811    1    5159    645    43    2176    136    2149   \n",
       "Recovered  ...  16790  40399  535  250680  59374  4656   80589   6470   73395   \n",
       "\n",
       "           UN  \n",
       "Status         \n",
       "Confirmed   0  \n",
       "Deceased    0  \n",
       "Recovered   0  \n",
       "\n",
       "[3 rows x 39 columns]"
      ]
     },
     "execution_count": 6,
     "metadata": {},
     "output_type": "execute_result"
    }
   ],
   "source": [
    "#hide\n",
    "df_today"
   ]
  },
  {
   "cell_type": "code",
   "execution_count": 7,
   "metadata": {
    "execution": {
     "iopub.execute_input": "2020-08-12T08:26:24.783539Z",
     "iopub.status.busy": "2020-08-12T08:26:24.780282Z",
     "iopub.status.idle": "2020-08-12T08:26:24.791638Z",
     "shell.execute_reply": "2020-08-12T08:26:24.791212Z"
    },
    "papermill": {
     "duration": 0.025008,
     "end_time": "2020-08-12T08:26:24.791731",
     "exception": false,
     "start_time": "2020-08-12T08:26:24.766723",
     "status": "completed"
    },
    "tags": []
   },
   "outputs": [
    {
     "data": {
      "text/html": [
       "<div>\n",
       "<style scoped>\n",
       "    .dataframe tbody tr th:only-of-type {\n",
       "        vertical-align: middle;\n",
       "    }\n",
       "\n",
       "    .dataframe tbody tr th {\n",
       "        vertical-align: top;\n",
       "    }\n",
       "\n",
       "    .dataframe thead th {\n",
       "        text-align: right;\n",
       "    }\n",
       "</style>\n",
       "<table border=\"1\" class=\"dataframe\">\n",
       "  <thead>\n",
       "    <tr style=\"text-align: right;\">\n",
       "      <th></th>\n",
       "      <th>TT</th>\n",
       "      <th>AN</th>\n",
       "      <th>AP</th>\n",
       "      <th>AR</th>\n",
       "      <th>AS</th>\n",
       "      <th>BR</th>\n",
       "      <th>CH</th>\n",
       "      <th>CT</th>\n",
       "      <th>DN</th>\n",
       "      <th>DD</th>\n",
       "      <th>...</th>\n",
       "      <th>PB</th>\n",
       "      <th>RJ</th>\n",
       "      <th>SK</th>\n",
       "      <th>TN</th>\n",
       "      <th>TG</th>\n",
       "      <th>TR</th>\n",
       "      <th>UP</th>\n",
       "      <th>UT</th>\n",
       "      <th>WB</th>\n",
       "      <th>UN</th>\n",
       "    </tr>\n",
       "    <tr>\n",
       "      <th>Status</th>\n",
       "      <th></th>\n",
       "      <th></th>\n",
       "      <th></th>\n",
       "      <th></th>\n",
       "      <th></th>\n",
       "      <th></th>\n",
       "      <th></th>\n",
       "      <th></th>\n",
       "      <th></th>\n",
       "      <th></th>\n",
       "      <th></th>\n",
       "      <th></th>\n",
       "      <th></th>\n",
       "      <th></th>\n",
       "      <th></th>\n",
       "      <th></th>\n",
       "      <th></th>\n",
       "      <th></th>\n",
       "      <th></th>\n",
       "      <th></th>\n",
       "      <th></th>\n",
       "    </tr>\n",
       "  </thead>\n",
       "  <tbody>\n",
       "    <tr>\n",
       "      <th>Confirmed</th>\n",
       "      <td>2267061</td>\n",
       "      <td>1621</td>\n",
       "      <td>235525</td>\n",
       "      <td>2231</td>\n",
       "      <td>61636</td>\n",
       "      <td>82741</td>\n",
       "      <td>1595</td>\n",
       "      <td>12625</td>\n",
       "      <td>1619</td>\n",
       "      <td>0</td>\n",
       "      <td>...</td>\n",
       "      <td>24889</td>\n",
       "      <td>53670</td>\n",
       "      <td>923</td>\n",
       "      <td>302815</td>\n",
       "      <td>80751</td>\n",
       "      <td>6223</td>\n",
       "      <td>126722</td>\n",
       "      <td>10021</td>\n",
       "      <td>98459</td>\n",
       "      <td>0</td>\n",
       "    </tr>\n",
       "    <tr>\n",
       "      <th>Deceased</th>\n",
       "      <td>45364</td>\n",
       "      <td>20</td>\n",
       "      <td>2116</td>\n",
       "      <td>3</td>\n",
       "      <td>155</td>\n",
       "      <td>450</td>\n",
       "      <td>25</td>\n",
       "      <td>99</td>\n",
       "      <td>2</td>\n",
       "      <td>0</td>\n",
       "      <td>...</td>\n",
       "      <td>604</td>\n",
       "      <td>800</td>\n",
       "      <td>1</td>\n",
       "      <td>5041</td>\n",
       "      <td>637</td>\n",
       "      <td>42</td>\n",
       "      <td>2120</td>\n",
       "      <td>134</td>\n",
       "      <td>2100</td>\n",
       "      <td>0</td>\n",
       "    </tr>\n",
       "    <tr>\n",
       "      <th>Recovered</th>\n",
       "      <td>1581633</td>\n",
       "      <td>700</td>\n",
       "      <td>145636</td>\n",
       "      <td>1592</td>\n",
       "      <td>43587</td>\n",
       "      <td>54139</td>\n",
       "      <td>1004</td>\n",
       "      <td>9017</td>\n",
       "      <td>1167</td>\n",
       "      <td>0</td>\n",
       "      <td>...</td>\n",
       "      <td>15735</td>\n",
       "      <td>39060</td>\n",
       "      <td>511</td>\n",
       "      <td>244675</td>\n",
       "      <td>57586</td>\n",
       "      <td>4443</td>\n",
       "      <td>76724</td>\n",
       "      <td>6301</td>\n",
       "      <td>70328</td>\n",
       "      <td>0</td>\n",
       "    </tr>\n",
       "  </tbody>\n",
       "</table>\n",
       "<p>3 rows × 39 columns</p>\n",
       "</div>"
      ],
      "text/plain": [
       "                TT    AN      AP    AR     AS     BR    CH     CT    DN  DD  \\\n",
       "Status                                                                        \n",
       "Confirmed  2267061  1621  235525  2231  61636  82741  1595  12625  1619   0   \n",
       "Deceased     45364    20    2116     3    155    450    25     99     2   0   \n",
       "Recovered  1581633   700  145636  1592  43587  54139  1004   9017  1167   0   \n",
       "\n",
       "           ...     PB     RJ   SK      TN     TG    TR      UP     UT     WB  \\\n",
       "Status     ...                                                                 \n",
       "Confirmed  ...  24889  53670  923  302815  80751  6223  126722  10021  98459   \n",
       "Deceased   ...    604    800    1    5041    637    42    2120    134   2100   \n",
       "Recovered  ...  15735  39060  511  244675  57586  4443   76724   6301  70328   \n",
       "\n",
       "           UN  \n",
       "Status         \n",
       "Confirmed   0  \n",
       "Deceased    0  \n",
       "Recovered   0  \n",
       "\n",
       "[3 rows x 39 columns]"
      ]
     },
     "execution_count": 7,
     "metadata": {},
     "output_type": "execute_result"
    }
   ],
   "source": [
    "#hide\n",
    "df_yday.head()"
   ]
  },
  {
   "cell_type": "code",
   "execution_count": 8,
   "metadata": {
    "execution": {
     "iopub.execute_input": "2020-08-12T08:26:24.822191Z",
     "iopub.status.busy": "2020-08-12T08:26:24.821705Z",
     "iopub.status.idle": "2020-08-12T08:26:24.823595Z",
     "shell.execute_reply": "2020-08-12T08:26:24.823958Z"
    },
    "papermill": {
     "duration": 0.021003,
     "end_time": "2020-08-12T08:26:24.824066",
     "exception": false,
     "start_time": "2020-08-12T08:26:24.803063",
     "status": "completed"
    },
    "tags": []
   },
   "outputs": [
    {
     "data": {
      "text/plain": [
       "{'updated': '11-Aug-20',\n",
       " 'since': '10-Aug-20',\n",
       " 'Cases': 2328313,\n",
       " 'Deaths': 46199,\n",
       " 'Recovered': 1638094,\n",
       " 'PCases': 2267061,\n",
       " 'PDeaths': 45364,\n",
       " 'PRecovered': 1581633,\n",
       " 'Cases (+)': 61252,\n",
       " 'Deaths (+)': 835,\n",
       " 'Recovered (+)': 56461}"
      ]
     },
     "execution_count": 8,
     "metadata": {},
     "output_type": "execute_result"
    }
   ],
   "source": [
    "#hide\n",
    "summary = {\n",
    "    'updated' : dt_today,\n",
    "    'since' : dt_yday,\n",
    "    'Cases' : df_today['TT'][0],\n",
    "    'Deaths' : df_today['TT'][1],\n",
    "    'Recovered' : df_today['TT'][2],\n",
    "    'PCases' : df_yday['TT'][0],\n",
    "    'PDeaths' : df_yday['TT'][1],\n",
    "    'PRecovered': df_yday['TT'][2],\n",
    "    'Cases (+)' : df_today['TT'][0] - df_yday['TT'][0],\n",
    "    'Deaths (+)' : df_today['TT'][1] - df_yday['TT'][1],\n",
    "    'Recovered (+)': df_today['TT'][2] - df_yday['TT'][2]\n",
    "}\n",
    "\n",
    "summary"
   ]
  },
  {
   "cell_type": "code",
   "execution_count": 9,
   "metadata": {
    "execution": {
     "iopub.execute_input": "2020-08-12T08:26:24.856634Z",
     "iopub.status.busy": "2020-08-12T08:26:24.855950Z",
     "iopub.status.idle": "2020-08-12T08:26:24.858141Z",
     "shell.execute_reply": "2020-08-12T08:26:24.857762Z"
    },
    "papermill": {
     "duration": 0.022431,
     "end_time": "2020-08-12T08:26:24.858240",
     "exception": false,
     "start_time": "2020-08-12T08:26:24.835809",
     "status": "completed"
    },
    "tags": []
   },
   "outputs": [],
   "source": [
    "#hide\n",
    "overview = '''\n",
    "<!-- #######  HTML!! #########-->\n",
    "<h1 style=\"color: #5e9ca0; text-align: center;\">India</h1>\n",
    "<p style=\"text-align: center;\">Last update: <strong>{update}</strong></p>\n",
    "<p style=\"text-align: center;\">Confirmed cases:</p>\n",
    "<p style=\"text-align: center;font-size:24px;\">{cases} (<span style=\"color: #ff0000;\">+{new}</span>)</p>\n",
    "<p style=\"text-align: center;\">Confirmed deaths:</p>\n",
    "<p style=\"text-align: center;font-size:24px;\">{deaths} (<span style=\"color: #ff0000;\">+{dnew}</span>)</p>\n",
    "<p style=\"text-align: center;\">Recovered cases:</p>\n",
    "<p style=\"text-align: center;font-size:24px;\">{recovered} (<span style=\"color: #00ff00;\">+{rnew}</span>)</p>\n",
    "'''"
   ]
  },
  {
   "cell_type": "code",
   "execution_count": 10,
   "metadata": {
    "execution": {
     "iopub.execute_input": "2020-08-12T08:26:24.884923Z",
     "iopub.status.busy": "2020-08-12T08:26:24.884461Z",
     "iopub.status.idle": "2020-08-12T08:26:24.887457Z",
     "shell.execute_reply": "2020-08-12T08:26:24.886995Z"
    },
    "papermill": {
     "duration": 0.018451,
     "end_time": "2020-08-12T08:26:24.887571",
     "exception": false,
     "start_time": "2020-08-12T08:26:24.869120",
     "status": "completed"
    },
    "tags": []
   },
   "outputs": [
    {
     "data": {
      "text/html": [
       "\n",
       "<!-- #######  HTML!! #########-->\n",
       "<h1 style=\"color: #5e9ca0; text-align: center;\">India</h1>\n",
       "<p style=\"text-align: center;\">Last update: <strong>11-Aug-20</strong></p>\n",
       "<p style=\"text-align: center;\">Confirmed cases:</p>\n",
       "<p style=\"text-align: center;font-size:24px;\">2328313 (<span style=\"color: #ff0000;\">+61252</span>)</p>\n",
       "<p style=\"text-align: center;\">Confirmed deaths:</p>\n",
       "<p style=\"text-align: center;font-size:24px;\">46199 (<span style=\"color: #ff0000;\">+835</span>)</p>\n",
       "<p style=\"text-align: center;\">Recovered cases:</p>\n",
       "<p style=\"text-align: center;font-size:24px;\">1638094 (<span style=\"color: #00ff00;\">+56461</span>)</p>\n"
      ],
      "text/plain": [
       "<IPython.core.display.HTML object>"
      ]
     },
     "metadata": {},
     "output_type": "display_data"
    }
   ],
   "source": [
    "#hide_input\n",
    "# Fill the above HTML with the information from the summary dictionary\n",
    "\n",
    "update = summary['updated']\n",
    "cases = summary['Cases']\n",
    "new = summary['Cases (+)']\n",
    "deaths = summary['Deaths']\n",
    "dnew = summary['Deaths (+)']\n",
    "recovered = summary['Recovered']\n",
    "rnew = summary['Recovered (+)']\n",
    "\n",
    "html = HTML(overview.format(update=update, cases=cases,new=new,deaths=deaths,dnew=dnew, recovered=recovered, rnew=rnew))\n",
    "\n",
    "display(html)"
   ]
  },
  {
   "cell_type": "code",
   "execution_count": 11,
   "metadata": {
    "execution": {
     "iopub.execute_input": "2020-08-12T08:26:24.919446Z",
     "iopub.status.busy": "2020-08-12T08:26:24.918979Z",
     "iopub.status.idle": "2020-08-12T08:26:24.926394Z",
     "shell.execute_reply": "2020-08-12T08:26:24.926047Z"
    },
    "papermill": {
     "duration": 0.025181,
     "end_time": "2020-08-12T08:26:24.926474",
     "exception": false,
     "start_time": "2020-08-12T08:26:24.901293",
     "status": "completed"
    },
    "tags": []
   },
   "outputs": [],
   "source": [
    "#hide\n",
    "df_cases = df[df['Status'] == 'Confirmed'].copy()\n",
    "df_cases.drop(columns = ['Status'], inplace=True)\n",
    "df_deaths = df[df['Status'] == 'Deceased'].copy()\n",
    "df_deaths.drop(columns = ['Status'], inplace=True)\n",
    "df_recovered = df[df['Status'] == 'Recovered'].copy()\n",
    "df_recovered.drop(columns = ['Status'], inplace=True)"
   ]
  },
  {
   "cell_type": "markdown",
   "metadata": {
    "papermill": {
     "duration": 0.010845,
     "end_time": "2020-08-12T08:26:24.948556",
     "exception": false,
     "start_time": "2020-08-12T08:26:24.937711",
     "status": "completed"
    },
    "tags": []
   },
   "source": [
    "Plot for India:"
   ]
  },
  {
   "cell_type": "code",
   "execution_count": 12,
   "metadata": {
    "execution": {
     "iopub.execute_input": "2020-08-12T08:26:24.991114Z",
     "iopub.status.busy": "2020-08-12T08:26:24.990501Z",
     "iopub.status.idle": "2020-08-12T08:26:25.202750Z",
     "shell.execute_reply": "2020-08-12T08:26:25.203502Z"
    },
    "papermill": {
     "duration": 0.243906,
     "end_time": "2020-08-12T08:26:25.203791",
     "exception": false,
     "start_time": "2020-08-12T08:26:24.959885",
     "status": "completed"
    },
    "tags": []
   },
   "outputs": [
    {
     "data": {
      "image/png": "[encoded data removed]",
      "text/plain": [
       "<Figure size 1296x432 with 1 Axes>"
      ]
     },
     "metadata": {
      "needs_background": "light"
     },
     "output_type": "display_data"
    }
   ],
   "source": [
    "#hide_input\n",
    "plt.figure(figsize = (18,6))\n",
    "plt.plot(df_cases['Date'], df_cases['TT'],'.-', alpha=0.7, color='b', label='Confirmed cases')\n",
    "plt.plot(df_recovered['Date'], df_recovered['TT'],'.-', alpha=0.7, color='g', label='Recovered')\n",
    "plt.plot(df_deaths['Date'], df_deaths['TT'],'.-', alpha=0.7, color='r', label='Deceased')\n",
    "plt.legend()\n",
    "plt.title(\"Cases per day in India\")\n",
    "plt.xticks(ticks=' ')\n",
    "plt.xlabel(f'{df_cases.iloc[0][0]} to {df_cases.iloc[-1][0]}')\n",
    "plt.ylabel('No. of cases');"
   ]
  },
  {
   "cell_type": "markdown",
   "metadata": {
    "papermill": {
     "duration": 0.014554,
     "end_time": "2020-08-12T08:26:25.231744",
     "exception": false,
     "start_time": "2020-08-12T08:26:25.217190",
     "status": "completed"
    },
    "tags": []
   },
   "source": [
    "Plots for the states with highest number of cases:"
   ]
  },
  {
   "cell_type": "code",
   "execution_count": 13,
   "metadata": {
    "execution": {
     "iopub.execute_input": "2020-08-12T08:26:25.269924Z",
     "iopub.status.busy": "2020-08-12T08:26:25.269333Z",
     "iopub.status.idle": "2020-08-12T08:26:25.809556Z",
     "shell.execute_reply": "2020-08-12T08:26:25.809092Z"
    },
    "papermill": {
     "duration": 0.562454,
     "end_time": "2020-08-12T08:26:25.809686",
     "exception": false,
     "start_time": "2020-08-12T08:26:25.247232",
     "status": "completed"
    },
    "tags": []
   },
   "outputs": [
    {
     "data": {
      "image/png": "[encoded data removed]",
      "text/plain": [
       "<Figure size 1512x432 with 3 Axes>"
      ]
     },
     "metadata": {
      "needs_background": "light"
     },
     "output_type": "display_data"
    }
   ],
   "source": [
    "#hide_input\n",
    "top_3 = sorted(df_cases.sum().values[1:], reverse=True)[1:4]\n",
    "top3_states=[]\n",
    "for i in top_3:\n",
    "    top3_states.append(df_cases.sum()[df_cases.sum() == i].index)\n",
    "\n",
    "\n",
    "fig, ax = plt.subplots(1,3,figsize = (21,6))\n",
    "for i in range(3):\n",
    "    state = top3_states[i].values[0]\n",
    "    ax[i].plot(df_cases['Date'], df_cases[state],'.-', color='b', alpha=0.7)\n",
    "    ax[i].plot(df_deaths['Date'], df_deaths[state],'.-', color='r', alpha=0.7)\n",
    "    ax[i].plot(df_recovered['Date'], df_recovered[state],'.-', color='g', alpha=0.7)\n",
    "    \n",
    "    ax[i].set_title(f\"Cases in {state}\")\n",
    "    ax[i].set_xticks(ticks=' ')\n",
    "    ax[i].set_xlabel(f'{df_cases.iloc[0][0]} to {df_cases.iloc[-1][0]}')\n",
    "    ax[i].set_ylabel('No. of cases');"
   ]
  },
  {
   "cell_type": "code",
   "execution_count": null,
   "metadata": {
    "papermill": {
     "duration": 0.015815,
     "end_time": "2020-08-12T08:26:25.840766",
     "exception": false,
     "start_time": "2020-08-12T08:26:25.824951",
     "status": "completed"
    },
    "tags": []
   },
   "outputs": [],
   "source": []
  },
  {
   "cell_type": "code",
   "execution_count": null,
   "metadata": {
    "papermill": {
     "duration": 0.015623,
     "end_time": "2020-08-12T08:26:25.874902",
     "exception": false,
     "start_time": "2020-08-12T08:26:25.859279",
     "status": "completed"
    },
    "tags": []
   },
   "outputs": [],
   "source": []
  },
  {
   "cell_type": "code",
   "execution_count": null,
   "metadata": {
    "papermill": {
     "duration": 0.016118,
     "end_time": "2020-08-12T08:26:25.908370",
     "exception": false,
     "start_time": "2020-08-12T08:26:25.892252",
     "status": "completed"
    },
    "tags": []
   },
   "outputs": [],
   "source": []
  }
 ],
 "metadata": {
  "kernelspec": {
   "display_name": "Python 3",
   "language": "python",
   "name": "python3"
  },
  "language_info": {
   "codemirror_mode": {
    "name": "ipython",
    "version": 3
   },
   "file_extension": ".py",
   "mimetype": "text/x-python",
   "name": "python",
   "nbconvert_exporter": "python",
   "pygments_lexer": "ipython3",
   "version": "3.6.11"
  },
  "papermill": {
   "duration": 3.232506,
   "end_time": "2020-08-12T08:26:26.232573",
   "environment_variables": {},
   "exception": null,
   "input_path": "2020-08-09-DailyUpdate.ipynb",
   "output_path": "2020-08-09-DailyUpdate.ipynb",
   "parameters": {},
   "start_time": "2020-08-12T08:26:23.000067",
   "version": "2.1.2"
  }
 },
 "nbformat": 4,
 "nbformat_minor": 4
}