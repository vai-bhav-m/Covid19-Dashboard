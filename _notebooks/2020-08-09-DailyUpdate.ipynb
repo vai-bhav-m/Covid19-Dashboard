{
 "cells": [
  {
   "cell_type": "markdown",
   "metadata": {
    "papermill": {
     "duration": 0.017829,
     "end_time": "2020-09-01T19:12:22.406816",
     "exception": false,
     "start_time": "2020-09-01T19:12:22.388987",
     "status": "completed"
    },
    "tags": []
   },
   "source": [
    "# COVID-19 India Daily updates\n",
    "> Tracking coronavirus total cases, deaths and new cases in India on a daily basis\n",
    "\n",
    "- author: Vaibhav Mahapatra"
   ]
  },
  {
   "cell_type": "code",
   "execution_count": 1,
   "metadata": {
    "execution": {
     "iopub.execute_input": "2020-09-01T19:12:22.443458Z",
     "iopub.status.busy": "2020-09-01T19:12:22.442765Z",
     "iopub.status.idle": "2020-09-01T19:12:23.124227Z",
     "shell.execute_reply": "2020-09-01T19:12:23.123623Z"
    },
    "papermill": {
     "duration": 0.702696,
     "end_time": "2020-09-01T19:12:23.124419",
     "exception": false,
     "start_time": "2020-09-01T19:12:22.421723",
     "status": "completed"
    },
    "tags": []
   },
   "outputs": [],
   "source": [
    "#hide\n",
    "\n",
    "## Import essential packages below\n",
    "\n",
    "import pandas as pd\n",
    "import numpy as np\n",
    "import requests\n",
    "import json\n",
    "import matplotlib.pyplot as plt\n",
    "import matplotlib.dates as mdates\n",
    "import matplotlib as mpl\n",
    "from IPython.core.display import display,HTML\n",
    "%matplotlib inline"
   ]
  },
  {
   "cell_type": "code",
   "execution_count": 2,
   "metadata": {
    "execution": {
     "iopub.execute_input": "2020-09-01T19:12:23.164720Z",
     "iopub.status.busy": "2020-09-01T19:12:23.163669Z",
     "iopub.status.idle": "2020-09-01T19:12:23.320161Z",
     "shell.execute_reply": "2020-09-01T19:12:23.320971Z"
    },
    "papermill": {
     "duration": 0.18196,
     "end_time": "2020-09-01T19:12:23.321164",
     "exception": false,
     "start_time": "2020-09-01T19:12:23.139204",
     "status": "completed"
    },
    "tags": []
   },
   "outputs": [
    {
     "data": {
      "text/plain": [
       "(516, 41)"
      ]
     },
     "execution_count": 2,
     "metadata": {},
     "output_type": "execute_result"
    }
   ],
   "source": [
    "#hide\n",
    "url = 'https://api.covid19india.org/csv/latest/state_wise_daily.csv'\n",
    "df = pd.read_csv(url)\n",
    "df.shape"
   ]
  },
  {
   "cell_type": "code",
   "execution_count": 3,
   "metadata": {
    "execution": {
     "iopub.execute_input": "2020-09-01T19:12:23.410198Z",
     "iopub.status.busy": "2020-09-01T19:12:23.409418Z",
     "iopub.status.idle": "2020-09-01T19:12:23.421904Z",
     "shell.execute_reply": "2020-09-01T19:12:23.422440Z"
    },
    "papermill": {
     "duration": 0.086379,
     "end_time": "2020-09-01T19:12:23.422611",
     "exception": false,
     "start_time": "2020-09-01T19:12:23.336232",
     "status": "completed"
    },
    "tags": []
   },
   "outputs": [
    {
     "data": {
      "text/html": [
       "<div>\n",
       "<style scoped>\n",
       "    .dataframe tbody tr th:only-of-type {\n",
       "        vertical-align: middle;\n",
       "    }\n",
       "\n",
       "    .dataframe tbody tr th {\n",
       "        vertical-align: top;\n",
       "    }\n",
       "\n",
       "    .dataframe thead th {\n",
       "        text-align: right;\n",
       "    }\n",
       "</style>\n",
       "<table border=\"1\" class=\"dataframe\">\n",
       "  <thead>\n",
       "    <tr style=\"text-align: right;\">\n",
       "      <th></th>\n",
       "      <th>Date</th>\n",
       "      <th>Status</th>\n",
       "      <th>TT</th>\n",
       "      <th>AN</th>\n",
       "      <th>AP</th>\n",
       "      <th>AR</th>\n",
       "      <th>AS</th>\n",
       "      <th>BR</th>\n",
       "      <th>CH</th>\n",
       "      <th>CT</th>\n",
       "      <th>...</th>\n",
       "      <th>PB</th>\n",
       "      <th>RJ</th>\n",
       "      <th>SK</th>\n",
       "      <th>TN</th>\n",
       "      <th>TG</th>\n",
       "      <th>TR</th>\n",
       "      <th>UP</th>\n",
       "      <th>UT</th>\n",
       "      <th>WB</th>\n",
       "      <th>UN</th>\n",
       "    </tr>\n",
       "  </thead>\n",
       "  <tbody>\n",
       "    <tr>\n",
       "      <th>510</th>\n",
       "      <td>31-Aug-20</td>\n",
       "      <td>Confirmed</td>\n",
       "      <td>68766</td>\n",
       "      <td>28</td>\n",
       "      <td>10004</td>\n",
       "      <td>78</td>\n",
       "      <td>3266</td>\n",
       "      <td>1324</td>\n",
       "      <td>191</td>\n",
       "      <td>1411</td>\n",
       "      <td>...</td>\n",
       "      <td>1466</td>\n",
       "      <td>1466</td>\n",
       "      <td>25</td>\n",
       "      <td>5956</td>\n",
       "      <td>1873</td>\n",
       "      <td>321</td>\n",
       "      <td>4782</td>\n",
       "      <td>592</td>\n",
       "      <td>2993</td>\n",
       "      <td>0</td>\n",
       "    </tr>\n",
       "    <tr>\n",
       "      <th>511</th>\n",
       "      <td>31-Aug-20</td>\n",
       "      <td>Recovered</td>\n",
       "      <td>64435</td>\n",
       "      <td>61</td>\n",
       "      <td>8772</td>\n",
       "      <td>63</td>\n",
       "      <td>1531</td>\n",
       "      <td>2267</td>\n",
       "      <td>135</td>\n",
       "      <td>686</td>\n",
       "      <td>...</td>\n",
       "      <td>1280</td>\n",
       "      <td>1719</td>\n",
       "      <td>5</td>\n",
       "      <td>6008</td>\n",
       "      <td>1849</td>\n",
       "      <td>201</td>\n",
       "      <td>4597</td>\n",
       "      <td>604</td>\n",
       "      <td>3318</td>\n",
       "      <td>0</td>\n",
       "    </tr>\n",
       "    <tr>\n",
       "      <th>512</th>\n",
       "      <td>31-Aug-20</td>\n",
       "      <td>Deceased</td>\n",
       "      <td>816</td>\n",
       "      <td>1</td>\n",
       "      <td>85</td>\n",
       "      <td>0</td>\n",
       "      <td>10</td>\n",
       "      <td>6</td>\n",
       "      <td>4</td>\n",
       "      <td>8</td>\n",
       "      <td>...</td>\n",
       "      <td>49</td>\n",
       "      <td>13</td>\n",
       "      <td>0</td>\n",
       "      <td>91</td>\n",
       "      <td>9</td>\n",
       "      <td>5</td>\n",
       "      <td>63</td>\n",
       "      <td>12</td>\n",
       "      <td>52</td>\n",
       "      <td>0</td>\n",
       "    </tr>\n",
       "    <tr>\n",
       "      <th>513</th>\n",
       "      <td>01-Sep-20</td>\n",
       "      <td>Confirmed</td>\n",
       "      <td>78168</td>\n",
       "      <td>28</td>\n",
       "      <td>10368</td>\n",
       "      <td>100</td>\n",
       "      <td>2684</td>\n",
       "      <td>1928</td>\n",
       "      <td>204</td>\n",
       "      <td>1884</td>\n",
       "      <td>...</td>\n",
       "      <td>1516</td>\n",
       "      <td>1470</td>\n",
       "      <td>18</td>\n",
       "      <td>5928</td>\n",
       "      <td>2734</td>\n",
       "      <td>509</td>\n",
       "      <td>5343</td>\n",
       "      <td>571</td>\n",
       "      <td>2943</td>\n",
       "      <td>0</td>\n",
       "    </tr>\n",
       "    <tr>\n",
       "      <th>514</th>\n",
       "      <td>01-Sep-20</td>\n",
       "      <td>Recovered</td>\n",
       "      <td>62144</td>\n",
       "      <td>67</td>\n",
       "      <td>9350</td>\n",
       "      <td>94</td>\n",
       "      <td>1434</td>\n",
       "      <td>2029</td>\n",
       "      <td>120</td>\n",
       "      <td>578</td>\n",
       "      <td>...</td>\n",
       "      <td>1120</td>\n",
       "      <td>1312</td>\n",
       "      <td>12</td>\n",
       "      <td>6031</td>\n",
       "      <td>2325</td>\n",
       "      <td>221</td>\n",
       "      <td>4537</td>\n",
       "      <td>404</td>\n",
       "      <td>3346</td>\n",
       "      <td>0</td>\n",
       "    </tr>\n",
       "    <tr>\n",
       "      <th>515</th>\n",
       "      <td>01-Sep-20</td>\n",
       "      <td>Deceased</td>\n",
       "      <td>1026</td>\n",
       "      <td>0</td>\n",
       "      <td>84</td>\n",
       "      <td>0</td>\n",
       "      <td>9</td>\n",
       "      <td>15</td>\n",
       "      <td>1</td>\n",
       "      <td>10</td>\n",
       "      <td>...</td>\n",
       "      <td>59</td>\n",
       "      <td>13</td>\n",
       "      <td>1</td>\n",
       "      <td>96</td>\n",
       "      <td>9</td>\n",
       "      <td>10</td>\n",
       "      <td>56</td>\n",
       "      <td>11</td>\n",
       "      <td>55</td>\n",
       "      <td>0</td>\n",
       "    </tr>\n",
       "  </tbody>\n",
       "</table>\n",
       "<p>6 rows × 41 columns</p>\n",
       "</div>"
      ],
      "text/plain": [
       "          Date     Status     TT  AN     AP   AR    AS    BR   CH    CT  ...  \\\n",
       "510  31-Aug-20  Confirmed  68766  28  10004   78  3266  1324  191  1411  ...   \n",
       "511  31-Aug-20  Recovered  64435  61   8772   63  1531  2267  135   686  ...   \n",
       "512  31-Aug-20   Deceased    816   1     85    0    10     6    4     8  ...   \n",
       "513  01-Sep-20  Confirmed  78168  28  10368  100  2684  1928  204  1884  ...   \n",
       "514  01-Sep-20  Recovered  62144  67   9350   94  1434  2029  120   578  ...   \n",
       "515  01-Sep-20   Deceased   1026   0     84    0     9    15    1    10  ...   \n",
       "\n",
       "       PB    RJ  SK    TN    TG   TR    UP   UT    WB  UN  \n",
       "510  1466  1466  25  5956  1873  321  4782  592  2993   0  \n",
       "511  1280  1719   5  6008  1849  201  4597  604  3318   0  \n",
       "512    49    13   0    91     9    5    63   12    52   0  \n",
       "513  1516  1470  18  5928  2734  509  5343  571  2943   0  \n",
       "514  1120  1312  12  6031  2325  221  4537  404  3346   0  \n",
       "515    59    13   1    96     9   10    56   11    55   0  \n",
       "\n",
       "[6 rows x 41 columns]"
      ]
     },
     "execution_count": 3,
     "metadata": {},
     "output_type": "execute_result"
    }
   ],
   "source": [
    "#hide\n",
    "df.tail(6)"
   ]
  },
  {
   "cell_type": "code",
   "execution_count": 4,
   "metadata": {
    "execution": {
     "iopub.execute_input": "2020-09-01T19:12:23.460630Z",
     "iopub.status.busy": "2020-09-01T19:12:23.459779Z",
     "iopub.status.idle": "2020-09-01T19:12:23.462492Z",
     "shell.execute_reply": "2020-09-01T19:12:23.463258Z"
    },
    "papermill": {
     "duration": 0.025044,
     "end_time": "2020-09-01T19:12:23.463432",
     "exception": false,
     "start_time": "2020-09-01T19:12:23.438388",
     "status": "completed"
    },
    "tags": []
   },
   "outputs": [
    {
     "data": {
      "text/plain": [
       "('01-Sep-20', '31-Aug-20')"
      ]
     },
     "execution_count": 4,
     "metadata": {},
     "output_type": "execute_result"
    }
   ],
   "source": [
    "#hide\n",
    "dt_today = df.iloc[-1][0]\n",
    "dt_yday = df.iloc[-4][0]\n",
    "dt_today, dt_yday"
   ]
  },
  {
   "cell_type": "code",
   "execution_count": 5,
   "metadata": {
    "execution": {
     "iopub.execute_input": "2020-09-01T19:12:23.503115Z",
     "iopub.status.busy": "2020-09-01T19:12:23.502457Z",
     "iopub.status.idle": "2020-09-01T19:12:23.510510Z",
     "shell.execute_reply": "2020-09-01T19:12:23.509906Z"
    },
    "papermill": {
     "duration": 0.030633,
     "end_time": "2020-09-01T19:12:23.510642",
     "exception": false,
     "start_time": "2020-09-01T19:12:23.480009",
     "status": "completed"
    },
    "tags": []
   },
   "outputs": [],
   "source": [
    "#hide\n",
    "df_today = df.groupby('Status').sum()\n",
    "df_yday = df.iloc[:-3][:].groupby('Status').sum()"
   ]
  },
  {
   "cell_type": "code",
   "execution_count": 6,
   "metadata": {
    "execution": {
     "iopub.execute_input": "2020-09-01T19:12:23.552983Z",
     "iopub.status.busy": "2020-09-01T19:12:23.552164Z",
     "iopub.status.idle": "2020-09-01T19:12:23.563240Z",
     "shell.execute_reply": "2020-09-01T19:12:23.562710Z"
    },
    "papermill": {
     "duration": 0.036323,
     "end_time": "2020-09-01T19:12:23.563379",
     "exception": false,
     "start_time": "2020-09-01T19:12:23.527056",
     "status": "completed"
    },
    "tags": []
   },
   "outputs": [
    {
     "data": {
      "text/html": [
       "<div>\n",
       "<style scoped>\n",
       "    .dataframe tbody tr th:only-of-type {\n",
       "        vertical-align: middle;\n",
       "    }\n",
       "\n",
       "    .dataframe tbody tr th {\n",
       "        vertical-align: top;\n",
       "    }\n",
       "\n",
       "    .dataframe thead th {\n",
       "        text-align: right;\n",
       "    }\n",
       "</style>\n",
       "<table border=\"1\" class=\"dataframe\">\n",
       "  <thead>\n",
       "    <tr style=\"text-align: right;\">\n",
       "      <th></th>\n",
       "      <th>TT</th>\n",
       "      <th>AN</th>\n",
       "      <th>AP</th>\n",
       "      <th>AR</th>\n",
       "      <th>AS</th>\n",
       "      <th>BR</th>\n",
       "      <th>CH</th>\n",
       "      <th>CT</th>\n",
       "      <th>DN</th>\n",
       "      <th>DD</th>\n",
       "      <th>...</th>\n",
       "      <th>PB</th>\n",
       "      <th>RJ</th>\n",
       "      <th>SK</th>\n",
       "      <th>TN</th>\n",
       "      <th>TG</th>\n",
       "      <th>TR</th>\n",
       "      <th>UP</th>\n",
       "      <th>UT</th>\n",
       "      <th>WB</th>\n",
       "      <th>UN</th>\n",
       "    </tr>\n",
       "    <tr>\n",
       "      <th>Status</th>\n",
       "      <th></th>\n",
       "      <th></th>\n",
       "      <th></th>\n",
       "      <th></th>\n",
       "      <th></th>\n",
       "      <th></th>\n",
       "      <th></th>\n",
       "      <th></th>\n",
       "      <th></th>\n",
       "      <th></th>\n",
       "      <th></th>\n",
       "      <th></th>\n",
       "      <th></th>\n",
       "      <th></th>\n",
       "      <th></th>\n",
       "      <th></th>\n",
       "      <th></th>\n",
       "      <th></th>\n",
       "      <th></th>\n",
       "      <th></th>\n",
       "      <th></th>\n",
       "    </tr>\n",
       "  </thead>\n",
       "  <tbody>\n",
       "    <tr>\n",
       "      <th>Confirmed</th>\n",
       "      <td>3765480</td>\n",
       "      <td>3156</td>\n",
       "      <td>445139</td>\n",
       "      <td>4212</td>\n",
       "      <td>111623</td>\n",
       "      <td>138265</td>\n",
       "      <td>4550</td>\n",
       "      <td>33387</td>\n",
       "      <td>2388</td>\n",
       "      <td>0</td>\n",
       "      <td>...</td>\n",
       "      <td>55508</td>\n",
       "      <td>83163</td>\n",
       "      <td>1683</td>\n",
       "      <td>433969</td>\n",
       "      <td>127187</td>\n",
       "      <td>12153</td>\n",
       "      <td>235757</td>\n",
       "      <td>20398</td>\n",
       "      <td>165721</td>\n",
       "      <td>0</td>\n",
       "    </tr>\n",
       "    <tr>\n",
       "      <th>Deceased</th>\n",
       "      <td>66470</td>\n",
       "      <td>46</td>\n",
       "      <td>4053</td>\n",
       "      <td>7</td>\n",
       "      <td>319</td>\n",
       "      <td>709</td>\n",
       "      <td>57</td>\n",
       "      <td>287</td>\n",
       "      <td>2</td>\n",
       "      <td>0</td>\n",
       "      <td>...</td>\n",
       "      <td>1512</td>\n",
       "      <td>1069</td>\n",
       "      <td>4</td>\n",
       "      <td>7418</td>\n",
       "      <td>836</td>\n",
       "      <td>113</td>\n",
       "      <td>3542</td>\n",
       "      <td>280</td>\n",
       "      <td>3283</td>\n",
       "      <td>0</td>\n",
       "    </tr>\n",
       "    <tr>\n",
       "      <th>Recovered</th>\n",
       "      <td>2899514</td>\n",
       "      <td>2705</td>\n",
       "      <td>339876</td>\n",
       "      <td>2979</td>\n",
       "      <td>86893</td>\n",
       "      <td>121601</td>\n",
       "      <td>2551</td>\n",
       "      <td>17567</td>\n",
       "      <td>2121</td>\n",
       "      <td>0</td>\n",
       "      <td>...</td>\n",
       "      <td>38147</td>\n",
       "      <td>68124</td>\n",
       "      <td>1238</td>\n",
       "      <td>374172</td>\n",
       "      <td>95162</td>\n",
       "      <td>7654</td>\n",
       "      <td>176677</td>\n",
       "      <td>14012</td>\n",
       "      <td>137616</td>\n",
       "      <td>0</td>\n",
       "    </tr>\n",
       "  </tbody>\n",
       "</table>\n",
       "<p>3 rows × 39 columns</p>\n",
       "</div>"
      ],
      "text/plain": [
       "                TT    AN      AP    AR      AS      BR    CH     CT    DN  DD  \\\n",
       "Status                                                                          \n",
       "Confirmed  3765480  3156  445139  4212  111623  138265  4550  33387  2388   0   \n",
       "Deceased     66470    46    4053     7     319     709    57    287     2   0   \n",
       "Recovered  2899514  2705  339876  2979   86893  121601  2551  17567  2121   0   \n",
       "\n",
       "           ...     PB     RJ    SK      TN      TG     TR      UP     UT  \\\n",
       "Status     ...                                                             \n",
       "Confirmed  ...  55508  83163  1683  433969  127187  12153  235757  20398   \n",
       "Deceased   ...   1512   1069     4    7418     836    113    3542    280   \n",
       "Recovered  ...  38147  68124  1238  374172   95162   7654  176677  14012   \n",
       "\n",
       "               WB  UN  \n",
       "Status                 \n",
       "Confirmed  165721   0  \n",
       "Deceased     3283   0  \n",
       "Recovered  137616   0  \n",
       "\n",
       "[3 rows x 39 columns]"
      ]
     },
     "execution_count": 6,
     "metadata": {},
     "output_type": "execute_result"
    }
   ],
   "source": [
    "#hide\n",
    "df_today"
   ]
  },
  {
   "cell_type": "code",
   "execution_count": 7,
   "metadata": {
    "execution": {
     "iopub.execute_input": "2020-09-01T19:12:23.616727Z",
     "iopub.status.busy": "2020-09-01T19:12:23.615975Z",
     "iopub.status.idle": "2020-09-01T19:12:23.619317Z",
     "shell.execute_reply": "2020-09-01T19:12:23.619866Z"
    },
    "papermill": {
     "duration": 0.039585,
     "end_time": "2020-09-01T19:12:23.620042",
     "exception": false,
     "start_time": "2020-09-01T19:12:23.580457",
     "status": "completed"
    },
    "tags": []
   },
   "outputs": [
    {
     "data": {
      "text/html": [
       "<div>\n",
       "<style scoped>\n",
       "    .dataframe tbody tr th:only-of-type {\n",
       "        vertical-align: middle;\n",
       "    }\n",
       "\n",
       "    .dataframe tbody tr th {\n",
       "        vertical-align: top;\n",
       "    }\n",
       "\n",
       "    .dataframe thead th {\n",
       "        text-align: right;\n",
       "    }\n",
       "</style>\n",
       "<table border=\"1\" class=\"dataframe\">\n",
       "  <thead>\n",
       "    <tr style=\"text-align: right;\">\n",
       "      <th></th>\n",
       "      <th>TT</th>\n",
       "      <th>AN</th>\n",
       "      <th>AP</th>\n",
       "      <th>AR</th>\n",
       "      <th>AS</th>\n",
       "      <th>BR</th>\n",
       "      <th>CH</th>\n",
       "      <th>CT</th>\n",
       "      <th>DN</th>\n",
       "      <th>DD</th>\n",
       "      <th>...</th>\n",
       "      <th>PB</th>\n",
       "      <th>RJ</th>\n",
       "      <th>SK</th>\n",
       "      <th>TN</th>\n",
       "      <th>TG</th>\n",
       "      <th>TR</th>\n",
       "      <th>UP</th>\n",
       "      <th>UT</th>\n",
       "      <th>WB</th>\n",
       "      <th>UN</th>\n",
       "    </tr>\n",
       "    <tr>\n",
       "      <th>Status</th>\n",
       "      <th></th>\n",
       "      <th></th>\n",
       "      <th></th>\n",
       "      <th></th>\n",
       "      <th></th>\n",
       "      <th></th>\n",
       "      <th></th>\n",
       "      <th></th>\n",
       "      <th></th>\n",
       "      <th></th>\n",
       "      <th></th>\n",
       "      <th></th>\n",
       "      <th></th>\n",
       "      <th></th>\n",
       "      <th></th>\n",
       "      <th></th>\n",
       "      <th></th>\n",
       "      <th></th>\n",
       "      <th></th>\n",
       "      <th></th>\n",
       "      <th></th>\n",
       "    </tr>\n",
       "  </thead>\n",
       "  <tbody>\n",
       "    <tr>\n",
       "      <th>Confirmed</th>\n",
       "      <td>3687312</td>\n",
       "      <td>3128</td>\n",
       "      <td>434771</td>\n",
       "      <td>4112</td>\n",
       "      <td>108939</td>\n",
       "      <td>136337</td>\n",
       "      <td>4346</td>\n",
       "      <td>31503</td>\n",
       "      <td>2369</td>\n",
       "      <td>0</td>\n",
       "      <td>...</td>\n",
       "      <td>53992</td>\n",
       "      <td>81693</td>\n",
       "      <td>1665</td>\n",
       "      <td>428041</td>\n",
       "      <td>124453</td>\n",
       "      <td>11644</td>\n",
       "      <td>230414</td>\n",
       "      <td>19827</td>\n",
       "      <td>162778</td>\n",
       "      <td>0</td>\n",
       "    </tr>\n",
       "    <tr>\n",
       "      <th>Deceased</th>\n",
       "      <td>65444</td>\n",
       "      <td>46</td>\n",
       "      <td>3969</td>\n",
       "      <td>7</td>\n",
       "      <td>310</td>\n",
       "      <td>694</td>\n",
       "      <td>56</td>\n",
       "      <td>277</td>\n",
       "      <td>2</td>\n",
       "      <td>0</td>\n",
       "      <td>...</td>\n",
       "      <td>1453</td>\n",
       "      <td>1056</td>\n",
       "      <td>3</td>\n",
       "      <td>7322</td>\n",
       "      <td>827</td>\n",
       "      <td>103</td>\n",
       "      <td>3486</td>\n",
       "      <td>269</td>\n",
       "      <td>3228</td>\n",
       "      <td>0</td>\n",
       "    </tr>\n",
       "    <tr>\n",
       "      <th>Recovered</th>\n",
       "      <td>2837370</td>\n",
       "      <td>2638</td>\n",
       "      <td>330526</td>\n",
       "      <td>2885</td>\n",
       "      <td>85459</td>\n",
       "      <td>119572</td>\n",
       "      <td>2431</td>\n",
       "      <td>16989</td>\n",
       "      <td>2081</td>\n",
       "      <td>0</td>\n",
       "      <td>...</td>\n",
       "      <td>37027</td>\n",
       "      <td>66812</td>\n",
       "      <td>1226</td>\n",
       "      <td>368141</td>\n",
       "      <td>92837</td>\n",
       "      <td>7433</td>\n",
       "      <td>172140</td>\n",
       "      <td>13608</td>\n",
       "      <td>134270</td>\n",
       "      <td>0</td>\n",
       "    </tr>\n",
       "  </tbody>\n",
       "</table>\n",
       "<p>3 rows × 39 columns</p>\n",
       "</div>"
      ],
      "text/plain": [
       "                TT    AN      AP    AR      AS      BR    CH     CT    DN  DD  \\\n",
       "Status                                                                          \n",
       "Confirmed  3687312  3128  434771  4112  108939  136337  4346  31503  2369   0   \n",
       "Deceased     65444    46    3969     7     310     694    56    277     2   0   \n",
       "Recovered  2837370  2638  330526  2885   85459  119572  2431  16989  2081   0   \n",
       "\n",
       "           ...     PB     RJ    SK      TN      TG     TR      UP     UT  \\\n",
       "Status     ...                                                             \n",
       "Confirmed  ...  53992  81693  1665  428041  124453  11644  230414  19827   \n",
       "Deceased   ...   1453   1056     3    7322     827    103    3486    269   \n",
       "Recovered  ...  37027  66812  1226  368141   92837   7433  172140  13608   \n",
       "\n",
       "               WB  UN  \n",
       "Status                 \n",
       "Confirmed  162778   0  \n",
       "Deceased     3228   0  \n",
       "Recovered  134270   0  \n",
       "\n",
       "[3 rows x 39 columns]"
      ]
     },
     "execution_count": 7,
     "metadata": {},
     "output_type": "execute_result"
    }
   ],
   "source": [
    "#hide\n",
    "df_yday.head()"
   ]
  },
  {
   "cell_type": "code",
   "execution_count": 8,
   "metadata": {
    "execution": {
     "iopub.execute_input": "2020-09-01T19:12:23.663577Z",
     "iopub.status.busy": "2020-09-01T19:12:23.662893Z",
     "iopub.status.idle": "2020-09-01T19:12:23.667191Z",
     "shell.execute_reply": "2020-09-01T19:12:23.667700Z"
    },
    "papermill": {
     "duration": 0.031262,
     "end_time": "2020-09-01T19:12:23.667872",
     "exception": false,
     "start_time": "2020-09-01T19:12:23.636610",
     "status": "completed"
    },
    "tags": []
   },
   "outputs": [
    {
     "data": {
      "text/plain": [
       "{'updated': '01-Sep-20',\n",
       " 'since': '31-Aug-20',\n",
       " 'Cases': 3765480,\n",
       " 'Deaths': 66470,\n",
       " 'Recovered': 2899514,\n",
       " 'PCases': 3687312,\n",
       " 'PDeaths': 65444,\n",
       " 'PRecovered': 2837370,\n",
       " 'Cases (+)': 78168,\n",
       " 'Deaths (+)': 1026,\n",
       " 'Recovered (+)': 62144}"
      ]
     },
     "execution_count": 8,
     "metadata": {},
     "output_type": "execute_result"
    }
   ],
   "source": [
    "#hide\n",
    "summary = {\n",
    "    'updated' : dt_today,\n",
    "    'since' : dt_yday,\n",
    "    'Cases' : df_today['TT'][0],\n",
    "    'Deaths' : df_today['TT'][1],\n",
    "    'Recovered' : df_today['TT'][2],\n",
    "    'PCases' : df_yday['TT'][0],\n",
    "    'PDeaths' : df_yday['TT'][1],\n",
    "    'PRecovered': df_yday['TT'][2],\n",
    "    'Cases (+)' : df_today['TT'][0] - df_yday['TT'][0],\n",
    "    'Deaths (+)' : df_today['TT'][1] - df_yday['TT'][1],\n",
    "    'Recovered (+)': df_today['TT'][2] - df_yday['TT'][2]\n",
    "}\n",
    "\n",
    "summary"
   ]
  },
  {
   "cell_type": "code",
   "execution_count": 9,
   "metadata": {
    "execution": {
     "iopub.execute_input": "2020-09-01T19:12:23.706886Z",
     "iopub.status.busy": "2020-09-01T19:12:23.706212Z",
     "iopub.status.idle": "2020-09-01T19:12:23.708995Z",
     "shell.execute_reply": "2020-09-01T19:12:23.708280Z"
    },
    "papermill": {
     "duration": 0.023837,
     "end_time": "2020-09-01T19:12:23.709148",
     "exception": false,
     "start_time": "2020-09-01T19:12:23.685311",
     "status": "completed"
    },
    "tags": []
   },
   "outputs": [],
   "source": [
    "#hide\n",
    "overview = '''\n",
    "<!-- #######  HTML!! #########-->\n",
    "<h1 style=\"color: #5e9ca0; text-align: center;\">India</h1>\n",
    "<p style=\"text-align: center;\">Last update: <strong>{update}</strong></p>\n",
    "<p style=\"text-align: center;\">Confirmed cases:</p>\n",
    "<p style=\"text-align: center;font-size:24px;\">{cases} (<span style=\"color: #ff0000;\">+{new}</span>)</p>\n",
    "<p style=\"text-align: center;\">Confirmed deaths:</p>\n",
    "<p style=\"text-align: center;font-size:24px;\">{deaths} (<span style=\"color: #ff0000;\">+{dnew}</span>)</p>\n",
    "<p style=\"text-align: center;\">Recovered cases:</p>\n",
    "<p style=\"text-align: center;font-size:24px;\">{recovered} (<span style=\"color: #00ff00;\">+{rnew}</span>)</p>\n",
    "'''"
   ]
  },
  {
   "cell_type": "code",
   "execution_count": 10,
   "metadata": {
    "execution": {
     "iopub.execute_input": "2020-09-01T19:12:23.753118Z",
     "iopub.status.busy": "2020-09-01T19:12:23.752394Z",
     "iopub.status.idle": "2020-09-01T19:12:23.756124Z",
     "shell.execute_reply": "2020-09-01T19:12:23.756758Z"
    },
    "papermill": {
     "duration": 0.029519,
     "end_time": "2020-09-01T19:12:23.756920",
     "exception": false,
     "start_time": "2020-09-01T19:12:23.727401",
     "status": "completed"
    },
    "tags": []
   },
   "outputs": [
    {
     "data": {
      "text/html": [
       "\n",
       "<!-- #######  HTML!! #########-->\n",
       "<h1 style=\"color: #5e9ca0; text-align: center;\">India</h1>\n",
       "<p style=\"text-align: center;\">Last update: <strong>01-Sep-20</strong></p>\n",
       "<p style=\"text-align: center;\">Confirmed cases:</p>\n",
       "<p style=\"text-align: center;font-size:24px;\">3765480 (<span style=\"color: #ff0000;\">+78168</span>)</p>\n",
       "<p style=\"text-align: center;\">Confirmed deaths:</p>\n",
       "<p style=\"text-align: center;font-size:24px;\">66470 (<span style=\"color: #ff0000;\">+1026</span>)</p>\n",
       "<p style=\"text-align: center;\">Recovered cases:</p>\n",
       "<p style=\"text-align: center;font-size:24px;\">2899514 (<span style=\"color: #00ff00;\">+62144</span>)</p>\n"
      ],
      "text/plain": [
       "<IPython.core.display.HTML object>"
      ]
     },
     "metadata": {},
     "output_type": "display_data"
    }
   ],
   "source": [
    "#hide_input\n",
    "# Fill the above HTML with the information from the summary dictionary\n",
    "\n",
    "update = summary['updated']\n",
    "cases = summary['Cases']\n",
    "new = summary['Cases (+)']\n",
    "deaths = summary['Deaths']\n",
    "dnew = summary['Deaths (+)']\n",
    "recovered = summary['Recovered']\n",
    "rnew = summary['Recovered (+)']\n",
    "\n",
    "html = HTML(overview.format(update=update, cases=cases,new=new,deaths=deaths,dnew=dnew, recovered=recovered, rnew=rnew))\n",
    "\n",
    "display(html)"
   ]
  },
  {
   "cell_type": "code",
   "execution_count": 11,
   "metadata": {
    "execution": {
     "iopub.execute_input": "2020-09-01T19:12:23.798668Z",
     "iopub.status.busy": "2020-09-01T19:12:23.797977Z",
     "iopub.status.idle": "2020-09-01T19:12:23.805634Z",
     "shell.execute_reply": "2020-09-01T19:12:23.805054Z"
    },
    "papermill": {
     "duration": 0.031692,
     "end_time": "2020-09-01T19:12:23.805786",
     "exception": false,
     "start_time": "2020-09-01T19:12:23.774094",
     "status": "completed"
    },
    "tags": []
   },
   "outputs": [],
   "source": [
    "#hide\n",
    "df_cases = df[df['Status'] == 'Confirmed'].copy()\n",
    "df_cases.drop(columns = ['Status'], inplace=True)\n",
    "df_deaths = df[df['Status'] == 'Deceased'].copy()\n",
    "df_deaths.drop(columns = ['Status'], inplace=True)\n",
    "df_recovered = df[df['Status'] == 'Recovered'].copy()\n",
    "df_recovered.drop(columns = ['Status'], inplace=True)"
   ]
  },
  {
   "cell_type": "markdown",
   "metadata": {
    "papermill": {
     "duration": 0.017453,
     "end_time": "2020-09-01T19:12:23.841263",
     "exception": false,
     "start_time": "2020-09-01T19:12:23.823810",
     "status": "completed"
    },
    "tags": []
   },
   "source": [
    "Plot for India:"
   ]
  },
  {
   "cell_type": "code",
   "execution_count": 12,
   "metadata": {
    "execution": {
     "iopub.execute_input": "2020-09-01T19:12:23.884008Z",
     "iopub.status.busy": "2020-09-01T19:12:23.883381Z",
     "iopub.status.idle": "2020-09-01T19:12:24.217010Z",
     "shell.execute_reply": "2020-09-01T19:12:24.217729Z"
    },
    "papermill": {
     "duration": 0.360146,
     "end_time": "2020-09-01T19:12:24.217925",
     "exception": false,
     "start_time": "2020-09-01T19:12:23.857779",
     "status": "completed"
    },
    "tags": []
   },
   "outputs": [
    {
     "data": {
      "image/png": "[encoded data removed]",
      "text/plain": [
       "<Figure size 1296x432 with 1 Axes>"
      ]
     },
     "metadata": {
      "needs_background": "light"
     },
     "output_type": "display_data"
    }
   ],
   "source": [
    "#hide_input\n",
    "plt.figure(figsize = (18,6))\n",
    "plt.plot(df_cases['Date'], df_cases['TT'],'.-', alpha=0.7, color='b', label='Confirmed cases')\n",
    "plt.plot(df_recovered['Date'], df_recovered['TT'],'.-', alpha=0.7, color='g', label='Recovered')\n",
    "plt.plot(df_deaths['Date'], df_deaths['TT'],'.-', alpha=0.7, color='r', label='Deceased')\n",
    "plt.legend()\n",
    "plt.title(\"Cases per day in India\")\n",
    "plt.xticks(ticks=' ')\n",
    "plt.xlabel(f'{df_cases.iloc[0][0]} to {df_cases.iloc[-1][0]}')\n",
    "plt.ylabel('No. of cases');"
   ]
  },
  {
   "cell_type": "markdown",
   "metadata": {
    "papermill": {
     "duration": 0.063541,
     "end_time": "2020-09-01T19:12:24.303664",
     "exception": false,
     "start_time": "2020-09-01T19:12:24.240123",
     "status": "completed"
    },
    "tags": []
   },
   "source": [
    "Plots for the states with highest number of cases:"
   ]
  },
  {
   "cell_type": "code",
   "execution_count": 13,
   "metadata": {
    "execution": {
     "iopub.execute_input": "2020-09-01T19:12:24.563550Z",
     "iopub.status.busy": "2020-09-01T19:12:24.561194Z",
     "iopub.status.idle": "2020-09-01T19:12:25.276216Z",
     "shell.execute_reply": "2020-09-01T19:12:25.275523Z"
    },
    "papermill": {
     "duration": 0.76869,
     "end_time": "2020-09-01T19:12:25.276398",
     "exception": false,
     "start_time": "2020-09-01T19:12:24.507708",
     "status": "completed"
    },
    "tags": []
   },
   "outputs": [
    {
     "data": {
      "image/png": "[encoded data removed]",
      "text/plain": [
       "<Figure size 1512x432 with 3 Axes>"
      ]
     },
     "metadata": {
      "needs_background": "light"
     },
     "output_type": "display_data"
    }
   ],
   "source": [
    "#hide_input\n",
    "top_3 = sorted(df_cases.sum().values[1:], reverse=True)[1:4]\n",
    "top3_states=[]\n",
    "for i in top_3:\n",
    "    top3_states.append(df_cases.sum()[df_cases.sum() == i].index)\n",
    "\n",
    "\n",
    "fig, ax = plt.subplots(1,3,figsize = (21,6))\n",
    "for i in range(3):\n",
    "    state = top3_states[i].values[0]\n",
    "    ax[i].plot(df_cases['Date'], df_cases[state],'.-', color='b', alpha=0.7)\n",
    "    ax[i].plot(df_deaths['Date'], df_deaths[state],'.-', color='r', alpha=0.7)\n",
    "    ax[i].plot(df_recovered['Date'], df_recovered[state],'.-', color='g', alpha=0.7)\n",
    "    \n",
    "    ax[i].set_title(f\"Cases in {state}\")\n",
    "    ax[i].set_xticks(ticks=' ')\n",
    "    ax[i].set_xlabel(f'{df_cases.iloc[0][0]} to {df_cases.iloc[-1][0]}')\n",
    "    ax[i].set_ylabel('No. of cases');"
   ]
  },
  {
   "cell_type": "code",
   "execution_count": null,
   "metadata": {
    "papermill": {
     "duration": 0.020917,
     "end_time": "2020-09-01T19:12:25.320021",
     "exception": false,
     "start_time": "2020-09-01T19:12:25.299104",
     "status": "completed"
    },
    "tags": []
   },
   "outputs": [],
   "source": []
  },
  {
   "cell_type": "code",
   "execution_count": null,
   "metadata": {
    "papermill": {
     "duration": 0.019721,
     "end_time": "2020-09-01T19:12:25.358669",
     "exception": false,
     "start_time": "2020-09-01T19:12:25.338948",
     "status": "completed"
    },
    "tags": []
   },
   "outputs": [],
   "source": []
  },
  {
   "cell_type": "code",
   "execution_count": null,
   "metadata": {
    "papermill": {
     "duration": 0.021754,
     "end_time": "2020-09-01T19:12:25.401877",
     "exception": false,
     "start_time": "2020-09-01T19:12:25.380123",
     "status": "completed"
    },
    "tags": []
   },
   "outputs": [],
   "source": []
  }
 ],
 "metadata": {
  "kernelspec": {
   "display_name": "Python 3",
   "language": "python",
   "name": "python3"
  },
  "language_info": {
   "codemirror_mode": {
    "name": "ipython",
    "version": 3
   },
   "file_extension": ".py",
   "mimetype": "text/x-python",
   "name": "python",
   "nbconvert_exporter": "python",
   "pygments_lexer": "ipython3",
   "version": "3.6.12"
  },
  "papermill": {
   "duration": 5.378122,
   "end_time": "2020-09-01T19:12:26.599012",
   "environment_variables": {},
   "exception": null,
   "input_path": "2020-08-09-DailyUpdate.ipynb",
   "output_path": "2020-08-09-DailyUpdate.ipynb",
   "parameters": {},
   "start_time": "2020-09-01T19:12:21.220890",
   "version": "2.1.2"
  }
 },
 "nbformat": 4,
 "nbformat_minor": 4
}