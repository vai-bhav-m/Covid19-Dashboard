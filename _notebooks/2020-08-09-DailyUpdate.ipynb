{
 "cells": [
  {
   "cell_type": "markdown",
   "metadata": {
    "papermill": {
     "duration": 0.01623,
     "end_time": "2020-09-04T19:12:43.791638",
     "exception": false,
     "start_time": "2020-09-04T19:12:43.775408",
     "status": "completed"
    },
    "tags": []
   },
   "source": [
    "# COVID-19 India Daily updates\n",
    "> Tracking coronavirus total cases, deaths and new cases in India on a daily basis\n",
    "\n",
    "- author: Vaibhav Mahapatra"
   ]
  },
  {
   "cell_type": "code",
   "execution_count": 1,
   "metadata": {
    "execution": {
     "iopub.execute_input": "2020-09-04T19:12:43.825494Z",
     "iopub.status.busy": "2020-09-04T19:12:43.824890Z",
     "iopub.status.idle": "2020-09-04T19:12:44.424138Z",
     "shell.execute_reply": "2020-09-04T19:12:44.423260Z"
    },
    "papermill": {
     "duration": 0.620243,
     "end_time": "2020-09-04T19:12:44.424377",
     "exception": false,
     "start_time": "2020-09-04T19:12:43.804134",
     "status": "completed"
    },
    "tags": []
   },
   "outputs": [],
   "source": [
    "#hide\n",
    "\n",
    "## Import essential packages below\n",
    "\n",
    "import pandas as pd\n",
    "import numpy as np\n",
    "import requests\n",
    "import json\n",
    "import matplotlib.pyplot as plt\n",
    "import matplotlib.dates as mdates\n",
    "import matplotlib as mpl\n",
    "from IPython.core.display import display,HTML\n",
    "%matplotlib inline"
   ]
  },
  {
   "cell_type": "code",
   "execution_count": 2,
   "metadata": {
    "execution": {
     "iopub.execute_input": "2020-09-04T19:12:44.457680Z",
     "iopub.status.busy": "2020-09-04T19:12:44.457092Z",
     "iopub.status.idle": "2020-09-04T19:12:44.529020Z",
     "shell.execute_reply": "2020-09-04T19:12:44.528540Z"
    },
    "papermill": {
     "duration": 0.09114,
     "end_time": "2020-09-04T19:12:44.529154",
     "exception": false,
     "start_time": "2020-09-04T19:12:44.438014",
     "status": "completed"
    },
    "tags": []
   },
   "outputs": [
    {
     "data": {
      "text/plain": [
       "(525, 41)"
      ]
     },
     "execution_count": 2,
     "metadata": {},
     "output_type": "execute_result"
    }
   ],
   "source": [
    "#hide\n",
    "url = 'https://api.covid19india.org/csv/latest/state_wise_daily.csv'\n",
    "df = pd.read_csv(url)\n",
    "df.shape"
   ]
  },
  {
   "cell_type": "code",
   "execution_count": 3,
   "metadata": {
    "execution": {
     "iopub.execute_input": "2020-09-04T19:12:44.556338Z",
     "iopub.status.busy": "2020-09-04T19:12:44.555634Z",
     "iopub.status.idle": "2020-09-04T19:12:44.619901Z",
     "shell.execute_reply": "2020-09-04T19:12:44.620369Z"
    },
    "papermill": {
     "duration": 0.079123,
     "end_time": "2020-09-04T19:12:44.620521",
     "exception": false,
     "start_time": "2020-09-04T19:12:44.541398",
     "status": "completed"
    },
    "tags": []
   },
   "outputs": [
    {
     "data": {
      "text/html": [
       "<div>\n",
       "<style scoped>\n",
       "    .dataframe tbody tr th:only-of-type {\n",
       "        vertical-align: middle;\n",
       "    }\n",
       "\n",
       "    .dataframe tbody tr th {\n",
       "        vertical-align: top;\n",
       "    }\n",
       "\n",
       "    .dataframe thead th {\n",
       "        text-align: right;\n",
       "    }\n",
       "</style>\n",
       "<table border=\"1\" class=\"dataframe\">\n",
       "  <thead>\n",
       "    <tr style=\"text-align: right;\">\n",
       "      <th></th>\n",
       "      <th>Date</th>\n",
       "      <th>Status</th>\n",
       "      <th>TT</th>\n",
       "      <th>AN</th>\n",
       "      <th>AP</th>\n",
       "      <th>AR</th>\n",
       "      <th>AS</th>\n",
       "      <th>BR</th>\n",
       "      <th>CH</th>\n",
       "      <th>CT</th>\n",
       "      <th>...</th>\n",
       "      <th>PB</th>\n",
       "      <th>RJ</th>\n",
       "      <th>SK</th>\n",
       "      <th>TN</th>\n",
       "      <th>TG</th>\n",
       "      <th>TR</th>\n",
       "      <th>UP</th>\n",
       "      <th>UT</th>\n",
       "      <th>WB</th>\n",
       "      <th>UN</th>\n",
       "    </tr>\n",
       "  </thead>\n",
       "  <tbody>\n",
       "    <tr>\n",
       "      <th>519</th>\n",
       "      <td>03-Sep-20</td>\n",
       "      <td>Confirmed</td>\n",
       "      <td>84156</td>\n",
       "      <td>37</td>\n",
       "      <td>10199</td>\n",
       "      <td>214</td>\n",
       "      <td>3054</td>\n",
       "      <td>1922</td>\n",
       "      <td>276</td>\n",
       "      <td>2284</td>\n",
       "      <td>...</td>\n",
       "      <td>1526</td>\n",
       "      <td>1553</td>\n",
       "      <td>34</td>\n",
       "      <td>5892</td>\n",
       "      <td>2817</td>\n",
       "      <td>590</td>\n",
       "      <td>5662</td>\n",
       "      <td>946</td>\n",
       "      <td>2984</td>\n",
       "      <td>0</td>\n",
       "    </tr>\n",
       "    <tr>\n",
       "      <th>520</th>\n",
       "      <td>03-Sep-20</td>\n",
       "      <td>Recovered</td>\n",
       "      <td>67491</td>\n",
       "      <td>65</td>\n",
       "      <td>9499</td>\n",
       "      <td>92</td>\n",
       "      <td>1971</td>\n",
       "      <td>1572</td>\n",
       "      <td>213</td>\n",
       "      <td>730</td>\n",
       "      <td>...</td>\n",
       "      <td>1529</td>\n",
       "      <td>546</td>\n",
       "      <td>44</td>\n",
       "      <td>6110</td>\n",
       "      <td>2611</td>\n",
       "      <td>186</td>\n",
       "      <td>4448</td>\n",
       "      <td>508</td>\n",
       "      <td>3335</td>\n",
       "      <td>0</td>\n",
       "    </tr>\n",
       "    <tr>\n",
       "      <th>521</th>\n",
       "      <td>03-Sep-20</td>\n",
       "      <td>Deceased</td>\n",
       "      <td>1083</td>\n",
       "      <td>1</td>\n",
       "      <td>75</td>\n",
       "      <td>1</td>\n",
       "      <td>7</td>\n",
       "      <td>6</td>\n",
       "      <td>4</td>\n",
       "      <td>16</td>\n",
       "      <td>...</td>\n",
       "      <td>72</td>\n",
       "      <td>14</td>\n",
       "      <td>1</td>\n",
       "      <td>92</td>\n",
       "      <td>10</td>\n",
       "      <td>8</td>\n",
       "      <td>75</td>\n",
       "      <td>9</td>\n",
       "      <td>55</td>\n",
       "      <td>0</td>\n",
       "    </tr>\n",
       "    <tr>\n",
       "      <th>522</th>\n",
       "      <td>04-Sep-20</td>\n",
       "      <td>Confirmed</td>\n",
       "      <td>87059</td>\n",
       "      <td>34</td>\n",
       "      <td>10776</td>\n",
       "      <td>145</td>\n",
       "      <td>2891</td>\n",
       "      <td>1978</td>\n",
       "      <td>203</td>\n",
       "      <td>2667</td>\n",
       "      <td>...</td>\n",
       "      <td>1498</td>\n",
       "      <td>1570</td>\n",
       "      <td>105</td>\n",
       "      <td>5976</td>\n",
       "      <td>2478</td>\n",
       "      <td>524</td>\n",
       "      <td>6074</td>\n",
       "      <td>831</td>\n",
       "      <td>2978</td>\n",
       "      <td>0</td>\n",
       "    </tr>\n",
       "    <tr>\n",
       "      <th>523</th>\n",
       "      <td>04-Sep-20</td>\n",
       "      <td>Recovered</td>\n",
       "      <td>69625</td>\n",
       "      <td>40</td>\n",
       "      <td>12334</td>\n",
       "      <td>113</td>\n",
       "      <td>2020</td>\n",
       "      <td>1435</td>\n",
       "      <td>222</td>\n",
       "      <td>658</td>\n",
       "      <td>...</td>\n",
       "      <td>1272</td>\n",
       "      <td>679</td>\n",
       "      <td>17</td>\n",
       "      <td>6334</td>\n",
       "      <td>2011</td>\n",
       "      <td>179</td>\n",
       "      <td>5006</td>\n",
       "      <td>502</td>\n",
       "      <td>3305</td>\n",
       "      <td>0</td>\n",
       "    </tr>\n",
       "    <tr>\n",
       "      <th>524</th>\n",
       "      <td>04-Sep-20</td>\n",
       "      <td>Deceased</td>\n",
       "      <td>1066</td>\n",
       "      <td>1</td>\n",
       "      <td>76</td>\n",
       "      <td>0</td>\n",
       "      <td>15</td>\n",
       "      <td>13</td>\n",
       "      <td>5</td>\n",
       "      <td>22</td>\n",
       "      <td>...</td>\n",
       "      <td>49</td>\n",
       "      <td>13</td>\n",
       "      <td>0</td>\n",
       "      <td>79</td>\n",
       "      <td>10</td>\n",
       "      <td>3</td>\n",
       "      <td>71</td>\n",
       "      <td>12</td>\n",
       "      <td>58</td>\n",
       "      <td>0</td>\n",
       "    </tr>\n",
       "  </tbody>\n",
       "</table>\n",
       "<p>6 rows × 41 columns</p>\n",
       "</div>"
      ],
      "text/plain": [
       "          Date     Status     TT  AN     AP   AR    AS    BR   CH    CT  ...  \\\n",
       "519  03-Sep-20  Confirmed  84156  37  10199  214  3054  1922  276  2284  ...   \n",
       "520  03-Sep-20  Recovered  67491  65   9499   92  1971  1572  213   730  ...   \n",
       "521  03-Sep-20   Deceased   1083   1     75    1     7     6    4    16  ...   \n",
       "522  04-Sep-20  Confirmed  87059  34  10776  145  2891  1978  203  2667  ...   \n",
       "523  04-Sep-20  Recovered  69625  40  12334  113  2020  1435  222   658  ...   \n",
       "524  04-Sep-20   Deceased   1066   1     76    0    15    13    5    22  ...   \n",
       "\n",
       "       PB    RJ   SK    TN    TG   TR    UP   UT    WB  UN  \n",
       "519  1526  1553   34  5892  2817  590  5662  946  2984   0  \n",
       "520  1529   546   44  6110  2611  186  4448  508  3335   0  \n",
       "521    72    14    1    92    10    8    75    9    55   0  \n",
       "522  1498  1570  105  5976  2478  524  6074  831  2978   0  \n",
       "523  1272   679   17  6334  2011  179  5006  502  3305   0  \n",
       "524    49    13    0    79    10    3    71   12    58   0  \n",
       "\n",
       "[6 rows x 41 columns]"
      ]
     },
     "execution_count": 3,
     "metadata": {},
     "output_type": "execute_result"
    }
   ],
   "source": [
    "#hide\n",
    "df.tail(6)"
   ]
  },
  {
   "cell_type": "code",
   "execution_count": 4,
   "metadata": {
    "execution": {
     "iopub.execute_input": "2020-09-04T19:12:44.653028Z",
     "iopub.status.busy": "2020-09-04T19:12:44.652436Z",
     "iopub.status.idle": "2020-09-04T19:12:44.655398Z",
     "shell.execute_reply": "2020-09-04T19:12:44.654802Z"
    },
    "papermill": {
     "duration": 0.022166,
     "end_time": "2020-09-04T19:12:44.655525",
     "exception": false,
     "start_time": "2020-09-04T19:12:44.633359",
     "status": "completed"
    },
    "tags": []
   },
   "outputs": [
    {
     "data": {
      "text/plain": [
       "('04-Sep-20', '03-Sep-20')"
      ]
     },
     "execution_count": 4,
     "metadata": {},
     "output_type": "execute_result"
    }
   ],
   "source": [
    "#hide\n",
    "dt_today = df.iloc[-1][0]\n",
    "dt_yday = df.iloc[-4][0]\n",
    "dt_today, dt_yday"
   ]
  },
  {
   "cell_type": "code",
   "execution_count": 5,
   "metadata": {
    "execution": {
     "iopub.execute_input": "2020-09-04T19:12:44.688724Z",
     "iopub.status.busy": "2020-09-04T19:12:44.688153Z",
     "iopub.status.idle": "2020-09-04T19:12:44.694259Z",
     "shell.execute_reply": "2020-09-04T19:12:44.693767Z"
    },
    "papermill": {
     "duration": 0.025487,
     "end_time": "2020-09-04T19:12:44.694391",
     "exception": false,
     "start_time": "2020-09-04T19:12:44.668904",
     "status": "completed"
    },
    "tags": []
   },
   "outputs": [],
   "source": [
    "#hide\n",
    "df_today = df.groupby('Status').sum()\n",
    "df_yday = df.iloc[:-3][:].groupby('Status').sum()"
   ]
  },
  {
   "cell_type": "code",
   "execution_count": 6,
   "metadata": {
    "execution": {
     "iopub.execute_input": "2020-09-04T19:12:44.733344Z",
     "iopub.status.busy": "2020-09-04T19:12:44.732768Z",
     "iopub.status.idle": "2020-09-04T19:12:44.741770Z",
     "shell.execute_reply": "2020-09-04T19:12:44.742264Z"
    },
    "papermill": {
     "duration": 0.034802,
     "end_time": "2020-09-04T19:12:44.742410",
     "exception": false,
     "start_time": "2020-09-04T19:12:44.707608",
     "status": "completed"
    },
    "tags": []
   },
   "outputs": [
    {
     "data": {
      "text/html": [
       "<div>\n",
       "<style scoped>\n",
       "    .dataframe tbody tr th:only-of-type {\n",
       "        vertical-align: middle;\n",
       "    }\n",
       "\n",
       "    .dataframe tbody tr th {\n",
       "        vertical-align: top;\n",
       "    }\n",
       "\n",
       "    .dataframe thead th {\n",
       "        text-align: right;\n",
       "    }\n",
       "</style>\n",
       "<table border=\"1\" class=\"dataframe\">\n",
       "  <thead>\n",
       "    <tr style=\"text-align: right;\">\n",
       "      <th></th>\n",
       "      <th>TT</th>\n",
       "      <th>AN</th>\n",
       "      <th>AP</th>\n",
       "      <th>AR</th>\n",
       "      <th>AS</th>\n",
       "      <th>BR</th>\n",
       "      <th>CH</th>\n",
       "      <th>CT</th>\n",
       "      <th>DN</th>\n",
       "      <th>DD</th>\n",
       "      <th>...</th>\n",
       "      <th>PB</th>\n",
       "      <th>RJ</th>\n",
       "      <th>SK</th>\n",
       "      <th>TN</th>\n",
       "      <th>TG</th>\n",
       "      <th>TR</th>\n",
       "      <th>UP</th>\n",
       "      <th>UT</th>\n",
       "      <th>WB</th>\n",
       "      <th>UN</th>\n",
       "    </tr>\n",
       "    <tr>\n",
       "      <th>Status</th>\n",
       "      <th></th>\n",
       "      <th></th>\n",
       "      <th></th>\n",
       "      <th></th>\n",
       "      <th></th>\n",
       "      <th></th>\n",
       "      <th></th>\n",
       "      <th></th>\n",
       "      <th></th>\n",
       "      <th></th>\n",
       "      <th></th>\n",
       "      <th></th>\n",
       "      <th></th>\n",
       "      <th></th>\n",
       "      <th></th>\n",
       "      <th></th>\n",
       "      <th></th>\n",
       "      <th></th>\n",
       "      <th></th>\n",
       "      <th></th>\n",
       "      <th></th>\n",
       "    </tr>\n",
       "  </thead>\n",
       "  <tbody>\n",
       "    <tr>\n",
       "      <th>Confirmed</th>\n",
       "      <td>4019555</td>\n",
       "      <td>3253</td>\n",
       "      <td>476506</td>\n",
       "      <td>4719</td>\n",
       "      <td>121123</td>\n",
       "      <td>144134</td>\n",
       "      <td>5268</td>\n",
       "      <td>40634</td>\n",
       "      <td>2512</td>\n",
       "      <td>0</td>\n",
       "      <td>...</td>\n",
       "      <td>60013</td>\n",
       "      <td>87797</td>\n",
       "      <td>1856</td>\n",
       "      <td>451827</td>\n",
       "      <td>135374</td>\n",
       "      <td>13833</td>\n",
       "      <td>253175</td>\n",
       "      <td>23011</td>\n",
       "      <td>174659</td>\n",
       "      <td>0</td>\n",
       "    </tr>\n",
       "    <tr>\n",
       "      <th>Deceased</th>\n",
       "      <td>69646</td>\n",
       "      <td>49</td>\n",
       "      <td>4276</td>\n",
       "      <td>8</td>\n",
       "      <td>349</td>\n",
       "      <td>741</td>\n",
       "      <td>68</td>\n",
       "      <td>337</td>\n",
       "      <td>2</td>\n",
       "      <td>0</td>\n",
       "      <td>...</td>\n",
       "      <td>1739</td>\n",
       "      <td>1108</td>\n",
       "      <td>5</td>\n",
       "      <td>7687</td>\n",
       "      <td>866</td>\n",
       "      <td>129</td>\n",
       "      <td>3762</td>\n",
       "      <td>312</td>\n",
       "      <td>3452</td>\n",
       "      <td>0</td>\n",
       "    </tr>\n",
       "    <tr>\n",
       "      <th>Recovered</th>\n",
       "      <td>3104505</td>\n",
       "      <td>2854</td>\n",
       "      <td>370163</td>\n",
       "      <td>3280</td>\n",
       "      <td>92718</td>\n",
       "      <td>126411</td>\n",
       "      <td>3105</td>\n",
       "      <td>19608</td>\n",
       "      <td>2202</td>\n",
       "      <td>0</td>\n",
       "      <td>...</td>\n",
       "      <td>42543</td>\n",
       "      <td>71899</td>\n",
       "      <td>1322</td>\n",
       "      <td>392507</td>\n",
       "      <td>102024</td>\n",
       "      <td>8212</td>\n",
       "      <td>190818</td>\n",
       "      <td>15447</td>\n",
       "      <td>147553</td>\n",
       "      <td>0</td>\n",
       "    </tr>\n",
       "  </tbody>\n",
       "</table>\n",
       "<p>3 rows × 39 columns</p>\n",
       "</div>"
      ],
      "text/plain": [
       "                TT    AN      AP    AR      AS      BR    CH     CT    DN  DD  \\\n",
       "Status                                                                          \n",
       "Confirmed  4019555  3253  476506  4719  121123  144134  5268  40634  2512   0   \n",
       "Deceased     69646    49    4276     8     349     741    68    337     2   0   \n",
       "Recovered  3104505  2854  370163  3280   92718  126411  3105  19608  2202   0   \n",
       "\n",
       "           ...     PB     RJ    SK      TN      TG     TR      UP     UT  \\\n",
       "Status     ...                                                             \n",
       "Confirmed  ...  60013  87797  1856  451827  135374  13833  253175  23011   \n",
       "Deceased   ...   1739   1108     5    7687     866    129    3762    312   \n",
       "Recovered  ...  42543  71899  1322  392507  102024   8212  190818  15447   \n",
       "\n",
       "               WB  UN  \n",
       "Status                 \n",
       "Confirmed  174659   0  \n",
       "Deceased     3452   0  \n",
       "Recovered  147553   0  \n",
       "\n",
       "[3 rows x 39 columns]"
      ]
     },
     "execution_count": 6,
     "metadata": {},
     "output_type": "execute_result"
    }
   ],
   "source": [
    "#hide\n",
    "df_today"
   ]
  },
  {
   "cell_type": "code",
   "execution_count": 7,
   "metadata": {
    "execution": {
     "iopub.execute_input": "2020-09-04T19:12:44.785278Z",
     "iopub.status.busy": "2020-09-04T19:12:44.784694Z",
     "iopub.status.idle": "2020-09-04T19:12:44.787508Z",
     "shell.execute_reply": "2020-09-04T19:12:44.788002Z"
    },
    "papermill": {
     "duration": 0.032108,
     "end_time": "2020-09-04T19:12:44.788145",
     "exception": false,
     "start_time": "2020-09-04T19:12:44.756037",
     "status": "completed"
    },
    "tags": []
   },
   "outputs": [
    {
     "data": {
      "text/html": [
       "<div>\n",
       "<style scoped>\n",
       "    .dataframe tbody tr th:only-of-type {\n",
       "        vertical-align: middle;\n",
       "    }\n",
       "\n",
       "    .dataframe tbody tr th {\n",
       "        vertical-align: top;\n",
       "    }\n",
       "\n",
       "    .dataframe thead th {\n",
       "        text-align: right;\n",
       "    }\n",
       "</style>\n",
       "<table border=\"1\" class=\"dataframe\">\n",
       "  <thead>\n",
       "    <tr style=\"text-align: right;\">\n",
       "      <th></th>\n",
       "      <th>TT</th>\n",
       "      <th>AN</th>\n",
       "      <th>AP</th>\n",
       "      <th>AR</th>\n",
       "      <th>AS</th>\n",
       "      <th>BR</th>\n",
       "      <th>CH</th>\n",
       "      <th>CT</th>\n",
       "      <th>DN</th>\n",
       "      <th>DD</th>\n",
       "      <th>...</th>\n",
       "      <th>PB</th>\n",
       "      <th>RJ</th>\n",
       "      <th>SK</th>\n",
       "      <th>TN</th>\n",
       "      <th>TG</th>\n",
       "      <th>TR</th>\n",
       "      <th>UP</th>\n",
       "      <th>UT</th>\n",
       "      <th>WB</th>\n",
       "      <th>UN</th>\n",
       "    </tr>\n",
       "    <tr>\n",
       "      <th>Status</th>\n",
       "      <th></th>\n",
       "      <th></th>\n",
       "      <th></th>\n",
       "      <th></th>\n",
       "      <th></th>\n",
       "      <th></th>\n",
       "      <th></th>\n",
       "      <th></th>\n",
       "      <th></th>\n",
       "      <th></th>\n",
       "      <th></th>\n",
       "      <th></th>\n",
       "      <th></th>\n",
       "      <th></th>\n",
       "      <th></th>\n",
       "      <th></th>\n",
       "      <th></th>\n",
       "      <th></th>\n",
       "      <th></th>\n",
       "      <th></th>\n",
       "      <th></th>\n",
       "    </tr>\n",
       "  </thead>\n",
       "  <tbody>\n",
       "    <tr>\n",
       "      <th>Confirmed</th>\n",
       "      <td>3932496</td>\n",
       "      <td>3219</td>\n",
       "      <td>465730</td>\n",
       "      <td>4574</td>\n",
       "      <td>118232</td>\n",
       "      <td>142156</td>\n",
       "      <td>5065</td>\n",
       "      <td>37967</td>\n",
       "      <td>2461</td>\n",
       "      <td>0</td>\n",
       "      <td>...</td>\n",
       "      <td>58515</td>\n",
       "      <td>86227</td>\n",
       "      <td>1751</td>\n",
       "      <td>445851</td>\n",
       "      <td>132896</td>\n",
       "      <td>13309</td>\n",
       "      <td>247101</td>\n",
       "      <td>22180</td>\n",
       "      <td>171681</td>\n",
       "      <td>0</td>\n",
       "    </tr>\n",
       "    <tr>\n",
       "      <th>Deceased</th>\n",
       "      <td>68580</td>\n",
       "      <td>48</td>\n",
       "      <td>4200</td>\n",
       "      <td>8</td>\n",
       "      <td>334</td>\n",
       "      <td>728</td>\n",
       "      <td>63</td>\n",
       "      <td>315</td>\n",
       "      <td>2</td>\n",
       "      <td>0</td>\n",
       "      <td>...</td>\n",
       "      <td>1690</td>\n",
       "      <td>1095</td>\n",
       "      <td>5</td>\n",
       "      <td>7608</td>\n",
       "      <td>856</td>\n",
       "      <td>126</td>\n",
       "      <td>3691</td>\n",
       "      <td>300</td>\n",
       "      <td>3394</td>\n",
       "      <td>0</td>\n",
       "    </tr>\n",
       "    <tr>\n",
       "      <th>Recovered</th>\n",
       "      <td>3034880</td>\n",
       "      <td>2814</td>\n",
       "      <td>357829</td>\n",
       "      <td>3167</td>\n",
       "      <td>90698</td>\n",
       "      <td>124976</td>\n",
       "      <td>2883</td>\n",
       "      <td>18950</td>\n",
       "      <td>2159</td>\n",
       "      <td>0</td>\n",
       "      <td>...</td>\n",
       "      <td>41271</td>\n",
       "      <td>71220</td>\n",
       "      <td>1305</td>\n",
       "      <td>386173</td>\n",
       "      <td>100013</td>\n",
       "      <td>8033</td>\n",
       "      <td>185812</td>\n",
       "      <td>14945</td>\n",
       "      <td>144248</td>\n",
       "      <td>0</td>\n",
       "    </tr>\n",
       "  </tbody>\n",
       "</table>\n",
       "<p>3 rows × 39 columns</p>\n",
       "</div>"
      ],
      "text/plain": [
       "                TT    AN      AP    AR      AS      BR    CH     CT    DN  DD  \\\n",
       "Status                                                                          \n",
       "Confirmed  3932496  3219  465730  4574  118232  142156  5065  37967  2461   0   \n",
       "Deceased     68580    48    4200     8     334     728    63    315     2   0   \n",
       "Recovered  3034880  2814  357829  3167   90698  124976  2883  18950  2159   0   \n",
       "\n",
       "           ...     PB     RJ    SK      TN      TG     TR      UP     UT  \\\n",
       "Status     ...                                                             \n",
       "Confirmed  ...  58515  86227  1751  445851  132896  13309  247101  22180   \n",
       "Deceased   ...   1690   1095     5    7608     856    126    3691    300   \n",
       "Recovered  ...  41271  71220  1305  386173  100013   8033  185812  14945   \n",
       "\n",
       "               WB  UN  \n",
       "Status                 \n",
       "Confirmed  171681   0  \n",
       "Deceased     3394   0  \n",
       "Recovered  144248   0  \n",
       "\n",
       "[3 rows x 39 columns]"
      ]
     },
     "execution_count": 7,
     "metadata": {},
     "output_type": "execute_result"
    }
   ],
   "source": [
    "#hide\n",
    "df_yday.head()"
   ]
  },
  {
   "cell_type": "code",
   "execution_count": 8,
   "metadata": {
    "execution": {
     "iopub.execute_input": "2020-09-04T19:12:44.825096Z",
     "iopub.status.busy": "2020-09-04T19:12:44.824513Z",
     "iopub.status.idle": "2020-09-04T19:12:44.827712Z",
     "shell.execute_reply": "2020-09-04T19:12:44.827217Z"
    },
    "papermill": {
     "duration": 0.025099,
     "end_time": "2020-09-04T19:12:44.827834",
     "exception": false,
     "start_time": "2020-09-04T19:12:44.802735",
     "status": "completed"
    },
    "tags": []
   },
   "outputs": [
    {
     "data": {
      "text/plain": [
       "{'updated': '04-Sep-20',\n",
       " 'since': '03-Sep-20',\n",
       " 'Cases': 4019555,\n",
       " 'Deaths': 69646,\n",
       " 'Recovered': 3104505,\n",
       " 'PCases': 3932496,\n",
       " 'PDeaths': 68580,\n",
       " 'PRecovered': 3034880,\n",
       " 'Cases (+)': 87059,\n",
       " 'Deaths (+)': 1066,\n",
       " 'Recovered (+)': 69625}"
      ]
     },
     "execution_count": 8,
     "metadata": {},
     "output_type": "execute_result"
    }
   ],
   "source": [
    "#hide\n",
    "summary = {\n",
    "    'updated' : dt_today,\n",
    "    'since' : dt_yday,\n",
    "    'Cases' : df_today['TT'][0],\n",
    "    'Deaths' : df_today['TT'][1],\n",
    "    'Recovered' : df_today['TT'][2],\n",
    "    'PCases' : df_yday['TT'][0],\n",
    "    'PDeaths' : df_yday['TT'][1],\n",
    "    'PRecovered': df_yday['TT'][2],\n",
    "    'Cases (+)' : df_today['TT'][0] - df_yday['TT'][0],\n",
    "    'Deaths (+)' : df_today['TT'][1] - df_yday['TT'][1],\n",
    "    'Recovered (+)': df_today['TT'][2] - df_yday['TT'][2]\n",
    "}\n",
    "\n",
    "summary"
   ]
  },
  {
   "cell_type": "code",
   "execution_count": 9,
   "metadata": {
    "execution": {
     "iopub.execute_input": "2020-09-04T19:12:44.862956Z",
     "iopub.status.busy": "2020-09-04T19:12:44.862149Z",
     "iopub.status.idle": "2020-09-04T19:12:44.863561Z",
     "shell.execute_reply": "2020-09-04T19:12:44.864018Z"
    },
    "papermill": {
     "duration": 0.021822,
     "end_time": "2020-09-04T19:12:44.864155",
     "exception": false,
     "start_time": "2020-09-04T19:12:44.842333",
     "status": "completed"
    },
    "tags": []
   },
   "outputs": [],
   "source": [
    "#hide\n",
    "overview = '''\n",
    "<!-- #######  HTML!! #########-->\n",
    "<h1 style=\"color: #5e9ca0; text-align: center;\">India</h1>\n",
    "<p style=\"text-align: center;\">Last update: <strong>{update}</strong></p>\n",
    "<p style=\"text-align: center;\">Confirmed cases:</p>\n",
    "<p style=\"text-align: center;font-size:24px;\">{cases} (<span style=\"color: #ff0000;\">+{new}</span>)</p>\n",
    "<p style=\"text-align: center;\">Confirmed deaths:</p>\n",
    "<p style=\"text-align: center;font-size:24px;\">{deaths} (<span style=\"color: #ff0000;\">+{dnew}</span>)</p>\n",
    "<p style=\"text-align: center;\">Recovered cases:</p>\n",
    "<p style=\"text-align: center;font-size:24px;\">{recovered} (<span style=\"color: #00ff00;\">+{rnew}</span>)</p>\n",
    "'''"
   ]
  },
  {
   "cell_type": "code",
   "execution_count": 10,
   "metadata": {
    "execution": {
     "iopub.execute_input": "2020-09-04T19:12:44.899521Z",
     "iopub.status.busy": "2020-09-04T19:12:44.898940Z",
     "iopub.status.idle": "2020-09-04T19:12:44.901986Z",
     "shell.execute_reply": "2020-09-04T19:12:44.901494Z"
    },
    "papermill": {
     "duration": 0.023555,
     "end_time": "2020-09-04T19:12:44.902109",
     "exception": false,
     "start_time": "2020-09-04T19:12:44.878554",
     "status": "completed"
    },
    "tags": []
   },
   "outputs": [
    {
     "data": {
      "text/html": [
       "\n",
       "<!-- #######  HTML!! #########-->\n",
       "<h1 style=\"color: #5e9ca0; text-align: center;\">India</h1>\n",
       "<p style=\"text-align: center;\">Last update: <strong>04-Sep-20</strong></p>\n",
       "<p style=\"text-align: center;\">Confirmed cases:</p>\n",
       "<p style=\"text-align: center;font-size:24px;\">4019555 (<span style=\"color: #ff0000;\">+87059</span>)</p>\n",
       "<p style=\"text-align: center;\">Confirmed deaths:</p>\n",
       "<p style=\"text-align: center;font-size:24px;\">69646 (<span style=\"color: #ff0000;\">+1066</span>)</p>\n",
       "<p style=\"text-align: center;\">Recovered cases:</p>\n",
       "<p style=\"text-align: center;font-size:24px;\">3104505 (<span style=\"color: #00ff00;\">+69625</span>)</p>\n"
      ],
      "text/plain": [
       "<IPython.core.display.HTML object>"
      ]
     },
     "metadata": {},
     "output_type": "display_data"
    }
   ],
   "source": [
    "#hide_input\n",
    "# Fill the above HTML with the information from the summary dictionary\n",
    "\n",
    "update = summary['updated']\n",
    "cases = summary['Cases']\n",
    "new = summary['Cases (+)']\n",
    "deaths = summary['Deaths']\n",
    "dnew = summary['Deaths (+)']\n",
    "recovered = summary['Recovered']\n",
    "rnew = summary['Recovered (+)']\n",
    "\n",
    "html = HTML(overview.format(update=update, cases=cases,new=new,deaths=deaths,dnew=dnew, recovered=recovered, rnew=rnew))\n",
    "\n",
    "display(html)"
   ]
  },
  {
   "cell_type": "code",
   "execution_count": 11,
   "metadata": {
    "execution": {
     "iopub.execute_input": "2020-09-04T19:12:44.938247Z",
     "iopub.status.busy": "2020-09-04T19:12:44.937649Z",
     "iopub.status.idle": "2020-09-04T19:12:44.944316Z",
     "shell.execute_reply": "2020-09-04T19:12:44.943821Z"
    },
    "papermill": {
     "duration": 0.02744,
     "end_time": "2020-09-04T19:12:44.944437",
     "exception": false,
     "start_time": "2020-09-04T19:12:44.916997",
     "status": "completed"
    },
    "tags": []
   },
   "outputs": [],
   "source": [
    "#hide\n",
    "df_cases = df[df['Status'] == 'Confirmed'].copy()\n",
    "df_cases.drop(columns = ['Status'], inplace=True)\n",
    "df_deaths = df[df['Status'] == 'Deceased'].copy()\n",
    "df_deaths.drop(columns = ['Status'], inplace=True)\n",
    "df_recovered = df[df['Status'] == 'Recovered'].copy()\n",
    "df_recovered.drop(columns = ['Status'], inplace=True)"
   ]
  },
  {
   "cell_type": "markdown",
   "metadata": {
    "papermill": {
     "duration": 0.014789,
     "end_time": "2020-09-04T19:12:44.974109",
     "exception": false,
     "start_time": "2020-09-04T19:12:44.959320",
     "status": "completed"
    },
    "tags": []
   },
   "source": [
    "Plot for India:"
   ]
  },
  {
   "cell_type": "code",
   "execution_count": 12,
   "metadata": {
    "execution": {
     "iopub.execute_input": "2020-09-04T19:12:45.015780Z",
     "iopub.status.busy": "2020-09-04T19:12:45.015184Z",
     "iopub.status.idle": "2020-09-04T19:12:45.274139Z",
     "shell.execute_reply": "2020-09-04T19:12:45.275100Z"
    },
    "papermill": {
     "duration": 0.286112,
     "end_time": "2020-09-04T19:12:45.275314",
     "exception": false,
     "start_time": "2020-09-04T19:12:44.989202",
     "status": "completed"
    },
    "tags": []
   },
   "outputs": [
    {
     "data": {
      "image/png": "[encoded data removed]",
      "text/plain": [
       "<Figure size 1296x432 with 1 Axes>"
      ]
     },
     "metadata": {
      "needs_background": "light"
     },
     "output_type": "display_data"
    }
   ],
   "source": [
    "#hide_input\n",
    "plt.figure(figsize = (18,6))\n",
    "plt.plot(df_cases['Date'], df_cases['TT'],'.-', alpha=0.7, color='b', label='Confirmed cases')\n",
    "plt.plot(df_recovered['Date'], df_recovered['TT'],'.-', alpha=0.7, color='g', label='Recovered')\n",
    "plt.plot(df_deaths['Date'], df_deaths['TT'],'.-', alpha=0.7, color='r', label='Deceased')\n",
    "plt.legend()\n",
    "plt.title(\"Cases per day in India\")\n",
    "plt.xticks(ticks=' ')\n",
    "plt.xlabel(f'{df_cases.iloc[0][0]} to {df_cases.iloc[-1][0]}')\n",
    "plt.ylabel('No. of cases');"
   ]
  },
  {
   "cell_type": "markdown",
   "metadata": {
    "papermill": {
     "duration": 0.018459,
     "end_time": "2020-09-04T19:12:45.311446",
     "exception": false,
     "start_time": "2020-09-04T19:12:45.292987",
     "status": "completed"
    },
    "tags": []
   },
   "source": [
    "Plots for the states with highest number of cases:"
   ]
  },
  {
   "cell_type": "code",
   "execution_count": 13,
   "metadata": {
    "execution": {
     "iopub.execute_input": "2020-09-04T19:12:45.355919Z",
     "iopub.status.busy": "2020-09-04T19:12:45.355330Z",
     "iopub.status.idle": "2020-09-04T19:12:45.977278Z",
     "shell.execute_reply": "2020-09-04T19:12:45.977726Z"
    },
    "papermill": {
     "duration": 0.648995,
     "end_time": "2020-09-04T19:12:45.977929",
     "exception": false,
     "start_time": "2020-09-04T19:12:45.328934",
     "status": "completed"
    },
    "tags": []
   },
   "outputs": [
    {
     "data": {
      "image/png": "[encoded data removed]",
      "text/plain": [
       "<Figure size 1512x432 with 3 Axes>"
      ]
     },
     "metadata": {
      "needs_background": "light"
     },
     "output_type": "display_data"
    }
   ],
   "source": [
    "#hide_input\n",
    "top_3 = sorted(df_cases.sum().values[1:], reverse=True)[1:4]\n",
    "top3_states=[]\n",
    "for i in top_3:\n",
    "    top3_states.append(df_cases.sum()[df_cases.sum() == i].index)\n",
    "\n",
    "\n",
    "fig, ax = plt.subplots(1,3,figsize = (21,6))\n",
    "for i in range(3):\n",
    "    state = top3_states[i].values[0]\n",
    "    ax[i].plot(df_cases['Date'], df_cases[state],'.-', color='b', alpha=0.7)\n",
    "    ax[i].plot(df_deaths['Date'], df_deaths[state],'.-', color='r', alpha=0.7)\n",
    "    ax[i].plot(df_recovered['Date'], df_recovered[state],'.-', color='g', alpha=0.7)\n",
    "    \n",
    "    ax[i].set_title(f\"Cases in {state}\")\n",
    "    ax[i].set_xticks(ticks=' ')\n",
    "    ax[i].set_xlabel(f'{df_cases.iloc[0][0]} to {df_cases.iloc[-1][0]}')\n",
    "    ax[i].set_ylabel('No. of cases');"
   ]
  },
  {
   "cell_type": "code",
   "execution_count": null,
   "metadata": {
    "papermill": {
     "duration": 0.027778,
     "end_time": "2020-09-04T19:12:46.026416",
     "exception": false,
     "start_time": "2020-09-04T19:12:45.998638",
     "status": "completed"
    },
    "tags": []
   },
   "outputs": [],
   "source": []
  },
  {
   "cell_type": "code",
   "execution_count": null,
   "metadata": {
    "papermill": {
     "duration": 0.370259,
     "end_time": "2020-09-04T19:12:46.417261",
     "exception": false,
     "start_time": "2020-09-04T19:12:46.047002",
     "status": "completed"
    },
    "tags": []
   },
   "outputs": [],
   "source": []
  },
  {
   "cell_type": "code",
   "execution_count": null,
   "metadata": {
    "papermill": {
     "duration": 0.020662,
     "end_time": "2020-09-04T19:12:46.461006",
     "exception": false,
     "start_time": "2020-09-04T19:12:46.440344",
     "status": "completed"
    },
    "tags": []
   },
   "outputs": [],
   "source": []
  }
 ],
 "metadata": {
  "kernelspec": {
   "display_name": "Python 3",
   "language": "python",
   "name": "python3"
  },
  "language_info": {
   "codemirror_mode": {
    "name": "ipython",
    "version": 3
   },
   "file_extension": ".py",
   "mimetype": "text/x-python",
   "name": "python",
   "nbconvert_exporter": "python",
   "pygments_lexer": "ipython3",
   "version": "3.6.12"
  },
  "papermill": {
   "duration": 4.186381,
   "end_time": "2020-09-04T19:12:46.889939",
   "environment_variables": {},
   "exception": null,
   "input_path": "2020-08-09-DailyUpdate.ipynb",
   "output_path": "2020-08-09-DailyUpdate.ipynb",
   "parameters": {},
   "start_time": "2020-09-04T19:12:42.703558",
   "version": "2.1.2"
  }
 },
 "nbformat": 4,
 "nbformat_minor": 4
}