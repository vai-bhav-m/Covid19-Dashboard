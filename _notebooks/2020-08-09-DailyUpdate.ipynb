{
 "cells": [
  {
   "cell_type": "markdown",
   "metadata": {
    "papermill": {
     "duration": 0.017113,
     "end_time": "2020-09-12T19:11:39.059672",
     "exception": false,
     "start_time": "2020-09-12T19:11:39.042559",
     "status": "completed"
    },
    "tags": []
   },
   "source": [
    "# COVID-19 India Daily updates\n",
    "> Tracking coronavirus total cases, deaths and new cases in India on a daily basis\n",
    "\n",
    "- author: Vaibhav Mahapatra"
   ]
  },
  {
   "cell_type": "code",
   "execution_count": 1,
   "metadata": {
    "execution": {
     "iopub.execute_input": "2020-09-12T19:11:39.093606Z",
     "iopub.status.busy": "2020-09-12T19:11:39.092916Z",
     "iopub.status.idle": "2020-09-12T19:11:39.714394Z",
     "shell.execute_reply": "2020-09-12T19:11:39.713754Z"
    },
    "papermill": {
     "duration": 0.641111,
     "end_time": "2020-09-12T19:11:39.714572",
     "exception": false,
     "start_time": "2020-09-12T19:11:39.073461",
     "status": "completed"
    },
    "tags": []
   },
   "outputs": [],
   "source": [
    "#hide\n",
    "\n",
    "## Import essential packages below\n",
    "\n",
    "import pandas as pd\n",
    "import numpy as np\n",
    "import requests\n",
    "import json\n",
    "import matplotlib.pyplot as plt\n",
    "import matplotlib.dates as mdates\n",
    "import matplotlib as mpl\n",
    "from IPython.core.display import display,HTML\n",
    "%matplotlib inline"
   ]
  },
  {
   "cell_type": "code",
   "execution_count": 2,
   "metadata": {
    "execution": {
     "iopub.execute_input": "2020-09-12T19:11:39.746605Z",
     "iopub.status.busy": "2020-09-12T19:11:39.745902Z",
     "iopub.status.idle": "2020-09-12T19:11:39.893013Z",
     "shell.execute_reply": "2020-09-12T19:11:39.893559Z"
    },
    "papermill": {
     "duration": 0.165823,
     "end_time": "2020-09-12T19:11:39.893733",
     "exception": false,
     "start_time": "2020-09-12T19:11:39.727910",
     "status": "completed"
    },
    "tags": []
   },
   "outputs": [
    {
     "data": {
      "text/plain": [
       "(549, 41)"
      ]
     },
     "execution_count": 2,
     "metadata": {},
     "output_type": "execute_result"
    }
   ],
   "source": [
    "#hide\n",
    "url = 'https://api.covid19india.org/csv/latest/state_wise_daily.csv'\n",
    "df = pd.read_csv(url)\n",
    "df.shape"
   ]
  },
  {
   "cell_type": "code",
   "execution_count": 3,
   "metadata": {
    "execution": {
     "iopub.execute_input": "2020-09-12T19:11:39.974206Z",
     "iopub.status.busy": "2020-09-12T19:11:39.972580Z",
     "iopub.status.idle": "2020-09-12T19:11:39.983549Z",
     "shell.execute_reply": "2020-09-12T19:11:39.984095Z"
    },
    "papermill": {
     "duration": 0.076903,
     "end_time": "2020-09-12T19:11:39.984271",
     "exception": false,
     "start_time": "2020-09-12T19:11:39.907368",
     "status": "completed"
    },
    "tags": []
   },
   "outputs": [
    {
     "data": {
      "text/html": [
       "<div>\n",
       "<style scoped>\n",
       "    .dataframe tbody tr th:only-of-type {\n",
       "        vertical-align: middle;\n",
       "    }\n",
       "\n",
       "    .dataframe tbody tr th {\n",
       "        vertical-align: top;\n",
       "    }\n",
       "\n",
       "    .dataframe thead th {\n",
       "        text-align: right;\n",
       "    }\n",
       "</style>\n",
       "<table border=\"1\" class=\"dataframe\">\n",
       "  <thead>\n",
       "    <tr style=\"text-align: right;\">\n",
       "      <th></th>\n",
       "      <th>Date</th>\n",
       "      <th>Status</th>\n",
       "      <th>TT</th>\n",
       "      <th>AN</th>\n",
       "      <th>AP</th>\n",
       "      <th>AR</th>\n",
       "      <th>AS</th>\n",
       "      <th>BR</th>\n",
       "      <th>CH</th>\n",
       "      <th>CT</th>\n",
       "      <th>...</th>\n",
       "      <th>PB</th>\n",
       "      <th>RJ</th>\n",
       "      <th>SK</th>\n",
       "      <th>TN</th>\n",
       "      <th>TG</th>\n",
       "      <th>TR</th>\n",
       "      <th>UP</th>\n",
       "      <th>UT</th>\n",
       "      <th>WB</th>\n",
       "      <th>UN</th>\n",
       "    </tr>\n",
       "  </thead>\n",
       "  <tbody>\n",
       "    <tr>\n",
       "      <th>543</th>\n",
       "      <td>11-Sep-20</td>\n",
       "      <td>Confirmed</td>\n",
       "      <td>97397</td>\n",
       "      <td>29</td>\n",
       "      <td>9999</td>\n",
       "      <td>153</td>\n",
       "      <td>2534</td>\n",
       "      <td>1710</td>\n",
       "      <td>157</td>\n",
       "      <td>2963</td>\n",
       "      <td>...</td>\n",
       "      <td>2473</td>\n",
       "      <td>1660</td>\n",
       "      <td>17</td>\n",
       "      <td>5519</td>\n",
       "      <td>2426</td>\n",
       "      <td>559</td>\n",
       "      <td>7016</td>\n",
       "      <td>995</td>\n",
       "      <td>3157</td>\n",
       "      <td>0</td>\n",
       "    </tr>\n",
       "    <tr>\n",
       "      <th>544</th>\n",
       "      <td>11-Sep-20</td>\n",
       "      <td>Recovered</td>\n",
       "      <td>81246</td>\n",
       "      <td>36</td>\n",
       "      <td>11069</td>\n",
       "      <td>121</td>\n",
       "      <td>2628</td>\n",
       "      <td>2187</td>\n",
       "      <td>269</td>\n",
       "      <td>1268</td>\n",
       "      <td>...</td>\n",
       "      <td>1402</td>\n",
       "      <td>1488</td>\n",
       "      <td>16</td>\n",
       "      <td>6006</td>\n",
       "      <td>2324</td>\n",
       "      <td>262</td>\n",
       "      <td>5936</td>\n",
       "      <td>645</td>\n",
       "      <td>3016</td>\n",
       "      <td>0</td>\n",
       "    </tr>\n",
       "    <tr>\n",
       "      <th>545</th>\n",
       "      <td>11-Sep-20</td>\n",
       "      <td>Deceased</td>\n",
       "      <td>1200</td>\n",
       "      <td>0</td>\n",
       "      <td>77</td>\n",
       "      <td>1</td>\n",
       "      <td>16</td>\n",
       "      <td>12</td>\n",
       "      <td>3</td>\n",
       "      <td>25</td>\n",
       "      <td>...</td>\n",
       "      <td>63</td>\n",
       "      <td>15</td>\n",
       "      <td>4</td>\n",
       "      <td>77</td>\n",
       "      <td>13</td>\n",
       "      <td>5</td>\n",
       "      <td>76</td>\n",
       "      <td>11</td>\n",
       "      <td>57</td>\n",
       "      <td>0</td>\n",
       "    </tr>\n",
       "    <tr>\n",
       "      <th>546</th>\n",
       "      <td>12-Sep-20</td>\n",
       "      <td>Confirmed</td>\n",
       "      <td>94409</td>\n",
       "      <td>27</td>\n",
       "      <td>9901</td>\n",
       "      <td>136</td>\n",
       "      <td>2132</td>\n",
       "      <td>1421</td>\n",
       "      <td>250</td>\n",
       "      <td>3120</td>\n",
       "      <td>...</td>\n",
       "      <td>2441</td>\n",
       "      <td>1669</td>\n",
       "      <td>29</td>\n",
       "      <td>5495</td>\n",
       "      <td>2278</td>\n",
       "      <td>470</td>\n",
       "      <td>6786</td>\n",
       "      <td>1115</td>\n",
       "      <td>3161</td>\n",
       "      <td>0</td>\n",
       "    </tr>\n",
       "    <tr>\n",
       "      <th>547</th>\n",
       "      <td>12-Sep-20</td>\n",
       "      <td>Recovered</td>\n",
       "      <td>77338</td>\n",
       "      <td>45</td>\n",
       "      <td>10292</td>\n",
       "      <td>127</td>\n",
       "      <td>2553</td>\n",
       "      <td>1700</td>\n",
       "      <td>264</td>\n",
       "      <td>844</td>\n",
       "      <td>...</td>\n",
       "      <td>2077</td>\n",
       "      <td>932</td>\n",
       "      <td>17</td>\n",
       "      <td>6227</td>\n",
       "      <td>2458</td>\n",
       "      <td>479</td>\n",
       "      <td>6085</td>\n",
       "      <td>603</td>\n",
       "      <td>3042</td>\n",
       "      <td>0</td>\n",
       "    </tr>\n",
       "    <tr>\n",
       "      <th>548</th>\n",
       "      <td>12-Sep-20</td>\n",
       "      <td>Deceased</td>\n",
       "      <td>1101</td>\n",
       "      <td>0</td>\n",
       "      <td>67</td>\n",
       "      <td>0</td>\n",
       "      <td>23</td>\n",
       "      <td>11</td>\n",
       "      <td>6</td>\n",
       "      <td>21</td>\n",
       "      <td>...</td>\n",
       "      <td>76</td>\n",
       "      <td>14</td>\n",
       "      <td>2</td>\n",
       "      <td>76</td>\n",
       "      <td>10</td>\n",
       "      <td>10</td>\n",
       "      <td>67</td>\n",
       "      <td>14</td>\n",
       "      <td>59</td>\n",
       "      <td>0</td>\n",
       "    </tr>\n",
       "  </tbody>\n",
       "</table>\n",
       "<p>6 rows × 41 columns</p>\n",
       "</div>"
      ],
      "text/plain": [
       "          Date     Status     TT  AN     AP   AR    AS    BR   CH    CT  ...  \\\n",
       "543  11-Sep-20  Confirmed  97397  29   9999  153  2534  1710  157  2963  ...   \n",
       "544  11-Sep-20  Recovered  81246  36  11069  121  2628  2187  269  1268  ...   \n",
       "545  11-Sep-20   Deceased   1200   0     77    1    16    12    3    25  ...   \n",
       "546  12-Sep-20  Confirmed  94409  27   9901  136  2132  1421  250  3120  ...   \n",
       "547  12-Sep-20  Recovered  77338  45  10292  127  2553  1700  264   844  ...   \n",
       "548  12-Sep-20   Deceased   1101   0     67    0    23    11    6    21  ...   \n",
       "\n",
       "       PB    RJ  SK    TN    TG   TR    UP    UT    WB  UN  \n",
       "543  2473  1660  17  5519  2426  559  7016   995  3157   0  \n",
       "544  1402  1488  16  6006  2324  262  5936   645  3016   0  \n",
       "545    63    15   4    77    13    5    76    11    57   0  \n",
       "546  2441  1669  29  5495  2278  470  6786  1115  3161   0  \n",
       "547  2077   932  17  6227  2458  479  6085   603  3042   0  \n",
       "548    76    14   2    76    10   10    67    14    59   0  \n",
       "\n",
       "[6 rows x 41 columns]"
      ]
     },
     "execution_count": 3,
     "metadata": {},
     "output_type": "execute_result"
    }
   ],
   "source": [
    "#hide\n",
    "df.tail(6)"
   ]
  },
  {
   "cell_type": "code",
   "execution_count": 4,
   "metadata": {
    "execution": {
     "iopub.execute_input": "2020-09-12T19:11:40.018418Z",
     "iopub.status.busy": "2020-09-12T19:11:40.017709Z",
     "iopub.status.idle": "2020-09-12T19:11:40.021266Z",
     "shell.execute_reply": "2020-09-12T19:11:40.020699Z"
    },
    "papermill": {
     "duration": 0.022463,
     "end_time": "2020-09-12T19:11:40.021404",
     "exception": false,
     "start_time": "2020-09-12T19:11:39.998941",
     "status": "completed"
    },
    "tags": []
   },
   "outputs": [
    {
     "data": {
      "text/plain": [
       "('12-Sep-20', '11-Sep-20')"
      ]
     },
     "execution_count": 4,
     "metadata": {},
     "output_type": "execute_result"
    }
   ],
   "source": [
    "#hide\n",
    "dt_today = df.iloc[-1][0]\n",
    "dt_yday = df.iloc[-4][0]\n",
    "dt_today, dt_yday"
   ]
  },
  {
   "cell_type": "code",
   "execution_count": 5,
   "metadata": {
    "execution": {
     "iopub.execute_input": "2020-09-12T19:11:40.055360Z",
     "iopub.status.busy": "2020-09-12T19:11:40.054702Z",
     "iopub.status.idle": "2020-09-12T19:11:40.068671Z",
     "shell.execute_reply": "2020-09-12T19:11:40.069311Z"
    },
    "papermill": {
     "duration": 0.033899,
     "end_time": "2020-09-12T19:11:40.069470",
     "exception": false,
     "start_time": "2020-09-12T19:11:40.035571",
     "status": "completed"
    },
    "tags": []
   },
   "outputs": [],
   "source": [
    "#hide\n",
    "df_today = df.groupby('Status').sum()\n",
    "df_yday = df.iloc[:-3][:].groupby('Status').sum()"
   ]
  },
  {
   "cell_type": "code",
   "execution_count": 6,
   "metadata": {
    "execution": {
     "iopub.execute_input": "2020-09-12T19:11:40.114837Z",
     "iopub.status.busy": "2020-09-12T19:11:40.114162Z",
     "iopub.status.idle": "2020-09-12T19:11:40.117172Z",
     "shell.execute_reply": "2020-09-12T19:11:40.117749Z"
    },
    "papermill": {
     "duration": 0.034262,
     "end_time": "2020-09-12T19:11:40.117905",
     "exception": false,
     "start_time": "2020-09-12T19:11:40.083643",
     "status": "completed"
    },
    "tags": []
   },
   "outputs": [
    {
     "data": {
      "text/html": [
       "<div>\n",
       "<style scoped>\n",
       "    .dataframe tbody tr th:only-of-type {\n",
       "        vertical-align: middle;\n",
       "    }\n",
       "\n",
       "    .dataframe tbody tr th {\n",
       "        vertical-align: top;\n",
       "    }\n",
       "\n",
       "    .dataframe thead th {\n",
       "        text-align: right;\n",
       "    }\n",
       "</style>\n",
       "<table border=\"1\" class=\"dataframe\">\n",
       "  <thead>\n",
       "    <tr style=\"text-align: right;\">\n",
       "      <th></th>\n",
       "      <th>TT</th>\n",
       "      <th>AN</th>\n",
       "      <th>AP</th>\n",
       "      <th>AR</th>\n",
       "      <th>AS</th>\n",
       "      <th>BR</th>\n",
       "      <th>CH</th>\n",
       "      <th>CT</th>\n",
       "      <th>DN</th>\n",
       "      <th>DD</th>\n",
       "      <th>...</th>\n",
       "      <th>PB</th>\n",
       "      <th>RJ</th>\n",
       "      <th>SK</th>\n",
       "      <th>TN</th>\n",
       "      <th>TG</th>\n",
       "      <th>TR</th>\n",
       "      <th>UP</th>\n",
       "      <th>UT</th>\n",
       "      <th>WB</th>\n",
       "      <th>UN</th>\n",
       "    </tr>\n",
       "    <tr>\n",
       "      <th>Status</th>\n",
       "      <th></th>\n",
       "      <th></th>\n",
       "      <th></th>\n",
       "      <th></th>\n",
       "      <th></th>\n",
       "      <th></th>\n",
       "      <th></th>\n",
       "      <th></th>\n",
       "      <th></th>\n",
       "      <th></th>\n",
       "      <th></th>\n",
       "      <th></th>\n",
       "      <th></th>\n",
       "      <th></th>\n",
       "      <th></th>\n",
       "      <th></th>\n",
       "      <th></th>\n",
       "      <th></th>\n",
       "      <th></th>\n",
       "      <th></th>\n",
       "      <th></th>\n",
       "    </tr>\n",
       "  </thead>\n",
       "  <tbody>\n",
       "    <tr>\n",
       "      <th>Confirmed</th>\n",
       "      <td>4750559</td>\n",
       "      <td>3517</td>\n",
       "      <td>557587</td>\n",
       "      <td>5961</td>\n",
       "      <td>140369</td>\n",
       "      <td>156866</td>\n",
       "      <td>7394</td>\n",
       "      <td>61763</td>\n",
       "      <td>2708</td>\n",
       "      <td>0</td>\n",
       "      <td>...</td>\n",
       "      <td>77057</td>\n",
       "      <td>100705</td>\n",
       "      <td>2068</td>\n",
       "      <td>497066</td>\n",
       "      <td>154370</td>\n",
       "      <td>18300</td>\n",
       "      <td>305831</td>\n",
       "      <td>30336</td>\n",
       "      <td>199493</td>\n",
       "      <td>0</td>\n",
       "    </tr>\n",
       "    <tr>\n",
       "      <th>Deceased</th>\n",
       "      <td>78004</td>\n",
       "      <td>51</td>\n",
       "      <td>4846</td>\n",
       "      <td>10</td>\n",
       "      <td>457</td>\n",
       "      <td>808</td>\n",
       "      <td>89</td>\n",
       "      <td>539</td>\n",
       "      <td>2</td>\n",
       "      <td>0</td>\n",
       "      <td>...</td>\n",
       "      <td>2288</td>\n",
       "      <td>1221</td>\n",
       "      <td>13</td>\n",
       "      <td>8307</td>\n",
       "      <td>950</td>\n",
       "      <td>182</td>\n",
       "      <td>4349</td>\n",
       "      <td>402</td>\n",
       "      <td>3887</td>\n",
       "      <td>0</td>\n",
       "    </tr>\n",
       "    <tr>\n",
       "      <th>Recovered</th>\n",
       "      <td>3697972</td>\n",
       "      <td>3193</td>\n",
       "      <td>457008</td>\n",
       "      <td>4253</td>\n",
       "      <td>110883</td>\n",
       "      <td>141158</td>\n",
       "      <td>4864</td>\n",
       "      <td>27967</td>\n",
       "      <td>2418</td>\n",
       "      <td>0</td>\n",
       "      <td>...</td>\n",
       "      <td>55385</td>\n",
       "      <td>82902</td>\n",
       "      <td>1504</td>\n",
       "      <td>441649</td>\n",
       "      <td>121925</td>\n",
       "      <td>10734</td>\n",
       "      <td>233527</td>\n",
       "      <td>20031</td>\n",
       "      <td>172085</td>\n",
       "      <td>0</td>\n",
       "    </tr>\n",
       "  </tbody>\n",
       "</table>\n",
       "<p>3 rows × 39 columns</p>\n",
       "</div>"
      ],
      "text/plain": [
       "                TT    AN      AP    AR      AS      BR    CH     CT    DN  DD  \\\n",
       "Status                                                                          \n",
       "Confirmed  4750559  3517  557587  5961  140369  156866  7394  61763  2708   0   \n",
       "Deceased     78004    51    4846    10     457     808    89    539     2   0   \n",
       "Recovered  3697972  3193  457008  4253  110883  141158  4864  27967  2418   0   \n",
       "\n",
       "           ...     PB      RJ    SK      TN      TG     TR      UP     UT  \\\n",
       "Status     ...                                                              \n",
       "Confirmed  ...  77057  100705  2068  497066  154370  18300  305831  30336   \n",
       "Deceased   ...   2288    1221    13    8307     950    182    4349    402   \n",
       "Recovered  ...  55385   82902  1504  441649  121925  10734  233527  20031   \n",
       "\n",
       "               WB  UN  \n",
       "Status                 \n",
       "Confirmed  199493   0  \n",
       "Deceased     3887   0  \n",
       "Recovered  172085   0  \n",
       "\n",
       "[3 rows x 39 columns]"
      ]
     },
     "execution_count": 6,
     "metadata": {},
     "output_type": "execute_result"
    }
   ],
   "source": [
    "#hide\n",
    "df_today"
   ]
  },
  {
   "cell_type": "code",
   "execution_count": 7,
   "metadata": {
    "execution": {
     "iopub.execute_input": "2020-09-12T19:11:40.164444Z",
     "iopub.status.busy": "2020-09-12T19:11:40.163781Z",
     "iopub.status.idle": "2020-09-12T19:11:40.172803Z",
     "shell.execute_reply": "2020-09-12T19:11:40.172235Z"
    },
    "papermill": {
     "duration": 0.040528,
     "end_time": "2020-09-12T19:11:40.172943",
     "exception": false,
     "start_time": "2020-09-12T19:11:40.132415",
     "status": "completed"
    },
    "tags": []
   },
   "outputs": [
    {
     "data": {
      "text/html": [
       "<div>\n",
       "<style scoped>\n",
       "    .dataframe tbody tr th:only-of-type {\n",
       "        vertical-align: middle;\n",
       "    }\n",
       "\n",
       "    .dataframe tbody tr th {\n",
       "        vertical-align: top;\n",
       "    }\n",
       "\n",
       "    .dataframe thead th {\n",
       "        text-align: right;\n",
       "    }\n",
       "</style>\n",
       "<table border=\"1\" class=\"dataframe\">\n",
       "  <thead>\n",
       "    <tr style=\"text-align: right;\">\n",
       "      <th></th>\n",
       "      <th>TT</th>\n",
       "      <th>AN</th>\n",
       "      <th>AP</th>\n",
       "      <th>AR</th>\n",
       "      <th>AS</th>\n",
       "      <th>BR</th>\n",
       "      <th>CH</th>\n",
       "      <th>CT</th>\n",
       "      <th>DN</th>\n",
       "      <th>DD</th>\n",
       "      <th>...</th>\n",
       "      <th>PB</th>\n",
       "      <th>RJ</th>\n",
       "      <th>SK</th>\n",
       "      <th>TN</th>\n",
       "      <th>TG</th>\n",
       "      <th>TR</th>\n",
       "      <th>UP</th>\n",
       "      <th>UT</th>\n",
       "      <th>WB</th>\n",
       "      <th>UN</th>\n",
       "    </tr>\n",
       "    <tr>\n",
       "      <th>Status</th>\n",
       "      <th></th>\n",
       "      <th></th>\n",
       "      <th></th>\n",
       "      <th></th>\n",
       "      <th></th>\n",
       "      <th></th>\n",
       "      <th></th>\n",
       "      <th></th>\n",
       "      <th></th>\n",
       "      <th></th>\n",
       "      <th></th>\n",
       "      <th></th>\n",
       "      <th></th>\n",
       "      <th></th>\n",
       "      <th></th>\n",
       "      <th></th>\n",
       "      <th></th>\n",
       "      <th></th>\n",
       "      <th></th>\n",
       "      <th></th>\n",
       "      <th></th>\n",
       "    </tr>\n",
       "  </thead>\n",
       "  <tbody>\n",
       "    <tr>\n",
       "      <th>Confirmed</th>\n",
       "      <td>4656150</td>\n",
       "      <td>3490</td>\n",
       "      <td>547686</td>\n",
       "      <td>5825</td>\n",
       "      <td>138237</td>\n",
       "      <td>155445</td>\n",
       "      <td>7144</td>\n",
       "      <td>58643</td>\n",
       "      <td>2684</td>\n",
       "      <td>0</td>\n",
       "      <td>...</td>\n",
       "      <td>74616</td>\n",
       "      <td>99036</td>\n",
       "      <td>2039</td>\n",
       "      <td>491571</td>\n",
       "      <td>152092</td>\n",
       "      <td>17830</td>\n",
       "      <td>299045</td>\n",
       "      <td>29221</td>\n",
       "      <td>196332</td>\n",
       "      <td>0</td>\n",
       "    </tr>\n",
       "    <tr>\n",
       "      <th>Deceased</th>\n",
       "      <td>76903</td>\n",
       "      <td>51</td>\n",
       "      <td>4779</td>\n",
       "      <td>10</td>\n",
       "      <td>434</td>\n",
       "      <td>797</td>\n",
       "      <td>83</td>\n",
       "      <td>518</td>\n",
       "      <td>2</td>\n",
       "      <td>0</td>\n",
       "      <td>...</td>\n",
       "      <td>2212</td>\n",
       "      <td>1207</td>\n",
       "      <td>11</td>\n",
       "      <td>8231</td>\n",
       "      <td>940</td>\n",
       "      <td>172</td>\n",
       "      <td>4282</td>\n",
       "      <td>388</td>\n",
       "      <td>3828</td>\n",
       "      <td>0</td>\n",
       "    </tr>\n",
       "    <tr>\n",
       "      <th>Recovered</th>\n",
       "      <td>3620634</td>\n",
       "      <td>3148</td>\n",
       "      <td>446716</td>\n",
       "      <td>4126</td>\n",
       "      <td>108330</td>\n",
       "      <td>139458</td>\n",
       "      <td>4600</td>\n",
       "      <td>27123</td>\n",
       "      <td>2390</td>\n",
       "      <td>0</td>\n",
       "      <td>...</td>\n",
       "      <td>53308</td>\n",
       "      <td>81970</td>\n",
       "      <td>1487</td>\n",
       "      <td>435422</td>\n",
       "      <td>119467</td>\n",
       "      <td>10255</td>\n",
       "      <td>227442</td>\n",
       "      <td>19428</td>\n",
       "      <td>169043</td>\n",
       "      <td>0</td>\n",
       "    </tr>\n",
       "  </tbody>\n",
       "</table>\n",
       "<p>3 rows × 39 columns</p>\n",
       "</div>"
      ],
      "text/plain": [
       "                TT    AN      AP    AR      AS      BR    CH     CT    DN  DD  \\\n",
       "Status                                                                          \n",
       "Confirmed  4656150  3490  547686  5825  138237  155445  7144  58643  2684   0   \n",
       "Deceased     76903    51    4779    10     434     797    83    518     2   0   \n",
       "Recovered  3620634  3148  446716  4126  108330  139458  4600  27123  2390   0   \n",
       "\n",
       "           ...     PB     RJ    SK      TN      TG     TR      UP     UT  \\\n",
       "Status     ...                                                             \n",
       "Confirmed  ...  74616  99036  2039  491571  152092  17830  299045  29221   \n",
       "Deceased   ...   2212   1207    11    8231     940    172    4282    388   \n",
       "Recovered  ...  53308  81970  1487  435422  119467  10255  227442  19428   \n",
       "\n",
       "               WB  UN  \n",
       "Status                 \n",
       "Confirmed  196332   0  \n",
       "Deceased     3828   0  \n",
       "Recovered  169043   0  \n",
       "\n",
       "[3 rows x 39 columns]"
      ]
     },
     "execution_count": 7,
     "metadata": {},
     "output_type": "execute_result"
    }
   ],
   "source": [
    "#hide\n",
    "df_yday.head()"
   ]
  },
  {
   "cell_type": "code",
   "execution_count": 8,
   "metadata": {
    "execution": {
     "iopub.execute_input": "2020-09-12T19:11:40.213970Z",
     "iopub.status.busy": "2020-09-12T19:11:40.213247Z",
     "iopub.status.idle": "2020-09-12T19:11:40.216790Z",
     "shell.execute_reply": "2020-09-12T19:11:40.215978Z"
    },
    "papermill": {
     "duration": 0.028171,
     "end_time": "2020-09-12T19:11:40.216937",
     "exception": false,
     "start_time": "2020-09-12T19:11:40.188766",
     "status": "completed"
    },
    "tags": []
   },
   "outputs": [
    {
     "data": {
      "text/plain": [
       "{'updated': '12-Sep-20',\n",
       " 'since': '11-Sep-20',\n",
       " 'Cases': 4750559,\n",
       " 'Deaths': 78004,\n",
       " 'Recovered': 3697972,\n",
       " 'PCases': 4656150,\n",
       " 'PDeaths': 76903,\n",
       " 'PRecovered': 3620634,\n",
       " 'Cases (+)': 94409,\n",
       " 'Deaths (+)': 1101,\n",
       " 'Recovered (+)': 77338}"
      ]
     },
     "execution_count": 8,
     "metadata": {},
     "output_type": "execute_result"
    }
   ],
   "source": [
    "#hide\n",
    "summary = {\n",
    "    'updated' : dt_today,\n",
    "    'since' : dt_yday,\n",
    "    'Cases' : df_today['TT'][0],\n",
    "    'Deaths' : df_today['TT'][1],\n",
    "    'Recovered' : df_today['TT'][2],\n",
    "    'PCases' : df_yday['TT'][0],\n",
    "    'PDeaths' : df_yday['TT'][1],\n",
    "    'PRecovered': df_yday['TT'][2],\n",
    "    'Cases (+)' : df_today['TT'][0] - df_yday['TT'][0],\n",
    "    'Deaths (+)' : df_today['TT'][1] - df_yday['TT'][1],\n",
    "    'Recovered (+)': df_today['TT'][2] - df_yday['TT'][2]\n",
    "}\n",
    "\n",
    "summary"
   ]
  },
  {
   "cell_type": "code",
   "execution_count": 9,
   "metadata": {
    "execution": {
     "iopub.execute_input": "2020-09-12T19:11:40.254492Z",
     "iopub.status.busy": "2020-09-12T19:11:40.253748Z",
     "iopub.status.idle": "2020-09-12T19:11:40.256188Z",
     "shell.execute_reply": "2020-09-12T19:11:40.255511Z"
    },
    "papermill": {
     "duration": 0.023689,
     "end_time": "2020-09-12T19:11:40.256338",
     "exception": false,
     "start_time": "2020-09-12T19:11:40.232649",
     "status": "completed"
    },
    "tags": []
   },
   "outputs": [],
   "source": [
    "#hide\n",
    "overview = '''\n",
    "<!-- #######  HTML!! #########-->\n",
    "<h1 style=\"color: #5e9ca0; text-align: center;\">India</h1>\n",
    "<p style=\"text-align: center;\">Last update: <strong>{update}</strong></p>\n",
    "<p style=\"text-align: center;\">Confirmed cases:</p>\n",
    "<p style=\"text-align: center;font-size:24px;\">{cases} (<span style=\"color: #ff0000;\">+{new}</span>)</p>\n",
    "<p style=\"text-align: center;\">Confirmed deaths:</p>\n",
    "<p style=\"text-align: center;font-size:24px;\">{deaths} (<span style=\"color: #ff0000;\">+{dnew}</span>)</p>\n",
    "<p style=\"text-align: center;\">Recovered cases:</p>\n",
    "<p style=\"text-align: center;font-size:24px;\">{recovered} (<span style=\"color: #00ff00;\">+{rnew}</span>)</p>\n",
    "'''"
   ]
  },
  {
   "cell_type": "code",
   "execution_count": 10,
   "metadata": {
    "execution": {
     "iopub.execute_input": "2020-09-12T19:11:40.296796Z",
     "iopub.status.busy": "2020-09-12T19:11:40.296118Z",
     "iopub.status.idle": "2020-09-12T19:11:40.299313Z",
     "shell.execute_reply": "2020-09-12T19:11:40.299833Z"
    },
    "papermill": {
     "duration": 0.026746,
     "end_time": "2020-09-12T19:11:40.299996",
     "exception": false,
     "start_time": "2020-09-12T19:11:40.273250",
     "status": "completed"
    },
    "tags": []
   },
   "outputs": [
    {
     "data": {
      "text/html": [
       "\n",
       "<!-- #######  HTML!! #########-->\n",
       "<h1 style=\"color: #5e9ca0; text-align: center;\">India</h1>\n",
       "<p style=\"text-align: center;\">Last update: <strong>12-Sep-20</strong></p>\n",
       "<p style=\"text-align: center;\">Confirmed cases:</p>\n",
       "<p style=\"text-align: center;font-size:24px;\">4750559 (<span style=\"color: #ff0000;\">+94409</span>)</p>\n",
       "<p style=\"text-align: center;\">Confirmed deaths:</p>\n",
       "<p style=\"text-align: center;font-size:24px;\">78004 (<span style=\"color: #ff0000;\">+1101</span>)</p>\n",
       "<p style=\"text-align: center;\">Recovered cases:</p>\n",
       "<p style=\"text-align: center;font-size:24px;\">3697972 (<span style=\"color: #00ff00;\">+77338</span>)</p>\n"
      ],
      "text/plain": [
       "<IPython.core.display.HTML object>"
      ]
     },
     "metadata": {},
     "output_type": "display_data"
    }
   ],
   "source": [
    "#hide_input\n",
    "# Fill the above HTML with the information from the summary dictionary\n",
    "\n",
    "update = summary['updated']\n",
    "cases = summary['Cases']\n",
    "new = summary['Cases (+)']\n",
    "deaths = summary['Deaths']\n",
    "dnew = summary['Deaths (+)']\n",
    "recovered = summary['Recovered']\n",
    "rnew = summary['Recovered (+)']\n",
    "\n",
    "html = HTML(overview.format(update=update, cases=cases,new=new,deaths=deaths,dnew=dnew, recovered=recovered, rnew=rnew))\n",
    "\n",
    "display(html)"
   ]
  },
  {
   "cell_type": "code",
   "execution_count": 11,
   "metadata": {
    "execution": {
     "iopub.execute_input": "2020-09-12T19:11:40.343418Z",
     "iopub.status.busy": "2020-09-12T19:11:40.342729Z",
     "iopub.status.idle": "2020-09-12T19:11:40.346859Z",
     "shell.execute_reply": "2020-09-12T19:11:40.346284Z"
    },
    "papermill": {
     "duration": 0.029939,
     "end_time": "2020-09-12T19:11:40.347001",
     "exception": false,
     "start_time": "2020-09-12T19:11:40.317062",
     "status": "completed"
    },
    "tags": []
   },
   "outputs": [],
   "source": [
    "#hide\n",
    "df_cases = df[df['Status'] == 'Confirmed'].copy()\n",
    "df_cases.drop(columns = ['Status'], inplace=True)\n",
    "df_deaths = df[df['Status'] == 'Deceased'].copy()\n",
    "df_deaths.drop(columns = ['Status'], inplace=True)\n",
    "df_recovered = df[df['Status'] == 'Recovered'].copy()\n",
    "df_recovered.drop(columns = ['Status'], inplace=True)"
   ]
  },
  {
   "cell_type": "markdown",
   "metadata": {
    "papermill": {
     "duration": 0.016055,
     "end_time": "2020-09-12T19:11:40.379548",
     "exception": false,
     "start_time": "2020-09-12T19:11:40.363493",
     "status": "completed"
    },
    "tags": []
   },
   "source": [
    "Plot for India:"
   ]
  },
  {
   "cell_type": "code",
   "execution_count": 12,
   "metadata": {
    "execution": {
     "iopub.execute_input": "2020-09-12T19:11:40.435688Z",
     "iopub.status.busy": "2020-09-12T19:11:40.434971Z",
     "iopub.status.idle": "2020-09-12T19:11:40.708648Z",
     "shell.execute_reply": "2020-09-12T19:11:40.709190Z"
    },
    "papermill": {
     "duration": 0.313738,
     "end_time": "2020-09-12T19:11:40.709364",
     "exception": false,
     "start_time": "2020-09-12T19:11:40.395626",
     "status": "completed"
    },
    "tags": []
   },
   "outputs": [
    {
     "data": {
      "image/png": "[encoded data removed]",
      "text/plain": [
       "<Figure size 1296x432 with 1 Axes>"
      ]
     },
     "metadata": {
      "needs_background": "light"
     },
     "output_type": "display_data"
    }
   ],
   "source": [
    "#hide_input\n",
    "plt.figure(figsize = (18,6))\n",
    "plt.plot(df_cases['Date'], df_cases['TT'],'.-', alpha=0.7, color='b', label='Confirmed cases')\n",
    "plt.plot(df_recovered['Date'], df_recovered['TT'],'.-', alpha=0.7, color='g', label='Recovered')\n",
    "plt.plot(df_deaths['Date'], df_deaths['TT'],'.-', alpha=0.7, color='r', label='Deceased')\n",
    "plt.legend()\n",
    "plt.title(\"Cases per day in India\")\n",
    "plt.xticks(ticks=' ')\n",
    "plt.xlabel(f'{df_cases.iloc[0][0]} to {df_cases.iloc[-1][0]}')\n",
    "plt.ylabel('No. of cases');"
   ]
  },
  {
   "cell_type": "markdown",
   "metadata": {
    "papermill": {
     "duration": 0.01787,
     "end_time": "2020-09-12T19:11:40.745176",
     "exception": false,
     "start_time": "2020-09-12T19:11:40.727306",
     "status": "completed"
    },
    "tags": []
   },
   "source": [
    "Plots for the states with highest number of cases:"
   ]
  },
  {
   "cell_type": "code",
   "execution_count": 13,
   "metadata": {
    "execution": {
     "iopub.execute_input": "2020-09-12T19:11:40.790500Z",
     "iopub.status.busy": "2020-09-12T19:11:40.789767Z",
     "iopub.status.idle": "2020-09-12T19:11:41.457137Z",
     "shell.execute_reply": "2020-09-12T19:11:41.457656Z"
    },
    "papermill": {
     "duration": 0.694955,
     "end_time": "2020-09-12T19:11:41.457830",
     "exception": false,
     "start_time": "2020-09-12T19:11:40.762875",
     "status": "completed"
    },
    "tags": []
   },
   "outputs": [
    {
     "data": {
      "image/png": "[encoded data removed]",
      "text/plain": [
       "<Figure size 1512x432 with 3 Axes>"
      ]
     },
     "metadata": {
      "needs_background": "light"
     },
     "output_type": "display_data"
    }
   ],
   "source": [
    "#hide_input\n",
    "top_3 = sorted(df_cases.sum().values[1:], reverse=True)[1:4]\n",
    "top3_states=[]\n",
    "for i in top_3:\n",
    "    top3_states.append(df_cases.sum()[df_cases.sum() == i].index)\n",
    "\n",
    "\n",
    "fig, ax = plt.subplots(1,3,figsize = (21,6))\n",
    "for i in range(3):\n",
    "    state = top3_states[i].values[0]\n",
    "    ax[i].plot(df_cases['Date'], df_cases[state],'.-', color='b', alpha=0.7)\n",
    "    ax[i].plot(df_deaths['Date'], df_deaths[state],'.-', color='r', alpha=0.7)\n",
    "    ax[i].plot(df_recovered['Date'], df_recovered[state],'.-', color='g', alpha=0.7)\n",
    "    \n",
    "    ax[i].set_title(f\"Cases in {state}\")\n",
    "    ax[i].set_xticks(ticks=' ')\n",
    "    ax[i].set_xlabel(f'{df_cases.iloc[0][0]} to {df_cases.iloc[-1][0]}')\n",
    "    ax[i].set_ylabel('No. of cases');"
   ]
  },
  {
   "cell_type": "code",
   "execution_count": null,
   "metadata": {
    "papermill": {
     "duration": 0.398014,
     "end_time": "2020-09-12T19:11:41.876821",
     "exception": false,
     "start_time": "2020-09-12T19:11:41.478807",
     "status": "completed"
    },
    "tags": []
   },
   "outputs": [],
   "source": []
  },
  {
   "cell_type": "code",
   "execution_count": null,
   "metadata": {
    "papermill": {
     "duration": 0.019628,
     "end_time": "2020-09-12T19:11:41.918433",
     "exception": false,
     "start_time": "2020-09-12T19:11:41.898805",
     "status": "completed"
    },
    "tags": []
   },
   "outputs": [],
   "source": []
  },
  {
   "cell_type": "code",
   "execution_count": null,
   "metadata": {
    "papermill": {
     "duration": 0.021223,
     "end_time": "2020-09-12T19:11:41.959835",
     "exception": false,
     "start_time": "2020-09-12T19:11:41.938612",
     "status": "completed"
    },
    "tags": []
   },
   "outputs": [],
   "source": []
  }
 ],
 "metadata": {
  "kernelspec": {
   "display_name": "Python 3",
   "language": "python",
   "name": "python3"
  },
  "language_info": {
   "codemirror_mode": {
    "name": "ipython",
    "version": 3
   },
   "file_extension": ".py",
   "mimetype": "text/x-python",
   "name": "python",
   "nbconvert_exporter": "python",
   "pygments_lexer": "ipython3",
   "version": "3.6.12"
  },
  "papermill": {
   "duration": 4.335246,
   "end_time": "2020-09-12T19:11:42.288208",
   "environment_variables": {},
   "exception": null,
   "input_path": "2020-08-09-DailyUpdate.ipynb",
   "output_path": "2020-08-09-DailyUpdate.ipynb",
   "parameters": {},
   "start_time": "2020-09-12T19:11:37.952962",
   "version": "2.1.2"
  }
 },
 "nbformat": 4,
 "nbformat_minor": 4
}