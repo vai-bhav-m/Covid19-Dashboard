{
 "cells": [
  {
   "cell_type": "markdown",
   "metadata": {
    "tags": [
     "papermill-error-cell-tag"
    ]
   },
   "source": [
    "<span style=\"color:red; font-family:Helvetica Neue, Helvetica, Arial, sans-serif; font-size:2em;\">An Exception was encountered at '<a href=\"#papermill-error-cell\">In [13]</a>'.</span>"
   ]
  },
  {
   "cell_type": "markdown",
   "metadata": {
    "papermill": {
     "duration": 0.017304,
     "end_time": "2020-10-19T19:14:27.459163",
     "exception": false,
     "start_time": "2020-10-19T19:14:27.441859",
     "status": "completed"
    },
    "tags": []
   },
   "source": [
    "# COVID-19 India Daily updates\n",
    "> Tracking coronavirus total cases, deaths and new cases in India on a daily basis\n",
    "\n",
    "- author: Vaibhav Mahapatra"
   ]
  },
  {
   "cell_type": "code",
   "execution_count": 1,
   "metadata": {
    "execution": {
     "iopub.execute_input": "2020-10-19T19:14:27.495577Z",
     "iopub.status.busy": "2020-10-19T19:14:27.494504Z",
     "iopub.status.idle": "2020-10-19T19:14:28.094394Z",
     "shell.execute_reply": "2020-10-19T19:14:28.093459Z"
    },
    "papermill": {
     "duration": 0.619844,
     "end_time": "2020-10-19T19:14:28.094652",
     "exception": false,
     "start_time": "2020-10-19T19:14:27.474808",
     "status": "completed"
    },
    "tags": []
   },
   "outputs": [],
   "source": [
    "#hide\n",
    "\n",
    "## Import essential packages below\n",
    "\n",
    "import pandas as pd\n",
    "import numpy as np\n",
    "import requests\n",
    "import json\n",
    "import matplotlib.pyplot as plt\n",
    "import matplotlib.dates as mdates\n",
    "import matplotlib as mpl\n",
    "from IPython.core.display import display,HTML\n",
    "%matplotlib inline"
   ]
  },
  {
   "cell_type": "code",
   "execution_count": 2,
   "metadata": {
    "execution": {
     "iopub.execute_input": "2020-10-19T19:14:28.126631Z",
     "iopub.status.busy": "2020-10-19T19:14:28.126020Z",
     "iopub.status.idle": "2020-10-19T19:14:28.352066Z",
     "shell.execute_reply": "2020-10-19T19:14:28.352796Z"
    },
    "papermill": {
     "duration": 0.245826,
     "end_time": "2020-10-19T19:14:28.353017",
     "exception": false,
     "start_time": "2020-10-19T19:14:28.107191",
     "status": "completed"
    },
    "tags": []
   },
   "outputs": [
    {
     "data": {
      "text/plain": [
       "(660, 42)"
      ]
     },
     "execution_count": 2,
     "metadata": {},
     "output_type": "execute_result"
    }
   ],
   "source": [
    "#hide\n",
    "url = 'https://api.covid19india.org/csv/latest/state_wise_daily.csv'\n",
    "df = pd.read_csv(url)\n",
    "df.shape"
   ]
  },
  {
   "cell_type": "code",
   "execution_count": 3,
   "metadata": {
    "execution": {
     "iopub.execute_input": "2020-10-19T19:14:28.441395Z",
     "iopub.status.busy": "2020-10-19T19:14:28.433862Z",
     "iopub.status.idle": "2020-10-19T19:14:28.443917Z",
     "shell.execute_reply": "2020-10-19T19:14:28.444404Z"
    },
    "papermill": {
     "duration": 0.077477,
     "end_time": "2020-10-19T19:14:28.444591",
     "exception": false,
     "start_time": "2020-10-19T19:14:28.367114",
     "status": "completed"
    },
    "tags": []
   },
   "outputs": [
    {
     "data": {
      "text/html": [
       "<div>\n",
       "<style scoped>\n",
       "    .dataframe tbody tr th:only-of-type {\n",
       "        vertical-align: middle;\n",
       "    }\n",
       "\n",
       "    .dataframe tbody tr th {\n",
       "        vertical-align: top;\n",
       "    }\n",
       "\n",
       "    .dataframe thead th {\n",
       "        text-align: right;\n",
       "    }\n",
       "</style>\n",
       "<table border=\"1\" class=\"dataframe\">\n",
       "  <thead>\n",
       "    <tr style=\"text-align: right;\">\n",
       "      <th></th>\n",
       "      <th>Date</th>\n",
       "      <th>Date_YMD</th>\n",
       "      <th>Status</th>\n",
       "      <th>TT</th>\n",
       "      <th>AN</th>\n",
       "      <th>AP</th>\n",
       "      <th>AR</th>\n",
       "      <th>AS</th>\n",
       "      <th>BR</th>\n",
       "      <th>CH</th>\n",
       "      <th>...</th>\n",
       "      <th>PB</th>\n",
       "      <th>RJ</th>\n",
       "      <th>SK</th>\n",
       "      <th>TN</th>\n",
       "      <th>TG</th>\n",
       "      <th>TR</th>\n",
       "      <th>UP</th>\n",
       "      <th>UT</th>\n",
       "      <th>WB</th>\n",
       "      <th>UN</th>\n",
       "    </tr>\n",
       "  </thead>\n",
       "  <tbody>\n",
       "    <tr>\n",
       "      <th>654</th>\n",
       "      <td>18-Oct-20</td>\n",
       "      <td>2020-10-18</td>\n",
       "      <td>Confirmed</td>\n",
       "      <td>56520</td>\n",
       "      <td>25</td>\n",
       "      <td>3986</td>\n",
       "      <td>58</td>\n",
       "      <td>318</td>\n",
       "      <td>1152</td>\n",
       "      <td>64</td>\n",
       "      <td>...</td>\n",
       "      <td>476</td>\n",
       "      <td>1985</td>\n",
       "      <td>30</td>\n",
       "      <td>3914</td>\n",
       "      <td>1436</td>\n",
       "      <td>141</td>\n",
       "      <td>2486</td>\n",
       "      <td>376</td>\n",
       "      <td>3983</td>\n",
       "      <td>0</td>\n",
       "    </tr>\n",
       "    <tr>\n",
       "      <th>655</th>\n",
       "      <td>18-Oct-20</td>\n",
       "      <td>2020-10-18</td>\n",
       "      <td>Recovered</td>\n",
       "      <td>66418</td>\n",
       "      <td>20</td>\n",
       "      <td>4591</td>\n",
       "      <td>237</td>\n",
       "      <td>599</td>\n",
       "      <td>1079</td>\n",
       "      <td>94</td>\n",
       "      <td>...</td>\n",
       "      <td>958</td>\n",
       "      <td>2088</td>\n",
       "      <td>32</td>\n",
       "      <td>4929</td>\n",
       "      <td>2154</td>\n",
       "      <td>187</td>\n",
       "      <td>3981</td>\n",
       "      <td>162</td>\n",
       "      <td>3113</td>\n",
       "      <td>0</td>\n",
       "    </tr>\n",
       "    <tr>\n",
       "      <th>656</th>\n",
       "      <td>18-Oct-20</td>\n",
       "      <td>2020-10-18</td>\n",
       "      <td>Deceased</td>\n",
       "      <td>582</td>\n",
       "      <td>0</td>\n",
       "      <td>23</td>\n",
       "      <td>0</td>\n",
       "      <td>3</td>\n",
       "      <td>6</td>\n",
       "      <td>1</td>\n",
       "      <td>...</td>\n",
       "      <td>13</td>\n",
       "      <td>13</td>\n",
       "      <td>1</td>\n",
       "      <td>56</td>\n",
       "      <td>6</td>\n",
       "      <td>3</td>\n",
       "      <td>29</td>\n",
       "      <td>3</td>\n",
       "      <td>64</td>\n",
       "      <td>0</td>\n",
       "    </tr>\n",
       "    <tr>\n",
       "      <th>657</th>\n",
       "      <td>19-Oct-20</td>\n",
       "      <td>2020-10-18</td>\n",
       "      <td>Confirmed</td>\n",
       "      <td>44800</td>\n",
       "      <td>18</td>\n",
       "      <td>2918</td>\n",
       "      <td>0</td>\n",
       "      <td>698</td>\n",
       "      <td>912</td>\n",
       "      <td>40</td>\n",
       "      <td>...</td>\n",
       "      <td>473</td>\n",
       "      <td>1960</td>\n",
       "      <td>4</td>\n",
       "      <td>3536</td>\n",
       "      <td>948</td>\n",
       "      <td>85</td>\n",
       "      <td>1719</td>\n",
       "      <td>336</td>\n",
       "      <td>3992</td>\n",
       "      <td>0</td>\n",
       "    </tr>\n",
       "    <tr>\n",
       "      <th>658</th>\n",
       "      <td>19-Oct-20</td>\n",
       "      <td>2020-10-18</td>\n",
       "      <td>Recovered</td>\n",
       "      <td>69334</td>\n",
       "      <td>24</td>\n",
       "      <td>4303</td>\n",
       "      <td>0</td>\n",
       "      <td>1530</td>\n",
       "      <td>1195</td>\n",
       "      <td>63</td>\n",
       "      <td>...</td>\n",
       "      <td>884</td>\n",
       "      <td>2194</td>\n",
       "      <td>11</td>\n",
       "      <td>4515</td>\n",
       "      <td>1896</td>\n",
       "      <td>328</td>\n",
       "      <td>3093</td>\n",
       "      <td>504</td>\n",
       "      <td>3272</td>\n",
       "      <td>0</td>\n",
       "    </tr>\n",
       "    <tr>\n",
       "      <th>659</th>\n",
       "      <td>19-Oct-20</td>\n",
       "      <td>2020-10-18</td>\n",
       "      <td>Deceased</td>\n",
       "      <td>588</td>\n",
       "      <td>0</td>\n",
       "      <td>24</td>\n",
       "      <td>0</td>\n",
       "      <td>7</td>\n",
       "      <td>7</td>\n",
       "      <td>0</td>\n",
       "      <td>...</td>\n",
       "      <td>17</td>\n",
       "      <td>12</td>\n",
       "      <td>2</td>\n",
       "      <td>52</td>\n",
       "      <td>4</td>\n",
       "      <td>2</td>\n",
       "      <td>27</td>\n",
       "      <td>6</td>\n",
       "      <td>63</td>\n",
       "      <td>0</td>\n",
       "    </tr>\n",
       "  </tbody>\n",
       "</table>\n",
       "<p>6 rows × 42 columns</p>\n",
       "</div>"
      ],
      "text/plain": [
       "          Date    Date_YMD     Status     TT  AN    AP   AR    AS    BR  CH  \\\n",
       "654  18-Oct-20  2020-10-18  Confirmed  56520  25  3986   58   318  1152  64   \n",
       "655  18-Oct-20  2020-10-18  Recovered  66418  20  4591  237   599  1079  94   \n",
       "656  18-Oct-20  2020-10-18   Deceased    582   0    23    0     3     6   1   \n",
       "657  19-Oct-20  2020-10-18  Confirmed  44800  18  2918    0   698   912  40   \n",
       "658  19-Oct-20  2020-10-18  Recovered  69334  24  4303    0  1530  1195  63   \n",
       "659  19-Oct-20  2020-10-18   Deceased    588   0    24    0     7     7   0   \n",
       "\n",
       "     ...   PB    RJ  SK    TN    TG   TR    UP   UT    WB  UN  \n",
       "654  ...  476  1985  30  3914  1436  141  2486  376  3983   0  \n",
       "655  ...  958  2088  32  4929  2154  187  3981  162  3113   0  \n",
       "656  ...   13    13   1    56     6    3    29    3    64   0  \n",
       "657  ...  473  1960   4  3536   948   85  1719  336  3992   0  \n",
       "658  ...  884  2194  11  4515  1896  328  3093  504  3272   0  \n",
       "659  ...   17    12   2    52     4    2    27    6    63   0  \n",
       "\n",
       "[6 rows x 42 columns]"
      ]
     },
     "execution_count": 3,
     "metadata": {},
     "output_type": "execute_result"
    }
   ],
   "source": [
    "#hide\n",
    "df.tail(6)"
   ]
  },
  {
   "cell_type": "code",
   "execution_count": 4,
   "metadata": {
    "execution": {
     "iopub.execute_input": "2020-10-19T19:14:28.480157Z",
     "iopub.status.busy": "2020-10-19T19:14:28.478681Z",
     "iopub.status.idle": "2020-10-19T19:14:28.482538Z",
     "shell.execute_reply": "2020-10-19T19:14:28.481860Z"
    },
    "papermill": {
     "duration": 0.025258,
     "end_time": "2020-10-19T19:14:28.482672",
     "exception": false,
     "start_time": "2020-10-19T19:14:28.457414",
     "status": "completed"
    },
    "tags": []
   },
   "outputs": [
    {
     "data": {
      "text/plain": [
       "('19-Oct-20', '18-Oct-20')"
      ]
     },
     "execution_count": 4,
     "metadata": {},
     "output_type": "execute_result"
    }
   ],
   "source": [
    "#hide\n",
    "dt_today = df.iloc[-1][0]\n",
    "dt_yday = df.iloc[-4][0]\n",
    "dt_today, dt_yday"
   ]
  },
  {
   "cell_type": "code",
   "execution_count": 5,
   "metadata": {
    "execution": {
     "iopub.execute_input": "2020-10-19T19:14:28.515341Z",
     "iopub.status.busy": "2020-10-19T19:14:28.514764Z",
     "iopub.status.idle": "2020-10-19T19:14:28.521066Z",
     "shell.execute_reply": "2020-10-19T19:14:28.521536Z"
    },
    "papermill": {
     "duration": 0.025453,
     "end_time": "2020-10-19T19:14:28.521681",
     "exception": false,
     "start_time": "2020-10-19T19:14:28.496228",
     "status": "completed"
    },
    "tags": []
   },
   "outputs": [],
   "source": [
    "#hide\n",
    "df_today = df.groupby('Status').sum()\n",
    "df_yday = df.iloc[:-3][:].groupby('Status').sum()"
   ]
  },
  {
   "cell_type": "code",
   "execution_count": 6,
   "metadata": {
    "execution": {
     "iopub.execute_input": "2020-10-19T19:14:28.563892Z",
     "iopub.status.busy": "2020-10-19T19:14:28.563279Z",
     "iopub.status.idle": "2020-10-19T19:14:28.567015Z",
     "shell.execute_reply": "2020-10-19T19:14:28.567518Z"
    },
    "papermill": {
     "duration": 0.032922,
     "end_time": "2020-10-19T19:14:28.567671",
     "exception": false,
     "start_time": "2020-10-19T19:14:28.534749",
     "status": "completed"
    },
    "tags": []
   },
   "outputs": [
    {
     "data": {
      "text/html": [
       "<div>\n",
       "<style scoped>\n",
       "    .dataframe tbody tr th:only-of-type {\n",
       "        vertical-align: middle;\n",
       "    }\n",
       "\n",
       "    .dataframe tbody tr th {\n",
       "        vertical-align: top;\n",
       "    }\n",
       "\n",
       "    .dataframe thead th {\n",
       "        text-align: right;\n",
       "    }\n",
       "</style>\n",
       "<table border=\"1\" class=\"dataframe\">\n",
       "  <thead>\n",
       "    <tr style=\"text-align: right;\">\n",
       "      <th></th>\n",
       "      <th>TT</th>\n",
       "      <th>AN</th>\n",
       "      <th>AP</th>\n",
       "      <th>AR</th>\n",
       "      <th>AS</th>\n",
       "      <th>BR</th>\n",
       "      <th>CH</th>\n",
       "      <th>CT</th>\n",
       "      <th>DN</th>\n",
       "      <th>DD</th>\n",
       "      <th>...</th>\n",
       "      <th>PB</th>\n",
       "      <th>RJ</th>\n",
       "      <th>SK</th>\n",
       "      <th>TN</th>\n",
       "      <th>TG</th>\n",
       "      <th>TR</th>\n",
       "      <th>UP</th>\n",
       "      <th>UT</th>\n",
       "      <th>WB</th>\n",
       "      <th>UN</th>\n",
       "    </tr>\n",
       "    <tr>\n",
       "      <th>Status</th>\n",
       "      <th></th>\n",
       "      <th></th>\n",
       "      <th></th>\n",
       "      <th></th>\n",
       "      <th></th>\n",
       "      <th></th>\n",
       "      <th></th>\n",
       "      <th></th>\n",
       "      <th></th>\n",
       "      <th></th>\n",
       "      <th></th>\n",
       "      <th></th>\n",
       "      <th></th>\n",
       "      <th></th>\n",
       "      <th></th>\n",
       "      <th></th>\n",
       "      <th></th>\n",
       "      <th></th>\n",
       "      <th></th>\n",
       "      <th></th>\n",
       "      <th></th>\n",
       "    </tr>\n",
       "  </thead>\n",
       "  <tbody>\n",
       "    <tr>\n",
       "      <th>Confirmed</th>\n",
       "      <td>7593414</td>\n",
       "      <td>4122</td>\n",
       "      <td>786050</td>\n",
       "      <td>13406</td>\n",
       "      <td>201305</td>\n",
       "      <td>205124</td>\n",
       "      <td>13686</td>\n",
       "      <td>162772</td>\n",
       "      <td>3180</td>\n",
       "      <td>0</td>\n",
       "      <td>...</td>\n",
       "      <td>128103</td>\n",
       "      <td>175226</td>\n",
       "      <td>3614</td>\n",
       "      <td>690936</td>\n",
       "      <td>222549</td>\n",
       "      <td>29550</td>\n",
       "      <td>456865</td>\n",
       "      <td>58360</td>\n",
       "      <td>325028</td>\n",
       "      <td>0</td>\n",
       "    </tr>\n",
       "    <tr>\n",
       "      <th>Deceased</th>\n",
       "      <td>114648</td>\n",
       "      <td>56</td>\n",
       "      <td>6453</td>\n",
       "      <td>30</td>\n",
       "      <td>879</td>\n",
       "      <td>1003</td>\n",
       "      <td>208</td>\n",
       "      <td>1534</td>\n",
       "      <td>2</td>\n",
       "      <td>0</td>\n",
       "      <td>...</td>\n",
       "      <td>4029</td>\n",
       "      <td>1760</td>\n",
       "      <td>62</td>\n",
       "      <td>10694</td>\n",
       "      <td>1275</td>\n",
       "      <td>328</td>\n",
       "      <td>6685</td>\n",
       "      <td>933</td>\n",
       "      <td>6119</td>\n",
       "      <td>0</td>\n",
       "    </tr>\n",
       "    <tr>\n",
       "      <th>Recovered</th>\n",
       "      <td>6730123</td>\n",
       "      <td>3883</td>\n",
       "      <td>744532</td>\n",
       "      <td>10552</td>\n",
       "      <td>173210</td>\n",
       "      <td>193789</td>\n",
       "      <td>12617</td>\n",
       "      <td>135259</td>\n",
       "      <td>3098</td>\n",
       "      <td>0</td>\n",
       "      <td>...</td>\n",
       "      <td>118767</td>\n",
       "      <td>152573</td>\n",
       "      <td>3196</td>\n",
       "      <td>642152</td>\n",
       "      <td>200686</td>\n",
       "      <td>26527</td>\n",
       "      <td>418685</td>\n",
       "      <td>51486</td>\n",
       "      <td>284325</td>\n",
       "      <td>0</td>\n",
       "    </tr>\n",
       "  </tbody>\n",
       "</table>\n",
       "<p>3 rows × 39 columns</p>\n",
       "</div>"
      ],
      "text/plain": [
       "                TT    AN      AP     AR      AS      BR     CH      CT    DN  \\\n",
       "Status                                                                         \n",
       "Confirmed  7593414  4122  786050  13406  201305  205124  13686  162772  3180   \n",
       "Deceased    114648    56    6453     30     879    1003    208    1534     2   \n",
       "Recovered  6730123  3883  744532  10552  173210  193789  12617  135259  3098   \n",
       "\n",
       "           DD  ...      PB      RJ    SK      TN      TG     TR      UP  \\\n",
       "Status         ...                                                        \n",
       "Confirmed   0  ...  128103  175226  3614  690936  222549  29550  456865   \n",
       "Deceased    0  ...    4029    1760    62   10694    1275    328    6685   \n",
       "Recovered   0  ...  118767  152573  3196  642152  200686  26527  418685   \n",
       "\n",
       "              UT      WB  UN  \n",
       "Status                        \n",
       "Confirmed  58360  325028   0  \n",
       "Deceased     933    6119   0  \n",
       "Recovered  51486  284325   0  \n",
       "\n",
       "[3 rows x 39 columns]"
      ]
     },
     "execution_count": 6,
     "metadata": {},
     "output_type": "execute_result"
    }
   ],
   "source": [
    "#hide\n",
    "df_today"
   ]
  },
  {
   "cell_type": "code",
   "execution_count": 7,
   "metadata": {
    "execution": {
     "iopub.execute_input": "2020-10-19T19:14:28.612644Z",
     "iopub.status.busy": "2020-10-19T19:14:28.603162Z",
     "iopub.status.idle": "2020-10-19T19:14:28.615961Z",
     "shell.execute_reply": "2020-10-19T19:14:28.615497Z"
    },
    "papermill": {
     "duration": 0.034699,
     "end_time": "2020-10-19T19:14:28.616115",
     "exception": false,
     "start_time": "2020-10-19T19:14:28.581416",
     "status": "completed"
    },
    "tags": []
   },
   "outputs": [
    {
     "data": {
      "text/html": [
       "<div>\n",
       "<style scoped>\n",
       "    .dataframe tbody tr th:only-of-type {\n",
       "        vertical-align: middle;\n",
       "    }\n",
       "\n",
       "    .dataframe tbody tr th {\n",
       "        vertical-align: top;\n",
       "    }\n",
       "\n",
       "    .dataframe thead th {\n",
       "        text-align: right;\n",
       "    }\n",
       "</style>\n",
       "<table border=\"1\" class=\"dataframe\">\n",
       "  <thead>\n",
       "    <tr style=\"text-align: right;\">\n",
       "      <th></th>\n",
       "      <th>TT</th>\n",
       "      <th>AN</th>\n",
       "      <th>AP</th>\n",
       "      <th>AR</th>\n",
       "      <th>AS</th>\n",
       "      <th>BR</th>\n",
       "      <th>CH</th>\n",
       "      <th>CT</th>\n",
       "      <th>DN</th>\n",
       "      <th>DD</th>\n",
       "      <th>...</th>\n",
       "      <th>PB</th>\n",
       "      <th>RJ</th>\n",
       "      <th>SK</th>\n",
       "      <th>TN</th>\n",
       "      <th>TG</th>\n",
       "      <th>TR</th>\n",
       "      <th>UP</th>\n",
       "      <th>UT</th>\n",
       "      <th>WB</th>\n",
       "      <th>UN</th>\n",
       "    </tr>\n",
       "    <tr>\n",
       "      <th>Status</th>\n",
       "      <th></th>\n",
       "      <th></th>\n",
       "      <th></th>\n",
       "      <th></th>\n",
       "      <th></th>\n",
       "      <th></th>\n",
       "      <th></th>\n",
       "      <th></th>\n",
       "      <th></th>\n",
       "      <th></th>\n",
       "      <th></th>\n",
       "      <th></th>\n",
       "      <th></th>\n",
       "      <th></th>\n",
       "      <th></th>\n",
       "      <th></th>\n",
       "      <th></th>\n",
       "      <th></th>\n",
       "      <th></th>\n",
       "      <th></th>\n",
       "      <th></th>\n",
       "    </tr>\n",
       "  </thead>\n",
       "  <tbody>\n",
       "    <tr>\n",
       "      <th>Confirmed</th>\n",
       "      <td>7548614</td>\n",
       "      <td>4104</td>\n",
       "      <td>783132</td>\n",
       "      <td>13406</td>\n",
       "      <td>200607</td>\n",
       "      <td>204212</td>\n",
       "      <td>13646</td>\n",
       "      <td>160396</td>\n",
       "      <td>3178</td>\n",
       "      <td>0</td>\n",
       "      <td>...</td>\n",
       "      <td>127630</td>\n",
       "      <td>173266</td>\n",
       "      <td>3610</td>\n",
       "      <td>687400</td>\n",
       "      <td>221601</td>\n",
       "      <td>29465</td>\n",
       "      <td>455146</td>\n",
       "      <td>58024</td>\n",
       "      <td>321036</td>\n",
       "      <td>0</td>\n",
       "    </tr>\n",
       "    <tr>\n",
       "      <th>Deceased</th>\n",
       "      <td>114060</td>\n",
       "      <td>56</td>\n",
       "      <td>6429</td>\n",
       "      <td>30</td>\n",
       "      <td>872</td>\n",
       "      <td>996</td>\n",
       "      <td>208</td>\n",
       "      <td>1478</td>\n",
       "      <td>2</td>\n",
       "      <td>0</td>\n",
       "      <td>...</td>\n",
       "      <td>4012</td>\n",
       "      <td>1748</td>\n",
       "      <td>60</td>\n",
       "      <td>10642</td>\n",
       "      <td>1271</td>\n",
       "      <td>326</td>\n",
       "      <td>6658</td>\n",
       "      <td>927</td>\n",
       "      <td>6056</td>\n",
       "      <td>0</td>\n",
       "    </tr>\n",
       "    <tr>\n",
       "      <th>Recovered</th>\n",
       "      <td>6660789</td>\n",
       "      <td>3859</td>\n",
       "      <td>740229</td>\n",
       "      <td>10552</td>\n",
       "      <td>171680</td>\n",
       "      <td>192594</td>\n",
       "      <td>12554</td>\n",
       "      <td>132168</td>\n",
       "      <td>3085</td>\n",
       "      <td>0</td>\n",
       "      <td>...</td>\n",
       "      <td>117883</td>\n",
       "      <td>150379</td>\n",
       "      <td>3185</td>\n",
       "      <td>637637</td>\n",
       "      <td>198790</td>\n",
       "      <td>26199</td>\n",
       "      <td>415592</td>\n",
       "      <td>50982</td>\n",
       "      <td>281053</td>\n",
       "      <td>0</td>\n",
       "    </tr>\n",
       "  </tbody>\n",
       "</table>\n",
       "<p>3 rows × 39 columns</p>\n",
       "</div>"
      ],
      "text/plain": [
       "                TT    AN      AP     AR      AS      BR     CH      CT    DN  \\\n",
       "Status                                                                         \n",
       "Confirmed  7548614  4104  783132  13406  200607  204212  13646  160396  3178   \n",
       "Deceased    114060    56    6429     30     872     996    208    1478     2   \n",
       "Recovered  6660789  3859  740229  10552  171680  192594  12554  132168  3085   \n",
       "\n",
       "           DD  ...      PB      RJ    SK      TN      TG     TR      UP  \\\n",
       "Status         ...                                                        \n",
       "Confirmed   0  ...  127630  173266  3610  687400  221601  29465  455146   \n",
       "Deceased    0  ...    4012    1748    60   10642    1271    326    6658   \n",
       "Recovered   0  ...  117883  150379  3185  637637  198790  26199  415592   \n",
       "\n",
       "              UT      WB  UN  \n",
       "Status                        \n",
       "Confirmed  58024  321036   0  \n",
       "Deceased     927    6056   0  \n",
       "Recovered  50982  281053   0  \n",
       "\n",
       "[3 rows x 39 columns]"
      ]
     },
     "execution_count": 7,
     "metadata": {},
     "output_type": "execute_result"
    }
   ],
   "source": [
    "#hide\n",
    "df_yday.head()"
   ]
  },
  {
   "cell_type": "code",
   "execution_count": 8,
   "metadata": {
    "execution": {
     "iopub.execute_input": "2020-10-19T19:14:28.653439Z",
     "iopub.status.busy": "2020-10-19T19:14:28.652846Z",
     "iopub.status.idle": "2020-10-19T19:14:28.655822Z",
     "shell.execute_reply": "2020-10-19T19:14:28.656440Z"
    },
    "papermill": {
     "duration": 0.025956,
     "end_time": "2020-10-19T19:14:28.656592",
     "exception": false,
     "start_time": "2020-10-19T19:14:28.630636",
     "status": "completed"
    },
    "tags": []
   },
   "outputs": [
    {
     "data": {
      "text/plain": [
       "{'updated': '19-Oct-20',\n",
       " 'since': '18-Oct-20',\n",
       " 'Cases': 7593414,\n",
       " 'Deaths': 114648,\n",
       " 'Recovered': 6730123,\n",
       " 'PCases': 7548614,\n",
       " 'PDeaths': 114060,\n",
       " 'PRecovered': 6660789,\n",
       " 'Cases (+)': 44800,\n",
       " 'Deaths (+)': 588,\n",
       " 'Recovered (+)': 69334}"
      ]
     },
     "execution_count": 8,
     "metadata": {},
     "output_type": "execute_result"
    }
   ],
   "source": [
    "#hide\n",
    "summary = {\n",
    "    'updated' : dt_today,\n",
    "    'since' : dt_yday,\n",
    "    'Cases' : df_today['TT'][0],\n",
    "    'Deaths' : df_today['TT'][1],\n",
    "    'Recovered' : df_today['TT'][2],\n",
    "    'PCases' : df_yday['TT'][0],\n",
    "    'PDeaths' : df_yday['TT'][1],\n",
    "    'PRecovered': df_yday['TT'][2],\n",
    "    'Cases (+)' : df_today['TT'][0] - df_yday['TT'][0],\n",
    "    'Deaths (+)' : df_today['TT'][1] - df_yday['TT'][1],\n",
    "    'Recovered (+)': df_today['TT'][2] - df_yday['TT'][2]\n",
    "}\n",
    "\n",
    "summary"
   ]
  },
  {
   "cell_type": "code",
   "execution_count": 9,
   "metadata": {
    "execution": {
     "iopub.execute_input": "2020-10-19T19:14:28.691507Z",
     "iopub.status.busy": "2020-10-19T19:14:28.690919Z",
     "iopub.status.idle": "2020-10-19T19:14:28.694227Z",
     "shell.execute_reply": "2020-10-19T19:14:28.693757Z"
    },
    "papermill": {
     "duration": 0.023276,
     "end_time": "2020-10-19T19:14:28.694353",
     "exception": false,
     "start_time": "2020-10-19T19:14:28.671077",
     "status": "completed"
    },
    "tags": []
   },
   "outputs": [],
   "source": [
    "#hide\n",
    "overview = '''\n",
    "<!-- #######  HTML!! #########-->\n",
    "<h1 style=\"color: #5e9ca0; text-align: center;\">India</h1>\n",
    "<p style=\"text-align: center;\">Last update: <strong>{update}</strong></p>\n",
    "<p style=\"text-align: center;\">Confirmed cases:</p>\n",
    "<p style=\"text-align: center;font-size:24px;\">{cases} (<span style=\"color: #ff0000;\">+{new}</span>)</p>\n",
    "<p style=\"text-align: center;\">Confirmed deaths:</p>\n",
    "<p style=\"text-align: center;font-size:24px;\">{deaths} (<span style=\"color: #ff0000;\">+{dnew}</span>)</p>\n",
    "<p style=\"text-align: center;\">Recovered cases:</p>\n",
    "<p style=\"text-align: center;font-size:24px;\">{recovered} (<span style=\"color: #00ff00;\">+{rnew}</span>)</p>\n",
    "'''"
   ]
  },
  {
   "cell_type": "code",
   "execution_count": 10,
   "metadata": {
    "execution": {
     "iopub.execute_input": "2020-10-19T19:14:28.732983Z",
     "iopub.status.busy": "2020-10-19T19:14:28.732119Z",
     "iopub.status.idle": "2020-10-19T19:14:28.736719Z",
     "shell.execute_reply": "2020-10-19T19:14:28.737170Z"
    },
    "papermill": {
     "duration": 0.028538,
     "end_time": "2020-10-19T19:14:28.737314",
     "exception": false,
     "start_time": "2020-10-19T19:14:28.708776",
     "status": "completed"
    },
    "tags": []
   },
   "outputs": [
    {
     "data": {
      "text/html": [
       "\n",
       "<!-- #######  HTML!! #########-->\n",
       "<h1 style=\"color: #5e9ca0; text-align: center;\">India</h1>\n",
       "<p style=\"text-align: center;\">Last update: <strong>19-Oct-20</strong></p>\n",
       "<p style=\"text-align: center;\">Confirmed cases:</p>\n",
       "<p style=\"text-align: center;font-size:24px;\">7593414 (<span style=\"color: #ff0000;\">+44800</span>)</p>\n",
       "<p style=\"text-align: center;\">Confirmed deaths:</p>\n",
       "<p style=\"text-align: center;font-size:24px;\">114648 (<span style=\"color: #ff0000;\">+588</span>)</p>\n",
       "<p style=\"text-align: center;\">Recovered cases:</p>\n",
       "<p style=\"text-align: center;font-size:24px;\">6730123 (<span style=\"color: #00ff00;\">+69334</span>)</p>\n"
      ],
      "text/plain": [
       "<IPython.core.display.HTML object>"
      ]
     },
     "metadata": {},
     "output_type": "display_data"
    }
   ],
   "source": [
    "#hide_input\n",
    "# Fill the above HTML with the information from the summary dictionary\n",
    "\n",
    "update = summary['updated']\n",
    "cases = summary['Cases']\n",
    "new = summary['Cases (+)']\n",
    "deaths = summary['Deaths']\n",
    "dnew = summary['Deaths (+)']\n",
    "recovered = summary['Recovered']\n",
    "rnew = summary['Recovered (+)']\n",
    "\n",
    "html = HTML(overview.format(update=update, cases=cases,new=new,deaths=deaths,dnew=dnew, recovered=recovered, rnew=rnew))\n",
    "\n",
    "display(html)"
   ]
  },
  {
   "cell_type": "code",
   "execution_count": 11,
   "metadata": {
    "execution": {
     "iopub.execute_input": "2020-10-19T19:14:28.776911Z",
     "iopub.status.busy": "2020-10-19T19:14:28.776308Z",
     "iopub.status.idle": "2020-10-19T19:14:28.778949Z",
     "shell.execute_reply": "2020-10-19T19:14:28.778483Z"
    },
    "papermill": {
     "duration": 0.027147,
     "end_time": "2020-10-19T19:14:28.779074",
     "exception": false,
     "start_time": "2020-10-19T19:14:28.751927",
     "status": "completed"
    },
    "tags": []
   },
   "outputs": [],
   "source": [
    "#hide\n",
    "df_cases = df[df['Status'] == 'Confirmed'].copy()\n",
    "df_cases.drop(columns = ['Status'], inplace=True)\n",
    "df_deaths = df[df['Status'] == 'Deceased'].copy()\n",
    "df_deaths.drop(columns = ['Status'], inplace=True)\n",
    "df_recovered = df[df['Status'] == 'Recovered'].copy()\n",
    "df_recovered.drop(columns = ['Status'], inplace=True)"
   ]
  },
  {
   "cell_type": "markdown",
   "metadata": {
    "papermill": {
     "duration": 0.014876,
     "end_time": "2020-10-19T19:14:28.808849",
     "exception": false,
     "start_time": "2020-10-19T19:14:28.793973",
     "status": "completed"
    },
    "tags": []
   },
   "source": [
    "Plot for India:"
   ]
  },
  {
   "cell_type": "code",
   "execution_count": 12,
   "metadata": {
    "execution": {
     "iopub.execute_input": "2020-10-19T19:14:28.845830Z",
     "iopub.status.busy": "2020-10-19T19:14:28.844802Z",
     "iopub.status.idle": "2020-10-19T19:14:29.122758Z",
     "shell.execute_reply": "2020-10-19T19:14:29.123234Z"
    },
    "papermill": {
     "duration": 0.299778,
     "end_time": "2020-10-19T19:14:29.123393",
     "exception": false,
     "start_time": "2020-10-19T19:14:28.823615",
     "status": "completed"
    },
    "tags": []
   },
   "outputs": [
    {
     "data": {
      "image/png": "[encoded data removed]",
      "text/plain": [
       "<Figure size 1296x432 with 1 Axes>"
      ]
     },
     "metadata": {
      "needs_background": "light"
     },
     "output_type": "display_data"
    }
   ],
   "source": [
    "#hide_input\n",
    "plt.figure(figsize = (18,6))\n",
    "plt.plot(df_cases['Date'], df_cases['TT'],'.-', alpha=0.7, color='b', label='Confirmed cases')\n",
    "plt.plot(df_recovered['Date'], df_recovered['TT'],'.-', alpha=0.7, color='g', label='Recovered')\n",
    "plt.plot(df_deaths['Date'], df_deaths['TT'],'.-', alpha=0.7, color='r', label='Deceased')\n",
    "plt.legend()\n",
    "plt.title(\"Cases per day in India\")\n",
    "plt.xticks(ticks=' ')\n",
    "plt.xlabel(f'{df_cases.iloc[0][0]} to {df_cases.iloc[-1][0]}')\n",
    "plt.ylabel('No. of cases');"
   ]
  },
  {
   "cell_type": "markdown",
   "metadata": {
    "papermill": {
     "duration": 0.017579,
     "end_time": "2020-10-19T19:14:29.158409",
     "exception": false,
     "start_time": "2020-10-19T19:14:29.140830",
     "status": "completed"
    },
    "tags": []
   },
   "source": [
    "Plots for the states with highest number of cases:"
   ]
  },
  {
   "cell_type": "markdown",
   "metadata": {
    "tags": [
     "papermill-error-cell-tag"
    ]
   },
   "source": [
    "<span id=\"papermill-error-cell\" style=\"color:red; font-family:Helvetica Neue, Helvetica, Arial, sans-serif; font-size:2em;\">Execution using papermill encountered an exception here and stopped:</span>"
   ]
  },
  {
   "cell_type": "code",
   "execution_count": 13,
   "metadata": {
    "execution": {
     "iopub.execute_input": "2020-10-19T19:14:29.205330Z",
     "iopub.status.busy": "2020-10-19T19:14:29.204718Z",
     "iopub.status.idle": "2020-10-19T19:14:29.321900Z",
     "shell.execute_reply": "2020-10-19T19:14:29.321257Z"
    },
    "papermill": {
     "duration": 0.146352,
     "end_time": "2020-10-19T19:14:29.322088",
     "exception": true,
     "start_time": "2020-10-19T19:14:29.175736",
     "status": "failed"
    },
    "tags": []
   },
   "outputs": [
    {
     "ename": "TypeError",
     "evalue": "'>' not supported between instances of 'numpy.ndarray' and 'str'",
     "output_type": "error",
     "traceback": [
      "\u001b[0;31m---------------------------------------------------------------------------\u001b[0m",
      "\u001b[0;31mTypeError\u001b[0m                                 Traceback (most recent call last)",
      "\u001b[0;32m<ipython-input-13-9711672c0a2c>\u001b[0m in \u001b[0;36m<module>\u001b[0;34m\u001b[0m\n\u001b[1;32m      1\u001b[0m \u001b[0;31m#hide_input\u001b[0m\u001b[0;34m\u001b[0m\u001b[0;34m\u001b[0m\u001b[0;34m\u001b[0m\u001b[0m\n\u001b[0;32m----> 2\u001b[0;31m \u001b[0mtop_3\u001b[0m \u001b[0;34m=\u001b[0m \u001b[0msorted\u001b[0m\u001b[0;34m(\u001b[0m\u001b[0mdf_cases\u001b[0m\u001b[0;34m.\u001b[0m\u001b[0msum\u001b[0m\u001b[0;34m(\u001b[0m\u001b[0;34m)\u001b[0m\u001b[0;34m.\u001b[0m\u001b[0mvalues\u001b[0m\u001b[0;34m[\u001b[0m\u001b[0;36m1\u001b[0m\u001b[0;34m:\u001b[0m\u001b[0;34m]\u001b[0m\u001b[0;34m,\u001b[0m \u001b[0mreverse\u001b[0m\u001b[0;34m=\u001b[0m\u001b[0;32mTrue\u001b[0m\u001b[0;34m)\u001b[0m\u001b[0;34m[\u001b[0m\u001b[0;36m1\u001b[0m\u001b[0;34m:\u001b[0m\u001b[0;36m4\u001b[0m\u001b[0;34m]\u001b[0m\u001b[0;34m\u001b[0m\u001b[0;34m\u001b[0m\u001b[0m\n\u001b[0m\u001b[1;32m      3\u001b[0m \u001b[0mtop3_states\u001b[0m\u001b[0;34m=\u001b[0m\u001b[0;34m[\u001b[0m\u001b[0;34m]\u001b[0m\u001b[0;34m\u001b[0m\u001b[0;34m\u001b[0m\u001b[0m\n\u001b[1;32m      4\u001b[0m \u001b[0;32mfor\u001b[0m \u001b[0mi\u001b[0m \u001b[0;32min\u001b[0m \u001b[0mtop_3\u001b[0m\u001b[0;34m:\u001b[0m\u001b[0;34m\u001b[0m\u001b[0;34m\u001b[0m\u001b[0m\n\u001b[1;32m      5\u001b[0m     \u001b[0mtop3_states\u001b[0m\u001b[0;34m.\u001b[0m\u001b[0mappend\u001b[0m\u001b[0;34m(\u001b[0m\u001b[0mdf_cases\u001b[0m\u001b[0;34m.\u001b[0m\u001b[0msum\u001b[0m\u001b[0;34m(\u001b[0m\u001b[0;34m)\u001b[0m\u001b[0;34m[\u001b[0m\u001b[0mdf_cases\u001b[0m\u001b[0;34m.\u001b[0m\u001b[0msum\u001b[0m\u001b[0;34m(\u001b[0m\u001b[0;34m)\u001b[0m \u001b[0;34m==\u001b[0m \u001b[0mi\u001b[0m\u001b[0;34m]\u001b[0m\u001b[0;34m.\u001b[0m\u001b[0mindex\u001b[0m\u001b[0;34m)\u001b[0m\u001b[0;34m\u001b[0m\u001b[0;34m\u001b[0m\u001b[0m\n",
      "\u001b[0;31mTypeError\u001b[0m: '>' not supported between instances of 'numpy.ndarray' and 'str'"
     ]
    }
   ],
   "source": [
    "#hide_input\n",
    "top_3 = sorted(df_cases.sum().values[1:], reverse=True)[1:4]\n",
    "top3_states=[]\n",
    "for i in top_3:\n",
    "    top3_states.append(df_cases.sum()[df_cases.sum() == i].index)\n",
    "\n",
    "\n",
    "fig, ax = plt.subplots(1,3,figsize = (21,6))\n",
    "for i in range(3):\n",
    "    state = top3_states[i].values[0]\n",
    "    ax[i].plot(df_cases['Date'], df_cases[state],'.-', color='b', alpha=0.7)\n",
    "    ax[i].plot(df_deaths['Date'], df_deaths[state],'.-', color='r', alpha=0.7)\n",
    "    ax[i].plot(df_recovered['Date'], df_recovered[state],'.-', color='g', alpha=0.7)\n",
    "    \n",
    "    ax[i].set_title(f\"Cases in {state}\")\n",
    "    ax[i].set_xticks(ticks=' ')\n",
    "    ax[i].set_xlabel(f'{df_cases.iloc[0][0]} to {df_cases.iloc[-1][0]}')\n",
    "    ax[i].set_ylabel('No. of cases');"
   ]
  },
  {
   "cell_type": "code",
   "execution_count": null,
   "metadata": {
    "papermill": {
     "duration": null,
     "end_time": null,
     "exception": null,
     "start_time": null,
     "status": "pending"
    },
    "tags": []
   },
   "outputs": [],
   "source": []
  },
  {
   "cell_type": "code",
   "execution_count": null,
   "metadata": {
    "papermill": {
     "duration": null,
     "end_time": null,
     "exception": null,
     "start_time": null,
     "status": "pending"
    },
    "tags": []
   },
   "outputs": [],
   "source": []
  },
  {
   "cell_type": "code",
   "execution_count": null,
   "metadata": {
    "papermill": {
     "duration": null,
     "end_time": null,
     "exception": null,
     "start_time": null,
     "status": "pending"
    },
    "tags": []
   },
   "outputs": [],
   "source": []
  }
 ],
 "metadata": {
  "kernelspec": {
   "display_name": "Python 3",
   "language": "python",
   "name": "python3"
  },
  "language_info": {
   "codemirror_mode": {
    "name": "ipython",
    "version": 3
   },
   "file_extension": ".py",
   "mimetype": "text/x-python",
   "name": "python",
   "nbconvert_exporter": "python",
   "pygments_lexer": "ipython3",
   "version": "3.6.12"
  },
  "papermill": {
   "duration": 4.32932,
   "end_time": "2020-10-19T19:14:30.687449",
   "environment_variables": {},
   "exception": true,
   "input_path": "2020-08-09-DailyUpdate.ipynb",
   "output_path": "2020-08-09-DailyUpdate.ipynb",
   "parameters": {},
   "start_time": "2020-10-19T19:14:26.358129",
   "version": "2.1.2"
  }
 },
 "nbformat": 4,
 "nbformat_minor": 4
}