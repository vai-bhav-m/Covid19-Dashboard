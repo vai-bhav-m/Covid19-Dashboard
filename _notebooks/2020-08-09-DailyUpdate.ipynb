{
 "cells": [
  {
   "cell_type": "markdown",
   "metadata": {
    "papermill": {
     "duration": 0.014559,
     "end_time": "2020-08-27T19:11:15.806948",
     "exception": false,
     "start_time": "2020-08-27T19:11:15.792389",
     "status": "completed"
    },
    "tags": []
   },
   "source": [
    "# COVID-19 India Daily updates\n",
    "> Tracking coronavirus total cases, deaths and new cases in India on a daily basis\n",
    "\n",
    "- author: Vaibhav Mahapatra"
   ]
  },
  {
   "cell_type": "code",
   "execution_count": 1,
   "metadata": {
    "execution": {
     "iopub.execute_input": "2020-08-27T19:11:15.836062Z",
     "iopub.status.busy": "2020-08-27T19:11:15.835375Z",
     "iopub.status.idle": "2020-08-27T19:11:16.380753Z",
     "shell.execute_reply": "2020-08-27T19:11:16.379843Z"
    },
    "papermill": {
     "duration": 0.562802,
     "end_time": "2020-08-27T19:11:16.380897",
     "exception": false,
     "start_time": "2020-08-27T19:11:15.818095",
     "status": "completed"
    },
    "tags": []
   },
   "outputs": [],
   "source": [
    "#hide\n",
    "\n",
    "## Import essential packages below\n",
    "\n",
    "import pandas as pd\n",
    "import numpy as np\n",
    "import requests\n",
    "import json\n",
    "import matplotlib.pyplot as plt\n",
    "import matplotlib.dates as mdates\n",
    "import matplotlib as mpl\n",
    "from IPython.core.display import display,HTML\n",
    "%matplotlib inline"
   ]
  },
  {
   "cell_type": "code",
   "execution_count": 2,
   "metadata": {
    "execution": {
     "iopub.execute_input": "2020-08-27T19:11:16.409022Z",
     "iopub.status.busy": "2020-08-27T19:11:16.408308Z",
     "iopub.status.idle": "2020-08-27T19:11:16.625299Z",
     "shell.execute_reply": "2020-08-27T19:11:16.624820Z"
    },
    "papermill": {
     "duration": 0.233325,
     "end_time": "2020-08-27T19:11:16.625416",
     "exception": false,
     "start_time": "2020-08-27T19:11:16.392091",
     "status": "completed"
    },
    "tags": []
   },
   "outputs": [
    {
     "data": {
      "text/plain": [
       "(501, 41)"
      ]
     },
     "execution_count": 2,
     "metadata": {},
     "output_type": "execute_result"
    }
   ],
   "source": [
    "#hide\n",
    "url = 'https://api.covid19india.org/csv/latest/state_wise_daily.csv'\n",
    "df = pd.read_csv(url)\n",
    "df.shape"
   ]
  },
  {
   "cell_type": "code",
   "execution_count": 3,
   "metadata": {
    "execution": {
     "iopub.execute_input": "2020-08-27T19:11:16.688416Z",
     "iopub.status.busy": "2020-08-27T19:11:16.679074Z",
     "iopub.status.idle": "2020-08-27T19:11:16.697671Z",
     "shell.execute_reply": "2020-08-27T19:11:16.697131Z"
    },
    "papermill": {
     "duration": 0.061122,
     "end_time": "2020-08-27T19:11:16.697819",
     "exception": false,
     "start_time": "2020-08-27T19:11:16.636697",
     "status": "completed"
    },
    "tags": []
   },
   "outputs": [
    {
     "data": {
      "text/html": [
       "<div>\n",
       "<style scoped>\n",
       "    .dataframe tbody tr th:only-of-type {\n",
       "        vertical-align: middle;\n",
       "    }\n",
       "\n",
       "    .dataframe tbody tr th {\n",
       "        vertical-align: top;\n",
       "    }\n",
       "\n",
       "    .dataframe thead th {\n",
       "        text-align: right;\n",
       "    }\n",
       "</style>\n",
       "<table border=\"1\" class=\"dataframe\">\n",
       "  <thead>\n",
       "    <tr style=\"text-align: right;\">\n",
       "      <th></th>\n",
       "      <th>Date</th>\n",
       "      <th>Status</th>\n",
       "      <th>TT</th>\n",
       "      <th>AN</th>\n",
       "      <th>AP</th>\n",
       "      <th>AR</th>\n",
       "      <th>AS</th>\n",
       "      <th>BR</th>\n",
       "      <th>CH</th>\n",
       "      <th>CT</th>\n",
       "      <th>...</th>\n",
       "      <th>PB</th>\n",
       "      <th>RJ</th>\n",
       "      <th>SK</th>\n",
       "      <th>TN</th>\n",
       "      <th>TG</th>\n",
       "      <th>TR</th>\n",
       "      <th>UP</th>\n",
       "      <th>UT</th>\n",
       "      <th>WB</th>\n",
       "      <th>UN</th>\n",
       "    </tr>\n",
       "  </thead>\n",
       "  <tbody>\n",
       "    <tr>\n",
       "      <th>495</th>\n",
       "      <td>26-Aug-20</td>\n",
       "      <td>Confirmed</td>\n",
       "      <td>75995</td>\n",
       "      <td>40</td>\n",
       "      <td>10830</td>\n",
       "      <td>143</td>\n",
       "      <td>2179</td>\n",
       "      <td>2163</td>\n",
       "      <td>167</td>\n",
       "      <td>1209</td>\n",
       "      <td>...</td>\n",
       "      <td>1513</td>\n",
       "      <td>1345</td>\n",
       "      <td>11</td>\n",
       "      <td>5958</td>\n",
       "      <td>3018</td>\n",
       "      <td>329</td>\n",
       "      <td>5640</td>\n",
       "      <td>535</td>\n",
       "      <td>2974</td>\n",
       "      <td>0</td>\n",
       "    </tr>\n",
       "    <tr>\n",
       "      <th>496</th>\n",
       "      <td>26-Aug-20</td>\n",
       "      <td>Recovered</td>\n",
       "      <td>56191</td>\n",
       "      <td>78</td>\n",
       "      <td>8473</td>\n",
       "      <td>55</td>\n",
       "      <td>2148</td>\n",
       "      <td>2234</td>\n",
       "      <td>87</td>\n",
       "      <td>413</td>\n",
       "      <td>...</td>\n",
       "      <td>1086</td>\n",
       "      <td>1453</td>\n",
       "      <td>22</td>\n",
       "      <td>5606</td>\n",
       "      <td>1060</td>\n",
       "      <td>160</td>\n",
       "      <td>3808</td>\n",
       "      <td>323</td>\n",
       "      <td>3314</td>\n",
       "      <td>0</td>\n",
       "    </tr>\n",
       "    <tr>\n",
       "      <th>497</th>\n",
       "      <td>26-Aug-20</td>\n",
       "      <td>Deceased</td>\n",
       "      <td>1017</td>\n",
       "      <td>4</td>\n",
       "      <td>81</td>\n",
       "      <td>0</td>\n",
       "      <td>14</td>\n",
       "      <td>9</td>\n",
       "      <td>1</td>\n",
       "      <td>10</td>\n",
       "      <td>...</td>\n",
       "      <td>41</td>\n",
       "      <td>12</td>\n",
       "      <td>0</td>\n",
       "      <td>118</td>\n",
       "      <td>10</td>\n",
       "      <td>4</td>\n",
       "      <td>82</td>\n",
       "      <td>6</td>\n",
       "      <td>55</td>\n",
       "      <td>0</td>\n",
       "    </tr>\n",
       "    <tr>\n",
       "      <th>498</th>\n",
       "      <td>27-Aug-20</td>\n",
       "      <td>Confirmed</td>\n",
       "      <td>76826</td>\n",
       "      <td>33</td>\n",
       "      <td>10621</td>\n",
       "      <td>78</td>\n",
       "      <td>2036</td>\n",
       "      <td>1860</td>\n",
       "      <td>188</td>\n",
       "      <td>1438</td>\n",
       "      <td>...</td>\n",
       "      <td>1746</td>\n",
       "      <td>1345</td>\n",
       "      <td>56</td>\n",
       "      <td>5981</td>\n",
       "      <td>2795</td>\n",
       "      <td>385</td>\n",
       "      <td>5391</td>\n",
       "      <td>728</td>\n",
       "      <td>2997</td>\n",
       "      <td>0</td>\n",
       "    </tr>\n",
       "    <tr>\n",
       "      <th>499</th>\n",
       "      <td>27-Aug-20</td>\n",
       "      <td>Recovered</td>\n",
       "      <td>59620</td>\n",
       "      <td>65</td>\n",
       "      <td>8528</td>\n",
       "      <td>58</td>\n",
       "      <td>2345</td>\n",
       "      <td>2931</td>\n",
       "      <td>177</td>\n",
       "      <td>462</td>\n",
       "      <td>...</td>\n",
       "      <td>741</td>\n",
       "      <td>1006</td>\n",
       "      <td>75</td>\n",
       "      <td>5870</td>\n",
       "      <td>872</td>\n",
       "      <td>123</td>\n",
       "      <td>4331</td>\n",
       "      <td>251</td>\n",
       "      <td>3189</td>\n",
       "      <td>0</td>\n",
       "    </tr>\n",
       "    <tr>\n",
       "      <th>500</th>\n",
       "      <td>27-Aug-20</td>\n",
       "      <td>Deceased</td>\n",
       "      <td>1065</td>\n",
       "      <td>1</td>\n",
       "      <td>92</td>\n",
       "      <td>0</td>\n",
       "      <td>4</td>\n",
       "      <td>9</td>\n",
       "      <td>2</td>\n",
       "      <td>14</td>\n",
       "      <td>...</td>\n",
       "      <td>37</td>\n",
       "      <td>13</td>\n",
       "      <td>0</td>\n",
       "      <td>109</td>\n",
       "      <td>8</td>\n",
       "      <td>2</td>\n",
       "      <td>76</td>\n",
       "      <td>9</td>\n",
       "      <td>53</td>\n",
       "      <td>0</td>\n",
       "    </tr>\n",
       "  </tbody>\n",
       "</table>\n",
       "<p>6 rows × 41 columns</p>\n",
       "</div>"
      ],
      "text/plain": [
       "          Date     Status     TT  AN     AP   AR    AS    BR   CH    CT  ...  \\\n",
       "495  26-Aug-20  Confirmed  75995  40  10830  143  2179  2163  167  1209  ...   \n",
       "496  26-Aug-20  Recovered  56191  78   8473   55  2148  2234   87   413  ...   \n",
       "497  26-Aug-20   Deceased   1017   4     81    0    14     9    1    10  ...   \n",
       "498  27-Aug-20  Confirmed  76826  33  10621   78  2036  1860  188  1438  ...   \n",
       "499  27-Aug-20  Recovered  59620  65   8528   58  2345  2931  177   462  ...   \n",
       "500  27-Aug-20   Deceased   1065   1     92    0     4     9    2    14  ...   \n",
       "\n",
       "       PB    RJ  SK    TN    TG   TR    UP   UT    WB  UN  \n",
       "495  1513  1345  11  5958  3018  329  5640  535  2974   0  \n",
       "496  1086  1453  22  5606  1060  160  3808  323  3314   0  \n",
       "497    41    12   0   118    10    4    82    6    55   0  \n",
       "498  1746  1345  56  5981  2795  385  5391  728  2997   0  \n",
       "499   741  1006  75  5870   872  123  4331  251  3189   0  \n",
       "500    37    13   0   109     8    2    76    9    53   0  \n",
       "\n",
       "[6 rows x 41 columns]"
      ]
     },
     "execution_count": 3,
     "metadata": {},
     "output_type": "execute_result"
    }
   ],
   "source": [
    "#hide\n",
    "df.tail(6)"
   ]
  },
  {
   "cell_type": "code",
   "execution_count": 4,
   "metadata": {
    "execution": {
     "iopub.execute_input": "2020-08-27T19:11:16.724658Z",
     "iopub.status.busy": "2020-08-27T19:11:16.724112Z",
     "iopub.status.idle": "2020-08-27T19:11:16.726880Z",
     "shell.execute_reply": "2020-08-27T19:11:16.727317Z"
    },
    "papermill": {
     "duration": 0.018598,
     "end_time": "2020-08-27T19:11:16.727433",
     "exception": false,
     "start_time": "2020-08-27T19:11:16.708835",
     "status": "completed"
    },
    "tags": []
   },
   "outputs": [
    {
     "data": {
      "text/plain": [
       "('27-Aug-20', '26-Aug-20')"
      ]
     },
     "execution_count": 4,
     "metadata": {},
     "output_type": "execute_result"
    }
   ],
   "source": [
    "#hide\n",
    "dt_today = df.iloc[-1][0]\n",
    "dt_yday = df.iloc[-4][0]\n",
    "dt_today, dt_yday"
   ]
  },
  {
   "cell_type": "code",
   "execution_count": 5,
   "metadata": {
    "execution": {
     "iopub.execute_input": "2020-08-27T19:11:16.756221Z",
     "iopub.status.busy": "2020-08-27T19:11:16.755567Z",
     "iopub.status.idle": "2020-08-27T19:11:16.762489Z",
     "shell.execute_reply": "2020-08-27T19:11:16.762006Z"
    },
    "papermill": {
     "duration": 0.023775,
     "end_time": "2020-08-27T19:11:16.762592",
     "exception": false,
     "start_time": "2020-08-27T19:11:16.738817",
     "status": "completed"
    },
    "tags": []
   },
   "outputs": [],
   "source": [
    "#hide\n",
    "df_today = df.groupby('Status').sum()\n",
    "df_yday = df.iloc[:-3][:].groupby('Status').sum()"
   ]
  },
  {
   "cell_type": "code",
   "execution_count": 6,
   "metadata": {
    "execution": {
     "iopub.execute_input": "2020-08-27T19:11:16.791689Z",
     "iopub.status.busy": "2020-08-27T19:11:16.790946Z",
     "iopub.status.idle": "2020-08-27T19:11:16.804387Z",
     "shell.execute_reply": "2020-08-27T19:11:16.803651Z"
    },
    "papermill": {
     "duration": 0.030218,
     "end_time": "2020-08-27T19:11:16.804554",
     "exception": false,
     "start_time": "2020-08-27T19:11:16.774336",
     "status": "completed"
    },
    "tags": []
   },
   "outputs": [
    {
     "data": {
      "text/html": [
       "<div>\n",
       "<style scoped>\n",
       "    .dataframe tbody tr th:only-of-type {\n",
       "        vertical-align: middle;\n",
       "    }\n",
       "\n",
       "    .dataframe tbody tr th {\n",
       "        vertical-align: top;\n",
       "    }\n",
       "\n",
       "    .dataframe thead th {\n",
       "        text-align: right;\n",
       "    }\n",
       "</style>\n",
       "<table border=\"1\" class=\"dataframe\">\n",
       "  <thead>\n",
       "    <tr style=\"text-align: right;\">\n",
       "      <th></th>\n",
       "      <th>TT</th>\n",
       "      <th>AN</th>\n",
       "      <th>AP</th>\n",
       "      <th>AR</th>\n",
       "      <th>AS</th>\n",
       "      <th>BR</th>\n",
       "      <th>CH</th>\n",
       "      <th>CT</th>\n",
       "      <th>DN</th>\n",
       "      <th>DD</th>\n",
       "      <th>...</th>\n",
       "      <th>PB</th>\n",
       "      <th>RJ</th>\n",
       "      <th>SK</th>\n",
       "      <th>TN</th>\n",
       "      <th>TG</th>\n",
       "      <th>TR</th>\n",
       "      <th>UP</th>\n",
       "      <th>UT</th>\n",
       "      <th>WB</th>\n",
       "      <th>UN</th>\n",
       "    </tr>\n",
       "    <tr>\n",
       "      <th>Status</th>\n",
       "      <th></th>\n",
       "      <th></th>\n",
       "      <th></th>\n",
       "      <th></th>\n",
       "      <th></th>\n",
       "      <th></th>\n",
       "      <th></th>\n",
       "      <th></th>\n",
       "      <th></th>\n",
       "      <th></th>\n",
       "      <th></th>\n",
       "      <th></th>\n",
       "      <th></th>\n",
       "      <th></th>\n",
       "      <th></th>\n",
       "      <th></th>\n",
       "      <th></th>\n",
       "      <th></th>\n",
       "      <th></th>\n",
       "      <th></th>\n",
       "      <th></th>\n",
       "    </tr>\n",
       "  </thead>\n",
       "  <tbody>\n",
       "    <tr>\n",
       "      <th>Confirmed</th>\n",
       "      <td>3383925</td>\n",
       "      <td>3014</td>\n",
       "      <td>393090</td>\n",
       "      <td>3633</td>\n",
       "      <td>98706</td>\n",
       "      <td>128850</td>\n",
       "      <td>3564</td>\n",
       "      <td>25988</td>\n",
       "      <td>2264</td>\n",
       "      <td>0</td>\n",
       "      <td>...</td>\n",
       "      <td>47836</td>\n",
       "      <td>76015</td>\n",
       "      <td>1555</td>\n",
       "      <td>403242</td>\n",
       "      <td>113973</td>\n",
       "      <td>9924</td>\n",
       "      <td>208419</td>\n",
       "      <td>17277</td>\n",
       "      <td>150772</td>\n",
       "      <td>0</td>\n",
       "    </tr>\n",
       "    <tr>\n",
       "      <th>Deceased</th>\n",
       "      <td>61705</td>\n",
       "      <td>42</td>\n",
       "      <td>3633</td>\n",
       "      <td>5</td>\n",
       "      <td>282</td>\n",
       "      <td>662</td>\n",
       "      <td>43</td>\n",
       "      <td>245</td>\n",
       "      <td>2</td>\n",
       "      <td>0</td>\n",
       "      <td>...</td>\n",
       "      <td>1256</td>\n",
       "      <td>1005</td>\n",
       "      <td>3</td>\n",
       "      <td>6948</td>\n",
       "      <td>788</td>\n",
       "      <td>85</td>\n",
       "      <td>3217</td>\n",
       "      <td>228</td>\n",
       "      <td>3017</td>\n",
       "      <td>0</td>\n",
       "    </tr>\n",
       "    <tr>\n",
       "      <th>Recovered</th>\n",
       "      <td>2583056</td>\n",
       "      <td>2365</td>\n",
       "      <td>295248</td>\n",
       "      <td>2621</td>\n",
       "      <td>79308</td>\n",
       "      <td>109696</td>\n",
       "      <td>1977</td>\n",
       "      <td>14607</td>\n",
       "      <td>1913</td>\n",
       "      <td>0</td>\n",
       "      <td>...</td>\n",
       "      <td>30972</td>\n",
       "      <td>60585</td>\n",
       "      <td>1152</td>\n",
       "      <td>343930</td>\n",
       "      <td>86095</td>\n",
       "      <td>6697</td>\n",
       "      <td>152893</td>\n",
       "      <td>11775</td>\n",
       "      <td>121046</td>\n",
       "      <td>0</td>\n",
       "    </tr>\n",
       "  </tbody>\n",
       "</table>\n",
       "<p>3 rows × 39 columns</p>\n",
       "</div>"
      ],
      "text/plain": [
       "                TT    AN      AP    AR     AS      BR    CH     CT    DN  DD  \\\n",
       "Status                                                                         \n",
       "Confirmed  3383925  3014  393090  3633  98706  128850  3564  25988  2264   0   \n",
       "Deceased     61705    42    3633     5    282     662    43    245     2   0   \n",
       "Recovered  2583056  2365  295248  2621  79308  109696  1977  14607  1913   0   \n",
       "\n",
       "           ...     PB     RJ    SK      TN      TG    TR      UP     UT  \\\n",
       "Status     ...                                                            \n",
       "Confirmed  ...  47836  76015  1555  403242  113973  9924  208419  17277   \n",
       "Deceased   ...   1256   1005     3    6948     788    85    3217    228   \n",
       "Recovered  ...  30972  60585  1152  343930   86095  6697  152893  11775   \n",
       "\n",
       "               WB  UN  \n",
       "Status                 \n",
       "Confirmed  150772   0  \n",
       "Deceased     3017   0  \n",
       "Recovered  121046   0  \n",
       "\n",
       "[3 rows x 39 columns]"
      ]
     },
     "execution_count": 6,
     "metadata": {},
     "output_type": "execute_result"
    }
   ],
   "source": [
    "#hide\n",
    "df_today"
   ]
  },
  {
   "cell_type": "code",
   "execution_count": 7,
   "metadata": {
    "execution": {
     "iopub.execute_input": "2020-08-27T19:11:16.843864Z",
     "iopub.status.busy": "2020-08-27T19:11:16.839781Z",
     "iopub.status.idle": "2020-08-27T19:11:16.847211Z",
     "shell.execute_reply": "2020-08-27T19:11:16.846677Z"
    },
    "papermill": {
     "duration": 0.0301,
     "end_time": "2020-08-27T19:11:16.847354",
     "exception": false,
     "start_time": "2020-08-27T19:11:16.817254",
     "status": "completed"
    },
    "tags": []
   },
   "outputs": [
    {
     "data": {
      "text/html": [
       "<div>\n",
       "<style scoped>\n",
       "    .dataframe tbody tr th:only-of-type {\n",
       "        vertical-align: middle;\n",
       "    }\n",
       "\n",
       "    .dataframe tbody tr th {\n",
       "        vertical-align: top;\n",
       "    }\n",
       "\n",
       "    .dataframe thead th {\n",
       "        text-align: right;\n",
       "    }\n",
       "</style>\n",
       "<table border=\"1\" class=\"dataframe\">\n",
       "  <thead>\n",
       "    <tr style=\"text-align: right;\">\n",
       "      <th></th>\n",
       "      <th>TT</th>\n",
       "      <th>AN</th>\n",
       "      <th>AP</th>\n",
       "      <th>AR</th>\n",
       "      <th>AS</th>\n",
       "      <th>BR</th>\n",
       "      <th>CH</th>\n",
       "      <th>CT</th>\n",
       "      <th>DN</th>\n",
       "      <th>DD</th>\n",
       "      <th>...</th>\n",
       "      <th>PB</th>\n",
       "      <th>RJ</th>\n",
       "      <th>SK</th>\n",
       "      <th>TN</th>\n",
       "      <th>TG</th>\n",
       "      <th>TR</th>\n",
       "      <th>UP</th>\n",
       "      <th>UT</th>\n",
       "      <th>WB</th>\n",
       "      <th>UN</th>\n",
       "    </tr>\n",
       "    <tr>\n",
       "      <th>Status</th>\n",
       "      <th></th>\n",
       "      <th></th>\n",
       "      <th></th>\n",
       "      <th></th>\n",
       "      <th></th>\n",
       "      <th></th>\n",
       "      <th></th>\n",
       "      <th></th>\n",
       "      <th></th>\n",
       "      <th></th>\n",
       "      <th></th>\n",
       "      <th></th>\n",
       "      <th></th>\n",
       "      <th></th>\n",
       "      <th></th>\n",
       "      <th></th>\n",
       "      <th></th>\n",
       "      <th></th>\n",
       "      <th></th>\n",
       "      <th></th>\n",
       "      <th></th>\n",
       "    </tr>\n",
       "  </thead>\n",
       "  <tbody>\n",
       "    <tr>\n",
       "      <th>Confirmed</th>\n",
       "      <td>3307099</td>\n",
       "      <td>2981</td>\n",
       "      <td>382469</td>\n",
       "      <td>3555</td>\n",
       "      <td>96670</td>\n",
       "      <td>126990</td>\n",
       "      <td>3376</td>\n",
       "      <td>24550</td>\n",
       "      <td>2222</td>\n",
       "      <td>0</td>\n",
       "      <td>...</td>\n",
       "      <td>46090</td>\n",
       "      <td>74670</td>\n",
       "      <td>1499</td>\n",
       "      <td>397261</td>\n",
       "      <td>111178</td>\n",
       "      <td>9539</td>\n",
       "      <td>203028</td>\n",
       "      <td>16549</td>\n",
       "      <td>147775</td>\n",
       "      <td>0</td>\n",
       "    </tr>\n",
       "    <tr>\n",
       "      <th>Deceased</th>\n",
       "      <td>60640</td>\n",
       "      <td>41</td>\n",
       "      <td>3541</td>\n",
       "      <td>5</td>\n",
       "      <td>278</td>\n",
       "      <td>653</td>\n",
       "      <td>41</td>\n",
       "      <td>231</td>\n",
       "      <td>2</td>\n",
       "      <td>0</td>\n",
       "      <td>...</td>\n",
       "      <td>1219</td>\n",
       "      <td>992</td>\n",
       "      <td>3</td>\n",
       "      <td>6839</td>\n",
       "      <td>780</td>\n",
       "      <td>83</td>\n",
       "      <td>3141</td>\n",
       "      <td>219</td>\n",
       "      <td>2964</td>\n",
       "      <td>0</td>\n",
       "    </tr>\n",
       "    <tr>\n",
       "      <th>Recovered</th>\n",
       "      <td>2523436</td>\n",
       "      <td>2300</td>\n",
       "      <td>286720</td>\n",
       "      <td>2563</td>\n",
       "      <td>76963</td>\n",
       "      <td>106765</td>\n",
       "      <td>1800</td>\n",
       "      <td>14145</td>\n",
       "      <td>1857</td>\n",
       "      <td>0</td>\n",
       "      <td>...</td>\n",
       "      <td>30231</td>\n",
       "      <td>59579</td>\n",
       "      <td>1077</td>\n",
       "      <td>338060</td>\n",
       "      <td>85223</td>\n",
       "      <td>6574</td>\n",
       "      <td>148562</td>\n",
       "      <td>11524</td>\n",
       "      <td>117857</td>\n",
       "      <td>0</td>\n",
       "    </tr>\n",
       "  </tbody>\n",
       "</table>\n",
       "<p>3 rows × 39 columns</p>\n",
       "</div>"
      ],
      "text/plain": [
       "                TT    AN      AP    AR     AS      BR    CH     CT    DN  DD  \\\n",
       "Status                                                                         \n",
       "Confirmed  3307099  2981  382469  3555  96670  126990  3376  24550  2222   0   \n",
       "Deceased     60640    41    3541     5    278     653    41    231     2   0   \n",
       "Recovered  2523436  2300  286720  2563  76963  106765  1800  14145  1857   0   \n",
       "\n",
       "           ...     PB     RJ    SK      TN      TG    TR      UP     UT  \\\n",
       "Status     ...                                                            \n",
       "Confirmed  ...  46090  74670  1499  397261  111178  9539  203028  16549   \n",
       "Deceased   ...   1219    992     3    6839     780    83    3141    219   \n",
       "Recovered  ...  30231  59579  1077  338060   85223  6574  148562  11524   \n",
       "\n",
       "               WB  UN  \n",
       "Status                 \n",
       "Confirmed  147775   0  \n",
       "Deceased     2964   0  \n",
       "Recovered  117857   0  \n",
       "\n",
       "[3 rows x 39 columns]"
      ]
     },
     "execution_count": 7,
     "metadata": {},
     "output_type": "execute_result"
    }
   ],
   "source": [
    "#hide\n",
    "df_yday.head()"
   ]
  },
  {
   "cell_type": "code",
   "execution_count": 8,
   "metadata": {
    "execution": {
     "iopub.execute_input": "2020-08-27T19:11:16.883533Z",
     "iopub.status.busy": "2020-08-27T19:11:16.882822Z",
     "iopub.status.idle": "2020-08-27T19:11:16.886253Z",
     "shell.execute_reply": "2020-08-27T19:11:16.885655Z"
    },
    "papermill": {
     "duration": 0.025413,
     "end_time": "2020-08-27T19:11:16.886366",
     "exception": false,
     "start_time": "2020-08-27T19:11:16.860953",
     "status": "completed"
    },
    "tags": []
   },
   "outputs": [
    {
     "data": {
      "text/plain": [
       "{'updated': '27-Aug-20',\n",
       " 'since': '26-Aug-20',\n",
       " 'Cases': 3383925,\n",
       " 'Deaths': 61705,\n",
       " 'Recovered': 2583056,\n",
       " 'PCases': 3307099,\n",
       " 'PDeaths': 60640,\n",
       " 'PRecovered': 2523436,\n",
       " 'Cases (+)': 76826,\n",
       " 'Deaths (+)': 1065,\n",
       " 'Recovered (+)': 59620}"
      ]
     },
     "execution_count": 8,
     "metadata": {},
     "output_type": "execute_result"
    }
   ],
   "source": [
    "#hide\n",
    "summary = {\n",
    "    'updated' : dt_today,\n",
    "    'since' : dt_yday,\n",
    "    'Cases' : df_today['TT'][0],\n",
    "    'Deaths' : df_today['TT'][1],\n",
    "    'Recovered' : df_today['TT'][2],\n",
    "    'PCases' : df_yday['TT'][0],\n",
    "    'PDeaths' : df_yday['TT'][1],\n",
    "    'PRecovered': df_yday['TT'][2],\n",
    "    'Cases (+)' : df_today['TT'][0] - df_yday['TT'][0],\n",
    "    'Deaths (+)' : df_today['TT'][1] - df_yday['TT'][1],\n",
    "    'Recovered (+)': df_today['TT'][2] - df_yday['TT'][2]\n",
    "}\n",
    "\n",
    "summary"
   ]
  },
  {
   "cell_type": "code",
   "execution_count": 9,
   "metadata": {
    "execution": {
     "iopub.execute_input": "2020-08-27T19:11:16.919849Z",
     "iopub.status.busy": "2020-08-27T19:11:16.919161Z",
     "iopub.status.idle": "2020-08-27T19:11:16.921051Z",
     "shell.execute_reply": "2020-08-27T19:11:16.921464Z"
    },
    "papermill": {
     "duration": 0.019681,
     "end_time": "2020-08-27T19:11:16.921581",
     "exception": false,
     "start_time": "2020-08-27T19:11:16.901900",
     "status": "completed"
    },
    "tags": []
   },
   "outputs": [],
   "source": [
    "#hide\n",
    "overview = '''\n",
    "<!-- #######  HTML!! #########-->\n",
    "<h1 style=\"color: #5e9ca0; text-align: center;\">India</h1>\n",
    "<p style=\"text-align: center;\">Last update: <strong>{update}</strong></p>\n",
    "<p style=\"text-align: center;\">Confirmed cases:</p>\n",
    "<p style=\"text-align: center;font-size:24px;\">{cases} (<span style=\"color: #ff0000;\">+{new}</span>)</p>\n",
    "<p style=\"text-align: center;\">Confirmed deaths:</p>\n",
    "<p style=\"text-align: center;font-size:24px;\">{deaths} (<span style=\"color: #ff0000;\">+{dnew}</span>)</p>\n",
    "<p style=\"text-align: center;\">Recovered cases:</p>\n",
    "<p style=\"text-align: center;font-size:24px;\">{recovered} (<span style=\"color: #00ff00;\">+{rnew}</span>)</p>\n",
    "'''"
   ]
  },
  {
   "cell_type": "code",
   "execution_count": 10,
   "metadata": {
    "execution": {
     "iopub.execute_input": "2020-08-27T19:11:16.954023Z",
     "iopub.status.busy": "2020-08-27T19:11:16.953387Z",
     "iopub.status.idle": "2020-08-27T19:11:16.956561Z",
     "shell.execute_reply": "2020-08-27T19:11:16.956121Z"
    },
    "papermill": {
     "duration": 0.02153,
     "end_time": "2020-08-27T19:11:16.956661",
     "exception": false,
     "start_time": "2020-08-27T19:11:16.935131",
     "status": "completed"
    },
    "tags": []
   },
   "outputs": [
    {
     "data": {
      "text/html": [
       "\n",
       "<!-- #######  HTML!! #########-->\n",
       "<h1 style=\"color: #5e9ca0; text-align: center;\">India</h1>\n",
       "<p style=\"text-align: center;\">Last update: <strong>27-Aug-20</strong></p>\n",
       "<p style=\"text-align: center;\">Confirmed cases:</p>\n",
       "<p style=\"text-align: center;font-size:24px;\">3383925 (<span style=\"color: #ff0000;\">+76826</span>)</p>\n",
       "<p style=\"text-align: center;\">Confirmed deaths:</p>\n",
       "<p style=\"text-align: center;font-size:24px;\">61705 (<span style=\"color: #ff0000;\">+1065</span>)</p>\n",
       "<p style=\"text-align: center;\">Recovered cases:</p>\n",
       "<p style=\"text-align: center;font-size:24px;\">2583056 (<span style=\"color: #00ff00;\">+59620</span>)</p>\n"
      ],
      "text/plain": [
       "<IPython.core.display.HTML object>"
      ]
     },
     "metadata": {},
     "output_type": "display_data"
    }
   ],
   "source": [
    "#hide_input\n",
    "# Fill the above HTML with the information from the summary dictionary\n",
    "\n",
    "update = summary['updated']\n",
    "cases = summary['Cases']\n",
    "new = summary['Cases (+)']\n",
    "deaths = summary['Deaths']\n",
    "dnew = summary['Deaths (+)']\n",
    "recovered = summary['Recovered']\n",
    "rnew = summary['Recovered (+)']\n",
    "\n",
    "html = HTML(overview.format(update=update, cases=cases,new=new,deaths=deaths,dnew=dnew, recovered=recovered, rnew=rnew))\n",
    "\n",
    "display(html)"
   ]
  },
  {
   "cell_type": "code",
   "execution_count": 11,
   "metadata": {
    "execution": {
     "iopub.execute_input": "2020-08-27T19:11:16.997732Z",
     "iopub.status.busy": "2020-08-27T19:11:16.997004Z",
     "iopub.status.idle": "2020-08-27T19:11:17.000648Z",
     "shell.execute_reply": "2020-08-27T19:11:17.001267Z"
    },
    "papermill": {
     "duration": 0.027663,
     "end_time": "2020-08-27T19:11:17.001433",
     "exception": false,
     "start_time": "2020-08-27T19:11:16.973770",
     "status": "completed"
    },
    "tags": []
   },
   "outputs": [],
   "source": [
    "#hide\n",
    "df_cases = df[df['Status'] == 'Confirmed'].copy()\n",
    "df_cases.drop(columns = ['Status'], inplace=True)\n",
    "df_deaths = df[df['Status'] == 'Deceased'].copy()\n",
    "df_deaths.drop(columns = ['Status'], inplace=True)\n",
    "df_recovered = df[df['Status'] == 'Recovered'].copy()\n",
    "df_recovered.drop(columns = ['Status'], inplace=True)"
   ]
  },
  {
   "cell_type": "markdown",
   "metadata": {
    "papermill": {
     "duration": 0.013873,
     "end_time": "2020-08-27T19:11:17.029956",
     "exception": false,
     "start_time": "2020-08-27T19:11:17.016083",
     "status": "completed"
    },
    "tags": []
   },
   "source": [
    "Plot for India:"
   ]
  },
  {
   "cell_type": "code",
   "execution_count": 12,
   "metadata": {
    "execution": {
     "iopub.execute_input": "2020-08-27T19:11:17.075854Z",
     "iopub.status.busy": "2020-08-27T19:11:17.075262Z",
     "iopub.status.idle": "2020-08-27T19:11:17.321134Z",
     "shell.execute_reply": "2020-08-27T19:11:17.321557Z"
    },
    "papermill": {
     "duration": 0.278989,
     "end_time": "2020-08-27T19:11:17.321691",
     "exception": false,
     "start_time": "2020-08-27T19:11:17.042702",
     "status": "completed"
    },
    "tags": []
   },
   "outputs": [
    {
     "data": {
      "image/png": "[encoded data removed]",
      "text/plain": [
       "<Figure size 1296x432 with 1 Axes>"
      ]
     },
     "metadata": {
      "needs_background": "light"
     },
     "output_type": "display_data"
    }
   ],
   "source": [
    "#hide_input\n",
    "plt.figure(figsize = (18,6))\n",
    "plt.plot(df_cases['Date'], df_cases['TT'],'.-', alpha=0.7, color='b', label='Confirmed cases')\n",
    "plt.plot(df_recovered['Date'], df_recovered['TT'],'.-', alpha=0.7, color='g', label='Recovered')\n",
    "plt.plot(df_deaths['Date'], df_deaths['TT'],'.-', alpha=0.7, color='r', label='Deceased')\n",
    "plt.legend()\n",
    "plt.title(\"Cases per day in India\")\n",
    "plt.xticks(ticks=' ')\n",
    "plt.xlabel(f'{df_cases.iloc[0][0]} to {df_cases.iloc[-1][0]}')\n",
    "plt.ylabel('No. of cases');"
   ]
  },
  {
   "cell_type": "markdown",
   "metadata": {
    "papermill": {
     "duration": 0.015185,
     "end_time": "2020-08-27T19:11:17.351419",
     "exception": false,
     "start_time": "2020-08-27T19:11:17.336234",
     "status": "completed"
    },
    "tags": []
   },
   "source": [
    "Plots for the states with highest number of cases:"
   ]
  },
  {
   "cell_type": "code",
   "execution_count": 13,
   "metadata": {
    "execution": {
     "iopub.execute_input": "2020-08-27T19:11:17.390595Z",
     "iopub.status.busy": "2020-08-27T19:11:17.390020Z",
     "iopub.status.idle": "2020-08-27T19:11:17.999030Z",
     "shell.execute_reply": "2020-08-27T19:11:17.999509Z"
    },
    "papermill": {
     "duration": 0.631785,
     "end_time": "2020-08-27T19:11:17.999660",
     "exception": false,
     "start_time": "2020-08-27T19:11:17.367875",
     "status": "completed"
    },
    "tags": []
   },
   "outputs": [
    {
     "data": {
      "image/png": "[encoded data removed]",
      "text/plain": [
       "<Figure size 1512x432 with 3 Axes>"
      ]
     },
     "metadata": {
      "needs_background": "light"
     },
     "output_type": "display_data"
    }
   ],
   "source": [
    "#hide_input\n",
    "top_3 = sorted(df_cases.sum().values[1:], reverse=True)[1:4]\n",
    "top3_states=[]\n",
    "for i in top_3:\n",
    "    top3_states.append(df_cases.sum()[df_cases.sum() == i].index)\n",
    "\n",
    "\n",
    "fig, ax = plt.subplots(1,3,figsize = (21,6))\n",
    "for i in range(3):\n",
    "    state = top3_states[i].values[0]\n",
    "    ax[i].plot(df_cases['Date'], df_cases[state],'.-', color='b', alpha=0.7)\n",
    "    ax[i].plot(df_deaths['Date'], df_deaths[state],'.-', color='r', alpha=0.7)\n",
    "    ax[i].plot(df_recovered['Date'], df_recovered[state],'.-', color='g', alpha=0.7)\n",
    "    \n",
    "    ax[i].set_title(f\"Cases in {state}\")\n",
    "    ax[i].set_xticks(ticks=' ')\n",
    "    ax[i].set_xlabel(f'{df_cases.iloc[0][0]} to {df_cases.iloc[-1][0]}')\n",
    "    ax[i].set_ylabel('No. of cases');"
   ]
  },
  {
   "cell_type": "code",
   "execution_count": null,
   "metadata": {
    "papermill": {
     "duration": 0.019778,
     "end_time": "2020-08-27T19:11:18.039795",
     "exception": false,
     "start_time": "2020-08-27T19:11:18.020017",
     "status": "completed"
    },
    "tags": []
   },
   "outputs": [],
   "source": []
  },
  {
   "cell_type": "code",
   "execution_count": null,
   "metadata": {
    "papermill": {
     "duration": 0.018161,
     "end_time": "2020-08-27T19:11:18.075974",
     "exception": false,
     "start_time": "2020-08-27T19:11:18.057813",
     "status": "completed"
    },
    "tags": []
   },
   "outputs": [],
   "source": []
  },
  {
   "cell_type": "code",
   "execution_count": null,
   "metadata": {
    "papermill": {
     "duration": 0.017693,
     "end_time": "2020-08-27T19:11:18.109823",
     "exception": false,
     "start_time": "2020-08-27T19:11:18.092130",
     "status": "completed"
    },
    "tags": []
   },
   "outputs": [],
   "source": []
  }
 ],
 "metadata": {
  "kernelspec": {
   "display_name": "Python 3",
   "language": "python",
   "name": "python3"
  },
  "language_info": {
   "codemirror_mode": {
    "name": "ipython",
    "version": 3
   },
   "file_extension": ".py",
   "mimetype": "text/x-python",
   "name": "python",
   "nbconvert_exporter": "python",
   "pygments_lexer": "ipython3",
   "version": "3.6.11"
  },
  "papermill": {
   "duration": 3.676704,
   "end_time": "2020-08-27T19:11:18.434453",
   "environment_variables": {},
   "exception": null,
   "input_path": "2020-08-09-DailyUpdate.ipynb",
   "output_path": "2020-08-09-DailyUpdate.ipynb",
   "parameters": {},
   "start_time": "2020-08-27T19:11:14.757749",
   "version": "2.1.2"
  }
 },
 "nbformat": 4,
 "nbformat_minor": 4
}