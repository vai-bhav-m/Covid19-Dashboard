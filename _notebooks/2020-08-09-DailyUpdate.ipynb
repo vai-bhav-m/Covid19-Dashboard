{
 "cells": [
  {
   "cell_type": "markdown",
   "metadata": {
    "tags": [
     "papermill-error-cell-tag"
    ]
   },
   "source": [
    "<span style=\"color:red; font-family:Helvetica Neue, Helvetica, Arial, sans-serif; font-size:2em;\">An Exception was encountered at '<a href=\"#papermill-error-cell\">In [13]</a>'.</span>"
   ]
  },
  {
   "cell_type": "markdown",
   "metadata": {
    "papermill": {
     "duration": 0.027958,
     "end_time": "2020-10-23T19:14:38.582798",
     "exception": false,
     "start_time": "2020-10-23T19:14:38.554840",
     "status": "completed"
    },
    "tags": []
   },
   "source": [
    "# COVID-19 India Daily updates\n",
    "> Tracking coronavirus total cases, deaths and new cases in India on a daily basis\n",
    "\n",
    "- author: Vaibhav Mahapatra"
   ]
  },
  {
   "cell_type": "code",
   "execution_count": 1,
   "metadata": {
    "execution": {
     "iopub.execute_input": "2020-10-23T19:14:38.613747Z",
     "iopub.status.busy": "2020-10-23T19:14:38.613096Z",
     "iopub.status.idle": "2020-10-23T19:14:39.240613Z",
     "shell.execute_reply": "2020-10-23T19:14:39.240076Z"
    },
    "papermill": {
     "duration": 0.645419,
     "end_time": "2020-10-23T19:14:39.240774",
     "exception": false,
     "start_time": "2020-10-23T19:14:38.595355",
     "status": "completed"
    },
    "tags": []
   },
   "outputs": [],
   "source": [
    "#hide\n",
    "\n",
    "## Import essential packages below\n",
    "\n",
    "import pandas as pd\n",
    "import numpy as np\n",
    "import requests\n",
    "import json\n",
    "import matplotlib.pyplot as plt\n",
    "import matplotlib.dates as mdates\n",
    "import matplotlib as mpl\n",
    "from IPython.core.display import display,HTML\n",
    "%matplotlib inline"
   ]
  },
  {
   "cell_type": "code",
   "execution_count": 2,
   "metadata": {
    "execution": {
     "iopub.execute_input": "2020-10-23T19:14:39.270755Z",
     "iopub.status.busy": "2020-10-23T19:14:39.269833Z",
     "iopub.status.idle": "2020-10-23T19:14:39.403996Z",
     "shell.execute_reply": "2020-10-23T19:14:39.403531Z"
    },
    "papermill": {
     "duration": 0.151247,
     "end_time": "2020-10-23T19:14:39.404127",
     "exception": false,
     "start_time": "2020-10-23T19:14:39.252880",
     "status": "completed"
    },
    "tags": []
   },
   "outputs": [
    {
     "data": {
      "text/plain": [
       "(672, 42)"
      ]
     },
     "execution_count": 2,
     "metadata": {},
     "output_type": "execute_result"
    }
   ],
   "source": [
    "#hide\n",
    "url = 'https://api.covid19india.org/csv/latest/state_wise_daily.csv'\n",
    "df = pd.read_csv(url)\n",
    "df.shape"
   ]
  },
  {
   "cell_type": "code",
   "execution_count": 3,
   "metadata": {
    "execution": {
     "iopub.execute_input": "2020-10-23T19:14:39.482383Z",
     "iopub.status.busy": "2020-10-23T19:14:39.480830Z",
     "iopub.status.idle": "2020-10-23T19:14:39.492162Z",
     "shell.execute_reply": "2020-10-23T19:14:39.494758Z"
    },
    "papermill": {
     "duration": 0.078789,
     "end_time": "2020-10-23T19:14:39.495132",
     "exception": false,
     "start_time": "2020-10-23T19:14:39.416343",
     "status": "completed"
    },
    "tags": []
   },
   "outputs": [
    {
     "data": {
      "text/html": [
       "<div>\n",
       "<style scoped>\n",
       "    .dataframe tbody tr th:only-of-type {\n",
       "        vertical-align: middle;\n",
       "    }\n",
       "\n",
       "    .dataframe tbody tr th {\n",
       "        vertical-align: top;\n",
       "    }\n",
       "\n",
       "    .dataframe thead th {\n",
       "        text-align: right;\n",
       "    }\n",
       "</style>\n",
       "<table border=\"1\" class=\"dataframe\">\n",
       "  <thead>\n",
       "    <tr style=\"text-align: right;\">\n",
       "      <th></th>\n",
       "      <th>Date</th>\n",
       "      <th>Date_YMD</th>\n",
       "      <th>Status</th>\n",
       "      <th>TT</th>\n",
       "      <th>AN</th>\n",
       "      <th>AP</th>\n",
       "      <th>AR</th>\n",
       "      <th>AS</th>\n",
       "      <th>BR</th>\n",
       "      <th>CH</th>\n",
       "      <th>...</th>\n",
       "      <th>PB</th>\n",
       "      <th>RJ</th>\n",
       "      <th>SK</th>\n",
       "      <th>TN</th>\n",
       "      <th>TG</th>\n",
       "      <th>TR</th>\n",
       "      <th>UP</th>\n",
       "      <th>UT</th>\n",
       "      <th>WB</th>\n",
       "      <th>UN</th>\n",
       "    </tr>\n",
       "  </thead>\n",
       "  <tbody>\n",
       "    <tr>\n",
       "      <th>666</th>\n",
       "      <td>22-Oct-20</td>\n",
       "      <td>2020-10-18</td>\n",
       "      <td>Confirmed</td>\n",
       "      <td>54367</td>\n",
       "      <td>16</td>\n",
       "      <td>3620</td>\n",
       "      <td>165</td>\n",
       "      <td>508</td>\n",
       "      <td>1058</td>\n",
       "      <td>51</td>\n",
       "      <td>...</td>\n",
       "      <td>605</td>\n",
       "      <td>1822</td>\n",
       "      <td>50</td>\n",
       "      <td>3077</td>\n",
       "      <td>1456</td>\n",
       "      <td>125</td>\n",
       "      <td>2383</td>\n",
       "      <td>402</td>\n",
       "      <td>4157</td>\n",
       "      <td>0</td>\n",
       "    </tr>\n",
       "    <tr>\n",
       "      <th>667</th>\n",
       "      <td>22-Oct-20</td>\n",
       "      <td>2020-10-18</td>\n",
       "      <td>Recovered</td>\n",
       "      <td>74569</td>\n",
       "      <td>24</td>\n",
       "      <td>3723</td>\n",
       "      <td>208</td>\n",
       "      <td>1584</td>\n",
       "      <td>985</td>\n",
       "      <td>82</td>\n",
       "      <td>...</td>\n",
       "      <td>935</td>\n",
       "      <td>2654</td>\n",
       "      <td>48</td>\n",
       "      <td>4314</td>\n",
       "      <td>1717</td>\n",
       "      <td>239</td>\n",
       "      <td>2581</td>\n",
       "      <td>568</td>\n",
       "      <td>3608</td>\n",
       "      <td>0</td>\n",
       "    </tr>\n",
       "    <tr>\n",
       "      <th>668</th>\n",
       "      <td>22-Oct-20</td>\n",
       "      <td>2020-10-18</td>\n",
       "      <td>Deceased</td>\n",
       "      <td>686</td>\n",
       "      <td>1</td>\n",
       "      <td>16</td>\n",
       "      <td>1</td>\n",
       "      <td>7</td>\n",
       "      <td>7</td>\n",
       "      <td>3</td>\n",
       "      <td>...</td>\n",
       "      <td>12</td>\n",
       "      <td>12</td>\n",
       "      <td>0</td>\n",
       "      <td>45</td>\n",
       "      <td>5</td>\n",
       "      <td>2</td>\n",
       "      <td>35</td>\n",
       "      <td>8</td>\n",
       "      <td>64</td>\n",
       "      <td>0</td>\n",
       "    </tr>\n",
       "    <tr>\n",
       "      <th>669</th>\n",
       "      <td>23-Oct-20</td>\n",
       "      <td>2020-10-18</td>\n",
       "      <td>Confirmed</td>\n",
       "      <td>53934</td>\n",
       "      <td>23</td>\n",
       "      <td>3765</td>\n",
       "      <td>68</td>\n",
       "      <td>427</td>\n",
       "      <td>1093</td>\n",
       "      <td>72</td>\n",
       "      <td>...</td>\n",
       "      <td>464</td>\n",
       "      <td>1815</td>\n",
       "      <td>43</td>\n",
       "      <td>3057</td>\n",
       "      <td>1421</td>\n",
       "      <td>145</td>\n",
       "      <td>2202</td>\n",
       "      <td>288</td>\n",
       "      <td>4143</td>\n",
       "      <td>0</td>\n",
       "    </tr>\n",
       "    <tr>\n",
       "      <th>670</th>\n",
       "      <td>23-Oct-20</td>\n",
       "      <td>2020-10-18</td>\n",
       "      <td>Recovered</td>\n",
       "      <td>66994</td>\n",
       "      <td>8</td>\n",
       "      <td>4281</td>\n",
       "      <td>206</td>\n",
       "      <td>2184</td>\n",
       "      <td>1244</td>\n",
       "      <td>85</td>\n",
       "      <td>...</td>\n",
       "      <td>580</td>\n",
       "      <td>2367</td>\n",
       "      <td>55</td>\n",
       "      <td>4262</td>\n",
       "      <td>1221</td>\n",
       "      <td>250</td>\n",
       "      <td>3025</td>\n",
       "      <td>518</td>\n",
       "      <td>3676</td>\n",
       "      <td>0</td>\n",
       "    </tr>\n",
       "    <tr>\n",
       "      <th>671</th>\n",
       "      <td>23-Oct-20</td>\n",
       "      <td>2020-10-18</td>\n",
       "      <td>Deceased</td>\n",
       "      <td>655</td>\n",
       "      <td>1</td>\n",
       "      <td>20</td>\n",
       "      <td>1</td>\n",
       "      <td>4</td>\n",
       "      <td>8</td>\n",
       "      <td>2</td>\n",
       "      <td>...</td>\n",
       "      <td>23</td>\n",
       "      <td>14</td>\n",
       "      <td>0</td>\n",
       "      <td>33</td>\n",
       "      <td>6</td>\n",
       "      <td>5</td>\n",
       "      <td>40</td>\n",
       "      <td>11</td>\n",
       "      <td>60</td>\n",
       "      <td>0</td>\n",
       "    </tr>\n",
       "  </tbody>\n",
       "</table>\n",
       "<p>6 rows × 42 columns</p>\n",
       "</div>"
      ],
      "text/plain": [
       "          Date    Date_YMD     Status     TT  AN    AP   AR    AS    BR  CH  \\\n",
       "666  22-Oct-20  2020-10-18  Confirmed  54367  16  3620  165   508  1058  51   \n",
       "667  22-Oct-20  2020-10-18  Recovered  74569  24  3723  208  1584   985  82   \n",
       "668  22-Oct-20  2020-10-18   Deceased    686   1    16    1     7     7   3   \n",
       "669  23-Oct-20  2020-10-18  Confirmed  53934  23  3765   68   427  1093  72   \n",
       "670  23-Oct-20  2020-10-18  Recovered  66994   8  4281  206  2184  1244  85   \n",
       "671  23-Oct-20  2020-10-18   Deceased    655   1    20    1     4     8   2   \n",
       "\n",
       "     ...   PB    RJ  SK    TN    TG   TR    UP   UT    WB  UN  \n",
       "666  ...  605  1822  50  3077  1456  125  2383  402  4157   0  \n",
       "667  ...  935  2654  48  4314  1717  239  2581  568  3608   0  \n",
       "668  ...   12    12   0    45     5    2    35    8    64   0  \n",
       "669  ...  464  1815  43  3057  1421  145  2202  288  4143   0  \n",
       "670  ...  580  2367  55  4262  1221  250  3025  518  3676   0  \n",
       "671  ...   23    14   0    33     6    5    40   11    60   0  \n",
       "\n",
       "[6 rows x 42 columns]"
      ]
     },
     "execution_count": 3,
     "metadata": {},
     "output_type": "execute_result"
    }
   ],
   "source": [
    "#hide\n",
    "df.tail(6)"
   ]
  },
  {
   "cell_type": "code",
   "execution_count": 4,
   "metadata": {
    "execution": {
     "iopub.execute_input": "2020-10-23T19:14:39.527347Z",
     "iopub.status.busy": "2020-10-23T19:14:39.526540Z",
     "iopub.status.idle": "2020-10-23T19:14:39.529398Z",
     "shell.execute_reply": "2020-10-23T19:14:39.529864Z"
    },
    "papermill": {
     "duration": 0.021652,
     "end_time": "2020-10-23T19:14:39.530014",
     "exception": false,
     "start_time": "2020-10-23T19:14:39.508362",
     "status": "completed"
    },
    "tags": []
   },
   "outputs": [
    {
     "data": {
      "text/plain": [
       "('23-Oct-20', '22-Oct-20')"
      ]
     },
     "execution_count": 4,
     "metadata": {},
     "output_type": "execute_result"
    }
   ],
   "source": [
    "#hide\n",
    "dt_today = df.iloc[-1][0]\n",
    "dt_yday = df.iloc[-4][0]\n",
    "dt_today, dt_yday"
   ]
  },
  {
   "cell_type": "code",
   "execution_count": 5,
   "metadata": {
    "execution": {
     "iopub.execute_input": "2020-10-23T19:14:39.563472Z",
     "iopub.status.busy": "2020-10-23T19:14:39.561968Z",
     "iopub.status.idle": "2020-10-23T19:14:39.569973Z",
     "shell.execute_reply": "2020-10-23T19:14:39.569361Z"
    },
    "papermill": {
     "duration": 0.027434,
     "end_time": "2020-10-23T19:14:39.570098",
     "exception": false,
     "start_time": "2020-10-23T19:14:39.542664",
     "status": "completed"
    },
    "tags": []
   },
   "outputs": [],
   "source": [
    "#hide\n",
    "df_today = df.groupby('Status').sum()\n",
    "df_yday = df.iloc[:-3][:].groupby('Status').sum()"
   ]
  },
  {
   "cell_type": "code",
   "execution_count": 6,
   "metadata": {
    "execution": {
     "iopub.execute_input": "2020-10-23T19:14:39.612361Z",
     "iopub.status.busy": "2020-10-23T19:14:39.611808Z",
     "iopub.status.idle": "2020-10-23T19:14:39.614810Z",
     "shell.execute_reply": "2020-10-23T19:14:39.614341Z"
    },
    "papermill": {
     "duration": 0.032032,
     "end_time": "2020-10-23T19:14:39.614929",
     "exception": false,
     "start_time": "2020-10-23T19:14:39.582897",
     "status": "completed"
    },
    "tags": []
   },
   "outputs": [
    {
     "data": {
      "text/html": [
       "<div>\n",
       "<style scoped>\n",
       "    .dataframe tbody tr th:only-of-type {\n",
       "        vertical-align: middle;\n",
       "    }\n",
       "\n",
       "    .dataframe tbody tr th {\n",
       "        vertical-align: top;\n",
       "    }\n",
       "\n",
       "    .dataframe thead th {\n",
       "        text-align: right;\n",
       "    }\n",
       "</style>\n",
       "<table border=\"1\" class=\"dataframe\">\n",
       "  <thead>\n",
       "    <tr style=\"text-align: right;\">\n",
       "      <th></th>\n",
       "      <th>TT</th>\n",
       "      <th>AN</th>\n",
       "      <th>AP</th>\n",
       "      <th>AR</th>\n",
       "      <th>AS</th>\n",
       "      <th>BR</th>\n",
       "      <th>CH</th>\n",
       "      <th>CT</th>\n",
       "      <th>DN</th>\n",
       "      <th>DD</th>\n",
       "      <th>...</th>\n",
       "      <th>PB</th>\n",
       "      <th>RJ</th>\n",
       "      <th>SK</th>\n",
       "      <th>TN</th>\n",
       "      <th>TG</th>\n",
       "      <th>TR</th>\n",
       "      <th>UP</th>\n",
       "      <th>UT</th>\n",
       "      <th>WB</th>\n",
       "      <th>UN</th>\n",
       "    </tr>\n",
       "    <tr>\n",
       "      <th>Status</th>\n",
       "      <th></th>\n",
       "      <th></th>\n",
       "      <th></th>\n",
       "      <th></th>\n",
       "      <th></th>\n",
       "      <th></th>\n",
       "      <th></th>\n",
       "      <th></th>\n",
       "      <th></th>\n",
       "      <th></th>\n",
       "      <th></th>\n",
       "      <th></th>\n",
       "      <th></th>\n",
       "      <th></th>\n",
       "      <th></th>\n",
       "      <th></th>\n",
       "      <th></th>\n",
       "      <th></th>\n",
       "      <th></th>\n",
       "      <th></th>\n",
       "      <th></th>\n",
       "    </tr>\n",
       "  </thead>\n",
       "  <tbody>\n",
       "    <tr>\n",
       "      <th>Confirmed</th>\n",
       "      <td>7813034</td>\n",
       "      <td>4203</td>\n",
       "      <td>800684</td>\n",
       "      <td>14145</td>\n",
       "      <td>203607</td>\n",
       "      <td>210389</td>\n",
       "      <td>13920</td>\n",
       "      <td>172580</td>\n",
       "      <td>3215</td>\n",
       "      <td>0</td>\n",
       "      <td>...</td>\n",
       "      <td>130157</td>\n",
       "      <td>182570</td>\n",
       "      <td>3783</td>\n",
       "      <td>703250</td>\n",
       "      <td>228491</td>\n",
       "      <td>30067</td>\n",
       "      <td>466060</td>\n",
       "      <td>59796</td>\n",
       "      <td>341426</td>\n",
       "      <td>0</td>\n",
       "    </tr>\n",
       "    <tr>\n",
       "      <th>Deceased</th>\n",
       "      <td>117405</td>\n",
       "      <td>58</td>\n",
       "      <td>6544</td>\n",
       "      <td>33</td>\n",
       "      <td>904</td>\n",
       "      <td>1034</td>\n",
       "      <td>214</td>\n",
       "      <td>1738</td>\n",
       "      <td>2</td>\n",
       "      <td>0</td>\n",
       "      <td>...</td>\n",
       "      <td>4095</td>\n",
       "      <td>1814</td>\n",
       "      <td>63</td>\n",
       "      <td>10858</td>\n",
       "      <td>1298</td>\n",
       "      <td>336</td>\n",
       "      <td>6830</td>\n",
       "      <td>979</td>\n",
       "      <td>6368</td>\n",
       "      <td>0</td>\n",
       "    </tr>\n",
       "    <tr>\n",
       "      <th>Recovered</th>\n",
       "      <td>7013541</td>\n",
       "      <td>3936</td>\n",
       "      <td>762419</td>\n",
       "      <td>11613</td>\n",
       "      <td>179843</td>\n",
       "      <td>198437</td>\n",
       "      <td>13009</td>\n",
       "      <td>146222</td>\n",
       "      <td>3123</td>\n",
       "      <td>0</td>\n",
       "      <td>...</td>\n",
       "      <td>121735</td>\n",
       "      <td>162981</td>\n",
       "      <td>3384</td>\n",
       "      <td>659432</td>\n",
       "      <td>207326</td>\n",
       "      <td>27479</td>\n",
       "      <td>430962</td>\n",
       "      <td>53718</td>\n",
       "      <td>298587</td>\n",
       "      <td>0</td>\n",
       "    </tr>\n",
       "  </tbody>\n",
       "</table>\n",
       "<p>3 rows × 39 columns</p>\n",
       "</div>"
      ],
      "text/plain": [
       "                TT    AN      AP     AR      AS      BR     CH      CT    DN  \\\n",
       "Status                                                                         \n",
       "Confirmed  7813034  4203  800684  14145  203607  210389  13920  172580  3215   \n",
       "Deceased    117405    58    6544     33     904    1034    214    1738     2   \n",
       "Recovered  7013541  3936  762419  11613  179843  198437  13009  146222  3123   \n",
       "\n",
       "           DD  ...      PB      RJ    SK      TN      TG     TR      UP  \\\n",
       "Status         ...                                                        \n",
       "Confirmed   0  ...  130157  182570  3783  703250  228491  30067  466060   \n",
       "Deceased    0  ...    4095    1814    63   10858    1298    336    6830   \n",
       "Recovered   0  ...  121735  162981  3384  659432  207326  27479  430962   \n",
       "\n",
       "              UT      WB  UN  \n",
       "Status                        \n",
       "Confirmed  59796  341426   0  \n",
       "Deceased     979    6368   0  \n",
       "Recovered  53718  298587   0  \n",
       "\n",
       "[3 rows x 39 columns]"
      ]
     },
     "execution_count": 6,
     "metadata": {},
     "output_type": "execute_result"
    }
   ],
   "source": [
    "#hide\n",
    "df_today"
   ]
  },
  {
   "cell_type": "code",
   "execution_count": 7,
   "metadata": {
    "execution": {
     "iopub.execute_input": "2020-10-23T19:14:39.657122Z",
     "iopub.status.busy": "2020-10-23T19:14:39.649997Z",
     "iopub.status.idle": "2020-10-23T19:14:39.661590Z",
     "shell.execute_reply": "2020-10-23T19:14:39.661075Z"
    },
    "papermill": {
     "duration": 0.033428,
     "end_time": "2020-10-23T19:14:39.661714",
     "exception": false,
     "start_time": "2020-10-23T19:14:39.628286",
     "status": "completed"
    },
    "tags": []
   },
   "outputs": [
    {
     "data": {
      "text/html": [
       "<div>\n",
       "<style scoped>\n",
       "    .dataframe tbody tr th:only-of-type {\n",
       "        vertical-align: middle;\n",
       "    }\n",
       "\n",
       "    .dataframe tbody tr th {\n",
       "        vertical-align: top;\n",
       "    }\n",
       "\n",
       "    .dataframe thead th {\n",
       "        text-align: right;\n",
       "    }\n",
       "</style>\n",
       "<table border=\"1\" class=\"dataframe\">\n",
       "  <thead>\n",
       "    <tr style=\"text-align: right;\">\n",
       "      <th></th>\n",
       "      <th>TT</th>\n",
       "      <th>AN</th>\n",
       "      <th>AP</th>\n",
       "      <th>AR</th>\n",
       "      <th>AS</th>\n",
       "      <th>BR</th>\n",
       "      <th>CH</th>\n",
       "      <th>CT</th>\n",
       "      <th>DN</th>\n",
       "      <th>DD</th>\n",
       "      <th>...</th>\n",
       "      <th>PB</th>\n",
       "      <th>RJ</th>\n",
       "      <th>SK</th>\n",
       "      <th>TN</th>\n",
       "      <th>TG</th>\n",
       "      <th>TR</th>\n",
       "      <th>UP</th>\n",
       "      <th>UT</th>\n",
       "      <th>WB</th>\n",
       "      <th>UN</th>\n",
       "    </tr>\n",
       "    <tr>\n",
       "      <th>Status</th>\n",
       "      <th></th>\n",
       "      <th></th>\n",
       "      <th></th>\n",
       "      <th></th>\n",
       "      <th></th>\n",
       "      <th></th>\n",
       "      <th></th>\n",
       "      <th></th>\n",
       "      <th></th>\n",
       "      <th></th>\n",
       "      <th></th>\n",
       "      <th></th>\n",
       "      <th></th>\n",
       "      <th></th>\n",
       "      <th></th>\n",
       "      <th></th>\n",
       "      <th></th>\n",
       "      <th></th>\n",
       "      <th></th>\n",
       "      <th></th>\n",
       "      <th></th>\n",
       "    </tr>\n",
       "  </thead>\n",
       "  <tbody>\n",
       "    <tr>\n",
       "      <th>Confirmed</th>\n",
       "      <td>7759100</td>\n",
       "      <td>4180</td>\n",
       "      <td>796919</td>\n",
       "      <td>14077</td>\n",
       "      <td>203180</td>\n",
       "      <td>209296</td>\n",
       "      <td>13848</td>\n",
       "      <td>170130</td>\n",
       "      <td>3206</td>\n",
       "      <td>0</td>\n",
       "      <td>...</td>\n",
       "      <td>129693</td>\n",
       "      <td>180755</td>\n",
       "      <td>3740</td>\n",
       "      <td>700193</td>\n",
       "      <td>227070</td>\n",
       "      <td>29922</td>\n",
       "      <td>463858</td>\n",
       "      <td>59508</td>\n",
       "      <td>337283</td>\n",
       "      <td>0</td>\n",
       "    </tr>\n",
       "    <tr>\n",
       "      <th>Deceased</th>\n",
       "      <td>116750</td>\n",
       "      <td>57</td>\n",
       "      <td>6524</td>\n",
       "      <td>32</td>\n",
       "      <td>900</td>\n",
       "      <td>1026</td>\n",
       "      <td>212</td>\n",
       "      <td>1680</td>\n",
       "      <td>2</td>\n",
       "      <td>0</td>\n",
       "      <td>...</td>\n",
       "      <td>4072</td>\n",
       "      <td>1800</td>\n",
       "      <td>63</td>\n",
       "      <td>10825</td>\n",
       "      <td>1292</td>\n",
       "      <td>331</td>\n",
       "      <td>6790</td>\n",
       "      <td>968</td>\n",
       "      <td>6308</td>\n",
       "      <td>0</td>\n",
       "    </tr>\n",
       "    <tr>\n",
       "      <th>Recovered</th>\n",
       "      <td>6946547</td>\n",
       "      <td>3928</td>\n",
       "      <td>758138</td>\n",
       "      <td>11407</td>\n",
       "      <td>177659</td>\n",
       "      <td>197193</td>\n",
       "      <td>12924</td>\n",
       "      <td>143212</td>\n",
       "      <td>3120</td>\n",
       "      <td>0</td>\n",
       "      <td>...</td>\n",
       "      <td>121155</td>\n",
       "      <td>160614</td>\n",
       "      <td>3329</td>\n",
       "      <td>655170</td>\n",
       "      <td>206105</td>\n",
       "      <td>27229</td>\n",
       "      <td>427937</td>\n",
       "      <td>53200</td>\n",
       "      <td>294911</td>\n",
       "      <td>0</td>\n",
       "    </tr>\n",
       "  </tbody>\n",
       "</table>\n",
       "<p>3 rows × 39 columns</p>\n",
       "</div>"
      ],
      "text/plain": [
       "                TT    AN      AP     AR      AS      BR     CH      CT    DN  \\\n",
       "Status                                                                         \n",
       "Confirmed  7759100  4180  796919  14077  203180  209296  13848  170130  3206   \n",
       "Deceased    116750    57    6524     32     900    1026    212    1680     2   \n",
       "Recovered  6946547  3928  758138  11407  177659  197193  12924  143212  3120   \n",
       "\n",
       "           DD  ...      PB      RJ    SK      TN      TG     TR      UP  \\\n",
       "Status         ...                                                        \n",
       "Confirmed   0  ...  129693  180755  3740  700193  227070  29922  463858   \n",
       "Deceased    0  ...    4072    1800    63   10825    1292    331    6790   \n",
       "Recovered   0  ...  121155  160614  3329  655170  206105  27229  427937   \n",
       "\n",
       "              UT      WB  UN  \n",
       "Status                        \n",
       "Confirmed  59508  337283   0  \n",
       "Deceased     968    6308   0  \n",
       "Recovered  53200  294911   0  \n",
       "\n",
       "[3 rows x 39 columns]"
      ]
     },
     "execution_count": 7,
     "metadata": {},
     "output_type": "execute_result"
    }
   ],
   "source": [
    "#hide\n",
    "df_yday.head()"
   ]
  },
  {
   "cell_type": "code",
   "execution_count": 8,
   "metadata": {
    "execution": {
     "iopub.execute_input": "2020-10-23T19:14:39.699903Z",
     "iopub.status.busy": "2020-10-23T19:14:39.699322Z",
     "iopub.status.idle": "2020-10-23T19:14:39.702559Z",
     "shell.execute_reply": "2020-10-23T19:14:39.701986Z"
    },
    "papermill": {
     "duration": 0.026935,
     "end_time": "2020-10-23T19:14:39.702673",
     "exception": false,
     "start_time": "2020-10-23T19:14:39.675738",
     "status": "completed"
    },
    "tags": []
   },
   "outputs": [
    {
     "data": {
      "text/plain": [
       "{'updated': '23-Oct-20',\n",
       " 'since': '22-Oct-20',\n",
       " 'Cases': 7813034,\n",
       " 'Deaths': 117405,\n",
       " 'Recovered': 7013541,\n",
       " 'PCases': 7759100,\n",
       " 'PDeaths': 116750,\n",
       " 'PRecovered': 6946547,\n",
       " 'Cases (+)': 53934,\n",
       " 'Deaths (+)': 655,\n",
       " 'Recovered (+)': 66994}"
      ]
     },
     "execution_count": 8,
     "metadata": {},
     "output_type": "execute_result"
    }
   ],
   "source": [
    "#hide\n",
    "summary = {\n",
    "    'updated' : dt_today,\n",
    "    'since' : dt_yday,\n",
    "    'Cases' : df_today['TT'][0],\n",
    "    'Deaths' : df_today['TT'][1],\n",
    "    'Recovered' : df_today['TT'][2],\n",
    "    'PCases' : df_yday['TT'][0],\n",
    "    'PDeaths' : df_yday['TT'][1],\n",
    "    'PRecovered': df_yday['TT'][2],\n",
    "    'Cases (+)' : df_today['TT'][0] - df_yday['TT'][0],\n",
    "    'Deaths (+)' : df_today['TT'][1] - df_yday['TT'][1],\n",
    "    'Recovered (+)': df_today['TT'][2] - df_yday['TT'][2]\n",
    "}\n",
    "\n",
    "summary"
   ]
  },
  {
   "cell_type": "code",
   "execution_count": 9,
   "metadata": {
    "execution": {
     "iopub.execute_input": "2020-10-23T19:14:39.737356Z",
     "iopub.status.busy": "2020-10-23T19:14:39.736509Z",
     "iopub.status.idle": "2020-10-23T19:14:39.738200Z",
     "shell.execute_reply": "2020-10-23T19:14:39.738695Z"
    },
    "papermill": {
     "duration": 0.022033,
     "end_time": "2020-10-23T19:14:39.738838",
     "exception": false,
     "start_time": "2020-10-23T19:14:39.716805",
     "status": "completed"
    },
    "tags": []
   },
   "outputs": [],
   "source": [
    "#hide\n",
    "overview = '''\n",
    "<!-- #######  HTML!! #########-->\n",
    "<h1 style=\"color: #5e9ca0; text-align: center;\">India</h1>\n",
    "<p style=\"text-align: center;\">Last update: <strong>{update}</strong></p>\n",
    "<p style=\"text-align: center;\">Confirmed cases:</p>\n",
    "<p style=\"text-align: center;font-size:24px;\">{cases} (<span style=\"color: #ff0000;\">+{new}</span>)</p>\n",
    "<p style=\"text-align: center;\">Confirmed deaths:</p>\n",
    "<p style=\"text-align: center;font-size:24px;\">{deaths} (<span style=\"color: #ff0000;\">+{dnew}</span>)</p>\n",
    "<p style=\"text-align: center;\">Recovered cases:</p>\n",
    "<p style=\"text-align: center;font-size:24px;\">{recovered} (<span style=\"color: #00ff00;\">+{rnew}</span>)</p>\n",
    "'''"
   ]
  },
  {
   "cell_type": "code",
   "execution_count": 10,
   "metadata": {
    "execution": {
     "iopub.execute_input": "2020-10-23T19:14:39.774457Z",
     "iopub.status.busy": "2020-10-23T19:14:39.773868Z",
     "iopub.status.idle": "2020-10-23T19:14:39.777088Z",
     "shell.execute_reply": "2020-10-23T19:14:39.776416Z"
    },
    "papermill": {
     "duration": 0.023671,
     "end_time": "2020-10-23T19:14:39.777222",
     "exception": false,
     "start_time": "2020-10-23T19:14:39.753551",
     "status": "completed"
    },
    "tags": []
   },
   "outputs": [
    {
     "data": {
      "text/html": [
       "\n",
       "<!-- #######  HTML!! #########-->\n",
       "<h1 style=\"color: #5e9ca0; text-align: center;\">India</h1>\n",
       "<p style=\"text-align: center;\">Last update: <strong>23-Oct-20</strong></p>\n",
       "<p style=\"text-align: center;\">Confirmed cases:</p>\n",
       "<p style=\"text-align: center;font-size:24px;\">7813034 (<span style=\"color: #ff0000;\">+53934</span>)</p>\n",
       "<p style=\"text-align: center;\">Confirmed deaths:</p>\n",
       "<p style=\"text-align: center;font-size:24px;\">117405 (<span style=\"color: #ff0000;\">+655</span>)</p>\n",
       "<p style=\"text-align: center;\">Recovered cases:</p>\n",
       "<p style=\"text-align: center;font-size:24px;\">7013541 (<span style=\"color: #00ff00;\">+66994</span>)</p>\n"
      ],
      "text/plain": [
       "<IPython.core.display.HTML object>"
      ]
     },
     "metadata": {},
     "output_type": "display_data"
    }
   ],
   "source": [
    "#hide_input\n",
    "# Fill the above HTML with the information from the summary dictionary\n",
    "\n",
    "update = summary['updated']\n",
    "cases = summary['Cases']\n",
    "new = summary['Cases (+)']\n",
    "deaths = summary['Deaths']\n",
    "dnew = summary['Deaths (+)']\n",
    "recovered = summary['Recovered']\n",
    "rnew = summary['Recovered (+)']\n",
    "\n",
    "html = HTML(overview.format(update=update, cases=cases,new=new,deaths=deaths,dnew=dnew, recovered=recovered, rnew=rnew))\n",
    "\n",
    "display(html)"
   ]
  },
  {
   "cell_type": "code",
   "execution_count": 11,
   "metadata": {
    "execution": {
     "iopub.execute_input": "2020-10-23T19:14:39.816835Z",
     "iopub.status.busy": "2020-10-23T19:14:39.816245Z",
     "iopub.status.idle": "2020-10-23T19:14:39.821406Z",
     "shell.execute_reply": "2020-10-23T19:14:39.820913Z"
    },
    "papermill": {
     "duration": 0.028206,
     "end_time": "2020-10-23T19:14:39.821536",
     "exception": false,
     "start_time": "2020-10-23T19:14:39.793330",
     "status": "completed"
    },
    "tags": []
   },
   "outputs": [],
   "source": [
    "#hide\n",
    "df_cases = df[df['Status'] == 'Confirmed'].copy()\n",
    "df_cases.drop(columns = ['Status'], inplace=True)\n",
    "df_deaths = df[df['Status'] == 'Deceased'].copy()\n",
    "df_deaths.drop(columns = ['Status'], inplace=True)\n",
    "df_recovered = df[df['Status'] == 'Recovered'].copy()\n",
    "df_recovered.drop(columns = ['Status'], inplace=True)"
   ]
  },
  {
   "cell_type": "markdown",
   "metadata": {
    "papermill": {
     "duration": 0.015241,
     "end_time": "2020-10-23T19:14:39.851654",
     "exception": false,
     "start_time": "2020-10-23T19:14:39.836413",
     "status": "completed"
    },
    "tags": []
   },
   "source": [
    "Plot for India:"
   ]
  },
  {
   "cell_type": "code",
   "execution_count": 12,
   "metadata": {
    "execution": {
     "iopub.execute_input": "2020-10-23T19:14:39.889967Z",
     "iopub.status.busy": "2020-10-23T19:14:39.889101Z",
     "iopub.status.idle": "2020-10-23T19:14:40.171092Z",
     "shell.execute_reply": "2020-10-23T19:14:40.171548Z"
    },
    "papermill": {
     "duration": 0.304788,
     "end_time": "2020-10-23T19:14:40.171704",
     "exception": false,
     "start_time": "2020-10-23T19:14:39.866916",
     "status": "completed"
    },
    "tags": []
   },
   "outputs": [
    {
     "data": {
      "image/png": "[encoded data removed]",
      "text/plain": [
       "<Figure size 1296x432 with 1 Axes>"
      ]
     },
     "metadata": {
      "needs_background": "light"
     },
     "output_type": "display_data"
    }
   ],
   "source": [
    "#hide_input\n",
    "plt.figure(figsize = (18,6))\n",
    "plt.plot(df_cases['Date'], df_cases['TT'],'.-', alpha=0.7, color='b', label='Confirmed cases')\n",
    "plt.plot(df_recovered['Date'], df_recovered['TT'],'.-', alpha=0.7, color='g', label='Recovered')\n",
    "plt.plot(df_deaths['Date'], df_deaths['TT'],'.-', alpha=0.7, color='r', label='Deceased')\n",
    "plt.legend()\n",
    "plt.title(\"Cases per day in India\")\n",
    "plt.xticks(ticks=' ')\n",
    "plt.xlabel(f'{df_cases.iloc[0][0]} to {df_cases.iloc[-1][0]}')\n",
    "plt.ylabel('No. of cases');"
   ]
  },
  {
   "cell_type": "markdown",
   "metadata": {
    "papermill": {
     "duration": 0.017405,
     "end_time": "2020-10-23T19:14:40.207808",
     "exception": false,
     "start_time": "2020-10-23T19:14:40.190403",
     "status": "completed"
    },
    "tags": []
   },
   "source": [
    "Plots for the states with highest number of cases:"
   ]
  },
  {
   "cell_type": "markdown",
   "metadata": {
    "tags": [
     "papermill-error-cell-tag"
    ]
   },
   "source": [
    "<span id=\"papermill-error-cell\" style=\"color:red; font-family:Helvetica Neue, Helvetica, Arial, sans-serif; font-size:2em;\">Execution using papermill encountered an exception here and stopped:</span>"
   ]
  },
  {
   "cell_type": "code",
   "execution_count": 13,
   "metadata": {
    "execution": {
     "iopub.execute_input": "2020-10-23T19:14:40.252249Z",
     "iopub.status.busy": "2020-10-23T19:14:40.251649Z",
     "iopub.status.idle": "2020-10-23T19:14:40.369372Z",
     "shell.execute_reply": "2020-10-23T19:14:40.368720Z"
    },
    "papermill": {
     "duration": 0.144045,
     "end_time": "2020-10-23T19:14:40.369555",
     "exception": true,
     "start_time": "2020-10-23T19:14:40.225510",
     "status": "failed"
    },
    "tags": []
   },
   "outputs": [
    {
     "ename": "TypeError",
     "evalue": "'>' not supported between instances of 'numpy.ndarray' and 'str'",
     "output_type": "error",
     "traceback": [
      "\u001b[0;31m---------------------------------------------------------------------------\u001b[0m",
      "\u001b[0;31mTypeError\u001b[0m                                 Traceback (most recent call last)",
      "\u001b[0;32m<ipython-input-13-9711672c0a2c>\u001b[0m in \u001b[0;36m<module>\u001b[0;34m\u001b[0m\n\u001b[1;32m      1\u001b[0m \u001b[0;31m#hide_input\u001b[0m\u001b[0;34m\u001b[0m\u001b[0;34m\u001b[0m\u001b[0;34m\u001b[0m\u001b[0m\n\u001b[0;32m----> 2\u001b[0;31m \u001b[0mtop_3\u001b[0m \u001b[0;34m=\u001b[0m \u001b[0msorted\u001b[0m\u001b[0;34m(\u001b[0m\u001b[0mdf_cases\u001b[0m\u001b[0;34m.\u001b[0m\u001b[0msum\u001b[0m\u001b[0;34m(\u001b[0m\u001b[0;34m)\u001b[0m\u001b[0;34m.\u001b[0m\u001b[0mvalues\u001b[0m\u001b[0;34m[\u001b[0m\u001b[0;36m1\u001b[0m\u001b[0;34m:\u001b[0m\u001b[0;34m]\u001b[0m\u001b[0;34m,\u001b[0m \u001b[0mreverse\u001b[0m\u001b[0;34m=\u001b[0m\u001b[0;32mTrue\u001b[0m\u001b[0;34m)\u001b[0m\u001b[0;34m[\u001b[0m\u001b[0;36m1\u001b[0m\u001b[0;34m:\u001b[0m\u001b[0;36m4\u001b[0m\u001b[0;34m]\u001b[0m\u001b[0;34m\u001b[0m\u001b[0;34m\u001b[0m\u001b[0m\n\u001b[0m\u001b[1;32m      3\u001b[0m \u001b[0mtop3_states\u001b[0m\u001b[0;34m=\u001b[0m\u001b[0;34m[\u001b[0m\u001b[0;34m]\u001b[0m\u001b[0;34m\u001b[0m\u001b[0;34m\u001b[0m\u001b[0m\n\u001b[1;32m      4\u001b[0m \u001b[0;32mfor\u001b[0m \u001b[0mi\u001b[0m \u001b[0;32min\u001b[0m \u001b[0mtop_3\u001b[0m\u001b[0;34m:\u001b[0m\u001b[0;34m\u001b[0m\u001b[0;34m\u001b[0m\u001b[0m\n\u001b[1;32m      5\u001b[0m     \u001b[0mtop3_states\u001b[0m\u001b[0;34m.\u001b[0m\u001b[0mappend\u001b[0m\u001b[0;34m(\u001b[0m\u001b[0mdf_cases\u001b[0m\u001b[0;34m.\u001b[0m\u001b[0msum\u001b[0m\u001b[0;34m(\u001b[0m\u001b[0;34m)\u001b[0m\u001b[0;34m[\u001b[0m\u001b[0mdf_cases\u001b[0m\u001b[0;34m.\u001b[0m\u001b[0msum\u001b[0m\u001b[0;34m(\u001b[0m\u001b[0;34m)\u001b[0m \u001b[0;34m==\u001b[0m \u001b[0mi\u001b[0m\u001b[0;34m]\u001b[0m\u001b[0;34m.\u001b[0m\u001b[0mindex\u001b[0m\u001b[0;34m)\u001b[0m\u001b[0;34m\u001b[0m\u001b[0;34m\u001b[0m\u001b[0m\n",
      "\u001b[0;31mTypeError\u001b[0m: '>' not supported between instances of 'numpy.ndarray' and 'str'"
     ]
    }
   ],
   "source": [
    "#hide_input\n",
    "top_3 = sorted(df_cases.sum().values[1:], reverse=True)[1:4]\n",
    "top3_states=[]\n",
    "for i in top_3:\n",
    "    top3_states.append(df_cases.sum()[df_cases.sum() == i].index)\n",
    "\n",
    "\n",
    "fig, ax = plt.subplots(1,3,figsize = (21,6))\n",
    "for i in range(3):\n",
    "    state = top3_states[i].values[0]\n",
    "    ax[i].plot(df_cases['Date'], df_cases[state],'.-', color='b', alpha=0.7)\n",
    "    ax[i].plot(df_deaths['Date'], df_deaths[state],'.-', color='r', alpha=0.7)\n",
    "    ax[i].plot(df_recovered['Date'], df_recovered[state],'.-', color='g', alpha=0.7)\n",
    "    \n",
    "    ax[i].set_title(f\"Cases in {state}\")\n",
    "    ax[i].set_xticks(ticks=' ')\n",
    "    ax[i].set_xlabel(f'{df_cases.iloc[0][0]} to {df_cases.iloc[-1][0]}')\n",
    "    ax[i].set_ylabel('No. of cases');"
   ]
  },
  {
   "cell_type": "code",
   "execution_count": null,
   "metadata": {
    "papermill": {
     "duration": null,
     "end_time": null,
     "exception": null,
     "start_time": null,
     "status": "pending"
    },
    "tags": []
   },
   "outputs": [],
   "source": []
  },
  {
   "cell_type": "code",
   "execution_count": null,
   "metadata": {
    "papermill": {
     "duration": null,
     "end_time": null,
     "exception": null,
     "start_time": null,
     "status": "pending"
    },
    "tags": []
   },
   "outputs": [],
   "source": []
  },
  {
   "cell_type": "code",
   "execution_count": null,
   "metadata": {
    "papermill": {
     "duration": null,
     "end_time": null,
     "exception": null,
     "start_time": null,
     "status": "pending"
    },
    "tags": []
   },
   "outputs": [],
   "source": []
  }
 ],
 "metadata": {
  "kernelspec": {
   "display_name": "Python 3",
   "language": "python",
   "name": "python3"
  },
  "language_info": {
   "codemirror_mode": {
    "name": "ipython",
    "version": 3
   },
   "file_extension": ".py",
   "mimetype": "text/x-python",
   "name": "python",
   "nbconvert_exporter": "python",
   "pygments_lexer": "ipython3",
   "version": "3.6.12"
  },
  "papermill": {
   "duration": 3.31754,
   "end_time": "2020-10-23T19:14:40.782852",
   "environment_variables": {},
   "exception": true,
   "input_path": "2020-08-09-DailyUpdate.ipynb",
   "output_path": "2020-08-09-DailyUpdate.ipynb",
   "parameters": {},
   "start_time": "2020-10-23T19:14:37.465312",
   "version": "2.1.2"
  }
 },
 "nbformat": 4,
 "nbformat_minor": 4
}