{
 "cells": [
  {
   "cell_type": "markdown",
   "metadata": {
    "papermill": {
     "duration": 0.013953,
     "end_time": "2020-08-31T19:11:29.653908",
     "exception": false,
     "start_time": "2020-08-31T19:11:29.639955",
     "status": "completed"
    },
    "tags": []
   },
   "source": [
    "# COVID-19 India Daily updates\n",
    "> Tracking coronavirus total cases, deaths and new cases in India on a daily basis\n",
    "\n",
    "- author: Vaibhav Mahapatra"
   ]
  },
  {
   "cell_type": "code",
   "execution_count": 1,
   "metadata": {
    "execution": {
     "iopub.execute_input": "2020-08-31T19:11:29.682459Z",
     "iopub.status.busy": "2020-08-31T19:11:29.681904Z",
     "iopub.status.idle": "2020-08-31T19:11:30.233200Z",
     "shell.execute_reply": "2020-08-31T19:11:30.232306Z"
    },
    "papermill": {
     "duration": 0.568682,
     "end_time": "2020-08-31T19:11:30.233345",
     "exception": false,
     "start_time": "2020-08-31T19:11:29.664663",
     "status": "completed"
    },
    "tags": []
   },
   "outputs": [],
   "source": [
    "#hide\n",
    "\n",
    "## Import essential packages below\n",
    "\n",
    "import pandas as pd\n",
    "import numpy as np\n",
    "import requests\n",
    "import json\n",
    "import matplotlib.pyplot as plt\n",
    "import matplotlib.dates as mdates\n",
    "import matplotlib as mpl\n",
    "from IPython.core.display import display,HTML\n",
    "%matplotlib inline"
   ]
  },
  {
   "cell_type": "code",
   "execution_count": 2,
   "metadata": {
    "execution": {
     "iopub.execute_input": "2020-08-31T19:11:30.259043Z",
     "iopub.status.busy": "2020-08-31T19:11:30.258483Z",
     "iopub.status.idle": "2020-08-31T19:11:30.414600Z",
     "shell.execute_reply": "2020-08-31T19:11:30.415154Z"
    },
    "papermill": {
     "duration": 0.171887,
     "end_time": "2020-08-31T19:11:30.415331",
     "exception": false,
     "start_time": "2020-08-31T19:11:30.243444",
     "status": "completed"
    },
    "tags": []
   },
   "outputs": [
    {
     "data": {
      "text/plain": [
       "(513, 41)"
      ]
     },
     "execution_count": 2,
     "metadata": {},
     "output_type": "execute_result"
    }
   ],
   "source": [
    "#hide\n",
    "url = 'https://api.covid19india.org/csv/latest/state_wise_daily.csv'\n",
    "df = pd.read_csv(url)\n",
    "df.shape"
   ]
  },
  {
   "cell_type": "code",
   "execution_count": 3,
   "metadata": {
    "execution": {
     "iopub.execute_input": "2020-08-31T19:11:30.490365Z",
     "iopub.status.busy": "2020-08-31T19:11:30.488771Z",
     "iopub.status.idle": "2020-08-31T19:11:30.499557Z",
     "shell.execute_reply": "2020-08-31T19:11:30.500023Z"
    },
    "papermill": {
     "duration": 0.072398,
     "end_time": "2020-08-31T19:11:30.500175",
     "exception": false,
     "start_time": "2020-08-31T19:11:30.427777",
     "status": "completed"
    },
    "tags": []
   },
   "outputs": [
    {
     "data": {
      "text/html": [
       "<div>\n",
       "<style scoped>\n",
       "    .dataframe tbody tr th:only-of-type {\n",
       "        vertical-align: middle;\n",
       "    }\n",
       "\n",
       "    .dataframe tbody tr th {\n",
       "        vertical-align: top;\n",
       "    }\n",
       "\n",
       "    .dataframe thead th {\n",
       "        text-align: right;\n",
       "    }\n",
       "</style>\n",
       "<table border=\"1\" class=\"dataframe\">\n",
       "  <thead>\n",
       "    <tr style=\"text-align: right;\">\n",
       "      <th></th>\n",
       "      <th>Date</th>\n",
       "      <th>Status</th>\n",
       "      <th>TT</th>\n",
       "      <th>AN</th>\n",
       "      <th>AP</th>\n",
       "      <th>AR</th>\n",
       "      <th>AS</th>\n",
       "      <th>BR</th>\n",
       "      <th>CH</th>\n",
       "      <th>CT</th>\n",
       "      <th>...</th>\n",
       "      <th>PB</th>\n",
       "      <th>RJ</th>\n",
       "      <th>SK</th>\n",
       "      <th>TN</th>\n",
       "      <th>TG</th>\n",
       "      <th>TR</th>\n",
       "      <th>UP</th>\n",
       "      <th>UT</th>\n",
       "      <th>WB</th>\n",
       "      <th>UN</th>\n",
       "    </tr>\n",
       "  </thead>\n",
       "  <tbody>\n",
       "    <tr>\n",
       "      <th>507</th>\n",
       "      <td>30-Aug-20</td>\n",
       "      <td>Confirmed</td>\n",
       "      <td>79461</td>\n",
       "      <td>23</td>\n",
       "      <td>10603</td>\n",
       "      <td>157</td>\n",
       "      <td>1980</td>\n",
       "      <td>2078</td>\n",
       "      <td>170</td>\n",
       "      <td>1346</td>\n",
       "      <td>...</td>\n",
       "      <td>1678</td>\n",
       "      <td>1450</td>\n",
       "      <td>25</td>\n",
       "      <td>6495</td>\n",
       "      <td>2924</td>\n",
       "      <td>447</td>\n",
       "      <td>6175</td>\n",
       "      <td>664</td>\n",
       "      <td>3019</td>\n",
       "      <td>0</td>\n",
       "    </tr>\n",
       "    <tr>\n",
       "      <th>508</th>\n",
       "      <td>30-Aug-20</td>\n",
       "      <td>Recovered</td>\n",
       "      <td>60422</td>\n",
       "      <td>67</td>\n",
       "      <td>9067</td>\n",
       "      <td>68</td>\n",
       "      <td>1417</td>\n",
       "      <td>2231</td>\n",
       "      <td>48</td>\n",
       "      <td>485</td>\n",
       "      <td>...</td>\n",
       "      <td>1656</td>\n",
       "      <td>2122</td>\n",
       "      <td>25</td>\n",
       "      <td>6406</td>\n",
       "      <td>1638</td>\n",
       "      <td>195</td>\n",
       "      <td>4802</td>\n",
       "      <td>480</td>\n",
       "      <td>3308</td>\n",
       "      <td>0</td>\n",
       "    </tr>\n",
       "    <tr>\n",
       "      <th>509</th>\n",
       "      <td>30-Aug-20</td>\n",
       "      <td>Deceased</td>\n",
       "      <td>960</td>\n",
       "      <td>1</td>\n",
       "      <td>88</td>\n",
       "      <td>0</td>\n",
       "      <td>7</td>\n",
       "      <td>9</td>\n",
       "      <td>7</td>\n",
       "      <td>7</td>\n",
       "      <td>...</td>\n",
       "      <td>56</td>\n",
       "      <td>13</td>\n",
       "      <td>0</td>\n",
       "      <td>94</td>\n",
       "      <td>10</td>\n",
       "      <td>4</td>\n",
       "      <td>67</td>\n",
       "      <td>7</td>\n",
       "      <td>50</td>\n",
       "      <td>0</td>\n",
       "    </tr>\n",
       "    <tr>\n",
       "      <th>510</th>\n",
       "      <td>31-Aug-20</td>\n",
       "      <td>Confirmed</td>\n",
       "      <td>68766</td>\n",
       "      <td>28</td>\n",
       "      <td>10004</td>\n",
       "      <td>78</td>\n",
       "      <td>3266</td>\n",
       "      <td>1324</td>\n",
       "      <td>191</td>\n",
       "      <td>1411</td>\n",
       "      <td>...</td>\n",
       "      <td>1466</td>\n",
       "      <td>1466</td>\n",
       "      <td>25</td>\n",
       "      <td>5956</td>\n",
       "      <td>1873</td>\n",
       "      <td>321</td>\n",
       "      <td>4782</td>\n",
       "      <td>592</td>\n",
       "      <td>2993</td>\n",
       "      <td>0</td>\n",
       "    </tr>\n",
       "    <tr>\n",
       "      <th>511</th>\n",
       "      <td>31-Aug-20</td>\n",
       "      <td>Recovered</td>\n",
       "      <td>64435</td>\n",
       "      <td>61</td>\n",
       "      <td>8772</td>\n",
       "      <td>63</td>\n",
       "      <td>1531</td>\n",
       "      <td>2267</td>\n",
       "      <td>135</td>\n",
       "      <td>686</td>\n",
       "      <td>...</td>\n",
       "      <td>1280</td>\n",
       "      <td>1719</td>\n",
       "      <td>5</td>\n",
       "      <td>6008</td>\n",
       "      <td>1849</td>\n",
       "      <td>201</td>\n",
       "      <td>4597</td>\n",
       "      <td>604</td>\n",
       "      <td>3318</td>\n",
       "      <td>0</td>\n",
       "    </tr>\n",
       "    <tr>\n",
       "      <th>512</th>\n",
       "      <td>31-Aug-20</td>\n",
       "      <td>Deceased</td>\n",
       "      <td>818</td>\n",
       "      <td>1</td>\n",
       "      <td>85</td>\n",
       "      <td>0</td>\n",
       "      <td>10</td>\n",
       "      <td>6</td>\n",
       "      <td>4</td>\n",
       "      <td>8</td>\n",
       "      <td>...</td>\n",
       "      <td>49</td>\n",
       "      <td>13</td>\n",
       "      <td>0</td>\n",
       "      <td>92</td>\n",
       "      <td>9</td>\n",
       "      <td>5</td>\n",
       "      <td>63</td>\n",
       "      <td>12</td>\n",
       "      <td>52</td>\n",
       "      <td>0</td>\n",
       "    </tr>\n",
       "  </tbody>\n",
       "</table>\n",
       "<p>6 rows × 41 columns</p>\n",
       "</div>"
      ],
      "text/plain": [
       "          Date     Status     TT  AN     AP   AR    AS    BR   CH    CT  ...  \\\n",
       "507  30-Aug-20  Confirmed  79461  23  10603  157  1980  2078  170  1346  ...   \n",
       "508  30-Aug-20  Recovered  60422  67   9067   68  1417  2231   48   485  ...   \n",
       "509  30-Aug-20   Deceased    960   1     88    0     7     9    7     7  ...   \n",
       "510  31-Aug-20  Confirmed  68766  28  10004   78  3266  1324  191  1411  ...   \n",
       "511  31-Aug-20  Recovered  64435  61   8772   63  1531  2267  135   686  ...   \n",
       "512  31-Aug-20   Deceased    818   1     85    0    10     6    4     8  ...   \n",
       "\n",
       "       PB    RJ  SK    TN    TG   TR    UP   UT    WB  UN  \n",
       "507  1678  1450  25  6495  2924  447  6175  664  3019   0  \n",
       "508  1656  2122  25  6406  1638  195  4802  480  3308   0  \n",
       "509    56    13   0    94    10    4    67    7    50   0  \n",
       "510  1466  1466  25  5956  1873  321  4782  592  2993   0  \n",
       "511  1280  1719   5  6008  1849  201  4597  604  3318   0  \n",
       "512    49    13   0    92     9    5    63   12    52   0  \n",
       "\n",
       "[6 rows x 41 columns]"
      ]
     },
     "execution_count": 3,
     "metadata": {},
     "output_type": "execute_result"
    }
   ],
   "source": [
    "#hide\n",
    "df.tail(6)"
   ]
  },
  {
   "cell_type": "code",
   "execution_count": 4,
   "metadata": {
    "execution": {
     "iopub.execute_input": "2020-08-31T19:11:30.529400Z",
     "iopub.status.busy": "2020-08-31T19:11:30.528842Z",
     "iopub.status.idle": "2020-08-31T19:11:30.530650Z",
     "shell.execute_reply": "2020-08-31T19:11:30.531088Z"
    },
    "papermill": {
     "duration": 0.019677,
     "end_time": "2020-08-31T19:11:30.531221",
     "exception": false,
     "start_time": "2020-08-31T19:11:30.511544",
     "status": "completed"
    },
    "tags": []
   },
   "outputs": [
    {
     "data": {
      "text/plain": [
       "('31-Aug-20', '30-Aug-20')"
      ]
     },
     "execution_count": 4,
     "metadata": {},
     "output_type": "execute_result"
    }
   ],
   "source": [
    "#hide\n",
    "dt_today = df.iloc[-1][0]\n",
    "dt_yday = df.iloc[-4][0]\n",
    "dt_today, dt_yday"
   ]
  },
  {
   "cell_type": "code",
   "execution_count": 5,
   "metadata": {
    "execution": {
     "iopub.execute_input": "2020-08-31T19:11:30.560119Z",
     "iopub.status.busy": "2020-08-31T19:11:30.559621Z",
     "iopub.status.idle": "2020-08-31T19:11:30.565950Z",
     "shell.execute_reply": "2020-08-31T19:11:30.566355Z"
    },
    "papermill": {
     "duration": 0.023749,
     "end_time": "2020-08-31T19:11:30.566460",
     "exception": false,
     "start_time": "2020-08-31T19:11:30.542711",
     "status": "completed"
    },
    "tags": []
   },
   "outputs": [],
   "source": [
    "#hide\n",
    "df_today = df.groupby('Status').sum()\n",
    "df_yday = df.iloc[:-3][:].groupby('Status').sum()"
   ]
  },
  {
   "cell_type": "code",
   "execution_count": 6,
   "metadata": {
    "execution": {
     "iopub.execute_input": "2020-08-31T19:11:30.597170Z",
     "iopub.status.busy": "2020-08-31T19:11:30.596701Z",
     "iopub.status.idle": "2020-08-31T19:11:30.605384Z",
     "shell.execute_reply": "2020-08-31T19:11:30.604881Z"
    },
    "papermill": {
     "duration": 0.027651,
     "end_time": "2020-08-31T19:11:30.605496",
     "exception": false,
     "start_time": "2020-08-31T19:11:30.577845",
     "status": "completed"
    },
    "tags": []
   },
   "outputs": [
    {
     "data": {
      "text/html": [
       "<div>\n",
       "<style scoped>\n",
       "    .dataframe tbody tr th:only-of-type {\n",
       "        vertical-align: middle;\n",
       "    }\n",
       "\n",
       "    .dataframe tbody tr th {\n",
       "        vertical-align: top;\n",
       "    }\n",
       "\n",
       "    .dataframe thead th {\n",
       "        text-align: right;\n",
       "    }\n",
       "</style>\n",
       "<table border=\"1\" class=\"dataframe\">\n",
       "  <thead>\n",
       "    <tr style=\"text-align: right;\">\n",
       "      <th></th>\n",
       "      <th>TT</th>\n",
       "      <th>AN</th>\n",
       "      <th>AP</th>\n",
       "      <th>AR</th>\n",
       "      <th>AS</th>\n",
       "      <th>BR</th>\n",
       "      <th>CH</th>\n",
       "      <th>CT</th>\n",
       "      <th>DN</th>\n",
       "      <th>DD</th>\n",
       "      <th>...</th>\n",
       "      <th>PB</th>\n",
       "      <th>RJ</th>\n",
       "      <th>SK</th>\n",
       "      <th>TN</th>\n",
       "      <th>TG</th>\n",
       "      <th>TR</th>\n",
       "      <th>UP</th>\n",
       "      <th>UT</th>\n",
       "      <th>WB</th>\n",
       "      <th>UN</th>\n",
       "    </tr>\n",
       "    <tr>\n",
       "      <th>Status</th>\n",
       "      <th></th>\n",
       "      <th></th>\n",
       "      <th></th>\n",
       "      <th></th>\n",
       "      <th></th>\n",
       "      <th></th>\n",
       "      <th></th>\n",
       "      <th></th>\n",
       "      <th></th>\n",
       "      <th></th>\n",
       "      <th></th>\n",
       "      <th></th>\n",
       "      <th></th>\n",
       "      <th></th>\n",
       "      <th></th>\n",
       "      <th></th>\n",
       "      <th></th>\n",
       "      <th></th>\n",
       "      <th></th>\n",
       "      <th></th>\n",
       "      <th></th>\n",
       "    </tr>\n",
       "  </thead>\n",
       "  <tbody>\n",
       "    <tr>\n",
       "      <th>Confirmed</th>\n",
       "      <td>3687312</td>\n",
       "      <td>3128</td>\n",
       "      <td>434771</td>\n",
       "      <td>4112</td>\n",
       "      <td>108939</td>\n",
       "      <td>136337</td>\n",
       "      <td>4346</td>\n",
       "      <td>31503</td>\n",
       "      <td>2369</td>\n",
       "      <td>0</td>\n",
       "      <td>...</td>\n",
       "      <td>53992</td>\n",
       "      <td>81693</td>\n",
       "      <td>1665</td>\n",
       "      <td>428041</td>\n",
       "      <td>124453</td>\n",
       "      <td>11644</td>\n",
       "      <td>230414</td>\n",
       "      <td>19827</td>\n",
       "      <td>162778</td>\n",
       "      <td>0</td>\n",
       "    </tr>\n",
       "    <tr>\n",
       "      <th>Deceased</th>\n",
       "      <td>65446</td>\n",
       "      <td>46</td>\n",
       "      <td>3969</td>\n",
       "      <td>7</td>\n",
       "      <td>310</td>\n",
       "      <td>694</td>\n",
       "      <td>56</td>\n",
       "      <td>277</td>\n",
       "      <td>2</td>\n",
       "      <td>0</td>\n",
       "      <td>...</td>\n",
       "      <td>1453</td>\n",
       "      <td>1056</td>\n",
       "      <td>3</td>\n",
       "      <td>7323</td>\n",
       "      <td>827</td>\n",
       "      <td>103</td>\n",
       "      <td>3486</td>\n",
       "      <td>269</td>\n",
       "      <td>3228</td>\n",
       "      <td>0</td>\n",
       "    </tr>\n",
       "    <tr>\n",
       "      <th>Recovered</th>\n",
       "      <td>2837370</td>\n",
       "      <td>2638</td>\n",
       "      <td>330526</td>\n",
       "      <td>2885</td>\n",
       "      <td>85459</td>\n",
       "      <td>119572</td>\n",
       "      <td>2431</td>\n",
       "      <td>16989</td>\n",
       "      <td>2081</td>\n",
       "      <td>0</td>\n",
       "      <td>...</td>\n",
       "      <td>37027</td>\n",
       "      <td>66812</td>\n",
       "      <td>1226</td>\n",
       "      <td>368141</td>\n",
       "      <td>92837</td>\n",
       "      <td>7433</td>\n",
       "      <td>172140</td>\n",
       "      <td>13608</td>\n",
       "      <td>134270</td>\n",
       "      <td>0</td>\n",
       "    </tr>\n",
       "  </tbody>\n",
       "</table>\n",
       "<p>3 rows × 39 columns</p>\n",
       "</div>"
      ],
      "text/plain": [
       "                TT    AN      AP    AR      AS      BR    CH     CT    DN  DD  \\\n",
       "Status                                                                          \n",
       "Confirmed  3687312  3128  434771  4112  108939  136337  4346  31503  2369   0   \n",
       "Deceased     65446    46    3969     7     310     694    56    277     2   0   \n",
       "Recovered  2837370  2638  330526  2885   85459  119572  2431  16989  2081   0   \n",
       "\n",
       "           ...     PB     RJ    SK      TN      TG     TR      UP     UT  \\\n",
       "Status     ...                                                             \n",
       "Confirmed  ...  53992  81693  1665  428041  124453  11644  230414  19827   \n",
       "Deceased   ...   1453   1056     3    7323     827    103    3486    269   \n",
       "Recovered  ...  37027  66812  1226  368141   92837   7433  172140  13608   \n",
       "\n",
       "               WB  UN  \n",
       "Status                 \n",
       "Confirmed  162778   0  \n",
       "Deceased     3228   0  \n",
       "Recovered  134270   0  \n",
       "\n",
       "[3 rows x 39 columns]"
      ]
     },
     "execution_count": 6,
     "metadata": {},
     "output_type": "execute_result"
    }
   ],
   "source": [
    "#hide\n",
    "df_today"
   ]
  },
  {
   "cell_type": "code",
   "execution_count": 7,
   "metadata": {
    "execution": {
     "iopub.execute_input": "2020-08-31T19:11:30.649188Z",
     "iopub.status.busy": "2020-08-31T19:11:30.638930Z",
     "iopub.status.idle": "2020-08-31T19:11:30.652514Z",
     "shell.execute_reply": "2020-08-31T19:11:30.651954Z"
    },
    "papermill": {
     "duration": 0.032929,
     "end_time": "2020-08-31T19:11:30.652632",
     "exception": false,
     "start_time": "2020-08-31T19:11:30.619703",
     "status": "completed"
    },
    "tags": []
   },
   "outputs": [
    {
     "data": {
      "text/html": [
       "<div>\n",
       "<style scoped>\n",
       "    .dataframe tbody tr th:only-of-type {\n",
       "        vertical-align: middle;\n",
       "    }\n",
       "\n",
       "    .dataframe tbody tr th {\n",
       "        vertical-align: top;\n",
       "    }\n",
       "\n",
       "    .dataframe thead th {\n",
       "        text-align: right;\n",
       "    }\n",
       "</style>\n",
       "<table border=\"1\" class=\"dataframe\">\n",
       "  <thead>\n",
       "    <tr style=\"text-align: right;\">\n",
       "      <th></th>\n",
       "      <th>TT</th>\n",
       "      <th>AN</th>\n",
       "      <th>AP</th>\n",
       "      <th>AR</th>\n",
       "      <th>AS</th>\n",
       "      <th>BR</th>\n",
       "      <th>CH</th>\n",
       "      <th>CT</th>\n",
       "      <th>DN</th>\n",
       "      <th>DD</th>\n",
       "      <th>...</th>\n",
       "      <th>PB</th>\n",
       "      <th>RJ</th>\n",
       "      <th>SK</th>\n",
       "      <th>TN</th>\n",
       "      <th>TG</th>\n",
       "      <th>TR</th>\n",
       "      <th>UP</th>\n",
       "      <th>UT</th>\n",
       "      <th>WB</th>\n",
       "      <th>UN</th>\n",
       "    </tr>\n",
       "    <tr>\n",
       "      <th>Status</th>\n",
       "      <th></th>\n",
       "      <th></th>\n",
       "      <th></th>\n",
       "      <th></th>\n",
       "      <th></th>\n",
       "      <th></th>\n",
       "      <th></th>\n",
       "      <th></th>\n",
       "      <th></th>\n",
       "      <th></th>\n",
       "      <th></th>\n",
       "      <th></th>\n",
       "      <th></th>\n",
       "      <th></th>\n",
       "      <th></th>\n",
       "      <th></th>\n",
       "      <th></th>\n",
       "      <th></th>\n",
       "      <th></th>\n",
       "      <th></th>\n",
       "      <th></th>\n",
       "    </tr>\n",
       "  </thead>\n",
       "  <tbody>\n",
       "    <tr>\n",
       "      <th>Confirmed</th>\n",
       "      <td>3618546</td>\n",
       "      <td>3100</td>\n",
       "      <td>424767</td>\n",
       "      <td>4034</td>\n",
       "      <td>105673</td>\n",
       "      <td>135013</td>\n",
       "      <td>4155</td>\n",
       "      <td>30092</td>\n",
       "      <td>2342</td>\n",
       "      <td>0</td>\n",
       "      <td>...</td>\n",
       "      <td>52526</td>\n",
       "      <td>80227</td>\n",
       "      <td>1640</td>\n",
       "      <td>422085</td>\n",
       "      <td>122580</td>\n",
       "      <td>11323</td>\n",
       "      <td>225632</td>\n",
       "      <td>19235</td>\n",
       "      <td>159785</td>\n",
       "      <td>0</td>\n",
       "    </tr>\n",
       "    <tr>\n",
       "      <th>Deceased</th>\n",
       "      <td>64628</td>\n",
       "      <td>45</td>\n",
       "      <td>3884</td>\n",
       "      <td>7</td>\n",
       "      <td>300</td>\n",
       "      <td>688</td>\n",
       "      <td>52</td>\n",
       "      <td>269</td>\n",
       "      <td>2</td>\n",
       "      <td>0</td>\n",
       "      <td>...</td>\n",
       "      <td>1404</td>\n",
       "      <td>1043</td>\n",
       "      <td>3</td>\n",
       "      <td>7231</td>\n",
       "      <td>818</td>\n",
       "      <td>98</td>\n",
       "      <td>3423</td>\n",
       "      <td>257</td>\n",
       "      <td>3176</td>\n",
       "      <td>0</td>\n",
       "    </tr>\n",
       "    <tr>\n",
       "      <th>Recovered</th>\n",
       "      <td>2772935</td>\n",
       "      <td>2577</td>\n",
       "      <td>321754</td>\n",
       "      <td>2822</td>\n",
       "      <td>83928</td>\n",
       "      <td>117305</td>\n",
       "      <td>2296</td>\n",
       "      <td>16303</td>\n",
       "      <td>2042</td>\n",
       "      <td>0</td>\n",
       "      <td>...</td>\n",
       "      <td>35747</td>\n",
       "      <td>65093</td>\n",
       "      <td>1221</td>\n",
       "      <td>362133</td>\n",
       "      <td>90988</td>\n",
       "      <td>7232</td>\n",
       "      <td>167543</td>\n",
       "      <td>13004</td>\n",
       "      <td>130952</td>\n",
       "      <td>0</td>\n",
       "    </tr>\n",
       "  </tbody>\n",
       "</table>\n",
       "<p>3 rows × 39 columns</p>\n",
       "</div>"
      ],
      "text/plain": [
       "                TT    AN      AP    AR      AS      BR    CH     CT    DN  DD  \\\n",
       "Status                                                                          \n",
       "Confirmed  3618546  3100  424767  4034  105673  135013  4155  30092  2342   0   \n",
       "Deceased     64628    45    3884     7     300     688    52    269     2   0   \n",
       "Recovered  2772935  2577  321754  2822   83928  117305  2296  16303  2042   0   \n",
       "\n",
       "           ...     PB     RJ    SK      TN      TG     TR      UP     UT  \\\n",
       "Status     ...                                                             \n",
       "Confirmed  ...  52526  80227  1640  422085  122580  11323  225632  19235   \n",
       "Deceased   ...   1404   1043     3    7231     818     98    3423    257   \n",
       "Recovered  ...  35747  65093  1221  362133   90988   7232  167543  13004   \n",
       "\n",
       "               WB  UN  \n",
       "Status                 \n",
       "Confirmed  159785   0  \n",
       "Deceased     3176   0  \n",
       "Recovered  130952   0  \n",
       "\n",
       "[3 rows x 39 columns]"
      ]
     },
     "execution_count": 7,
     "metadata": {},
     "output_type": "execute_result"
    }
   ],
   "source": [
    "#hide\n",
    "df_yday.head()"
   ]
  },
  {
   "cell_type": "code",
   "execution_count": 8,
   "metadata": {
    "execution": {
     "iopub.execute_input": "2020-08-31T19:11:30.686515Z",
     "iopub.status.busy": "2020-08-31T19:11:30.685992Z",
     "iopub.status.idle": "2020-08-31T19:11:30.688481Z",
     "shell.execute_reply": "2020-08-31T19:11:30.688866Z"
    },
    "papermill": {
     "duration": 0.023107,
     "end_time": "2020-08-31T19:11:30.688974",
     "exception": false,
     "start_time": "2020-08-31T19:11:30.665867",
     "status": "completed"
    },
    "tags": []
   },
   "outputs": [
    {
     "data": {
      "text/plain": [
       "{'updated': '31-Aug-20',\n",
       " 'since': '30-Aug-20',\n",
       " 'Cases': 3687312,\n",
       " 'Deaths': 65446,\n",
       " 'Recovered': 2837370,\n",
       " 'PCases': 3618546,\n",
       " 'PDeaths': 64628,\n",
       " 'PRecovered': 2772935,\n",
       " 'Cases (+)': 68766,\n",
       " 'Deaths (+)': 818,\n",
       " 'Recovered (+)': 64435}"
      ]
     },
     "execution_count": 8,
     "metadata": {},
     "output_type": "execute_result"
    }
   ],
   "source": [
    "#hide\n",
    "summary = {\n",
    "    'updated' : dt_today,\n",
    "    'since' : dt_yday,\n",
    "    'Cases' : df_today['TT'][0],\n",
    "    'Deaths' : df_today['TT'][1],\n",
    "    'Recovered' : df_today['TT'][2],\n",
    "    'PCases' : df_yday['TT'][0],\n",
    "    'PDeaths' : df_yday['TT'][1],\n",
    "    'PRecovered': df_yday['TT'][2],\n",
    "    'Cases (+)' : df_today['TT'][0] - df_yday['TT'][0],\n",
    "    'Deaths (+)' : df_today['TT'][1] - df_yday['TT'][1],\n",
    "    'Recovered (+)': df_today['TT'][2] - df_yday['TT'][2]\n",
    "}\n",
    "\n",
    "summary"
   ]
  },
  {
   "cell_type": "code",
   "execution_count": 9,
   "metadata": {
    "execution": {
     "iopub.execute_input": "2020-08-31T19:11:30.721274Z",
     "iopub.status.busy": "2020-08-31T19:11:30.720687Z",
     "iopub.status.idle": "2020-08-31T19:11:30.722833Z",
     "shell.execute_reply": "2020-08-31T19:11:30.723291Z"
    },
    "papermill": {
     "duration": 0.021104,
     "end_time": "2020-08-31T19:11:30.723409",
     "exception": false,
     "start_time": "2020-08-31T19:11:30.702305",
     "status": "completed"
    },
    "tags": []
   },
   "outputs": [],
   "source": [
    "#hide\n",
    "overview = '''\n",
    "<!-- #######  HTML!! #########-->\n",
    "<h1 style=\"color: #5e9ca0; text-align: center;\">India</h1>\n",
    "<p style=\"text-align: center;\">Last update: <strong>{update}</strong></p>\n",
    "<p style=\"text-align: center;\">Confirmed cases:</p>\n",
    "<p style=\"text-align: center;font-size:24px;\">{cases} (<span style=\"color: #ff0000;\">+{new}</span>)</p>\n",
    "<p style=\"text-align: center;\">Confirmed deaths:</p>\n",
    "<p style=\"text-align: center;font-size:24px;\">{deaths} (<span style=\"color: #ff0000;\">+{dnew}</span>)</p>\n",
    "<p style=\"text-align: center;\">Recovered cases:</p>\n",
    "<p style=\"text-align: center;font-size:24px;\">{recovered} (<span style=\"color: #00ff00;\">+{rnew}</span>)</p>\n",
    "'''"
   ]
  },
  {
   "cell_type": "code",
   "execution_count": 10,
   "metadata": {
    "execution": {
     "iopub.execute_input": "2020-08-31T19:11:30.755477Z",
     "iopub.status.busy": "2020-08-31T19:11:30.754937Z",
     "iopub.status.idle": "2020-08-31T19:11:30.757484Z",
     "shell.execute_reply": "2020-08-31T19:11:30.757888Z"
    },
    "papermill": {
     "duration": 0.021133,
     "end_time": "2020-08-31T19:11:30.757993",
     "exception": false,
     "start_time": "2020-08-31T19:11:30.736860",
     "status": "completed"
    },
    "tags": []
   },
   "outputs": [
    {
     "data": {
      "text/html": [
       "\n",
       "<!-- #######  HTML!! #########-->\n",
       "<h1 style=\"color: #5e9ca0; text-align: center;\">India</h1>\n",
       "<p style=\"text-align: center;\">Last update: <strong>31-Aug-20</strong></p>\n",
       "<p style=\"text-align: center;\">Confirmed cases:</p>\n",
       "<p style=\"text-align: center;font-size:24px;\">3687312 (<span style=\"color: #ff0000;\">+68766</span>)</p>\n",
       "<p style=\"text-align: center;\">Confirmed deaths:</p>\n",
       "<p style=\"text-align: center;font-size:24px;\">65446 (<span style=\"color: #ff0000;\">+818</span>)</p>\n",
       "<p style=\"text-align: center;\">Recovered cases:</p>\n",
       "<p style=\"text-align: center;font-size:24px;\">2837370 (<span style=\"color: #00ff00;\">+64435</span>)</p>\n"
      ],
      "text/plain": [
       "<IPython.core.display.HTML object>"
      ]
     },
     "metadata": {},
     "output_type": "display_data"
    }
   ],
   "source": [
    "#hide_input\n",
    "# Fill the above HTML with the information from the summary dictionary\n",
    "\n",
    "update = summary['updated']\n",
    "cases = summary['Cases']\n",
    "new = summary['Cases (+)']\n",
    "deaths = summary['Deaths']\n",
    "dnew = summary['Deaths (+)']\n",
    "recovered = summary['Recovered']\n",
    "rnew = summary['Recovered (+)']\n",
    "\n",
    "html = HTML(overview.format(update=update, cases=cases,new=new,deaths=deaths,dnew=dnew, recovered=recovered, rnew=rnew))\n",
    "\n",
    "display(html)"
   ]
  },
  {
   "cell_type": "code",
   "execution_count": 11,
   "metadata": {
    "execution": {
     "iopub.execute_input": "2020-08-31T19:11:30.792739Z",
     "iopub.status.busy": "2020-08-31T19:11:30.792095Z",
     "iopub.status.idle": "2020-08-31T19:11:30.797290Z",
     "shell.execute_reply": "2020-08-31T19:11:30.796768Z"
    },
    "papermill": {
     "duration": 0.025529,
     "end_time": "2020-08-31T19:11:30.797416",
     "exception": false,
     "start_time": "2020-08-31T19:11:30.771887",
     "status": "completed"
    },
    "tags": []
   },
   "outputs": [],
   "source": [
    "#hide\n",
    "df_cases = df[df['Status'] == 'Confirmed'].copy()\n",
    "df_cases.drop(columns = ['Status'], inplace=True)\n",
    "df_deaths = df[df['Status'] == 'Deceased'].copy()\n",
    "df_deaths.drop(columns = ['Status'], inplace=True)\n",
    "df_recovered = df[df['Status'] == 'Recovered'].copy()\n",
    "df_recovered.drop(columns = ['Status'], inplace=True)"
   ]
  },
  {
   "cell_type": "markdown",
   "metadata": {
    "papermill": {
     "duration": 0.01339,
     "end_time": "2020-08-31T19:11:30.824130",
     "exception": false,
     "start_time": "2020-08-31T19:11:30.810740",
     "status": "completed"
    },
    "tags": []
   },
   "source": [
    "Plot for India:"
   ]
  },
  {
   "cell_type": "code",
   "execution_count": 12,
   "metadata": {
    "execution": {
     "iopub.execute_input": "2020-08-31T19:11:30.875016Z",
     "iopub.status.busy": "2020-08-31T19:11:30.874482Z",
     "iopub.status.idle": "2020-08-31T19:11:31.102700Z",
     "shell.execute_reply": "2020-08-31T19:11:31.103266Z"
    },
    "papermill": {
     "duration": 0.264291,
     "end_time": "2020-08-31T19:11:31.103447",
     "exception": false,
     "start_time": "2020-08-31T19:11:30.839156",
     "status": "completed"
    },
    "tags": []
   },
   "outputs": [
    {
     "data": {
      "image/png": "[encoded data removed]",
      "text/plain": [
       "<Figure size 1296x432 with 1 Axes>"
      ]
     },
     "metadata": {
      "needs_background": "light"
     },
     "output_type": "display_data"
    }
   ],
   "source": [
    "#hide_input\n",
    "plt.figure(figsize = (18,6))\n",
    "plt.plot(df_cases['Date'], df_cases['TT'],'.-', alpha=0.7, color='b', label='Confirmed cases')\n",
    "plt.plot(df_recovered['Date'], df_recovered['TT'],'.-', alpha=0.7, color='g', label='Recovered')\n",
    "plt.plot(df_deaths['Date'], df_deaths['TT'],'.-', alpha=0.7, color='r', label='Deceased')\n",
    "plt.legend()\n",
    "plt.title(\"Cases per day in India\")\n",
    "plt.xticks(ticks=' ')\n",
    "plt.xlabel(f'{df_cases.iloc[0][0]} to {df_cases.iloc[-1][0]}')\n",
    "plt.ylabel('No. of cases');"
   ]
  },
  {
   "cell_type": "markdown",
   "metadata": {
    "papermill": {
     "duration": 0.016574,
     "end_time": "2020-08-31T19:11:31.137256",
     "exception": false,
     "start_time": "2020-08-31T19:11:31.120682",
     "status": "completed"
    },
    "tags": []
   },
   "source": [
    "Plots for the states with highest number of cases:"
   ]
  },
  {
   "cell_type": "code",
   "execution_count": 13,
   "metadata": {
    "execution": {
     "iopub.execute_input": "2020-08-31T19:11:31.176271Z",
     "iopub.status.busy": "2020-08-31T19:11:31.175720Z",
     "iopub.status.idle": "2020-08-31T19:11:31.636466Z",
     "shell.execute_reply": "2020-08-31T19:11:31.636918Z"
    },
    "papermill": {
     "duration": 0.483774,
     "end_time": "2020-08-31T19:11:31.637062",
     "exception": false,
     "start_time": "2020-08-31T19:11:31.153288",
     "status": "completed"
    },
    "tags": []
   },
   "outputs": [
    {
     "data": {
      "image/png": "[encoded data removed]",
      "text/plain": [
       "<Figure size 1512x432 with 3 Axes>"
      ]
     },
     "metadata": {
      "needs_background": "light"
     },
     "output_type": "display_data"
    }
   ],
   "source": [
    "#hide_input\n",
    "top_3 = sorted(df_cases.sum().values[1:], reverse=True)[1:4]\n",
    "top3_states=[]\n",
    "for i in top_3:\n",
    "    top3_states.append(df_cases.sum()[df_cases.sum() == i].index)\n",
    "\n",
    "\n",
    "fig, ax = plt.subplots(1,3,figsize = (21,6))\n",
    "for i in range(3):\n",
    "    state = top3_states[i].values[0]\n",
    "    ax[i].plot(df_cases['Date'], df_cases[state],'.-', color='b', alpha=0.7)\n",
    "    ax[i].plot(df_deaths['Date'], df_deaths[state],'.-', color='r', alpha=0.7)\n",
    "    ax[i].plot(df_recovered['Date'], df_recovered[state],'.-', color='g', alpha=0.7)\n",
    "    \n",
    "    ax[i].set_title(f\"Cases in {state}\")\n",
    "    ax[i].set_xticks(ticks=' ')\n",
    "    ax[i].set_xlabel(f'{df_cases.iloc[0][0]} to {df_cases.iloc[-1][0]}')\n",
    "    ax[i].set_ylabel('No. of cases');"
   ]
  },
  {
   "cell_type": "code",
   "execution_count": null,
   "metadata": {
    "papermill": {
     "duration": 0.015666,
     "end_time": "2020-08-31T19:11:31.668615",
     "exception": false,
     "start_time": "2020-08-31T19:11:31.652949",
     "status": "completed"
    },
    "tags": []
   },
   "outputs": [],
   "source": []
  },
  {
   "cell_type": "code",
   "execution_count": null,
   "metadata": {
    "papermill": {
     "duration": 0.015561,
     "end_time": "2020-08-31T19:11:31.700887",
     "exception": false,
     "start_time": "2020-08-31T19:11:31.685326",
     "status": "completed"
    },
    "tags": []
   },
   "outputs": [],
   "source": []
  },
  {
   "cell_type": "code",
   "execution_count": null,
   "metadata": {
    "papermill": {
     "duration": 0.017269,
     "end_time": "2020-08-31T19:11:31.733763",
     "exception": false,
     "start_time": "2020-08-31T19:11:31.716494",
     "status": "completed"
    },
    "tags": []
   },
   "outputs": [],
   "source": []
  }
 ],
 "metadata": {
  "kernelspec": {
   "display_name": "Python 3",
   "language": "python",
   "name": "python3"
  },
  "language_info": {
   "codemirror_mode": {
    "name": "ipython",
    "version": 3
   },
   "file_extension": ".py",
   "mimetype": "text/x-python",
   "name": "python",
   "nbconvert_exporter": "python",
   "pygments_lexer": "ipython3",
   "version": "3.6.11"
  },
  "papermill": {
   "duration": 3.458289,
   "end_time": "2020-08-31T19:11:32.055953",
   "environment_variables": {},
   "exception": null,
   "input_path": "2020-08-09-DailyUpdate.ipynb",
   "output_path": "2020-08-09-DailyUpdate.ipynb",
   "parameters": {},
   "start_time": "2020-08-31T19:11:28.597664",
   "version": "2.1.2"
  }
 },
 "nbformat": 4,
 "nbformat_minor": 4
}