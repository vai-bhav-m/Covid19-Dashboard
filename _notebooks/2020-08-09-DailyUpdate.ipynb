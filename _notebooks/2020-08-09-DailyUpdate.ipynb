{
 "cells": [
  {
   "cell_type": "markdown",
   "metadata": {
    "papermill": {
     "duration": 0.018323,
     "end_time": "2020-09-25T19:12:40.909266",
     "exception": false,
     "start_time": "2020-09-25T19:12:40.890943",
     "status": "completed"
    },
    "tags": []
   },
   "source": [
    "# COVID-19 India Daily updates\n",
    "> Tracking coronavirus total cases, deaths and new cases in India on a daily basis\n",
    "\n",
    "- author: Vaibhav Mahapatra"
   ]
  },
  {
   "cell_type": "code",
   "execution_count": 1,
   "metadata": {
    "execution": {
     "iopub.execute_input": "2020-09-25T19:12:40.946557Z",
     "iopub.status.busy": "2020-09-25T19:12:40.945808Z",
     "iopub.status.idle": "2020-09-25T19:12:41.577665Z",
     "shell.execute_reply": "2020-09-25T19:12:41.577023Z"
    },
    "papermill": {
     "duration": 0.652719,
     "end_time": "2020-09-25T19:12:41.577886",
     "exception": false,
     "start_time": "2020-09-25T19:12:40.925167",
     "status": "completed"
    },
    "tags": []
   },
   "outputs": [],
   "source": [
    "#hide\n",
    "\n",
    "## Import essential packages below\n",
    "\n",
    "import pandas as pd\n",
    "import numpy as np\n",
    "import requests\n",
    "import json\n",
    "import matplotlib.pyplot as plt\n",
    "import matplotlib.dates as mdates\n",
    "import matplotlib as mpl\n",
    "from IPython.core.display import display,HTML\n",
    "%matplotlib inline"
   ]
  },
  {
   "cell_type": "code",
   "execution_count": 2,
   "metadata": {
    "execution": {
     "iopub.execute_input": "2020-09-25T19:12:41.614353Z",
     "iopub.status.busy": "2020-09-25T19:12:41.613609Z",
     "iopub.status.idle": "2020-09-25T19:12:41.855350Z",
     "shell.execute_reply": "2020-09-25T19:12:41.854723Z"
    },
    "papermill": {
     "duration": 0.2623,
     "end_time": "2020-09-25T19:12:41.855520",
     "exception": false,
     "start_time": "2020-09-25T19:12:41.593220",
     "status": "completed"
    },
    "tags": []
   },
   "outputs": [
    {
     "data": {
      "text/plain": [
       "(588, 41)"
      ]
     },
     "execution_count": 2,
     "metadata": {},
     "output_type": "execute_result"
    }
   ],
   "source": [
    "#hide\n",
    "url = 'https://api.covid19india.org/csv/latest/state_wise_daily.csv'\n",
    "df = pd.read_csv(url)\n",
    "df.shape"
   ]
  },
  {
   "cell_type": "code",
   "execution_count": 3,
   "metadata": {
    "execution": {
     "iopub.execute_input": "2020-09-25T19:12:42.099770Z",
     "iopub.status.busy": "2020-09-25T19:12:42.093924Z",
     "iopub.status.idle": "2020-09-25T19:12:42.111321Z",
     "shell.execute_reply": "2020-09-25T19:12:42.111915Z"
    },
    "papermill": {
     "duration": 0.241383,
     "end_time": "2020-09-25T19:12:42.112100",
     "exception": false,
     "start_time": "2020-09-25T19:12:41.870717",
     "status": "completed"
    },
    "tags": []
   },
   "outputs": [
    {
     "data": {
      "text/html": [
       "<div>\n",
       "<style scoped>\n",
       "    .dataframe tbody tr th:only-of-type {\n",
       "        vertical-align: middle;\n",
       "    }\n",
       "\n",
       "    .dataframe tbody tr th {\n",
       "        vertical-align: top;\n",
       "    }\n",
       "\n",
       "    .dataframe thead th {\n",
       "        text-align: right;\n",
       "    }\n",
       "</style>\n",
       "<table border=\"1\" class=\"dataframe\">\n",
       "  <thead>\n",
       "    <tr style=\"text-align: right;\">\n",
       "      <th></th>\n",
       "      <th>Date</th>\n",
       "      <th>Status</th>\n",
       "      <th>TT</th>\n",
       "      <th>AN</th>\n",
       "      <th>AP</th>\n",
       "      <th>AR</th>\n",
       "      <th>AS</th>\n",
       "      <th>BR</th>\n",
       "      <th>CH</th>\n",
       "      <th>CT</th>\n",
       "      <th>...</th>\n",
       "      <th>PB</th>\n",
       "      <th>RJ</th>\n",
       "      <th>SK</th>\n",
       "      <th>TN</th>\n",
       "      <th>TG</th>\n",
       "      <th>TR</th>\n",
       "      <th>UP</th>\n",
       "      <th>UT</th>\n",
       "      <th>WB</th>\n",
       "      <th>UN</th>\n",
       "    </tr>\n",
       "  </thead>\n",
       "  <tbody>\n",
       "    <tr>\n",
       "      <th>582</th>\n",
       "      <td>24-Sep-20</td>\n",
       "      <td>Confirmed</td>\n",
       "      <td>85921</td>\n",
       "      <td>32</td>\n",
       "      <td>7855</td>\n",
       "      <td>283</td>\n",
       "      <td>2091</td>\n",
       "      <td>1203</td>\n",
       "      <td>242</td>\n",
       "      <td>2272</td>\n",
       "      <td>...</td>\n",
       "      <td>1756</td>\n",
       "      <td>1981</td>\n",
       "      <td>64</td>\n",
       "      <td>5692</td>\n",
       "      <td>2176</td>\n",
       "      <td>451</td>\n",
       "      <td>4591</td>\n",
       "      <td>684</td>\n",
       "      <td>3196</td>\n",
       "      <td>0</td>\n",
       "    </tr>\n",
       "    <tr>\n",
       "      <th>583</th>\n",
       "      <td>24-Sep-20</td>\n",
       "      <td>Recovered</td>\n",
       "      <td>81142</td>\n",
       "      <td>9</td>\n",
       "      <td>8807</td>\n",
       "      <td>168</td>\n",
       "      <td>2432</td>\n",
       "      <td>1154</td>\n",
       "      <td>293</td>\n",
       "      <td>2060</td>\n",
       "      <td>...</td>\n",
       "      <td>2231</td>\n",
       "      <td>1965</td>\n",
       "      <td>31</td>\n",
       "      <td>5470</td>\n",
       "      <td>2004</td>\n",
       "      <td>492</td>\n",
       "      <td>4922</td>\n",
       "      <td>1031</td>\n",
       "      <td>3014</td>\n",
       "      <td>0</td>\n",
       "    </tr>\n",
       "    <tr>\n",
       "      <th>584</th>\n",
       "      <td>24-Sep-20</td>\n",
       "      <td>Deceased</td>\n",
       "      <td>1144</td>\n",
       "      <td>0</td>\n",
       "      <td>52</td>\n",
       "      <td>0</td>\n",
       "      <td>11</td>\n",
       "      <td>4</td>\n",
       "      <td>7</td>\n",
       "      <td>24</td>\n",
       "      <td>...</td>\n",
       "      <td>76</td>\n",
       "      <td>15</td>\n",
       "      <td>1</td>\n",
       "      <td>66</td>\n",
       "      <td>8</td>\n",
       "      <td>7</td>\n",
       "      <td>67</td>\n",
       "      <td>13</td>\n",
       "      <td>62</td>\n",
       "      <td>0</td>\n",
       "    </tr>\n",
       "    <tr>\n",
       "      <th>585</th>\n",
       "      <td>25-Sep-20</td>\n",
       "      <td>Confirmed</td>\n",
       "      <td>81638</td>\n",
       "      <td>15</td>\n",
       "      <td>7073</td>\n",
       "      <td>0</td>\n",
       "      <td>1792</td>\n",
       "      <td>1632</td>\n",
       "      <td>244</td>\n",
       "      <td>2942</td>\n",
       "      <td>...</td>\n",
       "      <td>1876</td>\n",
       "      <td>2010</td>\n",
       "      <td>95</td>\n",
       "      <td>5679</td>\n",
       "      <td>2381</td>\n",
       "      <td>341</td>\n",
       "      <td>4256</td>\n",
       "      <td>928</td>\n",
       "      <td>3190</td>\n",
       "      <td>0</td>\n",
       "    </tr>\n",
       "    <tr>\n",
       "      <th>586</th>\n",
       "      <td>25-Sep-20</td>\n",
       "      <td>Recovered</td>\n",
       "      <td>89105</td>\n",
       "      <td>25</td>\n",
       "      <td>8695</td>\n",
       "      <td>0</td>\n",
       "      <td>1571</td>\n",
       "      <td>1810</td>\n",
       "      <td>335</td>\n",
       "      <td>8027</td>\n",
       "      <td>...</td>\n",
       "      <td>2550</td>\n",
       "      <td>1958</td>\n",
       "      <td>21</td>\n",
       "      <td>5626</td>\n",
       "      <td>2021</td>\n",
       "      <td>509</td>\n",
       "      <td>6075</td>\n",
       "      <td>1488</td>\n",
       "      <td>2978</td>\n",
       "      <td>0</td>\n",
       "    </tr>\n",
       "    <tr>\n",
       "      <th>587</th>\n",
       "      <td>25-Sep-20</td>\n",
       "      <td>Deceased</td>\n",
       "      <td>1057</td>\n",
       "      <td>0</td>\n",
       "      <td>48</td>\n",
       "      <td>0</td>\n",
       "      <td>17</td>\n",
       "      <td>3</td>\n",
       "      <td>1</td>\n",
       "      <td>25</td>\n",
       "      <td>...</td>\n",
       "      <td>68</td>\n",
       "      <td>15</td>\n",
       "      <td>0</td>\n",
       "      <td>72</td>\n",
       "      <td>10</td>\n",
       "      <td>5</td>\n",
       "      <td>84</td>\n",
       "      <td>13</td>\n",
       "      <td>59</td>\n",
       "      <td>0</td>\n",
       "    </tr>\n",
       "  </tbody>\n",
       "</table>\n",
       "<p>6 rows × 41 columns</p>\n",
       "</div>"
      ],
      "text/plain": [
       "          Date     Status     TT  AN    AP   AR    AS    BR   CH    CT  ...  \\\n",
       "582  24-Sep-20  Confirmed  85921  32  7855  283  2091  1203  242  2272  ...   \n",
       "583  24-Sep-20  Recovered  81142   9  8807  168  2432  1154  293  2060  ...   \n",
       "584  24-Sep-20   Deceased   1144   0    52    0    11     4    7    24  ...   \n",
       "585  25-Sep-20  Confirmed  81638  15  7073    0  1792  1632  244  2942  ...   \n",
       "586  25-Sep-20  Recovered  89105  25  8695    0  1571  1810  335  8027  ...   \n",
       "587  25-Sep-20   Deceased   1057   0    48    0    17     3    1    25  ...   \n",
       "\n",
       "       PB    RJ  SK    TN    TG   TR    UP    UT    WB  UN  \n",
       "582  1756  1981  64  5692  2176  451  4591   684  3196   0  \n",
       "583  2231  1965  31  5470  2004  492  4922  1031  3014   0  \n",
       "584    76    15   1    66     8    7    67    13    62   0  \n",
       "585  1876  2010  95  5679  2381  341  4256   928  3190   0  \n",
       "586  2550  1958  21  5626  2021  509  6075  1488  2978   0  \n",
       "587    68    15   0    72    10    5    84    13    59   0  \n",
       "\n",
       "[6 rows x 41 columns]"
      ]
     },
     "execution_count": 3,
     "metadata": {},
     "output_type": "execute_result"
    }
   ],
   "source": [
    "#hide\n",
    "df.tail(6)"
   ]
  },
  {
   "cell_type": "code",
   "execution_count": 4,
   "metadata": {
    "execution": {
     "iopub.execute_input": "2020-09-25T19:12:42.150923Z",
     "iopub.status.busy": "2020-09-25T19:12:42.150203Z",
     "iopub.status.idle": "2020-09-25T19:12:42.153162Z",
     "shell.execute_reply": "2020-09-25T19:12:42.154084Z"
    },
    "papermill": {
     "duration": 0.024838,
     "end_time": "2020-09-25T19:12:42.154257",
     "exception": false,
     "start_time": "2020-09-25T19:12:42.129419",
     "status": "completed"
    },
    "tags": []
   },
   "outputs": [
    {
     "data": {
      "text/plain": [
       "('25-Sep-20', '24-Sep-20')"
      ]
     },
     "execution_count": 4,
     "metadata": {},
     "output_type": "execute_result"
    }
   ],
   "source": [
    "#hide\n",
    "dt_today = df.iloc[-1][0]\n",
    "dt_yday = df.iloc[-4][0]\n",
    "dt_today, dt_yday"
   ]
  },
  {
   "cell_type": "code",
   "execution_count": 5,
   "metadata": {
    "execution": {
     "iopub.execute_input": "2020-09-25T19:12:42.195059Z",
     "iopub.status.busy": "2020-09-25T19:12:42.194382Z",
     "iopub.status.idle": "2020-09-25T19:12:42.201224Z",
     "shell.execute_reply": "2020-09-25T19:12:42.201862Z"
    },
    "papermill": {
     "duration": 0.031311,
     "end_time": "2020-09-25T19:12:42.202026",
     "exception": false,
     "start_time": "2020-09-25T19:12:42.170715",
     "status": "completed"
    },
    "tags": []
   },
   "outputs": [],
   "source": [
    "#hide\n",
    "df_today = df.groupby('Status').sum()\n",
    "df_yday = df.iloc[:-3][:].groupby('Status').sum()"
   ]
  },
  {
   "cell_type": "code",
   "execution_count": 6,
   "metadata": {
    "execution": {
     "iopub.execute_input": "2020-09-25T19:12:42.256440Z",
     "iopub.status.busy": "2020-09-25T19:12:42.255775Z",
     "iopub.status.idle": "2020-09-25T19:12:42.259203Z",
     "shell.execute_reply": "2020-09-25T19:12:42.259824Z"
    },
    "papermill": {
     "duration": 0.03476,
     "end_time": "2020-09-25T19:12:42.259992",
     "exception": false,
     "start_time": "2020-09-25T19:12:42.225232",
     "status": "completed"
    },
    "tags": []
   },
   "outputs": [
    {
     "data": {
      "text/html": [
       "<div>\n",
       "<style scoped>\n",
       "    .dataframe tbody tr th:only-of-type {\n",
       "        vertical-align: middle;\n",
       "    }\n",
       "\n",
       "    .dataframe tbody tr th {\n",
       "        vertical-align: top;\n",
       "    }\n",
       "\n",
       "    .dataframe thead th {\n",
       "        text-align: right;\n",
       "    }\n",
       "</style>\n",
       "<table border=\"1\" class=\"dataframe\">\n",
       "  <thead>\n",
       "    <tr style=\"text-align: right;\">\n",
       "      <th></th>\n",
       "      <th>TT</th>\n",
       "      <th>AN</th>\n",
       "      <th>AP</th>\n",
       "      <th>AR</th>\n",
       "      <th>AS</th>\n",
       "      <th>BR</th>\n",
       "      <th>CH</th>\n",
       "      <th>CT</th>\n",
       "      <th>DN</th>\n",
       "      <th>DD</th>\n",
       "      <th>...</th>\n",
       "      <th>PB</th>\n",
       "      <th>RJ</th>\n",
       "      <th>SK</th>\n",
       "      <th>TN</th>\n",
       "      <th>TG</th>\n",
       "      <th>TR</th>\n",
       "      <th>UP</th>\n",
       "      <th>UT</th>\n",
       "      <th>WB</th>\n",
       "      <th>UN</th>\n",
       "    </tr>\n",
       "    <tr>\n",
       "      <th>Status</th>\n",
       "      <th></th>\n",
       "      <th></th>\n",
       "      <th></th>\n",
       "      <th></th>\n",
       "      <th></th>\n",
       "      <th></th>\n",
       "      <th></th>\n",
       "      <th></th>\n",
       "      <th></th>\n",
       "      <th></th>\n",
       "      <th></th>\n",
       "      <th></th>\n",
       "      <th></th>\n",
       "      <th></th>\n",
       "      <th></th>\n",
       "      <th></th>\n",
       "      <th></th>\n",
       "      <th></th>\n",
       "      <th></th>\n",
       "      <th></th>\n",
       "      <th></th>\n",
       "    </tr>\n",
       "  </thead>\n",
       "  <tbody>\n",
       "    <tr>\n",
       "      <th>Confirmed</th>\n",
       "      <td>5897110</td>\n",
       "      <td>3755</td>\n",
       "      <td>661458</td>\n",
       "      <td>8416</td>\n",
       "      <td>167272</td>\n",
       "      <td>175898</td>\n",
       "      <td>11212</td>\n",
       "      <td>98565</td>\n",
       "      <td>2989</td>\n",
       "      <td>0</td>\n",
       "      <td>...</td>\n",
       "      <td>107096</td>\n",
       "      <td>124730</td>\n",
       "      <td>2720</td>\n",
       "      <td>569370</td>\n",
       "      <td>181117</td>\n",
       "      <td>24127</td>\n",
       "      <td>378533</td>\n",
       "      <td>45332</td>\n",
       "      <td>241059</td>\n",
       "      <td>0</td>\n",
       "    </tr>\n",
       "    <tr>\n",
       "      <th>Deceased</th>\n",
       "      <td>92789</td>\n",
       "      <td>52</td>\n",
       "      <td>5606</td>\n",
       "      <td>14</td>\n",
       "      <td>629</td>\n",
       "      <td>881</td>\n",
       "      <td>145</td>\n",
       "      <td>777</td>\n",
       "      <td>2</td>\n",
       "      <td>0</td>\n",
       "      <td>...</td>\n",
       "      <td>3134</td>\n",
       "      <td>1412</td>\n",
       "      <td>31</td>\n",
       "      <td>9148</td>\n",
       "      <td>1080</td>\n",
       "      <td>262</td>\n",
       "      <td>5450</td>\n",
       "      <td>555</td>\n",
       "      <td>4665</td>\n",
       "      <td>0</td>\n",
       "    </tr>\n",
       "    <tr>\n",
       "      <th>Recovered</th>\n",
       "      <td>4842089</td>\n",
       "      <td>3519</td>\n",
       "      <td>588169</td>\n",
       "      <td>6071</td>\n",
       "      <td>136712</td>\n",
       "      <td>161510</td>\n",
       "      <td>8677</td>\n",
       "      <td>66860</td>\n",
       "      <td>2764</td>\n",
       "      <td>0</td>\n",
       "      <td>...</td>\n",
       "      <td>84025</td>\n",
       "      <td>104288</td>\n",
       "      <td>1995</td>\n",
       "      <td>513836</td>\n",
       "      <td>150160</td>\n",
       "      <td>17464</td>\n",
       "      <td>313686</td>\n",
       "      <td>33642</td>\n",
       "      <td>211020</td>\n",
       "      <td>0</td>\n",
       "    </tr>\n",
       "  </tbody>\n",
       "</table>\n",
       "<p>3 rows × 39 columns</p>\n",
       "</div>"
      ],
      "text/plain": [
       "                TT    AN      AP    AR      AS      BR     CH     CT    DN  \\\n",
       "Status                                                                       \n",
       "Confirmed  5897110  3755  661458  8416  167272  175898  11212  98565  2989   \n",
       "Deceased     92789    52    5606    14     629     881    145    777     2   \n",
       "Recovered  4842089  3519  588169  6071  136712  161510   8677  66860  2764   \n",
       "\n",
       "           DD  ...      PB      RJ    SK      TN      TG     TR      UP  \\\n",
       "Status         ...                                                        \n",
       "Confirmed   0  ...  107096  124730  2720  569370  181117  24127  378533   \n",
       "Deceased    0  ...    3134    1412    31    9148    1080    262    5450   \n",
       "Recovered   0  ...   84025  104288  1995  513836  150160  17464  313686   \n",
       "\n",
       "              UT      WB  UN  \n",
       "Status                        \n",
       "Confirmed  45332  241059   0  \n",
       "Deceased     555    4665   0  \n",
       "Recovered  33642  211020   0  \n",
       "\n",
       "[3 rows x 39 columns]"
      ]
     },
     "execution_count": 6,
     "metadata": {},
     "output_type": "execute_result"
    }
   ],
   "source": [
    "#hide\n",
    "df_today"
   ]
  },
  {
   "cell_type": "code",
   "execution_count": 7,
   "metadata": {
    "execution": {
     "iopub.execute_input": "2020-09-25T19:12:42.309348Z",
     "iopub.status.busy": "2020-09-25T19:12:42.308543Z",
     "iopub.status.idle": "2020-09-25T19:12:42.318528Z",
     "shell.execute_reply": "2020-09-25T19:12:42.319178Z"
    },
    "papermill": {
     "duration": 0.043717,
     "end_time": "2020-09-25T19:12:42.319365",
     "exception": false,
     "start_time": "2020-09-25T19:12:42.275648",
     "status": "completed"
    },
    "tags": []
   },
   "outputs": [
    {
     "data": {
      "text/html": [
       "<div>\n",
       "<style scoped>\n",
       "    .dataframe tbody tr th:only-of-type {\n",
       "        vertical-align: middle;\n",
       "    }\n",
       "\n",
       "    .dataframe tbody tr th {\n",
       "        vertical-align: top;\n",
       "    }\n",
       "\n",
       "    .dataframe thead th {\n",
       "        text-align: right;\n",
       "    }\n",
       "</style>\n",
       "<table border=\"1\" class=\"dataframe\">\n",
       "  <thead>\n",
       "    <tr style=\"text-align: right;\">\n",
       "      <th></th>\n",
       "      <th>TT</th>\n",
       "      <th>AN</th>\n",
       "      <th>AP</th>\n",
       "      <th>AR</th>\n",
       "      <th>AS</th>\n",
       "      <th>BR</th>\n",
       "      <th>CH</th>\n",
       "      <th>CT</th>\n",
       "      <th>DN</th>\n",
       "      <th>DD</th>\n",
       "      <th>...</th>\n",
       "      <th>PB</th>\n",
       "      <th>RJ</th>\n",
       "      <th>SK</th>\n",
       "      <th>TN</th>\n",
       "      <th>TG</th>\n",
       "      <th>TR</th>\n",
       "      <th>UP</th>\n",
       "      <th>UT</th>\n",
       "      <th>WB</th>\n",
       "      <th>UN</th>\n",
       "    </tr>\n",
       "    <tr>\n",
       "      <th>Status</th>\n",
       "      <th></th>\n",
       "      <th></th>\n",
       "      <th></th>\n",
       "      <th></th>\n",
       "      <th></th>\n",
       "      <th></th>\n",
       "      <th></th>\n",
       "      <th></th>\n",
       "      <th></th>\n",
       "      <th></th>\n",
       "      <th></th>\n",
       "      <th></th>\n",
       "      <th></th>\n",
       "      <th></th>\n",
       "      <th></th>\n",
       "      <th></th>\n",
       "      <th></th>\n",
       "      <th></th>\n",
       "      <th></th>\n",
       "      <th></th>\n",
       "      <th></th>\n",
       "    </tr>\n",
       "  </thead>\n",
       "  <tbody>\n",
       "    <tr>\n",
       "      <th>Confirmed</th>\n",
       "      <td>5815472</td>\n",
       "      <td>3740</td>\n",
       "      <td>654385</td>\n",
       "      <td>8416</td>\n",
       "      <td>165480</td>\n",
       "      <td>174266</td>\n",
       "      <td>10968</td>\n",
       "      <td>95623</td>\n",
       "      <td>2977</td>\n",
       "      <td>0</td>\n",
       "      <td>...</td>\n",
       "      <td>105220</td>\n",
       "      <td>122720</td>\n",
       "      <td>2625</td>\n",
       "      <td>563691</td>\n",
       "      <td>178736</td>\n",
       "      <td>23786</td>\n",
       "      <td>374277</td>\n",
       "      <td>44404</td>\n",
       "      <td>237869</td>\n",
       "      <td>0</td>\n",
       "    </tr>\n",
       "    <tr>\n",
       "      <th>Deceased</th>\n",
       "      <td>91732</td>\n",
       "      <td>52</td>\n",
       "      <td>5558</td>\n",
       "      <td>14</td>\n",
       "      <td>612</td>\n",
       "      <td>878</td>\n",
       "      <td>144</td>\n",
       "      <td>752</td>\n",
       "      <td>2</td>\n",
       "      <td>0</td>\n",
       "      <td>...</td>\n",
       "      <td>3066</td>\n",
       "      <td>1397</td>\n",
       "      <td>31</td>\n",
       "      <td>9076</td>\n",
       "      <td>1070</td>\n",
       "      <td>257</td>\n",
       "      <td>5366</td>\n",
       "      <td>542</td>\n",
       "      <td>4606</td>\n",
       "      <td>0</td>\n",
       "    </tr>\n",
       "    <tr>\n",
       "      <th>Recovered</th>\n",
       "      <td>4752984</td>\n",
       "      <td>3494</td>\n",
       "      <td>579474</td>\n",
       "      <td>6071</td>\n",
       "      <td>135141</td>\n",
       "      <td>159700</td>\n",
       "      <td>8342</td>\n",
       "      <td>58833</td>\n",
       "      <td>2749</td>\n",
       "      <td>0</td>\n",
       "      <td>...</td>\n",
       "      <td>81475</td>\n",
       "      <td>102330</td>\n",
       "      <td>1974</td>\n",
       "      <td>508210</td>\n",
       "      <td>148139</td>\n",
       "      <td>16955</td>\n",
       "      <td>307611</td>\n",
       "      <td>32154</td>\n",
       "      <td>208042</td>\n",
       "      <td>0</td>\n",
       "    </tr>\n",
       "  </tbody>\n",
       "</table>\n",
       "<p>3 rows × 39 columns</p>\n",
       "</div>"
      ],
      "text/plain": [
       "                TT    AN      AP    AR      AS      BR     CH     CT    DN  \\\n",
       "Status                                                                       \n",
       "Confirmed  5815472  3740  654385  8416  165480  174266  10968  95623  2977   \n",
       "Deceased     91732    52    5558    14     612     878    144    752     2   \n",
       "Recovered  4752984  3494  579474  6071  135141  159700   8342  58833  2749   \n",
       "\n",
       "           DD  ...      PB      RJ    SK      TN      TG     TR      UP  \\\n",
       "Status         ...                                                        \n",
       "Confirmed   0  ...  105220  122720  2625  563691  178736  23786  374277   \n",
       "Deceased    0  ...    3066    1397    31    9076    1070    257    5366   \n",
       "Recovered   0  ...   81475  102330  1974  508210  148139  16955  307611   \n",
       "\n",
       "              UT      WB  UN  \n",
       "Status                        \n",
       "Confirmed  44404  237869   0  \n",
       "Deceased     542    4606   0  \n",
       "Recovered  32154  208042   0  \n",
       "\n",
       "[3 rows x 39 columns]"
      ]
     },
     "execution_count": 7,
     "metadata": {},
     "output_type": "execute_result"
    }
   ],
   "source": [
    "#hide\n",
    "df_yday.head()"
   ]
  },
  {
   "cell_type": "code",
   "execution_count": 8,
   "metadata": {
    "execution": {
     "iopub.execute_input": "2020-09-25T19:12:42.366848Z",
     "iopub.status.busy": "2020-09-25T19:12:42.366191Z",
     "iopub.status.idle": "2020-09-25T19:12:42.369229Z",
     "shell.execute_reply": "2020-09-25T19:12:42.369727Z"
    },
    "papermill": {
     "duration": 0.031032,
     "end_time": "2020-09-25T19:12:42.369907",
     "exception": false,
     "start_time": "2020-09-25T19:12:42.338875",
     "status": "completed"
    },
    "tags": []
   },
   "outputs": [
    {
     "data": {
      "text/plain": [
       "{'updated': '25-Sep-20',\n",
       " 'since': '24-Sep-20',\n",
       " 'Cases': 5897110,\n",
       " 'Deaths': 92789,\n",
       " 'Recovered': 4842089,\n",
       " 'PCases': 5815472,\n",
       " 'PDeaths': 91732,\n",
       " 'PRecovered': 4752984,\n",
       " 'Cases (+)': 81638,\n",
       " 'Deaths (+)': 1057,\n",
       " 'Recovered (+)': 89105}"
      ]
     },
     "execution_count": 8,
     "metadata": {},
     "output_type": "execute_result"
    }
   ],
   "source": [
    "#hide\n",
    "summary = {\n",
    "    'updated' : dt_today,\n",
    "    'since' : dt_yday,\n",
    "    'Cases' : df_today['TT'][0],\n",
    "    'Deaths' : df_today['TT'][1],\n",
    "    'Recovered' : df_today['TT'][2],\n",
    "    'PCases' : df_yday['TT'][0],\n",
    "    'PDeaths' : df_yday['TT'][1],\n",
    "    'PRecovered': df_yday['TT'][2],\n",
    "    'Cases (+)' : df_today['TT'][0] - df_yday['TT'][0],\n",
    "    'Deaths (+)' : df_today['TT'][1] - df_yday['TT'][1],\n",
    "    'Recovered (+)': df_today['TT'][2] - df_yday['TT'][2]\n",
    "}\n",
    "\n",
    "summary"
   ]
  },
  {
   "cell_type": "code",
   "execution_count": 9,
   "metadata": {
    "execution": {
     "iopub.execute_input": "2020-09-25T19:12:42.410863Z",
     "iopub.status.busy": "2020-09-25T19:12:42.410202Z",
     "iopub.status.idle": "2020-09-25T19:12:42.412317Z",
     "shell.execute_reply": "2020-09-25T19:12:42.412839Z"
    },
    "papermill": {
     "duration": 0.025531,
     "end_time": "2020-09-25T19:12:42.412994",
     "exception": false,
     "start_time": "2020-09-25T19:12:42.387463",
     "status": "completed"
    },
    "tags": []
   },
   "outputs": [],
   "source": [
    "#hide\n",
    "overview = '''\n",
    "<!-- #######  HTML!! #########-->\n",
    "<h1 style=\"color: #5e9ca0; text-align: center;\">India</h1>\n",
    "<p style=\"text-align: center;\">Last update: <strong>{update}</strong></p>\n",
    "<p style=\"text-align: center;\">Confirmed cases:</p>\n",
    "<p style=\"text-align: center;font-size:24px;\">{cases} (<span style=\"color: #ff0000;\">+{new}</span>)</p>\n",
    "<p style=\"text-align: center;\">Confirmed deaths:</p>\n",
    "<p style=\"text-align: center;font-size:24px;\">{deaths} (<span style=\"color: #ff0000;\">+{dnew}</span>)</p>\n",
    "<p style=\"text-align: center;\">Recovered cases:</p>\n",
    "<p style=\"text-align: center;font-size:24px;\">{recovered} (<span style=\"color: #00ff00;\">+{rnew}</span>)</p>\n",
    "'''"
   ]
  },
  {
   "cell_type": "code",
   "execution_count": 10,
   "metadata": {
    "execution": {
     "iopub.execute_input": "2020-09-25T19:12:42.454909Z",
     "iopub.status.busy": "2020-09-25T19:12:42.454245Z",
     "iopub.status.idle": "2020-09-25T19:12:42.457357Z",
     "shell.execute_reply": "2020-09-25T19:12:42.458001Z"
    },
    "papermill": {
     "duration": 0.028098,
     "end_time": "2020-09-25T19:12:42.458167",
     "exception": false,
     "start_time": "2020-09-25T19:12:42.430069",
     "status": "completed"
    },
    "tags": []
   },
   "outputs": [
    {
     "data": {
      "text/html": [
       "\n",
       "<!-- #######  HTML!! #########-->\n",
       "<h1 style=\"color: #5e9ca0; text-align: center;\">India</h1>\n",
       "<p style=\"text-align: center;\">Last update: <strong>25-Sep-20</strong></p>\n",
       "<p style=\"text-align: center;\">Confirmed cases:</p>\n",
       "<p style=\"text-align: center;font-size:24px;\">5897110 (<span style=\"color: #ff0000;\">+81638</span>)</p>\n",
       "<p style=\"text-align: center;\">Confirmed deaths:</p>\n",
       "<p style=\"text-align: center;font-size:24px;\">92789 (<span style=\"color: #ff0000;\">+1057</span>)</p>\n",
       "<p style=\"text-align: center;\">Recovered cases:</p>\n",
       "<p style=\"text-align: center;font-size:24px;\">4842089 (<span style=\"color: #00ff00;\">+89105</span>)</p>\n"
      ],
      "text/plain": [
       "<IPython.core.display.HTML object>"
      ]
     },
     "metadata": {},
     "output_type": "display_data"
    }
   ],
   "source": [
    "#hide_input\n",
    "# Fill the above HTML with the information from the summary dictionary\n",
    "\n",
    "update = summary['updated']\n",
    "cases = summary['Cases']\n",
    "new = summary['Cases (+)']\n",
    "deaths = summary['Deaths']\n",
    "dnew = summary['Deaths (+)']\n",
    "recovered = summary['Recovered']\n",
    "rnew = summary['Recovered (+)']\n",
    "\n",
    "html = HTML(overview.format(update=update, cases=cases,new=new,deaths=deaths,dnew=dnew, recovered=recovered, rnew=rnew))\n",
    "\n",
    "display(html)"
   ]
  },
  {
   "cell_type": "code",
   "execution_count": 11,
   "metadata": {
    "execution": {
     "iopub.execute_input": "2020-09-25T19:12:42.498283Z",
     "iopub.status.busy": "2020-09-25T19:12:42.497604Z",
     "iopub.status.idle": "2020-09-25T19:12:42.506029Z",
     "shell.execute_reply": "2020-09-25T19:12:42.505467Z"
    },
    "papermill": {
     "duration": 0.030485,
     "end_time": "2020-09-25T19:12:42.506169",
     "exception": false,
     "start_time": "2020-09-25T19:12:42.475684",
     "status": "completed"
    },
    "tags": []
   },
   "outputs": [],
   "source": [
    "#hide\n",
    "df_cases = df[df['Status'] == 'Confirmed'].copy()\n",
    "df_cases.drop(columns = ['Status'], inplace=True)\n",
    "df_deaths = df[df['Status'] == 'Deceased'].copy()\n",
    "df_deaths.drop(columns = ['Status'], inplace=True)\n",
    "df_recovered = df[df['Status'] == 'Recovered'].copy()\n",
    "df_recovered.drop(columns = ['Status'], inplace=True)"
   ]
  },
  {
   "cell_type": "markdown",
   "metadata": {
    "papermill": {
     "duration": 0.016936,
     "end_time": "2020-09-25T19:12:42.541134",
     "exception": false,
     "start_time": "2020-09-25T19:12:42.524198",
     "status": "completed"
    },
    "tags": []
   },
   "source": [
    "Plot for India:"
   ]
  },
  {
   "cell_type": "code",
   "execution_count": 12,
   "metadata": {
    "execution": {
     "iopub.execute_input": "2020-09-25T19:12:42.599851Z",
     "iopub.status.busy": "2020-09-25T19:12:42.599185Z",
     "iopub.status.idle": "2020-09-25T19:12:42.889575Z",
     "shell.execute_reply": "2020-09-25T19:12:42.890204Z"
    },
    "papermill": {
     "duration": 0.333426,
     "end_time": "2020-09-25T19:12:42.890389",
     "exception": false,
     "start_time": "2020-09-25T19:12:42.556963",
     "status": "completed"
    },
    "tags": []
   },
   "outputs": [
    {
     "data": {
      "image/png": "[encoded data removed]",
      "text/plain": [
       "<Figure size 1296x432 with 1 Axes>"
      ]
     },
     "metadata": {
      "needs_background": "light"
     },
     "output_type": "display_data"
    }
   ],
   "source": [
    "#hide_input\n",
    "plt.figure(figsize = (18,6))\n",
    "plt.plot(df_cases['Date'], df_cases['TT'],'.-', alpha=0.7, color='b', label='Confirmed cases')\n",
    "plt.plot(df_recovered['Date'], df_recovered['TT'],'.-', alpha=0.7, color='g', label='Recovered')\n",
    "plt.plot(df_deaths['Date'], df_deaths['TT'],'.-', alpha=0.7, color='r', label='Deceased')\n",
    "plt.legend()\n",
    "plt.title(\"Cases per day in India\")\n",
    "plt.xticks(ticks=' ')\n",
    "plt.xlabel(f'{df_cases.iloc[0][0]} to {df_cases.iloc[-1][0]}')\n",
    "plt.ylabel('No. of cases');"
   ]
  },
  {
   "cell_type": "markdown",
   "metadata": {
    "papermill": {
     "duration": 0.019841,
     "end_time": "2020-09-25T19:12:42.931284",
     "exception": false,
     "start_time": "2020-09-25T19:12:42.911443",
     "status": "completed"
    },
    "tags": []
   },
   "source": [
    "Plots for the states with highest number of cases:"
   ]
  },
  {
   "cell_type": "code",
   "execution_count": 13,
   "metadata": {
    "execution": {
     "iopub.execute_input": "2020-09-25T19:12:42.991285Z",
     "iopub.status.busy": "2020-09-25T19:12:42.975839Z",
     "iopub.status.idle": "2020-09-25T19:12:43.667477Z",
     "shell.execute_reply": "2020-09-25T19:12:43.668026Z"
    },
    "papermill": {
     "duration": 0.719505,
     "end_time": "2020-09-25T19:12:43.668200",
     "exception": false,
     "start_time": "2020-09-25T19:12:42.948695",
     "status": "completed"
    },
    "tags": []
   },
   "outputs": [
    {
     "data": {
      "image/png": "[encoded data removed]",
      "text/plain": [
       "<Figure size 1512x432 with 3 Axes>"
      ]
     },
     "metadata": {
      "needs_background": "light"
     },
     "output_type": "display_data"
    }
   ],
   "source": [
    "#hide_input\n",
    "top_3 = sorted(df_cases.sum().values[1:], reverse=True)[1:4]\n",
    "top3_states=[]\n",
    "for i in top_3:\n",
    "    top3_states.append(df_cases.sum()[df_cases.sum() == i].index)\n",
    "\n",
    "\n",
    "fig, ax = plt.subplots(1,3,figsize = (21,6))\n",
    "for i in range(3):\n",
    "    state = top3_states[i].values[0]\n",
    "    ax[i].plot(df_cases['Date'], df_cases[state],'.-', color='b', alpha=0.7)\n",
    "    ax[i].plot(df_deaths['Date'], df_deaths[state],'.-', color='r', alpha=0.7)\n",
    "    ax[i].plot(df_recovered['Date'], df_recovered[state],'.-', color='g', alpha=0.7)\n",
    "    \n",
    "    ax[i].set_title(f\"Cases in {state}\")\n",
    "    ax[i].set_xticks(ticks=' ')\n",
    "    ax[i].set_xlabel(f'{df_cases.iloc[0][0]} to {df_cases.iloc[-1][0]}')\n",
    "    ax[i].set_ylabel('No. of cases');"
   ]
  },
  {
   "cell_type": "code",
   "execution_count": null,
   "metadata": {
    "papermill": {
     "duration": 0.021096,
     "end_time": "2020-09-25T19:12:43.710712",
     "exception": false,
     "start_time": "2020-09-25T19:12:43.689616",
     "status": "completed"
    },
    "tags": []
   },
   "outputs": [],
   "source": []
  },
  {
   "cell_type": "code",
   "execution_count": null,
   "metadata": {
    "papermill": {
     "duration": 0.019885,
     "end_time": "2020-09-25T19:12:43.752915",
     "exception": false,
     "start_time": "2020-09-25T19:12:43.733030",
     "status": "completed"
    },
    "tags": []
   },
   "outputs": [],
   "source": []
  },
  {
   "cell_type": "code",
   "execution_count": null,
   "metadata": {
    "papermill": {
     "duration": 0.02053,
     "end_time": "2020-09-25T19:12:43.795299",
     "exception": false,
     "start_time": "2020-09-25T19:12:43.774769",
     "status": "completed"
    },
    "tags": []
   },
   "outputs": [],
   "source": []
  }
 ],
 "metadata": {
  "kernelspec": {
   "display_name": "Python 3",
   "language": "python",
   "name": "python3"
  },
  "language_info": {
   "codemirror_mode": {
    "name": "ipython",
    "version": 3
   },
   "file_extension": ".py",
   "mimetype": "text/x-python",
   "name": "python",
   "nbconvert_exporter": "python",
   "pygments_lexer": "ipython3",
   "version": "3.6.12"
  },
  "papermill": {
   "duration": 5.339572,
   "end_time": "2020-09-25T19:12:45.101967",
   "environment_variables": {},
   "exception": null,
   "input_path": "2020-08-09-DailyUpdate.ipynb",
   "output_path": "2020-08-09-DailyUpdate.ipynb",
   "parameters": {},
   "start_time": "2020-09-25T19:12:39.762395",
   "version": "2.1.2"
  }
 },
 "nbformat": 4,
 "nbformat_minor": 4
}