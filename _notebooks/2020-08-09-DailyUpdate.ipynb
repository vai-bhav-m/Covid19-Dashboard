{
 "cells": [
  {
   "cell_type": "markdown",
   "metadata": {
    "papermill": {
     "duration": 0.020221,
     "end_time": "2020-08-23T19:11:17.119983",
     "exception": false,
     "start_time": "2020-08-23T19:11:17.099762",
     "status": "completed"
    },
    "tags": []
   },
   "source": [
    "# COVID-19 India Daily updates\n",
    "> Tracking coronavirus total cases, deaths and new cases in India on a daily basis\n",
    "\n",
    "- author: Vaibhav Mahapatra"
   ]
  },
  {
   "cell_type": "code",
   "execution_count": 1,
   "metadata": {
    "execution": {
     "iopub.execute_input": "2020-08-23T19:11:17.150861Z",
     "iopub.status.busy": "2020-08-23T19:11:17.150250Z",
     "iopub.status.idle": "2020-08-23T19:11:17.741602Z",
     "shell.execute_reply": "2020-08-23T19:11:17.740685Z"
    },
    "papermill": {
     "duration": 0.609755,
     "end_time": "2020-08-23T19:11:17.741846",
     "exception": false,
     "start_time": "2020-08-23T19:11:17.132091",
     "status": "completed"
    },
    "tags": []
   },
   "outputs": [],
   "source": [
    "#hide\n",
    "\n",
    "## Import essential packages below\n",
    "\n",
    "import pandas as pd\n",
    "import numpy as np\n",
    "import requests\n",
    "import json\n",
    "import matplotlib.pyplot as plt\n",
    "import matplotlib.dates as mdates\n",
    "import matplotlib as mpl\n",
    "from IPython.core.display import display,HTML\n",
    "%matplotlib inline"
   ]
  },
  {
   "cell_type": "code",
   "execution_count": 2,
   "metadata": {
    "execution": {
     "iopub.execute_input": "2020-08-23T19:11:17.776375Z",
     "iopub.status.busy": "2020-08-23T19:11:17.775771Z",
     "iopub.status.idle": "2020-08-23T19:11:17.928350Z",
     "shell.execute_reply": "2020-08-23T19:11:17.927894Z"
    },
    "papermill": {
     "duration": 0.172377,
     "end_time": "2020-08-23T19:11:17.928503",
     "exception": false,
     "start_time": "2020-08-23T19:11:17.756126",
     "status": "completed"
    },
    "tags": []
   },
   "outputs": [
    {
     "data": {
      "text/plain": [
       "(489, 41)"
      ]
     },
     "execution_count": 2,
     "metadata": {},
     "output_type": "execute_result"
    }
   ],
   "source": [
    "#hide\n",
    "url = 'https://api.covid19india.org/csv/latest/state_wise_daily.csv'\n",
    "df = pd.read_csv(url)\n",
    "df.shape"
   ]
  },
  {
   "cell_type": "code",
   "execution_count": 3,
   "metadata": {
    "execution": {
     "iopub.execute_input": "2020-08-23T19:11:18.009573Z",
     "iopub.status.busy": "2020-08-23T19:11:18.008409Z",
     "iopub.status.idle": "2020-08-23T19:11:18.019499Z",
     "shell.execute_reply": "2020-08-23T19:11:18.019980Z"
    },
    "papermill": {
     "duration": 0.079424,
     "end_time": "2020-08-23T19:11:18.020132",
     "exception": false,
     "start_time": "2020-08-23T19:11:17.940708",
     "status": "completed"
    },
    "tags": []
   },
   "outputs": [
    {
     "data": {
      "text/html": [
       "<div>\n",
       "<style scoped>\n",
       "    .dataframe tbody tr th:only-of-type {\n",
       "        vertical-align: middle;\n",
       "    }\n",
       "\n",
       "    .dataframe tbody tr th {\n",
       "        vertical-align: top;\n",
       "    }\n",
       "\n",
       "    .dataframe thead th {\n",
       "        text-align: right;\n",
       "    }\n",
       "</style>\n",
       "<table border=\"1\" class=\"dataframe\">\n",
       "  <thead>\n",
       "    <tr style=\"text-align: right;\">\n",
       "      <th></th>\n",
       "      <th>Date</th>\n",
       "      <th>Status</th>\n",
       "      <th>TT</th>\n",
       "      <th>AN</th>\n",
       "      <th>AP</th>\n",
       "      <th>AR</th>\n",
       "      <th>AS</th>\n",
       "      <th>BR</th>\n",
       "      <th>CH</th>\n",
       "      <th>CT</th>\n",
       "      <th>...</th>\n",
       "      <th>PB</th>\n",
       "      <th>RJ</th>\n",
       "      <th>SK</th>\n",
       "      <th>TN</th>\n",
       "      <th>TG</th>\n",
       "      <th>TR</th>\n",
       "      <th>UP</th>\n",
       "      <th>UT</th>\n",
       "      <th>WB</th>\n",
       "      <th>UN</th>\n",
       "    </tr>\n",
       "  </thead>\n",
       "  <tbody>\n",
       "    <tr>\n",
       "      <th>483</th>\n",
       "      <td>22-Aug-20</td>\n",
       "      <td>Confirmed</td>\n",
       "      <td>70067</td>\n",
       "      <td>61</td>\n",
       "      <td>10276</td>\n",
       "      <td>97</td>\n",
       "      <td>1560</td>\n",
       "      <td>2238</td>\n",
       "      <td>145</td>\n",
       "      <td>704</td>\n",
       "      <td>...</td>\n",
       "      <td>1316</td>\n",
       "      <td>1310</td>\n",
       "      <td>45</td>\n",
       "      <td>5980</td>\n",
       "      <td>2474</td>\n",
       "      <td>280</td>\n",
       "      <td>5217</td>\n",
       "      <td>483</td>\n",
       "      <td>3232</td>\n",
       "      <td>0</td>\n",
       "    </tr>\n",
       "    <tr>\n",
       "      <th>484</th>\n",
       "      <td>22-Aug-20</td>\n",
       "      <td>Recovered</td>\n",
       "      <td>59101</td>\n",
       "      <td>109</td>\n",
       "      <td>8593</td>\n",
       "      <td>103</td>\n",
       "      <td>2045</td>\n",
       "      <td>3531</td>\n",
       "      <td>45</td>\n",
       "      <td>372</td>\n",
       "      <td>...</td>\n",
       "      <td>409</td>\n",
       "      <td>1648</td>\n",
       "      <td>37</td>\n",
       "      <td>5603</td>\n",
       "      <td>1768</td>\n",
       "      <td>410</td>\n",
       "      <td>4638</td>\n",
       "      <td>345</td>\n",
       "      <td>3088</td>\n",
       "      <td>0</td>\n",
       "    </tr>\n",
       "    <tr>\n",
       "      <th>485</th>\n",
       "      <td>22-Aug-20</td>\n",
       "      <td>Deceased</td>\n",
       "      <td>918</td>\n",
       "      <td>0</td>\n",
       "      <td>97</td>\n",
       "      <td>0</td>\n",
       "      <td>7</td>\n",
       "      <td>13</td>\n",
       "      <td>0</td>\n",
       "      <td>10</td>\n",
       "      <td>...</td>\n",
       "      <td>45</td>\n",
       "      <td>11</td>\n",
       "      <td>0</td>\n",
       "      <td>80</td>\n",
       "      <td>7</td>\n",
       "      <td>1</td>\n",
       "      <td>70</td>\n",
       "      <td>3</td>\n",
       "      <td>48</td>\n",
       "      <td>0</td>\n",
       "    </tr>\n",
       "    <tr>\n",
       "      <th>486</th>\n",
       "      <td>23-Aug-20</td>\n",
       "      <td>Confirmed</td>\n",
       "      <td>61749</td>\n",
       "      <td>52</td>\n",
       "      <td>7895</td>\n",
       "      <td>40</td>\n",
       "      <td>1272</td>\n",
       "      <td>2247</td>\n",
       "      <td>142</td>\n",
       "      <td>704</td>\n",
       "      <td>...</td>\n",
       "      <td>1136</td>\n",
       "      <td>1345</td>\n",
       "      <td>22</td>\n",
       "      <td>5975</td>\n",
       "      <td>2384</td>\n",
       "      <td>331</td>\n",
       "      <td>5325</td>\n",
       "      <td>558</td>\n",
       "      <td>3274</td>\n",
       "      <td>0</td>\n",
       "    </tr>\n",
       "    <tr>\n",
       "      <th>487</th>\n",
       "      <td>23-Aug-20</td>\n",
       "      <td>Recovered</td>\n",
       "      <td>56896</td>\n",
       "      <td>110</td>\n",
       "      <td>7449</td>\n",
       "      <td>69</td>\n",
       "      <td>3259</td>\n",
       "      <td>3082</td>\n",
       "      <td>21</td>\n",
       "      <td>537</td>\n",
       "      <td>...</td>\n",
       "      <td>2226</td>\n",
       "      <td>1180</td>\n",
       "      <td>0</td>\n",
       "      <td>6047</td>\n",
       "      <td>1851</td>\n",
       "      <td>121</td>\n",
       "      <td>4318</td>\n",
       "      <td>459</td>\n",
       "      <td>3048</td>\n",
       "      <td>0</td>\n",
       "    </tr>\n",
       "    <tr>\n",
       "      <th>488</th>\n",
       "      <td>23-Aug-20</td>\n",
       "      <td>Deceased</td>\n",
       "      <td>846</td>\n",
       "      <td>1</td>\n",
       "      <td>93</td>\n",
       "      <td>0</td>\n",
       "      <td>8</td>\n",
       "      <td>9</td>\n",
       "      <td>4</td>\n",
       "      <td>7</td>\n",
       "      <td>...</td>\n",
       "      <td>50</td>\n",
       "      <td>11</td>\n",
       "      <td>0</td>\n",
       "      <td>97</td>\n",
       "      <td>11</td>\n",
       "      <td>2</td>\n",
       "      <td>59</td>\n",
       "      <td>5</td>\n",
       "      <td>57</td>\n",
       "      <td>0</td>\n",
       "    </tr>\n",
       "  </tbody>\n",
       "</table>\n",
       "<p>6 rows × 41 columns</p>\n",
       "</div>"
      ],
      "text/plain": [
       "          Date     Status     TT   AN     AP   AR    AS    BR   CH   CT  ...  \\\n",
       "483  22-Aug-20  Confirmed  70067   61  10276   97  1560  2238  145  704  ...   \n",
       "484  22-Aug-20  Recovered  59101  109   8593  103  2045  3531   45  372  ...   \n",
       "485  22-Aug-20   Deceased    918    0     97    0     7    13    0   10  ...   \n",
       "486  23-Aug-20  Confirmed  61749   52   7895   40  1272  2247  142  704  ...   \n",
       "487  23-Aug-20  Recovered  56896  110   7449   69  3259  3082   21  537  ...   \n",
       "488  23-Aug-20   Deceased    846    1     93    0     8     9    4    7  ...   \n",
       "\n",
       "       PB    RJ  SK    TN    TG   TR    UP   UT    WB  UN  \n",
       "483  1316  1310  45  5980  2474  280  5217  483  3232   0  \n",
       "484   409  1648  37  5603  1768  410  4638  345  3088   0  \n",
       "485    45    11   0    80     7    1    70    3    48   0  \n",
       "486  1136  1345  22  5975  2384  331  5325  558  3274   0  \n",
       "487  2226  1180   0  6047  1851  121  4318  459  3048   0  \n",
       "488    50    11   0    97    11    2    59    5    57   0  \n",
       "\n",
       "[6 rows x 41 columns]"
      ]
     },
     "execution_count": 3,
     "metadata": {},
     "output_type": "execute_result"
    }
   ],
   "source": [
    "#hide\n",
    "df.tail(6)"
   ]
  },
  {
   "cell_type": "code",
   "execution_count": 4,
   "metadata": {
    "execution": {
     "iopub.execute_input": "2020-08-23T19:11:18.052353Z",
     "iopub.status.busy": "2020-08-23T19:11:18.051798Z",
     "iopub.status.idle": "2020-08-23T19:11:18.054214Z",
     "shell.execute_reply": "2020-08-23T19:11:18.054650Z"
    },
    "papermill": {
     "duration": 0.021038,
     "end_time": "2020-08-23T19:11:18.054907",
     "exception": false,
     "start_time": "2020-08-23T19:11:18.033869",
     "status": "completed"
    },
    "tags": []
   },
   "outputs": [
    {
     "data": {
      "text/plain": [
       "('23-Aug-20', '22-Aug-20')"
      ]
     },
     "execution_count": 4,
     "metadata": {},
     "output_type": "execute_result"
    }
   ],
   "source": [
    "#hide\n",
    "dt_today = df.iloc[-1][0]\n",
    "dt_yday = df.iloc[-4][0]\n",
    "dt_today, dt_yday"
   ]
  },
  {
   "cell_type": "code",
   "execution_count": 5,
   "metadata": {
    "execution": {
     "iopub.execute_input": "2020-08-23T19:11:18.088375Z",
     "iopub.status.busy": "2020-08-23T19:11:18.087804Z",
     "iopub.status.idle": "2020-08-23T19:11:18.093360Z",
     "shell.execute_reply": "2020-08-23T19:11:18.093939Z"
    },
    "papermill": {
     "duration": 0.026018,
     "end_time": "2020-08-23T19:11:18.094081",
     "exception": false,
     "start_time": "2020-08-23T19:11:18.068063",
     "status": "completed"
    },
    "tags": []
   },
   "outputs": [],
   "source": [
    "#hide\n",
    "df_today = df.groupby('Status').sum()\n",
    "df_yday = df.iloc[:-3][:].groupby('Status').sum()"
   ]
  },
  {
   "cell_type": "code",
   "execution_count": 6,
   "metadata": {
    "execution": {
     "iopub.execute_input": "2020-08-23T19:11:18.138463Z",
     "iopub.status.busy": "2020-08-23T19:11:18.137913Z",
     "iopub.status.idle": "2020-08-23T19:11:18.140246Z",
     "shell.execute_reply": "2020-08-23T19:11:18.140759Z"
    },
    "papermill": {
     "duration": 0.034545,
     "end_time": "2020-08-23T19:11:18.140888",
     "exception": false,
     "start_time": "2020-08-23T19:11:18.106343",
     "status": "completed"
    },
    "tags": []
   },
   "outputs": [
    {
     "data": {
      "text/html": [
       "<div>\n",
       "<style scoped>\n",
       "    .dataframe tbody tr th:only-of-type {\n",
       "        vertical-align: middle;\n",
       "    }\n",
       "\n",
       "    .dataframe tbody tr th {\n",
       "        vertical-align: top;\n",
       "    }\n",
       "\n",
       "    .dataframe thead th {\n",
       "        text-align: right;\n",
       "    }\n",
       "</style>\n",
       "<table border=\"1\" class=\"dataframe\">\n",
       "  <thead>\n",
       "    <tr style=\"text-align: right;\">\n",
       "      <th></th>\n",
       "      <th>TT</th>\n",
       "      <th>AN</th>\n",
       "      <th>AP</th>\n",
       "      <th>AR</th>\n",
       "      <th>AS</th>\n",
       "      <th>BR</th>\n",
       "      <th>CH</th>\n",
       "      <th>CT</th>\n",
       "      <th>DN</th>\n",
       "      <th>DD</th>\n",
       "      <th>...</th>\n",
       "      <th>PB</th>\n",
       "      <th>RJ</th>\n",
       "      <th>SK</th>\n",
       "      <th>TN</th>\n",
       "      <th>TG</th>\n",
       "      <th>TR</th>\n",
       "      <th>UP</th>\n",
       "      <th>UT</th>\n",
       "      <th>WB</th>\n",
       "      <th>UN</th>\n",
       "    </tr>\n",
       "    <tr>\n",
       "      <th>Status</th>\n",
       "      <th></th>\n",
       "      <th></th>\n",
       "      <th></th>\n",
       "      <th></th>\n",
       "      <th></th>\n",
       "      <th></th>\n",
       "      <th></th>\n",
       "      <th></th>\n",
       "      <th></th>\n",
       "      <th></th>\n",
       "      <th></th>\n",
       "      <th></th>\n",
       "      <th></th>\n",
       "      <th></th>\n",
       "      <th></th>\n",
       "      <th></th>\n",
       "      <th></th>\n",
       "      <th></th>\n",
       "      <th></th>\n",
       "      <th></th>\n",
       "      <th></th>\n",
       "    </tr>\n",
       "  </thead>\n",
       "  <tbody>\n",
       "    <tr>\n",
       "      <th>Confirmed</th>\n",
       "      <td>3104558</td>\n",
       "      <td>2856</td>\n",
       "      <td>353111</td>\n",
       "      <td>3263</td>\n",
       "      <td>90639</td>\n",
       "      <td>122156</td>\n",
       "      <td>2918</td>\n",
       "      <td>20918</td>\n",
       "      <td>2161</td>\n",
       "      <td>0</td>\n",
       "      <td>...</td>\n",
       "      <td>41779</td>\n",
       "      <td>70609</td>\n",
       "      <td>1416</td>\n",
       "      <td>379385</td>\n",
       "      <td>103739</td>\n",
       "      <td>8717</td>\n",
       "      <td>187781</td>\n",
       "      <td>15124</td>\n",
       "      <td>138870</td>\n",
       "      <td>0</td>\n",
       "    </tr>\n",
       "    <tr>\n",
       "      <th>Deceased</th>\n",
       "      <td>57703</td>\n",
       "      <td>33</td>\n",
       "      <td>3282</td>\n",
       "      <td>5</td>\n",
       "      <td>246</td>\n",
       "      <td>610</td>\n",
       "      <td>37</td>\n",
       "      <td>197</td>\n",
       "      <td>2</td>\n",
       "      <td>0</td>\n",
       "      <td>...</td>\n",
       "      <td>1086</td>\n",
       "      <td>955</td>\n",
       "      <td>3</td>\n",
       "      <td>6517</td>\n",
       "      <td>755</td>\n",
       "      <td>72</td>\n",
       "      <td>2926</td>\n",
       "      <td>200</td>\n",
       "      <td>2794</td>\n",
       "      <td>0</td>\n",
       "    </tr>\n",
       "    <tr>\n",
       "      <th>Recovered</th>\n",
       "      <td>2336789</td>\n",
       "      <td>1954</td>\n",
       "      <td>260087</td>\n",
       "      <td>2297</td>\n",
       "      <td>70901</td>\n",
       "      <td>98454</td>\n",
       "      <td>1492</td>\n",
       "      <td>12931</td>\n",
       "      <td>1744</td>\n",
       "      <td>0</td>\n",
       "      <td>...</td>\n",
       "      <td>26528</td>\n",
       "      <td>55324</td>\n",
       "      <td>872</td>\n",
       "      <td>319327</td>\n",
       "      <td>80586</td>\n",
       "      <td>6182</td>\n",
       "      <td>135613</td>\n",
       "      <td>10480</td>\n",
       "      <td>108007</td>\n",
       "      <td>0</td>\n",
       "    </tr>\n",
       "  </tbody>\n",
       "</table>\n",
       "<p>3 rows × 39 columns</p>\n",
       "</div>"
      ],
      "text/plain": [
       "                TT    AN      AP    AR     AS      BR    CH     CT    DN  DD  \\\n",
       "Status                                                                         \n",
       "Confirmed  3104558  2856  353111  3263  90639  122156  2918  20918  2161   0   \n",
       "Deceased     57703    33    3282     5    246     610    37    197     2   0   \n",
       "Recovered  2336789  1954  260087  2297  70901   98454  1492  12931  1744   0   \n",
       "\n",
       "           ...     PB     RJ    SK      TN      TG    TR      UP     UT  \\\n",
       "Status     ...                                                            \n",
       "Confirmed  ...  41779  70609  1416  379385  103739  8717  187781  15124   \n",
       "Deceased   ...   1086    955     3    6517     755    72    2926    200   \n",
       "Recovered  ...  26528  55324   872  319327   80586  6182  135613  10480   \n",
       "\n",
       "               WB  UN  \n",
       "Status                 \n",
       "Confirmed  138870   0  \n",
       "Deceased     2794   0  \n",
       "Recovered  108007   0  \n",
       "\n",
       "[3 rows x 39 columns]"
      ]
     },
     "execution_count": 6,
     "metadata": {},
     "output_type": "execute_result"
    }
   ],
   "source": [
    "#hide\n",
    "df_today"
   ]
  },
  {
   "cell_type": "code",
   "execution_count": 7,
   "metadata": {
    "execution": {
     "iopub.execute_input": "2020-08-23T19:11:18.176164Z",
     "iopub.status.busy": "2020-08-23T19:11:18.175630Z",
     "iopub.status.idle": "2020-08-23T19:11:18.184403Z",
     "shell.execute_reply": "2020-08-23T19:11:18.184817Z"
    },
    "papermill": {
     "duration": 0.03067,
     "end_time": "2020-08-23T19:11:18.184951",
     "exception": false,
     "start_time": "2020-08-23T19:11:18.154281",
     "status": "completed"
    },
    "tags": []
   },
   "outputs": [
    {
     "data": {
      "text/html": [
       "<div>\n",
       "<style scoped>\n",
       "    .dataframe tbody tr th:only-of-type {\n",
       "        vertical-align: middle;\n",
       "    }\n",
       "\n",
       "    .dataframe tbody tr th {\n",
       "        vertical-align: top;\n",
       "    }\n",
       "\n",
       "    .dataframe thead th {\n",
       "        text-align: right;\n",
       "    }\n",
       "</style>\n",
       "<table border=\"1\" class=\"dataframe\">\n",
       "  <thead>\n",
       "    <tr style=\"text-align: right;\">\n",
       "      <th></th>\n",
       "      <th>TT</th>\n",
       "      <th>AN</th>\n",
       "      <th>AP</th>\n",
       "      <th>AR</th>\n",
       "      <th>AS</th>\n",
       "      <th>BR</th>\n",
       "      <th>CH</th>\n",
       "      <th>CT</th>\n",
       "      <th>DN</th>\n",
       "      <th>DD</th>\n",
       "      <th>...</th>\n",
       "      <th>PB</th>\n",
       "      <th>RJ</th>\n",
       "      <th>SK</th>\n",
       "      <th>TN</th>\n",
       "      <th>TG</th>\n",
       "      <th>TR</th>\n",
       "      <th>UP</th>\n",
       "      <th>UT</th>\n",
       "      <th>WB</th>\n",
       "      <th>UN</th>\n",
       "    </tr>\n",
       "    <tr>\n",
       "      <th>Status</th>\n",
       "      <th></th>\n",
       "      <th></th>\n",
       "      <th></th>\n",
       "      <th></th>\n",
       "      <th></th>\n",
       "      <th></th>\n",
       "      <th></th>\n",
       "      <th></th>\n",
       "      <th></th>\n",
       "      <th></th>\n",
       "      <th></th>\n",
       "      <th></th>\n",
       "      <th></th>\n",
       "      <th></th>\n",
       "      <th></th>\n",
       "      <th></th>\n",
       "      <th></th>\n",
       "      <th></th>\n",
       "      <th></th>\n",
       "      <th></th>\n",
       "      <th></th>\n",
       "    </tr>\n",
       "  </thead>\n",
       "  <tbody>\n",
       "    <tr>\n",
       "      <th>Confirmed</th>\n",
       "      <td>3042809</td>\n",
       "      <td>2804</td>\n",
       "      <td>345216</td>\n",
       "      <td>3223</td>\n",
       "      <td>89367</td>\n",
       "      <td>119909</td>\n",
       "      <td>2776</td>\n",
       "      <td>20214</td>\n",
       "      <td>2125</td>\n",
       "      <td>0</td>\n",
       "      <td>...</td>\n",
       "      <td>40643</td>\n",
       "      <td>69264</td>\n",
       "      <td>1394</td>\n",
       "      <td>373410</td>\n",
       "      <td>101355</td>\n",
       "      <td>8386</td>\n",
       "      <td>182456</td>\n",
       "      <td>14566</td>\n",
       "      <td>135596</td>\n",
       "      <td>0</td>\n",
       "    </tr>\n",
       "    <tr>\n",
       "      <th>Deceased</th>\n",
       "      <td>56857</td>\n",
       "      <td>32</td>\n",
       "      <td>3189</td>\n",
       "      <td>5</td>\n",
       "      <td>238</td>\n",
       "      <td>601</td>\n",
       "      <td>33</td>\n",
       "      <td>190</td>\n",
       "      <td>2</td>\n",
       "      <td>0</td>\n",
       "      <td>...</td>\n",
       "      <td>1036</td>\n",
       "      <td>944</td>\n",
       "      <td>3</td>\n",
       "      <td>6420</td>\n",
       "      <td>744</td>\n",
       "      <td>70</td>\n",
       "      <td>2867</td>\n",
       "      <td>195</td>\n",
       "      <td>2737</td>\n",
       "      <td>0</td>\n",
       "    </tr>\n",
       "    <tr>\n",
       "      <th>Recovered</th>\n",
       "      <td>2279893</td>\n",
       "      <td>1844</td>\n",
       "      <td>252638</td>\n",
       "      <td>2228</td>\n",
       "      <td>67642</td>\n",
       "      <td>95372</td>\n",
       "      <td>1471</td>\n",
       "      <td>12394</td>\n",
       "      <td>1702</td>\n",
       "      <td>0</td>\n",
       "      <td>...</td>\n",
       "      <td>24302</td>\n",
       "      <td>54144</td>\n",
       "      <td>872</td>\n",
       "      <td>313280</td>\n",
       "      <td>78735</td>\n",
       "      <td>6061</td>\n",
       "      <td>131295</td>\n",
       "      <td>10021</td>\n",
       "      <td>104959</td>\n",
       "      <td>0</td>\n",
       "    </tr>\n",
       "  </tbody>\n",
       "</table>\n",
       "<p>3 rows × 39 columns</p>\n",
       "</div>"
      ],
      "text/plain": [
       "                TT    AN      AP    AR     AS      BR    CH     CT    DN  DD  \\\n",
       "Status                                                                         \n",
       "Confirmed  3042809  2804  345216  3223  89367  119909  2776  20214  2125   0   \n",
       "Deceased     56857    32    3189     5    238     601    33    190     2   0   \n",
       "Recovered  2279893  1844  252638  2228  67642   95372  1471  12394  1702   0   \n",
       "\n",
       "           ...     PB     RJ    SK      TN      TG    TR      UP     UT  \\\n",
       "Status     ...                                                            \n",
       "Confirmed  ...  40643  69264  1394  373410  101355  8386  182456  14566   \n",
       "Deceased   ...   1036    944     3    6420     744    70    2867    195   \n",
       "Recovered  ...  24302  54144   872  313280   78735  6061  131295  10021   \n",
       "\n",
       "               WB  UN  \n",
       "Status                 \n",
       "Confirmed  135596   0  \n",
       "Deceased     2737   0  \n",
       "Recovered  104959   0  \n",
       "\n",
       "[3 rows x 39 columns]"
      ]
     },
     "execution_count": 7,
     "metadata": {},
     "output_type": "execute_result"
    }
   ],
   "source": [
    "#hide\n",
    "df_yday.head()"
   ]
  },
  {
   "cell_type": "code",
   "execution_count": 8,
   "metadata": {
    "execution": {
     "iopub.execute_input": "2020-08-23T19:11:18.221159Z",
     "iopub.status.busy": "2020-08-23T19:11:18.220623Z",
     "iopub.status.idle": "2020-08-23T19:11:18.224019Z",
     "shell.execute_reply": "2020-08-23T19:11:18.223585Z"
    },
    "papermill": {
     "duration": 0.025936,
     "end_time": "2020-08-23T19:11:18.224133",
     "exception": false,
     "start_time": "2020-08-23T19:11:18.198197",
     "status": "completed"
    },
    "tags": []
   },
   "outputs": [
    {
     "data": {
      "text/plain": [
       "{'updated': '23-Aug-20',\n",
       " 'since': '22-Aug-20',\n",
       " 'Cases': 3104558,\n",
       " 'Deaths': 57703,\n",
       " 'Recovered': 2336789,\n",
       " 'PCases': 3042809,\n",
       " 'PDeaths': 56857,\n",
       " 'PRecovered': 2279893,\n",
       " 'Cases (+)': 61749,\n",
       " 'Deaths (+)': 846,\n",
       " 'Recovered (+)': 56896}"
      ]
     },
     "execution_count": 8,
     "metadata": {},
     "output_type": "execute_result"
    }
   ],
   "source": [
    "#hide\n",
    "summary = {\n",
    "    'updated' : dt_today,\n",
    "    'since' : dt_yday,\n",
    "    'Cases' : df_today['TT'][0],\n",
    "    'Deaths' : df_today['TT'][1],\n",
    "    'Recovered' : df_today['TT'][2],\n",
    "    'PCases' : df_yday['TT'][0],\n",
    "    'PDeaths' : df_yday['TT'][1],\n",
    "    'PRecovered': df_yday['TT'][2],\n",
    "    'Cases (+)' : df_today['TT'][0] - df_yday['TT'][0],\n",
    "    'Deaths (+)' : df_today['TT'][1] - df_yday['TT'][1],\n",
    "    'Recovered (+)': df_today['TT'][2] - df_yday['TT'][2]\n",
    "}\n",
    "\n",
    "summary"
   ]
  },
  {
   "cell_type": "code",
   "execution_count": 9,
   "metadata": {
    "execution": {
     "iopub.execute_input": "2020-08-23T19:11:18.256913Z",
     "iopub.status.busy": "2020-08-23T19:11:18.256322Z",
     "iopub.status.idle": "2020-08-23T19:11:18.259200Z",
     "shell.execute_reply": "2020-08-23T19:11:18.259669Z"
    },
    "papermill": {
     "duration": 0.021865,
     "end_time": "2020-08-23T19:11:18.259805",
     "exception": false,
     "start_time": "2020-08-23T19:11:18.237940",
     "status": "completed"
    },
    "tags": []
   },
   "outputs": [],
   "source": [
    "#hide\n",
    "overview = '''\n",
    "<!-- #######  HTML!! #########-->\n",
    "<h1 style=\"color: #5e9ca0; text-align: center;\">India</h1>\n",
    "<p style=\"text-align: center;\">Last update: <strong>{update}</strong></p>\n",
    "<p style=\"text-align: center;\">Confirmed cases:</p>\n",
    "<p style=\"text-align: center;font-size:24px;\">{cases} (<span style=\"color: #ff0000;\">+{new}</span>)</p>\n",
    "<p style=\"text-align: center;\">Confirmed deaths:</p>\n",
    "<p style=\"text-align: center;font-size:24px;\">{deaths} (<span style=\"color: #ff0000;\">+{dnew}</span>)</p>\n",
    "<p style=\"text-align: center;\">Recovered cases:</p>\n",
    "<p style=\"text-align: center;font-size:24px;\">{recovered} (<span style=\"color: #00ff00;\">+{rnew}</span>)</p>\n",
    "'''"
   ]
  },
  {
   "cell_type": "code",
   "execution_count": 10,
   "metadata": {
    "execution": {
     "iopub.execute_input": "2020-08-23T19:11:18.296070Z",
     "iopub.status.busy": "2020-08-23T19:11:18.295505Z",
     "iopub.status.idle": "2020-08-23T19:11:18.298655Z",
     "shell.execute_reply": "2020-08-23T19:11:18.298123Z"
    },
    "papermill": {
     "duration": 0.024671,
     "end_time": "2020-08-23T19:11:18.298769",
     "exception": false,
     "start_time": "2020-08-23T19:11:18.274098",
     "status": "completed"
    },
    "tags": []
   },
   "outputs": [
    {
     "data": {
      "text/html": [
       "\n",
       "<!-- #######  HTML!! #########-->\n",
       "<h1 style=\"color: #5e9ca0; text-align: center;\">India</h1>\n",
       "<p style=\"text-align: center;\">Last update: <strong>23-Aug-20</strong></p>\n",
       "<p style=\"text-align: center;\">Confirmed cases:</p>\n",
       "<p style=\"text-align: center;font-size:24px;\">3104558 (<span style=\"color: #ff0000;\">+61749</span>)</p>\n",
       "<p style=\"text-align: center;\">Confirmed deaths:</p>\n",
       "<p style=\"text-align: center;font-size:24px;\">57703 (<span style=\"color: #ff0000;\">+846</span>)</p>\n",
       "<p style=\"text-align: center;\">Recovered cases:</p>\n",
       "<p style=\"text-align: center;font-size:24px;\">2336789 (<span style=\"color: #00ff00;\">+56896</span>)</p>\n"
      ],
      "text/plain": [
       "<IPython.core.display.HTML object>"
      ]
     },
     "metadata": {},
     "output_type": "display_data"
    }
   ],
   "source": [
    "#hide_input\n",
    "# Fill the above HTML with the information from the summary dictionary\n",
    "\n",
    "update = summary['updated']\n",
    "cases = summary['Cases']\n",
    "new = summary['Cases (+)']\n",
    "deaths = summary['Deaths']\n",
    "dnew = summary['Deaths (+)']\n",
    "recovered = summary['Recovered']\n",
    "rnew = summary['Recovered (+)']\n",
    "\n",
    "html = HTML(overview.format(update=update, cases=cases,new=new,deaths=deaths,dnew=dnew, recovered=recovered, rnew=rnew))\n",
    "\n",
    "display(html)"
   ]
  },
  {
   "cell_type": "code",
   "execution_count": 11,
   "metadata": {
    "execution": {
     "iopub.execute_input": "2020-08-23T19:11:18.344987Z",
     "iopub.status.busy": "2020-08-23T19:11:18.344359Z",
     "iopub.status.idle": "2020-08-23T19:11:18.346690Z",
     "shell.execute_reply": "2020-08-23T19:11:18.346124Z"
    },
    "papermill": {
     "duration": 0.030713,
     "end_time": "2020-08-23T19:11:18.346812",
     "exception": false,
     "start_time": "2020-08-23T19:11:18.316099",
     "status": "completed"
    },
    "tags": []
   },
   "outputs": [],
   "source": [
    "#hide\n",
    "df_cases = df[df['Status'] == 'Confirmed'].copy()\n",
    "df_cases.drop(columns = ['Status'], inplace=True)\n",
    "df_deaths = df[df['Status'] == 'Deceased'].copy()\n",
    "df_deaths.drop(columns = ['Status'], inplace=True)\n",
    "df_recovered = df[df['Status'] == 'Recovered'].copy()\n",
    "df_recovered.drop(columns = ['Status'], inplace=True)"
   ]
  },
  {
   "cell_type": "markdown",
   "metadata": {
    "papermill": {
     "duration": 0.01492,
     "end_time": "2020-08-23T19:11:18.377622",
     "exception": false,
     "start_time": "2020-08-23T19:11:18.362702",
     "status": "completed"
    },
    "tags": []
   },
   "source": [
    "Plot for India:"
   ]
  },
  {
   "cell_type": "code",
   "execution_count": 12,
   "metadata": {
    "execution": {
     "iopub.execute_input": "2020-08-23T19:11:18.416008Z",
     "iopub.status.busy": "2020-08-23T19:11:18.415390Z",
     "iopub.status.idle": "2020-08-23T19:11:18.690942Z",
     "shell.execute_reply": "2020-08-23T19:11:18.691419Z"
    },
    "papermill": {
     "duration": 0.299037,
     "end_time": "2020-08-23T19:11:18.691573",
     "exception": false,
     "start_time": "2020-08-23T19:11:18.392536",
     "status": "completed"
    },
    "tags": []
   },
   "outputs": [
    {
     "data": {
      "image/png": "[encoded data removed]",
      "text/plain": [
       "<Figure size 1296x432 with 1 Axes>"
      ]
     },
     "metadata": {
      "needs_background": "light"
     },
     "output_type": "display_data"
    }
   ],
   "source": [
    "#hide_input\n",
    "plt.figure(figsize = (18,6))\n",
    "plt.plot(df_cases['Date'], df_cases['TT'],'.-', alpha=0.7, color='b', label='Confirmed cases')\n",
    "plt.plot(df_recovered['Date'], df_recovered['TT'],'.-', alpha=0.7, color='g', label='Recovered')\n",
    "plt.plot(df_deaths['Date'], df_deaths['TT'],'.-', alpha=0.7, color='r', label='Deceased')\n",
    "plt.legend()\n",
    "plt.title(\"Cases per day in India\")\n",
    "plt.xticks(ticks=' ')\n",
    "plt.xlabel(f'{df_cases.iloc[0][0]} to {df_cases.iloc[-1][0]}')\n",
    "plt.ylabel('No. of cases');"
   ]
  },
  {
   "cell_type": "markdown",
   "metadata": {
    "papermill": {
     "duration": 0.016595,
     "end_time": "2020-08-23T19:11:18.725137",
     "exception": false,
     "start_time": "2020-08-23T19:11:18.708542",
     "status": "completed"
    },
    "tags": []
   },
   "source": [
    "Plots for the states with highest number of cases:"
   ]
  },
  {
   "cell_type": "code",
   "execution_count": 13,
   "metadata": {
    "execution": {
     "iopub.execute_input": "2020-08-23T19:11:18.770863Z",
     "iopub.status.busy": "2020-08-23T19:11:18.770251Z",
     "iopub.status.idle": "2020-08-23T19:11:19.339622Z",
     "shell.execute_reply": "2020-08-23T19:11:19.340133Z"
    },
    "papermill": {
     "duration": 0.59875,
     "end_time": "2020-08-23T19:11:19.340317",
     "exception": false,
     "start_time": "2020-08-23T19:11:18.741567",
     "status": "completed"
    },
    "tags": []
   },
   "outputs": [
    {
     "data": {
      "image/png": "[encoded data removed]",
      "text/plain": [
       "<Figure size 1512x432 with 3 Axes>"
      ]
     },
     "metadata": {
      "needs_background": "light"
     },
     "output_type": "display_data"
    }
   ],
   "source": [
    "#hide_input\n",
    "top_3 = sorted(df_cases.sum().values[1:], reverse=True)[1:4]\n",
    "top3_states=[]\n",
    "for i in top_3:\n",
    "    top3_states.append(df_cases.sum()[df_cases.sum() == i].index)\n",
    "\n",
    "\n",
    "fig, ax = plt.subplots(1,3,figsize = (21,6))\n",
    "for i in range(3):\n",
    "    state = top3_states[i].values[0]\n",
    "    ax[i].plot(df_cases['Date'], df_cases[state],'.-', color='b', alpha=0.7)\n",
    "    ax[i].plot(df_deaths['Date'], df_deaths[state],'.-', color='r', alpha=0.7)\n",
    "    ax[i].plot(df_recovered['Date'], df_recovered[state],'.-', color='g', alpha=0.7)\n",
    "    \n",
    "    ax[i].set_title(f\"Cases in {state}\")\n",
    "    ax[i].set_xticks(ticks=' ')\n",
    "    ax[i].set_xlabel(f'{df_cases.iloc[0][0]} to {df_cases.iloc[-1][0]}')\n",
    "    ax[i].set_ylabel('No. of cases');"
   ]
  },
  {
   "cell_type": "code",
   "execution_count": null,
   "metadata": {
    "papermill": {
     "duration": 0.020384,
     "end_time": "2020-08-23T19:11:19.386697",
     "exception": false,
     "start_time": "2020-08-23T19:11:19.366313",
     "status": "completed"
    },
    "tags": []
   },
   "outputs": [],
   "source": []
  },
  {
   "cell_type": "code",
   "execution_count": null,
   "metadata": {
    "papermill": {
     "duration": 0.019309,
     "end_time": "2020-08-23T19:11:19.425682",
     "exception": false,
     "start_time": "2020-08-23T19:11:19.406373",
     "status": "completed"
    },
    "tags": []
   },
   "outputs": [],
   "source": []
  },
  {
   "cell_type": "code",
   "execution_count": null,
   "metadata": {
    "papermill": {
     "duration": 0.019516,
     "end_time": "2020-08-23T19:11:19.464607",
     "exception": false,
     "start_time": "2020-08-23T19:11:19.445091",
     "status": "completed"
    },
    "tags": []
   },
   "outputs": [],
   "source": []
  }
 ],
 "metadata": {
  "kernelspec": {
   "display_name": "Python 3",
   "language": "python",
   "name": "python3"
  },
  "language_info": {
   "codemirror_mode": {
    "name": "ipython",
    "version": 3
   },
   "file_extension": ".py",
   "mimetype": "text/x-python",
   "name": "python",
   "nbconvert_exporter": "python",
   "pygments_lexer": "ipython3",
   "version": "3.6.11"
  },
  "papermill": {
   "duration": 3.773901,
   "end_time": "2020-08-23T19:11:19.792791",
   "environment_variables": {},
   "exception": null,
   "input_path": "2020-08-09-DailyUpdate.ipynb",
   "output_path": "2020-08-09-DailyUpdate.ipynb",
   "parameters": {},
   "start_time": "2020-08-23T19:11:16.018890",
   "version": "2.1.2"
  }
 },
 "nbformat": 4,
 "nbformat_minor": 4
}