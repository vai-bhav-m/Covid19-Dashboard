{
 "cells": [
  {
   "cell_type": "markdown",
   "metadata": {
    "papermill": {
     "duration": 0.019114,
     "end_time": "2020-10-06T19:13:33.120662",
     "exception": false,
     "start_time": "2020-10-06T19:13:33.101548",
     "status": "completed"
    },
    "tags": []
   },
   "source": [
    "# COVID-19 India Daily updates\n",
    "> Tracking coronavirus total cases, deaths and new cases in India on a daily basis\n",
    "\n",
    "- author: Vaibhav Mahapatra"
   ]
  },
  {
   "cell_type": "code",
   "execution_count": 1,
   "metadata": {
    "execution": {
     "iopub.execute_input": "2020-10-06T19:13:33.151895Z",
     "iopub.status.busy": "2020-10-06T19:13:33.151274Z",
     "iopub.status.idle": "2020-10-06T19:13:33.729707Z",
     "shell.execute_reply": "2020-10-06T19:13:33.728696Z"
    },
    "papermill": {
     "duration": 0.596549,
     "end_time": "2020-10-06T19:13:33.729865",
     "exception": false,
     "start_time": "2020-10-06T19:13:33.133316",
     "status": "completed"
    },
    "tags": []
   },
   "outputs": [],
   "source": [
    "#hide\n",
    "\n",
    "## Import essential packages below\n",
    "\n",
    "import pandas as pd\n",
    "import numpy as np\n",
    "import requests\n",
    "import json\n",
    "import matplotlib.pyplot as plt\n",
    "import matplotlib.dates as mdates\n",
    "import matplotlib as mpl\n",
    "from IPython.core.display import display,HTML\n",
    "%matplotlib inline"
   ]
  },
  {
   "cell_type": "code",
   "execution_count": 2,
   "metadata": {
    "execution": {
     "iopub.execute_input": "2020-10-06T19:13:33.759627Z",
     "iopub.status.busy": "2020-10-06T19:13:33.758722Z",
     "iopub.status.idle": "2020-10-06T19:13:33.820957Z",
     "shell.execute_reply": "2020-10-06T19:13:33.821437Z"
    },
    "papermill": {
     "duration": 0.079586,
     "end_time": "2020-10-06T19:13:33.821594",
     "exception": false,
     "start_time": "2020-10-06T19:13:33.742008",
     "status": "completed"
    },
    "tags": []
   },
   "outputs": [
    {
     "data": {
      "text/plain": [
       "(621, 41)"
      ]
     },
     "execution_count": 2,
     "metadata": {},
     "output_type": "execute_result"
    }
   ],
   "source": [
    "#hide\n",
    "url = 'https://api.covid19india.org/csv/latest/state_wise_daily.csv'\n",
    "df = pd.read_csv(url)\n",
    "df.shape"
   ]
  },
  {
   "cell_type": "code",
   "execution_count": 3,
   "metadata": {
    "execution": {
     "iopub.execute_input": "2020-10-06T19:13:33.897107Z",
     "iopub.status.busy": "2020-10-06T19:13:33.891583Z",
     "iopub.status.idle": "2020-10-06T19:13:33.906330Z",
     "shell.execute_reply": "2020-10-06T19:13:33.906797Z"
    },
    "papermill": {
     "duration": 0.072706,
     "end_time": "2020-10-06T19:13:33.906949",
     "exception": false,
     "start_time": "2020-10-06T19:13:33.834243",
     "status": "completed"
    },
    "tags": []
   },
   "outputs": [
    {
     "data": {
      "text/html": [
       "<div>\n",
       "<style scoped>\n",
       "    .dataframe tbody tr th:only-of-type {\n",
       "        vertical-align: middle;\n",
       "    }\n",
       "\n",
       "    .dataframe tbody tr th {\n",
       "        vertical-align: top;\n",
       "    }\n",
       "\n",
       "    .dataframe thead th {\n",
       "        text-align: right;\n",
       "    }\n",
       "</style>\n",
       "<table border=\"1\" class=\"dataframe\">\n",
       "  <thead>\n",
       "    <tr style=\"text-align: right;\">\n",
       "      <th></th>\n",
       "      <th>Date</th>\n",
       "      <th>Status</th>\n",
       "      <th>TT</th>\n",
       "      <th>AN</th>\n",
       "      <th>AP</th>\n",
       "      <th>AR</th>\n",
       "      <th>AS</th>\n",
       "      <th>BR</th>\n",
       "      <th>CH</th>\n",
       "      <th>CT</th>\n",
       "      <th>...</th>\n",
       "      <th>PB</th>\n",
       "      <th>RJ</th>\n",
       "      <th>SK</th>\n",
       "      <th>TN</th>\n",
       "      <th>TG</th>\n",
       "      <th>TR</th>\n",
       "      <th>UP</th>\n",
       "      <th>UT</th>\n",
       "      <th>WB</th>\n",
       "      <th>UN</th>\n",
       "    </tr>\n",
       "  </thead>\n",
       "  <tbody>\n",
       "    <tr>\n",
       "      <th>615</th>\n",
       "      <td>05-Oct-20</td>\n",
       "      <td>Confirmed</td>\n",
       "      <td>60130</td>\n",
       "      <td>15</td>\n",
       "      <td>4256</td>\n",
       "      <td>235</td>\n",
       "      <td>1518</td>\n",
       "      <td>907</td>\n",
       "      <td>133</td>\n",
       "      <td>2681</td>\n",
       "      <td>...</td>\n",
       "      <td>1029</td>\n",
       "      <td>2165</td>\n",
       "      <td>17</td>\n",
       "      <td>5395</td>\n",
       "      <td>1335</td>\n",
       "      <td>159</td>\n",
       "      <td>2971</td>\n",
       "      <td>510</td>\n",
       "      <td>3348</td>\n",
       "      <td>0</td>\n",
       "    </tr>\n",
       "    <tr>\n",
       "      <th>616</th>\n",
       "      <td>05-Oct-20</td>\n",
       "      <td>Recovered</td>\n",
       "      <td>75855</td>\n",
       "      <td>10</td>\n",
       "      <td>7558</td>\n",
       "      <td>198</td>\n",
       "      <td>1364</td>\n",
       "      <td>1565</td>\n",
       "      <td>199</td>\n",
       "      <td>3336</td>\n",
       "      <td>...</td>\n",
       "      <td>1671</td>\n",
       "      <td>2090</td>\n",
       "      <td>67</td>\n",
       "      <td>5572</td>\n",
       "      <td>2176</td>\n",
       "      <td>466</td>\n",
       "      <td>4269</td>\n",
       "      <td>881</td>\n",
       "      <td>3009</td>\n",
       "      <td>0</td>\n",
       "    </tr>\n",
       "    <tr>\n",
       "      <th>617</th>\n",
       "      <td>05-Oct-20</td>\n",
       "      <td>Deceased</td>\n",
       "      <td>886</td>\n",
       "      <td>1</td>\n",
       "      <td>38</td>\n",
       "      <td>1</td>\n",
       "      <td>11</td>\n",
       "      <td>9</td>\n",
       "      <td>3</td>\n",
       "      <td>36</td>\n",
       "      <td>...</td>\n",
       "      <td>38</td>\n",
       "      <td>14</td>\n",
       "      <td>1</td>\n",
       "      <td>62</td>\n",
       "      <td>8</td>\n",
       "      <td>6</td>\n",
       "      <td>63</td>\n",
       "      <td>17</td>\n",
       "      <td>61</td>\n",
       "      <td>0</td>\n",
       "    </tr>\n",
       "    <tr>\n",
       "      <th>618</th>\n",
       "      <td>06-Oct-20</td>\n",
       "      <td>Confirmed</td>\n",
       "      <td>59611</td>\n",
       "      <td>13</td>\n",
       "      <td>5795</td>\n",
       "      <td>224</td>\n",
       "      <td>1184</td>\n",
       "      <td>1265</td>\n",
       "      <td>129</td>\n",
       "      <td>2888</td>\n",
       "      <td>...</td>\n",
       "      <td>830</td>\n",
       "      <td>2121</td>\n",
       "      <td>25</td>\n",
       "      <td>5017</td>\n",
       "      <td>1983</td>\n",
       "      <td>275</td>\n",
       "      <td>3500</td>\n",
       "      <td>338</td>\n",
       "      <td>3370</td>\n",
       "      <td>0</td>\n",
       "    </tr>\n",
       "    <tr>\n",
       "      <th>619</th>\n",
       "      <td>06-Oct-20</td>\n",
       "      <td>Recovered</td>\n",
       "      <td>64804</td>\n",
       "      <td>19</td>\n",
       "      <td>6046</td>\n",
       "      <td>190</td>\n",
       "      <td>1586</td>\n",
       "      <td>1255</td>\n",
       "      <td>238</td>\n",
       "      <td>3484</td>\n",
       "      <td>...</td>\n",
       "      <td>1707</td>\n",
       "      <td>2027</td>\n",
       "      <td>40</td>\n",
       "      <td>5548</td>\n",
       "      <td>2381</td>\n",
       "      <td>255</td>\n",
       "      <td>4432</td>\n",
       "      <td>600</td>\n",
       "      <td>3036</td>\n",
       "      <td>0</td>\n",
       "    </tr>\n",
       "    <tr>\n",
       "      <th>620</th>\n",
       "      <td>06-Oct-20</td>\n",
       "      <td>Deceased</td>\n",
       "      <td>620</td>\n",
       "      <td>0</td>\n",
       "      <td>33</td>\n",
       "      <td>1</td>\n",
       "      <td>18</td>\n",
       "      <td>1</td>\n",
       "      <td>3</td>\n",
       "      <td>23</td>\n",
       "      <td>...</td>\n",
       "      <td>38</td>\n",
       "      <td>15</td>\n",
       "      <td>3</td>\n",
       "      <td>71</td>\n",
       "      <td>10</td>\n",
       "      <td>2</td>\n",
       "      <td>61</td>\n",
       "      <td>8</td>\n",
       "      <td>63</td>\n",
       "      <td>0</td>\n",
       "    </tr>\n",
       "  </tbody>\n",
       "</table>\n",
       "<p>6 rows × 41 columns</p>\n",
       "</div>"
      ],
      "text/plain": [
       "          Date     Status     TT  AN    AP   AR    AS    BR   CH    CT  ...  \\\n",
       "615  05-Oct-20  Confirmed  60130  15  4256  235  1518   907  133  2681  ...   \n",
       "616  05-Oct-20  Recovered  75855  10  7558  198  1364  1565  199  3336  ...   \n",
       "617  05-Oct-20   Deceased    886   1    38    1    11     9    3    36  ...   \n",
       "618  06-Oct-20  Confirmed  59611  13  5795  224  1184  1265  129  2888  ...   \n",
       "619  06-Oct-20  Recovered  64804  19  6046  190  1586  1255  238  3484  ...   \n",
       "620  06-Oct-20   Deceased    620   0    33    1    18     1    3    23  ...   \n",
       "\n",
       "       PB    RJ  SK    TN    TG   TR    UP   UT    WB  UN  \n",
       "615  1029  2165  17  5395  1335  159  2971  510  3348   0  \n",
       "616  1671  2090  67  5572  2176  466  4269  881  3009   0  \n",
       "617    38    14   1    62     8    6    63   17    61   0  \n",
       "618   830  2121  25  5017  1983  275  3500  338  3370   0  \n",
       "619  1707  2027  40  5548  2381  255  4432  600  3036   0  \n",
       "620    38    15   3    71    10    2    61    8    63   0  \n",
       "\n",
       "[6 rows x 41 columns]"
      ]
     },
     "execution_count": 3,
     "metadata": {},
     "output_type": "execute_result"
    }
   ],
   "source": [
    "#hide\n",
    "df.tail(6)"
   ]
  },
  {
   "cell_type": "code",
   "execution_count": 4,
   "metadata": {
    "execution": {
     "iopub.execute_input": "2020-10-06T19:13:33.940893Z",
     "iopub.status.busy": "2020-10-06T19:13:33.940048Z",
     "iopub.status.idle": "2020-10-06T19:13:33.942297Z",
     "shell.execute_reply": "2020-10-06T19:13:33.942751Z"
    },
    "papermill": {
     "duration": 0.022733,
     "end_time": "2020-10-06T19:13:33.942883",
     "exception": false,
     "start_time": "2020-10-06T19:13:33.920150",
     "status": "completed"
    },
    "tags": []
   },
   "outputs": [
    {
     "data": {
      "text/plain": [
       "('06-Oct-20', '05-Oct-20')"
      ]
     },
     "execution_count": 4,
     "metadata": {},
     "output_type": "execute_result"
    }
   ],
   "source": [
    "#hide\n",
    "dt_today = df.iloc[-1][0]\n",
    "dt_yday = df.iloc[-4][0]\n",
    "dt_today, dt_yday"
   ]
  },
  {
   "cell_type": "code",
   "execution_count": 5,
   "metadata": {
    "execution": {
     "iopub.execute_input": "2020-10-06T19:13:33.975689Z",
     "iopub.status.busy": "2020-10-06T19:13:33.975113Z",
     "iopub.status.idle": "2020-10-06T19:13:33.981514Z",
     "shell.execute_reply": "2020-10-06T19:13:33.982061Z"
    },
    "papermill": {
     "duration": 0.026104,
     "end_time": "2020-10-06T19:13:33.982193",
     "exception": false,
     "start_time": "2020-10-06T19:13:33.956089",
     "status": "completed"
    },
    "tags": []
   },
   "outputs": [],
   "source": [
    "#hide\n",
    "df_today = df.groupby('Status').sum()\n",
    "df_yday = df.iloc[:-3][:].groupby('Status').sum()"
   ]
  },
  {
   "cell_type": "code",
   "execution_count": 6,
   "metadata": {
    "execution": {
     "iopub.execute_input": "2020-10-06T19:13:34.024461Z",
     "iopub.status.busy": "2020-10-06T19:13:34.023887Z",
     "iopub.status.idle": "2020-10-06T19:13:34.027081Z",
     "shell.execute_reply": "2020-10-06T19:13:34.026572Z"
    },
    "papermill": {
     "duration": 0.031914,
     "end_time": "2020-10-06T19:13:34.027203",
     "exception": false,
     "start_time": "2020-10-06T19:13:33.995289",
     "status": "completed"
    },
    "tags": []
   },
   "outputs": [
    {
     "data": {
      "text/html": [
       "<div>\n",
       "<style scoped>\n",
       "    .dataframe tbody tr th:only-of-type {\n",
       "        vertical-align: middle;\n",
       "    }\n",
       "\n",
       "    .dataframe tbody tr th {\n",
       "        vertical-align: top;\n",
       "    }\n",
       "\n",
       "    .dataframe thead th {\n",
       "        text-align: right;\n",
       "    }\n",
       "</style>\n",
       "<table border=\"1\" class=\"dataframe\">\n",
       "  <thead>\n",
       "    <tr style=\"text-align: right;\">\n",
       "      <th></th>\n",
       "      <th>TT</th>\n",
       "      <th>AN</th>\n",
       "      <th>AP</th>\n",
       "      <th>AR</th>\n",
       "      <th>AS</th>\n",
       "      <th>BR</th>\n",
       "      <th>CH</th>\n",
       "      <th>CT</th>\n",
       "      <th>DN</th>\n",
       "      <th>DD</th>\n",
       "      <th>...</th>\n",
       "      <th>PB</th>\n",
       "      <th>RJ</th>\n",
       "      <th>SK</th>\n",
       "      <th>TN</th>\n",
       "      <th>TG</th>\n",
       "      <th>TR</th>\n",
       "      <th>UP</th>\n",
       "      <th>UT</th>\n",
       "      <th>WB</th>\n",
       "      <th>UN</th>\n",
       "    </tr>\n",
       "    <tr>\n",
       "      <th>Status</th>\n",
       "      <th></th>\n",
       "      <th></th>\n",
       "      <th></th>\n",
       "      <th></th>\n",
       "      <th></th>\n",
       "      <th></th>\n",
       "      <th></th>\n",
       "      <th></th>\n",
       "      <th></th>\n",
       "      <th></th>\n",
       "      <th></th>\n",
       "      <th></th>\n",
       "      <th></th>\n",
       "      <th></th>\n",
       "      <th></th>\n",
       "      <th></th>\n",
       "      <th></th>\n",
       "      <th></th>\n",
       "      <th></th>\n",
       "      <th></th>\n",
       "      <th></th>\n",
       "    </tr>\n",
       "  </thead>\n",
       "  <tbody>\n",
       "    <tr>\n",
       "      <th>Confirmed</th>\n",
       "      <td>6741292</td>\n",
       "      <td>3908</td>\n",
       "      <td>729307</td>\n",
       "      <td>11007</td>\n",
       "      <td>188800</td>\n",
       "      <td>190123</td>\n",
       "      <td>12707</td>\n",
       "      <td>128893</td>\n",
       "      <td>3101</td>\n",
       "      <td>0</td>\n",
       "      <td>...</td>\n",
       "      <td>120016</td>\n",
       "      <td>148316</td>\n",
       "      <td>3148</td>\n",
       "      <td>630408</td>\n",
       "      <td>202084</td>\n",
       "      <td>27305</td>\n",
       "      <td>420937</td>\n",
       "      <td>52329</td>\n",
       "      <td>277049</td>\n",
       "      <td>0</td>\n",
       "    </tr>\n",
       "    <tr>\n",
       "      <th>Deceased</th>\n",
       "      <td>103634</td>\n",
       "      <td>54</td>\n",
       "      <td>6052</td>\n",
       "      <td>20</td>\n",
       "      <td>782</td>\n",
       "      <td>925</td>\n",
       "      <td>180</td>\n",
       "      <td>1104</td>\n",
       "      <td>2</td>\n",
       "      <td>0</td>\n",
       "      <td>...</td>\n",
       "      <td>3679</td>\n",
       "      <td>1574</td>\n",
       "      <td>49</td>\n",
       "      <td>9917</td>\n",
       "      <td>1181</td>\n",
       "      <td>298</td>\n",
       "      <td>6153</td>\n",
       "      <td>677</td>\n",
       "      <td>5318</td>\n",
       "      <td>0</td>\n",
       "    </tr>\n",
       "    <tr>\n",
       "      <th>Recovered</th>\n",
       "      <td>5724090</td>\n",
       "      <td>3669</td>\n",
       "      <td>672479</td>\n",
       "      <td>7965</td>\n",
       "      <td>155074</td>\n",
       "      <td>177929</td>\n",
       "      <td>11035</td>\n",
       "      <td>100551</td>\n",
       "      <td>2957</td>\n",
       "      <td>0</td>\n",
       "      <td>...</td>\n",
       "      <td>104355</td>\n",
       "      <td>125448</td>\n",
       "      <td>2507</td>\n",
       "      <td>575212</td>\n",
       "      <td>174769</td>\n",
       "      <td>22108</td>\n",
       "      <td>370753</td>\n",
       "      <td>42968</td>\n",
       "      <td>243743</td>\n",
       "      <td>0</td>\n",
       "    </tr>\n",
       "  </tbody>\n",
       "</table>\n",
       "<p>3 rows × 39 columns</p>\n",
       "</div>"
      ],
      "text/plain": [
       "                TT    AN      AP     AR      AS      BR     CH      CT    DN  \\\n",
       "Status                                                                         \n",
       "Confirmed  6741292  3908  729307  11007  188800  190123  12707  128893  3101   \n",
       "Deceased    103634    54    6052     20     782     925    180    1104     2   \n",
       "Recovered  5724090  3669  672479   7965  155074  177929  11035  100551  2957   \n",
       "\n",
       "           DD  ...      PB      RJ    SK      TN      TG     TR      UP  \\\n",
       "Status         ...                                                        \n",
       "Confirmed   0  ...  120016  148316  3148  630408  202084  27305  420937   \n",
       "Deceased    0  ...    3679    1574    49    9917    1181    298    6153   \n",
       "Recovered   0  ...  104355  125448  2507  575212  174769  22108  370753   \n",
       "\n",
       "              UT      WB  UN  \n",
       "Status                        \n",
       "Confirmed  52329  277049   0  \n",
       "Deceased     677    5318   0  \n",
       "Recovered  42968  243743   0  \n",
       "\n",
       "[3 rows x 39 columns]"
      ]
     },
     "execution_count": 6,
     "metadata": {},
     "output_type": "execute_result"
    }
   ],
   "source": [
    "#hide\n",
    "df_today"
   ]
  },
  {
   "cell_type": "code",
   "execution_count": 7,
   "metadata": {
    "execution": {
     "iopub.execute_input": "2020-10-06T19:13:34.070600Z",
     "iopub.status.busy": "2020-10-06T19:13:34.070034Z",
     "iopub.status.idle": "2020-10-06T19:13:34.072862Z",
     "shell.execute_reply": "2020-10-06T19:13:34.073364Z"
    },
    "papermill": {
     "duration": 0.032598,
     "end_time": "2020-10-06T19:13:34.073493",
     "exception": false,
     "start_time": "2020-10-06T19:13:34.040895",
     "status": "completed"
    },
    "tags": []
   },
   "outputs": [
    {
     "data": {
      "text/html": [
       "<div>\n",
       "<style scoped>\n",
       "    .dataframe tbody tr th:only-of-type {\n",
       "        vertical-align: middle;\n",
       "    }\n",
       "\n",
       "    .dataframe tbody tr th {\n",
       "        vertical-align: top;\n",
       "    }\n",
       "\n",
       "    .dataframe thead th {\n",
       "        text-align: right;\n",
       "    }\n",
       "</style>\n",
       "<table border=\"1\" class=\"dataframe\">\n",
       "  <thead>\n",
       "    <tr style=\"text-align: right;\">\n",
       "      <th></th>\n",
       "      <th>TT</th>\n",
       "      <th>AN</th>\n",
       "      <th>AP</th>\n",
       "      <th>AR</th>\n",
       "      <th>AS</th>\n",
       "      <th>BR</th>\n",
       "      <th>CH</th>\n",
       "      <th>CT</th>\n",
       "      <th>DN</th>\n",
       "      <th>DD</th>\n",
       "      <th>...</th>\n",
       "      <th>PB</th>\n",
       "      <th>RJ</th>\n",
       "      <th>SK</th>\n",
       "      <th>TN</th>\n",
       "      <th>TG</th>\n",
       "      <th>TR</th>\n",
       "      <th>UP</th>\n",
       "      <th>UT</th>\n",
       "      <th>WB</th>\n",
       "      <th>UN</th>\n",
       "    </tr>\n",
       "    <tr>\n",
       "      <th>Status</th>\n",
       "      <th></th>\n",
       "      <th></th>\n",
       "      <th></th>\n",
       "      <th></th>\n",
       "      <th></th>\n",
       "      <th></th>\n",
       "      <th></th>\n",
       "      <th></th>\n",
       "      <th></th>\n",
       "      <th></th>\n",
       "      <th></th>\n",
       "      <th></th>\n",
       "      <th></th>\n",
       "      <th></th>\n",
       "      <th></th>\n",
       "      <th></th>\n",
       "      <th></th>\n",
       "      <th></th>\n",
       "      <th></th>\n",
       "      <th></th>\n",
       "      <th></th>\n",
       "    </tr>\n",
       "  </thead>\n",
       "  <tbody>\n",
       "    <tr>\n",
       "      <th>Confirmed</th>\n",
       "      <td>6681681</td>\n",
       "      <td>3895</td>\n",
       "      <td>723512</td>\n",
       "      <td>10783</td>\n",
       "      <td>187616</td>\n",
       "      <td>188858</td>\n",
       "      <td>12578</td>\n",
       "      <td>126005</td>\n",
       "      <td>3090</td>\n",
       "      <td>0</td>\n",
       "      <td>...</td>\n",
       "      <td>119186</td>\n",
       "      <td>146195</td>\n",
       "      <td>3123</td>\n",
       "      <td>625391</td>\n",
       "      <td>200101</td>\n",
       "      <td>27030</td>\n",
       "      <td>417437</td>\n",
       "      <td>51991</td>\n",
       "      <td>273679</td>\n",
       "      <td>0</td>\n",
       "    </tr>\n",
       "    <tr>\n",
       "      <th>Deceased</th>\n",
       "      <td>103014</td>\n",
       "      <td>54</td>\n",
       "      <td>6019</td>\n",
       "      <td>19</td>\n",
       "      <td>764</td>\n",
       "      <td>924</td>\n",
       "      <td>177</td>\n",
       "      <td>1081</td>\n",
       "      <td>2</td>\n",
       "      <td>0</td>\n",
       "      <td>...</td>\n",
       "      <td>3641</td>\n",
       "      <td>1559</td>\n",
       "      <td>46</td>\n",
       "      <td>9846</td>\n",
       "      <td>1171</td>\n",
       "      <td>296</td>\n",
       "      <td>6092</td>\n",
       "      <td>669</td>\n",
       "      <td>5255</td>\n",
       "      <td>0</td>\n",
       "    </tr>\n",
       "    <tr>\n",
       "      <th>Recovered</th>\n",
       "      <td>5659286</td>\n",
       "      <td>3650</td>\n",
       "      <td>666433</td>\n",
       "      <td>7775</td>\n",
       "      <td>153488</td>\n",
       "      <td>176674</td>\n",
       "      <td>10797</td>\n",
       "      <td>97067</td>\n",
       "      <td>2948</td>\n",
       "      <td>0</td>\n",
       "      <td>...</td>\n",
       "      <td>102648</td>\n",
       "      <td>123421</td>\n",
       "      <td>2467</td>\n",
       "      <td>569664</td>\n",
       "      <td>172388</td>\n",
       "      <td>21853</td>\n",
       "      <td>366321</td>\n",
       "      <td>42368</td>\n",
       "      <td>240707</td>\n",
       "      <td>0</td>\n",
       "    </tr>\n",
       "  </tbody>\n",
       "</table>\n",
       "<p>3 rows × 39 columns</p>\n",
       "</div>"
      ],
      "text/plain": [
       "                TT    AN      AP     AR      AS      BR     CH      CT    DN  \\\n",
       "Status                                                                         \n",
       "Confirmed  6681681  3895  723512  10783  187616  188858  12578  126005  3090   \n",
       "Deceased    103014    54    6019     19     764     924    177    1081     2   \n",
       "Recovered  5659286  3650  666433   7775  153488  176674  10797   97067  2948   \n",
       "\n",
       "           DD  ...      PB      RJ    SK      TN      TG     TR      UP  \\\n",
       "Status         ...                                                        \n",
       "Confirmed   0  ...  119186  146195  3123  625391  200101  27030  417437   \n",
       "Deceased    0  ...    3641    1559    46    9846    1171    296    6092   \n",
       "Recovered   0  ...  102648  123421  2467  569664  172388  21853  366321   \n",
       "\n",
       "              UT      WB  UN  \n",
       "Status                        \n",
       "Confirmed  51991  273679   0  \n",
       "Deceased     669    5255   0  \n",
       "Recovered  42368  240707   0  \n",
       "\n",
       "[3 rows x 39 columns]"
      ]
     },
     "execution_count": 7,
     "metadata": {},
     "output_type": "execute_result"
    }
   ],
   "source": [
    "#hide\n",
    "df_yday.head()"
   ]
  },
  {
   "cell_type": "code",
   "execution_count": 8,
   "metadata": {
    "execution": {
     "iopub.execute_input": "2020-10-06T19:13:34.114068Z",
     "iopub.status.busy": "2020-10-06T19:13:34.113494Z",
     "iopub.status.idle": "2020-10-06T19:13:34.116745Z",
     "shell.execute_reply": "2020-10-06T19:13:34.116256Z"
    },
    "papermill": {
     "duration": 0.028771,
     "end_time": "2020-10-06T19:13:34.116861",
     "exception": false,
     "start_time": "2020-10-06T19:13:34.088090",
     "status": "completed"
    },
    "tags": []
   },
   "outputs": [
    {
     "data": {
      "text/plain": [
       "{'updated': '06-Oct-20',\n",
       " 'since': '05-Oct-20',\n",
       " 'Cases': 6741292,\n",
       " 'Deaths': 103634,\n",
       " 'Recovered': 5724090,\n",
       " 'PCases': 6681681,\n",
       " 'PDeaths': 103014,\n",
       " 'PRecovered': 5659286,\n",
       " 'Cases (+)': 59611,\n",
       " 'Deaths (+)': 620,\n",
       " 'Recovered (+)': 64804}"
      ]
     },
     "execution_count": 8,
     "metadata": {},
     "output_type": "execute_result"
    }
   ],
   "source": [
    "#hide\n",
    "summary = {\n",
    "    'updated' : dt_today,\n",
    "    'since' : dt_yday,\n",
    "    'Cases' : df_today['TT'][0],\n",
    "    'Deaths' : df_today['TT'][1],\n",
    "    'Recovered' : df_today['TT'][2],\n",
    "    'PCases' : df_yday['TT'][0],\n",
    "    'PDeaths' : df_yday['TT'][1],\n",
    "    'PRecovered': df_yday['TT'][2],\n",
    "    'Cases (+)' : df_today['TT'][0] - df_yday['TT'][0],\n",
    "    'Deaths (+)' : df_today['TT'][1] - df_yday['TT'][1],\n",
    "    'Recovered (+)': df_today['TT'][2] - df_yday['TT'][2]\n",
    "}\n",
    "\n",
    "summary"
   ]
  },
  {
   "cell_type": "code",
   "execution_count": 9,
   "metadata": {
    "execution": {
     "iopub.execute_input": "2020-10-06T19:13:34.152046Z",
     "iopub.status.busy": "2020-10-06T19:13:34.151460Z",
     "iopub.status.idle": "2020-10-06T19:13:34.153932Z",
     "shell.execute_reply": "2020-10-06T19:13:34.154421Z"
    },
    "papermill": {
     "duration": 0.023022,
     "end_time": "2020-10-06T19:13:34.154548",
     "exception": false,
     "start_time": "2020-10-06T19:13:34.131526",
     "status": "completed"
    },
    "tags": []
   },
   "outputs": [],
   "source": [
    "#hide\n",
    "overview = '''\n",
    "<!-- #######  HTML!! #########-->\n",
    "<h1 style=\"color: #5e9ca0; text-align: center;\">India</h1>\n",
    "<p style=\"text-align: center;\">Last update: <strong>{update}</strong></p>\n",
    "<p style=\"text-align: center;\">Confirmed cases:</p>\n",
    "<p style=\"text-align: center;font-size:24px;\">{cases} (<span style=\"color: #ff0000;\">+{new}</span>)</p>\n",
    "<p style=\"text-align: center;\">Confirmed deaths:</p>\n",
    "<p style=\"text-align: center;font-size:24px;\">{deaths} (<span style=\"color: #ff0000;\">+{dnew}</span>)</p>\n",
    "<p style=\"text-align: center;\">Recovered cases:</p>\n",
    "<p style=\"text-align: center;font-size:24px;\">{recovered} (<span style=\"color: #00ff00;\">+{rnew}</span>)</p>\n",
    "'''"
   ]
  },
  {
   "cell_type": "code",
   "execution_count": 10,
   "metadata": {
    "execution": {
     "iopub.execute_input": "2020-10-06T19:13:34.190957Z",
     "iopub.status.busy": "2020-10-06T19:13:34.190384Z",
     "iopub.status.idle": "2020-10-06T19:13:34.193633Z",
     "shell.execute_reply": "2020-10-06T19:13:34.194163Z"
    },
    "papermill": {
     "duration": 0.024982,
     "end_time": "2020-10-06T19:13:34.194291",
     "exception": false,
     "start_time": "2020-10-06T19:13:34.169309",
     "status": "completed"
    },
    "tags": []
   },
   "outputs": [
    {
     "data": {
      "text/html": [
       "\n",
       "<!-- #######  HTML!! #########-->\n",
       "<h1 style=\"color: #5e9ca0; text-align: center;\">India</h1>\n",
       "<p style=\"text-align: center;\">Last update: <strong>06-Oct-20</strong></p>\n",
       "<p style=\"text-align: center;\">Confirmed cases:</p>\n",
       "<p style=\"text-align: center;font-size:24px;\">6741292 (<span style=\"color: #ff0000;\">+59611</span>)</p>\n",
       "<p style=\"text-align: center;\">Confirmed deaths:</p>\n",
       "<p style=\"text-align: center;font-size:24px;\">103634 (<span style=\"color: #ff0000;\">+620</span>)</p>\n",
       "<p style=\"text-align: center;\">Recovered cases:</p>\n",
       "<p style=\"text-align: center;font-size:24px;\">5724090 (<span style=\"color: #00ff00;\">+64804</span>)</p>\n"
      ],
      "text/plain": [
       "<IPython.core.display.HTML object>"
      ]
     },
     "metadata": {},
     "output_type": "display_data"
    }
   ],
   "source": [
    "#hide_input\n",
    "# Fill the above HTML with the information from the summary dictionary\n",
    "\n",
    "update = summary['updated']\n",
    "cases = summary['Cases']\n",
    "new = summary['Cases (+)']\n",
    "deaths = summary['Deaths']\n",
    "dnew = summary['Deaths (+)']\n",
    "recovered = summary['Recovered']\n",
    "rnew = summary['Recovered (+)']\n",
    "\n",
    "html = HTML(overview.format(update=update, cases=cases,new=new,deaths=deaths,dnew=dnew, recovered=recovered, rnew=rnew))\n",
    "\n",
    "display(html)"
   ]
  },
  {
   "cell_type": "code",
   "execution_count": 11,
   "metadata": {
    "execution": {
     "iopub.execute_input": "2020-10-06T19:13:34.234156Z",
     "iopub.status.busy": "2020-10-06T19:13:34.233580Z",
     "iopub.status.idle": "2020-10-06T19:13:34.240010Z",
     "shell.execute_reply": "2020-10-06T19:13:34.240506Z"
    },
    "papermill": {
     "duration": 0.031195,
     "end_time": "2020-10-06T19:13:34.240632",
     "exception": false,
     "start_time": "2020-10-06T19:13:34.209437",
     "status": "completed"
    },
    "tags": []
   },
   "outputs": [],
   "source": [
    "#hide\n",
    "df_cases = df[df['Status'] == 'Confirmed'].copy()\n",
    "df_cases.drop(columns = ['Status'], inplace=True)\n",
    "df_deaths = df[df['Status'] == 'Deceased'].copy()\n",
    "df_deaths.drop(columns = ['Status'], inplace=True)\n",
    "df_recovered = df[df['Status'] == 'Recovered'].copy()\n",
    "df_recovered.drop(columns = ['Status'], inplace=True)"
   ]
  },
  {
   "cell_type": "markdown",
   "metadata": {
    "papermill": {
     "duration": 0.015111,
     "end_time": "2020-10-06T19:13:34.270852",
     "exception": false,
     "start_time": "2020-10-06T19:13:34.255741",
     "status": "completed"
    },
    "tags": []
   },
   "source": [
    "Plot for India:"
   ]
  },
  {
   "cell_type": "code",
   "execution_count": 12,
   "metadata": {
    "execution": {
     "iopub.execute_input": "2020-10-06T19:13:34.349384Z",
     "iopub.status.busy": "2020-10-06T19:13:34.339658Z",
     "iopub.status.idle": "2020-10-06T19:13:34.581666Z",
     "shell.execute_reply": "2020-10-06T19:13:34.581160Z"
    },
    "papermill": {
     "duration": 0.294203,
     "end_time": "2020-10-06T19:13:34.581798",
     "exception": false,
     "start_time": "2020-10-06T19:13:34.287595",
     "status": "completed"
    },
    "tags": []
   },
   "outputs": [
    {
     "data": {
      "image/png": "[encoded data removed]",
      "text/plain": [
       "<Figure size 1296x432 with 1 Axes>"
      ]
     },
     "metadata": {
      "needs_background": "light"
     },
     "output_type": "display_data"
    }
   ],
   "source": [
    "#hide_input\n",
    "plt.figure(figsize = (18,6))\n",
    "plt.plot(df_cases['Date'], df_cases['TT'],'.-', alpha=0.7, color='b', label='Confirmed cases')\n",
    "plt.plot(df_recovered['Date'], df_recovered['TT'],'.-', alpha=0.7, color='g', label='Recovered')\n",
    "plt.plot(df_deaths['Date'], df_deaths['TT'],'.-', alpha=0.7, color='r', label='Deceased')\n",
    "plt.legend()\n",
    "plt.title(\"Cases per day in India\")\n",
    "plt.xticks(ticks=' ')\n",
    "plt.xlabel(f'{df_cases.iloc[0][0]} to {df_cases.iloc[-1][0]}')\n",
    "plt.ylabel('No. of cases');"
   ]
  },
  {
   "cell_type": "markdown",
   "metadata": {
    "papermill": {
     "duration": 0.017546,
     "end_time": "2020-10-06T19:13:34.616973",
     "exception": false,
     "start_time": "2020-10-06T19:13:34.599427",
     "status": "completed"
    },
    "tags": []
   },
   "source": [
    "Plots for the states with highest number of cases:"
   ]
  },
  {
   "cell_type": "code",
   "execution_count": 13,
   "metadata": {
    "execution": {
     "iopub.execute_input": "2020-10-06T19:13:34.661622Z",
     "iopub.status.busy": "2020-10-06T19:13:34.661006Z",
     "iopub.status.idle": "2020-10-06T19:13:35.263943Z",
     "shell.execute_reply": "2020-10-06T19:13:35.264419Z"
    },
    "papermill": {
     "duration": 0.629453,
     "end_time": "2020-10-06T19:13:35.264582",
     "exception": false,
     "start_time": "2020-10-06T19:13:34.635129",
     "status": "completed"
    },
    "tags": []
   },
   "outputs": [
    {
     "data": {
      "image/png": "[encoded data removed]",
      "text/plain": [
       "<Figure size 1512x432 with 3 Axes>"
      ]
     },
     "metadata": {
      "needs_background": "light"
     },
     "output_type": "display_data"
    }
   ],
   "source": [
    "#hide_input\n",
    "top_3 = sorted(df_cases.sum().values[1:], reverse=True)[1:4]\n",
    "top3_states=[]\n",
    "for i in top_3:\n",
    "    top3_states.append(df_cases.sum()[df_cases.sum() == i].index)\n",
    "\n",
    "\n",
    "fig, ax = plt.subplots(1,3,figsize = (21,6))\n",
    "for i in range(3):\n",
    "    state = top3_states[i].values[0]\n",
    "    ax[i].plot(df_cases['Date'], df_cases[state],'.-', color='b', alpha=0.7)\n",
    "    ax[i].plot(df_deaths['Date'], df_deaths[state],'.-', color='r', alpha=0.7)\n",
    "    ax[i].plot(df_recovered['Date'], df_recovered[state],'.-', color='g', alpha=0.7)\n",
    "    \n",
    "    ax[i].set_title(f\"Cases in {state}\")\n",
    "    ax[i].set_xticks(ticks=' ')\n",
    "    ax[i].set_xlabel(f'{df_cases.iloc[0][0]} to {df_cases.iloc[-1][0]}')\n",
    "    ax[i].set_ylabel('No. of cases');"
   ]
  },
  {
   "cell_type": "code",
   "execution_count": null,
   "metadata": {
    "papermill": {
     "duration": 0.461891,
     "end_time": "2020-10-06T19:13:35.746772",
     "exception": false,
     "start_time": "2020-10-06T19:13:35.284881",
     "status": "completed"
    },
    "tags": []
   },
   "outputs": [],
   "source": []
  },
  {
   "cell_type": "code",
   "execution_count": null,
   "metadata": {
    "papermill": {
     "duration": 0.493791,
     "end_time": "2020-10-06T19:13:36.448806",
     "exception": false,
     "start_time": "2020-10-06T19:13:35.955015",
     "status": "completed"
    },
    "tags": []
   },
   "outputs": [],
   "source": []
  },
  {
   "cell_type": "code",
   "execution_count": null,
   "metadata": {
    "papermill": {
     "duration": 0.019823,
     "end_time": "2020-10-06T19:13:36.489113",
     "exception": false,
     "start_time": "2020-10-06T19:13:36.469290",
     "status": "completed"
    },
    "tags": []
   },
   "outputs": [],
   "source": []
  }
 ],
 "metadata": {
  "kernelspec": {
   "display_name": "Python 3",
   "language": "python",
   "name": "python3"
  },
  "language_info": {
   "codemirror_mode": {
    "name": "ipython",
    "version": 3
   },
   "file_extension": ".py",
   "mimetype": "text/x-python",
   "name": "python",
   "nbconvert_exporter": "python",
   "pygments_lexer": "ipython3",
   "version": "3.6.12"
  },
  "papermill": {
   "duration": 4.795714,
   "end_time": "2020-10-06T19:13:36.817630",
   "environment_variables": {},
   "exception": null,
   "input_path": "2020-08-09-DailyUpdate.ipynb",
   "output_path": "2020-08-09-DailyUpdate.ipynb",
   "parameters": {},
   "start_time": "2020-10-06T19:13:32.021916",
   "version": "2.1.2"
  }
 },
 "nbformat": 4,
 "nbformat_minor": 4
}