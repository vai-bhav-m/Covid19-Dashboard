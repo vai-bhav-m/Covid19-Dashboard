{
 "cells": [
  {
   "cell_type": "markdown",
   "metadata": {
    "papermill": {
     "duration": 0.014127,
     "end_time": "2020-09-08T19:12:25.012728",
     "exception": false,
     "start_time": "2020-09-08T19:12:24.998601",
     "status": "completed"
    },
    "tags": []
   },
   "source": [
    "# COVID-19 India Daily updates\n",
    "> Tracking coronavirus total cases, deaths and new cases in India on a daily basis\n",
    "\n",
    "- author: Vaibhav Mahapatra"
   ]
  },
  {
   "cell_type": "code",
   "execution_count": 1,
   "metadata": {
    "execution": {
     "iopub.execute_input": "2020-09-08T19:12:25.042056Z",
     "iopub.status.busy": "2020-09-08T19:12:25.041322Z",
     "iopub.status.idle": "2020-09-08T19:12:25.611879Z",
     "shell.execute_reply": "2020-09-08T19:12:25.611362Z"
    },
    "papermill": {
     "duration": 0.587783,
     "end_time": "2020-09-08T19:12:25.612027",
     "exception": false,
     "start_time": "2020-09-08T19:12:25.024244",
     "status": "completed"
    },
    "tags": []
   },
   "outputs": [],
   "source": [
    "#hide\n",
    "\n",
    "## Import essential packages below\n",
    "\n",
    "import pandas as pd\n",
    "import numpy as np\n",
    "import requests\n",
    "import json\n",
    "import matplotlib.pyplot as plt\n",
    "import matplotlib.dates as mdates\n",
    "import matplotlib as mpl\n",
    "from IPython.core.display import display,HTML\n",
    "%matplotlib inline"
   ]
  },
  {
   "cell_type": "code",
   "execution_count": 2,
   "metadata": {
    "execution": {
     "iopub.execute_input": "2020-09-08T19:12:25.641297Z",
     "iopub.status.busy": "2020-09-08T19:12:25.640408Z",
     "iopub.status.idle": "2020-09-08T19:12:25.811961Z",
     "shell.execute_reply": "2020-09-08T19:12:25.812429Z"
    },
    "papermill": {
     "duration": 0.188586,
     "end_time": "2020-09-08T19:12:25.812583",
     "exception": false,
     "start_time": "2020-09-08T19:12:25.623997",
     "status": "completed"
    },
    "tags": []
   },
   "outputs": [
    {
     "data": {
      "text/plain": [
       "(537, 41)"
      ]
     },
     "execution_count": 2,
     "metadata": {},
     "output_type": "execute_result"
    }
   ],
   "source": [
    "#hide\n",
    "url = 'https://api.covid19india.org/csv/latest/state_wise_daily.csv'\n",
    "df = pd.read_csv(url)\n",
    "df.shape"
   ]
  },
  {
   "cell_type": "code",
   "execution_count": 3,
   "metadata": {
    "execution": {
     "iopub.execute_input": "2020-09-08T19:12:25.879686Z",
     "iopub.status.busy": "2020-09-08T19:12:25.879069Z",
     "iopub.status.idle": "2020-09-08T19:12:25.888560Z",
     "shell.execute_reply": "2020-09-08T19:12:25.889071Z"
    },
    "papermill": {
     "duration": 0.063863,
     "end_time": "2020-09-08T19:12:25.889220",
     "exception": false,
     "start_time": "2020-09-08T19:12:25.825357",
     "status": "completed"
    },
    "tags": []
   },
   "outputs": [
    {
     "data": {
      "text/html": [
       "<div>\n",
       "<style scoped>\n",
       "    .dataframe tbody tr th:only-of-type {\n",
       "        vertical-align: middle;\n",
       "    }\n",
       "\n",
       "    .dataframe tbody tr th {\n",
       "        vertical-align: top;\n",
       "    }\n",
       "\n",
       "    .dataframe thead th {\n",
       "        text-align: right;\n",
       "    }\n",
       "</style>\n",
       "<table border=\"1\" class=\"dataframe\">\n",
       "  <thead>\n",
       "    <tr style=\"text-align: right;\">\n",
       "      <th></th>\n",
       "      <th>Date</th>\n",
       "      <th>Status</th>\n",
       "      <th>TT</th>\n",
       "      <th>AN</th>\n",
       "      <th>AP</th>\n",
       "      <th>AR</th>\n",
       "      <th>AS</th>\n",
       "      <th>BR</th>\n",
       "      <th>CH</th>\n",
       "      <th>CT</th>\n",
       "      <th>...</th>\n",
       "      <th>PB</th>\n",
       "      <th>RJ</th>\n",
       "      <th>SK</th>\n",
       "      <th>TN</th>\n",
       "      <th>TG</th>\n",
       "      <th>TR</th>\n",
       "      <th>UP</th>\n",
       "      <th>UT</th>\n",
       "      <th>WB</th>\n",
       "      <th>UN</th>\n",
       "    </tr>\n",
       "  </thead>\n",
       "  <tbody>\n",
       "    <tr>\n",
       "      <th>531</th>\n",
       "      <td>07-Sep-20</td>\n",
       "      <td>Confirmed</td>\n",
       "      <td>74678</td>\n",
       "      <td>27</td>\n",
       "      <td>8368</td>\n",
       "      <td>180</td>\n",
       "      <td>2785</td>\n",
       "      <td>1369</td>\n",
       "      <td>232</td>\n",
       "      <td>2017</td>\n",
       "      <td>...</td>\n",
       "      <td>2110</td>\n",
       "      <td>1580</td>\n",
       "      <td>29</td>\n",
       "      <td>5776</td>\n",
       "      <td>1802</td>\n",
       "      <td>399</td>\n",
       "      <td>5568</td>\n",
       "      <td>807</td>\n",
       "      <td>3077</td>\n",
       "      <td>0</td>\n",
       "    </tr>\n",
       "    <tr>\n",
       "      <th>532</th>\n",
       "      <td>07-Sep-20</td>\n",
       "      <td>Recovered</td>\n",
       "      <td>73535</td>\n",
       "      <td>46</td>\n",
       "      <td>10055</td>\n",
       "      <td>124</td>\n",
       "      <td>2250</td>\n",
       "      <td>1845</td>\n",
       "      <td>295</td>\n",
       "      <td>979</td>\n",
       "      <td>...</td>\n",
       "      <td>1565</td>\n",
       "      <td>1566</td>\n",
       "      <td>25</td>\n",
       "      <td>5930</td>\n",
       "      <td>2711</td>\n",
       "      <td>303</td>\n",
       "      <td>4993</td>\n",
       "      <td>473</td>\n",
       "      <td>3021</td>\n",
       "      <td>0</td>\n",
       "    </tr>\n",
       "    <tr>\n",
       "      <th>533</th>\n",
       "      <td>07-Sep-20</td>\n",
       "      <td>Deceased</td>\n",
       "      <td>1120</td>\n",
       "      <td>0</td>\n",
       "      <td>70</td>\n",
       "      <td>0</td>\n",
       "      <td>10</td>\n",
       "      <td>7</td>\n",
       "      <td>3</td>\n",
       "      <td>15</td>\n",
       "      <td>...</td>\n",
       "      <td>61</td>\n",
       "      <td>14</td>\n",
       "      <td>0</td>\n",
       "      <td>89</td>\n",
       "      <td>9</td>\n",
       "      <td>5</td>\n",
       "      <td>56</td>\n",
       "      <td>7</td>\n",
       "      <td>58</td>\n",
       "      <td>0</td>\n",
       "    </tr>\n",
       "    <tr>\n",
       "      <th>534</th>\n",
       "      <td>08-Sep-20</td>\n",
       "      <td>Confirmed</td>\n",
       "      <td>89852</td>\n",
       "      <td>33</td>\n",
       "      <td>10601</td>\n",
       "      <td>221</td>\n",
       "      <td>2578</td>\n",
       "      <td>1667</td>\n",
       "      <td>377</td>\n",
       "      <td>2834</td>\n",
       "      <td>...</td>\n",
       "      <td>1964</td>\n",
       "      <td>1590</td>\n",
       "      <td>19</td>\n",
       "      <td>5684</td>\n",
       "      <td>2392</td>\n",
       "      <td>628</td>\n",
       "      <td>6622</td>\n",
       "      <td>658</td>\n",
       "      <td>3091</td>\n",
       "      <td>0</td>\n",
       "    </tr>\n",
       "    <tr>\n",
       "      <th>535</th>\n",
       "      <td>08-Sep-20</td>\n",
       "      <td>Recovered</td>\n",
       "      <td>74607</td>\n",
       "      <td>38</td>\n",
       "      <td>11691</td>\n",
       "      <td>127</td>\n",
       "      <td>2166</td>\n",
       "      <td>1944</td>\n",
       "      <td>226</td>\n",
       "      <td>615</td>\n",
       "      <td>...</td>\n",
       "      <td>2307</td>\n",
       "      <td>1445</td>\n",
       "      <td>17</td>\n",
       "      <td>6599</td>\n",
       "      <td>2346</td>\n",
       "      <td>294</td>\n",
       "      <td>5439</td>\n",
       "      <td>427</td>\n",
       "      <td>2996</td>\n",
       "      <td>0</td>\n",
       "    </tr>\n",
       "    <tr>\n",
       "      <th>536</th>\n",
       "      <td>08-Sep-20</td>\n",
       "      <td>Deceased</td>\n",
       "      <td>1104</td>\n",
       "      <td>0</td>\n",
       "      <td>73</td>\n",
       "      <td>1</td>\n",
       "      <td>8</td>\n",
       "      <td>4</td>\n",
       "      <td>1</td>\n",
       "      <td>12</td>\n",
       "      <td>...</td>\n",
       "      <td>67</td>\n",
       "      <td>13</td>\n",
       "      <td>2</td>\n",
       "      <td>87</td>\n",
       "      <td>11</td>\n",
       "      <td>3</td>\n",
       "      <td>71</td>\n",
       "      <td>12</td>\n",
       "      <td>57</td>\n",
       "      <td>0</td>\n",
       "    </tr>\n",
       "  </tbody>\n",
       "</table>\n",
       "<p>6 rows × 41 columns</p>\n",
       "</div>"
      ],
      "text/plain": [
       "          Date     Status     TT  AN     AP   AR    AS    BR   CH    CT  ...  \\\n",
       "531  07-Sep-20  Confirmed  74678  27   8368  180  2785  1369  232  2017  ...   \n",
       "532  07-Sep-20  Recovered  73535  46  10055  124  2250  1845  295   979  ...   \n",
       "533  07-Sep-20   Deceased   1120   0     70    0    10     7    3    15  ...   \n",
       "534  08-Sep-20  Confirmed  89852  33  10601  221  2578  1667  377  2834  ...   \n",
       "535  08-Sep-20  Recovered  74607  38  11691  127  2166  1944  226   615  ...   \n",
       "536  08-Sep-20   Deceased   1104   0     73    1     8     4    1    12  ...   \n",
       "\n",
       "       PB    RJ  SK    TN    TG   TR    UP   UT    WB  UN  \n",
       "531  2110  1580  29  5776  1802  399  5568  807  3077   0  \n",
       "532  1565  1566  25  5930  2711  303  4993  473  3021   0  \n",
       "533    61    14   0    89     9    5    56    7    58   0  \n",
       "534  1964  1590  19  5684  2392  628  6622  658  3091   0  \n",
       "535  2307  1445  17  6599  2346  294  5439  427  2996   0  \n",
       "536    67    13   2    87    11    3    71   12    57   0  \n",
       "\n",
       "[6 rows x 41 columns]"
      ]
     },
     "execution_count": 3,
     "metadata": {},
     "output_type": "execute_result"
    }
   ],
   "source": [
    "#hide\n",
    "df.tail(6)"
   ]
  },
  {
   "cell_type": "code",
   "execution_count": 4,
   "metadata": {
    "execution": {
     "iopub.execute_input": "2020-09-08T19:12:25.922654Z",
     "iopub.status.busy": "2020-09-08T19:12:25.922029Z",
     "iopub.status.idle": "2020-09-08T19:12:25.924800Z",
     "shell.execute_reply": "2020-09-08T19:12:25.925379Z"
    },
    "papermill": {
     "duration": 0.022438,
     "end_time": "2020-09-08T19:12:25.925635",
     "exception": false,
     "start_time": "2020-09-08T19:12:25.903197",
     "status": "completed"
    },
    "tags": []
   },
   "outputs": [
    {
     "data": {
      "text/plain": [
       "('08-Sep-20', '07-Sep-20')"
      ]
     },
     "execution_count": 4,
     "metadata": {},
     "output_type": "execute_result"
    }
   ],
   "source": [
    "#hide\n",
    "dt_today = df.iloc[-1][0]\n",
    "dt_yday = df.iloc[-4][0]\n",
    "dt_today, dt_yday"
   ]
  },
  {
   "cell_type": "code",
   "execution_count": 5,
   "metadata": {
    "execution": {
     "iopub.execute_input": "2020-09-08T19:12:25.957195Z",
     "iopub.status.busy": "2020-09-08T19:12:25.956433Z",
     "iopub.status.idle": "2020-09-08T19:12:25.963632Z",
     "shell.execute_reply": "2020-09-08T19:12:25.963135Z"
    },
    "papermill": {
     "duration": 0.025805,
     "end_time": "2020-09-08T19:12:25.963745",
     "exception": false,
     "start_time": "2020-09-08T19:12:25.937940",
     "status": "completed"
    },
    "tags": []
   },
   "outputs": [],
   "source": [
    "#hide\n",
    "df_today = df.groupby('Status').sum()\n",
    "df_yday = df.iloc[:-3][:].groupby('Status').sum()"
   ]
  },
  {
   "cell_type": "code",
   "execution_count": 6,
   "metadata": {
    "execution": {
     "iopub.execute_input": "2020-09-08T19:12:26.003198Z",
     "iopub.status.busy": "2020-09-08T19:12:26.002605Z",
     "iopub.status.idle": "2020-09-08T19:12:26.006887Z",
     "shell.execute_reply": "2020-09-08T19:12:26.006383Z"
    },
    "papermill": {
     "duration": 0.03105,
     "end_time": "2020-09-08T19:12:26.006989",
     "exception": false,
     "start_time": "2020-09-08T19:12:25.975939",
     "status": "completed"
    },
    "tags": []
   },
   "outputs": [
    {
     "data": {
      "text/html": [
       "<div>\n",
       "<style scoped>\n",
       "    .dataframe tbody tr th:only-of-type {\n",
       "        vertical-align: middle;\n",
       "    }\n",
       "\n",
       "    .dataframe tbody tr th {\n",
       "        vertical-align: top;\n",
       "    }\n",
       "\n",
       "    .dataframe thead th {\n",
       "        text-align: right;\n",
       "    }\n",
       "</style>\n",
       "<table border=\"1\" class=\"dataframe\">\n",
       "  <thead>\n",
       "    <tr style=\"text-align: right;\">\n",
       "      <th></th>\n",
       "      <th>TT</th>\n",
       "      <th>AN</th>\n",
       "      <th>AP</th>\n",
       "      <th>AR</th>\n",
       "      <th>AS</th>\n",
       "      <th>BR</th>\n",
       "      <th>CH</th>\n",
       "      <th>CT</th>\n",
       "      <th>DN</th>\n",
       "      <th>DD</th>\n",
       "      <th>...</th>\n",
       "      <th>PB</th>\n",
       "      <th>RJ</th>\n",
       "      <th>SK</th>\n",
       "      <th>TN</th>\n",
       "      <th>TG</th>\n",
       "      <th>TR</th>\n",
       "      <th>UP</th>\n",
       "      <th>UT</th>\n",
       "      <th>WB</th>\n",
       "      <th>UN</th>\n",
       "    </tr>\n",
       "    <tr>\n",
       "      <th>Status</th>\n",
       "      <th></th>\n",
       "      <th></th>\n",
       "      <th></th>\n",
       "      <th></th>\n",
       "      <th></th>\n",
       "      <th></th>\n",
       "      <th></th>\n",
       "      <th></th>\n",
       "      <th></th>\n",
       "      <th></th>\n",
       "      <th></th>\n",
       "      <th></th>\n",
       "      <th></th>\n",
       "      <th></th>\n",
       "      <th></th>\n",
       "      <th></th>\n",
       "      <th></th>\n",
       "      <th></th>\n",
       "      <th></th>\n",
       "      <th></th>\n",
       "      <th></th>\n",
       "    </tr>\n",
       "  </thead>\n",
       "  <tbody>\n",
       "    <tr>\n",
       "      <th>Confirmed</th>\n",
       "      <td>4366464</td>\n",
       "      <td>3388</td>\n",
       "      <td>517094</td>\n",
       "      <td>5401</td>\n",
       "      <td>130721</td>\n",
       "      <td>150694</td>\n",
       "      <td>6372</td>\n",
       "      <td>50114</td>\n",
       "      <td>2615</td>\n",
       "      <td>0</td>\n",
       "      <td>...</td>\n",
       "      <td>67547</td>\n",
       "      <td>94126</td>\n",
       "      <td>1971</td>\n",
       "      <td>474940</td>\n",
       "      <td>144653</td>\n",
       "      <td>16154</td>\n",
       "      <td>278473</td>\n",
       "      <td>26094</td>\n",
       "      <td>186956</td>\n",
       "      <td>0</td>\n",
       "    </tr>\n",
       "    <tr>\n",
       "      <th>Deceased</th>\n",
       "      <td>73326</td>\n",
       "      <td>50</td>\n",
       "      <td>4560</td>\n",
       "      <td>9</td>\n",
       "      <td>382</td>\n",
       "      <td>765</td>\n",
       "      <td>75</td>\n",
       "      <td>407</td>\n",
       "      <td>2</td>\n",
       "      <td>0</td>\n",
       "      <td>...</td>\n",
       "      <td>1990</td>\n",
       "      <td>1164</td>\n",
       "      <td>7</td>\n",
       "      <td>8015</td>\n",
       "      <td>906</td>\n",
       "      <td>152</td>\n",
       "      <td>4047</td>\n",
       "      <td>360</td>\n",
       "      <td>3677</td>\n",
       "      <td>0</td>\n",
       "    </tr>\n",
       "    <tr>\n",
       "      <th>Recovered</th>\n",
       "      <td>3395432</td>\n",
       "      <td>3026</td>\n",
       "      <td>415765</td>\n",
       "      <td>3723</td>\n",
       "      <td>101240</td>\n",
       "      <td>134089</td>\n",
       "      <td>3960</td>\n",
       "      <td>22792</td>\n",
       "      <td>2309</td>\n",
       "      <td>0</td>\n",
       "      <td>...</td>\n",
       "      <td>49327</td>\n",
       "      <td>77872</td>\n",
       "      <td>1414</td>\n",
       "      <td>416715</td>\n",
       "      <td>112587</td>\n",
       "      <td>9342</td>\n",
       "      <td>211170</td>\n",
       "      <td>17473</td>\n",
       "      <td>160025</td>\n",
       "      <td>0</td>\n",
       "    </tr>\n",
       "  </tbody>\n",
       "</table>\n",
       "<p>3 rows × 39 columns</p>\n",
       "</div>"
      ],
      "text/plain": [
       "                TT    AN      AP    AR      AS      BR    CH     CT    DN  DD  \\\n",
       "Status                                                                          \n",
       "Confirmed  4366464  3388  517094  5401  130721  150694  6372  50114  2615   0   \n",
       "Deceased     73326    50    4560     9     382     765    75    407     2   0   \n",
       "Recovered  3395432  3026  415765  3723  101240  134089  3960  22792  2309   0   \n",
       "\n",
       "           ...     PB     RJ    SK      TN      TG     TR      UP     UT  \\\n",
       "Status     ...                                                             \n",
       "Confirmed  ...  67547  94126  1971  474940  144653  16154  278473  26094   \n",
       "Deceased   ...   1990   1164     7    8015     906    152    4047    360   \n",
       "Recovered  ...  49327  77872  1414  416715  112587   9342  211170  17473   \n",
       "\n",
       "               WB  UN  \n",
       "Status                 \n",
       "Confirmed  186956   0  \n",
       "Deceased     3677   0  \n",
       "Recovered  160025   0  \n",
       "\n",
       "[3 rows x 39 columns]"
      ]
     },
     "execution_count": 6,
     "metadata": {},
     "output_type": "execute_result"
    }
   ],
   "source": [
    "#hide\n",
    "df_today"
   ]
  },
  {
   "cell_type": "code",
   "execution_count": 7,
   "metadata": {
    "execution": {
     "iopub.execute_input": "2020-09-08T19:12:26.045997Z",
     "iopub.status.busy": "2020-09-08T19:12:26.045438Z",
     "iopub.status.idle": "2020-09-08T19:12:26.048734Z",
     "shell.execute_reply": "2020-09-08T19:12:26.048281Z"
    },
    "papermill": {
     "duration": 0.030234,
     "end_time": "2020-09-08T19:12:26.048836",
     "exception": false,
     "start_time": "2020-09-08T19:12:26.018602",
     "status": "completed"
    },
    "tags": []
   },
   "outputs": [
    {
     "data": {
      "text/html": [
       "<div>\n",
       "<style scoped>\n",
       "    .dataframe tbody tr th:only-of-type {\n",
       "        vertical-align: middle;\n",
       "    }\n",
       "\n",
       "    .dataframe tbody tr th {\n",
       "        vertical-align: top;\n",
       "    }\n",
       "\n",
       "    .dataframe thead th {\n",
       "        text-align: right;\n",
       "    }\n",
       "</style>\n",
       "<table border=\"1\" class=\"dataframe\">\n",
       "  <thead>\n",
       "    <tr style=\"text-align: right;\">\n",
       "      <th></th>\n",
       "      <th>TT</th>\n",
       "      <th>AN</th>\n",
       "      <th>AP</th>\n",
       "      <th>AR</th>\n",
       "      <th>AS</th>\n",
       "      <th>BR</th>\n",
       "      <th>CH</th>\n",
       "      <th>CT</th>\n",
       "      <th>DN</th>\n",
       "      <th>DD</th>\n",
       "      <th>...</th>\n",
       "      <th>PB</th>\n",
       "      <th>RJ</th>\n",
       "      <th>SK</th>\n",
       "      <th>TN</th>\n",
       "      <th>TG</th>\n",
       "      <th>TR</th>\n",
       "      <th>UP</th>\n",
       "      <th>UT</th>\n",
       "      <th>WB</th>\n",
       "      <th>UN</th>\n",
       "    </tr>\n",
       "    <tr>\n",
       "      <th>Status</th>\n",
       "      <th></th>\n",
       "      <th></th>\n",
       "      <th></th>\n",
       "      <th></th>\n",
       "      <th></th>\n",
       "      <th></th>\n",
       "      <th></th>\n",
       "      <th></th>\n",
       "      <th></th>\n",
       "      <th></th>\n",
       "      <th></th>\n",
       "      <th></th>\n",
       "      <th></th>\n",
       "      <th></th>\n",
       "      <th></th>\n",
       "      <th></th>\n",
       "      <th></th>\n",
       "      <th></th>\n",
       "      <th></th>\n",
       "      <th></th>\n",
       "      <th></th>\n",
       "    </tr>\n",
       "  </thead>\n",
       "  <tbody>\n",
       "    <tr>\n",
       "      <th>Confirmed</th>\n",
       "      <td>4276612</td>\n",
       "      <td>3355</td>\n",
       "      <td>506493</td>\n",
       "      <td>5180</td>\n",
       "      <td>128143</td>\n",
       "      <td>149027</td>\n",
       "      <td>5995</td>\n",
       "      <td>47280</td>\n",
       "      <td>2591</td>\n",
       "      <td>0</td>\n",
       "      <td>...</td>\n",
       "      <td>65583</td>\n",
       "      <td>92536</td>\n",
       "      <td>1952</td>\n",
       "      <td>469256</td>\n",
       "      <td>142261</td>\n",
       "      <td>15526</td>\n",
       "      <td>271851</td>\n",
       "      <td>25436</td>\n",
       "      <td>183865</td>\n",
       "      <td>0</td>\n",
       "    </tr>\n",
       "    <tr>\n",
       "      <th>Deceased</th>\n",
       "      <td>72222</td>\n",
       "      <td>50</td>\n",
       "      <td>4487</td>\n",
       "      <td>8</td>\n",
       "      <td>374</td>\n",
       "      <td>761</td>\n",
       "      <td>74</td>\n",
       "      <td>395</td>\n",
       "      <td>2</td>\n",
       "      <td>0</td>\n",
       "      <td>...</td>\n",
       "      <td>1923</td>\n",
       "      <td>1151</td>\n",
       "      <td>5</td>\n",
       "      <td>7928</td>\n",
       "      <td>895</td>\n",
       "      <td>149</td>\n",
       "      <td>3976</td>\n",
       "      <td>348</td>\n",
       "      <td>3620</td>\n",
       "      <td>0</td>\n",
       "    </tr>\n",
       "    <tr>\n",
       "      <th>Recovered</th>\n",
       "      <td>3320825</td>\n",
       "      <td>2988</td>\n",
       "      <td>404074</td>\n",
       "      <td>3596</td>\n",
       "      <td>99074</td>\n",
       "      <td>132145</td>\n",
       "      <td>3734</td>\n",
       "      <td>22177</td>\n",
       "      <td>2278</td>\n",
       "      <td>0</td>\n",
       "      <td>...</td>\n",
       "      <td>47020</td>\n",
       "      <td>76427</td>\n",
       "      <td>1397</td>\n",
       "      <td>410116</td>\n",
       "      <td>110241</td>\n",
       "      <td>9048</td>\n",
       "      <td>205731</td>\n",
       "      <td>17046</td>\n",
       "      <td>157029</td>\n",
       "      <td>0</td>\n",
       "    </tr>\n",
       "  </tbody>\n",
       "</table>\n",
       "<p>3 rows × 39 columns</p>\n",
       "</div>"
      ],
      "text/plain": [
       "                TT    AN      AP    AR      AS      BR    CH     CT    DN  DD  \\\n",
       "Status                                                                          \n",
       "Confirmed  4276612  3355  506493  5180  128143  149027  5995  47280  2591   0   \n",
       "Deceased     72222    50    4487     8     374     761    74    395     2   0   \n",
       "Recovered  3320825  2988  404074  3596   99074  132145  3734  22177  2278   0   \n",
       "\n",
       "           ...     PB     RJ    SK      TN      TG     TR      UP     UT  \\\n",
       "Status     ...                                                             \n",
       "Confirmed  ...  65583  92536  1952  469256  142261  15526  271851  25436   \n",
       "Deceased   ...   1923   1151     5    7928     895    149    3976    348   \n",
       "Recovered  ...  47020  76427  1397  410116  110241   9048  205731  17046   \n",
       "\n",
       "               WB  UN  \n",
       "Status                 \n",
       "Confirmed  183865   0  \n",
       "Deceased     3620   0  \n",
       "Recovered  157029   0  \n",
       "\n",
       "[3 rows x 39 columns]"
      ]
     },
     "execution_count": 7,
     "metadata": {},
     "output_type": "execute_result"
    }
   ],
   "source": [
    "#hide\n",
    "df_yday.head()"
   ]
  },
  {
   "cell_type": "code",
   "execution_count": 8,
   "metadata": {
    "execution": {
     "iopub.execute_input": "2020-09-08T19:12:26.087003Z",
     "iopub.status.busy": "2020-09-08T19:12:26.086378Z",
     "iopub.status.idle": "2020-09-08T19:12:26.089515Z",
     "shell.execute_reply": "2020-09-08T19:12:26.090033Z"
    },
    "papermill": {
     "duration": 0.028243,
     "end_time": "2020-09-08T19:12:26.090150",
     "exception": false,
     "start_time": "2020-09-08T19:12:26.061907",
     "status": "completed"
    },
    "tags": []
   },
   "outputs": [
    {
     "data": {
      "text/plain": [
       "{'updated': '08-Sep-20',\n",
       " 'since': '07-Sep-20',\n",
       " 'Cases': 4366464,\n",
       " 'Deaths': 73326,\n",
       " 'Recovered': 3395432,\n",
       " 'PCases': 4276612,\n",
       " 'PDeaths': 72222,\n",
       " 'PRecovered': 3320825,\n",
       " 'Cases (+)': 89852,\n",
       " 'Deaths (+)': 1104,\n",
       " 'Recovered (+)': 74607}"
      ]
     },
     "execution_count": 8,
     "metadata": {},
     "output_type": "execute_result"
    }
   ],
   "source": [
    "#hide\n",
    "summary = {\n",
    "    'updated' : dt_today,\n",
    "    'since' : dt_yday,\n",
    "    'Cases' : df_today['TT'][0],\n",
    "    'Deaths' : df_today['TT'][1],\n",
    "    'Recovered' : df_today['TT'][2],\n",
    "    'PCases' : df_yday['TT'][0],\n",
    "    'PDeaths' : df_yday['TT'][1],\n",
    "    'PRecovered': df_yday['TT'][2],\n",
    "    'Cases (+)' : df_today['TT'][0] - df_yday['TT'][0],\n",
    "    'Deaths (+)' : df_today['TT'][1] - df_yday['TT'][1],\n",
    "    'Recovered (+)': df_today['TT'][2] - df_yday['TT'][2]\n",
    "}\n",
    "\n",
    "summary"
   ]
  },
  {
   "cell_type": "code",
   "execution_count": 9,
   "metadata": {
    "execution": {
     "iopub.execute_input": "2020-09-08T19:12:26.121298Z",
     "iopub.status.busy": "2020-09-08T19:12:26.120667Z",
     "iopub.status.idle": "2020-09-08T19:12:26.123460Z",
     "shell.execute_reply": "2020-09-08T19:12:26.123026Z"
    },
    "papermill": {
     "duration": 0.01973,
     "end_time": "2020-09-08T19:12:26.123561",
     "exception": false,
     "start_time": "2020-09-08T19:12:26.103831",
     "status": "completed"
    },
    "tags": []
   },
   "outputs": [],
   "source": [
    "#hide\n",
    "overview = '''\n",
    "<!-- #######  HTML!! #########-->\n",
    "<h1 style=\"color: #5e9ca0; text-align: center;\">India</h1>\n",
    "<p style=\"text-align: center;\">Last update: <strong>{update}</strong></p>\n",
    "<p style=\"text-align: center;\">Confirmed cases:</p>\n",
    "<p style=\"text-align: center;font-size:24px;\">{cases} (<span style=\"color: #ff0000;\">+{new}</span>)</p>\n",
    "<p style=\"text-align: center;\">Confirmed deaths:</p>\n",
    "<p style=\"text-align: center;font-size:24px;\">{deaths} (<span style=\"color: #ff0000;\">+{dnew}</span>)</p>\n",
    "<p style=\"text-align: center;\">Recovered cases:</p>\n",
    "<p style=\"text-align: center;font-size:24px;\">{recovered} (<span style=\"color: #00ff00;\">+{rnew}</span>)</p>\n",
    "'''"
   ]
  },
  {
   "cell_type": "code",
   "execution_count": 10,
   "metadata": {
    "execution": {
     "iopub.execute_input": "2020-09-08T19:12:26.159044Z",
     "iopub.status.busy": "2020-09-08T19:12:26.158472Z",
     "iopub.status.idle": "2020-09-08T19:12:26.162825Z",
     "shell.execute_reply": "2020-09-08T19:12:26.162043Z"
    },
    "papermill": {
     "duration": 0.024641,
     "end_time": "2020-09-08T19:12:26.163069",
     "exception": false,
     "start_time": "2020-09-08T19:12:26.138428",
     "status": "completed"
    },
    "tags": []
   },
   "outputs": [
    {
     "data": {
      "text/html": [
       "\n",
       "<!-- #######  HTML!! #########-->\n",
       "<h1 style=\"color: #5e9ca0; text-align: center;\">India</h1>\n",
       "<p style=\"text-align: center;\">Last update: <strong>08-Sep-20</strong></p>\n",
       "<p style=\"text-align: center;\">Confirmed cases:</p>\n",
       "<p style=\"text-align: center;font-size:24px;\">4366464 (<span style=\"color: #ff0000;\">+89852</span>)</p>\n",
       "<p style=\"text-align: center;\">Confirmed deaths:</p>\n",
       "<p style=\"text-align: center;font-size:24px;\">73326 (<span style=\"color: #ff0000;\">+1104</span>)</p>\n",
       "<p style=\"text-align: center;\">Recovered cases:</p>\n",
       "<p style=\"text-align: center;font-size:24px;\">3395432 (<span style=\"color: #00ff00;\">+74607</span>)</p>\n"
      ],
      "text/plain": [
       "<IPython.core.display.HTML object>"
      ]
     },
     "metadata": {},
     "output_type": "display_data"
    }
   ],
   "source": [
    "#hide_input\n",
    "# Fill the above HTML with the information from the summary dictionary\n",
    "\n",
    "update = summary['updated']\n",
    "cases = summary['Cases']\n",
    "new = summary['Cases (+)']\n",
    "deaths = summary['Deaths']\n",
    "dnew = summary['Deaths (+)']\n",
    "recovered = summary['Recovered']\n",
    "rnew = summary['Recovered (+)']\n",
    "\n",
    "html = HTML(overview.format(update=update, cases=cases,new=new,deaths=deaths,dnew=dnew, recovered=recovered, rnew=rnew))\n",
    "\n",
    "display(html)"
   ]
  },
  {
   "cell_type": "code",
   "execution_count": 11,
   "metadata": {
    "execution": {
     "iopub.execute_input": "2020-09-08T19:12:26.202215Z",
     "iopub.status.busy": "2020-09-08T19:12:26.201508Z",
     "iopub.status.idle": "2020-09-08T19:12:26.211111Z",
     "shell.execute_reply": "2020-09-08T19:12:26.210526Z"
    },
    "papermill": {
     "duration": 0.030062,
     "end_time": "2020-09-08T19:12:26.211225",
     "exception": false,
     "start_time": "2020-09-08T19:12:26.181163",
     "status": "completed"
    },
    "tags": []
   },
   "outputs": [],
   "source": [
    "#hide\n",
    "df_cases = df[df['Status'] == 'Confirmed'].copy()\n",
    "df_cases.drop(columns = ['Status'], inplace=True)\n",
    "df_deaths = df[df['Status'] == 'Deceased'].copy()\n",
    "df_deaths.drop(columns = ['Status'], inplace=True)\n",
    "df_recovered = df[df['Status'] == 'Recovered'].copy()\n",
    "df_recovered.drop(columns = ['Status'], inplace=True)"
   ]
  },
  {
   "cell_type": "markdown",
   "metadata": {
    "papermill": {
     "duration": 0.015536,
     "end_time": "2020-09-08T19:12:26.242052",
     "exception": false,
     "start_time": "2020-09-08T19:12:26.226516",
     "status": "completed"
    },
    "tags": []
   },
   "source": [
    "Plot for India:"
   ]
  },
  {
   "cell_type": "code",
   "execution_count": 12,
   "metadata": {
    "execution": {
     "iopub.execute_input": "2020-09-08T19:12:26.274477Z",
     "iopub.status.busy": "2020-09-08T19:12:26.273810Z",
     "iopub.status.idle": "2020-09-08T19:12:26.545495Z",
     "shell.execute_reply": "2020-09-08T19:12:26.546044Z"
    },
    "papermill": {
     "duration": 0.289935,
     "end_time": "2020-09-08T19:12:26.546197",
     "exception": false,
     "start_time": "2020-09-08T19:12:26.256262",
     "status": "completed"
    },
    "tags": []
   },
   "outputs": [
    {
     "data": {
      "image/png": "[encoded data removed]",
      "text/plain": [
       "<Figure size 1296x432 with 1 Axes>"
      ]
     },
     "metadata": {
      "needs_background": "light"
     },
     "output_type": "display_data"
    }
   ],
   "source": [
    "#hide_input\n",
    "plt.figure(figsize = (18,6))\n",
    "plt.plot(df_cases['Date'], df_cases['TT'],'.-', alpha=0.7, color='b', label='Confirmed cases')\n",
    "plt.plot(df_recovered['Date'], df_recovered['TT'],'.-', alpha=0.7, color='g', label='Recovered')\n",
    "plt.plot(df_deaths['Date'], df_deaths['TT'],'.-', alpha=0.7, color='r', label='Deceased')\n",
    "plt.legend()\n",
    "plt.title(\"Cases per day in India\")\n",
    "plt.xticks(ticks=' ')\n",
    "plt.xlabel(f'{df_cases.iloc[0][0]} to {df_cases.iloc[-1][0]}')\n",
    "plt.ylabel('No. of cases');"
   ]
  },
  {
   "cell_type": "markdown",
   "metadata": {
    "papermill": {
     "duration": 0.016015,
     "end_time": "2020-09-08T19:12:26.577874",
     "exception": false,
     "start_time": "2020-09-08T19:12:26.561859",
     "status": "completed"
    },
    "tags": []
   },
   "source": [
    "Plots for the states with highest number of cases:"
   ]
  },
  {
   "cell_type": "code",
   "execution_count": 13,
   "metadata": {
    "execution": {
     "iopub.execute_input": "2020-09-08T19:12:26.618131Z",
     "iopub.status.busy": "2020-09-08T19:12:26.617499Z",
     "iopub.status.idle": "2020-09-08T19:12:27.276401Z",
     "shell.execute_reply": "2020-09-08T19:12:27.276831Z"
    },
    "papermill": {
     "duration": 0.681613,
     "end_time": "2020-09-08T19:12:27.276982",
     "exception": false,
     "start_time": "2020-09-08T19:12:26.595369",
     "status": "completed"
    },
    "tags": []
   },
   "outputs": [
    {
     "data": {
      "image/png": "[encoded data removed]",
      "text/plain": [
       "<Figure size 1512x432 with 3 Axes>"
      ]
     },
     "metadata": {
      "needs_background": "light"
     },
     "output_type": "display_data"
    }
   ],
   "source": [
    "#hide_input\n",
    "top_3 = sorted(df_cases.sum().values[1:], reverse=True)[1:4]\n",
    "top3_states=[]\n",
    "for i in top_3:\n",
    "    top3_states.append(df_cases.sum()[df_cases.sum() == i].index)\n",
    "\n",
    "\n",
    "fig, ax = plt.subplots(1,3,figsize = (21,6))\n",
    "for i in range(3):\n",
    "    state = top3_states[i].values[0]\n",
    "    ax[i].plot(df_cases['Date'], df_cases[state],'.-', color='b', alpha=0.7)\n",
    "    ax[i].plot(df_deaths['Date'], df_deaths[state],'.-', color='r', alpha=0.7)\n",
    "    ax[i].plot(df_recovered['Date'], df_recovered[state],'.-', color='g', alpha=0.7)\n",
    "    \n",
    "    ax[i].set_title(f\"Cases in {state}\")\n",
    "    ax[i].set_xticks(ticks=' ')\n",
    "    ax[i].set_xlabel(f'{df_cases.iloc[0][0]} to {df_cases.iloc[-1][0]}')\n",
    "    ax[i].set_ylabel('No. of cases');"
   ]
  },
  {
   "cell_type": "code",
   "execution_count": null,
   "metadata": {
    "papermill": {
     "duration": 0.043035,
     "end_time": "2020-09-08T19:12:27.691764",
     "exception": false,
     "start_time": "2020-09-08T19:12:27.648729",
     "status": "completed"
    },
    "tags": []
   },
   "outputs": [],
   "source": []
  },
  {
   "cell_type": "code",
   "execution_count": null,
   "metadata": {
    "papermill": {
     "duration": 0.026446,
     "end_time": "2020-09-08T19:12:27.740213",
     "exception": false,
     "start_time": "2020-09-08T19:12:27.713767",
     "status": "completed"
    },
    "tags": []
   },
   "outputs": [],
   "source": []
  },
  {
   "cell_type": "code",
   "execution_count": null,
   "metadata": {
    "papermill": {
     "duration": 0.047453,
     "end_time": "2020-09-08T19:12:27.833130",
     "exception": false,
     "start_time": "2020-09-08T19:12:27.785677",
     "status": "completed"
    },
    "tags": []
   },
   "outputs": [],
   "source": []
  }
 ],
 "metadata": {
  "kernelspec": {
   "display_name": "Python 3",
   "language": "python",
   "name": "python3"
  },
  "language_info": {
   "codemirror_mode": {
    "name": "ipython",
    "version": 3
   },
   "file_extension": ".py",
   "mimetype": "text/x-python",
   "name": "python",
   "nbconvert_exporter": "python",
   "pygments_lexer": "ipython3",
   "version": "3.6.12"
  },
  "papermill": {
   "duration": 4.262766,
   "end_time": "2020-09-08T19:12:28.201849",
   "environment_variables": {},
   "exception": null,
   "input_path": "2020-08-09-DailyUpdate.ipynb",
   "output_path": "2020-08-09-DailyUpdate.ipynb",
   "parameters": {},
   "start_time": "2020-09-08T19:12:23.939083",
   "version": "2.1.2"
  }
 },
 "nbformat": 4,
 "nbformat_minor": 4
}