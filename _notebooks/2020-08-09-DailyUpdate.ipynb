{
 "cells": [
  {
   "cell_type": "markdown",
   "metadata": {
    "papermill": {
     "duration": 0.018962,
     "end_time": "2020-10-12T19:13:45.445999",
     "exception": false,
     "start_time": "2020-10-12T19:13:45.427037",
     "status": "completed"
    },
    "tags": []
   },
   "source": [
    "# COVID-19 India Daily updates\n",
    "> Tracking coronavirus total cases, deaths and new cases in India on a daily basis\n",
    "\n",
    "- author: Vaibhav Mahapatra"
   ]
  },
  {
   "cell_type": "code",
   "execution_count": 1,
   "metadata": {
    "execution": {
     "iopub.execute_input": "2020-10-12T19:13:45.477645Z",
     "iopub.status.busy": "2020-10-12T19:13:45.477010Z",
     "iopub.status.idle": "2020-10-12T19:13:46.084353Z",
     "shell.execute_reply": "2020-10-12T19:13:46.083789Z"
    },
    "papermill": {
     "duration": 0.625629,
     "end_time": "2020-10-12T19:13:46.084511",
     "exception": false,
     "start_time": "2020-10-12T19:13:45.458882",
     "status": "completed"
    },
    "tags": []
   },
   "outputs": [],
   "source": [
    "#hide\n",
    "\n",
    "## Import essential packages below\n",
    "\n",
    "import pandas as pd\n",
    "import numpy as np\n",
    "import requests\n",
    "import json\n",
    "import matplotlib.pyplot as plt\n",
    "import matplotlib.dates as mdates\n",
    "import matplotlib as mpl\n",
    "from IPython.core.display import display,HTML\n",
    "%matplotlib inline"
   ]
  },
  {
   "cell_type": "code",
   "execution_count": 2,
   "metadata": {
    "execution": {
     "iopub.execute_input": "2020-10-12T19:13:46.118472Z",
     "iopub.status.busy": "2020-10-12T19:13:46.117845Z",
     "iopub.status.idle": "2020-10-12T19:13:46.329240Z",
     "shell.execute_reply": "2020-10-12T19:13:46.329718Z"
    },
    "papermill": {
     "duration": 0.232106,
     "end_time": "2020-10-12T19:13:46.329886",
     "exception": false,
     "start_time": "2020-10-12T19:13:46.097780",
     "status": "completed"
    },
    "tags": []
   },
   "outputs": [
    {
     "data": {
      "text/plain": [
       "(636, 41)"
      ]
     },
     "execution_count": 2,
     "metadata": {},
     "output_type": "execute_result"
    }
   ],
   "source": [
    "#hide\n",
    "url = 'https://api.covid19india.org/csv/latest/state_wise_daily.csv'\n",
    "df = pd.read_csv(url)\n",
    "df.shape"
   ]
  },
  {
   "cell_type": "code",
   "execution_count": 3,
   "metadata": {
    "execution": {
     "iopub.execute_input": "2020-10-12T19:13:46.411769Z",
     "iopub.status.busy": "2020-10-12T19:13:46.403837Z",
     "iopub.status.idle": "2020-10-12T19:13:46.422187Z",
     "shell.execute_reply": "2020-10-12T19:13:46.422794Z"
    },
    "papermill": {
     "duration": 0.080443,
     "end_time": "2020-10-12T19:13:46.422971",
     "exception": false,
     "start_time": "2020-10-12T19:13:46.342528",
     "status": "completed"
    },
    "tags": []
   },
   "outputs": [
    {
     "data": {
      "text/html": [
       "<div>\n",
       "<style scoped>\n",
       "    .dataframe tbody tr th:only-of-type {\n",
       "        vertical-align: middle;\n",
       "    }\n",
       "\n",
       "    .dataframe tbody tr th {\n",
       "        vertical-align: top;\n",
       "    }\n",
       "\n",
       "    .dataframe thead th {\n",
       "        text-align: right;\n",
       "    }\n",
       "</style>\n",
       "<table border=\"1\" class=\"dataframe\">\n",
       "  <thead>\n",
       "    <tr style=\"text-align: right;\">\n",
       "      <th></th>\n",
       "      <th>Date</th>\n",
       "      <th>Status</th>\n",
       "      <th>TT</th>\n",
       "      <th>AN</th>\n",
       "      <th>AP</th>\n",
       "      <th>AR</th>\n",
       "      <th>AS</th>\n",
       "      <th>BR</th>\n",
       "      <th>CH</th>\n",
       "      <th>CT</th>\n",
       "      <th>...</th>\n",
       "      <th>PB</th>\n",
       "      <th>RJ</th>\n",
       "      <th>SK</th>\n",
       "      <th>TN</th>\n",
       "      <th>TG</th>\n",
       "      <th>TR</th>\n",
       "      <th>UP</th>\n",
       "      <th>UT</th>\n",
       "      <th>WB</th>\n",
       "      <th>UN</th>\n",
       "    </tr>\n",
       "  </thead>\n",
       "  <tbody>\n",
       "    <tr>\n",
       "      <th>630</th>\n",
       "      <td>10-Oct-20</td>\n",
       "      <td>Confirmed</td>\n",
       "      <td>74418</td>\n",
       "      <td>16</td>\n",
       "      <td>5653</td>\n",
       "      <td>238</td>\n",
       "      <td>971</td>\n",
       "      <td>1140</td>\n",
       "      <td>96</td>\n",
       "      <td>2688</td>\n",
       "      <td>...</td>\n",
       "      <td>858</td>\n",
       "      <td>2123</td>\n",
       "      <td>42</td>\n",
       "      <td>5242</td>\n",
       "      <td>1811</td>\n",
       "      <td>171</td>\n",
       "      <td>3046</td>\n",
       "      <td>462</td>\n",
       "      <td>3591</td>\n",
       "      <td>0</td>\n",
       "    </tr>\n",
       "    <tr>\n",
       "      <th>631</th>\n",
       "      <td>10-Oct-20</td>\n",
       "      <td>Recovered</td>\n",
       "      <td>89022</td>\n",
       "      <td>20</td>\n",
       "      <td>6659</td>\n",
       "      <td>158</td>\n",
       "      <td>1451</td>\n",
       "      <td>1226</td>\n",
       "      <td>157</td>\n",
       "      <td>2719</td>\n",
       "      <td>...</td>\n",
       "      <td>1234</td>\n",
       "      <td>2152</td>\n",
       "      <td>95</td>\n",
       "      <td>5222</td>\n",
       "      <td>2072</td>\n",
       "      <td>327</td>\n",
       "      <td>4063</td>\n",
       "      <td>412</td>\n",
       "      <td>3032</td>\n",
       "      <td>0</td>\n",
       "    </tr>\n",
       "    <tr>\n",
       "      <th>632</th>\n",
       "      <td>10-Oct-20</td>\n",
       "      <td>Deceased</td>\n",
       "      <td>921</td>\n",
       "      <td>0</td>\n",
       "      <td>35</td>\n",
       "      <td>0</td>\n",
       "      <td>9</td>\n",
       "      <td>10</td>\n",
       "      <td>2</td>\n",
       "      <td>39</td>\n",
       "      <td>...</td>\n",
       "      <td>25</td>\n",
       "      <td>15</td>\n",
       "      <td>1</td>\n",
       "      <td>67</td>\n",
       "      <td>9</td>\n",
       "      <td>2</td>\n",
       "      <td>60</td>\n",
       "      <td>18</td>\n",
       "      <td>62</td>\n",
       "      <td>0</td>\n",
       "    </tr>\n",
       "    <tr>\n",
       "      <th>633</th>\n",
       "      <td>11-Oct-20</td>\n",
       "      <td>Confirmed</td>\n",
       "      <td>67789</td>\n",
       "      <td>13</td>\n",
       "      <td>5210</td>\n",
       "      <td>149</td>\n",
       "      <td>396</td>\n",
       "      <td>1302</td>\n",
       "      <td>85</td>\n",
       "      <td>2114</td>\n",
       "      <td>...</td>\n",
       "      <td>656</td>\n",
       "      <td>2144</td>\n",
       "      <td>39</td>\n",
       "      <td>5015</td>\n",
       "      <td>1717</td>\n",
       "      <td>199</td>\n",
       "      <td>3267</td>\n",
       "      <td>526</td>\n",
       "      <td>3612</td>\n",
       "      <td>0</td>\n",
       "    </tr>\n",
       "    <tr>\n",
       "      <th>634</th>\n",
       "      <td>11-Oct-20</td>\n",
       "      <td>Recovered</td>\n",
       "      <td>71564</td>\n",
       "      <td>20</td>\n",
       "      <td>5509</td>\n",
       "      <td>197</td>\n",
       "      <td>1227</td>\n",
       "      <td>1217</td>\n",
       "      <td>125</td>\n",
       "      <td>2117</td>\n",
       "      <td>...</td>\n",
       "      <td>1098</td>\n",
       "      <td>2072</td>\n",
       "      <td>104</td>\n",
       "      <td>5005</td>\n",
       "      <td>2103</td>\n",
       "      <td>285</td>\n",
       "      <td>3417</td>\n",
       "      <td>456</td>\n",
       "      <td>3110</td>\n",
       "      <td>0</td>\n",
       "    </tr>\n",
       "    <tr>\n",
       "      <th>635</th>\n",
       "      <td>11-Oct-20</td>\n",
       "      <td>Deceased</td>\n",
       "      <td>813</td>\n",
       "      <td>0</td>\n",
       "      <td>30</td>\n",
       "      <td>1</td>\n",
       "      <td>5</td>\n",
       "      <td>2</td>\n",
       "      <td>1</td>\n",
       "      <td>18</td>\n",
       "      <td>...</td>\n",
       "      <td>35</td>\n",
       "      <td>14</td>\n",
       "      <td>1</td>\n",
       "      <td>65</td>\n",
       "      <td>5</td>\n",
       "      <td>2</td>\n",
       "      <td>41</td>\n",
       "      <td>13</td>\n",
       "      <td>59</td>\n",
       "      <td>0</td>\n",
       "    </tr>\n",
       "  </tbody>\n",
       "</table>\n",
       "<p>6 rows × 41 columns</p>\n",
       "</div>"
      ],
      "text/plain": [
       "          Date     Status     TT  AN    AP   AR    AS    BR   CH    CT  ...  \\\n",
       "630  10-Oct-20  Confirmed  74418  16  5653  238   971  1140   96  2688  ...   \n",
       "631  10-Oct-20  Recovered  89022  20  6659  158  1451  1226  157  2719  ...   \n",
       "632  10-Oct-20   Deceased    921   0    35    0     9    10    2    39  ...   \n",
       "633  11-Oct-20  Confirmed  67789  13  5210  149   396  1302   85  2114  ...   \n",
       "634  11-Oct-20  Recovered  71564  20  5509  197  1227  1217  125  2117  ...   \n",
       "635  11-Oct-20   Deceased    813   0    30    1     5     2    1    18  ...   \n",
       "\n",
       "       PB    RJ   SK    TN    TG   TR    UP   UT    WB  UN  \n",
       "630   858  2123   42  5242  1811  171  3046  462  3591   0  \n",
       "631  1234  2152   95  5222  2072  327  4063  412  3032   0  \n",
       "632    25    15    1    67     9    2    60   18    62   0  \n",
       "633   656  2144   39  5015  1717  199  3267  526  3612   0  \n",
       "634  1098  2072  104  5005  2103  285  3417  456  3110   0  \n",
       "635    35    14    1    65     5    2    41   13    59   0  \n",
       "\n",
       "[6 rows x 41 columns]"
      ]
     },
     "execution_count": 3,
     "metadata": {},
     "output_type": "execute_result"
    }
   ],
   "source": [
    "#hide\n",
    "df.tail(6)"
   ]
  },
  {
   "cell_type": "code",
   "execution_count": 4,
   "metadata": {
    "execution": {
     "iopub.execute_input": "2020-10-12T19:13:46.458907Z",
     "iopub.status.busy": "2020-10-12T19:13:46.457760Z",
     "iopub.status.idle": "2020-10-12T19:13:46.461174Z",
     "shell.execute_reply": "2020-10-12T19:13:46.461657Z"
    },
    "papermill": {
     "duration": 0.024985,
     "end_time": "2020-10-12T19:13:46.461813",
     "exception": false,
     "start_time": "2020-10-12T19:13:46.436828",
     "status": "completed"
    },
    "tags": []
   },
   "outputs": [
    {
     "data": {
      "text/plain": [
       "('11-Oct-20', '10-Oct-20')"
      ]
     },
     "execution_count": 4,
     "metadata": {},
     "output_type": "execute_result"
    }
   ],
   "source": [
    "#hide\n",
    "dt_today = df.iloc[-1][0]\n",
    "dt_yday = df.iloc[-4][0]\n",
    "dt_today, dt_yday"
   ]
  },
  {
   "cell_type": "code",
   "execution_count": 5,
   "metadata": {
    "execution": {
     "iopub.execute_input": "2020-10-12T19:13:46.496257Z",
     "iopub.status.busy": "2020-10-12T19:13:46.495596Z",
     "iopub.status.idle": "2020-10-12T19:13:46.502014Z",
     "shell.execute_reply": "2020-10-12T19:13:46.501494Z"
    },
    "papermill": {
     "duration": 0.02669,
     "end_time": "2020-10-12T19:13:46.502147",
     "exception": false,
     "start_time": "2020-10-12T19:13:46.475457",
     "status": "completed"
    },
    "tags": []
   },
   "outputs": [],
   "source": [
    "#hide\n",
    "df_today = df.groupby('Status').sum()\n",
    "df_yday = df.iloc[:-3][:].groupby('Status').sum()"
   ]
  },
  {
   "cell_type": "code",
   "execution_count": 6,
   "metadata": {
    "execution": {
     "iopub.execute_input": "2020-10-12T19:13:46.539303Z",
     "iopub.status.busy": "2020-10-12T19:13:46.538233Z",
     "iopub.status.idle": "2020-10-12T19:13:46.549770Z",
     "shell.execute_reply": "2020-10-12T19:13:46.550232Z"
    },
    "papermill": {
     "duration": 0.033573,
     "end_time": "2020-10-12T19:13:46.550390",
     "exception": false,
     "start_time": "2020-10-12T19:13:46.516817",
     "status": "completed"
    },
    "tags": []
   },
   "outputs": [
    {
     "data": {
      "text/html": [
       "<div>\n",
       "<style scoped>\n",
       "    .dataframe tbody tr th:only-of-type {\n",
       "        vertical-align: middle;\n",
       "    }\n",
       "\n",
       "    .dataframe tbody tr th {\n",
       "        vertical-align: top;\n",
       "    }\n",
       "\n",
       "    .dataframe thead th {\n",
       "        text-align: right;\n",
       "    }\n",
       "</style>\n",
       "<table border=\"1\" class=\"dataframe\">\n",
       "  <thead>\n",
       "    <tr style=\"text-align: right;\">\n",
       "      <th></th>\n",
       "      <th>TT</th>\n",
       "      <th>AN</th>\n",
       "      <th>AP</th>\n",
       "      <th>AR</th>\n",
       "      <th>AS</th>\n",
       "      <th>BR</th>\n",
       "      <th>CH</th>\n",
       "      <th>CT</th>\n",
       "      <th>DN</th>\n",
       "      <th>DD</th>\n",
       "      <th>...</th>\n",
       "      <th>PB</th>\n",
       "      <th>RJ</th>\n",
       "      <th>SK</th>\n",
       "      <th>TN</th>\n",
       "      <th>TG</th>\n",
       "      <th>TR</th>\n",
       "      <th>UP</th>\n",
       "      <th>UT</th>\n",
       "      <th>WB</th>\n",
       "      <th>UN</th>\n",
       "    </tr>\n",
       "    <tr>\n",
       "      <th>Status</th>\n",
       "      <th></th>\n",
       "      <th></th>\n",
       "      <th></th>\n",
       "      <th></th>\n",
       "      <th></th>\n",
       "      <th></th>\n",
       "      <th></th>\n",
       "      <th></th>\n",
       "      <th></th>\n",
       "      <th></th>\n",
       "      <th></th>\n",
       "      <th></th>\n",
       "      <th></th>\n",
       "      <th></th>\n",
       "      <th></th>\n",
       "      <th></th>\n",
       "      <th></th>\n",
       "      <th></th>\n",
       "      <th></th>\n",
       "      <th></th>\n",
       "      <th></th>\n",
       "    </tr>\n",
       "  </thead>\n",
       "  <tbody>\n",
       "    <tr>\n",
       "      <th>Confirmed</th>\n",
       "      <td>7118668</td>\n",
       "      <td>4001</td>\n",
       "      <td>755727</td>\n",
       "      <td>12147</td>\n",
       "      <td>193681</td>\n",
       "      <td>196268</td>\n",
       "      <td>13166</td>\n",
       "      <td>142372</td>\n",
       "      <td>3160</td>\n",
       "      <td>0</td>\n",
       "      <td>...</td>\n",
       "      <td>123973</td>\n",
       "      <td>159052</td>\n",
       "      <td>3373</td>\n",
       "      <td>656385</td>\n",
       "      <td>211553</td>\n",
       "      <td>28349</td>\n",
       "      <td>436979</td>\n",
       "      <td>55051</td>\n",
       "      <td>294806</td>\n",
       "      <td>0</td>\n",
       "    </tr>\n",
       "    <tr>\n",
       "      <th>Deceased</th>\n",
       "      <td>108597</td>\n",
       "      <td>55</td>\n",
       "      <td>6224</td>\n",
       "      <td>24</td>\n",
       "      <td>820</td>\n",
       "      <td>946</td>\n",
       "      <td>191</td>\n",
       "      <td>1253</td>\n",
       "      <td>2</td>\n",
       "      <td>0</td>\n",
       "      <td>...</td>\n",
       "      <td>3833</td>\n",
       "      <td>1650</td>\n",
       "      <td>56</td>\n",
       "      <td>10252</td>\n",
       "      <td>1222</td>\n",
       "      <td>312</td>\n",
       "      <td>6394</td>\n",
       "      <td>747</td>\n",
       "      <td>5622</td>\n",
       "      <td>0</td>\n",
       "    </tr>\n",
       "    <tr>\n",
       "      <th>Recovered</th>\n",
       "      <td>6146399</td>\n",
       "      <td>3755</td>\n",
       "      <td>703208</td>\n",
       "      <td>9232</td>\n",
       "      <td>164579</td>\n",
       "      <td>184224</td>\n",
       "      <td>11787</td>\n",
       "      <td>113771</td>\n",
       "      <td>3014</td>\n",
       "      <td>0</td>\n",
       "      <td>...</td>\n",
       "      <td>110865</td>\n",
       "      <td>135990</td>\n",
       "      <td>2840</td>\n",
       "      <td>602038</td>\n",
       "      <td>185128</td>\n",
       "      <td>24063</td>\n",
       "      <td>390566</td>\n",
       "      <td>46642</td>\n",
       "      <td>258948</td>\n",
       "      <td>0</td>\n",
       "    </tr>\n",
       "  </tbody>\n",
       "</table>\n",
       "<p>3 rows × 39 columns</p>\n",
       "</div>"
      ],
      "text/plain": [
       "                TT    AN      AP     AR      AS      BR     CH      CT    DN  \\\n",
       "Status                                                                         \n",
       "Confirmed  7118668  4001  755727  12147  193681  196268  13166  142372  3160   \n",
       "Deceased    108597    55    6224     24     820     946    191    1253     2   \n",
       "Recovered  6146399  3755  703208   9232  164579  184224  11787  113771  3014   \n",
       "\n",
       "           DD  ...      PB      RJ    SK      TN      TG     TR      UP  \\\n",
       "Status         ...                                                        \n",
       "Confirmed   0  ...  123973  159052  3373  656385  211553  28349  436979   \n",
       "Deceased    0  ...    3833    1650    56   10252    1222    312    6394   \n",
       "Recovered   0  ...  110865  135990  2840  602038  185128  24063  390566   \n",
       "\n",
       "              UT      WB  UN  \n",
       "Status                        \n",
       "Confirmed  55051  294806   0  \n",
       "Deceased     747    5622   0  \n",
       "Recovered  46642  258948   0  \n",
       "\n",
       "[3 rows x 39 columns]"
      ]
     },
     "execution_count": 6,
     "metadata": {},
     "output_type": "execute_result"
    }
   ],
   "source": [
    "#hide\n",
    "df_today"
   ]
  },
  {
   "cell_type": "code",
   "execution_count": 7,
   "metadata": {
    "execution": {
     "iopub.execute_input": "2020-10-12T19:13:46.597095Z",
     "iopub.status.busy": "2020-10-12T19:13:46.592748Z",
     "iopub.status.idle": "2020-10-12T19:13:46.600413Z",
     "shell.execute_reply": "2020-10-12T19:13:46.599918Z"
    },
    "papermill": {
     "duration": 0.035301,
     "end_time": "2020-10-12T19:13:46.600553",
     "exception": false,
     "start_time": "2020-10-12T19:13:46.565252",
     "status": "completed"
    },
    "tags": []
   },
   "outputs": [
    {
     "data": {
      "text/html": [
       "<div>\n",
       "<style scoped>\n",
       "    .dataframe tbody tr th:only-of-type {\n",
       "        vertical-align: middle;\n",
       "    }\n",
       "\n",
       "    .dataframe tbody tr th {\n",
       "        vertical-align: top;\n",
       "    }\n",
       "\n",
       "    .dataframe thead th {\n",
       "        text-align: right;\n",
       "    }\n",
       "</style>\n",
       "<table border=\"1\" class=\"dataframe\">\n",
       "  <thead>\n",
       "    <tr style=\"text-align: right;\">\n",
       "      <th></th>\n",
       "      <th>TT</th>\n",
       "      <th>AN</th>\n",
       "      <th>AP</th>\n",
       "      <th>AR</th>\n",
       "      <th>AS</th>\n",
       "      <th>BR</th>\n",
       "      <th>CH</th>\n",
       "      <th>CT</th>\n",
       "      <th>DN</th>\n",
       "      <th>DD</th>\n",
       "      <th>...</th>\n",
       "      <th>PB</th>\n",
       "      <th>RJ</th>\n",
       "      <th>SK</th>\n",
       "      <th>TN</th>\n",
       "      <th>TG</th>\n",
       "      <th>TR</th>\n",
       "      <th>UP</th>\n",
       "      <th>UT</th>\n",
       "      <th>WB</th>\n",
       "      <th>UN</th>\n",
       "    </tr>\n",
       "    <tr>\n",
       "      <th>Status</th>\n",
       "      <th></th>\n",
       "      <th></th>\n",
       "      <th></th>\n",
       "      <th></th>\n",
       "      <th></th>\n",
       "      <th></th>\n",
       "      <th></th>\n",
       "      <th></th>\n",
       "      <th></th>\n",
       "      <th></th>\n",
       "      <th></th>\n",
       "      <th></th>\n",
       "      <th></th>\n",
       "      <th></th>\n",
       "      <th></th>\n",
       "      <th></th>\n",
       "      <th></th>\n",
       "      <th></th>\n",
       "      <th></th>\n",
       "      <th></th>\n",
       "      <th></th>\n",
       "    </tr>\n",
       "  </thead>\n",
       "  <tbody>\n",
       "    <tr>\n",
       "      <th>Confirmed</th>\n",
       "      <td>7050879</td>\n",
       "      <td>3988</td>\n",
       "      <td>750517</td>\n",
       "      <td>11998</td>\n",
       "      <td>193285</td>\n",
       "      <td>194966</td>\n",
       "      <td>13081</td>\n",
       "      <td>140258</td>\n",
       "      <td>3149</td>\n",
       "      <td>0</td>\n",
       "      <td>...</td>\n",
       "      <td>123317</td>\n",
       "      <td>156908</td>\n",
       "      <td>3334</td>\n",
       "      <td>651370</td>\n",
       "      <td>209836</td>\n",
       "      <td>28150</td>\n",
       "      <td>433712</td>\n",
       "      <td>54525</td>\n",
       "      <td>291194</td>\n",
       "      <td>0</td>\n",
       "    </tr>\n",
       "    <tr>\n",
       "      <th>Deceased</th>\n",
       "      <td>107784</td>\n",
       "      <td>55</td>\n",
       "      <td>6194</td>\n",
       "      <td>23</td>\n",
       "      <td>815</td>\n",
       "      <td>944</td>\n",
       "      <td>190</td>\n",
       "      <td>1235</td>\n",
       "      <td>2</td>\n",
       "      <td>0</td>\n",
       "      <td>...</td>\n",
       "      <td>3798</td>\n",
       "      <td>1636</td>\n",
       "      <td>55</td>\n",
       "      <td>10187</td>\n",
       "      <td>1217</td>\n",
       "      <td>310</td>\n",
       "      <td>6353</td>\n",
       "      <td>734</td>\n",
       "      <td>5563</td>\n",
       "      <td>0</td>\n",
       "    </tr>\n",
       "    <tr>\n",
       "      <th>Recovered</th>\n",
       "      <td>6074835</td>\n",
       "      <td>3735</td>\n",
       "      <td>697699</td>\n",
       "      <td>9035</td>\n",
       "      <td>163352</td>\n",
       "      <td>183007</td>\n",
       "      <td>11662</td>\n",
       "      <td>111654</td>\n",
       "      <td>3006</td>\n",
       "      <td>0</td>\n",
       "      <td>...</td>\n",
       "      <td>109767</td>\n",
       "      <td>133918</td>\n",
       "      <td>2736</td>\n",
       "      <td>597033</td>\n",
       "      <td>183025</td>\n",
       "      <td>23778</td>\n",
       "      <td>387149</td>\n",
       "      <td>46186</td>\n",
       "      <td>255838</td>\n",
       "      <td>0</td>\n",
       "    </tr>\n",
       "  </tbody>\n",
       "</table>\n",
       "<p>3 rows × 39 columns</p>\n",
       "</div>"
      ],
      "text/plain": [
       "                TT    AN      AP     AR      AS      BR     CH      CT    DN  \\\n",
       "Status                                                                         \n",
       "Confirmed  7050879  3988  750517  11998  193285  194966  13081  140258  3149   \n",
       "Deceased    107784    55    6194     23     815     944    190    1235     2   \n",
       "Recovered  6074835  3735  697699   9035  163352  183007  11662  111654  3006   \n",
       "\n",
       "           DD  ...      PB      RJ    SK      TN      TG     TR      UP  \\\n",
       "Status         ...                                                        \n",
       "Confirmed   0  ...  123317  156908  3334  651370  209836  28150  433712   \n",
       "Deceased    0  ...    3798    1636    55   10187    1217    310    6353   \n",
       "Recovered   0  ...  109767  133918  2736  597033  183025  23778  387149   \n",
       "\n",
       "              UT      WB  UN  \n",
       "Status                        \n",
       "Confirmed  54525  291194   0  \n",
       "Deceased     734    5563   0  \n",
       "Recovered  46186  255838   0  \n",
       "\n",
       "[3 rows x 39 columns]"
      ]
     },
     "execution_count": 7,
     "metadata": {},
     "output_type": "execute_result"
    }
   ],
   "source": [
    "#hide\n",
    "df_yday.head()"
   ]
  },
  {
   "cell_type": "code",
   "execution_count": 8,
   "metadata": {
    "execution": {
     "iopub.execute_input": "2020-10-12T19:13:46.639004Z",
     "iopub.status.busy": "2020-10-12T19:13:46.638341Z",
     "iopub.status.idle": "2020-10-12T19:13:46.640728Z",
     "shell.execute_reply": "2020-10-12T19:13:46.641287Z"
    },
    "papermill": {
     "duration": 0.026104,
     "end_time": "2020-10-12T19:13:46.641438",
     "exception": false,
     "start_time": "2020-10-12T19:13:46.615334",
     "status": "completed"
    },
    "tags": []
   },
   "outputs": [
    {
     "data": {
      "text/plain": [
       "{'updated': '11-Oct-20',\n",
       " 'since': '10-Oct-20',\n",
       " 'Cases': 7118668,\n",
       " 'Deaths': 108597,\n",
       " 'Recovered': 6146399,\n",
       " 'PCases': 7050879,\n",
       " 'PDeaths': 107784,\n",
       " 'PRecovered': 6074835,\n",
       " 'Cases (+)': 67789,\n",
       " 'Deaths (+)': 813,\n",
       " 'Recovered (+)': 71564}"
      ]
     },
     "execution_count": 8,
     "metadata": {},
     "output_type": "execute_result"
    }
   ],
   "source": [
    "#hide\n",
    "summary = {\n",
    "    'updated' : dt_today,\n",
    "    'since' : dt_yday,\n",
    "    'Cases' : df_today['TT'][0],\n",
    "    'Deaths' : df_today['TT'][1],\n",
    "    'Recovered' : df_today['TT'][2],\n",
    "    'PCases' : df_yday['TT'][0],\n",
    "    'PDeaths' : df_yday['TT'][1],\n",
    "    'PRecovered': df_yday['TT'][2],\n",
    "    'Cases (+)' : df_today['TT'][0] - df_yday['TT'][0],\n",
    "    'Deaths (+)' : df_today['TT'][1] - df_yday['TT'][1],\n",
    "    'Recovered (+)': df_today['TT'][2] - df_yday['TT'][2]\n",
    "}\n",
    "\n",
    "summary"
   ]
  },
  {
   "cell_type": "code",
   "execution_count": 9,
   "metadata": {
    "execution": {
     "iopub.execute_input": "2020-10-12T19:13:46.676151Z",
     "iopub.status.busy": "2020-10-12T19:13:46.675528Z",
     "iopub.status.idle": "2020-10-12T19:13:46.677876Z",
     "shell.execute_reply": "2020-10-12T19:13:46.677390Z"
    },
    "papermill": {
     "duration": 0.021496,
     "end_time": "2020-10-12T19:13:46.678011",
     "exception": false,
     "start_time": "2020-10-12T19:13:46.656515",
     "status": "completed"
    },
    "tags": []
   },
   "outputs": [],
   "source": [
    "#hide\n",
    "overview = '''\n",
    "<!-- #######  HTML!! #########-->\n",
    "<h1 style=\"color: #5e9ca0; text-align: center;\">India</h1>\n",
    "<p style=\"text-align: center;\">Last update: <strong>{update}</strong></p>\n",
    "<p style=\"text-align: center;\">Confirmed cases:</p>\n",
    "<p style=\"text-align: center;font-size:24px;\">{cases} (<span style=\"color: #ff0000;\">+{new}</span>)</p>\n",
    "<p style=\"text-align: center;\">Confirmed deaths:</p>\n",
    "<p style=\"text-align: center;font-size:24px;\">{deaths} (<span style=\"color: #ff0000;\">+{dnew}</span>)</p>\n",
    "<p style=\"text-align: center;\">Recovered cases:</p>\n",
    "<p style=\"text-align: center;font-size:24px;\">{recovered} (<span style=\"color: #00ff00;\">+{rnew}</span>)</p>\n",
    "'''"
   ]
  },
  {
   "cell_type": "code",
   "execution_count": 10,
   "metadata": {
    "execution": {
     "iopub.execute_input": "2020-10-12T19:13:46.717060Z",
     "iopub.status.busy": "2020-10-12T19:13:46.716427Z",
     "iopub.status.idle": "2020-10-12T19:13:46.719360Z",
     "shell.execute_reply": "2020-10-12T19:13:46.719879Z"
    },
    "papermill": {
     "duration": 0.026987,
     "end_time": "2020-10-12T19:13:46.720028",
     "exception": false,
     "start_time": "2020-10-12T19:13:46.693041",
     "status": "completed"
    },
    "tags": []
   },
   "outputs": [
    {
     "data": {
      "text/html": [
       "\n",
       "<!-- #######  HTML!! #########-->\n",
       "<h1 style=\"color: #5e9ca0; text-align: center;\">India</h1>\n",
       "<p style=\"text-align: center;\">Last update: <strong>11-Oct-20</strong></p>\n",
       "<p style=\"text-align: center;\">Confirmed cases:</p>\n",
       "<p style=\"text-align: center;font-size:24px;\">7118668 (<span style=\"color: #ff0000;\">+67789</span>)</p>\n",
       "<p style=\"text-align: center;\">Confirmed deaths:</p>\n",
       "<p style=\"text-align: center;font-size:24px;\">108597 (<span style=\"color: #ff0000;\">+813</span>)</p>\n",
       "<p style=\"text-align: center;\">Recovered cases:</p>\n",
       "<p style=\"text-align: center;font-size:24px;\">6146399 (<span style=\"color: #00ff00;\">+71564</span>)</p>\n"
      ],
      "text/plain": [
       "<IPython.core.display.HTML object>"
      ]
     },
     "metadata": {},
     "output_type": "display_data"
    }
   ],
   "source": [
    "#hide_input\n",
    "# Fill the above HTML with the information from the summary dictionary\n",
    "\n",
    "update = summary['updated']\n",
    "cases = summary['Cases']\n",
    "new = summary['Cases (+)']\n",
    "deaths = summary['Deaths']\n",
    "dnew = summary['Deaths (+)']\n",
    "recovered = summary['Recovered']\n",
    "rnew = summary['Recovered (+)']\n",
    "\n",
    "html = HTML(overview.format(update=update, cases=cases,new=new,deaths=deaths,dnew=dnew, recovered=recovered, rnew=rnew))\n",
    "\n",
    "display(html)"
   ]
  },
  {
   "cell_type": "code",
   "execution_count": 11,
   "metadata": {
    "execution": {
     "iopub.execute_input": "2020-10-12T19:13:46.757823Z",
     "iopub.status.busy": "2020-10-12T19:13:46.757199Z",
     "iopub.status.idle": "2020-10-12T19:13:46.764546Z",
     "shell.execute_reply": "2020-10-12T19:13:46.765064Z"
    },
    "papermill": {
     "duration": 0.029705,
     "end_time": "2020-10-12T19:13:46.765216",
     "exception": false,
     "start_time": "2020-10-12T19:13:46.735511",
     "status": "completed"
    },
    "tags": []
   },
   "outputs": [],
   "source": [
    "#hide\n",
    "df_cases = df[df['Status'] == 'Confirmed'].copy()\n",
    "df_cases.drop(columns = ['Status'], inplace=True)\n",
    "df_deaths = df[df['Status'] == 'Deceased'].copy()\n",
    "df_deaths.drop(columns = ['Status'], inplace=True)\n",
    "df_recovered = df[df['Status'] == 'Recovered'].copy()\n",
    "df_recovered.drop(columns = ['Status'], inplace=True)"
   ]
  },
  {
   "cell_type": "markdown",
   "metadata": {
    "papermill": {
     "duration": 0.015305,
     "end_time": "2020-10-12T19:13:46.795930",
     "exception": false,
     "start_time": "2020-10-12T19:13:46.780625",
     "status": "completed"
    },
    "tags": []
   },
   "source": [
    "Plot for India:"
   ]
  },
  {
   "cell_type": "code",
   "execution_count": 12,
   "metadata": {
    "execution": {
     "iopub.execute_input": "2020-10-12T19:13:47.191708Z",
     "iopub.status.busy": "2020-10-12T19:13:47.178410Z",
     "iopub.status.idle": "2020-10-12T19:13:47.471404Z",
     "shell.execute_reply": "2020-10-12T19:13:47.471910Z"
    },
    "papermill": {
     "duration": 0.506945,
     "end_time": "2020-10-12T19:13:47.472073",
     "exception": false,
     "start_time": "2020-10-12T19:13:46.965128",
     "status": "completed"
    },
    "tags": []
   },
   "outputs": [
    {
     "data": {
      "image/png": "[encoded data removed]",
      "text/plain": [
       "<Figure size 1296x432 with 1 Axes>"
      ]
     },
     "metadata": {
      "needs_background": "light"
     },
     "output_type": "display_data"
    }
   ],
   "source": [
    "#hide_input\n",
    "plt.figure(figsize = (18,6))\n",
    "plt.plot(df_cases['Date'], df_cases['TT'],'.-', alpha=0.7, color='b', label='Confirmed cases')\n",
    "plt.plot(df_recovered['Date'], df_recovered['TT'],'.-', alpha=0.7, color='g', label='Recovered')\n",
    "plt.plot(df_deaths['Date'], df_deaths['TT'],'.-', alpha=0.7, color='r', label='Deceased')\n",
    "plt.legend()\n",
    "plt.title(\"Cases per day in India\")\n",
    "plt.xticks(ticks=' ')\n",
    "plt.xlabel(f'{df_cases.iloc[0][0]} to {df_cases.iloc[-1][0]}')\n",
    "plt.ylabel('No. of cases');"
   ]
  },
  {
   "cell_type": "markdown",
   "metadata": {
    "papermill": {
     "duration": 0.017538,
     "end_time": "2020-10-12T19:13:47.507142",
     "exception": false,
     "start_time": "2020-10-12T19:13:47.489604",
     "status": "completed"
    },
    "tags": []
   },
   "source": [
    "Plots for the states with highest number of cases:"
   ]
  },
  {
   "cell_type": "code",
   "execution_count": 13,
   "metadata": {
    "execution": {
     "iopub.execute_input": "2020-10-12T19:13:47.553924Z",
     "iopub.status.busy": "2020-10-12T19:13:47.553283Z",
     "iopub.status.idle": "2020-10-12T19:13:48.181599Z",
     "shell.execute_reply": "2020-10-12T19:13:48.182099Z"
    },
    "papermill": {
     "duration": 0.657267,
     "end_time": "2020-10-12T19:13:48.182258",
     "exception": false,
     "start_time": "2020-10-12T19:13:47.524991",
     "status": "completed"
    },
    "tags": []
   },
   "outputs": [
    {
     "data": {
      "image/png": "[encoded data removed]",
      "text/plain": [
       "<Figure size 1512x432 with 3 Axes>"
      ]
     },
     "metadata": {
      "needs_background": "light"
     },
     "output_type": "display_data"
    }
   ],
   "source": [
    "#hide_input\n",
    "top_3 = sorted(df_cases.sum().values[1:], reverse=True)[1:4]\n",
    "top3_states=[]\n",
    "for i in top_3:\n",
    "    top3_states.append(df_cases.sum()[df_cases.sum() == i].index)\n",
    "\n",
    "\n",
    "fig, ax = plt.subplots(1,3,figsize = (21,6))\n",
    "for i in range(3):\n",
    "    state = top3_states[i].values[0]\n",
    "    ax[i].plot(df_cases['Date'], df_cases[state],'.-', color='b', alpha=0.7)\n",
    "    ax[i].plot(df_deaths['Date'], df_deaths[state],'.-', color='r', alpha=0.7)\n",
    "    ax[i].plot(df_recovered['Date'], df_recovered[state],'.-', color='g', alpha=0.7)\n",
    "    \n",
    "    ax[i].set_title(f\"Cases in {state}\")\n",
    "    ax[i].set_xticks(ticks=' ')\n",
    "    ax[i].set_xlabel(f'{df_cases.iloc[0][0]} to {df_cases.iloc[-1][0]}')\n",
    "    ax[i].set_ylabel('No. of cases');"
   ]
  },
  {
   "cell_type": "code",
   "execution_count": null,
   "metadata": {
    "papermill": {
     "duration": 0.020561,
     "end_time": "2020-10-12T19:13:48.223653",
     "exception": false,
     "start_time": "2020-10-12T19:13:48.203092",
     "status": "completed"
    },
    "tags": []
   },
   "outputs": [],
   "source": []
  },
  {
   "cell_type": "code",
   "execution_count": null,
   "metadata": {
    "papermill": {
     "duration": 0.020374,
     "end_time": "2020-10-12T19:13:48.264648",
     "exception": false,
     "start_time": "2020-10-12T19:13:48.244274",
     "status": "completed"
    },
    "tags": []
   },
   "outputs": [],
   "source": []
  },
  {
   "cell_type": "code",
   "execution_count": null,
   "metadata": {
    "papermill": {
     "duration": 0.020359,
     "end_time": "2020-10-12T19:13:48.305394",
     "exception": false,
     "start_time": "2020-10-12T19:13:48.285035",
     "status": "completed"
    },
    "tags": []
   },
   "outputs": [],
   "source": []
  }
 ],
 "metadata": {
  "kernelspec": {
   "display_name": "Python 3",
   "language": "python",
   "name": "python3"
  },
  "language_info": {
   "codemirror_mode": {
    "name": "ipython",
    "version": 3
   },
   "file_extension": ".py",
   "mimetype": "text/x-python",
   "name": "python",
   "nbconvert_exporter": "python",
   "pygments_lexer": "ipython3",
   "version": "3.6.12"
  },
  "papermill": {
   "duration": 5.34382,
   "end_time": "2020-10-12T19:13:49.658047",
   "environment_variables": {},
   "exception": null,
   "input_path": "2020-08-09-DailyUpdate.ipynb",
   "output_path": "2020-08-09-DailyUpdate.ipynb",
   "parameters": {},
   "start_time": "2020-10-12T19:13:44.314227",
   "version": "2.1.2"
  }
 },
 "nbformat": 4,
 "nbformat_minor": 4
}