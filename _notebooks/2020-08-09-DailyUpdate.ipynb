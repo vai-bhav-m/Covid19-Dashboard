{
 "cells": [
  {
   "cell_type": "markdown",
   "metadata": {
    "papermill": {
     "duration": 0.041634,
     "end_time": "2020-08-29T19:11:24.751975",
     "exception": false,
     "start_time": "2020-08-29T19:11:24.710341",
     "status": "completed"
    },
    "tags": []
   },
   "source": [
    "# COVID-19 India Daily updates\n",
    "> Tracking coronavirus total cases, deaths and new cases in India on a daily basis\n",
    "\n",
    "- author: Vaibhav Mahapatra"
   ]
  },
  {
   "cell_type": "code",
   "execution_count": 1,
   "metadata": {
    "execution": {
     "iopub.execute_input": "2020-08-29T19:11:25.197915Z",
     "iopub.status.busy": "2020-08-29T19:11:25.197295Z",
     "iopub.status.idle": "2020-08-29T19:11:25.836157Z",
     "shell.execute_reply": "2020-08-29T19:11:25.835053Z"
    },
    "papermill": {
     "duration": 0.978664,
     "end_time": "2020-08-29T19:11:25.836327",
     "exception": false,
     "start_time": "2020-08-29T19:11:24.857663",
     "status": "completed"
    },
    "tags": []
   },
   "outputs": [],
   "source": [
    "#hide\n",
    "\n",
    "## Import essential packages below\n",
    "\n",
    "import pandas as pd\n",
    "import numpy as np\n",
    "import requests\n",
    "import json\n",
    "import matplotlib.pyplot as plt\n",
    "import matplotlib.dates as mdates\n",
    "import matplotlib as mpl\n",
    "from IPython.core.display import display,HTML\n",
    "%matplotlib inline"
   ]
  },
  {
   "cell_type": "code",
   "execution_count": 2,
   "metadata": {
    "execution": {
     "iopub.execute_input": "2020-08-29T19:11:25.869457Z",
     "iopub.status.busy": "2020-08-29T19:11:25.868485Z",
     "iopub.status.idle": "2020-08-29T19:11:26.076054Z",
     "shell.execute_reply": "2020-08-29T19:11:26.076740Z"
    },
    "papermill": {
     "duration": 0.227338,
     "end_time": "2020-08-29T19:11:26.076901",
     "exception": false,
     "start_time": "2020-08-29T19:11:25.849563",
     "status": "completed"
    },
    "tags": []
   },
   "outputs": [
    {
     "data": {
      "text/plain": [
       "(507, 41)"
      ]
     },
     "execution_count": 2,
     "metadata": {},
     "output_type": "execute_result"
    }
   ],
   "source": [
    "#hide\n",
    "url = 'https://api.covid19india.org/csv/latest/state_wise_daily.csv'\n",
    "df = pd.read_csv(url)\n",
    "df.shape"
   ]
  },
  {
   "cell_type": "code",
   "execution_count": 3,
   "metadata": {
    "execution": {
     "iopub.execute_input": "2020-08-29T19:11:26.146901Z",
     "iopub.status.busy": "2020-08-29T19:11:26.146236Z",
     "iopub.status.idle": "2020-08-29T19:11:26.167996Z",
     "shell.execute_reply": "2020-08-29T19:11:26.168626Z"
    },
    "papermill": {
     "duration": 0.07624,
     "end_time": "2020-08-29T19:11:26.168777",
     "exception": false,
     "start_time": "2020-08-29T19:11:26.092537",
     "status": "completed"
    },
    "tags": []
   },
   "outputs": [
    {
     "data": {
      "text/html": [
       "<div>\n",
       "<style scoped>\n",
       "    .dataframe tbody tr th:only-of-type {\n",
       "        vertical-align: middle;\n",
       "    }\n",
       "\n",
       "    .dataframe tbody tr th {\n",
       "        vertical-align: top;\n",
       "    }\n",
       "\n",
       "    .dataframe thead th {\n",
       "        text-align: right;\n",
       "    }\n",
       "</style>\n",
       "<table border=\"1\" class=\"dataframe\">\n",
       "  <thead>\n",
       "    <tr style=\"text-align: right;\">\n",
       "      <th></th>\n",
       "      <th>Date</th>\n",
       "      <th>Status</th>\n",
       "      <th>TT</th>\n",
       "      <th>AN</th>\n",
       "      <th>AP</th>\n",
       "      <th>AR</th>\n",
       "      <th>AS</th>\n",
       "      <th>BR</th>\n",
       "      <th>CH</th>\n",
       "      <th>CT</th>\n",
       "      <th>...</th>\n",
       "      <th>PB</th>\n",
       "      <th>RJ</th>\n",
       "      <th>SK</th>\n",
       "      <th>TN</th>\n",
       "      <th>TG</th>\n",
       "      <th>TR</th>\n",
       "      <th>UP</th>\n",
       "      <th>UT</th>\n",
       "      <th>WB</th>\n",
       "      <th>UN</th>\n",
       "    </tr>\n",
       "  </thead>\n",
       "  <tbody>\n",
       "    <tr>\n",
       "      <th>501</th>\n",
       "      <td>28-Aug-20</td>\n",
       "      <td>Confirmed</td>\n",
       "      <td>76657</td>\n",
       "      <td>32</td>\n",
       "      <td>10526</td>\n",
       "      <td>112</td>\n",
       "      <td>2560</td>\n",
       "      <td>1998</td>\n",
       "      <td>160</td>\n",
       "      <td>1245</td>\n",
       "      <td>...</td>\n",
       "      <td>1542</td>\n",
       "      <td>1355</td>\n",
       "      <td>34</td>\n",
       "      <td>5996</td>\n",
       "      <td>2932</td>\n",
       "      <td>509</td>\n",
       "      <td>5405</td>\n",
       "      <td>588</td>\n",
       "      <td>2982</td>\n",
       "      <td>0</td>\n",
       "    </tr>\n",
       "    <tr>\n",
       "      <th>502</th>\n",
       "      <td>28-Aug-20</td>\n",
       "      <td>Recovered</td>\n",
       "      <td>64475</td>\n",
       "      <td>70</td>\n",
       "      <td>8463</td>\n",
       "      <td>88</td>\n",
       "      <td>1763</td>\n",
       "      <td>2749</td>\n",
       "      <td>130</td>\n",
       "      <td>502</td>\n",
       "      <td>...</td>\n",
       "      <td>2036</td>\n",
       "      <td>1448</td>\n",
       "      <td>33</td>\n",
       "      <td>5752</td>\n",
       "      <td>1580</td>\n",
       "      <td>142</td>\n",
       "      <td>4986</td>\n",
       "      <td>349</td>\n",
       "      <td>3286</td>\n",
       "      <td>0</td>\n",
       "    </tr>\n",
       "    <tr>\n",
       "      <th>503</th>\n",
       "      <td>28-Aug-20</td>\n",
       "      <td>Deceased</td>\n",
       "      <td>1019</td>\n",
       "      <td>0</td>\n",
       "      <td>81</td>\n",
       "      <td>2</td>\n",
       "      <td>8</td>\n",
       "      <td>12</td>\n",
       "      <td>2</td>\n",
       "      <td>6</td>\n",
       "      <td>...</td>\n",
       "      <td>51</td>\n",
       "      <td>12</td>\n",
       "      <td>0</td>\n",
       "      <td>102</td>\n",
       "      <td>11</td>\n",
       "      <td>4</td>\n",
       "      <td>77</td>\n",
       "      <td>11</td>\n",
       "      <td>56</td>\n",
       "      <td>0</td>\n",
       "    </tr>\n",
       "    <tr>\n",
       "      <th>504</th>\n",
       "      <td>29-Aug-20</td>\n",
       "      <td>Confirmed</td>\n",
       "      <td>78479</td>\n",
       "      <td>31</td>\n",
       "      <td>10548</td>\n",
       "      <td>132</td>\n",
       "      <td>2427</td>\n",
       "      <td>2087</td>\n",
       "      <td>261</td>\n",
       "      <td>1513</td>\n",
       "      <td>...</td>\n",
       "      <td>1470</td>\n",
       "      <td>1407</td>\n",
       "      <td>26</td>\n",
       "      <td>6352</td>\n",
       "      <td>2751</td>\n",
       "      <td>443</td>\n",
       "      <td>5633</td>\n",
       "      <td>706</td>\n",
       "      <td>3012</td>\n",
       "      <td>0</td>\n",
       "    </tr>\n",
       "    <tr>\n",
       "      <th>505</th>\n",
       "      <td>29-Aug-20</td>\n",
       "      <td>Recovered</td>\n",
       "      <td>64982</td>\n",
       "      <td>75</td>\n",
       "      <td>8976</td>\n",
       "      <td>45</td>\n",
       "      <td>1440</td>\n",
       "      <td>2629</td>\n",
       "      <td>141</td>\n",
       "      <td>709</td>\n",
       "      <td>...</td>\n",
       "      <td>1083</td>\n",
       "      <td>938</td>\n",
       "      <td>11</td>\n",
       "      <td>6045</td>\n",
       "      <td>1675</td>\n",
       "      <td>198</td>\n",
       "      <td>4862</td>\n",
       "      <td>400</td>\n",
       "      <td>3312</td>\n",
       "      <td>0</td>\n",
       "    </tr>\n",
       "    <tr>\n",
       "      <th>506</th>\n",
       "      <td>29-Aug-20</td>\n",
       "      <td>Deceased</td>\n",
       "      <td>943</td>\n",
       "      <td>2</td>\n",
       "      <td>82</td>\n",
       "      <td>0</td>\n",
       "      <td>3</td>\n",
       "      <td>5</td>\n",
       "      <td>0</td>\n",
       "      <td>11</td>\n",
       "      <td>...</td>\n",
       "      <td>41</td>\n",
       "      <td>13</td>\n",
       "      <td>0</td>\n",
       "      <td>87</td>\n",
       "      <td>9</td>\n",
       "      <td>5</td>\n",
       "      <td>62</td>\n",
       "      <td>11</td>\n",
       "      <td>53</td>\n",
       "      <td>0</td>\n",
       "    </tr>\n",
       "  </tbody>\n",
       "</table>\n",
       "<p>6 rows × 41 columns</p>\n",
       "</div>"
      ],
      "text/plain": [
       "          Date     Status     TT  AN     AP   AR    AS    BR   CH    CT  ...  \\\n",
       "501  28-Aug-20  Confirmed  76657  32  10526  112  2560  1998  160  1245  ...   \n",
       "502  28-Aug-20  Recovered  64475  70   8463   88  1763  2749  130   502  ...   \n",
       "503  28-Aug-20   Deceased   1019   0     81    2     8    12    2     6  ...   \n",
       "504  29-Aug-20  Confirmed  78479  31  10548  132  2427  2087  261  1513  ...   \n",
       "505  29-Aug-20  Recovered  64982  75   8976   45  1440  2629  141   709  ...   \n",
       "506  29-Aug-20   Deceased    943   2     82    0     3     5    0    11  ...   \n",
       "\n",
       "       PB    RJ  SK    TN    TG   TR    UP   UT    WB  UN  \n",
       "501  1542  1355  34  5996  2932  509  5405  588  2982   0  \n",
       "502  2036  1448  33  5752  1580  142  4986  349  3286   0  \n",
       "503    51    12   0   102    11    4    77   11    56   0  \n",
       "504  1470  1407  26  6352  2751  443  5633  706  3012   0  \n",
       "505  1083   938  11  6045  1675  198  4862  400  3312   0  \n",
       "506    41    13   0    87     9    5    62   11    53   0  \n",
       "\n",
       "[6 rows x 41 columns]"
      ]
     },
     "execution_count": 3,
     "metadata": {},
     "output_type": "execute_result"
    }
   ],
   "source": [
    "#hide\n",
    "df.tail(6)"
   ]
  },
  {
   "cell_type": "code",
   "execution_count": 4,
   "metadata": {
    "execution": {
     "iopub.execute_input": "2020-08-29T19:11:26.200491Z",
     "iopub.status.busy": "2020-08-29T19:11:26.199892Z",
     "iopub.status.idle": "2020-08-29T19:11:26.202978Z",
     "shell.execute_reply": "2020-08-29T19:11:26.203462Z"
    },
    "papermill": {
     "duration": 0.022461,
     "end_time": "2020-08-29T19:11:26.203597",
     "exception": false,
     "start_time": "2020-08-29T19:11:26.181136",
     "status": "completed"
    },
    "tags": []
   },
   "outputs": [
    {
     "data": {
      "text/plain": [
       "('29-Aug-20', '28-Aug-20')"
      ]
     },
     "execution_count": 4,
     "metadata": {},
     "output_type": "execute_result"
    }
   ],
   "source": [
    "#hide\n",
    "dt_today = df.iloc[-1][0]\n",
    "dt_yday = df.iloc[-4][0]\n",
    "dt_today, dt_yday"
   ]
  },
  {
   "cell_type": "code",
   "execution_count": 5,
   "metadata": {
    "execution": {
     "iopub.execute_input": "2020-08-29T19:11:26.237874Z",
     "iopub.status.busy": "2020-08-29T19:11:26.237128Z",
     "iopub.status.idle": "2020-08-29T19:11:26.244623Z",
     "shell.execute_reply": "2020-08-29T19:11:26.244011Z"
    },
    "papermill": {
     "duration": 0.027496,
     "end_time": "2020-08-29T19:11:26.244809",
     "exception": false,
     "start_time": "2020-08-29T19:11:26.217313",
     "status": "completed"
    },
    "tags": []
   },
   "outputs": [],
   "source": [
    "#hide\n",
    "df_today = df.groupby('Status').sum()\n",
    "df_yday = df.iloc[:-3][:].groupby('Status').sum()"
   ]
  },
  {
   "cell_type": "code",
   "execution_count": 6,
   "metadata": {
    "execution": {
     "iopub.execute_input": "2020-08-29T19:11:26.293395Z",
     "iopub.status.busy": "2020-08-29T19:11:26.292730Z",
     "iopub.status.idle": "2020-08-29T19:11:26.296568Z",
     "shell.execute_reply": "2020-08-29T19:11:26.296069Z"
    },
    "papermill": {
     "duration": 0.034848,
     "end_time": "2020-08-29T19:11:26.296690",
     "exception": false,
     "start_time": "2020-08-29T19:11:26.261842",
     "status": "completed"
    },
    "tags": []
   },
   "outputs": [
    {
     "data": {
      "text/html": [
       "<div>\n",
       "<style scoped>\n",
       "    .dataframe tbody tr th:only-of-type {\n",
       "        vertical-align: middle;\n",
       "    }\n",
       "\n",
       "    .dataframe tbody tr th {\n",
       "        vertical-align: top;\n",
       "    }\n",
       "\n",
       "    .dataframe thead th {\n",
       "        text-align: right;\n",
       "    }\n",
       "</style>\n",
       "<table border=\"1\" class=\"dataframe\">\n",
       "  <thead>\n",
       "    <tr style=\"text-align: right;\">\n",
       "      <th></th>\n",
       "      <th>TT</th>\n",
       "      <th>AN</th>\n",
       "      <th>AP</th>\n",
       "      <th>AR</th>\n",
       "      <th>AS</th>\n",
       "      <th>BR</th>\n",
       "      <th>CH</th>\n",
       "      <th>CT</th>\n",
       "      <th>DN</th>\n",
       "      <th>DD</th>\n",
       "      <th>...</th>\n",
       "      <th>PB</th>\n",
       "      <th>RJ</th>\n",
       "      <th>SK</th>\n",
       "      <th>TN</th>\n",
       "      <th>TG</th>\n",
       "      <th>TR</th>\n",
       "      <th>UP</th>\n",
       "      <th>UT</th>\n",
       "      <th>WB</th>\n",
       "      <th>UN</th>\n",
       "    </tr>\n",
       "    <tr>\n",
       "      <th>Status</th>\n",
       "      <th></th>\n",
       "      <th></th>\n",
       "      <th></th>\n",
       "      <th></th>\n",
       "      <th></th>\n",
       "      <th></th>\n",
       "      <th></th>\n",
       "      <th></th>\n",
       "      <th></th>\n",
       "      <th></th>\n",
       "      <th></th>\n",
       "      <th></th>\n",
       "      <th></th>\n",
       "      <th></th>\n",
       "      <th></th>\n",
       "      <th></th>\n",
       "      <th></th>\n",
       "      <th></th>\n",
       "      <th></th>\n",
       "      <th></th>\n",
       "      <th></th>\n",
       "    </tr>\n",
       "  </thead>\n",
       "  <tbody>\n",
       "    <tr>\n",
       "      <th>Confirmed</th>\n",
       "      <td>3539085</td>\n",
       "      <td>3077</td>\n",
       "      <td>414164</td>\n",
       "      <td>3877</td>\n",
       "      <td>103693</td>\n",
       "      <td>132935</td>\n",
       "      <td>3985</td>\n",
       "      <td>28746</td>\n",
       "      <td>2310</td>\n",
       "      <td>0</td>\n",
       "      <td>...</td>\n",
       "      <td>50848</td>\n",
       "      <td>78777</td>\n",
       "      <td>1615</td>\n",
       "      <td>415590</td>\n",
       "      <td>119656</td>\n",
       "      <td>10876</td>\n",
       "      <td>219457</td>\n",
       "      <td>18571</td>\n",
       "      <td>156766</td>\n",
       "      <td>0</td>\n",
       "    </tr>\n",
       "    <tr>\n",
       "      <th>Deceased</th>\n",
       "      <td>63668</td>\n",
       "      <td>44</td>\n",
       "      <td>3796</td>\n",
       "      <td>7</td>\n",
       "      <td>293</td>\n",
       "      <td>679</td>\n",
       "      <td>45</td>\n",
       "      <td>262</td>\n",
       "      <td>2</td>\n",
       "      <td>0</td>\n",
       "      <td>...</td>\n",
       "      <td>1348</td>\n",
       "      <td>1030</td>\n",
       "      <td>3</td>\n",
       "      <td>7137</td>\n",
       "      <td>808</td>\n",
       "      <td>94</td>\n",
       "      <td>3356</td>\n",
       "      <td>250</td>\n",
       "      <td>3126</td>\n",
       "      <td>0</td>\n",
       "    </tr>\n",
       "    <tr>\n",
       "      <th>Recovered</th>\n",
       "      <td>2712513</td>\n",
       "      <td>2510</td>\n",
       "      <td>312687</td>\n",
       "      <td>2754</td>\n",
       "      <td>82511</td>\n",
       "      <td>115074</td>\n",
       "      <td>2248</td>\n",
       "      <td>15818</td>\n",
       "      <td>1989</td>\n",
       "      <td>0</td>\n",
       "      <td>...</td>\n",
       "      <td>34091</td>\n",
       "      <td>62971</td>\n",
       "      <td>1196</td>\n",
       "      <td>355727</td>\n",
       "      <td>89350</td>\n",
       "      <td>7037</td>\n",
       "      <td>162741</td>\n",
       "      <td>12524</td>\n",
       "      <td>127644</td>\n",
       "      <td>0</td>\n",
       "    </tr>\n",
       "  </tbody>\n",
       "</table>\n",
       "<p>3 rows × 39 columns</p>\n",
       "</div>"
      ],
      "text/plain": [
       "                TT    AN      AP    AR      AS      BR    CH     CT    DN  DD  \\\n",
       "Status                                                                          \n",
       "Confirmed  3539085  3077  414164  3877  103693  132935  3985  28746  2310   0   \n",
       "Deceased     63668    44    3796     7     293     679    45    262     2   0   \n",
       "Recovered  2712513  2510  312687  2754   82511  115074  2248  15818  1989   0   \n",
       "\n",
       "           ...     PB     RJ    SK      TN      TG     TR      UP     UT  \\\n",
       "Status     ...                                                             \n",
       "Confirmed  ...  50848  78777  1615  415590  119656  10876  219457  18571   \n",
       "Deceased   ...   1348   1030     3    7137     808     94    3356    250   \n",
       "Recovered  ...  34091  62971  1196  355727   89350   7037  162741  12524   \n",
       "\n",
       "               WB  UN  \n",
       "Status                 \n",
       "Confirmed  156766   0  \n",
       "Deceased     3126   0  \n",
       "Recovered  127644   0  \n",
       "\n",
       "[3 rows x 39 columns]"
      ]
     },
     "execution_count": 6,
     "metadata": {},
     "output_type": "execute_result"
    }
   ],
   "source": [
    "#hide\n",
    "df_today"
   ]
  },
  {
   "cell_type": "code",
   "execution_count": 7,
   "metadata": {
    "execution": {
     "iopub.execute_input": "2020-08-29T19:11:26.344440Z",
     "iopub.status.busy": "2020-08-29T19:11:26.343753Z",
     "iopub.status.idle": "2020-08-29T19:11:26.346535Z",
     "shell.execute_reply": "2020-08-29T19:11:26.347160Z"
    },
    "papermill": {
     "duration": 0.036192,
     "end_time": "2020-08-29T19:11:26.347319",
     "exception": false,
     "start_time": "2020-08-29T19:11:26.311127",
     "status": "completed"
    },
    "tags": []
   },
   "outputs": [
    {
     "data": {
      "text/html": [
       "<div>\n",
       "<style scoped>\n",
       "    .dataframe tbody tr th:only-of-type {\n",
       "        vertical-align: middle;\n",
       "    }\n",
       "\n",
       "    .dataframe tbody tr th {\n",
       "        vertical-align: top;\n",
       "    }\n",
       "\n",
       "    .dataframe thead th {\n",
       "        text-align: right;\n",
       "    }\n",
       "</style>\n",
       "<table border=\"1\" class=\"dataframe\">\n",
       "  <thead>\n",
       "    <tr style=\"text-align: right;\">\n",
       "      <th></th>\n",
       "      <th>TT</th>\n",
       "      <th>AN</th>\n",
       "      <th>AP</th>\n",
       "      <th>AR</th>\n",
       "      <th>AS</th>\n",
       "      <th>BR</th>\n",
       "      <th>CH</th>\n",
       "      <th>CT</th>\n",
       "      <th>DN</th>\n",
       "      <th>DD</th>\n",
       "      <th>...</th>\n",
       "      <th>PB</th>\n",
       "      <th>RJ</th>\n",
       "      <th>SK</th>\n",
       "      <th>TN</th>\n",
       "      <th>TG</th>\n",
       "      <th>TR</th>\n",
       "      <th>UP</th>\n",
       "      <th>UT</th>\n",
       "      <th>WB</th>\n",
       "      <th>UN</th>\n",
       "    </tr>\n",
       "    <tr>\n",
       "      <th>Status</th>\n",
       "      <th></th>\n",
       "      <th></th>\n",
       "      <th></th>\n",
       "      <th></th>\n",
       "      <th></th>\n",
       "      <th></th>\n",
       "      <th></th>\n",
       "      <th></th>\n",
       "      <th></th>\n",
       "      <th></th>\n",
       "      <th></th>\n",
       "      <th></th>\n",
       "      <th></th>\n",
       "      <th></th>\n",
       "      <th></th>\n",
       "      <th></th>\n",
       "      <th></th>\n",
       "      <th></th>\n",
       "      <th></th>\n",
       "      <th></th>\n",
       "      <th></th>\n",
       "    </tr>\n",
       "  </thead>\n",
       "  <tbody>\n",
       "    <tr>\n",
       "      <th>Confirmed</th>\n",
       "      <td>3460606</td>\n",
       "      <td>3046</td>\n",
       "      <td>403616</td>\n",
       "      <td>3745</td>\n",
       "      <td>101266</td>\n",
       "      <td>130848</td>\n",
       "      <td>3724</td>\n",
       "      <td>27233</td>\n",
       "      <td>2295</td>\n",
       "      <td>0</td>\n",
       "      <td>...</td>\n",
       "      <td>49378</td>\n",
       "      <td>77370</td>\n",
       "      <td>1589</td>\n",
       "      <td>409238</td>\n",
       "      <td>116905</td>\n",
       "      <td>10433</td>\n",
       "      <td>213824</td>\n",
       "      <td>17865</td>\n",
       "      <td>153754</td>\n",
       "      <td>0</td>\n",
       "    </tr>\n",
       "    <tr>\n",
       "      <th>Deceased</th>\n",
       "      <td>62725</td>\n",
       "      <td>42</td>\n",
       "      <td>3714</td>\n",
       "      <td>7</td>\n",
       "      <td>290</td>\n",
       "      <td>674</td>\n",
       "      <td>45</td>\n",
       "      <td>251</td>\n",
       "      <td>2</td>\n",
       "      <td>0</td>\n",
       "      <td>...</td>\n",
       "      <td>1307</td>\n",
       "      <td>1017</td>\n",
       "      <td>3</td>\n",
       "      <td>7050</td>\n",
       "      <td>799</td>\n",
       "      <td>89</td>\n",
       "      <td>3294</td>\n",
       "      <td>239</td>\n",
       "      <td>3073</td>\n",
       "      <td>0</td>\n",
       "    </tr>\n",
       "    <tr>\n",
       "      <th>Recovered</th>\n",
       "      <td>2647531</td>\n",
       "      <td>2435</td>\n",
       "      <td>303711</td>\n",
       "      <td>2709</td>\n",
       "      <td>81071</td>\n",
       "      <td>112445</td>\n",
       "      <td>2107</td>\n",
       "      <td>15109</td>\n",
       "      <td>1960</td>\n",
       "      <td>0</td>\n",
       "      <td>...</td>\n",
       "      <td>33008</td>\n",
       "      <td>62033</td>\n",
       "      <td>1185</td>\n",
       "      <td>349682</td>\n",
       "      <td>87675</td>\n",
       "      <td>6839</td>\n",
       "      <td>157879</td>\n",
       "      <td>12124</td>\n",
       "      <td>124332</td>\n",
       "      <td>0</td>\n",
       "    </tr>\n",
       "  </tbody>\n",
       "</table>\n",
       "<p>3 rows × 39 columns</p>\n",
       "</div>"
      ],
      "text/plain": [
       "                TT    AN      AP    AR      AS      BR    CH     CT    DN  DD  \\\n",
       "Status                                                                          \n",
       "Confirmed  3460606  3046  403616  3745  101266  130848  3724  27233  2295   0   \n",
       "Deceased     62725    42    3714     7     290     674    45    251     2   0   \n",
       "Recovered  2647531  2435  303711  2709   81071  112445  2107  15109  1960   0   \n",
       "\n",
       "           ...     PB     RJ    SK      TN      TG     TR      UP     UT  \\\n",
       "Status     ...                                                             \n",
       "Confirmed  ...  49378  77370  1589  409238  116905  10433  213824  17865   \n",
       "Deceased   ...   1307   1017     3    7050     799     89    3294    239   \n",
       "Recovered  ...  33008  62033  1185  349682   87675   6839  157879  12124   \n",
       "\n",
       "               WB  UN  \n",
       "Status                 \n",
       "Confirmed  153754   0  \n",
       "Deceased     3073   0  \n",
       "Recovered  124332   0  \n",
       "\n",
       "[3 rows x 39 columns]"
      ]
     },
     "execution_count": 7,
     "metadata": {},
     "output_type": "execute_result"
    }
   ],
   "source": [
    "#hide\n",
    "df_yday.head()"
   ]
  },
  {
   "cell_type": "code",
   "execution_count": 8,
   "metadata": {
    "execution": {
     "iopub.execute_input": "2020-08-29T19:11:26.391838Z",
     "iopub.status.busy": "2020-08-29T19:11:26.391084Z",
     "iopub.status.idle": "2020-08-29T19:11:26.394821Z",
     "shell.execute_reply": "2020-08-29T19:11:26.394205Z"
    },
    "papermill": {
     "duration": 0.029831,
     "end_time": "2020-08-29T19:11:26.394955",
     "exception": false,
     "start_time": "2020-08-29T19:11:26.365124",
     "status": "completed"
    },
    "tags": []
   },
   "outputs": [
    {
     "data": {
      "text/plain": [
       "{'updated': '29-Aug-20',\n",
       " 'since': '28-Aug-20',\n",
       " 'Cases': 3539085,\n",
       " 'Deaths': 63668,\n",
       " 'Recovered': 2712513,\n",
       " 'PCases': 3460606,\n",
       " 'PDeaths': 62725,\n",
       " 'PRecovered': 2647531,\n",
       " 'Cases (+)': 78479,\n",
       " 'Deaths (+)': 943,\n",
       " 'Recovered (+)': 64982}"
      ]
     },
     "execution_count": 8,
     "metadata": {},
     "output_type": "execute_result"
    }
   ],
   "source": [
    "#hide\n",
    "summary = {\n",
    "    'updated' : dt_today,\n",
    "    'since' : dt_yday,\n",
    "    'Cases' : df_today['TT'][0],\n",
    "    'Deaths' : df_today['TT'][1],\n",
    "    'Recovered' : df_today['TT'][2],\n",
    "    'PCases' : df_yday['TT'][0],\n",
    "    'PDeaths' : df_yday['TT'][1],\n",
    "    'PRecovered': df_yday['TT'][2],\n",
    "    'Cases (+)' : df_today['TT'][0] - df_yday['TT'][0],\n",
    "    'Deaths (+)' : df_today['TT'][1] - df_yday['TT'][1],\n",
    "    'Recovered (+)': df_today['TT'][2] - df_yday['TT'][2]\n",
    "}\n",
    "\n",
    "summary"
   ]
  },
  {
   "cell_type": "code",
   "execution_count": 9,
   "metadata": {
    "execution": {
     "iopub.execute_input": "2020-08-29T19:11:26.431745Z",
     "iopub.status.busy": "2020-08-29T19:11:26.430892Z",
     "iopub.status.idle": "2020-08-29T19:11:26.433781Z",
     "shell.execute_reply": "2020-08-29T19:11:26.433096Z"
    },
    "papermill": {
     "duration": 0.022841,
     "end_time": "2020-08-29T19:11:26.434048",
     "exception": false,
     "start_time": "2020-08-29T19:11:26.411207",
     "status": "completed"
    },
    "tags": []
   },
   "outputs": [],
   "source": [
    "#hide\n",
    "overview = '''\n",
    "<!-- #######  HTML!! #########-->\n",
    "<h1 style=\"color: #5e9ca0; text-align: center;\">India</h1>\n",
    "<p style=\"text-align: center;\">Last update: <strong>{update}</strong></p>\n",
    "<p style=\"text-align: center;\">Confirmed cases:</p>\n",
    "<p style=\"text-align: center;font-size:24px;\">{cases} (<span style=\"color: #ff0000;\">+{new}</span>)</p>\n",
    "<p style=\"text-align: center;\">Confirmed deaths:</p>\n",
    "<p style=\"text-align: center;font-size:24px;\">{deaths} (<span style=\"color: #ff0000;\">+{dnew}</span>)</p>\n",
    "<p style=\"text-align: center;\">Recovered cases:</p>\n",
    "<p style=\"text-align: center;font-size:24px;\">{recovered} (<span style=\"color: #00ff00;\">+{rnew}</span>)</p>\n",
    "'''"
   ]
  },
  {
   "cell_type": "code",
   "execution_count": 10,
   "metadata": {
    "execution": {
     "iopub.execute_input": "2020-08-29T19:11:26.474919Z",
     "iopub.status.busy": "2020-08-29T19:11:26.474305Z",
     "iopub.status.idle": "2020-08-29T19:11:26.477978Z",
     "shell.execute_reply": "2020-08-29T19:11:26.477452Z"
    },
    "papermill": {
     "duration": 0.026461,
     "end_time": "2020-08-29T19:11:26.478104",
     "exception": false,
     "start_time": "2020-08-29T19:11:26.451643",
     "status": "completed"
    },
    "tags": []
   },
   "outputs": [
    {
     "data": {
      "text/html": [
       "\n",
       "<!-- #######  HTML!! #########-->\n",
       "<h1 style=\"color: #5e9ca0; text-align: center;\">India</h1>\n",
       "<p style=\"text-align: center;\">Last update: <strong>29-Aug-20</strong></p>\n",
       "<p style=\"text-align: center;\">Confirmed cases:</p>\n",
       "<p style=\"text-align: center;font-size:24px;\">3539085 (<span style=\"color: #ff0000;\">+78479</span>)</p>\n",
       "<p style=\"text-align: center;\">Confirmed deaths:</p>\n",
       "<p style=\"text-align: center;font-size:24px;\">63668 (<span style=\"color: #ff0000;\">+943</span>)</p>\n",
       "<p style=\"text-align: center;\">Recovered cases:</p>\n",
       "<p style=\"text-align: center;font-size:24px;\">2712513 (<span style=\"color: #00ff00;\">+64982</span>)</p>\n"
      ],
      "text/plain": [
       "<IPython.core.display.HTML object>"
      ]
     },
     "metadata": {},
     "output_type": "display_data"
    }
   ],
   "source": [
    "#hide_input\n",
    "# Fill the above HTML with the information from the summary dictionary\n",
    "\n",
    "update = summary['updated']\n",
    "cases = summary['Cases']\n",
    "new = summary['Cases (+)']\n",
    "deaths = summary['Deaths']\n",
    "dnew = summary['Deaths (+)']\n",
    "recovered = summary['Recovered']\n",
    "rnew = summary['Recovered (+)']\n",
    "\n",
    "html = HTML(overview.format(update=update, cases=cases,new=new,deaths=deaths,dnew=dnew, recovered=recovered, rnew=rnew))\n",
    "\n",
    "display(html)"
   ]
  },
  {
   "cell_type": "code",
   "execution_count": 11,
   "metadata": {
    "execution": {
     "iopub.execute_input": "2020-08-29T19:11:26.521091Z",
     "iopub.status.busy": "2020-08-29T19:11:26.520328Z",
     "iopub.status.idle": "2020-08-29T19:11:26.528401Z",
     "shell.execute_reply": "2020-08-29T19:11:26.528948Z"
    },
    "papermill": {
     "duration": 0.035291,
     "end_time": "2020-08-29T19:11:26.529148",
     "exception": false,
     "start_time": "2020-08-29T19:11:26.493857",
     "status": "completed"
    },
    "tags": []
   },
   "outputs": [],
   "source": [
    "#hide\n",
    "df_cases = df[df['Status'] == 'Confirmed'].copy()\n",
    "df_cases.drop(columns = ['Status'], inplace=True)\n",
    "df_deaths = df[df['Status'] == 'Deceased'].copy()\n",
    "df_deaths.drop(columns = ['Status'], inplace=True)\n",
    "df_recovered = df[df['Status'] == 'Recovered'].copy()\n",
    "df_recovered.drop(columns = ['Status'], inplace=True)"
   ]
  },
  {
   "cell_type": "markdown",
   "metadata": {
    "papermill": {
     "duration": 0.016446,
     "end_time": "2020-08-29T19:11:26.562526",
     "exception": false,
     "start_time": "2020-08-29T19:11:26.546080",
     "status": "completed"
    },
    "tags": []
   },
   "source": [
    "Plot for India:"
   ]
  },
  {
   "cell_type": "code",
   "execution_count": 12,
   "metadata": {
    "execution": {
     "iopub.execute_input": "2020-08-29T19:11:26.618755Z",
     "iopub.status.busy": "2020-08-29T19:11:26.617915Z",
     "iopub.status.idle": "2020-08-29T19:11:26.920288Z",
     "shell.execute_reply": "2020-08-29T19:11:26.920882Z"
    },
    "papermill": {
     "duration": 0.343431,
     "end_time": "2020-08-29T19:11:26.921101",
     "exception": false,
     "start_time": "2020-08-29T19:11:26.577670",
     "status": "completed"
    },
    "tags": []
   },
   "outputs": [
    {
     "data": {
      "image/png": "[encoded data removed]",
      "text/plain": [
       "<Figure size 1296x432 with 1 Axes>"
      ]
     },
     "metadata": {
      "needs_background": "light"
     },
     "output_type": "display_data"
    }
   ],
   "source": [
    "#hide_input\n",
    "plt.figure(figsize = (18,6))\n",
    "plt.plot(df_cases['Date'], df_cases['TT'],'.-', alpha=0.7, color='b', label='Confirmed cases')\n",
    "plt.plot(df_recovered['Date'], df_recovered['TT'],'.-', alpha=0.7, color='g', label='Recovered')\n",
    "plt.plot(df_deaths['Date'], df_deaths['TT'],'.-', alpha=0.7, color='r', label='Deceased')\n",
    "plt.legend()\n",
    "plt.title(\"Cases per day in India\")\n",
    "plt.xticks(ticks=' ')\n",
    "plt.xlabel(f'{df_cases.iloc[0][0]} to {df_cases.iloc[-1][0]}')\n",
    "plt.ylabel('No. of cases');"
   ]
  },
  {
   "cell_type": "markdown",
   "metadata": {
    "papermill": {
     "duration": 0.017835,
     "end_time": "2020-08-29T19:11:26.958858",
     "exception": false,
     "start_time": "2020-08-29T19:11:26.941023",
     "status": "completed"
    },
    "tags": []
   },
   "source": [
    "Plots for the states with highest number of cases:"
   ]
  },
  {
   "cell_type": "code",
   "execution_count": 13,
   "metadata": {
    "execution": {
     "iopub.execute_input": "2020-08-29T19:11:27.004221Z",
     "iopub.status.busy": "2020-08-29T19:11:27.003501Z",
     "iopub.status.idle": "2020-08-29T19:11:27.687760Z",
     "shell.execute_reply": "2020-08-29T19:11:27.687263Z"
    },
    "papermill": {
     "duration": 0.712019,
     "end_time": "2020-08-29T19:11:27.687902",
     "exception": false,
     "start_time": "2020-08-29T19:11:26.975883",
     "status": "completed"
    },
    "tags": []
   },
   "outputs": [
    {
     "data": {
      "image/png": "[encoded data removed]",
      "text/plain": [
       "<Figure size 1512x432 with 3 Axes>"
      ]
     },
     "metadata": {
      "needs_background": "light"
     },
     "output_type": "display_data"
    }
   ],
   "source": [
    "#hide_input\n",
    "top_3 = sorted(df_cases.sum().values[1:], reverse=True)[1:4]\n",
    "top3_states=[]\n",
    "for i in top_3:\n",
    "    top3_states.append(df_cases.sum()[df_cases.sum() == i].index)\n",
    "\n",
    "\n",
    "fig, ax = plt.subplots(1,3,figsize = (21,6))\n",
    "for i in range(3):\n",
    "    state = top3_states[i].values[0]\n",
    "    ax[i].plot(df_cases['Date'], df_cases[state],'.-', color='b', alpha=0.7)\n",
    "    ax[i].plot(df_deaths['Date'], df_deaths[state],'.-', color='r', alpha=0.7)\n",
    "    ax[i].plot(df_recovered['Date'], df_recovered[state],'.-', color='g', alpha=0.7)\n",
    "    \n",
    "    ax[i].set_title(f\"Cases in {state}\")\n",
    "    ax[i].set_xticks(ticks=' ')\n",
    "    ax[i].set_xlabel(f'{df_cases.iloc[0][0]} to {df_cases.iloc[-1][0]}')\n",
    "    ax[i].set_ylabel('No. of cases');"
   ]
  },
  {
   "cell_type": "code",
   "execution_count": null,
   "metadata": {
    "papermill": {
     "duration": 0.02192,
     "end_time": "2020-08-29T19:11:27.731164",
     "exception": false,
     "start_time": "2020-08-29T19:11:27.709244",
     "status": "completed"
    },
    "tags": []
   },
   "outputs": [],
   "source": []
  },
  {
   "cell_type": "code",
   "execution_count": null,
   "metadata": {
    "papermill": {
     "duration": 0.021184,
     "end_time": "2020-08-29T19:11:27.774293",
     "exception": false,
     "start_time": "2020-08-29T19:11:27.753109",
     "status": "completed"
    },
    "tags": []
   },
   "outputs": [],
   "source": []
  },
  {
   "cell_type": "code",
   "execution_count": null,
   "metadata": {
    "papermill": {
     "duration": 0.021733,
     "end_time": "2020-08-29T19:11:27.817439",
     "exception": false,
     "start_time": "2020-08-29T19:11:27.795706",
     "status": "completed"
    },
    "tags": []
   },
   "outputs": [],
   "source": []
  }
 ],
 "metadata": {
  "kernelspec": {
   "display_name": "Python 3",
   "language": "python",
   "name": "python3"
  },
  "language_info": {
   "codemirror_mode": {
    "name": "ipython",
    "version": 3
   },
   "file_extension": ".py",
   "mimetype": "text/x-python",
   "name": "python",
   "nbconvert_exporter": "python",
   "pygments_lexer": "ipython3",
   "version": "3.6.11"
  },
  "papermill": {
   "duration": 4.547122,
   "end_time": "2020-08-29T19:11:28.147484",
   "environment_variables": {},
   "exception": null,
   "input_path": "2020-08-09-DailyUpdate.ipynb",
   "output_path": "2020-08-09-DailyUpdate.ipynb",
   "parameters": {},
   "start_time": "2020-08-29T19:11:23.600362",
   "version": "2.1.2"
  }
 },
 "nbformat": 4,
 "nbformat_minor": 4
}