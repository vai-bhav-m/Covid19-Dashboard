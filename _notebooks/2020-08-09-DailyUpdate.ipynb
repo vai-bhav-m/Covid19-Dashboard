{
 "cells": [
  {
   "cell_type": "markdown",
   "metadata": {
    "papermill": {
     "duration": 0.018743,
     "end_time": "2020-10-08T19:13:25.778857",
     "exception": false,
     "start_time": "2020-10-08T19:13:25.760114",
     "status": "completed"
    },
    "tags": []
   },
   "source": [
    "# COVID-19 India Daily updates\n",
    "> Tracking coronavirus total cases, deaths and new cases in India on a daily basis\n",
    "\n",
    "- author: Vaibhav Mahapatra"
   ]
  },
  {
   "cell_type": "code",
   "execution_count": 1,
   "metadata": {
    "execution": {
     "iopub.execute_input": "2020-10-08T19:13:25.814216Z",
     "iopub.status.busy": "2020-10-08T19:13:25.813558Z",
     "iopub.status.idle": "2020-10-08T19:13:26.421782Z",
     "shell.execute_reply": "2020-10-08T19:13:26.420674Z"
    },
    "papermill": {
     "duration": 0.628539,
     "end_time": "2020-10-08T19:13:26.421946",
     "exception": false,
     "start_time": "2020-10-08T19:13:25.793407",
     "status": "completed"
    },
    "tags": []
   },
   "outputs": [],
   "source": [
    "#hide\n",
    "\n",
    "## Import essential packages below\n",
    "\n",
    "import pandas as pd\n",
    "import numpy as np\n",
    "import requests\n",
    "import json\n",
    "import matplotlib.pyplot as plt\n",
    "import matplotlib.dates as mdates\n",
    "import matplotlib as mpl\n",
    "from IPython.core.display import display,HTML\n",
    "%matplotlib inline"
   ]
  },
  {
   "cell_type": "code",
   "execution_count": 2,
   "metadata": {
    "execution": {
     "iopub.execute_input": "2020-10-08T19:13:26.453016Z",
     "iopub.status.busy": "2020-10-08T19:13:26.451911Z",
     "iopub.status.idle": "2020-10-08T19:13:26.569542Z",
     "shell.execute_reply": "2020-10-08T19:13:26.570014Z"
    },
    "papermill": {
     "duration": 0.136171,
     "end_time": "2020-10-08T19:13:26.570167",
     "exception": false,
     "start_time": "2020-10-08T19:13:26.433996",
     "status": "completed"
    },
    "tags": []
   },
   "outputs": [
    {
     "data": {
      "text/plain": [
       "(627, 41)"
      ]
     },
     "execution_count": 2,
     "metadata": {},
     "output_type": "execute_result"
    }
   ],
   "source": [
    "#hide\n",
    "url = 'https://api.covid19india.org/csv/latest/state_wise_daily.csv'\n",
    "df = pd.read_csv(url)\n",
    "df.shape"
   ]
  },
  {
   "cell_type": "code",
   "execution_count": 3,
   "metadata": {
    "execution": {
     "iopub.execute_input": "2020-10-08T19:13:26.651959Z",
     "iopub.status.busy": "2020-10-08T19:13:26.650939Z",
     "iopub.status.idle": "2020-10-08T19:13:26.661010Z",
     "shell.execute_reply": "2020-10-08T19:13:26.661476Z"
    },
    "papermill": {
     "duration": 0.078754,
     "end_time": "2020-10-08T19:13:26.661631",
     "exception": false,
     "start_time": "2020-10-08T19:13:26.582877",
     "status": "completed"
    },
    "tags": []
   },
   "outputs": [
    {
     "data": {
      "text/html": [
       "<div>\n",
       "<style scoped>\n",
       "    .dataframe tbody tr th:only-of-type {\n",
       "        vertical-align: middle;\n",
       "    }\n",
       "\n",
       "    .dataframe tbody tr th {\n",
       "        vertical-align: top;\n",
       "    }\n",
       "\n",
       "    .dataframe thead th {\n",
       "        text-align: right;\n",
       "    }\n",
       "</style>\n",
       "<table border=\"1\" class=\"dataframe\">\n",
       "  <thead>\n",
       "    <tr style=\"text-align: right;\">\n",
       "      <th></th>\n",
       "      <th>Date</th>\n",
       "      <th>Status</th>\n",
       "      <th>TT</th>\n",
       "      <th>AN</th>\n",
       "      <th>AP</th>\n",
       "      <th>AR</th>\n",
       "      <th>AS</th>\n",
       "      <th>BR</th>\n",
       "      <th>CH</th>\n",
       "      <th>CT</th>\n",
       "      <th>...</th>\n",
       "      <th>PB</th>\n",
       "      <th>RJ</th>\n",
       "      <th>SK</th>\n",
       "      <th>TN</th>\n",
       "      <th>TG</th>\n",
       "      <th>TR</th>\n",
       "      <th>UP</th>\n",
       "      <th>UT</th>\n",
       "      <th>WB</th>\n",
       "      <th>UN</th>\n",
       "    </tr>\n",
       "  </thead>\n",
       "  <tbody>\n",
       "    <tr>\n",
       "      <th>621</th>\n",
       "      <td>07-Oct-20</td>\n",
       "      <td>Confirmed</td>\n",
       "      <td>78809</td>\n",
       "      <td>23</td>\n",
       "      <td>5120</td>\n",
       "      <td>260</td>\n",
       "      <td>1307</td>\n",
       "      <td>1304</td>\n",
       "      <td>113</td>\n",
       "      <td>2846</td>\n",
       "      <td>...</td>\n",
       "      <td>852</td>\n",
       "      <td>2151</td>\n",
       "      <td>99</td>\n",
       "      <td>5447</td>\n",
       "      <td>2154</td>\n",
       "      <td>237</td>\n",
       "      <td>3389</td>\n",
       "      <td>630</td>\n",
       "      <td>3455</td>\n",
       "      <td>0</td>\n",
       "    </tr>\n",
       "    <tr>\n",
       "      <th>622</th>\n",
       "      <td>07-Oct-20</td>\n",
       "      <td>Recovered</td>\n",
       "      <td>83209</td>\n",
       "      <td>18</td>\n",
       "      <td>6349</td>\n",
       "      <td>431</td>\n",
       "      <td>2561</td>\n",
       "      <td>1422</td>\n",
       "      <td>155</td>\n",
       "      <td>3277</td>\n",
       "      <td>...</td>\n",
       "      <td>1230</td>\n",
       "      <td>2078</td>\n",
       "      <td>28</td>\n",
       "      <td>5524</td>\n",
       "      <td>2239</td>\n",
       "      <td>546</td>\n",
       "      <td>4219</td>\n",
       "      <td>663</td>\n",
       "      <td>3024</td>\n",
       "      <td>0</td>\n",
       "    </tr>\n",
       "    <tr>\n",
       "      <th>623</th>\n",
       "      <td>07-Oct-20</td>\n",
       "      <td>Deceased</td>\n",
       "      <td>963</td>\n",
       "      <td>0</td>\n",
       "      <td>34</td>\n",
       "      <td>1</td>\n",
       "      <td>7</td>\n",
       "      <td>2</td>\n",
       "      <td>2</td>\n",
       "      <td>30</td>\n",
       "      <td>...</td>\n",
       "      <td>33</td>\n",
       "      <td>16</td>\n",
       "      <td>2</td>\n",
       "      <td>67</td>\n",
       "      <td>8</td>\n",
       "      <td>0</td>\n",
       "      <td>47</td>\n",
       "      <td>11</td>\n",
       "      <td>58</td>\n",
       "      <td>0</td>\n",
       "    </tr>\n",
       "    <tr>\n",
       "      <th>624</th>\n",
       "      <td>08-Oct-20</td>\n",
       "      <td>Confirmed</td>\n",
       "      <td>69887</td>\n",
       "      <td>0</td>\n",
       "      <td>5292</td>\n",
       "      <td>0</td>\n",
       "      <td>1188</td>\n",
       "      <td>1244</td>\n",
       "      <td>102</td>\n",
       "      <td>2873</td>\n",
       "      <td>...</td>\n",
       "      <td>848</td>\n",
       "      <td>2138</td>\n",
       "      <td>0</td>\n",
       "      <td>5088</td>\n",
       "      <td>1896</td>\n",
       "      <td>214</td>\n",
       "      <td>3133</td>\n",
       "      <td>0</td>\n",
       "      <td>3526</td>\n",
       "      <td>0</td>\n",
       "    </tr>\n",
       "    <tr>\n",
       "      <th>625</th>\n",
       "      <td>08-Oct-20</td>\n",
       "      <td>Recovered</td>\n",
       "      <td>77248</td>\n",
       "      <td>0</td>\n",
       "      <td>6102</td>\n",
       "      <td>0</td>\n",
       "      <td>2198</td>\n",
       "      <td>1006</td>\n",
       "      <td>154</td>\n",
       "      <td>2199</td>\n",
       "      <td>...</td>\n",
       "      <td>1615</td>\n",
       "      <td>2092</td>\n",
       "      <td>0</td>\n",
       "      <td>5718</td>\n",
       "      <td>2067</td>\n",
       "      <td>389</td>\n",
       "      <td>3690</td>\n",
       "      <td>0</td>\n",
       "      <td>2970</td>\n",
       "      <td>0</td>\n",
       "    </tr>\n",
       "    <tr>\n",
       "      <th>626</th>\n",
       "      <td>08-Oct-20</td>\n",
       "      <td>Deceased</td>\n",
       "      <td>980</td>\n",
       "      <td>0</td>\n",
       "      <td>42</td>\n",
       "      <td>0</td>\n",
       "      <td>9</td>\n",
       "      <td>2</td>\n",
       "      <td>4</td>\n",
       "      <td>24</td>\n",
       "      <td>...</td>\n",
       "      <td>29</td>\n",
       "      <td>15</td>\n",
       "      <td>0</td>\n",
       "      <td>68</td>\n",
       "      <td>12</td>\n",
       "      <td>3</td>\n",
       "      <td>45</td>\n",
       "      <td>0</td>\n",
       "      <td>63</td>\n",
       "      <td>0</td>\n",
       "    </tr>\n",
       "  </tbody>\n",
       "</table>\n",
       "<p>6 rows × 41 columns</p>\n",
       "</div>"
      ],
      "text/plain": [
       "          Date     Status     TT  AN    AP   AR    AS    BR   CH    CT  ...  \\\n",
       "621  07-Oct-20  Confirmed  78809  23  5120  260  1307  1304  113  2846  ...   \n",
       "622  07-Oct-20  Recovered  83209  18  6349  431  2561  1422  155  3277  ...   \n",
       "623  07-Oct-20   Deceased    963   0    34    1     7     2    2    30  ...   \n",
       "624  08-Oct-20  Confirmed  69887   0  5292    0  1188  1244  102  2873  ...   \n",
       "625  08-Oct-20  Recovered  77248   0  6102    0  2198  1006  154  2199  ...   \n",
       "626  08-Oct-20   Deceased    980   0    42    0     9     2    4    24  ...   \n",
       "\n",
       "       PB    RJ  SK    TN    TG   TR    UP   UT    WB  UN  \n",
       "621   852  2151  99  5447  2154  237  3389  630  3455   0  \n",
       "622  1230  2078  28  5524  2239  546  4219  663  3024   0  \n",
       "623    33    16   2    67     8    0    47   11    58   0  \n",
       "624   848  2138   0  5088  1896  214  3133    0  3526   0  \n",
       "625  1615  2092   0  5718  2067  389  3690    0  2970   0  \n",
       "626    29    15   0    68    12    3    45    0    63   0  \n",
       "\n",
       "[6 rows x 41 columns]"
      ]
     },
     "execution_count": 3,
     "metadata": {},
     "output_type": "execute_result"
    }
   ],
   "source": [
    "#hide\n",
    "df.tail(6)"
   ]
  },
  {
   "cell_type": "code",
   "execution_count": 4,
   "metadata": {
    "execution": {
     "iopub.execute_input": "2020-10-08T19:13:26.695746Z",
     "iopub.status.busy": "2020-10-08T19:13:26.694980Z",
     "iopub.status.idle": "2020-10-08T19:13:26.697574Z",
     "shell.execute_reply": "2020-10-08T19:13:26.698166Z"
    },
    "papermill": {
     "duration": 0.023681,
     "end_time": "2020-10-08T19:13:26.698345",
     "exception": false,
     "start_time": "2020-10-08T19:13:26.674664",
     "status": "completed"
    },
    "tags": []
   },
   "outputs": [
    {
     "data": {
      "text/plain": [
       "('08-Oct-20', '07-Oct-20')"
      ]
     },
     "execution_count": 4,
     "metadata": {},
     "output_type": "execute_result"
    }
   ],
   "source": [
    "#hide\n",
    "dt_today = df.iloc[-1][0]\n",
    "dt_yday = df.iloc[-4][0]\n",
    "dt_today, dt_yday"
   ]
  },
  {
   "cell_type": "code",
   "execution_count": 5,
   "metadata": {
    "execution": {
     "iopub.execute_input": "2020-10-08T19:13:26.735856Z",
     "iopub.status.busy": "2020-10-08T19:13:26.735269Z",
     "iopub.status.idle": "2020-10-08T19:13:26.744125Z",
     "shell.execute_reply": "2020-10-08T19:13:26.743292Z"
    },
    "papermill": {
     "duration": 0.031973,
     "end_time": "2020-10-08T19:13:26.744334",
     "exception": false,
     "start_time": "2020-10-08T19:13:26.712361",
     "status": "completed"
    },
    "tags": []
   },
   "outputs": [],
   "source": [
    "#hide\n",
    "df_today = df.groupby('Status').sum()\n",
    "df_yday = df.iloc[:-3][:].groupby('Status').sum()"
   ]
  },
  {
   "cell_type": "code",
   "execution_count": 6,
   "metadata": {
    "execution": {
     "iopub.execute_input": "2020-10-08T19:13:26.790449Z",
     "iopub.status.busy": "2020-10-08T19:13:26.786338Z",
     "iopub.status.idle": "2020-10-08T19:13:26.793306Z",
     "shell.execute_reply": "2020-10-08T19:13:26.793856Z"
    },
    "papermill": {
     "duration": 0.034072,
     "end_time": "2020-10-08T19:13:26.794001",
     "exception": false,
     "start_time": "2020-10-08T19:13:26.759929",
     "status": "completed"
    },
    "tags": []
   },
   "outputs": [
    {
     "data": {
      "text/html": [
       "<div>\n",
       "<style scoped>\n",
       "    .dataframe tbody tr th:only-of-type {\n",
       "        vertical-align: middle;\n",
       "    }\n",
       "\n",
       "    .dataframe tbody tr th {\n",
       "        vertical-align: top;\n",
       "    }\n",
       "\n",
       "    .dataframe thead th {\n",
       "        text-align: right;\n",
       "    }\n",
       "</style>\n",
       "<table border=\"1\" class=\"dataframe\">\n",
       "  <thead>\n",
       "    <tr style=\"text-align: right;\">\n",
       "      <th></th>\n",
       "      <th>TT</th>\n",
       "      <th>AN</th>\n",
       "      <th>AP</th>\n",
       "      <th>AR</th>\n",
       "      <th>AS</th>\n",
       "      <th>BR</th>\n",
       "      <th>CH</th>\n",
       "      <th>CT</th>\n",
       "      <th>DN</th>\n",
       "      <th>DD</th>\n",
       "      <th>...</th>\n",
       "      <th>PB</th>\n",
       "      <th>RJ</th>\n",
       "      <th>SK</th>\n",
       "      <th>TN</th>\n",
       "      <th>TG</th>\n",
       "      <th>TR</th>\n",
       "      <th>UP</th>\n",
       "      <th>UT</th>\n",
       "      <th>WB</th>\n",
       "      <th>UN</th>\n",
       "    </tr>\n",
       "    <tr>\n",
       "      <th>Status</th>\n",
       "      <th></th>\n",
       "      <th></th>\n",
       "      <th></th>\n",
       "      <th></th>\n",
       "      <th></th>\n",
       "      <th></th>\n",
       "      <th></th>\n",
       "      <th></th>\n",
       "      <th></th>\n",
       "      <th></th>\n",
       "      <th></th>\n",
       "      <th></th>\n",
       "      <th></th>\n",
       "      <th></th>\n",
       "      <th></th>\n",
       "      <th></th>\n",
       "      <th></th>\n",
       "      <th></th>\n",
       "      <th></th>\n",
       "      <th></th>\n",
       "      <th></th>\n",
       "    </tr>\n",
       "  </thead>\n",
       "  <tbody>\n",
       "    <tr>\n",
       "      <th>Confirmed</th>\n",
       "      <td>6902246</td>\n",
       "      <td>3931</td>\n",
       "      <td>739719</td>\n",
       "      <td>11267</td>\n",
       "      <td>191295</td>\n",
       "      <td>192671</td>\n",
       "      <td>12922</td>\n",
       "      <td>134612</td>\n",
       "      <td>3129</td>\n",
       "      <td>0</td>\n",
       "      <td>...</td>\n",
       "      <td>121716</td>\n",
       "      <td>152605</td>\n",
       "      <td>3247</td>\n",
       "      <td>640943</td>\n",
       "      <td>206134</td>\n",
       "      <td>27756</td>\n",
       "      <td>427459</td>\n",
       "      <td>52959</td>\n",
       "      <td>284030</td>\n",
       "      <td>0</td>\n",
       "    </tr>\n",
       "    <tr>\n",
       "      <th>Deceased</th>\n",
       "      <td>105947</td>\n",
       "      <td>54</td>\n",
       "      <td>6128</td>\n",
       "      <td>21</td>\n",
       "      <td>798</td>\n",
       "      <td>929</td>\n",
       "      <td>186</td>\n",
       "      <td>1158</td>\n",
       "      <td>2</td>\n",
       "      <td>0</td>\n",
       "      <td>...</td>\n",
       "      <td>3741</td>\n",
       "      <td>1605</td>\n",
       "      <td>51</td>\n",
       "      <td>10052</td>\n",
       "      <td>1201</td>\n",
       "      <td>301</td>\n",
       "      <td>6245</td>\n",
       "      <td>688</td>\n",
       "      <td>5439</td>\n",
       "      <td>0</td>\n",
       "    </tr>\n",
       "    <tr>\n",
       "      <th>Recovered</th>\n",
       "      <td>5901688</td>\n",
       "      <td>3687</td>\n",
       "      <td>684930</td>\n",
       "      <td>8396</td>\n",
       "      <td>159833</td>\n",
       "      <td>180357</td>\n",
       "      <td>11344</td>\n",
       "      <td>106027</td>\n",
       "      <td>2983</td>\n",
       "      <td>0</td>\n",
       "      <td>...</td>\n",
       "      <td>107200</td>\n",
       "      <td>129618</td>\n",
       "      <td>2535</td>\n",
       "      <td>586454</td>\n",
       "      <td>179075</td>\n",
       "      <td>23043</td>\n",
       "      <td>378662</td>\n",
       "      <td>43631</td>\n",
       "      <td>249737</td>\n",
       "      <td>0</td>\n",
       "    </tr>\n",
       "  </tbody>\n",
       "</table>\n",
       "<p>3 rows × 39 columns</p>\n",
       "</div>"
      ],
      "text/plain": [
       "                TT    AN      AP     AR      AS      BR     CH      CT    DN  \\\n",
       "Status                                                                         \n",
       "Confirmed  6902246  3931  739719  11267  191295  192671  12922  134612  3129   \n",
       "Deceased    105947    54    6128     21     798     929    186    1158     2   \n",
       "Recovered  5901688  3687  684930   8396  159833  180357  11344  106027  2983   \n",
       "\n",
       "           DD  ...      PB      RJ    SK      TN      TG     TR      UP  \\\n",
       "Status         ...                                                        \n",
       "Confirmed   0  ...  121716  152605  3247  640943  206134  27756  427459   \n",
       "Deceased    0  ...    3741    1605    51   10052    1201    301    6245   \n",
       "Recovered   0  ...  107200  129618  2535  586454  179075  23043  378662   \n",
       "\n",
       "              UT      WB  UN  \n",
       "Status                        \n",
       "Confirmed  52959  284030   0  \n",
       "Deceased     688    5439   0  \n",
       "Recovered  43631  249737   0  \n",
       "\n",
       "[3 rows x 39 columns]"
      ]
     },
     "execution_count": 6,
     "metadata": {},
     "output_type": "execute_result"
    }
   ],
   "source": [
    "#hide\n",
    "df_today"
   ]
  },
  {
   "cell_type": "code",
   "execution_count": 7,
   "metadata": {
    "execution": {
     "iopub.execute_input": "2020-10-08T19:13:26.838242Z",
     "iopub.status.busy": "2020-10-08T19:13:26.837677Z",
     "iopub.status.idle": "2020-10-08T19:13:26.844709Z",
     "shell.execute_reply": "2020-10-08T19:13:26.844242Z"
    },
    "papermill": {
     "duration": 0.037345,
     "end_time": "2020-10-08T19:13:26.844834",
     "exception": false,
     "start_time": "2020-10-08T19:13:26.807489",
     "status": "completed"
    },
    "tags": []
   },
   "outputs": [
    {
     "data": {
      "text/html": [
       "<div>\n",
       "<style scoped>\n",
       "    .dataframe tbody tr th:only-of-type {\n",
       "        vertical-align: middle;\n",
       "    }\n",
       "\n",
       "    .dataframe tbody tr th {\n",
       "        vertical-align: top;\n",
       "    }\n",
       "\n",
       "    .dataframe thead th {\n",
       "        text-align: right;\n",
       "    }\n",
       "</style>\n",
       "<table border=\"1\" class=\"dataframe\">\n",
       "  <thead>\n",
       "    <tr style=\"text-align: right;\">\n",
       "      <th></th>\n",
       "      <th>TT</th>\n",
       "      <th>AN</th>\n",
       "      <th>AP</th>\n",
       "      <th>AR</th>\n",
       "      <th>AS</th>\n",
       "      <th>BR</th>\n",
       "      <th>CH</th>\n",
       "      <th>CT</th>\n",
       "      <th>DN</th>\n",
       "      <th>DD</th>\n",
       "      <th>...</th>\n",
       "      <th>PB</th>\n",
       "      <th>RJ</th>\n",
       "      <th>SK</th>\n",
       "      <th>TN</th>\n",
       "      <th>TG</th>\n",
       "      <th>TR</th>\n",
       "      <th>UP</th>\n",
       "      <th>UT</th>\n",
       "      <th>WB</th>\n",
       "      <th>UN</th>\n",
       "    </tr>\n",
       "    <tr>\n",
       "      <th>Status</th>\n",
       "      <th></th>\n",
       "      <th></th>\n",
       "      <th></th>\n",
       "      <th></th>\n",
       "      <th></th>\n",
       "      <th></th>\n",
       "      <th></th>\n",
       "      <th></th>\n",
       "      <th></th>\n",
       "      <th></th>\n",
       "      <th></th>\n",
       "      <th></th>\n",
       "      <th></th>\n",
       "      <th></th>\n",
       "      <th></th>\n",
       "      <th></th>\n",
       "      <th></th>\n",
       "      <th></th>\n",
       "      <th></th>\n",
       "      <th></th>\n",
       "      <th></th>\n",
       "    </tr>\n",
       "  </thead>\n",
       "  <tbody>\n",
       "    <tr>\n",
       "      <th>Confirmed</th>\n",
       "      <td>6832359</td>\n",
       "      <td>3931</td>\n",
       "      <td>734427</td>\n",
       "      <td>11267</td>\n",
       "      <td>190107</td>\n",
       "      <td>191427</td>\n",
       "      <td>12820</td>\n",
       "      <td>131739</td>\n",
       "      <td>3118</td>\n",
       "      <td>0</td>\n",
       "      <td>...</td>\n",
       "      <td>120868</td>\n",
       "      <td>150467</td>\n",
       "      <td>3247</td>\n",
       "      <td>635855</td>\n",
       "      <td>204238</td>\n",
       "      <td>27542</td>\n",
       "      <td>424326</td>\n",
       "      <td>52959</td>\n",
       "      <td>280504</td>\n",
       "      <td>0</td>\n",
       "    </tr>\n",
       "    <tr>\n",
       "      <th>Deceased</th>\n",
       "      <td>104967</td>\n",
       "      <td>54</td>\n",
       "      <td>6086</td>\n",
       "      <td>21</td>\n",
       "      <td>789</td>\n",
       "      <td>927</td>\n",
       "      <td>182</td>\n",
       "      <td>1134</td>\n",
       "      <td>2</td>\n",
       "      <td>0</td>\n",
       "      <td>...</td>\n",
       "      <td>3712</td>\n",
       "      <td>1590</td>\n",
       "      <td>51</td>\n",
       "      <td>9984</td>\n",
       "      <td>1189</td>\n",
       "      <td>298</td>\n",
       "      <td>6200</td>\n",
       "      <td>688</td>\n",
       "      <td>5376</td>\n",
       "      <td>0</td>\n",
       "    </tr>\n",
       "    <tr>\n",
       "      <th>Recovered</th>\n",
       "      <td>5824440</td>\n",
       "      <td>3687</td>\n",
       "      <td>678828</td>\n",
       "      <td>8396</td>\n",
       "      <td>157635</td>\n",
       "      <td>179351</td>\n",
       "      <td>11190</td>\n",
       "      <td>103828</td>\n",
       "      <td>2968</td>\n",
       "      <td>0</td>\n",
       "      <td>...</td>\n",
       "      <td>105585</td>\n",
       "      <td>127526</td>\n",
       "      <td>2535</td>\n",
       "      <td>580736</td>\n",
       "      <td>177008</td>\n",
       "      <td>22654</td>\n",
       "      <td>374972</td>\n",
       "      <td>43631</td>\n",
       "      <td>246767</td>\n",
       "      <td>0</td>\n",
       "    </tr>\n",
       "  </tbody>\n",
       "</table>\n",
       "<p>3 rows × 39 columns</p>\n",
       "</div>"
      ],
      "text/plain": [
       "                TT    AN      AP     AR      AS      BR     CH      CT    DN  \\\n",
       "Status                                                                         \n",
       "Confirmed  6832359  3931  734427  11267  190107  191427  12820  131739  3118   \n",
       "Deceased    104967    54    6086     21     789     927    182    1134     2   \n",
       "Recovered  5824440  3687  678828   8396  157635  179351  11190  103828  2968   \n",
       "\n",
       "           DD  ...      PB      RJ    SK      TN      TG     TR      UP  \\\n",
       "Status         ...                                                        \n",
       "Confirmed   0  ...  120868  150467  3247  635855  204238  27542  424326   \n",
       "Deceased    0  ...    3712    1590    51    9984    1189    298    6200   \n",
       "Recovered   0  ...  105585  127526  2535  580736  177008  22654  374972   \n",
       "\n",
       "              UT      WB  UN  \n",
       "Status                        \n",
       "Confirmed  52959  280504   0  \n",
       "Deceased     688    5376   0  \n",
       "Recovered  43631  246767   0  \n",
       "\n",
       "[3 rows x 39 columns]"
      ]
     },
     "execution_count": 7,
     "metadata": {},
     "output_type": "execute_result"
    }
   ],
   "source": [
    "#hide\n",
    "df_yday.head()"
   ]
  },
  {
   "cell_type": "code",
   "execution_count": 8,
   "metadata": {
    "execution": {
     "iopub.execute_input": "2020-10-08T19:13:26.884571Z",
     "iopub.status.busy": "2020-10-08T19:13:26.883906Z",
     "iopub.status.idle": "2020-10-08T19:13:26.886369Z",
     "shell.execute_reply": "2020-10-08T19:13:26.887017Z"
    },
    "papermill": {
     "duration": 0.027642,
     "end_time": "2020-10-08T19:13:26.887171",
     "exception": false,
     "start_time": "2020-10-08T19:13:26.859529",
     "status": "completed"
    },
    "tags": []
   },
   "outputs": [
    {
     "data": {
      "text/plain": [
       "{'updated': '08-Oct-20',\n",
       " 'since': '07-Oct-20',\n",
       " 'Cases': 6902246,\n",
       " 'Deaths': 105947,\n",
       " 'Recovered': 5901688,\n",
       " 'PCases': 6832359,\n",
       " 'PDeaths': 104967,\n",
       " 'PRecovered': 5824440,\n",
       " 'Cases (+)': 69887,\n",
       " 'Deaths (+)': 980,\n",
       " 'Recovered (+)': 77248}"
      ]
     },
     "execution_count": 8,
     "metadata": {},
     "output_type": "execute_result"
    }
   ],
   "source": [
    "#hide\n",
    "summary = {\n",
    "    'updated' : dt_today,\n",
    "    'since' : dt_yday,\n",
    "    'Cases' : df_today['TT'][0],\n",
    "    'Deaths' : df_today['TT'][1],\n",
    "    'Recovered' : df_today['TT'][2],\n",
    "    'PCases' : df_yday['TT'][0],\n",
    "    'PDeaths' : df_yday['TT'][1],\n",
    "    'PRecovered': df_yday['TT'][2],\n",
    "    'Cases (+)' : df_today['TT'][0] - df_yday['TT'][0],\n",
    "    'Deaths (+)' : df_today['TT'][1] - df_yday['TT'][1],\n",
    "    'Recovered (+)': df_today['TT'][2] - df_yday['TT'][2]\n",
    "}\n",
    "\n",
    "summary"
   ]
  },
  {
   "cell_type": "code",
   "execution_count": 9,
   "metadata": {
    "execution": {
     "iopub.execute_input": "2020-10-08T19:13:26.925133Z",
     "iopub.status.busy": "2020-10-08T19:13:26.924524Z",
     "iopub.status.idle": "2020-10-08T19:13:26.926855Z",
     "shell.execute_reply": "2020-10-08T19:13:26.926264Z"
    },
    "papermill": {
     "duration": 0.024153,
     "end_time": "2020-10-08T19:13:26.926986",
     "exception": false,
     "start_time": "2020-10-08T19:13:26.902833",
     "status": "completed"
    },
    "tags": []
   },
   "outputs": [],
   "source": [
    "#hide\n",
    "overview = '''\n",
    "<!-- #######  HTML!! #########-->\n",
    "<h1 style=\"color: #5e9ca0; text-align: center;\">India</h1>\n",
    "<p style=\"text-align: center;\">Last update: <strong>{update}</strong></p>\n",
    "<p style=\"text-align: center;\">Confirmed cases:</p>\n",
    "<p style=\"text-align: center;font-size:24px;\">{cases} (<span style=\"color: #ff0000;\">+{new}</span>)</p>\n",
    "<p style=\"text-align: center;\">Confirmed deaths:</p>\n",
    "<p style=\"text-align: center;font-size:24px;\">{deaths} (<span style=\"color: #ff0000;\">+{dnew}</span>)</p>\n",
    "<p style=\"text-align: center;\">Recovered cases:</p>\n",
    "<p style=\"text-align: center;font-size:24px;\">{recovered} (<span style=\"color: #00ff00;\">+{rnew}</span>)</p>\n",
    "'''"
   ]
  },
  {
   "cell_type": "code",
   "execution_count": 10,
   "metadata": {
    "execution": {
     "iopub.execute_input": "2020-10-08T19:13:26.964437Z",
     "iopub.status.busy": "2020-10-08T19:13:26.963876Z",
     "iopub.status.idle": "2020-10-08T19:13:26.966469Z",
     "shell.execute_reply": "2020-10-08T19:13:26.967034Z"
    },
    "papermill": {
     "duration": 0.025488,
     "end_time": "2020-10-08T19:13:26.967192",
     "exception": false,
     "start_time": "2020-10-08T19:13:26.941704",
     "status": "completed"
    },
    "tags": []
   },
   "outputs": [
    {
     "data": {
      "text/html": [
       "\n",
       "<!-- #######  HTML!! #########-->\n",
       "<h1 style=\"color: #5e9ca0; text-align: center;\">India</h1>\n",
       "<p style=\"text-align: center;\">Last update: <strong>08-Oct-20</strong></p>\n",
       "<p style=\"text-align: center;\">Confirmed cases:</p>\n",
       "<p style=\"text-align: center;font-size:24px;\">6902246 (<span style=\"color: #ff0000;\">+69887</span>)</p>\n",
       "<p style=\"text-align: center;\">Confirmed deaths:</p>\n",
       "<p style=\"text-align: center;font-size:24px;\">105947 (<span style=\"color: #ff0000;\">+980</span>)</p>\n",
       "<p style=\"text-align: center;\">Recovered cases:</p>\n",
       "<p style=\"text-align: center;font-size:24px;\">5901688 (<span style=\"color: #00ff00;\">+77248</span>)</p>\n"
      ],
      "text/plain": [
       "<IPython.core.display.HTML object>"
      ]
     },
     "metadata": {},
     "output_type": "display_data"
    }
   ],
   "source": [
    "#hide_input\n",
    "# Fill the above HTML with the information from the summary dictionary\n",
    "\n",
    "update = summary['updated']\n",
    "cases = summary['Cases']\n",
    "new = summary['Cases (+)']\n",
    "deaths = summary['Deaths']\n",
    "dnew = summary['Deaths (+)']\n",
    "recovered = summary['Recovered']\n",
    "rnew = summary['Recovered (+)']\n",
    "\n",
    "html = HTML(overview.format(update=update, cases=cases,new=new,deaths=deaths,dnew=dnew, recovered=recovered, rnew=rnew))\n",
    "\n",
    "display(html)"
   ]
  },
  {
   "cell_type": "code",
   "execution_count": 11,
   "metadata": {
    "execution": {
     "iopub.execute_input": "2020-10-08T19:13:27.011128Z",
     "iopub.status.busy": "2020-10-08T19:13:27.010498Z",
     "iopub.status.idle": "2020-10-08T19:13:27.014299Z",
     "shell.execute_reply": "2020-10-08T19:13:27.013806Z"
    },
    "papermill": {
     "duration": 0.030135,
     "end_time": "2020-10-08T19:13:27.014414",
     "exception": false,
     "start_time": "2020-10-08T19:13:26.984279",
     "status": "completed"
    },
    "tags": []
   },
   "outputs": [],
   "source": [
    "#hide\n",
    "df_cases = df[df['Status'] == 'Confirmed'].copy()\n",
    "df_cases.drop(columns = ['Status'], inplace=True)\n",
    "df_deaths = df[df['Status'] == 'Deceased'].copy()\n",
    "df_deaths.drop(columns = ['Status'], inplace=True)\n",
    "df_recovered = df[df['Status'] == 'Recovered'].copy()\n",
    "df_recovered.drop(columns = ['Status'], inplace=True)"
   ]
  },
  {
   "cell_type": "markdown",
   "metadata": {
    "papermill": {
     "duration": 0.015337,
     "end_time": "2020-10-08T19:13:27.045696",
     "exception": false,
     "start_time": "2020-10-08T19:13:27.030359",
     "status": "completed"
    },
    "tags": []
   },
   "source": [
    "Plot for India:"
   ]
  },
  {
   "cell_type": "code",
   "execution_count": 12,
   "metadata": {
    "execution": {
     "iopub.execute_input": "2020-10-08T19:13:27.137974Z",
     "iopub.status.busy": "2020-10-08T19:13:27.121752Z",
     "iopub.status.idle": "2020-10-08T19:13:27.386143Z",
     "shell.execute_reply": "2020-10-08T19:13:27.387305Z"
    },
    "papermill": {
     "duration": 0.325805,
     "end_time": "2020-10-08T19:13:27.387480",
     "exception": false,
     "start_time": "2020-10-08T19:13:27.061675",
     "status": "completed"
    },
    "tags": []
   },
   "outputs": [
    {
     "data": {
      "image/png": "[encoded data removed]",
      "text/plain": [
       "<Figure size 1296x432 with 1 Axes>"
      ]
     },
     "metadata": {
      "needs_background": "light"
     },
     "output_type": "display_data"
    }
   ],
   "source": [
    "#hide_input\n",
    "plt.figure(figsize = (18,6))\n",
    "plt.plot(df_cases['Date'], df_cases['TT'],'.-', alpha=0.7, color='b', label='Confirmed cases')\n",
    "plt.plot(df_recovered['Date'], df_recovered['TT'],'.-', alpha=0.7, color='g', label='Recovered')\n",
    "plt.plot(df_deaths['Date'], df_deaths['TT'],'.-', alpha=0.7, color='r', label='Deceased')\n",
    "plt.legend()\n",
    "plt.title(\"Cases per day in India\")\n",
    "plt.xticks(ticks=' ')\n",
    "plt.xlabel(f'{df_cases.iloc[0][0]} to {df_cases.iloc[-1][0]}')\n",
    "plt.ylabel('No. of cases');"
   ]
  },
  {
   "cell_type": "markdown",
   "metadata": {
    "papermill": {
     "duration": 0.017408,
     "end_time": "2020-10-08T19:13:27.422506",
     "exception": false,
     "start_time": "2020-10-08T19:13:27.405098",
     "status": "completed"
    },
    "tags": []
   },
   "source": [
    "Plots for the states with highest number of cases:"
   ]
  },
  {
   "cell_type": "code",
   "execution_count": 13,
   "metadata": {
    "execution": {
     "iopub.execute_input": "2020-10-08T19:13:27.466222Z",
     "iopub.status.busy": "2020-10-08T19:13:27.465606Z",
     "iopub.status.idle": "2020-10-08T19:13:28.092490Z",
     "shell.execute_reply": "2020-10-08T19:13:28.089547Z"
    },
    "papermill": {
     "duration": 0.653076,
     "end_time": "2020-10-08T19:13:28.092642",
     "exception": false,
     "start_time": "2020-10-08T19:13:27.439566",
     "status": "completed"
    },
    "tags": []
   },
   "outputs": [
    {
     "data": {
      "image/png": "[encoded data removed]",
      "text/plain": [
       "<Figure size 1512x432 with 3 Axes>"
      ]
     },
     "metadata": {
      "needs_background": "light"
     },
     "output_type": "display_data"
    }
   ],
   "source": [
    "#hide_input\n",
    "top_3 = sorted(df_cases.sum().values[1:], reverse=True)[1:4]\n",
    "top3_states=[]\n",
    "for i in top_3:\n",
    "    top3_states.append(df_cases.sum()[df_cases.sum() == i].index)\n",
    "\n",
    "\n",
    "fig, ax = plt.subplots(1,3,figsize = (21,6))\n",
    "for i in range(3):\n",
    "    state = top3_states[i].values[0]\n",
    "    ax[i].plot(df_cases['Date'], df_cases[state],'.-', color='b', alpha=0.7)\n",
    "    ax[i].plot(df_deaths['Date'], df_deaths[state],'.-', color='r', alpha=0.7)\n",
    "    ax[i].plot(df_recovered['Date'], df_recovered[state],'.-', color='g', alpha=0.7)\n",
    "    \n",
    "    ax[i].set_title(f\"Cases in {state}\")\n",
    "    ax[i].set_xticks(ticks=' ')\n",
    "    ax[i].set_xlabel(f'{df_cases.iloc[0][0]} to {df_cases.iloc[-1][0]}')\n",
    "    ax[i].set_ylabel('No. of cases');"
   ]
  },
  {
   "cell_type": "code",
   "execution_count": null,
   "metadata": {
    "papermill": {
     "duration": 0.020349,
     "end_time": "2020-10-08T19:13:28.133319",
     "exception": false,
     "start_time": "2020-10-08T19:13:28.112970",
     "status": "completed"
    },
    "tags": []
   },
   "outputs": [],
   "source": []
  },
  {
   "cell_type": "code",
   "execution_count": null,
   "metadata": {
    "papermill": {
     "duration": 0.02102,
     "end_time": "2020-10-08T19:13:28.175699",
     "exception": false,
     "start_time": "2020-10-08T19:13:28.154679",
     "status": "completed"
    },
    "tags": []
   },
   "outputs": [],
   "source": []
  },
  {
   "cell_type": "code",
   "execution_count": null,
   "metadata": {
    "papermill": {
     "duration": 0.020323,
     "end_time": "2020-10-08T19:13:28.216202",
     "exception": false,
     "start_time": "2020-10-08T19:13:28.195879",
     "status": "completed"
    },
    "tags": []
   },
   "outputs": [],
   "source": []
  }
 ],
 "metadata": {
  "kernelspec": {
   "display_name": "Python 3",
   "language": "python",
   "name": "python3"
  },
  "language_info": {
   "codemirror_mode": {
    "name": "ipython",
    "version": 3
   },
   "file_extension": ".py",
   "mimetype": "text/x-python",
   "name": "python",
   "nbconvert_exporter": "python",
   "pygments_lexer": "ipython3",
   "version": "3.6.12"
  },
  "papermill": {
   "duration": 3.904491,
   "end_time": "2020-10-08T19:13:28.545984",
   "environment_variables": {},
   "exception": null,
   "input_path": "2020-08-09-DailyUpdate.ipynb",
   "output_path": "2020-08-09-DailyUpdate.ipynb",
   "parameters": {},
   "start_time": "2020-10-08T19:13:24.641493",
   "version": "2.1.2"
  }
 },
 "nbformat": 4,
 "nbformat_minor": 4
}