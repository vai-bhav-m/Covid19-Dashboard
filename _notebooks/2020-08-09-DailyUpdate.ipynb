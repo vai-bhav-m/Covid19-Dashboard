{
 "cells": [
  {
   "cell_type": "markdown",
   "metadata": {
    "papermill": {
     "duration": 0.018275,
     "end_time": "2020-08-12T19:11:10.530232",
     "exception": false,
     "start_time": "2020-08-12T19:11:10.511957",
     "status": "completed"
    },
    "tags": []
   },
   "source": [
    "# COVID-19 India Daily updates\n",
    "> Tracking coronavirus total cases, deaths and new cases in India on a daily basis\n",
    "\n",
    "- author: Vaibhav Mahapatra"
   ]
  },
  {
   "cell_type": "code",
   "execution_count": 1,
   "metadata": {
    "execution": {
     "iopub.execute_input": "2020-08-12T19:11:10.565778Z",
     "iopub.status.busy": "2020-08-12T19:11:10.565057Z",
     "iopub.status.idle": "2020-08-12T19:11:11.204238Z",
     "shell.execute_reply": "2020-08-12T19:11:11.203631Z"
    },
    "papermill": {
     "duration": 0.660168,
     "end_time": "2020-08-12T19:11:11.204418",
     "exception": false,
     "start_time": "2020-08-12T19:11:10.544250",
     "status": "completed"
    },
    "tags": []
   },
   "outputs": [],
   "source": [
    "#hide\n",
    "\n",
    "## Import essential packages below\n",
    "\n",
    "import pandas as pd\n",
    "import numpy as np\n",
    "import requests\n",
    "import json\n",
    "import matplotlib.pyplot as plt\n",
    "import matplotlib.dates as mdates\n",
    "import matplotlib as mpl\n",
    "from IPython.core.display import display,HTML\n",
    "%matplotlib inline"
   ]
  },
  {
   "cell_type": "code",
   "execution_count": 2,
   "metadata": {
    "execution": {
     "iopub.execute_input": "2020-08-12T19:11:11.238305Z",
     "iopub.status.busy": "2020-08-12T19:11:11.237586Z",
     "iopub.status.idle": "2020-08-12T19:11:11.349506Z",
     "shell.execute_reply": "2020-08-12T19:11:11.348878Z"
    },
    "papermill": {
     "duration": 0.131354,
     "end_time": "2020-08-12T19:11:11.349662",
     "exception": false,
     "start_time": "2020-08-12T19:11:11.218308",
     "status": "completed"
    },
    "tags": []
   },
   "outputs": [
    {
     "data": {
      "text/plain": [
       "(456, 41)"
      ]
     },
     "execution_count": 2,
     "metadata": {},
     "output_type": "execute_result"
    }
   ],
   "source": [
    "#hide\n",
    "url = 'https://api.covid19india.org/csv/latest/state_wise_daily.csv'\n",
    "df = pd.read_csv(url)\n",
    "df.shape"
   ]
  },
  {
   "cell_type": "code",
   "execution_count": 3,
   "metadata": {
    "execution": {
     "iopub.execute_input": "2020-08-12T19:11:11.429773Z",
     "iopub.status.busy": "2020-08-12T19:11:11.418218Z",
     "iopub.status.idle": "2020-08-12T19:11:11.441736Z",
     "shell.execute_reply": "2020-08-12T19:11:11.442302Z"
    },
    "papermill": {
     "duration": 0.078459,
     "end_time": "2020-08-12T19:11:11.442522",
     "exception": false,
     "start_time": "2020-08-12T19:11:11.364063",
     "status": "completed"
    },
    "tags": []
   },
   "outputs": [
    {
     "data": {
      "text/html": [
       "<div>\n",
       "<style scoped>\n",
       "    .dataframe tbody tr th:only-of-type {\n",
       "        vertical-align: middle;\n",
       "    }\n",
       "\n",
       "    .dataframe tbody tr th {\n",
       "        vertical-align: top;\n",
       "    }\n",
       "\n",
       "    .dataframe thead th {\n",
       "        text-align: right;\n",
       "    }\n",
       "</style>\n",
       "<table border=\"1\" class=\"dataframe\">\n",
       "  <thead>\n",
       "    <tr style=\"text-align: right;\">\n",
       "      <th></th>\n",
       "      <th>Date</th>\n",
       "      <th>Status</th>\n",
       "      <th>TT</th>\n",
       "      <th>AN</th>\n",
       "      <th>AP</th>\n",
       "      <th>AR</th>\n",
       "      <th>AS</th>\n",
       "      <th>BR</th>\n",
       "      <th>CH</th>\n",
       "      <th>CT</th>\n",
       "      <th>...</th>\n",
       "      <th>PB</th>\n",
       "      <th>RJ</th>\n",
       "      <th>SK</th>\n",
       "      <th>TN</th>\n",
       "      <th>TG</th>\n",
       "      <th>TR</th>\n",
       "      <th>UP</th>\n",
       "      <th>UT</th>\n",
       "      <th>WB</th>\n",
       "      <th>UN</th>\n",
       "    </tr>\n",
       "  </thead>\n",
       "  <tbody>\n",
       "    <tr>\n",
       "      <th>450</th>\n",
       "      <td>11-Aug-20</td>\n",
       "      <td>Confirmed</td>\n",
       "      <td>61252</td>\n",
       "      <td>139</td>\n",
       "      <td>9024</td>\n",
       "      <td>96</td>\n",
       "      <td>2669</td>\n",
       "      <td>4071</td>\n",
       "      <td>75</td>\n",
       "      <td>360</td>\n",
       "      <td>...</td>\n",
       "      <td>1000</td>\n",
       "      <td>1217</td>\n",
       "      <td>3</td>\n",
       "      <td>5834</td>\n",
       "      <td>1896</td>\n",
       "      <td>164</td>\n",
       "      <td>5041</td>\n",
       "      <td>411</td>\n",
       "      <td>2931</td>\n",
       "      <td>0</td>\n",
       "    </tr>\n",
       "    <tr>\n",
       "      <th>451</th>\n",
       "      <td>11-Aug-20</td>\n",
       "      <td>Recovered</td>\n",
       "      <td>56461</td>\n",
       "      <td>40</td>\n",
       "      <td>9113</td>\n",
       "      <td>42</td>\n",
       "      <td>1487</td>\n",
       "      <td>2900</td>\n",
       "      <td>11</td>\n",
       "      <td>222</td>\n",
       "      <td>...</td>\n",
       "      <td>1055</td>\n",
       "      <td>1339</td>\n",
       "      <td>24</td>\n",
       "      <td>6005</td>\n",
       "      <td>1788</td>\n",
       "      <td>213</td>\n",
       "      <td>3865</td>\n",
       "      <td>169</td>\n",
       "      <td>3067</td>\n",
       "      <td>0</td>\n",
       "    </tr>\n",
       "    <tr>\n",
       "      <th>452</th>\n",
       "      <td>11-Aug-20</td>\n",
       "      <td>Deceased</td>\n",
       "      <td>835</td>\n",
       "      <td>1</td>\n",
       "      <td>87</td>\n",
       "      <td>0</td>\n",
       "      <td>4</td>\n",
       "      <td>15</td>\n",
       "      <td>1</td>\n",
       "      <td>5</td>\n",
       "      <td>...</td>\n",
       "      <td>32</td>\n",
       "      <td>11</td>\n",
       "      <td>0</td>\n",
       "      <td>118</td>\n",
       "      <td>8</td>\n",
       "      <td>1</td>\n",
       "      <td>56</td>\n",
       "      <td>2</td>\n",
       "      <td>49</td>\n",
       "      <td>0</td>\n",
       "    </tr>\n",
       "    <tr>\n",
       "      <th>453</th>\n",
       "      <td>12-Aug-20</td>\n",
       "      <td>Confirmed</td>\n",
       "      <td>67066</td>\n",
       "      <td>136</td>\n",
       "      <td>9597</td>\n",
       "      <td>103</td>\n",
       "      <td>4593</td>\n",
       "      <td>3741</td>\n",
       "      <td>81</td>\n",
       "      <td>567</td>\n",
       "      <td>...</td>\n",
       "      <td>1020</td>\n",
       "      <td>1213</td>\n",
       "      <td>17</td>\n",
       "      <td>5871</td>\n",
       "      <td>1897</td>\n",
       "      <td>110</td>\n",
       "      <td>4475</td>\n",
       "      <td>454</td>\n",
       "      <td>2936</td>\n",
       "      <td>0</td>\n",
       "    </tr>\n",
       "    <tr>\n",
       "      <th>454</th>\n",
       "      <td>12-Aug-20</td>\n",
       "      <td>Recovered</td>\n",
       "      <td>57759</td>\n",
       "      <td>80</td>\n",
       "      <td>6676</td>\n",
       "      <td>25</td>\n",
       "      <td>2136</td>\n",
       "      <td>3029</td>\n",
       "      <td>8</td>\n",
       "      <td>269</td>\n",
       "      <td>...</td>\n",
       "      <td>422</td>\n",
       "      <td>1249</td>\n",
       "      <td>16</td>\n",
       "      <td>5633</td>\n",
       "      <td>1920</td>\n",
       "      <td>182</td>\n",
       "      <td>4072</td>\n",
       "      <td>217</td>\n",
       "      <td>2725</td>\n",
       "      <td>0</td>\n",
       "    </tr>\n",
       "    <tr>\n",
       "      <th>455</th>\n",
       "      <td>12-Aug-20</td>\n",
       "      <td>Deceased</td>\n",
       "      <td>950</td>\n",
       "      <td>0</td>\n",
       "      <td>93</td>\n",
       "      <td>0</td>\n",
       "      <td>6</td>\n",
       "      <td>9</td>\n",
       "      <td>1</td>\n",
       "      <td>5</td>\n",
       "      <td>...</td>\n",
       "      <td>39</td>\n",
       "      <td>11</td>\n",
       "      <td>0</td>\n",
       "      <td>119</td>\n",
       "      <td>9</td>\n",
       "      <td>0</td>\n",
       "      <td>54</td>\n",
       "      <td>4</td>\n",
       "      <td>54</td>\n",
       "      <td>0</td>\n",
       "    </tr>\n",
       "  </tbody>\n",
       "</table>\n",
       "<p>6 rows × 41 columns</p>\n",
       "</div>"
      ],
      "text/plain": [
       "          Date     Status     TT   AN    AP   AR    AS    BR  CH   CT  ...  \\\n",
       "450  11-Aug-20  Confirmed  61252  139  9024   96  2669  4071  75  360  ...   \n",
       "451  11-Aug-20  Recovered  56461   40  9113   42  1487  2900  11  222  ...   \n",
       "452  11-Aug-20   Deceased    835    1    87    0     4    15   1    5  ...   \n",
       "453  12-Aug-20  Confirmed  67066  136  9597  103  4593  3741  81  567  ...   \n",
       "454  12-Aug-20  Recovered  57759   80  6676   25  2136  3029   8  269  ...   \n",
       "455  12-Aug-20   Deceased    950    0    93    0     6     9   1    5  ...   \n",
       "\n",
       "       PB    RJ  SK    TN    TG   TR    UP   UT    WB  UN  \n",
       "450  1000  1217   3  5834  1896  164  5041  411  2931   0  \n",
       "451  1055  1339  24  6005  1788  213  3865  169  3067   0  \n",
       "452    32    11   0   118     8    1    56    2    49   0  \n",
       "453  1020  1213  17  5871  1897  110  4475  454  2936   0  \n",
       "454   422  1249  16  5633  1920  182  4072  217  2725   0  \n",
       "455    39    11   0   119     9    0    54    4    54   0  \n",
       "\n",
       "[6 rows x 41 columns]"
      ]
     },
     "execution_count": 3,
     "metadata": {},
     "output_type": "execute_result"
    }
   ],
   "source": [
    "#hide\n",
    "df.tail(6)"
   ]
  },
  {
   "cell_type": "code",
   "execution_count": 4,
   "metadata": {
    "execution": {
     "iopub.execute_input": "2020-08-12T19:11:11.479382Z",
     "iopub.status.busy": "2020-08-12T19:11:11.478647Z",
     "iopub.status.idle": "2020-08-12T19:11:11.482886Z",
     "shell.execute_reply": "2020-08-12T19:11:11.482292Z"
    },
    "papermill": {
     "duration": 0.025305,
     "end_time": "2020-08-12T19:11:11.483052",
     "exception": false,
     "start_time": "2020-08-12T19:11:11.457747",
     "status": "completed"
    },
    "tags": []
   },
   "outputs": [
    {
     "data": {
      "text/plain": [
       "('12-Aug-20', '11-Aug-20')"
      ]
     },
     "execution_count": 4,
     "metadata": {},
     "output_type": "execute_result"
    }
   ],
   "source": [
    "#hide\n",
    "dt_today = df.iloc[-1][0]\n",
    "dt_yday = df.iloc[-4][0]\n",
    "dt_today, dt_yday"
   ]
  },
  {
   "cell_type": "code",
   "execution_count": 5,
   "metadata": {
    "execution": {
     "iopub.execute_input": "2020-08-12T19:11:11.521539Z",
     "iopub.status.busy": "2020-08-12T19:11:11.520851Z",
     "iopub.status.idle": "2020-08-12T19:11:11.527614Z",
     "shell.execute_reply": "2020-08-12T19:11:11.526995Z"
    },
    "papermill": {
     "duration": 0.029056,
     "end_time": "2020-08-12T19:11:11.527769",
     "exception": false,
     "start_time": "2020-08-12T19:11:11.498713",
     "status": "completed"
    },
    "tags": []
   },
   "outputs": [],
   "source": [
    "#hide\n",
    "df_today = df.groupby('Status').sum()\n",
    "df_yday = df.iloc[:-3][:].groupby('Status').sum()"
   ]
  },
  {
   "cell_type": "code",
   "execution_count": 6,
   "metadata": {
    "execution": {
     "iopub.execute_input": "2020-08-12T19:11:11.578734Z",
     "iopub.status.busy": "2020-08-12T19:11:11.578009Z",
     "iopub.status.idle": "2020-08-12T19:11:11.581006Z",
     "shell.execute_reply": "2020-08-12T19:11:11.581567Z"
    },
    "papermill": {
     "duration": 0.038735,
     "end_time": "2020-08-12T19:11:11.581740",
     "exception": false,
     "start_time": "2020-08-12T19:11:11.543005",
     "status": "completed"
    },
    "tags": []
   },
   "outputs": [
    {
     "data": {
      "text/html": [
       "<div>\n",
       "<style scoped>\n",
       "    .dataframe tbody tr th:only-of-type {\n",
       "        vertical-align: middle;\n",
       "    }\n",
       "\n",
       "    .dataframe tbody tr th {\n",
       "        vertical-align: top;\n",
       "    }\n",
       "\n",
       "    .dataframe thead th {\n",
       "        text-align: right;\n",
       "    }\n",
       "</style>\n",
       "<table border=\"1\" class=\"dataframe\">\n",
       "  <thead>\n",
       "    <tr style=\"text-align: right;\">\n",
       "      <th></th>\n",
       "      <th>TT</th>\n",
       "      <th>AN</th>\n",
       "      <th>AP</th>\n",
       "      <th>AR</th>\n",
       "      <th>AS</th>\n",
       "      <th>BR</th>\n",
       "      <th>CH</th>\n",
       "      <th>CT</th>\n",
       "      <th>DN</th>\n",
       "      <th>DD</th>\n",
       "      <th>...</th>\n",
       "      <th>PB</th>\n",
       "      <th>RJ</th>\n",
       "      <th>SK</th>\n",
       "      <th>TN</th>\n",
       "      <th>TG</th>\n",
       "      <th>TR</th>\n",
       "      <th>UP</th>\n",
       "      <th>UT</th>\n",
       "      <th>WB</th>\n",
       "      <th>UN</th>\n",
       "    </tr>\n",
       "    <tr>\n",
       "      <th>Status</th>\n",
       "      <th></th>\n",
       "      <th></th>\n",
       "      <th></th>\n",
       "      <th></th>\n",
       "      <th></th>\n",
       "      <th></th>\n",
       "      <th></th>\n",
       "      <th></th>\n",
       "      <th></th>\n",
       "      <th></th>\n",
       "      <th></th>\n",
       "      <th></th>\n",
       "      <th></th>\n",
       "      <th></th>\n",
       "      <th></th>\n",
       "      <th></th>\n",
       "      <th></th>\n",
       "      <th></th>\n",
       "      <th></th>\n",
       "      <th></th>\n",
       "      <th></th>\n",
       "    </tr>\n",
       "  </thead>\n",
       "  <tbody>\n",
       "    <tr>\n",
       "      <th>Confirmed</th>\n",
       "      <td>2395379</td>\n",
       "      <td>1896</td>\n",
       "      <td>254146</td>\n",
       "      <td>2430</td>\n",
       "      <td>68898</td>\n",
       "      <td>90553</td>\n",
       "      <td>1751</td>\n",
       "      <td>13552</td>\n",
       "      <td>1697</td>\n",
       "      <td>0</td>\n",
       "      <td>...</td>\n",
       "      <td>26909</td>\n",
       "      <td>56100</td>\n",
       "      <td>943</td>\n",
       "      <td>314520</td>\n",
       "      <td>84544</td>\n",
       "      <td>6497</td>\n",
       "      <td>136238</td>\n",
       "      <td>10886</td>\n",
       "      <td>104326</td>\n",
       "      <td>0</td>\n",
       "    </tr>\n",
       "    <tr>\n",
       "      <th>Deceased</th>\n",
       "      <td>47149</td>\n",
       "      <td>21</td>\n",
       "      <td>2296</td>\n",
       "      <td>3</td>\n",
       "      <td>165</td>\n",
       "      <td>474</td>\n",
       "      <td>27</td>\n",
       "      <td>109</td>\n",
       "      <td>2</td>\n",
       "      <td>0</td>\n",
       "      <td>...</td>\n",
       "      <td>675</td>\n",
       "      <td>822</td>\n",
       "      <td>1</td>\n",
       "      <td>5278</td>\n",
       "      <td>654</td>\n",
       "      <td>43</td>\n",
       "      <td>2230</td>\n",
       "      <td>140</td>\n",
       "      <td>2203</td>\n",
       "      <td>0</td>\n",
       "    </tr>\n",
       "    <tr>\n",
       "      <th>Recovered</th>\n",
       "      <td>1695853</td>\n",
       "      <td>820</td>\n",
       "      <td>161425</td>\n",
       "      <td>1659</td>\n",
       "      <td>47210</td>\n",
       "      <td>60068</td>\n",
       "      <td>1023</td>\n",
       "      <td>9508</td>\n",
       "      <td>1243</td>\n",
       "      <td>0</td>\n",
       "      <td>...</td>\n",
       "      <td>17212</td>\n",
       "      <td>41648</td>\n",
       "      <td>551</td>\n",
       "      <td>256313</td>\n",
       "      <td>61294</td>\n",
       "      <td>4838</td>\n",
       "      <td>84661</td>\n",
       "      <td>6687</td>\n",
       "      <td>76120</td>\n",
       "      <td>0</td>\n",
       "    </tr>\n",
       "  </tbody>\n",
       "</table>\n",
       "<p>3 rows × 39 columns</p>\n",
       "</div>"
      ],
      "text/plain": [
       "                TT    AN      AP    AR     AS     BR    CH     CT    DN  DD  \\\n",
       "Status                                                                        \n",
       "Confirmed  2395379  1896  254146  2430  68898  90553  1751  13552  1697   0   \n",
       "Deceased     47149    21    2296     3    165    474    27    109     2   0   \n",
       "Recovered  1695853   820  161425  1659  47210  60068  1023   9508  1243   0   \n",
       "\n",
       "           ...     PB     RJ   SK      TN     TG    TR      UP     UT      WB  \\\n",
       "Status     ...                                                                  \n",
       "Confirmed  ...  26909  56100  943  314520  84544  6497  136238  10886  104326   \n",
       "Deceased   ...    675    822    1    5278    654    43    2230    140    2203   \n",
       "Recovered  ...  17212  41648  551  256313  61294  4838   84661   6687   76120   \n",
       "\n",
       "           UN  \n",
       "Status         \n",
       "Confirmed   0  \n",
       "Deceased    0  \n",
       "Recovered   0  \n",
       "\n",
       "[3 rows x 39 columns]"
      ]
     },
     "execution_count": 6,
     "metadata": {},
     "output_type": "execute_result"
    }
   ],
   "source": [
    "#hide\n",
    "df_today"
   ]
  },
  {
   "cell_type": "code",
   "execution_count": 7,
   "metadata": {
    "execution": {
     "iopub.execute_input": "2020-08-12T19:11:11.630541Z",
     "iopub.status.busy": "2020-08-12T19:11:11.629788Z",
     "iopub.status.idle": "2020-08-12T19:11:11.632850Z",
     "shell.execute_reply": "2020-08-12T19:11:11.633442Z"
    },
    "papermill": {
     "duration": 0.035968,
     "end_time": "2020-08-12T19:11:11.633613",
     "exception": false,
     "start_time": "2020-08-12T19:11:11.597645",
     "status": "completed"
    },
    "tags": []
   },
   "outputs": [
    {
     "data": {
      "text/html": [
       "<div>\n",
       "<style scoped>\n",
       "    .dataframe tbody tr th:only-of-type {\n",
       "        vertical-align: middle;\n",
       "    }\n",
       "\n",
       "    .dataframe tbody tr th {\n",
       "        vertical-align: top;\n",
       "    }\n",
       "\n",
       "    .dataframe thead th {\n",
       "        text-align: right;\n",
       "    }\n",
       "</style>\n",
       "<table border=\"1\" class=\"dataframe\">\n",
       "  <thead>\n",
       "    <tr style=\"text-align: right;\">\n",
       "      <th></th>\n",
       "      <th>TT</th>\n",
       "      <th>AN</th>\n",
       "      <th>AP</th>\n",
       "      <th>AR</th>\n",
       "      <th>AS</th>\n",
       "      <th>BR</th>\n",
       "      <th>CH</th>\n",
       "      <th>CT</th>\n",
       "      <th>DN</th>\n",
       "      <th>DD</th>\n",
       "      <th>...</th>\n",
       "      <th>PB</th>\n",
       "      <th>RJ</th>\n",
       "      <th>SK</th>\n",
       "      <th>TN</th>\n",
       "      <th>TG</th>\n",
       "      <th>TR</th>\n",
       "      <th>UP</th>\n",
       "      <th>UT</th>\n",
       "      <th>WB</th>\n",
       "      <th>UN</th>\n",
       "    </tr>\n",
       "    <tr>\n",
       "      <th>Status</th>\n",
       "      <th></th>\n",
       "      <th></th>\n",
       "      <th></th>\n",
       "      <th></th>\n",
       "      <th></th>\n",
       "      <th></th>\n",
       "      <th></th>\n",
       "      <th></th>\n",
       "      <th></th>\n",
       "      <th></th>\n",
       "      <th></th>\n",
       "      <th></th>\n",
       "      <th></th>\n",
       "      <th></th>\n",
       "      <th></th>\n",
       "      <th></th>\n",
       "      <th></th>\n",
       "      <th></th>\n",
       "      <th></th>\n",
       "      <th></th>\n",
       "      <th></th>\n",
       "    </tr>\n",
       "  </thead>\n",
       "  <tbody>\n",
       "    <tr>\n",
       "      <th>Confirmed</th>\n",
       "      <td>2328313</td>\n",
       "      <td>1760</td>\n",
       "      <td>244549</td>\n",
       "      <td>2327</td>\n",
       "      <td>64305</td>\n",
       "      <td>86812</td>\n",
       "      <td>1670</td>\n",
       "      <td>12985</td>\n",
       "      <td>1658</td>\n",
       "      <td>0</td>\n",
       "      <td>...</td>\n",
       "      <td>25889</td>\n",
       "      <td>54887</td>\n",
       "      <td>926</td>\n",
       "      <td>308649</td>\n",
       "      <td>82647</td>\n",
       "      <td>6387</td>\n",
       "      <td>131763</td>\n",
       "      <td>10432</td>\n",
       "      <td>101390</td>\n",
       "      <td>0</td>\n",
       "    </tr>\n",
       "    <tr>\n",
       "      <th>Deceased</th>\n",
       "      <td>46199</td>\n",
       "      <td>21</td>\n",
       "      <td>2203</td>\n",
       "      <td>3</td>\n",
       "      <td>159</td>\n",
       "      <td>465</td>\n",
       "      <td>26</td>\n",
       "      <td>104</td>\n",
       "      <td>2</td>\n",
       "      <td>0</td>\n",
       "      <td>...</td>\n",
       "      <td>636</td>\n",
       "      <td>811</td>\n",
       "      <td>1</td>\n",
       "      <td>5159</td>\n",
       "      <td>645</td>\n",
       "      <td>43</td>\n",
       "      <td>2176</td>\n",
       "      <td>136</td>\n",
       "      <td>2149</td>\n",
       "      <td>0</td>\n",
       "    </tr>\n",
       "    <tr>\n",
       "      <th>Recovered</th>\n",
       "      <td>1638094</td>\n",
       "      <td>740</td>\n",
       "      <td>154749</td>\n",
       "      <td>1634</td>\n",
       "      <td>45074</td>\n",
       "      <td>57039</td>\n",
       "      <td>1015</td>\n",
       "      <td>9239</td>\n",
       "      <td>1208</td>\n",
       "      <td>0</td>\n",
       "      <td>...</td>\n",
       "      <td>16790</td>\n",
       "      <td>40399</td>\n",
       "      <td>535</td>\n",
       "      <td>250680</td>\n",
       "      <td>59374</td>\n",
       "      <td>4656</td>\n",
       "      <td>80589</td>\n",
       "      <td>6470</td>\n",
       "      <td>73395</td>\n",
       "      <td>0</td>\n",
       "    </tr>\n",
       "  </tbody>\n",
       "</table>\n",
       "<p>3 rows × 39 columns</p>\n",
       "</div>"
      ],
      "text/plain": [
       "                TT    AN      AP    AR     AS     BR    CH     CT    DN  DD  \\\n",
       "Status                                                                        \n",
       "Confirmed  2328313  1760  244549  2327  64305  86812  1670  12985  1658   0   \n",
       "Deceased     46199    21    2203     3    159    465    26    104     2   0   \n",
       "Recovered  1638094   740  154749  1634  45074  57039  1015   9239  1208   0   \n",
       "\n",
       "           ...     PB     RJ   SK      TN     TG    TR      UP     UT      WB  \\\n",
       "Status     ...                                                                  \n",
       "Confirmed  ...  25889  54887  926  308649  82647  6387  131763  10432  101390   \n",
       "Deceased   ...    636    811    1    5159    645    43    2176    136    2149   \n",
       "Recovered  ...  16790  40399  535  250680  59374  4656   80589   6470   73395   \n",
       "\n",
       "           UN  \n",
       "Status         \n",
       "Confirmed   0  \n",
       "Deceased    0  \n",
       "Recovered   0  \n",
       "\n",
       "[3 rows x 39 columns]"
      ]
     },
     "execution_count": 7,
     "metadata": {},
     "output_type": "execute_result"
    }
   ],
   "source": [
    "#hide\n",
    "df_yday.head()"
   ]
  },
  {
   "cell_type": "code",
   "execution_count": 8,
   "metadata": {
    "execution": {
     "iopub.execute_input": "2020-08-12T19:11:11.674931Z",
     "iopub.status.busy": "2020-08-12T19:11:11.674228Z",
     "iopub.status.idle": "2020-08-12T19:11:11.677071Z",
     "shell.execute_reply": "2020-08-12T19:11:11.677649Z"
    },
    "papermill": {
     "duration": 0.027893,
     "end_time": "2020-08-12T19:11:11.677824",
     "exception": false,
     "start_time": "2020-08-12T19:11:11.649931",
     "status": "completed"
    },
    "tags": []
   },
   "outputs": [
    {
     "data": {
      "text/plain": [
       "{'updated': '12-Aug-20',\n",
       " 'since': '11-Aug-20',\n",
       " 'Cases': 2395379,\n",
       " 'Deaths': 47149,\n",
       " 'Recovered': 1695853,\n",
       " 'PCases': 2328313,\n",
       " 'PDeaths': 46199,\n",
       " 'PRecovered': 1638094,\n",
       " 'Cases (+)': 67066,\n",
       " 'Deaths (+)': 950,\n",
       " 'Recovered (+)': 57759}"
      ]
     },
     "execution_count": 8,
     "metadata": {},
     "output_type": "execute_result"
    }
   ],
   "source": [
    "#hide\n",
    "summary = {\n",
    "    'updated' : dt_today,\n",
    "    'since' : dt_yday,\n",
    "    'Cases' : df_today['TT'][0],\n",
    "    'Deaths' : df_today['TT'][1],\n",
    "    'Recovered' : df_today['TT'][2],\n",
    "    'PCases' : df_yday['TT'][0],\n",
    "    'PDeaths' : df_yday['TT'][1],\n",
    "    'PRecovered': df_yday['TT'][2],\n",
    "    'Cases (+)' : df_today['TT'][0] - df_yday['TT'][0],\n",
    "    'Deaths (+)' : df_today['TT'][1] - df_yday['TT'][1],\n",
    "    'Recovered (+)': df_today['TT'][2] - df_yday['TT'][2]\n",
    "}\n",
    "\n",
    "summary"
   ]
  },
  {
   "cell_type": "code",
   "execution_count": 9,
   "metadata": {
    "execution": {
     "iopub.execute_input": "2020-08-12T19:11:11.715552Z",
     "iopub.status.busy": "2020-08-12T19:11:11.714795Z",
     "iopub.status.idle": "2020-08-12T19:11:11.716811Z",
     "shell.execute_reply": "2020-08-12T19:11:11.717371Z"
    },
    "papermill": {
     "duration": 0.023412,
     "end_time": "2020-08-12T19:11:11.717541",
     "exception": false,
     "start_time": "2020-08-12T19:11:11.694129",
     "status": "completed"
    },
    "tags": []
   },
   "outputs": [],
   "source": [
    "#hide\n",
    "overview = '''\n",
    "<!-- #######  HTML!! #########-->\n",
    "<h1 style=\"color: #5e9ca0; text-align: center;\">India</h1>\n",
    "<p style=\"text-align: center;\">Last update: <strong>{update}</strong></p>\n",
    "<p style=\"text-align: center;\">Confirmed cases:</p>\n",
    "<p style=\"text-align: center;font-size:24px;\">{cases} (<span style=\"color: #ff0000;\">+{new}</span>)</p>\n",
    "<p style=\"text-align: center;\">Confirmed deaths:</p>\n",
    "<p style=\"text-align: center;font-size:24px;\">{deaths} (<span style=\"color: #ff0000;\">+{dnew}</span>)</p>\n",
    "<p style=\"text-align: center;\">Recovered cases:</p>\n",
    "<p style=\"text-align: center;font-size:24px;\">{recovered} (<span style=\"color: #00ff00;\">+{rnew}</span>)</p>\n",
    "'''"
   ]
  },
  {
   "cell_type": "code",
   "execution_count": 10,
   "metadata": {
    "execution": {
     "iopub.execute_input": "2020-08-12T19:11:11.757418Z",
     "iopub.status.busy": "2020-08-12T19:11:11.756735Z",
     "iopub.status.idle": "2020-08-12T19:11:11.760237Z",
     "shell.execute_reply": "2020-08-12T19:11:11.759554Z"
    },
    "papermill": {
     "duration": 0.026002,
     "end_time": "2020-08-12T19:11:11.760381",
     "exception": false,
     "start_time": "2020-08-12T19:11:11.734379",
     "status": "completed"
    },
    "tags": []
   },
   "outputs": [
    {
     "data": {
      "text/html": [
       "\n",
       "<!-- #######  HTML!! #########-->\n",
       "<h1 style=\"color: #5e9ca0; text-align: center;\">India</h1>\n",
       "<p style=\"text-align: center;\">Last update: <strong>12-Aug-20</strong></p>\n",
       "<p style=\"text-align: center;\">Confirmed cases:</p>\n",
       "<p style=\"text-align: center;font-size:24px;\">2395379 (<span style=\"color: #ff0000;\">+67066</span>)</p>\n",
       "<p style=\"text-align: center;\">Confirmed deaths:</p>\n",
       "<p style=\"text-align: center;font-size:24px;\">47149 (<span style=\"color: #ff0000;\">+950</span>)</p>\n",
       "<p style=\"text-align: center;\">Recovered cases:</p>\n",
       "<p style=\"text-align: center;font-size:24px;\">1695853 (<span style=\"color: #00ff00;\">+57759</span>)</p>\n"
      ],
      "text/plain": [
       "<IPython.core.display.HTML object>"
      ]
     },
     "metadata": {},
     "output_type": "display_data"
    }
   ],
   "source": [
    "#hide_input\n",
    "# Fill the above HTML with the information from the summary dictionary\n",
    "\n",
    "update = summary['updated']\n",
    "cases = summary['Cases']\n",
    "new = summary['Cases (+)']\n",
    "deaths = summary['Deaths']\n",
    "dnew = summary['Deaths (+)']\n",
    "recovered = summary['Recovered']\n",
    "rnew = summary['Recovered (+)']\n",
    "\n",
    "html = HTML(overview.format(update=update, cases=cases,new=new,deaths=deaths,dnew=dnew, recovered=recovered, rnew=rnew))\n",
    "\n",
    "display(html)"
   ]
  },
  {
   "cell_type": "code",
   "execution_count": 11,
   "metadata": {
    "execution": {
     "iopub.execute_input": "2020-08-12T19:11:11.808005Z",
     "iopub.status.busy": "2020-08-12T19:11:11.807291Z",
     "iopub.status.idle": "2020-08-12T19:11:11.811730Z",
     "shell.execute_reply": "2020-08-12T19:11:11.811137Z"
    },
    "papermill": {
     "duration": 0.031418,
     "end_time": "2020-08-12T19:11:11.811882",
     "exception": false,
     "start_time": "2020-08-12T19:11:11.780464",
     "status": "completed"
    },
    "tags": []
   },
   "outputs": [],
   "source": [
    "#hide\n",
    "df_cases = df[df['Status'] == 'Confirmed'].copy()\n",
    "df_cases.drop(columns = ['Status'], inplace=True)\n",
    "df_deaths = df[df['Status'] == 'Deceased'].copy()\n",
    "df_deaths.drop(columns = ['Status'], inplace=True)\n",
    "df_recovered = df[df['Status'] == 'Recovered'].copy()\n",
    "df_recovered.drop(columns = ['Status'], inplace=True)"
   ]
  },
  {
   "cell_type": "markdown",
   "metadata": {
    "papermill": {
     "duration": 0.016795,
     "end_time": "2020-08-12T19:11:11.845574",
     "exception": false,
     "start_time": "2020-08-12T19:11:11.828779",
     "status": "completed"
    },
    "tags": []
   },
   "source": [
    "Plot for India:"
   ]
  },
  {
   "cell_type": "code",
   "execution_count": 12,
   "metadata": {
    "execution": {
     "iopub.execute_input": "2020-08-12T19:11:11.907684Z",
     "iopub.status.busy": "2020-08-12T19:11:11.906973Z",
     "iopub.status.idle": "2020-08-12T19:11:12.221765Z",
     "shell.execute_reply": "2020-08-12T19:11:12.222348Z"
    },
    "papermill": {
     "duration": 0.359926,
     "end_time": "2020-08-12T19:11:12.222523",
     "exception": false,
     "start_time": "2020-08-12T19:11:11.862597",
     "status": "completed"
    },
    "tags": []
   },
   "outputs": [
    {
     "data": {
      "image/png": "[encoded data removed]",
      "text/plain": [
       "<Figure size 1296x432 with 1 Axes>"
      ]
     },
     "metadata": {
      "needs_background": "light"
     },
     "output_type": "display_data"
    }
   ],
   "source": [
    "#hide_input\n",
    "plt.figure(figsize = (18,6))\n",
    "plt.plot(df_cases['Date'], df_cases['TT'],'.-', alpha=0.7, color='b', label='Confirmed cases')\n",
    "plt.plot(df_recovered['Date'], df_recovered['TT'],'.-', alpha=0.7, color='g', label='Recovered')\n",
    "plt.plot(df_deaths['Date'], df_deaths['TT'],'.-', alpha=0.7, color='r', label='Deceased')\n",
    "plt.legend()\n",
    "plt.title(\"Cases per day in India\")\n",
    "plt.xticks(ticks=' ')\n",
    "plt.xlabel(f'{df_cases.iloc[0][0]} to {df_cases.iloc[-1][0]}')\n",
    "plt.ylabel('No. of cases');"
   ]
  },
  {
   "cell_type": "markdown",
   "metadata": {
    "papermill": {
     "duration": 0.018396,
     "end_time": "2020-08-12T19:11:12.259449",
     "exception": false,
     "start_time": "2020-08-12T19:11:12.241053",
     "status": "completed"
    },
    "tags": []
   },
   "source": [
    "Plots for the states with highest number of cases:"
   ]
  },
  {
   "cell_type": "code",
   "execution_count": 13,
   "metadata": {
    "execution": {
     "iopub.execute_input": "2020-08-12T19:11:12.306575Z",
     "iopub.status.busy": "2020-08-12T19:11:12.305835Z",
     "iopub.status.idle": "2020-08-12T19:11:13.035553Z",
     "shell.execute_reply": "2020-08-12T19:11:13.034962Z"
    },
    "papermill": {
     "duration": 0.757657,
     "end_time": "2020-08-12T19:11:13.035707",
     "exception": false,
     "start_time": "2020-08-12T19:11:12.278050",
     "status": "completed"
    },
    "tags": []
   },
   "outputs": [
    {
     "data": {
      "image/png": "[encoded data removed]",
      "text/plain": [
       "<Figure size 1512x432 with 3 Axes>"
      ]
     },
     "metadata": {
      "needs_background": "light"
     },
     "output_type": "display_data"
    }
   ],
   "source": [
    "#hide_input\n",
    "top_3 = sorted(df_cases.sum().values[1:], reverse=True)[1:4]\n",
    "top3_states=[]\n",
    "for i in top_3:\n",
    "    top3_states.append(df_cases.sum()[df_cases.sum() == i].index)\n",
    "\n",
    "\n",
    "fig, ax = plt.subplots(1,3,figsize = (21,6))\n",
    "for i in range(3):\n",
    "    state = top3_states[i].values[0]\n",
    "    ax[i].plot(df_cases['Date'], df_cases[state],'.-', color='b', alpha=0.7)\n",
    "    ax[i].plot(df_deaths['Date'], df_deaths[state],'.-', color='r', alpha=0.7)\n",
    "    ax[i].plot(df_recovered['Date'], df_recovered[state],'.-', color='g', alpha=0.7)\n",
    "    \n",
    "    ax[i].set_title(f\"Cases in {state}\")\n",
    "    ax[i].set_xticks(ticks=' ')\n",
    "    ax[i].set_xlabel(f'{df_cases.iloc[0][0]} to {df_cases.iloc[-1][0]}')\n",
    "    ax[i].set_ylabel('No. of cases');"
   ]
  },
  {
   "cell_type": "code",
   "execution_count": null,
   "metadata": {
    "papermill": {
     "duration": 0.132429,
     "end_time": "2020-08-12T19:11:13.189659",
     "exception": false,
     "start_time": "2020-08-12T19:11:13.057230",
     "status": "completed"
    },
    "tags": []
   },
   "outputs": [],
   "source": []
  },
  {
   "cell_type": "code",
   "execution_count": null,
   "metadata": {
    "papermill": {
     "duration": 0.021623,
     "end_time": "2020-08-12T19:11:13.552000",
     "exception": false,
     "start_time": "2020-08-12T19:11:13.530377",
     "status": "completed"
    },
    "tags": []
   },
   "outputs": [],
   "source": []
  },
  {
   "cell_type": "code",
   "execution_count": null,
   "metadata": {
    "papermill": {
     "duration": 0.020834,
     "end_time": "2020-08-12T19:11:13.593710",
     "exception": false,
     "start_time": "2020-08-12T19:11:13.572876",
     "status": "completed"
    },
    "tags": []
   },
   "outputs": [],
   "source": []
  }
 ],
 "metadata": {
  "kernelspec": {
   "display_name": "Python 3",
   "language": "python",
   "name": "python3"
  },
  "language_info": {
   "codemirror_mode": {
    "name": "ipython",
    "version": 3
   },
   "file_extension": ".py",
   "mimetype": "text/x-python",
   "name": "python",
   "nbconvert_exporter": "python",
   "pygments_lexer": "ipython3",
   "version": "3.6.11"
  },
  "papermill": {
   "duration": 4.652376,
   "end_time": "2020-08-12T19:11:14.022143",
   "environment_variables": {},
   "exception": null,
   "input_path": "2020-08-09-DailyUpdate.ipynb",
   "output_path": "2020-08-09-DailyUpdate.ipynb",
   "parameters": {},
   "start_time": "2020-08-12T19:11:09.369767",
   "version": "2.1.2"
  }
 },
 "nbformat": 4,
 "nbformat_minor": 4
}