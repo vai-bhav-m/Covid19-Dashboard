{
 "cells": [
  {
   "cell_type": "markdown",
   "metadata": {
    "papermill": {
     "duration": 0.018607,
     "end_time": "2020-09-19T19:11:50.185462",
     "exception": false,
     "start_time": "2020-09-19T19:11:50.166855",
     "status": "completed"
    },
    "tags": []
   },
   "source": [
    "# COVID-19 India Daily updates\n",
    "> Tracking coronavirus total cases, deaths and new cases in India on a daily basis\n",
    "\n",
    "- author: Vaibhav Mahapatra"
   ]
  },
  {
   "cell_type": "code",
   "execution_count": 1,
   "metadata": {
    "execution": {
     "iopub.execute_input": "2020-09-19T19:11:50.220664Z",
     "iopub.status.busy": "2020-09-19T19:11:50.219933Z",
     "iopub.status.idle": "2020-09-19T19:11:50.775940Z",
     "shell.execute_reply": "2020-09-19T19:11:50.775419Z"
    },
    "papermill": {
     "duration": 0.576246,
     "end_time": "2020-09-19T19:11:50.776115",
     "exception": false,
     "start_time": "2020-09-19T19:11:50.199869",
     "status": "completed"
    },
    "tags": []
   },
   "outputs": [],
   "source": [
    "#hide\n",
    "\n",
    "## Import essential packages below\n",
    "\n",
    "import pandas as pd\n",
    "import numpy as np\n",
    "import requests\n",
    "import json\n",
    "import matplotlib.pyplot as plt\n",
    "import matplotlib.dates as mdates\n",
    "import matplotlib as mpl\n",
    "from IPython.core.display import display,HTML\n",
    "%matplotlib inline"
   ]
  },
  {
   "cell_type": "code",
   "execution_count": 2,
   "metadata": {
    "execution": {
     "iopub.execute_input": "2020-09-19T19:11:50.803575Z",
     "iopub.status.busy": "2020-09-19T19:11:50.802969Z",
     "iopub.status.idle": "2020-09-19T19:11:50.978122Z",
     "shell.execute_reply": "2020-09-19T19:11:50.977646Z"
    },
    "papermill": {
     "duration": 0.190819,
     "end_time": "2020-09-19T19:11:50.978226",
     "exception": false,
     "start_time": "2020-09-19T19:11:50.787407",
     "status": "completed"
    },
    "tags": []
   },
   "outputs": [
    {
     "data": {
      "text/plain": [
       "(570, 41)"
      ]
     },
     "execution_count": 2,
     "metadata": {},
     "output_type": "execute_result"
    }
   ],
   "source": [
    "#hide\n",
    "url = 'https://api.covid19india.org/csv/latest/state_wise_daily.csv'\n",
    "df = pd.read_csv(url)\n",
    "df.shape"
   ]
  },
  {
   "cell_type": "code",
   "execution_count": 3,
   "metadata": {
    "execution": {
     "iopub.execute_input": "2020-09-19T19:11:51.049303Z",
     "iopub.status.busy": "2020-09-19T19:11:51.041552Z",
     "iopub.status.idle": "2020-09-19T19:11:51.055591Z",
     "shell.execute_reply": "2020-09-19T19:11:51.056067Z"
    },
    "papermill": {
     "duration": 0.066422,
     "end_time": "2020-09-19T19:11:51.056218",
     "exception": false,
     "start_time": "2020-09-19T19:11:50.989796",
     "status": "completed"
    },
    "tags": []
   },
   "outputs": [
    {
     "data": {
      "text/html": [
       "<div>\n",
       "<style scoped>\n",
       "    .dataframe tbody tr th:only-of-type {\n",
       "        vertical-align: middle;\n",
       "    }\n",
       "\n",
       "    .dataframe tbody tr th {\n",
       "        vertical-align: top;\n",
       "    }\n",
       "\n",
       "    .dataframe thead th {\n",
       "        text-align: right;\n",
       "    }\n",
       "</style>\n",
       "<table border=\"1\" class=\"dataframe\">\n",
       "  <thead>\n",
       "    <tr style=\"text-align: right;\">\n",
       "      <th></th>\n",
       "      <th>Date</th>\n",
       "      <th>Status</th>\n",
       "      <th>TT</th>\n",
       "      <th>AN</th>\n",
       "      <th>AP</th>\n",
       "      <th>AR</th>\n",
       "      <th>AS</th>\n",
       "      <th>BR</th>\n",
       "      <th>CH</th>\n",
       "      <th>CT</th>\n",
       "      <th>...</th>\n",
       "      <th>PB</th>\n",
       "      <th>RJ</th>\n",
       "      <th>SK</th>\n",
       "      <th>TN</th>\n",
       "      <th>TG</th>\n",
       "      <th>TR</th>\n",
       "      <th>UP</th>\n",
       "      <th>UT</th>\n",
       "      <th>WB</th>\n",
       "      <th>UN</th>\n",
       "    </tr>\n",
       "  </thead>\n",
       "  <tbody>\n",
       "    <tr>\n",
       "      <th>564</th>\n",
       "      <td>18-Sep-20</td>\n",
       "      <td>Confirmed</td>\n",
       "      <td>92969</td>\n",
       "      <td>27</td>\n",
       "      <td>8096</td>\n",
       "      <td>154</td>\n",
       "      <td>2509</td>\n",
       "      <td>1147</td>\n",
       "      <td>260</td>\n",
       "      <td>3842</td>\n",
       "      <td>...</td>\n",
       "      <td>2774</td>\n",
       "      <td>1817</td>\n",
       "      <td>29</td>\n",
       "      <td>5488</td>\n",
       "      <td>2043</td>\n",
       "      <td>273</td>\n",
       "      <td>6494</td>\n",
       "      <td>868</td>\n",
       "      <td>3192</td>\n",
       "      <td>0</td>\n",
       "    </tr>\n",
       "    <tr>\n",
       "      <th>565</th>\n",
       "      <td>18-Sep-20</td>\n",
       "      <td>Recovered</td>\n",
       "      <td>95512</td>\n",
       "      <td>36</td>\n",
       "      <td>11803</td>\n",
       "      <td>139</td>\n",
       "      <td>2074</td>\n",
       "      <td>1678</td>\n",
       "      <td>353</td>\n",
       "      <td>3281</td>\n",
       "      <td>...</td>\n",
       "      <td>2640</td>\n",
       "      <td>1580</td>\n",
       "      <td>68</td>\n",
       "      <td>5525</td>\n",
       "      <td>1802</td>\n",
       "      <td>603</td>\n",
       "      <td>6806</td>\n",
       "      <td>1285</td>\n",
       "      <td>2960</td>\n",
       "      <td>0</td>\n",
       "    </tr>\n",
       "    <tr>\n",
       "      <th>566</th>\n",
       "      <td>18-Sep-20</td>\n",
       "      <td>Deceased</td>\n",
       "      <td>1221</td>\n",
       "      <td>0</td>\n",
       "      <td>67</td>\n",
       "      <td>0</td>\n",
       "      <td>12</td>\n",
       "      <td>4</td>\n",
       "      <td>4</td>\n",
       "      <td>17</td>\n",
       "      <td>...</td>\n",
       "      <td>60</td>\n",
       "      <td>15</td>\n",
       "      <td>3</td>\n",
       "      <td>67</td>\n",
       "      <td>11</td>\n",
       "      <td>6</td>\n",
       "      <td>98</td>\n",
       "      <td>4</td>\n",
       "      <td>59</td>\n",
       "      <td>0</td>\n",
       "    </tr>\n",
       "    <tr>\n",
       "      <th>567</th>\n",
       "      <td>19-Sep-20</td>\n",
       "      <td>Confirmed</td>\n",
       "      <td>86989</td>\n",
       "      <td>13</td>\n",
       "      <td>8218</td>\n",
       "      <td>0</td>\n",
       "      <td>2595</td>\n",
       "      <td>1616</td>\n",
       "      <td>290</td>\n",
       "      <td>0</td>\n",
       "      <td>...</td>\n",
       "      <td>0</td>\n",
       "      <td>1834</td>\n",
       "      <td>39</td>\n",
       "      <td>5569</td>\n",
       "      <td>2123</td>\n",
       "      <td>535</td>\n",
       "      <td>5729</td>\n",
       "      <td>2078</td>\n",
       "      <td>3188</td>\n",
       "      <td>0</td>\n",
       "    </tr>\n",
       "    <tr>\n",
       "      <th>568</th>\n",
       "      <td>19-Sep-20</td>\n",
       "      <td>Recovered</td>\n",
       "      <td>88750</td>\n",
       "      <td>22</td>\n",
       "      <td>10820</td>\n",
       "      <td>0</td>\n",
       "      <td>0</td>\n",
       "      <td>1556</td>\n",
       "      <td>351</td>\n",
       "      <td>0</td>\n",
       "      <td>...</td>\n",
       "      <td>0</td>\n",
       "      <td>1540</td>\n",
       "      <td>34</td>\n",
       "      <td>5556</td>\n",
       "      <td>2151</td>\n",
       "      <td>583</td>\n",
       "      <td>6596</td>\n",
       "      <td>878</td>\n",
       "      <td>2993</td>\n",
       "      <td>0</td>\n",
       "    </tr>\n",
       "    <tr>\n",
       "      <th>569</th>\n",
       "      <td>19-Sep-20</td>\n",
       "      <td>Deceased</td>\n",
       "      <td>1079</td>\n",
       "      <td>0</td>\n",
       "      <td>58</td>\n",
       "      <td>0</td>\n",
       "      <td>8</td>\n",
       "      <td>2</td>\n",
       "      <td>6</td>\n",
       "      <td>0</td>\n",
       "      <td>...</td>\n",
       "      <td>0</td>\n",
       "      <td>14</td>\n",
       "      <td>2</td>\n",
       "      <td>66</td>\n",
       "      <td>9</td>\n",
       "      <td>7</td>\n",
       "      <td>84</td>\n",
       "      <td>14</td>\n",
       "      <td>56</td>\n",
       "      <td>0</td>\n",
       "    </tr>\n",
       "  </tbody>\n",
       "</table>\n",
       "<p>6 rows × 41 columns</p>\n",
       "</div>"
      ],
      "text/plain": [
       "          Date     Status     TT  AN     AP   AR    AS    BR   CH    CT  ...  \\\n",
       "564  18-Sep-20  Confirmed  92969  27   8096  154  2509  1147  260  3842  ...   \n",
       "565  18-Sep-20  Recovered  95512  36  11803  139  2074  1678  353  3281  ...   \n",
       "566  18-Sep-20   Deceased   1221   0     67    0    12     4    4    17  ...   \n",
       "567  19-Sep-20  Confirmed  86989  13   8218    0  2595  1616  290     0  ...   \n",
       "568  19-Sep-20  Recovered  88750  22  10820    0     0  1556  351     0  ...   \n",
       "569  19-Sep-20   Deceased   1079   0     58    0     8     2    6     0  ...   \n",
       "\n",
       "       PB    RJ  SK    TN    TG   TR    UP    UT    WB  UN  \n",
       "564  2774  1817  29  5488  2043  273  6494   868  3192   0  \n",
       "565  2640  1580  68  5525  1802  603  6806  1285  2960   0  \n",
       "566    60    15   3    67    11    6    98     4    59   0  \n",
       "567     0  1834  39  5569  2123  535  5729  2078  3188   0  \n",
       "568     0  1540  34  5556  2151  583  6596   878  2993   0  \n",
       "569     0    14   2    66     9    7    84    14    56   0  \n",
       "\n",
       "[6 rows x 41 columns]"
      ]
     },
     "execution_count": 3,
     "metadata": {},
     "output_type": "execute_result"
    }
   ],
   "source": [
    "#hide\n",
    "df.tail(6)"
   ]
  },
  {
   "cell_type": "code",
   "execution_count": 4,
   "metadata": {
    "execution": {
     "iopub.execute_input": "2020-09-19T19:11:51.088151Z",
     "iopub.status.busy": "2020-09-19T19:11:51.087603Z",
     "iopub.status.idle": "2020-09-19T19:11:51.090346Z",
     "shell.execute_reply": "2020-09-19T19:11:51.090801Z"
    },
    "papermill": {
     "duration": 0.020768,
     "end_time": "2020-09-19T19:11:51.090914",
     "exception": false,
     "start_time": "2020-09-19T19:11:51.070146",
     "status": "completed"
    },
    "tags": []
   },
   "outputs": [
    {
     "data": {
      "text/plain": [
       "('19-Sep-20', '18-Sep-20')"
      ]
     },
     "execution_count": 4,
     "metadata": {},
     "output_type": "execute_result"
    }
   ],
   "source": [
    "#hide\n",
    "dt_today = df.iloc[-1][0]\n",
    "dt_yday = df.iloc[-4][0]\n",
    "dt_today, dt_yday"
   ]
  },
  {
   "cell_type": "code",
   "execution_count": 5,
   "metadata": {
    "execution": {
     "iopub.execute_input": "2020-09-19T19:11:51.119282Z",
     "iopub.status.busy": "2020-09-19T19:11:51.118732Z",
     "iopub.status.idle": "2020-09-19T19:11:51.125397Z",
     "shell.execute_reply": "2020-09-19T19:11:51.124890Z"
    },
    "papermill": {
     "duration": 0.023229,
     "end_time": "2020-09-19T19:11:51.125496",
     "exception": false,
     "start_time": "2020-09-19T19:11:51.102267",
     "status": "completed"
    },
    "tags": []
   },
   "outputs": [],
   "source": [
    "#hide\n",
    "df_today = df.groupby('Status').sum()\n",
    "df_yday = df.iloc[:-3][:].groupby('Status').sum()"
   ]
  },
  {
   "cell_type": "code",
   "execution_count": 6,
   "metadata": {
    "execution": {
     "iopub.execute_input": "2020-09-19T19:11:51.157443Z",
     "iopub.status.busy": "2020-09-19T19:11:51.156929Z",
     "iopub.status.idle": "2020-09-19T19:11:51.166336Z",
     "shell.execute_reply": "2020-09-19T19:11:51.165921Z"
    },
    "papermill": {
     "duration": 0.029083,
     "end_time": "2020-09-19T19:11:51.166438",
     "exception": false,
     "start_time": "2020-09-19T19:11:51.137355",
     "status": "completed"
    },
    "tags": []
   },
   "outputs": [
    {
     "data": {
      "text/html": [
       "<div>\n",
       "<style scoped>\n",
       "    .dataframe tbody tr th:only-of-type {\n",
       "        vertical-align: middle;\n",
       "    }\n",
       "\n",
       "    .dataframe tbody tr th {\n",
       "        vertical-align: top;\n",
       "    }\n",
       "\n",
       "    .dataframe thead th {\n",
       "        text-align: right;\n",
       "    }\n",
       "</style>\n",
       "<table border=\"1\" class=\"dataframe\">\n",
       "  <thead>\n",
       "    <tr style=\"text-align: right;\">\n",
       "      <th></th>\n",
       "      <th>TT</th>\n",
       "      <th>AN</th>\n",
       "      <th>AP</th>\n",
       "      <th>AR</th>\n",
       "      <th>AS</th>\n",
       "      <th>BR</th>\n",
       "      <th>CH</th>\n",
       "      <th>CT</th>\n",
       "      <th>DN</th>\n",
       "      <th>DD</th>\n",
       "      <th>...</th>\n",
       "      <th>PB</th>\n",
       "      <th>RJ</th>\n",
       "      <th>SK</th>\n",
       "      <th>TN</th>\n",
       "      <th>TG</th>\n",
       "      <th>TR</th>\n",
       "      <th>UP</th>\n",
       "      <th>UT</th>\n",
       "      <th>WB</th>\n",
       "      <th>UN</th>\n",
       "    </tr>\n",
       "    <tr>\n",
       "      <th>Status</th>\n",
       "      <th></th>\n",
       "      <th></th>\n",
       "      <th></th>\n",
       "      <th></th>\n",
       "      <th></th>\n",
       "      <th></th>\n",
       "      <th></th>\n",
       "      <th></th>\n",
       "      <th></th>\n",
       "      <th></th>\n",
       "      <th></th>\n",
       "      <th></th>\n",
       "      <th></th>\n",
       "      <th></th>\n",
       "      <th></th>\n",
       "      <th></th>\n",
       "      <th></th>\n",
       "      <th></th>\n",
       "      <th></th>\n",
       "      <th></th>\n",
       "      <th></th>\n",
       "    </tr>\n",
       "  </thead>\n",
       "  <tbody>\n",
       "    <tr>\n",
       "      <th>Confirmed</th>\n",
       "      <td>5392011</td>\n",
       "      <td>3640</td>\n",
       "      <td>617776</td>\n",
       "      <td>7005</td>\n",
       "      <td>155351</td>\n",
       "      <td>166987</td>\n",
       "      <td>9806</td>\n",
       "      <td>81617</td>\n",
       "      <td>2875</td>\n",
       "      <td>0</td>\n",
       "      <td>...</td>\n",
       "      <td>92806</td>\n",
       "      <td>113124</td>\n",
       "      <td>2355</td>\n",
       "      <td>536477</td>\n",
       "      <td>168659</td>\n",
       "      <td>21504</td>\n",
       "      <td>348517</td>\n",
       "      <td>40085</td>\n",
       "      <td>221960</td>\n",
       "      <td>0</td>\n",
       "    </tr>\n",
       "    <tr>\n",
       "      <th>Deceased</th>\n",
       "      <td>86119</td>\n",
       "      <td>52</td>\n",
       "      <td>5302</td>\n",
       "      <td>13</td>\n",
       "      <td>552</td>\n",
       "      <td>861</td>\n",
       "      <td>116</td>\n",
       "      <td>645</td>\n",
       "      <td>2</td>\n",
       "      <td>0</td>\n",
       "      <td>...</td>\n",
       "      <td>2706</td>\n",
       "      <td>1322</td>\n",
       "      <td>28</td>\n",
       "      <td>8751</td>\n",
       "      <td>1025</td>\n",
       "      <td>235</td>\n",
       "      <td>4953</td>\n",
       "      <td>478</td>\n",
       "      <td>4298</td>\n",
       "      <td>0</td>\n",
       "    </tr>\n",
       "    <tr>\n",
       "      <th>Recovered</th>\n",
       "      <td>4294077</td>\n",
       "      <td>3427</td>\n",
       "      <td>530711</td>\n",
       "      <td>5106</td>\n",
       "      <td>123684</td>\n",
       "      <td>152956</td>\n",
       "      <td>6766</td>\n",
       "      <td>44392</td>\n",
       "      <td>2633</td>\n",
       "      <td>0</td>\n",
       "      <td>...</td>\n",
       "      <td>68458</td>\n",
       "      <td>93805</td>\n",
       "      <td>1892</td>\n",
       "      <td>481273</td>\n",
       "      <td>137508</td>\n",
       "      <td>14142</td>\n",
       "      <td>276690</td>\n",
       "      <td>26973</td>\n",
       "      <td>193014</td>\n",
       "      <td>0</td>\n",
       "    </tr>\n",
       "  </tbody>\n",
       "</table>\n",
       "<p>3 rows × 39 columns</p>\n",
       "</div>"
      ],
      "text/plain": [
       "                TT    AN      AP    AR      AS      BR    CH     CT    DN  DD  \\\n",
       "Status                                                                          \n",
       "Confirmed  5392011  3640  617776  7005  155351  166987  9806  81617  2875   0   \n",
       "Deceased     86119    52    5302    13     552     861   116    645     2   0   \n",
       "Recovered  4294077  3427  530711  5106  123684  152956  6766  44392  2633   0   \n",
       "\n",
       "           ...     PB      RJ    SK      TN      TG     TR      UP     UT  \\\n",
       "Status     ...                                                              \n",
       "Confirmed  ...  92806  113124  2355  536477  168659  21504  348517  40085   \n",
       "Deceased   ...   2706    1322    28    8751    1025    235    4953    478   \n",
       "Recovered  ...  68458   93805  1892  481273  137508  14142  276690  26973   \n",
       "\n",
       "               WB  UN  \n",
       "Status                 \n",
       "Confirmed  221960   0  \n",
       "Deceased     4298   0  \n",
       "Recovered  193014   0  \n",
       "\n",
       "[3 rows x 39 columns]"
      ]
     },
     "execution_count": 6,
     "metadata": {},
     "output_type": "execute_result"
    }
   ],
   "source": [
    "#hide\n",
    "df_today"
   ]
  },
  {
   "cell_type": "code",
   "execution_count": 7,
   "metadata": {
    "execution": {
     "iopub.execute_input": "2020-09-19T19:11:51.206230Z",
     "iopub.status.busy": "2020-09-19T19:11:51.205550Z",
     "iopub.status.idle": "2020-09-19T19:11:51.208924Z",
     "shell.execute_reply": "2020-09-19T19:11:51.208286Z"
    },
    "papermill": {
     "duration": 0.030062,
     "end_time": "2020-09-19T19:11:51.209032",
     "exception": false,
     "start_time": "2020-09-19T19:11:51.178970",
     "status": "completed"
    },
    "tags": []
   },
   "outputs": [
    {
     "data": {
      "text/html": [
       "<div>\n",
       "<style scoped>\n",
       "    .dataframe tbody tr th:only-of-type {\n",
       "        vertical-align: middle;\n",
       "    }\n",
       "\n",
       "    .dataframe tbody tr th {\n",
       "        vertical-align: top;\n",
       "    }\n",
       "\n",
       "    .dataframe thead th {\n",
       "        text-align: right;\n",
       "    }\n",
       "</style>\n",
       "<table border=\"1\" class=\"dataframe\">\n",
       "  <thead>\n",
       "    <tr style=\"text-align: right;\">\n",
       "      <th></th>\n",
       "      <th>TT</th>\n",
       "      <th>AN</th>\n",
       "      <th>AP</th>\n",
       "      <th>AR</th>\n",
       "      <th>AS</th>\n",
       "      <th>BR</th>\n",
       "      <th>CH</th>\n",
       "      <th>CT</th>\n",
       "      <th>DN</th>\n",
       "      <th>DD</th>\n",
       "      <th>...</th>\n",
       "      <th>PB</th>\n",
       "      <th>RJ</th>\n",
       "      <th>SK</th>\n",
       "      <th>TN</th>\n",
       "      <th>TG</th>\n",
       "      <th>TR</th>\n",
       "      <th>UP</th>\n",
       "      <th>UT</th>\n",
       "      <th>WB</th>\n",
       "      <th>UN</th>\n",
       "    </tr>\n",
       "    <tr>\n",
       "      <th>Status</th>\n",
       "      <th></th>\n",
       "      <th></th>\n",
       "      <th></th>\n",
       "      <th></th>\n",
       "      <th></th>\n",
       "      <th></th>\n",
       "      <th></th>\n",
       "      <th></th>\n",
       "      <th></th>\n",
       "      <th></th>\n",
       "      <th></th>\n",
       "      <th></th>\n",
       "      <th></th>\n",
       "      <th></th>\n",
       "      <th></th>\n",
       "      <th></th>\n",
       "      <th></th>\n",
       "      <th></th>\n",
       "      <th></th>\n",
       "      <th></th>\n",
       "      <th></th>\n",
       "    </tr>\n",
       "  </thead>\n",
       "  <tbody>\n",
       "    <tr>\n",
       "      <th>Confirmed</th>\n",
       "      <td>5305022</td>\n",
       "      <td>3627</td>\n",
       "      <td>609558</td>\n",
       "      <td>7005</td>\n",
       "      <td>152756</td>\n",
       "      <td>165371</td>\n",
       "      <td>9516</td>\n",
       "      <td>81617</td>\n",
       "      <td>2847</td>\n",
       "      <td>0</td>\n",
       "      <td>...</td>\n",
       "      <td>92806</td>\n",
       "      <td>111290</td>\n",
       "      <td>2316</td>\n",
       "      <td>530908</td>\n",
       "      <td>166536</td>\n",
       "      <td>20969</td>\n",
       "      <td>342788</td>\n",
       "      <td>38007</td>\n",
       "      <td>218772</td>\n",
       "      <td>0</td>\n",
       "    </tr>\n",
       "    <tr>\n",
       "      <th>Deceased</th>\n",
       "      <td>85040</td>\n",
       "      <td>52</td>\n",
       "      <td>5244</td>\n",
       "      <td>13</td>\n",
       "      <td>544</td>\n",
       "      <td>859</td>\n",
       "      <td>110</td>\n",
       "      <td>645</td>\n",
       "      <td>2</td>\n",
       "      <td>0</td>\n",
       "      <td>...</td>\n",
       "      <td>2706</td>\n",
       "      <td>1308</td>\n",
       "      <td>26</td>\n",
       "      <td>8685</td>\n",
       "      <td>1016</td>\n",
       "      <td>228</td>\n",
       "      <td>4869</td>\n",
       "      <td>464</td>\n",
       "      <td>4242</td>\n",
       "      <td>0</td>\n",
       "    </tr>\n",
       "    <tr>\n",
       "      <th>Recovered</th>\n",
       "      <td>4205327</td>\n",
       "      <td>3405</td>\n",
       "      <td>519891</td>\n",
       "      <td>5106</td>\n",
       "      <td>123684</td>\n",
       "      <td>151400</td>\n",
       "      <td>6415</td>\n",
       "      <td>44392</td>\n",
       "      <td>2610</td>\n",
       "      <td>0</td>\n",
       "      <td>...</td>\n",
       "      <td>68458</td>\n",
       "      <td>92265</td>\n",
       "      <td>1858</td>\n",
       "      <td>475717</td>\n",
       "      <td>135357</td>\n",
       "      <td>13559</td>\n",
       "      <td>270094</td>\n",
       "      <td>26095</td>\n",
       "      <td>190021</td>\n",
       "      <td>0</td>\n",
       "    </tr>\n",
       "  </tbody>\n",
       "</table>\n",
       "<p>3 rows × 39 columns</p>\n",
       "</div>"
      ],
      "text/plain": [
       "                TT    AN      AP    AR      AS      BR    CH     CT    DN  DD  \\\n",
       "Status                                                                          \n",
       "Confirmed  5305022  3627  609558  7005  152756  165371  9516  81617  2847   0   \n",
       "Deceased     85040    52    5244    13     544     859   110    645     2   0   \n",
       "Recovered  4205327  3405  519891  5106  123684  151400  6415  44392  2610   0   \n",
       "\n",
       "           ...     PB      RJ    SK      TN      TG     TR      UP     UT  \\\n",
       "Status     ...                                                              \n",
       "Confirmed  ...  92806  111290  2316  530908  166536  20969  342788  38007   \n",
       "Deceased   ...   2706    1308    26    8685    1016    228    4869    464   \n",
       "Recovered  ...  68458   92265  1858  475717  135357  13559  270094  26095   \n",
       "\n",
       "               WB  UN  \n",
       "Status                 \n",
       "Confirmed  218772   0  \n",
       "Deceased     4242   0  \n",
       "Recovered  190021   0  \n",
       "\n",
       "[3 rows x 39 columns]"
      ]
     },
     "execution_count": 7,
     "metadata": {},
     "output_type": "execute_result"
    }
   ],
   "source": [
    "#hide\n",
    "df_yday.head()"
   ]
  },
  {
   "cell_type": "code",
   "execution_count": 8,
   "metadata": {
    "execution": {
     "iopub.execute_input": "2020-09-19T19:11:51.242741Z",
     "iopub.status.busy": "2020-09-19T19:11:51.242143Z",
     "iopub.status.idle": "2020-09-19T19:11:51.245453Z",
     "shell.execute_reply": "2020-09-19T19:11:51.244460Z"
    },
    "papermill": {
     "duration": 0.023329,
     "end_time": "2020-09-19T19:11:51.245589",
     "exception": false,
     "start_time": "2020-09-19T19:11:51.222260",
     "status": "completed"
    },
    "tags": []
   },
   "outputs": [
    {
     "data": {
      "text/plain": [
       "{'updated': '19-Sep-20',\n",
       " 'since': '18-Sep-20',\n",
       " 'Cases': 5392011,\n",
       " 'Deaths': 86119,\n",
       " 'Recovered': 4294077,\n",
       " 'PCases': 5305022,\n",
       " 'PDeaths': 85040,\n",
       " 'PRecovered': 4205327,\n",
       " 'Cases (+)': 86989,\n",
       " 'Deaths (+)': 1079,\n",
       " 'Recovered (+)': 88750}"
      ]
     },
     "execution_count": 8,
     "metadata": {},
     "output_type": "execute_result"
    }
   ],
   "source": [
    "#hide\n",
    "summary = {\n",
    "    'updated' : dt_today,\n",
    "    'since' : dt_yday,\n",
    "    'Cases' : df_today['TT'][0],\n",
    "    'Deaths' : df_today['TT'][1],\n",
    "    'Recovered' : df_today['TT'][2],\n",
    "    'PCases' : df_yday['TT'][0],\n",
    "    'PDeaths' : df_yday['TT'][1],\n",
    "    'PRecovered': df_yday['TT'][2],\n",
    "    'Cases (+)' : df_today['TT'][0] - df_yday['TT'][0],\n",
    "    'Deaths (+)' : df_today['TT'][1] - df_yday['TT'][1],\n",
    "    'Recovered (+)': df_today['TT'][2] - df_yday['TT'][2]\n",
    "}\n",
    "\n",
    "summary"
   ]
  },
  {
   "cell_type": "code",
   "execution_count": 9,
   "metadata": {
    "execution": {
     "iopub.execute_input": "2020-09-19T19:11:51.277001Z",
     "iopub.status.busy": "2020-09-19T19:11:51.276290Z",
     "iopub.status.idle": "2020-09-19T19:11:51.278653Z",
     "shell.execute_reply": "2020-09-19T19:11:51.278085Z"
    },
    "papermill": {
     "duration": 0.019646,
     "end_time": "2020-09-19T19:11:51.278760",
     "exception": false,
     "start_time": "2020-09-19T19:11:51.259114",
     "status": "completed"
    },
    "tags": []
   },
   "outputs": [],
   "source": [
    "#hide\n",
    "overview = '''\n",
    "<!-- #######  HTML!! #########-->\n",
    "<h1 style=\"color: #5e9ca0; text-align: center;\">India</h1>\n",
    "<p style=\"text-align: center;\">Last update: <strong>{update}</strong></p>\n",
    "<p style=\"text-align: center;\">Confirmed cases:</p>\n",
    "<p style=\"text-align: center;font-size:24px;\">{cases} (<span style=\"color: #ff0000;\">+{new}</span>)</p>\n",
    "<p style=\"text-align: center;\">Confirmed deaths:</p>\n",
    "<p style=\"text-align: center;font-size:24px;\">{deaths} (<span style=\"color: #ff0000;\">+{dnew}</span>)</p>\n",
    "<p style=\"text-align: center;\">Recovered cases:</p>\n",
    "<p style=\"text-align: center;font-size:24px;\">{recovered} (<span style=\"color: #00ff00;\">+{rnew}</span>)</p>\n",
    "'''"
   ]
  },
  {
   "cell_type": "code",
   "execution_count": 10,
   "metadata": {
    "execution": {
     "iopub.execute_input": "2020-09-19T19:11:51.310008Z",
     "iopub.status.busy": "2020-09-19T19:11:51.309480Z",
     "iopub.status.idle": "2020-09-19T19:11:51.312817Z",
     "shell.execute_reply": "2020-09-19T19:11:51.312363Z"
    },
    "papermill": {
     "duration": 0.021178,
     "end_time": "2020-09-19T19:11:51.312915",
     "exception": false,
     "start_time": "2020-09-19T19:11:51.291737",
     "status": "completed"
    },
    "tags": []
   },
   "outputs": [
    {
     "data": {
      "text/html": [
       "\n",
       "<!-- #######  HTML!! #########-->\n",
       "<h1 style=\"color: #5e9ca0; text-align: center;\">India</h1>\n",
       "<p style=\"text-align: center;\">Last update: <strong>19-Sep-20</strong></p>\n",
       "<p style=\"text-align: center;\">Confirmed cases:</p>\n",
       "<p style=\"text-align: center;font-size:24px;\">5392011 (<span style=\"color: #ff0000;\">+86989</span>)</p>\n",
       "<p style=\"text-align: center;\">Confirmed deaths:</p>\n",
       "<p style=\"text-align: center;font-size:24px;\">86119 (<span style=\"color: #ff0000;\">+1079</span>)</p>\n",
       "<p style=\"text-align: center;\">Recovered cases:</p>\n",
       "<p style=\"text-align: center;font-size:24px;\">4294077 (<span style=\"color: #00ff00;\">+88750</span>)</p>\n"
      ],
      "text/plain": [
       "<IPython.core.display.HTML object>"
      ]
     },
     "metadata": {},
     "output_type": "display_data"
    }
   ],
   "source": [
    "#hide_input\n",
    "# Fill the above HTML with the information from the summary dictionary\n",
    "\n",
    "update = summary['updated']\n",
    "cases = summary['Cases']\n",
    "new = summary['Cases (+)']\n",
    "deaths = summary['Deaths']\n",
    "dnew = summary['Deaths (+)']\n",
    "recovered = summary['Recovered']\n",
    "rnew = summary['Recovered (+)']\n",
    "\n",
    "html = HTML(overview.format(update=update, cases=cases,new=new,deaths=deaths,dnew=dnew, recovered=recovered, rnew=rnew))\n",
    "\n",
    "display(html)"
   ]
  },
  {
   "cell_type": "code",
   "execution_count": 11,
   "metadata": {
    "execution": {
     "iopub.execute_input": "2020-09-19T19:11:51.349276Z",
     "iopub.status.busy": "2020-09-19T19:11:51.348698Z",
     "iopub.status.idle": "2020-09-19T19:11:51.350911Z",
     "shell.execute_reply": "2020-09-19T19:11:51.350412Z"
    },
    "papermill": {
     "duration": 0.024649,
     "end_time": "2020-09-19T19:11:51.351010",
     "exception": false,
     "start_time": "2020-09-19T19:11:51.326361",
     "status": "completed"
    },
    "tags": []
   },
   "outputs": [],
   "source": [
    "#hide\n",
    "df_cases = df[df['Status'] == 'Confirmed'].copy()\n",
    "df_cases.drop(columns = ['Status'], inplace=True)\n",
    "df_deaths = df[df['Status'] == 'Deceased'].copy()\n",
    "df_deaths.drop(columns = ['Status'], inplace=True)\n",
    "df_recovered = df[df['Status'] == 'Recovered'].copy()\n",
    "df_recovered.drop(columns = ['Status'], inplace=True)"
   ]
  },
  {
   "cell_type": "markdown",
   "metadata": {
    "papermill": {
     "duration": 0.013671,
     "end_time": "2020-09-19T19:11:51.378496",
     "exception": false,
     "start_time": "2020-09-19T19:11:51.364825",
     "status": "completed"
    },
    "tags": []
   },
   "source": [
    "Plot for India:"
   ]
  },
  {
   "cell_type": "code",
   "execution_count": 12,
   "metadata": {
    "execution": {
     "iopub.execute_input": "2020-09-19T19:11:51.427622Z",
     "iopub.status.busy": "2020-09-19T19:11:51.427027Z",
     "iopub.status.idle": "2020-09-19T19:11:51.682095Z",
     "shell.execute_reply": "2020-09-19T19:11:51.682673Z"
    },
    "papermill": {
     "duration": 0.290234,
     "end_time": "2020-09-19T19:11:51.683001",
     "exception": false,
     "start_time": "2020-09-19T19:11:51.392767",
     "status": "completed"
    },
    "tags": []
   },
   "outputs": [
    {
     "data": {
      "image/png": "[encoded data removed]",
      "text/plain": [
       "<Figure size 1296x432 with 1 Axes>"
      ]
     },
     "metadata": {
      "needs_background": "light"
     },
     "output_type": "display_data"
    }
   ],
   "source": [
    "#hide_input\n",
    "plt.figure(figsize = (18,6))\n",
    "plt.plot(df_cases['Date'], df_cases['TT'],'.-', alpha=0.7, color='b', label='Confirmed cases')\n",
    "plt.plot(df_recovered['Date'], df_recovered['TT'],'.-', alpha=0.7, color='g', label='Recovered')\n",
    "plt.plot(df_deaths['Date'], df_deaths['TT'],'.-', alpha=0.7, color='r', label='Deceased')\n",
    "plt.legend()\n",
    "plt.title(\"Cases per day in India\")\n",
    "plt.xticks(ticks=' ')\n",
    "plt.xlabel(f'{df_cases.iloc[0][0]} to {df_cases.iloc[-1][0]}')\n",
    "plt.ylabel('No. of cases');"
   ]
  },
  {
   "cell_type": "markdown",
   "metadata": {
    "papermill": {
     "duration": 0.016243,
     "end_time": "2020-09-19T19:11:51.715932",
     "exception": false,
     "start_time": "2020-09-19T19:11:51.699689",
     "status": "completed"
    },
    "tags": []
   },
   "source": [
    "Plots for the states with highest number of cases:"
   ]
  },
  {
   "cell_type": "code",
   "execution_count": 13,
   "metadata": {
    "execution": {
     "iopub.execute_input": "2020-09-19T19:11:51.781485Z",
     "iopub.status.busy": "2020-09-19T19:11:51.780865Z",
     "iopub.status.idle": "2020-09-19T19:11:52.375592Z",
     "shell.execute_reply": "2020-09-19T19:11:52.375081Z"
    },
    "papermill": {
     "duration": 0.644152,
     "end_time": "2020-09-19T19:11:52.375739",
     "exception": false,
     "start_time": "2020-09-19T19:11:51.731587",
     "status": "completed"
    },
    "tags": []
   },
   "outputs": [
    {
     "data": {
      "image/png": "[encoded data removed]",
      "text/plain": [
       "<Figure size 1512x432 with 3 Axes>"
      ]
     },
     "metadata": {
      "needs_background": "light"
     },
     "output_type": "display_data"
    }
   ],
   "source": [
    "#hide_input\n",
    "top_3 = sorted(df_cases.sum().values[1:], reverse=True)[1:4]\n",
    "top3_states=[]\n",
    "for i in top_3:\n",
    "    top3_states.append(df_cases.sum()[df_cases.sum() == i].index)\n",
    "\n",
    "\n",
    "fig, ax = plt.subplots(1,3,figsize = (21,6))\n",
    "for i in range(3):\n",
    "    state = top3_states[i].values[0]\n",
    "    ax[i].plot(df_cases['Date'], df_cases[state],'.-', color='b', alpha=0.7)\n",
    "    ax[i].plot(df_deaths['Date'], df_deaths[state],'.-', color='r', alpha=0.7)\n",
    "    ax[i].plot(df_recovered['Date'], df_recovered[state],'.-', color='g', alpha=0.7)\n",
    "    \n",
    "    ax[i].set_title(f\"Cases in {state}\")\n",
    "    ax[i].set_xticks(ticks=' ')\n",
    "    ax[i].set_xlabel(f'{df_cases.iloc[0][0]} to {df_cases.iloc[-1][0]}')\n",
    "    ax[i].set_ylabel('No. of cases');"
   ]
  },
  {
   "cell_type": "code",
   "execution_count": null,
   "metadata": {
    "papermill": {
     "duration": 0.017369,
     "end_time": "2020-09-19T19:11:52.411176",
     "exception": false,
     "start_time": "2020-09-19T19:11:52.393807",
     "status": "completed"
    },
    "tags": []
   },
   "outputs": [],
   "source": []
  },
  {
   "cell_type": "code",
   "execution_count": null,
   "metadata": {
    "papermill": {
     "duration": 0.017724,
     "end_time": "2020-09-19T19:11:52.445898",
     "exception": false,
     "start_time": "2020-09-19T19:11:52.428174",
     "status": "completed"
    },
    "tags": []
   },
   "outputs": [],
   "source": []
  },
  {
   "cell_type": "code",
   "execution_count": null,
   "metadata": {
    "papermill": {
     "duration": 0.021322,
     "end_time": "2020-09-19T19:11:52.487928",
     "exception": false,
     "start_time": "2020-09-19T19:11:52.466606",
     "status": "completed"
    },
    "tags": []
   },
   "outputs": [],
   "source": []
  }
 ],
 "metadata": {
  "kernelspec": {
   "display_name": "Python 3",
   "language": "python",
   "name": "python3"
  },
  "language_info": {
   "codemirror_mode": {
    "name": "ipython",
    "version": 3
   },
   "file_extension": ".py",
   "mimetype": "text/x-python",
   "name": "python",
   "nbconvert_exporter": "python",
   "pygments_lexer": "ipython3",
   "version": "3.6.12"
  },
  "papermill": {
   "duration": 3.686012,
   "end_time": "2020-09-19T19:11:52.818075",
   "environment_variables": {},
   "exception": null,
   "input_path": "2020-08-09-DailyUpdate.ipynb",
   "output_path": "2020-08-09-DailyUpdate.ipynb",
   "parameters": {},
   "start_time": "2020-09-19T19:11:49.132063",
   "version": "2.1.2"
  }
 },
 "nbformat": 4,
 "nbformat_minor": 4
}